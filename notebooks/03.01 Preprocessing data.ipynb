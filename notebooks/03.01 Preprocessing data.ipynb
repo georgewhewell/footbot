{
 "cells": [
  {
   "cell_type": "markdown",
   "metadata": {},
   "source": [
    "# Setting up"
   ]
  },
  {
   "cell_type": "code",
   "execution_count": 2,
   "metadata": {
    "ExecuteTime": {
     "end_time": "2019-12-15T09:43:41.319558Z",
     "start_time": "2019-12-15T09:43:36.503067Z"
    }
   },
   "outputs": [],
   "source": [
    "from footbot.data import utils\n",
    "import pandas as pd"
   ]
  },
  {
   "cell_type": "markdown",
   "metadata": {},
   "source": [
    "# Getting data"
   ]
  },
  {
   "cell_type": "code",
   "execution_count": 1,
   "metadata": {
    "ExecuteTime": {
     "end_time": "2019-12-15T09:43:01.040771Z",
     "start_time": "2019-12-15T09:43:01.030043Z"
    }
   },
   "outputs": [],
   "source": [
    "sql = '''\n",
    "SELECT\n",
    "  total_points,\n",
    "  element_type,\n",
    "  team,\n",
    "  value,\n",
    "  total_points_per_minute_previous_season,\n",
    "  goals_scored_per_minute_previous_season,\n",
    "  assists_per_minute_previous_season,\n",
    "  clean_sheets_per_minute_previous_season,\n",
    "  goals_conceded_per_minute_previous_season,\n",
    "  own_goals_per_minute_previous_season,\n",
    "  penalties_saved_per_minute_previous_season,\n",
    "  penalties_missed_per_minute_previous_season,\n",
    "  yellow_cards_per_minute_previous_season,\n",
    "  red_cards_per_minute_previous_season,\n",
    "  saves_per_minute_previous_season,\n",
    "  bonus_per_minute_previous_season,\n",
    "  bps_per_minute_previous_season,\n",
    "  opponent_team,\n",
    "  was_home,\n",
    "  was_sunday,\n",
    "  was_weekday,\n",
    "  was_late,\n",
    "  was_early,\n",
    "  rolling_avg_total_points_element,\n",
    "  rolling_avg_minutes_element,\n",
    "  rolling_avg_goals_scored_element,\n",
    "  rolling_avg_assists_element,\n",
    "  rolling_avg_clean_sheets_element,\n",
    "  rolling_avg_goals_conceded_element,\n",
    "  rolling_avg_own_goals_element,\n",
    "  rolling_avg_penalties_saved_element,\n",
    "  rolling_avg_penalties_missed_element,\n",
    "  rolling_avg_yellow_cards_element,\n",
    "  rolling_avg_red_cards_element,\n",
    "  rolling_avg_saves_element,\n",
    "  rolling_avg_bonus_element,\n",
    "  rolling_avg_bps_element,\n",
    "  rolling_avg_total_points_element_p1,\n",
    "  rolling_avg_total_points_element_p2,\n",
    "  rolling_avg_total_points_element_p3,\n",
    "  rolling_avg_total_points_element_p4,\n",
    "  rolling_avg_total_points_element_p5,\n",
    "  rolling_avg_total_points_element_p10,\n",
    "  rolling_avg_goals_scored_element_p1,\n",
    "  rolling_avg_goals_scored_element_p2,\n",
    "  rolling_avg_goals_scored_element_p3,\n",
    "  rolling_avg_goals_scored_element_p4,\n",
    "  rolling_avg_goals_scored_element_p5,\n",
    "  rolling_avg_goals_scored_element_p10,\n",
    "  rolling_avg_assists_element_p1,\n",
    "  rolling_avg_assists_element_p2,\n",
    "  rolling_avg_assists_element_p3,\n",
    "  rolling_avg_assists_element_p4,\n",
    "  rolling_avg_assists_element_p5,\n",
    "  rolling_avg_assists_element_p10,\n",
    "  rolling_avg_clean_sheets_element_p1,\n",
    "  rolling_avg_clean_sheets_element_p2,\n",
    "  rolling_avg_clean_sheets_element_p3,\n",
    "  rolling_avg_clean_sheets_element_p4,\n",
    "  rolling_avg_clean_sheets_element_p5,\n",
    "  rolling_avg_clean_sheets_element_p10,\n",
    "  rolling_avg_goals_conceded_element_p1,\n",
    "  rolling_avg_goals_conceded_element_p2,\n",
    "  rolling_avg_goals_conceded_element_p3,\n",
    "  rolling_avg_goals_conceded_element_p4,\n",
    "  rolling_avg_goals_conceded_element_p5,\n",
    "  rolling_avg_goals_conceded_element_p10,\n",
    "  rolling_avg_saves_element_p1,\n",
    "  rolling_avg_saves_element_p2,\n",
    "  rolling_avg_saves_element_p3,\n",
    "  rolling_avg_saves_element_p4,\n",
    "  rolling_avg_saves_element_p5,\n",
    "  rolling_avg_saves_element_p10,\n",
    "  rolling_avg_minutes_element_p1,\n",
    "  rolling_avg_minutes_element_p2,\n",
    "  rolling_avg_minutes_element_p3,\n",
    "  rolling_avg_minutes_element_p4,\n",
    "  rolling_avg_minutes_element_p5,\n",
    "  rolling_avg_minutes_element_p10,\n",
    "  rolling_avg_total_points_against_opponent_team_element_type,\n",
    "  rolling_avg_minutes_against_opponent_team_element_type,\n",
    "  rolling_avg_goals_scored_against_opponent_team_element_type,\n",
    "  rolling_avg_assists_against_opponent_team_element_type,\n",
    "  rolling_avg_clean_sheets_against_opponent_team_element_type,\n",
    "  rolling_avg_goals_conceded_against_opponent_team_element_type,\n",
    "  rolling_avg_own_goals_against_opponent_team_element_type,\n",
    "  rolling_avg_penalties_saved_against_opponent_team_element_type,\n",
    "  rolling_avg_penalties_missed_against_opponent_team_element_type,\n",
    "  rolling_avg_yellow_cards_against_opponent_team_element_type,\n",
    "  rolling_avg_red_cards_against_opponent_team_element_type,\n",
    "  rolling_avg_saves_against_opponent_team_element_type,\n",
    "  rolling_avg_bonus_against_opponent_team_element_type,\n",
    "  rolling_avg_bps_against_opponent_team_element_type,\n",
    "  rolling_avg_total_points_element_type,\n",
    "  rolling_avg_minutes_element_type,\n",
    "  rolling_avg_goals_scored_element_type,\n",
    "  rolling_avg_assists_element_type,\n",
    "  rolling_avg_clean_sheets_element_type,\n",
    "  rolling_avg_goals_conceded_element_type,\n",
    "  rolling_avg_own_goals_element_type,\n",
    "  rolling_avg_penalties_saved_element_type,\n",
    "  rolling_avg_penalties_missed_element_type,\n",
    "  rolling_avg_yellow_cards_element_type,\n",
    "  rolling_avg_red_cards_element_type,\n",
    "  rolling_avg_saves_element_type,\n",
    "  rolling_avg_bonus_element_type,\n",
    "  rolling_avg_bps_element_type,\n",
    "  expected_total_points_against_opponent_team_element_type,\n",
    "  expected_minutes_against_opponent_team_element_type,\n",
    "  expected_goals_scored_against_opponent_team_element_type,\n",
    "  expected_assists_against_opponent_team_element_type,\n",
    "  expected_clean_sheets_against_opponent_team_element_type,\n",
    "  expected_goals_conceded_against_opponent_team_element_type,\n",
    "  expected_own_goals_against_opponent_team_element_type,\n",
    "  expected_penalties_saved_against_opponent_team_element_type,\n",
    "  expected_penalties_missed_against_opponent_team_element_type,\n",
    "  expected_yellow_cards_against_opponent_team_element_type,\n",
    "  expected_red_cards_against_opponent_team_element_type,\n",
    "  expected_saves_against_opponent_team_element_type,\n",
    "  expected_bonus_against_opponent_team_element_type,\n",
    "  expected_bps_against_opponent_team_element_type,\n",
    "  rolling_avg_squad,\n",
    "  rolling_avg_first_team,\n",
    "  rolling_avg_vice_or_captain,\n",
    "  rolling_avg_squad_p1,\n",
    "  rolling_avg_first_team_p1,\n",
    "  rolling_avg_vice_or_captain_p1\n",
    "FROM\n",
    "  `footbot-001.fpl.element_gameweeks_features_1920_v01`\n",
    "WHERE\n",
    "  rolling_avg_total_points_element >= 2\n",
    "'''"
   ]
  },
  {
   "cell_type": "code",
   "execution_count": 3,
   "metadata": {
    "ExecuteTime": {
     "end_time": "2019-12-15T09:48:22.642265Z",
     "start_time": "2019-12-15T09:48:22.392977Z"
    }
   },
   "outputs": [
    {
     "ename": "AttributeError",
     "evalue": "module 'footbot.data.utils' has no attribute 'run_query'",
     "output_type": "error",
     "traceback": [
      "\u001b[0;31m---------------------------------------------------------------------------\u001b[0m",
      "\u001b[0;31mAttributeError\u001b[0m                            Traceback (most recent call last)",
      "\u001b[0;32m<ipython-input-3-5ad60d0eb5a6>\u001b[0m in \u001b[0;36m<module>\u001b[0;34m\u001b[0m\n\u001b[0;32m----> 1\u001b[0;31m df = utils.run_query(\n\u001b[0m\u001b[1;32m      2\u001b[0m     \u001b[0msql\u001b[0m\u001b[0;34m,\u001b[0m\u001b[0;34m\u001b[0m\u001b[0;34m\u001b[0m\u001b[0m\n\u001b[1;32m      3\u001b[0m     \u001b[0msecrets_path\u001b[0m\u001b[0;34m=\u001b[0m\u001b[0;34m'../secrets/service_account.json'\u001b[0m\u001b[0;34m\u001b[0m\u001b[0;34m\u001b[0m\u001b[0m\n\u001b[1;32m      4\u001b[0m )\n",
      "\u001b[0;31mAttributeError\u001b[0m: module 'footbot.data.utils' has no attribute 'run_query'"
     ]
    }
   ],
   "source": [
    "df = utils.run_query(\n",
    "    sql,\n",
    "    secrets_path='../secrets/service_account.json'\n",
    ")"
   ]
  },
  {
   "cell_type": "code",
   "execution_count": null,
   "metadata": {},
   "outputs": [],
   "source": []
  }
 ],
 "metadata": {
  "kernelspec": {
   "display_name": "Python 3",
   "language": "python",
   "name": "python3"
  },
  "language_info": {
   "codemirror_mode": {
    "name": "ipython",
    "version": 3
   },
   "file_extension": ".py",
   "mimetype": "text/x-python",
   "name": "python",
   "nbconvert_exporter": "python",
   "pygments_lexer": "ipython3",
   "version": "3.6.7"
  },
  "toc": {
   "nav_menu": {},
   "number_sections": true,
   "sideBar": true,
   "skip_h1_title": false,
   "title_cell": "Table of Contents",
   "title_sidebar": "Contents",
   "toc_cell": false,
   "toc_position": {},
   "toc_section_display": true,
   "toc_window_display": false
  }
 },
 "nbformat": 4,
 "nbformat_minor": 2
}
