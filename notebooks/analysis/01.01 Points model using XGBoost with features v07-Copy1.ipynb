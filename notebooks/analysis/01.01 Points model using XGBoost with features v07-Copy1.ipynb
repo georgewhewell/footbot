{
 "cells": [
  {
   "cell_type": "markdown",
   "metadata": {},
   "source": [
    "# Set up"
   ]
  },
  {
   "cell_type": "code",
   "execution_count": 1,
   "metadata": {
    "ExecuteTime": {
     "end_time": "2019-09-06T11:11:50.793951Z",
     "start_time": "2019-09-06T11:11:49.617592Z"
    }
   },
   "outputs": [
    {
     "name": "stderr",
     "output_type": "stream",
     "text": [
      "/home/tom/footbot/venv/lib/python3.6/site-packages/sklearn/externals/joblib/__init__.py:15: DeprecationWarning: sklearn.externals.joblib is deprecated in 0.21 and will be removed in 0.23. Please import this functionality directly from joblib, which can be installed with: pip install joblib. If this warning is raised when loading pickled models, you may need to re-serialize those models with scikit-learn 0.21+.\n",
      "  warnings.warn(msg, category=DeprecationWarning)\n"
     ]
    }
   ],
   "source": [
    "import pandas as pd\n",
    "import patsy\n",
    "import numpy as np\n",
    "from xgboost import XGBRegressor\n",
    "from sklearn.preprocessing import StandardScaler\n",
    "from sklearn.model_selection import PredefinedSplit, GridSearchCV, cross_val_score\n",
    "from sklearn.decomposition import PCA\n",
    "from skopt.space import Real, Integer\n",
    "from skopt.utils import use_named_args\n",
    "from skopt import gp_minimize\n",
    "from sklearn.feature_selection import RFECV\n",
    "from sklearn.linear_model import Lasso, LinearRegression, Ridge\n",
    "from sklearn.tree import DecisionTreeRegressor, plot_tree\n",
    "from sklearn.metrics import mean_absolute_error, mean_squared_error, r2_score\n",
    "import matplotlib.pyplot as plt"
   ]
  },
  {
   "cell_type": "code",
   "execution_count": 2,
   "metadata": {
    "ExecuteTime": {
     "end_time": "2019-09-06T11:11:50.800851Z",
     "start_time": "2019-09-06T11:11:50.797152Z"
    }
   },
   "outputs": [],
   "source": [
    "pd.set_option('display.max_columns', 1000)\n",
    "pd.set_option('display.max_rows', 1000)"
   ]
  },
  {
   "cell_type": "markdown",
   "metadata": {},
   "source": [
    "# Getting data"
   ]
  },
  {
   "cell_type": "code",
   "execution_count": 3,
   "metadata": {
    "ExecuteTime": {
     "end_time": "2019-09-06T11:11:50.825702Z",
     "start_time": "2019-09-06T11:11:50.803061Z"
    }
   },
   "outputs": [],
   "source": [
    "file_name = '../csvs/element_gameweek_features_v07.csv'"
   ]
  },
  {
   "cell_type": "code",
   "execution_count": 4,
   "metadata": {
    "ExecuteTime": {
     "end_time": "2019-09-06T11:11:51.235919Z",
     "start_time": "2019-09-06T11:11:50.829547Z"
    }
   },
   "outputs": [],
   "source": [
    "element_gameweek_df = pd.read_csv(file_name)"
   ]
  },
  {
   "cell_type": "code",
   "execution_count": 5,
   "metadata": {
    "ExecuteTime": {
     "end_time": "2019-09-06T11:11:51.242060Z",
     "start_time": "2019-09-06T11:11:51.239095Z"
    }
   },
   "outputs": [],
   "source": [
    "current_event = 38"
   ]
  },
  {
   "cell_type": "code",
   "execution_count": 6,
   "metadata": {
    "ExecuteTime": {
     "end_time": "2019-09-06T11:11:51.454205Z",
     "start_time": "2019-09-06T11:11:51.450552Z"
    }
   },
   "outputs": [],
   "source": [
    "last_train_event = 28"
   ]
  },
  {
   "cell_type": "code",
   "execution_count": 7,
   "metadata": {
    "ExecuteTime": {
     "end_time": "2019-09-06T11:11:51.829143Z",
     "start_time": "2019-09-06T11:11:51.813162Z"
    }
   },
   "outputs": [],
   "source": [
    "element_gameweek_df =\\\n",
    "element_gameweek_df[\n",
    "    (element_gameweek_df['event'] <= current_event)\n",
    "]"
   ]
  },
  {
   "cell_type": "code",
   "execution_count": 8,
   "metadata": {
    "ExecuteTime": {
     "end_time": "2019-09-06T11:11:52.966218Z",
     "start_time": "2019-09-06T11:11:52.182627Z"
    }
   },
   "outputs": [],
   "source": [
    "element_gameweek_df = pd.concat([\n",
    "    element_gameweek_df[element_gameweek_df['element_type'] == i].fillna(\n",
    "        element_gameweek_df[\n",
    "            (element_gameweek_df['event'] <= last_train_event)\n",
    "            & (element_gameweek_df['element_type'] == i)\n",
    "        ].mean()).fillna(0)\n",
    "    for i in range(1, 5)\n",
    "])"
   ]
  },
  {
   "cell_type": "code",
   "execution_count": 9,
   "metadata": {
    "ExecuteTime": {
     "end_time": "2019-09-06T11:11:52.998483Z",
     "start_time": "2019-09-06T11:11:52.971368Z"
    }
   },
   "outputs": [],
   "source": [
    "element_gameweek_df = element_gameweek_df[element_gameweek_df['rolling_avg_minutes_element_p3'] >= 30]"
   ]
  },
  {
   "cell_type": "code",
   "execution_count": 10,
   "metadata": {
    "ExecuteTime": {
     "end_time": "2019-09-06T11:11:53.242992Z",
     "start_time": "2019-09-06T11:11:53.140562Z"
    }
   },
   "outputs": [],
   "source": [
    "element_gameweek_df['is_keeper'] = element_gameweek_df['element_type'].apply(lambda x: 1 if x == 1 else 0)"
   ]
  },
  {
   "cell_type": "code",
   "execution_count": 11,
   "metadata": {
    "ExecuteTime": {
     "end_time": "2019-09-06T11:11:53.670842Z",
     "start_time": "2019-09-06T11:11:53.652548Z"
    }
   },
   "outputs": [],
   "source": [
    "element_gameweek_df['is_scorer'] = \\\n",
    "element_gameweek_df['rolling_avg_goals_scored_element'].apply(lambda x: 1 if x >= 0.47 else 0)"
   ]
  },
  {
   "cell_type": "code",
   "execution_count": 12,
   "metadata": {
    "ExecuteTime": {
     "end_time": "2019-09-06T11:11:54.080191Z",
     "start_time": "2019-09-06T11:11:54.063086Z"
    }
   },
   "outputs": [],
   "source": [
    "element_gameweek_df['is_assister'] = \\\n",
    "element_gameweek_df['rolling_avg_assists_element'].apply(lambda x: 1 if x >= 0.5 else 0)"
   ]
  },
  {
   "cell_type": "code",
   "execution_count": 25,
   "metadata": {
    "ExecuteTime": {
     "end_time": "2019-09-06T11:13:13.455862Z",
     "start_time": "2019-09-06T11:13:13.433207Z"
    }
   },
   "outputs": [],
   "source": [
    "element_gameweek_df['is_high_value'] = \\\n",
    "element_gameweek_df['value'].apply(lambda x: 1 if x >= 9.0 else 0)"
   ]
  },
  {
   "cell_type": "markdown",
   "metadata": {},
   "source": [
    "# Modelling data"
   ]
  },
  {
   "cell_type": "markdown",
   "metadata": {},
   "source": [
    "## Splitting data"
   ]
  },
  {
   "cell_type": "code",
   "execution_count": 26,
   "metadata": {
    "ExecuteTime": {
     "end_time": "2019-09-06T11:13:16.553624Z",
     "start_time": "2019-09-06T11:13:16.541667Z"
    }
   },
   "outputs": [],
   "source": [
    "test_fold = [-1 if i <= last_train_event else 0 for i in element_gameweek_df['event']]\n",
    "ps = PredefinedSplit(test_fold)"
   ]
  },
  {
   "cell_type": "code",
   "execution_count": 27,
   "metadata": {
    "ExecuteTime": {
     "end_time": "2019-09-06T11:13:16.762295Z",
     "start_time": "2019-09-06T11:13:16.720615Z"
    }
   },
   "outputs": [],
   "source": [
    "for train_index, test_index in ps.split():\n",
    "    element_gameweek_df_train, element_gameweek_df_test = \\\n",
    "    element_gameweek_df.copy().iloc[train_index], element_gameweek_df.copy().iloc[test_index]"
   ]
  },
  {
   "cell_type": "markdown",
   "metadata": {
    "ExecuteTime": {
     "end_time": "2019-09-03T08:56:57.311018Z",
     "start_time": "2019-09-03T08:56:57.220988Z"
    },
    "heading_collapsed": true
   },
   "source": [
    "## Scaling data"
   ]
  },
  {
   "cell_type": "code",
   "execution_count": null,
   "metadata": {
    "ExecuteTime": {
     "end_time": "2019-09-06T10:50:23.577529Z",
     "start_time": "2019-09-06T10:50:23.562288Z"
    },
    "hidden": true
   },
   "outputs": [],
   "source": [
    "scaled_feature_cols = [\n",
    "    i for i in element_gameweek_df.columns if i not in [\n",
    "        'safe_web_name', 'element', 'event', 'fixture', 'team',\n",
    "        'opposition_team', 'element_type', 'was_home', 'is_sunday',\n",
    "        'is_weekday', 'is_late', 'is_early', 'has_high_points_ever_element',\n",
    "        'total_points', 'minutes', 'rolling_value_points', 'is_keeper'\n",
    "    ]\n",
    "]\n",
    "\n",
    "scaled_feature_cols"
   ]
  },
  {
   "cell_type": "code",
   "execution_count": null,
   "metadata": {
    "ExecuteTime": {
     "end_time": "2019-09-06T10:50:24.364940Z",
     "start_time": "2019-09-06T10:50:23.919886Z"
    },
    "hidden": true
   },
   "outputs": [],
   "source": [
    "scaled_df_train = element_gameweek_df_train.copy()\n",
    "scaled_df_test = element_gameweek_df_test.copy()\n",
    "scaled_df = element_gameweek_df.copy()\n",
    "\n",
    "scaler = StandardScaler().fit(scaled_df_train[scaled_feature_cols].values)\n",
    "\n",
    "scaled_df_train = scaler.transform(scaled_df_train[scaled_feature_cols].values)\n",
    "scaled_df_test = scaler.transform(scaled_df_test[scaled_feature_cols].values)\n",
    "scaled_df = scaler.transform(scaled_df[scaled_feature_cols].values)\n",
    "\n",
    "element_gameweek_df_train[scaled_feature_cols] = scaled_df_train\n",
    "element_gameweek_df_test[scaled_feature_cols] = scaled_df_test\n",
    "element_gameweek_df[scaled_feature_cols] = scaled_df"
   ]
  },
  {
   "cell_type": "markdown",
   "metadata": {},
   "source": [
    "## Building model"
   ]
  },
  {
   "cell_type": "code",
   "execution_count": 28,
   "metadata": {
    "ExecuteTime": {
     "end_time": "2019-09-06T11:13:20.371896Z",
     "start_time": "2019-09-06T11:13:20.360257Z"
    }
   },
   "outputs": [],
   "source": [
    "class FullRankOneHot(object):\n",
    "    def __init__(self, reference=0):\n",
    "        self.reference = reference\n",
    "\n",
    "    # Called to generate a full-rank encoding\n",
    "    def code_with_intercept(self, levels):\n",
    "        return patsy.ContrastMatrix(np.eye(len(levels)),\n",
    "                              [\"[%s]\" % (level,) for level in levels])\n",
    "\n",
    "    # Called to generate a non-full-rank encoding. But we don't care,\n",
    "    # we do what we want, and return a full-rank encoding anyway.\n",
    "    # Take that, patsy.\n",
    "    def code_without_intercept(self, levels):\n",
    "        return self.code_with_intercept(levels)"
   ]
  },
  {
   "cell_type": "code",
   "execution_count": 29,
   "metadata": {
    "ExecuteTime": {
     "end_time": "2019-09-06T11:13:20.713602Z",
     "start_time": "2019-09-06T11:13:20.702453Z"
    }
   },
   "outputs": [
    {
     "data": {
      "text/plain": [
       "['safe_web_name',\n",
       " 'element',\n",
       " 'event',\n",
       " 'fixture',\n",
       " 'team',\n",
       " 'opposition_team',\n",
       " 'was_home',\n",
       " 'is_sunday',\n",
       " 'is_weekday',\n",
       " 'is_early',\n",
       " 'is_late',\n",
       " 'element_type',\n",
       " 'value',\n",
       " 'rolling_value_points',\n",
       " 'rolling_avg_total_points_element',\n",
       " 'rolling_q3_total_points_element',\n",
       " 'rolling_max_total_points_element',\n",
       " 'has_high_points_ever_element',\n",
       " 'rolling_avg_bps_element',\n",
       " 'rolling_avg_bonus_element',\n",
       " 'rolling_avg_goals_scored_element',\n",
       " 'rolling_avg_minutes_element',\n",
       " 'rolling_avg_clean_sheets_element',\n",
       " 'rolling_avg_completed_passes_element',\n",
       " 'rolling_avg_recoveries_element',\n",
       " 'rolling_avg_assists_element',\n",
       " 'rolling_avg_key_passes_element',\n",
       " 'rolling_avg_winning_goals_element',\n",
       " 'rolling_avg_tackled_element',\n",
       " 'rolling_avg_dribbles_element',\n",
       " 'rolling_avg_clearances_blocks_interceptions_element',\n",
       " 'rolling_avg_big_chances_created_element',\n",
       " 'rolling_avg_target_missed_element',\n",
       " 'rolling_avg_fouls_element',\n",
       " 'rolling_avg_tackles_element',\n",
       " 'rolling_avg_open_play_crosses_element',\n",
       " 'rolling_avg_offside_element',\n",
       " 'rolling_avg_big_chances_missed_element',\n",
       " 'rolling_avg_saves_element',\n",
       " 'rolling_avg_goals_conceded_element',\n",
       " 'rolling_avg_attempted_passes_element',\n",
       " 'rolling_avg_errors_leading_to_goal_element',\n",
       " 'rolling_avg_errors_leading_to_goal_attempt_element',\n",
       " 'rolling_avg_own_goals_element',\n",
       " 'rolling_avg_penalties_conceded_element',\n",
       " 'rolling_avg_penalties_missed_element',\n",
       " 'rolling_avg_penalties_saved_element',\n",
       " 'rolling_avg_red_cards_element',\n",
       " 'rolling_avg_yellow_cards_element',\n",
       " 'rolling_avg_big_chances_element',\n",
       " 'rolling_avg_shots_conceded_element',\n",
       " 'rolling_avg_big_chances_scored_rate_element',\n",
       " 'rolling_avg_big_chances_assisted_rate_element',\n",
       " 'rolling_avg_save_rate_element',\n",
       " 'rolling_avg_minutes_element_p3',\n",
       " 'rolling_avg_total_points_element_p3',\n",
       " 'rolling_avg_total_points_own_team',\n",
       " 'rolling_avg_total_points_element_home',\n",
       " 'rolling_avg_total_points_element_away',\n",
       " 'expected_total_points_element_home_away',\n",
       " 'rolling_avg_total_points_opposition_team',\n",
       " 'rolling_avg_goals_scored_opposition_team',\n",
       " 'rolling_avg_goals_conceded_opposition_team',\n",
       " 'rolling_avg_goals_scored_opposition_team_p5',\n",
       " 'rolling_avg_goals_conceded_opposition_team_p5',\n",
       " 'rolling_q3_goals_scored_opposition_team',\n",
       " 'rolling_q3_goals_conceded_opposition_team',\n",
       " 'rolling_q3_goals_scored_opposition_team_p5',\n",
       " 'rolling_q3_goals_conceded_opposition_team_p5',\n",
       " 'rolling_avg_total_points_element_type',\n",
       " 'rolling_avg_total_points_against_opposition_team',\n",
       " 'rolling_avg_total_points_against_opposition_team_element_type',\n",
       " 'expected_total_points_against_opposition_team',\n",
       " 'rolling_avg_total_points_against_opposition_team_element_type_home',\n",
       " 'rolling_avg_total_points_against_opposition_team_element_type_away',\n",
       " 'expected_total_points_against_opposition_team_home_away',\n",
       " 'total_points',\n",
       " 'minutes',\n",
       " 'is_keeper',\n",
       " 'is_scorer',\n",
       " 'is_assister',\n",
       " 'is_high_value']"
      ]
     },
     "execution_count": 29,
     "metadata": {},
     "output_type": "execute_result"
    }
   ],
   "source": [
    "list(element_gameweek_df.columns)"
   ]
  },
  {
   "cell_type": "code",
   "execution_count": 30,
   "metadata": {
    "ExecuteTime": {
     "end_time": "2019-09-06T11:13:20.909394Z",
     "start_time": "2019-09-06T11:13:20.902584Z"
    }
   },
   "outputs": [],
   "source": [
    "# formula = \\\n",
    "# '''\n",
    "# total_points ~\n",
    "# + C(element_type, FullRankOneHot)\n",
    "# + C(team, FullRankOneHot)\n",
    "# + C(opposition_team, FullRankOneHot)\n",
    "# + was_home\n",
    "# + value\n",
    "# + rolling_avg_bonus_element\n",
    "# + rolling_avg_big_chances_created_element\n",
    "# + is_keeper:rolling_avg_big_chances_created_element\n",
    "# + rolling_avg_saves_element\n",
    "# + is_keeper:rolling_avg_saves_element\n",
    "# + rolling_avg_goals_conceded_element\n",
    "# + C(element_type, FullRankOneHot):rolling_avg_goals_conceded_element\n",
    "# + rolling_avg_attempted_passes_element\n",
    "# + is_keeper:rolling_avg_attempted_passes_element\n",
    "# + rolling_avg_errors_leading_to_goal_attempt_element\n",
    "# + C(element_type, FullRankOneHot):rolling_avg_errors_leading_to_goal_attempt_element\n",
    "# + rolling_avg_penalties_saved_element\n",
    "# + is_keeper:rolling_avg_penalties_saved_element\n",
    "# + rolling_avg_yellow_cards_element\n",
    "# + rolling_avg_minutes_element_p3\n",
    "# + is_keeper:rolling_avg_minutes_element_p3\n",
    "# + rolling_avg_total_points_element_p3\n",
    "# + rolling_avg_goals_scored_opposition_team\n",
    "# + C(element_type, FullRankOneHot):rolling_avg_goals_scored_opposition_team\n",
    "# + rolling_q3_goals_conceded_opposition_team\n",
    "# + C(element_type, FullRankOneHot):rolling_q3_goals_conceded_opposition_team\n",
    "# + expected_total_points_against_opposition_team\n",
    "# + rolling_avg_big_chances_element\n",
    "# + is_keeper:rolling_avg_big_chances_element\n",
    "# + rolling_avg_big_chances_scored_rate_element\n",
    "# + is_keeper:rolling_avg_big_chances_scored_rate_element\n",
    "# + rolling_avg_big_chances_assisted_rate_element\n",
    "# + is_keeper:rolling_avg_big_chances_assisted_rate_element\n",
    "# + rolling_avg_save_rate_element\n",
    "# + is_keeper:rolling_avg_save_rate_element\n",
    "# '''"
   ]
  },
  {
   "cell_type": "code",
   "execution_count": 36,
   "metadata": {
    "ExecuteTime": {
     "end_time": "2019-09-06T11:13:40.026360Z",
     "start_time": "2019-09-06T11:13:40.014692Z"
    }
   },
   "outputs": [],
   "source": [
    "formula = \\\n",
    "'''\n",
    "total_points ~\n",
    "+ C(element_type, FullRankOneHot)\n",
    "+ C(team, FullRankOneHot)\n",
    "+ C(opposition_team, FullRankOneHot)\n",
    "+ was_home\n",
    "+ value\n",
    "+ is_high_value\n",
    "+ rolling_q3_total_points_element\n",
    "+ rolling_avg_bonus_element\n",
    "+ rolling_avg_big_chances_created_element\n",
    "+ rolling_avg_saves_element\n",
    "+ is_keeper:rolling_avg_saves_element\n",
    "+ rolling_avg_goals_conceded_element\n",
    "+ rolling_avg_attempted_passes_element\n",
    "+ rolling_avg_errors_leading_to_goal_attempt_element\n",
    "+ rolling_avg_penalties_saved_element\n",
    "+ is_keeper:rolling_avg_penalties_saved_element\n",
    "+ rolling_avg_yellow_cards_element\n",
    "+ rolling_avg_minutes_element_p3\n",
    "+ rolling_avg_total_points_element_p3\n",
    "+ rolling_avg_goals_scored_opposition_team\n",
    "+ C(element_type, FullRankOneHot):rolling_avg_goals_scored_opposition_team\n",
    "+ rolling_q3_goals_conceded_opposition_team\n",
    "+ C(element_type, FullRankOneHot):rolling_q3_goals_conceded_opposition_team\n",
    "+ expected_total_points_against_opposition_team\n",
    "+ rolling_avg_big_chances_element\n",
    "+ rolling_avg_big_chances_scored_rate_element\n",
    "+ rolling_avg_big_chances_assisted_rate_element\n",
    "+ rolling_avg_save_rate_element\n",
    "'''"
   ]
  },
  {
   "cell_type": "code",
   "execution_count": 37,
   "metadata": {
    "ExecuteTime": {
     "end_time": "2019-09-06T11:13:40.648227Z",
     "start_time": "2019-09-06T11:13:40.640231Z"
    }
   },
   "outputs": [
    {
     "name": "stdout",
     "output_type": "stream",
     "text": [
      "\n",
      "total_points ~\n",
      "+ C(element_type, FullRankOneHot)\n",
      "+ C(team, FullRankOneHot)\n",
      "+ C(opposition_team, FullRankOneHot)\n",
      "+ was_home\n",
      "+ value\n",
      "+ is_high_value\n",
      "+ rolling_q3_total_points_element\n",
      "+ rolling_avg_bonus_element\n",
      "+ rolling_avg_big_chances_created_element\n",
      "+ rolling_avg_saves_element\n",
      "+ is_keeper:rolling_avg_saves_element\n",
      "+ rolling_avg_goals_conceded_element\n",
      "+ rolling_avg_attempted_passes_element\n",
      "+ rolling_avg_errors_leading_to_goal_attempt_element\n",
      "+ rolling_avg_penalties_saved_element\n",
      "+ is_keeper:rolling_avg_penalties_saved_element\n",
      "+ rolling_avg_yellow_cards_element\n",
      "+ rolling_avg_minutes_element_p3\n",
      "+ rolling_avg_total_points_element_p3\n",
      "+ rolling_avg_goals_scored_opposition_team\n",
      "+ C(element_type, FullRankOneHot):rolling_avg_goals_scored_opposition_team\n",
      "+ rolling_q3_goals_conceded_opposition_team\n",
      "+ C(element_type, FullRankOneHot):rolling_q3_goals_conceded_opposition_team\n",
      "+ expected_total_points_against_opposition_team\n",
      "+ rolling_avg_big_chances_element\n",
      "+ rolling_avg_big_chances_scored_rate_element\n",
      "+ rolling_avg_big_chances_assisted_rate_element\n",
      "+ rolling_avg_save_rate_element\n",
      "\n"
     ]
    }
   ],
   "source": [
    "print(formula)"
   ]
  },
  {
   "cell_type": "code",
   "execution_count": 38,
   "metadata": {
    "ExecuteTime": {
     "end_time": "2019-09-06T11:13:41.707072Z",
     "start_time": "2019-09-06T11:13:41.345171Z"
    }
   },
   "outputs": [],
   "source": [
    "y, X = patsy.dmatrices(formula, element_gameweek_df, return_type='matrix')"
   ]
  },
  {
   "cell_type": "code",
   "execution_count": 39,
   "metadata": {
    "ExecuteTime": {
     "end_time": "2019-09-06T11:13:41.902246Z",
     "start_time": "2019-09-06T11:13:41.890483Z"
    }
   },
   "outputs": [
    {
     "data": {
      "text/plain": [
       "['Intercept',\n",
       " 'C(element_type, FullRankOneHot)[1]',\n",
       " 'C(element_type, FullRankOneHot)[2]',\n",
       " 'C(element_type, FullRankOneHot)[3]',\n",
       " 'C(element_type, FullRankOneHot)[4]',\n",
       " 'C(team, FullRankOneHot)[1]',\n",
       " 'C(team, FullRankOneHot)[2]',\n",
       " 'C(team, FullRankOneHot)[3]',\n",
       " 'C(team, FullRankOneHot)[4]',\n",
       " 'C(team, FullRankOneHot)[5]',\n",
       " 'C(team, FullRankOneHot)[6]',\n",
       " 'C(team, FullRankOneHot)[7]',\n",
       " 'C(team, FullRankOneHot)[8]',\n",
       " 'C(team, FullRankOneHot)[9]',\n",
       " 'C(team, FullRankOneHot)[10]',\n",
       " 'C(team, FullRankOneHot)[11]',\n",
       " 'C(team, FullRankOneHot)[12]',\n",
       " 'C(team, FullRankOneHot)[13]',\n",
       " 'C(team, FullRankOneHot)[14]',\n",
       " 'C(team, FullRankOneHot)[15]',\n",
       " 'C(team, FullRankOneHot)[16]',\n",
       " 'C(team, FullRankOneHot)[17]',\n",
       " 'C(team, FullRankOneHot)[18]',\n",
       " 'C(team, FullRankOneHot)[19]',\n",
       " 'C(team, FullRankOneHot)[20]',\n",
       " 'C(opposition_team, FullRankOneHot)[1]',\n",
       " 'C(opposition_team, FullRankOneHot)[2]',\n",
       " 'C(opposition_team, FullRankOneHot)[3]',\n",
       " 'C(opposition_team, FullRankOneHot)[4]',\n",
       " 'C(opposition_team, FullRankOneHot)[5]',\n",
       " 'C(opposition_team, FullRankOneHot)[6]',\n",
       " 'C(opposition_team, FullRankOneHot)[7]',\n",
       " 'C(opposition_team, FullRankOneHot)[8]',\n",
       " 'C(opposition_team, FullRankOneHot)[9]',\n",
       " 'C(opposition_team, FullRankOneHot)[10]',\n",
       " 'C(opposition_team, FullRankOneHot)[11]',\n",
       " 'C(opposition_team, FullRankOneHot)[12]',\n",
       " 'C(opposition_team, FullRankOneHot)[13]',\n",
       " 'C(opposition_team, FullRankOneHot)[14]',\n",
       " 'C(opposition_team, FullRankOneHot)[15]',\n",
       " 'C(opposition_team, FullRankOneHot)[16]',\n",
       " 'C(opposition_team, FullRankOneHot)[17]',\n",
       " 'C(opposition_team, FullRankOneHot)[18]',\n",
       " 'C(opposition_team, FullRankOneHot)[19]',\n",
       " 'C(opposition_team, FullRankOneHot)[20]',\n",
       " 'was_home',\n",
       " 'value',\n",
       " 'is_high_value',\n",
       " 'rolling_q3_total_points_element',\n",
       " 'rolling_avg_bonus_element',\n",
       " 'rolling_avg_big_chances_created_element',\n",
       " 'rolling_avg_saves_element',\n",
       " 'is_keeper:rolling_avg_saves_element',\n",
       " 'rolling_avg_goals_conceded_element',\n",
       " 'rolling_avg_attempted_passes_element',\n",
       " 'rolling_avg_errors_leading_to_goal_attempt_element',\n",
       " 'rolling_avg_penalties_saved_element',\n",
       " 'is_keeper:rolling_avg_penalties_saved_element',\n",
       " 'rolling_avg_yellow_cards_element',\n",
       " 'rolling_avg_minutes_element_p3',\n",
       " 'rolling_avg_total_points_element_p3',\n",
       " 'rolling_avg_goals_scored_opposition_team',\n",
       " 'C(element_type, FullRankOneHot)[1]:rolling_avg_goals_scored_opposition_team',\n",
       " 'C(element_type, FullRankOneHot)[2]:rolling_avg_goals_scored_opposition_team',\n",
       " 'C(element_type, FullRankOneHot)[3]:rolling_avg_goals_scored_opposition_team',\n",
       " 'C(element_type, FullRankOneHot)[4]:rolling_avg_goals_scored_opposition_team',\n",
       " 'rolling_q3_goals_conceded_opposition_team',\n",
       " 'C(element_type, FullRankOneHot)[1]:rolling_q3_goals_conceded_opposition_team',\n",
       " 'C(element_type, FullRankOneHot)[2]:rolling_q3_goals_conceded_opposition_team',\n",
       " 'C(element_type, FullRankOneHot)[3]:rolling_q3_goals_conceded_opposition_team',\n",
       " 'C(element_type, FullRankOneHot)[4]:rolling_q3_goals_conceded_opposition_team',\n",
       " 'expected_total_points_against_opposition_team',\n",
       " 'rolling_avg_big_chances_element',\n",
       " 'rolling_avg_big_chances_scored_rate_element',\n",
       " 'rolling_avg_big_chances_assisted_rate_element',\n",
       " 'rolling_avg_save_rate_element']"
      ]
     },
     "execution_count": 39,
     "metadata": {},
     "output_type": "execute_result"
    }
   ],
   "source": [
    "X.design_info.column_names"
   ]
  },
  {
   "cell_type": "code",
   "execution_count": 40,
   "metadata": {
    "ExecuteTime": {
     "end_time": "2019-09-06T11:13:42.768794Z",
     "start_time": "2019-09-06T11:13:42.754982Z"
    }
   },
   "outputs": [],
   "source": [
    "for train_index, test_index in ps.split():\n",
    "    X_train, X_test = X[train_index], X[test_index]\n",
    "    y_train, y_test = y[train_index], y[test_index]"
   ]
  },
  {
   "cell_type": "markdown",
   "metadata": {},
   "source": [
    "## Selecting features"
   ]
  },
  {
   "cell_type": "code",
   "execution_count": 41,
   "metadata": {
    "ExecuteTime": {
     "end_time": "2019-09-06T11:13:46.023298Z",
     "start_time": "2019-09-06T11:13:44.172675Z"
    },
    "scrolled": true
   },
   "outputs": [
    {
     "name": "stdout",
     "output_type": "stream",
     "text": [
      "Fitting estimator with 76 features.\n",
      "Fitting estimator with 75 features.\n",
      "Fitting estimator with 74 features.\n",
      "Fitting estimator with 73 features.\n",
      "Fitting estimator with 72 features.\n",
      "Fitting estimator with 71 features.\n",
      "Fitting estimator with 70 features.\n",
      "Fitting estimator with 69 features.\n",
      "Fitting estimator with 68 features.\n",
      "Fitting estimator with 67 features.\n",
      "Fitting estimator with 66 features.\n",
      "Fitting estimator with 65 features.\n",
      "Fitting estimator with 64 features.\n",
      "Fitting estimator with 63 features.\n",
      "Fitting estimator with 62 features.\n",
      "Fitting estimator with 61 features.\n",
      "Fitting estimator with 60 features.\n",
      "Fitting estimator with 59 features.\n",
      "Fitting estimator with 58 features.\n",
      "Fitting estimator with 57 features.\n",
      "Fitting estimator with 56 features.\n",
      "Fitting estimator with 55 features.\n",
      "Fitting estimator with 54 features.\n",
      "Fitting estimator with 53 features.\n",
      "Fitting estimator with 52 features.\n",
      "Fitting estimator with 51 features.\n",
      "Fitting estimator with 50 features.\n",
      "Fitting estimator with 49 features.\n",
      "Fitting estimator with 48 features.\n",
      "Fitting estimator with 47 features.\n",
      "Fitting estimator with 46 features.\n",
      "Fitting estimator with 45 features.\n",
      "Fitting estimator with 44 features.\n",
      "Fitting estimator with 43 features.\n",
      "Fitting estimator with 42 features.\n",
      "Fitting estimator with 41 features.\n",
      "Fitting estimator with 40 features.\n",
      "Fitting estimator with 39 features.\n",
      "Fitting estimator with 38 features.\n",
      "Fitting estimator with 37 features.\n",
      "Fitting estimator with 36 features.\n",
      "Fitting estimator with 35 features.\n",
      "Fitting estimator with 34 features.\n",
      "Fitting estimator with 33 features.\n",
      "Fitting estimator with 32 features.\n",
      "Fitting estimator with 31 features.\n",
      "Fitting estimator with 30 features.\n",
      "Fitting estimator with 29 features.\n",
      "Fitting estimator with 28 features.\n",
      "Fitting estimator with 27 features.\n",
      "Fitting estimator with 26 features.\n",
      "Fitting estimator with 25 features.\n",
      "Fitting estimator with 24 features.\n",
      "Fitting estimator with 23 features.\n",
      "Fitting estimator with 22 features.\n",
      "Fitting estimator with 21 features.\n",
      "Fitting estimator with 20 features.\n",
      "Fitting estimator with 19 features.\n",
      "Fitting estimator with 18 features.\n",
      "Fitting estimator with 17 features.\n",
      "Fitting estimator with 16 features.\n",
      "Fitting estimator with 15 features.\n",
      "Fitting estimator with 14 features.\n",
      "Fitting estimator with 13 features.\n",
      "Fitting estimator with 12 features.\n",
      "Fitting estimator with 11 features.\n",
      "Fitting estimator with 10 features.\n",
      "Fitting estimator with 9 features.\n",
      "Fitting estimator with 8 features.\n",
      "Fitting estimator with 7 features.\n",
      "Fitting estimator with 6 features.\n",
      "Fitting estimator with 5 features.\n",
      "Fitting estimator with 4 features.\n",
      "Fitting estimator with 3 features.\n",
      "Fitting estimator with 2 features.\n",
      "Fitting estimator with 76 features.\n",
      "Fitting estimator with 75 features.\n"
     ]
    },
    {
     "data": {
      "text/plain": [
       "RFECV(cv=PredefinedSplit(test_fold=array([-1, -1, ...,  0,  0])),\n",
       "      estimator=Ridge(alpha=1, copy_X=True, fit_intercept=True, max_iter=None,\n",
       "                      normalize=False, random_state=None, solver='auto',\n",
       "                      tol=0.001),\n",
       "      min_features_to_select=1, n_jobs=1, scoring='neg_mean_squared_error',\n",
       "      step=1, verbose=1)"
      ]
     },
     "execution_count": 41,
     "metadata": {},
     "output_type": "execute_result"
    }
   ],
   "source": [
    "estimator = Ridge(alpha=1)\n",
    "\n",
    "selector = RFECV(estimator, step=1,\n",
    "                 scoring='neg_mean_squared_error',\n",
    "                 cv=ps, n_jobs=1, verbose=1)\n",
    "selector.fit(\n",
    "    X,\n",
    "    y.ravel()\n",
    ")"
   ]
  },
  {
   "cell_type": "code",
   "execution_count": 42,
   "metadata": {
    "ExecuteTime": {
     "end_time": "2019-09-06T11:13:46.043749Z",
     "start_time": "2019-09-06T11:13:46.029885Z"
    }
   },
   "outputs": [
    {
     "data": {
      "text/plain": [
       "74"
      ]
     },
     "execution_count": 42,
     "metadata": {},
     "output_type": "execute_result"
    }
   ],
   "source": [
    "sum(selector.support_)"
   ]
  },
  {
   "cell_type": "code",
   "execution_count": 43,
   "metadata": {
    "ExecuteTime": {
     "end_time": "2019-09-06T11:13:46.080305Z",
     "start_time": "2019-09-06T11:13:46.053042Z"
    }
   },
   "outputs": [
    {
     "data": {
      "text/plain": [
       "-8.582171414759683"
      ]
     },
     "execution_count": 43,
     "metadata": {},
     "output_type": "execute_result"
    }
   ],
   "source": [
    "selector.grid_scores_[-1]"
   ]
  },
  {
   "cell_type": "code",
   "execution_count": 44,
   "metadata": {
    "ExecuteTime": {
     "end_time": "2019-09-06T11:13:46.546031Z",
     "start_time": "2019-09-06T11:13:46.534576Z"
    }
   },
   "outputs": [
    {
     "data": {
      "text/plain": [
       "['C(element_type, FullRankOneHot)[1]',\n",
       " 'C(element_type, FullRankOneHot)[2]',\n",
       " 'C(element_type, FullRankOneHot)[3]',\n",
       " 'C(element_type, FullRankOneHot)[4]',\n",
       " 'C(team, FullRankOneHot)[1]',\n",
       " 'C(team, FullRankOneHot)[2]',\n",
       " 'C(team, FullRankOneHot)[3]',\n",
       " 'C(team, FullRankOneHot)[4]',\n",
       " 'C(team, FullRankOneHot)[5]',\n",
       " 'C(team, FullRankOneHot)[6]',\n",
       " 'C(team, FullRankOneHot)[7]',\n",
       " 'C(team, FullRankOneHot)[8]',\n",
       " 'C(team, FullRankOneHot)[9]',\n",
       " 'C(team, FullRankOneHot)[10]',\n",
       " 'C(team, FullRankOneHot)[11]',\n",
       " 'C(team, FullRankOneHot)[12]',\n",
       " 'C(team, FullRankOneHot)[13]',\n",
       " 'C(team, FullRankOneHot)[14]',\n",
       " 'C(team, FullRankOneHot)[15]',\n",
       " 'C(team, FullRankOneHot)[16]',\n",
       " 'C(team, FullRankOneHot)[17]',\n",
       " 'C(team, FullRankOneHot)[18]',\n",
       " 'C(team, FullRankOneHot)[19]',\n",
       " 'C(team, FullRankOneHot)[20]',\n",
       " 'C(opposition_team, FullRankOneHot)[1]',\n",
       " 'C(opposition_team, FullRankOneHot)[2]',\n",
       " 'C(opposition_team, FullRankOneHot)[3]',\n",
       " 'C(opposition_team, FullRankOneHot)[4]',\n",
       " 'C(opposition_team, FullRankOneHot)[5]',\n",
       " 'C(opposition_team, FullRankOneHot)[6]',\n",
       " 'C(opposition_team, FullRankOneHot)[7]',\n",
       " 'C(opposition_team, FullRankOneHot)[8]',\n",
       " 'C(opposition_team, FullRankOneHot)[9]',\n",
       " 'C(opposition_team, FullRankOneHot)[10]',\n",
       " 'C(opposition_team, FullRankOneHot)[11]',\n",
       " 'C(opposition_team, FullRankOneHot)[12]',\n",
       " 'C(opposition_team, FullRankOneHot)[13]',\n",
       " 'C(opposition_team, FullRankOneHot)[14]',\n",
       " 'C(opposition_team, FullRankOneHot)[15]',\n",
       " 'C(opposition_team, FullRankOneHot)[16]',\n",
       " 'C(opposition_team, FullRankOneHot)[17]',\n",
       " 'C(opposition_team, FullRankOneHot)[18]',\n",
       " 'C(opposition_team, FullRankOneHot)[19]',\n",
       " 'C(opposition_team, FullRankOneHot)[20]',\n",
       " 'was_home',\n",
       " 'value',\n",
       " 'rolling_q3_total_points_element',\n",
       " 'rolling_avg_bonus_element',\n",
       " 'rolling_avg_big_chances_created_element',\n",
       " 'rolling_avg_saves_element',\n",
       " 'is_keeper:rolling_avg_saves_element',\n",
       " 'rolling_avg_goals_conceded_element',\n",
       " 'rolling_avg_attempted_passes_element',\n",
       " 'rolling_avg_errors_leading_to_goal_attempt_element',\n",
       " 'rolling_avg_penalties_saved_element',\n",
       " 'is_keeper:rolling_avg_penalties_saved_element',\n",
       " 'rolling_avg_yellow_cards_element',\n",
       " 'rolling_avg_minutes_element_p3',\n",
       " 'rolling_avg_total_points_element_p3',\n",
       " 'rolling_avg_goals_scored_opposition_team',\n",
       " 'C(element_type, FullRankOneHot)[1]:rolling_avg_goals_scored_opposition_team',\n",
       " 'C(element_type, FullRankOneHot)[2]:rolling_avg_goals_scored_opposition_team',\n",
       " 'C(element_type, FullRankOneHot)[3]:rolling_avg_goals_scored_opposition_team',\n",
       " 'C(element_type, FullRankOneHot)[4]:rolling_avg_goals_scored_opposition_team',\n",
       " 'rolling_q3_goals_conceded_opposition_team',\n",
       " 'C(element_type, FullRankOneHot)[1]:rolling_q3_goals_conceded_opposition_team',\n",
       " 'C(element_type, FullRankOneHot)[2]:rolling_q3_goals_conceded_opposition_team',\n",
       " 'C(element_type, FullRankOneHot)[3]:rolling_q3_goals_conceded_opposition_team',\n",
       " 'C(element_type, FullRankOneHot)[4]:rolling_q3_goals_conceded_opposition_team',\n",
       " 'expected_total_points_against_opposition_team',\n",
       " 'rolling_avg_big_chances_element',\n",
       " 'rolling_avg_big_chances_scored_rate_element',\n",
       " 'rolling_avg_big_chances_assisted_rate_element',\n",
       " 'rolling_avg_save_rate_element']"
      ]
     },
     "execution_count": 44,
     "metadata": {},
     "output_type": "execute_result"
    }
   ],
   "source": [
    "list(pd.Series(X.design_info.column_names)[selector.support_])"
   ]
  },
  {
   "cell_type": "code",
   "execution_count": 45,
   "metadata": {
    "ExecuteTime": {
     "end_time": "2019-09-06T11:13:47.487318Z",
     "start_time": "2019-09-06T11:13:47.469348Z"
    }
   },
   "outputs": [],
   "source": [
    "X_sel = X[:,selector.support_]\n",
    "X_train_sel = X_train[:,selector.support_]\n",
    "X_test_sel = X_test[:,selector.support_]"
   ]
  },
  {
   "cell_type": "markdown",
   "metadata": {},
   "source": [
    "## Tuning model"
   ]
  },
  {
   "cell_type": "markdown",
   "metadata": {},
   "source": [
    "### GP tuner"
   ]
  },
  {
   "cell_type": "code",
   "execution_count": 48,
   "metadata": {
    "ExecuteTime": {
     "end_time": "2019-09-06T11:14:00.833049Z",
     "start_time": "2019-09-06T11:14:00.823499Z"
    }
   },
   "outputs": [],
   "source": [
    "space  = [\n",
    "    Real(10**-8, 10**3, 'log-uniform', name='alpha')\n",
    "]"
   ]
  },
  {
   "cell_type": "code",
   "execution_count": 52,
   "metadata": {
    "ExecuteTime": {
     "end_time": "2019-09-06T11:14:32.134692Z",
     "start_time": "2019-09-06T11:14:32.125023Z"
    }
   },
   "outputs": [],
   "source": [
    "gp_model = Ridge()\n",
    "\n",
    "@use_named_args(space)\n",
    "def objective(**params):\n",
    "    gp_model.set_params(**params)\n",
    "\n",
    "    return -np.mean(\n",
    "        cross_val_score(\n",
    "            gp_model,\n",
    "#             X,\n",
    "            X_sel,\n",
    "            y.ravel(),\n",
    "            cv=ps,\n",
    "            n_jobs=1,\n",
    "            scoring=\"neg_mean_squared_error\"))"
   ]
  },
  {
   "cell_type": "code",
   "execution_count": 53,
   "metadata": {
    "ExecuteTime": {
     "end_time": "2019-09-06T11:14:42.673243Z",
     "start_time": "2019-09-06T11:14:32.536401Z"
    },
    "scrolled": true
   },
   "outputs": [
    {
     "name": "stdout",
     "output_type": "stream",
     "text": [
      "minimisation iteration 1\n",
      "Iteration No: 1 started. Evaluating function at random point.\n",
      "Iteration No: 1 ended. Evaluation done at random point.\n",
      "Time taken: 0.0602\n",
      "Function value obtained: 8.5834\n",
      "Current minimum: 8.5834\n",
      "Iteration No: 2 started. Evaluating function at random point.\n",
      "Iteration No: 2 ended. Evaluation done at random point.\n",
      "Time taken: 0.0948\n",
      "Function value obtained: 8.5834\n",
      "Current minimum: 8.5834\n",
      "Iteration No: 3 started. Evaluating function at random point.\n",
      "Iteration No: 3 ended. Evaluation done at random point.\n",
      "Time taken: 0.0623\n",
      "Function value obtained: 8.5832\n",
      "Current minimum: 8.5832\n",
      "Iteration No: 4 started. Evaluating function at random point.\n",
      "Iteration No: 4 ended. Evaluation done at random point.\n",
      "Time taken: 0.0481\n",
      "Function value obtained: 8.5823\n",
      "Current minimum: 8.5823\n",
      "Iteration No: 5 started. Evaluating function at random point.\n",
      "Iteration No: 5 ended. Evaluation done at random point.\n",
      "Time taken: 0.0477\n",
      "Function value obtained: 8.5834\n",
      "Current minimum: 8.5823\n",
      "Iteration No: 6 started. Evaluating function at random point.\n",
      "Iteration No: 6 ended. Evaluation done at random point.\n",
      "Time taken: 0.0488\n",
      "Function value obtained: 8.5834\n",
      "Current minimum: 8.5823\n",
      "Iteration No: 7 started. Evaluating function at random point.\n",
      "Iteration No: 7 ended. Evaluation done at random point.\n",
      "Time taken: 0.0768\n",
      "Function value obtained: 8.5826\n",
      "Current minimum: 8.5823\n",
      "Iteration No: 8 started. Evaluating function at random point.\n",
      "Iteration No: 8 ended. Evaluation done at random point.\n",
      "Time taken: 0.0664\n",
      "Function value obtained: 8.5834\n",
      "Current minimum: 8.5823\n",
      "Iteration No: 9 started. Evaluating function at random point.\n",
      "Iteration No: 9 ended. Evaluation done at random point.\n",
      "Time taken: 0.0696\n",
      "Function value obtained: 8.5679\n",
      "Current minimum: 8.5679\n",
      "Iteration No: 10 started. Evaluating function at random point.\n",
      "Iteration No: 10 ended. Evaluation done at random point.\n",
      "Time taken: 0.3631\n",
      "Function value obtained: 8.5834\n",
      "Current minimum: 8.5679\n",
      "Iteration No: 11 started. Searching for the next optimal point.\n",
      "Iteration No: 11 ended. Search finished for the next optimal point.\n",
      "Time taken: 0.3221\n",
      "Function value obtained: 8.5869\n",
      "Current minimum: 8.5679\n",
      "Iteration No: 12 started. Searching for the next optimal point.\n"
     ]
    },
    {
     "name": "stderr",
     "output_type": "stream",
     "text": [
      "/home/tom/footbot/venv/lib/python3.6/site-packages/skopt/optimizer/optimizer.py:399: UserWarning: The objective has been evaluated at this point before.\n",
      "  warnings.warn(\"The objective has been evaluated \"\n"
     ]
    },
    {
     "name": "stdout",
     "output_type": "stream",
     "text": [
      "Iteration No: 12 ended. Search finished for the next optimal point.\n",
      "Time taken: 0.3572\n",
      "Function value obtained: 8.5834\n",
      "Current minimum: 8.5679\n",
      "Iteration No: 13 started. Searching for the next optimal point.\n",
      "Iteration No: 13 ended. Search finished for the next optimal point.\n",
      "Time taken: 0.3694\n",
      "Function value obtained: 8.5868\n",
      "Current minimum: 8.5679\n",
      "Iteration No: 14 started. Searching for the next optimal point.\n",
      "Iteration No: 14 ended. Search finished for the next optimal point.\n",
      "Time taken: 0.3190\n",
      "Function value obtained: 8.5869\n",
      "Current minimum: 8.5679\n",
      "Iteration No: 15 started. Searching for the next optimal point.\n"
     ]
    },
    {
     "name": "stderr",
     "output_type": "stream",
     "text": [
      "/home/tom/footbot/venv/lib/python3.6/site-packages/skopt/optimizer/optimizer.py:399: UserWarning: The objective has been evaluated at this point before.\n",
      "  warnings.warn(\"The objective has been evaluated \"\n"
     ]
    },
    {
     "name": "stdout",
     "output_type": "stream",
     "text": [
      "Iteration No: 15 ended. Search finished for the next optimal point.\n",
      "Time taken: 0.3351\n",
      "Function value obtained: 8.5834\n",
      "Current minimum: 8.5679\n",
      "Iteration No: 16 started. Searching for the next optimal point.\n"
     ]
    },
    {
     "name": "stderr",
     "output_type": "stream",
     "text": [
      "/home/tom/footbot/venv/lib/python3.6/site-packages/skopt/optimizer/optimizer.py:399: UserWarning: The objective has been evaluated at this point before.\n",
      "  warnings.warn(\"The objective has been evaluated \"\n"
     ]
    },
    {
     "name": "stdout",
     "output_type": "stream",
     "text": [
      "Iteration No: 16 ended. Search finished for the next optimal point.\n",
      "Time taken: 0.3920\n",
      "Function value obtained: 8.5834\n",
      "Current minimum: 8.5679\n",
      "Iteration No: 17 started. Searching for the next optimal point.\n"
     ]
    },
    {
     "name": "stderr",
     "output_type": "stream",
     "text": [
      "/home/tom/footbot/venv/lib/python3.6/site-packages/skopt/optimizer/optimizer.py:399: UserWarning: The objective has been evaluated at this point before.\n",
      "  warnings.warn(\"The objective has been evaluated \"\n"
     ]
    },
    {
     "name": "stdout",
     "output_type": "stream",
     "text": [
      "Iteration No: 17 ended. Search finished for the next optimal point.\n",
      "Time taken: 0.4714\n",
      "Function value obtained: 8.5869\n",
      "Current minimum: 8.5679\n",
      "Iteration No: 18 started. Searching for the next optimal point.\n"
     ]
    },
    {
     "name": "stderr",
     "output_type": "stream",
     "text": [
      "/home/tom/footbot/venv/lib/python3.6/site-packages/skopt/optimizer/optimizer.py:399: UserWarning: The objective has been evaluated at this point before.\n",
      "  warnings.warn(\"The objective has been evaluated \"\n"
     ]
    },
    {
     "name": "stdout",
     "output_type": "stream",
     "text": [
      "Iteration No: 18 ended. Search finished for the next optimal point.\n",
      "Time taken: 0.5117\n",
      "Function value obtained: 8.5834\n",
      "Current minimum: 8.5679\n",
      "Iteration No: 19 started. Searching for the next optimal point.\n"
     ]
    },
    {
     "name": "stderr",
     "output_type": "stream",
     "text": [
      "/home/tom/footbot/venv/lib/python3.6/site-packages/skopt/optimizer/optimizer.py:399: UserWarning: The objective has been evaluated at this point before.\n",
      "  warnings.warn(\"The objective has been evaluated \"\n"
     ]
    },
    {
     "name": "stdout",
     "output_type": "stream",
     "text": [
      "Iteration No: 19 ended. Search finished for the next optimal point.\n",
      "Time taken: 0.5121\n",
      "Function value obtained: 8.5834\n",
      "Current minimum: 8.5679\n",
      "Iteration No: 20 started. Searching for the next optimal point.\n",
      "Iteration No: 20 ended. Search finished for the next optimal point.\n",
      "Time taken: 0.4859\n",
      "Function value obtained: 8.5868\n",
      "Current minimum: 8.5679\n",
      "Iteration No: 21 started. Searching for the next optimal point.\n"
     ]
    },
    {
     "name": "stderr",
     "output_type": "stream",
     "text": [
      "/home/tom/footbot/venv/lib/python3.6/site-packages/skopt/optimizer/optimizer.py:399: UserWarning: The objective has been evaluated at this point before.\n",
      "  warnings.warn(\"The objective has been evaluated \"\n"
     ]
    },
    {
     "name": "stdout",
     "output_type": "stream",
     "text": [
      "Iteration No: 21 ended. Search finished for the next optimal point.\n",
      "Time taken: 0.4749\n",
      "Function value obtained: 8.5834\n",
      "Current minimum: 8.5679\n",
      "Iteration No: 22 started. Searching for the next optimal point.\n"
     ]
    },
    {
     "name": "stderr",
     "output_type": "stream",
     "text": [
      "/home/tom/footbot/venv/lib/python3.6/site-packages/skopt/optimizer/optimizer.py:399: UserWarning: The objective has been evaluated at this point before.\n",
      "  warnings.warn(\"The objective has been evaluated \"\n"
     ]
    },
    {
     "name": "stdout",
     "output_type": "stream",
     "text": [
      "Iteration No: 22 ended. Search finished for the next optimal point.\n",
      "Time taken: 0.5457\n",
      "Function value obtained: 8.5834\n",
      "Current minimum: 8.5679\n",
      "Iteration No: 23 started. Searching for the next optimal point.\n",
      "Iteration No: 23 ended. Search finished for the next optimal point.\n",
      "Time taken: 0.4827\n",
      "Function value obtained: 8.5869\n",
      "Current minimum: 8.5679\n",
      "Iteration No: 24 started. Searching for the next optimal point.\n",
      "Iteration No: 24 ended. Search finished for the next optimal point.\n",
      "Time taken: 0.5017\n",
      "Function value obtained: 8.5869\n",
      "Current minimum: 8.5679\n",
      "Iteration No: 25 started. Searching for the next optimal point.\n"
     ]
    },
    {
     "name": "stderr",
     "output_type": "stream",
     "text": [
      "/home/tom/footbot/venv/lib/python3.6/site-packages/skopt/optimizer/optimizer.py:399: UserWarning: The objective has been evaluated at this point before.\n",
      "  warnings.warn(\"The objective has been evaluated \"\n"
     ]
    },
    {
     "name": "stdout",
     "output_type": "stream",
     "text": [
      "Iteration No: 25 ended. Search finished for the next optimal point.\n",
      "Time taken: 0.5614\n",
      "Function value obtained: 8.5834\n",
      "Current minimum: 8.5679\n",
      "Iteration No: 26 started. Searching for the next optimal point.\n",
      "Iteration No: 26 ended. Search finished for the next optimal point.\n",
      "Time taken: 0.4766\n",
      "Function value obtained: 8.5716\n",
      "Current minimum: 8.5679\n",
      "Iteration No: 27 started. Searching for the next optimal point.\n",
      "Iteration No: 27 ended. Search finished for the next optimal point.\n",
      "Time taken: 0.5327\n",
      "Function value obtained: 8.5706\n",
      "Current minimum: 8.5679\n",
      "Iteration No: 28 started. Searching for the next optimal point.\n",
      "Iteration No: 28 ended. Search finished for the next optimal point.\n",
      "Time taken: 0.5160\n",
      "Function value obtained: 8.5705\n",
      "Current minimum: 8.5679\n",
      "Iteration No: 29 started. Searching for the next optimal point.\n",
      "Iteration No: 29 ended. Search finished for the next optimal point.\n",
      "Time taken: 0.4801\n",
      "Function value obtained: 8.5834\n",
      "Current minimum: 8.5679\n",
      "Iteration No: 30 started. Searching for the next optimal point.\n",
      "Iteration No: 30 ended. Search finished for the next optimal point.\n",
      "Time taken: 0.4819\n",
      "Function value obtained: 8.5707\n",
      "Current minimum: 8.5679\n"
     ]
    }
   ],
   "source": [
    "res_gp_arr = []\n",
    "for i in range(1, 2):\n",
    "    print('minimisation iteration', i)\n",
    "    res_gp = gp_minimize(objective, space, n_calls=30, verbose=2)\n",
    "    res_gp_arr.append(res_gp)"
   ]
  },
  {
   "cell_type": "code",
   "execution_count": 54,
   "metadata": {
    "ExecuteTime": {
     "end_time": "2019-09-06T11:14:42.698977Z",
     "start_time": "2019-09-06T11:14:42.682415Z"
    }
   },
   "outputs": [
    {
     "name": "stdout",
     "output_type": "stream",
     "text": [
      "8.567893095437766\n",
      "\n",
      "\n",
      "[49.538998021984554]\n"
     ]
    }
   ],
   "source": [
    "for i in res_gp_arr:\n",
    "    print(i.fun)\n",
    "print('\\n')\n",
    "for i in res_gp_arr:\n",
    "    print(i.x)"
   ]
  },
  {
   "cell_type": "code",
   "execution_count": 55,
   "metadata": {
    "ExecuteTime": {
     "end_time": "2019-09-06T11:14:50.505408Z",
     "start_time": "2019-09-06T11:14:50.421345Z"
    }
   },
   "outputs": [],
   "source": [
    "lr_model_all = Ridge(alpha=1).fit(X, y.ravel())"
   ]
  },
  {
   "cell_type": "code",
   "execution_count": 56,
   "metadata": {
    "ExecuteTime": {
     "end_time": "2019-09-06T11:14:50.843230Z",
     "start_time": "2019-09-06T11:14:50.808458Z"
    }
   },
   "outputs": [
    {
     "data": {
      "text/html": [
       "<div>\n",
       "<style scoped>\n",
       "    .dataframe tbody tr th:only-of-type {\n",
       "        vertical-align: middle;\n",
       "    }\n",
       "\n",
       "    .dataframe tbody tr th {\n",
       "        vertical-align: top;\n",
       "    }\n",
       "\n",
       "    .dataframe thead th {\n",
       "        text-align: right;\n",
       "    }\n",
       "</style>\n",
       "<table border=\"1\" class=\"dataframe\">\n",
       "  <thead>\n",
       "    <tr style=\"text-align: right;\">\n",
       "      <th></th>\n",
       "      <th>feature</th>\n",
       "      <th>weight</th>\n",
       "    </tr>\n",
       "  </thead>\n",
       "  <tbody>\n",
       "    <tr>\n",
       "      <th>56</th>\n",
       "      <td>rolling_avg_penalties_saved_element</td>\n",
       "      <td>1.27</td>\n",
       "    </tr>\n",
       "    <tr>\n",
       "      <th>57</th>\n",
       "      <td>is_keeper:rolling_avg_penalties_saved_element</td>\n",
       "      <td>1.27</td>\n",
       "    </tr>\n",
       "    <tr>\n",
       "      <th>34</th>\n",
       "      <td>C(opposition_team, FullRankOneHot)[10]</td>\n",
       "      <td>1.06</td>\n",
       "    </tr>\n",
       "    <tr>\n",
       "      <th>1</th>\n",
       "      <td>C(element_type, FullRankOneHot)[1]</td>\n",
       "      <td>0.88</td>\n",
       "    </tr>\n",
       "    <tr>\n",
       "      <th>33</th>\n",
       "      <td>C(opposition_team, FullRankOneHot)[9]</td>\n",
       "      <td>0.88</td>\n",
       "    </tr>\n",
       "    <tr>\n",
       "      <th>50</th>\n",
       "      <td>rolling_avg_big_chances_created_element</td>\n",
       "      <td>0.81</td>\n",
       "    </tr>\n",
       "    <tr>\n",
       "      <th>29</th>\n",
       "      <td>C(opposition_team, FullRankOneHot)[5]</td>\n",
       "      <td>0.77</td>\n",
       "    </tr>\n",
       "    <tr>\n",
       "      <th>16</th>\n",
       "      <td>C(team, FullRankOneHot)[12]</td>\n",
       "      <td>0.46</td>\n",
       "    </tr>\n",
       "    <tr>\n",
       "      <th>28</th>\n",
       "      <td>C(opposition_team, FullRankOneHot)[4]</td>\n",
       "      <td>0.40</td>\n",
       "    </tr>\n",
       "    <tr>\n",
       "      <th>27</th>\n",
       "      <td>C(opposition_team, FullRankOneHot)[3]</td>\n",
       "      <td>0.35</td>\n",
       "    </tr>\n",
       "    <tr>\n",
       "      <th>45</th>\n",
       "      <td>was_home</td>\n",
       "      <td>0.34</td>\n",
       "    </tr>\n",
       "    <tr>\n",
       "      <th>24</th>\n",
       "      <td>C(team, FullRankOneHot)[20]</td>\n",
       "      <td>0.32</td>\n",
       "    </tr>\n",
       "    <tr>\n",
       "      <th>40</th>\n",
       "      <td>C(opposition_team, FullRankOneHot)[16]</td>\n",
       "      <td>0.30</td>\n",
       "    </tr>\n",
       "    <tr>\n",
       "      <th>39</th>\n",
       "      <td>C(opposition_team, FullRankOneHot)[15]</td>\n",
       "      <td>0.27</td>\n",
       "    </tr>\n",
       "    <tr>\n",
       "      <th>12</th>\n",
       "      <td>C(team, FullRankOneHot)[8]</td>\n",
       "      <td>0.26</td>\n",
       "    </tr>\n",
       "    <tr>\n",
       "      <th>11</th>\n",
       "      <td>C(team, FullRankOneHot)[7]</td>\n",
       "      <td>0.24</td>\n",
       "    </tr>\n",
       "    <tr>\n",
       "      <th>72</th>\n",
       "      <td>rolling_avg_big_chances_element</td>\n",
       "      <td>0.21</td>\n",
       "    </tr>\n",
       "    <tr>\n",
       "      <th>43</th>\n",
       "      <td>C(opposition_team, FullRankOneHot)[19]</td>\n",
       "      <td>0.20</td>\n",
       "    </tr>\n",
       "    <tr>\n",
       "      <th>26</th>\n",
       "      <td>C(opposition_team, FullRankOneHot)[2]</td>\n",
       "      <td>0.20</td>\n",
       "    </tr>\n",
       "    <tr>\n",
       "      <th>19</th>\n",
       "      <td>C(team, FullRankOneHot)[15]</td>\n",
       "      <td>0.19</td>\n",
       "    </tr>\n",
       "    <tr>\n",
       "      <th>31</th>\n",
       "      <td>C(opposition_team, FullRankOneHot)[7]</td>\n",
       "      <td>0.13</td>\n",
       "    </tr>\n",
       "    <tr>\n",
       "      <th>61</th>\n",
       "      <td>rolling_avg_goals_scored_opposition_team</td>\n",
       "      <td>0.12</td>\n",
       "    </tr>\n",
       "    <tr>\n",
       "      <th>64</th>\n",
       "      <td>C(element_type, FullRankOneHot)[3]:rolling_avg...</td>\n",
       "      <td>0.11</td>\n",
       "    </tr>\n",
       "    <tr>\n",
       "      <th>9</th>\n",
       "      <td>C(team, FullRankOneHot)[5]</td>\n",
       "      <td>0.10</td>\n",
       "    </tr>\n",
       "    <tr>\n",
       "      <th>6</th>\n",
       "      <td>C(team, FullRankOneHot)[2]</td>\n",
       "      <td>0.09</td>\n",
       "    </tr>\n",
       "    <tr>\n",
       "      <th>22</th>\n",
       "      <td>C(team, FullRankOneHot)[18]</td>\n",
       "      <td>0.08</td>\n",
       "    </tr>\n",
       "    <tr>\n",
       "      <th>53</th>\n",
       "      <td>rolling_avg_goals_conceded_element</td>\n",
       "      <td>0.07</td>\n",
       "    </tr>\n",
       "    <tr>\n",
       "      <th>15</th>\n",
       "      <td>C(team, FullRankOneHot)[11]</td>\n",
       "      <td>0.07</td>\n",
       "    </tr>\n",
       "    <tr>\n",
       "      <th>60</th>\n",
       "      <td>rolling_avg_total_points_element_p3</td>\n",
       "      <td>0.07</td>\n",
       "    </tr>\n",
       "    <tr>\n",
       "      <th>23</th>\n",
       "      <td>C(team, FullRankOneHot)[19]</td>\n",
       "      <td>0.06</td>\n",
       "    </tr>\n",
       "    <tr>\n",
       "      <th>74</th>\n",
       "      <td>rolling_avg_big_chances_assisted_rate_element</td>\n",
       "      <td>0.06</td>\n",
       "    </tr>\n",
       "    <tr>\n",
       "      <th>42</th>\n",
       "      <td>C(opposition_team, FullRankOneHot)[18]</td>\n",
       "      <td>0.05</td>\n",
       "    </tr>\n",
       "    <tr>\n",
       "      <th>62</th>\n",
       "      <td>C(element_type, FullRankOneHot)[1]:rolling_avg...</td>\n",
       "      <td>0.04</td>\n",
       "    </tr>\n",
       "    <tr>\n",
       "      <th>46</th>\n",
       "      <td>value</td>\n",
       "      <td>0.04</td>\n",
       "    </tr>\n",
       "    <tr>\n",
       "      <th>68</th>\n",
       "      <td>C(element_type, FullRankOneHot)[2]:rolling_q3_...</td>\n",
       "      <td>0.04</td>\n",
       "    </tr>\n",
       "    <tr>\n",
       "      <th>71</th>\n",
       "      <td>expected_total_points_against_opposition_team</td>\n",
       "      <td>0.03</td>\n",
       "    </tr>\n",
       "    <tr>\n",
       "      <th>48</th>\n",
       "      <td>rolling_q3_total_points_element</td>\n",
       "      <td>0.03</td>\n",
       "    </tr>\n",
       "    <tr>\n",
       "      <th>59</th>\n",
       "      <td>rolling_avg_minutes_element_p3</td>\n",
       "      <td>0.02</td>\n",
       "    </tr>\n",
       "    <tr>\n",
       "      <th>54</th>\n",
       "      <td>rolling_avg_attempted_passes_element</td>\n",
       "      <td>0.01</td>\n",
       "    </tr>\n",
       "    <tr>\n",
       "      <th>47</th>\n",
       "      <td>is_high_value</td>\n",
       "      <td>0.00</td>\n",
       "    </tr>\n",
       "    <tr>\n",
       "      <th>0</th>\n",
       "      <td>Intercept</td>\n",
       "      <td>0.00</td>\n",
       "    </tr>\n",
       "    <tr>\n",
       "      <th>67</th>\n",
       "      <td>C(element_type, FullRankOneHot)[1]:rolling_q3_...</td>\n",
       "      <td>-0.01</td>\n",
       "    </tr>\n",
       "    <tr>\n",
       "      <th>63</th>\n",
       "      <td>C(element_type, FullRankOneHot)[2]:rolling_avg...</td>\n",
       "      <td>-0.01</td>\n",
       "    </tr>\n",
       "    <tr>\n",
       "      <th>8</th>\n",
       "      <td>C(team, FullRankOneHot)[4]</td>\n",
       "      <td>-0.02</td>\n",
       "    </tr>\n",
       "    <tr>\n",
       "      <th>65</th>\n",
       "      <td>C(element_type, FullRankOneHot)[4]:rolling_avg...</td>\n",
       "      <td>-0.02</td>\n",
       "    </tr>\n",
       "    <tr>\n",
       "      <th>52</th>\n",
       "      <td>is_keeper:rolling_avg_saves_element</td>\n",
       "      <td>-0.02</td>\n",
       "    </tr>\n",
       "    <tr>\n",
       "      <th>51</th>\n",
       "      <td>rolling_avg_saves_element</td>\n",
       "      <td>-0.02</td>\n",
       "    </tr>\n",
       "    <tr>\n",
       "      <th>55</th>\n",
       "      <td>rolling_avg_errors_leading_to_goal_attempt_ele...</td>\n",
       "      <td>-0.03</td>\n",
       "    </tr>\n",
       "    <tr>\n",
       "      <th>10</th>\n",
       "      <td>C(team, FullRankOneHot)[6]</td>\n",
       "      <td>-0.03</td>\n",
       "    </tr>\n",
       "    <tr>\n",
       "      <th>17</th>\n",
       "      <td>C(team, FullRankOneHot)[13]</td>\n",
       "      <td>-0.04</td>\n",
       "    </tr>\n",
       "    <tr>\n",
       "      <th>70</th>\n",
       "      <td>C(element_type, FullRankOneHot)[4]:rolling_q3_...</td>\n",
       "      <td>-0.04</td>\n",
       "    </tr>\n",
       "    <tr>\n",
       "      <th>7</th>\n",
       "      <td>C(team, FullRankOneHot)[3]</td>\n",
       "      <td>-0.10</td>\n",
       "    </tr>\n",
       "    <tr>\n",
       "      <th>69</th>\n",
       "      <td>C(element_type, FullRankOneHot)[3]:rolling_q3_...</td>\n",
       "      <td>-0.10</td>\n",
       "    </tr>\n",
       "    <tr>\n",
       "      <th>35</th>\n",
       "      <td>C(opposition_team, FullRankOneHot)[11]</td>\n",
       "      <td>-0.12</td>\n",
       "    </tr>\n",
       "    <tr>\n",
       "      <th>66</th>\n",
       "      <td>rolling_q3_goals_conceded_opposition_team</td>\n",
       "      <td>-0.12</td>\n",
       "    </tr>\n",
       "    <tr>\n",
       "      <th>5</th>\n",
       "      <td>C(team, FullRankOneHot)[1]</td>\n",
       "      <td>-0.12</td>\n",
       "    </tr>\n",
       "    <tr>\n",
       "      <th>38</th>\n",
       "      <td>C(opposition_team, FullRankOneHot)[14]</td>\n",
       "      <td>-0.12</td>\n",
       "    </tr>\n",
       "    <tr>\n",
       "      <th>20</th>\n",
       "      <td>C(team, FullRankOneHot)[16]</td>\n",
       "      <td>-0.13</td>\n",
       "    </tr>\n",
       "    <tr>\n",
       "      <th>44</th>\n",
       "      <td>C(opposition_team, FullRankOneHot)[20]</td>\n",
       "      <td>-0.14</td>\n",
       "    </tr>\n",
       "    <tr>\n",
       "      <th>32</th>\n",
       "      <td>C(opposition_team, FullRankOneHot)[8]</td>\n",
       "      <td>-0.14</td>\n",
       "    </tr>\n",
       "    <tr>\n",
       "      <th>73</th>\n",
       "      <td>rolling_avg_big_chances_scored_rate_element</td>\n",
       "      <td>-0.17</td>\n",
       "    </tr>\n",
       "    <tr>\n",
       "      <th>58</th>\n",
       "      <td>rolling_avg_yellow_cards_element</td>\n",
       "      <td>-0.17</td>\n",
       "    </tr>\n",
       "    <tr>\n",
       "      <th>4</th>\n",
       "      <td>C(element_type, FullRankOneHot)[4]</td>\n",
       "      <td>-0.18</td>\n",
       "    </tr>\n",
       "    <tr>\n",
       "      <th>21</th>\n",
       "      <td>C(team, FullRankOneHot)[17]</td>\n",
       "      <td>-0.28</td>\n",
       "    </tr>\n",
       "    <tr>\n",
       "      <th>3</th>\n",
       "      <td>C(element_type, FullRankOneHot)[3]</td>\n",
       "      <td>-0.31</td>\n",
       "    </tr>\n",
       "    <tr>\n",
       "      <th>13</th>\n",
       "      <td>C(team, FullRankOneHot)[9]</td>\n",
       "      <td>-0.34</td>\n",
       "    </tr>\n",
       "    <tr>\n",
       "      <th>14</th>\n",
       "      <td>C(team, FullRankOneHot)[10]</td>\n",
       "      <td>-0.35</td>\n",
       "    </tr>\n",
       "    <tr>\n",
       "      <th>2</th>\n",
       "      <td>C(element_type, FullRankOneHot)[2]</td>\n",
       "      <td>-0.39</td>\n",
       "    </tr>\n",
       "    <tr>\n",
       "      <th>30</th>\n",
       "      <td>C(opposition_team, FullRankOneHot)[6]</td>\n",
       "      <td>-0.41</td>\n",
       "    </tr>\n",
       "    <tr>\n",
       "      <th>18</th>\n",
       "      <td>C(team, FullRankOneHot)[14]</td>\n",
       "      <td>-0.46</td>\n",
       "    </tr>\n",
       "    <tr>\n",
       "      <th>49</th>\n",
       "      <td>rolling_avg_bonus_element</td>\n",
       "      <td>-0.48</td>\n",
       "    </tr>\n",
       "    <tr>\n",
       "      <th>25</th>\n",
       "      <td>C(opposition_team, FullRankOneHot)[1]</td>\n",
       "      <td>-0.50</td>\n",
       "    </tr>\n",
       "    <tr>\n",
       "      <th>41</th>\n",
       "      <td>C(opposition_team, FullRankOneHot)[17]</td>\n",
       "      <td>-0.67</td>\n",
       "    </tr>\n",
       "    <tr>\n",
       "      <th>75</th>\n",
       "      <td>rolling_avg_save_rate_element</td>\n",
       "      <td>-0.82</td>\n",
       "    </tr>\n",
       "    <tr>\n",
       "      <th>36</th>\n",
       "      <td>C(opposition_team, FullRankOneHot)[12]</td>\n",
       "      <td>-1.22</td>\n",
       "    </tr>\n",
       "    <tr>\n",
       "      <th>37</th>\n",
       "      <td>C(opposition_team, FullRankOneHot)[13]</td>\n",
       "      <td>-1.30</td>\n",
       "    </tr>\n",
       "  </tbody>\n",
       "</table>\n",
       "</div>"
      ],
      "text/plain": [
       "                                              feature  weight\n",
       "56                rolling_avg_penalties_saved_element    1.27\n",
       "57      is_keeper:rolling_avg_penalties_saved_element    1.27\n",
       "34             C(opposition_team, FullRankOneHot)[10]    1.06\n",
       "1                  C(element_type, FullRankOneHot)[1]    0.88\n",
       "33              C(opposition_team, FullRankOneHot)[9]    0.88\n",
       "50            rolling_avg_big_chances_created_element    0.81\n",
       "29              C(opposition_team, FullRankOneHot)[5]    0.77\n",
       "16                        C(team, FullRankOneHot)[12]    0.46\n",
       "28              C(opposition_team, FullRankOneHot)[4]    0.40\n",
       "27              C(opposition_team, FullRankOneHot)[3]    0.35\n",
       "45                                           was_home    0.34\n",
       "24                        C(team, FullRankOneHot)[20]    0.32\n",
       "40             C(opposition_team, FullRankOneHot)[16]    0.30\n",
       "39             C(opposition_team, FullRankOneHot)[15]    0.27\n",
       "12                         C(team, FullRankOneHot)[8]    0.26\n",
       "11                         C(team, FullRankOneHot)[7]    0.24\n",
       "72                    rolling_avg_big_chances_element    0.21\n",
       "43             C(opposition_team, FullRankOneHot)[19]    0.20\n",
       "26              C(opposition_team, FullRankOneHot)[2]    0.20\n",
       "19                        C(team, FullRankOneHot)[15]    0.19\n",
       "31              C(opposition_team, FullRankOneHot)[7]    0.13\n",
       "61           rolling_avg_goals_scored_opposition_team    0.12\n",
       "64  C(element_type, FullRankOneHot)[3]:rolling_avg...    0.11\n",
       "9                          C(team, FullRankOneHot)[5]    0.10\n",
       "6                          C(team, FullRankOneHot)[2]    0.09\n",
       "22                        C(team, FullRankOneHot)[18]    0.08\n",
       "53                 rolling_avg_goals_conceded_element    0.07\n",
       "15                        C(team, FullRankOneHot)[11]    0.07\n",
       "60                rolling_avg_total_points_element_p3    0.07\n",
       "23                        C(team, FullRankOneHot)[19]    0.06\n",
       "74      rolling_avg_big_chances_assisted_rate_element    0.06\n",
       "42             C(opposition_team, FullRankOneHot)[18]    0.05\n",
       "62  C(element_type, FullRankOneHot)[1]:rolling_avg...    0.04\n",
       "46                                              value    0.04\n",
       "68  C(element_type, FullRankOneHot)[2]:rolling_q3_...    0.04\n",
       "71      expected_total_points_against_opposition_team    0.03\n",
       "48                    rolling_q3_total_points_element    0.03\n",
       "59                     rolling_avg_minutes_element_p3    0.02\n",
       "54               rolling_avg_attempted_passes_element    0.01\n",
       "47                                      is_high_value    0.00\n",
       "0                                           Intercept    0.00\n",
       "67  C(element_type, FullRankOneHot)[1]:rolling_q3_...   -0.01\n",
       "63  C(element_type, FullRankOneHot)[2]:rolling_avg...   -0.01\n",
       "8                          C(team, FullRankOneHot)[4]   -0.02\n",
       "65  C(element_type, FullRankOneHot)[4]:rolling_avg...   -0.02\n",
       "52                is_keeper:rolling_avg_saves_element   -0.02\n",
       "51                          rolling_avg_saves_element   -0.02\n",
       "55  rolling_avg_errors_leading_to_goal_attempt_ele...   -0.03\n",
       "10                         C(team, FullRankOneHot)[6]   -0.03\n",
       "17                        C(team, FullRankOneHot)[13]   -0.04\n",
       "70  C(element_type, FullRankOneHot)[4]:rolling_q3_...   -0.04\n",
       "7                          C(team, FullRankOneHot)[3]   -0.10\n",
       "69  C(element_type, FullRankOneHot)[3]:rolling_q3_...   -0.10\n",
       "35             C(opposition_team, FullRankOneHot)[11]   -0.12\n",
       "66          rolling_q3_goals_conceded_opposition_team   -0.12\n",
       "5                          C(team, FullRankOneHot)[1]   -0.12\n",
       "38             C(opposition_team, FullRankOneHot)[14]   -0.12\n",
       "20                        C(team, FullRankOneHot)[16]   -0.13\n",
       "44             C(opposition_team, FullRankOneHot)[20]   -0.14\n",
       "32              C(opposition_team, FullRankOneHot)[8]   -0.14\n",
       "73        rolling_avg_big_chances_scored_rate_element   -0.17\n",
       "58                   rolling_avg_yellow_cards_element   -0.17\n",
       "4                  C(element_type, FullRankOneHot)[4]   -0.18\n",
       "21                        C(team, FullRankOneHot)[17]   -0.28\n",
       "3                  C(element_type, FullRankOneHot)[3]   -0.31\n",
       "13                         C(team, FullRankOneHot)[9]   -0.34\n",
       "14                        C(team, FullRankOneHot)[10]   -0.35\n",
       "2                  C(element_type, FullRankOneHot)[2]   -0.39\n",
       "30              C(opposition_team, FullRankOneHot)[6]   -0.41\n",
       "18                        C(team, FullRankOneHot)[14]   -0.46\n",
       "49                          rolling_avg_bonus_element   -0.48\n",
       "25              C(opposition_team, FullRankOneHot)[1]   -0.50\n",
       "41             C(opposition_team, FullRankOneHot)[17]   -0.67\n",
       "75                      rolling_avg_save_rate_element   -0.82\n",
       "36             C(opposition_team, FullRankOneHot)[12]   -1.22\n",
       "37             C(opposition_team, FullRankOneHot)[13]   -1.30"
      ]
     },
     "execution_count": 56,
     "metadata": {},
     "output_type": "execute_result"
    }
   ],
   "source": [
    "pd.DataFrame(\n",
    "    list(zip(list(pd.Series(X.design_info.column_names)), lr_model_all.coef_)),\n",
    "    columns=['feature', 'weight']\n",
    ").sort_values('weight', ascending=False).round(2)"
   ]
  },
  {
   "cell_type": "code",
   "execution_count": 57,
   "metadata": {
    "ExecuteTime": {
     "end_time": "2019-09-06T11:15:06.047357Z",
     "start_time": "2019-09-06T11:15:05.957426Z"
    }
   },
   "outputs": [],
   "source": [
    "dt_model_full = DecisionTreeRegressor(max_depth=3).fit(X, y.ravel())"
   ]
  },
  {
   "cell_type": "code",
   "execution_count": 58,
   "metadata": {
    "ExecuteTime": {
     "end_time": "2019-09-06T11:15:10.677203Z",
     "start_time": "2019-09-06T11:15:06.450984Z"
    }
   },
   "outputs": [
    {
     "data": {
      "image/png": "[encoded data removed]",
      "text/plain": [
       "<Figure size 3600x3600 with 1 Axes>"
      ]
     },
     "metadata": {
      "needs_background": "light"
     },
     "output_type": "display_data"
    }
   ],
   "source": [
    "plt.figure(figsize=(50, 50))\n",
    "plot_tree(\n",
    "    dt_model_full,\n",
    "    feature_names=X.design_info.column_names,\n",
    "    fontsize=12\n",
    ")\n",
    "plt.show()"
   ]
  },
  {
   "cell_type": "markdown",
   "metadata": {},
   "source": [
    "### Grid search"
   ]
  },
  {
   "cell_type": "code",
   "execution_count": 59,
   "metadata": {
    "ExecuteTime": {
     "end_time": "2019-09-06T11:15:50.973271Z",
     "start_time": "2019-09-06T11:15:50.891366Z"
    }
   },
   "outputs": [],
   "source": [
    "?XGBRegressor"
   ]
  },
  {
   "cell_type": "code",
   "execution_count": 67,
   "metadata": {
    "ExecuteTime": {
     "end_time": "2019-09-06T11:22:48.213928Z",
     "start_time": "2019-09-06T11:22:48.201579Z"
    }
   },
   "outputs": [],
   "source": [
    "learning_rate = [0.03, 0.05, 0.07]\n",
    "subsample = [0.4,0.6, 0.8]\n",
    "colsample_bynode = [0.25, 0.5, 0.75]\n",
    "reg_lambda = [0.1, 0.5, 1]\n",
    "max_depth = [2, 4, 8]\n",
    "\n",
    "gs_parameters = {\n",
    "    'learning_rate': learning_rate,\n",
    "    'subsample': subsample,\n",
    "    'colsample_bynode': colsample_bynode,\n",
    "    'reg_lambda': reg_lambda,\n",
    "    'max_depth': max_depth\n",
    "}"
   ]
  },
  {
   "cell_type": "code",
   "execution_count": null,
   "metadata": {
    "ExecuteTime": {
     "start_time": "2019-09-06T11:23:10.249Z"
    },
    "scrolled": true
   },
   "outputs": [
    {
     "name": "stdout",
     "output_type": "stream",
     "text": [
      "grid search 0\n",
      "Fitting 1 folds for each of 243 candidates, totalling 243 fits\n"
     ]
    },
    {
     "name": "stderr",
     "output_type": "stream",
     "text": [
      "[Parallel(n_jobs=1)]: Using backend SequentialBackend with 1 concurrent workers.\n",
      "[Parallel(n_jobs=1)]: Done 243 out of 243 | elapsed:  7.5min finished\n",
      "[Parallel(n_jobs=1)]: Using backend SequentialBackend with 1 concurrent workers.\n"
     ]
    },
    {
     "name": "stdout",
     "output_type": "stream",
     "text": [
      "grid search 1\n",
      "Fitting 1 folds for each of 243 candidates, totalling 243 fits\n"
     ]
    },
    {
     "name": "stderr",
     "output_type": "stream",
     "text": [
      "[Parallel(n_jobs=1)]: Done 243 out of 243 | elapsed:  7.5min finished\n",
      "[Parallel(n_jobs=1)]: Using backend SequentialBackend with 1 concurrent workers.\n"
     ]
    },
    {
     "name": "stdout",
     "output_type": "stream",
     "text": [
      "grid search 2\n",
      "Fitting 1 folds for each of 243 candidates, totalling 243 fits\n"
     ]
    },
    {
     "name": "stderr",
     "output_type": "stream",
     "text": [
      "[Parallel(n_jobs=1)]: Done 243 out of 243 | elapsed:  7.5min finished\n",
      "[Parallel(n_jobs=1)]: Using backend SequentialBackend with 1 concurrent workers.\n"
     ]
    },
    {
     "name": "stdout",
     "output_type": "stream",
     "text": [
      "grid search 3\n",
      "Fitting 1 folds for each of 243 candidates, totalling 243 fits\n"
     ]
    },
    {
     "name": "stderr",
     "output_type": "stream",
     "text": [
      "[Parallel(n_jobs=1)]: Done 243 out of 243 | elapsed:  7.5min finished\n",
      "[Parallel(n_jobs=1)]: Using backend SequentialBackend with 1 concurrent workers.\n"
     ]
    },
    {
     "name": "stdout",
     "output_type": "stream",
     "text": [
      "grid search 4\n",
      "Fitting 1 folds for each of 243 candidates, totalling 243 fits\n"
     ]
    },
    {
     "name": "stderr",
     "output_type": "stream",
     "text": [
      "[Parallel(n_jobs=1)]: Done 243 out of 243 | elapsed:  7.5min finished\n",
      "[Parallel(n_jobs=1)]: Using backend SequentialBackend with 1 concurrent workers.\n"
     ]
    },
    {
     "name": "stdout",
     "output_type": "stream",
     "text": [
      "grid search 5\n",
      "Fitting 1 folds for each of 243 candidates, totalling 243 fits\n"
     ]
    },
    {
     "name": "stderr",
     "output_type": "stream",
     "text": [
      "[Parallel(n_jobs=1)]: Done 243 out of 243 | elapsed:  7.5min finished\n",
      "[Parallel(n_jobs=1)]: Using backend SequentialBackend with 1 concurrent workers.\n"
     ]
    },
    {
     "name": "stdout",
     "output_type": "stream",
     "text": [
      "grid search 6\n",
      "Fitting 1 folds for each of 243 candidates, totalling 243 fits\n"
     ]
    },
    {
     "name": "stderr",
     "output_type": "stream",
     "text": [
      "[Parallel(n_jobs=1)]: Done 243 out of 243 | elapsed:  7.5min finished\n",
      "[Parallel(n_jobs=1)]: Using backend SequentialBackend with 1 concurrent workers.\n"
     ]
    },
    {
     "name": "stdout",
     "output_type": "stream",
     "text": [
      "grid search 7\n",
      "Fitting 1 folds for each of 243 candidates, totalling 243 fits\n"
     ]
    },
    {
     "name": "stderr",
     "output_type": "stream",
     "text": [
      "[Parallel(n_jobs=1)]: Done 243 out of 243 | elapsed:  7.5min finished\n",
      "[Parallel(n_jobs=1)]: Using backend SequentialBackend with 1 concurrent workers.\n"
     ]
    },
    {
     "name": "stdout",
     "output_type": "stream",
     "text": [
      "grid search 8\n",
      "Fitting 1 folds for each of 243 candidates, totalling 243 fits\n"
     ]
    },
    {
     "name": "stderr",
     "output_type": "stream",
     "text": [
      "[Parallel(n_jobs=1)]: Done 243 out of 243 | elapsed:  7.5min finished\n",
      "[Parallel(n_jobs=1)]: Using backend SequentialBackend with 1 concurrent workers.\n"
     ]
    },
    {
     "name": "stdout",
     "output_type": "stream",
     "text": [
      "grid search 9\n",
      "Fitting 1 folds for each of 243 candidates, totalling 243 fits\n"
     ]
    },
    {
     "name": "stderr",
     "output_type": "stream",
     "text": [
      "[Parallel(n_jobs=1)]: Done 243 out of 243 | elapsed:  7.5min finished\n",
      "[Parallel(n_jobs=1)]: Using backend SequentialBackend with 1 concurrent workers.\n"
     ]
    },
    {
     "name": "stdout",
     "output_type": "stream",
     "text": [
      "grid search 10\n",
      "Fitting 1 folds for each of 243 candidates, totalling 243 fits\n"
     ]
    },
    {
     "name": "stderr",
     "output_type": "stream",
     "text": [
      "[Parallel(n_jobs=1)]: Done 243 out of 243 | elapsed:  7.5min finished\n",
      "[Parallel(n_jobs=1)]: Using backend SequentialBackend with 1 concurrent workers.\n"
     ]
    },
    {
     "name": "stdout",
     "output_type": "stream",
     "text": [
      "grid search 11\n",
      "Fitting 1 folds for each of 243 candidates, totalling 243 fits\n"
     ]
    },
    {
     "name": "stderr",
     "output_type": "stream",
     "text": [
      "[Parallel(n_jobs=1)]: Done 243 out of 243 | elapsed:  7.5min finished\n",
      "[Parallel(n_jobs=1)]: Using backend SequentialBackend with 1 concurrent workers.\n"
     ]
    },
    {
     "name": "stdout",
     "output_type": "stream",
     "text": [
      "grid search 12\n",
      "Fitting 1 folds for each of 243 candidates, totalling 243 fits\n"
     ]
    },
    {
     "name": "stderr",
     "output_type": "stream",
     "text": [
      "[Parallel(n_jobs=1)]: Done 243 out of 243 | elapsed:  7.5min finished\n",
      "[Parallel(n_jobs=1)]: Using backend SequentialBackend with 1 concurrent workers.\n"
     ]
    },
    {
     "name": "stdout",
     "output_type": "stream",
     "text": [
      "grid search 13\n",
      "Fitting 1 folds for each of 243 candidates, totalling 243 fits\n"
     ]
    },
    {
     "name": "stderr",
     "output_type": "stream",
     "text": [
      "[Parallel(n_jobs=1)]: Done 243 out of 243 | elapsed:  7.6min finished\n",
      "[Parallel(n_jobs=1)]: Using backend SequentialBackend with 1 concurrent workers.\n"
     ]
    },
    {
     "name": "stdout",
     "output_type": "stream",
     "text": [
      "grid search 14\n",
      "Fitting 1 folds for each of 243 candidates, totalling 243 fits\n"
     ]
    },
    {
     "name": "stderr",
     "output_type": "stream",
     "text": [
      "[Parallel(n_jobs=1)]: Done 243 out of 243 | elapsed:  7.5min finished\n",
      "[Parallel(n_jobs=1)]: Using backend SequentialBackend with 1 concurrent workers.\n"
     ]
    },
    {
     "name": "stdout",
     "output_type": "stream",
     "text": [
      "grid search 15\n",
      "Fitting 1 folds for each of 243 candidates, totalling 243 fits\n"
     ]
    },
    {
     "name": "stderr",
     "output_type": "stream",
     "text": [
      "[Parallel(n_jobs=1)]: Done 243 out of 243 | elapsed:  7.5min finished\n",
      "[Parallel(n_jobs=1)]: Using backend SequentialBackend with 1 concurrent workers.\n"
     ]
    },
    {
     "name": "stdout",
     "output_type": "stream",
     "text": [
      "grid search 16\n",
      "Fitting 1 folds for each of 243 candidates, totalling 243 fits\n"
     ]
    },
    {
     "name": "stderr",
     "output_type": "stream",
     "text": [
      "[Parallel(n_jobs=1)]: Done 243 out of 243 | elapsed:  7.5min finished\n",
      "[Parallel(n_jobs=1)]: Using backend SequentialBackend with 1 concurrent workers.\n"
     ]
    },
    {
     "name": "stdout",
     "output_type": "stream",
     "text": [
      "grid search 17\n",
      "Fitting 1 folds for each of 243 candidates, totalling 243 fits\n"
     ]
    }
   ],
   "source": [
    "gs_df_arr = []\n",
    "for i in range(0, 20):\n",
    "    print('grid search', i)\n",
    "    gs = GridSearchCV(\n",
    "        XGBRegressor(\n",
    "            objective='reg:squarederror',\n",
    "            n_estimators=100\n",
    "        ),\n",
    "        gs_parameters,\n",
    "        scoring='neg_mean_squared_error',\n",
    "        refit=False,\n",
    "        cv=ps,\n",
    "        return_train_score=True,\n",
    "        error_score=100, n_jobs=1, verbose=1)\n",
    "    gs.fit(X, y.ravel())\n",
    "    \n",
    "    gs_df = pd.DataFrame(gs.cv_results_)\n",
    "    gs_df_arr.append(gs_df)"
   ]
  },
  {
   "cell_type": "code",
   "execution_count": null,
   "metadata": {
    "ExecuteTime": {
     "start_time": "2019-09-06T11:23:12.090Z"
    }
   },
   "outputs": [],
   "source": [
    "gs_df = pd.concat(gs_df_arr)\n",
    "[[\n",
    "    'param_learning_rate',\n",
    "    'param_subsample',\n",
    "    'param_reg_lambda',\n",
    "    'param_max_depth',\n",
    "    'mean_test_score',\n",
    "    'mean_train_score'\n",
    "]]"
   ]
  },
  {
   "cell_type": "markdown",
   "metadata": {},
   "source": [
    "# Evaluating model"
   ]
  },
  {
   "cell_type": "markdown",
   "metadata": {},
   "source": [
    "## XGBoost"
   ]
  },
  {
   "cell_type": "code",
   "execution_count": null,
   "metadata": {
    "ExecuteTime": {
     "end_time": "2019-08-06T14:43:19.549826Z",
     "start_time": "2019-08-06T14:43:14.526091Z"
    }
   },
   "outputs": [],
   "source": [
    "model = XGBRegressor(\n",
    "    objective='reg:squarederror',\n",
    "    n_estimators=500,\n",
    "    subsample=1.0,\n",
    "    learning_rate=0.015,\n",
    "    colsample_bylevel=0.2,\n",
    "    reg_lambda=0.005,\n",
    "    max_depth=15,\n",
    ")\n",
    "\n",
    "model.fit(X_train, y_train.ravel())"
   ]
  },
  {
   "cell_type": "code",
   "execution_count": null,
   "metadata": {
    "ExecuteTime": {
     "end_time": "2019-08-06T14:43:19.724302Z",
     "start_time": "2019-08-06T14:43:19.552999Z"
    }
   },
   "outputs": [],
   "source": [
    "# get predictions for test set\n",
    "y_pred = model.predict(X_test).flatten()\n",
    "\n",
    "# calculate cross entropy loss for test set\n",
    "test_loss = (\n",
    "    mean_absolute_error(y_test, y_pred),\n",
    "    mean_squared_error(y_test, y_pred),\n",
    "    r2_score(y_test, y_pred)\n",
    ")\n",
    "test_loss"
   ]
  },
  {
   "cell_type": "code",
   "execution_count": null,
   "metadata": {
    "ExecuteTime": {
     "end_time": "2019-08-06T14:43:26.250161Z",
     "start_time": "2019-08-06T14:43:19.726565Z"
    }
   },
   "outputs": [],
   "source": [
    "# refit model on all data\n",
    "model_full = XGBRegressor(\n",
    "    objective='reg:squarederror',\n",
    "    n_estimators=500,\n",
    "    subsample=1.0,\n",
    "    learning_rate=0.015,\n",
    "    colsample_bylevel=0.2,\n",
    "    reg_lambda=0.005,\n",
    "    max_depth=15\n",
    ")\n",
    "\n",
    "model_full.fit(X, y.ravel())"
   ]
  },
  {
   "cell_type": "code",
   "execution_count": null,
   "metadata": {
    "ExecuteTime": {
     "end_time": "2019-08-06T14:43:26.969344Z",
     "start_time": "2019-08-06T14:43:26.257039Z"
    }
   },
   "outputs": [],
   "source": [
    "# get predictions for whole set\n",
    "y_pred_full = model_full.predict(X).flatten()\n",
    "\n",
    "# calculate cross entropy loss for test set\n",
    "test_loss_full = (\n",
    "    mean_absolute_error(y, y_pred_full),\n",
    "    mean_squared_error(y, y_pred_full),\n",
    "    r2_score(y, y_pred_full)\n",
    ")\n",
    "test_loss_full"
   ]
  },
  {
   "cell_type": "code",
   "execution_count": null,
   "metadata": {
    "ExecuteTime": {
     "end_time": "2019-08-06T14:43:27.495771Z",
     "start_time": "2019-08-06T14:43:26.974258Z"
    }
   },
   "outputs": [],
   "source": [
    "plt.figure(figsize=(10, 8))\n",
    "plt.hist(pd.Series(y_pred), bins=range(-5,20), alpha=0.75, density=True, label='predicted')\n",
    "plt.hist(pd.Series(y_test.ravel()), bins=range(-5,20), alpha=0.75, density=True, label='observed')\n",
    "plt.legend()\n",
    "plt.show()"
   ]
  },
  {
   "cell_type": "code",
   "execution_count": null,
   "metadata": {
    "ExecuteTime": {
     "end_time": "2019-08-06T14:43:27.901790Z",
     "start_time": "2019-08-06T14:43:27.500185Z"
    }
   },
   "outputs": [],
   "source": [
    "plt.figure(figsize=(10, 8))\n",
    "plt.scatter(pd.Series(y_test.ravel()), pd.Series(y_pred), alpha=0.1)\n",
    "plt.plot(np.linspace(-5, 25), np.linspace(-5, 25))\n",
    "plt.ylabel('Predicted total points')\n",
    "plt.xlabel('Observed total points')\n",
    "plt.ylim((-3, 12))\n",
    "plt.show()"
   ]
  },
  {
   "cell_type": "markdown",
   "metadata": {},
   "source": [
    "## Summary"
   ]
  },
  {
   "cell_type": "code",
   "execution_count": null,
   "metadata": {
    "ExecuteTime": {
     "end_time": "2019-08-06T14:43:53.592547Z",
     "start_time": "2019-08-06T14:43:53.562392Z"
    }
   },
   "outputs": [],
   "source": [
    "pd.DataFrame([\n",
    "    ('XGBoost', test_loss[0], test_loss[1], test_loss[2]),\n",
    "], columns=['model', 'MAE', 'MSE', 'r2'])"
   ]
  },
  {
   "cell_type": "code",
   "execution_count": null,
   "metadata": {
    "ExecuteTime": {
     "end_time": "2019-08-06T14:43:54.554616Z",
     "start_time": "2019-08-06T14:43:54.531184Z"
    }
   },
   "outputs": [],
   "source": [
    "pd.DataFrame([\n",
    "    ('XGBoost', test_loss_full[0], test_loss_full[1], test_loss_full[2]),\n",
    "], columns=['model', 'MAE', 'MSE', 'r2'])"
   ]
  }
 ],
 "metadata": {
  "kernelspec": {
   "display_name": "Python 3",
   "language": "python",
   "name": "python3"
  },
  "language_info": {
   "codemirror_mode": {
    "name": "ipython",
    "version": 3
   },
   "file_extension": ".py",
   "mimetype": "text/x-python",
   "name": "python",
   "nbconvert_exporter": "python",
   "pygments_lexer": "ipython3",
   "version": "3.6.7"
  },
  "toc": {
   "nav_menu": {},
   "number_sections": true,
   "sideBar": true,
   "skip_h1_title": false,
   "title_cell": "Table of Contents",
   "title_sidebar": "Contents",
   "toc_cell": false,
   "toc_position": {},
   "toc_section_display": true,
   "toc_window_display": false
  }
 },
 "nbformat": 4,
 "nbformat_minor": 2
}
