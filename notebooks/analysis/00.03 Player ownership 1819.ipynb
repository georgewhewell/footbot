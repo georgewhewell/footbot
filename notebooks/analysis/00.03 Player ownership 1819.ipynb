{
 "cells": [
  {
   "cell_type": "markdown",
   "metadata": {},
   "source": [
    "# Set up"
   ]
  },
  {
   "cell_type": "code",
   "execution_count": 7,
   "metadata": {
    "ExecuteTime": {
     "end_time": "2019-09-14T07:39:09.411249Z",
     "start_time": "2019-09-14T07:39:08.832418Z"
    }
   },
   "outputs": [],
   "source": [
    "import json\n",
    "import pandas as pd\n",
    "from footbot.data import utils"
   ]
  },
  {
   "cell_type": "code",
   "execution_count": 2,
   "metadata": {
    "ExecuteTime": {
     "end_time": "2019-09-14T07:34:08.436536Z",
     "start_time": "2019-09-14T07:34:08.431857Z"
    }
   },
   "outputs": [],
   "source": [
    "pd.set_option('display.max_rows', 500)\n",
    "pd.set_option('display.max_columns', 500)"
   ]
  },
  {
   "cell_type": "markdown",
   "metadata": {},
   "source": [
    "# Getting data"
   ]
  },
  {
   "cell_type": "code",
   "execution_count": 3,
   "metadata": {
    "ExecuteTime": {
     "end_time": "2019-09-14T07:34:09.519904Z",
     "start_time": "2019-09-14T07:34:09.368306Z"
    }
   },
   "outputs": [],
   "source": [
    "with open('./data/top_50_weekly_data.json') as f: # Use file to refer to the file object\n",
    "    d = json.load(f)"
   ]
  },
  {
   "cell_type": "code",
   "execution_count": 8,
   "metadata": {
    "ExecuteTime": {
     "end_time": "2019-09-14T07:39:23.597941Z",
     "start_time": "2019-09-14T07:39:23.457719Z"
    }
   },
   "outputs": [],
   "source": [
    "picks_df = pd.DataFrame([j for sl in [i['picks'] for i in d] for j in sl])[\n",
    "    [\n",
    "        'entry',\n",
    "        'event',\n",
    "        'element',\n",
    "        'position',\n",
    "        'multiplier',\n",
    "        'is_captain',\n",
    "        'is_vice_captain',\n",
    "    ]\n",
    "]"
   ]
  },
  {
   "cell_type": "code",
   "execution_count": 14,
   "metadata": {
    "ExecuteTime": {
     "end_time": "2019-09-14T07:41:53.505330Z",
     "start_time": "2019-09-14T07:41:44.561083Z"
    }
   },
   "outputs": [],
   "source": [
    "utils.write_to_table(\n",
    "    'fpl',\n",
    "    'top_entries_picks_1819',\n",
    "    picks_df,\n",
    "    secrets_path='../secrets/service_account.json',\n",
    "    csvs_path='../csvs/',\n",
    ")"
   ]
  },
  {
   "cell_type": "code",
   "execution_count": 30,
   "metadata": {
    "ExecuteTime": {
     "end_time": "2019-09-14T07:56:00.495318Z",
     "start_time": "2019-09-14T07:56:00.475203Z"
    }
   },
   "outputs": [],
   "source": [
    "chips_df = pd.DataFrame([\n",
    "    {\n",
    "        'entry': i['entry_history']['id'],\n",
    "        'event': i['event']['id'],\n",
    "        'active_chip': i['active_chip'],\n",
    "    } for i in d\n",
    "])"
   ]
  },
  {
   "cell_type": "code",
   "execution_count": 31,
   "metadata": {
    "ExecuteTime": {
     "end_time": "2019-09-14T07:56:09.519281Z",
     "start_time": "2019-09-14T07:56:09.494840Z"
    }
   },
   "outputs": [
    {
     "data": {
      "text/html": [
       "<div>\n",
       "<style scoped>\n",
       "    .dataframe tbody tr th:only-of-type {\n",
       "        vertical-align: middle;\n",
       "    }\n",
       "\n",
       "    .dataframe tbody tr th {\n",
       "        vertical-align: top;\n",
       "    }\n",
       "\n",
       "    .dataframe thead th {\n",
       "        text-align: right;\n",
       "    }\n",
       "</style>\n",
       "<table border=\"1\" class=\"dataframe\">\n",
       "  <thead>\n",
       "    <tr style=\"text-align: right;\">\n",
       "      <th></th>\n",
       "      <th>entry</th>\n",
       "      <th>event</th>\n",
       "      <th>active_chip</th>\n",
       "    </tr>\n",
       "  </thead>\n",
       "  <tbody>\n",
       "    <tr>\n",
       "      <td>0</td>\n",
       "      <td>107827</td>\n",
       "      <td>1</td>\n",
       "      <td></td>\n",
       "    </tr>\n",
       "    <tr>\n",
       "      <td>1</td>\n",
       "      <td>4664139</td>\n",
       "      <td>2</td>\n",
       "      <td></td>\n",
       "    </tr>\n",
       "    <tr>\n",
       "      <td>2</td>\n",
       "      <td>9773353</td>\n",
       "      <td>3</td>\n",
       "      <td></td>\n",
       "    </tr>\n",
       "    <tr>\n",
       "      <td>3</td>\n",
       "      <td>15147223</td>\n",
       "      <td>4</td>\n",
       "      <td></td>\n",
       "    </tr>\n",
       "    <tr>\n",
       "      <td>4</td>\n",
       "      <td>20652163</td>\n",
       "      <td>5</td>\n",
       "      <td></td>\n",
       "    </tr>\n",
       "  </tbody>\n",
       "</table>\n",
       "</div>"
      ],
      "text/plain": [
       "      entry  event active_chip\n",
       "0    107827      1            \n",
       "1   4664139      2            \n",
       "2   9773353      3            \n",
       "3  15147223      4            \n",
       "4  20652163      5            "
      ]
     },
     "execution_count": 31,
     "metadata": {},
     "output_type": "execute_result"
    }
   ],
   "source": [
    "utils.write_to_table(\n",
    "    'fpl',\n",
    "    'top_entries_chips_1819',\n",
    "    chips_df,\n",
    "    secrets_path='../secrets/service_account.json',\n",
    "    csvs_path='../csvs/',\n",
    ")"
   ]
  },
  {
   "cell_type": "code",
   "execution_count": null,
   "metadata": {},
   "outputs": [],
   "source": []
  }
 ],
 "metadata": {
  "kernelspec": {
   "display_name": "Python 3",
   "language": "python",
   "name": "python3"
  },
  "language_info": {
   "codemirror_mode": {
    "name": "ipython",
    "version": 3
   },
   "file_extension": ".py",
   "mimetype": "text/x-python",
   "name": "python",
   "nbconvert_exporter": "python",
   "pygments_lexer": "ipython3",
   "version": "3.6.7"
  },
  "toc": {
   "nav_menu": {},
   "number_sections": true,
   "sideBar": true,
   "skip_h1_title": false,
   "title_cell": "Table of Contents",
   "title_sidebar": "Contents",
   "toc_cell": false,
   "toc_position": {},
   "toc_section_display": true,
   "toc_window_display": false
  }
 },
 "nbformat": 4,
 "nbformat_minor": 2
}
