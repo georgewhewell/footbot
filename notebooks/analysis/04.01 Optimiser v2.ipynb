{
 "cells": [
  {
   "cell_type": "markdown",
   "metadata": {},
   "source": [
    "# Set up"
   ]
  },
  {
   "cell_type": "code",
   "execution_count": 36,
   "metadata": {
    "ExecuteTime": {
     "end_time": "2019-09-28T06:17:32.287903Z",
     "start_time": "2019-09-28T06:17:32.279373Z"
    }
   },
   "outputs": [],
   "source": [
    "import numpy as np\n",
    "import cvxpy as cp\n",
    "import pandas as pd\n",
    "from footbot.data import utils\n",
    "import requests\n",
    "import json\n",
    "from footbot.optimiser import team_selector\n",
    "from footbot.data import element_data"
   ]
  },
  {
   "cell_type": "markdown",
   "metadata": {},
   "source": [
    "# Getting data"
   ]
  },
  {
   "cell_type": "code",
   "execution_count": 3,
   "metadata": {
    "ExecuteTime": {
     "end_time": "2019-09-27T10:46:18.324969Z",
     "start_time": "2019-09-27T10:46:15.362949Z"
    }
   },
   "outputs": [
    {
     "data": {
      "text/html": [
       "<div>\n",
       "<style scoped>\n",
       "    .dataframe tbody tr th:only-of-type {\n",
       "        vertical-align: middle;\n",
       "    }\n",
       "\n",
       "    .dataframe tbody tr th {\n",
       "        vertical-align: top;\n",
       "    }\n",
       "\n",
       "    .dataframe thead th {\n",
       "        text-align: right;\n",
       "    }\n",
       "</style>\n",
       "<table border=\"1\" class=\"dataframe\">\n",
       "  <thead>\n",
       "    <tr style=\"text-align: right;\">\n",
       "      <th></th>\n",
       "      <th>element</th>\n",
       "      <th>element_type</th>\n",
       "      <th>value</th>\n",
       "      <th>team</th>\n",
       "      <th>total_points</th>\n",
       "      <th>minutes</th>\n",
       "      <th>points_per_minute</th>\n",
       "      <th>safe_web_name</th>\n",
       "    </tr>\n",
       "  </thead>\n",
       "  <tbody>\n",
       "    <tr>\n",
       "      <td>0</td>\n",
       "      <td>11</td>\n",
       "      <td>4</td>\n",
       "      <td>110</td>\n",
       "      <td>1</td>\n",
       "      <td>44</td>\n",
       "      <td>540</td>\n",
       "      <td>0.081481</td>\n",
       "      <td>aubameyang</td>\n",
       "    </tr>\n",
       "    <tr>\n",
       "      <td>1</td>\n",
       "      <td>39</td>\n",
       "      <td>2</td>\n",
       "      <td>44</td>\n",
       "      <td>4</td>\n",
       "      <td>2</td>\n",
       "      <td>67</td>\n",
       "      <td>0.029851</td>\n",
       "      <td>bernardo</td>\n",
       "    </tr>\n",
       "    <tr>\n",
       "      <td>2</td>\n",
       "      <td>51</td>\n",
       "      <td>3</td>\n",
       "      <td>54</td>\n",
       "      <td>4</td>\n",
       "      <td>0</td>\n",
       "      <td>0</td>\n",
       "      <td>0.000000</td>\n",
       "      <td>izquierdo</td>\n",
       "    </tr>\n",
       "    <tr>\n",
       "      <td>3</td>\n",
       "      <td>61</td>\n",
       "      <td>2</td>\n",
       "      <td>45</td>\n",
       "      <td>3</td>\n",
       "      <td>13</td>\n",
       "      <td>271</td>\n",
       "      <td>0.047970</td>\n",
       "      <td>mepham</td>\n",
       "    </tr>\n",
       "    <tr>\n",
       "      <td>4</td>\n",
       "      <td>89</td>\n",
       "      <td>2</td>\n",
       "      <td>40</td>\n",
       "      <td>5</td>\n",
       "      <td>0</td>\n",
       "      <td>0</td>\n",
       "      <td>0.000000</td>\n",
       "      <td>gibson</td>\n",
       "    </tr>\n",
       "  </tbody>\n",
       "</table>\n",
       "</div>"
      ],
      "text/plain": [
       "   element  element_type  value  team  total_points  minutes  \\\n",
       "0       11             4    110     1            44      540   \n",
       "1       39             2     44     4             2       67   \n",
       "2       51             3     54     4             0        0   \n",
       "3       61             2     45     3            13      271   \n",
       "4       89             2     40     5             0        0   \n",
       "\n",
       "   points_per_minute safe_web_name  \n",
       "0           0.081481    aubameyang  \n",
       "1           0.029851      bernardo  \n",
       "2           0.000000     izquierdo  \n",
       "3           0.047970        mepham  \n",
       "4           0.000000        gibson  "
      ]
     },
     "execution_count": 3,
     "metadata": {},
     "output_type": "execute_result"
    }
   ],
   "source": [
    "client = utils.set_up_bigquery(\n",
    "    secrets_path='../secrets/service_account.json'\n",
    ")\n",
    "\n",
    "current_sql = \\\n",
    "'''\n",
    "SELECT\n",
    "  element,\n",
    "  element_type,\n",
    "  value,\n",
    "  team,\n",
    "  total_points,\n",
    "  minutes,\n",
    "  COALESCE(SAFE_DIVIDE(total_points, minutes), 0) AS points_per_minute,\n",
    "  safe_web_name\n",
    "FROM (\n",
    "  SELECT\n",
    "    element,\n",
    "    element_type,\n",
    "    now_cost AS value,\n",
    "    team,\n",
    "    total_points,\n",
    "    minutes,\n",
    "    safe_web_name,\n",
    "    ROW_NUMBER() OVER(PARTITION BY element ORDER BY datetime DESC) AS is_most_recent\n",
    "  FROM\n",
    "    `footbot-001.fpl.element_data_1920` )\n",
    "WHERE\n",
    "  is_most_recent = 1\n",
    "'''\n",
    "\n",
    "current_df = client.query(current_sql).to_dataframe()\n",
    "current_df.head()"
   ]
  },
  {
   "cell_type": "code",
   "execution_count": 4,
   "metadata": {
    "ExecuteTime": {
     "end_time": "2019-09-27T10:46:26.653072Z",
     "start_time": "2019-09-27T10:46:26.641131Z"
    }
   },
   "outputs": [],
   "source": [
    "players = current_df.to_dict('records')"
   ]
  },
  {
   "cell_type": "markdown",
   "metadata": {},
   "source": [
    "# Optimiser"
   ]
  },
  {
   "cell_type": "markdown",
   "metadata": {},
   "source": [
    "## From scratch"
   ]
  },
  {
   "cell_type": "code",
   "execution_count": 14,
   "metadata": {
    "ExecuteTime": {
     "end_time": "2019-09-27T10:47:21.535551Z",
     "start_time": "2019-09-27T10:47:21.397960Z"
    }
   },
   "outputs": [
    {
     "name": "stdout",
     "output_type": "stream",
     "text": [
      "[215, 304, 191, 463, 210, 460, 297, 447, 219, 278, 388]\n",
      "[210]\n",
      "[128, 319, 21, 65]\n"
     ]
    }
   ],
   "source": [
    "first_team_elements, captain_elements, bench_elements, transfers = \\\n",
    "team_selector.select_team(\n",
    "    players,\n",
    "    total_budget=1000,\n",
    "    optimise_key='total_points',\n",
    "    bench_factor=0.1\n",
    ")\n",
    "print(first_team_elements)\n",
    "print(captain_elements)\n",
    "print(bench_elements)"
   ]
  },
  {
   "cell_type": "code",
   "execution_count": 15,
   "metadata": {
    "ExecuteTime": {
     "end_time": "2019-09-27T10:47:27.895030Z",
     "start_time": "2019-09-27T10:47:27.875119Z"
    }
   },
   "outputs": [
    {
     "data": {
      "text/html": [
       "<div>\n",
       "<style scoped>\n",
       "    .dataframe tbody tr th:only-of-type {\n",
       "        vertical-align: middle;\n",
       "    }\n",
       "\n",
       "    .dataframe tbody tr th {\n",
       "        vertical-align: top;\n",
       "    }\n",
       "\n",
       "    .dataframe thead th {\n",
       "        text-align: right;\n",
       "    }\n",
       "</style>\n",
       "<table border=\"1\" class=\"dataframe\">\n",
       "  <thead>\n",
       "    <tr style=\"text-align: right;\">\n",
       "      <th></th>\n",
       "      <th>element</th>\n",
       "      <th>element_type</th>\n",
       "      <th>value</th>\n",
       "      <th>team</th>\n",
       "      <th>total_points</th>\n",
       "      <th>minutes</th>\n",
       "      <th>points_per_minute</th>\n",
       "      <th>safe_web_name</th>\n",
       "    </tr>\n",
       "  </thead>\n",
       "  <tbody>\n",
       "    <tr>\n",
       "      <td>509</td>\n",
       "      <td>388</td>\n",
       "      <td>1</td>\n",
       "      <td>50</td>\n",
       "      <td>19</td>\n",
       "      <td>31</td>\n",
       "      <td>540</td>\n",
       "      <td>0.057407</td>\n",
       "      <td>fabianski</td>\n",
       "    </tr>\n",
       "    <tr>\n",
       "      <td>39</td>\n",
       "      <td>304</td>\n",
       "      <td>2</td>\n",
       "      <td>52</td>\n",
       "      <td>16</td>\n",
       "      <td>28</td>\n",
       "      <td>540</td>\n",
       "      <td>0.051852</td>\n",
       "      <td>vestergaard</td>\n",
       "    </tr>\n",
       "    <tr>\n",
       "      <td>329</td>\n",
       "      <td>297</td>\n",
       "      <td>2</td>\n",
       "      <td>44</td>\n",
       "      <td>15</td>\n",
       "      <td>32</td>\n",
       "      <td>508</td>\n",
       "      <td>0.062992</td>\n",
       "      <td>lundstram</td>\n",
       "    </tr>\n",
       "    <tr>\n",
       "      <td>368</td>\n",
       "      <td>447</td>\n",
       "      <td>2</td>\n",
       "      <td>47</td>\n",
       "      <td>5</td>\n",
       "      <td>27</td>\n",
       "      <td>540</td>\n",
       "      <td>0.050000</td>\n",
       "      <td>pieters</td>\n",
       "    </tr>\n",
       "    <tr>\n",
       "      <td>34</td>\n",
       "      <td>215</td>\n",
       "      <td>3</td>\n",
       "      <td>99</td>\n",
       "      <td>11</td>\n",
       "      <td>54</td>\n",
       "      <td>449</td>\n",
       "      <td>0.120267</td>\n",
       "      <td>de bruyne</td>\n",
       "    </tr>\n",
       "    <tr>\n",
       "      <td>89</td>\n",
       "      <td>191</td>\n",
       "      <td>3</td>\n",
       "      <td>125</td>\n",
       "      <td>10</td>\n",
       "      <td>50</td>\n",
       "      <td>528</td>\n",
       "      <td>0.094697</td>\n",
       "      <td>salah</td>\n",
       "    </tr>\n",
       "    <tr>\n",
       "      <td>186</td>\n",
       "      <td>463</td>\n",
       "      <td>3</td>\n",
       "      <td>66</td>\n",
       "      <td>6</td>\n",
       "      <td>33</td>\n",
       "      <td>540</td>\n",
       "      <td>0.061111</td>\n",
       "      <td>mount</td>\n",
       "    </tr>\n",
       "    <tr>\n",
       "      <td>438</td>\n",
       "      <td>219</td>\n",
       "      <td>3</td>\n",
       "      <td>76</td>\n",
       "      <td>11</td>\n",
       "      <td>36</td>\n",
       "      <td>404</td>\n",
       "      <td>0.089109</td>\n",
       "      <td>david silva</td>\n",
       "    </tr>\n",
       "    <tr>\n",
       "      <td>274</td>\n",
       "      <td>210</td>\n",
       "      <td>4</td>\n",
       "      <td>122</td>\n",
       "      <td>11</td>\n",
       "      <td>55</td>\n",
       "      <td>446</td>\n",
       "      <td>0.123318</td>\n",
       "      <td>aguero</td>\n",
       "    </tr>\n",
       "    <tr>\n",
       "      <td>314</td>\n",
       "      <td>460</td>\n",
       "      <td>4</td>\n",
       "      <td>75</td>\n",
       "      <td>6</td>\n",
       "      <td>44</td>\n",
       "      <td>403</td>\n",
       "      <td>0.109181</td>\n",
       "      <td>abraham</td>\n",
       "    </tr>\n",
       "    <tr>\n",
       "      <td>443</td>\n",
       "      <td>278</td>\n",
       "      <td>4</td>\n",
       "      <td>71</td>\n",
       "      <td>14</td>\n",
       "      <td>51</td>\n",
       "      <td>532</td>\n",
       "      <td>0.095865</td>\n",
       "      <td>pukki</td>\n",
       "    </tr>\n",
       "  </tbody>\n",
       "</table>\n",
       "</div>"
      ],
      "text/plain": [
       "     element  element_type  value  team  total_points  minutes  \\\n",
       "509      388             1     50    19            31      540   \n",
       "39       304             2     52    16            28      540   \n",
       "329      297             2     44    15            32      508   \n",
       "368      447             2     47     5            27      540   \n",
       "34       215             3     99    11            54      449   \n",
       "89       191             3    125    10            50      528   \n",
       "186      463             3     66     6            33      540   \n",
       "438      219             3     76    11            36      404   \n",
       "274      210             4    122    11            55      446   \n",
       "314      460             4     75     6            44      403   \n",
       "443      278             4     71    14            51      532   \n",
       "\n",
       "     points_per_minute safe_web_name  \n",
       "509           0.057407     fabianski  \n",
       "39            0.051852   vestergaard  \n",
       "329           0.062992     lundstram  \n",
       "368           0.050000       pieters  \n",
       "34            0.120267     de bruyne  \n",
       "89            0.094697         salah  \n",
       "186           0.061111         mount  \n",
       "438           0.089109   david silva  \n",
       "274           0.123318        aguero  \n",
       "314           0.109181       abraham  \n",
       "443           0.095865         pukki  "
      ]
     },
     "execution_count": 15,
     "metadata": {},
     "output_type": "execute_result"
    }
   ],
   "source": [
    "current_df[current_df['element'].isin(first_team_elements)].sort_values('element_type')"
   ]
  },
  {
   "cell_type": "code",
   "execution_count": 16,
   "metadata": {
    "ExecuteTime": {
     "end_time": "2019-09-27T10:47:30.442418Z",
     "start_time": "2019-09-27T10:47:30.423000Z"
    }
   },
   "outputs": [
    {
     "data": {
      "text/html": [
       "<div>\n",
       "<style scoped>\n",
       "    .dataframe tbody tr th:only-of-type {\n",
       "        vertical-align: middle;\n",
       "    }\n",
       "\n",
       "    .dataframe tbody tr th {\n",
       "        vertical-align: top;\n",
       "    }\n",
       "\n",
       "    .dataframe thead th {\n",
       "        text-align: right;\n",
       "    }\n",
       "</style>\n",
       "<table border=\"1\" class=\"dataframe\">\n",
       "  <thead>\n",
       "    <tr style=\"text-align: right;\">\n",
       "      <th></th>\n",
       "      <th>element</th>\n",
       "      <th>element_type</th>\n",
       "      <th>value</th>\n",
       "      <th>team</th>\n",
       "      <th>total_points</th>\n",
       "      <th>minutes</th>\n",
       "      <th>points_per_minute</th>\n",
       "      <th>safe_web_name</th>\n",
       "    </tr>\n",
       "  </thead>\n",
       "  <tbody>\n",
       "    <tr>\n",
       "      <td>274</td>\n",
       "      <td>210</td>\n",
       "      <td>4</td>\n",
       "      <td>122</td>\n",
       "      <td>11</td>\n",
       "      <td>55</td>\n",
       "      <td>446</td>\n",
       "      <td>0.123318</td>\n",
       "      <td>aguero</td>\n",
       "    </tr>\n",
       "  </tbody>\n",
       "</table>\n",
       "</div>"
      ],
      "text/plain": [
       "     element  element_type  value  team  total_points  minutes  \\\n",
       "274      210             4    122    11            55      446   \n",
       "\n",
       "     points_per_minute safe_web_name  \n",
       "274           0.123318        aguero  "
      ]
     },
     "execution_count": 16,
     "metadata": {},
     "output_type": "execute_result"
    }
   ],
   "source": [
    "current_df[current_df['element'].isin(captain_elements)]"
   ]
  },
  {
   "cell_type": "code",
   "execution_count": 17,
   "metadata": {
    "ExecuteTime": {
     "end_time": "2019-09-27T10:47:32.233480Z",
     "start_time": "2019-09-27T10:47:32.211204Z"
    }
   },
   "outputs": [
    {
     "data": {
      "text/html": [
       "<div>\n",
       "<style scoped>\n",
       "    .dataframe tbody tr th:only-of-type {\n",
       "        vertical-align: middle;\n",
       "    }\n",
       "\n",
       "    .dataframe tbody tr th {\n",
       "        vertical-align: top;\n",
       "    }\n",
       "\n",
       "    .dataframe thead th {\n",
       "        text-align: right;\n",
       "    }\n",
       "</style>\n",
       "<table border=\"1\" class=\"dataframe\">\n",
       "  <thead>\n",
       "    <tr style=\"text-align: right;\">\n",
       "      <th></th>\n",
       "      <th>element</th>\n",
       "      <th>element_type</th>\n",
       "      <th>value</th>\n",
       "      <th>team</th>\n",
       "      <th>total_points</th>\n",
       "      <th>minutes</th>\n",
       "      <th>points_per_minute</th>\n",
       "      <th>safe_web_name</th>\n",
       "    </tr>\n",
       "  </thead>\n",
       "  <tbody>\n",
       "    <tr>\n",
       "      <td>331</td>\n",
       "      <td>319</td>\n",
       "      <td>1</td>\n",
       "      <td>45</td>\n",
       "      <td>16</td>\n",
       "      <td>25</td>\n",
       "      <td>540</td>\n",
       "      <td>0.046296</td>\n",
       "      <td>gunn</td>\n",
       "    </tr>\n",
       "    <tr>\n",
       "      <td>230</td>\n",
       "      <td>128</td>\n",
       "      <td>2</td>\n",
       "      <td>41</td>\n",
       "      <td>7</td>\n",
       "      <td>16</td>\n",
       "      <td>348</td>\n",
       "      <td>0.045977</td>\n",
       "      <td>kelly</td>\n",
       "    </tr>\n",
       "    <tr>\n",
       "      <td>494</td>\n",
       "      <td>65</td>\n",
       "      <td>2</td>\n",
       "      <td>41</td>\n",
       "      <td>3</td>\n",
       "      <td>12</td>\n",
       "      <td>270</td>\n",
       "      <td>0.044444</td>\n",
       "      <td>rico</td>\n",
       "    </tr>\n",
       "    <tr>\n",
       "      <td>344</td>\n",
       "      <td>21</td>\n",
       "      <td>3</td>\n",
       "      <td>46</td>\n",
       "      <td>1</td>\n",
       "      <td>19</td>\n",
       "      <td>511</td>\n",
       "      <td>0.037182</td>\n",
       "      <td>guendouzi</td>\n",
       "    </tr>\n",
       "  </tbody>\n",
       "</table>\n",
       "</div>"
      ],
      "text/plain": [
       "     element  element_type  value  team  total_points  minutes  \\\n",
       "331      319             1     45    16            25      540   \n",
       "230      128             2     41     7            16      348   \n",
       "494       65             2     41     3            12      270   \n",
       "344       21             3     46     1            19      511   \n",
       "\n",
       "     points_per_minute safe_web_name  \n",
       "331           0.046296          gunn  \n",
       "230           0.045977         kelly  \n",
       "494           0.044444          rico  \n",
       "344           0.037182     guendouzi  "
      ]
     },
     "execution_count": 17,
     "metadata": {},
     "output_type": "execute_result"
    }
   ],
   "source": [
    "current_df[current_df['element'].isin(bench_elements)].sort_values('element_type')"
   ]
  },
  {
   "cell_type": "markdown",
   "metadata": {},
   "source": [
    "## Existing team"
   ]
  },
  {
   "cell_type": "markdown",
   "metadata": {},
   "source": [
    "### Select team"
   ]
  },
  {
   "cell_type": "code",
   "execution_count": 18,
   "metadata": {
    "ExecuteTime": {
     "end_time": "2019-09-27T10:47:37.338650Z",
     "start_time": "2019-09-27T10:47:37.253641Z"
    }
   },
   "outputs": [
    {
     "name": "stdout",
     "output_type": "stream",
     "text": [
      "6\n"
     ]
    }
   ],
   "source": [
    "bootstrap_request = requests.get('https://fantasy.premierleague.com/api/bootstrap-static/')\n",
    "bootstrap_data = bootstrap_request.json()\n",
    "\n",
    "current_event = [i for i in bootstrap_data['events'] if i['is_current']][0]['id']\n",
    "print(current_event)"
   ]
  },
  {
   "cell_type": "code",
   "execution_count": 19,
   "metadata": {
    "ExecuteTime": {
     "end_time": "2019-09-27T10:47:38.224785Z",
     "start_time": "2019-09-27T10:47:38.221677Z"
    }
   },
   "outputs": [],
   "source": [
    "entry = 695843"
   ]
  },
  {
   "cell_type": "code",
   "execution_count": 20,
   "metadata": {
    "ExecuteTime": {
     "end_time": "2019-09-27T10:47:40.174413Z",
     "start_time": "2019-09-27T10:47:39.932958Z"
    }
   },
   "outputs": [],
   "source": [
    "entry_request = requests.get(f'https://fantasy.premierleague.com/api/entry/{entry}/event/{current_event}/picks/')\n",
    "entry_data = entry_request.json()"
   ]
  },
  {
   "cell_type": "code",
   "execution_count": 22,
   "metadata": {
    "ExecuteTime": {
     "end_time": "2019-09-27T10:47:57.580668Z",
     "start_time": "2019-09-27T10:47:57.466999Z"
    }
   },
   "outputs": [
    {
     "name": "stdout",
     "output_type": "stream",
     "text": [
      "[182, 215, 304, 191, 287, 463, 210, 460, 297, 278, 388]\n",
      "[210]\n",
      "[48, 126, 271, 65]\n"
     ]
    }
   ],
   "source": [
    "first_team_elements, captain_elements, bench_elements, transfers = \\\n",
    "team_selector.select_team(\n",
    "    players,\n",
    "    total_budget=1000,\n",
    "    optimise_key='total_points',\n",
    "    bench_factor=0.01,\n",
    "    existing_squad_elements=[i['element'] for i in entry_data['picks']],\n",
    "    transfer_limit=3\n",
    ")\n",
    "print(first_team_elements)\n",
    "print(captain_elements)\n",
    "print(bench_elements)"
   ]
  },
  {
   "cell_type": "code",
   "execution_count": 23,
   "metadata": {
    "ExecuteTime": {
     "end_time": "2019-09-27T10:47:59.778743Z",
     "start_time": "2019-09-27T10:47:59.760037Z"
    }
   },
   "outputs": [
    {
     "data": {
      "text/html": [
       "<div>\n",
       "<style scoped>\n",
       "    .dataframe tbody tr th:only-of-type {\n",
       "        vertical-align: middle;\n",
       "    }\n",
       "\n",
       "    .dataframe tbody tr th {\n",
       "        vertical-align: top;\n",
       "    }\n",
       "\n",
       "    .dataframe thead th {\n",
       "        text-align: right;\n",
       "    }\n",
       "</style>\n",
       "<table border=\"1\" class=\"dataframe\">\n",
       "  <thead>\n",
       "    <tr style=\"text-align: right;\">\n",
       "      <th></th>\n",
       "      <th>element</th>\n",
       "      <th>element_type</th>\n",
       "      <th>value</th>\n",
       "      <th>team</th>\n",
       "      <th>total_points</th>\n",
       "      <th>minutes</th>\n",
       "      <th>points_per_minute</th>\n",
       "      <th>safe_web_name</th>\n",
       "    </tr>\n",
       "  </thead>\n",
       "  <tbody>\n",
       "    <tr>\n",
       "      <td>509</td>\n",
       "      <td>388</td>\n",
       "      <td>1</td>\n",
       "      <td>50</td>\n",
       "      <td>19</td>\n",
       "      <td>31</td>\n",
       "      <td>540</td>\n",
       "      <td>0.057407</td>\n",
       "      <td>fabianski</td>\n",
       "    </tr>\n",
       "    <tr>\n",
       "      <td>32</td>\n",
       "      <td>182</td>\n",
       "      <td>2</td>\n",
       "      <td>71</td>\n",
       "      <td>10</td>\n",
       "      <td>31</td>\n",
       "      <td>540</td>\n",
       "      <td>0.057407</td>\n",
       "      <td>alexander-arnold</td>\n",
       "    </tr>\n",
       "    <tr>\n",
       "      <td>39</td>\n",
       "      <td>304</td>\n",
       "      <td>2</td>\n",
       "      <td>52</td>\n",
       "      <td>16</td>\n",
       "      <td>28</td>\n",
       "      <td>540</td>\n",
       "      <td>0.051852</td>\n",
       "      <td>vestergaard</td>\n",
       "    </tr>\n",
       "    <tr>\n",
       "      <td>329</td>\n",
       "      <td>297</td>\n",
       "      <td>2</td>\n",
       "      <td>44</td>\n",
       "      <td>15</td>\n",
       "      <td>32</td>\n",
       "      <td>508</td>\n",
       "      <td>0.062992</td>\n",
       "      <td>lundstram</td>\n",
       "    </tr>\n",
       "    <tr>\n",
       "      <td>34</td>\n",
       "      <td>215</td>\n",
       "      <td>3</td>\n",
       "      <td>99</td>\n",
       "      <td>11</td>\n",
       "      <td>54</td>\n",
       "      <td>449</td>\n",
       "      <td>0.120267</td>\n",
       "      <td>de bruyne</td>\n",
       "    </tr>\n",
       "    <tr>\n",
       "      <td>89</td>\n",
       "      <td>191</td>\n",
       "      <td>3</td>\n",
       "      <td>125</td>\n",
       "      <td>10</td>\n",
       "      <td>50</td>\n",
       "      <td>528</td>\n",
       "      <td>0.094697</td>\n",
       "      <td>salah</td>\n",
       "    </tr>\n",
       "    <tr>\n",
       "      <td>129</td>\n",
       "      <td>287</td>\n",
       "      <td>3</td>\n",
       "      <td>50</td>\n",
       "      <td>14</td>\n",
       "      <td>29</td>\n",
       "      <td>526</td>\n",
       "      <td>0.055133</td>\n",
       "      <td>cantwell</td>\n",
       "    </tr>\n",
       "    <tr>\n",
       "      <td>186</td>\n",
       "      <td>463</td>\n",
       "      <td>3</td>\n",
       "      <td>66</td>\n",
       "      <td>6</td>\n",
       "      <td>33</td>\n",
       "      <td>540</td>\n",
       "      <td>0.061111</td>\n",
       "      <td>mount</td>\n",
       "    </tr>\n",
       "    <tr>\n",
       "      <td>274</td>\n",
       "      <td>210</td>\n",
       "      <td>4</td>\n",
       "      <td>122</td>\n",
       "      <td>11</td>\n",
       "      <td>55</td>\n",
       "      <td>446</td>\n",
       "      <td>0.123318</td>\n",
       "      <td>aguero</td>\n",
       "    </tr>\n",
       "    <tr>\n",
       "      <td>314</td>\n",
       "      <td>460</td>\n",
       "      <td>4</td>\n",
       "      <td>75</td>\n",
       "      <td>6</td>\n",
       "      <td>44</td>\n",
       "      <td>403</td>\n",
       "      <td>0.109181</td>\n",
       "      <td>abraham</td>\n",
       "    </tr>\n",
       "    <tr>\n",
       "      <td>443</td>\n",
       "      <td>278</td>\n",
       "      <td>4</td>\n",
       "      <td>71</td>\n",
       "      <td>14</td>\n",
       "      <td>51</td>\n",
       "      <td>532</td>\n",
       "      <td>0.095865</td>\n",
       "      <td>pukki</td>\n",
       "    </tr>\n",
       "  </tbody>\n",
       "</table>\n",
       "</div>"
      ],
      "text/plain": [
       "     element  element_type  value  team  total_points  minutes  \\\n",
       "509      388             1     50    19            31      540   \n",
       "32       182             2     71    10            31      540   \n",
       "39       304             2     52    16            28      540   \n",
       "329      297             2     44    15            32      508   \n",
       "34       215             3     99    11            54      449   \n",
       "89       191             3    125    10            50      528   \n",
       "129      287             3     50    14            29      526   \n",
       "186      463             3     66     6            33      540   \n",
       "274      210             4    122    11            55      446   \n",
       "314      460             4     75     6            44      403   \n",
       "443      278             4     71    14            51      532   \n",
       "\n",
       "     points_per_minute     safe_web_name  \n",
       "509           0.057407         fabianski  \n",
       "32            0.057407  alexander-arnold  \n",
       "39            0.051852       vestergaard  \n",
       "329           0.062992         lundstram  \n",
       "34            0.120267         de bruyne  \n",
       "89            0.094697             salah  \n",
       "129           0.055133          cantwell  \n",
       "186           0.061111             mount  \n",
       "274           0.123318            aguero  \n",
       "314           0.109181           abraham  \n",
       "443           0.095865             pukki  "
      ]
     },
     "execution_count": 23,
     "metadata": {},
     "output_type": "execute_result"
    }
   ],
   "source": [
    "current_df[current_df['element'].isin(first_team_elements)].sort_values('element_type')"
   ]
  },
  {
   "cell_type": "code",
   "execution_count": 24,
   "metadata": {
    "ExecuteTime": {
     "end_time": "2019-09-27T10:48:00.214751Z",
     "start_time": "2019-09-27T10:48:00.203697Z"
    }
   },
   "outputs": [
    {
     "data": {
      "text/plain": [
       "['fabianski',\n",
       " 'alexander-arnold',\n",
       " 'vestergaard',\n",
       " 'lundstram',\n",
       " 'de bruyne',\n",
       " 'salah',\n",
       " 'cantwell',\n",
       " 'mount',\n",
       " 'aguero',\n",
       " 'abraham',\n",
       " 'pukki']"
      ]
     },
     "execution_count": 24,
     "metadata": {},
     "output_type": "execute_result"
    }
   ],
   "source": [
    "list(current_df[current_df['element'].isin(first_team_elements)].sort_values('element_type')['safe_web_name'].values)"
   ]
  },
  {
   "cell_type": "code",
   "execution_count": 25,
   "metadata": {
    "ExecuteTime": {
     "end_time": "2019-09-27T10:48:00.814179Z",
     "start_time": "2019-09-27T10:48:00.794993Z"
    }
   },
   "outputs": [
    {
     "data": {
      "text/html": [
       "<div>\n",
       "<style scoped>\n",
       "    .dataframe tbody tr th:only-of-type {\n",
       "        vertical-align: middle;\n",
       "    }\n",
       "\n",
       "    .dataframe tbody tr th {\n",
       "        vertical-align: top;\n",
       "    }\n",
       "\n",
       "    .dataframe thead th {\n",
       "        text-align: right;\n",
       "    }\n",
       "</style>\n",
       "<table border=\"1\" class=\"dataframe\">\n",
       "  <thead>\n",
       "    <tr style=\"text-align: right;\">\n",
       "      <th></th>\n",
       "      <th>element</th>\n",
       "      <th>element_type</th>\n",
       "      <th>value</th>\n",
       "      <th>team</th>\n",
       "      <th>total_points</th>\n",
       "      <th>minutes</th>\n",
       "      <th>points_per_minute</th>\n",
       "      <th>safe_web_name</th>\n",
       "    </tr>\n",
       "  </thead>\n",
       "  <tbody>\n",
       "    <tr>\n",
       "      <td>274</td>\n",
       "      <td>210</td>\n",
       "      <td>4</td>\n",
       "      <td>122</td>\n",
       "      <td>11</td>\n",
       "      <td>55</td>\n",
       "      <td>446</td>\n",
       "      <td>0.123318</td>\n",
       "      <td>aguero</td>\n",
       "    </tr>\n",
       "  </tbody>\n",
       "</table>\n",
       "</div>"
      ],
      "text/plain": [
       "     element  element_type  value  team  total_points  minutes  \\\n",
       "274      210             4    122    11            55      446   \n",
       "\n",
       "     points_per_minute safe_web_name  \n",
       "274           0.123318        aguero  "
      ]
     },
     "execution_count": 25,
     "metadata": {},
     "output_type": "execute_result"
    }
   ],
   "source": [
    "current_df[current_df['element'].isin(captain_elements)]"
   ]
  },
  {
   "cell_type": "code",
   "execution_count": 26,
   "metadata": {
    "ExecuteTime": {
     "end_time": "2019-09-27T10:48:01.245640Z",
     "start_time": "2019-09-27T10:48:01.229609Z"
    }
   },
   "outputs": [
    {
     "data": {
      "text/html": [
       "<div>\n",
       "<style scoped>\n",
       "    .dataframe tbody tr th:only-of-type {\n",
       "        vertical-align: middle;\n",
       "    }\n",
       "\n",
       "    .dataframe tbody tr th {\n",
       "        vertical-align: top;\n",
       "    }\n",
       "\n",
       "    .dataframe thead th {\n",
       "        text-align: right;\n",
       "    }\n",
       "</style>\n",
       "<table border=\"1\" class=\"dataframe\">\n",
       "  <thead>\n",
       "    <tr style=\"text-align: right;\">\n",
       "      <th></th>\n",
       "      <th>element</th>\n",
       "      <th>element_type</th>\n",
       "      <th>value</th>\n",
       "      <th>team</th>\n",
       "      <th>total_points</th>\n",
       "      <th>minutes</th>\n",
       "      <th>points_per_minute</th>\n",
       "      <th>safe_web_name</th>\n",
       "    </tr>\n",
       "  </thead>\n",
       "  <tbody>\n",
       "    <tr>\n",
       "      <td>143</td>\n",
       "      <td>48</td>\n",
       "      <td>1</td>\n",
       "      <td>40</td>\n",
       "      <td>4</td>\n",
       "      <td>0</td>\n",
       "      <td>0</td>\n",
       "      <td>0.000000</td>\n",
       "      <td>button</td>\n",
       "    </tr>\n",
       "    <tr>\n",
       "      <td>282</td>\n",
       "      <td>126</td>\n",
       "      <td>2</td>\n",
       "      <td>45</td>\n",
       "      <td>7</td>\n",
       "      <td>23</td>\n",
       "      <td>540</td>\n",
       "      <td>0.042593</td>\n",
       "      <td>ward</td>\n",
       "    </tr>\n",
       "    <tr>\n",
       "      <td>494</td>\n",
       "      <td>65</td>\n",
       "      <td>2</td>\n",
       "      <td>41</td>\n",
       "      <td>3</td>\n",
       "      <td>12</td>\n",
       "      <td>270</td>\n",
       "      <td>0.044444</td>\n",
       "      <td>rico</td>\n",
       "    </tr>\n",
       "    <tr>\n",
       "      <td>287</td>\n",
       "      <td>271</td>\n",
       "      <td>3</td>\n",
       "      <td>45</td>\n",
       "      <td>13</td>\n",
       "      <td>18</td>\n",
       "      <td>540</td>\n",
       "      <td>0.033333</td>\n",
       "      <td>hayden</td>\n",
       "    </tr>\n",
       "  </tbody>\n",
       "</table>\n",
       "</div>"
      ],
      "text/plain": [
       "     element  element_type  value  team  total_points  minutes  \\\n",
       "143       48             1     40     4             0        0   \n",
       "282      126             2     45     7            23      540   \n",
       "494       65             2     41     3            12      270   \n",
       "287      271             3     45    13            18      540   \n",
       "\n",
       "     points_per_minute safe_web_name  \n",
       "143           0.000000        button  \n",
       "282           0.042593          ward  \n",
       "494           0.044444          rico  \n",
       "287           0.033333        hayden  "
      ]
     },
     "execution_count": 26,
     "metadata": {},
     "output_type": "execute_result"
    }
   ],
   "source": [
    "current_df[current_df['element'].isin(bench_elements)].sort_values('element_type')"
   ]
  },
  {
   "cell_type": "code",
   "execution_count": 27,
   "metadata": {
    "ExecuteTime": {
     "end_time": "2019-09-27T10:48:01.987018Z",
     "start_time": "2019-09-27T10:48:01.962657Z"
    }
   },
   "outputs": [
    {
     "data": {
      "text/html": [
       "<div>\n",
       "<style scoped>\n",
       "    .dataframe tbody tr th:only-of-type {\n",
       "        vertical-align: middle;\n",
       "    }\n",
       "\n",
       "    .dataframe tbody tr th {\n",
       "        vertical-align: top;\n",
       "    }\n",
       "\n",
       "    .dataframe thead th {\n",
       "        text-align: right;\n",
       "    }\n",
       "</style>\n",
       "<table border=\"1\" class=\"dataframe\">\n",
       "  <thead>\n",
       "    <tr style=\"text-align: right;\">\n",
       "      <th></th>\n",
       "      <th>element</th>\n",
       "      <th>element_type</th>\n",
       "      <th>value</th>\n",
       "      <th>team</th>\n",
       "      <th>total_points</th>\n",
       "      <th>minutes</th>\n",
       "      <th>points_per_minute</th>\n",
       "      <th>safe_web_name</th>\n",
       "    </tr>\n",
       "  </thead>\n",
       "  <tbody>\n",
       "    <tr>\n",
       "      <td>509</td>\n",
       "      <td>388</td>\n",
       "      <td>1</td>\n",
       "      <td>50</td>\n",
       "      <td>19</td>\n",
       "      <td>31</td>\n",
       "      <td>540</td>\n",
       "      <td>0.057407</td>\n",
       "      <td>fabianski</td>\n",
       "    </tr>\n",
       "    <tr>\n",
       "      <td>32</td>\n",
       "      <td>182</td>\n",
       "      <td>2</td>\n",
       "      <td>71</td>\n",
       "      <td>10</td>\n",
       "      <td>31</td>\n",
       "      <td>540</td>\n",
       "      <td>0.057407</td>\n",
       "      <td>alexander-arnold</td>\n",
       "    </tr>\n",
       "    <tr>\n",
       "      <td>34</td>\n",
       "      <td>215</td>\n",
       "      <td>3</td>\n",
       "      <td>99</td>\n",
       "      <td>11</td>\n",
       "      <td>54</td>\n",
       "      <td>449</td>\n",
       "      <td>0.120267</td>\n",
       "      <td>de bruyne</td>\n",
       "    </tr>\n",
       "  </tbody>\n",
       "</table>\n",
       "</div>"
      ],
      "text/plain": [
       "     element  element_type  value  team  total_points  minutes  \\\n",
       "509      388             1     50    19            31      540   \n",
       "32       182             2     71    10            31      540   \n",
       "34       215             3     99    11            54      449   \n",
       "\n",
       "     points_per_minute     safe_web_name  \n",
       "509           0.057407         fabianski  \n",
       "32            0.057407  alexander-arnold  \n",
       "34            0.120267         de bruyne  "
      ]
     },
     "execution_count": 27,
     "metadata": {},
     "output_type": "execute_result"
    }
   ],
   "source": [
    "current_df[current_df['element'].isin(transfers['transfers_in'])].sort_values('element_type')"
   ]
  },
  {
   "cell_type": "code",
   "execution_count": 28,
   "metadata": {
    "ExecuteTime": {
     "end_time": "2019-09-27T10:48:02.397977Z",
     "start_time": "2019-09-27T10:48:02.382137Z"
    }
   },
   "outputs": [
    {
     "data": {
      "text/html": [
       "<div>\n",
       "<style scoped>\n",
       "    .dataframe tbody tr th:only-of-type {\n",
       "        vertical-align: middle;\n",
       "    }\n",
       "\n",
       "    .dataframe tbody tr th {\n",
       "        vertical-align: top;\n",
       "    }\n",
       "\n",
       "    .dataframe thead th {\n",
       "        text-align: right;\n",
       "    }\n",
       "</style>\n",
       "<table border=\"1\" class=\"dataframe\">\n",
       "  <thead>\n",
       "    <tr style=\"text-align: right;\">\n",
       "      <th></th>\n",
       "      <th>element</th>\n",
       "      <th>element_type</th>\n",
       "      <th>value</th>\n",
       "      <th>team</th>\n",
       "      <th>total_points</th>\n",
       "      <th>minutes</th>\n",
       "      <th>points_per_minute</th>\n",
       "      <th>safe_web_name</th>\n",
       "    </tr>\n",
       "  </thead>\n",
       "  <tbody>\n",
       "    <tr>\n",
       "      <td>331</td>\n",
       "      <td>319</td>\n",
       "      <td>1</td>\n",
       "      <td>45</td>\n",
       "      <td>16</td>\n",
       "      <td>25</td>\n",
       "      <td>540</td>\n",
       "      <td>0.046296</td>\n",
       "      <td>gunn</td>\n",
       "    </tr>\n",
       "    <tr>\n",
       "      <td>165</td>\n",
       "      <td>141</td>\n",
       "      <td>2</td>\n",
       "      <td>61</td>\n",
       "      <td>8</td>\n",
       "      <td>24</td>\n",
       "      <td>522</td>\n",
       "      <td>0.045977</td>\n",
       "      <td>digne</td>\n",
       "    </tr>\n",
       "    <tr>\n",
       "      <td>526</td>\n",
       "      <td>214</td>\n",
       "      <td>3</td>\n",
       "      <td>121</td>\n",
       "      <td>11</td>\n",
       "      <td>39</td>\n",
       "      <td>450</td>\n",
       "      <td>0.086667</td>\n",
       "      <td>sterling</td>\n",
       "    </tr>\n",
       "  </tbody>\n",
       "</table>\n",
       "</div>"
      ],
      "text/plain": [
       "     element  element_type  value  team  total_points  minutes  \\\n",
       "331      319             1     45    16            25      540   \n",
       "165      141             2     61     8            24      522   \n",
       "526      214             3    121    11            39      450   \n",
       "\n",
       "     points_per_minute safe_web_name  \n",
       "331           0.046296          gunn  \n",
       "165           0.045977         digne  \n",
       "526           0.086667      sterling  "
      ]
     },
     "execution_count": 28,
     "metadata": {},
     "output_type": "execute_result"
    }
   ],
   "source": [
    "current_df[current_df['element'].isin(transfers['transfers_out'])].sort_values('element_type')"
   ]
  },
  {
   "cell_type": "markdown",
   "metadata": {},
   "source": [
    "### Optimise entry"
   ]
  },
  {
   "cell_type": "code",
   "execution_count": 35,
   "metadata": {
    "ExecuteTime": {
     "end_time": "2019-09-27T10:56:41.454318Z",
     "start_time": "2019-09-27T10:56:41.176856Z"
    }
   },
   "outputs": [
    {
     "ename": "UFuncTypeError",
     "evalue": "ufunc 'multiply' did not contain a loop with signature matching types (dtype('<U21'), dtype('<U21')) -> dtype('<U21')",
     "output_type": "error",
     "traceback": [
      "\u001b[0;31m---------------------------------------------------------------------------\u001b[0m",
      "\u001b[0;31mUFuncTypeError\u001b[0m                            Traceback (most recent call last)",
      "\u001b[0;32m<ipython-input-35-957c116b3f0a>\u001b[0m in \u001b[0;36m<module>\u001b[0;34m\u001b[0m\n\u001b[1;32m      4\u001b[0m     \u001b[0mbench_factor\u001b[0m\u001b[0;34m=\u001b[0m\u001b[0;34m'0.1'\u001b[0m\u001b[0;34m,\u001b[0m\u001b[0;34m\u001b[0m\u001b[0;34m\u001b[0m\u001b[0m\n\u001b[1;32m      5\u001b[0m     \u001b[0mtransfer_penalty\u001b[0m\u001b[0;34m=\u001b[0m\u001b[0;34m'0'\u001b[0m\u001b[0;34m,\u001b[0m\u001b[0;34m\u001b[0m\u001b[0;34m\u001b[0m\u001b[0m\n\u001b[0;32m----> 6\u001b[0;31m     \u001b[0mtransfer_limit\u001b[0m\u001b[0;34m=\u001b[0m\u001b[0;34m'15'\u001b[0m\u001b[0;34m\u001b[0m\u001b[0;34m\u001b[0m\u001b[0m\n\u001b[0m\u001b[1;32m      7\u001b[0m )\n",
      "\u001b[0;32m~/footbot/venv/lib/python3.6/site-packages/footbot/optimiser/team_selector.py\u001b[0m in \u001b[0;36moptimise_entry\u001b[0;34m(entry, total_budget, bench_factor, transfer_penalty, transfer_limit)\u001b[0m\n\u001b[1;32m    198\u001b[0m                 \u001b[0mtransfer_penalty\u001b[0m\u001b[0;34m=\u001b[0m\u001b[0mtransfer_penalty\u001b[0m\u001b[0;34m,\u001b[0m\u001b[0;34m\u001b[0m\u001b[0;34m\u001b[0m\u001b[0m\n\u001b[1;32m    199\u001b[0m                 \u001b[0mtransfer_limit\u001b[0m\u001b[0;34m=\u001b[0m\u001b[0mtransfer_limit\u001b[0m\u001b[0;34m,\u001b[0m\u001b[0;34m\u001b[0m\u001b[0;34m\u001b[0m\u001b[0m\n\u001b[0;32m--> 200\u001b[0;31m                 \u001b[0mexisting_squad_elements\u001b[0m\u001b[0;34m=\u001b[0m\u001b[0;34m[\u001b[0m\u001b[0mi\u001b[0m\u001b[0;34m[\u001b[0m\u001b[0;34m'element'\u001b[0m\u001b[0;34m]\u001b[0m \u001b[0;32mfor\u001b[0m \u001b[0mi\u001b[0m \u001b[0;32min\u001b[0m \u001b[0mentry_data\u001b[0m\u001b[0;34m[\u001b[0m\u001b[0;34m'picks'\u001b[0m\u001b[0;34m]\u001b[0m\u001b[0;34m]\u001b[0m\u001b[0;34m\u001b[0m\u001b[0;34m\u001b[0m\u001b[0m\n\u001b[0m\u001b[1;32m    201\u001b[0m \t)\n\u001b[1;32m    202\u001b[0m \u001b[0;34m\u001b[0m\u001b[0m\n",
      "\u001b[0;32m~/footbot/venv/lib/python3.6/site-packages/footbot/optimiser/team_selector.py\u001b[0m in \u001b[0;36mselect_team\u001b[0;34m(players, total_budget, optimise_key, captain_factor, bench_factor, existing_squad_elements, transfer_penalty, transfer_limit)\u001b[0m\n\u001b[1;32m     73\u001b[0m         \u001b[0;31m# objective function (no existing squad)\u001b[0m\u001b[0;34m\u001b[0m\u001b[0;34m\u001b[0m\u001b[0;34m\u001b[0m\u001b[0m\n\u001b[1;32m     74\u001b[0m         \u001b[0mobjective\u001b[0m \u001b[0;34m=\u001b[0m\u001b[0;31m \u001b[0m\u001b[0;31m\\\u001b[0m\u001b[0;34m\u001b[0m\u001b[0;34m\u001b[0m\u001b[0m\n\u001b[0;32m---> 75\u001b[0;31m                 \u001b[0mplayer_points\u001b[0m \u001b[0;34m@\u001b[0m \u001b[0mfirst_team\u001b[0m \u001b[0;34m+\u001b[0m \u001b[0mcaptain_factor\u001b[0m \u001b[0;34m*\u001b[0m \u001b[0mplayer_points\u001b[0m \u001b[0;34m@\u001b[0m \u001b[0mcaptain\u001b[0m \u001b[0;34m+\u001b[0m \u001b[0mbench_factor\u001b[0m \u001b[0;34m*\u001b[0m \u001b[0mplayer_points\u001b[0m \u001b[0;34m@\u001b[0m \u001b[0mbench\u001b[0m\u001b[0;34m\u001b[0m\u001b[0;34m\u001b[0m\u001b[0m\n\u001b[0m\u001b[1;32m     76\u001b[0m \u001b[0;34m\u001b[0m\u001b[0m\n\u001b[1;32m     77\u001b[0m         \u001b[0;31m# optimisation constraints (no existing squad)\u001b[0m\u001b[0;34m\u001b[0m\u001b[0;34m\u001b[0m\u001b[0;34m\u001b[0m\u001b[0m\n",
      "\u001b[0;31mUFuncTypeError\u001b[0m: ufunc 'multiply' did not contain a loop with signature matching types (dtype('<U21'), dtype('<U21')) -> dtype('<U21')"
     ]
    }
   ],
   "source": [
    "team_selector.optimise_entry(\n",
    "    entry,\n",
    "    total_budget='1000',\n",
    "    bench_factor='0.1',\n",
    "    transfer_penalty='0',\n",
    "    transfer_limit='15'\n",
    ")"
   ]
  },
  {
   "cell_type": "code",
   "execution_count": 39,
   "metadata": {
    "ExecuteTime": {
     "end_time": "2019-09-28T06:57:07.404945Z",
     "start_time": "2019-09-28T06:57:07.291702Z"
    }
   },
   "outputs": [],
   "source": [
    "df = element_data.get_element_df()"
   ]
  },
  {
   "cell_type": "code",
   "execution_count": 40,
   "metadata": {
    "ExecuteTime": {
     "end_time": "2019-09-28T06:57:29.375730Z",
     "start_time": "2019-09-28T06:57:29.364552Z"
    }
   },
   "outputs": [],
   "source": [
    "df['average_points'] = df['total_points'] / df['current_event']"
   ]
  },
  {
   "cell_type": "code",
   "execution_count": 44,
   "metadata": {
    "ExecuteTime": {
     "end_time": "2019-09-28T06:58:47.564866Z",
     "start_time": "2019-09-28T06:58:47.555260Z"
    }
   },
   "outputs": [],
   "source": [
    "df = df[[\n",
    "    'element',\n",
    "    'element_type',\n",
    "    'now_cost',\n",
    "    'team',\n",
    "    'average_points',\n",
    "    'safe_web_name'\n",
    "]]"
   ]
  },
  {
   "cell_type": "code",
   "execution_count": 45,
   "metadata": {
    "ExecuteTime": {
     "end_time": "2019-09-28T06:58:48.245653Z",
     "start_time": "2019-09-28T06:58:48.239543Z"
    }
   },
   "outputs": [],
   "source": [
    "df.columns = [\n",
    "    'element',\n",
    "    'element_type',\n",
    "    'value',\n",
    "    'team',\n",
    "    'average_points',\n",
    "    'safe_web_name'\n",
    "]"
   ]
  },
  {
   "cell_type": "code",
   "execution_count": null,
   "metadata": {},
   "outputs": [],
   "source": []
  }
 ],
 "metadata": {
  "kernelspec": {
   "display_name": "Python 3",
   "language": "python",
   "name": "python3"
  },
  "language_info": {
   "codemirror_mode": {
    "name": "ipython",
    "version": 3
   },
   "file_extension": ".py",
   "mimetype": "text/x-python",
   "name": "python",
   "nbconvert_exporter": "python",
   "pygments_lexer": "ipython3",
   "version": "3.6.7"
  },
  "toc": {
   "nav_menu": {},
   "number_sections": true,
   "sideBar": true,
   "skip_h1_title": false,
   "title_cell": "Table of Contents",
   "title_sidebar": "Contents",
   "toc_cell": false,
   "toc_position": {},
   "toc_section_display": true,
   "toc_window_display": false
  }
 },
 "nbformat": 4,
 "nbformat_minor": 2
}
