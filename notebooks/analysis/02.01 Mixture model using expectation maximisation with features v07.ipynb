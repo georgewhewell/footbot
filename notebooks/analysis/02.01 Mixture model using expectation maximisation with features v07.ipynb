{
 "cells": [
  {
   "cell_type": "markdown",
   "metadata": {
    "heading_collapsed": true
   },
   "source": [
    "# Set up"
   ]
  },
  {
   "cell_type": "code",
   "execution_count": 127,
   "metadata": {
    "ExecuteTime": {
     "end_time": "2019-09-06T14:34:26.624266Z",
     "start_time": "2019-09-06T14:34:26.610446Z"
    },
    "hidden": true
   },
   "outputs": [],
   "source": [
    "import pandas as pd\n",
    "import patsy\n",
    "import numpy as np\n",
    "from xgboost import XGBRegressor\n",
    "from sklearn.preprocessing import StandardScaler\n",
    "from sklearn.model_selection import PredefinedSplit, GridSearchCV, cross_val_score\n",
    "from sklearn.decomposition import PCA\n",
    "from skopt.space import Real, Integer\n",
    "from skopt.utils import use_named_args\n",
    "from skopt import gp_minimize\n",
    "from sklearn.mixture import GaussianMixture\n",
    "from sklearn.feature_selection import RFECV\n",
    "from sklearn.linear_model import Lasso, LinearRegression, Ridge\n",
    "from sklearn.tree import DecisionTreeRegressor, plot_tree\n",
    "from mlens.ensemble import SuperLearner\n",
    "from sklearn.metrics import mean_absolute_error, mean_squared_error, r2_score\n",
    "import matplotlib.pyplot as plt\n",
    "import seaborn as sns\n",
    "from scipy.stats import norm"
   ]
  },
  {
   "cell_type": "code",
   "execution_count": 2,
   "metadata": {
    "ExecuteTime": {
     "end_time": "2019-09-06T13:44:34.578143Z",
     "start_time": "2019-09-06T13:44:34.574319Z"
    },
    "hidden": true
   },
   "outputs": [],
   "source": [
    "pd.set_option('display.max_columns', 1000)\n",
    "pd.set_option('display.max_rows', 1000)"
   ]
  },
  {
   "cell_type": "markdown",
   "metadata": {
    "heading_collapsed": true
   },
   "source": [
    "# Getting data"
   ]
  },
  {
   "cell_type": "code",
   "execution_count": 93,
   "metadata": {
    "ExecuteTime": {
     "end_time": "2019-09-06T14:20:30.052993Z",
     "start_time": "2019-09-06T14:20:29.638912Z"
    },
    "hidden": true
   },
   "outputs": [],
   "source": [
    "file_name = '../csvs/element_gameweek_features_v07.csv'\n",
    "\n",
    "element_gameweek_df = pd.read_csv(file_name)"
   ]
  },
  {
   "cell_type": "code",
   "execution_count": 94,
   "metadata": {
    "ExecuteTime": {
     "end_time": "2019-09-06T14:20:30.071847Z",
     "start_time": "2019-09-06T14:20:30.057488Z"
    },
    "hidden": true
   },
   "outputs": [],
   "source": [
    "current_event = 38\n",
    "last_train_event = 28\n",
    "\n",
    "element_gameweek_df =\\\n",
    "element_gameweek_df[\n",
    "    (element_gameweek_df['event'] <= current_event)\n",
    "]"
   ]
  },
  {
   "cell_type": "code",
   "execution_count": 95,
   "metadata": {
    "ExecuteTime": {
     "end_time": "2019-09-06T14:20:31.121552Z",
     "start_time": "2019-09-06T14:20:30.371124Z"
    },
    "hidden": true
   },
   "outputs": [],
   "source": [
    "element_gameweek_df = pd.concat([\n",
    "    element_gameweek_df[element_gameweek_df['element_type'] == i].fillna(\n",
    "        element_gameweek_df[\n",
    "            (element_gameweek_df['event'] <= last_train_event)\n",
    "            & (element_gameweek_df['element_type'] == i)\n",
    "        ].mean()).fillna(0)\n",
    "    for i in range(1, 5)\n",
    "])"
   ]
  },
  {
   "cell_type": "code",
   "execution_count": 96,
   "metadata": {
    "ExecuteTime": {
     "end_time": "2019-09-06T14:20:31.938287Z",
     "start_time": "2019-09-06T14:20:31.868901Z"
    },
    "hidden": true
   },
   "outputs": [],
   "source": [
    "element_gameweek_df['is_keeper'] = element_gameweek_df['element_type'].apply(lambda x: 1 if x == 1 else 0)\n",
    "\n",
    "element_gameweek_df['is_scorer'] = \\\n",
    "element_gameweek_df['rolling_avg_goals_scored_element'].apply(lambda x: 1 if x >= 0.47 else 0)\n",
    "\n",
    "element_gameweek_df['is_assister'] = \\\n",
    "element_gameweek_df['rolling_avg_assists_element'].apply(lambda x: 1 if x >= 0.5 else 0)\n",
    "\n",
    "element_gameweek_df['is_high_value'] = \\\n",
    "element_gameweek_df['value'].apply(lambda x: 1 if x >= 9.0 else 0)"
   ]
  },
  {
   "cell_type": "code",
   "execution_count": 104,
   "metadata": {
    "ExecuteTime": {
     "end_time": "2019-09-06T14:22:14.650013Z",
     "start_time": "2019-09-06T14:22:14.630618Z"
    },
    "hidden": true
   },
   "outputs": [],
   "source": [
    "element_gameweek_df = element_gameweek_df[element_gameweek_df['rolling_avg_minutes_element_p3'] > 0]"
   ]
  },
  {
   "cell_type": "markdown",
   "metadata": {
    "heading_collapsed": true
   },
   "source": [
    "# Exploring data"
   ]
  },
  {
   "cell_type": "code",
   "execution_count": 105,
   "metadata": {
    "ExecuteTime": {
     "end_time": "2019-09-06T14:22:15.709776Z",
     "start_time": "2019-09-06T14:22:15.691036Z"
    },
    "hidden": true
   },
   "outputs": [
    {
     "data": {
      "text/plain": [
       "count    13495.000000\n",
       "mean         2.204001\n",
       "std          2.931628\n",
       "min         -4.000000\n",
       "25%          0.000000\n",
       "50%          1.000000\n",
       "75%          2.000000\n",
       "max         23.000000\n",
       "Name: total_points, dtype: float64"
      ]
     },
     "execution_count": 105,
     "metadata": {},
     "output_type": "execute_result"
    }
   ],
   "source": [
    "element_gameweek_df['total_points'].describe()"
   ]
  },
  {
   "cell_type": "code",
   "execution_count": 106,
   "metadata": {
    "ExecuteTime": {
     "end_time": "2019-09-06T14:22:16.924849Z",
     "start_time": "2019-09-06T14:22:16.192376Z"
    },
    "hidden": true
   },
   "outputs": [
    {
     "data": {
      "image/png": "[encoded data removed]",
      "text/plain": [
       "<Figure size 720x576 with 1 Axes>"
      ]
     },
     "metadata": {
      "needs_background": "light"
     },
     "output_type": "display_data"
    }
   ],
   "source": [
    "plt.figure(figsize=(10, 8))\n",
    "plt.hist(\n",
    "    element_gameweek_df[\n",
    "        (~pd.isnull(element_gameweek_df['rolling_avg_minutes_element_p3']))\n",
    "        & (element_gameweek_df['total_points'] >= 7)\n",
    "    ]['rolling_avg_minutes_element_p3'],\n",
    "    bins=45,\n",
    "    label='high',\n",
    "    density=True,\n",
    "    alpha=0.5\n",
    "        )\n",
    "plt.hist(\n",
    "    element_gameweek_df[\n",
    "        (~pd.isnull(element_gameweek_df['rolling_avg_minutes_element_p3']))\n",
    "        & (element_gameweek_df['total_points'] < 4)\n",
    "    ]['rolling_avg_minutes_element_p3'],\n",
    "    bins=45,\n",
    "    label='low',\n",
    "    density=True,\n",
    "    alpha=0.5\n",
    "        )\n",
    "plt.legend(loc='upper right')\n",
    "plt.show()"
   ]
  },
  {
   "cell_type": "code",
   "execution_count": 203,
   "metadata": {
    "ExecuteTime": {
     "end_time": "2019-09-06T15:10:02.350445Z",
     "start_time": "2019-09-06T15:10:01.644175Z"
    },
    "hidden": true
   },
   "outputs": [
    {
     "data": {
      "image/png": "[encoded data removed]",
      "text/plain": [
       "<Figure size 720x576 with 1 Axes>"
      ]
     },
     "metadata": {
      "needs_background": "light"
     },
     "output_type": "display_data"
    }
   ],
   "source": [
    "plt.figure(figsize=(10, 8))\n",
    "plt.hist(\n",
    "    element_gameweek_df[\n",
    "        (~pd.isnull(element_gameweek_df['rolling_avg_minutes_element_p3']))\n",
    "        & (element_gameweek_df['total_points'] >= 7)\n",
    "#         & (element_gameweek_df['rolling_avg_minutes_element_p3'] >= 30)\n",
    "    ]['rolling_avg_minutes_element_p3'],\n",
    "    bins=45,\n",
    "    label='high',\n",
    "    density=True,\n",
    "    alpha=0.5,\n",
    "    cumulative=True\n",
    "        )\n",
    "plt.hist(\n",
    "    element_gameweek_df[\n",
    "        (~pd.isnull(element_gameweek_df['rolling_avg_minutes_element_p3']))\n",
    "        & (element_gameweek_df['total_points'] < 4)\n",
    "#         & (element_gameweek_df['rolling_avg_minutes_element_p3'] >= 30)\n",
    "    ]['rolling_avg_minutes_element_p3'],\n",
    "    bins=45,\n",
    "    label='low',\n",
    "    density=True,\n",
    "    alpha=0.5,\n",
    "    cumulative=True\n",
    "        )\n",
    "plt.legend(loc='upper right')\n",
    "plt.show()"
   ]
  },
  {
   "cell_type": "code",
   "execution_count": 204,
   "metadata": {
    "ExecuteTime": {
     "end_time": "2019-09-06T15:10:11.851111Z",
     "start_time": "2019-09-06T15:10:11.387986Z"
    },
    "hidden": true
   },
   "outputs": [
    {
     "data": {
      "image/png": "[encoded data removed]",
      "text/plain": [
       "<Figure size 720x576 with 1 Axes>"
      ]
     },
     "metadata": {
      "needs_background": "light"
     },
     "output_type": "display_data"
    }
   ],
   "source": [
    "plt.figure(figsize=(10, 8))\n",
    "plt.hist(\n",
    "    element_gameweek_df[\n",
    "        element_gameweek_df['rolling_avg_minutes_element_p3'] >= 0\n",
    "    ]['total_points'],\n",
    "    bins=range(-4, 23))\n",
    "plt.show()"
   ]
  },
  {
   "cell_type": "code",
   "execution_count": 205,
   "metadata": {
    "ExecuteTime": {
     "end_time": "2019-09-06T15:10:16.981413Z",
     "start_time": "2019-09-06T15:10:16.883814Z"
    },
    "hidden": true
   },
   "outputs": [
    {
     "data": {
      "text/plain": [
       "GaussianMixture(covariance_type='full', init_params='kmeans', max_iter=100,\n",
       "                means_init=None, n_components=2, n_init=1, precisions_init=None,\n",
       "                random_state=None, reg_covar=1e-06, tol=0.001, verbose=0,\n",
       "                verbose_interval=10, warm_start=False, weights_init=None)"
      ]
     },
     "execution_count": 205,
     "metadata": {},
     "output_type": "execute_result"
    }
   ],
   "source": [
    "gauss_mix_model = GaussianMixture(\n",
    "    n_components=2\n",
    ")\n",
    "gauss_mix_model.fit(\n",
    "    np.array(\n",
    "        element_gameweek_df[\n",
    "            element_gameweek_df['rolling_avg_minutes_element_p3'] >= 0\n",
    "    ]['total_points']\n",
    "    ).reshape(-1, 1))"
   ]
  },
  {
   "cell_type": "code",
   "execution_count": 206,
   "metadata": {
    "ExecuteTime": {
     "end_time": "2019-09-06T15:10:18.119805Z",
     "start_time": "2019-09-06T15:10:18.111715Z"
    },
    "hidden": true
   },
   "outputs": [
    {
     "name": "stdout",
     "output_type": "stream",
     "text": [
      "[[0.9607893 ]\n",
      " [6.35566369]]\n",
      "[[[ 0.90984476]]\n",
      "\n",
      " [[11.85641633]]]\n"
     ]
    }
   ],
   "source": [
    "print(gauss_mix_model.means_)\n",
    "print(gauss_mix_model.covariances_)"
   ]
  },
  {
   "cell_type": "code",
   "execution_count": 207,
   "metadata": {
    "ExecuteTime": {
     "end_time": "2019-09-06T15:10:19.265403Z",
     "start_time": "2019-09-06T15:10:18.796499Z"
    },
    "hidden": true
   },
   "outputs": [
    {
     "data": {
      "image/png": "[encoded data removed]",
      "text/plain": [
       "<Figure size 720x576 with 1 Axes>"
      ]
     },
     "metadata": {
      "needs_background": "light"
     },
     "output_type": "display_data"
    }
   ],
   "source": [
    "plt.figure(figsize=(10, 8))\n",
    "plt.hist(\n",
    "    element_gameweek_df[\n",
    "            element_gameweek_df['rolling_avg_minutes_element_p3'] >= 0\n",
    "    ]['total_points'],\n",
    "    bins=range(-4, 23),\n",
    "    density=True)\n",
    "\n",
    "for i in range(0, 2):\n",
    "    x = np.linspace(-5, 25, 100)\n",
    "    plt.plot(x, norm.pdf(x, loc=gauss_mix_model.means_[i][0], scale=np.sqrt(gauss_mix_model.covariances_[i][0]))/1.5)\n",
    "    \n",
    "plt.show()"
   ]
  },
  {
   "cell_type": "code",
   "execution_count": 208,
   "metadata": {
    "ExecuteTime": {
     "end_time": "2019-09-06T15:10:19.949756Z",
     "start_time": "2019-09-06T15:10:19.490290Z"
    },
    "hidden": true
   },
   "outputs": [
    {
     "data": {
      "image/png": "[encoded data removed]",
      "text/plain": [
       "<Figure size 720x576 with 1 Axes>"
      ]
     },
     "metadata": {
      "needs_background": "light"
     },
     "output_type": "display_data"
    }
   ],
   "source": [
    "plt.figure(figsize=(10, 8))\n",
    "plt.hist(\n",
    "    gauss_mix_model.sample(10000)[0].ravel(),\n",
    "    bins=30\n",
    ")\n",
    "plt.show()"
   ]
  },
  {
   "cell_type": "code",
   "execution_count": 209,
   "metadata": {
    "ExecuteTime": {
     "end_time": "2019-09-06T15:10:20.484958Z",
     "start_time": "2019-09-06T15:10:20.015483Z"
    },
    "hidden": true,
    "scrolled": false
   },
   "outputs": [
    {
     "data": {
      "image/png": "[encoded data removed]",
      "text/plain": [
       "<Figure size 720x576 with 1 Axes>"
      ]
     },
     "metadata": {
      "needs_background": "light"
     },
     "output_type": "display_data"
    }
   ],
   "source": [
    "plt.figure(figsize=(10, 8))\n",
    "plt.hist(\n",
    "    np.log(element_gameweek_df['total_points'] + 5),\n",
    "    bins=27\n",
    ")\n",
    "plt.show()"
   ]
  },
  {
   "cell_type": "code",
   "execution_count": 210,
   "metadata": {
    "ExecuteTime": {
     "end_time": "2019-09-06T15:10:20.548764Z",
     "start_time": "2019-09-06T15:10:20.487850Z"
    },
    "hidden": true
   },
   "outputs": [
    {
     "data": {
      "text/plain": [
       "GaussianMixture(covariance_type='full', init_params='kmeans', max_iter=100,\n",
       "                means_init=None, n_components=2, n_init=1, precisions_init=None,\n",
       "                random_state=None, reg_covar=1e-06, tol=0.001, verbose=0,\n",
       "                verbose_interval=10, warm_start=False, weights_init=None)"
      ]
     },
     "execution_count": 210,
     "metadata": {},
     "output_type": "execute_result"
    }
   ],
   "source": [
    "log_mix_model = GaussianMixture(\n",
    "    n_components=2\n",
    ")\n",
    "log_mix_model.fit(\n",
    "    np.array(np.log(element_gameweek_df['total_points'] + 5)).reshape(-1, 1)\n",
    ")"
   ]
  },
  {
   "cell_type": "code",
   "execution_count": 211,
   "metadata": {
    "ExecuteTime": {
     "end_time": "2019-09-06T15:10:20.717908Z",
     "start_time": "2019-09-06T15:10:20.712596Z"
    },
    "hidden": true
   },
   "outputs": [
    {
     "name": "stdout",
     "output_type": "stream",
     "text": [
      "[[2.37343906]\n",
      " [1.76930407]]\n",
      "[[[0.10049233]]\n",
      "\n",
      " [[0.0254628 ]]]\n"
     ]
    }
   ],
   "source": [
    "print(log_mix_model.means_)\n",
    "print(log_mix_model.covariances_)"
   ]
  },
  {
   "cell_type": "code",
   "execution_count": 212,
   "metadata": {
    "ExecuteTime": {
     "end_time": "2019-09-06T15:10:21.524523Z",
     "start_time": "2019-09-06T15:10:21.058690Z"
    },
    "hidden": true
   },
   "outputs": [
    {
     "data": {
      "image/png": "[encoded data removed]",
      "text/plain": [
       "<Figure size 720x576 with 1 Axes>"
      ]
     },
     "metadata": {
      "needs_background": "light"
     },
     "output_type": "display_data"
    }
   ],
   "source": [
    "plt.figure(figsize=(10, 8))\n",
    "plt.hist(np.log(element_gameweek_df['total_points'] + 5), bins=27, density=True)\n",
    "\n",
    "for i in range(0, 2):\n",
    "    x = np.linspace(0, 3.5, 100)\n",
    "    plt.plot(x, norm.pdf(x, loc=log_mix_model.means_[i][0], scale=np.sqrt(log_mix_model.covariances_[i][0])))\n",
    "    \n",
    "plt.show()"
   ]
  },
  {
   "cell_type": "code",
   "execution_count": 213,
   "metadata": {
    "ExecuteTime": {
     "end_time": "2019-09-06T15:10:21.952893Z",
     "start_time": "2019-09-06T15:10:21.527435Z"
    },
    "hidden": true
   },
   "outputs": [
    {
     "data": {
      "image/png": "[encoded data removed]",
      "text/plain": [
       "<Figure size 720x576 with 1 Axes>"
      ]
     },
     "metadata": {
      "needs_background": "light"
     },
     "output_type": "display_data"
    }
   ],
   "source": [
    "plt.figure(figsize=(10, 8))\n",
    "plt.hist(\n",
    "    log_mix_model.sample(10000)[0].ravel(),\n",
    "    bins=30\n",
    ")\n",
    "plt.show()"
   ]
  },
  {
   "cell_type": "markdown",
   "metadata": {
    "heading_collapsed": true
   },
   "source": [
    "# Resampling data"
   ]
  },
  {
   "cell_type": "code",
   "execution_count": 219,
   "metadata": {
    "ExecuteTime": {
     "end_time": "2019-09-06T15:20:18.135679Z",
     "start_time": "2019-09-06T15:20:18.058456Z"
    },
    "hidden": true
   },
   "outputs": [],
   "source": [
    "element_gameweek_df['is_low_points'] = [\n",
    "    i[0] for i in \n",
    "    gauss_mix_model.predict_proba(\n",
    "        np.array(element_gameweek_df['total_points']).reshape(-1, 1)\n",
    "    )\n",
    "]\n",
    "\n",
    "element_gameweek_df['is_high_points'] = 1 - element_gameweek_df['is_low_points']"
   ]
  },
  {
   "cell_type": "code",
   "execution_count": 247,
   "metadata": {
    "ExecuteTime": {
     "end_time": "2019-09-06T15:41:45.478110Z",
     "start_time": "2019-09-06T15:30:43.226295Z"
    },
    "hidden": true
   },
   "outputs": [],
   "source": [
    "low_df_arr = []\n",
    "for i in range(len(element_gameweek_df)):\n",
    "    for j in range(int(element_gameweek_df.iloc[i]['is_low_points'] * 10)):\n",
    "        low_df_arr.append(element_gameweek_df.iloc[i])\n",
    "    \n",
    "low_df = pd.DataFrame(low_df_arr)\n",
    "\n",
    "high_df_arr = []\n",
    "for i in range(len(element_gameweek_df)):\n",
    "    for j in range(int(element_gameweek_df.iloc[i]['is_high_points'] * 10)):\n",
    "        high_df_arr.append(element_gameweek_df.iloc[i])\n",
    "    \n",
    "high_df = pd.DataFrame(high_df_arr)"
   ]
  },
  {
   "cell_type": "markdown",
   "metadata": {},
   "source": [
    "# Modelling data"
   ]
  },
  {
   "cell_type": "markdown",
   "metadata": {
    "heading_collapsed": true
   },
   "source": [
    "## Splitting data"
   ]
  },
  {
   "cell_type": "code",
   "execution_count": 257,
   "metadata": {
    "ExecuteTime": {
     "end_time": "2019-09-06T15:44:39.970371Z",
     "start_time": "2019-09-06T15:44:39.953551Z"
    },
    "hidden": true
   },
   "outputs": [],
   "source": [
    "test_fold = [-1 if i <= last_train_event else 0 for i in element_gameweek_df['event']]\n",
    "ps = PredefinedSplit(test_fold)"
   ]
  },
  {
   "cell_type": "code",
   "execution_count": 258,
   "metadata": {
    "ExecuteTime": {
     "end_time": "2019-09-06T15:44:40.388437Z",
     "start_time": "2019-09-06T15:44:40.364219Z"
    },
    "hidden": true
   },
   "outputs": [],
   "source": [
    "for train_index, test_index in ps.split():\n",
    "    element_gameweek_df_train, element_gameweek_df_test = \\\n",
    "    element_gameweek_df.copy().iloc[train_index], element_gameweek_df.copy().iloc[test_index]"
   ]
  },
  {
   "cell_type": "code",
   "execution_count": 259,
   "metadata": {
    "ExecuteTime": {
     "end_time": "2019-09-06T15:44:41.012581Z",
     "start_time": "2019-09-06T15:44:40.780053Z"
    },
    "hidden": true
   },
   "outputs": [],
   "source": [
    "low_test_fold = [-1 if i <= last_train_event else 0 for i in low_df['event']]\n",
    "low_ps = PredefinedSplit(low_test_fold)"
   ]
  },
  {
   "cell_type": "code",
   "execution_count": 260,
   "metadata": {
    "ExecuteTime": {
     "end_time": "2019-09-06T15:44:42.357562Z",
     "start_time": "2019-09-06T15:44:41.263547Z"
    },
    "hidden": true
   },
   "outputs": [],
   "source": [
    "for train_index, test_index in low_ps.split():\n",
    "    low_df_train, low_df_test = \\\n",
    "    low_df.copy().iloc[train_index], low_df.copy().iloc[test_index]"
   ]
  },
  {
   "cell_type": "code",
   "execution_count": 261,
   "metadata": {
    "ExecuteTime": {
     "end_time": "2019-09-06T15:44:42.429035Z",
     "start_time": "2019-09-06T15:44:42.361135Z"
    },
    "hidden": true
   },
   "outputs": [],
   "source": [
    "high_test_fold = [-1 if i <= last_train_event else 0 for i in high_df['event']]\n",
    "high_ps = PredefinedSplit(high_test_fold)"
   ]
  },
  {
   "cell_type": "code",
   "execution_count": 262,
   "metadata": {
    "ExecuteTime": {
     "end_time": "2019-09-06T15:44:43.182258Z",
     "start_time": "2019-09-06T15:44:42.844739Z"
    },
    "hidden": true
   },
   "outputs": [],
   "source": [
    "for train_index, test_index in high_ps.split():\n",
    "    high_df_train, high_df_test = \\\n",
    "    high_df.copy().iloc[train_index], high_df.copy().iloc[test_index]"
   ]
  },
  {
   "cell_type": "markdown",
   "metadata": {
    "ExecuteTime": {
     "end_time": "2019-09-03T08:56:57.311018Z",
     "start_time": "2019-09-03T08:56:57.220988Z"
    },
    "heading_collapsed": true
   },
   "source": [
    "## Scaling data"
   ]
  },
  {
   "cell_type": "code",
   "execution_count": 264,
   "metadata": {
    "ExecuteTime": {
     "end_time": "2019-09-06T15:45:23.120741Z",
     "start_time": "2019-09-06T15:45:23.105137Z"
    },
    "hidden": true
   },
   "outputs": [
    {
     "data": {
      "text/plain": [
       "['value',\n",
       " 'rolling_avg_total_points_element',\n",
       " 'rolling_q3_total_points_element',\n",
       " 'rolling_max_total_points_element',\n",
       " 'rolling_avg_bps_element',\n",
       " 'rolling_avg_bonus_element',\n",
       " 'rolling_avg_goals_scored_element',\n",
       " 'rolling_avg_minutes_element',\n",
       " 'rolling_avg_clean_sheets_element',\n",
       " 'rolling_avg_completed_passes_element',\n",
       " 'rolling_avg_recoveries_element',\n",
       " 'rolling_avg_assists_element',\n",
       " 'rolling_avg_key_passes_element',\n",
       " 'rolling_avg_winning_goals_element',\n",
       " 'rolling_avg_tackled_element',\n",
       " 'rolling_avg_dribbles_element',\n",
       " 'rolling_avg_clearances_blocks_interceptions_element',\n",
       " 'rolling_avg_big_chances_created_element',\n",
       " 'rolling_avg_target_missed_element',\n",
       " 'rolling_avg_fouls_element',\n",
       " 'rolling_avg_tackles_element',\n",
       " 'rolling_avg_open_play_crosses_element',\n",
       " 'rolling_avg_offside_element',\n",
       " 'rolling_avg_big_chances_missed_element',\n",
       " 'rolling_avg_saves_element',\n",
       " 'rolling_avg_goals_conceded_element',\n",
       " 'rolling_avg_attempted_passes_element',\n",
       " 'rolling_avg_errors_leading_to_goal_element',\n",
       " 'rolling_avg_errors_leading_to_goal_attempt_element',\n",
       " 'rolling_avg_own_goals_element',\n",
       " 'rolling_avg_penalties_conceded_element',\n",
       " 'rolling_avg_penalties_missed_element',\n",
       " 'rolling_avg_penalties_saved_element',\n",
       " 'rolling_avg_red_cards_element',\n",
       " 'rolling_avg_yellow_cards_element',\n",
       " 'rolling_avg_big_chances_element',\n",
       " 'rolling_avg_shots_conceded_element',\n",
       " 'rolling_avg_big_chances_scored_rate_element',\n",
       " 'rolling_avg_big_chances_assisted_rate_element',\n",
       " 'rolling_avg_save_rate_element',\n",
       " 'rolling_avg_minutes_element_p3',\n",
       " 'rolling_avg_total_points_element_p3',\n",
       " 'rolling_avg_total_points_own_team',\n",
       " 'rolling_avg_total_points_element_home',\n",
       " 'rolling_avg_total_points_element_away',\n",
       " 'expected_total_points_element_home_away',\n",
       " 'rolling_avg_total_points_opposition_team',\n",
       " 'rolling_avg_goals_scored_opposition_team',\n",
       " 'rolling_avg_goals_conceded_opposition_team',\n",
       " 'rolling_avg_goals_scored_opposition_team_p5',\n",
       " 'rolling_avg_goals_conceded_opposition_team_p5',\n",
       " 'rolling_q3_goals_scored_opposition_team',\n",
       " 'rolling_q3_goals_conceded_opposition_team',\n",
       " 'rolling_q3_goals_scored_opposition_team_p5',\n",
       " 'rolling_q3_goals_conceded_opposition_team_p5',\n",
       " 'rolling_avg_total_points_element_type',\n",
       " 'rolling_avg_total_points_against_opposition_team',\n",
       " 'rolling_avg_total_points_against_opposition_team_element_type',\n",
       " 'expected_total_points_against_opposition_team',\n",
       " 'rolling_avg_total_points_against_opposition_team_element_type_home',\n",
       " 'rolling_avg_total_points_against_opposition_team_element_type_away',\n",
       " 'expected_total_points_against_opposition_team_home_away']"
      ]
     },
     "execution_count": 264,
     "metadata": {},
     "output_type": "execute_result"
    }
   ],
   "source": [
    "scaled_feature_cols = [\n",
    "    i for i in element_gameweek_df.columns if i not in [\n",
    "        'safe_web_name', 'element', 'event', 'fixture', 'team',\n",
    "        'opposition_team', 'element_type', 'was_home', 'is_sunday',\n",
    "        'is_weekday', 'is_late', 'is_early', 'has_high_points_ever_element',\n",
    "        'total_points', 'minutes', 'rolling_value_points', 'is_keeper',\n",
    "        'is_scorer', 'is_assister', 'is_high_value', 'is_low_points',\n",
    "        'is_high_points'\n",
    "    ]\n",
    "]\n",
    "\n",
    "scaled_feature_cols"
   ]
  },
  {
   "cell_type": "code",
   "execution_count": 265,
   "metadata": {
    "ExecuteTime": {
     "end_time": "2019-09-06T15:45:35.802000Z",
     "start_time": "2019-09-06T15:45:30.207137Z"
    },
    "hidden": true
   },
   "outputs": [],
   "source": [
    "scaled_df_train = element_gameweek_df_train.copy()\n",
    "scaled_df_test = element_gameweek_df_test.copy()\n",
    "scaled_df = element_gameweek_df.copy()\n",
    "\n",
    "scaler = StandardScaler().fit(scaled_df_train[scaled_feature_cols].values)\n",
    "\n",
    "scaled_df_train = scaler.transform(scaled_df_train[scaled_feature_cols].values)\n",
    "scaled_df_test = scaler.transform(scaled_df_test[scaled_feature_cols].values)\n",
    "scaled_df = scaler.transform(scaled_df[scaled_feature_cols].values)\n",
    "\n",
    "element_gameweek_df_train[scaled_feature_cols] = scaled_df_train\n",
    "element_gameweek_df_test[scaled_feature_cols] = scaled_df_test\n",
    "element_gameweek_df[scaled_feature_cols] = scaled_df"
   ]
  },
  {
   "cell_type": "code",
   "execution_count": 266,
   "metadata": {
    "ExecuteTime": {
     "end_time": "2019-09-06T15:46:18.787801Z",
     "start_time": "2019-09-06T15:45:54.533427Z"
    },
    "hidden": true
   },
   "outputs": [],
   "source": [
    "scaled_df_train = low_df_train.copy()\n",
    "scaled_df_test = low_df_test.copy()\n",
    "scaled_df = low_df.copy()\n",
    "\n",
    "scaler = StandardScaler().fit(scaled_df_train[scaled_feature_cols].values)\n",
    "\n",
    "scaled_df_train = scaler.transform(scaled_df_train[scaled_feature_cols].values)\n",
    "scaled_df_test = scaler.transform(scaled_df_test[scaled_feature_cols].values)\n",
    "scaled_df = scaler.transform(scaled_df[scaled_feature_cols].values)\n",
    "\n",
    "low_df_train[scaled_feature_cols] = scaled_df_train\n",
    "low_df_test[scaled_feature_cols] = scaled_df_test\n",
    "low_df[scaled_feature_cols] = scaled_df"
   ]
  },
  {
   "cell_type": "code",
   "execution_count": 267,
   "metadata": {
    "ExecuteTime": {
     "end_time": "2019-09-06T15:46:28.397249Z",
     "start_time": "2019-09-06T15:46:18.790659Z"
    },
    "hidden": true
   },
   "outputs": [],
   "source": [
    "scaled_df_train = high_df_train.copy()\n",
    "scaled_df_test = high_df_test.copy()\n",
    "scaled_df = high_df.copy()\n",
    "\n",
    "scaler = StandardScaler().fit(scaled_df_train[scaled_feature_cols].values)\n",
    "\n",
    "scaled_df_train = scaler.transform(scaled_df_train[scaled_feature_cols].values)\n",
    "scaled_df_test = scaler.transform(scaled_df_test[scaled_feature_cols].values)\n",
    "scaled_df = scaler.transform(scaled_df[scaled_feature_cols].values)\n",
    "\n",
    "high_df_train[scaled_feature_cols] = scaled_df_train\n",
    "high_df_test[scaled_feature_cols] = scaled_df_test\n",
    "high_df[scaled_feature_cols] = scaled_df"
   ]
  },
  {
   "cell_type": "markdown",
   "metadata": {
    "heading_collapsed": true
   },
   "source": [
    "## Building model"
   ]
  },
  {
   "cell_type": "code",
   "execution_count": 271,
   "metadata": {
    "ExecuteTime": {
     "end_time": "2019-09-06T15:48:15.736439Z",
     "start_time": "2019-09-06T15:48:15.725060Z"
    },
    "hidden": true
   },
   "outputs": [],
   "source": [
    "class FullRankOneHot(object):\n",
    "    def __init__(self, reference=0):\n",
    "        self.reference = reference\n",
    "\n",
    "    # Called to generate a full-rank encoding\n",
    "    def code_with_intercept(self, levels):\n",
    "        return patsy.ContrastMatrix(np.eye(len(levels)),\n",
    "                              [\"[%s]\" % (level,) for level in levels])\n",
    "\n",
    "    # Called to generate a non-full-rank encoding. But we don't care,\n",
    "    # we do what we want, and return a full-rank encoding anyway.\n",
    "    # Take that, patsy.\n",
    "    def code_without_intercept(self, levels):\n",
    "        return self.code_with_intercept(levels)"
   ]
  },
  {
   "cell_type": "code",
   "execution_count": 272,
   "metadata": {
    "ExecuteTime": {
     "end_time": "2019-09-06T15:48:16.708824Z",
     "start_time": "2019-09-06T15:48:16.699090Z"
    },
    "hidden": true
   },
   "outputs": [
    {
     "data": {
      "text/plain": [
       "['safe_web_name',\n",
       " 'element',\n",
       " 'event',\n",
       " 'fixture',\n",
       " 'team',\n",
       " 'opposition_team',\n",
       " 'was_home',\n",
       " 'is_sunday',\n",
       " 'is_weekday',\n",
       " 'is_early',\n",
       " 'is_late',\n",
       " 'element_type',\n",
       " 'value',\n",
       " 'rolling_value_points',\n",
       " 'rolling_avg_total_points_element',\n",
       " 'rolling_q3_total_points_element',\n",
       " 'rolling_max_total_points_element',\n",
       " 'has_high_points_ever_element',\n",
       " 'rolling_avg_bps_element',\n",
       " 'rolling_avg_bonus_element',\n",
       " 'rolling_avg_goals_scored_element',\n",
       " 'rolling_avg_minutes_element',\n",
       " 'rolling_avg_clean_sheets_element',\n",
       " 'rolling_avg_completed_passes_element',\n",
       " 'rolling_avg_recoveries_element',\n",
       " 'rolling_avg_assists_element',\n",
       " 'rolling_avg_key_passes_element',\n",
       " 'rolling_avg_winning_goals_element',\n",
       " 'rolling_avg_tackled_element',\n",
       " 'rolling_avg_dribbles_element',\n",
       " 'rolling_avg_clearances_blocks_interceptions_element',\n",
       " 'rolling_avg_big_chances_created_element',\n",
       " 'rolling_avg_target_missed_element',\n",
       " 'rolling_avg_fouls_element',\n",
       " 'rolling_avg_tackles_element',\n",
       " 'rolling_avg_open_play_crosses_element',\n",
       " 'rolling_avg_offside_element',\n",
       " 'rolling_avg_big_chances_missed_element',\n",
       " 'rolling_avg_saves_element',\n",
       " 'rolling_avg_goals_conceded_element',\n",
       " 'rolling_avg_attempted_passes_element',\n",
       " 'rolling_avg_errors_leading_to_goal_element',\n",
       " 'rolling_avg_errors_leading_to_goal_attempt_element',\n",
       " 'rolling_avg_own_goals_element',\n",
       " 'rolling_avg_penalties_conceded_element',\n",
       " 'rolling_avg_penalties_missed_element',\n",
       " 'rolling_avg_penalties_saved_element',\n",
       " 'rolling_avg_red_cards_element',\n",
       " 'rolling_avg_yellow_cards_element',\n",
       " 'rolling_avg_big_chances_element',\n",
       " 'rolling_avg_shots_conceded_element',\n",
       " 'rolling_avg_big_chances_scored_rate_element',\n",
       " 'rolling_avg_big_chances_assisted_rate_element',\n",
       " 'rolling_avg_save_rate_element',\n",
       " 'rolling_avg_minutes_element_p3',\n",
       " 'rolling_avg_total_points_element_p3',\n",
       " 'rolling_avg_total_points_own_team',\n",
       " 'rolling_avg_total_points_element_home',\n",
       " 'rolling_avg_total_points_element_away',\n",
       " 'expected_total_points_element_home_away',\n",
       " 'rolling_avg_total_points_opposition_team',\n",
       " 'rolling_avg_goals_scored_opposition_team',\n",
       " 'rolling_avg_goals_conceded_opposition_team',\n",
       " 'rolling_avg_goals_scored_opposition_team_p5',\n",
       " 'rolling_avg_goals_conceded_opposition_team_p5',\n",
       " 'rolling_q3_goals_scored_opposition_team',\n",
       " 'rolling_q3_goals_conceded_opposition_team',\n",
       " 'rolling_q3_goals_scored_opposition_team_p5',\n",
       " 'rolling_q3_goals_conceded_opposition_team_p5',\n",
       " 'rolling_avg_total_points_element_type',\n",
       " 'rolling_avg_total_points_against_opposition_team',\n",
       " 'rolling_avg_total_points_against_opposition_team_element_type',\n",
       " 'expected_total_points_against_opposition_team',\n",
       " 'rolling_avg_total_points_against_opposition_team_element_type_home',\n",
       " 'rolling_avg_total_points_against_opposition_team_element_type_away',\n",
       " 'expected_total_points_against_opposition_team_home_away',\n",
       " 'total_points',\n",
       " 'minutes',\n",
       " 'is_keeper',\n",
       " 'is_scorer',\n",
       " 'is_assister',\n",
       " 'is_high_value',\n",
       " 'is_low_points',\n",
       " 'is_high_points']"
      ]
     },
     "execution_count": 272,
     "metadata": {},
     "output_type": "execute_result"
    }
   ],
   "source": [
    "list(element_gameweek_df.columns)"
   ]
  },
  {
   "cell_type": "code",
   "execution_count": 331,
   "metadata": {
    "ExecuteTime": {
     "end_time": "2019-09-06T17:55:36.935956Z",
     "start_time": "2019-09-06T17:55:36.930581Z"
    },
    "hidden": true
   },
   "outputs": [],
   "source": [
    "formula = \\\n",
    "'''\n",
    "total_points ~\n",
    "+ C(element_type)\n",
    "+ C(team)\n",
    "+ C(opposition_team)\n",
    "+ was_home\n",
    "+ value\n",
    "+ is_high_value\n",
    "+ rolling_q3_total_points_element\n",
    "+ rolling_avg_bonus_element\n",
    "+ rolling_avg_big_chances_created_element\n",
    "+ rolling_avg_saves_element\n",
    "+ is_keeper:rolling_avg_saves_element\n",
    "+ rolling_avg_goals_conceded_element\n",
    "+ rolling_avg_attempted_passes_element\n",
    "+ rolling_avg_errors_leading_to_goal_attempt_element\n",
    "+ rolling_avg_penalties_saved_element\n",
    "+ is_keeper:rolling_avg_penalties_saved_element\n",
    "+ rolling_avg_yellow_cards_element\n",
    "+ rolling_avg_minutes_element_p3\n",
    "+ rolling_avg_total_points_element_p3\n",
    "+ rolling_avg_goals_scored_opposition_team\n",
    "+ C(element_type):rolling_avg_goals_scored_opposition_team\n",
    "+ rolling_q3_goals_conceded_opposition_team\n",
    "+ C(element_type):rolling_q3_goals_conceded_opposition_team\n",
    "+ expected_total_points_against_opposition_team\n",
    "+ rolling_avg_big_chances_element\n",
    "+ rolling_avg_big_chances_scored_rate_element\n",
    "+ rolling_avg_big_chances_assisted_rate_element\n",
    "+ rolling_avg_save_rate_element\n",
    "'''"
   ]
  },
  {
   "cell_type": "code",
   "execution_count": 332,
   "metadata": {
    "ExecuteTime": {
     "end_time": "2019-09-06T17:55:37.897446Z",
     "start_time": "2019-09-06T17:55:37.485305Z"
    },
    "hidden": true
   },
   "outputs": [],
   "source": [
    "y, X = patsy.dmatrices(formula, element_gameweek_df, return_type='matrix')"
   ]
  },
  {
   "cell_type": "code",
   "execution_count": 333,
   "metadata": {
    "ExecuteTime": {
     "end_time": "2019-09-06T17:55:38.450551Z",
     "start_time": "2019-09-06T17:55:38.436430Z"
    },
    "hidden": true
   },
   "outputs": [],
   "source": [
    "for train_index, test_index in ps.split():\n",
    "    X_train, X_test = X[train_index], X[test_index]\n",
    "    y_train, y_test = y[train_index], y[test_index]"
   ]
  },
  {
   "cell_type": "markdown",
   "metadata": {
    "heading_collapsed": true,
    "hidden": true
   },
   "source": [
    "### Low points"
   ]
  },
  {
   "cell_type": "code",
   "execution_count": 292,
   "metadata": {
    "ExecuteTime": {
     "end_time": "2019-09-06T15:56:59.027379Z",
     "start_time": "2019-09-06T15:56:37.083759Z"
    },
    "hidden": true
   },
   "outputs": [],
   "source": [
    "low_y, low_X = patsy.dmatrices(formula, low_df, return_type='matrix')"
   ]
  },
  {
   "cell_type": "code",
   "execution_count": 293,
   "metadata": {
    "ExecuteTime": {
     "end_time": "2019-09-06T15:56:59.276842Z",
     "start_time": "2019-09-06T15:56:59.030617Z"
    },
    "hidden": true
   },
   "outputs": [],
   "source": [
    "for train_index, test_index in low_ps.split():\n",
    "    low_X_train, low_X_test = low_X[train_index], low_X[test_index]\n",
    "    low_y_train, low_y_test = low_y[train_index], low_y[test_index]"
   ]
  },
  {
   "cell_type": "markdown",
   "metadata": {
    "heading_collapsed": true,
    "hidden": true
   },
   "source": [
    "### High points"
   ]
  },
  {
   "cell_type": "code",
   "execution_count": 300,
   "metadata": {
    "ExecuteTime": {
     "end_time": "2019-09-06T17:34:57.381753Z",
     "start_time": "2019-09-06T17:34:57.375435Z"
    },
    "hidden": true
   },
   "outputs": [],
   "source": [
    "formula = \\\n",
    "'''\n",
    "total_points ~\n",
    "+ C(element_type)\n",
    "+ C(team)\n",
    "+ C(opposition_team)\n",
    "+ was_home\n",
    "+ value\n",
    "+ is_high_value\n",
    "+ rolling_q3_total_points_element\n",
    "+ rolling_avg_bonus_element\n",
    "+ rolling_avg_big_chances_created_element\n",
    "+ rolling_avg_saves_element\n",
    "+ is_keeper:rolling_avg_saves_element\n",
    "+ rolling_avg_goals_conceded_element\n",
    "+ rolling_avg_attempted_passes_element\n",
    "+ rolling_avg_errors_leading_to_goal_attempt_element\n",
    "+ rolling_avg_penalties_saved_element\n",
    "+ is_keeper:rolling_avg_penalties_saved_element\n",
    "+ rolling_avg_yellow_cards_element\n",
    "+ rolling_avg_minutes_element_p3\n",
    "+ rolling_avg_total_points_element_p3\n",
    "+ rolling_avg_goals_scored_opposition_team\n",
    "+ C(element_type):rolling_avg_goals_scored_opposition_team\n",
    "+ rolling_q3_goals_conceded_opposition_team\n",
    "+ C(element_type):rolling_q3_goals_conceded_opposition_team\n",
    "+ expected_total_points_against_opposition_team\n",
    "+ rolling_avg_big_chances_element\n",
    "+ rolling_avg_big_chances_scored_rate_element\n",
    "+ rolling_avg_big_chances_assisted_rate_element\n",
    "+ rolling_avg_save_rate_element\n",
    "'''"
   ]
  },
  {
   "cell_type": "code",
   "execution_count": 301,
   "metadata": {
    "ExecuteTime": {
     "end_time": "2019-09-06T17:35:04.785822Z",
     "start_time": "2019-09-06T17:34:57.972267Z"
    },
    "hidden": true
   },
   "outputs": [],
   "source": [
    "high_y, high_X = patsy.dmatrices(formula, high_df, return_type='matrix')"
   ]
  },
  {
   "cell_type": "code",
   "execution_count": 302,
   "metadata": {
    "ExecuteTime": {
     "end_time": "2019-09-06T17:35:04.866240Z",
     "start_time": "2019-09-06T17:35:04.789032Z"
    },
    "hidden": true
   },
   "outputs": [],
   "source": [
    "for train_index, test_index in high_ps.split():\n",
    "    high_X_train, high_X_test = high_X[train_index], high_X[test_index]\n",
    "    high_y_train, high_y_test = high_y[train_index], high_y[test_index]"
   ]
  },
  {
   "cell_type": "markdown",
   "metadata": {
    "heading_collapsed": true
   },
   "source": [
    "## Selecting features"
   ]
  },
  {
   "cell_type": "markdown",
   "metadata": {
    "heading_collapsed": true,
    "hidden": true
   },
   "source": [
    "### Low points"
   ]
  },
  {
   "cell_type": "code",
   "execution_count": 294,
   "metadata": {
    "ExecuteTime": {
     "end_time": "2019-09-06T15:58:58.534564Z",
     "start_time": "2019-09-06T15:56:59.279191Z"
    },
    "hidden": true,
    "scrolled": true
   },
   "outputs": [
    {
     "name": "stdout",
     "output_type": "stream",
     "text": [
      "Fitting estimator with 71 features.\n",
      "Fitting estimator with 70 features.\n",
      "Fitting estimator with 69 features.\n",
      "Fitting estimator with 68 features.\n",
      "Fitting estimator with 67 features.\n",
      "Fitting estimator with 66 features.\n",
      "Fitting estimator with 65 features.\n",
      "Fitting estimator with 64 features.\n",
      "Fitting estimator with 63 features.\n",
      "Fitting estimator with 62 features.\n",
      "Fitting estimator with 61 features.\n",
      "Fitting estimator with 60 features.\n",
      "Fitting estimator with 59 features.\n",
      "Fitting estimator with 58 features.\n",
      "Fitting estimator with 57 features.\n",
      "Fitting estimator with 56 features.\n",
      "Fitting estimator with 55 features.\n",
      "Fitting estimator with 54 features.\n",
      "Fitting estimator with 53 features.\n",
      "Fitting estimator with 52 features.\n",
      "Fitting estimator with 51 features.\n",
      "Fitting estimator with 50 features.\n",
      "Fitting estimator with 49 features.\n",
      "Fitting estimator with 48 features.\n",
      "Fitting estimator with 47 features.\n",
      "Fitting estimator with 46 features.\n",
      "Fitting estimator with 45 features.\n",
      "Fitting estimator with 44 features.\n",
      "Fitting estimator with 43 features.\n",
      "Fitting estimator with 42 features.\n",
      "Fitting estimator with 41 features.\n",
      "Fitting estimator with 40 features.\n",
      "Fitting estimator with 39 features.\n",
      "Fitting estimator with 38 features.\n",
      "Fitting estimator with 37 features.\n",
      "Fitting estimator with 36 features.\n",
      "Fitting estimator with 35 features.\n",
      "Fitting estimator with 34 features.\n",
      "Fitting estimator with 33 features.\n",
      "Fitting estimator with 32 features.\n",
      "Fitting estimator with 31 features.\n",
      "Fitting estimator with 30 features.\n",
      "Fitting estimator with 29 features.\n",
      "Fitting estimator with 28 features.\n",
      "Fitting estimator with 27 features.\n",
      "Fitting estimator with 26 features.\n",
      "Fitting estimator with 25 features.\n",
      "Fitting estimator with 24 features.\n",
      "Fitting estimator with 23 features.\n",
      "Fitting estimator with 22 features.\n",
      "Fitting estimator with 21 features.\n",
      "Fitting estimator with 20 features.\n",
      "Fitting estimator with 19 features.\n",
      "Fitting estimator with 18 features.\n",
      "Fitting estimator with 17 features.\n",
      "Fitting estimator with 16 features.\n",
      "Fitting estimator with 15 features.\n",
      "Fitting estimator with 14 features.\n",
      "Fitting estimator with 13 features.\n",
      "Fitting estimator with 12 features.\n",
      "Fitting estimator with 11 features.\n",
      "Fitting estimator with 10 features.\n",
      "Fitting estimator with 9 features.\n",
      "Fitting estimator with 8 features.\n",
      "Fitting estimator with 7 features.\n",
      "Fitting estimator with 6 features.\n",
      "Fitting estimator with 5 features.\n",
      "Fitting estimator with 4 features.\n",
      "Fitting estimator with 3 features.\n",
      "Fitting estimator with 2 features.\n",
      "Fitting estimator with 71 features.\n",
      "Fitting estimator with 70 features.\n",
      "Fitting estimator with 69 features.\n",
      "Fitting estimator with 68 features.\n",
      "Fitting estimator with 67 features.\n",
      "Fitting estimator with 66 features.\n",
      "Fitting estimator with 65 features.\n",
      "Fitting estimator with 64 features.\n",
      "Fitting estimator with 63 features.\n",
      "Fitting estimator with 62 features.\n",
      "Fitting estimator with 61 features.\n",
      "Fitting estimator with 60 features.\n",
      "Fitting estimator with 59 features.\n",
      "Fitting estimator with 58 features.\n",
      "Fitting estimator with 57 features.\n",
      "Fitting estimator with 56 features.\n",
      "Fitting estimator with 55 features.\n",
      "Fitting estimator with 54 features.\n",
      "Fitting estimator with 53 features.\n",
      "Fitting estimator with 52 features.\n",
      "Fitting estimator with 51 features.\n",
      "Fitting estimator with 50 features.\n",
      "Fitting estimator with 49 features.\n",
      "Fitting estimator with 48 features.\n",
      "Fitting estimator with 47 features.\n",
      "Fitting estimator with 46 features.\n",
      "Fitting estimator with 45 features.\n",
      "Fitting estimator with 44 features.\n",
      "Fitting estimator with 43 features.\n",
      "Fitting estimator with 42 features.\n",
      "Fitting estimator with 41 features.\n",
      "Fitting estimator with 40 features.\n",
      "Fitting estimator with 39 features.\n",
      "Fitting estimator with 38 features.\n",
      "Fitting estimator with 37 features.\n",
      "Fitting estimator with 36 features.\n",
      "Fitting estimator with 35 features.\n",
      "Fitting estimator with 34 features.\n",
      "Fitting estimator with 33 features.\n",
      "Fitting estimator with 32 features.\n",
      "Fitting estimator with 31 features.\n",
      "Fitting estimator with 30 features.\n",
      "Fitting estimator with 29 features.\n",
      "Fitting estimator with 28 features.\n",
      "Fitting estimator with 27 features.\n",
      "Fitting estimator with 26 features.\n"
     ]
    },
    {
     "data": {
      "text/plain": [
       "RFECV(cv=PredefinedSplit(test_fold=array([-1, -1, ...,  0,  0])),\n",
       "      estimator=Ridge(alpha=1, copy_X=True, fit_intercept=True, max_iter=None,\n",
       "                      normalize=False, random_state=None, solver='auto',\n",
       "                      tol=0.001),\n",
       "      min_features_to_select=1, n_jobs=1, scoring='neg_mean_squared_error',\n",
       "      step=1, verbose=1)"
      ]
     },
     "execution_count": 294,
     "metadata": {},
     "output_type": "execute_result"
    }
   ],
   "source": [
    "low_estimator = Ridge(alpha=1)\n",
    "\n",
    "low_selector = RFECV(low_estimator, step=1,\n",
    "                     scoring='neg_mean_squared_error',\n",
    "                     cv=low_ps, n_jobs=1, verbose=1)\n",
    "low_selector.fit(\n",
    "    low_X,\n",
    "    low_y.ravel()\n",
    ")"
   ]
  },
  {
   "cell_type": "code",
   "execution_count": 295,
   "metadata": {
    "ExecuteTime": {
     "end_time": "2019-09-06T15:58:58.544038Z",
     "start_time": "2019-09-06T15:58:58.538219Z"
    },
    "hidden": true
   },
   "outputs": [
    {
     "data": {
      "text/plain": [
       "25"
      ]
     },
     "execution_count": 295,
     "metadata": {},
     "output_type": "execute_result"
    }
   ],
   "source": [
    "sum(low_selector.support_)"
   ]
  },
  {
   "cell_type": "code",
   "execution_count": 296,
   "metadata": {
    "ExecuteTime": {
     "end_time": "2019-09-06T15:58:58.603403Z",
     "start_time": "2019-09-06T15:58:58.546506Z"
    },
    "hidden": true
   },
   "outputs": [
    {
     "data": {
      "text/plain": [
       "-0.7174116522981199"
      ]
     },
     "execution_count": 296,
     "metadata": {},
     "output_type": "execute_result"
    }
   ],
   "source": [
    "low_selector.grid_scores_[-1]"
   ]
  },
  {
   "cell_type": "code",
   "execution_count": 297,
   "metadata": {
    "ExecuteTime": {
     "end_time": "2019-09-06T15:58:58.630355Z",
     "start_time": "2019-09-06T15:58:58.606208Z"
    },
    "hidden": true
   },
   "outputs": [
    {
     "data": {
      "text/plain": [
       "['C(element_type)[T.2]',\n",
       " 'C(element_type)[T.3]',\n",
       " 'C(element_type)[T.4]',\n",
       " 'C(team)[T.3]',\n",
       " 'C(team)[T.4]',\n",
       " 'C(team)[T.5]',\n",
       " 'C(team)[T.7]',\n",
       " 'C(team)[T.8]',\n",
       " 'C(team)[T.11]',\n",
       " 'C(team)[T.12]',\n",
       " 'C(team)[T.14]',\n",
       " 'C(team)[T.15]',\n",
       " 'C(team)[T.17]',\n",
       " 'C(team)[T.20]',\n",
       " 'C(opposition_team)[T.3]',\n",
       " 'C(opposition_team)[T.9]',\n",
       " 'C(opposition_team)[T.15]',\n",
       " 'C(opposition_team)[T.16]',\n",
       " 'rolling_avg_bonus_element',\n",
       " 'rolling_avg_attempted_passes_element',\n",
       " 'rolling_avg_minutes_element_p3',\n",
       " 'rolling_avg_total_points_element_p3',\n",
       " 'C(element_type)[T.4]:rolling_q3_goals_conceded_opposition_team',\n",
       " 'expected_total_points_against_opposition_team',\n",
       " 'rolling_avg_save_rate_element']"
      ]
     },
     "execution_count": 297,
     "metadata": {},
     "output_type": "execute_result"
    }
   ],
   "source": [
    "list(pd.Series(low_X.design_info.column_names)[low_selector.support_])"
   ]
  },
  {
   "cell_type": "code",
   "execution_count": 298,
   "metadata": {
    "ExecuteTime": {
     "end_time": "2019-09-06T15:58:59.265317Z",
     "start_time": "2019-09-06T15:58:58.633072Z"
    },
    "hidden": true
   },
   "outputs": [],
   "source": [
    "low_X_sel = low_X[:,low_selector.support_]\n",
    "low_X_train_sel = low_X_train[:,low_selector.support_]\n",
    "low_X_test_sel = low_X_test[:,low_selector.support_]"
   ]
  },
  {
   "cell_type": "markdown",
   "metadata": {
    "heading_collapsed": true,
    "hidden": true
   },
   "source": [
    "### High points"
   ]
  },
  {
   "cell_type": "code",
   "execution_count": 303,
   "metadata": {
    "ExecuteTime": {
     "end_time": "2019-09-06T17:35:50.347564Z",
     "start_time": "2019-09-06T17:35:24.932515Z"
    },
    "hidden": true,
    "scrolled": true
   },
   "outputs": [
    {
     "name": "stdout",
     "output_type": "stream",
     "text": [
      "Fitting estimator with 71 features.\n",
      "Fitting estimator with 70 features.\n",
      "Fitting estimator with 69 features.\n",
      "Fitting estimator with 68 features.\n",
      "Fitting estimator with 67 features.\n",
      "Fitting estimator with 66 features.\n",
      "Fitting estimator with 65 features.\n",
      "Fitting estimator with 64 features.\n",
      "Fitting estimator with 63 features.\n",
      "Fitting estimator with 62 features.\n",
      "Fitting estimator with 61 features.\n",
      "Fitting estimator with 60 features.\n",
      "Fitting estimator with 59 features.\n",
      "Fitting estimator with 58 features.\n",
      "Fitting estimator with 57 features.\n",
      "Fitting estimator with 56 features.\n",
      "Fitting estimator with 55 features.\n",
      "Fitting estimator with 54 features.\n",
      "Fitting estimator with 53 features.\n",
      "Fitting estimator with 52 features.\n",
      "Fitting estimator with 51 features.\n",
      "Fitting estimator with 50 features.\n",
      "Fitting estimator with 49 features.\n",
      "Fitting estimator with 48 features.\n",
      "Fitting estimator with 47 features.\n",
      "Fitting estimator with 46 features.\n",
      "Fitting estimator with 45 features.\n",
      "Fitting estimator with 44 features.\n",
      "Fitting estimator with 43 features.\n",
      "Fitting estimator with 42 features.\n",
      "Fitting estimator with 41 features.\n",
      "Fitting estimator with 40 features.\n",
      "Fitting estimator with 39 features.\n",
      "Fitting estimator with 38 features.\n",
      "Fitting estimator with 37 features.\n",
      "Fitting estimator with 36 features.\n",
      "Fitting estimator with 35 features.\n",
      "Fitting estimator with 34 features.\n",
      "Fitting estimator with 33 features.\n",
      "Fitting estimator with 32 features.\n",
      "Fitting estimator with 31 features.\n",
      "Fitting estimator with 30 features.\n",
      "Fitting estimator with 29 features.\n",
      "Fitting estimator with 28 features.\n",
      "Fitting estimator with 27 features.\n",
      "Fitting estimator with 26 features.\n",
      "Fitting estimator with 25 features.\n",
      "Fitting estimator with 24 features.\n",
      "Fitting estimator with 23 features.\n",
      "Fitting estimator with 22 features.\n",
      "Fitting estimator with 21 features.\n",
      "Fitting estimator with 20 features.\n",
      "Fitting estimator with 19 features.\n",
      "Fitting estimator with 18 features.\n",
      "Fitting estimator with 17 features.\n",
      "Fitting estimator with 16 features.\n",
      "Fitting estimator with 15 features.\n",
      "Fitting estimator with 14 features.\n",
      "Fitting estimator with 13 features.\n",
      "Fitting estimator with 12 features.\n",
      "Fitting estimator with 11 features.\n",
      "Fitting estimator with 10 features.\n",
      "Fitting estimator with 9 features.\n",
      "Fitting estimator with 8 features.\n",
      "Fitting estimator with 7 features.\n",
      "Fitting estimator with 6 features.\n",
      "Fitting estimator with 5 features.\n",
      "Fitting estimator with 4 features.\n",
      "Fitting estimator with 3 features.\n",
      "Fitting estimator with 2 features.\n",
      "Fitting estimator with 71 features.\n",
      "Fitting estimator with 70 features.\n",
      "Fitting estimator with 69 features.\n",
      "Fitting estimator with 68 features.\n",
      "Fitting estimator with 67 features.\n",
      "Fitting estimator with 66 features.\n",
      "Fitting estimator with 65 features.\n",
      "Fitting estimator with 64 features.\n",
      "Fitting estimator with 63 features.\n",
      "Fitting estimator with 62 features.\n",
      "Fitting estimator with 61 features.\n"
     ]
    },
    {
     "data": {
      "text/plain": [
       "RFECV(cv=PredefinedSplit(test_fold=array([-1, -1, ...,  0,  0])),\n",
       "      estimator=Ridge(alpha=1, copy_X=True, fit_intercept=True, max_iter=None,\n",
       "                      normalize=False, random_state=None, solver='auto',\n",
       "                      tol=0.001),\n",
       "      min_features_to_select=1, n_jobs=1, scoring='neg_mean_squared_error',\n",
       "      step=1, verbose=1)"
      ]
     },
     "execution_count": 303,
     "metadata": {},
     "output_type": "execute_result"
    }
   ],
   "source": [
    "high_estimator = Ridge(alpha=1)\n",
    "\n",
    "high_selector = RFECV(high_estimator, step=1,\n",
    "                     scoring='neg_mean_squared_error',\n",
    "                     cv=high_ps, n_jobs=1, verbose=1)\n",
    "high_selector.fit(\n",
    "    high_X,\n",
    "    high_y.ravel()\n",
    ")"
   ]
  },
  {
   "cell_type": "code",
   "execution_count": 304,
   "metadata": {
    "ExecuteTime": {
     "end_time": "2019-09-06T17:35:50.368140Z",
     "start_time": "2019-09-06T17:35:50.351726Z"
    },
    "hidden": true
   },
   "outputs": [
    {
     "data": {
      "text/plain": [
       "60"
      ]
     },
     "execution_count": 304,
     "metadata": {},
     "output_type": "execute_result"
    }
   ],
   "source": [
    "sum(high_selector.support_)"
   ]
  },
  {
   "cell_type": "code",
   "execution_count": 305,
   "metadata": {
    "ExecuteTime": {
     "end_time": "2019-09-06T17:35:50.419023Z",
     "start_time": "2019-09-06T17:35:50.374808Z"
    },
    "hidden": true
   },
   "outputs": [
    {
     "data": {
      "text/plain": [
       "-10.753345916924761"
      ]
     },
     "execution_count": 305,
     "metadata": {},
     "output_type": "execute_result"
    }
   ],
   "source": [
    "high_selector.grid_scores_[-1]"
   ]
  },
  {
   "cell_type": "code",
   "execution_count": 306,
   "metadata": {
    "ExecuteTime": {
     "end_time": "2019-09-06T17:35:50.454852Z",
     "start_time": "2019-09-06T17:35:50.422476Z"
    },
    "hidden": true
   },
   "outputs": [
    {
     "data": {
      "text/plain": [
       "['C(element_type)[T.2]',\n",
       " 'C(element_type)[T.3]',\n",
       " 'C(element_type)[T.4]',\n",
       " 'C(team)[T.2]',\n",
       " 'C(team)[T.4]',\n",
       " 'C(team)[T.5]',\n",
       " 'C(team)[T.6]',\n",
       " 'C(team)[T.7]',\n",
       " 'C(team)[T.8]',\n",
       " 'C(team)[T.9]',\n",
       " 'C(team)[T.10]',\n",
       " 'C(team)[T.11]',\n",
       " 'C(team)[T.12]',\n",
       " 'C(team)[T.13]',\n",
       " 'C(team)[T.14]',\n",
       " 'C(team)[T.15]',\n",
       " 'C(team)[T.16]',\n",
       " 'C(team)[T.17]',\n",
       " 'C(team)[T.18]',\n",
       " 'C(team)[T.19]',\n",
       " 'C(team)[T.20]',\n",
       " 'C(opposition_team)[T.2]',\n",
       " 'C(opposition_team)[T.3]',\n",
       " 'C(opposition_team)[T.4]',\n",
       " 'C(opposition_team)[T.5]',\n",
       " 'C(opposition_team)[T.6]',\n",
       " 'C(opposition_team)[T.8]',\n",
       " 'C(opposition_team)[T.9]',\n",
       " 'C(opposition_team)[T.10]',\n",
       " 'C(opposition_team)[T.11]',\n",
       " 'C(opposition_team)[T.12]',\n",
       " 'C(opposition_team)[T.13]',\n",
       " 'C(opposition_team)[T.14]',\n",
       " 'C(opposition_team)[T.15]',\n",
       " 'C(opposition_team)[T.16]',\n",
       " 'C(opposition_team)[T.17]',\n",
       " 'C(opposition_team)[T.18]',\n",
       " 'C(opposition_team)[T.19]',\n",
       " 'was_home',\n",
       " 'value',\n",
       " 'rolling_q3_total_points_element',\n",
       " 'rolling_avg_bonus_element',\n",
       " 'rolling_avg_big_chances_created_element',\n",
       " 'rolling_avg_saves_element',\n",
       " 'is_keeper:rolling_avg_saves_element',\n",
       " 'rolling_avg_goals_conceded_element',\n",
       " 'rolling_avg_penalties_saved_element',\n",
       " 'is_keeper:rolling_avg_penalties_saved_element',\n",
       " 'rolling_avg_minutes_element_p3',\n",
       " 'rolling_avg_total_points_element_p3',\n",
       " 'rolling_avg_goals_scored_opposition_team',\n",
       " 'C(element_type)[T.4]:rolling_avg_goals_scored_opposition_team',\n",
       " 'rolling_q3_goals_conceded_opposition_team',\n",
       " 'C(element_type)[T.2]:rolling_q3_goals_conceded_opposition_team',\n",
       " 'C(element_type)[T.3]:rolling_q3_goals_conceded_opposition_team',\n",
       " 'C(element_type)[T.4]:rolling_q3_goals_conceded_opposition_team',\n",
       " 'expected_total_points_against_opposition_team',\n",
       " 'rolling_avg_big_chances_element',\n",
       " 'rolling_avg_big_chances_scored_rate_element',\n",
       " 'rolling_avg_save_rate_element']"
      ]
     },
     "execution_count": 306,
     "metadata": {},
     "output_type": "execute_result"
    }
   ],
   "source": [
    "list(pd.Series(high_X.design_info.column_names)[high_selector.support_])"
   ]
  },
  {
   "cell_type": "code",
   "execution_count": 308,
   "metadata": {
    "ExecuteTime": {
     "end_time": "2019-09-06T17:36:08.992930Z",
     "start_time": "2019-09-06T17:36:08.557999Z"
    },
    "hidden": true
   },
   "outputs": [],
   "source": [
    "high_X_sel = high_X[:,high_selector.support_]\n",
    "high_X_train_sel = high_X_train[:,high_selector.support_]\n",
    "high_X_test_sel = high_X_test[:,high_selector.support_]"
   ]
  },
  {
   "cell_type": "markdown",
   "metadata": {},
   "source": [
    "## Tuning model"
   ]
  },
  {
   "cell_type": "markdown",
   "metadata": {},
   "source": [
    "### GP tuner"
   ]
  },
  {
   "cell_type": "markdown",
   "metadata": {},
   "source": [
    "#### Low points"
   ]
  },
  {
   "cell_type": "code",
   "execution_count": 319,
   "metadata": {
    "ExecuteTime": {
     "end_time": "2019-09-06T17:45:50.741538Z",
     "start_time": "2019-09-06T17:45:50.733595Z"
    }
   },
   "outputs": [],
   "source": [
    "low_space  = [\n",
    "    Real(10**-5, 10**3, 'log-uniform', name='alpha')\n",
    "]"
   ]
  },
  {
   "cell_type": "code",
   "execution_count": 320,
   "metadata": {
    "ExecuteTime": {
     "end_time": "2019-09-06T17:45:51.520653Z",
     "start_time": "2019-09-06T17:45:51.509490Z"
    }
   },
   "outputs": [],
   "source": [
    "low_gp_model = Lasso()\n",
    "\n",
    "@use_named_args(low_space)\n",
    "def low_objective(**params):\n",
    "    low_gp_model.set_params(**params)\n",
    "\n",
    "    return -np.mean(\n",
    "        cross_val_score(\n",
    "            low_gp_model,\n",
    "            low_X,\n",
    "#             low_X_sel,\n",
    "            low_y.ravel(),\n",
    "            cv=low_ps,\n",
    "            n_jobs=1,\n",
    "            scoring=\"neg_mean_squared_error\"))"
   ]
  },
  {
   "cell_type": "code",
   "execution_count": 321,
   "metadata": {
    "ExecuteTime": {
     "end_time": "2019-09-06T17:50:34.582673Z",
     "start_time": "2019-09-06T17:45:53.940592Z"
    },
    "scrolled": true
   },
   "outputs": [
    {
     "name": "stdout",
     "output_type": "stream",
     "text": [
      "minimisation iteration 1\n",
      "Iteration No: 1 started. Evaluating function at random point.\n",
      "Iteration No: 1 ended. Evaluation done at random point.\n",
      "Time taken: 1.4243\n",
      "Function value obtained: 0.8874\n",
      "Current minimum: 0.8874\n",
      "Iteration No: 2 started. Evaluating function at random point.\n",
      "Iteration No: 2 ended. Evaluation done at random point.\n",
      "Time taken: 1.2996\n",
      "Function value obtained: 0.8874\n",
      "Current minimum: 0.8874\n",
      "Iteration No: 3 started. Evaluating function at random point.\n",
      "Iteration No: 3 ended. Evaluation done at random point.\n",
      "Time taken: 1.2469\n",
      "Function value obtained: 0.8874\n",
      "Current minimum: 0.8874\n",
      "Iteration No: 4 started. Evaluating function at random point.\n",
      "Iteration No: 4 ended. Evaluation done at random point.\n",
      "Time taken: 1.2488\n",
      "Function value obtained: 0.8874\n",
      "Current minimum: 0.8874\n",
      "Iteration No: 5 started. Evaluating function at random point.\n",
      "Iteration No: 5 ended. Evaluation done at random point.\n",
      "Time taken: 1.3008\n",
      "Function value obtained: 0.8874\n",
      "Current minimum: 0.8874\n",
      "Iteration No: 6 started. Evaluating function at random point.\n",
      "Iteration No: 6 ended. Evaluation done at random point.\n",
      "Time taken: 1.7078\n",
      "Function value obtained: 0.8874\n",
      "Current minimum: 0.8874\n",
      "Iteration No: 7 started. Evaluating function at random point.\n",
      "Iteration No: 7 ended. Evaluation done at random point.\n",
      "Time taken: 30.7877\n",
      "Function value obtained: 0.7169\n",
      "Current minimum: 0.7169\n",
      "Iteration No: 8 started. Evaluating function at random point.\n",
      "Iteration No: 8 ended. Evaluation done at random point.\n",
      "Time taken: 10.9680\n",
      "Function value obtained: 0.7153\n",
      "Current minimum: 0.7153\n",
      "Iteration No: 9 started. Evaluating function at random point.\n",
      "Iteration No: 9 ended. Evaluation done at random point.\n",
      "Time taken: 1.3271\n",
      "Function value obtained: 0.8874\n",
      "Current minimum: 0.7153\n",
      "Iteration No: 10 started. Evaluating function at random point.\n",
      "Iteration No: 10 ended. Evaluation done at random point.\n",
      "Time taken: 1.6660\n",
      "Function value obtained: 0.8874\n",
      "Current minimum: 0.7153\n",
      "Iteration No: 11 started. Searching for the next optimal point.\n"
     ]
    },
    {
     "name": "stderr",
     "output_type": "stream",
     "text": [
      "/home/tom/footbot/venv/lib/python3.6/site-packages/sklearn/linear_model/coordinate_descent.py:475: ConvergenceWarning: Objective did not converge. You might want to increase the number of iterations. Duality gap: 24757.668623301666, tolerance: 67.92683810194019\n",
      "  positive)\n"
     ]
    },
    {
     "name": "stdout",
     "output_type": "stream",
     "text": [
      "Iteration No: 11 ended. Search finished for the next optimal point.\n",
      "Time taken: 33.6022\n",
      "Function value obtained: 0.7174\n",
      "Current minimum: 0.7153\n",
      "Iteration No: 12 started. Searching for the next optimal point.\n",
      "Iteration No: 12 ended. Search finished for the next optimal point.\n",
      "Time taken: 2.2860\n",
      "Function value obtained: 0.7127\n",
      "Current minimum: 0.7127\n",
      "Iteration No: 13 started. Searching for the next optimal point.\n",
      "Iteration No: 13 ended. Search finished for the next optimal point.\n",
      "Time taken: 4.3840\n",
      "Function value obtained: 0.7142\n",
      "Current minimum: 0.7127\n",
      "Iteration No: 14 started. Searching for the next optimal point.\n",
      "Iteration No: 14 ended. Search finished for the next optimal point.\n",
      "Time taken: 2.1648\n",
      "Function value obtained: 0.7119\n",
      "Current minimum: 0.7119\n",
      "Iteration No: 15 started. Searching for the next optimal point.\n",
      "Iteration No: 15 ended. Search finished for the next optimal point.\n",
      "Time taken: 2.4057\n",
      "Function value obtained: 0.7118\n",
      "Current minimum: 0.7118\n",
      "Iteration No: 16 started. Searching for the next optimal point.\n"
     ]
    },
    {
     "name": "stderr",
     "output_type": "stream",
     "text": [
      "/home/tom/footbot/venv/lib/python3.6/site-packages/sklearn/linear_model/coordinate_descent.py:475: ConvergenceWarning: Objective did not converge. You might want to increase the number of iterations. Duality gap: 2883.771231034654, tolerance: 67.92683810194019\n",
      "  positive)\n"
     ]
    },
    {
     "name": "stdout",
     "output_type": "stream",
     "text": [
      "Iteration No: 16 ended. Search finished for the next optimal point.\n",
      "Time taken: 37.5432\n",
      "Function value obtained: 0.7173\n",
      "Current minimum: 0.7118\n",
      "Iteration No: 17 started. Searching for the next optimal point.\n",
      "Iteration No: 17 ended. Search finished for the next optimal point.\n",
      "Time taken: 2.2808\n",
      "Function value obtained: 0.7115\n",
      "Current minimum: 0.7115\n",
      "Iteration No: 18 started. Searching for the next optimal point.\n",
      "Iteration No: 18 ended. Search finished for the next optimal point.\n",
      "Time taken: 1.8882\n",
      "Function value obtained: 0.7119\n",
      "Current minimum: 0.7115\n",
      "Iteration No: 19 started. Searching for the next optimal point.\n",
      "Iteration No: 19 ended. Search finished for the next optimal point.\n",
      "Time taken: 2.3318\n",
      "Function value obtained: 0.7119\n",
      "Current minimum: 0.7115\n",
      "Iteration No: 20 started. Searching for the next optimal point.\n",
      "Iteration No: 20 ended. Search finished for the next optimal point.\n",
      "Time taken: 14.0144\n",
      "Function value obtained: 0.7162\n",
      "Current minimum: 0.7115\n",
      "Iteration No: 21 started. Searching for the next optimal point.\n",
      "Iteration No: 21 ended. Search finished for the next optimal point.\n",
      "Time taken: 2.3323\n",
      "Function value obtained: 0.7137\n",
      "Current minimum: 0.7115\n",
      "Iteration No: 22 started. Searching for the next optimal point.\n",
      "Iteration No: 22 ended. Search finished for the next optimal point.\n",
      "Time taken: 2.2908\n",
      "Function value obtained: 0.7115\n",
      "Current minimum: 0.7115\n",
      "Iteration No: 23 started. Searching for the next optimal point.\n"
     ]
    },
    {
     "name": "stderr",
     "output_type": "stream",
     "text": [
      "/home/tom/footbot/venv/lib/python3.6/site-packages/skopt/optimizer/optimizer.py:399: UserWarning: The objective has been evaluated at this point before.\n",
      "  warnings.warn(\"The objective has been evaluated \"\n",
      "/home/tom/footbot/venv/lib/python3.6/site-packages/sklearn/linear_model/coordinate_descent.py:475: ConvergenceWarning: Objective did not converge. You might want to increase the number of iterations. Duality gap: 24757.668623301666, tolerance: 67.92683810194019\n",
      "  positive)\n"
     ]
    },
    {
     "name": "stdout",
     "output_type": "stream",
     "text": [
      "Iteration No: 23 ended. Search finished for the next optimal point.\n",
      "Time taken: 35.6025\n",
      "Function value obtained: 0.7174\n",
      "Current minimum: 0.7115\n",
      "Iteration No: 24 started. Searching for the next optimal point.\n",
      "Iteration No: 24 ended. Search finished for the next optimal point.\n",
      "Time taken: 2.2599\n",
      "Function value obtained: 0.7189\n",
      "Current minimum: 0.7115\n",
      "Iteration No: 25 started. Searching for the next optimal point.\n",
      "Iteration No: 25 ended. Search finished for the next optimal point.\n",
      "Time taken: 2.4960\n",
      "Function value obtained: 0.7116\n",
      "Current minimum: 0.7115\n",
      "Iteration No: 26 started. Searching for the next optimal point.\n"
     ]
    },
    {
     "name": "stderr",
     "output_type": "stream",
     "text": [
      "/home/tom/footbot/venv/lib/python3.6/site-packages/sklearn/linear_model/coordinate_descent.py:475: ConvergenceWarning: Objective did not converge. You might want to increase the number of iterations. Duality gap: 495.2924117829534, tolerance: 67.92683810194019\n",
      "  positive)\n"
     ]
    },
    {
     "name": "stdout",
     "output_type": "stream",
     "text": [
      "Iteration No: 26 ended. Search finished for the next optimal point.\n",
      "Time taken: 37.0799\n",
      "Function value obtained: 0.7172\n",
      "Current minimum: 0.7115\n",
      "Iteration No: 27 started. Searching for the next optimal point.\n"
     ]
    },
    {
     "name": "stderr",
     "output_type": "stream",
     "text": [
      "/home/tom/footbot/venv/lib/python3.6/site-packages/sklearn/linear_model/coordinate_descent.py:475: ConvergenceWarning: Objective did not converge. You might want to increase the number of iterations. Duality gap: 7226.5753604424535, tolerance: 67.92683810194019\n",
      "  positive)\n"
     ]
    },
    {
     "name": "stdout",
     "output_type": "stream",
     "text": [
      "Iteration No: 27 ended. Search finished for the next optimal point.\n",
      "Time taken: 35.2056\n",
      "Function value obtained: 0.7173\n",
      "Current minimum: 0.7115\n",
      "Iteration No: 28 started. Searching for the next optimal point.\n",
      "Iteration No: 28 ended. Search finished for the next optimal point.\n",
      "Time taken: 2.2547\n",
      "Function value obtained: 0.7117\n",
      "Current minimum: 0.7115\n",
      "Iteration No: 29 started. Searching for the next optimal point.\n",
      "Iteration No: 29 ended. Search finished for the next optimal point.\n",
      "Time taken: 2.6938\n",
      "Function value obtained: 0.7128\n",
      "Current minimum: 0.7115\n",
      "Iteration No: 30 started. Searching for the next optimal point.\n",
      "Iteration No: 30 ended. Search finished for the next optimal point.\n",
      "Time taken: 2.4676\n",
      "Function value obtained: 0.7121\n",
      "Current minimum: 0.7115\n"
     ]
    }
   ],
   "source": [
    "low_res_gp_arr = []\n",
    "for i in range(1, 2):\n",
    "    print('minimisation iteration', i)\n",
    "    low_res_gp = gp_minimize(low_objective, low_space, n_calls=30, verbose=2)\n",
    "    low_res_gp_arr.append(low_res_gp)"
   ]
  },
  {
   "cell_type": "code",
   "execution_count": 322,
   "metadata": {
    "ExecuteTime": {
     "end_time": "2019-09-06T17:50:34.608448Z",
     "start_time": "2019-09-06T17:50:34.595013Z"
    }
   },
   "outputs": [
    {
     "name": "stdout",
     "output_type": "stream",
     "text": [
      "0.7114733774012016\n",
      "\n",
      "\n",
      "[0.012230097455673147]\n"
     ]
    }
   ],
   "source": [
    "for i in low_res_gp_arr:\n",
    "    print(i.fun)\n",
    "print('\\n')\n",
    "for i in low_res_gp_arr:\n",
    "    print(i.x)"
   ]
  },
  {
   "cell_type": "markdown",
   "metadata": {},
   "source": [
    "#### High points"
   ]
  },
  {
   "cell_type": "code",
   "execution_count": 323,
   "metadata": {
    "ExecuteTime": {
     "end_time": "2019-09-06T17:50:34.655538Z",
     "start_time": "2019-09-06T17:50:34.616123Z"
    }
   },
   "outputs": [],
   "source": [
    "high_space  = [\n",
    "    Real(10**-5, 10**3, 'log-uniform', name='alpha')\n",
    "]"
   ]
  },
  {
   "cell_type": "code",
   "execution_count": 324,
   "metadata": {
    "ExecuteTime": {
     "end_time": "2019-09-06T17:50:34.688478Z",
     "start_time": "2019-09-06T17:50:34.658368Z"
    }
   },
   "outputs": [],
   "source": [
    "high_gp_model = Lasso()\n",
    "\n",
    "@use_named_args(high_space)\n",
    "def high_objective(**params):\n",
    "    high_gp_model.set_params(**params)\n",
    "\n",
    "    return -np.mean(\n",
    "        cross_val_score(\n",
    "            high_gp_model,\n",
    "            high_X,\n",
    "#             high_X_sel,\n",
    "            high_y.ravel(),\n",
    "            cv=high_ps,\n",
    "            n_jobs=1,\n",
    "            scoring=\"neg_mean_squared_error\"))"
   ]
  },
  {
   "cell_type": "code",
   "execution_count": 325,
   "metadata": {
    "ExecuteTime": {
     "end_time": "2019-09-06T17:52:14.106613Z",
     "start_time": "2019-09-06T17:50:34.691300Z"
    },
    "scrolled": true
   },
   "outputs": [
    {
     "name": "stdout",
     "output_type": "stream",
     "text": [
      "minimisation iteration 1\n",
      "Iteration No: 1 started. Evaluating function at random point.\n",
      "Iteration No: 1 ended. Evaluation done at random point.\n",
      "Time taken: 0.3793\n",
      "Function value obtained: 11.5092\n",
      "Current minimum: 11.5092\n",
      "Iteration No: 2 started. Evaluating function at random point.\n",
      "Iteration No: 2 ended. Evaluation done at random point.\n",
      "Time taken: 0.4125\n",
      "Function value obtained: 11.5092\n",
      "Current minimum: 11.5092\n",
      "Iteration No: 3 started. Evaluating function at random point.\n",
      "Iteration No: 3 ended. Evaluation done at random point.\n",
      "Time taken: 0.4071\n",
      "Function value obtained: 11.5092\n",
      "Current minimum: 11.5092\n",
      "Iteration No: 4 started. Evaluating function at random point.\n",
      "Iteration No: 4 ended. Evaluation done at random point.\n",
      "Time taken: 1.2889\n",
      "Function value obtained: 10.6971\n",
      "Current minimum: 10.6971\n",
      "Iteration No: 5 started. Evaluating function at random point.\n",
      "Iteration No: 5 ended. Evaluation done at random point.\n",
      "Time taken: 10.2609\n",
      "Function value obtained: 10.7325\n",
      "Current minimum: 10.6971\n",
      "Iteration No: 6 started. Evaluating function at random point.\n",
      "Iteration No: 6 ended. Evaluation done at random point.\n",
      "Time taken: 0.4528\n",
      "Function value obtained: 11.5092\n",
      "Current minimum: 10.6971\n",
      "Iteration No: 7 started. Evaluating function at random point.\n",
      "Iteration No: 7 ended. Evaluation done at random point.\n",
      "Time taken: 0.3882\n",
      "Function value obtained: 11.5092\n",
      "Current minimum: 10.6971\n",
      "Iteration No: 8 started. Evaluating function at random point.\n",
      "Iteration No: 8 ended. Evaluation done at random point.\n",
      "Time taken: 0.3771\n",
      "Function value obtained: 11.5092\n",
      "Current minimum: 10.6971\n",
      "Iteration No: 9 started. Evaluating function at random point.\n",
      "Iteration No: 9 ended. Evaluation done at random point.\n",
      "Time taken: 0.4143\n",
      "Function value obtained: 10.7439\n",
      "Current minimum: 10.6971\n",
      "Iteration No: 10 started. Evaluating function at random point.\n"
     ]
    },
    {
     "name": "stderr",
     "output_type": "stream",
     "text": [
      "/home/tom/footbot/venv/lib/python3.6/site-packages/sklearn/linear_model/coordinate_descent.py:475: ConvergenceWarning: Objective did not converge. You might want to increase the number of iterations. Duality gap: 223661.22613688814, tolerance: 267.89435636935275\n",
      "  positive)\n"
     ]
    },
    {
     "name": "stdout",
     "output_type": "stream",
     "text": [
      "Iteration No: 10 ended. Evaluation done at random point.\n",
      "Time taken: 16.1572\n",
      "Function value obtained: 10.7532\n",
      "Current minimum: 10.6971\n",
      "Iteration No: 11 started. Searching for the next optimal point.\n",
      "Iteration No: 11 ended. Search finished for the next optimal point.\n",
      "Time taken: 1.0625\n",
      "Function value obtained: 10.6510\n",
      "Current minimum: 10.6510\n",
      "Iteration No: 12 started. Searching for the next optimal point.\n"
     ]
    },
    {
     "name": "stderr",
     "output_type": "stream",
     "text": [
      "/home/tom/footbot/venv/lib/python3.6/site-packages/sklearn/linear_model/coordinate_descent.py:475: ConvergenceWarning: Objective did not converge. You might want to increase the number of iterations. Duality gap: 23976.84338684287, tolerance: 267.89435636935275\n",
      "  positive)\n"
     ]
    },
    {
     "name": "stdout",
     "output_type": "stream",
     "text": [
      "Iteration No: 12 ended. Search finished for the next optimal point.\n",
      "Time taken: 16.0406\n",
      "Function value obtained: 10.7521\n",
      "Current minimum: 10.6510\n",
      "Iteration No: 13 started. Searching for the next optimal point.\n",
      "Iteration No: 13 ended. Search finished for the next optimal point.\n",
      "Time taken: 0.9876\n",
      "Function value obtained: 10.6447\n",
      "Current minimum: 10.6447\n",
      "Iteration No: 14 started. Searching for the next optimal point.\n",
      "Iteration No: 14 ended. Search finished for the next optimal point.\n",
      "Time taken: 1.0572\n",
      "Function value obtained: 10.6447\n",
      "Current minimum: 10.6447\n",
      "Iteration No: 15 started. Searching for the next optimal point.\n",
      "Iteration No: 15 ended. Search finished for the next optimal point.\n",
      "Time taken: 1.3194\n",
      "Function value obtained: 10.6601\n",
      "Current minimum: 10.6447\n",
      "Iteration No: 16 started. Searching for the next optimal point.\n",
      "Iteration No: 16 ended. Search finished for the next optimal point.\n",
      "Time taken: 15.5927\n",
      "Function value obtained: 10.7482\n",
      "Current minimum: 10.6447\n",
      "Iteration No: 17 started. Searching for the next optimal point.\n",
      "Iteration No: 17 ended. Search finished for the next optimal point.\n",
      "Time taken: 0.9038\n",
      "Function value obtained: 10.6442\n",
      "Current minimum: 10.6442\n",
      "Iteration No: 18 started. Searching for the next optimal point.\n",
      "Iteration No: 18 ended. Search finished for the next optimal point.\n",
      "Time taken: 0.9894\n",
      "Function value obtained: 10.6496\n",
      "Current minimum: 10.6442\n",
      "Iteration No: 19 started. Searching for the next optimal point.\n",
      "Iteration No: 19 ended. Search finished for the next optimal point.\n",
      "Time taken: 1.1930\n",
      "Function value obtained: 10.6493\n",
      "Current minimum: 10.6442\n",
      "Iteration No: 20 started. Searching for the next optimal point.\n"
     ]
    },
    {
     "name": "stderr",
     "output_type": "stream",
     "text": [
      "/home/tom/footbot/venv/lib/python3.6/site-packages/sklearn/linear_model/coordinate_descent.py:475: ConvergenceWarning: Objective did not converge. You might want to increase the number of iterations. Duality gap: 83731.911505569, tolerance: 267.89435636935275\n",
      "  positive)\n"
     ]
    },
    {
     "name": "stdout",
     "output_type": "stream",
     "text": [
      "Iteration No: 20 ended. Search finished for the next optimal point.\n",
      "Time taken: 18.2004\n",
      "Function value obtained: 10.7529\n",
      "Current minimum: 10.6442\n",
      "Iteration No: 21 started. Searching for the next optimal point.\n",
      "Iteration No: 21 ended. Search finished for the next optimal point.\n",
      "Time taken: 0.9162\n",
      "Function value obtained: 10.6490\n",
      "Current minimum: 10.6442\n",
      "Iteration No: 22 started. Searching for the next optimal point.\n",
      "Iteration No: 22 ended. Search finished for the next optimal point.\n",
      "Time taken: 1.1038\n",
      "Function value obtained: 10.6444\n",
      "Current minimum: 10.6442\n",
      "Iteration No: 23 started. Searching for the next optimal point.\n",
      "Iteration No: 23 ended. Search finished for the next optimal point.\n",
      "Time taken: 1.3054\n",
      "Function value obtained: 10.6525\n",
      "Current minimum: 10.6442\n",
      "Iteration No: 24 started. Searching for the next optimal point.\n",
      "Iteration No: 24 ended. Search finished for the next optimal point.\n",
      "Time taken: 0.9722\n",
      "Function value obtained: 10.6443\n",
      "Current minimum: 10.6442\n",
      "Iteration No: 25 started. Searching for the next optimal point.\n",
      "Iteration No: 25 ended. Search finished for the next optimal point.\n",
      "Time taken: 1.3097\n",
      "Function value obtained: 10.6676\n",
      "Current minimum: 10.6442\n",
      "Iteration No: 26 started. Searching for the next optimal point.\n",
      "Iteration No: 26 ended. Search finished for the next optimal point.\n",
      "Time taken: 1.1286\n",
      "Function value obtained: 10.6443\n",
      "Current minimum: 10.6442\n",
      "Iteration No: 27 started. Searching for the next optimal point.\n",
      "Iteration No: 27 ended. Search finished for the next optimal point.\n",
      "Time taken: 1.2437\n",
      "Function value obtained: 10.6443\n",
      "Current minimum: 10.6442\n",
      "Iteration No: 28 started. Searching for the next optimal point.\n",
      "Iteration No: 28 ended. Search finished for the next optimal point.\n",
      "Time taken: 1.1208\n",
      "Function value obtained: 10.6443\n",
      "Current minimum: 10.6442\n",
      "Iteration No: 29 started. Searching for the next optimal point.\n",
      "Iteration No: 29 ended. Search finished for the next optimal point.\n",
      "Time taken: 1.0498\n",
      "Function value obtained: 10.6517\n",
      "Current minimum: 10.6442\n",
      "Iteration No: 30 started. Searching for the next optimal point.\n",
      "Iteration No: 30 ended. Search finished for the next optimal point.\n",
      "Time taken: 1.3075\n",
      "Function value obtained: 10.6442\n",
      "Current minimum: 10.6442\n"
     ]
    }
   ],
   "source": [
    "high_res_gp_arr = []\n",
    "for i in range(1, 2):\n",
    "    print('minimisation iteration', i)\n",
    "    high_res_gp = gp_minimize(high_objective, high_space, n_calls=30, verbose=2)\n",
    "    high_res_gp_arr.append(high_res_gp)"
   ]
  },
  {
   "cell_type": "code",
   "execution_count": 326,
   "metadata": {
    "ExecuteTime": {
     "end_time": "2019-09-06T17:52:14.127826Z",
     "start_time": "2019-09-06T17:52:14.114735Z"
    }
   },
   "outputs": [
    {
     "name": "stdout",
     "output_type": "stream",
     "text": [
      "10.644239191872282\n",
      "\n",
      "\n",
      "[0.033459534515563806]\n"
     ]
    }
   ],
   "source": [
    "for i in high_res_gp_arr:\n",
    "    print(i.fun)\n",
    "print('\\n')\n",
    "for i in high_res_gp_arr:\n",
    "    print(i.x)"
   ]
  },
  {
   "cell_type": "code",
   "execution_count": 338,
   "metadata": {
    "ExecuteTime": {
     "end_time": "2019-09-07T08:17:11.868480Z",
     "start_time": "2019-09-07T08:17:11.859556Z"
    }
   },
   "outputs": [
    {
     "data": {
      "text/plain": [
       "3.009202316046897"
      ]
     },
     "execution_count": 338,
     "metadata": {},
     "output_type": "execute_result"
    }
   ],
   "source": [
    "(len(high_y_train) * 10.644 + len(low_y_train) * 0.711)/(len(high_y_train) + len(low_y_train))"
   ]
  },
  {
   "cell_type": "markdown",
   "metadata": {},
   "source": [
    "## Stacking models"
   ]
  },
  {
   "cell_type": "code",
   "execution_count": 327,
   "metadata": {
    "ExecuteTime": {
     "end_time": "2019-09-06T17:52:28.822999Z",
     "start_time": "2019-09-06T17:52:27.252707Z"
    }
   },
   "outputs": [
    {
     "data": {
      "text/plain": [
       "Lasso(alpha=0.0122, copy_X=True, fit_intercept=True, max_iter=1000,\n",
       "      normalize=False, positive=False, precompute=False, random_state=None,\n",
       "      selection='cyclic', tol=0.0001, warm_start=False)"
      ]
     },
     "execution_count": 327,
     "metadata": {},
     "output_type": "execute_result"
    }
   ],
   "source": [
    "low_model = Lasso(alpha=0.0122)\n",
    "low_model.fit(low_X_train, low_y_train.ravel())"
   ]
  },
  {
   "cell_type": "code",
   "execution_count": null,
   "metadata": {},
   "outputs": [],
   "source": [
    "high_model = Lasso(alpha=0.0334)\n",
    "high_model.fit(high_X_train, high_y_train.ravel())"
   ]
  },
  {
   "cell_type": "code",
   "execution_count": 343,
   "metadata": {
    "ExecuteTime": {
     "end_time": "2019-09-07T08:20:47.751566Z",
     "start_time": "2019-09-07T08:20:47.732839Z"
    }
   },
   "outputs": [],
   "source": [
    "element_gameweek_df['low_predicted_total_points'] = low_model.predict(X)\n",
    "\n",
    "element_gameweek_df['high_predicted_total_points'] = high_model.predict(X)"
   ]
  },
  {
   "cell_type": "code",
   "execution_count": 351,
   "metadata": {
    "ExecuteTime": {
     "end_time": "2019-09-07T08:23:45.421975Z",
     "start_time": "2019-09-07T08:23:45.403125Z"
    }
   },
   "outputs": [
    {
     "data": {
      "text/plain": [
       "count    13495.000000\n",
       "mean         0.959950\n",
       "std          0.415211\n",
       "min         -0.067406\n",
       "25%          0.640570\n",
       "50%          0.962536\n",
       "75%          1.311689\n",
       "max          2.070734\n",
       "Name: low_predicted_total_points, dtype: float64"
      ]
     },
     "execution_count": 351,
     "metadata": {},
     "output_type": "execute_result"
    }
   ],
   "source": [
    "element_gameweek_df['low_predicted_total_points'].describe()"
   ]
  },
  {
   "cell_type": "code",
   "execution_count": 352,
   "metadata": {
    "ExecuteTime": {
     "end_time": "2019-09-07T08:23:56.214081Z",
     "start_time": "2019-09-07T08:23:56.192845Z"
    }
   },
   "outputs": [
    {
     "data": {
      "text/plain": [
       "count    13495.000000\n",
       "mean         6.354214\n",
       "std          0.957179\n",
       "min          4.029305\n",
       "25%          5.757203\n",
       "50%          6.174718\n",
       "75%          6.723600\n",
       "max         11.955648\n",
       "Name: high_predicted_total_points, dtype: float64"
      ]
     },
     "execution_count": 352,
     "metadata": {},
     "output_type": "execute_result"
    }
   ],
   "source": [
    "element_gameweek_df['high_predicted_total_points'].describe()"
   ]
  },
  {
   "cell_type": "code",
   "execution_count": 353,
   "metadata": {
    "ExecuteTime": {
     "end_time": "2019-09-07T08:24:22.368613Z",
     "start_time": "2019-09-07T08:24:22.299221Z"
    }
   },
   "outputs": [
    {
     "data": {
      "text/html": [
       "<div>\n",
       "<style scoped>\n",
       "    .dataframe tbody tr th:only-of-type {\n",
       "        vertical-align: middle;\n",
       "    }\n",
       "\n",
       "    .dataframe tbody tr th {\n",
       "        vertical-align: top;\n",
       "    }\n",
       "\n",
       "    .dataframe thead th {\n",
       "        text-align: right;\n",
       "    }\n",
       "</style>\n",
       "<table border=\"1\" class=\"dataframe\">\n",
       "  <thead>\n",
       "    <tr style=\"text-align: right;\">\n",
       "      <th></th>\n",
       "      <th>is_low_points</th>\n",
       "      <th>is_high_points</th>\n",
       "      <th>low_predicted_total_points</th>\n",
       "      <th>high_predicted_total_points</th>\n",
       "      <th>total_points</th>\n",
       "    </tr>\n",
       "  </thead>\n",
       "  <tbody>\n",
       "    <tr>\n",
       "      <th>20823</th>\n",
       "      <td>0.00</td>\n",
       "      <td>1.00</td>\n",
       "      <td>0.48</td>\n",
       "      <td>5.70</td>\n",
       "      <td>6</td>\n",
       "    </tr>\n",
       "    <tr>\n",
       "      <th>20850</th>\n",
       "      <td>0.98</td>\n",
       "      <td>0.02</td>\n",
       "      <td>0.77</td>\n",
       "      <td>5.85</td>\n",
       "      <td>0</td>\n",
       "    </tr>\n",
       "    <tr>\n",
       "      <th>20996</th>\n",
       "      <td>0.98</td>\n",
       "      <td>0.02</td>\n",
       "      <td>0.76</td>\n",
       "      <td>5.89</td>\n",
       "      <td>0</td>\n",
       "    </tr>\n",
       "    <tr>\n",
       "      <th>21000</th>\n",
       "      <td>0.98</td>\n",
       "      <td>0.02</td>\n",
       "      <td>0.45</td>\n",
       "      <td>5.48</td>\n",
       "      <td>0</td>\n",
       "    </tr>\n",
       "    <tr>\n",
       "      <th>21001</th>\n",
       "      <td>0.98</td>\n",
       "      <td>0.02</td>\n",
       "      <td>0.45</td>\n",
       "      <td>5.24</td>\n",
       "      <td>0</td>\n",
       "    </tr>\n",
       "    <tr>\n",
       "      <th>21002</th>\n",
       "      <td>0.98</td>\n",
       "      <td>0.02</td>\n",
       "      <td>0.45</td>\n",
       "      <td>5.36</td>\n",
       "      <td>0</td>\n",
       "    </tr>\n",
       "    <tr>\n",
       "      <th>21255</th>\n",
       "      <td>0.98</td>\n",
       "      <td>0.02</td>\n",
       "      <td>0.76</td>\n",
       "      <td>6.18</td>\n",
       "      <td>1</td>\n",
       "    </tr>\n",
       "    <tr>\n",
       "      <th>21256</th>\n",
       "      <td>0.98</td>\n",
       "      <td>0.02</td>\n",
       "      <td>0.60</td>\n",
       "      <td>5.63</td>\n",
       "      <td>0</td>\n",
       "    </tr>\n",
       "    <tr>\n",
       "      <th>21257</th>\n",
       "      <td>0.98</td>\n",
       "      <td>0.02</td>\n",
       "      <td>0.49</td>\n",
       "      <td>5.06</td>\n",
       "      <td>0</td>\n",
       "    </tr>\n",
       "    <tr>\n",
       "      <th>21258</th>\n",
       "      <td>0.98</td>\n",
       "      <td>0.02</td>\n",
       "      <td>0.46</td>\n",
       "      <td>5.53</td>\n",
       "      <td>0</td>\n",
       "    </tr>\n",
       "    <tr>\n",
       "      <th>21263</th>\n",
       "      <td>0.98</td>\n",
       "      <td>0.02</td>\n",
       "      <td>0.44</td>\n",
       "      <td>5.48</td>\n",
       "      <td>0</td>\n",
       "    </tr>\n",
       "    <tr>\n",
       "      <th>21264</th>\n",
       "      <td>0.98</td>\n",
       "      <td>0.02</td>\n",
       "      <td>0.44</td>\n",
       "      <td>5.35</td>\n",
       "      <td>0</td>\n",
       "    </tr>\n",
       "    <tr>\n",
       "      <th>21265</th>\n",
       "      <td>0.98</td>\n",
       "      <td>0.02</td>\n",
       "      <td>0.44</td>\n",
       "      <td>4.61</td>\n",
       "      <td>0</td>\n",
       "    </tr>\n",
       "    <tr>\n",
       "      <th>21266</th>\n",
       "      <td>0.98</td>\n",
       "      <td>0.02</td>\n",
       "      <td>0.43</td>\n",
       "      <td>5.31</td>\n",
       "      <td>0</td>\n",
       "    </tr>\n",
       "    <tr>\n",
       "      <th>21267</th>\n",
       "      <td>0.98</td>\n",
       "      <td>0.02</td>\n",
       "      <td>0.43</td>\n",
       "      <td>5.44</td>\n",
       "      <td>0</td>\n",
       "    </tr>\n",
       "    <tr>\n",
       "      <th>21270</th>\n",
       "      <td>0.98</td>\n",
       "      <td>0.02</td>\n",
       "      <td>0.44</td>\n",
       "      <td>5.51</td>\n",
       "      <td>0</td>\n",
       "    </tr>\n",
       "    <tr>\n",
       "      <th>21271</th>\n",
       "      <td>0.98</td>\n",
       "      <td>0.02</td>\n",
       "      <td>0.45</td>\n",
       "      <td>5.06</td>\n",
       "      <td>0</td>\n",
       "    </tr>\n",
       "    <tr>\n",
       "      <th>21272</th>\n",
       "      <td>0.98</td>\n",
       "      <td>0.02</td>\n",
       "      <td>0.76</td>\n",
       "      <td>5.57</td>\n",
       "      <td>1</td>\n",
       "    </tr>\n",
       "    <tr>\n",
       "      <th>21273</th>\n",
       "      <td>0.98</td>\n",
       "      <td>0.02</td>\n",
       "      <td>0.45</td>\n",
       "      <td>5.57</td>\n",
       "      <td>0</td>\n",
       "    </tr>\n",
       "    <tr>\n",
       "      <th>21274</th>\n",
       "      <td>0.98</td>\n",
       "      <td>0.02</td>\n",
       "      <td>0.41</td>\n",
       "      <td>5.62</td>\n",
       "      <td>0</td>\n",
       "    </tr>\n",
       "    <tr>\n",
       "      <th>21275</th>\n",
       "      <td>0.98</td>\n",
       "      <td>0.02</td>\n",
       "      <td>0.40</td>\n",
       "      <td>5.54</td>\n",
       "      <td>0</td>\n",
       "    </tr>\n",
       "    <tr>\n",
       "      <th>21277</th>\n",
       "      <td>0.98</td>\n",
       "      <td>0.02</td>\n",
       "      <td>0.42</td>\n",
       "      <td>5.04</td>\n",
       "      <td>0</td>\n",
       "    </tr>\n",
       "    <tr>\n",
       "      <th>21278</th>\n",
       "      <td>0.98</td>\n",
       "      <td>0.02</td>\n",
       "      <td>0.42</td>\n",
       "      <td>5.77</td>\n",
       "      <td>0</td>\n",
       "    </tr>\n",
       "    <tr>\n",
       "      <th>21279</th>\n",
       "      <td>0.98</td>\n",
       "      <td>0.02</td>\n",
       "      <td>0.42</td>\n",
       "      <td>4.96</td>\n",
       "      <td>1</td>\n",
       "    </tr>\n",
       "    <tr>\n",
       "      <th>21280</th>\n",
       "      <td>0.98</td>\n",
       "      <td>0.02</td>\n",
       "      <td>0.40</td>\n",
       "      <td>5.16</td>\n",
       "      <td>0</td>\n",
       "    </tr>\n",
       "    <tr>\n",
       "      <th>21281</th>\n",
       "      <td>0.98</td>\n",
       "      <td>0.02</td>\n",
       "      <td>0.40</td>\n",
       "      <td>5.29</td>\n",
       "      <td>1</td>\n",
       "    </tr>\n",
       "    <tr>\n",
       "      <th>21282</th>\n",
       "      <td>0.98</td>\n",
       "      <td>0.02</td>\n",
       "      <td>0.49</td>\n",
       "      <td>4.97</td>\n",
       "      <td>0</td>\n",
       "    </tr>\n",
       "    <tr>\n",
       "      <th>21283</th>\n",
       "      <td>0.98</td>\n",
       "      <td>0.02</td>\n",
       "      <td>0.47</td>\n",
       "      <td>5.43</td>\n",
       "      <td>0</td>\n",
       "    </tr>\n",
       "    <tr>\n",
       "      <th>21284</th>\n",
       "      <td>0.98</td>\n",
       "      <td>0.02</td>\n",
       "      <td>0.47</td>\n",
       "      <td>5.24</td>\n",
       "      <td>0</td>\n",
       "    </tr>\n",
       "    <tr>\n",
       "      <th>21285</th>\n",
       "      <td>0.98</td>\n",
       "      <td>0.02</td>\n",
       "      <td>0.47</td>\n",
       "      <td>5.35</td>\n",
       "      <td>0</td>\n",
       "    </tr>\n",
       "    <tr>\n",
       "      <th>21337</th>\n",
       "      <td>0.98</td>\n",
       "      <td>0.02</td>\n",
       "      <td>0.76</td>\n",
       "      <td>5.89</td>\n",
       "      <td>0</td>\n",
       "    </tr>\n",
       "    <tr>\n",
       "      <th>21353</th>\n",
       "      <td>0.94</td>\n",
       "      <td>0.06</td>\n",
       "      <td>0.82</td>\n",
       "      <td>8.25</td>\n",
       "      <td>2</td>\n",
       "    </tr>\n",
       "    <tr>\n",
       "      <th>21354</th>\n",
       "      <td>0.00</td>\n",
       "      <td>1.00</td>\n",
       "      <td>1.22</td>\n",
       "      <td>8.81</td>\n",
       "      <td>13</td>\n",
       "    </tr>\n",
       "    <tr>\n",
       "      <th>21355</th>\n",
       "      <td>0.94</td>\n",
       "      <td>0.06</td>\n",
       "      <td>1.55</td>\n",
       "      <td>8.13</td>\n",
       "      <td>2</td>\n",
       "    </tr>\n",
       "    <tr>\n",
       "      <th>21356</th>\n",
       "      <td>0.94</td>\n",
       "      <td>0.06</td>\n",
       "      <td>1.54</td>\n",
       "      <td>8.77</td>\n",
       "      <td>2</td>\n",
       "    </tr>\n",
       "    <tr>\n",
       "      <th>21357</th>\n",
       "      <td>0.00</td>\n",
       "      <td>1.00</td>\n",
       "      <td>1.62</td>\n",
       "      <td>9.06</td>\n",
       "      <td>8</td>\n",
       "    </tr>\n",
       "    <tr>\n",
       "      <th>21358</th>\n",
       "      <td>0.94</td>\n",
       "      <td>0.06</td>\n",
       "      <td>1.54</td>\n",
       "      <td>8.83</td>\n",
       "      <td>2</td>\n",
       "    </tr>\n",
       "    <tr>\n",
       "      <th>21359</th>\n",
       "      <td>0.94</td>\n",
       "      <td>0.06</td>\n",
       "      <td>1.56</td>\n",
       "      <td>8.73</td>\n",
       "      <td>2</td>\n",
       "    </tr>\n",
       "    <tr>\n",
       "      <th>21360</th>\n",
       "      <td>0.98</td>\n",
       "      <td>0.02</td>\n",
       "      <td>1.48</td>\n",
       "      <td>9.02</td>\n",
       "      <td>0</td>\n",
       "    </tr>\n",
       "    <tr>\n",
       "      <th>21361</th>\n",
       "      <td>0.94</td>\n",
       "      <td>0.06</td>\n",
       "      <td>1.49</td>\n",
       "      <td>9.06</td>\n",
       "      <td>2</td>\n",
       "    </tr>\n",
       "    <tr>\n",
       "      <th>21362</th>\n",
       "      <td>0.94</td>\n",
       "      <td>0.06</td>\n",
       "      <td>1.15</td>\n",
       "      <td>8.67</td>\n",
       "      <td>2</td>\n",
       "    </tr>\n",
       "    <tr>\n",
       "      <th>21363</th>\n",
       "      <td>0.98</td>\n",
       "      <td>0.02</td>\n",
       "      <td>1.08</td>\n",
       "      <td>7.84</td>\n",
       "      <td>1</td>\n",
       "    </tr>\n",
       "    <tr>\n",
       "      <th>21364</th>\n",
       "      <td>0.00</td>\n",
       "      <td>1.00</td>\n",
       "      <td>1.02</td>\n",
       "      <td>8.63</td>\n",
       "      <td>7</td>\n",
       "    </tr>\n",
       "    <tr>\n",
       "      <th>21365</th>\n",
       "      <td>0.94</td>\n",
       "      <td>0.06</td>\n",
       "      <td>1.23</td>\n",
       "      <td>8.13</td>\n",
       "      <td>2</td>\n",
       "    </tr>\n",
       "    <tr>\n",
       "      <th>21366</th>\n",
       "      <td>0.00</td>\n",
       "      <td>1.00</td>\n",
       "      <td>1.30</td>\n",
       "      <td>8.55</td>\n",
       "      <td>6</td>\n",
       "    </tr>\n",
       "    <tr>\n",
       "      <th>21367</th>\n",
       "      <td>0.94</td>\n",
       "      <td>0.06</td>\n",
       "      <td>1.49</td>\n",
       "      <td>8.43</td>\n",
       "      <td>2</td>\n",
       "    </tr>\n",
       "    <tr>\n",
       "      <th>21442</th>\n",
       "      <td>0.98</td>\n",
       "      <td>0.02</td>\n",
       "      <td>0.77</td>\n",
       "      <td>5.62</td>\n",
       "      <td>1</td>\n",
       "    </tr>\n",
       "    <tr>\n",
       "      <th>21443</th>\n",
       "      <td>0.98</td>\n",
       "      <td>0.02</td>\n",
       "      <td>0.67</td>\n",
       "      <td>5.72</td>\n",
       "      <td>1</td>\n",
       "    </tr>\n",
       "    <tr>\n",
       "      <th>21444</th>\n",
       "      <td>0.98</td>\n",
       "      <td>0.02</td>\n",
       "      <td>0.59</td>\n",
       "      <td>5.71</td>\n",
       "      <td>0</td>\n",
       "    </tr>\n",
       "    <tr>\n",
       "      <th>21445</th>\n",
       "      <td>0.00</td>\n",
       "      <td>1.00</td>\n",
       "      <td>0.52</td>\n",
       "      <td>5.72</td>\n",
       "      <td>5</td>\n",
       "    </tr>\n",
       "    <tr>\n",
       "      <th>21446</th>\n",
       "      <td>0.94</td>\n",
       "      <td>0.06</td>\n",
       "      <td>0.82</td>\n",
       "      <td>5.86</td>\n",
       "      <td>2</td>\n",
       "    </tr>\n",
       "    <tr>\n",
       "      <th>21447</th>\n",
       "      <td>0.98</td>\n",
       "      <td>0.02</td>\n",
       "      <td>1.11</td>\n",
       "      <td>6.25</td>\n",
       "      <td>1</td>\n",
       "    </tr>\n",
       "    <tr>\n",
       "      <th>21448</th>\n",
       "      <td>0.00</td>\n",
       "      <td>1.00</td>\n",
       "      <td>1.20</td>\n",
       "      <td>5.93</td>\n",
       "      <td>13</td>\n",
       "    </tr>\n",
       "    <tr>\n",
       "      <th>21449</th>\n",
       "      <td>0.94</td>\n",
       "      <td>0.06</td>\n",
       "      <td>1.24</td>\n",
       "      <td>5.98</td>\n",
       "      <td>2</td>\n",
       "    </tr>\n",
       "    <tr>\n",
       "      <th>21450</th>\n",
       "      <td>0.00</td>\n",
       "      <td>1.00</td>\n",
       "      <td>1.24</td>\n",
       "      <td>6.32</td>\n",
       "      <td>5</td>\n",
       "    </tr>\n",
       "    <tr>\n",
       "      <th>21451</th>\n",
       "      <td>0.94</td>\n",
       "      <td>0.06</td>\n",
       "      <td>1.49</td>\n",
       "      <td>5.98</td>\n",
       "      <td>2</td>\n",
       "    </tr>\n",
       "    <tr>\n",
       "      <th>21452</th>\n",
       "      <td>0.00</td>\n",
       "      <td>1.00</td>\n",
       "      <td>1.45</td>\n",
       "      <td>6.33</td>\n",
       "      <td>7</td>\n",
       "    </tr>\n",
       "    <tr>\n",
       "      <th>21453</th>\n",
       "      <td>0.94</td>\n",
       "      <td>0.06</td>\n",
       "      <td>1.26</td>\n",
       "      <td>5.54</td>\n",
       "      <td>2</td>\n",
       "    </tr>\n",
       "    <tr>\n",
       "      <th>21454</th>\n",
       "      <td>0.94</td>\n",
       "      <td>0.06</td>\n",
       "      <td>1.25</td>\n",
       "      <td>6.08</td>\n",
       "      <td>2</td>\n",
       "    </tr>\n",
       "    <tr>\n",
       "      <th>21455</th>\n",
       "      <td>0.94</td>\n",
       "      <td>0.06</td>\n",
       "      <td>1.26</td>\n",
       "      <td>6.16</td>\n",
       "      <td>2</td>\n",
       "    </tr>\n",
       "    <tr>\n",
       "      <th>21512</th>\n",
       "      <td>0.09</td>\n",
       "      <td>0.91</td>\n",
       "      <td>0.76</td>\n",
       "      <td>6.00</td>\n",
       "      <td>4</td>\n",
       "    </tr>\n",
       "    <tr>\n",
       "      <th>21513</th>\n",
       "      <td>0.98</td>\n",
       "      <td>0.02</td>\n",
       "      <td>0.73</td>\n",
       "      <td>5.59</td>\n",
       "      <td>0</td>\n",
       "    </tr>\n",
       "    <tr>\n",
       "      <th>21514</th>\n",
       "      <td>0.98</td>\n",
       "      <td>0.02</td>\n",
       "      <td>0.55</td>\n",
       "      <td>5.35</td>\n",
       "      <td>0</td>\n",
       "    </tr>\n",
       "    <tr>\n",
       "      <th>21515</th>\n",
       "      <td>0.98</td>\n",
       "      <td>0.02</td>\n",
       "      <td>0.49</td>\n",
       "      <td>5.52</td>\n",
       "      <td>0</td>\n",
       "    </tr>\n",
       "    <tr>\n",
       "      <th>21516</th>\n",
       "      <td>0.98</td>\n",
       "      <td>0.02</td>\n",
       "      <td>0.46</td>\n",
       "      <td>5.62</td>\n",
       "      <td>1</td>\n",
       "    </tr>\n",
       "    <tr>\n",
       "      <th>21517</th>\n",
       "      <td>0.98</td>\n",
       "      <td>0.02</td>\n",
       "      <td>0.50</td>\n",
       "      <td>4.79</td>\n",
       "      <td>1</td>\n",
       "    </tr>\n",
       "    <tr>\n",
       "      <th>21518</th>\n",
       "      <td>0.98</td>\n",
       "      <td>0.02</td>\n",
       "      <td>0.55</td>\n",
       "      <td>5.64</td>\n",
       "      <td>1</td>\n",
       "    </tr>\n",
       "    <tr>\n",
       "      <th>21519</th>\n",
       "      <td>0.98</td>\n",
       "      <td>0.02</td>\n",
       "      <td>0.56</td>\n",
       "      <td>5.52</td>\n",
       "      <td>0</td>\n",
       "    </tr>\n",
       "    <tr>\n",
       "      <th>21520</th>\n",
       "      <td>0.98</td>\n",
       "      <td>0.02</td>\n",
       "      <td>0.53</td>\n",
       "      <td>5.46</td>\n",
       "      <td>0</td>\n",
       "    </tr>\n",
       "    <tr>\n",
       "      <th>21521</th>\n",
       "      <td>0.98</td>\n",
       "      <td>0.02</td>\n",
       "      <td>0.48</td>\n",
       "      <td>5.86</td>\n",
       "      <td>0</td>\n",
       "    </tr>\n",
       "    <tr>\n",
       "      <th>21540</th>\n",
       "      <td>0.09</td>\n",
       "      <td>0.91</td>\n",
       "      <td>0.78</td>\n",
       "      <td>7.11</td>\n",
       "      <td>4</td>\n",
       "    </tr>\n",
       "    <tr>\n",
       "      <th>21541</th>\n",
       "      <td>0.98</td>\n",
       "      <td>0.02</td>\n",
       "      <td>0.68</td>\n",
       "      <td>6.83</td>\n",
       "      <td>1</td>\n",
       "    </tr>\n",
       "    <tr>\n",
       "      <th>21542</th>\n",
       "      <td>0.00</td>\n",
       "      <td>1.00</td>\n",
       "      <td>0.72</td>\n",
       "      <td>6.90</td>\n",
       "      <td>7</td>\n",
       "    </tr>\n",
       "    <tr>\n",
       "      <th>21543</th>\n",
       "      <td>0.94</td>\n",
       "      <td>0.06</td>\n",
       "      <td>1.00</td>\n",
       "      <td>6.84</td>\n",
       "      <td>2</td>\n",
       "    </tr>\n",
       "    <tr>\n",
       "      <th>21544</th>\n",
       "      <td>0.00</td>\n",
       "      <td>1.00</td>\n",
       "      <td>1.21</td>\n",
       "      <td>7.10</td>\n",
       "      <td>7</td>\n",
       "    </tr>\n",
       "    <tr>\n",
       "      <th>21545</th>\n",
       "      <td>0.94</td>\n",
       "      <td>0.06</td>\n",
       "      <td>1.46</td>\n",
       "      <td>7.37</td>\n",
       "      <td>2</td>\n",
       "    </tr>\n",
       "    <tr>\n",
       "      <th>21546</th>\n",
       "      <td>0.94</td>\n",
       "      <td>0.06</td>\n",
       "      <td>1.41</td>\n",
       "      <td>6.67</td>\n",
       "      <td>2</td>\n",
       "    </tr>\n",
       "    <tr>\n",
       "      <th>21547</th>\n",
       "      <td>0.94</td>\n",
       "      <td>0.06</td>\n",
       "      <td>1.45</td>\n",
       "      <td>7.61</td>\n",
       "      <td>2</td>\n",
       "    </tr>\n",
       "    <tr>\n",
       "      <th>21548</th>\n",
       "      <td>0.94</td>\n",
       "      <td>0.06</td>\n",
       "      <td>1.38</td>\n",
       "      <td>7.04</td>\n",
       "      <td>2</td>\n",
       "    </tr>\n",
       "    <tr>\n",
       "      <th>21549</th>\n",
       "      <td>0.98</td>\n",
       "      <td>0.02</td>\n",
       "      <td>1.28</td>\n",
       "      <td>6.47</td>\n",
       "      <td>0</td>\n",
       "    </tr>\n",
       "    <tr>\n",
       "      <th>21550</th>\n",
       "      <td>0.98</td>\n",
       "      <td>0.02</td>\n",
       "      <td>1.04</td>\n",
       "      <td>6.45</td>\n",
       "      <td>0</td>\n",
       "    </tr>\n",
       "    <tr>\n",
       "      <th>21551</th>\n",
       "      <td>0.98</td>\n",
       "      <td>0.02</td>\n",
       "      <td>0.70</td>\n",
       "      <td>6.69</td>\n",
       "      <td>0</td>\n",
       "    </tr>\n",
       "    <tr>\n",
       "      <th>21553</th>\n",
       "      <td>0.00</td>\n",
       "      <td>1.00</td>\n",
       "      <td>0.77</td>\n",
       "      <td>6.81</td>\n",
       "      <td>13</td>\n",
       "    </tr>\n",
       "    <tr>\n",
       "      <th>21637</th>\n",
       "      <td>0.98</td>\n",
       "      <td>0.02</td>\n",
       "      <td>0.76</td>\n",
       "      <td>5.04</td>\n",
       "      <td>0</td>\n",
       "    </tr>\n",
       "    <tr>\n",
       "      <th>21640</th>\n",
       "      <td>0.98</td>\n",
       "      <td>0.02</td>\n",
       "      <td>0.43</td>\n",
       "      <td>4.84</td>\n",
       "      <td>0</td>\n",
       "    </tr>\n",
       "    <tr>\n",
       "      <th>21641</th>\n",
       "      <td>0.98</td>\n",
       "      <td>0.02</td>\n",
       "      <td>0.43</td>\n",
       "      <td>5.66</td>\n",
       "      <td>0</td>\n",
       "    </tr>\n",
       "    <tr>\n",
       "      <th>21642</th>\n",
       "      <td>0.98</td>\n",
       "      <td>0.02</td>\n",
       "      <td>0.43</td>\n",
       "      <td>5.55</td>\n",
       "      <td>0</td>\n",
       "    </tr>\n",
       "    <tr>\n",
       "      <th>21737</th>\n",
       "      <td>0.98</td>\n",
       "      <td>0.02</td>\n",
       "      <td>0.76</td>\n",
       "      <td>5.32</td>\n",
       "      <td>1</td>\n",
       "    </tr>\n",
       "    <tr>\n",
       "      <th>21738</th>\n",
       "      <td>0.98</td>\n",
       "      <td>0.02</td>\n",
       "      <td>0.55</td>\n",
       "      <td>5.63</td>\n",
       "      <td>0</td>\n",
       "    </tr>\n",
       "    <tr>\n",
       "      <th>21739</th>\n",
       "      <td>0.98</td>\n",
       "      <td>0.02</td>\n",
       "      <td>0.54</td>\n",
       "      <td>5.32</td>\n",
       "      <td>0</td>\n",
       "    </tr>\n",
       "    <tr>\n",
       "      <th>21740</th>\n",
       "      <td>0.98</td>\n",
       "      <td>0.02</td>\n",
       "      <td>0.43</td>\n",
       "      <td>5.51</td>\n",
       "      <td>1</td>\n",
       "    </tr>\n",
       "    <tr>\n",
       "      <th>21741</th>\n",
       "      <td>0.98</td>\n",
       "      <td>0.02</td>\n",
       "      <td>0.47</td>\n",
       "      <td>4.87</td>\n",
       "      <td>0</td>\n",
       "    </tr>\n",
       "    <tr>\n",
       "      <th>21742</th>\n",
       "      <td>0.98</td>\n",
       "      <td>0.02</td>\n",
       "      <td>0.47</td>\n",
       "      <td>5.26</td>\n",
       "      <td>0</td>\n",
       "    </tr>\n",
       "    <tr>\n",
       "      <th>21743</th>\n",
       "      <td>0.98</td>\n",
       "      <td>0.02</td>\n",
       "      <td>0.42</td>\n",
       "      <td>5.32</td>\n",
       "      <td>0</td>\n",
       "    </tr>\n",
       "    <tr>\n",
       "      <th>21744</th>\n",
       "      <td>0.98</td>\n",
       "      <td>0.02</td>\n",
       "      <td>0.43</td>\n",
       "      <td>5.72</td>\n",
       "      <td>0</td>\n",
       "    </tr>\n",
       "    <tr>\n",
       "      <th>21772</th>\n",
       "      <td>0.98</td>\n",
       "      <td>0.02</td>\n",
       "      <td>0.76</td>\n",
       "      <td>5.96</td>\n",
       "      <td>1</td>\n",
       "    </tr>\n",
       "    <tr>\n",
       "      <th>21773</th>\n",
       "      <td>0.98</td>\n",
       "      <td>0.02</td>\n",
       "      <td>0.76</td>\n",
       "      <td>4.94</td>\n",
       "      <td>0</td>\n",
       "    </tr>\n",
       "    <tr>\n",
       "      <th>21774</th>\n",
       "      <td>0.98</td>\n",
       "      <td>0.02</td>\n",
       "      <td>0.46</td>\n",
       "      <td>5.53</td>\n",
       "      <td>1</td>\n",
       "    </tr>\n",
       "    <tr>\n",
       "      <th>21775</th>\n",
       "      <td>0.98</td>\n",
       "      <td>0.02</td>\n",
       "      <td>0.49</td>\n",
       "      <td>5.60</td>\n",
       "      <td>0</td>\n",
       "    </tr>\n",
       "    <tr>\n",
       "      <th>21776</th>\n",
       "      <td>0.98</td>\n",
       "      <td>0.02</td>\n",
       "      <td>0.47</td>\n",
       "      <td>5.66</td>\n",
       "      <td>1</td>\n",
       "    </tr>\n",
       "  </tbody>\n",
       "</table>\n",
       "</div>"
      ],
      "text/plain": [
       "       is_low_points  is_high_points  low_predicted_total_points  \\\n",
       "20823           0.00            1.00                        0.48   \n",
       "20850           0.98            0.02                        0.77   \n",
       "20996           0.98            0.02                        0.76   \n",
       "21000           0.98            0.02                        0.45   \n",
       "21001           0.98            0.02                        0.45   \n",
       "21002           0.98            0.02                        0.45   \n",
       "21255           0.98            0.02                        0.76   \n",
       "21256           0.98            0.02                        0.60   \n",
       "21257           0.98            0.02                        0.49   \n",
       "21258           0.98            0.02                        0.46   \n",
       "21263           0.98            0.02                        0.44   \n",
       "21264           0.98            0.02                        0.44   \n",
       "21265           0.98            0.02                        0.44   \n",
       "21266           0.98            0.02                        0.43   \n",
       "21267           0.98            0.02                        0.43   \n",
       "21270           0.98            0.02                        0.44   \n",
       "21271           0.98            0.02                        0.45   \n",
       "21272           0.98            0.02                        0.76   \n",
       "21273           0.98            0.02                        0.45   \n",
       "21274           0.98            0.02                        0.41   \n",
       "21275           0.98            0.02                        0.40   \n",
       "21277           0.98            0.02                        0.42   \n",
       "21278           0.98            0.02                        0.42   \n",
       "21279           0.98            0.02                        0.42   \n",
       "21280           0.98            0.02                        0.40   \n",
       "21281           0.98            0.02                        0.40   \n",
       "21282           0.98            0.02                        0.49   \n",
       "21283           0.98            0.02                        0.47   \n",
       "21284           0.98            0.02                        0.47   \n",
       "21285           0.98            0.02                        0.47   \n",
       "21337           0.98            0.02                        0.76   \n",
       "21353           0.94            0.06                        0.82   \n",
       "21354           0.00            1.00                        1.22   \n",
       "21355           0.94            0.06                        1.55   \n",
       "21356           0.94            0.06                        1.54   \n",
       "21357           0.00            1.00                        1.62   \n",
       "21358           0.94            0.06                        1.54   \n",
       "21359           0.94            0.06                        1.56   \n",
       "21360           0.98            0.02                        1.48   \n",
       "21361           0.94            0.06                        1.49   \n",
       "21362           0.94            0.06                        1.15   \n",
       "21363           0.98            0.02                        1.08   \n",
       "21364           0.00            1.00                        1.02   \n",
       "21365           0.94            0.06                        1.23   \n",
       "21366           0.00            1.00                        1.30   \n",
       "21367           0.94            0.06                        1.49   \n",
       "21442           0.98            0.02                        0.77   \n",
       "21443           0.98            0.02                        0.67   \n",
       "21444           0.98            0.02                        0.59   \n",
       "21445           0.00            1.00                        0.52   \n",
       "21446           0.94            0.06                        0.82   \n",
       "21447           0.98            0.02                        1.11   \n",
       "21448           0.00            1.00                        1.20   \n",
       "21449           0.94            0.06                        1.24   \n",
       "21450           0.00            1.00                        1.24   \n",
       "21451           0.94            0.06                        1.49   \n",
       "21452           0.00            1.00                        1.45   \n",
       "21453           0.94            0.06                        1.26   \n",
       "21454           0.94            0.06                        1.25   \n",
       "21455           0.94            0.06                        1.26   \n",
       "21512           0.09            0.91                        0.76   \n",
       "21513           0.98            0.02                        0.73   \n",
       "21514           0.98            0.02                        0.55   \n",
       "21515           0.98            0.02                        0.49   \n",
       "21516           0.98            0.02                        0.46   \n",
       "21517           0.98            0.02                        0.50   \n",
       "21518           0.98            0.02                        0.55   \n",
       "21519           0.98            0.02                        0.56   \n",
       "21520           0.98            0.02                        0.53   \n",
       "21521           0.98            0.02                        0.48   \n",
       "21540           0.09            0.91                        0.78   \n",
       "21541           0.98            0.02                        0.68   \n",
       "21542           0.00            1.00                        0.72   \n",
       "21543           0.94            0.06                        1.00   \n",
       "21544           0.00            1.00                        1.21   \n",
       "21545           0.94            0.06                        1.46   \n",
       "21546           0.94            0.06                        1.41   \n",
       "21547           0.94            0.06                        1.45   \n",
       "21548           0.94            0.06                        1.38   \n",
       "21549           0.98            0.02                        1.28   \n",
       "21550           0.98            0.02                        1.04   \n",
       "21551           0.98            0.02                        0.70   \n",
       "21553           0.00            1.00                        0.77   \n",
       "21637           0.98            0.02                        0.76   \n",
       "21640           0.98            0.02                        0.43   \n",
       "21641           0.98            0.02                        0.43   \n",
       "21642           0.98            0.02                        0.43   \n",
       "21737           0.98            0.02                        0.76   \n",
       "21738           0.98            0.02                        0.55   \n",
       "21739           0.98            0.02                        0.54   \n",
       "21740           0.98            0.02                        0.43   \n",
       "21741           0.98            0.02                        0.47   \n",
       "21742           0.98            0.02                        0.47   \n",
       "21743           0.98            0.02                        0.42   \n",
       "21744           0.98            0.02                        0.43   \n",
       "21772           0.98            0.02                        0.76   \n",
       "21773           0.98            0.02                        0.76   \n",
       "21774           0.98            0.02                        0.46   \n",
       "21775           0.98            0.02                        0.49   \n",
       "21776           0.98            0.02                        0.47   \n",
       "\n",
       "       high_predicted_total_points  total_points  \n",
       "20823                         5.70             6  \n",
       "20850                         5.85             0  \n",
       "20996                         5.89             0  \n",
       "21000                         5.48             0  \n",
       "21001                         5.24             0  \n",
       "21002                         5.36             0  \n",
       "21255                         6.18             1  \n",
       "21256                         5.63             0  \n",
       "21257                         5.06             0  \n",
       "21258                         5.53             0  \n",
       "21263                         5.48             0  \n",
       "21264                         5.35             0  \n",
       "21265                         4.61             0  \n",
       "21266                         5.31             0  \n",
       "21267                         5.44             0  \n",
       "21270                         5.51             0  \n",
       "21271                         5.06             0  \n",
       "21272                         5.57             1  \n",
       "21273                         5.57             0  \n",
       "21274                         5.62             0  \n",
       "21275                         5.54             0  \n",
       "21277                         5.04             0  \n",
       "21278                         5.77             0  \n",
       "21279                         4.96             1  \n",
       "21280                         5.16             0  \n",
       "21281                         5.29             1  \n",
       "21282                         4.97             0  \n",
       "21283                         5.43             0  \n",
       "21284                         5.24             0  \n",
       "21285                         5.35             0  \n",
       "21337                         5.89             0  \n",
       "21353                         8.25             2  \n",
       "21354                         8.81            13  \n",
       "21355                         8.13             2  \n",
       "21356                         8.77             2  \n",
       "21357                         9.06             8  \n",
       "21358                         8.83             2  \n",
       "21359                         8.73             2  \n",
       "21360                         9.02             0  \n",
       "21361                         9.06             2  \n",
       "21362                         8.67             2  \n",
       "21363                         7.84             1  \n",
       "21364                         8.63             7  \n",
       "21365                         8.13             2  \n",
       "21366                         8.55             6  \n",
       "21367                         8.43             2  \n",
       "21442                         5.62             1  \n",
       "21443                         5.72             1  \n",
       "21444                         5.71             0  \n",
       "21445                         5.72             5  \n",
       "21446                         5.86             2  \n",
       "21447                         6.25             1  \n",
       "21448                         5.93            13  \n",
       "21449                         5.98             2  \n",
       "21450                         6.32             5  \n",
       "21451                         5.98             2  \n",
       "21452                         6.33             7  \n",
       "21453                         5.54             2  \n",
       "21454                         6.08             2  \n",
       "21455                         6.16             2  \n",
       "21512                         6.00             4  \n",
       "21513                         5.59             0  \n",
       "21514                         5.35             0  \n",
       "21515                         5.52             0  \n",
       "21516                         5.62             1  \n",
       "21517                         4.79             1  \n",
       "21518                         5.64             1  \n",
       "21519                         5.52             0  \n",
       "21520                         5.46             0  \n",
       "21521                         5.86             0  \n",
       "21540                         7.11             4  \n",
       "21541                         6.83             1  \n",
       "21542                         6.90             7  \n",
       "21543                         6.84             2  \n",
       "21544                         7.10             7  \n",
       "21545                         7.37             2  \n",
       "21546                         6.67             2  \n",
       "21547                         7.61             2  \n",
       "21548                         7.04             2  \n",
       "21549                         6.47             0  \n",
       "21550                         6.45             0  \n",
       "21551                         6.69             0  \n",
       "21553                         6.81            13  \n",
       "21637                         5.04             0  \n",
       "21640                         4.84             0  \n",
       "21641                         5.66             0  \n",
       "21642                         5.55             0  \n",
       "21737                         5.32             1  \n",
       "21738                         5.63             0  \n",
       "21739                         5.32             0  \n",
       "21740                         5.51             1  \n",
       "21741                         4.87             0  \n",
       "21742                         5.26             0  \n",
       "21743                         5.32             0  \n",
       "21744                         5.72             0  \n",
       "21772                         5.96             1  \n",
       "21773                         4.94             0  \n",
       "21774                         5.53             1  \n",
       "21775                         5.60             0  \n",
       "21776                         5.66             1  "
      ]
     },
     "execution_count": 353,
     "metadata": {},
     "output_type": "execute_result"
    }
   ],
   "source": [
    "element_gameweek_df.tail(100)[[\n",
    "    'is_low_points',\n",
    "    'is_high_points',\n",
    "    'low_predicted_total_points',\n",
    "    'high_predicted_total_points',\n",
    "    'total_points'\n",
    "]].round(2)"
   ]
  },
  {
   "cell_type": "code",
   "execution_count": null,
   "metadata": {},
   "outputs": [],
   "source": []
  },
  {
   "cell_type": "code",
   "execution_count": null,
   "metadata": {},
   "outputs": [],
   "source": []
  },
  {
   "cell_type": "code",
   "execution_count": null,
   "metadata": {},
   "outputs": [],
   "source": []
  },
  {
   "cell_type": "code",
   "execution_count": null,
   "metadata": {},
   "outputs": [],
   "source": []
  },
  {
   "cell_type": "code",
   "execution_count": null,
   "metadata": {},
   "outputs": [],
   "source": []
  },
  {
   "cell_type": "code",
   "execution_count": null,
   "metadata": {},
   "outputs": [],
   "source": []
  },
  {
   "cell_type": "markdown",
   "metadata": {
    "heading_collapsed": true
   },
   "source": [
    "# Evaluating model"
   ]
  },
  {
   "cell_type": "markdown",
   "metadata": {
    "heading_collapsed": true,
    "hidden": true
   },
   "source": [
    "## XGBoost"
   ]
  },
  {
   "cell_type": "code",
   "execution_count": null,
   "metadata": {
    "ExecuteTime": {
     "end_time": "2019-08-06T14:43:19.549826Z",
     "start_time": "2019-08-06T14:43:14.526091Z"
    },
    "hidden": true
   },
   "outputs": [],
   "source": [
    "model = XGBRegressor(\n",
    "    objective='reg:squarederror',\n",
    "    n_estimators=500,\n",
    "    subsample=1.0,\n",
    "    learning_rate=0.015,\n",
    "    colsample_bylevel=0.2,\n",
    "    reg_lambda=0.005,\n",
    "    max_depth=15,\n",
    ")\n",
    "\n",
    "model.fit(X_train, y_train.ravel())"
   ]
  },
  {
   "cell_type": "code",
   "execution_count": null,
   "metadata": {
    "ExecuteTime": {
     "end_time": "2019-08-06T14:43:19.724302Z",
     "start_time": "2019-08-06T14:43:19.552999Z"
    },
    "hidden": true
   },
   "outputs": [],
   "source": [
    "# get predictions for test set\n",
    "y_pred = model.predict(X_test).flatten()\n",
    "\n",
    "# calculate cross entropy loss for test set\n",
    "test_loss = (\n",
    "    mean_absolute_error(y_test, y_pred),\n",
    "    mean_squared_error(y_test, y_pred),\n",
    "    r2_score(y_test, y_pred)\n",
    ")\n",
    "test_loss"
   ]
  },
  {
   "cell_type": "code",
   "execution_count": null,
   "metadata": {
    "ExecuteTime": {
     "end_time": "2019-08-06T14:43:26.250161Z",
     "start_time": "2019-08-06T14:43:19.726565Z"
    },
    "hidden": true
   },
   "outputs": [],
   "source": [
    "# refit model on all data\n",
    "model_full = XGBRegressor(\n",
    "    objective='reg:squarederror',\n",
    "    n_estimators=500,\n",
    "    subsample=1.0,\n",
    "    learning_rate=0.015,\n",
    "    colsample_bylevel=0.2,\n",
    "    reg_lambda=0.005,\n",
    "    max_depth=15\n",
    ")\n",
    "\n",
    "model_full.fit(X, y.ravel())"
   ]
  },
  {
   "cell_type": "code",
   "execution_count": null,
   "metadata": {
    "ExecuteTime": {
     "end_time": "2019-08-06T14:43:26.969344Z",
     "start_time": "2019-08-06T14:43:26.257039Z"
    },
    "hidden": true
   },
   "outputs": [],
   "source": [
    "# get predictions for whole set\n",
    "y_pred_full = model_full.predict(X).flatten()\n",
    "\n",
    "# calculate cross entropy loss for test set\n",
    "test_loss_full = (\n",
    "    mean_absolute_error(y, y_pred_full),\n",
    "    mean_squared_error(y, y_pred_full),\n",
    "    r2_score(y, y_pred_full)\n",
    ")\n",
    "test_loss_full"
   ]
  },
  {
   "cell_type": "code",
   "execution_count": null,
   "metadata": {
    "ExecuteTime": {
     "end_time": "2019-08-06T14:43:27.495771Z",
     "start_time": "2019-08-06T14:43:26.974258Z"
    },
    "hidden": true
   },
   "outputs": [],
   "source": [
    "plt.figure(figsize=(10, 8))\n",
    "plt.hist(pd.Series(y_pred), bins=range(-5,20), alpha=0.75, density=True, label='predicted')\n",
    "plt.hist(pd.Series(y_test.ravel()), bins=range(-5,20), alpha=0.75, density=True, label='observed')\n",
    "plt.legend()\n",
    "plt.show()"
   ]
  },
  {
   "cell_type": "code",
   "execution_count": null,
   "metadata": {
    "ExecuteTime": {
     "end_time": "2019-08-06T14:43:27.901790Z",
     "start_time": "2019-08-06T14:43:27.500185Z"
    },
    "hidden": true
   },
   "outputs": [],
   "source": [
    "plt.figure(figsize=(10, 8))\n",
    "plt.scatter(pd.Series(y_test.ravel()), pd.Series(y_pred), alpha=0.1)\n",
    "plt.plot(np.linspace(-5, 25), np.linspace(-5, 25))\n",
    "plt.ylabel('Predicted total points')\n",
    "plt.xlabel('Observed total points')\n",
    "plt.ylim((-3, 12))\n",
    "plt.show()"
   ]
  },
  {
   "cell_type": "markdown",
   "metadata": {
    "heading_collapsed": true,
    "hidden": true
   },
   "source": [
    "## Summary"
   ]
  },
  {
   "cell_type": "code",
   "execution_count": null,
   "metadata": {
    "ExecuteTime": {
     "end_time": "2019-08-06T14:43:53.592547Z",
     "start_time": "2019-08-06T14:43:53.562392Z"
    },
    "hidden": true
   },
   "outputs": [],
   "source": [
    "pd.DataFrame([\n",
    "    ('XGBoost', test_loss[0], test_loss[1], test_loss[2]),\n",
    "], columns=['model', 'MAE', 'MSE', 'r2'])"
   ]
  },
  {
   "cell_type": "code",
   "execution_count": null,
   "metadata": {
    "ExecuteTime": {
     "end_time": "2019-08-06T14:43:54.554616Z",
     "start_time": "2019-08-06T14:43:54.531184Z"
    },
    "hidden": true
   },
   "outputs": [],
   "source": [
    "pd.DataFrame([\n",
    "    ('XGBoost', test_loss_full[0], test_loss_full[1], test_loss_full[2]),\n",
    "], columns=['model', 'MAE', 'MSE', 'r2'])"
   ]
  }
 ],
 "metadata": {
  "kernelspec": {
   "display_name": "Python 3",
   "language": "python",
   "name": "python3"
  },
  "language_info": {
   "codemirror_mode": {
    "name": "ipython",
    "version": 3
   },
   "file_extension": ".py",
   "mimetype": "text/x-python",
   "name": "python",
   "nbconvert_exporter": "python",
   "pygments_lexer": "ipython3",
   "version": "3.6.7"
  },
  "toc": {
   "nav_menu": {},
   "number_sections": true,
   "sideBar": true,
   "skip_h1_title": false,
   "title_cell": "Table of Contents",
   "title_sidebar": "Contents",
   "toc_cell": false,
   "toc_position": {},
   "toc_section_display": true,
   "toc_window_display": false
  }
 },
 "nbformat": 4,
 "nbformat_minor": 2
}
