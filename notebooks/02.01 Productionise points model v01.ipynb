{
 "cells": [
  {
   "cell_type": "markdown",
   "metadata": {},
   "source": [
    "# Set up"
   ]
  },
  {
   "cell_type": "code",
   "execution_count": 1,
   "metadata": {
    "ExecuteTime": {
     "end_time": "2019-11-23T16:21:02.370726Z",
     "start_time": "2019-11-23T16:21:01.194534Z"
    }
   },
   "outputs": [
    {
     "name": "stderr",
     "output_type": "stream",
     "text": [
      "/home/tom/footbot/venv/lib/python3.6/importlib/_bootstrap.py:219: RuntimeWarning: numpy.ufunc size changed, may indicate binary incompatibility. Expected 216, got 192\n",
      "  return f(*args, **kwds)\n",
      "/home/tom/footbot/venv/lib/python3.6/importlib/_bootstrap.py:219: RuntimeWarning: numpy.ufunc size changed, may indicate binary incompatibility. Expected 216, got 192\n",
      "  return f(*args, **kwds)\n",
      "/home/tom/footbot/venv/lib/python3.6/importlib/_bootstrap.py:219: RuntimeWarning: numpy.ufunc size changed, may indicate binary incompatibility. Expected 192 from C header, got 216 from PyObject\n",
      "  return f(*args, **kwds)\n"
     ]
    }
   ],
   "source": [
    "from footbot.data import utils\n",
    "import pandas as pd\n",
    "import numpy as np\n",
    "from sklearn.preprocessing import StandardScaler, OneHotEncoder\n",
    "from sklearn.compose import ColumnTransformer\n",
    "from sklearn.linear_model import Ridge"
   ]
  },
  {
   "cell_type": "code",
   "execution_count": 2,
   "metadata": {
    "ExecuteTime": {
     "end_time": "2019-11-23T16:21:03.397366Z",
     "start_time": "2019-11-23T16:21:03.392734Z"
    }
   },
   "outputs": [],
   "source": [
    "pd.set_option('display.max_columns', 1000)\n",
    "pd.set_option('display.max_rows', 1000)\n",
    "pd.set_option('display.max_colwidth', 1000)"
   ]
  },
  {
   "cell_type": "markdown",
   "metadata": {},
   "source": [
    "# Getting data"
   ]
  },
  {
   "cell_type": "code",
   "execution_count": 3,
   "metadata": {
    "ExecuteTime": {
     "end_time": "2019-11-23T16:21:05.674205Z",
     "start_time": "2019-11-23T16:21:05.665828Z"
    }
   },
   "outputs": [],
   "source": [
    "client = utils.set_up_bigquery(secrets_path='../secrets/service_account.json')"
   ]
  },
  {
   "cell_type": "code",
   "execution_count": 6,
   "metadata": {
    "ExecuteTime": {
     "end_time": "2019-11-23T16:24:07.522061Z",
     "start_time": "2019-11-23T16:24:07.515723Z"
    }
   },
   "outputs": [],
   "source": [
    "sql = \\\n",
    "'''\n",
    "SELECT\n",
    "  total_points,\n",
    "  element_type,\n",
    "  team,\n",
    "  value,\n",
    "  total_points_per_minute_previous_season,\n",
    "  goals_scored_per_minute_previous_season,\n",
    "  assists_per_minute_previous_season,\n",
    "  clean_sheets_per_minute_previous_season,\n",
    "  goals_conceded_per_minute_previous_season,\n",
    "  own_goals_per_minute_previous_season,\n",
    "  penalties_saved_per_minute_previous_season,\n",
    "  penalties_missed_per_minute_previous_season,\n",
    "  yellow_cards_per_minute_previous_season,\n",
    "  red_cards_per_minute_previous_season,\n",
    "  saves_per_minute_previous_season,\n",
    "  bonus_per_minute_previous_season,\n",
    "  bps_per_minute_previous_season,\n",
    "  opponent_team,\n",
    "  was_home,\n",
    "  was_sunday,\n",
    "  was_weekday,\n",
    "  was_late,\n",
    "  was_early,\n",
    "  rolling_avg_total_points_element,\n",
    "  rolling_avg_minutes_element,\n",
    "  rolling_avg_goals_scored_element,\n",
    "  rolling_avg_assists_element,\n",
    "  rolling_avg_clean_sheets_element,\n",
    "  rolling_avg_goals_conceded_element,\n",
    "  rolling_avg_own_goals_element,\n",
    "  rolling_avg_penalties_saved_element,\n",
    "  rolling_avg_penalties_missed_element,\n",
    "  rolling_avg_yellow_cards_element,\n",
    "  rolling_avg_red_cards_element,\n",
    "  rolling_avg_saves_element,\n",
    "  rolling_avg_bonus_element,\n",
    "  rolling_avg_bps_element,\n",
    "  rolling_avg_total_points_element_p1,\n",
    "  rolling_avg_total_points_element_p2,\n",
    "  rolling_avg_total_points_element_p3,\n",
    "  rolling_avg_total_points_element_p4,\n",
    "  rolling_avg_total_points_element_p5,\n",
    "  rolling_avg_total_points_element_p10,\n",
    "  rolling_avg_goals_scored_element_p1,\n",
    "  rolling_avg_goals_scored_element_p2,\n",
    "  rolling_avg_goals_scored_element_p3,\n",
    "  rolling_avg_goals_scored_element_p4,\n",
    "  rolling_avg_goals_scored_element_p5,\n",
    "  rolling_avg_goals_scored_element_p10,\n",
    "  rolling_avg_assists_element_p1,\n",
    "  rolling_avg_assists_element_p2,\n",
    "  rolling_avg_assists_element_p3,\n",
    "  rolling_avg_assists_element_p4,\n",
    "  rolling_avg_assists_element_p5,\n",
    "  rolling_avg_assists_element_p10,\n",
    "  rolling_avg_clean_sheets_element_p1,\n",
    "  rolling_avg_clean_sheets_element_p2,\n",
    "  rolling_avg_clean_sheets_element_p3,\n",
    "  rolling_avg_clean_sheets_element_p4,\n",
    "  rolling_avg_clean_sheets_element_p5,\n",
    "  rolling_avg_clean_sheets_element_p10,\n",
    "  rolling_avg_goals_conceded_element_p1,\n",
    "  rolling_avg_goals_conceded_element_p2,\n",
    "  rolling_avg_goals_conceded_element_p3,\n",
    "  rolling_avg_goals_conceded_element_p4,\n",
    "  rolling_avg_goals_conceded_element_p5,\n",
    "  rolling_avg_goals_conceded_element_p10,\n",
    "  rolling_avg_saves_element_p1,\n",
    "  rolling_avg_saves_element_p2,\n",
    "  rolling_avg_saves_element_p3,\n",
    "  rolling_avg_saves_element_p4,\n",
    "  rolling_avg_saves_element_p5,\n",
    "  rolling_avg_saves_element_p10,\n",
    "  rolling_avg_minutes_element_p1,\n",
    "  rolling_avg_minutes_element_p2,\n",
    "  rolling_avg_minutes_element_p3,\n",
    "  rolling_avg_minutes_element_p4,\n",
    "  rolling_avg_minutes_element_p5,\n",
    "  rolling_avg_minutes_element_p10,\n",
    "  rolling_avg_total_points_against_opponent_team_element_type,\n",
    "  rolling_avg_minutes_against_opponent_team_element_type,\n",
    "  rolling_avg_goals_scored_against_opponent_team_element_type,\n",
    "  rolling_avg_assists_against_opponent_team_element_type,\n",
    "  rolling_avg_clean_sheets_against_opponent_team_element_type,\n",
    "  rolling_avg_goals_conceded_against_opponent_team_element_type,\n",
    "  rolling_avg_own_goals_against_opponent_team_element_type,\n",
    "  rolling_avg_penalties_saved_against_opponent_team_element_type,\n",
    "  rolling_avg_penalties_missed_against_opponent_team_element_type,\n",
    "  rolling_avg_yellow_cards_against_opponent_team_element_type,\n",
    "  rolling_avg_red_cards_against_opponent_team_element_type,\n",
    "  rolling_avg_saves_against_opponent_team_element_type,\n",
    "  rolling_avg_bonus_against_opponent_team_element_type,\n",
    "  rolling_avg_bps_against_opponent_team_element_type,\n",
    "  rolling_avg_total_points_element_type,\n",
    "  rolling_avg_minutes_element_type,\n",
    "  rolling_avg_goals_scored_element_type,\n",
    "  rolling_avg_assists_element_type,\n",
    "  rolling_avg_clean_sheets_element_type,\n",
    "  rolling_avg_goals_conceded_element_type,\n",
    "  rolling_avg_own_goals_element_type,\n",
    "  rolling_avg_penalties_saved_element_type,\n",
    "  rolling_avg_penalties_missed_element_type,\n",
    "  rolling_avg_yellow_cards_element_type,\n",
    "  rolling_avg_red_cards_element_type,\n",
    "  rolling_avg_saves_element_type,\n",
    "  rolling_avg_bonus_element_type,\n",
    "  rolling_avg_bps_element_type,\n",
    "  expected_total_points_against_opponent_team_element_type,\n",
    "  expected_minutes_against_opponent_team_element_type,\n",
    "  expected_goals_scored_against_opponent_team_element_type,\n",
    "  expected_assists_against_opponent_team_element_type,\n",
    "  expected_clean_sheets_against_opponent_team_element_type,\n",
    "  expected_goals_conceded_against_opponent_team_element_type,\n",
    "  expected_own_goals_against_opponent_team_element_type,\n",
    "  expected_penalties_saved_against_opponent_team_element_type,\n",
    "  expected_penalties_missed_against_opponent_team_element_type,\n",
    "  expected_yellow_cards_against_opponent_team_element_type,\n",
    "  expected_red_cards_against_opponent_team_element_type,\n",
    "  expected_saves_against_opponent_team_element_type,\n",
    "  expected_bonus_against_opponent_team_element_type,\n",
    "  expected_bps_against_opponent_team_element_type,\n",
    "  rolling_avg_squad,\n",
    "  rolling_avg_first_team,\n",
    "  rolling_avg_vice_or_captain,\n",
    "  rolling_avg_squad_p1,\n",
    "  rolling_avg_first_team_p1,\n",
    "  rolling_avg_vice_or_captain_p1\n",
    "FROM\n",
    "  `footbot-001.fpl.element_gameweeks_features_1920_v01`\n",
    "WHERE\n",
    "  rolling_avg_total_points_element >= 2\n",
    "'''"
   ]
  },
  {
   "cell_type": "code",
   "execution_count": 7,
   "metadata": {
    "ExecuteTime": {
     "end_time": "2019-11-23T16:24:19.769503Z",
     "start_time": "2019-11-23T16:24:08.771714Z"
    }
   },
   "outputs": [],
   "source": [
    "# get dataframe\n",
    "df_all = client.query(sql).to_dataframe()\n",
    "df = df_all.copy()"
   ]
  },
  {
   "cell_type": "markdown",
   "metadata": {},
   "source": [
    "# Pre-processing data"
   ]
  },
  {
   "cell_type": "code",
   "execution_count": 18,
   "metadata": {
    "ExecuteTime": {
     "end_time": "2019-11-23T16:28:33.562273Z",
     "start_time": "2019-11-23T16:28:32.911649Z"
    }
   },
   "outputs": [],
   "source": [
    "df = pd.concat([\n",
    "    df[df['element_type'] == i].fillna(\n",
    "        df[\n",
    "            df['element_type'] == i\n",
    "        ].mean()).fillna(0)\n",
    "    for i in range(1, 5)\n",
    "])"
   ]
  },
  {
   "cell_type": "code",
   "execution_count": 12,
   "metadata": {
    "ExecuteTime": {
     "end_time": "2019-11-23T16:26:11.323851Z",
     "start_time": "2019-11-23T16:26:11.317424Z"
    }
   },
   "outputs": [],
   "source": [
    "categorical_features = [\n",
    "    'element_type',\n",
    "    'team',\n",
    "    'opponent_team',\n",
    "    'was_home',\n",
    "    'was_sunday',\n",
    "    'was_weekday',\n",
    "    'was_late',\n",
    "    'was_early'\n",
    "]\n",
    "\n",
    "numeric_features = [\n",
    "    i for i in df.columns if i not in ['total_points'] + categorical_features\n",
    "]"
   ]
  },
  {
   "cell_type": "code",
   "execution_count": 19,
   "metadata": {
    "ExecuteTime": {
     "end_time": "2019-11-23T16:28:35.314816Z",
     "start_time": "2019-11-23T16:28:35.310718Z"
    }
   },
   "outputs": [],
   "source": [
    "ct = ColumnTransformer(\n",
    "    [(\"scale\", StandardScaler(), numeric_features),\n",
    "     (\"onehot\", OneHotEncoder(), categorical_features)])"
   ]
  },
  {
   "cell_type": "code",
   "execution_count": 20,
   "metadata": {
    "ExecuteTime": {
     "end_time": "2019-11-23T16:28:35.818846Z",
     "start_time": "2019-11-23T16:28:35.772620Z"
    }
   },
   "outputs": [],
   "source": [
    "X = ct.fit_transform(df)"
   ]
  },
  {
   "cell_type": "code",
   "execution_count": 25,
   "metadata": {
    "ExecuteTime": {
     "end_time": "2019-11-23T16:29:08.276180Z",
     "start_time": "2019-11-23T16:29:08.272068Z"
    }
   },
   "outputs": [],
   "source": [
    "y = df['total_points'].values"
   ]
  },
  {
   "cell_type": "code",
   "execution_count": 26,
   "metadata": {
    "ExecuteTime": {
     "end_time": "2019-11-23T16:29:22.979564Z",
     "start_time": "2019-11-23T16:29:22.974421Z"
    }
   },
   "outputs": [],
   "source": [
    "model = Ridge(alpha=300)"
   ]
  },
  {
   "cell_type": "code",
   "execution_count": 27,
   "metadata": {
    "ExecuteTime": {
     "end_time": "2019-11-23T16:29:38.964893Z",
     "start_time": "2019-11-23T16:29:38.736037Z"
    }
   },
   "outputs": [
    {
     "data": {
      "text/plain": [
       "Ridge(alpha=300, copy_X=True, fit_intercept=True, max_iter=None,\n",
       "      normalize=False, random_state=None, solver='auto', tol=0.001)"
      ]
     },
     "execution_count": 27,
     "metadata": {},
     "output_type": "execute_result"
    }
   ],
   "source": [
    "model.fit(X, y)"
   ]
  },
  {
   "cell_type": "code",
   "execution_count": null,
   "metadata": {},
   "outputs": [],
   "source": []
  }
 ],
 "metadata": {
  "kernelspec": {
   "display_name": "Python 3",
   "language": "python",
   "name": "python3"
  },
  "language_info": {
   "codemirror_mode": {
    "name": "ipython",
    "version": 3
   },
   "file_extension": ".py",
   "mimetype": "text/x-python",
   "name": "python",
   "nbconvert_exporter": "python",
   "pygments_lexer": "ipython3",
   "version": "3.6.7"
  },
  "toc": {
   "nav_menu": {},
   "number_sections": true,
   "sideBar": true,
   "skip_h1_title": false,
   "title_cell": "Table of Contents",
   "title_sidebar": "Contents",
   "toc_cell": false,
   "toc_position": {},
   "toc_section_display": true,
   "toc_window_display": false
  }
 },
 "nbformat": 4,
 "nbformat_minor": 2
}
