{
 "cells": [
  {
   "cell_type": "markdown",
   "metadata": {
    "ExecuteTime": {
     "end_time": "2019-09-07T14:13:58.207757Z",
     "start_time": "2019-09-07T14:13:58.202638Z"
    }
   },
   "source": [
    "# Set up"
   ]
  },
  {
   "cell_type": "code",
   "execution_count": 1,
   "metadata": {
    "ExecuteTime": {
     "end_time": "2019-09-08T08:47:31.531944Z",
     "start_time": "2019-09-08T08:47:23.927443Z"
    }
   },
   "outputs": [],
   "source": [
    "import pandas as pd\n",
    "import json\n",
    "import matplotlib.pyplot as plt\n",
    "import numpy as np\n",
    "import requests"
   ]
  },
  {
   "cell_type": "markdown",
   "metadata": {},
   "source": [
    "# Getting data"
   ]
  },
  {
   "cell_type": "code",
   "execution_count": null,
   "metadata": {
    "ExecuteTime": {
     "start_time": "2019-09-08T08:47:36.105Z"
    }
   },
   "outputs": [],
   "source": [
    "entry_history_arr = []\n",
    "\n",
    "for i in np.random.choice(range(1, 3000000), 1000000, replace=False):\n",
    "    try:\n",
    "        entry_history_request = requests.get(f'https://fantasy.premierleague.com/api/entry/{i}/history/')\n",
    "        entry_history_data = entry_history_request.json()\n",
    "        entry_history_data['entry'] = i\n",
    "        entry_history_arr.append(entry_history_data)\n",
    "    except Exception as e:\n",
    "        continue\n",
    "\n",
    "print(len(entry_history_arr))"
   ]
  },
  {
   "cell_type": "code",
   "execution_count": null,
   "metadata": {
    "ExecuteTime": {
     "start_time": "2019-09-08T15:26:49.162Z"
    }
   },
   "outputs": [],
   "source": [
    "entry_past_df = pd.DataFrame([\n",
    "    dict([\n",
    "        ('entry', i['entry'])        \n",
    "    ] +\n",
    "    [\n",
    "        (j['season_name'] + '_total_points', j['total_points'])\n",
    "        for j in i['past']\n",
    "    ] +\n",
    "    [\n",
    "        (j['season_name'] + '_rank', j['rank'])\n",
    "        for j in i['past']\n",
    "    ])\n",
    "    for i in entry_history_arr\n",
    "])\n",
    "\n",
    "\n",
    "entry_past_cols = entry_past_df.columns\n",
    "entry_past_cols = ['entry'] + list(entry_past_cols[:-1])[::-1]\n",
    "\n",
    "entry_past_df = entry_past_df[entry_past_cols]\n",
    "\n",
    "entry_past_df.head()"
   ]
  },
  {
   "cell_type": "code",
   "execution_count": null,
   "metadata": {
    "ExecuteTime": {
     "start_time": "2019-09-08T15:26:50.048Z"
    }
   },
   "outputs": [],
   "source": [
    "top_entries = entry_past_df[\n",
    "    (entry_past_df['2018/19_rank'] < 30000)\n",
    "    & (entry_past_df['2017/18_rank'] < 30000)\n",
    "    & (entry_past_df['2016/17_rank'] < 30000)\n",
    "]['entry'].values\n",
    "\n",
    "len(top_entries)"
   ]
  },
  {
   "cell_type": "code",
   "execution_count": null,
   "metadata": {
    "ExecuteTime": {
     "start_time": "2019-09-08T15:26:50.469Z"
    }
   },
   "outputs": [],
   "source": [
    "bootstrap_request = requests.get('https://fantasy.premierleague.com/api/bootstrap-static/')\n",
    "bootstrap_data = bootstrap_request.json()\n",
    "\n",
    "current_event = [i for i in bootstrap_data['events'] if i['is_current']][0]['id']\n",
    "current_event"
   ]
  },
  {
   "cell_type": "code",
   "execution_count": null,
   "metadata": {
    "ExecuteTime": {
     "start_time": "2019-09-08T15:26:50.688Z"
    }
   },
   "outputs": [],
   "source": [
    "element_df = pd.DataFrame(\n",
    "    bootstrap_data['elements']\n",
    ")\n",
    "\n",
    "element_df = element_df[['id', 'web_name']]\n",
    "element_df.columns = ['element', 'web_name']"
   ]
  },
  {
   "cell_type": "code",
   "execution_count": null,
   "metadata": {
    "ExecuteTime": {
     "start_time": "2019-09-08T15:26:50.829Z"
    }
   },
   "outputs": [],
   "source": [
    "entry_season_arr = []\n",
    "\n",
    "for i in top_entries:\n",
    "    for j in range(1, current_event + 1):\n",
    "        try:\n",
    "            entry_season_request = requests.get(f'https://fantasy.premierleague.com/api/entry/{i}/event/{j}/picks/')\n",
    "            entry_season_data = entry_season_request.json()\n",
    "            entry_season_data['entry'] = i\n",
    "            entry_season_data['event'] = j\n",
    "            entry_season_arr.append(entry_season_data)\n",
    "        except Exception as e:\n",
    "            continue\n",
    "\n",
    "print(len(entry_season_arr))"
   ]
  },
  {
   "cell_type": "code",
   "execution_count": null,
   "metadata": {
    "ExecuteTime": {
     "start_time": "2019-09-08T15:26:51.085Z"
    }
   },
   "outputs": [],
   "source": [
    "current_event_arr = [i for i in entry_season_arr if i['event'] == current_event]"
   ]
  },
  {
   "cell_type": "code",
   "execution_count": null,
   "metadata": {
    "ExecuteTime": {
     "start_time": "2019-09-08T15:26:51.304Z"
    }
   },
   "outputs": [],
   "source": [
    "current_event_picks_df = pd.DataFrame([j for sl in [i['picks'] for i in current_event_arr] for j in sl])\n",
    "\n",
    "current_event_picks_df['is_first_team'] = current_event_picks_df['position'].apply(lambda x: 1 if x <= 11 else 0)\n",
    "current_event_picks_df['is_owned'] = 1\n",
    "\n",
    "current_event_picks_df = current_event_picks_df.groupby('element', as_index=False).sum().round(2).join(\n",
    "    element_df.set_index('element'), on='element'\n",
    ").sort_values('is_owned', ascending=False)\n",
    "\n",
    "current_event_picks_df = current_event_picks_df[\n",
    "    ['element', 'web_name', 'is_owned', 'is_first_team', 'is_captain', 'is_vice_captain']]"
   ]
  },
  {
   "cell_type": "markdown",
   "metadata": {},
   "source": [
    "# Analysing data"
   ]
  },
  {
   "cell_type": "markdown",
   "metadata": {},
   "source": [
    "## Player selections"
   ]
  },
  {
   "cell_type": "code",
   "execution_count": null,
   "metadata": {
    "ExecuteTime": {
     "start_time": "2019-09-08T15:26:51.936Z"
    }
   },
   "outputs": [],
   "source": [
    "plt.figure(figsize=(12, 8))\n",
    "plt.bar(\n",
    "    current_event_picks_df['web_name'].iloc[:30],\n",
    "    current_event_picks_df['is_owned'].iloc[:30],   \n",
    ")\n",
    "plt.xticks(rotation='vertical')\n",
    "plt.grid()\n",
    "plt.show()"
   ]
  },
  {
   "cell_type": "markdown",
   "metadata": {},
   "source": [
    "## Wildcards"
   ]
  },
  {
   "cell_type": "code",
   "execution_count": null,
   "metadata": {
    "ExecuteTime": {
     "start_time": "2019-09-08T15:26:52.572Z"
    }
   },
   "outputs": [],
   "source": [
    "wildcard_df = pd.DataFrame(\n",
    "    [dict([('event', i['event'])]) for i in entry_season_arr if i['active_chip'] == 'wildcard'])\n",
    "\n",
    "(wildcard_df.groupby('event').size()/len(top_entries)).round(2)"
   ]
  },
  {
   "cell_type": "markdown",
   "metadata": {},
   "source": [
    "## Current performance"
   ]
  },
  {
   "cell_type": "code",
   "execution_count": null,
   "metadata": {
    "ExecuteTime": {
     "start_time": "2019-09-08T15:26:53.060Z"
    }
   },
   "outputs": [],
   "source": [
    "plt.figure(figsize=(10, 8))\n",
    "plt.hist(\n",
    "    pd.Series([i['entry_history']['overall_rank'] for i in current_event_arr]),\n",
    "    bins=20,\n",
    "    cumulative=True,\n",
    "    density=True\n",
    ")\n",
    "plt.grid()\n",
    "plt.show()"
   ]
  },
  {
   "cell_type": "markdown",
   "metadata": {},
   "source": [
    "## Historic performance"
   ]
  },
  {
   "cell_type": "code",
   "execution_count": null,
   "metadata": {
    "ExecuteTime": {
     "start_time": "2019-09-08T15:26:53.978Z"
    }
   },
   "outputs": [],
   "source": [
    "hist_perf_df = entry_past_df[[\n",
    "    'entry',\n",
    "    '2018/19_rank',\n",
    "    '2017/18_rank',\n",
    "    '2016/17_rank'\n",
    "]].dropna()"
   ]
  },
  {
   "cell_type": "code",
   "execution_count": null,
   "metadata": {
    "ExecuteTime": {
     "start_time": "2019-09-08T15:26:54.249Z"
    }
   },
   "outputs": [],
   "source": [
    "plt.figure(figsize=(10, 8))\n",
    "plt.hist(\n",
    "    hist_perf_df[hist_perf_df['2018/19_rank'] < 20000]['2017/18_rank'],\n",
    "    bins=50,\n",
    "    alpha=0.5,\n",
    "    density=True,\n",
    "    cumulative=True\n",
    ")\n",
    "plt.hist(\n",
    "    hist_perf_df[hist_perf_df['2018/19_rank'] < 20000]['2016/17_rank'],\n",
    "    bins=50,\n",
    "    alpha=0.5,\n",
    "    density=True,\n",
    "    cumulative=True\n",
    ")\n",
    "plt.xlim(0, 1000000)\n",
    "plt.grid()\n",
    "plt.show()"
   ]
  },
  {
   "cell_type": "code",
   "execution_count": null,
   "metadata": {
    "ExecuteTime": {
     "start_time": "2019-09-08T15:26:54.675Z"
    }
   },
   "outputs": [],
   "source": [
    "hist_perf_df['avg_rank'] = (hist_perf_df['2017/18_rank'] + hist_perf_df['2016/17_rank'])/2\n",
    "\n",
    "plt.figure(figsize=(10, 8))\n",
    "plt.scatter(\n",
    "    hist_perf_df[hist_perf_df['avg_rank'] < 100000]['2018/19_rank'],\n",
    "    hist_perf_df[hist_perf_df['avg_rank'] < 100000]['avg_rank'],\n",
    "    alpha=0.25\n",
    ")\n",
    "plt.grid()\n",
    "plt.show()"
   ]
  },
  {
   "cell_type": "code",
   "execution_count": null,
   "metadata": {
    "ExecuteTime": {
     "start_time": "2019-09-08T15:26:55.129Z"
    }
   },
   "outputs": [],
   "source": [
    "np.corrcoef(\n",
    "    hist_perf_df[hist_perf_df['avg_rank'] < 100000]['2018/19_rank'],\n",
    "    hist_perf_df[hist_perf_df['avg_rank'] < 100000]['avg_rank']\n",
    ")"
   ]
  },
  {
   "cell_type": "code",
   "execution_count": null,
   "metadata": {},
   "outputs": [],
   "source": []
  }
 ],
 "metadata": {
  "kernelspec": {
   "display_name": "Python 3",
   "language": "python",
   "name": "python3"
  },
  "language_info": {
   "codemirror_mode": {
    "name": "ipython",
    "version": 3
   },
   "file_extension": ".py",
   "mimetype": "text/x-python",
   "name": "python",
   "nbconvert_exporter": "python",
   "pygments_lexer": "ipython3",
   "version": "3.6.7"
  },
  "toc": {
   "nav_menu": {},
   "number_sections": true,
   "sideBar": true,
   "skip_h1_title": false,
   "title_cell": "Table of Contents",
   "title_sidebar": "Contents",
   "toc_cell": false,
   "toc_position": {},
   "toc_section_display": true,
   "toc_window_display": false
  }
 },
 "nbformat": 4,
 "nbformat_minor": 2
}
