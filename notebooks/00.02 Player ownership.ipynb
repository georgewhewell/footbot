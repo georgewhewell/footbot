{
 "cells": [
  {
   "cell_type": "markdown",
   "metadata": {
    "ExecuteTime": {
     "end_time": "2019-09-07T14:13:58.207757Z",
     "start_time": "2019-09-07T14:13:58.202638Z"
    }
   },
   "source": [
    "# Set up"
   ]
  },
  {
   "cell_type": "code",
   "execution_count": 56,
   "metadata": {
    "ExecuteTime": {
     "end_time": "2019-09-10T14:44:34.363153Z",
     "start_time": "2019-09-10T14:44:34.356024Z"
    }
   },
   "outputs": [],
   "source": [
    "import pandas as pd\n",
    "import json\n",
    "import matplotlib.pyplot as plt\n",
    "import numpy as np\n",
    "import requests\n",
    "from footbot.data.utils import update_return_dict"
   ]
  },
  {
   "cell_type": "markdown",
   "metadata": {},
   "source": [
    "# Getting data"
   ]
  },
  {
   "cell_type": "code",
   "execution_count": null,
   "metadata": {
    "ExecuteTime": {
     "start_time": "2019-09-08T08:47:36.105Z"
    }
   },
   "outputs": [],
   "source": [
    "entry_history_arr = []\n",
    "\n",
    "for i in np.random.choice(range(1, 3000000), 1000000, replace=False):\n",
    "    try:\n",
    "        entry_history_request = requests.get(f'https://fantasy.premierleague.com/api/entry/{i}/history/')\n",
    "        entry_history_data = entry_history_request.json()\n",
    "        entry_history_data['entry'] = i\n",
    "        entry_history_arr.append(entry_history_data)\n",
    "    except Exception as e:\n",
    "        continue\n",
    "\n",
    "print(len(entry_history_arr))"
   ]
  },
  {
   "cell_type": "code",
   "execution_count": 23,
   "metadata": {
    "ExecuteTime": {
     "end_time": "2019-09-10T10:11:28.341424Z",
     "start_time": "2019-09-10T10:11:16.724298Z"
    }
   },
   "outputs": [
    {
     "data": {
      "text/html": [
       "<div>\n",
       "<style scoped>\n",
       "    .dataframe tbody tr th:only-of-type {\n",
       "        vertical-align: middle;\n",
       "    }\n",
       "\n",
       "    .dataframe tbody tr th {\n",
       "        vertical-align: top;\n",
       "    }\n",
       "\n",
       "    .dataframe thead th {\n",
       "        text-align: right;\n",
       "    }\n",
       "</style>\n",
       "<table border=\"1\" class=\"dataframe\">\n",
       "  <thead>\n",
       "    <tr style=\"text-align: right;\">\n",
       "      <th></th>\n",
       "      <th>entry</th>\n",
       "      <th>2018/19_total_points</th>\n",
       "      <th>2018/19_rank</th>\n",
       "      <th>2011/12_total_points</th>\n",
       "      <th>2012/13_total_points</th>\n",
       "      <th>2013/14_total_points</th>\n",
       "      <th>2014/15_total_points</th>\n",
       "      <th>2015/16_total_points</th>\n",
       "      <th>2016/17_total_points</th>\n",
       "      <th>2017/18_total_points</th>\n",
       "      <th>...</th>\n",
       "      <th>2010/11_total_points</th>\n",
       "      <th>2010/11_rank</th>\n",
       "      <th>2008/09_total_points</th>\n",
       "      <th>2009/10_total_points</th>\n",
       "      <th>2008/09_rank</th>\n",
       "      <th>2009/10_rank</th>\n",
       "      <th>2006/07_total_points</th>\n",
       "      <th>2007/08_total_points</th>\n",
       "      <th>2006/07_rank</th>\n",
       "      <th>2007/08_rank</th>\n",
       "    </tr>\n",
       "  </thead>\n",
       "  <tbody>\n",
       "    <tr>\n",
       "      <td>0</td>\n",
       "      <td>2694922</td>\n",
       "      <td>NaN</td>\n",
       "      <td>NaN</td>\n",
       "      <td>NaN</td>\n",
       "      <td>NaN</td>\n",
       "      <td>NaN</td>\n",
       "      <td>NaN</td>\n",
       "      <td>NaN</td>\n",
       "      <td>NaN</td>\n",
       "      <td>NaN</td>\n",
       "      <td>...</td>\n",
       "      <td>NaN</td>\n",
       "      <td>NaN</td>\n",
       "      <td>NaN</td>\n",
       "      <td>NaN</td>\n",
       "      <td>NaN</td>\n",
       "      <td>NaN</td>\n",
       "      <td>NaN</td>\n",
       "      <td>NaN</td>\n",
       "      <td>NaN</td>\n",
       "      <td>NaN</td>\n",
       "    </tr>\n",
       "    <tr>\n",
       "      <td>1</td>\n",
       "      <td>240854</td>\n",
       "      <td>1645.0</td>\n",
       "      <td>4988634.0</td>\n",
       "      <td>NaN</td>\n",
       "      <td>NaN</td>\n",
       "      <td>NaN</td>\n",
       "      <td>NaN</td>\n",
       "      <td>NaN</td>\n",
       "      <td>NaN</td>\n",
       "      <td>NaN</td>\n",
       "      <td>...</td>\n",
       "      <td>NaN</td>\n",
       "      <td>NaN</td>\n",
       "      <td>NaN</td>\n",
       "      <td>NaN</td>\n",
       "      <td>NaN</td>\n",
       "      <td>NaN</td>\n",
       "      <td>NaN</td>\n",
       "      <td>NaN</td>\n",
       "      <td>NaN</td>\n",
       "      <td>NaN</td>\n",
       "    </tr>\n",
       "    <tr>\n",
       "      <td>2</td>\n",
       "      <td>1672641</td>\n",
       "      <td>1834.0</td>\n",
       "      <td>3771687.0</td>\n",
       "      <td>NaN</td>\n",
       "      <td>NaN</td>\n",
       "      <td>NaN</td>\n",
       "      <td>NaN</td>\n",
       "      <td>NaN</td>\n",
       "      <td>NaN</td>\n",
       "      <td>NaN</td>\n",
       "      <td>...</td>\n",
       "      <td>NaN</td>\n",
       "      <td>NaN</td>\n",
       "      <td>NaN</td>\n",
       "      <td>NaN</td>\n",
       "      <td>NaN</td>\n",
       "      <td>NaN</td>\n",
       "      <td>NaN</td>\n",
       "      <td>NaN</td>\n",
       "      <td>NaN</td>\n",
       "      <td>NaN</td>\n",
       "    </tr>\n",
       "    <tr>\n",
       "      <td>3</td>\n",
       "      <td>2615400</td>\n",
       "      <td>2087.0</td>\n",
       "      <td>955653.0</td>\n",
       "      <td>1708.0</td>\n",
       "      <td>2000.0</td>\n",
       "      <td>2133.0</td>\n",
       "      <td>1827.0</td>\n",
       "      <td>1889.0</td>\n",
       "      <td>1903.0</td>\n",
       "      <td>1872.0</td>\n",
       "      <td>...</td>\n",
       "      <td>NaN</td>\n",
       "      <td>NaN</td>\n",
       "      <td>NaN</td>\n",
       "      <td>NaN</td>\n",
       "      <td>NaN</td>\n",
       "      <td>NaN</td>\n",
       "      <td>NaN</td>\n",
       "      <td>NaN</td>\n",
       "      <td>NaN</td>\n",
       "      <td>NaN</td>\n",
       "    </tr>\n",
       "    <tr>\n",
       "      <td>4</td>\n",
       "      <td>1855817</td>\n",
       "      <td>NaN</td>\n",
       "      <td>NaN</td>\n",
       "      <td>NaN</td>\n",
       "      <td>NaN</td>\n",
       "      <td>NaN</td>\n",
       "      <td>NaN</td>\n",
       "      <td>NaN</td>\n",
       "      <td>NaN</td>\n",
       "      <td>383.0</td>\n",
       "      <td>...</td>\n",
       "      <td>NaN</td>\n",
       "      <td>NaN</td>\n",
       "      <td>NaN</td>\n",
       "      <td>NaN</td>\n",
       "      <td>NaN</td>\n",
       "      <td>NaN</td>\n",
       "      <td>NaN</td>\n",
       "      <td>NaN</td>\n",
       "      <td>NaN</td>\n",
       "      <td>NaN</td>\n",
       "    </tr>\n",
       "  </tbody>\n",
       "</table>\n",
       "<p>5 rows × 27 columns</p>\n",
       "</div>"
      ],
      "text/plain": [
       "     entry  2018/19_total_points  2018/19_rank  2011/12_total_points  \\\n",
       "0  2694922                   NaN           NaN                   NaN   \n",
       "1   240854                1645.0     4988634.0                   NaN   \n",
       "2  1672641                1834.0     3771687.0                   NaN   \n",
       "3  2615400                2087.0      955653.0                1708.0   \n",
       "4  1855817                   NaN           NaN                   NaN   \n",
       "\n",
       "   2012/13_total_points  2013/14_total_points  2014/15_total_points  \\\n",
       "0                   NaN                   NaN                   NaN   \n",
       "1                   NaN                   NaN                   NaN   \n",
       "2                   NaN                   NaN                   NaN   \n",
       "3                2000.0                2133.0                1827.0   \n",
       "4                   NaN                   NaN                   NaN   \n",
       "\n",
       "   2015/16_total_points  2016/17_total_points  2017/18_total_points  ...  \\\n",
       "0                   NaN                   NaN                   NaN  ...   \n",
       "1                   NaN                   NaN                   NaN  ...   \n",
       "2                   NaN                   NaN                   NaN  ...   \n",
       "3                1889.0                1903.0                1872.0  ...   \n",
       "4                   NaN                   NaN                 383.0  ...   \n",
       "\n",
       "   2010/11_total_points  2010/11_rank  2008/09_total_points  \\\n",
       "0                   NaN           NaN                   NaN   \n",
       "1                   NaN           NaN                   NaN   \n",
       "2                   NaN           NaN                   NaN   \n",
       "3                   NaN           NaN                   NaN   \n",
       "4                   NaN           NaN                   NaN   \n",
       "\n",
       "   2009/10_total_points  2008/09_rank  2009/10_rank  2006/07_total_points  \\\n",
       "0                   NaN           NaN           NaN                   NaN   \n",
       "1                   NaN           NaN           NaN                   NaN   \n",
       "2                   NaN           NaN           NaN                   NaN   \n",
       "3                   NaN           NaN           NaN                   NaN   \n",
       "4                   NaN           NaN           NaN                   NaN   \n",
       "\n",
       "   2007/08_total_points  2006/07_rank  2007/08_rank  \n",
       "0                   NaN           NaN           NaN  \n",
       "1                   NaN           NaN           NaN  \n",
       "2                   NaN           NaN           NaN  \n",
       "3                   NaN           NaN           NaN  \n",
       "4                   NaN           NaN           NaN  \n",
       "\n",
       "[5 rows x 27 columns]"
      ]
     },
     "execution_count": 23,
     "metadata": {},
     "output_type": "execute_result"
    }
   ],
   "source": [
    "entry_past_df = pd.DataFrame([\n",
    "    dict([\n",
    "        ('entry', i['entry'])        \n",
    "    ] +\n",
    "    [\n",
    "        (j['season_name'] + '_total_points', j['total_points'])\n",
    "        for j in i['past']\n",
    "    ] +\n",
    "    [\n",
    "        (j['season_name'] + '_rank', j['rank'])\n",
    "        for j in i['past']\n",
    "    ])\n",
    "    for i in entry_history_arr\n",
    "])\n",
    "\n",
    "entry_past_df.head()"
   ]
  },
  {
   "cell_type": "code",
   "execution_count": 25,
   "metadata": {
    "ExecuteTime": {
     "end_time": "2019-09-10T10:12:00.735250Z",
     "start_time": "2019-09-10T10:12:00.709214Z"
    }
   },
   "outputs": [
    {
     "data": {
      "text/plain": [
       "281"
      ]
     },
     "execution_count": 25,
     "metadata": {},
     "output_type": "execute_result"
    }
   ],
   "source": [
    "top_entries = entry_past_df[\n",
    "    (entry_past_df['2018/19_rank'] < 30000)\n",
    "    & (entry_past_df['2017/18_rank'] < 30000)\n",
    "    & (entry_past_df['2016/17_rank'] < 30000)\n",
    "]['entry'].values\n",
    "\n",
    "len(top_entries)"
   ]
  },
  {
   "cell_type": "code",
   "execution_count": null,
   "metadata": {},
   "outputs": [],
   "source": []
  },
  {
   "cell_type": "code",
   "execution_count": 48,
   "metadata": {
    "ExecuteTime": {
     "end_time": "2019-09-10T14:16:22.202576Z",
     "start_time": "2019-09-10T14:16:22.190255Z"
    }
   },
   "outputs": [
    {
     "name": "stderr",
     "output_type": "stream",
     "text": [
      "/home/tom/footbot/venv/lib/python3.6/site-packages/ipykernel_launcher.py:1: FutureWarning: The signature of `Series.to_csv` was aligned to that of `DataFrame.to_csv`, and argument 'header' will change its default value from False to True: please pass an explicit value to suppress this warning.\n",
      "  \"\"\"Entry point for launching an IPython kernel.\n"
     ]
    }
   ],
   "source": [
    "pd.Series(top_entries).to_csv('./top_entries.csv', index=False)"
   ]
  },
  {
   "cell_type": "code",
   "execution_count": 26,
   "metadata": {
    "ExecuteTime": {
     "end_time": "2019-09-10T10:12:05.180096Z",
     "start_time": "2019-09-10T10:12:05.083303Z"
    }
   },
   "outputs": [
    {
     "data": {
      "text/plain": [
       "4"
      ]
     },
     "execution_count": 26,
     "metadata": {},
     "output_type": "execute_result"
    }
   ],
   "source": [
    "bootstrap_request = requests.get('https://fantasy.premierleague.com/api/bootstrap-static/')\n",
    "bootstrap_data = bootstrap_request.json()\n",
    "\n",
    "current_event = [i for i in bootstrap_data['events'] if i['is_current']][0]['id']\n",
    "current_event"
   ]
  },
  {
   "cell_type": "code",
   "execution_count": 28,
   "metadata": {
    "ExecuteTime": {
     "end_time": "2019-09-10T10:12:20.967800Z",
     "start_time": "2019-09-10T10:12:20.928065Z"
    }
   },
   "outputs": [],
   "source": [
    "element_df = pd.DataFrame(\n",
    "    bootstrap_data['elements']\n",
    ")\n",
    "\n",
    "element_df = element_df[['id', 'web_name']]\n",
    "element_df.columns = ['element', 'web_name']"
   ]
  },
  {
   "cell_type": "code",
   "execution_count": 29,
   "metadata": {
    "ExecuteTime": {
     "end_time": "2019-09-10T10:13:46.603359Z",
     "start_time": "2019-09-10T10:12:22.536963Z"
    }
   },
   "outputs": [
    {
     "name": "stdout",
     "output_type": "stream",
     "text": [
      "1124\n"
     ]
    }
   ],
   "source": [
    "entry_season_arr = []\n",
    "\n",
    "for i in top_entries:\n",
    "    for j in range(1, current_event + 1):\n",
    "        try:\n",
    "            entry_season_request = requests.get(f'https://fantasy.premierleague.com/api/entry/{i}/event/{j}/picks/')\n",
    "            entry_season_data = entry_season_request.json()\n",
    "            entry_season_data['entry'] = i\n",
    "            entry_season_data['event'] = j\n",
    "            entry_season_arr.append(entry_season_data)\n",
    "        except Exception as e:\n",
    "            continue\n",
    "\n",
    "print(len(entry_season_arr))"
   ]
  },
  {
   "cell_type": "code",
   "execution_count": 65,
   "metadata": {
    "ExecuteTime": {
     "end_time": "2019-09-10T14:49:41.580186Z",
     "start_time": "2019-09-10T14:49:41.463833Z"
    }
   },
   "outputs": [],
   "source": [
    "picks_df = pd.DataFrame(\n",
    "    [\n",
    "        update_return_dict(j, ['entry', 'event'], [i['entry'], i['event']])\n",
    "        for i in entry_season_arr for j in i['picks']\n",
    "    ])"
   ]
  },
  {
   "cell_type": "code",
   "execution_count": 68,
   "metadata": {
    "ExecuteTime": {
     "end_time": "2019-09-10T15:00:40.498812Z",
     "start_time": "2019-09-10T15:00:40.464525Z"
    }
   },
   "outputs": [
    {
     "data": {
      "text/html": [
       "<div>\n",
       "<style scoped>\n",
       "    .dataframe tbody tr th:only-of-type {\n",
       "        vertical-align: middle;\n",
       "    }\n",
       "\n",
       "    .dataframe tbody tr th {\n",
       "        vertical-align: top;\n",
       "    }\n",
       "\n",
       "    .dataframe thead th {\n",
       "        text-align: right;\n",
       "    }\n",
       "</style>\n",
       "<table border=\"1\" class=\"dataframe\">\n",
       "  <thead>\n",
       "    <tr style=\"text-align: right;\">\n",
       "      <th></th>\n",
       "      <th>entry</th>\n",
       "      <th>event</th>\n",
       "      <th>element</th>\n",
       "      <th>position</th>\n",
       "      <th>multiplier</th>\n",
       "      <th>is_captain</th>\n",
       "      <th>is_vice_captain</th>\n",
       "    </tr>\n",
       "  </thead>\n",
       "  <tbody>\n",
       "    <tr>\n",
       "      <td>0</td>\n",
       "      <td>75733</td>\n",
       "      <td>1</td>\n",
       "      <td>47</td>\n",
       "      <td>1</td>\n",
       "      <td>1</td>\n",
       "      <td>False</td>\n",
       "      <td>False</td>\n",
       "    </tr>\n",
       "    <tr>\n",
       "      <td>1</td>\n",
       "      <td>75733</td>\n",
       "      <td>1</td>\n",
       "      <td>183</td>\n",
       "      <td>2</td>\n",
       "      <td>1</td>\n",
       "      <td>False</td>\n",
       "      <td>False</td>\n",
       "    </tr>\n",
       "    <tr>\n",
       "      <td>2</td>\n",
       "      <td>75733</td>\n",
       "      <td>1</td>\n",
       "      <td>141</td>\n",
       "      <td>3</td>\n",
       "      <td>1</td>\n",
       "      <td>False</td>\n",
       "      <td>False</td>\n",
       "    </tr>\n",
       "    <tr>\n",
       "      <td>3</td>\n",
       "      <td>75733</td>\n",
       "      <td>1</td>\n",
       "      <td>206</td>\n",
       "      <td>4</td>\n",
       "      <td>1</td>\n",
       "      <td>False</td>\n",
       "      <td>False</td>\n",
       "    </tr>\n",
       "    <tr>\n",
       "      <td>4</td>\n",
       "      <td>75733</td>\n",
       "      <td>1</td>\n",
       "      <td>265</td>\n",
       "      <td>5</td>\n",
       "      <td>1</td>\n",
       "      <td>False</td>\n",
       "      <td>False</td>\n",
       "    </tr>\n",
       "    <tr>\n",
       "      <td>...</td>\n",
       "      <td>...</td>\n",
       "      <td>...</td>\n",
       "      <td>...</td>\n",
       "      <td>...</td>\n",
       "      <td>...</td>\n",
       "      <td>...</td>\n",
       "      <td>...</td>\n",
       "    </tr>\n",
       "    <tr>\n",
       "      <td>16855</td>\n",
       "      <td>99574</td>\n",
       "      <td>4</td>\n",
       "      <td>278</td>\n",
       "      <td>11</td>\n",
       "      <td>1</td>\n",
       "      <td>False</td>\n",
       "      <td>False</td>\n",
       "    </tr>\n",
       "    <tr>\n",
       "      <td>16856</td>\n",
       "      <td>99574</td>\n",
       "      <td>4</td>\n",
       "      <td>48</td>\n",
       "      <td>12</td>\n",
       "      <td>0</td>\n",
       "      <td>False</td>\n",
       "      <td>False</td>\n",
       "    </tr>\n",
       "    <tr>\n",
       "      <td>16857</td>\n",
       "      <td>99574</td>\n",
       "      <td>4</td>\n",
       "      <td>128</td>\n",
       "      <td>13</td>\n",
       "      <td>0</td>\n",
       "      <td>False</td>\n",
       "      <td>False</td>\n",
       "    </tr>\n",
       "    <tr>\n",
       "      <td>16858</td>\n",
       "      <td>99574</td>\n",
       "      <td>4</td>\n",
       "      <td>234</td>\n",
       "      <td>14</td>\n",
       "      <td>0</td>\n",
       "      <td>False</td>\n",
       "      <td>False</td>\n",
       "    </tr>\n",
       "    <tr>\n",
       "      <td>16859</td>\n",
       "      <td>99574</td>\n",
       "      <td>4</td>\n",
       "      <td>297</td>\n",
       "      <td>15</td>\n",
       "      <td>0</td>\n",
       "      <td>False</td>\n",
       "      <td>False</td>\n",
       "    </tr>\n",
       "  </tbody>\n",
       "</table>\n",
       "<p>16860 rows × 7 columns</p>\n",
       "</div>"
      ],
      "text/plain": [
       "       entry  event  element  position  multiplier  is_captain  \\\n",
       "0      75733      1       47         1           1       False   \n",
       "1      75733      1      183         2           1       False   \n",
       "2      75733      1      141         3           1       False   \n",
       "3      75733      1      206         4           1       False   \n",
       "4      75733      1      265         5           1       False   \n",
       "...      ...    ...      ...       ...         ...         ...   \n",
       "16855  99574      4      278        11           1       False   \n",
       "16856  99574      4       48        12           0       False   \n",
       "16857  99574      4      128        13           0       False   \n",
       "16858  99574      4      234        14           0       False   \n",
       "16859  99574      4      297        15           0       False   \n",
       "\n",
       "       is_vice_captain  \n",
       "0                False  \n",
       "1                False  \n",
       "2                False  \n",
       "3                False  \n",
       "4                False  \n",
       "...                ...  \n",
       "16855            False  \n",
       "16856            False  \n",
       "16857            False  \n",
       "16858            False  \n",
       "16859            False  \n",
       "\n",
       "[16860 rows x 7 columns]"
      ]
     },
     "execution_count": 68,
     "metadata": {},
     "output_type": "execute_result"
    }
   ],
   "source": [
    "picks_df[\n",
    "    [\n",
    "        'entry',\n",
    "        'event'\n",
    "    ]\n",
    "    + list(picks_df.columns)[:-2]\n",
    "]"
   ]
  },
  {
   "cell_type": "code",
   "execution_count": 71,
   "metadata": {
    "ExecuteTime": {
     "end_time": "2019-09-10T15:04:05.492708Z",
     "start_time": "2019-09-10T15:04:05.483446Z"
    }
   },
   "outputs": [],
   "source": [
    "def get_dict_keys(d, k):\n",
    "    if not (isinstance, k, list):\n",
    "        raise Exception\n",
    "    arr = []\n",
    "    for i in k:\n",
    "        arr.append((i, d[i]))\n",
    "    \n",
    "    return dict(arr)"
   ]
  },
  {
   "cell_type": "code",
   "execution_count": 73,
   "metadata": {
    "ExecuteTime": {
     "end_time": "2019-09-10T15:04:14.641774Z",
     "start_time": "2019-09-10T15:04:14.632843Z"
    }
   },
   "outputs": [
    {
     "data": {
      "text/plain": [
       "{'a': 1}"
      ]
     },
     "execution_count": 73,
     "metadata": {},
     "output_type": "execute_result"
    }
   ],
   "source": [
    "get_dict_keys({'a': 1, 'b': 2}, ['a'])"
   ]
  },
  {
   "cell_type": "code",
   "execution_count": 81,
   "metadata": {
    "ExecuteTime": {
     "end_time": "2019-09-10T15:25:30.959281Z",
     "start_time": "2019-09-10T15:25:30.918712Z"
    }
   },
   "outputs": [
    {
     "data": {
      "text/html": [
       "<div>\n",
       "<style scoped>\n",
       "    .dataframe tbody tr th:only-of-type {\n",
       "        vertical-align: middle;\n",
       "    }\n",
       "\n",
       "    .dataframe tbody tr th {\n",
       "        vertical-align: top;\n",
       "    }\n",
       "\n",
       "    .dataframe thead th {\n",
       "        text-align: right;\n",
       "    }\n",
       "</style>\n",
       "<table border=\"1\" class=\"dataframe\">\n",
       "  <thead>\n",
       "    <tr style=\"text-align: right;\">\n",
       "      <th></th>\n",
       "      <th>entry</th>\n",
       "      <th>event</th>\n",
       "      <th>active_chip</th>\n",
       "    </tr>\n",
       "  </thead>\n",
       "  <tbody>\n",
       "    <tr>\n",
       "      <td>0</td>\n",
       "      <td>75733</td>\n",
       "      <td>1</td>\n",
       "      <td>None</td>\n",
       "    </tr>\n",
       "    <tr>\n",
       "      <td>1</td>\n",
       "      <td>75733</td>\n",
       "      <td>2</td>\n",
       "      <td>None</td>\n",
       "    </tr>\n",
       "    <tr>\n",
       "      <td>2</td>\n",
       "      <td>75733</td>\n",
       "      <td>3</td>\n",
       "      <td>None</td>\n",
       "    </tr>\n",
       "    <tr>\n",
       "      <td>3</td>\n",
       "      <td>75733</td>\n",
       "      <td>4</td>\n",
       "      <td>None</td>\n",
       "    </tr>\n",
       "    <tr>\n",
       "      <td>4</td>\n",
       "      <td>74662</td>\n",
       "      <td>1</td>\n",
       "      <td>None</td>\n",
       "    </tr>\n",
       "    <tr>\n",
       "      <td>...</td>\n",
       "      <td>...</td>\n",
       "      <td>...</td>\n",
       "      <td>...</td>\n",
       "    </tr>\n",
       "    <tr>\n",
       "      <td>1119</td>\n",
       "      <td>119606</td>\n",
       "      <td>4</td>\n",
       "      <td>None</td>\n",
       "    </tr>\n",
       "    <tr>\n",
       "      <td>1120</td>\n",
       "      <td>99574</td>\n",
       "      <td>1</td>\n",
       "      <td>None</td>\n",
       "    </tr>\n",
       "    <tr>\n",
       "      <td>1121</td>\n",
       "      <td>99574</td>\n",
       "      <td>2</td>\n",
       "      <td>None</td>\n",
       "    </tr>\n",
       "    <tr>\n",
       "      <td>1122</td>\n",
       "      <td>99574</td>\n",
       "      <td>3</td>\n",
       "      <td>None</td>\n",
       "    </tr>\n",
       "    <tr>\n",
       "      <td>1123</td>\n",
       "      <td>99574</td>\n",
       "      <td>4</td>\n",
       "      <td>wildcard</td>\n",
       "    </tr>\n",
       "  </tbody>\n",
       "</table>\n",
       "<p>1124 rows × 3 columns</p>\n",
       "</div>"
      ],
      "text/plain": [
       "       entry  event active_chip\n",
       "0      75733      1        None\n",
       "1      75733      2        None\n",
       "2      75733      3        None\n",
       "3      75733      4        None\n",
       "4      74662      1        None\n",
       "...      ...    ...         ...\n",
       "1119  119606      4        None\n",
       "1120   99574      1        None\n",
       "1121   99574      2        None\n",
       "1122   99574      3        None\n",
       "1123   99574      4    wildcard\n",
       "\n",
       "[1124 rows x 3 columns]"
      ]
     },
     "execution_count": 81,
     "metadata": {},
     "output_type": "execute_result"
    }
   ],
   "source": [
    "chips_df = pd.DataFrame([\n",
    "    get_dict_keys(i, ['entry', 'event', 'active_chip'])\n",
    "    for i in entry_season_arr\n",
    "])\n",
    "\n",
    "chips_df"
   ]
  },
  {
   "cell_type": "code",
   "execution_count": 30,
   "metadata": {
    "ExecuteTime": {
     "end_time": "2019-09-10T10:14:26.192653Z",
     "start_time": "2019-09-10T10:14:26.185335Z"
    }
   },
   "outputs": [],
   "source": [
    "current_event_arr = [i for i in entry_season_arr if i['event'] == current_event]"
   ]
  },
  {
   "cell_type": "code",
   "execution_count": 31,
   "metadata": {
    "ExecuteTime": {
     "end_time": "2019-09-10T10:14:26.972263Z",
     "start_time": "2019-09-10T10:14:26.904921Z"
    }
   },
   "outputs": [],
   "source": [
    "current_event_picks_df = pd.DataFrame([j for sl in [i['picks'] for i in current_event_arr] for j in sl])\n",
    "\n",
    "current_event_picks_df['is_first_team'] = current_event_picks_df['position'].apply(lambda x: 1 if x <= 11 else 0)\n",
    "current_event_picks_df['is_owned'] = 1\n",
    "\n",
    "current_event_picks_df = current_event_picks_df.groupby('element', as_index=False).sum().round(2).join(\n",
    "    element_df.set_index('element'), on='element'\n",
    ").sort_values('is_owned', ascending=False)\n",
    "\n",
    "current_event_picks_df = current_event_picks_df[\n",
    "    ['element', 'web_name', 'is_owned', 'is_first_team', 'is_captain', 'is_vice_captain']]"
   ]
  },
  {
   "cell_type": "markdown",
   "metadata": {},
   "source": [
    "# Analysing data"
   ]
  },
  {
   "cell_type": "markdown",
   "metadata": {},
   "source": [
    "## Player selections"
   ]
  },
  {
   "cell_type": "code",
   "execution_count": 50,
   "metadata": {
    "ExecuteTime": {
     "end_time": "2019-09-10T14:32:20.393709Z",
     "start_time": "2019-09-10T14:32:20.357862Z"
    }
   },
   "outputs": [
    {
     "data": {
      "text/html": [
       "<div>\n",
       "<style scoped>\n",
       "    .dataframe tbody tr th:only-of-type {\n",
       "        vertical-align: middle;\n",
       "    }\n",
       "\n",
       "    .dataframe tbody tr th {\n",
       "        vertical-align: top;\n",
       "    }\n",
       "\n",
       "    .dataframe thead th {\n",
       "        text-align: right;\n",
       "    }\n",
       "</style>\n",
       "<table border=\"1\" class=\"dataframe\">\n",
       "  <thead>\n",
       "    <tr style=\"text-align: right;\">\n",
       "      <th></th>\n",
       "      <th>element</th>\n",
       "      <th>web_name</th>\n",
       "      <th>is_owned</th>\n",
       "      <th>is_first_team</th>\n",
       "      <th>is_captain</th>\n",
       "      <th>is_vice_captain</th>\n",
       "    </tr>\n",
       "  </thead>\n",
       "  <tbody>\n",
       "    <tr>\n",
       "      <td>66</td>\n",
       "      <td>214</td>\n",
       "      <td>Sterling</td>\n",
       "      <td>261</td>\n",
       "      <td>261</td>\n",
       "      <td>240.0</td>\n",
       "      <td>18.0</td>\n",
       "    </tr>\n",
       "    <tr>\n",
       "      <td>57</td>\n",
       "      <td>191</td>\n",
       "      <td>Salah</td>\n",
       "      <td>232</td>\n",
       "      <td>232</td>\n",
       "      <td>9.0</td>\n",
       "      <td>160.0</td>\n",
       "    </tr>\n",
       "    <tr>\n",
       "      <td>89</td>\n",
       "      <td>297</td>\n",
       "      <td>Lundstram</td>\n",
       "      <td>210</td>\n",
       "      <td>41</td>\n",
       "      <td>0.0</td>\n",
       "      <td>0.0</td>\n",
       "    </tr>\n",
       "    <tr>\n",
       "      <td>82</td>\n",
       "      <td>278</td>\n",
       "      <td>Pukki</td>\n",
       "      <td>209</td>\n",
       "      <td>209</td>\n",
       "      <td>0.0</td>\n",
       "      <td>12.0</td>\n",
       "    </tr>\n",
       "    <tr>\n",
       "      <td>37</td>\n",
       "      <td>141</td>\n",
       "      <td>Digne</td>\n",
       "      <td>199</td>\n",
       "      <td>199</td>\n",
       "      <td>0.0</td>\n",
       "      <td>1.0</td>\n",
       "    </tr>\n",
       "    <tr>\n",
       "      <td>...</td>\n",
       "      <td>...</td>\n",
       "      <td>...</td>\n",
       "      <td>...</td>\n",
       "      <td>...</td>\n",
       "      <td>...</td>\n",
       "      <td>...</td>\n",
       "    </tr>\n",
       "    <tr>\n",
       "      <td>90</td>\n",
       "      <td>307</td>\n",
       "      <td>Bednarek</td>\n",
       "      <td>1</td>\n",
       "      <td>1</td>\n",
       "      <td>0.0</td>\n",
       "      <td>0.0</td>\n",
       "    </tr>\n",
       "    <tr>\n",
       "      <td>34</td>\n",
       "      <td>131</td>\n",
       "      <td>Guaita</td>\n",
       "      <td>1</td>\n",
       "      <td>1</td>\n",
       "      <td>0.0</td>\n",
       "      <td>0.0</td>\n",
       "    </tr>\n",
       "    <tr>\n",
       "      <td>95</td>\n",
       "      <td>320</td>\n",
       "      <td>Redmond</td>\n",
       "      <td>1</td>\n",
       "      <td>0</td>\n",
       "      <td>0.0</td>\n",
       "      <td>0.0</td>\n",
       "    </tr>\n",
       "    <tr>\n",
       "      <td>124</td>\n",
       "      <td>414</td>\n",
       "      <td>Neves</td>\n",
       "      <td>1</td>\n",
       "      <td>1</td>\n",
       "      <td>0.0</td>\n",
       "      <td>0.0</td>\n",
       "    </tr>\n",
       "    <tr>\n",
       "      <td>73</td>\n",
       "      <td>235</td>\n",
       "      <td>de Gea</td>\n",
       "      <td>1</td>\n",
       "      <td>1</td>\n",
       "      <td>0.0</td>\n",
       "      <td>0.0</td>\n",
       "    </tr>\n",
       "  </tbody>\n",
       "</table>\n",
       "<p>147 rows × 6 columns</p>\n",
       "</div>"
      ],
      "text/plain": [
       "     element   web_name  is_owned  is_first_team  is_captain  is_vice_captain\n",
       "66       214   Sterling       261            261       240.0             18.0\n",
       "57       191      Salah       232            232         9.0            160.0\n",
       "89       297  Lundstram       210             41         0.0              0.0\n",
       "82       278      Pukki       209            209         0.0             12.0\n",
       "37       141      Digne       199            199         0.0              1.0\n",
       "..       ...        ...       ...            ...         ...              ...\n",
       "90       307   Bednarek         1              1         0.0              0.0\n",
       "34       131     Guaita         1              1         0.0              0.0\n",
       "95       320    Redmond         1              0         0.0              0.0\n",
       "124      414      Neves         1              1         0.0              0.0\n",
       "73       235     de Gea         1              1         0.0              0.0\n",
       "\n",
       "[147 rows x 6 columns]"
      ]
     },
     "execution_count": 50,
     "metadata": {},
     "output_type": "execute_result"
    }
   ],
   "source": []
  },
  {
   "cell_type": "code",
   "execution_count": 49,
   "metadata": {
    "ExecuteTime": {
     "end_time": "2019-09-10T14:21:01.633459Z",
     "start_time": "2019-09-10T14:21:00.806110Z"
    }
   },
   "outputs": [
    {
     "data": {
      "image/png": "[encoded data removed]",
      "text/plain": [
       "<Figure size 864x576 with 1 Axes>"
      ]
     },
     "metadata": {
      "needs_background": "light"
     },
     "output_type": "display_data"
    }
   ],
   "source": [
    "plt.figure(figsize=(12, 8))\n",
    "plt.bar(\n",
    "    current_event_picks_df['web_name'].iloc[:40],\n",
    "    current_event_picks_df['is_owned'].iloc[:40],   \n",
    ")\n",
    "plt.xticks(rotation='vertical')\n",
    "plt.grid()\n",
    "plt.show()"
   ]
  },
  {
   "cell_type": "markdown",
   "metadata": {},
   "source": [
    "## Wildcards"
   ]
  },
  {
   "cell_type": "code",
   "execution_count": 33,
   "metadata": {
    "ExecuteTime": {
     "end_time": "2019-09-10T10:14:42.984038Z",
     "start_time": "2019-09-10T10:14:42.965539Z"
    }
   },
   "outputs": [
    {
     "data": {
      "text/plain": [
       "event\n",
       "2    0.01\n",
       "3    0.15\n",
       "4    0.12\n",
       "dtype: float64"
      ]
     },
     "execution_count": 33,
     "metadata": {},
     "output_type": "execute_result"
    }
   ],
   "source": [
    "wildcard_df = pd.DataFrame(\n",
    "    [dict([('event', i['event'])]) for i in entry_season_arr if i['active_chip'] == 'wildcard'])\n",
    "\n",
    "(wildcard_df.groupby('event').size()/len(top_entries)).round(2)"
   ]
  },
  {
   "cell_type": "markdown",
   "metadata": {},
   "source": [
    "## Current performance"
   ]
  },
  {
   "cell_type": "code",
   "execution_count": 34,
   "metadata": {
    "ExecuteTime": {
     "end_time": "2019-09-10T10:14:51.824389Z",
     "start_time": "2019-09-10T10:14:51.395251Z"
    }
   },
   "outputs": [
    {
     "data": {
      "image/png": "[encoded data removed]",
      "text/plain": [
       "<Figure size 720x576 with 1 Axes>"
      ]
     },
     "metadata": {
      "needs_background": "light"
     },
     "output_type": "display_data"
    }
   ],
   "source": [
    "plt.figure(figsize=(10, 8))\n",
    "plt.hist(\n",
    "    pd.Series([i['entry_history']['overall_rank'] for i in current_event_arr]),\n",
    "    bins=20,\n",
    "    cumulative=True,\n",
    "    density=True\n",
    ")\n",
    "plt.grid()\n",
    "plt.show()"
   ]
  },
  {
   "cell_type": "markdown",
   "metadata": {},
   "source": [
    "## Historic performance"
   ]
  },
  {
   "cell_type": "code",
   "execution_count": 35,
   "metadata": {
    "ExecuteTime": {
     "end_time": "2019-09-10T10:15:01.193859Z",
     "start_time": "2019-09-10T10:15:01.119052Z"
    }
   },
   "outputs": [],
   "source": [
    "hist_perf_df = entry_past_df[[\n",
    "    'entry',\n",
    "    '2018/19_rank',\n",
    "    '2017/18_rank',\n",
    "    '2016/17_rank'\n",
    "]].dropna()"
   ]
  },
  {
   "cell_type": "code",
   "execution_count": 36,
   "metadata": {
    "ExecuteTime": {
     "end_time": "2019-09-10T10:15:02.260210Z",
     "start_time": "2019-09-10T10:15:01.570985Z"
    }
   },
   "outputs": [
    {
     "data": {
      "image/png": "[encoded data removed]",
      "text/plain": [
       "<Figure size 720x576 with 1 Axes>"
      ]
     },
     "metadata": {
      "needs_background": "light"
     },
     "output_type": "display_data"
    }
   ],
   "source": [
    "plt.figure(figsize=(10, 8))\n",
    "plt.hist(\n",
    "    hist_perf_df[hist_perf_df['2018/19_rank'] < 20000]['2017/18_rank'],\n",
    "    bins=50,\n",
    "    alpha=0.5,\n",
    "    density=True,\n",
    "    cumulative=True\n",
    ")\n",
    "plt.hist(\n",
    "    hist_perf_df[hist_perf_df['2018/19_rank'] < 20000]['2016/17_rank'],\n",
    "    bins=50,\n",
    "    alpha=0.5,\n",
    "    density=True,\n",
    "    cumulative=True\n",
    ")\n",
    "plt.xlim(0, 1000000)\n",
    "plt.grid()\n",
    "plt.show()"
   ]
  },
  {
   "cell_type": "code",
   "execution_count": 37,
   "metadata": {
    "ExecuteTime": {
     "end_time": "2019-09-10T10:15:03.739926Z",
     "start_time": "2019-09-10T10:15:03.154986Z"
    }
   },
   "outputs": [
    {
     "data": {
      "image/png": "[encoded data removed]",
      "text/plain": [
       "<Figure size 720x576 with 1 Axes>"
      ]
     },
     "metadata": {
      "needs_background": "light"
     },
     "output_type": "display_data"
    }
   ],
   "source": [
    "hist_perf_df['avg_rank'] = (hist_perf_df['2017/18_rank'] + hist_perf_df['2016/17_rank'])/2\n",
    "\n",
    "plt.figure(figsize=(10, 8))\n",
    "plt.scatter(\n",
    "    hist_perf_df[hist_perf_df['avg_rank'] < 100000]['2018/19_rank'],\n",
    "    hist_perf_df[hist_perf_df['avg_rank'] < 100000]['avg_rank'],\n",
    "    alpha=0.25\n",
    ")\n",
    "plt.grid()\n",
    "plt.show()"
   ]
  },
  {
   "cell_type": "code",
   "execution_count": 38,
   "metadata": {
    "ExecuteTime": {
     "end_time": "2019-09-10T10:15:03.885936Z",
     "start_time": "2019-09-10T10:15:03.873340Z"
    }
   },
   "outputs": [
    {
     "data": {
      "text/plain": [
       "array([[1.       , 0.1400505],\n",
       "       [0.1400505, 1.       ]])"
      ]
     },
     "execution_count": 38,
     "metadata": {},
     "output_type": "execute_result"
    }
   ],
   "source": [
    "np.corrcoef(\n",
    "    hist_perf_df[hist_perf_df['avg_rank'] < 100000]['2018/19_rank'],\n",
    "    hist_perf_df[hist_perf_df['avg_rank'] < 100000]['avg_rank']\n",
    ")"
   ]
  },
  {
   "cell_type": "code",
   "execution_count": null,
   "metadata": {},
   "outputs": [],
   "source": []
  }
 ],
 "metadata": {
  "kernelspec": {
   "display_name": "Python 3",
   "language": "python",
   "name": "python3"
  },
  "language_info": {
   "codemirror_mode": {
    "name": "ipython",
    "version": 3
   },
   "file_extension": ".py",
   "mimetype": "text/x-python",
   "name": "python",
   "nbconvert_exporter": "python",
   "pygments_lexer": "ipython3",
   "version": "3.6.7"
  },
  "toc": {
   "nav_menu": {},
   "number_sections": true,
   "sideBar": true,
   "skip_h1_title": false,
   "title_cell": "Table of Contents",
   "title_sidebar": "Contents",
   "toc_cell": false,
   "toc_position": {},
   "toc_section_display": true,
   "toc_window_display": false
  }
 },
 "nbformat": 4,
 "nbformat_minor": 2
}
