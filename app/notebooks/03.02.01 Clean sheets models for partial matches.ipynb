{
 "cells": [
  {
   "cell_type": "markdown",
   "metadata": {
    "heading_collapsed": true
   },
   "source": [
    "# Set up"
   ]
  },
  {
   "cell_type": "code",
   "execution_count": 1,
   "metadata": {
    "ExecuteTime": {
     "end_time": "2019-04-09T15:27:42.228542Z",
     "start_time": "2019-04-09T15:27:42.219637Z"
    },
    "hidden": true
   },
   "outputs": [],
   "source": [
    "# update path with data dir\n",
    "import sys\n",
    "sys.path.append('../data/')\n",
    "sys.path.append('../modelling/')"
   ]
  },
  {
   "cell_type": "code",
   "execution_count": 2,
   "metadata": {
    "ExecuteTime": {
     "end_time": "2019-04-09T15:27:43.952452Z",
     "start_time": "2019-04-09T15:27:42.231690Z"
    },
    "hidden": true
   },
   "outputs": [
    {
     "name": "stderr",
     "output_type": "stream",
     "text": [
      "/home/tom/footbot/venv/lib/python3.6/site-packages/statsmodels/compat/pandas.py:56: FutureWarning: The pandas.core.datetools module is deprecated and will be removed in a future version. Please use the pandas.tseries module instead.\n",
      "  from pandas.core import datetools\n"
     ]
    }
   ],
   "source": [
    "import player_data as player\n",
    "import goodness_fit\n",
    "import pandas as pd\n",
    "from datetime import datetime\n",
    "import statsmodels.api as sm\n",
    "import matplotlib.pyplot as plt\n",
    "import numpy as np"
   ]
  },
  {
   "cell_type": "markdown",
   "metadata": {
    "heading_collapsed": true
   },
   "source": [
    "# Get data"
   ]
  },
  {
   "cell_type": "code",
   "execution_count": 3,
   "metadata": {
    "ExecuteTime": {
     "end_time": "2019-04-09T15:27:43.971754Z",
     "start_time": "2019-04-09T15:27:43.965367Z"
    },
    "hidden": true
   },
   "outputs": [],
   "source": [
    "file_name = 'csvs/element_gameweek_' + datetime.today().strftime('%Y-%m-%d') + '.csv'"
   ]
  },
  {
   "cell_type": "code",
   "execution_count": 4,
   "metadata": {
    "ExecuteTime": {
     "end_time": "2019-04-09T15:27:44.231644Z",
     "start_time": "2019-04-09T15:27:43.982311Z"
    },
    "hidden": true
   },
   "outputs": [],
   "source": [
    "try:\n",
    "    element_gameweek_df = pd.read_csv(file_name)\n",
    "except:\n",
    "    element_gameweek_df = player.get_element_gameweek_df()\n",
    "    element_gameweek_df.to_csv(file_name)"
   ]
  },
  {
   "cell_type": "code",
   "execution_count": 5,
   "metadata": {
    "ExecuteTime": {
     "end_time": "2019-04-09T15:27:44.246753Z",
     "start_time": "2019-04-09T15:27:44.239995Z"
    },
    "hidden": true
   },
   "outputs": [],
   "source": [
    "current_event = 32\n",
    "element_types = [1, 2, 3, 4]\n",
    "threshold_minutes = 1"
   ]
  },
  {
   "cell_type": "code",
   "execution_count": 6,
   "metadata": {
    "ExecuteTime": {
     "end_time": "2019-04-09T15:27:44.351387Z",
     "start_time": "2019-04-09T15:27:44.249805Z"
    },
    "hidden": true
   },
   "outputs": [],
   "source": [
    "element_gameweek_df =\\\n",
    "element_gameweek_df[\n",
    "    (element_gameweek_df['event'] <= current_event)\n",
    "    & (element_gameweek_df['element_type'].isin(element_types))\n",
    "    & (element_gameweek_df['minutes'] >= threshold_minutes)\n",
    "]"
   ]
  },
  {
   "cell_type": "code",
   "execution_count": 7,
   "metadata": {
    "ExecuteTime": {
     "end_time": "2019-04-09T15:27:44.503014Z",
     "start_time": "2019-04-09T15:27:44.354270Z"
    },
    "hidden": true
   },
   "outputs": [],
   "source": [
    "player.add_home_categorical_variable(element_gameweek_df)"
   ]
  },
  {
   "cell_type": "code",
   "execution_count": 8,
   "metadata": {
    "ExecuteTime": {
     "end_time": "2019-04-09T15:27:44.525059Z",
     "start_time": "2019-04-09T15:27:44.509670Z"
    },
    "hidden": true
   },
   "outputs": [],
   "source": [
    "element_gameweek_df['clean_sheets_no_time'] =\\\n",
    "element_gameweek_df['goals_conceded'].apply(lambda x: 1 if x == 0 else 0)"
   ]
  },
  {
   "cell_type": "code",
   "execution_count": 9,
   "metadata": {
    "ExecuteTime": {
     "end_time": "2019-04-09T15:27:44.684114Z",
     "start_time": "2019-04-09T15:27:44.527772Z"
    },
    "hidden": true
   },
   "outputs": [],
   "source": [
    "element_gameweek_df['row_id'] = element_gameweek_df['row_id'].rank()"
   ]
  },
  {
   "cell_type": "code",
   "execution_count": 10,
   "metadata": {
    "ExecuteTime": {
     "end_time": "2019-04-09T15:27:44.809963Z",
     "start_time": "2019-04-09T15:27:44.693842Z"
    },
    "hidden": true
   },
   "outputs": [],
   "source": [
    "element_gameweek_df['element_fixture_rank'] = element_gameweek_df.groupby('element')['row_id'].rank()"
   ]
  },
  {
   "cell_type": "code",
   "execution_count": 11,
   "metadata": {
    "ExecuteTime": {
     "end_time": "2019-04-09T15:27:45.945772Z",
     "start_time": "2019-04-09T15:27:44.818259Z"
    },
    "hidden": true
   },
   "outputs": [],
   "source": [
    "rolling_df = \\\n",
    "element_gameweek_df.copy().groupby('element', as_index=True)[['minutes', 'goals_conceded']]\\\n",
    ".rolling(38, min_periods=1).sum().reset_index()[['element', 'minutes', 'goals_conceded']]"
   ]
  },
  {
   "cell_type": "code",
   "execution_count": 12,
   "metadata": {
    "ExecuteTime": {
     "end_time": "2019-04-09T15:27:46.038370Z",
     "start_time": "2019-04-09T15:27:45.950052Z"
    },
    "hidden": true
   },
   "outputs": [],
   "source": [
    "rolling_df['element_fixture_rank'] = rolling_df.groupby('element')['minutes'].rank()"
   ]
  },
  {
   "cell_type": "code",
   "execution_count": 13,
   "metadata": {
    "ExecuteTime": {
     "end_time": "2019-04-09T15:27:46.052797Z",
     "start_time": "2019-04-09T15:27:46.045828Z"
    },
    "hidden": true
   },
   "outputs": [],
   "source": [
    "rolling_df['element_fixture_rank'] = rolling_df['element_fixture_rank'] + 1"
   ]
  },
  {
   "cell_type": "code",
   "execution_count": 14,
   "metadata": {
    "ExecuteTime": {
     "end_time": "2019-04-09T15:27:46.092140Z",
     "start_time": "2019-04-09T15:27:46.060819Z"
    },
    "hidden": true
   },
   "outputs": [],
   "source": [
    "element_gameweek_df =\\\n",
    "element_gameweek_df.join(\n",
    "    rolling_df.set_index(['element', 'element_fixture_rank']),\n",
    "    on=['element', 'element_fixture_rank'],\n",
    "    rsuffix='_rolling')"
   ]
  },
  {
   "cell_type": "code",
   "execution_count": 15,
   "metadata": {
    "ExecuteTime": {
     "end_time": "2019-04-09T15:27:46.108943Z",
     "start_time": "2019-04-09T15:27:46.100834Z"
    },
    "hidden": true
   },
   "outputs": [],
   "source": [
    "element_gameweek_df['goals_conceded_per_minute_rolling'] = \\\n",
    "element_gameweek_df['goals_conceded_rolling'] / element_gameweek_df['minutes_rolling']"
   ]
  },
  {
   "cell_type": "code",
   "execution_count": 16,
   "metadata": {
    "ExecuteTime": {
     "end_time": "2019-04-09T15:27:46.184596Z",
     "start_time": "2019-04-09T15:27:46.112684Z"
    },
    "hidden": true
   },
   "outputs": [
    {
     "data": {
      "text/html": [
       "<div>\n",
       "<style scoped>\n",
       "    .dataframe tbody tr th:only-of-type {\n",
       "        vertical-align: middle;\n",
       "    }\n",
       "\n",
       "    .dataframe tbody tr th {\n",
       "        vertical-align: top;\n",
       "    }\n",
       "\n",
       "    .dataframe thead th {\n",
       "        text-align: right;\n",
       "    }\n",
       "</style>\n",
       "<table border=\"1\" class=\"dataframe\">\n",
       "  <thead>\n",
       "    <tr style=\"text-align: right;\">\n",
       "      <th></th>\n",
       "      <th>row_id</th>\n",
       "      <th>assists</th>\n",
       "      <th>attempted_passes</th>\n",
       "      <th>big_chances_created</th>\n",
       "      <th>big_chances_missed</th>\n",
       "      <th>bonus</th>\n",
       "      <th>bps</th>\n",
       "      <th>clean_sheets</th>\n",
       "      <th>clearances_blocks_interceptions</th>\n",
       "      <th>completed_passes</th>\n",
       "      <th>...</th>\n",
       "      <th>team</th>\n",
       "      <th>web_name</th>\n",
       "      <th>safe_web_name</th>\n",
       "      <th>own_team</th>\n",
       "      <th>opposition_team</th>\n",
       "      <th>clean_sheets_no_time</th>\n",
       "      <th>element_fixture_rank</th>\n",
       "      <th>minutes_rolling</th>\n",
       "      <th>goals_conceded_rolling</th>\n",
       "      <th>goals_conceded_per_minute_rolling</th>\n",
       "    </tr>\n",
       "  </thead>\n",
       "  <tbody>\n",
       "    <tr>\n",
       "      <th>0</th>\n",
       "      <td>1.0</td>\n",
       "      <td>0</td>\n",
       "      <td>42</td>\n",
       "      <td>0</td>\n",
       "      <td>0</td>\n",
       "      <td>0</td>\n",
       "      <td>24</td>\n",
       "      <td>0</td>\n",
       "      <td>2</td>\n",
       "      <td>31</td>\n",
       "      <td>...</td>\n",
       "      <td>1</td>\n",
       "      <td>Cech</td>\n",
       "      <td>cech</td>\n",
       "      <td>1</td>\n",
       "      <td>13</td>\n",
       "      <td>0</td>\n",
       "      <td>1.0</td>\n",
       "      <td>NaN</td>\n",
       "      <td>NaN</td>\n",
       "      <td>NaN</td>\n",
       "    </tr>\n",
       "    <tr>\n",
       "      <th>1</th>\n",
       "      <td>2.0</td>\n",
       "      <td>0</td>\n",
       "      <td>35</td>\n",
       "      <td>0</td>\n",
       "      <td>0</td>\n",
       "      <td>0</td>\n",
       "      <td>26</td>\n",
       "      <td>0</td>\n",
       "      <td>1</td>\n",
       "      <td>25</td>\n",
       "      <td>...</td>\n",
       "      <td>1</td>\n",
       "      <td>Cech</td>\n",
       "      <td>cech</td>\n",
       "      <td>1</td>\n",
       "      <td>6</td>\n",
       "      <td>0</td>\n",
       "      <td>2.0</td>\n",
       "      <td>90.0</td>\n",
       "      <td>2.0</td>\n",
       "      <td>0.022222</td>\n",
       "    </tr>\n",
       "    <tr>\n",
       "      <th>2</th>\n",
       "      <td>3.0</td>\n",
       "      <td>0</td>\n",
       "      <td>24</td>\n",
       "      <td>0</td>\n",
       "      <td>0</td>\n",
       "      <td>0</td>\n",
       "      <td>17</td>\n",
       "      <td>0</td>\n",
       "      <td>0</td>\n",
       "      <td>20</td>\n",
       "      <td>...</td>\n",
       "      <td>1</td>\n",
       "      <td>Cech</td>\n",
       "      <td>cech</td>\n",
       "      <td>1</td>\n",
       "      <td>19</td>\n",
       "      <td>0</td>\n",
       "      <td>3.0</td>\n",
       "      <td>180.0</td>\n",
       "      <td>5.0</td>\n",
       "      <td>0.027778</td>\n",
       "    </tr>\n",
       "    <tr>\n",
       "      <th>3</th>\n",
       "      <td>4.0</td>\n",
       "      <td>0</td>\n",
       "      <td>38</td>\n",
       "      <td>0</td>\n",
       "      <td>0</td>\n",
       "      <td>0</td>\n",
       "      <td>8</td>\n",
       "      <td>0</td>\n",
       "      <td>0</td>\n",
       "      <td>24</td>\n",
       "      <td>...</td>\n",
       "      <td>1</td>\n",
       "      <td>Cech</td>\n",
       "      <td>cech</td>\n",
       "      <td>1</td>\n",
       "      <td>5</td>\n",
       "      <td>0</td>\n",
       "      <td>4.0</td>\n",
       "      <td>270.0</td>\n",
       "      <td>6.0</td>\n",
       "      <td>0.022222</td>\n",
       "    </tr>\n",
       "    <tr>\n",
       "      <th>4</th>\n",
       "      <td>5.0</td>\n",
       "      <td>0</td>\n",
       "      <td>33</td>\n",
       "      <td>0</td>\n",
       "      <td>0</td>\n",
       "      <td>0</td>\n",
       "      <td>13</td>\n",
       "      <td>0</td>\n",
       "      <td>2</td>\n",
       "      <td>23</td>\n",
       "      <td>...</td>\n",
       "      <td>1</td>\n",
       "      <td>Cech</td>\n",
       "      <td>cech</td>\n",
       "      <td>1</td>\n",
       "      <td>15</td>\n",
       "      <td>0</td>\n",
       "      <td>5.0</td>\n",
       "      <td>360.0</td>\n",
       "      <td>8.0</td>\n",
       "      <td>0.022222</td>\n",
       "    </tr>\n",
       "  </tbody>\n",
       "</table>\n",
       "<p>5 rows × 71 columns</p>\n",
       "</div>"
      ],
      "text/plain": [
       "   row_id  assists  attempted_passes  big_chances_created  big_chances_missed  \\\n",
       "0     1.0        0                42                    0                   0   \n",
       "1     2.0        0                35                    0                   0   \n",
       "2     3.0        0                24                    0                   0   \n",
       "3     4.0        0                38                    0                   0   \n",
       "4     5.0        0                33                    0                   0   \n",
       "\n",
       "   bonus  bps  clean_sheets  clearances_blocks_interceptions  \\\n",
       "0      0   24             0                                2   \n",
       "1      0   26             0                                1   \n",
       "2      0   17             0                                0   \n",
       "3      0    8             0                                0   \n",
       "4      0   13             0                                2   \n",
       "\n",
       "   completed_passes                ...                  team  web_name  \\\n",
       "0                31                ...                     1      Cech   \n",
       "1                25                ...                     1      Cech   \n",
       "2                20                ...                     1      Cech   \n",
       "3                24                ...                     1      Cech   \n",
       "4                23                ...                     1      Cech   \n",
       "\n",
       "   safe_web_name  own_team  opposition_team  clean_sheets_no_time  \\\n",
       "0           cech         1               13                     0   \n",
       "1           cech         1                6                     0   \n",
       "2           cech         1               19                     0   \n",
       "3           cech         1                5                     0   \n",
       "4           cech         1               15                     0   \n",
       "\n",
       "   element_fixture_rank  minutes_rolling  goals_conceded_rolling  \\\n",
       "0                   1.0              NaN                     NaN   \n",
       "1                   2.0             90.0                     2.0   \n",
       "2                   3.0            180.0                     5.0   \n",
       "3                   4.0            270.0                     6.0   \n",
       "4                   5.0            360.0                     8.0   \n",
       "\n",
       "   goals_conceded_per_minute_rolling  \n",
       "0                                NaN  \n",
       "1                           0.022222  \n",
       "2                           0.027778  \n",
       "3                           0.022222  \n",
       "4                           0.022222  \n",
       "\n",
       "[5 rows x 71 columns]"
      ]
     },
     "execution_count": 16,
     "metadata": {},
     "output_type": "execute_result"
    }
   ],
   "source": [
    "element_gameweek_df.head()"
   ]
  },
  {
   "cell_type": "code",
   "execution_count": 17,
   "metadata": {
    "ExecuteTime": {
     "end_time": "2019-04-09T15:27:46.213475Z",
     "start_time": "2019-04-09T15:27:46.205851Z"
    },
    "hidden": true
   },
   "outputs": [
    {
     "data": {
      "text/plain": [
       "Index(['row_id', 'assists', 'attempted_passes', 'big_chances_created',\n",
       "       'big_chances_missed', 'bonus', 'bps', 'clean_sheets',\n",
       "       'clearances_blocks_interceptions', 'completed_passes', 'creativity',\n",
       "       'dribbles', 'ea_index', 'element', 'errors_leading_to_goal',\n",
       "       'errors_leading_to_goal_attempt', 'fixture', 'fouls', 'goals_conceded',\n",
       "       'goals_scored', 'ict_index', 'id', 'influence', 'key_passes',\n",
       "       'kickoff_time', 'kickoff_time_formatted', 'loaned_in', 'loaned_out',\n",
       "       'minutes', 'offside', 'open_play_crosses', 'opponent_team', 'own_goals',\n",
       "       'penalties_conceded', 'penalties_missed', 'penalties_saved',\n",
       "       'recoveries', 'red_cards', 'round', 'saves', 'selected', 'tackled',\n",
       "       'tackles', 'target_missed', 'team_a_score', 'team_h_score', 'threat',\n",
       "       'total_points', 'transfers_balance', 'transfers_in', 'transfers_out',\n",
       "       'value', 'was_home', 'winning_goals', 'yellow_cards', 'event', 'team_a',\n",
       "       'team_a_difficulty', 'team_h', 'team_h_difficulty', 'element_type',\n",
       "       'team', 'web_name', 'safe_web_name', 'own_team', 'opposition_team',\n",
       "       'clean_sheets_no_time', 'element_fixture_rank', 'minutes_rolling',\n",
       "       'goals_conceded_rolling', 'goals_conceded_per_minute_rolling'],\n",
       "      dtype='object')"
      ]
     },
     "execution_count": 17,
     "metadata": {},
     "output_type": "execute_result"
    }
   ],
   "source": [
    "element_gameweek_df.columns"
   ]
  },
  {
   "cell_type": "markdown",
   "metadata": {
    "heading_collapsed": true
   },
   "source": [
    "# Models"
   ]
  },
  {
   "cell_type": "markdown",
   "metadata": {
    "heading_collapsed": true,
    "hidden": true
   },
   "source": [
    "## Simple Binomial model"
   ]
  },
  {
   "cell_type": "markdown",
   "metadata": {
    "heading_collapsed": true,
    "hidden": true
   },
   "source": [
    "### Preparing data"
   ]
  },
  {
   "cell_type": "code",
   "execution_count": 18,
   "metadata": {
    "ExecuteTime": {
     "end_time": "2019-04-09T15:27:46.245806Z",
     "start_time": "2019-04-09T15:27:46.223054Z"
    },
    "hidden": true
   },
   "outputs": [],
   "source": [
    "spm_df = element_gameweek_df.copy()"
   ]
  },
  {
   "cell_type": "code",
   "execution_count": 19,
   "metadata": {
    "ExecuteTime": {
     "end_time": "2019-04-09T15:27:46.274107Z",
     "start_time": "2019-04-09T15:27:46.254296Z"
    },
    "hidden": true
   },
   "outputs": [],
   "source": [
    "spm_redundant_columns = [\n",
    "    'row_id', 'assists', 'attempted_passes', 'big_chances_created',\n",
    "    'big_chances_missed', 'bonus', 'bps', 'clean_sheets', 'goals_scored',\n",
    "    'clearances_blocks_interceptions', 'completed_passes', 'creativity',\n",
    "    'dribbles', 'ea_index', 'element', 'errors_leading_to_goal',\n",
    "    'errors_leading_to_goal_attempt', 'fixture', 'fouls', 'goals_conceded',\n",
    "    'ict_index', 'id', 'influence', 'key_passes', 'kickoff_time',\n",
    "    'kickoff_time_formatted', 'loaned_in', 'loaned_out', 'minutes', 'offside',\n",
    "    'open_play_crosses', 'opponent_team', 'own_goals', 'penalties_conceded',\n",
    "    'penalties_missed', 'penalties_saved', 'recoveries', 'red_cards', 'round',\n",
    "    'saves', 'selected', 'tackled', 'tackles', 'target_missed', 'team_a_score',\n",
    "    'team_h_score', 'threat', 'total_points', 'transfers_balance',\n",
    "    'transfers_in', 'transfers_out', 'value', 'winning_goals',\n",
    "    'yellow_cards', 'event', 'team_a', 'team_a_difficulty', 'team_h',\n",
    "    'team_h_difficulty', 'element_type', 'team', 'web_name', 'safe_web_name',\n",
    "    'own_team', 'opposition_team', 'was_home',\n",
    "    'element_fixture_rank', 'minutes_rolling', 'goals_scored_rolling', 'assists_rolling',\n",
    "    'goals_scored_per_minute_rolling', 'assists_per_minute_rolling',\n",
    "    'goals_conceded_rolling', 'goals_conceded_per_minute_rolling'\n",
    "]"
   ]
  },
  {
   "cell_type": "code",
   "execution_count": 20,
   "metadata": {
    "ExecuteTime": {
     "end_time": "2019-04-09T15:27:46.299863Z",
     "start_time": "2019-04-09T15:27:46.277334Z"
    },
    "hidden": true
   },
   "outputs": [],
   "source": [
    "spm_df = player.remove_redundant_columns(spm_df, spm_redundant_columns)"
   ]
  },
  {
   "cell_type": "code",
   "execution_count": 21,
   "metadata": {
    "ExecuteTime": {
     "end_time": "2019-04-09T15:27:46.340346Z",
     "start_time": "2019-04-09T15:27:46.307291Z"
    },
    "hidden": true
   },
   "outputs": [],
   "source": [
    "spm_response_df, spm_explanatory_df = player.get_response_explanatory_dfs(spm_df, 'clean_sheets_no_time')"
   ]
  },
  {
   "cell_type": "code",
   "execution_count": 22,
   "metadata": {
    "ExecuteTime": {
     "end_time": "2019-04-09T15:27:46.367535Z",
     "start_time": "2019-04-09T15:27:46.348421Z"
    },
    "hidden": true
   },
   "outputs": [
    {
     "data": {
      "text/plain": [
       "Index(['const'], dtype='object')"
      ]
     },
     "execution_count": 22,
     "metadata": {},
     "output_type": "execute_result"
    }
   ],
   "source": [
    "spm_explanatory_df.columns"
   ]
  },
  {
   "cell_type": "code",
   "execution_count": 23,
   "metadata": {
    "ExecuteTime": {
     "end_time": "2019-04-09T15:27:46.393619Z",
     "start_time": "2019-04-09T15:27:46.369970Z"
    },
    "hidden": true
   },
   "outputs": [
    {
     "data": {
      "text/plain": [
       "0    0\n",
       "1    0\n",
       "2    0\n",
       "3    0\n",
       "4    0\n",
       "Name: clean_sheets_no_time, dtype: int64"
      ]
     },
     "execution_count": 23,
     "metadata": {},
     "output_type": "execute_result"
    }
   ],
   "source": [
    "spm_response_df.head()"
   ]
  },
  {
   "cell_type": "markdown",
   "metadata": {
    "heading_collapsed": true,
    "hidden": true
   },
   "source": [
    "### Fitting model"
   ]
  },
  {
   "cell_type": "code",
   "execution_count": 24,
   "metadata": {
    "ExecuteTime": {
     "end_time": "2019-04-09T15:27:46.433973Z",
     "start_time": "2019-04-09T15:27:46.396140Z"
    },
    "hidden": true
   },
   "outputs": [],
   "source": [
    "spm_results = sm.GLM(\n",
    "    spm_response_df,\n",
    "    spm_explanatory_df,\n",
    "    family=sm.families.Binomial(),\n",
    "    missing='drop'\n",
    ").fit()"
   ]
  },
  {
   "cell_type": "code",
   "execution_count": 25,
   "metadata": {
    "ExecuteTime": {
     "end_time": "2019-04-09T15:27:46.475826Z",
     "start_time": "2019-04-09T15:27:46.439973Z"
    },
    "hidden": true
   },
   "outputs": [
    {
     "name": "stdout",
     "output_type": "stream",
     "text": [
      "                  Generalized Linear Model Regression Results                   \n",
      "================================================================================\n",
      "Dep. Variable:     clean_sheets_no_time   No. Observations:                 8802\n",
      "Model:                              GLM   Df Residuals:                     8801\n",
      "Model Family:                  Binomial   Df Model:                            0\n",
      "Link Function:                    logit   Scale:                             1.0\n",
      "Method:                            IRLS   Log-Likelihood:                -5817.0\n",
      "Date:                  Tue, 09 Apr 2019   Deviance:                       11634.\n",
      "Time:                          15:27:46   Pearson chi2:                 8.80e+03\n",
      "No. Iterations:                       4                                         \n",
      "==============================================================================\n",
      "                 coef    std err          z      P>|z|      [0.025      0.975]\n",
      "------------------------------------------------------------------------------\n",
      "const         -0.5165      0.022    -23.444      0.000      -0.560      -0.473\n",
      "==============================================================================\n"
     ]
    }
   ],
   "source": [
    "print(spm_results.summary())"
   ]
  },
  {
   "cell_type": "markdown",
   "metadata": {
    "heading_collapsed": true,
    "hidden": true
   },
   "source": [
    "### Model fit"
   ]
  },
  {
   "cell_type": "code",
   "execution_count": 26,
   "metadata": {
    "ExecuteTime": {
     "end_time": "2019-04-09T15:27:46.498347Z",
     "start_time": "2019-04-09T15:27:46.485487Z"
    },
    "hidden": true
   },
   "outputs": [
    {
     "data": {
      "text/plain": [
       "11636.08788631826"
      ]
     },
     "execution_count": 26,
     "metadata": {},
     "output_type": "execute_result"
    }
   ],
   "source": [
    "spm_results.aic"
   ]
  },
  {
   "cell_type": "code",
   "execution_count": 27,
   "metadata": {
    "ExecuteTime": {
     "end_time": "2019-04-09T15:27:46.528379Z",
     "start_time": "2019-04-09T15:27:46.506157Z"
    },
    "hidden": true
   },
   "outputs": [
    {
     "data": {
      "text/plain": [
       "-68303.05622479423"
      ]
     },
     "execution_count": 27,
     "metadata": {},
     "output_type": "execute_result"
    }
   ],
   "source": [
    "spm_results.bic"
   ]
  },
  {
   "cell_type": "code",
   "execution_count": 28,
   "metadata": {
    "ExecuteTime": {
     "end_time": "2019-04-09T15:27:46.559815Z",
     "start_time": "2019-04-09T15:27:46.537599Z"
    },
    "hidden": true
   },
   "outputs": [
    {
     "data": {
      "text/plain": [
       "(False, 0.49498863746464794)"
      ]
     },
     "execution_count": 28,
     "metadata": {},
     "output_type": "execute_result"
    }
   ],
   "source": [
    "spm_pearson_results = goodness_fit.pearson_chi_squared_test(spm_results)\n",
    "spm_pearson_results"
   ]
  },
  {
   "cell_type": "code",
   "execution_count": 29,
   "metadata": {
    "ExecuteTime": {
     "end_time": "2019-04-09T15:27:46.589940Z",
     "start_time": "2019-04-09T15:27:46.562507Z"
    },
    "hidden": true
   },
   "outputs": [
    {
     "data": {
      "text/plain": [
       "count    8802.000000\n",
       "mean       -0.081574\n",
       "std         1.146844\n",
       "min        -0.967337\n",
       "25%        -0.967337\n",
       "50%        -0.967337\n",
       "75%         1.403136\n",
       "max         1.403136\n",
       "dtype: float64"
      ]
     },
     "execution_count": 29,
     "metadata": {},
     "output_type": "execute_result"
    }
   ],
   "source": [
    "spm_results.resid_deviance.describe()"
   ]
  },
  {
   "cell_type": "code",
   "execution_count": 30,
   "metadata": {
    "ExecuteTime": {
     "end_time": "2019-04-09T15:27:46.983240Z",
     "start_time": "2019-04-09T15:27:46.598817Z"
    },
    "hidden": true
   },
   "outputs": [
    {
     "data": {
      "image/png": "[encoded data removed]",
      "text/plain": [
       "<Figure size 432x288 with 1 Axes>"
      ]
     },
     "metadata": {
      "needs_background": "light"
     },
     "output_type": "display_data"
    }
   ],
   "source": [
    "plt.figure()\n",
    "plt.hist(spm_results.resid_deviance)\n",
    "plt.show()"
   ]
  },
  {
   "cell_type": "markdown",
   "metadata": {
    "heading_collapsed": true,
    "hidden": true
   },
   "source": [
    "## Simple Binomial minutes model"
   ]
  },
  {
   "cell_type": "markdown",
   "metadata": {
    "heading_collapsed": true,
    "hidden": true
   },
   "source": [
    "### Preparing data"
   ]
  },
  {
   "cell_type": "code",
   "execution_count": 31,
   "metadata": {
    "ExecuteTime": {
     "end_time": "2019-04-09T15:27:46.992801Z",
     "start_time": "2019-04-09T15:27:46.987155Z"
    },
    "hidden": true
   },
   "outputs": [],
   "source": [
    "spmm_df = element_gameweek_df.copy()"
   ]
  },
  {
   "cell_type": "code",
   "execution_count": 32,
   "metadata": {
    "ExecuteTime": {
     "end_time": "2019-04-09T15:27:47.025151Z",
     "start_time": "2019-04-09T15:27:46.995521Z"
    },
    "hidden": true
   },
   "outputs": [],
   "source": [
    "spmm_redundant_columns = [\n",
    "    'row_id', 'assists', 'attempted_passes', 'big_chances_created',\n",
    "    'big_chances_missed', 'bonus', 'bps', 'clean_sheets', 'goals_scored',\n",
    "    'clearances_blocks_interceptions', 'completed_passes', 'creativity',\n",
    "    'dribbles', 'ea_index', 'element', 'errors_leading_to_goal',\n",
    "    'errors_leading_to_goal_attempt', 'fixture', 'fouls', 'goals_conceded',\n",
    "    'ict_index', 'id', 'influence', 'key_passes', 'kickoff_time',\n",
    "    'kickoff_time_formatted', 'loaned_in', 'loaned_out', 'offside',\n",
    "    'open_play_crosses', 'opponent_team', 'own_goals', 'penalties_conceded',\n",
    "    'penalties_missed', 'penalties_saved', 'recoveries', 'red_cards', 'round',\n",
    "    'saves', 'selected', 'tackled', 'tackles', 'target_missed', 'team_a_score',\n",
    "    'team_h_score', 'threat', 'total_points', 'transfers_balance',\n",
    "    'transfers_in', 'transfers_out', 'value', 'winning_goals',\n",
    "    'yellow_cards', 'event', 'team_a', 'team_a_difficulty', 'team_h',\n",
    "    'team_h_difficulty', 'element_type', 'team', 'web_name', 'safe_web_name',\n",
    "    'own_team', 'opposition_team', 'was_home', 'minutes',\n",
    "    'element_fixture_rank', 'minutes_rolling', 'goals_scored_rolling', 'assists_rolling',\n",
    "    'goals_scored_per_minute_rolling', 'assists_per_minute_rolling',\n",
    "    'goals_conceded_rolling', 'goals_conceded_per_minute_rolling'\n",
    "]"
   ]
  },
  {
   "cell_type": "code",
   "execution_count": 33,
   "metadata": {
    "ExecuteTime": {
     "end_time": "2019-04-09T15:27:47.051068Z",
     "start_time": "2019-04-09T15:27:47.028103Z"
    },
    "hidden": true
   },
   "outputs": [],
   "source": [
    "spmm_df['log_minutes'] = np.log(spmm_df['minutes'])"
   ]
  },
  {
   "cell_type": "code",
   "execution_count": 34,
   "metadata": {
    "ExecuteTime": {
     "end_time": "2019-04-09T15:27:47.087131Z",
     "start_time": "2019-04-09T15:27:47.053505Z"
    },
    "hidden": true
   },
   "outputs": [],
   "source": [
    "spmm_df = player.remove_redundant_columns(spmm_df, spmm_redundant_columns)"
   ]
  },
  {
   "cell_type": "code",
   "execution_count": 35,
   "metadata": {
    "ExecuteTime": {
     "end_time": "2019-04-09T15:27:47.124257Z",
     "start_time": "2019-04-09T15:27:47.098034Z"
    },
    "hidden": true
   },
   "outputs": [],
   "source": [
    "spmm_response_df, spmm_explanatory_df = player.get_response_explanatory_dfs(spmm_df, 'clean_sheets_no_time')"
   ]
  },
  {
   "cell_type": "code",
   "execution_count": 36,
   "metadata": {
    "ExecuteTime": {
     "end_time": "2019-04-09T15:27:47.149181Z",
     "start_time": "2019-04-09T15:27:47.134064Z"
    },
    "hidden": true
   },
   "outputs": [
    {
     "data": {
      "text/plain": [
       "Index(['const', 'log_minutes'], dtype='object')"
      ]
     },
     "execution_count": 36,
     "metadata": {},
     "output_type": "execute_result"
    }
   ],
   "source": [
    "spmm_explanatory_df.columns"
   ]
  },
  {
   "cell_type": "markdown",
   "metadata": {
    "heading_collapsed": true,
    "hidden": true
   },
   "source": [
    "### Fitting model"
   ]
  },
  {
   "cell_type": "code",
   "execution_count": 37,
   "metadata": {
    "ExecuteTime": {
     "end_time": "2019-04-09T15:27:47.281288Z",
     "start_time": "2019-04-09T15:27:47.158191Z"
    },
    "hidden": true
   },
   "outputs": [],
   "source": [
    "spmm_results = sm.GLM(\n",
    "    spmm_response_df,\n",
    "    spmm_explanatory_df,\n",
    "    family=sm.families.Binomial(),\n",
    "    missing='drop'\n",
    ").fit()"
   ]
  },
  {
   "cell_type": "code",
   "execution_count": 38,
   "metadata": {
    "ExecuteTime": {
     "end_time": "2019-04-09T15:27:47.359737Z",
     "start_time": "2019-04-09T15:27:47.285303Z"
    },
    "hidden": true
   },
   "outputs": [
    {
     "name": "stdout",
     "output_type": "stream",
     "text": [
      "                  Generalized Linear Model Regression Results                   \n",
      "================================================================================\n",
      "Dep. Variable:     clean_sheets_no_time   No. Observations:                 8802\n",
      "Model:                              GLM   Df Residuals:                     8800\n",
      "Model Family:                  Binomial   Df Model:                            1\n",
      "Link Function:                    logit   Scale:                             1.0\n",
      "Method:                            IRLS   Log-Likelihood:                -5253.5\n",
      "Date:                  Tue, 09 Apr 2019   Deviance:                       10507.\n",
      "Time:                          15:27:47   Pearson chi2:                 9.00e+03\n",
      "No. Iterations:                       5                                         \n",
      "===============================================================================\n",
      "                  coef    std err          z      P>|z|      [0.025      0.975]\n",
      "-------------------------------------------------------------------------------\n",
      "const           3.3506      0.142     23.627      0.000       3.073       3.629\n",
      "log_minutes    -0.9526      0.034    -28.120      0.000      -1.019      -0.886\n",
      "===============================================================================\n"
     ]
    }
   ],
   "source": [
    "print(spmm_results.summary())"
   ]
  },
  {
   "cell_type": "markdown",
   "metadata": {
    "heading_collapsed": true,
    "hidden": true
   },
   "source": [
    "### Model fit"
   ]
  },
  {
   "cell_type": "code",
   "execution_count": 39,
   "metadata": {
    "ExecuteTime": {
     "end_time": "2019-04-09T15:27:47.379741Z",
     "start_time": "2019-04-09T15:27:47.367132Z"
    },
    "hidden": true
   },
   "outputs": [
    {
     "data": {
      "text/plain": [
       "10510.915651966397"
      ]
     },
     "execution_count": 39,
     "metadata": {},
     "output_type": "execute_result"
    }
   ],
   "source": [
    "spmm_results.aic"
   ]
  },
  {
   "cell_type": "code",
   "execution_count": 40,
   "metadata": {
    "ExecuteTime": {
     "end_time": "2019-04-09T15:27:47.404711Z",
     "start_time": "2019-04-09T15:27:47.385471Z"
    },
    "hidden": true
   },
   "outputs": [
    {
     "data": {
      "text/plain": [
       "-69421.14572489871"
      ]
     },
     "execution_count": 40,
     "metadata": {},
     "output_type": "execute_result"
    }
   ],
   "source": [
    "spmm_results.bic"
   ]
  },
  {
   "cell_type": "code",
   "execution_count": 41,
   "metadata": {
    "ExecuteTime": {
     "end_time": "2019-04-09T15:27:47.438174Z",
     "start_time": "2019-04-09T15:27:47.407617Z"
    },
    "hidden": true
   },
   "outputs": [
    {
     "data": {
      "text/plain": [
       "(False, 0.06529483547864734)"
      ]
     },
     "execution_count": 41,
     "metadata": {},
     "output_type": "execute_result"
    }
   ],
   "source": [
    "spmm_pearson_results = goodness_fit.pearson_chi_squared_test(spmm_results)\n",
    "spmm_pearson_results"
   ]
  },
  {
   "cell_type": "code",
   "execution_count": 42,
   "metadata": {
    "ExecuteTime": {
     "end_time": "2019-04-09T15:27:47.471530Z",
     "start_time": "2019-04-09T15:27:47.441058Z"
    },
    "hidden": true
   },
   "outputs": [
    {
     "data": {
      "text/plain": [
       "count    8802.000000\n",
       "mean       -0.082833\n",
       "std         1.089481\n",
       "min        -2.601930\n",
       "25%        -0.813505\n",
       "50%        -0.813505\n",
       "75%         1.117368\n",
       "max         1.591756\n",
       "dtype: float64"
      ]
     },
     "execution_count": 42,
     "metadata": {},
     "output_type": "execute_result"
    }
   ],
   "source": [
    "spmm_results.resid_deviance.describe()"
   ]
  },
  {
   "cell_type": "code",
   "execution_count": 43,
   "metadata": {
    "ExecuteTime": {
     "end_time": "2019-04-09T15:27:47.855281Z",
     "start_time": "2019-04-09T15:27:47.474719Z"
    },
    "hidden": true
   },
   "outputs": [
    {
     "data": {
      "image/png": "[encoded data removed]",
      "text/plain": [
       "<Figure size 432x288 with 1 Axes>"
      ]
     },
     "metadata": {
      "needs_background": "light"
     },
     "output_type": "display_data"
    }
   ],
   "source": [
    "plt.figure()\n",
    "plt.hist(spmm_results.resid_deviance)\n",
    "plt.show()"
   ]
  },
  {
   "cell_type": "markdown",
   "metadata": {
    "heading_collapsed": true,
    "hidden": true
   },
   "source": [
    "## Simple Binomial teams model"
   ]
  },
  {
   "cell_type": "markdown",
   "metadata": {
    "heading_collapsed": true,
    "hidden": true
   },
   "source": [
    "### Preparing data"
   ]
  },
  {
   "cell_type": "code",
   "execution_count": 44,
   "metadata": {
    "ExecuteTime": {
     "end_time": "2019-04-09T15:27:47.871841Z",
     "start_time": "2019-04-09T15:27:47.863104Z"
    },
    "hidden": true
   },
   "outputs": [],
   "source": [
    "sptm_df = element_gameweek_df.copy()"
   ]
  },
  {
   "cell_type": "code",
   "execution_count": 45,
   "metadata": {
    "ExecuteTime": {
     "end_time": "2019-04-09T15:27:47.969398Z",
     "start_time": "2019-04-09T15:27:47.877096Z"
    },
    "hidden": true
   },
   "outputs": [],
   "source": [
    "sptm_df = player.add_categorical_variables(sptm_df, 'element_type')\n",
    "sptm_df = player.add_categorical_variables(sptm_df, 'opposition_team')\n",
    "sptm_df = player.add_categorical_variables(sptm_df, 'own_team')"
   ]
  },
  {
   "cell_type": "code",
   "execution_count": 46,
   "metadata": {
    "ExecuteTime": {
     "end_time": "2019-04-09T15:27:47.994921Z",
     "start_time": "2019-04-09T15:27:47.974087Z"
    },
    "hidden": true
   },
   "outputs": [],
   "source": [
    "sptm_redundant_columns = [\n",
    "    'row_id', 'assists', 'attempted_passes', 'big_chances_created',\n",
    "    'big_chances_missed', 'bonus', 'bps', 'clean_sheets', 'goals_scored',\n",
    "    'clearances_blocks_interceptions', 'completed_passes', 'creativity',\n",
    "    'dribbles', 'ea_index', 'element', 'errors_leading_to_goal',\n",
    "    'errors_leading_to_goal_attempt', 'fixture', 'fouls', 'goals_conceded',\n",
    "    'ict_index', 'id', 'influence', 'key_passes', 'kickoff_time',\n",
    "    'kickoff_time_formatted', 'loaned_in', 'loaned_out', 'minutes', 'offside',\n",
    "    'open_play_crosses', 'opponent_team', 'own_goals', 'penalties_conceded',\n",
    "    'penalties_missed', 'penalties_saved', 'recoveries', 'red_cards', 'round',\n",
    "    'saves', 'selected', 'tackled', 'tackles', 'target_missed', 'team_a_score',\n",
    "    'team_h_score', 'threat', 'total_points', 'transfers_balance',\n",
    "    'transfers_in', 'transfers_out', 'value', 'winning_goals',\n",
    "    'yellow_cards', 'event', 'team_a', 'team_a_difficulty', 'team_h',\n",
    "    'team_h_difficulty', 'element_type', 'team', 'web_name', 'safe_web_name',\n",
    "    'own_team', 'opposition_team',\n",
    "    'element_fixture_rank', 'minutes_rolling', 'goals_scored_rolling', 'assists_rolling',\n",
    "    'goals_scored_per_minute_rolling', 'assists_per_minute_rolling',\n",
    "    'goals_conceded_rolling', 'goals_conceded_per_minute_rolling'\n",
    "]"
   ]
  },
  {
   "cell_type": "code",
   "execution_count": 47,
   "metadata": {
    "ExecuteTime": {
     "end_time": "2019-04-09T15:27:48.029534Z",
     "start_time": "2019-04-09T15:27:47.999864Z"
    },
    "hidden": true
   },
   "outputs": [],
   "source": [
    "sptm_df = player.remove_redundant_columns(sptm_df, sptm_redundant_columns)"
   ]
  },
  {
   "cell_type": "code",
   "execution_count": 48,
   "metadata": {
    "ExecuteTime": {
     "end_time": "2019-04-09T15:27:48.080948Z",
     "start_time": "2019-04-09T15:27:48.035413Z"
    },
    "hidden": true
   },
   "outputs": [],
   "source": [
    "sptm_response_df, sptm_explanatory_df = player.get_response_explanatory_dfs(sptm_df, 'clean_sheets_no_time')"
   ]
  },
  {
   "cell_type": "code",
   "execution_count": 49,
   "metadata": {
    "ExecuteTime": {
     "end_time": "2019-04-09T15:27:48.100307Z",
     "start_time": "2019-04-09T15:27:48.088898Z"
    },
    "hidden": true
   },
   "outputs": [
    {
     "data": {
      "text/plain": [
       "Index(['const', 'was_home', 'element_type_2', 'element_type_3',\n",
       "       'element_type_4', 'opposition_team_2', 'opposition_team_3',\n",
       "       'opposition_team_4', 'opposition_team_5', 'opposition_team_6',\n",
       "       'opposition_team_7', 'opposition_team_8', 'opposition_team_9',\n",
       "       'opposition_team_10', 'opposition_team_11', 'opposition_team_12',\n",
       "       'opposition_team_13', 'opposition_team_14', 'opposition_team_15',\n",
       "       'opposition_team_16', 'opposition_team_17', 'opposition_team_18',\n",
       "       'opposition_team_19', 'opposition_team_20', 'own_team_2', 'own_team_3',\n",
       "       'own_team_4', 'own_team_5', 'own_team_6', 'own_team_7', 'own_team_8',\n",
       "       'own_team_9', 'own_team_10', 'own_team_11', 'own_team_12',\n",
       "       'own_team_13', 'own_team_14', 'own_team_15', 'own_team_16',\n",
       "       'own_team_17', 'own_team_18', 'own_team_19', 'own_team_20'],\n",
       "      dtype='object')"
      ]
     },
     "execution_count": 49,
     "metadata": {},
     "output_type": "execute_result"
    }
   ],
   "source": [
    "sptm_explanatory_df.columns"
   ]
  },
  {
   "cell_type": "code",
   "execution_count": 50,
   "metadata": {
    "ExecuteTime": {
     "end_time": "2019-04-09T15:27:48.128379Z",
     "start_time": "2019-04-09T15:27:48.107641Z"
    },
    "hidden": true
   },
   "outputs": [
    {
     "data": {
      "text/plain": [
       "0    0\n",
       "1    0\n",
       "2    0\n",
       "3    0\n",
       "4    0\n",
       "Name: clean_sheets_no_time, dtype: int64"
      ]
     },
     "execution_count": 50,
     "metadata": {},
     "output_type": "execute_result"
    }
   ],
   "source": [
    "sptm_response_df.head()"
   ]
  },
  {
   "cell_type": "markdown",
   "metadata": {
    "heading_collapsed": true,
    "hidden": true
   },
   "source": [
    "### Fitting model"
   ]
  },
  {
   "cell_type": "code",
   "execution_count": 51,
   "metadata": {
    "ExecuteTime": {
     "end_time": "2019-04-09T15:27:48.660835Z",
     "start_time": "2019-04-09T15:27:48.133280Z"
    },
    "hidden": true
   },
   "outputs": [],
   "source": [
    "sptm_results = sm.GLM(\n",
    "    sptm_response_df,\n",
    "    sptm_explanatory_df,\n",
    "    family=sm.families.Binomial(),\n",
    "    missing='drop'\n",
    ").fit()"
   ]
  },
  {
   "cell_type": "code",
   "execution_count": 52,
   "metadata": {
    "ExecuteTime": {
     "end_time": "2019-04-09T15:27:48.800910Z",
     "start_time": "2019-04-09T15:27:48.669672Z"
    },
    "hidden": true
   },
   "outputs": [
    {
     "name": "stdout",
     "output_type": "stream",
     "text": [
      "                  Generalized Linear Model Regression Results                   \n",
      "================================================================================\n",
      "Dep. Variable:     clean_sheets_no_time   No. Observations:                 8802\n",
      "Model:                              GLM   Df Residuals:                     8759\n",
      "Model Family:                  Binomial   Df Model:                           42\n",
      "Link Function:                    logit   Scale:                             1.0\n",
      "Method:                            IRLS   Log-Likelihood:                -5227.3\n",
      "Date:                  Tue, 09 Apr 2019   Deviance:                       10455.\n",
      "Time:                          15:27:48   Pearson chi2:                 8.74e+03\n",
      "No. Iterations:                       4                                         \n",
      "======================================================================================\n",
      "                         coef    std err          z      P>|z|      [0.025      0.975]\n",
      "--------------------------------------------------------------------------------------\n",
      "const                 -2.3674      0.192    -12.336      0.000      -2.744      -1.991\n",
      "was_home               0.3696      0.047      7.800      0.000       0.277       0.462\n",
      "element_type_2         0.2146      0.103      2.086      0.037       0.013       0.416\n",
      "element_type_3         0.6798      0.100      6.789      0.000       0.484       0.876\n",
      "element_type_4         1.0162      0.111      9.175      0.000       0.799       1.233\n",
      "opposition_team_2      1.1871      0.161      7.384      0.000       0.872       1.502\n",
      "opposition_team_3      1.1344      0.163      6.960      0.000       0.815       1.454\n",
      "opposition_team_4      1.1491      0.161      7.123      0.000       0.833       1.465\n",
      "opposition_team_5      1.5931      0.161      9.892      0.000       1.277       1.909\n",
      "opposition_team_6      0.7979      0.164      4.859      0.000       0.476       1.120\n",
      "opposition_team_7      1.1268      0.162      6.964      0.000       0.810       1.444\n",
      "opposition_team_8      0.8491      0.163      5.205      0.000       0.529       1.169\n",
      "opposition_team_9      1.4588      0.160      9.132      0.000       1.146       1.772\n",
      "opposition_team_10     2.0604      0.162     12.691      0.000       1.742       2.379\n",
      "opposition_team_11     0.5442      0.167      3.265      0.001       0.218       0.871\n",
      "opposition_team_12     0.1695      0.174      0.974      0.330      -0.172       0.511\n",
      "opposition_team_13    -0.0514      0.180     -0.286      0.775      -0.403       0.300\n",
      "opposition_team_14     0.2072      0.172      1.203      0.229      -0.130       0.545\n",
      "opposition_team_15     1.4436      0.161      8.979      0.000       1.128       1.759\n",
      "opposition_team_16     1.1157      0.163      6.859      0.000       0.797       1.434\n",
      "opposition_team_17     0.2966      0.170      1.740      0.082      -0.037       0.631\n",
      "opposition_team_18     0.8948      0.163      5.497      0.000       0.576       1.214\n",
      "opposition_team_19     1.4782      0.161      9.185      0.000       1.163       1.794\n",
      "opposition_team_20     0.9983      0.162      6.161      0.000       0.681       1.316\n",
      "own_team_2             0.0236      0.150      0.158      0.875      -0.270       0.317\n",
      "own_team_3            -0.1623      0.152     -1.067      0.286      -0.461       0.136\n",
      "own_team_4            -0.3119      0.153     -2.033      0.042      -0.613      -0.011\n",
      "own_team_5             0.0029      0.149      0.020      0.984      -0.289       0.295\n",
      "own_team_6             0.7454      0.145      5.135      0.000       0.461       1.030\n",
      "own_team_7             0.2768      0.148      1.868      0.062      -0.014       0.567\n",
      "own_team_8             0.3742      0.146      2.569      0.010       0.089       0.660\n",
      "own_team_9            -0.8841      0.166     -5.314      0.000      -1.210      -0.558\n",
      "own_team_10           -0.3806      0.154     -2.474      0.013      -0.682      -0.079\n",
      "own_team_11            0.0667      0.148      0.452      0.652      -0.223       0.356\n",
      "own_team_12            1.2481      0.148      8.454      0.000       0.959       1.537\n",
      "own_team_13            1.0187      0.146      6.955      0.000       0.732       1.306\n",
      "own_team_14            0.0097      0.148      0.066      0.948      -0.281       0.301\n",
      "own_team_15            0.2007      0.148      1.353      0.176      -0.090       0.491\n",
      "own_team_16            0.1020      0.150      0.679      0.497      -0.193       0.397\n",
      "own_team_17            0.5838      0.146      4.008      0.000       0.298       0.869\n",
      "own_team_18            0.1094      0.148      0.737      0.461      -0.182       0.400\n",
      "own_team_19           -0.3214      0.152     -2.113      0.035      -0.619      -0.023\n",
      "own_team_20            0.0745      0.148      0.502      0.615      -0.216       0.365\n",
      "======================================================================================\n"
     ]
    }
   ],
   "source": [
    "print(sptm_results.summary())"
   ]
  },
  {
   "cell_type": "markdown",
   "metadata": {
    "heading_collapsed": true,
    "hidden": true
   },
   "source": [
    "### Model fit"
   ]
  },
  {
   "cell_type": "code",
   "execution_count": 53,
   "metadata": {
    "ExecuteTime": {
     "end_time": "2019-04-09T15:27:48.811020Z",
     "start_time": "2019-04-09T15:27:48.804900Z"
    },
    "hidden": true
   },
   "outputs": [
    {
     "data": {
      "text/plain": [
       "10540.643954975792"
      ]
     },
     "execution_count": 53,
     "metadata": {},
     "output_type": "execute_result"
    }
   ],
   "source": [
    "sptm_results.aic"
   ]
  },
  {
   "cell_type": "code",
   "execution_count": 54,
   "metadata": {
    "ExecuteTime": {
     "end_time": "2019-04-09T15:27:48.841229Z",
     "start_time": "2019-04-09T15:27:48.814269Z"
    },
    "hidden": true
   },
   "outputs": [
    {
     "data": {
      "text/plain": [
       "-69101.02531774712"
      ]
     },
     "execution_count": 54,
     "metadata": {},
     "output_type": "execute_result"
    }
   ],
   "source": [
    "sptm_results.bic"
   ]
  },
  {
   "cell_type": "code",
   "execution_count": 55,
   "metadata": {
    "ExecuteTime": {
     "end_time": "2019-04-09T15:27:48.876286Z",
     "start_time": "2019-04-09T15:27:48.844397Z"
    },
    "hidden": true
   },
   "outputs": [
    {
     "data": {
      "text/plain": [
       "(False, 0.5420842163157938)"
      ]
     },
     "execution_count": 55,
     "metadata": {},
     "output_type": "execute_result"
    }
   ],
   "source": [
    "sptm_pearson_results = goodness_fit.pearson_chi_squared_test(sptm_results)\n",
    "sptm_pearson_results"
   ]
  },
  {
   "cell_type": "code",
   "execution_count": 56,
   "metadata": {
    "ExecuteTime": {
     "end_time": "2019-04-09T15:27:48.916413Z",
     "start_time": "2019-04-09T15:27:48.879486Z"
    },
    "hidden": true
   },
   "outputs": [
    {
     "data": {
      "text/plain": [
       "count    8802.000000\n",
       "mean       -0.073518\n",
       "std         1.087422\n",
       "min        -2.103928\n",
       "25%        -0.935487\n",
       "50%        -0.634923\n",
       "75%         1.120921\n",
       "max         2.367661\n",
       "dtype: float64"
      ]
     },
     "execution_count": 56,
     "metadata": {},
     "output_type": "execute_result"
    }
   ],
   "source": [
    "sptm_results.resid_deviance.describe()"
   ]
  },
  {
   "cell_type": "code",
   "execution_count": 57,
   "metadata": {
    "ExecuteTime": {
     "end_time": "2019-04-09T15:27:49.267764Z",
     "start_time": "2019-04-09T15:27:48.919628Z"
    },
    "hidden": true
   },
   "outputs": [
    {
     "data": {
      "image/png": "[encoded data removed]",
      "text/plain": [
       "<Figure size 432x288 with 1 Axes>"
      ]
     },
     "metadata": {
      "needs_background": "light"
     },
     "output_type": "display_data"
    }
   ],
   "source": [
    "plt.figure()\n",
    "plt.hist(sptm_results.resid_deviance)\n",
    "plt.show()"
   ]
  },
  {
   "cell_type": "markdown",
   "metadata": {
    "heading_collapsed": true,
    "hidden": true
   },
   "source": [
    "## Simple Binomial teams minutes model"
   ]
  },
  {
   "cell_type": "markdown",
   "metadata": {
    "heading_collapsed": true,
    "hidden": true
   },
   "source": [
    "### Preparing data"
   ]
  },
  {
   "cell_type": "code",
   "execution_count": 58,
   "metadata": {
    "ExecuteTime": {
     "end_time": "2019-04-09T15:27:49.288421Z",
     "start_time": "2019-04-09T15:27:49.276284Z"
    },
    "hidden": true
   },
   "outputs": [],
   "source": [
    "sptmm_df = element_gameweek_df.copy()"
   ]
  },
  {
   "cell_type": "code",
   "execution_count": 59,
   "metadata": {
    "ExecuteTime": {
     "end_time": "2019-04-09T15:27:49.343687Z",
     "start_time": "2019-04-09T15:27:49.299134Z"
    },
    "hidden": true
   },
   "outputs": [],
   "source": [
    "sptmm_df = player.add_categorical_variables(sptmm_df, 'element_type')\n",
    "sptmm_df = player.add_categorical_variables(sptmm_df, 'opposition_team')\n",
    "sptmm_df = player.add_categorical_variables(sptmm_df, 'own_team')"
   ]
  },
  {
   "cell_type": "code",
   "execution_count": 60,
   "metadata": {
    "ExecuteTime": {
     "end_time": "2019-04-09T15:27:49.362885Z",
     "start_time": "2019-04-09T15:27:49.351385Z"
    },
    "hidden": true
   },
   "outputs": [],
   "source": [
    "sptmm_redundant_columns = [\n",
    "    'row_id', 'assists', 'attempted_passes', 'big_chances_created',\n",
    "    'big_chances_missed', 'bonus', 'bps', 'clean_sheets', 'goals_scored',\n",
    "    'clearances_blocks_interceptions', 'completed_passes', 'creativity',\n",
    "    'dribbles', 'ea_index', 'element', 'errors_leading_to_goal',\n",
    "    'errors_leading_to_goal_attempt', 'fixture', 'fouls', 'goals_conceded',\n",
    "    'ict_index', 'id', 'influence', 'key_passes', 'kickoff_time',\n",
    "    'kickoff_time_formatted', 'loaned_in', 'loaned_out', 'offside',\n",
    "    'open_play_crosses', 'opponent_team', 'own_goals', 'penalties_conceded',\n",
    "    'penalties_missed', 'penalties_saved', 'recoveries', 'red_cards', 'round',\n",
    "    'saves', 'selected', 'tackled', 'tackles', 'target_missed', 'team_a_score',\n",
    "    'team_h_score', 'threat', 'total_points', 'transfers_balance',\n",
    "    'transfers_in', 'transfers_out', 'value', 'winning_goals',\n",
    "    'yellow_cards', 'event', 'team_a', 'team_a_difficulty', 'team_h',\n",
    "    'team_h_difficulty', 'element_type', 'team', 'web_name', 'safe_web_name',\n",
    "    'own_team', 'opposition_team', 'minutes',\n",
    "    'element_fixture_rank', 'minutes_rolling', 'goals_scored_rolling', 'assists_rolling',\n",
    "    'goals_scored_per_minute_rolling', 'assists_per_minute_rolling',\n",
    "    'goals_conceded_rolling', 'goals_conceded_per_minute_rolling'\n",
    "]"
   ]
  },
  {
   "cell_type": "code",
   "execution_count": 61,
   "metadata": {
    "ExecuteTime": {
     "end_time": "2019-04-09T15:27:49.390762Z",
     "start_time": "2019-04-09T15:27:49.365885Z"
    },
    "hidden": true
   },
   "outputs": [],
   "source": [
    "sptmm_df['log_minutes'] = np.log(sptmm_df['minutes'])"
   ]
  },
  {
   "cell_type": "code",
   "execution_count": 62,
   "metadata": {
    "ExecuteTime": {
     "end_time": "2019-04-09T15:27:49.423676Z",
     "start_time": "2019-04-09T15:27:49.398421Z"
    },
    "hidden": true
   },
   "outputs": [],
   "source": [
    "sptmm_df = player.remove_redundant_columns(sptmm_df, sptmm_redundant_columns)"
   ]
  },
  {
   "cell_type": "code",
   "execution_count": 63,
   "metadata": {
    "ExecuteTime": {
     "end_time": "2019-04-09T15:27:49.467110Z",
     "start_time": "2019-04-09T15:27:49.434155Z"
    },
    "hidden": true
   },
   "outputs": [],
   "source": [
    "sptmm_response_df, sptmm_explanatory_df = player.get_response_explanatory_dfs(sptmm_df, 'clean_sheets_no_time')"
   ]
  },
  {
   "cell_type": "code",
   "execution_count": 64,
   "metadata": {
    "ExecuteTime": {
     "end_time": "2019-04-09T15:27:49.487452Z",
     "start_time": "2019-04-09T15:27:49.476239Z"
    },
    "hidden": true
   },
   "outputs": [
    {
     "data": {
      "text/plain": [
       "Index(['const', 'was_home', 'element_type_2', 'element_type_3',\n",
       "       'element_type_4', 'opposition_team_2', 'opposition_team_3',\n",
       "       'opposition_team_4', 'opposition_team_5', 'opposition_team_6',\n",
       "       'opposition_team_7', 'opposition_team_8', 'opposition_team_9',\n",
       "       'opposition_team_10', 'opposition_team_11', 'opposition_team_12',\n",
       "       'opposition_team_13', 'opposition_team_14', 'opposition_team_15',\n",
       "       'opposition_team_16', 'opposition_team_17', 'opposition_team_18',\n",
       "       'opposition_team_19', 'opposition_team_20', 'own_team_2', 'own_team_3',\n",
       "       'own_team_4', 'own_team_5', 'own_team_6', 'own_team_7', 'own_team_8',\n",
       "       'own_team_9', 'own_team_10', 'own_team_11', 'own_team_12',\n",
       "       'own_team_13', 'own_team_14', 'own_team_15', 'own_team_16',\n",
       "       'own_team_17', 'own_team_18', 'own_team_19', 'own_team_20',\n",
       "       'log_minutes'],\n",
       "      dtype='object')"
      ]
     },
     "execution_count": 64,
     "metadata": {},
     "output_type": "execute_result"
    }
   ],
   "source": [
    "sptmm_explanatory_df.columns"
   ]
  },
  {
   "cell_type": "markdown",
   "metadata": {
    "heading_collapsed": true,
    "hidden": true
   },
   "source": [
    "### Fitting model"
   ]
  },
  {
   "cell_type": "code",
   "execution_count": 65,
   "metadata": {
    "ExecuteTime": {
     "end_time": "2019-04-09T15:27:50.048890Z",
     "start_time": "2019-04-09T15:27:49.494769Z"
    },
    "hidden": true
   },
   "outputs": [],
   "source": [
    "sptmm_results = sm.GLM(\n",
    "    sptmm_response_df,\n",
    "    sptmm_explanatory_df,\n",
    "    family=sm.families.Binomial(),\n",
    "    missing='drop'\n",
    ").fit()"
   ]
  },
  {
   "cell_type": "code",
   "execution_count": 66,
   "metadata": {
    "ExecuteTime": {
     "end_time": "2019-04-09T15:27:50.199835Z",
     "start_time": "2019-04-09T15:27:50.059469Z"
    },
    "hidden": true,
    "scrolled": true
   },
   "outputs": [
    {
     "name": "stdout",
     "output_type": "stream",
     "text": [
      "                  Generalized Linear Model Regression Results                   \n",
      "================================================================================\n",
      "Dep. Variable:     clean_sheets_no_time   No. Observations:                 8802\n",
      "Model:                              GLM   Df Residuals:                     8758\n",
      "Model Family:                  Binomial   Df Model:                           43\n",
      "Link Function:                    logit   Scale:                             1.0\n",
      "Method:                            IRLS   Log-Likelihood:                -4681.0\n",
      "Date:                  Tue, 09 Apr 2019   Deviance:                       9362.0\n",
      "Time:                          15:27:50   Pearson chi2:                 9.17e+03\n",
      "No. Iterations:                       5                                         \n",
      "======================================================================================\n",
      "                         coef    std err          z      P>|z|      [0.025      0.975]\n",
      "--------------------------------------------------------------------------------------\n",
      "const                  2.2981      0.261      8.807      0.000       1.787       2.809\n",
      "was_home               0.4379      0.051      8.609      0.000       0.338       0.538\n",
      "element_type_2        -0.0004      0.105     -0.004      0.997      -0.207       0.206\n",
      "element_type_3         0.1455      0.104      1.403      0.161      -0.058       0.349\n",
      "element_type_4         0.1993      0.118      1.691      0.091      -0.032       0.430\n",
      "opposition_team_2      1.3036      0.174      7.488      0.000       0.962       1.645\n",
      "opposition_team_3      1.2997      0.176      7.387      0.000       0.955       1.645\n",
      "opposition_team_4      1.2770      0.174      7.320      0.000       0.935       1.619\n",
      "opposition_team_5      1.8023      0.173     10.415      0.000       1.463       2.141\n",
      "opposition_team_6      0.8727      0.179      4.880      0.000       0.522       1.223\n",
      "opposition_team_7      1.2367      0.175      7.051      0.000       0.893       1.580\n",
      "opposition_team_8      0.9485      0.177      5.365      0.000       0.602       1.295\n",
      "opposition_team_9      1.6375      0.172      9.507      0.000       1.300       1.975\n",
      "opposition_team_10     2.2813      0.174     13.130      0.000       1.941       2.622\n",
      "opposition_team_11     0.5701      0.182      3.139      0.002       0.214       0.926\n",
      "opposition_team_12     0.1007      0.190      0.529      0.597      -0.273       0.474\n",
      "opposition_team_13    -0.0862      0.195     -0.442      0.659      -0.469       0.296\n",
      "opposition_team_14     0.1561      0.189      0.824      0.410      -0.215       0.527\n",
      "opposition_team_15     1.6268      0.173      9.398      0.000       1.288       1.966\n",
      "opposition_team_16     1.2517      0.176      7.119      0.000       0.907       1.596\n",
      "opposition_team_17     0.2754      0.186      1.480      0.139      -0.089       0.640\n",
      "opposition_team_18     1.0211      0.176      5.812      0.000       0.677       1.365\n",
      "opposition_team_19     1.6689      0.173      9.619      0.000       1.329       2.009\n",
      "opposition_team_20     1.1295      0.175      6.449      0.000       0.786       1.473\n",
      "own_team_2            -0.0238      0.160     -0.149      0.881      -0.337       0.289\n",
      "own_team_3            -0.1856      0.161     -1.150      0.250      -0.502       0.131\n",
      "own_team_4            -0.3141      0.163     -1.931      0.054      -0.633       0.005\n",
      "own_team_5            -0.0769      0.159     -0.483      0.629      -0.389       0.235\n",
      "own_team_6             0.7857      0.153      5.150      0.000       0.487       1.085\n",
      "own_team_7             0.2733      0.158      1.735      0.083      -0.035       0.582\n",
      "own_team_8             0.3332      0.155      2.149      0.032       0.029       0.637\n",
      "own_team_9            -1.0561      0.177     -5.950      0.000      -1.404      -0.708\n",
      "own_team_10           -0.5043      0.165     -3.061      0.002      -0.827      -0.181\n",
      "own_team_11            0.0015      0.158      0.010      0.992      -0.307       0.310\n",
      "own_team_12            1.3356      0.155      8.598      0.000       1.031       1.640\n",
      "own_team_13            1.0766      0.154      6.989      0.000       0.775       1.379\n",
      "own_team_14           -0.0743      0.158     -0.470      0.639      -0.385       0.236\n",
      "own_team_15            0.2077      0.157      1.321      0.186      -0.100       0.516\n",
      "own_team_16            0.0771      0.160      0.482      0.630      -0.237       0.391\n",
      "own_team_17            0.5719      0.155      3.700      0.000       0.269       0.875\n",
      "own_team_18            0.0775      0.158      0.489      0.625      -0.233       0.388\n",
      "own_team_19           -0.3916      0.161     -2.433      0.015      -0.707      -0.076\n",
      "own_team_20           -0.0310      0.158     -0.196      0.844      -0.341       0.279\n",
      "log_minutes           -1.0680      0.039    -27.336      0.000      -1.145      -0.991\n",
      "======================================================================================\n"
     ]
    }
   ],
   "source": [
    "print(sptmm_results.summary())"
   ]
  },
  {
   "cell_type": "markdown",
   "metadata": {
    "heading_collapsed": true,
    "hidden": true
   },
   "source": [
    "### Model fit"
   ]
  },
  {
   "cell_type": "code",
   "execution_count": 67,
   "metadata": {
    "ExecuteTime": {
     "end_time": "2019-04-09T15:27:50.210459Z",
     "start_time": "2019-04-09T15:27:50.203414Z"
    },
    "hidden": true
   },
   "outputs": [
    {
     "data": {
      "text/plain": [
       "9449.983426355566"
      ]
     },
     "execution_count": 67,
     "metadata": {},
     "output_type": "execute_result"
    }
   ],
   "source": [
    "sptmm_results.aic"
   ]
  },
  {
   "cell_type": "code",
   "execution_count": 68,
   "metadata": {
    "ExecuteTime": {
     "end_time": "2019-04-09T15:27:50.239148Z",
     "start_time": "2019-04-09T15:27:50.214196Z"
    },
    "hidden": true
   },
   "outputs": [
    {
     "data": {
      "text/plain": [
       "-70184.60311211996"
      ]
     },
     "execution_count": 68,
     "metadata": {},
     "output_type": "execute_result"
    }
   ],
   "source": [
    "sptmm_results.bic"
   ]
  },
  {
   "cell_type": "code",
   "execution_count": 69,
   "metadata": {
    "ExecuteTime": {
     "end_time": "2019-04-09T15:27:50.271537Z",
     "start_time": "2019-04-09T15:27:50.241972Z"
    },
    "hidden": true
   },
   "outputs": [
    {
     "data": {
      "text/plain": [
       "(True, 0.0010446045364890244)"
      ]
     },
     "execution_count": 69,
     "metadata": {},
     "output_type": "execute_result"
    }
   ],
   "source": [
    "sptmm_pearson_results = goodness_fit.pearson_chi_squared_test(sptmm_results)\n",
    "sptmm_pearson_results"
   ]
  },
  {
   "cell_type": "code",
   "execution_count": 70,
   "metadata": {
    "ExecuteTime": {
     "end_time": "2019-04-09T15:27:50.304122Z",
     "start_time": "2019-04-09T15:27:50.279294Z"
    },
    "hidden": true
   },
   "outputs": [
    {
     "data": {
      "text/plain": [
       "count    8802.000000\n",
       "mean       -0.075493\n",
       "std         1.028611\n",
       "min        -3.303954\n",
       "25%        -0.836030\n",
       "50%        -0.517267\n",
       "75%         0.958962\n",
       "max         2.304605\n",
       "dtype: float64"
      ]
     },
     "execution_count": 70,
     "metadata": {},
     "output_type": "execute_result"
    }
   ],
   "source": [
    "sptmm_results.resid_deviance.describe()"
   ]
  },
  {
   "cell_type": "code",
   "execution_count": 71,
   "metadata": {
    "ExecuteTime": {
     "end_time": "2019-04-09T15:27:50.701796Z",
     "start_time": "2019-04-09T15:27:50.311767Z"
    },
    "hidden": true
   },
   "outputs": [
    {
     "data": {
      "image/png": "[encoded data removed]",
      "text/plain": [
       "<Figure size 432x288 with 1 Axes>"
      ]
     },
     "metadata": {
      "needs_background": "light"
     },
     "output_type": "display_data"
    }
   ],
   "source": [
    "plt.figure()\n",
    "plt.hist(sptmm_results.resid_deviance)\n",
    "plt.show()"
   ]
  },
  {
   "cell_type": "markdown",
   "metadata": {
    "heading_collapsed": true,
    "hidden": true
   },
   "source": [
    "## Simple Binomial teams minutes form model"
   ]
  },
  {
   "cell_type": "markdown",
   "metadata": {
    "heading_collapsed": true,
    "hidden": true
   },
   "source": [
    "### Preparing data"
   ]
  },
  {
   "cell_type": "code",
   "execution_count": 119,
   "metadata": {
    "ExecuteTime": {
     "end_time": "2019-04-09T15:33:06.516281Z",
     "start_time": "2019-04-09T15:33:06.509923Z"
    },
    "hidden": true
   },
   "outputs": [],
   "source": [
    "sptmmf_df = element_gameweek_df.copy()"
   ]
  },
  {
   "cell_type": "code",
   "execution_count": 120,
   "metadata": {
    "ExecuteTime": {
     "end_time": "2019-04-09T15:33:06.702344Z",
     "start_time": "2019-04-09T15:33:06.668786Z"
    },
    "hidden": true
   },
   "outputs": [],
   "source": [
    "sptmmf_df = player.add_categorical_variables(sptmmf_df, 'element_type')\n",
    "sptmmf_df = player.add_categorical_variables(sptmmf_df, 'opposition_team')\n",
    "sptmmf_df = player.add_categorical_variables(sptmmf_df, 'own_team')"
   ]
  },
  {
   "cell_type": "code",
   "execution_count": 121,
   "metadata": {
    "ExecuteTime": {
     "end_time": "2019-04-09T15:33:06.937068Z",
     "start_time": "2019-04-09T15:33:06.859968Z"
    },
    "hidden": true
   },
   "outputs": [],
   "source": [
    "sptmmf_redundant_columns = [\n",
    "    'row_id', 'assists', 'attempted_passes', 'big_chances_created',\n",
    "    'big_chances_missed', 'bonus', 'bps', 'clean_sheets', 'goals_scored',\n",
    "    'clearances_blocks_interceptions', 'completed_passes', 'creativity',\n",
    "    'dribbles', 'ea_index', 'element', 'errors_leading_to_goal',\n",
    "    'errors_leading_to_goal_attempt', 'fixture', 'fouls', 'goals_conceded',\n",
    "    'ict_index', 'id', 'influence', 'key_passes', 'kickoff_time',\n",
    "    'kickoff_time_formatted', 'loaned_in', 'loaned_out', 'offside',\n",
    "    'open_play_crosses', 'opponent_team', 'own_goals', 'penalties_conceded',\n",
    "    'penalties_missed', 'penalties_saved', 'recoveries', 'red_cards', 'round',\n",
    "    'saves', 'selected', 'tackled', 'tackles', 'target_missed', 'team_a_score',\n",
    "    'team_h_score', 'threat', 'total_points', 'transfers_balance',\n",
    "    'transfers_in', 'transfers_out', 'value', 'winning_goals',\n",
    "    'yellow_cards', 'event', 'team_a', 'team_a_difficulty', 'team_h',\n",
    "    'team_h_difficulty', 'element_type', 'team', 'web_name', 'safe_web_name',\n",
    "    'own_team', 'opposition_team', 'minutes',\n",
    "    'element_fixture_rank', 'minutes_rolling', 'goals_scored_rolling', 'assists_rolling',\n",
    "    'goals_scored_per_minute_rolling', 'assists_per_minute_rolling',\n",
    "    'goals_conceded_rolling'\n",
    "]"
   ]
  },
  {
   "cell_type": "code",
   "execution_count": 122,
   "metadata": {
    "ExecuteTime": {
     "end_time": "2019-04-09T15:33:07.173238Z",
     "start_time": "2019-04-09T15:33:07.160933Z"
    },
    "hidden": true
   },
   "outputs": [],
   "source": [
    "sptmmf_df['log_minutes'] = np.log(sptmmf_df['minutes'])"
   ]
  },
  {
   "cell_type": "code",
   "execution_count": 123,
   "metadata": {
    "ExecuteTime": {
     "end_time": "2019-04-09T15:33:07.562885Z",
     "start_time": "2019-04-09T15:33:07.551792Z"
    },
    "hidden": true
   },
   "outputs": [],
   "source": [
    "sptmmf_df = player.remove_redundant_columns(sptmmf_df, sptmmf_redundant_columns)"
   ]
  },
  {
   "cell_type": "code",
   "execution_count": 124,
   "metadata": {
    "ExecuteTime": {
     "end_time": "2019-04-09T15:33:07.754719Z",
     "start_time": "2019-04-09T15:33:07.708512Z"
    },
    "hidden": true
   },
   "outputs": [],
   "source": [
    "sptmmf_response_df, sptmmf_explanatory_df = player.get_response_explanatory_dfs(sptmmf_df, 'clean_sheets_no_time')"
   ]
  },
  {
   "cell_type": "code",
   "execution_count": 125,
   "metadata": {
    "ExecuteTime": {
     "end_time": "2019-04-09T15:33:07.893485Z",
     "start_time": "2019-04-09T15:33:07.886206Z"
    },
    "hidden": true
   },
   "outputs": [
    {
     "data": {
      "text/plain": [
       "Index(['const', 'was_home', 'goals_conceded_per_minute_rolling',\n",
       "       'element_type_2', 'element_type_3', 'element_type_4',\n",
       "       'opposition_team_2', 'opposition_team_3', 'opposition_team_4',\n",
       "       'opposition_team_5', 'opposition_team_6', 'opposition_team_7',\n",
       "       'opposition_team_8', 'opposition_team_9', 'opposition_team_10',\n",
       "       'opposition_team_11', 'opposition_team_12', 'opposition_team_13',\n",
       "       'opposition_team_14', 'opposition_team_15', 'opposition_team_16',\n",
       "       'opposition_team_17', 'opposition_team_18', 'opposition_team_19',\n",
       "       'opposition_team_20', 'own_team_2', 'own_team_3', 'own_team_4',\n",
       "       'own_team_5', 'own_team_6', 'own_team_7', 'own_team_8', 'own_team_9',\n",
       "       'own_team_10', 'own_team_11', 'own_team_12', 'own_team_13',\n",
       "       'own_team_14', 'own_team_15', 'own_team_16', 'own_team_17',\n",
       "       'own_team_18', 'own_team_19', 'own_team_20', 'log_minutes'],\n",
       "      dtype='object')"
      ]
     },
     "execution_count": 125,
     "metadata": {},
     "output_type": "execute_result"
    }
   ],
   "source": [
    "sptmmf_explanatory_df.columns"
   ]
  },
  {
   "cell_type": "markdown",
   "metadata": {
    "heading_collapsed": true,
    "hidden": true
   },
   "source": [
    "### Fitting model"
   ]
  },
  {
   "cell_type": "code",
   "execution_count": 126,
   "metadata": {
    "ExecuteTime": {
     "end_time": "2019-04-09T15:33:09.315538Z",
     "start_time": "2019-04-09T15:33:09.061140Z"
    },
    "hidden": true
   },
   "outputs": [],
   "source": [
    "sptmmf_results = sm.GLM(\n",
    "    sptmmf_response_df,\n",
    "    sptmmf_explanatory_df,\n",
    "    family=sm.families.Binomial(),\n",
    "    missing='drop'\n",
    ").fit()"
   ]
  },
  {
   "cell_type": "code",
   "execution_count": 127,
   "metadata": {
    "ExecuteTime": {
     "end_time": "2019-04-09T15:33:09.819712Z",
     "start_time": "2019-04-09T15:33:09.613042Z"
    },
    "hidden": true,
    "scrolled": true
   },
   "outputs": [
    {
     "name": "stdout",
     "output_type": "stream",
     "text": [
      "                  Generalized Linear Model Regression Results                   \n",
      "================================================================================\n",
      "Dep. Variable:     clean_sheets_no_time   No. Observations:                 8309\n",
      "Model:                              GLM   Df Residuals:                     8264\n",
      "Model Family:                  Binomial   Df Model:                           44\n",
      "Link Function:                    logit   Scale:                             1.0\n",
      "Method:                            IRLS   Log-Likelihood:                -4403.9\n",
      "Date:                  Tue, 09 Apr 2019   Deviance:                       8807.8\n",
      "Time:                          15:33:09   Pearson chi2:                 8.44e+03\n",
      "No. Iterations:                       5                                         \n",
      "=====================================================================================================\n",
      "                                        coef    std err          z      P>|z|      [0.025      0.975]\n",
      "-----------------------------------------------------------------------------------------------------\n",
      "const                                 1.9940      0.279      7.146      0.000       1.447       2.541\n",
      "was_home                              0.4404      0.053      8.382      0.000       0.337       0.543\n",
      "goals_conceded_per_minute_rolling     3.2932      1.748      1.884      0.060      -0.132       6.719\n",
      "element_type_2                        0.0503      0.110      0.459      0.646      -0.164       0.265\n",
      "element_type_3                        0.1940      0.108      1.798      0.072      -0.018       0.406\n",
      "element_type_4                        0.2439      0.123      1.990      0.047       0.004       0.484\n",
      "opposition_team_2                     1.6274      0.188      8.648      0.000       1.259       1.996\n",
      "opposition_team_3                     1.4866      0.191      7.793      0.000       1.113       1.861\n",
      "opposition_team_4                     1.4301      0.190      7.545      0.000       1.059       1.802\n",
      "opposition_team_5                     1.9951      0.188     10.611      0.000       1.627       2.364\n",
      "opposition_team_6                     1.1952      0.193      6.189      0.000       0.817       1.574\n",
      "opposition_team_7                     1.5412      0.189      8.158      0.000       1.171       1.911\n",
      "opposition_team_8                     1.2220      0.191      6.382      0.000       0.847       1.597\n",
      "opposition_team_9                     1.8456      0.187      9.874      0.000       1.479       2.212\n",
      "opposition_team_10                    2.5459      0.188     13.554      0.000       2.178       2.914\n",
      "opposition_team_11                    0.8262      0.196      4.217      0.000       0.442       1.210\n",
      "opposition_team_12                    0.4093      0.204      2.010      0.044       0.010       0.808\n",
      "opposition_team_13                    0.1483      0.211      0.703      0.482      -0.265       0.562\n",
      "opposition_team_14                    0.4869      0.203      2.403      0.016       0.090       0.884\n",
      "opposition_team_15                    1.9355      0.187     10.328      0.000       1.568       2.303\n",
      "opposition_team_16                    1.3895      0.191      7.275      0.000       1.015       1.764\n",
      "opposition_team_17                    0.5358      0.201      2.660      0.008       0.141       0.930\n",
      "opposition_team_18                    1.2983      0.190      6.843      0.000       0.926       1.670\n",
      "opposition_team_19                    1.9011      0.188     10.120      0.000       1.533       2.269\n",
      "opposition_team_20                    1.4166      0.190      7.466      0.000       1.045       1.789\n",
      "own_team_2                           -0.1109      0.166     -0.668      0.504      -0.436       0.215\n",
      "own_team_3                           -0.1881      0.166     -1.136      0.256      -0.513       0.136\n",
      "own_team_4                           -0.4849      0.170     -2.855      0.004      -0.818      -0.152\n",
      "own_team_5                           -0.0512      0.164     -0.313      0.755      -0.372       0.270\n",
      "own_team_6                            0.7714      0.157      4.905      0.000       0.463       1.080\n",
      "own_team_7                            0.2113      0.162      1.301      0.193      -0.107       0.530\n",
      "own_team_8                            0.3709      0.159      2.336      0.019       0.060       0.682\n",
      "own_team_9                           -1.0260      0.183     -5.617      0.000      -1.384      -0.668\n",
      "own_team_10                          -0.5083      0.171     -2.981      0.003      -0.843      -0.174\n",
      "own_team_11                           0.0101      0.162      0.062      0.950      -0.307       0.327\n",
      "own_team_12                           1.3646      0.160      8.514      0.000       1.050       1.679\n",
      "own_team_13                           1.0116      0.158      6.402      0.000       0.702       1.321\n",
      "own_team_14                          -0.0470      0.163     -0.289      0.772      -0.366       0.272\n",
      "own_team_15                           0.2455      0.162      1.519      0.129      -0.071       0.562\n",
      "own_team_16                          -0.0615      0.167     -0.368      0.713      -0.389       0.266\n",
      "own_team_17                           0.6724      0.159      4.229      0.000       0.361       0.984\n",
      "own_team_18                          -0.0427      0.165     -0.259      0.795      -0.365       0.280\n",
      "own_team_19                          -0.3815      0.165     -2.315      0.021      -0.705      -0.059\n",
      "own_team_20                          -0.0232      0.162     -0.143      0.886      -0.341       0.295\n",
      "log_minutes                          -1.0791      0.041    -26.119      0.000      -1.160      -0.998\n",
      "=====================================================================================================\n"
     ]
    }
   ],
   "source": [
    "print(sptmmf_results.summary())"
   ]
  },
  {
   "cell_type": "markdown",
   "metadata": {
    "heading_collapsed": true,
    "hidden": true
   },
   "source": [
    "### Model fit"
   ]
  },
  {
   "cell_type": "code",
   "execution_count": 128,
   "metadata": {
    "ExecuteTime": {
     "end_time": "2019-04-09T15:33:47.934867Z",
     "start_time": "2019-04-09T15:33:47.921409Z"
    },
    "hidden": true
   },
   "outputs": [
    {
     "data": {
      "text/plain": [
       "8897.845433949165"
      ]
     },
     "execution_count": 128,
     "metadata": {},
     "output_type": "execute_result"
    }
   ],
   "source": [
    "sptmmf_results.aic"
   ]
  },
  {
   "cell_type": "code",
   "execution_count": 129,
   "metadata": {
    "ExecuteTime": {
     "end_time": "2019-04-09T15:33:48.142251Z",
     "start_time": "2019-04-09T15:33:48.135574Z"
    },
    "hidden": true
   },
   "outputs": [
    {
     "data": {
      "text/plain": [
       "-65775.53587489823"
      ]
     },
     "execution_count": 129,
     "metadata": {},
     "output_type": "execute_result"
    }
   ],
   "source": [
    "sptmmf_results.bic"
   ]
  },
  {
   "cell_type": "code",
   "execution_count": 130,
   "metadata": {
    "ExecuteTime": {
     "end_time": "2019-04-09T15:33:48.503597Z",
     "start_time": "2019-04-09T15:33:48.496241Z"
    },
    "hidden": true
   },
   "outputs": [
    {
     "data": {
      "text/plain": [
       "(False, 0.08639778191938396)"
      ]
     },
     "execution_count": 130,
     "metadata": {},
     "output_type": "execute_result"
    }
   ],
   "source": [
    "sptmmf_pearson_results = goodness_fit.pearson_chi_squared_test(sptmmf_results)\n",
    "sptmmf_pearson_results"
   ]
  },
  {
   "cell_type": "code",
   "execution_count": 131,
   "metadata": {
    "ExecuteTime": {
     "end_time": "2019-04-09T15:33:48.923234Z",
     "start_time": "2019-04-09T15:33:48.911207Z"
    },
    "hidden": true
   },
   "outputs": [
    {
     "data": {
      "text/plain": [
       "count    8309.000000\n",
       "mean       -0.078679\n",
       "std         1.026632\n",
       "min        -2.953454\n",
       "25%        -0.828116\n",
       "50%        -0.523405\n",
       "75%         0.958720\n",
       "max         2.426374\n",
       "dtype: float64"
      ]
     },
     "execution_count": 131,
     "metadata": {},
     "output_type": "execute_result"
    }
   ],
   "source": [
    "sptmmf_results.resid_deviance.describe()"
   ]
  },
  {
   "cell_type": "code",
   "execution_count": 132,
   "metadata": {
    "ExecuteTime": {
     "end_time": "2019-04-09T15:33:50.282005Z",
     "start_time": "2019-04-09T15:33:50.041069Z"
    },
    "hidden": true
   },
   "outputs": [
    {
     "data": {
      "image/png": "[encoded data removed]",
      "text/plain": [
       "<Figure size 432x288 with 1 Axes>"
      ]
     },
     "metadata": {
      "needs_background": "light"
     },
     "output_type": "display_data"
    }
   ],
   "source": [
    "plt.figure()\n",
    "plt.hist(sptmmf_results.resid_deviance)\n",
    "plt.show()"
   ]
  },
  {
   "cell_type": "markdown",
   "metadata": {
    "heading_collapsed": true,
    "hidden": true
   },
   "source": [
    "## Simple Binomial player model"
   ]
  },
  {
   "cell_type": "markdown",
   "metadata": {
    "heading_collapsed": true,
    "hidden": true
   },
   "source": [
    "### Preparing data"
   ]
  },
  {
   "cell_type": "code",
   "execution_count": 86,
   "metadata": {
    "ExecuteTime": {
     "end_time": "2019-04-09T15:27:51.775826Z",
     "start_time": "2019-04-09T15:27:51.766272Z"
    },
    "hidden": true
   },
   "outputs": [],
   "source": [
    "sppm_df = element_gameweek_df.copy()"
   ]
  },
  {
   "cell_type": "code",
   "execution_count": 87,
   "metadata": {
    "ExecuteTime": {
     "end_time": "2019-04-09T15:27:51.845990Z",
     "start_time": "2019-04-09T15:27:51.805059Z"
    },
    "hidden": true
   },
   "outputs": [],
   "source": [
    "sppm_df = player.add_categorical_variables(sppm_df, 'opposition_team')\n",
    "sppm_df = player.add_categorical_variables(sppm_df, 'element')"
   ]
  },
  {
   "cell_type": "code",
   "execution_count": 88,
   "metadata": {
    "ExecuteTime": {
     "end_time": "2019-04-09T15:27:51.860498Z",
     "start_time": "2019-04-09T15:27:51.849712Z"
    },
    "hidden": true
   },
   "outputs": [],
   "source": [
    "sppm_redundant_columns = [\n",
    "    'row_id', 'assists', 'attempted_passes', 'big_chances_created',\n",
    "    'big_chances_missed', 'bonus', 'bps', 'clean_sheets', 'goals_scored',\n",
    "    'clearances_blocks_interceptions', 'completed_passes', 'creativity',\n",
    "    'dribbles', 'ea_index', 'element', 'errors_leading_to_goal',\n",
    "    'errors_leading_to_goal_attempt', 'fixture', 'fouls', 'goals_conceded',\n",
    "    'ict_index', 'id', 'influence', 'key_passes', 'kickoff_time',\n",
    "    'kickoff_time_formatted', 'loaned_in', 'loaned_out', 'minutes', 'offside',\n",
    "    'open_play_crosses', 'opponent_team', 'own_goals', 'penalties_conceded',\n",
    "    'penalties_missed', 'penalties_saved', 'recoveries', 'red_cards', 'round',\n",
    "    'saves', 'selected', 'tackled', 'tackles', 'target_missed', 'team_a_score',\n",
    "    'team_h_score', 'threat', 'total_points', 'transfers_balance',\n",
    "    'transfers_in', 'transfers_out', 'value', 'winning_goals',\n",
    "    'yellow_cards', 'event', 'team_a', 'team_a_difficulty', 'team_h',\n",
    "    'team_h_difficulty', 'element_type', 'team', 'web_name', 'safe_web_name',\n",
    "    'own_team', 'opposition_team',\n",
    "    'element_fixture_rank', 'minutes_rolling', 'goals_scored_rolling', 'assists_rolling',\n",
    "    'goals_scored_per_minute_rolling', 'assists_per_minute_rolling',\n",
    "    'goals_conceded_rolling', 'goals_conceded_per_minute_rolling'\n",
    "]"
   ]
  },
  {
   "cell_type": "code",
   "execution_count": 89,
   "metadata": {
    "ExecuteTime": {
     "end_time": "2019-04-09T15:27:51.905860Z",
     "start_time": "2019-04-09T15:27:51.863455Z"
    },
    "hidden": true
   },
   "outputs": [],
   "source": [
    "sppm_df = player.remove_redundant_columns(sppm_df, sppm_redundant_columns)"
   ]
  },
  {
   "cell_type": "code",
   "execution_count": 90,
   "metadata": {
    "ExecuteTime": {
     "end_time": "2019-04-09T15:27:52.288833Z",
     "start_time": "2019-04-09T15:27:51.909239Z"
    },
    "hidden": true
   },
   "outputs": [],
   "source": [
    "sppm_response_df, sppm_explanatory_df = player.get_response_explanatory_dfs(sppm_df, 'clean_sheets_no_time')"
   ]
  },
  {
   "cell_type": "code",
   "execution_count": 91,
   "metadata": {
    "ExecuteTime": {
     "end_time": "2019-04-09T15:27:52.307598Z",
     "start_time": "2019-04-09T15:27:52.296956Z"
    },
    "hidden": true
   },
   "outputs": [
    {
     "data": {
      "text/plain": [
       "Index(['const', 'was_home', 'opposition_team_2', 'opposition_team_3',\n",
       "       'opposition_team_4', 'opposition_team_5', 'opposition_team_6',\n",
       "       'opposition_team_7', 'opposition_team_8', 'opposition_team_9',\n",
       "       ...\n",
       "       'element_592', 'element_593', 'element_594', 'element_599',\n",
       "       'element_601', 'element_602', 'element_603', 'element_605',\n",
       "       'element_607', 'element_608'],\n",
       "      dtype='object', length=513)"
      ]
     },
     "execution_count": 91,
     "metadata": {},
     "output_type": "execute_result"
    }
   ],
   "source": [
    "sppm_explanatory_df.columns"
   ]
  },
  {
   "cell_type": "markdown",
   "metadata": {
    "heading_collapsed": true,
    "hidden": true
   },
   "source": [
    "### Fitting model"
   ]
  },
  {
   "cell_type": "code",
   "execution_count": 92,
   "metadata": {
    "ExecuteTime": {
     "end_time": "2019-04-09T15:28:36.960640Z",
     "start_time": "2019-04-09T15:27:52.314776Z"
    },
    "hidden": true
   },
   "outputs": [],
   "source": [
    "sppm_results = sm.GLM(\n",
    "    sppm_response_df,\n",
    "    sppm_explanatory_df,\n",
    "    family=sm.families.Binomial(),\n",
    "    missing='drop'\n",
    ").fit()"
   ]
  },
  {
   "cell_type": "code",
   "execution_count": 93,
   "metadata": {
    "ExecuteTime": {
     "end_time": "2019-04-09T15:28:37.248469Z",
     "start_time": "2019-04-09T15:28:36.964400Z"
    },
    "hidden": true
   },
   "outputs": [
    {
     "name": "stdout",
     "output_type": "stream",
     "text": [
      "                  Generalized Linear Model Regression Results                   \n",
      "================================================================================\n",
      "Dep. Variable:     clean_sheets_no_time   No. Observations:                 8802\n",
      "Model:                              GLM   Df Residuals:                     8289\n",
      "Model Family:                  Binomial   Df Model:                          512\n",
      "Link Function:                    logit   Scale:                             1.0\n",
      "Method:                            IRLS   Log-Likelihood:                -4942.8\n",
      "Date:                  Tue, 09 Apr 2019   Deviance:                       9885.5\n",
      "Time:                          15:28:36   Pearson chi2:                 8.58e+03\n",
      "No. Iterations:                      23                                         \n",
      "======================================================================================\n",
      "                         coef    std err          z      P>|z|      [0.025      0.975]\n",
      "--------------------------------------------------------------------------------------\n",
      "const                 -2.2877      0.867     -2.639      0.008      -3.987      -0.589\n",
      "was_home               0.4014      0.049      8.120      0.000       0.305       0.498\n",
      "opposition_team_2      1.3015      0.169      7.706      0.000       0.971       1.633\n",
      "opposition_team_3      1.2216      0.172      7.119      0.000       0.885       1.558\n",
      "opposition_team_4      1.2635      0.170      7.423      0.000       0.930       1.597\n",
      "opposition_team_5      1.6882      0.170      9.946      0.000       1.355       2.021\n",
      "opposition_team_6      0.8778      0.172      5.106      0.000       0.541       1.215\n",
      "opposition_team_7      1.2345      0.170      7.253      0.000       0.901       1.568\n",
      "opposition_team_8      0.9304      0.171      5.429      0.000       0.595       1.266\n",
      "opposition_team_9      1.5854      0.168      9.425      0.000       1.256       1.915\n",
      "opposition_team_10     2.2458      0.171     13.160      0.000       1.911       2.580\n",
      "opposition_team_11     0.5878      0.175      3.350      0.001       0.244       0.932\n",
      "opposition_team_12     0.2005      0.182      1.100      0.271      -0.157       0.558\n",
      "opposition_team_13    -0.0808      0.188     -0.429      0.668      -0.450       0.288\n",
      "opposition_team_14     0.2704      0.181      1.496      0.135      -0.084       0.625\n",
      "opposition_team_15     1.5673      0.169      9.299      0.000       1.237       1.898\n",
      "opposition_team_16     1.2326      0.171      7.211      0.000       0.898       1.568\n",
      "opposition_team_17     0.3308      0.180      1.842      0.066      -0.021       0.683\n",
      "opposition_team_18     1.0120      0.171      5.931      0.000       0.678       1.346\n",
      "opposition_team_19     1.5930      0.169      9.406      0.000       1.261       1.925\n",
      "opposition_team_20     1.0712      0.170      6.292      0.000       0.738       1.405\n",
      "element_2             -0.2565      0.984     -0.261      0.794      -2.185       1.672\n",
      "element_3             -0.1010      1.101     -0.092      0.927      -2.260       2.058\n",
      "element_4             -0.0788      1.010     -0.078      0.938      -2.058       1.901\n",
      "element_5              0.1428      1.006      0.142      0.887      -1.829       2.115\n",
      "element_6             -0.2408      1.171     -0.206      0.837      -2.537       2.055\n",
      "element_7             -0.2690      0.984     -0.273      0.785      -2.199       1.661\n",
      "element_8             -0.1910      1.014     -0.188      0.851      -2.179       1.797\n",
      "element_9             -0.7323      1.020     -0.718      0.473      -2.732       1.268\n",
      "element_10            26.9345   1.31e+05      0.000      1.000   -2.57e+05    2.57e+05\n",
      "element_11            -0.0756      1.110     -0.068      0.946      -2.250       2.099\n",
      "element_12            -0.0024      0.992     -0.002      0.998      -1.947       1.942\n",
      "element_13             0.2030      0.994      0.204      0.838      -1.745       2.151\n",
      "element_14             1.9997      0.963      2.076      0.038       0.111       3.888\n",
      "element_15             0.6745      0.945      0.714      0.475      -1.177       2.526\n",
      "element_16             1.8595      1.418      1.312      0.190      -0.919       4.638\n",
      "element_17            -0.2066      0.982     -0.210      0.833      -2.131       1.718\n",
      "element_18             0.1131      0.999      0.113      0.910      -1.845       2.071\n",
      "element_20             0.3591      1.077      0.333      0.739      -1.752       2.470\n",
      "element_21             1.3859      1.133      1.223      0.221      -0.835       3.607\n",
      "element_22             0.5538      0.941      0.589      0.556      -1.290       2.397\n",
      "element_23             0.2768      0.946      0.293      0.770      -1.577       2.130\n",
      "element_24            -0.2299      1.003     -0.229      0.819      -2.195       1.736\n",
      "element_25             0.2368      1.137      0.208      0.835      -1.992       2.466\n",
      "element_26             0.4175      1.008      0.414      0.679      -1.558       2.393\n",
      "element_27             0.0224      0.971      0.023      0.982      -1.880       1.925\n",
      "element_28             0.0631      0.996      0.063      0.950      -1.890       2.016\n",
      "element_29             0.2778      0.980      0.283      0.777      -1.643       2.199\n",
      "element_30             1.9202      1.303      1.474      0.141      -0.634       4.474\n",
      "element_31            -0.0852      0.955     -0.089      0.929      -1.958       1.787\n",
      "element_32           -22.5990   1.31e+05     -0.000      1.000   -2.57e+05    2.57e+05\n",
      "element_33             0.3106      0.968      0.321      0.748      -1.588       2.209\n",
      "element_35             0.2565      1.018      0.252      0.801      -1.739       2.252\n",
      "element_36             1.1631      0.976      1.192      0.233      -0.750       3.076\n",
      "element_37             0.5724      0.973      0.588      0.556      -1.335       2.480\n",
      "element_38             0.5501      1.004      0.548      0.584      -1.418       2.518\n",
      "element_39             1.2370      1.035      1.195      0.232      -0.793       3.266\n",
      "element_40            -0.0852      0.955     -0.089      0.929      -1.958       1.787\n",
      "element_42             0.3560      0.959      0.371      0.710      -1.523       2.235\n",
      "element_43             0.0296      0.975      0.030      0.976      -1.882       1.941\n",
      "element_44             1.7813      0.980      1.817      0.069      -0.140       3.702\n",
      "element_45             0.2488      0.954      0.261      0.794      -1.621       2.118\n",
      "element_46             1.7819      1.445      1.233      0.218      -1.050       4.614\n",
      "element_47            -0.5698      0.996     -0.572      0.567      -2.522       1.382\n",
      "element_48            -0.2269      0.965     -0.235      0.814      -2.119       1.665\n",
      "element_49            -0.3414      0.979     -0.349      0.727      -2.261       1.578\n",
      "element_50             0.6855      1.098      0.624      0.533      -1.467       2.839\n",
      "element_51            -0.0714      1.004     -0.071      0.943      -2.040       1.897\n",
      "element_54            -0.9289      1.389     -0.669      0.504      -3.651       1.794\n",
      "element_55             0.0601      0.971      0.062      0.951      -1.843       1.963\n",
      "element_56            -0.0730      0.984     -0.074      0.941      -2.002       1.856\n",
      "element_57             1.2605      1.042      1.210      0.226      -0.781       3.302\n",
      "element_58             0.0270      0.955      0.028      0.977      -1.845       1.899\n",
      "element_59            -0.2835      1.032     -0.275      0.784      -2.307       1.740\n",
      "element_60            -0.7955      1.021     -0.779      0.436      -2.796       1.205\n",
      "element_61             1.4825      1.084      1.368      0.171      -0.642       3.607\n",
      "element_62             0.5636      0.938      0.601      0.548      -1.275       2.402\n",
      "element_65             1.6516      0.964      1.713      0.087      -0.238       3.541\n",
      "element_66             1.3797      0.997      1.384      0.166      -0.574       3.334\n",
      "element_67            -0.3209      1.092     -0.294      0.769      -2.460       1.819\n",
      "element_69            -0.2003      1.049     -0.191      0.849      -2.257       1.856\n",
      "element_70            -0.3319      0.963     -0.345      0.730      -2.219       1.556\n",
      "element_71             0.1806      1.498      0.121      0.904      -2.755       3.116\n",
      "element_72            -0.1947      0.967     -0.201      0.840      -2.089       1.700\n",
      "element_73            -0.4573      1.420     -0.322      0.747      -3.240       2.325\n",
      "element_74            -0.1456      0.955     -0.153      0.879      -2.017       1.725\n",
      "element_75            -0.2713      1.035     -0.262      0.793      -2.300       1.757\n",
      "element_76             0.1752      0.964      0.182      0.856      -1.715       2.066\n",
      "element_77            -0.5589      1.411     -0.396      0.692      -3.324       2.206\n",
      "element_78             0.3956      0.959      0.413      0.680      -1.483       2.275\n",
      "element_79             0.6897      1.023      0.675      0.500      -1.314       2.694\n",
      "element_80            -0.1354      0.968     -0.140      0.889      -2.033       1.763\n",
      "element_82            -0.2792      0.964     -0.290      0.772      -2.169       1.611\n",
      "element_83            -0.1571      1.045     -0.150      0.880      -2.205       1.891\n",
      "element_84             0.5901      0.981      0.602      0.547      -1.333       2.513\n",
      "element_85             0.8518      0.936      0.910      0.363      -0.983       2.686\n",
      "element_87             0.0266      0.948      0.028      0.978      -1.832       1.885\n",
      "element_88            -0.0981      0.955     -0.103      0.918      -1.970       1.773\n",
      "element_90            -0.1051      0.968     -0.109      0.914      -2.003       1.793\n",
      "element_91            -0.1300      0.968     -0.134      0.893      -2.027       1.767\n",
      "element_92             0.0748      0.948      0.079      0.937      -1.784       1.934\n",
      "element_94             0.0574      0.976      0.059      0.953      -1.855       1.970\n",
      "element_95             0.5810      1.033      0.562      0.574      -1.444       2.606\n",
      "element_96             0.4600      1.552      0.296      0.767      -2.581       3.501\n",
      "element_98             0.1700      0.964      0.176      0.860      -1.719       2.059\n",
      "element_99             0.8066      0.951      0.848      0.396      -1.057       2.670\n",
      "element_100            0.9449      1.026      0.921      0.357      -1.065       2.955\n",
      "element_101            0.0593      0.961      0.062      0.951      -1.824       1.943\n",
      "element_102            0.2787      0.980      0.284      0.776      -1.642       2.199\n",
      "element_104            1.1940      1.779      0.671      0.502      -2.293       4.681\n",
      "element_105            1.0074      1.063      0.948      0.343      -1.076       3.091\n",
      "element_106            0.2455      0.964      0.255      0.799      -1.644       2.135\n",
      "element_107            0.1701      1.055      0.161      0.872      -1.897       2.237\n",
      "element_109            1.6635      1.266      1.314      0.189      -0.819       4.146\n",
      "element_110            1.1426      0.962      1.188      0.235      -0.742       3.027\n",
      "element_112           26.1215   1.31e+05      0.000      1.000   -2.57e+05    2.57e+05\n",
      "element_113            0.6189      0.935      0.662      0.508      -1.213       2.451\n",
      "element_114           25.2608   1.31e+05      0.000      1.000   -2.57e+05    2.57e+05\n",
      "element_115            0.7533      0.945      0.797      0.425      -1.099       2.606\n",
      "element_116            0.7440      0.939      0.792      0.428      -1.096       2.584\n",
      "element_117            0.8639      1.760      0.491      0.624      -2.585       4.313\n",
      "element_118            0.4993      0.942      0.530      0.596      -1.347       2.345\n",
      "element_119            0.5656      1.347      0.420      0.675      -2.075       3.206\n",
      "element_120           24.9602   7.51e+04      0.000      1.000   -1.47e+05    1.47e+05\n",
      "element_121            0.7995      1.162      0.688      0.492      -1.479       3.078\n",
      "element_122            0.9628      0.935      1.030      0.303      -0.870       2.796\n",
      "element_123            2.5968      1.394      1.862      0.063      -0.136       5.330\n",
      "element_124            1.0788      0.939      1.148      0.251      -0.763       2.920\n",
      "element_125            1.2702      0.950      1.337      0.181      -0.591       3.132\n",
      "element_126            0.6923      0.937      0.739      0.460      -1.144       2.528\n",
      "element_127            1.6396      0.964      1.700      0.089      -0.250       3.530\n",
      "element_131            2.9086      1.413      2.059      0.039       0.140       5.677\n",
      "element_132            2.2924      1.039      2.207      0.027       0.257       4.328\n",
      "element_133            2.7972      1.025      2.729      0.006       0.788       4.806\n",
      "element_134            1.5491      1.009      1.535      0.125      -0.429       3.527\n",
      "element_135            0.0416      1.012      0.041      0.967      -1.942       2.025\n",
      "element_136          -22.4789   1.31e+05     -0.000      1.000   -2.57e+05    2.57e+05\n",
      "element_137            0.6907      1.030      0.671      0.502      -1.327       2.709\n",
      "element_138            0.4568      0.951      0.481      0.631      -1.406       2.320\n",
      "element_139            1.2775      1.284      0.995      0.320      -1.238       3.793\n",
      "element_140           -0.6593      1.396     -0.472      0.637      -3.395       2.077\n",
      "element_141            0.6248      0.947      0.660      0.509      -1.231       2.480\n",
      "element_142            0.2132      0.944      0.226      0.821      -1.636       2.063\n",
      "element_143            0.3378      0.955      0.354      0.723      -1.534       2.209\n",
      "element_145            0.3210      0.948      0.339      0.735      -1.537       2.179\n",
      "element_146            1.8511      1.079      1.715      0.086      -0.264       3.966\n",
      "element_147            0.2132      0.944      0.226      0.821      -1.636       2.063\n",
      "element_148           24.8669   1.31e+05      0.000      1.000   -2.57e+05    2.57e+05\n",
      "element_149            0.2132      0.944      0.226      0.821      -1.636       2.063\n",
      "element_150            0.2132      0.944      0.226      0.821      -1.636       2.063\n",
      "element_151            0.2726      0.955      0.286      0.775      -1.598       2.144\n",
      "element_152            0.8918      1.048      0.851      0.395      -1.163       2.946\n",
      "element_153            2.2221      1.094      2.032      0.042       0.078       4.366\n",
      "element_154            0.1639      0.943      0.174      0.862      -1.685       2.013\n",
      "element_156           -0.1786      1.241     -0.144      0.886      -2.611       2.254\n",
      "element_157            0.4048      0.962      0.421      0.674      -1.481       2.290\n",
      "element_158            1.7895      1.508      1.187      0.235      -1.165       4.744\n",
      "element_160          -24.0752   5.59e+04     -0.000      1.000   -1.09e+05    1.09e+05\n",
      "element_161           -0.4671      1.185     -0.394      0.693      -2.789       1.855\n",
      "element_162            0.4295      0.947      0.454      0.650      -1.426       2.285\n",
      "element_164            0.7031      0.937      0.751      0.453      -1.133       2.539\n",
      "element_167            1.3165      1.091      1.207      0.227      -0.821       3.455\n",
      "element_168            0.4824      0.950      0.508      0.612      -1.379       2.344\n",
      "element_169            0.6278      1.023      0.614      0.540      -1.378       2.633\n",
      "element_170            1.4490      1.016      1.426      0.154      -0.542       3.440\n",
      "element_172            0.6100      0.935      0.652      0.514      -1.223       2.443\n",
      "element_175            1.6529      0.944      1.751      0.080      -0.197       3.503\n",
      "element_176            1.2549      1.028      1.221      0.222      -0.760       3.270\n",
      "element_177            1.3849      0.970      1.427      0.153      -0.517       3.287\n",
      "element_178          -23.3865   4.74e+04     -0.000      1.000   -9.29e+04    9.29e+04\n",
      "element_179            0.1685      1.461      0.115      0.908      -2.696       3.033\n",
      "element_180           -0.8467      1.066     -0.794      0.427      -2.937       1.244\n",
      "element_181           -1.1732      1.059     -1.108      0.268      -3.249       0.902\n",
      "element_182           -0.4895      0.997     -0.491      0.623      -2.444       1.465\n",
      "element_183           -0.3913      1.082     -0.362      0.718      -2.511       1.729\n",
      "element_184           -0.5309      0.994     -0.534      0.593      -2.479       1.417\n",
      "element_185            0.7707      1.057      0.729      0.466      -1.302       2.843\n",
      "element_186            1.2774      1.044      1.224      0.221      -0.768       3.323\n",
      "element_187            2.0692      1.235      1.676      0.094      -0.351       4.489\n",
      "element_189            0.1790      1.066      0.168      0.867      -1.910       2.268\n",
      "element_190           -0.2476      1.446     -0.171      0.864      -3.082       2.587\n",
      "element_191           -0.6074      0.992     -0.612      0.540      -2.552       1.337\n",
      "element_192           -0.6649      0.990     -0.672      0.502      -2.605       1.275\n",
      "element_193           -0.9424      1.061     -0.888      0.374      -3.022       1.137\n",
      "element_194           -0.0747      1.180     -0.063      0.950      -2.388       2.238\n",
      "element_195           -1.0595      1.060     -0.999      0.318      -3.137       1.018\n",
      "element_197           -0.3689      1.000     -0.369      0.712      -2.329       1.591\n",
      "element_198           -0.7230      1.020     -0.709      0.478      -2.721       1.275\n",
      "element_199           -0.3510      0.997     -0.352      0.725      -2.306       1.604\n",
      "element_200           -0.4816      1.428     -0.337      0.736      -3.281       2.318\n",
      "element_201            0.1212      0.974      0.124      0.901      -1.788       2.031\n",
      "element_202           -0.3492      0.977     -0.357      0.721      -2.265       1.566\n",
      "element_204            2.4887      1.476      1.686      0.092      -0.405       5.382\n",
      "element_205            1.6773      1.729      0.970      0.332      -1.711       5.065\n",
      "element_206            0.2296      0.962      0.239      0.811      -1.655       2.114\n",
      "element_207            1.2243      1.365      0.897      0.370      -1.452       3.901\n",
      "element_208           -0.9183      1.151     -0.798      0.425      -3.175       1.339\n",
      "element_209            1.3355      1.727      0.773      0.439      -2.049       4.720\n",
      "element_210            0.6020      0.965      0.624      0.533      -1.289       2.493\n",
      "element_211            0.6753      0.949      0.712      0.477      -1.184       2.535\n",
      "element_212           -0.5149      1.072     -0.480      0.631      -2.616       1.586\n",
      "element_213           -0.1268      0.954     -0.133      0.894      -1.996       1.743\n",
      "element_215            0.2164      0.989      0.219      0.827      -1.723       2.155\n",
      "element_216            0.2113      1.500      0.141      0.888      -2.729       3.152\n",
      "element_217            1.5947      1.272      1.254      0.210      -0.898       4.087\n",
      "element_219           -0.0243      0.957     -0.025      0.980      -1.899       1.851\n",
      "element_220           -0.4618      0.998     -0.463      0.644      -2.418       1.494\n",
      "element_221            0.1140      0.956      0.119      0.905      -1.760       1.988\n",
      "element_222            0.3855      0.985      0.391      0.696      -1.546       2.317\n",
      "element_223            2.0696      0.972      2.130      0.033       0.165       3.974\n",
      "element_224            0.8255      0.965      0.855      0.392      -1.066       2.717\n",
      "element_225            0.9571      0.939      1.019      0.308      -0.884       2.798\n",
      "element_226            0.2632      1.139      0.231      0.817      -1.970       2.497\n",
      "element_227            0.0441      0.948      0.047      0.963      -1.813       1.901\n",
      "element_228            0.9697      1.125      0.862      0.389      -1.235       3.174\n",
      "element_230            1.9301      1.271      1.518      0.129      -0.562       4.422\n",
      "element_231            1.4162      1.711      0.828      0.408      -1.936       4.769\n",
      "element_232          -23.8638   1.31e+05     -0.000      1.000   -2.57e+05    2.57e+05\n",
      "element_233           -0.4312      0.976     -0.442      0.659      -2.344       1.482\n",
      "element_234            0.5536      0.946      0.585      0.558      -1.300       2.408\n",
      "element_235            2.5354      1.038      2.444      0.015       0.502       4.569\n",
      "element_236            0.9076      0.949      0.956      0.339      -0.953       2.768\n",
      "element_239            1.7173      1.097      1.566      0.117      -0.433       3.867\n",
      "element_240          -23.9846   9.02e+04     -0.000      1.000   -1.77e+05    1.77e+05\n",
      "element_241            0.7784      1.029      0.757      0.449      -1.238       2.795\n",
      "element_242            1.9979      1.064      1.878      0.060      -0.087       4.083\n",
      "element_243            1.3923      0.987      1.411      0.158      -0.542       3.327\n",
      "element_245            1.3700      0.963      1.423      0.155      -0.516       3.256\n",
      "element_246            1.2440      0.933      1.334      0.182      -0.584       3.072\n",
      "element_247            1.4343      0.939      1.528      0.126      -0.405       3.274\n",
      "element_249            1.8500      0.957      1.932      0.053      -0.026       3.726\n",
      "element_250            2.1533      1.088      1.979      0.048       0.020       4.286\n",
      "element_251            1.2912      0.937      1.377      0.168      -0.546       3.128\n",
      "element_252            1.5256      0.943      1.618      0.106      -0.322       3.373\n",
      "element_253            1.3820      0.934      1.480      0.139      -0.448       3.212\n",
      "element_254            1.4455      0.952      1.519      0.129      -0.420       3.311\n",
      "element_255            1.5589      0.966      1.614      0.107      -0.334       3.452\n",
      "element_256            1.9900      0.989      2.012      0.044       0.052       3.928\n",
      "element_257            1.9271      0.945      2.039      0.041       0.074       3.780\n",
      "element_258            0.8870      0.978      0.907      0.365      -1.031       2.805\n",
      "element_259            0.1376      1.249      0.110      0.912      -2.310       2.586\n",
      "element_260            0.9593      0.932      1.029      0.303      -0.867       2.786\n",
      "element_262            1.0804      0.977      1.106      0.269      -0.834       2.994\n",
      "element_263            1.2493      1.051      1.189      0.235      -0.811       3.309\n",
      "element_264            1.3821      1.007      1.372      0.170      -0.592       3.356\n",
      "element_265            1.4363      0.948      1.515      0.130      -0.421       3.294\n",
      "element_266            0.5412      1.103      0.491      0.624      -1.621       2.703\n",
      "element_267            0.9044      1.124      0.805      0.421      -1.299       3.107\n",
      "element_268            1.0614      0.940      1.129      0.259      -0.781       2.904\n",
      "element_269            0.9950      1.058      0.941      0.347      -1.078       3.068\n",
      "element_270            1.3443      0.944      1.425      0.154      -0.505       3.194\n",
      "element_271            1.2106      0.946      1.279      0.201      -0.644       3.065\n",
      "element_272            1.0527      0.946      1.113      0.266      -0.802       2.907\n",
      "element_273            3.1113      1.156      2.692      0.007       0.846       5.376\n",
      "element_274            1.3825      0.956      1.447      0.148      -0.490       3.255\n",
      "element_275            1.4298      0.954      1.499      0.134      -0.439       3.299\n",
      "element_276            0.9953      0.937      1.062      0.288      -0.841       2.832\n",
      "element_277           25.2822    3.8e+04      0.001      0.999   -7.44e+04    7.45e+04\n",
      "element_279            1.4153      1.114      1.270      0.204      -0.769       3.600\n",
      "element_280            1.2184      0.947      1.286      0.198      -0.638       3.075\n",
      "element_281            1.7827      0.965      1.847      0.065      -0.109       3.674\n",
      "element_282           -0.2861      0.962     -0.297      0.766      -2.172       1.600\n",
      "element_284           -0.0421      1.006     -0.042      0.967      -2.014       1.930\n",
      "element_285            0.2384      1.033      0.231      0.817      -1.786       2.262\n",
      "element_286           -0.2214      0.981     -0.226      0.821      -2.143       1.700\n",
      "element_287          -23.6323   7.18e+04     -0.000      1.000   -1.41e+05    1.41e+05\n",
      "element_288            0.6626      1.259      0.526      0.599      -1.805       3.131\n",
      "element_289            0.8753      1.281      0.683      0.494      -1.635       3.386\n",
      "element_291            0.9853      1.060      0.929      0.353      -1.093       3.064\n",
      "element_292           -0.1605      0.981     -0.164      0.870      -2.084       1.763\n",
      "element_293           -0.7233      1.022     -0.707      0.479      -2.727       1.281\n",
      "element_294            0.3418      1.075      0.318      0.751      -1.766       2.450\n",
      "element_295            0.7242      0.995      0.728      0.467      -1.225       2.674\n",
      "element_296           -0.1857      0.984     -0.189      0.850      -2.113       1.742\n",
      "element_297            1.0459      0.981      1.066      0.286      -0.876       2.968\n",
      "element_298            0.8743      1.023      0.855      0.393      -1.130       2.879\n",
      "element_299            0.9175      0.977      0.939      0.348      -0.998       2.833\n",
      "element_300            0.7278      0.959      0.759      0.448      -1.151       2.607\n",
      "element_301            0.8742      0.961      0.910      0.363      -1.009       2.757\n",
      "element_302            0.1821      0.950      0.192      0.848      -1.680       2.045\n",
      "element_303            0.6599      1.047      0.631      0.528      -1.391       2.711\n",
      "element_304            0.3050      1.033      0.295      0.768      -1.719       2.329\n",
      "element_305            0.6630      0.949      0.699      0.485      -1.196       2.522\n",
      "element_306            0.3560      0.952      0.374      0.709      -1.511       2.222\n",
      "element_309            0.0852      0.949      0.090      0.928      -1.774       1.945\n",
      "element_310           -0.2113      0.980     -0.216      0.829      -2.132       1.710\n",
      "element_311            0.0785      1.106      0.071      0.943      -2.090       2.247\n",
      "element_312            0.5911      0.953      0.620      0.535      -1.277       2.460\n",
      "element_313            0.8966      0.976      0.918      0.358      -1.017       2.810\n",
      "element_314           -0.0176      1.115     -0.016      0.987      -2.203       2.168\n",
      "element_315            1.2243      1.025      1.194      0.232      -0.785       3.234\n",
      "element_317            0.1392      0.951      0.146      0.884      -1.725       2.003\n",
      "element_318            0.9325      1.028      0.907      0.364      -1.082       2.947\n",
      "element_319            0.4423      0.957      0.462      0.644      -1.433       2.318\n",
      "element_320            1.2841      0.968      1.327      0.185      -0.613       3.181\n",
      "element_321            1.3225      1.102      1.200      0.230      -0.838       3.483\n",
      "element_323            0.9934      0.985      1.009      0.313      -0.937       2.924\n",
      "element_324            0.0981      1.058      0.093      0.926      -1.976       2.172\n",
      "element_326            0.4272      0.941      0.454      0.650      -1.418       2.272\n",
      "element_327            1.1451      1.006      1.139      0.255      -0.826       3.116\n",
      "element_328           -0.6863      1.021     -0.672      0.502      -2.688       1.316\n",
      "element_330            0.4540      1.005      0.452      0.651      -1.515       2.423\n",
      "element_331           -0.1792      1.095     -0.164      0.870      -2.326       1.967\n",
      "element_332            0.2146      1.012      0.212      0.832      -1.768       2.197\n",
      "element_333            0.4029      1.004      0.401      0.688      -1.564       2.370\n",
      "element_335           -0.2167      1.039     -0.208      0.835      -2.254       1.820\n",
      "element_336            0.2476      1.055      0.235      0.814      -1.819       2.315\n",
      "element_337            0.6741      1.532      0.440      0.660      -2.328       3.676\n",
      "element_338            0.0904      1.013      0.089      0.929      -1.895       2.075\n",
      "element_339            0.1754      0.976      0.180      0.857      -1.737       2.088\n",
      "element_340           -0.5270      1.025     -0.514      0.607      -2.535       1.481\n",
      "element_342           25.8908   9.19e+04      0.000      1.000    -1.8e+05     1.8e+05\n",
      "element_343            0.3491      0.945      0.370      0.712      -1.503       2.201\n",
      "element_344            0.0189      1.014      0.019      0.985      -1.968       2.006\n",
      "element_345            1.0912      0.957      1.140      0.254      -0.785       2.967\n",
      "element_346            1.8688      1.034      1.807      0.071      -0.158       3.896\n",
      "element_347            1.2950      0.982      1.319      0.187      -0.629       3.219\n",
      "element_348            1.3812      0.967      1.429      0.153      -0.513       3.276\n",
      "element_349            0.9889      1.040      0.951      0.342      -1.050       3.028\n",
      "element_351            0.4584      0.948      0.484      0.629      -1.400       2.316\n",
      "element_352          -23.0966   9.22e+04     -0.000      1.000   -1.81e+05    1.81e+05\n",
      "element_353            0.5279      0.943      0.560      0.576      -1.320       2.376\n",
      "element_354            1.1607      0.971      1.196      0.232      -0.742       3.063\n",
      "element_355            0.0678      1.013      0.067      0.947      -1.917       2.052\n",
      "element_356            0.8577      0.971      0.883      0.377      -1.045       2.761\n",
      "element_357            0.7926      0.953      0.832      0.406      -1.075       2.660\n",
      "element_358            2.2986      1.453      1.582      0.114      -0.549       5.146\n",
      "element_359            0.1550      0.996      0.156      0.876      -1.797       2.107\n",
      "element_360            0.7817      1.140      0.686      0.493      -1.453       3.016\n",
      "element_361            0.7371      1.007      0.732      0.464      -1.237       2.711\n",
      "element_362            1.5446      1.090      1.417      0.157      -0.593       3.682\n",
      "element_363            1.0548      0.984      1.071      0.284      -0.875       2.984\n",
      "element_364            0.4640      0.946      0.491      0.624      -1.390       2.318\n",
      "element_365            0.7344      0.978      0.751      0.453      -1.182       2.651\n",
      "element_366            2.9144      1.399      2.083      0.037       0.172       5.657\n",
      "element_367            1.2320      0.948      1.299      0.194      -0.627       3.091\n",
      "element_368            1.3830      0.950      1.455      0.146      -0.479       3.245\n",
      "element_369            0.7268      0.950      0.765      0.444      -1.135       2.588\n",
      "element_370            1.7495      0.958      1.827      0.068      -0.127       3.626\n",
      "element_371            1.8002      1.025      1.756      0.079      -0.209       3.809\n",
      "element_372            0.4895      0.949      0.516      0.606      -1.370       2.349\n",
      "element_376           -0.1833      0.965     -0.190      0.849      -2.075       1.709\n",
      "element_377           25.7826   1.31e+05      0.000      1.000   -2.57e+05    2.57e+05\n",
      "element_378           -0.1727      0.981     -0.176      0.860      -2.095       1.750\n",
      "element_379            0.8956      1.567      0.572      0.568      -2.175       3.966\n",
      "element_380            0.1322      1.023      0.129      0.897      -1.872       2.136\n",
      "element_381           -0.0014      1.044     -0.001      0.999      -2.047       2.044\n",
      "element_382            0.4223      0.971      0.435      0.664      -1.481       2.326\n",
      "element_383            0.4126      0.971      0.425      0.671      -1.490       2.315\n",
      "element_385          -22.2784   1.31e+05     -0.000      1.000   -2.57e+05    2.57e+05\n",
      "element_386            0.8100      1.104      0.734      0.463      -1.354       2.974\n",
      "element_387            1.6296      1.158      1.407      0.159      -0.640       3.899\n",
      "element_388            2.3493      1.103      2.130      0.033       0.188       4.511\n",
      "element_389            0.1178      0.960      0.123      0.902      -1.764       1.999\n",
      "element_390           -0.3491      0.978     -0.357      0.721      -2.266       1.568\n",
      "element_391           -0.3691      0.978     -0.377      0.706      -2.286       1.548\n",
      "element_392            0.2591      0.964      0.269      0.788      -1.630       2.148\n",
      "element_393            0.5033      0.942      0.534      0.593      -1.343       2.350\n",
      "element_394            1.0088      0.954      1.058      0.290      -0.860       2.878\n",
      "element_395            1.6976      0.967      1.756      0.079      -0.197       3.592\n",
      "element_396            0.3143      0.952      0.330      0.741      -1.551       2.179\n",
      "element_397            0.4592      1.664      0.276      0.783      -2.802       3.721\n",
      "element_400           -0.7725      0.991     -0.780      0.436      -2.715       1.170\n",
      "element_402           -0.8718      1.072     -0.813      0.416      -2.973       1.229\n",
      "element_403           -0.8892      1.070     -0.831      0.406      -2.987       1.208\n",
      "element_405           -0.1052      0.987     -0.107      0.915      -2.040       1.830\n",
      "element_406           -0.6620      0.994     -0.666      0.505      -2.610       1.286\n",
      "element_408            0.1654      1.127      0.147      0.883      -2.044       2.375\n",
      "element_409           -0.7057      0.993     -0.711      0.477      -2.651       1.240\n",
      "element_410            0.4193      1.000      0.419      0.675      -1.541       2.380\n",
      "element_411           -0.0285      0.971     -0.029      0.977      -1.932       1.876\n",
      "element_412            0.9058      0.949      0.954      0.340      -0.955       2.767\n",
      "element_413            0.4194      0.983      0.426      0.670      -1.508       2.347\n",
      "element_414           -0.1253      1.251     -0.100      0.920      -2.577       2.326\n",
      "element_415            1.1191      0.944      1.186      0.236      -0.730       2.969\n",
      "element_417           -0.4219      1.003     -0.421      0.674      -2.388       1.544\n",
      "element_418            1.0990      1.045      1.051      0.293      -0.950       3.148\n",
      "element_419            0.4442      0.966      0.460      0.646      -1.449       2.337\n",
      "element_421           24.7642   1.31e+05      0.000      1.000   -2.57e+05    2.57e+05\n",
      "element_423           -0.4328      0.977     -0.443      0.658      -2.347       1.482\n",
      "element_425           -0.3279      0.963     -0.340      0.734      -2.215       1.560\n",
      "element_426            1.0805      0.986      1.096      0.273      -0.852       3.013\n",
      "element_427           -0.1943      0.967     -0.201      0.841      -2.090       1.701\n",
      "element_430           -0.3279      0.963     -0.340      0.734      -2.215       1.560\n",
      "element_431            1.1876      1.024      1.160      0.246      -0.819       3.194\n",
      "element_432            0.5954      0.949      0.627      0.530      -1.264       2.455\n",
      "element_433           -0.3629      0.978     -0.371      0.711      -2.280       1.555\n",
      "element_434            1.4210      0.977      1.455      0.146      -0.493       3.335\n",
      "element_435            0.8147      0.957      0.851      0.395      -1.061       2.690\n",
      "element_437            0.3476      0.940      0.370      0.711      -1.494       2.189\n",
      "element_438           25.6413   4.84e+04      0.001      1.000   -9.48e+04    9.48e+04\n",
      "element_440           -0.1822      1.046     -0.174      0.862      -2.232       1.868\n",
      "element_441          -23.0047   6.53e+04     -0.000      1.000   -1.28e+05    1.28e+05\n",
      "element_443           25.2683   1.31e+05      0.000      1.000   -2.57e+05    2.57e+05\n",
      "element_444            2.6663      1.433      1.860      0.063      -0.143       5.475\n",
      "element_445           -0.2615      0.963     -0.271      0.786      -2.149       1.626\n",
      "element_446            1.5810      1.025      1.543      0.123      -0.427       3.589\n",
      "element_447            0.8278      1.292      0.641      0.522      -1.704       3.360\n",
      "element_448            1.1661      0.974      1.197      0.231      -0.743       3.075\n",
      "element_450            0.2998      0.948      0.316      0.752      -1.558       2.157\n",
      "element_451            0.6242      0.952      0.656      0.512      -1.242       2.490\n",
      "element_452            1.4487      1.212      1.196      0.232      -0.926       3.823\n",
      "element_453            0.6328      1.124      0.563      0.573      -1.570       2.836\n",
      "element_454           -0.4609      0.976     -0.472      0.637      -2.373       1.451\n",
      "element_455           -2.0653      1.345     -1.535      0.125      -4.702       0.572\n",
      "element_456           -0.8766      1.018     -0.861      0.389      -2.872       1.118\n",
      "element_458            1.0754      0.964      1.115      0.265      -0.815       2.966\n",
      "element_459            0.6704      0.937      0.716      0.474      -1.165       2.506\n",
      "element_460           -0.1827      1.006     -0.182      0.856      -2.154       1.789\n",
      "element_461           -0.0214      0.984     -0.022      0.983      -1.951       1.908\n",
      "element_462            2.1062      0.995      2.118      0.034       0.157       4.055\n",
      "element_463           -0.4563      1.030     -0.443      0.658      -2.475       1.562\n",
      "element_464           -0.4977      1.075     -0.463      0.644      -2.606       1.610\n",
      "element_465           -0.4997      0.976     -0.512      0.609      -2.412       1.413\n",
      "element_466            0.0641      0.976      0.066      0.948      -1.849       1.977\n",
      "element_467           -0.5208      1.392     -0.374      0.708      -3.250       2.208\n",
      "element_468            1.2440      0.933      1.334      0.182      -0.584       3.072\n",
      "element_471            0.3225      1.107      0.291      0.771      -1.848       2.493\n",
      "element_472            2.6860      1.084      2.477      0.013       0.561       4.811\n",
      "element_473            0.1434      1.166      0.123      0.902      -2.142       2.429\n",
      "element_474          -23.3512   8.77e+04     -0.000      1.000   -1.72e+05    1.72e+05\n",
      "element_475            0.1935      0.943      0.205      0.838      -1.656       2.043\n",
      "element_476            1.4593      1.020      1.431      0.152      -0.539       3.458\n",
      "element_478           -0.2522      1.001     -0.252      0.801      -2.214       1.709\n",
      "element_479           -0.7361      1.162     -0.634      0.526      -3.013       1.541\n",
      "element_480           -1.7411      1.131     -1.539      0.124      -3.959       0.476\n",
      "element_481            0.7943      1.054      0.753      0.451      -1.272       2.861\n",
      "element_482            0.1131      1.001      0.113      0.910      -1.850       2.076\n",
      "element_483            0.0364      0.969      0.038      0.970      -1.862       1.935\n",
      "element_484            0.5051      0.946      0.534      0.593      -1.348       2.358\n",
      "element_486            1.4327      0.960      1.492      0.136      -0.449       3.315\n",
      "element_487           -0.8155      1.167     -0.699      0.485      -3.104       1.473\n",
      "element_488            1.6605      1.023      1.624      0.104      -0.344       3.665\n",
      "element_489            0.3305      0.946      0.349      0.727      -1.523       2.184\n",
      "element_490           -0.3400      1.035     -0.329      0.743      -2.369       1.688\n",
      "element_491          -23.6102   1.31e+05     -0.000      1.000   -2.57e+05    2.57e+05\n",
      "element_492            1.1405      0.984      1.159      0.246      -0.788       3.069\n",
      "element_493            0.5262      0.954      0.552      0.581      -1.344       2.396\n",
      "element_494            0.2684      0.967      0.277      0.781      -1.628       2.164\n",
      "element_495            0.9307      1.071      0.869      0.385      -1.168       3.029\n",
      "element_497           25.2683   1.31e+05      0.000      1.000   -2.57e+05    2.57e+05\n",
      "element_498            0.5136      0.938      0.547      0.584      -1.326       2.353\n",
      "element_499            1.3876      0.945      1.468      0.142      -0.464       3.240\n",
      "element_500            1.3890      0.955      1.454      0.146      -0.483       3.261\n",
      "element_502            0.1595      1.068      0.149      0.881      -1.934       2.253\n",
      "element_503           -0.8685      1.067     -0.814      0.416      -2.960       1.223\n",
      "element_504           -0.0548      0.970     -0.056      0.955      -1.957       1.847\n",
      "element_505            1.4261      0.990      1.440      0.150      -0.515       3.367\n",
      "element_506            0.6458      1.050      0.615      0.539      -1.413       2.704\n",
      "element_507            1.5699      0.947      1.657      0.097      -0.287       3.427\n",
      "element_508            0.7105      0.958      0.742      0.458      -1.167       2.588\n",
      "element_509           -1.4437      1.140     -1.267      0.205      -3.678       0.790\n",
      "element_510           -0.8622      1.065     -0.809      0.418      -2.951       1.226\n",
      "element_511           -1.2484      1.369     -0.912      0.362      -3.931       1.434\n",
      "element_512            0.0438      1.041      0.042      0.966      -1.997       2.084\n",
      "element_513            0.4527      0.987      0.459      0.647      -1.482       2.387\n",
      "element_514            1.3681      0.998      1.371      0.170      -0.587       3.323\n",
      "element_515            0.1264      1.257      0.101      0.920      -2.337       2.590\n",
      "element_516            0.0303      1.041      0.029      0.977      -2.009       2.070\n",
      "element_517            0.8433      1.128      0.748      0.455      -1.367       3.054\n",
      "element_518            1.6367      1.282      1.277      0.202      -0.875       4.148\n",
      "element_519           -0.2567      1.095     -0.234      0.815      -2.403       1.889\n",
      "element_521          -22.6364   7.48e+04     -0.000      1.000   -1.47e+05    1.47e+05\n",
      "element_522            1.4036      1.167      1.203      0.229      -0.883       3.690\n",
      "element_523           25.2864   1.31e+05      0.000      1.000   -2.57e+05    2.57e+05\n",
      "element_524            1.4106      0.955      1.477      0.140      -0.462       3.283\n",
      "element_526            0.1411      0.965      0.146      0.884      -1.750       2.033\n",
      "element_527            0.5653      0.945      0.598      0.550      -1.287       2.418\n",
      "element_531            0.2982      1.144      0.261      0.794      -1.943       2.540\n",
      "element_534           -0.0698      1.047     -0.067      0.947      -2.121       1.982\n",
      "element_535            1.6320      1.053      1.549      0.121      -0.433       3.697\n",
      "element_536            0.5540      1.695      0.327      0.744      -2.768       3.876\n",
      "element_539            0.6407      1.017      0.630      0.529      -1.353       2.634\n",
      "element_540            2.5006      1.398      1.788      0.074      -0.240       5.241\n",
      "element_543            2.5219      1.175      2.147      0.032       0.219       4.824\n",
      "element_544            1.5867      1.676      0.947      0.344      -1.699       4.872\n",
      "element_549            0.1415      1.209      0.117      0.907      -2.228       2.511\n",
      "element_550            2.1285      1.265      1.683      0.092      -0.350       4.608\n",
      "element_552           25.8894   9.14e+04      0.000      1.000   -1.79e+05    1.79e+05\n",
      "element_556            0.1792      1.022      0.175      0.861      -1.823       2.182\n",
      "element_557          -23.9143   1.31e+05     -0.000      1.000   -2.57e+05    2.57e+05\n",
      "element_560           25.5903   1.31e+05      0.000      1.000   -2.57e+05    2.57e+05\n",
      "element_562           26.4523   1.31e+05      0.000      1.000   -2.57e+05    2.57e+05\n",
      "element_563           24.8669   1.31e+05      0.000      1.000   -2.57e+05    2.57e+05\n",
      "element_565          -22.5990   1.31e+05     -0.000      1.000   -2.57e+05    2.57e+05\n",
      "element_566          -24.5241   1.31e+05     -0.000      1.000   -2.57e+05    2.57e+05\n",
      "element_568          -24.9255   1.31e+05     -0.000      1.000   -2.57e+05    2.57e+05\n",
      "element_569            1.5978      1.319      1.211      0.226      -0.988       4.184\n",
      "element_570            1.8482      1.518      1.218      0.223      -1.126       4.823\n",
      "element_571           -0.4627      1.174     -0.394      0.694      -2.765       1.839\n",
      "element_573           25.0977   8.47e+04      0.000      1.000   -1.66e+05    1.66e+05\n",
      "element_574            2.4640      1.472      1.673      0.094      -0.422       5.350\n",
      "element_575          -23.3091   3.86e+04     -0.001      1.000   -7.57e+04    7.57e+04\n",
      "element_579           -0.2226      1.211     -0.184      0.854      -2.596       2.151\n",
      "element_580            0.6963      1.161      0.600      0.549      -1.579       2.972\n",
      "element_581          -24.1804    9.2e+04     -0.000      1.000    -1.8e+05     1.8e+05\n",
      "element_585            0.1180      1.206      0.098      0.922      -2.246       2.482\n",
      "element_586            2.4485      1.506      1.626      0.104      -0.503       5.400\n",
      "element_587           -0.1065      1.226     -0.087      0.931      -2.509       2.296\n",
      "element_588           26.5229   1.31e+05      0.000      1.000   -2.57e+05    2.57e+05\n",
      "element_589            0.9974      1.209      0.825      0.409      -1.373       3.367\n",
      "element_590            1.5062      1.279      1.178      0.239      -1.000       4.012\n",
      "element_591           -0.9557      1.389     -0.688      0.491      -3.677       1.766\n",
      "element_592            0.9026      1.142      0.790      0.429      -1.337       3.142\n",
      "element_593          -23.4749   6.43e+04     -0.000      1.000   -1.26e+05    1.26e+05\n",
      "element_594          -23.8714   1.31e+05     -0.000      1.000   -2.57e+05    2.57e+05\n",
      "element_599           26.8537   1.31e+05      0.000      1.000   -2.57e+05    2.57e+05\n",
      "element_601           25.3812   1.31e+05      0.000      1.000   -2.57e+05    2.57e+05\n",
      "element_602           25.6193   1.31e+05      0.000      1.000   -2.57e+05    2.57e+05\n",
      "element_603           25.2197   1.31e+05      0.000      1.000   -2.57e+05    2.57e+05\n",
      "element_605          -22.1976   1.31e+05     -0.000      1.000   -2.57e+05    2.57e+05\n",
      "element_607            0.6397      1.655      0.387      0.699      -2.603       3.883\n",
      "element_608           26.8537   1.31e+05      0.000      1.000   -2.57e+05    2.57e+05\n",
      "======================================================================================\n"
     ]
    }
   ],
   "source": [
    "print(sppm_results.summary())"
   ]
  },
  {
   "cell_type": "markdown",
   "metadata": {
    "heading_collapsed": true,
    "hidden": true
   },
   "source": [
    "### Model fit"
   ]
  },
  {
   "cell_type": "code",
   "execution_count": 94,
   "metadata": {
    "ExecuteTime": {
     "end_time": "2019-04-09T15:28:37.255720Z",
     "start_time": "2019-04-09T15:28:37.250618Z"
    },
    "hidden": true
   },
   "outputs": [
    {
     "data": {
      "text/plain": [
       "10911.547370988768"
      ]
     },
     "execution_count": 94,
     "metadata": {},
     "output_type": "execute_result"
    }
   ],
   "source": [
    "sppm_results.aic"
   ]
  },
  {
   "cell_type": "code",
   "execution_count": 95,
   "metadata": {
    "ExecuteTime": {
     "end_time": "2019-04-09T15:28:37.293133Z",
     "start_time": "2019-04-09T15:28:37.257898Z"
    },
    "hidden": true
   },
   "outputs": [
    {
     "data": {
      "text/plain": [
       "-65401.23680546975"
      ]
     },
     "execution_count": 95,
     "metadata": {},
     "output_type": "execute_result"
    }
   ],
   "source": [
    "sppm_results.bic"
   ]
  },
  {
   "cell_type": "code",
   "execution_count": 96,
   "metadata": {
    "ExecuteTime": {
     "end_time": "2019-04-09T15:28:37.325030Z",
     "start_time": "2019-04-09T15:28:37.295115Z"
    },
    "hidden": true
   },
   "outputs": [
    {
     "data": {
      "text/plain": [
       "(True, 0.011451871522682566)"
      ]
     },
     "execution_count": 96,
     "metadata": {},
     "output_type": "execute_result"
    }
   ],
   "source": [
    "sppm_pearson_results = goodness_fit.pearson_chi_squared_test(sppm_results)\n",
    "sppm_pearson_results"
   ]
  },
  {
   "cell_type": "code",
   "execution_count": 97,
   "metadata": {
    "ExecuteTime": {
     "end_time": "2019-04-09T15:28:37.362383Z",
     "start_time": "2019-04-09T15:28:37.326948Z"
    },
    "hidden": true
   },
   "outputs": [
    {
     "data": {
      "text/plain": [
       "count    8802.000000\n",
       "mean       -0.070967\n",
       "std         1.057446\n",
       "min        -2.311200\n",
       "25%        -0.888197\n",
       "50%        -0.559138\n",
       "75%         1.039135\n",
       "max         2.455263\n",
       "dtype: float64"
      ]
     },
     "execution_count": 97,
     "metadata": {},
     "output_type": "execute_result"
    }
   ],
   "source": [
    "sppm_results.resid_deviance.describe()"
   ]
  },
  {
   "cell_type": "code",
   "execution_count": 98,
   "metadata": {
    "ExecuteTime": {
     "end_time": "2019-04-09T15:28:37.617823Z",
     "start_time": "2019-04-09T15:28:37.364827Z"
    },
    "hidden": true
   },
   "outputs": [
    {
     "data": {
      "image/png": "[encoded data removed]",
      "text/plain": [
       "<Figure size 432x288 with 1 Axes>"
      ]
     },
     "metadata": {
      "needs_background": "light"
     },
     "output_type": "display_data"
    }
   ],
   "source": [
    "plt.figure()\n",
    "plt.hist(sppm_results.resid_deviance)\n",
    "plt.show()"
   ]
  },
  {
   "cell_type": "markdown",
   "metadata": {
    "heading_collapsed": true,
    "hidden": true
   },
   "source": [
    "## Simple Binomial player minutes model"
   ]
  },
  {
   "cell_type": "markdown",
   "metadata": {
    "heading_collapsed": true,
    "hidden": true
   },
   "source": [
    "### Preparing data"
   ]
  },
  {
   "cell_type": "code",
   "execution_count": 99,
   "metadata": {
    "ExecuteTime": {
     "end_time": "2019-04-09T15:28:37.629175Z",
     "start_time": "2019-04-09T15:28:37.620221Z"
    },
    "hidden": true
   },
   "outputs": [],
   "source": [
    "sppmm_df = element_gameweek_df.copy()"
   ]
  },
  {
   "cell_type": "code",
   "execution_count": 100,
   "metadata": {
    "ExecuteTime": {
     "end_time": "2019-04-09T15:28:37.792337Z",
     "start_time": "2019-04-09T15:28:37.637028Z"
    },
    "hidden": true
   },
   "outputs": [],
   "source": [
    "sppmm_df = player.add_categorical_variables(sppmm_df, 'opposition_team')\n",
    "sppmm_df = player.add_categorical_variables(sppmm_df, 'element')"
   ]
  },
  {
   "cell_type": "code",
   "execution_count": 101,
   "metadata": {
    "ExecuteTime": {
     "end_time": "2019-04-09T15:28:37.874601Z",
     "start_time": "2019-04-09T15:28:37.801139Z"
    },
    "hidden": true
   },
   "outputs": [],
   "source": [
    "sppmm_redundant_columns = [\n",
    "    'row_id', 'assists', 'attempted_passes', 'big_chances_created',\n",
    "    'big_chances_missed', 'bonus', 'bps', 'clean_sheets', 'goals_scored',\n",
    "    'clearances_blocks_interceptions', 'completed_passes', 'creativity',\n",
    "    'dribbles', 'ea_index', 'element', 'errors_leading_to_goal',\n",
    "    'errors_leading_to_goal_attempt', 'fixture', 'fouls', 'goals_conceded',\n",
    "    'ict_index', 'id', 'influence', 'key_passes', 'kickoff_time',\n",
    "    'kickoff_time_formatted', 'loaned_in', 'loaned_out', 'offside',\n",
    "    'open_play_crosses', 'opponent_team', 'own_goals', 'penalties_conceded',\n",
    "    'penalties_missed', 'penalties_saved', 'recoveries', 'red_cards', 'round',\n",
    "    'saves', 'selected', 'tackled', 'tackles', 'target_missed', 'team_a_score',\n",
    "    'team_h_score', 'threat', 'total_points', 'transfers_balance',\n",
    "    'transfers_in', 'transfers_out', 'value', 'winning_goals',\n",
    "    'yellow_cards', 'event', 'team_a', 'team_a_difficulty', 'team_h',\n",
    "    'team_h_difficulty', 'element_type', 'team', 'web_name', 'safe_web_name',\n",
    "    'own_team', 'opposition_team', 'minutes',\n",
    "    'element_fixture_rank', 'minutes_rolling', 'goals_scored_rolling', 'assists_rolling',\n",
    "    'goals_scored_per_minute_rolling', 'assists_per_minute_rolling',\n",
    "    'goals_conceded_rolling', 'goals_conceded_per_minute_rolling'\n",
    "]"
   ]
  },
  {
   "cell_type": "code",
   "execution_count": 102,
   "metadata": {
    "ExecuteTime": {
     "end_time": "2019-04-09T15:28:37.905064Z",
     "start_time": "2019-04-09T15:28:37.880494Z"
    },
    "hidden": true
   },
   "outputs": [],
   "source": [
    "sppmm_df['log_minutes'] = np.log(sppmm_df['minutes'])"
   ]
  },
  {
   "cell_type": "code",
   "execution_count": 103,
   "metadata": {
    "ExecuteTime": {
     "end_time": "2019-04-09T15:28:37.954101Z",
     "start_time": "2019-04-09T15:28:37.907536Z"
    },
    "hidden": true
   },
   "outputs": [],
   "source": [
    "sppmm_df = player.remove_redundant_columns(sppmm_df, sppmm_redundant_columns)"
   ]
  },
  {
   "cell_type": "code",
   "execution_count": 104,
   "metadata": {
    "ExecuteTime": {
     "end_time": "2019-04-09T15:28:38.254147Z",
     "start_time": "2019-04-09T15:28:37.958504Z"
    },
    "hidden": true
   },
   "outputs": [],
   "source": [
    "sppmm_response_df, sppmm_explanatory_df = player.get_response_explanatory_dfs(sppmm_df, 'clean_sheets_no_time')"
   ]
  },
  {
   "cell_type": "code",
   "execution_count": 105,
   "metadata": {
    "ExecuteTime": {
     "end_time": "2019-04-09T15:28:38.279615Z",
     "start_time": "2019-04-09T15:28:38.258144Z"
    },
    "hidden": true
   },
   "outputs": [
    {
     "data": {
      "text/plain": [
       "Index(['const', 'was_home', 'opposition_team_2', 'opposition_team_3',\n",
       "       'opposition_team_4', 'opposition_team_5', 'opposition_team_6',\n",
       "       'opposition_team_7', 'opposition_team_8', 'opposition_team_9',\n",
       "       ...\n",
       "       'element_593', 'element_594', 'element_599', 'element_601',\n",
       "       'element_602', 'element_603', 'element_605', 'element_607',\n",
       "       'element_608', 'log_minutes'],\n",
       "      dtype='object', length=514)"
      ]
     },
     "execution_count": 105,
     "metadata": {},
     "output_type": "execute_result"
    }
   ],
   "source": [
    "sppmm_explanatory_df.columns"
   ]
  },
  {
   "cell_type": "markdown",
   "metadata": {
    "heading_collapsed": true,
    "hidden": true
   },
   "source": [
    "### Fitting model"
   ]
  },
  {
   "cell_type": "code",
   "execution_count": 106,
   "metadata": {
    "ExecuteTime": {
     "end_time": "2019-04-09T15:29:20.210824Z",
     "start_time": "2019-04-09T15:28:38.283070Z"
    },
    "hidden": true
   },
   "outputs": [],
   "source": [
    "sppmm_results = sm.GLM(\n",
    "    sppmm_response_df,\n",
    "    sppmm_explanatory_df,\n",
    "    family=sm.families.Binomial(),\n",
    "    missing='drop'\n",
    ").fit()"
   ]
  },
  {
   "cell_type": "code",
   "execution_count": 107,
   "metadata": {
    "ExecuteTime": {
     "end_time": "2019-04-09T15:29:20.638044Z",
     "start_time": "2019-04-09T15:29:20.217173Z"
    },
    "hidden": true
   },
   "outputs": [
    {
     "name": "stdout",
     "output_type": "stream",
     "text": [
      "                  Generalized Linear Model Regression Results                   \n",
      "================================================================================\n",
      "Dep. Variable:     clean_sheets_no_time   No. Observations:                 8802\n",
      "Model:                              GLM   Df Residuals:                     8288\n",
      "Model Family:                  Binomial   Df Model:                          513\n",
      "Link Function:                    logit   Scale:                             1.0\n",
      "Method:                            IRLS   Log-Likelihood:                -4532.6\n",
      "Date:                  Tue, 09 Apr 2019   Deviance:                       9065.1\n",
      "Time:                          15:29:20   Pearson chi2:                 8.90e+03\n",
      "No. Iterations:                      23                                         \n",
      "======================================================================================\n",
      "                         coef    std err          z      P>|z|      [0.025      0.975]\n",
      "--------------------------------------------------------------------------------------\n",
      "const                  2.5123      0.900      2.791      0.005       0.748       4.277\n",
      "was_home               0.4615      0.052      8.831      0.000       0.359       0.564\n",
      "opposition_team_2      1.3714      0.180      7.627      0.000       1.019       1.724\n",
      "opposition_team_3      1.3358      0.182      7.355      0.000       0.980       1.692\n",
      "opposition_team_4      1.3541      0.181      7.490      0.000       1.000       1.708\n",
      "opposition_team_5      1.8799      0.179     10.494      0.000       1.529       2.231\n",
      "opposition_team_6      0.9126      0.184      4.956      0.000       0.552       1.274\n",
      "opposition_team_7      1.3209      0.181      7.294      0.000       0.966       1.676\n",
      "opposition_team_8      1.0026      0.183      5.492      0.000       0.645       1.360\n",
      "opposition_team_9      1.7352      0.178      9.746      0.000       1.386       2.084\n",
      "opposition_team_10     2.4204      0.180     13.467      0.000       2.068       2.773\n",
      "opposition_team_11     0.6050      0.188      3.221      0.001       0.237       0.973\n",
      "opposition_team_12     0.1439      0.196      0.733      0.464      -0.241       0.529\n",
      "opposition_team_13    -0.0959      0.202     -0.476      0.634      -0.491       0.299\n",
      "opposition_team_14     0.2123      0.195      1.091      0.275      -0.169       0.594\n",
      "opposition_team_15     1.6960      0.178      9.504      0.000       1.346       2.046\n",
      "opposition_team_16     1.3197      0.182      7.264      0.000       0.964       1.676\n",
      "opposition_team_17     0.2726      0.193      1.411      0.158      -0.106       0.651\n",
      "opposition_team_18     1.0911      0.181      6.036      0.000       0.737       1.445\n",
      "opposition_team_19     1.7272      0.180      9.616      0.000       1.375       2.079\n",
      "opposition_team_20     1.1698      0.181      6.474      0.000       0.816       1.524\n",
      "element_2             -0.1531      0.996     -0.154      0.878      -2.105       1.798\n",
      "element_3             -0.1370      1.118     -0.123      0.902      -2.327       2.053\n",
      "element_4             -0.1524      1.027     -0.148      0.882      -2.166       1.861\n",
      "element_5              0.1199      1.028      0.117      0.907      -1.895       2.134\n",
      "element_6             -0.2230      1.181     -0.189      0.850      -2.537       2.091\n",
      "element_7             -0.2549      0.998     -0.255      0.798      -2.211       1.701\n",
      "element_8             -0.1188      1.026     -0.116      0.908      -2.129       1.891\n",
      "element_9             -1.0250      1.064     -0.964      0.335      -3.110       1.060\n",
      "element_10            24.8513   1.31e+05      0.000      1.000   -2.57e+05    2.57e+05\n",
      "element_11            -0.4124      1.134     -0.364      0.716      -2.635       1.810\n",
      "element_12             0.0884      1.004      0.088      0.930      -1.880       2.057\n",
      "element_13            -0.0505      1.009     -0.050      0.960      -2.029       1.928\n",
      "element_14             1.3139      0.987      1.331      0.183      -0.621       3.249\n",
      "element_15             0.1179      0.964      0.122      0.903      -1.771       2.007\n",
      "element_16             0.8286      1.436      0.577      0.564      -1.986       3.644\n",
      "element_17            -0.1194      0.992     -0.120      0.904      -2.065       1.826\n",
      "element_18            -0.6037      1.061     -0.569      0.569      -2.684       1.476\n",
      "element_20            -0.1398      1.097     -0.127      0.899      -2.290       2.011\n",
      "element_21            -0.5244      1.171     -0.448      0.654      -2.820       1.771\n",
      "element_22             0.2968      0.952      0.312      0.755      -1.570       2.163\n",
      "element_23             0.0969      0.963      0.101      0.920      -1.790       1.984\n",
      "element_24            -0.0747      1.014     -0.074      0.941      -2.062       1.913\n",
      "element_25             0.3696      1.150      0.321      0.748      -1.885       2.624\n",
      "element_26             0.1297      1.039      0.125      0.901      -1.907       2.167\n",
      "element_27             0.1749      0.982      0.178      0.859      -1.750       2.100\n",
      "element_28            -0.2871      1.046     -0.275      0.784      -2.337       1.763\n",
      "element_29             0.2611      0.996      0.262      0.793      -1.692       2.214\n",
      "element_30             0.2800      1.457      0.192      0.848      -2.577       3.137\n",
      "element_31             0.0616      0.966      0.064      0.949      -1.832       1.956\n",
      "element_32           -22.4789   1.31e+05     -0.000      1.000   -2.57e+05    2.57e+05\n",
      "element_33             0.2224      0.988      0.225      0.822      -1.714       2.159\n",
      "element_35            -0.0385      1.062     -0.036      0.971      -2.120       2.043\n",
      "element_36             0.2710      1.017      0.267      0.790      -1.721       2.263\n",
      "element_37             0.1691      1.005      0.168      0.866      -1.801       2.139\n",
      "element_38            -0.9375      1.052     -0.891      0.373      -3.000       1.125\n",
      "element_39             0.4044      1.089      0.371      0.710      -1.731       2.539\n",
      "element_40            -0.0771      0.968     -0.080      0.937      -1.974       1.820\n",
      "element_42             0.2468      0.970      0.255      0.799      -1.654       2.148\n",
      "element_43             0.0626      0.986      0.063      0.949      -1.870       1.996\n",
      "element_44            -0.4598      1.045     -0.440      0.660      -2.508       1.588\n",
      "element_45             0.3061      0.964      0.317      0.751      -1.584       2.196\n",
      "element_46            -1.3035      1.605     -0.812      0.417      -4.450       1.843\n",
      "element_47            -0.4258      1.006     -0.423      0.672      -2.398       1.547\n",
      "element_48            -0.1515      0.976     -0.155      0.877      -2.064       1.761\n",
      "element_49            -0.2682      0.993     -0.270      0.787      -2.214       1.678\n",
      "element_50             0.6140      1.115      0.551      0.582      -1.572       2.800\n",
      "element_51            -0.1970      1.031     -0.191      0.848      -2.218       1.824\n",
      "element_54            -1.6254      1.572     -1.034      0.301      -4.707       1.457\n",
      "element_55            -0.5548      0.996     -0.557      0.578      -2.507       1.397\n",
      "element_56            -0.1974      1.005     -0.196      0.844      -2.167       1.772\n",
      "element_57             0.4518      1.106      0.408      0.683      -1.717       2.620\n",
      "element_58            -0.2331      0.971     -0.240      0.810      -2.137       1.671\n",
      "element_59            -0.5123      1.047     -0.489      0.625      -2.565       1.540\n",
      "element_60            -0.6827      1.032     -0.661      0.508      -2.706       1.341\n",
      "element_61             0.7764      1.104      0.703      0.482      -1.388       2.941\n",
      "element_62             0.1452      0.961      0.151      0.880      -1.737       2.028\n",
      "element_65             0.6454      1.011      0.638      0.523      -1.337       2.627\n",
      "element_66             0.2901      1.023      0.283      0.777      -1.716       2.296\n",
      "element_67            -0.1801      1.102     -0.163      0.870      -2.341       1.981\n",
      "element_69            -0.3573      1.069     -0.334      0.738      -2.453       1.738\n",
      "element_70            -0.1870      0.974     -0.192      0.848      -2.095       1.721\n",
      "element_71             0.1102      1.512      0.073      0.942      -2.854       3.074\n",
      "element_72            -0.1181      0.980     -0.120      0.904      -2.040       1.803\n",
      "element_73            -0.4134      1.441     -0.287      0.774      -3.239       2.412\n",
      "element_74            -0.2322      0.976     -0.238      0.812      -2.145       1.681\n",
      "element_75            -0.1591      1.049     -0.152      0.879      -2.216       1.897\n",
      "element_76            -0.3824      0.988     -0.387      0.699      -2.318       1.553\n",
      "element_77            -0.5982      1.415     -0.423      0.673      -3.372       2.176\n",
      "element_78            -0.2574      1.013     -0.254      0.799      -2.242       1.728\n",
      "element_79            -0.3645      1.063     -0.343      0.732      -2.449       1.720\n",
      "element_80            -0.2436      0.985     -0.247      0.805      -2.174       1.687\n",
      "element_82            -0.1422      0.975     -0.146      0.884      -2.053       1.769\n",
      "element_83            -0.3622      1.065     -0.340      0.734      -2.449       1.725\n",
      "element_84            -0.4977      1.023     -0.486      0.627      -2.503       1.508\n",
      "element_85             0.2535      0.960      0.264      0.792      -1.627       2.134\n",
      "element_87            -0.4519      0.968     -0.467      0.641      -2.349       1.446\n",
      "element_88             0.0561      0.966      0.058      0.954      -1.837       1.949\n",
      "element_90             0.0330      0.980      0.034      0.973      -1.887       1.953\n",
      "element_91            -0.0080      0.978     -0.008      0.993      -1.926       1.910\n",
      "element_92             0.2034      0.959      0.212      0.832      -1.677       2.084\n",
      "element_94             0.1625      0.987      0.165      0.869      -1.773       2.098\n",
      "element_95             0.1792      1.078      0.166      0.868      -1.933       2.291\n",
      "element_96            -0.8188      1.758     -0.466      0.641      -4.265       2.628\n",
      "element_98            -0.3408      1.002     -0.340      0.734      -2.305       1.624\n",
      "element_99             0.5018      0.973      0.516      0.606      -1.405       2.409\n",
      "element_100           -0.1337      1.066     -0.125      0.900      -2.223       1.956\n",
      "element_101           -0.2653      0.991     -0.268      0.789      -2.207       1.677\n",
      "element_102            0.2129      1.003      0.212      0.832      -1.753       2.179\n",
      "element_104           -1.3056      2.236     -0.584      0.559      -5.689       3.078\n",
      "element_105           -0.8200      1.136     -0.722      0.470      -3.046       1.406\n",
      "element_106           -0.2418      0.982     -0.246      0.806      -2.167       1.684\n",
      "element_107           -1.2067      1.093     -1.104      0.270      -3.350       0.936\n",
      "element_109           -1.5196      1.335     -1.139      0.255      -4.136       1.096\n",
      "element_110            0.3545      0.997      0.356      0.722      -1.599       2.308\n",
      "element_112           26.3896   1.31e+05      0.000      1.000   -2.57e+05    2.57e+05\n",
      "element_113            0.7658      0.946      0.810      0.418      -1.088       2.620\n",
      "element_114           23.7568   1.31e+05      0.000      1.000   -2.57e+05    2.57e+05\n",
      "element_115            0.9038      0.956      0.945      0.345      -0.971       2.778\n",
      "element_116            0.9032      0.950      0.951      0.342      -0.959       2.765\n",
      "element_117           -1.1913      1.918     -0.621      0.535      -4.951       2.568\n",
      "element_118            0.6468      0.953      0.679      0.497      -1.221       2.514\n",
      "element_119            0.6731      1.359      0.495      0.620      -1.990       3.336\n",
      "element_120           22.7278   7.15e+04      0.000      1.000    -1.4e+05     1.4e+05\n",
      "element_121           -0.1008      1.240     -0.081      0.935      -2.531       2.330\n",
      "element_122            0.9317      0.950      0.981      0.327      -0.931       2.794\n",
      "element_123            1.3968      1.482      0.943      0.346      -1.507       4.301\n",
      "element_124            0.7550      0.958      0.788      0.431      -1.123       2.633\n",
      "element_125            0.7943      0.970      0.819      0.413      -1.106       2.695\n",
      "element_126            0.8431      0.948      0.889      0.374      -1.015       2.701\n",
      "element_127            0.8442      0.985      0.857      0.391      -1.086       2.775\n",
      "element_131            1.6437      1.423      1.155      0.248      -1.145       4.432\n",
      "element_132            1.1742      1.060      1.107      0.268      -0.904       3.253\n",
      "element_133            1.6196      1.044      1.552      0.121      -0.426       3.665\n",
      "element_134            1.1341      1.031      1.100      0.271      -0.886       3.154\n",
      "element_135            0.1476      1.024      0.144      0.885      -1.859       2.154\n",
      "element_136          -22.1524   1.31e+05     -0.000      1.000   -2.57e+05    2.57e+05\n",
      "element_137            0.7768      1.045      0.743      0.457      -1.271       2.825\n",
      "element_138            0.6051      0.962      0.629      0.529      -1.280       2.490\n",
      "element_139            0.3659      1.358      0.269      0.788      -2.296       3.028\n",
      "element_140           -0.6751      1.405     -0.480      0.631      -3.429       2.079\n",
      "element_141           -0.2663      0.980     -0.272      0.786      -2.186       1.654\n",
      "element_142            0.3444      0.955      0.361      0.718      -1.528       2.217\n",
      "element_143            0.4910      0.966      0.508      0.611      -1.402       2.384\n",
      "element_145            0.4672      0.959      0.487      0.626      -1.413       2.347\n",
      "element_146            0.1093      1.220      0.090      0.929      -2.281       2.500\n",
      "element_147            0.1666      0.958      0.174      0.862      -1.710       2.043\n",
      "element_148           19.8571   1.31e+05      0.000      1.000   -2.57e+05    2.57e+05\n",
      "element_149            0.1723      0.958      0.180      0.857      -1.706       2.050\n",
      "element_150            0.3699      0.955      0.387      0.699      -1.502       2.241\n",
      "element_151            0.4228      0.966      0.438      0.662      -1.470       2.316\n",
      "element_152           -0.2229      1.092     -0.204      0.838      -2.364       1.918\n",
      "element_153            0.3148      1.139      0.276      0.782      -1.918       2.548\n",
      "element_154            0.3118      0.954      0.327      0.744      -1.559       2.183\n",
      "element_156           -0.7698      1.345     -0.572      0.567      -3.406       1.867\n",
      "element_157            0.5305      0.973      0.545      0.585      -1.376       2.437\n",
      "element_158            0.9601      1.525      0.630      0.529      -2.029       3.949\n",
      "element_160          -24.0953   5.65e+04     -0.000      1.000   -1.11e+05    1.11e+05\n",
      "element_161           -0.7141      1.244     -0.574      0.566      -3.153       1.725\n",
      "element_162            0.5927      0.958      0.619      0.536      -1.285       2.470\n",
      "element_164            0.1896      0.966      0.196      0.844      -1.704       2.083\n",
      "element_167            0.3419      1.156      0.296      0.767      -1.925       2.608\n",
      "element_168            0.5432      0.963      0.564      0.573      -1.345       2.431\n",
      "element_169           -0.0494      1.075     -0.046      0.963      -2.157       2.059\n",
      "element_170            0.2974      1.055      0.282      0.778      -1.771       2.366\n",
      "element_172            0.6046      0.947      0.639      0.523      -1.251       2.460\n",
      "element_175            0.5693      0.987      0.577      0.564      -1.365       2.503\n",
      "element_176            0.6264      1.084      0.578      0.563      -1.499       2.752\n",
      "element_177            0.3402      0.987      0.345      0.730      -1.593       2.274\n",
      "element_178          -23.2471   4.73e+04     -0.000      1.000   -9.28e+04    9.27e+04\n",
      "element_179            0.3617      1.475      0.245      0.806      -2.529       3.252\n",
      "element_180           -1.1961      1.099     -1.089      0.276      -3.350       0.958\n",
      "element_181           -1.0713      1.069     -1.002      0.316      -3.167       1.025\n",
      "element_182           -0.8476      1.012     -0.837      0.402      -2.832       1.137\n",
      "element_183           -1.7307      1.164     -1.487      0.137      -4.012       0.551\n",
      "element_184           -1.4882      1.053     -1.414      0.157      -3.552       0.575\n",
      "element_185           -0.6595      1.086     -0.607      0.544      -2.788       1.469\n",
      "element_186           -0.1831      1.134     -0.161      0.872      -2.406       2.039\n",
      "element_187            0.2570      1.270      0.202      0.840      -2.233       2.747\n",
      "element_189           -0.5261      1.102     -0.477      0.633      -2.687       1.634\n",
      "element_190           -1.0179      1.749     -0.582      0.561      -4.446       2.410\n",
      "element_191           -0.4808      1.003     -0.480      0.632      -2.446       1.485\n",
      "element_192           -0.5772      1.001     -0.576      0.564      -2.540       1.385\n",
      "element_193           -1.3933      1.093     -1.275      0.202      -3.536       0.749\n",
      "element_194           -0.4560      1.247     -0.366      0.715      -2.901       1.989\n",
      "element_195           -0.9381      1.070     -0.877      0.381      -3.035       1.159\n",
      "element_197           -0.6142      1.025     -0.599      0.549      -2.624       1.395\n",
      "element_198           -0.6944      1.030     -0.674      0.500      -2.713       1.324\n",
      "element_199           -0.4607      1.018     -0.453      0.651      -2.456       1.535\n",
      "element_200           -0.5011      1.439     -0.348      0.728      -3.322       2.320\n",
      "element_201            0.1284      0.986      0.130      0.896      -1.804       2.061\n",
      "element_202           -0.4219      0.993     -0.425      0.671      -2.367       1.523\n",
      "element_204            0.9014      1.905      0.473      0.636      -2.833       4.636\n",
      "element_205           -0.3867      2.570     -0.150      0.880      -5.424       4.651\n",
      "element_206           -0.0571      0.978     -0.058      0.953      -1.973       1.859\n",
      "element_207           -0.5548      1.345     -0.412      0.680      -3.191       2.081\n",
      "element_208           -1.8595      1.332     -1.396      0.163      -4.470       0.750\n",
      "element_209           -0.3941      1.990     -0.198      0.843      -4.295       3.507\n",
      "element_210           -0.7576      1.047     -0.723      0.469      -2.810       1.295\n",
      "element_211            0.1483      0.966      0.154      0.878      -1.745       2.042\n",
      "element_212           -1.3625      1.116     -1.221      0.222      -3.550       0.825\n",
      "element_213            0.0216      0.965      0.022      0.982      -1.869       1.912\n",
      "element_215            0.3389      1.000      0.339      0.735      -1.621       2.298\n",
      "element_216           -0.1421      1.545     -0.092      0.927      -3.169       2.885\n",
      "element_217            0.9678      1.320      0.733      0.463      -1.619       3.554\n",
      "element_219            0.1256      0.968      0.130      0.897      -1.771       2.022\n",
      "element_220           -0.6561      1.030     -0.637      0.524      -2.675       1.363\n",
      "element_221            0.2680      0.967      0.277      0.782      -1.627       2.163\n",
      "element_222            0.3141      1.006      0.312      0.755      -1.658       2.287\n",
      "element_223            1.3726      1.009      1.360      0.174      -0.605       3.350\n",
      "element_224            0.3568      0.987      0.361      0.718      -1.578       2.291\n",
      "element_225            0.4335      0.962      0.450      0.652      -1.453       2.320\n",
      "element_226           -0.1535      1.168     -0.131      0.895      -2.443       2.136\n",
      "element_227            0.1774      0.958      0.185      0.853      -1.701       2.056\n",
      "element_228           -0.7387      1.202     -0.615      0.539      -3.094       1.617\n",
      "element_230            1.6329      1.285      1.271      0.204      -0.885       4.151\n",
      "element_231            0.1989      2.350      0.085      0.933      -4.407       4.805\n",
      "element_232          -24.3192   1.31e+05     -0.000      1.000   -2.57e+05    2.57e+05\n",
      "element_233           -0.5406      0.989     -0.547      0.584      -2.478       1.397\n",
      "element_234            0.4943      0.957      0.516      0.606      -1.382       2.371\n",
      "element_235            0.1097      1.086      0.101      0.920      -2.020       2.239\n",
      "element_236           -0.6853      0.988     -0.694      0.488      -2.621       1.250\n",
      "element_239            1.6628      1.132      1.469      0.142      -0.556       3.881\n",
      "element_240          -24.0633   9.13e+04     -0.000      1.000   -1.79e+05    1.79e+05\n",
      "element_241            0.2443      1.087      0.225      0.822      -1.886       2.374\n",
      "element_242            2.0521      1.087      1.889      0.059      -0.077       4.182\n",
      "element_243            0.7093      1.038      0.683      0.494      -1.325       2.744\n",
      "element_245            1.4671      0.977      1.501      0.133      -0.448       3.382\n",
      "element_246            1.4040      0.944      1.487      0.137      -0.447       3.255\n",
      "element_247            1.6118      0.950      1.697      0.090      -0.250       3.473\n",
      "element_249            1.4282      0.983      1.453      0.146      -0.499       3.355\n",
      "element_250            0.9400      1.110      0.847      0.397      -1.236       3.116\n",
      "element_251            1.3822      0.949      1.456      0.145      -0.479       3.243\n",
      "element_252            1.5657      0.958      1.635      0.102      -0.312       3.443\n",
      "element_253            1.4833      0.945      1.569      0.117      -0.369       3.336\n",
      "element_254            1.1512      0.974      1.182      0.237      -0.757       3.060\n",
      "element_255            1.3570      0.985      1.377      0.169      -0.575       3.288\n",
      "element_256            1.4133      1.018      1.388      0.165      -0.583       3.409\n",
      "element_257            1.8953      0.959      1.977      0.048       0.016       3.774\n",
      "element_258            0.6852      0.994      0.689      0.491      -1.263       2.633\n",
      "element_259           -0.8517      1.315     -0.647      0.517      -3.430       1.727\n",
      "element_260            1.1162      0.943      1.184      0.237      -0.732       2.965\n",
      "element_262            1.1305      0.995      1.137      0.256      -0.819       3.080\n",
      "element_263            0.7538      1.097      0.687      0.492      -1.396       2.904\n",
      "element_264            1.1662      1.027      1.136      0.256      -0.846       3.178\n",
      "element_265            1.4318      0.964      1.486      0.137      -0.457       3.321\n",
      "element_266            0.6635      1.115      0.595      0.552      -1.522       2.849\n",
      "element_267            1.0891      1.141      0.955      0.340      -1.147       3.325\n",
      "element_268            1.1318      0.954      1.186      0.236      -0.739       3.002\n",
      "element_269            0.6764      1.105      0.612      0.541      -1.490       2.843\n",
      "element_270            1.3468      0.958      1.406      0.160      -0.531       3.225\n",
      "element_271            1.0769      0.963      1.118      0.263      -0.811       2.964\n",
      "element_272            1.1141      0.961      1.159      0.246      -0.769       2.997\n",
      "element_273            2.5218      1.174      2.147      0.032       0.220       4.824\n",
      "element_274            0.9775      0.978      1.000      0.317      -0.939       2.893\n",
      "element_275            0.9507      0.968      0.982      0.326      -0.947       2.849\n",
      "element_276            0.9786      0.954      1.025      0.305      -0.892       2.849\n",
      "element_277           23.0114    3.4e+04      0.001      0.999   -6.66e+04    6.66e+04\n",
      "element_279            1.3941      1.136      1.227      0.220      -0.833       3.621\n",
      "element_280            1.1155      0.962      1.159      0.246      -0.771       3.002\n",
      "element_281            0.6081      0.985      0.618      0.537      -1.322       2.538\n",
      "element_282           -0.1361      0.973     -0.140      0.889      -2.043       1.771\n",
      "element_284            0.0786      1.019      0.077      0.938      -1.918       2.075\n",
      "element_285           -0.2905      1.083     -0.268      0.788      -2.412       1.831\n",
      "element_286           -0.0786      0.991     -0.079      0.937      -2.021       1.864\n",
      "element_287          -24.9210   6.59e+04     -0.000      1.000   -1.29e+05    1.29e+05\n",
      "element_288            0.8369      1.269      0.660      0.510      -1.650       3.324\n",
      "element_289            0.5123      1.473      0.348      0.728      -2.375       3.400\n",
      "element_291           -0.3785      1.245     -0.304      0.761      -2.820       2.063\n",
      "element_292           -0.0746      0.992     -0.075      0.940      -2.019       1.870\n",
      "element_293           -0.6829      1.041     -0.656      0.512      -2.723       1.358\n",
      "element_294           -0.1926      1.101     -0.175      0.861      -2.351       1.966\n",
      "element_295           -0.1218      1.028     -0.118      0.906      -2.136       1.893\n",
      "element_296           -0.0577      0.994     -0.058      0.954      -2.006       1.890\n",
      "element_297            0.4356      0.994      0.438      0.661      -1.513       2.384\n",
      "element_298            0.0978      1.070      0.091      0.927      -1.999       2.194\n",
      "element_299            0.4643      1.006      0.462      0.644      -1.507       2.436\n",
      "element_300            0.0162      0.998      0.016      0.987      -1.940       1.972\n",
      "element_301            0.3640      0.975      0.373      0.709      -1.548       2.276\n",
      "element_302            0.2273      0.961      0.236      0.813      -1.657       2.112\n",
      "element_303           -0.5750      1.138     -0.505      0.613      -2.805       1.655\n",
      "element_304           -0.4762      1.099     -0.433      0.665      -2.631       1.679\n",
      "element_305            0.3727      0.969      0.385      0.700      -1.526       2.272\n",
      "element_306           -0.0944      0.974     -0.097      0.923      -2.004       1.815\n",
      "element_309            0.2400      0.960      0.250      0.803      -1.641       2.121\n",
      "element_310           -0.2246      1.005     -0.224      0.823      -2.194       1.745\n",
      "element_311           -0.0817      1.149     -0.071      0.943      -2.333       2.170\n",
      "element_312            0.6607      0.966      0.684      0.494      -1.232       2.554\n",
      "element_313            0.7796      1.007      0.774      0.439      -1.194       2.753\n",
      "element_314            0.1264      1.128      0.112      0.911      -2.085       2.338\n",
      "element_315            0.1931      1.080      0.179      0.858      -1.924       2.310\n",
      "element_317            0.0969      0.969      0.100      0.920      -1.803       1.997\n",
      "element_318            0.2815      1.085      0.259      0.795      -1.845       2.408\n",
      "element_319            0.2936      0.982      0.299      0.765      -1.630       2.217\n",
      "element_320            0.6537      1.002      0.652      0.514      -1.310       2.617\n",
      "element_321            0.0079      1.137      0.007      0.994      -2.221       2.237\n",
      "element_323            0.7416      1.026      0.723      0.470      -1.269       2.752\n",
      "element_324           -0.1595      1.076     -0.148      0.882      -2.268       1.949\n",
      "element_326            0.3543      0.955      0.371      0.711      -1.517       2.225\n",
      "element_327           -0.3109      1.082     -0.287      0.774      -2.431       1.809\n",
      "element_328           -0.5456      1.032     -0.529      0.597      -2.568       1.477\n",
      "element_330            0.6139      1.016      0.604      0.546      -1.378       2.606\n",
      "element_331           -0.0376      1.108     -0.034      0.973      -2.210       2.135\n",
      "element_332            0.2494      1.024      0.243      0.808      -1.758       2.257\n",
      "element_333           -0.0502      1.057     -0.047      0.962      -2.123       2.022\n",
      "element_335           -0.1671      1.050     -0.159      0.874      -2.224       1.890\n",
      "element_336            0.4080      1.065      0.383      0.702      -1.679       2.495\n",
      "element_337           -2.7520      1.691     -1.628      0.104      -6.066       0.562\n",
      "element_338           -0.4490      1.078     -0.416      0.677      -2.562       1.664\n",
      "element_339           -0.2277      1.001     -0.228      0.820      -2.189       1.734\n",
      "element_340           -0.3922      1.035     -0.379      0.705      -2.421       1.637\n",
      "element_342           24.2759    6.7e+04      0.000      1.000   -1.31e+05    1.31e+05\n",
      "element_343            0.4694      0.955      0.492      0.623      -1.402       2.341\n",
      "element_344            0.0030      1.034      0.003      0.998      -2.024       2.030\n",
      "element_345            0.2877      0.985      0.292      0.770      -1.642       2.218\n",
      "element_346            1.1243      1.061      1.060      0.289      -0.955       3.203\n",
      "element_347            0.4747      1.014      0.468      0.640      -1.512       2.461\n",
      "element_348            0.4852      0.993      0.489      0.625      -1.460       2.431\n",
      "element_349           -0.1776      1.087     -0.163      0.870      -2.309       1.953\n",
      "element_351            0.6163      0.959      0.643      0.520      -1.263       2.496\n",
      "element_352          -22.8746   9.21e+04     -0.000      1.000   -1.81e+05    1.81e+05\n",
      "element_353            0.6155      0.955      0.644      0.519      -1.256       2.487\n",
      "element_354            0.8367      0.997      0.840      0.401      -1.117       2.790\n",
      "element_355            0.1659      1.029      0.161      0.872      -1.850       2.182\n",
      "element_356            0.4355      1.008      0.432      0.666      -1.540       2.411\n",
      "element_357            0.8152      0.968      0.842      0.400      -1.082       2.712\n",
      "element_358            1.3418      1.534      0.875      0.382      -1.664       4.348\n",
      "element_359            0.1126      1.014      0.111      0.912      -1.874       2.099\n",
      "element_360            0.5331      1.158      0.461      0.645      -1.736       2.802\n",
      "element_361            0.5866      1.043      0.563      0.574      -1.457       2.630\n",
      "element_362            0.9265      1.172      0.790      0.429      -1.371       3.224\n",
      "element_363            0.3143      1.017      0.309      0.757      -1.679       2.308\n",
      "element_364            0.2582      0.967      0.267      0.789      -1.637       2.153\n",
      "element_365            0.4811      1.001      0.481      0.631      -1.481       2.443\n",
      "element_366            1.8342      1.503      1.221      0.222      -1.111       4.779\n",
      "element_367            0.9087      0.966      0.941      0.347      -0.984       2.802\n",
      "element_368            0.8076      0.977      0.826      0.409      -1.108       2.723\n",
      "element_369            0.7011      0.968      0.724      0.469      -1.196       2.598\n",
      "element_370            1.3331      0.979      1.361      0.173      -0.586       3.253\n",
      "element_371            0.0025      1.083      0.002      0.998      -2.121       2.126\n",
      "element_372            0.5667      0.960      0.590      0.555      -1.316       2.449\n",
      "element_376           -0.1254      0.977     -0.128      0.898      -2.039       1.789\n",
      "element_377           23.7738   1.31e+05      0.000      1.000   -2.57e+05    2.57e+05\n",
      "element_378           -0.1382      1.001     -0.138      0.890      -2.100       1.824\n",
      "element_379            0.1017      2.006      0.051      0.960      -3.829       4.032\n",
      "element_380           -0.1156      1.069     -0.108      0.914      -2.212       1.980\n",
      "element_381            0.0508      1.059      0.048      0.962      -2.025       2.127\n",
      "element_382           -0.0281      1.021     -0.028      0.978      -2.028       1.972\n",
      "element_383           -0.0716      1.002     -0.071      0.943      -2.035       1.892\n",
      "element_385          -22.0997   1.31e+05     -0.000      1.000   -2.57e+05    2.57e+05\n",
      "element_386            0.2353      1.197      0.197      0.844      -2.111       2.581\n",
      "element_387           -0.2394      1.317     -0.182      0.856      -2.821       2.342\n",
      "element_388            1.4241      1.184      1.203      0.229      -0.896       3.745\n",
      "element_389            0.2625      0.972      0.270      0.787      -1.642       2.167\n",
      "element_390           -0.2820      0.992     -0.284      0.776      -2.226       1.662\n",
      "element_391           -0.3202      0.991     -0.323      0.746      -2.262       1.621\n",
      "element_392            0.0790      0.981      0.081      0.936      -1.844       2.002\n",
      "element_393            0.3973      0.954      0.417      0.677      -1.472       2.267\n",
      "element_394            0.7711      0.965      0.799      0.424      -1.120       2.663\n",
      "element_395            0.8352      0.990      0.844      0.399      -1.105       2.776\n",
      "element_396            0.3217      0.964      0.334      0.739      -1.567       2.211\n",
      "element_397           -1.8482      1.705     -1.084      0.278      -5.189       1.493\n",
      "element_400           -0.6368      1.001     -0.636      0.525      -2.599       1.326\n",
      "element_402           -1.0115      1.086     -0.931      0.352      -3.140       1.117\n",
      "element_403           -1.3657      1.149     -1.189      0.234      -3.617       0.886\n",
      "element_405           -0.2220      1.009     -0.220      0.826      -2.201       1.757\n",
      "element_406           -0.5394      1.004     -0.537      0.591      -2.507       1.428\n",
      "element_408           -0.0404      1.189     -0.034      0.973      -2.370       2.290\n",
      "element_409           -0.5719      1.003     -0.570      0.569      -2.538       1.394\n",
      "element_410           -0.0470      1.054     -0.045      0.964      -2.112       2.018\n",
      "element_411           -0.2687      0.989     -0.272      0.786      -2.207       1.670\n",
      "element_412            0.3739      0.984      0.380      0.704      -1.555       2.303\n",
      "element_413           -0.6223      1.018     -0.611      0.541      -2.618       1.374\n",
      "element_414           -0.6080      1.308     -0.465      0.642      -3.171       1.955\n",
      "element_415            0.6548      0.967      0.677      0.498      -1.241       2.550\n",
      "element_417           -0.8174      1.028     -0.795      0.427      -2.832       1.198\n",
      "element_418            0.0659      1.066      0.062      0.951      -2.024       2.156\n",
      "element_419           -0.1517      0.981     -0.155      0.877      -2.074       1.770\n",
      "element_421           24.7823   1.31e+05      0.000      1.000   -2.57e+05    2.57e+05\n",
      "element_423           -0.3280      0.987     -0.332      0.740      -2.262       1.606\n",
      "element_425           -0.3706      0.977     -0.379      0.704      -2.286       1.545\n",
      "element_426            0.4024      1.019      0.395      0.693      -1.595       2.400\n",
      "element_427           -0.0455      0.978     -0.047      0.963      -1.963       1.872\n",
      "element_430           -0.1808      0.974     -0.186      0.853      -2.090       1.728\n",
      "element_431            0.1258      1.077      0.117      0.907      -1.985       2.237\n",
      "element_432            0.3598      0.966      0.372      0.710      -1.534       2.254\n",
      "element_433           -0.3381      0.994     -0.340      0.734      -2.287       1.610\n",
      "element_434            0.1259      1.024      0.123      0.902      -1.881       2.133\n",
      "element_435            0.2527      0.980      0.258      0.797      -1.668       2.174\n",
      "element_437            0.3345      0.952      0.351      0.725      -1.532       2.201\n",
      "element_438           24.0535   4.08e+04      0.001      1.000   -7.99e+04    7.99e+04\n",
      "element_440           -0.3470      1.066     -0.326      0.745      -2.436       1.742\n",
      "element_441          -23.6886   5.91e+04     -0.000      1.000   -1.16e+05    1.16e+05\n",
      "element_443           20.3185   1.31e+05      0.000      1.000   -2.57e+05    2.57e+05\n",
      "element_444            0.2317      1.489      0.156      0.876      -2.687       3.150\n",
      "element_445           -0.1098      0.974     -0.113      0.910      -2.019       1.799\n",
      "element_446            0.7308      1.054      0.693      0.488      -1.335       2.797\n",
      "element_447            0.3292      1.456      0.226      0.821      -2.525       3.183\n",
      "element_448           -0.5456      1.001     -0.545      0.586      -2.508       1.417\n",
      "element_450            0.0411      0.966      0.043      0.966      -1.852       1.934\n",
      "element_451            0.2457      0.969      0.254      0.800      -1.653       2.144\n",
      "element_452            1.6742      1.226      1.365      0.172      -0.729       4.077\n",
      "element_453            0.0066      1.145      0.006      0.995      -2.239       2.252\n",
      "element_454           -0.3092      0.986     -0.314      0.754      -2.242       1.624\n",
      "element_455           -2.1157      1.369     -1.545      0.122      -4.800       0.568\n",
      "element_456           -1.1121      1.033     -1.077      0.281      -3.136       0.912\n",
      "element_458            0.3416      0.993      0.344      0.731      -1.605       2.289\n",
      "element_459            0.7405      0.949      0.781      0.435      -1.119       2.600\n",
      "element_460           -0.4826      1.026     -0.470      0.638      -2.494       1.529\n",
      "element_461           -0.2948      1.004     -0.294      0.769      -2.263       1.673\n",
      "element_462            1.3463      1.007      1.337      0.181      -0.628       3.320\n",
      "element_463           -0.3498      1.042     -0.336      0.737      -2.392       1.693\n",
      "element_464           -0.4403      1.090     -0.404      0.686      -2.576       1.695\n",
      "element_465           -0.4504      0.987     -0.457      0.648      -2.384       1.483\n",
      "element_466           -0.6855      1.010     -0.679      0.497      -2.666       1.295\n",
      "element_467           -0.3394      1.403     -0.242      0.809      -3.090       2.411\n",
      "element_468            1.4204      0.944      1.505      0.132      -0.430       3.270\n",
      "element_471           -0.7609      1.195     -0.637      0.524      -3.102       1.580\n",
      "element_472            0.8145      1.159      0.703      0.482      -1.456       3.085\n",
      "element_473           -0.8464      1.218     -0.695      0.487      -3.234       1.541\n",
      "element_474          -23.1780   8.73e+04     -0.000      1.000   -1.71e+05    1.71e+05\n",
      "element_475            0.0991      0.961      0.103      0.918      -1.785       1.983\n",
      "element_476            0.7084      1.036      0.684      0.494      -1.321       2.738\n",
      "element_478           -0.7207      1.028     -0.701      0.483      -2.736       1.294\n",
      "element_479           -0.9463      1.184     -0.799      0.424      -3.267       1.374\n",
      "element_480           -1.6119      1.140     -1.413      0.158      -3.847       0.623\n",
      "element_481           -0.6402      1.130     -0.567      0.571      -2.855       1.574\n",
      "element_482            0.1137      1.012      0.112      0.911      -1.870       2.097\n",
      "element_483            0.0520      0.981      0.053      0.958      -1.871       1.975\n",
      "element_484            0.4865      0.966      0.504      0.614      -1.406       2.379\n",
      "element_486            0.6070      0.992      0.612      0.541      -1.338       2.552\n",
      "element_487           -0.9891      1.198     -0.826      0.409      -3.337       1.359\n",
      "element_488            0.3052      1.066      0.286      0.775      -1.785       2.395\n",
      "element_489           -0.1084      0.964     -0.112      0.910      -1.998       1.781\n",
      "element_490           -0.1921      1.046     -0.184      0.854      -2.242       1.858\n",
      "element_491          -23.8924   1.31e+05     -0.000      1.000   -2.57e+05    2.57e+05\n",
      "element_492            0.1316      1.018      0.129      0.897      -1.863       2.127\n",
      "element_493            0.4748      0.967      0.491      0.623      -1.420       2.369\n",
      "element_494            0.2747      0.983      0.280      0.780      -1.651       2.200\n",
      "element_495           -1.1148      1.148     -0.971      0.332      -3.366       1.136\n",
      "element_497           21.8805   1.31e+05      0.000      1.000   -2.57e+05    2.57e+05\n",
      "element_498            0.6645      0.949      0.700      0.484      -1.196       2.525\n",
      "element_499            0.8516      0.968      0.879      0.379      -1.047       2.750\n",
      "element_500            0.0560      0.989      0.057      0.955      -1.882       1.994\n",
      "element_502           -0.8707      1.094     -0.796      0.426      -3.014       1.273\n",
      "element_503           -0.7217      1.078     -0.670      0.503      -2.834       1.390\n",
      "element_504           -0.1194      0.991     -0.121      0.904      -2.061       1.823\n",
      "element_505            0.7536      1.020      0.739      0.460      -1.245       2.752\n",
      "element_506            0.0418      1.149      0.036      0.971      -2.211       2.294\n",
      "element_507            1.1403      0.967      1.179      0.238      -0.755       3.035\n",
      "element_508            0.5420      0.974      0.556      0.578      -1.367       2.451\n",
      "element_509           -1.2967      1.150     -1.128      0.259      -3.550       0.957\n",
      "element_510           -0.9371      1.082     -0.866      0.386      -3.058       1.184\n",
      "element_511           -1.9493      1.415     -1.378      0.168      -4.723       0.824\n",
      "element_512           -0.6005      1.096     -0.548      0.584      -2.748       1.547\n",
      "element_513           -0.4471      1.016     -0.440      0.660      -2.439       1.545\n",
      "element_514            0.1264      1.049      0.121      0.904      -1.929       2.182\n",
      "element_515           -0.9606      1.439     -0.668      0.504      -3.781       1.859\n",
      "element_516            0.0773      1.054      0.073      0.942      -1.988       2.143\n",
      "element_517           -0.2603      1.184     -0.220      0.826      -2.581       2.060\n",
      "element_518            0.5258      1.455      0.361      0.718      -2.326       3.378\n",
      "element_519           -0.4983      1.129     -0.441      0.659      -2.711       1.715\n",
      "element_521          -24.2939    6.7e+04     -0.000      1.000   -1.31e+05    1.31e+05\n",
      "element_522            0.7066      1.280      0.552      0.581      -1.802       3.216\n",
      "element_523           21.1387   1.31e+05      0.000      1.000   -2.57e+05    2.57e+05\n",
      "element_524            0.1199      1.005      0.119      0.905      -1.849       2.089\n",
      "element_526           -0.2018      1.009     -0.200      0.842      -2.180       1.776\n",
      "element_527            0.2725      0.973      0.280      0.779      -1.634       2.179\n",
      "element_531            0.1312      1.154      0.114      0.909      -2.130       2.393\n",
      "element_534           -0.1993      1.064     -0.187      0.851      -2.286       1.887\n",
      "element_535            0.1730      1.091      0.159      0.874      -1.964       2.310\n",
      "element_536            0.6795      1.706      0.398      0.690      -2.663       4.022\n",
      "element_539           -0.8854      1.075     -0.823      0.410      -2.993       1.222\n",
      "element_540            1.3496      1.496      0.902      0.367      -1.583       4.282\n",
      "element_543            1.1938      1.237      0.965      0.334      -1.230       3.618\n",
      "element_544           -1.0527      2.242     -0.470      0.639      -5.446       3.341\n",
      "element_549            0.2771      1.218      0.228      0.820      -2.110       2.664\n",
      "element_550            0.6291      1.366      0.460      0.645      -2.049       3.307\n",
      "element_552           22.1161   8.25e+04      0.000      1.000   -1.62e+05    1.62e+05\n",
      "element_556           -0.0527      1.042     -0.051      0.960      -2.095       1.990\n",
      "element_557          -28.8607   1.31e+05     -0.000      1.000   -2.57e+05    2.57e+05\n",
      "element_560           23.8918   1.31e+05      0.000      1.000   -2.57e+05    2.57e+05\n",
      "element_562           21.5923   1.31e+05      0.000      1.000   -2.57e+05    2.57e+05\n",
      "element_563           22.0495   1.31e+05      0.000      1.000   -2.57e+05    2.57e+05\n",
      "element_565          -22.3741   1.31e+05     -0.000      1.000   -2.57e+05    2.57e+05\n",
      "element_566          -28.7178   1.31e+05     -0.000      1.000   -2.57e+05    2.57e+05\n",
      "element_568          -27.4847   1.31e+05     -0.000      1.000   -2.57e+05    2.57e+05\n",
      "element_569            1.1257      1.373      0.820      0.412      -1.564       3.816\n",
      "element_570            0.6443      1.667      0.386      0.699      -2.624       3.912\n",
      "element_571           -0.5404      1.188     -0.455      0.649      -2.868       1.787\n",
      "element_573           23.2165   8.59e+04      0.000      1.000   -1.68e+05    1.68e+05\n",
      "element_574           -0.8537      1.604     -0.532      0.595      -3.997       2.290\n",
      "element_575          -23.2595   3.87e+04     -0.001      1.000    -7.6e+04    7.59e+04\n",
      "element_579           -0.2178      1.220     -0.179      0.858      -2.608       2.173\n",
      "element_580            0.0464      1.248      0.037      0.970      -2.400       2.492\n",
      "element_581          -24.8909   8.53e+04     -0.000      1.000   -1.67e+05    1.67e+05\n",
      "element_585           -0.6487      1.242     -0.522      0.601      -3.083       1.786\n",
      "element_586            0.7780      1.575      0.494      0.621      -2.310       3.866\n",
      "element_587           -0.3486      1.248     -0.279      0.780      -2.795       2.098\n",
      "element_588           23.3431   1.31e+05      0.000      1.000   -2.57e+05    2.57e+05\n",
      "element_589           -0.1637      1.280     -0.128      0.898      -2.673       2.346\n",
      "element_590           -0.3834      1.299     -0.295      0.768      -2.928       2.162\n",
      "element_591           -0.9908      1.402     -0.707      0.480      -3.738       1.757\n",
      "element_592            0.5963      1.219      0.489      0.625      -1.794       2.986\n",
      "element_593          -23.3013   6.42e+04     -0.000      1.000   -1.26e+05    1.26e+05\n",
      "element_594          -24.5167   1.31e+05     -0.000      1.000   -2.57e+05    2.57e+05\n",
      "element_599           24.6481   1.31e+05      0.000      1.000   -2.57e+05    2.57e+05\n",
      "element_601           24.7114   1.31e+05      0.000      1.000   -2.57e+05    2.57e+05\n",
      "element_602           20.7329   1.31e+05      0.000      1.000   -2.57e+05    2.57e+05\n",
      "element_603           20.2726   1.31e+05      0.000      1.000   -2.57e+05    2.57e+05\n",
      "element_605          -22.3325   1.31e+05     -0.000      1.000   -2.57e+05    2.57e+05\n",
      "element_607           -0.5585      1.763     -0.317      0.751      -4.013       2.896\n",
      "element_608           24.6481   1.31e+05      0.000      1.000   -2.57e+05    2.57e+05\n",
      "log_minutes           -1.1267      0.047    -23.988      0.000      -1.219      -1.035\n",
      "======================================================================================\n"
     ]
    }
   ],
   "source": [
    "print(sppmm_results.summary())"
   ]
  },
  {
   "cell_type": "markdown",
   "metadata": {
    "heading_collapsed": true,
    "hidden": true
   },
   "source": [
    "### Model fit"
   ]
  },
  {
   "cell_type": "code",
   "execution_count": 108,
   "metadata": {
    "ExecuteTime": {
     "end_time": "2019-04-09T15:29:20.647736Z",
     "start_time": "2019-04-09T15:29:20.641163Z"
    },
    "hidden": true
   },
   "outputs": [
    {
     "data": {
      "text/plain": [
       "10093.144731466788"
      ]
     },
     "execution_count": 108,
     "metadata": {},
     "output_type": "execute_result"
    }
   ],
   "source": [
    "sppmm_results.aic"
   ]
  },
  {
   "cell_type": "code",
   "execution_count": 109,
   "metadata": {
    "ExecuteTime": {
     "end_time": "2019-04-09T15:29:20.698324Z",
     "start_time": "2019-04-09T15:29:20.650982Z"
    },
    "hidden": true
   },
   "outputs": [
    {
     "data": {
      "text/plain": [
       "-66212.55671074435"
      ]
     },
     "execution_count": 109,
     "metadata": {},
     "output_type": "execute_result"
    }
   ],
   "source": [
    "sppmm_results.bic"
   ]
  },
  {
   "cell_type": "code",
   "execution_count": 110,
   "metadata": {
    "ExecuteTime": {
     "end_time": "2019-04-09T15:29:20.725727Z",
     "start_time": "2019-04-09T15:29:20.701211Z"
    },
    "hidden": true
   },
   "outputs": [
    {
     "data": {
      "text/plain": [
       "(True, 1.5488008735520253e-06)"
      ]
     },
     "execution_count": 110,
     "metadata": {},
     "output_type": "execute_result"
    }
   ],
   "source": [
    "sppmm_pearson_results = goodness_fit.pearson_chi_squared_test(sppmm_results)\n",
    "sppmm_pearson_results"
   ]
  },
  {
   "cell_type": "code",
   "execution_count": 111,
   "metadata": {
    "ExecuteTime": {
     "end_time": "2019-04-09T15:29:20.757925Z",
     "start_time": "2019-04-09T15:29:20.728362Z"
    },
    "hidden": true
   },
   "outputs": [
    {
     "data": {
      "text/plain": [
       "count    8802.000000\n",
       "mean       -0.072753\n",
       "std         1.012284\n",
       "min        -2.998817\n",
       "25%        -0.817310\n",
       "50%        -0.485533\n",
       "75%         0.914616\n",
       "max         2.643008\n",
       "dtype: float64"
      ]
     },
     "execution_count": 111,
     "metadata": {},
     "output_type": "execute_result"
    }
   ],
   "source": [
    "sppmm_results.resid_deviance.describe()"
   ]
  },
  {
   "cell_type": "code",
   "execution_count": 112,
   "metadata": {
    "ExecuteTime": {
     "end_time": "2019-04-09T15:29:21.190583Z",
     "start_time": "2019-04-09T15:29:20.760874Z"
    },
    "hidden": true
   },
   "outputs": [
    {
     "data": {
      "image/png": "[encoded data removed]",
      "text/plain": [
       "<Figure size 432x288 with 1 Axes>"
      ]
     },
     "metadata": {
      "needs_background": "light"
     },
     "output_type": "display_data"
    }
   ],
   "source": [
    "plt.figure()\n",
    "plt.hist(sppmm_results.resid_deviance, bins=20)\n",
    "plt.show()"
   ]
  },
  {
   "cell_type": "markdown",
   "metadata": {},
   "source": [
    "# Model comparison"
   ]
  },
  {
   "cell_type": "code",
   "execution_count": 133,
   "metadata": {
    "ExecuteTime": {
     "end_time": "2019-04-09T15:33:56.750926Z",
     "start_time": "2019-04-09T15:33:56.738400Z"
    }
   },
   "outputs": [
    {
     "data": {
      "text/plain": [
       "{'Simple Binomial': 11636.08788631826,\n",
       " 'Binomial teams': 10540.643954975792,\n",
       " 'Binomial players': 10911.547370988768,\n",
       " 'Simple Binomial minutes': 10510.915651966397,\n",
       " 'Binomial teams minutes': 9449.983426355566,\n",
       " 'Binomial teams minutes form': 8897.845433949165,\n",
       " 'Binomial players minutes': 10093.144731466788}"
      ]
     },
     "execution_count": 133,
     "metadata": {},
     "output_type": "execute_result"
    }
   ],
   "source": [
    "aic = {\n",
    "    'Simple Binomial': spm_results.aic,\n",
    "    'Binomial teams': sptm_results.aic,\n",
    "    'Binomial players': sppm_results.aic,\n",
    "    \n",
    "    'Simple Binomial minutes': spmm_results.aic,\n",
    "    'Binomial teams minutes': sptmm_results.aic,\n",
    "    'Binomial teams minutes form': sptmmf_results.aic,\n",
    "    'Binomial players minutes': sppmm_results.aic,\n",
    "    }\n",
    "aic"
   ]
  },
  {
   "cell_type": "code",
   "execution_count": 134,
   "metadata": {
    "ExecuteTime": {
     "end_time": "2019-04-09T15:33:57.248728Z",
     "start_time": "2019-04-09T15:33:57.237794Z"
    }
   },
   "outputs": [
    {
     "data": {
      "text/plain": [
       "{'Simple Binomial': -68303.05622479423,\n",
       " 'Binomial teams': -69101.02531774712,\n",
       " 'Binomial players': -65401.23680546975,\n",
       " 'Simple Binomial minutes': -69421.14572489871,\n",
       " 'Binomial teams minutes': -70184.60311211996,\n",
       " 'Binomial teams minutes form': -65775.53587489823,\n",
       " 'Binomial players minutes': -66212.55671074435}"
      ]
     },
     "execution_count": 134,
     "metadata": {},
     "output_type": "execute_result"
    }
   ],
   "source": [
    "bic = {\n",
    "    'Simple Binomial': spm_results.bic,\n",
    "    'Binomial teams': sptm_results.bic,\n",
    "    'Binomial players': sppm_results.bic,\n",
    "    \n",
    "    'Simple Binomial minutes': spmm_results.bic,\n",
    "    'Binomial teams minutes': sptmm_results.bic,\n",
    "    'Binomial teams minutes form': sptmmf_results.bic,\n",
    "    'Binomial players minutes': sppmm_results.bic,\n",
    "    }\n",
    "bic"
   ]
  },
  {
   "cell_type": "code",
   "execution_count": 135,
   "metadata": {
    "ExecuteTime": {
     "end_time": "2019-04-09T15:33:57.930117Z",
     "start_time": "2019-04-09T15:33:57.904338Z"
    }
   },
   "outputs": [
    {
     "data": {
      "text/html": [
       "<div>\n",
       "<style scoped>\n",
       "    .dataframe tbody tr th:only-of-type {\n",
       "        vertical-align: middle;\n",
       "    }\n",
       "\n",
       "    .dataframe tbody tr th {\n",
       "        vertical-align: top;\n",
       "    }\n",
       "\n",
       "    .dataframe thead th {\n",
       "        text-align: right;\n",
       "    }\n",
       "</style>\n",
       "<table border=\"1\" class=\"dataframe\">\n",
       "  <thead>\n",
       "    <tr style=\"text-align: right;\">\n",
       "      <th></th>\n",
       "      <th>AIC</th>\n",
       "      <th>BIC</th>\n",
       "    </tr>\n",
       "  </thead>\n",
       "  <tbody>\n",
       "    <tr>\n",
       "      <th>Binomial players</th>\n",
       "      <td>10911</td>\n",
       "      <td>-65401</td>\n",
       "    </tr>\n",
       "    <tr>\n",
       "      <th>Binomial players minutes</th>\n",
       "      <td>10093</td>\n",
       "      <td>-66212</td>\n",
       "    </tr>\n",
       "    <tr>\n",
       "      <th>Binomial teams</th>\n",
       "      <td>10540</td>\n",
       "      <td>-69101</td>\n",
       "    </tr>\n",
       "    <tr>\n",
       "      <th>Binomial teams minutes</th>\n",
       "      <td>9449</td>\n",
       "      <td>-70184</td>\n",
       "    </tr>\n",
       "    <tr>\n",
       "      <th>Binomial teams minutes form</th>\n",
       "      <td>8897</td>\n",
       "      <td>-65775</td>\n",
       "    </tr>\n",
       "    <tr>\n",
       "      <th>Simple Binomial</th>\n",
       "      <td>11636</td>\n",
       "      <td>-68303</td>\n",
       "    </tr>\n",
       "    <tr>\n",
       "      <th>Simple Binomial minutes</th>\n",
       "      <td>10510</td>\n",
       "      <td>-69421</td>\n",
       "    </tr>\n",
       "  </tbody>\n",
       "</table>\n",
       "</div>"
      ],
      "text/plain": [
       "                               AIC    BIC\n",
       "Binomial players             10911 -65401\n",
       "Binomial players minutes     10093 -66212\n",
       "Binomial teams               10540 -69101\n",
       "Binomial teams minutes        9449 -70184\n",
       "Binomial teams minutes form   8897 -65775\n",
       "Simple Binomial              11636 -68303\n",
       "Simple Binomial minutes      10510 -69421"
      ]
     },
     "execution_count": 135,
     "metadata": {},
     "output_type": "execute_result"
    }
   ],
   "source": [
    "comp_df = pd.DataFrame([\n",
    "    aic,\n",
    "    bic\n",
    "]).T\n",
    "comp_df.columns = [\n",
    "    'AIC',\n",
    "    'BIC'\n",
    "]\n",
    "comp_df.astype('int64')"
   ]
  },
  {
   "cell_type": "code",
   "execution_count": null,
   "metadata": {},
   "outputs": [],
   "source": []
  }
 ],
 "metadata": {
  "kernelspec": {
   "display_name": "Python 3",
   "language": "python",
   "name": "python3"
  },
  "language_info": {
   "codemirror_mode": {
    "name": "ipython",
    "version": 3
   },
   "file_extension": ".py",
   "mimetype": "text/x-python",
   "name": "python",
   "nbconvert_exporter": "python",
   "pygments_lexer": "ipython3",
   "version": "3.6.7"
  },
  "toc": {
   "nav_menu": {},
   "number_sections": true,
   "sideBar": true,
   "skip_h1_title": false,
   "title_cell": "Table of Contents",
   "title_sidebar": "Contents",
   "toc_cell": false,
   "toc_position": {},
   "toc_section_display": true,
   "toc_window_display": false
  }
 },
 "nbformat": 4,
 "nbformat_minor": 2
}
