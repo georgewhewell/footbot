{
 "cells": [
  {
   "cell_type": "code",
   "execution_count": 3,
   "metadata": {
    "ExecuteTime": {
     "end_time": "2019-02-23T13:23:06.577305Z",
     "start_time": "2019-02-23T13:23:06.572566Z"
    }
   },
   "outputs": [],
   "source": [
    "import requests"
   ]
  },
  {
   "cell_type": "markdown",
   "metadata": {},
   "source": [
    "# API structure\n",
    "\n",
    "Some endpoints may require authentication. If this is the case, it seems sufficient to be logged into the FLP website on a browser."
   ]
  },
  {
   "cell_type": "markdown",
   "metadata": {},
   "source": [
    "## `bootstrap_static`\n",
    "\n",
    "A master endpoint that has lots of different information."
   ]
  },
  {
   "cell_type": "code",
   "execution_count": 4,
   "metadata": {
    "ExecuteTime": {
     "end_time": "2019-02-23T13:23:07.422589Z",
     "start_time": "2019-02-23T13:23:07.304995Z"
    }
   },
   "outputs": [],
   "source": [
    "bootstrap_static_request = requests.get('https://fantasy.premierleague.com/drf/bootstrap-static')\n",
    "bootstrap_static_data = bootstrap_static_request.json()"
   ]
  },
  {
   "cell_type": "code",
   "execution_count": 5,
   "metadata": {
    "ExecuteTime": {
     "end_time": "2019-02-23T13:23:07.773827Z",
     "start_time": "2019-02-23T13:23:07.745048Z"
    }
   },
   "outputs": [
    {
     "data": {
      "text/plain": [
       "['phases',\n",
       " 'elements',\n",
       " 'stats',\n",
       " 'game-settings',\n",
       " 'current-event',\n",
       " 'total-players',\n",
       " 'teams',\n",
       " 'element_types',\n",
       " 'last-entry-event',\n",
       " 'stats_options',\n",
       " 'next_event_fixtures',\n",
       " 'events',\n",
       " 'next-event']"
      ]
     },
     "execution_count": 5,
     "metadata": {},
     "output_type": "execute_result"
    }
   ],
   "source": [
    "list(bootstrap_static_data.keys())"
   ]
  },
  {
   "cell_type": "markdown",
   "metadata": {
    "heading_collapsed": true
   },
   "source": [
    "### `phases`\n",
    "\n",
    "`phases` is an array of different epochs with the start and end gameweek numbers. Mainly, the phases represent months; there is also an `Overall` phase. Monthly phases don't appear to overlap. Each phase is also associated with `num_winners`, which is 10 for each month and 3 for the overall phase."
   ]
  },
  {
   "cell_type": "code",
   "execution_count": 5,
   "metadata": {
    "ExecuteTime": {
     "end_time": "2019-02-22T16:20:08.623228Z",
     "start_time": "2019-02-22T16:20:08.615928Z"
    },
    "hidden": true
   },
   "outputs": [
    {
     "data": {
      "text/plain": [
       "{'id': 1,\n",
       " 'name': 'Overall',\n",
       " 'num_winners': 3,\n",
       " 'start_event': 1,\n",
       " 'stop_event': 38}"
      ]
     },
     "execution_count": 5,
     "metadata": {},
     "output_type": "execute_result"
    }
   ],
   "source": [
    "bootstrap_static_data['phases'][0]"
   ]
  },
  {
   "cell_type": "markdown",
   "metadata": {
    "heading_collapsed": true,
    "hidden": true
   },
   "source": [
    "#### All data"
   ]
  },
  {
   "cell_type": "code",
   "execution_count": 6,
   "metadata": {
    "ExecuteTime": {
     "end_time": "2019-02-22T16:20:10.250861Z",
     "start_time": "2019-02-22T16:20:10.239695Z"
    },
    "hidden": true
   },
   "outputs": [
    {
     "data": {
      "text/plain": [
       "[{'id': 1,\n",
       "  'name': 'Overall',\n",
       "  'num_winners': 3,\n",
       "  'start_event': 1,\n",
       "  'stop_event': 38},\n",
       " {'id': 2,\n",
       "  'name': 'August',\n",
       "  'num_winners': 10,\n",
       "  'start_event': 1,\n",
       "  'stop_event': 3},\n",
       " {'id': 3,\n",
       "  'name': 'September',\n",
       "  'num_winners': 10,\n",
       "  'start_event': 4,\n",
       "  'stop_event': 7},\n",
       " {'id': 4,\n",
       "  'name': 'October',\n",
       "  'num_winners': 10,\n",
       "  'start_event': 8,\n",
       "  'stop_event': 10},\n",
       " {'id': 5,\n",
       "  'name': 'November',\n",
       "  'num_winners': 10,\n",
       "  'start_event': 11,\n",
       "  'stop_event': 14},\n",
       " {'id': 6,\n",
       "  'name': 'December',\n",
       "  'num_winners': 10,\n",
       "  'start_event': 15,\n",
       "  'stop_event': 20},\n",
       " {'id': 7,\n",
       "  'name': 'January',\n",
       "  'num_winners': 10,\n",
       "  'start_event': 21,\n",
       "  'stop_event': 24},\n",
       " {'id': 8,\n",
       "  'name': 'February',\n",
       "  'num_winners': 10,\n",
       "  'start_event': 25,\n",
       "  'stop_event': 28},\n",
       " {'id': 9,\n",
       "  'name': 'March',\n",
       "  'num_winners': 10,\n",
       "  'start_event': 29,\n",
       "  'stop_event': 32},\n",
       " {'id': 10,\n",
       "  'name': 'April',\n",
       "  'num_winners': 10,\n",
       "  'start_event': 33,\n",
       "  'stop_event': 36},\n",
       " {'id': 11,\n",
       "  'name': 'May',\n",
       "  'num_winners': 10,\n",
       "  'start_event': 37,\n",
       "  'stop_event': 38}]"
      ]
     },
     "execution_count": 6,
     "metadata": {},
     "output_type": "execute_result"
    }
   ],
   "source": [
    "bootstrap_static_data['phases']"
   ]
  },
  {
   "cell_type": "markdown",
   "metadata": {},
   "source": [
    "### `elements`\n",
    "\n",
    "`elements` is an array of over 500 players and presumably covers all PL players. The individual player data their total metrics for the season, e.g. form, total points, goals."
   ]
  },
  {
   "cell_type": "code",
   "execution_count": 43,
   "metadata": {
    "ExecuteTime": {
     "end_time": "2019-03-16T15:04:59.476953Z",
     "start_time": "2019-03-16T15:04:59.464588Z"
    }
   },
   "outputs": [
    {
     "data": {
      "text/plain": [
       "{'id': 142,\n",
       " 'photo': '74230.jpg',\n",
       " 'web_name': 'van Aanholt',\n",
       " 'team_code': 31,\n",
       " 'status': 'a',\n",
       " 'code': 74230,\n",
       " 'first_name': 'Patrick',\n",
       " 'second_name': 'van Aanholt',\n",
       " 'squad_number': 3,\n",
       " 'news': '',\n",
       " 'now_cost': 54,\n",
       " 'news_added': '2018-12-08T17:31:17Z',\n",
       " 'chance_of_playing_this_round': 100,\n",
       " 'chance_of_playing_next_round': 100,\n",
       " 'value_form': '0.6',\n",
       " 'value_season': '18.0',\n",
       " 'cost_change_start': -1,\n",
       " 'cost_change_event': 0,\n",
       " 'cost_change_start_fall': 1,\n",
       " 'cost_change_event_fall': 0,\n",
       " 'in_dreamteam': False,\n",
       " 'dreamteam_count': 2,\n",
       " 'selected_by_percent': '4.8',\n",
       " 'form': '3.0',\n",
       " 'transfers_out': 370671,\n",
       " 'transfers_in': 344388,\n",
       " 'transfers_out_event': 419,\n",
       " 'transfers_in_event': 618,\n",
       " 'loans_in': 0,\n",
       " 'loans_out': 0,\n",
       " 'loaned_in': 0,\n",
       " 'loaned_out': 0,\n",
       " 'total_points': 97,\n",
       " 'event_points': 0,\n",
       " 'points_per_game': '3.7',\n",
       " 'ep_this': '2.5',\n",
       " 'ep_next': '2.0',\n",
       " 'special': False,\n",
       " 'minutes': 2304,\n",
       " 'goals_scored': 1,\n",
       " 'assists': 2,\n",
       " 'clean_sheets': 9,\n",
       " 'goals_conceded': 32,\n",
       " 'own_goals': 0,\n",
       " 'penalties_saved': 0,\n",
       " 'penalties_missed': 0,\n",
       " 'yellow_cards': 3,\n",
       " 'red_cards': 0,\n",
       " 'saves': 0,\n",
       " 'bonus': 13,\n",
       " 'bps': 451,\n",
       " 'influence': '428.4',\n",
       " 'creativity': '414.2',\n",
       " 'threat': '350.0',\n",
       " 'ict_index': '119.4',\n",
       " 'ea_index': 0,\n",
       " 'element_type': 2,\n",
       " 'team': 7}"
      ]
     },
     "execution_count": 43,
     "metadata": {},
     "output_type": "execute_result"
    }
   ],
   "source": [
    "[i for i in bootstrap_static_data['elements'] if i['id'] == 142][0]"
   ]
  },
  {
   "cell_type": "markdown",
   "metadata": {
    "heading_collapsed": true
   },
   "source": [
    "### `stats`\n",
    "\n",
    "`stats` provides look up data between api field names representing statistics to their readable labels."
   ]
  },
  {
   "cell_type": "code",
   "execution_count": 8,
   "metadata": {
    "ExecuteTime": {
     "end_time": "2019-02-22T16:20:11.637194Z",
     "start_time": "2019-02-22T16:20:11.627167Z"
    },
    "hidden": true
   },
   "outputs": [
    {
     "data": {
      "text/plain": [
       "[('minutes', 'Minutes played'),\n",
       " ('goals_scored', 'Goals scored'),\n",
       " ('assists', 'Assists'),\n",
       " ('clean_sheets', 'Clean sheets'),\n",
       " ('goals_conceded', 'Goals conceded'),\n",
       " ('own_goals', 'Own goals'),\n",
       " ('penalties_saved', 'Penalties saved'),\n",
       " ('penalties_missed', 'Penalties missed'),\n",
       " ('yellow_cards', 'Yellow cards'),\n",
       " ('red_cards', 'Red cards'),\n",
       " ('saves', 'Saves'),\n",
       " ('bonus', 'Bonus'),\n",
       " ('bps', 'Bonus Points System'),\n",
       " ('influence', 'Influence'),\n",
       " ('creativity', 'Creativity'),\n",
       " ('threat', 'Threat'),\n",
       " ('ict_index', 'ICT Index')]"
      ]
     },
     "execution_count": 8,
     "metadata": {},
     "output_type": "execute_result"
    }
   ],
   "source": [
    "[(i['field'], i['label']) for i in bootstrap_static_data['stats']['headings']]"
   ]
  },
  {
   "cell_type": "markdown",
   "metadata": {
    "heading_collapsed": true
   },
   "source": [
    "### `game-settings`\n",
    "\n",
    "`game-settings` provides various data regarding the nature of FPL, including scoring mechanisms and possible formations."
   ]
  },
  {
   "cell_type": "code",
   "execution_count": 9,
   "metadata": {
    "ExecuteTime": {
     "end_time": "2019-02-22T16:20:12.145819Z",
     "start_time": "2019-02-22T16:20:12.138660Z"
    },
    "hidden": true
   },
   "outputs": [
    {
     "data": {
      "text/plain": [
       "['game', 'element_type']"
      ]
     },
     "execution_count": 9,
     "metadata": {},
     "output_type": "execute_result"
    }
   ],
   "source": [
    "list(bootstrap_static_data['game-settings'].keys())"
   ]
  },
  {
   "cell_type": "code",
   "execution_count": 10,
   "metadata": {
    "ExecuteTime": {
     "end_time": "2019-02-22T16:20:12.794143Z",
     "start_time": "2019-02-22T16:20:12.767599Z"
    },
    "hidden": true
   },
   "outputs": [
    {
     "data": {
      "text/plain": [
       "{'scoring_ea_index': 0,\n",
       " 'league_prefix_public': 'League',\n",
       " 'bps_tackles': 2,\n",
       " 'league_h2h_tiebreak': '+goals_scored||-goals_conceded',\n",
       " 'scoring_long_play': 2,\n",
       " 'bps_recoveries_limit': 3,\n",
       " 'facebook_app_id': '337309029685327',\n",
       " 'bps_tackled': -1,\n",
       " 'bps_errors_leading_to_goal': -3,\n",
       " 'bps_yellow_cards': -3,\n",
       " 'ui_el_hide_currency_qi': True,\n",
       " 'scoring_bonus': 1,\n",
       " 'transfers_cost': 4,\n",
       " 'default_formation': [[0, 1, 0, 2, 0],\n",
       "  [3, 4, 5, 6, 7],\n",
       "  [8, 9, 10, 11, 12],\n",
       "  [0, 13, 14, 15, 0]],\n",
       " 'bps_long_play': 6,\n",
       " 'bps_long_play_limit': 60,\n",
       " 'scoring_assists': 3,\n",
       " 'scoring_long_play_limit': 60,\n",
       " 'ui_special_shirt_exclusions': [],\n",
       " 'fifa_league_id': 454539,\n",
       " 'league_size_classic_max': 20,\n",
       " 'scoring_red_cards': -3,\n",
       " 'scoring_creativity': 0,\n",
       " 'game_timezone': 'Europe/London',\n",
       " 'static_game_url': '/static/compass/plfpl/desktop/',\n",
       " 'currency_symbol': '£',\n",
       " 'bps_target_missed': -1,\n",
       " 'bps_penalties_saved': 15,\n",
       " 'ui_use_special_shirts': False,\n",
       " 'support_email_address': 'plfpl@mailout.fantasy.premierleague.com',\n",
       " 'cup_start_event_id': 17,\n",
       " 'scoring_penalties_saved': 5,\n",
       " 'scoring_threat': 0,\n",
       " 'scoring_saves': 1,\n",
       " 'league_join_private_max': 15,\n",
       " 'scoring_short_play': 1,\n",
       " 'sys_use_event_live_api': True,\n",
       " 'scoring_concede_limit': 2,\n",
       " 'bps_key_passes': 1,\n",
       " 'bps_clearances_blocks_interceptions': 1,\n",
       " 'bps_pass_percentage_90': 6,\n",
       " 'bps_big_chances_missed': -3,\n",
       " 'league_max_ko_rounds_h2h': 3,\n",
       " 'bps_open_play_crosses': 1,\n",
       " 'league_points_h2h_win': 3,\n",
       " 'bps_saves': 2,\n",
       " 'bps_cbi_limit': 2,\n",
       " 'league_size_h2h_max': 20,\n",
       " 'sys_vice_captain_enabled': True,\n",
       " 'squad_squadplay': 11,\n",
       " 'bps_fouls': -1,\n",
       " 'squad_squadsize': 15,\n",
       " 'ui_selection_short_team_names': True,\n",
       " 'transfers_sell_on_fee': 0.5,\n",
       " 'transfers_type': 'cost',\n",
       " 'scoring_ict_index': 0,\n",
       " 'bps_pass_percentage_80': 4,\n",
       " 'bps_own_goals': -6,\n",
       " 'scoring_yellow_cards': -1,\n",
       " 'bps_pass_percentage_70': 2,\n",
       " 'ui_show_home_away': True,\n",
       " 'ui_el_hide_currency_sy': True,\n",
       " 'bps_assists': 9,\n",
       " 'squad_team_limit': 3,\n",
       " 'league_points_h2h_draw': 1,\n",
       " 'transfers_limit': 1,\n",
       " 'bps_dribbles': 1,\n",
       " 'bps_offside': -1,\n",
       " 'sys_cdn_cache_enabled': True,\n",
       " 'currency_multiplier': 10,\n",
       " 'bps_red_cards': -9,\n",
       " 'bps_winning_goals': 3,\n",
       " 'league_join_public_max': 3,\n",
       " 'formations': {'1-5-2-3': [[0, 0, 1, 0, 0],\n",
       "   [2, 3, 4, 5, 6],\n",
       "   [0, 7, 0, 8, 0],\n",
       "   [9, 0, 10, 0, 11],\n",
       "   [12, 0, 13, 14, 15]],\n",
       "  '1-5-3-2': [[0, 0, 1, 0, 0],\n",
       "   [2, 3, 4, 5, 6],\n",
       "   [7, 0, 8, 0, 9],\n",
       "   [0, 10, 0, 11, 0],\n",
       "   [12, 0, 13, 14, 15]],\n",
       "  '1-3-5-2': [[0, 0, 1, 0, 0],\n",
       "   [0, 2, 3, 4, 0],\n",
       "   [5, 6, 7, 8, 9],\n",
       "   [0, 10, 0, 11, 0],\n",
       "   [12, 0, 13, 14, 15]],\n",
       "  '1-2-5-3': [[0, 0, 1, 0, 0],\n",
       "   [0, 2, 0, 3, 0],\n",
       "   [4, 5, 6, 7, 8],\n",
       "   [9, 0, 10, 0, 11],\n",
       "   [12, 0, 13, 14, 15]],\n",
       "  '1-4-5-1': [[0, 0, 1, 0, 0],\n",
       "   [2, 3, 0, 4, 5],\n",
       "   [6, 7, 8, 9, 10],\n",
       "   [0, 0, 11, 0, 0],\n",
       "   [12, 0, 13, 14, 15]],\n",
       "  '1-5-4-1': [[0, 0, 1, 0, 0],\n",
       "   [2, 3, 4, 5, 6],\n",
       "   [7, 8, 0, 9, 10],\n",
       "   [0, 0, 11, 0, 0],\n",
       "   [12, 0, 13, 14, 15]],\n",
       "  '1-4-3-3': [[0, 0, 1, 0, 0],\n",
       "   [2, 3, 0, 4, 5],\n",
       "   [0, 6, 7, 8, 0],\n",
       "   [9, 0, 10, 0, 11],\n",
       "   [12, 0, 13, 14, 15]],\n",
       "  '1-3-4-3': [[0, 0, 1, 0, 0],\n",
       "   [0, 2, 3, 4, 0],\n",
       "   [5, 6, 0, 7, 8],\n",
       "   [0, 9, 10, 11, 0],\n",
       "   [12, 0, 13, 14, 15]],\n",
       "  '1-4-4-2': [[0, 0, 1, 0, 0],\n",
       "   [2, 3, 0, 4, 5],\n",
       "   [6, 7, 0, 8, 9],\n",
       "   [0, 10, 0, 11, 0],\n",
       "   [12, 0, 13, 14, 15]]},\n",
       " 'league_points_h2h_lose': 0,\n",
       " 'currency_decimal_places': 1,\n",
       " 'bps_errors_leading_to_goal_attempt': -1,\n",
       " 'ui_selection_price_gap': 5,\n",
       " 'bps_big_chances_created': 3,\n",
       " 'ui_selection_player_limit': 30,\n",
       " 'bps_attempted_passes_limit': 30,\n",
       " 'scoring_penalties_missed': -2,\n",
       " 'photo_base_url': '/static/plfpl/img/shirts/photos/',\n",
       " 'scoring_bps': 0,\n",
       " 'scoring_influence': 0,\n",
       " 'bps_penalties_conceded': -3,\n",
       " 'scoring_own_goals': -2,\n",
       " 'squad_total_spend': 1000,\n",
       " 'bps_short_play': 3,\n",
       " 'ui_element_wrap': 0,\n",
       " 'bps_recoveries': 1,\n",
       " 'bps_penalties_missed': -6,\n",
       " 'scoring_saves_limit': 3}"
      ]
     },
     "execution_count": 10,
     "metadata": {},
     "output_type": "execute_result"
    }
   ],
   "source": [
    "bootstrap_static_data['game-settings']['game']"
   ]
  },
  {
   "cell_type": "code",
   "execution_count": 11,
   "metadata": {
    "ExecuteTime": {
     "end_time": "2019-02-22T16:20:13.299247Z",
     "start_time": "2019-02-22T16:20:13.290872Z"
    },
    "hidden": true
   },
   "outputs": [
    {
     "data": {
      "text/plain": [
       "{'1': {'scoring_clean_sheets': 4,\n",
       "  'squad_min_play': 1,\n",
       "  'bps_clean_sheets': 12,\n",
       "  'scoring_goals_conceded': -1,\n",
       "  'scoring_goals_scored': 6,\n",
       "  'squad_max_play': 1,\n",
       "  'bps_goals_scored': 12,\n",
       "  'ui_shirt_specific': True,\n",
       "  'squad_select': 2,\n",
       "  'sub_positions_locked': [12]},\n",
       " '2': {'scoring_clean_sheets': 4,\n",
       "  'squad_min_play': 3,\n",
       "  'scoring_goals_conceded': -1,\n",
       "  'scoring_goals_scored': 6,\n",
       "  'squad_max_play': 5,\n",
       "  'bps_goals_scored': 12,\n",
       "  'bps_clean_sheets': 12,\n",
       "  'squad_select': 5},\n",
       " '3': {'scoring_clean_sheets': 1,\n",
       "  'squad_min_play': 2,\n",
       "  'scoring_goals_conceded': 0,\n",
       "  'scoring_goals_scored': 5,\n",
       "  'squad_max_play': 5,\n",
       "  'bps_goals_scored': 18,\n",
       "  'bps_clean_sheets': 0,\n",
       "  'squad_select': 5},\n",
       " '4': {'scoring_clean_sheets': 0,\n",
       "  'squad_min_play': 1,\n",
       "  'scoring_goals_conceded': 0,\n",
       "  'scoring_goals_scored': 4,\n",
       "  'squad_max_play': 3,\n",
       "  'bps_goals_scored': 24,\n",
       "  'bps_clean_sheets': 0,\n",
       "  'squad_select': 3}}"
      ]
     },
     "execution_count": 11,
     "metadata": {},
     "output_type": "execute_result"
    }
   ],
   "source": [
    "bootstrap_static_data['game-settings']['element_type']"
   ]
  },
  {
   "cell_type": "markdown",
   "metadata": {
    "heading_collapsed": true
   },
   "source": [
    "### `events` and related endpoints\n",
    "\n",
    "`events` are gameweeks. the `current-event` and `next-event` endpoints simply identify the current and next gameweek, but there may be some lag with respect to when these are updated. `last-entry-event` identifies the last gameweek."
   ]
  },
  {
   "cell_type": "code",
   "execution_count": 12,
   "metadata": {
    "ExecuteTime": {
     "end_time": "2019-02-22T16:20:13.971191Z",
     "start_time": "2019-02-22T16:20:13.963511Z"
    },
    "hidden": true
   },
   "outputs": [
    {
     "data": {
      "text/plain": [
       "{'id': 6,\n",
       " 'name': 'Gameweek 6',\n",
       " 'deadline_time': '2018-09-22T10:30:00Z',\n",
       " 'average_entry_score': 52,\n",
       " 'finished': True,\n",
       " 'data_checked': True,\n",
       " 'highest_scoring_entry': 1452573,\n",
       " 'deadline_time_epoch': 1537612200,\n",
       " 'deadline_time_game_offset': 3600,\n",
       " 'deadline_time_formatted': '22 Sep 11:30',\n",
       " 'highest_score': 118,\n",
       " 'is_previous': False,\n",
       " 'is_current': False,\n",
       " 'is_next': False}"
      ]
     },
     "execution_count": 12,
     "metadata": {},
     "output_type": "execute_result"
    }
   ],
   "source": [
    "bootstrap_static_data['events'][5]"
   ]
  },
  {
   "cell_type": "code",
   "execution_count": 13,
   "metadata": {
    "ExecuteTime": {
     "end_time": "2019-02-22T16:20:14.569555Z",
     "start_time": "2019-02-22T16:20:14.562974Z"
    },
    "hidden": true
   },
   "outputs": [
    {
     "data": {
      "text/plain": [
       "26"
      ]
     },
     "execution_count": 13,
     "metadata": {},
     "output_type": "execute_result"
    }
   ],
   "source": [
    "bootstrap_static_data['current-event']"
   ]
  },
  {
   "cell_type": "code",
   "execution_count": 14,
   "metadata": {
    "ExecuteTime": {
     "end_time": "2019-02-22T16:20:14.829697Z",
     "start_time": "2019-02-22T16:20:14.823704Z"
    },
    "hidden": true
   },
   "outputs": [
    {
     "data": {
      "text/plain": [
       "27"
      ]
     },
     "execution_count": 14,
     "metadata": {},
     "output_type": "execute_result"
    }
   ],
   "source": [
    "bootstrap_static_data['next-event']"
   ]
  },
  {
   "cell_type": "code",
   "execution_count": 15,
   "metadata": {
    "ExecuteTime": {
     "end_time": "2019-02-22T16:20:15.363562Z",
     "start_time": "2019-02-22T16:20:15.358108Z"
    },
    "hidden": true
   },
   "outputs": [
    {
     "data": {
      "text/plain": [
       "38"
      ]
     },
     "execution_count": 15,
     "metadata": {},
     "output_type": "execute_result"
    }
   ],
   "source": [
    "bootstrap_static_data['last-entry-event']"
   ]
  },
  {
   "cell_type": "markdown",
   "metadata": {},
   "source": [
    "### `teams`\n",
    "\n",
    "`teams` gives information about EPL teams, including some measures of strength."
   ]
  },
  {
   "cell_type": "code",
   "execution_count": 42,
   "metadata": {
    "ExecuteTime": {
     "end_time": "2019-03-16T15:04:36.659518Z",
     "start_time": "2019-03-16T15:04:36.649112Z"
    }
   },
   "outputs": [
    {
     "data": {
      "text/plain": [
       "{'id': 13,\n",
       " 'current_event_fixture': [],\n",
       " 'next_event_fixture': [{'is_home': True,\n",
       "   'day': 27,\n",
       "   'event_day': 2,\n",
       "   'month': 2,\n",
       "   'id': 278,\n",
       "   'opponent': 19}],\n",
       " 'name': 'Man City',\n",
       " 'code': 43,\n",
       " 'short_name': 'MCI',\n",
       " 'unavailable': False,\n",
       " 'strength': 5,\n",
       " 'position': 0,\n",
       " 'played': 0,\n",
       " 'win': 0,\n",
       " 'loss': 0,\n",
       " 'draw': 0,\n",
       " 'points': 0,\n",
       " 'form': None,\n",
       " 'link_url': '',\n",
       " 'strength_overall_home': 1320,\n",
       " 'strength_overall_away': 1350,\n",
       " 'strength_attack_home': 1320,\n",
       " 'strength_attack_away': 1330,\n",
       " 'strength_defence_home': 1340,\n",
       " 'strength_defence_away': 1360,\n",
       " 'team_division': 1}"
      ]
     },
     "execution_count": 42,
     "metadata": {},
     "output_type": "execute_result"
    }
   ],
   "source": [
    "bootstrap_static_data['teams'][12]"
   ]
  },
  {
   "cell_type": "markdown",
   "metadata": {},
   "source": [
    "### Others"
   ]
  },
  {
   "cell_type": "markdown",
   "metadata": {},
   "source": [
    "Presumably `total-players` is the total number of fantasy managers."
   ]
  },
  {
   "cell_type": "code",
   "execution_count": 31,
   "metadata": {
    "ExecuteTime": {
     "end_time": "2018-10-08T05:55:41.142225Z",
     "start_time": "2018-10-08T05:55:41.121335Z"
    }
   },
   "outputs": [
    {
     "data": {
      "text/plain": [
       "5731225"
      ]
     },
     "execution_count": 31,
     "metadata": {},
     "output_type": "execute_result"
    }
   ],
   "source": [
    "bootstrap_static_data['total-players']"
   ]
  },
  {
   "cell_type": "markdown",
   "metadata": {},
   "source": [
    "`element_types` is a look up table for player positions."
   ]
  },
  {
   "cell_type": "code",
   "execution_count": 32,
   "metadata": {
    "ExecuteTime": {
     "end_time": "2018-10-08T05:55:41.168256Z",
     "start_time": "2018-10-08T05:55:41.144380Z"
    }
   },
   "outputs": [
    {
     "data": {
      "text/plain": [
       "[{'id': 1,\n",
       "  'singular_name': 'Goalkeeper',\n",
       "  'singular_name_short': 'GKP',\n",
       "  'plural_name': 'Goalkeepers',\n",
       "  'plural_name_short': 'GKP'},\n",
       " {'id': 2,\n",
       "  'singular_name': 'Defender',\n",
       "  'singular_name_short': 'DEF',\n",
       "  'plural_name': 'Defenders',\n",
       "  'plural_name_short': 'DEF'},\n",
       " {'id': 3,\n",
       "  'singular_name': 'Midfielder',\n",
       "  'singular_name_short': 'MID',\n",
       "  'plural_name': 'Midfielders',\n",
       "  'plural_name_short': 'MID'},\n",
       " {'id': 4,\n",
       "  'singular_name': 'Forward',\n",
       "  'singular_name_short': 'FWD',\n",
       "  'plural_name': 'Forwards',\n",
       "  'plural_name_short': 'FWD'}]"
      ]
     },
     "execution_count": 32,
     "metadata": {},
     "output_type": "execute_result"
    }
   ],
   "source": [
    "bootstrap_static_data['element_types']"
   ]
  },
  {
   "cell_type": "markdown",
   "metadata": {},
   "source": [
    "`stats_options` is a look up table of field names."
   ]
  },
  {
   "cell_type": "code",
   "execution_count": 33,
   "metadata": {
    "ExecuteTime": {
     "end_time": "2018-10-08T05:55:41.196190Z",
     "start_time": "2018-10-08T05:55:41.170375Z"
    }
   },
   "outputs": [
    {
     "data": {
      "text/plain": [
       "[{'name': 'Total score', 'key': 'total_points'},\n",
       " {'name': 'Round score', 'key': 'event_points'},\n",
       " {'name': 'Price', 'key': 'now_cost'},\n",
       " {'name': 'Teams selected by %', 'key': 'selected_by_percent'},\n",
       " {'name': 'Minutes played', 'key': 'minutes'},\n",
       " {'name': 'Goals scored', 'key': 'goals_scored'},\n",
       " {'name': 'Assists', 'key': 'assists'},\n",
       " {'name': 'Clean sheets', 'key': 'clean_sheets'},\n",
       " {'name': 'Goals conceded', 'key': 'goals_conceded'},\n",
       " {'name': 'Own goals', 'key': 'own_goals'},\n",
       " {'name': 'Penalties saved', 'key': 'penalties_saved'},\n",
       " {'name': 'Penalties missed', 'key': 'penalties_missed'},\n",
       " {'name': 'Yellow cards', 'key': 'yellow_cards'},\n",
       " {'name': 'Red cards', 'key': 'red_cards'},\n",
       " {'name': 'Saves', 'key': 'saves'},\n",
       " {'name': 'Bonus', 'key': 'bonus'},\n",
       " {'name': 'Bonus Points System', 'key': 'bps'},\n",
       " {'name': 'Influence', 'key': 'influence'},\n",
       " {'name': 'Creativity', 'key': 'creativity'},\n",
       " {'name': 'Threat', 'key': 'threat'},\n",
       " {'name': 'ICT Index', 'key': 'ict_index'},\n",
       " {'name': 'Form', 'key': 'form'},\n",
       " {'name': 'Times in Dream Team', 'key': 'dreamteam_count'},\n",
       " {'name': 'Value (form)', 'key': 'value_form'},\n",
       " {'name': 'Value (season)', 'key': 'value_season'},\n",
       " {'name': 'Points per match', 'key': 'points_per_game'},\n",
       " {'name': 'Transfers in', 'key': 'transfers_in'},\n",
       " {'name': 'Transfers out', 'key': 'transfers_out'},\n",
       " {'name': 'Transfers in (round)', 'key': 'transfers_in_event'},\n",
       " {'name': 'Transfers out (round)', 'key': 'transfers_out_event'},\n",
       " {'name': 'Price rise', 'key': 'cost_change_start'},\n",
       " {'name': 'Price fall', 'key': 'cost_change_start_fall'},\n",
       " {'name': 'Price rise (round)', 'key': 'cost_change_event'},\n",
       " {'name': 'Price fall (round)', 'key': 'cost_change_event_fall'}]"
      ]
     },
     "execution_count": 33,
     "metadata": {},
     "output_type": "execute_result"
    }
   ],
   "source": [
    "bootstrap_static_data['stats_options']"
   ]
  },
  {
   "cell_type": "markdown",
   "metadata": {},
   "source": [
    "`next_event_fixtures` gives information about the fixtures in the upcoming gameweek/"
   ]
  },
  {
   "cell_type": "code",
   "execution_count": 34,
   "metadata": {
    "ExecuteTime": {
     "end_time": "2018-10-08T05:55:41.218057Z",
     "start_time": "2018-10-08T05:55:41.198302Z"
    }
   },
   "outputs": [
    {
     "data": {
      "text/plain": [
       "{'id': 84,\n",
       " 'kickoff_time_formatted': '20 Oct 12:30',\n",
       " 'started': False,\n",
       " 'event_day': 1,\n",
       " 'deadline_time': '2018-10-20T10:30:00Z',\n",
       " 'deadline_time_formatted': '20 Oct 11:30',\n",
       " 'stats': [],\n",
       " 'code': 987675,\n",
       " 'kickoff_time': '2018-10-20T11:30:00Z',\n",
       " 'team_h_score': None,\n",
       " 'team_a_score': None,\n",
       " 'finished': False,\n",
       " 'minutes': 0,\n",
       " 'provisional_start_time': False,\n",
       " 'finished_provisional': False,\n",
       " 'event': 9,\n",
       " 'team_a': 14,\n",
       " 'team_h': 6}"
      ]
     },
     "execution_count": 34,
     "metadata": {},
     "output_type": "execute_result"
    }
   ],
   "source": [
    "bootstrap_static_data['next_event_fixtures'][0]"
   ]
  },
  {
   "cell_type": "markdown",
   "metadata": {
    "ExecuteTime": {
     "end_time": "2018-09-29T13:06:53.654378Z",
     "start_time": "2018-09-29T13:06:53.650158Z"
    },
    "heading_collapsed": true
   },
   "source": [
    "## `element-summary`\n",
    "\n",
    "Player level data, including historical performance data."
   ]
  },
  {
   "cell_type": "code",
   "execution_count": 103,
   "metadata": {
    "ExecuteTime": {
     "end_time": "2018-10-11T15:12:15.445293Z",
     "start_time": "2018-10-11T15:12:15.388891Z"
    },
    "hidden": true
   },
   "outputs": [],
   "source": [
    "element_summary_280_request = requests.get('https://fantasy.premierleague.com/drf/element-summary/280')\n",
    "element_summary_280_data = element_summary_280_request.json()"
   ]
  },
  {
   "cell_type": "code",
   "execution_count": 104,
   "metadata": {
    "ExecuteTime": {
     "end_time": "2018-10-11T15:12:16.396952Z",
     "start_time": "2018-10-11T15:12:16.390201Z"
    },
    "hidden": true
   },
   "outputs": [
    {
     "data": {
      "text/plain": [
       "['history_past',\n",
       " 'fixtures_summary',\n",
       " 'explain',\n",
       " 'history_summary',\n",
       " 'fixtures',\n",
       " 'history']"
      ]
     },
     "execution_count": 104,
     "metadata": {},
     "output_type": "execute_result"
    }
   ],
   "source": [
    "list(element_summary_280_data.keys())"
   ]
  },
  {
   "cell_type": "markdown",
   "metadata": {
    "heading_collapsed": true,
    "hidden": true
   },
   "source": [
    "### `history_past`\n",
    "\n",
    "Player performance from previous seasons."
   ]
  },
  {
   "cell_type": "code",
   "execution_count": 99,
   "metadata": {
    "ExecuteTime": {
     "end_time": "2018-10-11T14:09:43.714104Z",
     "start_time": "2018-10-11T14:09:43.704852Z"
    },
    "hidden": true
   },
   "outputs": [
    {
     "data": {
      "text/plain": [
       "{'id': 8089,\n",
       " 'season_name': '2017/18',\n",
       " 'element_code': 37572,\n",
       " 'start_cost': 115,\n",
       " 'end_cost': 115,\n",
       " 'total_points': 169,\n",
       " 'minutes': 1960,\n",
       " 'goals_scored': 21,\n",
       " 'assists': 6,\n",
       " 'clean_sheets': 13,\n",
       " 'goals_conceded': 12,\n",
       " 'own_goals': 0,\n",
       " 'penalties_saved': 0,\n",
       " 'penalties_missed': 0,\n",
       " 'yellow_cards': 2,\n",
       " 'red_cards': 0,\n",
       " 'saves': 0,\n",
       " 'bonus': 22,\n",
       " 'bps': 740,\n",
       " 'influence': '966.4',\n",
       " 'creativity': '570.8',\n",
       " 'threat': '1484.0',\n",
       " 'ict_index': '302.5',\n",
       " 'ea_index': 0,\n",
       " 'season': 12}"
      ]
     },
     "execution_count": 99,
     "metadata": {},
     "output_type": "execute_result"
    }
   ],
   "source": [
    "element_summary_280_data['history_past'][-1]"
   ]
  },
  {
   "cell_type": "markdown",
   "metadata": {
    "heading_collapsed": true,
    "hidden": true
   },
   "source": [
    "### `history`\n",
    "\n",
    "Player performance for all previous fixtures this season."
   ]
  },
  {
   "cell_type": "code",
   "execution_count": 109,
   "metadata": {
    "ExecuteTime": {
     "end_time": "2018-10-14T16:49:37.403829Z",
     "start_time": "2018-10-14T16:49:37.392836Z"
    },
    "hidden": true
   },
   "outputs": [
    {
     "data": {
      "text/plain": [
       "{'id': 805,\n",
       " 'kickoff_time': '2018-08-19T12:30:00Z',\n",
       " 'kickoff_time_formatted': '19 Aug 13:30',\n",
       " 'team_h_score': 6,\n",
       " 'team_a_score': 1,\n",
       " 'was_home': True,\n",
       " 'round': 2,\n",
       " 'total_points': 20,\n",
       " 'value': 110,\n",
       " 'transfers_balance': 82669,\n",
       " 'selected': 1695641,\n",
       " 'transfers_in': 137757,\n",
       " 'transfers_out': 55088,\n",
       " 'loaned_in': 0,\n",
       " 'loaned_out': 0,\n",
       " 'minutes': 75,\n",
       " 'goals_scored': 3,\n",
       " 'assists': 1,\n",
       " 'clean_sheets': 0,\n",
       " 'goals_conceded': 1,\n",
       " 'own_goals': 0,\n",
       " 'penalties_saved': 0,\n",
       " 'penalties_missed': 0,\n",
       " 'yellow_cards': 0,\n",
       " 'red_cards': 0,\n",
       " 'saves': 0,\n",
       " 'bonus': 3,\n",
       " 'bps': 82,\n",
       " 'influence': '100.8',\n",
       " 'creativity': '14.1',\n",
       " 'threat': '119.0',\n",
       " 'ict_index': '23.4',\n",
       " 'ea_index': 0,\n",
       " 'open_play_crosses': 0,\n",
       " 'big_chances_created': 0,\n",
       " 'clearances_blocks_interceptions': 0,\n",
       " 'recoveries': 1,\n",
       " 'key_passes': 1,\n",
       " 'tackles': 0,\n",
       " 'winning_goals': 0,\n",
       " 'attempted_passes': 22,\n",
       " 'completed_passes': 18,\n",
       " 'penalties_conceded': 0,\n",
       " 'big_chances_missed': 0,\n",
       " 'errors_leading_to_goal': 0,\n",
       " 'errors_leading_to_goal_attempt': 0,\n",
       " 'tackled': 4,\n",
       " 'offside': 1,\n",
       " 'target_missed': 3,\n",
       " 'fouls': 0,\n",
       " 'dribbles': 2,\n",
       " 'element': 280,\n",
       " 'fixture': 18,\n",
       " 'opponent_team': 10}"
      ]
     },
     "execution_count": 109,
     "metadata": {},
     "output_type": "execute_result"
    }
   ],
   "source": [
    "element_summary_280_data['history'][1]"
   ]
  },
  {
   "cell_type": "markdown",
   "metadata": {
    "hidden": true
   },
   "source": [
    "### `history_summary`\n",
    "\n",
    "Player peformance in previous 3 fixtures this season."
   ]
  },
  {
   "cell_type": "code",
   "execution_count": 39,
   "metadata": {
    "ExecuteTime": {
     "end_time": "2018-10-08T05:55:41.362188Z",
     "start_time": "2018-10-08T05:55:41.339545Z"
    },
    "hidden": true
   },
   "outputs": [
    {
     "data": {
      "text/plain": [
       "{'id': 2937,\n",
       " 'kickoff_time': '2018-09-22T14:00:00Z',\n",
       " 'kickoff_time_formatted': '22 Sep 15:00',\n",
       " 'team_h_score': 0,\n",
       " 'team_a_score': 5,\n",
       " 'was_home': False,\n",
       " 'round': 6,\n",
       " 'total_points': 6,\n",
       " 'value': 114,\n",
       " 'transfers_balance': -77024,\n",
       " 'selected': 2867222,\n",
       " 'transfers_in': 100622,\n",
       " 'transfers_out': 177646,\n",
       " 'loaned_in': 0,\n",
       " 'loaned_out': 0,\n",
       " 'minutes': 60,\n",
       " 'goals_scored': 1,\n",
       " 'assists': 0,\n",
       " 'clean_sheets': 1,\n",
       " 'goals_conceded': 0,\n",
       " 'own_goals': 0,\n",
       " 'penalties_saved': 0,\n",
       " 'penalties_missed': 0,\n",
       " 'yellow_cards': 0,\n",
       " 'red_cards': 0,\n",
       " 'saves': 0,\n",
       " 'bonus': 0,\n",
       " 'bps': 36,\n",
       " 'influence': '42.0',\n",
       " 'creativity': '14.8',\n",
       " 'threat': '115.0',\n",
       " 'ict_index': '17.2',\n",
       " 'ea_index': 0,\n",
       " 'open_play_crosses': 0,\n",
       " 'big_chances_created': 0,\n",
       " 'clearances_blocks_interceptions': 1,\n",
       " 'recoveries': 1,\n",
       " 'key_passes': 1,\n",
       " 'tackles': 0,\n",
       " 'winning_goals': 1,\n",
       " 'attempted_passes': 32,\n",
       " 'completed_passes': 28,\n",
       " 'penalties_conceded': 0,\n",
       " 'big_chances_missed': 0,\n",
       " 'errors_leading_to_goal': 0,\n",
       " 'errors_leading_to_goal_attempt': 0,\n",
       " 'tackled': 2,\n",
       " 'offside': 0,\n",
       " 'target_missed': 0,\n",
       " 'fouls': 1,\n",
       " 'dribbles': 1,\n",
       " 'element': 280,\n",
       " 'fixture': 54,\n",
       " 'opponent_team': 5}"
      ]
     },
     "execution_count": 39,
     "metadata": {},
     "output_type": "execute_result"
    }
   ],
   "source": [
    "element_summary_280_data['history_summary'][0]"
   ]
  },
  {
   "cell_type": "markdown",
   "metadata": {
    "hidden": true
   },
   "source": [
    "### `fixtures`\n",
    "\n",
    "Remaining fixtures for the player."
   ]
  },
  {
   "cell_type": "code",
   "execution_count": 40,
   "metadata": {
    "ExecuteTime": {
     "end_time": "2018-10-08T05:55:41.386557Z",
     "start_time": "2018-10-08T05:55:41.364415Z"
    },
    "hidden": true
   },
   "outputs": [
    {
     "data": {
      "text/plain": [
       "{'id': 87,\n",
       " 'kickoff_time_formatted': '20 Oct 15:00',\n",
       " 'event_name': 'Gameweek 9',\n",
       " 'opponent_name': 'Burnley',\n",
       " 'opponent_short_name': 'BUR',\n",
       " 'is_home': True,\n",
       " 'difficulty': 2,\n",
       " 'code': 987678,\n",
       " 'kickoff_time': '2018-10-20T14:00:00Z',\n",
       " 'team_h_score': None,\n",
       " 'team_a_score': None,\n",
       " 'finished': False,\n",
       " 'minutes': 0,\n",
       " 'provisional_start_time': False,\n",
       " 'finished_provisional': False,\n",
       " 'event': 9,\n",
       " 'team_a': 4,\n",
       " 'team_h': 13}"
      ]
     },
     "execution_count": 40,
     "metadata": {},
     "output_type": "execute_result"
    }
   ],
   "source": [
    "element_summary_280_data['fixtures'][0]"
   ]
  },
  {
   "cell_type": "markdown",
   "metadata": {
    "hidden": true
   },
   "source": [
    "### `fixtures_summary`\n",
    "\n",
    "Upcoming 3 fixtures for the player."
   ]
  },
  {
   "cell_type": "code",
   "execution_count": 41,
   "metadata": {
    "ExecuteTime": {
     "end_time": "2018-10-08T05:55:41.411220Z",
     "start_time": "2018-10-08T05:55:41.388665Z"
    },
    "hidden": true
   },
   "outputs": [
    {
     "data": {
      "text/plain": [
       "{'id': 87,\n",
       " 'kickoff_time_formatted': '20 Oct 15:00',\n",
       " 'event_name': 'Gameweek 9',\n",
       " 'opponent_name': 'Burnley',\n",
       " 'opponent_short_name': 'BUR',\n",
       " 'is_home': True,\n",
       " 'difficulty': 2,\n",
       " 'code': 987678,\n",
       " 'kickoff_time': '2018-10-20T14:00:00Z',\n",
       " 'team_h_score': None,\n",
       " 'team_a_score': None,\n",
       " 'finished': False,\n",
       " 'minutes': 0,\n",
       " 'provisional_start_time': False,\n",
       " 'finished_provisional': False,\n",
       " 'event': 9,\n",
       " 'team_a': 4,\n",
       " 'team_h': 13}"
      ]
     },
     "execution_count": 41,
     "metadata": {},
     "output_type": "execute_result"
    }
   ],
   "source": [
    "element_summary_280_data['fixtures_summary'][0]"
   ]
  },
  {
   "cell_type": "markdown",
   "metadata": {
    "heading_collapsed": true
   },
   "source": [
    "## `entry`\n",
    "\n",
    "Each entry corresponds to a fantasy team. We can see information about the team and the leagues they belong to."
   ]
  },
  {
   "cell_type": "code",
   "execution_count": 42,
   "metadata": {
    "ExecuteTime": {
     "end_time": "2018-10-08T05:55:41.501755Z",
     "start_time": "2018-10-08T05:55:41.413401Z"
    },
    "hidden": true
   },
   "outputs": [],
   "source": [
    "entry_1_request = requests.get('https://fantasy.premierleague.com/drf/entry/1')\n",
    "entry_1_data = entry_1_request.json()"
   ]
  },
  {
   "cell_type": "code",
   "execution_count": 43,
   "metadata": {
    "ExecuteTime": {
     "end_time": "2018-10-08T05:55:41.510017Z",
     "start_time": "2018-10-08T05:55:41.504248Z"
    },
    "hidden": true
   },
   "outputs": [
    {
     "data": {
      "text/plain": [
       "['entry', 'leagues']"
      ]
     },
     "execution_count": 43,
     "metadata": {},
     "output_type": "execute_result"
    }
   ],
   "source": [
    "list(entry_1_data.keys())"
   ]
  },
  {
   "cell_type": "markdown",
   "metadata": {
    "hidden": true
   },
   "source": [
    "### `entry`\n",
    "\n",
    "Team information, including team and bank value, geogrpahical information and total number of tranfers."
   ]
  },
  {
   "cell_type": "code",
   "execution_count": 44,
   "metadata": {
    "ExecuteTime": {
     "end_time": "2018-10-08T05:55:41.553496Z",
     "start_time": "2018-10-08T05:55:41.512384Z"
    },
    "hidden": true
   },
   "outputs": [
    {
     "data": {
      "text/plain": [
       "{'id': 1,\n",
       " 'player_first_name': 'Ian',\n",
       " 'player_last_name': 'Dash',\n",
       " 'player_region_id': 244,\n",
       " 'player_region_name': 'Wales',\n",
       " 'player_region_short_iso': 'WA',\n",
       " 'summary_overall_points': 554,\n",
       " 'summary_overall_rank': 10979,\n",
       " 'summary_event_points': 77,\n",
       " 'summary_event_rank': 248083,\n",
       " 'joined_seconds': 55463,\n",
       " 'current_event': 8,\n",
       " 'total_transfers': 7,\n",
       " 'total_loans': 0,\n",
       " 'total_loans_active': 0,\n",
       " 'transfers_or_loans': 'transfers',\n",
       " 'deleted': False,\n",
       " 'email': False,\n",
       " 'joined_time': '2018-07-05T14:31:18Z',\n",
       " 'name': 'JumpersForGoalposts',\n",
       " 'bank': 3,\n",
       " 'value': 1019,\n",
       " 'kit': None,\n",
       " 'event_transfers': 0,\n",
       " 'event_transfers_cost': 0,\n",
       " 'extra_free_transfers': 0,\n",
       " 'strategy': None,\n",
       " 'favourite_team': 5,\n",
       " 'started_event': 1,\n",
       " 'player': 5775684}"
      ]
     },
     "execution_count": 44,
     "metadata": {},
     "output_type": "execute_result"
    }
   ],
   "source": [
    "entry_1_data['entry']"
   ]
  },
  {
   "cell_type": "markdown",
   "metadata": {
    "hidden": true
   },
   "source": [
    "### `leagues`\n",
    "\n",
    "League information, including the team's rank in the league"
   ]
  },
  {
   "cell_type": "code",
   "execution_count": 45,
   "metadata": {
    "ExecuteTime": {
     "end_time": "2018-10-08T05:55:41.577741Z",
     "start_time": "2018-10-08T05:55:41.556021Z"
    },
    "hidden": true
   },
   "outputs": [
    {
     "data": {
      "text/plain": [
       "{'id': 313,\n",
       " 'entry_rank': 10979,\n",
       " 'entry_last_rank': 23491,\n",
       " 'entry_movement': 'up',\n",
       " 'entry_change': 12512,\n",
       " 'entry_can_leave': False,\n",
       " 'entry_can_admin': False,\n",
       " 'entry_can_invite': False,\n",
       " 'entry_can_forum': False,\n",
       " 'entry_code': None,\n",
       " 'name': 'Overall',\n",
       " 'short_name': 'overall',\n",
       " 'created': '2018-07-05T12:12:24Z',\n",
       " 'closed': False,\n",
       " 'forum_disabled': False,\n",
       " 'make_code_public': False,\n",
       " 'rank': None,\n",
       " 'size': None,\n",
       " 'league_type': 's',\n",
       " '_scoring': 'c',\n",
       " 'reprocess_standings': False,\n",
       " 'admin_entry': None,\n",
       " 'start_event': 1}"
      ]
     },
     "execution_count": 45,
     "metadata": {},
     "output_type": "execute_result"
    }
   ],
   "source": [
    "entry_1_data['leagues']['classic'][3]"
   ]
  },
  {
   "cell_type": "markdown",
   "metadata": {
    "heading_collapsed": true
   },
   "source": [
    "## `leagues-classic-standings`\n",
    "\n",
    "League standings. Requires pagination for leagues with more than 50 teams."
   ]
  },
  {
   "cell_type": "code",
   "execution_count": 46,
   "metadata": {
    "ExecuteTime": {
     "end_time": "2018-10-08T05:55:41.686644Z",
     "start_time": "2018-10-08T05:55:41.580141Z"
    },
    "hidden": true
   },
   "outputs": [],
   "source": [
    "league_313_request = requests.get('https://fantasy.premierleague.com/drf/leagues-classic-standings/313')\n",
    "league_313_data = league_313_request.json()"
   ]
  },
  {
   "cell_type": "code",
   "execution_count": 47,
   "metadata": {
    "ExecuteTime": {
     "end_time": "2018-10-08T05:55:41.695871Z",
     "start_time": "2018-10-08T05:55:41.689302Z"
    },
    "hidden": true
   },
   "outputs": [
    {
     "data": {
      "text/plain": [
       "['new_entries', 'league', 'standings', 'update_status']"
      ]
     },
     "execution_count": 47,
     "metadata": {},
     "output_type": "execute_result"
    }
   ],
   "source": [
    "list(league_313_data.keys())"
   ]
  },
  {
   "cell_type": "code",
   "execution_count": 48,
   "metadata": {
    "ExecuteTime": {
     "end_time": "2018-10-08T05:55:41.777697Z",
     "start_time": "2018-10-08T05:55:41.699432Z"
    },
    "hidden": true
   },
   "outputs": [
    {
     "data": {
      "text/plain": [
       "['has_next', 'number', 'results']"
      ]
     },
     "execution_count": 48,
     "metadata": {},
     "output_type": "execute_result"
    }
   ],
   "source": [
    "list(league_313_data['standings'].keys())"
   ]
  },
  {
   "cell_type": "code",
   "execution_count": 49,
   "metadata": {
    "ExecuteTime": {
     "end_time": "2018-10-08T05:55:41.936156Z",
     "start_time": "2018-10-08T05:55:41.780301Z"
    },
    "hidden": true
   },
   "outputs": [
    {
     "data": {
      "text/plain": [
       "{'id': 2856139,\n",
       " 'entry_name': \"FC Teo d'Or\",\n",
       " 'event_total': 95,\n",
       " 'player_name': 'Teodor Steen Luisa',\n",
       " 'movement': 'up',\n",
       " 'own_entry': False,\n",
       " 'rank': 1,\n",
       " 'last_rank': 11,\n",
       " 'rank_sort': 1,\n",
       " 'total': 649,\n",
       " 'entry': 589232,\n",
       " 'league': 313,\n",
       " 'start_event': 1,\n",
       " 'stop_event': 38}"
      ]
     },
     "execution_count": 49,
     "metadata": {},
     "output_type": "execute_result"
    }
   ],
   "source": [
    "league_313_data['standings']['results'][0]"
   ]
  },
  {
   "cell_type": "markdown",
   "metadata": {
    "hidden": true
   },
   "source": [
    "To paginate increment `ls-page` parameter:\n",
    "\n",
    " - https://fantasy.premierleague.com/drf/leagues-classic-standings/313?ls-page=1\n",
    " - https://fantasy.premierleague.com/drf/leagues-classic-standings/313?ls-page=2"
   ]
  },
  {
   "cell_type": "markdown",
   "metadata": {
    "heading_collapsed": true
   },
   "source": [
    "## Gameweek team selections\n",
    "\n",
    "Historic selections, captaincy and wildcards."
   ]
  },
  {
   "cell_type": "code",
   "execution_count": 50,
   "metadata": {
    "ExecuteTime": {
     "end_time": "2018-10-08T05:55:42.065734Z",
     "start_time": "2018-10-08T05:55:41.938511Z"
    },
    "hidden": true
   },
   "outputs": [],
   "source": [
    "selection_request = requests.get('https://fantasy.premierleague.com/drf/entry/4648090/event/6/picks')\n",
    "selection_data = selection_request.json()"
   ]
  },
  {
   "cell_type": "code",
   "execution_count": 51,
   "metadata": {
    "ExecuteTime": {
     "end_time": "2018-10-08T05:55:42.073855Z",
     "start_time": "2018-10-08T05:55:42.068123Z"
    },
    "hidden": true
   },
   "outputs": [
    {
     "data": {
      "text/plain": [
       "['active_chip', 'automatic_subs', 'entry_history', 'event', 'picks']"
      ]
     },
     "execution_count": 51,
     "metadata": {},
     "output_type": "execute_result"
    }
   ],
   "source": [
    "list(selection_data.keys())"
   ]
  },
  {
   "cell_type": "code",
   "execution_count": 52,
   "metadata": {
    "ExecuteTime": {
     "end_time": "2018-10-08T05:55:42.095424Z",
     "start_time": "2018-10-08T05:55:42.077778Z"
    },
    "hidden": true
   },
   "outputs": [
    {
     "data": {
      "text/plain": [
       "'wildcard'"
      ]
     },
     "execution_count": 52,
     "metadata": {},
     "output_type": "execute_result"
    }
   ],
   "source": [
    "selection_data['active_chip']"
   ]
  },
  {
   "cell_type": "code",
   "execution_count": 53,
   "metadata": {
    "ExecuteTime": {
     "end_time": "2018-10-08T05:55:42.120112Z",
     "start_time": "2018-10-08T05:55:42.098779Z"
    },
    "hidden": true
   },
   "outputs": [
    {
     "data": {
      "text/plain": [
       "{'id': 30828422,\n",
       " 'movement': 'new',\n",
       " 'points': 68,\n",
       " 'total_points': 303,\n",
       " 'rank': 304848,\n",
       " 'rank_sort': 329294,\n",
       " 'overall_rank': 2238557,\n",
       " 'targets': None,\n",
       " 'event_transfers': 0,\n",
       " 'event_transfers_cost': 0,\n",
       " 'value': 1019,\n",
       " 'points_on_bench': 2,\n",
       " 'bank': 2,\n",
       " 'entry': 4648090,\n",
       " 'event': 6}"
      ]
     },
     "execution_count": 53,
     "metadata": {},
     "output_type": "execute_result"
    }
   ],
   "source": [
    "selection_data['entry_history']"
   ]
  },
  {
   "cell_type": "code",
   "execution_count": 54,
   "metadata": {
    "ExecuteTime": {
     "end_time": "2018-10-08T05:55:42.162162Z",
     "start_time": "2018-10-08T05:55:42.122879Z"
    },
    "hidden": true
   },
   "outputs": [
    {
     "data": {
      "text/plain": [
       "{'id': 6,\n",
       " 'name': 'Gameweek 6',\n",
       " 'deadline_time': '2018-09-22T10:30:00Z',\n",
       " 'average_entry_score': 52,\n",
       " 'finished': True,\n",
       " 'data_checked': True,\n",
       " 'highest_scoring_entry': 1452573,\n",
       " 'deadline_time_epoch': 1537612200,\n",
       " 'deadline_time_game_offset': 3600,\n",
       " 'deadline_time_formatted': '22 Sep 11:30',\n",
       " 'highest_score': 118,\n",
       " 'is_previous': False,\n",
       " 'is_current': False,\n",
       " 'is_next': False}"
      ]
     },
     "execution_count": 54,
     "metadata": {},
     "output_type": "execute_result"
    }
   ],
   "source": [
    "selection_data['event']"
   ]
  },
  {
   "cell_type": "code",
   "execution_count": 55,
   "metadata": {
    "ExecuteTime": {
     "end_time": "2018-10-08T05:55:42.185499Z",
     "start_time": "2018-10-08T05:55:42.165501Z"
    },
    "hidden": true
   },
   "outputs": [
    {
     "data": {
      "text/plain": [
       "{'element': 280,\n",
       " 'position': 11,\n",
       " 'is_captain': True,\n",
       " 'is_vice_captain': False,\n",
       " 'multiplier': 2}"
      ]
     },
     "execution_count": 55,
     "metadata": {},
     "output_type": "execute_result"
    }
   ],
   "source": [
    "selection_data['picks'][10]"
   ]
  },
  {
   "cell_type": "code",
   "execution_count": null,
   "metadata": {
    "hidden": true
   },
   "outputs": [],
   "source": []
  }
 ],
 "metadata": {
  "kernelspec": {
   "display_name": "Python 3",
   "language": "python",
   "name": "python3"
  },
  "language_info": {
   "codemirror_mode": {
    "name": "ipython",
    "version": 3
   },
   "file_extension": ".py",
   "mimetype": "text/x-python",
   "name": "python",
   "nbconvert_exporter": "python",
   "pygments_lexer": "ipython3",
   "version": "3.6.7"
  },
  "toc": {
   "nav_menu": {},
   "number_sections": true,
   "sideBar": true,
   "skip_h1_title": false,
   "title_cell": "Table of Contents",
   "title_sidebar": "Contents",
   "toc_cell": false,
   "toc_position": {},
   "toc_section_display": true,
   "toc_window_display": false
  }
 },
 "nbformat": 4,
 "nbformat_minor": 2
}
