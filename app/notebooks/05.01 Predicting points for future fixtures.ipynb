{
 "cells": [
  {
   "cell_type": "markdown",
   "metadata": {},
   "source": [
    "# Set up"
   ]
  },
  {
   "cell_type": "code",
   "execution_count": 33,
   "metadata": {
    "ExecuteTime": {
     "end_time": "2019-04-13T17:27:45.520035Z",
     "start_time": "2019-04-13T17:27:45.513517Z"
    }
   },
   "outputs": [],
   "source": [
    "# update path with data dir\n",
    "import sys\n",
    "sys.path.append('../data/')"
   ]
  },
  {
   "cell_type": "code",
   "execution_count": 34,
   "metadata": {
    "ExecuteTime": {
     "end_time": "2019-04-13T17:27:46.016752Z",
     "start_time": "2019-04-13T17:27:46.011419Z"
    }
   },
   "outputs": [],
   "source": [
    "import player_data as player\n",
    "import pandas as pd\n",
    "from datetime import datetime\n",
    "import patsy"
   ]
  },
  {
   "cell_type": "markdown",
   "metadata": {},
   "source": [
    "# Get data"
   ]
  },
  {
   "cell_type": "code",
   "execution_count": 68,
   "metadata": {
    "ExecuteTime": {
     "end_time": "2019-04-14T08:40:40.915149Z",
     "start_time": "2019-04-14T08:40:40.908577Z"
    }
   },
   "outputs": [],
   "source": [
    "file_name = 'csvs/element_gameweek_' + datetime.today().strftime('%Y-%m-%d') + '.csv'"
   ]
  },
  {
   "cell_type": "code",
   "execution_count": 69,
   "metadata": {
    "ExecuteTime": {
     "end_time": "2019-04-14T08:40:41.431382Z",
     "start_time": "2019-04-14T08:40:41.246069Z"
    }
   },
   "outputs": [],
   "source": [
    "try:\n",
    "    element_gameweek_df = pd.read_csv(file_name)\n",
    "except:\n",
    "    element_gameweek_df = player.get_element_gameweek_df()\n",
    "    element_gameweek_df.to_csv(file_name)"
   ]
  },
  {
   "cell_type": "code",
   "execution_count": 70,
   "metadata": {
    "ExecuteTime": {
     "end_time": "2019-04-14T08:40:41.952368Z",
     "start_time": "2019-04-14T08:40:41.946551Z"
    }
   },
   "outputs": [],
   "source": [
    "current_event = 30\n",
    "element_types = [1, 2, 3, 4]\n",
    "threshold_minutes = 1"
   ]
  },
  {
   "cell_type": "code",
   "execution_count": 72,
   "metadata": {
    "ExecuteTime": {
     "end_time": "2019-04-14T08:42:52.730644Z",
     "start_time": "2019-04-14T08:42:52.110392Z"
    }
   },
   "outputs": [],
   "source": [
    "element_minute_df = element_gameweek_df.groupby('element', as_index=False)['minutes'].sum()\n",
    "elements = element_minute_df[element_minute_df['minutes'] >= threshold_minutes]['element'].values\n",
    "\n",
    "fixtures_df = player.get_fixtures_df()\n",
    "element_df = player.get_element_df(['id', 'element_type', 'team', 'web_name'])\n",
    "element_df = element_df[element_df['id'].isin(elements)]\n",
    "\n",
    "element_df['element'] = element_df['id']\n",
    "\n",
    "element_df = element_df[['element_type', 'element', 'team']]\n",
    "\n",
    "gameweek_fixtures_df = fixtures_df[\n",
    "    fixtures_df['event'] == 34\n",
    "]\n",
    "\n",
    "home_gameweek_fixtures_df = gameweek_fixtures_df.copy()\n",
    "home_gameweek_fixtures_df['team'] = home_gameweek_fixtures_df['team_h']\n",
    "home_gameweek_fixtures_df['was_home'] = 1\n",
    "\n",
    "\n",
    "away_gameweek_fixtures_df = gameweek_fixtures_df.copy()\n",
    "away_gameweek_fixtures_df['team'] = home_gameweek_fixtures_df['team_a']\n",
    "away_gameweek_fixtures_df['was_home'] = 0\n",
    "\n",
    "gameweek_fixtures_df = pd.concat([home_gameweek_fixtures_df, away_gameweek_fixtures_df])\n",
    "\n",
    "gameweek_fixtures_df['opposition_team'] = \\\n",
    "gameweek_fixtures_df.apply(player.calculate_opposition_team, axis=1)\n",
    "\n",
    "gameweek_fixtures_df['own_team'] = \\\n",
    "gameweek_fixtures_df.apply(player.calculate_own_team, axis=1)\n",
    "\n",
    "gameweek_fixtures_df = gameweek_fixtures_df.join(\n",
    "    element_df.set_index('team'), on='team')[[\n",
    "    'own_team', 'opposition_team', 'element', 'was_home', 'element_type']]"
   ]
  },
  {
   "cell_type": "code",
   "execution_count": 63,
   "metadata": {
    "ExecuteTime": {
     "end_time": "2019-04-13T17:41:54.339449Z",
     "start_time": "2019-04-13T17:41:54.334493Z"
    }
   },
   "outputs": [],
   "source": [
    "f = 'was_home ~ was_home + C(element) + C(opposition_team)'"
   ]
  },
  {
   "cell_type": "code",
   "execution_count": 66,
   "metadata": {
    "ExecuteTime": {
     "end_time": "2019-04-13T17:42:35.438585Z",
     "start_time": "2019-04-13T17:42:35.355761Z"
    }
   },
   "outputs": [],
   "source": [
    "_, gameweek_fixtures_explanatory_df = \\\n",
    "patsy.dmatrices(f, gameweek_fixtures_df, return_type='dataframe')"
   ]
  },
  {
   "cell_type": "code",
   "execution_count": 67,
   "metadata": {
    "ExecuteTime": {
     "end_time": "2019-04-13T17:42:42.540423Z",
     "start_time": "2019-04-13T17:42:42.485993Z"
    }
   },
   "outputs": [
    {
     "data": {
      "text/html": [
       "<div>\n",
       "<style scoped>\n",
       "    .dataframe tbody tr th:only-of-type {\n",
       "        vertical-align: middle;\n",
       "    }\n",
       "\n",
       "    .dataframe tbody tr th {\n",
       "        vertical-align: top;\n",
       "    }\n",
       "\n",
       "    .dataframe thead th {\n",
       "        text-align: right;\n",
       "    }\n",
       "</style>\n",
       "<table border=\"1\" class=\"dataframe\">\n",
       "  <thead>\n",
       "    <tr style=\"text-align: right;\">\n",
       "      <th></th>\n",
       "      <th>Intercept</th>\n",
       "      <th>C(element)[T.2]</th>\n",
       "      <th>C(element)[T.3]</th>\n",
       "      <th>C(element)[T.4]</th>\n",
       "      <th>C(element)[T.5]</th>\n",
       "      <th>C(element)[T.6]</th>\n",
       "      <th>C(element)[T.7]</th>\n",
       "      <th>C(element)[T.8]</th>\n",
       "      <th>C(element)[T.9]</th>\n",
       "      <th>C(element)[T.10]</th>\n",
       "      <th>...</th>\n",
       "      <th>C(opposition_team)[T.12]</th>\n",
       "      <th>C(opposition_team)[T.13]</th>\n",
       "      <th>C(opposition_team)[T.14]</th>\n",
       "      <th>C(opposition_team)[T.15]</th>\n",
       "      <th>C(opposition_team)[T.16]</th>\n",
       "      <th>C(opposition_team)[T.17]</th>\n",
       "      <th>C(opposition_team)[T.18]</th>\n",
       "      <th>C(opposition_team)[T.19]</th>\n",
       "      <th>C(opposition_team)[T.20]</th>\n",
       "      <th>was_home</th>\n",
       "    </tr>\n",
       "  </thead>\n",
       "  <tbody>\n",
       "    <tr>\n",
       "      <th>325</th>\n",
       "      <td>1.0</td>\n",
       "      <td>0.0</td>\n",
       "      <td>0.0</td>\n",
       "      <td>0.0</td>\n",
       "      <td>0.0</td>\n",
       "      <td>0.0</td>\n",
       "      <td>0.0</td>\n",
       "      <td>0.0</td>\n",
       "      <td>0.0</td>\n",
       "      <td>0.0</td>\n",
       "      <td>...</td>\n",
       "      <td>0.0</td>\n",
       "      <td>0.0</td>\n",
       "      <td>0.0</td>\n",
       "      <td>1.0</td>\n",
       "      <td>0.0</td>\n",
       "      <td>0.0</td>\n",
       "      <td>0.0</td>\n",
       "      <td>0.0</td>\n",
       "      <td>0.0</td>\n",
       "      <td>1.0</td>\n",
       "    </tr>\n",
       "    <tr>\n",
       "      <th>325</th>\n",
       "      <td>1.0</td>\n",
       "      <td>0.0</td>\n",
       "      <td>0.0</td>\n",
       "      <td>0.0</td>\n",
       "      <td>0.0</td>\n",
       "      <td>0.0</td>\n",
       "      <td>0.0</td>\n",
       "      <td>0.0</td>\n",
       "      <td>0.0</td>\n",
       "      <td>0.0</td>\n",
       "      <td>...</td>\n",
       "      <td>0.0</td>\n",
       "      <td>0.0</td>\n",
       "      <td>0.0</td>\n",
       "      <td>1.0</td>\n",
       "      <td>0.0</td>\n",
       "      <td>0.0</td>\n",
       "      <td>0.0</td>\n",
       "      <td>0.0</td>\n",
       "      <td>0.0</td>\n",
       "      <td>1.0</td>\n",
       "    </tr>\n",
       "    <tr>\n",
       "      <th>325</th>\n",
       "      <td>1.0</td>\n",
       "      <td>0.0</td>\n",
       "      <td>0.0</td>\n",
       "      <td>0.0</td>\n",
       "      <td>0.0</td>\n",
       "      <td>0.0</td>\n",
       "      <td>0.0</td>\n",
       "      <td>0.0</td>\n",
       "      <td>0.0</td>\n",
       "      <td>0.0</td>\n",
       "      <td>...</td>\n",
       "      <td>0.0</td>\n",
       "      <td>0.0</td>\n",
       "      <td>0.0</td>\n",
       "      <td>1.0</td>\n",
       "      <td>0.0</td>\n",
       "      <td>0.0</td>\n",
       "      <td>0.0</td>\n",
       "      <td>0.0</td>\n",
       "      <td>0.0</td>\n",
       "      <td>1.0</td>\n",
       "    </tr>\n",
       "    <tr>\n",
       "      <th>325</th>\n",
       "      <td>1.0</td>\n",
       "      <td>0.0</td>\n",
       "      <td>0.0</td>\n",
       "      <td>0.0</td>\n",
       "      <td>0.0</td>\n",
       "      <td>0.0</td>\n",
       "      <td>0.0</td>\n",
       "      <td>0.0</td>\n",
       "      <td>0.0</td>\n",
       "      <td>0.0</td>\n",
       "      <td>...</td>\n",
       "      <td>0.0</td>\n",
       "      <td>0.0</td>\n",
       "      <td>0.0</td>\n",
       "      <td>1.0</td>\n",
       "      <td>0.0</td>\n",
       "      <td>0.0</td>\n",
       "      <td>0.0</td>\n",
       "      <td>0.0</td>\n",
       "      <td>0.0</td>\n",
       "      <td>1.0</td>\n",
       "    </tr>\n",
       "    <tr>\n",
       "      <th>325</th>\n",
       "      <td>1.0</td>\n",
       "      <td>0.0</td>\n",
       "      <td>0.0</td>\n",
       "      <td>0.0</td>\n",
       "      <td>0.0</td>\n",
       "      <td>0.0</td>\n",
       "      <td>0.0</td>\n",
       "      <td>0.0</td>\n",
       "      <td>0.0</td>\n",
       "      <td>0.0</td>\n",
       "      <td>...</td>\n",
       "      <td>0.0</td>\n",
       "      <td>0.0</td>\n",
       "      <td>0.0</td>\n",
       "      <td>1.0</td>\n",
       "      <td>0.0</td>\n",
       "      <td>0.0</td>\n",
       "      <td>0.0</td>\n",
       "      <td>0.0</td>\n",
       "      <td>0.0</td>\n",
       "      <td>1.0</td>\n",
       "    </tr>\n",
       "  </tbody>\n",
       "</table>\n",
       "<p>5 rows × 513 columns</p>\n",
       "</div>"
      ],
      "text/plain": [
       "     Intercept  C(element)[T.2]  C(element)[T.3]  C(element)[T.4]  \\\n",
       "325        1.0              0.0              0.0              0.0   \n",
       "325        1.0              0.0              0.0              0.0   \n",
       "325        1.0              0.0              0.0              0.0   \n",
       "325        1.0              0.0              0.0              0.0   \n",
       "325        1.0              0.0              0.0              0.0   \n",
       "\n",
       "     C(element)[T.5]  C(element)[T.6]  C(element)[T.7]  C(element)[T.8]  \\\n",
       "325              0.0              0.0              0.0              0.0   \n",
       "325              0.0              0.0              0.0              0.0   \n",
       "325              0.0              0.0              0.0              0.0   \n",
       "325              0.0              0.0              0.0              0.0   \n",
       "325              0.0              0.0              0.0              0.0   \n",
       "\n",
       "     C(element)[T.9]  C(element)[T.10]    ...     C(opposition_team)[T.12]  \\\n",
       "325              0.0               0.0    ...                          0.0   \n",
       "325              0.0               0.0    ...                          0.0   \n",
       "325              0.0               0.0    ...                          0.0   \n",
       "325              0.0               0.0    ...                          0.0   \n",
       "325              0.0               0.0    ...                          0.0   \n",
       "\n",
       "     C(opposition_team)[T.13]  C(opposition_team)[T.14]  \\\n",
       "325                       0.0                       0.0   \n",
       "325                       0.0                       0.0   \n",
       "325                       0.0                       0.0   \n",
       "325                       0.0                       0.0   \n",
       "325                       0.0                       0.0   \n",
       "\n",
       "     C(opposition_team)[T.15]  C(opposition_team)[T.16]  \\\n",
       "325                       1.0                       0.0   \n",
       "325                       1.0                       0.0   \n",
       "325                       1.0                       0.0   \n",
       "325                       1.0                       0.0   \n",
       "325                       1.0                       0.0   \n",
       "\n",
       "     C(opposition_team)[T.17]  C(opposition_team)[T.18]  \\\n",
       "325                       0.0                       0.0   \n",
       "325                       0.0                       0.0   \n",
       "325                       0.0                       0.0   \n",
       "325                       0.0                       0.0   \n",
       "325                       0.0                       0.0   \n",
       "\n",
       "     C(opposition_team)[T.19]  C(opposition_team)[T.20]  was_home  \n",
       "325                       0.0                       0.0       1.0  \n",
       "325                       0.0                       0.0       1.0  \n",
       "325                       0.0                       0.0       1.0  \n",
       "325                       0.0                       0.0       1.0  \n",
       "325                       0.0                       0.0       1.0  \n",
       "\n",
       "[5 rows x 513 columns]"
      ]
     },
     "execution_count": 67,
     "metadata": {},
     "output_type": "execute_result"
    }
   ],
   "source": [
    "gameweek_fixtures_explanatory_df.head()"
   ]
  },
  {
   "cell_type": "code",
   "execution_count": null,
   "metadata": {},
   "outputs": [],
   "source": []
  }
 ],
 "metadata": {
  "kernelspec": {
   "display_name": "Python 3",
   "language": "python",
   "name": "python3"
  },
  "language_info": {
   "codemirror_mode": {
    "name": "ipython",
    "version": 3
   },
   "file_extension": ".py",
   "mimetype": "text/x-python",
   "name": "python",
   "nbconvert_exporter": "python",
   "pygments_lexer": "ipython3",
   "version": "3.6.7"
  },
  "toc": {
   "nav_menu": {},
   "number_sections": true,
   "sideBar": true,
   "skip_h1_title": false,
   "title_cell": "Table of Contents",
   "title_sidebar": "Contents",
   "toc_cell": false,
   "toc_position": {},
   "toc_section_display": true,
   "toc_window_display": false
  }
 },
 "nbformat": 4,
 "nbformat_minor": 2
}
