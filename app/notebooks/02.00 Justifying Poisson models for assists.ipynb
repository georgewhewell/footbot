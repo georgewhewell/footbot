{
 "cells": [
  {
   "cell_type": "markdown",
   "metadata": {},
   "source": [
    "# Set up"
   ]
  },
  {
   "cell_type": "code",
   "execution_count": 1,
   "metadata": {
    "ExecuteTime": {
     "end_time": "2019-04-04T17:45:09.842255Z",
     "start_time": "2019-04-04T17:45:09.839040Z"
    }
   },
   "outputs": [],
   "source": [
    "# update path with data dir\n",
    "import sys\n",
    "sys.path.append('../data/')"
   ]
  },
  {
   "cell_type": "code",
   "execution_count": 2,
   "metadata": {
    "ExecuteTime": {
     "end_time": "2019-04-04T17:45:11.169504Z",
     "start_time": "2019-04-04T17:45:09.844511Z"
    }
   },
   "outputs": [
    {
     "name": "stderr",
     "output_type": "stream",
     "text": [
      "/home/tom/footbot/venv/lib/python3.6/site-packages/statsmodels/compat/pandas.py:56: FutureWarning: The pandas.core.datetools module is deprecated and will be removed in a future version. Please use the pandas.tseries module instead.\n",
      "  from pandas.core import datetools\n"
     ]
    }
   ],
   "source": [
    "import player_data as player\n",
    "import pandas as pd\n",
    "from datetime import datetime\n",
    "import matplotlib.pyplot as plt\n",
    "from scipy.stats import norm, poisson\n",
    "from numpy import linspace"
   ]
  },
  {
   "cell_type": "markdown",
   "metadata": {},
   "source": [
    "# Get data"
   ]
  },
  {
   "cell_type": "code",
   "execution_count": 3,
   "metadata": {
    "ExecuteTime": {
     "end_time": "2019-04-04T17:45:11.175639Z",
     "start_time": "2019-04-04T17:45:11.172551Z"
    }
   },
   "outputs": [],
   "source": [
    "file_name = 'csvs/element_gameweek_' + datetime.today().strftime('%Y-%m-%d') + '.csv'"
   ]
  },
  {
   "cell_type": "code",
   "execution_count": 4,
   "metadata": {
    "ExecuteTime": {
     "end_time": "2019-04-04T17:45:11.402899Z",
     "start_time": "2019-04-04T17:45:11.178689Z"
    }
   },
   "outputs": [],
   "source": [
    "try:\n",
    "    element_gameweek_df = pd.read_csv(file_name)\n",
    "except:\n",
    "    element_gameweek_df = player.get_element_gameweek_df()\n",
    "    element_gameweek_df.to_csv(file_name)"
   ]
  },
  {
   "cell_type": "code",
   "execution_count": 5,
   "metadata": {
    "ExecuteTime": {
     "end_time": "2019-04-04T17:45:11.412021Z",
     "start_time": "2019-04-04T17:45:11.406911Z"
    }
   },
   "outputs": [],
   "source": [
    "current_event = 32\n",
    "element_types = [2, 3, 4]\n",
    "threshold_minutes = 1"
   ]
  },
  {
   "cell_type": "code",
   "execution_count": 6,
   "metadata": {
    "ExecuteTime": {
     "end_time": "2019-04-04T17:45:11.452585Z",
     "start_time": "2019-04-04T17:45:11.415784Z"
    }
   },
   "outputs": [],
   "source": [
    "element_gameweek_df =\\\n",
    "element_gameweek_df[\n",
    "    (element_gameweek_df['event'] <= current_event)\n",
    "    & (element_gameweek_df['element_type'].isin(element_types))\n",
    "    & (element_gameweek_df['minutes'] >= threshold_minutes)\n",
    "]"
   ]
  },
  {
   "cell_type": "markdown",
   "metadata": {},
   "source": [
    "# Distribution of assists for full matches"
   ]
  },
  {
   "cell_type": "markdown",
   "metadata": {},
   "source": [
    "## Overall"
   ]
  },
  {
   "cell_type": "code",
   "execution_count": 7,
   "metadata": {
    "ExecuteTime": {
     "end_time": "2019-04-04T17:45:11.490673Z",
     "start_time": "2019-04-04T17:45:11.455228Z"
    }
   },
   "outputs": [],
   "source": [
    "full_matches_df = element_gameweek_df.copy()\n",
    "full_matches_df=\\\n",
    "full_matches_df.copy()[\n",
    "    (full_matches_df['minutes'] >= 85)\n",
    "]"
   ]
  },
  {
   "cell_type": "code",
   "execution_count": 8,
   "metadata": {
    "ExecuteTime": {
     "end_time": "2019-04-04T17:45:11.562955Z",
     "start_time": "2019-04-04T17:45:11.493099Z"
    }
   },
   "outputs": [
    {
     "data": {
      "text/plain": [
       "count    4825.000000\n",
       "mean        0.109845\n",
       "std         0.342469\n",
       "min         0.000000\n",
       "25%         0.000000\n",
       "50%         0.000000\n",
       "75%         0.000000\n",
       "max         3.000000\n",
       "Name: assists, dtype: float64"
      ]
     },
     "execution_count": 8,
     "metadata": {},
     "output_type": "execute_result"
    }
   ],
   "source": [
    "full_matches_df['assists'].describe()"
   ]
  },
  {
   "cell_type": "code",
   "execution_count": 9,
   "metadata": {
    "ExecuteTime": {
     "end_time": "2019-04-04T17:45:11.604394Z",
     "start_time": "2019-04-04T17:45:11.565106Z"
    }
   },
   "outputs": [
    {
     "data": {
      "text/plain": [
       "(0.10984455958549223, 0.34246883851284954, 0, 3)"
      ]
     },
     "execution_count": 9,
     "metadata": {},
     "output_type": "execute_result"
    }
   ],
   "source": [
    "full_matches_mean = full_matches_df['assists'].mean()\n",
    "full_matches_std = full_matches_df['assists'].std()\n",
    "full_matches_min = full_matches_df['assists'].min()\n",
    "full_matches_max = full_matches_df['assists'].max()\n",
    "full_matches_mean, full_matches_std, full_matches_min, full_matches_max"
   ]
  },
  {
   "cell_type": "code",
   "execution_count": 24,
   "metadata": {
    "ExecuteTime": {
     "end_time": "2019-04-04T17:46:53.112831Z",
     "start_time": "2019-04-04T17:46:52.737001Z"
    }
   },
   "outputs": [
    {
     "data": {
      "image/png": "[encoded data removed]",
      "text/plain": [
       "<Figure size 432x288 with 1 Axes>"
      ]
     },
     "metadata": {
      "needs_background": "light"
     },
     "output_type": "display_data"
    }
   ],
   "source": [
    "plt.figure()\n",
    "plt.hist(full_matches_df['assists'], bins=range(full_matches_min, full_matches_max+2), density=True)\n",
    "plt.plot(range(full_matches_min, full_matches_max+1),\n",
    "         poisson.pmf(range(full_matches_min, full_matches_max+1), full_matches_mean))\n",
    "# plt.plot(linspace(full_matches_min, full_matches_max+1),\n",
    "#          norm.pdf(linspace(full_matches_min, full_matches_max+1), full_matches_mean, full_matches_std))\n",
    "plt.title('Histogram of assists across all outfield positions')\n",
    "plt.xlabel('Number of assists')\n",
    "plt.ylabel('Proportion of player-fixtures')\n",
    "plt.show()"
   ]
  },
  {
   "cell_type": "markdown",
   "metadata": {},
   "source": [
    "## By element type"
   ]
  },
  {
   "cell_type": "markdown",
   "metadata": {},
   "source": [
    "### Defender"
   ]
  },
  {
   "cell_type": "code",
   "execution_count": 11,
   "metadata": {
    "ExecuteTime": {
     "end_time": "2019-04-04T17:45:12.081848Z",
     "start_time": "2019-04-04T17:45:12.069802Z"
    }
   },
   "outputs": [],
   "source": [
    "full_matches_def_df = element_gameweek_df.copy()\n",
    "full_matches_def_df=\\\n",
    "full_matches_def_df.copy()[\n",
    "    (full_matches_def_df['minutes'] >= 85)\n",
    "    & (full_matches_def_df['element_type'] == 2)\n",
    "]"
   ]
  },
  {
   "cell_type": "code",
   "execution_count": 12,
   "metadata": {
    "ExecuteTime": {
     "end_time": "2019-04-04T17:45:12.108368Z",
     "start_time": "2019-04-04T17:45:12.084332Z"
    }
   },
   "outputs": [
    {
     "data": {
      "text/plain": [
       "count    2463.000000\n",
       "mean        0.072270\n",
       "std         0.280084\n",
       "min         0.000000\n",
       "25%         0.000000\n",
       "50%         0.000000\n",
       "75%         0.000000\n",
       "max         3.000000\n",
       "Name: assists, dtype: float64"
      ]
     },
     "execution_count": 12,
     "metadata": {},
     "output_type": "execute_result"
    }
   ],
   "source": [
    "full_matches_def_df['assists'].describe()"
   ]
  },
  {
   "cell_type": "code",
   "execution_count": 13,
   "metadata": {
    "ExecuteTime": {
     "end_time": "2019-04-04T17:45:12.135633Z",
     "start_time": "2019-04-04T17:45:12.113317Z"
    }
   },
   "outputs": [
    {
     "data": {
      "text/plain": [
       "(0.07226958993097848, 0, 3)"
      ]
     },
     "execution_count": 13,
     "metadata": {},
     "output_type": "execute_result"
    }
   ],
   "source": [
    "full_matches_def_mean = full_matches_def_df['assists'].mean()\n",
    "full_matches_def_min = full_matches_def_df['assists'].min()\n",
    "full_matches_def_max = full_matches_def_df['assists'].max()\n",
    "full_matches_def_mean, full_matches_def_min, full_matches_def_max"
   ]
  },
  {
   "cell_type": "code",
   "execution_count": 14,
   "metadata": {
    "ExecuteTime": {
     "end_time": "2019-04-04T17:45:12.424241Z",
     "start_time": "2019-04-04T17:45:12.138175Z"
    }
   },
   "outputs": [
    {
     "data": {
      "image/png": "[encoded data removed]",
      "text/plain": [
       "<Figure size 432x288 with 1 Axes>"
      ]
     },
     "metadata": {
      "needs_background": "light"
     },
     "output_type": "display_data"
    }
   ],
   "source": [
    "plt.figure()\n",
    "plt.hist(full_matches_def_df['assists'], bins=range(full_matches_def_min, full_matches_def_max+2), density=True)\n",
    "plt.plot(range(full_matches_def_min, full_matches_def_max+1),\n",
    "         poisson.pmf(range(full_matches_def_min, full_matches_def_max+1), full_matches_def_mean))\n",
    "plt.show()"
   ]
  },
  {
   "cell_type": "markdown",
   "metadata": {},
   "source": [
    "### Midfielder"
   ]
  },
  {
   "cell_type": "code",
   "execution_count": 15,
   "metadata": {
    "ExecuteTime": {
     "end_time": "2019-04-04T17:45:12.437977Z",
     "start_time": "2019-04-04T17:45:12.426558Z"
    }
   },
   "outputs": [],
   "source": [
    "full_matches_mid_df = element_gameweek_df.copy()\n",
    "full_matches_mid_df=\\\n",
    "full_matches_mid_df.copy()[\n",
    "    (full_matches_mid_df['minutes'] >= 85)\n",
    "    & (full_matches_mid_df['element_type'] == 3)\n",
    "]"
   ]
  },
  {
   "cell_type": "code",
   "execution_count": 16,
   "metadata": {
    "ExecuteTime": {
     "end_time": "2019-04-04T17:45:12.465392Z",
     "start_time": "2019-04-04T17:45:12.440659Z"
    }
   },
   "outputs": [
    {
     "data": {
      "text/plain": [
       "count    1895.000000\n",
       "mean        0.139842\n",
       "std         0.383078\n",
       "min         0.000000\n",
       "25%         0.000000\n",
       "50%         0.000000\n",
       "75%         0.000000\n",
       "max         3.000000\n",
       "Name: assists, dtype: float64"
      ]
     },
     "execution_count": 16,
     "metadata": {},
     "output_type": "execute_result"
    }
   ],
   "source": [
    "full_matches_mid_df['assists'].describe()"
   ]
  },
  {
   "cell_type": "code",
   "execution_count": 17,
   "metadata": {
    "ExecuteTime": {
     "end_time": "2019-04-04T17:45:12.487349Z",
     "start_time": "2019-04-04T17:45:12.467832Z"
    }
   },
   "outputs": [
    {
     "data": {
      "text/plain": [
       "(0.13984168865435356, 0, 3)"
      ]
     },
     "execution_count": 17,
     "metadata": {},
     "output_type": "execute_result"
    }
   ],
   "source": [
    "full_matches_mid_mean = full_matches_mid_df['assists'].mean()\n",
    "full_matches_mid_min = full_matches_mid_df['assists'].min()\n",
    "full_matches_mid_max = full_matches_mid_df['assists'].max()\n",
    "full_matches_mid_mean, full_matches_mid_min, full_matches_mid_max"
   ]
  },
  {
   "cell_type": "code",
   "execution_count": 25,
   "metadata": {
    "ExecuteTime": {
     "end_time": "2019-04-04T17:47:52.735733Z",
     "start_time": "2019-04-04T17:47:52.371363Z"
    }
   },
   "outputs": [
    {
     "data": {
      "image/png": "[encoded data removed]",
      "text/plain": [
       "<Figure size 432x288 with 1 Axes>"
      ]
     },
     "metadata": {
      "needs_background": "light"
     },
     "output_type": "display_data"
    }
   ],
   "source": [
    "plt.figure()\n",
    "plt.hist(full_matches_mid_df['assists'], bins=range(full_matches_mid_min, full_matches_mid_max+2), density=True)\n",
    "plt.plot(range(full_matches_mid_min, full_matches_mid_max+1),\n",
    "         poisson.pmf(range(full_matches_mid_min, full_matches_mid_max+1), full_matches_mid_mean))\n",
    "plt.title('Histogram of assists for midfielders')\n",
    "plt.xlabel('Number of assists')\n",
    "plt.ylabel('Proportion of player-fixtures')\n",
    "plt.show()"
   ]
  },
  {
   "cell_type": "markdown",
   "metadata": {},
   "source": [
    "### Striker"
   ]
  },
  {
   "cell_type": "code",
   "execution_count": 19,
   "metadata": {
    "ExecuteTime": {
     "end_time": "2019-04-04T17:45:12.795258Z",
     "start_time": "2019-04-04T17:45:12.783608Z"
    }
   },
   "outputs": [],
   "source": [
    "full_matches_str_df = element_gameweek_df.copy()\n",
    "full_matches_str_df=\\\n",
    "full_matches_str_df.copy()[\n",
    "    (full_matches_str_df['minutes'] >= 85)\n",
    "    & (full_matches_str_df['element_type'] == 4)\n",
    "]"
   ]
  },
  {
   "cell_type": "code",
   "execution_count": 20,
   "metadata": {
    "ExecuteTime": {
     "end_time": "2019-04-04T17:45:12.824070Z",
     "start_time": "2019-04-04T17:45:12.797878Z"
    }
   },
   "outputs": [
    {
     "data": {
      "text/plain": [
       "count    467.000000\n",
       "mean       0.186296\n",
       "std        0.431566\n",
       "min        0.000000\n",
       "25%        0.000000\n",
       "50%        0.000000\n",
       "75%        0.000000\n",
       "max        2.000000\n",
       "Name: assists, dtype: float64"
      ]
     },
     "execution_count": 20,
     "metadata": {},
     "output_type": "execute_result"
    }
   ],
   "source": [
    "full_matches_str_df['assists'].describe()"
   ]
  },
  {
   "cell_type": "code",
   "execution_count": 21,
   "metadata": {
    "ExecuteTime": {
     "end_time": "2019-04-04T17:45:12.853525Z",
     "start_time": "2019-04-04T17:45:12.826509Z"
    }
   },
   "outputs": [
    {
     "data": {
      "text/plain": [
       "(0.18629550321199143, 0, 2)"
      ]
     },
     "execution_count": 21,
     "metadata": {},
     "output_type": "execute_result"
    }
   ],
   "source": [
    "full_matches_str_mean = full_matches_str_df['assists'].mean()\n",
    "full_matches_str_min = full_matches_str_df['assists'].min()\n",
    "full_matches_str_max = full_matches_str_df['assists'].max()\n",
    "full_matches_str_mean, full_matches_str_min, full_matches_str_max"
   ]
  },
  {
   "cell_type": "code",
   "execution_count": 22,
   "metadata": {
    "ExecuteTime": {
     "end_time": "2019-04-04T17:45:13.161141Z",
     "start_time": "2019-04-04T17:45:12.856853Z"
    }
   },
   "outputs": [
    {
     "data": {
      "image/png": "[encoded data removed]",
      "text/plain": [
       "<Figure size 432x288 with 1 Axes>"
      ]
     },
     "metadata": {
      "needs_background": "light"
     },
     "output_type": "display_data"
    }
   ],
   "source": [
    "plt.figure()\n",
    "plt.hist(full_matches_str_df['assists'], bins=range(full_matches_str_min, full_matches_str_max+2), density=True)\n",
    "plt.plot(range(full_matches_str_min, full_matches_str_max+1),\n",
    "         poisson.pmf(range(full_matches_str_min, full_matches_str_max+1), full_matches_str_mean))\n",
    "plt.show()"
   ]
  }
 ],
 "metadata": {
  "kernelspec": {
   "display_name": "Python 3",
   "language": "python",
   "name": "python3"
  },
  "language_info": {
   "codemirror_mode": {
    "name": "ipython",
    "version": 3
   },
   "file_extension": ".py",
   "mimetype": "text/x-python",
   "name": "python",
   "nbconvert_exporter": "python",
   "pygments_lexer": "ipython3",
   "version": "3.6.7"
  },
  "toc": {
   "nav_menu": {},
   "number_sections": true,
   "sideBar": true,
   "skip_h1_title": false,
   "title_cell": "Table of Contents",
   "title_sidebar": "Contents",
   "toc_cell": false,
   "toc_position": {},
   "toc_section_display": true,
   "toc_window_display": false
  }
 },
 "nbformat": 4,
 "nbformat_minor": 2
}
