{
 "cells": [
  {
   "cell_type": "markdown",
   "metadata": {},
   "source": [
    "# Set up"
   ]
  },
  {
   "cell_type": "code",
   "execution_count": 1,
   "metadata": {
    "ExecuteTime": {
     "end_time": "2019-03-16T16:07:03.463030Z",
     "start_time": "2019-03-16T16:07:03.458834Z"
    }
   },
   "outputs": [],
   "source": [
    "# update path with data dir\n",
    "import sys\n",
    "sys.path.append('../data/')"
   ]
  },
  {
   "cell_type": "code",
   "execution_count": 28,
   "metadata": {
    "ExecuteTime": {
     "end_time": "2019-03-16T16:14:43.389035Z",
     "start_time": "2019-03-16T16:14:43.381421Z"
    }
   },
   "outputs": [],
   "source": [
    "import player_data as player\n",
    "import pandas as pd\n",
    "from datetime import datetime\n",
    "import matplotlib.pyplot as plt\n",
    "from scipy.stats import norm, poisson\n",
    "from numpy import linspace"
   ]
  },
  {
   "cell_type": "markdown",
   "metadata": {},
   "source": [
    "# Get data"
   ]
  },
  {
   "cell_type": "code",
   "execution_count": 3,
   "metadata": {
    "ExecuteTime": {
     "end_time": "2019-03-16T16:07:04.808273Z",
     "start_time": "2019-03-16T16:07:04.803840Z"
    }
   },
   "outputs": [],
   "source": [
    "file_name = 'csvs/element_gameweek_' + datetime.today().strftime('%Y-%m-%d') + '.csv'"
   ]
  },
  {
   "cell_type": "code",
   "execution_count": 4,
   "metadata": {
    "ExecuteTime": {
     "end_time": "2019-03-16T16:07:05.039612Z",
     "start_time": "2019-03-16T16:07:04.812499Z"
    }
   },
   "outputs": [],
   "source": [
    "try:\n",
    "    element_gameweek_df = pd.read_csv(file_name)\n",
    "except:\n",
    "    element_gameweek_df = player.get_element_gameweek_df()\n",
    "    element_gameweek_df.to_csv(file_name)"
   ]
  },
  {
   "cell_type": "code",
   "execution_count": 5,
   "metadata": {
    "ExecuteTime": {
     "end_time": "2019-03-16T16:07:05.046915Z",
     "start_time": "2019-03-16T16:07:05.043613Z"
    }
   },
   "outputs": [],
   "source": [
    "current_event = 26\n",
    "element_types = [2, 3, 4]\n",
    "threshold_minutes = 1"
   ]
  },
  {
   "cell_type": "code",
   "execution_count": 6,
   "metadata": {
    "ExecuteTime": {
     "end_time": "2019-03-16T16:07:05.152785Z",
     "start_time": "2019-03-16T16:07:05.050047Z"
    }
   },
   "outputs": [],
   "source": [
    "element_gameweek_df =\\\n",
    "element_gameweek_df[\n",
    "    (element_gameweek_df['event'] <= current_event)\n",
    "    & (element_gameweek_df['element_type'].isin(element_types))\n",
    "    & (element_gameweek_df['minutes'] >= threshold_minutes)\n",
    "]"
   ]
  },
  {
   "cell_type": "markdown",
   "metadata": {},
   "source": [
    "# Distribution of assists for full matches"
   ]
  },
  {
   "cell_type": "markdown",
   "metadata": {},
   "source": [
    "## Overall"
   ]
  },
  {
   "cell_type": "code",
   "execution_count": 7,
   "metadata": {
    "ExecuteTime": {
     "end_time": "2019-03-16T16:07:05.173333Z",
     "start_time": "2019-03-16T16:07:05.156638Z"
    }
   },
   "outputs": [],
   "source": [
    "full_matches_df = element_gameweek_df.copy()\n",
    "full_matches_df=\\\n",
    "full_matches_df.copy()[\n",
    "    (full_matches_df['minutes'] >= 85)\n",
    "]"
   ]
  },
  {
   "cell_type": "code",
   "execution_count": 8,
   "metadata": {
    "ExecuteTime": {
     "end_time": "2019-03-16T16:07:05.202007Z",
     "start_time": "2019-03-16T16:07:05.176663Z"
    }
   },
   "outputs": [
    {
     "data": {
      "text/plain": [
       "count    3952.000000\n",
       "mean        0.110071\n",
       "std         0.343106\n",
       "min         0.000000\n",
       "25%         0.000000\n",
       "50%         0.000000\n",
       "75%         0.000000\n",
       "max         3.000000\n",
       "Name: assists, dtype: float64"
      ]
     },
     "execution_count": 8,
     "metadata": {},
     "output_type": "execute_result"
    }
   ],
   "source": [
    "full_matches_df['assists'].describe()"
   ]
  },
  {
   "cell_type": "code",
   "execution_count": 24,
   "metadata": {
    "ExecuteTime": {
     "end_time": "2019-03-16T16:12:35.075885Z",
     "start_time": "2019-03-16T16:12:35.060555Z"
    }
   },
   "outputs": [
    {
     "data": {
      "text/plain": [
       "(0.11007085020242915, 0.3431062345259488, 0, 3)"
      ]
     },
     "execution_count": 24,
     "metadata": {},
     "output_type": "execute_result"
    }
   ],
   "source": [
    "full_matches_mean = full_matches_df['assists'].mean()\n",
    "full_matches_std = full_matches_df['assists'].std()\n",
    "full_matches_min = full_matches_df['assists'].min()\n",
    "full_matches_max = full_matches_df['assists'].max()\n",
    "full_matches_mean, full_matches_std, full_matches_min, full_matches_max"
   ]
  },
  {
   "cell_type": "code",
   "execution_count": 33,
   "metadata": {
    "ExecuteTime": {
     "end_time": "2019-03-16T16:16:11.781041Z",
     "start_time": "2019-03-16T16:16:11.461277Z"
    }
   },
   "outputs": [
    {
     "data": {
      "image/png": "[encoded data removed]",
      "text/plain": [
       "<Figure size 432x288 with 1 Axes>"
      ]
     },
     "metadata": {
      "needs_background": "light"
     },
     "output_type": "display_data"
    }
   ],
   "source": [
    "plt.figure()\n",
    "plt.hist(full_matches_df['assists'], bins=range(full_matches_min, full_matches_max+2), density=True)\n",
    "plt.plot(range(full_matches_min, full_matches_max+1),\n",
    "         poisson.pmf(range(full_matches_min, full_matches_max+1), full_matches_mean))\n",
    "plt.plot(linspace(full_matches_min, full_matches_max+1),\n",
    "         norm.pdf(linspace(full_matches_min, full_matches_max+1), full_matches_mean, full_matches_std))\n",
    "plt.show()"
   ]
  },
  {
   "cell_type": "markdown",
   "metadata": {},
   "source": [
    "## By element type"
   ]
  },
  {
   "cell_type": "markdown",
   "metadata": {},
   "source": [
    "### Defender"
   ]
  },
  {
   "cell_type": "code",
   "execution_count": 11,
   "metadata": {
    "ExecuteTime": {
     "end_time": "2019-03-16T16:07:05.565023Z",
     "start_time": "2019-03-16T16:07:05.554874Z"
    }
   },
   "outputs": [],
   "source": [
    "full_matches_def_df = element_gameweek_df.copy()\n",
    "full_matches_def_df=\\\n",
    "full_matches_def_df.copy()[\n",
    "    (full_matches_def_df['minutes'] >= 85)\n",
    "    & (full_matches_def_df['element_type'] == 2)\n",
    "]"
   ]
  },
  {
   "cell_type": "code",
   "execution_count": 12,
   "metadata": {
    "ExecuteTime": {
     "end_time": "2019-03-16T16:07:05.599989Z",
     "start_time": "2019-03-16T16:07:05.567268Z"
    }
   },
   "outputs": [
    {
     "data": {
      "text/plain": [
       "count    2000.000000\n",
       "mean        0.072000\n",
       "std         0.277226\n",
       "min         0.000000\n",
       "25%         0.000000\n",
       "50%         0.000000\n",
       "75%         0.000000\n",
       "max         3.000000\n",
       "Name: assists, dtype: float64"
      ]
     },
     "execution_count": 12,
     "metadata": {},
     "output_type": "execute_result"
    }
   ],
   "source": [
    "full_matches_def_df['assists'].describe()"
   ]
  },
  {
   "cell_type": "code",
   "execution_count": 13,
   "metadata": {
    "ExecuteTime": {
     "end_time": "2019-03-16T16:07:05.618184Z",
     "start_time": "2019-03-16T16:07:05.602114Z"
    }
   },
   "outputs": [
    {
     "data": {
      "text/plain": [
       "(0.072, 0, 3)"
      ]
     },
     "execution_count": 13,
     "metadata": {},
     "output_type": "execute_result"
    }
   ],
   "source": [
    "full_matches_def_mean = full_matches_def_df['assists'].mean()\n",
    "full_matches_def_min = full_matches_def_df['assists'].min()\n",
    "full_matches_def_max = full_matches_def_df['assists'].max()\n",
    "full_matches_def_mean, full_matches_def_min, full_matches_def_max"
   ]
  },
  {
   "cell_type": "code",
   "execution_count": 14,
   "metadata": {
    "ExecuteTime": {
     "end_time": "2019-03-16T16:07:06.052401Z",
     "start_time": "2019-03-16T16:07:05.621112Z"
    }
   },
   "outputs": [
    {
     "data": {
      "image/png": "[encoded data removed]",
      "text/plain": [
       "<Figure size 432x288 with 1 Axes>"
      ]
     },
     "metadata": {
      "needs_background": "light"
     },
     "output_type": "display_data"
    }
   ],
   "source": [
    "plt.figure()\n",
    "plt.hist(full_matches_def_df['assists'], bins=range(full_matches_def_min, full_matches_def_max+2), density=True)\n",
    "plt.plot(range(full_matches_def_min, full_matches_def_max+1),\n",
    "         poisson.pmf(range(full_matches_def_min, full_matches_def_max+1), full_matches_def_mean))\n",
    "plt.show()"
   ]
  },
  {
   "cell_type": "markdown",
   "metadata": {},
   "source": [
    "### Midfielder"
   ]
  },
  {
   "cell_type": "code",
   "execution_count": 15,
   "metadata": {
    "ExecuteTime": {
     "end_time": "2019-03-16T16:07:06.065582Z",
     "start_time": "2019-03-16T16:07:06.054884Z"
    }
   },
   "outputs": [],
   "source": [
    "full_matches_mid_df = element_gameweek_df.copy()\n",
    "full_matches_mid_df=\\\n",
    "full_matches_mid_df.copy()[\n",
    "    (full_matches_mid_df['minutes'] >= 85)\n",
    "    & (full_matches_mid_df['element_type'] == 3)\n",
    "]"
   ]
  },
  {
   "cell_type": "code",
   "execution_count": 16,
   "metadata": {
    "ExecuteTime": {
     "end_time": "2019-03-16T16:07:06.092056Z",
     "start_time": "2019-03-16T16:07:06.068068Z"
    }
   },
   "outputs": [
    {
     "data": {
      "text/plain": [
       "count    1582.000000\n",
       "mean        0.139697\n",
       "std         0.388095\n",
       "min         0.000000\n",
       "25%         0.000000\n",
       "50%         0.000000\n",
       "75%         0.000000\n",
       "max         3.000000\n",
       "Name: assists, dtype: float64"
      ]
     },
     "execution_count": 16,
     "metadata": {},
     "output_type": "execute_result"
    }
   ],
   "source": [
    "full_matches_mid_df['assists'].describe()"
   ]
  },
  {
   "cell_type": "code",
   "execution_count": 17,
   "metadata": {
    "ExecuteTime": {
     "end_time": "2019-03-16T16:07:06.111336Z",
     "start_time": "2019-03-16T16:07:06.094321Z"
    }
   },
   "outputs": [
    {
     "data": {
      "text/plain": [
       "(0.13969658659924147, 0, 3)"
      ]
     },
     "execution_count": 17,
     "metadata": {},
     "output_type": "execute_result"
    }
   ],
   "source": [
    "full_matches_mid_mean = full_matches_mid_df['assists'].mean()\n",
    "full_matches_mid_min = full_matches_mid_df['assists'].min()\n",
    "full_matches_mid_max = full_matches_mid_df['assists'].max()\n",
    "full_matches_mid_mean, full_matches_mid_min, full_matches_mid_max"
   ]
  },
  {
   "cell_type": "code",
   "execution_count": 18,
   "metadata": {
    "ExecuteTime": {
     "end_time": "2019-03-16T16:07:06.421816Z",
     "start_time": "2019-03-16T16:07:06.116501Z"
    }
   },
   "outputs": [
    {
     "data": {
      "image/png": "[encoded data removed]",
      "text/plain": [
       "<Figure size 432x288 with 1 Axes>"
      ]
     },
     "metadata": {
      "needs_background": "light"
     },
     "output_type": "display_data"
    }
   ],
   "source": [
    "plt.figure()\n",
    "plt.hist(full_matches_mid_df['assists'], bins=range(full_matches_mid_min, full_matches_mid_max+2), density=True)\n",
    "plt.plot(range(full_matches_mid_min, full_matches_mid_max+1),\n",
    "         poisson.pmf(range(full_matches_mid_min, full_matches_mid_max+1), full_matches_mid_mean))\n",
    "plt.show()"
   ]
  },
  {
   "cell_type": "markdown",
   "metadata": {},
   "source": [
    "### Striker"
   ]
  },
  {
   "cell_type": "code",
   "execution_count": 19,
   "metadata": {
    "ExecuteTime": {
     "end_time": "2019-03-16T16:07:06.438274Z",
     "start_time": "2019-03-16T16:07:06.424681Z"
    }
   },
   "outputs": [],
   "source": [
    "full_matches_str_df = element_gameweek_df.copy()\n",
    "full_matches_str_df=\\\n",
    "full_matches_str_df.copy()[\n",
    "    (full_matches_str_df['minutes'] >= 85)\n",
    "    & (full_matches_str_df['element_type'] == 4)\n",
    "]"
   ]
  },
  {
   "cell_type": "code",
   "execution_count": 20,
   "metadata": {
    "ExecuteTime": {
     "end_time": "2019-03-16T16:07:06.456056Z",
     "start_time": "2019-03-16T16:07:06.440736Z"
    }
   },
   "outputs": [
    {
     "data": {
      "text/plain": [
       "count    370.000000\n",
       "mean       0.189189\n",
       "std        0.425338\n",
       "min        0.000000\n",
       "25%        0.000000\n",
       "50%        0.000000\n",
       "75%        0.000000\n",
       "max        2.000000\n",
       "Name: assists, dtype: float64"
      ]
     },
     "execution_count": 20,
     "metadata": {},
     "output_type": "execute_result"
    }
   ],
   "source": [
    "full_matches_str_df['assists'].describe()"
   ]
  },
  {
   "cell_type": "code",
   "execution_count": 21,
   "metadata": {
    "ExecuteTime": {
     "end_time": "2019-03-16T16:07:06.476958Z",
     "start_time": "2019-03-16T16:07:06.458331Z"
    }
   },
   "outputs": [
    {
     "data": {
      "text/plain": [
       "(0.1891891891891892, 0, 2)"
      ]
     },
     "execution_count": 21,
     "metadata": {},
     "output_type": "execute_result"
    }
   ],
   "source": [
    "full_matches_str_mean = full_matches_str_df['assists'].mean()\n",
    "full_matches_str_min = full_matches_str_df['assists'].min()\n",
    "full_matches_str_max = full_matches_str_df['assists'].max()\n",
    "full_matches_str_mean, full_matches_str_min, full_matches_str_max"
   ]
  },
  {
   "cell_type": "code",
   "execution_count": 22,
   "metadata": {
    "ExecuteTime": {
     "end_time": "2019-03-16T16:07:06.766679Z",
     "start_time": "2019-03-16T16:07:06.479212Z"
    }
   },
   "outputs": [
    {
     "data": {
      "image/png": "[encoded data removed]",
      "text/plain": [
       "<Figure size 432x288 with 1 Axes>"
      ]
     },
     "metadata": {
      "needs_background": "light"
     },
     "output_type": "display_data"
    }
   ],
   "source": [
    "plt.figure()\n",
    "plt.hist(full_matches_str_df['assists'], bins=range(full_matches_str_min, full_matches_str_max+2), density=True)\n",
    "plt.plot(range(full_matches_str_min, full_matches_str_max+1),\n",
    "         poisson.pmf(range(full_matches_str_min, full_matches_str_max+1), full_matches_str_mean))\n",
    "plt.show()"
   ]
  }
 ],
 "metadata": {
  "kernelspec": {
   "display_name": "Python 3",
   "language": "python",
   "name": "python3"
  },
  "language_info": {
   "codemirror_mode": {
    "name": "ipython",
    "version": 3
   },
   "file_extension": ".py",
   "mimetype": "text/x-python",
   "name": "python",
   "nbconvert_exporter": "python",
   "pygments_lexer": "ipython3",
   "version": "3.6.7"
  },
  "toc": {
   "nav_menu": {},
   "number_sections": true,
   "sideBar": true,
   "skip_h1_title": false,
   "title_cell": "Table of Contents",
   "title_sidebar": "Contents",
   "toc_cell": false,
   "toc_position": {},
   "toc_section_display": true,
   "toc_window_display": false
  }
 },
 "nbformat": 4,
 "nbformat_minor": 2
}
