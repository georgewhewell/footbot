{
 "cells": [
  {
   "cell_type": "markdown",
   "metadata": {},
   "source": [
    "# Set up"
   ]
  },
  {
   "cell_type": "code",
   "execution_count": 1,
   "metadata": {
    "ExecuteTime": {
     "end_time": "2019-06-29T15:12:59.401061Z",
     "start_time": "2019-06-29T15:12:59.394931Z"
    }
   },
   "outputs": [],
   "source": [
    "# update path with data dir\n",
    "import sys\n",
    "sys.path.append('../data/')\n",
    "sys.path.append('../modelling/')"
   ]
  },
  {
   "cell_type": "code",
   "execution_count": 2,
   "metadata": {
    "ExecuteTime": {
     "end_time": "2019-06-29T15:13:08.331299Z",
     "start_time": "2019-06-29T15:13:06.111147Z"
    }
   },
   "outputs": [
    {
     "name": "stderr",
     "output_type": "stream",
     "text": [
      "/home/tom/footbot/venv/lib/python3.6/site-packages/statsmodels/compat/pandas.py:56: FutureWarning: The pandas.core.datetools module is deprecated and will be removed in a future version. Please use the pandas.tseries module instead.\n",
      "  from pandas.core import datetools\n"
     ]
    }
   ],
   "source": [
    "import player_data as player\n",
    "from tensorflow.keras.models import Sequential\n",
    "from tensorflow.keras.layers import Dense\n",
    "from tensorflow.keras.wrappers.scikit_learn import KerasClassifier\n",
    "import pandas as pd\n",
    "from sklearn.model_selection import train_test_split, GridSearchCV\n",
    "from sklearn.preprocessing import StandardScaler\n",
    "from sklearn.metrics import mean_absolute_error, mean_squared_error\n",
    "import patsy\n",
    "from datetime import datetime\n",
    "import numpy as np"
   ]
  },
  {
   "cell_type": "code",
   "execution_count": 3,
   "metadata": {
    "ExecuteTime": {
     "end_time": "2019-06-29T15:13:08.338251Z",
     "start_time": "2019-06-29T15:13:08.334889Z"
    }
   },
   "outputs": [],
   "source": [
    "response_variable = 'goals_scored'"
   ]
  },
  {
   "cell_type": "markdown",
   "metadata": {},
   "source": [
    "# Getting data"
   ]
  },
  {
   "cell_type": "code",
   "execution_count": 17,
   "metadata": {
    "ExecuteTime": {
     "end_time": "2019-06-29T15:13:35.243985Z",
     "start_time": "2019-06-29T15:13:35.238417Z"
    }
   },
   "outputs": [],
   "source": [
    "file_name = 'csvs/element_gameweek_2019-05-14.csv'"
   ]
  },
  {
   "cell_type": "code",
   "execution_count": 18,
   "metadata": {
    "ExecuteTime": {
     "end_time": "2019-06-29T15:13:35.543716Z",
     "start_time": "2019-06-29T15:13:35.270661Z"
    }
   },
   "outputs": [],
   "source": [
    "try:\n",
    "    element_gameweek_df = pd.read_csv(file_name)\n",
    "except:\n",
    "    element_gameweek_df = player.get_element_gameweek_df()\n",
    "    element_gameweek_df.to_csv(file_name)"
   ]
  },
  {
   "cell_type": "code",
   "execution_count": 19,
   "metadata": {
    "ExecuteTime": {
     "end_time": "2019-06-29T15:13:36.929472Z",
     "start_time": "2019-06-29T15:13:36.923501Z"
    }
   },
   "outputs": [],
   "source": [
    "current_event = 32\n",
    "element_types = [2, 3, 4]\n",
    "threshold_minutes = 1"
   ]
  },
  {
   "cell_type": "code",
   "execution_count": 20,
   "metadata": {
    "ExecuteTime": {
     "end_time": "2019-06-29T15:13:37.636736Z",
     "start_time": "2019-06-29T15:13:37.615864Z"
    }
   },
   "outputs": [],
   "source": [
    "element_gameweek_df =\\\n",
    "element_gameweek_df[\n",
    "    (element_gameweek_df['event'] <= current_event)\n",
    "    & (element_gameweek_df['element_type'].isin(element_types))\n",
    "    & (element_gameweek_df['minutes'] >= threshold_minutes)\n",
    "]"
   ]
  },
  {
   "cell_type": "code",
   "execution_count": 21,
   "metadata": {
    "ExecuteTime": {
     "end_time": "2019-06-29T15:13:38.203071Z",
     "start_time": "2019-06-29T15:13:38.080108Z"
    }
   },
   "outputs": [],
   "source": [
    "player.add_home_categorical_variable(element_gameweek_df)"
   ]
  },
  {
   "cell_type": "code",
   "execution_count": 22,
   "metadata": {
    "ExecuteTime": {
     "end_time": "2019-06-29T15:13:38.481334Z",
     "start_time": "2019-06-29T15:13:38.473168Z"
    }
   },
   "outputs": [],
   "source": [
    "element_gameweek_df['row_id'] = element_gameweek_df['row_id'].rank()"
   ]
  },
  {
   "cell_type": "code",
   "execution_count": 23,
   "metadata": {
    "ExecuteTime": {
     "end_time": "2019-06-29T15:13:38.834514Z",
     "start_time": "2019-06-29T15:13:38.812333Z"
    }
   },
   "outputs": [],
   "source": [
    "element_gameweek_df['element_fixture_rank'] = element_gameweek_df.groupby('element')['row_id'].rank()"
   ]
  },
  {
   "cell_type": "code",
   "execution_count": 24,
   "metadata": {
    "ExecuteTime": {
     "end_time": "2019-06-29T15:13:39.122462Z",
     "start_time": "2019-06-29T15:13:39.117474Z"
    }
   },
   "outputs": [],
   "source": [
    "rolling_cols = [\n",
    "    'big_chances_missed',\n",
    "    'goals_scored',\n",
    "    'target_missed'\n",
    "]"
   ]
  },
  {
   "cell_type": "code",
   "execution_count": 25,
   "metadata": {
    "ExecuteTime": {
     "end_time": "2019-06-29T15:13:40.377799Z",
     "start_time": "2019-06-29T15:13:39.464436Z"
    }
   },
   "outputs": [],
   "source": [
    "rolling_df = \\\n",
    "element_gameweek_df.copy().groupby('element', as_index=True)[['minutes'] + rolling_cols]\\\n",
    ".rolling(38, min_periods=1).sum().reset_index()[['element', 'minutes'] + rolling_cols]"
   ]
  },
  {
   "cell_type": "code",
   "execution_count": 26,
   "metadata": {
    "ExecuteTime": {
     "end_time": "2019-06-29T15:13:40.463489Z",
     "start_time": "2019-06-29T15:13:40.380903Z"
    }
   },
   "outputs": [],
   "source": [
    "rolling_df['element_fixture_rank'] = rolling_df.groupby('element')['minutes'].rank()"
   ]
  },
  {
   "cell_type": "code",
   "execution_count": 27,
   "metadata": {
    "ExecuteTime": {
     "end_time": "2019-06-29T15:13:40.471567Z",
     "start_time": "2019-06-29T15:13:40.466260Z"
    }
   },
   "outputs": [],
   "source": [
    "rolling_df['element_fixture_rank'] = rolling_df['element_fixture_rank'] + 1"
   ]
  },
  {
   "cell_type": "code",
   "execution_count": 28,
   "metadata": {
    "ExecuteTime": {
     "end_time": "2019-06-29T15:13:41.091696Z",
     "start_time": "2019-06-29T15:13:41.072081Z"
    }
   },
   "outputs": [],
   "source": [
    "element_gameweek_df =\\\n",
    "element_gameweek_df.join(\n",
    "    rolling_df.set_index(['element', 'element_fixture_rank']),\n",
    "    on=['element', 'element_fixture_rank'],\n",
    "    rsuffix='_rolling')"
   ]
  },
  {
   "cell_type": "code",
   "execution_count": 29,
   "metadata": {
    "ExecuteTime": {
     "end_time": "2019-06-29T15:13:41.694908Z",
     "start_time": "2019-06-29T15:13:41.682685Z"
    }
   },
   "outputs": [],
   "source": [
    "for i in rolling_cols:\n",
    "    element_gameweek_df[i + '_per_minute_rolling'] = \\\n",
    "    element_gameweek_df[i + '_rolling'] / element_gameweek_df['minutes_rolling']"
   ]
  },
  {
   "cell_type": "code",
   "execution_count": 30,
   "metadata": {
    "ExecuteTime": {
     "end_time": "2019-06-29T15:13:43.137395Z",
     "start_time": "2019-06-29T15:13:42.259611Z"
    }
   },
   "outputs": [],
   "source": [
    "rolling_p5_df = \\\n",
    "element_gameweek_df.copy().groupby('element', as_index=True)[['minutes'] + rolling_cols]\\\n",
    ".rolling(5, min_periods=1).sum().reset_index()[['element', 'minutes'] + rolling_cols]"
   ]
  },
  {
   "cell_type": "code",
   "execution_count": 31,
   "metadata": {
    "ExecuteTime": {
     "end_time": "2019-06-29T15:13:43.222982Z",
     "start_time": "2019-06-29T15:13:43.140374Z"
    }
   },
   "outputs": [],
   "source": [
    "rolling_p5_df['element_fixture_rank'] = rolling_p5_df.groupby('element')['minutes'].rank()"
   ]
  },
  {
   "cell_type": "code",
   "execution_count": 32,
   "metadata": {
    "ExecuteTime": {
     "end_time": "2019-06-29T15:13:43.600693Z",
     "start_time": "2019-06-29T15:13:43.595077Z"
    }
   },
   "outputs": [],
   "source": [
    "rolling_p5_df['element_fixture_rank'] = rolling_p5_df['element_fixture_rank'] + 1"
   ]
  },
  {
   "cell_type": "code",
   "execution_count": 33,
   "metadata": {
    "ExecuteTime": {
     "end_time": "2019-06-29T15:13:44.020603Z",
     "start_time": "2019-06-29T15:13:43.973313Z"
    }
   },
   "outputs": [],
   "source": [
    "element_gameweek_df =\\\n",
    "element_gameweek_df.join(\n",
    "    rolling_p5_df.set_index(['element', 'element_fixture_rank']),\n",
    "    on=['element', 'element_fixture_rank'],\n",
    "    rsuffix='_rolling_p5')"
   ]
  },
  {
   "cell_type": "code",
   "execution_count": 34,
   "metadata": {
    "ExecuteTime": {
     "end_time": "2019-06-29T15:13:44.428417Z",
     "start_time": "2019-06-29T15:13:44.417820Z"
    }
   },
   "outputs": [],
   "source": [
    "for i in rolling_cols:\n",
    "    element_gameweek_df[i + '_per_minute_rolling_p5'] = \\\n",
    "    element_gameweek_df[i + '_rolling_p5'] / element_gameweek_df['minutes_rolling']"
   ]
  },
  {
   "cell_type": "code",
   "execution_count": 35,
   "metadata": {
    "ExecuteTime": {
     "end_time": "2019-06-29T15:13:44.854119Z",
     "start_time": "2019-06-29T15:13:44.808642Z"
    }
   },
   "outputs": [
    {
     "data": {
      "text/html": [
       "<div>\n",
       "<style scoped>\n",
       "    .dataframe tbody tr th:only-of-type {\n",
       "        vertical-align: middle;\n",
       "    }\n",
       "\n",
       "    .dataframe tbody tr th {\n",
       "        vertical-align: top;\n",
       "    }\n",
       "\n",
       "    .dataframe thead th {\n",
       "        text-align: right;\n",
       "    }\n",
       "</style>\n",
       "<table border=\"1\" class=\"dataframe\">\n",
       "  <thead>\n",
       "    <tr style=\"text-align: right;\">\n",
       "      <th></th>\n",
       "      <th>Unnamed: 0</th>\n",
       "      <th>row_id</th>\n",
       "      <th>assists</th>\n",
       "      <th>attempted_passes</th>\n",
       "      <th>big_chances_created</th>\n",
       "      <th>big_chances_missed</th>\n",
       "      <th>bonus</th>\n",
       "      <th>bps</th>\n",
       "      <th>clean_sheets</th>\n",
       "      <th>clearances_blocks_interceptions</th>\n",
       "      <th>...</th>\n",
       "      <th>big_chances_missed_per_minute_rolling</th>\n",
       "      <th>goals_scored_per_minute_rolling</th>\n",
       "      <th>target_missed_per_minute_rolling</th>\n",
       "      <th>minutes_rolling_p5</th>\n",
       "      <th>big_chances_missed_rolling_p5</th>\n",
       "      <th>goals_scored_rolling_p5</th>\n",
       "      <th>target_missed_rolling_p5</th>\n",
       "      <th>big_chances_missed_per_minute_rolling_p5</th>\n",
       "      <th>goals_scored_per_minute_rolling_p5</th>\n",
       "      <th>target_missed_per_minute_rolling_p5</th>\n",
       "    </tr>\n",
       "  </thead>\n",
       "  <tbody>\n",
       "    <tr>\n",
       "      <th>92</th>\n",
       "      <td>92</td>\n",
       "      <td>1.0</td>\n",
       "      <td>0</td>\n",
       "      <td>92</td>\n",
       "      <td>0</td>\n",
       "      <td>0</td>\n",
       "      <td>0</td>\n",
       "      <td>11</td>\n",
       "      <td>0</td>\n",
       "      <td>6</td>\n",
       "      <td>...</td>\n",
       "      <td>NaN</td>\n",
       "      <td>NaN</td>\n",
       "      <td>NaN</td>\n",
       "      <td>NaN</td>\n",
       "      <td>NaN</td>\n",
       "      <td>NaN</td>\n",
       "      <td>NaN</td>\n",
       "      <td>NaN</td>\n",
       "      <td>NaN</td>\n",
       "      <td>NaN</td>\n",
       "    </tr>\n",
       "    <tr>\n",
       "      <th>94</th>\n",
       "      <td>94</td>\n",
       "      <td>2.0</td>\n",
       "      <td>0</td>\n",
       "      <td>74</td>\n",
       "      <td>0</td>\n",
       "      <td>0</td>\n",
       "      <td>0</td>\n",
       "      <td>17</td>\n",
       "      <td>0</td>\n",
       "      <td>4</td>\n",
       "      <td>...</td>\n",
       "      <td>0.0</td>\n",
       "      <td>0.0</td>\n",
       "      <td>0.011111</td>\n",
       "      <td>90.0</td>\n",
       "      <td>0.0</td>\n",
       "      <td>0.0</td>\n",
       "      <td>1.0</td>\n",
       "      <td>0.0</td>\n",
       "      <td>0.0</td>\n",
       "      <td>0.011111</td>\n",
       "    </tr>\n",
       "    <tr>\n",
       "      <th>95</th>\n",
       "      <td>95</td>\n",
       "      <td>3.0</td>\n",
       "      <td>0</td>\n",
       "      <td>38</td>\n",
       "      <td>0</td>\n",
       "      <td>0</td>\n",
       "      <td>0</td>\n",
       "      <td>10</td>\n",
       "      <td>0</td>\n",
       "      <td>2</td>\n",
       "      <td>...</td>\n",
       "      <td>0.0</td>\n",
       "      <td>0.0</td>\n",
       "      <td>0.006289</td>\n",
       "      <td>159.0</td>\n",
       "      <td>0.0</td>\n",
       "      <td>0.0</td>\n",
       "      <td>1.0</td>\n",
       "      <td>0.0</td>\n",
       "      <td>0.0</td>\n",
       "      <td>0.006289</td>\n",
       "    </tr>\n",
       "    <tr>\n",
       "      <th>96</th>\n",
       "      <td>96</td>\n",
       "      <td>4.0</td>\n",
       "      <td>0</td>\n",
       "      <td>64</td>\n",
       "      <td>0</td>\n",
       "      <td>0</td>\n",
       "      <td>0</td>\n",
       "      <td>19</td>\n",
       "      <td>0</td>\n",
       "      <td>10</td>\n",
       "      <td>...</td>\n",
       "      <td>0.0</td>\n",
       "      <td>0.0</td>\n",
       "      <td>0.004902</td>\n",
       "      <td>204.0</td>\n",
       "      <td>0.0</td>\n",
       "      <td>0.0</td>\n",
       "      <td>1.0</td>\n",
       "      <td>0.0</td>\n",
       "      <td>0.0</td>\n",
       "      <td>0.004902</td>\n",
       "    </tr>\n",
       "    <tr>\n",
       "      <th>97</th>\n",
       "      <td>97</td>\n",
       "      <td>5.0</td>\n",
       "      <td>0</td>\n",
       "      <td>89</td>\n",
       "      <td>0</td>\n",
       "      <td>0</td>\n",
       "      <td>0</td>\n",
       "      <td>17</td>\n",
       "      <td>0</td>\n",
       "      <td>2</td>\n",
       "      <td>...</td>\n",
       "      <td>0.0</td>\n",
       "      <td>0.0</td>\n",
       "      <td>0.003401</td>\n",
       "      <td>294.0</td>\n",
       "      <td>0.0</td>\n",
       "      <td>0.0</td>\n",
       "      <td>1.0</td>\n",
       "      <td>0.0</td>\n",
       "      <td>0.0</td>\n",
       "      <td>0.003401</td>\n",
       "    </tr>\n",
       "  </tbody>\n",
       "</table>\n",
       "<p>5 rows × 82 columns</p>\n",
       "</div>"
      ],
      "text/plain": [
       "    Unnamed: 0  row_id  assists  attempted_passes  big_chances_created  \\\n",
       "92          92     1.0        0                92                    0   \n",
       "94          94     2.0        0                74                    0   \n",
       "95          95     3.0        0                38                    0   \n",
       "96          96     4.0        0                64                    0   \n",
       "97          97     5.0        0                89                    0   \n",
       "\n",
       "    big_chances_missed  bonus  bps  clean_sheets  \\\n",
       "92                   0      0   11             0   \n",
       "94                   0      0   17             0   \n",
       "95                   0      0   10             0   \n",
       "96                   0      0   19             0   \n",
       "97                   0      0   17             0   \n",
       "\n",
       "    clearances_blocks_interceptions                 ...                   \\\n",
       "92                                6                 ...                    \n",
       "94                                4                 ...                    \n",
       "95                                2                 ...                    \n",
       "96                               10                 ...                    \n",
       "97                                2                 ...                    \n",
       "\n",
       "    big_chances_missed_per_minute_rolling  goals_scored_per_minute_rolling  \\\n",
       "92                                    NaN                              NaN   \n",
       "94                                    0.0                              0.0   \n",
       "95                                    0.0                              0.0   \n",
       "96                                    0.0                              0.0   \n",
       "97                                    0.0                              0.0   \n",
       "\n",
       "    target_missed_per_minute_rolling  minutes_rolling_p5  \\\n",
       "92                               NaN                 NaN   \n",
       "94                          0.011111                90.0   \n",
       "95                          0.006289               159.0   \n",
       "96                          0.004902               204.0   \n",
       "97                          0.003401               294.0   \n",
       "\n",
       "    big_chances_missed_rolling_p5  goals_scored_rolling_p5  \\\n",
       "92                            NaN                      NaN   \n",
       "94                            0.0                      0.0   \n",
       "95                            0.0                      0.0   \n",
       "96                            0.0                      0.0   \n",
       "97                            0.0                      0.0   \n",
       "\n",
       "    target_missed_rolling_p5  big_chances_missed_per_minute_rolling_p5  \\\n",
       "92                       NaN                                       NaN   \n",
       "94                       1.0                                       0.0   \n",
       "95                       1.0                                       0.0   \n",
       "96                       1.0                                       0.0   \n",
       "97                       1.0                                       0.0   \n",
       "\n",
       "    goals_scored_per_minute_rolling_p5  target_missed_per_minute_rolling_p5  \n",
       "92                                 NaN                                  NaN  \n",
       "94                                 0.0                             0.011111  \n",
       "95                                 0.0                             0.006289  \n",
       "96                                 0.0                             0.004902  \n",
       "97                                 0.0                             0.003401  \n",
       "\n",
       "[5 rows x 82 columns]"
      ]
     },
     "execution_count": 35,
     "metadata": {},
     "output_type": "execute_result"
    }
   ],
   "source": [
    "element_gameweek_df.head()"
   ]
  },
  {
   "cell_type": "code",
   "execution_count": 36,
   "metadata": {
    "ExecuteTime": {
     "end_time": "2019-06-29T15:13:45.210940Z",
     "start_time": "2019-06-29T15:13:45.201439Z"
    }
   },
   "outputs": [
    {
     "data": {
      "text/plain": [
       "Index(['Unnamed: 0', 'row_id', 'assists', 'attempted_passes',\n",
       "       'big_chances_created', 'big_chances_missed', 'bonus', 'bps',\n",
       "       'clean_sheets', 'clearances_blocks_interceptions', 'completed_passes',\n",
       "       'creativity', 'dribbles', 'ea_index', 'element',\n",
       "       'errors_leading_to_goal', 'errors_leading_to_goal_attempt', 'fixture',\n",
       "       'fouls', 'goals_conceded', 'goals_scored', 'ict_index', 'id',\n",
       "       'influence', 'key_passes', 'kickoff_time', 'kickoff_time_formatted',\n",
       "       'loaned_in', 'loaned_out', 'minutes', 'offside', 'open_play_crosses',\n",
       "       'opponent_team', 'own_goals', 'penalties_conceded', 'penalties_missed',\n",
       "       'penalties_saved', 'recoveries', 'red_cards', 'round', 'saves',\n",
       "       'selected', 'tackled', 'tackles', 'target_missed', 'team_a_score',\n",
       "       'team_h_score', 'threat', 'total_points', 'transfers_balance',\n",
       "       'transfers_in', 'transfers_out', 'value', 'was_home', 'winning_goals',\n",
       "       'yellow_cards', 'event', 'team_a', 'team_a_difficulty', 'team_h',\n",
       "       'team_h_difficulty', 'element_type', 'team', 'web_name',\n",
       "       'safe_web_name', 'own_team', 'opposition_team', 'element_fixture_rank',\n",
       "       'minutes_rolling', 'big_chances_missed_rolling', 'goals_scored_rolling',\n",
       "       'target_missed_rolling', 'big_chances_missed_per_minute_rolling',\n",
       "       'goals_scored_per_minute_rolling', 'target_missed_per_minute_rolling',\n",
       "       'minutes_rolling_p5', 'big_chances_missed_rolling_p5',\n",
       "       'goals_scored_rolling_p5', 'target_missed_rolling_p5',\n",
       "       'big_chances_missed_per_minute_rolling_p5',\n",
       "       'goals_scored_per_minute_rolling_p5',\n",
       "       'target_missed_per_minute_rolling_p5'],\n",
       "      dtype='object')"
      ]
     },
     "execution_count": 36,
     "metadata": {},
     "output_type": "execute_result"
    }
   ],
   "source": [
    "element_gameweek_df.columns"
   ]
  },
  {
   "cell_type": "markdown",
   "metadata": {},
   "source": [
    "# Neural network"
   ]
  },
  {
   "cell_type": "code",
   "execution_count": 37,
   "metadata": {
    "ExecuteTime": {
     "end_time": "2019-06-29T15:13:46.440932Z",
     "start_time": "2019-06-29T15:13:46.433852Z"
    }
   },
   "outputs": [],
   "source": [
    "def add_missing_columns(df, columns):\n",
    "    for col in set(columns) - set(df.columns):\n",
    "        df[col] = np.zeros(len(df))\n",
    "    \n",
    "    return df[columns]"
   ]
  },
  {
   "cell_type": "code",
   "execution_count": 38,
   "metadata": {
    "ExecuteTime": {
     "end_time": "2019-06-29T15:13:47.365967Z",
     "start_time": "2019-06-29T15:13:47.356983Z"
    }
   },
   "outputs": [
    {
     "name": "stdout",
     "output_type": "stream",
     "text": [
      "goals_scored ~ C(element) + C(opposition_team) + was_home\n"
     ]
    }
   ],
   "source": [
    "rolling_vars = ' + '.join([i + '_per_minute_rolling' for i in rolling_cols])\n",
    "rolling_p5_vars = ' + '.join([i + '_per_minute_rolling_p5' for i in rolling_cols])\n",
    "\n",
    "formula = \\\n",
    "f'{response_variable} ~ C(element) + C(opposition_team) + was_home'\n",
    "\n",
    "print(formula)"
   ]
  },
  {
   "cell_type": "code",
   "execution_count": 39,
   "metadata": {
    "ExecuteTime": {
     "end_time": "2019-06-29T15:13:48.344120Z",
     "start_time": "2019-06-29T15:13:48.008656Z"
    }
   },
   "outputs": [],
   "source": [
    "y, X = patsy.dmatrices(formula, element_gameweek_df, return_type='dataframe')"
   ]
  },
  {
   "cell_type": "code",
   "execution_count": 40,
   "metadata": {
    "ExecuteTime": {
     "end_time": "2019-06-29T15:13:48.793642Z",
     "start_time": "2019-06-29T15:13:48.788597Z"
    }
   },
   "outputs": [
    {
     "data": {
      "text/plain": [
       "479"
      ]
     },
     "execution_count": 40,
     "metadata": {},
     "output_type": "execute_result"
    }
   ],
   "source": [
    "len(X.columns)"
   ]
  },
  {
   "cell_type": "code",
   "execution_count": 41,
   "metadata": {
    "ExecuteTime": {
     "end_time": "2019-06-29T15:13:49.481964Z",
     "start_time": "2019-06-29T15:13:49.446203Z"
    }
   },
   "outputs": [],
   "source": [
    "X_train, X_test, y_train, y_test = train_test_split(X, y, test_size=0.25)"
   ]
  },
  {
   "cell_type": "code",
   "execution_count": 42,
   "metadata": {
    "ExecuteTime": {
     "end_time": "2019-06-29T15:13:50.131808Z",
     "start_time": "2019-06-29T15:13:50.093773Z"
    }
   },
   "outputs": [],
   "source": [
    "X_train = add_missing_columns(X_train, X.columns)\n",
    "X_test = add_missing_columns(X_test, X.columns)"
   ]
  },
  {
   "cell_type": "code",
   "execution_count": 43,
   "metadata": {
    "ExecuteTime": {
     "end_time": "2019-06-29T15:13:50.726674Z",
     "start_time": "2019-06-29T15:13:50.558636Z"
    }
   },
   "outputs": [],
   "source": [
    "# standardise explanatory data by subtracting the mean and scaling to unit variance\n",
    "# find standardising transformations based on training set\n",
    "scaler = StandardScaler().fit(X_train)\n",
    "\n",
    "# standardise training set\n",
    "X_train = scaler.transform(X_train)\n",
    "\n",
    "# standardise test set\n",
    "X_test = scaler.transform(X_test)"
   ]
  },
  {
   "cell_type": "code",
   "execution_count": 44,
   "metadata": {
    "ExecuteTime": {
     "end_time": "2019-06-29T15:13:51.110711Z",
     "start_time": "2019-06-29T15:13:51.000579Z"
    }
   },
   "outputs": [
    {
     "name": "stdout",
     "output_type": "stream",
     "text": [
      "WARNING:tensorflow:From /home/tom/footbot/venv/lib/python3.6/site-packages/tensorflow/python/ops/resource_variable_ops.py:435: colocate_with (from tensorflow.python.framework.ops) is deprecated and will be removed in a future version.\n",
      "Instructions for updating:\n",
      "Colocations handled automatically by placer.\n"
     ]
    }
   ],
   "source": [
    "# instantiate model\n",
    "model = Sequential()\n",
    "\n",
    "# add the input layer, i.e. first hidden layer\n",
    "model.add(Dense(units=25, activation='relu', input_shape=(len(X.columns),)))\n",
    "          \n",
    "# add the output layer\n",
    "model.add(Dense(units=1, activation='linear'))"
   ]
  },
  {
   "cell_type": "code",
   "execution_count": 45,
   "metadata": {
    "ExecuteTime": {
     "end_time": "2019-06-29T15:13:51.617603Z",
     "start_time": "2019-06-29T15:13:51.473665Z"
    }
   },
   "outputs": [],
   "source": [
    "# set training configuration\n",
    "model.compile(\n",
    "    loss='mean_absolute_error',\n",
    "    optimizer='adam'\n",
    ")"
   ]
  },
  {
   "cell_type": "code",
   "execution_count": 46,
   "metadata": {
    "ExecuteTime": {
     "end_time": "2019-06-29T15:14:12.683382Z",
     "start_time": "2019-06-29T15:13:52.075567Z"
    }
   },
   "outputs": [
    {
     "name": "stdout",
     "output_type": "stream",
     "text": [
      "WARNING:tensorflow:From /home/tom/footbot/venv/lib/python3.6/site-packages/tensorflow/python/ops/math_ops.py:3066: to_int32 (from tensorflow.python.ops.math_ops) is deprecated and will be removed in a future version.\n",
      "Instructions for updating:\n",
      "Use tf.cast instead.\n",
      "Epoch 1/20\n",
      "7205/7205 [==============================] - 1s 182us/sample - loss: 0.3962\n",
      "Epoch 2/20\n",
      "7205/7205 [==============================] - 1s 136us/sample - loss: 0.1751\n",
      "Epoch 3/20\n",
      "7205/7205 [==============================] - 1s 138us/sample - loss: 0.1356\n",
      "Epoch 4/20\n",
      "7205/7205 [==============================] - 1s 135us/sample - loss: 0.1176\n",
      "Epoch 5/20\n",
      "7205/7205 [==============================] - 1s 141us/sample - loss: 0.1105\n",
      "Epoch 6/20\n",
      "7205/7205 [==============================] - 1s 139us/sample - loss: 0.1090\n",
      "Epoch 7/20\n",
      "7205/7205 [==============================] - 1s 137us/sample - loss: 0.1088\n",
      "Epoch 8/20\n",
      "7205/7205 [==============================] - 1s 136us/sample - loss: 0.1085\n",
      "Epoch 9/20\n",
      "7205/7205 [==============================] - 1s 136us/sample - loss: 0.1083\n",
      "Epoch 10/20\n",
      "7205/7205 [==============================] - 1s 136us/sample - loss: 0.1083\n",
      "Epoch 11/20\n",
      "7205/7205 [==============================] - 1s 137us/sample - loss: 0.1081\n",
      "Epoch 12/20\n",
      "7205/7205 [==============================] - 1s 135us/sample - loss: 0.1081\n",
      "Epoch 13/20\n",
      "7205/7205 [==============================] - 1s 136us/sample - loss: 0.1079\n",
      "Epoch 14/20\n",
      "7205/7205 [==============================] - 1s 143us/sample - loss: 0.1079\n",
      "Epoch 15/20\n",
      "7205/7205 [==============================] - 1s 137us/sample - loss: 0.1078\n",
      "Epoch 16/20\n",
      "7205/7205 [==============================] - 1s 142us/sample - loss: 0.1076\n",
      "Epoch 17/20\n",
      "7205/7205 [==============================] - 1s 137us/sample - loss: 0.1076\n",
      "Epoch 18/20\n",
      "7205/7205 [==============================] - 1s 139us/sample - loss: 0.1074\n",
      "Epoch 19/20\n",
      "7205/7205 [==============================] - 1s 140us/sample - loss: 0.1073\n",
      "Epoch 20/20\n",
      "7205/7205 [==============================] - 1s 139us/sample - loss: 0.1073\n"
     ]
    },
    {
     "data": {
      "text/plain": [
       "<tensorflow.python.keras.callbacks.History at 0x7fef48274e48>"
      ]
     },
     "execution_count": 46,
     "metadata": {},
     "output_type": "execute_result"
    }
   ],
   "source": [
    "# train model on training set\n",
    "model.fit(\n",
    "    X_train, # explanatory variable training data\n",
    "    y_train, # response variable training data\n",
    "    epochs=20, # number of training iterations\n",
    "    batch_size=10, # investigate this - The batch size that you specify in the code above defines the number of samples that going to be propagated through the network\n",
    "    verbose=1 # monitor training progress\n",
    ")"
   ]
  },
  {
   "cell_type": "code",
   "execution_count": 47,
   "metadata": {
    "ExecuteTime": {
     "end_time": "2019-06-29T15:14:12.760249Z",
     "start_time": "2019-06-29T15:14:12.687016Z"
    }
   },
   "outputs": [
    {
     "data": {
      "text/plain": [
       "(0.10198090648326079, 0.12193335305954586)"
      ]
     },
     "execution_count": 47,
     "metadata": {},
     "output_type": "execute_result"
    }
   ],
   "source": [
    "# get predictions for test set\n",
    "y_pred = model.predict(X_test).flatten()\n",
    "\n",
    "# calculate cross entropy loss for test set\n",
    "test_loss = (mean_absolute_error(y_test, y_pred), mean_squared_error(y_test, y_pred))\n",
    "test_loss"
   ]
  }
 ],
 "metadata": {
  "kernelspec": {
   "display_name": "Python 3",
   "language": "python",
   "name": "python3"
  },
  "language_info": {
   "codemirror_mode": {
    "name": "ipython",
    "version": 3
   },
   "file_extension": ".py",
   "mimetype": "text/x-python",
   "name": "python",
   "nbconvert_exporter": "python",
   "pygments_lexer": "ipython3",
   "version": "3.6.7"
  },
  "toc": {
   "nav_menu": {},
   "number_sections": true,
   "sideBar": true,
   "skip_h1_title": false,
   "title_cell": "Table of Contents",
   "title_sidebar": "Contents",
   "toc_cell": false,
   "toc_position": {},
   "toc_section_display": true,
   "toc_window_display": false
  }
 },
 "nbformat": 4,
 "nbformat_minor": 2
}
