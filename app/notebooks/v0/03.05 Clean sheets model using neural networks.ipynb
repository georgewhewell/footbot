{
 "cells": [
  {
   "cell_type": "markdown",
   "metadata": {},
   "source": [
    "# Set up"
   ]
  },
  {
   "cell_type": "code",
   "execution_count": 1,
   "metadata": {
    "ExecuteTime": {
     "end_time": "2019-04-10T15:38:13.550460Z",
     "start_time": "2019-04-10T15:38:13.545847Z"
    }
   },
   "outputs": [],
   "source": [
    "# update path with data dir\n",
    "import sys\n",
    "sys.path.append('../data/')\n",
    "sys.path.append('../modelling/')"
   ]
  },
  {
   "cell_type": "code",
   "execution_count": 36,
   "metadata": {
    "ExecuteTime": {
     "end_time": "2019-04-10T15:40:05.640803Z",
     "start_time": "2019-04-10T15:40:05.631412Z"
    }
   },
   "outputs": [],
   "source": [
    "import player_data as player\n",
    "from tensorflow.keras.models import Sequential\n",
    "from tensorflow.keras.layers import Dense\n",
    "from tensorflow.keras.wrappers.scikit_learn import KerasClassifier\n",
    "import pandas as pd\n",
    "from sklearn.model_selection import train_test_split, GridSearchCV\n",
    "from sklearn.preprocessing import StandardScaler\n",
    "from sklearn.metrics import mean_absolute_error, precision_score, recall_score\n",
    "import patsy\n",
    "from datetime import datetime\n",
    "import numpy as np"
   ]
  },
  {
   "cell_type": "code",
   "execution_count": 3,
   "metadata": {
    "ExecuteTime": {
     "end_time": "2019-04-10T15:38:16.096961Z",
     "start_time": "2019-04-10T15:38:16.093188Z"
    }
   },
   "outputs": [],
   "source": [
    "response_variable = 'clean_sheets'"
   ]
  },
  {
   "cell_type": "markdown",
   "metadata": {},
   "source": [
    "# Getting data"
   ]
  },
  {
   "cell_type": "code",
   "execution_count": 4,
   "metadata": {
    "ExecuteTime": {
     "end_time": "2019-04-10T15:38:16.127753Z",
     "start_time": "2019-04-10T15:38:16.099644Z"
    }
   },
   "outputs": [],
   "source": [
    "file_name = 'csvs/element_gameweek_' + datetime.today().strftime('%Y-%m-%d') + '.csv'"
   ]
  },
  {
   "cell_type": "code",
   "execution_count": 5,
   "metadata": {
    "ExecuteTime": {
     "end_time": "2019-04-10T15:38:16.334844Z",
     "start_time": "2019-04-10T15:38:16.131269Z"
    }
   },
   "outputs": [],
   "source": [
    "try:\n",
    "    element_gameweek_df = pd.read_csv(file_name)\n",
    "except:\n",
    "    element_gameweek_df = player.get_element_gameweek_df()\n",
    "    element_gameweek_df.to_csv(file_name)"
   ]
  },
  {
   "cell_type": "code",
   "execution_count": 6,
   "metadata": {
    "ExecuteTime": {
     "end_time": "2019-04-10T15:38:16.344283Z",
     "start_time": "2019-04-10T15:38:16.339398Z"
    }
   },
   "outputs": [],
   "source": [
    "current_event = 32\n",
    "element_types = [2, 3, 4]\n",
    "threshold_minutes = 1"
   ]
  },
  {
   "cell_type": "code",
   "execution_count": 7,
   "metadata": {
    "ExecuteTime": {
     "end_time": "2019-04-10T15:38:16.386006Z",
     "start_time": "2019-04-10T15:38:16.348679Z"
    }
   },
   "outputs": [],
   "source": [
    "element_gameweek_df =\\\n",
    "element_gameweek_df[\n",
    "    (element_gameweek_df['event'] <= current_event)\n",
    "    & (element_gameweek_df['element_type'].isin(element_types))\n",
    "    & (element_gameweek_df['minutes'] >= threshold_minutes)\n",
    "]"
   ]
  },
  {
   "cell_type": "code",
   "execution_count": 8,
   "metadata": {
    "ExecuteTime": {
     "end_time": "2019-04-10T15:38:16.536324Z",
     "start_time": "2019-04-10T15:38:16.389276Z"
    }
   },
   "outputs": [],
   "source": [
    "player.add_home_categorical_variable(element_gameweek_df)"
   ]
  },
  {
   "cell_type": "code",
   "execution_count": 9,
   "metadata": {
    "ExecuteTime": {
     "end_time": "2019-04-10T15:38:16.571224Z",
     "start_time": "2019-04-10T15:38:16.540845Z"
    }
   },
   "outputs": [],
   "source": [
    "element_gameweek_df['clean_sheets_no_time'] =\\\n",
    "element_gameweek_df['goals_conceded'].apply(lambda x: 1 if x == 0 else 0)"
   ]
  },
  {
   "cell_type": "code",
   "execution_count": 10,
   "metadata": {
    "ExecuteTime": {
     "end_time": "2019-04-10T15:38:16.598301Z",
     "start_time": "2019-04-10T15:38:16.574010Z"
    }
   },
   "outputs": [],
   "source": [
    "element_gameweek_df['row_id'] = element_gameweek_df['row_id'].rank()"
   ]
  },
  {
   "cell_type": "code",
   "execution_count": 11,
   "metadata": {
    "ExecuteTime": {
     "end_time": "2019-04-10T15:38:16.633411Z",
     "start_time": "2019-04-10T15:38:16.600802Z"
    }
   },
   "outputs": [],
   "source": [
    "element_gameweek_df['element_fixture_rank'] = element_gameweek_df.groupby('element')['row_id'].rank()"
   ]
  },
  {
   "cell_type": "code",
   "execution_count": 12,
   "metadata": {
    "ExecuteTime": {
     "end_time": "2019-04-10T15:38:16.645410Z",
     "start_time": "2019-04-10T15:38:16.635984Z"
    }
   },
   "outputs": [],
   "source": [
    "rolling_cols = [\n",
    "    'clearances_blocks_interceptions',\n",
    "    'errors_leading_to_goal',\n",
    "    'errors_leading_to_goal_attempt',\n",
    "    'goals_conceded',\n",
    "    'saves',\n",
    "    'penalties_saved',\n",
    "    'tackles'\n",
    "]"
   ]
  },
  {
   "cell_type": "code",
   "execution_count": 13,
   "metadata": {
    "ExecuteTime": {
     "end_time": "2019-04-10T15:38:17.591098Z",
     "start_time": "2019-04-10T15:38:16.647902Z"
    }
   },
   "outputs": [],
   "source": [
    "rolling_df = \\\n",
    "element_gameweek_df.copy().groupby('element', as_index=True)[['minutes'] + rolling_cols]\\\n",
    ".rolling(38, min_periods=1).sum().reset_index()[['element', 'minutes'] + rolling_cols]"
   ]
  },
  {
   "cell_type": "code",
   "execution_count": 14,
   "metadata": {
    "ExecuteTime": {
     "end_time": "2019-04-10T15:38:17.728751Z",
     "start_time": "2019-04-10T15:38:17.595446Z"
    }
   },
   "outputs": [],
   "source": [
    "rolling_df['element_fixture_rank'] = rolling_df.groupby('element')['minutes'].rank()"
   ]
  },
  {
   "cell_type": "code",
   "execution_count": 15,
   "metadata": {
    "ExecuteTime": {
     "end_time": "2019-04-10T15:38:17.737193Z",
     "start_time": "2019-04-10T15:38:17.731557Z"
    }
   },
   "outputs": [],
   "source": [
    "rolling_df['element_fixture_rank'] = rolling_df['element_fixture_rank'] + 1"
   ]
  },
  {
   "cell_type": "code",
   "execution_count": 16,
   "metadata": {
    "ExecuteTime": {
     "end_time": "2019-04-10T15:38:17.778469Z",
     "start_time": "2019-04-10T15:38:17.739552Z"
    }
   },
   "outputs": [],
   "source": [
    "element_gameweek_df =\\\n",
    "element_gameweek_df.join(\n",
    "    rolling_df.set_index(['element', 'element_fixture_rank']),\n",
    "    on=['element', 'element_fixture_rank'],\n",
    "    rsuffix='_rolling')"
   ]
  },
  {
   "cell_type": "code",
   "execution_count": 17,
   "metadata": {
    "ExecuteTime": {
     "end_time": "2019-04-10T15:38:17.797839Z",
     "start_time": "2019-04-10T15:38:17.781062Z"
    }
   },
   "outputs": [],
   "source": [
    "for i in rolling_cols:\n",
    "    element_gameweek_df[i + '_per_minute_rolling'] = \\\n",
    "    element_gameweek_df[i + '_rolling'] / element_gameweek_df['minutes_rolling']"
   ]
  },
  {
   "cell_type": "code",
   "execution_count": 18,
   "metadata": {
    "ExecuteTime": {
     "end_time": "2019-04-10T15:38:18.782537Z",
     "start_time": "2019-04-10T15:38:17.801674Z"
    }
   },
   "outputs": [],
   "source": [
    "rolling_p5_df = \\\n",
    "element_gameweek_df.copy().groupby('element', as_index=True)[['minutes'] + rolling_cols]\\\n",
    ".rolling(5, min_periods=1).sum().reset_index()[['element', 'minutes'] + rolling_cols]"
   ]
  },
  {
   "cell_type": "code",
   "execution_count": 19,
   "metadata": {
    "ExecuteTime": {
     "end_time": "2019-04-10T15:38:18.911047Z",
     "start_time": "2019-04-10T15:38:18.794482Z"
    }
   },
   "outputs": [],
   "source": [
    "rolling_p5_df['element_fixture_rank'] = rolling_p5_df.groupby('element')['minutes'].rank()"
   ]
  },
  {
   "cell_type": "code",
   "execution_count": 20,
   "metadata": {
    "ExecuteTime": {
     "end_time": "2019-04-10T15:38:18.923204Z",
     "start_time": "2019-04-10T15:38:18.915860Z"
    }
   },
   "outputs": [],
   "source": [
    "rolling_p5_df['element_fixture_rank'] = rolling_p5_df['element_fixture_rank'] + 1"
   ]
  },
  {
   "cell_type": "code",
   "execution_count": 21,
   "metadata": {
    "ExecuteTime": {
     "end_time": "2019-04-10T15:38:18.980800Z",
     "start_time": "2019-04-10T15:38:18.926623Z"
    }
   },
   "outputs": [],
   "source": [
    "element_gameweek_df =\\\n",
    "element_gameweek_df.join(\n",
    "    rolling_p5_df.set_index(['element', 'element_fixture_rank']),\n",
    "    on=['element', 'element_fixture_rank'],\n",
    "    rsuffix='_rolling_p5')"
   ]
  },
  {
   "cell_type": "code",
   "execution_count": 22,
   "metadata": {
    "ExecuteTime": {
     "end_time": "2019-04-10T15:38:18.996264Z",
     "start_time": "2019-04-10T15:38:18.983569Z"
    }
   },
   "outputs": [],
   "source": [
    "for i in rolling_cols:\n",
    "    element_gameweek_df[i + '_per_minute_rolling_p5'] = \\\n",
    "    element_gameweek_df[i + '_rolling_p5'] / element_gameweek_df['minutes_rolling']"
   ]
  },
  {
   "cell_type": "code",
   "execution_count": 23,
   "metadata": {
    "ExecuteTime": {
     "end_time": "2019-04-10T15:38:19.075532Z",
     "start_time": "2019-04-10T15:38:18.998598Z"
    }
   },
   "outputs": [
    {
     "data": {
      "text/html": [
       "<div>\n",
       "<style scoped>\n",
       "    .dataframe tbody tr th:only-of-type {\n",
       "        vertical-align: middle;\n",
       "    }\n",
       "\n",
       "    .dataframe tbody tr th {\n",
       "        vertical-align: top;\n",
       "    }\n",
       "\n",
       "    .dataframe thead th {\n",
       "        text-align: right;\n",
       "    }\n",
       "</style>\n",
       "<table border=\"1\" class=\"dataframe\">\n",
       "  <thead>\n",
       "    <tr style=\"text-align: right;\">\n",
       "      <th></th>\n",
       "      <th>row_id</th>\n",
       "      <th>assists</th>\n",
       "      <th>attempted_passes</th>\n",
       "      <th>big_chances_created</th>\n",
       "      <th>big_chances_missed</th>\n",
       "      <th>bonus</th>\n",
       "      <th>bps</th>\n",
       "      <th>clean_sheets</th>\n",
       "      <th>clearances_blocks_interceptions</th>\n",
       "      <th>completed_passes</th>\n",
       "      <th>...</th>\n",
       "      <th>saves_rolling_p5</th>\n",
       "      <th>penalties_saved_rolling_p5</th>\n",
       "      <th>tackles_rolling_p5</th>\n",
       "      <th>clearances_blocks_interceptions_per_minute_rolling_p5</th>\n",
       "      <th>errors_leading_to_goal_per_minute_rolling_p5</th>\n",
       "      <th>errors_leading_to_goal_attempt_per_minute_rolling_p5</th>\n",
       "      <th>goals_conceded_per_minute_rolling_p5</th>\n",
       "      <th>saves_per_minute_rolling_p5</th>\n",
       "      <th>penalties_saved_per_minute_rolling_p5</th>\n",
       "      <th>tackles_per_minute_rolling_p5</th>\n",
       "    </tr>\n",
       "  </thead>\n",
       "  <tbody>\n",
       "    <tr>\n",
       "      <th>80</th>\n",
       "      <td>1.0</td>\n",
       "      <td>0</td>\n",
       "      <td>92</td>\n",
       "      <td>0</td>\n",
       "      <td>0</td>\n",
       "      <td>0</td>\n",
       "      <td>11</td>\n",
       "      <td>0</td>\n",
       "      <td>6</td>\n",
       "      <td>85</td>\n",
       "      <td>...</td>\n",
       "      <td>NaN</td>\n",
       "      <td>NaN</td>\n",
       "      <td>NaN</td>\n",
       "      <td>NaN</td>\n",
       "      <td>NaN</td>\n",
       "      <td>NaN</td>\n",
       "      <td>NaN</td>\n",
       "      <td>NaN</td>\n",
       "      <td>NaN</td>\n",
       "      <td>NaN</td>\n",
       "    </tr>\n",
       "    <tr>\n",
       "      <th>82</th>\n",
       "      <td>2.0</td>\n",
       "      <td>0</td>\n",
       "      <td>74</td>\n",
       "      <td>0</td>\n",
       "      <td>0</td>\n",
       "      <td>0</td>\n",
       "      <td>17</td>\n",
       "      <td>0</td>\n",
       "      <td>4</td>\n",
       "      <td>70</td>\n",
       "      <td>...</td>\n",
       "      <td>0.0</td>\n",
       "      <td>0.0</td>\n",
       "      <td>0.0</td>\n",
       "      <td>0.066667</td>\n",
       "      <td>0.0</td>\n",
       "      <td>0.0</td>\n",
       "      <td>0.033333</td>\n",
       "      <td>0.0</td>\n",
       "      <td>0.0</td>\n",
       "      <td>0.000000</td>\n",
       "    </tr>\n",
       "    <tr>\n",
       "      <th>83</th>\n",
       "      <td>3.0</td>\n",
       "      <td>0</td>\n",
       "      <td>38</td>\n",
       "      <td>0</td>\n",
       "      <td>0</td>\n",
       "      <td>0</td>\n",
       "      <td>10</td>\n",
       "      <td>0</td>\n",
       "      <td>2</td>\n",
       "      <td>36</td>\n",
       "      <td>...</td>\n",
       "      <td>0.0</td>\n",
       "      <td>0.0</td>\n",
       "      <td>1.0</td>\n",
       "      <td>0.062893</td>\n",
       "      <td>0.0</td>\n",
       "      <td>0.0</td>\n",
       "      <td>0.025157</td>\n",
       "      <td>0.0</td>\n",
       "      <td>0.0</td>\n",
       "      <td>0.006289</td>\n",
       "    </tr>\n",
       "    <tr>\n",
       "      <th>84</th>\n",
       "      <td>4.0</td>\n",
       "      <td>0</td>\n",
       "      <td>64</td>\n",
       "      <td>0</td>\n",
       "      <td>0</td>\n",
       "      <td>0</td>\n",
       "      <td>19</td>\n",
       "      <td>0</td>\n",
       "      <td>10</td>\n",
       "      <td>57</td>\n",
       "      <td>...</td>\n",
       "      <td>0.0</td>\n",
       "      <td>0.0</td>\n",
       "      <td>1.0</td>\n",
       "      <td>0.058824</td>\n",
       "      <td>0.0</td>\n",
       "      <td>0.0</td>\n",
       "      <td>0.024510</td>\n",
       "      <td>0.0</td>\n",
       "      <td>0.0</td>\n",
       "      <td>0.004902</td>\n",
       "    </tr>\n",
       "    <tr>\n",
       "      <th>85</th>\n",
       "      <td>5.0</td>\n",
       "      <td>0</td>\n",
       "      <td>89</td>\n",
       "      <td>0</td>\n",
       "      <td>0</td>\n",
       "      <td>0</td>\n",
       "      <td>17</td>\n",
       "      <td>0</td>\n",
       "      <td>2</td>\n",
       "      <td>87</td>\n",
       "      <td>...</td>\n",
       "      <td>0.0</td>\n",
       "      <td>0.0</td>\n",
       "      <td>2.0</td>\n",
       "      <td>0.074830</td>\n",
       "      <td>0.0</td>\n",
       "      <td>0.0</td>\n",
       "      <td>0.020408</td>\n",
       "      <td>0.0</td>\n",
       "      <td>0.0</td>\n",
       "      <td>0.006803</td>\n",
       "    </tr>\n",
       "  </tbody>\n",
       "</table>\n",
       "<p>5 rows × 98 columns</p>\n",
       "</div>"
      ],
      "text/plain": [
       "    row_id  assists  attempted_passes  big_chances_created  \\\n",
       "80     1.0        0                92                    0   \n",
       "82     2.0        0                74                    0   \n",
       "83     3.0        0                38                    0   \n",
       "84     4.0        0                64                    0   \n",
       "85     5.0        0                89                    0   \n",
       "\n",
       "    big_chances_missed  bonus  bps  clean_sheets  \\\n",
       "80                   0      0   11             0   \n",
       "82                   0      0   17             0   \n",
       "83                   0      0   10             0   \n",
       "84                   0      0   19             0   \n",
       "85                   0      0   17             0   \n",
       "\n",
       "    clearances_blocks_interceptions  completed_passes  \\\n",
       "80                                6                85   \n",
       "82                                4                70   \n",
       "83                                2                36   \n",
       "84                               10                57   \n",
       "85                                2                87   \n",
       "\n",
       "                ...                saves_rolling_p5  \\\n",
       "80              ...                             NaN   \n",
       "82              ...                             0.0   \n",
       "83              ...                             0.0   \n",
       "84              ...                             0.0   \n",
       "85              ...                             0.0   \n",
       "\n",
       "    penalties_saved_rolling_p5  tackles_rolling_p5  \\\n",
       "80                         NaN                 NaN   \n",
       "82                         0.0                 0.0   \n",
       "83                         0.0                 1.0   \n",
       "84                         0.0                 1.0   \n",
       "85                         0.0                 2.0   \n",
       "\n",
       "    clearances_blocks_interceptions_per_minute_rolling_p5  \\\n",
       "80                                                NaN       \n",
       "82                                           0.066667       \n",
       "83                                           0.062893       \n",
       "84                                           0.058824       \n",
       "85                                           0.074830       \n",
       "\n",
       "    errors_leading_to_goal_per_minute_rolling_p5  \\\n",
       "80                                           NaN   \n",
       "82                                           0.0   \n",
       "83                                           0.0   \n",
       "84                                           0.0   \n",
       "85                                           0.0   \n",
       "\n",
       "    errors_leading_to_goal_attempt_per_minute_rolling_p5  \\\n",
       "80                                                NaN      \n",
       "82                                                0.0      \n",
       "83                                                0.0      \n",
       "84                                                0.0      \n",
       "85                                                0.0      \n",
       "\n",
       "    goals_conceded_per_minute_rolling_p5  saves_per_minute_rolling_p5  \\\n",
       "80                                   NaN                          NaN   \n",
       "82                              0.033333                          0.0   \n",
       "83                              0.025157                          0.0   \n",
       "84                              0.024510                          0.0   \n",
       "85                              0.020408                          0.0   \n",
       "\n",
       "    penalties_saved_per_minute_rolling_p5  tackles_per_minute_rolling_p5  \n",
       "80                                    NaN                            NaN  \n",
       "82                                    0.0                       0.000000  \n",
       "83                                    0.0                       0.006289  \n",
       "84                                    0.0                       0.004902  \n",
       "85                                    0.0                       0.006803  \n",
       "\n",
       "[5 rows x 98 columns]"
      ]
     },
     "execution_count": 23,
     "metadata": {},
     "output_type": "execute_result"
    }
   ],
   "source": [
    "element_gameweek_df.head()"
   ]
  },
  {
   "cell_type": "code",
   "execution_count": 24,
   "metadata": {
    "ExecuteTime": {
     "end_time": "2019-04-10T15:38:19.083888Z",
     "start_time": "2019-04-10T15:38:19.078090Z"
    }
   },
   "outputs": [
    {
     "data": {
      "text/plain": [
       "Index(['row_id', 'assists', 'attempted_passes', 'big_chances_created',\n",
       "       'big_chances_missed', 'bonus', 'bps', 'clean_sheets',\n",
       "       'clearances_blocks_interceptions', 'completed_passes', 'creativity',\n",
       "       'dribbles', 'ea_index', 'element', 'errors_leading_to_goal',\n",
       "       'errors_leading_to_goal_attempt', 'fixture', 'fouls', 'goals_conceded',\n",
       "       'goals_scored', 'ict_index', 'id', 'influence', 'key_passes',\n",
       "       'kickoff_time', 'kickoff_time_formatted', 'loaned_in', 'loaned_out',\n",
       "       'minutes', 'offside', 'open_play_crosses', 'opponent_team', 'own_goals',\n",
       "       'penalties_conceded', 'penalties_missed', 'penalties_saved',\n",
       "       'recoveries', 'red_cards', 'round', 'saves', 'selected', 'tackled',\n",
       "       'tackles', 'target_missed', 'team_a_score', 'team_h_score', 'threat',\n",
       "       'total_points', 'transfers_balance', 'transfers_in', 'transfers_out',\n",
       "       'value', 'was_home', 'winning_goals', 'yellow_cards', 'event', 'team_a',\n",
       "       'team_a_difficulty', 'team_h', 'team_h_difficulty', 'element_type',\n",
       "       'team', 'web_name', 'safe_web_name', 'own_team', 'opposition_team',\n",
       "       'clean_sheets_no_time', 'element_fixture_rank', 'minutes_rolling',\n",
       "       'clearances_blocks_interceptions_rolling',\n",
       "       'errors_leading_to_goal_rolling',\n",
       "       'errors_leading_to_goal_attempt_rolling', 'goals_conceded_rolling',\n",
       "       'saves_rolling', 'penalties_saved_rolling', 'tackles_rolling',\n",
       "       'clearances_blocks_interceptions_per_minute_rolling',\n",
       "       'errors_leading_to_goal_per_minute_rolling',\n",
       "       'errors_leading_to_goal_attempt_per_minute_rolling',\n",
       "       'goals_conceded_per_minute_rolling', 'saves_per_minute_rolling',\n",
       "       'penalties_saved_per_minute_rolling', 'tackles_per_minute_rolling',\n",
       "       'minutes_rolling_p5', 'clearances_blocks_interceptions_rolling_p5',\n",
       "       'errors_leading_to_goal_rolling_p5',\n",
       "       'errors_leading_to_goal_attempt_rolling_p5',\n",
       "       'goals_conceded_rolling_p5', 'saves_rolling_p5',\n",
       "       'penalties_saved_rolling_p5', 'tackles_rolling_p5',\n",
       "       'clearances_blocks_interceptions_per_minute_rolling_p5',\n",
       "       'errors_leading_to_goal_per_minute_rolling_p5',\n",
       "       'errors_leading_to_goal_attempt_per_minute_rolling_p5',\n",
       "       'goals_conceded_per_minute_rolling_p5', 'saves_per_minute_rolling_p5',\n",
       "       'penalties_saved_per_minute_rolling_p5',\n",
       "       'tackles_per_minute_rolling_p5'],\n",
       "      dtype='object')"
      ]
     },
     "execution_count": 24,
     "metadata": {},
     "output_type": "execute_result"
    }
   ],
   "source": [
    "element_gameweek_df.columns"
   ]
  },
  {
   "cell_type": "markdown",
   "metadata": {},
   "source": [
    "# Neural network"
   ]
  },
  {
   "cell_type": "code",
   "execution_count": 116,
   "metadata": {
    "ExecuteTime": {
     "end_time": "2019-04-10T15:53:18.173937Z",
     "start_time": "2019-04-10T15:53:18.165077Z"
    }
   },
   "outputs": [],
   "source": [
    "def add_missing_columns(df, columns):\n",
    "    for col in set(columns) - set(df.columns):\n",
    "        df[col] = np.zeros(len(df))\n",
    "    \n",
    "    return df[columns]"
   ]
  },
  {
   "cell_type": "code",
   "execution_count": 117,
   "metadata": {
    "ExecuteTime": {
     "end_time": "2019-04-10T15:53:18.356002Z",
     "start_time": "2019-04-10T15:53:18.346070Z"
    }
   },
   "outputs": [
    {
     "name": "stdout",
     "output_type": "stream",
     "text": [
      "clean_sheets ~ C(element) + C(opposition_team) + was_home  + clearances_blocks_interceptions_per_minute_rolling + errors_leading_to_goal_per_minute_rolling + errors_leading_to_goal_attempt_per_minute_rolling + goals_conceded_per_minute_rolling + saves_per_minute_rolling + penalties_saved_per_minute_rolling + tackles_per_minute_rolling\n"
     ]
    }
   ],
   "source": [
    "rolling_vars = ' + '.join([i + '_per_minute_rolling' for i in rolling_cols])\n",
    "rolling_p5_vars = ' + '.join([i + '_per_minute_rolling_p5' for i in rolling_cols])\n",
    "\n",
    "formula = \\\n",
    "f'{response_variable} ~ C(element) + C(opposition_team) + was_home  + ' + rolling_vars\n",
    "#+ ' + ' + rolling_p5_vars\n",
    "\n",
    "print(formula)"
   ]
  },
  {
   "cell_type": "code",
   "execution_count": 118,
   "metadata": {
    "ExecuteTime": {
     "end_time": "2019-04-10T15:53:18.828195Z",
     "start_time": "2019-04-10T15:53:18.508413Z"
    }
   },
   "outputs": [],
   "source": [
    "y, X = patsy.dmatrices(formula, element_gameweek_df, return_type='dataframe')"
   ]
  },
  {
   "cell_type": "code",
   "execution_count": 119,
   "metadata": {
    "ExecuteTime": {
     "end_time": "2019-04-10T15:53:18.836078Z",
     "start_time": "2019-04-10T15:53:18.831316Z"
    }
   },
   "outputs": [
    {
     "data": {
      "text/plain": [
       "486"
      ]
     },
     "execution_count": 119,
     "metadata": {},
     "output_type": "execute_result"
    }
   ],
   "source": [
    "len(X.columns)"
   ]
  },
  {
   "cell_type": "code",
   "execution_count": 120,
   "metadata": {
    "ExecuteTime": {
     "end_time": "2019-04-10T15:53:18.881880Z",
     "start_time": "2019-04-10T15:53:18.846770Z"
    }
   },
   "outputs": [],
   "source": [
    "X_train, X_test, y_train, y_test = train_test_split(X, y, test_size=0.25)"
   ]
  },
  {
   "cell_type": "code",
   "execution_count": 121,
   "metadata": {
    "ExecuteTime": {
     "end_time": "2019-04-10T15:53:19.202034Z",
     "start_time": "2019-04-10T15:53:19.173097Z"
    }
   },
   "outputs": [],
   "source": [
    "X_train = add_missing_columns(X_train, X.columns)\n",
    "X_test = add_missing_columns(X_test, X.columns)"
   ]
  },
  {
   "cell_type": "code",
   "execution_count": 122,
   "metadata": {
    "ExecuteTime": {
     "end_time": "2019-04-10T15:53:19.491512Z",
     "start_time": "2019-04-10T15:53:19.335954Z"
    }
   },
   "outputs": [],
   "source": [
    "# standardise explanatory data by subtracting the mean and scaling to unit variance\n",
    "# find standardising transformations based on training set\n",
    "scaler = StandardScaler().fit(X_train)\n",
    "\n",
    "# standardise training set\n",
    "X_train = scaler.transform(X_train)\n",
    "\n",
    "# standardise test set\n",
    "X_test = scaler.transform(X_test)"
   ]
  },
  {
   "cell_type": "code",
   "execution_count": 123,
   "metadata": {
    "ExecuteTime": {
     "end_time": "2019-04-10T15:53:19.639331Z",
     "start_time": "2019-04-10T15:53:19.499818Z"
    }
   },
   "outputs": [],
   "source": [
    "# instantiate model\n",
    "model = Sequential()\n",
    "\n",
    "# add the input layer, i.e. first hidden layer\n",
    "model.add(Dense(units=25, activation='relu', input_shape=(len(X.columns),)))\n",
    "\n",
    "# add a hidden layer\n",
    "model.add(Dense(units=25, activation='relu'))\n",
    "\n",
    "# add a hidden layer\n",
    "model.add(Dense(units=25, activation='relu'))\n",
    "\n",
    "# add a hidden layer\n",
    "model.add(Dense(units=25, activation='relu'))\n",
    "          \n",
    "# add the output layer\n",
    "model.add(Dense(units=1, activation='sigmoid'))"
   ]
  },
  {
   "cell_type": "code",
   "execution_count": 124,
   "metadata": {
    "ExecuteTime": {
     "end_time": "2019-04-10T15:53:20.013197Z",
     "start_time": "2019-04-10T15:53:19.671099Z"
    }
   },
   "outputs": [],
   "source": [
    "# set training configuration\n",
    "model.compile(\n",
    "    loss='binary_crossentropy',\n",
    "    optimizer='adam'\n",
    ")"
   ]
  },
  {
   "cell_type": "code",
   "execution_count": 125,
   "metadata": {
    "ExecuteTime": {
     "end_time": "2019-04-10T15:53:52.022682Z",
     "start_time": "2019-04-10T15:53:20.067287Z"
    }
   },
   "outputs": [
    {
     "name": "stdout",
     "output_type": "stream",
     "text": [
      "Epoch 1/20\n",
      "6861/6861 [==============================] - 3s 385us/sample - loss: 0.5233\n",
      "Epoch 2/20\n",
      "6861/6861 [==============================] - 2s 226us/sample - loss: 0.4627\n",
      "Epoch 3/20\n",
      "6861/6861 [==============================] - 2s 224us/sample - loss: 0.4300\n",
      "Epoch 4/20\n",
      "6861/6861 [==============================] - 1s 212us/sample - loss: 0.4002\n",
      "Epoch 5/20\n",
      "6861/6861 [==============================] - 1s 209us/sample - loss: 0.3658\n",
      "Epoch 6/20\n",
      "6861/6861 [==============================] - 1s 216us/sample - loss: 0.3270\n",
      "Epoch 7/20\n",
      "6861/6861 [==============================] - 1s 217us/sample - loss: 0.2930\n",
      "Epoch 8/20\n",
      "6861/6861 [==============================] - 2s 221us/sample - loss: 0.2612\n",
      "Epoch 9/20\n",
      "6861/6861 [==============================] - 1s 213us/sample - loss: 0.2275\n",
      "Epoch 10/20\n",
      "6861/6861 [==============================] - 1s 218us/sample - loss: 0.1968\n",
      "Epoch 11/20\n",
      "6861/6861 [==============================] - 1s 217us/sample - loss: 0.1707\n",
      "Epoch 12/20\n",
      "6861/6861 [==============================] - 2s 222us/sample - loss: 0.1418\n",
      "Epoch 13/20\n",
      "6861/6861 [==============================] - 2s 224us/sample - loss: 0.1313\n",
      "Epoch 14/20\n",
      "6861/6861 [==============================] - 2s 219us/sample - loss: 0.1014\n",
      "Epoch 15/20\n",
      "6861/6861 [==============================] - 1s 215us/sample - loss: 0.0882\n",
      "Epoch 16/20\n",
      "6861/6861 [==============================] - 2s 221us/sample - loss: 0.0870\n",
      "Epoch 17/20\n",
      "6861/6861 [==============================] - 2s 229us/sample - loss: 0.0695\n",
      "Epoch 18/20\n",
      "6861/6861 [==============================] - 1s 203us/sample - loss: 0.0596\n",
      "Epoch 19/20\n",
      "6861/6861 [==============================] - 1s 213us/sample - loss: 0.0539\n",
      "Epoch 20/20\n",
      "6861/6861 [==============================] - 2s 243us/sample - loss: 0.0454\n"
     ]
    },
    {
     "data": {
      "text/plain": [
       "<tensorflow.python.keras.callbacks.History at 0x7f38900de278>"
      ]
     },
     "execution_count": 125,
     "metadata": {},
     "output_type": "execute_result"
    }
   ],
   "source": [
    "# train model on training set\n",
    "model.fit(\n",
    "    X_train, # explanatory variable training data\n",
    "    y_train, # response variable training data\n",
    "    epochs=20, # number of training iterations\n",
    "    batch_size=10, # investigate this - The batch size that you specify in the code above defines the number of samples that going to be propagated through the network\n",
    "    verbose=1 # monitor training progress\n",
    ")"
   ]
  },
  {
   "cell_type": "code",
   "execution_count": 126,
   "metadata": {
    "ExecuteTime": {
     "end_time": "2019-04-10T15:53:52.360355Z",
     "start_time": "2019-04-10T15:53:52.025950Z"
    }
   },
   "outputs": [
    {
     "data": {
      "text/plain": [
       "{'mean_absolute_error': 0.23264430048976129,\n",
       " 'precision_score': 0.48459958932238195,\n",
       " 'recall_score': 0.4609375}"
      ]
     },
     "execution_count": 126,
     "metadata": {},
     "output_type": "execute_result"
    }
   ],
   "source": [
    "# get predictions for test set\n",
    "y_pred = model.predict(X_test).flatten()\n",
    "\n",
    "# calculate cross entropy loss for test set\n",
    "test_loss = {\n",
    "    'mean_absolute_error': mean_absolute_error(y_test, y_pred),\n",
    "    'precision_score': precision_score(y_test, [i.round() for i in y_pred]),\n",
    "    'recall_score': recall_score(y_test, [i.round() for i in y_pred])\n",
    "}\n",
    "test_loss"
   ]
  },
  {
   "cell_type": "code",
   "execution_count": 106,
   "metadata": {
    "ExecuteTime": {
     "end_time": "2019-04-10T15:48:50.683297Z",
     "start_time": "2019-04-10T15:48:50.677403Z"
    }
   },
   "outputs": [
    {
     "name": "stdout",
     "output_type": "stream",
     "text": [
      "[0.    0.    0.    ... 0.    0.    0.997]\n"
     ]
    }
   ],
   "source": [
    "print(y_pred.round(3))"
   ]
  }
 ],
 "metadata": {
  "kernelspec": {
   "display_name": "Python 3",
   "language": "python",
   "name": "python3"
  },
  "language_info": {
   "codemirror_mode": {
    "name": "ipython",
    "version": 3
   },
   "file_extension": ".py",
   "mimetype": "text/x-python",
   "name": "python",
   "nbconvert_exporter": "python",
   "pygments_lexer": "ipython3",
   "version": "3.6.7"
  },
  "toc": {
   "nav_menu": {},
   "number_sections": true,
   "sideBar": true,
   "skip_h1_title": false,
   "title_cell": "Table of Contents",
   "title_sidebar": "Contents",
   "toc_cell": false,
   "toc_position": {},
   "toc_section_display": true,
   "toc_window_display": false
  }
 },
 "nbformat": 4,
 "nbformat_minor": 2
}
