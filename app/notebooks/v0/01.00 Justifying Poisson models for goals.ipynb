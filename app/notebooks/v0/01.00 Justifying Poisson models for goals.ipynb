{
 "cells": [
  {
   "cell_type": "markdown",
   "metadata": {},
   "source": [
    "# Set up"
   ]
  },
  {
   "cell_type": "code",
   "execution_count": 2,
   "metadata": {
    "ExecuteTime": {
     "end_time": "2019-03-16T12:41:03.160847Z",
     "start_time": "2019-03-16T12:41:03.156408Z"
    }
   },
   "outputs": [],
   "source": [
    "# update path with data dir\n",
    "import sys\n",
    "sys.path.append('../data/')"
   ]
  },
  {
   "cell_type": "code",
   "execution_count": 60,
   "metadata": {
    "ExecuteTime": {
     "end_time": "2019-03-16T16:16:49.227014Z",
     "start_time": "2019-03-16T16:16:49.220170Z"
    }
   },
   "outputs": [],
   "source": [
    "import player_data as player\n",
    "import pandas as pd\n",
    "from datetime import datetime\n",
    "import matplotlib.pyplot as plt\n",
    "from scipy.stats import norm, poisson\n",
    "from numpy import linspace"
   ]
  },
  {
   "cell_type": "markdown",
   "metadata": {},
   "source": [
    "# Get data"
   ]
  },
  {
   "cell_type": "code",
   "execution_count": 4,
   "metadata": {
    "ExecuteTime": {
     "end_time": "2019-03-16T12:41:06.822748Z",
     "start_time": "2019-03-16T12:41:06.816685Z"
    }
   },
   "outputs": [],
   "source": [
    "file_name = 'csvs/element_gameweek_' + datetime.today().strftime('%Y-%m-%d') + '.csv'"
   ]
  },
  {
   "cell_type": "code",
   "execution_count": 5,
   "metadata": {
    "ExecuteTime": {
     "end_time": "2019-03-16T12:41:09.222238Z",
     "start_time": "2019-03-16T12:41:09.046591Z"
    }
   },
   "outputs": [],
   "source": [
    "try:\n",
    "    element_gameweek_df = pd.read_csv(file_name)\n",
    "except:\n",
    "    element_gameweek_df = player.get_element_gameweek_df()\n",
    "    element_gameweek_df.to_csv(file_name)"
   ]
  },
  {
   "cell_type": "code",
   "execution_count": 6,
   "metadata": {
    "ExecuteTime": {
     "end_time": "2019-03-16T12:41:10.052294Z",
     "start_time": "2019-03-16T12:41:10.046408Z"
    }
   },
   "outputs": [],
   "source": [
    "current_event = 26\n",
    "element_types = [2, 3, 4]\n",
    "threshold_minutes = 1"
   ]
  },
  {
   "cell_type": "code",
   "execution_count": 7,
   "metadata": {
    "ExecuteTime": {
     "end_time": "2019-03-16T12:41:11.001117Z",
     "start_time": "2019-03-16T12:41:10.980989Z"
    }
   },
   "outputs": [],
   "source": [
    "element_gameweek_df =\\\n",
    "element_gameweek_df[\n",
    "    (element_gameweek_df['event'] <= current_event)\n",
    "    & (element_gameweek_df['element_type'].isin(element_types))\n",
    "    & (element_gameweek_df['minutes'] >= threshold_minutes)\n",
    "]"
   ]
  },
  {
   "cell_type": "markdown",
   "metadata": {},
   "source": [
    "# Distribution of goals for full matches"
   ]
  },
  {
   "cell_type": "markdown",
   "metadata": {},
   "source": [
    "## Overall"
   ]
  },
  {
   "cell_type": "code",
   "execution_count": 18,
   "metadata": {
    "ExecuteTime": {
     "end_time": "2019-03-16T12:44:53.934301Z",
     "start_time": "2019-03-16T12:44:53.917232Z"
    }
   },
   "outputs": [],
   "source": [
    "full_matches_df = element_gameweek_df.copy()\n",
    "full_matches_df=\\\n",
    "full_matches_df.copy()[\n",
    "    (full_matches_df['minutes'] >= 85)\n",
    "]"
   ]
  },
  {
   "cell_type": "code",
   "execution_count": 19,
   "metadata": {
    "ExecuteTime": {
     "end_time": "2019-03-16T12:44:58.034948Z",
     "start_time": "2019-03-16T12:44:58.016462Z"
    }
   },
   "outputs": [
    {
     "data": {
      "text/plain": [
       "count    3952.000000\n",
       "mean        0.122470\n",
       "std         0.368572\n",
       "min         0.000000\n",
       "25%         0.000000\n",
       "50%         0.000000\n",
       "75%         0.000000\n",
       "max         3.000000\n",
       "Name: goals_scored, dtype: float64"
      ]
     },
     "execution_count": 19,
     "metadata": {},
     "output_type": "execute_result"
    }
   ],
   "source": [
    "full_matches_df['goals_scored'].describe()"
   ]
  },
  {
   "cell_type": "code",
   "execution_count": 67,
   "metadata": {
    "ExecuteTime": {
     "end_time": "2019-04-02T17:48:56.328684Z",
     "start_time": "2019-04-02T17:48:56.315875Z"
    }
   },
   "outputs": [
    {
     "data": {
      "text/plain": [
       "goals_scored\n",
       "0    3521\n",
       "1     381\n",
       "2      47\n",
       "3       3\n",
       "dtype: int64"
      ]
     },
     "execution_count": 67,
     "metadata": {},
     "output_type": "execute_result"
    }
   ],
   "source": [
    "full_matches_df.groupby('goals_scored').size()"
   ]
  },
  {
   "cell_type": "code",
   "execution_count": 70,
   "metadata": {
    "ExecuteTime": {
     "end_time": "2019-04-02T17:51:55.138992Z",
     "start_time": "2019-04-02T17:51:55.127294Z"
    }
   },
   "outputs": [
    {
     "data": {
      "text/plain": [
       "0.09640688259109312"
      ]
     },
     "execution_count": 70,
     "metadata": {},
     "output_type": "execute_result"
    }
   ],
   "source": [
    "len(full_matches_df[full_matches_df['goals_scored']==1]) / len(full_matches_df)"
   ]
  },
  {
   "cell_type": "code",
   "execution_count": 62,
   "metadata": {
    "ExecuteTime": {
     "end_time": "2019-03-16T16:17:15.098184Z",
     "start_time": "2019-03-16T16:17:15.082985Z"
    }
   },
   "outputs": [
    {
     "data": {
      "text/plain": [
       "(0.12246963562753037, 0.36857194515291436, 0, 3)"
      ]
     },
     "execution_count": 62,
     "metadata": {},
     "output_type": "execute_result"
    }
   ],
   "source": [
    "full_matches_mean = full_matches_df['goals_scored'].mean()\n",
    "full_matches_std = full_matches_df['goals_scored'].std()\n",
    "full_matches_min = full_matches_df['goals_scored'].min()\n",
    "full_matches_max = full_matches_df['goals_scored'].max()\n",
    "full_matches_mean, full_matches_std, full_matches_min, full_matches_max"
   ]
  },
  {
   "cell_type": "code",
   "execution_count": 66,
   "metadata": {
    "ExecuteTime": {
     "end_time": "2019-04-02T17:44:42.077748Z",
     "start_time": "2019-04-02T17:44:41.665212Z"
    }
   },
   "outputs": [
    {
     "data": {
      "image/png": "[encoded data removed]",
      "text/plain": [
       "<Figure size 432x288 with 1 Axes>"
      ]
     },
     "metadata": {
      "needs_background": "light"
     },
     "output_type": "display_data"
    }
   ],
   "source": [
    "plt.figure()\n",
    "plt.hist(full_matches_df['goals_scored'], bins=range(full_matches_min, full_matches_max+2), density=True)\n",
    "plt.plot(range(full_matches_min, full_matches_max+1),\n",
    "         poisson.pmf(range(full_matches_min, full_matches_max+1), full_matches_mean))\n",
    "# plt.plot(linspace(full_matches_min, full_matches_max+1),\n",
    "#          norm.pdf(linspace(full_matches_min, full_matches_max+1), full_matches_mean, full_matches_std))\n",
    "plt.title('Histogram of goals scored across all outfield positions')\n",
    "plt.xlabel('Number of goals')\n",
    "plt.ylabel('Proportion of player-fixtures')\n",
    "plt.show()"
   ]
  },
  {
   "cell_type": "markdown",
   "metadata": {},
   "source": [
    "## By element type"
   ]
  },
  {
   "cell_type": "markdown",
   "metadata": {},
   "source": [
    "### Defender"
   ]
  },
  {
   "cell_type": "code",
   "execution_count": 23,
   "metadata": {
    "ExecuteTime": {
     "end_time": "2019-03-16T12:45:41.797470Z",
     "start_time": "2019-03-16T12:45:41.777317Z"
    }
   },
   "outputs": [],
   "source": [
    "full_matches_def_df = element_gameweek_df.copy()\n",
    "full_matches_def_df=\\\n",
    "full_matches_def_df.copy()[\n",
    "    (full_matches_def_df['minutes'] >= 85)\n",
    "    & (full_matches_def_df['element_type'] == 2)\n",
    "]"
   ]
  },
  {
   "cell_type": "code",
   "execution_count": 24,
   "metadata": {
    "ExecuteTime": {
     "end_time": "2019-03-16T12:46:06.439887Z",
     "start_time": "2019-03-16T12:46:06.422085Z"
    }
   },
   "outputs": [
    {
     "data": {
      "text/plain": [
       "count    2000.000000\n",
       "mean        0.046000\n",
       "std         0.214259\n",
       "min         0.000000\n",
       "25%         0.000000\n",
       "50%         0.000000\n",
       "75%         0.000000\n",
       "max         2.000000\n",
       "Name: goals_scored, dtype: float64"
      ]
     },
     "execution_count": 24,
     "metadata": {},
     "output_type": "execute_result"
    }
   ],
   "source": [
    "full_matches_def_df['goals_scored'].describe()"
   ]
  },
  {
   "cell_type": "code",
   "execution_count": 25,
   "metadata": {
    "ExecuteTime": {
     "end_time": "2019-03-16T12:46:06.501460Z",
     "start_time": "2019-03-16T12:46:06.445394Z"
    }
   },
   "outputs": [
    {
     "data": {
      "text/plain": [
       "(0.046, 0, 2)"
      ]
     },
     "execution_count": 25,
     "metadata": {},
     "output_type": "execute_result"
    }
   ],
   "source": [
    "full_matches_def_mean = full_matches_def_df['goals_scored'].mean()\n",
    "full_matches_def_min = full_matches_def_df['goals_scored'].min()\n",
    "full_matches_def_max = full_matches_def_df['goals_scored'].max()\n",
    "full_matches_def_mean, full_matches_def_min, full_matches_def_max"
   ]
  },
  {
   "cell_type": "code",
   "execution_count": 26,
   "metadata": {
    "ExecuteTime": {
     "end_time": "2019-03-16T12:46:06.838514Z",
     "start_time": "2019-03-16T12:46:06.504944Z"
    }
   },
   "outputs": [
    {
     "data": {
      "image/png": "[encoded data removed]",
      "text/plain": [
       "<Figure size 432x288 with 1 Axes>"
      ]
     },
     "metadata": {
      "needs_background": "light"
     },
     "output_type": "display_data"
    }
   ],
   "source": [
    "plt.figure()\n",
    "plt.hist(full_matches_def_df['goals_scored'], bins=range(full_matches_def_min, full_matches_def_max+2), density=True)\n",
    "plt.plot(range(full_matches_def_min, full_matches_def_max+1),\n",
    "         poisson.pmf(range(full_matches_def_min, full_matches_def_max+1), full_matches_def_mean))\n",
    "plt.show()"
   ]
  },
  {
   "cell_type": "markdown",
   "metadata": {},
   "source": [
    "### Midfielder"
   ]
  },
  {
   "cell_type": "code",
   "execution_count": 30,
   "metadata": {
    "ExecuteTime": {
     "end_time": "2019-03-16T12:47:05.153104Z",
     "start_time": "2019-03-16T12:47:05.137218Z"
    }
   },
   "outputs": [],
   "source": [
    "full_matches_mid_df = element_gameweek_df.copy()\n",
    "full_matches_mid_df=\\\n",
    "full_matches_mid_df.copy()[\n",
    "    (full_matches_mid_df['minutes'] >= 85)\n",
    "    & (full_matches_mid_df['element_type'] == 3)\n",
    "]"
   ]
  },
  {
   "cell_type": "code",
   "execution_count": 31,
   "metadata": {
    "ExecuteTime": {
     "end_time": "2019-03-16T12:47:05.435398Z",
     "start_time": "2019-03-16T12:47:05.421445Z"
    }
   },
   "outputs": [
    {
     "data": {
      "text/plain": [
       "count    1582.000000\n",
       "mean        0.158028\n",
       "std         0.410560\n",
       "min         0.000000\n",
       "25%         0.000000\n",
       "50%         0.000000\n",
       "75%         0.000000\n",
       "max         3.000000\n",
       "Name: goals_scored, dtype: float64"
      ]
     },
     "execution_count": 31,
     "metadata": {},
     "output_type": "execute_result"
    }
   ],
   "source": [
    "full_matches_mid_df['goals_scored'].describe()"
   ]
  },
  {
   "cell_type": "code",
   "execution_count": 32,
   "metadata": {
    "ExecuteTime": {
     "end_time": "2019-03-16T12:47:05.820161Z",
     "start_time": "2019-03-16T12:47:05.811226Z"
    }
   },
   "outputs": [
    {
     "data": {
      "text/plain": [
       "(0.15802781289506954, 0, 3)"
      ]
     },
     "execution_count": 32,
     "metadata": {},
     "output_type": "execute_result"
    }
   ],
   "source": [
    "full_matches_mid_mean = full_matches_mid_df['goals_scored'].mean()\n",
    "full_matches_mid_min = full_matches_mid_df['goals_scored'].min()\n",
    "full_matches_mid_max = full_matches_mid_df['goals_scored'].max()\n",
    "full_matches_mid_mean, full_matches_mid_min, full_matches_mid_max"
   ]
  },
  {
   "cell_type": "code",
   "execution_count": 33,
   "metadata": {
    "ExecuteTime": {
     "end_time": "2019-03-16T12:47:06.632800Z",
     "start_time": "2019-03-16T12:47:06.336660Z"
    }
   },
   "outputs": [
    {
     "data": {
      "image/png": "[encoded data removed]",
      "text/plain": [
       "<Figure size 432x288 with 1 Axes>"
      ]
     },
     "metadata": {
      "needs_background": "light"
     },
     "output_type": "display_data"
    }
   ],
   "source": [
    "plt.figure()\n",
    "plt.hist(full_matches_mid_df['goals_scored'], bins=range(full_matches_mid_min, full_matches_mid_max+2), density=True)\n",
    "plt.plot(range(full_matches_mid_min, full_matches_mid_max+1),\n",
    "         poisson.pmf(range(full_matches_mid_min, full_matches_mid_max+1), full_matches_mid_mean))\n",
    "plt.show()"
   ]
  },
  {
   "cell_type": "markdown",
   "metadata": {},
   "source": [
    "### Striker"
   ]
  },
  {
   "cell_type": "code",
   "execution_count": 34,
   "metadata": {
    "ExecuteTime": {
     "end_time": "2019-03-16T12:47:32.688583Z",
     "start_time": "2019-03-16T12:47:32.672204Z"
    }
   },
   "outputs": [],
   "source": [
    "full_matches_str_df = element_gameweek_df.copy()\n",
    "full_matches_str_df=\\\n",
    "full_matches_str_df.copy()[\n",
    "    (full_matches_str_df['minutes'] >= 85)\n",
    "    & (full_matches_str_df['element_type'] == 4)\n",
    "]"
   ]
  },
  {
   "cell_type": "code",
   "execution_count": 35,
   "metadata": {
    "ExecuteTime": {
     "end_time": "2019-03-16T12:47:33.403200Z",
     "start_time": "2019-03-16T12:47:33.391786Z"
    }
   },
   "outputs": [
    {
     "data": {
      "text/plain": [
       "count    370.000000\n",
       "mean       0.383784\n",
       "std        0.614863\n",
       "min        0.000000\n",
       "25%        0.000000\n",
       "50%        0.000000\n",
       "75%        1.000000\n",
       "max        3.000000\n",
       "Name: goals_scored, dtype: float64"
      ]
     },
     "execution_count": 35,
     "metadata": {},
     "output_type": "execute_result"
    }
   ],
   "source": [
    "full_matches_str_df['goals_scored'].describe()"
   ]
  },
  {
   "cell_type": "code",
   "execution_count": 36,
   "metadata": {
    "ExecuteTime": {
     "end_time": "2019-03-16T12:47:39.159231Z",
     "start_time": "2019-03-16T12:47:39.147311Z"
    }
   },
   "outputs": [
    {
     "data": {
      "text/plain": [
       "(0.3837837837837838, 0, 3)"
      ]
     },
     "execution_count": 36,
     "metadata": {},
     "output_type": "execute_result"
    }
   ],
   "source": [
    "full_matches_str_mean = full_matches_str_df['goals_scored'].mean()\n",
    "full_matches_str_min = full_matches_str_df['goals_scored'].min()\n",
    "full_matches_str_max = full_matches_str_df['goals_scored'].max()\n",
    "full_matches_str_mean, full_matches_str_min, full_matches_str_max"
   ]
  },
  {
   "cell_type": "code",
   "execution_count": 71,
   "metadata": {
    "ExecuteTime": {
     "end_time": "2019-04-02T17:59:17.286114Z",
     "start_time": "2019-04-02T17:59:16.897478Z"
    }
   },
   "outputs": [
    {
     "data": {
      "image/png": "[encoded data removed]",
      "text/plain": [
       "<Figure size 432x288 with 1 Axes>"
      ]
     },
     "metadata": {
      "needs_background": "light"
     },
     "output_type": "display_data"
    }
   ],
   "source": [
    "plt.figure()\n",
    "plt.hist(full_matches_str_df['goals_scored'], bins=range(full_matches_str_min, full_matches_str_max+2), density=True)\n",
    "plt.plot(range(full_matches_str_min, full_matches_str_max+1),\n",
    "         poisson.pmf(range(full_matches_str_min, full_matches_str_max+1), full_matches_str_mean))\n",
    "plt.title('Histogram of goals scored for strikers')\n",
    "plt.xlabel('Number of goals')\n",
    "plt.ylabel('Proportion of player-fixtures')\n",
    "plt.show()"
   ]
  },
  {
   "cell_type": "code",
   "execution_count": null,
   "metadata": {},
   "outputs": [],
   "source": []
  }
 ],
 "metadata": {
  "kernelspec": {
   "display_name": "Python 3",
   "language": "python",
   "name": "python3"
  },
  "language_info": {
   "codemirror_mode": {
    "name": "ipython",
    "version": 3
   },
   "file_extension": ".py",
   "mimetype": "text/x-python",
   "name": "python",
   "nbconvert_exporter": "python",
   "pygments_lexer": "ipython3",
   "version": "3.6.7"
  },
  "toc": {
   "nav_menu": {},
   "number_sections": true,
   "sideBar": true,
   "skip_h1_title": false,
   "title_cell": "Table of Contents",
   "title_sidebar": "Contents",
   "toc_cell": false,
   "toc_position": {},
   "toc_section_display": true,
   "toc_window_display": false
  }
 },
 "nbformat": 4,
 "nbformat_minor": 2
}
