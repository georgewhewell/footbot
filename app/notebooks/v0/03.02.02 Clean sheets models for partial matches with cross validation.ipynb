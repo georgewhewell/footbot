{
 "cells": [
  {
   "cell_type": "markdown",
   "metadata": {
    "heading_collapsed": true
   },
   "source": [
    "# Set up"
   ]
  },
  {
   "cell_type": "code",
   "execution_count": 1,
   "metadata": {
    "ExecuteTime": {
     "end_time": "2019-04-09T15:32:34.990337Z",
     "start_time": "2019-04-09T15:32:34.985765Z"
    },
    "hidden": true
   },
   "outputs": [],
   "source": [
    "# update path with data dir\n",
    "import sys\n",
    "sys.path.append('../data/')\n",
    "sys.path.append('../modelling/')"
   ]
  },
  {
   "cell_type": "code",
   "execution_count": 2,
   "metadata": {
    "ExecuteTime": {
     "end_time": "2019-04-09T15:32:36.364629Z",
     "start_time": "2019-04-09T15:32:34.992960Z"
    },
    "hidden": true
   },
   "outputs": [
    {
     "name": "stderr",
     "output_type": "stream",
     "text": [
      "/home/tom/footbot/venv/lib/python3.6/site-packages/statsmodels/compat/pandas.py:56: FutureWarning: The pandas.core.datetools module is deprecated and will be removed in a future version. Please use the pandas.tseries module instead.\n",
      "  from pandas.core import datetools\n"
     ]
    }
   ],
   "source": [
    "import player_data as player\n",
    "import goodness_fit\n",
    "import pandas as pd\n",
    "from datetime import datetime\n",
    "import statsmodels.api as sm\n",
    "import matplotlib.pyplot as plt\n",
    "import numpy as np\n",
    "from sklearn.model_selection import KFold\n",
    "from sklearn.metrics import precision_score, recall_score, mean_absolute_error\n",
    "import patsy"
   ]
  },
  {
   "cell_type": "code",
   "execution_count": 3,
   "metadata": {
    "ExecuteTime": {
     "end_time": "2019-04-09T15:32:36.376644Z",
     "start_time": "2019-04-09T15:32:36.371436Z"
    },
    "hidden": true
   },
   "outputs": [],
   "source": [
    "response_variable = 'clean_sheets_no_time'"
   ]
  },
  {
   "cell_type": "markdown",
   "metadata": {
    "heading_collapsed": true
   },
   "source": [
    "# Get data"
   ]
  },
  {
   "cell_type": "code",
   "execution_count": 4,
   "metadata": {
    "ExecuteTime": {
     "end_time": "2019-04-09T15:32:36.408237Z",
     "start_time": "2019-04-09T15:32:36.380838Z"
    },
    "hidden": true
   },
   "outputs": [],
   "source": [
    "file_name = 'csvs/element_gameweek_' + datetime.today().strftime('%Y-%m-%d') + '.csv'"
   ]
  },
  {
   "cell_type": "code",
   "execution_count": 5,
   "metadata": {
    "ExecuteTime": {
     "end_time": "2019-04-09T15:32:36.589818Z",
     "start_time": "2019-04-09T15:32:36.410593Z"
    },
    "hidden": true
   },
   "outputs": [],
   "source": [
    "try:\n",
    "    element_gameweek_df = pd.read_csv(file_name)\n",
    "except:\n",
    "    element_gameweek_df = player.get_element_gameweek_df()\n",
    "    element_gameweek_df.to_csv(file_name)"
   ]
  },
  {
   "cell_type": "code",
   "execution_count": 6,
   "metadata": {
    "ExecuteTime": {
     "end_time": "2019-04-09T15:32:36.599241Z",
     "start_time": "2019-04-09T15:32:36.593806Z"
    },
    "hidden": true
   },
   "outputs": [],
   "source": [
    "current_event = 32\n",
    "element_types = [1, 2, 3, 4]\n",
    "threshold_minutes = 1"
   ]
  },
  {
   "cell_type": "code",
   "execution_count": 7,
   "metadata": {
    "ExecuteTime": {
     "end_time": "2019-04-09T15:32:36.729148Z",
     "start_time": "2019-04-09T15:32:36.602096Z"
    },
    "hidden": true
   },
   "outputs": [],
   "source": [
    "element_gameweek_df =\\\n",
    "element_gameweek_df[\n",
    "    (element_gameweek_df['event'] <= current_event)\n",
    "    & (element_gameweek_df['element_type'].isin(element_types))\n",
    "    & (element_gameweek_df['minutes'] >= threshold_minutes)\n",
    "]"
   ]
  },
  {
   "cell_type": "code",
   "execution_count": 8,
   "metadata": {
    "ExecuteTime": {
     "end_time": "2019-04-09T15:32:36.852733Z",
     "start_time": "2019-04-09T15:32:36.732615Z"
    },
    "hidden": true
   },
   "outputs": [],
   "source": [
    "player.add_home_categorical_variable(element_gameweek_df)"
   ]
  },
  {
   "cell_type": "code",
   "execution_count": 9,
   "metadata": {
    "ExecuteTime": {
     "end_time": "2019-04-09T15:32:37.029823Z",
     "start_time": "2019-04-09T15:32:36.855306Z"
    },
    "hidden": true
   },
   "outputs": [],
   "source": [
    "element_gameweek_df['clean_sheets_no_time'] =\\\n",
    "element_gameweek_df['goals_conceded'].apply(lambda x: 1 if x == 0 else 0)"
   ]
  },
  {
   "cell_type": "code",
   "execution_count": 10,
   "metadata": {
    "ExecuteTime": {
     "end_time": "2019-04-09T15:32:37.283511Z",
     "start_time": "2019-04-09T15:32:37.033036Z"
    },
    "hidden": true
   },
   "outputs": [],
   "source": [
    "element_gameweek_df['row_id'] = element_gameweek_df['row_id'].rank()"
   ]
  },
  {
   "cell_type": "code",
   "execution_count": 11,
   "metadata": {
    "ExecuteTime": {
     "end_time": "2019-04-09T15:32:37.318876Z",
     "start_time": "2019-04-09T15:32:37.287746Z"
    },
    "hidden": true
   },
   "outputs": [],
   "source": [
    "element_gameweek_df['element_fixture_rank'] = element_gameweek_df.groupby('element')['row_id'].rank()"
   ]
  },
  {
   "cell_type": "code",
   "execution_count": 12,
   "metadata": {
    "ExecuteTime": {
     "end_time": "2019-04-09T15:32:38.207727Z",
     "start_time": "2019-04-09T15:32:37.322502Z"
    },
    "hidden": true
   },
   "outputs": [],
   "source": [
    "rolling_df = \\\n",
    "element_gameweek_df.copy().groupby('element', as_index=True)[['minutes', 'goals_conceded']]\\\n",
    ".rolling(38, min_periods=1).sum().reset_index()[['element', 'minutes', 'goals_conceded']]"
   ]
  },
  {
   "cell_type": "code",
   "execution_count": 13,
   "metadata": {
    "ExecuteTime": {
     "end_time": "2019-04-09T15:32:38.280298Z",
     "start_time": "2019-04-09T15:32:38.210510Z"
    },
    "hidden": true
   },
   "outputs": [],
   "source": [
    "rolling_df['element_fixture_rank'] = rolling_df.groupby('element')['minutes'].rank()"
   ]
  },
  {
   "cell_type": "code",
   "execution_count": 14,
   "metadata": {
    "ExecuteTime": {
     "end_time": "2019-04-09T15:32:38.288689Z",
     "start_time": "2019-04-09T15:32:38.283131Z"
    },
    "hidden": true
   },
   "outputs": [],
   "source": [
    "rolling_df['element_fixture_rank'] = rolling_df['element_fixture_rank'] + 1"
   ]
  },
  {
   "cell_type": "code",
   "execution_count": 15,
   "metadata": {
    "ExecuteTime": {
     "end_time": "2019-04-09T15:32:38.326835Z",
     "start_time": "2019-04-09T15:32:38.291039Z"
    },
    "hidden": true
   },
   "outputs": [],
   "source": [
    "element_gameweek_df =\\\n",
    "element_gameweek_df.join(\n",
    "    rolling_df.set_index(['element', 'element_fixture_rank']),\n",
    "    on=['element', 'element_fixture_rank'],\n",
    "    rsuffix='_rolling')"
   ]
  },
  {
   "cell_type": "code",
   "execution_count": 16,
   "metadata": {
    "ExecuteTime": {
     "end_time": "2019-04-09T15:32:38.339474Z",
     "start_time": "2019-04-09T15:32:38.329530Z"
    },
    "hidden": true
   },
   "outputs": [],
   "source": [
    "element_gameweek_df['goals_conceded_per_minute_rolling'] = \\\n",
    "element_gameweek_df['goals_conceded_rolling'] / element_gameweek_df['minutes_rolling']"
   ]
  },
  {
   "cell_type": "code",
   "execution_count": 17,
   "metadata": {
    "ExecuteTime": {
     "end_time": "2019-04-09T15:32:39.299265Z",
     "start_time": "2019-04-09T15:32:38.346345Z"
    },
    "hidden": true
   },
   "outputs": [],
   "source": [
    "rolling_p5_df = \\\n",
    "element_gameweek_df.copy().groupby('element', as_index=True)[['minutes', 'goals_conceded']]\\\n",
    ".rolling(5, min_periods=1).sum().reset_index()[['element', 'minutes', 'goals_conceded']]"
   ]
  },
  {
   "cell_type": "code",
   "execution_count": 18,
   "metadata": {
    "ExecuteTime": {
     "end_time": "2019-04-09T15:32:39.406570Z",
     "start_time": "2019-04-09T15:32:39.303031Z"
    },
    "hidden": true
   },
   "outputs": [],
   "source": [
    "rolling_p5_df['element_fixture_rank'] = rolling_p5_df.groupby('element')['minutes'].rank()"
   ]
  },
  {
   "cell_type": "code",
   "execution_count": 19,
   "metadata": {
    "ExecuteTime": {
     "end_time": "2019-04-09T15:32:39.413523Z",
     "start_time": "2019-04-09T15:32:39.409158Z"
    },
    "hidden": true
   },
   "outputs": [],
   "source": [
    "rolling_p5_df['element_fixture_rank'] = rolling_p5_df['element_fixture_rank'] + 1"
   ]
  },
  {
   "cell_type": "code",
   "execution_count": 20,
   "metadata": {
    "ExecuteTime": {
     "end_time": "2019-04-09T15:32:39.483877Z",
     "start_time": "2019-04-09T15:32:39.415844Z"
    },
    "hidden": true
   },
   "outputs": [],
   "source": [
    "element_gameweek_df =\\\n",
    "element_gameweek_df.join(\n",
    "    rolling_p5_df.set_index(['element', 'element_fixture_rank']),\n",
    "    on=['element', 'element_fixture_rank'],\n",
    "    rsuffix='_rolling_p5')"
   ]
  },
  {
   "cell_type": "code",
   "execution_count": 21,
   "metadata": {
    "ExecuteTime": {
     "end_time": "2019-04-09T15:32:39.491313Z",
     "start_time": "2019-04-09T15:32:39.486530Z"
    },
    "hidden": true
   },
   "outputs": [],
   "source": [
    "element_gameweek_df['goals_conceded_per_minute_rolling_p5'] = \\\n",
    "element_gameweek_df['goals_conceded_rolling_p5'] / element_gameweek_df['minutes_rolling_p5']"
   ]
  },
  {
   "cell_type": "code",
   "execution_count": 22,
   "metadata": {
    "ExecuteTime": {
     "end_time": "2019-04-09T15:32:39.552105Z",
     "start_time": "2019-04-09T15:32:39.494684Z"
    },
    "hidden": true
   },
   "outputs": [
    {
     "data": {
      "text/html": [
       "<div>\n",
       "<style scoped>\n",
       "    .dataframe tbody tr th:only-of-type {\n",
       "        vertical-align: middle;\n",
       "    }\n",
       "\n",
       "    .dataframe tbody tr th {\n",
       "        vertical-align: top;\n",
       "    }\n",
       "\n",
       "    .dataframe thead th {\n",
       "        text-align: right;\n",
       "    }\n",
       "</style>\n",
       "<table border=\"1\" class=\"dataframe\">\n",
       "  <thead>\n",
       "    <tr style=\"text-align: right;\">\n",
       "      <th></th>\n",
       "      <th>row_id</th>\n",
       "      <th>assists</th>\n",
       "      <th>attempted_passes</th>\n",
       "      <th>big_chances_created</th>\n",
       "      <th>big_chances_missed</th>\n",
       "      <th>bonus</th>\n",
       "      <th>bps</th>\n",
       "      <th>clean_sheets</th>\n",
       "      <th>clearances_blocks_interceptions</th>\n",
       "      <th>completed_passes</th>\n",
       "      <th>...</th>\n",
       "      <th>own_team</th>\n",
       "      <th>opposition_team</th>\n",
       "      <th>clean_sheets_no_time</th>\n",
       "      <th>element_fixture_rank</th>\n",
       "      <th>minutes_rolling</th>\n",
       "      <th>goals_conceded_rolling</th>\n",
       "      <th>goals_conceded_per_minute_rolling</th>\n",
       "      <th>minutes_rolling_p5</th>\n",
       "      <th>goals_conceded_rolling_p5</th>\n",
       "      <th>goals_conceded_per_minute_rolling_p5</th>\n",
       "    </tr>\n",
       "  </thead>\n",
       "  <tbody>\n",
       "    <tr>\n",
       "      <th>0</th>\n",
       "      <td>1.0</td>\n",
       "      <td>0</td>\n",
       "      <td>42</td>\n",
       "      <td>0</td>\n",
       "      <td>0</td>\n",
       "      <td>0</td>\n",
       "      <td>24</td>\n",
       "      <td>0</td>\n",
       "      <td>2</td>\n",
       "      <td>31</td>\n",
       "      <td>...</td>\n",
       "      <td>1</td>\n",
       "      <td>13</td>\n",
       "      <td>0</td>\n",
       "      <td>1.0</td>\n",
       "      <td>NaN</td>\n",
       "      <td>NaN</td>\n",
       "      <td>NaN</td>\n",
       "      <td>NaN</td>\n",
       "      <td>NaN</td>\n",
       "      <td>NaN</td>\n",
       "    </tr>\n",
       "    <tr>\n",
       "      <th>1</th>\n",
       "      <td>2.0</td>\n",
       "      <td>0</td>\n",
       "      <td>35</td>\n",
       "      <td>0</td>\n",
       "      <td>0</td>\n",
       "      <td>0</td>\n",
       "      <td>26</td>\n",
       "      <td>0</td>\n",
       "      <td>1</td>\n",
       "      <td>25</td>\n",
       "      <td>...</td>\n",
       "      <td>1</td>\n",
       "      <td>6</td>\n",
       "      <td>0</td>\n",
       "      <td>2.0</td>\n",
       "      <td>90.0</td>\n",
       "      <td>2.0</td>\n",
       "      <td>0.022222</td>\n",
       "      <td>90.0</td>\n",
       "      <td>2.0</td>\n",
       "      <td>0.022222</td>\n",
       "    </tr>\n",
       "    <tr>\n",
       "      <th>2</th>\n",
       "      <td>3.0</td>\n",
       "      <td>0</td>\n",
       "      <td>24</td>\n",
       "      <td>0</td>\n",
       "      <td>0</td>\n",
       "      <td>0</td>\n",
       "      <td>17</td>\n",
       "      <td>0</td>\n",
       "      <td>0</td>\n",
       "      <td>20</td>\n",
       "      <td>...</td>\n",
       "      <td>1</td>\n",
       "      <td>19</td>\n",
       "      <td>0</td>\n",
       "      <td>3.0</td>\n",
       "      <td>180.0</td>\n",
       "      <td>5.0</td>\n",
       "      <td>0.027778</td>\n",
       "      <td>180.0</td>\n",
       "      <td>5.0</td>\n",
       "      <td>0.027778</td>\n",
       "    </tr>\n",
       "    <tr>\n",
       "      <th>3</th>\n",
       "      <td>4.0</td>\n",
       "      <td>0</td>\n",
       "      <td>38</td>\n",
       "      <td>0</td>\n",
       "      <td>0</td>\n",
       "      <td>0</td>\n",
       "      <td>8</td>\n",
       "      <td>0</td>\n",
       "      <td>0</td>\n",
       "      <td>24</td>\n",
       "      <td>...</td>\n",
       "      <td>1</td>\n",
       "      <td>5</td>\n",
       "      <td>0</td>\n",
       "      <td>4.0</td>\n",
       "      <td>270.0</td>\n",
       "      <td>6.0</td>\n",
       "      <td>0.022222</td>\n",
       "      <td>270.0</td>\n",
       "      <td>6.0</td>\n",
       "      <td>0.022222</td>\n",
       "    </tr>\n",
       "    <tr>\n",
       "      <th>4</th>\n",
       "      <td>5.0</td>\n",
       "      <td>0</td>\n",
       "      <td>33</td>\n",
       "      <td>0</td>\n",
       "      <td>0</td>\n",
       "      <td>0</td>\n",
       "      <td>13</td>\n",
       "      <td>0</td>\n",
       "      <td>2</td>\n",
       "      <td>23</td>\n",
       "      <td>...</td>\n",
       "      <td>1</td>\n",
       "      <td>15</td>\n",
       "      <td>0</td>\n",
       "      <td>5.0</td>\n",
       "      <td>360.0</td>\n",
       "      <td>8.0</td>\n",
       "      <td>0.022222</td>\n",
       "      <td>360.0</td>\n",
       "      <td>8.0</td>\n",
       "      <td>0.022222</td>\n",
       "    </tr>\n",
       "  </tbody>\n",
       "</table>\n",
       "<p>5 rows × 74 columns</p>\n",
       "</div>"
      ],
      "text/plain": [
       "   row_id  assists  attempted_passes  big_chances_created  big_chances_missed  \\\n",
       "0     1.0        0                42                    0                   0   \n",
       "1     2.0        0                35                    0                   0   \n",
       "2     3.0        0                24                    0                   0   \n",
       "3     4.0        0                38                    0                   0   \n",
       "4     5.0        0                33                    0                   0   \n",
       "\n",
       "   bonus  bps  clean_sheets  clearances_blocks_interceptions  \\\n",
       "0      0   24             0                                2   \n",
       "1      0   26             0                                1   \n",
       "2      0   17             0                                0   \n",
       "3      0    8             0                                0   \n",
       "4      0   13             0                                2   \n",
       "\n",
       "   completed_passes                  ...                   own_team  \\\n",
       "0                31                  ...                          1   \n",
       "1                25                  ...                          1   \n",
       "2                20                  ...                          1   \n",
       "3                24                  ...                          1   \n",
       "4                23                  ...                          1   \n",
       "\n",
       "   opposition_team  clean_sheets_no_time  element_fixture_rank  \\\n",
       "0               13                     0                   1.0   \n",
       "1                6                     0                   2.0   \n",
       "2               19                     0                   3.0   \n",
       "3                5                     0                   4.0   \n",
       "4               15                     0                   5.0   \n",
       "\n",
       "   minutes_rolling  goals_conceded_rolling  goals_conceded_per_minute_rolling  \\\n",
       "0              NaN                     NaN                                NaN   \n",
       "1             90.0                     2.0                           0.022222   \n",
       "2            180.0                     5.0                           0.027778   \n",
       "3            270.0                     6.0                           0.022222   \n",
       "4            360.0                     8.0                           0.022222   \n",
       "\n",
       "   minutes_rolling_p5  goals_conceded_rolling_p5  \\\n",
       "0                 NaN                        NaN   \n",
       "1                90.0                        2.0   \n",
       "2               180.0                        5.0   \n",
       "3               270.0                        6.0   \n",
       "4               360.0                        8.0   \n",
       "\n",
       "   goals_conceded_per_minute_rolling_p5  \n",
       "0                                   NaN  \n",
       "1                              0.022222  \n",
       "2                              0.027778  \n",
       "3                              0.022222  \n",
       "4                              0.022222  \n",
       "\n",
       "[5 rows x 74 columns]"
      ]
     },
     "execution_count": 22,
     "metadata": {},
     "output_type": "execute_result"
    }
   ],
   "source": [
    "element_gameweek_df.head()"
   ]
  },
  {
   "cell_type": "code",
   "execution_count": 23,
   "metadata": {
    "ExecuteTime": {
     "end_time": "2019-04-09T15:32:39.559546Z",
     "start_time": "2019-04-09T15:32:39.554591Z"
    },
    "hidden": true
   },
   "outputs": [
    {
     "data": {
      "text/plain": [
       "Index(['row_id', 'assists', 'attempted_passes', 'big_chances_created',\n",
       "       'big_chances_missed', 'bonus', 'bps', 'clean_sheets',\n",
       "       'clearances_blocks_interceptions', 'completed_passes', 'creativity',\n",
       "       'dribbles', 'ea_index', 'element', 'errors_leading_to_goal',\n",
       "       'errors_leading_to_goal_attempt', 'fixture', 'fouls', 'goals_conceded',\n",
       "       'goals_scored', 'ict_index', 'id', 'influence', 'key_passes',\n",
       "       'kickoff_time', 'kickoff_time_formatted', 'loaned_in', 'loaned_out',\n",
       "       'minutes', 'offside', 'open_play_crosses', 'opponent_team', 'own_goals',\n",
       "       'penalties_conceded', 'penalties_missed', 'penalties_saved',\n",
       "       'recoveries', 'red_cards', 'round', 'saves', 'selected', 'tackled',\n",
       "       'tackles', 'target_missed', 'team_a_score', 'team_h_score', 'threat',\n",
       "       'total_points', 'transfers_balance', 'transfers_in', 'transfers_out',\n",
       "       'value', 'was_home', 'winning_goals', 'yellow_cards', 'event', 'team_a',\n",
       "       'team_a_difficulty', 'team_h', 'team_h_difficulty', 'element_type',\n",
       "       'team', 'web_name', 'safe_web_name', 'own_team', 'opposition_team',\n",
       "       'clean_sheets_no_time', 'element_fixture_rank', 'minutes_rolling',\n",
       "       'goals_conceded_rolling', 'goals_conceded_per_minute_rolling',\n",
       "       'minutes_rolling_p5', 'goals_conceded_rolling_p5',\n",
       "       'goals_conceded_per_minute_rolling_p5'],\n",
       "      dtype='object')"
      ]
     },
     "execution_count": 23,
     "metadata": {},
     "output_type": "execute_result"
    }
   ],
   "source": [
    "element_gameweek_df.columns"
   ]
  },
  {
   "cell_type": "markdown",
   "metadata": {},
   "source": [
    "# Models"
   ]
  },
  {
   "cell_type": "markdown",
   "metadata": {},
   "source": [
    "## Helpers"
   ]
  },
  {
   "cell_type": "code",
   "execution_count": 58,
   "metadata": {
    "ExecuteTime": {
     "end_time": "2019-04-09T17:32:05.108408Z",
     "start_time": "2019-04-09T17:32:05.096217Z"
    }
   },
   "outputs": [],
   "source": [
    "def get_all_columns(formula, df):\n",
    "    return patsy.dmatrices(formula, df, return_type='dataframe')[1].columns\n",
    "\n",
    "def add_missing_columns(df, columns):\n",
    "    for col in set(columns) - set(df.columns):\n",
    "        df[col] = np.zeros(len(df))\n",
    "    \n",
    "    return df[columns]\n",
    "\n",
    "def classify_probability(p, threshold):\n",
    "    if p >= threshold:\n",
    "        return 1\n",
    "    else:\n",
    "        return 0"
   ]
  },
  {
   "cell_type": "code",
   "execution_count": 59,
   "metadata": {
    "ExecuteTime": {
     "end_time": "2019-04-09T17:32:05.286418Z",
     "start_time": "2019-04-09T17:32:05.256781Z"
    }
   },
   "outputs": [],
   "source": [
    "def kfold_cross_validation(formula, df, splits, threshold=0.5):\n",
    "    columns = get_all_columns(formula, df)\n",
    "    \n",
    "    folds = []\n",
    "    \n",
    "    for train_index, test_index in KFold(n_splits=splits, shuffle=True).split(df):\n",
    "        folds.append((df.iloc[train_index], df.iloc[test_index]))\n",
    "    \n",
    "    eval_metrics = []\n",
    "    for f in folds:\n",
    "        try:\n",
    "            response_train, explanatory_train = patsy.dmatrices(formula, f[0], return_type='dataframe')\n",
    "            explanatory_train = add_missing_columns(explanatory_train, columns)\n",
    "            \n",
    "            response_test, explanatory_test = patsy.dmatrices(formula, f[1], return_type='dataframe')\n",
    "            explanatory_test = add_missing_columns(explanatory_test, columns)\n",
    "            \n",
    "            model = sm.GLM(response_train, explanatory_train, family=sm.families.Binomial(), missing='drop').fit()\n",
    "            reponse_test_pred = model.predict(explanatory_test)\n",
    "            reponse_train_pred = model.predict(explanatory_train)\n",
    "            reponse_test_pred_class = [classify_probability(i, threshold) for i in reponse_test_pred]\n",
    "            reponse_train_pred_class = [classify_probability(i, threshold) for i in reponse_train_pred]\n",
    "\n",
    "            precision_score_test = precision_score(response_test, reponse_test_pred_class)\n",
    "            precision_score_train = precision_score(response_train, reponse_train_pred_class)\n",
    "            recall_score_error_test = recall_score(response_test, reponse_test_pred_class)\n",
    "            recall_score_train = recall_score(response_train, reponse_train_pred_class)\n",
    "            mean_absolute_error_test = mean_absolute_error(response_test, reponse_test_pred)\n",
    "            mean_absolute_error_train = mean_absolute_error(response_train, reponse_train_pred)\n",
    "\n",
    "            m = {\n",
    "                'precision_score_test': precision_score_test,\n",
    "                'precision_score_train': precision_score_train,\n",
    "                'recall_score_error_test': recall_score_error_test,\n",
    "                'recall_score_train': recall_score_train,\n",
    "                'mean_absolute_error_test': mean_absolute_error_test,\n",
    "                'mean_absolute_error_train': mean_absolute_error_train,\n",
    "            }\n",
    "\n",
    "            eval_metrics.append(m)\n",
    "        except Exception as e:\n",
    "            print(e)\n",
    "            \n",
    "    return pd.DataFrame(eval_metrics)"
   ]
  },
  {
   "cell_type": "code",
   "execution_count": 60,
   "metadata": {
    "ExecuteTime": {
     "end_time": "2019-04-09T17:32:05.424508Z",
     "start_time": "2019-04-09T17:32:05.398860Z"
    }
   },
   "outputs": [],
   "source": [
    "def n_kfold_cross_validation(formula, df, splits, n, threshold=0.5):\n",
    "    eval_metrics_arr = []\n",
    "    for i in range(0, n):\n",
    "        print('iteration ', i + 1)\n",
    "        eval_metrics_arr.append(kfold_cross_validation(formula, df, splits, threshold))\n",
    "    \n",
    "    eval_metrics = pd.concat(eval_metrics_arr)\n",
    "    return pd.DataFrame(eval_metrics)"
   ]
  },
  {
   "cell_type": "markdown",
   "metadata": {},
   "source": [
    "## Binomial teams minutes model"
   ]
  },
  {
   "cell_type": "code",
   "execution_count": 61,
   "metadata": {
    "ExecuteTime": {
     "end_time": "2019-04-09T17:32:05.733108Z",
     "start_time": "2019-04-09T17:32:05.724194Z"
    }
   },
   "outputs": [],
   "source": [
    "sptmm_df = element_gameweek_df.copy()"
   ]
  },
  {
   "cell_type": "code",
   "execution_count": 62,
   "metadata": {
    "ExecuteTime": {
     "end_time": "2019-04-09T17:32:05.939790Z",
     "start_time": "2019-04-09T17:32:05.935109Z"
    }
   },
   "outputs": [],
   "source": [
    "sptmm_formula = \\\n",
    "f'{response_variable} ~ np.log(minutes) + C(element_type) + C(own_team) + C(opposition_team) + was_home'"
   ]
  },
  {
   "cell_type": "code",
   "execution_count": 63,
   "metadata": {
    "ExecuteTime": {
     "end_time": "2019-04-09T17:33:04.252699Z",
     "start_time": "2019-04-09T17:32:06.108495Z"
    }
   },
   "outputs": [
    {
     "name": "stdout",
     "output_type": "stream",
     "text": [
      "iteration  1\n",
      "iteration  2\n",
      "iteration  3\n",
      "iteration  4\n",
      "iteration  5\n",
      "iteration  6\n",
      "iteration  7\n",
      "iteration  8\n",
      "iteration  9\n",
      "iteration  10\n"
     ]
    }
   ],
   "source": [
    "sptmm_eval_df = n_kfold_cross_validation(sptmm_formula, sptmm_df, 10, 10)"
   ]
  },
  {
   "cell_type": "code",
   "execution_count": 77,
   "metadata": {
    "ExecuteTime": {
     "end_time": "2019-04-09T17:38:33.368859Z",
     "start_time": "2019-04-09T17:38:33.349332Z"
    }
   },
   "outputs": [
    {
     "data": {
      "text/html": [
       "<div>\n",
       "<style scoped>\n",
       "    .dataframe tbody tr th:only-of-type {\n",
       "        vertical-align: middle;\n",
       "    }\n",
       "\n",
       "    .dataframe tbody tr th {\n",
       "        vertical-align: top;\n",
       "    }\n",
       "\n",
       "    .dataframe thead th {\n",
       "        text-align: right;\n",
       "    }\n",
       "</style>\n",
       "<table border=\"1\" class=\"dataframe\">\n",
       "  <thead>\n",
       "    <tr style=\"text-align: right;\">\n",
       "      <th></th>\n",
       "      <th>mean_absolute_error_test</th>\n",
       "      <th>mean_absolute_error_train</th>\n",
       "      <th>precision_score_test</th>\n",
       "      <th>precision_score_train</th>\n",
       "      <th>recall_score_error_test</th>\n",
       "      <th>recall_score_train</th>\n",
       "    </tr>\n",
       "    <tr>\n",
       "      <th>model</th>\n",
       "      <th></th>\n",
       "      <th></th>\n",
       "      <th></th>\n",
       "      <th></th>\n",
       "      <th></th>\n",
       "      <th></th>\n",
       "    </tr>\n",
       "  </thead>\n",
       "  <tbody>\n",
       "    <tr>\n",
       "      <th>Binomial teams minutes</th>\n",
       "      <td>0.357471</td>\n",
       "      <td>0.355633</td>\n",
       "      <td>0.706514</td>\n",
       "      <td>0.711638</td>\n",
       "      <td>0.46875</td>\n",
       "      <td>0.472928</td>\n",
       "    </tr>\n",
       "  </tbody>\n",
       "</table>\n",
       "</div>"
      ],
      "text/plain": [
       "                        mean_absolute_error_test  mean_absolute_error_train  \\\n",
       "model                                                                         \n",
       "Binomial teams minutes                  0.357471                   0.355633   \n",
       "\n",
       "                        precision_score_test  precision_score_train  \\\n",
       "model                                                                 \n",
       "Binomial teams minutes              0.706514               0.711638   \n",
       "\n",
       "                        recall_score_error_test  recall_score_train  \n",
       "model                                                                \n",
       "Binomial teams minutes                  0.46875            0.472928  "
      ]
     },
     "execution_count": 77,
     "metadata": {},
     "output_type": "execute_result"
    }
   ],
   "source": [
    "sptmm_eval_df['model'] = 'Binomial teams minutes'\n",
    "sptmm_eval = sptmm_eval_df.groupby('model').mean()\n",
    "sptmm_eval"
   ]
  },
  {
   "cell_type": "markdown",
   "metadata": {},
   "source": [
    "## Binomial teams minutes form model"
   ]
  },
  {
   "cell_type": "code",
   "execution_count": 65,
   "metadata": {
    "ExecuteTime": {
     "end_time": "2019-04-09T17:33:04.341460Z",
     "start_time": "2019-04-09T17:33:04.298570Z"
    }
   },
   "outputs": [],
   "source": [
    "sptmmf_df = element_gameweek_df.copy()"
   ]
  },
  {
   "cell_type": "code",
   "execution_count": 66,
   "metadata": {
    "ExecuteTime": {
     "end_time": "2019-04-09T17:33:04.373075Z",
     "start_time": "2019-04-09T17:33:04.344640Z"
    }
   },
   "outputs": [],
   "source": [
    "sptmmf_formula = \\\n",
    "f'{response_variable} ~ np.log(minutes) + C(element_type) + C(own_team) + C(opposition_team) + was_home + goals_conceded_per_minute_rolling'"
   ]
  },
  {
   "cell_type": "code",
   "execution_count": 67,
   "metadata": {
    "ExecuteTime": {
     "end_time": "2019-04-09T17:34:01.655397Z",
     "start_time": "2019-04-09T17:33:04.376418Z"
    }
   },
   "outputs": [
    {
     "name": "stdout",
     "output_type": "stream",
     "text": [
      "iteration  1\n",
      "iteration  2\n",
      "iteration  3\n",
      "iteration  4\n",
      "iteration  5\n",
      "iteration  6\n",
      "iteration  7\n",
      "iteration  8\n",
      "iteration  9\n",
      "iteration  10\n"
     ]
    }
   ],
   "source": [
    "sptmmf_eval_df = n_kfold_cross_validation(sptmmf_formula, sptmmf_df, 10, 10)"
   ]
  },
  {
   "cell_type": "code",
   "execution_count": 78,
   "metadata": {
    "ExecuteTime": {
     "end_time": "2019-04-09T17:38:39.251220Z",
     "start_time": "2019-04-09T17:38:39.221362Z"
    }
   },
   "outputs": [
    {
     "data": {
      "text/html": [
       "<div>\n",
       "<style scoped>\n",
       "    .dataframe tbody tr th:only-of-type {\n",
       "        vertical-align: middle;\n",
       "    }\n",
       "\n",
       "    .dataframe tbody tr th {\n",
       "        vertical-align: top;\n",
       "    }\n",
       "\n",
       "    .dataframe thead th {\n",
       "        text-align: right;\n",
       "    }\n",
       "</style>\n",
       "<table border=\"1\" class=\"dataframe\">\n",
       "  <thead>\n",
       "    <tr style=\"text-align: right;\">\n",
       "      <th></th>\n",
       "      <th>mean_absolute_error_test</th>\n",
       "      <th>mean_absolute_error_train</th>\n",
       "      <th>precision_score_test</th>\n",
       "      <th>precision_score_train</th>\n",
       "      <th>recall_score_error_test</th>\n",
       "      <th>recall_score_train</th>\n",
       "    </tr>\n",
       "    <tr>\n",
       "      <th>model</th>\n",
       "      <th></th>\n",
       "      <th></th>\n",
       "      <th></th>\n",
       "      <th></th>\n",
       "      <th></th>\n",
       "      <th></th>\n",
       "    </tr>\n",
       "  </thead>\n",
       "  <tbody>\n",
       "    <tr>\n",
       "      <th>Binomial teams minutes form</th>\n",
       "      <td>0.35594</td>\n",
       "      <td>0.353981</td>\n",
       "      <td>0.702463</td>\n",
       "      <td>0.708155</td>\n",
       "      <td>0.463129</td>\n",
       "      <td>0.468239</td>\n",
       "    </tr>\n",
       "  </tbody>\n",
       "</table>\n",
       "</div>"
      ],
      "text/plain": [
       "                             mean_absolute_error_test  \\\n",
       "model                                                   \n",
       "Binomial teams minutes form                   0.35594   \n",
       "\n",
       "                             mean_absolute_error_train  precision_score_test  \\\n",
       "model                                                                          \n",
       "Binomial teams minutes form                   0.353981              0.702463   \n",
       "\n",
       "                             precision_score_train  recall_score_error_test  \\\n",
       "model                                                                         \n",
       "Binomial teams minutes form               0.708155                 0.463129   \n",
       "\n",
       "                             recall_score_train  \n",
       "model                                            \n",
       "Binomial teams minutes form            0.468239  "
      ]
     },
     "execution_count": 78,
     "metadata": {},
     "output_type": "execute_result"
    }
   ],
   "source": [
    "sptmmf_eval_df['model'] = 'Binomial teams minutes form'\n",
    "sptmmf_eval = sptmmf_eval_df.groupby('model').mean()\n",
    "sptmmf_eval"
   ]
  },
  {
   "cell_type": "markdown",
   "metadata": {},
   "source": [
    "## Binomial players minutes model"
   ]
  },
  {
   "cell_type": "code",
   "execution_count": 69,
   "metadata": {
    "ExecuteTime": {
     "end_time": "2019-04-09T17:34:01.753021Z",
     "start_time": "2019-04-09T17:34:01.698252Z"
    }
   },
   "outputs": [],
   "source": [
    "sppmm_df = element_gameweek_df.copy()"
   ]
  },
  {
   "cell_type": "code",
   "execution_count": 70,
   "metadata": {
    "ExecuteTime": {
     "end_time": "2019-04-09T17:34:01.775274Z",
     "start_time": "2019-04-09T17:34:01.755207Z"
    }
   },
   "outputs": [],
   "source": [
    "sppmm_formula = \\\n",
    "f'{response_variable} ~ np.log(minutes) + C(element) + C(opposition_team) + was_home'"
   ]
  },
  {
   "cell_type": "code",
   "execution_count": 71,
   "metadata": {
    "ExecuteTime": {
     "end_time": "2019-04-09T17:37:17.428064Z",
     "start_time": "2019-04-09T17:34:01.777238Z"
    }
   },
   "outputs": [
    {
     "name": "stdout",
     "output_type": "stream",
     "text": [
      "iteration  1\n"
     ]
    }
   ],
   "source": [
    "sppmm_eval_df = n_kfold_cross_validation(sppmm_formula, sppmm_df, 10, 1)"
   ]
  },
  {
   "cell_type": "code",
   "execution_count": 79,
   "metadata": {
    "ExecuteTime": {
     "end_time": "2019-04-09T17:38:47.247436Z",
     "start_time": "2019-04-09T17:38:47.223884Z"
    }
   },
   "outputs": [
    {
     "data": {
      "text/html": [
       "<div>\n",
       "<style scoped>\n",
       "    .dataframe tbody tr th:only-of-type {\n",
       "        vertical-align: middle;\n",
       "    }\n",
       "\n",
       "    .dataframe tbody tr th {\n",
       "        vertical-align: top;\n",
       "    }\n",
       "\n",
       "    .dataframe thead th {\n",
       "        text-align: right;\n",
       "    }\n",
       "</style>\n",
       "<table border=\"1\" class=\"dataframe\">\n",
       "  <thead>\n",
       "    <tr style=\"text-align: right;\">\n",
       "      <th></th>\n",
       "      <th>mean_absolute_error_test</th>\n",
       "      <th>mean_absolute_error_train</th>\n",
       "      <th>precision_score_test</th>\n",
       "      <th>precision_score_train</th>\n",
       "      <th>recall_score_error_test</th>\n",
       "      <th>recall_score_train</th>\n",
       "    </tr>\n",
       "    <tr>\n",
       "      <th>model</th>\n",
       "      <th></th>\n",
       "      <th></th>\n",
       "      <th></th>\n",
       "      <th></th>\n",
       "      <th></th>\n",
       "      <th></th>\n",
       "    </tr>\n",
       "  </thead>\n",
       "  <tbody>\n",
       "    <tr>\n",
       "      <th>Binomial players minutes</th>\n",
       "      <td>0.35385</td>\n",
       "      <td>0.330522</td>\n",
       "      <td>0.650892</td>\n",
       "      <td>0.716437</td>\n",
       "      <td>0.493973</td>\n",
       "      <td>0.547345</td>\n",
       "    </tr>\n",
       "  </tbody>\n",
       "</table>\n",
       "</div>"
      ],
      "text/plain": [
       "                          mean_absolute_error_test  mean_absolute_error_train  \\\n",
       "model                                                                           \n",
       "Binomial players minutes                   0.35385                   0.330522   \n",
       "\n",
       "                          precision_score_test  precision_score_train  \\\n",
       "model                                                                   \n",
       "Binomial players minutes              0.650892               0.716437   \n",
       "\n",
       "                          recall_score_error_test  recall_score_train  \n",
       "model                                                                  \n",
       "Binomial players minutes                 0.493973            0.547345  "
      ]
     },
     "execution_count": 79,
     "metadata": {},
     "output_type": "execute_result"
    }
   ],
   "source": [
    "sppmm_eval_df['model'] = 'Binomial players minutes'\n",
    "sppmm_eval = sppmm_eval_df.groupby('model').mean()\n",
    "sppmm_eval"
   ]
  },
  {
   "cell_type": "markdown",
   "metadata": {},
   "source": [
    "# Model comparison"
   ]
  },
  {
   "cell_type": "code",
   "execution_count": 80,
   "metadata": {
    "ExecuteTime": {
     "end_time": "2019-04-09T17:38:50.389556Z",
     "start_time": "2019-04-09T17:38:50.358121Z"
    }
   },
   "outputs": [
    {
     "data": {
      "text/html": [
       "<div>\n",
       "<style scoped>\n",
       "    .dataframe tbody tr th:only-of-type {\n",
       "        vertical-align: middle;\n",
       "    }\n",
       "\n",
       "    .dataframe tbody tr th {\n",
       "        vertical-align: top;\n",
       "    }\n",
       "\n",
       "    .dataframe thead th {\n",
       "        text-align: right;\n",
       "    }\n",
       "</style>\n",
       "<table border=\"1\" class=\"dataframe\">\n",
       "  <thead>\n",
       "    <tr style=\"text-align: right;\">\n",
       "      <th></th>\n",
       "      <th>mean_absolute_error_test</th>\n",
       "      <th>mean_absolute_error_train</th>\n",
       "      <th>precision_score_test</th>\n",
       "      <th>precision_score_train</th>\n",
       "      <th>recall_score_error_test</th>\n",
       "      <th>recall_score_train</th>\n",
       "    </tr>\n",
       "    <tr>\n",
       "      <th>model</th>\n",
       "      <th></th>\n",
       "      <th></th>\n",
       "      <th></th>\n",
       "      <th></th>\n",
       "      <th></th>\n",
       "      <th></th>\n",
       "    </tr>\n",
       "  </thead>\n",
       "  <tbody>\n",
       "    <tr>\n",
       "      <th>Binomial teams minutes</th>\n",
       "      <td>0.357</td>\n",
       "      <td>0.356</td>\n",
       "      <td>0.707</td>\n",
       "      <td>0.712</td>\n",
       "      <td>0.469</td>\n",
       "      <td>0.473</td>\n",
       "    </tr>\n",
       "    <tr>\n",
       "      <th>Binomial teams minutes form</th>\n",
       "      <td>0.356</td>\n",
       "      <td>0.354</td>\n",
       "      <td>0.702</td>\n",
       "      <td>0.708</td>\n",
       "      <td>0.463</td>\n",
       "      <td>0.468</td>\n",
       "    </tr>\n",
       "    <tr>\n",
       "      <th>Binomial players minutes</th>\n",
       "      <td>0.354</td>\n",
       "      <td>0.331</td>\n",
       "      <td>0.651</td>\n",
       "      <td>0.716</td>\n",
       "      <td>0.494</td>\n",
       "      <td>0.547</td>\n",
       "    </tr>\n",
       "  </tbody>\n",
       "</table>\n",
       "</div>"
      ],
      "text/plain": [
       "                             mean_absolute_error_test  \\\n",
       "model                                                   \n",
       "Binomial teams minutes                          0.357   \n",
       "Binomial teams minutes form                     0.356   \n",
       "Binomial players minutes                        0.354   \n",
       "\n",
       "                             mean_absolute_error_train  precision_score_test  \\\n",
       "model                                                                          \n",
       "Binomial teams minutes                           0.356                 0.707   \n",
       "Binomial teams minutes form                      0.354                 0.702   \n",
       "Binomial players minutes                         0.331                 0.651   \n",
       "\n",
       "                             precision_score_train  recall_score_error_test  \\\n",
       "model                                                                         \n",
       "Binomial teams minutes                       0.712                    0.469   \n",
       "Binomial teams minutes form                  0.708                    0.463   \n",
       "Binomial players minutes                     0.716                    0.494   \n",
       "\n",
       "                             recall_score_train  \n",
       "model                                            \n",
       "Binomial teams minutes                    0.473  \n",
       "Binomial teams minutes form               0.468  \n",
       "Binomial players minutes                  0.547  "
      ]
     },
     "execution_count": 80,
     "metadata": {},
     "output_type": "execute_result"
    }
   ],
   "source": [
    "pd.concat([\n",
    "    sptmm_eval,\n",
    "    sptmmf_eval,\n",
    "    sppmm_eval,\n",
    "]).round(3)"
   ]
  },
  {
   "cell_type": "markdown",
   "metadata": {},
   "source": [
    "# Changing classification threshold"
   ]
  },
  {
   "cell_type": "code",
   "execution_count": 84,
   "metadata": {
    "ExecuteTime": {
     "end_time": "2019-04-09T17:44:02.469564Z",
     "start_time": "2019-04-09T17:44:02.465726Z"
    }
   },
   "outputs": [],
   "source": [
    "threshold_arr = np.linspace(0, 0.9, 10)"
   ]
  },
  {
   "cell_type": "markdown",
   "metadata": {},
   "source": [
    "## Binomial teams minutes model"
   ]
  },
  {
   "cell_type": "code",
   "execution_count": 85,
   "metadata": {
    "ExecuteTime": {
     "end_time": "2019-04-09T17:45:01.587790Z",
     "start_time": "2019-04-09T17:44:04.017394Z"
    }
   },
   "outputs": [
    {
     "name": "stdout",
     "output_type": "stream",
     "text": [
      "0.0\n",
      "0.1\n",
      "0.2\n",
      "0.30000000000000004\n",
      "0.4\n",
      "0.5\n",
      "0.6000000000000001\n",
      "0.7000000000000001\n",
      "0.8\n",
      "0.9\n"
     ]
    }
   ],
   "source": [
    "eval_df_arr = []\n",
    "for i in threshold_arr:\n",
    "    print(i)\n",
    "    eval_df = kfold_cross_validation(sptmm_formula, sptmm_df, 10, i)\n",
    "    eval_df['threshold'] = [i] * len(eval_df)\n",
    "    eval_df_arr.append(eval_df)"
   ]
  },
  {
   "cell_type": "code",
   "execution_count": 86,
   "metadata": {
    "ExecuteTime": {
     "end_time": "2019-04-09T17:45:01.659611Z",
     "start_time": "2019-04-09T17:45:01.591912Z"
    }
   },
   "outputs": [
    {
     "data": {
      "text/html": [
       "<div>\n",
       "<style scoped>\n",
       "    .dataframe tbody tr th:only-of-type {\n",
       "        vertical-align: middle;\n",
       "    }\n",
       "\n",
       "    .dataframe tbody tr th {\n",
       "        vertical-align: top;\n",
       "    }\n",
       "\n",
       "    .dataframe thead th {\n",
       "        text-align: right;\n",
       "    }\n",
       "</style>\n",
       "<table border=\"1\" class=\"dataframe\">\n",
       "  <thead>\n",
       "    <tr style=\"text-align: right;\">\n",
       "      <th></th>\n",
       "      <th>mean_absolute_error_test</th>\n",
       "      <th>mean_absolute_error_train</th>\n",
       "      <th>precision_score_test</th>\n",
       "      <th>precision_score_train</th>\n",
       "      <th>recall_score_error_test</th>\n",
       "      <th>recall_score_train</th>\n",
       "    </tr>\n",
       "    <tr>\n",
       "      <th>threshold</th>\n",
       "      <th></th>\n",
       "      <th></th>\n",
       "      <th></th>\n",
       "      <th></th>\n",
       "      <th></th>\n",
       "      <th></th>\n",
       "    </tr>\n",
       "  </thead>\n",
       "  <tbody>\n",
       "    <tr>\n",
       "      <th>0.0</th>\n",
       "      <td>0.357309</td>\n",
       "      <td>0.355649</td>\n",
       "      <td>0.363127</td>\n",
       "      <td>0.363122</td>\n",
       "      <td>1.000000</td>\n",
       "      <td>1.000000</td>\n",
       "    </tr>\n",
       "    <tr>\n",
       "      <th>0.1</th>\n",
       "      <td>0.357288</td>\n",
       "      <td>0.355648</td>\n",
       "      <td>0.394341</td>\n",
       "      <td>0.395001</td>\n",
       "      <td>0.993115</td>\n",
       "      <td>0.993421</td>\n",
       "    </tr>\n",
       "    <tr>\n",
       "      <th>0.2</th>\n",
       "      <td>0.357595</td>\n",
       "      <td>0.355622</td>\n",
       "      <td>0.458095</td>\n",
       "      <td>0.461394</td>\n",
       "      <td>0.906942</td>\n",
       "      <td>0.916018</td>\n",
       "    </tr>\n",
       "    <tr>\n",
       "      <th>0.3</th>\n",
       "      <td>0.357615</td>\n",
       "      <td>0.355622</td>\n",
       "      <td>0.530678</td>\n",
       "      <td>0.534207</td>\n",
       "      <td>0.755447</td>\n",
       "      <td>0.760827</td>\n",
       "    </tr>\n",
       "    <tr>\n",
       "      <th>0.4</th>\n",
       "      <td>0.357665</td>\n",
       "      <td>0.355618</td>\n",
       "      <td>0.623980</td>\n",
       "      <td>0.631595</td>\n",
       "      <td>0.608178</td>\n",
       "      <td>0.614292</td>\n",
       "    </tr>\n",
       "    <tr>\n",
       "      <th>0.5</th>\n",
       "      <td>0.357614</td>\n",
       "      <td>0.355614</td>\n",
       "      <td>0.705760</td>\n",
       "      <td>0.711946</td>\n",
       "      <td>0.467255</td>\n",
       "      <td>0.473097</td>\n",
       "    </tr>\n",
       "    <tr>\n",
       "      <th>0.6</th>\n",
       "      <td>0.357466</td>\n",
       "      <td>0.355628</td>\n",
       "      <td>0.755222</td>\n",
       "      <td>0.759058</td>\n",
       "      <td>0.344625</td>\n",
       "      <td>0.347287</td>\n",
       "    </tr>\n",
       "    <tr>\n",
       "      <th>0.7</th>\n",
       "      <td>0.357521</td>\n",
       "      <td>0.355638</td>\n",
       "      <td>0.814314</td>\n",
       "      <td>0.817723</td>\n",
       "      <td>0.245688</td>\n",
       "      <td>0.245920</td>\n",
       "    </tr>\n",
       "    <tr>\n",
       "      <th>0.8</th>\n",
       "      <td>0.357320</td>\n",
       "      <td>0.355647</td>\n",
       "      <td>0.862907</td>\n",
       "      <td>0.866004</td>\n",
       "      <td>0.157675</td>\n",
       "      <td>0.158776</td>\n",
       "    </tr>\n",
       "    <tr>\n",
       "      <th>0.9</th>\n",
       "      <td>0.357538</td>\n",
       "      <td>0.355631</td>\n",
       "      <td>0.894347</td>\n",
       "      <td>0.891664</td>\n",
       "      <td>0.087370</td>\n",
       "      <td>0.086577</td>\n",
       "    </tr>\n",
       "  </tbody>\n",
       "</table>\n",
       "</div>"
      ],
      "text/plain": [
       "           mean_absolute_error_test  mean_absolute_error_train  \\\n",
       "threshold                                                        \n",
       "0.0                        0.357309                   0.355649   \n",
       "0.1                        0.357288                   0.355648   \n",
       "0.2                        0.357595                   0.355622   \n",
       "0.3                        0.357615                   0.355622   \n",
       "0.4                        0.357665                   0.355618   \n",
       "0.5                        0.357614                   0.355614   \n",
       "0.6                        0.357466                   0.355628   \n",
       "0.7                        0.357521                   0.355638   \n",
       "0.8                        0.357320                   0.355647   \n",
       "0.9                        0.357538                   0.355631   \n",
       "\n",
       "           precision_score_test  precision_score_train  \\\n",
       "threshold                                                \n",
       "0.0                    0.363127               0.363122   \n",
       "0.1                    0.394341               0.395001   \n",
       "0.2                    0.458095               0.461394   \n",
       "0.3                    0.530678               0.534207   \n",
       "0.4                    0.623980               0.631595   \n",
       "0.5                    0.705760               0.711946   \n",
       "0.6                    0.755222               0.759058   \n",
       "0.7                    0.814314               0.817723   \n",
       "0.8                    0.862907               0.866004   \n",
       "0.9                    0.894347               0.891664   \n",
       "\n",
       "           recall_score_error_test  recall_score_train  \n",
       "threshold                                               \n",
       "0.0                       1.000000            1.000000  \n",
       "0.1                       0.993115            0.993421  \n",
       "0.2                       0.906942            0.916018  \n",
       "0.3                       0.755447            0.760827  \n",
       "0.4                       0.608178            0.614292  \n",
       "0.5                       0.467255            0.473097  \n",
       "0.6                       0.344625            0.347287  \n",
       "0.7                       0.245688            0.245920  \n",
       "0.8                       0.157675            0.158776  \n",
       "0.9                       0.087370            0.086577  "
      ]
     },
     "execution_count": 86,
     "metadata": {},
     "output_type": "execute_result"
    }
   ],
   "source": [
    "eval_df = pd.concat(eval_df_arr)\n",
    "df = eval_df.groupby('threshold').mean()\n",
    "df"
   ]
  },
  {
   "cell_type": "code",
   "execution_count": 88,
   "metadata": {
    "ExecuteTime": {
     "end_time": "2019-04-09T17:45:29.808047Z",
     "start_time": "2019-04-09T17:45:29.533231Z"
    }
   },
   "outputs": [
    {
     "data": {
      "image/png": "[encoded data removed]",
      "text/plain": [
       "<Figure size 432x288 with 1 Axes>"
      ]
     },
     "metadata": {
      "needs_background": "light"
     },
     "output_type": "display_data"
    }
   ],
   "source": [
    "plt.scatter(df['precision_score_test'], df['recall_score_error_test'])\n",
    "plt.show()"
   ]
  },
  {
   "cell_type": "code",
   "execution_count": null,
   "metadata": {},
   "outputs": [],
   "source": []
  }
 ],
 "metadata": {
  "kernelspec": {
   "display_name": "Python 3",
   "language": "python",
   "name": "python3"
  },
  "language_info": {
   "codemirror_mode": {
    "name": "ipython",
    "version": 3
   },
   "file_extension": ".py",
   "mimetype": "text/x-python",
   "name": "python",
   "nbconvert_exporter": "python",
   "pygments_lexer": "ipython3",
   "version": "3.6.7"
  },
  "toc": {
   "nav_menu": {},
   "number_sections": true,
   "sideBar": true,
   "skip_h1_title": false,
   "title_cell": "Table of Contents",
   "title_sidebar": "Contents",
   "toc_cell": false,
   "toc_position": {},
   "toc_section_display": true,
   "toc_window_display": false
  }
 },
 "nbformat": 4,
 "nbformat_minor": 2
}
