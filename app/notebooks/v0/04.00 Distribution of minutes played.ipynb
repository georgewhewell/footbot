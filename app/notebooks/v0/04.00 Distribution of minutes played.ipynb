{
 "cells": [
  {
   "cell_type": "markdown",
   "metadata": {},
   "source": [
    "# Set up"
   ]
  },
  {
   "cell_type": "code",
   "execution_count": 1,
   "metadata": {
    "ExecuteTime": {
     "end_time": "2019-03-17T09:14:03.250340Z",
     "start_time": "2019-03-17T09:14:03.244430Z"
    }
   },
   "outputs": [],
   "source": [
    "# update path with data dir\n",
    "import sys\n",
    "sys.path.append('../data/')\n",
    "sys.path.append('../modelling/')"
   ]
  },
  {
   "cell_type": "code",
   "execution_count": 29,
   "metadata": {
    "ExecuteTime": {
     "end_time": "2019-03-17T09:44:17.179111Z",
     "start_time": "2019-03-17T09:44:17.170978Z"
    }
   },
   "outputs": [],
   "source": [
    "import player_data as player\n",
    "import goodness_fit\n",
    "import pandas as pd\n",
    "from datetime import datetime\n",
    "import statsmodels.api as sm\n",
    "import matplotlib.pyplot as plt\n",
    "import numpy as np\n",
    "from scipy.stats import beta"
   ]
  },
  {
   "cell_type": "markdown",
   "metadata": {},
   "source": [
    "# Get data"
   ]
  },
  {
   "cell_type": "code",
   "execution_count": 3,
   "metadata": {
    "ExecuteTime": {
     "end_time": "2019-03-17T09:14:05.941755Z",
     "start_time": "2019-03-17T09:14:05.935832Z"
    }
   },
   "outputs": [],
   "source": [
    "file_name = 'csvs/element_gameweek_' + datetime.today().strftime('%Y-%m-%d') + '.csv'"
   ]
  },
  {
   "cell_type": "code",
   "execution_count": 4,
   "metadata": {
    "ExecuteTime": {
     "end_time": "2019-03-17T09:14:06.737317Z",
     "start_time": "2019-03-17T09:14:06.556944Z"
    }
   },
   "outputs": [],
   "source": [
    "try:\n",
    "    element_gameweek_df = pd.read_csv(file_name)\n",
    "except:\n",
    "    element_gameweek_df = player.get_element_gameweek_df()\n",
    "    element_gameweek_df.to_csv(file_name)"
   ]
  },
  {
   "cell_type": "code",
   "execution_count": 5,
   "metadata": {
    "ExecuteTime": {
     "end_time": "2019-03-17T09:14:07.118327Z",
     "start_time": "2019-03-17T09:14:07.112443Z"
    }
   },
   "outputs": [],
   "source": [
    "current_event = 30\n",
    "element_types = [1, 2, 3, 4]\n",
    "threshold_minutes = 0"
   ]
  },
  {
   "cell_type": "code",
   "execution_count": 6,
   "metadata": {
    "ExecuteTime": {
     "end_time": "2019-03-17T09:14:09.492400Z",
     "start_time": "2019-03-17T09:14:09.469977Z"
    }
   },
   "outputs": [],
   "source": [
    "element_gameweek_df =\\\n",
    "element_gameweek_df[\n",
    "    (element_gameweek_df['event'] <= current_event)\n",
    "    & (element_gameweek_df['element_type'].isin(element_types))\n",
    "    & (element_gameweek_df['minutes'] >= threshold_minutes)\n",
    "]"
   ]
  },
  {
   "cell_type": "code",
   "execution_count": 21,
   "metadata": {
    "ExecuteTime": {
     "end_time": "2019-03-17T09:42:32.842339Z",
     "start_time": "2019-03-17T09:42:32.740494Z"
    }
   },
   "outputs": [],
   "source": [
    "element_gameweek_df['minutes_p'] = element_gameweek_df['minutes']/90"
   ]
  },
  {
   "cell_type": "markdown",
   "metadata": {},
   "source": [
    "# Analysis"
   ]
  },
  {
   "cell_type": "code",
   "execution_count": 16,
   "metadata": {
    "ExecuteTime": {
     "end_time": "2019-03-17T09:40:31.462935Z",
     "start_time": "2019-03-17T09:40:31.453040Z"
    }
   },
   "outputs": [],
   "source": [
    "def calculate_beta_parameters(mean, std):\n",
    "    a = (mean**2 - mean**3 - std**2*mean)/std**2\n",
    "    b = (mean*(1-mean**2 - std**2*(1 - mean)))/std**2\n",
    "    return a, b"
   ]
  },
  {
   "cell_type": "code",
   "execution_count": 22,
   "metadata": {
    "ExecuteTime": {
     "end_time": "2019-03-17T09:42:50.282919Z",
     "start_time": "2019-03-17T09:42:50.262994Z"
    }
   },
   "outputs": [
    {
     "data": {
      "text/plain": [
       "count    16823.000000\n",
       "mean         0.389389\n",
       "std          0.456748\n",
       "min          0.000000\n",
       "25%          0.000000\n",
       "50%          0.000000\n",
       "75%          1.000000\n",
       "max          1.000000\n",
       "Name: minutes_p, dtype: float64"
      ]
     },
     "execution_count": 22,
     "metadata": {},
     "output_type": "execute_result"
    }
   ],
   "source": [
    "element_gameweek_df['minutes_p'].describe()"
   ]
  },
  {
   "cell_type": "code",
   "execution_count": 51,
   "metadata": {
    "ExecuteTime": {
     "end_time": "2019-03-17T09:54:03.882832Z",
     "start_time": "2019-03-17T09:54:03.541985Z"
    }
   },
   "outputs": [
    {
     "data": {
      "image/png": "[encoded data removed]",
      "text/plain": [
       "<Figure size 432x288 with 1 Axes>"
      ]
     },
     "metadata": {
      "needs_background": "light"
     },
     "output_type": "display_data"
    },
    {
     "name": "stdout",
     "output_type": "stream",
     "text": [
      "0.05440127584501964 1.3457343416253942\n"
     ]
    }
   ],
   "source": [
    "plt.figure()\n",
    "plt.hist(element_gameweek_df['minutes_p'], density=True)\n",
    "a, b = calculate_beta_parameters(element_gameweek_df['minutes_p'].mean(), element_gameweek_df['minutes_p'].std())\n",
    "plt.plot(\n",
    "    np.linspace(0.0, 1.0),\n",
    "    beta.pdf(np.linspace(0.0, 1.0), 0.5, 0.75),\n",
    ")\n",
    "plt.show()\n",
    "print(a, b)"
   ]
  },
  {
   "cell_type": "code",
   "execution_count": 42,
   "metadata": {
    "ExecuteTime": {
     "end_time": "2019-03-17T09:49:28.066220Z",
     "start_time": "2019-03-17T09:49:27.700256Z"
    }
   },
   "outputs": [
    {
     "data": {
      "image/png": "[encoded data removed]",
      "text/plain": [
       "<Figure size 432x288 with 1 Axes>"
      ]
     },
     "metadata": {
      "needs_background": "light"
     },
     "output_type": "display_data"
    }
   ],
   "source": [
    "plt.figure()\n",
    "plt.hist(element_gameweek_df[element_gameweek_df['element']==225]['minutes_p'], density=True)\n",
    "a, b = calculate_beta_parameters(\n",
    "    element_gameweek_df[element_gameweek_df['element']==225]['minutes_p'].mean(),\n",
    "    element_gameweek_df[element_gameweek_df['element']==225]['minutes_p'].std())\n",
    "plt.plot(\n",
    "    np.linspace(0.0, 1.0),\n",
    "    beta.pdf(np.linspace(0.0, 1.0), a, b),\n",
    ")\n",
    "\n",
    "plt.show()"
   ]
  },
  {
   "cell_type": "code",
   "execution_count": 43,
   "metadata": {
    "ExecuteTime": {
     "end_time": "2019-03-17T09:49:44.301976Z",
     "start_time": "2019-03-17T09:49:43.942955Z"
    }
   },
   "outputs": [
    {
     "data": {
      "image/png": "[encoded data removed]",
      "text/plain": [
       "<Figure size 432x288 with 1 Axes>"
      ]
     },
     "metadata": {
      "needs_background": "light"
     },
     "output_type": "display_data"
    }
   ],
   "source": [
    "plt.figure()\n",
    "plt.hist(element_gameweek_df[element_gameweek_df['element']==105]['minutes_p'], density=True)\n",
    "a, b = calculate_beta_parameters(\n",
    "    element_gameweek_df[element_gameweek_df['element']==105]['minutes_p'].mean(),\n",
    "    element_gameweek_df[element_gameweek_df['element']==105]['minutes_p'].std())\n",
    "plt.plot(\n",
    "    np.linspace(0.0, 1.0),\n",
    "    beta.pdf(np.linspace(0.0, 1.0), a, b),\n",
    ")\n",
    "\n",
    "plt.show()"
   ]
  },
  {
   "cell_type": "code",
   "execution_count": null,
   "metadata": {},
   "outputs": [],
   "source": []
  },
  {
   "cell_type": "code",
   "execution_count": null,
   "metadata": {},
   "outputs": [],
   "source": []
  }
 ],
 "metadata": {
  "kernelspec": {
   "display_name": "Python 3",
   "language": "python",
   "name": "python3"
  },
  "language_info": {
   "codemirror_mode": {
    "name": "ipython",
    "version": 3
   },
   "file_extension": ".py",
   "mimetype": "text/x-python",
   "name": "python",
   "nbconvert_exporter": "python",
   "pygments_lexer": "ipython3",
   "version": "3.6.7"
  },
  "toc": {
   "nav_menu": {},
   "number_sections": true,
   "sideBar": true,
   "skip_h1_title": false,
   "title_cell": "Table of Contents",
   "title_sidebar": "Contents",
   "toc_cell": false,
   "toc_position": {},
   "toc_section_display": true,
   "toc_window_display": false
  }
 },
 "nbformat": 4,
 "nbformat_minor": 2
}
