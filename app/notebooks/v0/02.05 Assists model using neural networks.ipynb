{
 "cells": [
  {
   "cell_type": "markdown",
   "metadata": {},
   "source": [
    "# Set up"
   ]
  },
  {
   "cell_type": "code",
   "execution_count": 1,
   "metadata": {
    "ExecuteTime": {
     "end_time": "2019-04-10T15:22:49.969004Z",
     "start_time": "2019-04-10T15:22:49.965499Z"
    }
   },
   "outputs": [],
   "source": [
    "# update path with data dir\n",
    "import sys\n",
    "sys.path.append('../data/')\n",
    "sys.path.append('../modelling/')"
   ]
  },
  {
   "cell_type": "code",
   "execution_count": 2,
   "metadata": {
    "ExecuteTime": {
     "end_time": "2019-04-10T15:22:52.187262Z",
     "start_time": "2019-04-10T15:22:49.971261Z"
    }
   },
   "outputs": [
    {
     "name": "stderr",
     "output_type": "stream",
     "text": [
      "/home/tom/footbot/venv/lib/python3.6/site-packages/statsmodels/compat/pandas.py:56: FutureWarning: The pandas.core.datetools module is deprecated and will be removed in a future version. Please use the pandas.tseries module instead.\n",
      "  from pandas.core import datetools\n"
     ]
    }
   ],
   "source": [
    "import player_data as player\n",
    "from tensorflow.keras.models import Sequential\n",
    "from tensorflow.keras.layers import Dense\n",
    "from tensorflow.keras.wrappers.scikit_learn import KerasClassifier\n",
    "import pandas as pd\n",
    "from sklearn.model_selection import train_test_split, GridSearchCV\n",
    "from sklearn.preprocessing import StandardScaler\n",
    "from sklearn.metrics import mean_absolute_error, mean_squared_error\n",
    "import patsy\n",
    "from datetime import datetime\n",
    "import numpy as np"
   ]
  },
  {
   "cell_type": "code",
   "execution_count": 3,
   "metadata": {
    "ExecuteTime": {
     "end_time": "2019-04-10T15:22:52.193933Z",
     "start_time": "2019-04-10T15:22:52.190833Z"
    }
   },
   "outputs": [],
   "source": [
    "response_variable = 'assists'"
   ]
  },
  {
   "cell_type": "markdown",
   "metadata": {},
   "source": [
    "# Getting data"
   ]
  },
  {
   "cell_type": "code",
   "execution_count": 4,
   "metadata": {
    "ExecuteTime": {
     "end_time": "2019-04-10T15:22:52.215451Z",
     "start_time": "2019-04-10T15:22:52.196999Z"
    }
   },
   "outputs": [],
   "source": [
    "file_name = 'csvs/element_gameweek_' + datetime.today().strftime('%Y-%m-%d') + '.csv'"
   ]
  },
  {
   "cell_type": "code",
   "execution_count": 5,
   "metadata": {
    "ExecuteTime": {
     "end_time": "2019-04-10T15:22:52.393011Z",
     "start_time": "2019-04-10T15:22:52.217711Z"
    }
   },
   "outputs": [],
   "source": [
    "try:\n",
    "    element_gameweek_df = pd.read_csv(file_name)\n",
    "except:\n",
    "    element_gameweek_df = player.get_element_gameweek_df()\n",
    "    element_gameweek_df.to_csv(file_name)"
   ]
  },
  {
   "cell_type": "code",
   "execution_count": 6,
   "metadata": {
    "ExecuteTime": {
     "end_time": "2019-04-10T15:22:52.399405Z",
     "start_time": "2019-04-10T15:22:52.395569Z"
    }
   },
   "outputs": [],
   "source": [
    "current_event = 32\n",
    "element_types = [2, 3, 4]\n",
    "threshold_minutes = 1"
   ]
  },
  {
   "cell_type": "code",
   "execution_count": 7,
   "metadata": {
    "ExecuteTime": {
     "end_time": "2019-04-10T15:22:52.426197Z",
     "start_time": "2019-04-10T15:22:52.402079Z"
    }
   },
   "outputs": [],
   "source": [
    "element_gameweek_df =\\\n",
    "element_gameweek_df[\n",
    "    (element_gameweek_df['event'] <= current_event)\n",
    "    & (element_gameweek_df['element_type'].isin(element_types))\n",
    "    & (element_gameweek_df['minutes'] >= threshold_minutes)\n",
    "]"
   ]
  },
  {
   "cell_type": "code",
   "execution_count": 8,
   "metadata": {
    "ExecuteTime": {
     "end_time": "2019-04-10T15:22:52.547580Z",
     "start_time": "2019-04-10T15:22:52.428862Z"
    }
   },
   "outputs": [],
   "source": [
    "player.add_home_categorical_variable(element_gameweek_df)"
   ]
  },
  {
   "cell_type": "code",
   "execution_count": 9,
   "metadata": {
    "ExecuteTime": {
     "end_time": "2019-04-10T15:22:52.602448Z",
     "start_time": "2019-04-10T15:22:52.549936Z"
    }
   },
   "outputs": [],
   "source": [
    "element_gameweek_df['row_id'] = element_gameweek_df['row_id'].rank()"
   ]
  },
  {
   "cell_type": "code",
   "execution_count": 10,
   "metadata": {
    "ExecuteTime": {
     "end_time": "2019-04-10T15:22:52.707455Z",
     "start_time": "2019-04-10T15:22:52.604971Z"
    }
   },
   "outputs": [],
   "source": [
    "element_gameweek_df['element_fixture_rank'] = element_gameweek_df.groupby('element')['row_id'].rank()"
   ]
  },
  {
   "cell_type": "code",
   "execution_count": 11,
   "metadata": {
    "ExecuteTime": {
     "end_time": "2019-04-10T15:22:52.766064Z",
     "start_time": "2019-04-10T15:22:52.709956Z"
    }
   },
   "outputs": [],
   "source": [
    "rolling_cols = [\n",
    "    'big_chances_created',\n",
    "    'assists',\n",
    "    'key_passes',\n",
    "    'open_play_crosses'\n",
    "]"
   ]
  },
  {
   "cell_type": "code",
   "execution_count": 12,
   "metadata": {
    "ExecuteTime": {
     "end_time": "2019-04-10T15:22:53.543100Z",
     "start_time": "2019-04-10T15:22:52.768150Z"
    }
   },
   "outputs": [],
   "source": [
    "rolling_df = \\\n",
    "element_gameweek_df.copy().groupby('element', as_index=True)[['minutes'] + rolling_cols]\\\n",
    ".rolling(38, min_periods=1).sum().reset_index()[['element', 'minutes'] + rolling_cols]"
   ]
  },
  {
   "cell_type": "code",
   "execution_count": 13,
   "metadata": {
    "ExecuteTime": {
     "end_time": "2019-04-10T15:22:53.647440Z",
     "start_time": "2019-04-10T15:22:53.549238Z"
    }
   },
   "outputs": [],
   "source": [
    "rolling_df['element_fixture_rank'] = rolling_df.groupby('element')['minutes'].rank()"
   ]
  },
  {
   "cell_type": "code",
   "execution_count": 14,
   "metadata": {
    "ExecuteTime": {
     "end_time": "2019-04-10T15:22:53.655789Z",
     "start_time": "2019-04-10T15:22:53.650580Z"
    }
   },
   "outputs": [],
   "source": [
    "rolling_df['element_fixture_rank'] = rolling_df['element_fixture_rank'] + 1"
   ]
  },
  {
   "cell_type": "code",
   "execution_count": 15,
   "metadata": {
    "ExecuteTime": {
     "end_time": "2019-04-10T15:22:53.693234Z",
     "start_time": "2019-04-10T15:22:53.657698Z"
    }
   },
   "outputs": [],
   "source": [
    "element_gameweek_df =\\\n",
    "element_gameweek_df.join(\n",
    "    rolling_df.set_index(['element', 'element_fixture_rank']),\n",
    "    on=['element', 'element_fixture_rank'],\n",
    "    rsuffix='_rolling')"
   ]
  },
  {
   "cell_type": "code",
   "execution_count": 16,
   "metadata": {
    "ExecuteTime": {
     "end_time": "2019-04-10T15:22:53.705872Z",
     "start_time": "2019-04-10T15:22:53.695714Z"
    }
   },
   "outputs": [],
   "source": [
    "for i in rolling_cols:\n",
    "    element_gameweek_df[i + '_per_minute_rolling'] = \\\n",
    "    element_gameweek_df[i + '_rolling'] / element_gameweek_df['minutes_rolling']"
   ]
  },
  {
   "cell_type": "code",
   "execution_count": 17,
   "metadata": {
    "ExecuteTime": {
     "end_time": "2019-04-10T15:22:54.515745Z",
     "start_time": "2019-04-10T15:22:53.707989Z"
    }
   },
   "outputs": [],
   "source": [
    "rolling_p5_df = \\\n",
    "element_gameweek_df.copy().groupby('element', as_index=True)[['minutes'] + rolling_cols]\\\n",
    ".rolling(5, min_periods=1).sum().reset_index()[['element', 'minutes'] + rolling_cols]"
   ]
  },
  {
   "cell_type": "code",
   "execution_count": 18,
   "metadata": {
    "ExecuteTime": {
     "end_time": "2019-04-10T15:22:54.623808Z",
     "start_time": "2019-04-10T15:22:54.518495Z"
    }
   },
   "outputs": [],
   "source": [
    "rolling_p5_df['element_fixture_rank'] = rolling_p5_df.groupby('element')['minutes'].rank()"
   ]
  },
  {
   "cell_type": "code",
   "execution_count": 19,
   "metadata": {
    "ExecuteTime": {
     "end_time": "2019-04-10T15:22:54.630536Z",
     "start_time": "2019-04-10T15:22:54.626478Z"
    }
   },
   "outputs": [],
   "source": [
    "rolling_p5_df['element_fixture_rank'] = rolling_p5_df['element_fixture_rank'] + 1"
   ]
  },
  {
   "cell_type": "code",
   "execution_count": 20,
   "metadata": {
    "ExecuteTime": {
     "end_time": "2019-04-10T15:22:54.683464Z",
     "start_time": "2019-04-10T15:22:54.632720Z"
    }
   },
   "outputs": [],
   "source": [
    "element_gameweek_df =\\\n",
    "element_gameweek_df.join(\n",
    "    rolling_p5_df.set_index(['element', 'element_fixture_rank']),\n",
    "    on=['element', 'element_fixture_rank'],\n",
    "    rsuffix='_rolling_p5')"
   ]
  },
  {
   "cell_type": "code",
   "execution_count": 21,
   "metadata": {
    "ExecuteTime": {
     "end_time": "2019-04-10T15:22:54.699918Z",
     "start_time": "2019-04-10T15:22:54.686161Z"
    }
   },
   "outputs": [],
   "source": [
    "for i in rolling_cols:\n",
    "    element_gameweek_df[i + '_per_minute_rolling_p5'] = \\\n",
    "    element_gameweek_df[i + '_rolling_p5'] / element_gameweek_df['minutes_rolling']"
   ]
  },
  {
   "cell_type": "code",
   "execution_count": 22,
   "metadata": {
    "ExecuteTime": {
     "end_time": "2019-04-10T15:22:54.766848Z",
     "start_time": "2019-04-10T15:22:54.702570Z"
    }
   },
   "outputs": [
    {
     "data": {
      "text/html": [
       "<div>\n",
       "<style scoped>\n",
       "    .dataframe tbody tr th:only-of-type {\n",
       "        vertical-align: middle;\n",
       "    }\n",
       "\n",
       "    .dataframe tbody tr th {\n",
       "        vertical-align: top;\n",
       "    }\n",
       "\n",
       "    .dataframe thead th {\n",
       "        text-align: right;\n",
       "    }\n",
       "</style>\n",
       "<table border=\"1\" class=\"dataframe\">\n",
       "  <thead>\n",
       "    <tr style=\"text-align: right;\">\n",
       "      <th></th>\n",
       "      <th>row_id</th>\n",
       "      <th>assists</th>\n",
       "      <th>attempted_passes</th>\n",
       "      <th>big_chances_created</th>\n",
       "      <th>big_chances_missed</th>\n",
       "      <th>bonus</th>\n",
       "      <th>bps</th>\n",
       "      <th>clean_sheets</th>\n",
       "      <th>clearances_blocks_interceptions</th>\n",
       "      <th>completed_passes</th>\n",
       "      <th>...</th>\n",
       "      <th>open_play_crosses_per_minute_rolling</th>\n",
       "      <th>minutes_rolling_p5</th>\n",
       "      <th>big_chances_created_rolling_p5</th>\n",
       "      <th>assists_rolling_p5</th>\n",
       "      <th>key_passes_rolling_p5</th>\n",
       "      <th>open_play_crosses_rolling_p5</th>\n",
       "      <th>big_chances_created_per_minute_rolling_p5</th>\n",
       "      <th>assists_per_minute_rolling_p5</th>\n",
       "      <th>key_passes_per_minute_rolling_p5</th>\n",
       "      <th>open_play_crosses_per_minute_rolling_p5</th>\n",
       "    </tr>\n",
       "  </thead>\n",
       "  <tbody>\n",
       "    <tr>\n",
       "      <th>80</th>\n",
       "      <td>1.0</td>\n",
       "      <td>0</td>\n",
       "      <td>92</td>\n",
       "      <td>0</td>\n",
       "      <td>0</td>\n",
       "      <td>0</td>\n",
       "      <td>11</td>\n",
       "      <td>0</td>\n",
       "      <td>6</td>\n",
       "      <td>85</td>\n",
       "      <td>...</td>\n",
       "      <td>NaN</td>\n",
       "      <td>NaN</td>\n",
       "      <td>NaN</td>\n",
       "      <td>NaN</td>\n",
       "      <td>NaN</td>\n",
       "      <td>NaN</td>\n",
       "      <td>NaN</td>\n",
       "      <td>NaN</td>\n",
       "      <td>NaN</td>\n",
       "      <td>NaN</td>\n",
       "    </tr>\n",
       "    <tr>\n",
       "      <th>82</th>\n",
       "      <td>2.0</td>\n",
       "      <td>0</td>\n",
       "      <td>74</td>\n",
       "      <td>0</td>\n",
       "      <td>0</td>\n",
       "      <td>0</td>\n",
       "      <td>17</td>\n",
       "      <td>0</td>\n",
       "      <td>4</td>\n",
       "      <td>70</td>\n",
       "      <td>...</td>\n",
       "      <td>0.0</td>\n",
       "      <td>90.0</td>\n",
       "      <td>0.0</td>\n",
       "      <td>0.0</td>\n",
       "      <td>0.0</td>\n",
       "      <td>0.0</td>\n",
       "      <td>0.0</td>\n",
       "      <td>0.0</td>\n",
       "      <td>0.0</td>\n",
       "      <td>0.0</td>\n",
       "    </tr>\n",
       "    <tr>\n",
       "      <th>83</th>\n",
       "      <td>3.0</td>\n",
       "      <td>0</td>\n",
       "      <td>38</td>\n",
       "      <td>0</td>\n",
       "      <td>0</td>\n",
       "      <td>0</td>\n",
       "      <td>10</td>\n",
       "      <td>0</td>\n",
       "      <td>2</td>\n",
       "      <td>36</td>\n",
       "      <td>...</td>\n",
       "      <td>0.0</td>\n",
       "      <td>159.0</td>\n",
       "      <td>0.0</td>\n",
       "      <td>0.0</td>\n",
       "      <td>0.0</td>\n",
       "      <td>0.0</td>\n",
       "      <td>0.0</td>\n",
       "      <td>0.0</td>\n",
       "      <td>0.0</td>\n",
       "      <td>0.0</td>\n",
       "    </tr>\n",
       "    <tr>\n",
       "      <th>84</th>\n",
       "      <td>4.0</td>\n",
       "      <td>0</td>\n",
       "      <td>64</td>\n",
       "      <td>0</td>\n",
       "      <td>0</td>\n",
       "      <td>0</td>\n",
       "      <td>19</td>\n",
       "      <td>0</td>\n",
       "      <td>10</td>\n",
       "      <td>57</td>\n",
       "      <td>...</td>\n",
       "      <td>0.0</td>\n",
       "      <td>204.0</td>\n",
       "      <td>0.0</td>\n",
       "      <td>0.0</td>\n",
       "      <td>0.0</td>\n",
       "      <td>0.0</td>\n",
       "      <td>0.0</td>\n",
       "      <td>0.0</td>\n",
       "      <td>0.0</td>\n",
       "      <td>0.0</td>\n",
       "    </tr>\n",
       "    <tr>\n",
       "      <th>85</th>\n",
       "      <td>5.0</td>\n",
       "      <td>0</td>\n",
       "      <td>89</td>\n",
       "      <td>0</td>\n",
       "      <td>0</td>\n",
       "      <td>0</td>\n",
       "      <td>17</td>\n",
       "      <td>0</td>\n",
       "      <td>2</td>\n",
       "      <td>87</td>\n",
       "      <td>...</td>\n",
       "      <td>0.0</td>\n",
       "      <td>294.0</td>\n",
       "      <td>0.0</td>\n",
       "      <td>0.0</td>\n",
       "      <td>0.0</td>\n",
       "      <td>0.0</td>\n",
       "      <td>0.0</td>\n",
       "      <td>0.0</td>\n",
       "      <td>0.0</td>\n",
       "      <td>0.0</td>\n",
       "    </tr>\n",
       "  </tbody>\n",
       "</table>\n",
       "<p>5 rows × 85 columns</p>\n",
       "</div>"
      ],
      "text/plain": [
       "    row_id  assists  attempted_passes  big_chances_created  \\\n",
       "80     1.0        0                92                    0   \n",
       "82     2.0        0                74                    0   \n",
       "83     3.0        0                38                    0   \n",
       "84     4.0        0                64                    0   \n",
       "85     5.0        0                89                    0   \n",
       "\n",
       "    big_chances_missed  bonus  bps  clean_sheets  \\\n",
       "80                   0      0   11             0   \n",
       "82                   0      0   17             0   \n",
       "83                   0      0   10             0   \n",
       "84                   0      0   19             0   \n",
       "85                   0      0   17             0   \n",
       "\n",
       "    clearances_blocks_interceptions  completed_passes  \\\n",
       "80                                6                85   \n",
       "82                                4                70   \n",
       "83                                2                36   \n",
       "84                               10                57   \n",
       "85                                2                87   \n",
       "\n",
       "                     ...                     \\\n",
       "80                   ...                      \n",
       "82                   ...                      \n",
       "83                   ...                      \n",
       "84                   ...                      \n",
       "85                   ...                      \n",
       "\n",
       "    open_play_crosses_per_minute_rolling  minutes_rolling_p5  \\\n",
       "80                                   NaN                 NaN   \n",
       "82                                   0.0                90.0   \n",
       "83                                   0.0               159.0   \n",
       "84                                   0.0               204.0   \n",
       "85                                   0.0               294.0   \n",
       "\n",
       "    big_chances_created_rolling_p5  assists_rolling_p5  key_passes_rolling_p5  \\\n",
       "80                             NaN                 NaN                    NaN   \n",
       "82                             0.0                 0.0                    0.0   \n",
       "83                             0.0                 0.0                    0.0   \n",
       "84                             0.0                 0.0                    0.0   \n",
       "85                             0.0                 0.0                    0.0   \n",
       "\n",
       "    open_play_crosses_rolling_p5  big_chances_created_per_minute_rolling_p5  \\\n",
       "80                           NaN                                        NaN   \n",
       "82                           0.0                                        0.0   \n",
       "83                           0.0                                        0.0   \n",
       "84                           0.0                                        0.0   \n",
       "85                           0.0                                        0.0   \n",
       "\n",
       "    assists_per_minute_rolling_p5  key_passes_per_minute_rolling_p5  \\\n",
       "80                            NaN                               NaN   \n",
       "82                            0.0                               0.0   \n",
       "83                            0.0                               0.0   \n",
       "84                            0.0                               0.0   \n",
       "85                            0.0                               0.0   \n",
       "\n",
       "    open_play_crosses_per_minute_rolling_p5  \n",
       "80                                      NaN  \n",
       "82                                      0.0  \n",
       "83                                      0.0  \n",
       "84                                      0.0  \n",
       "85                                      0.0  \n",
       "\n",
       "[5 rows x 85 columns]"
      ]
     },
     "execution_count": 22,
     "metadata": {},
     "output_type": "execute_result"
    }
   ],
   "source": [
    "element_gameweek_df.head()"
   ]
  },
  {
   "cell_type": "code",
   "execution_count": 23,
   "metadata": {
    "ExecuteTime": {
     "end_time": "2019-04-10T15:22:54.774980Z",
     "start_time": "2019-04-10T15:22:54.769276Z"
    }
   },
   "outputs": [
    {
     "data": {
      "text/plain": [
       "Index(['row_id', 'assists', 'attempted_passes', 'big_chances_created',\n",
       "       'big_chances_missed', 'bonus', 'bps', 'clean_sheets',\n",
       "       'clearances_blocks_interceptions', 'completed_passes', 'creativity',\n",
       "       'dribbles', 'ea_index', 'element', 'errors_leading_to_goal',\n",
       "       'errors_leading_to_goal_attempt', 'fixture', 'fouls', 'goals_conceded',\n",
       "       'goals_scored', 'ict_index', 'id', 'influence', 'key_passes',\n",
       "       'kickoff_time', 'kickoff_time_formatted', 'loaned_in', 'loaned_out',\n",
       "       'minutes', 'offside', 'open_play_crosses', 'opponent_team', 'own_goals',\n",
       "       'penalties_conceded', 'penalties_missed', 'penalties_saved',\n",
       "       'recoveries', 'red_cards', 'round', 'saves', 'selected', 'tackled',\n",
       "       'tackles', 'target_missed', 'team_a_score', 'team_h_score', 'threat',\n",
       "       'total_points', 'transfers_balance', 'transfers_in', 'transfers_out',\n",
       "       'value', 'was_home', 'winning_goals', 'yellow_cards', 'event', 'team_a',\n",
       "       'team_a_difficulty', 'team_h', 'team_h_difficulty', 'element_type',\n",
       "       'team', 'web_name', 'safe_web_name', 'own_team', 'opposition_team',\n",
       "       'element_fixture_rank', 'minutes_rolling',\n",
       "       'big_chances_created_rolling', 'assists_rolling', 'key_passes_rolling',\n",
       "       'open_play_crosses_rolling', 'big_chances_created_per_minute_rolling',\n",
       "       'assists_per_minute_rolling', 'key_passes_per_minute_rolling',\n",
       "       'open_play_crosses_per_minute_rolling', 'minutes_rolling_p5',\n",
       "       'big_chances_created_rolling_p5', 'assists_rolling_p5',\n",
       "       'key_passes_rolling_p5', 'open_play_crosses_rolling_p5',\n",
       "       'big_chances_created_per_minute_rolling_p5',\n",
       "       'assists_per_minute_rolling_p5', 'key_passes_per_minute_rolling_p5',\n",
       "       'open_play_crosses_per_minute_rolling_p5'],\n",
       "      dtype='object')"
      ]
     },
     "execution_count": 23,
     "metadata": {},
     "output_type": "execute_result"
    }
   ],
   "source": [
    "element_gameweek_df.columns"
   ]
  },
  {
   "cell_type": "markdown",
   "metadata": {},
   "source": [
    "# Neural network"
   ]
  },
  {
   "cell_type": "code",
   "execution_count": 24,
   "metadata": {
    "ExecuteTime": {
     "end_time": "2019-04-10T15:22:54.800728Z",
     "start_time": "2019-04-10T15:22:54.777310Z"
    }
   },
   "outputs": [],
   "source": [
    "def add_missing_columns(df, columns):\n",
    "    for col in set(columns) - set(df.columns):\n",
    "        df[col] = np.zeros(len(df))\n",
    "    \n",
    "    return df[columns]"
   ]
  },
  {
   "cell_type": "code",
   "execution_count": 25,
   "metadata": {
    "ExecuteTime": {
     "end_time": "2019-04-10T15:22:54.823844Z",
     "start_time": "2019-04-10T15:22:54.802933Z"
    }
   },
   "outputs": [
    {
     "name": "stdout",
     "output_type": "stream",
     "text": [
      "assists ~ C(element) + C(opposition_team) + was_home  + big_chances_created_per_minute_rolling + assists_per_minute_rolling + key_passes_per_minute_rolling + open_play_crosses_per_minute_rolling\n"
     ]
    }
   ],
   "source": [
    "rolling_vars = ' + '.join([i + '_per_minute_rolling' for i in rolling_cols])\n",
    "rolling_p5_vars = ' + '.join([i + '_per_minute_rolling_p5' for i in rolling_cols])\n",
    "\n",
    "formula = \\\n",
    "f'{response_variable} ~ C(element) + C(opposition_team) + was_home  + ' + rolling_vars\n",
    "\n",
    "print(formula)"
   ]
  },
  {
   "cell_type": "code",
   "execution_count": 26,
   "metadata": {
    "ExecuteTime": {
     "end_time": "2019-04-10T15:22:55.098069Z",
     "start_time": "2019-04-10T15:22:54.825911Z"
    }
   },
   "outputs": [],
   "source": [
    "y, X = patsy.dmatrices(formula, element_gameweek_df, return_type='dataframe')"
   ]
  },
  {
   "cell_type": "code",
   "execution_count": 27,
   "metadata": {
    "ExecuteTime": {
     "end_time": "2019-04-10T15:22:55.105027Z",
     "start_time": "2019-04-10T15:22:55.100559Z"
    }
   },
   "outputs": [
    {
     "data": {
      "text/plain": [
       "483"
      ]
     },
     "execution_count": 27,
     "metadata": {},
     "output_type": "execute_result"
    }
   ],
   "source": [
    "len(X.columns)"
   ]
  },
  {
   "cell_type": "code",
   "execution_count": 28,
   "metadata": {
    "ExecuteTime": {
     "end_time": "2019-04-10T15:22:55.151019Z",
     "start_time": "2019-04-10T15:22:55.107101Z"
    }
   },
   "outputs": [],
   "source": [
    "X_train, X_test, y_train, y_test = train_test_split(X, y, test_size=0.25)"
   ]
  },
  {
   "cell_type": "code",
   "execution_count": 29,
   "metadata": {
    "ExecuteTime": {
     "end_time": "2019-04-10T15:22:55.186972Z",
     "start_time": "2019-04-10T15:22:55.153450Z"
    }
   },
   "outputs": [],
   "source": [
    "X_train = add_missing_columns(X_train, X.columns)\n",
    "X_test = add_missing_columns(X_test, X.columns)"
   ]
  },
  {
   "cell_type": "code",
   "execution_count": 30,
   "metadata": {
    "ExecuteTime": {
     "end_time": "2019-04-10T15:22:55.349275Z",
     "start_time": "2019-04-10T15:22:55.190144Z"
    }
   },
   "outputs": [],
   "source": [
    "# standardise explanatory data by subtracting the mean and scaling to unit variance\n",
    "# find standardising transformations based on training set\n",
    "scaler = StandardScaler().fit(X_train)\n",
    "\n",
    "# standardise training set\n",
    "X_train = scaler.transform(X_train)\n",
    "\n",
    "# standardise test set\n",
    "X_test = scaler.transform(X_test)"
   ]
  },
  {
   "cell_type": "code",
   "execution_count": 35,
   "metadata": {
    "ExecuteTime": {
     "end_time": "2019-04-10T15:23:26.005516Z",
     "start_time": "2019-04-10T15:23:25.849173Z"
    }
   },
   "outputs": [],
   "source": [
    "# instantiate model\n",
    "model = Sequential()\n",
    "\n",
    "# add the input layer, i.e. first hidden layer\n",
    "model.add(Dense(units=25, activation='relu', input_shape=(len(X.columns),)))\n",
    "\n",
    "# add a hidden layer\n",
    "model.add(Dense(units=25, activation='relu'))\n",
    "\n",
    "# add a hidden layer\n",
    "model.add(Dense(units=25, activation='relu'))\n",
    "\n",
    "# add a hidden layer\n",
    "model.add(Dense(units=25, activation='relu'))\n",
    "          \n",
    "# add the output layer\n",
    "model.add(Dense(units=1, activation='linear'))"
   ]
  },
  {
   "cell_type": "code",
   "execution_count": 36,
   "metadata": {
    "ExecuteTime": {
     "end_time": "2019-04-10T15:23:26.411495Z",
     "start_time": "2019-04-10T15:23:26.264566Z"
    }
   },
   "outputs": [],
   "source": [
    "# set training configuration\n",
    "model.compile(\n",
    "    loss='mean_absolute_error',\n",
    "    optimizer='adam'\n",
    ")"
   ]
  },
  {
   "cell_type": "code",
   "execution_count": 37,
   "metadata": {
    "ExecuteTime": {
     "end_time": "2019-04-10T15:23:52.259078Z",
     "start_time": "2019-04-10T15:23:26.538037Z"
    }
   },
   "outputs": [
    {
     "name": "stdout",
     "output_type": "stream",
     "text": [
      "Epoch 1/20\n",
      "6861/6861 [==============================] - 2s 256us/sample - loss: 0.1121\n",
      "Epoch 2/20\n",
      "6861/6861 [==============================] - 1s 218us/sample - loss: 0.0970\n",
      "Epoch 3/20\n",
      "6861/6861 [==============================] - 2s 219us/sample - loss: 0.0952\n",
      "Epoch 4/20\n",
      "6861/6861 [==============================] - 1s 168us/sample - loss: 0.0948\n",
      "Epoch 5/20\n",
      "6861/6861 [==============================] - 1s 168us/sample - loss: 0.0945\n",
      "Epoch 6/20\n",
      "6861/6861 [==============================] - 1s 165us/sample - loss: 0.0944\n",
      "Epoch 7/20\n",
      "6861/6861 [==============================] - 1s 166us/sample - loss: 0.0944\n",
      "Epoch 8/20\n",
      "6861/6861 [==============================] - 1s 172us/sample - loss: 0.0943\n",
      "Epoch 9/20\n",
      "6861/6861 [==============================] - 1s 170us/sample - loss: 0.0941\n",
      "Epoch 10/20\n",
      "6861/6861 [==============================] - 1s 170us/sample - loss: 0.0936\n",
      "Epoch 11/20\n",
      "6861/6861 [==============================] - 1s 198us/sample - loss: 0.0935\n",
      "Epoch 12/20\n",
      "6861/6861 [==============================] - 1s 167us/sample - loss: 0.0932\n",
      "Epoch 13/20\n",
      "6861/6861 [==============================] - 1s 170us/sample - loss: 0.0928\n",
      "Epoch 14/20\n",
      "6861/6861 [==============================] - 1s 169us/sample - loss: 0.0926\n",
      "Epoch 15/20\n",
      "6861/6861 [==============================] - 1s 169us/sample - loss: 0.0927\n",
      "Epoch 16/20\n",
      "6861/6861 [==============================] - 1s 199us/sample - loss: 0.0925\n",
      "Epoch 17/20\n",
      "6861/6861 [==============================] - 1s 170us/sample - loss: 0.0923\n",
      "Epoch 18/20\n",
      "6861/6861 [==============================] - 1s 163us/sample - loss: 0.0921\n",
      "Epoch 19/20\n",
      "6861/6861 [==============================] - 1s 193us/sample - loss: 0.0920\n",
      "Epoch 20/20\n",
      "6861/6861 [==============================] - 1s 155us/sample - loss: 0.0924\n"
     ]
    },
    {
     "data": {
      "text/plain": [
       "<tensorflow.python.keras.callbacks.History at 0x7f0907fe88d0>"
      ]
     },
     "execution_count": 37,
     "metadata": {},
     "output_type": "execute_result"
    }
   ],
   "source": [
    "# train model on training set\n",
    "model.fit(\n",
    "    X_train, # explanatory variable training data\n",
    "    y_train, # response variable training data\n",
    "    epochs=20, # number of training iterations\n",
    "    batch_size=10, # investigate this - The batch size that you specify in the code above defines the number of samples that going to be propagated through the network\n",
    "    verbose=1 # monitor training progress\n",
    ")"
   ]
  },
  {
   "cell_type": "code",
   "execution_count": 38,
   "metadata": {
    "ExecuteTime": {
     "end_time": "2019-04-10T15:23:52.377207Z",
     "start_time": "2019-04-10T15:23:52.262787Z"
    }
   },
   "outputs": [
    {
     "data": {
      "text/plain": [
       "(0.08756267275746951, 0.10296992838464536)"
      ]
     },
     "execution_count": 38,
     "metadata": {},
     "output_type": "execute_result"
    }
   ],
   "source": [
    "# get predictions for test set\n",
    "y_pred = model.predict(X_test).flatten()\n",
    "\n",
    "# calculate cross entropy loss for test set\n",
    "test_loss = (mean_absolute_error(y_test, y_pred), mean_squared_error(y_test, y_pred))\n",
    "test_loss"
   ]
  },
  {
   "cell_type": "code",
   "execution_count": null,
   "metadata": {},
   "outputs": [],
   "source": []
  }
 ],
 "metadata": {
  "kernelspec": {
   "display_name": "Python 3",
   "language": "python",
   "name": "python3"
  },
  "language_info": {
   "codemirror_mode": {
    "name": "ipython",
    "version": 3
   },
   "file_extension": ".py",
   "mimetype": "text/x-python",
   "name": "python",
   "nbconvert_exporter": "python",
   "pygments_lexer": "ipython3",
   "version": "3.6.7"
  },
  "toc": {
   "nav_menu": {},
   "number_sections": true,
   "sideBar": true,
   "skip_h1_title": false,
   "title_cell": "Table of Contents",
   "title_sidebar": "Contents",
   "toc_cell": false,
   "toc_position": {},
   "toc_section_display": true,
   "toc_window_display": false
  }
 },
 "nbformat": 4,
 "nbformat_minor": 2
}
