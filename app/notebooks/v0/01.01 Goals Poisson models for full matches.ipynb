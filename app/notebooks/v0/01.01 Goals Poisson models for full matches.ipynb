{
 "cells": [
  {
   "cell_type": "markdown",
   "metadata": {},
   "source": [
    "# Set up"
   ]
  },
  {
   "cell_type": "code",
   "execution_count": 1,
   "metadata": {
    "ExecuteTime": {
     "end_time": "2019-05-14T07:54:46.271795Z",
     "start_time": "2019-05-14T07:54:46.265486Z"
    }
   },
   "outputs": [],
   "source": [
    "# update path with data dir\n",
    "import sys\n",
    "sys.path.append('../data/')\n",
    "sys.path.append('../modelling/')"
   ]
  },
  {
   "cell_type": "code",
   "execution_count": 2,
   "metadata": {
    "ExecuteTime": {
     "end_time": "2019-05-14T07:54:52.437979Z",
     "start_time": "2019-05-14T07:54:46.761681Z"
    }
   },
   "outputs": [
    {
     "name": "stderr",
     "output_type": "stream",
     "text": [
      "/home/tom/footbot/venv/lib/python3.6/site-packages/statsmodels/compat/pandas.py:56: FutureWarning: The pandas.core.datetools module is deprecated and will be removed in a future version. Please use the pandas.tseries module instead.\n",
      "  from pandas.core import datetools\n"
     ]
    }
   ],
   "source": [
    "import player_data as player\n",
    "import goodness_fit\n",
    "import pandas as pd\n",
    "from datetime import datetime\n",
    "import statsmodels.api as sm\n",
    "import matplotlib.pyplot as plt"
   ]
  },
  {
   "cell_type": "markdown",
   "metadata": {},
   "source": [
    "# Get data"
   ]
  },
  {
   "cell_type": "code",
   "execution_count": 3,
   "metadata": {
    "ExecuteTime": {
     "end_time": "2019-05-14T07:54:52.449404Z",
     "start_time": "2019-05-14T07:54:52.443599Z"
    }
   },
   "outputs": [],
   "source": [
    "file_name = 'csvs/element_gameweek_' + datetime.today().strftime('%Y-%m-%d') + '.csv'"
   ]
  },
  {
   "cell_type": "code",
   "execution_count": 4,
   "metadata": {
    "ExecuteTime": {
     "end_time": "2019-05-14T07:57:02.381434Z",
     "start_time": "2019-05-14T07:54:52.453144Z"
    }
   },
   "outputs": [],
   "source": [
    "try:\n",
    "    element_gameweek_df = pd.read_csv(file_name)\n",
    "except:\n",
    "    element_gameweek_df = player.get_element_gameweek_df()\n",
    "    element_gameweek_df.to_csv(file_name)"
   ]
  },
  {
   "cell_type": "code",
   "execution_count": 5,
   "metadata": {
    "ExecuteTime": {
     "end_time": "2019-03-02T14:39:00.428587Z",
     "start_time": "2019-03-02T14:39:00.425552Z"
    }
   },
   "outputs": [],
   "source": [
    "current_event = 26\n",
    "element_types = [2, 3, 4]\n",
    "threshold_minutes = 85"
   ]
  },
  {
   "cell_type": "code",
   "execution_count": 6,
   "metadata": {
    "ExecuteTime": {
     "end_time": "2019-03-02T14:39:00.600333Z",
     "start_time": "2019-03-02T14:39:00.430534Z"
    }
   },
   "outputs": [],
   "source": [
    "element_gameweek_df =\\\n",
    "element_gameweek_df[\n",
    "    (element_gameweek_df['event'] <= current_event)\n",
    "    & (element_gameweek_df['element_type'].isin(element_types))\n",
    "    & (element_gameweek_df['minutes'] >= threshold_minutes)\n",
    "]"
   ]
  },
  {
   "cell_type": "code",
   "execution_count": 7,
   "metadata": {
    "ExecuteTime": {
     "end_time": "2019-03-02T14:39:00.679654Z",
     "start_time": "2019-03-02T14:39:00.603690Z"
    }
   },
   "outputs": [],
   "source": [
    "player.add_home_categorical_variable(element_gameweek_df)"
   ]
  },
  {
   "cell_type": "markdown",
   "metadata": {},
   "source": [
    "# Models"
   ]
  },
  {
   "cell_type": "markdown",
   "metadata": {
    "heading_collapsed": true
   },
   "source": [
    "## Simple Poisson model"
   ]
  },
  {
   "cell_type": "markdown",
   "metadata": {
    "heading_collapsed": true,
    "hidden": true
   },
   "source": [
    "### Preparing data"
   ]
  },
  {
   "cell_type": "code",
   "execution_count": 8,
   "metadata": {
    "ExecuteTime": {
     "end_time": "2019-03-02T14:39:00.712740Z",
     "start_time": "2019-03-02T14:39:00.682228Z"
    },
    "hidden": true
   },
   "outputs": [],
   "source": [
    "spm_df = element_gameweek_df.copy()"
   ]
  },
  {
   "cell_type": "code",
   "execution_count": 9,
   "metadata": {
    "ExecuteTime": {
     "end_time": "2019-03-02T14:39:00.738063Z",
     "start_time": "2019-03-02T14:39:00.714969Z"
    },
    "hidden": true
   },
   "outputs": [],
   "source": [
    "spm_redundant_columns = [\n",
    "    'row_id', 'assists', 'attempted_passes', 'big_chances_created',\n",
    "    'big_chances_missed', 'bonus', 'bps', 'clean_sheets',\n",
    "    'clearances_blocks_interceptions', 'completed_passes', 'creativity',\n",
    "    'dribbles', 'ea_index', 'element', 'errors_leading_to_goal',\n",
    "    'errors_leading_to_goal_attempt', 'fixture', 'fouls', 'goals_conceded',\n",
    "    'ict_index', 'id', 'influence', 'key_passes', 'kickoff_time',\n",
    "    'kickoff_time_formatted', 'loaned_in', 'loaned_out', 'minutes', 'offside',\n",
    "    'open_play_crosses', 'opponent_team', 'own_goals', 'penalties_conceded',\n",
    "    'penalties_missed', 'penalties_saved', 'recoveries', 'red_cards', 'round',\n",
    "    'saves', 'selected', 'tackled', 'tackles', 'target_missed', 'team_a_score',\n",
    "    'team_h_score', 'threat', 'total_points', 'transfers_balance',\n",
    "    'transfers_in', 'transfers_out', 'value', 'winning_goals',\n",
    "    'yellow_cards', 'event', 'team_a', 'team_a_difficulty', 'team_h',\n",
    "    'team_h_difficulty', 'element_type', 'team', 'web_name', 'safe_web_name',\n",
    "    'own_team', 'opposition_team', 'was_home'\n",
    "]"
   ]
  },
  {
   "cell_type": "code",
   "execution_count": 10,
   "metadata": {
    "ExecuteTime": {
     "end_time": "2019-03-02T14:39:00.769437Z",
     "start_time": "2019-03-02T14:39:00.740079Z"
    },
    "hidden": true
   },
   "outputs": [],
   "source": [
    "spm_df = player.remove_redundant_columns(spm_df, spm_redundant_columns)"
   ]
  },
  {
   "cell_type": "code",
   "execution_count": 11,
   "metadata": {
    "ExecuteTime": {
     "end_time": "2019-03-02T14:39:00.857265Z",
     "start_time": "2019-03-02T14:39:00.771485Z"
    },
    "hidden": true
   },
   "outputs": [],
   "source": [
    "spm_response_df, spm_explanatory_df = player.get_response_explanatory_dfs(spm_df, 'goals_scored')"
   ]
  },
  {
   "cell_type": "code",
   "execution_count": 12,
   "metadata": {
    "ExecuteTime": {
     "end_time": "2019-03-02T14:39:00.887860Z",
     "start_time": "2019-03-02T14:39:00.859499Z"
    },
    "hidden": true
   },
   "outputs": [
    {
     "data": {
      "text/plain": [
       "Index(['const'], dtype='object')"
      ]
     },
     "execution_count": 12,
     "metadata": {},
     "output_type": "execute_result"
    }
   ],
   "source": [
    "spm_explanatory_df.columns"
   ]
  },
  {
   "cell_type": "code",
   "execution_count": 13,
   "metadata": {
    "ExecuteTime": {
     "end_time": "2019-03-02T14:39:00.920507Z",
     "start_time": "2019-03-02T14:39:00.889828Z"
    },
    "hidden": true
   },
   "outputs": [
    {
     "data": {
      "text/plain": [
       "74    0\n",
       "78    0\n",
       "79    0\n",
       "80    1\n",
       "82    1\n",
       "Name: goals_scored, dtype: int64"
      ]
     },
     "execution_count": 13,
     "metadata": {},
     "output_type": "execute_result"
    }
   ],
   "source": [
    "spm_response_df.head()"
   ]
  },
  {
   "cell_type": "markdown",
   "metadata": {
    "heading_collapsed": true,
    "hidden": true
   },
   "source": [
    "### Fitting model"
   ]
  },
  {
   "cell_type": "code",
   "execution_count": 14,
   "metadata": {
    "ExecuteTime": {
     "end_time": "2019-03-02T14:39:00.967903Z",
     "start_time": "2019-03-02T14:39:00.922522Z"
    },
    "hidden": true
   },
   "outputs": [],
   "source": [
    "spm_results = sm.GLM(\n",
    "    spm_response_df,\n",
    "    spm_explanatory_df,\n",
    "    family=sm.families.Poisson(),\n",
    "    missing='drop'\n",
    ").fit()"
   ]
  },
  {
   "cell_type": "code",
   "execution_count": 15,
   "metadata": {
    "ExecuteTime": {
     "end_time": "2019-03-02T14:39:00.989639Z",
     "start_time": "2019-03-02T14:39:00.970280Z"
    },
    "hidden": true
   },
   "outputs": [
    {
     "name": "stdout",
     "output_type": "stream",
     "text": [
      "                 Generalized Linear Model Regression Results                  \n",
      "==============================================================================\n",
      "Dep. Variable:           goals_scored   No. Observations:                 3952\n",
      "Model:                            GLM   Df Residuals:                     3951\n",
      "Model Family:                 Poisson   Df Model:                            0\n",
      "Link Function:                    log   Scale:                             1.0\n",
      "Method:                          IRLS   Log-Likelihood:                -1538.3\n",
      "Date:                Sat, 02 Mar 2019   Deviance:                       2182.8\n",
      "Time:                        14:39:00   Pearson chi2:                 4.38e+03\n",
      "No. Iterations:                     6                                         \n",
      "==============================================================================\n",
      "                 coef    std err          z      P>|z|      [0.025      0.975]\n",
      "------------------------------------------------------------------------------\n",
      "const         -2.0999      0.045    -46.198      0.000      -2.189      -2.011\n",
      "==============================================================================\n"
     ]
    }
   ],
   "source": [
    "print(spm_results.summary())"
   ]
  },
  {
   "cell_type": "markdown",
   "metadata": {
    "heading_collapsed": true,
    "hidden": true
   },
   "source": [
    "### Model fit"
   ]
  },
  {
   "cell_type": "code",
   "execution_count": 16,
   "metadata": {
    "ExecuteTime": {
     "end_time": "2019-03-02T14:39:01.008728Z",
     "start_time": "2019-03-02T14:39:00.991958Z"
    },
    "hidden": true
   },
   "outputs": [
    {
     "data": {
      "text/plain": [
       "3078.601995070294"
      ]
     },
     "execution_count": 16,
     "metadata": {},
     "output_type": "execute_result"
    }
   ],
   "source": [
    "spm_results.aic"
   ]
  },
  {
   "cell_type": "code",
   "execution_count": 17,
   "metadata": {
    "ExecuteTime": {
     "end_time": "2019-03-02T14:39:01.040434Z",
     "start_time": "2019-03-02T14:39:01.017628Z"
    },
    "hidden": true
   },
   "outputs": [
    {
     "data": {
      "text/plain": [
       "-30539.309065162925"
      ]
     },
     "execution_count": 17,
     "metadata": {},
     "output_type": "execute_result"
    }
   ],
   "source": [
    "spm_results.bic"
   ]
  },
  {
   "cell_type": "code",
   "execution_count": 18,
   "metadata": {
    "ExecuteTime": {
     "end_time": "2019-03-02T14:39:01.070956Z",
     "start_time": "2019-03-02T14:39:01.047356Z"
    },
    "hidden": true
   },
   "outputs": [
    {
     "data": {
      "text/plain": [
       "(True, 1.3300336140220637e-06)"
      ]
     },
     "execution_count": 18,
     "metadata": {},
     "output_type": "execute_result"
    }
   ],
   "source": [
    "spm_pearson_results = goodness_fit.pearson_chi_squared_test(spm_results)\n",
    "spm_pearson_results"
   ]
  },
  {
   "cell_type": "code",
   "execution_count": 19,
   "metadata": {
    "ExecuteTime": {
     "end_time": "2019-03-02T14:39:01.104769Z",
     "start_time": "2019-03-02T14:39:01.073224Z"
    },
    "hidden": true
   },
   "outputs": [
    {
     "data": {
      "text/plain": [
       "count    3952.000000\n",
       "mean       -0.255029\n",
       "std         0.698145\n",
       "min        -0.494913\n",
       "25%        -0.494913\n",
       "50%        -0.494913\n",
       "75%        -0.494913\n",
       "max         3.665510\n",
       "dtype: float64"
      ]
     },
     "execution_count": 19,
     "metadata": {},
     "output_type": "execute_result"
    }
   ],
   "source": [
    "spm_results.resid_deviance.describe()"
   ]
  },
  {
   "cell_type": "code",
   "execution_count": 20,
   "metadata": {
    "ExecuteTime": {
     "end_time": "2019-03-02T14:39:01.430801Z",
     "start_time": "2019-03-02T14:39:01.107090Z"
    },
    "hidden": true
   },
   "outputs": [
    {
     "data": {
      "image/png": "[encoded data removed]",
      "text/plain": [
       "<Figure size 432x288 with 1 Axes>"
      ]
     },
     "metadata": {
      "needs_background": "light"
     },
     "output_type": "display_data"
    }
   ],
   "source": [
    "plt.figure()\n",
    "plt.hist(spm_results.resid_deviance)\n",
    "plt.show()"
   ]
  },
  {
   "cell_type": "markdown",
   "metadata": {
    "heading_collapsed": true
   },
   "source": [
    "## Simple Poisson teams model"
   ]
  },
  {
   "cell_type": "markdown",
   "metadata": {
    "heading_collapsed": true,
    "hidden": true
   },
   "source": [
    "### Preparing data"
   ]
  },
  {
   "cell_type": "code",
   "execution_count": 21,
   "metadata": {
    "ExecuteTime": {
     "end_time": "2019-03-02T14:39:01.437748Z",
     "start_time": "2019-03-02T14:39:01.433388Z"
    },
    "hidden": true
   },
   "outputs": [],
   "source": [
    "sptm_df = element_gameweek_df.copy()"
   ]
  },
  {
   "cell_type": "code",
   "execution_count": 22,
   "metadata": {
    "ExecuteTime": {
     "end_time": "2019-03-02T14:39:01.486135Z",
     "start_time": "2019-03-02T14:39:01.440170Z"
    },
    "hidden": true
   },
   "outputs": [],
   "source": [
    "sptm_df = player.add_categorical_variables(sptm_df, 'element_type')\n",
    "sptm_df = player.add_categorical_variables(sptm_df, 'opposition_team')\n",
    "sptm_df = player.add_categorical_variables(sptm_df, 'own_team')"
   ]
  },
  {
   "cell_type": "code",
   "execution_count": 23,
   "metadata": {
    "ExecuteTime": {
     "end_time": "2019-03-02T14:39:01.498950Z",
     "start_time": "2019-03-02T14:39:01.488541Z"
    },
    "hidden": true
   },
   "outputs": [],
   "source": [
    "sptm_redundant_columns = [\n",
    "    'row_id', 'assists', 'attempted_passes', 'big_chances_created',\n",
    "    'big_chances_missed', 'bonus', 'bps', 'clean_sheets',\n",
    "    'clearances_blocks_interceptions', 'completed_passes', 'creativity',\n",
    "    'dribbles', 'ea_index', 'element', 'errors_leading_to_goal',\n",
    "    'errors_leading_to_goal_attempt', 'fixture', 'fouls', 'goals_conceded',\n",
    "    'ict_index', 'id', 'influence', 'key_passes', 'kickoff_time',\n",
    "    'kickoff_time_formatted', 'loaned_in', 'loaned_out', 'minutes', 'offside',\n",
    "    'open_play_crosses', 'opponent_team', 'own_goals', 'penalties_conceded',\n",
    "    'penalties_missed', 'penalties_saved', 'recoveries', 'red_cards', 'round',\n",
    "    'saves', 'selected', 'tackled', 'tackles', 'target_missed', 'team_a_score',\n",
    "    'team_h_score', 'threat', 'total_points', 'transfers_balance',\n",
    "    'transfers_in', 'transfers_out', 'value', 'winning_goals',\n",
    "    'yellow_cards', 'event', 'team_a', 'team_a_difficulty', 'team_h',\n",
    "    'team_h_difficulty', 'element_type', 'team', 'web_name', 'safe_web_name',\n",
    "    'own_team', 'opposition_team'\n",
    "]"
   ]
  },
  {
   "cell_type": "code",
   "execution_count": 24,
   "metadata": {
    "ExecuteTime": {
     "end_time": "2019-03-02T14:39:01.533197Z",
     "start_time": "2019-03-02T14:39:01.501322Z"
    },
    "hidden": true
   },
   "outputs": [],
   "source": [
    "sptm_df = player.remove_redundant_columns(sptm_df, sptm_redundant_columns)"
   ]
  },
  {
   "cell_type": "code",
   "execution_count": 25,
   "metadata": {
    "ExecuteTime": {
     "end_time": "2019-03-02T14:39:01.581370Z",
     "start_time": "2019-03-02T14:39:01.535794Z"
    },
    "hidden": true
   },
   "outputs": [],
   "source": [
    "sptm_response_df, sptm_explanatory_df = player.get_response_explanatory_dfs(sptm_df, 'goals_scored')"
   ]
  },
  {
   "cell_type": "code",
   "execution_count": 26,
   "metadata": {
    "ExecuteTime": {
     "end_time": "2019-03-02T14:39:01.593337Z",
     "start_time": "2019-03-02T14:39:01.583898Z"
    },
    "hidden": true
   },
   "outputs": [
    {
     "data": {
      "text/plain": [
       "Index(['const', 'was_home', 'element_type_3', 'element_type_4',\n",
       "       'opposition_team_2', 'opposition_team_3', 'opposition_team_4',\n",
       "       'opposition_team_5', 'opposition_team_6', 'opposition_team_7',\n",
       "       'opposition_team_8', 'opposition_team_9', 'opposition_team_10',\n",
       "       'opposition_team_11', 'opposition_team_12', 'opposition_team_13',\n",
       "       'opposition_team_14', 'opposition_team_15', 'opposition_team_16',\n",
       "       'opposition_team_17', 'opposition_team_18', 'opposition_team_19',\n",
       "       'opposition_team_20', 'own_team_2', 'own_team_3', 'own_team_4',\n",
       "       'own_team_5', 'own_team_6', 'own_team_7', 'own_team_8', 'own_team_9',\n",
       "       'own_team_10', 'own_team_11', 'own_team_12', 'own_team_13',\n",
       "       'own_team_14', 'own_team_15', 'own_team_16', 'own_team_17',\n",
       "       'own_team_18', 'own_team_19', 'own_team_20'],\n",
       "      dtype='object')"
      ]
     },
     "execution_count": 26,
     "metadata": {},
     "output_type": "execute_result"
    }
   ],
   "source": [
    "sptm_explanatory_df.columns"
   ]
  },
  {
   "cell_type": "code",
   "execution_count": 27,
   "metadata": {
    "ExecuteTime": {
     "end_time": "2019-03-02T14:39:01.626599Z",
     "start_time": "2019-03-02T14:39:01.595996Z"
    },
    "hidden": true
   },
   "outputs": [
    {
     "data": {
      "text/plain": [
       "74    0\n",
       "78    0\n",
       "79    0\n",
       "80    1\n",
       "82    1\n",
       "Name: goals_scored, dtype: int64"
      ]
     },
     "execution_count": 27,
     "metadata": {},
     "output_type": "execute_result"
    }
   ],
   "source": [
    "sptm_response_df.head()"
   ]
  },
  {
   "cell_type": "markdown",
   "metadata": {
    "heading_collapsed": true,
    "hidden": true
   },
   "source": [
    "### Fitting model"
   ]
  },
  {
   "cell_type": "code",
   "execution_count": 28,
   "metadata": {
    "ExecuteTime": {
     "end_time": "2019-03-02T14:39:01.781421Z",
     "start_time": "2019-03-02T14:39:01.628908Z"
    },
    "hidden": true
   },
   "outputs": [],
   "source": [
    "sptm_results = sm.GLM(\n",
    "    sptm_response_df,\n",
    "    sptm_explanatory_df,\n",
    "    family=sm.families.Poisson(),\n",
    "    missing='drop'\n",
    ").fit()"
   ]
  },
  {
   "cell_type": "code",
   "execution_count": 29,
   "metadata": {
    "ExecuteTime": {
     "end_time": "2019-03-02T14:39:01.839009Z",
     "start_time": "2019-03-02T14:39:01.785194Z"
    },
    "hidden": true
   },
   "outputs": [
    {
     "name": "stdout",
     "output_type": "stream",
     "text": [
      "                 Generalized Linear Model Regression Results                  \n",
      "==============================================================================\n",
      "Dep. Variable:           goals_scored   No. Observations:                 3952\n",
      "Model:                            GLM   Df Residuals:                     3910\n",
      "Model Family:                 Poisson   Df Model:                           41\n",
      "Link Function:                    log   Scale:                             1.0\n",
      "Method:                          IRLS   Log-Likelihood:                -1355.2\n",
      "Date:                Sat, 02 Mar 2019   Deviance:                       1816.6\n",
      "Time:                        14:39:01   Pearson chi2:                 4.20e+03\n",
      "No. Iterations:                     6                                         \n",
      "======================================================================================\n",
      "                         coef    std err          z      P>|z|      [0.025      0.975]\n",
      "--------------------------------------------------------------------------------------\n",
      "const                 -3.3049      0.326    -10.140      0.000      -3.944      -2.666\n",
      "was_home               0.1561      0.092      1.696      0.090      -0.024       0.336\n",
      "element_type_3         1.2045      0.122      9.850      0.000       0.965       1.444\n",
      "element_type_4         2.1561      0.136     15.874      0.000       1.890       2.422\n",
      "opposition_team_2      0.5268      0.306      1.720      0.085      -0.074       1.127\n",
      "opposition_team_3      0.5537      0.302      1.835      0.067      -0.038       1.145\n",
      "opposition_team_4      0.6231      0.302      2.065      0.039       0.032       1.214\n",
      "opposition_team_5      0.6253      0.301      2.074      0.038       0.035       1.216\n",
      "opposition_team_6     -0.0669      0.356     -0.188      0.851      -0.765       0.631\n",
      "opposition_team_7      0.0879      0.331      0.266      0.790      -0.561       0.737\n",
      "opposition_team_8      0.2406      0.322      0.748      0.455      -0.390       0.871\n",
      "opposition_team_9      0.6203      0.299      2.073      0.038       0.034       1.207\n",
      "opposition_team_10     0.4605      0.304      1.516      0.130      -0.135       1.056\n",
      "opposition_team_11     0.3421      0.316      1.083      0.279      -0.277       0.961\n",
      "opposition_team_12    -0.3431      0.379     -0.906      0.365      -1.085       0.399\n",
      "opposition_team_13    -0.0173      0.345     -0.050      0.960      -0.694       0.659\n",
      "opposition_team_14     0.0753      0.336      0.224      0.822      -0.582       0.733\n",
      "opposition_team_15     0.2653      0.318      0.834      0.404      -0.358       0.889\n",
      "opposition_team_16     0.5870      0.300      1.959      0.050      -0.000       1.174\n",
      "opposition_team_17     0.0046      0.350      0.013      0.989      -0.681       0.690\n",
      "opposition_team_18     0.2831      0.316      0.895      0.371      -0.337       0.903\n",
      "opposition_team_19     0.2367      0.319      0.741      0.459      -0.389       0.863\n",
      "opposition_team_20     0.2415      0.322      0.751      0.453      -0.389       0.872\n",
      "own_team_2            -0.2916      0.273     -1.068      0.285      -0.827       0.243\n",
      "own_team_3            -0.1757      0.278     -0.633      0.527      -0.720       0.368\n",
      "own_team_4            -0.3970      0.285     -1.395      0.163      -0.955       0.161\n",
      "own_team_5            -0.3712      0.306     -1.214      0.225      -0.970       0.228\n",
      "own_team_6             0.0697      0.272      0.256      0.798      -0.463       0.603\n",
      "own_team_7            -0.3969      0.280     -1.418      0.156      -0.945       0.152\n",
      "own_team_8             0.0699      0.262      0.267      0.789      -0.443       0.583\n",
      "own_team_9            -0.5214      0.299     -1.746      0.081      -1.106       0.064\n",
      "own_team_10           -1.0111      0.365     -2.771      0.006      -1.726      -0.296\n",
      "own_team_11           -0.4081      0.303     -1.345      0.179      -1.003       0.187\n",
      "own_team_12            0.3129      0.241      1.297      0.195      -0.160       0.786\n",
      "own_team_13            0.3812      0.243      1.568      0.117      -0.095       0.858\n",
      "own_team_14            0.0884      0.254      0.348      0.728      -0.410       0.587\n",
      "own_team_15           -0.9309      0.331     -2.809      0.005      -1.580      -0.281\n",
      "own_team_16           -0.5339      0.324     -1.648      0.099      -1.169       0.101\n",
      "own_team_17            0.1857      0.243      0.763      0.446      -0.291       0.663\n",
      "own_team_18           -0.2612      0.274     -0.952      0.341      -0.799       0.277\n",
      "own_team_19           -0.1424      0.290     -0.491      0.623      -0.710       0.426\n",
      "own_team_20            0.0214      0.271      0.079      0.937      -0.510       0.552\n",
      "======================================================================================\n"
     ]
    }
   ],
   "source": [
    "print(sptm_results.summary())"
   ]
  },
  {
   "cell_type": "markdown",
   "metadata": {
    "heading_collapsed": true,
    "hidden": true
   },
   "source": [
    "### Model fit"
   ]
  },
  {
   "cell_type": "code",
   "execution_count": 30,
   "metadata": {
    "ExecuteTime": {
     "end_time": "2019-03-02T14:39:01.858900Z",
     "start_time": "2019-03-02T14:39:01.847303Z"
    },
    "hidden": true
   },
   "outputs": [
    {
     "data": {
      "text/plain": [
       "2794.445104832433"
      ]
     },
     "execution_count": 30,
     "metadata": {},
     "output_type": "execute_result"
    }
   ],
   "source": [
    "sptm_results.aic"
   ]
  },
  {
   "cell_type": "code",
   "execution_count": 31,
   "metadata": {
    "ExecuteTime": {
     "end_time": "2019-03-02T14:39:01.887311Z",
     "start_time": "2019-03-02T14:39:01.867061Z"
    },
    "hidden": true
   },
   "outputs": [
    {
     "data": {
      "text/plain": [
       "-30565.90489598721"
      ]
     },
     "execution_count": 31,
     "metadata": {},
     "output_type": "execute_result"
    }
   ],
   "source": [
    "sptm_results.bic"
   ]
  },
  {
   "cell_type": "code",
   "execution_count": 32,
   "metadata": {
    "ExecuteTime": {
     "end_time": "2019-03-02T14:39:01.917404Z",
     "start_time": "2019-03-02T14:39:01.895693Z"
    },
    "hidden": true
   },
   "outputs": [
    {
     "data": {
      "text/plain": [
       "(True, 0.0007227257384386787)"
      ]
     },
     "execution_count": 32,
     "metadata": {},
     "output_type": "execute_result"
    }
   ],
   "source": [
    "sptm_pearson_results = goodness_fit.pearson_chi_squared_test(sptm_results)\n",
    "sptm_pearson_results"
   ]
  },
  {
   "cell_type": "code",
   "execution_count": 33,
   "metadata": {
    "ExecuteTime": {
     "end_time": "2019-03-02T14:39:01.950156Z",
     "start_time": "2019-03-02T14:39:01.919861Z"
    },
    "hidden": true
   },
   "outputs": [
    {
     "data": {
      "text/plain": [
       "count    3952.000000\n",
       "mean       -0.221619\n",
       "std         0.640829\n",
       "min        -1.372722\n",
       "25%        -0.515232\n",
       "50%        -0.344069\n",
       "75%        -0.253320\n",
       "max         3.557189\n",
       "dtype: float64"
      ]
     },
     "execution_count": 33,
     "metadata": {},
     "output_type": "execute_result"
    }
   ],
   "source": [
    "sptm_results.resid_deviance.describe()"
   ]
  },
  {
   "cell_type": "code",
   "execution_count": 34,
   "metadata": {
    "ExecuteTime": {
     "end_time": "2019-03-02T14:39:02.252273Z",
     "start_time": "2019-03-02T14:39:01.952477Z"
    },
    "hidden": true
   },
   "outputs": [
    {
     "data": {
      "image/png": "[encoded data removed]",
      "text/plain": [
       "<Figure size 432x288 with 1 Axes>"
      ]
     },
     "metadata": {
      "needs_background": "light"
     },
     "output_type": "display_data"
    }
   ],
   "source": [
    "plt.figure()\n",
    "plt.hist(sptm_results.resid_deviance)\n",
    "plt.show()"
   ]
  },
  {
   "cell_type": "markdown",
   "metadata": {
    "heading_collapsed": true
   },
   "source": [
    "## Simple Poisson player model"
   ]
  },
  {
   "cell_type": "markdown",
   "metadata": {
    "heading_collapsed": true,
    "hidden": true
   },
   "source": [
    "### Preparing data"
   ]
  },
  {
   "cell_type": "code",
   "execution_count": 35,
   "metadata": {
    "ExecuteTime": {
     "end_time": "2019-03-02T14:39:02.261637Z",
     "start_time": "2019-03-02T14:39:02.255495Z"
    },
    "hidden": true
   },
   "outputs": [],
   "source": [
    "sppm_df = element_gameweek_df.copy()"
   ]
  },
  {
   "cell_type": "code",
   "execution_count": 36,
   "metadata": {
    "ExecuteTime": {
     "end_time": "2019-03-02T14:39:02.310065Z",
     "start_time": "2019-03-02T14:39:02.264484Z"
    },
    "hidden": true
   },
   "outputs": [],
   "source": [
    "sppm_df = player.add_categorical_variables(sppm_df, 'element_type')\n",
    "sppm_df = player.add_categorical_variables(sppm_df, 'opposition_team')\n",
    "sppm_df = player.add_categorical_variables(sppm_df, 'element')"
   ]
  },
  {
   "cell_type": "code",
   "execution_count": 37,
   "metadata": {
    "ExecuteTime": {
     "end_time": "2019-03-02T14:39:02.331458Z",
     "start_time": "2019-03-02T14:39:02.312818Z"
    },
    "hidden": true
   },
   "outputs": [],
   "source": [
    "sppm_redundant_columns = [\n",
    "    'row_id', 'assists', 'attempted_passes', 'big_chances_created',\n",
    "    'big_chances_missed', 'bonus', 'bps', 'clean_sheets',\n",
    "    'clearances_blocks_interceptions', 'completed_passes', 'creativity',\n",
    "    'dribbles', 'ea_index', 'element', 'errors_leading_to_goal',\n",
    "    'errors_leading_to_goal_attempt', 'fixture', 'fouls', 'goals_conceded',\n",
    "    'ict_index', 'id', 'influence', 'key_passes', 'kickoff_time',\n",
    "    'kickoff_time_formatted', 'loaned_in', 'loaned_out', 'minutes', 'offside',\n",
    "    'open_play_crosses', 'opponent_team', 'own_goals', 'penalties_conceded',\n",
    "    'penalties_missed', 'penalties_saved', 'recoveries', 'red_cards', 'round',\n",
    "    'saves', 'selected', 'tackled', 'tackles', 'target_missed', 'team_a_score',\n",
    "    'team_h_score', 'threat', 'total_points', 'transfers_balance',\n",
    "    'transfers_in', 'transfers_out', 'value', 'winning_goals',\n",
    "    'yellow_cards', 'event', 'team_a', 'team_a_difficulty', 'team_h',\n",
    "    'team_h_difficulty', 'element_type', 'team', 'web_name', 'safe_web_name',\n",
    "    'own_team', 'opposition_team', 'was_home'\n",
    "]"
   ]
  },
  {
   "cell_type": "code",
   "execution_count": 38,
   "metadata": {
    "ExecuteTime": {
     "end_time": "2019-03-02T14:39:02.405239Z",
     "start_time": "2019-03-02T14:39:02.334076Z"
    },
    "hidden": true
   },
   "outputs": [],
   "source": [
    "sppm_df = player.remove_redundant_columns(sppm_df, sppm_redundant_columns)"
   ]
  },
  {
   "cell_type": "code",
   "execution_count": 39,
   "metadata": {
    "ExecuteTime": {
     "end_time": "2019-03-02T14:39:02.686372Z",
     "start_time": "2019-03-02T14:39:02.407673Z"
    },
    "hidden": true
   },
   "outputs": [],
   "source": [
    "sppm_response_df, sppm_explanatory_df = player.get_response_explanatory_dfs(sppm_df, 'goals_scored')"
   ]
  },
  {
   "cell_type": "code",
   "execution_count": 40,
   "metadata": {
    "ExecuteTime": {
     "end_time": "2019-03-02T14:39:02.694154Z",
     "start_time": "2019-03-02T14:39:02.688758Z"
    },
    "hidden": true
   },
   "outputs": [
    {
     "data": {
      "text/plain": [
       "Index(['const', 'element_type_3', 'element_type_4', 'opposition_team_2',\n",
       "       'opposition_team_3', 'opposition_team_4', 'opposition_team_5',\n",
       "       'opposition_team_6', 'opposition_team_7', 'opposition_team_8',\n",
       "       ...\n",
       "       'element_535', 'element_539', 'element_549', 'element_556',\n",
       "       'element_565', 'element_570', 'element_571', 'element_575',\n",
       "       'element_579', 'element_591'],\n",
       "      dtype='object', length=391)"
      ]
     },
     "execution_count": 40,
     "metadata": {},
     "output_type": "execute_result"
    }
   ],
   "source": [
    "sppm_explanatory_df.columns"
   ]
  },
  {
   "cell_type": "code",
   "execution_count": 41,
   "metadata": {
    "ExecuteTime": {
     "end_time": "2019-03-02T14:39:02.725773Z",
     "start_time": "2019-03-02T14:39:02.696432Z"
    },
    "hidden": true
   },
   "outputs": [
    {
     "data": {
      "text/plain": [
       "74    0\n",
       "78    0\n",
       "79    0\n",
       "80    1\n",
       "82    1\n",
       "Name: goals_scored, dtype: int64"
      ]
     },
     "execution_count": 41,
     "metadata": {},
     "output_type": "execute_result"
    }
   ],
   "source": [
    "sppm_response_df.head()"
   ]
  },
  {
   "cell_type": "markdown",
   "metadata": {
    "heading_collapsed": true,
    "hidden": true
   },
   "source": [
    "### Fitting model"
   ]
  },
  {
   "cell_type": "code",
   "execution_count": 42,
   "metadata": {
    "ExecuteTime": {
     "end_time": "2019-03-02T14:39:16.718427Z",
     "start_time": "2019-03-02T14:39:02.729354Z"
    },
    "hidden": true
   },
   "outputs": [],
   "source": [
    "sppm_results = sm.GLM(\n",
    "    sppm_response_df,\n",
    "    sppm_explanatory_df,\n",
    "    family=sm.families.Poisson(),\n",
    "    missing='drop'\n",
    ").fit()"
   ]
  },
  {
   "cell_type": "code",
   "execution_count": 43,
   "metadata": {
    "ExecuteTime": {
     "end_time": "2019-03-02T14:39:17.004060Z",
     "start_time": "2019-03-02T14:39:16.731277Z"
    },
    "hidden": true
   },
   "outputs": [
    {
     "name": "stdout",
     "output_type": "stream",
     "text": [
      "                 Generalized Linear Model Regression Results                  \n",
      "==============================================================================\n",
      "Dep. Variable:           goals_scored   No. Observations:                 3952\n",
      "Model:                            GLM   Df Residuals:                     3563\n",
      "Model Family:                 Poisson   Df Model:                          388\n",
      "Link Function:                    log   Scale:                             1.0\n",
      "Method:                          IRLS   Log-Likelihood:                -1111.7\n",
      "Date:                Sat, 02 Mar 2019   Deviance:                       1329.6\n",
      "Time:                        14:39:16   Pearson chi2:                 2.21e+03\n",
      "No. Iterations:                    25                                         \n",
      "======================================================================================\n",
      "                         coef    std err          z      P>|z|      [0.025      0.975]\n",
      "--------------------------------------------------------------------------------------\n",
      "const                 -1.3364      0.754     -1.771      0.076      -2.815       0.142\n",
      "element_type_3       -12.7628   2.08e+04     -0.001      1.000   -4.08e+04    4.07e+04\n",
      "element_type_4        -6.8679   3.54e+04     -0.000      1.000   -6.93e+04    6.93e+04\n",
      "opposition_team_2      0.3977      0.313      1.271      0.204      -0.215       1.011\n",
      "opposition_team_3      0.5407      0.308      1.757      0.079      -0.063       1.144\n",
      "opposition_team_4      0.5738      0.312      1.838      0.066      -0.038       1.186\n",
      "opposition_team_5      0.4722      0.309      1.529      0.126      -0.133       1.078\n",
      "opposition_team_6     -0.1006      0.362     -0.278      0.781      -0.809       0.608\n",
      "opposition_team_7      0.0161      0.337      0.048      0.962      -0.643       0.676\n",
      "opposition_team_8      0.1732      0.329      0.526      0.599      -0.472       0.818\n",
      "opposition_team_9      0.4260      0.308      1.382      0.167      -0.178       1.030\n",
      "opposition_team_10     0.4309      0.313      1.376      0.169      -0.183       1.045\n",
      "opposition_team_11     0.2703      0.323      0.837      0.403      -0.363       0.903\n",
      "opposition_team_12    -0.3974      0.385     -1.031      0.303      -1.153       0.358\n",
      "opposition_team_13    -0.1974      0.359     -0.550      0.582      -0.901       0.506\n",
      "opposition_team_14    -0.0306      0.345     -0.089      0.929      -0.707       0.646\n",
      "opposition_team_15     0.0943      0.331      0.285      0.776      -0.555       0.743\n",
      "opposition_team_16     0.5278      0.307      1.718      0.086      -0.074       1.130\n",
      "opposition_team_17    -0.1067      0.358     -0.298      0.766      -0.808       0.594\n",
      "opposition_team_18     0.1425      0.324      0.439      0.661      -0.493       0.778\n",
      "opposition_team_19     0.1140      0.326      0.349      0.727      -0.525       0.753\n",
      "opposition_team_20     0.1634      0.333      0.491      0.623      -0.488       0.815\n",
      "element_4            -26.5877   1.68e+05     -0.000      1.000   -3.29e+05    3.29e+05\n",
      "element_5             -1.3210      1.226     -1.077      0.281      -3.725       1.083\n",
      "element_6            -26.5786    2.3e+05     -0.000      1.000   -4.51e+05    4.51e+05\n",
      "element_7             -0.9252      1.003     -0.922      0.356      -2.891       1.041\n",
      "element_8            -26.7486   1.96e+05     -0.000      1.000   -3.84e+05    3.84e+05\n",
      "element_9             -1.6061      1.227     -1.308      0.191      -4.012       0.800\n",
      "element_11           -26.4827   3.72e+05  -7.12e-05      1.000   -7.29e+05    7.29e+05\n",
      "element_12           -26.6171   1.67e+05     -0.000      1.000   -3.28e+05    3.28e+05\n",
      "element_13            12.8889   2.08e+04      0.001      1.000   -4.07e+04    4.08e+04\n",
      "element_14           -13.7783   3.71e+05  -3.72e-05      1.000   -7.27e+05    7.26e+05\n",
      "element_15            12.3662   2.08e+04      0.001      1.000   -4.07e+04    4.08e+04\n",
      "element_17            12.0159   2.08e+04      0.001      1.000   -4.07e+04    4.08e+04\n",
      "element_18            13.1749   2.08e+04      0.001      0.999   -4.07e+04    4.08e+04\n",
      "element_20            12.3914   2.08e+04      0.001      1.000   -4.07e+04    4.08e+04\n",
      "element_22             7.1532   3.54e+04      0.000      1.000   -6.93e+04    6.93e+04\n",
      "element_23             7.3778   3.54e+04      0.000      1.000   -6.93e+04    6.93e+04\n",
      "element_26           -26.5958   1.88e+05     -0.000      1.000   -3.68e+05    3.68e+05\n",
      "element_27            -2.0913      1.227     -1.704      0.088      -4.496       0.313\n",
      "element_28           -26.6462   1.88e+05     -0.000      1.000   -3.69e+05    3.69e+05\n",
      "element_29            -1.4292      1.227     -1.165      0.244      -3.835       0.976\n",
      "element_30           -26.2592   6.58e+05  -3.99e-05      1.000   -1.29e+06    1.29e+06\n",
      "element_31            -1.3661      1.003     -1.363      0.173      -3.331       0.599\n",
      "element_33           -13.9288   1.74e+05     -8e-05      1.000   -3.41e+05    3.41e+05\n",
      "element_35           -13.8027   1.86e+05  -7.42e-05      1.000   -3.65e+05    3.65e+05\n",
      "element_36           -13.6693   2.93e+05  -4.67e-05      1.000   -5.74e+05    5.74e+05\n",
      "element_37           -13.7810   2.05e+05  -6.71e-05      1.000   -4.03e+05    4.03e+05\n",
      "element_38           -13.6632   6.54e+05  -2.09e-05      1.000   -1.28e+06    1.28e+06\n",
      "element_39           -13.8865   2.91e+05  -4.78e-05      1.000    -5.7e+05     5.7e+05\n",
      "element_40            12.3798   2.08e+04      0.001      1.000   -4.07e+04    4.08e+04\n",
      "element_42            12.9608   2.08e+04      0.001      1.000   -4.07e+04    4.08e+04\n",
      "element_43             7.2684   3.54e+04      0.000      1.000   -6.93e+04    6.93e+04\n",
      "element_45             7.0227   3.54e+04      0.000      1.000   -6.93e+04    6.93e+04\n",
      "element_48            -1.2753      1.002     -1.272      0.203      -3.240       0.689\n",
      "element_49            -0.3195      0.840     -0.380      0.704      -1.966       1.327\n",
      "element_50           -26.7166   2.92e+05  -9.14e-05      1.000   -5.73e+05    5.73e+05\n",
      "element_51           -26.5934   1.62e+05     -0.000      1.000   -3.18e+05    3.18e+05\n",
      "element_54           -26.5609   2.87e+05  -9.26e-05      1.000   -5.62e+05    5.62e+05\n",
      "element_55            12.0922   2.08e+04      0.001      1.000   -4.07e+04    4.08e+04\n",
      "element_56            11.1735   2.08e+04      0.001      1.000   -4.07e+04    4.08e+04\n",
      "element_57            12.1347   2.08e+04      0.001      1.000   -4.07e+04    4.08e+04\n",
      "element_58            11.2406   2.08e+04      0.001      1.000   -4.07e+04    4.08e+04\n",
      "element_59            12.1574   2.08e+04      0.001      1.000   -4.07e+04    4.08e+04\n",
      "element_60           -13.8309   1.45e+05  -9.51e-05      1.000   -2.85e+05    2.85e+05\n",
      "element_61           -14.0873   3.78e+05  -3.73e-05      1.000   -7.41e+05     7.4e+05\n",
      "element_62             7.6920   3.54e+04      0.000      1.000   -6.93e+04    6.93e+04\n",
      "element_65             7.0884   3.54e+04      0.000      1.000   -6.93e+04    6.93e+04\n",
      "element_69           -26.6765   1.81e+05     -0.000      1.000   -3.55e+05    3.55e+05\n",
      "element_70           -26.6644   1.28e+05     -0.000      1.000    -2.5e+05     2.5e+05\n",
      "element_71           -26.9844   6.58e+05   -4.1e-05      1.000   -1.29e+06    1.29e+06\n",
      "element_72            -0.8829      0.915     -0.965      0.335      -2.676       0.910\n",
      "element_73           -26.5086   2.93e+05  -9.06e-05      1.000   -5.73e+05    5.73e+05\n",
      "element_74           -26.6420   1.36e+05     -0.000      1.000   -2.66e+05    2.66e+05\n",
      "element_75           -26.6472   1.96e+05     -0.000      1.000   -3.84e+05    3.84e+05\n",
      "element_76            12.0292   2.08e+04      0.001      1.000   -4.07e+04    4.08e+04\n",
      "element_77           -13.6946    4.6e+05  -2.98e-05      1.000   -9.02e+05    9.02e+05\n",
      "element_78            11.8231   2.08e+04      0.001      1.000   -4.07e+04    4.08e+04\n",
      "element_79           -13.8240   3.72e+05  -3.71e-05      1.000    -7.3e+05     7.3e+05\n",
      "element_80           -13.9406    1.5e+05  -9.29e-05      1.000   -2.94e+05    2.94e+05\n",
      "element_82            10.6780   2.08e+04      0.001      1.000   -4.07e+04    4.08e+04\n",
      "element_83            11.4275   2.08e+04      0.001      1.000   -4.07e+04    4.08e+04\n",
      "element_84             7.8582   3.54e+04      0.000      1.000   -6.93e+04    6.93e+04\n",
      "element_85             7.2005   3.54e+04      0.000      1.000   -6.93e+04    6.93e+04\n",
      "element_87             7.3159   3.54e+04      0.000      1.000   -6.93e+04    6.93e+04\n",
      "element_90           -26.6116   1.42e+05     -0.000      1.000   -2.78e+05    2.78e+05\n",
      "element_91            -1.0082      0.916     -1.101      0.271      -2.803       0.787\n",
      "element_92           -26.6453   1.28e+05     -0.000      1.000    -2.5e+05     2.5e+05\n",
      "element_94           -26.6513   1.58e+05     -0.000      1.000   -3.09e+05    3.09e+05\n",
      "element_95           -26.7044   2.67e+05     -0.000      1.000   -5.23e+05    5.23e+05\n",
      "element_98           -13.8547   1.81e+05  -7.65e-05      1.000   -3.55e+05    3.55e+05\n",
      "element_99            12.4849   2.08e+04      0.001      1.000   -4.07e+04    4.08e+04\n",
      "element_101           12.3845   2.08e+04      0.001      1.000   -4.07e+04    4.08e+04\n",
      "element_102           11.4288   2.08e+04      0.001      1.000   -4.07e+04    4.08e+04\n",
      "element_106           12.4540   2.08e+04      0.001      1.000   -4.07e+04    4.08e+04\n",
      "element_107          -19.6830   6.45e+05  -3.05e-05      1.000   -1.26e+06    1.26e+06\n",
      "element_110            7.3090   3.54e+04      0.000      1.000   -6.93e+04    6.93e+04\n",
      "element_113          -26.6569   1.28e+05     -0.000      1.000    -2.5e+05     2.5e+05\n",
      "element_115           -2.0168      1.227     -1.644      0.100      -4.422       0.388\n",
      "element_116           -1.4127      1.003     -1.409      0.159      -3.378       0.552\n",
      "element_118           -2.0573      1.227     -1.676      0.094      -4.463       0.348\n",
      "element_119          -26.7600   4.64e+05  -5.76e-05      1.000    -9.1e+05     9.1e+05\n",
      "element_121          -26.8543   6.58e+05  -4.08e-05      1.000   -1.29e+06    1.29e+06\n",
      "element_122           12.7889   2.08e+04      0.001      1.000   -4.07e+04    4.08e+04\n",
      "element_123          -13.8571   6.54e+05  -2.12e-05      1.000   -1.28e+06    1.28e+06\n",
      "element_124           12.6637   2.08e+04      0.001      1.000   -4.07e+04    4.08e+04\n",
      "element_125           13.4612   2.08e+04      0.001      0.999   -4.07e+04    4.08e+04\n",
      "element_126           11.8061   2.08e+04      0.001      1.000   -4.07e+04    4.08e+04\n",
      "element_127           12.6337   2.08e+04      0.001      1.000   -4.07e+04    4.08e+04\n",
      "element_132           13.9359   2.08e+04      0.001      0.999   -4.07e+04    4.08e+04\n",
      "element_133          -20.0610   6.45e+05  -3.11e-05      1.000   -1.26e+06    1.26e+06\n",
      "element_134            7.2039   3.54e+04      0.000      1.000   -6.93e+04    6.93e+04\n",
      "element_138           -1.9116      1.227     -1.559      0.119      -4.316       0.492\n",
      "element_140          -26.7231   3.27e+05  -8.17e-05      1.000   -6.41e+05    6.41e+05\n",
      "element_141            0.6117      0.918      0.667      0.505      -1.187       2.410\n",
      "element_142           -2.0910      1.226     -1.705      0.088      -4.495       0.313\n",
      "element_143          -26.6353   1.27e+05     -0.000      1.000    -2.5e+05    2.49e+05\n",
      "element_145          -26.6587   1.33e+05     -0.000      1.000    -2.6e+05     2.6e+05\n",
      "element_146          -13.8649   3.75e+05  -3.69e-05      1.000   -7.36e+05    7.35e+05\n",
      "element_147          -13.9011   1.68e+05  -8.27e-05      1.000    -3.3e+05     3.3e+05\n",
      "element_149           12.0994   2.08e+04      0.001      1.000   -4.07e+04    4.08e+04\n",
      "element_150           12.5820   2.08e+04      0.001      1.000   -4.07e+04    4.08e+04\n",
      "element_151            6.5373   3.54e+04      0.000      1.000   -6.93e+04    6.93e+04\n",
      "element_152          -20.1166   6.45e+05  -3.12e-05      1.000   -1.26e+06    1.26e+06\n",
      "element_156          -26.8270   3.79e+05  -7.08e-05      1.000   -7.43e+05    7.43e+05\n",
      "element_157           -1.8478      1.227     -1.506      0.132      -4.253       0.558\n",
      "element_160          -26.8302   3.28e+05  -8.18e-05      1.000   -6.43e+05    6.43e+05\n",
      "element_161          -26.6091   2.47e+05     -0.000      1.000   -4.84e+05    4.84e+05\n",
      "element_162           -2.0857      1.227     -1.700      0.089      -4.491       0.319\n",
      "element_164           12.3936   2.08e+04      0.001      1.000   -4.07e+04    4.08e+04\n",
      "element_167          -13.9972   4.62e+05  -3.03e-05      1.000   -9.06e+05    9.06e+05\n",
      "element_168          -13.9275    1.5e+05  -9.29e-05      1.000   -2.94e+05    2.94e+05\n",
      "element_169          -13.8934   2.17e+05  -6.39e-05      1.000   -4.26e+05    4.26e+05\n",
      "element_170          -14.1580   4.63e+05  -3.06e-05      1.000   -9.07e+05    9.07e+05\n",
      "element_172           12.9897   2.08e+04      0.001      1.000   -4.07e+04    4.08e+04\n",
      "element_175            7.0241   3.54e+04      0.000      1.000   -6.93e+04    6.93e+04\n",
      "element_177          -19.8323   3.72e+05  -5.34e-05      1.000   -7.28e+05    7.28e+05\n",
      "element_180          -26.6552   1.96e+05     -0.000      1.000   -3.85e+05    3.84e+05\n",
      "element_181          -26.6613   1.35e+05     -0.000      1.000   -2.65e+05    2.65e+05\n",
      "element_182          -13.9234   2.46e+05  -5.65e-05      1.000   -4.83e+05    4.83e+05\n",
      "element_183          -13.9941   2.89e+05  -4.84e-05      1.000   -5.67e+05    5.67e+05\n",
      "element_184           11.3046   2.08e+04      0.001      1.000   -4.07e+04    4.08e+04\n",
      "element_185          -13.4964   6.54e+05  -2.06e-05      1.000   -1.28e+06    1.28e+06\n",
      "element_189            6.6319   3.54e+04      0.000      1.000   -6.93e+04    6.93e+04\n",
      "element_192           -2.0409      1.227     -1.663      0.096      -4.446       0.364\n",
      "element_193          -26.5471    1.8e+05     -0.000      1.000   -3.53e+05    3.53e+05\n",
      "element_194          -26.3856   2.92e+05  -9.03e-05      1.000   -5.72e+05    5.72e+05\n",
      "element_195           -0.8691      0.917     -0.948      0.343      -2.666       0.927\n",
      "element_197          -26.6998   1.68e+05     -0.000      1.000    -3.3e+05     3.3e+05\n",
      "element_198          -26.6431   1.58e+05     -0.000      1.000   -3.09e+05    3.09e+05\n",
      "element_199           11.8615   2.08e+04      0.001      1.000   -4.07e+04    4.08e+04\n",
      "element_200          -14.0010   3.77e+05  -3.71e-05      1.000   -7.39e+05    7.39e+05\n",
      "element_201          -13.8816   1.73e+05  -8.02e-05      1.000   -3.39e+05    3.39e+05\n",
      "element_202           11.6253   2.08e+04      0.001      1.000   -4.07e+04    4.08e+04\n",
      "element_206          -13.8662   2.16e+05  -6.43e-05      1.000   -4.23e+05    4.23e+05\n",
      "element_208          -13.7328   3.26e+05  -4.21e-05      1.000    -6.4e+05    6.39e+05\n",
      "element_210          -19.6400   2.62e+05  -7.49e-05      1.000   -5.14e+05    5.14e+05\n",
      "element_211            5.7473   3.54e+04      0.000      1.000   -6.93e+04    6.93e+04\n",
      "element_212          -19.7872   3.17e+05  -6.24e-05      1.000   -6.21e+05    6.21e+05\n",
      "element_215           -1.5936      1.227     -1.299      0.194      -3.998       0.811\n",
      "element_216          -26.4727   6.58e+05  -4.02e-05      1.000   -1.29e+06    1.29e+06\n",
      "element_217          -26.6298   6.58e+05  -4.05e-05      1.000   -1.29e+06    1.29e+06\n",
      "element_219          -26.6308    1.3e+05     -0.000      1.000   -2.54e+05    2.54e+05\n",
      "element_220           -0.6432      0.916     -0.702      0.483      -2.438       1.152\n",
      "element_221           -1.2433      1.004     -1.239      0.216      -3.211       0.724\n",
      "element_222          -26.5939   2.05e+05     -0.000      1.000   -4.01e+05    4.01e+05\n",
      "element_223           13.6940   2.08e+04      0.001      0.999   -4.07e+04    4.08e+04\n",
      "element_224           11.7441   2.08e+04      0.001      1.000   -4.07e+04    4.08e+04\n",
      "element_225           13.2361   2.08e+04      0.001      0.999   -4.07e+04    4.08e+04\n",
      "element_226          -13.9249   2.66e+05  -5.23e-05      1.000   -5.22e+05    5.22e+05\n",
      "element_227           11.3959   2.08e+04      0.001      1.000   -4.07e+04    4.08e+04\n",
      "element_228          -13.8078   6.54e+05  -2.11e-05      1.000   -1.28e+06    1.28e+06\n",
      "element_230          -13.7247   4.59e+05  -2.99e-05      1.000      -9e+05       9e+05\n",
      "element_233           12.8570   2.08e+04      0.001      1.000   -4.07e+04    4.08e+04\n",
      "element_234            6.2133   3.54e+04      0.000      1.000   -6.93e+04    6.93e+04\n",
      "element_236          -19.7603   3.72e+05  -5.32e-05      1.000   -7.28e+05    7.28e+05\n",
      "element_239           -0.9843      1.228     -0.801      0.423      -3.392       1.423\n",
      "element_240          -26.9288   6.58e+05  -4.09e-05      1.000   -1.29e+06    1.29e+06\n",
      "element_241          -26.5834   2.91e+05  -9.13e-05      1.000   -5.71e+05    5.71e+05\n",
      "element_242          -26.6099   1.97e+05     -0.000      1.000   -3.85e+05    3.85e+05\n",
      "element_243           -0.9555      1.229     -0.777      0.437      -3.364       1.453\n",
      "element_245           -1.6481      1.227     -1.343      0.179      -4.054       0.757\n",
      "element_246           -2.0907      1.227     -1.703      0.088      -4.496       0.315\n",
      "element_247          -26.6455   1.39e+05     -0.000      1.000   -2.73e+05    2.73e+05\n",
      "element_249          -13.9098   2.16e+05  -6.43e-05      1.000   -4.24e+05    4.24e+05\n",
      "element_251           13.0853   2.08e+04      0.001      0.999   -4.07e+04    4.08e+04\n",
      "element_252           11.1526   2.08e+04      0.001      1.000   -4.07e+04    4.08e+04\n",
      "element_253           13.6254   2.08e+04      0.001      0.999   -4.07e+04    4.08e+04\n",
      "element_254           12.0832   2.08e+04      0.001      1.000   -4.07e+04    4.08e+04\n",
      "element_255          -13.9249   1.89e+05  -7.38e-05      1.000    -3.7e+05     3.7e+05\n",
      "element_256          -13.9390    2.9e+05   -4.8e-05      1.000   -5.69e+05    5.69e+05\n",
      "element_257            7.3567   3.54e+04      0.000      1.000   -6.93e+04    6.93e+04\n",
      "element_258            6.5206   3.54e+04      0.000      1.000   -6.93e+04    6.93e+04\n",
      "element_262          -26.5101   1.62e+05     -0.000      1.000   -3.18e+05    3.18e+05\n",
      "element_263          -26.7334   2.88e+05  -9.27e-05      1.000   -5.65e+05    5.65e+05\n",
      "element_264          -26.7673   2.18e+05     -0.000      1.000   -4.28e+05    4.28e+05\n",
      "element_265           -1.8686      1.227     -1.523      0.128      -4.274       0.537\n",
      "element_266           -0.7282      1.228     -0.593      0.553      -3.135       1.679\n",
      "element_267          -26.6078   2.16e+05     -0.000      1.000   -4.23e+05    4.23e+05\n",
      "element_268           -1.4356      1.002     -1.432      0.152      -3.400       0.529\n",
      "element_269          -26.6314   2.66e+05     -0.000      1.000   -5.21e+05    5.21e+05\n",
      "element_270           13.2628   2.08e+04      0.001      0.999   -4.07e+04    4.08e+04\n",
      "element_271           12.8345   2.08e+04      0.001      1.000   -4.07e+04    4.08e+04\n",
      "element_272           10.8777   2.08e+04      0.001      1.000   -4.07e+04    4.08e+04\n",
      "element_273          -13.9194    4.6e+05  -3.03e-05      1.000   -9.01e+05    9.01e+05\n",
      "element_274           12.9899   2.08e+04      0.001      1.000   -4.07e+04    4.08e+04\n",
      "element_275           13.4525   2.08e+04      0.001      0.999   -4.07e+04    4.08e+04\n",
      "element_276           12.0191   2.08e+04      0.001      1.000   -4.07e+04    4.08e+04\n",
      "element_279          -14.0272   3.72e+05  -3.77e-05      1.000    -7.3e+05     7.3e+05\n",
      "element_280            7.1522   3.54e+04      0.000      1.000   -6.93e+04    6.93e+04\n",
      "element_281            7.7143   3.54e+04      0.000      1.000   -6.93e+04    6.93e+04\n",
      "element_284           -1.3832      1.227     -1.127      0.260      -3.789       1.023\n",
      "element_285          -26.8366   2.17e+05     -0.000      1.000   -4.26e+05    4.26e+05\n",
      "element_286           -1.8722      1.228     -1.525      0.127      -4.278       0.534\n",
      "element_288          -26.6266    2.9e+05  -9.19e-05      1.000   -5.68e+05    5.68e+05\n",
      "element_289          -26.4318   3.25e+05  -8.14e-05      1.000   -6.37e+05    6.37e+05\n",
      "element_291          -26.6089    2.9e+05  -9.19e-05      1.000   -5.67e+05    5.67e+05\n",
      "element_292           -1.8685      1.228     -1.521      0.128      -4.276       0.539\n",
      "element_293           -1.8077      1.227     -1.473      0.141      -4.213       0.598\n",
      "element_294          -26.8162   3.27e+05  -8.19e-05      1.000   -6.42e+05    6.42e+05\n",
      "element_295          -13.9641   6.54e+05  -2.13e-05      1.000   -1.28e+06    1.28e+06\n",
      "element_296           10.7519   2.08e+04      0.001      1.000   -4.07e+04    4.08e+04\n",
      "element_297           12.2832   2.08e+04      0.001      1.000   -4.07e+04    4.08e+04\n",
      "element_298          -13.9266   2.65e+05  -5.26e-05      1.000   -5.19e+05    5.19e+05\n",
      "element_299           12.4078   2.08e+04      0.001      1.000   -4.07e+04    4.08e+04\n",
      "element_300           12.8696   2.08e+04      0.001      1.000   -4.07e+04    4.08e+04\n",
      "element_301           13.7322   2.08e+04      0.001      0.999   -4.07e+04    4.08e+04\n",
      "element_302           12.9789   2.08e+04      0.001      1.000   -4.07e+04    4.08e+04\n",
      "element_303          -14.0273   4.61e+05  -3.04e-05      1.000   -9.03e+05    9.03e+05\n",
      "element_304          -13.9151   3.75e+05  -3.71e-05      1.000   -7.35e+05    7.35e+05\n",
      "element_305            7.1396   3.54e+04      0.000      1.000   -6.93e+04    6.93e+04\n",
      "element_306            7.2055   3.54e+04      0.000      1.000   -6.93e+04    6.93e+04\n",
      "element_310           -1.8010      1.228     -1.467      0.142      -4.207       0.605\n",
      "element_311           -0.2842      1.004     -0.283      0.777      -2.253       1.684\n",
      "element_312          -26.6014   1.45e+05     -0.000      1.000   -2.85e+05    2.85e+05\n",
      "element_313          -26.6050   1.74e+05     -0.000      1.000   -3.41e+05     3.4e+05\n",
      "element_314          -26.5079    2.9e+05  -9.13e-05      1.000   -5.69e+05    5.69e+05\n",
      "element_315          -26.6334   3.27e+05  -8.14e-05      1.000   -6.42e+05    6.42e+05\n",
      "element_317           11.2750   2.08e+04      0.001      1.000   -4.07e+04    4.08e+04\n",
      "element_318          -13.9481   2.46e+05  -5.68e-05      1.000   -4.81e+05    4.81e+05\n",
      "element_319          -13.8487   1.54e+05  -9.02e-05      1.000   -3.01e+05    3.01e+05\n",
      "element_320          -13.8440   2.17e+05  -6.39e-05      1.000   -4.25e+05    4.25e+05\n",
      "element_323           12.0140   2.08e+04      0.001      1.000   -4.07e+04    4.08e+04\n",
      "element_324          -13.8939   2.29e+05  -6.06e-05      1.000    -4.5e+05     4.5e+05\n",
      "element_326            6.0255   3.54e+04      0.000      1.000   -6.93e+04    6.93e+04\n",
      "element_327          -19.6891   3.18e+05  -6.19e-05      1.000   -6.24e+05    6.24e+05\n",
      "element_330           -1.4316      1.228     -1.165      0.244      -3.839       0.976\n",
      "element_331          -26.5451    2.3e+05     -0.000      1.000   -4.52e+05    4.52e+05\n",
      "element_332           -1.4880      1.228     -1.212      0.225      -3.894       0.918\n",
      "element_333           -1.4334      1.229     -1.166      0.244      -3.843       0.976\n",
      "element_335          -26.6654   1.96e+05     -0.000      1.000   -3.84e+05    3.84e+05\n",
      "element_336          -26.6267    1.8e+05     -0.000      1.000   -3.53e+05    3.52e+05\n",
      "element_337          -13.5871   6.54e+05  -2.08e-05      1.000   -1.28e+06    1.28e+06\n",
      "element_338           12.9447   2.08e+04      0.001      1.000   -4.07e+04    4.08e+04\n",
      "element_339          -13.9462   2.05e+05   -6.8e-05      1.000   -4.02e+05    4.02e+05\n",
      "element_340           11.8331   2.08e+04      0.001      1.000   -4.07e+04    4.08e+04\n",
      "element_343           11.8318   2.08e+04      0.001      1.000   -4.07e+04    4.08e+04\n",
      "element_344          -13.8523   1.68e+05  -8.25e-05      1.000   -3.29e+05    3.29e+05\n",
      "element_345           12.3768   2.08e+04      0.001      1.000   -4.07e+04    4.08e+04\n",
      "element_346          -13.8233    4.6e+05  -3.01e-05      1.000   -9.01e+05    9.01e+05\n",
      "element_347          -19.6397   4.54e+05  -4.33e-05      1.000    -8.9e+05     8.9e+05\n",
      "element_349            7.2170   3.54e+04      0.000      1.000   -6.93e+04    6.93e+04\n",
      "element_353          -26.6767   1.39e+05     -0.000      1.000   -2.72e+05    2.72e+05\n",
      "element_354          -26.8147   1.96e+05     -0.000      1.000   -3.84e+05    3.84e+05\n",
      "element_355           -1.2560      1.229     -1.022      0.307      -3.665       1.153\n",
      "element_356          -26.5951   1.81e+05     -0.000      1.000   -3.54e+05    3.54e+05\n",
      "element_357           -1.8284      1.227     -1.490      0.136      -4.233       0.576\n",
      "element_358          -26.8543   6.58e+05  -4.08e-05      1.000   -1.29e+06    1.29e+06\n",
      "element_359           -1.4608      1.228     -1.190      0.234      -3.867       0.946\n",
      "element_360          -26.4524   3.79e+05  -6.98e-05      1.000   -7.42e+05    7.42e+05\n",
      "element_361           12.2306   2.08e+04      0.001      1.000   -4.07e+04    4.08e+04\n",
      "element_362          -13.9251   3.75e+05  -3.71e-05      1.000   -7.35e+05    7.35e+05\n",
      "element_363           13.4069   2.08e+04      0.001      0.999   -4.07e+04    4.08e+04\n",
      "element_364           12.2492   2.08e+04      0.001      1.000   -4.07e+04    4.08e+04\n",
      "element_365           12.6512   2.08e+04      0.001      1.000   -4.07e+04    4.08e+04\n",
      "element_366          -13.7099   6.54e+05   -2.1e-05      1.000   -1.28e+06    1.28e+06\n",
      "element_367           13.5461   2.08e+04      0.001      0.999   -4.07e+04    4.08e+04\n",
      "element_368           11.2394   2.08e+04      0.001      1.000   -4.07e+04    4.08e+04\n",
      "element_369          -13.8605   1.74e+05  -7.96e-05      1.000   -3.41e+05    3.41e+05\n",
      "element_370           13.1752   2.08e+04      0.001      0.999   -4.07e+04    4.08e+04\n",
      "element_371            7.2170   3.54e+04      0.000      1.000   -6.93e+04    6.93e+04\n",
      "element_372            7.5611   3.54e+04      0.000      1.000   -6.93e+04    6.93e+04\n",
      "element_376           -0.9459      0.917     -1.032      0.302      -2.743       0.851\n",
      "element_378           -0.8702      0.917     -0.949      0.343      -2.667       0.927\n",
      "element_380          -26.6815   1.87e+05     -0.000      1.000   -3.67e+05    3.67e+05\n",
      "element_381          -26.7069   2.17e+05     -0.000      1.000   -4.25e+05    4.25e+05\n",
      "element_382          -26.6792    1.8e+05     -0.000      1.000   -3.53e+05    3.53e+05\n",
      "element_383          -26.6353   1.74e+05     -0.000      1.000   -3.41e+05    3.41e+05\n",
      "element_386          -26.5380   3.72e+05  -7.13e-05      1.000   -7.29e+05    7.29e+05\n",
      "element_387          -14.2216   6.54e+05  -2.17e-05      1.000   -1.28e+06    1.28e+06\n",
      "element_388          -14.2442   4.61e+05  -3.09e-05      1.000   -9.04e+05    9.04e+05\n",
      "element_389           10.7886   2.08e+04      0.001      1.000   -4.07e+04    4.08e+04\n",
      "element_390           11.5446   2.08e+04      0.001      1.000   -4.07e+04    4.08e+04\n",
      "element_391           12.6598   2.08e+04      0.001      1.000   -4.07e+04    4.08e+04\n",
      "element_392          -13.8234   2.17e+05  -6.36e-05      1.000   -4.26e+05    4.26e+05\n",
      "element_393           13.1225   2.08e+04      0.001      0.999   -4.07e+04    4.08e+04\n",
      "element_394           12.5102   2.08e+04      0.001      1.000   -4.07e+04    4.08e+04\n",
      "element_395            8.2350   3.54e+04      0.000      1.000   -6.93e+04    6.93e+04\n",
      "element_396            6.6702   3.54e+04      0.000      1.000   -6.93e+04    6.93e+04\n",
      "element_402          -26.7172   1.95e+05     -0.000      1.000   -3.82e+05    3.82e+05\n",
      "element_403          -26.6836   1.95e+05     -0.000      1.000   -3.82e+05    3.82e+05\n",
      "element_405          -26.6588   1.58e+05     -0.000      1.000   -3.09e+05    3.09e+05\n",
      "element_406           -1.9982      1.227     -1.628      0.104      -4.404       0.407\n",
      "element_408          -26.2989   3.24e+05  -8.12e-05      1.000   -6.35e+05    6.35e+05\n",
      "element_409          -26.6617   1.33e+05     -0.000      1.000    -2.6e+05     2.6e+05\n",
      "element_410          -13.8615    1.8e+05  -7.68e-05      1.000   -3.54e+05    3.54e+05\n",
      "element_411           12.0132   2.08e+04      0.001      1.000   -4.07e+04    4.08e+04\n",
      "element_412          -13.8617   1.96e+05  -7.08e-05      1.000   -3.84e+05    3.84e+05\n",
      "element_413          -13.7831    2.9e+05  -4.75e-05      1.000   -5.69e+05    5.69e+05\n",
      "element_415           12.3893   2.08e+04      0.001      1.000   -4.07e+04    4.08e+04\n",
      "element_417            7.1807   3.54e+04      0.000      1.000   -6.93e+04    6.93e+04\n",
      "element_419            8.8032   3.54e+04      0.000      1.000   -6.93e+04    6.93e+04\n",
      "element_423           -0.8866      0.916     -0.968      0.333      -2.682       0.909\n",
      "element_425           -0.8263      0.916     -0.903      0.367      -2.621       0.968\n",
      "element_426            0.0636      1.004      0.063      0.950      -1.904       2.031\n",
      "element_427           -2.0430      1.227     -1.665      0.096      -4.448       0.362\n",
      "element_430          -26.6094   1.28e+05     -0.000      1.000    -2.5e+05     2.5e+05\n",
      "element_431          -26.5976   3.75e+05  -7.09e-05      1.000   -7.35e+05    7.35e+05\n",
      "element_432           13.2787   2.08e+04      0.001      0.999   -4.07e+04    4.08e+04\n",
      "element_433           11.5221   2.08e+04      0.001      1.000   -4.07e+04    4.08e+04\n",
      "element_435          -14.0424    4.6e+05  -3.05e-05      1.000   -9.01e+05    9.01e+05\n",
      "element_437            7.0835   3.54e+04      0.000      1.000   -6.93e+04    6.93e+04\n",
      "element_440          -26.6668   2.17e+05     -0.000      1.000   -4.25e+05    4.25e+05\n",
      "element_441          -26.5991   6.58e+05  -4.04e-05      1.000   -1.29e+06    1.29e+06\n",
      "element_447          -13.7156   3.72e+05  -3.68e-05      1.000    -7.3e+05     7.3e+05\n",
      "element_450           11.8548   2.08e+04      0.001      1.000   -4.07e+04    4.08e+04\n",
      "element_451          -13.9149   1.74e+05  -8.02e-05      1.000    -3.4e+05     3.4e+05\n",
      "element_453          -13.5932   6.54e+05  -2.08e-05      1.000   -1.28e+06    1.28e+06\n",
      "element_455          -26.6548   1.62e+05     -0.000      1.000   -3.17e+05    3.17e+05\n",
      "element_456           11.2176   2.08e+04      0.001      1.000   -4.07e+04    4.08e+04\n",
      "element_458          -14.0181   2.17e+05  -6.47e-05      1.000   -4.25e+05    4.25e+05\n",
      "element_459           10.9035   2.08e+04      0.001      1.000   -4.07e+04    4.08e+04\n",
      "element_460          -26.5999   1.87e+05     -0.000      1.000   -3.66e+05    3.66e+05\n",
      "element_461          -26.6899   1.95e+05     -0.000      1.000   -3.83e+05    3.83e+05\n",
      "element_462           13.1037   2.08e+04      0.001      0.999   -4.07e+04    4.08e+04\n",
      "element_463          -26.6667   1.67e+05     -0.000      1.000   -3.28e+05    3.28e+05\n",
      "element_464           -1.6137      1.227     -1.315      0.189      -4.019       0.792\n",
      "element_465           12.7574   2.08e+04      0.001      1.000   -4.07e+04    4.08e+04\n",
      "element_466          -13.9313   2.65e+05  -5.27e-05      1.000   -5.19e+05    5.19e+05\n",
      "element_467          -26.6458   2.45e+05     -0.000      1.000   -4.81e+05    4.81e+05\n",
      "element_471          -13.7822   4.62e+05  -2.98e-05      1.000   -9.06e+05    9.06e+05\n",
      "element_472          -20.0876   4.56e+05  -4.41e-05      1.000   -8.93e+05    8.93e+05\n",
      "element_473          -26.4914   3.75e+05  -7.06e-05      1.000   -7.35e+05    7.35e+05\n",
      "element_475          -13.9117   1.58e+05  -8.78e-05      1.000    -3.1e+05     3.1e+05\n",
      "element_476          -13.8293   3.76e+05  -3.67e-05      1.000   -7.38e+05    7.38e+05\n",
      "element_478           12.9771   2.08e+04      0.001      1.000   -4.07e+04    4.08e+04\n",
      "element_479          -26.6677   2.06e+05     -0.000      1.000   -4.03e+05    4.03e+05\n",
      "element_480            7.0699   3.54e+04      0.000      1.000   -6.93e+04    6.93e+04\n",
      "element_481          -13.9641   6.54e+05  -2.13e-05      1.000   -1.28e+06    1.28e+06\n",
      "element_482           -0.5464      1.003     -0.545      0.586      -2.512       1.420\n",
      "element_483           -1.5937      1.228     -1.298      0.194      -4.000       0.813\n",
      "element_484           -0.8145      0.916     -0.889      0.374      -2.610       0.981\n",
      "element_486          -13.9431   2.89e+05  -4.82e-05      1.000   -5.67e+05    5.67e+05\n",
      "element_487          -26.5681   2.05e+05     -0.000      1.000   -4.02e+05    4.02e+05\n",
      "element_488          -19.1914   6.45e+05  -2.97e-05      1.000   -1.26e+06    1.26e+06\n",
      "element_489           12.1746   2.08e+04      0.001      1.000   -4.07e+04    4.08e+04\n",
      "element_492           13.2044   2.08e+04      0.001      0.999   -4.07e+04    4.08e+04\n",
      "element_493            6.9517   3.54e+04      0.000      1.000   -6.93e+04    6.93e+04\n",
      "element_494          -13.8667   1.63e+05  -8.52e-05      1.000   -3.19e+05    3.19e+05\n",
      "element_503          -26.5831   1.53e+05     -0.000      1.000      -3e+05       3e+05\n",
      "element_504           12.1936   2.08e+04      0.001      1.000   -4.07e+04    4.08e+04\n",
      "element_505            6.5347   3.54e+04      0.000      1.000   -6.93e+04    6.93e+04\n",
      "element_506           -0.7465      1.229     -0.607      0.544      -3.156       1.663\n",
      "element_507          -13.8121    3.7e+05  -3.73e-05      1.000   -7.26e+05    7.26e+05\n",
      "element_508           11.5232   2.08e+04      0.001      1.000   -4.07e+04    4.08e+04\n",
      "element_510          -26.5526   2.18e+05     -0.000      1.000   -4.28e+05    4.27e+05\n",
      "element_511          -26.7716    2.9e+05  -9.22e-05      1.000   -5.69e+05    5.69e+05\n",
      "element_512          -13.8692   3.75e+05  -3.69e-05      1.000   -7.36e+05    7.36e+05\n",
      "element_513          -19.8138   3.67e+05   -5.4e-05      1.000   -7.19e+05    7.19e+05\n",
      "element_514          -13.9173   4.54e+05  -3.06e-05      1.000    -8.9e+05     8.9e+05\n",
      "element_515          -26.9038   4.65e+05  -5.79e-05      1.000   -9.11e+05     9.1e+05\n",
      "element_516          -26.6060    1.8e+05     -0.000      1.000   -3.53e+05    3.53e+05\n",
      "element_517           13.0723   2.08e+04      0.001      0.999   -4.07e+04    4.08e+04\n",
      "element_518          -13.7704   4.61e+05  -2.99e-05      1.000   -9.03e+05    9.03e+05\n",
      "element_519           12.6084   2.08e+04      0.001      1.000   -4.07e+04    4.08e+04\n",
      "element_522            1.5338      1.249      1.228      0.219      -0.914       3.981\n",
      "element_524          -19.8873   3.71e+05  -5.36e-05      1.000   -7.27e+05    7.27e+05\n",
      "element_526           -1.9100      1.227     -1.557      0.120      -4.315       0.495\n",
      "element_527          -13.8768   1.49e+05   -9.3e-05      1.000   -2.93e+05    2.93e+05\n",
      "element_531          -13.7451   2.89e+05  -4.75e-05      1.000   -5.67e+05    5.67e+05\n",
      "element_534           12.3905   2.08e+04      0.001      1.000   -4.07e+04    4.08e+04\n",
      "element_535          -13.9893   4.59e+05  -3.05e-05      1.000   -8.99e+05    8.99e+05\n",
      "element_539          -14.2675   6.54e+05  -2.18e-05      1.000   -1.28e+06    1.28e+06\n",
      "element_549           -0.6489      1.229     -0.528      0.597      -3.057       1.759\n",
      "element_556          -26.4853   2.93e+05  -9.04e-05      1.000   -5.74e+05    5.74e+05\n",
      "element_565          -26.2592   6.58e+05  -3.99e-05      1.000   -1.29e+06    1.29e+06\n",
      "element_570          -14.2675   6.54e+05  -2.18e-05      1.000   -1.28e+06    1.28e+06\n",
      "element_571          -13.6257   4.63e+05  -2.94e-05      1.000   -9.07e+05    9.07e+05\n",
      "element_575          -13.9893   4.59e+05  -3.05e-05      1.000   -8.99e+05    8.99e+05\n",
      "element_579            8.0390   3.54e+04      0.000      1.000   -6.93e+04    6.93e+04\n",
      "element_591          -13.5871   6.54e+05  -2.08e-05      1.000   -1.28e+06    1.28e+06\n",
      "======================================================================================\n"
     ]
    }
   ],
   "source": [
    "print(sppm_results.summary())"
   ]
  },
  {
   "cell_type": "markdown",
   "metadata": {
    "heading_collapsed": true,
    "hidden": true
   },
   "source": [
    "### Model fit"
   ]
  },
  {
   "cell_type": "code",
   "execution_count": 44,
   "metadata": {
    "ExecuteTime": {
     "end_time": "2019-03-02T14:39:17.014404Z",
     "start_time": "2019-03-02T14:39:17.007614Z"
    },
    "hidden": true
   },
   "outputs": [
    {
     "data": {
      "text/plain": [
       "3001.380666659371"
      ]
     },
     "execution_count": 44,
     "metadata": {},
     "output_type": "execute_result"
    }
   ],
   "source": [
    "sppm_results.aic"
   ]
  },
  {
   "cell_type": "code",
   "execution_count": 45,
   "metadata": {
    "ExecuteTime": {
     "end_time": "2019-03-02T14:39:17.043009Z",
     "start_time": "2019-03-02T14:39:17.017394Z"
    },
    "hidden": true
   },
   "outputs": [
    {
     "data": {
      "text/plain": [
       "-28179.12329473316"
      ]
     },
     "execution_count": 45,
     "metadata": {},
     "output_type": "execute_result"
    }
   ],
   "source": [
    "sppm_results.bic"
   ]
  },
  {
   "cell_type": "code",
   "execution_count": 46,
   "metadata": {
    "ExecuteTime": {
     "end_time": "2019-03-02T14:39:17.073372Z",
     "start_time": "2019-03-02T14:39:17.047040Z"
    },
    "hidden": true
   },
   "outputs": [
    {
     "data": {
      "text/plain": [
       "(False, 1.0)"
      ]
     },
     "execution_count": 46,
     "metadata": {},
     "output_type": "execute_result"
    }
   ],
   "source": [
    "sppm_pearson_results = goodness_fit.pearson_chi_squared_test(sppm_results)\n",
    "sppm_pearson_results"
   ]
  },
  {
   "cell_type": "code",
   "execution_count": 47,
   "metadata": {
    "ExecuteTime": {
     "end_time": "2019-03-02T14:39:17.112746Z",
     "start_time": "2019-03-02T14:39:17.076586Z"
    },
    "hidden": true
   },
   "outputs": [
    {
     "name": "stderr",
     "output_type": "stream",
     "text": [
      "/home/tom/footbot/venv/lib/python3.6/site-packages/statsmodels/genmod/families/family.py:340: RuntimeWarning: invalid value encountered in sqrt\n",
      "  np.sqrt(2 * (endog * np.log(endog_mu) - (endog - mu))) / scale)\n"
     ]
    },
    {
     "data": {
      "text/plain": [
       "count    3948.000000\n",
       "mean       -0.139688\n",
       "std         0.563326\n",
       "min        -1.458262\n",
       "25%        -0.459142\n",
       "50%        -0.213228\n",
       "75%        -0.000001\n",
       "max         2.705821\n",
       "dtype: float64"
      ]
     },
     "execution_count": 47,
     "metadata": {},
     "output_type": "execute_result"
    }
   ],
   "source": [
    "sppm_results.resid_deviance.describe()"
   ]
  },
  {
   "cell_type": "code",
   "execution_count": 129,
   "metadata": {
    "ExecuteTime": {
     "end_time": "2019-03-16T14:02:21.418828Z",
     "start_time": "2019-03-16T14:02:21.127897Z"
    },
    "hidden": true
   },
   "outputs": [
    {
     "name": "stderr",
     "output_type": "stream",
     "text": [
      "/home/tom/footbot/venv/lib/python3.6/site-packages/numpy/lib/histograms.py:754: RuntimeWarning: invalid value encountered in greater_equal\n",
      "  keep = (tmp_a >= first_edge)\n",
      "/home/tom/footbot/venv/lib/python3.6/site-packages/numpy/lib/histograms.py:755: RuntimeWarning: invalid value encountered in less_equal\n",
      "  keep &= (tmp_a <= last_edge)\n"
     ]
    },
    {
     "data": {
      "image/png": "[encoded data removed]",
      "text/plain": [
       "<Figure size 432x288 with 1 Axes>"
      ]
     },
     "metadata": {
      "needs_background": "light"
     },
     "output_type": "display_data"
    }
   ],
   "source": [
    "plt.figure()\n",
    "plt.hist(sppm_results.resid_deviance)\n",
    "plt.show()"
   ]
  },
  {
   "cell_type": "markdown",
   "metadata": {},
   "source": [
    "## Poisson player model with identity link"
   ]
  },
  {
   "cell_type": "markdown",
   "metadata": {},
   "source": [
    "### Preparing data"
   ]
  },
  {
   "cell_type": "code",
   "execution_count": 49,
   "metadata": {
    "ExecuteTime": {
     "end_time": "2019-03-02T14:39:17.573735Z",
     "start_time": "2019-03-02T14:39:17.566318Z"
    }
   },
   "outputs": [],
   "source": [
    "lppm_df = element_gameweek_df.copy()"
   ]
  },
  {
   "cell_type": "code",
   "execution_count": 50,
   "metadata": {
    "ExecuteTime": {
     "end_time": "2019-03-02T14:39:17.742955Z",
     "start_time": "2019-03-02T14:39:17.580914Z"
    }
   },
   "outputs": [],
   "source": [
    "lppm_df = player.add_categorical_variables(lppm_df, 'element_type')\n",
    "lppm_df = player.add_categorical_variables(lppm_df, 'opposition_team')\n",
    "lppm_df = player.add_categorical_variables(lppm_df, 'element')"
   ]
  },
  {
   "cell_type": "code",
   "execution_count": 51,
   "metadata": {
    "ExecuteTime": {
     "end_time": "2019-03-02T14:39:17.766357Z",
     "start_time": "2019-03-02T14:39:17.747139Z"
    }
   },
   "outputs": [],
   "source": [
    "lppm_redundant_columns = [\n",
    "    'row_id', 'assists', 'attempted_passes', 'big_chances_created',\n",
    "    'big_chances_missed', 'bonus', 'bps', 'clean_sheets',\n",
    "    'clearances_blocks_interceptions', 'completed_passes', 'creativity',\n",
    "    'dribbles', 'ea_index', 'element', 'errors_leading_to_goal',\n",
    "    'errors_leading_to_goal_attempt', 'fixture', 'fouls', 'goals_conceded',\n",
    "    'ict_index', 'id', 'influence', 'key_passes', 'kickoff_time',\n",
    "    'kickoff_time_formatted', 'loaned_in', 'loaned_out', 'minutes', 'offside',\n",
    "    'open_play_crosses', 'opponent_team', 'own_goals', 'penalties_conceded',\n",
    "    'penalties_missed', 'penalties_saved', 'recoveries', 'red_cards', 'round',\n",
    "    'saves', 'selected', 'tackled', 'tackles', 'target_missed', 'team_a_score',\n",
    "    'team_h_score', 'threat', 'total_points', 'transfers_balance',\n",
    "    'transfers_in', 'transfers_out', 'value', 'winning_goals',\n",
    "    'yellow_cards', 'event', 'team_a', 'team_a_difficulty', 'team_h',\n",
    "    'team_h_difficulty', 'element_type', 'team', 'web_name', 'safe_web_name',\n",
    "    'own_team', 'opposition_team', 'was_home'\n",
    "]"
   ]
  },
  {
   "cell_type": "code",
   "execution_count": 52,
   "metadata": {
    "ExecuteTime": {
     "end_time": "2019-03-02T14:39:17.797526Z",
     "start_time": "2019-03-02T14:39:17.769848Z"
    }
   },
   "outputs": [],
   "source": [
    "lppm_df = player.remove_redundant_columns(lppm_df, lppm_redundant_columns)"
   ]
  },
  {
   "cell_type": "code",
   "execution_count": 53,
   "metadata": {
    "ExecuteTime": {
     "end_time": "2019-03-02T14:39:18.103693Z",
     "start_time": "2019-03-02T14:39:17.805594Z"
    }
   },
   "outputs": [],
   "source": [
    "lppm_response_df, lppm_explanatory_df = player.get_response_explanatory_dfs(lppm_df, 'goals_scored')"
   ]
  },
  {
   "cell_type": "code",
   "execution_count": 54,
   "metadata": {
    "ExecuteTime": {
     "end_time": "2019-03-02T14:39:18.113744Z",
     "start_time": "2019-03-02T14:39:18.107021Z"
    }
   },
   "outputs": [
    {
     "data": {
      "text/plain": [
       "Index(['const', 'element_type_3', 'element_type_4', 'opposition_team_2',\n",
       "       'opposition_team_3', 'opposition_team_4', 'opposition_team_5',\n",
       "       'opposition_team_6', 'opposition_team_7', 'opposition_team_8',\n",
       "       ...\n",
       "       'element_535', 'element_539', 'element_549', 'element_556',\n",
       "       'element_565', 'element_570', 'element_571', 'element_575',\n",
       "       'element_579', 'element_591'],\n",
       "      dtype='object', length=391)"
      ]
     },
     "execution_count": 54,
     "metadata": {},
     "output_type": "execute_result"
    }
   ],
   "source": [
    "lppm_explanatory_df.columns"
   ]
  },
  {
   "cell_type": "code",
   "execution_count": 55,
   "metadata": {
    "ExecuteTime": {
     "end_time": "2019-03-02T14:39:18.157698Z",
     "start_time": "2019-03-02T14:39:18.120908Z"
    }
   },
   "outputs": [
    {
     "data": {
      "text/plain": [
       "74    0\n",
       "78    0\n",
       "79    0\n",
       "80    1\n",
       "82    1\n",
       "Name: goals_scored, dtype: int64"
      ]
     },
     "execution_count": 55,
     "metadata": {},
     "output_type": "execute_result"
    }
   ],
   "source": [
    "lppm_response_df.head()"
   ]
  },
  {
   "cell_type": "markdown",
   "metadata": {},
   "source": [
    "### Fitting model"
   ]
  },
  {
   "cell_type": "code",
   "execution_count": null,
   "metadata": {
    "ExecuteTime": {
     "start_time": "2019-03-16T16:28:42.424Z"
    }
   },
   "outputs": [
    {
     "name": "stderr",
     "output_type": "stream",
     "text": [
      "/home/tom/footbot/venv/lib/python3.6/site-packages/statsmodels/genmod/generalized_linear_model.py:244: DomainWarning: The identity link function does not respect the domain of the Poisson family.\n",
      "  DomainWarning)\n",
      "/home/tom/footbot/venv/lib/python3.6/site-packages/statsmodels/genmod/families/family.py:371: RuntimeWarning: invalid value encountered in true_divide\n",
      "  endog_mu = self._clean(endog / mu)\n",
      "/home/tom/footbot/venv/lib/python3.6/site-packages/statsmodels/genmod/families/family.py:124: RuntimeWarning: divide by zero encountered in true_divide\n",
      "  return 1. / (self.link.deriv(mu)**2 * self.variance(mu))\n",
      "/home/tom/footbot/venv/lib/python3.6/site-packages/statsmodels/regression/linear_model.py:552: RuntimeWarning: invalid value encountered in multiply\n",
      "  return np.sqrt(self.weights)[:, None]*X\n",
      "/home/tom/footbot/venv/lib/python3.6/site-packages/statsmodels/regression/linear_model.py:550: RuntimeWarning: invalid value encountered in multiply\n",
      "  return X * np.sqrt(self.weights)\n",
      "/home/tom/footbot/venv/lib/python3.6/site-packages/statsmodels/regression/linear_model.py:530: RuntimeWarning: invalid value encountered in true_divide\n",
      "  weights = weights / np.sum(weights) * nobs\n"
     ]
    }
   ],
   "source": [
    "# doesn't seem to run\n",
    "lppm_results = sm.GLM(\n",
    "    lppm_response_df,\n",
    "    lppm_explanatory_df,\n",
    "    family=sm.families.Poisson(link=sm.families.links.identity),\n",
    "    missing='drop'\n",
    ").fit()"
   ]
  },
  {
   "cell_type": "code",
   "execution_count": null,
   "metadata": {
    "ExecuteTime": {
     "start_time": "2019-03-16T16:28:59.672Z"
    }
   },
   "outputs": [],
   "source": [
    "print(lppm_results.summary())"
   ]
  },
  {
   "cell_type": "markdown",
   "metadata": {},
   "source": [
    "### Model fit"
   ]
  },
  {
   "cell_type": "code",
   "execution_count": null,
   "metadata": {
    "ExecuteTime": {
     "start_time": "2019-03-16T16:29:02.131Z"
    }
   },
   "outputs": [],
   "source": [
    "lppm_results.aic"
   ]
  },
  {
   "cell_type": "code",
   "execution_count": null,
   "metadata": {
    "ExecuteTime": {
     "start_time": "2019-03-16T16:29:03.111Z"
    }
   },
   "outputs": [],
   "source": [
    "lppm_results.bic"
   ]
  },
  {
   "cell_type": "code",
   "execution_count": null,
   "metadata": {
    "ExecuteTime": {
     "start_time": "2019-03-16T16:29:03.647Z"
    }
   },
   "outputs": [],
   "source": [
    "lppm_pearson_results = goodness_fit.pearson_chi_squared_test(lppm_results)\n",
    "lppm_pearson_results"
   ]
  },
  {
   "cell_type": "code",
   "execution_count": null,
   "metadata": {
    "ExecuteTime": {
     "start_time": "2019-03-16T16:29:04.495Z"
    }
   },
   "outputs": [],
   "source": [
    "lppm_results.resid_deviance.describe()"
   ]
  },
  {
   "cell_type": "code",
   "execution_count": null,
   "metadata": {
    "ExecuteTime": {
     "start_time": "2019-03-16T16:29:05.354Z"
    }
   },
   "outputs": [],
   "source": [
    "plt.figure()\n",
    "plt.hist(lppm_results.resid_deviance)\n",
    "plt.show()"
   ]
  },
  {
   "cell_type": "markdown",
   "metadata": {
    "heading_collapsed": true
   },
   "source": [
    "## Simple Poisson player model with team-home interactions"
   ]
  },
  {
   "cell_type": "markdown",
   "metadata": {
    "hidden": true
   },
   "source": [
    "### Preparing data"
   ]
  },
  {
   "cell_type": "code",
   "execution_count": 63,
   "metadata": {
    "ExecuteTime": {
     "end_time": "2019-03-02T14:39:32.953774Z",
     "start_time": "2019-03-02T14:39:32.944478Z"
    },
    "hidden": true
   },
   "outputs": [],
   "source": [
    "sphm_df = element_gameweek_df.copy()"
   ]
  },
  {
   "cell_type": "code",
   "execution_count": 64,
   "metadata": {
    "ExecuteTime": {
     "end_time": "2019-03-02T14:39:33.021068Z",
     "start_time": "2019-03-02T14:39:32.958414Z"
    },
    "hidden": true
   },
   "outputs": [],
   "source": [
    "sphm_df = player.add_categorical_variables(sphm_df, 'element_type')\n",
    "sphm_df = player.add_categorical_variables(sphm_df, 'opposition_team')\n",
    "sphm_df = player.add_categorical_variables(sphm_df, 'element')"
   ]
  },
  {
   "cell_type": "code",
   "execution_count": 65,
   "metadata": {
    "ExecuteTime": {
     "end_time": "2019-03-02T14:39:33.036525Z",
     "start_time": "2019-03-02T14:39:33.024143Z"
    },
    "hidden": true
   },
   "outputs": [],
   "source": [
    "sphm_df = player.add_interaction_terms(sphm_df, 'opposition_team', 'was_home')"
   ]
  },
  {
   "cell_type": "code",
   "execution_count": 66,
   "metadata": {
    "ExecuteTime": {
     "end_time": "2019-03-02T14:39:33.058032Z",
     "start_time": "2019-03-02T14:39:33.039213Z"
    },
    "hidden": true
   },
   "outputs": [],
   "source": [
    "sphm_redundant_columns = [\n",
    "    'row_id', 'assists', 'attempted_passes', 'big_chances_created',\n",
    "    'big_chances_missed', 'bonus', 'bps', 'clean_sheets',\n",
    "    'clearances_blocks_interceptions', 'completed_passes', 'creativity',\n",
    "    'dribbles', 'ea_index', 'element', 'errors_leading_to_goal',\n",
    "    'errors_leading_to_goal_attempt', 'fixture', 'fouls', 'goals_conceded',\n",
    "    'ict_index', 'id', 'influence', 'key_passes', 'kickoff_time',\n",
    "    'kickoff_time_formatted', 'loaned_in', 'loaned_out', 'minutes', 'offside',\n",
    "    'open_play_crosses', 'opponent_team', 'own_goals', 'penalties_conceded',\n",
    "    'penalties_missed', 'penalties_saved', 'recoveries', 'red_cards', 'round',\n",
    "    'saves', 'selected', 'tackled', 'tackles', 'target_missed', 'team_a_score',\n",
    "    'team_h_score', 'threat', 'total_points', 'transfers_balance',\n",
    "    'transfers_in', 'transfers_out', 'value', 'winning_goals',\n",
    "    'yellow_cards', 'event', 'team_a', 'team_a_difficulty', 'team_h',\n",
    "    'team_h_difficulty', 'element_type', 'team', 'web_name', 'safe_web_name',\n",
    "    'own_team', 'opposition_team'\n",
    "]"
   ]
  },
  {
   "cell_type": "code",
   "execution_count": 67,
   "metadata": {
    "ExecuteTime": {
     "end_time": "2019-03-02T14:39:33.092268Z",
     "start_time": "2019-03-02T14:39:33.060569Z"
    },
    "hidden": true
   },
   "outputs": [],
   "source": [
    "sphm_df = player.remove_redundant_columns(sphm_df, sphm_redundant_columns)"
   ]
  },
  {
   "cell_type": "code",
   "execution_count": 68,
   "metadata": {
    "ExecuteTime": {
     "end_time": "2019-03-02T14:39:33.302900Z",
     "start_time": "2019-03-02T14:39:33.101131Z"
    },
    "hidden": true
   },
   "outputs": [],
   "source": [
    "sphm_response_df, sphm_explanatory_df = player.get_response_explanatory_dfs(sphm_df, 'goals_scored')"
   ]
  },
  {
   "cell_type": "code",
   "execution_count": 69,
   "metadata": {
    "ExecuteTime": {
     "end_time": "2019-03-02T14:39:33.322241Z",
     "start_time": "2019-03-02T14:39:33.311020Z"
    },
    "hidden": true
   },
   "outputs": [
    {
     "data": {
      "text/plain": [
       "Index(['const', 'was_home', 'element_type_3', 'element_type_4',\n",
       "       'opposition_team_2', 'opposition_team_3', 'opposition_team_4',\n",
       "       'opposition_team_5', 'opposition_team_6', 'opposition_team_7',\n",
       "       ...\n",
       "       'opposition_team_was_home_11', 'opposition_team_was_home_12',\n",
       "       'opposition_team_was_home_13', 'opposition_team_was_home_14',\n",
       "       'opposition_team_was_home_15', 'opposition_team_was_home_16',\n",
       "       'opposition_team_was_home_17', 'opposition_team_was_home_18',\n",
       "       'opposition_team_was_home_19', 'opposition_team_was_home_20'],\n",
       "      dtype='object', length=411)"
      ]
     },
     "execution_count": 69,
     "metadata": {},
     "output_type": "execute_result"
    }
   ],
   "source": [
    "sphm_explanatory_df.columns"
   ]
  },
  {
   "cell_type": "code",
   "execution_count": 70,
   "metadata": {
    "ExecuteTime": {
     "end_time": "2019-03-02T14:39:33.348994Z",
     "start_time": "2019-03-02T14:39:33.330022Z"
    },
    "hidden": true
   },
   "outputs": [
    {
     "data": {
      "text/plain": [
       "74    0\n",
       "78    0\n",
       "79    0\n",
       "80    1\n",
       "82    1\n",
       "Name: goals_scored, dtype: int64"
      ]
     },
     "execution_count": 70,
     "metadata": {},
     "output_type": "execute_result"
    }
   ],
   "source": [
    "sphm_response_df.head()"
   ]
  },
  {
   "cell_type": "markdown",
   "metadata": {
    "heading_collapsed": true,
    "hidden": true
   },
   "source": [
    "### Fitting model"
   ]
  },
  {
   "cell_type": "code",
   "execution_count": 71,
   "metadata": {
    "ExecuteTime": {
     "end_time": "2019-03-02T14:39:48.225470Z",
     "start_time": "2019-03-02T14:39:33.356464Z"
    },
    "hidden": true
   },
   "outputs": [],
   "source": [
    "sphm_results = sm.GLM(\n",
    "    sphm_response_df,\n",
    "    sphm_explanatory_df,\n",
    "    family=sm.families.Poisson(),\n",
    "    missing='drop'\n",
    ").fit()"
   ]
  },
  {
   "cell_type": "code",
   "execution_count": 72,
   "metadata": {
    "ExecuteTime": {
     "end_time": "2019-03-02T14:39:48.515157Z",
     "start_time": "2019-03-02T14:39:48.237830Z"
    },
    "hidden": true
   },
   "outputs": [
    {
     "name": "stdout",
     "output_type": "stream",
     "text": [
      "                 Generalized Linear Model Regression Results                  \n",
      "==============================================================================\n",
      "Dep. Variable:           goals_scored   No. Observations:                 3952\n",
      "Model:                            GLM   Df Residuals:                     3543\n",
      "Model Family:                 Poisson   Df Model:                          408\n",
      "Link Function:                    log   Scale:                             1.0\n",
      "Method:                          IRLS   Log-Likelihood:                -1102.2\n",
      "Date:                Sat, 02 Mar 2019   Deviance:                       1310.6\n",
      "Time:                        14:39:48   Pearson chi2:                 2.18e+03\n",
      "No. Iterations:                    25                                         \n",
      "===============================================================================================\n",
      "                                  coef    std err          z      P>|z|      [0.025      0.975]\n",
      "-----------------------------------------------------------------------------------------------\n",
      "const                          -1.8312      0.847     -2.161      0.031      -3.492      -0.170\n",
      "was_home                        0.7244      0.543      1.333      0.182      -0.340       1.789\n",
      "element_type_3                -12.7099   2.07e+04     -0.001      1.000   -4.06e+04    4.06e+04\n",
      "element_type_4                 -6.8197   3.52e+04     -0.000      1.000    -6.9e+04     6.9e+04\n",
      "opposition_team_2               0.6341      0.558      1.136      0.256      -0.459       1.728\n",
      "opposition_team_3               0.5551      0.546      1.016      0.310      -0.516       1.626\n",
      "opposition_team_4               1.1029      0.534      2.064      0.039       0.056       2.150\n",
      "opposition_team_5               0.9073      0.525      1.728      0.084      -0.122       1.936\n",
      "opposition_team_6              -0.3587      0.679     -0.528      0.597      -1.689       0.972\n",
      "opposition_team_7               0.3249      0.577      0.563      0.573      -0.806       1.456\n",
      "opposition_team_8               0.6313      0.548      1.151      0.250      -0.443       1.706\n",
      "opposition_team_9               0.8332      0.537      1.553      0.120      -0.219       1.885\n",
      "opposition_team_10              0.7627      0.522      1.460      0.144      -0.261       1.787\n",
      "opposition_team_11              0.5011      0.565      0.886      0.375      -0.607       1.609\n",
      "opposition_team_12             -0.0665      0.643     -0.103      0.918      -1.327       1.194\n",
      "opposition_team_13              0.2653      0.583      0.455      0.649      -0.877       1.408\n",
      "opposition_team_14              0.4057      0.579      0.700      0.484      -0.730       1.541\n",
      "opposition_team_15              0.6066      0.547      1.108      0.268      -0.466       1.680\n",
      "opposition_team_16              1.0230      0.523      1.954      0.051      -0.003       2.049\n",
      "opposition_team_17              0.1377      0.594      0.232      0.817      -1.026       1.301\n",
      "opposition_team_18              0.6538      0.526      1.242      0.214      -0.378       1.685\n",
      "opposition_team_19              0.4721      0.547      0.863      0.388      -0.600       1.545\n",
      "opposition_team_20              1.0307      0.523      1.972      0.049       0.006       2.055\n",
      "element_4                     -26.4699   1.65e+05     -0.000      1.000   -3.24e+05    3.24e+05\n",
      "element_5                      -1.2327      1.230     -1.002      0.316      -3.644       1.179\n",
      "element_6                     -26.4230   2.27e+05     -0.000      1.000   -4.45e+05    4.45e+05\n",
      "element_7                      -0.8018      1.009     -0.795      0.427      -2.779       1.176\n",
      "element_8                     -26.6776   1.96e+05     -0.000      1.000   -3.84e+05    3.84e+05\n",
      "element_9                      -1.5615      1.233     -1.266      0.205      -3.978       0.855\n",
      "element_11                    -26.2331   3.77e+05  -6.95e-05      1.000    -7.4e+05     7.4e+05\n",
      "element_12                    -26.5268   1.66e+05     -0.000      1.000   -3.26e+05    3.26e+05\n",
      "element_13                     12.9028   2.07e+04      0.001      1.000   -4.06e+04    4.06e+04\n",
      "element_14                    -13.7846   3.71e+05  -3.72e-05      1.000   -7.27e+05    7.26e+05\n",
      "element_15                     12.4102   2.07e+04      0.001      1.000   -4.06e+04    4.06e+04\n",
      "element_17                     12.0321   2.07e+04      0.001      1.000   -4.06e+04    4.06e+04\n",
      "element_18                     13.2561   2.07e+04      0.001      0.999   -4.06e+04    4.06e+04\n",
      "element_20                     12.4506   2.07e+04      0.001      1.000   -4.06e+04    4.06e+04\n",
      "element_22                      7.2075   3.52e+04      0.000      1.000    -6.9e+04     6.9e+04\n",
      "element_23                      7.4321   3.52e+04      0.000      1.000    -6.9e+04     6.9e+04\n",
      "element_26                    -26.5743   1.84e+05     -0.000      1.000   -3.61e+05    3.61e+05\n",
      "element_27                     -2.1062      1.231     -1.712      0.087      -4.518       0.306\n",
      "element_28                    -26.6476   1.85e+05     -0.000      1.000   -3.62e+05    3.62e+05\n",
      "element_29                     -1.4224      1.231     -1.155      0.248      -3.835       0.991\n",
      "element_30                    -26.2272   6.58e+05  -3.99e-05      1.000   -1.29e+06    1.29e+06\n",
      "element_31                     -1.3834      1.007     -1.374      0.170      -3.357       0.591\n",
      "element_33                    -13.9262   1.74e+05  -8.01e-05      1.000   -3.41e+05    3.41e+05\n",
      "element_35                    -13.8847   1.83e+05  -7.58e-05      1.000   -3.59e+05    3.59e+05\n",
      "element_36                    -13.7087   2.91e+05  -4.71e-05      1.000   -5.71e+05    5.71e+05\n",
      "element_37                    -13.7630   2.02e+05   -6.8e-05      1.000   -3.97e+05    3.97e+05\n",
      "element_38                    -13.6577   6.54e+05  -2.09e-05      1.000   -1.28e+06    1.28e+06\n",
      "element_39                    -13.9329   2.89e+05  -4.82e-05      1.000   -5.66e+05    5.66e+05\n",
      "element_40                     12.3087   2.07e+04      0.001      1.000   -4.06e+04    4.06e+04\n",
      "element_42                     12.8779   2.07e+04      0.001      1.000   -4.06e+04    4.06e+04\n",
      "element_43                      7.2172   3.52e+04      0.000      1.000    -6.9e+04     6.9e+04\n",
      "element_45                      6.9220   3.52e+04      0.000      1.000    -6.9e+04     6.9e+04\n",
      "element_48                     -1.2432      1.005     -1.237      0.216      -3.213       0.726\n",
      "element_49                     -0.2681      0.843     -0.318      0.751      -1.921       1.385\n",
      "element_50                    -26.6108   2.86e+05   -9.3e-05      1.000   -5.61e+05    5.61e+05\n",
      "element_51                    -26.5148   1.61e+05     -0.000      1.000   -3.16e+05    3.16e+05\n",
      "element_54                    -26.6274   2.88e+05  -9.23e-05      1.000   -5.65e+05    5.65e+05\n",
      "element_55                     12.0311   2.07e+04      0.001      1.000   -4.06e+04    4.06e+04\n",
      "element_56                     11.1553   2.07e+04      0.001      1.000   -4.06e+04    4.06e+04\n",
      "element_57                     12.1580   2.07e+04      0.001      1.000   -4.06e+04    4.06e+04\n",
      "element_58                     11.2038   2.07e+04      0.001      1.000   -4.06e+04    4.06e+04\n",
      "element_59                     12.1621   2.07e+04      0.001      1.000   -4.06e+04    4.06e+04\n",
      "element_60                    -13.8607   1.45e+05  -9.56e-05      1.000   -2.84e+05    2.84e+05\n",
      "element_61                    -14.0791   3.75e+05  -3.76e-05      1.000   -7.35e+05    7.35e+05\n",
      "element_62                      7.7009   3.52e+04      0.000      1.000    -6.9e+04     6.9e+04\n",
      "element_65                      7.0647   3.52e+04      0.000      1.000    -6.9e+04     6.9e+04\n",
      "element_69                    -26.6379    1.8e+05     -0.000      1.000   -3.53e+05    3.53e+05\n",
      "element_70                    -26.6030   1.26e+05     -0.000      1.000   -2.47e+05    2.47e+05\n",
      "element_71                    -26.9848   6.58e+05   -4.1e-05      1.000   -1.29e+06    1.29e+06\n",
      "element_72                     -0.8647      0.918     -0.942      0.346      -2.665       0.935\n",
      "element_73                    -26.2502   2.92e+05     -9e-05      1.000   -5.72e+05    5.72e+05\n",
      "element_74                    -26.5838   1.34e+05     -0.000      1.000   -2.63e+05    2.63e+05\n",
      "element_75                    -26.6035   1.92e+05     -0.000      1.000   -3.77e+05    3.77e+05\n",
      "element_76                     11.9479   2.07e+04      0.001      1.000   -4.06e+04    4.06e+04\n",
      "element_77                    -13.8936   4.61e+05  -3.01e-05      1.000   -9.04e+05    9.04e+05\n",
      "element_78                     11.9323   2.07e+04      0.001      1.000   -4.06e+04    4.06e+04\n",
      "element_79                    -14.0105   3.61e+05  -3.88e-05      1.000   -7.08e+05    7.08e+05\n",
      "element_80                    -13.8980   1.48e+05  -9.37e-05      1.000   -2.91e+05    2.91e+05\n",
      "element_82                     10.6752   2.07e+04      0.001      1.000   -4.06e+04    4.06e+04\n",
      "element_83                     11.3942   2.07e+04      0.001      1.000   -4.06e+04    4.06e+04\n",
      "element_84                      7.8240   3.52e+04      0.000      1.000    -6.9e+04     6.9e+04\n",
      "element_85                      7.2648   3.52e+04      0.000      1.000    -6.9e+04     6.9e+04\n",
      "element_87                      7.3401   3.52e+04      0.000      1.000    -6.9e+04     6.9e+04\n",
      "element_90                    -26.4863   1.41e+05     -0.000      1.000   -2.75e+05    2.75e+05\n",
      "element_91                     -0.9332      0.920     -1.015      0.310      -2.736       0.870\n",
      "element_92                    -26.5437   1.26e+05     -0.000      1.000   -2.47e+05    2.47e+05\n",
      "element_94                    -26.5369   1.56e+05     -0.000      1.000   -3.05e+05    3.05e+05\n",
      "element_95                    -26.5782   2.64e+05     -0.000      1.000   -5.18e+05    5.18e+05\n",
      "element_98                    -13.7392   1.79e+05  -7.69e-05      1.000    -3.5e+05     3.5e+05\n",
      "element_99                     12.5621   2.07e+04      0.001      1.000   -4.06e+04    4.06e+04\n",
      "element_101                    12.3697   2.07e+04      0.001      1.000   -4.06e+04    4.06e+04\n",
      "element_102                    11.4196   2.07e+04      0.001      1.000   -4.06e+04    4.06e+04\n",
      "element_106                    12.5403   2.07e+04      0.001      1.000   -4.06e+04    4.06e+04\n",
      "element_107                   -19.6119   6.45e+05  -3.04e-05      1.000   -1.26e+06    1.26e+06\n",
      "element_110                     7.2955   3.52e+04      0.000      1.000    -6.9e+04     6.9e+04\n",
      "element_113                   -26.5920   1.26e+05     -0.000      1.000   -2.48e+05    2.47e+05\n",
      "element_115                    -1.9828      1.230     -1.612      0.107      -4.394       0.429\n",
      "element_116                    -1.3499      1.006     -1.342      0.180      -3.322       0.622\n",
      "element_118                    -2.0097      1.230     -1.634      0.102      -4.420       0.401\n",
      "element_119                   -26.9821   4.64e+05  -5.82e-05      1.000   -9.09e+05    9.09e+05\n",
      "element_121                   -26.5959   6.58e+05  -4.04e-05      1.000   -1.29e+06    1.29e+06\n",
      "element_122                    12.7792   2.07e+04      0.001      1.000   -4.06e+04    4.06e+04\n",
      "element_123                   -14.2827   6.54e+05  -2.18e-05      1.000   -1.28e+06    1.28e+06\n",
      "element_124                    12.6956   2.07e+04      0.001      1.000   -4.06e+04    4.06e+04\n",
      "element_125                    13.3490   2.07e+04      0.001      0.999   -4.06e+04    4.06e+04\n",
      "element_126                    11.8249   2.07e+04      0.001      1.000   -4.06e+04    4.06e+04\n",
      "element_127                    12.5700   2.07e+04      0.001      1.000   -4.06e+04    4.06e+04\n",
      "element_132                    13.5103   2.07e+04      0.001      0.999   -4.06e+04    4.06e+04\n",
      "element_133                   -20.0610   6.45e+05  -3.11e-05      1.000   -1.26e+06    1.26e+06\n",
      "element_134                     7.2326   3.52e+04      0.000      1.000    -6.9e+04     6.9e+04\n",
      "element_138                    -1.8243      1.229     -1.485      0.138      -4.232       0.584\n",
      "element_140                   -26.7088   3.24e+05  -8.23e-05      1.000   -6.36e+05    6.36e+05\n",
      "element_141                     0.6458      0.925      0.698      0.485      -1.167       2.459\n",
      "element_142                    -2.0286      1.229     -1.650      0.099      -4.438       0.381\n",
      "element_143                   -26.5494   1.26e+05     -0.000      1.000   -2.47e+05    2.47e+05\n",
      "element_145                   -26.5657   1.31e+05     -0.000      1.000   -2.57e+05    2.57e+05\n",
      "element_146                   -13.8544   3.74e+05  -3.71e-05      1.000   -7.32e+05    7.32e+05\n",
      "element_147                   -13.9495   1.67e+05  -8.37e-05      1.000   -3.27e+05    3.27e+05\n",
      "element_149                    12.1113   2.07e+04      0.001      1.000   -4.06e+04    4.06e+04\n",
      "element_150                    12.5940   2.07e+04      0.001      1.000   -4.06e+04    4.06e+04\n",
      "element_151                     6.5693   3.52e+04      0.000      1.000    -6.9e+04     6.9e+04\n",
      "element_152                   -20.0563   6.45e+05  -3.11e-05      1.000   -1.26e+06    1.26e+06\n",
      "element_156                   -26.8176   3.76e+05  -7.12e-05      1.000   -7.38e+05    7.38e+05\n",
      "element_157                    -1.8116      1.231     -1.472      0.141      -4.224       0.601\n",
      "element_160                   -26.7706   3.27e+05  -8.18e-05      1.000   -6.42e+05    6.42e+05\n",
      "element_161                   -26.4955   2.43e+05     -0.000      1.000   -4.76e+05    4.75e+05\n",
      "element_162                    -2.0129      1.230     -1.637      0.102      -4.424       0.398\n",
      "element_164                    12.4292   2.07e+04      0.001      1.000   -4.06e+04    4.06e+04\n",
      "element_167                   -14.2723   4.61e+05  -3.09e-05      1.000   -9.04e+05    9.04e+05\n",
      "element_168                   -13.8830   1.47e+05  -9.45e-05      1.000   -2.88e+05    2.88e+05\n",
      "element_169                   -13.7964   2.15e+05  -6.42e-05      1.000   -4.21e+05    4.21e+05\n",
      "element_170                   -14.2412   4.63e+05  -3.08e-05      1.000   -9.07e+05    9.07e+05\n",
      "element_172                    13.0048   2.07e+04      0.001      0.999   -4.06e+04    4.06e+04\n",
      "element_175                     6.9179   3.52e+04      0.000      1.000    -6.9e+04     6.9e+04\n",
      "element_177                   -19.7299   3.65e+05  -5.41e-05      1.000   -7.15e+05    7.15e+05\n",
      "element_180                   -26.5762   1.94e+05     -0.000      1.000    -3.8e+05     3.8e+05\n",
      "element_181                   -26.5631   1.33e+05     -0.000      1.000   -2.61e+05    2.61e+05\n",
      "element_182                   -13.8724   2.44e+05  -5.69e-05      1.000   -4.78e+05    4.78e+05\n",
      "element_183                   -13.8811   2.86e+05  -4.86e-05      1.000    -5.6e+05     5.6e+05\n",
      "element_184                    11.3117   2.07e+04      0.001      1.000   -4.06e+04    4.06e+04\n",
      "element_185                   -13.5173   6.54e+05  -2.07e-05      1.000   -1.28e+06    1.28e+06\n",
      "element_189                     6.5709   3.52e+04      0.000      1.000    -6.9e+04     6.9e+04\n",
      "element_192                    -2.0263      1.230     -1.647      0.100      -4.438       0.385\n",
      "element_193                   -26.4407   1.78e+05     -0.000      1.000   -3.49e+05    3.49e+05\n",
      "element_194                   -26.3639   2.82e+05  -9.36e-05      1.000   -5.52e+05    5.52e+05\n",
      "element_195                    -0.8494      0.921     -0.922      0.356      -2.654       0.956\n",
      "element_197                   -26.7028   1.67e+05     -0.000      1.000   -3.27e+05    3.26e+05\n",
      "element_198                   -26.6006   1.55e+05     -0.000      1.000   -3.04e+05    3.03e+05\n",
      "element_199                    11.8140   2.07e+04      0.001      1.000   -4.06e+04    4.06e+04\n",
      "element_200                   -13.9355   3.75e+05  -3.72e-05      1.000   -7.35e+05    7.35e+05\n",
      "element_201                   -13.9727   1.73e+05  -8.07e-05      1.000    -3.4e+05     3.4e+05\n",
      "element_202                    11.5509   2.07e+04      0.001      1.000   -4.06e+04    4.06e+04\n",
      "element_206                   -13.8456   2.12e+05  -6.53e-05      1.000   -4.16e+05    4.16e+05\n",
      "element_208                   -13.6465    3.2e+05  -4.27e-05      1.000   -6.27e+05    6.27e+05\n",
      "element_210                   -19.5189   2.62e+05  -7.45e-05      1.000   -5.13e+05    5.13e+05\n",
      "element_211                     5.6560   3.52e+04      0.000      1.000    -6.9e+04     6.9e+04\n",
      "element_212                   -19.6246   3.11e+05  -6.31e-05      1.000    -6.1e+05     6.1e+05\n",
      "element_215                    -1.5121      1.232     -1.228      0.220      -3.926       0.902\n",
      "element_216                   -26.2868   6.58e+05     -4e-05      1.000   -1.29e+06    1.29e+06\n",
      "element_217                   -26.5931   6.58e+05  -4.04e-05      1.000   -1.29e+06    1.29e+06\n",
      "element_219                   -26.5045   1.28e+05     -0.000      1.000   -2.51e+05    2.51e+05\n",
      "element_220                    -0.5200      0.922     -0.564      0.573      -2.327       1.287\n",
      "element_221                    -1.1318      1.008     -1.123      0.261      -3.107       0.844\n",
      "element_222                   -26.3933   2.02e+05     -0.000      1.000   -3.97e+05    3.97e+05\n",
      "element_223                    13.7545   2.07e+04      0.001      0.999   -4.06e+04    4.06e+04\n",
      "element_224                    11.8796   2.07e+04      0.001      1.000   -4.06e+04    4.06e+04\n",
      "element_225                    13.0615   2.07e+04      0.001      0.999   -4.06e+04    4.06e+04\n",
      "element_226                   -13.9236   2.63e+05  -5.29e-05      1.000   -5.16e+05    5.16e+05\n",
      "element_227                    11.4285   2.07e+04      0.001      1.000   -4.06e+04    4.06e+04\n",
      "element_228                   -13.8954   6.54e+05  -2.12e-05      1.000   -1.28e+06    1.28e+06\n",
      "element_230                   -13.4239   4.44e+05  -3.02e-05      1.000   -8.71e+05    8.71e+05\n",
      "element_233                    12.8965   2.07e+04      0.001      1.000   -4.06e+04    4.06e+04\n",
      "element_234                     6.2087   3.52e+04      0.000      1.000    -6.9e+04     6.9e+04\n",
      "element_236                   -19.7585   3.71e+05  -5.33e-05      1.000   -7.27e+05    7.27e+05\n",
      "element_239                    -1.0102      1.232     -0.820      0.412      -3.425       1.405\n",
      "element_240                   -26.8807   6.58e+05  -4.09e-05      1.000   -1.29e+06    1.29e+06\n",
      "element_241                   -26.6415   2.92e+05  -9.12e-05      1.000   -5.73e+05    5.72e+05\n",
      "element_242                   -26.4518   1.92e+05     -0.000      1.000   -3.76e+05    3.76e+05\n",
      "element_243                    -0.9231      1.234     -0.748      0.454      -3.342       1.495\n",
      "element_245                    -1.5484      1.232     -1.257      0.209      -3.962       0.865\n",
      "element_246                    -2.0363      1.230     -1.655      0.098      -4.448       0.375\n",
      "element_247                   -26.5325   1.36e+05     -0.000      1.000   -2.67e+05    2.67e+05\n",
      "element_249                   -13.9031   2.12e+05  -6.55e-05      1.000   -4.16e+05    4.16e+05\n",
      "element_251                    13.1291   2.07e+04      0.001      0.999   -4.06e+04    4.06e+04\n",
      "element_252                    11.2156   2.07e+04      0.001      1.000   -4.06e+04    4.06e+04\n",
      "element_253                    13.6108   2.07e+04      0.001      0.999   -4.06e+04    4.06e+04\n",
      "element_254                    12.0679   2.07e+04      0.001      1.000   -4.06e+04    4.06e+04\n",
      "element_255                   -13.8981   1.86e+05  -7.46e-05      1.000   -3.65e+05    3.65e+05\n",
      "element_256                   -13.9727    2.9e+05  -4.82e-05      1.000   -5.68e+05    5.68e+05\n",
      "element_257                     7.3690   3.52e+04      0.000      1.000    -6.9e+04     6.9e+04\n",
      "element_258                     6.3221   3.52e+04      0.000      1.000    -6.9e+04     6.9e+04\n",
      "element_262                   -26.3865   1.61e+05     -0.000      1.000   -3.15e+05    3.15e+05\n",
      "element_263                   -26.7884   2.86e+05  -9.37e-05      1.000   -5.61e+05     5.6e+05\n",
      "element_264                   -26.7739   2.17e+05     -0.000      1.000   -4.25e+05    4.25e+05\n",
      "element_265                    -1.8328      1.230     -1.490      0.136      -4.243       0.578\n",
      "element_266                    -0.5918      1.232     -0.481      0.631      -3.006       1.822\n",
      "element_267                   -26.5229   2.12e+05     -0.000      1.000   -4.16e+05    4.16e+05\n",
      "element_268                    -1.4002      1.006     -1.392      0.164      -3.371       0.571\n",
      "element_269                   -26.4532   2.63e+05     -0.000      1.000   -5.16e+05    5.16e+05\n",
      "element_270                    13.2727   2.07e+04      0.001      0.999   -4.06e+04    4.06e+04\n",
      "element_271                    12.7388   2.07e+04      0.001      1.000   -4.06e+04    4.06e+04\n",
      "element_272                    10.8571   2.07e+04      0.001      1.000   -4.06e+04    4.06e+04\n",
      "element_273                   -13.9944   4.62e+05  -3.03e-05      1.000   -9.06e+05    9.06e+05\n",
      "element_274                    12.9292   2.07e+04      0.001      1.000   -4.06e+04    4.06e+04\n",
      "element_275                    13.4588   2.07e+04      0.001      0.999   -4.06e+04    4.06e+04\n",
      "element_276                    11.9933   2.07e+04      0.001      1.000   -4.06e+04    4.06e+04\n",
      "element_279                   -14.2714   3.71e+05  -3.85e-05      1.000   -7.26e+05    7.26e+05\n",
      "element_280                     7.1345   3.52e+04      0.000      1.000    -6.9e+04     6.9e+04\n",
      "element_281                     7.6301   3.52e+04      0.000      1.000    -6.9e+04     6.9e+04\n",
      "element_284                    -1.2900      1.232     -1.047      0.295      -3.705       1.125\n",
      "element_285                   -26.8190   2.15e+05     -0.000      1.000   -4.22e+05    4.22e+05\n",
      "element_286                    -1.7550      1.232     -1.425      0.154      -4.169       0.659\n",
      "element_288                   -26.5576   2.88e+05  -9.21e-05      1.000   -5.65e+05    5.65e+05\n",
      "element_289                   -26.4757   3.19e+05   -8.3e-05      1.000   -6.25e+05    6.25e+05\n",
      "element_291                   -26.4562   2.85e+05  -9.29e-05      1.000   -5.58e+05    5.58e+05\n",
      "element_292                    -1.7843      1.232     -1.448      0.148      -4.199       0.631\n",
      "element_293                    -1.7136      1.230     -1.393      0.164      -4.124       0.697\n",
      "element_294                   -26.8988   3.25e+05  -8.27e-05      1.000   -6.37e+05    6.37e+05\n",
      "element_295                   -14.1084   6.54e+05  -2.16e-05      1.000   -1.28e+06    1.28e+06\n",
      "element_296                    10.7370   2.07e+04      0.001      1.000   -4.06e+04    4.06e+04\n",
      "element_297                    12.2726   2.07e+04      0.001      1.000   -4.06e+04    4.06e+04\n",
      "element_298                   -13.8653   2.62e+05   -5.3e-05      1.000   -5.13e+05    5.13e+05\n",
      "element_299                    12.3417   2.07e+04      0.001      1.000   -4.06e+04    4.06e+04\n",
      "element_300                    12.8178   2.07e+04      0.001      1.000   -4.06e+04    4.06e+04\n",
      "element_301                    13.7628   2.07e+04      0.001      0.999   -4.06e+04    4.06e+04\n",
      "element_302                    13.0125   2.07e+04      0.001      0.999   -4.06e+04    4.06e+04\n",
      "element_303                   -14.0247    4.6e+05  -3.05e-05      1.000   -9.02e+05    9.01e+05\n",
      "element_304                   -13.8087   3.76e+05  -3.68e-05      1.000   -7.36e+05    7.36e+05\n",
      "element_305                     7.0415   3.52e+04      0.000      1.000    -6.9e+04     6.9e+04\n",
      "element_306                     7.2878   3.52e+04      0.000      1.000    -6.9e+04     6.9e+04\n",
      "element_310                    -1.8505      1.230     -1.504      0.133      -4.262       0.561\n",
      "element_311                    -0.2211      1.009     -0.219      0.827      -2.198       1.756\n",
      "element_312                   -26.5267   1.43e+05     -0.000      1.000    -2.8e+05     2.8e+05\n",
      "element_313                   -26.6392   1.73e+05     -0.000      1.000   -3.38e+05    3.38e+05\n",
      "element_314                   -26.3899   2.81e+05  -9.41e-05      1.000    -5.5e+05     5.5e+05\n",
      "element_315                   -26.5647   3.26e+05  -8.14e-05      1.000   -6.39e+05    6.39e+05\n",
      "element_317                    11.2257   2.07e+04      0.001      1.000   -4.06e+04    4.06e+04\n",
      "element_318                   -14.0203   2.42e+05  -5.79e-05      1.000   -4.74e+05    4.74e+05\n",
      "element_319                   -13.8826   1.52e+05  -9.14e-05      1.000   -2.98e+05    2.98e+05\n",
      "element_320                   -13.7242   2.13e+05  -6.45e-05      1.000   -4.17e+05    4.17e+05\n",
      "element_323                    11.9798   2.07e+04      0.001      1.000   -4.06e+04    4.06e+04\n",
      "element_324                   -13.9275   2.28e+05  -6.11e-05      1.000   -4.47e+05    4.47e+05\n",
      "element_326                     5.9656   3.52e+04      0.000      1.000    -6.9e+04     6.9e+04\n",
      "element_327                   -19.7634   3.16e+05  -6.25e-05      1.000   -6.19e+05    6.19e+05\n",
      "element_330                    -1.4539      1.231     -1.181      0.238      -3.867       0.960\n",
      "element_331                   -26.4616   2.28e+05     -0.000      1.000   -4.47e+05    4.47e+05\n",
      "element_332                    -1.4754      1.231     -1.198      0.231      -3.889       0.938\n",
      "element_333                    -1.3462      1.233     -1.092      0.275      -3.763       1.070\n",
      "element_335                   -26.5830   1.94e+05     -0.000      1.000   -3.81e+05    3.81e+05\n",
      "element_336                   -26.6182   1.77e+05     -0.000      1.000   -3.48e+05    3.48e+05\n",
      "element_337                   -13.3898   6.54e+05  -2.05e-05      1.000   -1.28e+06    1.28e+06\n",
      "element_338                    13.0069   2.07e+04      0.001      0.999   -4.06e+04    4.06e+04\n",
      "element_339                   -13.9086   2.03e+05  -6.85e-05      1.000   -3.98e+05    3.98e+05\n",
      "element_340                    11.7744   2.07e+04      0.001      1.000   -4.06e+04    4.06e+04\n",
      "element_343                    11.8135   2.07e+04      0.001      1.000   -4.06e+04    4.06e+04\n",
      "element_344                   -13.9107   1.66e+05  -8.39e-05      1.000   -3.25e+05    3.25e+05\n",
      "element_345                    12.3818   2.07e+04      0.001      1.000   -4.06e+04    4.06e+04\n",
      "element_346                   -13.7019   4.61e+05  -2.97e-05      1.000   -9.04e+05    9.04e+05\n",
      "element_347                   -19.6645   4.39e+05  -4.48e-05      1.000    -8.6e+05     8.6e+05\n",
      "element_349                     7.2895   3.52e+04      0.000      1.000    -6.9e+04     6.9e+04\n",
      "element_353                   -26.5804   1.38e+05     -0.000      1.000    -2.7e+05     2.7e+05\n",
      "element_354                   -26.6962   1.94e+05     -0.000      1.000    -3.8e+05     3.8e+05\n",
      "element_355                    -1.1643      1.233     -0.945      0.345      -3.580       1.251\n",
      "element_356                   -26.5444   1.79e+05     -0.000      1.000   -3.52e+05    3.52e+05\n",
      "element_357                    -1.7451      1.231     -1.418      0.156      -4.157       0.667\n",
      "element_358                   -26.9169   6.58e+05  -4.09e-05      1.000   -1.29e+06    1.29e+06\n",
      "element_359                    -1.3660      1.232     -1.109      0.267      -3.780       1.048\n",
      "element_360                   -26.4586   3.75e+05  -7.06e-05      1.000   -7.35e+05    7.35e+05\n",
      "element_361                    12.3058   2.07e+04      0.001      1.000   -4.06e+04    4.06e+04\n",
      "element_362                   -13.7825   3.76e+05  -3.67e-05      1.000   -7.36e+05    7.36e+05\n",
      "element_363                    13.1355   2.07e+04      0.001      0.999   -4.06e+04    4.06e+04\n",
      "element_364                    12.2901   2.07e+04      0.001      1.000   -4.06e+04    4.06e+04\n",
      "element_365                    12.6445   2.07e+04      0.001      1.000   -4.06e+04    4.06e+04\n",
      "element_366                   -13.5770   6.54e+05  -2.08e-05      1.000   -1.28e+06    1.28e+06\n",
      "element_367                    13.6064   2.07e+04      0.001      0.999   -4.06e+04    4.06e+04\n",
      "element_368                    11.2514   2.07e+04      0.001      1.000   -4.06e+04    4.06e+04\n",
      "element_369                   -13.8315   1.71e+05  -8.07e-05      1.000   -3.36e+05    3.36e+05\n",
      "element_370                    13.1645   2.07e+04      0.001      0.999   -4.06e+04    4.06e+04\n",
      "element_371                     7.2895   3.52e+04      0.000      1.000    -6.9e+04     6.9e+04\n",
      "element_372                     7.5934   3.52e+04      0.000      1.000    -6.9e+04     6.9e+04\n",
      "element_376                    -0.9174      0.920     -0.997      0.319      -2.721       0.886\n",
      "element_378                    -0.8168      0.920     -0.888      0.375      -2.620       0.987\n",
      "element_380                   -26.6426   1.86e+05     -0.000      1.000   -3.64e+05    3.64e+05\n",
      "element_381                   -26.6418   2.13e+05     -0.000      1.000   -4.18e+05    4.18e+05\n",
      "element_382                   -26.5751   1.78e+05     -0.000      1.000   -3.49e+05    3.49e+05\n",
      "element_383                   -26.6345   1.73e+05     -0.000      1.000   -3.39e+05    3.39e+05\n",
      "element_386                   -26.6839   3.64e+05  -7.33e-05      1.000   -7.13e+05    7.13e+05\n",
      "element_387                   -14.2750   6.54e+05  -2.18e-05      1.000   -1.28e+06    1.28e+06\n",
      "element_388                   -13.9556   4.48e+05  -3.12e-05      1.000   -8.77e+05    8.77e+05\n",
      "element_389                    10.7618   2.07e+04      0.001      1.000   -4.06e+04    4.06e+04\n",
      "element_390                    11.4667   2.07e+04      0.001      1.000   -4.06e+04    4.06e+04\n",
      "element_391                    12.6049   2.07e+04      0.001      1.000   -4.06e+04    4.06e+04\n",
      "element_392                   -13.7919   2.13e+05  -6.47e-05      1.000   -4.18e+05    4.18e+05\n",
      "element_393                    13.1620   2.07e+04      0.001      0.999   -4.06e+04    4.06e+04\n",
      "element_394                    12.5711   2.07e+04      0.001      1.000   -4.06e+04    4.06e+04\n",
      "element_395                     8.2310   3.52e+04      0.000      1.000    -6.9e+04     6.9e+04\n",
      "element_396                     6.6693   3.52e+04      0.000      1.000    -6.9e+04     6.9e+04\n",
      "element_402                   -26.6613   1.93e+05     -0.000      1.000   -3.79e+05    3.79e+05\n",
      "element_403                   -26.7205   1.93e+05     -0.000      1.000   -3.79e+05    3.78e+05\n",
      "element_405                   -26.6478   1.56e+05     -0.000      1.000   -3.07e+05    3.07e+05\n",
      "element_406                    -1.9852      1.230     -1.614      0.107      -4.396       0.426\n",
      "element_408                   -25.9678   3.28e+05  -7.91e-05      1.000   -6.43e+05    6.43e+05\n",
      "element_409                   -26.5945   1.31e+05     -0.000      1.000   -2.57e+05    2.57e+05\n",
      "element_410                   -13.8430   1.79e+05  -7.75e-05      1.000    -3.5e+05     3.5e+05\n",
      "element_411                    11.9620   2.07e+04      0.001      1.000   -4.06e+04    4.06e+04\n",
      "element_412                   -13.8528   1.93e+05  -7.16e-05      1.000   -3.79e+05    3.79e+05\n",
      "element_413                   -13.8924    2.9e+05  -4.79e-05      1.000   -5.69e+05    5.69e+05\n",
      "element_415                    12.3471   2.07e+04      0.001      1.000   -4.06e+04    4.06e+04\n",
      "element_417                     7.2243   3.52e+04      0.000      1.000    -6.9e+04     6.9e+04\n",
      "element_419                     8.7373   3.52e+04      0.000      1.000    -6.9e+04     6.9e+04\n",
      "element_423                    -0.8110      0.921     -0.880      0.379      -2.617       0.995\n",
      "element_425                    -0.7712      0.921     -0.838      0.402      -2.576       1.033\n",
      "element_426                     0.0067      1.011      0.007      0.995      -1.975       1.988\n",
      "element_427                    -1.9803      1.231     -1.609      0.108      -4.392       0.432\n",
      "element_430                   -26.5286   1.26e+05     -0.000      1.000   -2.48e+05    2.48e+05\n",
      "element_431                   -26.7667   3.76e+05  -7.12e-05      1.000   -7.37e+05    7.37e+05\n",
      "element_432                    13.2319   2.07e+04      0.001      0.999   -4.06e+04    4.06e+04\n",
      "element_433                    11.5571   2.07e+04      0.001      1.000   -4.06e+04    4.06e+04\n",
      "element_435                   -13.7631   4.62e+05  -2.98e-05      1.000   -9.06e+05    9.06e+05\n",
      "element_437                     7.0696   3.52e+04      0.000      1.000    -6.9e+04     6.9e+04\n",
      "element_440                   -26.6921   2.16e+05     -0.000      1.000   -4.24e+05    4.24e+05\n",
      "element_441                   -26.6156   6.58e+05  -4.05e-05      1.000   -1.29e+06    1.29e+06\n",
      "element_447                   -13.6063   3.67e+05  -3.71e-05      1.000    -7.2e+05     7.2e+05\n",
      "element_450                    11.8643   2.07e+04      0.001      1.000   -4.06e+04    4.06e+04\n",
      "element_451                   -13.8614   1.72e+05  -8.06e-05      1.000   -3.37e+05    3.37e+05\n",
      "element_453                   -14.0504   6.54e+05  -2.15e-05      1.000   -1.28e+06    1.28e+06\n",
      "element_455                   -26.5353   1.59e+05     -0.000      1.000   -3.12e+05    3.12e+05\n",
      "element_456                    11.2364   2.07e+04      0.001      1.000   -4.06e+04    4.06e+04\n",
      "element_458                   -14.0658   2.15e+05  -6.55e-05      1.000   -4.21e+05    4.21e+05\n",
      "element_459                    10.9471   2.07e+04      0.001      1.000   -4.06e+04    4.06e+04\n",
      "element_460                   -26.5504   1.83e+05     -0.000      1.000   -3.59e+05    3.59e+05\n",
      "element_461                   -26.6905   1.93e+05     -0.000      1.000   -3.78e+05    3.78e+05\n",
      "element_462                    13.0572   2.07e+04      0.001      0.999   -4.06e+04    4.06e+04\n",
      "element_463                   -26.6284   1.65e+05     -0.000      1.000   -3.23e+05    3.23e+05\n",
      "element_464                    -1.5049      1.231     -1.222      0.222      -3.918       0.908\n",
      "element_465                    12.7637   2.07e+04      0.001      1.000   -4.06e+04    4.06e+04\n",
      "element_466                   -13.8860   2.63e+05  -5.28e-05      1.000   -5.16e+05    5.16e+05\n",
      "element_467                   -26.6341   2.44e+05     -0.000      1.000   -4.78e+05    4.78e+05\n",
      "element_471                   -13.9147    4.6e+05  -3.02e-05      1.000   -9.02e+05    9.02e+05\n",
      "element_472                   -20.0764   4.54e+05  -4.42e-05      1.000    -8.9e+05     8.9e+05\n",
      "element_473                   -26.2518   3.56e+05  -7.37e-05      1.000   -6.98e+05    6.98e+05\n",
      "element_475                   -13.8548   1.57e+05   -8.8e-05      1.000   -3.09e+05    3.09e+05\n",
      "element_476                   -13.6667   3.72e+05  -3.67e-05      1.000    -7.3e+05     7.3e+05\n",
      "element_478                    13.0154   2.07e+04      0.001      0.999   -4.06e+04    4.06e+04\n",
      "element_479                   -26.6111   2.05e+05     -0.000      1.000   -4.01e+05    4.01e+05\n",
      "element_480                     7.0919   3.52e+04      0.000      1.000    -6.9e+04     6.9e+04\n",
      "element_481                   -14.1084   6.54e+05  -2.16e-05      1.000   -1.28e+06    1.28e+06\n",
      "element_482                    -0.5529      1.009     -0.548      0.584      -2.530       1.424\n",
      "element_483                    -1.5173      1.232     -1.232      0.218      -3.931       0.897\n",
      "element_484                    -0.7572      0.920     -0.823      0.411      -2.561       1.047\n",
      "element_486                   -13.8146   2.82e+05   -4.9e-05      1.000   -5.53e+05    5.53e+05\n",
      "element_487                   -26.3525   2.02e+05     -0.000      1.000   -3.95e+05    3.95e+05\n",
      "element_488                   -19.0757   6.45e+05  -2.96e-05      1.000   -1.26e+06    1.26e+06\n",
      "element_489                    12.1956   2.07e+04      0.001      1.000   -4.06e+04    4.06e+04\n",
      "element_492                    13.2268   2.07e+04      0.001      0.999   -4.06e+04    4.06e+04\n",
      "element_493                     6.9752   3.52e+04      0.000      1.000    -6.9e+04     6.9e+04\n",
      "element_494                   -13.9054    1.6e+05   -8.7e-05      1.000   -3.13e+05    3.13e+05\n",
      "element_503                   -26.5572   1.53e+05     -0.000      1.000   -2.99e+05    2.99e+05\n",
      "element_504                    12.2215   2.07e+04      0.001      1.000   -4.06e+04    4.06e+04\n",
      "element_505                     6.4074   3.52e+04      0.000      1.000    -6.9e+04     6.9e+04\n",
      "element_506                    -0.6248      1.236     -0.506      0.613      -3.047       1.797\n",
      "element_507                   -13.6834   3.74e+05  -3.66e-05      1.000   -7.32e+05    7.32e+05\n",
      "element_508                    11.5703   2.07e+04      0.001      1.000   -4.06e+04    4.06e+04\n",
      "element_510                   -26.4343   2.15e+05     -0.000      1.000   -4.22e+05    4.22e+05\n",
      "element_511                   -26.5683   2.86e+05  -9.28e-05      1.000   -5.61e+05    5.61e+05\n",
      "element_512                   -13.7677   3.73e+05  -3.69e-05      1.000    -7.3e+05     7.3e+05\n",
      "element_513                   -19.7464   3.67e+05  -5.39e-05      1.000   -7.18e+05    7.18e+05\n",
      "element_514                   -13.8906   4.59e+05  -3.03e-05      1.000   -8.99e+05    8.99e+05\n",
      "element_515                   -26.8377   4.65e+05  -5.77e-05      1.000   -9.11e+05    9.11e+05\n",
      "element_516                   -26.6402   1.78e+05     -0.000      1.000   -3.49e+05    3.49e+05\n",
      "element_517                    13.0625   2.07e+04      0.001      0.999   -4.06e+04    4.06e+04\n",
      "element_518                   -13.2322   4.62e+05  -2.86e-05      1.000   -9.06e+05    9.06e+05\n",
      "element_519                    12.5340   2.07e+04      0.001      1.000   -4.06e+04    4.06e+04\n",
      "element_522                     1.5659      1.273      1.230      0.219      -0.929       4.061\n",
      "element_524                   -19.8223    3.7e+05  -5.35e-05      1.000   -7.26e+05    7.26e+05\n",
      "element_526                    -1.8596      1.230     -1.512      0.131      -4.270       0.551\n",
      "element_527                   -13.7770   1.47e+05  -9.37e-05      1.000   -2.88e+05    2.88e+05\n",
      "element_531                   -13.6800    2.8e+05  -4.89e-05      1.000   -5.48e+05    5.48e+05\n",
      "element_534                    12.4621   2.07e+04      0.001      1.000   -4.06e+04    4.06e+04\n",
      "element_535                   -14.1182    4.5e+05  -3.14e-05      1.000   -8.81e+05    8.81e+05\n",
      "element_539                   -14.2002   6.54e+05  -2.17e-05      1.000   -1.28e+06    1.28e+06\n",
      "element_549                    -0.6947      1.234     -0.563      0.573      -3.113       1.723\n",
      "element_556                   -26.3986   2.88e+05  -9.15e-05      1.000   -5.65e+05    5.65e+05\n",
      "element_565                   -26.2045   6.58e+05  -3.98e-05      1.000   -1.29e+06    1.29e+06\n",
      "element_570                   -14.3549   6.54e+05  -2.19e-05      1.000   -1.28e+06    1.28e+06\n",
      "element_571                   -13.5285    4.6e+05  -2.94e-05      1.000   -9.02e+05    9.02e+05\n",
      "element_575                   -14.1182    4.5e+05  -3.14e-05      1.000   -8.81e+05    8.81e+05\n",
      "element_579                     7.9366   3.52e+04      0.000      1.000    -6.9e+04     6.9e+04\n",
      "element_591                   -13.3897   6.54e+05  -2.05e-05      1.000   -1.28e+06    1.28e+06\n",
      "opposition_team_was_home_2     -0.4034      0.679     -0.594      0.553      -1.735       0.928\n",
      "opposition_team_was_home_3      0.0165      0.662      0.025      0.980      -1.281       1.314\n",
      "opposition_team_was_home_4     -0.8791      0.665     -1.322      0.186      -2.183       0.424\n",
      "opposition_team_was_home_5     -0.7129      0.657     -1.085      0.278      -2.001       0.575\n",
      "opposition_team_was_home_6      0.4327      0.809      0.535      0.593      -1.152       2.017\n",
      "opposition_team_was_home_7     -0.4836      0.717     -0.674      0.500      -1.889       0.922\n",
      "opposition_team_was_home_8     -0.7347      0.694     -1.058      0.290      -2.095       0.626\n",
      "opposition_team_was_home_9     -0.6705      0.655     -1.024      0.306      -1.954       0.613\n",
      "opposition_team_was_home_10    -0.4641      0.671     -0.692      0.489      -1.779       0.851\n",
      "opposition_team_was_home_11    -0.3691      0.692     -0.533      0.594      -1.725       0.987\n",
      "opposition_team_was_home_12    -0.5261      0.811     -0.649      0.517      -2.116       1.063\n",
      "opposition_team_was_home_13    -0.7470      0.751     -0.995      0.320      -2.218       0.724\n",
      "opposition_team_was_home_14    -0.7102      0.728     -0.975      0.329      -2.137       0.717\n",
      "opposition_team_was_home_15    -0.8613      0.699     -1.232      0.218      -2.232       0.509\n",
      "opposition_team_was_home_16    -0.8332      0.657     -1.268      0.205      -2.121       0.455\n",
      "opposition_team_was_home_17    -0.3331      0.751     -0.443      0.658      -1.806       1.140\n",
      "opposition_team_was_home_18    -0.9077      0.691     -1.314      0.189      -2.262       0.446\n",
      "opposition_team_was_home_19    -0.5530      0.690     -0.802      0.423      -1.905       0.799\n",
      "opposition_team_was_home_20    -1.7914      0.732     -2.446      0.014      -3.227      -0.356\n",
      "===============================================================================================\n"
     ]
    }
   ],
   "source": [
    "print(sphm_results.summary())"
   ]
  },
  {
   "cell_type": "markdown",
   "metadata": {
    "hidden": true
   },
   "source": [
    "### Model fit"
   ]
  },
  {
   "cell_type": "code",
   "execution_count": 73,
   "metadata": {
    "ExecuteTime": {
     "end_time": "2019-03-02T14:39:48.521752Z",
     "start_time": "2019-03-02T14:39:48.517194Z"
    },
    "hidden": true
   },
   "outputs": [
    {
     "data": {
      "text/plain": [
       "3022.465689149022"
      ]
     },
     "execution_count": 73,
     "metadata": {},
     "output_type": "execute_result"
    }
   ],
   "source": [
    "sphm_results.aic"
   ]
  },
  {
   "cell_type": "code",
   "execution_count": 74,
   "metadata": {
    "ExecuteTime": {
     "end_time": "2019-03-02T14:39:48.572841Z",
     "start_time": "2019-03-02T14:39:48.523808Z"
    },
    "hidden": true
   },
   "outputs": [
    {
     "data": {
      "text/plain": [
       "-28032.398731066154"
      ]
     },
     "execution_count": 74,
     "metadata": {},
     "output_type": "execute_result"
    }
   ],
   "source": [
    "sphm_results.bic"
   ]
  },
  {
   "cell_type": "code",
   "execution_count": 75,
   "metadata": {
    "ExecuteTime": {
     "end_time": "2019-03-02T14:39:48.598745Z",
     "start_time": "2019-03-02T14:39:48.574874Z"
    },
    "hidden": true
   },
   "outputs": [
    {
     "data": {
      "text/plain": [
       "(False, 1.0)"
      ]
     },
     "execution_count": 75,
     "metadata": {},
     "output_type": "execute_result"
    }
   ],
   "source": [
    "sphm_pearson_results = goodness_fit.pearson_chi_squared_test(sphm_results)\n",
    "sphm_pearson_results"
   ]
  },
  {
   "cell_type": "code",
   "execution_count": 76,
   "metadata": {
    "ExecuteTime": {
     "end_time": "2019-03-02T14:39:48.628799Z",
     "start_time": "2019-03-02T14:39:48.600647Z"
    },
    "hidden": true
   },
   "outputs": [
    {
     "data": {
      "text/plain": [
       "count    3949.000000\n",
       "mean       -0.138309\n",
       "std         0.559324\n",
       "min        -1.424218\n",
       "25%        -0.453218\n",
       "50%        -0.189237\n",
       "75%        -0.000001\n",
       "max         2.434043\n",
       "dtype: float64"
      ]
     },
     "execution_count": 76,
     "metadata": {},
     "output_type": "execute_result"
    }
   ],
   "source": [
    "sphm_results.resid_deviance.describe()"
   ]
  },
  {
   "cell_type": "code",
   "execution_count": 77,
   "metadata": {
    "ExecuteTime": {
     "end_time": "2019-03-02T14:39:49.007791Z",
     "start_time": "2019-03-02T14:39:48.630978Z"
    },
    "hidden": true
   },
   "outputs": [
    {
     "data": {
      "image/png": "[encoded data removed]",
      "text/plain": [
       "<Figure size 432x288 with 1 Axes>"
      ]
     },
     "metadata": {
      "needs_background": "light"
     },
     "output_type": "display_data"
    }
   ],
   "source": [
    "plt.figure()\n",
    "plt.hist(sphm_results.resid_deviance)\n",
    "plt.show()"
   ]
  },
  {
   "cell_type": "markdown",
   "metadata": {
    "heading_collapsed": true
   },
   "source": [
    "## Simple Gaussian model"
   ]
  },
  {
   "cell_type": "markdown",
   "metadata": {
    "heading_collapsed": true,
    "hidden": true
   },
   "source": [
    "### Preparing data"
   ]
  },
  {
   "cell_type": "code",
   "execution_count": 78,
   "metadata": {
    "ExecuteTime": {
     "end_time": "2019-03-02T14:39:49.017560Z",
     "start_time": "2019-03-02T14:39:49.011088Z"
    },
    "hidden": true
   },
   "outputs": [],
   "source": [
    "sgm_df = element_gameweek_df.copy()"
   ]
  },
  {
   "cell_type": "code",
   "execution_count": 79,
   "metadata": {
    "ExecuteTime": {
     "end_time": "2019-03-02T14:39:49.057737Z",
     "start_time": "2019-03-02T14:39:49.020234Z"
    },
    "hidden": true
   },
   "outputs": [],
   "source": [
    "sgm_redundant_columns = [\n",
    "    'row_id', 'assists', 'attempted_passes', 'big_chances_created',\n",
    "    'big_chances_missed', 'bonus', 'bps', 'clean_sheets',\n",
    "    'clearances_blocks_interceptions', 'completed_passes', 'creativity',\n",
    "    'dribbles', 'ea_index', 'element', 'errors_leading_to_goal',\n",
    "    'errors_leading_to_goal_attempt', 'fixture', 'fouls', 'goals_conceded',\n",
    "    'ict_index', 'id', 'influence', 'key_passes', 'kickoff_time',\n",
    "    'kickoff_time_formatted', 'loaned_in', 'loaned_out', 'minutes', 'offside',\n",
    "    'open_play_crosses', 'opponent_team', 'own_goals', 'penalties_conceded',\n",
    "    'penalties_missed', 'penalties_saved', 'recoveries', 'red_cards', 'round',\n",
    "    'saves', 'selected', 'tackled', 'tackles', 'target_missed', 'team_a_score',\n",
    "    'team_h_score', 'threat', 'total_points', 'transfers_balance',\n",
    "    'transfers_in', 'transfers_out', 'value', 'winning_goals',\n",
    "    'yellow_cards', 'event', 'team_a', 'team_a_difficulty', 'team_h',\n",
    "    'team_h_difficulty', 'element_type', 'team', 'web_name', 'safe_web_name',\n",
    "    'own_team', 'opposition_team'\n",
    "]"
   ]
  },
  {
   "cell_type": "code",
   "execution_count": 80,
   "metadata": {
    "ExecuteTime": {
     "end_time": "2019-03-02T14:39:49.082948Z",
     "start_time": "2019-03-02T14:39:49.062839Z"
    },
    "hidden": true
   },
   "outputs": [],
   "source": [
    "sgm_df = player.remove_redundant_columns(sgm_df, sgm_redundant_columns)"
   ]
  },
  {
   "cell_type": "code",
   "execution_count": 81,
   "metadata": {
    "ExecuteTime": {
     "end_time": "2019-03-02T14:39:49.113522Z",
     "start_time": "2019-03-02T14:39:49.091468Z"
    },
    "hidden": true
   },
   "outputs": [],
   "source": [
    "sgm_response_df, sgm_explanatory_df = player.get_response_explanatory_dfs(sgm_df, 'goals_scored')"
   ]
  },
  {
   "cell_type": "markdown",
   "metadata": {
    "heading_collapsed": true,
    "hidden": true
   },
   "source": [
    "### Fitting model"
   ]
  },
  {
   "cell_type": "code",
   "execution_count": 82,
   "metadata": {
    "ExecuteTime": {
     "end_time": "2019-03-02T14:39:49.148253Z",
     "start_time": "2019-03-02T14:39:49.122539Z"
    },
    "hidden": true
   },
   "outputs": [],
   "source": [
    "sgm_results = sm.GLM(\n",
    "    sgm_response_df,\n",
    "    sgm_explanatory_df,\n",
    "    family=sm.families.Gaussian(),\n",
    "    missing='drop'\n",
    ").fit()"
   ]
  },
  {
   "cell_type": "code",
   "execution_count": 83,
   "metadata": {
    "ExecuteTime": {
     "end_time": "2019-03-02T14:39:49.174481Z",
     "start_time": "2019-03-02T14:39:49.151581Z"
    },
    "hidden": true
   },
   "outputs": [
    {
     "name": "stdout",
     "output_type": "stream",
     "text": [
      "                  Generalized Linear Model Regression Results                  \n",
      "===============================================================================\n",
      "Dep. Variable:           goals_scored   No. Observations:                  3952\n",
      "Model:                            GLM   Df Residuals:                      3950\n",
      "Model Family:                Gaussian   Df Model:                             1\n",
      "Link Function:               identity   Scale:              0.13573081294926206\n",
      "Method:                          IRLS   Log-Likelihood:                 -1660.4\n",
      "Date:                Sat, 02 Mar 2019   Deviance:                        536.14\n",
      "Time:                        14:39:49   Pearson chi2:                      536.\n",
      "No. Iterations:                     2                                          \n",
      "==============================================================================\n",
      "                 coef    std err          z      P>|z|      [0.025      0.975]\n",
      "------------------------------------------------------------------------------\n",
      "const          0.1103      0.008     13.342      0.000       0.094       0.127\n",
      "was_home       0.0244      0.012      2.081      0.037       0.001       0.047\n",
      "==============================================================================\n"
     ]
    }
   ],
   "source": [
    "print(sgm_results.summary())"
   ]
  },
  {
   "cell_type": "markdown",
   "metadata": {
    "heading_collapsed": true,
    "hidden": true
   },
   "source": [
    "### Model fit"
   ]
  },
  {
   "cell_type": "code",
   "execution_count": 84,
   "metadata": {
    "ExecuteTime": {
     "end_time": "2019-03-02T14:39:49.192350Z",
     "start_time": "2019-03-02T14:39:49.179194Z"
    },
    "hidden": true
   },
   "outputs": [
    {
     "data": {
      "text/plain": [
       "3324.8228955001177"
      ]
     },
     "execution_count": 84,
     "metadata": {},
     "output_type": "execute_result"
    }
   ],
   "source": [
    "sgm_results.aic"
   ]
  },
  {
   "cell_type": "code",
   "execution_count": 85,
   "metadata": {
    "ExecuteTime": {
     "end_time": "2019-03-02T14:39:49.216570Z",
     "start_time": "2019-03-02T14:39:49.196310Z"
    },
    "hidden": true
   },
   "outputs": [
    {
     "data": {
      "text/plain": [
       "-32177.67267137806"
      ]
     },
     "execution_count": 85,
     "metadata": {},
     "output_type": "execute_result"
    }
   ],
   "source": [
    "sgm_results.bic"
   ]
  },
  {
   "cell_type": "code",
   "execution_count": 86,
   "metadata": {
    "ExecuteTime": {
     "end_time": "2019-03-02T14:39:49.243529Z",
     "start_time": "2019-03-02T14:39:49.219624Z"
    },
    "hidden": true
   },
   "outputs": [
    {
     "data": {
      "text/plain": [
       "(False, 1.0)"
      ]
     },
     "execution_count": 86,
     "metadata": {},
     "output_type": "execute_result"
    }
   ],
   "source": [
    "sgm_pearson_results = goodness_fit.pearson_chi_squared_test(sgm_results)\n",
    "sgm_pearson_results"
   ]
  },
  {
   "cell_type": "code",
   "execution_count": 87,
   "metadata": {
    "ExecuteTime": {
     "end_time": "2019-03-02T14:39:49.285117Z",
     "start_time": "2019-03-02T14:39:49.270248Z"
    },
    "hidden": true
   },
   "outputs": [
    {
     "data": {
      "text/plain": [
       "count    3.952000e+03\n",
       "mean     1.078759e-16\n",
       "std      3.683700e-01\n",
       "min     -1.347229e-01\n",
       "25%     -1.347229e-01\n",
       "50%     -1.103275e-01\n",
       "75%     -1.103275e-01\n",
       "max      2.889673e+00\n",
       "dtype: float64"
      ]
     },
     "execution_count": 87,
     "metadata": {},
     "output_type": "execute_result"
    }
   ],
   "source": [
    "sgm_results.resid_deviance.describe()"
   ]
  },
  {
   "cell_type": "code",
   "execution_count": 88,
   "metadata": {
    "ExecuteTime": {
     "end_time": "2019-03-02T14:39:49.724684Z",
     "start_time": "2019-03-02T14:39:49.288447Z"
    },
    "hidden": true
   },
   "outputs": [
    {
     "data": {
      "image/png": "[encoded data removed]",
      "text/plain": [
       "<Figure size 432x288 with 1 Axes>"
      ]
     },
     "metadata": {
      "needs_background": "light"
     },
     "output_type": "display_data"
    }
   ],
   "source": [
    "plt.figure()\n",
    "plt.hist(sgm_results.resid_deviance)\n",
    "plt.show()"
   ]
  },
  {
   "cell_type": "markdown",
   "metadata": {
    "heading_collapsed": true
   },
   "source": [
    "## Simple Gaussian teams model"
   ]
  },
  {
   "cell_type": "markdown",
   "metadata": {
    "heading_collapsed": true,
    "hidden": true
   },
   "source": [
    "### Preparing data"
   ]
  },
  {
   "cell_type": "code",
   "execution_count": 92,
   "metadata": {
    "ExecuteTime": {
     "end_time": "2019-03-02T14:55:41.236961Z",
     "start_time": "2019-03-02T14:55:41.229930Z"
    },
    "hidden": true
   },
   "outputs": [],
   "source": [
    "sgtm_df = element_gameweek_df.copy()"
   ]
  },
  {
   "cell_type": "code",
   "execution_count": 93,
   "metadata": {
    "ExecuteTime": {
     "end_time": "2019-03-02T14:55:41.294285Z",
     "start_time": "2019-03-02T14:55:41.246848Z"
    },
    "hidden": true
   },
   "outputs": [],
   "source": [
    "sgtm_df = player.add_categorical_variables(sgtm_df, 'element_type')\n",
    "sgtm_df = player.add_categorical_variables(sgtm_df, 'opposition_team')\n",
    "sgtm_df = player.add_categorical_variables(sgtm_df, 'own_team')"
   ]
  },
  {
   "cell_type": "code",
   "execution_count": 94,
   "metadata": {
    "ExecuteTime": {
     "end_time": "2019-03-02T14:55:41.311711Z",
     "start_time": "2019-03-02T14:55:41.298903Z"
    },
    "hidden": true
   },
   "outputs": [],
   "source": [
    "sgtm_redundant_columns = [\n",
    "    'row_id', 'assists', 'attempted_passes', 'big_chances_created',\n",
    "    'big_chances_missed', 'bonus', 'bps', 'clean_sheets',\n",
    "    'clearances_blocks_interceptions', 'completed_passes', 'creativity',\n",
    "    'dribbles', 'ea_index', 'element', 'errors_leading_to_goal',\n",
    "    'errors_leading_to_goal_attempt', 'fixture', 'fouls', 'goals_conceded',\n",
    "    'ict_index', 'id', 'influence', 'key_passes', 'kickoff_time',\n",
    "    'kickoff_time_formatted', 'loaned_in', 'loaned_out', 'minutes', 'offside',\n",
    "    'open_play_crosses', 'opponent_team', 'own_goals', 'penalties_conceded',\n",
    "    'penalties_missed', 'penalties_saved', 'recoveries', 'red_cards', 'round',\n",
    "    'saves', 'selected', 'tackled', 'tackles', 'target_missed', 'team_a_score',\n",
    "    'team_h_score', 'threat', 'total_points', 'transfers_balance',\n",
    "    'transfers_in', 'transfers_out', 'value', 'winning_goals',\n",
    "    'yellow_cards', 'event', 'team_a', 'team_a_difficulty', 'team_h',\n",
    "    'team_h_difficulty', 'element_type', 'team', 'web_name', 'safe_web_name',\n",
    "    'own_team', 'opposition_team'\n",
    "]"
   ]
  },
  {
   "cell_type": "code",
   "execution_count": 95,
   "metadata": {
    "ExecuteTime": {
     "end_time": "2019-03-02T14:55:41.346222Z",
     "start_time": "2019-03-02T14:55:41.315199Z"
    },
    "hidden": true
   },
   "outputs": [],
   "source": [
    "sgtm_df = player.remove_redundant_columns(sgtm_df, sgtm_redundant_columns)"
   ]
  },
  {
   "cell_type": "code",
   "execution_count": 96,
   "metadata": {
    "ExecuteTime": {
     "end_time": "2019-03-02T14:55:41.385139Z",
     "start_time": "2019-03-02T14:55:41.350599Z"
    },
    "hidden": true
   },
   "outputs": [],
   "source": [
    "sgtm_response_df, sgtm_explanatory_df = player.get_response_explanatory_dfs(sgtm_df, 'goals_scored')"
   ]
  },
  {
   "cell_type": "code",
   "execution_count": 97,
   "metadata": {
    "ExecuteTime": {
     "end_time": "2019-03-02T14:55:41.401130Z",
     "start_time": "2019-03-02T14:55:41.391772Z"
    },
    "hidden": true
   },
   "outputs": [
    {
     "data": {
      "text/plain": [
       "Index(['const', 'was_home', 'element_type_3', 'element_type_4',\n",
       "       'opposition_team_2', 'opposition_team_3', 'opposition_team_4',\n",
       "       'opposition_team_5', 'opposition_team_6', 'opposition_team_7',\n",
       "       'opposition_team_8', 'opposition_team_9', 'opposition_team_10',\n",
       "       'opposition_team_11', 'opposition_team_12', 'opposition_team_13',\n",
       "       'opposition_team_14', 'opposition_team_15', 'opposition_team_16',\n",
       "       'opposition_team_17', 'opposition_team_18', 'opposition_team_19',\n",
       "       'opposition_team_20', 'own_team_2', 'own_team_3', 'own_team_4',\n",
       "       'own_team_5', 'own_team_6', 'own_team_7', 'own_team_8', 'own_team_9',\n",
       "       'own_team_10', 'own_team_11', 'own_team_12', 'own_team_13',\n",
       "       'own_team_14', 'own_team_15', 'own_team_16', 'own_team_17',\n",
       "       'own_team_18', 'own_team_19', 'own_team_20'],\n",
       "      dtype='object')"
      ]
     },
     "execution_count": 97,
     "metadata": {},
     "output_type": "execute_result"
    }
   ],
   "source": [
    "sgtm_explanatory_df.columns"
   ]
  },
  {
   "cell_type": "code",
   "execution_count": 98,
   "metadata": {
    "ExecuteTime": {
     "end_time": "2019-03-02T14:55:41.425480Z",
     "start_time": "2019-03-02T14:55:41.405174Z"
    },
    "hidden": true
   },
   "outputs": [
    {
     "data": {
      "text/plain": [
       "74    0\n",
       "78    0\n",
       "79    0\n",
       "80    1\n",
       "82    1\n",
       "Name: goals_scored, dtype: int64"
      ]
     },
     "execution_count": 98,
     "metadata": {},
     "output_type": "execute_result"
    }
   ],
   "source": [
    "sgtm_response_df.head()"
   ]
  },
  {
   "cell_type": "markdown",
   "metadata": {
    "heading_collapsed": true,
    "hidden": true
   },
   "source": [
    "### Fitting model"
   ]
  },
  {
   "cell_type": "code",
   "execution_count": 99,
   "metadata": {
    "ExecuteTime": {
     "end_time": "2019-03-02T14:55:41.520852Z",
     "start_time": "2019-03-02T14:55:41.428859Z"
    },
    "hidden": true
   },
   "outputs": [],
   "source": [
    "sgtm_results = sm.GLM(\n",
    "    sgtm_response_df,\n",
    "    sgtm_explanatory_df,\n",
    "    family=sm.families.Gaussian(),\n",
    "    missing='drop'\n",
    ").fit()"
   ]
  },
  {
   "cell_type": "code",
   "execution_count": 100,
   "metadata": {
    "ExecuteTime": {
     "end_time": "2019-03-02T14:55:41.557235Z",
     "start_time": "2019-03-02T14:55:41.524150Z"
    },
    "hidden": true
   },
   "outputs": [
    {
     "name": "stdout",
     "output_type": "stream",
     "text": [
      "                  Generalized Linear Model Regression Results                  \n",
      "===============================================================================\n",
      "Dep. Variable:           goals_scored   No. Observations:                  3952\n",
      "Model:                            GLM   Df Residuals:                      3910\n",
      "Model Family:                Gaussian   Df Model:                            41\n",
      "Link Function:               identity   Scale:              0.12439147317387568\n",
      "Method:                          IRLS   Log-Likelihood:                 -1467.9\n",
      "Date:                Sat, 02 Mar 2019   Deviance:                        486.37\n",
      "Time:                        14:55:41   Pearson chi2:                      486.\n",
      "No. Iterations:                     2                                          \n",
      "======================================================================================\n",
      "                         coef    std err          z      P>|z|      [0.025      0.975]\n",
      "--------------------------------------------------------------------------------------\n",
      "const                  0.0294      0.038      0.779      0.436      -0.045       0.103\n",
      "was_home               0.0191      0.011      1.694      0.090      -0.003       0.041\n",
      "element_type_3         0.1084      0.012      9.094      0.000       0.085       0.132\n",
      "element_type_4         0.3420      0.020     16.968      0.000       0.302       0.381\n",
      "opposition_team_2      0.0615      0.036      1.706      0.088      -0.009       0.132\n",
      "opposition_team_3      0.0686      0.036      1.918      0.055      -0.001       0.139\n",
      "opposition_team_4      0.0758      0.036      2.119      0.034       0.006       0.146\n",
      "opposition_team_5      0.0756      0.036      2.111      0.035       0.005       0.146\n",
      "opposition_team_6     -0.0017      0.036     -0.047      0.963      -0.072       0.069\n",
      "opposition_team_7      0.0106      0.036      0.295      0.768      -0.060       0.081\n",
      "opposition_team_8      0.0260      0.035      0.735      0.463      -0.043       0.095\n",
      "opposition_team_9      0.0792      0.036      2.221      0.026       0.009       0.149\n",
      "opposition_team_10     0.0571      0.036      1.591      0.112      -0.013       0.127\n",
      "opposition_team_11     0.0354      0.036      0.984      0.325      -0.035       0.106\n",
      "opposition_team_12    -0.0240      0.036     -0.663      0.507      -0.095       0.047\n",
      "opposition_team_13     0.0014      0.036      0.038      0.970      -0.069       0.071\n",
      "opposition_team_14     0.0090      0.036      0.253      0.800      -0.061       0.079\n",
      "opposition_team_15     0.0272      0.036      0.755      0.450      -0.043       0.098\n",
      "opposition_team_16     0.0769      0.036      2.146      0.032       0.007       0.147\n",
      "opposition_team_17     0.0039      0.036      0.109      0.913      -0.066       0.074\n",
      "opposition_team_18     0.0286      0.036      0.798      0.425      -0.042       0.099\n",
      "opposition_team_19     0.0217      0.036      0.610      0.542      -0.048       0.092\n",
      "opposition_team_20     0.0244      0.036      0.680      0.496      -0.046       0.095\n",
      "own_team_2            -0.0404      0.036     -1.122      0.262      -0.111       0.030\n",
      "own_team_3            -0.0282      0.036     -0.776      0.438      -0.099       0.043\n",
      "own_team_4            -0.0501      0.036     -1.396      0.163      -0.120       0.020\n",
      "own_team_5            -0.0455      0.036     -1.248      0.212      -0.117       0.026\n",
      "own_team_6             0.0019      0.037      0.051      0.959      -0.070       0.074\n",
      "own_team_7            -0.0536      0.035     -1.512      0.131      -0.123       0.016\n",
      "own_team_8             0.0026      0.036      0.072      0.943      -0.068       0.073\n",
      "own_team_9            -0.0644      0.037     -1.755      0.079      -0.136       0.008\n",
      "own_team_10           -0.0938      0.036     -2.589      0.010      -0.165      -0.023\n",
      "own_team_11           -0.0510      0.037     -1.392      0.164      -0.123       0.021\n",
      "own_team_12            0.0510      0.036      1.418      0.156      -0.019       0.122\n",
      "own_team_13            0.0555      0.036      1.545      0.122      -0.015       0.126\n",
      "own_team_14            0.0111      0.036      0.304      0.761      -0.060       0.083\n",
      "own_team_15           -0.0987      0.036     -2.746      0.006      -0.169      -0.028\n",
      "own_team_16           -0.0583      0.036     -1.602      0.109      -0.130       0.013\n",
      "own_team_17            0.0281      0.036      0.782      0.434      -0.042       0.098\n",
      "own_team_18           -0.0391      0.036     -1.087      0.277      -0.110       0.031\n",
      "own_team_19           -0.0232      0.037     -0.628      0.530      -0.095       0.049\n",
      "own_team_20           -0.0029      0.036     -0.079      0.937      -0.074       0.069\n",
      "======================================================================================\n"
     ]
    }
   ],
   "source": [
    "print(sgtm_results.summary())"
   ]
  },
  {
   "cell_type": "markdown",
   "metadata": {
    "heading_collapsed": true,
    "hidden": true
   },
   "source": [
    "### Model fit"
   ]
  },
  {
   "cell_type": "code",
   "execution_count": 101,
   "metadata": {
    "ExecuteTime": {
     "end_time": "2019-03-02T14:55:41.563901Z",
     "start_time": "2019-03-02T14:55:41.559474Z"
    },
    "hidden": true
   },
   "outputs": [
    {
     "data": {
      "text/plain": [
       "3019.8262547433624"
      ]
     },
     "execution_count": 101,
     "metadata": {},
     "output_type": "execute_result"
    }
   ],
   "source": [
    "sgtm_results.aic"
   ]
  },
  {
   "cell_type": "code",
   "execution_count": 102,
   "metadata": {
    "ExecuteTime": {
     "end_time": "2019-03-02T14:55:41.589385Z",
     "start_time": "2019-03-02T14:55:41.566187Z"
    },
    "hidden": true
   },
   "outputs": [
    {
     "data": {
      "text/plain": [
       "-31896.15964006308"
      ]
     },
     "execution_count": 102,
     "metadata": {},
     "output_type": "execute_result"
    }
   ],
   "source": [
    "sgtm_results.bic"
   ]
  },
  {
   "cell_type": "code",
   "execution_count": 103,
   "metadata": {
    "ExecuteTime": {
     "end_time": "2019-03-02T14:55:41.615229Z",
     "start_time": "2019-03-02T14:55:41.591758Z"
    },
    "hidden": true
   },
   "outputs": [
    {
     "data": {
      "text/plain": [
       "(False, 1.0)"
      ]
     },
     "execution_count": 103,
     "metadata": {},
     "output_type": "execute_result"
    }
   ],
   "source": [
    "sgtm_pearson_results = goodness_fit.pearson_chi_squared_test(sgtm_results)\n",
    "sgtm_pearson_results"
   ]
  },
  {
   "cell_type": "code",
   "execution_count": 104,
   "metadata": {
    "ExecuteTime": {
     "end_time": "2019-03-02T14:55:41.645057Z",
     "start_time": "2019-03-02T14:55:41.617549Z"
    },
    "hidden": true
   },
   "outputs": [
    {
     "data": {
      "text/plain": [
       "count    3.952000e+03\n",
       "mean     2.214828e-16\n",
       "std      3.508570e-01\n",
       "min     -5.206673e-01\n",
       "25%     -1.523490e-01\n",
       "50%     -8.233730e-02\n",
       "75%     -1.326362e-02\n",
       "max      2.810577e+00\n",
       "dtype: float64"
      ]
     },
     "execution_count": 104,
     "metadata": {},
     "output_type": "execute_result"
    }
   ],
   "source": [
    "sgtm_results.resid_deviance.describe()"
   ]
  },
  {
   "cell_type": "code",
   "execution_count": 105,
   "metadata": {
    "ExecuteTime": {
     "end_time": "2019-03-02T14:55:41.979235Z",
     "start_time": "2019-03-02T14:55:41.647375Z"
    },
    "hidden": true
   },
   "outputs": [
    {
     "data": {
      "image/png": "[encoded data removed]",
      "text/plain": [
       "<Figure size 432x288 with 1 Axes>"
      ]
     },
     "metadata": {
      "needs_background": "light"
     },
     "output_type": "display_data"
    }
   ],
   "source": [
    "plt.figure()\n",
    "plt.hist(sgtm_results.resid_deviance)\n",
    "plt.show()"
   ]
  },
  {
   "cell_type": "markdown",
   "metadata": {
    "heading_collapsed": true
   },
   "source": [
    "## Simple Gaussian player model"
   ]
  },
  {
   "cell_type": "markdown",
   "metadata": {
    "hidden": true
   },
   "source": [
    "### Preparing data"
   ]
  },
  {
   "cell_type": "code",
   "execution_count": 109,
   "metadata": {
    "ExecuteTime": {
     "end_time": "2019-03-02T15:43:58.183549Z",
     "start_time": "2019-03-02T15:43:58.176963Z"
    },
    "hidden": true
   },
   "outputs": [],
   "source": [
    "sgpm_df = element_gameweek_df.copy()"
   ]
  },
  {
   "cell_type": "code",
   "execution_count": 110,
   "metadata": {
    "ExecuteTime": {
     "end_time": "2019-03-02T15:43:58.281514Z",
     "start_time": "2019-03-02T15:43:58.188521Z"
    },
    "hidden": true
   },
   "outputs": [],
   "source": [
    "sgpm_df = player.add_categorical_variables(sgpm_df, 'element_type')\n",
    "sgpm_df = player.add_categorical_variables(sgpm_df, 'opposition_team')\n",
    "sgpm_df = player.add_categorical_variables(sgpm_df, 'element')"
   ]
  },
  {
   "cell_type": "code",
   "execution_count": 111,
   "metadata": {
    "ExecuteTime": {
     "end_time": "2019-03-02T15:43:58.295742Z",
     "start_time": "2019-03-02T15:43:58.285169Z"
    },
    "hidden": true
   },
   "outputs": [],
   "source": [
    "sgpm_redundant_columns = [\n",
    "    'row_id', 'assists', 'attempted_passes', 'big_chances_created',\n",
    "    'big_chances_missed', 'bonus', 'bps', 'clean_sheets',\n",
    "    'clearances_blocks_interceptions', 'completed_passes', 'creativity',\n",
    "    'dribbles', 'ea_index', 'element', 'errors_leading_to_goal',\n",
    "    'errors_leading_to_goal_attempt', 'fixture', 'fouls', 'goals_conceded',\n",
    "    'ict_index', 'id', 'influence', 'key_passes', 'kickoff_time',\n",
    "    'kickoff_time_formatted', 'loaned_in', 'loaned_out', 'minutes', 'offside',\n",
    "    'open_play_crosses', 'opponent_team', 'own_goals', 'penalties_conceded',\n",
    "    'penalties_missed', 'penalties_saved', 'recoveries', 'red_cards', 'round',\n",
    "    'saves', 'selected', 'tackled', 'tackles', 'target_missed', 'team_a_score',\n",
    "    'team_h_score', 'threat', 'total_points', 'transfers_balance',\n",
    "    'transfers_in', 'transfers_out', 'value', 'winning_goals',\n",
    "    'yellow_cards', 'event', 'team_a', 'team_a_difficulty', 'team_h',\n",
    "    'team_h_difficulty', 'element_type', 'team', 'web_name', 'safe_web_name',\n",
    "    'own_team', 'opposition_team', 'was_home'\n",
    "]"
   ]
  },
  {
   "cell_type": "code",
   "execution_count": 112,
   "metadata": {
    "ExecuteTime": {
     "end_time": "2019-03-02T15:43:58.334627Z",
     "start_time": "2019-03-02T15:43:58.301109Z"
    },
    "hidden": true
   },
   "outputs": [],
   "source": [
    "sgpm_df = player.remove_redundant_columns(sgpm_df, sgpm_redundant_columns)"
   ]
  },
  {
   "cell_type": "code",
   "execution_count": 113,
   "metadata": {
    "ExecuteTime": {
     "end_time": "2019-03-02T15:43:58.566068Z",
     "start_time": "2019-03-02T15:43:58.339112Z"
    },
    "hidden": true
   },
   "outputs": [],
   "source": [
    "sgpm_response_df, sgpm_explanatory_df = player.get_response_explanatory_dfs(sgpm_df, 'goals_scored')"
   ]
  },
  {
   "cell_type": "code",
   "execution_count": 114,
   "metadata": {
    "ExecuteTime": {
     "end_time": "2019-03-02T15:43:58.574284Z",
     "start_time": "2019-03-02T15:43:58.568414Z"
    },
    "hidden": true
   },
   "outputs": [
    {
     "data": {
      "text/plain": [
       "Index(['const', 'element_type_3', 'element_type_4', 'opposition_team_2',\n",
       "       'opposition_team_3', 'opposition_team_4', 'opposition_team_5',\n",
       "       'opposition_team_6', 'opposition_team_7', 'opposition_team_8',\n",
       "       ...\n",
       "       'element_535', 'element_539', 'element_549', 'element_556',\n",
       "       'element_565', 'element_570', 'element_571', 'element_575',\n",
       "       'element_579', 'element_591'],\n",
       "      dtype='object', length=391)"
      ]
     },
     "execution_count": 114,
     "metadata": {},
     "output_type": "execute_result"
    }
   ],
   "source": [
    "sgpm_explanatory_df.columns"
   ]
  },
  {
   "cell_type": "code",
   "execution_count": 115,
   "metadata": {
    "ExecuteTime": {
     "end_time": "2019-03-02T15:43:58.644670Z",
     "start_time": "2019-03-02T15:43:58.577289Z"
    },
    "hidden": true
   },
   "outputs": [
    {
     "data": {
      "text/plain": [
       "74    0\n",
       "78    0\n",
       "79    0\n",
       "80    1\n",
       "82    1\n",
       "Name: goals_scored, dtype: int64"
      ]
     },
     "execution_count": 115,
     "metadata": {},
     "output_type": "execute_result"
    }
   ],
   "source": [
    "sgpm_response_df.head()"
   ]
  },
  {
   "cell_type": "markdown",
   "metadata": {
    "hidden": true
   },
   "source": [
    "### Fitting model"
   ]
  },
  {
   "cell_type": "code",
   "execution_count": 116,
   "metadata": {
    "ExecuteTime": {
     "end_time": "2019-03-02T15:43:59.731348Z",
     "start_time": "2019-03-02T15:43:58.648509Z"
    },
    "hidden": true
   },
   "outputs": [],
   "source": [
    "sgpm_results = sm.GLM(\n",
    "    sgpm_response_df,\n",
    "    sgpm_explanatory_df,\n",
    "    family=sm.families.Gaussian(),\n",
    "    missing='drop'\n",
    ").fit()"
   ]
  },
  {
   "cell_type": "code",
   "execution_count": 117,
   "metadata": {
    "ExecuteTime": {
     "end_time": "2019-03-02T15:44:00.025291Z",
     "start_time": "2019-03-02T15:43:59.734421Z"
    },
    "hidden": true
   },
   "outputs": [
    {
     "name": "stdout",
     "output_type": "stream",
     "text": [
      "                  Generalized Linear Model Regression Results                  \n",
      "===============================================================================\n",
      "Dep. Variable:           goals_scored   No. Observations:                  3952\n",
      "Model:                            GLM   Df Residuals:                      3563\n",
      "Model Family:                Gaussian   Df Model:                           388\n",
      "Link Function:               identity   Scale:              0.11554544879584767\n",
      "Method:                          IRLS   Log-Likelihood:                 -1138.5\n",
      "Date:                Sat, 02 Mar 2019   Deviance:                        411.69\n",
      "Time:                        15:43:59   Pearson chi2:                      412.\n",
      "No. Iterations:                     2                                          \n",
      "======================================================================================\n",
      "                         coef    std err          z      P>|z|      [0.025      0.975]\n",
      "--------------------------------------------------------------------------------------\n",
      "const                  0.3075      0.141      2.175      0.030       0.030       0.585\n",
      "element_type_3        -0.1814      0.139     -1.307      0.191      -0.453       0.091\n",
      "element_type_4         0.0406      0.139      0.293      0.770      -0.231       0.312\n",
      "opposition_team_2      0.0472      0.036      1.323      0.186      -0.023       0.117\n",
      "opposition_team_3      0.0658      0.035      1.863      0.062      -0.003       0.135\n",
      "opposition_team_4      0.0710      0.036      1.997      0.046       0.001       0.141\n",
      "opposition_team_5      0.0594      0.036      1.672      0.094      -0.010       0.129\n",
      "opposition_team_6     -0.0077      0.035     -0.218      0.827      -0.077       0.062\n",
      "opposition_team_7     -0.0004      0.035     -0.012      0.991      -0.070       0.069\n",
      "opposition_team_8      0.0170      0.035      0.486      0.627      -0.052       0.085\n",
      "opposition_team_9      0.0532      0.035      1.508      0.131      -0.016       0.122\n",
      "opposition_team_10     0.0516      0.036      1.455      0.146      -0.018       0.121\n",
      "opposition_team_11     0.0285      0.036      0.796      0.426      -0.042       0.099\n",
      "opposition_team_12    -0.0320      0.036     -0.899      0.369      -0.102       0.038\n",
      "opposition_team_13    -0.0191      0.036     -0.536      0.592      -0.089       0.051\n",
      "opposition_team_14    -0.0049      0.035     -0.139      0.890      -0.074       0.064\n",
      "opposition_team_15     0.0056      0.036      0.158      0.874      -0.064       0.075\n",
      "opposition_team_16     0.0676      0.036      1.904      0.057      -0.002       0.137\n",
      "opposition_team_17    -0.0102      0.036     -0.286      0.775      -0.080       0.059\n",
      "opposition_team_18     0.0115      0.035      0.326      0.745      -0.058       0.081\n",
      "opposition_team_19     0.0093      0.035      0.263      0.793      -0.060       0.078\n",
      "opposition_team_20     0.0155      0.035      0.438      0.662      -0.054       0.085\n",
      "element_4             -0.3225      0.164     -1.961      0.050      -0.645      -0.000\n",
      "element_5             -0.2446      0.173     -1.416      0.157      -0.583       0.094\n",
      "element_6             -0.3217      0.184     -1.748      0.080      -0.682       0.039\n",
      "element_7             -0.2009      0.163     -1.233      0.218      -0.520       0.119\n",
      "element_8             -0.3426      0.173     -1.984      0.047      -0.681      -0.004\n",
      "element_9             -0.2613      0.163     -1.603      0.109      -0.581       0.058\n",
      "element_11            -0.3124      0.241     -1.297      0.195      -0.785       0.160\n",
      "element_12            -0.3269      0.164     -1.989      0.047      -0.649      -0.005\n",
      "element_13             0.1982      0.139      1.428      0.153      -0.074       0.470\n",
      "element_14            -0.1384      0.196     -0.706      0.480      -0.522       0.246\n",
      "element_15             0.0625      0.152      0.411      0.681      -0.235       0.360\n",
      "element_17             0.0068      0.079      0.086      0.931      -0.147       0.161\n",
      "element_18             0.3488      0.139      2.512      0.012       0.077       0.621\n",
      "element_20             0.0879      0.170      0.518      0.605      -0.245       0.421\n",
      "element_22             0.0514      0.100      0.515      0.607      -0.144       0.247\n",
      "element_23             0.1874      0.087      2.143      0.032       0.016       0.359\n",
      "element_26            -0.3235      0.170     -1.901      0.057      -0.657       0.010\n",
      "element_27            -0.2858      0.154     -1.853      0.064      -0.588       0.016\n",
      "element_28            -0.3283      0.170     -1.929      0.054      -0.662       0.005\n",
      "element_29            -0.2514      0.168     -1.496      0.135      -0.581       0.078\n",
      "element_30            -0.2884      0.368     -0.784      0.433      -1.009       0.433\n",
      "element_31            -0.2451      0.155     -1.584      0.113      -0.548       0.058\n",
      "element_33            -0.1532      0.091     -1.676      0.094      -0.332       0.026\n",
      "element_35            -0.1407      0.099     -1.427      0.154      -0.334       0.053\n",
      "element_36            -0.1229      0.152     -0.808      0.419      -0.421       0.175\n",
      "element_37            -0.1366      0.108     -1.265      0.206      -0.348       0.075\n",
      "element_38            -0.1212      0.339     -0.358      0.721      -0.786       0.543\n",
      "element_39            -0.1472      0.152     -0.969      0.333      -0.445       0.151\n",
      "element_40             0.0682      0.079      0.867      0.386      -0.086       0.222\n",
      "element_42             0.2722      0.129      2.117      0.034       0.020       0.524\n",
      "element_43             0.1264      0.093      1.361      0.173      -0.056       0.308\n",
      "element_45             0.0068      0.088      0.077      0.938      -0.165       0.178\n",
      "element_48            -0.2383      0.157     -1.520      0.128      -0.546       0.069\n",
      "element_49            -0.0974      0.157     -0.621      0.534      -0.405       0.210\n",
      "element_50            -0.3358      0.206     -1.628      0.104      -0.740       0.069\n",
      "element_51            -0.3238      0.163     -1.986      0.047      -0.643      -0.004\n",
      "element_54            -0.3232      0.206     -1.567      0.117      -0.728       0.081\n",
      "element_55             0.0184      0.139      0.133      0.895      -0.254       0.290\n",
      "element_56            -0.0786      0.086     -0.918      0.359      -0.246       0.089\n",
      "element_57             0.0240      0.139      0.173      0.863      -0.248       0.296\n",
      "element_58            -0.0773      0.091     -0.846      0.398      -0.256       0.102\n",
      "element_59             0.0264      0.139      0.190      0.849      -0.246       0.298\n",
      "element_60            -0.1426      0.077     -1.858      0.063      -0.293       0.008\n",
      "element_61            -0.1727      0.196     -0.881      0.378      -0.557       0.211\n",
      "element_62             0.3786      0.100      3.793      0.000       0.183       0.574\n",
      "element_65            -0.0149      0.139     -0.108      0.914      -0.287       0.257\n",
      "element_69            -0.3324      0.168     -1.979      0.048      -0.662      -0.003\n",
      "element_70            -0.3311      0.154     -2.148      0.032      -0.633      -0.029\n",
      "element_71            -0.3751      0.368     -1.020      0.308      -1.096       0.346\n",
      "element_72            -0.1947      0.157     -1.243      0.214      -0.502       0.112\n",
      "element_73            -0.3122      0.206     -1.513      0.130      -0.717       0.092\n",
      "element_74            -0.3284      0.156     -2.104      0.035      -0.634      -0.023\n",
      "element_75            -0.3290      0.173     -1.903      0.057      -0.668       0.010\n",
      "element_76             0.0074      0.095      0.078      0.938      -0.178       0.193\n",
      "element_77            -0.1269      0.240     -0.529      0.597      -0.597       0.343\n",
      "element_78            -0.0211      0.120     -0.175      0.861      -0.257       0.215\n",
      "element_79            -0.1421      0.196     -0.725      0.468      -0.526       0.242\n",
      "element_80            -0.1545      0.079     -1.962      0.050      -0.309      -0.000\n",
      "element_82            -0.1099      0.070     -1.565      0.118      -0.248       0.028\n",
      "element_83            -0.0648      0.103     -0.630      0.529      -0.266       0.137\n",
      "element_84             0.6130      0.194      3.153      0.002       0.232       0.994\n",
      "element_85             0.1180      0.121      0.977      0.329      -0.119       0.355\n",
      "element_87             0.1756      0.114      1.537      0.124      -0.048       0.400\n",
      "element_90            -0.3253      0.158     -2.064      0.039      -0.634      -0.016\n",
      "element_91            -0.2107      0.155     -1.361      0.174      -0.514       0.093\n",
      "element_92            -0.3291      0.154     -2.134      0.033      -0.631      -0.027\n",
      "element_94            -0.3301      0.162     -2.042      0.041      -0.647      -0.013\n",
      "element_95            -0.3354      0.197     -1.704      0.088      -0.721       0.050\n",
      "element_98            -0.1439      0.095     -1.517      0.129      -0.330       0.042\n",
      "element_99             0.0859      0.114      0.757      0.449      -0.137       0.308\n",
      "element_101            0.0807      0.083      0.972      0.331      -0.082       0.243\n",
      "element_102           -0.0644      0.103     -0.626      0.531      -0.266       0.137\n",
      "element_106            0.0969      0.170      0.571      0.568      -0.236       0.430\n",
      "element_107           -0.3538      0.335     -1.057      0.291      -1.010       0.302\n",
      "element_110            0.1305      0.139      0.940      0.347      -0.142       0.403\n",
      "element_113           -0.3302      0.154     -2.141      0.032      -0.632      -0.028\n",
      "element_115           -0.2861      0.156     -1.833      0.067      -0.592       0.020\n",
      "element_116           -0.2505      0.155     -1.618      0.106      -0.554       0.053\n",
      "element_118           -0.2879      0.155     -1.852      0.064      -0.593       0.017\n",
      "element_119           -0.3411      0.278     -1.226      0.220      -0.886       0.204\n",
      "element_121           -0.3547      0.368     -0.963      0.335      -1.076       0.367\n",
      "element_122            0.1744      0.079      2.216      0.027       0.020       0.329\n",
      "element_123           -0.1417      0.339     -0.418      0.676      -0.806       0.523\n",
      "element_124            0.1714      0.139      1.234      0.217      -0.101       0.443\n",
      "element_125            0.4614      0.152      3.036      0.002       0.164       0.759\n",
      "element_126           -0.0229      0.070     -0.326      0.744      -0.161       0.115\n",
      "element_127            0.1664      0.196      0.849      0.396      -0.218       0.550\n",
      "element_132            0.8583      0.339      2.532      0.011       0.194       1.523\n",
      "element_133           -0.4075      0.335     -1.217      0.224      -1.064       0.249\n",
      "element_134            0.1179      0.169      0.698      0.485      -0.213       0.449\n",
      "element_138           -0.2808      0.158     -1.782      0.075      -0.590       0.028\n",
      "element_140           -0.3367      0.220     -1.532      0.125      -0.767       0.094\n",
      "element_141            0.2698      0.206      1.309      0.191      -0.134       0.674\n",
      "element_142           -0.2890      0.155     -1.868      0.062      -0.592       0.014\n",
      "element_143           -0.3285      0.154     -2.131      0.033      -0.631      -0.026\n",
      "element_145           -0.3312      0.155     -2.132      0.033      -0.636      -0.027\n",
      "element_146           -0.1452      0.196     -0.741      0.459      -0.529       0.239\n",
      "element_147           -0.1506      0.088     -1.705      0.088      -0.324       0.022\n",
      "element_149            0.0192      0.070      0.274      0.784      -0.118       0.157\n",
      "element_150            0.1221      0.068      1.807      0.071      -0.010       0.254\n",
      "element_151           -0.1394      0.076     -1.839      0.066      -0.288       0.009\n",
      "element_152           -0.4158      0.335     -1.242      0.214      -1.072       0.240\n",
      "element_156           -0.3510      0.241     -1.457      0.145      -0.823       0.121\n",
      "element_157           -0.2838      0.161     -1.768      0.077      -0.598       0.031\n",
      "element_160           -0.3514      0.220     -1.600      0.110      -0.782       0.079\n",
      "element_161           -0.3235      0.189     -1.707      0.088      -0.695       0.048\n",
      "element_162           -0.2914      0.155     -1.875      0.061      -0.596       0.013\n",
      "element_164            0.0884      0.120      0.734      0.463      -0.147       0.324\n",
      "element_167           -0.1597      0.240     -0.666      0.505      -0.630       0.310\n",
      "element_168           -0.1532      0.079     -1.947      0.052      -0.307       0.001\n",
      "element_169           -0.1485      0.114     -1.307      0.191      -0.371       0.074\n",
      "element_170           -0.1836      0.240     -0.765      0.444      -0.654       0.287\n",
      "element_172            0.2857      0.081      3.537      0.000       0.127       0.444\n",
      "element_175           -0.0216      0.139     -0.156      0.876      -0.294       0.250\n",
      "element_177           -0.3744      0.194     -1.925      0.054      -0.755       0.007\n",
      "element_180           -0.3300      0.173     -1.908      0.056      -0.669       0.009\n",
      "element_181           -0.3313      0.156     -2.122      0.034      -0.637      -0.025\n",
      "element_182           -0.1518      0.129     -1.178      0.239      -0.404       0.101\n",
      "element_183           -0.1615      0.152     -1.063      0.288      -0.459       0.136\n",
      "element_184           -0.0702      0.091     -0.768      0.442      -0.249       0.109\n",
      "element_185           -0.1071      0.339     -0.316      0.752      -0.772       0.557\n",
      "element_189           -0.1168      0.169     -0.691      0.489      -0.448       0.214\n",
      "element_192           -0.2863      0.155     -1.842      0.065      -0.591       0.018\n",
      "element_193           -0.3187      0.168     -1.897      0.058      -0.648       0.011\n",
      "element_194           -0.3014      0.206     -1.462      0.144      -0.706       0.103\n",
      "element_195           -0.1924      0.158     -1.220      0.222      -0.501       0.117\n",
      "element_197           -0.3356      0.164     -2.041      0.041      -0.658      -0.013\n",
      "element_198           -0.3293      0.162     -2.038      0.042      -0.646      -0.013\n",
      "element_199           -0.0171      0.086     -0.199      0.842      -0.185       0.151\n",
      "element_200           -0.1611      0.196     -0.822      0.411      -0.545       0.223\n",
      "element_201           -0.1492      0.091     -1.633      0.103      -0.328       0.030\n",
      "element_202           -0.0447      0.081     -0.554      0.580      -0.203       0.114\n",
      "element_206           -0.1463      0.114     -1.289      0.198      -0.369       0.076\n",
      "element_208           -0.1299      0.170     -0.765      0.444      -0.463       0.203\n",
      "element_210           -0.3546      0.139     -2.556      0.011      -0.627      -0.083\n",
      "element_211           -0.2646      0.114     -2.315      0.021      -0.489      -0.041\n",
      "element_212           -0.3740      0.169     -2.214      0.027      -0.705      -0.043\n",
      "element_215           -0.2637      0.164     -1.604      0.109      -0.586       0.059\n",
      "element_216           -0.3071      0.368     -0.834      0.404      -1.029       0.414\n",
      "element_217           -0.3245      0.368     -0.882      0.378      -1.046       0.397\n",
      "element_219           -0.3280      0.155     -2.119      0.034      -0.631      -0.025\n",
      "element_220           -0.1626      0.159     -1.020      0.308      -0.475       0.150\n",
      "element_221           -0.2347      0.157     -1.496      0.135      -0.542       0.073\n",
      "element_222           -0.3239      0.176     -1.840      0.066      -0.669       0.021\n",
      "element_223            0.6138      0.170      3.614      0.000       0.281       0.947\n",
      "element_224           -0.0306      0.114     -0.269      0.788      -0.253       0.192\n",
      "element_225            0.3568      0.170      2.101      0.036       0.024       0.690\n",
      "element_226           -0.1513      0.139     -1.090      0.276      -0.423       0.121\n",
      "element_227           -0.0640      0.069     -0.930      0.352      -0.199       0.071\n",
      "element_228           -0.1354      0.339     -0.399      0.690      -0.800       0.529\n",
      "element_230           -0.1308      0.240     -0.545      0.586      -0.601       0.339\n",
      "element_233            0.2204      0.120      1.830      0.067      -0.016       0.456\n",
      "element_234           -0.2017      0.100     -2.021      0.043      -0.397      -0.006\n",
      "element_236           -0.3661      0.194     -1.883      0.060      -0.747       0.015\n",
      "element_239           -0.2076      0.179     -1.157      0.247      -0.559       0.144\n",
      "element_240           -0.3669      0.368     -0.997      0.319      -1.088       0.355\n",
      "element_241           -0.3221      0.206     -1.562      0.118      -0.726       0.082\n",
      "element_242           -0.3246      0.173     -1.879      0.060      -0.663       0.014\n",
      "element_243           -0.2033      0.190     -1.072      0.284      -0.575       0.168\n",
      "element_245           -0.2667      0.163     -1.636      0.102      -0.586       0.053\n",
      "element_246           -0.2885      0.155     -1.864      0.062      -0.592       0.015\n",
      "element_247           -0.3282      0.157     -2.094      0.036      -0.636      -0.021\n",
      "element_249           -0.1501      0.114     -1.321      0.186      -0.373       0.073\n",
      "element_251            0.2977      0.081      3.686      0.000       0.139       0.456\n",
      "element_252           -0.0806      0.086     -0.942      0.346      -0.248       0.087\n",
      "element_253            0.6246      0.073      8.525      0.000       0.481       0.768\n",
      "element_254            0.0176      0.099      0.178      0.859      -0.176       0.211\n",
      "element_255           -0.1519      0.099     -1.541      0.123      -0.345       0.041\n",
      "element_256           -0.1534      0.152     -1.009      0.313      -0.452       0.145\n",
      "element_257            0.1667      0.096      1.732      0.083      -0.022       0.355\n",
      "element_258           -0.1541      0.152     -1.017      0.309      -0.451       0.143\n",
      "element_262           -0.3145      0.163     -1.928      0.054      -0.634       0.005\n",
      "element_263           -0.3423      0.206     -1.660      0.097      -0.746       0.062\n",
      "element_264           -0.3431      0.179     -1.912      0.056      -0.695       0.009\n",
      "element_265           -0.2757      0.158     -1.749      0.080      -0.585       0.033\n",
      "element_266           -0.1706      0.197     -0.868      0.386      -0.556       0.215\n",
      "element_267           -0.3258      0.180     -1.815      0.070      -0.678       0.026\n",
      "element_268           -0.2519      0.154     -1.634      0.102      -0.554       0.050\n",
      "element_269           -0.3272      0.197     -1.664      0.096      -0.713       0.058\n",
      "element_270            0.3826      0.083      4.603      0.000       0.220       0.545\n",
      "element_271            0.1911      0.099      1.939      0.052      -0.002       0.384\n",
      "element_272           -0.0960      0.075     -1.281      0.200      -0.243       0.051\n",
      "element_273           -0.1520      0.240     -0.634      0.526      -0.622       0.318\n",
      "element_274            0.2362      0.121      1.960      0.050   -4.76e-05       0.472\n",
      "element_275            0.5423      0.108      5.032      0.000       0.331       0.754\n",
      "element_276            0.0049      0.077      0.064      0.949      -0.146       0.155\n",
      "element_279           -0.1681      0.196     -0.858      0.391      -0.552       0.216\n",
      "element_280            0.0601      0.129      0.466      0.641      -0.192       0.313\n",
      "element_281            0.3819      0.169      2.262      0.024       0.051       0.713\n",
      "element_284           -0.2454      0.168     -1.461      0.144      -0.575       0.084\n",
      "element_285           -0.3539      0.179     -1.972      0.049      -0.706      -0.002\n",
      "element_286           -0.2827      0.159     -1.773      0.076      -0.595       0.030\n",
      "element_288           -0.3262      0.206     -1.581      0.114      -0.731       0.078\n",
      "element_289           -0.3065      0.220     -1.393      0.164      -0.738       0.125\n",
      "element_291           -0.3257      0.207     -1.577      0.115      -0.730       0.079\n",
      "element_292           -0.2821      0.160     -1.768      0.077      -0.595       0.031\n",
      "element_293           -0.2786      0.161     -1.736      0.083      -0.593       0.036\n",
      "element_294           -0.3506      0.220     -1.594      0.111      -0.782       0.081\n",
      "element_295           -0.1546      0.339     -0.456      0.648      -0.819       0.510\n",
      "element_296           -0.1078      0.073     -1.471      0.141      -0.251       0.036\n",
      "element_297            0.0724      0.170      0.426      0.670      -0.261       0.406\n",
      "element_298           -0.1521      0.139     -1.096      0.273      -0.424       0.120\n",
      "element_299            0.0901      0.120      0.749      0.454      -0.146       0.326\n",
      "element_300            0.2385      0.152      1.570      0.116      -0.059       0.536\n",
      "element_301            0.6889      0.139      4.962      0.000       0.417       0.961\n",
      "element_302            0.2848      0.081      3.524      0.000       0.126       0.443\n",
      "element_303           -0.1646      0.240     -0.686      0.493      -0.635       0.306\n",
      "element_304           -0.1504      0.196     -0.767      0.443      -0.534       0.234\n",
      "element_305            0.0587      0.129      0.456      0.648      -0.194       0.311\n",
      "element_306            0.0902      0.096      0.937      0.349      -0.098       0.279\n",
      "element_310           -0.2709      0.159     -1.709      0.087      -0.582       0.040\n",
      "element_311           -0.0826      0.184     -0.449      0.653      -0.443       0.278\n",
      "element_312           -0.3243      0.159     -2.046      0.041      -0.635      -0.014\n",
      "element_313           -0.3248      0.166     -1.955      0.051      -0.650       0.001\n",
      "element_314           -0.3151      0.206     -1.528      0.126      -0.719       0.089\n",
      "element_315           -0.3258      0.220     -1.482      0.138      -0.756       0.105\n",
      "element_317           -0.0731      0.091     -0.800      0.424      -0.252       0.106\n",
      "element_318           -0.1556      0.129     -1.210      0.226      -0.408       0.096\n",
      "element_319           -0.1439      0.081     -1.783      0.075      -0.302       0.014\n",
      "element_320           -0.1430      0.114     -1.260      0.208      -0.366       0.079\n",
      "element_323           -0.0013      0.120     -0.011      0.992      -0.237       0.235\n",
      "element_324           -0.1494      0.120     -1.242      0.214      -0.385       0.086\n",
      "element_326           -0.2294      0.093     -2.467      0.014      -0.412      -0.047\n",
      "element_327           -0.3621      0.169     -2.143      0.032      -0.693      -0.031\n",
      "element_330           -0.2508      0.168     -1.492      0.136      -0.580       0.079\n",
      "element_331           -0.3182      0.184     -1.731      0.083      -0.679       0.042\n",
      "element_332           -0.2517      0.164     -1.530      0.126      -0.574       0.071\n",
      "element_333           -0.2508      0.168     -1.491      0.136      -0.580       0.079\n",
      "element_335           -0.3320      0.173     -1.921      0.055      -0.671       0.007\n",
      "element_336           -0.3272      0.168     -1.947      0.052      -0.657       0.002\n",
      "element_337           -0.1160      0.339     -0.342      0.732      -0.780       0.549\n",
      "element_338            0.2315      0.120      1.924      0.054      -0.004       0.467\n",
      "element_339           -0.1561      0.108     -1.448      0.148      -0.367       0.055\n",
      "element_340           -0.0203      0.086     -0.237      0.812      -0.188       0.147\n",
      "element_343           -0.0195      0.072     -0.273      0.785      -0.160       0.121\n",
      "element_344           -0.1443      0.088     -1.635      0.102      -0.317       0.029\n",
      "element_345            0.0626      0.152      0.412      0.680      -0.235       0.361\n",
      "element_346           -0.1402      0.240     -0.584      0.559      -0.610       0.330\n",
      "element_347           -0.3528      0.237     -1.486      0.137      -0.818       0.113\n",
      "element_349            0.1195      0.237      0.503      0.615      -0.346       0.585\n",
      "element_353           -0.3331      0.157     -2.124      0.034      -0.640      -0.026\n",
      "element_354           -0.3514      0.173     -2.033      0.042      -0.690      -0.013\n",
      "element_355           -0.2357      0.173     -1.363      0.173      -0.575       0.103\n",
      "element_356           -0.3225      0.168     -1.919      0.055      -0.652       0.007\n",
      "element_357           -0.2813      0.160     -1.753      0.080      -0.596       0.033\n",
      "element_358           -0.3547      0.368     -0.963      0.335      -1.076       0.367\n",
      "element_359           -0.2544      0.168     -1.513      0.130      -0.584       0.075\n",
      "element_360           -0.3068      0.241     -1.274      0.203      -0.779       0.165\n",
      "element_361            0.0463      0.108      0.430      0.667      -0.165       0.258\n",
      "element_362           -0.1503      0.196     -0.767      0.443      -0.534       0.234\n",
      "element_363            0.3756      0.240      1.566      0.117      -0.094       0.846\n",
      "element_364            0.0440      0.086      0.514      0.607      -0.124       0.212\n",
      "element_365            0.1480      0.108      1.371      0.170      -0.063       0.359\n",
      "element_366           -0.1257      0.339     -0.371      0.711      -0.790       0.539\n",
      "element_367            0.5960      0.120      4.952      0.000       0.360       0.832\n",
      "element_368           -0.0814      0.095     -0.859      0.391      -0.267       0.104\n",
      "element_369           -0.1446      0.091     -1.583      0.114      -0.324       0.034\n",
      "element_370            0.3494      0.120      2.903      0.004       0.114       0.585\n",
      "element_371            0.1195      0.237      0.503      0.615      -0.346       0.585\n",
      "element_372            0.2802      0.079      3.545      0.000       0.125       0.435\n",
      "element_376           -0.2030      0.155     -1.305      0.192      -0.508       0.102\n",
      "element_378           -0.1922      0.158     -1.219      0.223      -0.501       0.117\n",
      "element_380           -0.3335      0.170     -1.959      0.050      -0.667       0.000\n",
      "element_381           -0.3362      0.180     -1.871      0.061      -0.688       0.016\n",
      "element_382           -0.3331      0.168     -1.981      0.048      -0.663      -0.004\n",
      "element_383           -0.3282      0.166     -1.976      0.048      -0.654      -0.003\n",
      "element_386           -0.3192      0.241     -1.325      0.185      -0.791       0.153\n",
      "element_387           -0.1938      0.339     -0.572      0.568      -0.858       0.471\n",
      "element_388           -0.1946      0.240     -0.811      0.417      -0.665       0.276\n",
      "element_389           -0.1029      0.073     -1.404      0.160      -0.247       0.041\n",
      "element_390           -0.0516      0.075     -0.689      0.491      -0.198       0.095\n",
      "element_391            0.1411      0.075      1.884      0.060      -0.006       0.288\n",
      "element_392           -0.1400      0.114     -1.232      0.218      -0.363       0.083\n",
      "element_393            0.3238      0.079      4.116      0.000       0.170       0.478\n",
      "element_394            0.1225      0.129      0.952      0.341      -0.130       0.374\n",
      "element_395            0.6568      0.335      1.962      0.050       0.001       1.313\n",
      "element_396           -0.1049      0.081     -1.295      0.195      -0.264       0.054\n",
      "element_402           -0.3391      0.173     -1.961      0.050      -0.678      -0.000\n",
      "element_403           -0.3356      0.173     -1.940      0.052      -0.675       0.003\n",
      "element_405           -0.3302      0.162     -2.041      0.041      -0.647      -0.013\n",
      "element_406           -0.2873      0.157     -1.832      0.067      -0.595       0.020\n",
      "element_408           -0.2954      0.220     -1.341      0.180      -0.727       0.136\n",
      "element_409           -0.3313      0.155     -2.131      0.033      -0.636      -0.027\n",
      "element_410           -0.1456      0.095     -1.538      0.124      -0.331       0.040\n",
      "element_411            0.0035      0.129      0.027      0.978      -0.249       0.256\n",
      "element_412           -0.1455      0.103     -1.415      0.157      -0.347       0.056\n",
      "element_413           -0.1367      0.152     -0.900      0.368      -0.435       0.161\n",
      "element_415            0.0751      0.114      0.661      0.509      -0.148       0.298\n",
      "element_417            0.1159      0.121      0.958      0.338      -0.121       0.353\n",
      "element_419            1.6462      0.335      4.917      0.000       0.990       2.302\n",
      "element_423           -0.1956      0.156     -1.253      0.210      -0.502       0.110\n",
      "element_425           -0.1880      0.157     -1.199      0.231      -0.495       0.119\n",
      "element_426            0.0074      0.197      0.038      0.970      -0.378       0.393\n",
      "element_427           -0.2829      0.155     -1.828      0.068      -0.586       0.020\n",
      "element_430           -0.3246      0.154     -2.105      0.035      -0.627      -0.022\n",
      "element_431           -0.3240      0.241     -1.346      0.178      -0.796       0.148\n",
      "element_432            0.3628      0.108      3.366      0.001       0.152       0.574\n",
      "element_433           -0.0526      0.073     -0.718      0.473      -0.196       0.091\n",
      "element_435           -0.1648      0.240     -0.687      0.492      -0.635       0.305\n",
      "element_437            0.0231      0.083      0.279      0.780      -0.139       0.186\n",
      "element_440           -0.3318      0.180     -1.848      0.065      -0.684       0.020\n",
      "element_441           -0.3191      0.368     -0.867      0.386      -1.041       0.402\n",
      "element_447           -0.1312      0.196     -0.669      0.503      -0.515       0.253\n",
      "element_450           -0.0176      0.086     -0.206      0.837      -0.185       0.150\n",
      "element_451           -0.1526      0.091     -1.670      0.095      -0.332       0.026\n",
      "element_453           -0.1184      0.339     -0.349      0.727      -0.783       0.546\n",
      "element_455           -0.3317      0.163     -2.033      0.042      -0.651      -0.012\n",
      "element_456           -0.0792      0.091     -0.867      0.386      -0.258       0.100\n",
      "element_458           -0.1645      0.114     -1.449      0.147      -0.387       0.058\n",
      "element_459           -0.0965      0.077     -1.256      0.209      -0.247       0.054\n",
      "element_460           -0.3248      0.170     -1.908      0.056      -0.658       0.009\n",
      "element_461           -0.3352      0.173     -1.939      0.053      -0.674       0.004\n",
      "element_462            0.3418      0.170      2.013      0.044       0.009       0.675\n",
      "element_463           -0.3324      0.165     -2.020      0.043      -0.655      -0.010\n",
      "element_464           -0.2626      0.163     -1.611      0.107      -0.582       0.057\n",
      "element_465            0.1925      0.077      2.507      0.012       0.042       0.343\n",
      "element_466           -0.1531      0.139     -1.103      0.270      -0.425       0.119\n",
      "element_467           -0.3287      0.190     -1.734      0.083      -0.700       0.043\n",
      "element_471           -0.1346      0.240     -0.561      0.575      -0.605       0.335\n",
      "element_472           -0.4095      0.237     -1.724      0.085      -0.875       0.056\n",
      "element_473           -0.3128      0.241     -1.299      0.194      -0.785       0.159\n",
      "element_475           -0.1507      0.083     -1.815      0.070      -0.313       0.012\n",
      "element_476           -0.1389      0.196     -0.709      0.479      -0.523       0.245\n",
      "element_478            0.2845      0.114      2.506      0.012       0.062       0.507\n",
      "element_479           -0.3318      0.176     -1.888      0.059      -0.676       0.013\n",
      "element_480            0.0297      0.072      0.415      0.678      -0.111       0.170\n",
      "element_481           -0.1546      0.339     -0.456      0.648      -0.819       0.510\n",
      "element_482           -0.1370      0.176     -0.779      0.436      -0.482       0.207\n",
      "element_483           -0.2599      0.163     -1.594      0.111      -0.580       0.060\n",
      "element_484           -0.1852      0.158     -1.175      0.240      -0.494       0.124\n",
      "element_486           -0.1544      0.152     -1.016      0.310      -0.452       0.143\n",
      "element_487           -0.3204      0.176     -1.823      0.068      -0.665       0.024\n",
      "element_488           -0.3161      0.335     -0.944      0.345      -0.972       0.340\n",
      "element_489            0.0333      0.103      0.324      0.746      -0.168       0.235\n",
      "element_492            0.3543      0.240      1.477      0.140      -0.116       0.825\n",
      "element_493           -0.0299      0.100     -0.299      0.765      -0.226       0.166\n",
      "element_494           -0.1461      0.086     -1.708      0.088      -0.314       0.022\n",
      "element_503           -0.3230      0.160     -2.012      0.044      -0.638      -0.008\n",
      "element_504            0.0337      0.083      0.406      0.685      -0.129       0.196\n",
      "element_505           -0.1293      0.169     -0.765      0.444      -0.460       0.202\n",
      "element_506           -0.1773      0.189     -0.936      0.349      -0.549       0.194\n",
      "element_507           -0.1422      0.196     -0.725      0.468      -0.526       0.242\n",
      "element_508           -0.0528      0.103     -0.513      0.608      -0.254       0.149\n",
      "element_510           -0.3168      0.180     -1.765      0.078      -0.669       0.035\n",
      "element_511           -0.3446      0.206     -1.670      0.095      -0.749       0.060\n",
      "element_512           -0.1456      0.196     -0.743      0.457      -0.530       0.238\n",
      "element_513           -0.3740      0.194     -1.923      0.054      -0.755       0.007\n",
      "element_514           -0.1521      0.240     -0.634      0.526      -0.622       0.318\n",
      "element_515           -0.3638      0.278     -1.308      0.191      -0.909       0.181\n",
      "element_516           -0.3248      0.168     -1.933      0.053      -0.654       0.004\n",
      "element_517            0.3357      0.240      1.399      0.162      -0.134       0.806\n",
      "element_518           -0.1339      0.240     -0.558      0.577      -0.604       0.336\n",
      "element_519            0.1149      0.170      0.677      0.498      -0.218       0.448\n",
      "element_522            0.7116      0.368      1.934      0.053      -0.009       1.433\n",
      "element_524           -0.3820      0.194     -1.965      0.049      -0.763      -0.001\n",
      "element_526           -0.2835      0.158     -1.789      0.074      -0.594       0.027\n",
      "element_527           -0.1479      0.079     -1.880      0.060      -0.302       0.006\n",
      "element_531           -0.1337      0.152     -0.880      0.379      -0.432       0.164\n",
      "element_534            0.0889      0.170      0.523      0.601      -0.244       0.422\n",
      "element_535           -0.1589      0.240     -0.662      0.508      -0.629       0.311\n",
      "element_539           -0.1972      0.339     -0.582      0.561      -0.862       0.467\n",
      "element_549           -0.1612      0.197     -0.820      0.412      -0.547       0.224\n",
      "element_556           -0.3102      0.206     -1.505      0.132      -0.714       0.094\n",
      "element_565           -0.2884      0.368     -0.784      0.433      -1.009       0.433\n",
      "element_570           -0.1972      0.339     -0.582      0.561      -0.862       0.467\n",
      "element_571           -0.1186      0.240     -0.494      0.621      -0.589       0.352\n",
      "element_575           -0.1589      0.240     -0.662      0.508      -0.629       0.311\n",
      "element_579            0.6356      0.237      2.677      0.007       0.170       1.101\n",
      "element_591           -0.1160      0.339     -0.342      0.732      -0.780       0.549\n",
      "======================================================================================\n"
     ]
    }
   ],
   "source": [
    "print(sgpm_results.summary())"
   ]
  },
  {
   "cell_type": "markdown",
   "metadata": {
    "hidden": true
   },
   "source": [
    "### Model fit"
   ]
  },
  {
   "cell_type": "code",
   "execution_count": 118,
   "metadata": {
    "ExecuteTime": {
     "end_time": "2019-03-02T15:44:00.032297Z",
     "start_time": "2019-03-02T15:44:00.027439Z"
    },
    "hidden": true
   },
   "outputs": [
    {
     "data": {
      "text/plain": [
       "3055.011362729023"
      ]
     },
     "execution_count": 118,
     "metadata": {},
     "output_type": "execute_result"
    }
   ],
   "source": [
    "sgpm_results.aic"
   ]
  },
  {
   "cell_type": "code",
   "execution_count": 119,
   "metadata": {
    "ExecuteTime": {
     "end_time": "2019-03-02T15:44:00.064250Z",
     "start_time": "2019-03-02T15:44:00.034207Z"
    },
    "hidden": true
   },
   "outputs": [
    {
     "data": {
      "text/plain": [
       "-29096.99582668622"
      ]
     },
     "execution_count": 119,
     "metadata": {},
     "output_type": "execute_result"
    }
   ],
   "source": [
    "sgpm_results.bic"
   ]
  },
  {
   "cell_type": "code",
   "execution_count": 120,
   "metadata": {
    "ExecuteTime": {
     "end_time": "2019-03-02T15:44:00.094733Z",
     "start_time": "2019-03-02T15:44:00.068041Z"
    },
    "hidden": true
   },
   "outputs": [
    {
     "data": {
      "text/plain": [
       "(False, 1.0)"
      ]
     },
     "execution_count": 120,
     "metadata": {},
     "output_type": "execute_result"
    }
   ],
   "source": [
    "sgpm_pearson_results = goodness_fit.pearson_chi_squared_test(sgpm_results)\n",
    "sgpm_pearson_results"
   ]
  },
  {
   "cell_type": "code",
   "execution_count": 121,
   "metadata": {
    "ExecuteTime": {
     "end_time": "2019-03-02T15:44:00.139722Z",
     "start_time": "2019-03-02T15:44:00.098137Z"
    },
    "hidden": true
   },
   "outputs": [
    {
     "data": {
      "text/plain": [
       "count    3.952000e+03\n",
       "mean     3.584065e-16\n",
       "std      3.227980e-01\n",
       "min     -9.646384e-01\n",
       "25%     -1.137694e-01\n",
       "50%     -3.624533e-02\n",
       "75%      1.560146e-02\n",
       "max      2.485170e+00\n",
       "dtype: float64"
      ]
     },
     "execution_count": 121,
     "metadata": {},
     "output_type": "execute_result"
    }
   ],
   "source": [
    "sgpm_results.resid_deviance.describe()"
   ]
  },
  {
   "cell_type": "code",
   "execution_count": 122,
   "metadata": {
    "ExecuteTime": {
     "end_time": "2019-03-02T15:44:00.512467Z",
     "start_time": "2019-03-02T15:44:00.143450Z"
    },
    "hidden": true
   },
   "outputs": [
    {
     "data": {
      "image/png": "[encoded data removed]",
      "text/plain": [
       "<Figure size 432x288 with 1 Axes>"
      ]
     },
     "metadata": {
      "needs_background": "light"
     },
     "output_type": "display_data"
    }
   ],
   "source": [
    "plt.figure()\n",
    "plt.hist(sgpm_results.resid_deviance)\n",
    "plt.show()"
   ]
  },
  {
   "cell_type": "markdown",
   "metadata": {
    "heading_collapsed": true
   },
   "source": [
    "# Model comparison"
   ]
  },
  {
   "cell_type": "code",
   "execution_count": 123,
   "metadata": {
    "ExecuteTime": {
     "end_time": "2019-03-02T15:44:18.289240Z",
     "start_time": "2019-03-02T15:44:18.276035Z"
    },
    "hidden": true
   },
   "outputs": [
    {
     "data": {
      "text/plain": [
       "{'simple Poisson': 3078.601995070294,\n",
       " 'simple Poisson teams': 2794.445104832433,\n",
       " 'simple Poisson players': 3001.380666659371,\n",
       " 'identity Poisson players': 3001.380666659371,\n",
       " 'simple Poisson players home': 3022.465689149022,\n",
       " 'simple Gaussian': 3324.8228955001177,\n",
       " 'simple Gaussian teams': 3019.8262547433624,\n",
       " 'simple Gaussian players': 3055.011362729023}"
      ]
     },
     "execution_count": 123,
     "metadata": {},
     "output_type": "execute_result"
    }
   ],
   "source": [
    "{\n",
    "    'simple Poisson': spm_results.aic,\n",
    "    'simple Poisson teams': sptm_results.aic,\n",
    "    'simple Poisson players': sppm_results.aic,\n",
    "    'identity Poisson players': lppm_results.aic,\n",
    "    'simple Poisson players home': sphm_results.aic,\n",
    "    'simple Gaussian': sgm_results.aic,\n",
    "    'simple Gaussian teams': sgtm_results.aic,\n",
    "    'simple Gaussian players': sgpm_results.aic\n",
    "}"
   ]
  },
  {
   "cell_type": "markdown",
   "metadata": {
    "hidden": true
   },
   "source": [
    "AIC prefers simple Poisson teams model. Poisson player models have similar score, with more parsimonious model winning slightly."
   ]
  },
  {
   "cell_type": "code",
   "execution_count": 126,
   "metadata": {
    "ExecuteTime": {
     "end_time": "2019-03-02T15:56:55.933409Z",
     "start_time": "2019-03-02T15:56:55.921077Z"
    },
    "hidden": true
   },
   "outputs": [
    {
     "data": {
      "text/plain": [
       "{'simple Poisson': -30539.309065162925,\n",
       " 'simple Poisson teams': -30565.90489598721,\n",
       " 'simple Poisson players': -28179.12329473316,\n",
       " 'identity Poisson players': -28179.12329473316,\n",
       " 'simple Poisson players home': -28032.398731066154,\n",
       " 'simple Gaussian': -32177.67267137806,\n",
       " 'simple Gaussian teams': -31896.15964006308,\n",
       " 'simple Gaussian players': -29096.99582668622}"
      ]
     },
     "execution_count": 126,
     "metadata": {},
     "output_type": "execute_result"
    }
   ],
   "source": [
    "{\n",
    "    'simple Poisson': spm_results.bic,\n",
    "    'simple Poisson teams': sptm_results.bic,\n",
    "    'simple Poisson players': sppm_results.bic,\n",
    "    'identity Poisson players': lppm_results.bic,\n",
    "    'simple Poisson players home': sphm_results.bic,\n",
    "    'simple Gaussian': sgm_results.bic,\n",
    "    'simple Gaussian teams': sgtm_results.bic,\n",
    "    'simple Gaussian players': sgpm_results.bic\n",
    "}"
   ]
  },
  {
   "cell_type": "markdown",
   "metadata": {
    "hidden": true
   },
   "source": [
    "BIC prefers simple Gaussian model, followed by simple Gaussian teams. Poisson player models have similar score, with more parsimonious model winning slightly."
   ]
  },
  {
   "cell_type": "code",
   "execution_count": 127,
   "metadata": {
    "ExecuteTime": {
     "end_time": "2019-03-02T15:57:14.443772Z",
     "start_time": "2019-03-02T15:57:14.432162Z"
    },
    "hidden": true
   },
   "outputs": [
    {
     "data": {
      "text/plain": [
       "{'simple Poisson': (True, 1.3300336140220637e-06),\n",
       " 'simple Poisson teams': (True, 0.0007227257384386787),\n",
       " 'simple Poisson players': (False, 1.0),\n",
       " 'identity Poisson players': (False, 1.0),\n",
       " 'simple Poisson players home': (False, 1.0),\n",
       " 'simple Gaussian': (False, 1.0),\n",
       " 'simple Gaussian teams': (False, 1.0),\n",
       " 'simple Gaussian players': (False, 1.0)}"
      ]
     },
     "execution_count": 127,
     "metadata": {},
     "output_type": "execute_result"
    }
   ],
   "source": [
    "{\n",
    "    'simple Poisson': spm_pearson_results,\n",
    "    'simple Poisson teams': sptm_pearson_results,\n",
    "    'simple Poisson players': sppm_pearson_results,\n",
    "    'identity Poisson players': lppm_pearson_results,\n",
    "    'simple Poisson players home': sphm_pearson_results,\n",
    "    'simple Gaussian': sgm_pearson_results,\n",
    "    'simple Gaussian teams': sgtm_pearson_results,\n",
    "    'simple Gaussian players': sgpm_pearson_results\n",
    "}"
   ]
  },
  {
   "cell_type": "markdown",
   "metadata": {
    "hidden": true
   },
   "source": [
    "All but simple Poisson and simple Poisson teams model have good fit."
   ]
  }
 ],
 "metadata": {
  "kernelspec": {
   "display_name": "Python 3",
   "language": "python",
   "name": "python3"
  },
  "language_info": {
   "codemirror_mode": {
    "name": "ipython",
    "version": 3
   },
   "file_extension": ".py",
   "mimetype": "text/x-python",
   "name": "python",
   "nbconvert_exporter": "python",
   "pygments_lexer": "ipython3",
   "version": "3.6.7"
  },
  "toc": {
   "nav_menu": {},
   "number_sections": true,
   "sideBar": true,
   "skip_h1_title": false,
   "title_cell": "Table of Contents",
   "title_sidebar": "Contents",
   "toc_cell": false,
   "toc_position": {},
   "toc_section_display": true,
   "toc_window_display": false
  }
 },
 "nbformat": 4,
 "nbformat_minor": 2
}
