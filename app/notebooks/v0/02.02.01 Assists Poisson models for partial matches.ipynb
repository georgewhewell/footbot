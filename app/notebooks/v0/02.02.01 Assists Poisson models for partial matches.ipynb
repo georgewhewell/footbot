{
 "cells": [
  {
   "cell_type": "markdown",
   "metadata": {
    "heading_collapsed": true
   },
   "source": [
    "# Set up"
   ]
  },
  {
   "cell_type": "code",
   "execution_count": 1,
   "metadata": {
    "ExecuteTime": {
     "end_time": "2019-04-09T16:44:37.328202Z",
     "start_time": "2019-04-09T16:44:37.322882Z"
    },
    "hidden": true
   },
   "outputs": [],
   "source": [
    "# update path with data dir\n",
    "import sys\n",
    "sys.path.append('../data/')\n",
    "sys.path.append('../modelling/')"
   ]
  },
  {
   "cell_type": "code",
   "execution_count": 2,
   "metadata": {
    "ExecuteTime": {
     "end_time": "2019-04-09T16:44:38.577159Z",
     "start_time": "2019-04-09T16:44:37.331513Z"
    },
    "hidden": true
   },
   "outputs": [
    {
     "name": "stderr",
     "output_type": "stream",
     "text": [
      "/home/tom/footbot/venv/lib/python3.6/site-packages/statsmodels/compat/pandas.py:56: FutureWarning: The pandas.core.datetools module is deprecated and will be removed in a future version. Please use the pandas.tseries module instead.\n",
      "  from pandas.core import datetools\n"
     ]
    }
   ],
   "source": [
    "import player_data as player\n",
    "import goodness_fit\n",
    "import pandas as pd\n",
    "from datetime import datetime\n",
    "import statsmodels.api as sm\n",
    "import matplotlib.pyplot as plt\n",
    "import numpy as np"
   ]
  },
  {
   "cell_type": "markdown",
   "metadata": {
    "heading_collapsed": true
   },
   "source": [
    "# Get data"
   ]
  },
  {
   "cell_type": "code",
   "execution_count": 3,
   "metadata": {
    "ExecuteTime": {
     "end_time": "2019-04-09T16:44:38.583664Z",
     "start_time": "2019-04-09T16:44:38.580351Z"
    },
    "hidden": true
   },
   "outputs": [],
   "source": [
    "file_name = 'csvs/element_gameweek_' + datetime.today().strftime('%Y-%m-%d') + '.csv'"
   ]
  },
  {
   "cell_type": "code",
   "execution_count": 4,
   "metadata": {
    "ExecuteTime": {
     "end_time": "2019-04-09T16:44:38.851541Z",
     "start_time": "2019-04-09T16:44:38.586605Z"
    },
    "hidden": true
   },
   "outputs": [],
   "source": [
    "try:\n",
    "    element_gameweek_df = pd.read_csv(file_name)\n",
    "except:\n",
    "    element_gameweek_df = player.get_element_gameweek_df()\n",
    "    element_gameweek_df.to_csv(file_name)"
   ]
  },
  {
   "cell_type": "code",
   "execution_count": 5,
   "metadata": {
    "ExecuteTime": {
     "end_time": "2019-04-09T16:44:38.858376Z",
     "start_time": "2019-04-09T16:44:38.854657Z"
    },
    "hidden": true
   },
   "outputs": [],
   "source": [
    "current_event = 32\n",
    "element_types = [2, 3, 4]\n",
    "threshold_minutes = 1"
   ]
  },
  {
   "cell_type": "code",
   "execution_count": 6,
   "metadata": {
    "ExecuteTime": {
     "end_time": "2019-04-09T16:44:38.895825Z",
     "start_time": "2019-04-09T16:44:38.861427Z"
    },
    "hidden": true
   },
   "outputs": [],
   "source": [
    "element_gameweek_df =\\\n",
    "element_gameweek_df[\n",
    "    (element_gameweek_df['event'] <= current_event)\n",
    "    & (element_gameweek_df['element_type'].isin(element_types))\n",
    "    & (element_gameweek_df['minutes'] >= threshold_minutes)\n",
    "]"
   ]
  },
  {
   "cell_type": "code",
   "execution_count": 7,
   "metadata": {
    "ExecuteTime": {
     "end_time": "2019-04-09T16:44:39.009509Z",
     "start_time": "2019-04-09T16:44:38.899212Z"
    },
    "hidden": true
   },
   "outputs": [],
   "source": [
    "player.add_home_categorical_variable(element_gameweek_df)"
   ]
  },
  {
   "cell_type": "code",
   "execution_count": 8,
   "metadata": {
    "ExecuteTime": {
     "end_time": "2019-04-09T16:44:39.038703Z",
     "start_time": "2019-04-09T16:44:39.012412Z"
    },
    "hidden": true
   },
   "outputs": [],
   "source": [
    "element_gameweek_df['row_id'] = element_gameweek_df['row_id'].rank()"
   ]
  },
  {
   "cell_type": "code",
   "execution_count": 9,
   "metadata": {
    "ExecuteTime": {
     "end_time": "2019-04-09T16:44:39.068921Z",
     "start_time": "2019-04-09T16:44:39.043369Z"
    },
    "hidden": true
   },
   "outputs": [],
   "source": [
    "element_gameweek_df['element_fixture_rank'] = element_gameweek_df.groupby('element')['row_id'].rank()"
   ]
  },
  {
   "cell_type": "code",
   "execution_count": 10,
   "metadata": {
    "ExecuteTime": {
     "end_time": "2019-04-09T16:44:39.932191Z",
     "start_time": "2019-04-09T16:44:39.073723Z"
    },
    "hidden": true
   },
   "outputs": [],
   "source": [
    "rolling_df = \\\n",
    "element_gameweek_df.copy().groupby('element', as_index=True)[['minutes', 'goals_scored', 'assists']]\\\n",
    ".rolling(38, min_periods=1).sum().reset_index()[['element', 'minutes', 'goals_scored', 'assists']]"
   ]
  },
  {
   "cell_type": "code",
   "execution_count": 11,
   "metadata": {
    "ExecuteTime": {
     "end_time": "2019-04-09T16:44:40.017487Z",
     "start_time": "2019-04-09T16:44:39.936236Z"
    },
    "hidden": true
   },
   "outputs": [],
   "source": [
    "rolling_df['element_fixture_rank'] = rolling_df.groupby('element')['minutes'].rank()"
   ]
  },
  {
   "cell_type": "code",
   "execution_count": 12,
   "metadata": {
    "ExecuteTime": {
     "end_time": "2019-04-09T16:44:40.025576Z",
     "start_time": "2019-04-09T16:44:40.020189Z"
    },
    "hidden": true
   },
   "outputs": [],
   "source": [
    "rolling_df['element_fixture_rank'] = rolling_df['element_fixture_rank'] + 1"
   ]
  },
  {
   "cell_type": "code",
   "execution_count": 13,
   "metadata": {
    "ExecuteTime": {
     "end_time": "2019-04-09T16:44:40.067307Z",
     "start_time": "2019-04-09T16:44:40.027970Z"
    },
    "hidden": true
   },
   "outputs": [],
   "source": [
    "element_gameweek_df =\\\n",
    "element_gameweek_df.join(\n",
    "    rolling_df.set_index(['element', 'element_fixture_rank']),\n",
    "    on=['element', 'element_fixture_rank'],\n",
    "    rsuffix='_rolling')"
   ]
  },
  {
   "cell_type": "code",
   "execution_count": 14,
   "metadata": {
    "ExecuteTime": {
     "end_time": "2019-04-09T16:44:40.080698Z",
     "start_time": "2019-04-09T16:44:40.070120Z"
    },
    "hidden": true
   },
   "outputs": [],
   "source": [
    "element_gameweek_df['goals_scored_per_minute_rolling'] = \\\n",
    "element_gameweek_df['goals_scored_rolling'] / element_gameweek_df['minutes_rolling']\n",
    "\n",
    "element_gameweek_df['assists_per_minute_rolling'] = \\\n",
    "element_gameweek_df['assists_rolling'] / element_gameweek_df['minutes_rolling']\n",
    "\n",
    "element_gameweek_df['minutes_per_fixture_rolling'] = \\\n",
    "element_gameweek_df['minutes_rolling'] / element_gameweek_df['element_fixture_rank']"
   ]
  },
  {
   "cell_type": "code",
   "execution_count": 15,
   "metadata": {
    "ExecuteTime": {
     "end_time": "2019-04-09T16:44:40.133355Z",
     "start_time": "2019-04-09T16:44:40.082997Z"
    },
    "hidden": true
   },
   "outputs": [
    {
     "data": {
      "text/html": [
       "<div>\n",
       "<style scoped>\n",
       "    .dataframe tbody tr th:only-of-type {\n",
       "        vertical-align: middle;\n",
       "    }\n",
       "\n",
       "    .dataframe tbody tr th {\n",
       "        vertical-align: top;\n",
       "    }\n",
       "\n",
       "    .dataframe thead th {\n",
       "        text-align: right;\n",
       "    }\n",
       "</style>\n",
       "<table border=\"1\" class=\"dataframe\">\n",
       "  <thead>\n",
       "    <tr style=\"text-align: right;\">\n",
       "      <th></th>\n",
       "      <th>row_id</th>\n",
       "      <th>assists</th>\n",
       "      <th>attempted_passes</th>\n",
       "      <th>big_chances_created</th>\n",
       "      <th>big_chances_missed</th>\n",
       "      <th>bonus</th>\n",
       "      <th>bps</th>\n",
       "      <th>clean_sheets</th>\n",
       "      <th>clearances_blocks_interceptions</th>\n",
       "      <th>completed_passes</th>\n",
       "      <th>...</th>\n",
       "      <th>safe_web_name</th>\n",
       "      <th>own_team</th>\n",
       "      <th>opposition_team</th>\n",
       "      <th>element_fixture_rank</th>\n",
       "      <th>minutes_rolling</th>\n",
       "      <th>goals_scored_rolling</th>\n",
       "      <th>assists_rolling</th>\n",
       "      <th>goals_scored_per_minute_rolling</th>\n",
       "      <th>assists_per_minute_rolling</th>\n",
       "      <th>minutes_per_fixture_rolling</th>\n",
       "    </tr>\n",
       "  </thead>\n",
       "  <tbody>\n",
       "    <tr>\n",
       "      <th>80</th>\n",
       "      <td>1.0</td>\n",
       "      <td>0</td>\n",
       "      <td>92</td>\n",
       "      <td>0</td>\n",
       "      <td>0</td>\n",
       "      <td>0</td>\n",
       "      <td>11</td>\n",
       "      <td>0</td>\n",
       "      <td>6</td>\n",
       "      <td>85</td>\n",
       "      <td>...</td>\n",
       "      <td>koscielny</td>\n",
       "      <td>1</td>\n",
       "      <td>16</td>\n",
       "      <td>1.0</td>\n",
       "      <td>NaN</td>\n",
       "      <td>NaN</td>\n",
       "      <td>NaN</td>\n",
       "      <td>NaN</td>\n",
       "      <td>NaN</td>\n",
       "      <td>NaN</td>\n",
       "    </tr>\n",
       "    <tr>\n",
       "      <th>82</th>\n",
       "      <td>2.0</td>\n",
       "      <td>0</td>\n",
       "      <td>74</td>\n",
       "      <td>0</td>\n",
       "      <td>0</td>\n",
       "      <td>0</td>\n",
       "      <td>17</td>\n",
       "      <td>0</td>\n",
       "      <td>4</td>\n",
       "      <td>70</td>\n",
       "      <td>...</td>\n",
       "      <td>koscielny</td>\n",
       "      <td>1</td>\n",
       "      <td>3</td>\n",
       "      <td>2.0</td>\n",
       "      <td>90.0</td>\n",
       "      <td>0.0</td>\n",
       "      <td>0.0</td>\n",
       "      <td>0.0</td>\n",
       "      <td>0.0</td>\n",
       "      <td>45.0</td>\n",
       "    </tr>\n",
       "    <tr>\n",
       "      <th>83</th>\n",
       "      <td>3.0</td>\n",
       "      <td>0</td>\n",
       "      <td>38</td>\n",
       "      <td>0</td>\n",
       "      <td>0</td>\n",
       "      <td>0</td>\n",
       "      <td>10</td>\n",
       "      <td>0</td>\n",
       "      <td>2</td>\n",
       "      <td>36</td>\n",
       "      <td>...</td>\n",
       "      <td>koscielny</td>\n",
       "      <td>1</td>\n",
       "      <td>12</td>\n",
       "      <td>3.0</td>\n",
       "      <td>159.0</td>\n",
       "      <td>0.0</td>\n",
       "      <td>0.0</td>\n",
       "      <td>0.0</td>\n",
       "      <td>0.0</td>\n",
       "      <td>53.0</td>\n",
       "    </tr>\n",
       "    <tr>\n",
       "      <th>84</th>\n",
       "      <td>4.0</td>\n",
       "      <td>0</td>\n",
       "      <td>64</td>\n",
       "      <td>0</td>\n",
       "      <td>0</td>\n",
       "      <td>0</td>\n",
       "      <td>19</td>\n",
       "      <td>0</td>\n",
       "      <td>10</td>\n",
       "      <td>57</td>\n",
       "      <td>...</td>\n",
       "      <td>koscielny</td>\n",
       "      <td>1</td>\n",
       "      <td>9</td>\n",
       "      <td>4.0</td>\n",
       "      <td>204.0</td>\n",
       "      <td>0.0</td>\n",
       "      <td>0.0</td>\n",
       "      <td>0.0</td>\n",
       "      <td>0.0</td>\n",
       "      <td>51.0</td>\n",
       "    </tr>\n",
       "    <tr>\n",
       "      <th>85</th>\n",
       "      <td>5.0</td>\n",
       "      <td>0</td>\n",
       "      <td>89</td>\n",
       "      <td>0</td>\n",
       "      <td>0</td>\n",
       "      <td>0</td>\n",
       "      <td>17</td>\n",
       "      <td>0</td>\n",
       "      <td>2</td>\n",
       "      <td>87</td>\n",
       "      <td>...</td>\n",
       "      <td>koscielny</td>\n",
       "      <td>1</td>\n",
       "      <td>19</td>\n",
       "      <td>5.0</td>\n",
       "      <td>294.0</td>\n",
       "      <td>0.0</td>\n",
       "      <td>0.0</td>\n",
       "      <td>0.0</td>\n",
       "      <td>0.0</td>\n",
       "      <td>58.8</td>\n",
       "    </tr>\n",
       "  </tbody>\n",
       "</table>\n",
       "<p>5 rows × 73 columns</p>\n",
       "</div>"
      ],
      "text/plain": [
       "    row_id  assists  attempted_passes  big_chances_created  \\\n",
       "80     1.0        0                92                    0   \n",
       "82     2.0        0                74                    0   \n",
       "83     3.0        0                38                    0   \n",
       "84     4.0        0                64                    0   \n",
       "85     5.0        0                89                    0   \n",
       "\n",
       "    big_chances_missed  bonus  bps  clean_sheets  \\\n",
       "80                   0      0   11             0   \n",
       "82                   0      0   17             0   \n",
       "83                   0      0   10             0   \n",
       "84                   0      0   19             0   \n",
       "85                   0      0   17             0   \n",
       "\n",
       "    clearances_blocks_interceptions  completed_passes  \\\n",
       "80                                6                85   \n",
       "82                                4                70   \n",
       "83                                2                36   \n",
       "84                               10                57   \n",
       "85                                2                87   \n",
       "\n",
       "               ...               safe_web_name  own_team  opposition_team  \\\n",
       "80             ...                   koscielny         1               16   \n",
       "82             ...                   koscielny         1                3   \n",
       "83             ...                   koscielny         1               12   \n",
       "84             ...                   koscielny         1                9   \n",
       "85             ...                   koscielny         1               19   \n",
       "\n",
       "    element_fixture_rank  minutes_rolling  goals_scored_rolling  \\\n",
       "80                   1.0              NaN                   NaN   \n",
       "82                   2.0             90.0                   0.0   \n",
       "83                   3.0            159.0                   0.0   \n",
       "84                   4.0            204.0                   0.0   \n",
       "85                   5.0            294.0                   0.0   \n",
       "\n",
       "    assists_rolling  goals_scored_per_minute_rolling  \\\n",
       "80              NaN                              NaN   \n",
       "82              0.0                              0.0   \n",
       "83              0.0                              0.0   \n",
       "84              0.0                              0.0   \n",
       "85              0.0                              0.0   \n",
       "\n",
       "    assists_per_minute_rolling  minutes_per_fixture_rolling  \n",
       "80                         NaN                          NaN  \n",
       "82                         0.0                         45.0  \n",
       "83                         0.0                         53.0  \n",
       "84                         0.0                         51.0  \n",
       "85                         0.0                         58.8  \n",
       "\n",
       "[5 rows x 73 columns]"
      ]
     },
     "execution_count": 15,
     "metadata": {},
     "output_type": "execute_result"
    }
   ],
   "source": [
    "element_gameweek_df.head()"
   ]
  },
  {
   "cell_type": "markdown",
   "metadata": {
    "heading_collapsed": true
   },
   "source": [
    "# Models"
   ]
  },
  {
   "cell_type": "markdown",
   "metadata": {
    "heading_collapsed": true,
    "hidden": true
   },
   "source": [
    "## Simple Poisson model"
   ]
  },
  {
   "cell_type": "markdown",
   "metadata": {
    "heading_collapsed": true,
    "hidden": true
   },
   "source": [
    "### Preparing data"
   ]
  },
  {
   "cell_type": "code",
   "execution_count": 16,
   "metadata": {
    "ExecuteTime": {
     "end_time": "2019-04-09T16:44:40.146287Z",
     "start_time": "2019-04-09T16:44:40.135640Z"
    },
    "hidden": true
   },
   "outputs": [],
   "source": [
    "spm_df = element_gameweek_df.copy()"
   ]
  },
  {
   "cell_type": "code",
   "execution_count": 17,
   "metadata": {
    "ExecuteTime": {
     "end_time": "2019-04-09T16:44:40.160886Z",
     "start_time": "2019-04-09T16:44:40.149014Z"
    },
    "hidden": true
   },
   "outputs": [],
   "source": [
    "spm_redundant_columns = [\n",
    "    'row_id', 'goals_scored', 'attempted_passes', 'big_chances_created',\n",
    "    'big_chances_missed', 'bonus', 'bps', 'clean_sheets',\n",
    "    'clearances_blocks_interceptions', 'completed_passes', 'creativity',\n",
    "    'dribbles', 'ea_index', 'element', 'errors_leading_to_goal',\n",
    "    'errors_leading_to_goal_attempt', 'fixture', 'fouls', 'goals_conceded',\n",
    "    'ict_index', 'id', 'influence', 'key_passes', 'kickoff_time',\n",
    "    'kickoff_time_formatted', 'loaned_in', 'loaned_out', 'minutes', 'offside',\n",
    "    'open_play_crosses', 'opponent_team', 'own_goals', 'penalties_conceded',\n",
    "    'penalties_missed', 'penalties_saved', 'recoveries', 'red_cards', 'round',\n",
    "    'saves', 'selected', 'tackled', 'tackles', 'target_missed', 'team_a_score',\n",
    "    'team_h_score', 'threat', 'total_points', 'transfers_balance',\n",
    "    'transfers_in', 'transfers_out', 'value', 'winning_goals',\n",
    "    'yellow_cards', 'event', 'team_a', 'team_a_difficulty', 'team_h',\n",
    "    'team_h_difficulty', 'element_type', 'team', 'web_name', 'safe_web_name',\n",
    "    'own_team', 'opposition_team', 'was_home',\n",
    "    'element_fixture_rank', 'minutes_rolling',\n",
    "    'goals_scored_rolling', 'assists_rolling',\n",
    "    'goals_scored_per_minute_rolling', 'assists_per_minute_rolling',\n",
    "    'minutes_per_fixture_rolling'\n",
    "]"
   ]
  },
  {
   "cell_type": "code",
   "execution_count": 18,
   "metadata": {
    "ExecuteTime": {
     "end_time": "2019-04-09T16:44:40.194443Z",
     "start_time": "2019-04-09T16:44:40.163197Z"
    },
    "hidden": true
   },
   "outputs": [],
   "source": [
    "spm_df = player.remove_redundant_columns(spm_df, spm_redundant_columns)"
   ]
  },
  {
   "cell_type": "code",
   "execution_count": 19,
   "metadata": {
    "ExecuteTime": {
     "end_time": "2019-04-09T16:44:40.224449Z",
     "start_time": "2019-04-09T16:44:40.196742Z"
    },
    "hidden": true
   },
   "outputs": [],
   "source": [
    "spm_response_df, spm_explanatory_df = player.get_response_explanatory_dfs(spm_df, 'assists')"
   ]
  },
  {
   "cell_type": "code",
   "execution_count": 20,
   "metadata": {
    "ExecuteTime": {
     "end_time": "2019-04-09T16:44:40.247670Z",
     "start_time": "2019-04-09T16:44:40.226831Z"
    },
    "hidden": true
   },
   "outputs": [
    {
     "data": {
      "text/plain": [
       "Index(['const'], dtype='object')"
      ]
     },
     "execution_count": 20,
     "metadata": {},
     "output_type": "execute_result"
    }
   ],
   "source": [
    "spm_explanatory_df.columns"
   ]
  },
  {
   "cell_type": "code",
   "execution_count": 21,
   "metadata": {
    "ExecuteTime": {
     "end_time": "2019-04-09T16:44:40.280053Z",
     "start_time": "2019-04-09T16:44:40.249958Z"
    },
    "hidden": true
   },
   "outputs": [
    {
     "data": {
      "text/plain": [
       "80    0\n",
       "82    0\n",
       "83    0\n",
       "84    0\n",
       "85    0\n",
       "Name: assists, dtype: int64"
      ]
     },
     "execution_count": 21,
     "metadata": {},
     "output_type": "execute_result"
    }
   ],
   "source": [
    "spm_response_df.head()"
   ]
  },
  {
   "cell_type": "markdown",
   "metadata": {
    "heading_collapsed": true,
    "hidden": true
   },
   "source": [
    "### Fitting model"
   ]
  },
  {
   "cell_type": "code",
   "execution_count": 22,
   "metadata": {
    "ExecuteTime": {
     "end_time": "2019-04-09T16:44:40.324396Z",
     "start_time": "2019-04-09T16:44:40.282298Z"
    },
    "hidden": true
   },
   "outputs": [],
   "source": [
    "spm_results = sm.GLM(\n",
    "    spm_response_df,\n",
    "    spm_explanatory_df,\n",
    "    family=sm.families.Poisson(),\n",
    "    missing='drop'\n",
    ").fit()"
   ]
  },
  {
   "cell_type": "code",
   "execution_count": 23,
   "metadata": {
    "ExecuteTime": {
     "end_time": "2019-04-09T16:44:40.344605Z",
     "start_time": "2019-04-09T16:44:40.327086Z"
    },
    "hidden": true
   },
   "outputs": [
    {
     "name": "stdout",
     "output_type": "stream",
     "text": [
      "                 Generalized Linear Model Regression Results                  \n",
      "==============================================================================\n",
      "Dep. Variable:                assists   No. Observations:                 8161\n",
      "Model:                            GLM   Df Residuals:                     8160\n",
      "Model Family:                 Poisson   Df Model:                            0\n",
      "Link Function:                    log   Scale:                             1.0\n",
      "Method:                          IRLS   Log-Likelihood:                -2667.2\n",
      "Date:                Tue, 09 Apr 2019   Deviance:                       3851.1\n",
      "Time:                        16:44:40   Pearson chi2:                 8.73e+03\n",
      "No. Iterations:                     6                                         \n",
      "==============================================================================\n",
      "                 coef    std err          z      P>|z|      [0.025      0.975]\n",
      "------------------------------------------------------------------------------\n",
      "const         -2.3414      0.036    -65.602      0.000      -2.411      -2.271\n",
      "==============================================================================\n"
     ]
    }
   ],
   "source": [
    "print(spm_results.summary())"
   ]
  },
  {
   "cell_type": "markdown",
   "metadata": {
    "heading_collapsed": true,
    "hidden": true
   },
   "source": [
    "### Model fit"
   ]
  },
  {
   "cell_type": "code",
   "execution_count": 24,
   "metadata": {
    "ExecuteTime": {
     "end_time": "2019-04-09T16:44:40.364067Z",
     "start_time": "2019-04-09T16:44:40.347044Z"
    },
    "hidden": true
   },
   "outputs": [
    {
     "data": {
      "text/plain": [
       "5336.441127586411"
      ]
     },
     "execution_count": 24,
     "metadata": {},
     "output_type": "execute_result"
    }
   ],
   "source": [
    "spm_results.aic"
   ]
  },
  {
   "cell_type": "code",
   "execution_count": 25,
   "metadata": {
    "ExecuteTime": {
     "end_time": "2019-04-09T16:44:40.387552Z",
     "start_time": "2019-04-09T16:44:40.366375Z"
    },
    "hidden": true
   },
   "outputs": [
    {
     "data": {
      "text/plain": [
       "-69647.01735787923"
      ]
     },
     "execution_count": 25,
     "metadata": {},
     "output_type": "execute_result"
    }
   ],
   "source": [
    "spm_results.bic"
   ]
  },
  {
   "cell_type": "code",
   "execution_count": 26,
   "metadata": {
    "ExecuteTime": {
     "end_time": "2019-04-09T16:44:40.413140Z",
     "start_time": "2019-04-09T16:44:40.389834Z"
    },
    "hidden": true
   },
   "outputs": [
    {
     "data": {
      "text/plain": [
       "(True, 6.853729268230246e-06)"
      ]
     },
     "execution_count": 26,
     "metadata": {},
     "output_type": "execute_result"
    }
   ],
   "source": [
    "spm_pearson_results = goodness_fit.pearson_chi_squared_test(spm_results)\n",
    "spm_pearson_results"
   ]
  },
  {
   "cell_type": "code",
   "execution_count": 27,
   "metadata": {
    "ExecuteTime": {
     "end_time": "2019-04-09T16:44:40.456220Z",
     "start_time": "2019-04-09T16:44:40.415404Z"
    },
    "hidden": true
   },
   "outputs": [
    {
     "data": {
      "text/plain": [
       "count    8161.000000\n",
       "mean       -0.240568\n",
       "std         0.643481\n",
       "min        -0.438610\n",
       "25%        -0.438610\n",
       "50%        -0.438610\n",
       "75%        -0.438610\n",
       "max         3.851322\n",
       "dtype: float64"
      ]
     },
     "execution_count": 27,
     "metadata": {},
     "output_type": "execute_result"
    }
   ],
   "source": [
    "spm_results.resid_deviance.describe()"
   ]
  },
  {
   "cell_type": "code",
   "execution_count": 28,
   "metadata": {
    "ExecuteTime": {
     "end_time": "2019-04-09T16:44:40.769206Z",
     "start_time": "2019-04-09T16:44:40.458534Z"
    },
    "hidden": true
   },
   "outputs": [
    {
     "data": {
      "image/png": "[encoded data removed]",
      "text/plain": [
       "<Figure size 432x288 with 1 Axes>"
      ]
     },
     "metadata": {
      "needs_background": "light"
     },
     "output_type": "display_data"
    }
   ],
   "source": [
    "plt.figure()\n",
    "plt.hist(spm_results.resid_deviance)\n",
    "plt.show()"
   ]
  },
  {
   "cell_type": "markdown",
   "metadata": {
    "heading_collapsed": true,
    "hidden": true
   },
   "source": [
    "## Simple Poisson minutes model"
   ]
  },
  {
   "cell_type": "markdown",
   "metadata": {
    "heading_collapsed": true,
    "hidden": true
   },
   "source": [
    "### Preparing data"
   ]
  },
  {
   "cell_type": "code",
   "execution_count": 29,
   "metadata": {
    "ExecuteTime": {
     "end_time": "2019-04-09T16:44:40.778241Z",
     "start_time": "2019-04-09T16:44:40.771764Z"
    },
    "hidden": true
   },
   "outputs": [],
   "source": [
    "spmm_df = element_gameweek_df.copy()"
   ]
  },
  {
   "cell_type": "code",
   "execution_count": 30,
   "metadata": {
    "ExecuteTime": {
     "end_time": "2019-04-09T16:44:40.795283Z",
     "start_time": "2019-04-09T16:44:40.781734Z"
    },
    "hidden": true
   },
   "outputs": [],
   "source": [
    "spmm_redundant_columns = [\n",
    "    'row_id', 'goals_scored', 'attempted_passes', 'big_chances_created',\n",
    "    'big_chances_missed', 'bonus', 'bps', 'clean_sheets',\n",
    "    'clearances_blocks_interceptions', 'completed_passes', 'creativity',\n",
    "    'dribbles', 'ea_index', 'element', 'errors_leading_to_goal',\n",
    "    'errors_leading_to_goal_attempt', 'fixture', 'fouls', 'goals_conceded',\n",
    "    'ict_index', 'id', 'influence', 'key_passes', 'kickoff_time',\n",
    "    'kickoff_time_formatted', 'loaned_in', 'loaned_out', 'offside',\n",
    "    'open_play_crosses', 'opponent_team', 'own_goals', 'penalties_conceded',\n",
    "    'penalties_missed', 'penalties_saved', 'recoveries', 'red_cards', 'round',\n",
    "    'saves', 'selected', 'tackled', 'tackles', 'target_missed', 'team_a_score',\n",
    "    'team_h_score', 'threat', 'total_points', 'transfers_balance',\n",
    "    'transfers_in', 'transfers_out', 'value', 'winning_goals',\n",
    "    'yellow_cards', 'event', 'team_a', 'team_a_difficulty', 'team_h',\n",
    "    'team_h_difficulty', 'element_type', 'team', 'web_name', 'safe_web_name',\n",
    "    'own_team', 'opposition_team', 'was_home', 'minutes',\n",
    "    'element_fixture_rank', 'minutes_rolling',\n",
    "    'goals_scored_rolling', 'assists_rolling',\n",
    "    'goals_scored_per_minute_rolling', 'assists_per_minute_rolling',\n",
    "    'minutes_per_fixture_rolling'\n",
    "]"
   ]
  },
  {
   "cell_type": "code",
   "execution_count": 31,
   "metadata": {
    "ExecuteTime": {
     "end_time": "2019-04-09T16:44:40.821244Z",
     "start_time": "2019-04-09T16:44:40.797690Z"
    },
    "hidden": true
   },
   "outputs": [],
   "source": [
    "spmm_df['log_minutes'] = np.log(spmm_df['minutes'])"
   ]
  },
  {
   "cell_type": "code",
   "execution_count": 32,
   "metadata": {
    "ExecuteTime": {
     "end_time": "2019-04-09T16:44:40.848176Z",
     "start_time": "2019-04-09T16:44:40.823767Z"
    },
    "hidden": true
   },
   "outputs": [],
   "source": [
    "spmm_df = player.remove_redundant_columns(spmm_df, spmm_redundant_columns)"
   ]
  },
  {
   "cell_type": "code",
   "execution_count": 33,
   "metadata": {
    "ExecuteTime": {
     "end_time": "2019-04-09T16:44:40.875685Z",
     "start_time": "2019-04-09T16:44:40.850602Z"
    },
    "hidden": true
   },
   "outputs": [],
   "source": [
    "spmm_response_df, spmm_explanatory_df = player.get_response_explanatory_dfs(spmm_df, 'assists')"
   ]
  },
  {
   "cell_type": "code",
   "execution_count": 34,
   "metadata": {
    "ExecuteTime": {
     "end_time": "2019-04-09T16:44:40.897988Z",
     "start_time": "2019-04-09T16:44:40.878026Z"
    },
    "hidden": true
   },
   "outputs": [
    {
     "data": {
      "text/plain": [
       "Index(['const', 'log_minutes'], dtype='object')"
      ]
     },
     "execution_count": 34,
     "metadata": {},
     "output_type": "execute_result"
    }
   ],
   "source": [
    "spmm_explanatory_df.columns"
   ]
  },
  {
   "cell_type": "markdown",
   "metadata": {
    "heading_collapsed": true,
    "hidden": true
   },
   "source": [
    "### Fitting model"
   ]
  },
  {
   "cell_type": "code",
   "execution_count": 35,
   "metadata": {
    "ExecuteTime": {
     "end_time": "2019-04-09T16:44:40.959747Z",
     "start_time": "2019-04-09T16:44:40.900393Z"
    },
    "hidden": true
   },
   "outputs": [],
   "source": [
    "spmm_results = sm.GLM(\n",
    "    spmm_response_df,\n",
    "    spmm_explanatory_df,\n",
    "    family=sm.families.Poisson(),\n",
    "    missing='drop'\n",
    ").fit()"
   ]
  },
  {
   "cell_type": "code",
   "execution_count": 36,
   "metadata": {
    "ExecuteTime": {
     "end_time": "2019-04-09T16:44:40.997334Z",
     "start_time": "2019-04-09T16:44:40.964494Z"
    },
    "hidden": true
   },
   "outputs": [
    {
     "name": "stdout",
     "output_type": "stream",
     "text": [
      "                 Generalized Linear Model Regression Results                  \n",
      "==============================================================================\n",
      "Dep. Variable:                assists   No. Observations:                 8161\n",
      "Model:                            GLM   Df Residuals:                     8159\n",
      "Model Family:                 Poisson   Df Model:                            1\n",
      "Link Function:                    log   Scale:                             1.0\n",
      "Method:                          IRLS   Log-Likelihood:                -2625.6\n",
      "Date:                Tue, 09 Apr 2019   Deviance:                       3767.8\n",
      "Time:                        16:44:40   Pearson chi2:                 8.55e+03\n",
      "No. Iterations:                     6                                         \n",
      "===============================================================================\n",
      "                  coef    std err          z      P>|z|      [0.025      0.975]\n",
      "-------------------------------------------------------------------------------\n",
      "const          -4.4008      0.280    -15.716      0.000      -4.950      -3.852\n",
      "log_minutes     0.4944      0.065      7.606      0.000       0.367       0.622\n",
      "===============================================================================\n"
     ]
    }
   ],
   "source": [
    "print(spmm_results.summary())"
   ]
  },
  {
   "cell_type": "markdown",
   "metadata": {
    "heading_collapsed": true,
    "hidden": true
   },
   "source": [
    "### Model fit"
   ]
  },
  {
   "cell_type": "code",
   "execution_count": 37,
   "metadata": {
    "ExecuteTime": {
     "end_time": "2019-04-09T16:44:41.007947Z",
     "start_time": "2019-04-09T16:44:41.001020Z"
    },
    "hidden": true
   },
   "outputs": [
    {
     "data": {
      "text/plain": [
       "5255.147509076489"
      ]
     },
     "execution_count": 37,
     "metadata": {},
     "output_type": "execute_result"
    }
   ],
   "source": [
    "spmm_results.aic"
   ]
  },
  {
   "cell_type": "code",
   "execution_count": 38,
   "metadata": {
    "ExecuteTime": {
     "end_time": "2019-04-09T16:44:41.031577Z",
     "start_time": "2019-04-09T16:44:41.011357Z"
    },
    "hidden": true
   },
   "outputs": [
    {
     "data": {
      "text/plain": [
       "-69721.3038543997"
      ]
     },
     "execution_count": 38,
     "metadata": {},
     "output_type": "execute_result"
    }
   ],
   "source": [
    "spmm_results.bic"
   ]
  },
  {
   "cell_type": "code",
   "execution_count": 39,
   "metadata": {
    "ExecuteTime": {
     "end_time": "2019-04-09T16:44:41.076610Z",
     "start_time": "2019-04-09T16:44:41.068539Z"
    },
    "hidden": true
   },
   "outputs": [
    {
     "data": {
      "text/plain": [
       "(True, 0.001169126206877924)"
      ]
     },
     "execution_count": 39,
     "metadata": {},
     "output_type": "execute_result"
    }
   ],
   "source": [
    "spmm_pearson_results = goodness_fit.pearson_chi_squared_test(spmm_results)\n",
    "spmm_pearson_results"
   ]
  },
  {
   "cell_type": "code",
   "execution_count": 40,
   "metadata": {
    "ExecuteTime": {
     "end_time": "2019-04-09T16:44:41.110488Z",
     "start_time": "2019-04-09T16:44:41.097577Z"
    },
    "hidden": true
   },
   "outputs": [
    {
     "data": {
      "text/plain": [
       "count    8161.000000\n",
       "mean       -0.235224\n",
       "std         0.637498\n",
       "min        -0.476364\n",
       "25%        -0.476364\n",
       "50%        -0.476364\n",
       "75%        -0.353750\n",
       "max         3.725097\n",
       "dtype: float64"
      ]
     },
     "execution_count": 40,
     "metadata": {},
     "output_type": "execute_result"
    }
   ],
   "source": [
    "spmm_results.resid_deviance.describe()"
   ]
  },
  {
   "cell_type": "code",
   "execution_count": 41,
   "metadata": {
    "ExecuteTime": {
     "end_time": "2019-04-09T16:44:41.431965Z",
     "start_time": "2019-04-09T16:44:41.112823Z"
    },
    "hidden": true
   },
   "outputs": [
    {
     "data": {
      "image/png": "[encoded data removed]",
      "text/plain": [
       "<Figure size 432x288 with 1 Axes>"
      ]
     },
     "metadata": {
      "needs_background": "light"
     },
     "output_type": "display_data"
    }
   ],
   "source": [
    "plt.figure()\n",
    "plt.hist(spmm_results.resid_deviance)\n",
    "plt.show()"
   ]
  },
  {
   "cell_type": "markdown",
   "metadata": {
    "heading_collapsed": true,
    "hidden": true
   },
   "source": [
    "## Simple Poisson exposure model"
   ]
  },
  {
   "cell_type": "markdown",
   "metadata": {
    "heading_collapsed": true,
    "hidden": true
   },
   "source": [
    "### Preparing data"
   ]
  },
  {
   "cell_type": "code",
   "execution_count": 42,
   "metadata": {
    "ExecuteTime": {
     "end_time": "2019-04-09T16:44:41.439660Z",
     "start_time": "2019-04-09T16:44:41.434603Z"
    },
    "hidden": true
   },
   "outputs": [],
   "source": [
    "epmm_df = element_gameweek_df.copy()"
   ]
  },
  {
   "cell_type": "code",
   "execution_count": 43,
   "metadata": {
    "ExecuteTime": {
     "end_time": "2019-04-09T16:44:41.463054Z",
     "start_time": "2019-04-09T16:44:41.442034Z"
    },
    "hidden": true
   },
   "outputs": [],
   "source": [
    "epmm_redundant_columns = [\n",
    "    'row_id', 'goals_scored', 'attempted_passes', 'big_chances_created',\n",
    "    'big_chances_missed', 'bonus', 'bps', 'clean_sheets',\n",
    "    'clearances_blocks_interceptions', 'completed_passes', 'creativity',\n",
    "    'dribbles', 'ea_index', 'element', 'errors_leading_to_goal',\n",
    "    'errors_leading_to_goal_attempt', 'fixture', 'fouls', 'goals_conceded',\n",
    "    'ict_index', 'id', 'influence', 'key_passes', 'kickoff_time',\n",
    "    'kickoff_time_formatted', 'loaned_in', 'loaned_out', 'offside',\n",
    "    'open_play_crosses', 'opponent_team', 'own_goals', 'penalties_conceded',\n",
    "    'penalties_missed', 'penalties_saved', 'recoveries', 'red_cards', 'round',\n",
    "    'saves', 'selected', 'tackled', 'tackles', 'target_missed', 'team_a_score',\n",
    "    'team_h_score', 'threat', 'total_points', 'transfers_balance',\n",
    "    'transfers_in', 'transfers_out', 'value', 'winning_goals',\n",
    "    'yellow_cards', 'event', 'team_a', 'team_a_difficulty', 'team_h',\n",
    "    'team_h_difficulty', 'element_type', 'team', 'web_name', 'safe_web_name',\n",
    "    'own_team', 'opposition_team', 'was_home', 'minutes',\n",
    "    'element_fixture_rank', 'minutes_rolling',\n",
    "    'goals_scored_rolling', 'assists_rolling',\n",
    "    'goals_scored_per_minute_rolling', 'assists_per_minute_rolling',\n",
    "    'minutes_per_fixture_rolling'\n",
    "]"
   ]
  },
  {
   "cell_type": "code",
   "execution_count": 44,
   "metadata": {
    "ExecuteTime": {
     "end_time": "2019-04-09T16:44:41.488689Z",
     "start_time": "2019-04-09T16:44:41.465377Z"
    },
    "hidden": true
   },
   "outputs": [],
   "source": [
    "epmm_exposure = epmm_df['minutes']"
   ]
  },
  {
   "cell_type": "code",
   "execution_count": 45,
   "metadata": {
    "ExecuteTime": {
     "end_time": "2019-04-09T16:44:41.514440Z",
     "start_time": "2019-04-09T16:44:41.491854Z"
    },
    "hidden": true
   },
   "outputs": [],
   "source": [
    "epmm_df = player.remove_redundant_columns(epmm_df, epmm_redundant_columns)"
   ]
  },
  {
   "cell_type": "code",
   "execution_count": 46,
   "metadata": {
    "ExecuteTime": {
     "end_time": "2019-04-09T16:44:41.542246Z",
     "start_time": "2019-04-09T16:44:41.516604Z"
    },
    "hidden": true
   },
   "outputs": [],
   "source": [
    "epmm_response_df, epmm_explanatory_df = player.get_response_explanatory_dfs(epmm_df, 'assists')"
   ]
  },
  {
   "cell_type": "code",
   "execution_count": 47,
   "metadata": {
    "ExecuteTime": {
     "end_time": "2019-04-09T16:44:41.565057Z",
     "start_time": "2019-04-09T16:44:41.544658Z"
    },
    "hidden": true
   },
   "outputs": [
    {
     "data": {
      "text/plain": [
       "Index(['const'], dtype='object')"
      ]
     },
     "execution_count": 47,
     "metadata": {},
     "output_type": "execute_result"
    }
   ],
   "source": [
    "epmm_explanatory_df.columns"
   ]
  },
  {
   "cell_type": "markdown",
   "metadata": {
    "heading_collapsed": true,
    "hidden": true
   },
   "source": [
    "### Fitting model"
   ]
  },
  {
   "cell_type": "code",
   "execution_count": 48,
   "metadata": {
    "ExecuteTime": {
     "end_time": "2019-04-09T16:44:41.614027Z",
     "start_time": "2019-04-09T16:44:41.567473Z"
    },
    "hidden": true
   },
   "outputs": [],
   "source": [
    "epmm_results = sm.GLM(\n",
    "    epmm_response_df,\n",
    "    epmm_explanatory_df,\n",
    "    family=sm.families.Poisson(),\n",
    "    missing='drop',\n",
    "    exposure=epmm_exposure\n",
    ").fit()"
   ]
  },
  {
   "cell_type": "code",
   "execution_count": 49,
   "metadata": {
    "ExecuteTime": {
     "end_time": "2019-04-09T16:44:41.627356Z",
     "start_time": "2019-04-09T16:44:41.616740Z"
    },
    "hidden": true
   },
   "outputs": [
    {
     "name": "stdout",
     "output_type": "stream",
     "text": [
      "                 Generalized Linear Model Regression Results                  \n",
      "==============================================================================\n",
      "Dep. Variable:                assists   No. Observations:                 8161\n",
      "Model:                            GLM   Df Residuals:                     8160\n",
      "Model Family:                 Poisson   Df Model:                            0\n",
      "Link Function:                    log   Scale:                             1.0\n",
      "Method:                          IRLS   Log-Likelihood:                -2648.3\n",
      "Date:                Tue, 09 Apr 2019   Deviance:                       3813.3\n",
      "Time:                        16:44:41   Pearson chi2:                 1.10e+04\n",
      "No. Iterations:                     6                                         \n",
      "==============================================================================\n",
      "                 coef    std err          z      P>|z|      [0.025      0.975]\n",
      "------------------------------------------------------------------------------\n",
      "const         -6.5904      0.036   -184.649      0.000      -6.660      -6.520\n",
      "==============================================================================\n"
     ]
    }
   ],
   "source": [
    "print(epmm_results.summary())"
   ]
  },
  {
   "cell_type": "markdown",
   "metadata": {
    "heading_collapsed": true,
    "hidden": true
   },
   "source": [
    "### Model fit"
   ]
  },
  {
   "cell_type": "code",
   "execution_count": 50,
   "metadata": {
    "ExecuteTime": {
     "end_time": "2019-04-09T16:44:41.657582Z",
     "start_time": "2019-04-09T16:44:41.629664Z"
    },
    "hidden": true
   },
   "outputs": [
    {
     "data": {
      "text/plain": [
       "5298.595243230665"
      ]
     },
     "execution_count": 50,
     "metadata": {},
     "output_type": "execute_result"
    }
   ],
   "source": [
    "epmm_results.aic"
   ]
  },
  {
   "cell_type": "code",
   "execution_count": 51,
   "metadata": {
    "ExecuteTime": {
     "end_time": "2019-04-09T16:44:41.681771Z",
     "start_time": "2019-04-09T16:44:41.660990Z"
    },
    "hidden": true
   },
   "outputs": [
    {
     "data": {
      "text/plain": [
       "-69684.86324223498"
      ]
     },
     "execution_count": 51,
     "metadata": {},
     "output_type": "execute_result"
    }
   ],
   "source": [
    "epmm_results.bic"
   ]
  },
  {
   "cell_type": "code",
   "execution_count": 52,
   "metadata": {
    "ExecuteTime": {
     "end_time": "2019-04-09T16:44:41.706815Z",
     "start_time": "2019-04-09T16:44:41.684049Z"
    },
    "hidden": true
   },
   "outputs": [
    {
     "data": {
      "text/plain": [
       "(True, 0.0)"
      ]
     },
     "execution_count": 52,
     "metadata": {},
     "output_type": "execute_result"
    }
   ],
   "source": [
    "epmm_pearson_results = goodness_fit.pearson_chi_squared_test(epmm_results)\n",
    "epmm_pearson_results"
   ]
  },
  {
   "cell_type": "code",
   "execution_count": 53,
   "metadata": {
    "ExecuteTime": {
     "end_time": "2019-04-09T16:44:41.736869Z",
     "start_time": "2019-04-09T16:44:41.709137Z"
    },
    "hidden": true
   },
   "outputs": [
    {
     "data": {
      "text/plain": [
       "count    8161.000000\n",
       "mean       -0.223532\n",
       "std         0.646017\n",
       "min        -0.497222\n",
       "25%        -0.497222\n",
       "50%        -0.497222\n",
       "75%        -0.272340\n",
       "max         3.721291\n",
       "dtype: float64"
      ]
     },
     "execution_count": 53,
     "metadata": {},
     "output_type": "execute_result"
    }
   ],
   "source": [
    "epmm_results.resid_deviance.describe()"
   ]
  },
  {
   "cell_type": "code",
   "execution_count": 54,
   "metadata": {
    "ExecuteTime": {
     "end_time": "2019-04-09T16:44:42.070714Z",
     "start_time": "2019-04-09T16:44:41.739144Z"
    },
    "hidden": true
   },
   "outputs": [
    {
     "data": {
      "image/png": "[encoded data removed]",
      "text/plain": [
       "<Figure size 432x288 with 1 Axes>"
      ]
     },
     "metadata": {
      "needs_background": "light"
     },
     "output_type": "display_data"
    }
   ],
   "source": [
    "plt.figure()\n",
    "plt.hist(epmm_results.resid_deviance)\n",
    "plt.show()"
   ]
  },
  {
   "cell_type": "markdown",
   "metadata": {
    "heading_collapsed": true,
    "hidden": true
   },
   "source": [
    "## Simple Poisson teams model"
   ]
  },
  {
   "cell_type": "markdown",
   "metadata": {
    "heading_collapsed": true,
    "hidden": true
   },
   "source": [
    "### Preparing data"
   ]
  },
  {
   "cell_type": "code",
   "execution_count": 55,
   "metadata": {
    "ExecuteTime": {
     "end_time": "2019-04-09T16:44:42.079780Z",
     "start_time": "2019-04-09T16:44:42.073311Z"
    },
    "hidden": true
   },
   "outputs": [],
   "source": [
    "sptm_df = element_gameweek_df.copy()"
   ]
  },
  {
   "cell_type": "code",
   "execution_count": 56,
   "metadata": {
    "ExecuteTime": {
     "end_time": "2019-04-09T16:44:42.122530Z",
     "start_time": "2019-04-09T16:44:42.082355Z"
    },
    "hidden": true
   },
   "outputs": [],
   "source": [
    "sptm_df = player.add_categorical_variables(sptm_df, 'element_type')\n",
    "sptm_df = player.add_categorical_variables(sptm_df, 'opposition_team')\n",
    "sptm_df = player.add_categorical_variables(sptm_df, 'own_team')"
   ]
  },
  {
   "cell_type": "code",
   "execution_count": 57,
   "metadata": {
    "ExecuteTime": {
     "end_time": "2019-04-09T16:44:42.133629Z",
     "start_time": "2019-04-09T16:44:42.124941Z"
    },
    "hidden": true
   },
   "outputs": [],
   "source": [
    "sptm_redundant_columns = [\n",
    "    'row_id', 'goals_scored', 'attempted_passes', 'big_chances_created',\n",
    "    'big_chances_missed', 'bonus', 'bps', 'clean_sheets',\n",
    "    'clearances_blocks_interceptions', 'completed_passes', 'creativity',\n",
    "    'dribbles', 'ea_index', 'element', 'errors_leading_to_goal',\n",
    "    'errors_leading_to_goal_attempt', 'fixture', 'fouls', 'goals_conceded',\n",
    "    'ict_index', 'id', 'influence', 'key_passes', 'kickoff_time',\n",
    "    'kickoff_time_formatted', 'loaned_in', 'loaned_out', 'minutes', 'offside',\n",
    "    'open_play_crosses', 'opponent_team', 'own_goals', 'penalties_conceded',\n",
    "    'penalties_missed', 'penalties_saved', 'recoveries', 'red_cards', 'round',\n",
    "    'saves', 'selected', 'tackled', 'tackles', 'target_missed', 'team_a_score',\n",
    "    'team_h_score', 'threat', 'total_points', 'transfers_balance',\n",
    "    'transfers_in', 'transfers_out', 'value', 'winning_goals',\n",
    "    'yellow_cards', 'event', 'team_a', 'team_a_difficulty', 'team_h',\n",
    "    'team_h_difficulty', 'element_type', 'team', 'web_name', 'safe_web_name',\n",
    "    'own_team', 'opposition_team',\n",
    "    'element_fixture_rank', 'minutes_rolling',\n",
    "    'goals_scored_rolling', 'assists_rolling',\n",
    "    'goals_scored_per_minute_rolling', 'assists_per_minute_rolling',\n",
    "    'minutes_per_fixture_rolling'\n",
    "]"
   ]
  },
  {
   "cell_type": "code",
   "execution_count": 58,
   "metadata": {
    "ExecuteTime": {
     "end_time": "2019-04-09T16:44:42.162520Z",
     "start_time": "2019-04-09T16:44:42.136219Z"
    },
    "hidden": true
   },
   "outputs": [],
   "source": [
    "sptm_df = player.remove_redundant_columns(sptm_df, sptm_redundant_columns)"
   ]
  },
  {
   "cell_type": "code",
   "execution_count": 59,
   "metadata": {
    "ExecuteTime": {
     "end_time": "2019-04-09T16:44:42.210017Z",
     "start_time": "2019-04-09T16:44:42.165211Z"
    },
    "hidden": true
   },
   "outputs": [],
   "source": [
    "sptm_response_df, sptm_explanatory_df = player.get_response_explanatory_dfs(sptm_df, 'assists')"
   ]
  },
  {
   "cell_type": "code",
   "execution_count": 60,
   "metadata": {
    "ExecuteTime": {
     "end_time": "2019-04-09T16:44:42.217549Z",
     "start_time": "2019-04-09T16:44:42.212373Z"
    },
    "hidden": true
   },
   "outputs": [
    {
     "data": {
      "text/plain": [
       "Index(['const', 'was_home', 'element_type_3', 'element_type_4',\n",
       "       'opposition_team_2', 'opposition_team_3', 'opposition_team_4',\n",
       "       'opposition_team_5', 'opposition_team_6', 'opposition_team_7',\n",
       "       'opposition_team_8', 'opposition_team_9', 'opposition_team_10',\n",
       "       'opposition_team_11', 'opposition_team_12', 'opposition_team_13',\n",
       "       'opposition_team_14', 'opposition_team_15', 'opposition_team_16',\n",
       "       'opposition_team_17', 'opposition_team_18', 'opposition_team_19',\n",
       "       'opposition_team_20', 'own_team_2', 'own_team_3', 'own_team_4',\n",
       "       'own_team_5', 'own_team_6', 'own_team_7', 'own_team_8', 'own_team_9',\n",
       "       'own_team_10', 'own_team_11', 'own_team_12', 'own_team_13',\n",
       "       'own_team_14', 'own_team_15', 'own_team_16', 'own_team_17',\n",
       "       'own_team_18', 'own_team_19', 'own_team_20'],\n",
       "      dtype='object')"
      ]
     },
     "execution_count": 60,
     "metadata": {},
     "output_type": "execute_result"
    }
   ],
   "source": [
    "sptm_explanatory_df.columns"
   ]
  },
  {
   "cell_type": "code",
   "execution_count": 61,
   "metadata": {
    "ExecuteTime": {
     "end_time": "2019-04-09T16:44:42.243436Z",
     "start_time": "2019-04-09T16:44:42.220011Z"
    },
    "hidden": true
   },
   "outputs": [
    {
     "data": {
      "text/plain": [
       "80    0\n",
       "82    0\n",
       "83    0\n",
       "84    0\n",
       "85    0\n",
       "Name: assists, dtype: int64"
      ]
     },
     "execution_count": 61,
     "metadata": {},
     "output_type": "execute_result"
    }
   ],
   "source": [
    "sptm_response_df.head()"
   ]
  },
  {
   "cell_type": "markdown",
   "metadata": {
    "heading_collapsed": true,
    "hidden": true
   },
   "source": [
    "### Fitting model"
   ]
  },
  {
   "cell_type": "code",
   "execution_count": 62,
   "metadata": {
    "ExecuteTime": {
     "end_time": "2019-04-09T16:44:42.494241Z",
     "start_time": "2019-04-09T16:44:42.245800Z"
    },
    "hidden": true
   },
   "outputs": [],
   "source": [
    "sptm_results = sm.GLM(\n",
    "    sptm_response_df,\n",
    "    sptm_explanatory_df,\n",
    "    family=sm.families.Poisson(),\n",
    "    missing='drop'\n",
    ").fit()"
   ]
  },
  {
   "cell_type": "code",
   "execution_count": 63,
   "metadata": {
    "ExecuteTime": {
     "end_time": "2019-04-09T16:44:42.550225Z",
     "start_time": "2019-04-09T16:44:42.498000Z"
    },
    "hidden": true
   },
   "outputs": [
    {
     "name": "stdout",
     "output_type": "stream",
     "text": [
      "                 Generalized Linear Model Regression Results                  \n",
      "==============================================================================\n",
      "Dep. Variable:                assists   No. Observations:                 8161\n",
      "Model:                            GLM   Df Residuals:                     8119\n",
      "Model Family:                 Poisson   Df Model:                           41\n",
      "Link Function:                    log   Scale:                             1.0\n",
      "Method:                          IRLS   Log-Likelihood:                -2551.6\n",
      "Date:                Tue, 09 Apr 2019   Deviance:                       3619.8\n",
      "Time:                        16:44:42   Pearson chi2:                 8.40e+03\n",
      "No. Iterations:                     6                                         \n",
      "======================================================================================\n",
      "                         coef    std err          z      P>|z|      [0.025      0.975]\n",
      "--------------------------------------------------------------------------------------\n",
      "const                 -2.5393      0.234    -10.846      0.000      -2.998      -2.080\n",
      "was_home               0.1987      0.072      2.762      0.006       0.058       0.340\n",
      "element_type_3         0.5309      0.088      6.059      0.000       0.359       0.703\n",
      "element_type_4         0.6794      0.107      6.341      0.000       0.469       0.889\n",
      "opposition_team_2      0.3754      0.226      1.663      0.096      -0.067       0.818\n",
      "opposition_team_3      0.0956      0.244      0.392      0.695      -0.382       0.573\n",
      "opposition_team_4      0.4008      0.227      1.764      0.078      -0.044       0.846\n",
      "opposition_team_5      0.4601      0.223      2.060      0.039       0.022       0.898\n",
      "opposition_team_6     -0.1612      0.260     -0.620      0.535      -0.670       0.348\n",
      "opposition_team_7      0.0827      0.242      0.342      0.733      -0.392       0.557\n",
      "opposition_team_8      0.0676      0.244      0.277      0.782      -0.410       0.545\n",
      "opposition_team_9      0.5704      0.217      2.629      0.009       0.145       0.996\n",
      "opposition_team_10     0.4422      0.224      1.973      0.049       0.003       0.882\n",
      "opposition_team_11     0.0961      0.242      0.397      0.692      -0.379       0.571\n",
      "opposition_team_12    -0.7827      0.307     -2.548      0.011      -1.385      -0.181\n",
      "opposition_team_13    -0.6954      0.307     -2.264      0.024      -1.297      -0.093\n",
      "opposition_team_14     0.1128      0.241      0.467      0.640      -0.360       0.586\n",
      "opposition_team_15     0.0558      0.241      0.232      0.817      -0.416       0.528\n",
      "opposition_team_16     0.3072      0.230      1.334      0.182      -0.144       0.759\n",
      "opposition_team_17    -0.0861      0.253     -0.340      0.734      -0.582       0.410\n",
      "opposition_team_18     0.1412      0.239      0.590      0.555      -0.328       0.610\n",
      "opposition_team_19     0.2478      0.235      1.056      0.291      -0.212       0.708\n",
      "opposition_team_20     0.0354      0.245      0.144      0.885      -0.445       0.516\n",
      "own_team_2            -0.4399      0.207     -2.124      0.034      -0.846      -0.034\n",
      "own_team_3            -0.9165      0.241     -3.801      0.000      -1.389      -0.444\n",
      "own_team_4            -0.5712      0.214     -2.666      0.008      -0.991      -0.151\n",
      "own_team_5            -1.0576      0.253     -4.175      0.000      -1.554      -0.561\n",
      "own_team_6            -0.2044      0.189     -1.081      0.280      -0.575       0.166\n",
      "own_team_7            -0.5295      0.212     -2.495      0.013      -0.945      -0.114\n",
      "own_team_8            -0.5383      0.210     -2.562      0.010      -0.950      -0.126\n",
      "own_team_9            -0.8610      0.238     -3.617      0.000      -1.328      -0.394\n",
      "own_team_10           -1.2617      0.275     -4.594      0.000      -1.800      -0.723\n",
      "own_team_11           -0.5266      0.207     -2.547      0.011      -0.932      -0.121\n",
      "own_team_12           -0.1345      0.186     -0.725      0.469      -0.498       0.229\n",
      "own_team_13            0.1164      0.174      0.671      0.502      -0.224       0.456\n",
      "own_team_14           -0.1910      0.190     -1.003      0.316      -0.564       0.182\n",
      "own_team_15           -0.7544      0.226     -3.340      0.001      -1.197      -0.312\n",
      "own_team_16           -0.9309      0.245     -3.795      0.000      -1.412      -0.450\n",
      "own_team_17           -0.1276      0.188     -0.677      0.498      -0.497       0.242\n",
      "own_team_18           -0.3676      0.201     -1.832      0.067      -0.761       0.026\n",
      "own_team_19           -0.5337      0.209     -2.556      0.011      -0.943      -0.124\n",
      "own_team_20           -0.4194      0.205     -2.044      0.041      -0.822      -0.017\n",
      "======================================================================================\n"
     ]
    }
   ],
   "source": [
    "print(sptm_results.summary())"
   ]
  },
  {
   "cell_type": "markdown",
   "metadata": {
    "heading_collapsed": true,
    "hidden": true
   },
   "source": [
    "### Model fit"
   ]
  },
  {
   "cell_type": "code",
   "execution_count": 64,
   "metadata": {
    "ExecuteTime": {
     "end_time": "2019-04-09T16:44:42.567696Z",
     "start_time": "2019-04-09T16:44:42.557574Z"
    },
    "hidden": true
   },
   "outputs": [
    {
     "data": {
      "text/plain": [
       "5187.109037010568"
      ]
     },
     "execution_count": 64,
     "metadata": {},
     "output_type": "execute_result"
    }
   ],
   "source": [
    "sptm_results.aic"
   ]
  },
  {
   "cell_type": "code",
   "execution_count": 65,
   "metadata": {
    "ExecuteTime": {
     "end_time": "2019-04-09T16:44:42.595912Z",
     "start_time": "2019-04-09T16:44:42.575188Z"
    },
    "hidden": true
   },
   "outputs": [
    {
     "data": {
      "text/plain": [
       "-69509.05744688684"
      ]
     },
     "execution_count": 65,
     "metadata": {},
     "output_type": "execute_result"
    }
   ],
   "source": [
    "sptm_results.bic"
   ]
  },
  {
   "cell_type": "code",
   "execution_count": 66,
   "metadata": {
    "ExecuteTime": {
     "end_time": "2019-04-09T16:44:42.619624Z",
     "start_time": "2019-04-09T16:44:42.604167Z"
    },
    "hidden": true
   },
   "outputs": [
    {
     "data": {
      "text/plain": [
       "(True, 0.01515118055247322)"
      ]
     },
     "execution_count": 66,
     "metadata": {},
     "output_type": "execute_result"
    }
   ],
   "source": [
    "sptm_pearson_results = goodness_fit.pearson_chi_squared_test(sptm_results)\n",
    "sptm_pearson_results"
   ]
  },
  {
   "cell_type": "code",
   "execution_count": 67,
   "metadata": {
    "ExecuteTime": {
     "end_time": "2019-04-09T16:44:42.645605Z",
     "start_time": "2019-04-09T16:44:42.626997Z"
    },
    "hidden": true
   },
   "outputs": [
    {
     "data": {
      "text/plain": [
       "count    8161.000000\n",
       "mean       -0.227995\n",
       "std         0.625788\n",
       "min        -0.868829\n",
       "25%        -0.485633\n",
       "50%        -0.393194\n",
       "75%        -0.306295\n",
       "max         3.845635\n",
       "dtype: float64"
      ]
     },
     "execution_count": 67,
     "metadata": {},
     "output_type": "execute_result"
    }
   ],
   "source": [
    "sptm_results.resid_deviance.describe()"
   ]
  },
  {
   "cell_type": "code",
   "execution_count": 68,
   "metadata": {
    "ExecuteTime": {
     "end_time": "2019-04-09T16:44:42.929276Z",
     "start_time": "2019-04-09T16:44:42.647661Z"
    },
    "hidden": true
   },
   "outputs": [
    {
     "data": {
      "image/png": "[encoded data removed]",
      "text/plain": [
       "<Figure size 432x288 with 1 Axes>"
      ]
     },
     "metadata": {
      "needs_background": "light"
     },
     "output_type": "display_data"
    }
   ],
   "source": [
    "plt.figure()\n",
    "plt.hist(sptm_results.resid_deviance)\n",
    "plt.show()"
   ]
  },
  {
   "cell_type": "markdown",
   "metadata": {
    "heading_collapsed": true,
    "hidden": true
   },
   "source": [
    "## Simple Poisson teams minutes model"
   ]
  },
  {
   "cell_type": "markdown",
   "metadata": {
    "heading_collapsed": true,
    "hidden": true
   },
   "source": [
    "### Preparing data"
   ]
  },
  {
   "cell_type": "code",
   "execution_count": 69,
   "metadata": {
    "ExecuteTime": {
     "end_time": "2019-04-09T16:44:42.935955Z",
     "start_time": "2019-04-09T16:44:42.931433Z"
    },
    "hidden": true
   },
   "outputs": [],
   "source": [
    "sptmm_df = element_gameweek_df.copy()"
   ]
  },
  {
   "cell_type": "code",
   "execution_count": 70,
   "metadata": {
    "ExecuteTime": {
     "end_time": "2019-04-09T16:44:43.234152Z",
     "start_time": "2019-04-09T16:44:42.938073Z"
    },
    "hidden": true
   },
   "outputs": [],
   "source": [
    "sptmm_df = player.add_categorical_variables(sptmm_df, 'element_type')\n",
    "sptmm_df = player.add_categorical_variables(sptmm_df, 'opposition_team')\n",
    "sptmm_df = player.add_categorical_variables(sptmm_df, 'own_team')"
   ]
  },
  {
   "cell_type": "code",
   "execution_count": 71,
   "metadata": {
    "ExecuteTime": {
     "end_time": "2019-04-09T16:44:43.284026Z",
     "start_time": "2019-04-09T16:44:43.236871Z"
    },
    "hidden": true
   },
   "outputs": [],
   "source": [
    "sptmm_redundant_columns = [\n",
    "    'row_id', 'goals_scored', 'attempted_passes', 'big_chances_created',\n",
    "    'big_chances_missed', 'bonus', 'bps', 'clean_sheets',\n",
    "    'clearances_blocks_interceptions', 'completed_passes', 'creativity',\n",
    "    'dribbles', 'ea_index', 'element', 'errors_leading_to_goal',\n",
    "    'errors_leading_to_goal_attempt', 'fixture', 'fouls', 'goals_conceded',\n",
    "    'ict_index', 'id', 'influence', 'key_passes', 'kickoff_time',\n",
    "    'kickoff_time_formatted', 'loaned_in', 'loaned_out', 'offside',\n",
    "    'open_play_crosses', 'opponent_team', 'own_goals', 'penalties_conceded',\n",
    "    'penalties_missed', 'penalties_saved', 'recoveries', 'red_cards', 'round',\n",
    "    'saves', 'selected', 'tackled', 'tackles', 'target_missed', 'team_a_score',\n",
    "    'team_h_score', 'threat', 'total_points', 'transfers_balance',\n",
    "    'transfers_in', 'transfers_out', 'value', 'winning_goals',\n",
    "    'yellow_cards', 'event', 'team_a', 'team_a_difficulty', 'team_h',\n",
    "    'team_h_difficulty', 'element_type', 'team', 'web_name', 'safe_web_name',\n",
    "    'own_team', 'opposition_team', 'minutes',\n",
    "    'element_fixture_rank', 'minutes_rolling',\n",
    "    'goals_scored_rolling', 'assists_rolling',\n",
    "    'goals_scored_per_minute_rolling', 'assists_per_minute_rolling',\n",
    "    'minutes_per_fixture_rolling'\n",
    "]"
   ]
  },
  {
   "cell_type": "code",
   "execution_count": 72,
   "metadata": {
    "ExecuteTime": {
     "end_time": "2019-04-09T16:44:43.403609Z",
     "start_time": "2019-04-09T16:44:43.286191Z"
    },
    "hidden": true
   },
   "outputs": [],
   "source": [
    "sptmm_df['log_minutes'] = np.log(sptmm_df['minutes'])"
   ]
  },
  {
   "cell_type": "code",
   "execution_count": 73,
   "metadata": {
    "ExecuteTime": {
     "end_time": "2019-04-09T16:44:43.465028Z",
     "start_time": "2019-04-09T16:44:43.405708Z"
    },
    "hidden": true
   },
   "outputs": [],
   "source": [
    "sptmm_df = player.remove_redundant_columns(sptmm_df, sptmm_redundant_columns)"
   ]
  },
  {
   "cell_type": "code",
   "execution_count": 74,
   "metadata": {
    "ExecuteTime": {
     "end_time": "2019-04-09T16:44:43.517697Z",
     "start_time": "2019-04-09T16:44:43.468258Z"
    },
    "hidden": true
   },
   "outputs": [],
   "source": [
    "sptmm_response_df, sptmm_explanatory_df = player.get_response_explanatory_dfs(sptmm_df, 'assists')"
   ]
  },
  {
   "cell_type": "code",
   "execution_count": 75,
   "metadata": {
    "ExecuteTime": {
     "end_time": "2019-04-09T16:44:43.530012Z",
     "start_time": "2019-04-09T16:44:43.520107Z"
    },
    "hidden": true
   },
   "outputs": [
    {
     "data": {
      "text/plain": [
       "Index(['const', 'was_home', 'element_type_3', 'element_type_4',\n",
       "       'opposition_team_2', 'opposition_team_3', 'opposition_team_4',\n",
       "       'opposition_team_5', 'opposition_team_6', 'opposition_team_7',\n",
       "       'opposition_team_8', 'opposition_team_9', 'opposition_team_10',\n",
       "       'opposition_team_11', 'opposition_team_12', 'opposition_team_13',\n",
       "       'opposition_team_14', 'opposition_team_15', 'opposition_team_16',\n",
       "       'opposition_team_17', 'opposition_team_18', 'opposition_team_19',\n",
       "       'opposition_team_20', 'own_team_2', 'own_team_3', 'own_team_4',\n",
       "       'own_team_5', 'own_team_6', 'own_team_7', 'own_team_8', 'own_team_9',\n",
       "       'own_team_10', 'own_team_11', 'own_team_12', 'own_team_13',\n",
       "       'own_team_14', 'own_team_15', 'own_team_16', 'own_team_17',\n",
       "       'own_team_18', 'own_team_19', 'own_team_20', 'log_minutes'],\n",
       "      dtype='object')"
      ]
     },
     "execution_count": 75,
     "metadata": {},
     "output_type": "execute_result"
    }
   ],
   "source": [
    "sptmm_explanatory_df.columns"
   ]
  },
  {
   "cell_type": "markdown",
   "metadata": {
    "heading_collapsed": true,
    "hidden": true
   },
   "source": [
    "### Fitting model"
   ]
  },
  {
   "cell_type": "code",
   "execution_count": 76,
   "metadata": {
    "ExecuteTime": {
     "end_time": "2019-04-09T16:44:43.780433Z",
     "start_time": "2019-04-09T16:44:43.533321Z"
    },
    "hidden": true
   },
   "outputs": [],
   "source": [
    "sptmm_results = sm.GLM(\n",
    "    sptmm_response_df,\n",
    "    sptmm_explanatory_df,\n",
    "    family=sm.families.Poisson(),\n",
    "    missing='drop'\n",
    ").fit()"
   ]
  },
  {
   "cell_type": "code",
   "execution_count": 77,
   "metadata": {
    "ExecuteTime": {
     "end_time": "2019-04-09T16:44:43.835035Z",
     "start_time": "2019-04-09T16:44:43.784033Z"
    },
    "hidden": true
   },
   "outputs": [
    {
     "name": "stdout",
     "output_type": "stream",
     "text": [
      "                 Generalized Linear Model Regression Results                  \n",
      "==============================================================================\n",
      "Dep. Variable:                assists   No. Observations:                 8161\n",
      "Model:                            GLM   Df Residuals:                     8118\n",
      "Model Family:                 Poisson   Df Model:                           42\n",
      "Link Function:                    log   Scale:                             1.0\n",
      "Method:                          IRLS   Log-Likelihood:                -2488.6\n",
      "Date:                Tue, 09 Apr 2019   Deviance:                       3493.8\n",
      "Time:                        16:44:43   Pearson chi2:                 8.30e+03\n",
      "No. Iterations:                     6                                         \n",
      "======================================================================================\n",
      "                         coef    std err          z      P>|z|      [0.025      0.975]\n",
      "--------------------------------------------------------------------------------------\n",
      "const                 -5.3312      0.388    -13.741      0.000      -6.092      -4.571\n",
      "was_home               0.1934      0.072      2.687      0.007       0.052       0.334\n",
      "element_type_3         0.6865      0.088      7.760      0.000       0.513       0.860\n",
      "element_type_4         0.9565      0.109      8.770      0.000       0.743       1.170\n",
      "opposition_team_2      0.3963      0.226      1.756      0.079      -0.046       0.839\n",
      "opposition_team_3      0.1002      0.244      0.411      0.681      -0.377       0.578\n",
      "opposition_team_4      0.4107      0.227      1.808      0.071      -0.035       0.856\n",
      "opposition_team_5      0.4539      0.223      2.033      0.042       0.016       0.892\n",
      "opposition_team_6     -0.1464      0.260     -0.563      0.573      -0.656       0.363\n",
      "opposition_team_7      0.0989      0.242      0.408      0.683      -0.376       0.573\n",
      "opposition_team_8      0.0789      0.244      0.324      0.746      -0.398       0.556\n",
      "opposition_team_9      0.5824      0.217      2.685      0.007       0.157       1.008\n",
      "opposition_team_10     0.4491      0.224      2.004      0.045       0.010       0.888\n",
      "opposition_team_11     0.1067      0.242      0.440      0.660      -0.368       0.582\n",
      "opposition_team_12    -0.7679      0.307     -2.500      0.012      -1.370      -0.166\n",
      "opposition_team_13    -0.6872      0.307     -2.238      0.025      -1.289      -0.085\n",
      "opposition_team_14     0.1260      0.241      0.522      0.602      -0.347       0.599\n",
      "opposition_team_15     0.0635      0.241      0.264      0.792      -0.409       0.536\n",
      "opposition_team_16     0.3116      0.230      1.353      0.176      -0.140       0.763\n",
      "opposition_team_17    -0.0681      0.253     -0.269      0.788      -0.564       0.428\n",
      "opposition_team_18     0.1354      0.239      0.566      0.571      -0.333       0.604\n",
      "opposition_team_19     0.2554      0.235      1.089      0.276      -0.204       0.715\n",
      "opposition_team_20     0.0325      0.245      0.133      0.894      -0.448       0.513\n",
      "own_team_2            -0.4385      0.207     -2.117      0.034      -0.844      -0.033\n",
      "own_team_3            -0.9172      0.241     -3.804      0.000      -1.390      -0.445\n",
      "own_team_4            -0.5939      0.214     -2.773      0.006      -1.014      -0.174\n",
      "own_team_5            -1.0329      0.253     -4.076      0.000      -1.530      -0.536\n",
      "own_team_6            -0.1816      0.189     -0.960      0.337      -0.553       0.189\n",
      "own_team_7            -0.5426      0.212     -2.558      0.011      -0.958      -0.127\n",
      "own_team_8            -0.5011      0.210     -2.383      0.017      -0.913      -0.089\n",
      "own_team_9            -0.8558      0.238     -3.595      0.000      -1.322      -0.389\n",
      "own_team_10           -1.2443      0.275     -4.531      0.000      -1.783      -0.706\n",
      "own_team_11           -0.4958      0.207     -2.398      0.016      -0.901      -0.091\n",
      "own_team_12           -0.1187      0.186     -0.639      0.523      -0.483       0.245\n",
      "own_team_13            0.1224      0.174      0.705      0.481      -0.218       0.463\n",
      "own_team_14           -0.1802      0.190     -0.946      0.344      -0.553       0.193\n",
      "own_team_15           -0.7727      0.226     -3.421      0.001      -1.215      -0.330\n",
      "own_team_16           -0.9145      0.245     -3.730      0.000      -1.395      -0.434\n",
      "own_team_17           -0.1108      0.188     -0.588      0.557      -0.480       0.259\n",
      "own_team_18           -0.3678      0.201     -1.833      0.067      -0.761       0.026\n",
      "own_team_19           -0.5125      0.209     -2.454      0.014      -0.922      -0.103\n",
      "own_team_20           -0.3819      0.205     -1.861      0.063      -0.784       0.020\n",
      "log_minutes            0.6348      0.070      9.063      0.000       0.498       0.772\n",
      "======================================================================================\n"
     ]
    }
   ],
   "source": [
    "print(sptmm_results.summary())"
   ]
  },
  {
   "cell_type": "markdown",
   "metadata": {
    "heading_collapsed": true,
    "hidden": true
   },
   "source": [
    "### Model fit"
   ]
  },
  {
   "cell_type": "code",
   "execution_count": 78,
   "metadata": {
    "ExecuteTime": {
     "end_time": "2019-04-09T16:44:43.852223Z",
     "start_time": "2019-04-09T16:44:43.842369Z"
    },
    "hidden": true
   },
   "outputs": [
    {
     "data": {
      "text/plain": [
       "5063.101860124214"
      ]
     },
     "execution_count": 78,
     "metadata": {},
     "output_type": "execute_result"
    }
   ],
   "source": [
    "sptmm_results.aic"
   ]
  },
  {
   "cell_type": "code",
   "execution_count": 79,
   "metadata": {
    "ExecuteTime": {
     "end_time": "2019-04-09T16:44:43.881128Z",
     "start_time": "2019-04-09T16:44:43.859512Z"
    },
    "hidden": true
   },
   "outputs": [
    {
     "data": {
      "text/plain": [
       "-69626.05750178373"
      ]
     },
     "execution_count": 79,
     "metadata": {},
     "output_type": "execute_result"
    }
   ],
   "source": [
    "sptmm_results.bic"
   ]
  },
  {
   "cell_type": "code",
   "execution_count": 80,
   "metadata": {
    "ExecuteTime": {
     "end_time": "2019-04-09T16:44:43.909135Z",
     "start_time": "2019-04-09T16:44:43.883811Z"
    },
    "hidden": true
   },
   "outputs": [
    {
     "data": {
      "text/plain": [
       "(False, 0.07210762979361185)"
      ]
     },
     "execution_count": 80,
     "metadata": {},
     "output_type": "execute_result"
    }
   ],
   "source": [
    "sptmm_pearson_results = goodness_fit.pearson_chi_squared_test(sptmm_results)\n",
    "sptmm_pearson_results"
   ]
  },
  {
   "cell_type": "code",
   "execution_count": 81,
   "metadata": {
    "ExecuteTime": {
     "end_time": "2019-04-09T16:44:43.933561Z",
     "start_time": "2019-04-09T16:44:43.915071Z"
    },
    "hidden": true
   },
   "outputs": [
    {
     "data": {
      "text/plain": [
       "count    8161.000000\n",
       "mean       -0.220616\n",
       "std         0.616019\n",
       "min        -0.970411\n",
       "25%        -0.481391\n",
       "50%        -0.373254\n",
       "75%        -0.268547\n",
       "max         3.792956\n",
       "dtype: float64"
      ]
     },
     "execution_count": 81,
     "metadata": {},
     "output_type": "execute_result"
    }
   ],
   "source": [
    "sptmm_results.resid_deviance.describe()"
   ]
  },
  {
   "cell_type": "code",
   "execution_count": 82,
   "metadata": {
    "ExecuteTime": {
     "end_time": "2019-04-09T16:44:44.177498Z",
     "start_time": "2019-04-09T16:44:43.935725Z"
    },
    "hidden": true
   },
   "outputs": [
    {
     "data": {
      "image/png": "[encoded data removed]",
      "text/plain": [
       "<Figure size 432x288 with 1 Axes>"
      ]
     },
     "metadata": {
      "needs_background": "light"
     },
     "output_type": "display_data"
    }
   ],
   "source": [
    "plt.figure()\n",
    "plt.hist(sptmm_results.resid_deviance)\n",
    "plt.show()"
   ]
  },
  {
   "cell_type": "markdown",
   "metadata": {
    "heading_collapsed": true,
    "hidden": true
   },
   "source": [
    "## Simple Poisson teams exposure model"
   ]
  },
  {
   "cell_type": "markdown",
   "metadata": {
    "heading_collapsed": true,
    "hidden": true
   },
   "source": [
    "### Preparing data"
   ]
  },
  {
   "cell_type": "code",
   "execution_count": 83,
   "metadata": {
    "ExecuteTime": {
     "end_time": "2019-04-09T16:44:44.184943Z",
     "start_time": "2019-04-09T16:44:44.179749Z"
    },
    "hidden": true
   },
   "outputs": [],
   "source": [
    "eptmm_df = element_gameweek_df.copy()"
   ]
  },
  {
   "cell_type": "code",
   "execution_count": 84,
   "metadata": {
    "ExecuteTime": {
     "end_time": "2019-04-09T16:44:44.226293Z",
     "start_time": "2019-04-09T16:44:44.187038Z"
    },
    "hidden": true
   },
   "outputs": [],
   "source": [
    "eptmm_df = player.add_categorical_variables(eptmm_df, 'element_type')\n",
    "eptmm_df = player.add_categorical_variables(eptmm_df, 'opposition_team')\n",
    "eptmm_df = player.add_categorical_variables(eptmm_df, 'own_team')"
   ]
  },
  {
   "cell_type": "code",
   "execution_count": 85,
   "metadata": {
    "ExecuteTime": {
     "end_time": "2019-04-09T16:44:44.235572Z",
     "start_time": "2019-04-09T16:44:44.228524Z"
    },
    "hidden": true
   },
   "outputs": [],
   "source": [
    "eptmm_redundant_columns = [\n",
    "    'row_id', 'goals_scored', 'attempted_passes', 'big_chances_created',\n",
    "    'big_chances_missed', 'bonus', 'bps', 'clean_sheets',\n",
    "    'clearances_blocks_interceptions', 'completed_passes', 'creativity',\n",
    "    'dribbles', 'ea_index', 'element', 'errors_leading_to_goal',\n",
    "    'errors_leading_to_goal_attempt', 'fixture', 'fouls', 'goals_conceded',\n",
    "    'ict_index', 'id', 'influence', 'key_passes', 'kickoff_time',\n",
    "    'kickoff_time_formatted', 'loaned_in', 'loaned_out', 'offside',\n",
    "    'open_play_crosses', 'opponent_team', 'own_goals', 'penalties_conceded',\n",
    "    'penalties_missed', 'penalties_saved', 'recoveries', 'red_cards', 'round',\n",
    "    'saves', 'selected', 'tackled', 'tackles', 'target_missed', 'team_a_score',\n",
    "    'team_h_score', 'threat', 'total_points', 'transfers_balance',\n",
    "    'transfers_in', 'transfers_out', 'value', 'winning_goals',\n",
    "    'yellow_cards', 'event', 'team_a', 'team_a_difficulty', 'team_h',\n",
    "    'team_h_difficulty', 'element_type', 'team', 'web_name', 'safe_web_name',\n",
    "    'own_team', 'opposition_team', 'minutes',\n",
    "    'element_fixture_rank', 'minutes_rolling',\n",
    "    'goals_scored_rolling', 'assists_rolling',\n",
    "    'goals_scored_per_minute_rolling', 'assists_per_minute_rolling',\n",
    "    'minutes_per_fixture_rolling'\n",
    "]"
   ]
  },
  {
   "cell_type": "code",
   "execution_count": 86,
   "metadata": {
    "ExecuteTime": {
     "end_time": "2019-04-09T16:44:44.260583Z",
     "start_time": "2019-04-09T16:44:44.237609Z"
    },
    "hidden": true
   },
   "outputs": [],
   "source": [
    "eptmm_exposure = eptmm_df['minutes']"
   ]
  },
  {
   "cell_type": "code",
   "execution_count": 87,
   "metadata": {
    "ExecuteTime": {
     "end_time": "2019-04-09T16:44:44.292231Z",
     "start_time": "2019-04-09T16:44:44.262623Z"
    },
    "hidden": true
   },
   "outputs": [],
   "source": [
    "eptmm_df = player.remove_redundant_columns(eptmm_df, eptmm_redundant_columns)"
   ]
  },
  {
   "cell_type": "code",
   "execution_count": 88,
   "metadata": {
    "ExecuteTime": {
     "end_time": "2019-04-09T16:44:44.328545Z",
     "start_time": "2019-04-09T16:44:44.294547Z"
    },
    "hidden": true
   },
   "outputs": [],
   "source": [
    "eptmm_response_df, eptmm_explanatory_df = player.get_response_explanatory_dfs(eptmm_df, 'assists')"
   ]
  },
  {
   "cell_type": "code",
   "execution_count": 89,
   "metadata": {
    "ExecuteTime": {
     "end_time": "2019-04-09T16:44:44.337499Z",
     "start_time": "2019-04-09T16:44:44.330612Z"
    },
    "hidden": true
   },
   "outputs": [
    {
     "data": {
      "text/plain": [
       "Index(['const', 'was_home', 'element_type_3', 'element_type_4',\n",
       "       'opposition_team_2', 'opposition_team_3', 'opposition_team_4',\n",
       "       'opposition_team_5', 'opposition_team_6', 'opposition_team_7',\n",
       "       'opposition_team_8', 'opposition_team_9', 'opposition_team_10',\n",
       "       'opposition_team_11', 'opposition_team_12', 'opposition_team_13',\n",
       "       'opposition_team_14', 'opposition_team_15', 'opposition_team_16',\n",
       "       'opposition_team_17', 'opposition_team_18', 'opposition_team_19',\n",
       "       'opposition_team_20', 'own_team_2', 'own_team_3', 'own_team_4',\n",
       "       'own_team_5', 'own_team_6', 'own_team_7', 'own_team_8', 'own_team_9',\n",
       "       'own_team_10', 'own_team_11', 'own_team_12', 'own_team_13',\n",
       "       'own_team_14', 'own_team_15', 'own_team_16', 'own_team_17',\n",
       "       'own_team_18', 'own_team_19', 'own_team_20'],\n",
       "      dtype='object')"
      ]
     },
     "execution_count": 89,
     "metadata": {},
     "output_type": "execute_result"
    }
   ],
   "source": [
    "eptmm_explanatory_df.columns"
   ]
  },
  {
   "cell_type": "markdown",
   "metadata": {
    "heading_collapsed": true,
    "hidden": true
   },
   "source": [
    "### Fitting model"
   ]
  },
  {
   "cell_type": "code",
   "execution_count": 90,
   "metadata": {
    "ExecuteTime": {
     "end_time": "2019-04-09T16:44:44.535883Z",
     "start_time": "2019-04-09T16:44:44.339479Z"
    },
    "hidden": true
   },
   "outputs": [],
   "source": [
    "eptmm_results = sm.GLM(\n",
    "    eptmm_response_df,\n",
    "    eptmm_explanatory_df,\n",
    "    family=sm.families.Poisson(),\n",
    "    missing='drop',\n",
    "    exposure=eptmm_exposure\n",
    ").fit()"
   ]
  },
  {
   "cell_type": "code",
   "execution_count": 91,
   "metadata": {
    "ExecuteTime": {
     "end_time": "2019-04-09T16:44:44.594225Z",
     "start_time": "2019-04-09T16:44:44.544117Z"
    },
    "hidden": true
   },
   "outputs": [
    {
     "name": "stdout",
     "output_type": "stream",
     "text": [
      "                 Generalized Linear Model Regression Results                  \n",
      "==============================================================================\n",
      "Dep. Variable:                assists   No. Observations:                 8161\n",
      "Model:                            GLM   Df Residuals:                     8119\n",
      "Model Family:                 Poisson   Df Model:                           41\n",
      "Link Function:                    log   Scale:                             1.0\n",
      "Method:                          IRLS   Log-Likelihood:                -2499.8\n",
      "Date:                Tue, 09 Apr 2019   Deviance:                       3516.2\n",
      "Time:                        16:44:44   Pearson chi2:                 9.90e+03\n",
      "No. Iterations:                     6                                         \n",
      "======================================================================================\n",
      "                         coef    std err          z      P>|z|      [0.025      0.975]\n",
      "--------------------------------------------------------------------------------------\n",
      "const                 -6.9478      0.234    -29.673      0.000      -7.407      -6.489\n",
      "was_home               0.1924      0.072      2.673      0.008       0.051       0.333\n",
      "element_type_3         0.7407      0.088      8.453      0.000       0.569       0.912\n",
      "element_type_4         1.0457      0.107      9.761      0.000       0.836       1.256\n",
      "opposition_team_2      0.3960      0.226      1.755      0.079      -0.046       0.838\n",
      "opposition_team_3      0.0972      0.244      0.399      0.690      -0.380       0.575\n",
      "opposition_team_4      0.4132      0.227      1.819      0.069      -0.032       0.858\n",
      "opposition_team_5      0.4497      0.223      2.014      0.044       0.012       0.887\n",
      "opposition_team_6     -0.1447      0.260     -0.557      0.578      -0.654       0.365\n",
      "opposition_team_7      0.0975      0.242      0.403      0.687      -0.377       0.572\n",
      "opposition_team_8      0.0793      0.244      0.326      0.745      -0.398       0.557\n",
      "opposition_team_9      0.5811      0.217      2.679      0.007       0.156       1.006\n",
      "opposition_team_10     0.4513      0.224      2.013      0.044       0.012       0.891\n",
      "opposition_team_11     0.1093      0.242      0.451      0.652      -0.366       0.584\n",
      "opposition_team_12    -0.7662      0.307     -2.495      0.013      -1.368      -0.164\n",
      "opposition_team_13    -0.6820      0.307     -2.221      0.026      -1.284      -0.080\n",
      "opposition_team_14     0.1241      0.241      0.514      0.607      -0.349       0.597\n",
      "opposition_team_15     0.0668      0.241      0.277      0.782      -0.405       0.539\n",
      "opposition_team_16     0.3112      0.230      1.352      0.177      -0.140       0.762\n",
      "opposition_team_17    -0.0628      0.253     -0.248      0.804      -0.559       0.434\n",
      "opposition_team_18     0.1320      0.239      0.552      0.581      -0.337       0.601\n",
      "opposition_team_19     0.2542      0.235      1.083      0.279      -0.206       0.714\n",
      "opposition_team_20     0.0319      0.245      0.130      0.896      -0.449       0.512\n",
      "own_team_2            -0.4594      0.207     -2.218      0.027      -0.865      -0.054\n",
      "own_team_3            -0.9235      0.241     -3.830      0.000      -1.396      -0.451\n",
      "own_team_4            -0.6101      0.214     -2.850      0.004      -1.030      -0.191\n",
      "own_team_5            -1.0368      0.253     -4.091      0.000      -1.534      -0.540\n",
      "own_team_6            -0.1743      0.189     -0.921      0.357      -0.545       0.197\n",
      "own_team_7            -0.5660      0.212     -2.669      0.008      -0.982      -0.150\n",
      "own_team_8            -0.5030      0.210     -2.392      0.017      -0.915      -0.091\n",
      "own_team_9            -0.8574      0.238     -3.602      0.000      -1.324      -0.391\n",
      "own_team_10           -1.2438      0.275     -4.529      0.000      -1.782      -0.706\n",
      "own_team_11           -0.4951      0.207     -2.394      0.017      -0.900      -0.090\n",
      "own_team_12           -0.1296      0.186     -0.698      0.485      -0.494       0.234\n",
      "own_team_13            0.1152      0.174      0.664      0.507      -0.225       0.455\n",
      "own_team_14           -0.1865      0.190     -0.980      0.327      -0.560       0.187\n",
      "own_team_15           -0.7907      0.226     -3.502      0.000      -1.233      -0.348\n",
      "own_team_16           -0.9150      0.245     -3.732      0.000      -1.396      -0.434\n",
      "own_team_17           -0.1270      0.188     -0.674      0.500      -0.496       0.242\n",
      "own_team_18           -0.3806      0.201     -1.897      0.058      -0.774       0.013\n",
      "own_team_19           -0.4991      0.209     -2.391      0.017      -0.908      -0.090\n",
      "own_team_20           -0.3786      0.205     -1.845      0.065      -0.781       0.024\n",
      "======================================================================================\n"
     ]
    }
   ],
   "source": [
    "print(eptmm_results.summary())"
   ]
  },
  {
   "cell_type": "markdown",
   "metadata": {
    "heading_collapsed": true,
    "hidden": true
   },
   "source": [
    "### Model fit"
   ]
  },
  {
   "cell_type": "code",
   "execution_count": 92,
   "metadata": {
    "ExecuteTime": {
     "end_time": "2019-04-09T16:44:44.611404Z",
     "start_time": "2019-04-09T16:44:44.601454Z"
    },
    "hidden": true
   },
   "outputs": [
    {
     "data": {
      "text/plain": [
       "5083.547507390469"
      ]
     },
     "execution_count": 92,
     "metadata": {},
     "output_type": "execute_result"
    }
   ],
   "source": [
    "eptmm_results.aic"
   ]
  },
  {
   "cell_type": "code",
   "execution_count": 93,
   "metadata": {
    "ExecuteTime": {
     "end_time": "2019-04-09T16:44:44.638891Z",
     "start_time": "2019-04-09T16:44:44.614560Z"
    },
    "hidden": true
   },
   "outputs": [
    {
     "data": {
      "text/plain": [
       "-69612.61897650694"
      ]
     },
     "execution_count": 93,
     "metadata": {},
     "output_type": "execute_result"
    }
   ],
   "source": [
    "eptmm_results.bic"
   ]
  },
  {
   "cell_type": "code",
   "execution_count": 94,
   "metadata": {
    "ExecuteTime": {
     "end_time": "2019-04-09T16:44:44.664866Z",
     "start_time": "2019-04-09T16:44:44.641390Z"
    },
    "hidden": true
   },
   "outputs": [
    {
     "data": {
      "text/plain": [
       "(True, 0.0)"
      ]
     },
     "execution_count": 94,
     "metadata": {},
     "output_type": "execute_result"
    }
   ],
   "source": [
    "eptmm_pearson_results = goodness_fit.pearson_chi_squared_test(eptmm_results)\n",
    "eptmm_pearson_results"
   ]
  },
  {
   "cell_type": "code",
   "execution_count": 95,
   "metadata": {
    "ExecuteTime": {
     "end_time": "2019-04-09T16:44:44.693560Z",
     "start_time": "2019-04-09T16:44:44.667970Z"
    },
    "hidden": true
   },
   "outputs": [
    {
     "data": {
      "text/plain": [
       "count    8161.000000\n",
       "mean       -0.212277\n",
       "std         0.621160\n",
       "min        -1.025235\n",
       "25%        -0.485448\n",
       "50%        -0.365235\n",
       "75%        -0.242721\n",
       "max         3.929502\n",
       "dtype: float64"
      ]
     },
     "execution_count": 95,
     "metadata": {},
     "output_type": "execute_result"
    }
   ],
   "source": [
    "eptmm_results.resid_deviance.describe()"
   ]
  },
  {
   "cell_type": "code",
   "execution_count": 96,
   "metadata": {
    "ExecuteTime": {
     "end_time": "2019-04-09T16:44:44.948689Z",
     "start_time": "2019-04-09T16:44:44.695638Z"
    },
    "hidden": true
   },
   "outputs": [
    {
     "data": {
      "image/png": "[encoded data removed]",
      "text/plain": [
       "<Figure size 432x288 with 1 Axes>"
      ]
     },
     "metadata": {
      "needs_background": "light"
     },
     "output_type": "display_data"
    }
   ],
   "source": [
    "plt.figure()\n",
    "plt.hist(eptmm_results.resid_deviance)\n",
    "plt.show()"
   ]
  },
  {
   "cell_type": "markdown",
   "metadata": {
    "heading_collapsed": true,
    "hidden": true
   },
   "source": [
    "## Simple Poisson teams exposure model"
   ]
  },
  {
   "cell_type": "markdown",
   "metadata": {
    "heading_collapsed": true,
    "hidden": true
   },
   "source": [
    "### Preparing data"
   ]
  },
  {
   "cell_type": "code",
   "execution_count": 97,
   "metadata": {
    "ExecuteTime": {
     "end_time": "2019-04-09T16:44:44.955116Z",
     "start_time": "2019-04-09T16:44:44.950899Z"
    },
    "hidden": true
   },
   "outputs": [],
   "source": [
    "eptmmf_df = element_gameweek_df.copy()"
   ]
  },
  {
   "cell_type": "code",
   "execution_count": 98,
   "metadata": {
    "ExecuteTime": {
     "end_time": "2019-04-09T16:44:44.993308Z",
     "start_time": "2019-04-09T16:44:44.957258Z"
    },
    "hidden": true
   },
   "outputs": [],
   "source": [
    "eptmmf_df = player.add_categorical_variables(eptmmf_df, 'element_type')\n",
    "eptmmf_df = player.add_categorical_variables(eptmmf_df, 'opposition_team')\n",
    "eptmmf_df = player.add_categorical_variables(eptmmf_df, 'own_team')"
   ]
  },
  {
   "cell_type": "code",
   "execution_count": 99,
   "metadata": {
    "ExecuteTime": {
     "end_time": "2019-04-09T16:44:45.003278Z",
     "start_time": "2019-04-09T16:44:44.995706Z"
    },
    "hidden": true
   },
   "outputs": [],
   "source": [
    "eptmmf_redundant_columns = [\n",
    "    'row_id', 'goals_scored', 'attempted_passes', 'big_chances_created',\n",
    "    'big_chances_missed', 'bonus', 'bps', 'clean_sheets',\n",
    "    'clearances_blocks_interceptions', 'completed_passes', 'creativity',\n",
    "    'dribbles', 'ea_index', 'element', 'errors_leading_to_goal',\n",
    "    'errors_leading_to_goal_attempt', 'fixture', 'fouls', 'goals_conceded',\n",
    "    'ict_index', 'id', 'influence', 'key_passes', 'kickoff_time',\n",
    "    'kickoff_time_formatted', 'loaned_in', 'loaned_out', 'offside',\n",
    "    'open_play_crosses', 'opponent_team', 'own_goals', 'penalties_conceded',\n",
    "    'penalties_missed', 'penalties_saved', 'recoveries', 'red_cards', 'round',\n",
    "    'saves', 'selected', 'tackled', 'tackles', 'target_missed', 'team_a_score',\n",
    "    'team_h_score', 'threat', 'total_points', 'transfers_balance',\n",
    "    'transfers_in', 'transfers_out', 'value', 'winning_goals',\n",
    "    'yellow_cards', 'event', 'team_a', 'team_a_difficulty', 'team_h',\n",
    "    'team_h_difficulty', 'element_type', 'team', 'web_name', 'safe_web_name',\n",
    "    'own_team', 'opposition_team', 'minutes',\n",
    "    'element_fixture_rank', 'minutes_rolling',\n",
    "    'goals_scored_rolling', 'assists_rolling'\n",
    "]"
   ]
  },
  {
   "cell_type": "code",
   "execution_count": 100,
   "metadata": {
    "ExecuteTime": {
     "end_time": "2019-04-09T16:44:45.028068Z",
     "start_time": "2019-04-09T16:44:45.005409Z"
    },
    "hidden": true
   },
   "outputs": [],
   "source": [
    "eptmmf_exposure = eptmmf_df['minutes']"
   ]
  },
  {
   "cell_type": "code",
   "execution_count": 101,
   "metadata": {
    "ExecuteTime": {
     "end_time": "2019-04-09T16:44:45.068285Z",
     "start_time": "2019-04-09T16:44:45.030298Z"
    },
    "hidden": true
   },
   "outputs": [],
   "source": [
    "eptmmf_df = player.remove_redundant_columns(eptmmf_df, eptmmf_redundant_columns)"
   ]
  },
  {
   "cell_type": "code",
   "execution_count": 102,
   "metadata": {
    "ExecuteTime": {
     "end_time": "2019-04-09T16:44:45.104547Z",
     "start_time": "2019-04-09T16:44:45.070567Z"
    },
    "hidden": true
   },
   "outputs": [],
   "source": [
    "eptmmf_response_df, eptmmf_explanatory_df = player.get_response_explanatory_dfs(eptmmf_df, 'assists')"
   ]
  },
  {
   "cell_type": "code",
   "execution_count": 103,
   "metadata": {
    "ExecuteTime": {
     "end_time": "2019-04-09T16:44:45.113433Z",
     "start_time": "2019-04-09T16:44:45.106933Z"
    },
    "hidden": true
   },
   "outputs": [
    {
     "data": {
      "text/plain": [
       "Index(['const', 'was_home', 'goals_scored_per_minute_rolling',\n",
       "       'assists_per_minute_rolling', 'minutes_per_fixture_rolling',\n",
       "       'element_type_3', 'element_type_4', 'opposition_team_2',\n",
       "       'opposition_team_3', 'opposition_team_4', 'opposition_team_5',\n",
       "       'opposition_team_6', 'opposition_team_7', 'opposition_team_8',\n",
       "       'opposition_team_9', 'opposition_team_10', 'opposition_team_11',\n",
       "       'opposition_team_12', 'opposition_team_13', 'opposition_team_14',\n",
       "       'opposition_team_15', 'opposition_team_16', 'opposition_team_17',\n",
       "       'opposition_team_18', 'opposition_team_19', 'opposition_team_20',\n",
       "       'own_team_2', 'own_team_3', 'own_team_4', 'own_team_5', 'own_team_6',\n",
       "       'own_team_7', 'own_team_8', 'own_team_9', 'own_team_10', 'own_team_11',\n",
       "       'own_team_12', 'own_team_13', 'own_team_14', 'own_team_15',\n",
       "       'own_team_16', 'own_team_17', 'own_team_18', 'own_team_19',\n",
       "       'own_team_20'],\n",
       "      dtype='object')"
      ]
     },
     "execution_count": 103,
     "metadata": {},
     "output_type": "execute_result"
    }
   ],
   "source": [
    "eptmmf_explanatory_df.columns"
   ]
  },
  {
   "cell_type": "markdown",
   "metadata": {
    "heading_collapsed": true,
    "hidden": true
   },
   "source": [
    "### Fitting model"
   ]
  },
  {
   "cell_type": "code",
   "execution_count": 104,
   "metadata": {
    "ExecuteTime": {
     "end_time": "2019-04-09T16:44:45.392301Z",
     "start_time": "2019-04-09T16:44:45.115498Z"
    },
    "hidden": true
   },
   "outputs": [],
   "source": [
    "eptmmf_results = sm.GLM(\n",
    "    eptmmf_response_df,\n",
    "    eptmmf_explanatory_df,\n",
    "    family=sm.families.Poisson(),\n",
    "    missing='drop',\n",
    "    exposure=eptmmf_exposure\n",
    ").fit()"
   ]
  },
  {
   "cell_type": "code",
   "execution_count": 105,
   "metadata": {
    "ExecuteTime": {
     "end_time": "2019-04-09T16:44:45.453103Z",
     "start_time": "2019-04-09T16:44:45.400524Z"
    },
    "hidden": true
   },
   "outputs": [
    {
     "name": "stdout",
     "output_type": "stream",
     "text": [
      "                 Generalized Linear Model Regression Results                  \n",
      "==============================================================================\n",
      "Dep. Variable:                assists   No. Observations:                 7702\n",
      "Model:                            GLM   Df Residuals:                     7657\n",
      "Model Family:                 Poisson   Df Model:                           44\n",
      "Link Function:                    log   Scale:                             1.0\n",
      "Method:                          IRLS   Log-Likelihood:                -2377.3\n",
      "Date:                Tue, 09 Apr 2019   Deviance:                       3330.5\n",
      "Time:                        16:44:45   Pearson chi2:                 9.12e+03\n",
      "No. Iterations:                     8                                         \n",
      "===================================================================================================\n",
      "                                      coef    std err          z      P>|z|      [0.025      0.975]\n",
      "---------------------------------------------------------------------------------------------------\n",
      "const                              -6.8384      0.281    -24.355      0.000      -7.389      -6.288\n",
      "was_home                            0.1949      0.074      2.647      0.008       0.051       0.339\n",
      "goals_scored_per_minute_rolling     8.2676      4.571      1.809      0.071      -0.692      17.228\n",
      "assists_per_minute_rolling         25.7389      5.558      4.631      0.000      14.845      36.632\n",
      "minutes_per_fixture_rolling        -0.0028      0.002     -1.385      0.166      -0.007       0.001\n",
      "element_type_3                      0.7231      0.093      7.778      0.000       0.541       0.905\n",
      "element_type_4                      0.9508      0.117      8.124      0.000       0.721       1.180\n",
      "opposition_team_2                   0.4568      0.233      1.961      0.050       0.000       0.913\n",
      "opposition_team_3                   0.1266      0.254      0.499      0.618      -0.370       0.624\n",
      "opposition_team_4                   0.4618      0.235      1.967      0.049       0.002       0.922\n",
      "opposition_team_5                   0.4950      0.232      2.130      0.033       0.040       0.950\n",
      "opposition_team_6                  -0.0603      0.266     -0.226      0.821      -0.582       0.461\n",
      "opposition_team_7                   0.1252      0.250      0.500      0.617      -0.365       0.616\n",
      "opposition_team_8                   0.1017      0.253      0.401      0.688      -0.395       0.598\n",
      "opposition_team_9                   0.5717      0.227      2.515      0.012       0.126       1.017\n",
      "opposition_team_10                  0.4699      0.234      2.008      0.045       0.011       0.928\n",
      "opposition_team_11                  0.1340      0.252      0.532      0.595      -0.360       0.628\n",
      "opposition_team_12                 -0.7109      0.313     -2.275      0.023      -1.324      -0.098\n",
      "opposition_team_13                 -0.5574      0.312     -1.787      0.074      -1.169       0.054\n",
      "opposition_team_14                  0.1795      0.249      0.720      0.472      -0.309       0.668\n",
      "opposition_team_15                  0.0770      0.251      0.307      0.759      -0.414       0.568\n",
      "opposition_team_16                  0.3643      0.238      1.529      0.126      -0.103       0.831\n",
      "opposition_team_17                 -0.0095      0.262     -0.036      0.971      -0.522       0.503\n",
      "opposition_team_18                  0.1898      0.246      0.772      0.440      -0.292       0.672\n",
      "opposition_team_19                  0.1955      0.248      0.788      0.430      -0.290       0.681\n",
      "opposition_team_20                  0.0501      0.255      0.197      0.844      -0.450       0.550\n",
      "own_team_2                         -0.4474      0.211     -2.120      0.034      -0.861      -0.034\n",
      "own_team_3                         -0.8684      0.241     -3.598      0.000      -1.341      -0.395\n",
      "own_team_4                         -0.5745      0.216     -2.655      0.008      -0.999      -0.150\n",
      "own_team_5                         -0.9484      0.254     -3.735      0.000      -1.446      -0.451\n",
      "own_team_6                         -0.2336      0.193     -1.212      0.226      -0.611       0.144\n",
      "own_team_7                         -0.6248      0.221     -2.830      0.005      -1.058      -0.192\n",
      "own_team_8                         -0.5694      0.216     -2.632      0.008      -0.993      -0.145\n",
      "own_team_9                         -0.7915      0.238     -3.321      0.001      -1.259      -0.324\n",
      "own_team_10                        -1.1648      0.275     -4.232      0.000      -1.704      -0.625\n",
      "own_team_11                        -0.4700      0.209     -2.253      0.024      -0.879      -0.061\n",
      "own_team_12                        -0.1982      0.190     -1.043      0.297      -0.571       0.174\n",
      "own_team_13                         0.0654      0.175      0.374      0.708      -0.277       0.408\n",
      "own_team_14                        -0.1976      0.193     -1.026      0.305      -0.575       0.180\n",
      "own_team_15                        -0.7586      0.229     -3.313      0.001      -1.208      -0.310\n",
      "own_team_16                        -0.8651      0.250     -3.466      0.001      -1.354      -0.376\n",
      "own_team_17                        -0.2019      0.193     -1.049      0.294      -0.579       0.175\n",
      "own_team_18                        -0.3823      0.204     -1.876      0.061      -0.782       0.017\n",
      "own_team_19                        -0.5033      0.211     -2.387      0.017      -0.916      -0.090\n",
      "own_team_20                        -0.3866      0.209     -1.851      0.064      -0.796       0.023\n",
      "===================================================================================================\n"
     ]
    }
   ],
   "source": [
    "print(eptmmf_results.summary())"
   ]
  },
  {
   "cell_type": "markdown",
   "metadata": {
    "heading_collapsed": true,
    "hidden": true
   },
   "source": [
    "### Model fit"
   ]
  },
  {
   "cell_type": "code",
   "execution_count": 106,
   "metadata": {
    "ExecuteTime": {
     "end_time": "2019-04-09T16:44:45.470195Z",
     "start_time": "2019-04-09T16:44:45.460424Z"
    },
    "hidden": true
   },
   "outputs": [
    {
     "data": {
      "text/plain": [
       "4844.658215989744"
      ]
     },
     "execution_count": 106,
     "metadata": {},
     "output_type": "execute_result"
    }
   ],
   "source": [
    "eptmmf_results.aic"
   ]
  },
  {
   "cell_type": "code",
   "execution_count": 107,
   "metadata": {
    "ExecuteTime": {
     "end_time": "2019-04-09T16:44:45.501087Z",
     "start_time": "2019-04-09T16:44:45.477447Z"
    },
    "hidden": true
   },
   "outputs": [
    {
     "data": {
      "text/plain": [
       "-65193.752226297394"
      ]
     },
     "execution_count": 107,
     "metadata": {},
     "output_type": "execute_result"
    }
   ],
   "source": [
    "eptmmf_results.bic"
   ]
  },
  {
   "cell_type": "code",
   "execution_count": 108,
   "metadata": {
    "ExecuteTime": {
     "end_time": "2019-04-09T16:44:45.535110Z",
     "start_time": "2019-04-09T16:44:45.509048Z"
    },
    "hidden": true
   },
   "outputs": [
    {
     "data": {
      "text/plain": [
       "(True, 0.0)"
      ]
     },
     "execution_count": 108,
     "metadata": {},
     "output_type": "execute_result"
    }
   ],
   "source": [
    "eptmmf_pearson_results = goodness_fit.pearson_chi_squared_test(eptmmf_results)\n",
    "eptmmf_pearson_results"
   ]
  },
  {
   "cell_type": "code",
   "execution_count": 109,
   "metadata": {
    "ExecuteTime": {
     "end_time": "2019-04-09T16:44:45.569120Z",
     "start_time": "2019-04-09T16:44:45.537367Z"
    },
    "hidden": true
   },
   "outputs": [
    {
     "data": {
      "text/plain": [
       "count    7702.000000\n",
       "mean       -0.214379\n",
       "std         0.621705\n",
       "min        -1.802767\n",
       "25%        -0.486658\n",
       "50%        -0.367646\n",
       "75%        -0.253498\n",
       "max         3.875687\n",
       "dtype: float64"
      ]
     },
     "execution_count": 109,
     "metadata": {},
     "output_type": "execute_result"
    }
   ],
   "source": [
    "eptmmf_results.resid_deviance.describe()"
   ]
  },
  {
   "cell_type": "code",
   "execution_count": 110,
   "metadata": {
    "ExecuteTime": {
     "end_time": "2019-04-09T16:44:45.829995Z",
     "start_time": "2019-04-09T16:44:45.571192Z"
    },
    "hidden": true
   },
   "outputs": [
    {
     "data": {
      "image/png": "[encoded data removed]",
      "text/plain": [
       "<Figure size 432x288 with 1 Axes>"
      ]
     },
     "metadata": {
      "needs_background": "light"
     },
     "output_type": "display_data"
    }
   ],
   "source": [
    "plt.figure()\n",
    "plt.hist(eptmmf_results.resid_deviance)\n",
    "plt.show()"
   ]
  },
  {
   "cell_type": "markdown",
   "metadata": {
    "heading_collapsed": true,
    "hidden": true
   },
   "source": [
    "## Simple Poisson player model"
   ]
  },
  {
   "cell_type": "markdown",
   "metadata": {
    "heading_collapsed": true,
    "hidden": true
   },
   "source": [
    "### Preparing data"
   ]
  },
  {
   "cell_type": "code",
   "execution_count": 111,
   "metadata": {
    "ExecuteTime": {
     "end_time": "2019-04-09T16:44:45.837132Z",
     "start_time": "2019-04-09T16:44:45.832266Z"
    },
    "hidden": true
   },
   "outputs": [],
   "source": [
    "sppm_df = element_gameweek_df.copy()"
   ]
  },
  {
   "cell_type": "code",
   "execution_count": 112,
   "metadata": {
    "ExecuteTime": {
     "end_time": "2019-04-09T16:44:45.888872Z",
     "start_time": "2019-04-09T16:44:45.839272Z"
    },
    "hidden": true
   },
   "outputs": [],
   "source": [
    "sppm_df = player.add_categorical_variables(sppm_df, 'opposition_team')\n",
    "sppm_df = player.add_categorical_variables(sppm_df, 'element')"
   ]
  },
  {
   "cell_type": "code",
   "execution_count": 113,
   "metadata": {
    "ExecuteTime": {
     "end_time": "2019-04-09T16:44:45.898369Z",
     "start_time": "2019-04-09T16:44:45.890875Z"
    },
    "hidden": true
   },
   "outputs": [],
   "source": [
    "sppm_redundant_columns = [\n",
    "    'row_id', 'goals_scored', 'attempted_passes', 'big_chances_created',\n",
    "    'big_chances_missed', 'bonus', 'bps', 'clean_sheets',\n",
    "    'clearances_blocks_interceptions', 'completed_passes', 'creativity',\n",
    "    'dribbles', 'ea_index', 'element', 'errors_leading_to_goal',\n",
    "    'errors_leading_to_goal_attempt', 'fixture', 'fouls', 'goals_conceded',\n",
    "    'ict_index', 'id', 'influence', 'key_passes', 'kickoff_time',\n",
    "    'kickoff_time_formatted', 'loaned_in', 'loaned_out', 'minutes', 'offside',\n",
    "    'open_play_crosses', 'opponent_team', 'own_goals', 'penalties_conceded',\n",
    "    'penalties_missed', 'penalties_saved', 'recoveries', 'red_cards', 'round',\n",
    "    'saves', 'selected', 'tackled', 'tackles', 'target_missed', 'team_a_score',\n",
    "    'team_h_score', 'threat', 'total_points', 'transfers_balance',\n",
    "    'transfers_in', 'transfers_out', 'value', 'winning_goals',\n",
    "    'yellow_cards', 'event', 'team_a', 'team_a_difficulty', 'team_h',\n",
    "    'team_h_difficulty', 'element_type', 'team', 'web_name', 'safe_web_name',\n",
    "    'own_team', 'opposition_team',\n",
    "    'element_fixture_rank', 'minutes_rolling',\n",
    "    'goals_scored_rolling', 'assists_rolling',\n",
    "    'goals_scored_per_minute_rolling', 'assists_per_minute_rolling',\n",
    "    'minutes_per_fixture_rolling'\n",
    "]"
   ]
  },
  {
   "cell_type": "code",
   "execution_count": 114,
   "metadata": {
    "ExecuteTime": {
     "end_time": "2019-04-09T16:44:45.953375Z",
     "start_time": "2019-04-09T16:44:45.900500Z"
    },
    "hidden": true
   },
   "outputs": [],
   "source": [
    "sppm_df = player.remove_redundant_columns(sppm_df, sppm_redundant_columns)"
   ]
  },
  {
   "cell_type": "code",
   "execution_count": 115,
   "metadata": {
    "ExecuteTime": {
     "end_time": "2019-04-09T16:44:46.144023Z",
     "start_time": "2019-04-09T16:44:45.955876Z"
    },
    "hidden": true
   },
   "outputs": [],
   "source": [
    "sppm_response_df, sppm_explanatory_df = player.get_response_explanatory_dfs(sppm_df, 'assists')"
   ]
  },
  {
   "cell_type": "code",
   "execution_count": 116,
   "metadata": {
    "ExecuteTime": {
     "end_time": "2019-04-09T16:44:46.151209Z",
     "start_time": "2019-04-09T16:44:46.146477Z"
    },
    "hidden": true
   },
   "outputs": [
    {
     "data": {
      "text/plain": [
       "Index(['const', 'was_home', 'opposition_team_2', 'opposition_team_3',\n",
       "       'opposition_team_4', 'opposition_team_5', 'opposition_team_6',\n",
       "       'opposition_team_7', 'opposition_team_8', 'opposition_team_9',\n",
       "       ...\n",
       "       'element_592', 'element_593', 'element_594', 'element_599',\n",
       "       'element_601', 'element_602', 'element_603', 'element_605',\n",
       "       'element_607', 'element_608'],\n",
       "      dtype='object', length=479)"
      ]
     },
     "execution_count": 116,
     "metadata": {},
     "output_type": "execute_result"
    }
   ],
   "source": [
    "sppm_explanatory_df.columns"
   ]
  },
  {
   "cell_type": "markdown",
   "metadata": {
    "heading_collapsed": true,
    "hidden": true
   },
   "source": [
    "### Fitting model"
   ]
  },
  {
   "cell_type": "code",
   "execution_count": 117,
   "metadata": {
    "ExecuteTime": {
     "end_time": "2019-04-09T16:45:02.440645Z",
     "start_time": "2019-04-09T16:44:46.153243Z"
    },
    "hidden": true
   },
   "outputs": [],
   "source": [
    "sppm_results = sm.GLM(\n",
    "    sppm_response_df,\n",
    "    sppm_explanatory_df,\n",
    "    family=sm.families.Poisson(),\n",
    "    missing='drop'\n",
    ").fit()"
   ]
  },
  {
   "cell_type": "code",
   "execution_count": 118,
   "metadata": {
    "ExecuteTime": {
     "end_time": "2019-04-09T16:45:02.715711Z",
     "start_time": "2019-04-09T16:45:02.449368Z"
    },
    "hidden": true
   },
   "outputs": [
    {
     "name": "stdout",
     "output_type": "stream",
     "text": [
      "                 Generalized Linear Model Regression Results                  \n",
      "==============================================================================\n",
      "Dep. Variable:                assists   No. Observations:                 8161\n",
      "Model:                            GLM   Df Residuals:                     7682\n",
      "Model Family:                 Poisson   Df Model:                          478\n",
      "Link Function:                    log   Scale:                             1.0\n",
      "Method:                          IRLS   Log-Likelihood:                -2195.4\n",
      "Date:                Tue, 09 Apr 2019   Deviance:                       2907.4\n",
      "Time:                        16:45:02   Pearson chi2:                 5.65e+03\n",
      "No. Iterations:                    25                                         \n",
      "======================================================================================\n",
      "                         coef    std err          z      P>|z|      [0.025      0.975]\n",
      "--------------------------------------------------------------------------------------\n",
      "const                -28.1789   2.05e+05     -0.000      1.000   -4.02e+05    4.02e+05\n",
      "was_home               0.1973      0.072      2.722      0.006       0.055       0.339\n",
      "opposition_team_2      0.3727      0.228      1.638      0.101      -0.073       0.819\n",
      "opposition_team_3      0.0763      0.246      0.311      0.756      -0.405       0.558\n",
      "opposition_team_4      0.4076      0.229      1.780      0.075      -0.041       0.856\n",
      "opposition_team_5      0.4961      0.225      2.206      0.027       0.055       0.937\n",
      "opposition_team_6     -0.1554      0.262     -0.594      0.552      -0.668       0.357\n",
      "opposition_team_7      0.0828      0.244      0.340      0.734      -0.395       0.560\n",
      "opposition_team_8      0.0781      0.245      0.319      0.750      -0.402       0.558\n",
      "opposition_team_9      0.6039      0.219      2.754      0.006       0.174       1.034\n",
      "opposition_team_10     0.4435      0.226      1.965      0.049       0.001       0.886\n",
      "opposition_team_11     0.0368      0.245      0.150      0.880      -0.443       0.517\n",
      "opposition_team_12    -0.8006      0.308     -2.597      0.009      -1.405      -0.196\n",
      "opposition_team_13    -0.6408      0.308     -2.078      0.038      -1.245      -0.036\n",
      "opposition_team_14     0.0801      0.243      0.330      0.742      -0.396       0.556\n",
      "opposition_team_15     0.0526      0.242      0.217      0.828      -0.422       0.527\n",
      "opposition_team_16     0.2776      0.232      1.197      0.231      -0.177       0.732\n",
      "opposition_team_17    -0.0935      0.255     -0.367      0.713      -0.593       0.406\n",
      "opposition_team_18     0.1410      0.241      0.585      0.558      -0.331       0.613\n",
      "opposition_team_19     0.2518      0.237      1.065      0.287      -0.212       0.715\n",
      "opposition_team_20     0.0378      0.247      0.153      0.878      -0.446       0.522\n",
      "element_4             26.6244   2.05e+05      0.000      1.000   -4.02e+05    4.02e+05\n",
      "element_5             26.0959   2.05e+05      0.000      1.000   -4.02e+05    4.02e+05\n",
      "element_6             -0.0300   3.09e+05  -9.72e-08      1.000   -6.05e+05    6.05e+05\n",
      "element_7             -0.0266    2.5e+05  -1.06e-07      1.000    -4.9e+05     4.9e+05\n",
      "element_8             26.8926   2.05e+05      0.000      1.000   -4.02e+05    4.02e+05\n",
      "element_9              0.0027    2.5e+05   1.08e-08      1.000   -4.89e+05    4.89e+05\n",
      "element_10             0.7851    7.7e+05   1.02e-06      1.000   -1.51e+06    1.51e+06\n",
      "element_11             0.0246    2.9e+05   8.49e-08      1.000   -5.68e+05    5.68e+05\n",
      "element_12            25.5605   2.05e+05      0.000      1.000   -4.02e+05    4.02e+05\n",
      "element_13            26.0913   2.05e+05      0.000      1.000   -4.02e+05    4.02e+05\n",
      "element_14            26.5096   2.05e+05      0.000      1.000   -4.02e+05    4.02e+05\n",
      "element_15            26.3627   2.05e+05      0.000      1.000   -4.02e+05    4.02e+05\n",
      "element_16            -0.2547   3.85e+05  -6.61e-07      1.000   -7.55e+05    7.55e+05\n",
      "element_17            25.4061   2.05e+05      0.000      1.000   -4.02e+05    4.02e+05\n",
      "element_18            26.3601   2.05e+05      0.000      1.000   -4.02e+05    4.02e+05\n",
      "element_20            25.5370   2.05e+05      0.000      1.000   -4.02e+05    4.02e+05\n",
      "element_21            25.8327   2.05e+05      0.000      1.000   -4.02e+05    4.02e+05\n",
      "element_22            26.9190   2.05e+05      0.000      1.000   -4.02e+05    4.02e+05\n",
      "element_23            26.4698   2.05e+05      0.000      1.000   -4.02e+05    4.02e+05\n",
      "element_26            25.7989   2.05e+05      0.000      1.000   -4.02e+05    4.02e+05\n",
      "element_27            24.7059   2.05e+05      0.000      1.000   -4.02e+05    4.02e+05\n",
      "element_28             0.0027   2.59e+05   1.03e-08      1.000   -5.07e+05    5.07e+05\n",
      "element_29            -0.0476   2.59e+05  -1.84e-07      1.000   -5.08e+05    5.08e+05\n",
      "element_30             0.2159   3.78e+05   5.71e-07      1.000   -7.41e+05    7.41e+05\n",
      "element_31            24.5148   2.05e+05      0.000      1.000   -4.02e+05    4.02e+05\n",
      "element_32             0.5878    7.7e+05   7.63e-07      1.000   -1.51e+06    1.51e+06\n",
      "element_33            24.7460   2.05e+05      0.000      1.000   -4.02e+05    4.02e+05\n",
      "element_35             0.0917   2.66e+05   3.45e-07      1.000   -5.21e+05    5.21e+05\n",
      "element_36            26.0568   2.05e+05      0.000      1.000   -4.02e+05    4.02e+05\n",
      "element_37            25.5868   2.05e+05      0.000      1.000   -4.02e+05    4.02e+05\n",
      "element_38            25.2136   2.05e+05      0.000      1.000   -4.02e+05    4.02e+05\n",
      "element_39            -0.0605   2.88e+05  -2.11e-07      1.000   -5.64e+05    5.64e+05\n",
      "element_40            26.8174   2.05e+05      0.000      1.000   -4.02e+05    4.02e+05\n",
      "element_42            26.0757   2.05e+05      0.000      1.000   -4.02e+05    4.02e+05\n",
      "element_43            26.9309   2.05e+05      0.000      1.000   -4.02e+05    4.02e+05\n",
      "element_44             0.0527   2.58e+05   2.04e-07      1.000   -5.06e+05    5.06e+05\n",
      "element_45            25.7274   2.05e+05      0.000      1.000   -4.02e+05    4.02e+05\n",
      "element_46            -0.2918   4.19e+05  -6.97e-07      1.000   -8.21e+05    8.21e+05\n",
      "element_48            24.5363   2.05e+05      0.000      1.000   -4.02e+05    4.02e+05\n",
      "element_49            25.2924   2.05e+05      0.000      1.000   -4.02e+05    4.02e+05\n",
      "element_50            25.7541   2.05e+05      0.000      1.000   -4.02e+05    4.02e+05\n",
      "element_51             0.0028   2.58e+05   1.07e-08      1.000   -5.05e+05    5.05e+05\n",
      "element_54            -0.0100   3.27e+05  -3.04e-08      1.000   -6.42e+05    6.42e+05\n",
      "element_55            26.4669   2.05e+05      0.000      1.000   -4.02e+05    4.02e+05\n",
      "element_56            24.7525   2.05e+05      0.000      1.000   -4.02e+05    4.02e+05\n",
      "element_57            25.4116   2.05e+05      0.000      1.000   -4.02e+05    4.02e+05\n",
      "element_58            26.1518   2.05e+05      0.000      1.000   -4.02e+05    4.02e+05\n",
      "element_59            25.6594   2.05e+05      0.000      1.000   -4.02e+05    4.02e+05\n",
      "element_60            24.6288   2.05e+05      0.000      1.000   -4.02e+05    4.02e+05\n",
      "element_61            26.2176   2.05e+05      0.000      1.000   -4.02e+05    4.02e+05\n",
      "element_62            -0.0520   2.43e+05  -2.14e-07      1.000   -4.76e+05    4.76e+05\n",
      "element_65            -0.0249   2.54e+05  -9.82e-08      1.000   -4.98e+05    4.98e+05\n",
      "element_66            -0.0911   2.71e+05  -3.36e-07      1.000   -5.31e+05    5.31e+05\n",
      "element_69            -0.1043   2.78e+05  -3.75e-07      1.000   -5.45e+05    5.45e+05\n",
      "element_70            25.1754   2.05e+05      0.000      1.000   -4.02e+05    4.02e+05\n",
      "element_71            -0.2541   4.72e+05  -5.39e-07      1.000   -9.24e+05    9.24e+05\n",
      "element_72            25.2637   2.05e+05      0.000      1.000   -4.02e+05    4.02e+05\n",
      "element_73            26.2386   2.05e+05      0.000      1.000   -4.02e+05    4.02e+05\n",
      "element_74            24.4823   2.05e+05      0.000      1.000   -4.02e+05    4.02e+05\n",
      "element_75             0.0165   2.64e+05   6.25e-08      1.000   -5.17e+05    5.17e+05\n",
      "element_76            26.5258   2.05e+05      0.000      1.000   -4.02e+05    4.02e+05\n",
      "element_77             0.1365   3.62e+05   3.77e-07      1.000   -7.09e+05    7.09e+05\n",
      "element_78            25.3989   2.05e+05      0.000      1.000   -4.02e+05    4.02e+05\n",
      "element_79            25.3801   2.05e+05      0.000      1.000   -4.02e+05    4.02e+05\n",
      "element_80            26.5455   2.05e+05      0.000      1.000   -4.02e+05    4.02e+05\n",
      "element_82            25.2078   2.05e+05      0.000      1.000   -4.02e+05    4.02e+05\n",
      "element_83            25.1726   2.05e+05      0.000      1.000   -4.02e+05    4.02e+05\n",
      "element_84            -0.0606   2.61e+05  -2.32e-07      1.000   -5.11e+05    5.11e+05\n",
      "element_85            25.6225   2.05e+05      0.000      1.000   -4.02e+05    4.02e+05\n",
      "element_87            24.4823   2.05e+05      0.000      1.000   -4.02e+05    4.02e+05\n",
      "element_90            26.0172   2.05e+05      0.000      1.000   -4.02e+05    4.02e+05\n",
      "element_91            24.5924   2.05e+05      0.000      1.000   -4.02e+05    4.02e+05\n",
      "element_92            24.4928   2.05e+05      0.000      1.000   -4.02e+05    4.02e+05\n",
      "element_94            24.7682   2.05e+05      0.000      1.000   -4.02e+05    4.02e+05\n",
      "element_95             0.0479   2.83e+05   1.69e-07      1.000   -5.54e+05    5.54e+05\n",
      "element_96             0.0809   4.47e+05   1.81e-07      1.000   -8.76e+05    8.76e+05\n",
      "element_98            -0.0386    2.5e+05  -1.54e-07      1.000    -4.9e+05     4.9e+05\n",
      "element_99            24.7478   2.05e+05      0.000      1.000   -4.02e+05    4.02e+05\n",
      "element_100           -0.0579   2.83e+05  -2.04e-07      1.000   -5.55e+05    5.55e+05\n",
      "element_101           25.3061   2.05e+05      0.000      1.000   -4.02e+05    4.02e+05\n",
      "element_102           24.8582   2.05e+05      0.000      1.000   -4.02e+05    4.02e+05\n",
      "element_104            0.1366   4.99e+05   2.74e-07      1.000   -9.79e+05    9.79e+05\n",
      "element_105            0.0032      3e+05   1.06e-08      1.000   -5.89e+05    5.89e+05\n",
      "element_106           24.7299   2.05e+05      0.000      1.000   -4.02e+05    4.02e+05\n",
      "element_107           25.3345   2.05e+05      0.000      1.000   -4.02e+05    4.02e+05\n",
      "element_109           -0.0943   3.84e+05  -2.45e-07      1.000   -7.53e+05    7.53e+05\n",
      "element_110           25.9872   2.05e+05      0.000      1.000   -4.02e+05    4.02e+05\n",
      "element_113           26.0596   2.05e+05      0.000      1.000   -4.02e+05    4.02e+05\n",
      "element_114           -0.1075    7.7e+05   -1.4e-07      1.000   -1.51e+06    1.51e+06\n",
      "element_115           26.6814   2.05e+05      0.000      1.000   -4.02e+05    4.02e+05\n",
      "element_116           25.2147   2.05e+05      0.000      1.000   -4.02e+05    4.02e+05\n",
      "element_117            0.1893   5.41e+05    3.5e-07      1.000   -1.06e+06    1.06e+06\n",
      "element_118           24.5305   2.05e+05      0.000      1.000   -4.02e+05    4.02e+05\n",
      "element_119           -0.2428   4.19e+05   -5.8e-07      1.000   -8.21e+05    8.21e+05\n",
      "element_120           -0.4321   4.68e+05  -9.23e-07      1.000   -9.17e+05    9.17e+05\n",
      "element_121           -0.0134   3.42e+05  -3.91e-08      1.000    -6.7e+05     6.7e+05\n",
      "element_122           26.9719   2.05e+05      0.000      1.000   -4.02e+05    4.02e+05\n",
      "element_123           -0.1399   3.65e+05  -3.84e-07      1.000   -7.15e+05    7.15e+05\n",
      "element_124           26.4928   2.05e+05      0.000      1.000   -4.02e+05    4.02e+05\n",
      "element_125           24.6559   2.05e+05      0.000      1.000   -4.02e+05    4.02e+05\n",
      "element_126           25.8767   2.05e+05      0.000      1.000   -4.02e+05    4.02e+05\n",
      "element_127           26.1578   2.05e+05      0.000      1.000   -4.02e+05    4.02e+05\n",
      "element_131           25.9823   2.05e+05      0.000      1.000   -4.02e+05    4.02e+05\n",
      "element_132           24.9677   2.05e+05      0.000      1.000   -4.02e+05    4.02e+05\n",
      "element_133           26.1928   2.05e+05      0.000      1.000   -4.02e+05    4.02e+05\n",
      "element_134           -0.0877   2.74e+05   -3.2e-07      1.000   -5.37e+05    5.37e+05\n",
      "element_138           24.6101   2.05e+05      0.000      1.000   -4.02e+05    4.02e+05\n",
      "element_139           -0.1823   3.87e+05  -4.71e-07      1.000   -7.59e+05    7.59e+05\n",
      "element_140           -0.0747   3.45e+05  -2.17e-07      1.000   -6.76e+05    6.76e+05\n",
      "element_141           25.7074   2.05e+05      0.000      1.000   -4.02e+05    4.02e+05\n",
      "element_142           25.1570   2.05e+05      0.000      1.000   -4.02e+05    4.02e+05\n",
      "element_143           -0.0266   2.48e+05  -1.08e-07      1.000   -4.85e+05    4.85e+05\n",
      "element_145           25.2463   2.05e+05      0.000      1.000   -4.02e+05    4.02e+05\n",
      "element_146            0.0082   2.99e+05   2.74e-08      1.000   -5.87e+05    5.87e+05\n",
      "element_147           26.0732   2.05e+05      0.000      1.000   -4.02e+05    4.02e+05\n",
      "element_148           -0.6569    7.7e+05  -8.53e-07      1.000   -1.51e+06    1.51e+06\n",
      "element_149           25.8501   2.05e+05      0.000      1.000   -4.02e+05    4.02e+05\n",
      "element_150           24.4638   2.05e+05      0.000      1.000   -4.02e+05    4.02e+05\n",
      "element_151           26.5737   2.05e+05      0.000      1.000   -4.02e+05    4.02e+05\n",
      "element_152           -0.1620   2.92e+05  -5.54e-07      1.000   -5.73e+05    5.73e+05\n",
      "element_153           -0.0758   2.93e+05  -2.58e-07      1.000   -5.75e+05    5.75e+05\n",
      "element_156           -0.2289   3.64e+05  -6.28e-07      1.000   -7.14e+05    7.14e+05\n",
      "element_157           25.4590   2.05e+05      0.000      1.000   -4.02e+05    4.02e+05\n",
      "element_158            0.0196   4.67e+05   4.19e-08      1.000   -9.16e+05    9.16e+05\n",
      "element_160           -0.2530   3.88e+05  -6.52e-07      1.000    -7.6e+05     7.6e+05\n",
      "element_161           25.6320   2.05e+05      0.000      1.000   -4.02e+05    4.02e+05\n",
      "element_162           25.3010   2.05e+05      0.000      1.000   -4.02e+05    4.02e+05\n",
      "element_164           25.6205   2.05e+05      0.000      1.000   -4.02e+05    4.02e+05\n",
      "element_167           25.5601   2.05e+05      0.000      1.000   -4.02e+05    4.02e+05\n",
      "element_168           24.6542   2.05e+05      0.000      1.000   -4.02e+05    4.02e+05\n",
      "element_169           -0.0502   2.77e+05  -1.81e-07      1.000   -5.43e+05    5.43e+05\n",
      "element_170           25.8393   2.05e+05      0.000      1.000   -4.02e+05    4.02e+05\n",
      "element_172           25.8688   2.05e+05      0.000      1.000   -4.02e+05    4.02e+05\n",
      "element_175           25.6595   2.05e+05      0.000      1.000   -4.02e+05    4.02e+05\n",
      "element_176           -0.0589   2.82e+05  -2.08e-07      1.000   -5.54e+05    5.54e+05\n",
      "element_177           25.9080   2.05e+05      0.000      1.000   -4.02e+05    4.02e+05\n",
      "element_180           -0.0521   2.58e+05  -2.02e-07      1.000   -5.05e+05    5.05e+05\n",
      "element_181           24.6187   2.05e+05      0.000      1.000   -4.02e+05    4.02e+05\n",
      "element_182           24.6895   2.05e+05      0.000      1.000   -4.02e+05    4.02e+05\n",
      "element_183           -0.0367   2.78e+05  -1.32e-07      1.000   -5.45e+05    5.45e+05\n",
      "element_184           26.5402   2.05e+05      0.000      1.000   -4.02e+05    4.02e+05\n",
      "element_185            0.0501   2.91e+05   1.72e-07      1.000   -5.71e+05    5.71e+05\n",
      "element_186            0.1530   2.93e+05   5.23e-07      1.000   -5.74e+05    5.74e+05\n",
      "element_187            0.1881   3.56e+05   5.28e-07      1.000   -6.98e+05    6.98e+05\n",
      "element_189           -0.0825   2.88e+05  -2.86e-07      1.000   -5.65e+05    5.65e+05\n",
      "element_192           24.5029   2.05e+05      0.000      1.000   -4.02e+05    4.02e+05\n",
      "element_193           25.8842   2.05e+05      0.000      1.000   -4.02e+05    4.02e+05\n",
      "element_194            0.1726   3.09e+05   5.58e-07      1.000   -6.06e+05    6.06e+05\n",
      "element_195           24.6826   2.05e+05      0.000      1.000   -4.02e+05    4.02e+05\n",
      "element_197           -0.0786   2.54e+05  -3.09e-07      1.000   -4.99e+05    4.99e+05\n",
      "element_198           24.6792   2.05e+05      0.000      1.000   -4.02e+05    4.02e+05\n",
      "element_199           24.7669   2.05e+05      0.000      1.000   -4.02e+05    4.02e+05\n",
      "element_200           -0.1531   3.86e+05  -3.97e-07      1.000   -7.56e+05    7.56e+05\n",
      "element_201           24.7710   2.05e+05      0.000      1.000   -4.02e+05    4.02e+05\n",
      "element_202           -0.0764   2.48e+05  -3.08e-07      1.000   -4.86e+05    4.86e+05\n",
      "element_204            0.0462   4.23e+05   1.09e-07      1.000   -8.29e+05    8.29e+05\n",
      "element_205            0.2432   5.42e+05   4.48e-07      1.000   -1.06e+06    1.06e+06\n",
      "element_206           -0.0292   2.49e+05  -1.17e-07      1.000   -4.88e+05    4.88e+05\n",
      "element_207            0.0962   4.16e+05   2.31e-07      1.000   -8.15e+05    8.15e+05\n",
      "element_208           -0.0414   2.78e+05  -1.49e-07      1.000   -5.45e+05    5.45e+05\n",
      "element_209           -0.1446   5.62e+05  -2.57e-07      1.000    -1.1e+06     1.1e+06\n",
      "element_210           24.7729   2.05e+05      0.000      1.000   -4.02e+05    4.02e+05\n",
      "element_211           26.0478   2.05e+05      0.000      1.000   -4.02e+05    4.02e+05\n",
      "element_212           -0.0631   2.71e+05  -2.33e-07      1.000   -5.31e+05    5.31e+05\n",
      "element_215           -0.0459   2.62e+05  -1.76e-07      1.000   -5.13e+05    5.13e+05\n",
      "element_216           -0.1105   4.73e+05  -2.34e-07      1.000   -9.27e+05    9.27e+05\n",
      "element_217           -0.0142   3.82e+05  -3.73e-08      1.000   -7.48e+05    7.48e+05\n",
      "element_219           25.8948   2.05e+05      0.000      1.000   -4.02e+05    4.02e+05\n",
      "element_220           24.6928   2.05e+05      0.000      1.000   -4.02e+05    4.02e+05\n",
      "element_221           26.3765   2.05e+05      0.000      1.000   -4.02e+05    4.02e+05\n",
      "element_222           -0.0934   2.61e+05  -3.58e-07      1.000   -5.12e+05    5.12e+05\n",
      "element_223           25.7083   2.05e+05      0.000      1.000   -4.02e+05    4.02e+05\n",
      "element_224           25.5385   2.05e+05      0.000      1.000   -4.02e+05    4.02e+05\n",
      "element_225           24.5333   2.05e+05      0.000      1.000   -4.02e+05    4.02e+05\n",
      "element_226           -0.0162   3.17e+05  -5.12e-08      1.000   -6.22e+05    6.22e+05\n",
      "element_227           -0.0620   2.42e+05  -2.57e-07      1.000   -4.73e+05    4.73e+05\n",
      "element_228           -0.1230    3.3e+05  -3.73e-07      1.000   -6.47e+05    6.47e+05\n",
      "element_230            0.2931    3.8e+05   7.71e-07      1.000   -7.45e+05    7.45e+05\n",
      "element_231           -0.0153   5.63e+05  -2.72e-08      1.000    -1.1e+06     1.1e+06\n",
      "element_232           -0.4596    7.7e+05  -5.97e-07      1.000   -1.51e+06    1.51e+06\n",
      "element_233           26.3131   2.05e+05      0.000      1.000   -4.02e+05    4.02e+05\n",
      "element_234           25.9577   2.05e+05      0.000      1.000   -4.02e+05    4.02e+05\n",
      "element_235           24.9692   2.05e+05      0.000      1.000   -4.02e+05    4.02e+05\n",
      "element_236           26.2926   2.05e+05      0.000      1.000   -4.02e+05    4.02e+05\n",
      "element_239           25.7067   2.05e+05      0.000      1.000   -4.02e+05    4.02e+05\n",
      "element_240           -0.4114   5.62e+05  -7.32e-07      1.000    -1.1e+06     1.1e+06\n",
      "element_241           -0.0229   2.84e+05  -8.06e-08      1.000   -5.56e+05    5.56e+05\n",
      "element_242           -0.0465   2.87e+05  -1.62e-07      1.000   -5.62e+05    5.62e+05\n",
      "element_243           -0.1139   2.68e+05  -4.25e-07      1.000   -5.25e+05    5.25e+05\n",
      "element_245           26.5461   2.05e+05      0.000      1.000   -4.02e+05    4.02e+05\n",
      "element_246           25.5476   2.05e+05      0.000      1.000   -4.02e+05    4.02e+05\n",
      "element_247           26.8393   2.05e+05      0.000      1.000   -4.02e+05    4.02e+05\n",
      "element_249           -0.0338    2.5e+05  -1.35e-07      1.000    -4.9e+05     4.9e+05\n",
      "element_250           25.2681   2.05e+05      0.000      1.000   -4.02e+05    4.02e+05\n",
      "element_251           25.6239   2.05e+05      0.000      1.000   -4.02e+05    4.02e+05\n",
      "element_252           24.5528   2.05e+05      0.000      1.000   -4.02e+05    4.02e+05\n",
      "element_253           26.7515   2.05e+05      0.000      1.000   -4.02e+05    4.02e+05\n",
      "element_254           26.2785   2.05e+05      0.000      1.000   -4.02e+05    4.02e+05\n",
      "element_255           25.4332   2.05e+05      0.000      1.000   -4.02e+05    4.02e+05\n",
      "element_256           24.8526   2.05e+05      0.000      1.000   -4.02e+05    4.02e+05\n",
      "element_257           26.4291   2.05e+05      0.000      1.000   -4.02e+05    4.02e+05\n",
      "element_258           25.0115   2.05e+05      0.000      1.000   -4.02e+05    4.02e+05\n",
      "element_259           26.1999   2.05e+05      0.000      1.000   -4.02e+05    4.02e+05\n",
      "element_262           -0.0083   2.61e+05  -3.19e-08      1.000   -5.11e+05    5.11e+05\n",
      "element_263           -0.0970   2.93e+05  -3.31e-07      1.000   -5.74e+05    5.74e+05\n",
      "element_264           -0.1643   2.74e+05  -5.99e-07      1.000   -5.37e+05    5.37e+05\n",
      "element_265           24.6380   2.05e+05      0.000      1.000   -4.02e+05    4.02e+05\n",
      "element_266           -0.1007   3.17e+05  -3.18e-07      1.000    -6.2e+05     6.2e+05\n",
      "element_267           27.5424   2.05e+05      0.000      1.000   -4.02e+05    4.02e+05\n",
      "element_268           25.2297   2.05e+05      0.000      1.000   -4.02e+05    4.02e+05\n",
      "element_269           25.4204   2.05e+05      0.000      1.000   -4.02e+05    4.02e+05\n",
      "element_270           27.1681   2.05e+05      0.000      1.000   -4.02e+05    4.02e+05\n",
      "element_271           26.4063   2.05e+05      0.000      1.000   -4.02e+05    4.02e+05\n",
      "element_272           25.6990   2.05e+05      0.000      1.000   -4.02e+05    4.02e+05\n",
      "element_273           25.1114   2.05e+05      0.000      1.000   -4.02e+05    4.02e+05\n",
      "element_274           25.3705   2.05e+05      0.000      1.000   -4.02e+05    4.02e+05\n",
      "element_275           27.0253   2.05e+05      0.000      1.000   -4.02e+05    4.02e+05\n",
      "element_276           26.5867   2.05e+05      0.000      1.000   -4.02e+05    4.02e+05\n",
      "element_277           -0.2485   3.01e+05  -8.24e-07      1.000   -5.91e+05    5.91e+05\n",
      "element_279           26.6603   2.05e+05      0.000      1.000   -4.02e+05    4.02e+05\n",
      "element_280           26.9117   2.05e+05      0.000      1.000   -4.02e+05    4.02e+05\n",
      "element_281           25.7713   2.05e+05      0.000      1.000   -4.02e+05    4.02e+05\n",
      "element_284           -0.0266   2.61e+05  -1.02e-07      1.000   -5.12e+05    5.12e+05\n",
      "element_285           25.1641   2.05e+05      0.000      1.000   -4.02e+05    4.02e+05\n",
      "element_286           26.0712   2.05e+05      0.000      1.000   -4.02e+05    4.02e+05\n",
      "element_287           -0.2847   4.65e+05  -6.12e-07      1.000   -9.12e+05    9.12e+05\n",
      "element_288           -0.0359   3.88e+05  -9.24e-08      1.000    -7.6e+05     7.6e+05\n",
      "element_289            0.0979   3.82e+05   2.56e-07      1.000   -7.48e+05    7.48e+05\n",
      "element_291           -0.0194   2.99e+05  -6.48e-08      1.000   -5.87e+05    5.87e+05\n",
      "element_292           24.7347   2.05e+05      0.000      1.000   -4.02e+05    4.02e+05\n",
      "element_293           25.8320   2.05e+05      0.000      1.000   -4.02e+05    4.02e+05\n",
      "element_294           26.1057   2.05e+05      0.000      1.000   -4.02e+05    4.02e+05\n",
      "element_295           26.7569   2.05e+05      0.000      1.000   -4.02e+05    4.02e+05\n",
      "element_296           -0.0645   2.51e+05  -2.57e-07      1.000   -4.91e+05    4.91e+05\n",
      "element_297           26.0909   2.05e+05      0.000      1.000   -4.02e+05    4.02e+05\n",
      "element_298           26.0734   2.05e+05      0.000      1.000   -4.02e+05    4.02e+05\n",
      "element_299           26.0434   2.05e+05      0.000      1.000   -4.02e+05    4.02e+05\n",
      "element_300           25.8635   2.05e+05      0.000      1.000   -4.02e+05    4.02e+05\n",
      "element_301           25.9624   2.05e+05      0.000      1.000   -4.02e+05    4.02e+05\n",
      "element_302           26.8599   2.05e+05      0.000      1.000   -4.02e+05    4.02e+05\n",
      "element_303           -0.0577   2.92e+05  -1.97e-07      1.000   -5.73e+05    5.73e+05\n",
      "element_304           25.9133   2.05e+05      0.000      1.000   -4.02e+05    4.02e+05\n",
      "element_305           26.5924   2.05e+05      0.000      1.000   -4.02e+05    4.02e+05\n",
      "element_306           24.6465   2.05e+05      0.000      1.000   -4.02e+05    4.02e+05\n",
      "element_310           25.3220   2.05e+05      0.000      1.000   -4.02e+05    4.02e+05\n",
      "element_311           -0.0351      3e+05  -1.17e-07      1.000   -5.88e+05    5.88e+05\n",
      "element_312           24.6584   2.05e+05      0.000      1.000   -4.02e+05    4.02e+05\n",
      "element_313           -0.0608   2.61e+05  -2.33e-07      1.000   -5.11e+05    5.11e+05\n",
      "element_314           -0.0533   2.99e+05  -1.78e-07      1.000   -5.86e+05    5.86e+05\n",
      "element_315           25.9097   2.05e+05      0.000      1.000   -4.02e+05    4.02e+05\n",
      "element_317           25.8883   2.05e+05      0.000      1.000   -4.02e+05    4.02e+05\n",
      "element_318           25.3440   2.05e+05      0.000      1.000   -4.02e+05    4.02e+05\n",
      "element_319           -0.0603    2.5e+05  -2.42e-07      1.000   -4.89e+05    4.89e+05\n",
      "element_320           -0.0605   2.57e+05  -2.36e-07      1.000   -5.03e+05    5.03e+05\n",
      "element_321           25.9637   2.05e+05      0.000      1.000   -4.02e+05    4.02e+05\n",
      "element_323           26.0650   2.05e+05      0.000      1.000   -4.02e+05    4.02e+05\n",
      "element_324           25.3121   2.05e+05      0.000      1.000   -4.02e+05    4.02e+05\n",
      "element_326           25.1662   2.05e+05      0.000      1.000   -4.02e+05    4.02e+05\n",
      "element_327           -0.0131   2.73e+05  -4.78e-08      1.000   -5.35e+05    5.35e+05\n",
      "element_330           -0.0105   2.69e+05  -3.92e-08      1.000   -5.27e+05    5.27e+05\n",
      "element_331           -0.0869   2.87e+05  -3.03e-07      1.000   -5.63e+05    5.63e+05\n",
      "element_332           25.8255   2.05e+05      0.000      1.000   -4.02e+05    4.02e+05\n",
      "element_333           -0.0186   2.67e+05  -6.96e-08      1.000   -5.23e+05    5.23e+05\n",
      "element_335           25.0584   2.05e+05      0.000      1.000   -4.02e+05    4.02e+05\n",
      "element_336            0.0285   2.86e+05   9.98e-08      1.000    -5.6e+05     5.6e+05\n",
      "element_337           26.9133   2.05e+05      0.000      1.000   -4.02e+05    4.02e+05\n",
      "element_338           -0.0039   2.64e+05  -1.48e-08      1.000   -5.17e+05    5.17e+05\n",
      "element_339           -0.0236   2.52e+05  -9.35e-08      1.000   -4.95e+05    4.95e+05\n",
      "element_340           24.7831   2.05e+05      0.000      1.000   -4.02e+05    4.02e+05\n",
      "element_342            0.0544   5.63e+05   9.65e-08      1.000    -1.1e+06     1.1e+06\n",
      "element_343           25.9017   2.05e+05      0.000      1.000   -4.02e+05    4.02e+05\n",
      "element_344           25.7661   2.05e+05      0.000      1.000   -4.02e+05    4.02e+05\n",
      "element_345           25.8966   2.05e+05      0.000      1.000   -4.02e+05    4.02e+05\n",
      "element_346           -0.0346   2.77e+05  -1.25e-07      1.000   -5.43e+05    5.43e+05\n",
      "element_347           25.7375   2.05e+05      0.000      1.000   -4.02e+05    4.02e+05\n",
      "element_348           25.5229   2.05e+05      0.000      1.000   -4.02e+05    4.02e+05\n",
      "element_349           -0.1207   2.94e+05   -4.1e-07      1.000   -5.77e+05    5.77e+05\n",
      "element_353           -0.0538   2.45e+05   -2.2e-07      1.000    -4.8e+05     4.8e+05\n",
      "element_354           26.2431   2.05e+05      0.000      1.000   -4.02e+05    4.02e+05\n",
      "element_355           -0.0157   2.64e+05  -5.95e-08      1.000   -5.16e+05    5.16e+05\n",
      "element_356           -0.0041   2.58e+05  -1.59e-08      1.000   -5.07e+05    5.07e+05\n",
      "element_357           26.3203   2.05e+05      0.000      1.000   -4.02e+05    4.02e+05\n",
      "element_358           27.5930   2.05e+05      0.000      1.000   -4.02e+05    4.02e+05\n",
      "element_359           25.6705   2.05e+05      0.000      1.000   -4.02e+05    4.02e+05\n",
      "element_360           26.6518   2.05e+05      0.000      1.000   -4.02e+05    4.02e+05\n",
      "element_361           -0.0454   2.73e+05  -1.66e-07      1.000   -5.35e+05    5.35e+05\n",
      "element_362            0.0580   3.06e+05   1.89e-07      1.000      -6e+05       6e+05\n",
      "element_363           25.7246   2.05e+05      0.000      1.000   -4.02e+05    4.02e+05\n",
      "element_364           26.9890   2.05e+05      0.000      1.000   -4.02e+05    4.02e+05\n",
      "element_365           26.0557   2.05e+05      0.000      1.000   -4.02e+05    4.02e+05\n",
      "element_366           -0.0532   3.42e+05  -1.56e-07      1.000    -6.7e+05     6.7e+05\n",
      "element_367           26.6411   2.05e+05      0.000      1.000   -4.02e+05    4.02e+05\n",
      "element_368           -0.0736    2.5e+05  -2.95e-07      1.000   -4.89e+05    4.89e+05\n",
      "element_369           25.3791   2.05e+05      0.000      1.000   -4.02e+05    4.02e+05\n",
      "element_370           25.3913   2.05e+05      0.000      1.000   -4.02e+05    4.02e+05\n",
      "element_371           26.2755   2.05e+05      0.000      1.000   -4.02e+05    4.02e+05\n",
      "element_372           26.4147   2.05e+05      0.000      1.000   -4.02e+05    4.02e+05\n",
      "element_376           -0.0125   2.44e+05  -5.13e-08      1.000   -4.78e+05    4.78e+05\n",
      "element_377            0.1066    7.7e+05   1.38e-07      1.000   -1.51e+06    1.51e+06\n",
      "element_378           26.6258   2.05e+05      0.000      1.000   -4.02e+05    4.02e+05\n",
      "element_379            0.1265   4.53e+05   2.79e-07      1.000   -8.87e+05    8.87e+05\n",
      "element_380           -0.0822    2.7e+05  -3.05e-07      1.000   -5.29e+05    5.29e+05\n",
      "element_381           25.1740   2.05e+05      0.000      1.000   -4.02e+05    4.02e+05\n",
      "element_382           -0.0283   2.56e+05  -1.11e-07      1.000   -5.02e+05    5.02e+05\n",
      "element_383           24.7814   2.05e+05      0.000      1.000   -4.02e+05    4.02e+05\n",
      "element_385            0.1443    7.7e+05   1.87e-07      1.000   -1.51e+06    1.51e+06\n",
      "element_386           25.7924   2.05e+05      0.000      1.000   -4.02e+05    4.02e+05\n",
      "element_387            0.0832   3.46e+05    2.4e-07      1.000   -6.78e+05    6.78e+05\n",
      "element_388            0.0118   2.91e+05   4.05e-08      1.000    -5.7e+05     5.7e+05\n",
      "element_389           25.7157   2.05e+05      0.000      1.000   -4.02e+05    4.02e+05\n",
      "element_390           26.3748   2.05e+05      0.000      1.000   -4.02e+05    4.02e+05\n",
      "element_391           25.9450   2.05e+05      0.000      1.000   -4.02e+05    4.02e+05\n",
      "element_392           26.0839   2.05e+05      0.000      1.000   -4.02e+05    4.02e+05\n",
      "element_393           25.2656   2.05e+05      0.000      1.000   -4.02e+05    4.02e+05\n",
      "element_394           26.3586   2.05e+05      0.000      1.000   -4.02e+05    4.02e+05\n",
      "element_395           25.5294   2.05e+05      0.000      1.000   -4.02e+05    4.02e+05\n",
      "element_396           26.1971   2.05e+05      0.000      1.000   -4.02e+05    4.02e+05\n",
      "element_397           -0.2272   5.51e+05  -4.12e-07      1.000   -1.08e+06    1.08e+06\n",
      "element_402           24.9478   2.05e+05      0.000      1.000   -4.02e+05    4.02e+05\n",
      "element_403           24.8881   2.05e+05      0.000      1.000   -4.02e+05    4.02e+05\n",
      "element_405           24.7725   2.05e+05      0.000      1.000   -4.02e+05    4.02e+05\n",
      "element_406           -0.0389   2.45e+05  -1.59e-07      1.000    -4.8e+05     4.8e+05\n",
      "element_408            0.1087   3.02e+05    3.6e-07      1.000   -5.92e+05    5.92e+05\n",
      "element_409           -0.0649   2.44e+05  -2.66e-07      1.000   -4.78e+05    4.78e+05\n",
      "element_410           25.1240   2.05e+05      0.000      1.000   -4.02e+05    4.02e+05\n",
      "element_411           25.7801   2.05e+05      0.000      1.000   -4.02e+05    4.02e+05\n",
      "element_412           25.7592   2.05e+05      0.000      1.000   -4.02e+05    4.02e+05\n",
      "element_413           25.0144   2.05e+05      0.000      1.000   -4.02e+05    4.02e+05\n",
      "element_414           25.9932   2.05e+05      0.000      1.000   -4.02e+05    4.02e+05\n",
      "element_415           26.2121   2.05e+05      0.000      1.000   -4.02e+05    4.02e+05\n",
      "element_417           26.1413   2.05e+05      0.000      1.000   -4.02e+05    4.02e+05\n",
      "element_418           -0.0462   2.92e+05  -1.58e-07      1.000   -5.72e+05    5.72e+05\n",
      "element_419           26.1389   2.05e+05      0.000      1.000   -4.02e+05    4.02e+05\n",
      "element_423           -0.0437   2.44e+05  -1.79e-07      1.000   -4.78e+05    4.78e+05\n",
      "element_425           26.2593   2.05e+05      0.000      1.000   -4.02e+05    4.02e+05\n",
      "element_426           -0.0426   2.67e+05   -1.6e-07      1.000   -5.22e+05    5.22e+05\n",
      "element_427           -0.0482   2.45e+05  -1.97e-07      1.000   -4.81e+05    4.81e+05\n",
      "element_430           -0.0526   2.42e+05  -2.18e-07      1.000   -4.74e+05    4.74e+05\n",
      "element_431           -0.0969   2.82e+05  -3.44e-07      1.000   -5.52e+05    5.52e+05\n",
      "element_432           26.5640   2.05e+05      0.000      1.000   -4.02e+05    4.02e+05\n",
      "element_433           25.2875   2.05e+05      0.000      1.000   -4.02e+05    4.02e+05\n",
      "element_434           24.8140   2.05e+05      0.000      1.000   -4.02e+05    4.02e+05\n",
      "element_435           25.4260   2.05e+05      0.000      1.000   -4.02e+05    4.02e+05\n",
      "element_437           26.7701   2.05e+05      0.000      1.000   -4.02e+05    4.02e+05\n",
      "element_438           25.9523   2.05e+05      0.000      1.000   -4.02e+05    4.02e+05\n",
      "element_440           25.2024   2.05e+05      0.000      1.000   -4.02e+05    4.02e+05\n",
      "element_441            0.1817   4.16e+05   4.37e-07      1.000   -8.15e+05    8.15e+05\n",
      "element_443           -0.4596    7.7e+05  -5.97e-07      1.000   -1.51e+06    1.51e+06\n",
      "element_444           26.4540   2.05e+05      0.000      1.000   -4.02e+05    4.02e+05\n",
      "element_446           25.8519   2.05e+05      0.000      1.000   -4.02e+05    4.02e+05\n",
      "element_447           26.4676   2.05e+05      0.000      1.000   -4.02e+05    4.02e+05\n",
      "element_448           24.8769   2.05e+05      0.000      1.000   -4.02e+05    4.02e+05\n",
      "element_450           25.9376   2.05e+05      0.000      1.000   -4.02e+05    4.02e+05\n",
      "element_451           -0.0580   2.49e+05  -2.33e-07      1.000   -4.88e+05    4.88e+05\n",
      "element_453           25.8649   2.05e+05      0.000      1.000   -4.02e+05    4.02e+05\n",
      "element_455           24.9005   2.05e+05      0.000      1.000   -4.02e+05    4.02e+05\n",
      "element_456           25.6736   2.05e+05      0.000      1.000   -4.02e+05    4.02e+05\n",
      "element_458           24.7981   2.05e+05      0.000      1.000   -4.02e+05    4.02e+05\n",
      "element_459           -0.0766   2.43e+05  -3.15e-07      1.000   -4.76e+05    4.76e+05\n",
      "element_460            0.0678   2.54e+05   2.67e-07      1.000   -4.99e+05    4.99e+05\n",
      "element_461           24.7850   2.05e+05      0.000      1.000   -4.02e+05    4.02e+05\n",
      "element_462           26.2451   2.05e+05      0.000      1.000   -4.02e+05    4.02e+05\n",
      "element_463           -0.0803   2.59e+05   -3.1e-07      1.000   -5.07e+05    5.07e+05\n",
      "element_464           -0.0013    2.7e+05  -4.82e-09      1.000   -5.29e+05    5.29e+05\n",
      "element_465           26.1032   2.05e+05      0.000      1.000   -4.02e+05    4.02e+05\n",
      "element_466           -0.0629   2.54e+05  -2.47e-07      1.000   -4.99e+05    4.99e+05\n",
      "element_467            0.0162   3.42e+05   4.74e-08      1.000   -6.71e+05    6.71e+05\n",
      "element_471           25.7286   2.05e+05      0.000      1.000   -4.02e+05    4.02e+05\n",
      "element_472           25.1662   2.05e+05      0.000      1.000   -4.02e+05    4.02e+05\n",
      "element_473            0.2619   2.99e+05   8.75e-07      1.000   -5.86e+05    5.86e+05\n",
      "element_475           26.4134   2.05e+05      0.000      1.000   -4.02e+05    4.02e+05\n",
      "element_476           -0.0131   2.76e+05  -4.75e-08      1.000    -5.4e+05     5.4e+05\n",
      "element_478           -0.0065   2.53e+05  -2.57e-08      1.000   -4.95e+05    4.95e+05\n",
      "element_479           26.4394   2.05e+05      0.000      1.000   -4.02e+05    4.02e+05\n",
      "element_480           25.6113   2.05e+05      0.000      1.000   -4.02e+05    4.02e+05\n",
      "element_481           25.5185   2.05e+05      0.000      1.000   -4.02e+05    4.02e+05\n",
      "element_482           24.9384   2.05e+05      0.000      1.000   -4.02e+05    4.02e+05\n",
      "element_483           24.6742   2.05e+05      0.000      1.000   -4.02e+05    4.02e+05\n",
      "element_484           25.9823   2.05e+05      0.000      1.000   -4.02e+05    4.02e+05\n",
      "element_486           25.8473   2.05e+05      0.000      1.000   -4.02e+05    4.02e+05\n",
      "element_487            0.0218   2.86e+05   7.62e-08      1.000   -5.61e+05    5.61e+05\n",
      "element_488            0.0016   2.83e+05   5.64e-09      1.000   -5.55e+05    5.55e+05\n",
      "element_489           26.1481   2.05e+05      0.000      1.000   -4.02e+05    4.02e+05\n",
      "element_491           -0.1311    7.7e+05   -1.7e-07      1.000   -1.51e+06    1.51e+06\n",
      "element_492           -0.1359   2.64e+05  -5.15e-07      1.000   -5.17e+05    5.17e+05\n",
      "element_493           26.2572   2.05e+05      0.000      1.000   -4.02e+05    4.02e+05\n",
      "element_494           24.7736   2.05e+05      0.000      1.000   -4.02e+05    4.02e+05\n",
      "element_495           25.5936   2.05e+05      0.000      1.000   -4.02e+05    4.02e+05\n",
      "element_497           27.5750   2.05e+05      0.000      1.000   -4.02e+05    4.02e+05\n",
      "element_499           25.2920   2.05e+05      0.000      1.000   -4.02e+05    4.02e+05\n",
      "element_500           24.7426   2.05e+05      0.000      1.000   -4.02e+05    4.02e+05\n",
      "element_502           -0.1154   2.94e+05  -3.93e-07      1.000   -5.75e+05    5.75e+05\n",
      "element_503           24.8270   2.05e+05      0.000      1.000   -4.02e+05    4.02e+05\n",
      "element_504           25.7826   2.05e+05      0.000      1.000   -4.02e+05    4.02e+05\n",
      "element_505           25.7816   2.05e+05      0.000      1.000   -4.02e+05    4.02e+05\n",
      "element_506            0.0450   2.91e+05   1.55e-07      1.000    -5.7e+05     5.7e+05\n",
      "element_507           26.0245   2.05e+05      0.000      1.000   -4.02e+05    4.02e+05\n",
      "element_508           25.5231   2.05e+05      0.000      1.000   -4.02e+05    4.02e+05\n",
      "element_510           24.8597   2.05e+05      0.000      1.000   -4.02e+05    4.02e+05\n",
      "element_511            0.0455   2.99e+05   1.52e-07      1.000   -5.85e+05    5.85e+05\n",
      "element_512            0.1059   2.69e+05   3.94e-07      1.000   -5.27e+05    5.27e+05\n",
      "element_513           26.3471   2.05e+05      0.000      1.000   -4.02e+05    4.02e+05\n",
      "element_514           25.0492   2.05e+05      0.000      1.000   -4.02e+05    4.02e+05\n",
      "element_515           -0.3925   3.89e+05  -1.01e-06      1.000   -7.62e+05    7.62e+05\n",
      "element_516           25.9155   2.05e+05      0.000      1.000   -4.02e+05    4.02e+05\n",
      "element_517           -0.1029   3.26e+05  -3.16e-07      1.000   -6.39e+05    6.39e+05\n",
      "element_518           -0.0411   3.87e+05  -1.06e-07      1.000   -7.59e+05    7.59e+05\n",
      "element_519           -0.0357   2.87e+05  -1.25e-07      1.000   -5.63e+05    5.63e+05\n",
      "element_521            0.0896   4.74e+05   1.89e-07      1.000   -9.28e+05    9.28e+05\n",
      "element_522            0.0480   3.43e+05    1.4e-07      1.000   -6.72e+05    6.72e+05\n",
      "element_523            0.0918    7.7e+05   1.19e-07      1.000   -1.51e+06    1.51e+06\n",
      "element_524           24.7384   2.05e+05      0.000      1.000   -4.02e+05    4.02e+05\n",
      "element_526           25.3843   2.05e+05      0.000      1.000   -4.02e+05    4.02e+05\n",
      "element_527           24.5736   2.05e+05      0.000      1.000   -4.02e+05    4.02e+05\n",
      "element_531           25.7890   2.05e+05      0.000      1.000   -4.02e+05    4.02e+05\n",
      "element_534           26.3134   2.05e+05      0.000      1.000   -4.02e+05    4.02e+05\n",
      "element_535           25.4988   2.05e+05      0.000      1.000   -4.02e+05    4.02e+05\n",
      "element_539           25.1746   2.05e+05      0.000      1.000   -4.02e+05    4.02e+05\n",
      "element_540           -0.2623   3.63e+05  -7.22e-07      1.000   -7.12e+05    7.12e+05\n",
      "element_543           25.5792   2.05e+05      0.000      1.000   -4.02e+05    4.02e+05\n",
      "element_544            0.1761   5.62e+05   3.13e-07      1.000    -1.1e+06     1.1e+06\n",
      "element_549           -0.0853   3.45e+05  -2.48e-07      1.000   -6.75e+05    6.75e+05\n",
      "element_550           26.1460   2.05e+05      0.000      1.000   -4.02e+05    4.02e+05\n",
      "element_552           -0.1798   5.63e+05  -3.19e-07      1.000    -1.1e+06     1.1e+06\n",
      "element_556           -0.0867    2.7e+05  -3.21e-07      1.000   -5.29e+05    5.29e+05\n",
      "element_557           -0.1358    7.7e+05  -1.76e-07      1.000   -1.51e+06    1.51e+06\n",
      "element_560           -0.2633    7.7e+05  -3.42e-07      1.000   -1.51e+06    1.51e+06\n",
      "element_562           -0.0530    7.7e+05  -6.88e-08      1.000   -1.51e+06    1.51e+06\n",
      "element_563           -0.6569    7.7e+05  -8.53e-07      1.000   -1.51e+06    1.51e+06\n",
      "element_565            0.5878    7.7e+05   7.63e-07      1.000   -1.51e+06    1.51e+06\n",
      "element_566           -0.2992    7.7e+05  -3.89e-07      1.000   -1.51e+06    1.51e+06\n",
      "element_568           -0.4965    7.7e+05  -6.45e-07      1.000   -1.51e+06    1.51e+06\n",
      "element_569           26.9644   2.05e+05      0.000      1.000   -4.02e+05    4.02e+05\n",
      "element_570           -0.0906   4.72e+05  -1.92e-07      1.000   -9.24e+05    9.24e+05\n",
      "element_571           26.6267   2.05e+05      0.000      1.000   -4.02e+05    4.02e+05\n",
      "element_573           -0.2081   5.56e+05  -3.74e-07      1.000   -1.09e+06    1.09e+06\n",
      "element_574           -0.0771   4.17e+05  -1.85e-07      1.000   -8.18e+05    8.18e+05\n",
      "element_575           26.8046   2.05e+05      0.000      1.000   -4.02e+05    4.02e+05\n",
      "element_579           -0.0982   3.27e+05     -3e-07      1.000   -6.41e+05    6.41e+05\n",
      "element_580            0.1608   3.28e+05    4.9e-07      1.000   -6.43e+05    6.43e+05\n",
      "element_581           -0.4850   5.62e+05  -8.62e-07      1.000    -1.1e+06     1.1e+06\n",
      "element_585           26.0319   2.05e+05      0.000      1.000   -4.02e+05    4.02e+05\n",
      "element_586           -0.0380   4.12e+05  -9.21e-08      1.000   -8.08e+05    8.08e+05\n",
      "element_587           26.5873   2.05e+05      0.000      1.000   -4.02e+05    4.02e+05\n",
      "element_588            0.2378    7.7e+05   3.09e-07      1.000   -1.51e+06    1.51e+06\n",
      "element_589           -0.0764   3.59e+05  -2.13e-07      1.000   -7.04e+05    7.04e+05\n",
      "element_590           26.4388   2.05e+05      0.000      1.000   -4.02e+05    4.02e+05\n",
      "element_591           27.2428   2.05e+05      0.000      1.000   -4.02e+05    4.02e+05\n",
      "element_592           25.7126   2.05e+05      0.000      1.000   -4.02e+05    4.02e+05\n",
      "element_593           26.6342   2.05e+05      0.000      1.000   -4.02e+05    4.02e+05\n",
      "element_594           -0.1075    7.7e+05   -1.4e-07      1.000   -1.51e+06    1.51e+06\n",
      "element_599            0.1443    7.7e+05   1.87e-07      1.000   -1.51e+06    1.51e+06\n",
      "element_601           -0.0908    7.7e+05  -1.18e-07      1.000   -1.51e+06    1.51e+06\n",
      "element_602            0.0616    7.7e+05      8e-08      1.000   -1.51e+06    1.51e+06\n",
      "element_603           -0.3306    7.7e+05  -4.29e-07      1.000   -1.51e+06    1.51e+06\n",
      "element_605            0.7851    7.7e+05   1.02e-06      1.000   -1.51e+06    1.51e+06\n",
      "element_607           -0.2745   5.62e+05  -4.88e-07      1.000    -1.1e+06     1.1e+06\n",
      "element_608            0.1443    7.7e+05   1.87e-07      1.000   -1.51e+06    1.51e+06\n",
      "======================================================================================\n"
     ]
    }
   ],
   "source": [
    "print(sppm_results.summary())"
   ]
  },
  {
   "cell_type": "markdown",
   "metadata": {
    "heading_collapsed": true,
    "hidden": true
   },
   "source": [
    "### Model fit"
   ]
  },
  {
   "cell_type": "code",
   "execution_count": 119,
   "metadata": {
    "ExecuteTime": {
     "end_time": "2019-04-09T16:45:02.723572Z",
     "start_time": "2019-04-09T16:45:02.718146Z"
    },
    "hidden": true
   },
   "outputs": [
    {
     "data": {
      "text/plain": [
       "5348.766395808333"
      ]
     },
     "execution_count": 119,
     "metadata": {},
     "output_type": "execute_result"
    }
   ],
   "source": [
    "sppm_results.aic"
   ]
  },
  {
   "cell_type": "code",
   "execution_count": 120,
   "metadata": {
    "ExecuteTime": {
     "end_time": "2019-04-09T16:45:02.769148Z",
     "start_time": "2019-04-09T16:45:02.726908Z"
    },
    "hidden": true
   },
   "outputs": [
    {
     "data": {
      "text/plain": [
       "-66285.28777869102"
      ]
     },
     "execution_count": 120,
     "metadata": {},
     "output_type": "execute_result"
    }
   ],
   "source": [
    "sppm_results.bic"
   ]
  },
  {
   "cell_type": "code",
   "execution_count": 121,
   "metadata": {
    "ExecuteTime": {
     "end_time": "2019-04-09T16:45:02.796661Z",
     "start_time": "2019-04-09T16:45:02.771191Z"
    },
    "hidden": true
   },
   "outputs": [
    {
     "data": {
      "text/plain": [
       "(False, 1.0)"
      ]
     },
     "execution_count": 121,
     "metadata": {},
     "output_type": "execute_result"
    }
   ],
   "source": [
    "sppm_pearson_results = goodness_fit.pearson_chi_squared_test(sppm_results)\n",
    "sppm_pearson_results"
   ]
  },
  {
   "cell_type": "code",
   "execution_count": 122,
   "metadata": {
    "ExecuteTime": {
     "end_time": "2019-04-09T16:45:02.830550Z",
     "start_time": "2019-04-09T16:45:02.799902Z"
    },
    "hidden": true
   },
   "outputs": [
    {
     "name": "stderr",
     "output_type": "stream",
     "text": [
      "/home/tom/footbot/venv/lib/python3.6/site-packages/statsmodels/genmod/families/family.py:340: RuntimeWarning: invalid value encountered in sqrt\n",
      "  np.sqrt(2 * (endog * np.log(endog_mu) - (endog - mu))) / scale)\n"
     ]
    },
    {
     "data": {
      "text/plain": [
       "count    8160.000000\n",
       "mean       -0.165964\n",
       "std         0.573409\n",
       "min        -1.322024\n",
       "25%        -0.484546\n",
       "50%        -0.300790\n",
       "75%        -0.000001\n",
       "max         2.984467\n",
       "dtype: float64"
      ]
     },
     "execution_count": 122,
     "metadata": {},
     "output_type": "execute_result"
    }
   ],
   "source": [
    "sppm_results.resid_deviance.describe()"
   ]
  },
  {
   "cell_type": "code",
   "execution_count": 123,
   "metadata": {
    "ExecuteTime": {
     "end_time": "2019-04-09T16:45:03.090288Z",
     "start_time": "2019-04-09T16:45:02.833072Z"
    },
    "hidden": true
   },
   "outputs": [
    {
     "name": "stderr",
     "output_type": "stream",
     "text": [
      "/home/tom/footbot/venv/lib/python3.6/site-packages/numpy/lib/histograms.py:754: RuntimeWarning: invalid value encountered in greater_equal\n",
      "  keep = (tmp_a >= first_edge)\n",
      "/home/tom/footbot/venv/lib/python3.6/site-packages/numpy/lib/histograms.py:755: RuntimeWarning: invalid value encountered in less_equal\n",
      "  keep &= (tmp_a <= last_edge)\n"
     ]
    },
    {
     "data": {
      "image/png": "[encoded data removed]",
      "text/plain": [
       "<Figure size 432x288 with 1 Axes>"
      ]
     },
     "metadata": {
      "needs_background": "light"
     },
     "output_type": "display_data"
    }
   ],
   "source": [
    "plt.figure()\n",
    "plt.hist(sppm_results.resid_deviance)\n",
    "plt.show()"
   ]
  },
  {
   "cell_type": "markdown",
   "metadata": {
    "heading_collapsed": true,
    "hidden": true
   },
   "source": [
    "## Simple Poisson player minutes model"
   ]
  },
  {
   "cell_type": "markdown",
   "metadata": {
    "heading_collapsed": true,
    "hidden": true
   },
   "source": [
    "### Preparing data"
   ]
  },
  {
   "cell_type": "code",
   "execution_count": 124,
   "metadata": {
    "ExecuteTime": {
     "end_time": "2019-04-09T16:45:03.102329Z",
     "start_time": "2019-04-09T16:45:03.092610Z"
    },
    "hidden": true
   },
   "outputs": [],
   "source": [
    "sppmm_df = element_gameweek_df.copy()"
   ]
  },
  {
   "cell_type": "code",
   "execution_count": 125,
   "metadata": {
    "ExecuteTime": {
     "end_time": "2019-04-09T16:45:03.167305Z",
     "start_time": "2019-04-09T16:45:03.104569Z"
    },
    "hidden": true
   },
   "outputs": [],
   "source": [
    "sppmm_df = player.add_categorical_variables(sppmm_df, 'opposition_team')\n",
    "sppmm_df = player.add_categorical_variables(sppmm_df, 'element')"
   ]
  },
  {
   "cell_type": "code",
   "execution_count": 126,
   "metadata": {
    "ExecuteTime": {
     "end_time": "2019-04-09T16:45:03.179681Z",
     "start_time": "2019-04-09T16:45:03.169879Z"
    },
    "hidden": true
   },
   "outputs": [],
   "source": [
    "sppmm_redundant_columns = [\n",
    "    'row_id', 'goals_scored', 'attempted_passes', 'big_chances_created',\n",
    "    'big_chances_missed', 'bonus', 'bps', 'clean_sheets',\n",
    "    'clearances_blocks_interceptions', 'completed_passes', 'creativity',\n",
    "    'dribbles', 'ea_index', 'element', 'errors_leading_to_goal',\n",
    "    'errors_leading_to_goal_attempt', 'fixture', 'fouls', 'goals_conceded',\n",
    "    'ict_index', 'id', 'influence', 'key_passes', 'kickoff_time',\n",
    "    'kickoff_time_formatted', 'loaned_in', 'loaned_out', 'offside',\n",
    "    'open_play_crosses', 'opponent_team', 'own_goals', 'penalties_conceded',\n",
    "    'penalties_missed', 'penalties_saved', 'recoveries', 'red_cards', 'round',\n",
    "    'saves', 'selected', 'tackled', 'tackles', 'target_missed', 'team_a_score',\n",
    "    'team_h_score', 'threat', 'total_points', 'transfers_balance',\n",
    "    'transfers_in', 'transfers_out', 'value', 'winning_goals',\n",
    "    'yellow_cards', 'event', 'team_a', 'team_a_difficulty', 'team_h',\n",
    "    'team_h_difficulty', 'element_type', 'team', 'web_name', 'safe_web_name',\n",
    "    'own_team', 'opposition_team', 'minutes',\n",
    "    'element_fixture_rank', 'minutes_rolling',\n",
    "    'goals_scored_rolling', 'assists_rolling',\n",
    "    'goals_scored_per_minute_rolling', 'assists_per_minute_rolling',\n",
    "    'minutes_per_fixture_rolling'\n",
    "]"
   ]
  },
  {
   "cell_type": "code",
   "execution_count": 127,
   "metadata": {
    "ExecuteTime": {
     "end_time": "2019-04-09T16:45:03.212786Z",
     "start_time": "2019-04-09T16:45:03.181808Z"
    },
    "hidden": true
   },
   "outputs": [],
   "source": [
    "sppmm_df['log_minutes'] = np.log(sppmm_df['minutes'])"
   ]
  },
  {
   "cell_type": "code",
   "execution_count": 128,
   "metadata": {
    "ExecuteTime": {
     "end_time": "2019-04-09T16:45:03.249182Z",
     "start_time": "2019-04-09T16:45:03.215162Z"
    },
    "hidden": true
   },
   "outputs": [],
   "source": [
    "sppmm_df = player.remove_redundant_columns(sppmm_df, sppmm_redundant_columns)"
   ]
  },
  {
   "cell_type": "code",
   "execution_count": 129,
   "metadata": {
    "ExecuteTime": {
     "end_time": "2019-04-09T16:45:03.427487Z",
     "start_time": "2019-04-09T16:45:03.251537Z"
    },
    "hidden": true
   },
   "outputs": [],
   "source": [
    "sppmm_response_df, sppmm_explanatory_df = player.get_response_explanatory_dfs(sppmm_df, 'assists')"
   ]
  },
  {
   "cell_type": "code",
   "execution_count": 130,
   "metadata": {
    "ExecuteTime": {
     "end_time": "2019-04-09T16:45:03.439311Z",
     "start_time": "2019-04-09T16:45:03.431899Z"
    },
    "hidden": true
   },
   "outputs": [
    {
     "data": {
      "text/plain": [
       "Index(['const', 'was_home', 'opposition_team_2', 'opposition_team_3',\n",
       "       'opposition_team_4', 'opposition_team_5', 'opposition_team_6',\n",
       "       'opposition_team_7', 'opposition_team_8', 'opposition_team_9',\n",
       "       ...\n",
       "       'element_593', 'element_594', 'element_599', 'element_601',\n",
       "       'element_602', 'element_603', 'element_605', 'element_607',\n",
       "       'element_608', 'log_minutes'],\n",
       "      dtype='object', length=480)"
      ]
     },
     "execution_count": 130,
     "metadata": {},
     "output_type": "execute_result"
    }
   ],
   "source": [
    "sppmm_explanatory_df.columns"
   ]
  },
  {
   "cell_type": "markdown",
   "metadata": {
    "heading_collapsed": true,
    "hidden": true
   },
   "source": [
    "### Fitting model"
   ]
  },
  {
   "cell_type": "code",
   "execution_count": 131,
   "metadata": {
    "ExecuteTime": {
     "end_time": "2019-04-09T16:45:18.909568Z",
     "start_time": "2019-04-09T16:45:03.441555Z"
    },
    "hidden": true
   },
   "outputs": [],
   "source": [
    "sppmm_results = sm.GLM(\n",
    "    sppmm_response_df,\n",
    "    sppmm_explanatory_df,\n",
    "    family=sm.families.Poisson(),\n",
    "    missing='drop'\n",
    ").fit()"
   ]
  },
  {
   "cell_type": "code",
   "execution_count": 132,
   "metadata": {
    "ExecuteTime": {
     "end_time": "2019-04-09T16:45:19.248472Z",
     "start_time": "2019-04-09T16:45:18.918876Z"
    },
    "hidden": true
   },
   "outputs": [
    {
     "name": "stdout",
     "output_type": "stream",
     "text": [
      "                 Generalized Linear Model Regression Results                  \n",
      "==============================================================================\n",
      "Dep. Variable:                assists   No. Observations:                 8161\n",
      "Model:                            GLM   Df Residuals:                     7681\n",
      "Model Family:                 Poisson   Df Model:                          479\n",
      "Link Function:                    log   Scale:                             1.0\n",
      "Method:                          IRLS   Log-Likelihood:                -2158.2\n",
      "Date:                Tue, 09 Apr 2019   Deviance:                       2833.1\n",
      "Time:                        16:45:18   Pearson chi2:                 5.64e+03\n",
      "No. Iterations:                    25                                         \n",
      "======================================================================================\n",
      "                         coef    std err          z      P>|z|      [0.025      0.975]\n",
      "--------------------------------------------------------------------------------------\n",
      "const                -30.8171   2.03e+05     -0.000      1.000   -3.99e+05    3.99e+05\n",
      "was_home               0.1906      0.073      2.625      0.009       0.048       0.333\n",
      "opposition_team_2      0.3713      0.228      1.626      0.104      -0.076       0.819\n",
      "opposition_team_3      0.0830      0.246      0.337      0.736      -0.400       0.565\n",
      "opposition_team_4      0.4097      0.230      1.784      0.074      -0.040       0.860\n",
      "opposition_team_5      0.4788      0.226      2.122      0.034       0.037       0.921\n",
      "opposition_team_6     -0.1513      0.262     -0.578      0.564      -0.665       0.362\n",
      "opposition_team_7      0.0959      0.244      0.393      0.694      -0.383       0.574\n",
      "opposition_team_8      0.0820      0.246      0.334      0.739      -0.399       0.563\n",
      "opposition_team_9      0.5795      0.220      2.637      0.008       0.149       1.010\n",
      "opposition_team_10     0.4483      0.226      1.983      0.047       0.005       0.891\n",
      "opposition_team_11     0.0552      0.245      0.226      0.822      -0.424       0.535\n",
      "opposition_team_12    -0.7789      0.309     -2.524      0.012      -1.384      -0.174\n",
      "opposition_team_13    -0.6189      0.309     -2.005      0.045      -1.224      -0.014\n",
      "opposition_team_14     0.0952      0.243      0.391      0.695      -0.382       0.572\n",
      "opposition_team_15     0.0624      0.243      0.257      0.797      -0.414       0.539\n",
      "opposition_team_16     0.2748      0.233      1.180      0.238      -0.181       0.731\n",
      "opposition_team_17    -0.1020      0.256     -0.398      0.690      -0.604       0.400\n",
      "opposition_team_18     0.1162      0.241      0.481      0.630      -0.357       0.589\n",
      "opposition_team_19     0.2432      0.237      1.025      0.305      -0.222       0.708\n",
      "opposition_team_20     0.0660      0.248      0.267      0.790      -0.419       0.551\n",
      "element_4             26.6085   2.03e+05      0.000      1.000   -3.99e+05    3.99e+05\n",
      "element_5             26.0879   2.03e+05      0.000      1.000   -3.99e+05    3.99e+05\n",
      "element_6             -0.0400   3.06e+05   -1.3e-07      1.000   -6.01e+05    6.01e+05\n",
      "element_7             -0.0600   2.49e+05  -2.41e-07      1.000   -4.88e+05    4.88e+05\n",
      "element_8             26.8309   2.03e+05      0.000      1.000   -3.99e+05    3.99e+05\n",
      "element_9              0.0230   2.47e+05   9.32e-08      1.000   -4.84e+05    4.84e+05\n",
      "element_10             1.9450    7.7e+05   2.53e-06      1.000   -1.51e+06    1.51e+06\n",
      "element_11             0.1557   2.91e+05   5.36e-07      1.000   -5.69e+05    5.69e+05\n",
      "element_12            25.4903   2.03e+05      0.000      1.000   -3.99e+05    3.99e+05\n",
      "element_13            26.1599   2.03e+05      0.000      1.000   -3.99e+05    3.99e+05\n",
      "element_14            26.8954   2.03e+05      0.000      1.000   -3.99e+05    3.99e+05\n",
      "element_15            26.5926   2.03e+05      0.000      1.000   -3.99e+05    3.99e+05\n",
      "element_16             0.2649   3.76e+05   7.05e-07      1.000   -7.36e+05    7.36e+05\n",
      "element_17            25.3384   2.03e+05      0.000      1.000   -3.99e+05    3.99e+05\n",
      "element_18            26.5650   2.03e+05      0.000      1.000   -3.99e+05    3.99e+05\n",
      "element_20            25.6493   2.03e+05      0.000      1.000   -3.99e+05    3.99e+05\n",
      "element_21            26.7253   2.03e+05      0.000      1.000   -3.99e+05    3.99e+05\n",
      "element_22            26.9944   2.03e+05      0.000      1.000   -3.99e+05    3.99e+05\n",
      "element_23            26.5170   2.03e+05      0.000      1.000   -3.99e+05    3.99e+05\n",
      "element_26            25.8895   2.03e+05      0.000      1.000   -3.99e+05    3.99e+05\n",
      "element_27            24.6153   2.03e+05      0.000      1.000   -3.99e+05    3.99e+05\n",
      "element_28             0.1654   2.52e+05   6.56e-07      1.000   -4.94e+05    4.94e+05\n",
      "element_29            -0.0602   2.57e+05  -2.34e-07      1.000   -5.04e+05    5.04e+05\n",
      "element_30             1.3051   3.71e+05   3.52e-06      1.000   -7.27e+05    7.27e+05\n",
      "element_31            24.4235   2.03e+05      0.000      1.000   -3.99e+05    3.99e+05\n",
      "element_32             0.5343    7.7e+05   6.94e-07      1.000   -1.51e+06    1.51e+06\n",
      "element_33            24.7321   2.03e+05      0.000      1.000   -3.99e+05    3.99e+05\n",
      "element_35             0.1763   2.61e+05   6.76e-07      1.000   -5.12e+05    5.12e+05\n",
      "element_36            26.4487   2.03e+05      0.000      1.000   -3.99e+05    3.99e+05\n",
      "element_37            25.7277   2.03e+05      0.000      1.000   -3.99e+05    3.99e+05\n",
      "element_38            25.7554   2.03e+05      0.000      1.000   -3.99e+05    3.99e+05\n",
      "element_39             0.4169   2.72e+05   1.53e-06      1.000   -5.34e+05    5.34e+05\n",
      "element_40            26.7809   2.03e+05      0.000      1.000   -3.99e+05    3.99e+05\n",
      "element_42            26.1053   2.03e+05      0.000      1.000   -3.99e+05    3.99e+05\n",
      "element_43            26.8852   2.03e+05      0.000      1.000   -3.99e+05    3.99e+05\n",
      "element_44             1.4280   2.53e+05   5.64e-06      1.000   -4.96e+05    4.96e+05\n",
      "element_45            25.6663   2.03e+05      0.000      1.000   -3.99e+05    3.99e+05\n",
      "element_46             1.5991   4.09e+05   3.91e-06      1.000   -8.01e+05    8.01e+05\n",
      "element_48            24.4718   2.03e+05      0.000      1.000   -3.99e+05    3.99e+05\n",
      "element_49            25.2210   2.03e+05      0.000      1.000   -3.99e+05    3.99e+05\n",
      "element_50            25.7427   2.03e+05      0.000      1.000   -3.99e+05    3.99e+05\n",
      "element_51             0.0131   2.56e+05   5.12e-08      1.000   -5.01e+05    5.01e+05\n",
      "element_54             0.0845   3.25e+05    2.6e-07      1.000   -6.37e+05    6.37e+05\n",
      "element_55            26.6405   2.03e+05      0.000      1.000   -3.99e+05    3.99e+05\n",
      "element_56            24.7483   2.03e+05      0.000      1.000   -3.99e+05    3.99e+05\n",
      "element_57            25.7644   2.03e+05      0.000      1.000   -3.99e+05    3.99e+05\n",
      "element_58            26.2182   2.03e+05      0.000      1.000   -3.99e+05    3.99e+05\n",
      "element_59            25.7035   2.03e+05      0.000      1.000   -3.99e+05    3.99e+05\n",
      "element_60            24.5549   2.03e+05      0.000      1.000   -3.99e+05    3.99e+05\n",
      "element_61            26.4794   2.03e+05      0.000      1.000   -3.99e+05    3.99e+05\n",
      "element_62             0.1366   2.39e+05   5.71e-07      1.000   -4.69e+05    4.69e+05\n",
      "element_65             0.6265   2.45e+05   2.56e-06      1.000    -4.8e+05     4.8e+05\n",
      "element_66             0.4737   2.66e+05   1.78e-06      1.000   -5.21e+05    5.21e+05\n",
      "element_69            -0.0645   2.74e+05  -2.36e-07      1.000   -5.37e+05    5.37e+05\n",
      "element_70            25.0834   2.03e+05      0.000      1.000   -3.99e+05    3.99e+05\n",
      "element_71            -0.2207   4.72e+05  -4.68e-07      1.000   -9.25e+05    9.25e+05\n",
      "element_72            25.1966   2.03e+05      0.000      1.000   -3.99e+05    3.99e+05\n",
      "element_73            26.1898   2.03e+05      0.000      1.000   -3.99e+05    3.99e+05\n",
      "element_74            24.4485   2.03e+05      0.000      1.000   -3.99e+05    3.99e+05\n",
      "element_75            -0.0613   2.62e+05  -2.34e-07      1.000   -5.14e+05    5.14e+05\n",
      "element_76            26.6669   2.03e+05      0.000      1.000   -3.99e+05    3.99e+05\n",
      "element_77             0.1579   3.59e+05    4.4e-07      1.000   -7.04e+05    7.04e+05\n",
      "element_78            25.6015   2.03e+05      0.000      1.000   -3.99e+05    3.99e+05\n",
      "element_79            25.8244   2.03e+05      0.000      1.000   -3.99e+05    3.99e+05\n",
      "element_80            26.5125   2.03e+05      0.000      1.000   -3.99e+05    3.99e+05\n",
      "element_82            25.1191   2.03e+05      0.000      1.000   -3.99e+05    3.99e+05\n",
      "element_83            25.1723   2.03e+05      0.000      1.000   -3.99e+05    3.99e+05\n",
      "element_84             0.4918   2.53e+05   1.94e-06      1.000   -4.96e+05    4.96e+05\n",
      "element_85            25.8278   2.03e+05      0.000      1.000   -3.99e+05    3.99e+05\n",
      "element_87            24.6191   2.03e+05      0.000      1.000   -3.99e+05    3.99e+05\n",
      "element_90            25.9302   2.03e+05      0.000      1.000   -3.99e+05    3.99e+05\n",
      "element_91            24.5100   2.03e+05      0.000      1.000   -3.99e+05    3.99e+05\n",
      "element_92            24.4094   2.03e+05      0.000      1.000   -3.99e+05    3.99e+05\n",
      "element_94            24.6974   2.03e+05      0.000      1.000   -3.99e+05    3.99e+05\n",
      "element_95             0.2328   2.74e+05   8.48e-07      1.000   -5.38e+05    5.38e+05\n",
      "element_96             0.7110   4.65e+05   1.53e-06      1.000   -9.12e+05    9.12e+05\n",
      "element_98             0.1591   2.46e+05   6.47e-07      1.000   -4.82e+05    4.82e+05\n",
      "element_99            24.8716   2.03e+05      0.000      1.000   -3.99e+05    3.99e+05\n",
      "element_100            0.5436   2.73e+05   1.99e-06      1.000   -5.36e+05    5.36e+05\n",
      "element_101           25.3582   2.03e+05      0.000      1.000   -3.99e+05    3.99e+05\n",
      "element_102           24.8320   2.03e+05      0.000      1.000   -3.99e+05    3.99e+05\n",
      "element_104            1.5468    5.4e+05   2.87e-06      1.000   -1.06e+06    1.06e+06\n",
      "element_105            0.8610   2.89e+05   2.98e-06      1.000   -5.67e+05    5.67e+05\n",
      "element_106           24.8706   2.03e+05      0.000      1.000   -3.99e+05    3.99e+05\n",
      "element_107           25.8071   2.03e+05      0.000      1.000   -3.99e+05    3.99e+05\n",
      "element_109            1.6199   3.68e+05    4.4e-06      1.000   -7.21e+05    7.21e+05\n",
      "element_110           26.2548   2.03e+05      0.000      1.000   -3.99e+05    3.99e+05\n",
      "element_113           25.9719   2.03e+05      0.000      1.000   -3.99e+05    3.99e+05\n",
      "element_114            0.6902    7.7e+05   8.97e-07      1.000   -1.51e+06    1.51e+06\n",
      "element_115           26.5971   2.03e+05      0.000      1.000   -3.99e+05    3.99e+05\n",
      "element_116           25.1229   2.03e+05      0.000      1.000   -3.99e+05    3.99e+05\n",
      "element_117            1.3138   5.53e+05   2.38e-06      1.000   -1.08e+06    1.08e+06\n",
      "element_118           24.4442   2.03e+05      0.000      1.000   -3.99e+05    3.99e+05\n",
      "element_119           -0.3352   4.18e+05  -8.02e-07      1.000    -8.2e+05     8.2e+05\n",
      "element_120            0.7816   4.68e+05   1.67e-06      1.000   -9.17e+05    9.17e+05\n",
      "element_121            0.3917   3.19e+05   1.23e-06      1.000   -6.25e+05    6.25e+05\n",
      "element_122           26.9841   2.03e+05      0.000      1.000   -3.99e+05    3.99e+05\n",
      "element_123            0.5989   3.61e+05   1.66e-06      1.000   -7.07e+05    7.07e+05\n",
      "element_124           26.6399   2.03e+05      0.000      1.000   -3.99e+05    3.99e+05\n",
      "element_125           24.8691   2.03e+05      0.000      1.000   -3.99e+05    3.99e+05\n",
      "element_126           25.7897   2.03e+05      0.000      1.000   -3.99e+05    3.99e+05\n",
      "element_127           26.4630   2.03e+05      0.000      1.000   -3.99e+05    3.99e+05\n",
      "element_131           26.6447   2.03e+05      0.000      1.000   -3.99e+05    3.99e+05\n",
      "element_132           25.5981   2.03e+05      0.000      1.000   -3.99e+05    3.99e+05\n",
      "element_133           26.7293   2.03e+05      0.000      1.000   -3.99e+05    3.99e+05\n",
      "element_134            0.1416    2.7e+05   5.24e-07      1.000    -5.3e+05     5.3e+05\n",
      "element_138           24.5253   2.03e+05      0.000      1.000   -3.99e+05    3.99e+05\n",
      "element_139            0.3585   3.47e+05   1.03e-06      1.000    -6.8e+05     6.8e+05\n",
      "element_140           -0.0774   3.41e+05  -2.27e-07      1.000   -6.69e+05    6.69e+05\n",
      "element_141           25.9755   2.03e+05      0.000      1.000   -3.99e+05    3.99e+05\n",
      "element_142           25.0761   2.03e+05      0.000      1.000   -3.99e+05    3.99e+05\n",
      "element_143           -0.1145   2.46e+05  -4.65e-07      1.000   -4.82e+05    4.82e+05\n",
      "element_145           25.1574   2.03e+05      0.000      1.000   -3.99e+05    3.99e+05\n",
      "element_146            0.9884   2.76e+05   3.58e-06      1.000   -5.41e+05    5.41e+05\n",
      "element_147           26.0775   2.03e+05      0.000      1.000   -3.99e+05    3.99e+05\n",
      "element_148            2.0124    7.7e+05   2.62e-06      1.000   -1.51e+06    1.51e+06\n",
      "element_149           25.8208   2.03e+05      0.000      1.000   -3.99e+05    3.99e+05\n",
      "element_150           24.3728   2.03e+05      0.000      1.000   -3.99e+05    3.99e+05\n",
      "element_151           26.4859   2.03e+05      0.000      1.000   -3.99e+05    3.99e+05\n",
      "element_152            0.3812   2.82e+05   1.35e-06      1.000   -5.53e+05    5.53e+05\n",
      "element_153            1.0521   2.92e+05    3.6e-06      1.000   -5.73e+05    5.73e+05\n",
      "element_156           -0.0157   3.61e+05  -4.34e-08      1.000   -7.07e+05    7.07e+05\n",
      "element_157           25.3757   2.03e+05      0.000      1.000   -3.99e+05    3.99e+05\n",
      "element_158            0.4037    4.4e+05   9.17e-07      1.000   -8.63e+05    8.63e+05\n",
      "element_160           -0.2775   3.84e+05  -7.23e-07      1.000   -7.53e+05    7.53e+05\n",
      "element_161           25.6493   2.03e+05      0.000      1.000   -3.99e+05    3.99e+05\n",
      "element_162           25.2088   2.03e+05      0.000      1.000   -3.99e+05    3.99e+05\n",
      "element_164           25.7932   2.03e+05      0.000      1.000   -3.99e+05    3.99e+05\n",
      "element_167           25.9993   2.03e+05      0.000      1.000   -3.99e+05    3.99e+05\n",
      "element_168           24.6025   2.03e+05      0.000      1.000   -3.99e+05    3.99e+05\n",
      "element_169            0.2233   2.67e+05   8.35e-07      1.000   -5.24e+05    5.24e+05\n",
      "element_170           26.4098   2.03e+05      0.000      1.000   -3.99e+05    3.99e+05\n",
      "element_172           25.8320   2.03e+05      0.000      1.000   -3.99e+05    3.99e+05\n",
      "element_175           26.1186   2.03e+05      0.000      1.000   -3.99e+05    3.99e+05\n",
      "element_176            0.3306   2.76e+05    1.2e-06      1.000   -5.42e+05    5.42e+05\n",
      "element_177           26.3091   2.03e+05      0.000      1.000   -3.99e+05    3.99e+05\n",
      "element_180            0.0040   2.55e+05   1.56e-08      1.000      -5e+05       5e+05\n",
      "element_181           24.5377   2.03e+05      0.000      1.000   -3.99e+05    3.99e+05\n",
      "element_182           24.7939   2.03e+05      0.000      1.000   -3.99e+05    3.99e+05\n",
      "element_183            0.3645   2.67e+05   1.37e-06      1.000   -5.23e+05    5.23e+05\n",
      "element_184           26.7533   2.03e+05      0.000      1.000   -3.99e+05    3.99e+05\n",
      "element_185            0.7203   2.83e+05   2.54e-06      1.000   -5.55e+05    5.55e+05\n",
      "element_186            0.9421   2.87e+05   3.29e-06      1.000   -5.62e+05    5.62e+05\n",
      "element_187            1.2017   3.54e+05   3.39e-06      1.000   -6.95e+05    6.95e+05\n",
      "element_189            0.2215   2.84e+05   7.81e-07      1.000   -5.56e+05    5.56e+05\n",
      "element_192           24.4337   2.03e+05      0.000      1.000   -3.99e+05    3.99e+05\n",
      "element_193           25.9732   2.03e+05      0.000      1.000   -3.99e+05    3.99e+05\n",
      "element_194            0.2576   3.06e+05   8.41e-07      1.000      -6e+05       6e+05\n",
      "element_195           24.5987   2.03e+05      0.000      1.000   -3.99e+05    3.99e+05\n",
      "element_197           -0.0091   2.51e+05  -3.62e-08      1.000   -4.92e+05    4.92e+05\n",
      "element_198           24.6330   2.03e+05      0.000      1.000   -3.99e+05    3.99e+05\n",
      "element_199           24.7466   2.03e+05      0.000      1.000   -3.99e+05    3.99e+05\n",
      "element_200           -0.1794   3.85e+05  -4.65e-07      1.000   -7.55e+05    7.55e+05\n",
      "element_201           24.7405   2.03e+05      0.000      1.000   -3.99e+05    3.99e+05\n",
      "element_202           -0.0846   2.46e+05  -3.44e-07      1.000   -4.82e+05    4.82e+05\n",
      "element_204            1.1463   3.94e+05   2.91e-06      1.000   -7.72e+05    7.72e+05\n",
      "element_205            1.3874   5.57e+05   2.49e-06      1.000   -1.09e+06    1.09e+06\n",
      "element_206            0.0794   2.46e+05   3.23e-07      1.000   -4.82e+05    4.82e+05\n",
      "element_207            1.0305   4.01e+05   2.57e-06      1.000   -7.85e+05    7.85e+05\n",
      "element_208            0.1915   2.74e+05   6.99e-07      1.000   -5.37e+05    5.37e+05\n",
      "element_209            0.8226    5.6e+05   1.47e-06      1.000    -1.1e+06     1.1e+06\n",
      "element_210           25.2718   2.03e+05      0.000      1.000   -3.99e+05    3.99e+05\n",
      "element_211           26.2052   2.03e+05      0.000      1.000   -3.99e+05    3.99e+05\n",
      "element_212            0.2033   2.67e+05   7.63e-07      1.000   -5.22e+05    5.22e+05\n",
      "element_215           -0.1158    2.6e+05  -4.45e-07      1.000    -5.1e+05     5.1e+05\n",
      "element_216            0.0205   4.71e+05   4.36e-08      1.000   -9.23e+05    9.23e+05\n",
      "element_217            0.3187   3.68e+05   8.66e-07      1.000   -7.21e+05    7.21e+05\n",
      "element_219           25.8055   2.03e+05      0.000      1.000   -3.99e+05    3.99e+05\n",
      "element_220           24.6807   2.03e+05      0.000      1.000   -3.99e+05    3.99e+05\n",
      "element_221           26.2907   2.03e+05      0.000      1.000   -3.99e+05    3.99e+05\n",
      "element_222           -0.0801   2.58e+05   -3.1e-07      1.000   -5.06e+05    5.06e+05\n",
      "element_223           26.1265   2.03e+05      0.000      1.000   -3.99e+05    3.99e+05\n",
      "element_224           25.7583   2.03e+05      0.000      1.000   -3.99e+05    3.99e+05\n",
      "element_225           24.7268   2.03e+05      0.000      1.000   -3.99e+05    3.99e+05\n",
      "element_226            0.1102   3.07e+05   3.59e-07      1.000   -6.02e+05    6.02e+05\n",
      "element_227           -0.1461    2.4e+05  -6.08e-07      1.000    -4.7e+05     4.7e+05\n",
      "element_228            0.7347   3.16e+05   2.32e-06      1.000    -6.2e+05     6.2e+05\n",
      "element_230            0.4312   3.67e+05   1.18e-06      1.000   -7.18e+05    7.18e+05\n",
      "element_231            0.5913   5.34e+05   1.11e-06      1.000   -1.05e+06    1.05e+06\n",
      "element_232           -0.2197    7.7e+05  -2.86e-07      1.000   -1.51e+06    1.51e+06\n",
      "element_233           26.3153   2.03e+05      0.000      1.000   -3.99e+05    3.99e+05\n",
      "element_234           25.9542   2.03e+05      0.000      1.000   -3.99e+05    3.99e+05\n",
      "element_235           26.2459   2.03e+05      0.000      1.000   -3.99e+05    3.99e+05\n",
      "element_236           26.8617   2.03e+05      0.000      1.000   -3.99e+05    3.99e+05\n",
      "element_239           25.7045   2.03e+05      0.000      1.000   -3.99e+05    3.99e+05\n",
      "element_240           -0.3995   5.59e+05  -7.14e-07      1.000    -1.1e+06     1.1e+06\n",
      "element_241            0.2227   2.75e+05   8.11e-07      1.000   -5.38e+05    5.38e+05\n",
      "element_242           -0.0368   2.85e+05  -1.29e-07      1.000   -5.59e+05    5.59e+05\n",
      "element_243            0.4059   2.49e+05   1.63e-06      1.000   -4.88e+05    4.88e+05\n",
      "element_245           26.5124   2.03e+05      0.000      1.000   -3.99e+05    3.99e+05\n",
      "element_246           25.4673   2.03e+05      0.000      1.000   -3.99e+05    3.99e+05\n",
      "element_247           26.7519   2.03e+05      0.000      1.000   -3.99e+05    3.99e+05\n",
      "element_249            0.2609   2.47e+05   1.06e-06      1.000   -4.85e+05    4.85e+05\n",
      "element_250           25.7621   2.03e+05      0.000      1.000   -3.99e+05    3.99e+05\n",
      "element_251           25.5767   2.03e+05      0.000      1.000   -3.99e+05    3.99e+05\n",
      "element_252           24.5461   2.03e+05      0.000      1.000   -3.99e+05    3.99e+05\n",
      "element_253           26.6962   2.03e+05      0.000      1.000   -3.99e+05    3.99e+05\n",
      "element_254           26.4493   2.03e+05      0.000      1.000   -3.99e+05    3.99e+05\n",
      "element_255           25.4930   2.03e+05      0.000      1.000   -3.99e+05    3.99e+05\n",
      "element_256           25.2055   2.03e+05      0.000      1.000   -3.99e+05    3.99e+05\n",
      "element_257           26.4636   2.03e+05      0.000      1.000   -3.99e+05    3.99e+05\n",
      "element_258           25.1052   2.03e+05      0.000      1.000   -3.99e+05    3.99e+05\n",
      "element_259           26.5895   2.03e+05      0.000      1.000   -3.99e+05    3.99e+05\n",
      "element_262           -0.0277   2.59e+05  -1.07e-07      1.000   -5.09e+05    5.09e+05\n",
      "element_263            0.2899   2.77e+05   1.05e-06      1.000   -5.42e+05    5.42e+05\n",
      "element_264           -0.0361   2.65e+05  -1.36e-07      1.000    -5.2e+05     5.2e+05\n",
      "element_265           24.6041   2.03e+05      0.000      1.000   -3.99e+05    3.99e+05\n",
      "element_266           -0.1906   3.15e+05  -6.04e-07      1.000   -6.18e+05    6.18e+05\n",
      "element_267           27.4459   2.03e+05      0.000      1.000   -3.99e+05    3.99e+05\n",
      "element_268           25.1674   2.03e+05      0.000      1.000   -3.99e+05    3.99e+05\n",
      "element_269           25.6050   2.03e+05      0.000      1.000   -3.99e+05    3.99e+05\n",
      "element_270           27.1634   2.03e+05      0.000      1.000   -3.99e+05    3.99e+05\n",
      "element_271           26.4621   2.03e+05      0.000      1.000   -3.99e+05    3.99e+05\n",
      "element_272           25.6681   2.03e+05      0.000      1.000   -3.99e+05    3.99e+05\n",
      "element_273           25.3721   2.03e+05      0.000      1.000   -3.99e+05    3.99e+05\n",
      "element_274           25.5165   2.03e+05      0.000      1.000   -3.99e+05    3.99e+05\n",
      "element_275           27.1774   2.03e+05      0.000      1.000   -3.99e+05    3.99e+05\n",
      "element_276           26.5933   2.03e+05      0.000      1.000   -3.99e+05    3.99e+05\n",
      "element_277            1.0178   2.81e+05   3.62e-06      1.000   -5.51e+05    5.51e+05\n",
      "element_279           26.7134   2.03e+05      0.000      1.000   -3.99e+05    3.99e+05\n",
      "element_280           26.9658   2.03e+05      0.000      1.000   -3.99e+05    3.99e+05\n",
      "element_281           26.2280   2.03e+05      0.000      1.000   -3.99e+05    3.99e+05\n",
      "element_284           -0.1023    2.6e+05  -3.93e-07      1.000    -5.1e+05     5.1e+05\n",
      "element_285           25.2494   2.03e+05      0.000      1.000   -3.99e+05    3.99e+05\n",
      "element_286           25.9833   2.03e+05      0.000      1.000   -3.99e+05    3.99e+05\n",
      "element_287            0.2642   4.59e+05   5.75e-07      1.000      -9e+05       9e+05\n",
      "element_288           -0.1310   3.87e+05  -3.38e-07      1.000   -7.59e+05    7.59e+05\n",
      "element_289            0.4478   3.55e+05   1.26e-06      1.000   -6.96e+05    6.96e+05\n",
      "element_291            0.5894   2.85e+05   2.06e-06      1.000   -5.59e+05    5.59e+05\n",
      "element_292           24.6657   2.03e+05      0.000      1.000   -3.99e+05    3.99e+05\n",
      "element_293           25.7756   2.03e+05      0.000      1.000   -3.99e+05    3.99e+05\n",
      "element_294           26.2414   2.03e+05      0.000      1.000   -3.99e+05    3.99e+05\n",
      "element_295           27.1014   2.03e+05      0.000      1.000   -3.99e+05    3.99e+05\n",
      "element_296           -0.1403   2.49e+05  -5.63e-07      1.000   -4.88e+05    4.88e+05\n",
      "element_297           26.2497   2.03e+05      0.000      1.000   -3.99e+05    3.99e+05\n",
      "element_298           26.3889   2.03e+05      0.000      1.000   -3.99e+05    3.99e+05\n",
      "element_299           26.1955   2.03e+05      0.000      1.000   -3.99e+05    3.99e+05\n",
      "element_300           26.0880   2.03e+05      0.000      1.000   -3.99e+05    3.99e+05\n",
      "element_301           26.1234   2.03e+05      0.000      1.000   -3.99e+05    3.99e+05\n",
      "element_302           26.8081   2.03e+05      0.000      1.000   -3.99e+05    3.99e+05\n",
      "element_303            0.4757   2.82e+05   1.69e-06      1.000   -5.52e+05    5.52e+05\n",
      "element_304           26.1977   2.03e+05      0.000      1.000   -3.99e+05    3.99e+05\n",
      "element_305           26.6822   2.03e+05      0.000      1.000   -3.99e+05    3.99e+05\n",
      "element_306           24.7738   2.03e+05      0.000      1.000   -3.99e+05    3.99e+05\n",
      "element_310           25.2966   2.03e+05      0.000      1.000   -3.99e+05    3.99e+05\n",
      "element_311            0.0161   2.98e+05   5.41e-08      1.000   -5.83e+05    5.83e+05\n",
      "element_312           24.6075   2.03e+05      0.000      1.000   -3.99e+05    3.99e+05\n",
      "element_313            0.0729   2.57e+05   2.84e-07      1.000   -5.03e+05    5.03e+05\n",
      "element_314           -0.1479   2.98e+05  -4.97e-07      1.000   -5.84e+05    5.84e+05\n",
      "element_315           26.1865   2.03e+05      0.000      1.000   -3.99e+05    3.99e+05\n",
      "element_317           25.8892   2.03e+05      0.000      1.000   -3.99e+05    3.99e+05\n",
      "element_318           25.5868   2.03e+05      0.000      1.000   -3.99e+05    3.99e+05\n",
      "element_319           -0.0028   2.47e+05  -1.15e-08      1.000   -4.83e+05    4.83e+05\n",
      "element_320            0.2993   2.52e+05   1.19e-06      1.000   -4.94e+05    4.94e+05\n",
      "element_321           26.4849   2.03e+05      0.000      1.000   -3.99e+05    3.99e+05\n",
      "element_323           26.1942   2.03e+05      0.000      1.000   -3.99e+05    3.99e+05\n",
      "element_324           25.3655   2.03e+05      0.000      1.000   -3.99e+05    3.99e+05\n",
      "element_326           25.1612   2.03e+05      0.000      1.000   -3.99e+05    3.99e+05\n",
      "element_327            0.7095   2.66e+05   2.66e-06      1.000   -5.22e+05    5.22e+05\n",
      "element_330           -0.1043   2.68e+05   -3.9e-07      1.000   -5.25e+05    5.25e+05\n",
      "element_331           -0.1666   2.86e+05  -5.82e-07      1.000   -5.61e+05    5.61e+05\n",
      "element_332           25.7936   2.03e+05      0.000      1.000   -3.99e+05    3.99e+05\n",
      "element_333            0.1743   2.59e+05   6.72e-07      1.000   -5.08e+05    5.08e+05\n",
      "element_335           24.9937   2.03e+05      0.000      1.000   -3.99e+05    3.99e+05\n",
      "element_336           -0.0669   2.85e+05  -2.35e-07      1.000   -5.58e+05    5.58e+05\n",
      "element_337           27.8663   2.03e+05      0.000      1.000   -3.99e+05    3.99e+05\n",
      "element_338            0.1386    2.6e+05   5.33e-07      1.000    -5.1e+05     5.1e+05\n",
      "element_339            0.1156   2.47e+05   4.68e-07      1.000   -4.85e+05    4.85e+05\n",
      "element_340           24.7006   2.03e+05      0.000      1.000   -3.99e+05    3.99e+05\n",
      "element_342            1.3513   4.81e+05   2.81e-06      1.000   -9.43e+05    9.43e+05\n",
      "element_343           25.8270   2.03e+05      0.000      1.000   -3.99e+05    3.99e+05\n",
      "element_344           25.7399   2.03e+05      0.000      1.000   -3.99e+05    3.99e+05\n",
      "element_345           26.1707   2.03e+05      0.000      1.000   -3.99e+05    3.99e+05\n",
      "element_346            0.4346   2.72e+05    1.6e-06      1.000   -5.33e+05    5.33e+05\n",
      "element_347           26.1406   2.03e+05      0.000      1.000   -3.99e+05    3.99e+05\n",
      "element_348           25.9128   2.03e+05      0.000      1.000   -3.99e+05    3.99e+05\n",
      "element_349            0.4476   2.88e+05   1.55e-06      1.000   -5.64e+05    5.64e+05\n",
      "element_353           -0.1154   2.43e+05  -4.74e-07      1.000   -4.77e+05    4.77e+05\n",
      "element_354           26.3051   2.03e+05      0.000      1.000   -3.99e+05    3.99e+05\n",
      "element_355           -0.0779   2.62e+05  -2.97e-07      1.000   -5.14e+05    5.14e+05\n",
      "element_356            0.2454   2.52e+05   9.73e-07      1.000   -4.94e+05    4.94e+05\n",
      "element_357           26.2800   2.03e+05      0.000      1.000   -3.99e+05    3.99e+05\n",
      "element_358           27.9277   2.03e+05      0.000      1.000   -3.99e+05    3.99e+05\n",
      "element_359           25.6361   2.03e+05      0.000      1.000   -3.99e+05    3.99e+05\n",
      "element_360           26.7320   2.03e+05      0.000      1.000   -3.99e+05    3.99e+05\n",
      "element_361            0.0916   2.67e+05   3.43e-07      1.000   -5.24e+05    5.24e+05\n",
      "element_362            0.4474   3.02e+05   1.48e-06      1.000   -5.92e+05    5.92e+05\n",
      "element_363           26.0805   2.03e+05      0.000      1.000   -3.99e+05    3.99e+05\n",
      "element_364           27.0138   2.03e+05      0.000      1.000   -3.99e+05    3.99e+05\n",
      "element_365           26.1096   2.03e+05      0.000      1.000   -3.99e+05    3.99e+05\n",
      "element_366            0.8633   3.22e+05   2.68e-06      1.000    -6.3e+05     6.3e+05\n",
      "element_367           26.7376   2.03e+05      0.000      1.000   -3.99e+05    3.99e+05\n",
      "element_368            0.3034   2.42e+05   1.26e-06      1.000   -4.74e+05    4.74e+05\n",
      "element_369           25.3935   2.03e+05      0.000      1.000   -3.99e+05    3.99e+05\n",
      "element_370           25.5642   2.03e+05      0.000      1.000   -3.99e+05    3.99e+05\n",
      "element_371           27.0572   2.03e+05      0.000      1.000   -3.99e+05    3.99e+05\n",
      "element_372           26.3486   2.03e+05      0.000      1.000   -3.99e+05    3.99e+05\n",
      "element_376           -0.0659   2.41e+05  -2.73e-07      1.000   -4.73e+05    4.73e+05\n",
      "element_377            1.1586    7.7e+05   1.51e-06      1.000   -1.51e+06    1.51e+06\n",
      "element_378           26.5646   2.03e+05      0.000      1.000   -3.99e+05    3.99e+05\n",
      "element_379            0.4285   4.64e+05   9.23e-07      1.000   -9.09e+05    9.09e+05\n",
      "element_380            0.0166   2.66e+05   6.25e-08      1.000   -5.21e+05    5.21e+05\n",
      "element_381           25.1455   2.03e+05      0.000      1.000   -3.99e+05    3.99e+05\n",
      "element_382            0.1996   2.48e+05   8.05e-07      1.000   -4.86e+05    4.86e+05\n",
      "element_383           24.9049   2.03e+05      0.000      1.000   -3.99e+05    3.99e+05\n",
      "element_385            0.0987    7.7e+05   1.28e-07      1.000   -1.51e+06    1.51e+06\n",
      "element_386           25.9174   2.03e+05      0.000      1.000   -3.99e+05    3.99e+05\n",
      "element_387            1.1081   3.24e+05   3.42e-06      1.000   -6.36e+05    6.36e+05\n",
      "element_388            0.7645   2.81e+05   2.72e-06      1.000   -5.51e+05    5.51e+05\n",
      "element_389           25.6317   2.03e+05      0.000      1.000   -3.99e+05    3.99e+05\n",
      "element_390           26.3076   2.03e+05      0.000      1.000   -3.99e+05    3.99e+05\n",
      "element_391           25.9007   2.03e+05      0.000      1.000   -3.99e+05    3.99e+05\n",
      "element_392           26.1195   2.03e+05      0.000      1.000   -3.99e+05    3.99e+05\n",
      "element_393           25.2699   2.03e+05      0.000      1.000   -3.99e+05    3.99e+05\n",
      "element_394           26.4498   2.03e+05      0.000      1.000   -3.99e+05    3.99e+05\n",
      "element_395           25.9372   2.03e+05      0.000      1.000   -3.99e+05    3.99e+05\n",
      "element_396           26.1612   2.03e+05      0.000      1.000   -3.99e+05    3.99e+05\n",
      "element_397            0.9773   5.57e+05   1.76e-06      1.000   -1.09e+06    1.09e+06\n",
      "element_402           24.9279   2.03e+05      0.000      1.000   -3.99e+05    3.99e+05\n",
      "element_403           24.9105   2.03e+05      0.000      1.000   -3.99e+05    3.99e+05\n",
      "element_405           24.7530   2.03e+05      0.000      1.000   -3.99e+05    3.99e+05\n",
      "element_406           -0.1202   2.43e+05  -4.94e-07      1.000   -4.76e+05    4.76e+05\n",
      "element_408            0.1614   3.03e+05   5.33e-07      1.000   -5.94e+05    5.94e+05\n",
      "element_409           -0.1578   2.43e+05  -6.51e-07      1.000   -4.75e+05    4.75e+05\n",
      "element_410           25.1710   2.03e+05      0.000      1.000   -3.99e+05    3.99e+05\n",
      "element_411           25.8435   2.03e+05      0.000      1.000   -3.99e+05    3.99e+05\n",
      "element_412           25.9769   2.03e+05      0.000      1.000   -3.99e+05    3.99e+05\n",
      "element_413           25.3634   2.03e+05      0.000      1.000   -3.99e+05    3.99e+05\n",
      "element_414           26.1716   2.03e+05      0.000      1.000   -3.99e+05    3.99e+05\n",
      "element_415           26.4156   2.03e+05      0.000      1.000   -3.99e+05    3.99e+05\n",
      "element_417           26.2516   2.03e+05      0.000      1.000   -3.99e+05    3.99e+05\n",
      "element_418            0.4677   2.89e+05   1.62e-06      1.000   -5.67e+05    5.67e+05\n",
      "element_419           26.3831   2.03e+05      0.000      1.000   -3.99e+05    3.99e+05\n",
      "element_423           -0.1113   2.42e+05   -4.6e-07      1.000   -4.74e+05    4.74e+05\n",
      "element_425           26.2352   2.03e+05      0.000      1.000   -3.99e+05    3.99e+05\n",
      "element_426            0.3225   2.58e+05   1.25e-06      1.000   -5.06e+05    5.06e+05\n",
      "element_427           -0.1416   2.44e+05   -5.8e-07      1.000   -4.78e+05    4.78e+05\n",
      "element_430           -0.1458    2.4e+05  -6.07e-07      1.000   -4.71e+05    4.71e+05\n",
      "element_431            0.4766   2.67e+05   1.78e-06      1.000   -5.23e+05    5.23e+05\n",
      "element_432           26.6780   2.03e+05      0.000      1.000   -3.99e+05    3.99e+05\n",
      "element_433           25.2288   2.03e+05      0.000      1.000   -3.99e+05    3.99e+05\n",
      "element_434           25.4875   2.03e+05      0.000      1.000   -3.99e+05    3.99e+05\n",
      "element_435           25.6715   2.03e+05      0.000      1.000   -3.99e+05    3.99e+05\n",
      "element_437           26.7446   2.03e+05      0.000      1.000   -3.99e+05    3.99e+05\n",
      "element_438           26.9521   2.03e+05      0.000      1.000   -3.99e+05    3.99e+05\n",
      "element_440           25.1793   2.03e+05      0.000      1.000   -3.99e+05    3.99e+05\n",
      "element_441            0.3381   3.92e+05   8.62e-07      1.000   -7.69e+05    7.69e+05\n",
      "element_443            2.2030    7.7e+05   2.86e-06      1.000   -1.51e+06    1.51e+06\n",
      "element_444           27.5775   2.03e+05      0.000      1.000   -3.99e+05    3.99e+05\n",
      "element_446           26.2643   2.03e+05      0.000      1.000   -3.99e+05    3.99e+05\n",
      "element_447           26.5939   2.03e+05      0.000      1.000   -3.99e+05    3.99e+05\n",
      "element_448           25.5915   2.03e+05      0.000      1.000   -3.99e+05    3.99e+05\n",
      "element_450           26.0141   2.03e+05      0.000      1.000   -3.99e+05    3.99e+05\n",
      "element_451            0.0971   2.45e+05   3.96e-07      1.000    -4.8e+05     4.8e+05\n",
      "element_453           26.1462   2.03e+05      0.000      1.000   -3.99e+05    3.99e+05\n",
      "element_455           24.8525   2.03e+05      0.000      1.000   -3.99e+05    3.99e+05\n",
      "element_456           25.7190   2.03e+05      0.000      1.000   -3.99e+05    3.99e+05\n",
      "element_458           25.0592   2.03e+05      0.000      1.000   -3.99e+05    3.99e+05\n",
      "element_459           -0.1250   2.42e+05  -5.17e-07      1.000   -4.74e+05    4.74e+05\n",
      "element_460            0.1530   2.51e+05    6.1e-07      1.000   -4.92e+05    4.92e+05\n",
      "element_461           24.8495   2.03e+05      0.000      1.000   -3.99e+05    3.99e+05\n",
      "element_462           26.5539   2.03e+05      0.000      1.000   -3.99e+05    3.99e+05\n",
      "element_463           -0.1617   2.58e+05  -6.28e-07      1.000   -5.05e+05    5.05e+05\n",
      "element_464           -0.0633   2.68e+05  -2.36e-07      1.000   -5.26e+05    5.26e+05\n",
      "element_465           26.0514   2.03e+05      0.000      1.000   -3.99e+05    3.99e+05\n",
      "element_466            0.2053   2.51e+05   8.18e-07      1.000   -4.92e+05    4.92e+05\n",
      "element_467           -0.0815   3.41e+05  -2.39e-07      1.000   -6.69e+05    6.69e+05\n",
      "element_471           25.9886   2.03e+05      0.000      1.000   -3.99e+05    3.99e+05\n",
      "element_472           26.1442   2.03e+05      0.000      1.000   -3.99e+05    3.99e+05\n",
      "element_473            0.6328   2.89e+05   2.19e-06      1.000   -5.67e+05    5.67e+05\n",
      "element_475           26.4210   2.03e+05      0.000      1.000   -3.99e+05    3.99e+05\n",
      "element_476            0.3584    2.7e+05   1.33e-06      1.000   -5.29e+05    5.29e+05\n",
      "element_478            0.1509   2.48e+05   6.09e-07      1.000   -4.86e+05    4.86e+05\n",
      "element_479           26.4334   2.03e+05      0.000      1.000   -3.99e+05    3.99e+05\n",
      "element_480           25.5285   2.03e+05      0.000      1.000   -3.99e+05    3.99e+05\n",
      "element_481           26.0501   2.03e+05      0.000      1.000   -3.99e+05    3.99e+05\n",
      "element_482           24.9027   2.03e+05      0.000      1.000   -3.99e+05    3.99e+05\n",
      "element_483           24.6341   2.03e+05      0.000      1.000   -3.99e+05    3.99e+05\n",
      "element_484           25.9554   2.03e+05      0.000      1.000   -3.99e+05    3.99e+05\n",
      "element_486           26.1993   2.03e+05      0.000      1.000   -3.99e+05    3.99e+05\n",
      "element_487            0.0263   2.86e+05    9.2e-08      1.000    -5.6e+05     5.6e+05\n",
      "element_488            0.6977   2.77e+05   2.52e-06      1.000   -5.43e+05    5.43e+05\n",
      "element_489           26.2532   2.03e+05      0.000      1.000   -3.99e+05    3.99e+05\n",
      "element_491            0.0033    7.7e+05   4.23e-09      1.000   -1.51e+06    1.51e+06\n",
      "element_492            0.4462   2.59e+05   1.72e-06      1.000   -5.09e+05    5.09e+05\n",
      "element_493           26.2450   2.03e+05      0.000      1.000   -3.99e+05    3.99e+05\n",
      "element_494           24.7387   2.03e+05      0.000      1.000   -3.99e+05    3.99e+05\n",
      "element_495           26.3550   2.03e+05      0.000      1.000   -3.99e+05    3.99e+05\n",
      "element_497           29.3956   2.03e+05      0.000      1.000   -3.99e+05    3.99e+05\n",
      "element_499           25.5655   2.03e+05      0.000      1.000   -3.99e+05    3.99e+05\n",
      "element_500           25.3081   2.03e+05      0.000      1.000   -3.99e+05    3.99e+05\n",
      "element_502            0.3967    2.9e+05   1.37e-06      1.000   -5.67e+05    5.67e+05\n",
      "element_503           24.7378   2.03e+05      0.000      1.000   -3.99e+05    3.99e+05\n",
      "element_504           25.7613   2.03e+05      0.000      1.000   -3.99e+05    3.99e+05\n",
      "element_505           25.9384   2.03e+05      0.000      1.000   -3.99e+05    3.99e+05\n",
      "element_506            0.4294   2.78e+05   1.54e-06      1.000   -5.45e+05    5.45e+05\n",
      "element_507           26.2785   2.03e+05      0.000      1.000   -3.99e+05    3.99e+05\n",
      "element_508           25.5682   2.03e+05      0.000      1.000   -3.99e+05    3.99e+05\n",
      "element_510           24.8346   2.03e+05      0.000      1.000   -3.99e+05    3.99e+05\n",
      "element_511            0.2282   2.93e+05    7.8e-07      1.000   -5.73e+05    5.73e+05\n",
      "element_512            0.3219   2.68e+05    1.2e-06      1.000   -5.25e+05    5.25e+05\n",
      "element_513           26.6432   2.03e+05      0.000      1.000   -3.99e+05    3.99e+05\n",
      "element_514           25.6497   2.03e+05      0.000      1.000   -3.99e+05    3.99e+05\n",
      "element_515            0.1429   3.57e+05   4.01e-07      1.000   -6.99e+05    6.99e+05\n",
      "element_516           25.8669   2.03e+05      0.000      1.000   -3.99e+05    3.99e+05\n",
      "element_517            0.4145   3.19e+05    1.3e-06      1.000   -6.25e+05    6.25e+05\n",
      "element_518            0.5615   3.71e+05   1.51e-06      1.000   -7.27e+05    7.27e+05\n",
      "element_519            0.0143   2.83e+05   5.05e-08      1.000   -5.55e+05    5.55e+05\n",
      "element_521            0.8251   4.65e+05   1.77e-06      1.000   -9.11e+05    9.11e+05\n",
      "element_522            0.5963    3.1e+05   1.92e-06      1.000   -6.08e+05    6.08e+05\n",
      "element_523            2.2991    7.7e+05   2.99e-06      1.000   -1.51e+06    1.51e+06\n",
      "element_524           25.3360   2.03e+05      0.000      1.000   -3.99e+05    3.99e+05\n",
      "element_526           25.4085   2.03e+05      0.000      1.000   -3.99e+05    3.99e+05\n",
      "element_527           24.6745   2.03e+05      0.000      1.000   -3.99e+05    3.99e+05\n",
      "element_531           25.7733   2.03e+05      0.000      1.000   -3.99e+05    3.99e+05\n",
      "element_534           26.3284   2.03e+05      0.000      1.000   -3.99e+05    3.99e+05\n",
      "element_535           26.2251   2.03e+05      0.000      1.000   -3.99e+05    3.99e+05\n",
      "element_539           25.7808   2.03e+05      0.000      1.000   -3.99e+05    3.99e+05\n",
      "element_540            0.5650   3.44e+05   1.64e-06      1.000   -6.74e+05    6.74e+05\n",
      "element_543           26.3344   2.03e+05      0.000      1.000   -3.99e+05    3.99e+05\n",
      "element_544            1.5304   5.36e+05   2.86e-06      1.000   -1.05e+06    1.05e+06\n",
      "element_549           -0.1682   3.44e+05  -4.89e-07      1.000   -6.74e+05    6.74e+05\n",
      "element_550           27.0178   2.03e+05      0.000      1.000   -3.99e+05    3.99e+05\n",
      "element_552            2.0266   5.48e+05    3.7e-06      1.000   -1.07e+06    1.07e+06\n",
      "element_556           -0.0164   2.67e+05  -6.12e-08      1.000   -5.24e+05    5.24e+05\n",
      "element_557            2.4959    7.7e+05   3.24e-06      1.000   -1.51e+06    1.51e+06\n",
      "element_560            0.6520    7.7e+05   8.47e-07      1.000   -1.51e+06    1.51e+06\n",
      "element_562            2.5919    7.7e+05   3.37e-06      1.000   -1.51e+06    1.51e+06\n",
      "element_563            0.8305    7.7e+05   1.08e-06      1.000   -1.51e+06    1.51e+06\n",
      "element_565            0.4778    7.7e+05   6.21e-07      1.000   -1.51e+06    1.51e+06\n",
      "element_566            1.9132    7.7e+05   2.49e-06      1.000   -1.51e+06    1.51e+06\n",
      "element_568            0.8090    7.7e+05   1.05e-06      1.000   -1.51e+06    1.51e+06\n",
      "element_569           27.2877   2.03e+05      0.000      1.000   -3.99e+05    3.99e+05\n",
      "element_570            0.6297   4.33e+05   1.45e-06      1.000   -8.49e+05    8.49e+05\n",
      "element_571           26.6375   2.03e+05      0.000      1.000   -3.99e+05    3.99e+05\n",
      "element_573            0.7497   5.53e+05   1.36e-06      1.000   -1.08e+06    1.08e+06\n",
      "element_574            1.6443   3.87e+05   4.24e-06      1.000   -7.59e+05    7.59e+05\n",
      "element_575           26.7854   2.03e+05      0.000      1.000   -3.99e+05    3.99e+05\n",
      "element_579           -0.1191   3.26e+05  -3.66e-07      1.000   -6.38e+05    6.38e+05\n",
      "element_580            0.4567   3.06e+05   1.49e-06      1.000   -5.99e+05    5.99e+05\n",
      "element_581           -0.2547   5.59e+05  -4.56e-07      1.000    -1.1e+06     1.1e+06\n",
      "element_585           26.2793   2.03e+05      0.000      1.000   -3.99e+05    3.99e+05\n",
      "element_586            0.9146   4.14e+05   2.21e-06      1.000   -8.12e+05    8.12e+05\n",
      "element_587           26.6027   2.03e+05      0.000      1.000   -3.99e+05    3.99e+05\n",
      "element_588            2.0426    7.7e+05   2.65e-06      1.000   -1.51e+06    1.51e+06\n",
      "element_589            0.5434   3.41e+05   1.59e-06      1.000   -6.69e+05    6.69e+05\n",
      "element_590           27.4433   2.03e+05      0.000      1.000   -3.99e+05    3.99e+05\n",
      "element_591           27.2330   2.03e+05      0.000      1.000   -3.99e+05    3.99e+05\n",
      "element_592           25.9147   2.03e+05      0.000      1.000   -3.99e+05    3.99e+05\n",
      "element_593           26.5390   2.03e+05      0.000      1.000   -3.99e+05    3.99e+05\n",
      "element_594            0.2273    7.7e+05   2.95e-07      1.000   -1.51e+06    1.51e+06\n",
      "element_599            1.3840    7.7e+05    1.8e-06      1.000   -1.51e+06    1.51e+06\n",
      "element_601            0.2139    7.7e+05   2.78e-07      1.000   -1.51e+06    1.51e+06\n",
      "element_602            2.6866    7.7e+05   3.49e-06      1.000   -1.51e+06    1.51e+06\n",
      "element_603            2.3171    7.7e+05   3.01e-06      1.000   -1.51e+06    1.51e+06\n",
      "element_605            0.8948    7.7e+05   1.16e-06      1.000   -1.51e+06    1.51e+06\n",
      "element_607            0.3654   5.56e+05   6.58e-07      1.000   -1.09e+06    1.09e+06\n",
      "element_608            1.3840    7.7e+05    1.8e-06      1.000   -1.51e+06    1.51e+06\n",
      "log_minutes            0.6074      0.082      7.450      0.000       0.448       0.767\n",
      "======================================================================================\n"
     ]
    }
   ],
   "source": [
    "print(sppmm_results.summary())"
   ]
  },
  {
   "cell_type": "markdown",
   "metadata": {
    "heading_collapsed": true,
    "hidden": true
   },
   "source": [
    "### Model fit"
   ]
  },
  {
   "cell_type": "code",
   "execution_count": 133,
   "metadata": {
    "ExecuteTime": {
     "end_time": "2019-04-09T16:45:19.254979Z",
     "start_time": "2019-04-09T16:45:19.250640Z"
    },
    "hidden": true
   },
   "outputs": [
    {
     "data": {
      "text/plain": [
       "5276.432960085958"
      ]
     },
     "execution_count": 133,
     "metadata": {},
     "output_type": "execute_result"
    }
   ],
   "source": [
    "sppmm_results.aic"
   ]
  },
  {
   "cell_type": "code",
   "execution_count": 134,
   "metadata": {
    "ExecuteTime": {
     "end_time": "2019-04-09T16:45:19.283479Z",
     "start_time": "2019-04-09T16:45:19.256978Z"
    },
    "hidden": true
   },
   "outputs": [
    {
     "data": {
      "text/plain": [
       "-66350.61409242392"
      ]
     },
     "execution_count": 134,
     "metadata": {},
     "output_type": "execute_result"
    }
   ],
   "source": [
    "sppmm_results.bic"
   ]
  },
  {
   "cell_type": "code",
   "execution_count": 135,
   "metadata": {
    "ExecuteTime": {
     "end_time": "2019-04-09T16:45:19.308918Z",
     "start_time": "2019-04-09T16:45:19.285733Z"
    },
    "hidden": true
   },
   "outputs": [
    {
     "data": {
      "text/plain": [
       "(False, 1.0)"
      ]
     },
     "execution_count": 135,
     "metadata": {},
     "output_type": "execute_result"
    }
   ],
   "source": [
    "sppmm_pearson_results = goodness_fit.pearson_chi_squared_test(sppmm_results)\n",
    "sppmm_pearson_results"
   ]
  },
  {
   "cell_type": "code",
   "execution_count": 136,
   "metadata": {
    "ExecuteTime": {
     "end_time": "2019-04-09T16:45:19.347151Z",
     "start_time": "2019-04-09T16:45:19.310941Z"
    },
    "hidden": true
   },
   "outputs": [
    {
     "data": {
      "text/plain": [
       "count    8161.000000\n",
       "mean       -0.162375\n",
       "std         0.566413\n",
       "min        -1.500447\n",
       "25%        -0.474065\n",
       "50%        -0.286202\n",
       "75%        -0.000001\n",
       "max         3.199662\n",
       "dtype: float64"
      ]
     },
     "execution_count": 136,
     "metadata": {},
     "output_type": "execute_result"
    }
   ],
   "source": [
    "sppmm_results.resid_deviance.describe()"
   ]
  },
  {
   "cell_type": "code",
   "execution_count": 137,
   "metadata": {
    "ExecuteTime": {
     "end_time": "2019-04-09T16:45:19.612567Z",
     "start_time": "2019-04-09T16:45:19.349162Z"
    },
    "hidden": true
   },
   "outputs": [
    {
     "data": {
      "image/png": "[encoded data removed]",
      "text/plain": [
       "<Figure size 432x288 with 1 Axes>"
      ]
     },
     "metadata": {
      "needs_background": "light"
     },
     "output_type": "display_data"
    }
   ],
   "source": [
    "plt.figure()\n",
    "plt.hist(sppmm_results.resid_deviance, bins=20)\n",
    "plt.show()"
   ]
  },
  {
   "cell_type": "markdown",
   "metadata": {
    "heading_collapsed": true,
    "hidden": true
   },
   "source": [
    "## Simple Poisson player exposure model"
   ]
  },
  {
   "cell_type": "markdown",
   "metadata": {
    "heading_collapsed": true,
    "hidden": true
   },
   "source": [
    "### Preparing data"
   ]
  },
  {
   "cell_type": "code",
   "execution_count": 138,
   "metadata": {
    "ExecuteTime": {
     "end_time": "2019-04-09T16:45:19.620848Z",
     "start_time": "2019-04-09T16:45:19.614665Z"
    },
    "hidden": true
   },
   "outputs": [],
   "source": [
    "eppmm_df = element_gameweek_df.copy()"
   ]
  },
  {
   "cell_type": "code",
   "execution_count": 139,
   "metadata": {
    "ExecuteTime": {
     "end_time": "2019-04-09T16:45:19.697709Z",
     "start_time": "2019-04-09T16:45:19.623138Z"
    },
    "hidden": true
   },
   "outputs": [],
   "source": [
    "eppmm_df = player.add_categorical_variables(eppmm_df, 'opposition_team')\n",
    "eppmm_df = player.add_categorical_variables(eppmm_df, 'element')"
   ]
  },
  {
   "cell_type": "code",
   "execution_count": 140,
   "metadata": {
    "ExecuteTime": {
     "end_time": "2019-04-09T16:45:19.709744Z",
     "start_time": "2019-04-09T16:45:19.700009Z"
    },
    "hidden": true
   },
   "outputs": [],
   "source": [
    "eppmm_redundant_columns = [\n",
    "    'row_id', 'goals_scored', 'attempted_passes', 'big_chances_created',\n",
    "    'big_chances_missed', 'bonus', 'bps', 'clean_sheets',\n",
    "    'clearances_blocks_interceptions', 'completed_passes', 'creativity',\n",
    "    'dribbles', 'ea_index', 'element', 'errors_leading_to_goal',\n",
    "    'errors_leading_to_goal_attempt', 'fixture', 'fouls', 'goals_conceded',\n",
    "    'ict_index', 'id', 'influence', 'key_passes', 'kickoff_time',\n",
    "    'kickoff_time_formatted', 'loaned_in', 'loaned_out', 'offside',\n",
    "    'open_play_crosses', 'opponent_team', 'own_goals', 'penalties_conceded',\n",
    "    'penalties_missed', 'penalties_saved', 'recoveries', 'red_cards', 'round',\n",
    "    'saves', 'selected', 'tackled', 'tackles', 'target_missed', 'team_a_score',\n",
    "    'team_h_score', 'threat', 'total_points', 'transfers_balance',\n",
    "    'transfers_in', 'transfers_out', 'value', 'winning_goals',\n",
    "    'yellow_cards', 'event', 'team_a', 'team_a_difficulty', 'team_h',\n",
    "    'team_h_difficulty', 'element_type', 'team', 'web_name', 'safe_web_name',\n",
    "    'own_team', 'opposition_team', 'minutes',\n",
    "    'element_fixture_rank', 'minutes_rolling',\n",
    "    'goals_scored_rolling', 'assists_rolling',\n",
    "    'goals_scored_per_minute_rolling', 'assists_per_minute_rolling',\n",
    "    'minutes_per_fixture_rolling'\n",
    "]"
   ]
  },
  {
   "cell_type": "code",
   "execution_count": 141,
   "metadata": {
    "ExecuteTime": {
     "end_time": "2019-04-09T16:45:19.741328Z",
     "start_time": "2019-04-09T16:45:19.711867Z"
    },
    "hidden": true
   },
   "outputs": [],
   "source": [
    "eppmm_exposure = eppmm_df['minutes']"
   ]
  },
  {
   "cell_type": "code",
   "execution_count": 142,
   "metadata": {
    "ExecuteTime": {
     "end_time": "2019-04-09T16:45:19.777610Z",
     "start_time": "2019-04-09T16:45:19.743383Z"
    },
    "hidden": true
   },
   "outputs": [],
   "source": [
    "eppmm_df = player.remove_redundant_columns(eppmm_df, eppmm_redundant_columns)"
   ]
  },
  {
   "cell_type": "code",
   "execution_count": 143,
   "metadata": {
    "ExecuteTime": {
     "end_time": "2019-04-09T16:45:19.969788Z",
     "start_time": "2019-04-09T16:45:19.780136Z"
    },
    "hidden": true
   },
   "outputs": [],
   "source": [
    "eppmm_response_df, eppmm_explanatory_df = player.get_response_explanatory_dfs(eppmm_df, 'assists')"
   ]
  },
  {
   "cell_type": "code",
   "execution_count": 144,
   "metadata": {
    "ExecuteTime": {
     "end_time": "2019-04-09T16:45:19.979466Z",
     "start_time": "2019-04-09T16:45:19.972996Z"
    },
    "hidden": true
   },
   "outputs": [
    {
     "data": {
      "text/plain": [
       "Index(['const', 'was_home', 'opposition_team_2', 'opposition_team_3',\n",
       "       'opposition_team_4', 'opposition_team_5', 'opposition_team_6',\n",
       "       'opposition_team_7', 'opposition_team_8', 'opposition_team_9',\n",
       "       ...\n",
       "       'element_592', 'element_593', 'element_594', 'element_599',\n",
       "       'element_601', 'element_602', 'element_603', 'element_605',\n",
       "       'element_607', 'element_608'],\n",
       "      dtype='object', length=479)"
      ]
     },
     "execution_count": 144,
     "metadata": {},
     "output_type": "execute_result"
    }
   ],
   "source": [
    "eppmm_explanatory_df.columns"
   ]
  },
  {
   "cell_type": "markdown",
   "metadata": {
    "heading_collapsed": true,
    "hidden": true
   },
   "source": [
    "### Fitting model"
   ]
  },
  {
   "cell_type": "code",
   "execution_count": 145,
   "metadata": {
    "ExecuteTime": {
     "end_time": "2019-04-09T16:45:36.113909Z",
     "start_time": "2019-04-09T16:45:19.981714Z"
    },
    "hidden": true
   },
   "outputs": [],
   "source": [
    "eppmm_results = sm.GLM(\n",
    "    eppmm_response_df,\n",
    "    eppmm_explanatory_df,\n",
    "    family=sm.families.Poisson(),\n",
    "    missing='drop',\n",
    "    exposure=eppmm_exposure\n",
    ").fit()"
   ]
  },
  {
   "cell_type": "code",
   "execution_count": 146,
   "metadata": {
    "ExecuteTime": {
     "end_time": "2019-04-09T16:45:36.383722Z",
     "start_time": "2019-04-09T16:45:36.117622Z"
    },
    "hidden": true
   },
   "outputs": [
    {
     "name": "stdout",
     "output_type": "stream",
     "text": [
      "                 Generalized Linear Model Regression Results                  \n",
      "==============================================================================\n",
      "Dep. Variable:                assists   No. Observations:                 8161\n",
      "Model:                            GLM   Df Residuals:                     7682\n",
      "Model Family:                 Poisson   Df Model:                          478\n",
      "Link Function:                    log   Scale:                             1.0\n",
      "Method:                          IRLS   Log-Likelihood:                -2168.1\n",
      "Date:                Tue, 09 Apr 2019   Deviance:                       2852.9\n",
      "Time:                        16:45:36   Pearson chi2:                 6.62e+03\n",
      "No. Iterations:                    25                                         \n",
      "======================================================================================\n",
      "                         coef    std err          z      P>|z|      [0.025      0.975]\n",
      "--------------------------------------------------------------------------------------\n",
      "const                -32.5093   1.99e+05     -0.000      1.000   -3.91e+05    3.91e+05\n",
      "was_home               0.1921      0.073      2.639      0.008       0.049       0.335\n",
      "opposition_team_2      0.3675      0.229      1.606      0.108      -0.081       0.816\n",
      "opposition_team_3      0.0794      0.247      0.322      0.748      -0.405       0.563\n",
      "opposition_team_4      0.4064      0.230      1.766      0.077      -0.045       0.858\n",
      "opposition_team_5      0.4704      0.226      2.078      0.038       0.027       0.914\n",
      "opposition_team_6     -0.1505      0.262     -0.574      0.566      -0.665       0.364\n",
      "opposition_team_7      0.1003      0.245      0.410      0.682      -0.379       0.580\n",
      "opposition_team_8      0.0824      0.246      0.335      0.738      -0.400       0.564\n",
      "opposition_team_9      0.5649      0.220      2.565      0.010       0.133       0.997\n",
      "opposition_team_10     0.4498      0.227      1.985      0.047       0.006       0.894\n",
      "opposition_team_11     0.0544      0.245      0.222      0.825      -0.426       0.535\n",
      "opposition_team_12    -0.7709      0.309     -2.495      0.013      -1.376      -0.165\n",
      "opposition_team_13    -0.6109      0.309     -1.977      0.048      -1.217      -0.005\n",
      "opposition_team_14     0.0944      0.244      0.387      0.699      -0.383       0.572\n",
      "opposition_team_15     0.0626      0.244      0.257      0.797      -0.415       0.540\n",
      "opposition_team_16     0.2733      0.233      1.171      0.242      -0.184       0.731\n",
      "opposition_team_17    -0.1023      0.257     -0.398      0.691      -0.606       0.401\n",
      "opposition_team_18     0.1043      0.242      0.431      0.666      -0.370       0.579\n",
      "opposition_team_19     0.2395      0.238      1.007      0.314      -0.227       0.706\n",
      "opposition_team_20     0.0760      0.248      0.306      0.759      -0.411       0.563\n",
      "element_4             26.5670   1.99e+05      0.000      1.000   -3.91e+05    3.91e+05\n",
      "element_5             26.0467   1.99e+05      0.000      1.000   -3.91e+05    3.91e+05\n",
      "element_6             -0.0479   3.01e+05  -1.59e-07      1.000    -5.9e+05     5.9e+05\n",
      "element_7             -0.0947   2.45e+05  -3.86e-07      1.000    -4.8e+05     4.8e+05\n",
      "element_8             26.7738   1.99e+05      0.000      1.000   -3.91e+05    3.91e+05\n",
      "element_9              0.0512   2.41e+05   2.13e-07      1.000   -4.72e+05    4.72e+05\n",
      "element_10             2.6878   7.68e+05    3.5e-06      1.000   -1.51e+06    1.51e+06\n",
      "element_11             0.2190   2.89e+05   7.58e-07      1.000   -5.66e+05    5.66e+05\n",
      "element_12            25.4258   1.99e+05      0.000      1.000   -3.91e+05    3.91e+05\n",
      "element_13            26.1598   1.99e+05      0.000      1.000   -3.91e+05    3.91e+05\n",
      "element_14            27.0329   1.99e+05      0.000      1.000   -3.91e+05    3.91e+05\n",
      "element_15            26.6773   1.99e+05      0.000      1.000   -3.91e+05    3.91e+05\n",
      "element_16             0.6284   3.59e+05   1.75e-06      1.000   -7.03e+05    7.03e+05\n",
      "element_17            25.2768   1.99e+05      0.000      1.000   -3.91e+05    3.91e+05\n",
      "element_18            26.5940   1.99e+05      0.000      1.000   -3.91e+05    3.91e+05\n",
      "element_20            25.6531   1.99e+05      0.000      1.000   -3.91e+05    3.91e+05\n",
      "element_21            27.1590   1.99e+05      0.000      1.000   -3.91e+05    3.91e+05\n",
      "element_22            26.9997   1.99e+05      0.000      1.000   -3.91e+05    3.91e+05\n",
      "element_23            26.5043   1.99e+05      0.000      1.000   -3.91e+05    3.91e+05\n",
      "element_26            25.8834   1.99e+05      0.000      1.000   -3.91e+05    3.91e+05\n",
      "element_27            24.5422   1.99e+05      0.000      1.000   -3.91e+05    3.91e+05\n",
      "element_28             0.3535   2.39e+05   1.48e-06      1.000   -4.69e+05    4.69e+05\n",
      "element_29            -0.0721   2.52e+05  -2.86e-07      1.000   -4.95e+05    4.95e+05\n",
      "element_30             2.1472   3.09e+05   6.95e-06      1.000   -6.06e+05    6.06e+05\n",
      "element_31            24.3506   1.99e+05      0.000      1.000   -3.91e+05    3.91e+05\n",
      "element_32             0.4869   7.68e+05   6.34e-07      1.000   -1.51e+06    1.51e+06\n",
      "element_33            24.6852   1.99e+05      0.000      1.000   -3.91e+05    3.91e+05\n",
      "element_35             0.2867    2.5e+05   1.15e-06      1.000    -4.9e+05     4.9e+05\n",
      "element_36            26.5655   1.99e+05      0.000      1.000   -3.91e+05    3.91e+05\n",
      "element_37            25.7298   1.99e+05      0.000      1.000   -3.91e+05    3.91e+05\n",
      "element_38            25.9303   1.99e+05      0.000      1.000   -3.91e+05    3.91e+05\n",
      "element_39             0.8877   2.46e+05    3.6e-06      1.000   -4.83e+05    4.83e+05\n",
      "element_40            26.7321   1.99e+05      0.000      1.000   -3.91e+05    3.91e+05\n",
      "element_42            26.1023   1.99e+05      0.000      1.000   -3.91e+05    3.91e+05\n",
      "element_43            26.8363   1.99e+05      0.000      1.000   -3.91e+05    3.91e+05\n",
      "element_44             2.4471   2.31e+05   1.06e-05      1.000   -4.53e+05    4.53e+05\n",
      "element_45            25.6060   1.99e+05      0.000      1.000   -3.91e+05    3.91e+05\n",
      "element_46             2.9228   3.55e+05   8.24e-06      1.000   -6.95e+05    6.95e+05\n",
      "element_48            24.4083   1.99e+05      0.000      1.000   -3.91e+05    3.91e+05\n",
      "element_49            25.1550   1.99e+05      0.000      1.000   -3.91e+05    3.91e+05\n",
      "element_50            25.7053   1.99e+05      0.000      1.000   -3.91e+05    3.91e+05\n",
      "element_51             0.0259    2.5e+05   1.04e-07      1.000   -4.89e+05    4.89e+05\n",
      "element_54             0.1574   3.14e+05   5.01e-07      1.000   -6.16e+05    6.16e+05\n",
      "element_55            26.6743   1.99e+05      0.000      1.000   -3.91e+05    3.91e+05\n",
      "element_56            24.7027   1.99e+05      0.000      1.000   -3.91e+05    3.91e+05\n",
      "element_57            25.7681   1.99e+05      0.000      1.000   -3.91e+05    3.91e+05\n",
      "element_58            26.2178   1.99e+05      0.000      1.000   -3.91e+05    3.91e+05\n",
      "element_59            25.7022   1.99e+05      0.000      1.000   -3.91e+05    3.91e+05\n",
      "element_60            24.4918   1.99e+05      0.000      1.000   -3.91e+05    3.91e+05\n",
      "element_61            26.5355   1.99e+05      0.000      1.000   -3.91e+05    3.91e+05\n",
      "element_62             0.2985   2.31e+05   1.29e-06      1.000   -4.53e+05    4.53e+05\n",
      "element_65             1.2083   2.27e+05   5.33e-06      1.000   -4.44e+05    4.44e+05\n",
      "element_66             0.8922   2.52e+05   3.54e-06      1.000   -4.94e+05    4.94e+05\n",
      "element_69            -0.0166   2.65e+05  -6.26e-08      1.000   -5.19e+05    5.19e+05\n",
      "element_70            25.0100   1.99e+05      0.000      1.000   -3.91e+05    3.91e+05\n",
      "element_71            -0.2203   4.71e+05  -4.68e-07      1.000   -9.23e+05    9.23e+05\n",
      "element_72            25.1314   1.99e+05      0.000      1.000   -3.91e+05    3.91e+05\n",
      "element_73            26.1416   1.99e+05      0.000      1.000   -3.91e+05    3.91e+05\n",
      "element_74            24.3878   1.99e+05      0.000      1.000   -3.91e+05    3.91e+05\n",
      "element_75            -0.1246   2.59e+05  -4.81e-07      1.000   -5.08e+05    5.08e+05\n",
      "element_76            26.6714   1.99e+05      0.000      1.000   -3.91e+05    3.91e+05\n",
      "element_77             0.1688   3.54e+05   4.77e-07      1.000   -6.94e+05    6.94e+05\n",
      "element_78            25.6217   1.99e+05      0.000      1.000   -3.91e+05    3.91e+05\n",
      "element_79            25.9769   1.99e+05      0.000      1.000   -3.91e+05    3.91e+05\n",
      "element_80            26.4576   1.99e+05      0.000      1.000   -3.91e+05    3.91e+05\n",
      "element_82            25.0476   1.99e+05      0.000      1.000   -3.91e+05    3.91e+05\n",
      "element_83            25.1350   1.99e+05      0.000      1.000   -3.91e+05    3.91e+05\n",
      "element_84             0.9710   2.35e+05   4.13e-06      1.000   -4.61e+05    4.61e+05\n",
      "element_85            25.8623   1.99e+05      0.000      1.000   -3.91e+05    3.91e+05\n",
      "element_87            24.6434   1.99e+05      0.000      1.000   -3.91e+05    3.91e+05\n",
      "element_90            25.8591   1.99e+05      0.000      1.000   -3.91e+05    3.91e+05\n",
      "element_91            24.4410   1.99e+05      0.000      1.000   -3.91e+05    3.91e+05\n",
      "element_92            24.3396   1.99e+05      0.000      1.000   -3.91e+05    3.91e+05\n",
      "element_94            24.6342   1.99e+05      0.000      1.000   -3.91e+05    3.91e+05\n",
      "element_95             0.4289   2.58e+05   1.66e-06      1.000   -5.07e+05    5.07e+05\n",
      "element_96             1.0622    4.7e+05   2.26e-06      1.000   -9.22e+05    9.22e+05\n",
      "element_98             0.3390   2.36e+05   1.44e-06      1.000   -4.63e+05    4.63e+05\n",
      "element_99            24.8884   1.99e+05      0.000      1.000   -3.91e+05    3.91e+05\n",
      "element_100            1.0253   2.53e+05   4.04e-06      1.000   -4.97e+05    4.97e+05\n",
      "element_101           25.3294   1.99e+05      0.000      1.000   -3.91e+05    3.91e+05\n",
      "element_102           24.7770   1.99e+05      0.000      1.000   -3.91e+05    3.91e+05\n",
      "element_104            2.3719   5.61e+05   4.23e-06      1.000    -1.1e+06     1.1e+06\n",
      "element_105            1.5332   2.61e+05   5.88e-06      1.000   -5.11e+05    5.11e+05\n",
      "element_106           24.9023   1.99e+05      0.000      1.000   -3.91e+05    3.91e+05\n",
      "element_107           25.9575   1.99e+05      0.000      1.000   -3.91e+05    3.91e+05\n",
      "element_109            2.8219    3.3e+05   8.56e-06      1.000   -6.46e+05    6.46e+05\n",
      "element_110           26.3150   1.99e+05      0.000      1.000   -3.91e+05    3.91e+05\n",
      "element_113           25.9009   1.99e+05      0.000      1.000   -3.91e+05    3.91e+05\n",
      "element_114            1.1907   7.68e+05   1.55e-06      1.000   -1.51e+06    1.51e+06\n",
      "element_115           26.5277   1.99e+05      0.000      1.000   -3.91e+05    3.91e+05\n",
      "element_116           25.0492   1.99e+05      0.000      1.000   -3.91e+05    3.91e+05\n",
      "element_117            2.0121    5.6e+05    3.6e-06      1.000    -1.1e+06     1.1e+06\n",
      "element_118           24.3740   1.99e+05      0.000      1.000   -3.91e+05    3.91e+05\n",
      "element_119           -0.4082   4.16e+05  -9.81e-07      1.000   -8.16e+05    8.16e+05\n",
      "element_120            1.5570   4.59e+05   3.39e-06      1.000      -9e+05       9e+05\n",
      "element_121            0.8094   2.81e+05   2.88e-06      1.000   -5.51e+05    5.51e+05\n",
      "element_122           26.9539   1.99e+05      0.000      1.000   -3.91e+05    3.91e+05\n",
      "element_123            1.1175   3.36e+05   3.33e-06      1.000   -6.58e+05    6.58e+05\n",
      "element_124           26.6754   1.99e+05      0.000      1.000   -3.91e+05    3.91e+05\n",
      "element_125           24.9365   1.99e+05      0.000      1.000   -3.91e+05    3.91e+05\n",
      "element_126           25.7193   1.99e+05      0.000      1.000   -3.91e+05    3.91e+05\n",
      "element_127           26.5606   1.99e+05      0.000      1.000   -3.91e+05    3.91e+05\n",
      "element_131           26.9247   1.99e+05      0.000      1.000   -3.91e+05    3.91e+05\n",
      "element_132           25.8922   1.99e+05      0.000      1.000   -3.91e+05    3.91e+05\n",
      "element_133           26.9273   1.99e+05      0.000      1.000   -3.91e+05    3.91e+05\n",
      "element_134            0.3124   2.61e+05    1.2e-06      1.000   -5.11e+05    5.11e+05\n",
      "element_138           24.4560   1.99e+05      0.000      1.000   -3.91e+05    3.91e+05\n",
      "element_139            0.9343   2.88e+05   3.24e-06      1.000   -5.65e+05    5.65e+05\n",
      "element_140           -0.0795   3.34e+05  -2.38e-07      1.000   -6.54e+05    6.54e+05\n",
      "element_141           26.0099   1.99e+05      0.000      1.000   -3.91e+05    3.91e+05\n",
      "element_142           25.0086   1.99e+05      0.000      1.000   -3.91e+05    3.91e+05\n",
      "element_143           -0.1857   2.43e+05  -7.65e-07      1.000   -4.76e+05    4.76e+05\n",
      "element_145           25.0853   1.99e+05      0.000      1.000   -3.91e+05    3.91e+05\n",
      "element_146            1.9092   2.35e+05   8.14e-06      1.000    -4.6e+05     4.6e+05\n",
      "element_147           26.0536   1.99e+05      0.000      1.000   -3.91e+05    3.91e+05\n",
      "element_148            3.7178   7.68e+05   4.84e-06      1.000   -1.51e+06    1.51e+06\n",
      "element_149           25.7690   1.99e+05      0.000      1.000   -3.91e+05    3.91e+05\n",
      "element_150           24.2999   1.99e+05      0.000      1.000   -3.91e+05    3.91e+05\n",
      "element_151           26.4156   1.99e+05      0.000      1.000   -3.91e+05    3.91e+05\n",
      "element_152            0.8308    2.6e+05    3.2e-06      1.000   -5.09e+05    5.09e+05\n",
      "element_153            1.8002   2.81e+05   6.42e-06      1.000    -5.5e+05     5.5e+05\n",
      "element_156            0.1466   3.45e+05   4.25e-07      1.000   -6.75e+05    6.75e+05\n",
      "element_157           25.3071   1.99e+05      0.000      1.000   -3.91e+05    3.91e+05\n",
      "element_158            0.7376   3.95e+05   1.87e-06      1.000   -7.75e+05    7.75e+05\n",
      "element_160           -0.2961   3.77e+05  -7.85e-07      1.000   -7.39e+05    7.39e+05\n",
      "element_161           25.6198   1.99e+05      0.000      1.000   -3.91e+05    3.91e+05\n",
      "element_162           25.1357   1.99e+05      0.000      1.000   -3.91e+05    3.91e+05\n",
      "element_164           25.8158   1.99e+05      0.000      1.000   -3.91e+05    3.91e+05\n",
      "element_167           26.0738   1.99e+05      0.000      1.000   -3.91e+05    3.91e+05\n",
      "element_168           24.5433   1.99e+05      0.000      1.000   -3.91e+05    3.91e+05\n",
      "element_169            0.5046   2.49e+05   2.03e-06      1.000   -4.88e+05    4.88e+05\n",
      "element_170           26.6418   1.99e+05      0.000      1.000   -3.91e+05    3.91e+05\n",
      "element_172           25.7851   1.99e+05      0.000      1.000   -3.91e+05    3.91e+05\n",
      "element_175           26.2121   1.99e+05      0.000      1.000   -3.91e+05    3.91e+05\n",
      "element_176            0.6523   2.59e+05   2.52e-06      1.000   -5.07e+05    5.07e+05\n",
      "element_177           26.4341   1.99e+05      0.000      1.000   -3.91e+05    3.91e+05\n",
      "element_180            0.0559   2.48e+05   2.25e-07      1.000   -4.86e+05    4.86e+05\n",
      "element_181           24.4695   1.99e+05      0.000      1.000   -3.91e+05    3.91e+05\n",
      "element_182           24.8088   1.99e+05      0.000      1.000   -3.91e+05    3.91e+05\n",
      "element_183            0.7430   2.47e+05   3.01e-06      1.000   -4.84e+05    4.84e+05\n",
      "element_184           26.7788   1.99e+05      0.000      1.000   -3.91e+05    3.91e+05\n",
      "element_185            1.2235   2.64e+05   4.64e-06      1.000   -5.17e+05    5.17e+05\n",
      "element_186            1.5375   2.64e+05   5.82e-06      1.000   -5.18e+05    5.18e+05\n",
      "element_187            1.8468   3.49e+05   5.29e-06      1.000   -6.84e+05    6.84e+05\n",
      "element_189            0.4535   2.71e+05   1.67e-06      1.000   -5.31e+05    5.31e+05\n",
      "element_192           24.3708   1.99e+05      0.000      1.000   -3.91e+05    3.91e+05\n",
      "element_193           25.9761   1.99e+05      0.000      1.000   -3.91e+05    3.91e+05\n",
      "element_194            0.3269   2.97e+05    1.1e-06      1.000   -5.82e+05    5.82e+05\n",
      "element_195           24.5293   1.99e+05      0.000      1.000   -3.91e+05    3.91e+05\n",
      "element_197            0.0623   2.43e+05   2.56e-07      1.000   -4.77e+05    4.77e+05\n",
      "element_198           24.5818   1.99e+05      0.000      1.000   -3.91e+05    3.91e+05\n",
      "element_199           24.7002   1.99e+05      0.000      1.000   -3.91e+05    3.91e+05\n",
      "element_200           -0.2106   3.83e+05   -5.5e-07      1.000   -7.51e+05    7.51e+05\n",
      "element_201           24.6990   1.99e+05      0.000      1.000   -3.91e+05    3.91e+05\n",
      "element_202           -0.0911   2.41e+05  -3.78e-07      1.000   -4.73e+05    4.73e+05\n",
      "element_204            2.0322   3.23e+05   6.29e-06      1.000   -6.33e+05    6.33e+05\n",
      "element_205            2.1898   4.77e+05   4.59e-06      1.000   -9.36e+05    9.36e+05\n",
      "element_206            0.1736   2.39e+05   7.27e-07      1.000   -4.68e+05    4.68e+05\n",
      "element_207            1.6891   3.74e+05   4.52e-06      1.000   -7.33e+05    7.33e+05\n",
      "element_208            0.4079   2.59e+05   1.57e-06      1.000   -5.08e+05    5.08e+05\n",
      "element_209            1.4675   5.36e+05   2.74e-06      1.000   -1.05e+06    1.05e+06\n",
      "element_210           25.3985   1.99e+05      0.000      1.000   -3.91e+05    3.91e+05\n",
      "element_211           26.2348   1.99e+05      0.000      1.000   -3.91e+05    3.91e+05\n",
      "element_212            0.4120   2.55e+05   1.61e-06      1.000   -5.01e+05    5.01e+05\n",
      "element_215           -0.1739   2.57e+05  -6.76e-07      1.000   -5.04e+05    5.04e+05\n",
      "element_216            0.1233   4.52e+05   2.72e-07      1.000   -8.87e+05    8.87e+05\n",
      "element_217            0.6036   3.39e+05   1.78e-06      1.000   -6.65e+05    6.65e+05\n",
      "element_219           25.7332   1.99e+05      0.000      1.000   -3.91e+05    3.91e+05\n",
      "element_220           24.6267   1.99e+05      0.000      1.000   -3.91e+05    3.91e+05\n",
      "element_221           26.2207   1.99e+05      0.000      1.000   -3.91e+05    3.91e+05\n",
      "element_222           -0.0613   2.52e+05  -2.43e-07      1.000   -4.94e+05    4.94e+05\n",
      "element_223           26.2339   1.99e+05      0.000      1.000   -3.91e+05    3.91e+05\n",
      "element_224           25.8282   1.99e+05      0.000      1.000   -3.91e+05    3.91e+05\n",
      "element_225           24.7767   1.99e+05      0.000      1.000   -3.91e+05    3.91e+05\n",
      "element_226            0.2448   2.91e+05   8.42e-07      1.000    -5.7e+05     5.7e+05\n",
      "element_227           -0.2144   2.37e+05  -9.06e-07      1.000   -4.64e+05    4.64e+05\n",
      "element_228            1.4147    2.8e+05   5.05e-06      1.000   -5.49e+05    5.49e+05\n",
      "element_230            0.5676   3.46e+05   1.64e-06      1.000   -6.78e+05    6.78e+05\n",
      "element_231            1.1124   4.51e+05   2.47e-06      1.000   -8.83e+05    8.83e+05\n",
      "element_232           -0.0792   7.68e+05  -1.03e-07      1.000   -1.51e+06    1.51e+06\n",
      "element_233           26.2889   1.99e+05      0.000      1.000   -3.91e+05    3.91e+05\n",
      "element_234           25.9236   1.99e+05      0.000      1.000   -3.91e+05    3.91e+05\n",
      "element_235           26.8710   1.99e+05      0.000      1.000   -3.91e+05    3.91e+05\n",
      "element_236           27.0423   1.99e+05      0.000      1.000   -3.91e+05    3.91e+05\n",
      "element_239           25.6353   1.99e+05      0.000      1.000   -3.91e+05    3.91e+05\n",
      "element_240           -0.4036   5.54e+05  -7.28e-07      1.000   -1.09e+06    1.09e+06\n",
      "element_241            0.4697   2.56e+05   1.83e-06      1.000   -5.03e+05    5.03e+05\n",
      "element_242           -0.0312    2.8e+05  -1.11e-07      1.000   -5.48e+05    5.48e+05\n",
      "element_243            0.9867   2.25e+05   4.39e-06      1.000   -4.41e+05    4.41e+05\n",
      "element_245           26.4583   1.99e+05      0.000      1.000   -3.91e+05    3.91e+05\n",
      "element_246           25.3999   1.99e+05      0.000      1.000   -3.91e+05    3.91e+05\n",
      "element_247           26.6814   1.99e+05      0.000      1.000   -3.91e+05    3.91e+05\n",
      "element_249            0.4863   2.38e+05   2.04e-06      1.000   -4.66e+05    4.66e+05\n",
      "element_250           25.9322   1.99e+05      0.000      1.000   -3.91e+05    3.91e+05\n",
      "element_251           25.5247   1.99e+05      0.000      1.000   -3.91e+05    3.91e+05\n",
      "element_252           24.5155   1.99e+05      0.000      1.000   -3.91e+05    3.91e+05\n",
      "element_253           26.6396   1.99e+05      0.000      1.000   -3.91e+05    3.91e+05\n",
      "element_254           26.4740   1.99e+05      0.000      1.000   -3.91e+05    3.91e+05\n",
      "element_255           25.4661   1.99e+05      0.000      1.000   -3.91e+05    3.91e+05\n",
      "element_256           25.2731   1.99e+05      0.000      1.000   -3.91e+05    3.91e+05\n",
      "element_257           26.4470   1.99e+05      0.000      1.000   -3.91e+05    3.91e+05\n",
      "element_258           25.1305   1.99e+05      0.000      1.000   -3.91e+05    3.91e+05\n",
      "element_259           26.7547   1.99e+05      0.000      1.000   -3.91e+05    3.91e+05\n",
      "element_262           -0.0457   2.55e+05  -1.79e-07      1.000      -5e+05       5e+05\n",
      "element_263            0.6881   2.51e+05   2.74e-06      1.000   -4.92e+05    4.92e+05\n",
      "element_264            0.1146   2.52e+05   4.55e-07      1.000   -4.94e+05    4.94e+05\n",
      "element_265           24.5425   1.99e+05      0.000      1.000   -3.91e+05    3.91e+05\n",
      "element_266           -0.2633   3.13e+05  -8.41e-07      1.000   -6.13e+05    6.13e+05\n",
      "element_267           27.3696   1.99e+05      0.000      1.000   -3.91e+05    3.91e+05\n",
      "element_268           25.0958   1.99e+05      0.000      1.000   -3.91e+05    3.91e+05\n",
      "element_269           25.6365   1.99e+05      0.000      1.000   -3.91e+05    3.91e+05\n",
      "element_270           27.1305   1.99e+05      0.000      1.000   -3.91e+05    3.91e+05\n",
      "element_271           26.4500   1.99e+05      0.000      1.000   -3.91e+05    3.91e+05\n",
      "element_272           25.6181   1.99e+05      0.000      1.000   -3.91e+05    3.91e+05\n",
      "element_273           25.4480   1.99e+05      0.000      1.000   -3.91e+05    3.91e+05\n",
      "element_274           25.5282   1.99e+05      0.000      1.000   -3.91e+05    3.91e+05\n",
      "element_275           27.1928   1.99e+05      0.000      1.000   -3.91e+05    3.91e+05\n",
      "element_276           26.5602   1.99e+05      0.000      1.000   -3.91e+05    3.91e+05\n",
      "element_277            2.0431   2.43e+05    8.4e-06      1.000   -4.76e+05    4.76e+05\n",
      "element_279           26.6944   1.99e+05      0.000      1.000   -3.91e+05    3.91e+05\n",
      "element_280           26.9704   1.99e+05      0.000      1.000   -3.91e+05    3.91e+05\n",
      "element_281           26.3663   1.99e+05      0.000      1.000   -3.91e+05    3.91e+05\n",
      "element_284           -0.1691   2.57e+05  -6.57e-07      1.000   -5.04e+05    5.04e+05\n",
      "element_285           25.2178   1.99e+05      0.000      1.000   -3.91e+05    3.91e+05\n",
      "element_286           25.9127   1.99e+05      0.000      1.000   -3.91e+05    3.91e+05\n",
      "element_287            0.6261   4.36e+05   1.44e-06      1.000   -8.55e+05    8.55e+05\n",
      "element_288           -0.2059   3.85e+05  -5.35e-07      1.000   -7.55e+05    7.55e+05\n",
      "element_289            0.8347   3.06e+05   2.72e-06      1.000   -6.01e+05    6.01e+05\n",
      "element_291            1.1792   2.51e+05    4.7e-06      1.000   -4.91e+05    4.91e+05\n",
      "element_292           24.6027   1.99e+05      0.000      1.000   -3.91e+05    3.91e+05\n",
      "element_293           25.7183   1.99e+05      0.000      1.000   -3.91e+05    3.91e+05\n",
      "element_294           26.2642   1.99e+05      0.000      1.000   -3.91e+05    3.91e+05\n",
      "element_295           27.2439   1.99e+05      0.000      1.000   -3.91e+05    3.91e+05\n",
      "element_296           -0.2030   2.46e+05  -8.26e-07      1.000   -4.82e+05    4.82e+05\n",
      "element_297           26.2897   1.99e+05      0.000      1.000   -3.91e+05    3.91e+05\n",
      "element_298           26.4552   1.99e+05      0.000      1.000   -3.91e+05    3.91e+05\n",
      "element_299           26.2170   1.99e+05      0.000      1.000   -3.91e+05    3.91e+05\n",
      "element_300           26.1222   1.99e+05      0.000      1.000   -3.91e+05    3.91e+05\n",
      "element_301           26.1607   1.99e+05      0.000      1.000   -3.91e+05    3.91e+05\n",
      "element_302           26.7514   1.99e+05      0.000      1.000   -3.91e+05    3.91e+05\n",
      "element_303            0.9524   2.54e+05   3.74e-06      1.000   -4.99e+05    4.99e+05\n",
      "element_304           26.2740   1.99e+05      0.000      1.000   -3.91e+05    3.91e+05\n",
      "element_305           26.6891   1.99e+05      0.000      1.000   -3.91e+05    3.91e+05\n",
      "element_306           24.7793   1.99e+05      0.000      1.000   -3.91e+05    3.91e+05\n",
      "element_310           25.2388   1.99e+05      0.000      1.000   -3.91e+05    3.91e+05\n",
      "element_311            0.0614   2.89e+05   2.13e-07      1.000   -5.66e+05    5.66e+05\n",
      "element_312           24.5529   1.99e+05      0.000      1.000   -3.91e+05    3.91e+05\n",
      "element_313            0.2069   2.46e+05   8.41e-07      1.000   -4.82e+05    4.82e+05\n",
      "element_314           -0.2249   2.95e+05  -7.62e-07      1.000   -5.79e+05    5.79e+05\n",
      "element_315           26.2055   1.99e+05      0.000      1.000   -3.91e+05    3.91e+05\n",
      "element_317           25.8586   1.99e+05      0.000      1.000   -3.91e+05    3.91e+05\n",
      "element_318           25.6253   1.99e+05      0.000      1.000   -3.91e+05    3.91e+05\n",
      "element_319            0.0614   2.39e+05   2.56e-07      1.000   -4.69e+05    4.69e+05\n",
      "element_320            0.5909    2.4e+05   2.47e-06      1.000    -4.7e+05     4.7e+05\n",
      "element_321           26.7103   1.99e+05      0.000      1.000   -3.91e+05    3.91e+05\n",
      "element_323           26.1818   1.99e+05      0.000      1.000   -3.91e+05    3.91e+05\n",
      "element_324           25.3477   1.99e+05      0.000      1.000   -3.91e+05    3.91e+05\n",
      "element_326           25.1298   1.99e+05      0.000      1.000   -3.91e+05    3.91e+05\n",
      "element_327            1.2943   2.44e+05   5.31e-06      1.000   -4.78e+05    4.78e+05\n",
      "element_330           -0.1796   2.65e+05  -6.78e-07      1.000   -5.19e+05    5.19e+05\n",
      "element_331           -0.2347   2.83e+05  -8.28e-07      1.000   -5.55e+05    5.55e+05\n",
      "element_332           25.7506   1.99e+05      0.000      1.000   -3.91e+05    3.91e+05\n",
      "element_333            0.3698   2.46e+05    1.5e-06      1.000   -4.82e+05    4.82e+05\n",
      "element_335           24.9322   1.99e+05      0.000      1.000   -3.91e+05    3.91e+05\n",
      "element_336           -0.1414   2.82e+05  -5.01e-07      1.000   -5.53e+05    5.53e+05\n",
      "element_337           28.0045   1.99e+05      0.000      1.000   -3.91e+05    3.91e+05\n",
      "element_338            0.2683    2.5e+05   1.07e-06      1.000   -4.89e+05    4.89e+05\n",
      "element_339            0.2566   2.38e+05   1.08e-06      1.000   -4.66e+05    4.66e+05\n",
      "element_340           24.6329   1.99e+05      0.000      1.000   -3.91e+05    3.91e+05\n",
      "element_342            2.5117   3.43e+05   7.32e-06      1.000   -6.72e+05    6.72e+05\n",
      "element_343           25.7633   1.99e+05      0.000      1.000   -3.91e+05    3.91e+05\n",
      "element_344           25.6938   1.99e+05      0.000      1.000   -3.91e+05    3.91e+05\n",
      "element_345           26.2409   1.99e+05      0.000      1.000   -3.91e+05    3.91e+05\n",
      "element_346            0.7999   2.56e+05   3.13e-06      1.000   -5.02e+05    5.02e+05\n",
      "element_347           26.3087   1.99e+05      0.000      1.000   -3.91e+05    3.91e+05\n",
      "element_348           26.0571   1.99e+05      0.000      1.000   -3.91e+05    3.91e+05\n",
      "element_349            0.8825   2.69e+05   3.28e-06      1.000   -5.27e+05    5.27e+05\n",
      "element_353           -0.1619   2.39e+05  -6.76e-07      1.000   -4.69e+05    4.69e+05\n",
      "element_354           26.2660   1.99e+05      0.000      1.000   -3.91e+05    3.91e+05\n",
      "element_355           -0.1285   2.59e+05  -4.97e-07      1.000   -5.07e+05    5.07e+05\n",
      "element_356            0.5000   2.38e+05    2.1e-06      1.000   -4.66e+05    4.66e+05\n",
      "element_357           26.2250   1.99e+05      0.000      1.000   -3.91e+05    3.91e+05\n",
      "element_358           27.9346   1.99e+05      0.000      1.000   -3.91e+05    3.91e+05\n",
      "element_359           25.5841   1.99e+05      0.000      1.000   -3.91e+05    3.91e+05\n",
      "element_360           26.7333   1.99e+05      0.000      1.000   -3.91e+05    3.91e+05\n",
      "element_361            0.2360   2.55e+05   9.27e-07      1.000   -4.99e+05    4.99e+05\n",
      "element_362            0.7364   2.86e+05   2.57e-06      1.000   -5.61e+05    5.61e+05\n",
      "element_363           26.2042   1.99e+05      0.000      1.000   -3.91e+05    3.91e+05\n",
      "element_364           26.9734   1.99e+05      0.000      1.000   -3.91e+05    3.91e+05\n",
      "element_365           26.0906   1.99e+05      0.000      1.000   -3.91e+05    3.91e+05\n",
      "element_366            1.6642   2.72e+05   6.12e-06      1.000   -5.33e+05    5.33e+05\n",
      "element_367           26.7395   1.99e+05      0.000      1.000   -3.91e+05    3.91e+05\n",
      "element_368            0.6883   2.26e+05   3.04e-06      1.000   -4.44e+05    4.44e+05\n",
      "element_369           25.3470   1.99e+05      0.000      1.000   -3.91e+05    3.91e+05\n",
      "element_370           25.5832   1.99e+05      0.000      1.000   -3.91e+05    3.91e+05\n",
      "element_371           27.2903   1.99e+05      0.000      1.000   -3.91e+05    3.91e+05\n",
      "element_372           26.2849   1.99e+05      0.000      1.000   -3.91e+05    3.91e+05\n",
      "element_376           -0.0974   2.37e+05  -4.12e-07      1.000   -4.64e+05    4.64e+05\n",
      "element_377            1.8337   7.68e+05   2.39e-06      1.000   -1.51e+06    1.51e+06\n",
      "element_378           26.5001   1.99e+05      0.000      1.000   -3.91e+05    3.91e+05\n",
      "element_379            0.6392   4.39e+05   1.46e-06      1.000   -8.61e+05    8.61e+05\n",
      "element_380            0.1106   2.56e+05   4.32e-07      1.000   -5.02e+05    5.02e+05\n",
      "element_381           25.1049   1.99e+05      0.000      1.000   -3.91e+05    3.91e+05\n",
      "element_382            0.4627   2.33e+05   1.98e-06      1.000   -4.57e+05    4.57e+05\n",
      "element_383           24.8897   1.99e+05      0.000      1.000   -3.91e+05    3.91e+05\n",
      "element_385            0.0559   7.68e+05   7.27e-08      1.000   -1.51e+06    1.51e+06\n",
      "element_386           25.8754   1.99e+05      0.000      1.000   -3.91e+05    3.91e+05\n",
      "element_387            1.9737    2.7e+05   7.31e-06      1.000   -5.29e+05    5.29e+05\n",
      "element_388            1.3902   2.52e+05   5.51e-06      1.000   -4.94e+05    4.94e+05\n",
      "element_389           25.5641   1.99e+05      0.000      1.000   -3.91e+05    3.91e+05\n",
      "element_390           26.2461   1.99e+05      0.000      1.000   -3.91e+05    3.91e+05\n",
      "element_391           25.8528   1.99e+05      0.000      1.000   -3.91e+05    3.91e+05\n",
      "element_392           26.1066   1.99e+05      0.000      1.000   -3.91e+05    3.91e+05\n",
      "element_393           25.2415   1.99e+05      0.000      1.000   -3.91e+05    3.91e+05\n",
      "element_394           26.4679   1.99e+05      0.000      1.000   -3.91e+05    3.91e+05\n",
      "element_395           26.0928   1.99e+05      0.000      1.000   -3.91e+05    3.91e+05\n",
      "element_396           26.1141   1.99e+05      0.000      1.000   -3.91e+05    3.91e+05\n",
      "element_397            1.7303    5.6e+05   3.09e-06      1.000    -1.1e+06     1.1e+06\n",
      "element_402           24.8821   1.99e+05      0.000      1.000   -3.91e+05    3.91e+05\n",
      "element_403           24.8557   1.99e+05      0.000      1.000   -3.91e+05    3.91e+05\n",
      "element_405           24.7045   1.99e+05      0.000      1.000   -3.91e+05    3.91e+05\n",
      "element_406           -0.1831   2.39e+05  -7.65e-07      1.000   -4.69e+05    4.69e+05\n",
      "element_408            0.1832   2.98e+05   6.15e-07      1.000   -5.84e+05    5.84e+05\n",
      "element_409           -0.2319   2.39e+05   -9.7e-07      1.000   -4.69e+05    4.69e+05\n",
      "element_410           25.1287   1.99e+05      0.000      1.000   -3.91e+05    3.91e+05\n",
      "element_411           25.8471   1.99e+05      0.000      1.000   -3.91e+05    3.91e+05\n",
      "element_412           25.9927   1.99e+05      0.000      1.000   -3.91e+05    3.91e+05\n",
      "element_413           25.4766   1.99e+05      0.000      1.000   -3.91e+05    3.91e+05\n",
      "element_414           26.1975   1.99e+05      0.000      1.000   -3.91e+05    3.91e+05\n",
      "element_415           26.4601   1.99e+05      0.000      1.000   -3.91e+05    3.91e+05\n",
      "element_417           26.2768   1.99e+05      0.000      1.000   -3.91e+05    3.91e+05\n",
      "element_418            0.8110    2.8e+05   2.89e-06      1.000   -5.49e+05    5.49e+05\n",
      "element_419           26.4891   1.99e+05      0.000      1.000   -3.91e+05    3.91e+05\n",
      "element_423           -0.1588   2.38e+05  -6.68e-07      1.000   -4.66e+05    4.66e+05\n",
      "element_425           26.1898   1.99e+05      0.000      1.000   -3.91e+05    3.91e+05\n",
      "element_426            0.6680   2.41e+05   2.77e-06      1.000   -4.72e+05    4.72e+05\n",
      "element_427           -0.2161   2.41e+05  -8.98e-07      1.000   -4.72e+05    4.72e+05\n",
      "element_430           -0.2203   2.37e+05  -9.29e-07      1.000   -4.65e+05    4.65e+05\n",
      "element_431            1.0301    2.4e+05   4.29e-06      1.000   -4.71e+05    4.71e+05\n",
      "element_432           26.7045   1.99e+05      0.000      1.000   -3.91e+05    3.91e+05\n",
      "element_433           25.1674   1.99e+05      0.000      1.000   -3.91e+05    3.91e+05\n",
      "element_434           25.7549   1.99e+05      0.000      1.000   -3.91e+05    3.91e+05\n",
      "element_435           25.7624   1.99e+05      0.000      1.000   -3.91e+05    3.91e+05\n",
      "element_437           26.7040   1.99e+05      0.000      1.000   -3.91e+05    3.91e+05\n",
      "element_438           27.4436   1.99e+05      0.000      1.000   -3.91e+05    3.91e+05\n",
      "element_440           25.1286   1.99e+05      0.000      1.000   -3.91e+05    3.91e+05\n",
      "element_441            0.5258   3.59e+05   1.47e-06      1.000   -7.03e+05    7.03e+05\n",
      "element_443            3.9098   7.68e+05   5.09e-06      1.000   -1.51e+06    1.51e+06\n",
      "element_444           28.1067   1.99e+05      0.000      1.000   -3.91e+05    3.91e+05\n",
      "element_446           26.4068   1.99e+05      0.000      1.000   -3.91e+05    3.91e+05\n",
      "element_447           26.5776   1.99e+05      0.000      1.000   -3.91e+05    3.91e+05\n",
      "element_448           25.8596   1.99e+05      0.000      1.000   -3.91e+05    3.91e+05\n",
      "element_450           26.0154   1.99e+05      0.000      1.000   -3.91e+05    3.91e+05\n",
      "element_451            0.2332   2.37e+05   9.86e-07      1.000   -4.64e+05    4.64e+05\n",
      "element_453           26.2585   1.99e+05      0.000      1.000   -3.91e+05    3.91e+05\n",
      "element_455           24.8015   1.99e+05      0.000      1.000   -3.91e+05    3.91e+05\n",
      "element_456           25.7113   1.99e+05      0.000      1.000   -3.91e+05    3.91e+05\n",
      "element_458           25.1042   1.99e+05      0.000      1.000   -3.91e+05    3.91e+05\n",
      "element_459           -0.1711   2.38e+05  -7.18e-07      1.000   -4.67e+05    4.67e+05\n",
      "element_460            0.2297   2.44e+05   9.43e-07      1.000   -4.78e+05    4.78e+05\n",
      "element_461           24.8421   1.99e+05      0.000      1.000   -3.91e+05    3.91e+05\n",
      "element_462           26.6547   1.99e+05      0.000      1.000   -3.91e+05    3.91e+05\n",
      "element_463           -0.2292   2.55e+05  -9.01e-07      1.000   -4.99e+05    4.99e+05\n",
      "element_464           -0.1115   2.64e+05  -4.22e-07      1.000   -5.18e+05    5.18e+05\n",
      "element_465           25.9998   1.99e+05      0.000      1.000   -3.91e+05    3.91e+05\n",
      "element_466            0.4200   2.41e+05   1.74e-06      1.000   -4.72e+05    4.72e+05\n",
      "element_467           -0.1568   3.39e+05  -4.62e-07      1.000   -6.64e+05    6.64e+05\n",
      "element_471           26.0696   1.99e+05      0.000      1.000   -3.91e+05    3.91e+05\n",
      "element_472           26.3966   1.99e+05      0.000      1.000   -3.91e+05    3.91e+05\n",
      "element_473            0.9554    2.7e+05   3.54e-06      1.000    -5.3e+05     5.3e+05\n",
      "element_475           26.3898   1.99e+05      0.000      1.000   -3.91e+05    3.91e+05\n",
      "element_476            0.6521   2.56e+05   2.55e-06      1.000   -5.01e+05    5.01e+05\n",
      "element_478            0.2952   2.39e+05   1.23e-06      1.000   -4.68e+05    4.68e+05\n",
      "element_479           26.3921   1.99e+05      0.000      1.000   -3.91e+05    3.91e+05\n",
      "element_480           25.4597   1.99e+05      0.000      1.000   -3.91e+05    3.91e+05\n",
      "element_481           26.2155   1.99e+05      0.000      1.000   -3.91e+05    3.91e+05\n",
      "element_482           24.8564   1.99e+05      0.000      1.000   -3.91e+05    3.91e+05\n",
      "element_483           24.5812   1.99e+05      0.000      1.000   -3.91e+05    3.91e+05\n",
      "element_484           25.8972   1.99e+05      0.000      1.000   -3.91e+05    3.91e+05\n",
      "element_486           26.3159   1.99e+05      0.000      1.000   -3.91e+05    3.91e+05\n",
      "element_487            0.0170   2.82e+05   6.03e-08      1.000   -5.53e+05    5.53e+05\n",
      "element_488            1.2251   2.58e+05   4.76e-06      1.000   -5.05e+05    5.05e+05\n",
      "element_489           26.2548   1.99e+05      0.000      1.000   -3.91e+05    3.91e+05\n",
      "element_491            0.0732   7.68e+05   9.52e-08      1.000   -1.51e+06    1.51e+06\n",
      "element_492            0.8780   2.46e+05   3.56e-06      1.000   -4.83e+05    4.83e+05\n",
      "element_493           26.2077   1.99e+05      0.000      1.000   -3.91e+05    3.91e+05\n",
      "element_494           24.6889   1.99e+05      0.000      1.000   -3.91e+05    3.91e+05\n",
      "element_495           26.5660   1.99e+05      0.000      1.000   -3.91e+05    3.91e+05\n",
      "element_497           30.5581   1.99e+05      0.000      1.000   -3.91e+05    3.91e+05\n",
      "element_499           25.6569   1.99e+05      0.000      1.000   -3.91e+05    3.91e+05\n",
      "element_500           25.5313   1.99e+05      0.000      1.000   -3.91e+05    3.91e+05\n",
      "element_502            0.7477   2.79e+05   2.68e-06      1.000   -5.47e+05    5.48e+05\n",
      "element_503           24.6653   1.99e+05      0.000      1.000   -3.91e+05    3.91e+05\n",
      "element_504           25.7161   1.99e+05      0.000      1.000   -3.91e+05    3.91e+05\n",
      "element_505           25.9445   1.99e+05      0.000      1.000   -3.91e+05    3.91e+05\n",
      "element_506            0.8206   2.52e+05   3.26e-06      1.000   -4.94e+05    4.94e+05\n",
      "element_507           26.3423   1.99e+05      0.000      1.000   -3.91e+05    3.91e+05\n",
      "element_508           25.5440   1.99e+05      0.000      1.000   -3.91e+05    3.91e+05\n",
      "element_510           24.7904   1.99e+05      0.000      1.000   -3.91e+05    3.91e+05\n",
      "element_511            0.3871   2.79e+05   1.39e-06      1.000   -5.47e+05    5.47e+05\n",
      "element_512            0.4769   2.59e+05   1.84e-06      1.000   -5.08e+05    5.08e+05\n",
      "element_513           26.7434   1.99e+05      0.000      1.000   -3.91e+05    3.91e+05\n",
      "element_514           25.8787   1.99e+05      0.000      1.000   -3.91e+05    3.91e+05\n",
      "element_515            0.6895      3e+05    2.3e-06      1.000   -5.87e+05    5.87e+05\n",
      "element_516           25.8142   1.99e+05      0.000      1.000   -3.91e+05    3.91e+05\n",
      "element_517            0.7995   2.96e+05    2.7e-06      1.000    -5.8e+05     5.8e+05\n",
      "element_518            1.0661   3.24e+05   3.29e-06      1.000   -6.34e+05    6.34e+05\n",
      "element_519            0.0626   2.75e+05   2.28e-07      1.000   -5.39e+05    5.39e+05\n",
      "element_521            1.3294   4.29e+05    3.1e-06      1.000   -8.41e+05    8.41e+05\n",
      "element_522            1.2005   2.62e+05   4.58e-06      1.000   -5.14e+05    5.14e+05\n",
      "element_523            3.7189   7.68e+05   4.84e-06      1.000   -1.51e+06    1.51e+06\n",
      "element_524           25.4887   1.99e+05      0.000      1.000   -3.91e+05    3.91e+05\n",
      "element_526           25.3418   1.99e+05      0.000      1.000   -3.91e+05    3.91e+05\n",
      "element_527           24.6606   1.99e+05      0.000      1.000   -3.91e+05    3.91e+05\n",
      "element_531           25.7312   1.99e+05      0.000      1.000   -3.91e+05    3.91e+05\n",
      "element_534           26.3106   1.99e+05      0.000      1.000   -3.91e+05    3.91e+05\n",
      "element_535           26.4801   1.99e+05      0.000      1.000   -3.91e+05    3.91e+05\n",
      "element_539           26.0119   1.99e+05      0.000      1.000   -3.91e+05    3.91e+05\n",
      "element_540            1.2380   2.98e+05   4.16e-06      1.000   -5.84e+05    5.84e+05\n",
      "element_543           26.5765   1.99e+05      0.000      1.000   -3.91e+05    3.91e+05\n",
      "element_544            2.5516   4.45e+05   5.74e-06      1.000   -8.72e+05    8.72e+05\n",
      "element_549           -0.2367   3.42e+05  -6.92e-07      1.000    -6.7e+05     6.7e+05\n",
      "element_550           27.3824   1.99e+05      0.000      1.000   -3.91e+05    3.91e+05\n",
      "element_552            3.5039   5.04e+05   6.95e-06      1.000   -9.89e+05    9.89e+05\n",
      "element_556            0.0427    2.6e+05   1.64e-07      1.000    -5.1e+05     5.1e+05\n",
      "element_557            4.1824   7.68e+05   5.44e-06      1.000   -1.51e+06    1.51e+06\n",
      "element_560            1.2351   7.68e+05   1.61e-06      1.000   -1.51e+06    1.51e+06\n",
      "element_562            4.2827   7.68e+05   5.57e-06      1.000   -1.51e+06    1.51e+06\n",
      "element_563            1.7719   7.68e+05   2.31e-06      1.000   -1.51e+06    1.51e+06\n",
      "element_565            0.3938   7.68e+05   5.12e-07      1.000   -1.51e+06    1.51e+06\n",
      "element_566            3.3318   7.68e+05   4.34e-06      1.000   -1.51e+06    1.51e+06\n",
      "element_568            1.6357   7.68e+05   2.13e-06      1.000   -1.51e+06    1.51e+06\n",
      "element_569           27.4555   1.99e+05      0.000      1.000   -3.91e+05    3.91e+05\n",
      "element_570            1.2714   3.54e+05   3.59e-06      1.000   -6.95e+05    6.95e+05\n",
      "element_571           26.6226   1.99e+05      0.000      1.000   -3.91e+05    3.91e+05\n",
      "element_573            1.3595   5.49e+05   2.48e-06      1.000   -1.08e+06    1.08e+06\n",
      "element_574            2.9394    3.2e+05   9.17e-06      1.000   -6.28e+05    6.28e+05\n",
      "element_575           26.7554   1.99e+05      0.000      1.000   -3.91e+05    3.91e+05\n",
      "element_579           -0.1428   3.22e+05  -4.43e-07      1.000   -6.31e+05    6.31e+05\n",
      "element_580            0.8051   2.73e+05   2.95e-06      1.000   -5.34e+05    5.34e+05\n",
      "element_581           -0.0992   5.36e+05  -1.85e-07      1.000   -1.05e+06    1.05e+06\n",
      "element_585           26.3328   1.99e+05      0.000      1.000   -3.91e+05    3.91e+05\n",
      "element_586            1.5132   4.13e+05   3.67e-06      1.000   -8.09e+05    8.09e+05\n",
      "element_587           26.5759   1.99e+05      0.000      1.000   -3.91e+05    3.91e+05\n",
      "element_588            3.1907   7.68e+05   4.15e-06      1.000   -1.51e+06    1.51e+06\n",
      "element_589            1.0545   3.01e+05    3.5e-06      1.000    -5.9e+05     5.9e+05\n",
      "element_590           28.0636   1.99e+05      0.000      1.000   -3.91e+05    3.91e+05\n",
      "element_591           27.2083   1.99e+05      0.000      1.000   -3.91e+05    3.91e+05\n",
      "element_592           25.9501   1.99e+05      0.000      1.000   -3.91e+05    3.91e+05\n",
      "element_593           26.4655   1.99e+05      0.000      1.000   -3.91e+05    3.91e+05\n",
      "element_594            0.4286   7.68e+05   5.58e-07      1.000   -1.51e+06    1.51e+06\n",
      "element_599            2.1721   7.68e+05   2.83e-06      1.000   -1.51e+06    1.51e+06\n",
      "element_601            0.4000   7.68e+05   5.21e-07      1.000   -1.51e+06    1.51e+06\n",
      "element_602            4.3744   7.68e+05   5.69e-06      1.000   -1.51e+06    1.51e+06\n",
      "element_603            4.0094   7.68e+05   5.22e-06      1.000   -1.51e+06    1.51e+06\n",
      "element_605            0.9585   7.68e+05   1.25e-06      1.000   -1.51e+06    1.51e+06\n",
      "element_607            0.8190   5.18e+05   1.58e-06      1.000   -1.02e+06    1.02e+06\n",
      "element_608            2.1721   7.68e+05   2.83e-06      1.000   -1.51e+06    1.51e+06\n",
      "======================================================================================\n"
     ]
    }
   ],
   "source": [
    "print(eppmm_results.summary())"
   ]
  },
  {
   "cell_type": "markdown",
   "metadata": {
    "heading_collapsed": true,
    "hidden": true
   },
   "source": [
    "### Model fit"
   ]
  },
  {
   "cell_type": "code",
   "execution_count": 147,
   "metadata": {
    "ExecuteTime": {
     "end_time": "2019-04-09T16:45:36.391016Z",
     "start_time": "2019-04-09T16:45:36.385992Z"
    },
    "hidden": true
   },
   "outputs": [
    {
     "data": {
      "text/plain": [
       "5294.198368296822"
      ]
     },
     "execution_count": 147,
     "metadata": {},
     "output_type": "execute_result"
    }
   ],
   "source": [
    "eppmm_results.aic"
   ]
  },
  {
   "cell_type": "code",
   "execution_count": 148,
   "metadata": {
    "ExecuteTime": {
     "end_time": "2019-04-09T16:45:36.433037Z",
     "start_time": "2019-04-09T16:45:36.392961Z"
    },
    "hidden": true
   },
   "outputs": [
    {
     "data": {
      "text/plain": [
       "-66339.85580620253"
      ]
     },
     "execution_count": 148,
     "metadata": {},
     "output_type": "execute_result"
    }
   ],
   "source": [
    "eppmm_results.bic"
   ]
  },
  {
   "cell_type": "code",
   "execution_count": 149,
   "metadata": {
    "ExecuteTime": {
     "end_time": "2019-04-09T16:45:36.465795Z",
     "start_time": "2019-04-09T16:45:36.434945Z"
    },
    "hidden": true
   },
   "outputs": [
    {
     "data": {
      "text/plain": [
       "(False, 1.0)"
      ]
     },
     "execution_count": 149,
     "metadata": {},
     "output_type": "execute_result"
    }
   ],
   "source": [
    "eppmm_pearson_results = goodness_fit.pearson_chi_squared_test(eppmm_results)\n",
    "eppmm_pearson_results"
   ]
  },
  {
   "cell_type": "code",
   "execution_count": 150,
   "metadata": {
    "ExecuteTime": {
     "end_time": "2019-04-09T16:45:36.505152Z",
     "start_time": "2019-04-09T16:45:36.467724Z"
    },
    "hidden": true
   },
   "outputs": [
    {
     "data": {
      "text/plain": [
       "count    8160.000000\n",
       "mean       -0.156684\n",
       "std         0.570179\n",
       "min        -1.561685\n",
       "25%        -0.470480\n",
       "50%        -0.272196\n",
       "75%        -0.000001\n",
       "max         3.496394\n",
       "dtype: float64"
      ]
     },
     "execution_count": 150,
     "metadata": {},
     "output_type": "execute_result"
    }
   ],
   "source": [
    "eppmm_results.resid_deviance.describe()"
   ]
  },
  {
   "cell_type": "code",
   "execution_count": 151,
   "metadata": {
    "ExecuteTime": {
     "end_time": "2019-04-09T16:45:36.816527Z",
     "start_time": "2019-04-09T16:45:36.507191Z"
    },
    "hidden": true
   },
   "outputs": [
    {
     "data": {
      "image/png": "[encoded data removed]",
      "text/plain": [
       "<Figure size 432x288 with 1 Axes>"
      ]
     },
     "metadata": {
      "needs_background": "light"
     },
     "output_type": "display_data"
    }
   ],
   "source": [
    "plt.figure()\n",
    "plt.hist(eppmm_results.resid_deviance, bins=20)\n",
    "plt.show()"
   ]
  },
  {
   "cell_type": "markdown",
   "metadata": {},
   "source": [
    "# Model comparison"
   ]
  },
  {
   "cell_type": "code",
   "execution_count": 152,
   "metadata": {
    "ExecuteTime": {
     "end_time": "2019-04-09T16:45:36.826133Z",
     "start_time": "2019-04-09T16:45:36.818875Z"
    }
   },
   "outputs": [
    {
     "data": {
      "text/plain": [
       "{'Simple Poisson': 5336.441127586411,\n",
       " 'Poisson teams': 5187.109037010568,\n",
       " 'Poisson players': 5348.766395808333,\n",
       " 'Simple Poisson minutes': 5255.147509076489,\n",
       " 'Simple Poisson exposure': 5298.595243230665,\n",
       " 'Poisson teams minutes': 5063.101860124214,\n",
       " 'Poisson teams exposure': 5083.547507390469,\n",
       " 'Poisson teams exposure form': 4844.658215989744,\n",
       " 'Poisson players minutes': 5276.432960085958,\n",
       " 'Poisson players exposure': 5294.198368296822}"
      ]
     },
     "execution_count": 152,
     "metadata": {},
     "output_type": "execute_result"
    }
   ],
   "source": [
    "aic = {\n",
    "    'Simple Poisson': spm_results.aic,\n",
    "    'Poisson teams': sptm_results.aic,\n",
    "    'Poisson players': sppm_results.aic,\n",
    "    \n",
    "    'Simple Poisson minutes': spmm_results.aic,\n",
    "    'Simple Poisson exposure': epmm_results.aic,\n",
    "    'Poisson teams minutes': sptmm_results.aic,\n",
    "    'Poisson teams exposure': eptmm_results.aic,\n",
    "    'Poisson teams exposure form': eptmmf_results.aic,\n",
    "    'Poisson players minutes': sppmm_results.aic,\n",
    "    'Poisson players exposure': eppmm_results.aic,\n",
    "    }\n",
    "aic"
   ]
  },
  {
   "cell_type": "code",
   "execution_count": 153,
   "metadata": {
    "ExecuteTime": {
     "end_time": "2019-04-09T16:45:36.942300Z",
     "start_time": "2019-04-09T16:45:36.828391Z"
    }
   },
   "outputs": [
    {
     "data": {
      "text/plain": [
       "{'Simple Poisson': -69647.01735787923,\n",
       " 'Poisson teams': -69509.05744688684,\n",
       " 'Poisson players': -66285.28777869102,\n",
       " 'Simple Poisson minutes': -69721.3038543997,\n",
       " 'Simple Poisson exposure': -69684.86324223498,\n",
       " 'Poisson teams minutes': -69626.05750178373,\n",
       " 'Poisson teams exposure': -69612.61897650694,\n",
       " 'Poisson teams exposure form': -65193.752226297394,\n",
       " 'Poisson players minutes': -66350.61409242392,\n",
       " 'Poisson players exposure': -66339.85580620253}"
      ]
     },
     "execution_count": 153,
     "metadata": {},
     "output_type": "execute_result"
    }
   ],
   "source": [
    "bic = {\n",
    "    'Simple Poisson': spm_results.bic,\n",
    "    'Poisson teams': sptm_results.bic,\n",
    "    'Poisson players': sppm_results.bic,\n",
    "    \n",
    "    'Simple Poisson minutes': spmm_results.bic,\n",
    "    'Simple Poisson exposure': epmm_results.bic,\n",
    "    'Poisson teams minutes': sptmm_results.bic,\n",
    "    'Poisson teams exposure': eptmm_results.bic,\n",
    "    'Poisson teams exposure form': eptmmf_results.bic,\n",
    "    'Poisson players minutes': sppmm_results.bic,\n",
    "    'Poisson players exposure': eppmm_results.bic,\n",
    "    }\n",
    "bic"
   ]
  },
  {
   "cell_type": "code",
   "execution_count": 155,
   "metadata": {
    "ExecuteTime": {
     "end_time": "2019-04-09T16:52:19.665790Z",
     "start_time": "2019-04-09T16:52:19.642447Z"
    }
   },
   "outputs": [
    {
     "data": {
      "text/html": [
       "<div>\n",
       "<style scoped>\n",
       "    .dataframe tbody tr th:only-of-type {\n",
       "        vertical-align: middle;\n",
       "    }\n",
       "\n",
       "    .dataframe tbody tr th {\n",
       "        vertical-align: top;\n",
       "    }\n",
       "\n",
       "    .dataframe thead th {\n",
       "        text-align: right;\n",
       "    }\n",
       "</style>\n",
       "<table border=\"1\" class=\"dataframe\">\n",
       "  <thead>\n",
       "    <tr style=\"text-align: right;\">\n",
       "      <th></th>\n",
       "      <th>AIC</th>\n",
       "      <th>BIC</th>\n",
       "    </tr>\n",
       "  </thead>\n",
       "  <tbody>\n",
       "    <tr>\n",
       "      <th>Poisson players</th>\n",
       "      <td>5348</td>\n",
       "      <td>-66285</td>\n",
       "    </tr>\n",
       "    <tr>\n",
       "      <th>Poisson players exposure</th>\n",
       "      <td>5294</td>\n",
       "      <td>-66339</td>\n",
       "    </tr>\n",
       "    <tr>\n",
       "      <th>Poisson players minutes</th>\n",
       "      <td>5276</td>\n",
       "      <td>-66350</td>\n",
       "    </tr>\n",
       "    <tr>\n",
       "      <th>Poisson teams</th>\n",
       "      <td>5187</td>\n",
       "      <td>-69509</td>\n",
       "    </tr>\n",
       "    <tr>\n",
       "      <th>Poisson teams exposure</th>\n",
       "      <td>5083</td>\n",
       "      <td>-69612</td>\n",
       "    </tr>\n",
       "    <tr>\n",
       "      <th>Poisson teams exposure form</th>\n",
       "      <td>4844</td>\n",
       "      <td>-65193</td>\n",
       "    </tr>\n",
       "    <tr>\n",
       "      <th>Poisson teams minutes</th>\n",
       "      <td>5063</td>\n",
       "      <td>-69626</td>\n",
       "    </tr>\n",
       "    <tr>\n",
       "      <th>Simple Poisson</th>\n",
       "      <td>5336</td>\n",
       "      <td>-69647</td>\n",
       "    </tr>\n",
       "    <tr>\n",
       "      <th>Simple Poisson exposure</th>\n",
       "      <td>5298</td>\n",
       "      <td>-69684</td>\n",
       "    </tr>\n",
       "    <tr>\n",
       "      <th>Simple Poisson minutes</th>\n",
       "      <td>5255</td>\n",
       "      <td>-69721</td>\n",
       "    </tr>\n",
       "  </tbody>\n",
       "</table>\n",
       "</div>"
      ],
      "text/plain": [
       "                              AIC    BIC\n",
       "Poisson players              5348 -66285\n",
       "Poisson players exposure     5294 -66339\n",
       "Poisson players minutes      5276 -66350\n",
       "Poisson teams                5187 -69509\n",
       "Poisson teams exposure       5083 -69612\n",
       "Poisson teams exposure form  4844 -65193\n",
       "Poisson teams minutes        5063 -69626\n",
       "Simple Poisson               5336 -69647\n",
       "Simple Poisson exposure      5298 -69684\n",
       "Simple Poisson minutes       5255 -69721"
      ]
     },
     "execution_count": 155,
     "metadata": {},
     "output_type": "execute_result"
    }
   ],
   "source": [
    "comp_df = pd.DataFrame([\n",
    "    aic,\n",
    "    bic\n",
    "]).T\n",
    "comp_df.columns = [\n",
    "    'AIC',\n",
    "    'BIC'\n",
    "]\n",
    "comp_df.astype('int64')"
   ]
  },
  {
   "cell_type": "code",
   "execution_count": null,
   "metadata": {},
   "outputs": [],
   "source": []
  }
 ],
 "metadata": {
  "kernelspec": {
   "display_name": "Python 3",
   "language": "python",
   "name": "python3"
  },
  "language_info": {
   "codemirror_mode": {
    "name": "ipython",
    "version": 3
   },
   "file_extension": ".py",
   "mimetype": "text/x-python",
   "name": "python",
   "nbconvert_exporter": "python",
   "pygments_lexer": "ipython3",
   "version": "3.6.7"
  },
  "toc": {
   "nav_menu": {},
   "number_sections": true,
   "sideBar": true,
   "skip_h1_title": false,
   "title_cell": "Table of Contents",
   "title_sidebar": "Contents",
   "toc_cell": false,
   "toc_position": {},
   "toc_section_display": true,
   "toc_window_display": false
  }
 },
 "nbformat": 4,
 "nbformat_minor": 2
}
