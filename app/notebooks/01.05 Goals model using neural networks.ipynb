{
 "cells": [
  {
   "cell_type": "markdown",
   "metadata": {},
   "source": [
    "# Set up"
   ]
  },
  {
   "cell_type": "code",
   "execution_count": 1,
   "metadata": {
    "ExecuteTime": {
     "end_time": "2019-04-14T08:09:16.981193Z",
     "start_time": "2019-04-14T08:09:16.974874Z"
    }
   },
   "outputs": [],
   "source": [
    "# update path with data dir\n",
    "import sys\n",
    "sys.path.append('../data/')\n",
    "sys.path.append('../modelling/')"
   ]
  },
  {
   "cell_type": "code",
   "execution_count": 2,
   "metadata": {
    "ExecuteTime": {
     "end_time": "2019-04-14T08:09:19.760849Z",
     "start_time": "2019-04-14T08:09:17.538399Z"
    }
   },
   "outputs": [
    {
     "name": "stderr",
     "output_type": "stream",
     "text": [
      "/home/tom/footbot/venv/lib/python3.6/site-packages/statsmodels/compat/pandas.py:56: FutureWarning: The pandas.core.datetools module is deprecated and will be removed in a future version. Please use the pandas.tseries module instead.\n",
      "  from pandas.core import datetools\n"
     ]
    }
   ],
   "source": [
    "import player_data as player\n",
    "from tensorflow.keras.models import Sequential\n",
    "from tensorflow.keras.layers import Dense\n",
    "from tensorflow.keras.wrappers.scikit_learn import KerasClassifier\n",
    "import pandas as pd\n",
    "from sklearn.model_selection import train_test_split, GridSearchCV\n",
    "from sklearn.preprocessing import StandardScaler\n",
    "from sklearn.metrics import mean_absolute_error, mean_squared_error\n",
    "import patsy\n",
    "from datetime import datetime\n",
    "import numpy as np"
   ]
  },
  {
   "cell_type": "code",
   "execution_count": 3,
   "metadata": {
    "ExecuteTime": {
     "end_time": "2019-04-14T08:09:19.769354Z",
     "start_time": "2019-04-14T08:09:19.764436Z"
    }
   },
   "outputs": [],
   "source": [
    "response_variable = 'goals_scored'"
   ]
  },
  {
   "cell_type": "markdown",
   "metadata": {},
   "source": [
    "# Getting data"
   ]
  },
  {
   "cell_type": "code",
   "execution_count": null,
   "metadata": {
    "ExecuteTime": {
     "end_time": "2019-04-14T07:56:05.123410Z",
     "start_time": "2019-04-14T07:56:05.117068Z"
    }
   },
   "outputs": [],
   "source": [
    "file_name = 'csvs/element_gameweek_' + datetime.today().strftime('%Y-%m-%d') + '.csv'"
   ]
  },
  {
   "cell_type": "code",
   "execution_count": null,
   "metadata": {
    "ExecuteTime": {
     "end_time": "2019-04-14T07:56:05.501400Z",
     "start_time": "2019-04-14T07:56:05.307091Z"
    }
   },
   "outputs": [],
   "source": [
    "try:\n",
    "    element_gameweek_df = pd.read_csv(file_name)\n",
    "except:\n",
    "    element_gameweek_df = player.get_element_gameweek_df()\n",
    "    element_gameweek_df.to_csv(file_name)"
   ]
  },
  {
   "cell_type": "code",
   "execution_count": 5,
   "metadata": {
    "ExecuteTime": {
     "end_time": "2019-04-14T08:11:35.434517Z",
     "start_time": "2019-04-14T08:11:35.426860Z"
    }
   },
   "outputs": [],
   "source": [
    "current_event = 32\n",
    "element_types = [2, 3, 4]\n",
    "threshold_minutes = 1"
   ]
  },
  {
   "cell_type": "code",
   "execution_count": 6,
   "metadata": {
    "ExecuteTime": {
     "end_time": "2019-04-14T08:11:35.495568Z",
     "start_time": "2019-04-14T08:11:35.439099Z"
    }
   },
   "outputs": [],
   "source": [
    "element_gameweek_df =\\\n",
    "element_gameweek_df[\n",
    "    (element_gameweek_df['event'] <= current_event)\n",
    "    & (element_gameweek_df['element_type'].isin(element_types))\n",
    "    & (element_gameweek_df['minutes'] >= threshold_minutes)\n",
    "]"
   ]
  },
  {
   "cell_type": "code",
   "execution_count": 7,
   "metadata": {
    "ExecuteTime": {
     "end_time": "2019-04-14T08:11:35.639307Z",
     "start_time": "2019-04-14T08:11:35.501082Z"
    }
   },
   "outputs": [],
   "source": [
    "player.add_home_categorical_variable(element_gameweek_df)"
   ]
  },
  {
   "cell_type": "code",
   "execution_count": 8,
   "metadata": {
    "ExecuteTime": {
     "end_time": "2019-04-14T08:11:35.774170Z",
     "start_time": "2019-04-14T08:11:35.642328Z"
    }
   },
   "outputs": [],
   "source": [
    "element_gameweek_df['row_id'] = element_gameweek_df['row_id'].rank()"
   ]
  },
  {
   "cell_type": "code",
   "execution_count": 9,
   "metadata": {
    "ExecuteTime": {
     "end_time": "2019-04-14T08:35:24.740318Z",
     "start_time": "2019-04-14T08:35:24.717439Z"
    }
   },
   "outputs": [],
   "source": [
    "element_gameweek_df['element_fixture_rank'] = element_gameweek_df.groupby('element')['row_id'].rank()"
   ]
  },
  {
   "cell_type": "code",
   "execution_count": 10,
   "metadata": {
    "ExecuteTime": {
     "end_time": "2019-04-14T08:35:27.573463Z",
     "start_time": "2019-04-14T08:35:27.567957Z"
    }
   },
   "outputs": [],
   "source": [
    "rolling_cols = [\n",
    "    'big_chances_missed',\n",
    "    'goals_scored',\n",
    "    'target_missed'\n",
    "]"
   ]
  },
  {
   "cell_type": "code",
   "execution_count": 11,
   "metadata": {
    "ExecuteTime": {
     "end_time": "2019-04-14T08:35:28.690465Z",
     "start_time": "2019-04-14T08:35:27.761124Z"
    }
   },
   "outputs": [],
   "source": [
    "rolling_df = \\\n",
    "element_gameweek_df.copy().groupby('element', as_index=True)[['minutes'] + rolling_cols]\\\n",
    ".rolling(38, min_periods=1).sum().reset_index()[['element', 'minutes'] + rolling_cols]"
   ]
  },
  {
   "cell_type": "code",
   "execution_count": 12,
   "metadata": {
    "ExecuteTime": {
     "end_time": "2019-04-14T08:35:28.851198Z",
     "start_time": "2019-04-14T08:35:28.696874Z"
    }
   },
   "outputs": [],
   "source": [
    "rolling_df['element_fixture_rank'] = rolling_df.groupby('element')['minutes'].rank()"
   ]
  },
  {
   "cell_type": "code",
   "execution_count": 13,
   "metadata": {
    "ExecuteTime": {
     "end_time": "2019-04-14T08:35:28.859878Z",
     "start_time": "2019-04-14T08:35:28.853780Z"
    }
   },
   "outputs": [],
   "source": [
    "rolling_df['element_fixture_rank'] = rolling_df['element_fixture_rank'] + 1"
   ]
  },
  {
   "cell_type": "code",
   "execution_count": 14,
   "metadata": {
    "ExecuteTime": {
     "end_time": "2019-04-14T08:35:28.906256Z",
     "start_time": "2019-04-14T08:35:28.863148Z"
    }
   },
   "outputs": [],
   "source": [
    "element_gameweek_df =\\\n",
    "element_gameweek_df.join(\n",
    "    rolling_df.set_index(['element', 'element_fixture_rank']),\n",
    "    on=['element', 'element_fixture_rank'],\n",
    "    rsuffix='_rolling')"
   ]
  },
  {
   "cell_type": "code",
   "execution_count": 15,
   "metadata": {
    "ExecuteTime": {
     "end_time": "2019-04-14T08:35:28.915947Z",
     "start_time": "2019-04-14T08:35:28.909094Z"
    }
   },
   "outputs": [],
   "source": [
    "for i in rolling_cols:\n",
    "    element_gameweek_df[i + '_per_minute_rolling'] = \\\n",
    "    element_gameweek_df[i + '_rolling'] / element_gameweek_df['minutes_rolling']"
   ]
  },
  {
   "cell_type": "code",
   "execution_count": 16,
   "metadata": {
    "ExecuteTime": {
     "end_time": "2019-04-14T08:35:29.834453Z",
     "start_time": "2019-04-14T08:35:28.918371Z"
    }
   },
   "outputs": [],
   "source": [
    "rolling_p5_df = \\\n",
    "element_gameweek_df.copy().groupby('element', as_index=True)[['minutes'] + rolling_cols]\\\n",
    ".rolling(5, min_periods=1).sum().reset_index()[['element', 'minutes'] + rolling_cols]"
   ]
  },
  {
   "cell_type": "code",
   "execution_count": 17,
   "metadata": {
    "ExecuteTime": {
     "end_time": "2019-04-14T08:35:29.929238Z",
     "start_time": "2019-04-14T08:35:29.837115Z"
    }
   },
   "outputs": [],
   "source": [
    "rolling_p5_df['element_fixture_rank'] = rolling_p5_df.groupby('element')['minutes'].rank()"
   ]
  },
  {
   "cell_type": "code",
   "execution_count": 18,
   "metadata": {
    "ExecuteTime": {
     "end_time": "2019-04-14T08:35:29.940675Z",
     "start_time": "2019-04-14T08:35:29.935475Z"
    }
   },
   "outputs": [],
   "source": [
    "rolling_p5_df['element_fixture_rank'] = rolling_p5_df['element_fixture_rank'] + 1"
   ]
  },
  {
   "cell_type": "code",
   "execution_count": 19,
   "metadata": {
    "ExecuteTime": {
     "end_time": "2019-04-14T08:35:30.007596Z",
     "start_time": "2019-04-14T08:35:29.943232Z"
    }
   },
   "outputs": [],
   "source": [
    "element_gameweek_df =\\\n",
    "element_gameweek_df.join(\n",
    "    rolling_p5_df.set_index(['element', 'element_fixture_rank']),\n",
    "    on=['element', 'element_fixture_rank'],\n",
    "    rsuffix='_rolling_p5')"
   ]
  },
  {
   "cell_type": "code",
   "execution_count": 20,
   "metadata": {
    "ExecuteTime": {
     "end_time": "2019-04-14T08:35:30.017107Z",
     "start_time": "2019-04-14T08:35:30.010174Z"
    }
   },
   "outputs": [],
   "source": [
    "for i in rolling_cols:\n",
    "    element_gameweek_df[i + '_per_minute_rolling_p5'] = \\\n",
    "    element_gameweek_df[i + '_rolling_p5'] / element_gameweek_df['minutes_rolling']"
   ]
  },
  {
   "cell_type": "code",
   "execution_count": 21,
   "metadata": {
    "ExecuteTime": {
     "end_time": "2019-04-14T08:35:30.084869Z",
     "start_time": "2019-04-14T08:35:30.019407Z"
    }
   },
   "outputs": [
    {
     "data": {
      "text/html": [
       "<div>\n",
       "<style scoped>\n",
       "    .dataframe tbody tr th:only-of-type {\n",
       "        vertical-align: middle;\n",
       "    }\n",
       "\n",
       "    .dataframe tbody tr th {\n",
       "        vertical-align: top;\n",
       "    }\n",
       "\n",
       "    .dataframe thead th {\n",
       "        text-align: right;\n",
       "    }\n",
       "</style>\n",
       "<table border=\"1\" class=\"dataframe\">\n",
       "  <thead>\n",
       "    <tr style=\"text-align: right;\">\n",
       "      <th></th>\n",
       "      <th>row_id</th>\n",
       "      <th>assists</th>\n",
       "      <th>attempted_passes</th>\n",
       "      <th>big_chances_created</th>\n",
       "      <th>big_chances_missed</th>\n",
       "      <th>bonus</th>\n",
       "      <th>bps</th>\n",
       "      <th>clean_sheets</th>\n",
       "      <th>clearances_blocks_interceptions</th>\n",
       "      <th>completed_passes</th>\n",
       "      <th>...</th>\n",
       "      <th>big_chances_missed_per_minute_rolling</th>\n",
       "      <th>goals_scored_per_minute_rolling</th>\n",
       "      <th>target_missed_per_minute_rolling</th>\n",
       "      <th>minutes_rolling_p5</th>\n",
       "      <th>big_chances_missed_rolling_p5</th>\n",
       "      <th>goals_scored_rolling_p5</th>\n",
       "      <th>target_missed_rolling_p5</th>\n",
       "      <th>big_chances_missed_per_minute_rolling_p5</th>\n",
       "      <th>goals_scored_per_minute_rolling_p5</th>\n",
       "      <th>target_missed_per_minute_rolling_p5</th>\n",
       "    </tr>\n",
       "  </thead>\n",
       "  <tbody>\n",
       "    <tr>\n",
       "      <th>82</th>\n",
       "      <td>1.0</td>\n",
       "      <td>0</td>\n",
       "      <td>92</td>\n",
       "      <td>0</td>\n",
       "      <td>0</td>\n",
       "      <td>0</td>\n",
       "      <td>11</td>\n",
       "      <td>0</td>\n",
       "      <td>6</td>\n",
       "      <td>85</td>\n",
       "      <td>...</td>\n",
       "      <td>NaN</td>\n",
       "      <td>NaN</td>\n",
       "      <td>NaN</td>\n",
       "      <td>NaN</td>\n",
       "      <td>NaN</td>\n",
       "      <td>NaN</td>\n",
       "      <td>NaN</td>\n",
       "      <td>NaN</td>\n",
       "      <td>NaN</td>\n",
       "      <td>NaN</td>\n",
       "    </tr>\n",
       "    <tr>\n",
       "      <th>84</th>\n",
       "      <td>2.0</td>\n",
       "      <td>0</td>\n",
       "      <td>74</td>\n",
       "      <td>0</td>\n",
       "      <td>0</td>\n",
       "      <td>0</td>\n",
       "      <td>17</td>\n",
       "      <td>0</td>\n",
       "      <td>4</td>\n",
       "      <td>70</td>\n",
       "      <td>...</td>\n",
       "      <td>0.0</td>\n",
       "      <td>0.0</td>\n",
       "      <td>0.011111</td>\n",
       "      <td>90.0</td>\n",
       "      <td>0.0</td>\n",
       "      <td>0.0</td>\n",
       "      <td>1.0</td>\n",
       "      <td>0.0</td>\n",
       "      <td>0.0</td>\n",
       "      <td>0.011111</td>\n",
       "    </tr>\n",
       "    <tr>\n",
       "      <th>85</th>\n",
       "      <td>3.0</td>\n",
       "      <td>0</td>\n",
       "      <td>38</td>\n",
       "      <td>0</td>\n",
       "      <td>0</td>\n",
       "      <td>0</td>\n",
       "      <td>10</td>\n",
       "      <td>0</td>\n",
       "      <td>2</td>\n",
       "      <td>36</td>\n",
       "      <td>...</td>\n",
       "      <td>0.0</td>\n",
       "      <td>0.0</td>\n",
       "      <td>0.006289</td>\n",
       "      <td>159.0</td>\n",
       "      <td>0.0</td>\n",
       "      <td>0.0</td>\n",
       "      <td>1.0</td>\n",
       "      <td>0.0</td>\n",
       "      <td>0.0</td>\n",
       "      <td>0.006289</td>\n",
       "    </tr>\n",
       "    <tr>\n",
       "      <th>86</th>\n",
       "      <td>4.0</td>\n",
       "      <td>0</td>\n",
       "      <td>64</td>\n",
       "      <td>0</td>\n",
       "      <td>0</td>\n",
       "      <td>0</td>\n",
       "      <td>19</td>\n",
       "      <td>0</td>\n",
       "      <td>10</td>\n",
       "      <td>57</td>\n",
       "      <td>...</td>\n",
       "      <td>0.0</td>\n",
       "      <td>0.0</td>\n",
       "      <td>0.004902</td>\n",
       "      <td>204.0</td>\n",
       "      <td>0.0</td>\n",
       "      <td>0.0</td>\n",
       "      <td>1.0</td>\n",
       "      <td>0.0</td>\n",
       "      <td>0.0</td>\n",
       "      <td>0.004902</td>\n",
       "    </tr>\n",
       "    <tr>\n",
       "      <th>87</th>\n",
       "      <td>5.0</td>\n",
       "      <td>0</td>\n",
       "      <td>89</td>\n",
       "      <td>0</td>\n",
       "      <td>0</td>\n",
       "      <td>0</td>\n",
       "      <td>17</td>\n",
       "      <td>0</td>\n",
       "      <td>2</td>\n",
       "      <td>87</td>\n",
       "      <td>...</td>\n",
       "      <td>0.0</td>\n",
       "      <td>0.0</td>\n",
       "      <td>0.003401</td>\n",
       "      <td>294.0</td>\n",
       "      <td>0.0</td>\n",
       "      <td>0.0</td>\n",
       "      <td>1.0</td>\n",
       "      <td>0.0</td>\n",
       "      <td>0.0</td>\n",
       "      <td>0.003401</td>\n",
       "    </tr>\n",
       "  </tbody>\n",
       "</table>\n",
       "<p>5 rows × 81 columns</p>\n",
       "</div>"
      ],
      "text/plain": [
       "    row_id  assists  attempted_passes  big_chances_created  \\\n",
       "82     1.0        0                92                    0   \n",
       "84     2.0        0                74                    0   \n",
       "85     3.0        0                38                    0   \n",
       "86     4.0        0                64                    0   \n",
       "87     5.0        0                89                    0   \n",
       "\n",
       "    big_chances_missed  bonus  bps  clean_sheets  \\\n",
       "82                   0      0   11             0   \n",
       "84                   0      0   17             0   \n",
       "85                   0      0   10             0   \n",
       "86                   0      0   19             0   \n",
       "87                   0      0   17             0   \n",
       "\n",
       "    clearances_blocks_interceptions  completed_passes  \\\n",
       "82                                6                85   \n",
       "84                                4                70   \n",
       "85                                2                36   \n",
       "86                               10                57   \n",
       "87                                2                87   \n",
       "\n",
       "                   ...                  big_chances_missed_per_minute_rolling  \\\n",
       "82                 ...                                                    NaN   \n",
       "84                 ...                                                    0.0   \n",
       "85                 ...                                                    0.0   \n",
       "86                 ...                                                    0.0   \n",
       "87                 ...                                                    0.0   \n",
       "\n",
       "    goals_scored_per_minute_rolling  target_missed_per_minute_rolling  \\\n",
       "82                              NaN                               NaN   \n",
       "84                              0.0                          0.011111   \n",
       "85                              0.0                          0.006289   \n",
       "86                              0.0                          0.004902   \n",
       "87                              0.0                          0.003401   \n",
       "\n",
       "    minutes_rolling_p5  big_chances_missed_rolling_p5  \\\n",
       "82                 NaN                            NaN   \n",
       "84                90.0                            0.0   \n",
       "85               159.0                            0.0   \n",
       "86               204.0                            0.0   \n",
       "87               294.0                            0.0   \n",
       "\n",
       "    goals_scored_rolling_p5  target_missed_rolling_p5  \\\n",
       "82                      NaN                       NaN   \n",
       "84                      0.0                       1.0   \n",
       "85                      0.0                       1.0   \n",
       "86                      0.0                       1.0   \n",
       "87                      0.0                       1.0   \n",
       "\n",
       "    big_chances_missed_per_minute_rolling_p5  \\\n",
       "82                                       NaN   \n",
       "84                                       0.0   \n",
       "85                                       0.0   \n",
       "86                                       0.0   \n",
       "87                                       0.0   \n",
       "\n",
       "    goals_scored_per_minute_rolling_p5  target_missed_per_minute_rolling_p5  \n",
       "82                                 NaN                                  NaN  \n",
       "84                                 0.0                             0.011111  \n",
       "85                                 0.0                             0.006289  \n",
       "86                                 0.0                             0.004902  \n",
       "87                                 0.0                             0.003401  \n",
       "\n",
       "[5 rows x 81 columns]"
      ]
     },
     "execution_count": 21,
     "metadata": {},
     "output_type": "execute_result"
    }
   ],
   "source": [
    "element_gameweek_df.head()"
   ]
  },
  {
   "cell_type": "code",
   "execution_count": 22,
   "metadata": {
    "ExecuteTime": {
     "end_time": "2019-04-14T08:35:30.092299Z",
     "start_time": "2019-04-14T08:35:30.087167Z"
    }
   },
   "outputs": [
    {
     "data": {
      "text/plain": [
       "Index(['row_id', 'assists', 'attempted_passes', 'big_chances_created',\n",
       "       'big_chances_missed', 'bonus', 'bps', 'clean_sheets',\n",
       "       'clearances_blocks_interceptions', 'completed_passes', 'creativity',\n",
       "       'dribbles', 'ea_index', 'element', 'errors_leading_to_goal',\n",
       "       'errors_leading_to_goal_attempt', 'fixture', 'fouls', 'goals_conceded',\n",
       "       'goals_scored', 'ict_index', 'id', 'influence', 'key_passes',\n",
       "       'kickoff_time', 'kickoff_time_formatted', 'loaned_in', 'loaned_out',\n",
       "       'minutes', 'offside', 'open_play_crosses', 'opponent_team', 'own_goals',\n",
       "       'penalties_conceded', 'penalties_missed', 'penalties_saved',\n",
       "       'recoveries', 'red_cards', 'round', 'saves', 'selected', 'tackled',\n",
       "       'tackles', 'target_missed', 'team_a_score', 'team_h_score', 'threat',\n",
       "       'total_points', 'transfers_balance', 'transfers_in', 'transfers_out',\n",
       "       'value', 'was_home', 'winning_goals', 'yellow_cards', 'event', 'team_a',\n",
       "       'team_a_difficulty', 'team_h', 'team_h_difficulty', 'element_type',\n",
       "       'team', 'web_name', 'safe_web_name', 'own_team', 'opposition_team',\n",
       "       'element_fixture_rank', 'minutes_rolling', 'big_chances_missed_rolling',\n",
       "       'goals_scored_rolling', 'target_missed_rolling',\n",
       "       'big_chances_missed_per_minute_rolling',\n",
       "       'goals_scored_per_minute_rolling', 'target_missed_per_minute_rolling',\n",
       "       'minutes_rolling_p5', 'big_chances_missed_rolling_p5',\n",
       "       'goals_scored_rolling_p5', 'target_missed_rolling_p5',\n",
       "       'big_chances_missed_per_minute_rolling_p5',\n",
       "       'goals_scored_per_minute_rolling_p5',\n",
       "       'target_missed_per_minute_rolling_p5'],\n",
       "      dtype='object')"
      ]
     },
     "execution_count": 22,
     "metadata": {},
     "output_type": "execute_result"
    }
   ],
   "source": [
    "element_gameweek_df.columns"
   ]
  },
  {
   "cell_type": "markdown",
   "metadata": {},
   "source": [
    "# Neural network"
   ]
  },
  {
   "cell_type": "code",
   "execution_count": 23,
   "metadata": {
    "ExecuteTime": {
     "end_time": "2019-04-14T08:35:30.120903Z",
     "start_time": "2019-04-14T08:35:30.095444Z"
    }
   },
   "outputs": [],
   "source": [
    "def add_missing_columns(df, columns):\n",
    "    for col in set(columns) - set(df.columns):\n",
    "        df[col] = np.zeros(len(df))\n",
    "    \n",
    "    return df[columns]"
   ]
  },
  {
   "cell_type": "code",
   "execution_count": 24,
   "metadata": {
    "ExecuteTime": {
     "end_time": "2019-04-14T08:35:30.259583Z",
     "start_time": "2019-04-14T08:35:30.251747Z"
    }
   },
   "outputs": [
    {
     "name": "stdout",
     "output_type": "stream",
     "text": [
      "goals_scored ~ C(element) + C(opposition_team) + was_home\n"
     ]
    }
   ],
   "source": [
    "rolling_vars = ' + '.join([i + '_per_minute_rolling' for i in rolling_cols])\n",
    "rolling_p5_vars = ' + '.join([i + '_per_minute_rolling_p5' for i in rolling_cols])\n",
    "\n",
    "formula = \\\n",
    "f'{response_variable} ~ C(element) + C(opposition_team) + was_home'\n",
    "\n",
    "print(formula)"
   ]
  },
  {
   "cell_type": "code",
   "execution_count": 25,
   "metadata": {
    "ExecuteTime": {
     "end_time": "2019-04-14T08:35:30.720932Z",
     "start_time": "2019-04-14T08:35:30.419863Z"
    }
   },
   "outputs": [],
   "source": [
    "y, X = patsy.dmatrices(formula, element_gameweek_df, return_type='dataframe')"
   ]
  },
  {
   "cell_type": "code",
   "execution_count": 26,
   "metadata": {
    "ExecuteTime": {
     "end_time": "2019-04-14T08:35:30.728647Z",
     "start_time": "2019-04-14T08:35:30.724053Z"
    }
   },
   "outputs": [
    {
     "data": {
      "text/plain": [
       "479"
      ]
     },
     "execution_count": 26,
     "metadata": {},
     "output_type": "execute_result"
    }
   ],
   "source": [
    "len(X.columns)"
   ]
  },
  {
   "cell_type": "code",
   "execution_count": 27,
   "metadata": {
    "ExecuteTime": {
     "end_time": "2019-04-14T08:35:30.848891Z",
     "start_time": "2019-04-14T08:35:30.812697Z"
    }
   },
   "outputs": [],
   "source": [
    "X_train, X_test, y_train, y_test = train_test_split(X, y, test_size=0.25)"
   ]
  },
  {
   "cell_type": "code",
   "execution_count": 28,
   "metadata": {
    "ExecuteTime": {
     "end_time": "2019-04-14T08:35:31.044038Z",
     "start_time": "2019-04-14T08:35:31.015783Z"
    }
   },
   "outputs": [],
   "source": [
    "X_train = add_missing_columns(X_train, X.columns)\n",
    "X_test = add_missing_columns(X_test, X.columns)"
   ]
  },
  {
   "cell_type": "code",
   "execution_count": 29,
   "metadata": {
    "ExecuteTime": {
     "end_time": "2019-04-14T08:35:31.363244Z",
     "start_time": "2019-04-14T08:35:31.207299Z"
    }
   },
   "outputs": [],
   "source": [
    "# standardise explanatory data by subtracting the mean and scaling to unit variance\n",
    "# find standardising transformations based on training set\n",
    "scaler = StandardScaler().fit(X_train)\n",
    "\n",
    "# standardise training set\n",
    "X_train = scaler.transform(X_train)\n",
    "\n",
    "# standardise test set\n",
    "X_test = scaler.transform(X_test)"
   ]
  },
  {
   "cell_type": "code",
   "execution_count": 30,
   "metadata": {
    "ExecuteTime": {
     "end_time": "2019-04-14T08:35:31.497384Z",
     "start_time": "2019-04-14T08:35:31.399098Z"
    }
   },
   "outputs": [
    {
     "name": "stdout",
     "output_type": "stream",
     "text": [
      "WARNING:tensorflow:From /home/tom/footbot/venv/lib/python3.6/site-packages/tensorflow/python/ops/resource_variable_ops.py:435: colocate_with (from tensorflow.python.framework.ops) is deprecated and will be removed in a future version.\n",
      "Instructions for updating:\n",
      "Colocations handled automatically by placer.\n"
     ]
    }
   ],
   "source": [
    "# instantiate model\n",
    "model = Sequential()\n",
    "\n",
    "# add the input layer, i.e. first hidden layer\n",
    "model.add(Dense(units=25, activation='relu', input_shape=(len(X.columns),)))\n",
    "          \n",
    "# add the output layer\n",
    "model.add(Dense(units=1, activation='linear'))"
   ]
  },
  {
   "cell_type": "code",
   "execution_count": 31,
   "metadata": {
    "ExecuteTime": {
     "end_time": "2019-04-14T08:35:31.717702Z",
     "start_time": "2019-04-14T08:35:31.596585Z"
    }
   },
   "outputs": [],
   "source": [
    "# set training configuration\n",
    "model.compile(\n",
    "    loss='mean_absolute_error',\n",
    "    optimizer='adam'\n",
    ")"
   ]
  },
  {
   "cell_type": "code",
   "execution_count": 32,
   "metadata": {
    "ExecuteTime": {
     "end_time": "2019-04-14T08:35:52.219676Z",
     "start_time": "2019-04-14T08:35:32.181510Z"
    }
   },
   "outputs": [
    {
     "name": "stdout",
     "output_type": "stream",
     "text": [
      "WARNING:tensorflow:From /home/tom/footbot/venv/lib/python3.6/site-packages/tensorflow/python/ops/math_ops.py:3066: to_int32 (from tensorflow.python.ops.math_ops) is deprecated and will be removed in a future version.\n",
      "Instructions for updating:\n",
      "Use tf.cast instead.\n",
      "Epoch 1/20\n",
      "7205/7205 [==============================] - 1s 171us/sample - loss: 0.3551\n",
      "Epoch 2/20\n",
      "7205/7205 [==============================] - 1s 136us/sample - loss: 0.1914\n",
      "Epoch 3/20\n",
      "7205/7205 [==============================] - 1s 135us/sample - loss: 0.1460\n",
      "Epoch 4/20\n",
      "7205/7205 [==============================] - 1s 139us/sample - loss: 0.1234\n",
      "Epoch 5/20\n",
      "7205/7205 [==============================] - 1s 140us/sample - loss: 0.1140\n",
      "Epoch 6/20\n",
      "7205/7205 [==============================] - 1s 135us/sample - loss: 0.1104\n",
      "Epoch 7/20\n",
      "7205/7205 [==============================] - 1s 135us/sample - loss: 0.1096\n",
      "Epoch 8/20\n",
      "7205/7205 [==============================] - 1s 134us/sample - loss: 0.1095\n",
      "Epoch 9/20\n",
      "7205/7205 [==============================] - 1s 134us/sample - loss: 0.1093\n",
      "Epoch 10/20\n",
      "7205/7205 [==============================] - 1s 137us/sample - loss: 0.1093\n",
      "Epoch 11/20\n",
      "7205/7205 [==============================] - 1s 135us/sample - loss: 0.1092\n",
      "Epoch 12/20\n",
      "7205/7205 [==============================] - 1s 139us/sample - loss: 0.1090\n",
      "Epoch 13/20\n",
      "7205/7205 [==============================] - 1s 140us/sample - loss: 0.1090\n",
      "Epoch 14/20\n",
      "7205/7205 [==============================] - 1s 134us/sample - loss: 0.1087\n",
      "Epoch 15/20\n",
      "7205/7205 [==============================] - 1s 135us/sample - loss: 0.1086\n",
      "Epoch 16/20\n",
      "7205/7205 [==============================] - 1s 166us/sample - loss: 0.1085\n",
      "Epoch 17/20\n",
      "7205/7205 [==============================] - 1s 129us/sample - loss: 0.1085\n",
      "Epoch 18/20\n",
      "7205/7205 [==============================] - 1s 118us/sample - loss: 0.1084\n",
      "Epoch 19/20\n",
      "7205/7205 [==============================] - 1s 117us/sample - loss: 0.1082\n",
      "Epoch 20/20\n",
      "7205/7205 [==============================] - 1s 123us/sample - loss: 0.1082\n"
     ]
    },
    {
     "data": {
      "text/plain": [
       "<tensorflow.python.keras.callbacks.History at 0x7fa8169b89b0>"
      ]
     },
     "execution_count": 32,
     "metadata": {},
     "output_type": "execute_result"
    }
   ],
   "source": [
    "# train model on training set\n",
    "model.fit(\n",
    "    X_train, # explanatory variable training data\n",
    "    y_train, # response variable training data\n",
    "    epochs=20, # number of training iterations\n",
    "    batch_size=10, # investigate this - The batch size that you specify in the code above defines the number of samples that going to be propagated through the network\n",
    "    verbose=1 # monitor training progress\n",
    ")"
   ]
  },
  {
   "cell_type": "code",
   "execution_count": 33,
   "metadata": {
    "ExecuteTime": {
     "end_time": "2019-04-14T08:35:52.288935Z",
     "start_time": "2019-04-14T08:35:52.222723Z"
    }
   },
   "outputs": [
    {
     "data": {
      "text/plain": [
       "(0.10022430329777543, 0.12080219474501987)"
      ]
     },
     "execution_count": 33,
     "metadata": {},
     "output_type": "execute_result"
    }
   ],
   "source": [
    "# get predictions for test set\n",
    "y_pred = model.predict(X_test).flatten()\n",
    "\n",
    "# calculate cross entropy loss for test set\n",
    "test_loss = (mean_absolute_error(y_test, y_pred), mean_squared_error(y_test, y_pred))\n",
    "test_loss"
   ]
  },
  {
   "cell_type": "code",
   "execution_count": null,
   "metadata": {},
   "outputs": [],
   "source": []
  }
 ],
 "metadata": {
  "kernelspec": {
   "display_name": "Python 3",
   "language": "python",
   "name": "python3"
  },
  "language_info": {
   "codemirror_mode": {
    "name": "ipython",
    "version": 3
   },
   "file_extension": ".py",
   "mimetype": "text/x-python",
   "name": "python",
   "nbconvert_exporter": "python",
   "pygments_lexer": "ipython3",
   "version": "3.6.7"
  },
  "toc": {
   "nav_menu": {},
   "number_sections": true,
   "sideBar": true,
   "skip_h1_title": false,
   "title_cell": "Table of Contents",
   "title_sidebar": "Contents",
   "toc_cell": false,
   "toc_position": {},
   "toc_section_display": true,
   "toc_window_display": false
  }
 },
 "nbformat": 4,
 "nbformat_minor": 2
}
