{
 "cells": [
  {
   "cell_type": "markdown",
   "metadata": {
    "heading_collapsed": true
   },
   "source": [
    "# Set up"
   ]
  },
  {
   "cell_type": "code",
   "execution_count": 1,
   "metadata": {
    "ExecuteTime": {
     "end_time": "2019-04-08T17:44:55.696215Z",
     "start_time": "2019-04-08T17:44:55.693038Z"
    },
    "hidden": true
   },
   "outputs": [],
   "source": [
    "# update path with data dir\n",
    "import sys\n",
    "sys.path.append('../data/')\n",
    "sys.path.append('../modelling/')"
   ]
  },
  {
   "cell_type": "code",
   "execution_count": 2,
   "metadata": {
    "ExecuteTime": {
     "end_time": "2019-04-08T17:44:56.817902Z",
     "start_time": "2019-04-08T17:44:55.698284Z"
    },
    "hidden": true
   },
   "outputs": [
    {
     "name": "stderr",
     "output_type": "stream",
     "text": [
      "/home/tom/footbot/venv/lib/python3.6/site-packages/statsmodels/compat/pandas.py:56: FutureWarning: The pandas.core.datetools module is deprecated and will be removed in a future version. Please use the pandas.tseries module instead.\n",
      "  from pandas.core import datetools\n"
     ]
    }
   ],
   "source": [
    "import player_data as player\n",
    "import goodness_fit\n",
    "import pandas as pd\n",
    "from datetime import datetime\n",
    "import statsmodels.api as sm\n",
    "import matplotlib.pyplot as plt\n",
    "import numpy as np\n",
    "from sklearn.model_selection import KFold\n",
    "from sklearn.metrics import mean_squared_error, mean_absolute_error\n",
    "import patsy"
   ]
  },
  {
   "cell_type": "code",
   "execution_count": 3,
   "metadata": {
    "ExecuteTime": {
     "end_time": "2019-04-08T17:44:56.824136Z",
     "start_time": "2019-04-08T17:44:56.821229Z"
    },
    "hidden": true
   },
   "outputs": [],
   "source": [
    "response_variable = 'goals_scored'"
   ]
  },
  {
   "cell_type": "markdown",
   "metadata": {
    "heading_collapsed": true
   },
   "source": [
    "# Get data"
   ]
  },
  {
   "cell_type": "code",
   "execution_count": 4,
   "metadata": {
    "ExecuteTime": {
     "end_time": "2019-04-08T17:44:56.852783Z",
     "start_time": "2019-04-08T17:44:56.827043Z"
    },
    "hidden": true
   },
   "outputs": [],
   "source": [
    "file_name = 'csvs/element_gameweek_' + datetime.today().strftime('%Y-%m-%d') + '.csv'"
   ]
  },
  {
   "cell_type": "code",
   "execution_count": 5,
   "metadata": {
    "ExecuteTime": {
     "end_time": "2019-04-08T17:44:57.028348Z",
     "start_time": "2019-04-08T17:44:56.854793Z"
    },
    "hidden": true
   },
   "outputs": [],
   "source": [
    "try:\n",
    "    element_gameweek_df = pd.read_csv(file_name)\n",
    "except:\n",
    "    element_gameweek_df = player.get_element_gameweek_df()\n",
    "    element_gameweek_df.to_csv(file_name)"
   ]
  },
  {
   "cell_type": "code",
   "execution_count": 6,
   "metadata": {
    "ExecuteTime": {
     "end_time": "2019-04-08T17:44:57.033752Z",
     "start_time": "2019-04-08T17:44:57.030593Z"
    },
    "hidden": true
   },
   "outputs": [],
   "source": [
    "current_event = 32\n",
    "element_types = [2, 3, 4]\n",
    "threshold_minutes = 1"
   ]
  },
  {
   "cell_type": "code",
   "execution_count": 7,
   "metadata": {
    "ExecuteTime": {
     "end_time": "2019-04-08T17:44:57.179689Z",
     "start_time": "2019-04-08T17:44:57.035749Z"
    },
    "hidden": true
   },
   "outputs": [],
   "source": [
    "element_gameweek_df =\\\n",
    "element_gameweek_df[\n",
    "    (element_gameweek_df['event'] <= current_event)\n",
    "    & (element_gameweek_df['element_type'].isin(element_types))\n",
    "    & (element_gameweek_df['minutes'] >= threshold_minutes)\n",
    "]"
   ]
  },
  {
   "cell_type": "code",
   "execution_count": 8,
   "metadata": {
    "ExecuteTime": {
     "end_time": "2019-04-08T17:44:57.322522Z",
     "start_time": "2019-04-08T17:44:57.181938Z"
    },
    "hidden": true
   },
   "outputs": [],
   "source": [
    "player.add_home_categorical_variable(element_gameweek_df)"
   ]
  },
  {
   "cell_type": "code",
   "execution_count": 9,
   "metadata": {
    "ExecuteTime": {
     "end_time": "2019-04-08T17:44:57.393185Z",
     "start_time": "2019-04-08T17:44:57.325692Z"
    },
    "hidden": true
   },
   "outputs": [],
   "source": [
    "element_gameweek_df['row_id'] = element_gameweek_df['row_id'].rank()"
   ]
  },
  {
   "cell_type": "code",
   "execution_count": 10,
   "metadata": {
    "ExecuteTime": {
     "end_time": "2019-04-08T17:44:57.423366Z",
     "start_time": "2019-04-08T17:44:57.396093Z"
    },
    "hidden": true
   },
   "outputs": [],
   "source": [
    "element_gameweek_df['element_fixture_rank'] = element_gameweek_df.groupby('element')['row_id'].rank()"
   ]
  },
  {
   "cell_type": "code",
   "execution_count": 11,
   "metadata": {
    "ExecuteTime": {
     "end_time": "2019-04-08T17:44:58.158187Z",
     "start_time": "2019-04-08T17:44:57.425695Z"
    },
    "hidden": true
   },
   "outputs": [],
   "source": [
    "rolling_df = \\\n",
    "element_gameweek_df.copy().groupby('element', as_index=True)[['minutes', 'goals_scored', 'assists']]\\\n",
    ".rolling(38, min_periods=1).sum().reset_index()[['element', 'minutes', 'goals_scored', 'assists']]"
   ]
  },
  {
   "cell_type": "code",
   "execution_count": 12,
   "metadata": {
    "ExecuteTime": {
     "end_time": "2019-04-08T17:44:58.233011Z",
     "start_time": "2019-04-08T17:44:58.160825Z"
    },
    "hidden": true
   },
   "outputs": [],
   "source": [
    "rolling_df['element_fixture_rank'] = rolling_df.groupby('element')['minutes'].rank()"
   ]
  },
  {
   "cell_type": "code",
   "execution_count": 13,
   "metadata": {
    "ExecuteTime": {
     "end_time": "2019-04-08T17:44:58.245520Z",
     "start_time": "2019-04-08T17:44:58.239347Z"
    },
    "hidden": true
   },
   "outputs": [],
   "source": [
    "rolling_df['element_fixture_rank'] = rolling_df['element_fixture_rank'] + 1"
   ]
  },
  {
   "cell_type": "code",
   "execution_count": null,
   "metadata": {
    "ExecuteTime": {
     "start_time": "2019-04-08T17:44:38.850Z"
    },
    "hidden": true
   },
   "outputs": [],
   "source": [
    "element_gameweek_df =\\\n",
    "element_gameweek_df.join(\n",
    "    rolling_df.set_index(['element', 'element_fixture_rank']),\n",
    "    on=['element', 'element_fixture_rank'],\n",
    "    rsuffix='_rolling')"
   ]
  },
  {
   "cell_type": "code",
   "execution_count": null,
   "metadata": {
    "ExecuteTime": {
     "start_time": "2019-04-08T17:44:38.852Z"
    },
    "hidden": true
   },
   "outputs": [],
   "source": [
    "element_gameweek_df['goals_scored_per_minute_rolling'] = \\\n",
    "element_gameweek_df['goals_scored_rolling'] / element_gameweek_df['minutes_rolling']\n",
    "\n",
    "element_gameweek_df['assists_per_minute_rolling'] = \\\n",
    "element_gameweek_df['assists_rolling'] / element_gameweek_df['minutes_rolling']"
   ]
  },
  {
   "cell_type": "code",
   "execution_count": null,
   "metadata": {
    "ExecuteTime": {
     "start_time": "2019-04-08T17:44:38.855Z"
    },
    "hidden": true
   },
   "outputs": [],
   "source": [
    "rolling_p5_df = \\\n",
    "element_gameweek_df.copy().groupby('element', as_index=True)[['minutes', 'goals_scored', 'assists']]\\\n",
    ".rolling(5, min_periods=1).sum().reset_index()[['element', 'minutes', 'goals_scored', 'assists']]"
   ]
  },
  {
   "cell_type": "code",
   "execution_count": null,
   "metadata": {
    "ExecuteTime": {
     "start_time": "2019-04-08T17:44:38.858Z"
    },
    "hidden": true
   },
   "outputs": [],
   "source": [
    "rolling_p5_df['element_fixture_rank'] = rolling_p5_df.groupby('element')['minutes'].rank()"
   ]
  },
  {
   "cell_type": "code",
   "execution_count": null,
   "metadata": {
    "ExecuteTime": {
     "start_time": "2019-04-08T17:44:38.861Z"
    },
    "hidden": true
   },
   "outputs": [],
   "source": [
    "rolling_p5_df['element_fixture_rank'] = rolling_p5_df['element_fixture_rank'] + 1"
   ]
  },
  {
   "cell_type": "code",
   "execution_count": null,
   "metadata": {
    "ExecuteTime": {
     "start_time": "2019-04-08T17:44:38.863Z"
    },
    "hidden": true
   },
   "outputs": [],
   "source": [
    "element_gameweek_df =\\\n",
    "element_gameweek_df.join(\n",
    "    rolling_p5_df.set_index(['element', 'element_fixture_rank']),\n",
    "    on=['element', 'element_fixture_rank'],\n",
    "    rsuffix='_rolling_p5')"
   ]
  },
  {
   "cell_type": "code",
   "execution_count": null,
   "metadata": {
    "ExecuteTime": {
     "start_time": "2019-04-08T17:44:38.867Z"
    },
    "hidden": true
   },
   "outputs": [],
   "source": [
    "element_gameweek_df['goals_scored_per_minute_rolling_p5'] = \\\n",
    "element_gameweek_df['goals_scored_rolling_p5'] / element_gameweek_df['minutes_rolling_p5']\n",
    "\n",
    "element_gameweek_df['assists_per_minute_rolling_p5'] = \\\n",
    "element_gameweek_df['assists_rolling_p5'] / element_gameweek_df['minutes_rolling_p5']"
   ]
  },
  {
   "cell_type": "code",
   "execution_count": null,
   "metadata": {
    "ExecuteTime": {
     "start_time": "2019-04-08T17:44:38.870Z"
    },
    "hidden": true
   },
   "outputs": [
    {
     "data": {
      "text/html": [
       "<div>\n",
       "<style scoped>\n",
       "    .dataframe tbody tr th:only-of-type {\n",
       "        vertical-align: middle;\n",
       "    }\n",
       "\n",
       "    .dataframe tbody tr th {\n",
       "        vertical-align: top;\n",
       "    }\n",
       "\n",
       "    .dataframe thead th {\n",
       "        text-align: right;\n",
       "    }\n",
       "</style>\n",
       "<table border=\"1\" class=\"dataframe\">\n",
       "  <thead>\n",
       "    <tr style=\"text-align: right;\">\n",
       "      <th></th>\n",
       "      <th>row_id</th>\n",
       "      <th>assists</th>\n",
       "      <th>attempted_passes</th>\n",
       "      <th>big_chances_created</th>\n",
       "      <th>big_chances_missed</th>\n",
       "      <th>bonus</th>\n",
       "      <th>bps</th>\n",
       "      <th>clean_sheets</th>\n",
       "      <th>clearances_blocks_interceptions</th>\n",
       "      <th>completed_passes</th>\n",
       "      <th>...</th>\n",
       "      <th>minutes_rolling</th>\n",
       "      <th>goals_scored_rolling</th>\n",
       "      <th>assists_rolling</th>\n",
       "      <th>goals_scored_per_minute_rolling</th>\n",
       "      <th>assists_per_minute_rolling</th>\n",
       "      <th>minutes_rolling_p5</th>\n",
       "      <th>goals_scored_rolling_p5</th>\n",
       "      <th>assists_rolling_p5</th>\n",
       "      <th>goals_scored_per_minute_rolling_p5</th>\n",
       "      <th>assists_per_minute_rolling_p5</th>\n",
       "    </tr>\n",
       "  </thead>\n",
       "  <tbody>\n",
       "    <tr>\n",
       "      <th>80</th>\n",
       "      <td>1.0</td>\n",
       "      <td>0</td>\n",
       "      <td>92</td>\n",
       "      <td>0</td>\n",
       "      <td>0</td>\n",
       "      <td>0</td>\n",
       "      <td>11</td>\n",
       "      <td>0</td>\n",
       "      <td>6</td>\n",
       "      <td>85</td>\n",
       "      <td>...</td>\n",
       "      <td>NaN</td>\n",
       "      <td>NaN</td>\n",
       "      <td>NaN</td>\n",
       "      <td>NaN</td>\n",
       "      <td>NaN</td>\n",
       "      <td>NaN</td>\n",
       "      <td>NaN</td>\n",
       "      <td>NaN</td>\n",
       "      <td>NaN</td>\n",
       "      <td>NaN</td>\n",
       "    </tr>\n",
       "    <tr>\n",
       "      <th>82</th>\n",
       "      <td>2.0</td>\n",
       "      <td>0</td>\n",
       "      <td>74</td>\n",
       "      <td>0</td>\n",
       "      <td>0</td>\n",
       "      <td>0</td>\n",
       "      <td>17</td>\n",
       "      <td>0</td>\n",
       "      <td>4</td>\n",
       "      <td>70</td>\n",
       "      <td>...</td>\n",
       "      <td>90.0</td>\n",
       "      <td>0.0</td>\n",
       "      <td>0.0</td>\n",
       "      <td>0.0</td>\n",
       "      <td>0.0</td>\n",
       "      <td>90.0</td>\n",
       "      <td>0.0</td>\n",
       "      <td>0.0</td>\n",
       "      <td>0.0</td>\n",
       "      <td>0.0</td>\n",
       "    </tr>\n",
       "    <tr>\n",
       "      <th>83</th>\n",
       "      <td>3.0</td>\n",
       "      <td>0</td>\n",
       "      <td>38</td>\n",
       "      <td>0</td>\n",
       "      <td>0</td>\n",
       "      <td>0</td>\n",
       "      <td>10</td>\n",
       "      <td>0</td>\n",
       "      <td>2</td>\n",
       "      <td>36</td>\n",
       "      <td>...</td>\n",
       "      <td>159.0</td>\n",
       "      <td>0.0</td>\n",
       "      <td>0.0</td>\n",
       "      <td>0.0</td>\n",
       "      <td>0.0</td>\n",
       "      <td>159.0</td>\n",
       "      <td>0.0</td>\n",
       "      <td>0.0</td>\n",
       "      <td>0.0</td>\n",
       "      <td>0.0</td>\n",
       "    </tr>\n",
       "    <tr>\n",
       "      <th>84</th>\n",
       "      <td>4.0</td>\n",
       "      <td>0</td>\n",
       "      <td>64</td>\n",
       "      <td>0</td>\n",
       "      <td>0</td>\n",
       "      <td>0</td>\n",
       "      <td>19</td>\n",
       "      <td>0</td>\n",
       "      <td>10</td>\n",
       "      <td>57</td>\n",
       "      <td>...</td>\n",
       "      <td>204.0</td>\n",
       "      <td>0.0</td>\n",
       "      <td>0.0</td>\n",
       "      <td>0.0</td>\n",
       "      <td>0.0</td>\n",
       "      <td>204.0</td>\n",
       "      <td>0.0</td>\n",
       "      <td>0.0</td>\n",
       "      <td>0.0</td>\n",
       "      <td>0.0</td>\n",
       "    </tr>\n",
       "    <tr>\n",
       "      <th>85</th>\n",
       "      <td>5.0</td>\n",
       "      <td>0</td>\n",
       "      <td>89</td>\n",
       "      <td>0</td>\n",
       "      <td>0</td>\n",
       "      <td>0</td>\n",
       "      <td>17</td>\n",
       "      <td>0</td>\n",
       "      <td>2</td>\n",
       "      <td>87</td>\n",
       "      <td>...</td>\n",
       "      <td>294.0</td>\n",
       "      <td>0.0</td>\n",
       "      <td>0.0</td>\n",
       "      <td>0.0</td>\n",
       "      <td>0.0</td>\n",
       "      <td>294.0</td>\n",
       "      <td>0.0</td>\n",
       "      <td>0.0</td>\n",
       "      <td>0.0</td>\n",
       "      <td>0.0</td>\n",
       "    </tr>\n",
       "  </tbody>\n",
       "</table>\n",
       "<p>5 rows × 77 columns</p>\n",
       "</div>"
      ],
      "text/plain": [
       "    row_id  assists  attempted_passes  big_chances_created  \\\n",
       "80     1.0        0                92                    0   \n",
       "82     2.0        0                74                    0   \n",
       "83     3.0        0                38                    0   \n",
       "84     4.0        0                64                    0   \n",
       "85     5.0        0                89                    0   \n",
       "\n",
       "    big_chances_missed  bonus  bps  clean_sheets  \\\n",
       "80                   0      0   11             0   \n",
       "82                   0      0   17             0   \n",
       "83                   0      0   10             0   \n",
       "84                   0      0   19             0   \n",
       "85                   0      0   17             0   \n",
       "\n",
       "    clearances_blocks_interceptions  completed_passes  \\\n",
       "80                                6                85   \n",
       "82                                4                70   \n",
       "83                                2                36   \n",
       "84                               10                57   \n",
       "85                                2                87   \n",
       "\n",
       "                ...                minutes_rolling  goals_scored_rolling  \\\n",
       "80              ...                            NaN                   NaN   \n",
       "82              ...                           90.0                   0.0   \n",
       "83              ...                          159.0                   0.0   \n",
       "84              ...                          204.0                   0.0   \n",
       "85              ...                          294.0                   0.0   \n",
       "\n",
       "    assists_rolling  goals_scored_per_minute_rolling  \\\n",
       "80              NaN                              NaN   \n",
       "82              0.0                              0.0   \n",
       "83              0.0                              0.0   \n",
       "84              0.0                              0.0   \n",
       "85              0.0                              0.0   \n",
       "\n",
       "    assists_per_minute_rolling  minutes_rolling_p5  goals_scored_rolling_p5  \\\n",
       "80                         NaN                 NaN                      NaN   \n",
       "82                         0.0                90.0                      0.0   \n",
       "83                         0.0               159.0                      0.0   \n",
       "84                         0.0               204.0                      0.0   \n",
       "85                         0.0               294.0                      0.0   \n",
       "\n",
       "    assists_rolling_p5  goals_scored_per_minute_rolling_p5  \\\n",
       "80                 NaN                                 NaN   \n",
       "82                 0.0                                 0.0   \n",
       "83                 0.0                                 0.0   \n",
       "84                 0.0                                 0.0   \n",
       "85                 0.0                                 0.0   \n",
       "\n",
       "    assists_per_minute_rolling_p5  \n",
       "80                            NaN  \n",
       "82                            0.0  \n",
       "83                            0.0  \n",
       "84                            0.0  \n",
       "85                            0.0  \n",
       "\n",
       "[5 rows x 77 columns]"
      ]
     },
     "execution_count": 21,
     "metadata": {},
     "output_type": "execute_result"
    }
   ],
   "source": [
    "element_gameweek_df.head()"
   ]
  },
  {
   "cell_type": "markdown",
   "metadata": {},
   "source": [
    "# Models"
   ]
  },
  {
   "cell_type": "markdown",
   "metadata": {
    "heading_collapsed": true
   },
   "source": [
    "## Helpers"
   ]
  },
  {
   "cell_type": "code",
   "execution_count": null,
   "metadata": {
    "ExecuteTime": {
     "start_time": "2019-04-08T17:44:38.874Z"
    },
    "hidden": true
   },
   "outputs": [],
   "source": [
    "def get_all_columns(formula, df):\n",
    "    return patsy.dmatrices(formula, df, return_type='dataframe')[1].columns\n",
    "\n",
    "def add_missing_columns(df, columns):\n",
    "    for col in set(columns) - set(df.columns):\n",
    "        df[col] = np.zeros(len(df))\n",
    "    \n",
    "    return df[columns]"
   ]
  },
  {
   "cell_type": "code",
   "execution_count": null,
   "metadata": {
    "ExecuteTime": {
     "start_time": "2019-04-08T17:44:38.876Z"
    },
    "hidden": true
   },
   "outputs": [],
   "source": [
    "def kfold_cross_validation(formula, df, splits):\n",
    "    columns = get_all_columns(formula, df)\n",
    "    \n",
    "    folds = []\n",
    "    \n",
    "    for train_index, test_index in KFold(n_splits=splits, shuffle=True).split(df):\n",
    "        folds.append((df.iloc[train_index], df.iloc[test_index]))\n",
    "    \n",
    "    eval_metrics = []\n",
    "    for f in folds:\n",
    "        try:\n",
    "            response_train, explanatory_train = patsy.dmatrices(formula, f[0], return_type='dataframe')\n",
    "            explanatory_train = add_missing_columns(explanatory_train, columns)\n",
    "            \n",
    "            response_test, explanatory_test = patsy.dmatrices(formula, f[1], return_type='dataframe')\n",
    "            explanatory_test = add_missing_columns(explanatory_test, columns)\n",
    "            \n",
    "            model = sm.GLM(response_train, explanatory_train, family=sm.families.Poisson(), missing='drop').fit()\n",
    "            reponse_test_pred = model.predict(explanatory_test)\n",
    "            reponse_train_pred = model.predict(explanatory_train)\n",
    "\n",
    "            mean_squared_error_test = mean_squared_error(response_test, reponse_test_pred)\n",
    "            mean_squared_error_train = mean_squared_error(response_train, reponse_train_pred)\n",
    "            mean_absolute_error_test = mean_absolute_error(response_test, reponse_test_pred)\n",
    "            mean_absolute_error_train = mean_absolute_error(response_train, reponse_train_pred)\n",
    "\n",
    "            m = {\n",
    "                'mean_squared_error_test': mean_squared_error_test,\n",
    "                'mean_absolute_error_test': mean_absolute_error_test,\n",
    "                'mean_squared_error_train': mean_squared_error_train,\n",
    "                'mean_absolute_error_train': mean_absolute_error_train,\n",
    "            }\n",
    "\n",
    "            eval_metrics.append(m)\n",
    "        except Exception as e:\n",
    "            print(e)\n",
    "            \n",
    "    return pd.DataFrame(eval_metrics)"
   ]
  },
  {
   "cell_type": "code",
   "execution_count": null,
   "metadata": {
    "ExecuteTime": {
     "start_time": "2019-04-08T17:44:38.879Z"
    },
    "hidden": true
   },
   "outputs": [],
   "source": [
    "def n_kfold_cross_validation(formula, df, splits, n):\n",
    "    eval_metrics_arr = []\n",
    "    for i in range(0, n):\n",
    "        print('iteration ', i + 1)\n",
    "        eval_metrics_arr.append(kfold_cross_validation(formula, df, splits))\n",
    "    \n",
    "    eval_metrics = pd.concat(eval_metrics_arr)\n",
    "    return pd.DataFrame(eval_metrics)"
   ]
  },
  {
   "cell_type": "markdown",
   "metadata": {
    "heading_collapsed": true
   },
   "source": [
    "## Poisson teams minutes model"
   ]
  },
  {
   "cell_type": "code",
   "execution_count": null,
   "metadata": {
    "ExecuteTime": {
     "start_time": "2019-04-08T17:44:38.883Z"
    },
    "hidden": true
   },
   "outputs": [],
   "source": [
    "sptmm_df = element_gameweek_df.copy()"
   ]
  },
  {
   "cell_type": "code",
   "execution_count": null,
   "metadata": {
    "ExecuteTime": {
     "start_time": "2019-04-08T17:44:38.886Z"
    },
    "hidden": true
   },
   "outputs": [],
   "source": [
    "sptmm_formula = \\\n",
    "f'{response_variable} ~ np.log(minutes) + C(element_type) + C(own_team) + C(opposition_team) + was_home'"
   ]
  },
  {
   "cell_type": "code",
   "execution_count": null,
   "metadata": {
    "ExecuteTime": {
     "start_time": "2019-04-08T17:44:38.890Z"
    },
    "hidden": true
   },
   "outputs": [
    {
     "name": "stdout",
     "output_type": "stream",
     "text": [
      "iteration  1\n",
      "iteration  2\n",
      "iteration  3\n",
      "iteration  4\n",
      "iteration  5\n",
      "iteration  6\n",
      "iteration  7\n",
      "iteration  8\n",
      "iteration  9\n",
      "iteration  10\n"
     ]
    }
   ],
   "source": [
    "sptmm_eval_df = n_kfold_cross_validation(sptmm_formula, sptmm_df, 10, 10)"
   ]
  },
  {
   "cell_type": "code",
   "execution_count": null,
   "metadata": {
    "ExecuteTime": {
     "start_time": "2019-04-08T17:44:38.892Z"
    },
    "hidden": true
   },
   "outputs": [
    {
     "data": {
      "text/html": [
       "<div>\n",
       "<style scoped>\n",
       "    .dataframe tbody tr th:only-of-type {\n",
       "        vertical-align: middle;\n",
       "    }\n",
       "\n",
       "    .dataframe tbody tr th {\n",
       "        vertical-align: top;\n",
       "    }\n",
       "\n",
       "    .dataframe thead th {\n",
       "        text-align: right;\n",
       "    }\n",
       "</style>\n",
       "<table border=\"1\" class=\"dataframe\">\n",
       "  <thead>\n",
       "    <tr style=\"text-align: right;\">\n",
       "      <th></th>\n",
       "      <th>mean_absolute_error_test</th>\n",
       "      <th>mean_absolute_error_train</th>\n",
       "      <th>mean_squared_error_test</th>\n",
       "      <th>mean_squared_error_train</th>\n",
       "    </tr>\n",
       "    <tr>\n",
       "      <th>model</th>\n",
       "      <th></th>\n",
       "      <th></th>\n",
       "      <th></th>\n",
       "      <th></th>\n",
       "    </tr>\n",
       "  </thead>\n",
       "  <tbody>\n",
       "    <tr>\n",
       "      <th>Poisson teams minutes</th>\n",
       "      <td>0.174362</td>\n",
       "      <td>0.172976</td>\n",
       "      <td>0.10702</td>\n",
       "      <td>0.105167</td>\n",
       "    </tr>\n",
       "  </tbody>\n",
       "</table>\n",
       "</div>"
      ],
      "text/plain": [
       "                       mean_absolute_error_test  mean_absolute_error_train  \\\n",
       "model                                                                        \n",
       "Poisson teams minutes                  0.174362                   0.172976   \n",
       "\n",
       "                       mean_squared_error_test  mean_squared_error_train  \n",
       "model                                                                     \n",
       "Poisson teams minutes                  0.10702                  0.105167  "
      ]
     },
     "execution_count": 28,
     "metadata": {},
     "output_type": "execute_result"
    }
   ],
   "source": [
    "sptmm_eval_df['model'] = 'Poisson teams minutes'\n",
    "sptmm_eval = sptmm_eval_df.groupby('model').mean()\n",
    "sptmm_eval"
   ]
  },
  {
   "cell_type": "markdown",
   "metadata": {
    "heading_collapsed": true
   },
   "source": [
    "## Poisson teams minutes season form model"
   ]
  },
  {
   "cell_type": "code",
   "execution_count": null,
   "metadata": {
    "ExecuteTime": {
     "start_time": "2019-04-08T17:44:38.895Z"
    },
    "hidden": true
   },
   "outputs": [],
   "source": [
    "sptmmf_df = element_gameweek_df.copy()"
   ]
  },
  {
   "cell_type": "code",
   "execution_count": null,
   "metadata": {
    "ExecuteTime": {
     "start_time": "2019-04-08T17:44:38.898Z"
    },
    "hidden": true
   },
   "outputs": [],
   "source": [
    "sptmmf_formula = \\\n",
    "f'''\n",
    "{response_variable} ~ \n",
    "np.log(minutes) + C(element_type) + C(own_team) + C(opposition_team) + was_home\n",
    "+ goals_scored_per_minute_rolling + assists_per_minute_rolling\n",
    "'''"
   ]
  },
  {
   "cell_type": "code",
   "execution_count": null,
   "metadata": {
    "ExecuteTime": {
     "start_time": "2019-04-08T17:44:38.901Z"
    },
    "hidden": true
   },
   "outputs": [
    {
     "name": "stdout",
     "output_type": "stream",
     "text": [
      "iteration  1\n",
      "iteration  2\n",
      "iteration  3\n",
      "iteration  4\n",
      "iteration  5\n",
      "iteration  6\n",
      "iteration  7\n",
      "iteration  8\n",
      "iteration  9\n",
      "iteration  10\n"
     ]
    }
   ],
   "source": [
    "sptmmf_eval_df = n_kfold_cross_validation(sptmmf_formula, sptmmf_df, 10, 10)"
   ]
  },
  {
   "cell_type": "code",
   "execution_count": null,
   "metadata": {
    "ExecuteTime": {
     "start_time": "2019-04-08T17:44:38.904Z"
    },
    "hidden": true
   },
   "outputs": [
    {
     "data": {
      "text/html": [
       "<div>\n",
       "<style scoped>\n",
       "    .dataframe tbody tr th:only-of-type {\n",
       "        vertical-align: middle;\n",
       "    }\n",
       "\n",
       "    .dataframe tbody tr th {\n",
       "        vertical-align: top;\n",
       "    }\n",
       "\n",
       "    .dataframe thead th {\n",
       "        text-align: right;\n",
       "    }\n",
       "</style>\n",
       "<table border=\"1\" class=\"dataframe\">\n",
       "  <thead>\n",
       "    <tr style=\"text-align: right;\">\n",
       "      <th></th>\n",
       "      <th>mean_absolute_error_test</th>\n",
       "      <th>mean_absolute_error_train</th>\n",
       "      <th>mean_squared_error_test</th>\n",
       "      <th>mean_squared_error_train</th>\n",
       "    </tr>\n",
       "    <tr>\n",
       "      <th>model</th>\n",
       "      <th></th>\n",
       "      <th></th>\n",
       "      <th></th>\n",
       "      <th></th>\n",
       "    </tr>\n",
       "  </thead>\n",
       "  <tbody>\n",
       "    <tr>\n",
       "      <th>Poisson teams minutes form</th>\n",
       "      <td>0.177906</td>\n",
       "      <td>0.175007</td>\n",
       "      <td>0.124746</td>\n",
       "      <td>0.106857</td>\n",
       "    </tr>\n",
       "  </tbody>\n",
       "</table>\n",
       "</div>"
      ],
      "text/plain": [
       "                            mean_absolute_error_test  \\\n",
       "model                                                  \n",
       "Poisson teams minutes form                  0.177906   \n",
       "\n",
       "                            mean_absolute_error_train  \\\n",
       "model                                                   \n",
       "Poisson teams minutes form                   0.175007   \n",
       "\n",
       "                            mean_squared_error_test  mean_squared_error_train  \n",
       "model                                                                          \n",
       "Poisson teams minutes form                 0.124746                  0.106857  "
      ]
     },
     "execution_count": 32,
     "metadata": {},
     "output_type": "execute_result"
    }
   ],
   "source": [
    "sptmmf_eval_df['model'] = 'Poisson teams minutes form'\n",
    "sptmmf_eval = sptmmf_eval_df.groupby('model').mean()\n",
    "sptmmf_eval"
   ]
  },
  {
   "cell_type": "markdown",
   "metadata": {},
   "source": [
    "## Poisson teams minutes recent form model"
   ]
  },
  {
   "cell_type": "code",
   "execution_count": null,
   "metadata": {
    "ExecuteTime": {
     "start_time": "2019-04-08T17:44:38.908Z"
    }
   },
   "outputs": [],
   "source": [
    "sptmm5_df = element_gameweek_df.copy()"
   ]
  },
  {
   "cell_type": "code",
   "execution_count": null,
   "metadata": {
    "ExecuteTime": {
     "start_time": "2019-04-08T17:44:38.911Z"
    }
   },
   "outputs": [],
   "source": [
    "sptmm5_formula = \\\n",
    "f'''\n",
    "{response_variable} ~ \n",
    "np.log(minutes) + C(element_type) + C(own_team) + C(opposition_team) + was_home\n",
    "+ goals_scored_per_minute_rolling_p5 + assists_per_minute_rolling_p5\n",
    "'''"
   ]
  },
  {
   "cell_type": "code",
   "execution_count": null,
   "metadata": {
    "ExecuteTime": {
     "start_time": "2019-04-08T17:44:38.914Z"
    }
   },
   "outputs": [
    {
     "name": "stdout",
     "output_type": "stream",
     "text": [
      "iteration  1\n",
      "iteration  2\n",
      "iteration  3\n",
      "iteration  4\n",
      "iteration  5\n",
      "iteration  6\n",
      "iteration  7\n",
      "iteration  8\n",
      "iteration  9\n",
      "iteration  10\n"
     ]
    }
   ],
   "source": [
    "sptmm5_eval_df = n_kfold_cross_validation(sptmm5_formula, sptmm5_df, 10, 10)"
   ]
  },
  {
   "cell_type": "code",
   "execution_count": 50,
   "metadata": {
    "ExecuteTime": {
     "end_time": "2019-04-09T15:50:33.859633Z",
     "start_time": "2019-04-09T15:50:33.836305Z"
    }
   },
   "outputs": [
    {
     "data": {
      "text/html": [
       "<div>\n",
       "<style scoped>\n",
       "    .dataframe tbody tr th:only-of-type {\n",
       "        vertical-align: middle;\n",
       "    }\n",
       "\n",
       "    .dataframe tbody tr th {\n",
       "        vertical-align: top;\n",
       "    }\n",
       "\n",
       "    .dataframe thead th {\n",
       "        text-align: right;\n",
       "    }\n",
       "</style>\n",
       "<table border=\"1\" class=\"dataframe\">\n",
       "  <thead>\n",
       "    <tr style=\"text-align: right;\">\n",
       "      <th></th>\n",
       "      <th>mean_absolute_error_test</th>\n",
       "      <th>mean_absolute_error_train</th>\n",
       "      <th>mean_squared_error_test</th>\n",
       "      <th>mean_squared_error_train</th>\n",
       "    </tr>\n",
       "    <tr>\n",
       "      <th>model</th>\n",
       "      <th></th>\n",
       "      <th></th>\n",
       "      <th></th>\n",
       "      <th></th>\n",
       "    </tr>\n",
       "  </thead>\n",
       "  <tbody>\n",
       "    <tr>\n",
       "      <th>Poisson teams minutes recent form</th>\n",
       "      <td>0.182082</td>\n",
       "      <td>0.178784</td>\n",
       "      <td>0.110627</td>\n",
       "      <td>0.108089</td>\n",
       "    </tr>\n",
       "  </tbody>\n",
       "</table>\n",
       "</div>"
      ],
      "text/plain": [
       "                                   mean_absolute_error_test  \\\n",
       "model                                                         \n",
       "Poisson teams minutes recent form                  0.182082   \n",
       "\n",
       "                                   mean_absolute_error_train  \\\n",
       "model                                                          \n",
       "Poisson teams minutes recent form                   0.178784   \n",
       "\n",
       "                                   mean_squared_error_test  \\\n",
       "model                                                        \n",
       "Poisson teams minutes recent form                 0.110627   \n",
       "\n",
       "                                   mean_squared_error_train  \n",
       "model                                                        \n",
       "Poisson teams minutes recent form                  0.108089  "
      ]
     },
     "execution_count": 50,
     "metadata": {},
     "output_type": "execute_result"
    }
   ],
   "source": [
    "sptmm5_eval_df['model'] = 'Poisson teams minutes recent form'\n",
    "sptmm5_eval = sptmm5_eval_df.groupby('model').median()\n",
    "sptmm5_eval"
   ]
  },
  {
   "cell_type": "markdown",
   "metadata": {
    "heading_collapsed": true
   },
   "source": [
    "## Poisson players minutes model"
   ]
  },
  {
   "cell_type": "code",
   "execution_count": null,
   "metadata": {
    "ExecuteTime": {
     "start_time": "2019-04-08T17:44:38.922Z"
    },
    "hidden": true
   },
   "outputs": [],
   "source": [
    "sppmm_df = element_gameweek_df.copy()"
   ]
  },
  {
   "cell_type": "code",
   "execution_count": null,
   "metadata": {
    "ExecuteTime": {
     "start_time": "2019-04-08T17:44:38.927Z"
    },
    "hidden": true
   },
   "outputs": [],
   "source": [
    "sppmm_formula = \\\n",
    "f'{response_variable} ~ np.log(minutes) + C(element) + C(opposition_team) + was_home'"
   ]
  },
  {
   "cell_type": "code",
   "execution_count": 44,
   "metadata": {
    "ExecuteTime": {
     "end_time": "2019-04-09T12:12:30.137740Z",
     "start_time": "2019-04-09T10:21:48.572631Z"
    },
    "hidden": true
   },
   "outputs": [
    {
     "name": "stdout",
     "output_type": "stream",
     "text": [
      "iteration  1\n",
      "iteration  2\n",
      "iteration  4\n",
      "iteration  5\n",
      "iteration  6\n",
      "iteration  7\n",
      "SVD did not converge\n",
      "iteration  8\n",
      "iteration  9\n",
      "iteration  10\n"
     ]
    }
   ],
   "source": [
    "sppmm_eval_df = n_kfold_cross_validation(sppmm_formula, sppmm_df, 10, 10)"
   ]
  },
  {
   "cell_type": "code",
   "execution_count": 45,
   "metadata": {
    "ExecuteTime": {
     "end_time": "2019-04-09T12:12:30.171040Z",
     "start_time": "2019-04-09T12:12:30.147385Z"
    },
    "hidden": true
   },
   "outputs": [
    {
     "data": {
      "text/html": [
       "<div>\n",
       "<style scoped>\n",
       "    .dataframe tbody tr th:only-of-type {\n",
       "        vertical-align: middle;\n",
       "    }\n",
       "\n",
       "    .dataframe tbody tr th {\n",
       "        vertical-align: top;\n",
       "    }\n",
       "\n",
       "    .dataframe thead th {\n",
       "        text-align: right;\n",
       "    }\n",
       "</style>\n",
       "<table border=\"1\" class=\"dataframe\">\n",
       "  <thead>\n",
       "    <tr style=\"text-align: right;\">\n",
       "      <th></th>\n",
       "      <th>mean_absolute_error_test</th>\n",
       "      <th>mean_absolute_error_train</th>\n",
       "      <th>mean_squared_error_test</th>\n",
       "      <th>mean_squared_error_train</th>\n",
       "    </tr>\n",
       "    <tr>\n",
       "      <th>model</th>\n",
       "      <th></th>\n",
       "      <th></th>\n",
       "      <th></th>\n",
       "      <th></th>\n",
       "    </tr>\n",
       "  </thead>\n",
       "  <tbody>\n",
       "    <tr>\n",
       "      <th>Poisson players minutes</th>\n",
       "      <td>0.160746</td>\n",
       "      <td>0.151465</td>\n",
       "      <td>0.104168</td>\n",
       "      <td>0.092732</td>\n",
       "    </tr>\n",
       "  </tbody>\n",
       "</table>\n",
       "</div>"
      ],
      "text/plain": [
       "                         mean_absolute_error_test  mean_absolute_error_train  \\\n",
       "model                                                                          \n",
       "Poisson players minutes                  0.160746                   0.151465   \n",
       "\n",
       "                         mean_squared_error_test  mean_squared_error_train  \n",
       "model                                                                       \n",
       "Poisson players minutes                 0.104168                  0.092732  "
      ]
     },
     "execution_count": 45,
     "metadata": {},
     "output_type": "execute_result"
    }
   ],
   "source": [
    "sppmm_eval_df['model'] = 'Poisson players minutes'\n",
    "sppmm_eval = sppmm_eval_df.groupby('model').mean()\n",
    "sppmm_eval"
   ]
  },
  {
   "cell_type": "markdown",
   "metadata": {},
   "source": [
    "# Model comparison"
   ]
  },
  {
   "cell_type": "code",
   "execution_count": 52,
   "metadata": {
    "ExecuteTime": {
     "end_time": "2019-04-09T15:51:44.366480Z",
     "start_time": "2019-04-09T15:51:44.341524Z"
    }
   },
   "outputs": [
    {
     "data": {
      "text/html": [
       "<div>\n",
       "<style scoped>\n",
       "    .dataframe tbody tr th:only-of-type {\n",
       "        vertical-align: middle;\n",
       "    }\n",
       "\n",
       "    .dataframe tbody tr th {\n",
       "        vertical-align: top;\n",
       "    }\n",
       "\n",
       "    .dataframe thead th {\n",
       "        text-align: right;\n",
       "    }\n",
       "</style>\n",
       "<table border=\"1\" class=\"dataframe\">\n",
       "  <thead>\n",
       "    <tr style=\"text-align: right;\">\n",
       "      <th></th>\n",
       "      <th>mean_absolute_error_test</th>\n",
       "      <th>mean_absolute_error_train</th>\n",
       "      <th>mean_squared_error_test</th>\n",
       "      <th>mean_squared_error_train</th>\n",
       "    </tr>\n",
       "    <tr>\n",
       "      <th>model</th>\n",
       "      <th></th>\n",
       "      <th></th>\n",
       "      <th></th>\n",
       "      <th></th>\n",
       "    </tr>\n",
       "  </thead>\n",
       "  <tbody>\n",
       "    <tr>\n",
       "      <th>Poisson teams minutes</th>\n",
       "      <td>0.174</td>\n",
       "      <td>0.173</td>\n",
       "      <td>0.107</td>\n",
       "      <td>0.105</td>\n",
       "    </tr>\n",
       "    <tr>\n",
       "      <th>Poisson teams minutes form</th>\n",
       "      <td>0.178</td>\n",
       "      <td>0.175</td>\n",
       "      <td>0.125</td>\n",
       "      <td>0.107</td>\n",
       "    </tr>\n",
       "    <tr>\n",
       "      <th>Poisson teams minutes recent form</th>\n",
       "      <td>0.182</td>\n",
       "      <td>0.179</td>\n",
       "      <td>0.111</td>\n",
       "      <td>0.108</td>\n",
       "    </tr>\n",
       "    <tr>\n",
       "      <th>Poisson players minutes</th>\n",
       "      <td>0.161</td>\n",
       "      <td>0.151</td>\n",
       "      <td>0.104</td>\n",
       "      <td>0.093</td>\n",
       "    </tr>\n",
       "  </tbody>\n",
       "</table>\n",
       "</div>"
      ],
      "text/plain": [
       "                                   mean_absolute_error_test  \\\n",
       "model                                                         \n",
       "Poisson teams minutes                                 0.174   \n",
       "Poisson teams minutes form                            0.178   \n",
       "Poisson teams minutes recent form                     0.182   \n",
       "Poisson players minutes                               0.161   \n",
       "\n",
       "                                   mean_absolute_error_train  \\\n",
       "model                                                          \n",
       "Poisson teams minutes                                  0.173   \n",
       "Poisson teams minutes form                             0.175   \n",
       "Poisson teams minutes recent form                      0.179   \n",
       "Poisson players minutes                                0.151   \n",
       "\n",
       "                                   mean_squared_error_test  \\\n",
       "model                                                        \n",
       "Poisson teams minutes                                0.107   \n",
       "Poisson teams minutes form                           0.125   \n",
       "Poisson teams minutes recent form                    0.111   \n",
       "Poisson players minutes                              0.104   \n",
       "\n",
       "                                   mean_squared_error_train  \n",
       "model                                                        \n",
       "Poisson teams minutes                                 0.105  \n",
       "Poisson teams minutes form                            0.107  \n",
       "Poisson teams minutes recent form                     0.108  \n",
       "Poisson players minutes                               0.093  "
      ]
     },
     "execution_count": 52,
     "metadata": {},
     "output_type": "execute_result"
    }
   ],
   "source": [
    "pd.concat([\n",
    "    sptmm_eval,\n",
    "    sptmmf_eval,\n",
    "    sptmm5_eval,\n",
    "    sppmm_eval,\n",
    "]).round(3)"
   ]
  },
  {
   "cell_type": "code",
   "execution_count": null,
   "metadata": {},
   "outputs": [],
   "source": []
  }
 ],
 "metadata": {
  "kernelspec": {
   "display_name": "Python 3",
   "language": "python",
   "name": "python3"
  },
  "language_info": {
   "codemirror_mode": {
    "name": "ipython",
    "version": 3
   },
   "file_extension": ".py",
   "mimetype": "text/x-python",
   "name": "python",
   "nbconvert_exporter": "python",
   "pygments_lexer": "ipython3",
   "version": "3.6.7"
  },
  "toc": {
   "nav_menu": {},
   "number_sections": true,
   "sideBar": true,
   "skip_h1_title": false,
   "title_cell": "Table of Contents",
   "title_sidebar": "Contents",
   "toc_cell": false,
   "toc_position": {},
   "toc_section_display": true,
   "toc_window_display": false
  }
 },
 "nbformat": 4,
 "nbformat_minor": 2
}
