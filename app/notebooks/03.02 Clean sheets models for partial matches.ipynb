{
 "cells": [
  {
   "cell_type": "markdown",
   "metadata": {
    "heading_collapsed": true
   },
   "source": [
    "# Set up"
   ]
  },
  {
   "cell_type": "code",
   "execution_count": 1,
   "metadata": {
    "ExecuteTime": {
     "end_time": "2019-04-04T18:48:14.593102Z",
     "start_time": "2019-04-04T18:48:14.588100Z"
    },
    "hidden": true
   },
   "outputs": [],
   "source": [
    "# update path with data dir\n",
    "import sys\n",
    "sys.path.append('../data/')\n",
    "sys.path.append('../modelling/')"
   ]
  },
  {
   "cell_type": "code",
   "execution_count": 2,
   "metadata": {
    "ExecuteTime": {
     "end_time": "2019-04-04T18:48:16.329457Z",
     "start_time": "2019-04-04T18:48:14.595876Z"
    },
    "hidden": true
   },
   "outputs": [
    {
     "name": "stderr",
     "output_type": "stream",
     "text": [
      "/home/tom/footbot/venv/lib/python3.6/site-packages/statsmodels/compat/pandas.py:56: FutureWarning: The pandas.core.datetools module is deprecated and will be removed in a future version. Please use the pandas.tseries module instead.\n",
      "  from pandas.core import datetools\n"
     ]
    }
   ],
   "source": [
    "import player_data as player\n",
    "import goodness_fit\n",
    "import pandas as pd\n",
    "from datetime import datetime\n",
    "import statsmodels.api as sm\n",
    "import matplotlib.pyplot as plt\n",
    "import numpy as np"
   ]
  },
  {
   "cell_type": "markdown",
   "metadata": {
    "heading_collapsed": true
   },
   "source": [
    "# Get data"
   ]
  },
  {
   "cell_type": "code",
   "execution_count": 3,
   "metadata": {
    "ExecuteTime": {
     "end_time": "2019-04-04T18:48:16.347085Z",
     "start_time": "2019-04-04T18:48:16.334211Z"
    },
    "hidden": true
   },
   "outputs": [],
   "source": [
    "file_name = 'csvs/element_gameweek_' + datetime.today().strftime('%Y-%m-%d') + '.csv'"
   ]
  },
  {
   "cell_type": "code",
   "execution_count": 4,
   "metadata": {
    "ExecuteTime": {
     "end_time": "2019-04-04T18:48:16.586537Z",
     "start_time": "2019-04-04T18:48:16.351931Z"
    },
    "hidden": true
   },
   "outputs": [],
   "source": [
    "try:\n",
    "    element_gameweek_df = pd.read_csv(file_name)\n",
    "except:\n",
    "    element_gameweek_df = player.get_element_gameweek_df()\n",
    "    element_gameweek_df.to_csv(file_name)"
   ]
  },
  {
   "cell_type": "code",
   "execution_count": 5,
   "metadata": {
    "ExecuteTime": {
     "end_time": "2019-04-04T18:48:16.594386Z",
     "start_time": "2019-04-04T18:48:16.589858Z"
    },
    "hidden": true
   },
   "outputs": [],
   "source": [
    "current_event = 32\n",
    "element_types = [2, 3, 4]\n",
    "threshold_minutes = 1"
   ]
  },
  {
   "cell_type": "code",
   "execution_count": 6,
   "metadata": {
    "ExecuteTime": {
     "end_time": "2019-04-04T18:48:16.710677Z",
     "start_time": "2019-04-04T18:48:16.597566Z"
    },
    "hidden": true
   },
   "outputs": [],
   "source": [
    "element_gameweek_df =\\\n",
    "element_gameweek_df[\n",
    "    (element_gameweek_df['event'] <= current_event)\n",
    "    & (element_gameweek_df['element_type'].isin(element_types))\n",
    "    & (element_gameweek_df['minutes'] >= threshold_minutes)\n",
    "]"
   ]
  },
  {
   "cell_type": "code",
   "execution_count": 7,
   "metadata": {
    "ExecuteTime": {
     "end_time": "2019-04-04T18:48:16.827957Z",
     "start_time": "2019-04-04T18:48:16.713870Z"
    },
    "hidden": true
   },
   "outputs": [],
   "source": [
    "player.add_home_categorical_variable(element_gameweek_df)"
   ]
  },
  {
   "cell_type": "code",
   "execution_count": 8,
   "metadata": {
    "ExecuteTime": {
     "end_time": "2019-04-04T18:48:16.845074Z",
     "start_time": "2019-04-04T18:48:16.831543Z"
    },
    "hidden": true
   },
   "outputs": [],
   "source": [
    "element_gameweek_df['clean_sheets_no_time'] =\\\n",
    "element_gameweek_df['goals_conceded'].apply(lambda x: 1 if x == 0 else 0)"
   ]
  },
  {
   "cell_type": "markdown",
   "metadata": {
    "heading_collapsed": true
   },
   "source": [
    "# Models"
   ]
  },
  {
   "cell_type": "markdown",
   "metadata": {
    "heading_collapsed": true,
    "hidden": true
   },
   "source": [
    "## Simple Binomial model"
   ]
  },
  {
   "cell_type": "markdown",
   "metadata": {
    "heading_collapsed": true,
    "hidden": true
   },
   "source": [
    "### Preparing data"
   ]
  },
  {
   "cell_type": "code",
   "execution_count": 9,
   "metadata": {
    "ExecuteTime": {
     "end_time": "2019-04-04T18:48:16.872632Z",
     "start_time": "2019-04-04T18:48:16.848136Z"
    },
    "hidden": true
   },
   "outputs": [],
   "source": [
    "spm_df = element_gameweek_df.copy()"
   ]
  },
  {
   "cell_type": "code",
   "execution_count": 10,
   "metadata": {
    "ExecuteTime": {
     "end_time": "2019-04-04T18:48:16.892373Z",
     "start_time": "2019-04-04T18:48:16.876113Z"
    },
    "hidden": true
   },
   "outputs": [],
   "source": [
    "spm_redundant_columns = [\n",
    "    'row_id', 'assists', 'attempted_passes', 'big_chances_created',\n",
    "    'big_chances_missed', 'bonus', 'bps', 'clean_sheets', 'goals_scored',\n",
    "    'clearances_blocks_interceptions', 'completed_passes', 'creativity',\n",
    "    'dribbles', 'ea_index', 'element', 'errors_leading_to_goal',\n",
    "    'errors_leading_to_goal_attempt', 'fixture', 'fouls', 'goals_conceded',\n",
    "    'ict_index', 'id', 'influence', 'key_passes', 'kickoff_time',\n",
    "    'kickoff_time_formatted', 'loaned_in', 'loaned_out', 'minutes', 'offside',\n",
    "    'open_play_crosses', 'opponent_team', 'own_goals', 'penalties_conceded',\n",
    "    'penalties_missed', 'penalties_saved', 'recoveries', 'red_cards', 'round',\n",
    "    'saves', 'selected', 'tackled', 'tackles', 'target_missed', 'team_a_score',\n",
    "    'team_h_score', 'threat', 'total_points', 'transfers_balance',\n",
    "    'transfers_in', 'transfers_out', 'value', 'winning_goals',\n",
    "    'yellow_cards', 'event', 'team_a', 'team_a_difficulty', 'team_h',\n",
    "    'team_h_difficulty', 'element_type', 'team', 'web_name', 'safe_web_name',\n",
    "    'own_team', 'opposition_team', 'was_home'\n",
    "]"
   ]
  },
  {
   "cell_type": "code",
   "execution_count": 11,
   "metadata": {
    "ExecuteTime": {
     "end_time": "2019-04-04T18:48:16.919362Z",
     "start_time": "2019-04-04T18:48:16.895386Z"
    },
    "hidden": true
   },
   "outputs": [],
   "source": [
    "spm_df = player.remove_redundant_columns(spm_df, spm_redundant_columns)"
   ]
  },
  {
   "cell_type": "code",
   "execution_count": 12,
   "metadata": {
    "ExecuteTime": {
     "end_time": "2019-04-04T18:48:16.957490Z",
     "start_time": "2019-04-04T18:48:16.921951Z"
    },
    "hidden": true
   },
   "outputs": [],
   "source": [
    "spm_response_df, spm_explanatory_df = player.get_response_explanatory_dfs(spm_df, 'clean_sheets_no_time')"
   ]
  },
  {
   "cell_type": "code",
   "execution_count": 13,
   "metadata": {
    "ExecuteTime": {
     "end_time": "2019-04-04T18:48:17.009160Z",
     "start_time": "2019-04-04T18:48:16.965904Z"
    },
    "hidden": true
   },
   "outputs": [
    {
     "data": {
      "text/plain": [
       "Index(['const'], dtype='object')"
      ]
     },
     "execution_count": 13,
     "metadata": {},
     "output_type": "execute_result"
    }
   ],
   "source": [
    "spm_explanatory_df.columns"
   ]
  },
  {
   "cell_type": "code",
   "execution_count": 14,
   "metadata": {
    "ExecuteTime": {
     "end_time": "2019-04-04T18:48:17.040815Z",
     "start_time": "2019-04-04T18:48:17.017100Z"
    },
    "hidden": true
   },
   "outputs": [
    {
     "data": {
      "text/plain": [
       "78    0\n",
       "80    0\n",
       "81    0\n",
       "82    0\n",
       "83    0\n",
       "Name: clean_sheets_no_time, dtype: int64"
      ]
     },
     "execution_count": 14,
     "metadata": {},
     "output_type": "execute_result"
    }
   ],
   "source": [
    "spm_response_df.head()"
   ]
  },
  {
   "cell_type": "markdown",
   "metadata": {
    "heading_collapsed": true,
    "hidden": true
   },
   "source": [
    "### Fitting model"
   ]
  },
  {
   "cell_type": "code",
   "execution_count": 15,
   "metadata": {
    "ExecuteTime": {
     "end_time": "2019-04-04T18:48:17.087990Z",
     "start_time": "2019-04-04T18:48:17.043297Z"
    },
    "hidden": true
   },
   "outputs": [],
   "source": [
    "spm_results = sm.GLM(\n",
    "    spm_response_df,\n",
    "    spm_explanatory_df,\n",
    "    family=sm.families.Binomial(),\n",
    "    missing='drop'\n",
    ").fit()"
   ]
  },
  {
   "cell_type": "code",
   "execution_count": 16,
   "metadata": {
    "ExecuteTime": {
     "end_time": "2019-04-04T18:48:17.117629Z",
     "start_time": "2019-04-04T18:48:17.090924Z"
    },
    "hidden": true
   },
   "outputs": [
    {
     "name": "stdout",
     "output_type": "stream",
     "text": [
      "                  Generalized Linear Model Regression Results                   \n",
      "================================================================================\n",
      "Dep. Variable:     clean_sheets_no_time   No. Observations:                 8161\n",
      "Model:                              GLM   Df Residuals:                     8160\n",
      "Model Family:                  Binomial   Df Model:                            0\n",
      "Link Function:                    logit   Scale:                             1.0\n",
      "Method:                            IRLS   Log-Likelihood:                -5426.6\n",
      "Date:                  Thu, 04 Apr 2019   Deviance:                       10853.\n",
      "Time:                          18:48:17   Pearson chi2:                 8.16e+03\n",
      "No. Iterations:                       4                                         \n",
      "==============================================================================\n",
      "                 coef    std err          z      P>|z|      [0.025      0.975]\n",
      "------------------------------------------------------------------------------\n",
      "const         -0.4818      0.023    -21.148      0.000      -0.527      -0.437\n",
      "==============================================================================\n"
     ]
    }
   ],
   "source": [
    "print(spm_results.summary())"
   ]
  },
  {
   "cell_type": "markdown",
   "metadata": {
    "heading_collapsed": true,
    "hidden": true
   },
   "source": [
    "### Model fit"
   ]
  },
  {
   "cell_type": "code",
   "execution_count": 17,
   "metadata": {
    "ExecuteTime": {
     "end_time": "2019-04-04T18:48:17.148521Z",
     "start_time": "2019-04-04T18:48:17.120909Z"
    },
    "hidden": true
   },
   "outputs": [
    {
     "data": {
      "text/plain": [
       "10855.250723923336"
      ]
     },
     "execution_count": 17,
     "metadata": {},
     "output_type": "execute_result"
    }
   ],
   "source": [
    "spm_results.aic"
   ]
  },
  {
   "cell_type": "code",
   "execution_count": 18,
   "metadata": {
    "ExecuteTime": {
     "end_time": "2019-04-04T18:48:17.177065Z",
     "start_time": "2019-04-04T18:48:17.151280Z"
    },
    "hidden": true
   },
   "outputs": [
    {
     "data": {
      "text/plain": [
       "-62644.86471014567"
      ]
     },
     "execution_count": 18,
     "metadata": {},
     "output_type": "execute_result"
    }
   ],
   "source": [
    "spm_results.bic"
   ]
  },
  {
   "cell_type": "code",
   "execution_count": 19,
   "metadata": {
    "ExecuteTime": {
     "end_time": "2019-04-04T18:48:17.207891Z",
     "start_time": "2019-04-04T18:48:17.179855Z"
    },
    "hidden": true
   },
   "outputs": [
    {
     "data": {
      "text/plain": [
       "(False, 0.49479554777644674)"
      ]
     },
     "execution_count": 19,
     "metadata": {},
     "output_type": "execute_result"
    }
   ],
   "source": [
    "spm_pearson_results = goodness_fit.pearson_chi_squared_test(spm_results)\n",
    "spm_pearson_results"
   ]
  },
  {
   "cell_type": "code",
   "execution_count": 20,
   "metadata": {
    "ExecuteTime": {
     "end_time": "2019-04-04T18:48:17.249582Z",
     "start_time": "2019-04-04T18:48:17.210603Z"
    },
    "hidden": true
   },
   "outputs": [
    {
     "data": {
      "text/plain": [
       "count    8161.000000\n",
       "mean       -0.076470\n",
       "std         1.150742\n",
       "min        -0.980784\n",
       "25%        -0.980784\n",
       "50%        -0.980784\n",
       "75%         1.387672\n",
       "max         1.387672\n",
       "dtype: float64"
      ]
     },
     "execution_count": 20,
     "metadata": {},
     "output_type": "execute_result"
    }
   ],
   "source": [
    "spm_results.resid_deviance.describe()"
   ]
  },
  {
   "cell_type": "code",
   "execution_count": 21,
   "metadata": {
    "ExecuteTime": {
     "end_time": "2019-04-04T18:48:17.688702Z",
     "start_time": "2019-04-04T18:48:17.252775Z"
    },
    "hidden": true
   },
   "outputs": [
    {
     "data": {
      "image/png": "[encoded data removed]",
      "text/plain": [
       "<Figure size 432x288 with 1 Axes>"
      ]
     },
     "metadata": {
      "needs_background": "light"
     },
     "output_type": "display_data"
    }
   ],
   "source": [
    "plt.figure()\n",
    "plt.hist(spm_results.resid_deviance)\n",
    "plt.show()"
   ]
  },
  {
   "cell_type": "markdown",
   "metadata": {
    "heading_collapsed": true,
    "hidden": true
   },
   "source": [
    "## Simple Binomial minutes model"
   ]
  },
  {
   "cell_type": "markdown",
   "metadata": {
    "heading_collapsed": true,
    "hidden": true
   },
   "source": [
    "### Preparing data"
   ]
  },
  {
   "cell_type": "code",
   "execution_count": 22,
   "metadata": {
    "ExecuteTime": {
     "end_time": "2019-04-04T18:48:17.698208Z",
     "start_time": "2019-04-04T18:48:17.691988Z"
    },
    "hidden": true
   },
   "outputs": [],
   "source": [
    "spmm_df = element_gameweek_df.copy()"
   ]
  },
  {
   "cell_type": "code",
   "execution_count": 23,
   "metadata": {
    "ExecuteTime": {
     "end_time": "2019-04-04T18:48:17.725122Z",
     "start_time": "2019-04-04T18:48:17.701334Z"
    },
    "hidden": true
   },
   "outputs": [],
   "source": [
    "spmm_redundant_columns = [\n",
    "    'row_id', 'assists', 'attempted_passes', 'big_chances_created',\n",
    "    'big_chances_missed', 'bonus', 'bps', 'clean_sheets', 'goals_scored',\n",
    "    'clearances_blocks_interceptions', 'completed_passes', 'creativity',\n",
    "    'dribbles', 'ea_index', 'element', 'errors_leading_to_goal',\n",
    "    'errors_leading_to_goal_attempt', 'fixture', 'fouls', 'goals_conceded',\n",
    "    'ict_index', 'id', 'influence', 'key_passes', 'kickoff_time',\n",
    "    'kickoff_time_formatted', 'loaned_in', 'loaned_out', 'offside',\n",
    "    'open_play_crosses', 'opponent_team', 'own_goals', 'penalties_conceded',\n",
    "    'penalties_missed', 'penalties_saved', 'recoveries', 'red_cards', 'round',\n",
    "    'saves', 'selected', 'tackled', 'tackles', 'target_missed', 'team_a_score',\n",
    "    'team_h_score', 'threat', 'total_points', 'transfers_balance',\n",
    "    'transfers_in', 'transfers_out', 'value', 'winning_goals',\n",
    "    'yellow_cards', 'event', 'team_a', 'team_a_difficulty', 'team_h',\n",
    "    'team_h_difficulty', 'element_type', 'team', 'web_name', 'safe_web_name',\n",
    "    'own_team', 'opposition_team', 'was_home', 'minutes'\n",
    "]"
   ]
  },
  {
   "cell_type": "code",
   "execution_count": 24,
   "metadata": {
    "ExecuteTime": {
     "end_time": "2019-04-04T18:48:17.773820Z",
     "start_time": "2019-04-04T18:48:17.728559Z"
    },
    "hidden": true
   },
   "outputs": [],
   "source": [
    "spmm_df['log_minutes'] = np.log(spmm_df['minutes'])"
   ]
  },
  {
   "cell_type": "code",
   "execution_count": 25,
   "metadata": {
    "ExecuteTime": {
     "end_time": "2019-04-04T18:48:17.799567Z",
     "start_time": "2019-04-04T18:48:17.776675Z"
    },
    "hidden": true
   },
   "outputs": [],
   "source": [
    "spmm_df = player.remove_redundant_columns(spmm_df, spmm_redundant_columns)"
   ]
  },
  {
   "cell_type": "code",
   "execution_count": 26,
   "metadata": {
    "ExecuteTime": {
     "end_time": "2019-04-04T18:48:17.836150Z",
     "start_time": "2019-04-04T18:48:17.803072Z"
    },
    "hidden": true
   },
   "outputs": [],
   "source": [
    "spmm_response_df, spmm_explanatory_df = player.get_response_explanatory_dfs(spmm_df, 'clean_sheets_no_time')"
   ]
  },
  {
   "cell_type": "code",
   "execution_count": 27,
   "metadata": {
    "ExecuteTime": {
     "end_time": "2019-04-04T18:48:17.863721Z",
     "start_time": "2019-04-04T18:48:17.851198Z"
    },
    "hidden": true
   },
   "outputs": [
    {
     "data": {
      "text/plain": [
       "Index(['const', 'log_minutes'], dtype='object')"
      ]
     },
     "execution_count": 27,
     "metadata": {},
     "output_type": "execute_result"
    }
   ],
   "source": [
    "spmm_explanatory_df.columns"
   ]
  },
  {
   "cell_type": "markdown",
   "metadata": {
    "heading_collapsed": true,
    "hidden": true
   },
   "source": [
    "### Fitting model"
   ]
  },
  {
   "cell_type": "code",
   "execution_count": 28,
   "metadata": {
    "ExecuteTime": {
     "end_time": "2019-04-04T18:48:17.939305Z",
     "start_time": "2019-04-04T18:48:17.866925Z"
    },
    "hidden": true
   },
   "outputs": [],
   "source": [
    "spmm_results = sm.GLM(\n",
    "    spmm_response_df,\n",
    "    spmm_explanatory_df,\n",
    "    family=sm.families.Binomial(),\n",
    "    missing='drop'\n",
    ").fit()"
   ]
  },
  {
   "cell_type": "code",
   "execution_count": 29,
   "metadata": {
    "ExecuteTime": {
     "end_time": "2019-04-04T18:48:17.987341Z",
     "start_time": "2019-04-04T18:48:17.943802Z"
    },
    "hidden": true
   },
   "outputs": [
    {
     "name": "stdout",
     "output_type": "stream",
     "text": [
      "                  Generalized Linear Model Regression Results                   \n",
      "================================================================================\n",
      "Dep. Variable:     clean_sheets_no_time   No. Observations:                 8161\n",
      "Model:                              GLM   Df Residuals:                     8159\n",
      "Model Family:                  Binomial   Df Model:                            1\n",
      "Link Function:                    logit   Scale:                             1.0\n",
      "Method:                            IRLS   Log-Likelihood:                -4881.5\n",
      "Date:                  Thu, 04 Apr 2019   Deviance:                       9763.0\n",
      "Time:                          18:48:17   Pearson chi2:                 8.35e+03\n",
      "No. Iterations:                       5                                         \n",
      "===============================================================================\n",
      "                  coef    std err          z      P>|z|      [0.025      0.975]\n",
      "-------------------------------------------------------------------------------\n",
      "const           3.3317      0.142     23.417      0.000       3.053       3.611\n",
      "log_minutes    -0.9467      0.034    -27.692      0.000      -1.014      -0.880\n",
      "===============================================================================\n"
     ]
    }
   ],
   "source": [
    "print(spmm_results.summary())"
   ]
  },
  {
   "cell_type": "markdown",
   "metadata": {
    "heading_collapsed": true,
    "hidden": true
   },
   "source": [
    "### Model fit"
   ]
  },
  {
   "cell_type": "code",
   "execution_count": 30,
   "metadata": {
    "ExecuteTime": {
     "end_time": "2019-04-04T18:48:18.002622Z",
     "start_time": "2019-04-04T18:48:17.992430Z"
    },
    "hidden": true
   },
   "outputs": [
    {
     "data": {
      "text/plain": [
       "9767.017587567554"
      ]
     },
     "execution_count": 30,
     "metadata": {},
     "output_type": "execute_result"
    }
   ],
   "source": [
    "spmm_results.aic"
   ]
  },
  {
   "cell_type": "code",
   "execution_count": 31,
   "metadata": {
    "ExecuteTime": {
     "end_time": "2019-04-04T18:48:18.029607Z",
     "start_time": "2019-04-04T18:48:18.007231Z"
    },
    "hidden": true
   },
   "outputs": [
    {
     "data": {
      "text/plain": [
       "-63726.090724511996"
      ]
     },
     "execution_count": 31,
     "metadata": {},
     "output_type": "execute_result"
    }
   ],
   "source": [
    "spmm_results.bic"
   ]
  },
  {
   "cell_type": "code",
   "execution_count": 32,
   "metadata": {
    "ExecuteTime": {
     "end_time": "2019-04-04T18:48:18.059619Z",
     "start_time": "2019-04-04T18:48:18.032195Z"
    },
    "hidden": true
   },
   "outputs": [
    {
     "data": {
      "text/plain": [
       "(False, 0.06457867188601518)"
      ]
     },
     "execution_count": 32,
     "metadata": {},
     "output_type": "execute_result"
    }
   ],
   "source": [
    "spmm_pearson_results = goodness_fit.pearson_chi_squared_test(spmm_results)\n",
    "spmm_pearson_results"
   ]
  },
  {
   "cell_type": "code",
   "execution_count": 33,
   "metadata": {
    "ExecuteTime": {
     "end_time": "2019-04-04T18:48:18.092774Z",
     "start_time": "2019-04-04T18:48:18.062405Z"
    },
    "hidden": true
   },
   "outputs": [
    {
     "data": {
      "text/plain": [
       "count    8161.000000\n",
       "mean       -0.078081\n",
       "std         1.091032\n",
       "min        -2.594905\n",
       "25%        -0.816116\n",
       "50%        -0.816116\n",
       "75%         1.117004\n",
       "max         1.588358\n",
       "dtype: float64"
      ]
     },
     "execution_count": 33,
     "metadata": {},
     "output_type": "execute_result"
    }
   ],
   "source": [
    "spmm_results.resid_deviance.describe()"
   ]
  },
  {
   "cell_type": "code",
   "execution_count": 34,
   "metadata": {
    "ExecuteTime": {
     "end_time": "2019-04-04T18:48:18.452638Z",
     "start_time": "2019-04-04T18:48:18.096093Z"
    },
    "hidden": true
   },
   "outputs": [
    {
     "data": {
      "image/png": "[encoded data removed]",
      "text/plain": [
       "<Figure size 432x288 with 1 Axes>"
      ]
     },
     "metadata": {
      "needs_background": "light"
     },
     "output_type": "display_data"
    }
   ],
   "source": [
    "plt.figure()\n",
    "plt.hist(spmm_results.resid_deviance)\n",
    "plt.show()"
   ]
  },
  {
   "cell_type": "markdown",
   "metadata": {
    "heading_collapsed": true,
    "hidden": true
   },
   "source": [
    "## Simple Binomial teams model"
   ]
  },
  {
   "cell_type": "markdown",
   "metadata": {
    "heading_collapsed": true,
    "hidden": true
   },
   "source": [
    "### Preparing data"
   ]
  },
  {
   "cell_type": "code",
   "execution_count": 35,
   "metadata": {
    "ExecuteTime": {
     "end_time": "2019-04-04T18:48:18.463942Z",
     "start_time": "2019-04-04T18:48:18.455917Z"
    },
    "hidden": true
   },
   "outputs": [],
   "source": [
    "sptm_df = element_gameweek_df.copy()"
   ]
  },
  {
   "cell_type": "code",
   "execution_count": 36,
   "metadata": {
    "ExecuteTime": {
     "end_time": "2019-04-04T18:48:18.515108Z",
     "start_time": "2019-04-04T18:48:18.468978Z"
    },
    "hidden": true
   },
   "outputs": [],
   "source": [
    "sptm_df = player.add_categorical_variables(sptm_df, 'element_type')\n",
    "sptm_df = player.add_categorical_variables(sptm_df, 'opposition_team')\n",
    "sptm_df = player.add_categorical_variables(sptm_df, 'own_team')"
   ]
  },
  {
   "cell_type": "code",
   "execution_count": 37,
   "metadata": {
    "ExecuteTime": {
     "end_time": "2019-04-04T18:48:18.529096Z",
     "start_time": "2019-04-04T18:48:18.518437Z"
    },
    "hidden": true
   },
   "outputs": [],
   "source": [
    "sptm_redundant_columns = [\n",
    "    'row_id', 'assists', 'attempted_passes', 'big_chances_created',\n",
    "    'big_chances_missed', 'bonus', 'bps', 'clean_sheets', 'goals_scored',\n",
    "    'clearances_blocks_interceptions', 'completed_passes', 'creativity',\n",
    "    'dribbles', 'ea_index', 'element', 'errors_leading_to_goal',\n",
    "    'errors_leading_to_goal_attempt', 'fixture', 'fouls', 'goals_conceded',\n",
    "    'ict_index', 'id', 'influence', 'key_passes', 'kickoff_time',\n",
    "    'kickoff_time_formatted', 'loaned_in', 'loaned_out', 'minutes', 'offside',\n",
    "    'open_play_crosses', 'opponent_team', 'own_goals', 'penalties_conceded',\n",
    "    'penalties_missed', 'penalties_saved', 'recoveries', 'red_cards', 'round',\n",
    "    'saves', 'selected', 'tackled', 'tackles', 'target_missed', 'team_a_score',\n",
    "    'team_h_score', 'threat', 'total_points', 'transfers_balance',\n",
    "    'transfers_in', 'transfers_out', 'value', 'winning_goals',\n",
    "    'yellow_cards', 'event', 'team_a', 'team_a_difficulty', 'team_h',\n",
    "    'team_h_difficulty', 'element_type', 'team', 'web_name', 'safe_web_name',\n",
    "    'own_team', 'opposition_team'\n",
    "]"
   ]
  },
  {
   "cell_type": "code",
   "execution_count": 38,
   "metadata": {
    "ExecuteTime": {
     "end_time": "2019-04-04T18:48:18.571779Z",
     "start_time": "2019-04-04T18:48:18.532320Z"
    },
    "hidden": true
   },
   "outputs": [],
   "source": [
    "sptm_df = player.remove_redundant_columns(sptm_df, sptm_redundant_columns)"
   ]
  },
  {
   "cell_type": "code",
   "execution_count": 39,
   "metadata": {
    "ExecuteTime": {
     "end_time": "2019-04-04T18:48:18.623507Z",
     "start_time": "2019-04-04T18:48:18.575192Z"
    },
    "hidden": true
   },
   "outputs": [],
   "source": [
    "sptm_response_df, sptm_explanatory_df = player.get_response_explanatory_dfs(sptm_df, 'clean_sheets_no_time')"
   ]
  },
  {
   "cell_type": "code",
   "execution_count": 40,
   "metadata": {
    "ExecuteTime": {
     "end_time": "2019-04-04T18:48:18.645355Z",
     "start_time": "2019-04-04T18:48:18.632243Z"
    },
    "hidden": true
   },
   "outputs": [
    {
     "data": {
      "text/plain": [
       "Index(['const', 'was_home', 'element_type_3', 'element_type_4',\n",
       "       'opposition_team_2', 'opposition_team_3', 'opposition_team_4',\n",
       "       'opposition_team_5', 'opposition_team_6', 'opposition_team_7',\n",
       "       'opposition_team_8', 'opposition_team_9', 'opposition_team_10',\n",
       "       'opposition_team_11', 'opposition_team_12', 'opposition_team_13',\n",
       "       'opposition_team_14', 'opposition_team_15', 'opposition_team_16',\n",
       "       'opposition_team_17', 'opposition_team_18', 'opposition_team_19',\n",
       "       'opposition_team_20', 'own_team_2', 'own_team_3', 'own_team_4',\n",
       "       'own_team_5', 'own_team_6', 'own_team_7', 'own_team_8', 'own_team_9',\n",
       "       'own_team_10', 'own_team_11', 'own_team_12', 'own_team_13',\n",
       "       'own_team_14', 'own_team_15', 'own_team_16', 'own_team_17',\n",
       "       'own_team_18', 'own_team_19', 'own_team_20'],\n",
       "      dtype='object')"
      ]
     },
     "execution_count": 40,
     "metadata": {},
     "output_type": "execute_result"
    }
   ],
   "source": [
    "sptm_explanatory_df.columns"
   ]
  },
  {
   "cell_type": "code",
   "execution_count": 41,
   "metadata": {
    "ExecuteTime": {
     "end_time": "2019-04-04T18:48:18.677664Z",
     "start_time": "2019-04-04T18:48:18.653821Z"
    },
    "hidden": true
   },
   "outputs": [
    {
     "data": {
      "text/plain": [
       "78    0\n",
       "80    0\n",
       "81    0\n",
       "82    0\n",
       "83    0\n",
       "Name: clean_sheets_no_time, dtype: int64"
      ]
     },
     "execution_count": 41,
     "metadata": {},
     "output_type": "execute_result"
    }
   ],
   "source": [
    "sptm_response_df.head()"
   ]
  },
  {
   "cell_type": "markdown",
   "metadata": {
    "heading_collapsed": true,
    "hidden": true
   },
   "source": [
    "### Fitting model"
   ]
  },
  {
   "cell_type": "code",
   "execution_count": 42,
   "metadata": {
    "ExecuteTime": {
     "end_time": "2019-04-04T18:48:19.056706Z",
     "start_time": "2019-04-04T18:48:18.682275Z"
    },
    "hidden": true
   },
   "outputs": [],
   "source": [
    "sptm_results = sm.GLM(\n",
    "    sptm_response_df,\n",
    "    sptm_explanatory_df,\n",
    "    family=sm.families.Binomial(),\n",
    "    missing='drop'\n",
    ").fit()"
   ]
  },
  {
   "cell_type": "code",
   "execution_count": 43,
   "metadata": {
    "ExecuteTime": {
     "end_time": "2019-04-04T18:48:19.224412Z",
     "start_time": "2019-04-04T18:48:19.066514Z"
    },
    "hidden": true
   },
   "outputs": [
    {
     "name": "stdout",
     "output_type": "stream",
     "text": [
      "                  Generalized Linear Model Regression Results                   \n",
      "================================================================================\n",
      "Dep. Variable:     clean_sheets_no_time   No. Observations:                 8161\n",
      "Model:                              GLM   Df Residuals:                     8119\n",
      "Model Family:                  Binomial   Df Model:                           41\n",
      "Link Function:                    logit   Scale:                             1.0\n",
      "Method:                            IRLS   Log-Likelihood:                -4901.5\n",
      "Date:                  Thu, 04 Apr 2019   Deviance:                       9802.9\n",
      "Time:                          18:48:19   Pearson chi2:                 8.13e+03\n",
      "No. Iterations:                       4                                         \n",
      "======================================================================================\n",
      "                         coef    std err          z      P>|z|      [0.025      0.975]\n",
      "--------------------------------------------------------------------------------------\n",
      "const                 -2.1121      0.176    -11.982      0.000      -2.458      -1.767\n",
      "was_home               0.3624      0.049      7.419      0.000       0.267       0.458\n",
      "element_type_3         0.4641      0.055      8.473      0.000       0.357       0.571\n",
      "element_type_4         0.7993      0.072     11.071      0.000       0.658       0.941\n",
      "opposition_team_2      1.1429      0.165      6.943      0.000       0.820       1.465\n",
      "opposition_team_3      1.1023      0.167      6.606      0.000       0.775       1.429\n",
      "opposition_team_4      1.1077      0.165      6.708      0.000       0.784       1.431\n",
      "opposition_team_5      1.5359      0.165      9.301      0.000       1.212       1.860\n",
      "opposition_team_6      0.7548      0.168      4.491      0.000       0.425       1.084\n",
      "opposition_team_7      1.0824      0.166      6.535      0.000       0.758       1.407\n",
      "opposition_team_8      0.8142      0.167      4.878      0.000       0.487       1.141\n",
      "opposition_team_9      1.4199      0.164      8.675      0.000       1.099       1.741\n",
      "opposition_team_10     2.0140      0.167     12.090      0.000       1.687       2.340\n",
      "opposition_team_11     0.5256      0.170      3.088      0.002       0.192       0.859\n",
      "opposition_team_12     0.1545      0.177      0.871      0.384      -0.193       0.502\n",
      "opposition_team_13    -0.0573      0.183     -0.314      0.754      -0.415       0.301\n",
      "opposition_team_14     0.1858      0.176      1.056      0.291      -0.159       0.530\n",
      "opposition_team_15     1.4038      0.165      8.523      0.000       1.081       1.727\n",
      "opposition_team_16     1.0839      0.167      6.510      0.000       0.758       1.410\n",
      "opposition_team_17     0.2920      0.174      1.681      0.093      -0.049       0.632\n",
      "opposition_team_18     0.8489      0.167      5.090      0.000       0.522       1.176\n",
      "opposition_team_19     1.4310      0.165      8.678      0.000       1.108       1.754\n",
      "opposition_team_20     0.9623      0.166      5.801      0.000       0.637       1.287\n",
      "own_team_2             0.0166      0.154      0.108      0.914      -0.286       0.319\n",
      "own_team_3            -0.1559      0.157     -0.995      0.320      -0.463       0.151\n",
      "own_team_4            -0.3242      0.158     -2.050      0.040      -0.634      -0.014\n",
      "own_team_5            -0.0056      0.154     -0.036      0.971      -0.307       0.296\n",
      "own_team_6             0.7367      0.150      4.913      0.000       0.443       1.031\n",
      "own_team_7             0.2567      0.153      1.676      0.094      -0.043       0.557\n",
      "own_team_8             0.3744      0.150      2.490      0.013       0.080       0.669\n",
      "own_team_9            -0.8568      0.170     -5.034      0.000      -1.190      -0.523\n",
      "own_team_10           -0.3810      0.159     -2.403      0.016      -0.692      -0.070\n",
      "own_team_11            0.0662      0.152      0.435      0.664      -0.232       0.365\n",
      "own_team_12            1.2277      0.153      8.041      0.000       0.928       1.527\n",
      "own_team_13            1.0064      0.152      6.642      0.000       0.709       1.303\n",
      "own_team_14            0.0140      0.153      0.092      0.927      -0.286       0.314\n",
      "own_team_15            0.1940      0.153      1.268      0.205      -0.106       0.494\n",
      "own_team_16            0.1053      0.155      0.680      0.497      -0.198       0.409\n",
      "own_team_17            0.5825      0.150      3.872      0.000       0.288       0.877\n",
      "own_team_18            0.1182      0.153      0.773      0.440      -0.182       0.418\n",
      "own_team_19           -0.3076      0.156     -1.967      0.049      -0.614      -0.001\n",
      "own_team_20            0.0869      0.153      0.569      0.569      -0.213       0.386\n",
      "======================================================================================\n"
     ]
    }
   ],
   "source": [
    "print(sptm_results.summary())"
   ]
  },
  {
   "cell_type": "markdown",
   "metadata": {
    "heading_collapsed": true,
    "hidden": true
   },
   "source": [
    "### Model fit"
   ]
  },
  {
   "cell_type": "code",
   "execution_count": 44,
   "metadata": {
    "ExecuteTime": {
     "end_time": "2019-04-04T18:48:19.253325Z",
     "start_time": "2019-04-04T18:48:19.230816Z"
    },
    "hidden": true
   },
   "outputs": [
    {
     "data": {
      "text/plain": [
       "9886.923918834633"
      ]
     },
     "execution_count": 44,
     "metadata": {},
     "output_type": "execute_result"
    }
   ],
   "source": [
    "sptm_results.aic"
   ]
  },
  {
   "cell_type": "code",
   "execution_count": 45,
   "metadata": {
    "ExecuteTime": {
     "end_time": "2019-04-04T18:48:19.282620Z",
     "start_time": "2019-04-04T18:48:19.261573Z"
    },
    "hidden": true
   },
   "outputs": [
    {
     "data": {
      "text/plain": [
       "-63325.89951366615"
      ]
     },
     "execution_count": 45,
     "metadata": {},
     "output_type": "execute_result"
    }
   ],
   "source": [
    "sptm_results.bic"
   ]
  },
  {
   "cell_type": "code",
   "execution_count": 46,
   "metadata": {
    "ExecuteTime": {
     "end_time": "2019-04-04T18:48:19.311120Z",
     "start_time": "2019-04-04T18:48:19.285818Z"
    },
    "hidden": true
   },
   "outputs": [
    {
     "data": {
      "text/plain": [
       "(False, 0.47443236683393963)"
      ]
     },
     "execution_count": 46,
     "metadata": {},
     "output_type": "execute_result"
    }
   ],
   "source": [
    "sptm_pearson_results = goodness_fit.pearson_chi_squared_test(sptm_results)\n",
    "sptm_pearson_results"
   ]
  },
  {
   "cell_type": "code",
   "execution_count": 47,
   "metadata": {
    "ExecuteTime": {
     "end_time": "2019-04-04T18:48:19.358947Z",
     "start_time": "2019-04-04T18:48:19.314435Z"
    },
    "hidden": true
   },
   "outputs": [
    {
     "data": {
      "text/plain": [
       "count    8161.000000\n",
       "mean       -0.069287\n",
       "std         1.093864\n",
       "min        -2.092273\n",
       "25%        -0.946923\n",
       "50%        -0.646931\n",
       "75%         1.127643\n",
       "max         2.342404\n",
       "dtype: float64"
      ]
     },
     "execution_count": 47,
     "metadata": {},
     "output_type": "execute_result"
    }
   ],
   "source": [
    "sptm_results.resid_deviance.describe()"
   ]
  },
  {
   "cell_type": "code",
   "execution_count": 48,
   "metadata": {
    "ExecuteTime": {
     "end_time": "2019-04-04T18:48:19.788144Z",
     "start_time": "2019-04-04T18:48:19.368750Z"
    },
    "hidden": true
   },
   "outputs": [
    {
     "data": {
      "image/png": "[encoded data removed]",
      "text/plain": [
       "<Figure size 432x288 with 1 Axes>"
      ]
     },
     "metadata": {
      "needs_background": "light"
     },
     "output_type": "display_data"
    }
   ],
   "source": [
    "plt.figure()\n",
    "plt.hist(sptm_results.resid_deviance)\n",
    "plt.show()"
   ]
  },
  {
   "cell_type": "markdown",
   "metadata": {
    "heading_collapsed": true,
    "hidden": true
   },
   "source": [
    "## Simple Binomial teams minutes model"
   ]
  },
  {
   "cell_type": "markdown",
   "metadata": {
    "heading_collapsed": true,
    "hidden": true
   },
   "source": [
    "### Preparing data"
   ]
  },
  {
   "cell_type": "code",
   "execution_count": 49,
   "metadata": {
    "ExecuteTime": {
     "end_time": "2019-04-04T18:48:19.803674Z",
     "start_time": "2019-04-04T18:48:19.795865Z"
    },
    "hidden": true
   },
   "outputs": [],
   "source": [
    "sptmm_df = element_gameweek_df.copy()"
   ]
  },
  {
   "cell_type": "code",
   "execution_count": 50,
   "metadata": {
    "ExecuteTime": {
     "end_time": "2019-04-04T18:48:19.849690Z",
     "start_time": "2019-04-04T18:48:19.809287Z"
    },
    "hidden": true
   },
   "outputs": [],
   "source": [
    "sptmm_df = player.add_categorical_variables(sptmm_df, 'element_type')\n",
    "sptmm_df = player.add_categorical_variables(sptmm_df, 'opposition_team')\n",
    "sptmm_df = player.add_categorical_variables(sptmm_df, 'own_team')"
   ]
  },
  {
   "cell_type": "code",
   "execution_count": 51,
   "metadata": {
    "ExecuteTime": {
     "end_time": "2019-04-04T18:48:19.862952Z",
     "start_time": "2019-04-04T18:48:19.853086Z"
    },
    "hidden": true
   },
   "outputs": [],
   "source": [
    "sptmm_redundant_columns = [\n",
    "    'row_id', 'assists', 'attempted_passes', 'big_chances_created',\n",
    "    'big_chances_missed', 'bonus', 'bps', 'clean_sheets', 'goals_scored',\n",
    "    'clearances_blocks_interceptions', 'completed_passes', 'creativity',\n",
    "    'dribbles', 'ea_index', 'element', 'errors_leading_to_goal',\n",
    "    'errors_leading_to_goal_attempt', 'fixture', 'fouls', 'goals_conceded',\n",
    "    'ict_index', 'id', 'influence', 'key_passes', 'kickoff_time',\n",
    "    'kickoff_time_formatted', 'loaned_in', 'loaned_out', 'offside',\n",
    "    'open_play_crosses', 'opponent_team', 'own_goals', 'penalties_conceded',\n",
    "    'penalties_missed', 'penalties_saved', 'recoveries', 'red_cards', 'round',\n",
    "    'saves', 'selected', 'tackled', 'tackles', 'target_missed', 'team_a_score',\n",
    "    'team_h_score', 'threat', 'total_points', 'transfers_balance',\n",
    "    'transfers_in', 'transfers_out', 'value', 'winning_goals',\n",
    "    'yellow_cards', 'event', 'team_a', 'team_a_difficulty', 'team_h',\n",
    "    'team_h_difficulty', 'element_type', 'team', 'web_name', 'safe_web_name',\n",
    "    'own_team', 'opposition_team', 'minutes'\n",
    "]"
   ]
  },
  {
   "cell_type": "code",
   "execution_count": 52,
   "metadata": {
    "ExecuteTime": {
     "end_time": "2019-04-04T18:48:19.897136Z",
     "start_time": "2019-04-04T18:48:19.870347Z"
    },
    "hidden": true
   },
   "outputs": [],
   "source": [
    "sptmm_df['log_minutes'] = np.log(sptmm_df['minutes'])"
   ]
  },
  {
   "cell_type": "code",
   "execution_count": 53,
   "metadata": {
    "ExecuteTime": {
     "end_time": "2019-04-04T18:48:19.945485Z",
     "start_time": "2019-04-04T18:48:19.904348Z"
    },
    "hidden": true
   },
   "outputs": [],
   "source": [
    "sptmm_df = player.remove_redundant_columns(sptmm_df, sptmm_redundant_columns)"
   ]
  },
  {
   "cell_type": "code",
   "execution_count": 54,
   "metadata": {
    "ExecuteTime": {
     "end_time": "2019-04-04T18:48:20.004671Z",
     "start_time": "2019-04-04T18:48:19.953770Z"
    },
    "hidden": true
   },
   "outputs": [],
   "source": [
    "sptmm_response_df, sptmm_explanatory_df = player.get_response_explanatory_dfs(sptmm_df, 'clean_sheets_no_time')"
   ]
  },
  {
   "cell_type": "code",
   "execution_count": 55,
   "metadata": {
    "ExecuteTime": {
     "end_time": "2019-04-04T18:48:20.020973Z",
     "start_time": "2019-04-04T18:48:20.009670Z"
    },
    "hidden": true
   },
   "outputs": [
    {
     "data": {
      "text/plain": [
       "Index(['const', 'was_home', 'element_type_3', 'element_type_4',\n",
       "       'opposition_team_2', 'opposition_team_3', 'opposition_team_4',\n",
       "       'opposition_team_5', 'opposition_team_6', 'opposition_team_7',\n",
       "       'opposition_team_8', 'opposition_team_9', 'opposition_team_10',\n",
       "       'opposition_team_11', 'opposition_team_12', 'opposition_team_13',\n",
       "       'opposition_team_14', 'opposition_team_15', 'opposition_team_16',\n",
       "       'opposition_team_17', 'opposition_team_18', 'opposition_team_19',\n",
       "       'opposition_team_20', 'own_team_2', 'own_team_3', 'own_team_4',\n",
       "       'own_team_5', 'own_team_6', 'own_team_7', 'own_team_8', 'own_team_9',\n",
       "       'own_team_10', 'own_team_11', 'own_team_12', 'own_team_13',\n",
       "       'own_team_14', 'own_team_15', 'own_team_16', 'own_team_17',\n",
       "       'own_team_18', 'own_team_19', 'own_team_20', 'log_minutes'],\n",
       "      dtype='object')"
      ]
     },
     "execution_count": 55,
     "metadata": {},
     "output_type": "execute_result"
    }
   ],
   "source": [
    "sptmm_explanatory_df.columns"
   ]
  },
  {
   "cell_type": "markdown",
   "metadata": {
    "heading_collapsed": true,
    "hidden": true
   },
   "source": [
    "### Fitting model"
   ]
  },
  {
   "cell_type": "code",
   "execution_count": 56,
   "metadata": {
    "ExecuteTime": {
     "end_time": "2019-04-04T18:48:20.506021Z",
     "start_time": "2019-04-04T18:48:20.025237Z"
    },
    "hidden": true
   },
   "outputs": [],
   "source": [
    "sptmm_results = sm.GLM(\n",
    "    sptmm_response_df,\n",
    "    sptmm_explanatory_df,\n",
    "    family=sm.families.Binomial(),\n",
    "    missing='drop'\n",
    ").fit()"
   ]
  },
  {
   "cell_type": "code",
   "execution_count": 57,
   "metadata": {
    "ExecuteTime": {
     "end_time": "2019-04-04T18:48:20.619093Z",
     "start_time": "2019-04-04T18:48:20.520424Z"
    },
    "hidden": true,
    "scrolled": true
   },
   "outputs": [
    {
     "name": "stdout",
     "output_type": "stream",
     "text": [
      "                  Generalized Linear Model Regression Results                   \n",
      "================================================================================\n",
      "Dep. Variable:     clean_sheets_no_time   No. Observations:                 8161\n",
      "Model:                              GLM   Df Residuals:                     8118\n",
      "Model Family:                  Binomial   Df Model:                           42\n",
      "Link Function:                    logit   Scale:                             1.0\n",
      "Method:                            IRLS   Log-Likelihood:                -4359.3\n",
      "Date:                  Thu, 04 Apr 2019   Deviance:                       8718.7\n",
      "Time:                          18:48:20   Pearson chi2:                 8.53e+03\n",
      "No. Iterations:                       5                                         \n",
      "======================================================================================\n",
      "                         coef    std err          z      P>|z|      [0.025      0.975]\n",
      "--------------------------------------------------------------------------------------\n",
      "const                  2.3167      0.246      9.403      0.000       1.834       2.800\n",
      "was_home               0.4360      0.053      8.276      0.000       0.333       0.539\n",
      "element_type_3         0.1465      0.059      2.470      0.014       0.030       0.263\n",
      "element_type_4         0.2009      0.081      2.486      0.013       0.042       0.359\n",
      "opposition_team_2      1.2569      0.179      7.027      0.000       0.906       1.607\n",
      "opposition_team_3      1.2706      0.181      7.030      0.000       0.916       1.625\n",
      "opposition_team_4      1.2345      0.179      6.889      0.000       0.883       1.586\n",
      "opposition_team_5      1.7554      0.178      9.863      0.000       1.407       2.104\n",
      "opposition_team_6      0.8242      0.184      4.485      0.000       0.464       1.184\n",
      "opposition_team_7      1.1897      0.180      6.602      0.000       0.836       1.543\n",
      "opposition_team_8      0.9118      0.182      5.023      0.000       0.556       1.268\n",
      "opposition_team_9      1.6017      0.177      9.044      0.000       1.255       1.949\n",
      "opposition_team_10     2.2416      0.179     12.539      0.000       1.891       2.592\n",
      "opposition_team_11     0.5483      0.186      2.946      0.003       0.184       0.913\n",
      "opposition_team_12     0.0796      0.195      0.409      0.683      -0.302       0.461\n",
      "opposition_team_13    -0.0949      0.199     -0.477      0.634      -0.485       0.295\n",
      "opposition_team_14     0.1272      0.194      0.656      0.512      -0.253       0.508\n",
      "opposition_team_15     1.5905      0.178      8.941      0.000       1.242       1.939\n",
      "opposition_team_16     1.2210      0.181      6.761      0.000       0.867       1.575\n",
      "opposition_team_17     0.2682      0.190      1.410      0.159      -0.105       0.641\n",
      "opposition_team_18     0.9829      0.181      5.440      0.000       0.629       1.337\n",
      "opposition_team_19     1.6249      0.178      9.110      0.000       1.275       1.974\n",
      "opposition_team_20     1.0935      0.180      6.079      0.000       0.741       1.446\n",
      "own_team_2            -0.0403      0.165     -0.244      0.807      -0.365       0.284\n",
      "own_team_3            -0.1839      0.167     -1.102      0.270      -0.511       0.143\n",
      "own_team_4            -0.3327      0.168     -1.975      0.048      -0.663      -0.002\n",
      "own_team_5            -0.0964      0.165     -0.585      0.559      -0.420       0.227\n",
      "own_team_6             0.7747      0.158      4.899      0.000       0.465       1.085\n",
      "own_team_7             0.2504      0.164      1.530      0.126      -0.070       0.571\n",
      "own_team_8             0.3256      0.161      2.027      0.043       0.011       0.640\n",
      "own_team_9            -1.0379      0.182     -5.699      0.000      -1.395      -0.681\n",
      "own_team_10           -0.5088      0.170     -2.988      0.003      -0.843      -0.175\n",
      "own_team_11           -0.0082      0.163     -0.050      0.960      -0.328       0.312\n",
      "own_team_12            1.3155      0.161      8.156      0.000       0.999       1.632\n",
      "own_team_13            1.0634      0.160      6.648      0.000       0.750       1.377\n",
      "own_team_14           -0.0793      0.164     -0.485      0.628      -0.400       0.241\n",
      "own_team_15            0.1961      0.163      1.204      0.228      -0.123       0.515\n",
      "own_team_16            0.0748      0.166      0.452      0.651      -0.250       0.399\n",
      "own_team_17            0.5646      0.160      3.522      0.000       0.250       0.879\n",
      "own_team_18            0.0816      0.164      0.498      0.619      -0.240       0.403\n",
      "own_team_19           -0.3846      0.166     -2.317      0.021      -0.710      -0.059\n",
      "own_team_20           -0.0284      0.163     -0.174      0.862      -0.349       0.292\n",
      "log_minutes           -1.0624      0.039    -27.218      0.000      -1.139      -0.986\n",
      "======================================================================================\n"
     ]
    }
   ],
   "source": [
    "print(sptmm_results.summary())"
   ]
  },
  {
   "cell_type": "markdown",
   "metadata": {
    "heading_collapsed": true,
    "hidden": true
   },
   "source": [
    "### Model fit"
   ]
  },
  {
   "cell_type": "code",
   "execution_count": 58,
   "metadata": {
    "ExecuteTime": {
     "end_time": "2019-04-04T18:48:20.653350Z",
     "start_time": "2019-04-04T18:48:20.638462Z"
    },
    "hidden": true
   },
   "outputs": [
    {
     "data": {
      "text/plain": [
       "8804.653348650158"
      ]
     },
     "execution_count": 58,
     "metadata": {},
     "output_type": "execute_result"
    }
   ],
   "source": [
    "sptmm_results.aic"
   ]
  },
  {
   "cell_type": "code",
   "execution_count": 59,
   "metadata": {
    "ExecuteTime": {
     "end_time": "2019-04-04T18:48:20.680727Z",
     "start_time": "2019-04-04T18:48:20.656618Z"
    },
    "hidden": true
   },
   "outputs": [
    {
     "data": {
      "text/plain": [
       "-64401.16296186115"
      ]
     },
     "execution_count": 59,
     "metadata": {},
     "output_type": "execute_result"
    }
   ],
   "source": [
    "sptmm_results.bic"
   ]
  },
  {
   "cell_type": "code",
   "execution_count": 60,
   "metadata": {
    "ExecuteTime": {
     "end_time": "2019-04-04T18:48:20.714894Z",
     "start_time": "2019-04-04T18:48:20.683565Z"
    },
    "hidden": true
   },
   "outputs": [
    {
     "data": {
      "text/plain": [
       "(True, 0.0007381941636859235)"
      ]
     },
     "execution_count": 60,
     "metadata": {},
     "output_type": "execute_result"
    }
   ],
   "source": [
    "sptmm_pearson_results = goodness_fit.pearson_chi_squared_test(sptmm_results)\n",
    "sptmm_pearson_results"
   ]
  },
  {
   "cell_type": "code",
   "execution_count": 61,
   "metadata": {
    "ExecuteTime": {
     "end_time": "2019-04-04T18:48:20.757207Z",
     "start_time": "2019-04-04T18:48:20.718194Z"
    },
    "hidden": true
   },
   "outputs": [
    {
     "data": {
      "text/plain": [
       "count    8161.000000\n",
       "mean       -0.071571\n",
       "std         1.031184\n",
       "min        -3.289014\n",
       "25%        -0.837748\n",
       "50%        -0.518673\n",
       "75%         0.962071\n",
       "max         2.288924\n",
       "dtype: float64"
      ]
     },
     "execution_count": 61,
     "metadata": {},
     "output_type": "execute_result"
    }
   ],
   "source": [
    "sptmm_results.resid_deviance.describe()"
   ]
  },
  {
   "cell_type": "code",
   "execution_count": 62,
   "metadata": {
    "ExecuteTime": {
     "end_time": "2019-04-04T18:48:21.151209Z",
     "start_time": "2019-04-04T18:48:20.766245Z"
    },
    "hidden": true
   },
   "outputs": [
    {
     "data": {
      "image/png": "[encoded data removed]",
      "text/plain": [
       "<Figure size 432x288 with 1 Axes>"
      ]
     },
     "metadata": {
      "needs_background": "light"
     },
     "output_type": "display_data"
    }
   ],
   "source": [
    "plt.figure()\n",
    "plt.hist(sptmm_results.resid_deviance)\n",
    "plt.show()"
   ]
  },
  {
   "cell_type": "markdown",
   "metadata": {
    "heading_collapsed": true,
    "hidden": true
   },
   "source": [
    "## Simple Binomial player model"
   ]
  },
  {
   "cell_type": "markdown",
   "metadata": {
    "heading_collapsed": true,
    "hidden": true
   },
   "source": [
    "### Preparing data"
   ]
  },
  {
   "cell_type": "code",
   "execution_count": 63,
   "metadata": {
    "ExecuteTime": {
     "end_time": "2019-04-04T18:48:21.180349Z",
     "start_time": "2019-04-04T18:48:21.173984Z"
    },
    "hidden": true
   },
   "outputs": [],
   "source": [
    "sppm_df = element_gameweek_df.copy()"
   ]
  },
  {
   "cell_type": "code",
   "execution_count": 64,
   "metadata": {
    "ExecuteTime": {
     "end_time": "2019-04-04T18:48:21.232700Z",
     "start_time": "2019-04-04T18:48:21.183858Z"
    },
    "hidden": true
   },
   "outputs": [],
   "source": [
    "sppm_df = player.add_categorical_variables(sppm_df, 'opposition_team')\n",
    "sppm_df = player.add_categorical_variables(sppm_df, 'element')"
   ]
  },
  {
   "cell_type": "code",
   "execution_count": 65,
   "metadata": {
    "ExecuteTime": {
     "end_time": "2019-04-04T18:48:21.246111Z",
     "start_time": "2019-04-04T18:48:21.236093Z"
    },
    "hidden": true
   },
   "outputs": [],
   "source": [
    "sppm_redundant_columns = [\n",
    "    'row_id', 'assists', 'attempted_passes', 'big_chances_created',\n",
    "    'big_chances_missed', 'bonus', 'bps', 'clean_sheets', 'goals_scored',\n",
    "    'clearances_blocks_interceptions', 'completed_passes', 'creativity',\n",
    "    'dribbles', 'ea_index', 'element', 'errors_leading_to_goal',\n",
    "    'errors_leading_to_goal_attempt', 'fixture', 'fouls', 'goals_conceded',\n",
    "    'ict_index', 'id', 'influence', 'key_passes', 'kickoff_time',\n",
    "    'kickoff_time_formatted', 'loaned_in', 'loaned_out', 'minutes', 'offside',\n",
    "    'open_play_crosses', 'opponent_team', 'own_goals', 'penalties_conceded',\n",
    "    'penalties_missed', 'penalties_saved', 'recoveries', 'red_cards', 'round',\n",
    "    'saves', 'selected', 'tackled', 'tackles', 'target_missed', 'team_a_score',\n",
    "    'team_h_score', 'threat', 'total_points', 'transfers_balance',\n",
    "    'transfers_in', 'transfers_out', 'value', 'winning_goals',\n",
    "    'yellow_cards', 'event', 'team_a', 'team_a_difficulty', 'team_h',\n",
    "    'team_h_difficulty', 'element_type', 'team', 'web_name', 'safe_web_name',\n",
    "    'own_team', 'opposition_team'\n",
    "]"
   ]
  },
  {
   "cell_type": "code",
   "execution_count": 66,
   "metadata": {
    "ExecuteTime": {
     "end_time": "2019-04-04T18:48:21.292642Z",
     "start_time": "2019-04-04T18:48:21.249106Z"
    },
    "hidden": true
   },
   "outputs": [],
   "source": [
    "sppm_df = player.remove_redundant_columns(sppm_df, sppm_redundant_columns)"
   ]
  },
  {
   "cell_type": "code",
   "execution_count": 67,
   "metadata": {
    "ExecuteTime": {
     "end_time": "2019-04-04T18:48:21.669833Z",
     "start_time": "2019-04-04T18:48:21.301201Z"
    },
    "hidden": true
   },
   "outputs": [],
   "source": [
    "sppm_response_df, sppm_explanatory_df = player.get_response_explanatory_dfs(sppm_df, 'clean_sheets_no_time')"
   ]
  },
  {
   "cell_type": "code",
   "execution_count": 68,
   "metadata": {
    "ExecuteTime": {
     "end_time": "2019-04-04T18:48:21.682677Z",
     "start_time": "2019-04-04T18:48:21.673355Z"
    },
    "hidden": true
   },
   "outputs": [
    {
     "data": {
      "text/plain": [
       "Index(['const', 'was_home', 'opposition_team_2', 'opposition_team_3',\n",
       "       'opposition_team_4', 'opposition_team_5', 'opposition_team_6',\n",
       "       'opposition_team_7', 'opposition_team_8', 'opposition_team_9',\n",
       "       ...\n",
       "       'element_592', 'element_593', 'element_594', 'element_599',\n",
       "       'element_601', 'element_602', 'element_603', 'element_605',\n",
       "       'element_607', 'element_608'],\n",
       "      dtype='object', length=479)"
      ]
     },
     "execution_count": 68,
     "metadata": {},
     "output_type": "execute_result"
    }
   ],
   "source": [
    "sppm_explanatory_df.columns"
   ]
  },
  {
   "cell_type": "markdown",
   "metadata": {
    "heading_collapsed": true,
    "hidden": true
   },
   "source": [
    "### Fitting model"
   ]
  },
  {
   "cell_type": "code",
   "execution_count": 69,
   "metadata": {
    "ExecuteTime": {
     "end_time": "2019-04-04T18:48:45.265010Z",
     "start_time": "2019-04-04T18:48:21.690008Z"
    },
    "hidden": true
   },
   "outputs": [],
   "source": [
    "sppm_results = sm.GLM(\n",
    "    sppm_response_df,\n",
    "    sppm_explanatory_df,\n",
    "    family=sm.families.Binomial(),\n",
    "    missing='drop'\n",
    ").fit()"
   ]
  },
  {
   "cell_type": "code",
   "execution_count": 70,
   "metadata": {
    "ExecuteTime": {
     "end_time": "2019-04-04T18:48:45.542518Z",
     "start_time": "2019-04-04T18:48:45.274308Z"
    },
    "hidden": true
   },
   "outputs": [
    {
     "name": "stdout",
     "output_type": "stream",
     "text": [
      "                  Generalized Linear Model Regression Results                   \n",
      "================================================================================\n",
      "Dep. Variable:     clean_sheets_no_time   No. Observations:                 8161\n",
      "Model:                              GLM   Df Residuals:                     7682\n",
      "Model Family:                  Binomial   Df Model:                          478\n",
      "Link Function:                    logit   Scale:                             1.0\n",
      "Method:                            IRLS   Log-Likelihood:                -4625.8\n",
      "Date:                  Thu, 04 Apr 2019   Deviance:                       9251.5\n",
      "Time:                          18:48:45   Pearson chi2:                 7.98e+03\n",
      "No. Iterations:                      23                                         \n",
      "======================================================================================\n",
      "                         coef    std err          z      P>|z|      [0.025      0.975]\n",
      "--------------------------------------------------------------------------------------\n",
      "const                 -2.3532      0.706     -3.331      0.001      -3.738      -0.969\n",
      "was_home               0.3976      0.051      7.791      0.000       0.298       0.498\n",
      "opposition_team_2      1.2539      0.173      7.238      0.000       0.914       1.593\n",
      "opposition_team_3      1.1908      0.176      6.766      0.000       0.846       1.536\n",
      "opposition_team_4      1.2157      0.175      6.964      0.000       0.874       1.558\n",
      "opposition_team_5      1.6333      0.174      9.370      0.000       1.292       1.975\n",
      "opposition_team_6      0.8371      0.176      4.748      0.000       0.492       1.183\n",
      "opposition_team_7      1.1851      0.175      6.789      0.000       0.843       1.527\n",
      "opposition_team_8      0.8908      0.176      5.072      0.000       0.547       1.235\n",
      "opposition_team_9      1.5493      0.173      8.969      0.000       1.211       1.888\n",
      "opposition_team_10     2.2029      0.175     12.557      0.000       1.859       2.547\n",
      "opposition_team_11     0.5661      0.180      3.153      0.002       0.214       0.918\n",
      "opposition_team_12     0.1767      0.186      0.950      0.342      -0.188       0.541\n",
      "opposition_team_13    -0.0917      0.192     -0.477      0.633      -0.468       0.285\n",
      "opposition_team_14     0.2514      0.185      1.360      0.174      -0.111       0.614\n",
      "opposition_team_15     1.5260      0.173      8.822      0.000       1.187       1.865\n",
      "opposition_team_16     1.2007      0.175      6.847      0.000       0.857       1.544\n",
      "opposition_team_17     0.3388      0.183      1.850      0.064      -0.020       0.698\n",
      "opposition_team_18     0.9600      0.175      5.482      0.000       0.617       1.303\n",
      "opposition_team_19     1.5462      0.174      8.892      0.000       1.205       1.887\n",
      "opposition_team_20     1.0322      0.175      5.911      0.000       0.690       1.374\n",
      "element_4              0.0269      0.876      0.031      0.975      -1.689       1.743\n",
      "element_5              0.2513      0.871      0.288      0.773      -1.456       1.959\n",
      "element_6             -0.1383      1.058     -0.131      0.896      -2.211       1.934\n",
      "element_7             -0.1635      0.846     -0.193      0.847      -1.822       1.495\n",
      "element_8             -0.0855      0.880     -0.097      0.923      -1.810       1.639\n",
      "element_9             -0.6268      0.887     -0.706      0.480      -2.366       1.112\n",
      "element_10            27.0109   1.31e+05      0.000      1.000   -2.57e+05    2.57e+05\n",
      "element_11             0.0277      0.988      0.028      0.978      -1.908       1.964\n",
      "element_12             0.1019      0.855      0.119      0.905      -1.573       1.777\n",
      "element_13             0.3087      0.857      0.360      0.719      -1.371       1.989\n",
      "element_14             2.0969      0.821      2.553      0.011       0.487       3.707\n",
      "element_15             0.7776      0.799      0.973      0.330      -0.788       2.344\n",
      "element_16             1.9733      1.326      1.488      0.137      -0.625       4.572\n",
      "element_17            -0.1022      0.843     -0.121      0.903      -1.754       1.550\n",
      "element_18             0.2156      0.862      0.250      0.803      -1.475       1.906\n",
      "element_20             0.4625      0.952      0.486      0.627      -1.403       2.328\n",
      "element_21             1.4960      1.016      1.472      0.141      -0.495       3.487\n",
      "element_22             0.6571      0.794      0.827      0.408      -0.900       2.214\n",
      "element_23             0.3810      0.801      0.476      0.634      -1.188       1.950\n",
      "element_26             0.5197      0.873      0.596      0.551      -1.191       2.230\n",
      "element_27             0.1279      0.830      0.154      0.878      -1.500       1.755\n",
      "element_28             0.1659      0.860      0.193      0.847      -1.519       1.851\n",
      "element_29             0.3847      0.841      0.457      0.648      -1.265       2.034\n",
      "element_30             2.0113      1.200      1.676      0.094      -0.341       4.364\n",
      "element_31             0.0194      0.812      0.024      0.981      -1.573       1.611\n",
      "element_32           -22.5189   1.31e+05     -0.000      1.000   -2.57e+05    2.57e+05\n",
      "element_33             0.4123      0.827      0.498      0.618      -1.209       2.033\n",
      "element_35             0.3586      0.885      0.405      0.685      -1.375       2.093\n",
      "element_36             1.2635      0.836      1.511      0.131      -0.375       2.902\n",
      "element_37             0.6778      0.834      0.813      0.416      -0.956       2.312\n",
      "element_38             0.6532      0.869      0.752      0.452      -1.050       2.356\n",
      "element_39             1.3379      0.905      1.479      0.139      -0.435       3.111\n",
      "element_40             0.0194      0.812      0.024      0.981      -1.573       1.611\n",
      "element_42             0.4595      0.816      0.563      0.573      -1.140       2.059\n",
      "element_43             0.1347      0.836      0.161      0.872      -1.503       1.772\n",
      "element_44             1.8759      0.841      2.231      0.026       0.228       3.524\n",
      "element_45             0.3530      0.810      0.436      0.663      -1.235       1.941\n",
      "element_46             1.8926      1.355      1.397      0.162      -0.763       4.548\n",
      "element_48            -0.1203      0.824     -0.146      0.884      -1.734       1.494\n",
      "element_49            -0.2363      0.840     -0.281      0.778      -1.882       1.410\n",
      "element_50             0.7937      0.977      0.812      0.417      -1.121       2.708\n",
      "element_51             0.0333      0.869      0.038      0.969      -1.670       1.737\n",
      "element_54            -0.8225      1.294     -0.636      0.525      -3.358       1.713\n",
      "element_55             0.1638      0.830      0.197      0.844      -1.463       1.791\n",
      "element_56             0.0309      0.846      0.037      0.971      -1.627       1.689\n",
      "element_57             1.3575      0.912      1.489      0.136      -0.429       3.144\n",
      "element_58             0.1320      0.812      0.163      0.871      -1.459       1.723\n",
      "element_59            -0.1777      0.901     -0.197      0.844      -1.944       1.589\n",
      "element_60            -0.6900      0.888     -0.777      0.437      -2.430       1.050\n",
      "element_61             1.5861      0.960      1.652      0.098      -0.295       3.467\n",
      "element_62             0.6678      0.791      0.844      0.399      -0.883       2.219\n",
      "element_65             1.7496      0.822      2.129      0.033       0.139       3.361\n",
      "element_66             1.4845      0.861      1.725      0.085      -0.202       3.171\n",
      "element_69            -0.0921      0.921     -0.100      0.920      -1.896       1.712\n",
      "element_70            -0.2276      0.821     -0.277      0.782      -1.836       1.381\n",
      "element_71             0.2874      1.410      0.204      0.838      -2.476       3.051\n",
      "element_72            -0.0909      0.825     -0.110      0.912      -1.708       1.526\n",
      "element_73            -0.3549      1.327     -0.268      0.789      -2.955       2.245\n",
      "element_74            -0.0416      0.811     -0.051      0.959      -1.631       1.548\n",
      "element_75            -0.1712      0.904     -0.190      0.850      -1.942       1.600\n",
      "element_76             0.2802      0.822      0.341      0.733      -1.332       1.892\n",
      "element_77            -0.4520      1.318     -0.343      0.732      -3.035       2.131\n",
      "element_78             0.4967      0.816      0.609      0.543      -1.102       2.095\n",
      "element_79             0.7893      0.890      0.887      0.375      -0.954       2.533\n",
      "element_80            -0.0318      0.827     -0.038      0.969      -1.652       1.589\n",
      "element_82            -0.1753      0.822     -0.213      0.831      -1.787       1.436\n",
      "element_83            -0.0521      0.915     -0.057      0.955      -1.846       1.742\n",
      "element_84             0.6939      0.842      0.824      0.410      -0.956       2.344\n",
      "element_85             0.9526      0.789      1.208      0.227      -0.593       2.498\n",
      "element_87             0.1303      0.803      0.162      0.871      -1.444       1.705\n",
      "element_90            -0.0016      0.827     -0.002      0.998      -1.623       1.620\n",
      "element_91            -0.0265      0.826     -0.032      0.974      -1.646       1.593\n",
      "element_92             0.1779      0.804      0.221      0.825      -1.397       1.753\n",
      "element_94             0.1625      0.836      0.194      0.846      -1.475       1.800\n",
      "element_95             0.6844      0.902      0.759      0.448      -1.083       2.452\n",
      "element_96             0.5594      1.467      0.381      0.703      -2.315       3.434\n",
      "element_98             0.2731      0.822      0.332      0.740      -1.337       1.883\n",
      "element_99             0.9075      0.807      1.125      0.261      -0.674       2.489\n",
      "element_100            1.0482      0.893      1.173      0.241      -0.703       2.799\n",
      "element_101            0.1634      0.818      0.200      0.842      -1.441       1.768\n",
      "element_102            0.3809      0.840      0.453      0.650      -1.266       2.028\n",
      "element_104            1.2913      1.704      0.758      0.448      -2.048       4.631\n",
      "element_105            1.1052      0.936      1.181      0.238      -0.729       2.939\n",
      "element_106            0.3489      0.822      0.424      0.671      -1.263       1.960\n",
      "element_107            0.2734      0.926      0.295      0.768      -1.542       2.089\n",
      "element_109            1.7617      1.161      1.517      0.129      -0.514       4.037\n",
      "element_110            1.2389      0.819      1.513      0.130      -0.366       2.844\n",
      "element_113            0.7210      0.787      0.916      0.360      -0.822       2.264\n",
      "element_114           25.3730   1.31e+05      0.000      1.000   -2.57e+05    2.57e+05\n",
      "element_115            0.8544      0.800      1.068      0.285      -0.713       2.422\n",
      "element_116            0.8456      0.792      1.067      0.286      -0.707       2.399\n",
      "element_117            0.9646      1.684      0.573      0.567      -2.336       4.265\n",
      "element_118            0.6015      0.796      0.756      0.450      -0.958       2.161\n",
      "element_119            0.6698      1.249      0.536      0.592      -1.778       3.117\n",
      "element_120           25.0694   7.51e+04      0.000      1.000   -1.47e+05    1.47e+05\n",
      "element_121            0.9058      1.047      0.865      0.387      -1.147       2.958\n",
      "element_122            1.0634      0.788      1.350      0.177      -0.481       2.607\n",
      "element_123            2.7022      1.300      2.078      0.038       0.153       5.251\n",
      "element_124            1.1797      0.793      1.488      0.137      -0.374       2.734\n",
      "element_125            1.3690      0.805      1.700      0.089      -0.209       2.947\n",
      "element_126            0.7935      0.790      1.005      0.315      -0.754       2.341\n",
      "element_127            1.7380      0.822      2.114      0.035       0.126       3.350\n",
      "element_131            3.0052      1.319      2.279      0.023       0.421       5.589\n",
      "element_132            2.3901      0.908      2.632      0.008       0.611       4.170\n",
      "element_133            2.8893      0.893      3.237      0.001       1.140       4.639\n",
      "element_134            1.6492      0.874      1.888      0.059      -0.063       3.362\n",
      "element_138            0.5583      0.806      0.693      0.488      -1.021       2.138\n",
      "element_139            1.3786      1.180      1.169      0.242      -0.933       3.690\n",
      "element_140           -0.5628      1.301     -0.433      0.665      -3.113       1.987\n",
      "element_141            0.7261      0.801      0.906      0.365      -0.844       2.296\n",
      "element_142            0.3160      0.798      0.396      0.692      -1.248       1.880\n",
      "element_143            0.4412      0.811      0.544      0.587      -1.149       2.031\n",
      "element_145            0.4239      0.803      0.528      0.598      -1.150       1.998\n",
      "element_146            1.9451      0.954      2.038      0.042       0.074       3.816\n",
      "element_147            0.3160      0.798      0.396      0.692      -1.248       1.880\n",
      "element_148           24.9723   1.31e+05      0.000      1.000   -2.57e+05    2.57e+05\n",
      "element_149            0.3160      0.798      0.396      0.692      -1.248       1.880\n",
      "element_150            0.3160      0.798      0.396      0.692      -1.248       1.880\n",
      "element_151            0.3769      0.811      0.465      0.642      -1.212       1.966\n",
      "element_152            0.9948      0.919      1.083      0.279      -0.806       2.795\n",
      "element_153            2.3179      0.970      2.389      0.017       0.416       4.220\n",
      "element_156           -0.0705      1.134     -0.062      0.950      -2.292       2.151\n",
      "element_157            0.5109      0.820      0.623      0.533      -1.095       2.117\n",
      "element_158            1.8990      1.421      1.336      0.181      -0.886       4.684\n",
      "element_160          -23.9648   5.59e+04     -0.000      1.000    -1.1e+05    1.09e+05\n",
      "element_161           -0.3634      1.072     -0.339      0.735      -2.465       1.738\n",
      "element_162            0.5332      0.802      0.665      0.506      -1.038       2.105\n",
      "element_164            0.8068      0.790      1.022      0.307      -0.741       2.355\n",
      "element_167            1.4164      0.967      1.465      0.143      -0.479       3.311\n",
      "element_168            0.5883      0.806      0.730      0.465      -0.991       2.167\n",
      "element_169            0.7285      0.890      0.819      0.413      -1.016       2.473\n",
      "element_170            1.5552      0.882      1.763      0.078      -0.174       3.284\n",
      "element_172            0.7141      0.788      0.906      0.365      -0.830       2.259\n",
      "element_175            1.7530      0.798      2.197      0.028       0.189       3.317\n",
      "element_176            1.3584      0.896      1.516      0.129      -0.397       3.114\n",
      "element_177            1.4856      0.829      1.792      0.073      -0.139       3.111\n",
      "element_180           -0.7420      0.940     -0.789      0.430      -2.585       1.101\n",
      "element_181           -1.0678      0.931     -1.146      0.252      -2.893       0.758\n",
      "element_182           -0.3844      0.860     -0.447      0.655      -2.071       1.302\n",
      "element_183           -0.2836      0.957     -0.296      0.767      -2.160       1.592\n",
      "element_184           -0.4279      0.857     -0.499      0.617      -2.107       1.251\n",
      "element_185            0.8718      0.929      0.938      0.348      -0.949       2.693\n",
      "element_186            1.3799      0.914      1.509      0.131      -0.412       3.172\n",
      "element_187            2.1615      1.127      1.918      0.055      -0.047       4.370\n",
      "element_189            0.2805      0.939      0.299      0.765      -1.559       2.120\n",
      "element_192           -0.5586      0.853     -0.655      0.512      -2.230       1.112\n",
      "element_193           -0.8362      0.934     -0.895      0.371      -2.667       0.994\n",
      "element_194            0.0244      1.067      0.023      0.982      -2.067       2.116\n",
      "element_195           -0.9519      0.933     -1.020      0.308      -2.781       0.877\n",
      "element_197           -0.2626      0.864     -0.304      0.761      -1.956       1.431\n",
      "element_198           -0.6179      0.887     -0.697      0.486      -2.356       1.120\n",
      "element_199           -0.2444      0.861     -0.284      0.777      -1.932       1.444\n",
      "element_200           -0.3683      1.337     -0.276      0.783      -2.988       2.251\n",
      "element_201            0.2267      0.834      0.272      0.786      -1.409       1.862\n",
      "element_202           -0.2417      0.838     -0.289      0.773      -1.884       1.400\n",
      "element_204            2.5809      1.385      1.863      0.062      -0.134       5.296\n",
      "element_205            1.7721      1.650      1.074      0.283      -1.461       5.005\n",
      "element_206            0.3339      0.819      0.408      0.684      -1.271       1.939\n",
      "element_207            1.3304      1.268      1.049      0.294      -1.156       3.816\n",
      "element_208           -0.8127      1.036     -0.785      0.433      -2.843       1.217\n",
      "element_209            1.4283      1.649      0.866      0.386      -1.804       4.660\n",
      "element_210            0.7057      0.823      0.857      0.391      -0.908       2.319\n",
      "element_211            0.7807      0.804      0.971      0.332      -0.796       2.357\n",
      "element_212           -0.4088      0.946     -0.432      0.666      -2.264       1.446\n",
      "element_215            0.3220      0.852      0.378      0.705      -1.347       1.991\n",
      "element_216            0.3270      1.414      0.231      0.817      -2.444       3.098\n",
      "element_217            1.6964      1.167      1.453      0.146      -0.592       3.984\n",
      "element_219            0.0803      0.813      0.099      0.921      -1.514       1.674\n",
      "element_220           -0.3554      0.862     -0.413      0.680      -2.044       1.333\n",
      "element_221            0.2186      0.813      0.269      0.788      -1.375       1.812\n",
      "element_222            0.4900      0.847      0.579      0.563      -1.169       2.149\n",
      "element_223            2.1699      0.831      2.611      0.009       0.541       3.799\n",
      "element_224            0.9295      0.823      1.129      0.259      -0.685       2.543\n",
      "element_225            1.0607      0.793      1.338      0.181      -0.493       2.614\n",
      "element_226            0.3660      1.022      0.358      0.720      -1.636       2.368\n",
      "element_227            0.1495      0.803      0.186      0.852      -1.424       1.723\n",
      "element_228            1.0713      1.005      1.065      0.287      -0.899       3.042\n",
      "element_230            2.0258      1.167      1.736      0.083      -0.262       4.313\n",
      "element_231            1.5126      1.632      0.927      0.354      -1.687       4.712\n",
      "element_232          -23.7622   1.31e+05     -0.000      1.000   -2.57e+05    2.57e+05\n",
      "element_233           -0.3254      0.836     -0.389      0.697      -1.964       1.313\n",
      "element_234            0.6599      0.801      0.824      0.410      -0.910       2.230\n",
      "element_235            2.6267      0.906      2.898      0.004       0.850       4.403\n",
      "element_236            1.0103      0.804      1.256      0.209      -0.566       2.587\n",
      "element_239            1.8085      0.974      1.857      0.063      -0.100       3.717\n",
      "element_240          -23.8646   9.02e+04     -0.000      1.000   -1.77e+05    1.77e+05\n",
      "element_241            0.8793      0.897      0.980      0.327      -0.879       2.638\n",
      "element_242            2.0922      0.936      2.235      0.025       0.257       3.927\n",
      "element_243            1.4914      0.848      1.758      0.079      -0.172       3.154\n",
      "element_245            1.4695      0.820      1.792      0.073      -0.138       3.077\n",
      "element_246            1.3440      0.785      1.712      0.087      -0.195       2.883\n",
      "element_247            1.5324      0.792      1.935      0.053      -0.020       3.085\n",
      "element_249            1.9466      0.814      2.391      0.017       0.351       3.542\n",
      "element_250            2.2588      0.965      2.342      0.019       0.368       4.149\n",
      "element_251            1.3904      0.791      1.759      0.079      -0.159       2.940\n",
      "element_252            1.6229      0.797      2.036      0.042       0.061       3.185\n",
      "element_253            1.4814      0.786      1.885      0.059      -0.059       3.022\n",
      "element_254            1.5453      0.807      1.914      0.056      -0.037       3.128\n",
      "element_255            1.6586      0.824      2.012      0.044       0.043       3.274\n",
      "element_256            2.0914      0.851      2.458      0.014       0.424       3.759\n",
      "element_257            2.0236      0.800      2.530      0.011       0.456       3.591\n",
      "element_258            0.9932      0.839      1.184      0.237      -0.651       2.638\n",
      "element_259            0.2445      1.143      0.214      0.831      -1.995       2.484\n",
      "element_262            1.1837      0.837      1.415      0.157      -0.456       2.824\n",
      "element_263            1.3543      0.922      1.469      0.142      -0.453       3.161\n",
      "element_264            1.4899      0.872      1.708      0.088      -0.220       3.200\n",
      "element_265            1.5383      0.803      1.916      0.055      -0.036       3.112\n",
      "element_266            0.6487      0.981      0.661      0.508      -1.274       2.572\n",
      "element_267            1.0000      1.003      0.997      0.319      -0.966       2.966\n",
      "element_268            1.1642      0.794      1.466      0.143      -0.392       2.720\n",
      "element_269            1.1046      0.930      1.187      0.235      -0.719       2.928\n",
      "element_270            1.4457      0.798      1.812      0.070      -0.118       3.010\n",
      "element_271            1.3134      0.801      1.640      0.101      -0.256       2.883\n",
      "element_272            1.1555      0.801      1.442      0.149      -0.415       2.726\n",
      "element_273            3.2039      1.040      3.082      0.002       1.166       5.242\n",
      "element_274            1.4873      0.812      1.831      0.067      -0.105       3.079\n",
      "element_275            1.5351      0.810      1.896      0.058      -0.052       3.122\n",
      "element_276            1.0987      0.790      1.391      0.164      -0.450       2.647\n",
      "element_277           25.3903    3.8e+04      0.001      0.999   -7.45e+04    7.45e+04\n",
      "element_279            1.5260      0.994      1.535      0.125      -0.422       3.474\n",
      "element_280            1.3200      0.802      1.645      0.100      -0.252       2.892\n",
      "element_281            1.8850      0.823      2.289      0.022       0.271       3.499\n",
      "element_284            0.0627      0.871      0.072      0.943      -1.645       1.770\n",
      "element_285            0.3418      0.901      0.379      0.704      -1.424       2.108\n",
      "element_286           -0.1169      0.841     -0.139      0.889      -1.766       1.532\n",
      "element_287          -23.5281   7.19e+04     -0.000      1.000   -1.41e+05    1.41e+05\n",
      "element_288            0.7651      1.154      0.663      0.507      -1.497       3.027\n",
      "element_289            0.9703      1.176      0.825      0.409      -1.335       3.276\n",
      "element_291            1.0868      0.933      1.165      0.244      -0.742       2.915\n",
      "element_292           -0.0561      0.842     -0.067      0.947      -1.706       1.594\n",
      "element_293           -0.6162      0.890     -0.693      0.489      -2.360       1.128\n",
      "element_294            0.4387      0.949      0.462      0.644      -1.421       2.298\n",
      "element_295            0.8277      0.858      0.965      0.335      -0.854       2.509\n",
      "element_296           -0.0807      0.845     -0.096      0.924      -1.737       1.575\n",
      "element_297            1.1511      0.842      1.368      0.171      -0.499       2.801\n",
      "element_298            0.9745      0.890      1.095      0.274      -0.770       2.719\n",
      "element_299            1.0166      0.837      1.214      0.225      -0.625       2.658\n",
      "element_300            0.8301      0.815      1.018      0.309      -0.768       2.428\n",
      "element_301            0.9763      0.818      1.193      0.233      -0.627       2.580\n",
      "element_302            0.2864      0.806      0.355      0.722      -1.293       1.866\n",
      "element_303            0.7616      0.917      0.831      0.406      -1.036       2.559\n",
      "element_304            0.4084      0.901      0.453      0.650      -1.358       2.175\n",
      "element_305            0.7661      0.804      0.953      0.341      -0.809       2.342\n",
      "element_306            0.4570      0.808      0.566      0.572      -1.127       2.041\n",
      "element_310           -0.1079      0.841     -0.128      0.898      -1.756       1.540\n",
      "element_311            0.1810      0.985      0.184      0.854      -1.749       2.111\n",
      "element_312            0.6919      0.809      0.855      0.393      -0.895       2.279\n",
      "element_313            0.9991      0.836      1.195      0.232      -0.640       2.638\n",
      "element_314            0.0885      0.994      0.089      0.929      -1.861       2.038\n",
      "element_315            1.3300      0.893      1.489      0.137      -0.421       3.081\n",
      "element_317            0.2441      0.807      0.303      0.762      -1.337       1.825\n",
      "element_318            1.0358      0.896      1.156      0.248      -0.721       2.792\n",
      "element_319            0.5462      0.813      0.671      0.502      -1.048       2.140\n",
      "element_320            1.3837      0.826      1.675      0.094      -0.235       3.003\n",
      "element_321            1.4177      0.980      1.446      0.148      -0.504       3.339\n",
      "element_323            1.0960      0.846      1.295      0.195      -0.562       2.755\n",
      "element_324            0.2056      0.931      0.221      0.825      -1.619       2.030\n",
      "element_326            0.5311      0.795      0.668      0.504      -1.028       2.090\n",
      "element_327            1.2448      0.870      1.430      0.153      -0.461       2.951\n",
      "element_330            0.5577      0.870      0.641      0.521      -1.146       2.262\n",
      "element_331           -0.0799      0.972     -0.082      0.934      -1.985       1.825\n",
      "element_332            0.3176      0.878      0.362      0.717      -1.403       2.038\n",
      "element_333            0.5067      0.868      0.584      0.559      -1.195       2.208\n",
      "element_335           -0.1129      0.909     -0.124      0.901      -1.895       1.669\n",
      "element_336            0.3539      0.927      0.382      0.703      -1.463       2.170\n",
      "element_337            0.7586      1.444      0.525      0.599      -2.072       3.589\n",
      "element_338            0.1925      0.879      0.219      0.827      -1.530       1.915\n",
      "element_339            0.2781      0.836      0.333      0.739      -1.360       1.916\n",
      "element_340           -0.4244      0.892     -0.476      0.634      -2.173       1.324\n",
      "element_342           25.9671    9.2e+04      0.000      1.000    -1.8e+05     1.8e+05\n",
      "element_343            0.4515      0.799      0.565      0.572      -1.115       2.019\n",
      "element_344            0.1256      0.880      0.143      0.887      -1.599       1.850\n",
      "element_345            1.1890      0.814      1.461      0.144      -0.406       2.784\n",
      "element_346            1.9651      0.902      2.178      0.029       0.196       3.734\n",
      "element_347            1.3939      0.843      1.654      0.098      -0.258       3.046\n",
      "element_348            1.4794      0.825      1.793      0.073      -0.138       3.096\n",
      "element_349            1.0938      0.910      1.201      0.230      -0.691       2.878\n",
      "element_353            0.6336      0.797      0.794      0.427      -0.929       2.197\n",
      "element_354            1.2641      0.829      1.524      0.127      -0.362       2.890\n",
      "element_355            0.1695      0.878      0.193      0.847      -1.552       1.891\n",
      "element_356            0.9620      0.830      1.159      0.246      -0.665       2.589\n",
      "element_357            0.8973      0.809      1.109      0.267      -0.689       2.483\n",
      "element_358            2.3946      1.362      1.758      0.079      -0.275       5.064\n",
      "element_359            0.2613      0.860      0.304      0.761      -1.424       1.947\n",
      "element_360            0.8850      1.023      0.865      0.387      -1.120       2.890\n",
      "element_361            0.8378      0.872      0.961      0.336      -0.870       2.546\n",
      "element_362            1.6448      0.967      1.701      0.089      -0.250       3.540\n",
      "element_363            1.1593      0.846      1.370      0.171      -0.499       2.818\n",
      "element_364            0.5676      0.801      0.709      0.478      -1.002       2.137\n",
      "element_365            0.8369      0.838      0.999      0.318      -0.806       2.479\n",
      "element_366            3.0105      1.305      2.308      0.021       0.453       5.568\n",
      "element_367            1.3354      0.804      1.662      0.097      -0.240       2.910\n",
      "element_368            1.4870      0.806      1.845      0.065      -0.093       3.067\n",
      "element_369            0.8319      0.805      1.033      0.302      -0.747       2.411\n",
      "element_370            1.8523      0.814      2.274      0.023       0.256       3.449\n",
      "element_371            1.9036      0.893      2.133      0.033       0.154       3.653\n",
      "element_372            0.5940      0.804      0.739      0.460      -0.982       2.170\n",
      "element_376           -0.0796      0.824     -0.097      0.923      -1.694       1.535\n",
      "element_377           25.8871   1.31e+05      0.000      1.000   -2.57e+05    2.57e+05\n",
      "element_378           -0.0686      0.842     -0.082      0.935      -1.718       1.581\n",
      "element_379            0.9916      1.480      0.670      0.503      -1.909       3.892\n",
      "element_380            0.2361      0.890      0.265      0.791      -1.508       1.980\n",
      "element_381            0.0981      0.914      0.107      0.915      -1.693       1.889\n",
      "element_382            0.5257      0.830      0.633      0.527      -1.102       2.153\n",
      "element_383            0.5167      0.830      0.623      0.534      -1.110       2.143\n",
      "element_385          -22.2129   1.31e+05     -0.000      1.000   -2.57e+05    2.57e+05\n",
      "element_386            0.9112      0.982      0.928      0.353      -1.013       2.835\n",
      "element_387            1.7213      1.043      1.651      0.099      -0.323       3.765\n",
      "element_388            2.4463      0.980      2.495      0.013       0.525       4.368\n",
      "element_389            0.2208      0.817      0.270      0.787      -1.381       1.822\n",
      "element_390           -0.2443      0.839     -0.291      0.771      -1.888       1.399\n",
      "element_391           -0.2643      0.838     -0.315      0.752      -1.907       1.379\n",
      "element_392            0.3599      0.821      0.438      0.661      -1.250       1.970\n",
      "element_393            0.6070      0.796      0.762      0.446      -0.953       2.167\n",
      "element_394            1.1110      0.810      1.372      0.170      -0.476       2.698\n",
      "element_395            1.7925      0.825      2.173      0.030       0.176       3.409\n",
      "element_396            0.4164      0.807      0.516      0.606      -1.166       1.999\n",
      "element_397            0.5747      1.587      0.362      0.717      -2.535       3.685\n",
      "element_402           -0.7662      0.946     -0.810      0.418      -2.621       1.088\n",
      "element_403           -0.7799      0.944     -0.826      0.409      -2.631       1.071\n",
      "element_405           -0.0009      0.849     -0.001      0.999      -1.665       1.663\n",
      "element_406           -0.5558      0.857     -0.649      0.517      -2.235       1.124\n",
      "element_408            0.2698      1.008      0.268      0.789      -1.706       2.246\n",
      "element_409           -0.5997      0.856     -0.701      0.483      -2.277       1.077\n",
      "element_410            0.5229      0.864      0.605      0.545      -1.171       2.217\n",
      "element_411            0.0773      0.831      0.093      0.926      -1.551       1.706\n",
      "element_412            1.0062      0.805      1.251      0.211      -0.571       2.583\n",
      "element_413            0.5222      0.845      0.618      0.536      -1.133       2.178\n",
      "element_414           -0.0159      1.145     -0.014      0.989      -2.260       2.229\n",
      "element_415            1.2194      0.798      1.528      0.126      -0.344       2.783\n",
      "element_417           -0.3161      0.868     -0.364      0.716      -2.017       1.385\n",
      "element_418            1.2026      0.915      1.314      0.189      -0.592       2.997\n",
      "element_419            0.5506      0.824      0.668      0.504      -1.065       2.166\n",
      "element_423           -0.3267      0.837     -0.390      0.696      -1.968       1.314\n",
      "element_425           -0.2219      0.821     -0.270      0.787      -1.831       1.387\n",
      "element_426            1.1866      0.848      1.400      0.162      -0.475       2.848\n",
      "element_427           -0.0895      0.826     -0.108      0.914      -1.708       1.529\n",
      "element_430           -0.2219      0.821     -0.270      0.787      -1.831       1.387\n",
      "element_431            1.2934      0.892      1.450      0.147      -0.455       3.041\n",
      "element_432            0.7015      0.805      0.872      0.383      -0.875       2.278\n",
      "element_433           -0.2577      0.839     -0.307      0.759      -1.902       1.386\n",
      "element_434            1.5231      0.836      1.821      0.069      -0.116       3.162\n",
      "element_435            0.9177      0.814      1.128      0.259      -0.677       2.513\n",
      "element_437            0.4519      0.794      0.569      0.569      -1.103       2.007\n",
      "element_438           25.7352   4.84e+04      0.001      1.000   -9.49e+04    9.49e+04\n",
      "element_440           -0.0739      0.917     -0.081      0.936      -1.871       1.723\n",
      "element_441          -22.9070   6.53e+04     -0.000      1.000   -1.28e+05    1.28e+05\n",
      "element_443           25.3699   1.31e+05      0.000      1.000   -2.57e+05    2.57e+05\n",
      "element_444            2.7692      1.341      2.064      0.039       0.140       5.398\n",
      "element_446            1.6895      0.892      1.893      0.058      -0.059       3.438\n",
      "element_447            0.9284      1.188      0.782      0.435      -1.400       3.257\n",
      "element_448            1.2655      0.833      1.518      0.129      -0.368       2.899\n",
      "element_450            0.4044      0.803      0.504      0.614      -1.169       1.978\n",
      "element_451            0.7277      0.808      0.901      0.368      -0.855       2.311\n",
      "element_453            0.7287      1.004      0.726      0.468      -1.239       2.697\n",
      "element_455           -1.9603      1.247     -1.572      0.116      -4.405       0.484\n",
      "element_456           -0.7715      0.885     -0.872      0.383      -2.505       0.962\n",
      "element_458            1.1722      0.822      1.426      0.154      -0.439       2.783\n",
      "element_459            0.7723      0.790      0.978      0.328      -0.776       2.320\n",
      "element_460           -0.0820      0.871     -0.094      0.925      -1.788       1.624\n",
      "element_461            0.0832      0.846      0.098      0.922      -1.575       1.741\n",
      "element_462            2.2036      0.857      2.570      0.010       0.523       3.884\n",
      "element_463           -0.3512      0.898     -0.391      0.696      -2.112       1.409\n",
      "element_464           -0.3938      0.950     -0.414      0.679      -2.256       1.468\n",
      "element_465           -0.3939      0.836     -0.471      0.637      -2.032       1.244\n",
      "element_466            0.1719      0.836      0.206      0.837      -1.467       1.811\n",
      "element_467           -0.4254      1.298     -0.328      0.743      -2.969       2.118\n",
      "element_471            0.4245      0.986      0.430      0.667      -1.509       2.358\n",
      "element_472            2.7806      0.960      2.897      0.004       0.900       4.662\n",
      "element_473            0.2348      1.051      0.223      0.823      -1.826       2.296\n",
      "element_475            0.2983      0.798      0.374      0.709      -1.266       1.862\n",
      "element_476            1.5611      0.886      1.762      0.078      -0.176       3.298\n",
      "element_478           -0.1489      0.865     -0.172      0.863      -1.844       1.546\n",
      "element_479           -0.6316      1.047     -0.603      0.546      -2.683       1.420\n",
      "element_480           -1.6353      1.013     -1.614      0.106      -3.621       0.350\n",
      "element_481            0.9015      0.926      0.973      0.330      -0.914       2.717\n",
      "element_482            0.2223      0.866      0.257      0.797      -1.475       1.920\n",
      "element_483            0.1393      0.827      0.168      0.866      -1.482       1.761\n",
      "element_484            0.6092      0.800      0.761      0.447      -0.959       2.178\n",
      "element_486            1.5325      0.817      1.875      0.061      -0.069       3.134\n",
      "element_487           -0.7085      1.053     -0.673      0.501      -2.773       1.356\n",
      "element_488            1.7543      0.889      1.973      0.049       0.011       3.497\n",
      "element_489            0.4355      0.801      0.544      0.587      -1.134       2.005\n",
      "element_491          -23.5013   1.31e+05     -0.000      1.000   -2.57e+05    2.57e+05\n",
      "element_492            1.2408      0.844      1.469      0.142      -0.414       2.896\n",
      "element_493            0.6312      0.810      0.779      0.436      -0.957       2.220\n",
      "element_494            0.3727      0.826      0.451      0.652      -1.246       1.992\n",
      "element_495            1.0319      0.944      1.093      0.274      -0.819       2.883\n",
      "element_497           25.3699   1.31e+05      0.000      1.000   -2.57e+05    2.57e+05\n",
      "element_499            1.4861      0.799      1.859      0.063      -0.081       3.053\n",
      "element_500            1.4886      0.812      1.834      0.067      -0.102       3.079\n",
      "element_502            0.2664      0.942      0.283      0.777      -1.579       2.112\n",
      "element_503           -0.7632      0.940     -0.812      0.417      -2.606       1.080\n",
      "element_504            0.0472      0.829      0.057      0.955      -1.578       1.673\n",
      "element_505            1.5226      0.852      1.787      0.074      -0.147       3.193\n",
      "element_506            0.7535      0.922      0.817      0.414      -1.054       2.561\n",
      "element_507            1.6703      0.802      2.082      0.037       0.098       3.243\n",
      "element_508            0.8148      0.815      1.000      0.318      -0.783       2.412\n",
      "element_510           -0.7584      0.939     -0.808      0.419      -2.599       1.082\n",
      "element_511           -1.1428      1.272     -0.898      0.369      -3.636       1.350\n",
      "element_512            0.1457      0.911      0.160      0.873      -1.639       1.931\n",
      "element_513            0.5562      0.849      0.655      0.512      -1.107       2.220\n",
      "element_514            1.4725      0.861      1.710      0.087      -0.215       3.160\n",
      "element_515            0.2425      1.152      0.210      0.833      -2.016       2.501\n",
      "element_516            0.1371      0.911      0.151      0.880      -1.648       1.922\n",
      "element_517            0.9504      1.010      0.941      0.347      -1.028       2.929\n",
      "element_518            1.7373      1.177      1.476      0.140      -0.570       4.044\n",
      "element_519           -0.1503      0.972     -0.155      0.877      -2.056       1.755\n",
      "element_521          -22.5663   7.47e+04     -0.000      1.000   -1.47e+05    1.46e+05\n",
      "element_522            1.5081      1.052      1.434      0.152      -0.553       3.569\n",
      "element_523           25.3932   1.31e+05      0.000      1.000   -2.57e+05    2.57e+05\n",
      "element_524            1.5082      0.811      1.859      0.063      -0.082       3.099\n",
      "element_526            0.2450      0.823      0.298      0.766      -1.368       1.858\n",
      "element_527            0.6701      0.800      0.838      0.402      -0.897       2.238\n",
      "element_531            0.4028      1.026      0.393      0.695      -1.608       2.414\n",
      "element_534            0.0330      0.917      0.036      0.971      -1.765       1.831\n",
      "element_535            1.7257      0.924      1.867      0.062      -0.086       3.537\n",
      "element_539            0.7440      0.883      0.842      0.400      -0.987       2.475\n",
      "element_540            2.6075      1.305      1.999      0.046       0.051       5.164\n",
      "element_543            2.6211      1.061      2.470      0.014       0.541       4.701\n",
      "element_544            1.6677      1.596      1.045      0.296      -1.461       4.796\n",
      "element_549            0.2486      1.098      0.226      0.821      -1.904       2.401\n",
      "element_550            2.2179      1.158      1.915      0.056      -0.052       4.488\n",
      "element_552           25.9878   9.15e+04      0.000      1.000   -1.79e+05    1.79e+05\n",
      "element_556            0.2811      0.889      0.316      0.752      -1.461       2.023\n",
      "element_557          -23.7956   1.31e+05     -0.000      1.000   -2.57e+05    2.57e+05\n",
      "element_560           25.7035   1.31e+05      0.000      1.000   -2.57e+05    2.57e+05\n",
      "element_562           26.5216   1.31e+05      0.000      1.000   -2.57e+05    2.57e+05\n",
      "element_563           24.9723   1.31e+05      0.000      1.000   -2.57e+05    2.57e+05\n",
      "element_565          -22.5189   1.31e+05     -0.000      1.000   -2.57e+05    2.57e+05\n",
      "element_566          -24.4158   1.31e+05     -0.000      1.000   -2.57e+05    2.57e+05\n",
      "element_568          -24.8134   1.31e+05     -0.000      1.000   -2.57e+05    2.57e+05\n",
      "element_569            1.6935      1.217      1.392      0.164      -0.691       4.078\n",
      "element_570            1.9528      1.430      1.365      0.172      -0.850       4.756\n",
      "element_571           -0.3572      1.060     -0.337      0.736      -2.436       1.721\n",
      "element_573           25.2040   8.47e+04      0.000      1.000   -1.66e+05    1.66e+05\n",
      "element_574            2.5569      1.382      1.850      0.064      -0.153       5.266\n",
      "element_575          -23.2097   3.87e+04     -0.001      1.000   -7.58e+04    7.57e+04\n",
      "element_579           -0.1183      1.101     -0.108      0.914      -2.275       2.039\n",
      "element_580            0.7941      1.045      0.760      0.447      -1.255       2.843\n",
      "element_581          -24.0596   9.21e+04     -0.000      1.000    -1.8e+05     1.8e+05\n",
      "element_585            0.2238      1.096      0.204      0.838      -1.924       2.371\n",
      "element_586            2.5397      1.417      1.792      0.073      -0.238       5.317\n",
      "element_587            0.0024      1.117      0.002      0.998      -2.187       2.192\n",
      "element_588           26.5804   1.31e+05      0.000      1.000   -2.57e+05    2.57e+05\n",
      "element_589            1.1051      1.099      1.006      0.315      -1.048       3.259\n",
      "element_590            1.6070      1.174      1.368      0.171      -0.695       3.909\n",
      "element_591           -0.8476      1.294     -0.655      0.512      -3.383       1.688\n",
      "element_592            1.0007      1.024      0.977      0.328      -1.006       3.008\n",
      "element_593          -23.3715   6.43e+04     -0.000      1.000   -1.26e+05    1.26e+05\n",
      "element_594          -23.7591   1.31e+05     -0.000      1.000   -2.57e+05    2.57e+05\n",
      "element_599           26.9192   1.31e+05      0.000      1.000   -2.57e+05    2.57e+05\n",
      "element_601           25.4894   1.31e+05      0.000      1.000   -2.57e+05    2.57e+05\n",
      "element_602           25.7342   1.31e+05      0.000      1.000   -2.57e+05    2.57e+05\n",
      "element_603           25.3209   1.31e+05      0.000      1.000   -2.57e+05    2.57e+05\n",
      "element_605          -22.1212   1.31e+05     -0.000      1.000   -2.57e+05    2.57e+05\n",
      "element_607            0.7543      1.576      0.479      0.632      -2.335       3.844\n",
      "element_608           26.9192   1.31e+05      0.000      1.000   -2.57e+05    2.57e+05\n",
      "======================================================================================\n"
     ]
    }
   ],
   "source": [
    "print(sppm_results.summary())"
   ]
  },
  {
   "cell_type": "markdown",
   "metadata": {
    "heading_collapsed": true,
    "hidden": true
   },
   "source": [
    "### Model fit"
   ]
  },
  {
   "cell_type": "code",
   "execution_count": 71,
   "metadata": {
    "ExecuteTime": {
     "end_time": "2019-04-04T18:48:45.549020Z",
     "start_time": "2019-04-04T18:48:45.544733Z"
    },
    "hidden": true
   },
   "outputs": [
    {
     "data": {
      "text/plain": [
       "10209.539448857726"
      ]
     },
     "execution_count": 71,
     "metadata": {},
     "output_type": "execute_result"
    }
   ],
   "source": [
    "sppm_results.aic"
   ]
  },
  {
   "cell_type": "code",
   "execution_count": 72,
   "metadata": {
    "ExecuteTime": {
     "end_time": "2019-04-04T18:48:45.590317Z",
     "start_time": "2019-04-04T18:48:45.550981Z"
    },
    "hidden": true
   },
   "outputs": [
    {
     "data": {
      "text/plain": [
       "-59941.17167424499"
      ]
     },
     "execution_count": 72,
     "metadata": {},
     "output_type": "execute_result"
    }
   ],
   "source": [
    "sppm_results.bic"
   ]
  },
  {
   "cell_type": "code",
   "execution_count": 73,
   "metadata": {
    "ExecuteTime": {
     "end_time": "2019-04-04T18:48:45.616095Z",
     "start_time": "2019-04-04T18:48:45.592504Z"
    },
    "hidden": true
   },
   "outputs": [
    {
     "data": {
      "text/plain": [
       "(True, 0.008945553700192899)"
      ]
     },
     "execution_count": 73,
     "metadata": {},
     "output_type": "execute_result"
    }
   ],
   "source": [
    "sppm_pearson_results = goodness_fit.pearson_chi_squared_test(sppm_results)\n",
    "sppm_pearson_results"
   ]
  },
  {
   "cell_type": "code",
   "execution_count": 74,
   "metadata": {
    "ExecuteTime": {
     "end_time": "2019-04-04T18:48:45.646600Z",
     "start_time": "2019-04-04T18:48:45.618200Z"
    },
    "hidden": true
   },
   "outputs": [
    {
     "data": {
      "text/plain": [
       "count    8161.000000\n",
       "mean       -0.067070\n",
       "std         1.062670\n",
       "min        -2.298247\n",
       "25%        -0.898995\n",
       "50%        -0.564375\n",
       "75%         1.045702\n",
       "max         2.449135\n",
       "dtype: float64"
      ]
     },
     "execution_count": 74,
     "metadata": {},
     "output_type": "execute_result"
    }
   ],
   "source": [
    "sppm_results.resid_deviance.describe()"
   ]
  },
  {
   "cell_type": "code",
   "execution_count": 75,
   "metadata": {
    "ExecuteTime": {
     "end_time": "2019-04-04T18:48:45.898461Z",
     "start_time": "2019-04-04T18:48:45.648791Z"
    },
    "hidden": true
   },
   "outputs": [
    {
     "data": {
      "image/png": "[encoded data removed]",
      "text/plain": [
       "<Figure size 432x288 with 1 Axes>"
      ]
     },
     "metadata": {
      "needs_background": "light"
     },
     "output_type": "display_data"
    }
   ],
   "source": [
    "plt.figure()\n",
    "plt.hist(sppm_results.resid_deviance)\n",
    "plt.show()"
   ]
  },
  {
   "cell_type": "markdown",
   "metadata": {
    "heading_collapsed": true,
    "hidden": true
   },
   "source": [
    "## Simple Binomial player minutes model"
   ]
  },
  {
   "cell_type": "markdown",
   "metadata": {
    "heading_collapsed": true,
    "hidden": true
   },
   "source": [
    "### Preparing data"
   ]
  },
  {
   "cell_type": "code",
   "execution_count": 76,
   "metadata": {
    "ExecuteTime": {
     "end_time": "2019-04-04T18:48:45.906415Z",
     "start_time": "2019-04-04T18:48:45.900659Z"
    },
    "hidden": true
   },
   "outputs": [],
   "source": [
    "sppmm_df = element_gameweek_df.copy()"
   ]
  },
  {
   "cell_type": "code",
   "execution_count": 77,
   "metadata": {
    "ExecuteTime": {
     "end_time": "2019-04-04T18:48:46.109262Z",
     "start_time": "2019-04-04T18:48:45.908476Z"
    },
    "hidden": true
   },
   "outputs": [],
   "source": [
    "sppmm_df = player.add_categorical_variables(sppmm_df, 'opposition_team')\n",
    "sppmm_df = player.add_categorical_variables(sppmm_df, 'element')"
   ]
  },
  {
   "cell_type": "code",
   "execution_count": 78,
   "metadata": {
    "ExecuteTime": {
     "end_time": "2019-04-04T18:48:46.190273Z",
     "start_time": "2019-04-04T18:48:46.112918Z"
    },
    "hidden": true
   },
   "outputs": [],
   "source": [
    "sppmm_redundant_columns = [\n",
    "    'row_id', 'assists', 'attempted_passes', 'big_chances_created',\n",
    "    'big_chances_missed', 'bonus', 'bps', 'clean_sheets', 'goals_scored',\n",
    "    'clearances_blocks_interceptions', 'completed_passes', 'creativity',\n",
    "    'dribbles', 'ea_index', 'element', 'errors_leading_to_goal',\n",
    "    'errors_leading_to_goal_attempt', 'fixture', 'fouls', 'goals_conceded',\n",
    "    'ict_index', 'id', 'influence', 'key_passes', 'kickoff_time',\n",
    "    'kickoff_time_formatted', 'loaned_in', 'loaned_out', 'offside',\n",
    "    'open_play_crosses', 'opponent_team', 'own_goals', 'penalties_conceded',\n",
    "    'penalties_missed', 'penalties_saved', 'recoveries', 'red_cards', 'round',\n",
    "    'saves', 'selected', 'tackled', 'tackles', 'target_missed', 'team_a_score',\n",
    "    'team_h_score', 'threat', 'total_points', 'transfers_balance',\n",
    "    'transfers_in', 'transfers_out', 'value', 'winning_goals',\n",
    "    'yellow_cards', 'event', 'team_a', 'team_a_difficulty', 'team_h',\n",
    "    'team_h_difficulty', 'element_type', 'team', 'web_name', 'safe_web_name',\n",
    "    'own_team', 'opposition_team', 'minutes'\n",
    "]"
   ]
  },
  {
   "cell_type": "code",
   "execution_count": 79,
   "metadata": {
    "ExecuteTime": {
     "end_time": "2019-04-04T18:48:46.215159Z",
     "start_time": "2019-04-04T18:48:46.192487Z"
    },
    "hidden": true
   },
   "outputs": [],
   "source": [
    "sppmm_df['log_minutes'] = np.log(sppmm_df['minutes'])"
   ]
  },
  {
   "cell_type": "code",
   "execution_count": 80,
   "metadata": {
    "ExecuteTime": {
     "end_time": "2019-04-04T18:48:46.253449Z",
     "start_time": "2019-04-04T18:48:46.217390Z"
    },
    "hidden": true
   },
   "outputs": [],
   "source": [
    "sppmm_df = player.remove_redundant_columns(sppmm_df, sppmm_redundant_columns)"
   ]
  },
  {
   "cell_type": "code",
   "execution_count": 81,
   "metadata": {
    "ExecuteTime": {
     "end_time": "2019-04-04T18:48:46.468868Z",
     "start_time": "2019-04-04T18:48:46.257080Z"
    },
    "hidden": true
   },
   "outputs": [],
   "source": [
    "sppmm_response_df, sppmm_explanatory_df = player.get_response_explanatory_dfs(sppmm_df, 'clean_sheets_no_time')"
   ]
  },
  {
   "cell_type": "code",
   "execution_count": 82,
   "metadata": {
    "ExecuteTime": {
     "end_time": "2019-04-04T18:48:46.476665Z",
     "start_time": "2019-04-04T18:48:46.471228Z"
    },
    "hidden": true
   },
   "outputs": [
    {
     "data": {
      "text/plain": [
       "Index(['const', 'was_home', 'opposition_team_2', 'opposition_team_3',\n",
       "       'opposition_team_4', 'opposition_team_5', 'opposition_team_6',\n",
       "       'opposition_team_7', 'opposition_team_8', 'opposition_team_9',\n",
       "       ...\n",
       "       'element_593', 'element_594', 'element_599', 'element_601',\n",
       "       'element_602', 'element_603', 'element_605', 'element_607',\n",
       "       'element_608', 'log_minutes'],\n",
       "      dtype='object', length=480)"
      ]
     },
     "execution_count": 82,
     "metadata": {},
     "output_type": "execute_result"
    }
   ],
   "source": [
    "sppmm_explanatory_df.columns"
   ]
  },
  {
   "cell_type": "markdown",
   "metadata": {
    "heading_collapsed": true,
    "hidden": true
   },
   "source": [
    "### Fitting model"
   ]
  },
  {
   "cell_type": "code",
   "execution_count": 83,
   "metadata": {
    "ExecuteTime": {
     "end_time": "2019-04-04T18:49:01.871284Z",
     "start_time": "2019-04-04T18:48:46.478703Z"
    },
    "hidden": true
   },
   "outputs": [],
   "source": [
    "sppmm_results = sm.GLM(\n",
    "    sppmm_response_df,\n",
    "    sppmm_explanatory_df,\n",
    "    family=sm.families.Binomial(),\n",
    "    missing='drop'\n",
    ").fit()"
   ]
  },
  {
   "cell_type": "code",
   "execution_count": 84,
   "metadata": {
    "ExecuteTime": {
     "end_time": "2019-04-04T18:49:02.140520Z",
     "start_time": "2019-04-04T18:49:01.875133Z"
    },
    "hidden": true
   },
   "outputs": [
    {
     "name": "stdout",
     "output_type": "stream",
     "text": [
      "                  Generalized Linear Model Regression Results                   \n",
      "================================================================================\n",
      "Dep. Variable:     clean_sheets_no_time   No. Observations:                 8161\n",
      "Model:                              GLM   Df Residuals:                     7681\n",
      "Model Family:                  Binomial   Df Model:                          479\n",
      "Link Function:                    logit   Scale:                             1.0\n",
      "Method:                            IRLS   Log-Likelihood:                -4218.7\n",
      "Date:                  Thu, 04 Apr 2019   Deviance:                       8437.5\n",
      "Time:                          18:49:01   Pearson chi2:                 8.28e+03\n",
      "No. Iterations:                      23                                         \n",
      "======================================================================================\n",
      "                         coef    std err          z      P>|z|      [0.025      0.975]\n",
      "--------------------------------------------------------------------------------------\n",
      "const                  2.3844      0.746      3.196      0.001       0.922       3.847\n",
      "was_home               0.4630      0.054      8.551      0.000       0.357       0.569\n",
      "opposition_team_2      1.3213      0.185      7.143      0.000       0.959       1.684\n",
      "opposition_team_3      1.3080      0.187      7.005      0.000       0.942       1.674\n",
      "opposition_team_4      1.3056      0.186      7.022      0.000       0.941       1.670\n",
      "opposition_team_5      1.8369      0.184      9.962      0.000       1.476       2.198\n",
      "opposition_team_6      0.8657      0.189      4.570      0.000       0.494       1.237\n",
      "opposition_team_7      1.2687      0.186      6.813      0.000       0.904       1.634\n",
      "opposition_team_8      0.9619      0.188      5.127      0.000       0.594       1.330\n",
      "opposition_team_9      1.7047      0.183      9.300      0.000       1.345       2.064\n",
      "opposition_team_10     2.3850      0.185     12.880      0.000       2.022       2.748\n",
      "opposition_team_11     0.5812      0.193      3.016      0.003       0.204       0.959\n",
      "opposition_team_12     0.1159      0.201      0.576      0.564      -0.278       0.510\n",
      "opposition_team_13    -0.1083      0.206     -0.526      0.599      -0.512       0.295\n",
      "opposition_team_14     0.1877      0.200      0.940      0.347      -0.204       0.579\n",
      "opposition_team_15     1.6578      0.184      9.029      0.000       1.298       2.018\n",
      "opposition_team_16     1.2886      0.187      6.895      0.000       0.922       1.655\n",
      "opposition_team_17     0.2807      0.197      1.422      0.155      -0.106       0.668\n",
      "opposition_team_18     1.0467      0.186      5.628      0.000       0.682       1.411\n",
      "opposition_team_19     1.6832      0.185      9.100      0.000       1.321       2.046\n",
      "opposition_team_20     1.1316      0.186      6.088      0.000       0.767       1.496\n",
      "element_4             -0.0110      0.895     -0.012      0.990      -1.766       1.744\n",
      "element_5              0.2612      0.896      0.291      0.771      -1.496       2.018\n",
      "element_6             -0.0848      1.068     -0.079      0.937      -2.178       2.008\n",
      "element_7             -0.1165      0.862     -0.135      0.892      -1.806       1.573\n",
      "element_8              0.0199      0.893      0.022      0.982      -1.730       1.770\n",
      "element_9             -0.8828      0.937     -0.942      0.346      -2.719       0.953\n",
      "element_10            24.9787   1.31e+05      0.000      1.000   -2.57e+05    2.57e+05\n",
      "element_11            -0.2726      1.015     -0.268      0.788      -2.263       1.717\n",
      "element_12             0.2273      0.869      0.262      0.794      -1.476       1.931\n",
      "element_13             0.0893      0.875      0.102      0.919      -1.626       1.805\n",
      "element_14             1.4495      0.849      1.707      0.088      -0.215       3.114\n",
      "element_15             0.2586      0.821      0.315      0.753      -1.351       1.868\n",
      "element_16             0.9795      1.346      0.728      0.467      -1.658       3.617\n",
      "element_17             0.0194      0.855      0.023      0.982      -1.657       1.695\n",
      "element_18            -0.4644      0.933     -0.498      0.619      -2.293       1.364\n",
      "element_20             0.0008      0.974      0.001      0.999      -1.909       1.910\n",
      "element_21            -0.3719      1.057     -0.352      0.725      -2.444       1.701\n",
      "element_22             0.4352      0.808      0.538      0.590      -1.149       2.019\n",
      "element_23             0.2362      0.821      0.288      0.773      -1.372       1.844\n",
      "element_26             0.2670      0.908      0.294      0.769      -1.514       2.047\n",
      "element_27             0.3139      0.843      0.372      0.710      -1.339       1.967\n",
      "element_28            -0.1519      0.917     -0.166      0.868      -1.949       1.645\n",
      "element_29             0.4027      0.860      0.468      0.640      -1.283       2.089\n",
      "element_30             0.4212      1.366      0.308      0.758      -2.256       3.099\n",
      "element_31             0.1996      0.825      0.242      0.809      -1.418       1.817\n",
      "element_32           -22.3641   1.31e+05     -0.000      1.000   -2.57e+05    2.57e+05\n",
      "element_33             0.3584      0.850      0.422      0.673      -1.308       2.024\n",
      "element_35             0.1009      0.935      0.108      0.914      -1.732       1.933\n",
      "element_36             0.4105      0.883      0.465      0.642      -1.320       2.141\n",
      "element_37             0.3115      0.871      0.358      0.721      -1.395       2.018\n",
      "element_38            -0.7907      0.924     -0.855      0.392      -2.603       1.021\n",
      "element_39             0.5416      0.966      0.561      0.575      -1.351       2.434\n",
      "element_40             0.0616      0.827      0.074      0.941      -1.559       1.682\n",
      "element_42             0.3846      0.829      0.464      0.643      -1.240       2.010\n",
      "element_43             0.2013      0.848      0.237      0.812      -1.461       1.864\n",
      "element_44            -0.3198      0.915     -0.350      0.727      -2.113       1.474\n",
      "element_45             0.4434      0.823      0.539      0.590      -1.169       2.056\n",
      "element_46            -1.1441      1.525     -0.750      0.453      -4.133       1.845\n",
      "element_48            -0.0108      0.836     -0.013      0.990      -1.650       1.628\n",
      "element_49            -0.1290      0.856     -0.151      0.880      -1.806       1.548\n",
      "element_50             0.7581      0.996      0.761      0.447      -1.194       2.710\n",
      "element_51            -0.0559      0.900     -0.062      0.950      -1.820       1.708\n",
      "element_54            -1.4778      1.488     -0.993      0.321      -4.395       1.439\n",
      "element_55            -0.4123      0.859     -0.480      0.631      -2.096       1.272\n",
      "element_56            -0.0587      0.869     -0.067      0.946      -1.763       1.645\n",
      "element_57             0.5880      0.985      0.597      0.551      -1.343       2.519\n",
      "element_58            -0.0911      0.831     -0.110      0.913      -1.719       1.537\n",
      "element_59            -0.3698      0.918     -0.403      0.687      -2.169       1.430\n",
      "element_60            -0.5430      0.901     -0.603      0.547      -2.309       1.223\n",
      "element_61             0.9182      0.983      0.934      0.350      -1.009       2.846\n",
      "element_62             0.2870      0.818      0.351      0.726      -1.316       1.890\n",
      "element_65             0.7851      0.877      0.896      0.370      -0.933       2.503\n",
      "element_66             0.4360      0.891      0.489      0.625      -1.311       2.183\n",
      "element_69            -0.2172      0.944     -0.230      0.818      -2.067       1.632\n",
      "element_70            -0.0493      0.833     -0.059      0.953      -1.683       1.584\n",
      "element_71             0.2495      1.426      0.175      0.861      -2.545       3.044\n",
      "element_72             0.0194      0.841      0.023      0.982      -1.629       1.668\n",
      "element_73            -0.2754      1.350     -0.204      0.838      -2.922       2.371\n",
      "element_74            -0.0936      0.836     -0.112      0.911      -1.732       1.545\n",
      "element_75            -0.0250      0.920     -0.027      0.978      -1.828       1.778\n",
      "element_76            -0.2419      0.849     -0.285      0.776      -1.907       1.423\n",
      "element_77            -0.4543      1.323     -0.343      0.731      -3.048       2.139\n",
      "element_78            -0.1186      0.878     -0.135      0.893      -1.840       1.603\n",
      "element_79            -0.2239      0.936     -0.239      0.811      -2.059       1.611\n",
      "element_80            -0.1054      0.846     -0.125      0.901      -1.764       1.553\n",
      "element_82            -0.0048      0.835     -0.006      0.995      -1.641       1.632\n",
      "element_83            -0.2219      0.938     -0.236      0.813      -2.061       1.617\n",
      "element_84            -0.3555      0.891     -0.399      0.690      -2.101       1.390\n",
      "element_85             0.3924      0.816      0.481      0.631      -1.207       1.992\n",
      "element_87            -0.3118      0.827     -0.377      0.706      -1.932       1.309\n",
      "element_90             0.1704      0.840      0.203      0.839      -1.477       1.818\n",
      "element_91             0.1298      0.839      0.155      0.877      -1.514       1.774\n",
      "element_92             0.3409      0.817      0.417      0.676      -1.260       1.942\n",
      "element_94             0.3021      0.849      0.356      0.722      -1.363       1.967\n",
      "element_95             0.3217      0.953      0.338      0.736      -1.545       2.189\n",
      "element_96            -0.6781      1.684     -0.403      0.687      -3.978       2.622\n",
      "element_98            -0.2009      0.866     -0.232      0.817      -1.899       1.497\n",
      "element_99             0.6400      0.833      0.768      0.442      -0.992       2.272\n",
      "element_100            0.0053      0.940      0.006      0.995      -1.836       1.847\n",
      "element_101           -0.1248      0.853     -0.146      0.884      -1.796       1.547\n",
      "element_102            0.3494      0.867      0.403      0.687      -1.351       2.049\n",
      "element_104           -1.1606      2.175     -0.534      0.594      -5.424       3.103\n",
      "element_105           -0.6759      1.017     -0.664      0.506      -2.670       1.318\n",
      "element_106           -0.1013      0.844     -0.120      0.904      -1.755       1.552\n",
      "element_107           -1.0642      0.970     -1.098      0.272      -2.965       0.836\n",
      "element_109           -1.3668      1.237     -1.105      0.269      -3.790       1.057\n",
      "element_110            0.4916      0.860      0.572      0.567      -1.194       2.177\n",
      "element_113            0.9019      0.801      1.126      0.260      -0.667       2.471\n",
      "element_114           23.9121   1.31e+05      0.000      1.000   -2.57e+05    2.57e+05\n",
      "element_115            1.0389      0.813      1.278      0.201      -0.555       2.633\n",
      "element_116            1.0387      0.805      1.290      0.197      -0.540       2.617\n",
      "element_117           -1.0461      1.848     -0.566      0.571      -4.668       2.575\n",
      "element_118            0.7834      0.809      0.968      0.333      -0.802       2.369\n",
      "element_119            0.8084      1.262      0.641      0.522      -1.664       3.281\n",
      "element_120           22.8722   7.16e+04      0.000      1.000    -1.4e+05     1.4e+05\n",
      "element_121            0.0420      1.131      0.037      0.970      -2.175       2.259\n",
      "element_122            1.0665      0.806      1.324      0.186      -0.513       2.646\n",
      "element_123            1.5425      1.393      1.107      0.268      -1.187       4.272\n",
      "element_124            0.8919      0.815      1.095      0.274      -0.705       2.489\n",
      "element_125            0.9309      0.828      1.124      0.261      -0.692       2.554\n",
      "element_126            0.9785      0.803      1.219      0.223      -0.595       2.552\n",
      "element_127            0.9807      0.846      1.159      0.246      -0.678       2.639\n",
      "element_131            1.7826      1.331      1.339      0.180      -0.826       4.391\n",
      "element_132            1.3124      0.933      1.407      0.160      -0.516       3.141\n",
      "element_133            1.7568      0.914      1.922      0.055      -0.034       3.548\n",
      "element_134            1.2720      0.898      1.416      0.157      -0.489       3.033\n",
      "element_138            0.7408      0.819      0.904      0.366      -0.865       2.346\n",
      "element_139            0.5050      1.261      0.400      0.689      -1.967       2.977\n",
      "element_140           -0.5480      1.312     -0.418      0.676      -3.119       2.023\n",
      "element_141           -0.1254      0.839     -0.149      0.881      -1.771       1.520\n",
      "element_142            0.4812      0.812      0.593      0.553      -1.109       2.072\n",
      "element_143            0.6283      0.824      0.762      0.446      -0.987       2.243\n",
      "element_145            0.6038      0.816      0.740      0.459      -0.996       2.203\n",
      "element_146            0.2497      1.110      0.225      0.822      -1.927       2.426\n",
      "element_147            0.3042      0.814      0.374      0.709      -1.292       1.900\n",
      "element_148           20.0140   1.31e+05      0.000      1.000   -2.57e+05    2.57e+05\n",
      "element_149            0.3090      0.815      0.379      0.705      -1.288       1.906\n",
      "element_150            0.5065      0.811      0.624      0.532      -1.083       2.096\n",
      "element_151            0.5614      0.824      0.681      0.496      -1.054       2.177\n",
      "element_152           -0.0840      0.969     -0.087      0.931      -1.982       1.814\n",
      "element_153            0.4498      1.020      0.441      0.659      -1.549       2.449\n",
      "element_156           -0.6265      1.246     -0.503      0.615      -3.069       1.816\n",
      "element_157            0.6704      0.832      0.806      0.420      -0.960       2.301\n",
      "element_158            1.1099      1.439      0.771      0.441      -1.711       3.931\n",
      "element_160          -23.9538   5.65e+04     -0.000      1.000   -1.11e+05    1.11e+05\n",
      "element_161           -0.5756      1.138     -0.506      0.613      -2.805       1.654\n",
      "element_162            0.7306      0.815      0.897      0.370      -0.866       2.327\n",
      "element_164            0.3296      0.824      0.400      0.689      -1.286       1.945\n",
      "element_167            0.4797      1.040      0.461      0.645      -1.559       2.518\n",
      "element_168            0.6835      0.821      0.832      0.405      -0.926       2.293\n",
      "element_169            0.0879      0.949      0.093      0.926      -1.772       1.948\n",
      "element_170            0.4424      0.927      0.477      0.633      -1.374       2.259\n",
      "element_172            0.7433      0.802      0.927      0.354      -0.828       2.315\n",
      "element_175            0.7095      0.848      0.836      0.403      -0.953       2.372\n",
      "element_176            0.7689      0.960      0.801      0.423      -1.112       2.650\n",
      "element_177            0.4793      0.848      0.565      0.572      -1.183       2.142\n",
      "element_180           -1.0554      0.977     -1.081      0.280      -2.970       0.859\n",
      "element_181           -0.9318      0.943     -0.988      0.323      -2.781       0.917\n",
      "element_182           -0.7049      0.878     -0.803      0.422      -2.426       1.016\n",
      "element_183           -1.5837      1.049     -1.509      0.131      -3.640       0.473\n",
      "element_184           -1.3467      0.924     -1.458      0.145      -3.157       0.464\n",
      "element_185           -0.5187      0.962     -0.539      0.590      -2.403       1.366\n",
      "element_186           -0.0368      1.016     -0.036      0.971      -2.027       1.954\n",
      "element_187            0.3945      1.165      0.339      0.735      -1.888       2.677\n",
      "element_189           -0.3857      0.980     -0.394      0.694      -2.306       1.534\n",
      "element_192           -0.4370      0.866     -0.505      0.614      -2.134       1.260\n",
      "element_193           -1.2478      0.970     -1.286      0.198      -3.149       0.653\n",
      "element_194           -0.3173      1.141     -0.278      0.781      -2.553       1.918\n",
      "element_195           -0.7976      0.944     -0.845      0.398      -2.649       1.053\n",
      "element_197           -0.4742      0.893     -0.531      0.595      -2.225       1.276\n",
      "element_198           -0.5567      0.899     -0.619      0.536      -2.318       1.205\n",
      "element_199           -0.3186      0.885     -0.360      0.719      -2.053       1.416\n",
      "element_200           -0.3534      1.349     -0.262      0.793      -2.997       2.290\n",
      "element_201            0.2673      0.848      0.315      0.753      -1.395       1.930\n",
      "element_202           -0.2793      0.855     -0.327      0.744      -1.956       1.397\n",
      "element_204            1.0333      1.824      0.567      0.571      -2.541       4.608\n",
      "element_205           -0.2409      2.496     -0.096      0.923      -5.133       4.651\n",
      "element_206            0.0834      0.838      0.100      0.921      -1.559       1.725\n",
      "element_207           -0.4063      1.248     -0.326      0.745      -2.852       2.039\n",
      "element_208           -1.7147      1.232     -1.391      0.164      -4.130       0.701\n",
      "element_209           -0.2541      1.922     -0.132      0.895      -4.021       3.512\n",
      "element_210           -0.6137      0.918     -0.669      0.504      -2.412       1.185\n",
      "element_211            0.2909      0.825      0.353      0.724      -1.326       1.907\n",
      "element_212           -1.2156      0.995     -1.222      0.222      -3.166       0.735\n",
      "element_215            0.4798      0.864      0.556      0.579      -1.213       2.173\n",
      "element_216            0.0142      1.460      0.010      0.992      -2.848       2.876\n",
      "element_217            1.1069      1.221      0.907      0.364      -1.285       3.499\n",
      "element_219            0.2635      0.826      0.319      0.750      -1.356       1.883\n",
      "element_220           -0.5146      0.899     -0.573      0.567      -2.276       1.247\n",
      "element_221            0.4068      0.825      0.493      0.622      -1.211       2.025\n",
      "element_222            0.4532      0.871      0.520      0.603      -1.254       2.160\n",
      "element_223            1.5125      0.874      1.730      0.084      -0.201       3.226\n",
      "element_224            0.4969      0.849      0.585      0.558      -1.167       2.160\n",
      "element_225            0.5739      0.820      0.700      0.484      -1.033       2.180\n",
      "element_226           -0.0137      1.054     -0.013      0.990      -2.079       2.051\n",
      "element_227            0.3165      0.815      0.388      0.698      -1.282       1.915\n",
      "element_228           -0.5949      1.089     -0.546      0.585      -2.730       1.540\n",
      "element_230            1.7700      1.182      1.498      0.134      -0.546       4.087\n",
      "element_231            0.3399      2.286      0.149      0.882      -4.140       4.819\n",
      "element_232          -24.1825   1.31e+05     -0.000      1.000   -2.57e+05    2.57e+05\n",
      "element_233           -0.4001      0.850     -0.470      0.638      -2.067       1.267\n",
      "element_234            0.6349      0.815      0.779      0.436      -0.962       2.231\n",
      "element_235            0.2465      0.961      0.256      0.798      -1.637       2.131\n",
      "element_236           -0.5382      0.849     -0.634      0.526      -2.202       1.126\n",
      "element_239            1.7920      1.013      1.768      0.077      -0.194       3.778\n",
      "element_240          -23.9148   9.12e+04     -0.000      1.000   -1.79e+05    1.79e+05\n",
      "element_241            0.3817      0.964      0.396      0.692      -1.507       2.270\n",
      "element_242            2.1819      0.962      2.269      0.023       0.297       4.067\n",
      "element_243            0.8500      0.907      0.937      0.349      -0.928       2.628\n",
      "element_245            1.6004      0.837      1.911      0.056      -0.041       3.242\n",
      "element_246            1.5390      0.799      1.927      0.054      -0.027       3.105\n",
      "element_247            1.7451      0.805      2.167      0.030       0.167       3.323\n",
      "element_249            1.5625      0.844      1.851      0.064      -0.092       3.217\n",
      "element_250            1.0840      0.990      1.095      0.273      -0.856       3.024\n",
      "element_251            1.5162      0.805      1.884      0.060      -0.061       3.094\n",
      "element_252            1.6982      0.815      2.085      0.037       0.102       3.295\n",
      "element_253            1.6179      0.800      2.022      0.043       0.050       3.186\n",
      "element_254            1.2889      0.833      1.547      0.122      -0.344       2.922\n",
      "element_255            1.4934      0.847      1.763      0.078      -0.167       3.154\n",
      "element_256            1.5536      0.885      1.756      0.079      -0.180       3.288\n",
      "element_257            2.0279      0.816      2.486      0.013       0.429       3.626\n",
      "element_258            0.8282      0.857      0.966      0.334      -0.851       2.508\n",
      "element_259           -0.7079      1.215     -0.583      0.560      -3.089       1.673\n",
      "element_262            1.2693      0.858      1.480      0.139      -0.412       2.950\n",
      "element_263            0.8974      0.974      0.921      0.357      -1.013       2.807\n",
      "element_264            1.3078      0.895      1.461      0.144      -0.446       3.062\n",
      "element_265            1.5692      0.822      1.909      0.056      -0.042       3.180\n",
      "element_266            0.8038      0.995      0.808      0.419      -1.146       2.754\n",
      "element_267            1.2197      1.022      1.193      0.233      -0.784       3.223\n",
      "element_268            1.2686      0.811      1.565      0.118      -0.320       2.857\n",
      "element_269            0.8222      0.985      0.835      0.404      -1.107       2.752\n",
      "element_270            1.4838      0.815      1.821      0.069      -0.113       3.081\n",
      "element_271            1.2153      0.821      1.481      0.139      -0.393       2.824\n",
      "element_272            1.2513      0.818      1.529      0.126      -0.353       2.855\n",
      "element_273            2.6528      1.060      2.502      0.012       0.575       4.731\n",
      "element_274            1.1198      0.838      1.336      0.181      -0.523       2.762\n",
      "element_275            1.0936      0.828      1.322      0.186      -0.528       2.715\n",
      "element_276            1.1170      0.811      1.378      0.168      -0.472       2.706\n",
      "element_277           23.1628    3.4e+04      0.001      0.999   -6.66e+04    6.67e+04\n",
      "element_279            1.5375      1.018      1.510      0.131      -0.458       3.533\n",
      "element_280            1.2525      0.820      1.528      0.127      -0.354       2.859\n",
      "element_281            0.7519      0.847      0.888      0.374      -0.907       2.411\n",
      "element_284            0.2179      0.886      0.246      0.806      -1.518       1.954\n",
      "element_285           -0.1526      0.957     -0.159      0.873      -2.029       1.724\n",
      "element_286            0.0604      0.854      0.071      0.944      -1.613       1.733\n",
      "element_287          -24.7781   6.61e+04     -0.000      1.000    -1.3e+05    1.29e+05\n",
      "element_288            0.9733      1.165      0.836      0.403      -1.310       3.256\n",
      "element_289            0.6443      1.383      0.466      0.641      -2.066       3.354\n",
      "element_291           -0.2334      1.136     -0.205      0.837      -2.460       1.993\n",
      "element_292            0.0642      0.855      0.075      0.940      -1.611       1.740\n",
      "element_293           -0.5419      0.911     -0.595      0.552      -2.328       1.244\n",
      "element_294           -0.0597      0.978     -0.061      0.951      -1.977       1.858\n",
      "element_295            0.0212      0.896      0.024      0.981      -1.734       1.776\n",
      "element_296            0.0805      0.857      0.094      0.925      -1.599       1.760\n",
      "element_297            0.5779      0.857      0.674      0.500      -1.103       2.259\n",
      "element_298            0.2342      0.944      0.248      0.804      -1.615       2.084\n",
      "element_299            0.6012      0.870      0.691      0.489      -1.103       2.306\n",
      "element_300            0.1568      0.861      0.182      0.856      -1.531       1.845\n",
      "element_301            0.5040      0.835      0.603      0.546      -1.133       2.141\n",
      "element_302            0.3658      0.819      0.447      0.655      -1.240       1.971\n",
      "element_303           -0.4324      1.020     -0.424      0.672      -2.431       1.567\n",
      "element_304           -0.3334      0.976     -0.341      0.733      -2.247       1.580\n",
      "element_305            0.5129      0.827      0.620      0.535      -1.108       2.134\n",
      "element_306            0.0432      0.834      0.052      0.959      -1.591       1.677\n",
      "element_310           -0.0862      0.870     -0.099      0.921      -1.791       1.619\n",
      "element_311            0.0555      1.032      0.054      0.957      -1.967       2.077\n",
      "element_312            0.7956      0.824      0.965      0.334      -0.820       2.411\n",
      "element_313            0.9170      0.871      1.052      0.293      -0.791       2.625\n",
      "element_314            0.2663      1.010      0.264      0.792      -1.713       2.246\n",
      "element_315            0.3378      0.956      0.353      0.724      -1.536       2.211\n",
      "element_317            0.2360      0.828      0.285      0.776      -1.387       1.859\n",
      "element_318            0.4221      0.960      0.440      0.660      -1.460       2.304\n",
      "element_319            0.4329      0.842      0.514      0.607      -1.218       2.084\n",
      "element_320            0.7912      0.866      0.914      0.361      -0.905       2.488\n",
      "element_321            0.1485      1.019      0.146      0.884      -1.849       2.146\n",
      "element_323            0.8794      0.893      0.985      0.325      -0.871       2.630\n",
      "element_324           -0.0179      0.951     -0.019      0.985      -1.882       1.846\n",
      "element_326            0.4936      0.811      0.609      0.543      -1.096       2.083\n",
      "element_327           -0.1665      0.956     -0.174      0.862      -2.041       1.708\n",
      "element_330            0.7517      0.883      0.851      0.395      -0.979       2.483\n",
      "element_331            0.0955      0.987      0.097      0.923      -1.838       2.029\n",
      "element_332            0.3891      0.892      0.436      0.663      -1.360       2.138\n",
      "element_333            0.0907      0.930      0.098      0.922      -1.732       1.913\n",
      "element_335           -0.0289      0.921     -0.031      0.975      -1.834       1.776\n",
      "element_336            0.5493      0.939      0.585      0.558      -1.291       2.389\n",
      "element_337           -2.6050      1.612     -1.616      0.106      -5.765       0.555\n",
      "element_338           -0.3090      0.953     -0.324      0.746      -2.177       1.559\n",
      "element_339           -0.0885      0.865     -0.102      0.919      -1.784       1.607\n",
      "element_340           -0.2562      0.904     -0.283      0.777      -2.029       1.516\n",
      "element_342           24.3781   6.72e+04      0.000      1.000   -1.32e+05    1.32e+05\n",
      "element_343            0.6060      0.812      0.747      0.455      -0.985       2.197\n",
      "element_344            0.1439      0.904      0.159      0.873      -1.627       1.915\n",
      "element_345            0.4261      0.846      0.504      0.614      -1.232       2.084\n",
      "element_346            1.2596      0.933      1.349      0.177      -0.570       3.089\n",
      "element_347            0.6129      0.880      0.697      0.486      -1.111       2.337\n",
      "element_348            0.6210      0.855      0.726      0.468      -1.055       2.297\n",
      "element_349           -0.0311      0.963     -0.032      0.974      -1.919       1.857\n",
      "element_353            0.7557      0.812      0.931      0.352      -0.835       2.347\n",
      "element_354            0.9751      0.859      1.135      0.257      -0.709       2.660\n",
      "element_355            0.3020      0.897      0.337      0.736      -1.456       2.060\n",
      "element_356            0.5778      0.873      0.662      0.508      -1.133       2.289\n",
      "element_357            0.9540      0.827      1.154      0.248      -0.666       2.574\n",
      "element_358            1.4838      1.447      1.025      0.305      -1.353       4.320\n",
      "element_359            0.2521      0.880      0.286      0.775      -1.473       1.977\n",
      "element_360            0.6762      1.042      0.649      0.516      -1.367       2.719\n",
      "element_361            0.7218      0.912      0.791      0.429      -1.066       2.510\n",
      "element_362            1.0637      1.057      1.006      0.314      -1.009       3.136\n",
      "element_363            0.4568      0.884      0.517      0.605      -1.275       2.189\n",
      "element_364            0.3975      0.825      0.482      0.630      -1.220       2.015\n",
      "element_365            0.6210      0.865      0.718      0.473      -1.075       2.317\n",
      "element_366            1.9671      1.414      1.391      0.164      -0.804       4.739\n",
      "element_367            1.0492      0.824      1.273      0.203      -0.566       2.664\n",
      "element_368            0.9477      0.838      1.131      0.258      -0.695       2.590\n",
      "element_369            0.8419      0.827      1.018      0.309      -0.779       2.463\n",
      "element_370            1.4726      0.840      1.754      0.079      -0.173       3.119\n",
      "element_371            0.1481      0.959      0.155      0.877      -1.731       2.027\n",
      "element_372            0.7067      0.818      0.864      0.388      -0.896       2.310\n",
      "element_376            0.0124      0.837      0.015      0.988      -1.628       1.653\n",
      "element_377           23.9261   1.31e+05      0.000      1.000   -2.57e+05    2.57e+05\n",
      "element_378            0.0008      0.865      0.001      0.999      -1.695       1.696\n",
      "element_379            0.2425      1.930      0.126      0.900      -3.539       4.024\n",
      "element_380            0.0254      0.943      0.027      0.979      -1.822       1.873\n",
      "element_381            0.1848      0.932      0.198      0.843      -1.641       2.011\n",
      "element_382            0.1126      0.888      0.127      0.899      -1.627       1.852\n",
      "element_383            0.0691      0.866      0.080      0.936      -1.628       1.766\n",
      "element_385          -21.9958   1.31e+05     -0.000      1.000   -2.57e+05    2.57e+05\n",
      "element_386            0.3734      1.085      0.344      0.731      -1.754       2.501\n",
      "element_387           -0.1021      1.217     -0.084      0.933      -2.487       2.282\n",
      "element_388            1.5607      1.069      1.460      0.144      -0.534       3.655\n",
      "element_389            0.4004      0.831      0.482      0.630      -1.228       2.029\n",
      "element_390           -0.1425      0.855     -0.167      0.868      -1.818       1.533\n",
      "element_391           -0.1809      0.853     -0.212      0.832      -1.853       1.491\n",
      "element_392            0.2170      0.841      0.258      0.796      -1.432       1.866\n",
      "element_393            0.5363      0.810      0.662      0.508      -1.051       2.124\n",
      "element_394            0.9098      0.823      1.105      0.269      -0.704       2.524\n",
      "element_395            0.9715      0.852      1.141      0.254      -0.698       2.641\n",
      "element_396            0.4593      0.822      0.559      0.576      -1.151       2.070\n",
      "element_397           -1.6934      1.630     -1.039      0.299      -4.887       1.500\n",
      "element_402           -0.8726      0.962     -0.907      0.365      -2.759       1.014\n",
      "element_403           -1.2239      1.032     -1.186      0.236      -3.247       0.799\n",
      "element_405           -0.0830      0.875     -0.095      0.924      -1.797       1.631\n",
      "element_406           -0.4004      0.869     -0.461      0.645      -2.103       1.302\n",
      "element_408            0.0989      1.077      0.092      0.927      -2.011       2.209\n",
      "element_409           -0.4332      0.868     -0.499      0.618      -2.134       1.268\n",
      "element_410            0.0936      0.926      0.101      0.919      -1.721       1.908\n",
      "element_411           -0.1278      0.851     -0.150      0.881      -1.796       1.541\n",
      "element_412            0.5126      0.845      0.607      0.544      -1.144       2.169\n",
      "element_413           -0.4790      0.885     -0.541      0.588      -2.213       1.255\n",
      "element_414           -0.4674      1.207     -0.387      0.699      -2.833       1.898\n",
      "element_415            0.7925      0.826      0.960      0.337      -0.826       2.411\n",
      "element_417           -0.6754      0.896     -0.753      0.451      -2.432       1.081\n",
      "element_418            0.2093      0.940      0.223      0.824      -1.632       2.051\n",
      "element_419           -0.0097      0.842     -0.012      0.991      -1.659       1.640\n",
      "element_423           -0.1883      0.849     -0.222      0.824      -1.852       1.475\n",
      "element_425           -0.2297      0.838     -0.274      0.784      -1.871       1.412\n",
      "element_426            0.5467      0.886      0.617      0.537      -1.190       2.284\n",
      "element_427            0.0932      0.839      0.111      0.912      -1.551       1.737\n",
      "element_430           -0.0409      0.834     -0.049      0.961      -1.675       1.593\n",
      "element_431            0.2681      0.953      0.281      0.778      -1.599       2.136\n",
      "element_432            0.5017      0.825      0.608      0.543      -1.116       2.119\n",
      "element_433           -0.1976      0.857     -0.231      0.818      -1.878       1.482\n",
      "element_434            0.2685      0.890      0.302      0.763      -1.476       2.013\n",
      "element_435            0.3940      0.841      0.469      0.639      -1.254       2.042\n",
      "element_437            0.4744      0.808      0.587      0.557      -1.110       2.059\n",
      "element_438           24.1845   4.08e+04      0.001      1.000      -8e+04    8.01e+04\n",
      "element_440           -0.2019      0.940     -0.215      0.830      -2.043       1.639\n",
      "element_441          -23.5499   5.92e+04     -0.000      1.000   -1.16e+05    1.16e+05\n",
      "element_443           20.4770   1.31e+05      0.000      1.000   -2.57e+05    2.57e+05\n",
      "element_444            0.3834      1.401      0.274      0.784      -2.363       3.130\n",
      "element_446            0.8803      0.926      0.950      0.342      -0.935       2.696\n",
      "element_447            0.4696      1.364      0.344      0.731      -2.203       3.143\n",
      "element_448           -0.4047      0.865     -0.468      0.640      -2.100       1.291\n",
      "element_450            0.1811      0.824      0.220      0.826      -1.434       1.796\n",
      "element_451            0.3850      0.827      0.465      0.642      -1.237       2.007\n",
      "element_453            0.1404      1.028      0.137      0.891      -1.874       2.155\n",
      "element_455           -1.9762      1.273     -1.552      0.121      -4.471       0.519\n",
      "element_456           -0.9712      0.901     -1.077      0.281      -2.738       0.795\n",
      "element_458            0.4757      0.856      0.556      0.578      -1.202       2.154\n",
      "element_459            0.8768      0.804      1.091      0.275      -0.699       2.452\n",
      "element_460           -0.3465      0.894     -0.388      0.698      -2.099       1.406\n",
      "element_461           -0.1548      0.869     -0.178      0.859      -1.857       1.548\n",
      "element_462            1.4844      0.872      1.702      0.089      -0.225       3.194\n",
      "element_463           -0.2110      0.913     -0.231      0.817      -1.999       1.578\n",
      "element_464           -0.3008      0.966     -0.311      0.756      -2.194       1.593\n",
      "element_465           -0.3115      0.848     -0.367      0.714      -1.974       1.352\n",
      "element_466           -0.5391      0.876     -0.616      0.538      -2.255       1.177\n",
      "element_467           -0.2090      1.309     -0.160      0.873      -2.775       2.357\n",
      "element_471           -0.6156      1.083     -0.569      0.570      -2.738       1.506\n",
      "element_472            0.9526      1.043      0.913      0.361      -1.092       2.997\n",
      "element_473           -0.7121      1.109     -0.642      0.521      -2.885       1.461\n",
      "element_475            0.2381      0.819      0.291      0.771      -1.367       1.843\n",
      "element_476            0.8495      0.905      0.939      0.348      -0.925       2.624\n",
      "element_478           -0.5820      0.897     -0.649      0.516      -2.339       1.175\n",
      "element_479           -0.8031      1.071     -0.750      0.453      -2.902       1.296\n",
      "element_480           -1.4725      1.023     -1.439      0.150      -3.478       0.533\n",
      "element_481           -0.4903      1.010     -0.485      0.627      -2.470       1.490\n",
      "element_482            0.2563      0.878      0.292      0.770      -1.465       1.978\n",
      "element_483            0.1911      0.842      0.227      0.820      -1.460       1.842\n",
      "element_484            0.6247      0.824      0.758      0.448      -0.991       2.240\n",
      "element_486            0.7465      0.855      0.874      0.382      -0.929       2.422\n",
      "element_487           -0.8478      1.087     -0.780      0.435      -2.978       1.283\n",
      "element_488            0.4410      0.939      0.470      0.639      -1.400       2.282\n",
      "element_489            0.0332      0.822      0.040      0.968      -1.578       1.644\n",
      "element_491          -23.7479   1.31e+05     -0.000      1.000   -2.57e+05    2.57e+05\n",
      "element_492            0.2718      0.884      0.308      0.758      -1.460       2.004\n",
      "element_493            0.6151      0.825      0.745      0.456      -1.002       2.232\n",
      "element_494            0.4131      0.844      0.490      0.624      -1.241       2.067\n",
      "element_495           -0.9696      1.032     -0.940      0.347      -2.991       1.052\n",
      "element_497           22.0314   1.31e+05      0.000      1.000   -2.57e+05    2.57e+05\n",
      "element_499            0.9861      0.827      1.192      0.233      -0.635       2.607\n",
      "element_500            0.1959      0.850      0.230      0.818      -1.471       1.863\n",
      "element_502           -0.7257      0.970     -0.748      0.455      -2.628       1.176\n",
      "element_503           -0.5829      0.952     -0.612      0.541      -2.450       1.284\n",
      "element_504            0.0174      0.853      0.020      0.984      -1.655       1.690\n",
      "element_505            0.8900      0.886      1.005      0.315      -0.846       2.626\n",
      "element_506            0.1856      1.034      0.180      0.858      -1.841       2.212\n",
      "element_507            1.2785      0.825      1.549      0.121      -0.339       2.896\n",
      "element_508            0.6810      0.834      0.816      0.414      -0.954       2.316\n",
      "element_510           -0.7976      0.958     -0.833      0.405      -2.675       1.080\n",
      "element_511           -1.8017      1.322     -1.363      0.173      -4.392       0.789\n",
      "element_512           -0.4574      0.972     -0.471      0.638      -2.362       1.447\n",
      "element_513           -0.3032      0.882     -0.344      0.731      -2.032       1.425\n",
      "element_514            0.2714      0.919      0.295      0.768      -1.530       2.073\n",
      "element_515           -0.8129      1.347     -0.603      0.546      -3.454       1.828\n",
      "element_516            0.2202      0.926      0.238      0.812      -1.594       2.034\n",
      "element_517           -0.1154      1.072     -0.108      0.914      -2.216       1.985\n",
      "element_518            0.6699      1.361      0.492      0.623      -1.998       3.338\n",
      "element_519           -0.3552      1.010     -0.351      0.725      -2.336       1.625\n",
      "element_521          -24.1795    6.7e+04     -0.000      1.000   -1.31e+05    1.31e+05\n",
      "element_522            0.8477      1.176      0.721      0.471      -1.457       3.153\n",
      "element_523           21.3011   1.31e+05      0.000      1.000   -2.57e+05    2.57e+05\n",
      "element_524            0.2562      0.868      0.295      0.768      -1.446       1.958\n",
      "element_526           -0.0641      0.874     -0.073      0.942      -1.778       1.650\n",
      "element_527            0.4131      0.832      0.497      0.620      -1.218       2.044\n",
      "element_531            0.2718      1.038      0.262      0.793      -1.763       2.306\n",
      "element_534           -0.0612      0.937     -0.065      0.948      -1.899       1.776\n",
      "element_535            0.3094      0.967      0.320      0.749      -1.586       2.205\n",
      "element_539           -0.7378      0.949     -0.777      0.437      -2.599       1.123\n",
      "element_540            1.4940      1.407      1.062      0.288      -1.264       4.252\n",
      "element_543            1.3369      1.131      1.182      0.237      -0.879       3.553\n",
      "element_544           -0.9202      2.163     -0.425      0.671      -5.160       3.320\n",
      "element_549            0.4216      1.108      0.380      0.704      -1.751       2.594\n",
      "element_550            0.7561      1.268      0.596      0.551      -1.730       3.242\n",
      "element_552           22.2676   8.27e+04      0.000      1.000   -1.62e+05    1.62e+05\n",
      "element_556            0.0850      0.912      0.093      0.926      -1.702       1.872\n",
      "element_557          -28.6822   1.31e+05     -0.000      1.000   -2.57e+05    2.57e+05\n",
      "element_560           24.0528   1.31e+05      0.000      1.000   -2.57e+05    2.57e+05\n",
      "element_562           21.7187   1.31e+05      0.000      1.000   -2.57e+05    2.57e+05\n",
      "element_563           22.1958   1.31e+05      0.000      1.000   -2.57e+05    2.57e+05\n",
      "element_565          -22.2597   1.31e+05     -0.000      1.000   -2.57e+05    2.57e+05\n",
      "element_566          -28.5582   1.31e+05     -0.000      1.000   -2.57e+05    2.57e+05\n",
      "element_568          -27.3348   1.31e+05     -0.000      1.000   -2.57e+05    2.57e+05\n",
      "element_569            1.2578      1.274      0.987      0.323      -1.239       3.754\n",
      "element_570            0.7916      1.590      0.498      0.619      -2.324       3.908\n",
      "element_571           -0.3997      1.075     -0.372      0.710      -2.506       1.707\n",
      "element_573           23.3672   8.59e+04      0.000      1.000   -1.68e+05    1.68e+05\n",
      "element_574           -0.7058      1.520     -0.464      0.642      -3.685       2.274\n",
      "element_575          -23.1247   3.88e+04     -0.001      1.000    -7.6e+04    7.59e+04\n",
      "element_579           -0.0797      1.110     -0.072      0.943      -2.256       2.097\n",
      "element_580            0.1822      1.141      0.160      0.873      -2.053       2.418\n",
      "element_581          -24.7392   8.53e+04     -0.000      1.000   -1.67e+05    1.67e+05\n",
      "element_585           -0.5050      1.136     -0.445      0.657      -2.731       1.721\n",
      "element_586            0.9157      1.489      0.615      0.539      -2.003       3.835\n",
      "element_587           -0.2034      1.142     -0.178      0.859      -2.442       2.035\n",
      "element_588           23.4554   1.31e+05      0.000      1.000   -2.57e+05    2.57e+05\n",
      "element_589           -0.0207      1.177     -0.018      0.986      -2.327       2.286\n",
      "element_590           -0.2375      1.196     -0.199      0.843      -2.581       2.106\n",
      "element_591           -0.8492      1.308     -0.649      0.516      -3.413       1.714\n",
      "element_592            0.7299      1.109      0.658      0.510      -1.443       2.903\n",
      "element_593          -23.1605   6.43e+04     -0.000      1.000   -1.26e+05    1.26e+05\n",
      "element_594          -24.3655   1.31e+05     -0.000      1.000   -2.57e+05    2.57e+05\n",
      "element_599           24.7635   1.31e+05      0.000      1.000   -2.57e+05    2.57e+05\n",
      "element_601           24.8553   1.31e+05      0.000      1.000   -2.57e+05    2.57e+05\n",
      "element_602           20.9130   1.31e+05      0.000      1.000   -2.57e+05    2.57e+05\n",
      "element_603           20.4300   1.31e+05      0.000      1.000   -2.57e+05    2.57e+05\n",
      "element_605          -22.2146   1.31e+05     -0.000      1.000   -2.57e+05    2.57e+05\n",
      "element_607           -0.4023      1.688     -0.238      0.812      -3.710       2.905\n",
      "element_608           24.7635   1.31e+05      0.000      1.000   -2.57e+05    2.57e+05\n",
      "log_minutes           -1.1212      0.047    -23.892      0.000      -1.213      -1.029\n",
      "======================================================================================\n"
     ]
    }
   ],
   "source": [
    "print(sppmm_results.summary())"
   ]
  },
  {
   "cell_type": "markdown",
   "metadata": {
    "heading_collapsed": true,
    "hidden": true
   },
   "source": [
    "### Model fit"
   ]
  },
  {
   "cell_type": "code",
   "execution_count": 85,
   "metadata": {
    "ExecuteTime": {
     "end_time": "2019-04-04T18:49:02.147722Z",
     "start_time": "2019-04-04T18:49:02.142781Z"
    },
    "hidden": true
   },
   "outputs": [
    {
     "data": {
      "text/plain": [
       "9397.492246035312"
      ]
     },
     "execution_count": 85,
     "metadata": {},
     "output_type": "execute_result"
    }
   ],
   "source": [
    "sppmm_results.aic"
   ]
  },
  {
   "cell_type": "code",
   "execution_count": 86,
   "metadata": {
    "ExecuteTime": {
     "end_time": "2019-04-04T18:49:02.180158Z",
     "start_time": "2019-04-04T18:49:02.149777Z"
    },
    "hidden": true
   },
   "outputs": [
    {
     "data": {
      "text/plain": [
       "-60746.21175507794"
      ]
     },
     "execution_count": 86,
     "metadata": {},
     "output_type": "execute_result"
    }
   ],
   "source": [
    "sppmm_results.bic"
   ]
  },
  {
   "cell_type": "code",
   "execution_count": 87,
   "metadata": {
    "ExecuteTime": {
     "end_time": "2019-04-04T18:49:02.205553Z",
     "start_time": "2019-04-04T18:49:02.182224Z"
    },
    "hidden": true
   },
   "outputs": [
    {
     "data": {
      "text/plain": [
       "(True, 1.1195786013828979e-06)"
      ]
     },
     "execution_count": 87,
     "metadata": {},
     "output_type": "execute_result"
    }
   ],
   "source": [
    "sppmm_pearson_results = goodness_fit.pearson_chi_squared_test(sppmm_results)\n",
    "sppmm_pearson_results"
   ]
  },
  {
   "cell_type": "code",
   "execution_count": 88,
   "metadata": {
    "ExecuteTime": {
     "end_time": "2019-04-04T18:49:02.236301Z",
     "start_time": "2019-04-04T18:49:02.207892Z"
    },
    "hidden": true
   },
   "outputs": [
    {
     "data": {
      "text/plain": [
       "count    8161.000000\n",
       "mean       -0.069114\n",
       "std         1.014509\n",
       "min        -2.988723\n",
       "25%        -0.819186\n",
       "50%        -0.485085\n",
       "75%         0.917354\n",
       "max         2.628326\n",
       "dtype: float64"
      ]
     },
     "execution_count": 88,
     "metadata": {},
     "output_type": "execute_result"
    }
   ],
   "source": [
    "sppmm_results.resid_deviance.describe()"
   ]
  },
  {
   "cell_type": "code",
   "execution_count": 89,
   "metadata": {
    "ExecuteTime": {
     "end_time": "2019-04-04T18:49:02.529339Z",
     "start_time": "2019-04-04T18:49:02.238494Z"
    },
    "hidden": true
   },
   "outputs": [
    {
     "data": {
      "image/png": "[encoded data removed]",
      "text/plain": [
       "<Figure size 432x288 with 1 Axes>"
      ]
     },
     "metadata": {
      "needs_background": "light"
     },
     "output_type": "display_data"
    }
   ],
   "source": [
    "plt.figure()\n",
    "plt.hist(sppmm_results.resid_deviance, bins=20)\n",
    "plt.show()"
   ]
  },
  {
   "cell_type": "markdown",
   "metadata": {},
   "source": [
    "# Model comparison"
   ]
  },
  {
   "cell_type": "code",
   "execution_count": 90,
   "metadata": {
    "ExecuteTime": {
     "end_time": "2019-04-04T18:49:02.538405Z",
     "start_time": "2019-04-04T18:49:02.531635Z"
    }
   },
   "outputs": [
    {
     "data": {
      "text/plain": [
       "{'Simple Binomial': 10855.250723923336,\n",
       " 'Binomial teams': 9886.923918834633,\n",
       " 'Binomial players': 10209.539448857726,\n",
       " 'Simple Binomial minutes': 9767.017587567554,\n",
       " 'Binomial teams minutes': 8804.653348650158,\n",
       " 'Binomial players minutes': 9397.492246035312}"
      ]
     },
     "execution_count": 90,
     "metadata": {},
     "output_type": "execute_result"
    }
   ],
   "source": [
    "aic = {\n",
    "    'Simple Binomial': spm_results.aic,\n",
    "    'Binomial teams': sptm_results.aic,\n",
    "    'Binomial players': sppm_results.aic,\n",
    "    \n",
    "    'Simple Binomial minutes': spmm_results.aic,\n",
    "    'Binomial teams minutes': sptmm_results.aic,\n",
    "    'Binomial players minutes': sppmm_results.aic,\n",
    "    }\n",
    "aic"
   ]
  },
  {
   "cell_type": "code",
   "execution_count": 91,
   "metadata": {
    "ExecuteTime": {
     "end_time": "2019-04-04T18:49:02.688404Z",
     "start_time": "2019-04-04T18:49:02.540781Z"
    }
   },
   "outputs": [
    {
     "data": {
      "text/plain": [
       "{'Simple Binomial': -62644.86471014567,\n",
       " 'Binomial teams': -63325.89951366615,\n",
       " 'Binomial players': -59941.17167424499,\n",
       " 'Simple Binomial minutes': -63726.090724511996,\n",
       " 'Binomial teams minutes': -64401.16296186115,\n",
       " 'Binomial players minutes': -60746.21175507794}"
      ]
     },
     "execution_count": 91,
     "metadata": {},
     "output_type": "execute_result"
    }
   ],
   "source": [
    "bic = {\n",
    "    'Simple Binomial': spm_results.bic,\n",
    "    'Binomial teams': sptm_results.bic,\n",
    "    'Binomial players': sppm_results.bic,\n",
    "    \n",
    "    'Simple Binomial minutes': spmm_results.bic,\n",
    "    'Binomial teams minutes': sptmm_results.bic,\n",
    "    'Binomial players minutes': sppmm_results.bic,\n",
    "    }\n",
    "bic"
   ]
  },
  {
   "cell_type": "code",
   "execution_count": 93,
   "metadata": {
    "ExecuteTime": {
     "end_time": "2019-04-04T18:53:59.148597Z",
     "start_time": "2019-04-04T18:53:59.125339Z"
    }
   },
   "outputs": [
    {
     "data": {
      "text/html": [
       "<div>\n",
       "<style scoped>\n",
       "    .dataframe tbody tr th:only-of-type {\n",
       "        vertical-align: middle;\n",
       "    }\n",
       "\n",
       "    .dataframe tbody tr th {\n",
       "        vertical-align: top;\n",
       "    }\n",
       "\n",
       "    .dataframe thead th {\n",
       "        text-align: right;\n",
       "    }\n",
       "</style>\n",
       "<table border=\"1\" class=\"dataframe\">\n",
       "  <thead>\n",
       "    <tr style=\"text-align: right;\">\n",
       "      <th></th>\n",
       "      <th>AIC</th>\n",
       "      <th>BIC</th>\n",
       "    </tr>\n",
       "  </thead>\n",
       "  <tbody>\n",
       "    <tr>\n",
       "      <th>Binomial players</th>\n",
       "      <td>10209</td>\n",
       "      <td>-59941</td>\n",
       "    </tr>\n",
       "    <tr>\n",
       "      <th>Binomial players minutes</th>\n",
       "      <td>9397</td>\n",
       "      <td>-60746</td>\n",
       "    </tr>\n",
       "    <tr>\n",
       "      <th>Binomial teams</th>\n",
       "      <td>9886</td>\n",
       "      <td>-63325</td>\n",
       "    </tr>\n",
       "    <tr>\n",
       "      <th>Binomial teams minutes</th>\n",
       "      <td>8804</td>\n",
       "      <td>-64401</td>\n",
       "    </tr>\n",
       "    <tr>\n",
       "      <th>Simple Binomial</th>\n",
       "      <td>10855</td>\n",
       "      <td>-62644</td>\n",
       "    </tr>\n",
       "    <tr>\n",
       "      <th>Simple Binomial minutes</th>\n",
       "      <td>9767</td>\n",
       "      <td>-63726</td>\n",
       "    </tr>\n",
       "  </tbody>\n",
       "</table>\n",
       "</div>"
      ],
      "text/plain": [
       "                            AIC    BIC\n",
       "Binomial players          10209 -59941\n",
       "Binomial players minutes   9397 -60746\n",
       "Binomial teams             9886 -63325\n",
       "Binomial teams minutes     8804 -64401\n",
       "Simple Binomial           10855 -62644\n",
       "Simple Binomial minutes    9767 -63726"
      ]
     },
     "execution_count": 93,
     "metadata": {},
     "output_type": "execute_result"
    }
   ],
   "source": [
    "comp_df = pd.DataFrame([\n",
    "    aic,\n",
    "    bic\n",
    "]).T\n",
    "comp_df.columns = [\n",
    "    'AIC',\n",
    "    'BIC'\n",
    "]\n",
    "comp_df.astype('int64')"
   ]
  },
  {
   "cell_type": "code",
   "execution_count": null,
   "metadata": {},
   "outputs": [],
   "source": []
  }
 ],
 "metadata": {
  "kernelspec": {
   "display_name": "Python 3",
   "language": "python",
   "name": "python3"
  },
  "language_info": {
   "codemirror_mode": {
    "name": "ipython",
    "version": 3
   },
   "file_extension": ".py",
   "mimetype": "text/x-python",
   "name": "python",
   "nbconvert_exporter": "python",
   "pygments_lexer": "ipython3",
   "version": "3.6.7"
  },
  "toc": {
   "nav_menu": {},
   "number_sections": true,
   "sideBar": true,
   "skip_h1_title": false,
   "title_cell": "Table of Contents",
   "title_sidebar": "Contents",
   "toc_cell": false,
   "toc_position": {},
   "toc_section_display": true,
   "toc_window_display": false
  }
 },
 "nbformat": 4,
 "nbformat_minor": 2
}
