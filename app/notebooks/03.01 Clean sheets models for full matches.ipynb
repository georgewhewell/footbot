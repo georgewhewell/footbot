{
 "cells": [
  {
   "cell_type": "markdown",
   "metadata": {},
   "source": [
    "# Set up"
   ]
  },
  {
   "cell_type": "code",
   "execution_count": 1,
   "metadata": {
    "ExecuteTime": {
     "end_time": "2019-03-23T16:16:15.402400Z",
     "start_time": "2019-03-23T16:16:15.397257Z"
    }
   },
   "outputs": [],
   "source": [
    "# update path with data dir\n",
    "import sys\n",
    "sys.path.append('../data/')\n",
    "sys.path.append('../modelling/')"
   ]
  },
  {
   "cell_type": "code",
   "execution_count": 2,
   "metadata": {
    "ExecuteTime": {
     "end_time": "2019-03-23T16:16:16.614664Z",
     "start_time": "2019-03-23T16:16:15.405207Z"
    }
   },
   "outputs": [
    {
     "name": "stderr",
     "output_type": "stream",
     "text": [
      "/home/tom/footbot/venv/lib/python3.6/site-packages/statsmodels/compat/pandas.py:56: FutureWarning: The pandas.core.datetools module is deprecated and will be removed in a future version. Please use the pandas.tseries module instead.\n",
      "  from pandas.core import datetools\n"
     ]
    }
   ],
   "source": [
    "import player_data as player\n",
    "import goodness_fit\n",
    "import pandas as pd\n",
    "from datetime import datetime\n",
    "import statsmodels.api as sm\n",
    "import matplotlib.pyplot as plt\n",
    "import numpy as np\n",
    "import patsy"
   ]
  },
  {
   "cell_type": "markdown",
   "metadata": {},
   "source": [
    "# Get data"
   ]
  },
  {
   "cell_type": "code",
   "execution_count": 3,
   "metadata": {
    "ExecuteTime": {
     "end_time": "2019-03-23T16:16:16.621078Z",
     "start_time": "2019-03-23T16:16:16.617579Z"
    }
   },
   "outputs": [],
   "source": [
    "file_name = 'csvs/element_gameweek_' + datetime.today().strftime('%Y-%m-%d') + '.csv'"
   ]
  },
  {
   "cell_type": "code",
   "execution_count": 4,
   "metadata": {
    "ExecuteTime": {
     "end_time": "2019-03-23T16:16:16.788089Z",
     "start_time": "2019-03-23T16:16:16.623698Z"
    }
   },
   "outputs": [],
   "source": [
    "try:\n",
    "    element_gameweek_df = pd.read_csv(file_name)\n",
    "except:\n",
    "    element_gameweek_df = player.get_element_gameweek_df()\n",
    "    element_gameweek_df.to_csv(file_name)"
   ]
  },
  {
   "cell_type": "code",
   "execution_count": 5,
   "metadata": {
    "ExecuteTime": {
     "end_time": "2019-03-23T16:16:16.793847Z",
     "start_time": "2019-03-23T16:16:16.790280Z"
    }
   },
   "outputs": [],
   "source": [
    "current_event = 30\n",
    "element_types = [1, 2, 3]\n",
    "threshold_minutes = 85"
   ]
  },
  {
   "cell_type": "code",
   "execution_count": 6,
   "metadata": {
    "ExecuteTime": {
     "end_time": "2019-03-23T16:16:16.950230Z",
     "start_time": "2019-03-23T16:16:16.795817Z"
    }
   },
   "outputs": [],
   "source": [
    "element_gameweek_df =\\\n",
    "element_gameweek_df[\n",
    "    (element_gameweek_df['event'] <= current_event)\n",
    "    & (element_gameweek_df['element_type'].isin(element_types))\n",
    "    & (element_gameweek_df['minutes'] >= threshold_minutes)\n",
    "]"
   ]
  },
  {
   "cell_type": "markdown",
   "metadata": {},
   "source": [
    "# Models"
   ]
  },
  {
   "cell_type": "markdown",
   "metadata": {},
   "source": [
    "## Bernoulli teams model"
   ]
  },
  {
   "cell_type": "markdown",
   "metadata": {},
   "source": [
    "### Preparing data"
   ]
  },
  {
   "cell_type": "code",
   "execution_count": 7,
   "metadata": {
    "ExecuteTime": {
     "end_time": "2019-03-23T16:16:16.977596Z",
     "start_time": "2019-03-23T16:16:16.953682Z"
    }
   },
   "outputs": [],
   "source": [
    "btm_df = element_gameweek_df.copy()"
   ]
  },
  {
   "cell_type": "code",
   "execution_count": 8,
   "metadata": {
    "ExecuteTime": {
     "end_time": "2019-03-23T16:16:17.191778Z",
     "start_time": "2019-03-23T16:16:16.980708Z"
    }
   },
   "outputs": [],
   "source": [
    "btm_formula = 'clean_sheets ~ C(opposition_team) + C(own_team)'\n",
    "\n",
    "btm_response_df, btm_explanatory_df = patsy.dmatrices(btm_formula, btm_df, return_type='dataframe')"
   ]
  },
  {
   "cell_type": "markdown",
   "metadata": {},
   "source": [
    "### Fitting model"
   ]
  },
  {
   "cell_type": "code",
   "execution_count": 9,
   "metadata": {
    "ExecuteTime": {
     "end_time": "2019-03-23T16:16:17.355936Z",
     "start_time": "2019-03-23T16:16:17.199485Z"
    }
   },
   "outputs": [],
   "source": [
    "btm_results = sm.GLM(\n",
    "    btm_response_df,\n",
    "    btm_explanatory_df,\n",
    "    family=sm.families.Binomial(),\n",
    "    missing='drop'\n",
    ").fit()"
   ]
  },
  {
   "cell_type": "code",
   "execution_count": 10,
   "metadata": {
    "ExecuteTime": {
     "end_time": "2019-03-23T16:16:17.425102Z",
     "start_time": "2019-03-23T16:16:17.368737Z"
    }
   },
   "outputs": [
    {
     "name": "stdout",
     "output_type": "stream",
     "text": [
      "                 Generalized Linear Model Regression Results                  \n",
      "==============================================================================\n",
      "Dep. Variable:           clean_sheets   No. Observations:                 4679\n",
      "Model:                            GLM   Df Residuals:                     4640\n",
      "Model Family:                Binomial   Df Model:                           38\n",
      "Link Function:                  logit   Scale:                             1.0\n",
      "Method:                          IRLS   Log-Likelihood:                -2415.9\n",
      "Date:                Sat, 23 Mar 2019   Deviance:                       4831.9\n",
      "Time:                        16:16:17   Pearson chi2:                 4.58e+03\n",
      "No. Iterations:                     6                                         \n",
      "============================================================================================\n",
      "                               coef    std err          z      P>|z|      [0.025      0.975]\n",
      "--------------------------------------------------------------------------------------------\n",
      "Intercept                   -3.2657      0.315    -10.379      0.000      -3.882      -2.649\n",
      "C(opposition_team)[T.2]      2.1425      0.295      7.274      0.000       1.565       2.720\n",
      "C(opposition_team)[T.3]      1.6605      0.303      5.481      0.000       1.067       2.254\n",
      "C(opposition_team)[T.4]      2.1345      0.295      7.228      0.000       1.556       2.713\n",
      "C(opposition_team)[T.5]      2.5958      0.293      8.871      0.000       2.022       3.169\n",
      "C(opposition_team)[T.6]      1.7344      0.301      5.753      0.000       1.143       2.325\n",
      "C(opposition_team)[T.7]      2.0282      0.297      6.832      0.000       1.446       2.610\n",
      "C(opposition_team)[T.8]      1.7707      0.299      5.923      0.000       1.185       2.357\n",
      "C(opposition_team)[T.9]      2.4923      0.292      8.549      0.000       1.921       3.064\n",
      "C(opposition_team)[T.10]     3.0276      0.294     10.296      0.000       2.451       3.604\n",
      "C(opposition_team)[T.11]     1.1573      0.312      3.709      0.000       0.546       1.769\n",
      "C(opposition_team)[T.12]     0.7292      0.334      2.184      0.029       0.075       1.384\n",
      "C(opposition_team)[T.13]     0.1974      0.360      0.549      0.583      -0.507       0.902\n",
      "C(opposition_team)[T.14]     0.8838      0.321      2.756      0.006       0.255       1.512\n",
      "C(opposition_team)[T.15]     2.2533      0.294      7.652      0.000       1.676       2.831\n",
      "C(opposition_team)[T.16]     1.9329      0.297      6.504      0.000       1.350       2.515\n",
      "C(opposition_team)[T.17]     0.6916      0.332      2.083      0.037       0.041       1.342\n",
      "C(opposition_team)[T.18]     1.6002      0.300      5.326      0.000       1.011       2.189\n",
      "C(opposition_team)[T.19]     2.4606      0.293      8.405      0.000       1.887       3.034\n",
      "C(opposition_team)[T.20]     1.7835      0.298      5.980      0.000       1.199       2.368\n",
      "C(own_team)[T.2]             0.5341      0.237      2.257      0.024       0.070       0.998\n",
      "C(own_team)[T.3]             0.1081      0.243      0.444      0.657      -0.369       0.585\n",
      "C(own_team)[T.4]             0.0902      0.241      0.374      0.708      -0.383       0.563\n",
      "C(own_team)[T.5]             0.5016      0.233      2.157      0.031       0.046       0.957\n",
      "C(own_team)[T.6]             1.2090      0.229      5.283      0.000       0.761       1.658\n",
      "C(own_team)[T.7]             0.8185      0.228      3.592      0.000       0.372       1.265\n",
      "C(own_team)[T.8]             0.5867      0.230      2.551      0.011       0.136       1.037\n",
      "C(own_team)[T.9]            -1.1929      0.325     -3.669      0.000      -1.830      -0.556\n",
      "C(own_team)[T.10]           -0.0997      0.252     -0.396      0.692      -0.594       0.394\n",
      "C(own_team)[T.11]            0.3272      0.238      1.373      0.170      -0.140       0.794\n",
      "C(own_team)[T.12]            1.9387      0.226      8.579      0.000       1.496       2.382\n",
      "C(own_team)[T.13]            1.4306      0.223      6.405      0.000       0.993       1.868\n",
      "C(own_team)[T.14]            0.2850      0.240      1.187      0.235      -0.186       0.756\n",
      "C(own_team)[T.15]            0.6523      0.234      2.783      0.005       0.193       1.112\n",
      "C(own_team)[T.16]            0.2086      0.240      0.869      0.385      -0.262       0.679\n",
      "C(own_team)[T.17]            0.8044      0.227      3.537      0.000       0.359       1.250\n",
      "C(own_team)[T.18]            0.3260      0.237      1.375      0.169      -0.139       0.791\n",
      "C(own_team)[T.19]           -0.1646      0.253     -0.649      0.516      -0.661       0.332\n",
      "C(own_team)[T.20]            0.2949      0.237      1.246      0.213      -0.169       0.759\n",
      "============================================================================================\n"
     ]
    }
   ],
   "source": [
    "print(btm_results.summary())"
   ]
  },
  {
   "cell_type": "markdown",
   "metadata": {},
   "source": [
    "### Model fit"
   ]
  },
  {
   "cell_type": "code",
   "execution_count": 11,
   "metadata": {
    "ExecuteTime": {
     "end_time": "2019-03-23T16:16:17.445012Z",
     "start_time": "2019-03-23T16:16:17.433098Z"
    }
   },
   "outputs": [
    {
     "data": {
      "text/plain": [
       "4909.8630659272685"
      ]
     },
     "execution_count": 11,
     "metadata": {},
     "output_type": "execute_result"
    }
   ],
   "source": [
    "btm_results.aic"
   ]
  },
  {
   "cell_type": "code",
   "execution_count": 12,
   "metadata": {
    "ExecuteTime": {
     "end_time": "2019-03-23T16:16:17.475214Z",
     "start_time": "2019-03-23T16:16:17.448186Z"
    }
   },
   "outputs": [
    {
     "data": {
      "text/plain": [
       "-34380.03309969197"
      ]
     },
     "execution_count": 12,
     "metadata": {},
     "output_type": "execute_result"
    }
   ],
   "source": [
    "btm_results.bic"
   ]
  },
  {
   "cell_type": "code",
   "execution_count": 13,
   "metadata": {
    "ExecuteTime": {
     "end_time": "2019-03-23T16:16:17.507628Z",
     "start_time": "2019-03-23T16:16:17.477683Z"
    }
   },
   "outputs": [
    {
     "data": {
      "text/plain": [
       "(False, 0.719711263818926)"
      ]
     },
     "execution_count": 13,
     "metadata": {},
     "output_type": "execute_result"
    }
   ],
   "source": [
    "btm_pearson_results = goodness_fit.pearson_chi_squared_test(btm_results)\n",
    "btm_pearson_results"
   ]
  },
  {
   "cell_type": "code",
   "execution_count": 14,
   "metadata": {
    "ExecuteTime": {
     "end_time": "2019-03-23T16:16:17.546789Z",
     "start_time": "2019-03-23T16:16:17.509683Z"
    }
   },
   "outputs": [
    {
     "data": {
      "text/plain": [
       "count    4679.000000\n",
       "mean       -0.117461\n",
       "std         1.009500\n",
       "min        -1.741573\n",
       "25%        -0.823353\n",
       "50%        -0.531882\n",
       "75%         0.990704\n",
       "max         2.631436\n",
       "dtype: float64"
      ]
     },
     "execution_count": 14,
     "metadata": {},
     "output_type": "execute_result"
    }
   ],
   "source": [
    "btm_results.resid_deviance.describe()"
   ]
  },
  {
   "cell_type": "code",
   "execution_count": 15,
   "metadata": {
    "ExecuteTime": {
     "end_time": "2019-03-23T16:16:17.819389Z",
     "start_time": "2019-03-23T16:16:17.548838Z"
    }
   },
   "outputs": [
    {
     "data": {
      "image/png": "[encoded data removed]",
      "text/plain": [
       "<Figure size 432x288 with 1 Axes>"
      ]
     },
     "metadata": {
      "needs_background": "light"
     },
     "output_type": "display_data"
    }
   ],
   "source": [
    "plt.figure()\n",
    "plt.hist(btm_results.resid_deviance)\n",
    "plt.show()"
   ]
  },
  {
   "cell_type": "markdown",
   "metadata": {},
   "source": [
    "## Bernoulli players model"
   ]
  },
  {
   "cell_type": "markdown",
   "metadata": {},
   "source": [
    "### Preparing data"
   ]
  },
  {
   "cell_type": "code",
   "execution_count": 16,
   "metadata": {
    "ExecuteTime": {
     "end_time": "2019-03-23T16:16:17.825216Z",
     "start_time": "2019-03-23T16:16:17.821469Z"
    }
   },
   "outputs": [],
   "source": [
    "bpm_df = element_gameweek_df.copy()"
   ]
  },
  {
   "cell_type": "code",
   "execution_count": 17,
   "metadata": {
    "ExecuteTime": {
     "end_time": "2019-03-23T16:16:17.992213Z",
     "start_time": "2019-03-23T16:16:17.827222Z"
    }
   },
   "outputs": [],
   "source": [
    "bpm_formula = 'clean_sheets ~ C(opposition_team) + C(element)'\n",
    "\n",
    "bpm_response_df, bpm_explanatory_df = patsy.dmatrices(bpm_formula, bpm_df, return_type='dataframe')"
   ]
  },
  {
   "cell_type": "markdown",
   "metadata": {},
   "source": [
    "### Fitting model"
   ]
  },
  {
   "cell_type": "code",
   "execution_count": 18,
   "metadata": {
    "ExecuteTime": {
     "end_time": "2019-03-23T16:16:26.274553Z",
     "start_time": "2019-03-23T16:16:17.994273Z"
    }
   },
   "outputs": [],
   "source": [
    "bpm_results = sm.GLM(\n",
    "    bpm_response_df,\n",
    "    bpm_explanatory_df,\n",
    "    family=sm.families.Binomial(),\n",
    "    missing='drop'\n",
    ").fit()"
   ]
  },
  {
   "cell_type": "code",
   "execution_count": 19,
   "metadata": {
    "ExecuteTime": {
     "end_time": "2019-03-23T16:16:26.508528Z",
     "start_time": "2019-03-23T16:16:26.282413Z"
    }
   },
   "outputs": [
    {
     "name": "stdout",
     "output_type": "stream",
     "text": [
      "                 Generalized Linear Model Regression Results                  \n",
      "==============================================================================\n",
      "Dep. Variable:           clean_sheets   No. Observations:                 4679\n",
      "Model:                            GLM   Df Residuals:                     4296\n",
      "Model Family:                Binomial   Df Model:                          382\n",
      "Link Function:                  logit   Scale:                             1.0\n",
      "Method:                          IRLS   Log-Likelihood:                -2307.3\n",
      "Date:                Sat, 23 Mar 2019   Deviance:                       4614.6\n",
      "Time:                        16:16:26   Pearson chi2:                 4.52e+03\n",
      "No. Iterations:                    24                                         \n",
      "============================================================================================\n",
      "                               coef    std err          z      P>|z|      [0.025      0.975]\n",
      "--------------------------------------------------------------------------------------------\n",
      "Intercept                   -3.6603      1.154     -3.171      0.002      -5.923      -1.398\n",
      "C(opposition_team)[T.2]      2.2334      0.302      7.393      0.000       1.641       2.826\n",
      "C(opposition_team)[T.3]      1.6456      0.311      5.297      0.000       1.037       2.254\n",
      "C(opposition_team)[T.4]      2.2099      0.304      7.275      0.000       1.615       2.805\n",
      "C(opposition_team)[T.5]      2.6497      0.301      8.799      0.000       2.060       3.240\n",
      "C(opposition_team)[T.6]      1.7348      0.309      5.617      0.000       1.129       2.340\n",
      "C(opposition_team)[T.7]      2.0506      0.304      6.738      0.000       1.454       2.647\n",
      "C(opposition_team)[T.8]      1.7756      0.306      5.796      0.000       1.175       2.376\n",
      "C(opposition_team)[T.9]      2.5842      0.299      8.643      0.000       1.998       3.170\n",
      "C(opposition_team)[T.10]     3.1304      0.302     10.367      0.000       2.539       3.722\n",
      "C(opposition_team)[T.11]     1.1412      0.320      3.571      0.000       0.515       1.768\n",
      "C(opposition_team)[T.12]     0.6845      0.343      1.995      0.046       0.012       1.357\n",
      "C(opposition_team)[T.13]     0.1419      0.369      0.385      0.700      -0.581       0.864\n",
      "C(opposition_team)[T.14]     0.8872      0.327      2.713      0.007       0.246       1.528\n",
      "C(opposition_team)[T.15]     2.2670      0.301      7.535      0.000       1.677       2.857\n",
      "C(opposition_team)[T.16]     1.9665      0.305      6.455      0.000       1.369       2.564\n",
      "C(opposition_team)[T.17]     0.6392      0.340      1.879      0.060      -0.028       1.306\n",
      "C(opposition_team)[T.18]     1.6378      0.308      5.319      0.000       1.034       2.241\n",
      "C(opposition_team)[T.19]     2.5424      0.300      8.478      0.000       1.955       3.130\n",
      "C(opposition_team)[T.20]     1.8388      0.305      6.033      0.000       1.241       2.436\n",
      "C(element)[T.2]              0.1325      1.262      0.105      0.916      -2.341       2.606\n",
      "C(element)[T.3]              0.4105      1.408      0.291      0.771      -2.350       3.171\n",
      "C(element)[T.4]              0.3485      1.311      0.266      0.790      -2.221       2.917\n",
      "C(element)[T.5]              0.2629      1.311      0.201      0.841      -2.307       2.833\n",
      "C(element)[T.6]             -0.0470      1.568     -0.030      0.976      -3.120       3.026\n",
      "C(element)[T.7]              0.0470      1.300      0.036      0.971      -2.500       2.594\n",
      "C(element)[T.8]              0.7080      1.291      0.548      0.583      -1.822       3.238\n",
      "C(element)[T.9]             -0.4315      1.357     -0.318      0.750      -3.091       2.228\n",
      "C(element)[T.11]           -22.8581   1.21e+05     -0.000      1.000   -2.36e+05    2.36e+05\n",
      "C(element)[T.12]             0.3908      1.268      0.308      0.758      -2.094       2.876\n",
      "C(element)[T.13]             1.0459      1.423      0.735      0.462      -1.743       3.835\n",
      "C(element)[T.14]             0.6625      1.668      0.397      0.691      -2.607       3.932\n",
      "C(element)[T.15]             0.0643      1.617      0.040      0.968      -3.104       3.233\n",
      "C(element)[T.17]             0.7686      1.230      0.625      0.532      -1.642       3.179\n",
      "C(element)[T.18]            -0.2282      1.567     -0.146      0.884      -3.299       2.842\n",
      "C(element)[T.20]             0.1118      1.633      0.068      0.945      -3.089       3.312\n",
      "C(element)[T.24]             0.6425      1.243      0.517      0.605      -1.794       3.079\n",
      "C(element)[T.25]             1.3921      1.391      1.001      0.317      -1.334       4.118\n",
      "C(element)[T.26]             1.2678      1.304      0.973      0.331      -1.287       3.823\n",
      "C(element)[T.27]             0.8457      1.216      0.696      0.487      -1.537       3.228\n",
      "C(element)[T.28]             0.8825      1.297      0.680      0.496      -1.660       3.425\n",
      "C(element)[T.29]             1.3961      1.254      1.114      0.265      -1.061       3.853\n",
      "C(element)[T.30]           -22.0476   2.16e+05     -0.000      1.000   -4.23e+05    4.23e+05\n",
      "C(element)[T.31]             0.8759      1.207      0.726      0.468      -1.490       3.242\n",
      "C(element)[T.33]             1.0987      1.272      0.864      0.388      -1.394       3.591\n",
      "C(element)[T.35]             0.9816      1.292      0.760      0.447      -1.550       3.514\n",
      "C(element)[T.36]             1.0582      1.600      0.661      0.509      -2.079       4.195\n",
      "C(element)[T.37]             0.7595      1.319      0.576      0.565      -1.826       3.345\n",
      "C(element)[T.38]           -23.3322   1.49e+05     -0.000      1.000   -2.93e+05    2.93e+05\n",
      "C(element)[T.39]             0.1124      1.623      0.069      0.945      -3.069       3.293\n",
      "C(element)[T.40]             0.4281      1.244      0.344      0.731      -2.010       2.866\n",
      "C(element)[T.42]             1.3740      1.374      1.000      0.317      -1.320       4.068\n",
      "C(element)[T.47]             0.2890      1.239      0.233      0.816      -2.139       2.717\n",
      "C(element)[T.48]             0.4891      1.225      0.399      0.690      -1.912       2.890\n",
      "C(element)[T.49]             0.6165      1.228      0.502      0.616      -1.791       3.024\n",
      "C(element)[T.50]             1.3296      1.463      0.909      0.363      -1.538       4.197\n",
      "C(element)[T.51]             0.7204      1.274      0.566      0.572      -1.776       3.217\n",
      "C(element)[T.54]           -23.4745   9.09e+04     -0.000      1.000   -1.78e+05    1.78e+05\n",
      "C(element)[T.55]             0.5652      1.420      0.398      0.691      -2.218       3.348\n",
      "C(element)[T.56]             0.5075      1.270      0.400      0.689      -1.981       2.996\n",
      "C(element)[T.57]             1.8577      1.431      1.298      0.194      -0.947       4.662\n",
      "C(element)[T.58]             0.6074      1.280      0.474      0.635      -1.902       3.117\n",
      "C(element)[T.59]             1.1347      1.472      0.771      0.441      -1.751       4.020\n",
      "C(element)[T.60]            -0.1041      1.295     -0.080      0.936      -2.643       2.434\n",
      "C(element)[T.61]           -24.3343   1.15e+05     -0.000      1.000   -2.25e+05    2.25e+05\n",
      "C(element)[T.67]             0.1513      1.387      0.109      0.913      -2.567       2.870\n",
      "C(element)[T.69]             0.3358      1.313      0.256      0.798      -2.238       2.909\n",
      "C(element)[T.70]             0.3630      1.221      0.297      0.766      -2.029       2.755\n",
      "C(element)[T.71]            27.2599   2.16e+05      0.000      1.000   -4.23e+05    4.23e+05\n",
      "C(element)[T.72]             0.3451      1.239      0.279      0.781      -2.083       2.773\n",
      "C(element)[T.73]             0.8448      1.626      0.520      0.603      -2.342       4.032\n",
      "C(element)[T.74]             0.2836      1.237      0.229      0.819      -2.141       2.708\n",
      "C(element)[T.75]             0.6287      1.308      0.481      0.631      -1.935       3.193\n",
      "C(element)[T.76]             0.1536      1.311      0.117      0.907      -2.416       2.723\n",
      "C(element)[T.77]           -24.0744   1.49e+05     -0.000      1.000   -2.92e+05    2.92e+05\n",
      "C(element)[T.78]            -0.2410      1.566     -0.154      0.878      -3.309       2.827\n",
      "C(element)[T.79]             1.5819      1.686      0.938      0.348      -1.723       4.887\n",
      "C(element)[T.80]             0.5770      1.244      0.464      0.643      -1.862       3.016\n",
      "C(element)[T.82]             0.4814      1.223      0.394      0.694      -1.916       2.879\n",
      "C(element)[T.83]             0.6509      1.329      0.490      0.624      -1.954       3.256\n",
      "C(element)[T.88]             0.8180      1.205      0.679      0.497      -1.543       3.179\n",
      "C(element)[T.90]             0.8839      1.219      0.725      0.468      -1.504       3.272\n",
      "C(element)[T.91]             0.7668      1.215      0.631      0.528      -1.614       3.148\n",
      "C(element)[T.92]             0.8701      1.206      0.721      0.471      -1.494       3.234\n",
      "C(element)[T.94]             0.8717      1.237      0.705      0.481      -1.552       3.296\n",
      "C(element)[T.95]             1.1628      1.355      0.858      0.391      -1.492       3.818\n",
      "C(element)[T.98]             0.8902      1.285      0.693      0.488      -1.628       3.409\n",
      "C(element)[T.99]             0.8568      1.339      0.640      0.522      -1.767       3.480\n",
      "C(element)[T.101]            0.6297      1.270      0.496      0.620      -1.860       3.120\n",
      "C(element)[T.102]            1.2555      1.269      0.989      0.323      -1.232       3.743\n",
      "C(element)[T.106]            1.2702      1.509      0.842      0.400      -1.687       4.228\n",
      "C(element)[T.112]           28.5873   2.16e+05      0.000      1.000   -4.23e+05    4.23e+05\n",
      "C(element)[T.113]            1.5356      1.196      1.284      0.199      -0.808       3.879\n",
      "C(element)[T.115]            1.7961      1.209      1.486      0.137      -0.573       4.166\n",
      "C(element)[T.116]            1.7223      1.201      1.435      0.151      -0.631       4.075\n",
      "C(element)[T.118]            1.4155      1.203      1.177      0.239      -0.941       3.772\n",
      "C(element)[T.119]            0.4014      1.691      0.237      0.812      -2.913       3.716\n",
      "C(element)[T.121]          -24.1419   1.23e+05     -0.000      1.000   -2.41e+05    2.41e+05\n",
      "C(element)[T.122]            1.6266      1.225      1.328      0.184      -0.774       4.027\n",
      "C(element)[T.123]          -23.7445   2.16e+05     -0.000      1.000   -4.23e+05    4.23e+05\n",
      "C(element)[T.124]            1.0685      1.372      0.779      0.436      -1.620       3.757\n",
      "C(element)[T.125]            2.5925      1.444      1.795      0.073      -0.238       5.423\n",
      "C(element)[T.126]            1.5645      1.201      1.303      0.193      -0.789       3.918\n",
      "C(element)[T.127]           26.7904    1.2e+05      0.000      1.000   -2.36e+05    2.36e+05\n",
      "C(element)[T.132]          -23.7445   2.16e+05     -0.000      1.000   -4.23e+05    4.23e+05\n",
      "C(element)[T.135]            0.8967      1.255      0.715      0.475      -1.563       3.356\n",
      "C(element)[T.136]          -22.5903   2.16e+05     -0.000      1.000   -4.23e+05    4.23e+05\n",
      "C(element)[T.137]            1.3590      1.304      1.042      0.297      -1.197       3.916\n",
      "C(element)[T.138]            1.0877      1.211      0.898      0.369      -1.286       3.462\n",
      "C(element)[T.139]          -23.8526   1.51e+05     -0.000      1.000   -2.96e+05    2.96e+05\n",
      "C(element)[T.140]            0.5368      1.609      0.334      0.739      -2.617       3.690\n",
      "C(element)[T.141]            0.5095      1.401      0.364      0.716      -2.235       3.255\n",
      "C(element)[T.142]            1.1245      1.202      0.936      0.349      -1.231       3.480\n",
      "C(element)[T.143]            1.2026      1.205      0.998      0.318      -1.159       3.565\n",
      "C(element)[T.145]            1.1476      1.204      0.953      0.341      -1.213       3.508\n",
      "C(element)[T.146]            1.2504      1.749      0.715      0.475      -2.177       4.678\n",
      "C(element)[T.147]            1.8933      1.244      1.521      0.128      -0.546       4.332\n",
      "C(element)[T.149]            1.2719      1.207      1.054      0.292      -1.094       3.638\n",
      "C(element)[T.150]            1.0105      1.199      0.843      0.399      -1.340       3.361\n",
      "C(element)[T.154]            0.7784      1.205      0.646      0.518      -1.584       3.140\n",
      "C(element)[T.156]          -23.9245   1.24e+05     -0.000      1.000   -2.43e+05    2.43e+05\n",
      "C(element)[T.157]            1.0692      1.227      0.871      0.384      -1.336       3.475\n",
      "C(element)[T.158]           26.5767   2.16e+05      0.000      1.000   -4.23e+05    4.23e+05\n",
      "C(element)[T.160]          -24.4105   1.05e+05     -0.000      1.000   -2.05e+05    2.05e+05\n",
      "C(element)[T.161]           -0.0235      1.578     -0.015      0.988      -3.116       3.069\n",
      "C(element)[T.162]            1.0546      1.209      0.872      0.383      -1.315       3.424\n",
      "C(element)[T.164]            0.7631      1.403      0.544      0.586      -1.986       3.512\n",
      "C(element)[T.167]            0.3780      1.690      0.224      0.823      -2.934       3.690\n",
      "C(element)[T.168]            1.0721      1.221      0.878      0.380      -1.322       3.466\n",
      "C(element)[T.169]            0.3684      1.421      0.259      0.795      -2.416       3.153\n",
      "C(element)[T.170]            1.5604      1.812      0.861      0.389      -1.992       5.112\n",
      "C(element)[T.172]            1.2763      1.220      1.046      0.296      -1.115       3.668\n",
      "C(element)[T.178]          -23.5571   7.64e+04     -0.000      1.000    -1.5e+05     1.5e+05\n",
      "C(element)[T.179]            0.9565      1.657      0.577      0.564      -2.292       4.205\n",
      "C(element)[T.180]           -0.1649      1.369     -0.120      0.904      -2.849       2.519\n",
      "C(element)[T.181]           -0.8058      1.351     -0.596      0.551      -3.454       1.842\n",
      "C(element)[T.182]           -0.7545      1.564     -0.482      0.630      -3.820       2.311\n",
      "C(element)[T.183]          -23.8034   9.13e+04     -0.000      1.000   -1.79e+05    1.79e+05\n",
      "C(element)[T.184]          -23.5465   5.15e+04     -0.000      1.000   -1.01e+05    1.01e+05\n",
      "C(element)[T.185]          -22.0476   2.16e+05     -0.000      1.000   -4.23e+05    4.23e+05\n",
      "C(element)[T.190]          -22.7540   1.18e+05     -0.000      1.000   -2.31e+05    2.31e+05\n",
      "C(element)[T.191]            0.0589      1.253      0.047      0.962      -2.397       2.515\n",
      "C(element)[T.192]            0.2726      1.233      0.221      0.825      -2.143       2.689\n",
      "C(element)[T.193]           -0.6092      1.543     -0.395      0.693      -3.634       2.416\n",
      "C(element)[T.194]            1.2952      1.634      0.793      0.428      -1.907       4.497\n",
      "C(element)[T.195]           -0.1921      1.289     -0.149      0.882      -2.718       2.334\n",
      "C(element)[T.197]            0.5735      1.274      0.450      0.653      -1.923       3.070\n",
      "C(element)[T.198]            0.4996      1.265      0.395      0.693      -1.980       2.979\n",
      "C(element)[T.199]            0.1914      1.298      0.148      0.883      -2.352       2.735\n",
      "C(element)[T.200]            1.0507      1.702      0.617      0.537      -2.285       4.386\n",
      "C(element)[T.201]            0.6457      1.275      0.506      0.613      -1.853       3.144\n",
      "C(element)[T.202]            0.5997      1.243      0.482      0.630      -1.837       3.036\n",
      "C(element)[T.206]           -0.3235      1.552     -0.208      0.835      -3.365       2.718\n",
      "C(element)[T.208]          -23.6383   8.47e+04     -0.000      1.000   -1.66e+05    1.66e+05\n",
      "C(element)[T.213]            0.6168      1.210      0.510      0.610      -1.755       2.989\n",
      "C(element)[T.215]            1.1182      1.256      0.890      0.373      -1.344       3.581\n",
      "C(element)[T.216]          -23.9563   1.53e+05     -0.000      1.000   -2.99e+05    2.99e+05\n",
      "C(element)[T.217]           27.4508   2.16e+05      0.000      1.000   -4.23e+05    4.23e+05\n",
      "C(element)[T.219]            0.7327      1.213      0.604      0.546      -1.645       3.110\n",
      "C(element)[T.220]            0.2620      1.260      0.208      0.835      -2.208       2.732\n",
      "C(element)[T.221]            0.9142      1.214      0.753      0.451      -1.464       3.293\n",
      "C(element)[T.222]            0.6516      1.318      0.494      0.621      -1.931       3.235\n",
      "C(element)[T.223]            2.7403      1.477      1.856      0.064      -0.154       5.635\n",
      "C(element)[T.224]            1.1063      1.349      0.820      0.412      -1.537       3.750\n",
      "C(element)[T.225]          -23.3771   9.41e+04     -0.000      1.000   -1.84e+05    1.84e+05\n",
      "C(element)[T.226]           -0.1574      1.597     -0.099      0.921      -3.287       2.972\n",
      "C(element)[T.227]            0.6578      1.212      0.543      0.587      -1.717       3.032\n",
      "C(element)[T.228]          -24.4481   2.16e+05     -0.000      1.000   -4.23e+05    4.23e+05\n",
      "C(element)[T.230]           27.4713   1.53e+05      0.000      1.000   -2.99e+05    2.99e+05\n",
      "C(element)[T.233]           -0.6431      1.547     -0.416      0.678      -3.674       2.388\n",
      "C(element)[T.239]            2.5424      1.360      1.869      0.062      -0.123       5.208\n",
      "C(element)[T.240]          -24.5555   2.16e+05     -0.000      1.000   -4.23e+05    4.23e+05\n",
      "C(element)[T.241]            0.9539      1.428      0.668      0.504      -1.844       3.752\n",
      "C(element)[T.242]            2.7467      1.320      2.081      0.037       0.160       5.334\n",
      "C(element)[T.243]            1.9462      1.286      1.514      0.130      -0.574       4.466\n",
      "C(element)[T.245]            2.6720      1.236      2.162      0.031       0.250       5.094\n",
      "C(element)[T.246]            2.2442      1.194      1.879      0.060      -0.096       4.585\n",
      "C(element)[T.247]            2.5569      1.204      2.123      0.034       0.197       4.917\n",
      "C(element)[T.249]            2.5711      1.320      1.948      0.051      -0.016       5.158\n",
      "C(element)[T.251]            2.2066      1.222      1.806      0.071      -0.188       4.601\n",
      "C(element)[T.252]            2.4429      1.240      1.971      0.049       0.013       4.872\n",
      "C(element)[T.253]            2.4438      1.209      2.021      0.043       0.074       4.814\n",
      "C(element)[T.254]            1.7928      1.270      1.412      0.158      -0.696       4.281\n",
      "C(element)[T.255]            2.2301      1.248      1.787      0.074      -0.216       4.676\n",
      "C(element)[T.256]            1.7539      1.452      1.208      0.227      -1.091       4.599\n",
      "C(element)[T.260]            1.7070      1.189      1.435      0.151      -0.624       4.038\n",
      "C(element)[T.262]            1.8270      1.246      1.467      0.142      -0.615       4.269\n",
      "C(element)[T.263]            0.6399      1.424      0.449      0.653      -2.152       3.431\n",
      "C(element)[T.264]            2.3418      1.300      1.802      0.072      -0.206       4.890\n",
      "C(element)[T.265]            2.0171      1.209      1.669      0.095      -0.352       4.386\n",
      "C(element)[T.266]            1.3942      1.388      1.004      0.315      -1.326       4.115\n",
      "C(element)[T.267]            1.8759      1.346      1.394      0.163      -0.762       4.513\n",
      "C(element)[T.268]            1.7170      1.200      1.431      0.152      -0.635       4.069\n",
      "C(element)[T.269]            1.0096      1.435      0.704      0.482      -1.802       3.822\n",
      "C(element)[T.270]            1.7689      1.234      1.433      0.152      -0.650       4.188\n",
      "C(element)[T.271]            2.0859      1.253      1.665      0.096      -0.369       4.541\n",
      "C(element)[T.272]            1.6731      1.219      1.373      0.170      -0.716       4.062\n",
      "C(element)[T.273]            2.6912      1.892      1.422      0.155      -1.018       6.400\n",
      "C(element)[T.274]            1.8566      1.296      1.433      0.152      -0.684       4.397\n",
      "C(element)[T.275]            1.2365      1.309      0.945      0.345      -1.328       3.801\n",
      "C(element)[T.276]            1.8219      1.213      1.501      0.133      -0.556       4.200\n",
      "C(element)[T.279]            2.4131      1.426      1.693      0.091      -0.381       5.207\n",
      "C(element)[T.282]            0.6221      1.211      0.514      0.607      -1.751       2.995\n",
      "C(element)[T.284]            0.7420      1.272      0.583      0.560      -1.751       3.235\n",
      "C(element)[T.285]            0.6974      1.343      0.519      0.603      -1.934       3.329\n",
      "C(element)[T.286]            0.7345      1.229      0.598      0.550      -1.674       3.143\n",
      "C(element)[T.288]            1.4903      1.469      1.014      0.310      -1.389       4.370\n",
      "C(element)[T.289]            1.4602      1.658      0.881      0.379      -1.790       4.710\n",
      "C(element)[T.291]            1.2632      1.605      0.787      0.431      -1.882       4.409\n",
      "C(element)[T.292]            0.8426      1.229      0.686      0.493      -1.566       3.251\n",
      "C(element)[T.293]            0.3306      1.259      0.263      0.793      -2.137       2.799\n",
      "C(element)[T.294]            0.5902      1.663      0.355      0.723      -2.670       3.851\n",
      "C(element)[T.295]          -23.0469   2.16e+05     -0.000      1.000   -4.23e+05    4.23e+05\n",
      "C(element)[T.296]            0.6989      1.230      0.568      0.570      -1.711       3.109\n",
      "C(element)[T.297]            0.3440      1.633      0.211      0.833      -2.857       3.545\n",
      "C(element)[T.298]            0.1624      1.586      0.102      0.918      -2.946       3.271\n",
      "C(element)[T.299]            1.4236      1.371      1.038      0.299      -1.264       4.112\n",
      "C(element)[T.300]            0.0676      1.629      0.042      0.967      -3.124       3.260\n",
      "C(element)[T.301]            0.0169      1.585      0.011      0.992      -3.089       3.123\n",
      "C(element)[T.302]            0.5519      1.241      0.445      0.656      -1.880       2.984\n",
      "C(element)[T.303]            0.3252      1.603      0.203      0.839      -2.816       3.466\n",
      "C(element)[T.304]          -23.2864   9.24e+04     -0.000      1.000   -1.81e+05    1.81e+05\n",
      "C(element)[T.309]            0.9814      1.200      0.817      0.414      -1.372       3.334\n",
      "C(element)[T.310]            0.7591      1.245      0.610      0.542      -1.681       3.199\n",
      "C(element)[T.311]            0.5473      1.413      0.387      0.699      -2.223       3.317\n",
      "C(element)[T.312]            1.2415      1.219      1.019      0.308      -1.147       3.630\n",
      "C(element)[T.313]            1.5052      1.272      1.183      0.237      -0.988       3.998\n",
      "C(element)[T.314]            0.9741      1.353      0.720      0.472      -1.678       3.626\n",
      "C(element)[T.315]            0.6975      1.443      0.483      0.629      -2.131       3.526\n",
      "C(element)[T.317]            0.8229      1.272      0.647      0.518      -1.671       3.317\n",
      "C(element)[T.318]            1.7757      1.383      1.284      0.199      -0.934       4.486\n",
      "C(element)[T.319]            0.9427      1.255      0.751      0.453      -1.517       3.402\n",
      "C(element)[T.320]            0.5670      1.408      0.403      0.687      -2.193       3.327\n",
      "C(element)[T.323]            1.5563      1.319      1.180      0.238      -1.029       4.142\n",
      "C(element)[T.324]           -0.3264      1.561     -0.209      0.834      -3.386       2.734\n",
      "C(element)[T.328]            0.1118      1.257      0.089      0.929      -2.352       2.576\n",
      "C(element)[T.330]            1.1404      1.257      0.907      0.364      -1.323       3.604\n",
      "C(element)[T.331]            0.3952      1.400      0.282      0.778      -2.349       3.140\n",
      "C(element)[T.332]            1.0129      1.276      0.794      0.427      -1.488       3.514\n",
      "C(element)[T.333]            0.7321      1.317      0.556      0.578      -1.849       3.313\n",
      "C(element)[T.335]           -0.1662      1.374     -0.121      0.904      -2.859       2.527\n",
      "C(element)[T.336]            1.0749      1.284      0.837      0.403      -1.442       3.592\n",
      "C(element)[T.337]          -22.5449   2.16e+05     -0.000      1.000   -4.23e+05    4.23e+05\n",
      "C(element)[T.338]            0.4340      1.386      0.313      0.754      -2.282       3.150\n",
      "C(element)[T.339]            0.4671      1.320      0.354      0.723      -2.120       3.054\n",
      "C(element)[T.340]            0.1139      1.301      0.088      0.930      -2.437       2.664\n",
      "C(element)[T.343]            0.9262      1.207      0.767      0.443      -1.440       3.293\n",
      "C(element)[T.344]            0.4132      1.305      0.317      0.752      -2.145       2.971\n",
      "C(element)[T.345]            0.4272      1.629      0.262      0.793      -2.766       3.621\n",
      "C(element)[T.346]            2.4727      1.970      1.255      0.210      -1.389       6.335\n",
      "C(element)[T.351]            1.1887      1.204      0.987      0.323      -1.171       3.548\n",
      "C(element)[T.352]          -23.1348    1.5e+05     -0.000      1.000   -2.93e+05    2.93e+05\n",
      "C(element)[T.353]            1.3791      1.204      1.146      0.252      -0.980       3.738\n",
      "C(element)[T.354]            1.1885      1.277      0.931      0.352      -1.315       3.692\n",
      "C(element)[T.355]            0.6374      1.313      0.485      0.627      -1.936       3.211\n",
      "C(element)[T.356]            0.9158      1.278      0.717      0.474      -1.589       3.421\n",
      "C(element)[T.357]            1.1326      1.229      0.922      0.357      -1.275       3.540\n",
      "C(element)[T.358]            1.5604      1.812      0.861      0.389      -1.992       5.112\n",
      "C(element)[T.359]            0.8642      1.258      0.687      0.492      -1.601       3.330\n",
      "C(element)[T.360]          -23.6413   1.02e+05     -0.000      1.000      -2e+05       2e+05\n",
      "C(element)[T.361]            1.6160      1.298      1.245      0.213      -0.928       4.160\n",
      "C(element)[T.362]            1.5542      1.677      0.927      0.354      -1.733       4.841\n",
      "C(element)[T.363]          -23.1075   1.44e+05     -0.000      1.000   -2.83e+05    2.83e+05\n",
      "C(element)[T.364]            0.1353      1.294      0.105      0.917      -2.402       2.672\n",
      "C(element)[T.365]            1.8187      1.307      1.391      0.164      -0.743       4.380\n",
      "C(element)[T.366]           27.1758   2.16e+05      0.000      1.000   -4.23e+05    4.23e+05\n",
      "C(element)[T.367]            0.9836      1.344      0.732      0.464      -1.651       3.618\n",
      "C(element)[T.368]            1.3535      1.253      1.080      0.280      -1.103       3.810\n",
      "C(element)[T.369]            1.5481      1.240      1.249      0.212      -0.882       3.978\n",
      "C(element)[T.370]            2.1913      1.375      1.594      0.111      -0.503       4.886\n",
      "C(element)[T.376]            0.3738      1.234      0.303      0.762      -2.045       2.793\n",
      "C(element)[T.378]            0.5977      1.240      0.482      0.630      -1.833       3.029\n",
      "C(element)[T.380]            0.7173      1.322      0.542      0.588      -1.875       3.309\n",
      "C(element)[T.381]            0.7496      1.318      0.569      0.570      -1.834       3.333\n",
      "C(element)[T.382]            1.0092      1.258      0.802      0.422      -1.457       3.475\n",
      "C(element)[T.383]            0.3251      1.310      0.248      0.804      -2.242       2.893\n",
      "C(element)[T.386]            1.2605      1.493      0.844      0.398      -1.665       4.186\n",
      "C(element)[T.387]          -23.8722   2.16e+05     -0.000      1.000   -4.23e+05    4.23e+05\n",
      "C(element)[T.388]            3.1299      1.751      1.787      0.074      -0.303       6.562\n",
      "C(element)[T.389]            0.9606      1.218      0.789      0.430      -1.427       3.348\n",
      "C(element)[T.390]            0.4433      1.239      0.358      0.720      -1.985       2.872\n",
      "C(element)[T.391]            0.5560      1.243      0.447      0.655      -1.880       2.993\n",
      "C(element)[T.392]            1.4349      1.306      1.099      0.272      -1.125       3.994\n",
      "C(element)[T.393]            1.1291      1.239      0.911      0.362      -1.300       3.558\n",
      "C(element)[T.394]            0.2254      1.391      0.162      0.871      -2.502       2.953\n",
      "C(element)[T.400]            0.1787      1.233      0.145      0.885      -2.238       2.595\n",
      "C(element)[T.402]           -0.9163      1.544     -0.593      0.553      -3.943       2.110\n",
      "C(element)[T.403]           -0.1678      1.366     -0.123      0.902      -2.846       2.510\n",
      "C(element)[T.405]            0.7757      1.270      0.611      0.541      -1.714       3.265\n",
      "C(element)[T.406]            0.3090      1.237      0.250      0.803      -2.115       2.733\n",
      "C(element)[T.408]            0.3521      1.602      0.220      0.826      -2.787       3.491\n",
      "C(element)[T.409]            0.2537      1.235      0.205      0.837      -2.166       2.674\n",
      "C(element)[T.410]            0.1839      1.373      0.134      0.893      -2.507       2.875\n",
      "C(element)[T.411]           -0.1995      1.572     -0.127      0.899      -3.281       2.882\n",
      "C(element)[T.412]            1.4770      1.287      1.147      0.251      -1.046       4.000\n",
      "C(element)[T.413]            0.7575      1.594      0.475      0.635      -2.367       3.882\n",
      "C(element)[T.414]           26.9594   2.16e+05      0.000      1.000   -4.23e+05    4.23e+05\n",
      "C(element)[T.415]          -23.6297   6.08e+04     -0.000      1.000   -1.19e+05    1.19e+05\n",
      "C(element)[T.421]           26.5767   2.16e+05      0.000      1.000   -4.23e+05    4.23e+05\n",
      "C(element)[T.423]            0.4374      1.223      0.358      0.721      -1.959       2.834\n",
      "C(element)[T.425]            0.5723      1.227      0.466      0.641      -1.832       2.977\n",
      "C(element)[T.426]            0.4697      1.406      0.334      0.738      -2.287       3.226\n",
      "C(element)[T.427]            0.6717      1.214      0.553      0.580      -1.708       3.051\n",
      "C(element)[T.430]            0.5443      1.211      0.449      0.653      -1.829       2.918\n",
      "C(element)[T.431]            0.0516      1.631      0.032      0.975      -3.145       3.248\n",
      "C(element)[T.432]            1.0754      1.332      0.807      0.420      -1.536       3.687\n",
      "C(element)[T.433]            0.6499      1.228      0.529      0.597      -1.757       3.057\n",
      "C(element)[T.435]          -23.5474   1.53e+05     -0.000      1.000   -2.99e+05    2.99e+05\n",
      "C(element)[T.440]            0.0446      1.388      0.032      0.974      -2.676       2.766\n",
      "C(element)[T.441]          -23.1576   1.23e+05     -0.000      1.000   -2.42e+05    2.42e+05\n",
      "C(element)[T.445]            0.6438      1.211      0.532      0.595      -1.729       3.017\n",
      "C(element)[T.447]          -23.1616   1.15e+05     -0.000      1.000   -2.26e+05    2.26e+05\n",
      "C(element)[T.450]            0.9455      1.253      0.754      0.451      -1.511       3.402\n",
      "C(element)[T.451]           -0.3812      1.369     -0.278      0.781      -3.065       2.303\n",
      "C(element)[T.452]            2.0253      1.506      1.345      0.179      -0.926       4.976\n",
      "C(element)[T.453]           27.4916   2.16e+05      0.000      1.000   -4.23e+05    4.23e+05\n",
      "C(element)[T.454]            0.4077      1.221      0.334      0.739      -1.986       2.801\n",
      "C(element)[T.455]          -23.6363   5.03e+04     -0.000      1.000   -9.86e+04    9.85e+04\n",
      "C(element)[T.456]           -0.7256      1.545     -0.470      0.639      -3.754       2.302\n",
      "C(element)[T.458]            2.0116      1.329      1.513      0.130      -0.594       4.617\n",
      "C(element)[T.459]            1.7478      1.225      1.427      0.153      -0.652       4.148\n",
      "C(element)[T.460]            0.2740      1.386      0.198      0.843      -2.442       2.990\n",
      "C(element)[T.461]            0.5436      1.310      0.415      0.678      -2.023       3.110\n",
      "C(element)[T.462]            1.6683      1.596      1.045      0.296      -1.460       4.796\n",
      "C(element)[T.463]            0.5634      1.271      0.443      0.658      -1.927       3.054\n",
      "C(element)[T.464]            0.4174      1.309      0.319      0.750      -2.148       2.983\n",
      "C(element)[T.465]            0.2465      1.261      0.195      0.845      -2.226       2.719\n",
      "C(element)[T.466]           -0.2644      1.582     -0.167      0.867      -3.364       2.835\n",
      "C(element)[T.467]            0.5113      1.579      0.324      0.746      -2.583       3.605\n",
      "C(element)[T.468]            2.3016      1.192      1.931      0.054      -0.035       4.638\n",
      "C(element)[T.471]          -23.0266   1.44e+05     -0.000      1.000   -2.82e+05    2.82e+05\n",
      "C(element)[T.473]          -23.1989   1.23e+05     -0.000      1.000   -2.41e+05    2.41e+05\n",
      "C(element)[T.474]          -23.3895   1.46e+05     -0.000      1.000   -2.86e+05    2.86e+05\n",
      "C(element)[T.475]            0.9359      1.234      0.758      0.448      -1.482       3.354\n",
      "C(element)[T.476]            1.6776      1.508      1.112      0.266      -1.279       4.634\n",
      "C(element)[T.478]          -23.8492   6.64e+04     -0.000      1.000    -1.3e+05     1.3e+05\n",
      "C(element)[T.479]          -23.7734   5.86e+04     -0.000      1.000   -1.15e+05    1.15e+05\n",
      "C(element)[T.481]          -23.0469   2.16e+05     -0.000      1.000   -4.23e+05    4.23e+05\n",
      "C(element)[T.482]            1.0239      1.276      0.803      0.422      -1.477       3.524\n",
      "C(element)[T.483]            1.1030      1.240      0.890      0.374      -1.327       3.533\n",
      "C(element)[T.484]            1.0808      1.220      0.886      0.376      -1.310       3.471\n",
      "C(element)[T.486]            2.9058      1.483      1.959      0.050      -0.001       5.812\n",
      "C(element)[T.487]           -0.2083      1.554     -0.134      0.893      -3.253       2.837\n",
      "C(element)[T.489]            0.2358      1.310      0.180      0.857      -2.331       2.803\n",
      "C(element)[T.490]            0.4842      1.268      0.382      0.703      -2.002       2.970\n",
      "C(element)[T.492]            2.2131      1.894      1.169      0.243      -1.499       5.925\n",
      "C(element)[T.494]            1.0886      1.243      0.876      0.381      -1.347       3.525\n",
      "C(element)[T.498]            1.3957      1.198      1.165      0.244      -0.953       3.745\n",
      "C(element)[T.503]           -0.0124      1.297     -0.010      0.992      -2.554       2.529\n",
      "C(element)[T.504]            0.3768      1.299      0.290      0.772      -2.169       2.923\n",
      "C(element)[T.506]            0.9736      1.427      0.682      0.495      -1.824       3.771\n",
      "C(element)[T.507]            3.5932      1.656      2.170      0.030       0.348       6.839\n",
      "C(element)[T.508]            1.0961      1.298      0.845      0.398      -1.447       3.640\n",
      "C(element)[T.509]           -0.5654      1.358     -0.416      0.677      -3.227       2.096\n",
      "C(element)[T.510]            0.0081      1.377      0.006      0.995      -2.690       2.706\n",
      "C(element)[T.511]          -23.6583   9.37e+04     -0.000      1.000   -1.84e+05    1.84e+05\n",
      "C(element)[T.512]          -23.9828   9.92e+04     -0.000      1.000   -1.94e+05    1.94e+05\n",
      "C(element)[T.514]          -23.3749   1.41e+05     -0.000      1.000   -2.75e+05    2.75e+05\n",
      "C(element)[T.515]          -24.5228   1.53e+05     -0.000      1.000   -2.99e+05    2.99e+05\n",
      "C(element)[T.516]            0.7979      1.315      0.607      0.544      -1.779       3.375\n",
      "C(element)[T.517]          -24.1542   1.48e+05     -0.000      1.000   -2.91e+05    2.91e+05\n",
      "C(element)[T.518]          -23.0725   1.43e+05     -0.000      1.000   -2.81e+05    2.81e+05\n",
      "C(element)[T.519]            0.6846      1.435      0.477      0.633      -2.128       3.497\n",
      "C(element)[T.522]          -23.3902    1.4e+05     -0.000      1.000   -2.75e+05    2.75e+05\n",
      "C(element)[T.526]            0.5940      1.246      0.477      0.634      -1.849       3.037\n",
      "C(element)[T.527]            1.2937      1.231      1.051      0.293      -1.119       3.706\n",
      "C(element)[T.531]            1.0979      1.475      0.744      0.457      -1.793       3.988\n",
      "C(element)[T.534]            1.3798      1.480      0.932      0.351      -1.521       4.281\n",
      "C(element)[T.535]            1.8123      1.816      0.998      0.318      -1.747       5.371\n",
      "C(element)[T.536]            1.2723      1.888      0.674      0.500      -2.428       4.973\n",
      "C(element)[T.539]          -24.1157   2.16e+05     -0.000      1.000   -4.23e+05    4.23e+05\n",
      "C(element)[T.549]            1.2195      1.438      0.848      0.396      -1.599       4.038\n",
      "C(element)[T.556]            0.9521      1.415      0.673      0.501      -1.821       3.725\n",
      "C(element)[T.565]          -22.0476   2.16e+05     -0.000      1.000   -4.23e+05    4.23e+05\n",
      "C(element)[T.570]          -24.1157   2.16e+05     -0.000      1.000   -4.23e+05    4.23e+05\n",
      "C(element)[T.571]          -23.5186   1.01e+05     -0.000      1.000   -1.99e+05    1.99e+05\n",
      "C(element)[T.575]          -23.9791   1.06e+05     -0.000      1.000   -2.08e+05    2.08e+05\n",
      "C(element)[T.580]            0.8936      1.745      0.512      0.609      -2.527       4.314\n",
      "C(element)[T.581]          -24.1392   2.16e+05     -0.000      1.000   -4.23e+05    4.23e+05\n",
      "C(element)[T.587]          -24.0921   1.49e+05     -0.000      1.000   -2.93e+05    2.93e+05\n",
      "C(element)[T.589]          -23.6136   1.53e+05     -0.000      1.000   -2.99e+05    2.99e+05\n",
      "C(element)[T.591]          -22.5449   2.16e+05     -0.000      1.000   -4.23e+05    4.23e+05\n",
      "C(element)[T.593]          -23.8111   1.05e+05     -0.000      1.000   -2.05e+05    2.05e+05\n",
      "============================================================================================\n"
     ]
    }
   ],
   "source": [
    "print(bpm_results.summary())"
   ]
  },
  {
   "cell_type": "markdown",
   "metadata": {},
   "source": [
    "### Model fit"
   ]
  },
  {
   "cell_type": "code",
   "execution_count": 20,
   "metadata": {
    "ExecuteTime": {
     "end_time": "2019-03-23T16:16:26.515794Z",
     "start_time": "2019-03-23T16:16:26.510741Z"
    }
   },
   "outputs": [
    {
     "data": {
      "text/plain": [
       "5380.6430145319255"
      ]
     },
     "execution_count": 20,
     "metadata": {},
     "output_type": "execute_result"
    }
   ],
   "source": [
    "bpm_results.aic"
   ]
  },
  {
   "cell_type": "code",
   "execution_count": 21,
   "metadata": {
    "ExecuteTime": {
     "end_time": "2019-03-23T16:16:26.543192Z",
     "start_time": "2019-03-23T16:16:26.517801Z"
    }
   },
   "outputs": [
    {
     "data": {
      "text/plain": [
       "-31690.164297429343"
      ]
     },
     "execution_count": 21,
     "metadata": {},
     "output_type": "execute_result"
    }
   ],
   "source": [
    "bpm_results.bic"
   ]
  },
  {
   "cell_type": "code",
   "execution_count": 22,
   "metadata": {
    "ExecuteTime": {
     "end_time": "2019-03-23T16:16:26.571196Z",
     "start_time": "2019-03-23T16:16:26.545296Z"
    }
   },
   "outputs": [
    {
     "data": {
      "text/plain": [
       "(True, 0.00869395244661253)"
      ]
     },
     "execution_count": 22,
     "metadata": {},
     "output_type": "execute_result"
    }
   ],
   "source": [
    "bpm_pearson_results = goodness_fit.pearson_chi_squared_test(bpm_results)\n",
    "bpm_pearson_results"
   ]
  },
  {
   "cell_type": "code",
   "execution_count": 23,
   "metadata": {
    "ExecuteTime": {
     "end_time": "2019-03-23T16:16:26.601390Z",
     "start_time": "2019-03-23T16:16:26.573220Z"
    }
   },
   "outputs": [
    {
     "data": {
      "text/plain": [
       "count    4679.000000\n",
       "mean       -0.105858\n",
       "std         0.987546\n",
       "min        -1.915844\n",
       "25%        -0.805566\n",
       "50%        -0.492220\n",
       "75%         0.885616\n",
       "max         3.028835\n",
       "dtype: float64"
      ]
     },
     "execution_count": 23,
     "metadata": {},
     "output_type": "execute_result"
    }
   ],
   "source": [
    "bpm_results.resid_deviance.describe()"
   ]
  },
  {
   "cell_type": "code",
   "execution_count": 24,
   "metadata": {
    "ExecuteTime": {
     "end_time": "2019-03-23T16:16:26.853684Z",
     "start_time": "2019-03-23T16:16:26.603365Z"
    }
   },
   "outputs": [
    {
     "data": {
      "image/png": "[encoded data removed]",
      "text/plain": [
       "<Figure size 432x288 with 1 Axes>"
      ]
     },
     "metadata": {
      "needs_background": "light"
     },
     "output_type": "display_data"
    }
   ],
   "source": [
    "plt.figure()\n",
    "plt.hist(bpm_results.resid_deviance)\n",
    "plt.show()"
   ]
  },
  {
   "cell_type": "markdown",
   "metadata": {},
   "source": [
    "# Model comparison"
   ]
  },
  {
   "cell_type": "code",
   "execution_count": 25,
   "metadata": {
    "ExecuteTime": {
     "end_time": "2019-03-23T16:16:26.860714Z",
     "start_time": "2019-03-23T16:16:26.855791Z"
    }
   },
   "outputs": [
    {
     "data": {
      "text/plain": [
       "{'Bernoulli teams': 4909.8630659272685,\n",
       " 'Bernoulli players': 5380.6430145319255}"
      ]
     },
     "execution_count": 25,
     "metadata": {},
     "output_type": "execute_result"
    }
   ],
   "source": [
    "{\n",
    "    'Bernoulli teams': btm_results.aic,\n",
    "    'Bernoulli players': bpm_results.aic,\n",
    "}"
   ]
  },
  {
   "cell_type": "markdown",
   "metadata": {},
   "source": [
    "AIC prefers teams model"
   ]
  },
  {
   "cell_type": "code",
   "execution_count": 26,
   "metadata": {
    "ExecuteTime": {
     "end_time": "2019-03-23T16:16:27.015567Z",
     "start_time": "2019-03-23T16:16:26.862688Z"
    }
   },
   "outputs": [
    {
     "data": {
      "text/plain": [
       "{'Bernoulli teams': -34380.03309969197,\n",
       " 'Bernoulli players': -31690.164297429343}"
      ]
     },
     "execution_count": 26,
     "metadata": {},
     "output_type": "execute_result"
    }
   ],
   "source": [
    "{\n",
    "    'Bernoulli teams': btm_results.bic,\n",
    "    'Bernoulli players': bpm_results.bic,\n",
    "}"
   ]
  },
  {
   "cell_type": "markdown",
   "metadata": {},
   "source": [
    "BIC prefers teams model"
   ]
  },
  {
   "cell_type": "code",
   "execution_count": 27,
   "metadata": {
    "ExecuteTime": {
     "end_time": "2019-03-23T16:16:27.080048Z",
     "start_time": "2019-03-23T16:16:27.017484Z"
    }
   },
   "outputs": [
    {
     "data": {
      "text/plain": [
       "{'Bernoulli teams': (False, 0.719711263818926),\n",
       " 'Bernoulli players': (True, 0.00869395244661253)}"
      ]
     },
     "execution_count": 27,
     "metadata": {},
     "output_type": "execute_result"
    }
   ],
   "source": [
    "{\n",
    "    'Bernoulli teams': btm_pearson_results,\n",
    "    'Bernoulli players': bpm_pearson_results,\n",
    "}"
   ]
  },
  {
   "cell_type": "markdown",
   "metadata": {},
   "source": [
    "Teams model fits"
   ]
  }
 ],
 "metadata": {
  "kernelspec": {
   "display_name": "Python 3",
   "language": "python",
   "name": "python3"
  },
  "language_info": {
   "codemirror_mode": {
    "name": "ipython",
    "version": 3
   },
   "file_extension": ".py",
   "mimetype": "text/x-python",
   "name": "python",
   "nbconvert_exporter": "python",
   "pygments_lexer": "ipython3",
   "version": "3.6.7"
  },
  "toc": {
   "nav_menu": {},
   "number_sections": true,
   "sideBar": true,
   "skip_h1_title": false,
   "title_cell": "Table of Contents",
   "title_sidebar": "Contents",
   "toc_cell": false,
   "toc_position": {},
   "toc_section_display": true,
   "toc_window_display": false
  }
 },
 "nbformat": 4,
 "nbformat_minor": 2
}
