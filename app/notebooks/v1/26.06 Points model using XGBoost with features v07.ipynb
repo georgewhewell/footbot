{
 "cells": [
  {
   "cell_type": "markdown",
   "metadata": {},
   "source": [
    "# Set up"
   ]
  },
  {
   "cell_type": "code",
   "execution_count": 1,
   "metadata": {
    "ExecuteTime": {
     "end_time": "2019-09-06T11:11:50.793951Z",
     "start_time": "2019-09-06T11:11:49.617592Z"
    }
   },
   "outputs": [
    {
     "name": "stderr",
     "output_type": "stream",
     "text": [
      "/home/tom/footbot/venv/lib/python3.6/site-packages/sklearn/externals/joblib/__init__.py:15: DeprecationWarning: sklearn.externals.joblib is deprecated in 0.21 and will be removed in 0.23. Please import this functionality directly from joblib, which can be installed with: pip install joblib. If this warning is raised when loading pickled models, you may need to re-serialize those models with scikit-learn 0.21+.\n",
      "  warnings.warn(msg, category=DeprecationWarning)\n"
     ]
    }
   ],
   "source": [
    "import pandas as pd\n",
    "import patsy\n",
    "import numpy as np\n",
    "from xgboost import XGBRegressor\n",
    "from sklearn.preprocessing import StandardScaler\n",
    "from sklearn.model_selection import PredefinedSplit, GridSearchCV, cross_val_score\n",
    "from sklearn.decomposition import PCA\n",
    "from skopt.space import Real, Integer\n",
    "from skopt.utils import use_named_args\n",
    "from skopt import gp_minimize\n",
    "from sklearn.feature_selection import RFECV\n",
    "from sklearn.linear_model import Lasso, LinearRegression, Ridge\n",
    "from sklearn.tree import DecisionTreeRegressor, plot_tree\n",
    "from sklearn.metrics import mean_absolute_error, mean_squared_error, r2_score\n",
    "import matplotlib.pyplot as plt"
   ]
  },
  {
   "cell_type": "code",
   "execution_count": 2,
   "metadata": {
    "ExecuteTime": {
     "end_time": "2019-09-06T11:11:50.800851Z",
     "start_time": "2019-09-06T11:11:50.797152Z"
    }
   },
   "outputs": [],
   "source": [
    "pd.set_option('display.max_columns', 1000)\n",
    "pd.set_option('display.max_rows', 1000)"
   ]
  },
  {
   "cell_type": "markdown",
   "metadata": {},
   "source": [
    "# Getting data"
   ]
  },
  {
   "cell_type": "code",
   "execution_count": 3,
   "metadata": {
    "ExecuteTime": {
     "end_time": "2019-09-06T11:11:50.825702Z",
     "start_time": "2019-09-06T11:11:50.803061Z"
    }
   },
   "outputs": [],
   "source": [
    "file_name = '../csvs/element_gameweek_features_v07.csv'"
   ]
  },
  {
   "cell_type": "code",
   "execution_count": 4,
   "metadata": {
    "ExecuteTime": {
     "end_time": "2019-09-06T11:11:51.235919Z",
     "start_time": "2019-09-06T11:11:50.829547Z"
    }
   },
   "outputs": [],
   "source": [
    "element_gameweek_df = pd.read_csv(file_name)"
   ]
  },
  {
   "cell_type": "code",
   "execution_count": 5,
   "metadata": {
    "ExecuteTime": {
     "end_time": "2019-09-06T11:11:51.242060Z",
     "start_time": "2019-09-06T11:11:51.239095Z"
    }
   },
   "outputs": [],
   "source": [
    "current_event = 38"
   ]
  },
  {
   "cell_type": "code",
   "execution_count": 6,
   "metadata": {
    "ExecuteTime": {
     "end_time": "2019-09-06T11:11:51.454205Z",
     "start_time": "2019-09-06T11:11:51.450552Z"
    }
   },
   "outputs": [],
   "source": [
    "last_train_event = 28"
   ]
  },
  {
   "cell_type": "code",
   "execution_count": 7,
   "metadata": {
    "ExecuteTime": {
     "end_time": "2019-09-06T11:11:51.829143Z",
     "start_time": "2019-09-06T11:11:51.813162Z"
    }
   },
   "outputs": [],
   "source": [
    "element_gameweek_df =\\\n",
    "element_gameweek_df[\n",
    "    (element_gameweek_df['event'] <= current_event)\n",
    "]"
   ]
  },
  {
   "cell_type": "code",
   "execution_count": 8,
   "metadata": {
    "ExecuteTime": {
     "end_time": "2019-09-06T11:11:52.966218Z",
     "start_time": "2019-09-06T11:11:52.182627Z"
    }
   },
   "outputs": [],
   "source": [
    "element_gameweek_df = pd.concat([\n",
    "    element_gameweek_df[element_gameweek_df['element_type'] == i].fillna(\n",
    "        element_gameweek_df[\n",
    "            (element_gameweek_df['event'] <= last_train_event)\n",
    "            & (element_gameweek_df['element_type'] == i)\n",
    "        ].mean()).fillna(0)\n",
    "    for i in range(1, 5)\n",
    "])"
   ]
  },
  {
   "cell_type": "code",
   "execution_count": 9,
   "metadata": {
    "ExecuteTime": {
     "end_time": "2019-09-06T11:11:52.998483Z",
     "start_time": "2019-09-06T11:11:52.971368Z"
    }
   },
   "outputs": [],
   "source": [
    "element_gameweek_df = element_gameweek_df[element_gameweek_df['rolling_avg_minutes_element_p3'] >= 30]"
   ]
  },
  {
   "cell_type": "code",
   "execution_count": 10,
   "metadata": {
    "ExecuteTime": {
     "end_time": "2019-09-06T11:11:53.242992Z",
     "start_time": "2019-09-06T11:11:53.140562Z"
    }
   },
   "outputs": [],
   "source": [
    "element_gameweek_df['is_keeper'] = element_gameweek_df['element_type'].apply(lambda x: 1 if x == 1 else 0)"
   ]
  },
  {
   "cell_type": "code",
   "execution_count": 11,
   "metadata": {
    "ExecuteTime": {
     "end_time": "2019-09-06T11:11:53.670842Z",
     "start_time": "2019-09-06T11:11:53.652548Z"
    }
   },
   "outputs": [],
   "source": [
    "element_gameweek_df['is_scorer'] = \\\n",
    "element_gameweek_df['rolling_avg_goals_scored_element'].apply(lambda x: 1 if x >= 0.47 else 0)"
   ]
  },
  {
   "cell_type": "code",
   "execution_count": 12,
   "metadata": {
    "ExecuteTime": {
     "end_time": "2019-09-06T11:11:54.080191Z",
     "start_time": "2019-09-06T11:11:54.063086Z"
    }
   },
   "outputs": [],
   "source": [
    "element_gameweek_df['is_assister'] = \\\n",
    "element_gameweek_df['rolling_avg_assists_element'].apply(lambda x: 1 if x >= 0.5 else 0)"
   ]
  },
  {
   "cell_type": "code",
   "execution_count": 25,
   "metadata": {
    "ExecuteTime": {
     "end_time": "2019-09-06T11:13:13.455862Z",
     "start_time": "2019-09-06T11:13:13.433207Z"
    }
   },
   "outputs": [],
   "source": [
    "element_gameweek_df['is_high_value'] = \\\n",
    "element_gameweek_df['value'].apply(lambda x: 1 if x >= 9.0 else 0)"
   ]
  },
  {
   "cell_type": "markdown",
   "metadata": {},
   "source": [
    "# Modelling data"
   ]
  },
  {
   "cell_type": "markdown",
   "metadata": {},
   "source": [
    "## Splitting data"
   ]
  },
  {
   "cell_type": "code",
   "execution_count": 26,
   "metadata": {
    "ExecuteTime": {
     "end_time": "2019-09-06T11:13:16.553624Z",
     "start_time": "2019-09-06T11:13:16.541667Z"
    }
   },
   "outputs": [],
   "source": [
    "test_fold = [-1 if i <= last_train_event else 0 for i in element_gameweek_df['event']]\n",
    "ps = PredefinedSplit(test_fold)"
   ]
  },
  {
   "cell_type": "code",
   "execution_count": 27,
   "metadata": {
    "ExecuteTime": {
     "end_time": "2019-09-06T11:13:16.762295Z",
     "start_time": "2019-09-06T11:13:16.720615Z"
    }
   },
   "outputs": [],
   "source": [
    "for train_index, test_index in ps.split():\n",
    "    element_gameweek_df_train, element_gameweek_df_test = \\\n",
    "    element_gameweek_df.copy().iloc[train_index], element_gameweek_df.copy().iloc[test_index]"
   ]
  },
  {
   "cell_type": "markdown",
   "metadata": {
    "ExecuteTime": {
     "end_time": "2019-09-03T08:56:57.311018Z",
     "start_time": "2019-09-03T08:56:57.220988Z"
    },
    "heading_collapsed": true
   },
   "source": [
    "## Scaling data"
   ]
  },
  {
   "cell_type": "code",
   "execution_count": null,
   "metadata": {
    "ExecuteTime": {
     "end_time": "2019-09-06T10:50:23.577529Z",
     "start_time": "2019-09-06T10:50:23.562288Z"
    },
    "hidden": true
   },
   "outputs": [],
   "source": [
    "scaled_feature_cols = [\n",
    "    i for i in element_gameweek_df.columns if i not in [\n",
    "        'safe_web_name', 'element', 'event', 'fixture', 'team',\n",
    "        'opposition_team', 'element_type', 'was_home', 'is_sunday',\n",
    "        'is_weekday', 'is_late', 'is_early', 'has_high_points_ever_element',\n",
    "        'total_points', 'minutes', 'rolling_value_points', 'is_keeper'\n",
    "    ]\n",
    "]\n",
    "\n",
    "scaled_feature_cols"
   ]
  },
  {
   "cell_type": "code",
   "execution_count": null,
   "metadata": {
    "ExecuteTime": {
     "end_time": "2019-09-06T10:50:24.364940Z",
     "start_time": "2019-09-06T10:50:23.919886Z"
    },
    "hidden": true
   },
   "outputs": [],
   "source": [
    "scaled_df_train = element_gameweek_df_train.copy()\n",
    "scaled_df_test = element_gameweek_df_test.copy()\n",
    "scaled_df = element_gameweek_df.copy()\n",
    "\n",
    "scaler = StandardScaler().fit(scaled_df_train[scaled_feature_cols].values)\n",
    "\n",
    "scaled_df_train = scaler.transform(scaled_df_train[scaled_feature_cols].values)\n",
    "scaled_df_test = scaler.transform(scaled_df_test[scaled_feature_cols].values)\n",
    "scaled_df = scaler.transform(scaled_df[scaled_feature_cols].values)\n",
    "\n",
    "element_gameweek_df_train[scaled_feature_cols] = scaled_df_train\n",
    "element_gameweek_df_test[scaled_feature_cols] = scaled_df_test\n",
    "element_gameweek_df[scaled_feature_cols] = scaled_df"
   ]
  },
  {
   "cell_type": "markdown",
   "metadata": {},
   "source": [
    "## Building model"
   ]
  },
  {
   "cell_type": "code",
   "execution_count": 28,
   "metadata": {
    "ExecuteTime": {
     "end_time": "2019-09-06T11:13:20.371896Z",
     "start_time": "2019-09-06T11:13:20.360257Z"
    }
   },
   "outputs": [],
   "source": [
    "class FullRankOneHot(object):\n",
    "    def __init__(self, reference=0):\n",
    "        self.reference = reference\n",
    "\n",
    "    # Called to generate a full-rank encoding\n",
    "    def code_with_intercept(self, levels):\n",
    "        return patsy.ContrastMatrix(np.eye(len(levels)),\n",
    "                              [\"[%s]\" % (level,) for level in levels])\n",
    "\n",
    "    # Called to generate a non-full-rank encoding. But we don't care,\n",
    "    # we do what we want, and return a full-rank encoding anyway.\n",
    "    # Take that, patsy.\n",
    "    def code_without_intercept(self, levels):\n",
    "        return self.code_with_intercept(levels)"
   ]
  },
  {
   "cell_type": "code",
   "execution_count": 29,
   "metadata": {
    "ExecuteTime": {
     "end_time": "2019-09-06T11:13:20.713602Z",
     "start_time": "2019-09-06T11:13:20.702453Z"
    }
   },
   "outputs": [
    {
     "data": {
      "text/plain": [
       "['safe_web_name',\n",
       " 'element',\n",
       " 'event',\n",
       " 'fixture',\n",
       " 'team',\n",
       " 'opposition_team',\n",
       " 'was_home',\n",
       " 'is_sunday',\n",
       " 'is_weekday',\n",
       " 'is_early',\n",
       " 'is_late',\n",
       " 'element_type',\n",
       " 'value',\n",
       " 'rolling_value_points',\n",
       " 'rolling_avg_total_points_element',\n",
       " 'rolling_q3_total_points_element',\n",
       " 'rolling_max_total_points_element',\n",
       " 'has_high_points_ever_element',\n",
       " 'rolling_avg_bps_element',\n",
       " 'rolling_avg_bonus_element',\n",
       " 'rolling_avg_goals_scored_element',\n",
       " 'rolling_avg_minutes_element',\n",
       " 'rolling_avg_clean_sheets_element',\n",
       " 'rolling_avg_completed_passes_element',\n",
       " 'rolling_avg_recoveries_element',\n",
       " 'rolling_avg_assists_element',\n",
       " 'rolling_avg_key_passes_element',\n",
       " 'rolling_avg_winning_goals_element',\n",
       " 'rolling_avg_tackled_element',\n",
       " 'rolling_avg_dribbles_element',\n",
       " 'rolling_avg_clearances_blocks_interceptions_element',\n",
       " 'rolling_avg_big_chances_created_element',\n",
       " 'rolling_avg_target_missed_element',\n",
       " 'rolling_avg_fouls_element',\n",
       " 'rolling_avg_tackles_element',\n",
       " 'rolling_avg_open_play_crosses_element',\n",
       " 'rolling_avg_offside_element',\n",
       " 'rolling_avg_big_chances_missed_element',\n",
       " 'rolling_avg_saves_element',\n",
       " 'rolling_avg_goals_conceded_element',\n",
       " 'rolling_avg_attempted_passes_element',\n",
       " 'rolling_avg_errors_leading_to_goal_element',\n",
       " 'rolling_avg_errors_leading_to_goal_attempt_element',\n",
       " 'rolling_avg_own_goals_element',\n",
       " 'rolling_avg_penalties_conceded_element',\n",
       " 'rolling_avg_penalties_missed_element',\n",
       " 'rolling_avg_penalties_saved_element',\n",
       " 'rolling_avg_red_cards_element',\n",
       " 'rolling_avg_yellow_cards_element',\n",
       " 'rolling_avg_big_chances_element',\n",
       " 'rolling_avg_shots_conceded_element',\n",
       " 'rolling_avg_big_chances_scored_rate_element',\n",
       " 'rolling_avg_big_chances_assisted_rate_element',\n",
       " 'rolling_avg_save_rate_element',\n",
       " 'rolling_avg_minutes_element_p3',\n",
       " 'rolling_avg_total_points_element_p3',\n",
       " 'rolling_avg_total_points_own_team',\n",
       " 'rolling_avg_total_points_element_home',\n",
       " 'rolling_avg_total_points_element_away',\n",
       " 'expected_total_points_element_home_away',\n",
       " 'rolling_avg_total_points_opposition_team',\n",
       " 'rolling_avg_goals_scored_opposition_team',\n",
       " 'rolling_avg_goals_conceded_opposition_team',\n",
       " 'rolling_avg_goals_scored_opposition_team_p5',\n",
       " 'rolling_avg_goals_conceded_opposition_team_p5',\n",
       " 'rolling_q3_goals_scored_opposition_team',\n",
       " 'rolling_q3_goals_conceded_opposition_team',\n",
       " 'rolling_q3_goals_scored_opposition_team_p5',\n",
       " 'rolling_q3_goals_conceded_opposition_team_p5',\n",
       " 'rolling_avg_total_points_element_type',\n",
       " 'rolling_avg_total_points_against_opposition_team',\n",
       " 'rolling_avg_total_points_against_opposition_team_element_type',\n",
       " 'expected_total_points_against_opposition_team',\n",
       " 'rolling_avg_total_points_against_opposition_team_element_type_home',\n",
       " 'rolling_avg_total_points_against_opposition_team_element_type_away',\n",
       " 'expected_total_points_against_opposition_team_home_away',\n",
       " 'total_points',\n",
       " 'minutes',\n",
       " 'is_keeper',\n",
       " 'is_scorer',\n",
       " 'is_assister',\n",
       " 'is_high_value']"
      ]
     },
     "execution_count": 29,
     "metadata": {},
     "output_type": "execute_result"
    }
   ],
   "source": [
    "list(element_gameweek_df.columns)"
   ]
  },
  {
   "cell_type": "code",
   "execution_count": 30,
   "metadata": {
    "ExecuteTime": {
     "end_time": "2019-09-06T11:13:20.909394Z",
     "start_time": "2019-09-06T11:13:20.902584Z"
    }
   },
   "outputs": [],
   "source": [
    "# formula = \\\n",
    "# '''\n",
    "# total_points ~\n",
    "# + C(element_type, FullRankOneHot)\n",
    "# + C(team, FullRankOneHot)\n",
    "# + C(opposition_team, FullRankOneHot)\n",
    "# + was_home\n",
    "# + value\n",
    "# + rolling_avg_bonus_element\n",
    "# + rolling_avg_big_chances_created_element\n",
    "# + is_keeper:rolling_avg_big_chances_created_element\n",
    "# + rolling_avg_saves_element\n",
    "# + is_keeper:rolling_avg_saves_element\n",
    "# + rolling_avg_goals_conceded_element\n",
    "# + C(element_type, FullRankOneHot):rolling_avg_goals_conceded_element\n",
    "# + rolling_avg_attempted_passes_element\n",
    "# + is_keeper:rolling_avg_attempted_passes_element\n",
    "# + rolling_avg_errors_leading_to_goal_attempt_element\n",
    "# + C(element_type, FullRankOneHot):rolling_avg_errors_leading_to_goal_attempt_element\n",
    "# + rolling_avg_penalties_saved_element\n",
    "# + is_keeper:rolling_avg_penalties_saved_element\n",
    "# + rolling_avg_yellow_cards_element\n",
    "# + rolling_avg_minutes_element_p3\n",
    "# + is_keeper:rolling_avg_minutes_element_p3\n",
    "# + rolling_avg_total_points_element_p3\n",
    "# + rolling_avg_goals_scored_opposition_team\n",
    "# + C(element_type, FullRankOneHot):rolling_avg_goals_scored_opposition_team\n",
    "# + rolling_q3_goals_conceded_opposition_team\n",
    "# + C(element_type, FullRankOneHot):rolling_q3_goals_conceded_opposition_team\n",
    "# + expected_total_points_against_opposition_team\n",
    "# + rolling_avg_big_chances_element\n",
    "# + is_keeper:rolling_avg_big_chances_element\n",
    "# + rolling_avg_big_chances_scored_rate_element\n",
    "# + is_keeper:rolling_avg_big_chances_scored_rate_element\n",
    "# + rolling_avg_big_chances_assisted_rate_element\n",
    "# + is_keeper:rolling_avg_big_chances_assisted_rate_element\n",
    "# + rolling_avg_save_rate_element\n",
    "# + is_keeper:rolling_avg_save_rate_element\n",
    "# '''"
   ]
  },
  {
   "cell_type": "code",
   "execution_count": 36,
   "metadata": {
    "ExecuteTime": {
     "end_time": "2019-09-06T11:13:40.026360Z",
     "start_time": "2019-09-06T11:13:40.014692Z"
    }
   },
   "outputs": [],
   "source": [
    "formula = \\\n",
    "'''\n",
    "total_points ~\n",
    "+ C(element_type, FullRankOneHot)\n",
    "+ C(team, FullRankOneHot)\n",
    "+ C(opposition_team, FullRankOneHot)\n",
    "+ was_home\n",
    "+ value\n",
    "+ is_high_value\n",
    "+ rolling_q3_total_points_element\n",
    "+ rolling_avg_bonus_element\n",
    "+ rolling_avg_big_chances_created_element\n",
    "+ rolling_avg_saves_element\n",
    "+ is_keeper:rolling_avg_saves_element\n",
    "+ rolling_avg_goals_conceded_element\n",
    "+ rolling_avg_attempted_passes_element\n",
    "+ rolling_avg_errors_leading_to_goal_attempt_element\n",
    "+ rolling_avg_penalties_saved_element\n",
    "+ is_keeper:rolling_avg_penalties_saved_element\n",
    "+ rolling_avg_yellow_cards_element\n",
    "+ rolling_avg_minutes_element_p3\n",
    "+ rolling_avg_total_points_element_p3\n",
    "+ rolling_avg_goals_scored_opposition_team\n",
    "+ C(element_type, FullRankOneHot):rolling_avg_goals_scored_opposition_team\n",
    "+ rolling_q3_goals_conceded_opposition_team\n",
    "+ C(element_type, FullRankOneHot):rolling_q3_goals_conceded_opposition_team\n",
    "+ expected_total_points_against_opposition_team\n",
    "+ rolling_avg_big_chances_element\n",
    "+ rolling_avg_big_chances_scored_rate_element\n",
    "+ rolling_avg_big_chances_assisted_rate_element\n",
    "+ rolling_avg_save_rate_element\n",
    "'''"
   ]
  },
  {
   "cell_type": "code",
   "execution_count": 37,
   "metadata": {
    "ExecuteTime": {
     "end_time": "2019-09-06T11:13:40.648227Z",
     "start_time": "2019-09-06T11:13:40.640231Z"
    }
   },
   "outputs": [
    {
     "name": "stdout",
     "output_type": "stream",
     "text": [
      "\n",
      "total_points ~\n",
      "+ C(element_type, FullRankOneHot)\n",
      "+ C(team, FullRankOneHot)\n",
      "+ C(opposition_team, FullRankOneHot)\n",
      "+ was_home\n",
      "+ value\n",
      "+ is_high_value\n",
      "+ rolling_q3_total_points_element\n",
      "+ rolling_avg_bonus_element\n",
      "+ rolling_avg_big_chances_created_element\n",
      "+ rolling_avg_saves_element\n",
      "+ is_keeper:rolling_avg_saves_element\n",
      "+ rolling_avg_goals_conceded_element\n",
      "+ rolling_avg_attempted_passes_element\n",
      "+ rolling_avg_errors_leading_to_goal_attempt_element\n",
      "+ rolling_avg_penalties_saved_element\n",
      "+ is_keeper:rolling_avg_penalties_saved_element\n",
      "+ rolling_avg_yellow_cards_element\n",
      "+ rolling_avg_minutes_element_p3\n",
      "+ rolling_avg_total_points_element_p3\n",
      "+ rolling_avg_goals_scored_opposition_team\n",
      "+ C(element_type, FullRankOneHot):rolling_avg_goals_scored_opposition_team\n",
      "+ rolling_q3_goals_conceded_opposition_team\n",
      "+ C(element_type, FullRankOneHot):rolling_q3_goals_conceded_opposition_team\n",
      "+ expected_total_points_against_opposition_team\n",
      "+ rolling_avg_big_chances_element\n",
      "+ rolling_avg_big_chances_scored_rate_element\n",
      "+ rolling_avg_big_chances_assisted_rate_element\n",
      "+ rolling_avg_save_rate_element\n",
      "\n"
     ]
    }
   ],
   "source": [
    "print(formula)"
   ]
  },
  {
   "cell_type": "code",
   "execution_count": 38,
   "metadata": {
    "ExecuteTime": {
     "end_time": "2019-09-06T11:13:41.707072Z",
     "start_time": "2019-09-06T11:13:41.345171Z"
    }
   },
   "outputs": [],
   "source": [
    "y, X = patsy.dmatrices(formula, element_gameweek_df, return_type='matrix')"
   ]
  },
  {
   "cell_type": "code",
   "execution_count": 39,
   "metadata": {
    "ExecuteTime": {
     "end_time": "2019-09-06T11:13:41.902246Z",
     "start_time": "2019-09-06T11:13:41.890483Z"
    }
   },
   "outputs": [
    {
     "data": {
      "text/plain": [
       "['Intercept',\n",
       " 'C(element_type, FullRankOneHot)[1]',\n",
       " 'C(element_type, FullRankOneHot)[2]',\n",
       " 'C(element_type, FullRankOneHot)[3]',\n",
       " 'C(element_type, FullRankOneHot)[4]',\n",
       " 'C(team, FullRankOneHot)[1]',\n",
       " 'C(team, FullRankOneHot)[2]',\n",
       " 'C(team, FullRankOneHot)[3]',\n",
       " 'C(team, FullRankOneHot)[4]',\n",
       " 'C(team, FullRankOneHot)[5]',\n",
       " 'C(team, FullRankOneHot)[6]',\n",
       " 'C(team, FullRankOneHot)[7]',\n",
       " 'C(team, FullRankOneHot)[8]',\n",
       " 'C(team, FullRankOneHot)[9]',\n",
       " 'C(team, FullRankOneHot)[10]',\n",
       " 'C(team, FullRankOneHot)[11]',\n",
       " 'C(team, FullRankOneHot)[12]',\n",
       " 'C(team, FullRankOneHot)[13]',\n",
       " 'C(team, FullRankOneHot)[14]',\n",
       " 'C(team, FullRankOneHot)[15]',\n",
       " 'C(team, FullRankOneHot)[16]',\n",
       " 'C(team, FullRankOneHot)[17]',\n",
       " 'C(team, FullRankOneHot)[18]',\n",
       " 'C(team, FullRankOneHot)[19]',\n",
       " 'C(team, FullRankOneHot)[20]',\n",
       " 'C(opposition_team, FullRankOneHot)[1]',\n",
       " 'C(opposition_team, FullRankOneHot)[2]',\n",
       " 'C(opposition_team, FullRankOneHot)[3]',\n",
       " 'C(opposition_team, FullRankOneHot)[4]',\n",
       " 'C(opposition_team, FullRankOneHot)[5]',\n",
       " 'C(opposition_team, FullRankOneHot)[6]',\n",
       " 'C(opposition_team, FullRankOneHot)[7]',\n",
       " 'C(opposition_team, FullRankOneHot)[8]',\n",
       " 'C(opposition_team, FullRankOneHot)[9]',\n",
       " 'C(opposition_team, FullRankOneHot)[10]',\n",
       " 'C(opposition_team, FullRankOneHot)[11]',\n",
       " 'C(opposition_team, FullRankOneHot)[12]',\n",
       " 'C(opposition_team, FullRankOneHot)[13]',\n",
       " 'C(opposition_team, FullRankOneHot)[14]',\n",
       " 'C(opposition_team, FullRankOneHot)[15]',\n",
       " 'C(opposition_team, FullRankOneHot)[16]',\n",
       " 'C(opposition_team, FullRankOneHot)[17]',\n",
       " 'C(opposition_team, FullRankOneHot)[18]',\n",
       " 'C(opposition_team, FullRankOneHot)[19]',\n",
       " 'C(opposition_team, FullRankOneHot)[20]',\n",
       " 'was_home',\n",
       " 'value',\n",
       " 'is_high_value',\n",
       " 'rolling_q3_total_points_element',\n",
       " 'rolling_avg_bonus_element',\n",
       " 'rolling_avg_big_chances_created_element',\n",
       " 'rolling_avg_saves_element',\n",
       " 'is_keeper:rolling_avg_saves_element',\n",
       " 'rolling_avg_goals_conceded_element',\n",
       " 'rolling_avg_attempted_passes_element',\n",
       " 'rolling_avg_errors_leading_to_goal_attempt_element',\n",
       " 'rolling_avg_penalties_saved_element',\n",
       " 'is_keeper:rolling_avg_penalties_saved_element',\n",
       " 'rolling_avg_yellow_cards_element',\n",
       " 'rolling_avg_minutes_element_p3',\n",
       " 'rolling_avg_total_points_element_p3',\n",
       " 'rolling_avg_goals_scored_opposition_team',\n",
       " 'C(element_type, FullRankOneHot)[1]:rolling_avg_goals_scored_opposition_team',\n",
       " 'C(element_type, FullRankOneHot)[2]:rolling_avg_goals_scored_opposition_team',\n",
       " 'C(element_type, FullRankOneHot)[3]:rolling_avg_goals_scored_opposition_team',\n",
       " 'C(element_type, FullRankOneHot)[4]:rolling_avg_goals_scored_opposition_team',\n",
       " 'rolling_q3_goals_conceded_opposition_team',\n",
       " 'C(element_type, FullRankOneHot)[1]:rolling_q3_goals_conceded_opposition_team',\n",
       " 'C(element_type, FullRankOneHot)[2]:rolling_q3_goals_conceded_opposition_team',\n",
       " 'C(element_type, FullRankOneHot)[3]:rolling_q3_goals_conceded_opposition_team',\n",
       " 'C(element_type, FullRankOneHot)[4]:rolling_q3_goals_conceded_opposition_team',\n",
       " 'expected_total_points_against_opposition_team',\n",
       " 'rolling_avg_big_chances_element',\n",
       " 'rolling_avg_big_chances_scored_rate_element',\n",
       " 'rolling_avg_big_chances_assisted_rate_element',\n",
       " 'rolling_avg_save_rate_element']"
      ]
     },
     "execution_count": 39,
     "metadata": {},
     "output_type": "execute_result"
    }
   ],
   "source": [
    "X.design_info.column_names"
   ]
  },
  {
   "cell_type": "code",
   "execution_count": 40,
   "metadata": {
    "ExecuteTime": {
     "end_time": "2019-09-06T11:13:42.768794Z",
     "start_time": "2019-09-06T11:13:42.754982Z"
    }
   },
   "outputs": [],
   "source": [
    "for train_index, test_index in ps.split():\n",
    "    X_train, X_test = X[train_index], X[test_index]\n",
    "    y_train, y_test = y[train_index], y[test_index]"
   ]
  },
  {
   "cell_type": "markdown",
   "metadata": {},
   "source": [
    "## Selecting features"
   ]
  },
  {
   "cell_type": "code",
   "execution_count": 41,
   "metadata": {
    "ExecuteTime": {
     "end_time": "2019-09-06T11:13:46.023298Z",
     "start_time": "2019-09-06T11:13:44.172675Z"
    },
    "scrolled": true
   },
   "outputs": [
    {
     "name": "stdout",
     "output_type": "stream",
     "text": [
      "Fitting estimator with 76 features.\n",
      "Fitting estimator with 75 features.\n",
      "Fitting estimator with 74 features.\n",
      "Fitting estimator with 73 features.\n",
      "Fitting estimator with 72 features.\n",
      "Fitting estimator with 71 features.\n",
      "Fitting estimator with 70 features.\n",
      "Fitting estimator with 69 features.\n",
      "Fitting estimator with 68 features.\n",
      "Fitting estimator with 67 features.\n",
      "Fitting estimator with 66 features.\n",
      "Fitting estimator with 65 features.\n",
      "Fitting estimator with 64 features.\n",
      "Fitting estimator with 63 features.\n",
      "Fitting estimator with 62 features.\n",
      "Fitting estimator with 61 features.\n",
      "Fitting estimator with 60 features.\n",
      "Fitting estimator with 59 features.\n",
      "Fitting estimator with 58 features.\n",
      "Fitting estimator with 57 features.\n",
      "Fitting estimator with 56 features.\n",
      "Fitting estimator with 55 features.\n",
      "Fitting estimator with 54 features.\n",
      "Fitting estimator with 53 features.\n",
      "Fitting estimator with 52 features.\n",
      "Fitting estimator with 51 features.\n",
      "Fitting estimator with 50 features.\n",
      "Fitting estimator with 49 features.\n",
      "Fitting estimator with 48 features.\n",
      "Fitting estimator with 47 features.\n",
      "Fitting estimator with 46 features.\n",
      "Fitting estimator with 45 features.\n",
      "Fitting estimator with 44 features.\n",
      "Fitting estimator with 43 features.\n",
      "Fitting estimator with 42 features.\n",
      "Fitting estimator with 41 features.\n",
      "Fitting estimator with 40 features.\n",
      "Fitting estimator with 39 features.\n",
      "Fitting estimator with 38 features.\n",
      "Fitting estimator with 37 features.\n",
      "Fitting estimator with 36 features.\n",
      "Fitting estimator with 35 features.\n",
      "Fitting estimator with 34 features.\n",
      "Fitting estimator with 33 features.\n",
      "Fitting estimator with 32 features.\n",
      "Fitting estimator with 31 features.\n",
      "Fitting estimator with 30 features.\n",
      "Fitting estimator with 29 features.\n",
      "Fitting estimator with 28 features.\n",
      "Fitting estimator with 27 features.\n",
      "Fitting estimator with 26 features.\n",
      "Fitting estimator with 25 features.\n",
      "Fitting estimator with 24 features.\n",
      "Fitting estimator with 23 features.\n",
      "Fitting estimator with 22 features.\n",
      "Fitting estimator with 21 features.\n",
      "Fitting estimator with 20 features.\n",
      "Fitting estimator with 19 features.\n",
      "Fitting estimator with 18 features.\n",
      "Fitting estimator with 17 features.\n",
      "Fitting estimator with 16 features.\n",
      "Fitting estimator with 15 features.\n",
      "Fitting estimator with 14 features.\n",
      "Fitting estimator with 13 features.\n",
      "Fitting estimator with 12 features.\n",
      "Fitting estimator with 11 features.\n",
      "Fitting estimator with 10 features.\n",
      "Fitting estimator with 9 features.\n",
      "Fitting estimator with 8 features.\n",
      "Fitting estimator with 7 features.\n",
      "Fitting estimator with 6 features.\n",
      "Fitting estimator with 5 features.\n",
      "Fitting estimator with 4 features.\n",
      "Fitting estimator with 3 features.\n",
      "Fitting estimator with 2 features.\n",
      "Fitting estimator with 76 features.\n",
      "Fitting estimator with 75 features.\n"
     ]
    },
    {
     "data": {
      "text/plain": [
       "RFECV(cv=PredefinedSplit(test_fold=array([-1, -1, ...,  0,  0])),\n",
       "      estimator=Ridge(alpha=1, copy_X=True, fit_intercept=True, max_iter=None,\n",
       "                      normalize=False, random_state=None, solver='auto',\n",
       "                      tol=0.001),\n",
       "      min_features_to_select=1, n_jobs=1, scoring='neg_mean_squared_error',\n",
       "      step=1, verbose=1)"
      ]
     },
     "execution_count": 41,
     "metadata": {},
     "output_type": "execute_result"
    }
   ],
   "source": [
    "estimator = Ridge(alpha=1)\n",
    "\n",
    "selector = RFECV(estimator, step=1,\n",
    "                 scoring='neg_mean_squared_error',\n",
    "                 cv=ps, n_jobs=1, verbose=1)\n",
    "selector.fit(\n",
    "    X,\n",
    "    y.ravel()\n",
    ")"
   ]
  },
  {
   "cell_type": "code",
   "execution_count": 42,
   "metadata": {
    "ExecuteTime": {
     "end_time": "2019-09-06T11:13:46.043749Z",
     "start_time": "2019-09-06T11:13:46.029885Z"
    }
   },
   "outputs": [
    {
     "data": {
      "text/plain": [
       "74"
      ]
     },
     "execution_count": 42,
     "metadata": {},
     "output_type": "execute_result"
    }
   ],
   "source": [
    "sum(selector.support_)"
   ]
  },
  {
   "cell_type": "code",
   "execution_count": 43,
   "metadata": {
    "ExecuteTime": {
     "end_time": "2019-09-06T11:13:46.080305Z",
     "start_time": "2019-09-06T11:13:46.053042Z"
    }
   },
   "outputs": [
    {
     "data": {
      "text/plain": [
       "-8.582171414759683"
      ]
     },
     "execution_count": 43,
     "metadata": {},
     "output_type": "execute_result"
    }
   ],
   "source": [
    "selector.grid_scores_[-1]"
   ]
  },
  {
   "cell_type": "code",
   "execution_count": 44,
   "metadata": {
    "ExecuteTime": {
     "end_time": "2019-09-06T11:13:46.546031Z",
     "start_time": "2019-09-06T11:13:46.534576Z"
    }
   },
   "outputs": [
    {
     "data": {
      "text/plain": [
       "['C(element_type, FullRankOneHot)[1]',\n",
       " 'C(element_type, FullRankOneHot)[2]',\n",
       " 'C(element_type, FullRankOneHot)[3]',\n",
       " 'C(element_type, FullRankOneHot)[4]',\n",
       " 'C(team, FullRankOneHot)[1]',\n",
       " 'C(team, FullRankOneHot)[2]',\n",
       " 'C(team, FullRankOneHot)[3]',\n",
       " 'C(team, FullRankOneHot)[4]',\n",
       " 'C(team, FullRankOneHot)[5]',\n",
       " 'C(team, FullRankOneHot)[6]',\n",
       " 'C(team, FullRankOneHot)[7]',\n",
       " 'C(team, FullRankOneHot)[8]',\n",
       " 'C(team, FullRankOneHot)[9]',\n",
       " 'C(team, FullRankOneHot)[10]',\n",
       " 'C(team, FullRankOneHot)[11]',\n",
       " 'C(team, FullRankOneHot)[12]',\n",
       " 'C(team, FullRankOneHot)[13]',\n",
       " 'C(team, FullRankOneHot)[14]',\n",
       " 'C(team, FullRankOneHot)[15]',\n",
       " 'C(team, FullRankOneHot)[16]',\n",
       " 'C(team, FullRankOneHot)[17]',\n",
       " 'C(team, FullRankOneHot)[18]',\n",
       " 'C(team, FullRankOneHot)[19]',\n",
       " 'C(team, FullRankOneHot)[20]',\n",
       " 'C(opposition_team, FullRankOneHot)[1]',\n",
       " 'C(opposition_team, FullRankOneHot)[2]',\n",
       " 'C(opposition_team, FullRankOneHot)[3]',\n",
       " 'C(opposition_team, FullRankOneHot)[4]',\n",
       " 'C(opposition_team, FullRankOneHot)[5]',\n",
       " 'C(opposition_team, FullRankOneHot)[6]',\n",
       " 'C(opposition_team, FullRankOneHot)[7]',\n",
       " 'C(opposition_team, FullRankOneHot)[8]',\n",
       " 'C(opposition_team, FullRankOneHot)[9]',\n",
       " 'C(opposition_team, FullRankOneHot)[10]',\n",
       " 'C(opposition_team, FullRankOneHot)[11]',\n",
       " 'C(opposition_team, FullRankOneHot)[12]',\n",
       " 'C(opposition_team, FullRankOneHot)[13]',\n",
       " 'C(opposition_team, FullRankOneHot)[14]',\n",
       " 'C(opposition_team, FullRankOneHot)[15]',\n",
       " 'C(opposition_team, FullRankOneHot)[16]',\n",
       " 'C(opposition_team, FullRankOneHot)[17]',\n",
       " 'C(opposition_team, FullRankOneHot)[18]',\n",
       " 'C(opposition_team, FullRankOneHot)[19]',\n",
       " 'C(opposition_team, FullRankOneHot)[20]',\n",
       " 'was_home',\n",
       " 'value',\n",
       " 'rolling_q3_total_points_element',\n",
       " 'rolling_avg_bonus_element',\n",
       " 'rolling_avg_big_chances_created_element',\n",
       " 'rolling_avg_saves_element',\n",
       " 'is_keeper:rolling_avg_saves_element',\n",
       " 'rolling_avg_goals_conceded_element',\n",
       " 'rolling_avg_attempted_passes_element',\n",
       " 'rolling_avg_errors_leading_to_goal_attempt_element',\n",
       " 'rolling_avg_penalties_saved_element',\n",
       " 'is_keeper:rolling_avg_penalties_saved_element',\n",
       " 'rolling_avg_yellow_cards_element',\n",
       " 'rolling_avg_minutes_element_p3',\n",
       " 'rolling_avg_total_points_element_p3',\n",
       " 'rolling_avg_goals_scored_opposition_team',\n",
       " 'C(element_type, FullRankOneHot)[1]:rolling_avg_goals_scored_opposition_team',\n",
       " 'C(element_type, FullRankOneHot)[2]:rolling_avg_goals_scored_opposition_team',\n",
       " 'C(element_type, FullRankOneHot)[3]:rolling_avg_goals_scored_opposition_team',\n",
       " 'C(element_type, FullRankOneHot)[4]:rolling_avg_goals_scored_opposition_team',\n",
       " 'rolling_q3_goals_conceded_opposition_team',\n",
       " 'C(element_type, FullRankOneHot)[1]:rolling_q3_goals_conceded_opposition_team',\n",
       " 'C(element_type, FullRankOneHot)[2]:rolling_q3_goals_conceded_opposition_team',\n",
       " 'C(element_type, FullRankOneHot)[3]:rolling_q3_goals_conceded_opposition_team',\n",
       " 'C(element_type, FullRankOneHot)[4]:rolling_q3_goals_conceded_opposition_team',\n",
       " 'expected_total_points_against_opposition_team',\n",
       " 'rolling_avg_big_chances_element',\n",
       " 'rolling_avg_big_chances_scored_rate_element',\n",
       " 'rolling_avg_big_chances_assisted_rate_element',\n",
       " 'rolling_avg_save_rate_element']"
      ]
     },
     "execution_count": 44,
     "metadata": {},
     "output_type": "execute_result"
    }
   ],
   "source": [
    "list(pd.Series(X.design_info.column_names)[selector.support_])"
   ]
  },
  {
   "cell_type": "code",
   "execution_count": 45,
   "metadata": {
    "ExecuteTime": {
     "end_time": "2019-09-06T11:13:47.487318Z",
     "start_time": "2019-09-06T11:13:47.469348Z"
    }
   },
   "outputs": [],
   "source": [
    "X_sel = X[:,selector.support_]\n",
    "X_train_sel = X_train[:,selector.support_]\n",
    "X_test_sel = X_test[:,selector.support_]"
   ]
  },
  {
   "cell_type": "markdown",
   "metadata": {},
   "source": [
    "## Tuning model"
   ]
  },
  {
   "cell_type": "markdown",
   "metadata": {},
   "source": [
    "### GP tuner"
   ]
  },
  {
   "cell_type": "code",
   "execution_count": 139,
   "metadata": {
    "ExecuteTime": {
     "end_time": "2019-09-07T11:43:19.439395Z",
     "start_time": "2019-09-07T11:43:19.419206Z"
    }
   },
   "outputs": [],
   "source": [
    "space  = [\n",
    "    Real(0.001, 0.1, 'log-uniform', name='learning_rate'),\n",
    "    Real(0.5, 1.0, 'uniform', name='subsample'),\n",
    "    Real(0.2, 1.0, 'uniform', name='colsample_bynode'),\n",
    "    Real(0.0001, 100, 'log-uniform', name='reg_lambda'),\n",
    "    Integer(2, 6, name='max_depth'),\n",
    "    Integer(100, 200, name='n_estimators')\n",
    "]"
   ]
  },
  {
   "cell_type": "code",
   "execution_count": 140,
   "metadata": {
    "ExecuteTime": {
     "end_time": "2019-09-07T11:43:20.123663Z",
     "start_time": "2019-09-07T11:43:20.113675Z"
    }
   },
   "outputs": [],
   "source": [
    "gp_model = XGBRegressor(objective='reg:squarederror')\n",
    "\n",
    "@use_named_args(space)\n",
    "def objective(**params):\n",
    "    gp_model.set_params(**params)\n",
    "\n",
    "    return -np.mean(\n",
    "        cross_val_score(\n",
    "            gp_model,\n",
    "            X,\n",
    "#             X_sel,\n",
    "            y.ravel(),\n",
    "            cv=ps,\n",
    "            n_jobs=1,\n",
    "            scoring=\"neg_mean_squared_error\"))"
   ]
  },
  {
   "cell_type": "code",
   "execution_count": 141,
   "metadata": {
    "ExecuteTime": {
     "end_time": "2019-09-07T11:52:37.455231Z",
     "start_time": "2019-09-07T11:43:21.145820Z"
    },
    "scrolled": true
   },
   "outputs": [
    {
     "name": "stdout",
     "output_type": "stream",
     "text": [
      "minimisation iteration 1\n",
      "Iteration No: 1 started. Evaluating function at random point.\n",
      "Iteration No: 1 ended. Evaluation done at random point.\n",
      "Time taken: 3.6347\n",
      "Function value obtained: 12.4290\n",
      "Current minimum: 12.4290\n",
      "Iteration No: 2 started. Evaluating function at random point.\n",
      "Iteration No: 2 ended. Evaluation done at random point.\n",
      "Time taken: 1.6475\n",
      "Function value obtained: 8.6146\n",
      "Current minimum: 8.6146\n",
      "Iteration No: 3 started. Evaluating function at random point.\n",
      "Iteration No: 3 ended. Evaluation done at random point.\n",
      "Time taken: 1.9488\n",
      "Function value obtained: 10.4879\n",
      "Current minimum: 8.6146\n",
      "Iteration No: 4 started. Evaluating function at random point.\n",
      "Iteration No: 4 ended. Evaluation done at random point.\n",
      "Time taken: 4.1687\n",
      "Function value obtained: 8.5751\n",
      "Current minimum: 8.5751\n",
      "Iteration No: 5 started. Evaluating function at random point.\n",
      "Iteration No: 5 ended. Evaluation done at random point.\n",
      "Time taken: 3.0617\n",
      "Function value obtained: 8.6776\n",
      "Current minimum: 8.5751\n",
      "Iteration No: 6 started. Evaluating function at random point.\n",
      "Iteration No: 6 ended. Evaluation done at random point.\n",
      "Time taken: 1.5578\n",
      "Function value obtained: 9.2919\n",
      "Current minimum: 8.5751\n",
      "Iteration No: 7 started. Evaluating function at random point.\n",
      "Iteration No: 7 ended. Evaluation done at random point.\n",
      "Time taken: 2.1949\n",
      "Function value obtained: 10.8697\n",
      "Current minimum: 8.5751\n",
      "Iteration No: 8 started. Evaluating function at random point.\n",
      "Iteration No: 8 ended. Evaluation done at random point.\n",
      "Time taken: 1.6604\n",
      "Function value obtained: 8.5988\n",
      "Current minimum: 8.5751\n",
      "Iteration No: 9 started. Evaluating function at random point.\n",
      "Iteration No: 9 ended. Evaluation done at random point.\n",
      "Time taken: 2.0200\n",
      "Function value obtained: 9.4336\n",
      "Current minimum: 8.5751\n",
      "Iteration No: 10 started. Evaluating function at random point.\n",
      "Iteration No: 10 ended. Evaluation done at random point.\n",
      "Time taken: 2.1063\n",
      "Function value obtained: 9.3802\n",
      "Current minimum: 8.5751\n",
      "Iteration No: 11 started. Searching for the next optimal point.\n",
      "Iteration No: 11 ended. Search finished for the next optimal point.\n",
      "Time taken: 3.4630\n",
      "Function value obtained: 8.5578\n",
      "Current minimum: 8.5578\n",
      "Iteration No: 12 started. Searching for the next optimal point.\n",
      "Iteration No: 12 ended. Search finished for the next optimal point.\n",
      "Time taken: 5.0217\n",
      "Function value obtained: 8.5522\n",
      "Current minimum: 8.5522\n",
      "Iteration No: 13 started. Searching for the next optimal point.\n",
      "Iteration No: 13 ended. Search finished for the next optimal point.\n",
      "Time taken: 2.2666\n",
      "Function value obtained: 8.6682\n",
      "Current minimum: 8.5522\n",
      "Iteration No: 14 started. Searching for the next optimal point.\n",
      "Iteration No: 14 ended. Search finished for the next optimal point.\n",
      "Time taken: 3.7080\n",
      "Function value obtained: 8.5346\n",
      "Current minimum: 8.5346\n",
      "Iteration No: 15 started. Searching for the next optimal point.\n",
      "Iteration No: 15 ended. Search finished for the next optimal point.\n",
      "Time taken: 5.3459\n",
      "Function value obtained: 8.5380\n",
      "Current minimum: 8.5346\n",
      "Iteration No: 16 started. Searching for the next optimal point.\n",
      "Iteration No: 16 ended. Search finished for the next optimal point.\n",
      "Time taken: 3.9785\n",
      "Function value obtained: 8.5963\n",
      "Current minimum: 8.5346\n",
      "Iteration No: 17 started. Searching for the next optimal point.\n",
      "Iteration No: 17 ended. Search finished for the next optimal point.\n",
      "Time taken: 2.8123\n",
      "Function value obtained: 8.5495\n",
      "Current minimum: 8.5346\n",
      "Iteration No: 18 started. Searching for the next optimal point.\n",
      "Iteration No: 18 ended. Search finished for the next optimal point.\n",
      "Time taken: 2.1140\n",
      "Function value obtained: 8.5697\n",
      "Current minimum: 8.5346\n",
      "Iteration No: 19 started. Searching for the next optimal point.\n",
      "Iteration No: 19 ended. Search finished for the next optimal point.\n",
      "Time taken: 6.6516\n",
      "Function value obtained: 8.5850\n",
      "Current minimum: 8.5346\n",
      "Iteration No: 20 started. Searching for the next optimal point.\n",
      "Iteration No: 20 ended. Search finished for the next optimal point.\n",
      "Time taken: 2.2636\n",
      "Function value obtained: 8.5550\n",
      "Current minimum: 8.5346\n",
      "Iteration No: 21 started. Searching for the next optimal point.\n",
      "Iteration No: 21 ended. Search finished for the next optimal point.\n",
      "Time taken: 2.3920\n",
      "Function value obtained: 8.5508\n",
      "Current minimum: 8.5346\n",
      "Iteration No: 22 started. Searching for the next optimal point.\n",
      "Iteration No: 22 ended. Search finished for the next optimal point.\n",
      "Time taken: 1.6657\n",
      "Function value obtained: 8.5571\n",
      "Current minimum: 8.5346\n",
      "Iteration No: 23 started. Searching for the next optimal point.\n",
      "Iteration No: 23 ended. Search finished for the next optimal point.\n",
      "Time taken: 3.4079\n",
      "Function value obtained: 8.5039\n",
      "Current minimum: 8.5039\n",
      "Iteration No: 24 started. Searching for the next optimal point.\n",
      "Iteration No: 24 ended. Search finished for the next optimal point.\n",
      "Time taken: 3.5130\n",
      "Function value obtained: 8.5200\n",
      "Current minimum: 8.5039\n",
      "Iteration No: 25 started. Searching for the next optimal point.\n",
      "Iteration No: 25 ended. Search finished for the next optimal point.\n",
      "Time taken: 2.4066\n",
      "Function value obtained: 8.5326\n",
      "Current minimum: 8.5039\n",
      "Iteration No: 26 started. Searching for the next optimal point.\n",
      "Iteration No: 26 ended. Search finished for the next optimal point.\n",
      "Time taken: 3.3577\n",
      "Function value obtained: 8.4843\n",
      "Current minimum: 8.4843\n",
      "Iteration No: 27 started. Searching for the next optimal point.\n",
      "Iteration No: 27 ended. Search finished for the next optimal point.\n",
      "Time taken: 2.2862\n",
      "Function value obtained: 8.6847\n",
      "Current minimum: 8.4843\n",
      "Iteration No: 28 started. Searching for the next optimal point.\n",
      "Iteration No: 28 ended. Search finished for the next optimal point.\n",
      "Time taken: 3.3363\n",
      "Function value obtained: 8.5470\n",
      "Current minimum: 8.4843\n",
      "Iteration No: 29 started. Searching for the next optimal point.\n",
      "Iteration No: 29 ended. Search finished for the next optimal point.\n",
      "Time taken: 3.4889\n",
      "Function value obtained: 8.4959\n",
      "Current minimum: 8.4843\n",
      "Iteration No: 30 started. Searching for the next optimal point.\n",
      "Iteration No: 30 ended. Search finished for the next optimal point.\n",
      "Time taken: 5.9566\n",
      "Function value obtained: 8.9069\n",
      "Current minimum: 8.4843\n",
      "Iteration No: 31 started. Searching for the next optimal point.\n",
      "Iteration No: 31 ended. Search finished for the next optimal point.\n",
      "Time taken: 7.6532\n",
      "Function value obtained: 8.5818\n",
      "Current minimum: 8.4843\n",
      "Iteration No: 32 started. Searching for the next optimal point.\n",
      "Iteration No: 32 ended. Search finished for the next optimal point.\n",
      "Time taken: 3.2798\n",
      "Function value obtained: 8.5048\n",
      "Current minimum: 8.4843\n",
      "Iteration No: 33 started. Searching for the next optimal point.\n",
      "Iteration No: 33 ended. Search finished for the next optimal point.\n",
      "Time taken: 2.1986\n",
      "Function value obtained: 8.5912\n",
      "Current minimum: 8.4843\n",
      "Iteration No: 34 started. Searching for the next optimal point.\n",
      "Iteration No: 34 ended. Search finished for the next optimal point.\n",
      "Time taken: 3.8926\n",
      "Function value obtained: 8.5949\n",
      "Current minimum: 8.4843\n",
      "Iteration No: 35 started. Searching for the next optimal point.\n",
      "Iteration No: 35 ended. Search finished for the next optimal point.\n",
      "Time taken: 3.3519\n",
      "Function value obtained: 8.5615\n",
      "Current minimum: 8.4843\n",
      "Iteration No: 36 started. Searching for the next optimal point.\n",
      "Iteration No: 36 ended. Search finished for the next optimal point.\n",
      "Time taken: 3.0028\n",
      "Function value obtained: 8.4937\n",
      "Current minimum: 8.4843\n",
      "Iteration No: 37 started. Searching for the next optimal point.\n",
      "Iteration No: 37 ended. Search finished for the next optimal point.\n",
      "Time taken: 2.9050\n",
      "Function value obtained: 8.4864\n",
      "Current minimum: 8.4843\n",
      "Iteration No: 38 started. Searching for the next optimal point.\n",
      "Iteration No: 38 ended. Search finished for the next optimal point.\n",
      "Time taken: 3.0096\n",
      "Function value obtained: 8.4949\n",
      "Current minimum: 8.4843\n",
      "Iteration No: 39 started. Searching for the next optimal point.\n",
      "Iteration No: 39 ended. Search finished for the next optimal point.\n",
      "Time taken: 3.0904\n",
      "Function value obtained: 8.5145\n",
      "Current minimum: 8.4843\n",
      "Iteration No: 40 started. Searching for the next optimal point.\n",
      "Iteration No: 40 ended. Search finished for the next optimal point.\n",
      "Time taken: 3.1339\n",
      "Function value obtained: 8.5014\n",
      "Current minimum: 8.4843\n",
      "Iteration No: 41 started. Searching for the next optimal point.\n"
     ]
    },
    {
     "name": "stdout",
     "output_type": "stream",
     "text": [
      "Iteration No: 41 ended. Search finished for the next optimal point.\n",
      "Time taken: 3.0482\n",
      "Function value obtained: 8.5152\n",
      "Current minimum: 8.4843\n",
      "Iteration No: 42 started. Searching for the next optimal point.\n",
      "Iteration No: 42 ended. Search finished for the next optimal point.\n",
      "Time taken: 3.0219\n",
      "Function value obtained: 8.5151\n",
      "Current minimum: 8.4843\n",
      "Iteration No: 43 started. Searching for the next optimal point.\n",
      "Iteration No: 43 ended. Search finished for the next optimal point.\n",
      "Time taken: 2.8130\n",
      "Function value obtained: 8.4946\n",
      "Current minimum: 8.4843\n",
      "Iteration No: 44 started. Searching for the next optimal point.\n",
      "Iteration No: 44 ended. Search finished for the next optimal point.\n",
      "Time taken: 2.5943\n",
      "Function value obtained: 8.4928\n",
      "Current minimum: 8.4843\n",
      "Iteration No: 45 started. Searching for the next optimal point.\n",
      "Iteration No: 45 ended. Search finished for the next optimal point.\n",
      "Time taken: 2.8799\n",
      "Function value obtained: 8.5027\n",
      "Current minimum: 8.4843\n",
      "Iteration No: 46 started. Searching for the next optimal point.\n",
      "Iteration No: 46 ended. Search finished for the next optimal point.\n",
      "Time taken: 2.9592\n",
      "Function value obtained: 8.4950\n",
      "Current minimum: 8.4843\n",
      "Iteration No: 47 started. Searching for the next optimal point.\n",
      "Iteration No: 47 ended. Search finished for the next optimal point.\n",
      "Time taken: 2.3827\n",
      "Function value obtained: 8.6354\n",
      "Current minimum: 8.4843\n",
      "Iteration No: 48 started. Searching for the next optimal point.\n",
      "Iteration No: 48 ended. Search finished for the next optimal point.\n",
      "Time taken: 3.8589\n",
      "Function value obtained: 8.5191\n",
      "Current minimum: 8.4843\n",
      "Iteration No: 49 started. Searching for the next optimal point.\n",
      "Iteration No: 49 ended. Search finished for the next optimal point.\n",
      "Time taken: 3.1053\n",
      "Function value obtained: 8.5197\n",
      "Current minimum: 8.4843\n",
      "Iteration No: 50 started. Searching for the next optimal point.\n",
      "Iteration No: 50 ended. Search finished for the next optimal point.\n",
      "Time taken: 3.3339\n",
      "Function value obtained: 8.4944\n",
      "Current minimum: 8.4843\n",
      "minimisation iteration 2\n",
      "Iteration No: 1 started. Evaluating function at random point.\n",
      "Iteration No: 1 ended. Evaluation done at random point.\n",
      "Time taken: 1.6642\n",
      "Function value obtained: 9.9435\n",
      "Current minimum: 9.9435\n",
      "Iteration No: 2 started. Evaluating function at random point.\n",
      "Iteration No: 2 ended. Evaluation done at random point.\n",
      "Time taken: 5.2429\n",
      "Function value obtained: 9.9238\n",
      "Current minimum: 9.9238\n",
      "Iteration No: 3 started. Evaluating function at random point.\n",
      "Iteration No: 3 ended. Evaluation done at random point.\n",
      "Time taken: 1.8534\n",
      "Function value obtained: 11.4046\n",
      "Current minimum: 9.9238\n",
      "Iteration No: 4 started. Evaluating function at random point.\n",
      "Iteration No: 4 ended. Evaluation done at random point.\n",
      "Time taken: 3.4246\n",
      "Function value obtained: 8.5876\n",
      "Current minimum: 8.5876\n",
      "Iteration No: 5 started. Evaluating function at random point.\n",
      "Iteration No: 5 ended. Evaluation done at random point.\n",
      "Time taken: 1.9926\n",
      "Function value obtained: 9.0019\n",
      "Current minimum: 8.5876\n",
      "Iteration No: 6 started. Evaluating function at random point.\n",
      "Iteration No: 6 ended. Evaluation done at random point.\n",
      "Time taken: 1.3499\n",
      "Function value obtained: 8.5176\n",
      "Current minimum: 8.5176\n",
      "Iteration No: 7 started. Evaluating function at random point.\n",
      "Iteration No: 7 ended. Evaluation done at random point.\n",
      "Time taken: 2.2858\n",
      "Function value obtained: 12.2483\n",
      "Current minimum: 8.5176\n",
      "Iteration No: 8 started. Evaluating function at random point.\n",
      "Iteration No: 8 ended. Evaluation done at random point.\n",
      "Time taken: 1.8908\n",
      "Function value obtained: 9.4882\n",
      "Current minimum: 8.5176\n",
      "Iteration No: 9 started. Evaluating function at random point.\n",
      "Iteration No: 9 ended. Evaluation done at random point.\n",
      "Time taken: 2.0042\n",
      "Function value obtained: 8.7657\n",
      "Current minimum: 8.5176\n",
      "Iteration No: 10 started. Evaluating function at random point.\n",
      "Iteration No: 10 ended. Evaluation done at random point.\n",
      "Time taken: 2.3569\n",
      "Function value obtained: 10.6342\n",
      "Current minimum: 8.5176\n",
      "Iteration No: 11 started. Searching for the next optimal point.\n",
      "Iteration No: 11 ended. Search finished for the next optimal point.\n",
      "Time taken: 7.4151\n",
      "Function value obtained: 8.6778\n",
      "Current minimum: 8.5176\n",
      "Iteration No: 12 started. Searching for the next optimal point.\n",
      "Iteration No: 12 ended. Search finished for the next optimal point.\n",
      "Time taken: 4.9933\n",
      "Function value obtained: 8.5975\n",
      "Current minimum: 8.5176\n",
      "Iteration No: 13 started. Searching for the next optimal point.\n",
      "Iteration No: 13 ended. Search finished for the next optimal point.\n",
      "Time taken: 2.0348\n",
      "Function value obtained: 8.5692\n",
      "Current minimum: 8.5176\n",
      "Iteration No: 14 started. Searching for the next optimal point.\n",
      "Iteration No: 14 ended. Search finished for the next optimal point.\n",
      "Time taken: 2.0615\n",
      "Function value obtained: 8.5575\n",
      "Current minimum: 8.5176\n",
      "Iteration No: 15 started. Searching for the next optimal point.\n",
      "Iteration No: 15 ended. Search finished for the next optimal point.\n",
      "Time taken: 2.0308\n",
      "Function value obtained: 8.5165\n",
      "Current minimum: 8.5165\n",
      "Iteration No: 16 started. Searching for the next optimal point.\n",
      "Iteration No: 16 ended. Search finished for the next optimal point.\n",
      "Time taken: 3.6497\n",
      "Function value obtained: 8.5630\n",
      "Current minimum: 8.5165\n",
      "Iteration No: 17 started. Searching for the next optimal point.\n",
      "Iteration No: 17 ended. Search finished for the next optimal point.\n",
      "Time taken: 1.9719\n",
      "Function value obtained: 8.5423\n",
      "Current minimum: 8.5165\n",
      "Iteration No: 18 started. Searching for the next optimal point.\n",
      "Iteration No: 18 ended. Search finished for the next optimal point.\n",
      "Time taken: 1.5664\n",
      "Function value obtained: 8.5975\n",
      "Current minimum: 8.5165\n",
      "Iteration No: 19 started. Searching for the next optimal point.\n",
      "Iteration No: 19 ended. Search finished for the next optimal point.\n",
      "Time taken: 2.2685\n",
      "Function value obtained: 8.5396\n",
      "Current minimum: 8.5165\n",
      "Iteration No: 20 started. Searching for the next optimal point.\n",
      "Iteration No: 20 ended. Search finished for the next optimal point.\n",
      "Time taken: 1.7559\n",
      "Function value obtained: 8.5739\n",
      "Current minimum: 8.5165\n",
      "Iteration No: 21 started. Searching for the next optimal point.\n",
      "Iteration No: 21 ended. Search finished for the next optimal point.\n",
      "Time taken: 3.5190\n",
      "Function value obtained: 8.6405\n",
      "Current minimum: 8.5165\n",
      "Iteration No: 22 started. Searching for the next optimal point.\n",
      "Iteration No: 22 ended. Search finished for the next optimal point.\n",
      "Time taken: 1.6634\n",
      "Function value obtained: 8.5222\n",
      "Current minimum: 8.5165\n",
      "Iteration No: 23 started. Searching for the next optimal point.\n",
      "Iteration No: 23 ended. Search finished for the next optimal point.\n",
      "Time taken: 2.2452\n",
      "Function value obtained: 8.4977\n",
      "Current minimum: 8.4977\n",
      "Iteration No: 24 started. Searching for the next optimal point.\n",
      "Iteration No: 24 ended. Search finished for the next optimal point.\n",
      "Time taken: 2.2830\n",
      "Function value obtained: 8.5037\n",
      "Current minimum: 8.4977\n",
      "Iteration No: 25 started. Searching for the next optimal point.\n",
      "Iteration No: 25 ended. Search finished for the next optimal point.\n",
      "Time taken: 2.3667\n",
      "Function value obtained: 8.5021\n",
      "Current minimum: 8.4977\n",
      "Iteration No: 26 started. Searching for the next optimal point.\n",
      "Iteration No: 26 ended. Search finished for the next optimal point.\n",
      "Time taken: 2.1852\n",
      "Function value obtained: 8.5210\n",
      "Current minimum: 8.4977\n",
      "Iteration No: 27 started. Searching for the next optimal point.\n",
      "Iteration No: 27 ended. Search finished for the next optimal point.\n",
      "Time taken: 2.6990\n",
      "Function value obtained: 8.5150\n",
      "Current minimum: 8.4977\n",
      "Iteration No: 28 started. Searching for the next optimal point.\n",
      "Iteration No: 28 ended. Search finished for the next optimal point.\n",
      "Time taken: 2.2822\n",
      "Function value obtained: 8.5302\n",
      "Current minimum: 8.4977\n",
      "Iteration No: 29 started. Searching for the next optimal point.\n",
      "Iteration No: 29 ended. Search finished for the next optimal point.\n",
      "Time taken: 1.9758\n",
      "Function value obtained: 8.5434\n",
      "Current minimum: 8.4977\n",
      "Iteration No: 30 started. Searching for the next optimal point.\n",
      "Iteration No: 30 ended. Search finished for the next optimal point.\n",
      "Time taken: 1.5473\n",
      "Function value obtained: 8.5209\n",
      "Current minimum: 8.4977\n",
      "Iteration No: 31 started. Searching for the next optimal point.\n",
      "Iteration No: 31 ended. Search finished for the next optimal point.\n",
      "Time taken: 1.8201\n",
      "Function value obtained: 8.5148\n",
      "Current minimum: 8.4977\n",
      "Iteration No: 32 started. Searching for the next optimal point.\n"
     ]
    },
    {
     "name": "stdout",
     "output_type": "stream",
     "text": [
      "Iteration No: 32 ended. Search finished for the next optimal point.\n",
      "Time taken: 1.9564\n",
      "Function value obtained: 8.5021\n",
      "Current minimum: 8.4977\n",
      "Iteration No: 33 started. Searching for the next optimal point.\n",
      "Iteration No: 33 ended. Search finished for the next optimal point.\n",
      "Time taken: 1.7696\n",
      "Function value obtained: 8.5365\n",
      "Current minimum: 8.4977\n",
      "Iteration No: 34 started. Searching for the next optimal point.\n",
      "Iteration No: 34 ended. Search finished for the next optimal point.\n",
      "Time taken: 2.1042\n",
      "Function value obtained: 8.5095\n",
      "Current minimum: 8.4977\n",
      "Iteration No: 35 started. Searching for the next optimal point.\n",
      "Iteration No: 35 ended. Search finished for the next optimal point.\n",
      "Time taken: 2.1420\n",
      "Function value obtained: 8.5476\n",
      "Current minimum: 8.4977\n",
      "Iteration No: 36 started. Searching for the next optimal point.\n",
      "Iteration No: 36 ended. Search finished for the next optimal point.\n",
      "Time taken: 2.5110\n",
      "Function value obtained: 8.5371\n",
      "Current minimum: 8.4977\n",
      "Iteration No: 37 started. Searching for the next optimal point.\n",
      "Iteration No: 37 ended. Search finished for the next optimal point.\n",
      "Time taken: 3.5591\n",
      "Function value obtained: 8.5329\n",
      "Current minimum: 8.4977\n",
      "Iteration No: 38 started. Searching for the next optimal point.\n",
      "Iteration No: 38 ended. Search finished for the next optimal point.\n",
      "Time taken: 2.6074\n",
      "Function value obtained: 8.4864\n",
      "Current minimum: 8.4864\n",
      "Iteration No: 39 started. Searching for the next optimal point.\n",
      "Iteration No: 39 ended. Search finished for the next optimal point.\n",
      "Time taken: 2.8676\n",
      "Function value obtained: 8.5018\n",
      "Current minimum: 8.4864\n",
      "Iteration No: 40 started. Searching for the next optimal point.\n",
      "Iteration No: 40 ended. Search finished for the next optimal point.\n",
      "Time taken: 2.3462\n",
      "Function value obtained: 8.5200\n",
      "Current minimum: 8.4864\n",
      "Iteration No: 41 started. Searching for the next optimal point.\n",
      "Iteration No: 41 ended. Search finished for the next optimal point.\n",
      "Time taken: 2.9392\n",
      "Function value obtained: 8.4967\n",
      "Current minimum: 8.4864\n",
      "Iteration No: 42 started. Searching for the next optimal point.\n",
      "Iteration No: 42 ended. Search finished for the next optimal point.\n",
      "Time taken: 3.0888\n",
      "Function value obtained: 8.4912\n",
      "Current minimum: 8.4864\n",
      "Iteration No: 43 started. Searching for the next optimal point.\n",
      "Iteration No: 43 ended. Search finished for the next optimal point.\n",
      "Time taken: 2.7050\n",
      "Function value obtained: 8.5490\n",
      "Current minimum: 8.4864\n",
      "Iteration No: 44 started. Searching for the next optimal point.\n",
      "Iteration No: 44 ended. Search finished for the next optimal point.\n",
      "Time taken: 2.4524\n",
      "Function value obtained: 8.6326\n",
      "Current minimum: 8.4864\n",
      "Iteration No: 45 started. Searching for the next optimal point.\n",
      "Iteration No: 45 ended. Search finished for the next optimal point.\n",
      "Time taken: 2.8214\n",
      "Function value obtained: 8.4900\n",
      "Current minimum: 8.4864\n",
      "Iteration No: 46 started. Searching for the next optimal point.\n",
      "Iteration No: 46 ended. Search finished for the next optimal point.\n",
      "Time taken: 2.7303\n",
      "Function value obtained: 8.4895\n",
      "Current minimum: 8.4864\n",
      "Iteration No: 47 started. Searching for the next optimal point.\n",
      "Iteration No: 47 ended. Search finished for the next optimal point.\n",
      "Time taken: 3.1206\n",
      "Function value obtained: 8.4918\n",
      "Current minimum: 8.4864\n",
      "Iteration No: 48 started. Searching for the next optimal point.\n",
      "Iteration No: 48 ended. Search finished for the next optimal point.\n",
      "Time taken: 2.9442\n",
      "Function value obtained: 8.4969\n",
      "Current minimum: 8.4864\n",
      "Iteration No: 49 started. Searching for the next optimal point.\n",
      "Iteration No: 49 ended. Search finished for the next optimal point.\n",
      "Time taken: 2.6865\n",
      "Function value obtained: 8.5019\n",
      "Current minimum: 8.4864\n",
      "Iteration No: 50 started. Searching for the next optimal point.\n",
      "Iteration No: 50 ended. Search finished for the next optimal point.\n",
      "Time taken: 3.0752\n",
      "Function value obtained: 8.4887\n",
      "Current minimum: 8.4864\n",
      "minimisation iteration 3\n",
      "Iteration No: 1 started. Evaluating function at random point.\n",
      "Iteration No: 1 ended. Evaluation done at random point.\n",
      "Time taken: 3.0876\n",
      "Function value obtained: 8.5257\n",
      "Current minimum: 8.5257\n",
      "Iteration No: 2 started. Evaluating function at random point.\n",
      "Iteration No: 2 ended. Evaluation done at random point.\n",
      "Time taken: 2.6019\n",
      "Function value obtained: 8.5819\n",
      "Current minimum: 8.5257\n",
      "Iteration No: 3 started. Evaluating function at random point.\n",
      "Iteration No: 3 ended. Evaluation done at random point.\n",
      "Time taken: 5.4229\n",
      "Function value obtained: 8.5958\n",
      "Current minimum: 8.5257\n",
      "Iteration No: 4 started. Evaluating function at random point.\n",
      "Iteration No: 4 ended. Evaluation done at random point.\n",
      "Time taken: 6.2274\n",
      "Function value obtained: 8.9852\n",
      "Current minimum: 8.5257\n",
      "Iteration No: 5 started. Evaluating function at random point.\n",
      "Iteration No: 5 ended. Evaluation done at random point.\n",
      "Time taken: 1.2096\n",
      "Function value obtained: 10.0148\n",
      "Current minimum: 8.5257\n",
      "Iteration No: 6 started. Evaluating function at random point.\n",
      "Iteration No: 6 ended. Evaluation done at random point.\n",
      "Time taken: 1.5066\n",
      "Function value obtained: 10.2597\n",
      "Current minimum: 8.5257\n",
      "Iteration No: 7 started. Evaluating function at random point.\n",
      "Iteration No: 7 ended. Evaluation done at random point.\n",
      "Time taken: 1.9775\n",
      "Function value obtained: 8.8864\n",
      "Current minimum: 8.5257\n",
      "Iteration No: 8 started. Evaluating function at random point.\n",
      "Iteration No: 8 ended. Evaluation done at random point.\n",
      "Time taken: 1.5473\n",
      "Function value obtained: 8.5601\n",
      "Current minimum: 8.5257\n",
      "Iteration No: 9 started. Evaluating function at random point.\n",
      "Iteration No: 9 ended. Evaluation done at random point.\n",
      "Time taken: 1.1788\n",
      "Function value obtained: 9.4909\n",
      "Current minimum: 8.5257\n",
      "Iteration No: 10 started. Evaluating function at random point.\n",
      "Iteration No: 10 ended. Evaluation done at random point.\n",
      "Time taken: 3.4624\n",
      "Function value obtained: 11.7383\n",
      "Current minimum: 8.5257\n",
      "Iteration No: 11 started. Searching for the next optimal point.\n",
      "Iteration No: 11 ended. Search finished for the next optimal point.\n",
      "Time taken: 1.6084\n",
      "Function value obtained: 8.5277\n",
      "Current minimum: 8.5257\n",
      "Iteration No: 12 started. Searching for the next optimal point.\n",
      "Iteration No: 12 ended. Search finished for the next optimal point.\n",
      "Time taken: 1.8751\n",
      "Function value obtained: 8.5764\n",
      "Current minimum: 8.5257\n",
      "Iteration No: 13 started. Searching for the next optimal point.\n",
      "Iteration No: 13 ended. Search finished for the next optimal point.\n",
      "Time taken: 6.1519\n",
      "Function value obtained: 8.5747\n",
      "Current minimum: 8.5257\n",
      "Iteration No: 14 started. Searching for the next optimal point.\n",
      "Iteration No: 14 ended. Search finished for the next optimal point.\n",
      "Time taken: 3.9295\n",
      "Function value obtained: 8.5346\n",
      "Current minimum: 8.5257\n",
      "Iteration No: 15 started. Searching for the next optimal point.\n",
      "Iteration No: 15 ended. Search finished for the next optimal point.\n",
      "Time taken: 2.6232\n",
      "Function value obtained: 8.5782\n",
      "Current minimum: 8.5257\n",
      "Iteration No: 16 started. Searching for the next optimal point.\n",
      "Iteration No: 16 ended. Search finished for the next optimal point.\n",
      "Time taken: 2.2245\n",
      "Function value obtained: 8.6479\n",
      "Current minimum: 8.5257\n",
      "Iteration No: 17 started. Searching for the next optimal point.\n",
      "Iteration No: 17 ended. Search finished for the next optimal point.\n",
      "Time taken: 1.5906\n",
      "Function value obtained: 8.5448\n",
      "Current minimum: 8.5257\n",
      "Iteration No: 18 started. Searching for the next optimal point.\n",
      "Iteration No: 18 ended. Search finished for the next optimal point.\n",
      "Time taken: 2.2771\n",
      "Function value obtained: 8.5315\n",
      "Current minimum: 8.5257\n",
      "Iteration No: 19 started. Searching for the next optimal point.\n",
      "Iteration No: 19 ended. Search finished for the next optimal point.\n",
      "Time taken: 2.3208\n",
      "Function value obtained: 8.5700\n",
      "Current minimum: 8.5257\n",
      "Iteration No: 20 started. Searching for the next optimal point.\n",
      "Iteration No: 20 ended. Search finished for the next optimal point.\n",
      "Time taken: 2.2599\n",
      "Function value obtained: 8.5635\n",
      "Current minimum: 8.5257\n",
      "Iteration No: 21 started. Searching for the next optimal point.\n",
      "Iteration No: 21 ended. Search finished for the next optimal point.\n",
      "Time taken: 3.4644\n",
      "Function value obtained: 8.5738\n",
      "Current minimum: 8.5257\n",
      "Iteration No: 22 started. Searching for the next optimal point.\n",
      "Iteration No: 22 ended. Search finished for the next optimal point.\n",
      "Time taken: 3.2099\n",
      "Function value obtained: 8.5127\n",
      "Current minimum: 8.5127\n",
      "Iteration No: 23 started. Searching for the next optimal point.\n"
     ]
    },
    {
     "name": "stdout",
     "output_type": "stream",
     "text": [
      "Iteration No: 23 ended. Search finished for the next optimal point.\n",
      "Time taken: 3.3939\n",
      "Function value obtained: 8.5934\n",
      "Current minimum: 8.5127\n",
      "Iteration No: 24 started. Searching for the next optimal point.\n",
      "Iteration No: 24 ended. Search finished for the next optimal point.\n",
      "Time taken: 7.8985\n",
      "Function value obtained: 8.6127\n",
      "Current minimum: 8.5127\n",
      "Iteration No: 25 started. Searching for the next optimal point.\n",
      "Iteration No: 25 ended. Search finished for the next optimal point.\n",
      "Time taken: 1.9554\n",
      "Function value obtained: 8.5515\n",
      "Current minimum: 8.5127\n",
      "Iteration No: 26 started. Searching for the next optimal point.\n",
      "Iteration No: 26 ended. Search finished for the next optimal point.\n",
      "Time taken: 2.0987\n",
      "Function value obtained: 8.5706\n",
      "Current minimum: 8.5127\n",
      "Iteration No: 27 started. Searching for the next optimal point.\n",
      "Iteration No: 27 ended. Search finished for the next optimal point.\n",
      "Time taken: 1.8393\n",
      "Function value obtained: 8.5292\n",
      "Current minimum: 8.5127\n",
      "Iteration No: 28 started. Searching for the next optimal point.\n",
      "Iteration No: 28 ended. Search finished for the next optimal point.\n",
      "Time taken: 2.2135\n",
      "Function value obtained: 8.5179\n",
      "Current minimum: 8.5127\n",
      "Iteration No: 29 started. Searching for the next optimal point.\n",
      "Iteration No: 29 ended. Search finished for the next optimal point.\n",
      "Time taken: 1.7376\n",
      "Function value obtained: 8.4978\n",
      "Current minimum: 8.4978\n",
      "Iteration No: 30 started. Searching for the next optimal point.\n",
      "Iteration No: 30 ended. Search finished for the next optimal point.\n",
      "Time taken: 2.4643\n",
      "Function value obtained: 8.5586\n",
      "Current minimum: 8.4978\n",
      "Iteration No: 31 started. Searching for the next optimal point.\n",
      "Iteration No: 31 ended. Search finished for the next optimal point.\n",
      "Time taken: 1.8514\n",
      "Function value obtained: 8.4998\n",
      "Current minimum: 8.4978\n",
      "Iteration No: 32 started. Searching for the next optimal point.\n",
      "Iteration No: 32 ended. Search finished for the next optimal point.\n",
      "Time taken: 1.7737\n",
      "Function value obtained: 8.4973\n",
      "Current minimum: 8.4973\n",
      "Iteration No: 33 started. Searching for the next optimal point.\n",
      "Iteration No: 33 ended. Search finished for the next optimal point.\n",
      "Time taken: 1.7017\n",
      "Function value obtained: 8.4973\n",
      "Current minimum: 8.4973\n",
      "Iteration No: 34 started. Searching for the next optimal point.\n",
      "Iteration No: 34 ended. Search finished for the next optimal point.\n",
      "Time taken: 1.9294\n",
      "Function value obtained: 8.5021\n",
      "Current minimum: 8.4973\n",
      "Iteration No: 35 started. Searching for the next optimal point.\n",
      "Iteration No: 35 ended. Search finished for the next optimal point.\n",
      "Time taken: 2.0162\n",
      "Function value obtained: 8.5139\n",
      "Current minimum: 8.4973\n",
      "Iteration No: 36 started. Searching for the next optimal point.\n",
      "Iteration No: 36 ended. Search finished for the next optimal point.\n",
      "Time taken: 3.0887\n",
      "Function value obtained: 8.5239\n",
      "Current minimum: 8.4973\n",
      "Iteration No: 37 started. Searching for the next optimal point.\n",
      "Iteration No: 37 ended. Search finished for the next optimal point.\n",
      "Time taken: 5.1141\n",
      "Function value obtained: 8.5664\n",
      "Current minimum: 8.4973\n",
      "Iteration No: 38 started. Searching for the next optimal point.\n",
      "Iteration No: 38 ended. Search finished for the next optimal point.\n",
      "Time taken: 1.9820\n",
      "Function value obtained: 8.5986\n",
      "Current minimum: 8.4973\n",
      "Iteration No: 39 started. Searching for the next optimal point.\n",
      "Iteration No: 39 ended. Search finished for the next optimal point.\n",
      "Time taken: 1.8294\n",
      "Function value obtained: 8.5156\n",
      "Current minimum: 8.4973\n",
      "Iteration No: 40 started. Searching for the next optimal point.\n",
      "Iteration No: 40 ended. Search finished for the next optimal point.\n",
      "Time taken: 1.8118\n",
      "Function value obtained: 8.5151\n",
      "Current minimum: 8.4973\n",
      "Iteration No: 41 started. Searching for the next optimal point.\n",
      "Iteration No: 41 ended. Search finished for the next optimal point.\n",
      "Time taken: 1.8924\n",
      "Function value obtained: 8.5188\n",
      "Current minimum: 8.4973\n",
      "Iteration No: 42 started. Searching for the next optimal point.\n",
      "Iteration No: 42 ended. Search finished for the next optimal point.\n",
      "Time taken: 1.9158\n",
      "Function value obtained: 8.5148\n",
      "Current minimum: 8.4973\n",
      "Iteration No: 43 started. Searching for the next optimal point.\n",
      "Iteration No: 43 ended. Search finished for the next optimal point.\n",
      "Time taken: 3.3245\n",
      "Function value obtained: 8.5232\n",
      "Current minimum: 8.4973\n",
      "Iteration No: 44 started. Searching for the next optimal point.\n",
      "Iteration No: 44 ended. Search finished for the next optimal point.\n",
      "Time taken: 3.8318\n",
      "Function value obtained: 8.5154\n",
      "Current minimum: 8.4973\n",
      "Iteration No: 45 started. Searching for the next optimal point.\n",
      "Iteration No: 45 ended. Search finished for the next optimal point.\n",
      "Time taken: 3.2218\n",
      "Function value obtained: 8.5849\n",
      "Current minimum: 8.4973\n",
      "Iteration No: 46 started. Searching for the next optimal point.\n",
      "Iteration No: 46 ended. Search finished for the next optimal point.\n",
      "Time taken: 1.9709\n",
      "Function value obtained: 8.5192\n",
      "Current minimum: 8.4973\n",
      "Iteration No: 47 started. Searching for the next optimal point.\n",
      "Iteration No: 47 ended. Search finished for the next optimal point.\n",
      "Time taken: 3.7801\n",
      "Function value obtained: 8.5176\n",
      "Current minimum: 8.4973\n",
      "Iteration No: 48 started. Searching for the next optimal point.\n",
      "Iteration No: 48 ended. Search finished for the next optimal point.\n",
      "Time taken: 3.7267\n",
      "Function value obtained: 8.5163\n",
      "Current minimum: 8.4973\n",
      "Iteration No: 49 started. Searching for the next optimal point.\n",
      "Iteration No: 49 ended. Search finished for the next optimal point.\n",
      "Time taken: 2.3485\n",
      "Function value obtained: 8.4977\n",
      "Current minimum: 8.4973\n",
      "Iteration No: 50 started. Searching for the next optimal point.\n",
      "Iteration No: 50 ended. Search finished for the next optimal point.\n",
      "Time taken: 3.4101\n",
      "Function value obtained: 8.5561\n",
      "Current minimum: 8.4973\n",
      "minimisation iteration 4\n",
      "Iteration No: 1 started. Evaluating function at random point.\n",
      "Iteration No: 1 ended. Evaluation done at random point.\n",
      "Time taken: 0.7719\n",
      "Function value obtained: 12.6599\n",
      "Current minimum: 12.6599\n",
      "Iteration No: 2 started. Evaluating function at random point.\n",
      "Iteration No: 2 ended. Evaluation done at random point.\n",
      "Time taken: 3.4552\n",
      "Function value obtained: 8.5568\n",
      "Current minimum: 8.5568\n",
      "Iteration No: 3 started. Evaluating function at random point.\n",
      "Iteration No: 3 ended. Evaluation done at random point.\n",
      "Time taken: 2.9039\n",
      "Function value obtained: 11.6313\n",
      "Current minimum: 8.5568\n",
      "Iteration No: 4 started. Evaluating function at random point.\n",
      "Iteration No: 4 ended. Evaluation done at random point.\n",
      "Time taken: 0.9155\n",
      "Function value obtained: 11.3590\n",
      "Current minimum: 8.5568\n",
      "Iteration No: 5 started. Evaluating function at random point.\n",
      "Iteration No: 5 ended. Evaluation done at random point.\n",
      "Time taken: 1.3076\n",
      "Function value obtained: 8.5598\n",
      "Current minimum: 8.5568\n",
      "Iteration No: 6 started. Evaluating function at random point.\n",
      "Iteration No: 6 ended. Evaluation done at random point.\n",
      "Time taken: 2.8267\n",
      "Function value obtained: 10.9409\n",
      "Current minimum: 8.5568\n",
      "Iteration No: 7 started. Evaluating function at random point.\n",
      "Iteration No: 7 ended. Evaluation done at random point.\n",
      "Time taken: 3.0506\n",
      "Function value obtained: 8.5726\n",
      "Current minimum: 8.5568\n",
      "Iteration No: 8 started. Evaluating function at random point.\n",
      "Iteration No: 8 ended. Evaluation done at random point.\n",
      "Time taken: 1.4368\n",
      "Function value obtained: 10.9178\n",
      "Current minimum: 8.5568\n",
      "Iteration No: 9 started. Evaluating function at random point.\n",
      "Iteration No: 9 ended. Evaluation done at random point.\n",
      "Time taken: 1.4553\n",
      "Function value obtained: 9.0967\n",
      "Current minimum: 8.5568\n",
      "Iteration No: 10 started. Evaluating function at random point.\n",
      "Iteration No: 10 ended. Evaluation done at random point.\n",
      "Time taken: 3.2316\n",
      "Function value obtained: 8.5843\n",
      "Current minimum: 8.5568\n",
      "Iteration No: 11 started. Searching for the next optimal point.\n",
      "Iteration No: 11 ended. Search finished for the next optimal point.\n",
      "Time taken: 1.5271\n",
      "Function value obtained: 8.5448\n",
      "Current minimum: 8.5448\n",
      "Iteration No: 12 started. Searching for the next optimal point.\n",
      "Iteration No: 12 ended. Search finished for the next optimal point.\n",
      "Time taken: 1.9525\n",
      "Function value obtained: 8.5320\n",
      "Current minimum: 8.5320\n",
      "Iteration No: 13 started. Searching for the next optimal point.\n",
      "Iteration No: 13 ended. Search finished for the next optimal point.\n",
      "Time taken: 2.5422\n",
      "Function value obtained: 8.5575\n",
      "Current minimum: 8.5320\n",
      "Iteration No: 14 started. Searching for the next optimal point.\n"
     ]
    },
    {
     "name": "stdout",
     "output_type": "stream",
     "text": [
      "Iteration No: 14 ended. Search finished for the next optimal point.\n",
      "Time taken: 1.9004\n",
      "Function value obtained: 8.5577\n",
      "Current minimum: 8.5320\n",
      "Iteration No: 15 started. Searching for the next optimal point.\n",
      "Iteration No: 15 ended. Search finished for the next optimal point.\n",
      "Time taken: 3.2382\n",
      "Function value obtained: 8.5230\n",
      "Current minimum: 8.5230\n",
      "Iteration No: 16 started. Searching for the next optimal point.\n",
      "Iteration No: 16 ended. Search finished for the next optimal point.\n",
      "Time taken: 2.1949\n",
      "Function value obtained: 8.6710\n",
      "Current minimum: 8.5230\n",
      "Iteration No: 17 started. Searching for the next optimal point.\n",
      "Iteration No: 17 ended. Search finished for the next optimal point.\n",
      "Time taken: 2.5701\n",
      "Function value obtained: 8.7450\n",
      "Current minimum: 8.5230\n",
      "Iteration No: 18 started. Searching for the next optimal point.\n",
      "Iteration No: 18 ended. Search finished for the next optimal point.\n",
      "Time taken: 2.2371\n",
      "Function value obtained: 8.6204\n",
      "Current minimum: 8.5230\n",
      "Iteration No: 19 started. Searching for the next optimal point.\n",
      "Iteration No: 19 ended. Search finished for the next optimal point.\n",
      "Time taken: 3.2172\n",
      "Function value obtained: 8.5412\n",
      "Current minimum: 8.5230\n",
      "Iteration No: 20 started. Searching for the next optimal point.\n",
      "Iteration No: 20 ended. Search finished for the next optimal point.\n",
      "Time taken: 3.5645\n",
      "Function value obtained: 8.5245\n",
      "Current minimum: 8.5230\n",
      "Iteration No: 21 started. Searching for the next optimal point.\n",
      "Iteration No: 21 ended. Search finished for the next optimal point.\n",
      "Time taken: 3.6641\n",
      "Function value obtained: 8.5963\n",
      "Current minimum: 8.5230\n",
      "Iteration No: 22 started. Searching for the next optimal point.\n",
      "Iteration No: 22 ended. Search finished for the next optimal point.\n",
      "Time taken: 1.6333\n",
      "Function value obtained: 8.6235\n",
      "Current minimum: 8.5230\n",
      "Iteration No: 23 started. Searching for the next optimal point.\n",
      "Iteration No: 23 ended. Search finished for the next optimal point.\n",
      "Time taken: 3.2856\n",
      "Function value obtained: 8.6052\n",
      "Current minimum: 8.5230\n",
      "Iteration No: 24 started. Searching for the next optimal point.\n",
      "Iteration No: 24 ended. Search finished for the next optimal point.\n",
      "Time taken: 2.3930\n",
      "Function value obtained: 8.7447\n",
      "Current minimum: 8.5230\n",
      "Iteration No: 25 started. Searching for the next optimal point.\n",
      "Iteration No: 25 ended. Search finished for the next optimal point.\n",
      "Time taken: 3.2770\n",
      "Function value obtained: 8.5756\n",
      "Current minimum: 8.5230\n",
      "Iteration No: 26 started. Searching for the next optimal point.\n",
      "Iteration No: 26 ended. Search finished for the next optimal point.\n",
      "Time taken: 8.5861\n",
      "Function value obtained: 8.9261\n",
      "Current minimum: 8.5230\n",
      "Iteration No: 27 started. Searching for the next optimal point.\n",
      "Iteration No: 27 ended. Search finished for the next optimal point.\n",
      "Time taken: 2.0242\n",
      "Function value obtained: 8.5143\n",
      "Current minimum: 8.5143\n",
      "Iteration No: 28 started. Searching for the next optimal point.\n",
      "Iteration No: 28 ended. Search finished for the next optimal point.\n",
      "Time taken: 2.5522\n",
      "Function value obtained: 8.4865\n",
      "Current minimum: 8.4865\n",
      "Iteration No: 29 started. Searching for the next optimal point.\n",
      "Iteration No: 29 ended. Search finished for the next optimal point.\n",
      "Time taken: 1.6733\n",
      "Function value obtained: 8.5148\n",
      "Current minimum: 8.4865\n",
      "Iteration No: 30 started. Searching for the next optimal point.\n",
      "Iteration No: 30 ended. Search finished for the next optimal point.\n",
      "Time taken: 2.1100\n",
      "Function value obtained: 8.5149\n",
      "Current minimum: 8.4865\n",
      "Iteration No: 31 started. Searching for the next optimal point.\n",
      "Iteration No: 31 ended. Search finished for the next optimal point.\n",
      "Time taken: 3.0325\n",
      "Function value obtained: 8.4987\n",
      "Current minimum: 8.4865\n",
      "Iteration No: 32 started. Searching for the next optimal point.\n",
      "Iteration No: 32 ended. Search finished for the next optimal point.\n",
      "Time taken: 2.6446\n",
      "Function value obtained: 8.4985\n",
      "Current minimum: 8.4865\n",
      "Iteration No: 33 started. Searching for the next optimal point.\n",
      "Iteration No: 33 ended. Search finished for the next optimal point.\n",
      "Time taken: 2.5187\n",
      "Function value obtained: 8.5521\n",
      "Current minimum: 8.4865\n",
      "Iteration No: 34 started. Searching for the next optimal point.\n",
      "Iteration No: 34 ended. Search finished for the next optimal point.\n",
      "Time taken: 1.9161\n",
      "Function value obtained: 8.5279\n",
      "Current minimum: 8.4865\n",
      "Iteration No: 35 started. Searching for the next optimal point.\n",
      "Iteration No: 35 ended. Search finished for the next optimal point.\n",
      "Time taken: 2.9003\n",
      "Function value obtained: 8.5093\n",
      "Current minimum: 8.4865\n",
      "Iteration No: 36 started. Searching for the next optimal point.\n",
      "Iteration No: 36 ended. Search finished for the next optimal point.\n",
      "Time taken: 2.1414\n",
      "Function value obtained: 8.5125\n",
      "Current minimum: 8.4865\n",
      "Iteration No: 37 started. Searching for the next optimal point.\n",
      "Iteration No: 37 ended. Search finished for the next optimal point.\n",
      "Time taken: 2.3575\n",
      "Function value obtained: 8.5399\n",
      "Current minimum: 8.4865\n",
      "Iteration No: 38 started. Searching for the next optimal point.\n",
      "Iteration No: 38 ended. Search finished for the next optimal point.\n",
      "Time taken: 2.4715\n",
      "Function value obtained: 8.5160\n",
      "Current minimum: 8.4865\n",
      "Iteration No: 39 started. Searching for the next optimal point.\n",
      "Iteration No: 39 ended. Search finished for the next optimal point.\n",
      "Time taken: 3.2743\n",
      "Function value obtained: 8.5038\n",
      "Current minimum: 8.4865\n",
      "Iteration No: 40 started. Searching for the next optimal point.\n",
      "Iteration No: 40 ended. Search finished for the next optimal point.\n",
      "Time taken: 2.9378\n",
      "Function value obtained: 8.4917\n",
      "Current minimum: 8.4865\n",
      "Iteration No: 41 started. Searching for the next optimal point.\n",
      "Iteration No: 41 ended. Search finished for the next optimal point.\n",
      "Time taken: 2.9037\n",
      "Function value obtained: 8.4898\n",
      "Current minimum: 8.4865\n",
      "Iteration No: 42 started. Searching for the next optimal point.\n",
      "Iteration No: 42 ended. Search finished for the next optimal point.\n",
      "Time taken: 3.3236\n",
      "Function value obtained: 8.5494\n",
      "Current minimum: 8.4865\n",
      "Iteration No: 43 started. Searching for the next optimal point.\n",
      "Iteration No: 43 ended. Search finished for the next optimal point.\n",
      "Time taken: 2.4438\n",
      "Function value obtained: 8.5081\n",
      "Current minimum: 8.4865\n",
      "Iteration No: 44 started. Searching for the next optimal point.\n",
      "Iteration No: 44 ended. Search finished for the next optimal point.\n",
      "Time taken: 2.1879\n",
      "Function value obtained: 8.5810\n",
      "Current minimum: 8.4865\n",
      "Iteration No: 45 started. Searching for the next optimal point.\n",
      "Iteration No: 45 ended. Search finished for the next optimal point.\n",
      "Time taken: 2.7716\n",
      "Function value obtained: 8.4855\n",
      "Current minimum: 8.4855\n",
      "Iteration No: 46 started. Searching for the next optimal point.\n",
      "Iteration No: 46 ended. Search finished for the next optimal point.\n",
      "Time taken: 3.3144\n",
      "Function value obtained: 8.5372\n",
      "Current minimum: 8.4855\n",
      "Iteration No: 47 started. Searching for the next optimal point.\n",
      "Iteration No: 47 ended. Search finished for the next optimal point.\n",
      "Time taken: 2.1948\n",
      "Function value obtained: 8.5076\n",
      "Current minimum: 8.4855\n",
      "Iteration No: 48 started. Searching for the next optimal point.\n",
      "Iteration No: 48 ended. Search finished for the next optimal point.\n",
      "Time taken: 2.6554\n",
      "Function value obtained: 8.4909\n",
      "Current minimum: 8.4855\n",
      "Iteration No: 49 started. Searching for the next optimal point.\n",
      "Iteration No: 49 ended. Search finished for the next optimal point.\n",
      "Time taken: 2.4184\n",
      "Function value obtained: 8.5450\n",
      "Current minimum: 8.4855\n",
      "Iteration No: 50 started. Searching for the next optimal point.\n",
      "Iteration No: 50 ended. Search finished for the next optimal point.\n",
      "Time taken: 2.6282\n",
      "Function value obtained: 8.5344\n",
      "Current minimum: 8.4855\n"
     ]
    }
   ],
   "source": [
    "res_gp_arr = []\n",
    "for i in range(1, 5):\n",
    "    print('minimisation iteration', i)\n",
    "    res_gp = gp_minimize(objective, space, n_calls=50, verbose=2)\n",
    "    res_gp_arr.append(res_gp)"
   ]
  },
  {
   "cell_type": "code",
   "execution_count": 143,
   "metadata": {
    "ExecuteTime": {
     "end_time": "2019-09-07T12:01:48.657354Z",
     "start_time": "2019-09-07T12:01:48.647926Z"
    }
   },
   "outputs": [
    {
     "name": "stdout",
     "output_type": "stream",
     "text": [
      "8.484331333211571\n",
      "8.48643585247465\n",
      "8.497253791427282\n",
      "8.485532691940326\n",
      "\n",
      "\n",
      "[0.019200370273100075, 1.0, 0.2, 1.0735740123379287, 6, 200]\n",
      "[0.02941812306501078, 1.0, 0.2, 100.0, 4, 169]\n",
      "[0.07827650450057456, 1.0, 0.2, 0.0001, 2, 100]\n",
      "[0.026646012524034753, 1.0, 0.2, 0.0001, 4, 158]\n"
     ]
    }
   ],
   "source": [
    "for i in res_gp_arr:\n",
    "    print(i.fun)\n",
    "print('\\n')\n",
    "for i in res_gp_arr:\n",
    "    print(i.x)"
   ]
  },
  {
   "cell_type": "markdown",
   "metadata": {},
   "source": [
    "### Grid search"
   ]
  },
  {
   "cell_type": "code",
   "execution_count": 59,
   "metadata": {
    "ExecuteTime": {
     "end_time": "2019-09-06T11:15:50.973271Z",
     "start_time": "2019-09-06T11:15:50.891366Z"
    }
   },
   "outputs": [],
   "source": [
    "?XGBRegressor"
   ]
  },
  {
   "cell_type": "code",
   "execution_count": 145,
   "metadata": {
    "ExecuteTime": {
     "end_time": "2019-09-07T12:02:52.736417Z",
     "start_time": "2019-09-07T12:02:52.724627Z"
    }
   },
   "outputs": [],
   "source": [
    "learning_rate = [0.045, 0.0475, 0.05, 0.0525, 0.055]\n",
    "subsample = [0.85, 0.875, 0.9, 0.925, 0.95, 0.975, 1.0]\n",
    "colsample_bynode = [0.1, 0.125, 0.15, 0.2, 0.25, 0.3]\n",
    "reg_lambda = [0.25, 0.5, 0.75, 1.0, 1.25, 1.5]\n",
    "max_depth = [2, 3, 4, 5, 6]\n",
    "\n",
    "gs_parameters = {\n",
    "    'learning_rate': learning_rate,\n",
    "    'subsample': subsample,\n",
    "    'colsample_bynode': colsample_bynode,\n",
    "    'reg_lambda': reg_lambda,\n",
    "    'max_depth': max_depth\n",
    "}"
   ]
  },
  {
   "cell_type": "code",
   "execution_count": null,
   "metadata": {
    "ExecuteTime": {
     "start_time": "2019-09-07T12:02:54.682Z"
    },
    "scrolled": true
   },
   "outputs": [
    {
     "name": "stdout",
     "output_type": "stream",
     "text": [
      "grid search 0\n",
      "Fitting 1 folds for each of 6300 candidates, totalling 6300 fits\n"
     ]
    },
    {
     "name": "stderr",
     "output_type": "stream",
     "text": [
      "[Parallel(n_jobs=1)]: Using backend SequentialBackend with 1 concurrent workers.\n",
      "[Parallel(n_jobs=1)]: Done 6300 out of 6300 | elapsed: 91.4min finished\n",
      "[Parallel(n_jobs=1)]: Using backend SequentialBackend with 1 concurrent workers.\n"
     ]
    },
    {
     "name": "stdout",
     "output_type": "stream",
     "text": [
      "grid search 1\n",
      "Fitting 1 folds for each of 6300 candidates, totalling 6300 fits\n"
     ]
    },
    {
     "name": "stderr",
     "output_type": "stream",
     "text": [
      "[Parallel(n_jobs=1)]: Done 6300 out of 6300 | elapsed: 91.5min finished\n",
      "[Parallel(n_jobs=1)]: Using backend SequentialBackend with 1 concurrent workers.\n"
     ]
    },
    {
     "name": "stdout",
     "output_type": "stream",
     "text": [
      "grid search 2\n",
      "Fitting 1 folds for each of 6300 candidates, totalling 6300 fits\n"
     ]
    }
   ],
   "source": [
    "gs_df_arr = []\n",
    "for i in range(0, 10):\n",
    "    print('grid search', i)\n",
    "    gs = GridSearchCV(\n",
    "        XGBRegressor(\n",
    "            objective='reg:squarederror',\n",
    "            n_estimators=100\n",
    "        ),\n",
    "        gs_parameters,\n",
    "        scoring='neg_mean_squared_error',\n",
    "        refit=False,\n",
    "        cv=ps,\n",
    "        return_train_score=True,\n",
    "        error_score=100, n_jobs=1, verbose=1)\n",
    "    gs.fit(X, y.ravel())\n",
    "    \n",
    "    gs_df = pd.DataFrame(gs.cv_results_)\n",
    "    gs_df_arr.append(gs_df)"
   ]
  },
  {
   "cell_type": "code",
   "execution_count": null,
   "metadata": {
    "ExecuteTime": {
     "start_time": "2019-09-07T12:02:56.626Z"
    }
   },
   "outputs": [],
   "source": [
    "gs_df = pd.concat(gs_df_arr)[[\n",
    "    'param_learning_rate',\n",
    "    'param_subsample',\n",
    "    'param_reg_lambda',\n",
    "    'param_max_depth',\n",
    "    'param_colsample_bynode',\n",
    "    'mean_test_score',\n",
    "    'mean_train_score'\n",
    "]]\n",
    "\n",
    "gs_group_df = gs_df.groupby([\n",
    "    'param_learning_rate',\n",
    "    'param_subsample',\n",
    "    'param_reg_lambda',\n",
    "    'param_max_depth',\n",
    "    'param_colsample_bynode'\n",
    "],\n",
    "    as_index=True\n",
    ").describe().reset_index()"
   ]
  },
  {
   "cell_type": "code",
   "execution_count": null,
   "metadata": {
    "ExecuteTime": {
     "start_time": "2019-09-07T12:02:58.727Z"
    }
   },
   "outputs": [],
   "source": [
    "gs_group_df[gs_group_df['mean_test_score']['mean'] > -8.46]"
   ]
  },
  {
   "cell_type": "markdown",
   "metadata": {},
   "source": [
    "# Evaluating model"
   ]
  },
  {
   "cell_type": "markdown",
   "metadata": {},
   "source": [
    "## XGBoost"
   ]
  },
  {
   "cell_type": "code",
   "execution_count": 121,
   "metadata": {
    "ExecuteTime": {
     "end_time": "2019-09-07T08:33:12.681725Z",
     "start_time": "2019-09-07T08:33:11.813891Z"
    }
   },
   "outputs": [
    {
     "data": {
      "text/plain": [
       "XGBRegressor(base_score=0.5, booster='gbtree', colsample_bylevel=1,\n",
       "             colsample_bynode=0.2, colsample_bytree=1, gamma=0,\n",
       "             importance_type='gain', learning_rate=0.05, max_delta_step=0,\n",
       "             max_depth=4, min_child_weight=1, missing=None, n_estimators=100,\n",
       "             n_jobs=1, nthread=None, objective='reg:squarederror',\n",
       "             random_state=0, reg_alpha=0, reg_lambda=0.75, scale_pos_weight=1,\n",
       "             seed=None, silent=None, subsample=0.9, verbosity=1)"
      ]
     },
     "execution_count": 121,
     "metadata": {},
     "output_type": "execute_result"
    }
   ],
   "source": [
    "model = XGBRegressor(\n",
    "    objective='reg:squarederror',\n",
    "    n_estimators=100,\n",
    "    subsample=0.9,\n",
    "    learning_rate=0.05,\n",
    "    colsample_bynode=0.2,\n",
    "    reg_lambda=0.75,\n",
    "    max_depth=4,\n",
    ")\n",
    "\n",
    "model.fit(X_train, y_train.ravel())"
   ]
  },
  {
   "cell_type": "code",
   "execution_count": 122,
   "metadata": {
    "ExecuteTime": {
     "end_time": "2019-09-07T08:33:12.704432Z",
     "start_time": "2019-09-07T08:33:12.684429Z"
    }
   },
   "outputs": [
    {
     "data": {
      "text/plain": [
       "(2.0799349681937205, 8.447198908990892, 0.11903325759315175)"
      ]
     },
     "execution_count": 122,
     "metadata": {},
     "output_type": "execute_result"
    }
   ],
   "source": [
    "# get predictions for test set\n",
    "y_pred = model.predict(X_test).flatten()\n",
    "\n",
    "# calculate cross entropy loss for test set\n",
    "test_loss = (\n",
    "    mean_absolute_error(y_test, y_pred),\n",
    "    mean_squared_error(y_test, y_pred),\n",
    "    r2_score(y_test, y_pred)\n",
    ")\n",
    "test_loss"
   ]
  },
  {
   "cell_type": "code",
   "execution_count": 123,
   "metadata": {
    "ExecuteTime": {
     "end_time": "2019-09-07T08:33:23.761990Z",
     "start_time": "2019-09-07T08:33:22.423948Z"
    }
   },
   "outputs": [
    {
     "data": {
      "text/plain": [
       "XGBRegressor(base_score=0.5, booster='gbtree', colsample_bylevel=1,\n",
       "             colsample_bynode=0.2, colsample_bytree=1, gamma=0,\n",
       "             importance_type='gain', learning_rate=0.05, max_delta_step=0,\n",
       "             max_depth=4, min_child_weight=1, missing=None, n_estimators=100,\n",
       "             n_jobs=1, nthread=None, objective='reg:squarederror',\n",
       "             random_state=0, reg_alpha=0, reg_lambda=0.75, scale_pos_weight=1,\n",
       "             seed=None, silent=None, subsample=0.9, verbosity=1)"
      ]
     },
     "execution_count": 123,
     "metadata": {},
     "output_type": "execute_result"
    }
   ],
   "source": [
    "# refit model on all data\n",
    "model_full = XGBRegressor(\n",
    "    objective='reg:squarederror',\n",
    "    n_estimators=100,\n",
    "    subsample=0.9,\n",
    "    learning_rate=0.05,\n",
    "    colsample_bynode=0.2,\n",
    "    reg_lambda=0.75,\n",
    "    max_depth=4,\n",
    ")\n",
    "\n",
    "model_full.fit(X, y.ravel())"
   ]
  },
  {
   "cell_type": "code",
   "execution_count": 124,
   "metadata": {
    "ExecuteTime": {
     "end_time": "2019-09-07T08:33:25.719500Z",
     "start_time": "2019-09-07T08:33:25.623209Z"
    }
   },
   "outputs": [
    {
     "data": {
      "text/plain": [
       "(1.9544453375758821, 7.521073723313239, 0.19999372354292622)"
      ]
     },
     "execution_count": 124,
     "metadata": {},
     "output_type": "execute_result"
    }
   ],
   "source": [
    "# get predictions for whole set\n",
    "y_pred_full = model_full.predict(X).flatten()\n",
    "\n",
    "# calculate cross entropy loss for test set\n",
    "test_loss_full = (\n",
    "    mean_absolute_error(y, y_pred_full),\n",
    "    mean_squared_error(y, y_pred_full),\n",
    "    r2_score(y, y_pred_full)\n",
    ")\n",
    "test_loss_full"
   ]
  },
  {
   "cell_type": "code",
   "execution_count": 125,
   "metadata": {
    "ExecuteTime": {
     "end_time": "2019-09-07T08:33:28.649041Z",
     "start_time": "2019-09-07T08:33:27.955634Z"
    }
   },
   "outputs": [
    {
     "data": {
      "image/png": "[encoded data removed]",
      "text/plain": [
       "<Figure size 720x576 with 1 Axes>"
      ]
     },
     "metadata": {
      "needs_background": "light"
     },
     "output_type": "display_data"
    }
   ],
   "source": [
    "plt.figure(figsize=(10, 8))\n",
    "plt.hist(pd.Series(y_pred), bins=range(-5,20), alpha=0.75, density=True, label='predicted')\n",
    "plt.hist(pd.Series(y_test.ravel()), bins=range(-5,20), alpha=0.75, density=True, label='observed')\n",
    "plt.legend()\n",
    "plt.show()"
   ]
  },
  {
   "cell_type": "code",
   "execution_count": 126,
   "metadata": {
    "ExecuteTime": {
     "end_time": "2019-09-07T08:33:33.158537Z",
     "start_time": "2019-09-07T08:33:32.663004Z"
    }
   },
   "outputs": [
    {
     "data": {
      "image/png": "[encoded data removed]",
      "text/plain": [
       "<Figure size 720x576 with 1 Axes>"
      ]
     },
     "metadata": {
      "needs_background": "light"
     },
     "output_type": "display_data"
    }
   ],
   "source": [
    "plt.figure(figsize=(10, 8))\n",
    "plt.scatter(pd.Series(y_test.ravel()), pd.Series(y_pred), alpha=0.1)\n",
    "plt.plot(np.linspace(-5, 25), np.linspace(-5, 25))\n",
    "plt.ylabel('Predicted total points')\n",
    "plt.xlabel('Observed total points')\n",
    "plt.ylim((-3, 12))\n",
    "plt.show()"
   ]
  },
  {
   "cell_type": "markdown",
   "metadata": {},
   "source": [
    "## Summary"
   ]
  },
  {
   "cell_type": "code",
   "execution_count": 127,
   "metadata": {
    "ExecuteTime": {
     "end_time": "2019-09-07T08:33:38.575683Z",
     "start_time": "2019-09-07T08:33:38.549038Z"
    }
   },
   "outputs": [
    {
     "data": {
      "text/html": [
       "<div>\n",
       "<style scoped>\n",
       "    .dataframe tbody tr th:only-of-type {\n",
       "        vertical-align: middle;\n",
       "    }\n",
       "\n",
       "    .dataframe tbody tr th {\n",
       "        vertical-align: top;\n",
       "    }\n",
       "\n",
       "    .dataframe thead th {\n",
       "        text-align: right;\n",
       "    }\n",
       "</style>\n",
       "<table border=\"1\" class=\"dataframe\">\n",
       "  <thead>\n",
       "    <tr style=\"text-align: right;\">\n",
       "      <th></th>\n",
       "      <th>model</th>\n",
       "      <th>MAE</th>\n",
       "      <th>MSE</th>\n",
       "      <th>r2</th>\n",
       "    </tr>\n",
       "  </thead>\n",
       "  <tbody>\n",
       "    <tr>\n",
       "      <th>0</th>\n",
       "      <td>XGBoost</td>\n",
       "      <td>2.079935</td>\n",
       "      <td>8.447199</td>\n",
       "      <td>0.119033</td>\n",
       "    </tr>\n",
       "  </tbody>\n",
       "</table>\n",
       "</div>"
      ],
      "text/plain": [
       "     model       MAE       MSE        r2\n",
       "0  XGBoost  2.079935  8.447199  0.119033"
      ]
     },
     "execution_count": 127,
     "metadata": {},
     "output_type": "execute_result"
    }
   ],
   "source": [
    "pd.DataFrame([\n",
    "    ('XGBoost', test_loss[0], test_loss[1], test_loss[2]),\n",
    "], columns=['model', 'MAE', 'MSE', 'r2'])"
   ]
  },
  {
   "cell_type": "code",
   "execution_count": 128,
   "metadata": {
    "ExecuteTime": {
     "end_time": "2019-09-07T08:33:39.031717Z",
     "start_time": "2019-09-07T08:33:39.009647Z"
    }
   },
   "outputs": [
    {
     "data": {
      "text/html": [
       "<div>\n",
       "<style scoped>\n",
       "    .dataframe tbody tr th:only-of-type {\n",
       "        vertical-align: middle;\n",
       "    }\n",
       "\n",
       "    .dataframe tbody tr th {\n",
       "        vertical-align: top;\n",
       "    }\n",
       "\n",
       "    .dataframe thead th {\n",
       "        text-align: right;\n",
       "    }\n",
       "</style>\n",
       "<table border=\"1\" class=\"dataframe\">\n",
       "  <thead>\n",
       "    <tr style=\"text-align: right;\">\n",
       "      <th></th>\n",
       "      <th>model</th>\n",
       "      <th>MAE</th>\n",
       "      <th>MSE</th>\n",
       "      <th>r2</th>\n",
       "    </tr>\n",
       "  </thead>\n",
       "  <tbody>\n",
       "    <tr>\n",
       "      <th>0</th>\n",
       "      <td>XGBoost</td>\n",
       "      <td>1.954445</td>\n",
       "      <td>7.521074</td>\n",
       "      <td>0.199994</td>\n",
       "    </tr>\n",
       "  </tbody>\n",
       "</table>\n",
       "</div>"
      ],
      "text/plain": [
       "     model       MAE       MSE        r2\n",
       "0  XGBoost  1.954445  7.521074  0.199994"
      ]
     },
     "execution_count": 128,
     "metadata": {},
     "output_type": "execute_result"
    }
   ],
   "source": [
    "pd.DataFrame([\n",
    "    ('XGBoost', test_loss_full[0], test_loss_full[1], test_loss_full[2]),\n",
    "], columns=['model', 'MAE', 'MSE', 'r2'])"
   ]
  },
  {
   "cell_type": "code",
   "execution_count": null,
   "metadata": {},
   "outputs": [],
   "source": []
  }
 ],
 "metadata": {
  "kernelspec": {
   "display_name": "Python 3",
   "language": "python",
   "name": "python3"
  },
  "language_info": {
   "codemirror_mode": {
    "name": "ipython",
    "version": 3
   },
   "file_extension": ".py",
   "mimetype": "text/x-python",
   "name": "python",
   "nbconvert_exporter": "python",
   "pygments_lexer": "ipython3",
   "version": "3.6.7"
  },
  "toc": {
   "nav_menu": {},
   "number_sections": true,
   "sideBar": true,
   "skip_h1_title": false,
   "title_cell": "Table of Contents",
   "title_sidebar": "Contents",
   "toc_cell": false,
   "toc_position": {},
   "toc_section_display": true,
   "toc_window_display": false
  }
 },
 "nbformat": 4,
 "nbformat_minor": 2
}
