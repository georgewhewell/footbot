{
 "cells": [
  {
   "cell_type": "markdown",
   "metadata": {},
   "source": [
    "# Set up"
   ]
  },
  {
   "cell_type": "code",
   "execution_count": 1,
   "metadata": {
    "ExecuteTime": {
     "end_time": "2019-07-08T15:12:39.650925Z",
     "start_time": "2019-07-08T15:12:39.645611Z"
    }
   },
   "outputs": [],
   "source": [
    "# update path with data dir\n",
    "import sys\n",
    "sys.path.append('../data/')"
   ]
  },
  {
   "cell_type": "code",
   "execution_count": 61,
   "metadata": {
    "ExecuteTime": {
     "end_time": "2019-07-08T15:45:03.252365Z",
     "start_time": "2019-07-08T15:45:02.610836Z"
    }
   },
   "outputs": [],
   "source": [
    "import json\n",
    "import pandas as pd\n",
    "import numpy as np\n",
    "import matplotlib.pyplot as plt"
   ]
  },
  {
   "cell_type": "markdown",
   "metadata": {},
   "source": [
    "# Getting data"
   ]
  },
  {
   "cell_type": "code",
   "execution_count": 30,
   "metadata": {
    "ExecuteTime": {
     "end_time": "2019-07-08T15:32:31.120484Z",
     "start_time": "2019-07-08T15:32:30.935002Z"
    }
   },
   "outputs": [],
   "source": [
    "with open('./csvs/top_50_weekly_data.json') as f: \n",
    "    d = json.loads(f.read())"
   ]
  },
  {
   "cell_type": "code",
   "execution_count": 31,
   "metadata": {
    "ExecuteTime": {
     "end_time": "2019-07-08T15:32:33.158201Z",
     "start_time": "2019-07-08T15:32:33.149747Z"
    }
   },
   "outputs": [
    {
     "data": {
      "text/plain": [
       "1900"
      ]
     },
     "execution_count": 31,
     "metadata": {},
     "output_type": "execute_result"
    }
   ],
   "source": [
    "len(d)"
   ]
  },
  {
   "cell_type": "code",
   "execution_count": 32,
   "metadata": {
    "ExecuteTime": {
     "end_time": "2019-07-08T15:32:34.746999Z",
     "start_time": "2019-07-08T15:32:34.715550Z"
    }
   },
   "outputs": [],
   "source": [
    "player_value_df = pd.read_csv('./csvs/player_value.csv', index_col=0)"
   ]
  },
  {
   "cell_type": "code",
   "execution_count": 51,
   "metadata": {
    "ExecuteTime": {
     "end_time": "2019-07-08T15:42:28.661107Z",
     "start_time": "2019-07-08T15:41:49.601646Z"
    }
   },
   "outputs": [],
   "source": [
    "first_team_value_arr = []\n",
    "bench_value_arr = []\n",
    "\n",
    "for i in range(0, len(d)):\n",
    "    try:\n",
    "        event_entry_d = d[i]\n",
    "        first_team = [j for j in event_entry_d['picks'] if j['position'] in range(1, 12)]\n",
    "        bench = [j for j in event_entry_d['picks'] if j['position'] not in range(1, 12)]\n",
    "\n",
    "        first_team_value = \\\n",
    "        [player_value_df[\n",
    "            (player_value_df['element'] == k['element'])\n",
    "            & (player_value_df['event'] == k['event'])]['value'].values[0]\n",
    "         for k in first_team]\n",
    "\n",
    "        bench_value = \\\n",
    "        [player_value_df[\n",
    "            (player_value_df['element'] == k['element'])\n",
    "            & (player_value_df['event'] == k['event'])]['value'].values[0]\n",
    "         for k in bench]\n",
    "\n",
    "        first_team_value_arr.append(sum(first_team_value))\n",
    "        bench_value_arr.append(sum(bench_value))\n",
    "    except:\n",
    "        continue\n",
    "    \n",
    "    \n"
   ]
  },
  {
   "cell_type": "code",
   "execution_count": 57,
   "metadata": {
    "ExecuteTime": {
     "end_time": "2019-07-08T15:43:43.511119Z",
     "start_time": "2019-07-08T15:43:43.502381Z"
    }
   },
   "outputs": [
    {
     "data": {
      "text/plain": [
       "75.89825852596663"
      ]
     },
     "execution_count": 57,
     "metadata": {},
     "output_type": "execute_result"
    }
   ],
   "source": [
    "np.mean(first_team_value_arr)/11"
   ]
  },
  {
   "cell_type": "code",
   "execution_count": 59,
   "metadata": {
    "ExecuteTime": {
     "end_time": "2019-07-08T15:43:56.889288Z",
     "start_time": "2019-07-08T15:43:56.880752Z"
    }
   },
   "outputs": [
    {
     "data": {
      "text/plain": [
       "49.467645381984035"
      ]
     },
     "execution_count": 59,
     "metadata": {},
     "output_type": "execute_result"
    }
   ],
   "source": [
    "np.mean(bench_value_arr)/4"
   ]
  },
  {
   "cell_type": "code",
   "execution_count": 73,
   "metadata": {
    "ExecuteTime": {
     "end_time": "2019-07-08T15:51:02.058028Z",
     "start_time": "2019-07-08T15:51:02.048960Z"
    }
   },
   "outputs": [
    {
     "data": {
      "text/plain": [
       "1754"
      ]
     },
     "execution_count": 73,
     "metadata": {},
     "output_type": "execute_result"
    }
   ],
   "source": [
    "len(bench_value_arr)"
   ]
  },
  {
   "cell_type": "code",
   "execution_count": 74,
   "metadata": {
    "ExecuteTime": {
     "end_time": "2019-07-08T15:51:37.121049Z",
     "start_time": "2019-07-08T15:51:36.573812Z"
    }
   },
   "outputs": [
    {
     "data": {
      "image/png": "[encoded data removed]",
      "text/plain": [
       "<Figure size 576x576 with 1 Axes>"
      ]
     },
     "metadata": {
      "needs_background": "light"
     },
     "output_type": "display_data"
    }
   ],
   "source": [
    "plt.figure(figsize=(8, 8))\n",
    "plt.hist(pd.Series(first_team_value_arr)/11, alpha=0.75, label='first_team', density=True)\n",
    "plt.hist(pd.Series(bench_value_arr)/4, alpha=0.75, label='bench', density=True)\n",
    "plt.legend()\n",
    "plt.xlabel('value')\n",
    "plt.show()"
   ]
  },
  {
   "cell_type": "code",
   "execution_count": null,
   "metadata": {},
   "outputs": [],
   "source": []
  }
 ],
 "metadata": {
  "kernelspec": {
   "display_name": "Python 3",
   "language": "python",
   "name": "python3"
  },
  "language_info": {
   "codemirror_mode": {
    "name": "ipython",
    "version": 3
   },
   "file_extension": ".py",
   "mimetype": "text/x-python",
   "name": "python",
   "nbconvert_exporter": "python",
   "pygments_lexer": "ipython3",
   "version": "3.6.7"
  },
  "toc": {
   "nav_menu": {},
   "number_sections": true,
   "sideBar": true,
   "skip_h1_title": false,
   "title_cell": "Table of Contents",
   "title_sidebar": "Contents",
   "toc_cell": false,
   "toc_position": {},
   "toc_section_display": true,
   "toc_window_display": false
  }
 },
 "nbformat": 4,
 "nbformat_minor": 2
}
