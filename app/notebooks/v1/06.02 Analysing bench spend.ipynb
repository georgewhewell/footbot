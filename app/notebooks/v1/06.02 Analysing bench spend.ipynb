{
 "cells": [
  {
   "cell_type": "markdown",
   "metadata": {},
   "source": [
    "# Set up"
   ]
  },
  {
   "cell_type": "code",
   "execution_count": 1,
   "metadata": {
    "ExecuteTime": {
     "end_time": "2019-08-03T11:10:27.165430Z",
     "start_time": "2019-08-03T11:10:27.161323Z"
    }
   },
   "outputs": [],
   "source": [
    "# update path with data dir\n",
    "import sys\n",
    "sys.path.append('../data/')"
   ]
  },
  {
   "cell_type": "code",
   "execution_count": 2,
   "metadata": {
    "ExecuteTime": {
     "end_time": "2019-08-03T11:10:27.830932Z",
     "start_time": "2019-08-03T11:10:27.168690Z"
    }
   },
   "outputs": [],
   "source": [
    "import json\n",
    "import pandas as pd\n",
    "import numpy as np\n",
    "import matplotlib.pyplot as plt"
   ]
  },
  {
   "cell_type": "markdown",
   "metadata": {},
   "source": [
    "# Getting data"
   ]
  },
  {
   "cell_type": "code",
   "execution_count": 4,
   "metadata": {
    "ExecuteTime": {
     "end_time": "2019-08-03T11:10:40.257648Z",
     "start_time": "2019-08-03T11:10:40.110634Z"
    }
   },
   "outputs": [],
   "source": [
    "with open('../csvs/top_50_weekly_data.json') as f: \n",
    "    d = json.loads(f.read())"
   ]
  },
  {
   "cell_type": "code",
   "execution_count": 5,
   "metadata": {
    "ExecuteTime": {
     "end_time": "2019-08-03T11:10:45.381428Z",
     "start_time": "2019-08-03T11:10:45.370048Z"
    }
   },
   "outputs": [
    {
     "data": {
      "text/plain": [
       "1900"
      ]
     },
     "execution_count": 5,
     "metadata": {},
     "output_type": "execute_result"
    }
   ],
   "source": [
    "len(d)"
   ]
  },
  {
   "cell_type": "code",
   "execution_count": 17,
   "metadata": {
    "ExecuteTime": {
     "end_time": "2019-08-04T07:50:12.783800Z",
     "start_time": "2019-08-04T07:50:12.765470Z"
    }
   },
   "outputs": [
    {
     "data": {
      "text/plain": [
       "{'active_chip': '',\n",
       " 'automatic_subs': [{'id': 57532,\n",
       "   'element_in': 435,\n",
       "   'element_out': 271,\n",
       "   'entry': 107827,\n",
       "   'event': 1}],\n",
       " 'entry_history': {'id': 107827,\n",
       "  'movement': 'new',\n",
       "  'points': 75,\n",
       "  'total_points': 75,\n",
       "  'rank': 405969,\n",
       "  'rank_sort': 407825,\n",
       "  'overall_rank': 405969,\n",
       "  'targets': None,\n",
       "  'event_transfers': 0,\n",
       "  'event_transfers_cost': 0,\n",
       "  'value': 1000,\n",
       "  'points_on_bench': 14,\n",
       "  'bank': 0,\n",
       "  'entry': 107827,\n",
       "  'event': 1},\n",
       " 'event': {'id': 1,\n",
       "  'name': 'Gameweek 1',\n",
       "  'deadline_time': '2018-08-10T18:00:00Z',\n",
       "  'average_entry_score': 53,\n",
       "  'finished': True,\n",
       "  'data_checked': True,\n",
       "  'highest_scoring_entry': 890626,\n",
       "  'deadline_time_epoch': 1533924000,\n",
       "  'deadline_time_game_offset': 3600,\n",
       "  'deadline_time_formatted': '10 Aug 19:00',\n",
       "  'highest_score': 137,\n",
       "  'is_previous': False,\n",
       "  'is_current': False,\n",
       "  'is_next': False},\n",
       " 'picks': [{'element': 454,\n",
       "   'position': 1,\n",
       "   'is_captain': False,\n",
       "   'is_vice_captain': False,\n",
       "   'multiplier': 1,\n",
       "   'entry': 107827,\n",
       "   'event': 1},\n",
       "  {'element': 267,\n",
       "   'position': 2,\n",
       "   'is_captain': False,\n",
       "   'is_vice_captain': False,\n",
       "   'multiplier': 1,\n",
       "   'entry': 107827,\n",
       "   'event': 1},\n",
       "  {'element': 245,\n",
       "   'position': 3,\n",
       "   'is_captain': False,\n",
       "   'is_vice_captain': False,\n",
       "   'multiplier': 1,\n",
       "   'entry': 107827,\n",
       "   'event': 1},\n",
       "  {'element': 291,\n",
       "   'position': 4,\n",
       "   'is_captain': False,\n",
       "   'is_vice_captain': False,\n",
       "   'multiplier': 1,\n",
       "   'entry': 107827,\n",
       "   'event': 1},\n",
       "  {'element': 253,\n",
       "   'position': 5,\n",
       "   'is_captain': True,\n",
       "   'is_vice_captain': False,\n",
       "   'multiplier': 2,\n",
       "   'entry': 107827,\n",
       "   'event': 1},\n",
       "  {'element': 251,\n",
       "   'position': 6,\n",
       "   'is_captain': False,\n",
       "   'is_vice_captain': True,\n",
       "   'multiplier': 1,\n",
       "   'entry': 107827,\n",
       "   'event': 1},\n",
       "  {'element': 40,\n",
       "   'position': 7,\n",
       "   'is_captain': False,\n",
       "   'is_vice_captain': False,\n",
       "   'multiplier': 1,\n",
       "   'entry': 107827,\n",
       "   'event': 1},\n",
       "  {'element': 435,\n",
       "   'position': 8,\n",
       "   'is_captain': False,\n",
       "   'is_vice_captain': False,\n",
       "   'multiplier': 1,\n",
       "   'entry': 107827,\n",
       "   'event': 1},\n",
       "  {'element': 280,\n",
       "   'position': 9,\n",
       "   'is_captain': False,\n",
       "   'is_vice_captain': False,\n",
       "   'multiplier': 1,\n",
       "   'entry': 107827,\n",
       "   'event': 1},\n",
       "  {'element': 417,\n",
       "   'position': 10,\n",
       "   'is_captain': False,\n",
       "   'is_vice_captain': False,\n",
       "   'multiplier': 1,\n",
       "   'entry': 107827,\n",
       "   'event': 1},\n",
       "  {'element': 45,\n",
       "   'position': 11,\n",
       "   'is_captain': False,\n",
       "   'is_vice_captain': False,\n",
       "   'multiplier': 1,\n",
       "   'entry': 107827,\n",
       "   'event': 1},\n",
       "  {'element': 400,\n",
       "   'position': 12,\n",
       "   'is_captain': False,\n",
       "   'is_vice_captain': False,\n",
       "   'multiplier': 1,\n",
       "   'entry': 107827,\n",
       "   'event': 1},\n",
       "  {'element': 271,\n",
       "   'position': 13,\n",
       "   'is_captain': False,\n",
       "   'is_vice_captain': False,\n",
       "   'multiplier': 1,\n",
       "   'entry': 107827,\n",
       "   'event': 1},\n",
       "  {'element': 332,\n",
       "   'position': 14,\n",
       "   'is_captain': False,\n",
       "   'is_vice_captain': False,\n",
       "   'multiplier': 1,\n",
       "   'entry': 107827,\n",
       "   'event': 1},\n",
       "  {'element': 145,\n",
       "   'position': 15,\n",
       "   'is_captain': False,\n",
       "   'is_vice_captain': False,\n",
       "   'multiplier': 1,\n",
       "   'entry': 107827,\n",
       "   'event': 1}]}"
      ]
     },
     "execution_count": 17,
     "metadata": {},
     "output_type": "execute_result"
    }
   ],
   "source": [
    "d[0]"
   ]
  },
  {
   "cell_type": "code",
   "execution_count": 6,
   "metadata": {
    "ExecuteTime": {
     "end_time": "2019-08-03T11:10:45.660536Z",
     "start_time": "2019-08-03T11:10:45.627715Z"
    }
   },
   "outputs": [],
   "source": [
    "player_value_df = pd.read_csv('../csvs/player_value.csv', index_col=0)"
   ]
  },
  {
   "cell_type": "code",
   "execution_count": 7,
   "metadata": {
    "ExecuteTime": {
     "end_time": "2019-08-03T11:11:31.939075Z",
     "start_time": "2019-08-03T11:10:46.125219Z"
    }
   },
   "outputs": [],
   "source": [
    "first_team_value_arr = []\n",
    "bench_value_arr = []\n",
    "\n",
    "for i in range(0, len(d)):\n",
    "    try:\n",
    "        event_entry_d = d[i]\n",
    "        first_team = [j for j in event_entry_d['picks'] if j['position'] in range(1, 12)]\n",
    "        bench = [j for j in event_entry_d['picks'] if j['position'] not in range(1, 12)]\n",
    "\n",
    "        first_team_value = \\\n",
    "        [player_value_df[\n",
    "            (player_value_df['element'] == k['element'])\n",
    "            & (player_value_df['event'] == k['event'])]['value'].values[0]\n",
    "         for k in first_team]\n",
    "\n",
    "        bench_value = \\\n",
    "        [player_value_df[\n",
    "            (player_value_df['element'] == k['element'])\n",
    "            & (player_value_df['event'] == k['event'])]['value'].values[0]\n",
    "         for k in bench]\n",
    "\n",
    "        first_team_value_arr.append(sum(first_team_value))\n",
    "        bench_value_arr.append(sum(bench_value))\n",
    "    except:\n",
    "        continue\n",
    "    \n",
    "    \n"
   ]
  },
  {
   "cell_type": "code",
   "execution_count": 8,
   "metadata": {
    "ExecuteTime": {
     "end_time": "2019-08-03T11:11:31.950934Z",
     "start_time": "2019-08-03T11:11:31.943623Z"
    }
   },
   "outputs": [
    {
     "data": {
      "text/plain": [
       "75.89825852596663"
      ]
     },
     "execution_count": 8,
     "metadata": {},
     "output_type": "execute_result"
    }
   ],
   "source": [
    "np.mean(first_team_value_arr)/11"
   ]
  },
  {
   "cell_type": "code",
   "execution_count": 9,
   "metadata": {
    "ExecuteTime": {
     "end_time": "2019-08-03T11:11:32.058775Z",
     "start_time": "2019-08-03T11:11:31.952892Z"
    }
   },
   "outputs": [
    {
     "data": {
      "text/plain": [
       "49.467645381984035"
      ]
     },
     "execution_count": 9,
     "metadata": {},
     "output_type": "execute_result"
    }
   ],
   "source": [
    "np.mean(bench_value_arr)/4"
   ]
  },
  {
   "cell_type": "code",
   "execution_count": 10,
   "metadata": {
    "ExecuteTime": {
     "end_time": "2019-08-03T11:11:32.086654Z",
     "start_time": "2019-08-03T11:11:32.061446Z"
    }
   },
   "outputs": [
    {
     "data": {
      "text/plain": [
       "1754"
      ]
     },
     "execution_count": 10,
     "metadata": {},
     "output_type": "execute_result"
    }
   ],
   "source": [
    "len(bench_value_arr)"
   ]
  },
  {
   "cell_type": "code",
   "execution_count": 18,
   "metadata": {
    "ExecuteTime": {
     "end_time": "2019-08-25T17:36:01.452395Z",
     "start_time": "2019-08-25T17:36:00.816156Z"
    }
   },
   "outputs": [
    {
     "data": {
      "image/png": "[encoded data removed]",
      "text/plain": [
       "<Figure size 720x576 with 1 Axes>"
      ]
     },
     "metadata": {
      "needs_background": "light"
     },
     "output_type": "display_data"
    }
   ],
   "source": [
    "plt.figure(figsize=(10, 8))\n",
    "plt.hist(pd.Series(first_team_value_arr)/11, alpha=0.75, label='first team', density=True, bins=10)\n",
    "plt.hist(pd.Series(bench_value_arr)/4, alpha=0.75, label='bench', density=True, bins=10)\n",
    "plt.legend()\n",
    "plt.title('Histogram of mean player values by bench and first team for exemplary managers')\n",
    "plt.xlabel('Player price')\n",
    "plt.grid()\n",
    "plt.show()"
   ]
  },
  {
   "cell_type": "code",
   "execution_count": null,
   "metadata": {},
   "outputs": [],
   "source": []
  }
 ],
 "metadata": {
  "kernelspec": {
   "display_name": "Python 3",
   "language": "python",
   "name": "python3"
  },
  "language_info": {
   "codemirror_mode": {
    "name": "ipython",
    "version": 3
   },
   "file_extension": ".py",
   "mimetype": "text/x-python",
   "name": "python",
   "nbconvert_exporter": "python",
   "pygments_lexer": "ipython3",
   "version": "3.6.7"
  },
  "toc": {
   "nav_menu": {},
   "number_sections": true,
   "sideBar": true,
   "skip_h1_title": false,
   "title_cell": "Table of Contents",
   "title_sidebar": "Contents",
   "toc_cell": false,
   "toc_position": {},
   "toc_section_display": true,
   "toc_window_display": false
  }
 },
 "nbformat": 4,
 "nbformat_minor": 2
}
