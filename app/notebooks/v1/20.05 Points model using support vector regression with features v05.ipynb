{
 "cells": [
  {
   "cell_type": "markdown",
   "metadata": {
    "heading_collapsed": true
   },
   "source": [
    "# Set up"
   ]
  },
  {
   "cell_type": "code",
   "execution_count": 1,
   "metadata": {
    "ExecuteTime": {
     "end_time": "2019-07-27T09:50:42.184029Z",
     "start_time": "2019-07-27T09:50:42.178140Z"
    },
    "hidden": true
   },
   "outputs": [],
   "source": [
    "# update path with data dir\n",
    "import sys\n",
    "sys.path.append('../../data/')"
   ]
  },
  {
   "cell_type": "code",
   "execution_count": 2,
   "metadata": {
    "ExecuteTime": {
     "end_time": "2019-07-27T09:50:42.578199Z",
     "start_time": "2019-07-27T09:50:42.573689Z"
    },
    "hidden": true
   },
   "outputs": [],
   "source": [
    "import warnings\n",
    "# warnings.filterwarnings('ignore')"
   ]
  },
  {
   "cell_type": "code",
   "execution_count": 3,
   "metadata": {
    "ExecuteTime": {
     "end_time": "2019-07-27T09:50:44.222120Z",
     "start_time": "2019-07-27T09:50:43.033389Z"
    },
    "hidden": true
   },
   "outputs": [
    {
     "name": "stderr",
     "output_type": "stream",
     "text": [
      "/home/tom/footbot/venv/lib/python3.6/site-packages/sklearn/externals/joblib/__init__.py:15: DeprecationWarning: sklearn.externals.joblib is deprecated in 0.21 and will be removed in 0.23. Please import this functionality directly from joblib, which can be installed with: pip install joblib. If this warning is raised when loading pickled models, you may need to re-serialize those models with scikit-learn 0.21+.\n",
      "  warnings.warn(msg, category=DeprecationWarning)\n"
     ]
    }
   ],
   "source": [
    "import pandas as pd\n",
    "import patsy\n",
    "import numpy as np\n",
    "from sklearn.svm import SVR\n",
    "from sklearn.preprocessing import StandardScaler\n",
    "from sklearn.model_selection import PredefinedSplit, GridSearchCV, cross_val_score\n",
    "from skopt.space import Real, Integer\n",
    "from skopt.utils import use_named_args\n",
    "from skopt import gp_minimize\n",
    "from sklearn.feature_selection import RFECV\n",
    "from sklearn.metrics import mean_absolute_error, mean_squared_error, r2_score\n",
    "import matplotlib.pyplot as plt"
   ]
  },
  {
   "cell_type": "markdown",
   "metadata": {
    "heading_collapsed": true
   },
   "source": [
    "# Getting data"
   ]
  },
  {
   "cell_type": "code",
   "execution_count": 4,
   "metadata": {
    "ExecuteTime": {
     "end_time": "2019-07-27T09:50:45.112570Z",
     "start_time": "2019-07-27T09:50:45.107269Z"
    },
    "hidden": true
   },
   "outputs": [],
   "source": [
    "file_name = '../csvs/element_gameweek_features_v05.csv'"
   ]
  },
  {
   "cell_type": "code",
   "execution_count": 5,
   "metadata": {
    "ExecuteTime": {
     "end_time": "2019-07-27T09:50:45.793288Z",
     "start_time": "2019-07-27T09:50:45.487057Z"
    },
    "hidden": true
   },
   "outputs": [],
   "source": [
    "element_gameweek_df = pd.read_csv(file_name)"
   ]
  },
  {
   "cell_type": "code",
   "execution_count": 6,
   "metadata": {
    "ExecuteTime": {
     "end_time": "2019-07-27T09:50:45.885136Z",
     "start_time": "2019-07-27T09:50:45.880887Z"
    },
    "hidden": true
   },
   "outputs": [],
   "source": [
    "current_event = 20"
   ]
  },
  {
   "cell_type": "code",
   "execution_count": 7,
   "metadata": {
    "ExecuteTime": {
     "end_time": "2019-07-27T09:50:46.618401Z",
     "start_time": "2019-07-27T09:50:46.605245Z"
    },
    "hidden": true
   },
   "outputs": [],
   "source": [
    "element_gameweek_df =\\\n",
    "element_gameweek_df[\n",
    "    (element_gameweek_df['event'] <= current_event)\n",
    "]"
   ]
  },
  {
   "cell_type": "code",
   "execution_count": 8,
   "metadata": {
    "ExecuteTime": {
     "end_time": "2019-07-27T09:50:49.337332Z",
     "start_time": "2019-07-27T09:50:49.258718Z"
    },
    "hidden": true
   },
   "outputs": [],
   "source": [
    "element_gameweek_df.fillna(3, inplace=True)"
   ]
  },
  {
   "cell_type": "code",
   "execution_count": 9,
   "metadata": {
    "ExecuteTime": {
     "end_time": "2019-07-27T09:50:50.214933Z",
     "start_time": "2019-07-27T09:50:50.204656Z"
    },
    "hidden": true
   },
   "outputs": [],
   "source": [
    "element_gameweek_df = element_gameweek_df[element_gameweek_df['rolling_avg_minutes_element_p3'] >= 60]"
   ]
  },
  {
   "cell_type": "markdown",
   "metadata": {},
   "source": [
    "# Modelling data"
   ]
  },
  {
   "cell_type": "markdown",
   "metadata": {
    "heading_collapsed": true
   },
   "source": [
    "## Splitting data"
   ]
  },
  {
   "cell_type": "code",
   "execution_count": 10,
   "metadata": {
    "ExecuteTime": {
     "end_time": "2019-07-27T09:50:52.766637Z",
     "start_time": "2019-07-27T09:50:52.761407Z"
    },
    "hidden": true
   },
   "outputs": [],
   "source": [
    "last_train_event = 15"
   ]
  },
  {
   "cell_type": "code",
   "execution_count": 11,
   "metadata": {
    "ExecuteTime": {
     "end_time": "2019-07-27T09:50:53.235092Z",
     "start_time": "2019-07-27T09:50:53.226338Z"
    },
    "hidden": true
   },
   "outputs": [],
   "source": [
    "test_fold = [-1 if i <= last_train_event else 0 for i in element_gameweek_df['event']]\n",
    "ps = PredefinedSplit(test_fold)"
   ]
  },
  {
   "cell_type": "code",
   "execution_count": 12,
   "metadata": {
    "ExecuteTime": {
     "end_time": "2019-07-27T09:50:53.448363Z",
     "start_time": "2019-07-27T09:50:53.436289Z"
    },
    "hidden": true
   },
   "outputs": [],
   "source": [
    "for train_index, test_index in ps.split():\n",
    "    element_gameweek_df_train, element_gameweek_df_test = \\\n",
    "    element_gameweek_df.copy().iloc[train_index], element_gameweek_df.copy().iloc[test_index]"
   ]
  },
  {
   "cell_type": "markdown",
   "metadata": {
    "heading_collapsed": true
   },
   "source": [
    "## Scaling data"
   ]
  },
  {
   "cell_type": "code",
   "execution_count": 13,
   "metadata": {
    "ExecuteTime": {
     "end_time": "2019-07-27T09:50:54.911219Z",
     "start_time": "2019-07-27T09:50:54.896027Z"
    },
    "hidden": true
   },
   "outputs": [
    {
     "data": {
      "text/plain": [
       "['value',\n",
       " 'rolling_avg_total_points_element',\n",
       " 'rolling_max_total_points_element',\n",
       " 'rolling_avg_bps_element',\n",
       " 'rolling_avg_bonus_element',\n",
       " 'rolling_avg_goals_scored_element',\n",
       " 'rolling_avg_minutes_element',\n",
       " 'rolling_avg_clean_sheets_element',\n",
       " 'rolling_avg_completed_passes_element',\n",
       " 'rolling_avg_recoveries_element',\n",
       " 'rolling_avg_assists_element',\n",
       " 'rolling_avg_key_passes_element',\n",
       " 'rolling_avg_winning_goals_element',\n",
       " 'rolling_avg_tackled_element',\n",
       " 'rolling_avg_dribbles_element',\n",
       " 'rolling_avg_clearances_blocks_interceptions_element',\n",
       " 'rolling_avg_big_chances_created_element',\n",
       " 'rolling_avg_target_missed_element',\n",
       " 'rolling_avg_fouls_element',\n",
       " 'rolling_avg_tackles_element',\n",
       " 'rolling_avg_open_play_crosses_element',\n",
       " 'rolling_avg_offside_element',\n",
       " 'rolling_avg_big_chances_missed_element',\n",
       " 'rolling_avg_saves_element',\n",
       " 'rolling_avg_goals_conceded_element',\n",
       " 'rolling_avg_minutes_element_p3',\n",
       " 'rolling_avg_total_points_element_p3',\n",
       " 'total_points_element_premium_p3',\n",
       " 'rolling_avg_bps_element_p3',\n",
       " 'rolling_avg_total_points_own_team',\n",
       " 'expected_total_points_element_home_away',\n",
       " 'rolling_avg_total_points_element_type',\n",
       " 'rolling_avg_total_points_opposition_team',\n",
       " 'rolling_avg_total_points_against_opposition_team',\n",
       " 'rolling_avg_total_points_against_opposition_team_element_type',\n",
       " 'expected_total_points_against_opposition_team',\n",
       " 'rolling_avg_total_points_against_opposition_team_element_type_home',\n",
       " 'rolling_avg_total_points_against_opposition_team_element_type_away',\n",
       " 'expected_total_points_against_opposition_team_home_away']"
      ]
     },
     "execution_count": 13,
     "metadata": {},
     "output_type": "execute_result"
    }
   ],
   "source": [
    "scaled_feature_cols = [\n",
    "    i for i in element_gameweek_df.columns if i not in [\n",
    "        'safe_web_name', 'element', 'event', 'fixture', 'team',\n",
    "        'opposition_team', 'element_type', 'was_home', 'is_sunday',\n",
    "        'is_weekday', 'is_late', 'is_early', 'has_high_points_ever_element',\n",
    "        'total_points', 'minutes', 'rolling_value_points'\n",
    "    ]\n",
    "]\n",
    "\n",
    "scaled_feature_cols"
   ]
  },
  {
   "cell_type": "code",
   "execution_count": 14,
   "metadata": {
    "ExecuteTime": {
     "end_time": "2019-07-27T09:50:56.042835Z",
     "start_time": "2019-07-27T09:50:55.732297Z"
    },
    "hidden": true
   },
   "outputs": [],
   "source": [
    "scaled_df_train = element_gameweek_df_train.copy()\n",
    "scaled_df_test = element_gameweek_df_test.copy()\n",
    "scaled_df = element_gameweek_df.copy()\n",
    "\n",
    "scaler = StandardScaler().fit(scaled_df_train[scaled_feature_cols].values)\n",
    "\n",
    "scaled_df_train = scaler.transform(scaled_df_train[scaled_feature_cols].values)\n",
    "scaled_df_test = scaler.transform(scaled_df_test[scaled_feature_cols].values)\n",
    "scaled_df = scaler.transform(scaled_df[scaled_feature_cols].values)\n",
    "\n",
    "element_gameweek_df_train[scaled_feature_cols] = scaled_df_train\n",
    "element_gameweek_df_test[scaled_feature_cols] = scaled_df_test\n",
    "element_gameweek_df[scaled_feature_cols] = scaled_df"
   ]
  },
  {
   "cell_type": "markdown",
   "metadata": {
    "heading_collapsed": true
   },
   "source": [
    "## Building model"
   ]
  },
  {
   "cell_type": "markdown",
   "metadata": {
    "heading_collapsed": true,
    "hidden": true
   },
   "source": [
    "### Full feature set"
   ]
  },
  {
   "cell_type": "code",
   "execution_count": 15,
   "metadata": {
    "ExecuteTime": {
     "end_time": "2019-07-27T08:45:01.648280Z",
     "start_time": "2019-07-27T08:45:01.639427Z"
    },
    "hidden": true
   },
   "outputs": [],
   "source": [
    "formula_full = \\\n",
    "'total_points ~ C(element) + C(element_type) + C(team) + C(opposition_team) + ' + \\\n",
    "' + '.join([i for i in element_gameweek_df.columns if i not in\n",
    " [\n",
    "     'safe_web_name',\n",
    "     'element',\n",
    "     'event',\n",
    "     'fixture',\n",
    "     'team',\n",
    "     'opposition_team',\n",
    "     'element_type',\n",
    "     'minutes',\n",
    "     'rolling_value_points',\n",
    "     'total_points',\n",
    "     \n",
    " ]])"
   ]
  },
  {
   "cell_type": "code",
   "execution_count": 16,
   "metadata": {
    "ExecuteTime": {
     "end_time": "2019-07-27T08:45:02.359153Z",
     "start_time": "2019-07-27T08:45:02.352797Z"
    },
    "hidden": true
   },
   "outputs": [
    {
     "name": "stdout",
     "output_type": "stream",
     "text": [
      "total_points ~ C(element) + C(element_type) + C(team) + C(opposition_team) + was_home + is_sunday + is_weekday + is_early + is_late + value + rolling_avg_total_points_element + rolling_max_total_points_element + has_high_points_ever_element + rolling_avg_bps_element + rolling_avg_bonus_element + rolling_avg_goals_scored_element + rolling_avg_minutes_element + rolling_avg_clean_sheets_element + rolling_avg_completed_passes_element + rolling_avg_recoveries_element + rolling_avg_assists_element + rolling_avg_key_passes_element + rolling_avg_winning_goals_element + rolling_avg_tackled_element + rolling_avg_dribbles_element + rolling_avg_clearances_blocks_interceptions_element + rolling_avg_big_chances_created_element + rolling_avg_target_missed_element + rolling_avg_fouls_element + rolling_avg_tackles_element + rolling_avg_open_play_crosses_element + rolling_avg_offside_element + rolling_avg_big_chances_missed_element + rolling_avg_saves_element + rolling_avg_goals_conceded_element + rolling_avg_minutes_element_p3 + rolling_avg_total_points_element_p3 + total_points_element_premium_p3 + rolling_avg_bps_element_p3 + rolling_avg_total_points_own_team + expected_total_points_element_home_away + rolling_avg_total_points_element_type + rolling_avg_total_points_opposition_team + rolling_avg_total_points_against_opposition_team + rolling_avg_total_points_against_opposition_team_element_type + expected_total_points_against_opposition_team + rolling_avg_total_points_against_opposition_team_element_type_home + rolling_avg_total_points_against_opposition_team_element_type_away + expected_total_points_against_opposition_team_home_away\n"
     ]
    }
   ],
   "source": [
    "print(formula_full)"
   ]
  },
  {
   "cell_type": "code",
   "execution_count": 17,
   "metadata": {
    "ExecuteTime": {
     "end_time": "2019-07-27T08:45:03.271691Z",
     "start_time": "2019-07-27T08:45:02.970539Z"
    },
    "hidden": true
   },
   "outputs": [],
   "source": [
    "y_full, X_full = patsy.dmatrices(formula_full, element_gameweek_df, return_type='matrix')"
   ]
  },
  {
   "cell_type": "code",
   "execution_count": 18,
   "metadata": {
    "ExecuteTime": {
     "end_time": "2019-07-27T08:45:03.858127Z",
     "start_time": "2019-07-27T08:45:03.839301Z"
    },
    "hidden": true
   },
   "outputs": [],
   "source": [
    "for train_index, test_index in ps.split():\n",
    "    X_full_train, X_full_test = X_full[train_index], X_full[test_index]\n",
    "    y_full_train, y_full_test = y_full[train_index], y_full[test_index]"
   ]
  },
  {
   "cell_type": "code",
   "execution_count": 21,
   "metadata": {
    "ExecuteTime": {
     "end_time": "2019-07-27T08:45:23.554445Z",
     "start_time": "2019-07-27T08:45:23.534281Z"
    },
    "hidden": true
   },
   "outputs": [
    {
     "data": {
      "text/plain": [
       "['Intercept',\n",
       " 'C(element)[T.2]',\n",
       " 'C(element)[T.4]',\n",
       " 'C(element)[T.5]',\n",
       " 'C(element)[T.6]',\n",
       " 'C(element)[T.7]',\n",
       " 'C(element)[T.8]',\n",
       " 'C(element)[T.9]',\n",
       " 'C(element)[T.11]',\n",
       " 'C(element)[T.12]',\n",
       " 'C(element)[T.13]',\n",
       " 'C(element)[T.14]',\n",
       " 'C(element)[T.15]',\n",
       " 'C(element)[T.17]',\n",
       " 'C(element)[T.18]',\n",
       " 'C(element)[T.22]',\n",
       " 'C(element)[T.23]',\n",
       " 'C(element)[T.24]',\n",
       " 'C(element)[T.26]',\n",
       " 'C(element)[T.27]',\n",
       " 'C(element)[T.28]',\n",
       " 'C(element)[T.29]',\n",
       " 'C(element)[T.31]',\n",
       " 'C(element)[T.33]',\n",
       " 'C(element)[T.35]',\n",
       " 'C(element)[T.36]',\n",
       " 'C(element)[T.37]',\n",
       " 'C(element)[T.39]',\n",
       " 'C(element)[T.40]',\n",
       " 'C(element)[T.42]',\n",
       " 'C(element)[T.43]',\n",
       " 'C(element)[T.45]',\n",
       " 'C(element)[T.47]',\n",
       " 'C(element)[T.48]',\n",
       " 'C(element)[T.49]',\n",
       " 'C(element)[T.50]',\n",
       " 'C(element)[T.51]',\n",
       " 'C(element)[T.54]',\n",
       " 'C(element)[T.55]',\n",
       " 'C(element)[T.56]',\n",
       " 'C(element)[T.57]',\n",
       " 'C(element)[T.58]',\n",
       " 'C(element)[T.59]',\n",
       " 'C(element)[T.60]',\n",
       " 'C(element)[T.61]',\n",
       " 'C(element)[T.62]',\n",
       " 'C(element)[T.66]',\n",
       " 'C(element)[T.69]',\n",
       " 'C(element)[T.70]',\n",
       " 'C(element)[T.71]',\n",
       " 'C(element)[T.72]',\n",
       " 'C(element)[T.73]',\n",
       " 'C(element)[T.74]',\n",
       " 'C(element)[T.75]',\n",
       " 'C(element)[T.76]',\n",
       " 'C(element)[T.77]',\n",
       " 'C(element)[T.78]',\n",
       " 'C(element)[T.79]',\n",
       " 'C(element)[T.80]',\n",
       " 'C(element)[T.82]',\n",
       " 'C(element)[T.83]',\n",
       " 'C(element)[T.84]',\n",
       " 'C(element)[T.85]',\n",
       " 'C(element)[T.87]',\n",
       " 'C(element)[T.88]',\n",
       " 'C(element)[T.90]',\n",
       " 'C(element)[T.91]',\n",
       " 'C(element)[T.92]',\n",
       " 'C(element)[T.94]',\n",
       " 'C(element)[T.95]',\n",
       " 'C(element)[T.98]',\n",
       " 'C(element)[T.99]',\n",
       " 'C(element)[T.100]',\n",
       " 'C(element)[T.101]',\n",
       " 'C(element)[T.102]',\n",
       " 'C(element)[T.105]',\n",
       " 'C(element)[T.106]',\n",
       " 'C(element)[T.110]',\n",
       " 'C(element)[T.113]',\n",
       " 'C(element)[T.115]',\n",
       " 'C(element)[T.116]',\n",
       " 'C(element)[T.118]',\n",
       " 'C(element)[T.122]',\n",
       " 'C(element)[T.124]',\n",
       " 'C(element)[T.125]',\n",
       " 'C(element)[T.126]',\n",
       " 'C(element)[T.127]',\n",
       " 'C(element)[T.133]',\n",
       " 'C(element)[T.134]',\n",
       " 'C(element)[T.135]',\n",
       " 'C(element)[T.137]',\n",
       " 'C(element)[T.138]',\n",
       " 'C(element)[T.140]',\n",
       " 'C(element)[T.141]',\n",
       " 'C(element)[T.142]',\n",
       " 'C(element)[T.143]',\n",
       " 'C(element)[T.145]',\n",
       " 'C(element)[T.147]',\n",
       " 'C(element)[T.149]',\n",
       " 'C(element)[T.150]',\n",
       " 'C(element)[T.151]',\n",
       " 'C(element)[T.152]',\n",
       " 'C(element)[T.154]',\n",
       " 'C(element)[T.156]',\n",
       " 'C(element)[T.157]',\n",
       " 'C(element)[T.160]',\n",
       " 'C(element)[T.161]',\n",
       " 'C(element)[T.162]',\n",
       " 'C(element)[T.164]',\n",
       " 'C(element)[T.167]',\n",
       " 'C(element)[T.168]',\n",
       " 'C(element)[T.169]',\n",
       " 'C(element)[T.172]',\n",
       " 'C(element)[T.175]',\n",
       " 'C(element)[T.177]',\n",
       " 'C(element)[T.178]',\n",
       " 'C(element)[T.180]',\n",
       " 'C(element)[T.181]',\n",
       " 'C(element)[T.182]',\n",
       " 'C(element)[T.183]',\n",
       " 'C(element)[T.184]',\n",
       " 'C(element)[T.189]',\n",
       " 'C(element)[T.190]',\n",
       " 'C(element)[T.191]',\n",
       " 'C(element)[T.192]',\n",
       " 'C(element)[T.193]',\n",
       " 'C(element)[T.195]',\n",
       " 'C(element)[T.197]',\n",
       " 'C(element)[T.198]',\n",
       " 'C(element)[T.199]',\n",
       " 'C(element)[T.200]',\n",
       " 'C(element)[T.201]',\n",
       " 'C(element)[T.202]',\n",
       " 'C(element)[T.206]',\n",
       " 'C(element)[T.208]',\n",
       " 'C(element)[T.210]',\n",
       " 'C(element)[T.211]',\n",
       " 'C(element)[T.213]',\n",
       " 'C(element)[T.215]',\n",
       " 'C(element)[T.219]',\n",
       " 'C(element)[T.220]',\n",
       " 'C(element)[T.221]',\n",
       " 'C(element)[T.222]',\n",
       " 'C(element)[T.223]',\n",
       " 'C(element)[T.224]',\n",
       " 'C(element)[T.225]',\n",
       " 'C(element)[T.226]',\n",
       " 'C(element)[T.227]',\n",
       " 'C(element)[T.231]',\n",
       " 'C(element)[T.233]',\n",
       " 'C(element)[T.234]',\n",
       " 'C(element)[T.236]',\n",
       " 'C(element)[T.239]',\n",
       " 'C(element)[T.242]',\n",
       " 'C(element)[T.243]',\n",
       " 'C(element)[T.245]',\n",
       " 'C(element)[T.246]',\n",
       " 'C(element)[T.247]',\n",
       " 'C(element)[T.249]',\n",
       " 'C(element)[T.251]',\n",
       " 'C(element)[T.252]',\n",
       " 'C(element)[T.253]',\n",
       " 'C(element)[T.254]',\n",
       " 'C(element)[T.255]',\n",
       " 'C(element)[T.256]',\n",
       " 'C(element)[T.257]',\n",
       " 'C(element)[T.258]',\n",
       " 'C(element)[T.260]',\n",
       " 'C(element)[T.262]',\n",
       " 'C(element)[T.263]',\n",
       " 'C(element)[T.264]',\n",
       " 'C(element)[T.265]',\n",
       " 'C(element)[T.267]',\n",
       " 'C(element)[T.268]',\n",
       " 'C(element)[T.269]',\n",
       " 'C(element)[T.270]',\n",
       " 'C(element)[T.271]',\n",
       " 'C(element)[T.272]',\n",
       " 'C(element)[T.274]',\n",
       " 'C(element)[T.275]',\n",
       " 'C(element)[T.276]',\n",
       " 'C(element)[T.280]',\n",
       " 'C(element)[T.281]',\n",
       " 'C(element)[T.282]',\n",
       " 'C(element)[T.284]',\n",
       " 'C(element)[T.285]',\n",
       " 'C(element)[T.286]',\n",
       " 'C(element)[T.288]',\n",
       " 'C(element)[T.289]',\n",
       " 'C(element)[T.291]',\n",
       " 'C(element)[T.292]',\n",
       " 'C(element)[T.293]',\n",
       " 'C(element)[T.294]',\n",
       " 'C(element)[T.295]',\n",
       " 'C(element)[T.296]',\n",
       " 'C(element)[T.297]',\n",
       " 'C(element)[T.298]',\n",
       " 'C(element)[T.299]',\n",
       " 'C(element)[T.300]',\n",
       " 'C(element)[T.301]',\n",
       " 'C(element)[T.302]',\n",
       " 'C(element)[T.304]',\n",
       " 'C(element)[T.305]',\n",
       " 'C(element)[T.306]',\n",
       " 'C(element)[T.309]',\n",
       " 'C(element)[T.310]',\n",
       " 'C(element)[T.311]',\n",
       " 'C(element)[T.312]',\n",
       " 'C(element)[T.313]',\n",
       " 'C(element)[T.315]',\n",
       " 'C(element)[T.317]',\n",
       " 'C(element)[T.318]',\n",
       " 'C(element)[T.319]',\n",
       " 'C(element)[T.320]',\n",
       " 'C(element)[T.324]',\n",
       " 'C(element)[T.326]',\n",
       " 'C(element)[T.327]',\n",
       " 'C(element)[T.328]',\n",
       " 'C(element)[T.330]',\n",
       " 'C(element)[T.331]',\n",
       " 'C(element)[T.332]',\n",
       " 'C(element)[T.333]',\n",
       " 'C(element)[T.335]',\n",
       " 'C(element)[T.336]',\n",
       " 'C(element)[T.339]',\n",
       " 'C(element)[T.340]',\n",
       " 'C(element)[T.343]',\n",
       " 'C(element)[T.344]',\n",
       " 'C(element)[T.345]',\n",
       " 'C(element)[T.346]',\n",
       " 'C(element)[T.347]',\n",
       " 'C(element)[T.348]',\n",
       " 'C(element)[T.349]',\n",
       " 'C(element)[T.351]',\n",
       " 'C(element)[T.352]',\n",
       " 'C(element)[T.353]',\n",
       " 'C(element)[T.354]',\n",
       " 'C(element)[T.355]',\n",
       " 'C(element)[T.356]',\n",
       " 'C(element)[T.357]',\n",
       " 'C(element)[T.359]',\n",
       " 'C(element)[T.360]',\n",
       " 'C(element)[T.361]',\n",
       " 'C(element)[T.362]',\n",
       " 'C(element)[T.363]',\n",
       " 'C(element)[T.364]',\n",
       " 'C(element)[T.365]',\n",
       " 'C(element)[T.367]',\n",
       " 'C(element)[T.368]',\n",
       " 'C(element)[T.369]',\n",
       " 'C(element)[T.370]',\n",
       " 'C(element)[T.372]',\n",
       " 'C(element)[T.376]',\n",
       " 'C(element)[T.378]',\n",
       " 'C(element)[T.380]',\n",
       " 'C(element)[T.381]',\n",
       " 'C(element)[T.382]',\n",
       " 'C(element)[T.383]',\n",
       " 'C(element)[T.386]',\n",
       " 'C(element)[T.389]',\n",
       " 'C(element)[T.390]',\n",
       " 'C(element)[T.391]',\n",
       " 'C(element)[T.392]',\n",
       " 'C(element)[T.393]',\n",
       " 'C(element)[T.394]',\n",
       " 'C(element)[T.395]',\n",
       " 'C(element)[T.396]',\n",
       " 'C(element)[T.400]',\n",
       " 'C(element)[T.402]',\n",
       " 'C(element)[T.403]',\n",
       " 'C(element)[T.405]',\n",
       " 'C(element)[T.406]',\n",
       " 'C(element)[T.408]',\n",
       " 'C(element)[T.409]',\n",
       " 'C(element)[T.410]',\n",
       " 'C(element)[T.411]',\n",
       " 'C(element)[T.412]',\n",
       " 'C(element)[T.413]',\n",
       " 'C(element)[T.415]',\n",
       " 'C(element)[T.417]',\n",
       " 'C(element)[T.419]',\n",
       " 'C(element)[T.423]',\n",
       " 'C(element)[T.425]',\n",
       " 'C(element)[T.426]',\n",
       " 'C(element)[T.427]',\n",
       " 'C(element)[T.430]',\n",
       " 'C(element)[T.431]',\n",
       " 'C(element)[T.432]',\n",
       " 'C(element)[T.433]',\n",
       " 'C(element)[T.435]',\n",
       " 'C(element)[T.437]',\n",
       " 'C(element)[T.440]',\n",
       " 'C(element)[T.445]',\n",
       " 'C(element)[T.446]',\n",
       " 'C(element)[T.447]',\n",
       " 'C(element)[T.450]',\n",
       " 'C(element)[T.451]',\n",
       " 'C(element)[T.453]',\n",
       " 'C(element)[T.454]',\n",
       " 'C(element)[T.455]',\n",
       " 'C(element)[T.456]',\n",
       " 'C(element)[T.458]',\n",
       " 'C(element)[T.459]',\n",
       " 'C(element)[T.460]',\n",
       " 'C(element)[T.461]',\n",
       " 'C(element)[T.462]',\n",
       " 'C(element)[T.463]',\n",
       " 'C(element)[T.464]',\n",
       " 'C(element)[T.465]',\n",
       " 'C(element)[T.466]',\n",
       " 'C(element)[T.467]',\n",
       " 'C(element)[T.468]',\n",
       " 'C(element)[T.473]',\n",
       " 'C(element)[T.474]',\n",
       " 'C(element)[T.475]',\n",
       " 'C(element)[T.476]',\n",
       " 'C(element)[T.478]',\n",
       " 'C(element)[T.479]',\n",
       " 'C(element)[T.480]',\n",
       " 'C(element)[T.481]',\n",
       " 'C(element)[T.482]',\n",
       " 'C(element)[T.483]',\n",
       " 'C(element)[T.484]',\n",
       " 'C(element)[T.486]',\n",
       " 'C(element)[T.487]',\n",
       " 'C(element)[T.488]',\n",
       " 'C(element)[T.489]',\n",
       " 'C(element)[T.490]',\n",
       " 'C(element)[T.492]',\n",
       " 'C(element)[T.493]',\n",
       " 'C(element)[T.494]',\n",
       " 'C(element)[T.498]',\n",
       " 'C(element)[T.499]',\n",
       " 'C(element)[T.503]',\n",
       " 'C(element)[T.504]',\n",
       " 'C(element)[T.505]',\n",
       " 'C(element)[T.506]',\n",
       " 'C(element)[T.507]',\n",
       " 'C(element)[T.508]',\n",
       " 'C(element)[T.509]',\n",
       " 'C(element)[T.510]',\n",
       " 'C(element)[T.511]',\n",
       " 'C(element)[T.512]',\n",
       " 'C(element)[T.513]',\n",
       " 'C(element)[T.516]',\n",
       " 'C(element)[T.517]',\n",
       " 'C(element)[T.518]',\n",
       " 'C(element)[T.524]',\n",
       " 'C(element)[T.526]',\n",
       " 'C(element)[T.527]',\n",
       " 'C(element)[T.534]',\n",
       " 'C(element)[T.536]',\n",
       " 'C(element)[T.539]',\n",
       " 'C(element)[T.549]',\n",
       " 'C(element)[T.556]',\n",
       " 'C(element_type)[T.2]',\n",
       " 'C(element_type)[T.3]',\n",
       " 'C(element_type)[T.4]',\n",
       " 'C(team)[T.2]',\n",
       " 'C(team)[T.3]',\n",
       " 'C(team)[T.4]',\n",
       " 'C(team)[T.5]',\n",
       " 'C(team)[T.6]',\n",
       " 'C(team)[T.7]',\n",
       " 'C(team)[T.8]',\n",
       " 'C(team)[T.9]',\n",
       " 'C(team)[T.10]',\n",
       " 'C(team)[T.11]',\n",
       " 'C(team)[T.12]',\n",
       " 'C(team)[T.13]',\n",
       " 'C(team)[T.14]',\n",
       " 'C(team)[T.15]',\n",
       " 'C(team)[T.16]',\n",
       " 'C(team)[T.17]',\n",
       " 'C(team)[T.18]',\n",
       " 'C(team)[T.19]',\n",
       " 'C(team)[T.20]',\n",
       " 'C(opposition_team)[T.2]',\n",
       " 'C(opposition_team)[T.3]',\n",
       " 'C(opposition_team)[T.4]',\n",
       " 'C(opposition_team)[T.5]',\n",
       " 'C(opposition_team)[T.6]',\n",
       " 'C(opposition_team)[T.7]',\n",
       " 'C(opposition_team)[T.8]',\n",
       " 'C(opposition_team)[T.9]',\n",
       " 'C(opposition_team)[T.10]',\n",
       " 'C(opposition_team)[T.11]',\n",
       " 'C(opposition_team)[T.12]',\n",
       " 'C(opposition_team)[T.13]',\n",
       " 'C(opposition_team)[T.14]',\n",
       " 'C(opposition_team)[T.15]',\n",
       " 'C(opposition_team)[T.16]',\n",
       " 'C(opposition_team)[T.17]',\n",
       " 'C(opposition_team)[T.18]',\n",
       " 'C(opposition_team)[T.19]',\n",
       " 'C(opposition_team)[T.20]',\n",
       " 'was_home',\n",
       " 'is_sunday',\n",
       " 'is_weekday',\n",
       " 'is_early',\n",
       " 'is_late',\n",
       " 'value',\n",
       " 'rolling_avg_total_points_element',\n",
       " 'rolling_max_total_points_element',\n",
       " 'has_high_points_ever_element',\n",
       " 'rolling_avg_bps_element',\n",
       " 'rolling_avg_bonus_element',\n",
       " 'rolling_avg_goals_scored_element',\n",
       " 'rolling_avg_minutes_element',\n",
       " 'rolling_avg_clean_sheets_element',\n",
       " 'rolling_avg_completed_passes_element',\n",
       " 'rolling_avg_recoveries_element',\n",
       " 'rolling_avg_assists_element',\n",
       " 'rolling_avg_key_passes_element',\n",
       " 'rolling_avg_winning_goals_element',\n",
       " 'rolling_avg_tackled_element',\n",
       " 'rolling_avg_dribbles_element',\n",
       " 'rolling_avg_clearances_blocks_interceptions_element',\n",
       " 'rolling_avg_big_chances_created_element',\n",
       " 'rolling_avg_target_missed_element',\n",
       " 'rolling_avg_fouls_element',\n",
       " 'rolling_avg_tackles_element',\n",
       " 'rolling_avg_open_play_crosses_element',\n",
       " 'rolling_avg_offside_element',\n",
       " 'rolling_avg_big_chances_missed_element',\n",
       " 'rolling_avg_saves_element',\n",
       " 'rolling_avg_goals_conceded_element',\n",
       " 'rolling_avg_minutes_element_p3',\n",
       " 'rolling_avg_total_points_element_p3',\n",
       " 'total_points_element_premium_p3',\n",
       " 'rolling_avg_bps_element_p3',\n",
       " 'rolling_avg_total_points_own_team',\n",
       " 'expected_total_points_element_home_away',\n",
       " 'rolling_avg_total_points_element_type',\n",
       " 'rolling_avg_total_points_opposition_team',\n",
       " 'rolling_avg_total_points_against_opposition_team',\n",
       " 'rolling_avg_total_points_against_opposition_team_element_type',\n",
       " 'expected_total_points_against_opposition_team',\n",
       " 'rolling_avg_total_points_against_opposition_team_element_type_home',\n",
       " 'rolling_avg_total_points_against_opposition_team_element_type_away',\n",
       " 'expected_total_points_against_opposition_team_home_away']"
      ]
     },
     "execution_count": 21,
     "metadata": {},
     "output_type": "execute_result"
    }
   ],
   "source": [
    "X_full.design_info.column_names"
   ]
  },
  {
   "cell_type": "markdown",
   "metadata": {
    "heading_collapsed": true,
    "hidden": true
   },
   "source": [
    "### Refined feature set"
   ]
  },
  {
   "cell_type": "code",
   "execution_count": 22,
   "metadata": {
    "ExecuteTime": {
     "end_time": "2019-07-27T08:50:08.694367Z",
     "start_time": "2019-07-27T08:50:08.684214Z"
    },
    "hidden": true
   },
   "outputs": [],
   "source": [
    "formula_ref = \\\n",
    "'total_points ~ C(element) + C(element_type) + C(team) + C(opposition_team) + ' + \\\n",
    "' + '.join([i for i in element_gameweek_df.columns if i not in\n",
    " [\n",
    "     'safe_web_name',\n",
    "     'element',\n",
    "     'event',\n",
    "     'fixture',\n",
    "     'team',\n",
    "     'opposition_team',\n",
    "     'element_type',\n",
    "     'minutes',\n",
    "     'rolling_value_points',\n",
    "     'total_points',\n",
    "     \n",
    "     'expected_total_points_against_opposition_team',\n",
    "     'expected_total_points_element_home_away',\n",
    "     'rolling_avg_bps_element',\n",
    "     'rolling_avg_bps_element_p3',\n",
    "     'rolling_avg_total_points_against_opposition_team',\n",
    "     'rolling_avg_total_points_against_opposition_team_element_type_home',\n",
    "     'rolling_avg_total_points_against_opposition_team_element_type_away'\n",
    " ]])"
   ]
  },
  {
   "cell_type": "code",
   "execution_count": 23,
   "metadata": {
    "ExecuteTime": {
     "end_time": "2019-07-27T08:50:09.376910Z",
     "start_time": "2019-07-27T08:50:09.370477Z"
    },
    "hidden": true
   },
   "outputs": [
    {
     "name": "stdout",
     "output_type": "stream",
     "text": [
      "total_points ~ C(element) + C(element_type) + C(team) + C(opposition_team) + was_home + is_sunday + is_weekday + is_early + is_late + value + rolling_avg_total_points_element + rolling_max_total_points_element + has_high_points_ever_element + rolling_avg_bonus_element + rolling_avg_goals_scored_element + rolling_avg_minutes_element + rolling_avg_clean_sheets_element + rolling_avg_completed_passes_element + rolling_avg_recoveries_element + rolling_avg_assists_element + rolling_avg_key_passes_element + rolling_avg_winning_goals_element + rolling_avg_tackled_element + rolling_avg_dribbles_element + rolling_avg_clearances_blocks_interceptions_element + rolling_avg_big_chances_created_element + rolling_avg_target_missed_element + rolling_avg_fouls_element + rolling_avg_tackles_element + rolling_avg_open_play_crosses_element + rolling_avg_offside_element + rolling_avg_big_chances_missed_element + rolling_avg_saves_element + rolling_avg_goals_conceded_element + rolling_avg_minutes_element_p3 + rolling_avg_total_points_element_p3 + total_points_element_premium_p3 + rolling_avg_total_points_own_team + rolling_avg_total_points_element_type + rolling_avg_total_points_opposition_team + rolling_avg_total_points_against_opposition_team_element_type + expected_total_points_against_opposition_team_home_away\n"
     ]
    }
   ],
   "source": [
    "print(formula_ref)"
   ]
  },
  {
   "cell_type": "code",
   "execution_count": 24,
   "metadata": {
    "ExecuteTime": {
     "end_time": "2019-07-27T08:50:11.098551Z",
     "start_time": "2019-07-27T08:50:10.826868Z"
    },
    "hidden": true
   },
   "outputs": [],
   "source": [
    "y_ref, X_ref = patsy.dmatrices(formula_ref, element_gameweek_df, return_type='matrix')"
   ]
  },
  {
   "cell_type": "code",
   "execution_count": 25,
   "metadata": {
    "ExecuteTime": {
     "end_time": "2019-07-27T08:50:11.327133Z",
     "start_time": "2019-07-27T08:50:11.310411Z"
    },
    "hidden": true
   },
   "outputs": [],
   "source": [
    "for train_index, test_index in ps.split():\n",
    "    X_ref_train, X_ref_test = X_ref[train_index], X_ref[test_index]\n",
    "    y_ref_train, y_ref_test = y_ref[train_index], y_ref[test_index]"
   ]
  },
  {
   "cell_type": "code",
   "execution_count": 26,
   "metadata": {
    "ExecuteTime": {
     "end_time": "2019-07-27T08:50:17.056143Z",
     "start_time": "2019-07-27T08:50:17.035221Z"
    },
    "hidden": true
   },
   "outputs": [
    {
     "data": {
      "text/plain": [
       "['Intercept',\n",
       " 'C(element)[T.2]',\n",
       " 'C(element)[T.4]',\n",
       " 'C(element)[T.5]',\n",
       " 'C(element)[T.6]',\n",
       " 'C(element)[T.7]',\n",
       " 'C(element)[T.8]',\n",
       " 'C(element)[T.9]',\n",
       " 'C(element)[T.11]',\n",
       " 'C(element)[T.12]',\n",
       " 'C(element)[T.13]',\n",
       " 'C(element)[T.14]',\n",
       " 'C(element)[T.15]',\n",
       " 'C(element)[T.17]',\n",
       " 'C(element)[T.18]',\n",
       " 'C(element)[T.22]',\n",
       " 'C(element)[T.23]',\n",
       " 'C(element)[T.24]',\n",
       " 'C(element)[T.26]',\n",
       " 'C(element)[T.27]',\n",
       " 'C(element)[T.28]',\n",
       " 'C(element)[T.29]',\n",
       " 'C(element)[T.31]',\n",
       " 'C(element)[T.33]',\n",
       " 'C(element)[T.35]',\n",
       " 'C(element)[T.36]',\n",
       " 'C(element)[T.37]',\n",
       " 'C(element)[T.39]',\n",
       " 'C(element)[T.40]',\n",
       " 'C(element)[T.42]',\n",
       " 'C(element)[T.43]',\n",
       " 'C(element)[T.45]',\n",
       " 'C(element)[T.47]',\n",
       " 'C(element)[T.48]',\n",
       " 'C(element)[T.49]',\n",
       " 'C(element)[T.50]',\n",
       " 'C(element)[T.51]',\n",
       " 'C(element)[T.54]',\n",
       " 'C(element)[T.55]',\n",
       " 'C(element)[T.56]',\n",
       " 'C(element)[T.57]',\n",
       " 'C(element)[T.58]',\n",
       " 'C(element)[T.59]',\n",
       " 'C(element)[T.60]',\n",
       " 'C(element)[T.61]',\n",
       " 'C(element)[T.62]',\n",
       " 'C(element)[T.66]',\n",
       " 'C(element)[T.69]',\n",
       " 'C(element)[T.70]',\n",
       " 'C(element)[T.71]',\n",
       " 'C(element)[T.72]',\n",
       " 'C(element)[T.73]',\n",
       " 'C(element)[T.74]',\n",
       " 'C(element)[T.75]',\n",
       " 'C(element)[T.76]',\n",
       " 'C(element)[T.77]',\n",
       " 'C(element)[T.78]',\n",
       " 'C(element)[T.79]',\n",
       " 'C(element)[T.80]',\n",
       " 'C(element)[T.82]',\n",
       " 'C(element)[T.83]',\n",
       " 'C(element)[T.84]',\n",
       " 'C(element)[T.85]',\n",
       " 'C(element)[T.87]',\n",
       " 'C(element)[T.88]',\n",
       " 'C(element)[T.90]',\n",
       " 'C(element)[T.91]',\n",
       " 'C(element)[T.92]',\n",
       " 'C(element)[T.94]',\n",
       " 'C(element)[T.95]',\n",
       " 'C(element)[T.98]',\n",
       " 'C(element)[T.99]',\n",
       " 'C(element)[T.100]',\n",
       " 'C(element)[T.101]',\n",
       " 'C(element)[T.102]',\n",
       " 'C(element)[T.105]',\n",
       " 'C(element)[T.106]',\n",
       " 'C(element)[T.110]',\n",
       " 'C(element)[T.113]',\n",
       " 'C(element)[T.115]',\n",
       " 'C(element)[T.116]',\n",
       " 'C(element)[T.118]',\n",
       " 'C(element)[T.122]',\n",
       " 'C(element)[T.124]',\n",
       " 'C(element)[T.125]',\n",
       " 'C(element)[T.126]',\n",
       " 'C(element)[T.127]',\n",
       " 'C(element)[T.133]',\n",
       " 'C(element)[T.134]',\n",
       " 'C(element)[T.135]',\n",
       " 'C(element)[T.137]',\n",
       " 'C(element)[T.138]',\n",
       " 'C(element)[T.140]',\n",
       " 'C(element)[T.141]',\n",
       " 'C(element)[T.142]',\n",
       " 'C(element)[T.143]',\n",
       " 'C(element)[T.145]',\n",
       " 'C(element)[T.147]',\n",
       " 'C(element)[T.149]',\n",
       " 'C(element)[T.150]',\n",
       " 'C(element)[T.151]',\n",
       " 'C(element)[T.152]',\n",
       " 'C(element)[T.154]',\n",
       " 'C(element)[T.156]',\n",
       " 'C(element)[T.157]',\n",
       " 'C(element)[T.160]',\n",
       " 'C(element)[T.161]',\n",
       " 'C(element)[T.162]',\n",
       " 'C(element)[T.164]',\n",
       " 'C(element)[T.167]',\n",
       " 'C(element)[T.168]',\n",
       " 'C(element)[T.169]',\n",
       " 'C(element)[T.172]',\n",
       " 'C(element)[T.175]',\n",
       " 'C(element)[T.177]',\n",
       " 'C(element)[T.178]',\n",
       " 'C(element)[T.180]',\n",
       " 'C(element)[T.181]',\n",
       " 'C(element)[T.182]',\n",
       " 'C(element)[T.183]',\n",
       " 'C(element)[T.184]',\n",
       " 'C(element)[T.189]',\n",
       " 'C(element)[T.190]',\n",
       " 'C(element)[T.191]',\n",
       " 'C(element)[T.192]',\n",
       " 'C(element)[T.193]',\n",
       " 'C(element)[T.195]',\n",
       " 'C(element)[T.197]',\n",
       " 'C(element)[T.198]',\n",
       " 'C(element)[T.199]',\n",
       " 'C(element)[T.200]',\n",
       " 'C(element)[T.201]',\n",
       " 'C(element)[T.202]',\n",
       " 'C(element)[T.206]',\n",
       " 'C(element)[T.208]',\n",
       " 'C(element)[T.210]',\n",
       " 'C(element)[T.211]',\n",
       " 'C(element)[T.213]',\n",
       " 'C(element)[T.215]',\n",
       " 'C(element)[T.219]',\n",
       " 'C(element)[T.220]',\n",
       " 'C(element)[T.221]',\n",
       " 'C(element)[T.222]',\n",
       " 'C(element)[T.223]',\n",
       " 'C(element)[T.224]',\n",
       " 'C(element)[T.225]',\n",
       " 'C(element)[T.226]',\n",
       " 'C(element)[T.227]',\n",
       " 'C(element)[T.231]',\n",
       " 'C(element)[T.233]',\n",
       " 'C(element)[T.234]',\n",
       " 'C(element)[T.236]',\n",
       " 'C(element)[T.239]',\n",
       " 'C(element)[T.242]',\n",
       " 'C(element)[T.243]',\n",
       " 'C(element)[T.245]',\n",
       " 'C(element)[T.246]',\n",
       " 'C(element)[T.247]',\n",
       " 'C(element)[T.249]',\n",
       " 'C(element)[T.251]',\n",
       " 'C(element)[T.252]',\n",
       " 'C(element)[T.253]',\n",
       " 'C(element)[T.254]',\n",
       " 'C(element)[T.255]',\n",
       " 'C(element)[T.256]',\n",
       " 'C(element)[T.257]',\n",
       " 'C(element)[T.258]',\n",
       " 'C(element)[T.260]',\n",
       " 'C(element)[T.262]',\n",
       " 'C(element)[T.263]',\n",
       " 'C(element)[T.264]',\n",
       " 'C(element)[T.265]',\n",
       " 'C(element)[T.267]',\n",
       " 'C(element)[T.268]',\n",
       " 'C(element)[T.269]',\n",
       " 'C(element)[T.270]',\n",
       " 'C(element)[T.271]',\n",
       " 'C(element)[T.272]',\n",
       " 'C(element)[T.274]',\n",
       " 'C(element)[T.275]',\n",
       " 'C(element)[T.276]',\n",
       " 'C(element)[T.280]',\n",
       " 'C(element)[T.281]',\n",
       " 'C(element)[T.282]',\n",
       " 'C(element)[T.284]',\n",
       " 'C(element)[T.285]',\n",
       " 'C(element)[T.286]',\n",
       " 'C(element)[T.288]',\n",
       " 'C(element)[T.289]',\n",
       " 'C(element)[T.291]',\n",
       " 'C(element)[T.292]',\n",
       " 'C(element)[T.293]',\n",
       " 'C(element)[T.294]',\n",
       " 'C(element)[T.295]',\n",
       " 'C(element)[T.296]',\n",
       " 'C(element)[T.297]',\n",
       " 'C(element)[T.298]',\n",
       " 'C(element)[T.299]',\n",
       " 'C(element)[T.300]',\n",
       " 'C(element)[T.301]',\n",
       " 'C(element)[T.302]',\n",
       " 'C(element)[T.304]',\n",
       " 'C(element)[T.305]',\n",
       " 'C(element)[T.306]',\n",
       " 'C(element)[T.309]',\n",
       " 'C(element)[T.310]',\n",
       " 'C(element)[T.311]',\n",
       " 'C(element)[T.312]',\n",
       " 'C(element)[T.313]',\n",
       " 'C(element)[T.315]',\n",
       " 'C(element)[T.317]',\n",
       " 'C(element)[T.318]',\n",
       " 'C(element)[T.319]',\n",
       " 'C(element)[T.320]',\n",
       " 'C(element)[T.324]',\n",
       " 'C(element)[T.326]',\n",
       " 'C(element)[T.327]',\n",
       " 'C(element)[T.328]',\n",
       " 'C(element)[T.330]',\n",
       " 'C(element)[T.331]',\n",
       " 'C(element)[T.332]',\n",
       " 'C(element)[T.333]',\n",
       " 'C(element)[T.335]',\n",
       " 'C(element)[T.336]',\n",
       " 'C(element)[T.339]',\n",
       " 'C(element)[T.340]',\n",
       " 'C(element)[T.343]',\n",
       " 'C(element)[T.344]',\n",
       " 'C(element)[T.345]',\n",
       " 'C(element)[T.346]',\n",
       " 'C(element)[T.347]',\n",
       " 'C(element)[T.348]',\n",
       " 'C(element)[T.349]',\n",
       " 'C(element)[T.351]',\n",
       " 'C(element)[T.352]',\n",
       " 'C(element)[T.353]',\n",
       " 'C(element)[T.354]',\n",
       " 'C(element)[T.355]',\n",
       " 'C(element)[T.356]',\n",
       " 'C(element)[T.357]',\n",
       " 'C(element)[T.359]',\n",
       " 'C(element)[T.360]',\n",
       " 'C(element)[T.361]',\n",
       " 'C(element)[T.362]',\n",
       " 'C(element)[T.363]',\n",
       " 'C(element)[T.364]',\n",
       " 'C(element)[T.365]',\n",
       " 'C(element)[T.367]',\n",
       " 'C(element)[T.368]',\n",
       " 'C(element)[T.369]',\n",
       " 'C(element)[T.370]',\n",
       " 'C(element)[T.372]',\n",
       " 'C(element)[T.376]',\n",
       " 'C(element)[T.378]',\n",
       " 'C(element)[T.380]',\n",
       " 'C(element)[T.381]',\n",
       " 'C(element)[T.382]',\n",
       " 'C(element)[T.383]',\n",
       " 'C(element)[T.386]',\n",
       " 'C(element)[T.389]',\n",
       " 'C(element)[T.390]',\n",
       " 'C(element)[T.391]',\n",
       " 'C(element)[T.392]',\n",
       " 'C(element)[T.393]',\n",
       " 'C(element)[T.394]',\n",
       " 'C(element)[T.395]',\n",
       " 'C(element)[T.396]',\n",
       " 'C(element)[T.400]',\n",
       " 'C(element)[T.402]',\n",
       " 'C(element)[T.403]',\n",
       " 'C(element)[T.405]',\n",
       " 'C(element)[T.406]',\n",
       " 'C(element)[T.408]',\n",
       " 'C(element)[T.409]',\n",
       " 'C(element)[T.410]',\n",
       " 'C(element)[T.411]',\n",
       " 'C(element)[T.412]',\n",
       " 'C(element)[T.413]',\n",
       " 'C(element)[T.415]',\n",
       " 'C(element)[T.417]',\n",
       " 'C(element)[T.419]',\n",
       " 'C(element)[T.423]',\n",
       " 'C(element)[T.425]',\n",
       " 'C(element)[T.426]',\n",
       " 'C(element)[T.427]',\n",
       " 'C(element)[T.430]',\n",
       " 'C(element)[T.431]',\n",
       " 'C(element)[T.432]',\n",
       " 'C(element)[T.433]',\n",
       " 'C(element)[T.435]',\n",
       " 'C(element)[T.437]',\n",
       " 'C(element)[T.440]',\n",
       " 'C(element)[T.445]',\n",
       " 'C(element)[T.446]',\n",
       " 'C(element)[T.447]',\n",
       " 'C(element)[T.450]',\n",
       " 'C(element)[T.451]',\n",
       " 'C(element)[T.453]',\n",
       " 'C(element)[T.454]',\n",
       " 'C(element)[T.455]',\n",
       " 'C(element)[T.456]',\n",
       " 'C(element)[T.458]',\n",
       " 'C(element)[T.459]',\n",
       " 'C(element)[T.460]',\n",
       " 'C(element)[T.461]',\n",
       " 'C(element)[T.462]',\n",
       " 'C(element)[T.463]',\n",
       " 'C(element)[T.464]',\n",
       " 'C(element)[T.465]',\n",
       " 'C(element)[T.466]',\n",
       " 'C(element)[T.467]',\n",
       " 'C(element)[T.468]',\n",
       " 'C(element)[T.473]',\n",
       " 'C(element)[T.474]',\n",
       " 'C(element)[T.475]',\n",
       " 'C(element)[T.476]',\n",
       " 'C(element)[T.478]',\n",
       " 'C(element)[T.479]',\n",
       " 'C(element)[T.480]',\n",
       " 'C(element)[T.481]',\n",
       " 'C(element)[T.482]',\n",
       " 'C(element)[T.483]',\n",
       " 'C(element)[T.484]',\n",
       " 'C(element)[T.486]',\n",
       " 'C(element)[T.487]',\n",
       " 'C(element)[T.488]',\n",
       " 'C(element)[T.489]',\n",
       " 'C(element)[T.490]',\n",
       " 'C(element)[T.492]',\n",
       " 'C(element)[T.493]',\n",
       " 'C(element)[T.494]',\n",
       " 'C(element)[T.498]',\n",
       " 'C(element)[T.499]',\n",
       " 'C(element)[T.503]',\n",
       " 'C(element)[T.504]',\n",
       " 'C(element)[T.505]',\n",
       " 'C(element)[T.506]',\n",
       " 'C(element)[T.507]',\n",
       " 'C(element)[T.508]',\n",
       " 'C(element)[T.509]',\n",
       " 'C(element)[T.510]',\n",
       " 'C(element)[T.511]',\n",
       " 'C(element)[T.512]',\n",
       " 'C(element)[T.513]',\n",
       " 'C(element)[T.516]',\n",
       " 'C(element)[T.517]',\n",
       " 'C(element)[T.518]',\n",
       " 'C(element)[T.524]',\n",
       " 'C(element)[T.526]',\n",
       " 'C(element)[T.527]',\n",
       " 'C(element)[T.534]',\n",
       " 'C(element)[T.536]',\n",
       " 'C(element)[T.539]',\n",
       " 'C(element)[T.549]',\n",
       " 'C(element)[T.556]',\n",
       " 'C(element_type)[T.2]',\n",
       " 'C(element_type)[T.3]',\n",
       " 'C(element_type)[T.4]',\n",
       " 'C(team)[T.2]',\n",
       " 'C(team)[T.3]',\n",
       " 'C(team)[T.4]',\n",
       " 'C(team)[T.5]',\n",
       " 'C(team)[T.6]',\n",
       " 'C(team)[T.7]',\n",
       " 'C(team)[T.8]',\n",
       " 'C(team)[T.9]',\n",
       " 'C(team)[T.10]',\n",
       " 'C(team)[T.11]',\n",
       " 'C(team)[T.12]',\n",
       " 'C(team)[T.13]',\n",
       " 'C(team)[T.14]',\n",
       " 'C(team)[T.15]',\n",
       " 'C(team)[T.16]',\n",
       " 'C(team)[T.17]',\n",
       " 'C(team)[T.18]',\n",
       " 'C(team)[T.19]',\n",
       " 'C(team)[T.20]',\n",
       " 'C(opposition_team)[T.2]',\n",
       " 'C(opposition_team)[T.3]',\n",
       " 'C(opposition_team)[T.4]',\n",
       " 'C(opposition_team)[T.5]',\n",
       " 'C(opposition_team)[T.6]',\n",
       " 'C(opposition_team)[T.7]',\n",
       " 'C(opposition_team)[T.8]',\n",
       " 'C(opposition_team)[T.9]',\n",
       " 'C(opposition_team)[T.10]',\n",
       " 'C(opposition_team)[T.11]',\n",
       " 'C(opposition_team)[T.12]',\n",
       " 'C(opposition_team)[T.13]',\n",
       " 'C(opposition_team)[T.14]',\n",
       " 'C(opposition_team)[T.15]',\n",
       " 'C(opposition_team)[T.16]',\n",
       " 'C(opposition_team)[T.17]',\n",
       " 'C(opposition_team)[T.18]',\n",
       " 'C(opposition_team)[T.19]',\n",
       " 'C(opposition_team)[T.20]',\n",
       " 'was_home',\n",
       " 'is_sunday',\n",
       " 'is_weekday',\n",
       " 'is_early',\n",
       " 'is_late',\n",
       " 'value',\n",
       " 'rolling_avg_total_points_element',\n",
       " 'rolling_max_total_points_element',\n",
       " 'has_high_points_ever_element',\n",
       " 'rolling_avg_bonus_element',\n",
       " 'rolling_avg_goals_scored_element',\n",
       " 'rolling_avg_minutes_element',\n",
       " 'rolling_avg_clean_sheets_element',\n",
       " 'rolling_avg_completed_passes_element',\n",
       " 'rolling_avg_recoveries_element',\n",
       " 'rolling_avg_assists_element',\n",
       " 'rolling_avg_key_passes_element',\n",
       " 'rolling_avg_winning_goals_element',\n",
       " 'rolling_avg_tackled_element',\n",
       " 'rolling_avg_dribbles_element',\n",
       " 'rolling_avg_clearances_blocks_interceptions_element',\n",
       " 'rolling_avg_big_chances_created_element',\n",
       " 'rolling_avg_target_missed_element',\n",
       " 'rolling_avg_fouls_element',\n",
       " 'rolling_avg_tackles_element',\n",
       " 'rolling_avg_open_play_crosses_element',\n",
       " 'rolling_avg_offside_element',\n",
       " 'rolling_avg_big_chances_missed_element',\n",
       " 'rolling_avg_saves_element',\n",
       " 'rolling_avg_goals_conceded_element',\n",
       " 'rolling_avg_minutes_element_p3',\n",
       " 'rolling_avg_total_points_element_p3',\n",
       " 'total_points_element_premium_p3',\n",
       " 'rolling_avg_total_points_own_team',\n",
       " 'rolling_avg_total_points_element_type',\n",
       " 'rolling_avg_total_points_opposition_team',\n",
       " 'rolling_avg_total_points_against_opposition_team_element_type',\n",
       " 'expected_total_points_against_opposition_team_home_away']"
      ]
     },
     "execution_count": 26,
     "metadata": {},
     "output_type": "execute_result"
    }
   ],
   "source": [
    "X_ref.design_info.column_names"
   ]
  },
  {
   "cell_type": "markdown",
   "metadata": {},
   "source": [
    "## Selecting features"
   ]
  },
  {
   "cell_type": "markdown",
   "metadata": {},
   "source": [
    "### Full feature set"
   ]
  },
  {
   "cell_type": "code",
   "execution_count": null,
   "metadata": {
    "ExecuteTime": {
     "start_time": "2019-07-26T16:42:16.108Z"
    }
   },
   "outputs": [
    {
     "name": "stdout",
     "output_type": "stream",
     "text": [
      "Fitting estimator with 441 features.\n",
      "Fitting estimator with 440 features.\n",
      "Fitting estimator with 439 features.\n",
      "Fitting estimator with 438 features.\n",
      "Fitting estimator with 437 features.\n",
      "Fitting estimator with 436 features.\n",
      "Fitting estimator with 435 features.\n",
      "Fitting estimator with 434 features.\n",
      "Fitting estimator with 433 features.\n",
      "Fitting estimator with 432 features.\n",
      "Fitting estimator with 431 features.\n",
      "Fitting estimator with 430 features.\n",
      "Fitting estimator with 429 features.\n",
      "Fitting estimator with 428 features.\n",
      "Fitting estimator with 427 features.\n",
      "Fitting estimator with 426 features.\n",
      "Fitting estimator with 425 features.\n",
      "Fitting estimator with 424 features.\n",
      "Fitting estimator with 423 features.\n",
      "Fitting estimator with 422 features.\n",
      "Fitting estimator with 421 features.\n",
      "Fitting estimator with 420 features.\n",
      "Fitting estimator with 419 features.\n",
      "Fitting estimator with 418 features.\n",
      "Fitting estimator with 417 features.\n",
      "Fitting estimator with 416 features.\n",
      "Fitting estimator with 415 features.\n",
      "Fitting estimator with 414 features.\n",
      "Fitting estimator with 413 features.\n",
      "Fitting estimator with 412 features.\n",
      "Fitting estimator with 411 features.\n",
      "Fitting estimator with 410 features.\n",
      "Fitting estimator with 409 features.\n",
      "Fitting estimator with 408 features.\n",
      "Fitting estimator with 407 features.\n",
      "Fitting estimator with 406 features.\n",
      "Fitting estimator with 405 features.\n",
      "Fitting estimator with 404 features.\n",
      "Fitting estimator with 403 features.\n",
      "Fitting estimator with 402 features.\n",
      "Fitting estimator with 401 features.\n",
      "Fitting estimator with 400 features.\n",
      "Fitting estimator with 399 features.\n",
      "Fitting estimator with 398 features.\n",
      "Fitting estimator with 397 features.\n",
      "Fitting estimator with 396 features.\n",
      "Fitting estimator with 395 features.\n",
      "Fitting estimator with 394 features.\n",
      "Fitting estimator with 393 features.\n",
      "Fitting estimator with 392 features.\n",
      "Fitting estimator with 391 features.\n",
      "Fitting estimator with 390 features.\n",
      "Fitting estimator with 389 features.\n",
      "Fitting estimator with 388 features.\n",
      "Fitting estimator with 387 features.\n",
      "Fitting estimator with 386 features.\n",
      "Fitting estimator with 385 features.\n",
      "Fitting estimator with 384 features.\n",
      "Fitting estimator with 383 features.\n",
      "Fitting estimator with 382 features.\n",
      "Fitting estimator with 381 features.\n",
      "Fitting estimator with 380 features.\n",
      "Fitting estimator with 379 features.\n",
      "Fitting estimator with 378 features.\n",
      "Fitting estimator with 377 features.\n",
      "Fitting estimator with 376 features.\n",
      "Fitting estimator with 375 features.\n",
      "Fitting estimator with 374 features.\n",
      "Fitting estimator with 373 features.\n",
      "Fitting estimator with 372 features.\n",
      "Fitting estimator with 371 features.\n",
      "Fitting estimator with 370 features.\n",
      "Fitting estimator with 369 features.\n",
      "Fitting estimator with 368 features.\n",
      "Fitting estimator with 367 features.\n",
      "Fitting estimator with 366 features.\n",
      "Fitting estimator with 365 features.\n",
      "Fitting estimator with 364 features.\n",
      "Fitting estimator with 363 features.\n",
      "Fitting estimator with 362 features.\n",
      "Fitting estimator with 361 features.\n",
      "Fitting estimator with 360 features.\n",
      "Fitting estimator with 359 features.\n",
      "Fitting estimator with 358 features.\n",
      "Fitting estimator with 357 features.\n",
      "Fitting estimator with 356 features.\n",
      "Fitting estimator with 355 features.\n",
      "Fitting estimator with 354 features.\n",
      "Fitting estimator with 353 features.\n",
      "Fitting estimator with 352 features.\n",
      "Fitting estimator with 351 features.\n",
      "Fitting estimator with 350 features.\n",
      "Fitting estimator with 349 features.\n",
      "Fitting estimator with 348 features.\n",
      "Fitting estimator with 347 features.\n",
      "Fitting estimator with 346 features.\n",
      "Fitting estimator with 345 features.\n",
      "Fitting estimator with 344 features.\n",
      "Fitting estimator with 343 features.\n",
      "Fitting estimator with 342 features.\n",
      "Fitting estimator with 341 features.\n",
      "Fitting estimator with 340 features.\n",
      "Fitting estimator with 339 features.\n",
      "Fitting estimator with 338 features.\n",
      "Fitting estimator with 337 features.\n",
      "Fitting estimator with 336 features.\n",
      "Fitting estimator with 335 features.\n",
      "Fitting estimator with 334 features.\n",
      "Fitting estimator with 333 features.\n",
      "Fitting estimator with 332 features.\n",
      "Fitting estimator with 331 features.\n",
      "Fitting estimator with 330 features.\n",
      "Fitting estimator with 329 features.\n",
      "Fitting estimator with 328 features.\n",
      "Fitting estimator with 327 features.\n",
      "Fitting estimator with 326 features.\n",
      "Fitting estimator with 325 features.\n",
      "Fitting estimator with 324 features.\n",
      "Fitting estimator with 323 features.\n",
      "Fitting estimator with 322 features.\n",
      "Fitting estimator with 321 features.\n",
      "Fitting estimator with 320 features.\n",
      "Fitting estimator with 319 features.\n",
      "Fitting estimator with 318 features.\n",
      "Fitting estimator with 317 features.\n",
      "Fitting estimator with 316 features.\n",
      "Fitting estimator with 315 features.\n",
      "Fitting estimator with 314 features.\n",
      "Fitting estimator with 313 features.\n",
      "Fitting estimator with 312 features.\n",
      "Fitting estimator with 311 features.\n",
      "Fitting estimator with 310 features.\n",
      "Fitting estimator with 309 features.\n",
      "Fitting estimator with 308 features.\n",
      "Fitting estimator with 307 features.\n",
      "Fitting estimator with 306 features.\n",
      "Fitting estimator with 305 features.\n",
      "Fitting estimator with 304 features.\n",
      "Fitting estimator with 303 features.\n",
      "Fitting estimator with 302 features.\n",
      "Fitting estimator with 301 features.\n",
      "Fitting estimator with 300 features.\n",
      "Fitting estimator with 299 features.\n",
      "Fitting estimator with 298 features.\n",
      "Fitting estimator with 297 features.\n",
      "Fitting estimator with 296 features.\n",
      "Fitting estimator with 295 features.\n",
      "Fitting estimator with 294 features.\n",
      "Fitting estimator with 293 features.\n",
      "Fitting estimator with 292 features.\n",
      "Fitting estimator with 291 features.\n",
      "Fitting estimator with 290 features.\n",
      "Fitting estimator with 289 features.\n",
      "Fitting estimator with 288 features.\n",
      "Fitting estimator with 287 features.\n",
      "Fitting estimator with 286 features.\n",
      "Fitting estimator with 285 features.\n",
      "Fitting estimator with 284 features.\n",
      "Fitting estimator with 283 features.\n",
      "Fitting estimator with 282 features.\n",
      "Fitting estimator with 281 features.\n",
      "Fitting estimator with 280 features.\n",
      "Fitting estimator with 279 features.\n",
      "Fitting estimator with 278 features.\n",
      "Fitting estimator with 277 features.\n",
      "Fitting estimator with 276 features.\n",
      "Fitting estimator with 275 features.\n",
      "Fitting estimator with 274 features.\n",
      "Fitting estimator with 273 features.\n",
      "Fitting estimator with 272 features.\n",
      "Fitting estimator with 271 features.\n",
      "Fitting estimator with 270 features.\n",
      "Fitting estimator with 269 features.\n",
      "Fitting estimator with 268 features.\n",
      "Fitting estimator with 267 features.\n",
      "Fitting estimator with 266 features.\n",
      "Fitting estimator with 265 features.\n",
      "Fitting estimator with 264 features.\n",
      "Fitting estimator with 263 features.\n",
      "Fitting estimator with 262 features.\n",
      "Fitting estimator with 261 features.\n",
      "Fitting estimator with 260 features.\n",
      "Fitting estimator with 259 features.\n",
      "Fitting estimator with 258 features.\n",
      "Fitting estimator with 257 features.\n",
      "Fitting estimator with 256 features.\n",
      "Fitting estimator with 255 features.\n",
      "Fitting estimator with 254 features.\n"
     ]
    }
   ],
   "source": [
    "estimator_full = SVR(kernel=\"linear\", C=1, epsilon=1)\n",
    "selector_full = RFECV(estimator_full, step=1,\n",
    "                 scoring='neg_mean_squared_error',\n",
    "                 cv=ps, n_jobs=1, verbose=1)\n",
    "selector_full.fit(X_full, y_full.ravel())"
   ]
  },
  {
   "cell_type": "code",
   "execution_count": 57,
   "metadata": {
    "ExecuteTime": {
     "end_time": "2019-07-27T08:17:42.643700Z",
     "start_time": "2019-07-27T08:17:42.633842Z"
    }
   },
   "outputs": [
    {
     "data": {
      "text/plain": [
       "array([False, False,  True, False,  True,  True,  True,  True, False,\n",
       "        True,  True,  True, False, False,  True, False,  True,  True,\n",
       "       False,  True,  True, False, False,  True,  True, False,  True,\n",
       "        True,  True,  True,  True, False, False,  True,  True,  True,\n",
       "       False,  True,  True,  True, False,  True,  True,  True, False,\n",
       "        True,  True,  True, False,  True,  True,  True, False,  True,\n",
       "        True,  True, False,  True,  True, False, False,  True,  True,\n",
       "       False,  True,  True,  True,  True, False,  True,  True, False,\n",
       "       False,  True, False,  True, False,  True,  True,  True,  True,\n",
       "        True,  True,  True,  True,  True,  True, False,  True, False,\n",
       "        True, False,  True, False,  True,  True,  True,  True, False,\n",
       "       False,  True,  True, False,  True,  True,  True, False, False,\n",
       "        True,  True,  True,  True,  True,  True, False,  True, False,\n",
       "        True, False,  True, False,  True,  True,  True,  True,  True,\n",
       "        True, False, False, False,  True, False,  True,  True, False,\n",
       "        True,  True,  True,  True,  True, False,  True, False, False,\n",
       "       False,  True,  True, False,  True,  True,  True,  True, False,\n",
       "        True,  True,  True,  True,  True,  True,  True,  True,  True,\n",
       "        True, False,  True,  True,  True,  True,  True,  True,  True,\n",
       "        True, False,  True,  True,  True,  True,  True, False,  True,\n",
       "        True,  True,  True,  True,  True, False, False,  True,  True,\n",
       "        True, False, False,  True,  True, False, False, False,  True,\n",
       "        True,  True,  True,  True,  True,  True,  True, False, False,\n",
       "        True, False,  True,  True,  True, False, False,  True,  True,\n",
       "        True,  True, False,  True,  True,  True,  True,  True, False,\n",
       "        True,  True, False, False,  True, False, False, False, False,\n",
       "        True,  True, False,  True,  True,  True, False,  True,  True,\n",
       "        True, False,  True, False, False,  True,  True,  True,  True,\n",
       "        True, False,  True, False, False,  True,  True,  True,  True,\n",
       "       False,  True,  True,  True,  True, False,  True,  True,  True,\n",
       "       False, False,  True,  True,  True,  True, False, False,  True,\n",
       "        True,  True,  True,  True,  True,  True, False,  True,  True,\n",
       "        True, False,  True,  True,  True, False,  True,  True,  True,\n",
       "        True, False,  True,  True, False,  True, False, False,  True,\n",
       "       False,  True,  True, False,  True,  True,  True,  True, False,\n",
       "        True,  True,  True,  True, False,  True,  True,  True,  True,\n",
       "        True,  True, False,  True,  True,  True, False,  True,  True,\n",
       "        True,  True,  True,  True, False, False,  True,  True,  True,\n",
       "        True,  True,  True,  True, False, False, False,  True, False,\n",
       "        True,  True, False, False,  True,  True,  True,  True, False,\n",
       "       False, False,  True,  True,  True, False,  True, False,  True,\n",
       "        True,  True, False,  True,  True,  True,  True,  True,  True,\n",
       "        True,  True,  True,  True,  True,  True,  True,  True, False,\n",
       "        True,  True,  True,  True,  True,  True,  True,  True,  True,\n",
       "        True,  True,  True, False,  True,  True,  True, False,  True,\n",
       "        True, False,  True,  True, False,  True, False, False, False,\n",
       "       False,  True,  True,  True, False, False, False, False, False,\n",
       "        True, False, False, False,  True, False, False,  True,  True,\n",
       "        True, False, False,  True, False, False, False,  True, False])"
      ]
     },
     "execution_count": 57,
     "metadata": {},
     "output_type": "execute_result"
    }
   ],
   "source": [
    "selector_full.support_"
   ]
  },
  {
   "cell_type": "code",
   "execution_count": 58,
   "metadata": {
    "ExecuteTime": {
     "end_time": "2019-07-27T08:17:55.579405Z",
     "start_time": "2019-07-27T08:17:55.224286Z"
    }
   },
   "outputs": [
    {
     "name": "stdout",
     "output_type": "stream",
     "text": [
      "301\n"
     ]
    },
    {
     "data": {
      "text/plain": [
       "['C(element)[T.4]',\n",
       " 'C(element)[T.6]',\n",
       " 'C(element)[T.7]',\n",
       " 'C(element)[T.8]',\n",
       " 'C(element)[T.9]',\n",
       " 'C(element)[T.12]',\n",
       " 'C(element)[T.13]',\n",
       " 'C(element)[T.14]',\n",
       " 'C(element)[T.18]',\n",
       " 'C(element)[T.23]',\n",
       " 'C(element)[T.24]',\n",
       " 'C(element)[T.27]',\n",
       " 'C(element)[T.28]',\n",
       " 'C(element)[T.33]',\n",
       " 'C(element)[T.35]',\n",
       " 'C(element)[T.37]',\n",
       " 'C(element)[T.39]',\n",
       " 'C(element)[T.40]',\n",
       " 'C(element)[T.42]',\n",
       " 'C(element)[T.43]',\n",
       " 'C(element)[T.48]',\n",
       " 'C(element)[T.49]',\n",
       " 'C(element)[T.50]',\n",
       " 'C(element)[T.54]',\n",
       " 'C(element)[T.55]',\n",
       " 'C(element)[T.56]',\n",
       " 'C(element)[T.58]',\n",
       " 'C(element)[T.59]',\n",
       " 'C(element)[T.60]',\n",
       " 'C(element)[T.62]',\n",
       " 'C(element)[T.66]',\n",
       " 'C(element)[T.69]',\n",
       " 'C(element)[T.71]',\n",
       " 'C(element)[T.72]',\n",
       " 'C(element)[T.73]',\n",
       " 'C(element)[T.75]',\n",
       " 'C(element)[T.76]',\n",
       " 'C(element)[T.77]',\n",
       " 'C(element)[T.79]',\n",
       " 'C(element)[T.80]',\n",
       " 'C(element)[T.84]',\n",
       " 'C(element)[T.85]',\n",
       " 'C(element)[T.88]',\n",
       " 'C(element)[T.90]',\n",
       " 'C(element)[T.91]',\n",
       " 'C(element)[T.92]',\n",
       " 'C(element)[T.95]',\n",
       " 'C(element)[T.98]',\n",
       " 'C(element)[T.101]',\n",
       " 'C(element)[T.105]',\n",
       " 'C(element)[T.110]',\n",
       " 'C(element)[T.113]',\n",
       " 'C(element)[T.115]',\n",
       " 'C(element)[T.116]',\n",
       " 'C(element)[T.118]',\n",
       " 'C(element)[T.122]',\n",
       " 'C(element)[T.124]',\n",
       " 'C(element)[T.125]',\n",
       " 'C(element)[T.126]',\n",
       " 'C(element)[T.127]',\n",
       " 'C(element)[T.134]',\n",
       " 'C(element)[T.137]',\n",
       " 'C(element)[T.140]',\n",
       " 'C(element)[T.142]',\n",
       " 'C(element)[T.143]',\n",
       " 'C(element)[T.145]',\n",
       " 'C(element)[T.147]',\n",
       " 'C(element)[T.151]',\n",
       " 'C(element)[T.152]',\n",
       " 'C(element)[T.156]',\n",
       " 'C(element)[T.157]',\n",
       " 'C(element)[T.160]',\n",
       " 'C(element)[T.164]',\n",
       " 'C(element)[T.167]',\n",
       " 'C(element)[T.168]',\n",
       " 'C(element)[T.169]',\n",
       " 'C(element)[T.172]',\n",
       " 'C(element)[T.175]',\n",
       " 'C(element)[T.178]',\n",
       " 'C(element)[T.181]',\n",
       " 'C(element)[T.183]',\n",
       " 'C(element)[T.189]',\n",
       " 'C(element)[T.190]',\n",
       " 'C(element)[T.191]',\n",
       " 'C(element)[T.192]',\n",
       " 'C(element)[T.193]',\n",
       " 'C(element)[T.195]',\n",
       " 'C(element)[T.200]',\n",
       " 'C(element)[T.202]',\n",
       " 'C(element)[T.206]',\n",
       " 'C(element)[T.210]',\n",
       " 'C(element)[T.211]',\n",
       " 'C(element)[T.213]',\n",
       " 'C(element)[T.215]',\n",
       " 'C(element)[T.219]',\n",
       " 'C(element)[T.221]',\n",
       " 'C(element)[T.225]',\n",
       " 'C(element)[T.226]',\n",
       " 'C(element)[T.231]',\n",
       " 'C(element)[T.233]',\n",
       " 'C(element)[T.234]',\n",
       " 'C(element)[T.236]',\n",
       " 'C(element)[T.242]',\n",
       " 'C(element)[T.243]',\n",
       " 'C(element)[T.245]',\n",
       " 'C(element)[T.246]',\n",
       " 'C(element)[T.247]',\n",
       " 'C(element)[T.249]',\n",
       " 'C(element)[T.251]',\n",
       " 'C(element)[T.252]',\n",
       " 'C(element)[T.253]',\n",
       " 'C(element)[T.254]',\n",
       " 'C(element)[T.256]',\n",
       " 'C(element)[T.257]',\n",
       " 'C(element)[T.258]',\n",
       " 'C(element)[T.260]',\n",
       " 'C(element)[T.262]',\n",
       " 'C(element)[T.263]',\n",
       " 'C(element)[T.264]',\n",
       " 'C(element)[T.265]',\n",
       " 'C(element)[T.268]',\n",
       " 'C(element)[T.269]',\n",
       " 'C(element)[T.270]',\n",
       " 'C(element)[T.271]',\n",
       " 'C(element)[T.272]',\n",
       " 'C(element)[T.275]',\n",
       " 'C(element)[T.276]',\n",
       " 'C(element)[T.280]',\n",
       " 'C(element)[T.281]',\n",
       " 'C(element)[T.282]',\n",
       " 'C(element)[T.284]',\n",
       " 'C(element)[T.288]',\n",
       " 'C(element)[T.289]',\n",
       " 'C(element)[T.291]',\n",
       " 'C(element)[T.294]',\n",
       " 'C(element)[T.295]',\n",
       " 'C(element)[T.299]',\n",
       " 'C(element)[T.300]',\n",
       " 'C(element)[T.301]',\n",
       " 'C(element)[T.302]',\n",
       " 'C(element)[T.304]',\n",
       " 'C(element)[T.305]',\n",
       " 'C(element)[T.306]',\n",
       " 'C(element)[T.309]',\n",
       " 'C(element)[T.312]',\n",
       " 'C(element)[T.315]',\n",
       " 'C(element)[T.317]',\n",
       " 'C(element)[T.318]',\n",
       " 'C(element)[T.324]',\n",
       " 'C(element)[T.326]',\n",
       " 'C(element)[T.327]',\n",
       " 'C(element)[T.328]',\n",
       " 'C(element)[T.331]',\n",
       " 'C(element)[T.332]',\n",
       " 'C(element)[T.333]',\n",
       " 'C(element)[T.335]',\n",
       " 'C(element)[T.336]',\n",
       " 'C(element)[T.340]',\n",
       " 'C(element)[T.343]',\n",
       " 'C(element)[T.346]',\n",
       " 'C(element)[T.352]',\n",
       " 'C(element)[T.353]',\n",
       " 'C(element)[T.355]',\n",
       " 'C(element)[T.356]',\n",
       " 'C(element)[T.357]',\n",
       " 'C(element)[T.360]',\n",
       " 'C(element)[T.361]',\n",
       " 'C(element)[T.362]',\n",
       " 'C(element)[T.364]',\n",
       " 'C(element)[T.368]',\n",
       " 'C(element)[T.369]',\n",
       " 'C(element)[T.370]',\n",
       " 'C(element)[T.372]',\n",
       " 'C(element)[T.376]',\n",
       " 'C(element)[T.380]',\n",
       " 'C(element)[T.383]',\n",
       " 'C(element)[T.386]',\n",
       " 'C(element)[T.389]',\n",
       " 'C(element)[T.390]',\n",
       " 'C(element)[T.392]',\n",
       " 'C(element)[T.393]',\n",
       " 'C(element)[T.394]',\n",
       " 'C(element)[T.395]',\n",
       " 'C(element)[T.400]',\n",
       " 'C(element)[T.402]',\n",
       " 'C(element)[T.403]',\n",
       " 'C(element)[T.408]',\n",
       " 'C(element)[T.409]',\n",
       " 'C(element)[T.410]',\n",
       " 'C(element)[T.411]',\n",
       " 'C(element)[T.415]',\n",
       " 'C(element)[T.417]',\n",
       " 'C(element)[T.419]',\n",
       " 'C(element)[T.423]',\n",
       " 'C(element)[T.425]',\n",
       " 'C(element)[T.426]',\n",
       " 'C(element)[T.427]',\n",
       " 'C(element)[T.431]',\n",
       " 'C(element)[T.432]',\n",
       " 'C(element)[T.433]',\n",
       " 'C(element)[T.437]',\n",
       " 'C(element)[T.440]',\n",
       " 'C(element)[T.445]',\n",
       " 'C(element)[T.447]',\n",
       " 'C(element)[T.450]',\n",
       " 'C(element)[T.451]',\n",
       " 'C(element)[T.453]',\n",
       " 'C(element)[T.455]',\n",
       " 'C(element)[T.456]',\n",
       " 'C(element)[T.459]',\n",
       " 'C(element)[T.462]',\n",
       " 'C(element)[T.464]',\n",
       " 'C(element)[T.465]',\n",
       " 'C(element)[T.467]',\n",
       " 'C(element)[T.468]',\n",
       " 'C(element)[T.473]',\n",
       " 'C(element)[T.474]',\n",
       " 'C(element)[T.476]',\n",
       " 'C(element)[T.478]',\n",
       " 'C(element)[T.479]',\n",
       " 'C(element)[T.480]',\n",
       " 'C(element)[T.482]',\n",
       " 'C(element)[T.483]',\n",
       " 'C(element)[T.484]',\n",
       " 'C(element)[T.486]',\n",
       " 'C(element)[T.487]',\n",
       " 'C(element)[T.488]',\n",
       " 'C(element)[T.490]',\n",
       " 'C(element)[T.492]',\n",
       " 'C(element)[T.493]',\n",
       " 'C(element)[T.498]',\n",
       " 'C(element)[T.499]',\n",
       " 'C(element)[T.503]',\n",
       " 'C(element)[T.504]',\n",
       " 'C(element)[T.505]',\n",
       " 'C(element)[T.506]',\n",
       " 'C(element)[T.509]',\n",
       " 'C(element)[T.510]',\n",
       " 'C(element)[T.511]',\n",
       " 'C(element)[T.512]',\n",
       " 'C(element)[T.513]',\n",
       " 'C(element)[T.516]',\n",
       " 'C(element)[T.517]',\n",
       " 'C(element)[T.527]',\n",
       " 'C(element)[T.536]',\n",
       " 'C(element)[T.539]',\n",
       " 'C(element_type)[T.2]',\n",
       " 'C(element_type)[T.3]',\n",
       " 'C(element_type)[T.4]',\n",
       " 'C(team)[T.2]',\n",
       " 'C(team)[T.6]',\n",
       " 'C(team)[T.7]',\n",
       " 'C(team)[T.8]',\n",
       " 'C(team)[T.10]',\n",
       " 'C(team)[T.12]',\n",
       " 'C(team)[T.13]',\n",
       " 'C(team)[T.14]',\n",
       " 'C(team)[T.16]',\n",
       " 'C(team)[T.17]',\n",
       " 'C(team)[T.18]',\n",
       " 'C(team)[T.19]',\n",
       " 'C(team)[T.20]',\n",
       " 'C(opposition_team)[T.2]',\n",
       " 'C(opposition_team)[T.3]',\n",
       " 'C(opposition_team)[T.4]',\n",
       " 'C(opposition_team)[T.5]',\n",
       " 'C(opposition_team)[T.6]',\n",
       " 'C(opposition_team)[T.7]',\n",
       " 'C(opposition_team)[T.8]',\n",
       " 'C(opposition_team)[T.9]',\n",
       " 'C(opposition_team)[T.10]',\n",
       " 'C(opposition_team)[T.12]',\n",
       " 'C(opposition_team)[T.13]',\n",
       " 'C(opposition_team)[T.14]',\n",
       " 'C(opposition_team)[T.15]',\n",
       " 'C(opposition_team)[T.16]',\n",
       " 'C(opposition_team)[T.17]',\n",
       " 'C(opposition_team)[T.18]',\n",
       " 'C(opposition_team)[T.19]',\n",
       " 'C(opposition_team)[T.20]',\n",
       " 'was_home',\n",
       " 'is_sunday',\n",
       " 'is_weekday',\n",
       " 'is_late',\n",
       " 'value',\n",
       " 'rolling_avg_total_points_element',\n",
       " 'has_high_points_ever_element',\n",
       " 'rolling_avg_bps_element',\n",
       " 'rolling_avg_goals_scored_element',\n",
       " 'rolling_avg_minutes_element',\n",
       " 'rolling_avg_completed_passes_element',\n",
       " 'rolling_avg_tackled_element',\n",
       " 'rolling_avg_dribbles_element',\n",
       " 'rolling_avg_clearances_blocks_interceptions_element',\n",
       " 'rolling_avg_offside_element',\n",
       " 'rolling_avg_minutes_element_p3',\n",
       " 'rolling_avg_bps_element_p3',\n",
       " 'rolling_avg_total_points_own_team',\n",
       " 'expected_total_points_element_home_away',\n",
       " 'rolling_avg_total_points_against_opposition_team',\n",
       " 'rolling_avg_total_points_against_opposition_team_element_type_away']"
      ]
     },
     "execution_count": 58,
     "metadata": {},
     "output_type": "execute_result"
    }
   ],
   "source": [
    "features_full = patsy.dmatrices(formula_full, element_gameweek_df, return_type='dataframe')[1].columns\n",
    "selected_features_full = pd.Series(features_full)[selector_full.support_]\n",
    "print(len(list(selected_features_full)))\n",
    "list(selected_features_full)"
   ]
  },
  {
   "cell_type": "code",
   "execution_count": 59,
   "metadata": {
    "ExecuteTime": {
     "end_time": "2019-07-27T08:17:58.308424Z",
     "start_time": "2019-07-27T08:17:58.278101Z"
    }
   },
   "outputs": [],
   "source": [
    "X_full_sel = X_full[:,selector_full.support_]\n",
    "X_full_train_sel = X_full_train[:,selector_full.support_]\n",
    "X_full_test_sel = X_full_test[:,selector_full.support_]"
   ]
  },
  {
   "cell_type": "markdown",
   "metadata": {
    "heading_collapsed": true
   },
   "source": [
    "### Refined feature set"
   ]
  },
  {
   "cell_type": "code",
   "execution_count": null,
   "metadata": {
    "ExecuteTime": {
     "start_time": "2019-07-26T16:42:24.074Z"
    },
    "hidden": true
   },
   "outputs": [],
   "source": [
    "estimator_ref = SVR(kernel=\"linear\", C=1, epsilon=1)\n",
    "selector_ref = RFECV(estimator_ref, step=1,\n",
    "                 scoring='neg_mean_squared_error',\n",
    "                 cv=ps, n_jobs=1, verbose=1)\n",
    "selector_ref.fit(X_ref, y_ref.ravel())"
   ]
  },
  {
   "cell_type": "code",
   "execution_count": 60,
   "metadata": {
    "ExecuteTime": {
     "end_time": "2019-07-27T08:18:02.341266Z",
     "start_time": "2019-07-27T08:18:02.330702Z"
    },
    "hidden": true
   },
   "outputs": [
    {
     "data": {
      "text/plain": [
       "array([False, False,  True, False,  True,  True,  True,  True, False,\n",
       "        True,  True,  True, False, False,  True, False,  True,  True,\n",
       "       False,  True,  True, False, False,  True, False, False,  True,\n",
       "        True,  True,  True,  True, False, False,  True,  True,  True,\n",
       "       False,  True,  True,  True, False,  True, False,  True, False,\n",
       "        True,  True,  True, False,  True,  True,  True, False,  True,\n",
       "        True,  True, False,  True,  True,  True, False,  True,  True,\n",
       "       False,  True,  True,  True,  True,  True,  True,  True, False,\n",
       "       False,  True, False, False, False,  True,  True,  True,  True,\n",
       "        True,  True,  True, False,  True,  True, False,  True, False,\n",
       "        True, False,  True, False, False, False,  True,  True,  True,\n",
       "       False,  True,  True, False,  True,  True,  True, False, False,\n",
       "        True,  True,  True,  True,  True,  True,  True,  True, False,\n",
       "        True, False,  True, False,  True,  True,  True,  True, False,\n",
       "        True, False, False,  True,  True, False,  True,  True, False,\n",
       "        True,  True, False,  True,  True,  True,  True, False, False,\n",
       "       False,  True,  True, False,  True,  True,  True, False, False,\n",
       "        True,  True,  True,  True,  True,  True,  True,  True,  True,\n",
       "        True, False,  True,  True,  True,  True,  True,  True,  True,\n",
       "        True, False,  True,  True,  True,  True,  True, False,  True,\n",
       "        True,  True,  True,  True, False, False,  True,  True,  True,\n",
       "       False, False, False,  True,  True, False, False, False,  True,\n",
       "        True,  True, False,  True,  True,  True,  True, False, False,\n",
       "        True, False,  True, False,  True, False, False,  True, False,\n",
       "        True,  True, False,  True,  True,  True,  True, False, False,\n",
       "       False,  True,  True, False,  True, False, False, False, False,\n",
       "        True,  True, False, False,  True,  True, False,  True, False,\n",
       "        True, False,  True,  True, False,  True,  True,  True,  True,\n",
       "        True, False, False, False, False,  True,  True,  True,  True,\n",
       "        True, False,  True,  True,  True, False,  True,  True,  True,\n",
       "        True, False,  True,  True, False,  True, False, False,  True,\n",
       "        True,  True,  True,  True,  True,  True, False,  True,  True,\n",
       "        True, False,  True, False, False, False,  True,  True,  True,\n",
       "        True, False,  True,  True, False,  True, False, False,  True,\n",
       "       False,  True,  True, False,  True,  True,  True,  True, False,\n",
       "        True,  True,  True,  True, False,  True,  True,  True, False,\n",
       "        True,  True, False, False,  True,  True, False, False,  True,\n",
       "        True,  True,  True,  True, False, False,  True, False,  True,\n",
       "        True,  True,  True,  True, False, False, False,  True,  True,\n",
       "        True,  True,  True, False,  True,  True,  True,  True, False,\n",
       "       False, False,  True,  True,  True,  True,  True, False,  True,\n",
       "       False,  True, False,  True,  True, False,  True,  True,  True,\n",
       "        True,  True,  True,  True,  True,  True,  True,  True, False,\n",
       "        True,  True, False,  True,  True,  True,  True,  True, False,\n",
       "        True,  True,  True, False, False,  True,  True, False,  True,\n",
       "       False, False, False, False,  True, False, False, False, False,\n",
       "       False, False,  True, False, False, False, False, False,  True,\n",
       "       False, False, False,  True,  True, False,  True, False, False,\n",
       "       False, False])"
      ]
     },
     "execution_count": 60,
     "metadata": {},
     "output_type": "execute_result"
    }
   ],
   "source": [
    "selector_ref.support_"
   ]
  },
  {
   "cell_type": "code",
   "execution_count": 61,
   "metadata": {
    "ExecuteTime": {
     "end_time": "2019-07-27T08:18:03.713751Z",
     "start_time": "2019-07-27T08:18:03.376494Z"
    },
    "hidden": true
   },
   "outputs": [
    {
     "name": "stdout",
     "output_type": "stream",
     "text": [
      "275\n"
     ]
    },
    {
     "data": {
      "text/plain": [
       "['C(element)[T.4]',\n",
       " 'C(element)[T.6]',\n",
       " 'C(element)[T.7]',\n",
       " 'C(element)[T.8]',\n",
       " 'C(element)[T.9]',\n",
       " 'C(element)[T.12]',\n",
       " 'C(element)[T.13]',\n",
       " 'C(element)[T.14]',\n",
       " 'C(element)[T.18]',\n",
       " 'C(element)[T.23]',\n",
       " 'C(element)[T.24]',\n",
       " 'C(element)[T.27]',\n",
       " 'C(element)[T.28]',\n",
       " 'C(element)[T.33]',\n",
       " 'C(element)[T.37]',\n",
       " 'C(element)[T.39]',\n",
       " 'C(element)[T.40]',\n",
       " 'C(element)[T.42]',\n",
       " 'C(element)[T.43]',\n",
       " 'C(element)[T.48]',\n",
       " 'C(element)[T.49]',\n",
       " 'C(element)[T.50]',\n",
       " 'C(element)[T.54]',\n",
       " 'C(element)[T.55]',\n",
       " 'C(element)[T.56]',\n",
       " 'C(element)[T.58]',\n",
       " 'C(element)[T.60]',\n",
       " 'C(element)[T.62]',\n",
       " 'C(element)[T.66]',\n",
       " 'C(element)[T.69]',\n",
       " 'C(element)[T.71]',\n",
       " 'C(element)[T.72]',\n",
       " 'C(element)[T.73]',\n",
       " 'C(element)[T.75]',\n",
       " 'C(element)[T.76]',\n",
       " 'C(element)[T.77]',\n",
       " 'C(element)[T.79]',\n",
       " 'C(element)[T.80]',\n",
       " 'C(element)[T.82]',\n",
       " 'C(element)[T.84]',\n",
       " 'C(element)[T.85]',\n",
       " 'C(element)[T.88]',\n",
       " 'C(element)[T.90]',\n",
       " 'C(element)[T.91]',\n",
       " 'C(element)[T.92]',\n",
       " 'C(element)[T.94]',\n",
       " 'C(element)[T.95]',\n",
       " 'C(element)[T.98]',\n",
       " 'C(element)[T.101]',\n",
       " 'C(element)[T.110]',\n",
       " 'C(element)[T.113]',\n",
       " 'C(element)[T.115]',\n",
       " 'C(element)[T.116]',\n",
       " 'C(element)[T.118]',\n",
       " 'C(element)[T.122]',\n",
       " 'C(element)[T.124]',\n",
       " 'C(element)[T.126]',\n",
       " 'C(element)[T.127]',\n",
       " 'C(element)[T.134]',\n",
       " 'C(element)[T.137]',\n",
       " 'C(element)[T.140]',\n",
       " 'C(element)[T.145]',\n",
       " 'C(element)[T.147]',\n",
       " 'C(element)[T.149]',\n",
       " 'C(element)[T.151]',\n",
       " 'C(element)[T.152]',\n",
       " 'C(element)[T.156]',\n",
       " 'C(element)[T.157]',\n",
       " 'C(element)[T.160]',\n",
       " 'C(element)[T.164]',\n",
       " 'C(element)[T.167]',\n",
       " 'C(element)[T.168]',\n",
       " 'C(element)[T.169]',\n",
       " 'C(element)[T.172]',\n",
       " 'C(element)[T.175]',\n",
       " 'C(element)[T.177]',\n",
       " 'C(element)[T.178]',\n",
       " 'C(element)[T.181]',\n",
       " 'C(element)[T.183]',\n",
       " 'C(element)[T.189]',\n",
       " 'C(element)[T.190]',\n",
       " 'C(element)[T.191]',\n",
       " 'C(element)[T.192]',\n",
       " 'C(element)[T.195]',\n",
       " 'C(element)[T.199]',\n",
       " 'C(element)[T.200]',\n",
       " 'C(element)[T.202]',\n",
       " 'C(element)[T.206]',\n",
       " 'C(element)[T.210]',\n",
       " 'C(element)[T.211]',\n",
       " 'C(element)[T.215]',\n",
       " 'C(element)[T.219]',\n",
       " 'C(element)[T.220]',\n",
       " 'C(element)[T.221]',\n",
       " 'C(element)[T.225]',\n",
       " 'C(element)[T.226]',\n",
       " 'C(element)[T.231]',\n",
       " 'C(element)[T.233]',\n",
       " 'C(element)[T.234]',\n",
       " 'C(element)[T.242]',\n",
       " 'C(element)[T.243]',\n",
       " 'C(element)[T.245]',\n",
       " 'C(element)[T.246]',\n",
       " 'C(element)[T.247]',\n",
       " 'C(element)[T.249]',\n",
       " 'C(element)[T.251]',\n",
       " 'C(element)[T.252]',\n",
       " 'C(element)[T.253]',\n",
       " 'C(element)[T.254]',\n",
       " 'C(element)[T.256]',\n",
       " 'C(element)[T.257]',\n",
       " 'C(element)[T.258]',\n",
       " 'C(element)[T.260]',\n",
       " 'C(element)[T.262]',\n",
       " 'C(element)[T.263]',\n",
       " 'C(element)[T.264]',\n",
       " 'C(element)[T.265]',\n",
       " 'C(element)[T.268]',\n",
       " 'C(element)[T.269]',\n",
       " 'C(element)[T.270]',\n",
       " 'C(element)[T.271]',\n",
       " 'C(element)[T.272]',\n",
       " 'C(element)[T.275]',\n",
       " 'C(element)[T.276]',\n",
       " 'C(element)[T.280]',\n",
       " 'C(element)[T.281]',\n",
       " 'C(element)[T.282]',\n",
       " 'C(element)[T.286]',\n",
       " 'C(element)[T.288]',\n",
       " 'C(element)[T.289]',\n",
       " 'C(element)[T.294]',\n",
       " 'C(element)[T.295]',\n",
       " 'C(element)[T.299]',\n",
       " 'C(element)[T.300]',\n",
       " 'C(element)[T.301]',\n",
       " 'C(element)[T.304]',\n",
       " 'C(element)[T.305]',\n",
       " 'C(element)[T.306]',\n",
       " 'C(element)[T.309]',\n",
       " 'C(element)[T.312]',\n",
       " 'C(element)[T.315]',\n",
       " 'C(element)[T.318]',\n",
       " 'C(element)[T.324]',\n",
       " 'C(element)[T.327]',\n",
       " 'C(element)[T.328]',\n",
       " 'C(element)[T.331]',\n",
       " 'C(element)[T.332]',\n",
       " 'C(element)[T.333]',\n",
       " 'C(element)[T.335]',\n",
       " 'C(element)[T.343]',\n",
       " 'C(element)[T.344]',\n",
       " 'C(element)[T.346]',\n",
       " 'C(element)[T.352]',\n",
       " 'C(element)[T.353]',\n",
       " 'C(element)[T.356]',\n",
       " 'C(element)[T.357]',\n",
       " 'C(element)[T.360]',\n",
       " 'C(element)[T.362]',\n",
       " 'C(element)[T.364]',\n",
       " 'C(element)[T.365]',\n",
       " 'C(element)[T.368]',\n",
       " 'C(element)[T.369]',\n",
       " 'C(element)[T.370]',\n",
       " 'C(element)[T.372]',\n",
       " 'C(element)[T.376]',\n",
       " 'C(element)[T.383]',\n",
       " 'C(element)[T.386]',\n",
       " 'C(element)[T.389]',\n",
       " 'C(element)[T.390]',\n",
       " 'C(element)[T.391]',\n",
       " 'C(element)[T.393]',\n",
       " 'C(element)[T.394]',\n",
       " 'C(element)[T.395]',\n",
       " 'C(element)[T.400]',\n",
       " 'C(element)[T.402]',\n",
       " 'C(element)[T.403]',\n",
       " 'C(element)[T.405]',\n",
       " 'C(element)[T.408]',\n",
       " 'C(element)[T.409]',\n",
       " 'C(element)[T.411]',\n",
       " 'C(element)[T.415]',\n",
       " 'C(element)[T.417]',\n",
       " 'C(element)[T.419]',\n",
       " 'C(element)[T.423]',\n",
       " 'C(element)[T.425]',\n",
       " 'C(element)[T.426]',\n",
       " 'C(element)[T.427]',\n",
       " 'C(element)[T.431]',\n",
       " 'C(element)[T.432]',\n",
       " 'C(element)[T.433]',\n",
       " 'C(element)[T.437]',\n",
       " 'C(element)[T.447]',\n",
       " 'C(element)[T.450]',\n",
       " 'C(element)[T.451]',\n",
       " 'C(element)[T.453]',\n",
       " 'C(element)[T.455]',\n",
       " 'C(element)[T.456]',\n",
       " 'C(element)[T.459]',\n",
       " 'C(element)[T.462]',\n",
       " 'C(element)[T.464]',\n",
       " 'C(element)[T.465]',\n",
       " 'C(element)[T.467]',\n",
       " 'C(element)[T.468]',\n",
       " 'C(element)[T.473]',\n",
       " 'C(element)[T.474]',\n",
       " 'C(element)[T.476]',\n",
       " 'C(element)[T.478]',\n",
       " 'C(element)[T.479]',\n",
       " 'C(element)[T.480]',\n",
       " 'C(element)[T.482]',\n",
       " 'C(element)[T.483]',\n",
       " 'C(element)[T.484]',\n",
       " 'C(element)[T.487]',\n",
       " 'C(element)[T.488]',\n",
       " 'C(element)[T.492]',\n",
       " 'C(element)[T.493]',\n",
       " 'C(element)[T.499]',\n",
       " 'C(element)[T.503]',\n",
       " 'C(element)[T.504]',\n",
       " 'C(element)[T.505]',\n",
       " 'C(element)[T.506]',\n",
       " 'C(element)[T.509]',\n",
       " 'C(element)[T.511]',\n",
       " 'C(element)[T.512]',\n",
       " 'C(element)[T.513]',\n",
       " 'C(element)[T.516]',\n",
       " 'C(element)[T.517]',\n",
       " 'C(element)[T.527]',\n",
       " 'C(element)[T.534]',\n",
       " 'C(element)[T.536]',\n",
       " 'C(element)[T.539]',\n",
       " 'C(element)[T.549]',\n",
       " 'C(element_type)[T.2]',\n",
       " 'C(element_type)[T.3]',\n",
       " 'C(element_type)[T.4]',\n",
       " 'C(team)[T.2]',\n",
       " 'C(team)[T.6]',\n",
       " 'C(team)[T.7]',\n",
       " 'C(team)[T.8]',\n",
       " 'C(team)[T.9]',\n",
       " 'C(team)[T.10]',\n",
       " 'C(team)[T.12]',\n",
       " 'C(team)[T.14]',\n",
       " 'C(team)[T.16]',\n",
       " 'C(team)[T.17]',\n",
       " 'C(team)[T.19]',\n",
       " 'C(team)[T.20]',\n",
       " 'C(opposition_team)[T.2]',\n",
       " 'C(opposition_team)[T.3]',\n",
       " 'C(opposition_team)[T.4]',\n",
       " 'C(opposition_team)[T.5]',\n",
       " 'C(opposition_team)[T.6]',\n",
       " 'C(opposition_team)[T.7]',\n",
       " 'C(opposition_team)[T.8]',\n",
       " 'C(opposition_team)[T.9]',\n",
       " 'C(opposition_team)[T.10]',\n",
       " 'C(opposition_team)[T.12]',\n",
       " 'C(opposition_team)[T.13]',\n",
       " 'C(opposition_team)[T.15]',\n",
       " 'C(opposition_team)[T.16]',\n",
       " 'C(opposition_team)[T.17]',\n",
       " 'C(opposition_team)[T.18]',\n",
       " 'C(opposition_team)[T.19]',\n",
       " 'was_home',\n",
       " 'is_sunday',\n",
       " 'is_weekday',\n",
       " 'value',\n",
       " 'rolling_avg_total_points_element',\n",
       " 'has_high_points_ever_element',\n",
       " 'rolling_avg_completed_passes_element',\n",
       " 'rolling_avg_clearances_blocks_interceptions_element',\n",
       " 'rolling_avg_offside_element',\n",
       " 'rolling_avg_minutes_element_p3',\n",
       " 'rolling_avg_total_points_element_p3',\n",
       " 'rolling_avg_total_points_own_team']"
      ]
     },
     "execution_count": 61,
     "metadata": {},
     "output_type": "execute_result"
    }
   ],
   "source": [
    "features_ref = patsy.dmatrices(formula_ref, element_gameweek_df, return_type='dataframe')[1].columns\n",
    "selected_features_ref = pd.Series(features_ref)[selector_ref.support_]\n",
    "print(len(list(selected_features_ref)))\n",
    "list(selected_features_ref)"
   ]
  },
  {
   "cell_type": "code",
   "execution_count": 62,
   "metadata": {
    "ExecuteTime": {
     "end_time": "2019-07-27T08:18:04.708603Z",
     "start_time": "2019-07-27T08:18:04.680136Z"
    },
    "hidden": true
   },
   "outputs": [],
   "source": [
    "X_ref_sel = X_ref[:,selector_ref.support_]\n",
    "X_ref_train_sel = X_ref_train[:,selector_ref.support_]\n",
    "X_ref_test_sel = X_ref_test[:,selector_ref.support_]"
   ]
  },
  {
   "cell_type": "markdown",
   "metadata": {
    "heading_collapsed": true
   },
   "source": [
    "## Tuning model"
   ]
  },
  {
   "cell_type": "markdown",
   "metadata": {
    "heading_collapsed": true,
    "hidden": true
   },
   "source": [
    "### GP tuner"
   ]
  },
  {
   "cell_type": "markdown",
   "metadata": {
    "heading_collapsed": true,
    "hidden": true
   },
   "source": [
    "#### Radial basis kernel"
   ]
  },
  {
   "cell_type": "markdown",
   "metadata": {
    "heading_collapsed": true,
    "hidden": true
   },
   "source": [
    "##### Full feature set"
   ]
  },
  {
   "cell_type": "code",
   "execution_count": 34,
   "metadata": {
    "ExecuteTime": {
     "end_time": "2019-07-26T11:39:21.194505Z",
     "start_time": "2019-07-26T11:39:21.181835Z"
    },
    "hidden": true
   },
   "outputs": [],
   "source": [
    "rbf_full_space = [\n",
    "    Real(0.1, 5, 'uniform', name='epsilon'),\n",
    "    Real(100, 10000, 'log-uniform', name='C'),\n",
    "    Real(10e-6, 10e-4, 'log-uniform', name='gamma'),\n",
    "]"
   ]
  },
  {
   "cell_type": "code",
   "execution_count": 35,
   "metadata": {
    "ExecuteTime": {
     "end_time": "2019-07-26T11:39:21.688191Z",
     "start_time": "2019-07-26T11:39:21.675148Z"
    },
    "hidden": true
   },
   "outputs": [],
   "source": [
    "rbf_full_gp_model = SVR(kernel='rbf')\n",
    "\n",
    "@use_named_args(rbf_full_space)\n",
    "def rbf_full_objective(**params):\n",
    "    rbf_full_gp_model.set_params(**params)\n",
    "\n",
    "    return -np.mean(\n",
    "        cross_val_score(\n",
    "            rbf_full_gp_model,\n",
    "            X_full,\n",
    "            y_full.ravel(),\n",
    "            cv=ps,\n",
    "            n_jobs=1,\n",
    "            scoring=\"neg_mean_squared_error\"))"
   ]
  },
  {
   "cell_type": "code",
   "execution_count": 36,
   "metadata": {
    "ExecuteTime": {
     "end_time": "2019-07-26T11:41:17.271137Z",
     "start_time": "2019-07-26T11:39:22.154668Z"
    },
    "hidden": true
   },
   "outputs": [
    {
     "name": "stdout",
     "output_type": "stream",
     "text": [
      "minimisation iteration 1\n",
      "Iteration No: 1 started. Evaluating function at random point.\n",
      "Iteration No: 1 ended. Evaluation done at random point.\n",
      "Time taken: 3.1982\n",
      "Function value obtained: 9.6654\n",
      "Current minimum: 9.6654\n",
      "Iteration No: 2 started. Evaluating function at random point.\n",
      "Iteration No: 2 ended. Evaluation done at random point.\n",
      "Time taken: 6.4788\n",
      "Function value obtained: 10.1569\n",
      "Current minimum: 9.6654\n",
      "Iteration No: 3 started. Evaluating function at random point.\n",
      "Iteration No: 3 ended. Evaluation done at random point.\n",
      "Time taken: 5.4928\n",
      "Function value obtained: 10.4345\n",
      "Current minimum: 9.6654\n",
      "Iteration No: 4 started. Evaluating function at random point.\n",
      "Iteration No: 4 ended. Evaluation done at random point.\n",
      "Time taken: 3.6378\n",
      "Function value obtained: 10.0616\n",
      "Current minimum: 9.6654\n",
      "Iteration No: 5 started. Evaluating function at random point.\n",
      "Iteration No: 5 ended. Evaluation done at random point.\n",
      "Time taken: 4.1137\n",
      "Function value obtained: 10.0645\n",
      "Current minimum: 9.6654\n",
      "Iteration No: 6 started. Evaluating function at random point.\n",
      "Iteration No: 6 ended. Evaluation done at random point.\n",
      "Time taken: 7.0280\n",
      "Function value obtained: 10.1655\n",
      "Current minimum: 9.6654\n",
      "Iteration No: 7 started. Evaluating function at random point.\n",
      "Iteration No: 7 ended. Evaluation done at random point.\n",
      "Time taken: 2.5691\n",
      "Function value obtained: 9.7348\n",
      "Current minimum: 9.6654\n",
      "Iteration No: 8 started. Evaluating function at random point.\n",
      "Iteration No: 8 ended. Evaluation done at random point.\n",
      "Time taken: 5.5269\n",
      "Function value obtained: 11.0441\n",
      "Current minimum: 9.6654\n",
      "Iteration No: 9 started. Evaluating function at random point.\n",
      "Iteration No: 9 ended. Evaluation done at random point.\n",
      "Time taken: 1.3241\n",
      "Function value obtained: 10.3494\n",
      "Current minimum: 9.6654\n",
      "Iteration No: 10 started. Evaluating function at random point.\n",
      "Iteration No: 10 ended. Evaluation done at random point.\n",
      "Time taken: 4.7408\n",
      "Function value obtained: 10.0476\n",
      "Current minimum: 9.6654\n",
      "Iteration No: 11 started. Searching for the next optimal point.\n",
      "Iteration No: 11 ended. Search finished for the next optimal point.\n",
      "Time taken: 3.5950\n",
      "Function value obtained: 9.6394\n",
      "Current minimum: 9.6394\n",
      "Iteration No: 12 started. Searching for the next optimal point.\n",
      "Iteration No: 12 ended. Search finished for the next optimal point.\n",
      "Time taken: 4.2064\n",
      "Function value obtained: 9.6753\n",
      "Current minimum: 9.6394\n",
      "Iteration No: 13 started. Searching for the next optimal point.\n",
      "Iteration No: 13 ended. Search finished for the next optimal point.\n",
      "Time taken: 1.4079\n",
      "Function value obtained: 11.7802\n",
      "Current minimum: 9.6394\n",
      "Iteration No: 14 started. Searching for the next optimal point.\n",
      "Iteration No: 14 ended. Search finished for the next optimal point.\n",
      "Time taken: 2.2683\n",
      "Function value obtained: 14.2048\n",
      "Current minimum: 9.6394\n",
      "Iteration No: 15 started. Searching for the next optimal point.\n",
      "Iteration No: 15 ended. Search finished for the next optimal point.\n",
      "Time taken: 2.9795\n",
      "Function value obtained: 9.6893\n",
      "Current minimum: 9.6394\n",
      "Iteration No: 16 started. Searching for the next optimal point.\n",
      "Iteration No: 16 ended. Search finished for the next optimal point.\n",
      "Time taken: 5.0375\n",
      "Function value obtained: 9.8445\n",
      "Current minimum: 9.6394\n",
      "Iteration No: 17 started. Searching for the next optimal point.\n",
      "Iteration No: 17 ended. Search finished for the next optimal point.\n",
      "Time taken: 3.3618\n",
      "Function value obtained: 9.6168\n",
      "Current minimum: 9.6168\n",
      "Iteration No: 18 started. Searching for the next optimal point.\n",
      "Iteration No: 18 ended. Search finished for the next optimal point.\n",
      "Time taken: 3.6476\n",
      "Function value obtained: 9.6081\n",
      "Current minimum: 9.6081\n",
      "Iteration No: 19 started. Searching for the next optimal point.\n",
      "Iteration No: 19 ended. Search finished for the next optimal point.\n",
      "Time taken: 3.4437\n",
      "Function value obtained: 9.6095\n",
      "Current minimum: 9.6081\n",
      "Iteration No: 20 started. Searching for the next optimal point.\n",
      "Iteration No: 20 ended. Search finished for the next optimal point.\n",
      "Time taken: 3.5236\n",
      "Function value obtained: 9.5882\n",
      "Current minimum: 9.5882\n",
      "Iteration No: 21 started. Searching for the next optimal point.\n",
      "Iteration No: 21 ended. Search finished for the next optimal point.\n",
      "Time taken: 3.5181\n",
      "Function value obtained: 9.5879\n",
      "Current minimum: 9.5879\n",
      "Iteration No: 22 started. Searching for the next optimal point.\n",
      "Iteration No: 22 ended. Search finished for the next optimal point.\n",
      "Time taken: 3.3044\n",
      "Function value obtained: 9.6205\n",
      "Current minimum: 9.5879\n",
      "Iteration No: 23 started. Searching for the next optimal point.\n",
      "Iteration No: 23 ended. Search finished for the next optimal point.\n",
      "Time taken: 3.7281\n",
      "Function value obtained: 9.5685\n",
      "Current minimum: 9.5685\n",
      "Iteration No: 24 started. Searching for the next optimal point.\n",
      "Iteration No: 24 ended. Search finished for the next optimal point.\n",
      "Time taken: 3.8799\n",
      "Function value obtained: 9.5742\n",
      "Current minimum: 9.5685\n",
      "Iteration No: 25 started. Searching for the next optimal point.\n",
      "Iteration No: 25 ended. Search finished for the next optimal point.\n",
      "Time taken: 4.0483\n",
      "Function value obtained: 9.6097\n",
      "Current minimum: 9.5685\n",
      "Iteration No: 26 started. Searching for the next optimal point.\n",
      "Iteration No: 26 ended. Search finished for the next optimal point.\n",
      "Time taken: 3.9270\n",
      "Function value obtained: 9.5837\n",
      "Current minimum: 9.5685\n",
      "Iteration No: 27 started. Searching for the next optimal point.\n",
      "Iteration No: 27 ended. Search finished for the next optimal point.\n",
      "Time taken: 3.9438\n",
      "Function value obtained: 9.5594\n",
      "Current minimum: 9.5594\n",
      "Iteration No: 28 started. Searching for the next optimal point.\n",
      "Iteration No: 28 ended. Search finished for the next optimal point.\n",
      "Time taken: 4.0134\n",
      "Function value obtained: 9.5592\n",
      "Current minimum: 9.5592\n",
      "Iteration No: 29 started. Searching for the next optimal point.\n",
      "Iteration No: 29 ended. Search finished for the next optimal point.\n",
      "Time taken: 3.1808\n",
      "Function value obtained: 9.6828\n",
      "Current minimum: 9.5592\n",
      "Iteration No: 30 started. Searching for the next optimal point.\n",
      "Iteration No: 30 ended. Search finished for the next optimal point.\n",
      "Time taken: 3.9582\n",
      "Function value obtained: 9.5817\n",
      "Current minimum: 9.5592\n"
     ]
    }
   ],
   "source": [
    "rbf_full_res_gp_arr = []\n",
    "for i in range(1, 2):\n",
    "    print('minimisation iteration', i)\n",
    "    rbf_full_res_gp = gp_minimize(rbf_full_objective, rbf_full_space, n_calls=30, verbose=2)\n",
    "    rbf_full_res_gp_arr.append(rbf_full_res_gp)"
   ]
  },
  {
   "cell_type": "code",
   "execution_count": 37,
   "metadata": {
    "ExecuteTime": {
     "end_time": "2019-07-26T11:41:17.278723Z",
     "start_time": "2019-07-26T11:41:17.274432Z"
    },
    "hidden": true
   },
   "outputs": [
    {
     "name": "stdout",
     "output_type": "stream",
     "text": [
      "9.559173196778618\n",
      "\n",
      "\n",
      "[1.9211481838863596, 261.58969784296676, 0.0003964967157638536]\n"
     ]
    }
   ],
   "source": [
    "for i in rbf_full_res_gp_arr:\n",
    "    print(i.fun)\n",
    "print('\\n')\n",
    "for i in rbf_full_res_gp_arr:\n",
    "    print(i.x)"
   ]
  },
  {
   "cell_type": "markdown",
   "metadata": {
    "heading_collapsed": true,
    "hidden": true
   },
   "source": [
    "##### Refined feature set"
   ]
  },
  {
   "cell_type": "code",
   "execution_count": 80,
   "metadata": {
    "ExecuteTime": {
     "end_time": "2019-07-26T12:11:57.542537Z",
     "start_time": "2019-07-26T12:11:57.529125Z"
    },
    "hidden": true
   },
   "outputs": [],
   "source": [
    "rbf_ref_space = [\n",
    "    Real(1, 3, 'uniform', name='epsilon'),\n",
    "    Real(10, 1000, 'log-uniform', name='C'),\n",
    "    Real(0.0001, 0.01, 'log-uniform', name='gamma'),\n",
    "]"
   ]
  },
  {
   "cell_type": "code",
   "execution_count": 81,
   "metadata": {
    "ExecuteTime": {
     "end_time": "2019-07-26T12:11:59.839479Z",
     "start_time": "2019-07-26T12:11:59.829356Z"
    },
    "hidden": true
   },
   "outputs": [],
   "source": [
    "rbf_ref_gp_model = SVR(kernel='rbf')\n",
    "\n",
    "@use_named_args(rbf_ref_space)\n",
    "def rbf_ref_objective(**params):\n",
    "    rbf_ref_gp_model.set_params(**params)\n",
    "\n",
    "    return -np.mean(\n",
    "        cross_val_score(\n",
    "            rbf_ref_gp_model,\n",
    "            X_ref,\n",
    "            y_ref.ravel(),\n",
    "            cv=ps,\n",
    "            n_jobs=1,\n",
    "            scoring=\"neg_mean_squared_error\"))"
   ]
  },
  {
   "cell_type": "code",
   "execution_count": 82,
   "metadata": {
    "ExecuteTime": {
     "end_time": "2019-07-26T12:14:16.516760Z",
     "start_time": "2019-07-26T12:12:00.186436Z"
    },
    "hidden": true
   },
   "outputs": [
    {
     "name": "stdout",
     "output_type": "stream",
     "text": [
      "minimisation iteration 1\n",
      "Iteration No: 1 started. Evaluating function at random point.\n",
      "Iteration No: 1 ended. Evaluation done at random point.\n",
      "Time taken: 1.2442\n",
      "Function value obtained: 11.5997\n",
      "Current minimum: 11.5997\n",
      "Iteration No: 2 started. Evaluating function at random point.\n",
      "Iteration No: 2 ended. Evaluation done at random point.\n",
      "Time taken: 1.1717\n",
      "Function value obtained: 11.3792\n",
      "Current minimum: 11.3792\n",
      "Iteration No: 3 started. Evaluating function at random point.\n",
      "Iteration No: 3 ended. Evaluation done at random point.\n",
      "Time taken: 10.7139\n",
      "Function value obtained: 10.8594\n",
      "Current minimum: 10.8594\n",
      "Iteration No: 4 started. Evaluating function at random point.\n",
      "Iteration No: 4 ended. Evaluation done at random point.\n",
      "Time taken: 3.7711\n",
      "Function value obtained: 9.9931\n",
      "Current minimum: 9.9931\n",
      "Iteration No: 5 started. Evaluating function at random point.\n",
      "Iteration No: 5 ended. Evaluation done at random point.\n",
      "Time taken: 1.7097\n",
      "Function value obtained: 9.9183\n",
      "Current minimum: 9.9183\n",
      "Iteration No: 6 started. Evaluating function at random point.\n",
      "Iteration No: 6 ended. Evaluation done at random point.\n",
      "Time taken: 5.5834\n",
      "Function value obtained: 10.3912\n",
      "Current minimum: 9.9183\n",
      "Iteration No: 7 started. Evaluating function at random point.\n",
      "Iteration No: 7 ended. Evaluation done at random point.\n",
      "Time taken: 0.5341\n",
      "Function value obtained: 15.7679\n",
      "Current minimum: 9.9183\n",
      "Iteration No: 8 started. Evaluating function at random point.\n",
      "Iteration No: 8 ended. Evaluation done at random point.\n",
      "Time taken: 1.2823\n",
      "Function value obtained: 10.4343\n",
      "Current minimum: 9.9183\n",
      "Iteration No: 9 started. Evaluating function at random point.\n",
      "Iteration No: 9 ended. Evaluation done at random point.\n",
      "Time taken: 14.7858\n",
      "Function value obtained: 12.3974\n",
      "Current minimum: 9.9183\n",
      "Iteration No: 10 started. Evaluating function at random point.\n",
      "Iteration No: 10 ended. Evaluation done at random point.\n",
      "Time taken: 6.2797\n",
      "Function value obtained: 10.1992\n",
      "Current minimum: 9.9183\n",
      "Iteration No: 11 started. Searching for the next optimal point.\n",
      "Iteration No: 11 ended. Search finished for the next optimal point.\n",
      "Time taken: 0.7436\n",
      "Function value obtained: 24.6919\n",
      "Current minimum: 9.9183\n",
      "Iteration No: 12 started. Searching for the next optimal point.\n",
      "Iteration No: 12 ended. Search finished for the next optimal point.\n",
      "Time taken: 6.0126\n",
      "Function value obtained: 10.6774\n",
      "Current minimum: 9.9183\n",
      "Iteration No: 13 started. Searching for the next optimal point.\n",
      "Iteration No: 13 ended. Search finished for the next optimal point.\n",
      "Time taken: 3.7730\n",
      "Function value obtained: 9.6880\n",
      "Current minimum: 9.6880\n",
      "Iteration No: 14 started. Searching for the next optimal point.\n",
      "Iteration No: 14 ended. Search finished for the next optimal point.\n",
      "Time taken: 3.2602\n",
      "Function value obtained: 9.6471\n",
      "Current minimum: 9.6471\n",
      "Iteration No: 15 started. Searching for the next optimal point.\n",
      "Iteration No: 15 ended. Search finished for the next optimal point.\n",
      "Time taken: 3.4316\n",
      "Function value obtained: 9.7495\n",
      "Current minimum: 9.6471\n",
      "Iteration No: 16 started. Searching for the next optimal point.\n",
      "Iteration No: 16 ended. Search finished for the next optimal point.\n",
      "Time taken: 4.1840\n",
      "Function value obtained: 9.8614\n",
      "Current minimum: 9.6471\n",
      "Iteration No: 17 started. Searching for the next optimal point.\n",
      "Iteration No: 17 ended. Search finished for the next optimal point.\n",
      "Time taken: 3.2412\n",
      "Function value obtained: 9.6520\n",
      "Current minimum: 9.6471\n",
      "Iteration No: 18 started. Searching for the next optimal point.\n",
      "Iteration No: 18 ended. Search finished for the next optimal point.\n",
      "Time taken: 5.7079\n",
      "Function value obtained: 10.1985\n",
      "Current minimum: 9.6471\n",
      "Iteration No: 19 started. Searching for the next optimal point.\n",
      "Iteration No: 19 ended. Search finished for the next optimal point.\n",
      "Time taken: 3.5080\n",
      "Function value obtained: 9.6049\n",
      "Current minimum: 9.6049\n",
      "Iteration No: 20 started. Searching for the next optimal point.\n",
      "Iteration No: 20 ended. Search finished for the next optimal point.\n",
      "Time taken: 4.8188\n",
      "Function value obtained: 10.4819\n",
      "Current minimum: 9.6049\n",
      "Iteration No: 21 started. Searching for the next optimal point.\n",
      "Iteration No: 21 ended. Search finished for the next optimal point.\n",
      "Time taken: 5.0387\n",
      "Function value obtained: 12.1609\n",
      "Current minimum: 9.6049\n",
      "Iteration No: 22 started. Searching for the next optimal point.\n",
      "Iteration No: 22 ended. Search finished for the next optimal point.\n",
      "Time taken: 3.8847\n",
      "Function value obtained: 9.5975\n",
      "Current minimum: 9.5975\n",
      "Iteration No: 23 started. Searching for the next optimal point.\n",
      "Iteration No: 23 ended. Search finished for the next optimal point.\n",
      "Time taken: 6.6547\n",
      "Function value obtained: 10.2763\n",
      "Current minimum: 9.5975\n",
      "Iteration No: 24 started. Searching for the next optimal point.\n",
      "Iteration No: 24 ended. Search finished for the next optimal point.\n",
      "Time taken: 7.2207\n",
      "Function value obtained: 10.2528\n",
      "Current minimum: 9.5975\n",
      "Iteration No: 25 started. Searching for the next optimal point.\n",
      "Iteration No: 25 ended. Search finished for the next optimal point.\n",
      "Time taken: 4.5254\n",
      "Function value obtained: 10.0211\n",
      "Current minimum: 9.5975\n",
      "Iteration No: 26 started. Searching for the next optimal point.\n",
      "Iteration No: 26 ended. Search finished for the next optimal point.\n",
      "Time taken: 3.8613\n",
      "Function value obtained: 9.7153\n",
      "Current minimum: 9.5975\n",
      "Iteration No: 27 started. Searching for the next optimal point.\n",
      "Iteration No: 27 ended. Search finished for the next optimal point.\n",
      "Time taken: 3.8012\n",
      "Function value obtained: 9.6835\n",
      "Current minimum: 9.5975\n",
      "Iteration No: 28 started. Searching for the next optimal point.\n",
      "Iteration No: 28 ended. Search finished for the next optimal point.\n",
      "Time taken: 3.7892\n",
      "Function value obtained: 9.6514\n",
      "Current minimum: 9.5975\n",
      "Iteration No: 29 started. Searching for the next optimal point.\n",
      "Iteration No: 29 ended. Search finished for the next optimal point.\n",
      "Time taken: 4.6524\n",
      "Function value obtained: 9.8005\n",
      "Current minimum: 9.5975\n",
      "Iteration No: 30 started. Searching for the next optimal point.\n",
      "Iteration No: 30 ended. Search finished for the next optimal point.\n",
      "Time taken: 7.1139\n",
      "Function value obtained: 10.4441\n",
      "Current minimum: 9.5975\n"
     ]
    }
   ],
   "source": [
    "rbf_ref_res_gp_arr = []\n",
    "for i in range(1, 2):\n",
    "    print('minimisation iteration', i)\n",
    "    rbf_ref_res_gp = gp_minimize(rbf_ref_objective, rbf_ref_space, n_calls=30, verbose=2)\n",
    "    rbf_ref_res_gp_arr.append(rbf_ref_res_gp)"
   ]
  },
  {
   "cell_type": "code",
   "execution_count": 83,
   "metadata": {
    "ExecuteTime": {
     "end_time": "2019-07-26T12:14:16.524611Z",
     "start_time": "2019-07-26T12:14:16.519979Z"
    },
    "hidden": true
   },
   "outputs": [
    {
     "name": "stdout",
     "output_type": "stream",
     "text": [
      "9.597492368579724\n",
      "\n",
      "\n",
      "[1.7721017736179203, 10.0, 0.0009952148157501052]\n"
     ]
    }
   ],
   "source": [
    "for i in rbf_ref_res_gp_arr:\n",
    "    print(i.fun)\n",
    "print('\\n')\n",
    "for i in rbf_ref_res_gp_arr:\n",
    "    print(i.x)"
   ]
  },
  {
   "cell_type": "markdown",
   "metadata": {
    "heading_collapsed": true,
    "hidden": true
   },
   "source": [
    "##### Selected full feature set"
   ]
  },
  {
   "cell_type": "code",
   "execution_count": 221,
   "metadata": {
    "ExecuteTime": {
     "end_time": "2019-07-26T15:54:27.340913Z",
     "start_time": "2019-07-26T15:54:27.323976Z"
    },
    "hidden": true
   },
   "outputs": [],
   "source": [
    "rbf_full_sel_space = [\n",
    "    Real(1, 3, 'uniform', name='epsilon'),\n",
    "    Real(100, 10000, 'log-uniform', name='C'),\n",
    "    Real(0.00001, 0.001, 'log-uniform', name='gamma'),\n",
    "]"
   ]
  },
  {
   "cell_type": "code",
   "execution_count": 222,
   "metadata": {
    "ExecuteTime": {
     "end_time": "2019-07-26T15:54:27.763643Z",
     "start_time": "2019-07-26T15:54:27.753528Z"
    },
    "hidden": true
   },
   "outputs": [],
   "source": [
    "rbf_full_sel_gp_model = SVR(kernel='rbf')\n",
    "\n",
    "@use_named_args(rbf_full_sel_space)\n",
    "def rbf_full_sel_objective(**params):\n",
    "    rbf_full_sel_gp_model.set_params(**params)\n",
    "\n",
    "    return -np.mean(\n",
    "        cross_val_score(\n",
    "            rbf_full_sel_gp_model,\n",
    "            X_full_sel,\n",
    "            y_full.ravel(),\n",
    "            cv=ps,\n",
    "            n_jobs=1,\n",
    "            scoring=\"neg_mean_squared_error\"))"
   ]
  },
  {
   "cell_type": "code",
   "execution_count": 223,
   "metadata": {
    "ExecuteTime": {
     "end_time": "2019-07-26T16:02:50.471051Z",
     "start_time": "2019-07-26T15:54:28.017312Z"
    },
    "hidden": true
   },
   "outputs": [
    {
     "name": "stdout",
     "output_type": "stream",
     "text": [
      "minimisation iteration 1\n",
      "Iteration No: 1 started. Evaluating function at random point.\n",
      "Iteration No: 1 ended. Evaluation done at random point.\n",
      "Time taken: 5.2150\n",
      "Function value obtained: 9.7521\n",
      "Current minimum: 9.7521\n",
      "Iteration No: 2 started. Evaluating function at random point.\n",
      "Iteration No: 2 ended. Evaluation done at random point.\n",
      "Time taken: 2.6264\n",
      "Function value obtained: 9.6056\n",
      "Current minimum: 9.6056\n",
      "Iteration No: 3 started. Evaluating function at random point.\n",
      "Iteration No: 3 ended. Evaluation done at random point.\n",
      "Time taken: 2.2789\n",
      "Function value obtained: 9.5564\n",
      "Current minimum: 9.5564\n",
      "Iteration No: 4 started. Evaluating function at random point.\n",
      "Iteration No: 4 ended. Evaluation done at random point.\n",
      "Time taken: 3.3362\n",
      "Function value obtained: 9.6569\n",
      "Current minimum: 9.5564\n",
      "Iteration No: 5 started. Evaluating function at random point.\n",
      "Iteration No: 5 ended. Evaluation done at random point.\n",
      "Time taken: 2.0810\n",
      "Function value obtained: 9.6711\n",
      "Current minimum: 9.5564\n",
      "Iteration No: 6 started. Evaluating function at random point.\n",
      "Iteration No: 6 ended. Evaluation done at random point.\n",
      "Time taken: 1.7389\n",
      "Function value obtained: 9.8142\n",
      "Current minimum: 9.5564\n",
      "Iteration No: 7 started. Evaluating function at random point.\n",
      "Iteration No: 7 ended. Evaluation done at random point.\n",
      "Time taken: 1.7128\n",
      "Function value obtained: 9.7379\n",
      "Current minimum: 9.5564\n",
      "Iteration No: 8 started. Evaluating function at random point.\n",
      "Iteration No: 8 ended. Evaluation done at random point.\n",
      "Time taken: 1.9955\n",
      "Function value obtained: 9.5304\n",
      "Current minimum: 9.5304\n",
      "Iteration No: 9 started. Evaluating function at random point.\n",
      "Iteration No: 9 ended. Evaluation done at random point.\n",
      "Time taken: 2.3325\n",
      "Function value obtained: 10.0241\n",
      "Current minimum: 9.5304\n",
      "Iteration No: 10 started. Evaluating function at random point.\n",
      "Iteration No: 10 ended. Evaluation done at random point.\n",
      "Time taken: 2.6533\n",
      "Function value obtained: 9.4873\n",
      "Current minimum: 9.4873\n",
      "Iteration No: 11 started. Searching for the next optimal point.\n",
      "Iteration No: 11 ended. Search finished for the next optimal point.\n",
      "Time taken: 2.5153\n",
      "Function value obtained: 9.4639\n",
      "Current minimum: 9.4639\n",
      "Iteration No: 12 started. Searching for the next optimal point.\n",
      "Iteration No: 12 ended. Search finished for the next optimal point.\n",
      "Time taken: 9.8792\n",
      "Function value obtained: 10.4391\n",
      "Current minimum: 9.4639\n",
      "Iteration No: 13 started. Searching for the next optimal point.\n",
      "Iteration No: 13 ended. Search finished for the next optimal point.\n",
      "Time taken: 2.2627\n",
      "Function value obtained: 9.8843\n",
      "Current minimum: 9.4639\n",
      "Iteration No: 14 started. Searching for the next optimal point.\n",
      "Iteration No: 14 ended. Search finished for the next optimal point.\n",
      "Time taken: 2.7760\n",
      "Function value obtained: 9.4298\n",
      "Current minimum: 9.4298\n",
      "Iteration No: 15 started. Searching for the next optimal point.\n",
      "Iteration No: 15 ended. Search finished for the next optimal point.\n",
      "Time taken: 20.6400\n",
      "Function value obtained: 10.3572\n",
      "Current minimum: 9.4298\n",
      "Iteration No: 16 started. Searching for the next optimal point.\n",
      "Iteration No: 16 ended. Search finished for the next optimal point.\n",
      "Time taken: 2.8682\n",
      "Function value obtained: 9.4424\n",
      "Current minimum: 9.4298\n",
      "Iteration No: 17 started. Searching for the next optimal point.\n",
      "Iteration No: 17 ended. Search finished for the next optimal point.\n",
      "Time taken: 2.0383\n",
      "Function value obtained: 9.9188\n",
      "Current minimum: 9.4298\n",
      "Iteration No: 18 started. Searching for the next optimal point.\n",
      "Iteration No: 18 ended. Search finished for the next optimal point.\n",
      "Time taken: 2.9128\n",
      "Function value obtained: 9.4297\n",
      "Current minimum: 9.4297\n",
      "Iteration No: 19 started. Searching for the next optimal point.\n",
      "Iteration No: 19 ended. Search finished for the next optimal point.\n",
      "Time taken: 3.6963\n",
      "Function value obtained: 9.5725\n",
      "Current minimum: 9.4297\n",
      "Iteration No: 20 started. Searching for the next optimal point.\n",
      "Iteration No: 20 ended. Search finished for the next optimal point.\n",
      "Time taken: 2.8356\n",
      "Function value obtained: 9.4284\n",
      "Current minimum: 9.4284\n",
      "Iteration No: 21 started. Searching for the next optimal point.\n",
      "Iteration No: 21 ended. Search finished for the next optimal point.\n",
      "Time taken: 2.5818\n",
      "Function value obtained: 9.5057\n",
      "Current minimum: 9.4284\n",
      "Iteration No: 22 started. Searching for the next optimal point.\n",
      "Iteration No: 22 ended. Search finished for the next optimal point.\n",
      "Time taken: 4.3317\n",
      "Function value obtained: 10.4320\n",
      "Current minimum: 9.4284\n",
      "Iteration No: 23 started. Searching for the next optimal point.\n",
      "Iteration No: 23 ended. Search finished for the next optimal point.\n",
      "Time taken: 2.2337\n",
      "Function value obtained: 9.8038\n",
      "Current minimum: 9.4284\n",
      "Iteration No: 24 started. Searching for the next optimal point.\n",
      "Iteration No: 24 ended. Search finished for the next optimal point.\n",
      "Time taken: 2.5861\n",
      "Function value obtained: 9.5552\n",
      "Current minimum: 9.4284\n",
      "Iteration No: 25 started. Searching for the next optimal point.\n",
      "Iteration No: 25 ended. Search finished for the next optimal point.\n",
      "Time taken: 3.0461\n",
      "Function value obtained: 9.5365\n",
      "Current minimum: 9.4284\n",
      "Iteration No: 26 started. Searching for the next optimal point.\n",
      "Iteration No: 26 ended. Search finished for the next optimal point.\n",
      "Time taken: 2.8923\n",
      "Function value obtained: 9.6404\n",
      "Current minimum: 9.4284\n",
      "Iteration No: 27 started. Searching for the next optimal point.\n",
      "Iteration No: 27 ended. Search finished for the next optimal point.\n",
      "Time taken: 3.3041\n",
      "Function value obtained: 9.4525\n",
      "Current minimum: 9.4284\n",
      "Iteration No: 28 started. Searching for the next optimal point.\n",
      "Iteration No: 28 ended. Search finished for the next optimal point.\n",
      "Time taken: 2.9285\n",
      "Function value obtained: 9.5131\n",
      "Current minimum: 9.4284\n",
      "Iteration No: 29 started. Searching for the next optimal point.\n",
      "Iteration No: 29 ended. Search finished for the next optimal point.\n",
      "Time taken: 3.7195\n",
      "Function value obtained: 10.0138\n",
      "Current minimum: 9.4284\n",
      "Iteration No: 30 started. Searching for the next optimal point.\n",
      "Iteration No: 30 ended. Search finished for the next optimal point.\n",
      "Time taken: 3.0421\n",
      "Function value obtained: 9.4330\n",
      "Current minimum: 9.4284\n",
      "Iteration No: 31 started. Searching for the next optimal point.\n",
      "Iteration No: 31 ended. Search finished for the next optimal point.\n",
      "Time taken: 2.7852\n",
      "Function value obtained: 9.5534\n",
      "Current minimum: 9.4284\n",
      "Iteration No: 32 started. Searching for the next optimal point.\n",
      "Iteration No: 32 ended. Search finished for the next optimal point.\n",
      "Time taken: 3.2012\n",
      "Function value obtained: 9.4291\n",
      "Current minimum: 9.4284\n",
      "Iteration No: 33 started. Searching for the next optimal point.\n",
      "Iteration No: 33 ended. Search finished for the next optimal point.\n",
      "Time taken: 3.0263\n",
      "Function value obtained: 9.5638\n",
      "Current minimum: 9.4284\n",
      "Iteration No: 34 started. Searching for the next optimal point.\n",
      "Iteration No: 34 ended. Search finished for the next optimal point.\n",
      "Time taken: 2.4458\n",
      "Function value obtained: 9.9451\n",
      "Current minimum: 9.4284\n",
      "Iteration No: 35 started. Searching for the next optimal point.\n",
      "Iteration No: 35 ended. Search finished for the next optimal point.\n",
      "Time taken: 3.3070\n",
      "Function value obtained: 9.5326\n",
      "Current minimum: 9.4284\n",
      "Iteration No: 36 started. Searching for the next optimal point.\n",
      "Iteration No: 36 ended. Search finished for the next optimal point.\n",
      "Time taken: 3.3786\n",
      "Function value obtained: 9.4283\n",
      "Current minimum: 9.4283\n",
      "Iteration No: 37 started. Searching for the next optimal point.\n",
      "Iteration No: 37 ended. Search finished for the next optimal point.\n",
      "Time taken: 3.2721\n",
      "Function value obtained: 9.4305\n",
      "Current minimum: 9.4283\n",
      "Iteration No: 38 started. Searching for the next optimal point.\n",
      "Iteration No: 38 ended. Search finished for the next optimal point.\n",
      "Time taken: 3.4489\n",
      "Function value obtained: 9.4913\n",
      "Current minimum: 9.4283\n",
      "Iteration No: 39 started. Searching for the next optimal point.\n",
      "Iteration No: 39 ended. Search finished for the next optimal point.\n",
      "Time taken: 3.3226\n",
      "Function value obtained: 9.4286\n",
      "Current minimum: 9.4283\n",
      "Iteration No: 40 started. Searching for the next optimal point.\n",
      "Iteration No: 40 ended. Search finished for the next optimal point.\n",
      "Time taken: 3.2334\n",
      "Function value obtained: 9.4282\n",
      "Current minimum: 9.4282\n",
      "Iteration No: 41 started. Searching for the next optimal point.\n"
     ]
    },
    {
     "name": "stdout",
     "output_type": "stream",
     "text": [
      "Iteration No: 41 ended. Search finished for the next optimal point.\n",
      "Time taken: 3.0624\n",
      "Function value obtained: 9.4285\n",
      "Current minimum: 9.4282\n",
      "Iteration No: 42 started. Searching for the next optimal point.\n",
      "Iteration No: 42 ended. Search finished for the next optimal point.\n",
      "Time taken: 3.1889\n",
      "Function value obtained: 9.4294\n",
      "Current minimum: 9.4282\n",
      "Iteration No: 43 started. Searching for the next optimal point.\n",
      "Iteration No: 43 ended. Search finished for the next optimal point.\n",
      "Time taken: 3.5151\n",
      "Function value obtained: 9.4868\n",
      "Current minimum: 9.4282\n",
      "Iteration No: 44 started. Searching for the next optimal point.\n",
      "Iteration No: 44 ended. Search finished for the next optimal point.\n",
      "Time taken: 3.1526\n",
      "Function value obtained: 9.4302\n",
      "Current minimum: 9.4282\n",
      "Iteration No: 45 started. Searching for the next optimal point.\n",
      "Iteration No: 45 ended. Search finished for the next optimal point.\n",
      "Time taken: 4.0119\n",
      "Function value obtained: 9.9229\n",
      "Current minimum: 9.4282\n",
      "Iteration No: 46 started. Searching for the next optimal point.\n",
      "Iteration No: 46 ended. Search finished for the next optimal point.\n",
      "Time taken: 3.3405\n",
      "Function value obtained: 9.4271\n",
      "Current minimum: 9.4271\n",
      "Iteration No: 47 started. Searching for the next optimal point.\n",
      "Iteration No: 47 ended. Search finished for the next optimal point.\n",
      "Time taken: 3.3799\n",
      "Function value obtained: 9.4272\n",
      "Current minimum: 9.4271\n",
      "Iteration No: 48 started. Searching for the next optimal point.\n",
      "Iteration No: 48 ended. Search finished for the next optimal point.\n",
      "Time taken: 3.3310\n",
      "Function value obtained: 9.4280\n",
      "Current minimum: 9.4271\n",
      "Iteration No: 49 started. Searching for the next optimal point.\n",
      "Iteration No: 49 ended. Search finished for the next optimal point.\n",
      "Time taken: 3.5688\n",
      "Function value obtained: 9.4266\n",
      "Current minimum: 9.4266\n",
      "Iteration No: 50 started. Searching for the next optimal point.\n",
      "Iteration No: 50 ended. Search finished for the next optimal point.\n",
      "Time taken: 3.4913\n",
      "Function value obtained: 9.4271\n",
      "Current minimum: 9.4266\n",
      "minimisation iteration 2\n",
      "Iteration No: 1 started. Evaluating function at random point.\n",
      "Iteration No: 1 ended. Evaluation done at random point.\n",
      "Time taken: 2.4293\n",
      "Function value obtained: 10.0154\n",
      "Current minimum: 10.0154\n",
      "Iteration No: 2 started. Evaluating function at random point.\n",
      "Iteration No: 2 ended. Evaluation done at random point.\n",
      "Time taken: 1.9123\n",
      "Function value obtained: 9.5267\n",
      "Current minimum: 9.5267\n",
      "Iteration No: 3 started. Evaluating function at random point.\n",
      "Iteration No: 3 ended. Evaluation done at random point.\n",
      "Time taken: 3.1357\n",
      "Function value obtained: 9.7791\n",
      "Current minimum: 9.5267\n",
      "Iteration No: 4 started. Evaluating function at random point.\n",
      "Iteration No: 4 ended. Evaluation done at random point.\n",
      "Time taken: 1.2993\n",
      "Function value obtained: 9.7435\n",
      "Current minimum: 9.5267\n",
      "Iteration No: 5 started. Evaluating function at random point.\n",
      "Iteration No: 5 ended. Evaluation done at random point.\n",
      "Time taken: 2.0946\n",
      "Function value obtained: 9.5612\n",
      "Current minimum: 9.5267\n",
      "Iteration No: 6 started. Evaluating function at random point.\n",
      "Iteration No: 6 ended. Evaluation done at random point.\n",
      "Time taken: 1.7564\n",
      "Function value obtained: 9.5633\n",
      "Current minimum: 9.5267\n",
      "Iteration No: 7 started. Evaluating function at random point.\n",
      "Iteration No: 7 ended. Evaluation done at random point.\n",
      "Time taken: 2.0417\n",
      "Function value obtained: 9.5578\n",
      "Current minimum: 9.5267\n",
      "Iteration No: 8 started. Evaluating function at random point.\n",
      "Iteration No: 8 ended. Evaluation done at random point.\n",
      "Time taken: 2.8174\n",
      "Function value obtained: 9.8308\n",
      "Current minimum: 9.5267\n",
      "Iteration No: 9 started. Evaluating function at random point.\n",
      "Iteration No: 9 ended. Evaluation done at random point.\n",
      "Time taken: 1.6815\n",
      "Function value obtained: 9.5193\n",
      "Current minimum: 9.5193\n",
      "Iteration No: 10 started. Evaluating function at random point.\n",
      "Iteration No: 10 ended. Evaluation done at random point.\n",
      "Time taken: 3.5336\n",
      "Function value obtained: 9.6335\n",
      "Current minimum: 9.5193\n",
      "Iteration No: 11 started. Searching for the next optimal point.\n",
      "Iteration No: 11 ended. Search finished for the next optimal point.\n",
      "Time taken: 2.2530\n",
      "Function value obtained: 9.5863\n",
      "Current minimum: 9.5193\n",
      "Iteration No: 12 started. Searching for the next optimal point.\n",
      "Iteration No: 12 ended. Search finished for the next optimal point.\n",
      "Time taken: 2.5089\n",
      "Function value obtained: 9.5036\n",
      "Current minimum: 9.5036\n",
      "Iteration No: 13 started. Searching for the next optimal point.\n",
      "Iteration No: 13 ended. Search finished for the next optimal point.\n",
      "Time taken: 2.6119\n",
      "Function value obtained: 9.5137\n",
      "Current minimum: 9.5036\n",
      "Iteration No: 14 started. Searching for the next optimal point.\n",
      "Iteration No: 14 ended. Search finished for the next optimal point.\n",
      "Time taken: 2.4535\n",
      "Function value obtained: 9.5277\n",
      "Current minimum: 9.5036\n",
      "Iteration No: 15 started. Searching for the next optimal point.\n",
      "Iteration No: 15 ended. Search finished for the next optimal point.\n",
      "Time taken: 2.4896\n",
      "Function value obtained: 9.4796\n",
      "Current minimum: 9.4796\n",
      "Iteration No: 16 started. Searching for the next optimal point.\n",
      "Iteration No: 16 ended. Search finished for the next optimal point.\n",
      "Time taken: 13.0691\n",
      "Function value obtained: 10.3448\n",
      "Current minimum: 9.4796\n",
      "Iteration No: 17 started. Searching for the next optimal point.\n",
      "Iteration No: 17 ended. Search finished for the next optimal point.\n",
      "Time taken: 1.9314\n",
      "Function value obtained: 9.7732\n",
      "Current minimum: 9.4796\n",
      "Iteration No: 18 started. Searching for the next optimal point.\n",
      "Iteration No: 18 ended. Search finished for the next optimal point.\n",
      "Time taken: 8.6504\n",
      "Function value obtained: 10.9068\n",
      "Current minimum: 9.4796\n",
      "Iteration No: 19 started. Searching for the next optimal point.\n",
      "Iteration No: 19 ended. Search finished for the next optimal point.\n",
      "Time taken: 2.5742\n",
      "Function value obtained: 9.4938\n",
      "Current minimum: 9.4796\n",
      "Iteration No: 20 started. Searching for the next optimal point.\n",
      "Iteration No: 20 ended. Search finished for the next optimal point.\n",
      "Time taken: 2.5201\n",
      "Function value obtained: 9.6195\n",
      "Current minimum: 9.4796\n",
      "Iteration No: 21 started. Searching for the next optimal point.\n",
      "Iteration No: 21 ended. Search finished for the next optimal point.\n",
      "Time taken: 2.7157\n",
      "Function value obtained: 9.4501\n",
      "Current minimum: 9.4501\n",
      "Iteration No: 22 started. Searching for the next optimal point.\n",
      "Iteration No: 22 ended. Search finished for the next optimal point.\n",
      "Time taken: 2.8430\n",
      "Function value obtained: 9.4302\n",
      "Current minimum: 9.4302\n",
      "Iteration No: 23 started. Searching for the next optimal point.\n",
      "Iteration No: 23 ended. Search finished for the next optimal point.\n",
      "Time taken: 3.1990\n",
      "Function value obtained: 9.4324\n",
      "Current minimum: 9.4302\n",
      "Iteration No: 24 started. Searching for the next optimal point.\n",
      "Iteration No: 24 ended. Search finished for the next optimal point.\n",
      "Time taken: 3.2006\n",
      "Function value obtained: 9.4278\n",
      "Current minimum: 9.4278\n",
      "Iteration No: 25 started. Searching for the next optimal point.\n",
      "Iteration No: 25 ended. Search finished for the next optimal point.\n",
      "Time taken: 3.3684\n",
      "Function value obtained: 9.4498\n",
      "Current minimum: 9.4278\n",
      "Iteration No: 26 started. Searching for the next optimal point.\n",
      "Iteration No: 26 ended. Search finished for the next optimal point.\n",
      "Time taken: 3.5035\n",
      "Function value obtained: 9.5258\n",
      "Current minimum: 9.4278\n",
      "Iteration No: 27 started. Searching for the next optimal point.\n",
      "Iteration No: 27 ended. Search finished for the next optimal point.\n",
      "Time taken: 2.7524\n",
      "Function value obtained: 9.5406\n",
      "Current minimum: 9.4278\n",
      "Iteration No: 28 started. Searching for the next optimal point.\n",
      "Iteration No: 28 ended. Search finished for the next optimal point.\n",
      "Time taken: 2.9170\n",
      "Function value obtained: 9.6219\n",
      "Current minimum: 9.4278\n",
      "Iteration No: 29 started. Searching for the next optimal point.\n",
      "Iteration No: 29 ended. Search finished for the next optimal point.\n",
      "Time taken: 3.0898\n",
      "Function value obtained: 9.4315\n",
      "Current minimum: 9.4278\n",
      "Iteration No: 30 started. Searching for the next optimal point.\n",
      "Iteration No: 30 ended. Search finished for the next optimal point.\n",
      "Time taken: 2.9755\n",
      "Function value obtained: 9.4359\n",
      "Current minimum: 9.4278\n",
      "Iteration No: 31 started. Searching for the next optimal point.\n",
      "Iteration No: 31 ended. Search finished for the next optimal point.\n",
      "Time taken: 2.0890\n",
      "Function value obtained: 9.9188\n",
      "Current minimum: 9.4278\n",
      "Iteration No: 32 started. Searching for the next optimal point.\n"
     ]
    },
    {
     "name": "stdout",
     "output_type": "stream",
     "text": [
      "Iteration No: 32 ended. Search finished for the next optimal point.\n",
      "Time taken: 3.2448\n",
      "Function value obtained: 9.7953\n",
      "Current minimum: 9.4278\n",
      "Iteration No: 33 started. Searching for the next optimal point.\n",
      "Iteration No: 33 ended. Search finished for the next optimal point.\n",
      "Time taken: 3.2502\n",
      "Function value obtained: 9.4770\n",
      "Current minimum: 9.4278\n",
      "Iteration No: 34 started. Searching for the next optimal point.\n",
      "Iteration No: 34 ended. Search finished for the next optimal point.\n",
      "Time taken: 2.5603\n",
      "Function value obtained: 9.6427\n",
      "Current minimum: 9.4278\n",
      "Iteration No: 35 started. Searching for the next optimal point.\n",
      "Iteration No: 35 ended. Search finished for the next optimal point.\n",
      "Time taken: 2.9729\n",
      "Function value obtained: 9.4394\n",
      "Current minimum: 9.4278\n",
      "Iteration No: 36 started. Searching for the next optimal point.\n",
      "Iteration No: 36 ended. Search finished for the next optimal point.\n",
      "Time taken: 3.1252\n",
      "Function value obtained: 9.4352\n",
      "Current minimum: 9.4278\n",
      "Iteration No: 37 started. Searching for the next optimal point.\n",
      "Iteration No: 37 ended. Search finished for the next optimal point.\n",
      "Time taken: 2.7064\n",
      "Function value obtained: 9.5402\n",
      "Current minimum: 9.4278\n",
      "Iteration No: 38 started. Searching for the next optimal point.\n",
      "Iteration No: 38 ended. Search finished for the next optimal point.\n",
      "Time taken: 3.1636\n",
      "Function value obtained: 9.4387\n",
      "Current minimum: 9.4278\n",
      "Iteration No: 39 started. Searching for the next optimal point.\n",
      "Iteration No: 39 ended. Search finished for the next optimal point.\n",
      "Time taken: 3.2131\n",
      "Function value obtained: 9.4298\n",
      "Current minimum: 9.4278\n",
      "Iteration No: 40 started. Searching for the next optimal point.\n",
      "Iteration No: 40 ended. Search finished for the next optimal point.\n",
      "Time taken: 3.2079\n",
      "Function value obtained: 9.4723\n",
      "Current minimum: 9.4278\n",
      "Iteration No: 41 started. Searching for the next optimal point.\n",
      "Iteration No: 41 ended. Search finished for the next optimal point.\n",
      "Time taken: 3.4305\n",
      "Function value obtained: 9.5386\n",
      "Current minimum: 9.4278\n",
      "Iteration No: 42 started. Searching for the next optimal point.\n",
      "Iteration No: 42 ended. Search finished for the next optimal point.\n",
      "Time taken: 2.7491\n",
      "Function value obtained: 9.8843\n",
      "Current minimum: 9.4278\n",
      "Iteration No: 43 started. Searching for the next optimal point.\n",
      "Iteration No: 43 ended. Search finished for the next optimal point.\n",
      "Time taken: 3.2139\n",
      "Function value obtained: 9.4342\n",
      "Current minimum: 9.4278\n",
      "Iteration No: 44 started. Searching for the next optimal point.\n",
      "Iteration No: 44 ended. Search finished for the next optimal point.\n",
      "Time taken: 3.2640\n",
      "Function value obtained: 9.5503\n",
      "Current minimum: 9.4278\n",
      "Iteration No: 45 started. Searching for the next optimal point.\n",
      "Iteration No: 45 ended. Search finished for the next optimal point.\n",
      "Time taken: 3.1879\n",
      "Function value obtained: 9.4297\n",
      "Current minimum: 9.4278\n",
      "Iteration No: 46 started. Searching for the next optimal point.\n",
      "Iteration No: 46 ended. Search finished for the next optimal point.\n",
      "Time taken: 3.2089\n",
      "Function value obtained: 9.4863\n",
      "Current minimum: 9.4278\n",
      "Iteration No: 47 started. Searching for the next optimal point.\n",
      "Iteration No: 47 ended. Search finished for the next optimal point.\n",
      "Time taken: 3.4896\n",
      "Function value obtained: 9.5696\n",
      "Current minimum: 9.4278\n",
      "Iteration No: 48 started. Searching for the next optimal point.\n",
      "Iteration No: 48 ended. Search finished for the next optimal point.\n",
      "Time taken: 3.5364\n",
      "Function value obtained: 9.4528\n",
      "Current minimum: 9.4278\n",
      "Iteration No: 49 started. Searching for the next optimal point.\n",
      "Iteration No: 49 ended. Search finished for the next optimal point.\n",
      "Time taken: 4.0942\n",
      "Function value obtained: 9.4782\n",
      "Current minimum: 9.4278\n",
      "Iteration No: 50 started. Searching for the next optimal point.\n",
      "Iteration No: 50 ended. Search finished for the next optimal point.\n",
      "Time taken: 3.1747\n",
      "Function value obtained: 9.4381\n",
      "Current minimum: 9.4278\n",
      "minimisation iteration 3\n",
      "Iteration No: 1 started. Evaluating function at random point.\n",
      "Iteration No: 1 ended. Evaluation done at random point.\n",
      "Time taken: 1.5613\n",
      "Function value obtained: 9.6020\n",
      "Current minimum: 9.6020\n",
      "Iteration No: 2 started. Evaluating function at random point.\n",
      "Iteration No: 2 ended. Evaluation done at random point.\n",
      "Time taken: 1.9783\n",
      "Function value obtained: 9.5557\n",
      "Current minimum: 9.5557\n",
      "Iteration No: 3 started. Evaluating function at random point.\n",
      "Iteration No: 3 ended. Evaluation done at random point.\n",
      "Time taken: 2.5460\n",
      "Function value obtained: 9.5780\n",
      "Current minimum: 9.5557\n",
      "Iteration No: 4 started. Evaluating function at random point.\n",
      "Iteration No: 4 ended. Evaluation done at random point.\n",
      "Time taken: 2.7776\n",
      "Function value obtained: 9.5081\n",
      "Current minimum: 9.5081\n",
      "Iteration No: 5 started. Evaluating function at random point.\n",
      "Iteration No: 5 ended. Evaluation done at random point.\n",
      "Time taken: 2.4936\n",
      "Function value obtained: 9.6050\n",
      "Current minimum: 9.5081\n",
      "Iteration No: 6 started. Evaluating function at random point.\n",
      "Iteration No: 6 ended. Evaluation done at random point.\n",
      "Time taken: 1.6356\n",
      "Function value obtained: 9.5673\n",
      "Current minimum: 9.5081\n",
      "Iteration No: 7 started. Evaluating function at random point.\n",
      "Iteration No: 7 ended. Evaluation done at random point.\n",
      "Time taken: 2.1515\n",
      "Function value obtained: 9.7420\n",
      "Current minimum: 9.5081\n",
      "Iteration No: 8 started. Evaluating function at random point.\n",
      "Iteration No: 8 ended. Evaluation done at random point.\n",
      "Time taken: 2.3042\n",
      "Function value obtained: 10.1186\n",
      "Current minimum: 9.5081\n",
      "Iteration No: 9 started. Evaluating function at random point.\n",
      "Iteration No: 9 ended. Evaluation done at random point.\n",
      "Time taken: 2.2559\n",
      "Function value obtained: 9.6171\n",
      "Current minimum: 9.5081\n",
      "Iteration No: 10 started. Evaluating function at random point.\n",
      "Iteration No: 10 ended. Evaluation done at random point.\n",
      "Time taken: 2.2893\n",
      "Function value obtained: 9.5701\n",
      "Current minimum: 9.5081\n",
      "Iteration No: 11 started. Searching for the next optimal point.\n",
      "Iteration No: 11 ended. Search finished for the next optimal point.\n",
      "Time taken: 12.1626\n",
      "Function value obtained: 10.3601\n",
      "Current minimum: 9.5081\n",
      "Iteration No: 12 started. Searching for the next optimal point.\n",
      "Iteration No: 12 ended. Search finished for the next optimal point.\n",
      "Time taken: 1.7740\n",
      "Function value obtained: 9.8738\n",
      "Current minimum: 9.5081\n",
      "Iteration No: 13 started. Searching for the next optimal point.\n",
      "Iteration No: 13 ended. Search finished for the next optimal point.\n",
      "Time taken: 3.3989\n",
      "Function value obtained: 9.5796\n",
      "Current minimum: 9.5081\n",
      "Iteration No: 14 started. Searching for the next optimal point.\n",
      "Iteration No: 14 ended. Search finished for the next optimal point.\n",
      "Time taken: 3.9893\n",
      "Function value obtained: 10.4239\n",
      "Current minimum: 9.5081\n",
      "Iteration No: 15 started. Searching for the next optimal point.\n",
      "Iteration No: 15 ended. Search finished for the next optimal point.\n",
      "Time taken: 3.6491\n",
      "Function value obtained: 9.5443\n",
      "Current minimum: 9.5081\n",
      "Iteration No: 16 started. Searching for the next optimal point.\n",
      "Iteration No: 16 ended. Search finished for the next optimal point.\n",
      "Time taken: 2.7555\n",
      "Function value obtained: 9.5291\n",
      "Current minimum: 9.5081\n",
      "Iteration No: 17 started. Searching for the next optimal point.\n",
      "Iteration No: 17 ended. Search finished for the next optimal point.\n",
      "Time taken: 2.7519\n",
      "Function value obtained: 9.5300\n",
      "Current minimum: 9.5081\n",
      "Iteration No: 18 started. Searching for the next optimal point.\n",
      "Iteration No: 18 ended. Search finished for the next optimal point.\n",
      "Time taken: 2.7671\n",
      "Function value obtained: 9.5162\n",
      "Current minimum: 9.5081\n",
      "Iteration No: 19 started. Searching for the next optimal point.\n",
      "Iteration No: 19 ended. Search finished for the next optimal point.\n",
      "Time taken: 20.5432\n",
      "Function value obtained: 10.3572\n",
      "Current minimum: 9.5081\n",
      "Iteration No: 20 started. Searching for the next optimal point.\n",
      "Iteration No: 20 ended. Search finished for the next optimal point.\n",
      "Time taken: 3.6972\n",
      "Function value obtained: 9.6323\n",
      "Current minimum: 9.5081\n",
      "Iteration No: 21 started. Searching for the next optimal point.\n",
      "Iteration No: 21 ended. Search finished for the next optimal point.\n",
      "Time taken: 3.7296\n",
      "Function value obtained: 9.7042\n",
      "Current minimum: 9.5081\n",
      "Iteration No: 22 started. Searching for the next optimal point.\n",
      "Iteration No: 22 ended. Search finished for the next optimal point.\n",
      "Time taken: 3.0737\n",
      "Function value obtained: 9.4726\n",
      "Current minimum: 9.4726\n",
      "Iteration No: 23 started. Searching for the next optimal point.\n"
     ]
    },
    {
     "name": "stdout",
     "output_type": "stream",
     "text": [
      "Iteration No: 23 ended. Search finished for the next optimal point.\n",
      "Time taken: 2.7671\n",
      "Function value obtained: 9.4625\n",
      "Current minimum: 9.4625\n",
      "Iteration No: 24 started. Searching for the next optimal point.\n",
      "Iteration No: 24 ended. Search finished for the next optimal point.\n",
      "Time taken: 2.6311\n",
      "Function value obtained: 9.4869\n",
      "Current minimum: 9.4625\n",
      "Iteration No: 25 started. Searching for the next optimal point.\n",
      "Iteration No: 25 ended. Search finished for the next optimal point.\n",
      "Time taken: 2.1104\n",
      "Function value obtained: 9.9188\n",
      "Current minimum: 9.4625\n",
      "Iteration No: 26 started. Searching for the next optimal point.\n",
      "Iteration No: 26 ended. Search finished for the next optimal point.\n",
      "Time taken: 2.5936\n",
      "Function value obtained: 9.6883\n",
      "Current minimum: 9.4625\n",
      "Iteration No: 27 started. Searching for the next optimal point.\n",
      "Iteration No: 27 ended. Search finished for the next optimal point.\n",
      "Time taken: 3.0833\n",
      "Function value obtained: 9.4482\n",
      "Current minimum: 9.4482\n",
      "Iteration No: 28 started. Searching for the next optimal point.\n",
      "Iteration No: 28 ended. Search finished for the next optimal point.\n",
      "Time taken: 2.9112\n",
      "Function value obtained: 9.4292\n",
      "Current minimum: 9.4292\n",
      "Iteration No: 29 started. Searching for the next optimal point.\n",
      "Iteration No: 29 ended. Search finished for the next optimal point.\n",
      "Time taken: 3.0622\n",
      "Function value obtained: 9.4367\n",
      "Current minimum: 9.4292\n",
      "Iteration No: 30 started. Searching for the next optimal point.\n",
      "Iteration No: 30 ended. Search finished for the next optimal point.\n",
      "Time taken: 3.2629\n",
      "Function value obtained: 9.4358\n",
      "Current minimum: 9.4292\n",
      "Iteration No: 31 started. Searching for the next optimal point.\n",
      "Iteration No: 31 ended. Search finished for the next optimal point.\n",
      "Time taken: 3.1260\n",
      "Function value obtained: 9.5980\n",
      "Current minimum: 9.4292\n",
      "Iteration No: 32 started. Searching for the next optimal point.\n",
      "Iteration No: 32 ended. Search finished for the next optimal point.\n",
      "Time taken: 3.0629\n",
      "Function value obtained: 9.4367\n",
      "Current minimum: 9.4292\n",
      "Iteration No: 33 started. Searching for the next optimal point.\n",
      "Iteration No: 33 ended. Search finished for the next optimal point.\n",
      "Time taken: 3.0085\n",
      "Function value obtained: 9.4346\n",
      "Current minimum: 9.4292\n",
      "Iteration No: 34 started. Searching for the next optimal point.\n",
      "Iteration No: 34 ended. Search finished for the next optimal point.\n",
      "Time taken: 2.8969\n",
      "Function value obtained: 9.5632\n",
      "Current minimum: 9.4292\n",
      "Iteration No: 35 started. Searching for the next optimal point.\n",
      "Iteration No: 35 ended. Search finished for the next optimal point.\n",
      "Time taken: 2.8287\n",
      "Function value obtained: 9.4842\n",
      "Current minimum: 9.4292\n",
      "Iteration No: 36 started. Searching for the next optimal point.\n",
      "Iteration No: 36 ended. Search finished for the next optimal point.\n",
      "Time taken: 3.7088\n",
      "Function value obtained: 10.0138\n",
      "Current minimum: 9.4292\n",
      "Iteration No: 37 started. Searching for the next optimal point.\n",
      "Iteration No: 37 ended. Search finished for the next optimal point.\n",
      "Time taken: 3.6725\n",
      "Function value obtained: 9.5591\n",
      "Current minimum: 9.4292\n",
      "Iteration No: 38 started. Searching for the next optimal point.\n",
      "Iteration No: 38 ended. Search finished for the next optimal point.\n",
      "Time taken: 3.1394\n",
      "Function value obtained: 9.4437\n",
      "Current minimum: 9.4292\n",
      "Iteration No: 39 started. Searching for the next optimal point.\n",
      "Iteration No: 39 ended. Search finished for the next optimal point.\n",
      "Time taken: 2.2723\n",
      "Function value obtained: 9.9451\n",
      "Current minimum: 9.4292\n",
      "Iteration No: 40 started. Searching for the next optimal point.\n",
      "Iteration No: 40 ended. Search finished for the next optimal point.\n",
      "Time taken: 3.0580\n",
      "Function value obtained: 9.4325\n",
      "Current minimum: 9.4292\n",
      "Iteration No: 41 started. Searching for the next optimal point.\n",
      "Iteration No: 41 ended. Search finished for the next optimal point.\n",
      "Time taken: 2.9797\n",
      "Function value obtained: 9.4280\n",
      "Current minimum: 9.4280\n",
      "Iteration No: 42 started. Searching for the next optimal point.\n",
      "Iteration No: 42 ended. Search finished for the next optimal point.\n",
      "Time taken: 2.9948\n",
      "Function value obtained: 9.5271\n",
      "Current minimum: 9.4280\n",
      "Iteration No: 43 started. Searching for the next optimal point.\n",
      "Iteration No: 43 ended. Search finished for the next optimal point.\n",
      "Time taken: 2.8209\n",
      "Function value obtained: 9.5312\n",
      "Current minimum: 9.4280\n",
      "Iteration No: 44 started. Searching for the next optimal point.\n",
      "Iteration No: 44 ended. Search finished for the next optimal point.\n",
      "Time taken: 3.2747\n",
      "Function value obtained: 9.4353\n",
      "Current minimum: 9.4280\n",
      "Iteration No: 45 started. Searching for the next optimal point.\n",
      "Iteration No: 45 ended. Search finished for the next optimal point.\n",
      "Time taken: 3.2534\n",
      "Function value obtained: 9.5536\n",
      "Current minimum: 9.4280\n",
      "Iteration No: 46 started. Searching for the next optimal point.\n",
      "Iteration No: 46 ended. Search finished for the next optimal point.\n",
      "Time taken: 3.2062\n",
      "Function value obtained: 9.4749\n",
      "Current minimum: 9.4280\n",
      "Iteration No: 47 started. Searching for the next optimal point.\n",
      "Iteration No: 47 ended. Search finished for the next optimal point.\n",
      "Time taken: 3.1822\n",
      "Function value obtained: 9.4364\n",
      "Current minimum: 9.4280\n",
      "Iteration No: 48 started. Searching for the next optimal point.\n",
      "Iteration No: 48 ended. Search finished for the next optimal point.\n",
      "Time taken: 2.8644\n",
      "Function value obtained: 9.5741\n",
      "Current minimum: 9.4280\n",
      "Iteration No: 49 started. Searching for the next optimal point.\n",
      "Iteration No: 49 ended. Search finished for the next optimal point.\n",
      "Time taken: 3.3082\n",
      "Function value obtained: 9.4308\n",
      "Current minimum: 9.4280\n",
      "Iteration No: 50 started. Searching for the next optimal point.\n",
      "Iteration No: 50 ended. Search finished for the next optimal point.\n",
      "Time taken: 3.2314\n",
      "Function value obtained: 9.6190\n",
      "Current minimum: 9.4280\n"
     ]
    }
   ],
   "source": [
    "rbf_full_sel_res_gp_arr = []\n",
    "for i in range(1, 4):\n",
    "    print('minimisation iteration', i)\n",
    "    rbf_full_sel_res_gp = gp_minimize(rbf_full_sel_objective, rbf_full_sel_space, n_calls=50, verbose=2)\n",
    "    rbf_full_sel_res_gp_arr.append(rbf_full_sel_res_gp)"
   ]
  },
  {
   "cell_type": "code",
   "execution_count": 224,
   "metadata": {
    "ExecuteTime": {
     "end_time": "2019-07-26T16:02:50.478981Z",
     "start_time": "2019-07-26T16:02:50.474490Z"
    },
    "hidden": true
   },
   "outputs": [
    {
     "name": "stdout",
     "output_type": "stream",
     "text": [
      "9.426619506475614\n",
      "9.427845905013227\n",
      "9.427985462288966\n",
      "\n",
      "\n",
      "[1.9488680302103305, 236.66009529575533, 0.001]\n",
      "[1.8728353323816964, 254.42567449670523, 0.001]\n",
      "[1.9626173294311209, 248.01371773840452, 0.0007617999890597855]\n"
     ]
    }
   ],
   "source": [
    "for i in rbf_full_sel_res_gp_arr:\n",
    "    print(i.fun)\n",
    "print('\\n')\n",
    "for i in rbf_full_sel_res_gp_arr:\n",
    "    print(i.x)"
   ]
  },
  {
   "cell_type": "markdown",
   "metadata": {
    "heading_collapsed": true,
    "hidden": true
   },
   "source": [
    "##### Selected refined feature set"
   ]
  },
  {
   "cell_type": "code",
   "execution_count": 162,
   "metadata": {
    "ExecuteTime": {
     "end_time": "2019-07-26T15:16:49.350416Z",
     "start_time": "2019-07-26T15:16:49.336571Z"
    },
    "hidden": true
   },
   "outputs": [],
   "source": [
    "rbf_ref_sel_space = [\n",
    "    Real(0.1, 10, 'uniform', name='epsilon'),\n",
    "    Real(0.1, 10000, 'log-uniform', name='C'),\n",
    "    Real(0.00001, 0.01, 'log-uniform', name='gamma'),\n",
    "]"
   ]
  },
  {
   "cell_type": "code",
   "execution_count": 163,
   "metadata": {
    "ExecuteTime": {
     "end_time": "2019-07-26T15:16:51.327547Z",
     "start_time": "2019-07-26T15:16:51.317937Z"
    },
    "hidden": true
   },
   "outputs": [],
   "source": [
    "rbf_ref_sel_gp_model = SVR(kernel='rbf')\n",
    "\n",
    "@use_named_args(rbf_ref_sel_space)\n",
    "def rbf_ref_sel_objective(**params):\n",
    "    rbf_ref_sel_gp_model.set_params(**params)\n",
    "\n",
    "    return -np.mean(\n",
    "        cross_val_score(\n",
    "            rbf_ref_sel_gp_model,\n",
    "            X_ref_sel,\n",
    "            y_ref.ravel(),\n",
    "            cv=ps,\n",
    "            n_jobs=1,\n",
    "            scoring=\"neg_mean_squared_error\"))"
   ]
  },
  {
   "cell_type": "code",
   "execution_count": 167,
   "metadata": {
    "ExecuteTime": {
     "end_time": "2019-07-26T15:27:47.318363Z",
     "start_time": "2019-07-26T15:18:22.389226Z"
    },
    "hidden": true
   },
   "outputs": [
    {
     "name": "stdout",
     "output_type": "stream",
     "text": [
      "minimisation iteration 1\n",
      "Iteration No: 1 started. Evaluating function at random point.\n",
      "Iteration No: 1 ended. Evaluation done at random point.\n",
      "Time taken: 0.2088\n",
      "Function value obtained: 20.3640\n",
      "Current minimum: 20.3640\n",
      "Iteration No: 2 started. Evaluating function at random point.\n",
      "Iteration No: 2 ended. Evaluation done at random point.\n",
      "Time taken: 0.3541\n",
      "Function value obtained: 15.7642\n",
      "Current minimum: 15.7642\n",
      "Iteration No: 3 started. Evaluating function at random point.\n",
      "Iteration No: 3 ended. Evaluation done at random point.\n",
      "Time taken: 2.5728\n",
      "Function value obtained: 10.7325\n",
      "Current minimum: 10.7325\n",
      "Iteration No: 4 started. Evaluating function at random point.\n",
      "Iteration No: 4 ended. Evaluation done at random point.\n",
      "Time taken: 0.0672\n",
      "Function value obtained: 29.1142\n",
      "Current minimum: 10.7325\n",
      "Iteration No: 5 started. Evaluating function at random point.\n",
      "Iteration No: 5 ended. Evaluation done at random point.\n",
      "Time taken: 2.9480\n",
      "Function value obtained: 10.6404\n",
      "Current minimum: 10.6404\n",
      "Iteration No: 6 started. Evaluating function at random point.\n",
      "Iteration No: 6 ended. Evaluation done at random point.\n",
      "Time taken: 3.1801\n",
      "Function value obtained: 10.5065\n",
      "Current minimum: 10.5065\n",
      "Iteration No: 7 started. Evaluating function at random point.\n",
      "Iteration No: 7 ended. Evaluation done at random point.\n",
      "Time taken: 2.9421\n",
      "Function value obtained: 10.0209\n",
      "Current minimum: 10.0209\n",
      "Iteration No: 8 started. Evaluating function at random point.\n",
      "Iteration No: 8 ended. Evaluation done at random point.\n",
      "Time taken: 0.1074\n",
      "Function value obtained: 20.9610\n",
      "Current minimum: 10.0209\n",
      "Iteration No: 9 started. Evaluating function at random point.\n",
      "Iteration No: 9 ended. Evaluation done at random point.\n",
      "Time taken: 3.1161\n",
      "Function value obtained: 9.9343\n",
      "Current minimum: 9.9343\n",
      "Iteration No: 10 started. Evaluating function at random point.\n",
      "Iteration No: 10 ended. Evaluation done at random point.\n",
      "Time taken: 0.7551\n",
      "Function value obtained: 30.3699\n",
      "Current minimum: 9.9343\n",
      "Iteration No: 11 started. Searching for the next optimal point.\n",
      "Iteration No: 11 ended. Search finished for the next optimal point.\n",
      "Time taken: 20.1137\n",
      "Function value obtained: 14.6617\n",
      "Current minimum: 9.9343\n",
      "Iteration No: 12 started. Searching for the next optimal point.\n",
      "Iteration No: 12 ended. Search finished for the next optimal point.\n",
      "Time taken: 51.4155\n",
      "Function value obtained: 15.1041\n",
      "Current minimum: 9.9343\n",
      "Iteration No: 13 started. Searching for the next optimal point.\n",
      "Iteration No: 13 ended. Search finished for the next optimal point.\n",
      "Time taken: 2.7060\n",
      "Function value obtained: 9.5146\n",
      "Current minimum: 9.5146\n",
      "Iteration No: 14 started. Searching for the next optimal point.\n",
      "Iteration No: 14 ended. Search finished for the next optimal point.\n",
      "Time taken: 2.2676\n",
      "Function value obtained: 10.0939\n",
      "Current minimum: 9.5146\n",
      "Iteration No: 15 started. Searching for the next optimal point.\n",
      "Iteration No: 15 ended. Search finished for the next optimal point.\n",
      "Time taken: 2.0828\n",
      "Function value obtained: 9.5297\n",
      "Current minimum: 9.5146\n",
      "Iteration No: 16 started. Searching for the next optimal point.\n",
      "Iteration No: 16 ended. Search finished for the next optimal point.\n",
      "Time taken: 4.6249\n",
      "Function value obtained: 10.3541\n",
      "Current minimum: 9.5146\n",
      "Iteration No: 17 started. Searching for the next optimal point.\n",
      "Iteration No: 17 ended. Search finished for the next optimal point.\n",
      "Time taken: 3.6897\n",
      "Function value obtained: 9.5066\n",
      "Current minimum: 9.5066\n",
      "Iteration No: 18 started. Searching for the next optimal point.\n",
      "Iteration No: 18 ended. Search finished for the next optimal point.\n",
      "Time taken: 4.6193\n",
      "Function value obtained: 10.9260\n",
      "Current minimum: 9.5066\n",
      "Iteration No: 19 started. Searching for the next optimal point.\n",
      "Iteration No: 19 ended. Search finished for the next optimal point.\n",
      "Time taken: 3.2498\n",
      "Function value obtained: 9.5106\n",
      "Current minimum: 9.5066\n",
      "Iteration No: 20 started. Searching for the next optimal point.\n",
      "Iteration No: 20 ended. Search finished for the next optimal point.\n",
      "Time taken: 3.0727\n",
      "Function value obtained: 9.4900\n",
      "Current minimum: 9.4900\n",
      "Iteration No: 21 started. Searching for the next optimal point.\n",
      "Iteration No: 21 ended. Search finished for the next optimal point.\n",
      "Time taken: 3.5302\n",
      "Function value obtained: 9.5386\n",
      "Current minimum: 9.4900\n",
      "Iteration No: 22 started. Searching for the next optimal point.\n",
      "Iteration No: 22 ended. Search finished for the next optimal point.\n",
      "Time taken: 3.5046\n",
      "Function value obtained: 9.4774\n",
      "Current minimum: 9.4774\n",
      "Iteration No: 23 started. Searching for the next optimal point.\n",
      "Iteration No: 23 ended. Search finished for the next optimal point.\n",
      "Time taken: 3.5595\n",
      "Function value obtained: 9.4512\n",
      "Current minimum: 9.4512\n",
      "Iteration No: 24 started. Searching for the next optimal point.\n",
      "Iteration No: 24 ended. Search finished for the next optimal point.\n",
      "Time taken: 3.4004\n",
      "Function value obtained: 9.4664\n",
      "Current minimum: 9.4512\n",
      "Iteration No: 25 started. Searching for the next optimal point.\n",
      "Iteration No: 25 ended. Search finished for the next optimal point.\n",
      "Time taken: 3.5049\n",
      "Function value obtained: 9.4401\n",
      "Current minimum: 9.4401\n",
      "Iteration No: 26 started. Searching for the next optimal point.\n",
      "Iteration No: 26 ended. Search finished for the next optimal point.\n",
      "Time taken: 3.1793\n",
      "Function value obtained: 9.5137\n",
      "Current minimum: 9.4401\n",
      "Iteration No: 27 started. Searching for the next optimal point.\n",
      "Iteration No: 27 ended. Search finished for the next optimal point.\n",
      "Time taken: 3.2111\n",
      "Function value obtained: 9.4323\n",
      "Current minimum: 9.4323\n",
      "Iteration No: 28 started. Searching for the next optimal point.\n",
      "Iteration No: 28 ended. Search finished for the next optimal point.\n",
      "Time taken: 3.2419\n",
      "Function value obtained: 9.4342\n",
      "Current minimum: 9.4323\n",
      "Iteration No: 29 started. Searching for the next optimal point.\n",
      "Iteration No: 29 ended. Search finished for the next optimal point.\n",
      "Time taken: 3.2244\n",
      "Function value obtained: 9.4478\n",
      "Current minimum: 9.4323\n",
      "Iteration No: 30 started. Searching for the next optimal point.\n",
      "Iteration No: 30 ended. Search finished for the next optimal point.\n",
      "Time taken: 3.4770\n",
      "Function value obtained: 9.8009\n",
      "Current minimum: 9.4323\n",
      "Iteration No: 31 started. Searching for the next optimal point.\n",
      "Iteration No: 31 ended. Search finished for the next optimal point.\n",
      "Time taken: 4.1876\n",
      "Function value obtained: 9.4597\n",
      "Current minimum: 9.4323\n",
      "Iteration No: 32 started. Searching for the next optimal point.\n",
      "Iteration No: 32 ended. Search finished for the next optimal point.\n",
      "Time taken: 3.7834\n",
      "Function value obtained: 9.4137\n",
      "Current minimum: 9.4137\n",
      "Iteration No: 33 started. Searching for the next optimal point.\n",
      "Iteration No: 33 ended. Search finished for the next optimal point.\n",
      "Time taken: 3.8938\n",
      "Function value obtained: 9.4430\n",
      "Current minimum: 9.4137\n",
      "Iteration No: 34 started. Searching for the next optimal point.\n",
      "Iteration No: 34 ended. Search finished for the next optimal point.\n",
      "Time taken: 3.3834\n",
      "Function value obtained: 9.4851\n",
      "Current minimum: 9.4137\n",
      "Iteration No: 35 started. Searching for the next optimal point.\n",
      "Iteration No: 35 ended. Search finished for the next optimal point.\n",
      "Time taken: 3.6777\n",
      "Function value obtained: 9.4253\n",
      "Current minimum: 9.4137\n",
      "Iteration No: 36 started. Searching for the next optimal point.\n",
      "Iteration No: 36 ended. Search finished for the next optimal point.\n",
      "Time taken: 3.9854\n",
      "Function value obtained: 9.6536\n",
      "Current minimum: 9.4137\n",
      "Iteration No: 37 started. Searching for the next optimal point.\n",
      "Iteration No: 37 ended. Search finished for the next optimal point.\n",
      "Time taken: 3.7929\n",
      "Function value obtained: 9.4885\n",
      "Current minimum: 9.4137\n",
      "Iteration No: 38 started. Searching for the next optimal point.\n",
      "Iteration No: 38 ended. Search finished for the next optimal point.\n",
      "Time taken: 3.5108\n",
      "Function value obtained: 9.4245\n",
      "Current minimum: 9.4137\n",
      "Iteration No: 39 started. Searching for the next optimal point.\n",
      "Iteration No: 39 ended. Search finished for the next optimal point.\n",
      "Time taken: 3.6251\n",
      "Function value obtained: 9.4475\n",
      "Current minimum: 9.4137\n",
      "Iteration No: 40 started. Searching for the next optimal point.\n",
      "Iteration No: 40 ended. Search finished for the next optimal point.\n",
      "Time taken: 3.5357\n",
      "Function value obtained: 9.4375\n",
      "Current minimum: 9.4137\n",
      "Iteration No: 41 started. Searching for the next optimal point.\n"
     ]
    },
    {
     "name": "stdout",
     "output_type": "stream",
     "text": [
      "Iteration No: 41 ended. Search finished for the next optimal point.\n",
      "Time taken: 3.5203\n",
      "Function value obtained: 10.4935\n",
      "Current minimum: 9.4137\n",
      "Iteration No: 42 started. Searching for the next optimal point.\n",
      "Iteration No: 42 ended. Search finished for the next optimal point.\n",
      "Time taken: 3.8894\n",
      "Function value obtained: 9.9246\n",
      "Current minimum: 9.4137\n",
      "Iteration No: 43 started. Searching for the next optimal point.\n",
      "Iteration No: 43 ended. Search finished for the next optimal point.\n",
      "Time taken: 3.5280\n",
      "Function value obtained: 9.5486\n",
      "Current minimum: 9.4137\n",
      "Iteration No: 44 started. Searching for the next optimal point.\n",
      "Iteration No: 44 ended. Search finished for the next optimal point.\n",
      "Time taken: 3.8662\n",
      "Function value obtained: 9.4131\n",
      "Current minimum: 9.4131\n",
      "Iteration No: 45 started. Searching for the next optimal point.\n",
      "Iteration No: 45 ended. Search finished for the next optimal point.\n",
      "Time taken: 3.6684\n",
      "Function value obtained: 9.4256\n",
      "Current minimum: 9.4131\n",
      "Iteration No: 46 started. Searching for the next optimal point.\n",
      "Iteration No: 46 ended. Search finished for the next optimal point.\n",
      "Time taken: 3.3778\n",
      "Function value obtained: 9.4111\n",
      "Current minimum: 9.4111\n",
      "Iteration No: 47 started. Searching for the next optimal point.\n",
      "Iteration No: 47 ended. Search finished for the next optimal point.\n",
      "Time taken: 3.5877\n",
      "Function value obtained: 9.4056\n",
      "Current minimum: 9.4056\n",
      "Iteration No: 48 started. Searching for the next optimal point.\n",
      "Iteration No: 48 ended. Search finished for the next optimal point.\n",
      "Time taken: 4.7827\n",
      "Function value obtained: 11.2711\n",
      "Current minimum: 9.4056\n",
      "Iteration No: 49 started. Searching for the next optimal point.\n",
      "Iteration No: 49 ended. Search finished for the next optimal point.\n",
      "Time taken: 3.5393\n",
      "Function value obtained: 9.5017\n",
      "Current minimum: 9.4056\n",
      "Iteration No: 50 started. Searching for the next optimal point.\n",
      "Iteration No: 50 ended. Search finished for the next optimal point.\n",
      "Time taken: 2.7381\n",
      "Function value obtained: 9.9343\n",
      "Current minimum: 9.4056\n",
      "minimisation iteration 2\n",
      "Iteration No: 1 started. Evaluating function at random point.\n",
      "Iteration No: 1 ended. Evaluation done at random point.\n",
      "Time taken: 1.2670\n",
      "Function value obtained: 10.4783\n",
      "Current minimum: 10.4783\n",
      "Iteration No: 2 started. Evaluating function at random point.\n",
      "Iteration No: 2 ended. Evaluation done at random point.\n",
      "Time taken: 0.0441\n",
      "Function value obtained: 31.6189\n",
      "Current minimum: 10.4783\n",
      "Iteration No: 3 started. Evaluating function at random point.\n",
      "Iteration No: 3 ended. Evaluation done at random point.\n",
      "Time taken: 0.7020\n",
      "Function value obtained: 10.7382\n",
      "Current minimum: 10.4783\n",
      "Iteration No: 4 started. Evaluating function at random point.\n",
      "Iteration No: 4 ended. Evaluation done at random point.\n",
      "Time taken: 0.3545\n",
      "Function value obtained: 18.4525\n",
      "Current minimum: 10.4783\n",
      "Iteration No: 5 started. Evaluating function at random point.\n",
      "Iteration No: 5 ended. Evaluation done at random point.\n",
      "Time taken: 0.2824\n",
      "Function value obtained: 16.9318\n",
      "Current minimum: 10.4783\n",
      "Iteration No: 6 started. Evaluating function at random point.\n",
      "Iteration No: 6 ended. Evaluation done at random point.\n",
      "Time taken: 0.1395\n",
      "Function value obtained: 23.2281\n",
      "Current minimum: 10.4783\n",
      "Iteration No: 7 started. Evaluating function at random point.\n",
      "Iteration No: 7 ended. Evaluation done at random point.\n",
      "Time taken: 0.4942\n",
      "Function value obtained: 15.3266\n",
      "Current minimum: 10.4783\n",
      "Iteration No: 8 started. Evaluating function at random point.\n",
      "Iteration No: 8 ended. Evaluation done at random point.\n",
      "Time taken: 0.0327\n",
      "Function value obtained: 32.3308\n",
      "Current minimum: 10.4783\n",
      "Iteration No: 9 started. Evaluating function at random point.\n",
      "Iteration No: 9 ended. Evaluation done at random point.\n",
      "Time taken: 0.0854\n",
      "Function value obtained: 23.7412\n",
      "Current minimum: 10.4783\n",
      "Iteration No: 10 started. Evaluating function at random point.\n",
      "Iteration No: 10 ended. Evaluation done at random point.\n",
      "Time taken: 2.7191\n",
      "Function value obtained: 9.4600\n",
      "Current minimum: 9.4600\n",
      "Iteration No: 11 started. Searching for the next optimal point.\n",
      "Iteration No: 11 ended. Search finished for the next optimal point.\n",
      "Time taken: 1.8101\n",
      "Function value obtained: 9.7477\n",
      "Current minimum: 9.4600\n",
      "Iteration No: 12 started. Searching for the next optimal point.\n",
      "Iteration No: 12 ended. Search finished for the next optimal point.\n",
      "Time taken: 10.1862\n",
      "Function value obtained: 14.2637\n",
      "Current minimum: 9.4600\n",
      "Iteration No: 13 started. Searching for the next optimal point.\n",
      "Iteration No: 13 ended. Search finished for the next optimal point.\n",
      "Time taken: 4.3771\n",
      "Function value obtained: 10.3541\n",
      "Current minimum: 9.4600\n",
      "Iteration No: 14 started. Searching for the next optimal point.\n",
      "Iteration No: 14 ended. Search finished for the next optimal point.\n",
      "Time taken: 2.7084\n",
      "Function value obtained: 9.4720\n",
      "Current minimum: 9.4600\n",
      "Iteration No: 15 started. Searching for the next optimal point.\n",
      "Iteration No: 15 ended. Search finished for the next optimal point.\n",
      "Time taken: 2.9951\n",
      "Function value obtained: 9.4526\n",
      "Current minimum: 9.4526\n",
      "Iteration No: 16 started. Searching for the next optimal point.\n",
      "Iteration No: 16 ended. Search finished for the next optimal point.\n",
      "Time taken: 3.1250\n",
      "Function value obtained: 9.5294\n",
      "Current minimum: 9.4526\n",
      "Iteration No: 17 started. Searching for the next optimal point.\n",
      "Iteration No: 17 ended. Search finished for the next optimal point.\n",
      "Time taken: 3.5989\n",
      "Function value obtained: 9.5230\n",
      "Current minimum: 9.4526\n",
      "Iteration No: 18 started. Searching for the next optimal point.\n",
      "Iteration No: 18 ended. Search finished for the next optimal point.\n",
      "Time taken: 2.8152\n",
      "Function value obtained: 9.4470\n",
      "Current minimum: 9.4470\n",
      "Iteration No: 19 started. Searching for the next optimal point.\n",
      "Iteration No: 19 ended. Search finished for the next optimal point.\n",
      "Time taken: 2.7720\n",
      "Function value obtained: 10.4192\n",
      "Current minimum: 9.4470\n",
      "Iteration No: 20 started. Searching for the next optimal point.\n",
      "Iteration No: 20 ended. Search finished for the next optimal point.\n",
      "Time taken: 6.8348\n",
      "Function value obtained: 9.8347\n",
      "Current minimum: 9.4470\n",
      "Iteration No: 21 started. Searching for the next optimal point.\n",
      "Iteration No: 21 ended. Search finished for the next optimal point.\n",
      "Time taken: 3.1445\n",
      "Function value obtained: 9.5721\n",
      "Current minimum: 9.4470\n",
      "Iteration No: 22 started. Searching for the next optimal point.\n",
      "Iteration No: 22 ended. Search finished for the next optimal point.\n",
      "Time taken: 2.8452\n",
      "Function value obtained: 10.2573\n",
      "Current minimum: 9.4470\n",
      "Iteration No: 23 started. Searching for the next optimal point.\n",
      "Iteration No: 23 ended. Search finished for the next optimal point.\n",
      "Time taken: 3.0525\n",
      "Function value obtained: 9.4598\n",
      "Current minimum: 9.4470\n",
      "Iteration No: 24 started. Searching for the next optimal point.\n",
      "Iteration No: 24 ended. Search finished for the next optimal point.\n",
      "Time taken: 3.0210\n",
      "Function value obtained: 9.4182\n",
      "Current minimum: 9.4182\n",
      "Iteration No: 25 started. Searching for the next optimal point.\n",
      "Iteration No: 25 ended. Search finished for the next optimal point.\n",
      "Time taken: 2.8180\n",
      "Function value obtained: 9.4127\n",
      "Current minimum: 9.4127\n",
      "Iteration No: 26 started. Searching for the next optimal point.\n",
      "Iteration No: 26 ended. Search finished for the next optimal point.\n",
      "Time taken: 2.6094\n",
      "Function value obtained: 9.5358\n",
      "Current minimum: 9.4127\n",
      "Iteration No: 27 started. Searching for the next optimal point.\n",
      "Iteration No: 27 ended. Search finished for the next optimal point.\n",
      "Time taken: 3.1541\n",
      "Function value obtained: 9.4178\n",
      "Current minimum: 9.4127\n",
      "Iteration No: 28 started. Searching for the next optimal point.\n",
      "Iteration No: 28 ended. Search finished for the next optimal point.\n",
      "Time taken: 2.9419\n",
      "Function value obtained: 9.4348\n",
      "Current minimum: 9.4127\n",
      "Iteration No: 29 started. Searching for the next optimal point.\n",
      "Iteration No: 29 ended. Search finished for the next optimal point.\n",
      "Time taken: 3.4388\n",
      "Function value obtained: 9.4985\n",
      "Current minimum: 9.4127\n",
      "Iteration No: 30 started. Searching for the next optimal point.\n",
      "Iteration No: 30 ended. Search finished for the next optimal point.\n",
      "Time taken: 3.2616\n",
      "Function value obtained: 9.4345\n",
      "Current minimum: 9.4127\n",
      "Iteration No: 31 started. Searching for the next optimal point.\n",
      "Iteration No: 31 ended. Search finished for the next optimal point.\n",
      "Time taken: 3.0027\n",
      "Function value obtained: 9.4616\n",
      "Current minimum: 9.4127\n",
      "Iteration No: 32 started. Searching for the next optimal point.\n"
     ]
    },
    {
     "name": "stdout",
     "output_type": "stream",
     "text": [
      "Iteration No: 32 ended. Search finished for the next optimal point.\n",
      "Time taken: 2.9218\n",
      "Function value obtained: 9.6003\n",
      "Current minimum: 9.4127\n",
      "Iteration No: 33 started. Searching for the next optimal point.\n",
      "Iteration No: 33 ended. Search finished for the next optimal point.\n",
      "Time taken: 2.5124\n",
      "Function value obtained: 10.1607\n",
      "Current minimum: 9.4127\n",
      "Iteration No: 34 started. Searching for the next optimal point.\n",
      "Iteration No: 34 ended. Search finished for the next optimal point.\n",
      "Time taken: 3.0248\n",
      "Function value obtained: 9.4010\n",
      "Current minimum: 9.4010\n",
      "Iteration No: 35 started. Searching for the next optimal point.\n",
      "Iteration No: 35 ended. Search finished for the next optimal point.\n",
      "Time taken: 2.5720\n",
      "Function value obtained: 9.4236\n",
      "Current minimum: 9.4010\n",
      "Iteration No: 36 started. Searching for the next optimal point.\n",
      "Iteration No: 36 ended. Search finished for the next optimal point.\n",
      "Time taken: 27.9185\n",
      "Function value obtained: 10.8421\n",
      "Current minimum: 9.4010\n",
      "Iteration No: 37 started. Searching for the next optimal point.\n",
      "Iteration No: 37 ended. Search finished for the next optimal point.\n",
      "Time taken: 2.6278\n",
      "Function value obtained: 9.4161\n",
      "Current minimum: 9.4010\n",
      "Iteration No: 38 started. Searching for the next optimal point.\n",
      "Iteration No: 38 ended. Search finished for the next optimal point.\n",
      "Time taken: 4.1329\n",
      "Function value obtained: 11.2711\n",
      "Current minimum: 9.4010\n",
      "Iteration No: 39 started. Searching for the next optimal point.\n",
      "Iteration No: 39 ended. Search finished for the next optimal point.\n",
      "Time taken: 4.8643\n",
      "Function value obtained: 10.9260\n",
      "Current minimum: 9.4010\n",
      "Iteration No: 40 started. Searching for the next optimal point.\n",
      "Iteration No: 40 ended. Search finished for the next optimal point.\n",
      "Time taken: 2.8935\n",
      "Function value obtained: 9.5721\n",
      "Current minimum: 9.4010\n",
      "Iteration No: 41 started. Searching for the next optimal point.\n",
      "Iteration No: 41 ended. Search finished for the next optimal point.\n",
      "Time taken: 2.8799\n",
      "Function value obtained: 9.7319\n",
      "Current minimum: 9.4010\n",
      "Iteration No: 42 started. Searching for the next optimal point.\n",
      "Iteration No: 42 ended. Search finished for the next optimal point.\n",
      "Time taken: 3.2852\n",
      "Function value obtained: 9.3938\n",
      "Current minimum: 9.3938\n",
      "Iteration No: 43 started. Searching for the next optimal point.\n",
      "Iteration No: 43 ended. Search finished for the next optimal point.\n",
      "Time taken: 3.0657\n",
      "Function value obtained: 9.4129\n",
      "Current minimum: 9.3938\n",
      "Iteration No: 44 started. Searching for the next optimal point.\n",
      "Iteration No: 44 ended. Search finished for the next optimal point.\n",
      "Time taken: 3.4525\n",
      "Function value obtained: 9.4331\n",
      "Current minimum: 9.3938\n",
      "Iteration No: 45 started. Searching for the next optimal point.\n",
      "Iteration No: 45 ended. Search finished for the next optimal point.\n",
      "Time taken: 3.6131\n",
      "Function value obtained: 9.4077\n",
      "Current minimum: 9.3938\n",
      "Iteration No: 46 started. Searching for the next optimal point.\n",
      "Iteration No: 46 ended. Search finished for the next optimal point.\n",
      "Time taken: 2.8987\n",
      "Function value obtained: 9.4732\n",
      "Current minimum: 9.3938\n",
      "Iteration No: 47 started. Searching for the next optimal point.\n",
      "Iteration No: 47 ended. Search finished for the next optimal point.\n",
      "Time taken: 3.4146\n",
      "Function value obtained: 10.0081\n",
      "Current minimum: 9.3938\n",
      "Iteration No: 48 started. Searching for the next optimal point.\n",
      "Iteration No: 48 ended. Search finished for the next optimal point.\n",
      "Time taken: 6.1027\n",
      "Function value obtained: 9.7759\n",
      "Current minimum: 9.3938\n",
      "Iteration No: 49 started. Searching for the next optimal point.\n",
      "Iteration No: 49 ended. Search finished for the next optimal point.\n",
      "Time taken: 3.0921\n",
      "Function value obtained: 9.4358\n",
      "Current minimum: 9.3938\n",
      "Iteration No: 50 started. Searching for the next optimal point.\n",
      "Iteration No: 50 ended. Search finished for the next optimal point.\n",
      "Time taken: 3.2074\n",
      "Function value obtained: 9.5930\n",
      "Current minimum: 9.3938\n",
      "minimisation iteration 3\n",
      "Iteration No: 1 started. Evaluating function at random point.\n",
      "Iteration No: 1 ended. Evaluation done at random point.\n",
      "Time taken: 1.8995\n",
      "Function value obtained: 10.4021\n",
      "Current minimum: 10.4021\n",
      "Iteration No: 2 started. Evaluating function at random point.\n",
      "Iteration No: 2 ended. Evaluation done at random point.\n",
      "Time taken: 1.5909\n",
      "Function value obtained: 10.0536\n",
      "Current minimum: 10.0536\n",
      "Iteration No: 3 started. Evaluating function at random point.\n",
      "Iteration No: 3 ended. Evaluation done at random point.\n",
      "Time taken: 0.4803\n",
      "Function value obtained: 12.6486\n",
      "Current minimum: 10.0536\n",
      "Iteration No: 4 started. Evaluating function at random point.\n",
      "Iteration No: 4 ended. Evaluation done at random point.\n",
      "Time taken: 0.0613\n",
      "Function value obtained: 28.6867\n",
      "Current minimum: 10.0536\n",
      "Iteration No: 5 started. Evaluating function at random point.\n",
      "Iteration No: 5 ended. Evaluation done at random point.\n",
      "Time taken: 0.3431\n",
      "Function value obtained: 17.3983\n",
      "Current minimum: 10.0536\n",
      "Iteration No: 6 started. Evaluating function at random point.\n",
      "Iteration No: 6 ended. Evaluation done at random point.\n",
      "Time taken: 1.9001\n",
      "Function value obtained: 10.4516\n",
      "Current minimum: 10.0536\n",
      "Iteration No: 7 started. Evaluating function at random point.\n",
      "Iteration No: 7 ended. Evaluation done at random point.\n",
      "Time taken: 2.5283\n",
      "Function value obtained: 10.2276\n",
      "Current minimum: 10.0536\n",
      "Iteration No: 8 started. Evaluating function at random point.\n",
      "Iteration No: 8 ended. Evaluation done at random point.\n",
      "Time taken: 0.9505\n",
      "Function value obtained: 10.1594\n",
      "Current minimum: 10.0536\n",
      "Iteration No: 9 started. Evaluating function at random point.\n",
      "Iteration No: 9 ended. Evaluation done at random point.\n",
      "Time taken: 2.3040\n",
      "Function value obtained: 11.7604\n",
      "Current minimum: 10.0536\n",
      "Iteration No: 10 started. Evaluating function at random point.\n",
      "Iteration No: 10 ended. Evaluation done at random point.\n",
      "Time taken: 0.9001\n",
      "Function value obtained: 24.1939\n",
      "Current minimum: 10.0536\n",
      "Iteration No: 11 started. Searching for the next optimal point.\n",
      "Iteration No: 11 ended. Search finished for the next optimal point.\n",
      "Time taken: 2.8904\n",
      "Function value obtained: 9.4624\n",
      "Current minimum: 9.4624\n",
      "Iteration No: 12 started. Searching for the next optimal point.\n",
      "Iteration No: 12 ended. Search finished for the next optimal point.\n",
      "Time taken: 2.7493\n",
      "Function value obtained: 9.4576\n",
      "Current minimum: 9.4576\n",
      "Iteration No: 13 started. Searching for the next optimal point.\n",
      "Iteration No: 13 ended. Search finished for the next optimal point.\n",
      "Time taken: 2.4813\n",
      "Function value obtained: 9.6378\n",
      "Current minimum: 9.4576\n",
      "Iteration No: 14 started. Searching for the next optimal point.\n",
      "Iteration No: 14 ended. Search finished for the next optimal point.\n",
      "Time taken: 15.4056\n",
      "Function value obtained: 14.6277\n",
      "Current minimum: 9.4576\n",
      "Iteration No: 15 started. Searching for the next optimal point.\n",
      "Iteration No: 15 ended. Search finished for the next optimal point.\n",
      "Time taken: 3.1557\n",
      "Function value obtained: 9.6844\n",
      "Current minimum: 9.4576\n",
      "Iteration No: 16 started. Searching for the next optimal point.\n",
      "Iteration No: 16 ended. Search finished for the next optimal point.\n",
      "Time taken: 1.9947\n",
      "Function value obtained: 10.6473\n",
      "Current minimum: 9.4576\n",
      "Iteration No: 17 started. Searching for the next optimal point.\n",
      "Iteration No: 17 ended. Search finished for the next optimal point.\n",
      "Time taken: 4.9259\n",
      "Function value obtained: 9.6354\n",
      "Current minimum: 9.4576\n",
      "Iteration No: 18 started. Searching for the next optimal point.\n",
      "Iteration No: 18 ended. Search finished for the next optimal point.\n",
      "Time taken: 3.0989\n",
      "Function value obtained: 9.4401\n",
      "Current minimum: 9.4401\n",
      "Iteration No: 19 started. Searching for the next optimal point.\n",
      "Iteration No: 19 ended. Search finished for the next optimal point.\n",
      "Time taken: 3.3334\n",
      "Function value obtained: 9.4368\n",
      "Current minimum: 9.4368\n",
      "Iteration No: 20 started. Searching for the next optimal point.\n",
      "Iteration No: 20 ended. Search finished for the next optimal point.\n",
      "Time taken: 3.5834\n",
      "Function value obtained: 9.4873\n",
      "Current minimum: 9.4368\n",
      "Iteration No: 21 started. Searching for the next optimal point.\n",
      "Iteration No: 21 ended. Search finished for the next optimal point.\n",
      "Time taken: 3.2901\n",
      "Function value obtained: 9.4336\n",
      "Current minimum: 9.4336\n",
      "Iteration No: 22 started. Searching for the next optimal point.\n"
     ]
    },
    {
     "name": "stdout",
     "output_type": "stream",
     "text": [
      "Iteration No: 22 ended. Search finished for the next optimal point.\n",
      "Time taken: 3.5519\n",
      "Function value obtained: 9.4414\n",
      "Current minimum: 9.4336\n",
      "Iteration No: 23 started. Searching for the next optimal point.\n",
      "Iteration No: 23 ended. Search finished for the next optimal point.\n",
      "Time taken: 3.4867\n",
      "Function value obtained: 9.4352\n",
      "Current minimum: 9.4336\n",
      "Iteration No: 24 started. Searching for the next optimal point.\n",
      "Iteration No: 24 ended. Search finished for the next optimal point.\n",
      "Time taken: 4.5795\n",
      "Function value obtained: 9.5573\n",
      "Current minimum: 9.4336\n",
      "Iteration No: 25 started. Searching for the next optimal point.\n",
      "Iteration No: 25 ended. Search finished for the next optimal point.\n",
      "Time taken: 12.4807\n",
      "Function value obtained: 10.2691\n",
      "Current minimum: 9.4336\n",
      "Iteration No: 26 started. Searching for the next optimal point.\n",
      "Iteration No: 26 ended. Search finished for the next optimal point.\n",
      "Time taken: 3.3179\n",
      "Function value obtained: 9.4384\n",
      "Current minimum: 9.4336\n",
      "Iteration No: 27 started. Searching for the next optimal point.\n",
      "Iteration No: 27 ended. Search finished for the next optimal point.\n",
      "Time taken: 3.3285\n",
      "Function value obtained: 9.4378\n",
      "Current minimum: 9.4336\n",
      "Iteration No: 28 started. Searching for the next optimal point.\n",
      "Iteration No: 28 ended. Search finished for the next optimal point.\n",
      "Time taken: 3.1302\n",
      "Function value obtained: 9.4457\n",
      "Current minimum: 9.4336\n",
      "Iteration No: 29 started. Searching for the next optimal point.\n",
      "Iteration No: 29 ended. Search finished for the next optimal point.\n",
      "Time taken: 5.9091\n",
      "Function value obtained: 9.7336\n",
      "Current minimum: 9.4336\n",
      "Iteration No: 30 started. Searching for the next optimal point.\n",
      "Iteration No: 30 ended. Search finished for the next optimal point.\n",
      "Time taken: 3.1575\n",
      "Function value obtained: 9.4207\n",
      "Current minimum: 9.4207\n",
      "Iteration No: 31 started. Searching for the next optimal point.\n",
      "Iteration No: 31 ended. Search finished for the next optimal point.\n",
      "Time taken: 4.9483\n",
      "Function value obtained: 10.3541\n",
      "Current minimum: 9.4207\n",
      "Iteration No: 32 started. Searching for the next optimal point.\n",
      "Iteration No: 32 ended. Search finished for the next optimal point.\n",
      "Time taken: 6.6879\n",
      "Function value obtained: 10.2477\n",
      "Current minimum: 9.4207\n",
      "Iteration No: 33 started. Searching for the next optimal point.\n",
      "Iteration No: 33 ended. Search finished for the next optimal point.\n",
      "Time taken: 3.2907\n",
      "Function value obtained: 9.4392\n",
      "Current minimum: 9.4207\n",
      "Iteration No: 34 started. Searching for the next optimal point.\n",
      "Iteration No: 34 ended. Search finished for the next optimal point.\n",
      "Time taken: 3.2771\n",
      "Function value obtained: 9.4193\n",
      "Current minimum: 9.4193\n",
      "Iteration No: 35 started. Searching for the next optimal point.\n",
      "Iteration No: 35 ended. Search finished for the next optimal point.\n",
      "Time taken: 3.1074\n",
      "Function value obtained: 9.4273\n",
      "Current minimum: 9.4193\n",
      "Iteration No: 36 started. Searching for the next optimal point.\n",
      "Iteration No: 36 ended. Search finished for the next optimal point.\n",
      "Time taken: 3.1280\n",
      "Function value obtained: 9.4272\n",
      "Current minimum: 9.4193\n",
      "Iteration No: 37 started. Searching for the next optimal point.\n",
      "Iteration No: 37 ended. Search finished for the next optimal point.\n",
      "Time taken: 3.0723\n",
      "Function value obtained: 9.5070\n",
      "Current minimum: 9.4193\n",
      "Iteration No: 38 started. Searching for the next optimal point.\n",
      "Iteration No: 38 ended. Search finished for the next optimal point.\n",
      "Time taken: 3.0300\n",
      "Function value obtained: 9.4688\n",
      "Current minimum: 9.4193\n",
      "Iteration No: 39 started. Searching for the next optimal point.\n",
      "Iteration No: 39 ended. Search finished for the next optimal point.\n",
      "Time taken: 3.2443\n",
      "Function value obtained: 9.4261\n",
      "Current minimum: 9.4193\n",
      "Iteration No: 40 started. Searching for the next optimal point.\n",
      "Iteration No: 40 ended. Search finished for the next optimal point.\n",
      "Time taken: 3.2699\n",
      "Function value obtained: 9.4439\n",
      "Current minimum: 9.4193\n",
      "Iteration No: 41 started. Searching for the next optimal point.\n",
      "Iteration No: 41 ended. Search finished for the next optimal point.\n",
      "Time taken: 3.3264\n",
      "Function value obtained: 9.4302\n",
      "Current minimum: 9.4193\n",
      "Iteration No: 42 started. Searching for the next optimal point.\n",
      "Iteration No: 42 ended. Search finished for the next optimal point.\n",
      "Time taken: 3.2957\n",
      "Function value obtained: 9.5165\n",
      "Current minimum: 9.4193\n",
      "Iteration No: 43 started. Searching for the next optimal point.\n",
      "Iteration No: 43 ended. Search finished for the next optimal point.\n",
      "Time taken: 3.4634\n",
      "Function value obtained: 9.4380\n",
      "Current minimum: 9.4193\n",
      "Iteration No: 44 started. Searching for the next optimal point.\n",
      "Iteration No: 44 ended. Search finished for the next optimal point.\n",
      "Time taken: 4.5669\n",
      "Function value obtained: 9.8149\n",
      "Current minimum: 9.4193\n",
      "Iteration No: 45 started. Searching for the next optimal point.\n",
      "Iteration No: 45 ended. Search finished for the next optimal point.\n",
      "Time taken: 3.0901\n",
      "Function value obtained: 9.4159\n",
      "Current minimum: 9.4159\n",
      "Iteration No: 46 started. Searching for the next optimal point.\n",
      "Iteration No: 46 ended. Search finished for the next optimal point.\n",
      "Time taken: 3.3677\n",
      "Function value obtained: 9.4203\n",
      "Current minimum: 9.4159\n",
      "Iteration No: 47 started. Searching for the next optimal point.\n",
      "Iteration No: 47 ended. Search finished for the next optimal point.\n",
      "Time taken: 3.2420\n",
      "Function value obtained: 9.4167\n",
      "Current minimum: 9.4159\n",
      "Iteration No: 48 started. Searching for the next optimal point.\n",
      "Iteration No: 48 ended. Search finished for the next optimal point.\n",
      "Time taken: 3.2588\n",
      "Function value obtained: 9.4119\n",
      "Current minimum: 9.4119\n",
      "Iteration No: 49 started. Searching for the next optimal point.\n",
      "Iteration No: 49 ended. Search finished for the next optimal point.\n",
      "Time taken: 3.1546\n",
      "Function value obtained: 9.4119\n",
      "Current minimum: 9.4119\n",
      "Iteration No: 50 started. Searching for the next optimal point.\n",
      "Iteration No: 50 ended. Search finished for the next optimal point.\n",
      "Time taken: 3.3057\n",
      "Function value obtained: 9.4163\n",
      "Current minimum: 9.4119\n"
     ]
    }
   ],
   "source": [
    "rbf_ref_sel_res_gp_arr = []\n",
    "for i in range(1, 4):\n",
    "    print('minimisation iteration', i)\n",
    "    rbf_ref_sel_res_gp = gp_minimize(rbf_ref_sel_objective, rbf_ref_sel_space, n_calls=50, verbose=2)\n",
    "    rbf_ref_sel_res_gp_arr.append(rbf_ref_sel_res_gp)"
   ]
  },
  {
   "cell_type": "code",
   "execution_count": 168,
   "metadata": {
    "ExecuteTime": {
     "end_time": "2019-07-26T15:27:47.328009Z",
     "start_time": "2019-07-26T15:27:47.322889Z"
    },
    "hidden": true
   },
   "outputs": [
    {
     "name": "stdout",
     "output_type": "stream",
     "text": [
      "9.405620172769526\n",
      "9.393791443056857\n",
      "9.411876867155323\n",
      "\n",
      "\n",
      "[1.9660313219557233, 402.4071525974152, 0.0006002312915966044]\n",
      "[2.0420786790313765, 256.30348864838567, 0.0006904234934737864]\n",
      "[1.9363729322904655, 10000.0, 4.477207968674366e-05]\n"
     ]
    }
   ],
   "source": [
    "for i in rbf_ref_sel_res_gp_arr:\n",
    "    print(i.fun)\n",
    "print('\\n')\n",
    "for i in rbf_ref_sel_res_gp_arr:\n",
    "    print(i.x)"
   ]
  },
  {
   "cell_type": "markdown",
   "metadata": {
    "heading_collapsed": true,
    "hidden": true
   },
   "source": [
    "#### Linear kernel"
   ]
  },
  {
   "cell_type": "markdown",
   "metadata": {
    "heading_collapsed": true,
    "hidden": true
   },
   "source": [
    "##### Full feature set"
   ]
  },
  {
   "cell_type": "code",
   "execution_count": 35,
   "metadata": {
    "ExecuteTime": {
     "end_time": "2019-07-27T08:57:52.009929Z",
     "start_time": "2019-07-27T08:57:52.001689Z"
    },
    "hidden": true
   },
   "outputs": [],
   "source": [
    "linear_full_space = [\n",
    "    Real(0.1, 10, 'log-uniform', name='epsilon'),\n",
    "    Real(0.1, 10000, 'log-uniform', name='C'),\n",
    "]"
   ]
  },
  {
   "cell_type": "code",
   "execution_count": 38,
   "metadata": {
    "ExecuteTime": {
     "end_time": "2019-07-27T08:58:15.411402Z",
     "start_time": "2019-07-27T08:58:15.400471Z"
    },
    "hidden": true
   },
   "outputs": [],
   "source": [
    "linear_full_gp_model = SVR(kernel='linear')\n",
    "\n",
    "@use_named_args(linear_full_space)\n",
    "def linear_full_objective(**params):\n",
    "    linear_full_gp_model.set_params(**params)\n",
    "\n",
    "    return -np.mean(\n",
    "        cross_val_score(\n",
    "            linear_full_gp_model,\n",
    "            X_full,\n",
    "            y_full.ravel(),\n",
    "            cv=ps,\n",
    "            n_jobs=1,\n",
    "            scoring=\"neg_mean_squared_error\"))"
   ]
  },
  {
   "cell_type": "code",
   "execution_count": null,
   "metadata": {
    "ExecuteTime": {
     "start_time": "2019-07-27T08:58:15.856Z"
    },
    "hidden": true
   },
   "outputs": [
    {
     "name": "stdout",
     "output_type": "stream",
     "text": [
      "minimisation iteration 1\n",
      "Iteration No: 1 started. Evaluating function at random point.\n",
      "Iteration No: 1 ended. Evaluation done at random point.\n",
      "Time taken: 82.2962\n",
      "Function value obtained: 10.7770\n",
      "Current minimum: 10.7770\n",
      "Iteration No: 2 started. Evaluating function at random point.\n"
     ]
    }
   ],
   "source": [
    "linear_full_res_gp_arr = []\n",
    "for i in range(1, 2):\n",
    "    print('minimisation iteration', i)\n",
    "    linear_full_res_gp = gp_minimize(linear_full_objective, linear_full_space, n_calls=30, verbose=2)\n",
    "    linear_full_res_gp_arr.append(linear_full_res_gp)"
   ]
  },
  {
   "cell_type": "code",
   "execution_count": 15,
   "metadata": {
    "ExecuteTime": {
     "end_time": "2019-07-27T11:02:40.544067Z",
     "start_time": "2019-07-27T11:02:40.296869Z"
    },
    "hidden": true
   },
   "outputs": [
    {
     "ename": "NameError",
     "evalue": "name 'linear_full_res_gp_arr' is not defined",
     "output_type": "error",
     "traceback": [
      "\u001b[0;31m---------------------------------------------------------------------------\u001b[0m",
      "\u001b[0;31mNameError\u001b[0m                                 Traceback (most recent call last)",
      "\u001b[0;32m<ipython-input-15-5721586e8e01>\u001b[0m in \u001b[0;36m<module>\u001b[0;34m\u001b[0m\n\u001b[0;32m----> 1\u001b[0;31m \u001b[0;32mfor\u001b[0m \u001b[0mi\u001b[0m \u001b[0;32min\u001b[0m \u001b[0mlinear_full_res_gp_arr\u001b[0m\u001b[0;34m:\u001b[0m\u001b[0;34m\u001b[0m\u001b[0;34m\u001b[0m\u001b[0m\n\u001b[0m\u001b[1;32m      2\u001b[0m     \u001b[0mprint\u001b[0m\u001b[0;34m(\u001b[0m\u001b[0mi\u001b[0m\u001b[0;34m.\u001b[0m\u001b[0mfun\u001b[0m\u001b[0;34m)\u001b[0m\u001b[0;34m\u001b[0m\u001b[0;34m\u001b[0m\u001b[0m\n\u001b[1;32m      3\u001b[0m \u001b[0mprint\u001b[0m\u001b[0;34m(\u001b[0m\u001b[0;34m'\\n'\u001b[0m\u001b[0;34m)\u001b[0m\u001b[0;34m\u001b[0m\u001b[0;34m\u001b[0m\u001b[0m\n\u001b[1;32m      4\u001b[0m \u001b[0;32mfor\u001b[0m \u001b[0mi\u001b[0m \u001b[0;32min\u001b[0m \u001b[0mlinear_full_res_gp_arr\u001b[0m\u001b[0;34m:\u001b[0m\u001b[0;34m\u001b[0m\u001b[0;34m\u001b[0m\u001b[0m\n\u001b[1;32m      5\u001b[0m     \u001b[0mprint\u001b[0m\u001b[0;34m(\u001b[0m\u001b[0mi\u001b[0m\u001b[0;34m.\u001b[0m\u001b[0mx\u001b[0m\u001b[0;34m)\u001b[0m\u001b[0;34m\u001b[0m\u001b[0;34m\u001b[0m\u001b[0m\n",
      "\u001b[0;31mNameError\u001b[0m: name 'linear_full_res_gp_arr' is not defined"
     ]
    }
   ],
   "source": [
    "for i in linear_full_res_gp_arr:\n",
    "    print(i.fun)\n",
    "print('\\n')\n",
    "for i in linear_full_res_gp_arr:\n",
    "    print(i.x)"
   ]
  },
  {
   "cell_type": "markdown",
   "metadata": {
    "heading_collapsed": true,
    "hidden": true
   },
   "source": [
    "##### Refined feature set"
   ]
  },
  {
   "cell_type": "code",
   "execution_count": null,
   "metadata": {
    "ExecuteTime": {
     "start_time": "2019-07-26T10:33:42.916Z"
    },
    "hidden": true
   },
   "outputs": [],
   "source": [
    "linear_ref_space = [\n",
    "    Real(0.001, 100, 'log-uniform', name='epsilon'),\n",
    "    Real(0.001, 10000, 'log-uniform', name='C'),\n",
    "]"
   ]
  },
  {
   "cell_type": "code",
   "execution_count": null,
   "metadata": {
    "ExecuteTime": {
     "start_time": "2019-07-26T10:33:42.919Z"
    },
    "hidden": true
   },
   "outputs": [],
   "source": [
    "linear_ref_gp_model = SVR(kernel='linear')\n",
    "\n",
    "@use_named_args(linear_ref_space)\n",
    "def linear_ref_objective(**params):\n",
    "    linear_ref_gp_model.set_params(**params)\n",
    "\n",
    "    return -np.mean(\n",
    "        cross_val_score(\n",
    "            linear_ref_gp_model,\n",
    "            X_ref,\n",
    "            y_ref.ravel(),\n",
    "            cv=ps,\n",
    "            n_jobs=1,\n",
    "            scoring=\"neg_mean_squared_error\"))"
   ]
  },
  {
   "cell_type": "code",
   "execution_count": null,
   "metadata": {
    "ExecuteTime": {
     "start_time": "2019-07-26T10:33:42.922Z"
    },
    "hidden": true
   },
   "outputs": [],
   "source": [
    "linear_ref_res_gp_arr = []\n",
    "for i in range(1, 3):\n",
    "    print('minimisation iteration', i)\n",
    "    linear_ref_res_gp = gp_minimize(linear_ref_objective, linear_ref_space, n_calls=30, verbose=2)\n",
    "    linear_ref_res_gp_arr.append(linear_ref_res_gp)"
   ]
  },
  {
   "cell_type": "code",
   "execution_count": null,
   "metadata": {
    "ExecuteTime": {
     "start_time": "2019-07-26T10:33:42.925Z"
    },
    "hidden": true
   },
   "outputs": [],
   "source": [
    "for i in linear_ref_res_gp_arr:\n",
    "    print(i.fun)\n",
    "print('\\n')\n",
    "for i in linear_ref_res_gp_arr:\n",
    "    print(i.x)"
   ]
  },
  {
   "cell_type": "markdown",
   "metadata": {
    "heading_collapsed": true,
    "hidden": true
   },
   "source": [
    "### Grid search"
   ]
  },
  {
   "cell_type": "markdown",
   "metadata": {
    "heading_collapsed": true,
    "hidden": true
   },
   "source": [
    "#### Radial basis kernel"
   ]
  },
  {
   "cell_type": "markdown",
   "metadata": {
    "heading_collapsed": true,
    "hidden": true
   },
   "source": [
    "##### Full feature set"
   ]
  },
  {
   "cell_type": "code",
   "execution_count": 72,
   "metadata": {
    "ExecuteTime": {
     "end_time": "2019-07-26T12:06:07.267791Z",
     "start_time": "2019-07-26T12:06:07.259807Z"
    },
    "hidden": true
   },
   "outputs": [],
   "source": [
    "rbf_full_epsilon = [2.2]\n",
    "rbf_full_C = [35]\n",
    "rbf_full_gamma = [0.000175]\n",
    "\n",
    "rbf_full_parameters = {\n",
    "    'epsilon': rbf_full_epsilon,\n",
    "    'C': rbf_full_C,\n",
    "    'gamma': rbf_full_gamma\n",
    "}"
   ]
  },
  {
   "cell_type": "code",
   "execution_count": 73,
   "metadata": {
    "ExecuteTime": {
     "end_time": "2019-07-26T12:06:16.496851Z",
     "start_time": "2019-07-26T12:06:07.512428Z"
    },
    "hidden": true
   },
   "outputs": [
    {
     "name": "stdout",
     "output_type": "stream",
     "text": [
      "Fitting 1 folds for each of 3 candidates, totalling 3 fits\n",
      "[CV] C=34, epsilon=2.2, gamma=0.000175 ...............................\n"
     ]
    },
    {
     "name": "stderr",
     "output_type": "stream",
     "text": [
      "[Parallel(n_jobs=1)]: Using backend SequentialBackend with 1 concurrent workers.\n"
     ]
    },
    {
     "name": "stdout",
     "output_type": "stream",
     "text": [
      "[CV] ................ C=34, epsilon=2.2, gamma=0.000175, total=   3.1s\n",
      "[CV] C=35, epsilon=2.2, gamma=0.000175 ...............................\n"
     ]
    },
    {
     "name": "stderr",
     "output_type": "stream",
     "text": [
      "[Parallel(n_jobs=1)]: Done   1 out of   1 | elapsed:    3.1s remaining:    0.0s\n"
     ]
    },
    {
     "name": "stdout",
     "output_type": "stream",
     "text": [
      "[CV] ................ C=35, epsilon=2.2, gamma=0.000175, total=   2.9s\n",
      "[CV] C=36, epsilon=2.2, gamma=0.000175 ...............................\n",
      "[CV] ................ C=36, epsilon=2.2, gamma=0.000175, total=   2.9s\n"
     ]
    },
    {
     "name": "stderr",
     "output_type": "stream",
     "text": [
      "[Parallel(n_jobs=1)]: Done   3 out of   3 | elapsed:    9.0s finished\n"
     ]
    },
    {
     "data": {
      "text/plain": [
       "GridSearchCV(cv=PredefinedSplit(test_fold=array([-1, -1, ...,  0,  0])),\n",
       "             error_score=100,\n",
       "             estimator=SVR(C=1.0, cache_size=200, coef0=0.0, degree=3,\n",
       "                           epsilon=0.1, gamma='auto_deprecated', kernel='rbf',\n",
       "                           max_iter=-1, shrinking=True, tol=0.001,\n",
       "                           verbose=False),\n",
       "             iid='warn', n_jobs=1,\n",
       "             param_grid={'C': [34, 35, 36], 'epsilon': [2.2],\n",
       "                         'gamma': [0.000175]},\n",
       "             pre_dispatch='2*n_jobs', refit=False, return_train_score=False,\n",
       "             scoring=['neg_mean_absolute_error', 'neg_mean_squared_error'],\n",
       "             verbose=2)"
      ]
     },
     "execution_count": 73,
     "metadata": {},
     "output_type": "execute_result"
    }
   ],
   "source": [
    "gs_model_rbf = GridSearchCV(\n",
    "    SVR(kernel='rbf'),\n",
    "    rbf_full_parameters,\n",
    "    scoring=['neg_mean_absolute_error', 'neg_mean_squared_error'],\n",
    "    refit=False,\n",
    "    cv=ps,\n",
    "    error_score=100, n_jobs=1, verbose=2)\n",
    "gs_model_rbf.fit(X_full, y_full.ravel())"
   ]
  },
  {
   "cell_type": "code",
   "execution_count": 74,
   "metadata": {
    "ExecuteTime": {
     "end_time": "2019-07-26T12:06:16.528940Z",
     "start_time": "2019-07-26T12:06:16.499778Z"
    },
    "hidden": true
   },
   "outputs": [
    {
     "data": {
      "text/html": [
       "<div>\n",
       "<style scoped>\n",
       "    .dataframe tbody tr th:only-of-type {\n",
       "        vertical-align: middle;\n",
       "    }\n",
       "\n",
       "    .dataframe tbody tr th {\n",
       "        vertical-align: top;\n",
       "    }\n",
       "\n",
       "    .dataframe thead th {\n",
       "        text-align: right;\n",
       "    }\n",
       "</style>\n",
       "<table border=\"1\" class=\"dataframe\">\n",
       "  <thead>\n",
       "    <tr style=\"text-align: right;\">\n",
       "      <th></th>\n",
       "      <th>param_C</th>\n",
       "      <th>param_epsilon</th>\n",
       "      <th>param_gamma</th>\n",
       "      <th>split0_test_neg_mean_absolute_error</th>\n",
       "      <th>split0_test_neg_mean_squared_error</th>\n",
       "    </tr>\n",
       "  </thead>\n",
       "  <tbody>\n",
       "    <tr>\n",
       "      <th>0</th>\n",
       "      <td>34</td>\n",
       "      <td>2.2</td>\n",
       "      <td>0.000175</td>\n",
       "      <td>-2.280113</td>\n",
       "      <td>-9.544547</td>\n",
       "    </tr>\n",
       "    <tr>\n",
       "      <th>1</th>\n",
       "      <td>35</td>\n",
       "      <td>2.2</td>\n",
       "      <td>0.000175</td>\n",
       "      <td>-2.279472</td>\n",
       "      <td>-9.543827</td>\n",
       "    </tr>\n",
       "    <tr>\n",
       "      <th>2</th>\n",
       "      <td>36</td>\n",
       "      <td>2.2</td>\n",
       "      <td>0.000175</td>\n",
       "      <td>-2.279281</td>\n",
       "      <td>-9.544155</td>\n",
       "    </tr>\n",
       "  </tbody>\n",
       "</table>\n",
       "</div>"
      ],
      "text/plain": [
       "  param_C param_epsilon param_gamma  split0_test_neg_mean_absolute_error  \\\n",
       "0      34           2.2    0.000175                            -2.280113   \n",
       "1      35           2.2    0.000175                            -2.279472   \n",
       "2      36           2.2    0.000175                            -2.279281   \n",
       "\n",
       "   split0_test_neg_mean_squared_error  \n",
       "0                           -9.544547  \n",
       "1                           -9.543827  \n",
       "2                           -9.544155  "
      ]
     },
     "execution_count": 74,
     "metadata": {},
     "output_type": "execute_result"
    }
   ],
   "source": [
    "gs_model_rbf_full_df = pd.DataFrame(gs_model_rbf.cv_results_)[[\n",
    "    'param_C','param_epsilon','param_gamma',\n",
    "    'split0_test_neg_mean_absolute_error',\n",
    "    'split0_test_neg_mean_squared_error'\n",
    "]]\n",
    "\n",
    "gs_model_rbf_full_df"
   ]
  },
  {
   "cell_type": "code",
   "execution_count": 75,
   "metadata": {
    "ExecuteTime": {
     "end_time": "2019-07-26T12:06:16.616361Z",
     "start_time": "2019-07-26T12:06:16.532524Z"
    },
    "hidden": true
   },
   "outputs": [
    {
     "data": {
      "text/html": [
       "<div>\n",
       "<style scoped>\n",
       "    .dataframe tbody tr th:only-of-type {\n",
       "        vertical-align: middle;\n",
       "    }\n",
       "\n",
       "    .dataframe tbody tr th {\n",
       "        vertical-align: top;\n",
       "    }\n",
       "\n",
       "    .dataframe thead th {\n",
       "        text-align: right;\n",
       "    }\n",
       "</style>\n",
       "<table border=\"1\" class=\"dataframe\">\n",
       "  <thead>\n",
       "    <tr style=\"text-align: right;\">\n",
       "      <th></th>\n",
       "      <th>param_C</th>\n",
       "      <th>param_epsilon</th>\n",
       "      <th>param_gamma</th>\n",
       "      <th>split0_test_neg_mean_absolute_error</th>\n",
       "      <th>split0_test_neg_mean_squared_error</th>\n",
       "    </tr>\n",
       "  </thead>\n",
       "  <tbody>\n",
       "    <tr>\n",
       "      <th>1</th>\n",
       "      <td>35</td>\n",
       "      <td>2.2</td>\n",
       "      <td>0.000175</td>\n",
       "      <td>-2.279472</td>\n",
       "      <td>-9.543827</td>\n",
       "    </tr>\n",
       "  </tbody>\n",
       "</table>\n",
       "</div>"
      ],
      "text/plain": [
       "  param_C param_epsilon param_gamma  split0_test_neg_mean_absolute_error  \\\n",
       "1      35           2.2    0.000175                            -2.279472   \n",
       "\n",
       "   split0_test_neg_mean_squared_error  \n",
       "1                           -9.543827  "
      ]
     },
     "execution_count": 75,
     "metadata": {},
     "output_type": "execute_result"
    }
   ],
   "source": [
    "gs_model_rbf_full_df[\n",
    "    gs_model_rbf_full_df['split0_test_neg_mean_squared_error'] == \\\n",
    "    gs_model_rbf_full_df['split0_test_neg_mean_squared_error'].max()]"
   ]
  },
  {
   "cell_type": "markdown",
   "metadata": {
    "heading_collapsed": true,
    "hidden": true
   },
   "source": [
    "##### Refined feature set"
   ]
  },
  {
   "cell_type": "code",
   "execution_count": 31,
   "metadata": {
    "ExecuteTime": {
     "end_time": "2019-07-27T08:57:28.008762Z",
     "start_time": "2019-07-27T08:57:27.998371Z"
    },
    "hidden": true
   },
   "outputs": [],
   "source": [
    "rbf_ref_epsilon = [1.9]\n",
    "rbf_ref_C = [2.9]\n",
    "rbf_ref_gamma = [0.0040]\n",
    "\n",
    "\n",
    "rbf_ref_parameters = {\n",
    "    'epsilon': rbf_ref_epsilon,\n",
    "    'C': rbf_ref_C,\n",
    "    'gamma': rbf_ref_gamma\n",
    "}"
   ]
  },
  {
   "cell_type": "code",
   "execution_count": 32,
   "metadata": {
    "ExecuteTime": {
     "end_time": "2019-07-27T08:57:31.430188Z",
     "start_time": "2019-07-27T08:57:28.014269Z"
    },
    "hidden": true
   },
   "outputs": [
    {
     "name": "stdout",
     "output_type": "stream",
     "text": [
      "Fitting 1 folds for each of 1 candidates, totalling 1 fits\n",
      "[CV] C=2.9, epsilon=1.9, gamma=0.004 .................................\n"
     ]
    },
    {
     "name": "stderr",
     "output_type": "stream",
     "text": [
      "[Parallel(n_jobs=1)]: Using backend SequentialBackend with 1 concurrent workers.\n"
     ]
    },
    {
     "name": "stdout",
     "output_type": "stream",
     "text": [
      "[CV] .................. C=2.9, epsilon=1.9, gamma=0.004, total=   3.4s\n"
     ]
    },
    {
     "name": "stderr",
     "output_type": "stream",
     "text": [
      "[Parallel(n_jobs=1)]: Done   1 out of   1 | elapsed:    3.4s remaining:    0.0s\n",
      "[Parallel(n_jobs=1)]: Done   1 out of   1 | elapsed:    3.4s finished\n"
     ]
    },
    {
     "data": {
      "text/plain": [
       "GridSearchCV(cv=PredefinedSplit(test_fold=array([-1, -1, ...,  0,  0])),\n",
       "             error_score=100,\n",
       "             estimator=SVR(C=1.0, cache_size=200, coef0=0.0, degree=3,\n",
       "                           epsilon=0.1, gamma='auto_deprecated', kernel='rbf',\n",
       "                           max_iter=-1, shrinking=True, tol=0.001,\n",
       "                           verbose=False),\n",
       "             iid='warn', n_jobs=1,\n",
       "             param_grid={'C': [2.9], 'epsilon': [1.9], 'gamma': [0.004]},\n",
       "             pre_dispatch='2*n_jobs', refit=False, return_train_score=False,\n",
       "             scoring=['neg_mean_absolute_error', 'neg_mean_squared_error'],\n",
       "             verbose=2)"
      ]
     },
     "execution_count": 32,
     "metadata": {},
     "output_type": "execute_result"
    }
   ],
   "source": [
    "gs_model_rbf = GridSearchCV(\n",
    "    SVR(kernel='rbf'),\n",
    "    rbf_ref_parameters,\n",
    "    scoring=['neg_mean_absolute_error', 'neg_mean_squared_error'],\n",
    "    refit=False,\n",
    "    cv=ps,\n",
    "    error_score=100, n_jobs=1, verbose=2)\n",
    "gs_model_rbf.fit(X_ref, y_ref.ravel())"
   ]
  },
  {
   "cell_type": "code",
   "execution_count": 33,
   "metadata": {
    "ExecuteTime": {
     "end_time": "2019-07-27T08:57:31.463612Z",
     "start_time": "2019-07-27T08:57:31.435138Z"
    },
    "hidden": true
   },
   "outputs": [
    {
     "data": {
      "text/html": [
       "<div>\n",
       "<style scoped>\n",
       "    .dataframe tbody tr th:only-of-type {\n",
       "        vertical-align: middle;\n",
       "    }\n",
       "\n",
       "    .dataframe tbody tr th {\n",
       "        vertical-align: top;\n",
       "    }\n",
       "\n",
       "    .dataframe thead th {\n",
       "        text-align: right;\n",
       "    }\n",
       "</style>\n",
       "<table border=\"1\" class=\"dataframe\">\n",
       "  <thead>\n",
       "    <tr style=\"text-align: right;\">\n",
       "      <th></th>\n",
       "      <th>param_C</th>\n",
       "      <th>param_epsilon</th>\n",
       "      <th>param_gamma</th>\n",
       "      <th>split0_test_neg_mean_absolute_error</th>\n",
       "      <th>split0_test_neg_mean_squared_error</th>\n",
       "    </tr>\n",
       "  </thead>\n",
       "  <tbody>\n",
       "    <tr>\n",
       "      <th>0</th>\n",
       "      <td>2.9</td>\n",
       "      <td>1.9</td>\n",
       "      <td>0.004</td>\n",
       "      <td>-2.225525</td>\n",
       "      <td>-9.511094</td>\n",
       "    </tr>\n",
       "  </tbody>\n",
       "</table>\n",
       "</div>"
      ],
      "text/plain": [
       "  param_C param_epsilon param_gamma  split0_test_neg_mean_absolute_error  \\\n",
       "0     2.9           1.9       0.004                            -2.225525   \n",
       "\n",
       "   split0_test_neg_mean_squared_error  \n",
       "0                           -9.511094  "
      ]
     },
     "execution_count": 33,
     "metadata": {},
     "output_type": "execute_result"
    }
   ],
   "source": [
    "gs_model_rbf_ref_df = pd.DataFrame(gs_model_rbf.cv_results_)[[\n",
    "    'param_C','param_epsilon','param_gamma',\n",
    "    'split0_test_neg_mean_absolute_error',\n",
    "    'split0_test_neg_mean_squared_error'\n",
    "]]\n",
    "\n",
    "gs_model_rbf_ref_df"
   ]
  },
  {
   "cell_type": "code",
   "execution_count": 34,
   "metadata": {
    "ExecuteTime": {
     "end_time": "2019-07-27T08:57:31.536196Z",
     "start_time": "2019-07-27T08:57:31.467702Z"
    },
    "hidden": true
   },
   "outputs": [
    {
     "data": {
      "text/html": [
       "<div>\n",
       "<style scoped>\n",
       "    .dataframe tbody tr th:only-of-type {\n",
       "        vertical-align: middle;\n",
       "    }\n",
       "\n",
       "    .dataframe tbody tr th {\n",
       "        vertical-align: top;\n",
       "    }\n",
       "\n",
       "    .dataframe thead th {\n",
       "        text-align: right;\n",
       "    }\n",
       "</style>\n",
       "<table border=\"1\" class=\"dataframe\">\n",
       "  <thead>\n",
       "    <tr style=\"text-align: right;\">\n",
       "      <th></th>\n",
       "      <th>param_C</th>\n",
       "      <th>param_epsilon</th>\n",
       "      <th>param_gamma</th>\n",
       "      <th>split0_test_neg_mean_absolute_error</th>\n",
       "      <th>split0_test_neg_mean_squared_error</th>\n",
       "    </tr>\n",
       "  </thead>\n",
       "  <tbody>\n",
       "    <tr>\n",
       "      <th>0</th>\n",
       "      <td>2.9</td>\n",
       "      <td>1.9</td>\n",
       "      <td>0.004</td>\n",
       "      <td>-2.225525</td>\n",
       "      <td>-9.511094</td>\n",
       "    </tr>\n",
       "  </tbody>\n",
       "</table>\n",
       "</div>"
      ],
      "text/plain": [
       "  param_C param_epsilon param_gamma  split0_test_neg_mean_absolute_error  \\\n",
       "0     2.9           1.9       0.004                            -2.225525   \n",
       "\n",
       "   split0_test_neg_mean_squared_error  \n",
       "0                           -9.511094  "
      ]
     },
     "execution_count": 34,
     "metadata": {},
     "output_type": "execute_result"
    }
   ],
   "source": [
    "gs_model_rbf_ref_df[\n",
    "    gs_model_rbf_ref_df['split0_test_neg_mean_squared_error'] == \\\n",
    "    gs_model_rbf_ref_df['split0_test_neg_mean_squared_error'].max()]"
   ]
  },
  {
   "cell_type": "markdown",
   "metadata": {
    "heading_collapsed": true,
    "hidden": true
   },
   "source": [
    "##### Selected full feature set"
   ]
  },
  {
   "cell_type": "code",
   "execution_count": 261,
   "metadata": {
    "ExecuteTime": {
     "end_time": "2019-07-26T16:20:30.485322Z",
     "start_time": "2019-07-26T16:20:30.478135Z"
    },
    "hidden": true
   },
   "outputs": [],
   "source": [
    "rbf_full_sel_epsilon = [1.9]\n",
    "rbf_full_sel_C = [205]\n",
    "rbf_full_sel_gamma = [0.00125]\n",
    "\n",
    "\n",
    "rbf_full_sel_parameters = {\n",
    "    'epsilon': rbf_full_sel_epsilon,\n",
    "    'C': rbf_full_sel_C,\n",
    "    'gamma': rbf_full_sel_gamma\n",
    "}"
   ]
  },
  {
   "cell_type": "code",
   "execution_count": 262,
   "metadata": {
    "ExecuteTime": {
     "end_time": "2019-07-26T16:20:33.719832Z",
     "start_time": "2019-07-26T16:20:30.900464Z"
    },
    "hidden": true
   },
   "outputs": [
    {
     "name": "stdout",
     "output_type": "stream",
     "text": [
      "Fitting 1 folds for each of 1 candidates, totalling 1 fits\n",
      "[CV] C=205, epsilon=1.9, gamma=0.00125 ...............................\n"
     ]
    },
    {
     "name": "stderr",
     "output_type": "stream",
     "text": [
      "[Parallel(n_jobs=1)]: Using backend SequentialBackend with 1 concurrent workers.\n"
     ]
    },
    {
     "name": "stdout",
     "output_type": "stream",
     "text": [
      "[CV] ................ C=205, epsilon=1.9, gamma=0.00125, total=   2.8s\n"
     ]
    },
    {
     "name": "stderr",
     "output_type": "stream",
     "text": [
      "[Parallel(n_jobs=1)]: Done   1 out of   1 | elapsed:    2.8s remaining:    0.0s\n",
      "[Parallel(n_jobs=1)]: Done   1 out of   1 | elapsed:    2.8s finished\n"
     ]
    },
    {
     "data": {
      "text/plain": [
       "GridSearchCV(cv=PredefinedSplit(test_fold=array([-1, -1, ...,  0,  0])),\n",
       "             error_score=100,\n",
       "             estimator=SVR(C=1.0, cache_size=200, coef0=0.0, degree=3,\n",
       "                           epsilon=0.1, gamma='auto_deprecated', kernel='rbf',\n",
       "                           max_iter=-1, shrinking=True, tol=0.001,\n",
       "                           verbose=False),\n",
       "             iid='warn', n_jobs=1,\n",
       "             param_grid={'C': [205], 'epsilon': [1.9], 'gamma': [0.00125]},\n",
       "             pre_dispatch='2*n_jobs', refit=False, return_train_score=False,\n",
       "             scoring=['neg_mean_absolute_error', 'neg_mean_squared_error'],\n",
       "             verbose=2)"
      ]
     },
     "execution_count": 262,
     "metadata": {},
     "output_type": "execute_result"
    }
   ],
   "source": [
    "gs_model_rbf = GridSearchCV(\n",
    "    SVR(kernel='rbf'),\n",
    "    rbf_full_sel_parameters,\n",
    "    scoring=['neg_mean_absolute_error', 'neg_mean_squared_error'],\n",
    "    refit=False,\n",
    "    cv=ps,\n",
    "    error_score=100, n_jobs=1, verbose=2)\n",
    "gs_model_rbf.fit(X_full_sel, y_ref.ravel())"
   ]
  },
  {
   "cell_type": "code",
   "execution_count": 263,
   "metadata": {
    "ExecuteTime": {
     "end_time": "2019-07-26T16:20:33.742464Z",
     "start_time": "2019-07-26T16:20:33.723918Z"
    },
    "hidden": true
   },
   "outputs": [
    {
     "data": {
      "text/html": [
       "<div>\n",
       "<style scoped>\n",
       "    .dataframe tbody tr th:only-of-type {\n",
       "        vertical-align: middle;\n",
       "    }\n",
       "\n",
       "    .dataframe tbody tr th {\n",
       "        vertical-align: top;\n",
       "    }\n",
       "\n",
       "    .dataframe thead th {\n",
       "        text-align: right;\n",
       "    }\n",
       "</style>\n",
       "<table border=\"1\" class=\"dataframe\">\n",
       "  <thead>\n",
       "    <tr style=\"text-align: right;\">\n",
       "      <th></th>\n",
       "      <th>param_C</th>\n",
       "      <th>param_epsilon</th>\n",
       "      <th>param_gamma</th>\n",
       "      <th>split0_test_neg_mean_absolute_error</th>\n",
       "      <th>split0_test_neg_mean_squared_error</th>\n",
       "    </tr>\n",
       "  </thead>\n",
       "  <tbody>\n",
       "    <tr>\n",
       "      <th>0</th>\n",
       "      <td>205</td>\n",
       "      <td>1.9</td>\n",
       "      <td>0.00125</td>\n",
       "      <td>-2.219686</td>\n",
       "      <td>-9.422756</td>\n",
       "    </tr>\n",
       "  </tbody>\n",
       "</table>\n",
       "</div>"
      ],
      "text/plain": [
       "  param_C param_epsilon param_gamma  split0_test_neg_mean_absolute_error  \\\n",
       "0     205           1.9     0.00125                            -2.219686   \n",
       "\n",
       "   split0_test_neg_mean_squared_error  \n",
       "0                           -9.422756  "
      ]
     },
     "execution_count": 263,
     "metadata": {},
     "output_type": "execute_result"
    }
   ],
   "source": [
    "gs_model_rbf_full_sel_df = pd.DataFrame(gs_model_rbf.cv_results_)[[\n",
    "    'param_C','param_epsilon','param_gamma',\n",
    "    'split0_test_neg_mean_absolute_error',\n",
    "    'split0_test_neg_mean_squared_error'\n",
    "]]\n",
    "\n",
    "gs_model_rbf_full_sel_df"
   ]
  },
  {
   "cell_type": "code",
   "execution_count": 264,
   "metadata": {
    "ExecuteTime": {
     "end_time": "2019-07-26T16:20:33.810796Z",
     "start_time": "2019-07-26T16:20:33.744799Z"
    },
    "hidden": true
   },
   "outputs": [
    {
     "data": {
      "text/html": [
       "<div>\n",
       "<style scoped>\n",
       "    .dataframe tbody tr th:only-of-type {\n",
       "        vertical-align: middle;\n",
       "    }\n",
       "\n",
       "    .dataframe tbody tr th {\n",
       "        vertical-align: top;\n",
       "    }\n",
       "\n",
       "    .dataframe thead th {\n",
       "        text-align: right;\n",
       "    }\n",
       "</style>\n",
       "<table border=\"1\" class=\"dataframe\">\n",
       "  <thead>\n",
       "    <tr style=\"text-align: right;\">\n",
       "      <th></th>\n",
       "      <th>param_C</th>\n",
       "      <th>param_epsilon</th>\n",
       "      <th>param_gamma</th>\n",
       "      <th>split0_test_neg_mean_absolute_error</th>\n",
       "      <th>split0_test_neg_mean_squared_error</th>\n",
       "    </tr>\n",
       "  </thead>\n",
       "  <tbody>\n",
       "    <tr>\n",
       "      <th>0</th>\n",
       "      <td>205</td>\n",
       "      <td>1.9</td>\n",
       "      <td>0.00125</td>\n",
       "      <td>-2.219686</td>\n",
       "      <td>-9.422756</td>\n",
       "    </tr>\n",
       "  </tbody>\n",
       "</table>\n",
       "</div>"
      ],
      "text/plain": [
       "  param_C param_epsilon param_gamma  split0_test_neg_mean_absolute_error  \\\n",
       "0     205           1.9     0.00125                            -2.219686   \n",
       "\n",
       "   split0_test_neg_mean_squared_error  \n",
       "0                           -9.422756  "
      ]
     },
     "execution_count": 264,
     "metadata": {},
     "output_type": "execute_result"
    }
   ],
   "source": [
    "gs_model_rbf_full_sel_df[\n",
    "    gs_model_rbf_full_sel_df['split0_test_neg_mean_squared_error'] == \\\n",
    "    gs_model_rbf_full_sel_df['split0_test_neg_mean_squared_error'].max()]"
   ]
  },
  {
   "cell_type": "markdown",
   "metadata": {
    "heading_collapsed": true,
    "hidden": true
   },
   "source": [
    "##### Selected refined feature set"
   ]
  },
  {
   "cell_type": "code",
   "execution_count": 213,
   "metadata": {
    "ExecuteTime": {
     "end_time": "2019-07-26T15:49:59.800583Z",
     "start_time": "2019-07-26T15:49:59.792924Z"
    },
    "hidden": true
   },
   "outputs": [],
   "source": [
    "rbf_ref_sel_epsilon = [2.0]\n",
    "rbf_ref_sel_C = [576]\n",
    "rbf_ref_sel_gamma = [0.0010]\n",
    "\n",
    "rbf_ref_sel_parameters = {\n",
    "    'epsilon': rbf_ref_sel_epsilon,\n",
    "    'C': rbf_ref_sel_C,\n",
    "    'gamma': rbf_ref_sel_gamma\n",
    "}"
   ]
  },
  {
   "cell_type": "code",
   "execution_count": 214,
   "metadata": {
    "ExecuteTime": {
     "end_time": "2019-07-26T15:50:03.106495Z",
     "start_time": "2019-07-26T15:50:00.472572Z"
    },
    "hidden": true
   },
   "outputs": [
    {
     "name": "stdout",
     "output_type": "stream",
     "text": [
      "Fitting 1 folds for each of 1 candidates, totalling 1 fits\n",
      "[CV] C=576, epsilon=2.0, gamma=0.001 .................................\n"
     ]
    },
    {
     "name": "stderr",
     "output_type": "stream",
     "text": [
      "[Parallel(n_jobs=1)]: Using backend SequentialBackend with 1 concurrent workers.\n"
     ]
    },
    {
     "name": "stdout",
     "output_type": "stream",
     "text": [
      "[CV] .................. C=576, epsilon=2.0, gamma=0.001, total=   2.6s\n"
     ]
    },
    {
     "name": "stderr",
     "output_type": "stream",
     "text": [
      "[Parallel(n_jobs=1)]: Done   1 out of   1 | elapsed:    2.6s remaining:    0.0s\n",
      "[Parallel(n_jobs=1)]: Done   1 out of   1 | elapsed:    2.6s finished\n"
     ]
    },
    {
     "data": {
      "text/plain": [
       "GridSearchCV(cv=PredefinedSplit(test_fold=array([-1, -1, ...,  0,  0])),\n",
       "             error_score=100,\n",
       "             estimator=SVR(C=1.0, cache_size=200, coef0=0.0, degree=3,\n",
       "                           epsilon=0.1, gamma='auto_deprecated', kernel='rbf',\n",
       "                           max_iter=-1, shrinking=True, tol=0.001,\n",
       "                           verbose=False),\n",
       "             iid='warn', n_jobs=1,\n",
       "             param_grid={'C': [576], 'epsilon': [2.0], 'gamma': [0.001]},\n",
       "             pre_dispatch='2*n_jobs', refit=False, return_train_score=False,\n",
       "             scoring=['neg_mean_absolute_error', 'neg_mean_squared_error'],\n",
       "             verbose=2)"
      ]
     },
     "execution_count": 214,
     "metadata": {},
     "output_type": "execute_result"
    }
   ],
   "source": [
    "gs_model_rbf = GridSearchCV(\n",
    "    SVR(kernel='rbf'),\n",
    "    rbf_ref_sel_parameters,\n",
    "    scoring=['neg_mean_absolute_error', 'neg_mean_squared_error'],\n",
    "    refit=False,\n",
    "    cv=ps,\n",
    "    error_score=100, n_jobs=1, verbose=2)\n",
    "gs_model_rbf.fit(X_ref_sel, y_ref.ravel())"
   ]
  },
  {
   "cell_type": "code",
   "execution_count": 215,
   "metadata": {
    "ExecuteTime": {
     "end_time": "2019-07-26T15:50:03.141981Z",
     "start_time": "2019-07-26T15:50:03.115699Z"
    },
    "hidden": true
   },
   "outputs": [
    {
     "data": {
      "text/html": [
       "<div>\n",
       "<style scoped>\n",
       "    .dataframe tbody tr th:only-of-type {\n",
       "        vertical-align: middle;\n",
       "    }\n",
       "\n",
       "    .dataframe tbody tr th {\n",
       "        vertical-align: top;\n",
       "    }\n",
       "\n",
       "    .dataframe thead th {\n",
       "        text-align: right;\n",
       "    }\n",
       "</style>\n",
       "<table border=\"1\" class=\"dataframe\">\n",
       "  <thead>\n",
       "    <tr style=\"text-align: right;\">\n",
       "      <th></th>\n",
       "      <th>param_C</th>\n",
       "      <th>param_epsilon</th>\n",
       "      <th>param_gamma</th>\n",
       "      <th>split0_test_neg_mean_absolute_error</th>\n",
       "      <th>split0_test_neg_mean_squared_error</th>\n",
       "    </tr>\n",
       "  </thead>\n",
       "  <tbody>\n",
       "    <tr>\n",
       "      <th>0</th>\n",
       "      <td>576</td>\n",
       "      <td>2</td>\n",
       "      <td>0.001</td>\n",
       "      <td>-2.233116</td>\n",
       "      <td>-9.364507</td>\n",
       "    </tr>\n",
       "  </tbody>\n",
       "</table>\n",
       "</div>"
      ],
      "text/plain": [
       "  param_C param_epsilon param_gamma  split0_test_neg_mean_absolute_error  \\\n",
       "0     576             2       0.001                            -2.233116   \n",
       "\n",
       "   split0_test_neg_mean_squared_error  \n",
       "0                           -9.364507  "
      ]
     },
     "execution_count": 215,
     "metadata": {},
     "output_type": "execute_result"
    }
   ],
   "source": [
    "gs_model_rbf_ref_sel_df = pd.DataFrame(gs_model_rbf.cv_results_)[[\n",
    "    'param_C','param_epsilon','param_gamma',\n",
    "    'split0_test_neg_mean_absolute_error',\n",
    "    'split0_test_neg_mean_squared_error'\n",
    "]]\n",
    "\n",
    "gs_model_rbf_ref_sel_df"
   ]
  },
  {
   "cell_type": "code",
   "execution_count": 216,
   "metadata": {
    "ExecuteTime": {
     "end_time": "2019-07-26T15:50:03.237665Z",
     "start_time": "2019-07-26T15:50:03.219650Z"
    },
    "hidden": true
   },
   "outputs": [
    {
     "data": {
      "text/html": [
       "<div>\n",
       "<style scoped>\n",
       "    .dataframe tbody tr th:only-of-type {\n",
       "        vertical-align: middle;\n",
       "    }\n",
       "\n",
       "    .dataframe tbody tr th {\n",
       "        vertical-align: top;\n",
       "    }\n",
       "\n",
       "    .dataframe thead th {\n",
       "        text-align: right;\n",
       "    }\n",
       "</style>\n",
       "<table border=\"1\" class=\"dataframe\">\n",
       "  <thead>\n",
       "    <tr style=\"text-align: right;\">\n",
       "      <th></th>\n",
       "      <th>param_C</th>\n",
       "      <th>param_epsilon</th>\n",
       "      <th>param_gamma</th>\n",
       "      <th>split0_test_neg_mean_absolute_error</th>\n",
       "      <th>split0_test_neg_mean_squared_error</th>\n",
       "    </tr>\n",
       "  </thead>\n",
       "  <tbody>\n",
       "    <tr>\n",
       "      <th>0</th>\n",
       "      <td>576</td>\n",
       "      <td>2</td>\n",
       "      <td>0.001</td>\n",
       "      <td>-2.233116</td>\n",
       "      <td>-9.364507</td>\n",
       "    </tr>\n",
       "  </tbody>\n",
       "</table>\n",
       "</div>"
      ],
      "text/plain": [
       "  param_C param_epsilon param_gamma  split0_test_neg_mean_absolute_error  \\\n",
       "0     576             2       0.001                            -2.233116   \n",
       "\n",
       "   split0_test_neg_mean_squared_error  \n",
       "0                           -9.364507  "
      ]
     },
     "execution_count": 216,
     "metadata": {},
     "output_type": "execute_result"
    }
   ],
   "source": [
    "gs_model_rbf_ref_sel_df[\n",
    "    gs_model_rbf_ref_sel_df['split0_test_neg_mean_squared_error'] == \\\n",
    "    gs_model_rbf_ref_sel_df['split0_test_neg_mean_squared_error'].max()]"
   ]
  },
  {
   "cell_type": "markdown",
   "metadata": {
    "heading_collapsed": true,
    "hidden": true
   },
   "source": [
    "#### Linear kernel"
   ]
  },
  {
   "cell_type": "code",
   "execution_count": null,
   "metadata": {
    "ExecuteTime": {
     "end_time": "2019-07-21T10:10:23.436003Z",
     "start_time": "2019-07-21T10:10:23.430222Z"
    },
    "hidden": true
   },
   "outputs": [],
   "source": [
    "linear_epsilon = [1.96, 1.965, 1.97]\n",
    "linear_C = [18]\n",
    "\n",
    "\n",
    "linear_parameters = {\n",
    "    'C': linear_C,\n",
    "    'epsilon': linear_epsilon\n",
    "}"
   ]
  },
  {
   "cell_type": "code",
   "execution_count": null,
   "metadata": {
    "ExecuteTime": {
     "end_time": "2019-07-21T10:10:55.189702Z",
     "start_time": "2019-07-21T10:10:23.649655Z"
    },
    "hidden": true
   },
   "outputs": [],
   "source": [
    "gs_model_linear = GridSearchCV(\n",
    "    SVR(kernel='linear'),\n",
    "    linear_parameters,\n",
    "    scoring=['neg_mean_absolute_error', 'neg_mean_squared_error'],\n",
    "    refit=False,\n",
    "    cv=ps,\n",
    "    error_score=100, n_jobs=1, verbose=1)\n",
    "gs_model_linear.fit(X_sel, y.ravel())"
   ]
  },
  {
   "cell_type": "code",
   "execution_count": null,
   "metadata": {
    "ExecuteTime": {
     "end_time": "2019-07-21T10:10:55.220000Z",
     "start_time": "2019-07-21T10:10:55.194005Z"
    },
    "hidden": true
   },
   "outputs": [],
   "source": [
    "gs_model_linear_df = pd.DataFrame(gs_model_linear.cv_results_)[[\n",
    "    'param_C','param_epsilon',\n",
    "    'split0_test_neg_mean_absolute_error',\n",
    "    'split0_test_neg_mean_squared_error'\n",
    "]]\n",
    "\n",
    "gs_model_linear_df"
   ]
  },
  {
   "cell_type": "code",
   "execution_count": null,
   "metadata": {
    "ExecuteTime": {
     "end_time": "2019-07-21T10:10:55.278582Z",
     "start_time": "2019-07-21T10:10:55.229168Z"
    },
    "hidden": true
   },
   "outputs": [],
   "source": [
    "gs_model_linear_df[\n",
    "    gs_model_linear_df['split0_test_neg_mean_squared_error'] == \\\n",
    "    gs_model_linear_df['split0_test_neg_mean_squared_error'].max()]"
   ]
  },
  {
   "cell_type": "code",
   "execution_count": null,
   "metadata": {
    "hidden": true
   },
   "outputs": [],
   "source": [
    "9.420"
   ]
  },
  {
   "cell_type": "markdown",
   "metadata": {
    "heading_collapsed": true
   },
   "source": [
    "# Evaluating model"
   ]
  },
  {
   "cell_type": "markdown",
   "metadata": {
    "heading_collapsed": true,
    "hidden": true
   },
   "source": [
    "## Radial basis kernel"
   ]
  },
  {
   "cell_type": "markdown",
   "metadata": {
    "heading_collapsed": true,
    "hidden": true
   },
   "source": [
    "### Full feature set"
   ]
  },
  {
   "cell_type": "code",
   "execution_count": 63,
   "metadata": {
    "ExecuteTime": {
     "end_time": "2019-07-27T08:18:12.014129Z",
     "start_time": "2019-07-27T08:18:09.982105Z"
    },
    "hidden": true
   },
   "outputs": [
    {
     "data": {
      "text/plain": [
       "SVR(C=35, cache_size=200, coef0=0.0, degree=3, epsilon=2.2, gamma=0.000175,\n",
       "    kernel='rbf', max_iter=-1, shrinking=True, tol=0.001, verbose=False)"
      ]
     },
     "execution_count": 63,
     "metadata": {},
     "output_type": "execute_result"
    }
   ],
   "source": [
    "rbf_full_model = SVR(kernel='rbf', gamma=0.000175, C=35, epsilon=2.2)\n",
    "rbf_full_model.fit(X_full_train, y_full_train.ravel())"
   ]
  },
  {
   "cell_type": "code",
   "execution_count": 64,
   "metadata": {
    "ExecuteTime": {
     "end_time": "2019-07-27T08:18:13.557014Z",
     "start_time": "2019-07-27T08:18:12.848752Z"
    },
    "hidden": true
   },
   "outputs": [
    {
     "data": {
      "text/plain": [
       "(2.2794724623884184, 9.543827477367744, 0.08292579161287073)"
      ]
     },
     "execution_count": 64,
     "metadata": {},
     "output_type": "execute_result"
    }
   ],
   "source": [
    "# get predictions for test set\n",
    "rbf_full_y_pred = rbf_full_model.predict(X_full_test).flatten()\n",
    "\n",
    "# calculate cross entropy loss for test set\n",
    "rbf_full_test_loss = (\n",
    "    mean_absolute_error(y_full_test, rbf_full_y_pred),\n",
    "    mean_squared_error(y_full_test, rbf_full_y_pred),\n",
    "    r2_score(y_full_test, rbf_full_y_pred)\n",
    ")\n",
    "rbf_full_test_loss"
   ]
  },
  {
   "cell_type": "code",
   "execution_count": 65,
   "metadata": {
    "ExecuteTime": {
     "end_time": "2019-07-27T08:18:17.951150Z",
     "start_time": "2019-07-27T08:18:14.337837Z"
    },
    "hidden": true
   },
   "outputs": [
    {
     "data": {
      "text/plain": [
       "SVR(C=35, cache_size=200, coef0=0.0, degree=3, epsilon=2.2, gamma=0.000175,\n",
       "    kernel='rbf', max_iter=-1, shrinking=True, tol=0.001, verbose=False)"
      ]
     },
     "execution_count": 65,
     "metadata": {},
     "output_type": "execute_result"
    }
   ],
   "source": [
    "# refit model on all data\n",
    "rbf_full_model_all = SVR(kernel='rbf', gamma=0.000175, C=35, epsilon=2.2)\n",
    "rbf_full_model_all.fit(X_full, y_full.ravel())"
   ]
  },
  {
   "cell_type": "code",
   "execution_count": 66,
   "metadata": {
    "ExecuteTime": {
     "end_time": "2019-07-27T08:18:25.377107Z",
     "start_time": "2019-07-27T08:18:22.304808Z"
    },
    "hidden": true
   },
   "outputs": [
    {
     "data": {
      "text/plain": [
       "(2.2053475507576343, 8.542534886604312, 0.10722852227628132)"
      ]
     },
     "execution_count": 66,
     "metadata": {},
     "output_type": "execute_result"
    }
   ],
   "source": [
    "# get predictions for whole set\n",
    "rbf_full_y_pred_all = rbf_full_model_all.predict(X_full).flatten()\n",
    "\n",
    "# calculate cross entropy loss for test set\n",
    "rbf_full_test_loss_all = (\n",
    "    mean_absolute_error(y_full, rbf_full_y_pred_all),\n",
    "    mean_squared_error(y_full, rbf_full_y_pred_all),\n",
    "    r2_score(y_full, rbf_full_y_pred_all)\n",
    ")\n",
    "rbf_full_test_loss_all"
   ]
  },
  {
   "cell_type": "code",
   "execution_count": 67,
   "metadata": {
    "ExecuteTime": {
     "end_time": "2019-07-27T08:18:28.910054Z",
     "start_time": "2019-07-27T08:18:28.150460Z"
    },
    "hidden": true
   },
   "outputs": [
    {
     "data": {
      "image/png": "[encoded data removed]",
      "text/plain": [
       "<Figure size 720x576 with 1 Axes>"
      ]
     },
     "metadata": {
      "needs_background": "light"
     },
     "output_type": "display_data"
    }
   ],
   "source": [
    "plt.figure(figsize=(10, 8))\n",
    "plt.hist(pd.Series(rbf_full_y_pred_all), bins=range(-5,20), alpha=0.75, density=True, label='predicted')\n",
    "plt.hist(pd.Series(y_full.ravel()), bins=range(-5,20), alpha=0.75, density=True, label='observed')\n",
    "plt.legend()\n",
    "plt.show()"
   ]
  },
  {
   "cell_type": "code",
   "execution_count": 68,
   "metadata": {
    "ExecuteTime": {
     "end_time": "2019-07-27T08:18:32.340793Z",
     "start_time": "2019-07-27T08:18:31.825517Z"
    },
    "hidden": true
   },
   "outputs": [
    {
     "data": {
      "image/png": "[encoded data removed]",
      "text/plain": [
       "<Figure size 720x576 with 1 Axes>"
      ]
     },
     "metadata": {
      "needs_background": "light"
     },
     "output_type": "display_data"
    }
   ],
   "source": [
    "plt.figure(figsize=(10, 8))\n",
    "plt.scatter(pd.Series(y_full.ravel()), pd.Series(rbf_full_y_pred_all), alpha=0.1)\n",
    "plt.plot(np.linspace(-5, 25), np.linspace(-5, 25))\n",
    "plt.ylabel('Predicted total points')\n",
    "plt.xlabel('Observed total points')\n",
    "plt.ylim((0, 7))\n",
    "plt.show()"
   ]
  },
  {
   "cell_type": "markdown",
   "metadata": {
    "heading_collapsed": true,
    "hidden": true
   },
   "source": [
    "### Refined feature set"
   ]
  },
  {
   "cell_type": "code",
   "execution_count": 69,
   "metadata": {
    "ExecuteTime": {
     "end_time": "2019-07-27T08:18:40.440869Z",
     "start_time": "2019-07-27T08:18:38.183691Z"
    },
    "hidden": true
   },
   "outputs": [
    {
     "data": {
      "text/plain": [
       "SVR(C=2.9, cache_size=200, coef0=0.0, degree=3, epsilon=1.9, gamma=0.004,\n",
       "    kernel='rbf', max_iter=-1, shrinking=True, tol=0.001, verbose=False)"
      ]
     },
     "execution_count": 69,
     "metadata": {},
     "output_type": "execute_result"
    }
   ],
   "source": [
    "rbf_ref_model = SVR(kernel='rbf', gamma=0.004, C=2.9, epsilon=1.9)\n",
    "rbf_ref_model.fit(X_ref_train, y_ref_train.ravel())"
   ]
  },
  {
   "cell_type": "code",
   "execution_count": 70,
   "metadata": {
    "ExecuteTime": {
     "end_time": "2019-07-27T08:18:42.849342Z",
     "start_time": "2019-07-27T08:18:42.066064Z"
    },
    "hidden": true
   },
   "outputs": [
    {
     "data": {
      "text/plain": [
       "(2.2255247900551405, 9.51109431511319, 0.08607114801561244)"
      ]
     },
     "execution_count": 70,
     "metadata": {},
     "output_type": "execute_result"
    }
   ],
   "source": [
    "# get predictions for test set\n",
    "rbf_ref_y_pred = rbf_ref_model.predict(X_ref_test).flatten()\n",
    "\n",
    "# calculate cross entropy loss for test set\n",
    "rbf_ref_test_loss = (\n",
    "    mean_absolute_error(y_ref_test, rbf_ref_y_pred),\n",
    "    mean_squared_error(y_ref_test, rbf_ref_y_pred),\n",
    "    r2_score(y_ref_test, rbf_ref_y_pred)\n",
    ")\n",
    "rbf_ref_test_loss"
   ]
  },
  {
   "cell_type": "code",
   "execution_count": 71,
   "metadata": {
    "ExecuteTime": {
     "end_time": "2019-07-27T08:18:48.230360Z",
     "start_time": "2019-07-27T08:18:44.299274Z"
    },
    "hidden": true
   },
   "outputs": [
    {
     "data": {
      "text/plain": [
       "SVR(C=2.9, cache_size=200, coef0=0.0, degree=3, epsilon=1.9, gamma=0.004,\n",
       "    kernel='rbf', max_iter=-1, shrinking=True, tol=0.001, verbose=False)"
      ]
     },
     "execution_count": 71,
     "metadata": {},
     "output_type": "execute_result"
    }
   ],
   "source": [
    "# refit model on all data\n",
    "rbf_ref_model_all = SVR(kernel='rbf', gamma=0.004, C=2.9, epsilon=1.9)\n",
    "rbf_ref_model_all.fit(X_ref, y_ref.ravel())"
   ]
  },
  {
   "cell_type": "code",
   "execution_count": 72,
   "metadata": {
    "ExecuteTime": {
     "end_time": "2019-07-27T08:18:55.383952Z",
     "start_time": "2019-07-27T08:18:52.023556Z"
    },
    "hidden": true
   },
   "outputs": [
    {
     "data": {
      "text/plain": [
       "(2.097116797821993, 8.24850627667461, 0.13795714792013114)"
      ]
     },
     "execution_count": 72,
     "metadata": {},
     "output_type": "execute_result"
    }
   ],
   "source": [
    "# get predictions for whole set\n",
    "rbf_ref_y_pred_all = rbf_ref_model_all.predict(X_ref).flatten()\n",
    "\n",
    "# calculate cross entropy loss for test set\n",
    "rbf_ref_test_loss_all = (\n",
    "    mean_absolute_error(y_ref, rbf_ref_y_pred_all),\n",
    "    mean_squared_error(y_ref, rbf_ref_y_pred_all),\n",
    "    r2_score(y_ref, rbf_ref_y_pred_all)\n",
    ")\n",
    "rbf_ref_test_loss_all"
   ]
  },
  {
   "cell_type": "code",
   "execution_count": 73,
   "metadata": {
    "ExecuteTime": {
     "end_time": "2019-07-27T08:18:58.222039Z",
     "start_time": "2019-07-27T08:18:57.566562Z"
    },
    "hidden": true
   },
   "outputs": [
    {
     "data": {
      "image/png": "[encoded data removed]",
      "text/plain": [
       "<Figure size 720x576 with 1 Axes>"
      ]
     },
     "metadata": {
      "needs_background": "light"
     },
     "output_type": "display_data"
    }
   ],
   "source": [
    "plt.figure(figsize=(10, 8))\n",
    "plt.hist(pd.Series(rbf_ref_y_pred_all), bins=range(-5,20), alpha=0.75, density=True, label='predicted')\n",
    "plt.hist(pd.Series(y_ref.ravel()), bins=range(-5,20), alpha=0.75, density=True, label='observed')\n",
    "plt.legend()\n",
    "plt.show()"
   ]
  },
  {
   "cell_type": "code",
   "execution_count": 74,
   "metadata": {
    "ExecuteTime": {
     "end_time": "2019-07-27T08:19:02.135041Z",
     "start_time": "2019-07-27T08:19:01.660847Z"
    },
    "hidden": true
   },
   "outputs": [
    {
     "data": {
      "image/png": "[encoded data removed]",
      "text/plain": [
       "<Figure size 720x576 with 1 Axes>"
      ]
     },
     "metadata": {
      "needs_background": "light"
     },
     "output_type": "display_data"
    }
   ],
   "source": [
    "plt.figure(figsize=(10, 8))\n",
    "plt.scatter(pd.Series(y_ref.ravel()), pd.Series(rbf_ref_y_pred_all), alpha=0.1)\n",
    "plt.plot(np.linspace(-5, 25), np.linspace(-5, 25))\n",
    "plt.ylabel('Predicted total points')\n",
    "plt.xlabel('Observed total points')\n",
    "plt.ylim((0, 7))\n",
    "plt.show()"
   ]
  },
  {
   "cell_type": "markdown",
   "metadata": {
    "heading_collapsed": true,
    "hidden": true
   },
   "source": [
    "### Selected full feature set"
   ]
  },
  {
   "cell_type": "code",
   "execution_count": 75,
   "metadata": {
    "ExecuteTime": {
     "end_time": "2019-07-27T08:19:09.012638Z",
     "start_time": "2019-07-27T08:19:07.136106Z"
    },
    "hidden": true
   },
   "outputs": [
    {
     "data": {
      "text/plain": [
       "SVR(C=205, cache_size=200, coef0=0.0, degree=3, epsilon=1.9, gamma=0.00125,\n",
       "    kernel='rbf', max_iter=-1, shrinking=True, tol=0.001, verbose=False)"
      ]
     },
     "execution_count": 75,
     "metadata": {},
     "output_type": "execute_result"
    }
   ],
   "source": [
    "rbf_full_sel_model = SVR(kernel='rbf', gamma=0.00125, C=205, epsilon=1.9)\n",
    "rbf_full_sel_model.fit(X_full_train_sel, y_full_train.ravel())"
   ]
  },
  {
   "cell_type": "code",
   "execution_count": 76,
   "metadata": {
    "ExecuteTime": {
     "end_time": "2019-07-27T08:19:10.783098Z",
     "start_time": "2019-07-27T08:19:10.233496Z"
    },
    "hidden": true
   },
   "outputs": [
    {
     "data": {
      "text/plain": [
       "(2.2196861732949764, 9.422755912602003, 0.09455965755177553)"
      ]
     },
     "execution_count": 76,
     "metadata": {},
     "output_type": "execute_result"
    }
   ],
   "source": [
    "# get predictions for test set\n",
    "rbf_full_sel_y_pred = rbf_full_sel_model.predict(X_full_test_sel).flatten()\n",
    "\n",
    "# calculate cross entropy loss for test set\n",
    "rbf_full_sel_test_loss = (\n",
    "    mean_absolute_error(y_full_test, rbf_full_sel_y_pred),\n",
    "    mean_squared_error(y_full_test, rbf_full_sel_y_pred),\n",
    "    r2_score(y_full_test, rbf_full_sel_y_pred)\n",
    ")\n",
    "rbf_full_sel_test_loss"
   ]
  },
  {
   "cell_type": "code",
   "execution_count": 77,
   "metadata": {
    "ExecuteTime": {
     "end_time": "2019-07-27T08:19:14.744502Z",
     "start_time": "2019-07-27T08:19:11.539854Z"
    },
    "hidden": true
   },
   "outputs": [
    {
     "data": {
      "text/plain": [
       "SVR(C=205, cache_size=200, coef0=0.0, degree=3, epsilon=1.9, gamma=0.00125,\n",
       "    kernel='rbf', max_iter=-1, shrinking=True, tol=0.001, verbose=False)"
      ]
     },
     "execution_count": 77,
     "metadata": {},
     "output_type": "execute_result"
    }
   ],
   "source": [
    "# full_selit model on all data\n",
    "rbf_full_sel_model_all = SVR(kernel='rbf', gamma=0.00125, C=205, epsilon=1.9)\n",
    "rbf_full_sel_model_all.fit(X_full_sel, y_full.ravel())"
   ]
  },
  {
   "cell_type": "code",
   "execution_count": 78,
   "metadata": {
    "ExecuteTime": {
     "end_time": "2019-07-27T08:19:18.128023Z",
     "start_time": "2019-07-27T08:19:15.696841Z"
    },
    "hidden": true
   },
   "outputs": [
    {
     "data": {
      "text/plain": [
       "(2.0044462969223638, 7.595872805891955, 0.2061631963421583)"
      ]
     },
     "execution_count": 78,
     "metadata": {},
     "output_type": "execute_result"
    }
   ],
   "source": [
    "# get predictions for whole set\n",
    "rbf_full_sel_y_pred_all = rbf_full_sel_model_all.predict(X_full_sel).flatten()\n",
    "\n",
    "# calculate cross entropy loss for test set\n",
    "rbf_full_sel_test_loss_all = (\n",
    "    mean_absolute_error(y_full, rbf_full_sel_y_pred_all),\n",
    "    mean_squared_error(y_full, rbf_full_sel_y_pred_all),\n",
    "    r2_score(y_full, rbf_full_sel_y_pred_all)\n",
    ")\n",
    "rbf_full_sel_test_loss_all"
   ]
  },
  {
   "cell_type": "code",
   "execution_count": 79,
   "metadata": {
    "ExecuteTime": {
     "end_time": "2019-07-27T08:19:19.725675Z",
     "start_time": "2019-07-27T08:19:19.069429Z"
    },
    "hidden": true
   },
   "outputs": [
    {
     "data": {
      "image/png": "[encoded data removed]",
      "text/plain": [
       "<Figure size 720x576 with 1 Axes>"
      ]
     },
     "metadata": {
      "needs_background": "light"
     },
     "output_type": "display_data"
    }
   ],
   "source": [
    "plt.figure(figsize=(10, 8))\n",
    "plt.hist(pd.Series(rbf_full_sel_y_pred_all), bins=range(-5,20), alpha=0.75, density=True, label='predicted')\n",
    "plt.hist(pd.Series(y_full.ravel()), bins=range(-5,20), alpha=0.75, density=True, label='observed')\n",
    "plt.legend()\n",
    "plt.show()"
   ]
  },
  {
   "cell_type": "code",
   "execution_count": 80,
   "metadata": {
    "ExecuteTime": {
     "end_time": "2019-07-27T08:19:24.001188Z",
     "start_time": "2019-07-27T08:19:23.524482Z"
    },
    "hidden": true
   },
   "outputs": [
    {
     "data": {
      "image/png": "[encoded data removed]",
      "text/plain": [
       "<Figure size 720x576 with 1 Axes>"
      ]
     },
     "metadata": {
      "needs_background": "light"
     },
     "output_type": "display_data"
    }
   ],
   "source": [
    "plt.figure(figsize=(10, 8))\n",
    "plt.scatter(pd.Series(y_full.ravel()), pd.Series(rbf_full_sel_y_pred_all), alpha=0.1)\n",
    "plt.plot(np.linspace(-5, 25), np.linspace(-5, 25))\n",
    "plt.ylabel('Predicted total points')\n",
    "plt.xlabel('Observed total points')\n",
    "plt.ylim((0, 7))\n",
    "plt.show()"
   ]
  },
  {
   "cell_type": "markdown",
   "metadata": {
    "heading_collapsed": true,
    "hidden": true
   },
   "source": [
    "### Selected refined feature set"
   ]
  },
  {
   "cell_type": "code",
   "execution_count": 81,
   "metadata": {
    "ExecuteTime": {
     "end_time": "2019-07-27T08:19:35.748082Z",
     "start_time": "2019-07-27T08:19:33.955706Z"
    },
    "hidden": true
   },
   "outputs": [
    {
     "data": {
      "text/plain": [
       "SVR(C=576, cache_size=200, coef0=0.0, degree=3, epsilon=2, gamma=0.001,\n",
       "    kernel='rbf', max_iter=-1, shrinking=True, tol=0.001, verbose=False)"
      ]
     },
     "execution_count": 81,
     "metadata": {},
     "output_type": "execute_result"
    }
   ],
   "source": [
    "rbf_ref_sel_model = SVR(kernel='rbf', gamma=0.001, C=576, epsilon=2)\n",
    "rbf_ref_sel_model.fit(X_ref_train_sel, y_ref_train.ravel())"
   ]
  },
  {
   "cell_type": "code",
   "execution_count": 82,
   "metadata": {
    "ExecuteTime": {
     "end_time": "2019-07-27T08:19:36.931663Z",
     "start_time": "2019-07-27T08:19:36.432272Z"
    },
    "hidden": true
   },
   "outputs": [
    {
     "data": {
      "text/plain": [
       "(2.2331163362639987, 9.364506650396365, 0.1001568769224156)"
      ]
     },
     "execution_count": 82,
     "metadata": {},
     "output_type": "execute_result"
    }
   ],
   "source": [
    "# get predictions for test set\n",
    "rbf_ref_sel_y_pred = rbf_ref_sel_model.predict(X_ref_test_sel).flatten()\n",
    "\n",
    "# calculate cross entropy loss for test set\n",
    "rbf_ref_sel_test_loss = (\n",
    "    mean_absolute_error(y_ref_test, rbf_ref_sel_y_pred),\n",
    "    mean_squared_error(y_ref_test, rbf_ref_sel_y_pred),\n",
    "    r2_score(y_ref_test, rbf_ref_sel_y_pred)\n",
    ")\n",
    "rbf_ref_sel_test_loss"
   ]
  },
  {
   "cell_type": "code",
   "execution_count": 83,
   "metadata": {
    "ExecuteTime": {
     "end_time": "2019-07-27T08:19:40.885375Z",
     "start_time": "2019-07-27T08:19:37.841751Z"
    },
    "hidden": true
   },
   "outputs": [
    {
     "data": {
      "text/plain": [
       "SVR(C=576, cache_size=200, coef0=0.0, degree=3, epsilon=2, gamma=0.001,\n",
       "    kernel='rbf', max_iter=-1, shrinking=True, tol=0.001, verbose=False)"
      ]
     },
     "execution_count": 83,
     "metadata": {},
     "output_type": "execute_result"
    }
   ],
   "source": [
    "# ref_selit model on all data\n",
    "rbf_ref_sel_model_all = SVR(kernel='rbf', gamma=0.001, C=576, epsilon=2)\n",
    "rbf_ref_sel_model_all.fit(X_ref_sel, y_ref.ravel())"
   ]
  },
  {
   "cell_type": "code",
   "execution_count": 84,
   "metadata": {
    "ExecuteTime": {
     "end_time": "2019-07-27T08:19:52.228252Z",
     "start_time": "2019-07-27T08:19:49.997060Z"
    },
    "hidden": true
   },
   "outputs": [
    {
     "data": {
      "text/plain": [
       "(2.046105960275648, 7.687969060575502, 0.19653831210368922)"
      ]
     },
     "execution_count": 84,
     "metadata": {},
     "output_type": "execute_result"
    }
   ],
   "source": [
    "# get predictions for whole set\n",
    "rbf_ref_sel_y_pred_all = rbf_ref_sel_model_all.predict(X_ref_sel).flatten()\n",
    "\n",
    "# calculate cross entropy loss for test set\n",
    "rbf_ref_sel_test_loss_all = (\n",
    "    mean_absolute_error(y_ref, rbf_ref_sel_y_pred_all),\n",
    "    mean_squared_error(y_ref, rbf_ref_sel_y_pred_all),\n",
    "    r2_score(y_ref, rbf_ref_sel_y_pred_all)\n",
    ")\n",
    "rbf_ref_sel_test_loss_all"
   ]
  },
  {
   "cell_type": "code",
   "execution_count": 85,
   "metadata": {
    "ExecuteTime": {
     "end_time": "2019-07-27T08:19:55.414061Z",
     "start_time": "2019-07-27T08:19:54.741372Z"
    },
    "hidden": true
   },
   "outputs": [
    {
     "data": {
      "image/png": "[encoded data removed]",
      "text/plain": [
       "<Figure size 720x576 with 1 Axes>"
      ]
     },
     "metadata": {
      "needs_background": "light"
     },
     "output_type": "display_data"
    }
   ],
   "source": [
    "plt.figure(figsize=(10, 8))\n",
    "plt.hist(pd.Series(rbf_ref_sel_y_pred_all), bins=range(-5,20), alpha=0.75, density=True, label='predicted')\n",
    "plt.hist(pd.Series(y_ref.ravel()), bins=range(-5,20), alpha=0.75, density=True, label='observed')\n",
    "plt.legend()\n",
    "plt.show()"
   ]
  },
  {
   "cell_type": "code",
   "execution_count": 86,
   "metadata": {
    "ExecuteTime": {
     "end_time": "2019-07-27T08:19:56.584554Z",
     "start_time": "2019-07-27T08:19:56.118355Z"
    },
    "hidden": true
   },
   "outputs": [
    {
     "data": {
      "image/png": "[encoded data removed]",
      "text/plain": [
       "<Figure size 720x576 with 1 Axes>"
      ]
     },
     "metadata": {
      "needs_background": "light"
     },
     "output_type": "display_data"
    }
   ],
   "source": [
    "plt.figure(figsize=(10, 8))\n",
    "plt.scatter(pd.Series(y_ref.ravel()), pd.Series(rbf_ref_sel_y_pred_all), alpha=0.1)\n",
    "plt.plot(np.linspace(-5, 25), np.linspace(-5, 25))\n",
    "plt.ylabel('Predicted total points')\n",
    "plt.xlabel('Observed total points')\n",
    "plt.ylim((0, 7))\n",
    "plt.show()"
   ]
  },
  {
   "cell_type": "markdown",
   "metadata": {
    "heading_collapsed": true,
    "hidden": true
   },
   "source": [
    "## Linear basis kernel"
   ]
  },
  {
   "cell_type": "code",
   "execution_count": null,
   "metadata": {
    "ExecuteTime": {
     "end_time": "2019-07-21T10:11:36.748801Z",
     "start_time": "2019-07-21T10:11:28.333836Z"
    },
    "hidden": true
   },
   "outputs": [],
   "source": [
    "linear_model = SVR(kernel='linear', C=18, epsilon=1.97)\n",
    "linear_model.fit(X_train_sel, y_train.ravel())"
   ]
  },
  {
   "cell_type": "markdown",
   "metadata": {
    "heading_collapsed": true,
    "hidden": true
   },
   "source": [
    "## Summary"
   ]
  },
  {
   "cell_type": "code",
   "execution_count": 16,
   "metadata": {
    "ExecuteTime": {
     "end_time": "2019-08-02T09:06:49.550996Z",
     "start_time": "2019-08-02T09:06:49.520443Z"
    },
    "hidden": true
   },
   "outputs": [
    {
     "ename": "NameError",
     "evalue": "name 'rbf_test_loss' is not defined",
     "output_type": "error",
     "traceback": [
      "\u001b[0;31m---------------------------------------------------------------------------\u001b[0m",
      "\u001b[0;31mNameError\u001b[0m                                 Traceback (most recent call last)",
      "\u001b[0;32m<ipython-input-16-9b612b4aaa53>\u001b[0m in \u001b[0;36m<module>\u001b[0;34m\u001b[0m\n\u001b[1;32m      1\u001b[0m pd.DataFrame([\n\u001b[0;32m----> 2\u001b[0;31m     \u001b[0;34m(\u001b[0m\u001b[0;34m'Radius basis SVM regression'\u001b[0m\u001b[0;34m,\u001b[0m \u001b[0mrbf_test_loss\u001b[0m\u001b[0;34m[\u001b[0m\u001b[0;36m0\u001b[0m\u001b[0;34m]\u001b[0m\u001b[0;34m,\u001b[0m \u001b[0mrbf_test_loss\u001b[0m\u001b[0;34m[\u001b[0m\u001b[0;36m1\u001b[0m\u001b[0;34m]\u001b[0m\u001b[0;34m,\u001b[0m \u001b[0mrbf_test_loss\u001b[0m\u001b[0;34m[\u001b[0m\u001b[0;36m2\u001b[0m\u001b[0;34m]\u001b[0m\u001b[0;34m)\u001b[0m\u001b[0;34m,\u001b[0m\u001b[0;34m\u001b[0m\u001b[0;34m\u001b[0m\u001b[0m\n\u001b[0m\u001b[1;32m      3\u001b[0m     \u001b[0;34m(\u001b[0m\u001b[0;34m'Linear basis SVM regression'\u001b[0m\u001b[0;34m,\u001b[0m \u001b[0mlinear_test_loss\u001b[0m\u001b[0;34m[\u001b[0m\u001b[0;36m0\u001b[0m\u001b[0;34m]\u001b[0m\u001b[0;34m,\u001b[0m \u001b[0mlinear_test_loss\u001b[0m\u001b[0;34m[\u001b[0m\u001b[0;36m1\u001b[0m\u001b[0;34m]\u001b[0m\u001b[0;34m,\u001b[0m \u001b[0mlinear_test_loss\u001b[0m\u001b[0;34m[\u001b[0m\u001b[0;36m2\u001b[0m\u001b[0;34m]\u001b[0m\u001b[0;34m)\u001b[0m\u001b[0;34m,\u001b[0m\u001b[0;34m\u001b[0m\u001b[0;34m\u001b[0m\u001b[0m\n\u001b[1;32m      4\u001b[0m ], columns=['model', 'MAE', 'MSE', 'r2'])\n",
      "\u001b[0;31mNameError\u001b[0m: name 'rbf_test_loss' is not defined"
     ]
    }
   ],
   "source": [
    "pd.DataFrame([\n",
    "    ('Radius basis SVM regression', rbf_test_loss[0], rbf_test_loss[1], rbf_test_loss[2]),\n",
    "    ('Linear basis SVM regression', linear_test_loss[0], linear_test_loss[1], linear_test_loss[2]),\n",
    "], columns=['model', 'MAE', 'MSE', 'r2'])"
   ]
  },
  {
   "cell_type": "code",
   "execution_count": null,
   "metadata": {
    "ExecuteTime": {
     "end_time": "2019-07-21T10:11:54.643934Z",
     "start_time": "2019-07-21T10:11:54.582114Z"
    },
    "hidden": true
   },
   "outputs": [],
   "source": [
    "pd.DataFrame([\n",
    "    ('Radius basis SVM regression', rbf_test_loss_full[0], rbf_test_loss_full[1], rbf_test_loss_full[2]),\n",
    "    ('Linear basis SVM regression', linear_test_loss_full[0], linear_test_loss_full[1], linear_test_loss_full[2]),\n",
    "], columns=['model', 'MAE', 'MSE', 'r2'])"
   ]
  },
  {
   "cell_type": "code",
   "execution_count": null,
   "metadata": {
    "hidden": true
   },
   "outputs": [],
   "source": []
  }
 ],
 "metadata": {
  "kernelspec": {
   "display_name": "Python 3",
   "language": "python",
   "name": "python3"
  },
  "language_info": {
   "codemirror_mode": {
    "name": "ipython",
    "version": 3
   },
   "file_extension": ".py",
   "mimetype": "text/x-python",
   "name": "python",
   "nbconvert_exporter": "python",
   "pygments_lexer": "ipython3",
   "version": "3.6.7"
  },
  "toc": {
   "nav_menu": {},
   "number_sections": true,
   "sideBar": true,
   "skip_h1_title": false,
   "title_cell": "Table of Contents",
   "title_sidebar": "Contents",
   "toc_cell": false,
   "toc_position": {},
   "toc_section_display": true,
   "toc_window_display": false
  }
 },
 "nbformat": 4,
 "nbformat_minor": 2
}
