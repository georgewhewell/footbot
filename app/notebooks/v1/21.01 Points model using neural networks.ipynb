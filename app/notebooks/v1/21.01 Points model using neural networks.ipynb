{
 "cells": [
  {
   "cell_type": "markdown",
   "metadata": {},
   "source": [
    "# Set up"
   ]
  },
  {
   "cell_type": "code",
   "execution_count": 1,
   "metadata": {
    "ExecuteTime": {
     "end_time": "2019-06-29T15:14:29.832914Z",
     "start_time": "2019-06-29T15:14:29.829029Z"
    }
   },
   "outputs": [],
   "source": [
    "# update path with data dir\n",
    "import sys\n",
    "sys.path.append('../data/')"
   ]
  },
  {
   "cell_type": "code",
   "execution_count": 2,
   "metadata": {
    "ExecuteTime": {
     "end_time": "2019-06-29T15:14:31.977410Z",
     "start_time": "2019-06-29T15:14:29.836873Z"
    }
   },
   "outputs": [
    {
     "name": "stderr",
     "output_type": "stream",
     "text": [
      "/home/tom/footbot/venv/lib/python3.6/site-packages/statsmodels/compat/pandas.py:56: FutureWarning: The pandas.core.datetools module is deprecated and will be removed in a future version. Please use the pandas.tseries module instead.\n",
      "  from pandas.core import datetools\n"
     ]
    }
   ],
   "source": [
    "import player_data as player\n",
    "import pandas as pd\n",
    "import patsy\n",
    "import numpy as np\n",
    "from tensorflow.keras.models import Sequential\n",
    "from tensorflow.keras.layers import Dense\n",
    "from sklearn.metrics import mean_absolute_error, mean_squared_error\n",
    "\n",
    "# from sklearn.preprocessing import StandardScaler\n",
    "\n",
    "# from sklearn.model_selection import train_test_split, GridSearchCV"
   ]
  },
  {
   "cell_type": "markdown",
   "metadata": {},
   "source": [
    "# Getting data"
   ]
  },
  {
   "cell_type": "code",
   "execution_count": 3,
   "metadata": {
    "ExecuteTime": {
     "end_time": "2019-06-29T15:14:31.985312Z",
     "start_time": "2019-06-29T15:14:31.981326Z"
    }
   },
   "outputs": [],
   "source": [
    "file_name = 'csvs/element_gameweek_2019-05-14.csv'"
   ]
  },
  {
   "cell_type": "code",
   "execution_count": 190,
   "metadata": {
    "ExecuteTime": {
     "end_time": "2019-07-08T16:09:32.896997Z",
     "start_time": "2019-07-08T16:09:32.653665Z"
    }
   },
   "outputs": [],
   "source": [
    "element_gameweek_df = pd.read_csv(file_name, index_col=0)"
   ]
  },
  {
   "cell_type": "code",
   "execution_count": 191,
   "metadata": {
    "ExecuteTime": {
     "end_time": "2019-07-08T16:09:33.426268Z",
     "start_time": "2019-07-08T16:09:33.421129Z"
    }
   },
   "outputs": [],
   "source": [
    "current_event = 11"
   ]
  },
  {
   "cell_type": "code",
   "execution_count": 192,
   "metadata": {
    "ExecuteTime": {
     "end_time": "2019-07-08T16:09:33.833563Z",
     "start_time": "2019-07-08T16:09:33.820331Z"
    }
   },
   "outputs": [],
   "source": [
    "element_gameweek_df =\\\n",
    "element_gameweek_df[\n",
    "    (element_gameweek_df['event'] <= current_event)\n",
    "]"
   ]
  },
  {
   "cell_type": "code",
   "execution_count": 193,
   "metadata": {
    "ExecuteTime": {
     "end_time": "2019-07-08T16:09:36.169693Z",
     "start_time": "2019-07-08T16:09:35.831455Z"
    }
   },
   "outputs": [],
   "source": [
    "player.add_home_categorical_variable(element_gameweek_df)"
   ]
  },
  {
   "cell_type": "code",
   "execution_count": 194,
   "metadata": {
    "ExecuteTime": {
     "end_time": "2019-07-08T16:09:36.242296Z",
     "start_time": "2019-07-08T16:09:36.201029Z"
    }
   },
   "outputs": [
    {
     "data": {
      "text/html": [
       "<div>\n",
       "<style scoped>\n",
       "    .dataframe tbody tr th:only-of-type {\n",
       "        vertical-align: middle;\n",
       "    }\n",
       "\n",
       "    .dataframe tbody tr th {\n",
       "        vertical-align: top;\n",
       "    }\n",
       "\n",
       "    .dataframe thead th {\n",
       "        text-align: right;\n",
       "    }\n",
       "</style>\n",
       "<table border=\"1\" class=\"dataframe\">\n",
       "  <thead>\n",
       "    <tr style=\"text-align: right;\">\n",
       "      <th></th>\n",
       "      <th>row_id</th>\n",
       "      <th>assists</th>\n",
       "      <th>attempted_passes</th>\n",
       "      <th>big_chances_created</th>\n",
       "      <th>big_chances_missed</th>\n",
       "      <th>bonus</th>\n",
       "      <th>bps</th>\n",
       "      <th>clean_sheets</th>\n",
       "      <th>clearances_blocks_interceptions</th>\n",
       "      <th>completed_passes</th>\n",
       "      <th>...</th>\n",
       "      <th>team_a</th>\n",
       "      <th>team_a_difficulty</th>\n",
       "      <th>team_h</th>\n",
       "      <th>team_h_difficulty</th>\n",
       "      <th>element_type</th>\n",
       "      <th>team</th>\n",
       "      <th>web_name</th>\n",
       "      <th>safe_web_name</th>\n",
       "      <th>own_team</th>\n",
       "      <th>opposition_team</th>\n",
       "    </tr>\n",
       "  </thead>\n",
       "  <tbody>\n",
       "    <tr>\n",
       "      <th>0</th>\n",
       "      <td>0</td>\n",
       "      <td>0</td>\n",
       "      <td>42</td>\n",
       "      <td>0</td>\n",
       "      <td>0</td>\n",
       "      <td>0</td>\n",
       "      <td>24</td>\n",
       "      <td>0</td>\n",
       "      <td>2</td>\n",
       "      <td>31</td>\n",
       "      <td>...</td>\n",
       "      <td>13</td>\n",
       "      <td>4</td>\n",
       "      <td>1</td>\n",
       "      <td>4</td>\n",
       "      <td>1</td>\n",
       "      <td>1</td>\n",
       "      <td>Cech</td>\n",
       "      <td>cech</td>\n",
       "      <td>1</td>\n",
       "      <td>13</td>\n",
       "    </tr>\n",
       "    <tr>\n",
       "      <th>1</th>\n",
       "      <td>1</td>\n",
       "      <td>0</td>\n",
       "      <td>35</td>\n",
       "      <td>0</td>\n",
       "      <td>0</td>\n",
       "      <td>0</td>\n",
       "      <td>26</td>\n",
       "      <td>0</td>\n",
       "      <td>1</td>\n",
       "      <td>25</td>\n",
       "      <td>...</td>\n",
       "      <td>1</td>\n",
       "      <td>4</td>\n",
       "      <td>6</td>\n",
       "      <td>4</td>\n",
       "      <td>1</td>\n",
       "      <td>1</td>\n",
       "      <td>Cech</td>\n",
       "      <td>cech</td>\n",
       "      <td>1</td>\n",
       "      <td>6</td>\n",
       "    </tr>\n",
       "    <tr>\n",
       "      <th>2</th>\n",
       "      <td>2</td>\n",
       "      <td>0</td>\n",
       "      <td>24</td>\n",
       "      <td>0</td>\n",
       "      <td>0</td>\n",
       "      <td>0</td>\n",
       "      <td>17</td>\n",
       "      <td>0</td>\n",
       "      <td>0</td>\n",
       "      <td>20</td>\n",
       "      <td>...</td>\n",
       "      <td>19</td>\n",
       "      <td>4</td>\n",
       "      <td>1</td>\n",
       "      <td>3</td>\n",
       "      <td>1</td>\n",
       "      <td>1</td>\n",
       "      <td>Cech</td>\n",
       "      <td>cech</td>\n",
       "      <td>1</td>\n",
       "      <td>19</td>\n",
       "    </tr>\n",
       "    <tr>\n",
       "      <th>3</th>\n",
       "      <td>3</td>\n",
       "      <td>0</td>\n",
       "      <td>38</td>\n",
       "      <td>0</td>\n",
       "      <td>0</td>\n",
       "      <td>0</td>\n",
       "      <td>8</td>\n",
       "      <td>0</td>\n",
       "      <td>0</td>\n",
       "      <td>24</td>\n",
       "      <td>...</td>\n",
       "      <td>1</td>\n",
       "      <td>2</td>\n",
       "      <td>5</td>\n",
       "      <td>4</td>\n",
       "      <td>1</td>\n",
       "      <td>1</td>\n",
       "      <td>Cech</td>\n",
       "      <td>cech</td>\n",
       "      <td>1</td>\n",
       "      <td>5</td>\n",
       "    </tr>\n",
       "    <tr>\n",
       "      <th>4</th>\n",
       "      <td>4</td>\n",
       "      <td>0</td>\n",
       "      <td>33</td>\n",
       "      <td>0</td>\n",
       "      <td>0</td>\n",
       "      <td>0</td>\n",
       "      <td>13</td>\n",
       "      <td>0</td>\n",
       "      <td>2</td>\n",
       "      <td>23</td>\n",
       "      <td>...</td>\n",
       "      <td>1</td>\n",
       "      <td>3</td>\n",
       "      <td>15</td>\n",
       "      <td>4</td>\n",
       "      <td>1</td>\n",
       "      <td>1</td>\n",
       "      <td>Cech</td>\n",
       "      <td>cech</td>\n",
       "      <td>1</td>\n",
       "      <td>15</td>\n",
       "    </tr>\n",
       "  </tbody>\n",
       "</table>\n",
       "<p>5 rows × 66 columns</p>\n",
       "</div>"
      ],
      "text/plain": [
       "   row_id  assists  attempted_passes  big_chances_created  big_chances_missed  \\\n",
       "0       0        0                42                    0                   0   \n",
       "1       1        0                35                    0                   0   \n",
       "2       2        0                24                    0                   0   \n",
       "3       3        0                38                    0                   0   \n",
       "4       4        0                33                    0                   0   \n",
       "\n",
       "   bonus  bps  clean_sheets  clearances_blocks_interceptions  \\\n",
       "0      0   24             0                                2   \n",
       "1      0   26             0                                1   \n",
       "2      0   17             0                                0   \n",
       "3      0    8             0                                0   \n",
       "4      0   13             0                                2   \n",
       "\n",
       "   completed_passes       ...         team_a  team_a_difficulty  team_h  \\\n",
       "0                31       ...             13                  4       1   \n",
       "1                25       ...              1                  4       6   \n",
       "2                20       ...             19                  4       1   \n",
       "3                24       ...              1                  2       5   \n",
       "4                23       ...              1                  3      15   \n",
       "\n",
       "   team_h_difficulty  element_type  team  web_name  safe_web_name  own_team  \\\n",
       "0                  4             1     1      Cech           cech         1   \n",
       "1                  4             1     1      Cech           cech         1   \n",
       "2                  3             1     1      Cech           cech         1   \n",
       "3                  4             1     1      Cech           cech         1   \n",
       "4                  4             1     1      Cech           cech         1   \n",
       "\n",
       "   opposition_team  \n",
       "0               13  \n",
       "1                6  \n",
       "2               19  \n",
       "3                5  \n",
       "4               15  \n",
       "\n",
       "[5 rows x 66 columns]"
      ]
     },
     "execution_count": 194,
     "metadata": {},
     "output_type": "execute_result"
    }
   ],
   "source": [
    "element_gameweek_df.head()"
   ]
  },
  {
   "cell_type": "code",
   "execution_count": 195,
   "metadata": {
    "ExecuteTime": {
     "end_time": "2019-07-08T16:09:36.898693Z",
     "start_time": "2019-07-08T16:09:36.891745Z"
    }
   },
   "outputs": [],
   "source": [
    "cols = [\n",
    "    'element',\n",
    "    'event',\n",
    "    'own_team',\n",
    "    'opposition_team',\n",
    "    'was_home',\n",
    "    'element_type',\n",
    "    'value',\n",
    "    'total_points',\n",
    "    'minutes'\n",
    "]\n",
    "\n",
    "rolling_cols = ['total_points']"
   ]
  },
  {
   "cell_type": "code",
   "execution_count": 196,
   "metadata": {
    "ExecuteTime": {
     "end_time": "2019-07-08T16:09:39.209363Z",
     "start_time": "2019-07-08T16:09:38.866150Z"
    }
   },
   "outputs": [
    {
     "data": {
      "text/html": [
       "<div>\n",
       "<style scoped>\n",
       "    .dataframe tbody tr th:only-of-type {\n",
       "        vertical-align: middle;\n",
       "    }\n",
       "\n",
       "    .dataframe tbody tr th {\n",
       "        vertical-align: top;\n",
       "    }\n",
       "\n",
       "    .dataframe thead th {\n",
       "        text-align: right;\n",
       "    }\n",
       "</style>\n",
       "<table border=\"1\" class=\"dataframe\">\n",
       "  <thead>\n",
       "    <tr style=\"text-align: right;\">\n",
       "      <th></th>\n",
       "      <th>element</th>\n",
       "      <th>event</th>\n",
       "      <th>own_team</th>\n",
       "      <th>opposition_team</th>\n",
       "      <th>was_home</th>\n",
       "      <th>element_type</th>\n",
       "      <th>value</th>\n",
       "      <th>total_points</th>\n",
       "      <th>minutes</th>\n",
       "      <th>element_fixture_rank</th>\n",
       "    </tr>\n",
       "  </thead>\n",
       "  <tbody>\n",
       "    <tr>\n",
       "      <th>0</th>\n",
       "      <td>1</td>\n",
       "      <td>1</td>\n",
       "      <td>1</td>\n",
       "      <td>13</td>\n",
       "      <td>1</td>\n",
       "      <td>1</td>\n",
       "      <td>50</td>\n",
       "      <td>3</td>\n",
       "      <td>90</td>\n",
       "      <td>1.0</td>\n",
       "    </tr>\n",
       "    <tr>\n",
       "      <th>1</th>\n",
       "      <td>1</td>\n",
       "      <td>2</td>\n",
       "      <td>1</td>\n",
       "      <td>6</td>\n",
       "      <td>0</td>\n",
       "      <td>1</td>\n",
       "      <td>50</td>\n",
       "      <td>3</td>\n",
       "      <td>90</td>\n",
       "      <td>2.0</td>\n",
       "    </tr>\n",
       "    <tr>\n",
       "      <th>2</th>\n",
       "      <td>1</td>\n",
       "      <td>3</td>\n",
       "      <td>1</td>\n",
       "      <td>19</td>\n",
       "      <td>1</td>\n",
       "      <td>1</td>\n",
       "      <td>50</td>\n",
       "      <td>3</td>\n",
       "      <td>90</td>\n",
       "      <td>3.0</td>\n",
       "    </tr>\n",
       "    <tr>\n",
       "      <th>3</th>\n",
       "      <td>1</td>\n",
       "      <td>4</td>\n",
       "      <td>1</td>\n",
       "      <td>5</td>\n",
       "      <td>0</td>\n",
       "      <td>1</td>\n",
       "      <td>50</td>\n",
       "      <td>1</td>\n",
       "      <td>90</td>\n",
       "      <td>4.0</td>\n",
       "    </tr>\n",
       "    <tr>\n",
       "      <th>4</th>\n",
       "      <td>1</td>\n",
       "      <td>5</td>\n",
       "      <td>1</td>\n",
       "      <td>15</td>\n",
       "      <td>0</td>\n",
       "      <td>1</td>\n",
       "      <td>50</td>\n",
       "      <td>2</td>\n",
       "      <td>90</td>\n",
       "      <td>5.0</td>\n",
       "    </tr>\n",
       "  </tbody>\n",
       "</table>\n",
       "</div>"
      ],
      "text/plain": [
       "   element  event  own_team  opposition_team  was_home  element_type  value  \\\n",
       "0        1      1         1               13         1             1     50   \n",
       "1        1      2         1                6         0             1     50   \n",
       "2        1      3         1               19         1             1     50   \n",
       "3        1      4         1                5         0             1     50   \n",
       "4        1      5         1               15         0             1     50   \n",
       "\n",
       "   total_points  minutes  element_fixture_rank  \n",
       "0             3       90                   1.0  \n",
       "1             3       90                   2.0  \n",
       "2             3       90                   3.0  \n",
       "3             1       90                   4.0  \n",
       "4             2       90                   5.0  "
      ]
     },
     "execution_count": 196,
     "metadata": {},
     "output_type": "execute_result"
    }
   ],
   "source": [
    "element_gameweek_df = element_gameweek_df[cols]\n",
    "element_gameweek_df['element_fixture_rank'] = element_gameweek_df.groupby('element')['event'].rank()\n",
    "element_gameweek_df.head()"
   ]
  },
  {
   "cell_type": "code",
   "execution_count": 11,
   "metadata": {
    "ExecuteTime": {
     "end_time": "2019-06-29T15:14:32.710665Z",
     "start_time": "2019-06-29T15:14:32.707810Z"
    }
   },
   "outputs": [],
   "source": [
    "# some players don't have data for all fixtures, what should we do about it?\n",
    "#df[df['element'].isin(list(df.groupby('element').size()[df.groupby('element').size() < 10].index))]['minutes'].describe()"
   ]
  },
  {
   "cell_type": "markdown",
   "metadata": {},
   "source": [
    "# Munging data"
   ]
  },
  {
   "cell_type": "markdown",
   "metadata": {
    "heading_collapsed": true
   },
   "source": [
    "## Get player mean points"
   ]
  },
  {
   "cell_type": "code",
   "execution_count": 12,
   "metadata": {
    "ExecuteTime": {
     "end_time": "2019-06-29T15:14:34.101610Z",
     "start_time": "2019-06-29T15:14:32.712822Z"
    },
    "hidden": true
   },
   "outputs": [
    {
     "data": {
      "text/html": [
       "<div>\n",
       "<style scoped>\n",
       "    .dataframe tbody tr th:only-of-type {\n",
       "        vertical-align: middle;\n",
       "    }\n",
       "\n",
       "    .dataframe tbody tr th {\n",
       "        vertical-align: top;\n",
       "    }\n",
       "\n",
       "    .dataframe thead th {\n",
       "        text-align: right;\n",
       "    }\n",
       "</style>\n",
       "<table border=\"1\" class=\"dataframe\">\n",
       "  <thead>\n",
       "    <tr style=\"text-align: right;\">\n",
       "      <th></th>\n",
       "      <th>element</th>\n",
       "      <th>element_fixture_rank</th>\n",
       "      <th>total_points</th>\n",
       "    </tr>\n",
       "  </thead>\n",
       "  <tbody>\n",
       "    <tr>\n",
       "      <th>0</th>\n",
       "      <td>1</td>\n",
       "      <td>2.0</td>\n",
       "      <td>3.000000</td>\n",
       "    </tr>\n",
       "    <tr>\n",
       "      <th>1</th>\n",
       "      <td>1</td>\n",
       "      <td>3.0</td>\n",
       "      <td>3.000000</td>\n",
       "    </tr>\n",
       "    <tr>\n",
       "      <th>2</th>\n",
       "      <td>1</td>\n",
       "      <td>4.0</td>\n",
       "      <td>3.000000</td>\n",
       "    </tr>\n",
       "    <tr>\n",
       "      <th>3</th>\n",
       "      <td>1</td>\n",
       "      <td>5.0</td>\n",
       "      <td>2.500000</td>\n",
       "    </tr>\n",
       "    <tr>\n",
       "      <th>4</th>\n",
       "      <td>1</td>\n",
       "      <td>6.0</td>\n",
       "      <td>2.400000</td>\n",
       "    </tr>\n",
       "    <tr>\n",
       "      <th>5</th>\n",
       "      <td>1</td>\n",
       "      <td>7.0</td>\n",
       "      <td>3.833333</td>\n",
       "    </tr>\n",
       "    <tr>\n",
       "      <th>6</th>\n",
       "      <td>1</td>\n",
       "      <td>8.0</td>\n",
       "      <td>3.428571</td>\n",
       "    </tr>\n",
       "    <tr>\n",
       "      <th>7</th>\n",
       "      <td>1</td>\n",
       "      <td>9.0</td>\n",
       "      <td>3.000000</td>\n",
       "    </tr>\n",
       "    <tr>\n",
       "      <th>8</th>\n",
       "      <td>1</td>\n",
       "      <td>10.0</td>\n",
       "      <td>2.666667</td>\n",
       "    </tr>\n",
       "    <tr>\n",
       "      <th>9</th>\n",
       "      <td>1</td>\n",
       "      <td>11.0</td>\n",
       "      <td>2.400000</td>\n",
       "    </tr>\n",
       "  </tbody>\n",
       "</table>\n",
       "</div>"
      ],
      "text/plain": [
       "   element  element_fixture_rank  total_points\n",
       "0        1                   2.0      3.000000\n",
       "1        1                   3.0      3.000000\n",
       "2        1                   4.0      3.000000\n",
       "3        1                   5.0      2.500000\n",
       "4        1                   6.0      2.400000\n",
       "5        1                   7.0      3.833333\n",
       "6        1                   8.0      3.428571\n",
       "7        1                   9.0      3.000000\n",
       "8        1                  10.0      2.666667\n",
       "9        1                  11.0      2.400000"
      ]
     },
     "execution_count": 12,
     "metadata": {},
     "output_type": "execute_result"
    }
   ],
   "source": [
    "# copy main df\n",
    "rolling_player_mean_df = element_gameweek_df.copy()\n",
    "\n",
    "# average rolling cols over previous events \n",
    "rolling_player_mean_df = \\\n",
    "rolling_player_mean_df.groupby('element', as_index=True)[['element_fixture_rank'] + rolling_cols]\\\n",
    ".rolling(38, min_periods=1).mean().reset_index('element')\n",
    "\n",
    "# increment element fixture rank, as we don't know data ahead of time\n",
    "rolling_player_mean_df['element_fixture_rank'] =\\\n",
    "rolling_player_mean_df.groupby('element')['element_fixture_rank'].rank() + 1\n",
    "\n",
    "rolling_player_mean_df.head(10)"
   ]
  },
  {
   "cell_type": "code",
   "execution_count": 13,
   "metadata": {
    "ExecuteTime": {
     "end_time": "2019-06-29T15:14:34.129086Z",
     "start_time": "2019-06-29T15:14:34.104967Z"
    },
    "hidden": true
   },
   "outputs": [
    {
     "data": {
      "text/html": [
       "<div>\n",
       "<style scoped>\n",
       "    .dataframe tbody tr th:only-of-type {\n",
       "        vertical-align: middle;\n",
       "    }\n",
       "\n",
       "    .dataframe tbody tr th {\n",
       "        vertical-align: top;\n",
       "    }\n",
       "\n",
       "    .dataframe thead th {\n",
       "        text-align: right;\n",
       "    }\n",
       "</style>\n",
       "<table border=\"1\" class=\"dataframe\">\n",
       "  <thead>\n",
       "    <tr style=\"text-align: right;\">\n",
       "      <th></th>\n",
       "      <th>element</th>\n",
       "      <th>event</th>\n",
       "      <th>own_team</th>\n",
       "      <th>opposition_team</th>\n",
       "      <th>was_home</th>\n",
       "      <th>element_type</th>\n",
       "      <th>value</th>\n",
       "      <th>total_points</th>\n",
       "      <th>minutes</th>\n",
       "      <th>element_fixture_rank</th>\n",
       "      <th>total_points_player_mean</th>\n",
       "    </tr>\n",
       "  </thead>\n",
       "  <tbody>\n",
       "    <tr>\n",
       "      <th>0</th>\n",
       "      <td>1</td>\n",
       "      <td>1</td>\n",
       "      <td>1</td>\n",
       "      <td>13</td>\n",
       "      <td>1</td>\n",
       "      <td>1</td>\n",
       "      <td>50</td>\n",
       "      <td>3</td>\n",
       "      <td>90</td>\n",
       "      <td>1.0</td>\n",
       "      <td>NaN</td>\n",
       "    </tr>\n",
       "    <tr>\n",
       "      <th>1</th>\n",
       "      <td>1</td>\n",
       "      <td>2</td>\n",
       "      <td>1</td>\n",
       "      <td>6</td>\n",
       "      <td>0</td>\n",
       "      <td>1</td>\n",
       "      <td>50</td>\n",
       "      <td>3</td>\n",
       "      <td>90</td>\n",
       "      <td>2.0</td>\n",
       "      <td>3.0</td>\n",
       "    </tr>\n",
       "    <tr>\n",
       "      <th>2</th>\n",
       "      <td>1</td>\n",
       "      <td>3</td>\n",
       "      <td>1</td>\n",
       "      <td>19</td>\n",
       "      <td>1</td>\n",
       "      <td>1</td>\n",
       "      <td>50</td>\n",
       "      <td>3</td>\n",
       "      <td>90</td>\n",
       "      <td>3.0</td>\n",
       "      <td>3.0</td>\n",
       "    </tr>\n",
       "    <tr>\n",
       "      <th>3</th>\n",
       "      <td>1</td>\n",
       "      <td>4</td>\n",
       "      <td>1</td>\n",
       "      <td>5</td>\n",
       "      <td>0</td>\n",
       "      <td>1</td>\n",
       "      <td>50</td>\n",
       "      <td>1</td>\n",
       "      <td>90</td>\n",
       "      <td>4.0</td>\n",
       "      <td>3.0</td>\n",
       "    </tr>\n",
       "    <tr>\n",
       "      <th>4</th>\n",
       "      <td>1</td>\n",
       "      <td>5</td>\n",
       "      <td>1</td>\n",
       "      <td>15</td>\n",
       "      <td>0</td>\n",
       "      <td>1</td>\n",
       "      <td>50</td>\n",
       "      <td>2</td>\n",
       "      <td>90</td>\n",
       "      <td>5.0</td>\n",
       "      <td>2.5</td>\n",
       "    </tr>\n",
       "  </tbody>\n",
       "</table>\n",
       "</div>"
      ],
      "text/plain": [
       "   element  event  own_team  opposition_team  was_home  element_type  value  \\\n",
       "0        1      1         1               13         1             1     50   \n",
       "1        1      2         1                6         0             1     50   \n",
       "2        1      3         1               19         1             1     50   \n",
       "3        1      4         1                5         0             1     50   \n",
       "4        1      5         1               15         0             1     50   \n",
       "\n",
       "   total_points  minutes  element_fixture_rank  total_points_player_mean  \n",
       "0             3       90                   1.0                       NaN  \n",
       "1             3       90                   2.0                       3.0  \n",
       "2             3       90                   3.0                       3.0  \n",
       "3             1       90                   4.0                       3.0  \n",
       "4             2       90                   5.0                       2.5  "
      ]
     },
     "execution_count": 13,
     "metadata": {},
     "output_type": "execute_result"
    }
   ],
   "source": [
    "element_gameweek_df =\\\n",
    "    element_gameweek_df.join(\n",
    "        rolling_player_mean_df.set_index(['element', 'element_fixture_rank']),\n",
    "        on=['element', 'element_fixture_rank'],\n",
    "        rsuffix='_player_mean',\n",
    "        how='left'\n",
    ")\n",
    "\n",
    "element_gameweek_df.head()"
   ]
  },
  {
   "cell_type": "code",
   "execution_count": 14,
   "metadata": {
    "ExecuteTime": {
     "end_time": "2019-06-29T15:14:34.150455Z",
     "start_time": "2019-06-29T15:14:34.131039Z"
    },
    "hidden": true
   },
   "outputs": [],
   "source": [
    "# what should we do about gameweek 1, where we don't have an average of points?\n",
    "# does this work for double or missing gameweeks?"
   ]
  },
  {
   "cell_type": "markdown",
   "metadata": {
    "heading_collapsed": true
   },
   "source": [
    "## Get player max points"
   ]
  },
  {
   "cell_type": "code",
   "execution_count": 15,
   "metadata": {
    "ExecuteTime": {
     "end_time": "2019-06-29T15:14:35.697255Z",
     "start_time": "2019-06-29T15:14:34.154478Z"
    },
    "hidden": true
   },
   "outputs": [
    {
     "data": {
      "text/html": [
       "<div>\n",
       "<style scoped>\n",
       "    .dataframe tbody tr th:only-of-type {\n",
       "        vertical-align: middle;\n",
       "    }\n",
       "\n",
       "    .dataframe tbody tr th {\n",
       "        vertical-align: top;\n",
       "    }\n",
       "\n",
       "    .dataframe thead th {\n",
       "        text-align: right;\n",
       "    }\n",
       "</style>\n",
       "<table border=\"1\" class=\"dataframe\">\n",
       "  <thead>\n",
       "    <tr style=\"text-align: right;\">\n",
       "      <th></th>\n",
       "      <th>element</th>\n",
       "      <th>element_fixture_rank</th>\n",
       "      <th>total_points</th>\n",
       "    </tr>\n",
       "  </thead>\n",
       "  <tbody>\n",
       "    <tr>\n",
       "      <th>0</th>\n",
       "      <td>1</td>\n",
       "      <td>2.0</td>\n",
       "      <td>3.0</td>\n",
       "    </tr>\n",
       "    <tr>\n",
       "      <th>1</th>\n",
       "      <td>1</td>\n",
       "      <td>3.0</td>\n",
       "      <td>3.0</td>\n",
       "    </tr>\n",
       "    <tr>\n",
       "      <th>2</th>\n",
       "      <td>1</td>\n",
       "      <td>4.0</td>\n",
       "      <td>3.0</td>\n",
       "    </tr>\n",
       "    <tr>\n",
       "      <th>3</th>\n",
       "      <td>1</td>\n",
       "      <td>5.0</td>\n",
       "      <td>3.0</td>\n",
       "    </tr>\n",
       "    <tr>\n",
       "      <th>4</th>\n",
       "      <td>1</td>\n",
       "      <td>6.0</td>\n",
       "      <td>3.0</td>\n",
       "    </tr>\n",
       "    <tr>\n",
       "      <th>5</th>\n",
       "      <td>1</td>\n",
       "      <td>7.0</td>\n",
       "      <td>11.0</td>\n",
       "    </tr>\n",
       "    <tr>\n",
       "      <th>6</th>\n",
       "      <td>1</td>\n",
       "      <td>8.0</td>\n",
       "      <td>11.0</td>\n",
       "    </tr>\n",
       "    <tr>\n",
       "      <th>7</th>\n",
       "      <td>1</td>\n",
       "      <td>9.0</td>\n",
       "      <td>11.0</td>\n",
       "    </tr>\n",
       "    <tr>\n",
       "      <th>8</th>\n",
       "      <td>1</td>\n",
       "      <td>10.0</td>\n",
       "      <td>11.0</td>\n",
       "    </tr>\n",
       "    <tr>\n",
       "      <th>9</th>\n",
       "      <td>1</td>\n",
       "      <td>11.0</td>\n",
       "      <td>11.0</td>\n",
       "    </tr>\n",
       "  </tbody>\n",
       "</table>\n",
       "</div>"
      ],
      "text/plain": [
       "   element  element_fixture_rank  total_points\n",
       "0        1                   2.0           3.0\n",
       "1        1                   3.0           3.0\n",
       "2        1                   4.0           3.0\n",
       "3        1                   5.0           3.0\n",
       "4        1                   6.0           3.0\n",
       "5        1                   7.0          11.0\n",
       "6        1                   8.0          11.0\n",
       "7        1                   9.0          11.0\n",
       "8        1                  10.0          11.0\n",
       "9        1                  11.0          11.0"
      ]
     },
     "execution_count": 15,
     "metadata": {},
     "output_type": "execute_result"
    }
   ],
   "source": [
    "# copy main df\n",
    "rolling_player_max_df = element_gameweek_df.copy()\n",
    "\n",
    "# average rolling cols over previous events \n",
    "rolling_player_max_df = \\\n",
    "rolling_player_max_df.groupby('element', as_index=True)[['element_fixture_rank'] + rolling_cols]\\\n",
    ".rolling(38, min_periods=1).max().reset_index('element')\n",
    "\n",
    "# increment element fixture rank, as we don't know data ahead of time\n",
    "rolling_player_max_df['element_fixture_rank'] =\\\n",
    "rolling_player_max_df.groupby('element')['element_fixture_rank'].rank() + 1\n",
    "\n",
    "rolling_player_max_df.head(10)"
   ]
  },
  {
   "cell_type": "code",
   "execution_count": 16,
   "metadata": {
    "ExecuteTime": {
     "end_time": "2019-06-29T15:14:35.733852Z",
     "start_time": "2019-06-29T15:14:35.700986Z"
    },
    "hidden": true
   },
   "outputs": [
    {
     "data": {
      "text/html": [
       "<div>\n",
       "<style scoped>\n",
       "    .dataframe tbody tr th:only-of-type {\n",
       "        vertical-align: middle;\n",
       "    }\n",
       "\n",
       "    .dataframe tbody tr th {\n",
       "        vertical-align: top;\n",
       "    }\n",
       "\n",
       "    .dataframe thead th {\n",
       "        text-align: right;\n",
       "    }\n",
       "</style>\n",
       "<table border=\"1\" class=\"dataframe\">\n",
       "  <thead>\n",
       "    <tr style=\"text-align: right;\">\n",
       "      <th></th>\n",
       "      <th>element</th>\n",
       "      <th>event</th>\n",
       "      <th>own_team</th>\n",
       "      <th>opposition_team</th>\n",
       "      <th>was_home</th>\n",
       "      <th>element_type</th>\n",
       "      <th>value</th>\n",
       "      <th>total_points</th>\n",
       "      <th>minutes</th>\n",
       "      <th>element_fixture_rank</th>\n",
       "      <th>total_points_player_mean</th>\n",
       "      <th>total_points_player_max</th>\n",
       "    </tr>\n",
       "  </thead>\n",
       "  <tbody>\n",
       "    <tr>\n",
       "      <th>0</th>\n",
       "      <td>1</td>\n",
       "      <td>1</td>\n",
       "      <td>1</td>\n",
       "      <td>13</td>\n",
       "      <td>1</td>\n",
       "      <td>1</td>\n",
       "      <td>50</td>\n",
       "      <td>3</td>\n",
       "      <td>90</td>\n",
       "      <td>1.0</td>\n",
       "      <td>NaN</td>\n",
       "      <td>NaN</td>\n",
       "    </tr>\n",
       "    <tr>\n",
       "      <th>1</th>\n",
       "      <td>1</td>\n",
       "      <td>2</td>\n",
       "      <td>1</td>\n",
       "      <td>6</td>\n",
       "      <td>0</td>\n",
       "      <td>1</td>\n",
       "      <td>50</td>\n",
       "      <td>3</td>\n",
       "      <td>90</td>\n",
       "      <td>2.0</td>\n",
       "      <td>3.0</td>\n",
       "      <td>3.0</td>\n",
       "    </tr>\n",
       "    <tr>\n",
       "      <th>2</th>\n",
       "      <td>1</td>\n",
       "      <td>3</td>\n",
       "      <td>1</td>\n",
       "      <td>19</td>\n",
       "      <td>1</td>\n",
       "      <td>1</td>\n",
       "      <td>50</td>\n",
       "      <td>3</td>\n",
       "      <td>90</td>\n",
       "      <td>3.0</td>\n",
       "      <td>3.0</td>\n",
       "      <td>3.0</td>\n",
       "    </tr>\n",
       "    <tr>\n",
       "      <th>3</th>\n",
       "      <td>1</td>\n",
       "      <td>4</td>\n",
       "      <td>1</td>\n",
       "      <td>5</td>\n",
       "      <td>0</td>\n",
       "      <td>1</td>\n",
       "      <td>50</td>\n",
       "      <td>1</td>\n",
       "      <td>90</td>\n",
       "      <td>4.0</td>\n",
       "      <td>3.0</td>\n",
       "      <td>3.0</td>\n",
       "    </tr>\n",
       "    <tr>\n",
       "      <th>4</th>\n",
       "      <td>1</td>\n",
       "      <td>5</td>\n",
       "      <td>1</td>\n",
       "      <td>15</td>\n",
       "      <td>0</td>\n",
       "      <td>1</td>\n",
       "      <td>50</td>\n",
       "      <td>2</td>\n",
       "      <td>90</td>\n",
       "      <td>5.0</td>\n",
       "      <td>2.5</td>\n",
       "      <td>3.0</td>\n",
       "    </tr>\n",
       "  </tbody>\n",
       "</table>\n",
       "</div>"
      ],
      "text/plain": [
       "   element  event  own_team  opposition_team  was_home  element_type  value  \\\n",
       "0        1      1         1               13         1             1     50   \n",
       "1        1      2         1                6         0             1     50   \n",
       "2        1      3         1               19         1             1     50   \n",
       "3        1      4         1                5         0             1     50   \n",
       "4        1      5         1               15         0             1     50   \n",
       "\n",
       "   total_points  minutes  element_fixture_rank  total_points_player_mean  \\\n",
       "0             3       90                   1.0                       NaN   \n",
       "1             3       90                   2.0                       3.0   \n",
       "2             3       90                   3.0                       3.0   \n",
       "3             1       90                   4.0                       3.0   \n",
       "4             2       90                   5.0                       2.5   \n",
       "\n",
       "   total_points_player_max  \n",
       "0                      NaN  \n",
       "1                      3.0  \n",
       "2                      3.0  \n",
       "3                      3.0  \n",
       "4                      3.0  "
      ]
     },
     "execution_count": 16,
     "metadata": {},
     "output_type": "execute_result"
    }
   ],
   "source": [
    "element_gameweek_df =\\\n",
    "    element_gameweek_df.join(\n",
    "        rolling_player_max_df.set_index(['element', 'element_fixture_rank']),\n",
    "        on=['element', 'element_fixture_rank'],\n",
    "        rsuffix='_player_max',\n",
    "        how='left'\n",
    ")\n",
    "\n",
    "element_gameweek_df.head()"
   ]
  },
  {
   "cell_type": "code",
   "execution_count": 17,
   "metadata": {
    "ExecuteTime": {
     "end_time": "2019-06-29T15:14:35.741053Z",
     "start_time": "2019-06-29T15:14:35.736341Z"
    },
    "hidden": true
   },
   "outputs": [],
   "source": [
    "# what should we do about gameweek 1, where we don't have an average of points?\n",
    "# does this work for double or missing gameweeks?"
   ]
  },
  {
   "cell_type": "markdown",
   "metadata": {
    "heading_collapsed": true
   },
   "source": [
    "## Get player min points"
   ]
  },
  {
   "cell_type": "code",
   "execution_count": 18,
   "metadata": {
    "ExecuteTime": {
     "end_time": "2019-06-29T15:14:36.988559Z",
     "start_time": "2019-06-29T15:14:35.743189Z"
    },
    "hidden": true
   },
   "outputs": [
    {
     "data": {
      "text/html": [
       "<div>\n",
       "<style scoped>\n",
       "    .dataframe tbody tr th:only-of-type {\n",
       "        vertical-align: middle;\n",
       "    }\n",
       "\n",
       "    .dataframe tbody tr th {\n",
       "        vertical-align: top;\n",
       "    }\n",
       "\n",
       "    .dataframe thead th {\n",
       "        text-align: right;\n",
       "    }\n",
       "</style>\n",
       "<table border=\"1\" class=\"dataframe\">\n",
       "  <thead>\n",
       "    <tr style=\"text-align: right;\">\n",
       "      <th></th>\n",
       "      <th>element</th>\n",
       "      <th>element_fixture_rank</th>\n",
       "      <th>total_points</th>\n",
       "    </tr>\n",
       "  </thead>\n",
       "  <tbody>\n",
       "    <tr>\n",
       "      <th>0</th>\n",
       "      <td>1</td>\n",
       "      <td>7.0</td>\n",
       "      <td>3.0</td>\n",
       "    </tr>\n",
       "    <tr>\n",
       "      <th>1</th>\n",
       "      <td>1</td>\n",
       "      <td>7.0</td>\n",
       "      <td>3.0</td>\n",
       "    </tr>\n",
       "    <tr>\n",
       "      <th>2</th>\n",
       "      <td>1</td>\n",
       "      <td>7.0</td>\n",
       "      <td>3.0</td>\n",
       "    </tr>\n",
       "    <tr>\n",
       "      <th>3</th>\n",
       "      <td>1</td>\n",
       "      <td>7.0</td>\n",
       "      <td>1.0</td>\n",
       "    </tr>\n",
       "    <tr>\n",
       "      <th>4</th>\n",
       "      <td>1</td>\n",
       "      <td>7.0</td>\n",
       "      <td>1.0</td>\n",
       "    </tr>\n",
       "    <tr>\n",
       "      <th>5</th>\n",
       "      <td>1</td>\n",
       "      <td>7.0</td>\n",
       "      <td>1.0</td>\n",
       "    </tr>\n",
       "    <tr>\n",
       "      <th>6</th>\n",
       "      <td>1</td>\n",
       "      <td>7.0</td>\n",
       "      <td>1.0</td>\n",
       "    </tr>\n",
       "    <tr>\n",
       "      <th>7</th>\n",
       "      <td>1</td>\n",
       "      <td>7.0</td>\n",
       "      <td>0.0</td>\n",
       "    </tr>\n",
       "    <tr>\n",
       "      <th>8</th>\n",
       "      <td>1</td>\n",
       "      <td>7.0</td>\n",
       "      <td>0.0</td>\n",
       "    </tr>\n",
       "    <tr>\n",
       "      <th>9</th>\n",
       "      <td>1</td>\n",
       "      <td>7.0</td>\n",
       "      <td>0.0</td>\n",
       "    </tr>\n",
       "  </tbody>\n",
       "</table>\n",
       "</div>"
      ],
      "text/plain": [
       "   element  element_fixture_rank  total_points\n",
       "0        1                   7.0           3.0\n",
       "1        1                   7.0           3.0\n",
       "2        1                   7.0           3.0\n",
       "3        1                   7.0           1.0\n",
       "4        1                   7.0           1.0\n",
       "5        1                   7.0           1.0\n",
       "6        1                   7.0           1.0\n",
       "7        1                   7.0           0.0\n",
       "8        1                   7.0           0.0\n",
       "9        1                   7.0           0.0"
      ]
     },
     "execution_count": 18,
     "metadata": {},
     "output_type": "execute_result"
    }
   ],
   "source": [
    "# copy main df\n",
    "rolling_player_min_df = element_gameweek_df.copy()\n",
    "\n",
    "# average rolling cols over previous events \n",
    "rolling_player_min_df = \\\n",
    "rolling_player_min_df.groupby('element', as_index=True)[['element_fixture_rank'] + rolling_cols]\\\n",
    ".rolling(38, min_periods=1).min().reset_index('element')\n",
    "\n",
    "# increment element fixture rank, as we don't know data ahead of time\n",
    "rolling_player_min_df['element_fixture_rank'] =\\\n",
    "rolling_player_min_df.groupby('element')['element_fixture_rank'].rank() + 1\n",
    "\n",
    "rolling_player_min_df.head(10)"
   ]
  },
  {
   "cell_type": "code",
   "execution_count": 19,
   "metadata": {
    "ExecuteTime": {
     "end_time": "2019-06-29T15:14:37.022776Z",
     "start_time": "2019-06-29T15:14:36.994410Z"
    },
    "hidden": true
   },
   "outputs": [
    {
     "data": {
      "text/html": [
       "<div>\n",
       "<style scoped>\n",
       "    .dataframe tbody tr th:only-of-type {\n",
       "        vertical-align: middle;\n",
       "    }\n",
       "\n",
       "    .dataframe tbody tr th {\n",
       "        vertical-align: top;\n",
       "    }\n",
       "\n",
       "    .dataframe thead th {\n",
       "        text-align: right;\n",
       "    }\n",
       "</style>\n",
       "<table border=\"1\" class=\"dataframe\">\n",
       "  <thead>\n",
       "    <tr style=\"text-align: right;\">\n",
       "      <th></th>\n",
       "      <th>element</th>\n",
       "      <th>event</th>\n",
       "      <th>own_team</th>\n",
       "      <th>opposition_team</th>\n",
       "      <th>was_home</th>\n",
       "      <th>element_type</th>\n",
       "      <th>value</th>\n",
       "      <th>total_points</th>\n",
       "      <th>minutes</th>\n",
       "      <th>element_fixture_rank</th>\n",
       "      <th>total_points_player_mean</th>\n",
       "      <th>total_points_player_max</th>\n",
       "      <th>total_points_player_min</th>\n",
       "    </tr>\n",
       "  </thead>\n",
       "  <tbody>\n",
       "    <tr>\n",
       "      <th>0</th>\n",
       "      <td>1</td>\n",
       "      <td>1</td>\n",
       "      <td>1</td>\n",
       "      <td>13</td>\n",
       "      <td>1</td>\n",
       "      <td>1</td>\n",
       "      <td>50</td>\n",
       "      <td>3</td>\n",
       "      <td>90</td>\n",
       "      <td>1.0</td>\n",
       "      <td>NaN</td>\n",
       "      <td>NaN</td>\n",
       "      <td>NaN</td>\n",
       "    </tr>\n",
       "    <tr>\n",
       "      <th>1</th>\n",
       "      <td>1</td>\n",
       "      <td>2</td>\n",
       "      <td>1</td>\n",
       "      <td>6</td>\n",
       "      <td>0</td>\n",
       "      <td>1</td>\n",
       "      <td>50</td>\n",
       "      <td>3</td>\n",
       "      <td>90</td>\n",
       "      <td>2.0</td>\n",
       "      <td>3.0</td>\n",
       "      <td>3.0</td>\n",
       "      <td>NaN</td>\n",
       "    </tr>\n",
       "    <tr>\n",
       "      <th>2</th>\n",
       "      <td>1</td>\n",
       "      <td>3</td>\n",
       "      <td>1</td>\n",
       "      <td>19</td>\n",
       "      <td>1</td>\n",
       "      <td>1</td>\n",
       "      <td>50</td>\n",
       "      <td>3</td>\n",
       "      <td>90</td>\n",
       "      <td>3.0</td>\n",
       "      <td>3.0</td>\n",
       "      <td>3.0</td>\n",
       "      <td>NaN</td>\n",
       "    </tr>\n",
       "    <tr>\n",
       "      <th>3</th>\n",
       "      <td>1</td>\n",
       "      <td>4</td>\n",
       "      <td>1</td>\n",
       "      <td>5</td>\n",
       "      <td>0</td>\n",
       "      <td>1</td>\n",
       "      <td>50</td>\n",
       "      <td>1</td>\n",
       "      <td>90</td>\n",
       "      <td>4.0</td>\n",
       "      <td>3.0</td>\n",
       "      <td>3.0</td>\n",
       "      <td>NaN</td>\n",
       "    </tr>\n",
       "    <tr>\n",
       "      <th>4</th>\n",
       "      <td>1</td>\n",
       "      <td>5</td>\n",
       "      <td>1</td>\n",
       "      <td>15</td>\n",
       "      <td>0</td>\n",
       "      <td>1</td>\n",
       "      <td>50</td>\n",
       "      <td>2</td>\n",
       "      <td>90</td>\n",
       "      <td>5.0</td>\n",
       "      <td>2.5</td>\n",
       "      <td>3.0</td>\n",
       "      <td>NaN</td>\n",
       "    </tr>\n",
       "  </tbody>\n",
       "</table>\n",
       "</div>"
      ],
      "text/plain": [
       "   element  event  own_team  opposition_team  was_home  element_type  value  \\\n",
       "0        1      1         1               13         1             1     50   \n",
       "1        1      2         1                6         0             1     50   \n",
       "2        1      3         1               19         1             1     50   \n",
       "3        1      4         1                5         0             1     50   \n",
       "4        1      5         1               15         0             1     50   \n",
       "\n",
       "   total_points  minutes  element_fixture_rank  total_points_player_mean  \\\n",
       "0             3       90                   1.0                       NaN   \n",
       "1             3       90                   2.0                       3.0   \n",
       "2             3       90                   3.0                       3.0   \n",
       "3             1       90                   4.0                       3.0   \n",
       "4             2       90                   5.0                       2.5   \n",
       "\n",
       "   total_points_player_max  total_points_player_min  \n",
       "0                      NaN                      NaN  \n",
       "1                      3.0                      NaN  \n",
       "2                      3.0                      NaN  \n",
       "3                      3.0                      NaN  \n",
       "4                      3.0                      NaN  "
      ]
     },
     "execution_count": 19,
     "metadata": {},
     "output_type": "execute_result"
    }
   ],
   "source": [
    "element_gameweek_df =\\\n",
    "    element_gameweek_df.join(\n",
    "        rolling_player_min_df.set_index(['element', 'element_fixture_rank']),\n",
    "        on=['element', 'element_fixture_rank'],\n",
    "        rsuffix='_player_min',\n",
    "        how='left'\n",
    ")\n",
    "\n",
    "element_gameweek_df.head()"
   ]
  },
  {
   "cell_type": "code",
   "execution_count": 20,
   "metadata": {
    "ExecuteTime": {
     "end_time": "2019-06-29T15:14:37.052155Z",
     "start_time": "2019-06-29T15:14:37.024929Z"
    },
    "hidden": true
   },
   "outputs": [],
   "source": [
    "# what should we do about gameweek 1, where we don't have an average of points?\n",
    "# does this work for double or missing gameweeks?"
   ]
  },
  {
   "cell_type": "markdown",
   "metadata": {
    "heading_collapsed": true
   },
   "source": [
    "## Get position mean points"
   ]
  },
  {
   "cell_type": "code",
   "execution_count": 21,
   "metadata": {
    "ExecuteTime": {
     "end_time": "2019-06-29T15:14:37.117164Z",
     "start_time": "2019-06-29T15:14:37.054134Z"
    },
    "hidden": true
   },
   "outputs": [
    {
     "data": {
      "text/html": [
       "<div>\n",
       "<style scoped>\n",
       "    .dataframe tbody tr th:only-of-type {\n",
       "        vertical-align: middle;\n",
       "    }\n",
       "\n",
       "    .dataframe tbody tr th {\n",
       "        vertical-align: top;\n",
       "    }\n",
       "\n",
       "    .dataframe thead th {\n",
       "        text-align: right;\n",
       "    }\n",
       "</style>\n",
       "<table border=\"1\" class=\"dataframe\">\n",
       "  <thead>\n",
       "    <tr style=\"text-align: right;\">\n",
       "      <th></th>\n",
       "      <th>element_type</th>\n",
       "      <th>event</th>\n",
       "      <th>total_points</th>\n",
       "    </tr>\n",
       "  </thead>\n",
       "  <tbody>\n",
       "    <tr>\n",
       "      <th>0</th>\n",
       "      <td>1</td>\n",
       "      <td>2.0</td>\n",
       "      <td>4.400000</td>\n",
       "    </tr>\n",
       "    <tr>\n",
       "      <th>1</th>\n",
       "      <td>1</td>\n",
       "      <td>3.0</td>\n",
       "      <td>4.000000</td>\n",
       "    </tr>\n",
       "    <tr>\n",
       "      <th>2</th>\n",
       "      <td>1</td>\n",
       "      <td>4.0</td>\n",
       "      <td>3.682540</td>\n",
       "    </tr>\n",
       "    <tr>\n",
       "      <th>3</th>\n",
       "      <td>1</td>\n",
       "      <td>5.0</td>\n",
       "      <td>3.761905</td>\n",
       "    </tr>\n",
       "    <tr>\n",
       "      <th>4</th>\n",
       "      <td>1</td>\n",
       "      <td>6.0</td>\n",
       "      <td>3.509524</td>\n",
       "    </tr>\n",
       "  </tbody>\n",
       "</table>\n",
       "</div>"
      ],
      "text/plain": [
       "   element_type  event  total_points\n",
       "0             1    2.0      4.400000\n",
       "1             1    3.0      4.000000\n",
       "2             1    4.0      3.682540\n",
       "3             1    5.0      3.761905\n",
       "4             1    6.0      3.509524"
      ]
     },
     "execution_count": 21,
     "metadata": {},
     "output_type": "execute_result"
    }
   ],
   "source": [
    "# copy main df\n",
    "rolling_position_mean_df = element_gameweek_df.copy()\n",
    "\n",
    "# filter out players that did not play\n",
    "rolling_position_mean_df = rolling_position_mean_df[rolling_position_mean_df['minutes'] > 0]\n",
    "# get average points by poisition by event\n",
    "rolling_position_mean_df = \\\n",
    "rolling_position_mean_df.groupby(['element_type', 'event'])['total_points'].mean().reset_index()\n",
    "\n",
    "\n",
    "# average rolling cols over previous events \n",
    "rolling_position_mean_df = \\\n",
    "rolling_position_mean_df.groupby('element_type', as_index=True)[['event'] + rolling_cols]\\\n",
    ".rolling(38, min_periods=1).mean().reset_index('element_type')\n",
    "\n",
    "# # increment element fixture rank, as we don't know data ahead of time\n",
    "rolling_position_mean_df['event'] =\\\n",
    "rolling_position_mean_df.groupby('element_type')['event'].rank() + 1\n",
    "\n",
    "rolling_position_mean_df.head()"
   ]
  },
  {
   "cell_type": "code",
   "execution_count": 22,
   "metadata": {
    "ExecuteTime": {
     "end_time": "2019-06-29T15:14:37.144903Z",
     "start_time": "2019-06-29T15:14:37.119217Z"
    },
    "hidden": true
   },
   "outputs": [
    {
     "data": {
      "text/html": [
       "<div>\n",
       "<style scoped>\n",
       "    .dataframe tbody tr th:only-of-type {\n",
       "        vertical-align: middle;\n",
       "    }\n",
       "\n",
       "    .dataframe tbody tr th {\n",
       "        vertical-align: top;\n",
       "    }\n",
       "\n",
       "    .dataframe thead th {\n",
       "        text-align: right;\n",
       "    }\n",
       "</style>\n",
       "<table border=\"1\" class=\"dataframe\">\n",
       "  <thead>\n",
       "    <tr style=\"text-align: right;\">\n",
       "      <th></th>\n",
       "      <th>element</th>\n",
       "      <th>event</th>\n",
       "      <th>own_team</th>\n",
       "      <th>opposition_team</th>\n",
       "      <th>was_home</th>\n",
       "      <th>element_type</th>\n",
       "      <th>value</th>\n",
       "      <th>total_points</th>\n",
       "      <th>minutes</th>\n",
       "      <th>element_fixture_rank</th>\n",
       "      <th>total_points_player_mean</th>\n",
       "      <th>total_points_player_max</th>\n",
       "      <th>total_points_player_min</th>\n",
       "      <th>total_points_position_mean</th>\n",
       "    </tr>\n",
       "  </thead>\n",
       "  <tbody>\n",
       "    <tr>\n",
       "      <th>0</th>\n",
       "      <td>1</td>\n",
       "      <td>1</td>\n",
       "      <td>1</td>\n",
       "      <td>13</td>\n",
       "      <td>1</td>\n",
       "      <td>1</td>\n",
       "      <td>50</td>\n",
       "      <td>3</td>\n",
       "      <td>90</td>\n",
       "      <td>1.0</td>\n",
       "      <td>NaN</td>\n",
       "      <td>NaN</td>\n",
       "      <td>NaN</td>\n",
       "      <td>NaN</td>\n",
       "    </tr>\n",
       "    <tr>\n",
       "      <th>1</th>\n",
       "      <td>1</td>\n",
       "      <td>2</td>\n",
       "      <td>1</td>\n",
       "      <td>6</td>\n",
       "      <td>0</td>\n",
       "      <td>1</td>\n",
       "      <td>50</td>\n",
       "      <td>3</td>\n",
       "      <td>90</td>\n",
       "      <td>2.0</td>\n",
       "      <td>3.0</td>\n",
       "      <td>3.0</td>\n",
       "      <td>NaN</td>\n",
       "      <td>4.400000</td>\n",
       "    </tr>\n",
       "    <tr>\n",
       "      <th>2</th>\n",
       "      <td>1</td>\n",
       "      <td>3</td>\n",
       "      <td>1</td>\n",
       "      <td>19</td>\n",
       "      <td>1</td>\n",
       "      <td>1</td>\n",
       "      <td>50</td>\n",
       "      <td>3</td>\n",
       "      <td>90</td>\n",
       "      <td>3.0</td>\n",
       "      <td>3.0</td>\n",
       "      <td>3.0</td>\n",
       "      <td>NaN</td>\n",
       "      <td>4.000000</td>\n",
       "    </tr>\n",
       "    <tr>\n",
       "      <th>3</th>\n",
       "      <td>1</td>\n",
       "      <td>4</td>\n",
       "      <td>1</td>\n",
       "      <td>5</td>\n",
       "      <td>0</td>\n",
       "      <td>1</td>\n",
       "      <td>50</td>\n",
       "      <td>1</td>\n",
       "      <td>90</td>\n",
       "      <td>4.0</td>\n",
       "      <td>3.0</td>\n",
       "      <td>3.0</td>\n",
       "      <td>NaN</td>\n",
       "      <td>3.682540</td>\n",
       "    </tr>\n",
       "    <tr>\n",
       "      <th>4</th>\n",
       "      <td>1</td>\n",
       "      <td>5</td>\n",
       "      <td>1</td>\n",
       "      <td>15</td>\n",
       "      <td>0</td>\n",
       "      <td>1</td>\n",
       "      <td>50</td>\n",
       "      <td>2</td>\n",
       "      <td>90</td>\n",
       "      <td>5.0</td>\n",
       "      <td>2.5</td>\n",
       "      <td>3.0</td>\n",
       "      <td>NaN</td>\n",
       "      <td>3.761905</td>\n",
       "    </tr>\n",
       "  </tbody>\n",
       "</table>\n",
       "</div>"
      ],
      "text/plain": [
       "   element  event  own_team  opposition_team  was_home  element_type  value  \\\n",
       "0        1      1         1               13         1             1     50   \n",
       "1        1      2         1                6         0             1     50   \n",
       "2        1      3         1               19         1             1     50   \n",
       "3        1      4         1                5         0             1     50   \n",
       "4        1      5         1               15         0             1     50   \n",
       "\n",
       "   total_points  minutes  element_fixture_rank  total_points_player_mean  \\\n",
       "0             3       90                   1.0                       NaN   \n",
       "1             3       90                   2.0                       3.0   \n",
       "2             3       90                   3.0                       3.0   \n",
       "3             1       90                   4.0                       3.0   \n",
       "4             2       90                   5.0                       2.5   \n",
       "\n",
       "   total_points_player_max  total_points_player_min  \\\n",
       "0                      NaN                      NaN   \n",
       "1                      3.0                      NaN   \n",
       "2                      3.0                      NaN   \n",
       "3                      3.0                      NaN   \n",
       "4                      3.0                      NaN   \n",
       "\n",
       "   total_points_position_mean  \n",
       "0                         NaN  \n",
       "1                    4.400000  \n",
       "2                    4.000000  \n",
       "3                    3.682540  \n",
       "4                    3.761905  "
      ]
     },
     "execution_count": 22,
     "metadata": {},
     "output_type": "execute_result"
    }
   ],
   "source": [
    "element_gameweek_df =\\\n",
    "    element_gameweek_df.join(\n",
    "        rolling_position_mean_df.set_index(['element_type', 'event']),\n",
    "        on=['element_type', 'event'],\n",
    "        rsuffix='_position_mean',\n",
    "        how='left'\n",
    ")\n",
    "\n",
    "element_gameweek_df.head()"
   ]
  },
  {
   "cell_type": "code",
   "execution_count": 23,
   "metadata": {
    "ExecuteTime": {
     "end_time": "2019-06-29T15:14:37.149724Z",
     "start_time": "2019-06-29T15:14:37.146899Z"
    },
    "hidden": true
   },
   "outputs": [],
   "source": [
    "# what should we do about gameweek 1, where we don't have an average of points?"
   ]
  },
  {
   "cell_type": "markdown",
   "metadata": {},
   "source": [
    "# Modelling data"
   ]
  },
  {
   "cell_type": "markdown",
   "metadata": {},
   "source": [
    "## Splitting data"
   ]
  },
  {
   "cell_type": "code",
   "execution_count": 197,
   "metadata": {
    "ExecuteTime": {
     "end_time": "2019-07-08T16:09:44.207825Z",
     "start_time": "2019-07-08T16:09:44.195611Z"
    }
   },
   "outputs": [],
   "source": [
    "# train data on previous weeks and predict current week\n",
    "train_df = element_gameweek_df.copy()\n",
    "test_df = element_gameweek_df.copy()\n",
    "\n",
    "train_df = train_df[train_df['event'] < current_event]\n",
    "test_df = test_df[test_df['event'] == current_event]"
   ]
  },
  {
   "cell_type": "code",
   "execution_count": 198,
   "metadata": {
    "ExecuteTime": {
     "end_time": "2019-07-08T16:09:44.823619Z",
     "start_time": "2019-07-08T16:09:44.818543Z"
    }
   },
   "outputs": [],
   "source": [
    "formula = \\\n",
    "'total_points ~ C(element) + C(element_type) + C(own_team) + value + C(opposition_team) + was_home'"
   ]
  },
  {
   "cell_type": "code",
   "execution_count": 199,
   "metadata": {
    "ExecuteTime": {
     "end_time": "2019-07-08T16:09:46.021264Z",
     "start_time": "2019-07-08T16:09:45.319628Z"
    }
   },
   "outputs": [],
   "source": [
    "y, X = patsy.dmatrices(formula, element_gameweek_df, return_type='dataframe')\n",
    "y_train, X_train = patsy.dmatrices(formula, train_df, return_type='dataframe')\n",
    "y_test, X_test = patsy.dmatrices(formula, test_df, return_type='dataframe')"
   ]
  },
  {
   "cell_type": "code",
   "execution_count": 200,
   "metadata": {
    "ExecuteTime": {
     "end_time": "2019-07-08T16:09:46.029430Z",
     "start_time": "2019-07-08T16:09:46.024702Z"
    }
   },
   "outputs": [],
   "source": [
    "def add_missing_columns(df, columns):\n",
    "    for col in set(columns) - set(df.columns):\n",
    "        df[col] = np.zeros(len(df))\n",
    "    \n",
    "    return df[columns]"
   ]
  },
  {
   "cell_type": "code",
   "execution_count": 201,
   "metadata": {
    "ExecuteTime": {
     "end_time": "2019-07-08T16:09:46.696674Z",
     "start_time": "2019-07-08T16:09:46.618563Z"
    }
   },
   "outputs": [],
   "source": [
    "X_train = add_missing_columns(X_train, X.columns)\n",
    "X_test = add_missing_columns(X_test, X.columns)"
   ]
  },
  {
   "cell_type": "code",
   "execution_count": 202,
   "metadata": {
    "ExecuteTime": {
     "end_time": "2019-07-08T16:09:49.468337Z",
     "start_time": "2019-07-08T16:09:49.462831Z"
    }
   },
   "outputs": [],
   "source": [
    "# should we scale the variables? let's find out"
   ]
  },
  {
   "cell_type": "markdown",
   "metadata": {},
   "source": [
    "## Building model"
   ]
  },
  {
   "cell_type": "code",
   "execution_count": 203,
   "metadata": {
    "ExecuteTime": {
     "end_time": "2019-07-08T16:09:50.907242Z",
     "start_time": "2019-07-08T16:09:50.780346Z"
    }
   },
   "outputs": [],
   "source": [
    "# instantiate model\n",
    "model = Sequential()\n",
    "\n",
    "# add the input layer, i.e. first hidden layer\n",
    "model.add(Dense(units=25, activation='relu', input_shape=(len(X.columns),)))\n",
    "\n",
    "# add hidden layers\n",
    "model.add(Dense(units=25, activation='relu'))\n",
    "# model.add(Dense(units=25, activation='relu'))\n",
    "# model.add(Dense(units=25, activation='relu'))\n",
    "\n",
    "# add the output layer\n",
    "model.add(Dense(units=1, activation='linear'))"
   ]
  },
  {
   "cell_type": "code",
   "execution_count": 204,
   "metadata": {
    "ExecuteTime": {
     "end_time": "2019-07-08T16:09:52.329788Z",
     "start_time": "2019-07-08T16:09:52.173552Z"
    }
   },
   "outputs": [],
   "source": [
    "# set training configuration\n",
    "model.compile(\n",
    "    loss='mean_squared_error',\n",
    "    optimizer='adam'\n",
    ")"
   ]
  },
  {
   "cell_type": "code",
   "execution_count": 205,
   "metadata": {
    "ExecuteTime": {
     "end_time": "2019-07-08T16:10:17.953129Z",
     "start_time": "2019-07-08T16:09:53.381000Z"
    }
   },
   "outputs": [
    {
     "name": "stdout",
     "output_type": "stream",
     "text": [
      "Epoch 1/20\n",
      "5370/5370 [==============================] - 4s 765us/sample - loss: 6.4361\n",
      "Epoch 2/20\n",
      "5370/5370 [==============================] - 1s 201us/sample - loss: 5.9749\n",
      "Epoch 3/20\n",
      "5370/5370 [==============================] - 1s 196us/sample - loss: 5.3933\n",
      "Epoch 4/20\n",
      "5370/5370 [==============================] - 1s 191us/sample - loss: 4.9448\n",
      "Epoch 5/20\n",
      "5370/5370 [==============================] - 1s 198us/sample - loss: 4.6440\n",
      "Epoch 6/20\n",
      "5370/5370 [==============================] - 1s 195us/sample - loss: 4.5369\n",
      "Epoch 7/20\n",
      "5370/5370 [==============================] - 1s 201us/sample - loss: 4.4531\n",
      "Epoch 8/20\n",
      "5370/5370 [==============================] - 1s 201us/sample - loss: 4.3696\n",
      "Epoch 9/20\n",
      "5370/5370 [==============================] - 1s 194us/sample - loss: 4.3750\n",
      "Epoch 10/20\n",
      "5370/5370 [==============================] - 1s 200us/sample - loss: 4.3708\n",
      "Epoch 11/20\n",
      "5370/5370 [==============================] - 1s 197us/sample - loss: 4.2940\n",
      "Epoch 12/20\n",
      "5370/5370 [==============================] - 1s 196us/sample - loss: 4.2899\n",
      "Epoch 13/20\n",
      "5370/5370 [==============================] - 1s 196us/sample - loss: 4.2848\n",
      "Epoch 14/20\n",
      "5370/5370 [==============================] - 1s 195us/sample - loss: 4.2247\n",
      "Epoch 15/20\n",
      "5370/5370 [==============================] - 1s 194us/sample - loss: 4.2287\n",
      "Epoch 16/20\n",
      "5370/5370 [==============================] - 1s 197us/sample - loss: 4.1796\n",
      "Epoch 17/20\n",
      "5370/5370 [==============================] - 1s 193us/sample - loss: 4.2166\n",
      "Epoch 18/20\n",
      "5370/5370 [==============================] - 1s 191us/sample - loss: 4.1874\n",
      "Epoch 19/20\n",
      "5370/5370 [==============================] - 1s 192us/sample - loss: 4.2012\n",
      "Epoch 20/20\n",
      "5370/5370 [==============================] - 1s 194us/sample - loss: 4.1280\n"
     ]
    },
    {
     "data": {
      "text/plain": [
       "<tensorflow.python.keras.callbacks.History at 0x7fdee3cf0da0>"
      ]
     },
     "execution_count": 205,
     "metadata": {},
     "output_type": "execute_result"
    }
   ],
   "source": [
    "# train model on training set\n",
    "model.fit(\n",
    "    X_train, # explanatory variable training data\n",
    "    y_train, # response variable training data\n",
    "    epochs=20, # number of training iterations\n",
    "    batch_size=10, # The batch size that you specify in the code above defines the number of samples that going to be propagated through the network\n",
    "    verbose=1 # monitor training progress\n",
    ")"
   ]
  },
  {
   "cell_type": "markdown",
   "metadata": {},
   "source": [
    "## Evaluating model"
   ]
  },
  {
   "cell_type": "code",
   "execution_count": 206,
   "metadata": {
    "ExecuteTime": {
     "end_time": "2019-07-08T16:10:19.213253Z",
     "start_time": "2019-07-08T16:10:17.956327Z"
    }
   },
   "outputs": [
    {
     "data": {
      "text/plain": [
       "(1.392820210538127, 5.061308579334623)"
      ]
     },
     "execution_count": 206,
     "metadata": {},
     "output_type": "execute_result"
    }
   ],
   "source": [
    "# get predictions for test set\n",
    "y_pred = model.predict(X_test).flatten()\n",
    "\n",
    "# calculate cross entropy loss for test set\n",
    "test_loss = (mean_absolute_error(y_test, y_pred), mean_squared_error(y_test, y_pred))\n",
    "test_loss"
   ]
  },
  {
   "cell_type": "code",
   "execution_count": 207,
   "metadata": {
    "ExecuteTime": {
     "end_time": "2019-07-08T16:21:05.373397Z",
     "start_time": "2019-07-08T16:21:05.352796Z"
    }
   },
   "outputs": [
    {
     "data": {
      "text/plain": [
       "count    550.000000\n",
       "mean       1.688168\n",
       "std        1.755780\n",
       "min       -0.106717\n",
       "25%        0.244827\n",
       "50%        1.075141\n",
       "75%        2.593533\n",
       "max        8.939925\n",
       "dtype: float64"
      ]
     },
     "execution_count": 207,
     "metadata": {},
     "output_type": "execute_result"
    }
   ],
   "source": [
    "pd.Series(y_pred).describe()"
   ]
  },
  {
   "cell_type": "code",
   "execution_count": 142,
   "metadata": {
    "ExecuteTime": {
     "end_time": "2019-06-29T15:42:43.581347Z",
     "start_time": "2019-06-29T15:42:43.566653Z"
    }
   },
   "outputs": [
    {
     "data": {
      "text/plain": [
       "(1.4199238726769083, 4.937220011507264)"
      ]
     },
     "execution_count": 142,
     "metadata": {},
     "output_type": "execute_result"
    }
   ],
   "source": [
    "# current event = 11\n",
    "# single layer, epochs=20, batch_size=10, units=25, activation='relu'\n",
    "(1.4232961570169764, 5.213269991856961)\n",
    "(1.4267152123896152, 5.127159289088593)\n",
    "(1.2716270690303175, 4.645559092986532)\n",
    "(1.3744119672792359, 4.794474121162641)\n",
    "(1.4836523056724593, 5.1867786737338255)\n",
    "(1.4581301436362302, 5.238504891337133)\n",
    "\n",
    "# single layer, epochs=20, batch_size=10, units=50, activation='relu'\n",
    "(1.356415465934783, 4.967106174118941)\n",
    "(1.2414628361688933, 4.651043010541483)\n",
    "(1.295564303908991, 4.751978566815723)\n",
    "(1.2971654627538924, 4.6155169958606495)\n",
    "(1.3823382342334396, 4.92160634621547)\n",
    "\n",
    "# single layer, epochs=20, batch_size=10, units=75, activation='relu'\n",
    "(1.255836346383644, 4.549992267627301)\n",
    "(1.260702874808569, 4.564730831558708)\n",
    "(1.4674110345035043, 5.174372475200111)\n",
    "(1.3057418049923994, 4.551337821245331)\n",
    "(1.2302483491746434, 4.5812340773162195)\n",
    "\n",
    "# single layer, epochs=20, batch_size=10, units=100, activation='relu'\n",
    "(1.3028445945665454, 4.702209251759358)\n",
    "(1.4917569621783218, 5.470631916839363)\n",
    "(1.3311773778296554, 4.726627514798753)\n",
    "(1.297806473702566, 4.706734335626567)\n",
    "(1.2320183746943978, 4.592257904492718)\n",
    "\n",
    "# single layer, epochs=20, batch_size=10, units=125, activation='relu'\n",
    "(1.3136140566359285, 4.7713821610196145)\n",
    "(1.2762708149977215, 4.662478514197314)\n",
    "(1.4199238726769083, 4.937220011507264)\n",
    "(1.2830597889546211, 4.682419397917666)\n",
    "(1.2701970337619704, 4.740322420836487)\n",
    "\n",
    "# single layer, epochs=20, batch_size=10, units=150, activation='relu'\n",
    "(1.2780502292137312, 4.427330559316878)\n",
    "(1.312058645841335, 4.681500513090768)\n",
    "(1.2621182357645377, 4.744487518877087)\n",
    "\n",
    "# single layer, epochs=20, batch_size=10, units=200, activation='relu'\n",
    "(1.4079818554392824, 4.921251557293539)\n",
    "(1.4020005321016662, 5.052188755142338)\n",
    "(1.5076904161015399, 5.2527472285245596)\n",
    "\n",
    "\n",
    "\n",
    "# two layer, epochs=20, batch_size=10, units=(75,75), activation='relu'\n",
    "(1.4362596557024987, 5.1510562807565945)\n",
    "(1.3887610258968501, 5.2384691130959125)\n",
    "(1.3232729913513293, 5.0331249719374025)"
   ]
  },
  {
   "cell_type": "code",
   "execution_count": null,
   "metadata": {},
   "outputs": [],
   "source": []
  }
 ],
 "metadata": {
  "kernelspec": {
   "display_name": "Python 3",
   "language": "python",
   "name": "python3"
  },
  "language_info": {
   "codemirror_mode": {
    "name": "ipython",
    "version": 3
   },
   "file_extension": ".py",
   "mimetype": "text/x-python",
   "name": "python",
   "nbconvert_exporter": "python",
   "pygments_lexer": "ipython3",
   "version": "3.6.7"
  },
  "toc": {
   "nav_menu": {},
   "number_sections": true,
   "sideBar": true,
   "skip_h1_title": false,
   "title_cell": "Table of Contents",
   "title_sidebar": "Contents",
   "toc_cell": false,
   "toc_position": {},
   "toc_section_display": true,
   "toc_window_display": false
  }
 },
 "nbformat": 4,
 "nbformat_minor": 2
}
