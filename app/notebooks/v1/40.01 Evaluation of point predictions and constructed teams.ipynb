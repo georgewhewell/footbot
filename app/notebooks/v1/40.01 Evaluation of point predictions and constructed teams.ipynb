{
 "cells": [
  {
   "cell_type": "markdown",
   "metadata": {
    "heading_collapsed": true
   },
   "source": [
    "# Set up"
   ]
  },
  {
   "cell_type": "code",
   "execution_count": 1,
   "metadata": {
    "ExecuteTime": {
     "end_time": "2019-07-13T16:55:47.517682Z",
     "start_time": "2019-07-13T16:55:47.513408Z"
    },
    "hidden": true
   },
   "outputs": [],
   "source": [
    "# update path with data dir\n",
    "import sys\n",
    "sys.path.append('../../optimiser/')"
   ]
  },
  {
   "cell_type": "code",
   "execution_count": 116,
   "metadata": {
    "ExecuteTime": {
     "end_time": "2019-07-14T14:03:43.696075Z",
     "start_time": "2019-07-14T14:03:43.666331Z"
    },
    "hidden": true
   },
   "outputs": [],
   "source": [
    "import pandas as pd\n",
    "import patsy\n",
    "import numpy as np\n",
    "from sklearn.linear_model import LinearRegression, Ridge, Lasso\n",
    "from sklearn.svm import SVR\n",
    "from sklearn.tree import DecisionTreeRegressor\n",
    "from sklearn.ensemble import RandomForestRegressor, GradientBoostingRegressor\n",
    "from sklearn.preprocessing import StandardScaler\n",
    "from sklearn.model_selection import PredefinedSplit\n",
    "from sklearn.metrics import mean_absolute_error, mean_squared_error, r2_score\n",
    "import matplotlib.pyplot as plt\n",
    "import optimiser"
   ]
  },
  {
   "cell_type": "code",
   "execution_count": 3,
   "metadata": {
    "ExecuteTime": {
     "end_time": "2019-07-13T16:55:48.682104Z",
     "start_time": "2019-07-13T16:55:48.678511Z"
    },
    "hidden": true
   },
   "outputs": [],
   "source": [
    "import warnings\n",
    "# warnings.filterwarnings('ignore')"
   ]
  },
  {
   "cell_type": "markdown",
   "metadata": {
    "heading_collapsed": true
   },
   "source": [
    "# Getting data"
   ]
  },
  {
   "cell_type": "code",
   "execution_count": 4,
   "metadata": {
    "ExecuteTime": {
     "end_time": "2019-07-13T16:55:48.707090Z",
     "start_time": "2019-07-13T16:55:48.685210Z"
    },
    "hidden": true
   },
   "outputs": [],
   "source": [
    "file_name = '../csvs/element_gameweek_features_v04.csv'"
   ]
  },
  {
   "cell_type": "code",
   "execution_count": 5,
   "metadata": {
    "ExecuteTime": {
     "end_time": "2019-07-13T16:55:49.050849Z",
     "start_time": "2019-07-13T16:55:48.711938Z"
    },
    "hidden": true
   },
   "outputs": [],
   "source": [
    "element_gameweek_df = pd.read_csv(file_name)"
   ]
  },
  {
   "cell_type": "code",
   "execution_count": 6,
   "metadata": {
    "ExecuteTime": {
     "end_time": "2019-07-13T16:55:49.065502Z",
     "start_time": "2019-07-13T16:55:49.055498Z"
    },
    "hidden": true
   },
   "outputs": [],
   "source": [
    "element_gameweek_df.fillna(3, inplace=True)"
   ]
  },
  {
   "cell_type": "code",
   "execution_count": 7,
   "metadata": {
    "ExecuteTime": {
     "end_time": "2019-07-13T16:55:49.104065Z",
     "start_time": "2019-07-13T16:55:49.068247Z"
    },
    "hidden": true
   },
   "outputs": [],
   "source": [
    "element_gameweek_df = element_gameweek_df[element_gameweek_df['rolling_avg_minutes_element_p3'] >= 60]"
   ]
  },
  {
   "cell_type": "markdown",
   "metadata": {},
   "source": [
    "# Evaluating models"
   ]
  },
  {
   "cell_type": "markdown",
   "metadata": {
    "heading_collapsed": true
   },
   "source": [
    "## Helpers"
   ]
  },
  {
   "cell_type": "code",
   "execution_count": 8,
   "metadata": {
    "ExecuteTime": {
     "end_time": "2019-07-13T16:55:49.124440Z",
     "start_time": "2019-07-13T16:55:49.108254Z"
    },
    "hidden": true
   },
   "outputs": [],
   "source": [
    "formula = \\\n",
    "'total_points ~ C(element) + C(element_type) + C(team) + C(opposition_team) + ' + \\\n",
    "' + '.join([i for i in element_gameweek_df.columns if i not in\n",
    " [\n",
    "     'safe_web_name',\n",
    "     'element',\n",
    "     'event',\n",
    "     'fixture',\n",
    "     'team',\n",
    "     'opposition_team',\n",
    "     'element_type',\n",
    "     'rolling_avg_attempted_passes_element',\n",
    "     'rolling_var_total_points_against_opposition_team',\n",
    "     'rolling_var_total_points_own_team',\n",
    "     'rolling_var_total_points_opposition_team',\n",
    "     'rolling_var_total_points_element_type',\n",
    "     'rolling_var_total_points_against_opposition_team_element_type',\n",
    "     'expected_var_total_points_against_opposition_team',\n",
    "     'expected_var_total_points_at_ground',\n",
    "     'rolling_avg_total_points_home',\n",
    "     'rolling_var_total_points_home',\n",
    "     'rolling_avg_total_points_against_opposition_ground_element_type',\n",
    "     'rolling_var_total_points_against_opposition_ground_element_type',\n",
    "     'total_points'\n",
    " ]])"
   ]
  },
  {
   "cell_type": "code",
   "execution_count": 9,
   "metadata": {
    "ExecuteTime": {
     "end_time": "2019-07-13T16:55:49.150297Z",
     "start_time": "2019-07-13T16:55:49.127190Z"
    },
    "hidden": true
   },
   "outputs": [],
   "source": [
    "scaled_feature_cols = [\n",
    "    i for i in element_gameweek_df.columns if i not in [\n",
    "        'safe_web_name', 'element', 'event', 'fixture', 'team',\n",
    "        'opposition_team', 'element_type', 'was_home', 'is_sunday',\n",
    "        'is_weekday', 'is_late', 'is_early', 'total_points'\n",
    "    ]\n",
    "]\n",
    "\n",
    "#scaled_feature_cols"
   ]
  },
  {
   "cell_type": "code",
   "execution_count": 74,
   "metadata": {
    "ExecuteTime": {
     "end_time": "2019-07-14T09:55:59.071751Z",
     "start_time": "2019-07-14T09:55:59.031866Z"
    },
    "hidden": true
   },
   "outputs": [],
   "source": [
    "def predict_test_set(df, model, features=False, standardise=True, start=21, end=38, verbose=0):\n",
    "    y_pred_arr = []\n",
    "    y_test_arr = []\n",
    "    event_df_test_arr = []\n",
    "\n",
    "    # for each event we want to predict\n",
    "    for e in range(start, end + 1):\n",
    "        if verbose > 0:\n",
    "            print('predicting event', e)\n",
    "        # filter weeks after test week\n",
    "        event_df = df.copy()\n",
    "        event_df = event_df[event_df['event'] <= e]\n",
    "        \n",
    "        # define train-test split\n",
    "        test_fold = [-1 if i <= e - 1 else 0 for i in event_df['event']]\n",
    "        ps = PredefinedSplit(test_fold)\n",
    "\n",
    "        # split df into train and test\n",
    "        for train_index, test_index in ps.split():\n",
    "            event_df_train, event_df_test = \\\n",
    "            event_df.copy().iloc[train_index], event_df.copy().iloc[test_index]\n",
    "        \n",
    "        # standardise appropriate variables if necessary\n",
    "        scaled_event_df = event_df.copy()\n",
    "        if standardise:\n",
    "            scale_train = event_df_train.copy()\n",
    "            scale_test = event_df_test.copy()\n",
    "            scale_df = event_df.copy()\n",
    "            scaled_event_df_train = event_df_train.copy()\n",
    "            scaled_event_df_test = event_df_test.copy()\n",
    "\n",
    "            scaler = StandardScaler().fit(scale_train[scaled_feature_cols].values)\n",
    "\n",
    "            scale_train = scaler.transform(scale_train[scaled_feature_cols].values)\n",
    "            scale_test = scaler.transform(scale_test[scaled_feature_cols].values)\n",
    "            scale_df = scaler.transform(scale_df[scaled_feature_cols].values)\n",
    "\n",
    "            scaled_event_df_train[scaled_feature_cols] = scale_train\n",
    "            scaled_event_df_test[scaled_feature_cols] = scale_test\n",
    "            scaled_event_df[scaled_feature_cols] = scale_df         \n",
    "\n",
    "        # get reponse vector and feature matrix\n",
    "        event_y, event_X = patsy.dmatrices(formula, scaled_event_df, return_type='matrix')\n",
    "        \n",
    "        # split response vector and feature matrix into train and test\n",
    "        for train_index, test_index in ps.split():\n",
    "            event_X_train, event_X_test = event_X[train_index], event_X[test_index]\n",
    "            event_y_train, event_y_test = event_y[train_index], event_y[test_index]\n",
    "        \n",
    "        # get size of total feature set\n",
    "        n_all_features = event_X.shape[1]\n",
    "        \n",
    "        # if only certain features selected, get their indices\n",
    "        if features:\n",
    "            features_index = np.zeros(n_all_features, dtype=bool)\n",
    "\n",
    "            for i in range(0, n_all_features):\n",
    "                j = event_X.design_info.column_names[i]\n",
    "                if j in features:\n",
    "                    features_index[i] = True\n",
    "        # otherwise take all features\n",
    "        else:\n",
    "            features_index = np.ones(n_all_features, dtype=bool)\n",
    "        \n",
    "        # throw away features that are not selected\n",
    "        event_X_train_sel = event_X_train[:,features_index]\n",
    "        event_X_test_sel = event_X_test[:,features_index]\n",
    "\n",
    "        # fit model on training data\n",
    "        model.fit(event_X_train_sel, event_y_train.ravel())\n",
    "        # predict test event\n",
    "        event_y_pred = model.predict(event_X_test_sel).flatten()\n",
    "        \n",
    "        # collect predictions and observations \n",
    "        y_pred_arr.append(event_y_pred)\n",
    "        y_test_arr.append(event_y_test)\n",
    "        \n",
    "        event_df_test['predicted_total_points'] = event_y_pred\n",
    "        event_df_test_arr.append(event_df_test)\n",
    "        \n",
    "    \n",
    "    return np.concatenate(y_pred_arr).ravel(), np.concatenate(y_test_arr).ravel(), pd.concat(event_df_test_arr)"
   ]
  },
  {
   "cell_type": "code",
   "execution_count": 11,
   "metadata": {
    "ExecuteTime": {
     "end_time": "2019-07-13T16:55:49.218900Z",
     "start_time": "2019-07-13T16:55:49.189541Z"
    },
    "hidden": true
   },
   "outputs": [],
   "source": [
    "def construct_event_teams_from_scratch(df, optimise_key='predicted_total_points', start=21, end=38, verbose=0):\n",
    "    first_team_arr = []\n",
    "    bench_arr = []\n",
    "    team_total_points_arr = []\n",
    "    predicted_team_total_points_arr = []\n",
    "    team_df_arr = []\n",
    "\n",
    "    for e in range(start, end + 1):\n",
    "        if verbose > 0:\n",
    "            print('predicting event', e)\n",
    "        \n",
    "        event_players = df.copy()\n",
    "        event_players = event_players[event_players['event'] == e]\n",
    "\n",
    "        event_players_group = event_players.groupby('element')[optimise_key].sum()\n",
    "        event_players = event_players[['element', 'value', 'element_type', 'team']].drop_duplicates()\n",
    "\n",
    "        event_players = event_players.join(event_players_group, on='element')\n",
    "        \n",
    "        event_players = event_players.to_dict('records')\n",
    "\n",
    "        try:\n",
    "            event_first_team, event_bench = \\\n",
    "            optimiser.construct_optimal_team_from_scratch(event_players, optimise_key=optimise_key)\n",
    "\n",
    "            first_team_arr.append(event_first_team)\n",
    "            bench_arr.append(event_bench)\n",
    "        except Exception as ex:\n",
    "            print(e, ex)\n",
    "            first_team_arr.append([])\n",
    "            bench_arr.append([])\n",
    "    \n",
    "        event_team_total_points, event_team_predicted_total_points, event_team_df = \\\n",
    "        optimiser.calculate_team_total_points(df[df['event'] == e], event_first_team, event_bench)\n",
    "\n",
    "        team_total_points_arr.append(event_team_total_points)\n",
    "        predicted_team_total_points_arr.append(event_team_predicted_total_points)\n",
    "        team_df_arr.append(event_team_df)\n",
    "    \n",
    "    return first_team_arr, bench_arr, team_total_points_arr, predicted_team_total_points_arr, team_df_arr"
   ]
  },
  {
   "cell_type": "markdown",
   "metadata": {
    "heading_collapsed": true
   },
   "source": [
    "## Predicting points"
   ]
  },
  {
   "cell_type": "markdown",
   "metadata": {
    "heading_collapsed": true,
    "hidden": true
   },
   "source": [
    "### Linear regression"
   ]
  },
  {
   "cell_type": "code",
   "execution_count": 12,
   "metadata": {
    "ExecuteTime": {
     "end_time": "2019-07-13T16:55:49.243142Z",
     "start_time": "2019-07-13T16:55:49.221268Z"
    },
    "hidden": true
   },
   "outputs": [],
   "source": [
    "lr_model = LinearRegression()"
   ]
  },
  {
   "cell_type": "code",
   "execution_count": 13,
   "metadata": {
    "ExecuteTime": {
     "end_time": "2019-07-13T16:55:49.265061Z",
     "start_time": "2019-07-13T16:55:49.245402Z"
    },
    "hidden": true
   },
   "outputs": [],
   "source": [
    "lr_features = [\n",
    "    'C(element)[T.183]',\n",
    "    'C(element)[T.189]',\n",
    "    'C(element)[T.511]',\n",
    "    'C(element)[T.512]'\n",
    "]"
   ]
  },
  {
   "cell_type": "code",
   "execution_count": 14,
   "metadata": {
    "ExecuteTime": {
     "end_time": "2019-07-13T16:55:59.049616Z",
     "start_time": "2019-07-13T16:55:49.267385Z"
    },
    "hidden": true
   },
   "outputs": [],
   "source": [
    "lr_y_pred, lr_y_test, lr_df_test = predict_test_set(\n",
    "    element_gameweek_df,\n",
    "    lr_model,\n",
    "    features=lr_features,\n",
    "    standardise=True\n",
    ")"
   ]
  },
  {
   "cell_type": "code",
   "execution_count": 15,
   "metadata": {
    "ExecuteTime": {
     "end_time": "2019-07-13T16:55:59.060464Z",
     "start_time": "2019-07-13T16:55:59.052282Z"
    },
    "hidden": true
   },
   "outputs": [
    {
     "data": {
      "text/plain": [
       "(2.3891621767560127, 10.275134773295774, -0.00025733139878769684)"
      ]
     },
     "execution_count": 15,
     "metadata": {},
     "output_type": "execute_result"
    }
   ],
   "source": [
    "lr_test_loss = (\n",
    "    mean_absolute_error(lr_y_test, lr_y_pred),\n",
    "    mean_squared_error(lr_y_test, lr_y_pred),\n",
    "    r2_score(lr_y_test, lr_y_pred)\n",
    ")\n",
    "lr_test_loss"
   ]
  },
  {
   "cell_type": "code",
   "execution_count": 16,
   "metadata": {
    "ExecuteTime": {
     "end_time": "2019-07-13T16:55:59.166302Z",
     "start_time": "2019-07-13T16:55:59.062515Z"
    },
    "hidden": true
   },
   "outputs": [
    {
     "data": {
      "text/html": [
       "<div>\n",
       "<style scoped>\n",
       "    .dataframe tbody tr th:only-of-type {\n",
       "        vertical-align: middle;\n",
       "    }\n",
       "\n",
       "    .dataframe tbody tr th {\n",
       "        vertical-align: top;\n",
       "    }\n",
       "\n",
       "    .dataframe thead th {\n",
       "        text-align: right;\n",
       "    }\n",
       "</style>\n",
       "<table border=\"1\" class=\"dataframe\">\n",
       "  <thead>\n",
       "    <tr style=\"text-align: right;\">\n",
       "      <th></th>\n",
       "      <th>safe_web_name</th>\n",
       "      <th>element</th>\n",
       "      <th>event</th>\n",
       "      <th>fixture</th>\n",
       "      <th>team</th>\n",
       "      <th>opposition_team</th>\n",
       "      <th>was_home</th>\n",
       "      <th>element_type</th>\n",
       "      <th>value</th>\n",
       "      <th>is_sunday</th>\n",
       "      <th>...</th>\n",
       "      <th>rolling_var_total_points_home</th>\n",
       "      <th>rolling_avg_total_points_against_opposition_ground_element_type</th>\n",
       "      <th>rolling_var_total_points_against_opposition_ground_element_type</th>\n",
       "      <th>total_points</th>\n",
       "      <th>minutes</th>\n",
       "      <th>expected_avg_total_points_against_opposition_team</th>\n",
       "      <th>expected_var_total_points_against_opposition_team</th>\n",
       "      <th>expected_avg_total_points_at_ground</th>\n",
       "      <th>expected_var_total_points_at_ground</th>\n",
       "      <th>predicted_total_points</th>\n",
       "    </tr>\n",
       "  </thead>\n",
       "  <tbody>\n",
       "    <tr>\n",
       "      <th>58</th>\n",
       "      <td>leno</td>\n",
       "      <td>2</td>\n",
       "      <td>21</td>\n",
       "      <td>201</td>\n",
       "      <td>1</td>\n",
       "      <td>9</td>\n",
       "      <td>1</td>\n",
       "      <td>1</td>\n",
       "      <td>48</td>\n",
       "      <td>0</td>\n",
       "      <td>...</td>\n",
       "      <td>3.476190</td>\n",
       "      <td>3.000000</td>\n",
       "      <td>3.000000</td>\n",
       "      <td>3</td>\n",
       "      <td>90</td>\n",
       "      <td>2.478082</td>\n",
       "      <td>3.264527</td>\n",
       "      <td>3.142857</td>\n",
       "      <td>3.476190</td>\n",
       "      <td>2.87741</td>\n",
       "    </tr>\n",
       "    <tr>\n",
       "      <th>286</th>\n",
       "      <td>kolasinac</td>\n",
       "      <td>8</td>\n",
       "      <td>21</td>\n",
       "      <td>201</td>\n",
       "      <td>1</td>\n",
       "      <td>9</td>\n",
       "      <td>1</td>\n",
       "      <td>2</td>\n",
       "      <td>49</td>\n",
       "      <td>0</td>\n",
       "      <td>...</td>\n",
       "      <td>9.200000</td>\n",
       "      <td>3.000000</td>\n",
       "      <td>3.000000</td>\n",
       "      <td>7</td>\n",
       "      <td>90</td>\n",
       "      <td>2.415031</td>\n",
       "      <td>11.280897</td>\n",
       "      <td>3.800000</td>\n",
       "      <td>9.200000</td>\n",
       "      <td>2.87741</td>\n",
       "    </tr>\n",
       "    <tr>\n",
       "      <th>324</th>\n",
       "      <td>chambers</td>\n",
       "      <td>9</td>\n",
       "      <td>21</td>\n",
       "      <td>201</td>\n",
       "      <td>9</td>\n",
       "      <td>1</td>\n",
       "      <td>0</td>\n",
       "      <td>2</td>\n",
       "      <td>42</td>\n",
       "      <td>0</td>\n",
       "      <td>...</td>\n",
       "      <td>2.982143</td>\n",
       "      <td>1.666667</td>\n",
       "      <td>7.546099</td>\n",
       "      <td>0</td>\n",
       "      <td>0</td>\n",
       "      <td>0.691897</td>\n",
       "      <td>2.296830</td>\n",
       "      <td>0.675738</td>\n",
       "      <td>2.686572</td>\n",
       "      <td>2.87741</td>\n",
       "    </tr>\n",
       "    <tr>\n",
       "      <th>400</th>\n",
       "      <td>lichtsteiner</td>\n",
       "      <td>11</td>\n",
       "      <td>21</td>\n",
       "      <td>201</td>\n",
       "      <td>1</td>\n",
       "      <td>9</td>\n",
       "      <td>1</td>\n",
       "      <td>2</td>\n",
       "      <td>45</td>\n",
       "      <td>0</td>\n",
       "      <td>...</td>\n",
       "      <td>0.666667</td>\n",
       "      <td>3.000000</td>\n",
       "      <td>3.000000</td>\n",
       "      <td>0</td>\n",
       "      <td>0</td>\n",
       "      <td>0.603758</td>\n",
       "      <td>0.549070</td>\n",
       "      <td>1.000000</td>\n",
       "      <td>0.666667</td>\n",
       "      <td>2.87741</td>\n",
       "    </tr>\n",
       "    <tr>\n",
       "      <th>438</th>\n",
       "      <td>sokratis</td>\n",
       "      <td>12</td>\n",
       "      <td>21</td>\n",
       "      <td>201</td>\n",
       "      <td>1</td>\n",
       "      <td>9</td>\n",
       "      <td>1</td>\n",
       "      <td>2</td>\n",
       "      <td>51</td>\n",
       "      <td>0</td>\n",
       "      <td>...</td>\n",
       "      <td>5.100000</td>\n",
       "      <td>3.000000</td>\n",
       "      <td>3.000000</td>\n",
       "      <td>5</td>\n",
       "      <td>90</td>\n",
       "      <td>1.207515</td>\n",
       "      <td>2.445858</td>\n",
       "      <td>1.500000</td>\n",
       "      <td>5.100000</td>\n",
       "      <td>2.87741</td>\n",
       "    </tr>\n",
       "  </tbody>\n",
       "</table>\n",
       "<p>5 rows × 60 columns</p>\n",
       "</div>"
      ],
      "text/plain": [
       "    safe_web_name  element  event  fixture  team  opposition_team  was_home  \\\n",
       "58           leno        2     21      201     1                9         1   \n",
       "286     kolasinac        8     21      201     1                9         1   \n",
       "324      chambers        9     21      201     9                1         0   \n",
       "400  lichtsteiner       11     21      201     1                9         1   \n",
       "438      sokratis       12     21      201     1                9         1   \n",
       "\n",
       "     element_type  value  is_sunday           ...            \\\n",
       "58              1     48          0           ...             \n",
       "286             2     49          0           ...             \n",
       "324             2     42          0           ...             \n",
       "400             2     45          0           ...             \n",
       "438             2     51          0           ...             \n",
       "\n",
       "     rolling_var_total_points_home  \\\n",
       "58                        3.476190   \n",
       "286                       9.200000   \n",
       "324                       2.982143   \n",
       "400                       0.666667   \n",
       "438                       5.100000   \n",
       "\n",
       "     rolling_avg_total_points_against_opposition_ground_element_type  \\\n",
       "58                                            3.000000                 \n",
       "286                                           3.000000                 \n",
       "324                                           1.666667                 \n",
       "400                                           3.000000                 \n",
       "438                                           3.000000                 \n",
       "\n",
       "     rolling_var_total_points_against_opposition_ground_element_type  \\\n",
       "58                                            3.000000                 \n",
       "286                                           3.000000                 \n",
       "324                                           7.546099                 \n",
       "400                                           3.000000                 \n",
       "438                                           3.000000                 \n",
       "\n",
       "     total_points  minutes  expected_avg_total_points_against_opposition_team  \\\n",
       "58              3       90                                           2.478082   \n",
       "286             7       90                                           2.415031   \n",
       "324             0        0                                           0.691897   \n",
       "400             0        0                                           0.603758   \n",
       "438             5       90                                           1.207515   \n",
       "\n",
       "     expected_var_total_points_against_opposition_team  \\\n",
       "58                                            3.264527   \n",
       "286                                          11.280897   \n",
       "324                                           2.296830   \n",
       "400                                           0.549070   \n",
       "438                                           2.445858   \n",
       "\n",
       "     expected_avg_total_points_at_ground  expected_var_total_points_at_ground  \\\n",
       "58                              3.142857                             3.476190   \n",
       "286                             3.800000                             9.200000   \n",
       "324                             0.675738                             2.686572   \n",
       "400                             1.000000                             0.666667   \n",
       "438                             1.500000                             5.100000   \n",
       "\n",
       "     predicted_total_points  \n",
       "58                  2.87741  \n",
       "286                 2.87741  \n",
       "324                 2.87741  \n",
       "400                 2.87741  \n",
       "438                 2.87741  \n",
       "\n",
       "[5 rows x 60 columns]"
      ]
     },
     "execution_count": 16,
     "metadata": {},
     "output_type": "execute_result"
    }
   ],
   "source": [
    "lr_df_test.head()"
   ]
  },
  {
   "cell_type": "code",
   "execution_count": 17,
   "metadata": {
    "ExecuteTime": {
     "end_time": "2019-07-13T16:55:59.668095Z",
     "start_time": "2019-07-13T16:55:59.168350Z"
    },
    "hidden": true
   },
   "outputs": [
    {
     "data": {
      "image/png": "[encoded data removed]",
      "text/plain": [
       "<Figure size 720x576 with 1 Axes>"
      ]
     },
     "metadata": {
      "needs_background": "light"
     },
     "output_type": "display_data"
    }
   ],
   "source": [
    "plt.figure(figsize=(10, 8))\n",
    "plt.hist(pd.Series(lr_y_pred), bins=range(-5,20), alpha=0.75, density=True, label='predicted')\n",
    "plt.hist(pd.Series(lr_y_test), bins=range(-5,20), alpha=0.75, density=True, label='observed')\n",
    "plt.legend()\n",
    "plt.show()"
   ]
  },
  {
   "cell_type": "code",
   "execution_count": 18,
   "metadata": {
    "ExecuteTime": {
     "end_time": "2019-07-13T16:56:00.017532Z",
     "start_time": "2019-07-13T16:55:59.670384Z"
    },
    "hidden": true
   },
   "outputs": [
    {
     "data": {
      "image/png": "[encoded data removed]",
      "text/plain": [
       "<Figure size 720x576 with 1 Axes>"
      ]
     },
     "metadata": {
      "needs_background": "light"
     },
     "output_type": "display_data"
    }
   ],
   "source": [
    "plt.figure(figsize=(10, 8))\n",
    "plt.scatter(pd.Series(lr_y_test), pd.Series(lr_y_pred), alpha=0.1)\n",
    "plt.plot(np.linspace(-5, 25), np.linspace(-5, 25))\n",
    "plt.ylabel('Predicted total points')\n",
    "plt.xlabel('Observed total points')\n",
    "plt.ylim((-3, 12))\n",
    "plt.show()"
   ]
  },
  {
   "cell_type": "markdown",
   "metadata": {
    "heading_collapsed": true,
    "hidden": true
   },
   "source": [
    "### Ridge regression (lush)"
   ]
  },
  {
   "cell_type": "code",
   "execution_count": 19,
   "metadata": {
    "ExecuteTime": {
     "end_time": "2019-07-13T16:56:00.027492Z",
     "start_time": "2019-07-13T16:56:00.024736Z"
    },
    "hidden": true
   },
   "outputs": [],
   "source": [
    "lush_ridge_model = Ridge(alpha=270)"
   ]
  },
  {
   "cell_type": "code",
   "execution_count": 20,
   "metadata": {
    "ExecuteTime": {
     "end_time": "2019-07-13T16:56:00.057550Z",
     "start_time": "2019-07-13T16:56:00.031942Z"
    },
    "hidden": true
   },
   "outputs": [],
   "source": [
    "lush_ridge_features = [\n",
    "    'C(element)[T.4]', 'C(element)[T.6]', 'C(element)[T.12]',\n",
    "    'C(element)[T.14]', 'C(element)[T.18]', 'C(element)[T.22]',\n",
    "    'C(element)[T.23]', 'C(element)[T.24]', 'C(element)[T.27]',\n",
    "    'C(element)[T.28]', 'C(element)[T.33]', 'C(element)[T.37]',\n",
    "    'C(element)[T.39]', 'C(element)[T.40]', 'C(element)[T.43]',\n",
    "    'C(element)[T.48]', 'C(element)[T.49]', 'C(element)[T.50]',\n",
    "    'C(element)[T.54]', 'C(element)[T.56]', 'C(element)[T.58]',\n",
    "    'C(element)[T.60]', 'C(element)[T.61]', 'C(element)[T.62]',\n",
    "    'C(element)[T.69]', 'C(element)[T.71]', 'C(element)[T.73]',\n",
    "    'C(element)[T.75]', 'C(element)[T.76]', 'C(element)[T.77]',\n",
    "    'C(element)[T.79]', 'C(element)[T.80]', 'C(element)[T.82]',\n",
    "    'C(element)[T.84]', 'C(element)[T.85]', 'C(element)[T.88]',\n",
    "    'C(element)[T.90]', 'C(element)[T.91]', 'C(element)[T.94]',\n",
    "    'C(element)[T.95]', 'C(element)[T.98]', 'C(element)[T.99]',\n",
    "    'C(element)[T.101]', 'C(element)[T.102]', 'C(element)[T.106]',\n",
    "    'C(element)[T.110]', 'C(element)[T.115]', 'C(element)[T.116]',\n",
    "    'C(element)[T.122]', 'C(element)[T.124]', 'C(element)[T.125]',\n",
    "    'C(element)[T.126]', 'C(element)[T.127]', 'C(element)[T.134]',\n",
    "    'C(element)[T.137]', 'C(element)[T.140]', 'C(element)[T.142]',\n",
    "    'C(element)[T.145]', 'C(element)[T.147]', 'C(element)[T.149]',\n",
    "    'C(element)[T.150]', 'C(element)[T.151]', 'C(element)[T.152]',\n",
    "    'C(element)[T.156]', 'C(element)[T.157]', 'C(element)[T.160]',\n",
    "    'C(element)[T.168]', 'C(element)[T.169]', 'C(element)[T.172]',\n",
    "    'C(element)[T.175]', 'C(element)[T.177]', 'C(element)[T.178]',\n",
    "    'C(element)[T.181]', 'C(element)[T.183]', 'C(element)[T.190]',\n",
    "    'C(element)[T.192]', 'C(element)[T.195]', 'C(element)[T.197]',\n",
    "    'C(element)[T.198]', 'C(element)[T.202]', 'C(element)[T.206]',\n",
    "    'C(element)[T.210]', 'C(element)[T.211]', 'C(element)[T.215]',\n",
    "    'C(element)[T.219]', 'C(element)[T.220]', 'C(element)[T.221]',\n",
    "    'C(element)[T.225]', 'C(element)[T.226]', 'C(element)[T.227]',\n",
    "    'C(element)[T.234]', 'C(element)[T.236]', 'C(element)[T.239]',\n",
    "    'C(element)[T.243]', 'C(element)[T.245]', 'C(element)[T.246]',\n",
    "    'C(element)[T.247]', 'C(element)[T.249]', 'C(element)[T.251]',\n",
    "    'C(element)[T.252]', 'C(element)[T.253]', 'C(element)[T.254]',\n",
    "    'C(element)[T.256]', 'C(element)[T.257]', 'C(element)[T.258]',\n",
    "    'C(element)[T.260]', 'C(element)[T.262]', 'C(element)[T.263]',\n",
    "    'C(element)[T.265]', 'C(element)[T.267]', 'C(element)[T.268]',\n",
    "    'C(element)[T.269]', 'C(element)[T.270]', 'C(element)[T.271]',\n",
    "    'C(element)[T.276]', 'C(element)[T.280]', 'C(element)[T.282]',\n",
    "    'C(element)[T.288]', 'C(element)[T.289]', 'C(element)[T.291]',\n",
    "    'C(element)[T.295]', 'C(element)[T.297]', 'C(element)[T.299]',\n",
    "    'C(element)[T.300]', 'C(element)[T.301]', 'C(element)[T.304]',\n",
    "    'C(element)[T.305]', 'C(element)[T.306]', 'C(element)[T.309]',\n",
    "    'C(element)[T.310]', 'C(element)[T.312]', 'C(element)[T.315]',\n",
    "    'C(element)[T.317]', 'C(element)[T.318]', 'C(element)[T.319]',\n",
    "    'C(element)[T.324]', 'C(element)[T.326]', 'C(element)[T.327]',\n",
    "    'C(element)[T.330]', 'C(element)[T.332]', 'C(element)[T.333]',\n",
    "    'C(element)[T.343]', 'C(element)[T.346]', 'C(element)[T.351]',\n",
    "    'C(element)[T.352]', 'C(element)[T.353]', 'C(element)[T.355]',\n",
    "    'C(element)[T.356]', 'C(element)[T.357]', 'C(element)[T.359]',\n",
    "    'C(element)[T.363]', 'C(element)[T.364]', 'C(element)[T.365]',\n",
    "    'C(element)[T.367]', 'C(element)[T.368]', 'C(element)[T.370]',\n",
    "    'C(element)[T.380]', 'C(element)[T.382]', 'C(element)[T.383]',\n",
    "    'C(element)[T.386]', 'C(element)[T.389]', 'C(element)[T.390]',\n",
    "    'C(element)[T.391]', 'C(element)[T.392]', 'C(element)[T.393]',\n",
    "    'C(element)[T.395]', 'C(element)[T.396]', 'C(element)[T.400]',\n",
    "    'C(element)[T.402]', 'C(element)[T.403]', 'C(element)[T.408]',\n",
    "    'C(element)[T.411]', 'C(element)[T.415]', 'C(element)[T.417]',\n",
    "    'C(element)[T.423]', 'C(element)[T.425]', 'C(element)[T.426]',\n",
    "    'C(element)[T.432]', 'C(element)[T.433]', 'C(element)[T.435]',\n",
    "    'C(element)[T.437]', 'C(element)[T.447]', 'C(element)[T.450]',\n",
    "    'C(element)[T.451]', 'C(element)[T.455]', 'C(element)[T.459]',\n",
    "    'C(element)[T.461]', 'C(element)[T.462]', 'C(element)[T.463]',\n",
    "    'C(element)[T.464]', 'C(element)[T.465]', 'C(element)[T.467]',\n",
    "    'C(element)[T.468]', 'C(element)[T.473]', 'C(element)[T.474]',\n",
    "    'C(element)[T.475]', 'C(element)[T.476]', 'C(element)[T.480]',\n",
    "    'C(element)[T.483]', 'C(element)[T.484]', 'C(element)[T.487]',\n",
    "    'C(element)[T.488]', 'C(element)[T.489]', 'C(element)[T.493]',\n",
    "    'C(element)[T.503]', 'C(element)[T.504]', 'C(element)[T.505]',\n",
    "    'C(element)[T.509]', 'C(element)[T.511]', 'C(element)[T.516]',\n",
    "    'C(element)[T.536]', 'C(element)[T.539]', 'C(element)[T.549]',\n",
    "    'C(element_type)[T.2]', 'C(element_type)[T.3]', 'C(element_type)[T.4]',\n",
    "    'C(team)[T.3]', 'C(team)[T.4]', 'C(team)[T.6]', 'C(team)[T.7]',\n",
    "    'C(team)[T.8]', 'C(team)[T.9]', 'C(team)[T.10]', 'C(team)[T.12]',\n",
    "    'C(team)[T.14]', 'C(team)[T.15]', 'C(team)[T.16]', 'C(team)[T.17]',\n",
    "    'C(team)[T.19]', 'C(team)[T.20]', 'C(opposition_team)[T.2]',\n",
    "    'C(opposition_team)[T.3]', 'C(opposition_team)[T.4]',\n",
    "    'C(opposition_team)[T.5]', 'C(opposition_team)[T.6]',\n",
    "    'C(opposition_team)[T.7]', 'C(opposition_team)[T.9]',\n",
    "    'C(opposition_team)[T.10]', 'C(opposition_team)[T.11]',\n",
    "    'C(opposition_team)[T.12]', 'C(opposition_team)[T.13]',\n",
    "    'C(opposition_team)[T.15]', 'C(opposition_team)[T.16]',\n",
    "    'C(opposition_team)[T.17]', 'C(opposition_team)[T.18]',\n",
    "    'C(opposition_team)[T.19]', 'was_home', 'value', 'is_sunday', 'is_weekday',\n",
    "    'is_late', 'is_early', 'rolling_var_total_points_element',\n",
    "    'rolling_max_total_points_element', 'rolling_avg_minutes_element_p3',\n",
    "    'rolling_avg_goals_scored_element', 'rolling_avg_minutes_element',\n",
    "    'rolling_avg_winning_goals_element',\n",
    "    'rolling_avg_clearances_blocks_interceptions_element',\n",
    "    'rolling_avg_big_chances_created_element', 'rolling_avg_offside_element',\n",
    "    'rolling_avg_big_chances_missed_element',\n",
    "    'rolling_avg_goals_conceded_element', 'rolling_avg_total_points_own_team',\n",
    "    'rolling_avg_total_points_opposition_team',\n",
    "    'rolling_avg_total_points_against_opposition_team'\n",
    "]"
   ]
  },
  {
   "cell_type": "code",
   "execution_count": 21,
   "metadata": {
    "ExecuteTime": {
     "end_time": "2019-07-13T16:56:11.097360Z",
     "start_time": "2019-07-13T16:56:00.059678Z"
    },
    "hidden": true
   },
   "outputs": [],
   "source": [
    "lush_ridge_y_pred, lush_ridge_y_test, lush_ridge_df_test = predict_test_set(\n",
    "    element_gameweek_df,\n",
    "    lush_ridge_model,\n",
    "    features=lush_ridge_features,\n",
    "    standardise=True\n",
    ")"
   ]
  },
  {
   "cell_type": "code",
   "execution_count": 22,
   "metadata": {
    "ExecuteTime": {
     "end_time": "2019-07-13T16:56:11.106825Z",
     "start_time": "2019-07-13T16:56:11.099901Z"
    },
    "hidden": true
   },
   "outputs": [
    {
     "data": {
      "text/plain": [
       "(2.259268449409939, 9.308153996546018, 0.09387570263005907)"
      ]
     },
     "execution_count": 22,
     "metadata": {},
     "output_type": "execute_result"
    }
   ],
   "source": [
    "lush_ridge_test_loss = (\n",
    "    mean_absolute_error(lush_ridge_y_test, lush_ridge_y_pred),\n",
    "    mean_squared_error(lush_ridge_y_test, lush_ridge_y_pred),\n",
    "    r2_score(lush_ridge_y_test, lush_ridge_y_pred)\n",
    ")\n",
    "lush_ridge_test_loss"
   ]
  },
  {
   "cell_type": "code",
   "execution_count": 23,
   "metadata": {
    "ExecuteTime": {
     "end_time": "2019-07-13T16:56:11.205040Z",
     "start_time": "2019-07-13T16:56:11.108821Z"
    },
    "hidden": true
   },
   "outputs": [
    {
     "data": {
      "text/html": [
       "<div>\n",
       "<style scoped>\n",
       "    .dataframe tbody tr th:only-of-type {\n",
       "        vertical-align: middle;\n",
       "    }\n",
       "\n",
       "    .dataframe tbody tr th {\n",
       "        vertical-align: top;\n",
       "    }\n",
       "\n",
       "    .dataframe thead th {\n",
       "        text-align: right;\n",
       "    }\n",
       "</style>\n",
       "<table border=\"1\" class=\"dataframe\">\n",
       "  <thead>\n",
       "    <tr style=\"text-align: right;\">\n",
       "      <th></th>\n",
       "      <th>safe_web_name</th>\n",
       "      <th>element</th>\n",
       "      <th>event</th>\n",
       "      <th>fixture</th>\n",
       "      <th>team</th>\n",
       "      <th>opposition_team</th>\n",
       "      <th>was_home</th>\n",
       "      <th>element_type</th>\n",
       "      <th>value</th>\n",
       "      <th>is_sunday</th>\n",
       "      <th>...</th>\n",
       "      <th>rolling_var_total_points_home</th>\n",
       "      <th>rolling_avg_total_points_against_opposition_ground_element_type</th>\n",
       "      <th>rolling_var_total_points_against_opposition_ground_element_type</th>\n",
       "      <th>total_points</th>\n",
       "      <th>minutes</th>\n",
       "      <th>expected_avg_total_points_against_opposition_team</th>\n",
       "      <th>expected_var_total_points_against_opposition_team</th>\n",
       "      <th>expected_avg_total_points_at_ground</th>\n",
       "      <th>expected_var_total_points_at_ground</th>\n",
       "      <th>predicted_total_points</th>\n",
       "    </tr>\n",
       "  </thead>\n",
       "  <tbody>\n",
       "    <tr>\n",
       "      <th>58</th>\n",
       "      <td>leno</td>\n",
       "      <td>2</td>\n",
       "      <td>21</td>\n",
       "      <td>201</td>\n",
       "      <td>1</td>\n",
       "      <td>9</td>\n",
       "      <td>1</td>\n",
       "      <td>1</td>\n",
       "      <td>48</td>\n",
       "      <td>0</td>\n",
       "      <td>...</td>\n",
       "      <td>3.476190</td>\n",
       "      <td>3.000000</td>\n",
       "      <td>3.000000</td>\n",
       "      <td>3</td>\n",
       "      <td>90</td>\n",
       "      <td>2.478082</td>\n",
       "      <td>3.264527</td>\n",
       "      <td>3.142857</td>\n",
       "      <td>3.476190</td>\n",
       "      <td>3.430266</td>\n",
       "    </tr>\n",
       "    <tr>\n",
       "      <th>286</th>\n",
       "      <td>kolasinac</td>\n",
       "      <td>8</td>\n",
       "      <td>21</td>\n",
       "      <td>201</td>\n",
       "      <td>1</td>\n",
       "      <td>9</td>\n",
       "      <td>1</td>\n",
       "      <td>2</td>\n",
       "      <td>49</td>\n",
       "      <td>0</td>\n",
       "      <td>...</td>\n",
       "      <td>9.200000</td>\n",
       "      <td>3.000000</td>\n",
       "      <td>3.000000</td>\n",
       "      <td>7</td>\n",
       "      <td>90</td>\n",
       "      <td>2.415031</td>\n",
       "      <td>11.280897</td>\n",
       "      <td>3.800000</td>\n",
       "      <td>9.200000</td>\n",
       "      <td>3.310292</td>\n",
       "    </tr>\n",
       "    <tr>\n",
       "      <th>324</th>\n",
       "      <td>chambers</td>\n",
       "      <td>9</td>\n",
       "      <td>21</td>\n",
       "      <td>201</td>\n",
       "      <td>9</td>\n",
       "      <td>1</td>\n",
       "      <td>0</td>\n",
       "      <td>2</td>\n",
       "      <td>42</td>\n",
       "      <td>0</td>\n",
       "      <td>...</td>\n",
       "      <td>2.982143</td>\n",
       "      <td>1.666667</td>\n",
       "      <td>7.546099</td>\n",
       "      <td>0</td>\n",
       "      <td>0</td>\n",
       "      <td>0.691897</td>\n",
       "      <td>2.296830</td>\n",
       "      <td>0.675738</td>\n",
       "      <td>2.686572</td>\n",
       "      <td>1.900797</td>\n",
       "    </tr>\n",
       "    <tr>\n",
       "      <th>400</th>\n",
       "      <td>lichtsteiner</td>\n",
       "      <td>11</td>\n",
       "      <td>21</td>\n",
       "      <td>201</td>\n",
       "      <td>1</td>\n",
       "      <td>9</td>\n",
       "      <td>1</td>\n",
       "      <td>2</td>\n",
       "      <td>45</td>\n",
       "      <td>0</td>\n",
       "      <td>...</td>\n",
       "      <td>0.666667</td>\n",
       "      <td>3.000000</td>\n",
       "      <td>3.000000</td>\n",
       "      <td>0</td>\n",
       "      <td>0</td>\n",
       "      <td>0.603758</td>\n",
       "      <td>0.549070</td>\n",
       "      <td>1.000000</td>\n",
       "      <td>0.666667</td>\n",
       "      <td>2.387581</td>\n",
       "    </tr>\n",
       "    <tr>\n",
       "      <th>438</th>\n",
       "      <td>sokratis</td>\n",
       "      <td>12</td>\n",
       "      <td>21</td>\n",
       "      <td>201</td>\n",
       "      <td>1</td>\n",
       "      <td>9</td>\n",
       "      <td>1</td>\n",
       "      <td>2</td>\n",
       "      <td>51</td>\n",
       "      <td>0</td>\n",
       "      <td>...</td>\n",
       "      <td>5.100000</td>\n",
       "      <td>3.000000</td>\n",
       "      <td>3.000000</td>\n",
       "      <td>5</td>\n",
       "      <td>90</td>\n",
       "      <td>1.207515</td>\n",
       "      <td>2.445858</td>\n",
       "      <td>1.500000</td>\n",
       "      <td>5.100000</td>\n",
       "      <td>3.084973</td>\n",
       "    </tr>\n",
       "  </tbody>\n",
       "</table>\n",
       "<p>5 rows × 60 columns</p>\n",
       "</div>"
      ],
      "text/plain": [
       "    safe_web_name  element  event  fixture  team  opposition_team  was_home  \\\n",
       "58           leno        2     21      201     1                9         1   \n",
       "286     kolasinac        8     21      201     1                9         1   \n",
       "324      chambers        9     21      201     9                1         0   \n",
       "400  lichtsteiner       11     21      201     1                9         1   \n",
       "438      sokratis       12     21      201     1                9         1   \n",
       "\n",
       "     element_type  value  is_sunday           ...            \\\n",
       "58              1     48          0           ...             \n",
       "286             2     49          0           ...             \n",
       "324             2     42          0           ...             \n",
       "400             2     45          0           ...             \n",
       "438             2     51          0           ...             \n",
       "\n",
       "     rolling_var_total_points_home  \\\n",
       "58                        3.476190   \n",
       "286                       9.200000   \n",
       "324                       2.982143   \n",
       "400                       0.666667   \n",
       "438                       5.100000   \n",
       "\n",
       "     rolling_avg_total_points_against_opposition_ground_element_type  \\\n",
       "58                                            3.000000                 \n",
       "286                                           3.000000                 \n",
       "324                                           1.666667                 \n",
       "400                                           3.000000                 \n",
       "438                                           3.000000                 \n",
       "\n",
       "     rolling_var_total_points_against_opposition_ground_element_type  \\\n",
       "58                                            3.000000                 \n",
       "286                                           3.000000                 \n",
       "324                                           7.546099                 \n",
       "400                                           3.000000                 \n",
       "438                                           3.000000                 \n",
       "\n",
       "     total_points  minutes  expected_avg_total_points_against_opposition_team  \\\n",
       "58              3       90                                           2.478082   \n",
       "286             7       90                                           2.415031   \n",
       "324             0        0                                           0.691897   \n",
       "400             0        0                                           0.603758   \n",
       "438             5       90                                           1.207515   \n",
       "\n",
       "     expected_var_total_points_against_opposition_team  \\\n",
       "58                                            3.264527   \n",
       "286                                          11.280897   \n",
       "324                                           2.296830   \n",
       "400                                           0.549070   \n",
       "438                                           2.445858   \n",
       "\n",
       "     expected_avg_total_points_at_ground  expected_var_total_points_at_ground  \\\n",
       "58                              3.142857                             3.476190   \n",
       "286                             3.800000                             9.200000   \n",
       "324                             0.675738                             2.686572   \n",
       "400                             1.000000                             0.666667   \n",
       "438                             1.500000                             5.100000   \n",
       "\n",
       "     predicted_total_points  \n",
       "58                 3.430266  \n",
       "286                3.310292  \n",
       "324                1.900797  \n",
       "400                2.387581  \n",
       "438                3.084973  \n",
       "\n",
       "[5 rows x 60 columns]"
      ]
     },
     "execution_count": 23,
     "metadata": {},
     "output_type": "execute_result"
    }
   ],
   "source": [
    "lush_ridge_df_test.head()"
   ]
  },
  {
   "cell_type": "code",
   "execution_count": 24,
   "metadata": {
    "ExecuteTime": {
     "end_time": "2019-07-13T16:56:11.780724Z",
     "start_time": "2019-07-13T16:56:11.207096Z"
    },
    "hidden": true
   },
   "outputs": [
    {
     "data": {
      "image/png": "[encoded data removed]",
      "text/plain": [
       "<Figure size 720x576 with 1 Axes>"
      ]
     },
     "metadata": {
      "needs_background": "light"
     },
     "output_type": "display_data"
    }
   ],
   "source": [
    "plt.figure(figsize=(10, 8))\n",
    "plt.hist(pd.Series(lush_ridge_y_pred), bins=range(-5,20), alpha=0.75, density=True, label='predicted')\n",
    "plt.hist(pd.Series(lush_ridge_y_test), bins=range(-5,20), alpha=0.75, density=True, label='observed')\n",
    "plt.legend()\n",
    "plt.show()"
   ]
  },
  {
   "cell_type": "code",
   "execution_count": 25,
   "metadata": {
    "ExecuteTime": {
     "end_time": "2019-07-13T16:56:12.143356Z",
     "start_time": "2019-07-13T16:56:11.783100Z"
    },
    "hidden": true
   },
   "outputs": [
    {
     "data": {
      "image/png": "[encoded data removed]",
      "text/plain": [
       "<Figure size 720x576 with 1 Axes>"
      ]
     },
     "metadata": {
      "needs_background": "light"
     },
     "output_type": "display_data"
    }
   ],
   "source": [
    "plt.figure(figsize=(10, 8))\n",
    "plt.scatter(pd.Series(lush_ridge_y_test), pd.Series(lush_ridge_y_pred), alpha=0.1)\n",
    "plt.plot(np.linspace(-5, 25), np.linspace(-5, 25))\n",
    "plt.ylabel('Predicted total points')\n",
    "plt.xlabel('Observed total points')\n",
    "plt.ylim((-3, 12))\n",
    "plt.show()"
   ]
  },
  {
   "cell_type": "markdown",
   "metadata": {
    "heading_collapsed": true,
    "hidden": true
   },
   "source": [
    "### Ridge regression (stark)"
   ]
  },
  {
   "cell_type": "code",
   "execution_count": 26,
   "metadata": {
    "ExecuteTime": {
     "end_time": "2019-07-13T16:56:12.148393Z",
     "start_time": "2019-07-13T16:56:12.145528Z"
    },
    "hidden": true
   },
   "outputs": [],
   "source": [
    "stark_ridge_model = Ridge(alpha=1e-8)"
   ]
  },
  {
   "cell_type": "code",
   "execution_count": 27,
   "metadata": {
    "ExecuteTime": {
     "end_time": "2019-07-13T16:56:12.218597Z",
     "start_time": "2019-07-13T16:56:12.150396Z"
    },
    "hidden": true
   },
   "outputs": [],
   "source": [
    "stark_ridge_features = [\n",
    "    'C(element)[T.40]', 'C(element)[T.43]', 'C(element)[T.49]',\n",
    "    'C(element)[T.69]', 'C(element)[T.91]', 'C(element)[T.115]',\n",
    "    'C(element)[T.116]', 'C(element)[T.122]', 'C(element)[T.134]',\n",
    "    'C(element)[T.172]', 'C(element)[T.221]', 'C(element)[T.234]',\n",
    "    'C(element)[T.245]', 'C(element)[T.246]', 'C(element)[T.247]',\n",
    "    'C(element)[T.262]', 'C(element)[T.295]', 'C(element)[T.301]',\n",
    "    'C(element)[T.306]', 'C(element)[T.333]', 'C(element)[T.356]',\n",
    "    'C(element)[T.364]', 'C(element)[T.365]', 'C(element)[T.391]',\n",
    "    'C(element)[T.411]', 'C(element)[T.423]', 'C(element)[T.425]',\n",
    "    'C(element)[T.437]', 'C(element)[T.462]', 'C(element)[T.465]',\n",
    "    'C(element)[T.484]', 'C(element_type)[T.2]', 'C(element_type)[T.3]',\n",
    "    'C(element_type)[T.4]', 'C(opposition_team)[T.9]',\n",
    "    'C(opposition_team)[T.12]', 'C(opposition_team)[T.13]', 'value'\n",
    "]"
   ]
  },
  {
   "cell_type": "code",
   "execution_count": 28,
   "metadata": {
    "ExecuteTime": {
     "end_time": "2019-07-13T16:56:21.298453Z",
     "start_time": "2019-07-13T16:56:12.220783Z"
    },
    "hidden": true
   },
   "outputs": [],
   "source": [
    "stark_ridge_y_pred, stark_ridge_y_test, stark_ridge_df_test = predict_test_set(\n",
    "    element_gameweek_df,\n",
    "    stark_ridge_model,\n",
    "    features=stark_ridge_features,\n",
    "    standardise=True\n",
    ")"
   ]
  },
  {
   "cell_type": "code",
   "execution_count": 29,
   "metadata": {
    "ExecuteTime": {
     "end_time": "2019-07-13T16:56:21.309517Z",
     "start_time": "2019-07-13T16:56:21.301550Z"
    },
    "hidden": true
   },
   "outputs": [
    {
     "data": {
      "text/plain": [
       "(2.2825443585935585, 9.594886878178908, 0.06596301113410075)"
      ]
     },
     "execution_count": 29,
     "metadata": {},
     "output_type": "execute_result"
    }
   ],
   "source": [
    "stark_ridge_test_loss = (\n",
    "    mean_absolute_error(stark_ridge_y_test, stark_ridge_y_pred),\n",
    "    mean_squared_error(stark_ridge_y_test, stark_ridge_y_pred),\n",
    "    r2_score(stark_ridge_y_test, stark_ridge_y_pred)\n",
    ")\n",
    "stark_ridge_test_loss"
   ]
  },
  {
   "cell_type": "code",
   "execution_count": 30,
   "metadata": {
    "ExecuteTime": {
     "end_time": "2019-07-13T16:56:21.392191Z",
     "start_time": "2019-07-13T16:56:21.311779Z"
    },
    "hidden": true
   },
   "outputs": [
    {
     "data": {
      "text/html": [
       "<div>\n",
       "<style scoped>\n",
       "    .dataframe tbody tr th:only-of-type {\n",
       "        vertical-align: middle;\n",
       "    }\n",
       "\n",
       "    .dataframe tbody tr th {\n",
       "        vertical-align: top;\n",
       "    }\n",
       "\n",
       "    .dataframe thead th {\n",
       "        text-align: right;\n",
       "    }\n",
       "</style>\n",
       "<table border=\"1\" class=\"dataframe\">\n",
       "  <thead>\n",
       "    <tr style=\"text-align: right;\">\n",
       "      <th></th>\n",
       "      <th>safe_web_name</th>\n",
       "      <th>element</th>\n",
       "      <th>event</th>\n",
       "      <th>fixture</th>\n",
       "      <th>team</th>\n",
       "      <th>opposition_team</th>\n",
       "      <th>was_home</th>\n",
       "      <th>element_type</th>\n",
       "      <th>value</th>\n",
       "      <th>is_sunday</th>\n",
       "      <th>...</th>\n",
       "      <th>rolling_var_total_points_home</th>\n",
       "      <th>rolling_avg_total_points_against_opposition_ground_element_type</th>\n",
       "      <th>rolling_var_total_points_against_opposition_ground_element_type</th>\n",
       "      <th>total_points</th>\n",
       "      <th>minutes</th>\n",
       "      <th>expected_avg_total_points_against_opposition_team</th>\n",
       "      <th>expected_var_total_points_against_opposition_team</th>\n",
       "      <th>expected_avg_total_points_at_ground</th>\n",
       "      <th>expected_var_total_points_at_ground</th>\n",
       "      <th>predicted_total_points</th>\n",
       "    </tr>\n",
       "  </thead>\n",
       "  <tbody>\n",
       "    <tr>\n",
       "      <th>58</th>\n",
       "      <td>leno</td>\n",
       "      <td>2</td>\n",
       "      <td>21</td>\n",
       "      <td>201</td>\n",
       "      <td>1</td>\n",
       "      <td>9</td>\n",
       "      <td>1</td>\n",
       "      <td>1</td>\n",
       "      <td>48</td>\n",
       "      <td>0</td>\n",
       "      <td>...</td>\n",
       "      <td>3.476190</td>\n",
       "      <td>3.000000</td>\n",
       "      <td>3.000000</td>\n",
       "      <td>3</td>\n",
       "      <td>90</td>\n",
       "      <td>2.478082</td>\n",
       "      <td>3.264527</td>\n",
       "      <td>3.142857</td>\n",
       "      <td>3.476190</td>\n",
       "      <td>4.411503</td>\n",
       "    </tr>\n",
       "    <tr>\n",
       "      <th>286</th>\n",
       "      <td>kolasinac</td>\n",
       "      <td>8</td>\n",
       "      <td>21</td>\n",
       "      <td>201</td>\n",
       "      <td>1</td>\n",
       "      <td>9</td>\n",
       "      <td>1</td>\n",
       "      <td>2</td>\n",
       "      <td>49</td>\n",
       "      <td>0</td>\n",
       "      <td>...</td>\n",
       "      <td>9.200000</td>\n",
       "      <td>3.000000</td>\n",
       "      <td>3.000000</td>\n",
       "      <td>7</td>\n",
       "      <td>90</td>\n",
       "      <td>2.415031</td>\n",
       "      <td>11.280897</td>\n",
       "      <td>3.800000</td>\n",
       "      <td>9.200000</td>\n",
       "      <td>3.371314</td>\n",
       "    </tr>\n",
       "    <tr>\n",
       "      <th>324</th>\n",
       "      <td>chambers</td>\n",
       "      <td>9</td>\n",
       "      <td>21</td>\n",
       "      <td>201</td>\n",
       "      <td>9</td>\n",
       "      <td>1</td>\n",
       "      <td>0</td>\n",
       "      <td>2</td>\n",
       "      <td>42</td>\n",
       "      <td>0</td>\n",
       "      <td>...</td>\n",
       "      <td>2.982143</td>\n",
       "      <td>1.666667</td>\n",
       "      <td>7.546099</td>\n",
       "      <td>0</td>\n",
       "      <td>0</td>\n",
       "      <td>0.691897</td>\n",
       "      <td>2.296830</td>\n",
       "      <td>0.675738</td>\n",
       "      <td>2.686572</td>\n",
       "      <td>2.003772</td>\n",
       "    </tr>\n",
       "    <tr>\n",
       "      <th>400</th>\n",
       "      <td>lichtsteiner</td>\n",
       "      <td>11</td>\n",
       "      <td>21</td>\n",
       "      <td>201</td>\n",
       "      <td>1</td>\n",
       "      <td>9</td>\n",
       "      <td>1</td>\n",
       "      <td>2</td>\n",
       "      <td>45</td>\n",
       "      <td>0</td>\n",
       "      <td>...</td>\n",
       "      <td>0.666667</td>\n",
       "      <td>3.000000</td>\n",
       "      <td>3.000000</td>\n",
       "      <td>0</td>\n",
       "      <td>0</td>\n",
       "      <td>0.603758</td>\n",
       "      <td>0.549070</td>\n",
       "      <td>1.000000</td>\n",
       "      <td>0.666667</td>\n",
       "      <td>3.152354</td>\n",
       "    </tr>\n",
       "    <tr>\n",
       "      <th>438</th>\n",
       "      <td>sokratis</td>\n",
       "      <td>12</td>\n",
       "      <td>21</td>\n",
       "      <td>201</td>\n",
       "      <td>1</td>\n",
       "      <td>9</td>\n",
       "      <td>1</td>\n",
       "      <td>2</td>\n",
       "      <td>51</td>\n",
       "      <td>0</td>\n",
       "      <td>...</td>\n",
       "      <td>5.100000</td>\n",
       "      <td>3.000000</td>\n",
       "      <td>3.000000</td>\n",
       "      <td>5</td>\n",
       "      <td>90</td>\n",
       "      <td>1.207515</td>\n",
       "      <td>2.445858</td>\n",
       "      <td>1.500000</td>\n",
       "      <td>5.100000</td>\n",
       "      <td>3.480794</td>\n",
       "    </tr>\n",
       "  </tbody>\n",
       "</table>\n",
       "<p>5 rows × 60 columns</p>\n",
       "</div>"
      ],
      "text/plain": [
       "    safe_web_name  element  event  fixture  team  opposition_team  was_home  \\\n",
       "58           leno        2     21      201     1                9         1   \n",
       "286     kolasinac        8     21      201     1                9         1   \n",
       "324      chambers        9     21      201     9                1         0   \n",
       "400  lichtsteiner       11     21      201     1                9         1   \n",
       "438      sokratis       12     21      201     1                9         1   \n",
       "\n",
       "     element_type  value  is_sunday           ...            \\\n",
       "58              1     48          0           ...             \n",
       "286             2     49          0           ...             \n",
       "324             2     42          0           ...             \n",
       "400             2     45          0           ...             \n",
       "438             2     51          0           ...             \n",
       "\n",
       "     rolling_var_total_points_home  \\\n",
       "58                        3.476190   \n",
       "286                       9.200000   \n",
       "324                       2.982143   \n",
       "400                       0.666667   \n",
       "438                       5.100000   \n",
       "\n",
       "     rolling_avg_total_points_against_opposition_ground_element_type  \\\n",
       "58                                            3.000000                 \n",
       "286                                           3.000000                 \n",
       "324                                           1.666667                 \n",
       "400                                           3.000000                 \n",
       "438                                           3.000000                 \n",
       "\n",
       "     rolling_var_total_points_against_opposition_ground_element_type  \\\n",
       "58                                            3.000000                 \n",
       "286                                           3.000000                 \n",
       "324                                           7.546099                 \n",
       "400                                           3.000000                 \n",
       "438                                           3.000000                 \n",
       "\n",
       "     total_points  minutes  expected_avg_total_points_against_opposition_team  \\\n",
       "58              3       90                                           2.478082   \n",
       "286             7       90                                           2.415031   \n",
       "324             0        0                                           0.691897   \n",
       "400             0        0                                           0.603758   \n",
       "438             5       90                                           1.207515   \n",
       "\n",
       "     expected_var_total_points_against_opposition_team  \\\n",
       "58                                            3.264527   \n",
       "286                                          11.280897   \n",
       "324                                           2.296830   \n",
       "400                                           0.549070   \n",
       "438                                           2.445858   \n",
       "\n",
       "     expected_avg_total_points_at_ground  expected_var_total_points_at_ground  \\\n",
       "58                              3.142857                             3.476190   \n",
       "286                             3.800000                             9.200000   \n",
       "324                             0.675738                             2.686572   \n",
       "400                             1.000000                             0.666667   \n",
       "438                             1.500000                             5.100000   \n",
       "\n",
       "     predicted_total_points  \n",
       "58                 4.411503  \n",
       "286                3.371314  \n",
       "324                2.003772  \n",
       "400                3.152354  \n",
       "438                3.480794  \n",
       "\n",
       "[5 rows x 60 columns]"
      ]
     },
     "execution_count": 30,
     "metadata": {},
     "output_type": "execute_result"
    }
   ],
   "source": [
    "stark_ridge_df_test.head()"
   ]
  },
  {
   "cell_type": "code",
   "execution_count": 31,
   "metadata": {
    "ExecuteTime": {
     "end_time": "2019-07-13T16:56:21.974262Z",
     "start_time": "2019-07-13T16:56:21.394475Z"
    },
    "hidden": true
   },
   "outputs": [
    {
     "data": {
      "image/png": "[encoded data removed]",
      "text/plain": [
       "<Figure size 720x576 with 1 Axes>"
      ]
     },
     "metadata": {
      "needs_background": "light"
     },
     "output_type": "display_data"
    }
   ],
   "source": [
    "plt.figure(figsize=(10, 8))\n",
    "plt.hist(pd.Series(stark_ridge_y_pred), bins=range(-5,20), alpha=0.75, density=True, label='predicted')\n",
    "plt.hist(pd.Series(stark_ridge_y_test), bins=range(-5,20), alpha=0.75, density=True, label='observed')\n",
    "plt.legend()\n",
    "plt.show()"
   ]
  },
  {
   "cell_type": "code",
   "execution_count": 32,
   "metadata": {
    "ExecuteTime": {
     "end_time": "2019-07-13T16:56:22.429044Z",
     "start_time": "2019-07-13T16:56:21.977053Z"
    },
    "hidden": true
   },
   "outputs": [
    {
     "data": {
      "image/png": "[encoded data removed]",
      "text/plain": [
       "<Figure size 720x576 with 1 Axes>"
      ]
     },
     "metadata": {
      "needs_background": "light"
     },
     "output_type": "display_data"
    }
   ],
   "source": [
    "plt.figure(figsize=(10, 8))\n",
    "plt.scatter(pd.Series(stark_ridge_y_test), pd.Series(stark_ridge_y_pred), alpha=0.1)\n",
    "plt.plot(np.linspace(-5, 25), np.linspace(-5, 25))\n",
    "plt.ylabel('Predicted total points')\n",
    "plt.xlabel('Observed total points')\n",
    "plt.ylim((-3, 12))\n",
    "plt.show()"
   ]
  },
  {
   "cell_type": "markdown",
   "metadata": {
    "heading_collapsed": true,
    "hidden": true
   },
   "source": [
    "### Lasso regression"
   ]
  },
  {
   "cell_type": "code",
   "execution_count": 33,
   "metadata": {
    "ExecuteTime": {
     "end_time": "2019-07-13T16:56:22.434955Z",
     "start_time": "2019-07-13T16:56:22.431585Z"
    },
    "hidden": true
   },
   "outputs": [],
   "source": [
    "lasso_model = Lasso(alpha=1e-8)"
   ]
  },
  {
   "cell_type": "code",
   "execution_count": 34,
   "metadata": {
    "ExecuteTime": {
     "end_time": "2019-07-13T16:56:22.472861Z",
     "start_time": "2019-07-13T16:56:22.437224Z"
    },
    "hidden": true
   },
   "outputs": [],
   "source": [
    "lasso_features = ['expected_avg_total_points_at_ground']"
   ]
  },
  {
   "cell_type": "code",
   "execution_count": 35,
   "metadata": {
    "ExecuteTime": {
     "end_time": "2019-07-13T16:56:31.800938Z",
     "start_time": "2019-07-13T16:56:22.475178Z"
    },
    "hidden": true
   },
   "outputs": [],
   "source": [
    "lasso_y_pred, lasso_y_test, lasso_df_test = predict_test_set(\n",
    "    element_gameweek_df,\n",
    "    lasso_model,\n",
    "    features=lasso_features,\n",
    "    standardise=True\n",
    ")"
   ]
  },
  {
   "cell_type": "code",
   "execution_count": 36,
   "metadata": {
    "ExecuteTime": {
     "end_time": "2019-07-13T16:56:31.809961Z",
     "start_time": "2019-07-13T16:56:31.803260Z"
    },
    "hidden": true
   },
   "outputs": [
    {
     "data": {
      "text/plain": [
       "(2.2973044429258143, 9.691293860592644, 0.056578045088887086)"
      ]
     },
     "execution_count": 36,
     "metadata": {},
     "output_type": "execute_result"
    }
   ],
   "source": [
    "lasso_test_loss = (\n",
    "    mean_absolute_error(lasso_y_test, lasso_y_pred),\n",
    "    mean_squared_error(lasso_y_test, lasso_y_pred),\n",
    "    r2_score(lasso_y_test, lasso_y_pred)\n",
    ")\n",
    "lasso_test_loss"
   ]
  },
  {
   "cell_type": "code",
   "execution_count": 37,
   "metadata": {
    "ExecuteTime": {
     "end_time": "2019-07-13T16:56:31.902252Z",
     "start_time": "2019-07-13T16:56:31.811912Z"
    },
    "hidden": true
   },
   "outputs": [
    {
     "data": {
      "text/html": [
       "<div>\n",
       "<style scoped>\n",
       "    .dataframe tbody tr th:only-of-type {\n",
       "        vertical-align: middle;\n",
       "    }\n",
       "\n",
       "    .dataframe tbody tr th {\n",
       "        vertical-align: top;\n",
       "    }\n",
       "\n",
       "    .dataframe thead th {\n",
       "        text-align: right;\n",
       "    }\n",
       "</style>\n",
       "<table border=\"1\" class=\"dataframe\">\n",
       "  <thead>\n",
       "    <tr style=\"text-align: right;\">\n",
       "      <th></th>\n",
       "      <th>safe_web_name</th>\n",
       "      <th>element</th>\n",
       "      <th>event</th>\n",
       "      <th>fixture</th>\n",
       "      <th>team</th>\n",
       "      <th>opposition_team</th>\n",
       "      <th>was_home</th>\n",
       "      <th>element_type</th>\n",
       "      <th>value</th>\n",
       "      <th>is_sunday</th>\n",
       "      <th>...</th>\n",
       "      <th>rolling_var_total_points_home</th>\n",
       "      <th>rolling_avg_total_points_against_opposition_ground_element_type</th>\n",
       "      <th>rolling_var_total_points_against_opposition_ground_element_type</th>\n",
       "      <th>total_points</th>\n",
       "      <th>minutes</th>\n",
       "      <th>expected_avg_total_points_against_opposition_team</th>\n",
       "      <th>expected_var_total_points_against_opposition_team</th>\n",
       "      <th>expected_avg_total_points_at_ground</th>\n",
       "      <th>expected_var_total_points_at_ground</th>\n",
       "      <th>predicted_total_points</th>\n",
       "    </tr>\n",
       "  </thead>\n",
       "  <tbody>\n",
       "    <tr>\n",
       "      <th>58</th>\n",
       "      <td>leno</td>\n",
       "      <td>2</td>\n",
       "      <td>21</td>\n",
       "      <td>201</td>\n",
       "      <td>1</td>\n",
       "      <td>9</td>\n",
       "      <td>1</td>\n",
       "      <td>1</td>\n",
       "      <td>48</td>\n",
       "      <td>0</td>\n",
       "      <td>...</td>\n",
       "      <td>3.476190</td>\n",
       "      <td>3.000000</td>\n",
       "      <td>3.000000</td>\n",
       "      <td>3</td>\n",
       "      <td>90</td>\n",
       "      <td>2.478082</td>\n",
       "      <td>3.264527</td>\n",
       "      <td>3.142857</td>\n",
       "      <td>3.476190</td>\n",
       "      <td>2.860815</td>\n",
       "    </tr>\n",
       "    <tr>\n",
       "      <th>286</th>\n",
       "      <td>kolasinac</td>\n",
       "      <td>8</td>\n",
       "      <td>21</td>\n",
       "      <td>201</td>\n",
       "      <td>1</td>\n",
       "      <td>9</td>\n",
       "      <td>1</td>\n",
       "      <td>2</td>\n",
       "      <td>49</td>\n",
       "      <td>0</td>\n",
       "      <td>...</td>\n",
       "      <td>9.200000</td>\n",
       "      <td>3.000000</td>\n",
       "      <td>3.000000</td>\n",
       "      <td>7</td>\n",
       "      <td>90</td>\n",
       "      <td>2.415031</td>\n",
       "      <td>11.280897</td>\n",
       "      <td>3.800000</td>\n",
       "      <td>9.200000</td>\n",
       "      <td>3.055349</td>\n",
       "    </tr>\n",
       "    <tr>\n",
       "      <th>324</th>\n",
       "      <td>chambers</td>\n",
       "      <td>9</td>\n",
       "      <td>21</td>\n",
       "      <td>201</td>\n",
       "      <td>9</td>\n",
       "      <td>1</td>\n",
       "      <td>0</td>\n",
       "      <td>2</td>\n",
       "      <td>42</td>\n",
       "      <td>0</td>\n",
       "      <td>...</td>\n",
       "      <td>2.982143</td>\n",
       "      <td>1.666667</td>\n",
       "      <td>7.546099</td>\n",
       "      <td>0</td>\n",
       "      <td>0</td>\n",
       "      <td>0.691897</td>\n",
       "      <td>2.296830</td>\n",
       "      <td>0.675738</td>\n",
       "      <td>2.686572</td>\n",
       "      <td>2.130473</td>\n",
       "    </tr>\n",
       "    <tr>\n",
       "      <th>400</th>\n",
       "      <td>lichtsteiner</td>\n",
       "      <td>11</td>\n",
       "      <td>21</td>\n",
       "      <td>201</td>\n",
       "      <td>1</td>\n",
       "      <td>9</td>\n",
       "      <td>1</td>\n",
       "      <td>2</td>\n",
       "      <td>45</td>\n",
       "      <td>0</td>\n",
       "      <td>...</td>\n",
       "      <td>0.666667</td>\n",
       "      <td>3.000000</td>\n",
       "      <td>3.000000</td>\n",
       "      <td>0</td>\n",
       "      <td>0</td>\n",
       "      <td>0.603758</td>\n",
       "      <td>0.549070</td>\n",
       "      <td>1.000000</td>\n",
       "      <td>0.666667</td>\n",
       "      <td>2.226464</td>\n",
       "    </tr>\n",
       "    <tr>\n",
       "      <th>438</th>\n",
       "      <td>sokratis</td>\n",
       "      <td>12</td>\n",
       "      <td>21</td>\n",
       "      <td>201</td>\n",
       "      <td>1</td>\n",
       "      <td>9</td>\n",
       "      <td>1</td>\n",
       "      <td>2</td>\n",
       "      <td>51</td>\n",
       "      <td>0</td>\n",
       "      <td>...</td>\n",
       "      <td>5.100000</td>\n",
       "      <td>3.000000</td>\n",
       "      <td>3.000000</td>\n",
       "      <td>5</td>\n",
       "      <td>90</td>\n",
       "      <td>1.207515</td>\n",
       "      <td>2.445858</td>\n",
       "      <td>1.500000</td>\n",
       "      <td>5.100000</td>\n",
       "      <td>2.374479</td>\n",
       "    </tr>\n",
       "  </tbody>\n",
       "</table>\n",
       "<p>5 rows × 60 columns</p>\n",
       "</div>"
      ],
      "text/plain": [
       "    safe_web_name  element  event  fixture  team  opposition_team  was_home  \\\n",
       "58           leno        2     21      201     1                9         1   \n",
       "286     kolasinac        8     21      201     1                9         1   \n",
       "324      chambers        9     21      201     9                1         0   \n",
       "400  lichtsteiner       11     21      201     1                9         1   \n",
       "438      sokratis       12     21      201     1                9         1   \n",
       "\n",
       "     element_type  value  is_sunday           ...            \\\n",
       "58              1     48          0           ...             \n",
       "286             2     49          0           ...             \n",
       "324             2     42          0           ...             \n",
       "400             2     45          0           ...             \n",
       "438             2     51          0           ...             \n",
       "\n",
       "     rolling_var_total_points_home  \\\n",
       "58                        3.476190   \n",
       "286                       9.200000   \n",
       "324                       2.982143   \n",
       "400                       0.666667   \n",
       "438                       5.100000   \n",
       "\n",
       "     rolling_avg_total_points_against_opposition_ground_element_type  \\\n",
       "58                                            3.000000                 \n",
       "286                                           3.000000                 \n",
       "324                                           1.666667                 \n",
       "400                                           3.000000                 \n",
       "438                                           3.000000                 \n",
       "\n",
       "     rolling_var_total_points_against_opposition_ground_element_type  \\\n",
       "58                                            3.000000                 \n",
       "286                                           3.000000                 \n",
       "324                                           7.546099                 \n",
       "400                                           3.000000                 \n",
       "438                                           3.000000                 \n",
       "\n",
       "     total_points  minutes  expected_avg_total_points_against_opposition_team  \\\n",
       "58              3       90                                           2.478082   \n",
       "286             7       90                                           2.415031   \n",
       "324             0        0                                           0.691897   \n",
       "400             0        0                                           0.603758   \n",
       "438             5       90                                           1.207515   \n",
       "\n",
       "     expected_var_total_points_against_opposition_team  \\\n",
       "58                                            3.264527   \n",
       "286                                          11.280897   \n",
       "324                                           2.296830   \n",
       "400                                           0.549070   \n",
       "438                                           2.445858   \n",
       "\n",
       "     expected_avg_total_points_at_ground  expected_var_total_points_at_ground  \\\n",
       "58                              3.142857                             3.476190   \n",
       "286                             3.800000                             9.200000   \n",
       "324                             0.675738                             2.686572   \n",
       "400                             1.000000                             0.666667   \n",
       "438                             1.500000                             5.100000   \n",
       "\n",
       "     predicted_total_points  \n",
       "58                 2.860815  \n",
       "286                3.055349  \n",
       "324                2.130473  \n",
       "400                2.226464  \n",
       "438                2.374479  \n",
       "\n",
       "[5 rows x 60 columns]"
      ]
     },
     "execution_count": 37,
     "metadata": {},
     "output_type": "execute_result"
    }
   ],
   "source": [
    "lasso_df_test.head()"
   ]
  },
  {
   "cell_type": "code",
   "execution_count": 38,
   "metadata": {
    "ExecuteTime": {
     "end_time": "2019-07-13T16:56:32.457945Z",
     "start_time": "2019-07-13T16:56:31.904230Z"
    },
    "hidden": true
   },
   "outputs": [
    {
     "data": {
      "image/png": "[encoded data removed]",
      "text/plain": [
       "<Figure size 720x576 with 1 Axes>"
      ]
     },
     "metadata": {
      "needs_background": "light"
     },
     "output_type": "display_data"
    }
   ],
   "source": [
    "plt.figure(figsize=(10, 8))\n",
    "plt.hist(pd.Series(lasso_y_pred), bins=range(-5,20), alpha=0.75, density=True, label='predicted')\n",
    "plt.hist(pd.Series(lasso_y_test), bins=range(-5,20), alpha=0.75, density=True, label='observed')\n",
    "plt.legend()\n",
    "plt.show()"
   ]
  },
  {
   "cell_type": "code",
   "execution_count": 39,
   "metadata": {
    "ExecuteTime": {
     "end_time": "2019-07-13T16:56:32.861187Z",
     "start_time": "2019-07-13T16:56:32.460560Z"
    },
    "hidden": true
   },
   "outputs": [
    {
     "data": {
      "image/png": "[encoded data removed]",
      "text/plain": [
       "<Figure size 720x576 with 1 Axes>"
      ]
     },
     "metadata": {
      "needs_background": "light"
     },
     "output_type": "display_data"
    }
   ],
   "source": [
    "plt.figure(figsize=(10, 8))\n",
    "plt.scatter(pd.Series(lasso_y_test), pd.Series(lasso_y_pred), alpha=0.1)\n",
    "plt.plot(np.linspace(-5, 25), np.linspace(-5, 25))\n",
    "plt.ylabel('Predicted total points')\n",
    "plt.xlabel('Observed total points')\n",
    "plt.ylim((-3, 12))\n",
    "plt.show()"
   ]
  },
  {
   "cell_type": "markdown",
   "metadata": {
    "heading_collapsed": true,
    "hidden": true
   },
   "source": [
    "### Radial basis SVM regression"
   ]
  },
  {
   "cell_type": "code",
   "execution_count": 40,
   "metadata": {
    "ExecuteTime": {
     "end_time": "2019-07-13T16:56:32.868409Z",
     "start_time": "2019-07-13T16:56:32.864213Z"
    },
    "hidden": true
   },
   "outputs": [],
   "source": [
    "rbf_svr_model = SVR(kernel='rbf', gamma=0.012, C=1.5, epsilon=2.07)"
   ]
  },
  {
   "cell_type": "code",
   "execution_count": 41,
   "metadata": {
    "ExecuteTime": {
     "end_time": "2019-07-13T16:56:32.906970Z",
     "start_time": "2019-07-13T16:56:32.870615Z"
    },
    "hidden": true
   },
   "outputs": [],
   "source": [
    "rbf_svr_features = [\n",
    "    'C(element)[T.4]', 'C(element)[T.6]', 'C(element)[T.8]',\n",
    "    'C(element)[T.12]', 'C(element)[T.13]', 'C(element)[T.14]',\n",
    "    'C(element)[T.18]', 'C(element)[T.23]', 'C(element)[T.33]',\n",
    "    'C(element)[T.37]', 'C(element)[T.39]', 'C(element)[T.40]',\n",
    "    'C(element)[T.42]', 'C(element)[T.43]', 'C(element)[T.48]',\n",
    "    'C(element)[T.49]', 'C(element)[T.50]', 'C(element)[T.54]',\n",
    "    'C(element)[T.55]', 'C(element)[T.56]', 'C(element)[T.57]',\n",
    "    'C(element)[T.58]', 'C(element)[T.60]', 'C(element)[T.62]',\n",
    "    'C(element)[T.66]', 'C(element)[T.69]', 'C(element)[T.71]',\n",
    "    'C(element)[T.72]', 'C(element)[T.73]', 'C(element)[T.75]',\n",
    "    'C(element)[T.76]', 'C(element)[T.77]', 'C(element)[T.79]',\n",
    "    'C(element)[T.80]', 'C(element)[T.82]', 'C(element)[T.83]',\n",
    "    'C(element)[T.84]', 'C(element)[T.85]', 'C(element)[T.88]',\n",
    "    'C(element)[T.90]', 'C(element)[T.91]', 'C(element)[T.92]',\n",
    "    'C(element)[T.95]', 'C(element)[T.98]', 'C(element)[T.101]',\n",
    "    'C(element)[T.105]', 'C(element)[T.110]', 'C(element)[T.113]',\n",
    "    'C(element)[T.115]', 'C(element)[T.116]', 'C(element)[T.118]',\n",
    "    'C(element)[T.124]', 'C(element)[T.126]', 'C(element)[T.127]',\n",
    "    'C(element)[T.134]', 'C(element)[T.137]', 'C(element)[T.140]',\n",
    "    'C(element)[T.141]', 'C(element)[T.145]', 'C(element)[T.147]',\n",
    "    'C(element)[T.152]', 'C(element)[T.156]', 'C(element)[T.157]',\n",
    "    'C(element)[T.160]', 'C(element)[T.164]', 'C(element)[T.167]',\n",
    "    'C(element)[T.168]', 'C(element)[T.169]', 'C(element)[T.172]',\n",
    "    'C(element)[T.175]', 'C(element)[T.178]', 'C(element)[T.181]',\n",
    "    'C(element)[T.183]', 'C(element)[T.184]', 'C(element)[T.189]',\n",
    "    'C(element)[T.190]', 'C(element)[T.191]', 'C(element)[T.192]',\n",
    "    'C(element)[T.193]', 'C(element)[T.195]', 'C(element)[T.198]',\n",
    "    'C(element)[T.199]', 'C(element)[T.200]', 'C(element)[T.202]',\n",
    "    'C(element)[T.206]', 'C(element)[T.210]', 'C(element)[T.211]',\n",
    "    'C(element)[T.213]', 'C(element)[T.215]', 'C(element)[T.219]',\n",
    "    'C(element)[T.221]', 'C(element)[T.225]', 'C(element)[T.226]',\n",
    "    'C(element)[T.231]', 'C(element)[T.233]', 'C(element)[T.234]',\n",
    "    'C(element)[T.236]', 'C(element)[T.242]', 'C(element)[T.243]',\n",
    "    'C(element)[T.245]', 'C(element)[T.246]', 'C(element)[T.247]',\n",
    "    'C(element)[T.249]', 'C(element)[T.251]', 'C(element)[T.252]',\n",
    "    'C(element)[T.253]', 'C(element)[T.254]', 'C(element)[T.256]',\n",
    "    'C(element)[T.257]', 'C(element)[T.258]', 'C(element)[T.260]',\n",
    "    'C(element)[T.262]', 'C(element)[T.263]', 'C(element)[T.264]',\n",
    "    'C(element)[T.265]', 'C(element)[T.268]', 'C(element)[T.269]',\n",
    "    'C(element)[T.270]', 'C(element)[T.271]', 'C(element)[T.272]',\n",
    "    'C(element)[T.274]', 'C(element)[T.275]', 'C(element)[T.280]',\n",
    "    'C(element)[T.281]', 'C(element)[T.282]', 'C(element)[T.288]',\n",
    "    'C(element)[T.289]', 'C(element)[T.291]', 'C(element)[T.294]',\n",
    "    'C(element)[T.295]', 'C(element)[T.299]', 'C(element)[T.300]',\n",
    "    'C(element)[T.301]', 'C(element)[T.302]', 'C(element)[T.304]',\n",
    "    'C(element)[T.305]', 'C(element)[T.306]', 'C(element)[T.309]',\n",
    "    'C(element)[T.312]', 'C(element)[T.315]', 'C(element)[T.317]',\n",
    "    'C(element)[T.318]', 'C(element)[T.324]', 'C(element)[T.327]',\n",
    "    'C(element)[T.328]', 'C(element)[T.331]', 'C(element)[T.332]',\n",
    "    'C(element)[T.333]', 'C(element)[T.335]', 'C(element)[T.336]',\n",
    "    'C(element)[T.343]', 'C(element)[T.344]', 'C(element)[T.346]',\n",
    "    'C(element)[T.352]', 'C(element)[T.353]', 'C(element)[T.355]',\n",
    "    'C(element)[T.356]', 'C(element)[T.357]', 'C(element)[T.360]',\n",
    "    'C(element)[T.362]', 'C(element)[T.364]', 'C(element)[T.365]',\n",
    "    'C(element)[T.368]', 'C(element)[T.369]', 'C(element)[T.370]',\n",
    "    'C(element)[T.372]', 'C(element)[T.376]', 'C(element)[T.380]',\n",
    "    'C(element)[T.386]', 'C(element)[T.390]', 'C(element)[T.391]',\n",
    "    'C(element)[T.393]', 'C(element)[T.394]', 'C(element)[T.395]',\n",
    "    'C(element)[T.396]', 'C(element)[T.400]', 'C(element)[T.402]',\n",
    "    'C(element)[T.403]', 'C(element)[T.408]', 'C(element)[T.411]',\n",
    "    'C(element)[T.415]', 'C(element)[T.417]', 'C(element)[T.419]',\n",
    "    'C(element)[T.423]', 'C(element)[T.425]', 'C(element)[T.426]',\n",
    "    'C(element)[T.427]', 'C(element)[T.431]', 'C(element)[T.432]',\n",
    "    'C(element)[T.433]', 'C(element)[T.437]', 'C(element)[T.447]',\n",
    "    'C(element)[T.450]', 'C(element)[T.451]', 'C(element)[T.455]',\n",
    "    'C(element)[T.456]', 'C(element)[T.459]', 'C(element)[T.461]',\n",
    "    'C(element)[T.462]', 'C(element)[T.465]', 'C(element)[T.467]',\n",
    "    'C(element)[T.468]', 'C(element)[T.473]', 'C(element)[T.474]',\n",
    "    'C(element)[T.475]', 'C(element)[T.476]', 'C(element)[T.478]',\n",
    "    'C(element)[T.479]', 'C(element)[T.480]', 'C(element)[T.482]',\n",
    "    'C(element)[T.483]', 'C(element)[T.484]', 'C(element)[T.487]',\n",
    "    'C(element)[T.488]', 'C(element)[T.490]', 'C(element)[T.492]',\n",
    "    'C(element)[T.493]', 'C(element)[T.499]', 'C(element)[T.503]',\n",
    "    'C(element)[T.504]', 'C(element)[T.505]', 'C(element)[T.506]',\n",
    "    'C(element)[T.509]', 'C(element)[T.510]', 'C(element)[T.511]',\n",
    "    'C(element)[T.512]', 'C(element)[T.513]', 'C(element)[T.516]',\n",
    "    'C(element)[T.517]', 'C(element)[T.526]', 'C(element)[T.527]',\n",
    "    'C(element)[T.536]', 'C(element)[T.539]', 'C(element)[T.549]',\n",
    "    'C(element_type)[T.2]', 'C(element_type)[T.3]', 'C(element_type)[T.4]',\n",
    "    'C(team)[T.6]', 'C(team)[T.7]', 'C(team)[T.8]', 'C(team)[T.10]',\n",
    "    'C(team)[T.12]', 'C(team)[T.14]', 'C(team)[T.16]', 'C(team)[T.17]',\n",
    "    'C(team)[T.20]', 'C(opposition_team)[T.2]', 'C(opposition_team)[T.3]',\n",
    "    'C(opposition_team)[T.4]', 'C(opposition_team)[T.5]',\n",
    "    'C(opposition_team)[T.6]', 'C(opposition_team)[T.7]',\n",
    "    'C(opposition_team)[T.8]', 'C(opposition_team)[T.9]',\n",
    "    'C(opposition_team)[T.10]', 'C(opposition_team)[T.12]',\n",
    "    'C(opposition_team)[T.13]', 'C(opposition_team)[T.14]',\n",
    "    'C(opposition_team)[T.15]', 'C(opposition_team)[T.16]',\n",
    "    'C(opposition_team)[T.17]', 'C(opposition_team)[T.18]',\n",
    "    'C(opposition_team)[T.19]', 'C(opposition_team)[T.20]', 'value',\n",
    "    'is_sunday', 'is_weekday', 'rolling_avg_minutes_element_p3',\n",
    "    'rolling_avg_bps_element', 'rolling_avg_goals_scored_element',\n",
    "    'rolling_avg_completed_passes_element', 'rolling_avg_tackled_element',\n",
    "    'rolling_avg_dribbles_element', 'rolling_avg_offside_element',\n",
    "    'rolling_avg_total_points_against_opposition_team',\n",
    "    'expected_avg_total_points_against_opposition_team'\n",
    "]"
   ]
  },
  {
   "cell_type": "code",
   "execution_count": 42,
   "metadata": {
    "ExecuteTime": {
     "end_time": "2019-07-13T16:58:36.970351Z",
     "start_time": "2019-07-13T16:56:32.909508Z"
    },
    "hidden": true
   },
   "outputs": [],
   "source": [
    "rbf_svr_y_pred, rbf_svr_y_test, rbf_svr_df_test = predict_test_set(\n",
    "    element_gameweek_df,\n",
    "    rbf_svr_model,\n",
    "    features=rbf_svr_features,\n",
    "    standardise=True\n",
    ")"
   ]
  },
  {
   "cell_type": "code",
   "execution_count": 43,
   "metadata": {
    "ExecuteTime": {
     "end_time": "2019-07-13T16:58:36.984213Z",
     "start_time": "2019-07-13T16:58:36.975211Z"
    },
    "hidden": true
   },
   "outputs": [
    {
     "data": {
      "text/plain": [
       "(2.2807040419194884, 9.431990439366304, 0.08182055079426409)"
      ]
     },
     "execution_count": 43,
     "metadata": {},
     "output_type": "execute_result"
    }
   ],
   "source": [
    "rbf_svr_test_loss = (\n",
    "    mean_absolute_error(rbf_svr_y_test, rbf_svr_y_pred),\n",
    "    mean_squared_error(rbf_svr_y_test, rbf_svr_y_pred),\n",
    "    r2_score(rbf_svr_y_test, rbf_svr_y_pred)\n",
    ")\n",
    "rbf_svr_test_loss"
   ]
  },
  {
   "cell_type": "code",
   "execution_count": 44,
   "metadata": {
    "ExecuteTime": {
     "end_time": "2019-07-13T16:58:37.210643Z",
     "start_time": "2019-07-13T16:58:36.986385Z"
    },
    "hidden": true
   },
   "outputs": [
    {
     "data": {
      "text/html": [
       "<div>\n",
       "<style scoped>\n",
       "    .dataframe tbody tr th:only-of-type {\n",
       "        vertical-align: middle;\n",
       "    }\n",
       "\n",
       "    .dataframe tbody tr th {\n",
       "        vertical-align: top;\n",
       "    }\n",
       "\n",
       "    .dataframe thead th {\n",
       "        text-align: right;\n",
       "    }\n",
       "</style>\n",
       "<table border=\"1\" class=\"dataframe\">\n",
       "  <thead>\n",
       "    <tr style=\"text-align: right;\">\n",
       "      <th></th>\n",
       "      <th>safe_web_name</th>\n",
       "      <th>element</th>\n",
       "      <th>event</th>\n",
       "      <th>fixture</th>\n",
       "      <th>team</th>\n",
       "      <th>opposition_team</th>\n",
       "      <th>was_home</th>\n",
       "      <th>element_type</th>\n",
       "      <th>value</th>\n",
       "      <th>is_sunday</th>\n",
       "      <th>...</th>\n",
       "      <th>rolling_var_total_points_home</th>\n",
       "      <th>rolling_avg_total_points_against_opposition_ground_element_type</th>\n",
       "      <th>rolling_var_total_points_against_opposition_ground_element_type</th>\n",
       "      <th>total_points</th>\n",
       "      <th>minutes</th>\n",
       "      <th>expected_avg_total_points_against_opposition_team</th>\n",
       "      <th>expected_var_total_points_against_opposition_team</th>\n",
       "      <th>expected_avg_total_points_at_ground</th>\n",
       "      <th>expected_var_total_points_at_ground</th>\n",
       "      <th>predicted_total_points</th>\n",
       "    </tr>\n",
       "  </thead>\n",
       "  <tbody>\n",
       "    <tr>\n",
       "      <th>58</th>\n",
       "      <td>leno</td>\n",
       "      <td>2</td>\n",
       "      <td>21</td>\n",
       "      <td>201</td>\n",
       "      <td>1</td>\n",
       "      <td>9</td>\n",
       "      <td>1</td>\n",
       "      <td>1</td>\n",
       "      <td>48</td>\n",
       "      <td>0</td>\n",
       "      <td>...</td>\n",
       "      <td>3.476190</td>\n",
       "      <td>3.000000</td>\n",
       "      <td>3.000000</td>\n",
       "      <td>3</td>\n",
       "      <td>90</td>\n",
       "      <td>2.478082</td>\n",
       "      <td>3.264527</td>\n",
       "      <td>3.142857</td>\n",
       "      <td>3.476190</td>\n",
       "      <td>3.576108</td>\n",
       "    </tr>\n",
       "    <tr>\n",
       "      <th>286</th>\n",
       "      <td>kolasinac</td>\n",
       "      <td>8</td>\n",
       "      <td>21</td>\n",
       "      <td>201</td>\n",
       "      <td>1</td>\n",
       "      <td>9</td>\n",
       "      <td>1</td>\n",
       "      <td>2</td>\n",
       "      <td>49</td>\n",
       "      <td>0</td>\n",
       "      <td>...</td>\n",
       "      <td>9.200000</td>\n",
       "      <td>3.000000</td>\n",
       "      <td>3.000000</td>\n",
       "      <td>7</td>\n",
       "      <td>90</td>\n",
       "      <td>2.415031</td>\n",
       "      <td>11.280897</td>\n",
       "      <td>3.800000</td>\n",
       "      <td>9.200000</td>\n",
       "      <td>3.129998</td>\n",
       "    </tr>\n",
       "    <tr>\n",
       "      <th>324</th>\n",
       "      <td>chambers</td>\n",
       "      <td>9</td>\n",
       "      <td>21</td>\n",
       "      <td>201</td>\n",
       "      <td>9</td>\n",
       "      <td>1</td>\n",
       "      <td>0</td>\n",
       "      <td>2</td>\n",
       "      <td>42</td>\n",
       "      <td>0</td>\n",
       "      <td>...</td>\n",
       "      <td>2.982143</td>\n",
       "      <td>1.666667</td>\n",
       "      <td>7.546099</td>\n",
       "      <td>0</td>\n",
       "      <td>0</td>\n",
       "      <td>0.691897</td>\n",
       "      <td>2.296830</td>\n",
       "      <td>0.675738</td>\n",
       "      <td>2.686572</td>\n",
       "      <td>2.088314</td>\n",
       "    </tr>\n",
       "    <tr>\n",
       "      <th>400</th>\n",
       "      <td>lichtsteiner</td>\n",
       "      <td>11</td>\n",
       "      <td>21</td>\n",
       "      <td>201</td>\n",
       "      <td>1</td>\n",
       "      <td>9</td>\n",
       "      <td>1</td>\n",
       "      <td>2</td>\n",
       "      <td>45</td>\n",
       "      <td>0</td>\n",
       "      <td>...</td>\n",
       "      <td>0.666667</td>\n",
       "      <td>3.000000</td>\n",
       "      <td>3.000000</td>\n",
       "      <td>0</td>\n",
       "      <td>0</td>\n",
       "      <td>0.603758</td>\n",
       "      <td>0.549070</td>\n",
       "      <td>1.000000</td>\n",
       "      <td>0.666667</td>\n",
       "      <td>2.544892</td>\n",
       "    </tr>\n",
       "    <tr>\n",
       "      <th>438</th>\n",
       "      <td>sokratis</td>\n",
       "      <td>12</td>\n",
       "      <td>21</td>\n",
       "      <td>201</td>\n",
       "      <td>1</td>\n",
       "      <td>9</td>\n",
       "      <td>1</td>\n",
       "      <td>2</td>\n",
       "      <td>51</td>\n",
       "      <td>0</td>\n",
       "      <td>...</td>\n",
       "      <td>5.100000</td>\n",
       "      <td>3.000000</td>\n",
       "      <td>3.000000</td>\n",
       "      <td>5</td>\n",
       "      <td>90</td>\n",
       "      <td>1.207515</td>\n",
       "      <td>2.445858</td>\n",
       "      <td>1.500000</td>\n",
       "      <td>5.100000</td>\n",
       "      <td>3.052386</td>\n",
       "    </tr>\n",
       "  </tbody>\n",
       "</table>\n",
       "<p>5 rows × 60 columns</p>\n",
       "</div>"
      ],
      "text/plain": [
       "    safe_web_name  element  event  fixture  team  opposition_team  was_home  \\\n",
       "58           leno        2     21      201     1                9         1   \n",
       "286     kolasinac        8     21      201     1                9         1   \n",
       "324      chambers        9     21      201     9                1         0   \n",
       "400  lichtsteiner       11     21      201     1                9         1   \n",
       "438      sokratis       12     21      201     1                9         1   \n",
       "\n",
       "     element_type  value  is_sunday           ...            \\\n",
       "58              1     48          0           ...             \n",
       "286             2     49          0           ...             \n",
       "324             2     42          0           ...             \n",
       "400             2     45          0           ...             \n",
       "438             2     51          0           ...             \n",
       "\n",
       "     rolling_var_total_points_home  \\\n",
       "58                        3.476190   \n",
       "286                       9.200000   \n",
       "324                       2.982143   \n",
       "400                       0.666667   \n",
       "438                       5.100000   \n",
       "\n",
       "     rolling_avg_total_points_against_opposition_ground_element_type  \\\n",
       "58                                            3.000000                 \n",
       "286                                           3.000000                 \n",
       "324                                           1.666667                 \n",
       "400                                           3.000000                 \n",
       "438                                           3.000000                 \n",
       "\n",
       "     rolling_var_total_points_against_opposition_ground_element_type  \\\n",
       "58                                            3.000000                 \n",
       "286                                           3.000000                 \n",
       "324                                           7.546099                 \n",
       "400                                           3.000000                 \n",
       "438                                           3.000000                 \n",
       "\n",
       "     total_points  minutes  expected_avg_total_points_against_opposition_team  \\\n",
       "58              3       90                                           2.478082   \n",
       "286             7       90                                           2.415031   \n",
       "324             0        0                                           0.691897   \n",
       "400             0        0                                           0.603758   \n",
       "438             5       90                                           1.207515   \n",
       "\n",
       "     expected_var_total_points_against_opposition_team  \\\n",
       "58                                            3.264527   \n",
       "286                                          11.280897   \n",
       "324                                           2.296830   \n",
       "400                                           0.549070   \n",
       "438                                           2.445858   \n",
       "\n",
       "     expected_avg_total_points_at_ground  expected_var_total_points_at_ground  \\\n",
       "58                              3.142857                             3.476190   \n",
       "286                             3.800000                             9.200000   \n",
       "324                             0.675738                             2.686572   \n",
       "400                             1.000000                             0.666667   \n",
       "438                             1.500000                             5.100000   \n",
       "\n",
       "     predicted_total_points  \n",
       "58                 3.576108  \n",
       "286                3.129998  \n",
       "324                2.088314  \n",
       "400                2.544892  \n",
       "438                3.052386  \n",
       "\n",
       "[5 rows x 60 columns]"
      ]
     },
     "execution_count": 44,
     "metadata": {},
     "output_type": "execute_result"
    }
   ],
   "source": [
    "rbf_svr_df_test.head()"
   ]
  },
  {
   "cell_type": "code",
   "execution_count": 45,
   "metadata": {
    "ExecuteTime": {
     "end_time": "2019-07-13T16:58:37.922016Z",
     "start_time": "2019-07-13T16:58:37.213417Z"
    },
    "hidden": true
   },
   "outputs": [
    {
     "data": {
      "image/png": "[encoded data removed]",
      "text/plain": [
       "<Figure size 720x576 with 1 Axes>"
      ]
     },
     "metadata": {
      "needs_background": "light"
     },
     "output_type": "display_data"
    }
   ],
   "source": [
    "plt.figure(figsize=(10, 8))\n",
    "plt.hist(pd.Series(rbf_svr_y_pred), bins=range(-5,20), alpha=0.75, density=True, label='predicted')\n",
    "plt.hist(pd.Series(rbf_svr_y_test), bins=range(-5,20), alpha=0.75, density=True, label='observed')\n",
    "plt.legend()\n",
    "plt.show()"
   ]
  },
  {
   "cell_type": "code",
   "execution_count": 46,
   "metadata": {
    "ExecuteTime": {
     "end_time": "2019-07-13T16:58:38.396857Z",
     "start_time": "2019-07-13T16:58:37.924529Z"
    },
    "hidden": true
   },
   "outputs": [
    {
     "data": {
      "image/png": "[encoded data removed]",
      "text/plain": [
       "<Figure size 720x576 with 1 Axes>"
      ]
     },
     "metadata": {
      "needs_background": "light"
     },
     "output_type": "display_data"
    }
   ],
   "source": [
    "plt.figure(figsize=(10, 8))\n",
    "plt.scatter(pd.Series(rbf_svr_y_test), pd.Series(rbf_svr_y_pred), alpha=0.1)\n",
    "plt.plot(np.linspace(-5, 25), np.linspace(-5, 25))\n",
    "plt.ylabel('Predicted total points')\n",
    "plt.xlabel('Observed total points')\n",
    "plt.ylim((-3, 12))\n",
    "plt.show()"
   ]
  },
  {
   "cell_type": "markdown",
   "metadata": {
    "heading_collapsed": true,
    "hidden": true
   },
   "source": [
    "### Linear SVM regression"
   ]
  },
  {
   "cell_type": "code",
   "execution_count": 47,
   "metadata": {
    "ExecuteTime": {
     "end_time": "2019-07-13T16:58:38.402928Z",
     "start_time": "2019-07-13T16:58:38.399495Z"
    },
    "hidden": true
   },
   "outputs": [],
   "source": [
    "linear_svr_model = SVR(kernel='linear', C=0.29, epsilon=2.16)"
   ]
  },
  {
   "cell_type": "code",
   "execution_count": 48,
   "metadata": {
    "ExecuteTime": {
     "end_time": "2019-07-13T16:58:38.435562Z",
     "start_time": "2019-07-13T16:58:38.405271Z"
    },
    "hidden": true
   },
   "outputs": [],
   "source": [
    "linear_svr_features = [\n",
    "    'C(element)[T.4]', 'C(element)[T.6]', 'C(element)[T.8]',\n",
    "    'C(element)[T.12]', 'C(element)[T.13]', 'C(element)[T.14]',\n",
    "    'C(element)[T.18]', 'C(element)[T.23]', 'C(element)[T.33]',\n",
    "    'C(element)[T.37]', 'C(element)[T.39]', 'C(element)[T.40]',\n",
    "    'C(element)[T.42]', 'C(element)[T.43]', 'C(element)[T.48]',\n",
    "    'C(element)[T.49]', 'C(element)[T.50]', 'C(element)[T.54]',\n",
    "    'C(element)[T.55]', 'C(element)[T.56]', 'C(element)[T.57]',\n",
    "    'C(element)[T.58]', 'C(element)[T.60]', 'C(element)[T.62]',\n",
    "    'C(element)[T.66]', 'C(element)[T.69]', 'C(element)[T.71]',\n",
    "    'C(element)[T.72]', 'C(element)[T.73]', 'C(element)[T.75]',\n",
    "    'C(element)[T.76]', 'C(element)[T.77]', 'C(element)[T.79]',\n",
    "    'C(element)[T.80]', 'C(element)[T.82]', 'C(element)[T.83]',\n",
    "    'C(element)[T.84]', 'C(element)[T.85]', 'C(element)[T.88]',\n",
    "    'C(element)[T.90]', 'C(element)[T.91]', 'C(element)[T.92]',\n",
    "    'C(element)[T.95]', 'C(element)[T.98]', 'C(element)[T.101]',\n",
    "    'C(element)[T.105]', 'C(element)[T.110]', 'C(element)[T.113]',\n",
    "    'C(element)[T.115]', 'C(element)[T.116]', 'C(element)[T.118]',\n",
    "    'C(element)[T.124]', 'C(element)[T.126]', 'C(element)[T.127]',\n",
    "    'C(element)[T.134]', 'C(element)[T.137]', 'C(element)[T.140]',\n",
    "    'C(element)[T.141]', 'C(element)[T.145]', 'C(element)[T.147]',\n",
    "    'C(element)[T.152]', 'C(element)[T.156]', 'C(element)[T.157]',\n",
    "    'C(element)[T.160]', 'C(element)[T.164]', 'C(element)[T.167]',\n",
    "    'C(element)[T.168]', 'C(element)[T.169]', 'C(element)[T.172]',\n",
    "    'C(element)[T.175]', 'C(element)[T.178]', 'C(element)[T.181]',\n",
    "    'C(element)[T.183]', 'C(element)[T.184]', 'C(element)[T.189]',\n",
    "    'C(element)[T.190]', 'C(element)[T.191]', 'C(element)[T.192]',\n",
    "    'C(element)[T.193]', 'C(element)[T.195]', 'C(element)[T.198]',\n",
    "    'C(element)[T.199]', 'C(element)[T.200]', 'C(element)[T.202]',\n",
    "    'C(element)[T.206]', 'C(element)[T.210]', 'C(element)[T.211]',\n",
    "    'C(element)[T.213]', 'C(element)[T.215]', 'C(element)[T.219]',\n",
    "    'C(element)[T.221]', 'C(element)[T.225]', 'C(element)[T.226]',\n",
    "    'C(element)[T.231]', 'C(element)[T.233]', 'C(element)[T.234]',\n",
    "    'C(element)[T.236]', 'C(element)[T.242]', 'C(element)[T.243]',\n",
    "    'C(element)[T.245]', 'C(element)[T.246]', 'C(element)[T.247]',\n",
    "    'C(element)[T.249]', 'C(element)[T.251]', 'C(element)[T.252]',\n",
    "    'C(element)[T.253]', 'C(element)[T.254]', 'C(element)[T.256]',\n",
    "    'C(element)[T.257]', 'C(element)[T.258]', 'C(element)[T.260]',\n",
    "    'C(element)[T.262]', 'C(element)[T.263]', 'C(element)[T.264]',\n",
    "    'C(element)[T.265]', 'C(element)[T.268]', 'C(element)[T.269]',\n",
    "    'C(element)[T.270]', 'C(element)[T.271]', 'C(element)[T.272]',\n",
    "    'C(element)[T.274]', 'C(element)[T.275]', 'C(element)[T.280]',\n",
    "    'C(element)[T.281]', 'C(element)[T.282]', 'C(element)[T.288]',\n",
    "    'C(element)[T.289]', 'C(element)[T.291]', 'C(element)[T.294]',\n",
    "    'C(element)[T.295]', 'C(element)[T.299]', 'C(element)[T.300]',\n",
    "    'C(element)[T.301]', 'C(element)[T.302]', 'C(element)[T.304]',\n",
    "    'C(element)[T.305]', 'C(element)[T.306]', 'C(element)[T.309]',\n",
    "    'C(element)[T.312]', 'C(element)[T.315]', 'C(element)[T.317]',\n",
    "    'C(element)[T.318]', 'C(element)[T.324]', 'C(element)[T.327]',\n",
    "    'C(element)[T.328]', 'C(element)[T.331]', 'C(element)[T.332]',\n",
    "    'C(element)[T.333]', 'C(element)[T.335]', 'C(element)[T.336]',\n",
    "    'C(element)[T.343]', 'C(element)[T.344]', 'C(element)[T.346]',\n",
    "    'C(element)[T.352]', 'C(element)[T.353]', 'C(element)[T.355]',\n",
    "    'C(element)[T.356]', 'C(element)[T.357]', 'C(element)[T.360]',\n",
    "    'C(element)[T.362]', 'C(element)[T.364]', 'C(element)[T.365]',\n",
    "    'C(element)[T.368]', 'C(element)[T.369]', 'C(element)[T.370]',\n",
    "    'C(element)[T.372]', 'C(element)[T.376]', 'C(element)[T.380]',\n",
    "    'C(element)[T.386]', 'C(element)[T.390]', 'C(element)[T.391]',\n",
    "    'C(element)[T.393]', 'C(element)[T.394]', 'C(element)[T.395]',\n",
    "    'C(element)[T.396]', 'C(element)[T.400]', 'C(element)[T.402]',\n",
    "    'C(element)[T.403]', 'C(element)[T.408]', 'C(element)[T.411]',\n",
    "    'C(element)[T.415]', 'C(element)[T.417]', 'C(element)[T.419]',\n",
    "    'C(element)[T.423]', 'C(element)[T.425]', 'C(element)[T.426]',\n",
    "    'C(element)[T.427]', 'C(element)[T.431]', 'C(element)[T.432]',\n",
    "    'C(element)[T.433]', 'C(element)[T.437]', 'C(element)[T.447]',\n",
    "    'C(element)[T.450]', 'C(element)[T.451]', 'C(element)[T.455]',\n",
    "    'C(element)[T.456]', 'C(element)[T.459]', 'C(element)[T.461]',\n",
    "    'C(element)[T.462]', 'C(element)[T.465]', 'C(element)[T.467]',\n",
    "    'C(element)[T.468]', 'C(element)[T.473]', 'C(element)[T.474]',\n",
    "    'C(element)[T.475]', 'C(element)[T.476]', 'C(element)[T.478]',\n",
    "    'C(element)[T.479]', 'C(element)[T.480]', 'C(element)[T.482]',\n",
    "    'C(element)[T.483]', 'C(element)[T.484]', 'C(element)[T.487]',\n",
    "    'C(element)[T.488]', 'C(element)[T.490]', 'C(element)[T.492]',\n",
    "    'C(element)[T.493]', 'C(element)[T.499]', 'C(element)[T.503]',\n",
    "    'C(element)[T.504]', 'C(element)[T.505]', 'C(element)[T.506]',\n",
    "    'C(element)[T.509]', 'C(element)[T.510]', 'C(element)[T.511]',\n",
    "    'C(element)[T.512]', 'C(element)[T.513]', 'C(element)[T.516]',\n",
    "    'C(element)[T.517]', 'C(element)[T.526]', 'C(element)[T.527]',\n",
    "    'C(element)[T.536]', 'C(element)[T.539]', 'C(element)[T.549]',\n",
    "    'C(element_type)[T.2]', 'C(element_type)[T.3]', 'C(element_type)[T.4]',\n",
    "    'C(team)[T.6]', 'C(team)[T.7]', 'C(team)[T.8]', 'C(team)[T.10]',\n",
    "    'C(team)[T.12]', 'C(team)[T.14]', 'C(team)[T.16]', 'C(team)[T.17]',\n",
    "    'C(team)[T.20]', 'C(opposition_team)[T.2]', 'C(opposition_team)[T.3]',\n",
    "    'C(opposition_team)[T.4]', 'C(opposition_team)[T.5]',\n",
    "    'C(opposition_team)[T.6]', 'C(opposition_team)[T.7]',\n",
    "    'C(opposition_team)[T.8]', 'C(opposition_team)[T.9]',\n",
    "    'C(opposition_team)[T.10]', 'C(opposition_team)[T.12]',\n",
    "    'C(opposition_team)[T.13]', 'C(opposition_team)[T.14]',\n",
    "    'C(opposition_team)[T.15]', 'C(opposition_team)[T.16]',\n",
    "    'C(opposition_team)[T.17]', 'C(opposition_team)[T.18]',\n",
    "    'C(opposition_team)[T.19]', 'C(opposition_team)[T.20]', 'value',\n",
    "    'is_sunday', 'is_weekday', 'rolling_avg_minutes_element_p3',\n",
    "    'rolling_avg_bps_element', 'rolling_avg_goals_scored_element',\n",
    "    'rolling_avg_completed_passes_element', 'rolling_avg_tackled_element',\n",
    "    'rolling_avg_dribbles_element', 'rolling_avg_offside_element',\n",
    "    'rolling_avg_total_points_against_opposition_team',\n",
    "    'expected_avg_total_points_against_opposition_team'\n",
    "]"
   ]
  },
  {
   "cell_type": "code",
   "execution_count": 49,
   "metadata": {
    "ExecuteTime": {
     "end_time": "2019-07-13T17:00:18.934015Z",
     "start_time": "2019-07-13T16:58:38.437961Z"
    },
    "hidden": true
   },
   "outputs": [],
   "source": [
    "linear_svr_y_pred, linear_svr_y_test, linear_svr_df_test = predict_test_set(\n",
    "    element_gameweek_df,\n",
    "    linear_svr_model,\n",
    "    features=linear_svr_features,\n",
    "    standardise=True\n",
    ")"
   ]
  },
  {
   "cell_type": "code",
   "execution_count": 50,
   "metadata": {
    "ExecuteTime": {
     "end_time": "2019-07-13T17:00:18.948862Z",
     "start_time": "2019-07-13T17:00:18.937630Z"
    },
    "hidden": true
   },
   "outputs": [
    {
     "data": {
      "text/plain": [
       "(2.3153025196965364, 9.458455594839448, 0.07924423755140331)"
      ]
     },
     "execution_count": 50,
     "metadata": {},
     "output_type": "execute_result"
    }
   ],
   "source": [
    "linear_svr_test_loss = (\n",
    "    mean_absolute_error(linear_svr_y_test, linear_svr_y_pred),\n",
    "    mean_squared_error(linear_svr_y_test, linear_svr_y_pred),\n",
    "    r2_score(linear_svr_y_test, linear_svr_y_pred)\n",
    ")\n",
    "linear_svr_test_loss"
   ]
  },
  {
   "cell_type": "code",
   "execution_count": 51,
   "metadata": {
    "ExecuteTime": {
     "end_time": "2019-07-13T17:00:19.050301Z",
     "start_time": "2019-07-13T17:00:18.951916Z"
    },
    "hidden": true
   },
   "outputs": [
    {
     "data": {
      "text/html": [
       "<div>\n",
       "<style scoped>\n",
       "    .dataframe tbody tr th:only-of-type {\n",
       "        vertical-align: middle;\n",
       "    }\n",
       "\n",
       "    .dataframe tbody tr th {\n",
       "        vertical-align: top;\n",
       "    }\n",
       "\n",
       "    .dataframe thead th {\n",
       "        text-align: right;\n",
       "    }\n",
       "</style>\n",
       "<table border=\"1\" class=\"dataframe\">\n",
       "  <thead>\n",
       "    <tr style=\"text-align: right;\">\n",
       "      <th></th>\n",
       "      <th>safe_web_name</th>\n",
       "      <th>element</th>\n",
       "      <th>event</th>\n",
       "      <th>fixture</th>\n",
       "      <th>team</th>\n",
       "      <th>opposition_team</th>\n",
       "      <th>was_home</th>\n",
       "      <th>element_type</th>\n",
       "      <th>value</th>\n",
       "      <th>is_sunday</th>\n",
       "      <th>...</th>\n",
       "      <th>rolling_var_total_points_home</th>\n",
       "      <th>rolling_avg_total_points_against_opposition_ground_element_type</th>\n",
       "      <th>rolling_var_total_points_against_opposition_ground_element_type</th>\n",
       "      <th>total_points</th>\n",
       "      <th>minutes</th>\n",
       "      <th>expected_avg_total_points_against_opposition_team</th>\n",
       "      <th>expected_var_total_points_against_opposition_team</th>\n",
       "      <th>expected_avg_total_points_at_ground</th>\n",
       "      <th>expected_var_total_points_at_ground</th>\n",
       "      <th>predicted_total_points</th>\n",
       "    </tr>\n",
       "  </thead>\n",
       "  <tbody>\n",
       "    <tr>\n",
       "      <th>58</th>\n",
       "      <td>leno</td>\n",
       "      <td>2</td>\n",
       "      <td>21</td>\n",
       "      <td>201</td>\n",
       "      <td>1</td>\n",
       "      <td>9</td>\n",
       "      <td>1</td>\n",
       "      <td>1</td>\n",
       "      <td>48</td>\n",
       "      <td>0</td>\n",
       "      <td>...</td>\n",
       "      <td>3.476190</td>\n",
       "      <td>3.000000</td>\n",
       "      <td>3.000000</td>\n",
       "      <td>3</td>\n",
       "      <td>90</td>\n",
       "      <td>2.478082</td>\n",
       "      <td>3.264527</td>\n",
       "      <td>3.142857</td>\n",
       "      <td>3.476190</td>\n",
       "      <td>3.867706</td>\n",
       "    </tr>\n",
       "    <tr>\n",
       "      <th>286</th>\n",
       "      <td>kolasinac</td>\n",
       "      <td>8</td>\n",
       "      <td>21</td>\n",
       "      <td>201</td>\n",
       "      <td>1</td>\n",
       "      <td>9</td>\n",
       "      <td>1</td>\n",
       "      <td>2</td>\n",
       "      <td>49</td>\n",
       "      <td>0</td>\n",
       "      <td>...</td>\n",
       "      <td>9.200000</td>\n",
       "      <td>3.000000</td>\n",
       "      <td>3.000000</td>\n",
       "      <td>7</td>\n",
       "      <td>90</td>\n",
       "      <td>2.415031</td>\n",
       "      <td>11.280897</td>\n",
       "      <td>3.800000</td>\n",
       "      <td>9.200000</td>\n",
       "      <td>3.504317</td>\n",
       "    </tr>\n",
       "    <tr>\n",
       "      <th>324</th>\n",
       "      <td>chambers</td>\n",
       "      <td>9</td>\n",
       "      <td>21</td>\n",
       "      <td>201</td>\n",
       "      <td>9</td>\n",
       "      <td>1</td>\n",
       "      <td>0</td>\n",
       "      <td>2</td>\n",
       "      <td>42</td>\n",
       "      <td>0</td>\n",
       "      <td>...</td>\n",
       "      <td>2.982143</td>\n",
       "      <td>1.666667</td>\n",
       "      <td>7.546099</td>\n",
       "      <td>0</td>\n",
       "      <td>0</td>\n",
       "      <td>0.691897</td>\n",
       "      <td>2.296830</td>\n",
       "      <td>0.675738</td>\n",
       "      <td>2.686572</td>\n",
       "      <td>2.305437</td>\n",
       "    </tr>\n",
       "    <tr>\n",
       "      <th>400</th>\n",
       "      <td>lichtsteiner</td>\n",
       "      <td>11</td>\n",
       "      <td>21</td>\n",
       "      <td>201</td>\n",
       "      <td>1</td>\n",
       "      <td>9</td>\n",
       "      <td>1</td>\n",
       "      <td>2</td>\n",
       "      <td>45</td>\n",
       "      <td>0</td>\n",
       "      <td>...</td>\n",
       "      <td>0.666667</td>\n",
       "      <td>3.000000</td>\n",
       "      <td>3.000000</td>\n",
       "      <td>0</td>\n",
       "      <td>0</td>\n",
       "      <td>0.603758</td>\n",
       "      <td>0.549070</td>\n",
       "      <td>1.000000</td>\n",
       "      <td>0.666667</td>\n",
       "      <td>2.921196</td>\n",
       "    </tr>\n",
       "    <tr>\n",
       "      <th>438</th>\n",
       "      <td>sokratis</td>\n",
       "      <td>12</td>\n",
       "      <td>21</td>\n",
       "      <td>201</td>\n",
       "      <td>1</td>\n",
       "      <td>9</td>\n",
       "      <td>1</td>\n",
       "      <td>2</td>\n",
       "      <td>51</td>\n",
       "      <td>0</td>\n",
       "      <td>...</td>\n",
       "      <td>5.100000</td>\n",
       "      <td>3.000000</td>\n",
       "      <td>3.000000</td>\n",
       "      <td>5</td>\n",
       "      <td>90</td>\n",
       "      <td>1.207515</td>\n",
       "      <td>2.445858</td>\n",
       "      <td>1.500000</td>\n",
       "      <td>5.100000</td>\n",
       "      <td>2.873282</td>\n",
       "    </tr>\n",
       "  </tbody>\n",
       "</table>\n",
       "<p>5 rows × 60 columns</p>\n",
       "</div>"
      ],
      "text/plain": [
       "    safe_web_name  element  event  fixture  team  opposition_team  was_home  \\\n",
       "58           leno        2     21      201     1                9         1   \n",
       "286     kolasinac        8     21      201     1                9         1   \n",
       "324      chambers        9     21      201     9                1         0   \n",
       "400  lichtsteiner       11     21      201     1                9         1   \n",
       "438      sokratis       12     21      201     1                9         1   \n",
       "\n",
       "     element_type  value  is_sunday           ...            \\\n",
       "58              1     48          0           ...             \n",
       "286             2     49          0           ...             \n",
       "324             2     42          0           ...             \n",
       "400             2     45          0           ...             \n",
       "438             2     51          0           ...             \n",
       "\n",
       "     rolling_var_total_points_home  \\\n",
       "58                        3.476190   \n",
       "286                       9.200000   \n",
       "324                       2.982143   \n",
       "400                       0.666667   \n",
       "438                       5.100000   \n",
       "\n",
       "     rolling_avg_total_points_against_opposition_ground_element_type  \\\n",
       "58                                            3.000000                 \n",
       "286                                           3.000000                 \n",
       "324                                           1.666667                 \n",
       "400                                           3.000000                 \n",
       "438                                           3.000000                 \n",
       "\n",
       "     rolling_var_total_points_against_opposition_ground_element_type  \\\n",
       "58                                            3.000000                 \n",
       "286                                           3.000000                 \n",
       "324                                           7.546099                 \n",
       "400                                           3.000000                 \n",
       "438                                           3.000000                 \n",
       "\n",
       "     total_points  minutes  expected_avg_total_points_against_opposition_team  \\\n",
       "58              3       90                                           2.478082   \n",
       "286             7       90                                           2.415031   \n",
       "324             0        0                                           0.691897   \n",
       "400             0        0                                           0.603758   \n",
       "438             5       90                                           1.207515   \n",
       "\n",
       "     expected_var_total_points_against_opposition_team  \\\n",
       "58                                            3.264527   \n",
       "286                                          11.280897   \n",
       "324                                           2.296830   \n",
       "400                                           0.549070   \n",
       "438                                           2.445858   \n",
       "\n",
       "     expected_avg_total_points_at_ground  expected_var_total_points_at_ground  \\\n",
       "58                              3.142857                             3.476190   \n",
       "286                             3.800000                             9.200000   \n",
       "324                             0.675738                             2.686572   \n",
       "400                             1.000000                             0.666667   \n",
       "438                             1.500000                             5.100000   \n",
       "\n",
       "     predicted_total_points  \n",
       "58                 3.867706  \n",
       "286                3.504317  \n",
       "324                2.305437  \n",
       "400                2.921196  \n",
       "438                2.873282  \n",
       "\n",
       "[5 rows x 60 columns]"
      ]
     },
     "execution_count": 51,
     "metadata": {},
     "output_type": "execute_result"
    }
   ],
   "source": [
    "linear_svr_df_test.head()"
   ]
  },
  {
   "cell_type": "code",
   "execution_count": 52,
   "metadata": {
    "ExecuteTime": {
     "end_time": "2019-07-13T17:00:19.615219Z",
     "start_time": "2019-07-13T17:00:19.053499Z"
    },
    "hidden": true
   },
   "outputs": [
    {
     "data": {
      "image/png": "[encoded data removed]",
      "text/plain": [
       "<Figure size 720x576 with 1 Axes>"
      ]
     },
     "metadata": {
      "needs_background": "light"
     },
     "output_type": "display_data"
    }
   ],
   "source": [
    "plt.figure(figsize=(10, 8))\n",
    "plt.hist(pd.Series(linear_svr_y_pred), bins=range(-5,20), alpha=0.75, density=True, label='predicted')\n",
    "plt.hist(pd.Series(linear_svr_y_test), bins=range(-5,20), alpha=0.75, density=True, label='observed')\n",
    "plt.legend()\n",
    "plt.show()"
   ]
  },
  {
   "cell_type": "code",
   "execution_count": 53,
   "metadata": {
    "ExecuteTime": {
     "end_time": "2019-07-13T17:00:20.068166Z",
     "start_time": "2019-07-13T17:00:19.617620Z"
    },
    "hidden": true
   },
   "outputs": [
    {
     "data": {
      "image/png": "[encoded data removed]",
      "text/plain": [
       "<Figure size 720x576 with 1 Axes>"
      ]
     },
     "metadata": {
      "needs_background": "light"
     },
     "output_type": "display_data"
    }
   ],
   "source": [
    "plt.figure(figsize=(10, 8))\n",
    "plt.scatter(pd.Series(linear_svr_y_test), pd.Series(linear_svr_y_pred), alpha=0.1)\n",
    "plt.plot(np.linspace(-5, 25), np.linspace(-5, 25))\n",
    "plt.ylabel('Predicted total points')\n",
    "plt.xlabel('Observed total points')\n",
    "plt.ylim((-3, 12))\n",
    "plt.show()"
   ]
  },
  {
   "cell_type": "markdown",
   "metadata": {
    "heading_collapsed": true,
    "hidden": true
   },
   "source": [
    "### Decision tree (lush)"
   ]
  },
  {
   "cell_type": "code",
   "execution_count": 113,
   "metadata": {
    "ExecuteTime": {
     "end_time": "2019-07-14T12:08:09.993776Z",
     "start_time": "2019-07-14T12:08:09.987639Z"
    },
    "hidden": true
   },
   "outputs": [],
   "source": [
    "lush_tree_model = DecisionTreeRegressor(random_state=0, min_samples_leaf=0.065, max_features=0.45)"
   ]
  },
  {
   "cell_type": "code",
   "execution_count": 114,
   "metadata": {
    "ExecuteTime": {
     "end_time": "2019-07-14T12:08:17.301155Z",
     "start_time": "2019-07-14T12:08:10.325716Z"
    },
    "hidden": true
   },
   "outputs": [],
   "source": [
    "lush_tree_y_pred, lush_tree_y_test, lush_tree_df_test = predict_test_set(\n",
    "    element_gameweek_df,\n",
    "    lush_tree_model,\n",
    "    standardise=False\n",
    ")"
   ]
  },
  {
   "cell_type": "code",
   "execution_count": 115,
   "metadata": {
    "ExecuteTime": {
     "end_time": "2019-07-14T12:08:17.315210Z",
     "start_time": "2019-07-14T12:08:17.304226Z"
    },
    "hidden": true
   },
   "outputs": [
    {
     "data": {
      "text/plain": [
       "(2.0440485849020043, 8.314565096686975, 0.1905989674249292)"
      ]
     },
     "execution_count": 115,
     "metadata": {},
     "output_type": "execute_result"
    }
   ],
   "source": [
    "lush_tree_test_loss = (\n",
    "    mean_absolute_error(lush_tree_y_test, lush_tree_y_pred),\n",
    "    mean_squared_error(lush_tree_y_test, lush_tree_y_pred),\n",
    "    r2_score(lush_tree_y_test, lush_tree_y_pred)\n",
    ")\n",
    "lush_tree_test_loss"
   ]
  },
  {
   "cell_type": "code",
   "execution_count": 77,
   "metadata": {
    "ExecuteTime": {
     "end_time": "2019-07-14T09:56:19.328464Z",
     "start_time": "2019-07-14T09:56:19.253104Z"
    },
    "hidden": true
   },
   "outputs": [
    {
     "data": {
      "text/html": [
       "<div>\n",
       "<style scoped>\n",
       "    .dataframe tbody tr th:only-of-type {\n",
       "        vertical-align: middle;\n",
       "    }\n",
       "\n",
       "    .dataframe tbody tr th {\n",
       "        vertical-align: top;\n",
       "    }\n",
       "\n",
       "    .dataframe thead th {\n",
       "        text-align: right;\n",
       "    }\n",
       "</style>\n",
       "<table border=\"1\" class=\"dataframe\">\n",
       "  <thead>\n",
       "    <tr style=\"text-align: right;\">\n",
       "      <th></th>\n",
       "      <th>safe_web_name</th>\n",
       "      <th>element</th>\n",
       "      <th>event</th>\n",
       "      <th>fixture</th>\n",
       "      <th>team</th>\n",
       "      <th>opposition_team</th>\n",
       "      <th>was_home</th>\n",
       "      <th>element_type</th>\n",
       "      <th>value</th>\n",
       "      <th>is_sunday</th>\n",
       "      <th>...</th>\n",
       "      <th>rolling_var_total_points_home</th>\n",
       "      <th>rolling_avg_total_points_against_opposition_ground_element_type</th>\n",
       "      <th>rolling_var_total_points_against_opposition_ground_element_type</th>\n",
       "      <th>total_points</th>\n",
       "      <th>minutes</th>\n",
       "      <th>expected_avg_total_points_against_opposition_team</th>\n",
       "      <th>expected_var_total_points_against_opposition_team</th>\n",
       "      <th>expected_avg_total_points_at_ground</th>\n",
       "      <th>expected_var_total_points_at_ground</th>\n",
       "      <th>predicted_total_points</th>\n",
       "    </tr>\n",
       "  </thead>\n",
       "  <tbody>\n",
       "    <tr>\n",
       "      <th>58</th>\n",
       "      <td>leno</td>\n",
       "      <td>2</td>\n",
       "      <td>21</td>\n",
       "      <td>201</td>\n",
       "      <td>1</td>\n",
       "      <td>9</td>\n",
       "      <td>1</td>\n",
       "      <td>1</td>\n",
       "      <td>48</td>\n",
       "      <td>0</td>\n",
       "      <td>...</td>\n",
       "      <td>3.476190</td>\n",
       "      <td>3.000000</td>\n",
       "      <td>3.000000</td>\n",
       "      <td>3</td>\n",
       "      <td>90</td>\n",
       "      <td>2.478082</td>\n",
       "      <td>3.264527</td>\n",
       "      <td>3.142857</td>\n",
       "      <td>3.476190</td>\n",
       "      <td>3.012658</td>\n",
       "    </tr>\n",
       "    <tr>\n",
       "      <th>286</th>\n",
       "      <td>kolasinac</td>\n",
       "      <td>8</td>\n",
       "      <td>21</td>\n",
       "      <td>201</td>\n",
       "      <td>1</td>\n",
       "      <td>9</td>\n",
       "      <td>1</td>\n",
       "      <td>2</td>\n",
       "      <td>49</td>\n",
       "      <td>0</td>\n",
       "      <td>...</td>\n",
       "      <td>9.200000</td>\n",
       "      <td>3.000000</td>\n",
       "      <td>3.000000</td>\n",
       "      <td>7</td>\n",
       "      <td>90</td>\n",
       "      <td>2.415031</td>\n",
       "      <td>11.280897</td>\n",
       "      <td>3.800000</td>\n",
       "      <td>9.200000</td>\n",
       "      <td>3.492958</td>\n",
       "    </tr>\n",
       "    <tr>\n",
       "      <th>324</th>\n",
       "      <td>chambers</td>\n",
       "      <td>9</td>\n",
       "      <td>21</td>\n",
       "      <td>201</td>\n",
       "      <td>9</td>\n",
       "      <td>1</td>\n",
       "      <td>0</td>\n",
       "      <td>2</td>\n",
       "      <td>42</td>\n",
       "      <td>0</td>\n",
       "      <td>...</td>\n",
       "      <td>2.982143</td>\n",
       "      <td>1.666667</td>\n",
       "      <td>7.546099</td>\n",
       "      <td>0</td>\n",
       "      <td>0</td>\n",
       "      <td>0.691897</td>\n",
       "      <td>2.296830</td>\n",
       "      <td>0.675738</td>\n",
       "      <td>2.686572</td>\n",
       "      <td>0.406650</td>\n",
       "    </tr>\n",
       "    <tr>\n",
       "      <th>400</th>\n",
       "      <td>lichtsteiner</td>\n",
       "      <td>11</td>\n",
       "      <td>21</td>\n",
       "      <td>201</td>\n",
       "      <td>1</td>\n",
       "      <td>9</td>\n",
       "      <td>1</td>\n",
       "      <td>2</td>\n",
       "      <td>45</td>\n",
       "      <td>0</td>\n",
       "      <td>...</td>\n",
       "      <td>0.666667</td>\n",
       "      <td>3.000000</td>\n",
       "      <td>3.000000</td>\n",
       "      <td>0</td>\n",
       "      <td>0</td>\n",
       "      <td>0.603758</td>\n",
       "      <td>0.549070</td>\n",
       "      <td>1.000000</td>\n",
       "      <td>0.666667</td>\n",
       "      <td>0.406650</td>\n",
       "    </tr>\n",
       "    <tr>\n",
       "      <th>438</th>\n",
       "      <td>sokratis</td>\n",
       "      <td>12</td>\n",
       "      <td>21</td>\n",
       "      <td>201</td>\n",
       "      <td>1</td>\n",
       "      <td>9</td>\n",
       "      <td>1</td>\n",
       "      <td>2</td>\n",
       "      <td>51</td>\n",
       "      <td>0</td>\n",
       "      <td>...</td>\n",
       "      <td>5.100000</td>\n",
       "      <td>3.000000</td>\n",
       "      <td>3.000000</td>\n",
       "      <td>5</td>\n",
       "      <td>90</td>\n",
       "      <td>1.207515</td>\n",
       "      <td>2.445858</td>\n",
       "      <td>1.500000</td>\n",
       "      <td>5.100000</td>\n",
       "      <td>3.492958</td>\n",
       "    </tr>\n",
       "  </tbody>\n",
       "</table>\n",
       "<p>5 rows × 60 columns</p>\n",
       "</div>"
      ],
      "text/plain": [
       "    safe_web_name  element  event  fixture  team  opposition_team  was_home  \\\n",
       "58           leno        2     21      201     1                9         1   \n",
       "286     kolasinac        8     21      201     1                9         1   \n",
       "324      chambers        9     21      201     9                1         0   \n",
       "400  lichtsteiner       11     21      201     1                9         1   \n",
       "438      sokratis       12     21      201     1                9         1   \n",
       "\n",
       "     element_type  value  is_sunday           ...            \\\n",
       "58              1     48          0           ...             \n",
       "286             2     49          0           ...             \n",
       "324             2     42          0           ...             \n",
       "400             2     45          0           ...             \n",
       "438             2     51          0           ...             \n",
       "\n",
       "     rolling_var_total_points_home  \\\n",
       "58                        3.476190   \n",
       "286                       9.200000   \n",
       "324                       2.982143   \n",
       "400                       0.666667   \n",
       "438                       5.100000   \n",
       "\n",
       "     rolling_avg_total_points_against_opposition_ground_element_type  \\\n",
       "58                                            3.000000                 \n",
       "286                                           3.000000                 \n",
       "324                                           1.666667                 \n",
       "400                                           3.000000                 \n",
       "438                                           3.000000                 \n",
       "\n",
       "     rolling_var_total_points_against_opposition_ground_element_type  \\\n",
       "58                                            3.000000                 \n",
       "286                                           3.000000                 \n",
       "324                                           7.546099                 \n",
       "400                                           3.000000                 \n",
       "438                                           3.000000                 \n",
       "\n",
       "     total_points  minutes  expected_avg_total_points_against_opposition_team  \\\n",
       "58              3       90                                           2.478082   \n",
       "286             7       90                                           2.415031   \n",
       "324             0        0                                           0.691897   \n",
       "400             0        0                                           0.603758   \n",
       "438             5       90                                           1.207515   \n",
       "\n",
       "     expected_var_total_points_against_opposition_team  \\\n",
       "58                                            3.264527   \n",
       "286                                          11.280897   \n",
       "324                                           2.296830   \n",
       "400                                           0.549070   \n",
       "438                                           2.445858   \n",
       "\n",
       "     expected_avg_total_points_at_ground  expected_var_total_points_at_ground  \\\n",
       "58                              3.142857                             3.476190   \n",
       "286                             3.800000                             9.200000   \n",
       "324                             0.675738                             2.686572   \n",
       "400                             1.000000                             0.666667   \n",
       "438                             1.500000                             5.100000   \n",
       "\n",
       "     predicted_total_points  \n",
       "58                 3.012658  \n",
       "286                3.492958  \n",
       "324                0.406650  \n",
       "400                0.406650  \n",
       "438                3.492958  \n",
       "\n",
       "[5 rows x 60 columns]"
      ]
     },
     "execution_count": 77,
     "metadata": {},
     "output_type": "execute_result"
    }
   ],
   "source": [
    "lush_tree_df_test.head()"
   ]
  },
  {
   "cell_type": "code",
   "execution_count": 78,
   "metadata": {
    "ExecuteTime": {
     "end_time": "2019-07-14T09:56:19.936274Z",
     "start_time": "2019-07-14T09:56:19.331387Z"
    },
    "hidden": true
   },
   "outputs": [
    {
     "data": {
      "image/png": "[encoded data removed]",
      "text/plain": [
       "<Figure size 720x576 with 1 Axes>"
      ]
     },
     "metadata": {
      "needs_background": "light"
     },
     "output_type": "display_data"
    }
   ],
   "source": [
    "plt.figure(figsize=(10, 8))\n",
    "plt.hist(pd.Series(lush_tree_y_pred), bins=range(-5,20), alpha=0.75, density=True, label='predicted')\n",
    "plt.hist(pd.Series(lush_tree_y_test), bins=range(-5,20), alpha=0.75, density=True, label='observed')\n",
    "plt.legend()\n",
    "plt.show()"
   ]
  },
  {
   "cell_type": "code",
   "execution_count": 79,
   "metadata": {
    "ExecuteTime": {
     "end_time": "2019-07-14T09:56:20.404605Z",
     "start_time": "2019-07-14T09:56:19.940445Z"
    },
    "hidden": true
   },
   "outputs": [
    {
     "data": {
      "image/png": "[encoded data removed]",
      "text/plain": [
       "<Figure size 720x576 with 1 Axes>"
      ]
     },
     "metadata": {
      "needs_background": "light"
     },
     "output_type": "display_data"
    }
   ],
   "source": [
    "plt.figure(figsize=(10, 8))\n",
    "plt.scatter(pd.Series(lush_tree_y_test), pd.Series(lush_tree_y_pred), alpha=0.1)\n",
    "plt.plot(np.linspace(-5, 25), np.linspace(-5, 25))\n",
    "plt.ylabel('Predicted total points')\n",
    "plt.xlabel('Observed total points')\n",
    "plt.ylim((-3, 12))\n",
    "plt.show()"
   ]
  },
  {
   "cell_type": "markdown",
   "metadata": {
    "heading_collapsed": true,
    "hidden": true
   },
   "source": [
    "### Decision tree (stark)"
   ]
  },
  {
   "cell_type": "code",
   "execution_count": 92,
   "metadata": {
    "ExecuteTime": {
     "end_time": "2019-07-14T10:05:14.218826Z",
     "start_time": "2019-07-14T10:05:14.213607Z"
    },
    "hidden": true
   },
   "outputs": [],
   "source": [
    "stark_tree_model = DecisionTreeRegressor(random_state=0, min_samples_leaf=0.027)"
   ]
  },
  {
   "cell_type": "code",
   "execution_count": 93,
   "metadata": {
    "ExecuteTime": {
     "end_time": "2019-07-14T10:05:15.090912Z",
     "start_time": "2019-07-14T10:05:15.085684Z"
    },
    "hidden": true
   },
   "outputs": [],
   "source": [
    "stark_tree_features = ['value', 'expected_avg_total_points_against_opposition_team']"
   ]
  },
  {
   "cell_type": "code",
   "execution_count": 94,
   "metadata": {
    "ExecuteTime": {
     "end_time": "2019-07-14T10:05:23.895422Z",
     "start_time": "2019-07-14T10:05:15.845734Z"
    },
    "hidden": true
   },
   "outputs": [],
   "source": [
    "stark_tree_y_pred, stark_tree_y_test, stark_tree_df_test = predict_test_set(\n",
    "    element_gameweek_df,\n",
    "    stark_tree_model,\n",
    "    standardise=False\n",
    ")"
   ]
  },
  {
   "cell_type": "code",
   "execution_count": 95,
   "metadata": {
    "ExecuteTime": {
     "end_time": "2019-07-14T10:05:23.911607Z",
     "start_time": "2019-07-14T10:05:23.900658Z"
    },
    "hidden": true
   },
   "outputs": [
    {
     "data": {
      "text/plain": [
       "(1.9837246304008165, 8.192880204117534, 0.20244467150555945)"
      ]
     },
     "execution_count": 95,
     "metadata": {},
     "output_type": "execute_result"
    }
   ],
   "source": [
    "stark_tree_test_loss = (\n",
    "    mean_absolute_error(stark_tree_y_test, stark_tree_y_pred),\n",
    "    mean_squared_error(stark_tree_y_test, stark_tree_y_pred),\n",
    "    r2_score(stark_tree_y_test, stark_tree_y_pred)\n",
    ")\n",
    "stark_tree_test_loss"
   ]
  },
  {
   "cell_type": "code",
   "execution_count": 96,
   "metadata": {
    "ExecuteTime": {
     "end_time": "2019-07-14T10:05:23.991196Z",
     "start_time": "2019-07-14T10:05:23.915625Z"
    },
    "hidden": true
   },
   "outputs": [
    {
     "data": {
      "text/html": [
       "<div>\n",
       "<style scoped>\n",
       "    .dataframe tbody tr th:only-of-type {\n",
       "        vertical-align: middle;\n",
       "    }\n",
       "\n",
       "    .dataframe tbody tr th {\n",
       "        vertical-align: top;\n",
       "    }\n",
       "\n",
       "    .dataframe thead th {\n",
       "        text-align: right;\n",
       "    }\n",
       "</style>\n",
       "<table border=\"1\" class=\"dataframe\">\n",
       "  <thead>\n",
       "    <tr style=\"text-align: right;\">\n",
       "      <th></th>\n",
       "      <th>safe_web_name</th>\n",
       "      <th>element</th>\n",
       "      <th>event</th>\n",
       "      <th>fixture</th>\n",
       "      <th>team</th>\n",
       "      <th>opposition_team</th>\n",
       "      <th>was_home</th>\n",
       "      <th>element_type</th>\n",
       "      <th>value</th>\n",
       "      <th>is_sunday</th>\n",
       "      <th>...</th>\n",
       "      <th>rolling_var_total_points_home</th>\n",
       "      <th>rolling_avg_total_points_against_opposition_ground_element_type</th>\n",
       "      <th>rolling_var_total_points_against_opposition_ground_element_type</th>\n",
       "      <th>total_points</th>\n",
       "      <th>minutes</th>\n",
       "      <th>expected_avg_total_points_against_opposition_team</th>\n",
       "      <th>expected_var_total_points_against_opposition_team</th>\n",
       "      <th>expected_avg_total_points_at_ground</th>\n",
       "      <th>expected_var_total_points_at_ground</th>\n",
       "      <th>predicted_total_points</th>\n",
       "    </tr>\n",
       "  </thead>\n",
       "  <tbody>\n",
       "    <tr>\n",
       "      <th>58</th>\n",
       "      <td>leno</td>\n",
       "      <td>2</td>\n",
       "      <td>21</td>\n",
       "      <td>201</td>\n",
       "      <td>1</td>\n",
       "      <td>9</td>\n",
       "      <td>1</td>\n",
       "      <td>1</td>\n",
       "      <td>48</td>\n",
       "      <td>0</td>\n",
       "      <td>...</td>\n",
       "      <td>3.476190</td>\n",
       "      <td>3.000000</td>\n",
       "      <td>3.000000</td>\n",
       "      <td>3</td>\n",
       "      <td>90</td>\n",
       "      <td>2.478082</td>\n",
       "      <td>3.264527</td>\n",
       "      <td>3.142857</td>\n",
       "      <td>3.476190</td>\n",
       "      <td>4.661017</td>\n",
       "    </tr>\n",
       "    <tr>\n",
       "      <th>286</th>\n",
       "      <td>kolasinac</td>\n",
       "      <td>8</td>\n",
       "      <td>21</td>\n",
       "      <td>201</td>\n",
       "      <td>1</td>\n",
       "      <td>9</td>\n",
       "      <td>1</td>\n",
       "      <td>2</td>\n",
       "      <td>49</td>\n",
       "      <td>0</td>\n",
       "      <td>...</td>\n",
       "      <td>9.200000</td>\n",
       "      <td>3.000000</td>\n",
       "      <td>3.000000</td>\n",
       "      <td>7</td>\n",
       "      <td>90</td>\n",
       "      <td>2.415031</td>\n",
       "      <td>11.280897</td>\n",
       "      <td>3.800000</td>\n",
       "      <td>9.200000</td>\n",
       "      <td>4.661017</td>\n",
       "    </tr>\n",
       "    <tr>\n",
       "      <th>324</th>\n",
       "      <td>chambers</td>\n",
       "      <td>9</td>\n",
       "      <td>21</td>\n",
       "      <td>201</td>\n",
       "      <td>9</td>\n",
       "      <td>1</td>\n",
       "      <td>0</td>\n",
       "      <td>2</td>\n",
       "      <td>42</td>\n",
       "      <td>0</td>\n",
       "      <td>...</td>\n",
       "      <td>2.982143</td>\n",
       "      <td>1.666667</td>\n",
       "      <td>7.546099</td>\n",
       "      <td>0</td>\n",
       "      <td>0</td>\n",
       "      <td>0.691897</td>\n",
       "      <td>2.296830</td>\n",
       "      <td>0.675738</td>\n",
       "      <td>2.686572</td>\n",
       "      <td>0.000000</td>\n",
       "    </tr>\n",
       "    <tr>\n",
       "      <th>400</th>\n",
       "      <td>lichtsteiner</td>\n",
       "      <td>11</td>\n",
       "      <td>21</td>\n",
       "      <td>201</td>\n",
       "      <td>1</td>\n",
       "      <td>9</td>\n",
       "      <td>1</td>\n",
       "      <td>2</td>\n",
       "      <td>45</td>\n",
       "      <td>0</td>\n",
       "      <td>...</td>\n",
       "      <td>0.666667</td>\n",
       "      <td>3.000000</td>\n",
       "      <td>3.000000</td>\n",
       "      <td>0</td>\n",
       "      <td>0</td>\n",
       "      <td>0.603758</td>\n",
       "      <td>0.549070</td>\n",
       "      <td>1.000000</td>\n",
       "      <td>0.666667</td>\n",
       "      <td>0.000000</td>\n",
       "    </tr>\n",
       "    <tr>\n",
       "      <th>438</th>\n",
       "      <td>sokratis</td>\n",
       "      <td>12</td>\n",
       "      <td>21</td>\n",
       "      <td>201</td>\n",
       "      <td>1</td>\n",
       "      <td>9</td>\n",
       "      <td>1</td>\n",
       "      <td>2</td>\n",
       "      <td>51</td>\n",
       "      <td>0</td>\n",
       "      <td>...</td>\n",
       "      <td>5.100000</td>\n",
       "      <td>3.000000</td>\n",
       "      <td>3.000000</td>\n",
       "      <td>5</td>\n",
       "      <td>90</td>\n",
       "      <td>1.207515</td>\n",
       "      <td>2.445858</td>\n",
       "      <td>1.500000</td>\n",
       "      <td>5.100000</td>\n",
       "      <td>4.661017</td>\n",
       "    </tr>\n",
       "  </tbody>\n",
       "</table>\n",
       "<p>5 rows × 60 columns</p>\n",
       "</div>"
      ],
      "text/plain": [
       "    safe_web_name  element  event  fixture  team  opposition_team  was_home  \\\n",
       "58           leno        2     21      201     1                9         1   \n",
       "286     kolasinac        8     21      201     1                9         1   \n",
       "324      chambers        9     21      201     9                1         0   \n",
       "400  lichtsteiner       11     21      201     1                9         1   \n",
       "438      sokratis       12     21      201     1                9         1   \n",
       "\n",
       "     element_type  value  is_sunday           ...            \\\n",
       "58              1     48          0           ...             \n",
       "286             2     49          0           ...             \n",
       "324             2     42          0           ...             \n",
       "400             2     45          0           ...             \n",
       "438             2     51          0           ...             \n",
       "\n",
       "     rolling_var_total_points_home  \\\n",
       "58                        3.476190   \n",
       "286                       9.200000   \n",
       "324                       2.982143   \n",
       "400                       0.666667   \n",
       "438                       5.100000   \n",
       "\n",
       "     rolling_avg_total_points_against_opposition_ground_element_type  \\\n",
       "58                                            3.000000                 \n",
       "286                                           3.000000                 \n",
       "324                                           1.666667                 \n",
       "400                                           3.000000                 \n",
       "438                                           3.000000                 \n",
       "\n",
       "     rolling_var_total_points_against_opposition_ground_element_type  \\\n",
       "58                                            3.000000                 \n",
       "286                                           3.000000                 \n",
       "324                                           7.546099                 \n",
       "400                                           3.000000                 \n",
       "438                                           3.000000                 \n",
       "\n",
       "     total_points  minutes  expected_avg_total_points_against_opposition_team  \\\n",
       "58              3       90                                           2.478082   \n",
       "286             7       90                                           2.415031   \n",
       "324             0        0                                           0.691897   \n",
       "400             0        0                                           0.603758   \n",
       "438             5       90                                           1.207515   \n",
       "\n",
       "     expected_var_total_points_against_opposition_team  \\\n",
       "58                                            3.264527   \n",
       "286                                          11.280897   \n",
       "324                                           2.296830   \n",
       "400                                           0.549070   \n",
       "438                                           2.445858   \n",
       "\n",
       "     expected_avg_total_points_at_ground  expected_var_total_points_at_ground  \\\n",
       "58                              3.142857                             3.476190   \n",
       "286                             3.800000                             9.200000   \n",
       "324                             0.675738                             2.686572   \n",
       "400                             1.000000                             0.666667   \n",
       "438                             1.500000                             5.100000   \n",
       "\n",
       "     predicted_total_points  \n",
       "58                 4.661017  \n",
       "286                4.661017  \n",
       "324                0.000000  \n",
       "400                0.000000  \n",
       "438                4.661017  \n",
       "\n",
       "[5 rows x 60 columns]"
      ]
     },
     "execution_count": 96,
     "metadata": {},
     "output_type": "execute_result"
    }
   ],
   "source": [
    "stark_tree_df_test.head()"
   ]
  },
  {
   "cell_type": "code",
   "execution_count": 97,
   "metadata": {
    "ExecuteTime": {
     "end_time": "2019-07-14T10:05:24.618607Z",
     "start_time": "2019-07-14T10:05:23.995799Z"
    },
    "hidden": true
   },
   "outputs": [
    {
     "data": {
      "image/png": "[encoded data removed]",
      "text/plain": [
       "<Figure size 720x576 with 1 Axes>"
      ]
     },
     "metadata": {
      "needs_background": "light"
     },
     "output_type": "display_data"
    }
   ],
   "source": [
    "plt.figure(figsize=(10, 8))\n",
    "plt.hist(pd.Series(stark_tree_y_pred), bins=range(-5,20), alpha=0.75, density=True, label='predicted')\n",
    "plt.hist(pd.Series(stark_tree_y_test), bins=range(-5,20), alpha=0.75, density=True, label='observed')\n",
    "plt.legend()\n",
    "plt.show()"
   ]
  },
  {
   "cell_type": "code",
   "execution_count": 98,
   "metadata": {
    "ExecuteTime": {
     "end_time": "2019-07-14T10:05:25.058492Z",
     "start_time": "2019-07-14T10:05:24.621325Z"
    },
    "hidden": true
   },
   "outputs": [
    {
     "data": {
      "image/png": "[encoded data removed]",
      "text/plain": [
       "<Figure size 720x576 with 1 Axes>"
      ]
     },
     "metadata": {
      "needs_background": "light"
     },
     "output_type": "display_data"
    }
   ],
   "source": [
    "plt.figure(figsize=(10, 8))\n",
    "plt.scatter(pd.Series(stark_tree_y_test), pd.Series(stark_tree_y_pred), alpha=0.1)\n",
    "plt.plot(np.linspace(-5, 25), np.linspace(-5, 25))\n",
    "plt.ylabel('Predicted total points')\n",
    "plt.xlabel('Observed total points')\n",
    "plt.ylim((-3, 12))\n",
    "plt.show()"
   ]
  },
  {
   "cell_type": "markdown",
   "metadata": {
    "heading_collapsed": true,
    "hidden": true
   },
   "source": [
    "### Random forest (lush)"
   ]
  },
  {
   "cell_type": "code",
   "execution_count": 129,
   "metadata": {
    "ExecuteTime": {
     "end_time": "2019-07-14T14:32:30.770621Z",
     "start_time": "2019-07-14T14:32:30.766301Z"
    },
    "hidden": true
   },
   "outputs": [],
   "source": [
    "lush_forest_model = RandomForestRegressor(n_estimators=120,\n",
    "                                          min_samples_leaf=0.015,\n",
    "                                          max_features=0.84,\n",
    "                                          random_state=0)"
   ]
  },
  {
   "cell_type": "code",
   "execution_count": 130,
   "metadata": {
    "ExecuteTime": {
     "end_time": "2019-07-14T14:34:42.289678Z",
     "start_time": "2019-07-14T14:32:31.595913Z"
    },
    "hidden": true
   },
   "outputs": [],
   "source": [
    "lush_forest_y_pred, lush_forest_y_test, lush_forest_df_test = predict_test_set(\n",
    "    element_gameweek_df,\n",
    "    lush_forest_model,\n",
    "    standardise=False\n",
    ")"
   ]
  },
  {
   "cell_type": "code",
   "execution_count": 131,
   "metadata": {
    "ExecuteTime": {
     "end_time": "2019-07-14T14:34:42.298918Z",
     "start_time": "2019-07-14T14:34:42.292594Z"
    },
    "hidden": true
   },
   "outputs": [
    {
     "data": {
      "text/plain": [
       "(1.9547625616406417, 7.906712673807179, 0.2303023275379782)"
      ]
     },
     "execution_count": 131,
     "metadata": {},
     "output_type": "execute_result"
    }
   ],
   "source": [
    "lush_forest_test_loss = (\n",
    "    mean_absolute_error(lush_forest_y_test, lush_forest_y_pred),\n",
    "    mean_squared_error(lush_forest_y_test, lush_forest_y_pred),\n",
    "    r2_score(lush_forest_y_test, lush_forest_y_pred)\n",
    ")\n",
    "lush_forest_test_loss"
   ]
  },
  {
   "cell_type": "code",
   "execution_count": 132,
   "metadata": {
    "ExecuteTime": {
     "end_time": "2019-07-14T14:34:42.399437Z",
     "start_time": "2019-07-14T14:34:42.300871Z"
    },
    "hidden": true
   },
   "outputs": [
    {
     "data": {
      "text/html": [
       "<div>\n",
       "<style scoped>\n",
       "    .dataframe tbody tr th:only-of-type {\n",
       "        vertical-align: middle;\n",
       "    }\n",
       "\n",
       "    .dataframe tbody tr th {\n",
       "        vertical-align: top;\n",
       "    }\n",
       "\n",
       "    .dataframe thead th {\n",
       "        text-align: right;\n",
       "    }\n",
       "</style>\n",
       "<table border=\"1\" class=\"dataframe\">\n",
       "  <thead>\n",
       "    <tr style=\"text-align: right;\">\n",
       "      <th></th>\n",
       "      <th>safe_web_name</th>\n",
       "      <th>element</th>\n",
       "      <th>event</th>\n",
       "      <th>fixture</th>\n",
       "      <th>team</th>\n",
       "      <th>opposition_team</th>\n",
       "      <th>was_home</th>\n",
       "      <th>element_type</th>\n",
       "      <th>value</th>\n",
       "      <th>is_sunday</th>\n",
       "      <th>...</th>\n",
       "      <th>rolling_var_total_points_home</th>\n",
       "      <th>rolling_avg_total_points_against_opposition_ground_element_type</th>\n",
       "      <th>rolling_var_total_points_against_opposition_ground_element_type</th>\n",
       "      <th>total_points</th>\n",
       "      <th>minutes</th>\n",
       "      <th>expected_avg_total_points_against_opposition_team</th>\n",
       "      <th>expected_var_total_points_against_opposition_team</th>\n",
       "      <th>expected_avg_total_points_at_ground</th>\n",
       "      <th>expected_var_total_points_at_ground</th>\n",
       "      <th>predicted_total_points</th>\n",
       "    </tr>\n",
       "  </thead>\n",
       "  <tbody>\n",
       "    <tr>\n",
       "      <th>58</th>\n",
       "      <td>leno</td>\n",
       "      <td>2</td>\n",
       "      <td>21</td>\n",
       "      <td>201</td>\n",
       "      <td>1</td>\n",
       "      <td>9</td>\n",
       "      <td>1</td>\n",
       "      <td>1</td>\n",
       "      <td>48</td>\n",
       "      <td>0</td>\n",
       "      <td>...</td>\n",
       "      <td>3.476190</td>\n",
       "      <td>3.000000</td>\n",
       "      <td>3.000000</td>\n",
       "      <td>3</td>\n",
       "      <td>90</td>\n",
       "      <td>2.478082</td>\n",
       "      <td>3.264527</td>\n",
       "      <td>3.142857</td>\n",
       "      <td>3.476190</td>\n",
       "      <td>4.049185</td>\n",
       "    </tr>\n",
       "    <tr>\n",
       "      <th>286</th>\n",
       "      <td>kolasinac</td>\n",
       "      <td>8</td>\n",
       "      <td>21</td>\n",
       "      <td>201</td>\n",
       "      <td>1</td>\n",
       "      <td>9</td>\n",
       "      <td>1</td>\n",
       "      <td>2</td>\n",
       "      <td>49</td>\n",
       "      <td>0</td>\n",
       "      <td>...</td>\n",
       "      <td>9.200000</td>\n",
       "      <td>3.000000</td>\n",
       "      <td>3.000000</td>\n",
       "      <td>7</td>\n",
       "      <td>90</td>\n",
       "      <td>2.415031</td>\n",
       "      <td>11.280897</td>\n",
       "      <td>3.800000</td>\n",
       "      <td>9.200000</td>\n",
       "      <td>3.962112</td>\n",
       "    </tr>\n",
       "    <tr>\n",
       "      <th>324</th>\n",
       "      <td>chambers</td>\n",
       "      <td>9</td>\n",
       "      <td>21</td>\n",
       "      <td>201</td>\n",
       "      <td>9</td>\n",
       "      <td>1</td>\n",
       "      <td>0</td>\n",
       "      <td>2</td>\n",
       "      <td>42</td>\n",
       "      <td>0</td>\n",
       "      <td>...</td>\n",
       "      <td>2.982143</td>\n",
       "      <td>1.666667</td>\n",
       "      <td>7.546099</td>\n",
       "      <td>0</td>\n",
       "      <td>0</td>\n",
       "      <td>0.691897</td>\n",
       "      <td>2.296830</td>\n",
       "      <td>0.675738</td>\n",
       "      <td>2.686572</td>\n",
       "      <td>0.013684</td>\n",
       "    </tr>\n",
       "    <tr>\n",
       "      <th>400</th>\n",
       "      <td>lichtsteiner</td>\n",
       "      <td>11</td>\n",
       "      <td>21</td>\n",
       "      <td>201</td>\n",
       "      <td>1</td>\n",
       "      <td>9</td>\n",
       "      <td>1</td>\n",
       "      <td>2</td>\n",
       "      <td>45</td>\n",
       "      <td>0</td>\n",
       "      <td>...</td>\n",
       "      <td>0.666667</td>\n",
       "      <td>3.000000</td>\n",
       "      <td>3.000000</td>\n",
       "      <td>0</td>\n",
       "      <td>0</td>\n",
       "      <td>0.603758</td>\n",
       "      <td>0.549070</td>\n",
       "      <td>1.000000</td>\n",
       "      <td>0.666667</td>\n",
       "      <td>0.011490</td>\n",
       "    </tr>\n",
       "    <tr>\n",
       "      <th>438</th>\n",
       "      <td>sokratis</td>\n",
       "      <td>12</td>\n",
       "      <td>21</td>\n",
       "      <td>201</td>\n",
       "      <td>1</td>\n",
       "      <td>9</td>\n",
       "      <td>1</td>\n",
       "      <td>2</td>\n",
       "      <td>51</td>\n",
       "      <td>0</td>\n",
       "      <td>...</td>\n",
       "      <td>5.100000</td>\n",
       "      <td>3.000000</td>\n",
       "      <td>3.000000</td>\n",
       "      <td>5</td>\n",
       "      <td>90</td>\n",
       "      <td>1.207515</td>\n",
       "      <td>2.445858</td>\n",
       "      <td>1.500000</td>\n",
       "      <td>5.100000</td>\n",
       "      <td>3.596815</td>\n",
       "    </tr>\n",
       "  </tbody>\n",
       "</table>\n",
       "<p>5 rows × 60 columns</p>\n",
       "</div>"
      ],
      "text/plain": [
       "    safe_web_name  element  event  fixture  team  opposition_team  was_home  \\\n",
       "58           leno        2     21      201     1                9         1   \n",
       "286     kolasinac        8     21      201     1                9         1   \n",
       "324      chambers        9     21      201     9                1         0   \n",
       "400  lichtsteiner       11     21      201     1                9         1   \n",
       "438      sokratis       12     21      201     1                9         1   \n",
       "\n",
       "     element_type  value  is_sunday           ...            \\\n",
       "58              1     48          0           ...             \n",
       "286             2     49          0           ...             \n",
       "324             2     42          0           ...             \n",
       "400             2     45          0           ...             \n",
       "438             2     51          0           ...             \n",
       "\n",
       "     rolling_var_total_points_home  \\\n",
       "58                        3.476190   \n",
       "286                       9.200000   \n",
       "324                       2.982143   \n",
       "400                       0.666667   \n",
       "438                       5.100000   \n",
       "\n",
       "     rolling_avg_total_points_against_opposition_ground_element_type  \\\n",
       "58                                            3.000000                 \n",
       "286                                           3.000000                 \n",
       "324                                           1.666667                 \n",
       "400                                           3.000000                 \n",
       "438                                           3.000000                 \n",
       "\n",
       "     rolling_var_total_points_against_opposition_ground_element_type  \\\n",
       "58                                            3.000000                 \n",
       "286                                           3.000000                 \n",
       "324                                           7.546099                 \n",
       "400                                           3.000000                 \n",
       "438                                           3.000000                 \n",
       "\n",
       "     total_points  minutes  expected_avg_total_points_against_opposition_team  \\\n",
       "58              3       90                                           2.478082   \n",
       "286             7       90                                           2.415031   \n",
       "324             0        0                                           0.691897   \n",
       "400             0        0                                           0.603758   \n",
       "438             5       90                                           1.207515   \n",
       "\n",
       "     expected_var_total_points_against_opposition_team  \\\n",
       "58                                            3.264527   \n",
       "286                                          11.280897   \n",
       "324                                           2.296830   \n",
       "400                                           0.549070   \n",
       "438                                           2.445858   \n",
       "\n",
       "     expected_avg_total_points_at_ground  expected_var_total_points_at_ground  \\\n",
       "58                              3.142857                             3.476190   \n",
       "286                             3.800000                             9.200000   \n",
       "324                             0.675738                             2.686572   \n",
       "400                             1.000000                             0.666667   \n",
       "438                             1.500000                             5.100000   \n",
       "\n",
       "     predicted_total_points  \n",
       "58                 4.049185  \n",
       "286                3.962112  \n",
       "324                0.013684  \n",
       "400                0.011490  \n",
       "438                3.596815  \n",
       "\n",
       "[5 rows x 60 columns]"
      ]
     },
     "execution_count": 132,
     "metadata": {},
     "output_type": "execute_result"
    }
   ],
   "source": [
    "lush_forest_df_test.head()"
   ]
  },
  {
   "cell_type": "code",
   "execution_count": 133,
   "metadata": {
    "ExecuteTime": {
     "end_time": "2019-07-14T14:34:42.913258Z",
     "start_time": "2019-07-14T14:34:42.402168Z"
    },
    "hidden": true
   },
   "outputs": [
    {
     "data": {
      "image/png": "[encoded data removed]",
      "text/plain": [
       "<Figure size 720x576 with 1 Axes>"
      ]
     },
     "metadata": {
      "needs_background": "light"
     },
     "output_type": "display_data"
    }
   ],
   "source": [
    "plt.figure(figsize=(10, 8))\n",
    "plt.hist(pd.Series(lush_forest_y_pred), bins=range(-5,20), alpha=0.75, density=True, label='predicted')\n",
    "plt.hist(pd.Series(lush_forest_y_test), bins=range(-5,20), alpha=0.75, density=True, label='observed')\n",
    "plt.legend()\n",
    "plt.show()"
   ]
  },
  {
   "cell_type": "code",
   "execution_count": 134,
   "metadata": {
    "ExecuteTime": {
     "end_time": "2019-07-14T14:34:43.285635Z",
     "start_time": "2019-07-14T14:34:42.915517Z"
    },
    "hidden": true
   },
   "outputs": [
    {
     "data": {
      "image/png": "[encoded data removed]",
      "text/plain": [
       "<Figure size 720x576 with 1 Axes>"
      ]
     },
     "metadata": {
      "needs_background": "light"
     },
     "output_type": "display_data"
    }
   ],
   "source": [
    "plt.figure(figsize=(10, 8))\n",
    "plt.scatter(pd.Series(lush_forest_y_test), pd.Series(lush_forest_y_pred), alpha=0.1)\n",
    "plt.plot(np.linspace(-5, 25), np.linspace(-5, 25))\n",
    "plt.ylabel('Predicted total points')\n",
    "plt.xlabel('Observed total points')\n",
    "plt.ylim((-3, 12))\n",
    "plt.show()"
   ]
  },
  {
   "cell_type": "markdown",
   "metadata": {
    "heading_collapsed": true,
    "hidden": true
   },
   "source": [
    "### Random forest (stark)"
   ]
  },
  {
   "cell_type": "code",
   "execution_count": 141,
   "metadata": {
    "ExecuteTime": {
     "end_time": "2019-07-15T13:18:19.032999Z",
     "start_time": "2019-07-15T13:18:19.023371Z"
    },
    "hidden": true
   },
   "outputs": [],
   "source": [
    "stark_forest_model = RandomForestRegressor(n_estimators=120,\n",
    "                                           min_samples_leaf=0.0135,\n",
    "                                           max_features=0.73,\n",
    "                                           random_state=0)"
   ]
  },
  {
   "cell_type": "code",
   "execution_count": 142,
   "metadata": {
    "ExecuteTime": {
     "end_time": "2019-07-15T13:18:19.581921Z",
     "start_time": "2019-07-15T13:18:19.572388Z"
    },
    "hidden": true
   },
   "outputs": [],
   "source": [
    "stark_tree_features = [\n",
    "    'value', 'is_late', 'rolling_avg_total_points_element',\n",
    "    'rolling_var_total_points_element', 'rolling_avg_minutes_element_p3',\n",
    "    'rolling_avg_bps_element', 'rolling_avg_bonus_element',\n",
    "    'rolling_avg_goals_scored_element', 'rolling_avg_minutes_element',\n",
    "    'rolling_avg_clean_sheets_element', 'rolling_avg_completed_passes_element',\n",
    "    'rolling_avg_recoveries_element', 'rolling_avg_key_passes_element',\n",
    "    'rolling_avg_tackled_element', 'rolling_avg_dribbles_element',\n",
    "    'rolling_avg_clearances_blocks_interceptions_element',\n",
    "    'rolling_avg_target_missed_element', 'rolling_avg_fouls_element',\n",
    "    'rolling_avg_tackles_element', 'rolling_avg_big_chances_missed_element',\n",
    "    'rolling_avg_goals_conceded_element',\n",
    "    'rolling_avg_total_points_element_type',\n",
    "    'rolling_avg_total_points_own_team',\n",
    "    'rolling_avg_total_points_opposition_team',\n",
    "    'rolling_avg_total_points_against_opposition_team',\n",
    "    'rolling_avg_total_points_against_opposition_team_element_type',\n",
    "    'expected_avg_total_points_against_opposition_team',\n",
    "    'expected_avg_total_points_at_ground'\n",
    "]"
   ]
  },
  {
   "cell_type": "code",
   "execution_count": 143,
   "metadata": {
    "ExecuteTime": {
     "end_time": "2019-07-15T13:20:19.934114Z",
     "start_time": "2019-07-15T13:18:21.516317Z"
    },
    "hidden": true
   },
   "outputs": [],
   "source": [
    "stark_forest_y_pred, stark_forest_y_test, stark_forest_df_test = predict_test_set(\n",
    "    element_gameweek_df,\n",
    "    stark_forest_model,\n",
    "    standardise=False\n",
    ")"
   ]
  },
  {
   "cell_type": "code",
   "execution_count": 144,
   "metadata": {
    "ExecuteTime": {
     "end_time": "2019-07-15T13:20:19.943362Z",
     "start_time": "2019-07-15T13:20:19.936947Z"
    },
    "hidden": true
   },
   "outputs": [
    {
     "data": {
      "text/plain": [
       "(1.9588059074869963, 7.912689280069145, 0.22972052064567805)"
      ]
     },
     "execution_count": 144,
     "metadata": {},
     "output_type": "execute_result"
    }
   ],
   "source": [
    "stark_forest_test_loss = (\n",
    "    mean_absolute_error(stark_forest_y_test, stark_forest_y_pred),\n",
    "    mean_squared_error(stark_forest_y_test, stark_forest_y_pred),\n",
    "    r2_score(stark_forest_y_test, stark_forest_y_pred)\n",
    ")\n",
    "stark_forest_test_loss"
   ]
  },
  {
   "cell_type": "code",
   "execution_count": 145,
   "metadata": {
    "ExecuteTime": {
     "end_time": "2019-07-15T13:20:20.039157Z",
     "start_time": "2019-07-15T13:20:19.945315Z"
    },
    "hidden": true
   },
   "outputs": [
    {
     "data": {
      "text/html": [
       "<div>\n",
       "<style scoped>\n",
       "    .dataframe tbody tr th:only-of-type {\n",
       "        vertical-align: middle;\n",
       "    }\n",
       "\n",
       "    .dataframe tbody tr th {\n",
       "        vertical-align: top;\n",
       "    }\n",
       "\n",
       "    .dataframe thead th {\n",
       "        text-align: right;\n",
       "    }\n",
       "</style>\n",
       "<table border=\"1\" class=\"dataframe\">\n",
       "  <thead>\n",
       "    <tr style=\"text-align: right;\">\n",
       "      <th></th>\n",
       "      <th>safe_web_name</th>\n",
       "      <th>element</th>\n",
       "      <th>event</th>\n",
       "      <th>fixture</th>\n",
       "      <th>team</th>\n",
       "      <th>opposition_team</th>\n",
       "      <th>was_home</th>\n",
       "      <th>element_type</th>\n",
       "      <th>value</th>\n",
       "      <th>is_sunday</th>\n",
       "      <th>...</th>\n",
       "      <th>rolling_var_total_points_home</th>\n",
       "      <th>rolling_avg_total_points_against_opposition_ground_element_type</th>\n",
       "      <th>rolling_var_total_points_against_opposition_ground_element_type</th>\n",
       "      <th>total_points</th>\n",
       "      <th>minutes</th>\n",
       "      <th>expected_avg_total_points_against_opposition_team</th>\n",
       "      <th>expected_var_total_points_against_opposition_team</th>\n",
       "      <th>expected_avg_total_points_at_ground</th>\n",
       "      <th>expected_var_total_points_at_ground</th>\n",
       "      <th>predicted_total_points</th>\n",
       "    </tr>\n",
       "  </thead>\n",
       "  <tbody>\n",
       "    <tr>\n",
       "      <th>58</th>\n",
       "      <td>leno</td>\n",
       "      <td>2</td>\n",
       "      <td>21</td>\n",
       "      <td>201</td>\n",
       "      <td>1</td>\n",
       "      <td>9</td>\n",
       "      <td>1</td>\n",
       "      <td>1</td>\n",
       "      <td>48</td>\n",
       "      <td>0</td>\n",
       "      <td>...</td>\n",
       "      <td>3.476190</td>\n",
       "      <td>3.000000</td>\n",
       "      <td>3.000000</td>\n",
       "      <td>3</td>\n",
       "      <td>90</td>\n",
       "      <td>2.478082</td>\n",
       "      <td>3.264527</td>\n",
       "      <td>3.142857</td>\n",
       "      <td>3.476190</td>\n",
       "      <td>3.920282</td>\n",
       "    </tr>\n",
       "    <tr>\n",
       "      <th>286</th>\n",
       "      <td>kolasinac</td>\n",
       "      <td>8</td>\n",
       "      <td>21</td>\n",
       "      <td>201</td>\n",
       "      <td>1</td>\n",
       "      <td>9</td>\n",
       "      <td>1</td>\n",
       "      <td>2</td>\n",
       "      <td>49</td>\n",
       "      <td>0</td>\n",
       "      <td>...</td>\n",
       "      <td>9.200000</td>\n",
       "      <td>3.000000</td>\n",
       "      <td>3.000000</td>\n",
       "      <td>7</td>\n",
       "      <td>90</td>\n",
       "      <td>2.415031</td>\n",
       "      <td>11.280897</td>\n",
       "      <td>3.800000</td>\n",
       "      <td>9.200000</td>\n",
       "      <td>3.973618</td>\n",
       "    </tr>\n",
       "    <tr>\n",
       "      <th>324</th>\n",
       "      <td>chambers</td>\n",
       "      <td>9</td>\n",
       "      <td>21</td>\n",
       "      <td>201</td>\n",
       "      <td>9</td>\n",
       "      <td>1</td>\n",
       "      <td>0</td>\n",
       "      <td>2</td>\n",
       "      <td>42</td>\n",
       "      <td>0</td>\n",
       "      <td>...</td>\n",
       "      <td>2.982143</td>\n",
       "      <td>1.666667</td>\n",
       "      <td>7.546099</td>\n",
       "      <td>0</td>\n",
       "      <td>0</td>\n",
       "      <td>0.691897</td>\n",
       "      <td>2.296830</td>\n",
       "      <td>0.675738</td>\n",
       "      <td>2.686572</td>\n",
       "      <td>0.020285</td>\n",
       "    </tr>\n",
       "    <tr>\n",
       "      <th>400</th>\n",
       "      <td>lichtsteiner</td>\n",
       "      <td>11</td>\n",
       "      <td>21</td>\n",
       "      <td>201</td>\n",
       "      <td>1</td>\n",
       "      <td>9</td>\n",
       "      <td>1</td>\n",
       "      <td>2</td>\n",
       "      <td>45</td>\n",
       "      <td>0</td>\n",
       "      <td>...</td>\n",
       "      <td>0.666667</td>\n",
       "      <td>3.000000</td>\n",
       "      <td>3.000000</td>\n",
       "      <td>0</td>\n",
       "      <td>0</td>\n",
       "      <td>0.603758</td>\n",
       "      <td>0.549070</td>\n",
       "      <td>1.000000</td>\n",
       "      <td>0.666667</td>\n",
       "      <td>0.022109</td>\n",
       "    </tr>\n",
       "    <tr>\n",
       "      <th>438</th>\n",
       "      <td>sokratis</td>\n",
       "      <td>12</td>\n",
       "      <td>21</td>\n",
       "      <td>201</td>\n",
       "      <td>1</td>\n",
       "      <td>9</td>\n",
       "      <td>1</td>\n",
       "      <td>2</td>\n",
       "      <td>51</td>\n",
       "      <td>0</td>\n",
       "      <td>...</td>\n",
       "      <td>5.100000</td>\n",
       "      <td>3.000000</td>\n",
       "      <td>3.000000</td>\n",
       "      <td>5</td>\n",
       "      <td>90</td>\n",
       "      <td>1.207515</td>\n",
       "      <td>2.445858</td>\n",
       "      <td>1.500000</td>\n",
       "      <td>5.100000</td>\n",
       "      <td>3.586148</td>\n",
       "    </tr>\n",
       "  </tbody>\n",
       "</table>\n",
       "<p>5 rows × 60 columns</p>\n",
       "</div>"
      ],
      "text/plain": [
       "    safe_web_name  element  event  fixture  team  opposition_team  was_home  \\\n",
       "58           leno        2     21      201     1                9         1   \n",
       "286     kolasinac        8     21      201     1                9         1   \n",
       "324      chambers        9     21      201     9                1         0   \n",
       "400  lichtsteiner       11     21      201     1                9         1   \n",
       "438      sokratis       12     21      201     1                9         1   \n",
       "\n",
       "     element_type  value  is_sunday           ...            \\\n",
       "58              1     48          0           ...             \n",
       "286             2     49          0           ...             \n",
       "324             2     42          0           ...             \n",
       "400             2     45          0           ...             \n",
       "438             2     51          0           ...             \n",
       "\n",
       "     rolling_var_total_points_home  \\\n",
       "58                        3.476190   \n",
       "286                       9.200000   \n",
       "324                       2.982143   \n",
       "400                       0.666667   \n",
       "438                       5.100000   \n",
       "\n",
       "     rolling_avg_total_points_against_opposition_ground_element_type  \\\n",
       "58                                            3.000000                 \n",
       "286                                           3.000000                 \n",
       "324                                           1.666667                 \n",
       "400                                           3.000000                 \n",
       "438                                           3.000000                 \n",
       "\n",
       "     rolling_var_total_points_against_opposition_ground_element_type  \\\n",
       "58                                            3.000000                 \n",
       "286                                           3.000000                 \n",
       "324                                           7.546099                 \n",
       "400                                           3.000000                 \n",
       "438                                           3.000000                 \n",
       "\n",
       "     total_points  minutes  expected_avg_total_points_against_opposition_team  \\\n",
       "58              3       90                                           2.478082   \n",
       "286             7       90                                           2.415031   \n",
       "324             0        0                                           0.691897   \n",
       "400             0        0                                           0.603758   \n",
       "438             5       90                                           1.207515   \n",
       "\n",
       "     expected_var_total_points_against_opposition_team  \\\n",
       "58                                            3.264527   \n",
       "286                                          11.280897   \n",
       "324                                           2.296830   \n",
       "400                                           0.549070   \n",
       "438                                           2.445858   \n",
       "\n",
       "     expected_avg_total_points_at_ground  expected_var_total_points_at_ground  \\\n",
       "58                              3.142857                             3.476190   \n",
       "286                             3.800000                             9.200000   \n",
       "324                             0.675738                             2.686572   \n",
       "400                             1.000000                             0.666667   \n",
       "438                             1.500000                             5.100000   \n",
       "\n",
       "     predicted_total_points  \n",
       "58                 3.920282  \n",
       "286                3.973618  \n",
       "324                0.020285  \n",
       "400                0.022109  \n",
       "438                3.586148  \n",
       "\n",
       "[5 rows x 60 columns]"
      ]
     },
     "execution_count": 145,
     "metadata": {},
     "output_type": "execute_result"
    }
   ],
   "source": [
    "stark_forest_df_test.head()"
   ]
  },
  {
   "cell_type": "code",
   "execution_count": 146,
   "metadata": {
    "ExecuteTime": {
     "end_time": "2019-07-15T13:20:20.637130Z",
     "start_time": "2019-07-15T13:20:20.042021Z"
    },
    "hidden": true
   },
   "outputs": [
    {
     "data": {
      "image/png": "[encoded data removed]",
      "text/plain": [
       "<Figure size 720x576 with 1 Axes>"
      ]
     },
     "metadata": {
      "needs_background": "light"
     },
     "output_type": "display_data"
    }
   ],
   "source": [
    "plt.figure(figsize=(10, 8))\n",
    "plt.hist(pd.Series(stark_forest_y_pred), bins=range(-5,20), alpha=0.75, density=True, label='predicted')\n",
    "plt.hist(pd.Series(stark_forest_y_test), bins=range(-5,20), alpha=0.75, density=True, label='observed')\n",
    "plt.legend()\n",
    "plt.show()"
   ]
  },
  {
   "cell_type": "code",
   "execution_count": 147,
   "metadata": {
    "ExecuteTime": {
     "end_time": "2019-07-15T13:20:21.051412Z",
     "start_time": "2019-07-15T13:20:20.639525Z"
    },
    "hidden": true
   },
   "outputs": [
    {
     "data": {
      "image/png": "[encoded data removed]",
      "text/plain": [
       "<Figure size 720x576 with 1 Axes>"
      ]
     },
     "metadata": {
      "needs_background": "light"
     },
     "output_type": "display_data"
    }
   ],
   "source": [
    "plt.figure(figsize=(10, 8))\n",
    "plt.scatter(pd.Series(stark_forest_y_test), pd.Series(stark_forest_y_pred), alpha=0.1)\n",
    "plt.plot(np.linspace(-5, 25), np.linspace(-5, 25))\n",
    "plt.ylabel('Predicted total points')\n",
    "plt.xlabel('Observed total points')\n",
    "plt.ylim((-3, 12))\n",
    "plt.show()"
   ]
  },
  {
   "cell_type": "markdown",
   "metadata": {
    "heading_collapsed": true,
    "hidden": true
   },
   "source": [
    "### Gradient boosted trees (lush)"
   ]
  },
  {
   "cell_type": "code",
   "execution_count": 154,
   "metadata": {
    "ExecuteTime": {
     "end_time": "2019-07-15T14:18:39.630633Z",
     "start_time": "2019-07-15T14:18:39.623224Z"
    },
    "hidden": true
   },
   "outputs": [],
   "source": [
    "lush_boost_model = GradientBoostingRegressor(n_estimators=120,\n",
    "                                             max_features=0.61,\n",
    "                                             min_samples_leaf=0.015,\n",
    "                                             learning_rate=0.035,\n",
    "                                             criterion='mse',\n",
    "                                             random_state=0)"
   ]
  },
  {
   "cell_type": "code",
   "execution_count": 155,
   "metadata": {
    "ExecuteTime": {
     "end_time": "2019-07-15T14:20:05.715595Z",
     "start_time": "2019-07-15T14:18:41.425947Z"
    },
    "hidden": true
   },
   "outputs": [],
   "source": [
    "lush_boost_y_pred, lush_boost_y_test, lush_boost_df_test = predict_test_set(\n",
    "    element_gameweek_df,\n",
    "    lush_boost_model,\n",
    "    standardise=False\n",
    ")"
   ]
  },
  {
   "cell_type": "code",
   "execution_count": 156,
   "metadata": {
    "ExecuteTime": {
     "end_time": "2019-07-15T14:20:05.724620Z",
     "start_time": "2019-07-15T14:20:05.718446Z"
    },
    "hidden": true
   },
   "outputs": [
    {
     "data": {
      "text/plain": [
       "(1.9732599759336062, 7.863188939696783, 0.23453924852191688)"
      ]
     },
     "execution_count": 156,
     "metadata": {},
     "output_type": "execute_result"
    }
   ],
   "source": [
    "lush_boost_test_loss = (\n",
    "    mean_absolute_error(lush_boost_y_test, lush_boost_y_pred),\n",
    "    mean_squared_error(lush_boost_y_test, lush_boost_y_pred),\n",
    "    r2_score(lush_boost_y_test, lush_boost_y_pred)\n",
    ")\n",
    "lush_boost_test_loss"
   ]
  },
  {
   "cell_type": "code",
   "execution_count": 157,
   "metadata": {
    "ExecuteTime": {
     "end_time": "2019-07-15T14:20:05.787037Z",
     "start_time": "2019-07-15T14:20:05.726576Z"
    },
    "hidden": true
   },
   "outputs": [
    {
     "data": {
      "text/html": [
       "<div>\n",
       "<style scoped>\n",
       "    .dataframe tbody tr th:only-of-type {\n",
       "        vertical-align: middle;\n",
       "    }\n",
       "\n",
       "    .dataframe tbody tr th {\n",
       "        vertical-align: top;\n",
       "    }\n",
       "\n",
       "    .dataframe thead th {\n",
       "        text-align: right;\n",
       "    }\n",
       "</style>\n",
       "<table border=\"1\" class=\"dataframe\">\n",
       "  <thead>\n",
       "    <tr style=\"text-align: right;\">\n",
       "      <th></th>\n",
       "      <th>safe_web_name</th>\n",
       "      <th>element</th>\n",
       "      <th>event</th>\n",
       "      <th>fixture</th>\n",
       "      <th>team</th>\n",
       "      <th>opposition_team</th>\n",
       "      <th>was_home</th>\n",
       "      <th>element_type</th>\n",
       "      <th>value</th>\n",
       "      <th>is_sunday</th>\n",
       "      <th>...</th>\n",
       "      <th>rolling_var_total_points_home</th>\n",
       "      <th>rolling_avg_total_points_against_opposition_ground_element_type</th>\n",
       "      <th>rolling_var_total_points_against_opposition_ground_element_type</th>\n",
       "      <th>total_points</th>\n",
       "      <th>minutes</th>\n",
       "      <th>expected_avg_total_points_against_opposition_team</th>\n",
       "      <th>expected_var_total_points_against_opposition_team</th>\n",
       "      <th>expected_avg_total_points_at_ground</th>\n",
       "      <th>expected_var_total_points_at_ground</th>\n",
       "      <th>predicted_total_points</th>\n",
       "    </tr>\n",
       "  </thead>\n",
       "  <tbody>\n",
       "    <tr>\n",
       "      <th>58</th>\n",
       "      <td>leno</td>\n",
       "      <td>2</td>\n",
       "      <td>21</td>\n",
       "      <td>201</td>\n",
       "      <td>1</td>\n",
       "      <td>9</td>\n",
       "      <td>1</td>\n",
       "      <td>1</td>\n",
       "      <td>48</td>\n",
       "      <td>0</td>\n",
       "      <td>...</td>\n",
       "      <td>3.476190</td>\n",
       "      <td>3.000000</td>\n",
       "      <td>3.000000</td>\n",
       "      <td>3</td>\n",
       "      <td>90</td>\n",
       "      <td>2.478082</td>\n",
       "      <td>3.264527</td>\n",
       "      <td>3.142857</td>\n",
       "      <td>3.476190</td>\n",
       "      <td>3.531812</td>\n",
       "    </tr>\n",
       "    <tr>\n",
       "      <th>286</th>\n",
       "      <td>kolasinac</td>\n",
       "      <td>8</td>\n",
       "      <td>21</td>\n",
       "      <td>201</td>\n",
       "      <td>1</td>\n",
       "      <td>9</td>\n",
       "      <td>1</td>\n",
       "      <td>2</td>\n",
       "      <td>49</td>\n",
       "      <td>0</td>\n",
       "      <td>...</td>\n",
       "      <td>9.200000</td>\n",
       "      <td>3.000000</td>\n",
       "      <td>3.000000</td>\n",
       "      <td>7</td>\n",
       "      <td>90</td>\n",
       "      <td>2.415031</td>\n",
       "      <td>11.280897</td>\n",
       "      <td>3.800000</td>\n",
       "      <td>9.200000</td>\n",
       "      <td>3.727395</td>\n",
       "    </tr>\n",
       "    <tr>\n",
       "      <th>324</th>\n",
       "      <td>chambers</td>\n",
       "      <td>9</td>\n",
       "      <td>21</td>\n",
       "      <td>201</td>\n",
       "      <td>9</td>\n",
       "      <td>1</td>\n",
       "      <td>0</td>\n",
       "      <td>2</td>\n",
       "      <td>42</td>\n",
       "      <td>0</td>\n",
       "      <td>...</td>\n",
       "      <td>2.982143</td>\n",
       "      <td>1.666667</td>\n",
       "      <td>7.546099</td>\n",
       "      <td>0</td>\n",
       "      <td>0</td>\n",
       "      <td>0.691897</td>\n",
       "      <td>2.296830</td>\n",
       "      <td>0.675738</td>\n",
       "      <td>2.686572</td>\n",
       "      <td>0.052574</td>\n",
       "    </tr>\n",
       "    <tr>\n",
       "      <th>400</th>\n",
       "      <td>lichtsteiner</td>\n",
       "      <td>11</td>\n",
       "      <td>21</td>\n",
       "      <td>201</td>\n",
       "      <td>1</td>\n",
       "      <td>9</td>\n",
       "      <td>1</td>\n",
       "      <td>2</td>\n",
       "      <td>45</td>\n",
       "      <td>0</td>\n",
       "      <td>...</td>\n",
       "      <td>0.666667</td>\n",
       "      <td>3.000000</td>\n",
       "      <td>3.000000</td>\n",
       "      <td>0</td>\n",
       "      <td>0</td>\n",
       "      <td>0.603758</td>\n",
       "      <td>0.549070</td>\n",
       "      <td>1.000000</td>\n",
       "      <td>0.666667</td>\n",
       "      <td>0.369557</td>\n",
       "    </tr>\n",
       "    <tr>\n",
       "      <th>438</th>\n",
       "      <td>sokratis</td>\n",
       "      <td>12</td>\n",
       "      <td>21</td>\n",
       "      <td>201</td>\n",
       "      <td>1</td>\n",
       "      <td>9</td>\n",
       "      <td>1</td>\n",
       "      <td>2</td>\n",
       "      <td>51</td>\n",
       "      <td>0</td>\n",
       "      <td>...</td>\n",
       "      <td>5.100000</td>\n",
       "      <td>3.000000</td>\n",
       "      <td>3.000000</td>\n",
       "      <td>5</td>\n",
       "      <td>90</td>\n",
       "      <td>1.207515</td>\n",
       "      <td>2.445858</td>\n",
       "      <td>1.500000</td>\n",
       "      <td>5.100000</td>\n",
       "      <td>3.478013</td>\n",
       "    </tr>\n",
       "  </tbody>\n",
       "</table>\n",
       "<p>5 rows × 60 columns</p>\n",
       "</div>"
      ],
      "text/plain": [
       "    safe_web_name  element  event  fixture  team  opposition_team  was_home  \\\n",
       "58           leno        2     21      201     1                9         1   \n",
       "286     kolasinac        8     21      201     1                9         1   \n",
       "324      chambers        9     21      201     9                1         0   \n",
       "400  lichtsteiner       11     21      201     1                9         1   \n",
       "438      sokratis       12     21      201     1                9         1   \n",
       "\n",
       "     element_type  value  is_sunday           ...            \\\n",
       "58              1     48          0           ...             \n",
       "286             2     49          0           ...             \n",
       "324             2     42          0           ...             \n",
       "400             2     45          0           ...             \n",
       "438             2     51          0           ...             \n",
       "\n",
       "     rolling_var_total_points_home  \\\n",
       "58                        3.476190   \n",
       "286                       9.200000   \n",
       "324                       2.982143   \n",
       "400                       0.666667   \n",
       "438                       5.100000   \n",
       "\n",
       "     rolling_avg_total_points_against_opposition_ground_element_type  \\\n",
       "58                                            3.000000                 \n",
       "286                                           3.000000                 \n",
       "324                                           1.666667                 \n",
       "400                                           3.000000                 \n",
       "438                                           3.000000                 \n",
       "\n",
       "     rolling_var_total_points_against_opposition_ground_element_type  \\\n",
       "58                                            3.000000                 \n",
       "286                                           3.000000                 \n",
       "324                                           7.546099                 \n",
       "400                                           3.000000                 \n",
       "438                                           3.000000                 \n",
       "\n",
       "     total_points  minutes  expected_avg_total_points_against_opposition_team  \\\n",
       "58              3       90                                           2.478082   \n",
       "286             7       90                                           2.415031   \n",
       "324             0        0                                           0.691897   \n",
       "400             0        0                                           0.603758   \n",
       "438             5       90                                           1.207515   \n",
       "\n",
       "     expected_var_total_points_against_opposition_team  \\\n",
       "58                                            3.264527   \n",
       "286                                          11.280897   \n",
       "324                                           2.296830   \n",
       "400                                           0.549070   \n",
       "438                                           2.445858   \n",
       "\n",
       "     expected_avg_total_points_at_ground  expected_var_total_points_at_ground  \\\n",
       "58                              3.142857                             3.476190   \n",
       "286                             3.800000                             9.200000   \n",
       "324                             0.675738                             2.686572   \n",
       "400                             1.000000                             0.666667   \n",
       "438                             1.500000                             5.100000   \n",
       "\n",
       "     predicted_total_points  \n",
       "58                 3.531812  \n",
       "286                3.727395  \n",
       "324                0.052574  \n",
       "400                0.369557  \n",
       "438                3.478013  \n",
       "\n",
       "[5 rows x 60 columns]"
      ]
     },
     "execution_count": 157,
     "metadata": {},
     "output_type": "execute_result"
    }
   ],
   "source": [
    "lush_boost_df_test.head()"
   ]
  },
  {
   "cell_type": "code",
   "execution_count": 158,
   "metadata": {
    "ExecuteTime": {
     "end_time": "2019-07-15T14:20:06.361486Z",
     "start_time": "2019-07-15T14:20:05.789595Z"
    },
    "hidden": true
   },
   "outputs": [
    {
     "data": {
      "image/png": "[encoded data removed]",
      "text/plain": [
       "<Figure size 720x576 with 1 Axes>"
      ]
     },
     "metadata": {
      "needs_background": "light"
     },
     "output_type": "display_data"
    }
   ],
   "source": [
    "plt.figure(figsize=(10, 8))\n",
    "plt.hist(pd.Series(lush_boost_y_pred), bins=range(-5,20), alpha=0.75, density=True, label='predicted')\n",
    "plt.hist(pd.Series(lush_boost_y_test), bins=range(-5,20), alpha=0.75, density=True, label='observed')\n",
    "plt.legend()\n",
    "plt.show()"
   ]
  },
  {
   "cell_type": "code",
   "execution_count": 159,
   "metadata": {
    "ExecuteTime": {
     "end_time": "2019-07-15T14:20:06.733384Z",
     "start_time": "2019-07-15T14:20:06.363777Z"
    },
    "hidden": true
   },
   "outputs": [
    {
     "data": {
      "image/png": "[encoded data removed]",
      "text/plain": [
       "<Figure size 720x576 with 1 Axes>"
      ]
     },
     "metadata": {
      "needs_background": "light"
     },
     "output_type": "display_data"
    }
   ],
   "source": [
    "plt.figure(figsize=(10, 8))\n",
    "plt.scatter(pd.Series(lush_boost_y_test), pd.Series(lush_boost_y_pred), alpha=0.1)\n",
    "plt.plot(np.linspace(-5, 25), np.linspace(-5, 25))\n",
    "plt.ylabel('Predicted total points')\n",
    "plt.xlabel('Observed total points')\n",
    "plt.ylim((-3, 12))\n",
    "plt.show()"
   ]
  },
  {
   "cell_type": "markdown",
   "metadata": {
    "heading_collapsed": true,
    "hidden": true
   },
   "source": [
    "### Gradient boosted trees (stark)"
   ]
  },
  {
   "cell_type": "code",
   "execution_count": 163,
   "metadata": {
    "ExecuteTime": {
     "end_time": "2019-07-15T14:22:22.536152Z",
     "start_time": "2019-07-15T14:22:22.528630Z"
    },
    "hidden": true
   },
   "outputs": [],
   "source": [
    "stark_boost_model = GradientBoostingRegressor(n_estimators=120,\n",
    "                                              max_features=0.8,\n",
    "                                              min_samples_leaf=0.02,\n",
    "                                              learning_rate=0.05,\n",
    "                                              criterion='mse',\n",
    "                                              random_state=0)"
   ]
  },
  {
   "cell_type": "code",
   "execution_count": 164,
   "metadata": {
    "ExecuteTime": {
     "end_time": "2019-07-15T14:22:24.069860Z",
     "start_time": "2019-07-15T14:22:24.063092Z"
    },
    "hidden": true
   },
   "outputs": [],
   "source": [
    "stark_tree_features = [\n",
    "    'value', 'rolling_avg_minutes_element_p3', 'rolling_avg_minutes_element',\n",
    "    'rolling_avg_key_passes_element',\n",
    "    'rolling_avg_clearances_blocks_interceptions_element',\n",
    "    'rolling_avg_big_chances_missed_element',\n",
    "    'rolling_avg_total_points_own_team',\n",
    "    'rolling_avg_total_points_opposition_team',\n",
    "    'rolling_avg_total_points_against_opposition_team',\n",
    "    'rolling_avg_total_points_against_opposition_team_element_type',\n",
    "    'expected_avg_total_points_against_opposition_team',\n",
    "    'expected_avg_total_points_at_ground'\n",
    "]"
   ]
  },
  {
   "cell_type": "code",
   "execution_count": 165,
   "metadata": {
    "ExecuteTime": {
     "end_time": "2019-07-15T14:24:05.680576Z",
     "start_time": "2019-07-15T14:22:25.667178Z"
    },
    "hidden": true
   },
   "outputs": [],
   "source": [
    "stark_boost_y_pred, stark_boost_y_test, stark_boost_df_test = predict_test_set(\n",
    "    element_gameweek_df,\n",
    "    stark_boost_model,\n",
    "    standardise=False\n",
    ")"
   ]
  },
  {
   "cell_type": "code",
   "execution_count": 166,
   "metadata": {
    "ExecuteTime": {
     "end_time": "2019-07-15T14:24:05.689578Z",
     "start_time": "2019-07-15T14:24:05.683423Z"
    },
    "hidden": true
   },
   "outputs": [
    {
     "data": {
      "text/plain": [
       "(1.971063777092578, 7.83509186380843, 0.237274424922837)"
      ]
     },
     "execution_count": 166,
     "metadata": {},
     "output_type": "execute_result"
    }
   ],
   "source": [
    "stark_boost_test_loss = (\n",
    "    mean_absolute_error(stark_boost_y_test, stark_boost_y_pred),\n",
    "    mean_squared_error(stark_boost_y_test, stark_boost_y_pred),\n",
    "    r2_score(stark_boost_y_test, stark_boost_y_pred)\n",
    ")\n",
    "stark_boost_test_loss"
   ]
  },
  {
   "cell_type": "code",
   "execution_count": 167,
   "metadata": {
    "ExecuteTime": {
     "end_time": "2019-07-15T14:24:05.791827Z",
     "start_time": "2019-07-15T14:24:05.691534Z"
    },
    "hidden": true
   },
   "outputs": [
    {
     "data": {
      "text/html": [
       "<div>\n",
       "<style scoped>\n",
       "    .dataframe tbody tr th:only-of-type {\n",
       "        vertical-align: middle;\n",
       "    }\n",
       "\n",
       "    .dataframe tbody tr th {\n",
       "        vertical-align: top;\n",
       "    }\n",
       "\n",
       "    .dataframe thead th {\n",
       "        text-align: right;\n",
       "    }\n",
       "</style>\n",
       "<table border=\"1\" class=\"dataframe\">\n",
       "  <thead>\n",
       "    <tr style=\"text-align: right;\">\n",
       "      <th></th>\n",
       "      <th>safe_web_name</th>\n",
       "      <th>element</th>\n",
       "      <th>event</th>\n",
       "      <th>fixture</th>\n",
       "      <th>team</th>\n",
       "      <th>opposition_team</th>\n",
       "      <th>was_home</th>\n",
       "      <th>element_type</th>\n",
       "      <th>value</th>\n",
       "      <th>is_sunday</th>\n",
       "      <th>...</th>\n",
       "      <th>rolling_var_total_points_home</th>\n",
       "      <th>rolling_avg_total_points_against_opposition_ground_element_type</th>\n",
       "      <th>rolling_var_total_points_against_opposition_ground_element_type</th>\n",
       "      <th>total_points</th>\n",
       "      <th>minutes</th>\n",
       "      <th>expected_avg_total_points_against_opposition_team</th>\n",
       "      <th>expected_var_total_points_against_opposition_team</th>\n",
       "      <th>expected_avg_total_points_at_ground</th>\n",
       "      <th>expected_var_total_points_at_ground</th>\n",
       "      <th>predicted_total_points</th>\n",
       "    </tr>\n",
       "  </thead>\n",
       "  <tbody>\n",
       "    <tr>\n",
       "      <th>58</th>\n",
       "      <td>leno</td>\n",
       "      <td>2</td>\n",
       "      <td>21</td>\n",
       "      <td>201</td>\n",
       "      <td>1</td>\n",
       "      <td>9</td>\n",
       "      <td>1</td>\n",
       "      <td>1</td>\n",
       "      <td>48</td>\n",
       "      <td>0</td>\n",
       "      <td>...</td>\n",
       "      <td>3.476190</td>\n",
       "      <td>3.000000</td>\n",
       "      <td>3.000000</td>\n",
       "      <td>3</td>\n",
       "      <td>90</td>\n",
       "      <td>2.478082</td>\n",
       "      <td>3.264527</td>\n",
       "      <td>3.142857</td>\n",
       "      <td>3.476190</td>\n",
       "      <td>3.640099</td>\n",
       "    </tr>\n",
       "    <tr>\n",
       "      <th>286</th>\n",
       "      <td>kolasinac</td>\n",
       "      <td>8</td>\n",
       "      <td>21</td>\n",
       "      <td>201</td>\n",
       "      <td>1</td>\n",
       "      <td>9</td>\n",
       "      <td>1</td>\n",
       "      <td>2</td>\n",
       "      <td>49</td>\n",
       "      <td>0</td>\n",
       "      <td>...</td>\n",
       "      <td>9.200000</td>\n",
       "      <td>3.000000</td>\n",
       "      <td>3.000000</td>\n",
       "      <td>7</td>\n",
       "      <td>90</td>\n",
       "      <td>2.415031</td>\n",
       "      <td>11.280897</td>\n",
       "      <td>3.800000</td>\n",
       "      <td>9.200000</td>\n",
       "      <td>3.826037</td>\n",
       "    </tr>\n",
       "    <tr>\n",
       "      <th>324</th>\n",
       "      <td>chambers</td>\n",
       "      <td>9</td>\n",
       "      <td>21</td>\n",
       "      <td>201</td>\n",
       "      <td>9</td>\n",
       "      <td>1</td>\n",
       "      <td>0</td>\n",
       "      <td>2</td>\n",
       "      <td>42</td>\n",
       "      <td>0</td>\n",
       "      <td>...</td>\n",
       "      <td>2.982143</td>\n",
       "      <td>1.666667</td>\n",
       "      <td>7.546099</td>\n",
       "      <td>0</td>\n",
       "      <td>0</td>\n",
       "      <td>0.691897</td>\n",
       "      <td>2.296830</td>\n",
       "      <td>0.675738</td>\n",
       "      <td>2.686572</td>\n",
       "      <td>0.034703</td>\n",
       "    </tr>\n",
       "    <tr>\n",
       "      <th>400</th>\n",
       "      <td>lichtsteiner</td>\n",
       "      <td>11</td>\n",
       "      <td>21</td>\n",
       "      <td>201</td>\n",
       "      <td>1</td>\n",
       "      <td>9</td>\n",
       "      <td>1</td>\n",
       "      <td>2</td>\n",
       "      <td>45</td>\n",
       "      <td>0</td>\n",
       "      <td>...</td>\n",
       "      <td>0.666667</td>\n",
       "      <td>3.000000</td>\n",
       "      <td>3.000000</td>\n",
       "      <td>0</td>\n",
       "      <td>0</td>\n",
       "      <td>0.603758</td>\n",
       "      <td>0.549070</td>\n",
       "      <td>1.000000</td>\n",
       "      <td>0.666667</td>\n",
       "      <td>0.280375</td>\n",
       "    </tr>\n",
       "    <tr>\n",
       "      <th>438</th>\n",
       "      <td>sokratis</td>\n",
       "      <td>12</td>\n",
       "      <td>21</td>\n",
       "      <td>201</td>\n",
       "      <td>1</td>\n",
       "      <td>9</td>\n",
       "      <td>1</td>\n",
       "      <td>2</td>\n",
       "      <td>51</td>\n",
       "      <td>0</td>\n",
       "      <td>...</td>\n",
       "      <td>5.100000</td>\n",
       "      <td>3.000000</td>\n",
       "      <td>3.000000</td>\n",
       "      <td>5</td>\n",
       "      <td>90</td>\n",
       "      <td>1.207515</td>\n",
       "      <td>2.445858</td>\n",
       "      <td>1.500000</td>\n",
       "      <td>5.100000</td>\n",
       "      <td>3.638819</td>\n",
       "    </tr>\n",
       "  </tbody>\n",
       "</table>\n",
       "<p>5 rows × 60 columns</p>\n",
       "</div>"
      ],
      "text/plain": [
       "    safe_web_name  element  event  fixture  team  opposition_team  was_home  \\\n",
       "58           leno        2     21      201     1                9         1   \n",
       "286     kolasinac        8     21      201     1                9         1   \n",
       "324      chambers        9     21      201     9                1         0   \n",
       "400  lichtsteiner       11     21      201     1                9         1   \n",
       "438      sokratis       12     21      201     1                9         1   \n",
       "\n",
       "     element_type  value  is_sunday           ...            \\\n",
       "58              1     48          0           ...             \n",
       "286             2     49          0           ...             \n",
       "324             2     42          0           ...             \n",
       "400             2     45          0           ...             \n",
       "438             2     51          0           ...             \n",
       "\n",
       "     rolling_var_total_points_home  \\\n",
       "58                        3.476190   \n",
       "286                       9.200000   \n",
       "324                       2.982143   \n",
       "400                       0.666667   \n",
       "438                       5.100000   \n",
       "\n",
       "     rolling_avg_total_points_against_opposition_ground_element_type  \\\n",
       "58                                            3.000000                 \n",
       "286                                           3.000000                 \n",
       "324                                           1.666667                 \n",
       "400                                           3.000000                 \n",
       "438                                           3.000000                 \n",
       "\n",
       "     rolling_var_total_points_against_opposition_ground_element_type  \\\n",
       "58                                            3.000000                 \n",
       "286                                           3.000000                 \n",
       "324                                           7.546099                 \n",
       "400                                           3.000000                 \n",
       "438                                           3.000000                 \n",
       "\n",
       "     total_points  minutes  expected_avg_total_points_against_opposition_team  \\\n",
       "58              3       90                                           2.478082   \n",
       "286             7       90                                           2.415031   \n",
       "324             0        0                                           0.691897   \n",
       "400             0        0                                           0.603758   \n",
       "438             5       90                                           1.207515   \n",
       "\n",
       "     expected_var_total_points_against_opposition_team  \\\n",
       "58                                            3.264527   \n",
       "286                                          11.280897   \n",
       "324                                           2.296830   \n",
       "400                                           0.549070   \n",
       "438                                           2.445858   \n",
       "\n",
       "     expected_avg_total_points_at_ground  expected_var_total_points_at_ground  \\\n",
       "58                              3.142857                             3.476190   \n",
       "286                             3.800000                             9.200000   \n",
       "324                             0.675738                             2.686572   \n",
       "400                             1.000000                             0.666667   \n",
       "438                             1.500000                             5.100000   \n",
       "\n",
       "     predicted_total_points  \n",
       "58                 3.640099  \n",
       "286                3.826037  \n",
       "324                0.034703  \n",
       "400                0.280375  \n",
       "438                3.638819  \n",
       "\n",
       "[5 rows x 60 columns]"
      ]
     },
     "execution_count": 167,
     "metadata": {},
     "output_type": "execute_result"
    }
   ],
   "source": [
    "stark_boost_df_test.head()"
   ]
  },
  {
   "cell_type": "code",
   "execution_count": 168,
   "metadata": {
    "ExecuteTime": {
     "end_time": "2019-07-15T14:24:06.407941Z",
     "start_time": "2019-07-15T14:24:05.795537Z"
    },
    "hidden": true
   },
   "outputs": [
    {
     "data": {
      "image/png": "[encoded data removed]",
      "text/plain": [
       "<Figure size 720x576 with 1 Axes>"
      ]
     },
     "metadata": {
      "needs_background": "light"
     },
     "output_type": "display_data"
    }
   ],
   "source": [
    "plt.figure(figsize=(10, 8))\n",
    "plt.hist(pd.Series(stark_boost_y_pred), bins=range(-5,20), alpha=0.75, density=True, label='predicted')\n",
    "plt.hist(pd.Series(stark_boost_y_test), bins=range(-5,20), alpha=0.75, density=True, label='observed')\n",
    "plt.legend()\n",
    "plt.show()"
   ]
  },
  {
   "cell_type": "code",
   "execution_count": 169,
   "metadata": {
    "ExecuteTime": {
     "end_time": "2019-07-15T14:24:06.843743Z",
     "start_time": "2019-07-15T14:24:06.410592Z"
    },
    "hidden": true
   },
   "outputs": [
    {
     "data": {
      "image/png": "[encoded data removed]",
      "text/plain": [
       "<Figure size 720x576 with 1 Axes>"
      ]
     },
     "metadata": {
      "needs_background": "light"
     },
     "output_type": "display_data"
    }
   ],
   "source": [
    "plt.figure(figsize=(10, 8))\n",
    "plt.scatter(pd.Series(stark_boost_y_test), pd.Series(stark_boost_y_pred), alpha=0.1)\n",
    "plt.plot(np.linspace(-5, 25), np.linspace(-5, 25))\n",
    "plt.ylabel('Predicted total points')\n",
    "plt.xlabel('Observed total points')\n",
    "plt.ylim((-3, 12))\n",
    "plt.show()"
   ]
  },
  {
   "cell_type": "markdown",
   "metadata": {
    "heading_collapsed": true
   },
   "source": [
    "## Constructing teams"
   ]
  },
  {
   "cell_type": "markdown",
   "metadata": {
    "heading_collapsed": true,
    "hidden": true
   },
   "source": [
    "### Linear regression"
   ]
  },
  {
   "cell_type": "code",
   "execution_count": 54,
   "metadata": {
    "ExecuteTime": {
     "end_time": "2019-07-13T17:01:03.669209Z",
     "start_time": "2019-07-13T17:01:00.200269Z"
    },
    "hidden": true
   },
   "outputs": [
    {
     "name": "stdout",
     "output_type": "stream",
     "text": [
      "predicting event 21\n",
      "predicting event 22\n",
      "predicting event 23\n",
      "predicting event 24\n",
      "predicting event 25\n",
      "predicting event 26\n",
      "predicting event 27\n",
      "predicting event 28\n",
      "predicting event 29\n",
      "predicting event 30\n",
      "predicting event 31\n",
      "predicting event 32\n",
      "32 'NoneType' object is not iterable\n",
      "predicting event 33\n",
      "predicting event 34\n",
      "34 'NoneType' object is not iterable\n",
      "predicting event 35\n",
      "predicting event 36\n",
      "predicting event 37\n",
      "predicting event 38\n"
     ]
    }
   ],
   "source": [
    "(\n",
    "    lr_first_team_arr,\n",
    "    lr_bench_arr,\n",
    "    lr_total_points_arr,\n",
    "    lr_predicted_total_points_arr,\n",
    "    lr_team_df_arr\n",
    ") = \\\n",
    "construct_event_teams_from_scratch(lr_df_test, verbose=1)"
   ]
  },
  {
   "cell_type": "code",
   "execution_count": 83,
   "metadata": {
    "ExecuteTime": {
     "end_time": "2019-07-14T10:01:30.668993Z",
     "start_time": "2019-07-14T10:01:30.660388Z"
    },
    "hidden": true
   },
   "outputs": [
    {
     "data": {
      "text/plain": [
       "651"
      ]
     },
     "execution_count": 83,
     "metadata": {},
     "output_type": "execute_result"
    }
   ],
   "source": [
    "lr_teams_total_points = sum(lr_total_points_arr)\n",
    "lr_teams_total_points"
   ]
  },
  {
   "cell_type": "markdown",
   "metadata": {
    "heading_collapsed": true,
    "hidden": true
   },
   "source": [
    "### Ridge regression (lush)"
   ]
  },
  {
   "cell_type": "code",
   "execution_count": 56,
   "metadata": {
    "ExecuteTime": {
     "end_time": "2019-07-13T17:01:03.669209Z",
     "start_time": "2019-07-13T17:01:00.200269Z"
    },
    "hidden": true
   },
   "outputs": [
    {
     "name": "stdout",
     "output_type": "stream",
     "text": [
      "predicting event 21\n",
      "predicting event 22\n",
      "predicting event 23\n",
      "predicting event 24\n",
      "predicting event 25\n",
      "predicting event 26\n",
      "predicting event 27\n",
      "predicting event 28\n",
      "predicting event 29\n",
      "predicting event 30\n",
      "predicting event 31\n",
      "predicting event 32\n",
      "predicting event 33\n",
      "predicting event 34\n",
      "predicting event 35\n",
      "predicting event 36\n",
      "predicting event 37\n",
      "predicting event 38\n"
     ]
    }
   ],
   "source": [
    "(\n",
    "    lush_ridge_first_team_arr,\n",
    "    lush_ridge_bench_arr,\n",
    "    lush_ridge_total_points_arr,\n",
    "    lush_ridge_predicted_total_points_arr,\n",
    "    lush_ridge_team_df_arr\n",
    ") = \\\n",
    "construct_event_teams_from_scratch(lush_ridge_df_test, verbose=1)"
   ]
  },
  {
   "cell_type": "code",
   "execution_count": 84,
   "metadata": {
    "ExecuteTime": {
     "end_time": "2019-07-14T10:01:54.674306Z",
     "start_time": "2019-07-14T10:01:54.666350Z"
    },
    "hidden": true
   },
   "outputs": [
    {
     "data": {
      "text/plain": [
       "1200"
      ]
     },
     "execution_count": 84,
     "metadata": {},
     "output_type": "execute_result"
    }
   ],
   "source": [
    "lush_ridge_teams_total_points = sum(lush_ridge_total_points_arr)\n",
    "lush_ridge_teams_total_points"
   ]
  },
  {
   "cell_type": "markdown",
   "metadata": {
    "heading_collapsed": true,
    "hidden": true
   },
   "source": [
    "### Ridge regression (stark)"
   ]
  },
  {
   "cell_type": "code",
   "execution_count": 59,
   "metadata": {
    "ExecuteTime": {
     "end_time": "2019-07-13T17:00:53.019873Z",
     "start_time": "2019-07-13T17:00:49.779153Z"
    },
    "hidden": true
   },
   "outputs": [
    {
     "name": "stdout",
     "output_type": "stream",
     "text": [
      "predicting event 21\n",
      "predicting event 22\n",
      "predicting event 23\n",
      "predicting event 24\n",
      "predicting event 25\n",
      "predicting event 26\n",
      "predicting event 27\n",
      "predicting event 28\n",
      "predicting event 29\n",
      "predicting event 30\n",
      "predicting event 31\n",
      "predicting event 32\n",
      "predicting event 33\n",
      "predicting event 34\n",
      "predicting event 35\n",
      "predicting event 36\n",
      "predicting event 37\n",
      "predicting event 38\n"
     ]
    }
   ],
   "source": [
    "(\n",
    "    stark_ridge_first_team_arr,\n",
    "    stark_ridge_bench_arr,\n",
    "    stark_ridge_total_points_arr,\n",
    "    stark_ridge_predicted_total_points_arr,\n",
    "    stark_ridge_team_df_arr\n",
    ") = \\\n",
    "construct_event_teams_from_scratch(stark_ridge_df_test, verbose=1)"
   ]
  },
  {
   "cell_type": "code",
   "execution_count": 86,
   "metadata": {
    "ExecuteTime": {
     "end_time": "2019-07-14T10:02:24.305099Z",
     "start_time": "2019-07-14T10:02:24.296549Z"
    },
    "hidden": true
   },
   "outputs": [
    {
     "data": {
      "text/plain": [
       "1035"
      ]
     },
     "execution_count": 86,
     "metadata": {},
     "output_type": "execute_result"
    }
   ],
   "source": [
    "stark_ridge_teams_total_points = sum(stark_ridge_total_points_arr)\n",
    "stark_ridge_teams_total_points"
   ]
  },
  {
   "cell_type": "markdown",
   "metadata": {
    "heading_collapsed": true,
    "hidden": true
   },
   "source": [
    "### Lasso regression"
   ]
  },
  {
   "cell_type": "code",
   "execution_count": 61,
   "metadata": {
    "ExecuteTime": {
     "end_time": "2019-07-13T17:00:56.876340Z",
     "start_time": "2019-07-13T17:00:53.028060Z"
    },
    "hidden": true
   },
   "outputs": [
    {
     "name": "stdout",
     "output_type": "stream",
     "text": [
      "predicting event 21\n",
      "predicting event 22\n",
      "predicting event 23\n",
      "predicting event 24\n",
      "predicting event 25\n",
      "predicting event 26\n",
      "predicting event 27\n",
      "predicting event 28\n",
      "predicting event 29\n",
      "predicting event 30\n",
      "predicting event 31\n",
      "predicting event 32\n",
      "predicting event 33\n",
      "predicting event 34\n",
      "predicting event 35\n",
      "predicting event 36\n",
      "predicting event 37\n",
      "predicting event 38\n"
     ]
    }
   ],
   "source": [
    "(\n",
    "    lasso_first_team_arr,\n",
    "    lasso_bench_arr,\n",
    "    lasso_total_points_arr,\n",
    "    lasso_predicted_total_points_arr,\n",
    "    lasso_team_df_arr\n",
    ") = \\\n",
    "construct_event_teams_from_scratch(lasso_df_test, verbose=1)"
   ]
  },
  {
   "cell_type": "code",
   "execution_count": 87,
   "metadata": {
    "ExecuteTime": {
     "end_time": "2019-07-14T10:02:37.527770Z",
     "start_time": "2019-07-14T10:02:37.519518Z"
    },
    "hidden": true
   },
   "outputs": [
    {
     "data": {
      "text/plain": [
       "1163"
      ]
     },
     "execution_count": 87,
     "metadata": {},
     "output_type": "execute_result"
    }
   ],
   "source": [
    "lasso_teams_total_points = sum(lasso_total_points_arr)\n",
    "lasso_teams_total_points"
   ]
  },
  {
   "cell_type": "markdown",
   "metadata": {
    "heading_collapsed": true,
    "hidden": true
   },
   "source": [
    "### Radial basis SVM regression"
   ]
  },
  {
   "cell_type": "code",
   "execution_count": 63,
   "metadata": {
    "ExecuteTime": {
     "end_time": "2019-07-13T17:01:03.669209Z",
     "start_time": "2019-07-13T17:01:00.200269Z"
    },
    "hidden": true
   },
   "outputs": [
    {
     "name": "stdout",
     "output_type": "stream",
     "text": [
      "predicting event 21\n",
      "predicting event 22\n",
      "predicting event 23\n",
      "predicting event 24\n",
      "predicting event 25\n",
      "predicting event 26\n",
      "predicting event 27\n",
      "predicting event 28\n",
      "predicting event 29\n",
      "predicting event 30\n",
      "predicting event 31\n",
      "predicting event 32\n",
      "predicting event 33\n",
      "predicting event 34\n",
      "predicting event 35\n",
      "predicting event 36\n",
      "predicting event 37\n",
      "predicting event 38\n"
     ]
    }
   ],
   "source": [
    "(\n",
    "    rbf_svr_first_team_arr,\n",
    "    rbf_svr_bench_arr,\n",
    "    rbf_svr_total_points_arr,\n",
    "    rbf_svr_predicted_total_points_arr,\n",
    "    rbf_svr_team_df_arr\n",
    ") = \\\n",
    "construct_event_teams_from_scratch(rbf_svr_df_test, verbose=1)"
   ]
  },
  {
   "cell_type": "code",
   "execution_count": 88,
   "metadata": {
    "ExecuteTime": {
     "end_time": "2019-07-14T10:02:51.293944Z",
     "start_time": "2019-07-14T10:02:51.284642Z"
    },
    "hidden": true
   },
   "outputs": [
    {
     "data": {
      "text/plain": [
       "1158"
      ]
     },
     "execution_count": 88,
     "metadata": {},
     "output_type": "execute_result"
    }
   ],
   "source": [
    "rbf_svr_teams_total_points = sum(rbf_svr_total_points_arr)\n",
    "rbf_svr_teams_total_points"
   ]
  },
  {
   "cell_type": "markdown",
   "metadata": {
    "heading_collapsed": true,
    "hidden": true
   },
   "source": [
    "### Linear basis SVM regression"
   ]
  },
  {
   "cell_type": "code",
   "execution_count": 65,
   "metadata": {
    "ExecuteTime": {
     "end_time": "2019-07-13T17:01:03.669209Z",
     "start_time": "2019-07-13T17:01:00.200269Z"
    },
    "hidden": true
   },
   "outputs": [
    {
     "name": "stdout",
     "output_type": "stream",
     "text": [
      "predicting event 21\n",
      "predicting event 22\n",
      "predicting event 23\n",
      "predicting event 24\n",
      "predicting event 25\n",
      "predicting event 26\n",
      "predicting event 27\n",
      "predicting event 28\n",
      "predicting event 29\n",
      "predicting event 30\n",
      "predicting event 31\n",
      "predicting event 32\n",
      "predicting event 33\n",
      "predicting event 34\n",
      "predicting event 35\n",
      "predicting event 36\n",
      "predicting event 37\n",
      "predicting event 38\n"
     ]
    }
   ],
   "source": [
    "(\n",
    "    linear_svr_first_team_arr,\n",
    "    linear_svr_bench_arr,\n",
    "    linear_svr_total_points_arr,\n",
    "    linear_svr_predicted_total_points_arr,\n",
    "    linear_svr_team_df_arr\n",
    ") = \\\n",
    "construct_event_teams_from_scratch(linear_svr_df_test, verbose=1)"
   ]
  },
  {
   "cell_type": "code",
   "execution_count": 89,
   "metadata": {
    "ExecuteTime": {
     "end_time": "2019-07-14T10:03:05.667045Z",
     "start_time": "2019-07-14T10:03:05.658721Z"
    },
    "hidden": true
   },
   "outputs": [
    {
     "data": {
      "text/plain": [
       "1171"
      ]
     },
     "execution_count": 89,
     "metadata": {},
     "output_type": "execute_result"
    }
   ],
   "source": [
    "linear_svr_teams_total_points = sum(linear_svr_total_points_arr)\n",
    "linear_svr_teams_total_points"
   ]
  },
  {
   "cell_type": "markdown",
   "metadata": {
    "heading_collapsed": true,
    "hidden": true
   },
   "source": [
    "### Decision tree (lush)"
   ]
  },
  {
   "cell_type": "code",
   "execution_count": 81,
   "metadata": {
    "ExecuteTime": {
     "end_time": "2019-07-14T10:00:28.452949Z",
     "start_time": "2019-07-14T10:00:25.121246Z"
    },
    "hidden": true
   },
   "outputs": [
    {
     "name": "stdout",
     "output_type": "stream",
     "text": [
      "predicting event 21\n",
      "predicting event 22\n",
      "predicting event 23\n",
      "predicting event 24\n",
      "predicting event 25\n",
      "predicting event 26\n",
      "predicting event 27\n",
      "predicting event 28\n",
      "predicting event 29\n",
      "predicting event 30\n",
      "predicting event 31\n",
      "predicting event 32\n",
      "predicting event 33\n",
      "predicting event 34\n",
      "predicting event 35\n",
      "predicting event 36\n",
      "predicting event 37\n",
      "predicting event 38\n"
     ]
    }
   ],
   "source": [
    "(\n",
    "    lush_tree_first_team_arr,\n",
    "    lush_tree_bench_arr,\n",
    "    lush_tree_total_points_arr,\n",
    "    lush_tree_predicted_total_points_arr,\n",
    "    lush_tree_team_df_arr\n",
    ") = \\\n",
    "construct_event_teams_from_scratch(lush_tree_df_test, verbose=1)"
   ]
  },
  {
   "cell_type": "code",
   "execution_count": 128,
   "metadata": {
    "ExecuteTime": {
     "end_time": "2019-07-14T14:17:51.828539Z",
     "start_time": "2019-07-14T14:17:51.820575Z"
    },
    "hidden": true
   },
   "outputs": [
    {
     "data": {
      "text/plain": [
       "1187"
      ]
     },
     "execution_count": 128,
     "metadata": {},
     "output_type": "execute_result"
    }
   ],
   "source": [
    "lush_tree_teams_total_points = sum(lush_tree_total_points_arr)\n",
    "lush_tree_teams_total_points"
   ]
  },
  {
   "cell_type": "markdown",
   "metadata": {
    "heading_collapsed": true,
    "hidden": true
   },
   "source": [
    "### Decision tree (stark)"
   ]
  },
  {
   "cell_type": "code",
   "execution_count": 99,
   "metadata": {
    "ExecuteTime": {
     "end_time": "2019-07-14T10:06:20.635390Z",
     "start_time": "2019-07-14T10:06:10.185997Z"
    },
    "hidden": true
   },
   "outputs": [
    {
     "name": "stdout",
     "output_type": "stream",
     "text": [
      "predicting event 21\n",
      "predicting event 22\n",
      "predicting event 23\n",
      "predicting event 24\n",
      "predicting event 25\n",
      "predicting event 26\n",
      "predicting event 27\n",
      "predicting event 28\n",
      "predicting event 29\n",
      "predicting event 30\n",
      "predicting event 31\n",
      "predicting event 32\n",
      "predicting event 33\n",
      "predicting event 34\n",
      "predicting event 35\n",
      "predicting event 36\n",
      "predicting event 37\n",
      "predicting event 38\n"
     ]
    }
   ],
   "source": [
    "(\n",
    "    stark_tree_first_team_arr,\n",
    "    stark_tree_bench_arr,\n",
    "    stark_tree_total_points_arr,\n",
    "    stark_tree_predicted_total_points_arr,\n",
    "    stark_tree_team_df_arr\n",
    ") = \\\n",
    "construct_event_teams_from_scratch(stark_tree_df_test, verbose=1)"
   ]
  },
  {
   "cell_type": "code",
   "execution_count": 152,
   "metadata": {
    "ExecuteTime": {
     "end_time": "2019-07-15T13:21:21.751368Z",
     "start_time": "2019-07-15T13:21:21.742914Z"
    },
    "hidden": true
   },
   "outputs": [
    {
     "data": {
      "text/plain": [
       "1232"
      ]
     },
     "execution_count": 152,
     "metadata": {},
     "output_type": "execute_result"
    }
   ],
   "source": [
    "stark_tree_teams_total_points = sum(stark_tree_total_points_arr)\n",
    "stark_tree_teams_total_points"
   ]
  },
  {
   "cell_type": "markdown",
   "metadata": {
    "heading_collapsed": true,
    "hidden": true
   },
   "source": [
    "### Random forest (lush)"
   ]
  },
  {
   "cell_type": "code",
   "execution_count": 136,
   "metadata": {
    "ExecuteTime": {
     "end_time": "2019-07-14T14:35:47.889246Z",
     "start_time": "2019-07-14T14:35:37.328516Z"
    },
    "hidden": true
   },
   "outputs": [
    {
     "name": "stdout",
     "output_type": "stream",
     "text": [
      "predicting event 21\n",
      "predicting event 22\n",
      "predicting event 23\n",
      "predicting event 24\n",
      "predicting event 25\n",
      "predicting event 26\n",
      "predicting event 27\n",
      "predicting event 28\n",
      "predicting event 29\n",
      "predicting event 30\n",
      "predicting event 31\n",
      "predicting event 32\n",
      "predicting event 33\n",
      "predicting event 34\n",
      "predicting event 35\n",
      "predicting event 36\n",
      "predicting event 37\n",
      "predicting event 38\n"
     ]
    }
   ],
   "source": [
    "(\n",
    "    lush_forest_first_team_arr,\n",
    "    lush_forest_bench_arr,\n",
    "    lush_forest_total_points_arr,\n",
    "    lush_forest_predicted_total_points_arr,\n",
    "    lush_forest_team_df_arr\n",
    ") = \\\n",
    "construct_event_teams_from_scratch(lush_forest_df_test, verbose=1)"
   ]
  },
  {
   "cell_type": "code",
   "execution_count": 137,
   "metadata": {
    "ExecuteTime": {
     "end_time": "2019-07-14T14:35:47.896243Z",
     "start_time": "2019-07-14T14:35:47.891853Z"
    },
    "hidden": true
   },
   "outputs": [
    {
     "data": {
      "text/plain": [
       "1316"
      ]
     },
     "execution_count": 137,
     "metadata": {},
     "output_type": "execute_result"
    }
   ],
   "source": [
    "lush_forest_teams_total_points = sum(lush_forest_total_points_arr)\n",
    "lush_forest_teams_total_points"
   ]
  },
  {
   "cell_type": "markdown",
   "metadata": {
    "heading_collapsed": true,
    "hidden": true
   },
   "source": [
    "### Random forest (stark)"
   ]
  },
  {
   "cell_type": "code",
   "execution_count": 148,
   "metadata": {
    "ExecuteTime": {
     "end_time": "2019-07-15T13:20:28.653185Z",
     "start_time": "2019-07-15T13:20:21.055308Z"
    },
    "hidden": true
   },
   "outputs": [
    {
     "name": "stdout",
     "output_type": "stream",
     "text": [
      "predicting event 21\n",
      "predicting event 22\n",
      "predicting event 23\n",
      "predicting event 24\n",
      "predicting event 25\n",
      "predicting event 26\n",
      "predicting event 27\n",
      "predicting event 28\n",
      "predicting event 29\n",
      "predicting event 30\n",
      "predicting event 31\n",
      "predicting event 32\n",
      "predicting event 33\n",
      "predicting event 34\n",
      "predicting event 35\n",
      "predicting event 36\n",
      "predicting event 37\n",
      "predicting event 38\n"
     ]
    }
   ],
   "source": [
    "(\n",
    "    stark_forest_first_team_arr,\n",
    "    stark_forest_bench_arr,\n",
    "    stark_forest_total_points_arr,\n",
    "    stark_forest_predicted_total_points_arr,\n",
    "    stark_forest_team_df_arr\n",
    ") = \\\n",
    "construct_event_teams_from_scratch(stark_forest_df_test, verbose=1)"
   ]
  },
  {
   "cell_type": "code",
   "execution_count": 149,
   "metadata": {
    "ExecuteTime": {
     "end_time": "2019-07-15T13:20:28.659762Z",
     "start_time": "2019-07-15T13:20:28.655420Z"
    },
    "hidden": true
   },
   "outputs": [
    {
     "data": {
      "text/plain": [
       "1299"
      ]
     },
     "execution_count": 149,
     "metadata": {},
     "output_type": "execute_result"
    }
   ],
   "source": [
    "stark_forest_teams_total_points = sum(stark_forest_total_points_arr)\n",
    "stark_forest_teams_total_points"
   ]
  },
  {
   "cell_type": "markdown",
   "metadata": {
    "heading_collapsed": true,
    "hidden": true
   },
   "source": [
    "### Gradient boosted trees (lush)"
   ]
  },
  {
   "cell_type": "code",
   "execution_count": 171,
   "metadata": {
    "ExecuteTime": {
     "end_time": "2019-07-15T14:25:40.478122Z",
     "start_time": "2019-07-15T14:25:28.599918Z"
    },
    "hidden": true
   },
   "outputs": [
    {
     "name": "stdout",
     "output_type": "stream",
     "text": [
      "predicting event 21\n",
      "predicting event 22\n",
      "predicting event 23\n",
      "predicting event 24\n",
      "predicting event 25\n",
      "predicting event 26\n",
      "predicting event 27\n",
      "predicting event 28\n",
      "predicting event 29\n",
      "predicting event 30\n",
      "predicting event 31\n",
      "predicting event 32\n",
      "predicting event 33\n",
      "predicting event 34\n",
      "predicting event 35\n",
      "predicting event 36\n",
      "predicting event 37\n",
      "predicting event 38\n"
     ]
    }
   ],
   "source": [
    "(\n",
    "    lush_boost_first_team_arr,\n",
    "    lush_boost_bench_arr,\n",
    "    lush_boost_total_points_arr,\n",
    "    lush_boost_predicted_total_points_arr,\n",
    "    lush_boost_team_df_arr\n",
    ") = \\\n",
    "construct_event_teams_from_scratch(lush_boost_df_test, verbose=1)"
   ]
  },
  {
   "cell_type": "code",
   "execution_count": 172,
   "metadata": {
    "ExecuteTime": {
     "end_time": "2019-07-15T14:25:40.484638Z",
     "start_time": "2019-07-15T14:25:40.480752Z"
    },
    "hidden": true
   },
   "outputs": [
    {
     "data": {
      "text/plain": [
       "1330"
      ]
     },
     "execution_count": 172,
     "metadata": {},
     "output_type": "execute_result"
    }
   ],
   "source": [
    "lush_boost_teams_total_points = sum(lush_boost_total_points_arr)\n",
    "lush_boost_teams_total_points"
   ]
  },
  {
   "cell_type": "markdown",
   "metadata": {
    "heading_collapsed": true,
    "hidden": true
   },
   "source": [
    "### Gradient boosted trees (stark)"
   ]
  },
  {
   "cell_type": "code",
   "execution_count": 173,
   "metadata": {
    "ExecuteTime": {
     "end_time": "2019-07-15T14:25:44.540036Z",
     "start_time": "2019-07-15T14:25:40.486563Z"
    },
    "hidden": true
   },
   "outputs": [
    {
     "name": "stdout",
     "output_type": "stream",
     "text": [
      "predicting event 21\n",
      "predicting event 22\n",
      "predicting event 23\n",
      "predicting event 24\n",
      "predicting event 25\n",
      "predicting event 26\n",
      "predicting event 27\n",
      "predicting event 28\n",
      "predicting event 29\n",
      "predicting event 30\n",
      "predicting event 31\n",
      "predicting event 32\n",
      "predicting event 33\n",
      "predicting event 34\n",
      "predicting event 35\n",
      "predicting event 36\n",
      "predicting event 37\n",
      "predicting event 38\n"
     ]
    }
   ],
   "source": [
    "(\n",
    "    stark_boost_first_team_arr,\n",
    "    stark_boost_bench_arr,\n",
    "    stark_boost_total_points_arr,\n",
    "    stark_boost_predicted_total_points_arr,\n",
    "    stark_boost_team_df_arr\n",
    ") = \\\n",
    "construct_event_teams_from_scratch(stark_boost_df_test, verbose=1)"
   ]
  },
  {
   "cell_type": "code",
   "execution_count": 174,
   "metadata": {
    "ExecuteTime": {
     "end_time": "2019-07-15T14:25:44.546780Z",
     "start_time": "2019-07-15T14:25:44.542808Z"
    },
    "hidden": true
   },
   "outputs": [
    {
     "data": {
      "text/plain": [
       "1305"
      ]
     },
     "execution_count": 174,
     "metadata": {},
     "output_type": "execute_result"
    }
   ],
   "source": [
    "stark_boost_teams_total_points = sum(stark_boost_total_points_arr)\n",
    "stark_boost_teams_total_points"
   ]
  },
  {
   "cell_type": "markdown",
   "metadata": {},
   "source": [
    "## Summary"
   ]
  },
  {
   "cell_type": "code",
   "execution_count": 170,
   "metadata": {
    "ExecuteTime": {
     "end_time": "2019-07-15T14:24:40.958483Z",
     "start_time": "2019-07-15T14:24:40.917197Z"
    }
   },
   "outputs": [
    {
     "data": {
      "text/html": [
       "<div>\n",
       "<style scoped>\n",
       "    .dataframe tbody tr th:only-of-type {\n",
       "        vertical-align: middle;\n",
       "    }\n",
       "\n",
       "    .dataframe tbody tr th {\n",
       "        vertical-align: top;\n",
       "    }\n",
       "\n",
       "    .dataframe thead th {\n",
       "        text-align: right;\n",
       "    }\n",
       "</style>\n",
       "<table border=\"1\" class=\"dataframe\">\n",
       "  <thead>\n",
       "    <tr style=\"text-align: right;\">\n",
       "      <th></th>\n",
       "      <th>model</th>\n",
       "      <th>MAE</th>\n",
       "      <th>MSE</th>\n",
       "      <th>r2</th>\n",
       "    </tr>\n",
       "  </thead>\n",
       "  <tbody>\n",
       "    <tr>\n",
       "      <th>0</th>\n",
       "      <td>Linear regression</td>\n",
       "      <td>2.389162</td>\n",
       "      <td>10.275135</td>\n",
       "      <td>-0.000257</td>\n",
       "    </tr>\n",
       "    <tr>\n",
       "      <th>1</th>\n",
       "      <td>Ridge regression (lush)</td>\n",
       "      <td>2.259268</td>\n",
       "      <td>9.308154</td>\n",
       "      <td>0.093876</td>\n",
       "    </tr>\n",
       "    <tr>\n",
       "      <th>2</th>\n",
       "      <td>Ridge regression (stark)</td>\n",
       "      <td>2.282544</td>\n",
       "      <td>9.594887</td>\n",
       "      <td>0.065963</td>\n",
       "    </tr>\n",
       "    <tr>\n",
       "      <th>3</th>\n",
       "      <td>Lasso regression</td>\n",
       "      <td>2.297304</td>\n",
       "      <td>9.691294</td>\n",
       "      <td>0.056578</td>\n",
       "    </tr>\n",
       "    <tr>\n",
       "      <th>4</th>\n",
       "      <td>Radius basis SVM regression</td>\n",
       "      <td>2.280704</td>\n",
       "      <td>9.431990</td>\n",
       "      <td>0.081821</td>\n",
       "    </tr>\n",
       "    <tr>\n",
       "      <th>5</th>\n",
       "      <td>Linear basis SVM regression</td>\n",
       "      <td>2.315303</td>\n",
       "      <td>9.458456</td>\n",
       "      <td>0.079244</td>\n",
       "    </tr>\n",
       "    <tr>\n",
       "      <th>6</th>\n",
       "      <td>Decision tree (lush)</td>\n",
       "      <td>2.044049</td>\n",
       "      <td>8.314565</td>\n",
       "      <td>0.190599</td>\n",
       "    </tr>\n",
       "    <tr>\n",
       "      <th>7</th>\n",
       "      <td>Decision tree (stark)</td>\n",
       "      <td>1.983725</td>\n",
       "      <td>8.192880</td>\n",
       "      <td>0.202445</td>\n",
       "    </tr>\n",
       "    <tr>\n",
       "      <th>8</th>\n",
       "      <td>Random forest (lush)</td>\n",
       "      <td>1.954763</td>\n",
       "      <td>7.906713</td>\n",
       "      <td>0.230302</td>\n",
       "    </tr>\n",
       "    <tr>\n",
       "      <th>9</th>\n",
       "      <td>Random forest (stark)</td>\n",
       "      <td>1.958806</td>\n",
       "      <td>7.912689</td>\n",
       "      <td>0.229721</td>\n",
       "    </tr>\n",
       "    <tr>\n",
       "      <th>10</th>\n",
       "      <td>Gradient boosted trees (lush)</td>\n",
       "      <td>1.973260</td>\n",
       "      <td>7.863189</td>\n",
       "      <td>0.234539</td>\n",
       "    </tr>\n",
       "    <tr>\n",
       "      <th>11</th>\n",
       "      <td>Gradient boosted trees (stark)</td>\n",
       "      <td>1.971064</td>\n",
       "      <td>7.835092</td>\n",
       "      <td>0.237274</td>\n",
       "    </tr>\n",
       "  </tbody>\n",
       "</table>\n",
       "</div>"
      ],
      "text/plain": [
       "                             model       MAE        MSE        r2\n",
       "0                Linear regression  2.389162  10.275135 -0.000257\n",
       "1          Ridge regression (lush)  2.259268   9.308154  0.093876\n",
       "2         Ridge regression (stark)  2.282544   9.594887  0.065963\n",
       "3                 Lasso regression  2.297304   9.691294  0.056578\n",
       "4      Radius basis SVM regression  2.280704   9.431990  0.081821\n",
       "5      Linear basis SVM regression  2.315303   9.458456  0.079244\n",
       "6             Decision tree (lush)  2.044049   8.314565  0.190599\n",
       "7            Decision tree (stark)  1.983725   8.192880  0.202445\n",
       "8             Random forest (lush)  1.954763   7.906713  0.230302\n",
       "9            Random forest (stark)  1.958806   7.912689  0.229721\n",
       "10   Gradient boosted trees (lush)  1.973260   7.863189  0.234539\n",
       "11  Gradient boosted trees (stark)  1.971064   7.835092  0.237274"
      ]
     },
     "execution_count": 170,
     "metadata": {},
     "output_type": "execute_result"
    }
   ],
   "source": [
    "pd.DataFrame([\n",
    "    ('Linear regression', lr_test_loss[0], lr_test_loss[1], lr_test_loss[2]),\n",
    "    ('Ridge regression (lush)', lush_ridge_test_loss[0], lush_ridge_test_loss[1], lush_ridge_test_loss[2]),\n",
    "    ('Ridge regression (stark)', stark_ridge_test_loss[0], stark_ridge_test_loss[1], stark_ridge_test_loss[2]),\n",
    "    ('Lasso regression', lasso_test_loss[0], lasso_test_loss[1], lasso_test_loss[2]),\n",
    "    ('Radius basis SVM regression', rbf_svr_test_loss[0], rbf_svr_test_loss[1], rbf_svr_test_loss[2]),\n",
    "    ('Linear basis SVM regression', linear_svr_test_loss[0], linear_svr_test_loss[1], linear_svr_test_loss[2]),\n",
    "    ('Decision tree (lush)', lush_tree_test_loss[0], lush_tree_test_loss[1], lush_tree_test_loss[2]),\n",
    "    ('Decision tree (stark)', stark_tree_test_loss[0], stark_tree_test_loss[1], stark_tree_test_loss[2]),\n",
    "    ('Random forest (lush)', lush_forest_test_loss[0], lush_forest_test_loss[1], lush_forest_test_loss[2]),\n",
    "    ('Random forest (stark)', stark_forest_test_loss[0], stark_forest_test_loss[1], stark_forest_test_loss[2]),\n",
    "    ('Gradient boosted trees (lush)', lush_boost_test_loss[0], lush_boost_test_loss[1], lush_boost_test_loss[2]),\n",
    "    ('Gradient boosted trees (stark)', stark_boost_test_loss[0], stark_boost_test_loss[1], stark_boost_test_loss[2]), \n",
    "], columns=['model', 'MAE', 'MSE', 'r2'])"
   ]
  },
  {
   "cell_type": "code",
   "execution_count": 175,
   "metadata": {
    "ExecuteTime": {
     "end_time": "2019-07-15T14:26:27.261166Z",
     "start_time": "2019-07-15T14:26:27.231212Z"
    }
   },
   "outputs": [
    {
     "data": {
      "text/html": [
       "<div>\n",
       "<style scoped>\n",
       "    .dataframe tbody tr th:only-of-type {\n",
       "        vertical-align: middle;\n",
       "    }\n",
       "\n",
       "    .dataframe tbody tr th {\n",
       "        vertical-align: top;\n",
       "    }\n",
       "\n",
       "    .dataframe thead th {\n",
       "        text-align: right;\n",
       "    }\n",
       "</style>\n",
       "<table border=\"1\" class=\"dataframe\">\n",
       "  <thead>\n",
       "    <tr style=\"text-align: right;\">\n",
       "      <th></th>\n",
       "      <th>model</th>\n",
       "      <th>teams total points</th>\n",
       "    </tr>\n",
       "  </thead>\n",
       "  <tbody>\n",
       "    <tr>\n",
       "      <th>0</th>\n",
       "      <td>Linear regression</td>\n",
       "      <td>651</td>\n",
       "    </tr>\n",
       "    <tr>\n",
       "      <th>1</th>\n",
       "      <td>Ridge regression (lush)</td>\n",
       "      <td>1200</td>\n",
       "    </tr>\n",
       "    <tr>\n",
       "      <th>2</th>\n",
       "      <td>Ridge regression (stark)</td>\n",
       "      <td>1035</td>\n",
       "    </tr>\n",
       "    <tr>\n",
       "      <th>3</th>\n",
       "      <td>Lasso regression</td>\n",
       "      <td>1163</td>\n",
       "    </tr>\n",
       "    <tr>\n",
       "      <th>4</th>\n",
       "      <td>Radius basis SVM regression</td>\n",
       "      <td>1171</td>\n",
       "    </tr>\n",
       "    <tr>\n",
       "      <th>5</th>\n",
       "      <td>Linear basis SVM regression</td>\n",
       "      <td>1158</td>\n",
       "    </tr>\n",
       "    <tr>\n",
       "      <th>6</th>\n",
       "      <td>Decision tree (lush)</td>\n",
       "      <td>1187</td>\n",
       "    </tr>\n",
       "    <tr>\n",
       "      <th>7</th>\n",
       "      <td>Decision tree (stark)</td>\n",
       "      <td>1232</td>\n",
       "    </tr>\n",
       "    <tr>\n",
       "      <th>8</th>\n",
       "      <td>Random forest (lush)</td>\n",
       "      <td>1316</td>\n",
       "    </tr>\n",
       "    <tr>\n",
       "      <th>9</th>\n",
       "      <td>Random forest (stark)</td>\n",
       "      <td>1299</td>\n",
       "    </tr>\n",
       "    <tr>\n",
       "      <th>10</th>\n",
       "      <td>Gradient boosted trees (lush)</td>\n",
       "      <td>1330</td>\n",
       "    </tr>\n",
       "    <tr>\n",
       "      <th>11</th>\n",
       "      <td>Gradient boosted trees (stark)</td>\n",
       "      <td>1305</td>\n",
       "    </tr>\n",
       "  </tbody>\n",
       "</table>\n",
       "</div>"
      ],
      "text/plain": [
       "                             model  teams total points\n",
       "0                Linear regression                 651\n",
       "1          Ridge regression (lush)                1200\n",
       "2         Ridge regression (stark)                1035\n",
       "3                 Lasso regression                1163\n",
       "4      Radius basis SVM regression                1171\n",
       "5      Linear basis SVM regression                1158\n",
       "6             Decision tree (lush)                1187\n",
       "7            Decision tree (stark)                1232\n",
       "8             Random forest (lush)                1316\n",
       "9            Random forest (stark)                1299\n",
       "10   Gradient boosted trees (lush)                1330\n",
       "11  Gradient boosted trees (stark)                1305"
      ]
     },
     "execution_count": 175,
     "metadata": {},
     "output_type": "execute_result"
    }
   ],
   "source": [
    "pd.DataFrame([\n",
    "    ('Linear regression', lr_teams_total_points),\n",
    "    ('Ridge regression (lush)', lush_ridge_teams_total_points),\n",
    "    ('Ridge regression (stark)', stark_ridge_teams_total_points),\n",
    "    ('Lasso regression', lasso_teams_total_points),\n",
    "    ('Radius basis SVM regression', linear_svr_teams_total_points),\n",
    "    ('Linear basis SVM regression', rbf_svr_teams_total_points),\n",
    "    ('Decision tree (lush)', lush_tree_teams_total_points),\n",
    "    ('Decision tree (stark)', stark_tree_teams_total_points),\n",
    "    ('Random forest (lush)', lush_forest_teams_total_points),\n",
    "    ('Random forest (stark)', stark_forest_teams_total_points),\n",
    "    ('Gradient boosted trees (lush)', lush_boost_teams_total_points),\n",
    "    ('Gradient boosted trees (stark)', stark_boost_teams_total_points),\n",
    "], columns=['model', 'teams total points'])"
   ]
  }
 ],
 "metadata": {
  "kernelspec": {
   "display_name": "Python 3",
   "language": "python",
   "name": "python3"
  },
  "language_info": {
   "codemirror_mode": {
    "name": "ipython",
    "version": 3
   },
   "file_extension": ".py",
   "mimetype": "text/x-python",
   "name": "python",
   "nbconvert_exporter": "python",
   "pygments_lexer": "ipython3",
   "version": "3.6.7"
  },
  "toc": {
   "nav_menu": {},
   "number_sections": true,
   "sideBar": true,
   "skip_h1_title": false,
   "title_cell": "Table of Contents",
   "title_sidebar": "Contents",
   "toc_cell": false,
   "toc_position": {},
   "toc_section_display": true,
   "toc_window_display": false
  }
 },
 "nbformat": 4,
 "nbformat_minor": 2
}
