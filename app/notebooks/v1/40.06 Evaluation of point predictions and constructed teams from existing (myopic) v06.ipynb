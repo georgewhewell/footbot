{
 "cells": [
  {
   "cell_type": "markdown",
   "metadata": {},
   "source": [
    "# Set up"
   ]
  },
  {
   "cell_type": "code",
   "execution_count": 1,
   "metadata": {
    "ExecuteTime": {
     "end_time": "2019-08-01T17:47:09.144104Z",
     "start_time": "2019-08-01T17:47:09.137972Z"
    }
   },
   "outputs": [],
   "source": [
    "# update path with data dir\n",
    "import sys\n",
    "sys.path.append('../../optimiser/')"
   ]
  },
  {
   "cell_type": "code",
   "execution_count": 2,
   "metadata": {
    "ExecuteTime": {
     "end_time": "2019-08-01T17:48:06.291278Z",
     "start_time": "2019-08-01T17:48:04.954876Z"
    }
   },
   "outputs": [],
   "source": [
    "import pandas as pd\n",
    "import patsy\n",
    "import numpy as np\n",
    "from sklearn.linear_model import LinearRegression, Ridge, Lasso\n",
    "from sklearn.svm import SVR\n",
    "from sklearn.tree import DecisionTreeRegressor\n",
    "from sklearn.ensemble import RandomForestRegressor, GradientBoostingRegressor\n",
    "from sklearn.preprocessing import StandardScaler\n",
    "from sklearn.model_selection import PredefinedSplit\n",
    "from sklearn.decomposition import PCA\n",
    "from sklearn.metrics import mean_absolute_error, mean_squared_error, r2_score\n",
    "import matplotlib.pyplot as plt\n",
    "import optimiser"
   ]
  },
  {
   "cell_type": "markdown",
   "metadata": {},
   "source": [
    "# Getting data"
   ]
  },
  {
   "cell_type": "code",
   "execution_count": 3,
   "metadata": {
    "ExecuteTime": {
     "end_time": "2019-08-01T17:48:11.109275Z",
     "start_time": "2019-08-01T17:48:11.103854Z"
    }
   },
   "outputs": [],
   "source": [
    "file_name = '../csvs/element_gameweek_features_v06.csv'"
   ]
  },
  {
   "cell_type": "code",
   "execution_count": 4,
   "metadata": {
    "ExecuteTime": {
     "end_time": "2019-08-01T17:48:12.711726Z",
     "start_time": "2019-08-01T17:48:12.394230Z"
    }
   },
   "outputs": [],
   "source": [
    "element_gameweek_df = pd.read_csv(file_name)"
   ]
  },
  {
   "cell_type": "code",
   "execution_count": 5,
   "metadata": {
    "ExecuteTime": {
     "end_time": "2019-08-01T17:48:40.847110Z",
     "start_time": "2019-08-01T17:48:40.390999Z"
    }
   },
   "outputs": [],
   "source": [
    "element_gameweek_df.fillna(\n",
    "    element_gameweek_df[element_gameweek_df['event'] <= 20].mean(),\n",
    "    inplace=True\n",
    ")"
   ]
  },
  {
   "cell_type": "code",
   "execution_count": 6,
   "metadata": {
    "ExecuteTime": {
     "end_time": "2019-08-01T17:48:41.670120Z",
     "start_time": "2019-08-01T17:48:41.655486Z"
    }
   },
   "outputs": [],
   "source": [
    "all_element_gameweek_df = element_gameweek_df.copy()"
   ]
  },
  {
   "cell_type": "code",
   "execution_count": 7,
   "metadata": {
    "ExecuteTime": {
     "end_time": "2019-08-01T17:48:42.475332Z",
     "start_time": "2019-08-01T17:48:42.467700Z"
    }
   },
   "outputs": [],
   "source": [
    "all_element_gameweek_df['predicted_total_points'] = 0"
   ]
  },
  {
   "cell_type": "code",
   "execution_count": 8,
   "metadata": {
    "ExecuteTime": {
     "end_time": "2019-08-01T17:48:43.582193Z",
     "start_time": "2019-08-01T17:48:43.569063Z"
    }
   },
   "outputs": [
    {
     "data": {
      "text/plain": [
       "['safe_web_name',\n",
       " 'element',\n",
       " 'event',\n",
       " 'fixture',\n",
       " 'team',\n",
       " 'opposition_team',\n",
       " 'was_home',\n",
       " 'is_sunday',\n",
       " 'is_weekday',\n",
       " 'is_early',\n",
       " 'is_late',\n",
       " 'element_type',\n",
       " 'value',\n",
       " 'rolling_value_points',\n",
       " 'rolling_avg_total_points_element',\n",
       " 'rolling_max_total_points_element',\n",
       " 'has_high_points_ever_element',\n",
       " 'rolling_avg_bps_element',\n",
       " 'rolling_avg_bonus_element',\n",
       " 'rolling_avg_goals_scored_element',\n",
       " 'rolling_avg_minutes_element',\n",
       " 'rolling_avg_clean_sheets_element',\n",
       " 'rolling_avg_completed_passes_element',\n",
       " 'rolling_avg_recoveries_element',\n",
       " 'rolling_avg_assists_element',\n",
       " 'rolling_avg_key_passes_element',\n",
       " 'rolling_avg_winning_goals_element',\n",
       " 'rolling_avg_tackled_element',\n",
       " 'rolling_avg_dribbles_element',\n",
       " 'rolling_avg_clearances_blocks_interceptions_element',\n",
       " 'rolling_avg_big_chances_created_element',\n",
       " 'rolling_avg_target_missed_element',\n",
       " 'rolling_avg_fouls_element',\n",
       " 'rolling_avg_tackles_element',\n",
       " 'rolling_avg_open_play_crosses_element',\n",
       " 'rolling_avg_offside_element',\n",
       " 'rolling_avg_big_chances_missed_element',\n",
       " 'rolling_avg_saves_element',\n",
       " 'rolling_avg_goals_conceded_element',\n",
       " 'rolling_avg_minutes_element_p3',\n",
       " 'rolling_avg_total_points_element_p3',\n",
       " 'rolling_avg_total_points_own_team',\n",
       " 'rolling_avg_total_points_element_home',\n",
       " 'rolling_avg_total_points_element_away',\n",
       " 'expected_total_points_element_home_away',\n",
       " 'rolling_avg_total_points_opposition_team',\n",
       " 'rolling_avg_goals_scored_opposition_team',\n",
       " 'rolling_avg_goals_conceded_opposition_team',\n",
       " 'rolling_avg_total_points_element_type',\n",
       " 'rolling_avg_total_points_against_opposition_team',\n",
       " 'rolling_avg_total_points_against_opposition_team_element_type',\n",
       " 'expected_total_points_against_opposition_team',\n",
       " 'rolling_avg_total_points_against_opposition_team_element_type_home',\n",
       " 'rolling_avg_total_points_against_opposition_team_element_type_away',\n",
       " 'expected_total_points_against_opposition_team_home_away',\n",
       " 'total_points',\n",
       " 'minutes']"
      ]
     },
     "execution_count": 8,
     "metadata": {},
     "output_type": "execute_result"
    }
   ],
   "source": [
    "list(element_gameweek_df.columns)"
   ]
  },
  {
   "cell_type": "markdown",
   "metadata": {},
   "source": [
    "# Evaluating models"
   ]
  },
  {
   "cell_type": "markdown",
   "metadata": {},
   "source": [
    "## Helpers"
   ]
  },
  {
   "cell_type": "markdown",
   "metadata": {},
   "source": [
    "### Modelling"
   ]
  },
  {
   "cell_type": "code",
   "execution_count": 9,
   "metadata": {
    "ExecuteTime": {
     "end_time": "2019-08-01T17:49:05.108747Z",
     "start_time": "2019-08-01T17:49:05.100471Z"
    }
   },
   "outputs": [],
   "source": [
    "formula = \\\n",
    "'total_points ~ C(element) + C(element_type) + C(team) + C(opposition_team) + ' + \\\n",
    "' + '.join([i for i in element_gameweek_df.columns if i not in\n",
    " [\n",
    "     'safe_web_name',\n",
    "     'element',\n",
    "     'event',\n",
    "     'fixture',\n",
    "     'team',\n",
    "     'opposition_team',\n",
    "     'element_type',\n",
    "     'minutes',\n",
    "     'rolling_value_points',\n",
    "     'total_points'\n",
    " ]])"
   ]
  },
  {
   "cell_type": "code",
   "execution_count": 10,
   "metadata": {
    "ExecuteTime": {
     "end_time": "2019-08-01T17:49:40.488997Z",
     "start_time": "2019-08-01T17:49:40.480384Z"
    }
   },
   "outputs": [],
   "source": [
    "scaled_feature_cols = [\n",
    "    i for i in element_gameweek_df.columns if i not in [\n",
    "        'safe_web_name', 'element', 'event', 'fixture', 'team',\n",
    "        'opposition_team', 'element_type', 'was_home', 'is_sunday',\n",
    "        'is_weekday', 'is_late', 'is_early', 'has_high_points_ever_element',\n",
    "        'total_points', 'minutes', 'rolling_value_points'\n",
    "    ]\n",
    "]"
   ]
  },
  {
   "cell_type": "markdown",
   "metadata": {},
   "source": [
    "### Predicting points"
   ]
  },
  {
   "cell_type": "code",
   "execution_count": 11,
   "metadata": {
    "ExecuteTime": {
     "end_time": "2019-08-01T17:49:44.096998Z",
     "start_time": "2019-08-01T17:49:44.081847Z"
    }
   },
   "outputs": [],
   "source": [
    "def calculate_expected_total_points_against_opposition_team(row):\n",
    "    a = 'rolling_avg_total_points_against_opposition_team_element_type'\n",
    "    b = 'rolling_avg_total_points_element'\n",
    "    c = 'rolling_avg_total_points_element_type'\n",
    "    return row[a] * row[b] / row[c]\n",
    "\n",
    "\n",
    "def calculate_expected_total_points_against_opposition_team_home_away(row):\n",
    "    a = 'rolling_avg_total_points_against_opposition_team_element_type_home'\n",
    "    b = 'rolling_avg_total_points_against_opposition_team_element_type_away'\n",
    "    c = 'rolling_avg_total_points_element'\n",
    "    d = 'rolling_avg_total_points_element_type'\n",
    "    if row['was_home'] == 1:\n",
    "        return row[a] * row[c] / row[d]\n",
    "    else:\n",
    "        return row[b] * row[c] / row[d]\n",
    "\n",
    "\n",
    "def calculate_expected_total_points_element_home_away(row):\n",
    "    a = 'rolling_avg_total_points_element_home'\n",
    "    b = 'rolling_avg_total_points_element_away'\n",
    "    if row['was_home'] == 1:\n",
    "        return row[a]\n",
    "    else:\n",
    "        return row[b]"
   ]
  },
  {
   "cell_type": "code",
   "execution_count": 16,
   "metadata": {
    "ExecuteTime": {
     "end_time": "2019-07-27T12:38:27.621557Z",
     "start_time": "2019-07-27T12:38:27.557454Z"
    }
   },
   "outputs": [],
   "source": [
    "def predict_test_set(df,\n",
    "                     model,\n",
    "                     prediction_events=1,\n",
    "                     features=False,\n",
    "                     standardise=True,\n",
    "                     start=21,\n",
    "                     end=38,\n",
    "                     verbose=0):\n",
    "    y_pred_arr = []\n",
    "    y_test_arr = []\n",
    "    event_df_test_arr = []\n",
    "\n",
    "    # for each event we want to predict\n",
    "    for e in range(start, end + 1):\n",
    "        if verbose > 0:\n",
    "            print('predicting event', e)\n",
    "        \n",
    "        # filter weeks after test week\n",
    "        event_df = df.copy()\n",
    "        event_df = event_df[event_df['event'] <= e + prediction_events - 1]\n",
    "        \n",
    "        cols = event_df.columns\n",
    "\n",
    "        # columns that we can fill down\n",
    "        unknown_element_cols = [\n",
    "            'value', 'rolling_avg_total_points_element',\n",
    "            'rolling_max_total_points_element', 'has_high_points_ever_element',\n",
    "            'rolling_avg_bps_element', 'rolling_avg_bonus_element',\n",
    "            'rolling_avg_goals_scored_element', 'rolling_avg_minutes_element',\n",
    "            'rolling_avg_clean_sheets_element', 'rolling_avg_completed_passes_element',\n",
    "            'rolling_avg_recoveries_element', 'rolling_avg_assists_element',\n",
    "            'rolling_avg_key_passes_element', 'rolling_avg_winning_goals_element',\n",
    "            'rolling_avg_tackled_element', 'rolling_avg_dribbles_element',\n",
    "            'rolling_avg_clearances_blocks_interceptions_element',\n",
    "            'rolling_avg_big_chances_created_element',\n",
    "            'rolling_avg_target_missed_element', 'rolling_avg_fouls_element',\n",
    "            'rolling_avg_tackles_element', 'rolling_avg_open_play_crosses_element',\n",
    "            'rolling_avg_offside_element', 'rolling_avg_big_chances_missed_element',\n",
    "            'rolling_avg_saves_element', 'rolling_avg_goals_conceded_element',\n",
    "            'rolling_avg_minutes_element_p3', 'rolling_avg_total_points_element_p3',\n",
    "            'total_points_element_premium_p3', 'rolling_avg_bps_element_p3',\n",
    "            'rolling_avg_total_points_own_team',\n",
    "            'rolling_avg_total_points_element_type',\n",
    "            'rolling_avg_total_points_element_home',\n",
    "            'rolling_avg_total_points_element_away'\n",
    "        ]\n",
    "\n",
    "        # columns we need to look up\n",
    "        unknown_opposition_cols = [\n",
    "            'rolling_avg_total_points_opposition_team',\n",
    "            'rolling_avg_total_points_against_opposition_team',\n",
    "            'rolling_avg_total_points_against_opposition_team_element_type',\n",
    "            'rolling_avg_total_points_against_opposition_team_element_type_home',\n",
    "            'rolling_avg_total_points_against_opposition_team_element_type_away',\n",
    "        ]\n",
    "\n",
    "        # columns we need to calculate\n",
    "        unknown_engineered_cols = [\n",
    "            'expected_total_points_against_opposition_team',\n",
    "            'expected_total_points_against_opposition_team_home_away',\n",
    "            'expected_total_points_element_home_away'\n",
    "        ]\n",
    "\n",
    "        # fill in nans for future data we wouldn't know\n",
    "        event_df.loc[event_df['event'] > e,\n",
    "                     unknown_element_cols + unknown_opposition_cols + unknown_engineered_cols\n",
    "                    ] = np.nan\n",
    "        event_df.sort_values(['element', 'event', 'fixture'], inplace=True)\n",
    "        # fill down the element data\n",
    "        event_df[unknown_element_cols] = event_df[unknown_element_cols].fillna(method='ffill')\n",
    "\n",
    "        # create look up tables for opposition team data\n",
    "        # we have to look two events back, as some teams won't have played last event\n",
    "        against_opposition_event_df_1 = event_df[event_df['event'] == e][\n",
    "            ['opposition_team','element_type','event'] + unknown_opposition_cols].drop_duplicates()\n",
    "\n",
    "\n",
    "        against_opposition_event_df_2 = event_df[event_df['event'] == e - 1][\n",
    "            ['opposition_team','element_type','event'] + unknown_opposition_cols].drop_duplicates()\n",
    "\n",
    "        against_opposition_event_df = pd.concat([against_opposition_event_df_1, against_opposition_event_df_2])\n",
    "\n",
    "        # get the most recent opposition team data\n",
    "        against_opposition_event_df = against_opposition_event_df.join(\n",
    "            against_opposition_event_df.groupby(['opposition_team', 'element_type'])['event'].max(),\n",
    "            on=['opposition_team', 'element_type'],\n",
    "            rsuffix='_most_recent')\n",
    "\n",
    "        against_opposition_event_df = \\\n",
    "        against_opposition_event_df[against_opposition_event_df['event'] == against_opposition_event_df['event_most_recent']]\n",
    "\n",
    "        event_df = event_df.join(\n",
    "            against_opposition_event_df.set_index(['opposition_team', 'element_type']),\n",
    "            on=['opposition_team', 'element_type'],\n",
    "            rsuffix='_fill')\n",
    "\n",
    "        # fill in opposition team data from lookup table\n",
    "        for i in unknown_opposition_cols:\n",
    "            event_df.loc[event_df['event'] > e, i] = event_df[event_df['event'] > e][i+'_fill']\n",
    "\n",
    "        # calculate engineered fields\n",
    "        event_df['expected_total_points_against_opposition_team'] = \\\n",
    "        event_df.apply(calculate_expected_total_points_against_opposition_team, axis=1)\n",
    "\n",
    "        event_df['expected_total_points_against_opposition_team_home_away'] = \\\n",
    "        event_df.apply(calculate_expected_total_points_against_opposition_team_home_away, axis=1)\n",
    "        \n",
    "        event_df['expected_total_points_element_home_away'] = \\\n",
    "        event_df.apply(calculate_expected_total_points_element_home_away, axis=1)\n",
    "\n",
    "        # filter for frequently appearing players\n",
    "        event_df = event_df[event_df['rolling_avg_minutes_element_p3'] >= 60][cols]\n",
    "        \n",
    "        # define train-test split\n",
    "        test_fold = [-1 if i <= e - 1 else 0 for i in event_df['event']]\n",
    "        ps = PredefinedSplit(test_fold)\n",
    "\n",
    "        # split df into train and test\n",
    "        for train_index, test_index in ps.split():\n",
    "            event_df_train, event_df_test = \\\n",
    "            event_df.copy().iloc[train_index], event_df.copy().iloc[test_index]\n",
    "        \n",
    "        # standardise appropriate variables if necessary\n",
    "        scaled_event_df = event_df.copy()\n",
    "        if standardise:\n",
    "            scale_train = event_df_train.copy()\n",
    "            scale_test = event_df_test.copy()\n",
    "            scale_df = event_df.copy()\n",
    "            scaled_event_df_train = event_df_train.copy()\n",
    "            scaled_event_df_test = event_df_test.copy()\n",
    "\n",
    "            scaler = StandardScaler().fit(scale_train[scaled_feature_cols].values)\n",
    "\n",
    "            scale_train = scaler.transform(scale_train[scaled_feature_cols].values)\n",
    "            scale_test = scaler.transform(scale_test[scaled_feature_cols].values)\n",
    "            scale_df = scaler.transform(scale_df[scaled_feature_cols].values)\n",
    "\n",
    "            scaled_event_df_train[scaled_feature_cols] = scale_train\n",
    "            scaled_event_df_test[scaled_feature_cols] = scale_test\n",
    "            scaled_event_df[scaled_feature_cols] = scale_df         \n",
    "\n",
    "        # get reponse vector and feature matrix\n",
    "        event_y, event_X = patsy.dmatrices(formula, scaled_event_df, return_type='matrix')\n",
    "        \n",
    "        # split response vector and feature matrix into train and test\n",
    "        for train_index, test_index in ps.split():\n",
    "            event_X_train, event_X_test = event_X[train_index], event_X[test_index]\n",
    "            event_y_train, event_y_test = event_y[train_index], event_y[test_index]\n",
    "        \n",
    "        # get size of total feature set\n",
    "        n_all_features = event_X.shape[1]\n",
    "        \n",
    "        # if only certain features selected, get their indices\n",
    "        if features:\n",
    "            features_index = np.zeros(n_all_features, dtype=bool)\n",
    "\n",
    "            for i in range(0, n_all_features):\n",
    "                j = event_X.design_info.column_names[i]\n",
    "                if j in features:\n",
    "                    features_index[i] = True\n",
    "        # otherwise take all features\n",
    "        else:\n",
    "            features_index = np.ones(n_all_features, dtype=bool)\n",
    "        \n",
    "        # throw away features that are not selected\n",
    "        event_X_train_sel = event_X_train[:,features_index]\n",
    "        event_X_test_sel = event_X_test[:,features_index]\n",
    "\n",
    "        # fit model on training data\n",
    "        model.fit(event_X_train_sel, event_y_train.ravel())\n",
    "        # predict test event\n",
    "        event_y_pred = model.predict(event_X_test_sel).flatten()\n",
    "        \n",
    "        # collect predictions and observations \n",
    "        y_pred_arr.append(event_y_pred)\n",
    "        y_test_arr.append(event_y_test)\n",
    "        \n",
    "        event_df_test['predicted_total_points'] = event_y_pred\n",
    "        event_df_test['prediction_event'] = e\n",
    "        event_df_test_arr.append(event_df_test)\n",
    "        \n",
    "    \n",
    "    return np.concatenate(y_pred_arr).ravel(), np.concatenate(y_test_arr).ravel(), pd.concat(event_df_test_arr)"
   ]
  },
  {
   "cell_type": "markdown",
   "metadata": {
    "heading_collapsed": true
   },
   "source": [
    "### Constructing teams"
   ]
  },
  {
   "cell_type": "code",
   "execution_count": null,
   "metadata": {
    "ExecuteTime": {
     "end_time": "2019-07-27T08:26:31.890426Z",
     "start_time": "2019-07-27T08:26:31.877847Z"
    },
    "hidden": true
   },
   "outputs": [],
   "source": [
    "def construct_event_teams_from_scratch(df,\n",
    "                                       prediction_events=1,\n",
    "                                       optimise_key='predicted_total_points',\n",
    "                                       start=21,\n",
    "                                       end=38,\n",
    "                                       total_budget=1000,\n",
    "                                       verbose=0):\n",
    "    first_team_arr = []\n",
    "    bench_arr = []\n",
    "    team_total_points_arr = []\n",
    "    predicted_team_total_points_arr = []\n",
    "    team_df_arr = []\n",
    "\n",
    "    for e in range(start, end + 1):\n",
    "        if verbose > 0:\n",
    "            print('predicting event', e)\n",
    "        \n",
    "        event_players = df.copy()\n",
    "        event_players = \\\n",
    "        event_players[\n",
    "            (event_players['prediction_event'] == e)\n",
    "            & (event_players['event'] <= e + prediction_events - 1)\n",
    "        ]\n",
    "\n",
    "        event_players_group = event_players.groupby('element')[optimise_key].sum()\n",
    "        event_players = event_players[['element', 'value', 'element_type', 'team']].drop_duplicates()\n",
    "\n",
    "        event_players = event_players.join(event_players_group, on='element')\n",
    "        \n",
    "        event_players = event_players.to_dict('records')\n",
    "\n",
    "        try:\n",
    "            event_first_team, event_bench = \\\n",
    "            optimiser.construct_optimal_team_from_scratch(\n",
    "                event_players,\n",
    "                optimise_key=optimise_key,\n",
    "                total_budget=total_budget)\n",
    "\n",
    "            first_team_arr.append(event_first_team)\n",
    "            bench_arr.append(event_bench)\n",
    "        except Exception as ex:\n",
    "            print(e, ex)\n",
    "            continue\n",
    "    \n",
    "        event_team_total_points, event_team_predicted_total_points, event_team_df = \\\n",
    "        optimiser.calculate_team_total_points(df[df['event'] == e], event_first_team, event_bench, e)\n",
    "\n",
    "        team_total_points_arr.append(event_team_total_points)\n",
    "        predicted_team_total_points_arr.append(event_team_predicted_total_points)\n",
    "        team_df_arr.append(event_team_df)\n",
    "    \n",
    "    return first_team_arr, bench_arr, team_total_points_arr, predicted_team_total_points_arr, team_df_arr"
   ]
  },
  {
   "cell_type": "code",
   "execution_count": null,
   "metadata": {
    "ExecuteTime": {
     "end_time": "2019-07-27T08:26:32.396754Z",
     "start_time": "2019-07-27T08:26:32.372545Z"
    },
    "hidden": true
   },
   "outputs": [],
   "source": [
    "def construct_event_teams_from_existing(df,\n",
    "                                        prediction_events=1,\n",
    "                                        optimise_key='predicted_total_points',\n",
    "                                        total_budget=1000,\n",
    "                                        start=21,\n",
    "                                        end=38,\n",
    "                                        transfer_penalty=4,\n",
    "                                        transfer_limit=11,\n",
    "                                        verbose=0):\n",
    "    first_team_arr = []\n",
    "    bench_arr = []\n",
    "    team_total_points_arr = []\n",
    "    predicted_team_total_points_arr = []\n",
    "    team_df_arr = []\n",
    "    transfers_arr = []\n",
    "    carried_over_transfers = 0\n",
    "\n",
    "    for e in range(start, end + 1):\n",
    "        if verbose > 0:\n",
    "            print('predicting event', e)\n",
    "        \n",
    "        event_players = df.copy()\n",
    "        event_players = \\\n",
    "        event_players[\n",
    "            (event_players['prediction_event'] == e)\n",
    "            & (event_players['event'] <= e + prediction_events - 1)\n",
    "        ]        \n",
    "\n",
    "        present_elements = event_players['element'].drop_duplicates().values\n",
    "        \n",
    "        all_df = all_element_gameweek_df.copy()\n",
    "        all_df = all_df[all_df['event'] == e]\n",
    "        all_df['prediction_event'] = e\n",
    "        \n",
    "        event_players = pd.concat([event_players, all_df[~all_df['element'].isin(present_elements)]])\n",
    "        event_players_df = event_players.copy()\n",
    "\n",
    "        event_players_group = event_players.groupby('element')[optimise_key].sum()\n",
    "        event_players = event_players[['element', 'value', 'element_type', 'team']].drop_duplicates()\n",
    "\n",
    "        event_players = event_players.join(event_players_group, on='element')\n",
    "        \n",
    "        event_players = event_players.to_dict('records')\n",
    "        \n",
    "        if e == start:\n",
    "            try:\n",
    "                event_first_team, event_bench = \\\n",
    "                optimiser.construct_optimal_team_from_scratch(\n",
    "                    event_players,\n",
    "                    optimise_key=optimise_key,\n",
    "                    total_budget=total_budget\n",
    "                )\n",
    "\n",
    "                first_team_arr.append(event_first_team)\n",
    "                bench_arr.append(event_bench)\n",
    "                transfers_arr.append([])\n",
    "                \n",
    "                event_num_transfers = 1\n",
    "            except Exception as ex:\n",
    "                print(e, ex)\n",
    "                first_team_arr.append([])\n",
    "                bench_arr.append([])\n",
    "                transfers_arr.append([])\n",
    "                \n",
    "                event_num_transfers = 1\n",
    "        else:\n",
    "            try:\n",
    "                event_first_team, event_bench, event_transfers = \\\n",
    "                optimiser.construct_optimal_team_from_existing(\n",
    "                    event_players,\n",
    "                    event_first_team,\n",
    "                    event_bench,\n",
    "                    total_budget=total_budget,\n",
    "                    optimise_key=optimise_key,\n",
    "                    transfer_penalty=transfer_penalty,\n",
    "                    transfer_limit=transfer_limit\n",
    "                )\n",
    "\n",
    "                first_team_arr.append(event_first_team)\n",
    "                bench_arr.append(event_bench)\n",
    "                transfers_arr.append(event_transfers)\n",
    "                \n",
    "                event_num_transfers = len(event_transfers[0])\n",
    "            except Exception as ex:\n",
    "                print(e, ex)\n",
    "                first_team_arr.append([])\n",
    "                bench_arr.append([])\n",
    "                transfers_arr.append([])\n",
    "                \n",
    "                event_num_transfers = 0\n",
    "        \n",
    "        event_num_transfers = max(event_num_transfers - carried_over_transfers, 0)\n",
    "        \n",
    "        event_team_total_points, event_team_predicted_total_points, event_team_df = \\\n",
    "        optimiser.calculate_team_total_points(event_players_df,\n",
    "                                              event_first_team,\n",
    "                                              event_bench,\n",
    "                                              e,\n",
    "                                              event_num_transfers,\n",
    "                                              carried_over_transfers)\n",
    "        \n",
    "        if event_num_transfers == 0 and carried_over_transfers == 0:\n",
    "            carried_over_transfers = 1\n",
    "        if event_num_transfers in (0, 1) and carried_over_transfers == 1:\n",
    "            carried_over_transfers = 1\n",
    "        if event_num_transfers == 1 and carried_over_transfers == 0:\n",
    "            carried_over_transfers = 0\n",
    "        if event_num_transfers > 1:\n",
    "            carried_over_transfers = 0\n",
    "\n",
    "\n",
    "        team_total_points_arr.append(event_team_total_points)\n",
    "        predicted_team_total_points_arr.append(event_team_predicted_total_points)\n",
    "        team_df_arr.append(event_team_df)\n",
    "    \n",
    "    return (\n",
    "        first_team_arr, bench_arr,\n",
    "        team_total_points_arr,\n",
    "        predicted_team_total_points_arr,\n",
    "        team_df_arr,\n",
    "        transfers_arr\n",
    "    )"
   ]
  },
  {
   "cell_type": "markdown",
   "metadata": {},
   "source": [
    "## Predicting points"
   ]
  },
  {
   "cell_type": "markdown",
   "metadata": {},
   "source": [
    "### Linear regression"
   ]
  },
  {
   "cell_type": "code",
   "execution_count": 14,
   "metadata": {
    "ExecuteTime": {
     "end_time": "2019-07-27T12:35:23.266589Z",
     "start_time": "2019-07-27T12:35:23.261257Z"
    }
   },
   "outputs": [],
   "source": [
    "lr_model = LinearRegression()"
   ]
  },
  {
   "cell_type": "code",
   "execution_count": null,
   "metadata": {
    "ExecuteTime": {
     "end_time": "2019-07-26T10:55:05.056987Z",
     "start_time": "2019-07-26T10:55:05.045188Z"
    }
   },
   "outputs": [],
   "source": [
    "lr_features = [\n",
    "    'C(element_type)[T.2]', 'C(element_type)[T.3]', 'C(element_type)[T.4]',\n",
    "    'C(team)[T.2]', 'C(team)[T.3]', 'C(team)[T.4]', 'C(team)[T.6]',\n",
    "    'C(team)[T.7]', 'C(team)[T.8]', 'C(team)[T.9]', 'C(team)[T.10]',\n",
    "    'C(team)[T.12]', 'C(team)[T.13]', 'C(team)[T.14]', 'C(team)[T.15]',\n",
    "    'C(team)[T.16]', 'C(team)[T.17]', 'C(team)[T.19]', 'C(team)[T.20]',\n",
    "    'C(opposition_team)[T.2]', 'C(opposition_team)[T.3]',\n",
    "    'C(opposition_team)[T.4]', 'C(opposition_team)[T.5]',\n",
    "    'C(opposition_team)[T.7]', 'C(opposition_team)[T.8]',\n",
    "    'C(opposition_team)[T.9]', 'C(opposition_team)[T.10]',\n",
    "    'C(opposition_team)[T.11]', 'C(opposition_team)[T.12]',\n",
    "    'C(opposition_team)[T.13]', 'C(opposition_team)[T.14]',\n",
    "    'C(opposition_team)[T.15]', 'C(opposition_team)[T.16]',\n",
    "    'C(opposition_team)[T.18]', 'C(opposition_team)[T.19]',\n",
    "    'C(opposition_team)[T.20]', 'was_home', 'is_sunday', 'is_weekday', 'value',\n",
    "    'rolling_avg_bps_element', 'rolling_avg_minutes_element',\n",
    "    'rolling_avg_key_passes_element', 'rolling_avg_winning_goals_element',\n",
    "    'rolling_avg_offside_element', 'rolling_avg_big_chances_missed_element',\n",
    "    'rolling_avg_goals_conceded_element', 'rolling_avg_minutes_element_p3',\n",
    "    'rolling_avg_total_points_element_p3', 'rolling_avg_total_points_own_team',\n",
    "    'expected_total_points_element_home_away',\n",
    "    'rolling_avg_total_points_element_type',\n",
    "    'rolling_avg_total_points_opposition_team',\n",
    "    'rolling_avg_total_points_against_opposition_team',\n",
    "    'expected_total_points_against_opposition_team'\n",
    "]"
   ]
  },
  {
   "cell_type": "code",
   "execution_count": 18,
   "metadata": {
    "ExecuteTime": {
     "end_time": "2019-07-27T12:38:57.918393Z",
     "start_time": "2019-07-27T12:38:53.762421Z"
    }
   },
   "outputs": [],
   "source": [
    "lr_y_pred, lr_y_test, lr_df_test = predict_test_set(\n",
    "    element_gameweek_df,\n",
    "    lr_model,\n",
    "    prediction_events=5,\n",
    "#     features=lr_features,\n",
    "    standardise=True,\n",
    "    start=21,\n",
    "    end=21\n",
    ")"
   ]
  },
  {
   "cell_type": "code",
   "execution_count": null,
   "metadata": {
    "ExecuteTime": {
     "end_time": "2019-07-26T11:04:01.018700Z",
     "start_time": "2019-07-26T11:04:01.011744Z"
    }
   },
   "outputs": [],
   "source": [
    "lr_test_loss = (\n",
    "    mean_absolute_error(lr_y_test, lr_y_pred),\n",
    "    mean_squared_error(lr_y_test, lr_y_pred),\n",
    "    r2_score(lr_y_test, lr_y_pred)\n",
    ")\n",
    "lr_test_loss"
   ]
  },
  {
   "cell_type": "code",
   "execution_count": null,
   "metadata": {
    "ExecuteTime": {
     "end_time": "2019-07-26T11:04:01.543955Z",
     "start_time": "2019-07-26T11:04:01.020673Z"
    }
   },
   "outputs": [],
   "source": [
    "plt.figure(figsize=(10, 8))\n",
    "plt.hist(pd.Series(lr_y_pred), bins=range(-5,20), alpha=0.75, density=True, label='predicted')\n",
    "plt.hist(pd.Series(lr_y_test), bins=range(-5,20), alpha=0.75, density=True, label='observed')\n",
    "plt.legend()\n",
    "plt.show()"
   ]
  },
  {
   "cell_type": "code",
   "execution_count": null,
   "metadata": {
    "ExecuteTime": {
     "end_time": "2019-07-26T11:04:02.290611Z",
     "start_time": "2019-07-26T11:04:01.546616Z"
    }
   },
   "outputs": [],
   "source": [
    "plt.figure(figsize=(10, 8))\n",
    "plt.scatter(pd.Series(lr_y_test), pd.Series(lr_y_pred), alpha=0.1)\n",
    "plt.plot(np.linspace(-5, 25), np.linspace(-5, 25))\n",
    "plt.ylabel('Predicted total points')\n",
    "plt.xlabel('Observed total points')\n",
    "plt.ylim((-3, 12))\n",
    "plt.show()"
   ]
  },
  {
   "cell_type": "markdown",
   "metadata": {
    "heading_collapsed": true
   },
   "source": [
    "### Ridge regression (lush)"
   ]
  },
  {
   "cell_type": "code",
   "execution_count": null,
   "metadata": {
    "ExecuteTime": {
     "end_time": "2019-07-26T11:07:36.501743Z",
     "start_time": "2019-07-26T11:07:36.495185Z"
    },
    "hidden": true
   },
   "outputs": [],
   "source": [
    "lush_ridge_model = Ridge(alpha=13.8)"
   ]
  },
  {
   "cell_type": "code",
   "execution_count": null,
   "metadata": {
    "ExecuteTime": {
     "end_time": "2019-07-26T11:07:36.884340Z",
     "start_time": "2019-07-26T11:07:36.860173Z"
    },
    "hidden": true
   },
   "outputs": [],
   "source": [
    "lush_ridge_features = [\n",
    "    'C(element)[T.5]', 'C(element)[T.6]', 'C(element)[T.12]',\n",
    "    'C(element)[T.14]', 'C(element)[T.18]', 'C(element)[T.23]',\n",
    "    'C(element)[T.24]', 'C(element)[T.27]', 'C(element)[T.28]',\n",
    "    'C(element)[T.33]', 'C(element)[T.37]', 'C(element)[T.39]',\n",
    "    'C(element)[T.40]', 'C(element)[T.43]', 'C(element)[T.48]',\n",
    "    'C(element)[T.49]', 'C(element)[T.50]', 'C(element)[T.56]',\n",
    "    'C(element)[T.58]', 'C(element)[T.59]', 'C(element)[T.60]',\n",
    "    'C(element)[T.61]', 'C(element)[T.62]', 'C(element)[T.69]',\n",
    "    'C(element)[T.71]', 'C(element)[T.72]', 'C(element)[T.73]',\n",
    "    'C(element)[T.75]', 'C(element)[T.76]', 'C(element)[T.80]',\n",
    "    'C(element)[T.84]', 'C(element)[T.85]', 'C(element)[T.88]',\n",
    "    'C(element)[T.90]', 'C(element)[T.91]', 'C(element)[T.94]',\n",
    "    'C(element)[T.98]', 'C(element)[T.99]', 'C(element)[T.101]',\n",
    "    'C(element)[T.102]', 'C(element)[T.110]', 'C(element)[T.115]',\n",
    "    'C(element)[T.116]', 'C(element)[T.122]', 'C(element)[T.124]',\n",
    "    'C(element)[T.125]', 'C(element)[T.126]', 'C(element)[T.127]',\n",
    "    'C(element)[T.134]', 'C(element)[T.137]', 'C(element)[T.140]',\n",
    "    'C(element)[T.145]', 'C(element)[T.147]', 'C(element)[T.149]',\n",
    "    'C(element)[T.150]', 'C(element)[T.151]', 'C(element)[T.152]',\n",
    "    'C(element)[T.156]', 'C(element)[T.157]', 'C(element)[T.160]',\n",
    "    'C(element)[T.168]', 'C(element)[T.169]', 'C(element)[T.172]',\n",
    "    'C(element)[T.177]', 'C(element)[T.178]', 'C(element)[T.181]',\n",
    "    'C(element)[T.183]', 'C(element)[T.192]', 'C(element)[T.195]',\n",
    "    'C(element)[T.197]', 'C(element)[T.198]', 'C(element)[T.206]',\n",
    "    'C(element)[T.210]', 'C(element)[T.211]', 'C(element)[T.215]',\n",
    "    'C(element)[T.220]', 'C(element)[T.221]', 'C(element)[T.226]',\n",
    "    'C(element)[T.227]', 'C(element)[T.234]', 'C(element)[T.236]',\n",
    "    'C(element)[T.239]', 'C(element)[T.243]', 'C(element)[T.245]',\n",
    "    'C(element)[T.246]', 'C(element)[T.247]', 'C(element)[T.249]',\n",
    "    'C(element)[T.251]', 'C(element)[T.252]', 'C(element)[T.253]',\n",
    "    'C(element)[T.254]', 'C(element)[T.256]', 'C(element)[T.258]',\n",
    "    'C(element)[T.262]', 'C(element)[T.263]', 'C(element)[T.267]',\n",
    "    'C(element)[T.268]', 'C(element)[T.269]', 'C(element)[T.271]',\n",
    "    'C(element)[T.275]', 'C(element)[T.276]', 'C(element)[T.280]',\n",
    "    'C(element)[T.282]', 'C(element)[T.288]', 'C(element)[T.289]',\n",
    "    'C(element)[T.291]', 'C(element)[T.295]', 'C(element)[T.297]',\n",
    "    'C(element)[T.299]', 'C(element)[T.300]', 'C(element)[T.301]',\n",
    "    'C(element)[T.302]', 'C(element)[T.305]', 'C(element)[T.306]',\n",
    "    'C(element)[T.309]', 'C(element)[T.310]', 'C(element)[T.312]',\n",
    "    'C(element)[T.315]', 'C(element)[T.317]', 'C(element)[T.318]',\n",
    "    'C(element)[T.319]', 'C(element)[T.324]', 'C(element)[T.326]',\n",
    "    'C(element)[T.327]', 'C(element)[T.330]', 'C(element)[T.332]',\n",
    "    'C(element)[T.333]', 'C(element)[T.336]', 'C(element)[T.343]',\n",
    "    'C(element)[T.346]', 'C(element)[T.351]', 'C(element)[T.352]',\n",
    "    'C(element)[T.353]', 'C(element)[T.355]', 'C(element)[T.356]',\n",
    "    'C(element)[T.357]', 'C(element)[T.359]', 'C(element)[T.363]',\n",
    "    'C(element)[T.364]', 'C(element)[T.365]', 'C(element)[T.367]',\n",
    "    'C(element)[T.370]', 'C(element)[T.380]', 'C(element)[T.382]',\n",
    "    'C(element)[T.383]', 'C(element)[T.386]', 'C(element)[T.390]',\n",
    "    'C(element)[T.391]', 'C(element)[T.393]', 'C(element)[T.396]',\n",
    "    'C(element)[T.400]', 'C(element)[T.402]', 'C(element)[T.403]',\n",
    "    'C(element)[T.408]', 'C(element)[T.411]', 'C(element)[T.415]',\n",
    "    'C(element)[T.417]', 'C(element)[T.423]', 'C(element)[T.425]',\n",
    "    'C(element)[T.432]', 'C(element)[T.433]', 'C(element)[T.435]',\n",
    "    'C(element)[T.437]', 'C(element)[T.447]', 'C(element)[T.450]',\n",
    "    'C(element)[T.451]', 'C(element)[T.455]', 'C(element)[T.459]',\n",
    "    'C(element)[T.461]', 'C(element)[T.462]', 'C(element)[T.463]',\n",
    "    'C(element)[T.464]', 'C(element)[T.465]', 'C(element)[T.467]',\n",
    "    'C(element)[T.468]', 'C(element)[T.473]', 'C(element)[T.476]',\n",
    "    'C(element)[T.480]', 'C(element)[T.483]', 'C(element)[T.484]',\n",
    "    'C(element)[T.487]', 'C(element)[T.488]', 'C(element)[T.489]',\n",
    "    'C(element)[T.493]', 'C(element)[T.503]', 'C(element)[T.504]',\n",
    "    'C(element)[T.505]', 'C(element)[T.509]', 'C(element)[T.511]',\n",
    "    'C(element)[T.516]', 'C(element)[T.536]', 'C(element)[T.549]',\n",
    "    'C(element_type)[T.2]', 'C(element_type)[T.3]', 'C(element_type)[T.4]',\n",
    "    'C(team)[T.3]', 'C(team)[T.4]', 'C(team)[T.6]', 'C(team)[T.7]',\n",
    "    'C(team)[T.9]', 'C(team)[T.10]', 'C(team)[T.12]', 'C(team)[T.14]',\n",
    "    'C(team)[T.15]', 'C(team)[T.16]', 'C(team)[T.17]', 'C(team)[T.19]',\n",
    "    'C(team)[T.20]', 'C(opposition_team)[T.2]', 'C(opposition_team)[T.3]',\n",
    "    'C(opposition_team)[T.4]', 'C(opposition_team)[T.5]',\n",
    "    'C(opposition_team)[T.6]', 'C(opposition_team)[T.7]',\n",
    "    'C(opposition_team)[T.9]', 'C(opposition_team)[T.10]',\n",
    "    'C(opposition_team)[T.12]', 'C(opposition_team)[T.13]',\n",
    "    'C(opposition_team)[T.15]', 'C(opposition_team)[T.16]',\n",
    "    'C(opposition_team)[T.17]', 'C(opposition_team)[T.18]',\n",
    "    'C(opposition_team)[T.19]', 'was_home', 'is_weekday', 'is_early',\n",
    "    'is_late', 'value', 'rolling_avg_total_points_element',\n",
    "    'rolling_max_total_points_element', 'has_high_points_ever_element',\n",
    "    'rolling_avg_bps_element', 'rolling_avg_minutes_element',\n",
    "    'rolling_avg_clean_sheets_element', 'rolling_avg_winning_goals_element',\n",
    "    'rolling_avg_clearances_blocks_interceptions_element',\n",
    "    'rolling_avg_offside_element', 'rolling_avg_big_chances_missed_element',\n",
    "    'rolling_avg_goals_conceded_element', 'rolling_avg_minutes_element_p3',\n",
    "    'rolling_avg_bps_element_p3', 'rolling_avg_total_points_own_team',\n",
    "    'expected_total_points_element_home_away',\n",
    "    'rolling_avg_total_points_opposition_team',\n",
    "    'rolling_avg_total_points_against_opposition_team'\n",
    "]"
   ]
  },
  {
   "cell_type": "code",
   "execution_count": null,
   "metadata": {
    "ExecuteTime": {
     "end_time": "2019-07-26T11:08:57.048296Z",
     "start_time": "2019-07-26T11:07:51.696266Z"
    },
    "hidden": true
   },
   "outputs": [],
   "source": [
    "lush_ridge_y_pred, lush_ridge_y_test, lush_ridge_df_test = predict_test_set(\n",
    "    element_gameweek_df,\n",
    "    lush_ridge_model,\n",
    "    prediction_events=10,\n",
    "    features=lush_ridge_features,\n",
    "    standardise=True\n",
    ")"
   ]
  },
  {
   "cell_type": "code",
   "execution_count": null,
   "metadata": {
    "ExecuteTime": {
     "end_time": "2019-07-26T11:08:57.058409Z",
     "start_time": "2019-07-26T11:08:57.051261Z"
    },
    "hidden": true
   },
   "outputs": [],
   "source": [
    "lush_ridge_test_loss = (\n",
    "    mean_absolute_error(lush_ridge_y_test, lush_ridge_y_pred),\n",
    "    mean_squared_error(lush_ridge_y_test, lush_ridge_y_pred),\n",
    "    r2_score(lush_ridge_y_test, lush_ridge_y_pred)\n",
    ")\n",
    "lush_ridge_test_loss"
   ]
  },
  {
   "cell_type": "code",
   "execution_count": null,
   "metadata": {
    "ExecuteTime": {
     "end_time": "2019-07-26T11:08:57.614141Z",
     "start_time": "2019-07-26T11:08:57.060519Z"
    },
    "hidden": true
   },
   "outputs": [],
   "source": [
    "plt.figure(figsize=(10, 8))\n",
    "plt.hist(pd.Series(lush_ridge_y_pred), bins=range(-5,20), alpha=0.75, density=True, label='predicted')\n",
    "plt.hist(pd.Series(lush_ridge_y_test), bins=range(-5,20), alpha=0.75, density=True, label='observed')\n",
    "plt.legend()\n",
    "plt.show()"
   ]
  },
  {
   "cell_type": "code",
   "execution_count": null,
   "metadata": {
    "ExecuteTime": {
     "end_time": "2019-07-26T11:08:58.340112Z",
     "start_time": "2019-07-26T11:08:57.617378Z"
    },
    "hidden": true
   },
   "outputs": [],
   "source": [
    "plt.figure(figsize=(10, 8))\n",
    "plt.scatter(pd.Series(lush_ridge_y_test), pd.Series(lush_ridge_y_pred), alpha=0.1)\n",
    "plt.plot(np.linspace(-5, 25), np.linspace(-5, 25))\n",
    "plt.ylabel('Predicted total points')\n",
    "plt.xlabel('Observed total points')\n",
    "plt.ylim((-3, 12))\n",
    "plt.show()"
   ]
  },
  {
   "cell_type": "markdown",
   "metadata": {
    "heading_collapsed": true
   },
   "source": [
    "### Ridge regression (stark)"
   ]
  },
  {
   "cell_type": "code",
   "execution_count": null,
   "metadata": {
    "ExecuteTime": {
     "end_time": "2019-07-21T13:00:17.552088Z",
     "start_time": "2019-07-21T13:00:17.547562Z"
    },
    "hidden": true
   },
   "outputs": [],
   "source": [
    "stark_ridge_model = Ridge(alpha=0.36)"
   ]
  },
  {
   "cell_type": "code",
   "execution_count": null,
   "metadata": {
    "ExecuteTime": {
     "end_time": "2019-07-21T13:00:17.582800Z",
     "start_time": "2019-07-21T13:00:17.556545Z"
    },
    "hidden": true
   },
   "outputs": [],
   "source": [
    "stark_ridge_features = [\n",
    "    'C(element)[T.12]', 'C(element)[T.14]', 'C(element)[T.40]',\n",
    "    'C(element)[T.43]', 'C(element)[T.49]', 'C(element)[T.62]',\n",
    "    'C(element)[T.69]', 'C(element)[T.71]', 'C(element)[T.73]',\n",
    "    'C(element)[T.75]', 'C(element)[T.88]', 'C(element)[T.91]',\n",
    "    'C(element)[T.101]', 'C(element)[T.115]', 'C(element)[T.116]',\n",
    "    'C(element)[T.122]', 'C(element)[T.134]', 'C(element)[T.137]',\n",
    "    'C(element)[T.147]', 'C(element)[T.150]', 'C(element)[T.156]',\n",
    "    'C(element)[T.160]', 'C(element)[T.172]', 'C(element)[T.178]',\n",
    "    'C(element)[T.211]', 'C(element)[T.221]', 'C(element)[T.234]',\n",
    "    'C(element)[T.245]', 'C(element)[T.246]', 'C(element)[T.247]',\n",
    "    'C(element)[T.256]', 'C(element)[T.262]', 'C(element)[T.269]',\n",
    "    'C(element)[T.288]', 'C(element)[T.295]', 'C(element)[T.299]',\n",
    "    'C(element)[T.300]', 'C(element)[T.301]', 'C(element)[T.302]',\n",
    "    'C(element)[T.305]', 'C(element)[T.306]', 'C(element)[T.315]',\n",
    "    'C(element)[T.333]', 'C(element)[T.352]', 'C(element)[T.356]',\n",
    "    'C(element)[T.364]', 'C(element)[T.365]', 'C(element)[T.368]',\n",
    "    'C(element)[T.380]', 'C(element)[T.390]', 'C(element)[T.391]',\n",
    "    'C(element)[T.393]', 'C(element)[T.403]', 'C(element)[T.408]',\n",
    "    'C(element)[T.411]', 'C(element)[T.415]', 'C(element)[T.423]',\n",
    "    'C(element)[T.425]', 'C(element)[T.437]', 'C(element)[T.450]',\n",
    "    'C(element)[T.462]', 'C(element)[T.463]', 'C(element)[T.465]',\n",
    "    'C(element)[T.467]', 'C(element)[T.476]', 'C(element)[T.480]',\n",
    "    'C(element)[T.484]', 'C(element)[T.504]', 'C(element)[T.536]',\n",
    "    'C(element_type)[T.2]', 'C(element_type)[T.3]', 'C(element_type)[T.4]',\n",
    "    'C(team)[T.14]', 'C(opposition_team)[T.9]', 'C(opposition_team)[T.12]',\n",
    "    'C(opposition_team)[T.13]', 'value'\n",
    "]"
   ]
  },
  {
   "cell_type": "code",
   "execution_count": null,
   "metadata": {
    "ExecuteTime": {
     "end_time": "2019-07-21T13:01:17.255330Z",
     "start_time": "2019-07-21T13:00:17.586264Z"
    },
    "hidden": true
   },
   "outputs": [],
   "source": [
    "stark_ridge_y_pred, stark_ridge_y_test, stark_ridge_df_test = predict_test_set(\n",
    "    element_gameweek_df,\n",
    "    stark_ridge_model,\n",
    "    features=stark_ridge_features,\n",
    "    standardise=True\n",
    ")"
   ]
  },
  {
   "cell_type": "code",
   "execution_count": null,
   "metadata": {
    "ExecuteTime": {
     "end_time": "2019-07-21T13:01:17.266114Z",
     "start_time": "2019-07-21T13:01:17.257741Z"
    },
    "hidden": true
   },
   "outputs": [],
   "source": [
    "stark_ridge_test_loss = (\n",
    "    mean_absolute_error(stark_ridge_y_test, stark_ridge_y_pred),\n",
    "    mean_squared_error(stark_ridge_y_test, stark_ridge_y_pred),\n",
    "    r2_score(stark_ridge_y_test, stark_ridge_y_pred)\n",
    ")\n",
    "stark_ridge_test_loss"
   ]
  },
  {
   "cell_type": "code",
   "execution_count": null,
   "metadata": {
    "ExecuteTime": {
     "end_time": "2019-07-21T13:01:17.952424Z",
     "start_time": "2019-07-21T13:01:17.268824Z"
    },
    "hidden": true
   },
   "outputs": [],
   "source": [
    "plt.figure(figsize=(10, 8))\n",
    "plt.hist(pd.Series(stark_ridge_y_pred), bins=range(-5,20), alpha=0.75, density=True, label='predicted')\n",
    "plt.hist(pd.Series(stark_ridge_y_test), bins=range(-5,20), alpha=0.75, density=True, label='observed')\n",
    "plt.legend()\n",
    "plt.show()"
   ]
  },
  {
   "cell_type": "code",
   "execution_count": null,
   "metadata": {
    "ExecuteTime": {
     "end_time": "2019-07-21T13:01:18.378587Z",
     "start_time": "2019-07-21T13:01:17.956010Z"
    },
    "hidden": true
   },
   "outputs": [],
   "source": [
    "plt.figure(figsize=(10, 8))\n",
    "plt.scatter(pd.Series(stark_ridge_y_test), pd.Series(stark_ridge_y_pred), alpha=0.1)\n",
    "plt.plot(np.linspace(-5, 25), np.linspace(-5, 25))\n",
    "plt.ylabel('Predicted total points')\n",
    "plt.xlabel('Observed total points')\n",
    "plt.ylim((-3, 12))\n",
    "plt.show()"
   ]
  },
  {
   "cell_type": "markdown",
   "metadata": {
    "heading_collapsed": true
   },
   "source": [
    "### Lasso regression"
   ]
  },
  {
   "cell_type": "code",
   "execution_count": null,
   "metadata": {
    "ExecuteTime": {
     "end_time": "2019-07-21T13:01:18.386078Z",
     "start_time": "2019-07-21T13:01:18.381965Z"
    },
    "hidden": true
   },
   "outputs": [],
   "source": [
    "lasso_model = Lasso(alpha=1e-10)"
   ]
  },
  {
   "cell_type": "code",
   "execution_count": null,
   "metadata": {
    "ExecuteTime": {
     "end_time": "2019-07-21T13:01:18.412812Z",
     "start_time": "2019-07-21T13:01:18.394491Z"
    },
    "hidden": true
   },
   "outputs": [],
   "source": [
    "lasso_features = [\n",
    "    'value', 'rolling_avg_total_points_element',\n",
    "    'rolling_max_total_points_element', 'has_high_points_ever_element',\n",
    "    'rolling_avg_bps_element', 'rolling_avg_bonus_element',\n",
    "    'rolling_avg_goals_scored_element', 'rolling_avg_minutes_element',\n",
    "    'rolling_avg_clean_sheets_element', 'rolling_avg_assists_element',\n",
    "    'rolling_avg_key_passes_element', 'rolling_avg_winning_goals_element',\n",
    "    'rolling_avg_tackled_element',\n",
    "    'rolling_avg_clearances_blocks_interceptions_element',\n",
    "    'rolling_avg_big_chances_created_element', 'rolling_avg_offside_element',\n",
    "    'rolling_avg_big_chances_missed_element', 'rolling_avg_saves_element',\n",
    "    'rolling_avg_goals_conceded_element', 'rolling_avg_minutes_element_p3',\n",
    "    'rolling_avg_total_points_element_p3', 'total_points_element_premium_p3',\n",
    "    'rolling_avg_bps_element_p3', 'rolling_avg_total_points_own_team',\n",
    "    'expected_total_points_element_home_away',\n",
    "    'rolling_avg_total_points_element_type',\n",
    "    'rolling_avg_total_points_opposition_team',\n",
    "    'rolling_avg_total_points_against_opposition_team_element_type',\n",
    "    'expected_total_points_against_opposition_team',\n",
    "    'expected_total_points_against_opposition_team_home_away'\n",
    "]"
   ]
  },
  {
   "cell_type": "code",
   "execution_count": null,
   "metadata": {
    "ExecuteTime": {
     "end_time": "2019-07-21T13:02:20.034092Z",
     "start_time": "2019-07-21T13:01:18.416020Z"
    },
    "hidden": true
   },
   "outputs": [],
   "source": [
    "lasso_y_pred, lasso_y_test, lasso_df_test = predict_test_set(\n",
    "    element_gameweek_df,\n",
    "    lasso_model,\n",
    "    features=lasso_features,\n",
    "    standardise=True\n",
    ")"
   ]
  },
  {
   "cell_type": "code",
   "execution_count": null,
   "metadata": {
    "ExecuteTime": {
     "end_time": "2019-07-21T13:02:20.047367Z",
     "start_time": "2019-07-21T13:02:20.037361Z"
    },
    "hidden": true
   },
   "outputs": [],
   "source": [
    "lasso_test_loss = (\n",
    "    mean_absolute_error(lasso_y_test, lasso_y_pred),\n",
    "    mean_squared_error(lasso_y_test, lasso_y_pred),\n",
    "    r2_score(lasso_y_test, lasso_y_pred)\n",
    ")\n",
    "lasso_test_loss"
   ]
  },
  {
   "cell_type": "code",
   "execution_count": null,
   "metadata": {
    "ExecuteTime": {
     "end_time": "2019-07-21T13:02:20.628030Z",
     "start_time": "2019-07-21T13:02:20.049947Z"
    },
    "hidden": true
   },
   "outputs": [],
   "source": [
    "plt.figure(figsize=(10, 8))\n",
    "plt.hist(pd.Series(lasso_y_pred), bins=range(-5,20), alpha=0.75, density=True, label='predicted')\n",
    "plt.hist(pd.Series(lasso_y_test), bins=range(-5,20), alpha=0.75, density=True, label='observed')\n",
    "plt.legend()\n",
    "plt.show()"
   ]
  },
  {
   "cell_type": "code",
   "execution_count": null,
   "metadata": {
    "ExecuteTime": {
     "end_time": "2019-07-21T13:02:21.047191Z",
     "start_time": "2019-07-21T13:02:20.630651Z"
    },
    "hidden": true
   },
   "outputs": [],
   "source": [
    "plt.figure(figsize=(10, 8))\n",
    "plt.scatter(pd.Series(lasso_y_test), pd.Series(lasso_y_pred), alpha=0.1)\n",
    "plt.plot(np.linspace(-5, 25), np.linspace(-5, 25))\n",
    "plt.ylabel('Predicted total points')\n",
    "plt.xlabel('Observed total points')\n",
    "plt.ylim((-3, 12))\n",
    "plt.show()"
   ]
  },
  {
   "cell_type": "markdown",
   "metadata": {
    "heading_collapsed": true
   },
   "source": [
    "### Radial basis SVM regression"
   ]
  },
  {
   "cell_type": "code",
   "execution_count": null,
   "metadata": {
    "ExecuteTime": {
     "end_time": "2019-07-27T08:51:13.476214Z",
     "start_time": "2019-07-27T08:51:13.461749Z"
    },
    "hidden": true
   },
   "outputs": [],
   "source": [
    "rbf_svr_model = SVR(kernel='rbf',gamma=0.004, C=2.9, epsilon=1.9)"
   ]
  },
  {
   "cell_type": "code",
   "execution_count": null,
   "metadata": {
    "ExecuteTime": {
     "end_time": "2019-07-27T09:20:29.973963Z",
     "start_time": "2019-07-27T09:20:29.938492Z"
    },
    "hidden": true
   },
   "outputs": [],
   "source": [
    "rbf_svr_features = ['Intercept',\n",
    " 'C(element)[T.2]',\n",
    " 'C(element)[T.4]',\n",
    " 'C(element)[T.5]',\n",
    " 'C(element)[T.6]',\n",
    " 'C(element)[T.7]',\n",
    " 'C(element)[T.8]',\n",
    " 'C(element)[T.9]',\n",
    " 'C(element)[T.11]',\n",
    " 'C(element)[T.12]',\n",
    " 'C(element)[T.13]',\n",
    " 'C(element)[T.14]',\n",
    " 'C(element)[T.15]',\n",
    " 'C(element)[T.17]',\n",
    " 'C(element)[T.18]',\n",
    " 'C(element)[T.22]',\n",
    " 'C(element)[T.23]',\n",
    " 'C(element)[T.24]',\n",
    " 'C(element)[T.26]',\n",
    " 'C(element)[T.27]',\n",
    " 'C(element)[T.28]',\n",
    " 'C(element)[T.29]',\n",
    " 'C(element)[T.31]',\n",
    " 'C(element)[T.33]',\n",
    " 'C(element)[T.35]',\n",
    " 'C(element)[T.36]',\n",
    " 'C(element)[T.37]',\n",
    " 'C(element)[T.39]',\n",
    " 'C(element)[T.40]',\n",
    " 'C(element)[T.42]',\n",
    " 'C(element)[T.43]',\n",
    " 'C(element)[T.45]',\n",
    " 'C(element)[T.47]',\n",
    " 'C(element)[T.48]',\n",
    " 'C(element)[T.49]',\n",
    " 'C(element)[T.50]',\n",
    " 'C(element)[T.51]',\n",
    " 'C(element)[T.54]',\n",
    " 'C(element)[T.55]',\n",
    " 'C(element)[T.56]',\n",
    " 'C(element)[T.57]',\n",
    " 'C(element)[T.58]',\n",
    " 'C(element)[T.59]',\n",
    " 'C(element)[T.60]',\n",
    " 'C(element)[T.61]',\n",
    " 'C(element)[T.62]',\n",
    " 'C(element)[T.66]',\n",
    " 'C(element)[T.69]',\n",
    " 'C(element)[T.70]',\n",
    " 'C(element)[T.71]',\n",
    " 'C(element)[T.72]',\n",
    " 'C(element)[T.73]',\n",
    " 'C(element)[T.74]',\n",
    " 'C(element)[T.75]',\n",
    " 'C(element)[T.76]',\n",
    " 'C(element)[T.77]',\n",
    " 'C(element)[T.78]',\n",
    " 'C(element)[T.79]',\n",
    " 'C(element)[T.80]',\n",
    " 'C(element)[T.82]',\n",
    " 'C(element)[T.83]',\n",
    " 'C(element)[T.84]',\n",
    " 'C(element)[T.85]',\n",
    " 'C(element)[T.87]',\n",
    " 'C(element)[T.88]',\n",
    " 'C(element)[T.90]',\n",
    " 'C(element)[T.91]',\n",
    " 'C(element)[T.92]',\n",
    " 'C(element)[T.94]',\n",
    " 'C(element)[T.95]',\n",
    " 'C(element)[T.98]',\n",
    " 'C(element)[T.99]',\n",
    " 'C(element)[T.100]',\n",
    " 'C(element)[T.101]',\n",
    " 'C(element)[T.102]',\n",
    " 'C(element)[T.105]',\n",
    " 'C(element)[T.106]',\n",
    " 'C(element)[T.110]',\n",
    " 'C(element)[T.113]',\n",
    " 'C(element)[T.115]',\n",
    " 'C(element)[T.116]',\n",
    " 'C(element)[T.118]',\n",
    " 'C(element)[T.122]',\n",
    " 'C(element)[T.124]',\n",
    " 'C(element)[T.125]',\n",
    " 'C(element)[T.126]',\n",
    " 'C(element)[T.127]',\n",
    " 'C(element)[T.133]',\n",
    " 'C(element)[T.134]',\n",
    " 'C(element)[T.135]',\n",
    " 'C(element)[T.137]',\n",
    " 'C(element)[T.138]',\n",
    " 'C(element)[T.140]',\n",
    " 'C(element)[T.141]',\n",
    " 'C(element)[T.142]',\n",
    " 'C(element)[T.143]',\n",
    " 'C(element)[T.145]',\n",
    " 'C(element)[T.147]',\n",
    " 'C(element)[T.149]',\n",
    " 'C(element)[T.150]',\n",
    " 'C(element)[T.151]',\n",
    " 'C(element)[T.152]',\n",
    " 'C(element)[T.154]',\n",
    " 'C(element)[T.156]',\n",
    " 'C(element)[T.157]',\n",
    " 'C(element)[T.160]',\n",
    " 'C(element)[T.161]',\n",
    " 'C(element)[T.162]',\n",
    " 'C(element)[T.164]',\n",
    " 'C(element)[T.167]',\n",
    " 'C(element)[T.168]',\n",
    " 'C(element)[T.169]',\n",
    " 'C(element)[T.172]',\n",
    " 'C(element)[T.175]',\n",
    " 'C(element)[T.177]',\n",
    " 'C(element)[T.178]',\n",
    " 'C(element)[T.180]',\n",
    " 'C(element)[T.181]',\n",
    " 'C(element)[T.182]',\n",
    " 'C(element)[T.183]',\n",
    " 'C(element)[T.184]',\n",
    " 'C(element)[T.189]',\n",
    " 'C(element)[T.190]',\n",
    " 'C(element)[T.191]',\n",
    " 'C(element)[T.192]',\n",
    " 'C(element)[T.193]',\n",
    " 'C(element)[T.195]',\n",
    " 'C(element)[T.197]',\n",
    " 'C(element)[T.198]',\n",
    " 'C(element)[T.199]',\n",
    " 'C(element)[T.200]',\n",
    " 'C(element)[T.201]',\n",
    " 'C(element)[T.202]',\n",
    " 'C(element)[T.206]',\n",
    " 'C(element)[T.208]',\n",
    " 'C(element)[T.210]',\n",
    " 'C(element)[T.211]',\n",
    " 'C(element)[T.213]',\n",
    " 'C(element)[T.215]',\n",
    " 'C(element)[T.219]',\n",
    " 'C(element)[T.220]',\n",
    " 'C(element)[T.221]',\n",
    " 'C(element)[T.222]',\n",
    " 'C(element)[T.223]',\n",
    " 'C(element)[T.224]',\n",
    " 'C(element)[T.225]',\n",
    " 'C(element)[T.226]',\n",
    " 'C(element)[T.227]',\n",
    " 'C(element)[T.231]',\n",
    " 'C(element)[T.233]',\n",
    " 'C(element)[T.234]',\n",
    " 'C(element)[T.236]',\n",
    " 'C(element)[T.239]',\n",
    " 'C(element)[T.242]',\n",
    " 'C(element)[T.243]',\n",
    " 'C(element)[T.245]',\n",
    " 'C(element)[T.246]',\n",
    " 'C(element)[T.247]',\n",
    " 'C(element)[T.249]',\n",
    " 'C(element)[T.251]',\n",
    " 'C(element)[T.252]',\n",
    " 'C(element)[T.253]',\n",
    " 'C(element)[T.254]',\n",
    " 'C(element)[T.255]',\n",
    " 'C(element)[T.256]',\n",
    " 'C(element)[T.257]',\n",
    " 'C(element)[T.258]',\n",
    " 'C(element)[T.260]',\n",
    " 'C(element)[T.262]',\n",
    " 'C(element)[T.263]',\n",
    " 'C(element)[T.264]',\n",
    " 'C(element)[T.265]',\n",
    " 'C(element)[T.267]',\n",
    " 'C(element)[T.268]',\n",
    " 'C(element)[T.269]',\n",
    " 'C(element)[T.270]',\n",
    " 'C(element)[T.271]',\n",
    " 'C(element)[T.272]',\n",
    " 'C(element)[T.274]',\n",
    " 'C(element)[T.275]',\n",
    " 'C(element)[T.276]',\n",
    " 'C(element)[T.280]',\n",
    " 'C(element)[T.281]',\n",
    " 'C(element)[T.282]',\n",
    " 'C(element)[T.284]',\n",
    " 'C(element)[T.285]',\n",
    " 'C(element)[T.286]',\n",
    " 'C(element)[T.288]',\n",
    " 'C(element)[T.289]',\n",
    " 'C(element)[T.291]',\n",
    " 'C(element)[T.292]',\n",
    " 'C(element)[T.293]',\n",
    " 'C(element)[T.294]',\n",
    " 'C(element)[T.295]',\n",
    " 'C(element)[T.296]',\n",
    " 'C(element)[T.297]',\n",
    " 'C(element)[T.298]',\n",
    " 'C(element)[T.299]',\n",
    " 'C(element)[T.300]',\n",
    " 'C(element)[T.301]',\n",
    " 'C(element)[T.302]',\n",
    " 'C(element)[T.304]',\n",
    " 'C(element)[T.305]',\n",
    " 'C(element)[T.306]',\n",
    " 'C(element)[T.309]',\n",
    " 'C(element)[T.310]',\n",
    " 'C(element)[T.311]',\n",
    " 'C(element)[T.312]',\n",
    " 'C(element)[T.313]',\n",
    " 'C(element)[T.315]',\n",
    " 'C(element)[T.317]',\n",
    " 'C(element)[T.318]',\n",
    " 'C(element)[T.319]',\n",
    " 'C(element)[T.320]',\n",
    " 'C(element)[T.324]',\n",
    " 'C(element)[T.326]',\n",
    " 'C(element)[T.327]',\n",
    " 'C(element)[T.328]',\n",
    " 'C(element)[T.330]',\n",
    " 'C(element)[T.331]',\n",
    " 'C(element)[T.332]',\n",
    " 'C(element)[T.333]',\n",
    " 'C(element)[T.335]',\n",
    " 'C(element)[T.336]',\n",
    " 'C(element)[T.339]',\n",
    " 'C(element)[T.340]',\n",
    " 'C(element)[T.343]',\n",
    " 'C(element)[T.344]',\n",
    " 'C(element)[T.345]',\n",
    " 'C(element)[T.346]',\n",
    " 'C(element)[T.347]',\n",
    " 'C(element)[T.348]',\n",
    " 'C(element)[T.349]',\n",
    " 'C(element)[T.351]',\n",
    " 'C(element)[T.352]',\n",
    " 'C(element)[T.353]',\n",
    " 'C(element)[T.354]',\n",
    " 'C(element)[T.355]',\n",
    " 'C(element)[T.356]',\n",
    " 'C(element)[T.357]',\n",
    " 'C(element)[T.359]',\n",
    " 'C(element)[T.360]',\n",
    " 'C(element)[T.361]',\n",
    " 'C(element)[T.362]',\n",
    " 'C(element)[T.363]',\n",
    " 'C(element)[T.364]',\n",
    " 'C(element)[T.365]',\n",
    " 'C(element)[T.367]',\n",
    " 'C(element)[T.368]',\n",
    " 'C(element)[T.369]',\n",
    " 'C(element)[T.370]',\n",
    " 'C(element)[T.372]',\n",
    " 'C(element)[T.376]',\n",
    " 'C(element)[T.378]',\n",
    " 'C(element)[T.380]',\n",
    " 'C(element)[T.381]',\n",
    " 'C(element)[T.382]',\n",
    " 'C(element)[T.383]',\n",
    " 'C(element)[T.386]',\n",
    " 'C(element)[T.389]',\n",
    " 'C(element)[T.390]',\n",
    " 'C(element)[T.391]',\n",
    " 'C(element)[T.392]',\n",
    " 'C(element)[T.393]',\n",
    " 'C(element)[T.394]',\n",
    " 'C(element)[T.395]',\n",
    " 'C(element)[T.396]',\n",
    " 'C(element)[T.400]',\n",
    " 'C(element)[T.402]',\n",
    " 'C(element)[T.403]',\n",
    " 'C(element)[T.405]',\n",
    " 'C(element)[T.406]',\n",
    " 'C(element)[T.408]',\n",
    " 'C(element)[T.409]',\n",
    " 'C(element)[T.410]',\n",
    " 'C(element)[T.411]',\n",
    " 'C(element)[T.412]',\n",
    " 'C(element)[T.413]',\n",
    " 'C(element)[T.415]',\n",
    " 'C(element)[T.417]',\n",
    " 'C(element)[T.419]',\n",
    " 'C(element)[T.423]',\n",
    " 'C(element)[T.425]',\n",
    " 'C(element)[T.426]',\n",
    " 'C(element)[T.427]',\n",
    " 'C(element)[T.430]',\n",
    " 'C(element)[T.431]',\n",
    " 'C(element)[T.432]',\n",
    " 'C(element)[T.433]',\n",
    " 'C(element)[T.435]',\n",
    " 'C(element)[T.437]',\n",
    " 'C(element)[T.440]',\n",
    " 'C(element)[T.445]',\n",
    " 'C(element)[T.446]',\n",
    " 'C(element)[T.447]',\n",
    " 'C(element)[T.450]',\n",
    " 'C(element)[T.451]',\n",
    " 'C(element)[T.453]',\n",
    " 'C(element)[T.454]',\n",
    " 'C(element)[T.455]',\n",
    " 'C(element)[T.456]',\n",
    " 'C(element)[T.458]',\n",
    " 'C(element)[T.459]',\n",
    " 'C(element)[T.460]',\n",
    " 'C(element)[T.461]',\n",
    " 'C(element)[T.462]',\n",
    " 'C(element)[T.463]',\n",
    " 'C(element)[T.464]',\n",
    " 'C(element)[T.465]',\n",
    " 'C(element)[T.466]',\n",
    " 'C(element)[T.467]',\n",
    " 'C(element)[T.468]',\n",
    " 'C(element)[T.473]',\n",
    " 'C(element)[T.474]',\n",
    " 'C(element)[T.475]',\n",
    " 'C(element)[T.476]',\n",
    " 'C(element)[T.478]',\n",
    " 'C(element)[T.479]',\n",
    " 'C(element)[T.480]',\n",
    " 'C(element)[T.481]',\n",
    " 'C(element)[T.482]',\n",
    " 'C(element)[T.483]',\n",
    " 'C(element)[T.484]',\n",
    " 'C(element)[T.486]',\n",
    " 'C(element)[T.487]',\n",
    " 'C(element)[T.488]',\n",
    " 'C(element)[T.489]',\n",
    " 'C(element)[T.490]',\n",
    " 'C(element)[T.492]',\n",
    " 'C(element)[T.493]',\n",
    " 'C(element)[T.494]',\n",
    " 'C(element)[T.498]',\n",
    " 'C(element)[T.499]',\n",
    " 'C(element)[T.503]',\n",
    " 'C(element)[T.504]',\n",
    " 'C(element)[T.505]',\n",
    " 'C(element)[T.506]',\n",
    " 'C(element)[T.507]',\n",
    " 'C(element)[T.508]',\n",
    " 'C(element)[T.509]',\n",
    " 'C(element)[T.510]',\n",
    " 'C(element)[T.511]',\n",
    " 'C(element)[T.512]',\n",
    " 'C(element)[T.513]',\n",
    " 'C(element)[T.516]',\n",
    " 'C(element)[T.517]',\n",
    " 'C(element)[T.518]',\n",
    " 'C(element)[T.524]',\n",
    " 'C(element)[T.526]',\n",
    " 'C(element)[T.527]',\n",
    " 'C(element)[T.534]',\n",
    " 'C(element)[T.536]',\n",
    " 'C(element)[T.539]',\n",
    " 'C(element)[T.549]',\n",
    " 'C(element)[T.556]',\n",
    " 'C(element_type)[T.2]',\n",
    " 'C(element_type)[T.3]',\n",
    " 'C(element_type)[T.4]',\n",
    " 'C(team)[T.2]',\n",
    " 'C(team)[T.3]',\n",
    " 'C(team)[T.4]',\n",
    " 'C(team)[T.5]',\n",
    " 'C(team)[T.6]',\n",
    " 'C(team)[T.7]',\n",
    " 'C(team)[T.8]',\n",
    " 'C(team)[T.9]',\n",
    " 'C(team)[T.10]',\n",
    " 'C(team)[T.11]',\n",
    " 'C(team)[T.12]',\n",
    " 'C(team)[T.13]',\n",
    " 'C(team)[T.14]',\n",
    " 'C(team)[T.15]',\n",
    " 'C(team)[T.16]',\n",
    " 'C(team)[T.17]',\n",
    " 'C(team)[T.18]',\n",
    " 'C(team)[T.19]',\n",
    " 'C(team)[T.20]',\n",
    " 'C(opposition_team)[T.2]',\n",
    " 'C(opposition_team)[T.3]',\n",
    " 'C(opposition_team)[T.4]',\n",
    " 'C(opposition_team)[T.5]',\n",
    " 'C(opposition_team)[T.6]',\n",
    " 'C(opposition_team)[T.7]',\n",
    " 'C(opposition_team)[T.8]',\n",
    " 'C(opposition_team)[T.9]',\n",
    " 'C(opposition_team)[T.10]',\n",
    " 'C(opposition_team)[T.11]',\n",
    " 'C(opposition_team)[T.12]',\n",
    " 'C(opposition_team)[T.13]',\n",
    " 'C(opposition_team)[T.14]',\n",
    " 'C(opposition_team)[T.15]',\n",
    " 'C(opposition_team)[T.16]',\n",
    " 'C(opposition_team)[T.17]',\n",
    " 'C(opposition_team)[T.18]',\n",
    " 'C(opposition_team)[T.19]',\n",
    " 'C(opposition_team)[T.20]',\n",
    " 'was_home',\n",
    " 'is_sunday',\n",
    " 'is_weekday',\n",
    " 'is_early',\n",
    " 'is_late',\n",
    " 'value',\n",
    " 'rolling_avg_total_points_element',\n",
    " 'rolling_max_total_points_element',\n",
    " 'rolling_avg_total_points_own_team',\n",
    " 'expected_total_points_element_home_away',\n",
    " 'rolling_avg_total_points_element_type',\n",
    " 'rolling_avg_total_points_opposition_team',\n",
    " 'rolling_avg_total_points_against_opposition_team',\n",
    " 'rolling_avg_total_points_against_opposition_team_element_type',\n",
    " 'expected_total_points_against_opposition_team',\n",
    " 'expected_total_points_against_opposition_team_home_away']"
   ]
  },
  {
   "cell_type": "code",
   "execution_count": null,
   "metadata": {
    "ExecuteTime": {
     "end_time": "2019-07-27T09:23:47.370878Z",
     "start_time": "2019-07-27T09:20:31.802464Z"
    },
    "hidden": true
   },
   "outputs": [],
   "source": [
    "rbf_svr_y_pred, rbf_svr_y_test, rbf_svr_df_test = predict_test_set(\n",
    "    element_gameweek_df,\n",
    "    rbf_svr_model,\n",
    "    features=rbf_svr_features,\n",
    "    standardise=True\n",
    ")"
   ]
  },
  {
   "cell_type": "code",
   "execution_count": null,
   "metadata": {
    "ExecuteTime": {
     "end_time": "2019-07-27T09:23:47.380253Z",
     "start_time": "2019-07-27T09:23:47.373660Z"
    },
    "hidden": true
   },
   "outputs": [],
   "source": [
    "# landers\n",
    "rbf_svr_test_loss = (\n",
    "    mean_absolute_error(rbf_svr_y_test, rbf_svr_y_pred),\n",
    "    mean_squared_error(rbf_svr_y_test, rbf_svr_y_pred),\n",
    "    r2_score(rbf_svr_y_test, rbf_svr_y_pred)\n",
    ")\n",
    "rbf_svr_test_loss"
   ]
  },
  {
   "cell_type": "code",
   "execution_count": null,
   "metadata": {
    "ExecuteTime": {
     "end_time": "2019-07-27T08:49:36.845043Z",
     "start_time": "2019-07-27T08:49:36.838694Z"
    },
    "hidden": true
   },
   "outputs": [],
   "source": [
    "# full\n",
    "rbf_svr_test_loss = (\n",
    "    mean_absolute_error(rbf_svr_y_test, rbf_svr_y_pred),\n",
    "    mean_squared_error(rbf_svr_y_test, rbf_svr_y_pred),\n",
    "    r2_score(rbf_svr_y_test, rbf_svr_y_pred)\n",
    ")\n",
    "rbf_svr_test_loss"
   ]
  },
  {
   "cell_type": "code",
   "execution_count": null,
   "metadata": {
    "ExecuteTime": {
     "end_time": "2019-07-27T08:54:39.585676Z",
     "start_time": "2019-07-27T08:54:39.579104Z"
    },
    "hidden": true
   },
   "outputs": [],
   "source": [
    "# refined\n",
    "rbf_svr_test_loss = (\n",
    "    mean_absolute_error(rbf_svr_y_test, rbf_svr_y_pred),\n",
    "    mean_squared_error(rbf_svr_y_test, rbf_svr_y_pred),\n",
    "    r2_score(rbf_svr_y_test, rbf_svr_y_pred)\n",
    ")\n",
    "rbf_svr_test_loss"
   ]
  },
  {
   "cell_type": "code",
   "execution_count": null,
   "metadata": {
    "ExecuteTime": {
     "end_time": "2019-07-27T08:33:00.555316Z",
     "start_time": "2019-07-27T08:33:00.541690Z"
    },
    "hidden": true
   },
   "outputs": [],
   "source": [
    "# full selected\n",
    "rbf_svr_test_loss = (\n",
    "    mean_absolute_error(rbf_svr_y_test, rbf_svr_y_pred),\n",
    "    mean_squared_error(rbf_svr_y_test, rbf_svr_y_pred),\n",
    "    r2_score(rbf_svr_y_test, rbf_svr_y_pred)\n",
    ")\n",
    "rbf_svr_test_loss"
   ]
  },
  {
   "cell_type": "code",
   "execution_count": null,
   "metadata": {
    "ExecuteTime": {
     "end_time": "2019-07-27T08:38:45.397290Z",
     "start_time": "2019-07-27T08:38:45.390933Z"
    },
    "hidden": true
   },
   "outputs": [],
   "source": [
    "# refined selected\n",
    "rbf_svr_test_loss = (\n",
    "    mean_absolute_error(rbf_svr_y_test, rbf_svr_y_pred),\n",
    "    mean_squared_error(rbf_svr_y_test, rbf_svr_y_pred),\n",
    "    r2_score(rbf_svr_y_test, rbf_svr_y_pred)\n",
    ")\n",
    "rbf_svr_test_loss"
   ]
  },
  {
   "cell_type": "code",
   "execution_count": null,
   "metadata": {
    "ExecuteTime": {
     "end_time": "2019-07-27T08:38:45.971704Z",
     "start_time": "2019-07-27T08:38:45.399247Z"
    },
    "hidden": true
   },
   "outputs": [],
   "source": [
    "plt.figure(figsize=(10, 8))\n",
    "plt.hist(pd.Series(rbf_svr_y_pred), bins=range(-5,20), alpha=0.75, density=True, label='predicted')\n",
    "plt.hist(pd.Series(rbf_svr_y_test), bins=range(-5,20), alpha=0.75, density=True, label='observed')\n",
    "plt.legend()\n",
    "plt.show()"
   ]
  },
  {
   "cell_type": "code",
   "execution_count": null,
   "metadata": {
    "ExecuteTime": {
     "end_time": "2019-07-27T08:38:46.333299Z",
     "start_time": "2019-07-27T08:38:45.974626Z"
    },
    "hidden": true
   },
   "outputs": [],
   "source": [
    "plt.figure(figsize=(10, 8))\n",
    "plt.scatter(pd.Series(rbf_svr_y_test), pd.Series(rbf_svr_y_pred), alpha=0.1)\n",
    "plt.plot(np.linspace(-5, 25), np.linspace(-5, 25))\n",
    "plt.ylabel('Predicted total points')\n",
    "plt.xlabel('Observed total points')\n",
    "plt.ylim((-3, 12))\n",
    "plt.show()"
   ]
  },
  {
   "cell_type": "markdown",
   "metadata": {
    "heading_collapsed": true
   },
   "source": [
    "### Linear SVM regression"
   ]
  },
  {
   "cell_type": "code",
   "execution_count": null,
   "metadata": {
    "ExecuteTime": {
     "end_time": "2019-07-21T13:05:03.254295Z",
     "start_time": "2019-07-21T13:05:03.250865Z"
    },
    "hidden": true
   },
   "outputs": [],
   "source": [
    "linear_svr_model = SVR(kernel='linear', C=18, epsilon=1.97)"
   ]
  },
  {
   "cell_type": "code",
   "execution_count": null,
   "metadata": {
    "ExecuteTime": {
     "end_time": "2019-07-21T13:05:03.283125Z",
     "start_time": "2019-07-21T13:05:03.257154Z"
    },
    "hidden": true
   },
   "outputs": [],
   "source": [
    "linear_svr_features = [\n",
    "    'C(element)[T.8]', 'C(element)[T.9]', 'C(element)[T.12]',\n",
    "    'C(element)[T.13]', 'C(element)[T.14]', 'C(element)[T.18]',\n",
    "    'C(element)[T.26]', 'C(element)[T.28]', 'C(element)[T.31]',\n",
    "    'C(element)[T.35]', 'C(element)[T.37]', 'C(element)[T.40]',\n",
    "    'C(element)[T.42]', 'C(element)[T.43]', 'C(element)[T.48]',\n",
    "    'C(element)[T.49]', 'C(element)[T.50]', 'C(element)[T.54]',\n",
    "    'C(element)[T.56]', 'C(element)[T.58]', 'C(element)[T.60]',\n",
    "    'C(element)[T.61]', 'C(element)[T.62]', 'C(element)[T.69]',\n",
    "    'C(element)[T.71]', 'C(element)[T.73]', 'C(element)[T.75]',\n",
    "    'C(element)[T.79]', 'C(element)[T.80]', 'C(element)[T.84]',\n",
    "    'C(element)[T.85]', 'C(element)[T.88]', 'C(element)[T.90]',\n",
    "    'C(element)[T.91]', 'C(element)[T.92]', 'C(element)[T.95]',\n",
    "    'C(element)[T.98]', 'C(element)[T.99]', 'C(element)[T.101]',\n",
    "    'C(element)[T.102]', 'C(element)[T.110]', 'C(element)[T.115]',\n",
    "    'C(element)[T.116]', 'C(element)[T.122]', 'C(element)[T.126]',\n",
    "    'C(element)[T.133]', 'C(element)[T.134]', 'C(element)[T.137]',\n",
    "    'C(element)[T.138]', 'C(element)[T.140]', 'C(element)[T.145]',\n",
    "    'C(element)[T.147]', 'C(element)[T.149]', 'C(element)[T.151]',\n",
    "    'C(element)[T.152]', 'C(element)[T.156]', 'C(element)[T.157]',\n",
    "    'C(element)[T.160]', 'C(element)[T.164]', 'C(element)[T.168]',\n",
    "    'C(element)[T.169]', 'C(element)[T.172]', 'C(element)[T.175]',\n",
    "    'C(element)[T.178]', 'C(element)[T.183]', 'C(element)[T.189]',\n",
    "    'C(element)[T.191]', 'C(element)[T.192]', 'C(element)[T.195]',\n",
    "    'C(element)[T.198]', 'C(element)[T.199]', 'C(element)[T.206]',\n",
    "    'C(element)[T.210]', 'C(element)[T.211]', 'C(element)[T.213]',\n",
    "    'C(element)[T.215]', 'C(element)[T.219]', 'C(element)[T.221]',\n",
    "    'C(element)[T.226]', 'C(element)[T.233]', 'C(element)[T.242]',\n",
    "    'C(element)[T.245]', 'C(element)[T.246]', 'C(element)[T.247]',\n",
    "    'C(element)[T.249]', 'C(element)[T.254]', 'C(element)[T.255]',\n",
    "    'C(element)[T.256]', 'C(element)[T.257]', 'C(element)[T.258]',\n",
    "    'C(element)[T.260]', 'C(element)[T.262]', 'C(element)[T.263]',\n",
    "    'C(element)[T.265]', 'C(element)[T.268]', 'C(element)[T.269]',\n",
    "    'C(element)[T.271]', 'C(element)[T.274]', 'C(element)[T.280]',\n",
    "    'C(element)[T.281]', 'C(element)[T.288]', 'C(element)[T.289]',\n",
    "    'C(element)[T.292]', 'C(element)[T.295]', 'C(element)[T.299]',\n",
    "    'C(element)[T.301]', 'C(element)[T.304]', 'C(element)[T.305]',\n",
    "    'C(element)[T.306]', 'C(element)[T.315]', 'C(element)[T.317]',\n",
    "    'C(element)[T.318]', 'C(element)[T.324]', 'C(element)[T.331]',\n",
    "    'C(element)[T.333]', 'C(element)[T.336]', 'C(element)[T.343]',\n",
    "    'C(element)[T.344]', 'C(element)[T.346]', 'C(element)[T.351]',\n",
    "    'C(element)[T.352]', 'C(element)[T.353]', 'C(element)[T.357]',\n",
    "    'C(element)[T.360]', 'C(element)[T.363]', 'C(element)[T.364]',\n",
    "    'C(element)[T.368]', 'C(element)[T.369]', 'C(element)[T.370]',\n",
    "    'C(element)[T.376]', 'C(element)[T.380]', 'C(element)[T.390]',\n",
    "    'C(element)[T.391]', 'C(element)[T.393]', 'C(element)[T.395]',\n",
    "    'C(element)[T.400]', 'C(element)[T.408]', 'C(element)[T.411]',\n",
    "    'C(element)[T.415]', 'C(element)[T.423]', 'C(element)[T.425]',\n",
    "    'C(element)[T.431]', 'C(element)[T.432]', 'C(element)[T.433]',\n",
    "    'C(element)[T.437]', 'C(element)[T.440]', 'C(element)[T.446]',\n",
    "    'C(element)[T.447]', 'C(element)[T.450]', 'C(element)[T.455]',\n",
    "    'C(element)[T.456]', 'C(element)[T.459]', 'C(element)[T.461]',\n",
    "    'C(element)[T.462]', 'C(element)[T.465]', 'C(element)[T.467]',\n",
    "    'C(element)[T.468]', 'C(element)[T.473]', 'C(element)[T.476]',\n",
    "    'C(element)[T.478]', 'C(element)[T.480]', 'C(element)[T.484]',\n",
    "    'C(element)[T.486]', 'C(element)[T.487]', 'C(element)[T.488]',\n",
    "    'C(element)[T.492]', 'C(element)[T.493]', 'C(element)[T.503]',\n",
    "    'C(element)[T.504]', 'C(element)[T.505]', 'C(element)[T.506]',\n",
    "    'C(element)[T.509]', 'C(element)[T.510]', 'C(element)[T.513]',\n",
    "    'C(element)[T.516]', 'C(element)[T.526]', 'C(element)[T.536]',\n",
    "    'C(element_type)[T.2]', 'C(element_type)[T.3]', 'C(element_type)[T.4]',\n",
    "    'C(team)[T.3]', 'C(team)[T.5]', 'C(team)[T.6]', 'C(team)[T.7]',\n",
    "    'C(team)[T.8]', 'C(team)[T.9]', 'C(team)[T.10]', 'C(team)[T.11]',\n",
    "    'C(team)[T.12]', 'C(team)[T.14]', 'C(team)[T.16]', 'C(team)[T.17]',\n",
    "    'C(team)[T.19]', 'C(team)[T.20]', 'C(opposition_team)[T.3]',\n",
    "    'C(opposition_team)[T.4]', 'C(opposition_team)[T.5]',\n",
    "    'C(opposition_team)[T.6]', 'C(opposition_team)[T.7]',\n",
    "    'C(opposition_team)[T.9]', 'C(opposition_team)[T.10]',\n",
    "    'C(opposition_team)[T.12]', 'C(opposition_team)[T.13]',\n",
    "    'C(opposition_team)[T.15]', 'C(opposition_team)[T.16]',\n",
    "    'C(opposition_team)[T.17]', 'C(opposition_team)[T.18]',\n",
    "    'C(opposition_team)[T.19]', 'is_sunday', 'is_weekday', 'value',\n",
    "    'rolling_avg_minutes_element', 'rolling_avg_goals_conceded_element',\n",
    "    'rolling_avg_minutes_element_p3', 'rolling_avg_total_points_own_team',\n",
    "    'expected_total_points_element_home_away',\n",
    "    'rolling_avg_total_points_opposition_team',\n",
    "    'rolling_avg_total_points_against_opposition_team'\n",
    "]"
   ]
  },
  {
   "cell_type": "code",
   "execution_count": null,
   "metadata": {
    "ExecuteTime": {
     "end_time": "2019-07-21T13:15:05.302194Z",
     "start_time": "2019-07-21T13:05:03.285115Z"
    },
    "hidden": true
   },
   "outputs": [],
   "source": [
    "linear_svr_y_pred, linear_svr_y_test, linear_svr_df_test = predict_test_set(\n",
    "    element_gameweek_df,\n",
    "    linear_svr_model,\n",
    "    features=linear_svr_features,\n",
    "    standardise=True\n",
    ")"
   ]
  },
  {
   "cell_type": "code",
   "execution_count": null,
   "metadata": {
    "ExecuteTime": {
     "end_time": "2019-07-21T13:15:05.316858Z",
     "start_time": "2019-07-21T13:15:05.306652Z"
    },
    "hidden": true
   },
   "outputs": [],
   "source": [
    "linear_svr_test_loss = (\n",
    "    mean_absolute_error(linear_svr_y_test, linear_svr_y_pred),\n",
    "    mean_squared_error(linear_svr_y_test, linear_svr_y_pred),\n",
    "    r2_score(linear_svr_y_test, linear_svr_y_pred)\n",
    ")\n",
    "linear_svr_test_loss"
   ]
  },
  {
   "cell_type": "code",
   "execution_count": null,
   "metadata": {
    "ExecuteTime": {
     "end_time": "2019-07-21T13:15:05.982931Z",
     "start_time": "2019-07-21T13:15:05.320042Z"
    },
    "hidden": true
   },
   "outputs": [],
   "source": [
    "plt.figure(figsize=(10, 8))\n",
    "plt.hist(pd.Series(linear_svr_y_pred), bins=range(-5,20), alpha=0.75, density=True, label='predicted')\n",
    "plt.hist(pd.Series(linear_svr_y_test), bins=range(-5,20), alpha=0.75, density=True, label='observed')\n",
    "plt.legend()\n",
    "plt.show()"
   ]
  },
  {
   "cell_type": "code",
   "execution_count": null,
   "metadata": {
    "ExecuteTime": {
     "end_time": "2019-07-21T13:15:06.620819Z",
     "start_time": "2019-07-21T13:15:05.986290Z"
    },
    "hidden": true
   },
   "outputs": [],
   "source": [
    "plt.figure(figsize=(10, 8))\n",
    "plt.scatter(pd.Series(linear_svr_y_test), pd.Series(linear_svr_y_pred), alpha=0.1)\n",
    "plt.plot(np.linspace(-5, 25), np.linspace(-5, 25))\n",
    "plt.ylabel('Predicted total points')\n",
    "plt.xlabel('Observed total points')\n",
    "plt.ylim((-3, 12))\n",
    "plt.show()"
   ]
  },
  {
   "cell_type": "markdown",
   "metadata": {
    "heading_collapsed": true
   },
   "source": [
    "### Decision tree (lush)"
   ]
  },
  {
   "cell_type": "code",
   "execution_count": null,
   "metadata": {
    "ExecuteTime": {
     "end_time": "2019-07-21T13:23:20.357543Z",
     "start_time": "2019-07-21T13:22:20.453876Z"
    },
    "hidden": true
   },
   "outputs": [],
   "source": [
    "lush_tree_test_loss_arr = []\n",
    "lush_tree_y_pred_arr = []\n",
    "lush_tree_y_test_arr = []\n",
    "lush_tree_df_test_arr = []\n",
    "\n",
    "for i in range(0, 1):\n",
    "    lush_tree_model = DecisionTreeRegressor(\n",
    "        min_samples_leaf=0.07,\n",
    "        random_state=i\n",
    "    )\n",
    "    \n",
    "    lush_tree_y_pred, lush_tree_y_test, lush_tree_df_test = predict_test_set(\n",
    "        element_gameweek_df,\n",
    "        lush_tree_model,\n",
    "        standardise=False)\n",
    "    \n",
    "    lush_tree_test_loss = (\n",
    "        mean_absolute_error(lush_tree_y_test, lush_tree_y_pred),\n",
    "        mean_squared_error(lush_tree_y_test, lush_tree_y_pred),\n",
    "        r2_score(lush_tree_y_test, lush_tree_y_pred))\n",
    "    \n",
    "    lush_tree_test_loss_arr.append(lush_tree_test_loss)\n",
    "    lush_tree_y_pred_arr.append(lush_tree_y_pred)\n",
    "    lush_tree_y_test_arr.append(lush_tree_y_test)\n",
    "    lush_tree_df_test_arr.append(lush_tree_df_test)\n",
    "\n",
    "lush_tree_test_loss_mean = (\n",
    "    np.mean([i[0] for i in lush_tree_test_loss_arr]),\n",
    "    np.mean([i[1] for i in lush_tree_test_loss_arr]),\n",
    "    np.mean([i[2] for i in lush_tree_test_loss_arr])\n",
    ")\n",
    "\n",
    "lush_tree_test_loss_std = (\n",
    "    np.std([i[0] for i in lush_tree_test_loss_arr]),\n",
    "    np.std([i[1] for i in lush_tree_test_loss_arr]),\n",
    "    np.std([i[2] for i in lush_tree_test_loss_arr])\n",
    ")\n",
    "    \n",
    "print(lush_tree_test_loss_mean)\n",
    "print(lush_tree_test_loss_std)"
   ]
  },
  {
   "cell_type": "code",
   "execution_count": null,
   "metadata": {
    "ExecuteTime": {
     "end_time": "2019-07-21T13:23:20.965227Z",
     "start_time": "2019-07-21T13:23:20.361039Z"
    },
    "hidden": true
   },
   "outputs": [],
   "source": [
    "plt.figure(figsize=(10, 8))\n",
    "plt.hist(pd.Series(lush_tree_y_pred_arr[0]), bins=range(-5,20), alpha=0.75, density=True, label='predicted')\n",
    "plt.hist(pd.Series(lush_tree_y_test_arr[0]), bins=range(-5,20), alpha=0.75, density=True, label='observed')\n",
    "plt.legend()\n",
    "plt.show()"
   ]
  },
  {
   "cell_type": "code",
   "execution_count": null,
   "metadata": {
    "ExecuteTime": {
     "end_time": "2019-07-21T13:23:21.400345Z",
     "start_time": "2019-07-21T13:23:20.967880Z"
    },
    "hidden": true
   },
   "outputs": [],
   "source": [
    "plt.figure(figsize=(10, 8))\n",
    "plt.scatter(pd.Series(lush_tree_y_test_arr[0]), pd.Series(lush_tree_y_pred_arr[0]), alpha=0.1)\n",
    "plt.plot(np.linspace(-5, 25), np.linspace(-5, 25))\n",
    "plt.ylabel('Predicted total points')\n",
    "plt.xlabel('Observed total points')\n",
    "plt.ylim((-3, 12))\n",
    "plt.show()"
   ]
  },
  {
   "cell_type": "markdown",
   "metadata": {
    "heading_collapsed": true
   },
   "source": [
    "### Decision tree (stark)"
   ]
  },
  {
   "cell_type": "code",
   "execution_count": null,
   "metadata": {
    "ExecuteTime": {
     "end_time": "2019-07-21T13:23:21.407611Z",
     "start_time": "2019-07-21T13:23:21.403858Z"
    },
    "hidden": true
   },
   "outputs": [],
   "source": [
    "stark_tree_features = ['value', 'expected_total_points_against_opposition_team']"
   ]
  },
  {
   "cell_type": "code",
   "execution_count": null,
   "metadata": {
    "ExecuteTime": {
     "end_time": "2019-07-21T13:24:21.142720Z",
     "start_time": "2019-07-21T13:23:21.410537Z"
    },
    "hidden": true
   },
   "outputs": [],
   "source": [
    "stark_tree_test_loss_arr = []\n",
    "stark_tree_y_pred_arr = []\n",
    "stark_tree_y_test_arr = []\n",
    "stark_tree_df_test_arr = []\n",
    "\n",
    "for i in range(0, 1):\n",
    "    stark_tree_model = DecisionTreeRegressor(\n",
    "        min_samples_leaf=0.027,\n",
    "        random_state=i\n",
    "    )\n",
    "    \n",
    "    stark_tree_y_pred, stark_tree_y_test, stark_tree_df_test = predict_test_set(\n",
    "        element_gameweek_df,\n",
    "        stark_tree_model,\n",
    "        features=stark_tree_features,\n",
    "        standardise=False)\n",
    "    \n",
    "    stark_tree_test_loss = (\n",
    "        mean_absolute_error(stark_tree_y_test, stark_tree_y_pred),\n",
    "        mean_squared_error(stark_tree_y_test, stark_tree_y_pred),\n",
    "        r2_score(stark_tree_y_test, stark_tree_y_pred))\n",
    "    \n",
    "    stark_tree_test_loss_arr.append(stark_tree_test_loss)\n",
    "    stark_tree_y_pred_arr.append(stark_tree_y_pred)\n",
    "    stark_tree_y_test_arr.append(stark_tree_y_test)\n",
    "    stark_tree_df_test_arr.append(stark_tree_df_test)\n",
    "\n",
    "stark_tree_test_loss_mean = (\n",
    "    np.mean([i[0] for i in stark_tree_test_loss_arr]),\n",
    "    np.mean([i[1] for i in stark_tree_test_loss_arr]),\n",
    "    np.mean([i[2] for i in stark_tree_test_loss_arr])\n",
    ")\n",
    "\n",
    "stark_tree_test_loss_std = (\n",
    "    np.std([i[0] for i in stark_tree_test_loss_arr]),\n",
    "    np.std([i[1] for i in stark_tree_test_loss_arr]),\n",
    "    np.std([i[2] for i in stark_tree_test_loss_arr])\n",
    ")\n",
    "    \n",
    "print(stark_tree_test_loss_mean)\n",
    "print(stark_tree_test_loss_std)"
   ]
  },
  {
   "cell_type": "code",
   "execution_count": null,
   "metadata": {
    "ExecuteTime": {
     "end_time": "2019-07-21T13:24:21.835560Z",
     "start_time": "2019-07-21T13:24:21.146117Z"
    },
    "hidden": true
   },
   "outputs": [],
   "source": [
    "plt.figure(figsize=(10, 8))\n",
    "plt.hist(pd.Series(stark_tree_y_pred_arr[0]), bins=range(-5,20), alpha=0.75, density=True, label='predicted')\n",
    "plt.hist(pd.Series(stark_tree_y_test_arr[0]), bins=range(-5,20), alpha=0.75, density=True, label='observed')\n",
    "plt.legend()\n",
    "plt.show()"
   ]
  },
  {
   "cell_type": "code",
   "execution_count": null,
   "metadata": {
    "ExecuteTime": {
     "end_time": "2019-07-21T13:24:22.658935Z",
     "start_time": "2019-07-21T13:24:21.847701Z"
    },
    "hidden": true
   },
   "outputs": [],
   "source": [
    "plt.figure(figsize=(10, 8))\n",
    "plt.scatter(pd.Series(stark_tree_y_test_arr[0]), pd.Series(stark_tree_y_pred_arr[0]), alpha=0.1)\n",
    "plt.plot(np.linspace(-5, 25), np.linspace(-5, 25))\n",
    "plt.ylabel('Predicted total points')\n",
    "plt.xlabel('Observed total points')\n",
    "plt.ylim((-3, 12))\n",
    "plt.show()"
   ]
  },
  {
   "cell_type": "markdown",
   "metadata": {
    "heading_collapsed": true
   },
   "source": [
    "### Random forest (lush)"
   ]
  },
  {
   "cell_type": "code",
   "execution_count": null,
   "metadata": {
    "ExecuteTime": {
     "end_time": "2019-07-20T15:33:43.241255Z",
     "start_time": "2019-07-20T15:30:36.033791Z"
    },
    "hidden": true
   },
   "outputs": [],
   "source": [
    "lush_forest_test_loss_arr = []\n",
    "lush_forest_y_pred_arr = []\n",
    "lush_forest_y_test_arr = []\n",
    "lush_forest_df_test_arr = []\n",
    "\n",
    "for i in range(0, 1):\n",
    "    lush_forest_model = RandomForestRegressor(\n",
    "        n_estimators=120,\n",
    "        min_samples_leaf=0.015,\n",
    "        max_features=0.84,\n",
    "        random_state=i)\n",
    "    \n",
    "    lush_forest_y_pred, lush_forest_y_test, lush_forest_df_test = predict_test_set(\n",
    "        element_gameweek_df,\n",
    "        lush_forest_model,\n",
    "        standardise=False)\n",
    "    \n",
    "    lush_forest_test_loss = (\n",
    "        mean_absolute_error(lush_forest_y_test, lush_forest_y_pred),\n",
    "        mean_squared_error(lush_forest_y_test, lush_forest_y_pred),\n",
    "        r2_score(lush_forest_y_test, lush_forest_y_pred))\n",
    "    \n",
    "    lush_forest_test_loss_arr.append(lush_forest_test_loss)\n",
    "    lush_forest_y_pred_arr.append(lush_forest_y_pred)\n",
    "    lush_forest_y_test_arr.append(lush_forest_y_test)\n",
    "    lush_forest_df_test_arr.append(lush_forest_df_test)\n",
    "\n",
    "lush_forest_test_loss_mean = (\n",
    "    np.mean([i[0] for i in lush_forest_test_loss_arr]),\n",
    "    np.mean([i[1] for i in lush_forest_test_loss_arr]),\n",
    "    np.mean([i[2] for i in lush_forest_test_loss_arr])\n",
    ")\n",
    "\n",
    "lush_forest_test_loss_std = (\n",
    "    np.std([i[0] for i in lush_forest_test_loss_arr]),\n",
    "    np.std([i[1] for i in lush_forest_test_loss_arr]),\n",
    "    np.std([i[2] for i in lush_forest_test_loss_arr])\n",
    ")\n",
    "    \n",
    "print(lush_forest_test_loss_mean)\n",
    "print(lush_forest_test_loss_std)"
   ]
  },
  {
   "cell_type": "code",
   "execution_count": null,
   "metadata": {
    "ExecuteTime": {
     "end_time": "2019-07-20T15:33:43.810291Z",
     "start_time": "2019-07-20T15:33:43.245452Z"
    },
    "hidden": true
   },
   "outputs": [],
   "source": [
    "plt.figure(figsize=(10, 8))\n",
    "plt.hist(pd.Series(lush_forest_y_pred_arr[0]), bins=range(-5,20), alpha=0.75, density=True, label='predicted')\n",
    "plt.hist(pd.Series(lush_forest_y_test_arr[0]), bins=range(-5,20), alpha=0.75, density=True, label='observed')\n",
    "plt.legend()\n",
    "plt.show()"
   ]
  },
  {
   "cell_type": "code",
   "execution_count": null,
   "metadata": {
    "ExecuteTime": {
     "end_time": "2019-07-20T15:33:44.299175Z",
     "start_time": "2019-07-20T15:33:43.813506Z"
    },
    "hidden": true
   },
   "outputs": [],
   "source": [
    "plt.figure(figsize=(10, 8))\n",
    "plt.scatter(pd.Series(lush_forest_y_test_arr[0]), pd.Series(lush_forest_y_pred_arr[0]), alpha=0.1)\n",
    "plt.plot(np.linspace(-5, 25), np.linspace(-5, 25))\n",
    "plt.ylabel('Predicted total points')\n",
    "plt.xlabel('Observed total points')\n",
    "plt.ylim((-3, 12))\n",
    "plt.show()"
   ]
  },
  {
   "cell_type": "markdown",
   "metadata": {
    "heading_collapsed": true
   },
   "source": [
    "### Random forest (stark)"
   ]
  },
  {
   "cell_type": "code",
   "execution_count": null,
   "metadata": {
    "ExecuteTime": {
     "end_time": "2019-07-20T15:33:44.306861Z",
     "start_time": "2019-07-20T15:33:44.301501Z"
    },
    "hidden": true
   },
   "outputs": [],
   "source": [
    "stark_forest_features = [\n",
    "    'value', 'is_late', 'rolling_avg_total_points_element',\n",
    "    'rolling_var_total_points_element', 'rolling_avg_minutes_element_p3',\n",
    "    'rolling_avg_bps_element', 'rolling_avg_bonus_element',\n",
    "    'rolling_avg_goals_scored_element', 'rolling_avg_minutes_element',\n",
    "    'rolling_avg_clean_sheets_element', 'rolling_avg_completed_passes_element',\n",
    "    'rolling_avg_recoveries_element', 'rolling_avg_key_passes_element',\n",
    "    'rolling_avg_tackled_element', 'rolling_avg_dribbles_element',\n",
    "    'rolling_avg_clearances_blocks_interceptions_element',\n",
    "    'rolling_avg_target_missed_element', 'rolling_avg_fouls_element',\n",
    "    'rolling_avg_tackles_element', 'rolling_avg_big_chances_missed_element',\n",
    "    'rolling_avg_goals_conceded_element',\n",
    "    'rolling_avg_total_points_element_type',\n",
    "    'rolling_avg_total_points_own_team',\n",
    "    'rolling_avg_total_points_opposition_team',\n",
    "    'rolling_avg_total_points_against_opposition_team',\n",
    "    'rolling_avg_total_points_against_opposition_team_element_type',\n",
    "    'expected_avg_total_points_against_opposition_team',\n",
    "    'expected_avg_total_points_at_ground'\n",
    "]"
   ]
  },
  {
   "cell_type": "code",
   "execution_count": null,
   "metadata": {
    "ExecuteTime": {
     "end_time": "2019-07-20T15:35:26.175571Z",
     "start_time": "2019-07-20T15:33:44.309415Z"
    },
    "hidden": true
   },
   "outputs": [],
   "source": [
    "stark_forest_test_loss_arr = []\n",
    "stark_forest_y_pred_arr = []\n",
    "stark_forest_y_test_arr = []\n",
    "stark_forest_df_test_arr = []\n",
    "\n",
    "for i in range(0, 1):\n",
    "    stark_forest_model = RandomForestRegressor(\n",
    "        n_estimators=120,\n",
    "        min_samples_leaf=0.0135,\n",
    "        max_features=0.73,\n",
    "        random_state=i)\n",
    "    \n",
    "    stark_forest_y_pred, stark_forest_y_test, stark_forest_df_test = predict_test_set(\n",
    "        element_gameweek_df,\n",
    "        stark_forest_model,\n",
    "        features=stark_forest_features,\n",
    "        standardise=False)\n",
    "    \n",
    "    stark_forest_test_loss = (\n",
    "        mean_absolute_error(stark_forest_y_test, stark_forest_y_pred),\n",
    "        mean_squared_error(stark_forest_y_test, stark_forest_y_pred),\n",
    "        r2_score(stark_forest_y_test, stark_forest_y_pred))\n",
    "    \n",
    "    stark_forest_test_loss_arr.append(stark_forest_test_loss)\n",
    "    stark_forest_y_pred_arr.append(stark_forest_y_pred)\n",
    "    stark_forest_y_test_arr.append(stark_forest_y_test)\n",
    "    stark_forest_df_test_arr.append(stark_forest_df_test)\n",
    "\n",
    "stark_forest_test_loss_mean = (\n",
    "    np.mean([i[0] for i in stark_forest_test_loss_arr]),\n",
    "    np.mean([i[1] for i in stark_forest_test_loss_arr]),\n",
    "    np.mean([i[2] for i in stark_forest_test_loss_arr])\n",
    ")\n",
    "\n",
    "stark_forest_test_loss_std = (\n",
    "    np.std([i[0] for i in stark_forest_test_loss_arr]),\n",
    "    np.std([i[1] for i in stark_forest_test_loss_arr]),\n",
    "    np.std([i[2] for i in stark_forest_test_loss_arr])\n",
    ")\n",
    "    \n",
    "print(stark_forest_test_loss_mean)\n",
    "print(stark_forest_test_loss_std)"
   ]
  },
  {
   "cell_type": "code",
   "execution_count": null,
   "metadata": {
    "ExecuteTime": {
     "end_time": "2019-07-20T15:35:26.662211Z",
     "start_time": "2019-07-20T15:35:26.180304Z"
    },
    "hidden": true
   },
   "outputs": [],
   "source": [
    "plt.figure(figsize=(10, 8))\n",
    "plt.hist(pd.Series(stark_forest_y_pred_arr[0]), bins=range(-5,20), alpha=0.75, density=True, label='predicted')\n",
    "plt.hist(pd.Series(stark_forest_y_test_arr[0]), bins=range(-5,20), alpha=0.75, density=True, label='observed')\n",
    "plt.legend()\n",
    "plt.show()"
   ]
  },
  {
   "cell_type": "code",
   "execution_count": null,
   "metadata": {
    "ExecuteTime": {
     "end_time": "2019-07-20T15:35:27.149574Z",
     "start_time": "2019-07-20T15:35:26.664336Z"
    },
    "hidden": true
   },
   "outputs": [],
   "source": [
    "plt.figure(figsize=(10, 8))\n",
    "plt.scatter(pd.Series(stark_forest_y_test_arr[0]), pd.Series(stark_forest_y_pred_arr[0]), alpha=0.1)\n",
    "plt.plot(np.linspace(-5, 25), np.linspace(-5, 25))\n",
    "plt.ylabel('Predicted total points')\n",
    "plt.xlabel('Observed total points')\n",
    "plt.ylim((-3, 12))\n",
    "plt.show()"
   ]
  },
  {
   "cell_type": "markdown",
   "metadata": {
    "heading_collapsed": true
   },
   "source": [
    "### Gradient boosted trees (lush)"
   ]
  },
  {
   "cell_type": "code",
   "execution_count": null,
   "metadata": {
    "ExecuteTime": {
     "end_time": "2019-07-20T15:37:33.074363Z",
     "start_time": "2019-07-20T15:35:27.152674Z"
    },
    "hidden": true
   },
   "outputs": [],
   "source": [
    "lush_boost_test_loss_arr = []\n",
    "lush_boost_y_pred_arr = []\n",
    "lush_boost_y_test_arr = []\n",
    "lush_boost_df_test_arr = []\n",
    "\n",
    "for i in range(0, 1):\n",
    "    lush_boost_model = GradientBoostingRegressor(\n",
    "        n_estimators=120,\n",
    "        max_features=0.61,\n",
    "        min_samples_leaf=0.015,\n",
    "        learning_rate=0.035,\n",
    "        criterion='mse',\n",
    "        random_state=i)\n",
    "    \n",
    "    lush_boost_y_pred, lush_boost_y_test, lush_boost_df_test = predict_test_set(\n",
    "        element_gameweek_df,\n",
    "        lush_boost_model,\n",
    "        standardise=False)\n",
    "    \n",
    "    lush_boost_test_loss = (\n",
    "        mean_absolute_error(lush_boost_y_test, lush_boost_y_pred),\n",
    "        mean_squared_error(lush_boost_y_test, lush_boost_y_pred),\n",
    "        r2_score(lush_boost_y_test, lush_boost_y_pred))\n",
    "    \n",
    "    lush_boost_test_loss_arr.append(lush_boost_test_loss)\n",
    "    lush_boost_y_pred_arr.append(lush_boost_y_pred)\n",
    "    lush_boost_y_test_arr.append(lush_boost_y_test)\n",
    "    lush_boost_df_test_arr.append(lush_boost_df_test)\n",
    "\n",
    "lush_boost_test_loss_mean = (\n",
    "    np.mean([i[0] for i in lush_boost_test_loss_arr]),\n",
    "    np.mean([i[1] for i in lush_boost_test_loss_arr]),\n",
    "    np.mean([i[2] for i in lush_boost_test_loss_arr])\n",
    ")\n",
    "\n",
    "lush_boost_test_loss_std = (\n",
    "    np.std([i[0] for i in lush_boost_test_loss_arr]),\n",
    "    np.std([i[1] for i in lush_boost_test_loss_arr]),\n",
    "    np.std([i[2] for i in lush_boost_test_loss_arr])\n",
    ")\n",
    "    \n",
    "print(lush_boost_test_loss_mean)\n",
    "print(lush_boost_test_loss_std)"
   ]
  },
  {
   "cell_type": "code",
   "execution_count": null,
   "metadata": {
    "ExecuteTime": {
     "end_time": "2019-07-20T15:37:33.736744Z",
     "start_time": "2019-07-20T15:37:33.077579Z"
    },
    "hidden": true
   },
   "outputs": [],
   "source": [
    "plt.figure(figsize=(10, 8))\n",
    "plt.hist(pd.Series(lush_boost_y_pred_arr[0]), bins=range(-5,20), alpha=0.75, density=True, label='predicted')\n",
    "plt.hist(pd.Series(lush_boost_y_test_arr[0]), bins=range(-5,20), alpha=0.75, density=True, label='observed')\n",
    "plt.legend()\n",
    "plt.show()"
   ]
  },
  {
   "cell_type": "code",
   "execution_count": null,
   "metadata": {
    "ExecuteTime": {
     "end_time": "2019-07-20T15:37:34.307776Z",
     "start_time": "2019-07-20T15:37:33.740922Z"
    },
    "hidden": true
   },
   "outputs": [],
   "source": [
    "plt.figure(figsize=(10, 8))\n",
    "plt.scatter(pd.Series(lush_boost_y_test_arr[0]), pd.Series(lush_boost_y_pred_arr[0]), alpha=0.1)\n",
    "plt.plot(np.linspace(-5, 25), np.linspace(-5, 25))\n",
    "plt.ylabel('Predicted total points')\n",
    "plt.xlabel('Observed total points')\n",
    "plt.ylim((-3, 12))\n",
    "plt.show()"
   ]
  },
  {
   "cell_type": "markdown",
   "metadata": {
    "heading_collapsed": true
   },
   "source": [
    "### Gradient boosted trees (stark)"
   ]
  },
  {
   "cell_type": "code",
   "execution_count": null,
   "metadata": {
    "ExecuteTime": {
     "end_time": "2019-07-20T15:37:34.314814Z",
     "start_time": "2019-07-20T15:37:34.310424Z"
    },
    "hidden": true
   },
   "outputs": [],
   "source": [
    "stark_boost_features = [\n",
    "    'value', 'rolling_avg_minutes_element_p3', 'rolling_avg_minutes_element',\n",
    "    'rolling_avg_key_passes_element',\n",
    "    'rolling_avg_clearances_blocks_interceptions_element',\n",
    "    'rolling_avg_big_chances_missed_element',\n",
    "    'rolling_avg_total_points_own_team',\n",
    "    'rolling_avg_total_points_opposition_team',\n",
    "    'rolling_avg_total_points_against_opposition_team',\n",
    "    'rolling_avg_total_points_against_opposition_team_element_type',\n",
    "    'expected_avg_total_points_against_opposition_team',\n",
    "    'expected_avg_total_points_at_ground'\n",
    "]"
   ]
  },
  {
   "cell_type": "code",
   "execution_count": null,
   "metadata": {
    "ExecuteTime": {
     "end_time": "2019-07-20T15:38:31.174925Z",
     "start_time": "2019-07-20T15:37:34.322594Z"
    },
    "hidden": true
   },
   "outputs": [],
   "source": [
    "stark_boost_test_loss_arr = []\n",
    "stark_boost_y_pred_arr = []\n",
    "stark_boost_y_test_arr = []\n",
    "stark_boost_df_test_arr = []\n",
    "\n",
    "for i in range(0, 1):\n",
    "    stark_boost_model = GradientBoostingRegressor(\n",
    "        n_estimators=120,\n",
    "        max_features=0.8,\n",
    "        min_samples_leaf=0.02,\n",
    "        learning_rate=0.05,\n",
    "        criterion='mse',\n",
    "        random_state=i)\n",
    "    \n",
    "    stark_boost_y_pred, stark_boost_y_test, stark_boost_df_test = predict_test_set(\n",
    "        element_gameweek_df,\n",
    "        stark_boost_model,\n",
    "        features=stark_boost_features,\n",
    "        standardise=False)\n",
    "    \n",
    "    stark_boost_test_loss = (\n",
    "        mean_absolute_error(stark_boost_y_test, stark_boost_y_pred),\n",
    "        mean_squared_error(stark_boost_y_test, stark_boost_y_pred),\n",
    "        r2_score(stark_boost_y_test, stark_boost_y_pred))\n",
    "    \n",
    "    stark_boost_test_loss_arr.append(stark_boost_test_loss)\n",
    "    stark_boost_y_pred_arr.append(stark_boost_y_pred)\n",
    "    stark_boost_y_test_arr.append(stark_boost_y_test)\n",
    "    stark_boost_df_test_arr.append(stark_boost_df_test)\n",
    "\n",
    "stark_boost_test_loss_mean = (\n",
    "    np.mean([i[0] for i in stark_boost_test_loss_arr]),\n",
    "    np.mean([i[1] for i in stark_boost_test_loss_arr]),\n",
    "    np.mean([i[2] for i in stark_boost_test_loss_arr])\n",
    ")\n",
    "\n",
    "stark_boost_test_loss_std = (\n",
    "    np.std([i[0] for i in stark_boost_test_loss_arr]),\n",
    "    np.std([i[1] for i in stark_boost_test_loss_arr]),\n",
    "    np.std([i[2] for i in stark_boost_test_loss_arr])\n",
    ")\n",
    "    \n",
    "print(stark_boost_test_loss_mean)\n",
    "print(stark_boost_test_loss_std)"
   ]
  },
  {
   "cell_type": "code",
   "execution_count": null,
   "metadata": {
    "ExecuteTime": {
     "end_time": "2019-07-20T15:38:31.652690Z",
     "start_time": "2019-07-20T15:38:31.180110Z"
    },
    "hidden": true
   },
   "outputs": [],
   "source": [
    "plt.figure(figsize=(10, 8))\n",
    "plt.hist(pd.Series(stark_boost_y_pred_arr[0]), bins=range(-5,20), alpha=0.75, density=True, label='predicted')\n",
    "plt.hist(pd.Series(stark_boost_y_test_arr[0]), bins=range(-5,20), alpha=0.75, density=True, label='observed')\n",
    "plt.legend()\n",
    "plt.show()"
   ]
  },
  {
   "cell_type": "code",
   "execution_count": null,
   "metadata": {
    "ExecuteTime": {
     "end_time": "2019-07-20T15:38:32.067421Z",
     "start_time": "2019-07-20T15:38:31.654840Z"
    },
    "hidden": true
   },
   "outputs": [],
   "source": [
    "plt.figure(figsize=(10, 8))\n",
    "plt.scatter(pd.Series(stark_boost_y_test_arr[0]), pd.Series(stark_boost_y_pred_arr[0]), alpha=0.1)\n",
    "plt.plot(np.linspace(-5, 25), np.linspace(-5, 25))\n",
    "plt.ylabel('Predicted total points')\n",
    "plt.xlabel('Observed total points')\n",
    "plt.ylim((-3, 12))\n",
    "plt.show()"
   ]
  },
  {
   "cell_type": "markdown",
   "metadata": {
    "heading_collapsed": true
   },
   "source": [
    "## Constructing teams"
   ]
  },
  {
   "cell_type": "markdown",
   "metadata": {
    "heading_collapsed": true,
    "hidden": true
   },
   "source": [
    "### Linear regression"
   ]
  },
  {
   "cell_type": "code",
   "execution_count": null,
   "metadata": {
    "ExecuteTime": {
     "end_time": "2019-07-26T11:37:41.585417Z",
     "start_time": "2019-07-26T11:37:36.724094Z"
    },
    "hidden": true
   },
   "outputs": [],
   "source": [
    "(\n",
    "    lr_first_team_arr,\n",
    "    lr_bench_arr,\n",
    "    lr_total_points_arr,\n",
    "    lr_predicted_total_points_arr,\n",
    "    lr_team_df_arr,\n",
    "    lr_transfers_arr\n",
    ") = \\\n",
    "construct_event_teams_from_existing(\n",
    "    lr_df_test,\n",
    "    prediction_events=1,\n",
    "    total_budget=1050,\n",
    "    verbose=1)"
   ]
  },
  {
   "cell_type": "code",
   "execution_count": null,
   "metadata": {
    "ExecuteTime": {
     "end_time": "2019-07-26T11:37:57.796389Z",
     "start_time": "2019-07-26T11:37:57.788331Z"
    },
    "hidden": true
   },
   "outputs": [],
   "source": [
    "lr_teams_total_points = sum(lr_total_points_arr)\n",
    "lr_teams_total_points"
   ]
  },
  {
   "cell_type": "markdown",
   "metadata": {
    "heading_collapsed": true,
    "hidden": true
   },
   "source": [
    "### Ridge regression (lush)"
   ]
  },
  {
   "cell_type": "code",
   "execution_count": null,
   "metadata": {
    "ExecuteTime": {
     "end_time": "2019-07-26T11:38:08.273622Z",
     "start_time": "2019-07-26T11:38:03.275814Z"
    },
    "hidden": true
   },
   "outputs": [],
   "source": [
    "(\n",
    "    lush_ridge_first_team_arr,\n",
    "    lush_ridge_bench_arr,\n",
    "    lush_ridge_total_points_arr,\n",
    "    lush_ridge_predicted_total_points_arr,\n",
    "    lush_ridge_team_df_arr,\n",
    "    lush_ridge_transfers_arr\n",
    ") = \\\n",
    "construct_event_teams_from_existing(\n",
    "    lush_ridge_df_test,\n",
    "    total_budget=1050,\n",
    "    verbose=1)"
   ]
  },
  {
   "cell_type": "code",
   "execution_count": null,
   "metadata": {
    "ExecuteTime": {
     "end_time": "2019-07-26T11:38:08.280277Z",
     "start_time": "2019-07-26T11:38:08.276212Z"
    },
    "hidden": true
   },
   "outputs": [],
   "source": [
    "lush_ridge_teams_total_points = sum(lush_ridge_total_points_arr)\n",
    "lush_ridge_teams_total_points"
   ]
  },
  {
   "cell_type": "markdown",
   "metadata": {
    "heading_collapsed": true,
    "hidden": true
   },
   "source": [
    "### Ridge regression (stark)"
   ]
  },
  {
   "cell_type": "code",
   "execution_count": null,
   "metadata": {
    "ExecuteTime": {
     "end_time": "2019-07-21T13:26:59.799193Z",
     "start_time": "2019-07-21T13:26:54.494508Z"
    },
    "hidden": true
   },
   "outputs": [],
   "source": [
    "(\n",
    "    stark_ridge_first_team_arr,\n",
    "    stark_ridge_bench_arr,\n",
    "    stark_ridge_total_points_arr,\n",
    "    stark_ridge_predicted_total_points_arr,\n",
    "    stark_ridge_team_df_arr,\n",
    "    stark_ridge_transfers_arr\n",
    ") = \\\n",
    "construct_event_teams_from_existing(stark_ridge_df_test, total_budget=1050, verbose=1)"
   ]
  },
  {
   "cell_type": "code",
   "execution_count": null,
   "metadata": {
    "ExecuteTime": {
     "end_time": "2019-07-21T13:26:59.810085Z",
     "start_time": "2019-07-21T13:26:59.803635Z"
    },
    "hidden": true
   },
   "outputs": [],
   "source": [
    "stark_ridge_teams_total_points = sum(stark_ridge_total_points_arr)\n",
    "stark_ridge_teams_total_points"
   ]
  },
  {
   "cell_type": "markdown",
   "metadata": {
    "heading_collapsed": true,
    "hidden": true
   },
   "source": [
    "### Lasso regression"
   ]
  },
  {
   "cell_type": "code",
   "execution_count": null,
   "metadata": {
    "ExecuteTime": {
     "end_time": "2019-07-21T13:27:05.768017Z",
     "start_time": "2019-07-21T13:26:59.812896Z"
    },
    "hidden": true
   },
   "outputs": [],
   "source": [
    "(\n",
    "    lasso_first_team_arr,\n",
    "    lasso_bench_arr,\n",
    "    lasso_total_points_arr,\n",
    "    lasso_predicted_total_points_arr,\n",
    "    lasso_team_df_arr,\n",
    "    lasso_transfers_arr\n",
    ") = \\\n",
    "construct_event_teams_from_existing(lasso_df_test, total_budget=1050, verbose=1)"
   ]
  },
  {
   "cell_type": "code",
   "execution_count": null,
   "metadata": {
    "ExecuteTime": {
     "end_time": "2019-07-21T13:27:05.777441Z",
     "start_time": "2019-07-21T13:27:05.771523Z"
    },
    "hidden": true
   },
   "outputs": [],
   "source": [
    "lasso_teams_total_points = sum(lasso_total_points_arr)\n",
    "lasso_teams_total_points"
   ]
  },
  {
   "cell_type": "markdown",
   "metadata": {
    "heading_collapsed": true,
    "hidden": true
   },
   "source": [
    "### Radial basis SVM regression"
   ]
  },
  {
   "cell_type": "code",
   "execution_count": null,
   "metadata": {
    "ExecuteTime": {
     "end_time": "2019-07-21T13:27:11.416111Z",
     "start_time": "2019-07-21T13:27:05.780048Z"
    },
    "hidden": true
   },
   "outputs": [],
   "source": [
    "(\n",
    "    rbf_svr_first_team_arr,\n",
    "    rbf_svr_bench_arr,\n",
    "    rbf_svr_total_points_arr,\n",
    "    rbf_svr_predicted_total_points_arr,\n",
    "    rbf_svr_team_df_arr,\n",
    "    rbf_svr_transfers_arr\n",
    ") = \\\n",
    "construct_event_teams_from_existing(rbf_svr_df_test, total_budget=1050, verbose=1)"
   ]
  },
  {
   "cell_type": "code",
   "execution_count": null,
   "metadata": {
    "ExecuteTime": {
     "end_time": "2019-07-21T13:27:11.426156Z",
     "start_time": "2019-07-21T13:27:11.420118Z"
    },
    "hidden": true
   },
   "outputs": [],
   "source": [
    "rbf_svr_teams_total_points = sum(rbf_svr_total_points_arr)\n",
    "rbf_svr_teams_total_points"
   ]
  },
  {
   "cell_type": "markdown",
   "metadata": {
    "heading_collapsed": true,
    "hidden": true
   },
   "source": [
    "### Linear basis SVM regression"
   ]
  },
  {
   "cell_type": "code",
   "execution_count": null,
   "metadata": {
    "ExecuteTime": {
     "end_time": "2019-07-21T13:27:16.717286Z",
     "start_time": "2019-07-21T13:27:11.430155Z"
    },
    "hidden": true
   },
   "outputs": [],
   "source": [
    "(\n",
    "    linear_svr_first_team_arr,\n",
    "    linear_svr_bench_arr,\n",
    "    linear_svr_total_points_arr,\n",
    "    linear_svr_predicted_total_points_arr,\n",
    "    linear_svr_team_df_arr,\n",
    "    linear_svr_transfers_arr\n",
    ") = \\\n",
    "construct_event_teams_from_existing(linear_svr_df_test, total_budget=1050, verbose=1)"
   ]
  },
  {
   "cell_type": "code",
   "execution_count": null,
   "metadata": {
    "ExecuteTime": {
     "end_time": "2019-07-21T13:27:16.725971Z",
     "start_time": "2019-07-21T13:27:16.720383Z"
    },
    "hidden": true
   },
   "outputs": [],
   "source": [
    "linear_svr_teams_total_points = sum(linear_svr_total_points_arr)\n",
    "linear_svr_teams_total_points"
   ]
  },
  {
   "cell_type": "markdown",
   "metadata": {
    "heading_collapsed": true,
    "hidden": true
   },
   "source": [
    "### Decision tree (lush)"
   ]
  },
  {
   "cell_type": "code",
   "execution_count": null,
   "metadata": {
    "ExecuteTime": {
     "end_time": "2019-07-21T13:27:22.769966Z",
     "start_time": "2019-07-21T13:27:16.728930Z"
    },
    "hidden": true
   },
   "outputs": [],
   "source": [
    "lush_tree_teams_total_points_arr = []\n",
    "\n",
    "for i in range(0, len(lush_tree_df_test_arr)):\n",
    "    (\n",
    "        lush_tree_first_team_arr,\n",
    "        lush_tree_bench_arr,\n",
    "        lush_tree_total_points_arr,\n",
    "        lush_tree_predicted_total_points_arr,\n",
    "        lush_tree_team_df_arr,\n",
    "        lush_tree_transfers_arr\n",
    "    ) = \\\n",
    "    construct_event_teams_from_existing(lush_tree_df_test_arr[i], total_budget=1050, verbose=0)\n",
    "    \n",
    "    lush_tree_teams_total_points = sum(lush_tree_total_points_arr)\n",
    "    lush_tree_teams_total_points_arr.append(lush_tree_teams_total_points)\n",
    "\n",
    "lush_tree_teams_total_points_mean = np.mean(lush_tree_teams_total_points_arr) \n",
    "lush_tree_teams_total_points_std = np.std(lush_tree_teams_total_points_arr)\n",
    "    \n",
    "print(lush_tree_teams_total_points_mean)\n",
    "print(lush_tree_teams_total_points_std)"
   ]
  },
  {
   "cell_type": "markdown",
   "metadata": {
    "heading_collapsed": true,
    "hidden": true
   },
   "source": [
    "### Decision tree (stark)"
   ]
  },
  {
   "cell_type": "code",
   "execution_count": null,
   "metadata": {
    "ExecuteTime": {
     "end_time": "2019-07-21T13:27:28.298971Z",
     "start_time": "2019-07-21T13:27:22.773468Z"
    },
    "hidden": true
   },
   "outputs": [],
   "source": [
    "stark_tree_teams_total_points_arr = []\n",
    "\n",
    "for i in range(0, len(stark_tree_df_test_arr)):\n",
    "    (\n",
    "        stark_tree_first_team_arr,\n",
    "        stark_tree_bench_arr,\n",
    "        stark_tree_total_points_arr,\n",
    "        stark_tree_predicted_total_points_arr,\n",
    "        stark_tree_team_df_arr,\n",
    "        stark_tree_transfers_arr\n",
    "    ) = \\\n",
    "    construct_event_teams_from_existing(stark_tree_df_test_arr[i], total_budget=1050, verbose=0)\n",
    "    \n",
    "    stark_tree_teams_total_points = sum(stark_tree_total_points_arr)\n",
    "    stark_tree_teams_total_points_arr.append(stark_tree_teams_total_points)\n",
    "\n",
    "stark_tree_teams_total_points_mean = np.mean(stark_tree_teams_total_points_arr) \n",
    "stark_tree_teams_total_points_std = np.std(stark_tree_teams_total_points_arr)\n",
    "    \n",
    "print(stark_tree_teams_total_points_mean)\n",
    "print(stark_tree_teams_total_points_std)"
   ]
  },
  {
   "cell_type": "markdown",
   "metadata": {
    "heading_collapsed": true,
    "hidden": true
   },
   "source": [
    "### Random forest (lush)"
   ]
  },
  {
   "cell_type": "code",
   "execution_count": null,
   "metadata": {
    "ExecuteTime": {
     "end_time": "2019-07-20T15:53:14.195006Z",
     "start_time": "2019-07-20T15:53:09.754241Z"
    },
    "hidden": true
   },
   "outputs": [],
   "source": [
    "lush_forest_teams_total_points_arr = []\n",
    "\n",
    "for i in range(0, len(lush_forest_df_test_arr)):\n",
    "    (\n",
    "        lush_forest_first_team_arr,\n",
    "        lush_forest_bench_arr,\n",
    "        lush_forest_total_points_arr,\n",
    "        lush_forest_predicted_total_points_arr,\n",
    "        lush_forest_team_df_arr,\n",
    "        lush_forest_transfers_arr\n",
    "    ) = \\\n",
    "    construct_event_teams_from_existing(lush_forest_df_test_arr[i], total_budget=1050, verbose=0)\n",
    "    \n",
    "    lush_forest_teams_total_points = sum(lush_forest_total_points_arr)\n",
    "    lush_forest_teams_total_points_arr.append(lush_forest_teams_total_points)\n",
    "\n",
    "lush_forest_teams_total_points_mean = np.mean(lush_forest_teams_total_points_arr) \n",
    "lush_forest_teams_total_points_std = np.std(lush_forest_teams_total_points_arr)\n",
    "    \n",
    "print(lush_forest_teams_total_points_mean)\n",
    "print(lush_forest_teams_total_points_std)"
   ]
  },
  {
   "cell_type": "markdown",
   "metadata": {
    "heading_collapsed": true,
    "hidden": true
   },
   "source": [
    "### Random forest (stark)"
   ]
  },
  {
   "cell_type": "code",
   "execution_count": null,
   "metadata": {
    "ExecuteTime": {
     "end_time": "2019-07-20T15:53:19.138547Z",
     "start_time": "2019-07-20T15:53:14.197632Z"
    },
    "hidden": true
   },
   "outputs": [],
   "source": [
    "stark_forest_teams_total_points_arr = []\n",
    "\n",
    "for i in range(0, len(stark_forest_df_test_arr)):\n",
    "    (\n",
    "        stark_forest_first_team_arr,\n",
    "        stark_forest_bench_arr,\n",
    "        stark_forest_total_points_arr,\n",
    "        stark_forest_predicted_total_points_arr,\n",
    "        stark_forest_team_df_arr,\n",
    "        stark_forest_transfers_arr\n",
    "    ) = \\\n",
    "    construct_event_teams_from_existing(stark_forest_df_test_arr[i], total_budget=1050, verbose=0)\n",
    "    \n",
    "    stark_forest_teams_total_points = sum(stark_forest_total_points_arr)\n",
    "    stark_forest_teams_total_points_arr.append(stark_forest_teams_total_points)\n",
    "\n",
    "stark_forest_teams_total_points_mean = np.mean(stark_forest_teams_total_points_arr) \n",
    "stark_forest_teams_total_points_std = np.std(stark_forest_teams_total_points_arr)\n",
    "    \n",
    "print(stark_forest_teams_total_points_mean)\n",
    "print(stark_forest_teams_total_points_std)"
   ]
  },
  {
   "cell_type": "markdown",
   "metadata": {
    "heading_collapsed": true,
    "hidden": true
   },
   "source": [
    "### Gradient boosted trees (lush)"
   ]
  },
  {
   "cell_type": "code",
   "execution_count": null,
   "metadata": {
    "ExecuteTime": {
     "end_time": "2019-07-20T15:53:24.207454Z",
     "start_time": "2019-07-20T15:53:19.141584Z"
    },
    "hidden": true
   },
   "outputs": [],
   "source": [
    "lush_boost_teams_total_points_arr = []\n",
    "\n",
    "for i in range(0, len(lush_boost_df_test_arr)):\n",
    "    (\n",
    "        lush_boost_first_team_arr,\n",
    "        lush_boost_bench_arr,\n",
    "        lush_boost_total_points_arr,\n",
    "        lush_boost_predicted_total_points_arr,\n",
    "        lush_boost_team_df_arr,\n",
    "        lush_boost_transfers_arr\n",
    "    ) = \\\n",
    "    construct_event_teams_from_existing(lush_boost_df_test_arr[i], total_budget=1050, verbose=0)\n",
    "    \n",
    "    lush_boost_teams_total_points = sum(lush_boost_total_points_arr)\n",
    "    lush_boost_teams_total_points_arr.append(lush_boost_teams_total_points)\n",
    "\n",
    "lush_boost_teams_total_points_mean = np.mean(lush_boost_teams_total_points_arr) \n",
    "lush_boost_teams_total_points_std = np.std(lush_boost_teams_total_points_arr)\n",
    "    \n",
    "print(lush_boost_teams_total_points_mean)\n",
    "print(lush_boost_teams_total_points_std)"
   ]
  },
  {
   "cell_type": "markdown",
   "metadata": {
    "heading_collapsed": true,
    "hidden": true
   },
   "source": [
    "### Gradient boosted trees (stark)"
   ]
  },
  {
   "cell_type": "code",
   "execution_count": null,
   "metadata": {
    "ExecuteTime": {
     "end_time": "2019-07-20T15:53:28.708993Z",
     "start_time": "2019-07-20T15:53:24.210504Z"
    },
    "hidden": true
   },
   "outputs": [],
   "source": [
    "stark_boost_teams_total_points_arr = []\n",
    "\n",
    "for i in range(0, len(stark_boost_df_test_arr)):\n",
    "    (\n",
    "        stark_boost_first_team_arr,\n",
    "        stark_boost_bench_arr,\n",
    "        stark_boost_total_points_arr,\n",
    "        stark_boost_predicted_total_points_arr,\n",
    "        stark_boost_team_df_arr,\n",
    "        stark_boost_transfers_arr\n",
    "    ) = \\\n",
    "    construct_event_teams_from_existing(stark_boost_df_test_arr[i], total_budget=1050, verbose=0)\n",
    "    \n",
    "    stark_boost_teams_total_points = sum(stark_boost_total_points_arr)\n",
    "    stark_boost_teams_total_points_arr.append(stark_boost_teams_total_points)\n",
    "\n",
    "stark_boost_teams_total_points_mean = np.mean(stark_boost_teams_total_points_arr) \n",
    "stark_boost_teams_total_points_std = np.std(stark_boost_teams_total_points_arr)\n",
    "    \n",
    "print(stark_boost_teams_total_points_mean)\n",
    "print(stark_boost_teams_total_points_std)"
   ]
  },
  {
   "cell_type": "markdown",
   "metadata": {
    "heading_collapsed": true,
    "hidden": true
   },
   "source": [
    "### Random benchmark"
   ]
  },
  {
   "cell_type": "code",
   "execution_count": null,
   "metadata": {
    "ExecuteTime": {
     "end_time": "2019-07-20T15:53:53.824454Z",
     "start_time": "2019-07-20T15:53:53.817616Z"
    },
    "hidden": true
   },
   "outputs": [],
   "source": [
    "random_benchmark_df_test = stark_boost_df_test.copy()"
   ]
  },
  {
   "cell_type": "code",
   "execution_count": null,
   "metadata": {
    "ExecuteTime": {
     "end_time": "2019-07-20T15:53:54.100665Z",
     "start_time": "2019-07-20T15:53:54.093691Z"
    },
    "hidden": true
   },
   "outputs": [],
   "source": [
    "random_benchmark_df_test['predicted_total_points'] = \\\n",
    "np.random.random(len(stark_boost_df_test['predicted_total_points'])) * 7"
   ]
  },
  {
   "cell_type": "code",
   "execution_count": null,
   "metadata": {
    "ExecuteTime": {
     "end_time": "2019-07-20T15:54:45.741789Z",
     "start_time": "2019-07-20T15:53:54.486955Z"
    },
    "hidden": true
   },
   "outputs": [],
   "source": [
    "random_benchmark_teams_total_points_arr = []\n",
    "\n",
    "for i in range(0, 11):\n",
    "    (\n",
    "        random_benchmark_first_team_arr,\n",
    "        random_benchmark_bench_arr,\n",
    "        random_benchmark_total_points_arr,\n",
    "        random_benchmark_predicted_total_points_arr,\n",
    "        random_benchmark_team_df_arr,\n",
    "        random_benchmark_transfers_arr\n",
    "    ) = \\\n",
    "    construct_event_teams_from_existing(random_benchmark_df_test, total_budget=1050, verbose=0)\n",
    "    \n",
    "    random_benchmark_teams_total_points = sum(random_benchmark_total_points_arr)\n",
    "    random_benchmark_teams_total_points_arr.append(random_benchmark_teams_total_points)\n",
    "\n",
    "random_benchmark_teams_total_points_mean = np.mean(random_benchmark_teams_total_points_arr) \n",
    "random_benchmark_teams_total_points_std = np.std(random_benchmark_teams_total_points_arr)\n",
    "    \n",
    "print(random_benchmark_teams_total_points_mean)\n",
    "print(random_benchmark_teams_total_points_std)"
   ]
  },
  {
   "cell_type": "markdown",
   "metadata": {
    "heading_collapsed": true
   },
   "source": [
    "## Summary"
   ]
  },
  {
   "cell_type": "code",
   "execution_count": null,
   "metadata": {
    "ExecuteTime": {
     "end_time": "2019-07-22T10:54:59.647751Z",
     "start_time": "2019-07-22T10:54:59.612078Z"
    },
    "hidden": true
   },
   "outputs": [],
   "source": [
    "pd.DataFrame([\n",
    "    ('Linear regression', lr_test_loss[0], lr_test_loss[1], lr_test_loss[2]),\n",
    "    ('Ridge regression (lush)', lush_ridge_test_loss[0], lush_ridge_test_loss[1], lush_ridge_test_loss[2]),\n",
    "    ('Ridge regression (stark)', stark_ridge_test_loss[0], stark_ridge_test_loss[1], stark_ridge_test_loss[2]),\n",
    "    ('Lasso regression', lasso_test_loss[0], lasso_test_loss[1], lasso_test_loss[2]),\n",
    "    ('Radius basis SVM regression', rbf_svr_test_loss[0], rbf_svr_test_loss[1], rbf_svr_test_loss[2]),\n",
    "    ('Linear basis SVM regression', linear_svr_test_loss[0], linear_svr_test_loss[1], linear_svr_test_loss[2]),\n",
    "    ('Decision tree (lush)', lush_tree_test_loss_mean[0], lush_tree_test_loss_mean[1], lush_tree_test_loss_mean[2]),\n",
    "    ('Decision tree (stark)', stark_tree_test_loss_mean[0], stark_tree_test_loss_mean[1], stark_tree_test_loss_mean[2]),\n",
    "#     ('Random forest (lush)', lush_forest_test_loss_mean[0], lush_forest_test_loss_mean[1], lush_forest_test_loss_mean[2]),\n",
    "#     ('Random forest (stark)', stark_forest_test_loss_mean[0], stark_forest_test_loss_mean[1], stark_forest_test_loss_mean[2]),\n",
    "#     ('Gradient boosted trees (lush)', lush_boost_test_loss_mean[0], lush_boost_test_loss_mean[1], lush_boost_test_loss_mean[2]),\n",
    "#     ('Gradient boosted trees (stark)', stark_boost_test_loss_mean[0], stark_boost_test_loss_mean[1], stark_boost_test_loss_mean[2]),\n",
    "], columns=['model', 'MAE', 'MSE', 'r2'])"
   ]
  },
  {
   "cell_type": "code",
   "execution_count": null,
   "metadata": {
    "ExecuteTime": {
     "end_time": "2019-07-21T13:27:28.327332Z",
     "start_time": "2019-07-21T13:27:28.304798Z"
    },
    "hidden": true
   },
   "outputs": [],
   "source": [
    "pd.DataFrame([\n",
    "    ('Random benchmark', random_benchmark_teams_total_points),\n",
    "    ('Linear regression', lr_teams_total_points),\n",
    "    ('Ridge regression (lush)', lush_ridge_teams_total_points),\n",
    "    ('Ridge regression (stark)', stark_ridge_teams_total_points),\n",
    "    ('Lasso regression', lasso_teams_total_points),\n",
    "    ('Radius basis SVM regression', linear_svr_teams_total_points),\n",
    "    ('Linear basis SVM regression', rbf_svr_teams_total_points),\n",
    "    ('Decision tree (lush)', lush_tree_teams_total_points_mean),\n",
    "    ('Decision tree (stark)', stark_tree_teams_total_points_mean),\n",
    "#     ('Random forest (lush)', lush_forest_teams_total_points_mean),\n",
    "#     ('Random forest (stark)', stark_forest_teams_total_points_mean),\n",
    "#     ('Gradient boosted trees (lush)', lush_boost_teams_total_points_mean),\n",
    "#     ('Gradient boosted trees (stark)', stark_boost_teams_total_points_mean),\n",
    "], columns=['model', 'teams total points']).round(1)"
   ]
  }
 ],
 "metadata": {
  "kernelspec": {
   "display_name": "Python 3",
   "language": "python",
   "name": "python3"
  },
  "language_info": {
   "codemirror_mode": {
    "name": "ipython",
    "version": 3
   },
   "file_extension": ".py",
   "mimetype": "text/x-python",
   "name": "python",
   "nbconvert_exporter": "python",
   "pygments_lexer": "ipython3",
   "version": "3.6.7"
  },
  "toc": {
   "nav_menu": {},
   "number_sections": true,
   "sideBar": true,
   "skip_h1_title": false,
   "title_cell": "Table of Contents",
   "title_sidebar": "Contents",
   "toc_cell": false,
   "toc_position": {},
   "toc_section_display": true,
   "toc_window_display": false
  }
 },
 "nbformat": 4,
 "nbformat_minor": 2
}
