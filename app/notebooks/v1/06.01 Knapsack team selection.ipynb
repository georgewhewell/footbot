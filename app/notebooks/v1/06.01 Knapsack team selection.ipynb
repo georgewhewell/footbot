{
 "cells": [
  {
   "cell_type": "markdown",
   "metadata": {},
   "source": [
    "# Set up"
   ]
  },
  {
   "cell_type": "code",
   "execution_count": 1,
   "metadata": {
    "ExecuteTime": {
     "end_time": "2019-07-13T17:05:14.533926Z",
     "start_time": "2019-07-13T17:05:14.528872Z"
    }
   },
   "outputs": [],
   "source": [
    "# update path with data dir\n",
    "import sys\n",
    "sys.path.append('../data/')"
   ]
  },
  {
   "cell_type": "code",
   "execution_count": 2,
   "metadata": {
    "ExecuteTime": {
     "end_time": "2019-07-13T17:05:16.422803Z",
     "start_time": "2019-07-13T17:05:15.707577Z"
    }
   },
   "outputs": [],
   "source": [
    "import pandas as pd\n",
    "import knapsack\n",
    "import cvxpy as cp\n",
    "import numpy as np\n",
    "import requests"
   ]
  },
  {
   "cell_type": "markdown",
   "metadata": {
    "heading_collapsed": true
   },
   "source": [
    "# Toy 0-1 one-dimensional knapsack example"
   ]
  },
  {
   "cell_type": "code",
   "execution_count": null,
   "metadata": {
    "ExecuteTime": {
     "end_time": "2019-07-08T17:59:24.429996Z",
     "start_time": "2019-07-08T17:59:24.421611Z"
    },
    "hidden": true
   },
   "outputs": [],
   "source": [
    "o_values = np.array([22, 12, 16, 10, 35, 26, 42, 53])\n",
    "o_weights = np.array([21, 11, 15, 9, 34, 25, 41, 52])\n",
    "o_capacity = 100"
   ]
  },
  {
   "cell_type": "markdown",
   "metadata": {
    "heading_collapsed": true,
    "hidden": true
   },
   "source": [
    "## `knapsack`"
   ]
  },
  {
   "cell_type": "code",
   "execution_count": null,
   "metadata": {
    "ExecuteTime": {
     "end_time": "2019-07-08T09:54:45.470948Z",
     "start_time": "2019-07-08T09:54:45.442962Z"
    },
    "hidden": true
   },
   "outputs": [],
   "source": [
    "# Maximize sum of selected value. Sum of selected weight is less than capacity\n",
    "\n",
    "total_value, items_idx = knapsack.knapsack(o_weights, o_values).solve(o_capacity)\n",
    "items = [o_values[i] for i in items_idx]\n",
    "\n",
    "print(sum(items))\n",
    "print(items)"
   ]
  },
  {
   "cell_type": "markdown",
   "metadata": {
    "ExecuteTime": {
     "end_time": "2019-07-05T13:48:06.736238Z",
     "start_time": "2019-07-05T13:48:06.728240Z"
    },
    "heading_collapsed": true,
    "hidden": true
   },
   "source": [
    "## `cvxpy`"
   ]
  },
  {
   "cell_type": "code",
   "execution_count": null,
   "metadata": {
    "ExecuteTime": {
     "end_time": "2019-07-08T17:59:27.549494Z",
     "start_time": "2019-07-08T17:59:27.542961Z"
    },
    "hidden": true
   },
   "outputs": [],
   "source": [
    "o_x = cp.Variable(8, boolean=True)"
   ]
  },
  {
   "cell_type": "code",
   "execution_count": null,
   "metadata": {
    "ExecuteTime": {
     "end_time": "2019-07-08T17:59:27.924122Z",
     "start_time": "2019-07-08T17:59:27.917030Z"
    },
    "hidden": true
   },
   "outputs": [],
   "source": [
    "o_prob = cp.Problem(\n",
    "    cp.Maximize(o_values@o_x),\n",
    "    [o_weights@o_x <= o_capacity]\n",
    ")"
   ]
  },
  {
   "cell_type": "code",
   "execution_count": null,
   "metadata": {
    "ExecuteTime": {
     "end_time": "2019-07-08T17:59:28.326959Z",
     "start_time": "2019-07-08T17:59:28.306653Z"
    },
    "hidden": true
   },
   "outputs": [],
   "source": [
    "o_prob.solve()"
   ]
  },
  {
   "cell_type": "code",
   "execution_count": null,
   "metadata": {
    "ExecuteTime": {
     "end_time": "2019-07-08T17:59:28.734006Z",
     "start_time": "2019-07-08T17:59:28.725141Z"
    },
    "hidden": true
   },
   "outputs": [],
   "source": [
    "o_selection = [int(round(j)) for j in o_x.value]\n",
    "o_selection"
   ]
  },
  {
   "cell_type": "markdown",
   "metadata": {
    "heading_collapsed": true
   },
   "source": [
    "# Toy 0-1 multidimensional knapsack example"
   ]
  },
  {
   "cell_type": "code",
   "execution_count": null,
   "metadata": {
    "ExecuteTime": {
     "end_time": "2019-07-08T18:00:13.500037Z",
     "start_time": "2019-07-08T18:00:13.490431Z"
    },
    "hidden": true
   },
   "outputs": [],
   "source": [
    "m_values = np.array([22, 12, 16, 10, 35, 26, 42, 53])\n",
    "m_weights = np.array([\n",
    "    [21, 11, 15, 9, 34, 25, 41, 52],\n",
    "    [28, 8, 25, 3, 34, 25, 35, 60]\n",
    "])\n",
    "m_capacity = np.array([100, 125])\n",
    "m_num = 3"
   ]
  },
  {
   "cell_type": "code",
   "execution_count": null,
   "metadata": {
    "ExecuteTime": {
     "end_time": "2019-07-08T18:00:13.772090Z",
     "start_time": "2019-07-08T18:00:13.766551Z"
    },
    "hidden": true
   },
   "outputs": [],
   "source": [
    "m_x = cp.Variable(8, boolean=True)"
   ]
  },
  {
   "cell_type": "code",
   "execution_count": null,
   "metadata": {
    "ExecuteTime": {
     "end_time": "2019-07-08T18:00:14.059571Z",
     "start_time": "2019-07-08T18:00:14.052496Z"
    },
    "hidden": true
   },
   "outputs": [],
   "source": [
    "m_prob = cp.Problem(\n",
    "    cp.Maximize(m_values@m_x),\n",
    "    [\n",
    "        m_weights@m_x <= m_capacity,\n",
    "        np.ones(8)@m_x == m_num\n",
    "    ]\n",
    ")"
   ]
  },
  {
   "cell_type": "code",
   "execution_count": null,
   "metadata": {
    "ExecuteTime": {
     "end_time": "2019-07-08T18:00:14.350092Z",
     "start_time": "2019-07-08T18:00:14.325951Z"
    },
    "hidden": true
   },
   "outputs": [],
   "source": [
    "m_prob.solve()"
   ]
  },
  {
   "cell_type": "code",
   "execution_count": null,
   "metadata": {
    "ExecuteTime": {
     "end_time": "2019-07-08T18:00:15.117055Z",
     "start_time": "2019-07-08T18:00:15.108232Z"
    },
    "hidden": true
   },
   "outputs": [],
   "source": [
    "m_selection = [int(round(j)) for j in m_x.value]\n",
    "m_selection"
   ]
  },
  {
   "cell_type": "markdown",
   "metadata": {},
   "source": [
    "# Toy team optimisation"
   ]
  },
  {
   "cell_type": "code",
   "execution_count": 274,
   "metadata": {
    "ExecuteTime": {
     "end_time": "2019-08-26T08:08:44.655589Z",
     "start_time": "2019-08-26T08:08:44.650003Z"
    }
   },
   "outputs": [],
   "source": [
    "# bootstrap_static_d_last_season = bootstrap_static_d"
   ]
  },
  {
   "cell_type": "code",
   "execution_count": 310,
   "metadata": {
    "ExecuteTime": {
     "end_time": "2019-09-03T08:21:14.408337Z",
     "start_time": "2019-09-03T08:21:14.292466Z"
    }
   },
   "outputs": [],
   "source": [
    "bootstrap_static_request = requests.get('https://fantasy.premierleague.com/api/bootstrap-static/')\n",
    "bootstrap_static_d = bootstrap_static_request.json()"
   ]
  },
  {
   "cell_type": "code",
   "execution_count": 311,
   "metadata": {
    "ExecuteTime": {
     "end_time": "2019-09-03T08:21:15.372878Z",
     "start_time": "2019-09-03T08:21:15.364128Z"
    }
   },
   "outputs": [],
   "source": [
    "black_list_players = [\n",
    "#     'David Luiz',\n",
    "#     'Pogba',\n",
    "#     'Alonso',\n",
    "#     'Alexander-Arnold',\n",
    "#     'Azpilicueta',\n",
    "#     'Kanté',\n",
    "]\n",
    "players = [i for i in bootstrap_static_d['elements'] if i['web_name'] not in black_list_players]"
   ]
  },
  {
   "cell_type": "code",
   "execution_count": null,
   "metadata": {},
   "outputs": [],
   "source": []
  },
  {
   "cell_type": "code",
   "execution_count": 312,
   "metadata": {
    "ExecuteTime": {
     "end_time": "2019-09-03T08:21:16.014602Z",
     "start_time": "2019-09-03T08:21:16.001802Z"
    }
   },
   "outputs": [],
   "source": [
    "player_names = np.array([i['web_name'] for i in players])\n",
    "player_points = np.array([i['total_points'] for i in players])/38\n",
    "player_costs = np.array([[i['now_cost'] for i in players]])\n",
    "player_position = np.array([i['element_type'] for i in players])\n",
    "player_team = np.array([i['team'] for i in players])"
   ]
  },
  {
   "cell_type": "code",
   "execution_count": 313,
   "metadata": {
    "ExecuteTime": {
     "end_time": "2019-09-03T08:21:16.662820Z",
     "start_time": "2019-09-03T08:21:16.650388Z"
    }
   },
   "outputs": [],
   "source": [
    "player_position_weights = np.zeros((4, len(players)))\n",
    "for i in range(0, 4):\n",
    "    for j in range(0, len(players)):\n",
    "        if player_position[j] == i+1:\n",
    "            player_position_weights[i, j] = 1\n",
    "        else:\n",
    "            player_position_weights[i, j] = 0"
   ]
  },
  {
   "cell_type": "code",
   "execution_count": 314,
   "metadata": {
    "ExecuteTime": {
     "end_time": "2019-09-03T08:21:17.364318Z",
     "start_time": "2019-09-03T08:21:17.339514Z"
    }
   },
   "outputs": [],
   "source": [
    "player_team_weights = np.zeros((20, len(players)))\n",
    "for i in range(0, 20):\n",
    "    for j in range(0, len(players)):\n",
    "        if player_team[j] == i+1:\n",
    "            player_team_weights[i, j] = 1\n",
    "        else:\n",
    "            player_team_weights[i, j] = 0"
   ]
  },
  {
   "cell_type": "code",
   "execution_count": 367,
   "metadata": {
    "ExecuteTime": {
     "end_time": "2019-09-03T08:31:38.497854Z",
     "start_time": "2019-09-03T08:31:38.491920Z"
    }
   },
   "outputs": [],
   "source": [
    "player_position_capacity = [1, 3, 4, 3]\n",
    "bench_position_capacity = [1, 2, 1, 0]"
   ]
  },
  {
   "cell_type": "code",
   "execution_count": 368,
   "metadata": {
    "ExecuteTime": {
     "end_time": "2019-09-03T08:31:38.885925Z",
     "start_time": "2019-09-03T08:31:38.865683Z"
    }
   },
   "outputs": [],
   "source": [
    "min_cost_keeper = np.min([i['now_cost'] for i in players if i['element_type'] == 1])\n",
    "min_cost_defender = np.min([i['now_cost'] for i in players if i['element_type'] == 2])\n",
    "min_cost_midfielder = np.min([i['now_cost'] for i in players if i['element_type'] == 3])\n",
    "min_cost_striker = np.min([i['now_cost'] for i in players if i['element_type'] == 4])\n",
    "min_cost_bench = \\\n",
    "bench_position_capacity@np.array([min_cost_keeper, min_cost_defender, min_cost_midfielder, min_cost_striker])"
   ]
  },
  {
   "cell_type": "code",
   "execution_count": 369,
   "metadata": {
    "ExecuteTime": {
     "end_time": "2019-09-03T08:31:39.195505Z",
     "start_time": "2019-09-03T08:31:39.189806Z"
    }
   },
   "outputs": [],
   "source": [
    "player_cost_capacity = [997 - min_cost_bench]\n",
    "player_team_capacity = [3]*20"
   ]
  },
  {
   "cell_type": "code",
   "execution_count": 370,
   "metadata": {
    "ExecuteTime": {
     "end_time": "2019-09-03T08:31:39.535925Z",
     "start_time": "2019-09-03T08:31:39.528181Z"
    }
   },
   "outputs": [],
   "source": [
    "player_weights = np.concatenate((\n",
    "    player_costs,\n",
    "    player_position_weights,\n",
    "    player_team_weights\n",
    "), axis=0)\n",
    "player_capacity = np.array(\n",
    "    player_cost_capacity\n",
    "    + player_position_capacity\n",
    "    + player_team_capacity\n",
    ")\n",
    "\n",
    "player_num = 11"
   ]
  },
  {
   "cell_type": "code",
   "execution_count": 371,
   "metadata": {
    "ExecuteTime": {
     "end_time": "2019-09-03T08:31:40.245614Z",
     "start_time": "2019-09-03T08:31:40.240339Z"
    }
   },
   "outputs": [],
   "source": [
    "bench_num = 4"
   ]
  },
  {
   "cell_type": "markdown",
   "metadata": {},
   "source": [
    "## From scratch"
   ]
  },
  {
   "cell_type": "markdown",
   "metadata": {},
   "source": [
    "### Normal"
   ]
  },
  {
   "cell_type": "code",
   "execution_count": 372,
   "metadata": {
    "ExecuteTime": {
     "end_time": "2019-09-03T08:31:41.757839Z",
     "start_time": "2019-09-03T08:31:41.751001Z"
    }
   },
   "outputs": [],
   "source": [
    "fs_player_x = cp.Variable(len(players), boolean=True)"
   ]
  },
  {
   "cell_type": "code",
   "execution_count": 373,
   "metadata": {
    "ExecuteTime": {
     "end_time": "2019-09-03T08:31:42.534428Z",
     "start_time": "2019-09-03T08:31:42.525479Z"
    }
   },
   "outputs": [],
   "source": [
    "fs_player_prob = cp.Problem(\n",
    "    cp.Maximize(player_points@fs_player_x),\n",
    "    [\n",
    "        player_weights@fs_player_x <= player_capacity,\n",
    "        np.ones(len(players))@fs_player_x == player_num\n",
    "    ]\n",
    ")"
   ]
  },
  {
   "cell_type": "code",
   "execution_count": 337,
   "metadata": {
    "ExecuteTime": {
     "end_time": "2019-09-03T08:22:07.375724Z",
     "start_time": "2019-09-03T08:22:07.219562Z"
    }
   },
   "outputs": [
    {
     "data": {
      "text/plain": [
       "7.868421052631764"
      ]
     },
     "execution_count": 337,
     "metadata": {},
     "output_type": "execute_result"
    }
   ],
   "source": [
    "# 1, 5, 4, 1\n",
    "fs_player_prob.solve()"
   ]
  },
  {
   "cell_type": "code",
   "execution_count": 355,
   "metadata": {
    "ExecuteTime": {
     "end_time": "2019-09-03T08:30:49.515086Z",
     "start_time": "2019-09-03T08:30:49.442494Z"
    }
   },
   "outputs": [
    {
     "data": {
      "text/plain": [
       "7.947368421052791"
      ]
     },
     "execution_count": 355,
     "metadata": {},
     "output_type": "execute_result"
    }
   ],
   "source": [
    "# 1, 4, 5, 1\n",
    "fs_player_prob.solve()"
   ]
  },
  {
   "cell_type": "code",
   "execution_count": 366,
   "metadata": {
    "ExecuteTime": {
     "end_time": "2019-09-03T08:31:23.842497Z",
     "start_time": "2019-09-03T08:31:23.722094Z"
    }
   },
   "outputs": [
    {
     "data": {
      "text/plain": [
       "8.131578947022035"
      ]
     },
     "execution_count": 366,
     "metadata": {},
     "output_type": "execute_result"
    }
   ],
   "source": [
    "# 1, 4, 4, 2\n",
    "fs_player_prob.solve()"
   ]
  },
  {
   "cell_type": "code",
   "execution_count": 374,
   "metadata": {
    "ExecuteTime": {
     "end_time": "2019-09-03T08:31:50.922487Z",
     "start_time": "2019-09-03T08:31:50.608677Z"
    }
   },
   "outputs": [
    {
     "data": {
      "text/plain": [
       "8.18421052631651"
      ]
     },
     "execution_count": 374,
     "metadata": {},
     "output_type": "execute_result"
    }
   ],
   "source": [
    "# 1, 3, 4, 3\n",
    "fs_player_prob.solve()"
   ]
  },
  {
   "cell_type": "code",
   "execution_count": 356,
   "metadata": {
    "ExecuteTime": {
     "end_time": "2019-09-03T08:30:50.361079Z",
     "start_time": "2019-09-03T08:30:50.353629Z"
    }
   },
   "outputs": [
    {
     "data": {
      "text/plain": [
       "'optimal'"
      ]
     },
     "execution_count": 356,
     "metadata": {},
     "output_type": "execute_result"
    }
   ],
   "source": [
    "fs_player_prob.status"
   ]
  },
  {
   "cell_type": "code",
   "execution_count": 375,
   "metadata": {
    "ExecuteTime": {
     "end_time": "2019-09-03T08:32:01.986921Z",
     "start_time": "2019-09-03T08:32:01.971295Z"
    }
   },
   "outputs": [
    {
     "data": {
      "text/plain": [
       "['Barnes',\n",
       " 'Abraham',\n",
       " 'van Aanholt',\n",
       " 'Digne',\n",
       " 'Salah',\n",
       " 'Sterling',\n",
       " 'De Bruyne',\n",
       " 'Pukki',\n",
       " 'Cantwell',\n",
       " 'Vestergaard',\n",
       " 'Patrício']"
      ]
     },
     "execution_count": 375,
     "metadata": {},
     "output_type": "execute_result"
    }
   ],
   "source": [
    "fs_player_selection = [int(round(j)) for j in fs_player_x.value]\n",
    "[i for i, j in zip(player_names, fs_player_selection) if j == 1]"
   ]
  },
  {
   "cell_type": "code",
   "execution_count": 340,
   "metadata": {
    "ExecuteTime": {
     "end_time": "2019-09-03T08:22:12.362584Z",
     "start_time": "2019-09-03T08:22:12.356871Z"
    }
   },
   "outputs": [],
   "source": [
    "fs_bench_team_capacity = player_team_capacity - player_team_weights@fs_player_selection"
   ]
  },
  {
   "cell_type": "code",
   "execution_count": 341,
   "metadata": {
    "ExecuteTime": {
     "end_time": "2019-09-03T08:22:12.819452Z",
     "start_time": "2019-09-03T08:22:12.813535Z"
    }
   },
   "outputs": [],
   "source": [
    "fs_bench_capacity = np.array(\n",
    "    [min_cost_bench]\n",
    "    + bench_position_capacity\n",
    "    + list(fs_bench_team_capacity)\n",
    ")"
   ]
  },
  {
   "cell_type": "code",
   "execution_count": 342,
   "metadata": {
    "ExecuteTime": {
     "end_time": "2019-09-03T08:22:13.300558Z",
     "start_time": "2019-09-03T08:22:13.293822Z"
    }
   },
   "outputs": [],
   "source": [
    "fs_bench_x = cp.Variable(len(players), boolean=True)"
   ]
  },
  {
   "cell_type": "code",
   "execution_count": 343,
   "metadata": {
    "ExecuteTime": {
     "end_time": "2019-09-03T08:22:13.612147Z",
     "start_time": "2019-09-03T08:22:13.606892Z"
    }
   },
   "outputs": [],
   "source": [
    "fs_bench_prob = cp.Problem(\n",
    "    cp.Maximize(player_points@fs_bench_x),\n",
    "    [\n",
    "        player_weights@fs_bench_x <= fs_bench_capacity,\n",
    "        np.ones(len(players))@fs_bench_x == bench_num\n",
    "    ]\n",
    ")"
   ]
  },
  {
   "cell_type": "code",
   "execution_count": 344,
   "metadata": {
    "ExecuteTime": {
     "end_time": "2019-09-03T08:22:13.976657Z",
     "start_time": "2019-09-03T08:22:13.932775Z"
    }
   },
   "outputs": [
    {
     "data": {
      "text/plain": [
       "0.0263157894742622"
      ]
     },
     "execution_count": 344,
     "metadata": {},
     "output_type": "execute_result"
    }
   ],
   "source": [
    "fs_bench_prob.solve()"
   ]
  },
  {
   "cell_type": "code",
   "execution_count": 345,
   "metadata": {
    "ExecuteTime": {
     "end_time": "2019-09-03T08:22:14.580482Z",
     "start_time": "2019-09-03T08:22:14.567975Z"
    }
   },
   "outputs": [
    {
     "data": {
      "text/plain": [
       "['Nketiah', 'Lansbury', 'Surridge', 'Woodman']"
      ]
     },
     "execution_count": 345,
     "metadata": {},
     "output_type": "execute_result"
    }
   ],
   "source": [
    "fs_bench_selection = [int(round(j)) for j in fs_bench_x.value]\n",
    "[i for i, j in zip(player_names, fs_bench_selection) if j == 1]"
   ]
  },
  {
   "cell_type": "code",
   "execution_count": 346,
   "metadata": {
    "ExecuteTime": {
     "end_time": "2019-09-03T08:22:16.236041Z",
     "start_time": "2019-09-03T08:22:16.226550Z"
    }
   },
   "outputs": [
    {
     "data": {
      "text/plain": [
       "8.0"
      ]
     },
     "execution_count": 346,
     "metadata": {},
     "output_type": "execute_result"
    }
   ],
   "source": [
    "abs(round(1000 - (player_costs@fs_player_x.value)[0] - min_cost_bench))"
   ]
  },
  {
   "cell_type": "markdown",
   "metadata": {
    "heading_collapsed": true
   },
   "source": [
    "### Captain"
   ]
  },
  {
   "cell_type": "code",
   "execution_count": 100,
   "metadata": {
    "ExecuteTime": {
     "end_time": "2019-08-04T08:43:27.665168Z",
     "start_time": "2019-08-04T08:43:27.658588Z"
    },
    "hidden": true
   },
   "outputs": [],
   "source": [
    "cap_player_x = cp.Variable(len(players), integer=True)"
   ]
  },
  {
   "cell_type": "code",
   "execution_count": 103,
   "metadata": {
    "ExecuteTime": {
     "end_time": "2019-08-04T08:44:19.918230Z",
     "start_time": "2019-08-04T08:44:19.909253Z"
    },
    "hidden": true
   },
   "outputs": [],
   "source": [
    "cap_player_prob = cp.Problem(\n",
    "    cp.Maximize(player_points@cap_player_x),\n",
    "    [\n",
    "        player_weights@cap_player_x <= player_capacity,\n",
    "        np.ones(len(players))@cap_player_x == 12,\n",
    "        cap_player_x@(cap_player_x ) == 14\n",
    "    ]\n",
    ")"
   ]
  },
  {
   "cell_type": "code",
   "execution_count": 104,
   "metadata": {
    "ExecuteTime": {
     "end_time": "2019-08-04T08:44:31.149372Z",
     "start_time": "2019-08-04T08:44:20.603256Z"
    },
    "hidden": true
   },
   "outputs": [
    {
     "data": {
      "text/plain": [
       "1918128470.4503849"
      ]
     },
     "execution_count": 104,
     "metadata": {},
     "output_type": "execute_result"
    }
   ],
   "source": [
    "cap_player_prob.solve()"
   ]
  },
  {
   "cell_type": "code",
   "execution_count": 105,
   "metadata": {
    "ExecuteTime": {
     "end_time": "2019-08-04T08:44:31.180009Z",
     "start_time": "2019-08-04T08:44:31.152342Z"
    },
    "hidden": true
   },
   "outputs": [
    {
     "data": {
      "text/plain": [
       "[]"
      ]
     },
     "execution_count": 105,
     "metadata": {},
     "output_type": "execute_result"
    }
   ],
   "source": [
    "cap_player_selection = [int(round(j)) for j in cap_player_x.value]\n",
    "[i for i, j in zip(player_names, cap_player_selection) if j == 1]"
   ]
  },
  {
   "cell_type": "code",
   "execution_count": 99,
   "metadata": {
    "ExecuteTime": {
     "end_time": "2019-08-04T06:59:15.588941Z",
     "start_time": "2019-08-04T06:59:15.569109Z"
    },
    "hidden": true
   },
   "outputs": [
    {
     "data": {
      "text/plain": [
       "['Salah']"
      ]
     },
     "execution_count": 99,
     "metadata": {},
     "output_type": "execute_result"
    }
   ],
   "source": [
    "cap_selection = [int(round(j)) for j in cap_player_y.value]\n",
    "[i for i, j in zip(player_names, cap_selection) if j == 1]"
   ]
  },
  {
   "cell_type": "code",
   "execution_count": 17,
   "metadata": {
    "ExecuteTime": {
     "end_time": "2019-07-13T17:05:30.971535Z",
     "start_time": "2019-07-13T17:05:30.966469Z"
    },
    "hidden": true
   },
   "outputs": [],
   "source": [
    "cap_bench_team_capacity = player_team_capacity - player_team_weights@cap_player_selection"
   ]
  },
  {
   "cell_type": "code",
   "execution_count": 18,
   "metadata": {
    "ExecuteTime": {
     "end_time": "2019-07-13T17:05:31.743689Z",
     "start_time": "2019-07-13T17:05:31.738274Z"
    },
    "hidden": true
   },
   "outputs": [],
   "source": [
    "cap_bench_capacity = np.array(\n",
    "    [min_cost_bench]\n",
    "    + bench_position_capacity\n",
    "    + list(cap_bench_team_capacity)\n",
    ")"
   ]
  },
  {
   "cell_type": "code",
   "execution_count": 19,
   "metadata": {
    "ExecuteTime": {
     "end_time": "2019-07-13T17:05:32.176087Z",
     "start_time": "2019-07-13T17:05:32.169064Z"
    },
    "hidden": true
   },
   "outputs": [],
   "source": [
    "cap_bench_x = cp.Variable(len(players), boolean=True)"
   ]
  },
  {
   "cell_type": "code",
   "execution_count": 20,
   "metadata": {
    "ExecuteTime": {
     "end_time": "2019-07-13T17:05:32.595865Z",
     "start_time": "2019-07-13T17:05:32.587059Z"
    },
    "hidden": true
   },
   "outputs": [],
   "source": [
    "cap_bench_prob = cp.Problem(\n",
    "    cp.Maximize(player_points@cap_bench_x),\n",
    "    [\n",
    "        player_weights@cap_bench_x <= cap_bench_capacity,\n",
    "        np.ones(len(players))@cap_bench_x == bench_num\n",
    "    ]\n",
    ")"
   ]
  },
  {
   "cell_type": "code",
   "execution_count": 21,
   "metadata": {
    "ExecuteTime": {
     "end_time": "2019-07-13T17:05:33.013909Z",
     "start_time": "2019-07-13T17:05:32.989952Z"
    },
    "hidden": true
   },
   "outputs": [
    {
     "data": {
      "text/plain": [
       "1.5789473685256235"
      ]
     },
     "execution_count": 21,
     "metadata": {},
     "output_type": "execute_result"
    }
   ],
   "source": [
    "cap_bench_prob.solve()"
   ]
  },
  {
   "cell_type": "code",
   "execution_count": 22,
   "metadata": {
    "ExecuteTime": {
     "end_time": "2019-07-13T17:05:33.500428Z",
     "start_time": "2019-07-13T17:05:33.490728Z"
    },
    "hidden": true
   },
   "outputs": [
    {
     "data": {
      "text/plain": [
       "['Nketiah', 'Button', 'Kelly', 'Wickham']"
      ]
     },
     "execution_count": 22,
     "metadata": {},
     "output_type": "execute_result"
    }
   ],
   "source": [
    "cap_bench_selection = [int(round(j)) for j in cap_bench_x.value]\n",
    "[i for i, j in zip(player_names, cap_bench_selection) if j == 1]"
   ]
  },
  {
   "cell_type": "code",
   "execution_count": 23,
   "metadata": {
    "ExecuteTime": {
     "end_time": "2019-07-13T17:05:34.048241Z",
     "start_time": "2019-07-13T17:05:34.038649Z"
    },
    "hidden": true
   },
   "outputs": [
    {
     "data": {
      "text/plain": [
       "0.0"
      ]
     },
     "execution_count": 23,
     "metadata": {},
     "output_type": "execute_result"
    }
   ],
   "source": [
    "abs(round(1000 - (player_costs@cap_player_x.value)[0] - min_cost_bench))"
   ]
  },
  {
   "cell_type": "markdown",
   "metadata": {},
   "source": [
    "## Existing team"
   ]
  },
  {
   "cell_type": "code",
   "execution_count": 299,
   "metadata": {
    "ExecuteTime": {
     "end_time": "2019-08-26T08:19:49.529426Z",
     "start_time": "2019-08-26T08:19:49.512560Z"
    }
   },
   "outputs": [],
   "source": [
    "existing_team_indices = [\n",
    "list(player_names).index('Ederson'),\n",
    "list(player_names).index('Robertson'),\n",
    "list(player_names).index('van Dijk'),\n",
    "list(player_names).index('Laporte'),\n",
    "list(player_names).index('Digne'),\n",
    "list(player_names).index('Wan-Bissaka'),\n",
    "list(player_names).index('Salah'),\n",
    "list(player_names).index('Kanté'),\n",
    "list(player_names).index('Milivojevic'),\n",
    "list(player_names).index('Sterling'),\n",
    "list(player_names).index('Jiménez'),\n",
    "]"
   ]
  },
  {
   "cell_type": "code",
   "execution_count": 300,
   "metadata": {
    "ExecuteTime": {
     "end_time": "2019-08-26T08:20:54.177398Z",
     "start_time": "2019-08-26T08:20:54.162948Z"
    }
   },
   "outputs": [
    {
     "data": {
      "text/plain": [
       "array([0, 0, 0, 0, 0, 0, 0, 0, 0, 0, 0, 0, 0, 0, 0, 0, 0, 0, 0, 0, 0, 0,\n",
       "       0, 0, 0, 0, 0, 0, 0, 0, 0, 0, 0, 0, 0, 0, 0, 0, 0, 0, 0, 0, 0, 0,\n",
       "       0, 0, 0, 0, 0, 0, 0, 0, 0, 0, 0, 0, 0, 0, 0, 0, 0, 0, 0, 0, 0, 0,\n",
       "       0, 0, 0, 0, 0, 0, 0, 0, 0, 0, 0, 0, 0, 0, 0, 0, 0, 0, 0, 0, 0, 0,\n",
       "       0, 0, 0, 0, 0, 0, 0, 0, 0, 0, 0, 0, 0, 0, 0, 0, 0, 0, 0, 0, 0, 0,\n",
       "       0, 0, 0, 0, 0, 0, 0, 0, 0, 0, 0, 0, 0, 0, 0, 0, 0, 0, 0, 0, 0, 0,\n",
       "       0, 0, 0, 0, 0, 0, 0, 0, 0, 0, 0, 0, 0, 0, 0, 0, 0, 0, 1, 0, 0, 0,\n",
       "       0, 0, 0, 0, 0, 0, 0, 0, 0, 0, 0, 0, 0, 0, 0, 0, 0, 0, 1, 0, 0, 0,\n",
       "       0, 0, 0, 0, 0, 0, 0, 0, 1, 0, 0, 0, 0, 0, 0, 0, 0, 0, 0, 0, 0, 0,\n",
       "       0, 0, 0, 0, 0, 0, 0, 0, 0, 0, 0, 0, 0, 0, 0, 0, 0, 0, 0, 0, 0, 0,\n",
       "       0, 0, 0, 0, 0, 0, 0, 0, 0, 0, 0, 0, 0, 0, 0, 1, 0, 1, 0, 0, 0, 0,\n",
       "       0, 0, 0, 1, 0, 0, 0, 0, 0, 0, 0, 0, 0, 0, 0, 0, 0, 0, 1, 0, 0, 0,\n",
       "       0, 0, 0, 0, 0, 1, 0, 1, 0, 0, 0, 0, 0, 0, 0, 0, 0, 0, 0, 1, 0, 0,\n",
       "       0, 0, 0, 0, 0, 0, 0, 0, 0, 0, 0, 0, 0, 0, 0, 0, 0, 0, 0, 0, 0, 0,\n",
       "       0, 0, 0, 0, 0, 0, 0, 0, 0, 0, 0, 0, 0, 0, 0, 0, 0, 0, 0, 0, 0, 0,\n",
       "       0, 0, 0, 0, 0, 0, 0, 0, 0, 0, 0, 0, 0, 0, 0, 0, 0, 0, 0, 0, 0, 0,\n",
       "       0, 0, 0, 0, 0, 0, 0, 0, 0, 0, 0, 0, 0, 0, 0, 0, 0, 0, 0, 0, 0, 0,\n",
       "       0, 0, 0, 0, 0, 0, 0, 0, 0, 0, 0, 0, 0, 0, 0, 0, 0, 0, 0, 0, 0, 0,\n",
       "       0, 0, 0, 0, 0, 0, 0, 0, 0, 0, 0, 0, 0, 0, 0, 0, 0, 0, 0, 0, 0, 0,\n",
       "       0, 0, 0, 0, 0, 0, 0, 0, 0, 0, 0, 0, 0, 0, 0, 0, 0, 0, 0, 0, 0, 0,\n",
       "       0, 0, 0, 0, 0, 0, 0, 0, 0, 0, 0, 0, 0, 0, 0, 0, 0, 0, 0, 0, 0, 0,\n",
       "       0, 0, 0, 0, 0, 0, 0, 0, 0, 0, 0, 0, 0, 0, 0, 0, 0, 0, 0, 0, 0, 0,\n",
       "       0, 0, 0, 0, 0, 0, 0, 0, 0, 0, 0, 0, 0, 0, 0, 0, 0, 0, 0, 0, 0, 0,\n",
       "       0, 0, 0, 0, 0, 0, 0, 0, 1, 0, 0, 0, 0, 0, 0, 0, 0, 0, 0, 0, 0, 0,\n",
       "       0])"
      ]
     },
     "execution_count": 300,
     "metadata": {},
     "output_type": "execute_result"
    }
   ],
   "source": [
    "et_x_0 = np.array([1 if i in existing_team_indices else 0 for i in range(0, len(player_names))])\n",
    "et_x_0\n"
   ]
  },
  {
   "cell_type": "code",
   "execution_count": 301,
   "metadata": {
    "ExecuteTime": {
     "end_time": "2019-08-26T08:21:08.447823Z",
     "start_time": "2019-08-26T08:21:08.434026Z"
    }
   },
   "outputs": [
    {
     "data": {
      "text/plain": [
       "['Kanté',\n",
       " 'Milivojevic',\n",
       " 'Digne',\n",
       " 'Robertson',\n",
       " 'van Dijk',\n",
       " 'Salah',\n",
       " 'Laporte',\n",
       " 'Ederson',\n",
       " 'Sterling',\n",
       " 'Wan-Bissaka',\n",
       " 'Jiménez']"
      ]
     },
     "execution_count": 301,
     "metadata": {},
     "output_type": "execute_result"
    }
   ],
   "source": [
    "et_selection_0 = [int(round(j)) for j in et_x_0]\n",
    "et_player_selection_0_names = [i for i, j in zip(player_names, et_selection_0) if j == 1]\n",
    "et_player_selection_0_names"
   ]
  },
  {
   "cell_type": "code",
   "execution_count": 302,
   "metadata": {
    "ExecuteTime": {
     "end_time": "2019-08-26T08:21:12.676787Z",
     "start_time": "2019-08-26T08:21:12.670289Z"
    }
   },
   "outputs": [],
   "source": [
    "et_player_x = cp.Variable(len(players), boolean=True)"
   ]
  },
  {
   "cell_type": "code",
   "execution_count": 307,
   "metadata": {
    "ExecuteTime": {
     "end_time": "2019-08-26T08:22:05.724999Z",
     "start_time": "2019-08-26T08:22:05.714020Z"
    }
   },
   "outputs": [],
   "source": [
    "et_player_prob = cp.Problem(\n",
    "    cp.Maximize(\n",
    "        player_points@et_player_x - 2*(11 - et_x_0@et_player_x)\n",
    "    ),\n",
    "    [\n",
    "        player_weights@et_player_x <= player_capacity,\n",
    "        np.ones(len(players))@et_player_x == player_num,\n",
    "#         et_x_0@et_player_x >= 10\n",
    "    ]\n",
    ")"
   ]
  },
  {
   "cell_type": "code",
   "execution_count": 308,
   "metadata": {
    "ExecuteTime": {
     "end_time": "2019-08-26T08:22:06.475777Z",
     "start_time": "2019-08-26T08:22:06.437804Z"
    }
   },
   "outputs": [
    {
     "data": {
      "text/plain": [
       "3.921052625744931"
      ]
     },
     "execution_count": 308,
     "metadata": {},
     "output_type": "execute_result"
    }
   ],
   "source": [
    "et_player_prob.solve()"
   ]
  },
  {
   "cell_type": "code",
   "execution_count": 309,
   "metadata": {
    "ExecuteTime": {
     "end_time": "2019-08-26T08:22:07.502801Z",
     "start_time": "2019-08-26T08:22:07.488318Z"
    }
   },
   "outputs": [
    {
     "data": {
      "text/plain": [
       "['Kanté',\n",
       " 'Milivojevic',\n",
       " 'Digne',\n",
       " 'Robertson',\n",
       " 'van Dijk',\n",
       " 'Salah',\n",
       " 'Laporte',\n",
       " 'Ederson',\n",
       " 'Sterling',\n",
       " 'Wan-Bissaka',\n",
       " 'Jiménez']"
      ]
     },
     "execution_count": 309,
     "metadata": {},
     "output_type": "execute_result"
    }
   ],
   "source": [
    "et_player_selection = [int(round(j)) for j in et_player_x.value]\n",
    "et_player_selection_names = [i for i, j in zip(player_names, et_player_selection) if j == 1]\n",
    "et_player_selection_names"
   ]
  },
  {
   "cell_type": "code",
   "execution_count": 306,
   "metadata": {
    "ExecuteTime": {
     "end_time": "2019-08-26T08:21:34.517581Z",
     "start_time": "2019-08-26T08:21:34.509996Z"
    }
   },
   "outputs": [
    {
     "name": "stdout",
     "output_type": "stream",
     "text": [
      "set()\n",
      "set()\n"
     ]
    }
   ],
   "source": [
    "print(set(et_player_selection_0_names) - set(et_player_selection_names))\n",
    "print(set(et_player_selection_names) - set(et_player_selection_0_names))"
   ]
  },
  {
   "cell_type": "code",
   "execution_count": null,
   "metadata": {},
   "outputs": [],
   "source": []
  }
 ],
 "metadata": {
  "kernelspec": {
   "display_name": "Python 3",
   "language": "python",
   "name": "python3"
  },
  "language_info": {
   "codemirror_mode": {
    "name": "ipython",
    "version": 3
   },
   "file_extension": ".py",
   "mimetype": "text/x-python",
   "name": "python",
   "nbconvert_exporter": "python",
   "pygments_lexer": "ipython3",
   "version": "3.6.7"
  },
  "toc": {
   "nav_menu": {},
   "number_sections": true,
   "sideBar": true,
   "skip_h1_title": false,
   "title_cell": "Table of Contents",
   "title_sidebar": "Contents",
   "toc_cell": false,
   "toc_position": {},
   "toc_section_display": true,
   "toc_window_display": false
  }
 },
 "nbformat": 4,
 "nbformat_minor": 2
}
