{
 "cells": [
  {
   "cell_type": "markdown",
   "metadata": {},
   "source": [
    "# Set up"
   ]
  },
  {
   "cell_type": "code",
   "execution_count": 1,
   "metadata": {
    "ExecuteTime": {
     "end_time": "2019-07-12T12:07:19.374358Z",
     "start_time": "2019-07-12T12:07:19.370511Z"
    }
   },
   "outputs": [],
   "source": [
    "# update path with data dir\n",
    "import sys\n",
    "sys.path.append('../data/')"
   ]
  },
  {
   "cell_type": "code",
   "execution_count": 2,
   "metadata": {
    "ExecuteTime": {
     "end_time": "2019-07-12T12:07:20.297065Z",
     "start_time": "2019-07-12T12:07:19.679852Z"
    }
   },
   "outputs": [],
   "source": [
    "import pandas as pd\n",
    "import knapsack\n",
    "import cvxpy as cp\n",
    "import numpy as np\n",
    "import requests"
   ]
  },
  {
   "cell_type": "markdown",
   "metadata": {
    "heading_collapsed": true
   },
   "source": [
    "# Toy 0-1 one-dimensional knapsack example"
   ]
  },
  {
   "cell_type": "code",
   "execution_count": null,
   "metadata": {
    "ExecuteTime": {
     "end_time": "2019-07-08T17:59:24.429996Z",
     "start_time": "2019-07-08T17:59:24.421611Z"
    },
    "hidden": true
   },
   "outputs": [],
   "source": [
    "o_values = np.array([22, 12, 16, 10, 35, 26, 42, 53])\n",
    "o_weights = np.array([21, 11, 15, 9, 34, 25, 41, 52])\n",
    "o_capacity = 100"
   ]
  },
  {
   "cell_type": "markdown",
   "metadata": {
    "heading_collapsed": true,
    "hidden": true
   },
   "source": [
    "## `knapsack`"
   ]
  },
  {
   "cell_type": "code",
   "execution_count": null,
   "metadata": {
    "ExecuteTime": {
     "end_time": "2019-07-08T09:54:45.470948Z",
     "start_time": "2019-07-08T09:54:45.442962Z"
    },
    "hidden": true
   },
   "outputs": [],
   "source": [
    "# Maximize sum of selected value. Sum of selected weight is less than capacity\n",
    "\n",
    "total_value, items_idx = knapsack.knapsack(o_weights, o_values).solve(o_capacity)\n",
    "items = [o_values[i] for i in items_idx]\n",
    "\n",
    "print(sum(items))\n",
    "print(items)"
   ]
  },
  {
   "cell_type": "markdown",
   "metadata": {
    "ExecuteTime": {
     "end_time": "2019-07-05T13:48:06.736238Z",
     "start_time": "2019-07-05T13:48:06.728240Z"
    },
    "heading_collapsed": true,
    "hidden": true
   },
   "source": [
    "## `cvxpy`"
   ]
  },
  {
   "cell_type": "code",
   "execution_count": null,
   "metadata": {
    "ExecuteTime": {
     "end_time": "2019-07-08T17:59:27.549494Z",
     "start_time": "2019-07-08T17:59:27.542961Z"
    },
    "hidden": true
   },
   "outputs": [],
   "source": [
    "o_x = cp.Variable(8, boolean=True)"
   ]
  },
  {
   "cell_type": "code",
   "execution_count": null,
   "metadata": {
    "ExecuteTime": {
     "end_time": "2019-07-08T17:59:27.924122Z",
     "start_time": "2019-07-08T17:59:27.917030Z"
    },
    "hidden": true
   },
   "outputs": [],
   "source": [
    "o_prob = cp.Problem(\n",
    "    cp.Maximize(o_values@o_x),\n",
    "    [o_weights@o_x <= o_capacity]\n",
    ")"
   ]
  },
  {
   "cell_type": "code",
   "execution_count": null,
   "metadata": {
    "ExecuteTime": {
     "end_time": "2019-07-08T17:59:28.326959Z",
     "start_time": "2019-07-08T17:59:28.306653Z"
    },
    "hidden": true
   },
   "outputs": [],
   "source": [
    "o_prob.solve()"
   ]
  },
  {
   "cell_type": "code",
   "execution_count": null,
   "metadata": {
    "ExecuteTime": {
     "end_time": "2019-07-08T17:59:28.734006Z",
     "start_time": "2019-07-08T17:59:28.725141Z"
    },
    "hidden": true
   },
   "outputs": [],
   "source": [
    "o_selection = [int(round(j)) for j in o_x.value]\n",
    "o_selection"
   ]
  },
  {
   "cell_type": "markdown",
   "metadata": {
    "heading_collapsed": true
   },
   "source": [
    "# Toy 0-1 multidimensional knapsack example"
   ]
  },
  {
   "cell_type": "code",
   "execution_count": null,
   "metadata": {
    "ExecuteTime": {
     "end_time": "2019-07-08T18:00:13.500037Z",
     "start_time": "2019-07-08T18:00:13.490431Z"
    },
    "hidden": true
   },
   "outputs": [],
   "source": [
    "m_values = np.array([22, 12, 16, 10, 35, 26, 42, 53])\n",
    "m_weights = np.array([\n",
    "    [21, 11, 15, 9, 34, 25, 41, 52],\n",
    "    [28, 8, 25, 3, 34, 25, 35, 60]\n",
    "])\n",
    "m_capacity = np.array([100, 125])\n",
    "m_num = 3"
   ]
  },
  {
   "cell_type": "code",
   "execution_count": null,
   "metadata": {
    "ExecuteTime": {
     "end_time": "2019-07-08T18:00:13.772090Z",
     "start_time": "2019-07-08T18:00:13.766551Z"
    },
    "hidden": true
   },
   "outputs": [],
   "source": [
    "m_x = cp.Variable(8, boolean=True)"
   ]
  },
  {
   "cell_type": "code",
   "execution_count": null,
   "metadata": {
    "ExecuteTime": {
     "end_time": "2019-07-08T18:00:14.059571Z",
     "start_time": "2019-07-08T18:00:14.052496Z"
    },
    "hidden": true
   },
   "outputs": [],
   "source": [
    "m_prob = cp.Problem(\n",
    "    cp.Maximize(m_values@m_x),\n",
    "    [\n",
    "        m_weights@m_x <= m_capacity,\n",
    "        np.ones(8)@m_x == m_num\n",
    "    ]\n",
    ")"
   ]
  },
  {
   "cell_type": "code",
   "execution_count": null,
   "metadata": {
    "ExecuteTime": {
     "end_time": "2019-07-08T18:00:14.350092Z",
     "start_time": "2019-07-08T18:00:14.325951Z"
    },
    "hidden": true
   },
   "outputs": [],
   "source": [
    "m_prob.solve()"
   ]
  },
  {
   "cell_type": "code",
   "execution_count": null,
   "metadata": {
    "ExecuteTime": {
     "end_time": "2019-07-08T18:00:15.117055Z",
     "start_time": "2019-07-08T18:00:15.108232Z"
    },
    "hidden": true
   },
   "outputs": [],
   "source": [
    "m_selection = [int(round(j)) for j in m_x.value]\n",
    "m_selection"
   ]
  },
  {
   "cell_type": "markdown",
   "metadata": {},
   "source": [
    "# Toy team optimisation"
   ]
  },
  {
   "cell_type": "code",
   "execution_count": 3,
   "metadata": {
    "ExecuteTime": {
     "end_time": "2019-07-12T12:07:22.457620Z",
     "start_time": "2019-07-12T12:07:22.373450Z"
    }
   },
   "outputs": [],
   "source": [
    "bootstrap_static_request = requests.get('https://fantasy.premierleague.com/api/bootstrap-static/')\n",
    "bootstrap_static_d = bootstrap_static_request.json()"
   ]
  },
  {
   "cell_type": "code",
   "execution_count": 4,
   "metadata": {
    "ExecuteTime": {
     "end_time": "2019-07-12T12:07:22.661985Z",
     "start_time": "2019-07-12T12:07:22.655389Z"
    }
   },
   "outputs": [],
   "source": [
    "black_list_players = ['Pogba']\n",
    "players = [i for i in bootstrap_static_d['elements'] if i['web_name'] not in black_list_players]"
   ]
  },
  {
   "cell_type": "code",
   "execution_count": 87,
   "metadata": {
    "ExecuteTime": {
     "end_time": "2019-07-12T13:18:03.353123Z",
     "start_time": "2019-07-12T13:18:03.341449Z"
    }
   },
   "outputs": [],
   "source": [
    "player_names = np.array([i['web_name'] for i in players])\n",
    "player_points = np.array([i['total_points'] for i in players])/38\n",
    "player_costs = np.array([[i['now_cost'] for i in players]])\n",
    "player_position = np.array([i['element_type'] for i in players])\n",
    "player_team = np.array([i['team'] for i in players])"
   ]
  },
  {
   "cell_type": "code",
   "execution_count": 88,
   "metadata": {
    "ExecuteTime": {
     "end_time": "2019-07-12T13:18:10.134465Z",
     "start_time": "2019-07-12T13:18:10.127597Z"
    }
   },
   "outputs": [],
   "source": [
    "player_position_weights = np.zeros((4, len(players)))\n",
    "for i in range(0, 4):\n",
    "    for j in range(0, len(players)):\n",
    "        if player_position[j] == i+1:\n",
    "            player_position_weights[i, j] = 1\n",
    "        else:\n",
    "            player_position_weights[i, j] = 0"
   ]
  },
  {
   "cell_type": "code",
   "execution_count": 89,
   "metadata": {
    "ExecuteTime": {
     "end_time": "2019-07-12T13:18:10.425701Z",
     "start_time": "2019-07-12T13:18:10.414597Z"
    }
   },
   "outputs": [],
   "source": [
    "player_team_weights = np.zeros((20, len(players)))\n",
    "for i in range(0, 20):\n",
    "    for j in range(0, len(players)):\n",
    "        if player_team[j] == i+1:\n",
    "            player_team_weights[i, j] = 1\n",
    "        else:\n",
    "            player_team_weights[i, j] = 0"
   ]
  },
  {
   "cell_type": "code",
   "execution_count": 90,
   "metadata": {
    "ExecuteTime": {
     "end_time": "2019-07-12T13:18:10.702932Z",
     "start_time": "2019-07-12T13:18:10.698239Z"
    }
   },
   "outputs": [],
   "source": [
    "player_position_capacity = [1, 4, 5, 1]\n",
    "bench_position_capacity = [1, 1, 0, 2]"
   ]
  },
  {
   "cell_type": "code",
   "execution_count": 91,
   "metadata": {
    "ExecuteTime": {
     "end_time": "2019-07-12T13:18:11.361599Z",
     "start_time": "2019-07-12T13:18:11.354314Z"
    }
   },
   "outputs": [],
   "source": [
    "min_cost_keeper = np.min([i['now_cost'] for i in players if i['element_type'] == 1])\n",
    "min_cost_defender = np.min([i['now_cost'] for i in players if i['element_type'] == 2])\n",
    "min_cost_midfielder = np.min([i['now_cost'] for i in players if i['element_type'] == 3])\n",
    "min_cost_striker = np.min([i['now_cost'] for i in players if i['element_type'] == 4])\n",
    "min_cost_bench = \\\n",
    "bench_position_capacity@np.array([min_cost_keeper, min_cost_defender, min_cost_midfielder, min_cost_striker])"
   ]
  },
  {
   "cell_type": "code",
   "execution_count": 92,
   "metadata": {
    "ExecuteTime": {
     "end_time": "2019-07-12T13:18:11.931613Z",
     "start_time": "2019-07-12T13:18:11.928383Z"
    }
   },
   "outputs": [],
   "source": [
    "player_cost_capacity = [1000 - min_cost_bench]\n",
    "player_team_capacity = [3]*20"
   ]
  },
  {
   "cell_type": "code",
   "execution_count": 93,
   "metadata": {
    "ExecuteTime": {
     "end_time": "2019-07-12T13:18:12.688131Z",
     "start_time": "2019-07-12T13:18:12.683323Z"
    }
   },
   "outputs": [],
   "source": [
    "player_weights = np.concatenate((\n",
    "    player_costs,\n",
    "    player_position_weights,\n",
    "    player_team_weights\n",
    "), axis=0)\n",
    "player_capacity = np.array(\n",
    "    player_cost_capacity\n",
    "    + player_position_capacity\n",
    "    + player_team_capacity\n",
    ")\n",
    "\n",
    "player_num = 11"
   ]
  },
  {
   "cell_type": "code",
   "execution_count": 94,
   "metadata": {
    "ExecuteTime": {
     "end_time": "2019-07-12T13:18:13.305199Z",
     "start_time": "2019-07-12T13:18:13.295715Z"
    }
   },
   "outputs": [],
   "source": [
    "bench_num = 4"
   ]
  },
  {
   "cell_type": "markdown",
   "metadata": {},
   "source": [
    "## From scratch"
   ]
  },
  {
   "cell_type": "code",
   "execution_count": 95,
   "metadata": {
    "ExecuteTime": {
     "end_time": "2019-07-12T13:18:13.913780Z",
     "start_time": "2019-07-12T13:18:13.908304Z"
    }
   },
   "outputs": [],
   "source": [
    "fs_player_x = cp.Variable(len(players), boolean=True)"
   ]
  },
  {
   "cell_type": "code",
   "execution_count": 96,
   "metadata": {
    "ExecuteTime": {
     "end_time": "2019-07-12T13:18:14.237107Z",
     "start_time": "2019-07-12T13:18:14.231382Z"
    }
   },
   "outputs": [],
   "source": [
    "fs_player_prob = cp.Problem(\n",
    "    cp.Maximize(player_points@fs_player_x),\n",
    "    [\n",
    "        player_weights@fs_player_x <= player_capacity,\n",
    "        np.ones(len(players))@fs_player_x == player_num\n",
    "    ]\n",
    ")"
   ]
  },
  {
   "cell_type": "code",
   "execution_count": 97,
   "metadata": {
    "ExecuteTime": {
     "end_time": "2019-07-12T13:18:14.952751Z",
     "start_time": "2019-07-12T13:18:14.523963Z"
    }
   },
   "outputs": [
    {
     "data": {
      "text/plain": [
       "54.21052630930314"
      ]
     },
     "execution_count": 97,
     "metadata": {},
     "output_type": "execute_result"
    }
   ],
   "source": [
    "fs_player_prob.solve()"
   ]
  },
  {
   "cell_type": "code",
   "execution_count": 98,
   "metadata": {
    "ExecuteTime": {
     "end_time": "2019-07-12T13:18:14.963894Z",
     "start_time": "2019-07-12T13:18:14.955727Z"
    }
   },
   "outputs": [
    {
     "data": {
      "text/plain": [
       "['Fraser',\n",
       " 'David Luiz',\n",
       " 'Kanté',\n",
       " 'Milivojevic',\n",
       " 'Pickford',\n",
       " 'Robertson',\n",
       " 'van Dijk',\n",
       " 'Salah',\n",
       " 'Laporte',\n",
       " 'Sterling',\n",
       " 'Jiménez']"
      ]
     },
     "execution_count": 98,
     "metadata": {},
     "output_type": "execute_result"
    }
   ],
   "source": [
    "fs_player_selection = [int(round(j)) for j in fs_player_x.value]\n",
    "[i for i, j in zip(player_names, fs_player_selection) if j == 1]"
   ]
  },
  {
   "cell_type": "code",
   "execution_count": 99,
   "metadata": {
    "ExecuteTime": {
     "end_time": "2019-07-12T13:18:17.488268Z",
     "start_time": "2019-07-12T13:18:17.483223Z"
    }
   },
   "outputs": [],
   "source": [
    "fs_bench_team_capacity = player_team_capacity - player_team_weights@fs_player_selection"
   ]
  },
  {
   "cell_type": "code",
   "execution_count": 100,
   "metadata": {
    "ExecuteTime": {
     "end_time": "2019-07-12T13:18:17.796185Z",
     "start_time": "2019-07-12T13:18:17.786185Z"
    }
   },
   "outputs": [],
   "source": [
    "fs_bench_capacity = np.array(\n",
    "    [min_cost_bench]\n",
    "    + bench_position_capacity\n",
    "    + list(fs_bench_team_capacity)\n",
    ")"
   ]
  },
  {
   "cell_type": "code",
   "execution_count": 101,
   "metadata": {
    "ExecuteTime": {
     "end_time": "2019-07-12T13:18:18.245457Z",
     "start_time": "2019-07-12T13:18:18.239630Z"
    }
   },
   "outputs": [],
   "source": [
    "fs_bench_x = cp.Variable(len(players), boolean=True)"
   ]
  },
  {
   "cell_type": "code",
   "execution_count": 102,
   "metadata": {
    "ExecuteTime": {
     "end_time": "2019-07-12T13:18:18.997467Z",
     "start_time": "2019-07-12T13:18:18.991306Z"
    }
   },
   "outputs": [],
   "source": [
    "fs_bench_prob = cp.Problem(\n",
    "    cp.Maximize(player_points@fs_bench_x),\n",
    "    [\n",
    "        player_weights@fs_bench_x <= fs_bench_capacity,\n",
    "        np.ones(len(players))@fs_bench_x == bench_num\n",
    "    ]\n",
    ")"
   ]
  },
  {
   "cell_type": "code",
   "execution_count": 103,
   "metadata": {
    "ExecuteTime": {
     "end_time": "2019-07-12T13:18:19.730174Z",
     "start_time": "2019-07-12T13:18:19.700498Z"
    }
   },
   "outputs": [
    {
     "data": {
      "text/plain": [
       "1.5789473685256235"
      ]
     },
     "execution_count": 103,
     "metadata": {},
     "output_type": "execute_result"
    }
   ],
   "source": [
    "fs_bench_prob.solve()"
   ]
  },
  {
   "cell_type": "code",
   "execution_count": 104,
   "metadata": {
    "ExecuteTime": {
     "end_time": "2019-07-12T13:18:20.328915Z",
     "start_time": "2019-07-12T13:18:20.316483Z"
    }
   },
   "outputs": [
    {
     "data": {
      "text/plain": [
       "['Nketiah', 'Button', 'Kelly', 'Wickham']"
      ]
     },
     "execution_count": 104,
     "metadata": {},
     "output_type": "execute_result"
    }
   ],
   "source": [
    "fs_bench_selection = [int(round(j)) for j in fs_bench_x.value]\n",
    "[i for i, j in zip(player_names, fs_bench_selection) if j == 1]"
   ]
  },
  {
   "cell_type": "code",
   "execution_count": 106,
   "metadata": {
    "ExecuteTime": {
     "end_time": "2019-07-12T13:18:29.289871Z",
     "start_time": "2019-07-12T13:18:29.282064Z"
    }
   },
   "outputs": [
    {
     "data": {
      "text/plain": [
       "0.0"
      ]
     },
     "execution_count": 106,
     "metadata": {},
     "output_type": "execute_result"
    }
   ],
   "source": [
    "abs(round(1000 - (player_costs@fs_player_x.value)[0] - min_cost_bench))"
   ]
  },
  {
   "cell_type": "markdown",
   "metadata": {},
   "source": [
    "## Existing team"
   ]
  },
  {
   "cell_type": "code",
   "execution_count": 55,
   "metadata": {
    "ExecuteTime": {
     "end_time": "2019-07-12T12:33:13.650107Z",
     "start_time": "2019-07-12T12:33:13.642118Z"
    }
   },
   "outputs": [
    {
     "name": "stdout",
     "output_type": "stream",
     "text": [
      "206\n",
      "258\n",
      "198\n",
      "222\n",
      "436\n",
      "51\n"
     ]
    }
   ],
   "source": [
    "print(list(player_names).index('Salah'))\n",
    "print(list(player_names).index('Lingard'))\n",
    "\n",
    "print(list(player_names).index('van Dijk'))\n",
    "print(list(player_names).index('Stones'))\n",
    "\n",
    "print(list(player_names).index('Jiménez'))\n",
    "print(list(player_names).index('Wilson'))"
   ]
  },
  {
   "cell_type": "code",
   "execution_count": 116,
   "metadata": {
    "ExecuteTime": {
     "end_time": "2019-07-12T13:20:07.759061Z",
     "start_time": "2019-07-12T13:20:07.747241Z"
    }
   },
   "outputs": [],
   "source": [
    "et_x_0 = np.array([abs(round(i)) for i in fs_player_x.value])\n",
    "et_x_0[206] = 0.0\n",
    "et_x_0[258] = 1.0\n",
    "et_x_0[198] = 0.0\n",
    "et_x_0[222] = 1.0\n",
    "et_x_0[436] = 0.0\n",
    "et_x_0[51] = 1.0"
   ]
  },
  {
   "cell_type": "code",
   "execution_count": 117,
   "metadata": {
    "ExecuteTime": {
     "end_time": "2019-07-12T13:20:08.184309Z",
     "start_time": "2019-07-12T13:20:08.177712Z"
    }
   },
   "outputs": [],
   "source": [
    "et_player_x = cp.Variable(len(players), boolean=True)"
   ]
  },
  {
   "cell_type": "code",
   "execution_count": 118,
   "metadata": {
    "ExecuteTime": {
     "end_time": "2019-07-12T13:20:08.550070Z",
     "start_time": "2019-07-12T13:20:08.539246Z"
    }
   },
   "outputs": [],
   "source": [
    "et_player_prob = cp.Problem(\n",
    "    cp.Maximize(\n",
    "        player_points@et_player_x - 2*(et_player_x - et_x_0)@(et_player_x - et_x_0)\n",
    "    ),\n",
    "    [\n",
    "        player_weights@et_player_x <= player_capacity,\n",
    "        np.ones(len(players))@et_player_x == player_num\n",
    "    ]\n",
    ")"
   ]
  },
  {
   "cell_type": "code",
   "execution_count": 119,
   "metadata": {
    "ExecuteTime": {
     "end_time": "2019-07-12T13:20:09.469644Z",
     "start_time": "2019-07-12T13:20:09.435272Z"
    }
   },
   "outputs": [
    {
     "ename": "DCPError",
     "evalue": "Problem does not follow DCP rules.",
     "output_type": "error",
     "traceback": [
      "\u001b[0;31m---------------------------------------------------------------------------\u001b[0m",
      "\u001b[0;31mDCPError\u001b[0m                                  Traceback (most recent call last)",
      "\u001b[0;32m<ipython-input-119-22325f0505d2>\u001b[0m in \u001b[0;36m<module>\u001b[0;34m\u001b[0m\n\u001b[0;32m----> 1\u001b[0;31m \u001b[0met_player_prob\u001b[0m\u001b[0;34m.\u001b[0m\u001b[0msolve\u001b[0m\u001b[0;34m(\u001b[0m\u001b[0;34m)\u001b[0m\u001b[0;34m\u001b[0m\u001b[0;34m\u001b[0m\u001b[0m\n\u001b[0m",
      "\u001b[0;32m~/footbot/venv/lib/python3.6/site-packages/cvxpy/problems/problem.py\u001b[0m in \u001b[0;36msolve\u001b[0;34m(self, *args, **kwargs)\u001b[0m\n\u001b[1;32m    287\u001b[0m         \u001b[0;32melse\u001b[0m\u001b[0;34m:\u001b[0m\u001b[0;34m\u001b[0m\u001b[0;34m\u001b[0m\u001b[0m\n\u001b[1;32m    288\u001b[0m             \u001b[0msolve_func\u001b[0m \u001b[0;34m=\u001b[0m \u001b[0mProblem\u001b[0m\u001b[0;34m.\u001b[0m\u001b[0m_solve\u001b[0m\u001b[0;34m\u001b[0m\u001b[0;34m\u001b[0m\u001b[0m\n\u001b[0;32m--> 289\u001b[0;31m         \u001b[0;32mreturn\u001b[0m \u001b[0msolve_func\u001b[0m\u001b[0;34m(\u001b[0m\u001b[0mself\u001b[0m\u001b[0;34m,\u001b[0m \u001b[0;34m*\u001b[0m\u001b[0margs\u001b[0m\u001b[0;34m,\u001b[0m \u001b[0;34m**\u001b[0m\u001b[0mkwargs\u001b[0m\u001b[0;34m)\u001b[0m\u001b[0;34m\u001b[0m\u001b[0;34m\u001b[0m\u001b[0m\n\u001b[0m\u001b[1;32m    290\u001b[0m \u001b[0;34m\u001b[0m\u001b[0m\n\u001b[1;32m    291\u001b[0m     \u001b[0;34m@\u001b[0m\u001b[0mclassmethod\u001b[0m\u001b[0;34m\u001b[0m\u001b[0;34m\u001b[0m\u001b[0m\n",
      "\u001b[0;32m~/footbot/venv/lib/python3.6/site-packages/cvxpy/problems/problem.py\u001b[0m in \u001b[0;36m_solve\u001b[0;34m(self, solver, warm_start, verbose, parallel, gp, qcp, **kwargs)\u001b[0m\n\u001b[1;32m    565\u001b[0m                     solver, warm_start, verbose, **kwargs)\n\u001b[1;32m    566\u001b[0m \u001b[0;34m\u001b[0m\u001b[0m\n\u001b[0;32m--> 567\u001b[0;31m         \u001b[0mself\u001b[0m\u001b[0;34m.\u001b[0m\u001b[0m_construct_chains\u001b[0m\u001b[0;34m(\u001b[0m\u001b[0msolver\u001b[0m\u001b[0;34m=\u001b[0m\u001b[0msolver\u001b[0m\u001b[0;34m,\u001b[0m \u001b[0mgp\u001b[0m\u001b[0;34m=\u001b[0m\u001b[0mgp\u001b[0m\u001b[0;34m)\u001b[0m\u001b[0;34m\u001b[0m\u001b[0;34m\u001b[0m\u001b[0m\n\u001b[0m\u001b[1;32m    568\u001b[0m         data, solving_inverse_data = self._solving_chain.apply(\n\u001b[1;32m    569\u001b[0m             self._intermediate_problem)\n",
      "\u001b[0;32m~/footbot/venv/lib/python3.6/site-packages/cvxpy/problems/problem.py\u001b[0m in \u001b[0;36m_construct_chains\u001b[0;34m(self, solver, gp)\u001b[0m\n\u001b[1;32m    508\u001b[0m \u001b[0;34m\u001b[0m\u001b[0m\n\u001b[1;32m    509\u001b[0m             \u001b[0;32mexcept\u001b[0m \u001b[0mException\u001b[0m \u001b[0;32mas\u001b[0m \u001b[0me\u001b[0m\u001b[0;34m:\u001b[0m\u001b[0;34m\u001b[0m\u001b[0;34m\u001b[0m\u001b[0m\n\u001b[0;32m--> 510\u001b[0;31m                 \u001b[0;32mraise\u001b[0m \u001b[0me\u001b[0m\u001b[0;34m\u001b[0m\u001b[0;34m\u001b[0m\u001b[0m\n\u001b[0m\u001b[1;32m    511\u001b[0m \u001b[0;34m\u001b[0m\u001b[0m\n\u001b[1;32m    512\u001b[0m     def _solve(self,\n",
      "\u001b[0;32m~/footbot/venv/lib/python3.6/site-packages/cvxpy/problems/problem.py\u001b[0m in \u001b[0;36m_construct_chains\u001b[0;34m(self, solver, gp)\u001b[0m\n\u001b[1;32m    497\u001b[0m \u001b[0;34m\u001b[0m\u001b[0m\n\u001b[1;32m    498\u001b[0m                 \u001b[0mself\u001b[0m\u001b[0;34m.\u001b[0m\u001b[0m_intermediate_chain\u001b[0m \u001b[0;34m=\u001b[0m\u001b[0;31m \u001b[0m\u001b[0;31m\\\u001b[0m\u001b[0;34m\u001b[0m\u001b[0;34m\u001b[0m\u001b[0m\n\u001b[0;32m--> 499\u001b[0;31m                     \u001b[0mconstruct_intermediate_chain\u001b[0m\u001b[0;34m(\u001b[0m\u001b[0mself\u001b[0m\u001b[0;34m,\u001b[0m \u001b[0mcandidate_solvers\u001b[0m\u001b[0;34m,\u001b[0m \u001b[0mgp\u001b[0m\u001b[0;34m=\u001b[0m\u001b[0mgp\u001b[0m\u001b[0;34m)\u001b[0m\u001b[0;34m\u001b[0m\u001b[0;34m\u001b[0m\u001b[0m\n\u001b[0m\u001b[1;32m    500\u001b[0m                 \u001b[0mself\u001b[0m\u001b[0;34m.\u001b[0m\u001b[0m_intermediate_problem\u001b[0m\u001b[0;34m,\u001b[0m \u001b[0mself\u001b[0m\u001b[0;34m.\u001b[0m\u001b[0m_intermediate_inverse_data\u001b[0m \u001b[0;34m=\u001b[0m\u001b[0;31m \u001b[0m\u001b[0;31m\\\u001b[0m\u001b[0;34m\u001b[0m\u001b[0;34m\u001b[0m\u001b[0m\n\u001b[1;32m    501\u001b[0m                     \u001b[0mself\u001b[0m\u001b[0;34m.\u001b[0m\u001b[0m_intermediate_chain\u001b[0m\u001b[0;34m.\u001b[0m\u001b[0mapply\u001b[0m\u001b[0;34m(\u001b[0m\u001b[0mself\u001b[0m\u001b[0;34m)\u001b[0m\u001b[0;34m\u001b[0m\u001b[0;34m\u001b[0m\u001b[0m\n",
      "\u001b[0;32m~/footbot/venv/lib/python3.6/site-packages/cvxpy/reductions/solvers/intermediate_chain.py\u001b[0m in \u001b[0;36mconstruct_intermediate_chain\u001b[0;34m(problem, candidates, gp)\u001b[0m\n\u001b[1;32m     54\u001b[0m             append = (\" However, the problem does follow DQCP rules. \"\n\u001b[1;32m     55\u001b[0m                       \"Consider calling solve() with `qcp=True`.\")\n\u001b[0;32m---> 56\u001b[0;31m         \u001b[0;32mraise\u001b[0m \u001b[0mDCPError\u001b[0m\u001b[0;34m(\u001b[0m\u001b[0;34m\"Problem does not follow DCP rules.\"\u001b[0m \u001b[0;34m+\u001b[0m \u001b[0mappend\u001b[0m\u001b[0;34m)\u001b[0m\u001b[0;34m\u001b[0m\u001b[0;34m\u001b[0m\u001b[0m\n\u001b[0m\u001b[1;32m     57\u001b[0m     \u001b[0;32melif\u001b[0m \u001b[0mgp\u001b[0m \u001b[0;32mand\u001b[0m \u001b[0;32mnot\u001b[0m \u001b[0mproblem\u001b[0m\u001b[0;34m.\u001b[0m\u001b[0mis_dgp\u001b[0m\u001b[0;34m(\u001b[0m\u001b[0;34m)\u001b[0m\u001b[0;34m:\u001b[0m\u001b[0;34m\u001b[0m\u001b[0;34m\u001b[0m\u001b[0m\n\u001b[1;32m     58\u001b[0m         \u001b[0mappend\u001b[0m \u001b[0;34m=\u001b[0m \u001b[0;34m\"\"\u001b[0m\u001b[0;34m\u001b[0m\u001b[0;34m\u001b[0m\u001b[0m\n",
      "\u001b[0;31mDCPError\u001b[0m: Problem does not follow DCP rules."
     ]
    }
   ],
   "source": [
    "et_player_prob.solve()"
   ]
  },
  {
   "cell_type": "code",
   "execution_count": 85,
   "metadata": {
    "ExecuteTime": {
     "end_time": "2019-07-12T13:17:21.496412Z",
     "start_time": "2019-07-12T13:17:21.483690Z"
    }
   },
   "outputs": [
    {
     "data": {
      "text/plain": [
       "['Fraser',\n",
       " 'David Luiz',\n",
       " 'Kanté',\n",
       " 'Milivojevic',\n",
       " 'Pickford',\n",
       " 'Robertson',\n",
       " 'van Dijk',\n",
       " 'Salah',\n",
       " 'Laporte',\n",
       " 'Sterling',\n",
       " 'Jiménez']"
      ]
     },
     "execution_count": 85,
     "metadata": {},
     "output_type": "execute_result"
    }
   ],
   "source": [
    "et_player_selection = [int(round(j)) for j in et_player_x.value]\n",
    "[i for i, j in zip(player_names, et_player_selection) if j == 1]"
   ]
  },
  {
   "cell_type": "code",
   "execution_count": 61,
   "metadata": {
    "ExecuteTime": {
     "end_time": "2019-07-12T13:14:40.827660Z",
     "start_time": "2019-07-12T13:14:40.824303Z"
    }
   },
   "outputs": [],
   "source": [
    "et_bench_team_capacity = player_team_capacity - player_team_weights@et_player_selection"
   ]
  },
  {
   "cell_type": "code",
   "execution_count": 62,
   "metadata": {
    "ExecuteTime": {
     "end_time": "2019-07-12T13:14:41.325368Z",
     "start_time": "2019-07-12T13:14:41.320211Z"
    }
   },
   "outputs": [],
   "source": [
    "et_bench_capacity = np.array(\n",
    "    [min_cost_bench]\n",
    "    + bench_position_capacity\n",
    "    + list(et_bench_team_capacity)\n",
    ")"
   ]
  },
  {
   "cell_type": "code",
   "execution_count": 63,
   "metadata": {
    "ExecuteTime": {
     "end_time": "2019-07-12T13:14:41.695550Z",
     "start_time": "2019-07-12T13:14:41.692057Z"
    }
   },
   "outputs": [],
   "source": [
    "et_bench_x = cp.Variable(len(players), boolean=True)"
   ]
  },
  {
   "cell_type": "code",
   "execution_count": 64,
   "metadata": {
    "ExecuteTime": {
     "end_time": "2019-07-12T13:14:42.122381Z",
     "start_time": "2019-07-12T13:14:42.114576Z"
    }
   },
   "outputs": [],
   "source": [
    "et_bench_prob = cp.Problem(\n",
    "    cp.Maximize(player_points@et_bench_x),\n",
    "    [\n",
    "        player_weights@et_bench_x <= et_bench_capacity,\n",
    "        np.ones(len(players))@et_bench_x == bench_num\n",
    "    ]\n",
    ")"
   ]
  },
  {
   "cell_type": "code",
   "execution_count": 65,
   "metadata": {
    "ExecuteTime": {
     "end_time": "2019-07-12T13:14:42.550553Z",
     "start_time": "2019-07-12T13:14:42.493101Z"
    }
   },
   "outputs": [
    {
     "data": {
      "text/plain": [
       "60.00000002226118"
      ]
     },
     "execution_count": 65,
     "metadata": {},
     "output_type": "execute_result"
    }
   ],
   "source": [
    "et_bench_prob.solve()"
   ]
  },
  {
   "cell_type": "code",
   "execution_count": 66,
   "metadata": {
    "ExecuteTime": {
     "end_time": "2019-07-12T13:14:42.962575Z",
     "start_time": "2019-07-12T13:14:42.951631Z"
    }
   },
   "outputs": [
    {
     "data": {
      "text/plain": [
       "['Nketiah', 'Button', 'Kelly', 'Wickham']"
      ]
     },
     "execution_count": 66,
     "metadata": {},
     "output_type": "execute_result"
    }
   ],
   "source": [
    "et_bench_selection = [int(round(j)) for j in et_bench_x.value]\n",
    "[i for i, j in zip(player_names, et_bench_selection) if j == 1]"
   ]
  },
  {
   "cell_type": "code",
   "execution_count": 67,
   "metadata": {
    "ExecuteTime": {
     "end_time": "2019-07-12T13:14:43.502496Z",
     "start_time": "2019-07-12T13:14:43.494182Z"
    }
   },
   "outputs": [
    {
     "data": {
      "text/plain": [
       "-0.0"
      ]
     },
     "execution_count": 67,
     "metadata": {},
     "output_type": "execute_result"
    }
   ],
   "source": [
    "round(1000 - (player_costs@et_player_x.value)[0] - min_cost_bench)"
   ]
  },
  {
   "cell_type": "code",
   "execution_count": null,
   "metadata": {},
   "outputs": [],
   "source": []
  }
 ],
 "metadata": {
  "kernelspec": {
   "display_name": "Python 3",
   "language": "python",
   "name": "python3"
  },
  "language_info": {
   "codemirror_mode": {
    "name": "ipython",
    "version": 3
   },
   "file_extension": ".py",
   "mimetype": "text/x-python",
   "name": "python",
   "nbconvert_exporter": "python",
   "pygments_lexer": "ipython3",
   "version": "3.6.7"
  },
  "toc": {
   "nav_menu": {},
   "number_sections": true,
   "sideBar": true,
   "skip_h1_title": false,
   "title_cell": "Table of Contents",
   "title_sidebar": "Contents",
   "toc_cell": false,
   "toc_position": {},
   "toc_section_display": true,
   "toc_window_display": false
  }
 },
 "nbformat": 4,
 "nbformat_minor": 2
}
