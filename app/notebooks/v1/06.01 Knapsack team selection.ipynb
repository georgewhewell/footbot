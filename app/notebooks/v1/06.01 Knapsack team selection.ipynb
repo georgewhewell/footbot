{
 "cells": [
  {
   "cell_type": "markdown",
   "metadata": {},
   "source": [
    "# Set up"
   ]
  },
  {
   "cell_type": "code",
   "execution_count": 1,
   "metadata": {
    "ExecuteTime": {
     "end_time": "2019-07-13T17:05:14.533926Z",
     "start_time": "2019-07-13T17:05:14.528872Z"
    }
   },
   "outputs": [],
   "source": [
    "# update path with data dir\n",
    "import sys\n",
    "sys.path.append('../data/')"
   ]
  },
  {
   "cell_type": "code",
   "execution_count": 2,
   "metadata": {
    "ExecuteTime": {
     "end_time": "2019-07-13T17:05:16.422803Z",
     "start_time": "2019-07-13T17:05:15.707577Z"
    }
   },
   "outputs": [],
   "source": [
    "import pandas as pd\n",
    "import knapsack\n",
    "import cvxpy as cp\n",
    "import numpy as np\n",
    "import requests"
   ]
  },
  {
   "cell_type": "markdown",
   "metadata": {
    "heading_collapsed": true
   },
   "source": [
    "# Toy 0-1 one-dimensional knapsack example"
   ]
  },
  {
   "cell_type": "code",
   "execution_count": null,
   "metadata": {
    "ExecuteTime": {
     "end_time": "2019-07-08T17:59:24.429996Z",
     "start_time": "2019-07-08T17:59:24.421611Z"
    },
    "hidden": true
   },
   "outputs": [],
   "source": [
    "o_values = np.array([22, 12, 16, 10, 35, 26, 42, 53])\n",
    "o_weights = np.array([21, 11, 15, 9, 34, 25, 41, 52])\n",
    "o_capacity = 100"
   ]
  },
  {
   "cell_type": "markdown",
   "metadata": {
    "heading_collapsed": true,
    "hidden": true
   },
   "source": [
    "## `knapsack`"
   ]
  },
  {
   "cell_type": "code",
   "execution_count": null,
   "metadata": {
    "ExecuteTime": {
     "end_time": "2019-07-08T09:54:45.470948Z",
     "start_time": "2019-07-08T09:54:45.442962Z"
    },
    "hidden": true
   },
   "outputs": [],
   "source": [
    "# Maximize sum of selected value. Sum of selected weight is less than capacity\n",
    "\n",
    "total_value, items_idx = knapsack.knapsack(o_weights, o_values).solve(o_capacity)\n",
    "items = [o_values[i] for i in items_idx]\n",
    "\n",
    "print(sum(items))\n",
    "print(items)"
   ]
  },
  {
   "cell_type": "markdown",
   "metadata": {
    "ExecuteTime": {
     "end_time": "2019-07-05T13:48:06.736238Z",
     "start_time": "2019-07-05T13:48:06.728240Z"
    },
    "heading_collapsed": true,
    "hidden": true
   },
   "source": [
    "## `cvxpy`"
   ]
  },
  {
   "cell_type": "code",
   "execution_count": null,
   "metadata": {
    "ExecuteTime": {
     "end_time": "2019-07-08T17:59:27.549494Z",
     "start_time": "2019-07-08T17:59:27.542961Z"
    },
    "hidden": true
   },
   "outputs": [],
   "source": [
    "o_x = cp.Variable(8, boolean=True)"
   ]
  },
  {
   "cell_type": "code",
   "execution_count": null,
   "metadata": {
    "ExecuteTime": {
     "end_time": "2019-07-08T17:59:27.924122Z",
     "start_time": "2019-07-08T17:59:27.917030Z"
    },
    "hidden": true
   },
   "outputs": [],
   "source": [
    "o_prob = cp.Problem(\n",
    "    cp.Maximize(o_values@o_x),\n",
    "    [o_weights@o_x <= o_capacity]\n",
    ")"
   ]
  },
  {
   "cell_type": "code",
   "execution_count": null,
   "metadata": {
    "ExecuteTime": {
     "end_time": "2019-07-08T17:59:28.326959Z",
     "start_time": "2019-07-08T17:59:28.306653Z"
    },
    "hidden": true
   },
   "outputs": [],
   "source": [
    "o_prob.solve()"
   ]
  },
  {
   "cell_type": "code",
   "execution_count": null,
   "metadata": {
    "ExecuteTime": {
     "end_time": "2019-07-08T17:59:28.734006Z",
     "start_time": "2019-07-08T17:59:28.725141Z"
    },
    "hidden": true
   },
   "outputs": [],
   "source": [
    "o_selection = [int(round(j)) for j in o_x.value]\n",
    "o_selection"
   ]
  },
  {
   "cell_type": "markdown",
   "metadata": {
    "heading_collapsed": true
   },
   "source": [
    "# Toy 0-1 multidimensional knapsack example"
   ]
  },
  {
   "cell_type": "code",
   "execution_count": null,
   "metadata": {
    "ExecuteTime": {
     "end_time": "2019-07-08T18:00:13.500037Z",
     "start_time": "2019-07-08T18:00:13.490431Z"
    },
    "hidden": true
   },
   "outputs": [],
   "source": [
    "m_values = np.array([22, 12, 16, 10, 35, 26, 42, 53])\n",
    "m_weights = np.array([\n",
    "    [21, 11, 15, 9, 34, 25, 41, 52],\n",
    "    [28, 8, 25, 3, 34, 25, 35, 60]\n",
    "])\n",
    "m_capacity = np.array([100, 125])\n",
    "m_num = 3"
   ]
  },
  {
   "cell_type": "code",
   "execution_count": null,
   "metadata": {
    "ExecuteTime": {
     "end_time": "2019-07-08T18:00:13.772090Z",
     "start_time": "2019-07-08T18:00:13.766551Z"
    },
    "hidden": true
   },
   "outputs": [],
   "source": [
    "m_x = cp.Variable(8, boolean=True)"
   ]
  },
  {
   "cell_type": "code",
   "execution_count": null,
   "metadata": {
    "ExecuteTime": {
     "end_time": "2019-07-08T18:00:14.059571Z",
     "start_time": "2019-07-08T18:00:14.052496Z"
    },
    "hidden": true
   },
   "outputs": [],
   "source": [
    "m_prob = cp.Problem(\n",
    "    cp.Maximize(m_values@m_x),\n",
    "    [\n",
    "        m_weights@m_x <= m_capacity,\n",
    "        np.ones(8)@m_x == m_num\n",
    "    ]\n",
    ")"
   ]
  },
  {
   "cell_type": "code",
   "execution_count": null,
   "metadata": {
    "ExecuteTime": {
     "end_time": "2019-07-08T18:00:14.350092Z",
     "start_time": "2019-07-08T18:00:14.325951Z"
    },
    "hidden": true
   },
   "outputs": [],
   "source": [
    "m_prob.solve()"
   ]
  },
  {
   "cell_type": "code",
   "execution_count": null,
   "metadata": {
    "ExecuteTime": {
     "end_time": "2019-07-08T18:00:15.117055Z",
     "start_time": "2019-07-08T18:00:15.108232Z"
    },
    "hidden": true
   },
   "outputs": [],
   "source": [
    "m_selection = [int(round(j)) for j in m_x.value]\n",
    "m_selection"
   ]
  },
  {
   "cell_type": "markdown",
   "metadata": {},
   "source": [
    "# Toy team optimisation"
   ]
  },
  {
   "cell_type": "code",
   "execution_count": 3,
   "metadata": {
    "ExecuteTime": {
     "end_time": "2019-07-13T17:05:18.522559Z",
     "start_time": "2019-07-13T17:05:18.427635Z"
    }
   },
   "outputs": [],
   "source": [
    "bootstrap_static_request = requests.get('https://fantasy.premierleague.com/api/bootstrap-static/')\n",
    "bootstrap_static_d = bootstrap_static_request.json()"
   ]
  },
  {
   "cell_type": "code",
   "execution_count": 4,
   "metadata": {
    "ExecuteTime": {
     "end_time": "2019-07-13T17:05:18.676826Z",
     "start_time": "2019-07-13T17:05:18.671074Z"
    }
   },
   "outputs": [],
   "source": [
    "black_list_players = ['Pogba']\n",
    "players = [i for i in bootstrap_static_d['elements'] if i['web_name'] not in black_list_players]"
   ]
  },
  {
   "cell_type": "code",
   "execution_count": 5,
   "metadata": {
    "ExecuteTime": {
     "end_time": "2019-07-13T17:05:18.913757Z",
     "start_time": "2019-07-13T17:05:18.903086Z"
    }
   },
   "outputs": [],
   "source": [
    "player_names = np.array([i['web_name'] for i in players])\n",
    "player_points = np.array([i['total_points'] for i in players])/38\n",
    "player_costs = np.array([[i['now_cost'] for i in players]])\n",
    "player_position = np.array([i['element_type'] for i in players])\n",
    "player_team = np.array([i['team'] for i in players])"
   ]
  },
  {
   "cell_type": "code",
   "execution_count": 6,
   "metadata": {
    "ExecuteTime": {
     "end_time": "2019-07-13T17:05:19.169645Z",
     "start_time": "2019-07-13T17:05:19.157275Z"
    }
   },
   "outputs": [],
   "source": [
    "player_position_weights = np.zeros((4, len(players)))\n",
    "for i in range(0, 4):\n",
    "    for j in range(0, len(players)):\n",
    "        if player_position[j] == i+1:\n",
    "            player_position_weights[i, j] = 1\n",
    "        else:\n",
    "            player_position_weights[i, j] = 0"
   ]
  },
  {
   "cell_type": "code",
   "execution_count": 7,
   "metadata": {
    "ExecuteTime": {
     "end_time": "2019-07-13T17:05:19.526020Z",
     "start_time": "2019-07-13T17:05:19.505340Z"
    }
   },
   "outputs": [],
   "source": [
    "player_team_weights = np.zeros((20, len(players)))\n",
    "for i in range(0, 20):\n",
    "    for j in range(0, len(players)):\n",
    "        if player_team[j] == i+1:\n",
    "            player_team_weights[i, j] = 1\n",
    "        else:\n",
    "            player_team_weights[i, j] = 0"
   ]
  },
  {
   "cell_type": "code",
   "execution_count": 8,
   "metadata": {
    "ExecuteTime": {
     "end_time": "2019-07-13T17:05:19.812371Z",
     "start_time": "2019-07-13T17:05:19.806852Z"
    }
   },
   "outputs": [],
   "source": [
    "player_position_capacity = [1, 4, 5, 1]\n",
    "bench_position_capacity = [1, 1, 0, 2]"
   ]
  },
  {
   "cell_type": "code",
   "execution_count": 9,
   "metadata": {
    "ExecuteTime": {
     "end_time": "2019-07-13T17:05:20.190433Z",
     "start_time": "2019-07-13T17:05:20.176641Z"
    }
   },
   "outputs": [],
   "source": [
    "min_cost_keeper = np.min([i['now_cost'] for i in players if i['element_type'] == 1])\n",
    "min_cost_defender = np.min([i['now_cost'] for i in players if i['element_type'] == 2])\n",
    "min_cost_midfielder = np.min([i['now_cost'] for i in players if i['element_type'] == 3])\n",
    "min_cost_striker = np.min([i['now_cost'] for i in players if i['element_type'] == 4])\n",
    "min_cost_bench = \\\n",
    "bench_position_capacity@np.array([min_cost_keeper, min_cost_defender, min_cost_midfielder, min_cost_striker])"
   ]
  },
  {
   "cell_type": "code",
   "execution_count": 10,
   "metadata": {
    "ExecuteTime": {
     "end_time": "2019-07-13T17:05:20.821071Z",
     "start_time": "2019-07-13T17:05:20.815198Z"
    }
   },
   "outputs": [],
   "source": [
    "player_cost_capacity = [1000 - min_cost_bench]\n",
    "player_team_capacity = [3]*20"
   ]
  },
  {
   "cell_type": "code",
   "execution_count": 11,
   "metadata": {
    "ExecuteTime": {
     "end_time": "2019-07-13T17:05:21.417350Z",
     "start_time": "2019-07-13T17:05:21.410090Z"
    }
   },
   "outputs": [],
   "source": [
    "player_weights = np.concatenate((\n",
    "    player_costs,\n",
    "    player_position_weights,\n",
    "    player_team_weights\n",
    "), axis=0)\n",
    "player_capacity = np.array(\n",
    "    player_cost_capacity\n",
    "    + player_position_capacity\n",
    "    + player_team_capacity\n",
    ")\n",
    "\n",
    "player_num = 11"
   ]
  },
  {
   "cell_type": "code",
   "execution_count": 12,
   "metadata": {
    "ExecuteTime": {
     "end_time": "2019-07-13T17:05:22.616813Z",
     "start_time": "2019-07-13T17:05:22.613159Z"
    }
   },
   "outputs": [],
   "source": [
    "bench_num = 4"
   ]
  },
  {
   "cell_type": "markdown",
   "metadata": {},
   "source": [
    "## From scratch"
   ]
  },
  {
   "cell_type": "code",
   "execution_count": 13,
   "metadata": {
    "ExecuteTime": {
     "end_time": "2019-07-13T17:05:29.474370Z",
     "start_time": "2019-07-13T17:05:29.467802Z"
    }
   },
   "outputs": [],
   "source": [
    "fs_player_x = cp.Variable(len(players), boolean=True)"
   ]
  },
  {
   "cell_type": "code",
   "execution_count": 14,
   "metadata": {
    "ExecuteTime": {
     "end_time": "2019-07-13T17:05:29.776914Z",
     "start_time": "2019-07-13T17:05:29.766518Z"
    }
   },
   "outputs": [],
   "source": [
    "fs_player_prob = cp.Problem(\n",
    "    cp.Maximize(player_points@fs_player_x),\n",
    "    [\n",
    "        player_weights@fs_player_x <= player_capacity,\n",
    "        np.ones(len(players))@fs_player_x == player_num\n",
    "    ]\n",
    ")"
   ]
  },
  {
   "cell_type": "code",
   "execution_count": 15,
   "metadata": {
    "ExecuteTime": {
     "end_time": "2019-07-13T17:05:30.502667Z",
     "start_time": "2019-07-13T17:05:30.052799Z"
    }
   },
   "outputs": [
    {
     "data": {
      "text/plain": [
       "54.21052630930314"
      ]
     },
     "execution_count": 15,
     "metadata": {},
     "output_type": "execute_result"
    }
   ],
   "source": [
    "fs_player_prob.solve()"
   ]
  },
  {
   "cell_type": "code",
   "execution_count": 16,
   "metadata": {
    "ExecuteTime": {
     "end_time": "2019-07-13T17:05:30.517296Z",
     "start_time": "2019-07-13T17:05:30.506399Z"
    }
   },
   "outputs": [
    {
     "data": {
      "text/plain": [
       "['Fraser',\n",
       " 'David Luiz',\n",
       " 'Kanté',\n",
       " 'Milivojevic',\n",
       " 'Pickford',\n",
       " 'Robertson',\n",
       " 'van Dijk',\n",
       " 'Salah',\n",
       " 'Laporte',\n",
       " 'Sterling',\n",
       " 'Jiménez']"
      ]
     },
     "execution_count": 16,
     "metadata": {},
     "output_type": "execute_result"
    }
   ],
   "source": [
    "fs_player_selection = [int(round(j)) for j in fs_player_x.value]\n",
    "[i for i, j in zip(player_names, fs_player_selection) if j == 1]"
   ]
  },
  {
   "cell_type": "code",
   "execution_count": 17,
   "metadata": {
    "ExecuteTime": {
     "end_time": "2019-07-13T17:05:30.971535Z",
     "start_time": "2019-07-13T17:05:30.966469Z"
    }
   },
   "outputs": [],
   "source": [
    "fs_bench_team_capacity = player_team_capacity - player_team_weights@fs_player_selection"
   ]
  },
  {
   "cell_type": "code",
   "execution_count": 18,
   "metadata": {
    "ExecuteTime": {
     "end_time": "2019-07-13T17:05:31.743689Z",
     "start_time": "2019-07-13T17:05:31.738274Z"
    }
   },
   "outputs": [],
   "source": [
    "fs_bench_capacity = np.array(\n",
    "    [min_cost_bench]\n",
    "    + bench_position_capacity\n",
    "    + list(fs_bench_team_capacity)\n",
    ")"
   ]
  },
  {
   "cell_type": "code",
   "execution_count": 19,
   "metadata": {
    "ExecuteTime": {
     "end_time": "2019-07-13T17:05:32.176087Z",
     "start_time": "2019-07-13T17:05:32.169064Z"
    }
   },
   "outputs": [],
   "source": [
    "fs_bench_x = cp.Variable(len(players), boolean=True)"
   ]
  },
  {
   "cell_type": "code",
   "execution_count": 20,
   "metadata": {
    "ExecuteTime": {
     "end_time": "2019-07-13T17:05:32.595865Z",
     "start_time": "2019-07-13T17:05:32.587059Z"
    }
   },
   "outputs": [],
   "source": [
    "fs_bench_prob = cp.Problem(\n",
    "    cp.Maximize(player_points@fs_bench_x),\n",
    "    [\n",
    "        player_weights@fs_bench_x <= fs_bench_capacity,\n",
    "        np.ones(len(players))@fs_bench_x == bench_num\n",
    "    ]\n",
    ")"
   ]
  },
  {
   "cell_type": "code",
   "execution_count": 21,
   "metadata": {
    "ExecuteTime": {
     "end_time": "2019-07-13T17:05:33.013909Z",
     "start_time": "2019-07-13T17:05:32.989952Z"
    }
   },
   "outputs": [
    {
     "data": {
      "text/plain": [
       "1.5789473685256235"
      ]
     },
     "execution_count": 21,
     "metadata": {},
     "output_type": "execute_result"
    }
   ],
   "source": [
    "fs_bench_prob.solve()"
   ]
  },
  {
   "cell_type": "code",
   "execution_count": 22,
   "metadata": {
    "ExecuteTime": {
     "end_time": "2019-07-13T17:05:33.500428Z",
     "start_time": "2019-07-13T17:05:33.490728Z"
    }
   },
   "outputs": [
    {
     "data": {
      "text/plain": [
       "['Nketiah', 'Button', 'Kelly', 'Wickham']"
      ]
     },
     "execution_count": 22,
     "metadata": {},
     "output_type": "execute_result"
    }
   ],
   "source": [
    "fs_bench_selection = [int(round(j)) for j in fs_bench_x.value]\n",
    "[i for i, j in zip(player_names, fs_bench_selection) if j == 1]"
   ]
  },
  {
   "cell_type": "code",
   "execution_count": 23,
   "metadata": {
    "ExecuteTime": {
     "end_time": "2019-07-13T17:05:34.048241Z",
     "start_time": "2019-07-13T17:05:34.038649Z"
    }
   },
   "outputs": [
    {
     "data": {
      "text/plain": [
       "0.0"
      ]
     },
     "execution_count": 23,
     "metadata": {},
     "output_type": "execute_result"
    }
   ],
   "source": [
    "abs(round(1000 - (player_costs@fs_player_x.value)[0] - min_cost_bench))"
   ]
  },
  {
   "cell_type": "markdown",
   "metadata": {},
   "source": [
    "## Existing team"
   ]
  },
  {
   "cell_type": "code",
   "execution_count": 45,
   "metadata": {
    "ExecuteTime": {
     "end_time": "2019-07-13T17:11:57.426779Z",
     "start_time": "2019-07-13T17:11:57.412458Z"
    }
   },
   "outputs": [
    {
     "name": "stdout",
     "output_type": "stream",
     "text": [
      "206\n",
      "258\n",
      "198\n",
      "222\n",
      "436\n",
      "51\n"
     ]
    }
   ],
   "source": [
    "print(list(player_names).index('Salah'))\n",
    "print(list(player_names).index('Lingard'))\n",
    "\n",
    "print(list(player_names).index('van Dijk'))\n",
    "print(list(player_names).index('Stones'))\n",
    "\n",
    "print(list(player_names).index('Jiménez'))\n",
    "print(list(player_names).index('Wilson'))"
   ]
  },
  {
   "cell_type": "code",
   "execution_count": 46,
   "metadata": {
    "ExecuteTime": {
     "end_time": "2019-07-13T17:11:57.767436Z",
     "start_time": "2019-07-13T17:11:57.754851Z"
    }
   },
   "outputs": [],
   "source": [
    "et_x_0 = np.array([abs(round(i)) for i in fs_player_x.value])\n",
    "et_x_0[206] = 0.0\n",
    "et_x_0[258] = 1.0\n",
    "et_x_0[198] = 0.0\n",
    "et_x_0[222] = 1.0\n",
    "et_x_0[436] = 0.0\n",
    "et_x_0[51] = 1.0"
   ]
  },
  {
   "cell_type": "code",
   "execution_count": 56,
   "metadata": {
    "ExecuteTime": {
     "end_time": "2019-07-13T17:14:18.260813Z",
     "start_time": "2019-07-13T17:14:18.246171Z"
    }
   },
   "outputs": [
    {
     "data": {
      "text/plain": [
       "['Wilson',\n",
       " 'Fraser',\n",
       " 'David Luiz',\n",
       " 'Kanté',\n",
       " 'Milivojevic',\n",
       " 'Pickford',\n",
       " 'Robertson',\n",
       " 'Laporte',\n",
       " 'Stones',\n",
       " 'Sterling',\n",
       " 'Lingard']"
      ]
     },
     "execution_count": 56,
     "metadata": {},
     "output_type": "execute_result"
    }
   ],
   "source": [
    "et_selection_0 = [int(round(j)) for j in et_x_0]\n",
    "et_player_selection_0_names = [i for i, j in zip(player_names, et_selection_0) if j == 1]\n",
    "et_player_selection_0_names"
   ]
  },
  {
   "cell_type": "code",
   "execution_count": 48,
   "metadata": {
    "ExecuteTime": {
     "end_time": "2019-07-13T17:11:58.791582Z",
     "start_time": "2019-07-13T17:11:58.784485Z"
    }
   },
   "outputs": [],
   "source": [
    "et_player_x = cp.Variable(len(players), boolean=True)"
   ]
  },
  {
   "cell_type": "code",
   "execution_count": 60,
   "metadata": {
    "ExecuteTime": {
     "end_time": "2019-07-13T17:18:30.946501Z",
     "start_time": "2019-07-13T17:18:30.936220Z"
    }
   },
   "outputs": [],
   "source": [
    "et_player_prob = cp.Problem(\n",
    "    cp.Maximize(\n",
    "        player_points@et_player_x - 4*(11 - et_x_0@et_player_x)\n",
    "    ),\n",
    "    [\n",
    "        player_weights@et_player_x <= player_capacity,\n",
    "        np.ones(len(players))@et_player_x == player_num,\n",
    "#         et_x_0@et_player_x >= 10\n",
    "    ]\n",
    ")"
   ]
  },
  {
   "cell_type": "code",
   "execution_count": 61,
   "metadata": {
    "ExecuteTime": {
     "end_time": "2019-07-13T17:18:31.338230Z",
     "start_time": "2019-07-13T17:18:31.303661Z"
    }
   },
   "outputs": [
    {
     "data": {
      "text/plain": [
       "46.578947302329325"
      ]
     },
     "execution_count": 61,
     "metadata": {},
     "output_type": "execute_result"
    }
   ],
   "source": [
    "et_player_prob.solve()"
   ]
  },
  {
   "cell_type": "code",
   "execution_count": 55,
   "metadata": {
    "ExecuteTime": {
     "end_time": "2019-07-13T17:14:11.154179Z",
     "start_time": "2019-07-13T17:14:11.139192Z"
    }
   },
   "outputs": [
    {
     "data": {
      "text/plain": [
       "['Wilson',\n",
       " 'Fraser',\n",
       " 'David Luiz',\n",
       " 'Kanté',\n",
       " 'Milivojevic',\n",
       " 'Pickford',\n",
       " 'Robertson',\n",
       " 'Salah',\n",
       " 'Laporte',\n",
       " 'Stones',\n",
       " 'Sterling']"
      ]
     },
     "execution_count": 55,
     "metadata": {},
     "output_type": "execute_result"
    }
   ],
   "source": [
    "et_player_selection = [int(round(j)) for j in et_player_x.value]\n",
    "et_player_selection_names = [i for i, j in zip(player_names, et_player_selection) if j == 1]\n",
    "et_player_selection_names"
   ]
  },
  {
   "cell_type": "code",
   "execution_count": 57,
   "metadata": {
    "ExecuteTime": {
     "end_time": "2019-07-13T17:16:09.913091Z",
     "start_time": "2019-07-13T17:16:09.904826Z"
    }
   },
   "outputs": [
    {
     "name": "stdout",
     "output_type": "stream",
     "text": [
      "{'Lingard'}\n",
      "{'Salah'}\n"
     ]
    }
   ],
   "source": [
    "print(set(et_player_selection_0_names) - set(et_player_selection_names))\n",
    "print(set(et_player_selection_names) - set(et_player_selection_0_names))"
   ]
  }
 ],
 "metadata": {
  "kernelspec": {
   "display_name": "Python 3",
   "language": "python",
   "name": "python3"
  },
  "language_info": {
   "codemirror_mode": {
    "name": "ipython",
    "version": 3
   },
   "file_extension": ".py",
   "mimetype": "text/x-python",
   "name": "python",
   "nbconvert_exporter": "python",
   "pygments_lexer": "ipython3",
   "version": "3.6.7"
  },
  "toc": {
   "nav_menu": {},
   "number_sections": true,
   "sideBar": true,
   "skip_h1_title": false,
   "title_cell": "Table of Contents",
   "title_sidebar": "Contents",
   "toc_cell": false,
   "toc_position": {},
   "toc_section_display": true,
   "toc_window_display": false
  }
 },
 "nbformat": 4,
 "nbformat_minor": 2
}
