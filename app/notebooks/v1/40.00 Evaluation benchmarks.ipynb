{
 "cells": [
  {
   "cell_type": "markdown",
   "metadata": {
    "ExecuteTime": {
     "end_time": "2019-07-14T14:49:20.220252Z",
     "start_time": "2019-07-14T14:49:20.130438Z"
    }
   },
   "source": [
    "# Set up"
   ]
  },
  {
   "cell_type": "code",
   "execution_count": 3,
   "metadata": {
    "ExecuteTime": {
     "end_time": "2019-08-24T09:58:54.987613Z",
     "start_time": "2019-08-24T09:58:52.827691Z"
    }
   },
   "outputs": [],
   "source": [
    "import pandas as pd\n",
    "import json\n",
    "import matplotlib.pyplot as plt\n",
    "from matplotlib.ticker import MultipleLocator\n",
    "import numpy as np\n",
    "import requests"
   ]
  },
  {
   "cell_type": "markdown",
   "metadata": {
    "heading_collapsed": true
   },
   "source": [
    "# Getting data"
   ]
  },
  {
   "cell_type": "code",
   "execution_count": 4,
   "metadata": {
    "ExecuteTime": {
     "end_time": "2019-08-24T09:58:55.146736Z",
     "start_time": "2019-08-24T09:58:54.993616Z"
    },
    "hidden": true
   },
   "outputs": [],
   "source": [
    "with open('../csvs/top_50_weekly_data.json') as f:\n",
    "    top_data = json.load(f)"
   ]
  },
  {
   "cell_type": "code",
   "execution_count": 5,
   "metadata": {
    "ExecuteTime": {
     "end_time": "2019-08-24T09:58:55.193651Z",
     "start_time": "2019-08-24T09:58:55.149313Z"
    },
    "hidden": true
   },
   "outputs": [
    {
     "data": {
      "text/html": [
       "<div>\n",
       "<style scoped>\n",
       "    .dataframe tbody tr th:only-of-type {\n",
       "        vertical-align: middle;\n",
       "    }\n",
       "\n",
       "    .dataframe tbody tr th {\n",
       "        vertical-align: top;\n",
       "    }\n",
       "\n",
       "    .dataframe thead th {\n",
       "        text-align: right;\n",
       "    }\n",
       "</style>\n",
       "<table border=\"1\" class=\"dataframe\">\n",
       "  <thead>\n",
       "    <tr style=\"text-align: right;\">\n",
       "      <th></th>\n",
       "      <th>bank</th>\n",
       "      <th>entry</th>\n",
       "      <th>event</th>\n",
       "      <th>event_transfers</th>\n",
       "      <th>event_transfers_cost</th>\n",
       "      <th>id</th>\n",
       "      <th>movement</th>\n",
       "      <th>overall_rank</th>\n",
       "      <th>points</th>\n",
       "      <th>points_on_bench</th>\n",
       "      <th>rank</th>\n",
       "      <th>rank_sort</th>\n",
       "      <th>targets</th>\n",
       "      <th>total_points</th>\n",
       "      <th>value</th>\n",
       "      <th>round_points</th>\n",
       "    </tr>\n",
       "  </thead>\n",
       "  <tbody>\n",
       "    <tr>\n",
       "      <th>0</th>\n",
       "      <td>0</td>\n",
       "      <td>107827</td>\n",
       "      <td>1</td>\n",
       "      <td>0</td>\n",
       "      <td>0</td>\n",
       "      <td>107827</td>\n",
       "      <td>new</td>\n",
       "      <td>405969</td>\n",
       "      <td>75</td>\n",
       "      <td>14</td>\n",
       "      <td>405969</td>\n",
       "      <td>407825</td>\n",
       "      <td>None</td>\n",
       "      <td>75</td>\n",
       "      <td>1000</td>\n",
       "      <td>75</td>\n",
       "    </tr>\n",
       "    <tr>\n",
       "      <th>1</th>\n",
       "      <td>0</td>\n",
       "      <td>107827</td>\n",
       "      <td>2</td>\n",
       "      <td>1</td>\n",
       "      <td>0</td>\n",
       "      <td>4664139</td>\n",
       "      <td>new</td>\n",
       "      <td>80980</td>\n",
       "      <td>99</td>\n",
       "      <td>1</td>\n",
       "      <td>66206</td>\n",
       "      <td>66330</td>\n",
       "      <td>None</td>\n",
       "      <td>174</td>\n",
       "      <td>1004</td>\n",
       "      <td>99</td>\n",
       "    </tr>\n",
       "    <tr>\n",
       "      <th>2</th>\n",
       "      <td>5</td>\n",
       "      <td>107827</td>\n",
       "      <td>3</td>\n",
       "      <td>1</td>\n",
       "      <td>0</td>\n",
       "      <td>9773353</td>\n",
       "      <td>new</td>\n",
       "      <td>116116</td>\n",
       "      <td>46</td>\n",
       "      <td>5</td>\n",
       "      <td>3347696</td>\n",
       "      <td>3348830</td>\n",
       "      <td>None</td>\n",
       "      <td>220</td>\n",
       "      <td>1011</td>\n",
       "      <td>46</td>\n",
       "    </tr>\n",
       "    <tr>\n",
       "      <th>3</th>\n",
       "      <td>18</td>\n",
       "      <td>107827</td>\n",
       "      <td>4</td>\n",
       "      <td>2</td>\n",
       "      <td>4</td>\n",
       "      <td>15147223</td>\n",
       "      <td>new</td>\n",
       "      <td>55041</td>\n",
       "      <td>65</td>\n",
       "      <td>17</td>\n",
       "      <td>220533</td>\n",
       "      <td>220740</td>\n",
       "      <td>None</td>\n",
       "      <td>281</td>\n",
       "      <td>1017</td>\n",
       "      <td>61</td>\n",
       "    </tr>\n",
       "    <tr>\n",
       "      <th>4</th>\n",
       "      <td>18</td>\n",
       "      <td>107827</td>\n",
       "      <td>5</td>\n",
       "      <td>0</td>\n",
       "      <td>0</td>\n",
       "      <td>20652163</td>\n",
       "      <td>new</td>\n",
       "      <td>2687</td>\n",
       "      <td>98</td>\n",
       "      <td>11</td>\n",
       "      <td>11172</td>\n",
       "      <td>11215</td>\n",
       "      <td>None</td>\n",
       "      <td>379</td>\n",
       "      <td>1023</td>\n",
       "      <td>98</td>\n",
       "    </tr>\n",
       "  </tbody>\n",
       "</table>\n",
       "</div>"
      ],
      "text/plain": [
       "   bank   entry  event  event_transfers  event_transfers_cost        id  \\\n",
       "0     0  107827      1                0                     0    107827   \n",
       "1     0  107827      2                1                     0   4664139   \n",
       "2     5  107827      3                1                     0   9773353   \n",
       "3    18  107827      4                2                     4  15147223   \n",
       "4    18  107827      5                0                     0  20652163   \n",
       "\n",
       "  movement  overall_rank  points  points_on_bench     rank  rank_sort targets  \\\n",
       "0      new        405969      75               14   405969     407825    None   \n",
       "1      new         80980      99                1    66206      66330    None   \n",
       "2      new        116116      46                5  3347696    3348830    None   \n",
       "3      new         55041      65               17   220533     220740    None   \n",
       "4      new          2687      98               11    11172      11215    None   \n",
       "\n",
       "   total_points  value  round_points  \n",
       "0            75   1000            75  \n",
       "1           174   1004            99  \n",
       "2           220   1011            46  \n",
       "3           281   1017            61  \n",
       "4           379   1023            98  "
      ]
     },
     "execution_count": 5,
     "metadata": {},
     "output_type": "execute_result"
    }
   ],
   "source": [
    "top_df = pd.DataFrame([i['entry_history'] for i in top_data])\n",
    "top_df['round_points'] = top_df['points'] - top_df['event_transfers_cost']\n",
    "top_df.head()"
   ]
  },
  {
   "cell_type": "code",
   "execution_count": 6,
   "metadata": {
    "ExecuteTime": {
     "end_time": "2019-08-24T09:58:55.304506Z",
     "start_time": "2019-08-24T09:58:55.197192Z"
    },
    "hidden": true
   },
   "outputs": [],
   "source": [
    "top_entry = top_df[(top_df['event'] == 38)\n",
    "                   & (top_df['overall_rank'] == 1)]['entry'].iloc[0]"
   ]
  },
  {
   "cell_type": "code",
   "execution_count": 7,
   "metadata": {
    "ExecuteTime": {
     "end_time": "2019-08-24T09:58:55.338240Z",
     "start_time": "2019-08-24T09:58:55.308446Z"
    },
    "hidden": true
   },
   "outputs": [],
   "source": [
    "top_df_test = top_df.copy()\n",
    "top_df_test = top_df_test[top_df_test['event'] > 20]"
   ]
  },
  {
   "cell_type": "code",
   "execution_count": 8,
   "metadata": {
    "ExecuteTime": {
     "end_time": "2019-08-24T09:58:55.381059Z",
     "start_time": "2019-08-24T09:58:55.340589Z"
    },
    "hidden": true
   },
   "outputs": [],
   "source": [
    "top_df_overall = top_df.groupby('entry')['round_points'].sum()\n",
    "top_df_test_overall = top_df_test.groupby('entry')['round_points'].sum()"
   ]
  },
  {
   "cell_type": "code",
   "execution_count": 9,
   "metadata": {
    "ExecuteTime": {
     "end_time": "2019-08-24T09:58:55.413717Z",
     "start_time": "2019-08-24T09:58:55.383183Z"
    },
    "hidden": true
   },
   "outputs": [],
   "source": [
    "entry_df = pd.DataFrame([i['event'] for i in top_data[20:38]])"
   ]
  },
  {
   "cell_type": "code",
   "execution_count": 10,
   "metadata": {
    "ExecuteTime": {
     "end_time": "2019-08-24T09:58:55.451770Z",
     "start_time": "2019-08-24T09:58:55.415800Z"
    },
    "hidden": true
   },
   "outputs": [
    {
     "data": {
      "text/plain": [
       "count       1900.0\n",
       "mean      631636.0\n",
       "std       755701.0\n",
       "min         5480.0\n",
       "25%       164452.0\n",
       "50%       305962.0\n",
       "75%       805003.0\n",
       "max      3111205.0\n",
       "Name: entry, dtype: float64"
      ]
     },
     "execution_count": 10,
     "metadata": {},
     "output_type": "execute_result"
    }
   ],
   "source": [
    "top_df['entry'].describe().round()"
   ]
  },
  {
   "cell_type": "code",
   "execution_count": 11,
   "metadata": {
    "ExecuteTime": {
     "end_time": "2019-08-24T09:58:55.472466Z",
     "start_time": "2019-08-24T09:58:55.453749Z"
    },
    "hidden": true
   },
   "outputs": [
    {
     "data": {
      "text/plain": [
       "2659"
      ]
     },
     "execution_count": 11,
     "metadata": {},
     "output_type": "execute_result"
    }
   ],
   "source": [
    "top_df.groupby('entry')['round_points'].sum().max()"
   ]
  },
  {
   "cell_type": "code",
   "execution_count": 23,
   "metadata": {
    "ExecuteTime": {
     "end_time": "2019-08-24T13:19:22.117636Z",
     "start_time": "2019-08-24T11:13:49.070362Z"
    },
    "hidden": true
   },
   "outputs": [
    {
     "name": "stdout",
     "output_type": "stream",
     "text": [
      "73884\n"
     ]
    }
   ],
   "source": [
    "standings_arr = []\n",
    "\n",
    "for i in np.random.choice(range(1, 3000000), 100000, replace=False):\n",
    "    try:\n",
    "        entry_history_request = requests.get(f'https://fantasy.premierleague.com/api/entry/{i}/history/')\n",
    "        entry_history_data = entry_history_request.json()\n",
    "        standings_arr.append([i for i in entry_history_data['past'] if i['season_name'] == '2018/19'][0])\n",
    "    except Exception as e:\n",
    "#         print(e)\n",
    "        continue\n",
    "\n",
    "print(len(standings_arr))"
   ]
  },
  {
   "cell_type": "code",
   "execution_count": 25,
   "metadata": {
    "ExecuteTime": {
     "end_time": "2019-08-24T13:19:22.565067Z",
     "start_time": "2019-08-24T13:19:22.341881Z"
    },
    "hidden": true
   },
   "outputs": [
    {
     "data": {
      "text/html": [
       "<div>\n",
       "<style scoped>\n",
       "    .dataframe tbody tr th:only-of-type {\n",
       "        vertical-align: middle;\n",
       "    }\n",
       "\n",
       "    .dataframe tbody tr th {\n",
       "        vertical-align: top;\n",
       "    }\n",
       "\n",
       "    .dataframe thead th {\n",
       "        text-align: right;\n",
       "    }\n",
       "</style>\n",
       "<table border=\"1\" class=\"dataframe\">\n",
       "  <thead>\n",
       "    <tr style=\"text-align: right;\">\n",
       "      <th></th>\n",
       "      <th>rank</th>\n",
       "      <th>season_name</th>\n",
       "      <th>total_points</th>\n",
       "    </tr>\n",
       "  </thead>\n",
       "  <tbody>\n",
       "    <tr>\n",
       "      <th>5750</th>\n",
       "      <td>4</td>\n",
       "      <td>2018/19</td>\n",
       "      <td>2589</td>\n",
       "    </tr>\n",
       "    <tr>\n",
       "      <th>8261</th>\n",
       "      <td>13</td>\n",
       "      <td>2018/19</td>\n",
       "      <td>2568</td>\n",
       "    </tr>\n",
       "    <tr>\n",
       "      <th>30182</th>\n",
       "      <td>71</td>\n",
       "      <td>2018/19</td>\n",
       "      <td>2529</td>\n",
       "    </tr>\n",
       "    <tr>\n",
       "      <th>44541</th>\n",
       "      <td>81</td>\n",
       "      <td>2018/19</td>\n",
       "      <td>2528</td>\n",
       "    </tr>\n",
       "    <tr>\n",
       "      <th>59874</th>\n",
       "      <td>141</td>\n",
       "      <td>2018/19</td>\n",
       "      <td>2516</td>\n",
       "    </tr>\n",
       "    <tr>\n",
       "      <th>14640</th>\n",
       "      <td>161</td>\n",
       "      <td>2018/19</td>\n",
       "      <td>2513</td>\n",
       "    </tr>\n",
       "    <tr>\n",
       "      <th>69779</th>\n",
       "      <td>173</td>\n",
       "      <td>2018/19</td>\n",
       "      <td>2511</td>\n",
       "    </tr>\n",
       "    <tr>\n",
       "      <th>84</th>\n",
       "      <td>228</td>\n",
       "      <td>2018/19</td>\n",
       "      <td>2504</td>\n",
       "    </tr>\n",
       "    <tr>\n",
       "      <th>6902</th>\n",
       "      <td>234</td>\n",
       "      <td>2018/19</td>\n",
       "      <td>2503</td>\n",
       "    </tr>\n",
       "    <tr>\n",
       "      <th>10288</th>\n",
       "      <td>244</td>\n",
       "      <td>2018/19</td>\n",
       "      <td>2502</td>\n",
       "    </tr>\n",
       "  </tbody>\n",
       "</table>\n",
       "</div>"
      ],
      "text/plain": [
       "       rank season_name  total_points\n",
       "5750      4     2018/19          2589\n",
       "8261     13     2018/19          2568\n",
       "30182    71     2018/19          2529\n",
       "44541    81     2018/19          2528\n",
       "59874   141     2018/19          2516\n",
       "14640   161     2018/19          2513\n",
       "69779   173     2018/19          2511\n",
       "84      228     2018/19          2504\n",
       "6902    234     2018/19          2503\n",
       "10288   244     2018/19          2502"
      ]
     },
     "execution_count": 25,
     "metadata": {},
     "output_type": "execute_result"
    }
   ],
   "source": [
    "standings_df = pd.DataFrame(standings_arr)\n",
    "standings_df.sort_values('rank', inplace=True)\n",
    "standings_df.head(10)"
   ]
  },
  {
   "cell_type": "code",
   "execution_count": 26,
   "metadata": {
    "ExecuteTime": {
     "end_time": "2019-08-24T13:19:22.582603Z",
     "start_time": "2019-08-24T13:19:22.568941Z"
    },
    "hidden": true
   },
   "outputs": [
    {
     "data": {
      "text/html": [
       "<div>\n",
       "<style scoped>\n",
       "    .dataframe tbody tr th:only-of-type {\n",
       "        vertical-align: middle;\n",
       "    }\n",
       "\n",
       "    .dataframe tbody tr th {\n",
       "        vertical-align: top;\n",
       "    }\n",
       "\n",
       "    .dataframe thead th {\n",
       "        text-align: right;\n",
       "    }\n",
       "</style>\n",
       "<table border=\"1\" class=\"dataframe\">\n",
       "  <thead>\n",
       "    <tr style=\"text-align: right;\">\n",
       "      <th></th>\n",
       "      <th>rank</th>\n",
       "      <th>season_name</th>\n",
       "      <th>total_points</th>\n",
       "    </tr>\n",
       "  </thead>\n",
       "  <tbody>\n",
       "    <tr>\n",
       "      <th>47054</th>\n",
       "      <td>6296350</td>\n",
       "      <td>2018/19</td>\n",
       "      <td>-1426</td>\n",
       "    </tr>\n",
       "    <tr>\n",
       "      <th>21289</th>\n",
       "      <td>6296433</td>\n",
       "      <td>2018/19</td>\n",
       "      <td>-1740</td>\n",
       "    </tr>\n",
       "    <tr>\n",
       "      <th>68445</th>\n",
       "      <td>6296489</td>\n",
       "      <td>2018/19</td>\n",
       "      <td>-2072</td>\n",
       "    </tr>\n",
       "    <tr>\n",
       "      <th>45748</th>\n",
       "      <td>6296518</td>\n",
       "      <td>2018/19</td>\n",
       "      <td>-2233</td>\n",
       "    </tr>\n",
       "    <tr>\n",
       "      <th>43438</th>\n",
       "      <td>6296553</td>\n",
       "      <td>2018/19</td>\n",
       "      <td>-2506</td>\n",
       "    </tr>\n",
       "    <tr>\n",
       "      <th>58407</th>\n",
       "      <td>6296557</td>\n",
       "      <td>2018/19</td>\n",
       "      <td>-2586</td>\n",
       "    </tr>\n",
       "    <tr>\n",
       "      <th>58902</th>\n",
       "      <td>6296568</td>\n",
       "      <td>2018/19</td>\n",
       "      <td>-2662</td>\n",
       "    </tr>\n",
       "    <tr>\n",
       "      <th>67071</th>\n",
       "      <td>6296627</td>\n",
       "      <td>2018/19</td>\n",
       "      <td>-3611</td>\n",
       "    </tr>\n",
       "    <tr>\n",
       "      <th>58398</th>\n",
       "      <td>6296636</td>\n",
       "      <td>2018/19</td>\n",
       "      <td>-3829</td>\n",
       "    </tr>\n",
       "    <tr>\n",
       "      <th>6930</th>\n",
       "      <td>6296648</td>\n",
       "      <td>2018/19</td>\n",
       "      <td>-4167</td>\n",
       "    </tr>\n",
       "  </tbody>\n",
       "</table>\n",
       "</div>"
      ],
      "text/plain": [
       "          rank season_name  total_points\n",
       "47054  6296350     2018/19         -1426\n",
       "21289  6296433     2018/19         -1740\n",
       "68445  6296489     2018/19         -2072\n",
       "45748  6296518     2018/19         -2233\n",
       "43438  6296553     2018/19         -2506\n",
       "58407  6296557     2018/19         -2586\n",
       "58902  6296568     2018/19         -2662\n",
       "67071  6296627     2018/19         -3611\n",
       "58398  6296636     2018/19         -3829\n",
       "6930   6296648     2018/19         -4167"
      ]
     },
     "execution_count": 26,
     "metadata": {},
     "output_type": "execute_result"
    }
   ],
   "source": [
    "standings_df.tail(10)"
   ]
  },
  {
   "cell_type": "code",
   "execution_count": 27,
   "metadata": {
    "ExecuteTime": {
     "end_time": "2019-08-24T13:19:22.678769Z",
     "start_time": "2019-08-24T13:19:22.586383Z"
    },
    "hidden": true
   },
   "outputs": [
    {
     "data": {
      "text/plain": [
       "2001.0"
      ]
     },
     "execution_count": 27,
     "metadata": {},
     "output_type": "execute_result"
    }
   ],
   "source": [
    "standings_df['total_points'].median()"
   ]
  },
  {
   "cell_type": "code",
   "execution_count": 50,
   "metadata": {
    "ExecuteTime": {
     "end_time": "2019-08-24T13:33:35.312602Z",
     "start_time": "2019-08-24T13:33:35.305267Z"
    },
    "hidden": true
   },
   "outputs": [
    {
     "data": {
      "text/plain": [
       "1946.1407341237616"
      ]
     },
     "execution_count": 50,
     "metadata": {},
     "output_type": "execute_result"
    }
   ],
   "source": [
    "standings_df['total_points'].mean()"
   ]
  },
  {
   "cell_type": "code",
   "execution_count": 28,
   "metadata": {
    "ExecuteTime": {
     "end_time": "2019-08-24T13:19:22.705265Z",
     "start_time": "2019-08-24T13:19:22.682047Z"
    },
    "hidden": true
   },
   "outputs": [
    {
     "data": {
      "text/plain": [
       "entry\n",
       "107827     2659\n",
       "616809     2602\n",
       "176339     2589\n",
       "609081     2589\n",
       "328368     2587\n",
       "2480512    2580\n",
       "264674     2580\n",
       "99890      2572\n",
       "2101091    2572\n",
       "246972     2572\n",
       "309108     2572\n",
       "138561     2570\n",
       "2477540    2568\n",
       "1231822    2568\n",
       "8242       2564\n",
       "20727      2563\n",
       "304393     2562\n",
       "204095     2560\n",
       "226251     2560\n",
       "100121     2558\n",
       "582794     2557\n",
       "307531     2556\n",
       "102725     2554\n",
       "67718      2552\n",
       "316334     2552\n",
       "250725     2552\n",
       "1721966    2552\n",
       "1481682    2548\n",
       "212119     2548\n",
       "236918     2547\n",
       "217612     2546\n",
       "686015     2545\n",
       "164452     2545\n",
       "909908     2544\n",
       "1386175    2544\n",
       "3111205    2543\n",
       "271163     2543\n",
       "390901     2543\n",
       "805003     2543\n",
       "5480       2543\n",
       "56648      2542\n",
       "22535      2542\n",
       "816383     2542\n",
       "25055      2541\n",
       "196386     2540\n",
       "2557010    2539\n",
       "1053812    2539\n",
       "525414     2538\n",
       "573693     2538\n",
       "473996     2537\n",
       "Name: round_points, dtype: int64"
      ]
     },
     "execution_count": 28,
     "metadata": {},
     "output_type": "execute_result"
    }
   ],
   "source": [
    "top_df.groupby('entry')['round_points'].sum().sort_values(ascending=False)"
   ]
  },
  {
   "cell_type": "code",
   "execution_count": 29,
   "metadata": {
    "ExecuteTime": {
     "end_time": "2019-08-24T13:19:22.730664Z",
     "start_time": "2019-08-24T13:19:22.707608Z"
    },
    "hidden": true
   },
   "outputs": [
    {
     "data": {
      "text/plain": [
       "count    50.000000\n",
       "mean      0.479935\n",
       "std       0.014633\n",
       "min       0.447348\n",
       "25%       0.472576\n",
       "50%       0.480535\n",
       "75%       0.489179\n",
       "max       0.514341\n",
       "Name: round_points, dtype: float64"
      ]
     },
     "execution_count": 29,
     "metadata": {},
     "output_type": "execute_result"
    }
   ],
   "source": [
    "(top_df_test_overall/top_df_overall).describe()"
   ]
  },
  {
   "cell_type": "markdown",
   "metadata": {},
   "source": [
    "# Benchmarking"
   ]
  },
  {
   "cell_type": "code",
   "execution_count": 30,
   "metadata": {
    "ExecuteTime": {
     "end_time": "2019-08-24T13:19:22.750701Z",
     "start_time": "2019-08-24T13:19:22.733028Z"
    }
   },
   "outputs": [
    {
     "data": {
      "text/plain": [
       "1227.74"
      ]
     },
     "execution_count": 30,
     "metadata": {},
     "output_type": "execute_result"
    }
   ],
   "source": [
    "# mean points of top 50 managers\n",
    "\n",
    "top_df_test_overall.mean()"
   ]
  },
  {
   "cell_type": "code",
   "execution_count": 31,
   "metadata": {
    "ExecuteTime": {
     "end_time": "2019-08-24T13:19:22.775338Z",
     "start_time": "2019-08-24T13:19:22.752841Z"
    }
   },
   "outputs": [
    {
     "data": {
      "text/plain": [
       "1327"
      ]
     },
     "execution_count": 31,
     "metadata": {},
     "output_type": "execute_result"
    }
   ],
   "source": [
    "# best points of top 50 managers\n",
    "\n",
    "top_df_test_overall.max()"
   ]
  },
  {
   "cell_type": "code",
   "execution_count": 32,
   "metadata": {
    "ExecuteTime": {
     "end_time": "2019-08-24T13:19:22.800529Z",
     "start_time": "2019-08-24T13:19:22.777297Z"
    }
   },
   "outputs": [
    {
     "data": {
      "text/plain": [
       "1147"
      ]
     },
     "execution_count": 32,
     "metadata": {},
     "output_type": "execute_result"
    }
   ],
   "source": [
    "# worst points of top 50 managers\n",
    "\n",
    "top_df_test_overall.min()"
   ]
  },
  {
   "cell_type": "code",
   "execution_count": 33,
   "metadata": {
    "ExecuteTime": {
     "end_time": "2019-08-24T13:19:22.826093Z",
     "start_time": "2019-08-24T13:19:22.802523Z"
    }
   },
   "outputs": [
    {
     "data": {
      "text/plain": [
       "1029"
      ]
     },
     "execution_count": 33,
     "metadata": {},
     "output_type": "execute_result"
    }
   ],
   "source": [
    "# my estimated return\n",
    "\n",
    "round(2144*0.479935)"
   ]
  },
  {
   "cell_type": "code",
   "execution_count": 34,
   "metadata": {
    "ExecuteTime": {
     "end_time": "2019-08-24T13:19:22.851873Z",
     "start_time": "2019-08-24T13:19:22.828563Z"
    }
   },
   "outputs": [
    {
     "data": {
      "text/plain": [
       "920"
      ]
     },
     "execution_count": 34,
     "metadata": {},
     "output_type": "execute_result"
    }
   ],
   "source": [
    "# average points of all managers\n",
    "\n",
    "entry_df['average_entry_score'].sum()"
   ]
  },
  {
   "cell_type": "code",
   "execution_count": 77,
   "metadata": {
    "ExecuteTime": {
     "end_time": "2019-08-24T14:14:24.744837Z",
     "start_time": "2019-08-24T14:14:24.716848Z"
    }
   },
   "outputs": [
    {
     "data": {
      "text/html": [
       "<div>\n",
       "<style scoped>\n",
       "    .dataframe tbody tr th:only-of-type {\n",
       "        vertical-align: middle;\n",
       "    }\n",
       "\n",
       "    .dataframe tbody tr th {\n",
       "        vertical-align: top;\n",
       "    }\n",
       "\n",
       "    .dataframe thead th {\n",
       "        text-align: right;\n",
       "    }\n",
       "</style>\n",
       "<table border=\"1\" class=\"dataframe\">\n",
       "  <thead>\n",
       "    <tr style=\"text-align: right;\">\n",
       "      <th></th>\n",
       "      <th>rank</th>\n",
       "      <th>round_points</th>\n",
       "    </tr>\n",
       "  </thead>\n",
       "  <tbody>\n",
       "    <tr>\n",
       "      <th>0</th>\n",
       "      <td>1</td>\n",
       "      <td>1327</td>\n",
       "    </tr>\n",
       "    <tr>\n",
       "      <th>1</th>\n",
       "      <td>2</td>\n",
       "      <td>1321</td>\n",
       "    </tr>\n",
       "    <tr>\n",
       "      <th>2</th>\n",
       "      <td>3</td>\n",
       "      <td>1300</td>\n",
       "    </tr>\n",
       "    <tr>\n",
       "      <th>3</th>\n",
       "      <td>4</td>\n",
       "      <td>1297</td>\n",
       "    </tr>\n",
       "    <tr>\n",
       "      <th>4</th>\n",
       "      <td>5</td>\n",
       "      <td>1288</td>\n",
       "    </tr>\n",
       "  </tbody>\n",
       "</table>\n",
       "</div>"
      ],
      "text/plain": [
       "   rank  round_points\n",
       "0     1          1327\n",
       "1     2          1321\n",
       "2     3          1300\n",
       "3     4          1297\n",
       "4     5          1288"
      ]
     },
     "execution_count": 77,
     "metadata": {},
     "output_type": "execute_result"
    }
   ],
   "source": [
    "top_test_ranking = \\\n",
    "top_df_test_overall.sort_values(ascending=False).reset_index()\n",
    "\n",
    "top_test_ranking['rank'] = top_test_ranking.index + 1\n",
    "top_test_ranking[['rank', 'round_points']].head()"
   ]
  },
  {
   "cell_type": "code",
   "execution_count": 36,
   "metadata": {
    "ExecuteTime": {
     "end_time": "2019-08-24T13:19:22.916523Z",
     "start_time": "2019-08-24T13:19:22.894767Z"
    }
   },
   "outputs": [],
   "source": [
    "lr_points = pd.Series(\n",
    "    [41, 89, 56, 29, 70, 64, 27, 77, 53, 72, 28, 97, 71, 59, 80, 96, 75, 45],\n",
    "    index=range(21, 39))"
   ]
  },
  {
   "cell_type": "code",
   "execution_count": 37,
   "metadata": {
    "ExecuteTime": {
     "end_time": "2019-08-24T13:19:23.329237Z",
     "start_time": "2019-08-24T13:19:22.918953Z"
    }
   },
   "outputs": [
    {
     "data": {
      "image/png": "[encoded data removed]",
      "text/plain": [
       "<Figure size 720x576 with 1 Axes>"
      ]
     },
     "metadata": {
      "needs_background": "light"
     },
     "output_type": "display_data"
    }
   ],
   "source": [
    "plt.figure(figsize=(10, 8))\n",
    "plt.plot(top_df_test.groupby('event')['round_points'].max())\n",
    "plt.plot(top_df_test.groupby('event')['round_points'].median())\n",
    "plt.plot(lr_points)\n",
    "plt.plot()\n",
    "plt.xlim(21, 38)\n",
    "plt.ylim(0, 150)\n",
    "plt.show()"
   ]
  },
  {
   "cell_type": "code",
   "execution_count": 56,
   "metadata": {
    "ExecuteTime": {
     "end_time": "2019-08-24T14:04:05.507818Z",
     "start_time": "2019-08-24T14:04:05.482977Z"
    }
   },
   "outputs": [],
   "source": [
    "standings_df['total_points_evaluation'] = standings_df['total_points']*0.479935"
   ]
  },
  {
   "cell_type": "code",
   "execution_count": 87,
   "metadata": {
    "ExecuteTime": {
     "end_time": "2019-08-24T14:16:23.781021Z",
     "start_time": "2019-08-24T14:16:23.745231Z"
    }
   },
   "outputs": [
    {
     "data": {
      "text/html": [
       "<div>\n",
       "<style scoped>\n",
       "    .dataframe tbody tr th:only-of-type {\n",
       "        vertical-align: middle;\n",
       "    }\n",
       "\n",
       "    .dataframe tbody tr th {\n",
       "        vertical-align: top;\n",
       "    }\n",
       "\n",
       "    .dataframe thead th {\n",
       "        text-align: right;\n",
       "    }\n",
       "</style>\n",
       "<table border=\"1\" class=\"dataframe\">\n",
       "  <thead>\n",
       "    <tr style=\"text-align: right;\">\n",
       "      <th></th>\n",
       "      <th>rank</th>\n",
       "      <th>total_points_evaluation</th>\n",
       "    </tr>\n",
       "  </thead>\n",
       "  <tbody>\n",
       "    <tr>\n",
       "      <th>0</th>\n",
       "      <td>1</td>\n",
       "      <td>1327.000000</td>\n",
       "    </tr>\n",
       "    <tr>\n",
       "      <th>1</th>\n",
       "      <td>2</td>\n",
       "      <td>1321.000000</td>\n",
       "    </tr>\n",
       "    <tr>\n",
       "      <th>2</th>\n",
       "      <td>3</td>\n",
       "      <td>1300.000000</td>\n",
       "    </tr>\n",
       "    <tr>\n",
       "      <th>3</th>\n",
       "      <td>4</td>\n",
       "      <td>1297.000000</td>\n",
       "    </tr>\n",
       "    <tr>\n",
       "      <th>4</th>\n",
       "      <td>5</td>\n",
       "      <td>1288.000000</td>\n",
       "    </tr>\n",
       "    <tr>\n",
       "      <th>5</th>\n",
       "      <td>6</td>\n",
       "      <td>1280.000000</td>\n",
       "    </tr>\n",
       "    <tr>\n",
       "      <th>6</th>\n",
       "      <td>7</td>\n",
       "      <td>1278.000000</td>\n",
       "    </tr>\n",
       "    <tr>\n",
       "      <th>7</th>\n",
       "      <td>8</td>\n",
       "      <td>1270.000000</td>\n",
       "    </tr>\n",
       "    <tr>\n",
       "      <th>8</th>\n",
       "      <td>9</td>\n",
       "      <td>1265.000000</td>\n",
       "    </tr>\n",
       "    <tr>\n",
       "      <th>9</th>\n",
       "      <td>10</td>\n",
       "      <td>1258.000000</td>\n",
       "    </tr>\n",
       "    <tr>\n",
       "      <th>10</th>\n",
       "      <td>13</td>\n",
       "      <td>1232.473080</td>\n",
       "    </tr>\n",
       "    <tr>\n",
       "      <th>11</th>\n",
       "      <td>71</td>\n",
       "      <td>1213.755615</td>\n",
       "    </tr>\n",
       "    <tr>\n",
       "      <th>12</th>\n",
       "      <td>81</td>\n",
       "      <td>1213.275680</td>\n",
       "    </tr>\n",
       "    <tr>\n",
       "      <th>13</th>\n",
       "      <td>141</td>\n",
       "      <td>1207.516460</td>\n",
       "    </tr>\n",
       "    <tr>\n",
       "      <th>14</th>\n",
       "      <td>161</td>\n",
       "      <td>1206.076655</td>\n",
       "    </tr>\n",
       "    <tr>\n",
       "      <th>15</th>\n",
       "      <td>173</td>\n",
       "      <td>1205.116785</td>\n",
       "    </tr>\n",
       "    <tr>\n",
       "      <th>16</th>\n",
       "      <td>228</td>\n",
       "      <td>1201.757240</td>\n",
       "    </tr>\n",
       "    <tr>\n",
       "      <th>17</th>\n",
       "      <td>234</td>\n",
       "      <td>1201.277305</td>\n",
       "    </tr>\n",
       "    <tr>\n",
       "      <th>18</th>\n",
       "      <td>244</td>\n",
       "      <td>1200.797370</td>\n",
       "    </tr>\n",
       "    <tr>\n",
       "      <th>19</th>\n",
       "      <td>317</td>\n",
       "      <td>1197.437825</td>\n",
       "    </tr>\n",
       "  </tbody>\n",
       "</table>\n",
       "</div>"
      ],
      "text/plain": [
       "    rank  total_points_evaluation\n",
       "0      1              1327.000000\n",
       "1      2              1321.000000\n",
       "2      3              1300.000000\n",
       "3      4              1297.000000\n",
       "4      5              1288.000000\n",
       "5      6              1280.000000\n",
       "6      7              1278.000000\n",
       "7      8              1270.000000\n",
       "8      9              1265.000000\n",
       "9     10              1258.000000\n",
       "10    13              1232.473080\n",
       "11    71              1213.755615\n",
       "12    81              1213.275680\n",
       "13   141              1207.516460\n",
       "14   161              1206.076655\n",
       "15   173              1205.116785\n",
       "16   228              1201.757240\n",
       "17   234              1201.277305\n",
       "18   244              1200.797370\n",
       "19   317              1197.437825"
      ]
     },
     "execution_count": 87,
     "metadata": {},
     "output_type": "execute_result"
    }
   ],
   "source": [
    "top_test_ranking['total_points_evaluation'] = top_test_ranking['round_points']\n",
    "\n",
    "all_standings_df = \\\n",
    "pd.concat([\n",
    "    standings_df[['rank', 'total_points_evaluation']],\n",
    "    top_test_ranking[['rank', 'total_points_evaluation']].head(10) \n",
    "]).groupby('rank')[['total_points_evaluation']].max().reset_index().sort_values('rank')\n",
    "\n",
    "all_standings_df.head(20)"
   ]
  },
  {
   "cell_type": "code",
   "execution_count": 95,
   "metadata": {
    "ExecuteTime": {
     "end_time": "2019-08-24T14:19:07.485043Z",
     "start_time": "2019-08-24T14:19:07.102227Z"
    }
   },
   "outputs": [
    {
     "data": {
      "image/png": "[encoded data removed]",
      "text/plain": [
       "<Figure size 720x576 with 1 Axes>"
      ]
     },
     "metadata": {
      "needs_background": "light"
     },
     "output_type": "display_data"
    }
   ],
   "source": [
    "plt.figure(figsize=(10, 8))\n",
    "plt.plot(\n",
    "    all_standings_df['total_points_evaluation'],\n",
    "    all_standings_df['rank']\n",
    ")\n",
    "plt.grid()\n",
    "plt.ylim(1, 100000)\n",
    "plt.xlim(1080, 1325)\n",
    "plt.ylabel('Ranking')\n",
    "plt.xlabel('Points')\n",
    "plt.title('Ranking against points for top 100,000 managers')\n",
    "plt.show()"
   ]
  },
  {
   "cell_type": "code",
   "execution_count": 104,
   "metadata": {
    "ExecuteTime": {
     "end_time": "2019-08-24T14:23:48.576712Z",
     "start_time": "2019-08-24T14:23:48.539861Z"
    }
   },
   "outputs": [
    {
     "data": {
      "text/html": [
       "<div>\n",
       "<style scoped>\n",
       "    .dataframe tbody tr th:only-of-type {\n",
       "        vertical-align: middle;\n",
       "    }\n",
       "\n",
       "    .dataframe tbody tr th {\n",
       "        vertical-align: top;\n",
       "    }\n",
       "\n",
       "    .dataframe thead th {\n",
       "        text-align: right;\n",
       "    }\n",
       "</style>\n",
       "<table border=\"1\" class=\"dataframe\">\n",
       "  <thead>\n",
       "    <tr style=\"text-align: right;\">\n",
       "      <th></th>\n",
       "      <th>rank</th>\n",
       "      <th>total_points_evaluation</th>\n",
       "    </tr>\n",
       "  </thead>\n",
       "  <tbody>\n",
       "    <tr>\n",
       "      <th>1215</th>\n",
       "      <td>56573</td>\n",
       "      <td>1104.810370</td>\n",
       "    </tr>\n",
       "    <tr>\n",
       "      <th>1216</th>\n",
       "      <td>56628</td>\n",
       "      <td>1104.810370</td>\n",
       "    </tr>\n",
       "    <tr>\n",
       "      <th>1217</th>\n",
       "      <td>56673</td>\n",
       "      <td>1104.810370</td>\n",
       "    </tr>\n",
       "    <tr>\n",
       "      <th>1218</th>\n",
       "      <td>56721</td>\n",
       "      <td>1104.810370</td>\n",
       "    </tr>\n",
       "    <tr>\n",
       "      <th>1219</th>\n",
       "      <td>56780</td>\n",
       "      <td>1104.810370</td>\n",
       "    </tr>\n",
       "    <tr>\n",
       "      <th>1220</th>\n",
       "      <td>56913</td>\n",
       "      <td>1104.810370</td>\n",
       "    </tr>\n",
       "    <tr>\n",
       "      <th>1221</th>\n",
       "      <td>57083</td>\n",
       "      <td>1104.810370</td>\n",
       "    </tr>\n",
       "    <tr>\n",
       "      <th>1222</th>\n",
       "      <td>57128</td>\n",
       "      <td>1104.810370</td>\n",
       "    </tr>\n",
       "    <tr>\n",
       "      <th>1223</th>\n",
       "      <td>57218</td>\n",
       "      <td>1104.810370</td>\n",
       "    </tr>\n",
       "    <tr>\n",
       "      <th>1224</th>\n",
       "      <td>57243</td>\n",
       "      <td>1104.810370</td>\n",
       "    </tr>\n",
       "    <tr>\n",
       "      <th>1225</th>\n",
       "      <td>57341</td>\n",
       "      <td>1104.330435</td>\n",
       "    </tr>\n",
       "    <tr>\n",
       "      <th>1226</th>\n",
       "      <td>57355</td>\n",
       "      <td>1104.330435</td>\n",
       "    </tr>\n",
       "    <tr>\n",
       "      <th>1227</th>\n",
       "      <td>57479</td>\n",
       "      <td>1104.330435</td>\n",
       "    </tr>\n",
       "    <tr>\n",
       "      <th>1228</th>\n",
       "      <td>57526</td>\n",
       "      <td>1104.330435</td>\n",
       "    </tr>\n",
       "    <tr>\n",
       "      <th>1229</th>\n",
       "      <td>57580</td>\n",
       "      <td>1104.330435</td>\n",
       "    </tr>\n",
       "    <tr>\n",
       "      <th>1230</th>\n",
       "      <td>57631</td>\n",
       "      <td>1104.330435</td>\n",
       "    </tr>\n",
       "    <tr>\n",
       "      <th>1231</th>\n",
       "      <td>57722</td>\n",
       "      <td>1104.330435</td>\n",
       "    </tr>\n",
       "    <tr>\n",
       "      <th>1232</th>\n",
       "      <td>57786</td>\n",
       "      <td>1104.330435</td>\n",
       "    </tr>\n",
       "    <tr>\n",
       "      <th>1233</th>\n",
       "      <td>57834</td>\n",
       "      <td>1104.330435</td>\n",
       "    </tr>\n",
       "    <tr>\n",
       "      <th>1234</th>\n",
       "      <td>57890</td>\n",
       "      <td>1104.330435</td>\n",
       "    </tr>\n",
       "    <tr>\n",
       "      <th>1235</th>\n",
       "      <td>57977</td>\n",
       "      <td>1104.330435</td>\n",
       "    </tr>\n",
       "    <tr>\n",
       "      <th>1236</th>\n",
       "      <td>58019</td>\n",
       "      <td>1104.330435</td>\n",
       "    </tr>\n",
       "    <tr>\n",
       "      <th>1237</th>\n",
       "      <td>58068</td>\n",
       "      <td>1104.330435</td>\n",
       "    </tr>\n",
       "    <tr>\n",
       "      <th>1238</th>\n",
       "      <td>58097</td>\n",
       "      <td>1104.330435</td>\n",
       "    </tr>\n",
       "    <tr>\n",
       "      <th>1239</th>\n",
       "      <td>58189</td>\n",
       "      <td>1104.330435</td>\n",
       "    </tr>\n",
       "    <tr>\n",
       "      <th>1240</th>\n",
       "      <td>58224</td>\n",
       "      <td>1104.330435</td>\n",
       "    </tr>\n",
       "    <tr>\n",
       "      <th>1241</th>\n",
       "      <td>58280</td>\n",
       "      <td>1104.330435</td>\n",
       "    </tr>\n",
       "    <tr>\n",
       "      <th>1242</th>\n",
       "      <td>58288</td>\n",
       "      <td>1104.330435</td>\n",
       "    </tr>\n",
       "    <tr>\n",
       "      <th>1243</th>\n",
       "      <td>58319</td>\n",
       "      <td>1104.330435</td>\n",
       "    </tr>\n",
       "    <tr>\n",
       "      <th>1244</th>\n",
       "      <td>58368</td>\n",
       "      <td>1103.850500</td>\n",
       "    </tr>\n",
       "    <tr>\n",
       "      <th>...</th>\n",
       "      <td>...</td>\n",
       "      <td>...</td>\n",
       "    </tr>\n",
       "    <tr>\n",
       "      <th>1285</th>\n",
       "      <td>60570</td>\n",
       "      <td>1102.890630</td>\n",
       "    </tr>\n",
       "    <tr>\n",
       "      <th>1286</th>\n",
       "      <td>60614</td>\n",
       "      <td>1102.890630</td>\n",
       "    </tr>\n",
       "    <tr>\n",
       "      <th>1287</th>\n",
       "      <td>60645</td>\n",
       "      <td>1102.890630</td>\n",
       "    </tr>\n",
       "    <tr>\n",
       "      <th>1288</th>\n",
       "      <td>60675</td>\n",
       "      <td>1102.890630</td>\n",
       "    </tr>\n",
       "    <tr>\n",
       "      <th>1289</th>\n",
       "      <td>60723</td>\n",
       "      <td>1102.890630</td>\n",
       "    </tr>\n",
       "    <tr>\n",
       "      <th>1290</th>\n",
       "      <td>60779</td>\n",
       "      <td>1102.890630</td>\n",
       "    </tr>\n",
       "    <tr>\n",
       "      <th>1291</th>\n",
       "      <td>60831</td>\n",
       "      <td>1102.890630</td>\n",
       "    </tr>\n",
       "    <tr>\n",
       "      <th>1292</th>\n",
       "      <td>60925</td>\n",
       "      <td>1102.890630</td>\n",
       "    </tr>\n",
       "    <tr>\n",
       "      <th>1293</th>\n",
       "      <td>60975</td>\n",
       "      <td>1102.890630</td>\n",
       "    </tr>\n",
       "    <tr>\n",
       "      <th>1294</th>\n",
       "      <td>61074</td>\n",
       "      <td>1102.890630</td>\n",
       "    </tr>\n",
       "    <tr>\n",
       "      <th>1295</th>\n",
       "      <td>61117</td>\n",
       "      <td>1102.890630</td>\n",
       "    </tr>\n",
       "    <tr>\n",
       "      <th>1296</th>\n",
       "      <td>61154</td>\n",
       "      <td>1102.890630</td>\n",
       "    </tr>\n",
       "    <tr>\n",
       "      <th>1297</th>\n",
       "      <td>61199</td>\n",
       "      <td>1102.890630</td>\n",
       "    </tr>\n",
       "    <tr>\n",
       "      <th>1298</th>\n",
       "      <td>61260</td>\n",
       "      <td>1102.890630</td>\n",
       "    </tr>\n",
       "    <tr>\n",
       "      <th>1299</th>\n",
       "      <td>61382</td>\n",
       "      <td>1102.890630</td>\n",
       "    </tr>\n",
       "    <tr>\n",
       "      <th>1300</th>\n",
       "      <td>61440</td>\n",
       "      <td>1102.890630</td>\n",
       "    </tr>\n",
       "    <tr>\n",
       "      <th>1301</th>\n",
       "      <td>61459</td>\n",
       "      <td>1102.890630</td>\n",
       "    </tr>\n",
       "    <tr>\n",
       "      <th>1302</th>\n",
       "      <td>61478</td>\n",
       "      <td>1102.890630</td>\n",
       "    </tr>\n",
       "    <tr>\n",
       "      <th>1303</th>\n",
       "      <td>61500</td>\n",
       "      <td>1102.890630</td>\n",
       "    </tr>\n",
       "    <tr>\n",
       "      <th>1304</th>\n",
       "      <td>61512</td>\n",
       "      <td>1102.890630</td>\n",
       "    </tr>\n",
       "    <tr>\n",
       "      <th>1305</th>\n",
       "      <td>61515</td>\n",
       "      <td>1102.890630</td>\n",
       "    </tr>\n",
       "    <tr>\n",
       "      <th>1306</th>\n",
       "      <td>61539</td>\n",
       "      <td>1102.410695</td>\n",
       "    </tr>\n",
       "    <tr>\n",
       "      <th>1307</th>\n",
       "      <td>61550</td>\n",
       "      <td>1102.410695</td>\n",
       "    </tr>\n",
       "    <tr>\n",
       "      <th>1308</th>\n",
       "      <td>61623</td>\n",
       "      <td>1102.410695</td>\n",
       "    </tr>\n",
       "    <tr>\n",
       "      <th>1309</th>\n",
       "      <td>61651</td>\n",
       "      <td>1102.410695</td>\n",
       "    </tr>\n",
       "    <tr>\n",
       "      <th>1310</th>\n",
       "      <td>61728</td>\n",
       "      <td>1102.410695</td>\n",
       "    </tr>\n",
       "    <tr>\n",
       "      <th>1311</th>\n",
       "      <td>61782</td>\n",
       "      <td>1102.410695</td>\n",
       "    </tr>\n",
       "    <tr>\n",
       "      <th>1312</th>\n",
       "      <td>61875</td>\n",
       "      <td>1102.410695</td>\n",
       "    </tr>\n",
       "    <tr>\n",
       "      <th>1313</th>\n",
       "      <td>61925</td>\n",
       "      <td>1102.410695</td>\n",
       "    </tr>\n",
       "    <tr>\n",
       "      <th>1314</th>\n",
       "      <td>61978</td>\n",
       "      <td>1102.410695</td>\n",
       "    </tr>\n",
       "  </tbody>\n",
       "</table>\n",
       "<p>100 rows × 2 columns</p>\n",
       "</div>"
      ],
      "text/plain": [
       "       rank  total_points_evaluation\n",
       "1215  56573              1104.810370\n",
       "1216  56628              1104.810370\n",
       "1217  56673              1104.810370\n",
       "1218  56721              1104.810370\n",
       "1219  56780              1104.810370\n",
       "1220  56913              1104.810370\n",
       "1221  57083              1104.810370\n",
       "1222  57128              1104.810370\n",
       "1223  57218              1104.810370\n",
       "1224  57243              1104.810370\n",
       "1225  57341              1104.330435\n",
       "1226  57355              1104.330435\n",
       "1227  57479              1104.330435\n",
       "1228  57526              1104.330435\n",
       "1229  57580              1104.330435\n",
       "1230  57631              1104.330435\n",
       "1231  57722              1104.330435\n",
       "1232  57786              1104.330435\n",
       "1233  57834              1104.330435\n",
       "1234  57890              1104.330435\n",
       "1235  57977              1104.330435\n",
       "1236  58019              1104.330435\n",
       "1237  58068              1104.330435\n",
       "1238  58097              1104.330435\n",
       "1239  58189              1104.330435\n",
       "1240  58224              1104.330435\n",
       "1241  58280              1104.330435\n",
       "1242  58288              1104.330435\n",
       "1243  58319              1104.330435\n",
       "1244  58368              1103.850500\n",
       "...     ...                      ...\n",
       "1285  60570              1102.890630\n",
       "1286  60614              1102.890630\n",
       "1287  60645              1102.890630\n",
       "1288  60675              1102.890630\n",
       "1289  60723              1102.890630\n",
       "1290  60779              1102.890630\n",
       "1291  60831              1102.890630\n",
       "1292  60925              1102.890630\n",
       "1293  60975              1102.890630\n",
       "1294  61074              1102.890630\n",
       "1295  61117              1102.890630\n",
       "1296  61154              1102.890630\n",
       "1297  61199              1102.890630\n",
       "1298  61260              1102.890630\n",
       "1299  61382              1102.890630\n",
       "1300  61440              1102.890630\n",
       "1301  61459              1102.890630\n",
       "1302  61478              1102.890630\n",
       "1303  61500              1102.890630\n",
       "1304  61512              1102.890630\n",
       "1305  61515              1102.890630\n",
       "1306  61539              1102.410695\n",
       "1307  61550              1102.410695\n",
       "1308  61623              1102.410695\n",
       "1309  61651              1102.410695\n",
       "1310  61728              1102.410695\n",
       "1311  61782              1102.410695\n",
       "1312  61875              1102.410695\n",
       "1313  61925              1102.410695\n",
       "1314  61978              1102.410695\n",
       "\n",
       "[100 rows x 2 columns]"
      ]
     },
     "execution_count": 104,
     "metadata": {},
     "output_type": "execute_result"
    }
   ],
   "source": [
    "all_standings_df[all_standings_df['rank'] < 62000][['rank', 'total_points_evaluation']].sort_values('rank').tail(100)"
   ]
  },
  {
   "cell_type": "code",
   "execution_count": 126,
   "metadata": {
    "ExecuteTime": {
     "end_time": "2019-08-25T08:34:19.698353Z",
     "start_time": "2019-08-25T08:34:19.672088Z"
    }
   },
   "outputs": [
    {
     "data": {
      "text/html": [
       "<div>\n",
       "<style scoped>\n",
       "    .dataframe tbody tr th:only-of-type {\n",
       "        vertical-align: middle;\n",
       "    }\n",
       "\n",
       "    .dataframe tbody tr th {\n",
       "        vertical-align: top;\n",
       "    }\n",
       "\n",
       "    .dataframe thead th {\n",
       "        text-align: right;\n",
       "    }\n",
       "</style>\n",
       "<table border=\"1\" class=\"dataframe\">\n",
       "  <thead>\n",
       "    <tr style=\"text-align: right;\">\n",
       "      <th></th>\n",
       "      <th>rank</th>\n",
       "      <th>total_points_evaluation</th>\n",
       "    </tr>\n",
       "  </thead>\n",
       "  <tbody>\n",
       "    <tr>\n",
       "      <th>32608</th>\n",
       "      <td>5511225</td>\n",
       "      <td>704.064645</td>\n",
       "    </tr>\n",
       "    <tr>\n",
       "      <th>32609</th>\n",
       "      <td>5511322</td>\n",
       "      <td>704.064645</td>\n",
       "    </tr>\n",
       "    <tr>\n",
       "      <th>32610</th>\n",
       "      <td>5511369</td>\n",
       "      <td>703.584710</td>\n",
       "    </tr>\n",
       "    <tr>\n",
       "      <th>32611</th>\n",
       "      <td>5512429</td>\n",
       "      <td>703.584710</td>\n",
       "    </tr>\n",
       "    <tr>\n",
       "      <th>32612</th>\n",
       "      <td>5512670</td>\n",
       "      <td>703.584710</td>\n",
       "    </tr>\n",
       "    <tr>\n",
       "      <th>32613</th>\n",
       "      <td>5512917</td>\n",
       "      <td>703.584710</td>\n",
       "    </tr>\n",
       "    <tr>\n",
       "      <th>32614</th>\n",
       "      <td>5513009</td>\n",
       "      <td>703.584710</td>\n",
       "    </tr>\n",
       "    <tr>\n",
       "      <th>32615</th>\n",
       "      <td>5513229</td>\n",
       "      <td>703.584710</td>\n",
       "    </tr>\n",
       "    <tr>\n",
       "      <th>32616</th>\n",
       "      <td>5513331</td>\n",
       "      <td>703.584710</td>\n",
       "    </tr>\n",
       "    <tr>\n",
       "      <th>32617</th>\n",
       "      <td>5513335</td>\n",
       "      <td>703.584710</td>\n",
       "    </tr>\n",
       "    <tr>\n",
       "      <th>32618</th>\n",
       "      <td>5513348</td>\n",
       "      <td>703.584710</td>\n",
       "    </tr>\n",
       "    <tr>\n",
       "      <th>32619</th>\n",
       "      <td>5513369</td>\n",
       "      <td>703.104775</td>\n",
       "    </tr>\n",
       "    <tr>\n",
       "      <th>32620</th>\n",
       "      <td>5514425</td>\n",
       "      <td>703.104775</td>\n",
       "    </tr>\n",
       "    <tr>\n",
       "      <th>32621</th>\n",
       "      <td>5514670</td>\n",
       "      <td>703.104775</td>\n",
       "    </tr>\n",
       "    <tr>\n",
       "      <th>32622</th>\n",
       "      <td>5514902</td>\n",
       "      <td>703.104775</td>\n",
       "    </tr>\n",
       "    <tr>\n",
       "      <th>32623</th>\n",
       "      <td>5514995</td>\n",
       "      <td>703.104775</td>\n",
       "    </tr>\n",
       "    <tr>\n",
       "      <th>32624</th>\n",
       "      <td>5515152</td>\n",
       "      <td>703.104775</td>\n",
       "    </tr>\n",
       "    <tr>\n",
       "      <th>32625</th>\n",
       "      <td>5515161</td>\n",
       "      <td>703.104775</td>\n",
       "    </tr>\n",
       "    <tr>\n",
       "      <th>32626</th>\n",
       "      <td>5515247</td>\n",
       "      <td>703.104775</td>\n",
       "    </tr>\n",
       "    <tr>\n",
       "      <th>32627</th>\n",
       "      <td>5515285</td>\n",
       "      <td>703.104775</td>\n",
       "    </tr>\n",
       "  </tbody>\n",
       "</table>\n",
       "</div>"
      ],
      "text/plain": [
       "          rank  total_points_evaluation\n",
       "32608  5511225               704.064645\n",
       "32609  5511322               704.064645\n",
       "32610  5511369               703.584710\n",
       "32611  5512429               703.584710\n",
       "32612  5512670               703.584710\n",
       "32613  5512917               703.584710\n",
       "32614  5513009               703.584710\n",
       "32615  5513229               703.584710\n",
       "32616  5513331               703.584710\n",
       "32617  5513335               703.584710\n",
       "32618  5513348               703.584710\n",
       "32619  5513369               703.104775\n",
       "32620  5514425               703.104775\n",
       "32621  5514670               703.104775\n",
       "32622  5514902               703.104775\n",
       "32623  5514995               703.104775\n",
       "32624  5515152               703.104775\n",
       "32625  5515161               703.104775\n",
       "32626  5515247               703.104775\n",
       "32627  5515285               703.104775"
      ]
     },
     "execution_count": 126,
     "metadata": {},
     "output_type": "execute_result"
    }
   ],
   "source": [
    "all_standings_df[all_standings_df['total_points_evaluation'] >= 703][['rank', 'total_points_evaluation']].tail(20)"
   ]
  },
  {
   "cell_type": "code",
   "execution_count": 127,
   "metadata": {
    "ExecuteTime": {
     "end_time": "2019-08-25T08:36:16.942302Z",
     "start_time": "2019-08-25T08:36:16.930815Z"
    }
   },
   "outputs": [
    {
     "data": {
      "text/plain": [
       "35920    6295605\n",
       "35921    6295623\n",
       "35922    6295694\n",
       "35923    6295738\n",
       "35924    6295790\n",
       "35925    6295962\n",
       "35926    6296011\n",
       "35927    6296140\n",
       "35928    6296250\n",
       "35929    6296297\n",
       "35930    6296350\n",
       "35931    6296433\n",
       "35932    6296489\n",
       "35933    6296518\n",
       "35934    6296553\n",
       "35935    6296557\n",
       "35936    6296568\n",
       "35937    6296627\n",
       "35938    6296636\n",
       "35939    6296648\n",
       "Name: rank, dtype: int64"
      ]
     },
     "execution_count": 127,
     "metadata": {},
     "output_type": "execute_result"
    }
   ],
   "source": [
    "all_standings_df['rank'].tail(20)"
   ]
  },
  {
   "cell_type": "code",
   "execution_count": 114,
   "metadata": {
    "ExecuteTime": {
     "end_time": "2019-08-24T14:31:38.272406Z",
     "start_time": "2019-08-24T14:31:38.266835Z"
    }
   },
   "outputs": [
    {
     "data": {
      "text/plain": [
       "5.0"
      ]
     },
     "execution_count": 114,
     "metadata": {},
     "output_type": "execute_result"
    }
   ],
   "source": [
    "310000.0/6200000*100"
   ]
  },
  {
   "cell_type": "code",
   "execution_count": 45,
   "metadata": {
    "ExecuteTime": {
     "end_time": "2019-08-24T13:19:24.605791Z",
     "start_time": "2019-08-24T13:19:24.572800Z"
    }
   },
   "outputs": [
    {
     "data": {
      "text/plain": [
       "1057.7522222222224"
      ]
     },
     "execution_count": 45,
     "metadata": {},
     "output_type": "execute_result"
    }
   ],
   "source": [
    "# average budget of top 50 managers\n",
    "\n",
    "top_df_test.groupby('entry')['value'].mean().mean()"
   ]
  },
  {
   "cell_type": "code",
   "execution_count": 46,
   "metadata": {
    "ExecuteTime": {
     "end_time": "2019-08-24T13:19:24.634449Z",
     "start_time": "2019-08-24T13:19:24.607808Z"
    }
   },
   "outputs": [
    {
     "data": {
      "text/plain": [
       "count      50.000000\n",
       "mean     1049.500000\n",
       "std        10.715714\n",
       "min      1023.000000\n",
       "25%      1044.000000\n",
       "50%      1048.000000\n",
       "75%      1057.000000\n",
       "max      1073.000000\n",
       "Name: value, dtype: float64"
      ]
     },
     "execution_count": 46,
     "metadata": {},
     "output_type": "execute_result"
    }
   ],
   "source": [
    "top_df_test[top_df_test['event'] == 21]['value'].describe()"
   ]
  },
  {
   "cell_type": "code",
   "execution_count": 47,
   "metadata": {
    "ExecuteTime": {
     "end_time": "2019-08-24T13:19:24.667165Z",
     "start_time": "2019-08-24T13:19:24.636439Z"
    }
   },
   "outputs": [
    {
     "data": {
      "text/plain": [
       "count      50.000000\n",
       "mean     1056.360000\n",
       "std        12.443767\n",
       "min      1018.000000\n",
       "25%      1048.000000\n",
       "50%      1056.500000\n",
       "75%      1063.000000\n",
       "max      1091.000000\n",
       "Name: value, dtype: float64"
      ]
     },
     "execution_count": 47,
     "metadata": {},
     "output_type": "execute_result"
    }
   ],
   "source": [
    "top_df_test[top_df_test['event'] == 38]['value'].describe()"
   ]
  },
  {
   "cell_type": "code",
   "execution_count": 48,
   "metadata": {
    "ExecuteTime": {
     "end_time": "2019-08-24T13:19:24.705478Z",
     "start_time": "2019-08-24T13:19:24.669128Z"
    }
   },
   "outputs": [
    {
     "data": {
      "text/plain": [
       "count     900.000000\n",
       "mean     1057.752222\n",
       "std        13.795977\n",
       "min      1013.000000\n",
       "25%      1048.000000\n",
       "50%      1058.000000\n",
       "75%      1067.000000\n",
       "max      1098.000000\n",
       "Name: value, dtype: float64"
      ]
     },
     "execution_count": 48,
     "metadata": {},
     "output_type": "execute_result"
    }
   ],
   "source": [
    "top_df_test['value'].describe()"
   ]
  }
 ],
 "metadata": {
  "kernelspec": {
   "display_name": "Python 3",
   "language": "python",
   "name": "python3"
  },
  "language_info": {
   "codemirror_mode": {
    "name": "ipython",
    "version": 3
   },
   "file_extension": ".py",
   "mimetype": "text/x-python",
   "name": "python",
   "nbconvert_exporter": "python",
   "pygments_lexer": "ipython3",
   "version": "3.6.7"
  },
  "toc": {
   "nav_menu": {},
   "number_sections": true,
   "sideBar": true,
   "skip_h1_title": false,
   "title_cell": "Table of Contents",
   "title_sidebar": "Contents",
   "toc_cell": false,
   "toc_position": {},
   "toc_section_display": true,
   "toc_window_display": false
  }
 },
 "nbformat": 4,
 "nbformat_minor": 2
}
