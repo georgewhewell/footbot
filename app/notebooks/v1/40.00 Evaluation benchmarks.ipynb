{
 "cells": [
  {
   "cell_type": "markdown",
   "metadata": {
    "ExecuteTime": {
     "end_time": "2019-07-14T14:49:20.220252Z",
     "start_time": "2019-07-14T14:49:20.130438Z"
    }
   },
   "source": [
    "# Set up"
   ]
  },
  {
   "cell_type": "code",
   "execution_count": 5,
   "metadata": {
    "ExecuteTime": {
     "end_time": "2019-07-14T14:51:27.805204Z",
     "start_time": "2019-07-14T14:51:27.799840Z"
    }
   },
   "outputs": [],
   "source": [
    "import pandas as pd\n",
    "import json"
   ]
  },
  {
   "cell_type": "markdown",
   "metadata": {},
   "source": [
    "# Getting data"
   ]
  },
  {
   "cell_type": "code",
   "execution_count": 10,
   "metadata": {
    "ExecuteTime": {
     "end_time": "2019-07-14T14:53:22.964862Z",
     "start_time": "2019-07-14T14:53:22.810816Z"
    }
   },
   "outputs": [],
   "source": [
    "with open('../csvs/top_50_weekly_data.json') as f:\n",
    "    top_data = json.load(f)"
   ]
  },
  {
   "cell_type": "code",
   "execution_count": 17,
   "metadata": {
    "ExecuteTime": {
     "end_time": "2019-07-14T14:56:52.560443Z",
     "start_time": "2019-07-14T14:56:52.498437Z"
    }
   },
   "outputs": [
    {
     "data": {
      "text/html": [
       "<div>\n",
       "<style scoped>\n",
       "    .dataframe tbody tr th:only-of-type {\n",
       "        vertical-align: middle;\n",
       "    }\n",
       "\n",
       "    .dataframe tbody tr th {\n",
       "        vertical-align: top;\n",
       "    }\n",
       "\n",
       "    .dataframe thead th {\n",
       "        text-align: right;\n",
       "    }\n",
       "</style>\n",
       "<table border=\"1\" class=\"dataframe\">\n",
       "  <thead>\n",
       "    <tr style=\"text-align: right;\">\n",
       "      <th></th>\n",
       "      <th>bank</th>\n",
       "      <th>entry</th>\n",
       "      <th>event</th>\n",
       "      <th>event_transfers</th>\n",
       "      <th>event_transfers_cost</th>\n",
       "      <th>id</th>\n",
       "      <th>movement</th>\n",
       "      <th>overall_rank</th>\n",
       "      <th>points</th>\n",
       "      <th>points_on_bench</th>\n",
       "      <th>rank</th>\n",
       "      <th>rank_sort</th>\n",
       "      <th>targets</th>\n",
       "      <th>total_points</th>\n",
       "      <th>value</th>\n",
       "    </tr>\n",
       "  </thead>\n",
       "  <tbody>\n",
       "    <tr>\n",
       "      <th>0</th>\n",
       "      <td>0</td>\n",
       "      <td>107827</td>\n",
       "      <td>1</td>\n",
       "      <td>0</td>\n",
       "      <td>0</td>\n",
       "      <td>107827</td>\n",
       "      <td>new</td>\n",
       "      <td>405969</td>\n",
       "      <td>75</td>\n",
       "      <td>14</td>\n",
       "      <td>405969</td>\n",
       "      <td>407825</td>\n",
       "      <td>None</td>\n",
       "      <td>75</td>\n",
       "      <td>1000</td>\n",
       "    </tr>\n",
       "    <tr>\n",
       "      <th>1</th>\n",
       "      <td>0</td>\n",
       "      <td>107827</td>\n",
       "      <td>2</td>\n",
       "      <td>1</td>\n",
       "      <td>0</td>\n",
       "      <td>4664139</td>\n",
       "      <td>new</td>\n",
       "      <td>80980</td>\n",
       "      <td>99</td>\n",
       "      <td>1</td>\n",
       "      <td>66206</td>\n",
       "      <td>66330</td>\n",
       "      <td>None</td>\n",
       "      <td>174</td>\n",
       "      <td>1004</td>\n",
       "    </tr>\n",
       "    <tr>\n",
       "      <th>2</th>\n",
       "      <td>5</td>\n",
       "      <td>107827</td>\n",
       "      <td>3</td>\n",
       "      <td>1</td>\n",
       "      <td>0</td>\n",
       "      <td>9773353</td>\n",
       "      <td>new</td>\n",
       "      <td>116116</td>\n",
       "      <td>46</td>\n",
       "      <td>5</td>\n",
       "      <td>3347696</td>\n",
       "      <td>3348830</td>\n",
       "      <td>None</td>\n",
       "      <td>220</td>\n",
       "      <td>1011</td>\n",
       "    </tr>\n",
       "    <tr>\n",
       "      <th>3</th>\n",
       "      <td>18</td>\n",
       "      <td>107827</td>\n",
       "      <td>4</td>\n",
       "      <td>2</td>\n",
       "      <td>4</td>\n",
       "      <td>15147223</td>\n",
       "      <td>new</td>\n",
       "      <td>55041</td>\n",
       "      <td>65</td>\n",
       "      <td>17</td>\n",
       "      <td>220533</td>\n",
       "      <td>220740</td>\n",
       "      <td>None</td>\n",
       "      <td>281</td>\n",
       "      <td>1017</td>\n",
       "    </tr>\n",
       "    <tr>\n",
       "      <th>4</th>\n",
       "      <td>18</td>\n",
       "      <td>107827</td>\n",
       "      <td>5</td>\n",
       "      <td>0</td>\n",
       "      <td>0</td>\n",
       "      <td>20652163</td>\n",
       "      <td>new</td>\n",
       "      <td>2687</td>\n",
       "      <td>98</td>\n",
       "      <td>11</td>\n",
       "      <td>11172</td>\n",
       "      <td>11215</td>\n",
       "      <td>None</td>\n",
       "      <td>379</td>\n",
       "      <td>1023</td>\n",
       "    </tr>\n",
       "  </tbody>\n",
       "</table>\n",
       "</div>"
      ],
      "text/plain": [
       "   bank   entry  event  event_transfers  event_transfers_cost        id  \\\n",
       "0     0  107827      1                0                     0    107827   \n",
       "1     0  107827      2                1                     0   4664139   \n",
       "2     5  107827      3                1                     0   9773353   \n",
       "3    18  107827      4                2                     4  15147223   \n",
       "4    18  107827      5                0                     0  20652163   \n",
       "\n",
       "  movement  overall_rank  points  points_on_bench     rank  rank_sort targets  \\\n",
       "0      new        405969      75               14   405969     407825    None   \n",
       "1      new         80980      99                1    66206      66330    None   \n",
       "2      new        116116      46                5  3347696    3348830    None   \n",
       "3      new         55041      65               17   220533     220740    None   \n",
       "4      new          2687      98               11    11172      11215    None   \n",
       "\n",
       "   total_points  value  \n",
       "0            75   1000  \n",
       "1           174   1004  \n",
       "2           220   1011  \n",
       "3           281   1017  \n",
       "4           379   1023  "
      ]
     },
     "execution_count": 17,
     "metadata": {},
     "output_type": "execute_result"
    }
   ],
   "source": [
    "top_df = pd.DataFrame([i['entry_history'] for i in top_data])\n",
    "top_df.head()"
   ]
  },
  {
   "cell_type": "code",
   "execution_count": 51,
   "metadata": {
    "ExecuteTime": {
     "end_time": "2019-07-15T09:03:57.011303Z",
     "start_time": "2019-07-15T09:03:57.000173Z"
    }
   },
   "outputs": [],
   "source": [
    "top_entry = top_df[(top_df['event'] == 38)\n",
    "                   & (top_df['overall_rank'] == 1)]['entry'].iloc[0]"
   ]
  },
  {
   "cell_type": "code",
   "execution_count": 52,
   "metadata": {
    "ExecuteTime": {
     "end_time": "2019-07-15T09:03:59.415692Z",
     "start_time": "2019-07-15T09:03:59.401944Z"
    }
   },
   "outputs": [],
   "source": [
    "top_df_test = top_df.copy()\n",
    "top_df_test = top_df_test[top_df_test['event'] > 20]"
   ]
  },
  {
   "cell_type": "code",
   "execution_count": 53,
   "metadata": {
    "ExecuteTime": {
     "end_time": "2019-07-15T09:04:00.773950Z",
     "start_time": "2019-07-15T09:04:00.762029Z"
    }
   },
   "outputs": [
    {
     "data": {
      "text/plain": [
       "1242.54"
      ]
     },
     "execution_count": 53,
     "metadata": {},
     "output_type": "execute_result"
    }
   ],
   "source": [
    "top_df_test.groupby('entry')['points'].sum().mean()"
   ]
  },
  {
   "cell_type": "code",
   "execution_count": 58,
   "metadata": {
    "ExecuteTime": {
     "end_time": "2019-07-15T09:04:19.601572Z",
     "start_time": "2019-07-15T09:04:19.588154Z"
    }
   },
   "outputs": [
    {
     "data": {
      "text/plain": [
       "1347"
      ]
     },
     "execution_count": 58,
     "metadata": {},
     "output_type": "execute_result"
    }
   ],
   "source": [
    "top_df_test.groupby('entry')['points'].sum().max()"
   ]
  },
  {
   "cell_type": "code",
   "execution_count": 54,
   "metadata": {
    "ExecuteTime": {
     "end_time": "2019-07-15T09:04:01.339429Z",
     "start_time": "2019-07-15T09:04:01.330229Z"
    }
   },
   "outputs": [
    {
     "data": {
      "text/plain": [
       "1341"
      ]
     },
     "execution_count": 54,
     "metadata": {},
     "output_type": "execute_result"
    }
   ],
   "source": [
    "top_entry_df_test = top_df_test.copy()\n",
    "top_entry_df_test = top_entry_df_test[top_entry_df_test['entry'] == top_entry]\n",
    "\n",
    "top_entry_df_test['points'].sum()"
   ]
  },
  {
   "cell_type": "code",
   "execution_count": 66,
   "metadata": {
    "ExecuteTime": {
     "end_time": "2019-07-15T17:42:58.281688Z",
     "start_time": "2019-07-15T17:42:58.251399Z"
    }
   },
   "outputs": [
    {
     "data": {
      "text/html": [
       "<div>\n",
       "<style scoped>\n",
       "    .dataframe tbody tr th:only-of-type {\n",
       "        vertical-align: middle;\n",
       "    }\n",
       "\n",
       "    .dataframe tbody tr th {\n",
       "        vertical-align: top;\n",
       "    }\n",
       "\n",
       "    .dataframe thead th {\n",
       "        text-align: right;\n",
       "    }\n",
       "</style>\n",
       "<table border=\"1\" class=\"dataframe\">\n",
       "  <thead>\n",
       "    <tr style=\"text-align: right;\">\n",
       "      <th></th>\n",
       "      <th>points</th>\n",
       "    </tr>\n",
       "  </thead>\n",
       "  <tbody>\n",
       "    <tr>\n",
       "      <th>0</th>\n",
       "      <td>1347</td>\n",
       "    </tr>\n",
       "    <tr>\n",
       "      <th>1</th>\n",
       "      <td>1341</td>\n",
       "    </tr>\n",
       "    <tr>\n",
       "      <th>2</th>\n",
       "      <td>1317</td>\n",
       "    </tr>\n",
       "    <tr>\n",
       "      <th>3</th>\n",
       "      <td>1306</td>\n",
       "    </tr>\n",
       "    <tr>\n",
       "      <th>4</th>\n",
       "      <td>1304</td>\n",
       "    </tr>\n",
       "    <tr>\n",
       "      <th>5</th>\n",
       "      <td>1304</td>\n",
       "    </tr>\n",
       "    <tr>\n",
       "      <th>6</th>\n",
       "      <td>1300</td>\n",
       "    </tr>\n",
       "    <tr>\n",
       "      <th>7</th>\n",
       "      <td>1294</td>\n",
       "    </tr>\n",
       "    <tr>\n",
       "      <th>8</th>\n",
       "      <td>1274</td>\n",
       "    </tr>\n",
       "    <tr>\n",
       "      <th>9</th>\n",
       "      <td>1269</td>\n",
       "    </tr>\n",
       "    <tr>\n",
       "      <th>10</th>\n",
       "      <td>1269</td>\n",
       "    </tr>\n",
       "    <tr>\n",
       "      <th>11</th>\n",
       "      <td>1268</td>\n",
       "    </tr>\n",
       "    <tr>\n",
       "      <th>12</th>\n",
       "      <td>1265</td>\n",
       "    </tr>\n",
       "    <tr>\n",
       "      <th>13</th>\n",
       "      <td>1261</td>\n",
       "    </tr>\n",
       "    <tr>\n",
       "      <th>14</th>\n",
       "      <td>1260</td>\n",
       "    </tr>\n",
       "    <tr>\n",
       "      <th>15</th>\n",
       "      <td>1259</td>\n",
       "    </tr>\n",
       "    <tr>\n",
       "      <th>16</th>\n",
       "      <td>1258</td>\n",
       "    </tr>\n",
       "    <tr>\n",
       "      <th>17</th>\n",
       "      <td>1255</td>\n",
       "    </tr>\n",
       "    <tr>\n",
       "      <th>18</th>\n",
       "      <td>1249</td>\n",
       "    </tr>\n",
       "    <tr>\n",
       "      <th>19</th>\n",
       "      <td>1247</td>\n",
       "    </tr>\n",
       "    <tr>\n",
       "      <th>20</th>\n",
       "      <td>1246</td>\n",
       "    </tr>\n",
       "    <tr>\n",
       "      <th>21</th>\n",
       "      <td>1244</td>\n",
       "    </tr>\n",
       "    <tr>\n",
       "      <th>22</th>\n",
       "      <td>1243</td>\n",
       "    </tr>\n",
       "    <tr>\n",
       "      <th>23</th>\n",
       "      <td>1242</td>\n",
       "    </tr>\n",
       "    <tr>\n",
       "      <th>24</th>\n",
       "      <td>1239</td>\n",
       "    </tr>\n",
       "    <tr>\n",
       "      <th>25</th>\n",
       "      <td>1239</td>\n",
       "    </tr>\n",
       "    <tr>\n",
       "      <th>26</th>\n",
       "      <td>1238</td>\n",
       "    </tr>\n",
       "    <tr>\n",
       "      <th>27</th>\n",
       "      <td>1235</td>\n",
       "    </tr>\n",
       "    <tr>\n",
       "      <th>28</th>\n",
       "      <td>1234</td>\n",
       "    </tr>\n",
       "    <tr>\n",
       "      <th>29</th>\n",
       "      <td>1233</td>\n",
       "    </tr>\n",
       "    <tr>\n",
       "      <th>30</th>\n",
       "      <td>1229</td>\n",
       "    </tr>\n",
       "    <tr>\n",
       "      <th>31</th>\n",
       "      <td>1229</td>\n",
       "    </tr>\n",
       "    <tr>\n",
       "      <th>32</th>\n",
       "      <td>1229</td>\n",
       "    </tr>\n",
       "    <tr>\n",
       "      <th>33</th>\n",
       "      <td>1227</td>\n",
       "    </tr>\n",
       "    <tr>\n",
       "      <th>34</th>\n",
       "      <td>1227</td>\n",
       "    </tr>\n",
       "    <tr>\n",
       "      <th>35</th>\n",
       "      <td>1225</td>\n",
       "    </tr>\n",
       "    <tr>\n",
       "      <th>36</th>\n",
       "      <td>1219</td>\n",
       "    </tr>\n",
       "    <tr>\n",
       "      <th>37</th>\n",
       "      <td>1215</td>\n",
       "    </tr>\n",
       "    <tr>\n",
       "      <th>38</th>\n",
       "      <td>1214</td>\n",
       "    </tr>\n",
       "    <tr>\n",
       "      <th>39</th>\n",
       "      <td>1212</td>\n",
       "    </tr>\n",
       "    <tr>\n",
       "      <th>40</th>\n",
       "      <td>1209</td>\n",
       "    </tr>\n",
       "    <tr>\n",
       "      <th>41</th>\n",
       "      <td>1200</td>\n",
       "    </tr>\n",
       "    <tr>\n",
       "      <th>42</th>\n",
       "      <td>1195</td>\n",
       "    </tr>\n",
       "    <tr>\n",
       "      <th>43</th>\n",
       "      <td>1194</td>\n",
       "    </tr>\n",
       "    <tr>\n",
       "      <th>44</th>\n",
       "      <td>1194</td>\n",
       "    </tr>\n",
       "    <tr>\n",
       "      <th>45</th>\n",
       "      <td>1187</td>\n",
       "    </tr>\n",
       "    <tr>\n",
       "      <th>46</th>\n",
       "      <td>1185</td>\n",
       "    </tr>\n",
       "    <tr>\n",
       "      <th>47</th>\n",
       "      <td>1172</td>\n",
       "    </tr>\n",
       "    <tr>\n",
       "      <th>48</th>\n",
       "      <td>1163</td>\n",
       "    </tr>\n",
       "    <tr>\n",
       "      <th>49</th>\n",
       "      <td>1162</td>\n",
       "    </tr>\n",
       "  </tbody>\n",
       "</table>\n",
       "</div>"
      ],
      "text/plain": [
       "    points\n",
       "0     1347\n",
       "1     1341\n",
       "2     1317\n",
       "3     1306\n",
       "4     1304\n",
       "5     1304\n",
       "6     1300\n",
       "7     1294\n",
       "8     1274\n",
       "9     1269\n",
       "10    1269\n",
       "11    1268\n",
       "12    1265\n",
       "13    1261\n",
       "14    1260\n",
       "15    1259\n",
       "16    1258\n",
       "17    1255\n",
       "18    1249\n",
       "19    1247\n",
       "20    1246\n",
       "21    1244\n",
       "22    1243\n",
       "23    1242\n",
       "24    1239\n",
       "25    1239\n",
       "26    1238\n",
       "27    1235\n",
       "28    1234\n",
       "29    1233\n",
       "30    1229\n",
       "31    1229\n",
       "32    1229\n",
       "33    1227\n",
       "34    1227\n",
       "35    1225\n",
       "36    1219\n",
       "37    1215\n",
       "38    1214\n",
       "39    1212\n",
       "40    1209\n",
       "41    1200\n",
       "42    1195\n",
       "43    1194\n",
       "44    1194\n",
       "45    1187\n",
       "46    1185\n",
       "47    1172\n",
       "48    1163\n",
       "49    1162"
      ]
     },
     "execution_count": 66,
     "metadata": {},
     "output_type": "execute_result"
    }
   ],
   "source": [
    "top_df_test.groupby('entry')[['points']].sum().sort_values('points', ascending=False).reset_index(drop=True)"
   ]
  },
  {
   "cell_type": "code",
   "execution_count": 55,
   "metadata": {
    "ExecuteTime": {
     "end_time": "2019-07-15T09:04:01.842968Z",
     "start_time": "2019-07-15T09:04:01.833053Z"
    }
   },
   "outputs": [],
   "source": [
    "entry_df = pd.DataFrame([i['event'] for i in top_data[20:38]])"
   ]
  },
  {
   "cell_type": "code",
   "execution_count": 56,
   "metadata": {
    "ExecuteTime": {
     "end_time": "2019-07-15T09:04:02.319211Z",
     "start_time": "2019-07-15T09:04:02.304723Z"
    }
   },
   "outputs": [
    {
     "data": {
      "text/plain": [
       "920"
      ]
     },
     "execution_count": 56,
     "metadata": {},
     "output_type": "execute_result"
    }
   ],
   "source": [
    "entry_df['average_entry_score'].sum()"
   ]
  },
  {
   "cell_type": "code",
   "execution_count": 57,
   "metadata": {
    "ExecuteTime": {
     "end_time": "2019-07-15T09:04:03.027694Z",
     "start_time": "2019-07-15T09:04:03.018580Z"
    }
   },
   "outputs": [
    {
     "data": {
      "text/plain": [
       "2393"
      ]
     },
     "execution_count": 57,
     "metadata": {},
     "output_type": "execute_result"
    }
   ],
   "source": [
    "entry_df['highest_score'].sum()"
   ]
  },
  {
   "cell_type": "code",
   "execution_count": null,
   "metadata": {},
   "outputs": [],
   "source": []
  },
  {
   "cell_type": "code",
   "execution_count": 59,
   "metadata": {
    "ExecuteTime": {
     "end_time": "2019-07-15T14:39:04.206839Z",
     "start_time": "2019-07-15T14:39:04.193945Z"
    }
   },
   "outputs": [
    {
     "data": {
      "text/plain": [
       "1057.7522222222224"
      ]
     },
     "execution_count": 59,
     "metadata": {},
     "output_type": "execute_result"
    }
   ],
   "source": [
    "top_df_test.groupby('entry')['value'].mean().mean()"
   ]
  },
  {
   "cell_type": "code",
   "execution_count": null,
   "metadata": {},
   "outputs": [],
   "source": []
  }
 ],
 "metadata": {
  "kernelspec": {
   "display_name": "Python 3",
   "language": "python",
   "name": "python3"
  },
  "language_info": {
   "codemirror_mode": {
    "name": "ipython",
    "version": 3
   },
   "file_extension": ".py",
   "mimetype": "text/x-python",
   "name": "python",
   "nbconvert_exporter": "python",
   "pygments_lexer": "ipython3",
   "version": "3.6.7"
  },
  "toc": {
   "nav_menu": {},
   "number_sections": true,
   "sideBar": true,
   "skip_h1_title": false,
   "title_cell": "Table of Contents",
   "title_sidebar": "Contents",
   "toc_cell": false,
   "toc_position": {},
   "toc_section_display": true,
   "toc_window_display": false
  }
 },
 "nbformat": 4,
 "nbformat_minor": 2
}
