{
 "cells": [
  {
   "cell_type": "markdown",
   "metadata": {
    "ExecuteTime": {
     "end_time": "2019-07-14T14:49:20.220252Z",
     "start_time": "2019-07-14T14:49:20.130438Z"
    },
    "heading_collapsed": true
   },
   "source": [
    "# Set up"
   ]
  },
  {
   "cell_type": "code",
   "execution_count": 1,
   "metadata": {
    "ExecuteTime": {
     "end_time": "2019-07-17T05:50:02.173024Z",
     "start_time": "2019-07-17T05:50:01.537668Z"
    },
    "hidden": true
   },
   "outputs": [],
   "source": [
    "import pandas as pd\n",
    "import json\n",
    "import matplotlib.pyplot as plt\n",
    "from matplotlib.ticker import MultipleLocator\n",
    "import numpy as np"
   ]
  },
  {
   "cell_type": "markdown",
   "metadata": {},
   "source": [
    "# Getting data"
   ]
  },
  {
   "cell_type": "code",
   "execution_count": 2,
   "metadata": {
    "ExecuteTime": {
     "end_time": "2019-07-17T05:50:03.377014Z",
     "start_time": "2019-07-17T05:50:03.222321Z"
    }
   },
   "outputs": [],
   "source": [
    "with open('../csvs/top_50_weekly_data.json') as f:\n",
    "    top_data = json.load(f)"
   ]
  },
  {
   "cell_type": "code",
   "execution_count": 3,
   "metadata": {
    "ExecuteTime": {
     "end_time": "2019-07-17T05:50:03.932768Z",
     "start_time": "2019-07-17T05:50:03.870873Z"
    }
   },
   "outputs": [
    {
     "data": {
      "text/html": [
       "<div>\n",
       "<style scoped>\n",
       "    .dataframe tbody tr th:only-of-type {\n",
       "        vertical-align: middle;\n",
       "    }\n",
       "\n",
       "    .dataframe tbody tr th {\n",
       "        vertical-align: top;\n",
       "    }\n",
       "\n",
       "    .dataframe thead th {\n",
       "        text-align: right;\n",
       "    }\n",
       "</style>\n",
       "<table border=\"1\" class=\"dataframe\">\n",
       "  <thead>\n",
       "    <tr style=\"text-align: right;\">\n",
       "      <th></th>\n",
       "      <th>bank</th>\n",
       "      <th>entry</th>\n",
       "      <th>event</th>\n",
       "      <th>event_transfers</th>\n",
       "      <th>event_transfers_cost</th>\n",
       "      <th>id</th>\n",
       "      <th>movement</th>\n",
       "      <th>overall_rank</th>\n",
       "      <th>points</th>\n",
       "      <th>points_on_bench</th>\n",
       "      <th>rank</th>\n",
       "      <th>rank_sort</th>\n",
       "      <th>targets</th>\n",
       "      <th>total_points</th>\n",
       "      <th>value</th>\n",
       "    </tr>\n",
       "  </thead>\n",
       "  <tbody>\n",
       "    <tr>\n",
       "      <th>0</th>\n",
       "      <td>0</td>\n",
       "      <td>107827</td>\n",
       "      <td>1</td>\n",
       "      <td>0</td>\n",
       "      <td>0</td>\n",
       "      <td>107827</td>\n",
       "      <td>new</td>\n",
       "      <td>405969</td>\n",
       "      <td>75</td>\n",
       "      <td>14</td>\n",
       "      <td>405969</td>\n",
       "      <td>407825</td>\n",
       "      <td>None</td>\n",
       "      <td>75</td>\n",
       "      <td>1000</td>\n",
       "    </tr>\n",
       "    <tr>\n",
       "      <th>1</th>\n",
       "      <td>0</td>\n",
       "      <td>107827</td>\n",
       "      <td>2</td>\n",
       "      <td>1</td>\n",
       "      <td>0</td>\n",
       "      <td>4664139</td>\n",
       "      <td>new</td>\n",
       "      <td>80980</td>\n",
       "      <td>99</td>\n",
       "      <td>1</td>\n",
       "      <td>66206</td>\n",
       "      <td>66330</td>\n",
       "      <td>None</td>\n",
       "      <td>174</td>\n",
       "      <td>1004</td>\n",
       "    </tr>\n",
       "    <tr>\n",
       "      <th>2</th>\n",
       "      <td>5</td>\n",
       "      <td>107827</td>\n",
       "      <td>3</td>\n",
       "      <td>1</td>\n",
       "      <td>0</td>\n",
       "      <td>9773353</td>\n",
       "      <td>new</td>\n",
       "      <td>116116</td>\n",
       "      <td>46</td>\n",
       "      <td>5</td>\n",
       "      <td>3347696</td>\n",
       "      <td>3348830</td>\n",
       "      <td>None</td>\n",
       "      <td>220</td>\n",
       "      <td>1011</td>\n",
       "    </tr>\n",
       "    <tr>\n",
       "      <th>3</th>\n",
       "      <td>18</td>\n",
       "      <td>107827</td>\n",
       "      <td>4</td>\n",
       "      <td>2</td>\n",
       "      <td>4</td>\n",
       "      <td>15147223</td>\n",
       "      <td>new</td>\n",
       "      <td>55041</td>\n",
       "      <td>65</td>\n",
       "      <td>17</td>\n",
       "      <td>220533</td>\n",
       "      <td>220740</td>\n",
       "      <td>None</td>\n",
       "      <td>281</td>\n",
       "      <td>1017</td>\n",
       "    </tr>\n",
       "    <tr>\n",
       "      <th>4</th>\n",
       "      <td>18</td>\n",
       "      <td>107827</td>\n",
       "      <td>5</td>\n",
       "      <td>0</td>\n",
       "      <td>0</td>\n",
       "      <td>20652163</td>\n",
       "      <td>new</td>\n",
       "      <td>2687</td>\n",
       "      <td>98</td>\n",
       "      <td>11</td>\n",
       "      <td>11172</td>\n",
       "      <td>11215</td>\n",
       "      <td>None</td>\n",
       "      <td>379</td>\n",
       "      <td>1023</td>\n",
       "    </tr>\n",
       "  </tbody>\n",
       "</table>\n",
       "</div>"
      ],
      "text/plain": [
       "   bank   entry  event  event_transfers  event_transfers_cost        id  \\\n",
       "0     0  107827      1                0                     0    107827   \n",
       "1     0  107827      2                1                     0   4664139   \n",
       "2     5  107827      3                1                     0   9773353   \n",
       "3    18  107827      4                2                     4  15147223   \n",
       "4    18  107827      5                0                     0  20652163   \n",
       "\n",
       "  movement  overall_rank  points  points_on_bench     rank  rank_sort targets  \\\n",
       "0      new        405969      75               14   405969     407825    None   \n",
       "1      new         80980      99                1    66206      66330    None   \n",
       "2      new        116116      46                5  3347696    3348830    None   \n",
       "3      new         55041      65               17   220533     220740    None   \n",
       "4      new          2687      98               11    11172      11215    None   \n",
       "\n",
       "   total_points  value  \n",
       "0            75   1000  \n",
       "1           174   1004  \n",
       "2           220   1011  \n",
       "3           281   1017  \n",
       "4           379   1023  "
      ]
     },
     "execution_count": 3,
     "metadata": {},
     "output_type": "execute_result"
    }
   ],
   "source": [
    "top_df = pd.DataFrame([i['entry_history'] for i in top_data])\n",
    "top_df.head()"
   ]
  },
  {
   "cell_type": "code",
   "execution_count": 4,
   "metadata": {
    "ExecuteTime": {
     "end_time": "2019-07-17T05:50:15.057112Z",
     "start_time": "2019-07-17T05:50:15.043548Z"
    }
   },
   "outputs": [],
   "source": [
    "top_entry = top_df[(top_df['event'] == 38)\n",
    "                   & (top_df['overall_rank'] == 1)]['entry'].iloc[0]"
   ]
  },
  {
   "cell_type": "code",
   "execution_count": 5,
   "metadata": {
    "ExecuteTime": {
     "end_time": "2019-07-17T05:50:18.362550Z",
     "start_time": "2019-07-17T05:50:18.350784Z"
    }
   },
   "outputs": [],
   "source": [
    "top_df_test = top_df.copy()\n",
    "top_df_test = top_df_test[top_df_test['event'] > 20]"
   ]
  },
  {
   "cell_type": "code",
   "execution_count": 22,
   "metadata": {
    "ExecuteTime": {
     "end_time": "2019-07-17T05:54:16.203603Z",
     "start_time": "2019-07-17T05:54:16.192867Z"
    }
   },
   "outputs": [],
   "source": [
    "top_df_test_overall = top_df_test.groupby('entry')['points'].sum()"
   ]
  },
  {
   "cell_type": "code",
   "execution_count": 8,
   "metadata": {
    "ExecuteTime": {
     "end_time": "2019-07-17T05:50:39.073110Z",
     "start_time": "2019-07-17T05:50:39.061251Z"
    }
   },
   "outputs": [],
   "source": [
    "entry_df = pd.DataFrame([i['event'] for i in top_data[20:38]])"
   ]
  },
  {
   "cell_type": "markdown",
   "metadata": {},
   "source": [
    "# Benchmarking"
   ]
  },
  {
   "cell_type": "code",
   "execution_count": 9,
   "metadata": {
    "ExecuteTime": {
     "end_time": "2019-07-17T05:50:41.511429Z",
     "start_time": "2019-07-17T05:50:41.502075Z"
    }
   },
   "outputs": [
    {
     "data": {
      "text/plain": [
       "1242.54"
      ]
     },
     "execution_count": 9,
     "metadata": {},
     "output_type": "execute_result"
    }
   ],
   "source": [
    "# mean points of top 50 managers\n",
    "\n",
    "top_df_test_overall.mean()"
   ]
  },
  {
   "cell_type": "code",
   "execution_count": 10,
   "metadata": {
    "ExecuteTime": {
     "end_time": "2019-07-17T05:50:43.130946Z",
     "start_time": "2019-07-17T05:50:43.122459Z"
    }
   },
   "outputs": [
    {
     "data": {
      "text/plain": [
       "1347"
      ]
     },
     "execution_count": 10,
     "metadata": {},
     "output_type": "execute_result"
    }
   ],
   "source": [
    "# best points of top 50 managers\n",
    "\n",
    "top_df_test_overall.max()"
   ]
  },
  {
   "cell_type": "code",
   "execution_count": 11,
   "metadata": {
    "ExecuteTime": {
     "end_time": "2019-07-17T05:50:44.770890Z",
     "start_time": "2019-07-17T05:50:44.761297Z"
    }
   },
   "outputs": [
    {
     "data": {
      "text/plain": [
       "1162"
      ]
     },
     "execution_count": 11,
     "metadata": {},
     "output_type": "execute_result"
    }
   ],
   "source": [
    "# best points of top 50 managers\n",
    "\n",
    "top_df_test_overall.min()"
   ]
  },
  {
   "cell_type": "code",
   "execution_count": 12,
   "metadata": {
    "ExecuteTime": {
     "end_time": "2019-07-17T05:50:52.249498Z",
     "start_time": "2019-07-17T05:50:52.238859Z"
    }
   },
   "outputs": [
    {
     "data": {
      "text/plain": [
       "920"
      ]
     },
     "execution_count": 12,
     "metadata": {},
     "output_type": "execute_result"
    }
   ],
   "source": [
    "# average points of all managers\n",
    "\n",
    "entry_df['average_entry_score'].sum()"
   ]
  },
  {
   "cell_type": "code",
   "execution_count": null,
   "metadata": {},
   "outputs": [],
   "source": [
    "top_test_ranking = \\\n",
    "top_df_test_overall.sort_values(ascending=False).reset_index()\n",
    "\n",
    "top_test_ranking['rank'] = top_test_ranking.index + 1\n",
    "top_test_ranking[['rank', 'points']]"
   ]
  },
  {
   "cell_type": "code",
   "execution_count": 62,
   "metadata": {
    "ExecuteTime": {
     "end_time": "2019-07-17T06:12:03.540083Z",
     "start_time": "2019-07-17T06:12:03.524099Z"
    }
   },
   "outputs": [],
   "source": [
    "df = top_test_ranking.copy()\n",
    "y = df['points'].values\n",
    "df['intercept'] = 1\n",
    "X = df[['intercept', 'rank']].values\n",
    "b = np.linalg.inv(X.T @ X) @ X.T @ y\n",
    "\n",
    "def calculate_approximate_ranking(points):\n",
    "    return (points - b[0])/b[1]"
   ]
  },
  {
   "cell_type": "code",
   "execution_count": 68,
   "metadata": {
    "ExecuteTime": {
     "end_time": "2019-07-17T06:13:42.231090Z",
     "start_time": "2019-07-17T06:13:41.723190Z"
    }
   },
   "outputs": [
    {
     "data": {
      "image/png": "[encoded data removed]",
      "text/plain": [
       "<Figure size 720x720 with 1 Axes>"
      ]
     },
     "metadata": {
      "needs_background": "light"
     },
     "output_type": "display_data"
    }
   ],
   "source": [
    "top_test_ranking = \\\n",
    "top_df_test_overall.sort_values(ascending=False).reset_index()\n",
    "\n",
    "top_test_ranking['rank'] = top_test_ranking.index + 1\n",
    "top_test_ranking[['rank', 'points']]\n",
    "\n",
    "plt.figure(figsize=(10, 10))\n",
    "plt.plot(top_test_ranking['rank'], top_test_ranking['points'])\n",
    "plt.plot([calculate_approximate_ranking(i) for i in np.linspace(1000, 1350, 100)], np.linspace(1000, 1350, 100))\n",
    "plt.axes().xaxis.set_major_locator(MultipleLocator(10))\n",
    "plt.grid(which='major')\n",
    "plt.xlim(0, 150)\n",
    "plt.ylim(1000, 1350)\n",
    "plt.show()"
   ]
  },
  {
   "cell_type": "code",
   "execution_count": 71,
   "metadata": {
    "ExecuteTime": {
     "end_time": "2019-07-20T16:32:40.320764Z",
     "start_time": "2019-07-20T16:32:40.305255Z"
    }
   },
   "outputs": [
    {
     "data": {
      "text/html": [
       "<div>\n",
       "<style scoped>\n",
       "    .dataframe tbody tr th:only-of-type {\n",
       "        vertical-align: middle;\n",
       "    }\n",
       "\n",
       "    .dataframe tbody tr th {\n",
       "        vertical-align: top;\n",
       "    }\n",
       "\n",
       "    .dataframe thead th {\n",
       "        text-align: right;\n",
       "    }\n",
       "</style>\n",
       "<table border=\"1\" class=\"dataframe\">\n",
       "  <thead>\n",
       "    <tr style=\"text-align: right;\">\n",
       "      <th></th>\n",
       "      <th>rank</th>\n",
       "      <th>points</th>\n",
       "    </tr>\n",
       "  </thead>\n",
       "  <tbody>\n",
       "    <tr>\n",
       "      <th>0</th>\n",
       "      <td>1</td>\n",
       "      <td>1347</td>\n",
       "    </tr>\n",
       "    <tr>\n",
       "      <th>1</th>\n",
       "      <td>2</td>\n",
       "      <td>1341</td>\n",
       "    </tr>\n",
       "    <tr>\n",
       "      <th>2</th>\n",
       "      <td>3</td>\n",
       "      <td>1317</td>\n",
       "    </tr>\n",
       "    <tr>\n",
       "      <th>3</th>\n",
       "      <td>4</td>\n",
       "      <td>1306</td>\n",
       "    </tr>\n",
       "    <tr>\n",
       "      <th>4</th>\n",
       "      <td>5</td>\n",
       "      <td>1304</td>\n",
       "    </tr>\n",
       "    <tr>\n",
       "      <th>5</th>\n",
       "      <td>6</td>\n",
       "      <td>1304</td>\n",
       "    </tr>\n",
       "    <tr>\n",
       "      <th>6</th>\n",
       "      <td>7</td>\n",
       "      <td>1300</td>\n",
       "    </tr>\n",
       "    <tr>\n",
       "      <th>7</th>\n",
       "      <td>8</td>\n",
       "      <td>1294</td>\n",
       "    </tr>\n",
       "    <tr>\n",
       "      <th>8</th>\n",
       "      <td>9</td>\n",
       "      <td>1274</td>\n",
       "    </tr>\n",
       "    <tr>\n",
       "      <th>9</th>\n",
       "      <td>10</td>\n",
       "      <td>1269</td>\n",
       "    </tr>\n",
       "    <tr>\n",
       "      <th>10</th>\n",
       "      <td>11</td>\n",
       "      <td>1269</td>\n",
       "    </tr>\n",
       "    <tr>\n",
       "      <th>11</th>\n",
       "      <td>12</td>\n",
       "      <td>1268</td>\n",
       "    </tr>\n",
       "    <tr>\n",
       "      <th>12</th>\n",
       "      <td>13</td>\n",
       "      <td>1265</td>\n",
       "    </tr>\n",
       "    <tr>\n",
       "      <th>13</th>\n",
       "      <td>14</td>\n",
       "      <td>1261</td>\n",
       "    </tr>\n",
       "    <tr>\n",
       "      <th>14</th>\n",
       "      <td>15</td>\n",
       "      <td>1260</td>\n",
       "    </tr>\n",
       "    <tr>\n",
       "      <th>15</th>\n",
       "      <td>16</td>\n",
       "      <td>1259</td>\n",
       "    </tr>\n",
       "    <tr>\n",
       "      <th>16</th>\n",
       "      <td>17</td>\n",
       "      <td>1258</td>\n",
       "    </tr>\n",
       "    <tr>\n",
       "      <th>17</th>\n",
       "      <td>18</td>\n",
       "      <td>1255</td>\n",
       "    </tr>\n",
       "    <tr>\n",
       "      <th>18</th>\n",
       "      <td>19</td>\n",
       "      <td>1249</td>\n",
       "    </tr>\n",
       "    <tr>\n",
       "      <th>19</th>\n",
       "      <td>20</td>\n",
       "      <td>1247</td>\n",
       "    </tr>\n",
       "    <tr>\n",
       "      <th>20</th>\n",
       "      <td>21</td>\n",
       "      <td>1246</td>\n",
       "    </tr>\n",
       "    <tr>\n",
       "      <th>21</th>\n",
       "      <td>22</td>\n",
       "      <td>1244</td>\n",
       "    </tr>\n",
       "    <tr>\n",
       "      <th>22</th>\n",
       "      <td>23</td>\n",
       "      <td>1243</td>\n",
       "    </tr>\n",
       "    <tr>\n",
       "      <th>23</th>\n",
       "      <td>24</td>\n",
       "      <td>1242</td>\n",
       "    </tr>\n",
       "    <tr>\n",
       "      <th>24</th>\n",
       "      <td>25</td>\n",
       "      <td>1239</td>\n",
       "    </tr>\n",
       "    <tr>\n",
       "      <th>25</th>\n",
       "      <td>26</td>\n",
       "      <td>1239</td>\n",
       "    </tr>\n",
       "    <tr>\n",
       "      <th>26</th>\n",
       "      <td>27</td>\n",
       "      <td>1238</td>\n",
       "    </tr>\n",
       "    <tr>\n",
       "      <th>27</th>\n",
       "      <td>28</td>\n",
       "      <td>1235</td>\n",
       "    </tr>\n",
       "    <tr>\n",
       "      <th>28</th>\n",
       "      <td>29</td>\n",
       "      <td>1234</td>\n",
       "    </tr>\n",
       "    <tr>\n",
       "      <th>29</th>\n",
       "      <td>30</td>\n",
       "      <td>1233</td>\n",
       "    </tr>\n",
       "    <tr>\n",
       "      <th>30</th>\n",
       "      <td>31</td>\n",
       "      <td>1229</td>\n",
       "    </tr>\n",
       "    <tr>\n",
       "      <th>31</th>\n",
       "      <td>32</td>\n",
       "      <td>1229</td>\n",
       "    </tr>\n",
       "    <tr>\n",
       "      <th>32</th>\n",
       "      <td>33</td>\n",
       "      <td>1229</td>\n",
       "    </tr>\n",
       "    <tr>\n",
       "      <th>33</th>\n",
       "      <td>34</td>\n",
       "      <td>1227</td>\n",
       "    </tr>\n",
       "    <tr>\n",
       "      <th>34</th>\n",
       "      <td>35</td>\n",
       "      <td>1227</td>\n",
       "    </tr>\n",
       "    <tr>\n",
       "      <th>35</th>\n",
       "      <td>36</td>\n",
       "      <td>1225</td>\n",
       "    </tr>\n",
       "    <tr>\n",
       "      <th>36</th>\n",
       "      <td>37</td>\n",
       "      <td>1219</td>\n",
       "    </tr>\n",
       "    <tr>\n",
       "      <th>37</th>\n",
       "      <td>38</td>\n",
       "      <td>1215</td>\n",
       "    </tr>\n",
       "    <tr>\n",
       "      <th>38</th>\n",
       "      <td>39</td>\n",
       "      <td>1214</td>\n",
       "    </tr>\n",
       "    <tr>\n",
       "      <th>39</th>\n",
       "      <td>40</td>\n",
       "      <td>1212</td>\n",
       "    </tr>\n",
       "    <tr>\n",
       "      <th>40</th>\n",
       "      <td>41</td>\n",
       "      <td>1209</td>\n",
       "    </tr>\n",
       "    <tr>\n",
       "      <th>41</th>\n",
       "      <td>42</td>\n",
       "      <td>1200</td>\n",
       "    </tr>\n",
       "    <tr>\n",
       "      <th>42</th>\n",
       "      <td>43</td>\n",
       "      <td>1195</td>\n",
       "    </tr>\n",
       "    <tr>\n",
       "      <th>43</th>\n",
       "      <td>44</td>\n",
       "      <td>1194</td>\n",
       "    </tr>\n",
       "    <tr>\n",
       "      <th>44</th>\n",
       "      <td>45</td>\n",
       "      <td>1194</td>\n",
       "    </tr>\n",
       "    <tr>\n",
       "      <th>45</th>\n",
       "      <td>46</td>\n",
       "      <td>1187</td>\n",
       "    </tr>\n",
       "    <tr>\n",
       "      <th>46</th>\n",
       "      <td>47</td>\n",
       "      <td>1185</td>\n",
       "    </tr>\n",
       "    <tr>\n",
       "      <th>47</th>\n",
       "      <td>48</td>\n",
       "      <td>1172</td>\n",
       "    </tr>\n",
       "    <tr>\n",
       "      <th>48</th>\n",
       "      <td>49</td>\n",
       "      <td>1163</td>\n",
       "    </tr>\n",
       "    <tr>\n",
       "      <th>49</th>\n",
       "      <td>50</td>\n",
       "      <td>1162</td>\n",
       "    </tr>\n",
       "  </tbody>\n",
       "</table>\n",
       "</div>"
      ],
      "text/plain": [
       "    rank  points\n",
       "0      1    1347\n",
       "1      2    1341\n",
       "2      3    1317\n",
       "3      4    1306\n",
       "4      5    1304\n",
       "5      6    1304\n",
       "6      7    1300\n",
       "7      8    1294\n",
       "8      9    1274\n",
       "9     10    1269\n",
       "10    11    1269\n",
       "11    12    1268\n",
       "12    13    1265\n",
       "13    14    1261\n",
       "14    15    1260\n",
       "15    16    1259\n",
       "16    17    1258\n",
       "17    18    1255\n",
       "18    19    1249\n",
       "19    20    1247\n",
       "20    21    1246\n",
       "21    22    1244\n",
       "22    23    1243\n",
       "23    24    1242\n",
       "24    25    1239\n",
       "25    26    1239\n",
       "26    27    1238\n",
       "27    28    1235\n",
       "28    29    1234\n",
       "29    30    1233\n",
       "30    31    1229\n",
       "31    32    1229\n",
       "32    33    1229\n",
       "33    34    1227\n",
       "34    35    1227\n",
       "35    36    1225\n",
       "36    37    1219\n",
       "37    38    1215\n",
       "38    39    1214\n",
       "39    40    1212\n",
       "40    41    1209\n",
       "41    42    1200\n",
       "42    43    1195\n",
       "43    44    1194\n",
       "44    45    1194\n",
       "45    46    1187\n",
       "46    47    1185\n",
       "47    48    1172\n",
       "48    49    1163\n",
       "49    50    1162"
      ]
     },
     "execution_count": 71,
     "metadata": {},
     "output_type": "execute_result"
    }
   ],
   "source": [
    "top_test_ranking[['rank', 'points']]"
   ]
  },
  {
   "cell_type": "code",
   "execution_count": 69,
   "metadata": {
    "ExecuteTime": {
     "end_time": "2019-07-20T16:32:12.306452Z",
     "start_time": "2019-07-20T16:32:12.295617Z"
    }
   },
   "outputs": [
    {
     "data": {
      "text/plain": [
       "1057.7522222222224"
      ]
     },
     "execution_count": 69,
     "metadata": {},
     "output_type": "execute_result"
    }
   ],
   "source": [
    "# average budget of top 50 managers\n",
    "\n",
    "top_df_test.groupby('entry')['value'].mean().mean()"
   ]
  }
 ],
 "metadata": {
  "kernelspec": {
   "display_name": "Python 3",
   "language": "python",
   "name": "python3"
  },
  "language_info": {
   "codemirror_mode": {
    "name": "ipython",
    "version": 3
   },
   "file_extension": ".py",
   "mimetype": "text/x-python",
   "name": "python",
   "nbconvert_exporter": "python",
   "pygments_lexer": "ipython3",
   "version": "3.6.7"
  },
  "toc": {
   "nav_menu": {},
   "number_sections": true,
   "sideBar": true,
   "skip_h1_title": false,
   "title_cell": "Table of Contents",
   "title_sidebar": "Contents",
   "toc_cell": false,
   "toc_position": {},
   "toc_section_display": true,
   "toc_window_display": false
  }
 },
 "nbformat": 4,
 "nbformat_minor": 2
}
