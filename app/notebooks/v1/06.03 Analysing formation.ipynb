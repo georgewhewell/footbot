{
 "cells": [
  {
   "cell_type": "markdown",
   "metadata": {},
   "source": [
    "# Set up"
   ]
  },
  {
   "cell_type": "code",
   "execution_count": 78,
   "metadata": {
    "ExecuteTime": {
     "end_time": "2019-08-04T08:52:19.003382Z",
     "start_time": "2019-08-04T08:52:18.997117Z"
    }
   },
   "outputs": [],
   "source": [
    "import sys\n",
    "sys.path.append('../../optimiser/')"
   ]
  },
  {
   "cell_type": "code",
   "execution_count": 79,
   "metadata": {
    "ExecuteTime": {
     "end_time": "2019-08-04T08:52:26.695453Z",
     "start_time": "2019-08-04T08:52:26.434919Z"
    }
   },
   "outputs": [],
   "source": [
    "import json\n",
    "import pandas as pd\n",
    "import numpy as np\n",
    "import matplotlib.pyplot as plt\n",
    "from collections import Counter\n",
    "import optimiser"
   ]
  },
  {
   "cell_type": "markdown",
   "metadata": {},
   "source": [
    "# Getting data"
   ]
  },
  {
   "cell_type": "code",
   "execution_count": 3,
   "metadata": {
    "ExecuteTime": {
     "end_time": "2019-08-04T07:51:42.115912Z",
     "start_time": "2019-08-04T07:51:41.968772Z"
    }
   },
   "outputs": [],
   "source": [
    "with open('../csvs/top_50_weekly_data.json') as f: \n",
    "    d = json.loads(f.read())"
   ]
  },
  {
   "cell_type": "code",
   "execution_count": 4,
   "metadata": {
    "ExecuteTime": {
     "end_time": "2019-08-04T07:51:42.898538Z",
     "start_time": "2019-08-04T07:51:42.888163Z"
    }
   },
   "outputs": [
    {
     "data": {
      "text/plain": [
       "1900"
      ]
     },
     "execution_count": 4,
     "metadata": {},
     "output_type": "execute_result"
    }
   ],
   "source": [
    "len(d)"
   ]
  },
  {
   "cell_type": "code",
   "execution_count": 161,
   "metadata": {
    "ExecuteTime": {
     "end_time": "2019-08-04T09:54:50.440875Z",
     "start_time": "2019-08-04T09:54:50.078723Z"
    }
   },
   "outputs": [],
   "source": [
    "element_df = pd.read_csv('../csvs/element_gameweek_features_v06.csv')"
   ]
  },
  {
   "cell_type": "markdown",
   "metadata": {},
   "source": [
    "# Analysis"
   ]
  },
  {
   "cell_type": "markdown",
   "metadata": {},
   "source": [
    "## Top managers"
   ]
  },
  {
   "cell_type": "code",
   "execution_count": 82,
   "metadata": {
    "ExecuteTime": {
     "end_time": "2019-08-04T08:53:31.857491Z",
     "start_time": "2019-08-04T08:53:31.815996Z"
    }
   },
   "outputs": [],
   "source": [
    "picks_arr = [[i['element'] for i in d[j]['picks'] if i['position'] <= 11 and i['event'] <= 20] for j in range(0,1900)]"
   ]
  },
  {
   "cell_type": "code",
   "execution_count": 83,
   "metadata": {
    "ExecuteTime": {
     "end_time": "2019-08-04T08:53:32.682602Z",
     "start_time": "2019-08-04T08:53:32.675861Z"
    }
   },
   "outputs": [],
   "source": [
    "element_set = set([i for p in picks_arr for i in p])"
   ]
  },
  {
   "cell_type": "code",
   "execution_count": 84,
   "metadata": {
    "ExecuteTime": {
     "end_time": "2019-08-04T08:53:33.097627Z",
     "start_time": "2019-08-04T08:53:33.069233Z"
    }
   },
   "outputs": [],
   "source": [
    "position_dict = element_df[\n",
    "    element_df['element'].isin(element_set)\n",
    "][\n",
    "    ['element', 'element_type']\n",
    "].drop_duplicates().set_index('element').to_dict()['element_type']"
   ]
  },
  {
   "cell_type": "code",
   "execution_count": 85,
   "metadata": {
    "ExecuteTime": {
     "end_time": "2019-08-04T08:53:33.433362Z",
     "start_time": "2019-08-04T08:53:33.421671Z"
    }
   },
   "outputs": [],
   "source": [
    "picks_position_arr = [[position_dict[e] for e in p] for p in picks_arr]"
   ]
  },
  {
   "cell_type": "code",
   "execution_count": 86,
   "metadata": {
    "ExecuteTime": {
     "end_time": "2019-08-04T08:53:33.851440Z",
     "start_time": "2019-08-04T08:53:33.831467Z"
    }
   },
   "outputs": [],
   "source": [
    "def get_formation(pick):\n",
    "    if pick == [1, 2, 2, 2, 3, 3, 3, 3, 4, 4, 4]:\n",
    "        return '1-3-4-3'\n",
    "    if pick == [1, 2, 2, 2, 2, 3, 3, 3, 3, 4, 4]:\n",
    "        return '1-4-4-2'\n",
    "    if pick == [1, 2, 2, 2, 2, 2, 3, 3, 3, 3, 4]:\n",
    "        return '1-5-4-1'\n",
    "    if pick == [1, 2, 2, 2, 2, 3, 3, 3, 3, 3, 4]:\n",
    "        return '1-4-5-1'\n",
    "    if pick == [1, 2, 2, 2, 2, 3, 3, 3, 4, 4, 4]:\n",
    "        return '1-4-3-3'\n",
    "    if pick == [1, 2, 2, 2, 3, 3, 3, 3, 3, 4, 4]:\n",
    "        return '1-3-5-2'\n",
    "    if pick == [1, 2, 2, 2, 2, 2, 3, 3, 3, 4, 4]:\n",
    "        return '1-5-3-2'\n",
    "    if pick == [1, 2, 2, 2, 2, 2, 3, 3, 4, 4, 4]:\n",
    "        return '1-5-2-3'\n",
    "    "
   ]
  },
  {
   "cell_type": "code",
   "execution_count": 87,
   "metadata": {
    "ExecuteTime": {
     "end_time": "2019-08-04T08:53:34.327450Z",
     "start_time": "2019-08-04T08:53:34.318097Z"
    }
   },
   "outputs": [],
   "source": [
    "formation_arr = [get_formation(p) for p in picks_position_arr]"
   ]
  },
  {
   "cell_type": "code",
   "execution_count": 88,
   "metadata": {
    "ExecuteTime": {
     "end_time": "2019-08-04T08:53:34.845805Z",
     "start_time": "2019-08-04T08:53:34.831919Z"
    }
   },
   "outputs": [
    {
     "data": {
      "text/plain": [
       "Counter({'1-3-4-3': 414,\n",
       "         '1-3-5-2': 172,\n",
       "         '1-4-3-3': 117,\n",
       "         '1-4-4-2': 221,\n",
       "         None: 900,\n",
       "         '1-4-5-1': 21,\n",
       "         '1-5-4-1': 15,\n",
       "         '1-5-3-2': 33,\n",
       "         '1-5-2-3': 7})"
      ]
     },
     "execution_count": 88,
     "metadata": {},
     "output_type": "execute_result"
    }
   ],
   "source": [
    "Counter(formation_arr)"
   ]
  },
  {
   "cell_type": "markdown",
   "metadata": {},
   "source": [
    "## Optimiser"
   ]
  },
  {
   "cell_type": "code",
   "execution_count": 165,
   "metadata": {
    "ExecuteTime": {
     "end_time": "2019-08-04T09:55:15.079817Z",
     "start_time": "2019-08-04T09:55:15.072474Z"
    }
   },
   "outputs": [],
   "source": [
    "element_df['predicted_total_points'] = element_df['expected_total_points_against_opposition_team'] "
   ]
  },
  {
   "cell_type": "code",
   "execution_count": 166,
   "metadata": {
    "ExecuteTime": {
     "end_time": "2019-08-04T09:55:15.616987Z",
     "start_time": "2019-08-04T09:55:15.589137Z"
    }
   },
   "outputs": [],
   "source": [
    "players_df = element_df[[\n",
    "    'event',\n",
    "    'element',\n",
    "    'predicted_total_points',\n",
    "    'value',\n",
    "    'element_type',\n",
    "    'team',\n",
    "    'minutes',\n",
    "    'safe_web_name',\n",
    "    'total_points'\n",
    "]].dropna()"
   ]
  },
  {
   "cell_type": "code",
   "execution_count": 167,
   "metadata": {
    "ExecuteTime": {
     "end_time": "2019-08-04T09:55:16.470094Z",
     "start_time": "2019-08-04T09:55:16.460452Z"
    }
   },
   "outputs": [],
   "source": [
    "formations = [\n",
    "    [1, 3, 4, 3],\n",
    "    [1, 4, 4, 2],\n",
    "    [1, 5, 4, 1],\n",
    "    [1, 4, 5, 1],\n",
    "    [1, 4, 3, 3],\n",
    "    [1, 3, 5, 2],\n",
    "    [1, 5, 3, 2],\n",
    "    [1, 5, 2, 3],\n",
    "]"
   ]
  },
  {
   "cell_type": "code",
   "execution_count": 168,
   "metadata": {
    "ExecuteTime": {
     "end_time": "2019-08-04T09:57:44.297776Z",
     "start_time": "2019-08-04T09:55:17.217818Z"
    }
   },
   "outputs": [],
   "source": [
    "event_formation_points_arr = []\n",
    "\n",
    "for e in range(2, 21):\n",
    "    \n",
    "    event_players = players_df[players_df['event'] == e].to_dict('records')\n",
    "    \n",
    "    for f in formations:\n",
    "        \n",
    "        event_formation_players, event_formation_bench = \\\n",
    "        optimiser.construct_optimal_team_from_scratch(\n",
    "            event_players,\n",
    "            formation=f)\n",
    "        \n",
    "        event_formation_points, _, _ = \\\n",
    "        optimiser.calculate_team_total_points(\n",
    "            players_df,\n",
    "            event_formation_players,\n",
    "            event_formation_bench,\n",
    "            e)\n",
    "        \n",
    "        event_formation_points_arr.append((e, '-'.join([str(i) for i in f]), event_formation_points))"
   ]
  },
  {
   "cell_type": "code",
   "execution_count": 169,
   "metadata": {
    "ExecuteTime": {
     "end_time": "2019-08-04T09:57:44.310970Z",
     "start_time": "2019-08-04T09:57:44.303127Z"
    }
   },
   "outputs": [],
   "source": [
    "formation_df = pd.DataFrame(event_formation_points_arr,\n",
    "             columns=['event', 'formation', 'points']\n",
    "            )"
   ]
  },
  {
   "cell_type": "code",
   "execution_count": 170,
   "metadata": {
    "ExecuteTime": {
     "end_time": "2019-08-04T09:57:44.444879Z",
     "start_time": "2019-08-04T09:57:44.313030Z"
    }
   },
   "outputs": [
    {
     "data": {
      "text/html": [
       "<div>\n",
       "<style scoped>\n",
       "    .dataframe tbody tr th:only-of-type {\n",
       "        vertical-align: middle;\n",
       "    }\n",
       "\n",
       "    .dataframe tbody tr th {\n",
       "        vertical-align: top;\n",
       "    }\n",
       "\n",
       "    .dataframe thead th {\n",
       "        text-align: right;\n",
       "    }\n",
       "</style>\n",
       "<table border=\"1\" class=\"dataframe\">\n",
       "  <thead>\n",
       "    <tr style=\"text-align: right;\">\n",
       "      <th></th>\n",
       "      <th>count</th>\n",
       "      <th>mean</th>\n",
       "      <th>std</th>\n",
       "      <th>min</th>\n",
       "      <th>25%</th>\n",
       "      <th>50%</th>\n",
       "      <th>75%</th>\n",
       "      <th>max</th>\n",
       "    </tr>\n",
       "    <tr>\n",
       "      <th>formation</th>\n",
       "      <th></th>\n",
       "      <th></th>\n",
       "      <th></th>\n",
       "      <th></th>\n",
       "      <th></th>\n",
       "      <th></th>\n",
       "      <th></th>\n",
       "      <th></th>\n",
       "    </tr>\n",
       "  </thead>\n",
       "  <tbody>\n",
       "    <tr>\n",
       "      <th>1-3-4-3</th>\n",
       "      <td>19.0</td>\n",
       "      <td>56.1</td>\n",
       "      <td>15.9</td>\n",
       "      <td>27.0</td>\n",
       "      <td>47.0</td>\n",
       "      <td>55.0</td>\n",
       "      <td>64.5</td>\n",
       "      <td>90.0</td>\n",
       "    </tr>\n",
       "    <tr>\n",
       "      <th>1-3-5-2</th>\n",
       "      <td>19.0</td>\n",
       "      <td>55.6</td>\n",
       "      <td>16.0</td>\n",
       "      <td>29.0</td>\n",
       "      <td>44.0</td>\n",
       "      <td>53.0</td>\n",
       "      <td>66.5</td>\n",
       "      <td>94.0</td>\n",
       "    </tr>\n",
       "    <tr>\n",
       "      <th>1-4-3-3</th>\n",
       "      <td>19.0</td>\n",
       "      <td>55.9</td>\n",
       "      <td>14.0</td>\n",
       "      <td>35.0</td>\n",
       "      <td>47.0</td>\n",
       "      <td>53.0</td>\n",
       "      <td>63.5</td>\n",
       "      <td>86.0</td>\n",
       "    </tr>\n",
       "    <tr>\n",
       "      <th>1-4-4-2</th>\n",
       "      <td>19.0</td>\n",
       "      <td>55.5</td>\n",
       "      <td>16.0</td>\n",
       "      <td>19.0</td>\n",
       "      <td>48.0</td>\n",
       "      <td>59.0</td>\n",
       "      <td>63.0</td>\n",
       "      <td>89.0</td>\n",
       "    </tr>\n",
       "    <tr>\n",
       "      <th>1-4-5-1</th>\n",
       "      <td>19.0</td>\n",
       "      <td>55.6</td>\n",
       "      <td>15.4</td>\n",
       "      <td>35.0</td>\n",
       "      <td>44.5</td>\n",
       "      <td>55.0</td>\n",
       "      <td>64.5</td>\n",
       "      <td>94.0</td>\n",
       "    </tr>\n",
       "    <tr>\n",
       "      <th>1-5-2-3</th>\n",
       "      <td>19.0</td>\n",
       "      <td>54.2</td>\n",
       "      <td>15.1</td>\n",
       "      <td>31.0</td>\n",
       "      <td>40.0</td>\n",
       "      <td>53.0</td>\n",
       "      <td>66.5</td>\n",
       "      <td>85.0</td>\n",
       "    </tr>\n",
       "    <tr>\n",
       "      <th>1-5-3-2</th>\n",
       "      <td>19.0</td>\n",
       "      <td>56.2</td>\n",
       "      <td>15.5</td>\n",
       "      <td>29.0</td>\n",
       "      <td>45.0</td>\n",
       "      <td>59.0</td>\n",
       "      <td>64.5</td>\n",
       "      <td>83.0</td>\n",
       "    </tr>\n",
       "    <tr>\n",
       "      <th>1-5-4-1</th>\n",
       "      <td>19.0</td>\n",
       "      <td>57.8</td>\n",
       "      <td>18.6</td>\n",
       "      <td>19.0</td>\n",
       "      <td>44.5</td>\n",
       "      <td>60.0</td>\n",
       "      <td>69.5</td>\n",
       "      <td>92.0</td>\n",
       "    </tr>\n",
       "  </tbody>\n",
       "</table>\n",
       "</div>"
      ],
      "text/plain": [
       "           count  mean   std   min   25%   50%   75%   max\n",
       "formation                                                 \n",
       "1-3-4-3     19.0  56.1  15.9  27.0  47.0  55.0  64.5  90.0\n",
       "1-3-5-2     19.0  55.6  16.0  29.0  44.0  53.0  66.5  94.0\n",
       "1-4-3-3     19.0  55.9  14.0  35.0  47.0  53.0  63.5  86.0\n",
       "1-4-4-2     19.0  55.5  16.0  19.0  48.0  59.0  63.0  89.0\n",
       "1-4-5-1     19.0  55.6  15.4  35.0  44.5  55.0  64.5  94.0\n",
       "1-5-2-3     19.0  54.2  15.1  31.0  40.0  53.0  66.5  85.0\n",
       "1-5-3-2     19.0  56.2  15.5  29.0  45.0  59.0  64.5  83.0\n",
       "1-5-4-1     19.0  57.8  18.6  19.0  44.5  60.0  69.5  92.0"
      ]
     },
     "execution_count": 170,
     "metadata": {},
     "output_type": "execute_result"
    }
   ],
   "source": [
    "formation_df.groupby('formation')['points'].describe().round(1)"
   ]
  },
  {
   "cell_type": "code",
   "execution_count": null,
   "metadata": {},
   "outputs": [],
   "source": []
  }
 ],
 "metadata": {
  "kernelspec": {
   "display_name": "Python 3",
   "language": "python",
   "name": "python3"
  },
  "language_info": {
   "codemirror_mode": {
    "name": "ipython",
    "version": 3
   },
   "file_extension": ".py",
   "mimetype": "text/x-python",
   "name": "python",
   "nbconvert_exporter": "python",
   "pygments_lexer": "ipython3",
   "version": "3.6.7"
  },
  "toc": {
   "nav_menu": {},
   "number_sections": true,
   "sideBar": true,
   "skip_h1_title": false,
   "title_cell": "Table of Contents",
   "title_sidebar": "Contents",
   "toc_cell": false,
   "toc_position": {},
   "toc_section_display": true,
   "toc_window_display": false
  }
 },
 "nbformat": 4,
 "nbformat_minor": 2
}
