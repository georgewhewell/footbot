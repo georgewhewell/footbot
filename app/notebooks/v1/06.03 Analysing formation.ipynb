{
 "cells": [
  {
   "cell_type": "markdown",
   "metadata": {},
   "source": [
    "# Set up"
   ]
  },
  {
   "cell_type": "code",
   "execution_count": 78,
   "metadata": {
    "ExecuteTime": {
     "end_time": "2019-08-04T08:52:19.003382Z",
     "start_time": "2019-08-04T08:52:18.997117Z"
    }
   },
   "outputs": [],
   "source": [
    "import sys\n",
    "sys.path.append('../../optimiser/')"
   ]
  },
  {
   "cell_type": "code",
   "execution_count": 79,
   "metadata": {
    "ExecuteTime": {
     "end_time": "2019-08-04T08:52:26.695453Z",
     "start_time": "2019-08-04T08:52:26.434919Z"
    }
   },
   "outputs": [],
   "source": [
    "import json\n",
    "import pandas as pd\n",
    "import numpy as np\n",
    "import matplotlib.pyplot as plt\n",
    "from collections import Counter\n",
    "import optimiser"
   ]
  },
  {
   "cell_type": "markdown",
   "metadata": {},
   "source": [
    "# Getting data"
   ]
  },
  {
   "cell_type": "code",
   "execution_count": 3,
   "metadata": {
    "ExecuteTime": {
     "end_time": "2019-08-04T07:51:42.115912Z",
     "start_time": "2019-08-04T07:51:41.968772Z"
    }
   },
   "outputs": [],
   "source": [
    "with open('../csvs/top_50_weekly_data.json') as f: \n",
    "    d = json.loads(f.read())"
   ]
  },
  {
   "cell_type": "code",
   "execution_count": 4,
   "metadata": {
    "ExecuteTime": {
     "end_time": "2019-08-04T07:51:42.898538Z",
     "start_time": "2019-08-04T07:51:42.888163Z"
    }
   },
   "outputs": [
    {
     "data": {
      "text/plain": [
       "1900"
      ]
     },
     "execution_count": 4,
     "metadata": {},
     "output_type": "execute_result"
    }
   ],
   "source": [
    "len(d)"
   ]
  },
  {
   "cell_type": "code",
   "execution_count": 161,
   "metadata": {
    "ExecuteTime": {
     "end_time": "2019-08-04T09:54:50.440875Z",
     "start_time": "2019-08-04T09:54:50.078723Z"
    }
   },
   "outputs": [],
   "source": [
    "element_df = pd.read_csv('../csvs/element_gameweek_features_v06.csv')"
   ]
  },
  {
   "cell_type": "markdown",
   "metadata": {},
   "source": [
    "# Analysis"
   ]
  },
  {
   "cell_type": "markdown",
   "metadata": {},
   "source": [
    "## Top managers"
   ]
  },
  {
   "cell_type": "code",
   "execution_count": 82,
   "metadata": {
    "ExecuteTime": {
     "end_time": "2019-08-04T08:53:31.857491Z",
     "start_time": "2019-08-04T08:53:31.815996Z"
    }
   },
   "outputs": [],
   "source": [
    "picks_arr = [[i['element'] for i in d[j]['picks'] if i['position'] <= 11 and i['event'] <= 20] for j in range(0,1900)]"
   ]
  },
  {
   "cell_type": "code",
   "execution_count": 83,
   "metadata": {
    "ExecuteTime": {
     "end_time": "2019-08-04T08:53:32.682602Z",
     "start_time": "2019-08-04T08:53:32.675861Z"
    }
   },
   "outputs": [],
   "source": [
    "element_set = set([i for p in picks_arr for i in p])"
   ]
  },
  {
   "cell_type": "code",
   "execution_count": 84,
   "metadata": {
    "ExecuteTime": {
     "end_time": "2019-08-04T08:53:33.097627Z",
     "start_time": "2019-08-04T08:53:33.069233Z"
    }
   },
   "outputs": [],
   "source": [
    "position_dict = element_df[\n",
    "    element_df['element'].isin(element_set)\n",
    "][\n",
    "    ['element', 'element_type']\n",
    "].drop_duplicates().set_index('element').to_dict()['element_type']"
   ]
  },
  {
   "cell_type": "code",
   "execution_count": 85,
   "metadata": {
    "ExecuteTime": {
     "end_time": "2019-08-04T08:53:33.433362Z",
     "start_time": "2019-08-04T08:53:33.421671Z"
    }
   },
   "outputs": [],
   "source": [
    "picks_position_arr = [[position_dict[e] for e in p] for p in picks_arr]"
   ]
  },
  {
   "cell_type": "code",
   "execution_count": 86,
   "metadata": {
    "ExecuteTime": {
     "end_time": "2019-08-04T08:53:33.851440Z",
     "start_time": "2019-08-04T08:53:33.831467Z"
    }
   },
   "outputs": [],
   "source": [
    "def get_formation(pick):\n",
    "    if pick == [1, 2, 2, 2, 3, 3, 3, 3, 4, 4, 4]:\n",
    "        return '1-3-4-3'\n",
    "    if pick == [1, 2, 2, 2, 2, 3, 3, 3, 3, 4, 4]:\n",
    "        return '1-4-4-2'\n",
    "    if pick == [1, 2, 2, 2, 2, 2, 3, 3, 3, 3, 4]:\n",
    "        return '1-5-4-1'\n",
    "    if pick == [1, 2, 2, 2, 2, 3, 3, 3, 3, 3, 4]:\n",
    "        return '1-4-5-1'\n",
    "    if pick == [1, 2, 2, 2, 2, 3, 3, 3, 4, 4, 4]:\n",
    "        return '1-4-3-3'\n",
    "    if pick == [1, 2, 2, 2, 3, 3, 3, 3, 3, 4, 4]:\n",
    "        return '1-3-5-2'\n",
    "    if pick == [1, 2, 2, 2, 2, 2, 3, 3, 3, 4, 4]:\n",
    "        return '1-5-3-2'\n",
    "    if pick == [1, 2, 2, 2, 2, 2, 3, 3, 4, 4, 4]:\n",
    "        return '1-5-2-3'\n",
    "    "
   ]
  },
  {
   "cell_type": "code",
   "execution_count": 87,
   "metadata": {
    "ExecuteTime": {
     "end_time": "2019-08-04T08:53:34.327450Z",
     "start_time": "2019-08-04T08:53:34.318097Z"
    }
   },
   "outputs": [],
   "source": [
    "formation_arr = [get_formation(p) for p in picks_position_arr]"
   ]
  },
  {
   "cell_type": "code",
   "execution_count": 88,
   "metadata": {
    "ExecuteTime": {
     "end_time": "2019-08-04T08:53:34.845805Z",
     "start_time": "2019-08-04T08:53:34.831919Z"
    }
   },
   "outputs": [
    {
     "data": {
      "text/plain": [
       "Counter({'1-3-4-3': 414,\n",
       "         '1-3-5-2': 172,\n",
       "         '1-4-3-3': 117,\n",
       "         '1-4-4-2': 221,\n",
       "         None: 900,\n",
       "         '1-4-5-1': 21,\n",
       "         '1-5-4-1': 15,\n",
       "         '1-5-3-2': 33,\n",
       "         '1-5-2-3': 7})"
      ]
     },
     "execution_count": 88,
     "metadata": {},
     "output_type": "execute_result"
    }
   ],
   "source": [
    "Counter(formation_arr)"
   ]
  },
  {
   "cell_type": "markdown",
   "metadata": {},
   "source": [
    "## Optimiser"
   ]
  },
  {
   "cell_type": "code",
   "execution_count": 172,
   "metadata": {
    "ExecuteTime": {
     "end_time": "2019-08-25T17:39:10.896950Z",
     "start_time": "2019-08-25T17:39:10.884949Z"
    }
   },
   "outputs": [],
   "source": [
    "element_df['predicted_total_points'] = element_df['total_points'] "
   ]
  },
  {
   "cell_type": "code",
   "execution_count": 173,
   "metadata": {
    "ExecuteTime": {
     "end_time": "2019-08-25T17:39:11.573526Z",
     "start_time": "2019-08-25T17:39:11.544950Z"
    }
   },
   "outputs": [],
   "source": [
    "players_df = element_df[[\n",
    "    'event',\n",
    "    'element',\n",
    "    'predicted_total_points',\n",
    "    'value',\n",
    "    'element_type',\n",
    "    'team',\n",
    "    'minutes',\n",
    "    'safe_web_name',\n",
    "    'total_points'\n",
    "]].dropna()"
   ]
  },
  {
   "cell_type": "code",
   "execution_count": 174,
   "metadata": {
    "ExecuteTime": {
     "end_time": "2019-08-25T17:39:12.202668Z",
     "start_time": "2019-08-25T17:39:12.192193Z"
    }
   },
   "outputs": [],
   "source": [
    "formations = [\n",
    "    [1, 3, 4, 3],\n",
    "    [1, 4, 4, 2],\n",
    "    [1, 5, 4, 1],\n",
    "    [1, 4, 5, 1],\n",
    "    [1, 4, 3, 3],\n",
    "    [1, 3, 5, 2],\n",
    "    [1, 5, 3, 2],\n",
    "    [1, 5, 2, 3],\n",
    "]"
   ]
  },
  {
   "cell_type": "code",
   "execution_count": 176,
   "metadata": {
    "ExecuteTime": {
     "end_time": "2019-08-25T17:44:09.098457Z",
     "start_time": "2019-08-25T17:41:26.855804Z"
    }
   },
   "outputs": [
    {
     "name": "stdout",
     "output_type": "stream",
     "text": [
      "event 1\n",
      "[1, 3, 4, 3] 144\n",
      "[1, 4, 4, 2] 149\n",
      "[1, 5, 4, 1] 155\n",
      "[1, 4, 5, 1] 154\n",
      "[1, 4, 3, 3] 143\n",
      "[1, 3, 5, 2] 149\n",
      "[1, 5, 3, 2] 149\n",
      "[1, 5, 2, 3] 141\n",
      "event 2\n",
      "[1, 3, 4, 3] 161\n",
      "[1, 4, 4, 2] 164\n",
      "[1, 5, 4, 1] 160\n",
      "[1, 4, 5, 1] 162\n",
      "[1, 4, 3, 3] 162\n",
      "[1, 3, 5, 2] 163\n",
      "[1, 5, 3, 2] 162\n",
      "[1, 5, 2, 3] 159\n",
      "event 3\n",
      "[1, 3, 4, 3] 133\n",
      "[1, 4, 4, 2] 134\n",
      "[1, 5, 4, 1] 134\n",
      "[1, 4, 5, 1] 132\n",
      "[1, 4, 3, 3] 135\n",
      "[1, 3, 5, 2] 132\n",
      "[1, 5, 3, 2] 136\n",
      "[1, 5, 2, 3] 136\n",
      "event 4\n",
      "[1, 3, 4, 3] 131\n",
      "[1, 4, 4, 2] 129\n",
      "[1, 5, 4, 1] 126\n",
      "[1, 4, 5, 1] 126\n",
      "[1, 4, 3, 3] 132\n",
      "[1, 3, 5, 2] 128\n",
      "[1, 5, 3, 2] 129\n",
      "[1, 5, 2, 3] 131\n",
      "event 5\n",
      "[1, 3, 4, 3] 156\n",
      "[1, 4, 4, 2] 155\n",
      "[1, 5, 4, 1] 152\n",
      "[1, 4, 5, 1] 154\n",
      "[1, 4, 3, 3] 154\n",
      "[1, 3, 5, 2] 156\n",
      "[1, 5, 3, 2] 152\n",
      "[1, 5, 2, 3] 149\n",
      "event 6\n",
      "[1, 3, 4, 3] 148\n",
      "[1, 4, 4, 2] 145\n",
      "[1, 5, 4, 1] 140\n",
      "[1, 4, 5, 1] 143\n",
      "[1, 4, 3, 3] 144\n",
      "[1, 3, 5, 2] 147\n",
      "[1, 5, 3, 2] 140\n",
      "[1, 5, 2, 3] 138\n",
      "event 7\n",
      "[1, 3, 4, 3] 150\n",
      "[1, 4, 4, 2] 153\n",
      "[1, 5, 4, 1] 155\n",
      "[1, 4, 5, 1] 155\n",
      "[1, 4, 3, 3] 151\n",
      "[1, 3, 5, 2] 152\n",
      "[1, 5, 3, 2] 153\n",
      "[1, 5, 2, 3] 148\n",
      "event 8\n",
      "[1, 3, 4, 3] 151\n",
      "[1, 4, 4, 2] 146\n",
      "[1, 5, 4, 1] 140\n",
      "[1, 4, 5, 1] 142\n",
      "[1, 4, 3, 3] 149\n",
      "[1, 3, 5, 2] 148\n",
      "[1, 5, 3, 2] 144\n",
      "[1, 5, 2, 3] 144\n",
      "event 9\n",
      "[1, 3, 4, 3] 144\n",
      "[1, 4, 4, 2] 147\n",
      "[1, 5, 4, 1] 144\n",
      "[1, 4, 5, 1] 146\n",
      "[1, 4, 3, 3] 142\n",
      "[1, 3, 5, 2] 149\n",
      "[1, 5, 3, 2] 145\n",
      "[1, 5, 2, 3] 139\n",
      "event 10\n",
      "[1, 3, 4, 3] 153\n",
      "[1, 4, 4, 2] 155\n",
      "[1, 5, 4, 1] 156\n",
      "[1, 4, 5, 1] 158\n",
      "[1, 4, 3, 3] 147\n",
      "[1, 3, 5, 2] 157\n",
      "[1, 5, 3, 2] 149\n",
      "[1, 5, 2, 3] 141\n",
      "event 11\n",
      "[1, 3, 4, 3] 163\n",
      "[1, 4, 4, 2] 160\n",
      "[1, 5, 4, 1] 155\n",
      "[1, 4, 5, 1] 159\n",
      "[1, 4, 3, 3] 159\n",
      "[1, 3, 5, 2] 163\n",
      "[1, 5, 3, 2] 155\n",
      "[1, 5, 2, 3] 153\n",
      "event 12\n",
      "[1, 3, 4, 3] 133\n",
      "[1, 4, 4, 2] 136\n",
      "[1, 5, 4, 1] 136\n",
      "[1, 4, 5, 1] 136\n",
      "[1, 4, 3, 3] 134\n",
      "[1, 3, 5, 2] 135\n",
      "[1, 5, 3, 2] 136\n",
      "[1, 5, 2, 3] 133\n",
      "event 13\n",
      "[1, 3, 4, 3] 163\n",
      "[1, 4, 4, 2] 166\n",
      "[1, 5, 4, 1] 162\n",
      "[1, 4, 5, 1] 167\n",
      "[1, 4, 3, 3] 160\n",
      "[1, 3, 5, 2] 168\n",
      "[1, 5, 3, 2] 160\n",
      "[1, 5, 2, 3] 152\n",
      "event 14\n",
      "[1, 3, 4, 3] 140\n",
      "[1, 4, 4, 2] 138\n",
      "[1, 5, 4, 1] 132\n",
      "[1, 4, 5, 1] 135\n",
      "[1, 4, 3, 3] 137\n",
      "[1, 3, 5, 2] 141\n",
      "[1, 5, 3, 2] 135\n",
      "[1, 5, 2, 3] 133\n",
      "event 15\n",
      "[1, 3, 4, 3] 126\n",
      "[1, 4, 4, 2] 121\n",
      "[1, 5, 4, 1] 115\n",
      "[1, 4, 5, 1] 119\n",
      "[1, 4, 3, 3] 122\n",
      "[1, 3, 5, 2] 124\n",
      "[1, 5, 3, 2] 117\n",
      "[1, 5, 2, 3] 118\n",
      "event 16\n",
      "[1, 3, 4, 3] 163\n",
      "[1, 4, 4, 2] 165\n",
      "[1, 5, 4, 1] 166\n",
      "[1, 4, 5, 1] 167\n",
      "[1, 4, 3, 3] 162\n",
      "[1, 3, 5, 2] 165\n",
      "[1, 5, 3, 2] 163\n",
      "[1, 5, 2, 3] 159\n",
      "event 17\n",
      "[1, 3, 4, 3] 142\n",
      "[1, 4, 4, 2] 141\n",
      "[1, 5, 4, 1] 136\n",
      "[1, 4, 5, 1] 139\n",
      "[1, 4, 3, 3] 137\n",
      "[1, 3, 5, 2] 144\n",
      "[1, 5, 3, 2] 136\n",
      "[1, 5, 2, 3] 132\n",
      "event 18\n",
      "[1, 3, 4, 3] 168\n",
      "[1, 4, 4, 2] 167\n",
      "[1, 5, 4, 1] 161\n",
      "[1, 4, 5, 1] 167\n",
      "[1, 4, 3, 3] 163\n",
      "[1, 3, 5, 2] 172\n",
      "[1, 5, 3, 2] 161\n",
      "[1, 5, 2, 3] 155\n",
      "event 19\n",
      "[1, 3, 4, 3] 159\n",
      "[1, 4, 4, 2] 164\n",
      "[1, 5, 4, 1] 166\n",
      "[1, 4, 5, 1] 169\n",
      "[1, 4, 3, 3] 157\n",
      "[1, 3, 5, 2] 166\n",
      "[1, 5, 3, 2] 161\n",
      "[1, 5, 2, 3] 152\n",
      "event 20\n",
      "[1, 3, 4, 3] 149\n",
      "[1, 4, 4, 2] 147\n",
      "[1, 5, 4, 1] 143\n",
      "[1, 4, 5, 1] 146\n",
      "[1, 4, 3, 3] 146\n",
      "[1, 3, 5, 2] 150\n",
      "[1, 5, 3, 2] 144\n",
      "[1, 5, 2, 3] 143\n"
     ]
    }
   ],
   "source": [
    "event_formation_points_arr = []\n",
    "\n",
    "for e in range(1, 21):\n",
    "    print('event', e)\n",
    "    \n",
    "    event_players = players_df[players_df['event'] == e].to_dict('records')\n",
    "    \n",
    "    for f in formations:\n",
    "        \n",
    "        event_formation_players, event_formation_bench = \\\n",
    "        optimiser.construct_optimal_team_from_scratch(\n",
    "            event_players,\n",
    "            formation=f)\n",
    "        \n",
    "        event_formation_points, _, _ = \\\n",
    "        optimiser.calculate_team_total_points(\n",
    "            players_df,\n",
    "            event_formation_players,\n",
    "            event_formation_bench,\n",
    "            e)\n",
    "        \n",
    "        print(f, event_formation_points)\n",
    "        \n",
    "        event_formation_points_arr.append((e, '-'.join([str(i) for i in f]), event_formation_points))"
   ]
  },
  {
   "cell_type": "code",
   "execution_count": 177,
   "metadata": {
    "ExecuteTime": {
     "end_time": "2019-08-25T17:49:40.408075Z",
     "start_time": "2019-08-25T17:49:40.399291Z"
    }
   },
   "outputs": [],
   "source": [
    "formation_df = pd.DataFrame(event_formation_points_arr,\n",
    "             columns=['event', 'formation', 'points']\n",
    "            )"
   ]
  },
  {
   "cell_type": "code",
   "execution_count": 178,
   "metadata": {
    "ExecuteTime": {
     "end_time": "2019-08-25T17:49:42.648926Z",
     "start_time": "2019-08-25T17:49:42.573411Z"
    }
   },
   "outputs": [
    {
     "data": {
      "text/html": [
       "<div>\n",
       "<style scoped>\n",
       "    .dataframe tbody tr th:only-of-type {\n",
       "        vertical-align: middle;\n",
       "    }\n",
       "\n",
       "    .dataframe tbody tr th {\n",
       "        vertical-align: top;\n",
       "    }\n",
       "\n",
       "    .dataframe thead th {\n",
       "        text-align: right;\n",
       "    }\n",
       "</style>\n",
       "<table border=\"1\" class=\"dataframe\">\n",
       "  <thead>\n",
       "    <tr style=\"text-align: right;\">\n",
       "      <th></th>\n",
       "      <th>count</th>\n",
       "      <th>mean</th>\n",
       "      <th>std</th>\n",
       "      <th>min</th>\n",
       "      <th>25%</th>\n",
       "      <th>50%</th>\n",
       "      <th>75%</th>\n",
       "      <th>max</th>\n",
       "    </tr>\n",
       "    <tr>\n",
       "      <th>formation</th>\n",
       "      <th></th>\n",
       "      <th></th>\n",
       "      <th></th>\n",
       "      <th></th>\n",
       "      <th></th>\n",
       "      <th></th>\n",
       "      <th></th>\n",
       "      <th></th>\n",
       "    </tr>\n",
       "  </thead>\n",
       "  <tbody>\n",
       "    <tr>\n",
       "      <th>1-3-4-3</th>\n",
       "      <td>20.0</td>\n",
       "      <td>148.8</td>\n",
       "      <td>12.2</td>\n",
       "      <td>126.0</td>\n",
       "      <td>141.5</td>\n",
       "      <td>149.5</td>\n",
       "      <td>159.5</td>\n",
       "      <td>168.0</td>\n",
       "    </tr>\n",
       "    <tr>\n",
       "      <th>1-3-5-2</th>\n",
       "      <td>20.0</td>\n",
       "      <td>150.4</td>\n",
       "      <td>13.7</td>\n",
       "      <td>124.0</td>\n",
       "      <td>143.2</td>\n",
       "      <td>149.5</td>\n",
       "      <td>163.0</td>\n",
       "      <td>172.0</td>\n",
       "    </tr>\n",
       "    <tr>\n",
       "      <th>1-4-3-3</th>\n",
       "      <td>20.0</td>\n",
       "      <td>146.8</td>\n",
       "      <td>11.7</td>\n",
       "      <td>122.0</td>\n",
       "      <td>137.0</td>\n",
       "      <td>146.5</td>\n",
       "      <td>157.5</td>\n",
       "      <td>163.0</td>\n",
       "    </tr>\n",
       "    <tr>\n",
       "      <th>1-4-4-2</th>\n",
       "      <td>20.0</td>\n",
       "      <td>149.1</td>\n",
       "      <td>13.2</td>\n",
       "      <td>121.0</td>\n",
       "      <td>140.2</td>\n",
       "      <td>148.0</td>\n",
       "      <td>161.0</td>\n",
       "      <td>167.0</td>\n",
       "    </tr>\n",
       "    <tr>\n",
       "      <th>1-4-5-1</th>\n",
       "      <td>20.0</td>\n",
       "      <td>148.8</td>\n",
       "      <td>14.7</td>\n",
       "      <td>119.0</td>\n",
       "      <td>138.2</td>\n",
       "      <td>150.0</td>\n",
       "      <td>159.8</td>\n",
       "      <td>169.0</td>\n",
       "    </tr>\n",
       "    <tr>\n",
       "      <th>1-5-2-3</th>\n",
       "      <td>20.0</td>\n",
       "      <td>142.8</td>\n",
       "      <td>10.7</td>\n",
       "      <td>118.0</td>\n",
       "      <td>135.2</td>\n",
       "      <td>142.0</td>\n",
       "      <td>152.0</td>\n",
       "      <td>159.0</td>\n",
       "    </tr>\n",
       "    <tr>\n",
       "      <th>1-5-3-2</th>\n",
       "      <td>20.0</td>\n",
       "      <td>146.4</td>\n",
       "      <td>12.5</td>\n",
       "      <td>117.0</td>\n",
       "      <td>136.0</td>\n",
       "      <td>147.0</td>\n",
       "      <td>156.2</td>\n",
       "      <td>163.0</td>\n",
       "    </tr>\n",
       "    <tr>\n",
       "      <th>1-5-4-1</th>\n",
       "      <td>20.0</td>\n",
       "      <td>146.7</td>\n",
       "      <td>14.2</td>\n",
       "      <td>115.0</td>\n",
       "      <td>136.0</td>\n",
       "      <td>148.0</td>\n",
       "      <td>157.0</td>\n",
       "      <td>166.0</td>\n",
       "    </tr>\n",
       "  </tbody>\n",
       "</table>\n",
       "</div>"
      ],
      "text/plain": [
       "           count   mean   std    min    25%    50%    75%    max\n",
       "formation                                                       \n",
       "1-3-4-3     20.0  148.8  12.2  126.0  141.5  149.5  159.5  168.0\n",
       "1-3-5-2     20.0  150.4  13.7  124.0  143.2  149.5  163.0  172.0\n",
       "1-4-3-3     20.0  146.8  11.7  122.0  137.0  146.5  157.5  163.0\n",
       "1-4-4-2     20.0  149.1  13.2  121.0  140.2  148.0  161.0  167.0\n",
       "1-4-5-1     20.0  148.8  14.7  119.0  138.2  150.0  159.8  169.0\n",
       "1-5-2-3     20.0  142.8  10.7  118.0  135.2  142.0  152.0  159.0\n",
       "1-5-3-2     20.0  146.4  12.5  117.0  136.0  147.0  156.2  163.0\n",
       "1-5-4-1     20.0  146.7  14.2  115.0  136.0  148.0  157.0  166.0"
      ]
     },
     "execution_count": 178,
     "metadata": {},
     "output_type": "execute_result"
    }
   ],
   "source": [
    "formation_df.groupby('formation')['points'].describe().round(1)"
   ]
  },
  {
   "cell_type": "code",
   "execution_count": null,
   "metadata": {},
   "outputs": [],
   "source": []
  }
 ],
 "metadata": {
  "kernelspec": {
   "display_name": "Python 3",
   "language": "python",
   "name": "python3"
  },
  "language_info": {
   "codemirror_mode": {
    "name": "ipython",
    "version": 3
   },
   "file_extension": ".py",
   "mimetype": "text/x-python",
   "name": "python",
   "nbconvert_exporter": "python",
   "pygments_lexer": "ipython3",
   "version": "3.6.7"
  },
  "toc": {
   "nav_menu": {},
   "number_sections": true,
   "sideBar": true,
   "skip_h1_title": false,
   "title_cell": "Table of Contents",
   "title_sidebar": "Contents",
   "toc_cell": false,
   "toc_position": {},
   "toc_section_display": true,
   "toc_window_display": false
  }
 },
 "nbformat": 4,
 "nbformat_minor": 2
}
