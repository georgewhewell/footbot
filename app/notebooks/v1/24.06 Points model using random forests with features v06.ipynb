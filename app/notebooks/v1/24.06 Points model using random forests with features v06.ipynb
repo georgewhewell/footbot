{
 "cells": [
  {
   "cell_type": "markdown",
   "metadata": {
    "heading_collapsed": true
   },
   "source": [
    "# Set up"
   ]
  },
  {
   "cell_type": "code",
   "execution_count": 358,
   "metadata": {
    "ExecuteTime": {
     "end_time": "2019-08-12T13:43:41.319673Z",
     "start_time": "2019-08-12T13:43:41.313319Z"
    },
    "hidden": true
   },
   "outputs": [],
   "source": [
    "import pandas as pd\n",
    "import patsy\n",
    "import numpy as np\n",
    "from sklearn.ensemble import RandomForestRegressor\n",
    "from sklearn.preprocessing import StandardScaler\n",
    "from sklearn.model_selection import PredefinedSplit, GridSearchCV, cross_val_score\n",
    "from sklearn.decomposition import PCA\n",
    "from skopt.space import Real, Integer\n",
    "from skopt.utils import use_named_args\n",
    "from skopt import gp_minimize\n",
    "from sklearn.feature_selection import RFECV\n",
    "from sklearn.metrics import mean_absolute_error, mean_squared_error, r2_score\n",
    "import matplotlib.pyplot as plt\n",
    "import math"
   ]
  },
  {
   "cell_type": "markdown",
   "metadata": {
    "heading_collapsed": true
   },
   "source": [
    "# Getting data"
   ]
  },
  {
   "cell_type": "code",
   "execution_count": 162,
   "metadata": {
    "ExecuteTime": {
     "end_time": "2019-08-07T15:13:26.602105Z",
     "start_time": "2019-08-07T15:13:26.597137Z"
    },
    "hidden": true
   },
   "outputs": [],
   "source": [
    "file_name = '../csvs/element_gameweek_features_v06.csv'"
   ]
  },
  {
   "cell_type": "code",
   "execution_count": 163,
   "metadata": {
    "ExecuteTime": {
     "end_time": "2019-08-07T15:13:27.254906Z",
     "start_time": "2019-08-07T15:13:26.911652Z"
    },
    "hidden": true
   },
   "outputs": [],
   "source": [
    "element_gameweek_df = pd.read_csv(file_name)"
   ]
  },
  {
   "cell_type": "code",
   "execution_count": 164,
   "metadata": {
    "ExecuteTime": {
     "end_time": "2019-08-07T15:13:27.263057Z",
     "start_time": "2019-08-07T15:13:27.258400Z"
    },
    "hidden": true
   },
   "outputs": [],
   "source": [
    "current_event = 20"
   ]
  },
  {
   "cell_type": "code",
   "execution_count": 165,
   "metadata": {
    "ExecuteTime": {
     "end_time": "2019-08-07T15:13:27.310102Z",
     "start_time": "2019-08-07T15:13:27.305342Z"
    },
    "hidden": true
   },
   "outputs": [],
   "source": [
    "last_train_event = 15"
   ]
  },
  {
   "cell_type": "code",
   "execution_count": 166,
   "metadata": {
    "ExecuteTime": {
     "end_time": "2019-08-07T15:13:27.541962Z",
     "start_time": "2019-08-07T15:13:27.529468Z"
    },
    "hidden": true
   },
   "outputs": [],
   "source": [
    "element_gameweek_df =\\\n",
    "element_gameweek_df[\n",
    "    (element_gameweek_df['event'] <= current_event)\n",
    "]"
   ]
  },
  {
   "cell_type": "code",
   "execution_count": 167,
   "metadata": {
    "ExecuteTime": {
     "end_time": "2019-08-07T15:13:32.766144Z",
     "start_time": "2019-08-07T15:13:27.842989Z"
    },
    "hidden": true
   },
   "outputs": [],
   "source": [
    "element_gameweek_df.fillna(\n",
    "    element_gameweek_df[element_gameweek_df['event'] <= last_train_event].mean(),\n",
    "    inplace=True\n",
    ")"
   ]
  },
  {
   "cell_type": "code",
   "execution_count": 168,
   "metadata": {
    "ExecuteTime": {
     "end_time": "2019-08-07T15:13:32.778336Z",
     "start_time": "2019-08-07T15:13:32.770667Z"
    },
    "hidden": true
   },
   "outputs": [],
   "source": [
    "element_gameweek_df = element_gameweek_df[element_gameweek_df['rolling_avg_minutes_element_p3'] >= 60]"
   ]
  },
  {
   "cell_type": "markdown",
   "metadata": {},
   "source": [
    "# Modelling data"
   ]
  },
  {
   "cell_type": "markdown",
   "metadata": {
    "heading_collapsed": true
   },
   "source": [
    "## Splitting data"
   ]
  },
  {
   "cell_type": "code",
   "execution_count": 169,
   "metadata": {
    "ExecuteTime": {
     "end_time": "2019-08-07T15:13:36.599837Z",
     "start_time": "2019-08-07T15:13:36.590981Z"
    },
    "hidden": true
   },
   "outputs": [],
   "source": [
    "test_fold = [-1 if i <= last_train_event else 0 for i in element_gameweek_df['event']]\n",
    "ps = PredefinedSplit(test_fold)"
   ]
  },
  {
   "cell_type": "code",
   "execution_count": 170,
   "metadata": {
    "ExecuteTime": {
     "end_time": "2019-08-07T15:13:36.739738Z",
     "start_time": "2019-08-07T15:13:36.726875Z"
    },
    "hidden": true
   },
   "outputs": [],
   "source": [
    "for train_index, test_index in ps.split():\n",
    "    element_gameweek_df_train, element_gameweek_df_test = \\\n",
    "    element_gameweek_df.copy().iloc[train_index], element_gameweek_df.copy().iloc[test_index]"
   ]
  },
  {
   "cell_type": "markdown",
   "metadata": {
    "heading_collapsed": true
   },
   "source": [
    "## Building model"
   ]
  },
  {
   "cell_type": "code",
   "execution_count": 171,
   "metadata": {
    "ExecuteTime": {
     "end_time": "2019-08-07T15:14:01.847830Z",
     "start_time": "2019-08-07T15:14:01.836764Z"
    },
    "hidden": true
   },
   "outputs": [],
   "source": [
    "formula = \\\n",
    "'total_points ~ C(team) + C(opposition_team) + C(element_type) + ' + \\\n",
    "' + '.join([i for i in element_gameweek_df.columns if i not in\n",
    " [\n",
    "     'safe_web_name',\n",
    "     'element',\n",
    "     'event',\n",
    "     'fixture',\n",
    "     'team',\n",
    "     'opposition_team',\n",
    "     'element_type',\n",
    "     'minutes',\n",
    "     'rolling_value_points',\n",
    "     'total_points',\n",
    "     \n",
    "     'expected_total_points_against_opposition_team',\n",
    "     'rolling_avg_total_points_element_home',\n",
    "     'rolling_max_total_points_element',\n",
    "     'rolling_avg_bps_element',\n",
    "     'expected_total_points_element_home_away',\n",
    "     'rolling_avg_total_points_element_away',\n",
    "     'rolling_avg_total_points_own_team',\n",
    "     'rolling_avg_total_points_against_opposition_team',\n",
    "     'rolling_avg_minutes_element',\n",
    "     'rolling_avg_total_points_opposition_team',\n",
    "     'rolling_avg_dribbles_element',\n",
    "     'rolling_avg_total_points_against_opposition_team_element_type',\n",
    "     'rolling_avg_total_points_against_opposition_team_element_type_away',\n",
    "     'rolling_avg_total_points_against_opposition_team_element_type_home',\n",
    "     'rolling_avg_goals_conceded_element',\n",
    "     'rolling_avg_completed_passes_element',\n",
    "     'rolling_avg_total_points_element_type',\n",
    "     'rolling_avg_recoveries_element',\n",
    " ]])"
   ]
  },
  {
   "cell_type": "code",
   "execution_count": 172,
   "metadata": {
    "ExecuteTime": {
     "end_time": "2019-08-07T15:14:03.511439Z",
     "start_time": "2019-08-07T15:14:03.505016Z"
    },
    "hidden": true
   },
   "outputs": [
    {
     "name": "stdout",
     "output_type": "stream",
     "text": [
      "total_points ~ C(team) + C(opposition_team) + C(element_type) + was_home + is_sunday + is_weekday + is_early + is_late + value + rolling_avg_total_points_element + has_high_points_ever_element + rolling_avg_bonus_element + rolling_avg_goals_scored_element + rolling_avg_clean_sheets_element + rolling_avg_assists_element + rolling_avg_key_passes_element + rolling_avg_winning_goals_element + rolling_avg_tackled_element + rolling_avg_clearances_blocks_interceptions_element + rolling_avg_big_chances_created_element + rolling_avg_target_missed_element + rolling_avg_fouls_element + rolling_avg_tackles_element + rolling_avg_open_play_crosses_element + rolling_avg_offside_element + rolling_avg_big_chances_missed_element + rolling_avg_saves_element + rolling_avg_attempted_passes_element + rolling_avg_errors_leading_to_goal_element + rolling_avg_errors_leading_to_goal_attempt_element + rolling_avg_own_goals_element + rolling_avg_penalties_concededd_element + rolling_avg_penalties_missed_element + rolling_avg_penalties_saved_element + rolling_avg_red_cards_element + rolling_avg_yellow_cards_element + rolling_avg_minutes_element_p3 + rolling_avg_total_points_element_p3 + rolling_avg_goals_scored_opposition_team + rolling_avg_goals_conceded_opposition_team + expected_total_points_against_opposition_team_home_away\n"
     ]
    }
   ],
   "source": [
    "print(formula)"
   ]
  },
  {
   "cell_type": "code",
   "execution_count": 173,
   "metadata": {
    "ExecuteTime": {
     "end_time": "2019-08-07T15:14:04.972811Z",
     "start_time": "2019-08-07T15:14:04.776713Z"
    },
    "hidden": true
   },
   "outputs": [],
   "source": [
    "y, X = patsy.dmatrices(formula, element_gameweek_df, return_type='matrix')"
   ]
  },
  {
   "cell_type": "code",
   "execution_count": 174,
   "metadata": {
    "ExecuteTime": {
     "end_time": "2019-08-07T15:14:05.453537Z",
     "start_time": "2019-08-07T15:14:05.433710Z"
    },
    "hidden": true
   },
   "outputs": [],
   "source": [
    "for train_index, test_index in ps.split():\n",
    "    X_train, X_test = X[train_index], X[test_index]\n",
    "    y_train, y_test = y[train_index], y[test_index]"
   ]
  },
  {
   "cell_type": "markdown",
   "metadata": {
    "heading_collapsed": true
   },
   "source": [
    "## Selecting features"
   ]
  },
  {
   "cell_type": "code",
   "execution_count": 200,
   "metadata": {
    "ExecuteTime": {
     "end_time": "2019-08-07T18:28:46.158731Z",
     "start_time": "2019-08-07T18:13:34.400655Z"
    },
    "hidden": true
   },
   "outputs": [
    {
     "name": "stdout",
     "output_type": "stream",
     "text": [
      "Fitting estimator with 80 features.\n",
      "Fitting estimator with 79 features.\n",
      "Fitting estimator with 78 features.\n",
      "Fitting estimator with 77 features.\n",
      "Fitting estimator with 76 features.\n",
      "Fitting estimator with 75 features.\n",
      "Fitting estimator with 74 features.\n",
      "Fitting estimator with 73 features.\n",
      "Fitting estimator with 72 features.\n",
      "Fitting estimator with 71 features.\n",
      "Fitting estimator with 70 features.\n",
      "Fitting estimator with 69 features.\n",
      "Fitting estimator with 68 features.\n",
      "Fitting estimator with 67 features.\n",
      "Fitting estimator with 66 features.\n",
      "Fitting estimator with 65 features.\n",
      "Fitting estimator with 64 features.\n",
      "Fitting estimator with 63 features.\n",
      "Fitting estimator with 62 features.\n",
      "Fitting estimator with 61 features.\n",
      "Fitting estimator with 60 features.\n",
      "Fitting estimator with 59 features.\n",
      "Fitting estimator with 58 features.\n",
      "Fitting estimator with 57 features.\n",
      "Fitting estimator with 56 features.\n",
      "Fitting estimator with 55 features.\n",
      "Fitting estimator with 54 features.\n",
      "Fitting estimator with 53 features.\n",
      "Fitting estimator with 52 features.\n",
      "Fitting estimator with 51 features.\n",
      "Fitting estimator with 50 features.\n",
      "Fitting estimator with 49 features.\n",
      "Fitting estimator with 48 features.\n",
      "Fitting estimator with 47 features.\n",
      "Fitting estimator with 46 features.\n",
      "Fitting estimator with 45 features.\n",
      "Fitting estimator with 44 features.\n",
      "Fitting estimator with 43 features.\n",
      "Fitting estimator with 42 features.\n",
      "Fitting estimator with 41 features.\n",
      "Fitting estimator with 40 features.\n",
      "Fitting estimator with 39 features.\n",
      "Fitting estimator with 38 features.\n",
      "Fitting estimator with 37 features.\n",
      "Fitting estimator with 36 features.\n",
      "Fitting estimator with 35 features.\n",
      "Fitting estimator with 34 features.\n",
      "Fitting estimator with 33 features.\n",
      "Fitting estimator with 32 features.\n",
      "Fitting estimator with 31 features.\n",
      "Fitting estimator with 30 features.\n",
      "Fitting estimator with 29 features.\n",
      "Fitting estimator with 28 features.\n",
      "Fitting estimator with 27 features.\n",
      "Fitting estimator with 26 features.\n",
      "Fitting estimator with 79 features.\n",
      "Fitting estimator with 78 features.\n",
      "Fitting estimator with 77 features.\n",
      "Fitting estimator with 76 features.\n",
      "Fitting estimator with 75 features.\n",
      "Fitting estimator with 74 features.\n",
      "Fitting estimator with 73 features.\n",
      "Fitting estimator with 72 features.\n",
      "Fitting estimator with 71 features.\n",
      "Fitting estimator with 70 features.\n",
      "Fitting estimator with 69 features.\n",
      "Fitting estimator with 68 features.\n",
      "Fitting estimator with 67 features.\n",
      "Fitting estimator with 66 features.\n",
      "Fitting estimator with 65 features.\n",
      "Fitting estimator with 64 features.\n",
      "Fitting estimator with 63 features.\n",
      "Fitting estimator with 62 features.\n",
      "Fitting estimator with 61 features.\n",
      "Fitting estimator with 60 features.\n",
      "Fitting estimator with 59 features.\n",
      "Fitting estimator with 58 features.\n",
      "Fitting estimator with 57 features.\n",
      "Fitting estimator with 56 features.\n",
      "Fitting estimator with 55 features.\n",
      "Fitting estimator with 54 features.\n",
      "Fitting estimator with 53 features.\n",
      "Fitting estimator with 52 features.\n",
      "Fitting estimator with 51 features.\n",
      "Fitting estimator with 50 features.\n",
      "Fitting estimator with 49 features.\n",
      "Fitting estimator with 48 features.\n",
      "Fitting estimator with 47 features.\n",
      "Fitting estimator with 46 features.\n",
      "Fitting estimator with 45 features.\n",
      "Fitting estimator with 44 features.\n",
      "Fitting estimator with 43 features.\n",
      "Fitting estimator with 42 features.\n",
      "Fitting estimator with 41 features.\n",
      "Fitting estimator with 40 features.\n",
      "Fitting estimator with 39 features.\n",
      "Fitting estimator with 38 features.\n",
      "Fitting estimator with 37 features.\n",
      "Fitting estimator with 36 features.\n",
      "Fitting estimator with 35 features.\n",
      "Fitting estimator with 34 features.\n",
      "Fitting estimator with 33 features.\n",
      "Fitting estimator with 32 features.\n",
      "Fitting estimator with 31 features.\n"
     ]
    },
    {
     "data": {
      "text/plain": [
       "RFECV(cv=PredefinedSplit(test_fold=array([-1, -1, ...,  0,  0])),\n",
       "      estimator=RandomForestRegressor(bootstrap=True, criterion='mse',\n",
       "                                      max_depth=None, max_features=0.9,\n",
       "                                      max_leaf_nodes=None,\n",
       "                                      min_impurity_decrease=0.0,\n",
       "                                      min_impurity_split=None,\n",
       "                                      min_samples_leaf=0.0146,\n",
       "                                      min_samples_split=2,\n",
       "                                      min_weight_fraction_leaf=0.0,\n",
       "                                      n_estimators=400, n_jobs=None,\n",
       "                                      oob_score=False, random_state=None,\n",
       "                                      verbose=0, warm_start=False),\n",
       "      min_features_to_select=1, n_jobs=1, scoring='neg_mean_squared_error',\n",
       "      step=1, verbose=1)"
      ]
     },
     "execution_count": 200,
     "metadata": {},
     "output_type": "execute_result"
    }
   ],
   "source": [
    "estimator = RandomForestRegressor(\n",
    "    n_estimators=400,\n",
    "    min_samples_leaf=0.0146,\n",
    "    max_features=0.9)\n",
    "\n",
    "selector = RFECV(estimator, step=1,\n",
    "                 scoring='neg_mean_squared_error',\n",
    "                 cv=ps, n_jobs=1, verbose=1)\n",
    "selector.fit(\n",
    "    X,\n",
    "    y.ravel()\n",
    ")"
   ]
  },
  {
   "cell_type": "code",
   "execution_count": 201,
   "metadata": {
    "ExecuteTime": {
     "end_time": "2019-08-07T18:28:46.166564Z",
     "start_time": "2019-08-07T18:28:46.161530Z"
    },
    "hidden": true
   },
   "outputs": [
    {
     "data": {
      "text/plain": [
       "30"
      ]
     },
     "execution_count": 201,
     "metadata": {},
     "output_type": "execute_result"
    }
   ],
   "source": [
    "sum(selector.support_)"
   ]
  },
  {
   "cell_type": "code",
   "execution_count": 323,
   "metadata": {
    "ExecuteTime": {
     "end_time": "2019-08-08T13:13:02.555018Z",
     "start_time": "2019-08-08T13:13:02.549654Z"
    },
    "hidden": true
   },
   "outputs": [
    {
     "data": {
      "text/plain": [
       "array([False, False, False, False, False, False, False, False, False,\n",
       "       False, False,  True, False, False, False, False, False, False,\n",
       "       False, False, False, False, False, False, False, False, False,\n",
       "       False, False, False, False, False, False, False, False, False,\n",
       "       False, False, False,  True, False, False,  True, False, False,\n",
       "       False,  True,  True,  True, False,  True,  True,  True,  True,\n",
       "        True,  True,  True,  True,  True,  True,  True,  True,  True,\n",
       "        True,  True,  True,  True, False,  True, False, False, False,\n",
       "       False, False,  True,  True,  True,  True,  True,  True])"
      ]
     },
     "execution_count": 323,
     "metadata": {},
     "output_type": "execute_result"
    }
   ],
   "source": [
    "selector.support_"
   ]
  },
  {
   "cell_type": "code",
   "execution_count": 202,
   "metadata": {
    "ExecuteTime": {
     "end_time": "2019-08-07T18:28:46.239434Z",
     "start_time": "2019-08-07T18:28:46.168828Z"
    },
    "hidden": true
   },
   "outputs": [
    {
     "data": {
      "text/plain": [
       "['C(team)[T.12]',\n",
       " 'C(element_type)[T.2]',\n",
       " 'was_home',\n",
       " 'is_late',\n",
       " 'value',\n",
       " 'rolling_avg_total_points_element',\n",
       " 'rolling_avg_bonus_element',\n",
       " 'rolling_avg_goals_scored_element',\n",
       " 'rolling_avg_clean_sheets_element',\n",
       " 'rolling_avg_assists_element',\n",
       " 'rolling_avg_key_passes_element',\n",
       " 'rolling_avg_winning_goals_element',\n",
       " 'rolling_avg_tackled_element',\n",
       " 'rolling_avg_clearances_blocks_interceptions_element',\n",
       " 'rolling_avg_big_chances_created_element',\n",
       " 'rolling_avg_target_missed_element',\n",
       " 'rolling_avg_fouls_element',\n",
       " 'rolling_avg_tackles_element',\n",
       " 'rolling_avg_open_play_crosses_element',\n",
       " 'rolling_avg_offside_element',\n",
       " 'rolling_avg_big_chances_missed_element',\n",
       " 'rolling_avg_saves_element',\n",
       " 'rolling_avg_attempted_passes_element',\n",
       " 'rolling_avg_errors_leading_to_goal_attempt_element',\n",
       " 'rolling_avg_yellow_cards_element',\n",
       " 'rolling_avg_minutes_element_p3',\n",
       " 'rolling_avg_total_points_element_p3',\n",
       " 'rolling_avg_goals_scored_opposition_team',\n",
       " 'rolling_avg_goals_conceded_opposition_team',\n",
       " 'expected_total_points_against_opposition_team_home_away']"
      ]
     },
     "execution_count": 202,
     "metadata": {},
     "output_type": "execute_result"
    }
   ],
   "source": [
    "list(pd.Series(X.design_info.column_names)[selector.support_])"
   ]
  },
  {
   "cell_type": "code",
   "execution_count": 203,
   "metadata": {
    "ExecuteTime": {
     "end_time": "2019-08-07T18:28:46.270846Z",
     "start_time": "2019-08-07T18:28:46.242180Z"
    },
    "hidden": true
   },
   "outputs": [],
   "source": [
    "X_sel = X[:,selector.support_]\n",
    "X_train_sel = X_train[:,selector.support_]\n",
    "X_test_sel = X_test[:,selector.support_]"
   ]
  },
  {
   "cell_type": "markdown",
   "metadata": {},
   "source": [
    "## Tuning model"
   ]
  },
  {
   "cell_type": "markdown",
   "metadata": {
    "heading_collapsed": true
   },
   "source": [
    "### GP tuner"
   ]
  },
  {
   "cell_type": "code",
   "execution_count": 208,
   "metadata": {
    "ExecuteTime": {
     "end_time": "2019-08-08T08:58:02.824707Z",
     "start_time": "2019-08-08T08:58:02.814814Z"
    },
    "hidden": true
   },
   "outputs": [],
   "source": [
    "space  = [\n",
    "    Real(0.01, 0.02, 'log-uniform', name='min_samples_leaf'),\n",
    "    Real(0.2, 0.9, 'uniform', name='max_features'),\n",
    "]"
   ]
  },
  {
   "cell_type": "code",
   "execution_count": 209,
   "metadata": {
    "ExecuteTime": {
     "end_time": "2019-08-08T08:58:03.979465Z",
     "start_time": "2019-08-08T08:58:03.970047Z"
    },
    "hidden": true
   },
   "outputs": [],
   "source": [
    "gp_model = RandomForestRegressor(\n",
    "    n_estimators=400\n",
    ")\n",
    "\n",
    "@use_named_args(space)\n",
    "def objective(**params):\n",
    "    gp_model.set_params(**params)\n",
    "\n",
    "    return -np.mean(\n",
    "        cross_val_score(\n",
    "            gp_model,\n",
    "#             X,\n",
    "            X_sel,\n",
    "            y.ravel(),\n",
    "            cv=ps,\n",
    "            n_jobs=1,\n",
    "            scoring=\"neg_mean_squared_error\"))"
   ]
  },
  {
   "cell_type": "code",
   "execution_count": 210,
   "metadata": {
    "ExecuteTime": {
     "end_time": "2019-08-08T09:20:34.345237Z",
     "start_time": "2019-08-08T08:58:08.406919Z"
    },
    "hidden": true,
    "scrolled": true
   },
   "outputs": [
    {
     "name": "stdout",
     "output_type": "stream",
     "text": [
      "minimisation iteration 1\n",
      "Iteration No: 1 started. Evaluating function at random point.\n",
      "Iteration No: 1 ended. Evaluation done at random point.\n",
      "Time taken: 3.8101\n",
      "Function value obtained: 9.3113\n",
      "Current minimum: 9.3113\n",
      "Iteration No: 2 started. Evaluating function at random point.\n",
      "Iteration No: 2 ended. Evaluation done at random point.\n",
      "Time taken: 4.2247\n",
      "Function value obtained: 9.3063\n",
      "Current minimum: 9.3063\n",
      "Iteration No: 3 started. Evaluating function at random point.\n",
      "Iteration No: 3 ended. Evaluation done at random point.\n",
      "Time taken: 3.9877\n",
      "Function value obtained: 9.3334\n",
      "Current minimum: 9.3063\n",
      "Iteration No: 4 started. Evaluating function at random point.\n",
      "Iteration No: 4 ended. Evaluation done at random point.\n",
      "Time taken: 4.3797\n",
      "Function value obtained: 9.2894\n",
      "Current minimum: 9.2894\n",
      "Iteration No: 5 started. Evaluating function at random point.\n",
      "Iteration No: 5 ended. Evaluation done at random point.\n",
      "Time taken: 3.6226\n",
      "Function value obtained: 9.3162\n",
      "Current minimum: 9.2894\n",
      "Iteration No: 6 started. Evaluating function at random point.\n",
      "Iteration No: 6 ended. Evaluation done at random point.\n",
      "Time taken: 3.5144\n",
      "Function value obtained: 9.2901\n",
      "Current minimum: 9.2894\n",
      "Iteration No: 7 started. Evaluating function at random point.\n",
      "Iteration No: 7 ended. Evaluation done at random point.\n",
      "Time taken: 3.8203\n",
      "Function value obtained: 9.3179\n",
      "Current minimum: 9.2894\n",
      "Iteration No: 8 started. Evaluating function at random point.\n",
      "Iteration No: 8 ended. Evaluation done at random point.\n",
      "Time taken: 2.4449\n",
      "Function value obtained: 9.3281\n",
      "Current minimum: 9.2894\n",
      "Iteration No: 9 started. Evaluating function at random point.\n",
      "Iteration No: 9 ended. Evaluation done at random point.\n",
      "Time taken: 2.2007\n",
      "Function value obtained: 9.3369\n",
      "Current minimum: 9.2894\n",
      "Iteration No: 10 started. Evaluating function at random point.\n",
      "Iteration No: 10 ended. Evaluation done at random point.\n",
      "Time taken: 1.7530\n",
      "Function value obtained: 9.3558\n",
      "Current minimum: 9.2894\n",
      "Iteration No: 11 started. Searching for the next optimal point.\n",
      "Iteration No: 11 ended. Search finished for the next optimal point.\n",
      "Time taken: 5.5345\n",
      "Function value obtained: 9.2953\n",
      "Current minimum: 9.2894\n",
      "Iteration No: 12 started. Searching for the next optimal point.\n"
     ]
    },
    {
     "name": "stderr",
     "output_type": "stream",
     "text": [
      "/home/tom/footbot/venv/lib/python3.6/site-packages/skopt/optimizer/optimizer.py:399: UserWarning: The objective has been evaluated at this point before.\n",
      "  warnings.warn(\"The objective has been evaluated \"\n"
     ]
    },
    {
     "name": "stdout",
     "output_type": "stream",
     "text": [
      "Iteration No: 12 ended. Search finished for the next optimal point.\n",
      "Time taken: 5.5468\n",
      "Function value obtained: 9.2892\n",
      "Current minimum: 9.2892\n",
      "Iteration No: 13 started. Searching for the next optimal point.\n"
     ]
    },
    {
     "name": "stderr",
     "output_type": "stream",
     "text": [
      "/home/tom/footbot/venv/lib/python3.6/site-packages/skopt/optimizer/optimizer.py:399: UserWarning: The objective has been evaluated at this point before.\n",
      "  warnings.warn(\"The objective has been evaluated \"\n"
     ]
    },
    {
     "name": "stdout",
     "output_type": "stream",
     "text": [
      "Iteration No: 13 ended. Search finished for the next optimal point.\n",
      "Time taken: 5.5763\n",
      "Function value obtained: 9.2912\n",
      "Current minimum: 9.2892\n",
      "Iteration No: 14 started. Searching for the next optimal point.\n"
     ]
    },
    {
     "name": "stderr",
     "output_type": "stream",
     "text": [
      "/home/tom/footbot/venv/lib/python3.6/site-packages/skopt/optimizer/optimizer.py:399: UserWarning: The objective has been evaluated at this point before.\n",
      "  warnings.warn(\"The objective has been evaluated \"\n"
     ]
    },
    {
     "name": "stdout",
     "output_type": "stream",
     "text": [
      "Iteration No: 14 ended. Search finished for the next optimal point.\n",
      "Time taken: 5.4926\n",
      "Function value obtained: 9.2918\n",
      "Current minimum: 9.2892\n",
      "Iteration No: 15 started. Searching for the next optimal point.\n"
     ]
    },
    {
     "name": "stderr",
     "output_type": "stream",
     "text": [
      "/home/tom/footbot/venv/lib/python3.6/site-packages/skopt/optimizer/optimizer.py:399: UserWarning: The objective has been evaluated at this point before.\n",
      "  warnings.warn(\"The objective has been evaluated \"\n"
     ]
    },
    {
     "name": "stdout",
     "output_type": "stream",
     "text": [
      "Iteration No: 15 ended. Search finished for the next optimal point.\n",
      "Time taken: 5.6172\n",
      "Function value obtained: 9.2949\n",
      "Current minimum: 9.2892\n",
      "Iteration No: 16 started. Searching for the next optimal point.\n"
     ]
    },
    {
     "name": "stderr",
     "output_type": "stream",
     "text": [
      "/home/tom/footbot/venv/lib/python3.6/site-packages/skopt/optimizer/optimizer.py:399: UserWarning: The objective has been evaluated at this point before.\n",
      "  warnings.warn(\"The objective has been evaluated \"\n"
     ]
    },
    {
     "name": "stdout",
     "output_type": "stream",
     "text": [
      "Iteration No: 16 ended. Search finished for the next optimal point.\n",
      "Time taken: 5.6964\n",
      "Function value obtained: 9.2929\n",
      "Current minimum: 9.2892\n",
      "Iteration No: 17 started. Searching for the next optimal point.\n",
      "Iteration No: 17 ended. Search finished for the next optimal point.\n",
      "Time taken: 4.8050\n",
      "Function value obtained: 9.3085\n",
      "Current minimum: 9.2892\n",
      "Iteration No: 18 started. Searching for the next optimal point.\n",
      "Iteration No: 18 ended. Search finished for the next optimal point.\n",
      "Time taken: 5.9931\n",
      "Function value obtained: 9.2943\n",
      "Current minimum: 9.2892\n",
      "Iteration No: 19 started. Searching for the next optimal point.\n",
      "Iteration No: 19 ended. Search finished for the next optimal point.\n",
      "Time taken: 6.3345\n",
      "Function value obtained: 9.2940\n",
      "Current minimum: 9.2892\n",
      "Iteration No: 20 started. Searching for the next optimal point.\n",
      "Iteration No: 20 ended. Search finished for the next optimal point.\n",
      "Time taken: 6.3695\n",
      "Function value obtained: 9.2968\n",
      "Current minimum: 9.2892\n",
      "Iteration No: 21 started. Searching for the next optimal point.\n",
      "Iteration No: 21 ended. Search finished for the next optimal point.\n",
      "Time taken: 2.5664\n",
      "Function value obtained: 9.4062\n",
      "Current minimum: 9.2892\n",
      "Iteration No: 22 started. Searching for the next optimal point.\n",
      "Iteration No: 22 ended. Search finished for the next optimal point.\n",
      "Time taken: 7.3647\n",
      "Function value obtained: 9.2892\n",
      "Current minimum: 9.2892\n",
      "Iteration No: 23 started. Searching for the next optimal point.\n",
      "Iteration No: 23 ended. Search finished for the next optimal point.\n",
      "Time taken: 7.4105\n",
      "Function value obtained: 9.3165\n",
      "Current minimum: 9.2892\n",
      "Iteration No: 24 started. Searching for the next optimal point.\n",
      "Iteration No: 24 ended. Search finished for the next optimal point.\n",
      "Time taken: 7.2331\n",
      "Function value obtained: 9.3192\n",
      "Current minimum: 9.2892\n",
      "Iteration No: 25 started. Searching for the next optimal point.\n",
      "Iteration No: 25 ended. Search finished for the next optimal point.\n",
      "Time taken: 7.8227\n",
      "Function value obtained: 9.2915\n",
      "Current minimum: 9.2892\n",
      "Iteration No: 26 started. Searching for the next optimal point.\n",
      "Iteration No: 26 ended. Search finished for the next optimal point.\n",
      "Time taken: 5.7844\n",
      "Function value obtained: 9.3375\n",
      "Current minimum: 9.2892\n",
      "Iteration No: 27 started. Searching for the next optimal point.\n",
      "Iteration No: 27 ended. Search finished for the next optimal point.\n",
      "Time taken: 6.7816\n",
      "Function value obtained: 9.2868\n",
      "Current minimum: 9.2868\n",
      "Iteration No: 28 started. Searching for the next optimal point.\n",
      "Iteration No: 28 ended. Search finished for the next optimal point.\n",
      "Time taken: 3.0064\n",
      "Function value obtained: 9.3404\n",
      "Current minimum: 9.2868\n",
      "Iteration No: 29 started. Searching for the next optimal point.\n",
      "Iteration No: 29 ended. Search finished for the next optimal point.\n",
      "Time taken: 7.1967\n",
      "Function value obtained: 9.3119\n",
      "Current minimum: 9.2868\n",
      "Iteration No: 30 started. Searching for the next optimal point.\n",
      "Iteration No: 30 ended. Search finished for the next optimal point.\n",
      "Time taken: 6.8951\n",
      "Function value obtained: 9.2715\n",
      "Current minimum: 9.2715\n",
      "Iteration No: 31 started. Searching for the next optimal point.\n",
      "Iteration No: 31 ended. Search finished for the next optimal point.\n",
      "Time taken: 6.9021\n",
      "Function value obtained: 9.3139\n",
      "Current minimum: 9.2715\n",
      "Iteration No: 32 started. Searching for the next optimal point.\n",
      "Iteration No: 32 ended. Search finished for the next optimal point.\n",
      "Time taken: 6.3704\n",
      "Function value obtained: 9.3398\n",
      "Current minimum: 9.2715\n",
      "Iteration No: 33 started. Searching for the next optimal point.\n",
      "Iteration No: 33 ended. Search finished for the next optimal point.\n",
      "Time taken: 8.1053\n",
      "Function value obtained: 9.2982\n",
      "Current minimum: 9.2715\n",
      "Iteration No: 34 started. Searching for the next optimal point.\n",
      "Iteration No: 34 ended. Search finished for the next optimal point.\n",
      "Time taken: 7.4845\n",
      "Function value obtained: 9.2940\n",
      "Current minimum: 9.2715\n",
      "Iteration No: 35 started. Searching for the next optimal point.\n",
      "Iteration No: 35 ended. Search finished for the next optimal point.\n",
      "Time taken: 3.0066\n",
      "Function value obtained: 9.3413\n",
      "Current minimum: 9.2715\n",
      "Iteration No: 36 started. Searching for the next optimal point.\n"
     ]
    },
    {
     "name": "stderr",
     "output_type": "stream",
     "text": [
      "/home/tom/footbot/venv/lib/python3.6/site-packages/skopt/optimizer/optimizer.py:399: UserWarning: The objective has been evaluated at this point before.\n",
      "  warnings.warn(\"The objective has been evaluated \"\n"
     ]
    },
    {
     "name": "stdout",
     "output_type": "stream",
     "text": [
      "Iteration No: 36 ended. Search finished for the next optimal point.\n",
      "Time taken: 7.8413\n",
      "Function value obtained: 9.3078\n",
      "Current minimum: 9.2715\n",
      "Iteration No: 37 started. Searching for the next optimal point.\n",
      "Iteration No: 37 ended. Search finished for the next optimal point.\n",
      "Time taken: 7.3177\n",
      "Function value obtained: 9.2823\n",
      "Current minimum: 9.2715\n",
      "Iteration No: 38 started. Searching for the next optimal point.\n",
      "Iteration No: 38 ended. Search finished for the next optimal point.\n",
      "Time taken: 6.6637\n",
      "Function value obtained: 9.2938\n",
      "Current minimum: 9.2715\n",
      "Iteration No: 39 started. Searching for the next optimal point.\n",
      "Iteration No: 39 ended. Search finished for the next optimal point.\n",
      "Time taken: 6.1857\n",
      "Function value obtained: 9.2927\n",
      "Current minimum: 9.2715\n",
      "Iteration No: 40 started. Searching for the next optimal point.\n",
      "Iteration No: 40 ended. Search finished for the next optimal point.\n",
      "Time taken: 6.2270\n",
      "Function value obtained: 9.2956\n",
      "Current minimum: 9.2715\n",
      "Iteration No: 41 started. Searching for the next optimal point.\n",
      "Iteration No: 41 ended. Search finished for the next optimal point.\n",
      "Time taken: 7.6514\n",
      "Function value obtained: 9.3021\n",
      "Current minimum: 9.2715\n",
      "Iteration No: 42 started. Searching for the next optimal point.\n",
      "Iteration No: 42 ended. Search finished for the next optimal point.\n",
      "Time taken: 5.9284\n",
      "Function value obtained: 9.3182\n",
      "Current minimum: 9.2715\n",
      "Iteration No: 43 started. Searching for the next optimal point.\n",
      "Iteration No: 43 ended. Search finished for the next optimal point.\n",
      "Time taken: 7.1305\n",
      "Function value obtained: 9.2940\n",
      "Current minimum: 9.2715\n",
      "Iteration No: 44 started. Searching for the next optimal point.\n",
      "Iteration No: 44 ended. Search finished for the next optimal point.\n",
      "Time taken: 6.8799\n",
      "Function value obtained: 9.3099\n",
      "Current minimum: 9.2715\n",
      "Iteration No: 45 started. Searching for the next optimal point.\n",
      "Iteration No: 45 ended. Search finished for the next optimal point.\n",
      "Time taken: 7.2021\n",
      "Function value obtained: 9.2879\n",
      "Current minimum: 9.2715\n",
      "Iteration No: 46 started. Searching for the next optimal point.\n",
      "Iteration No: 46 ended. Search finished for the next optimal point.\n",
      "Time taken: 7.2230\n",
      "Function value obtained: 9.2868\n",
      "Current minimum: 9.2715\n",
      "Iteration No: 47 started. Searching for the next optimal point.\n",
      "Iteration No: 47 ended. Search finished for the next optimal point.\n",
      "Time taken: 6.5380\n",
      "Function value obtained: 9.3239\n",
      "Current minimum: 9.2715\n",
      "Iteration No: 48 started. Searching for the next optimal point.\n",
      "Iteration No: 48 ended. Search finished for the next optimal point.\n",
      "Time taken: 7.0276\n",
      "Function value obtained: 9.2943\n",
      "Current minimum: 9.2715\n",
      "Iteration No: 49 started. Searching for the next optimal point.\n",
      "Iteration No: 49 ended. Search finished for the next optimal point.\n",
      "Time taken: 7.0488\n",
      "Function value obtained: 9.2794\n",
      "Current minimum: 9.2715\n",
      "Iteration No: 50 started. Searching for the next optimal point.\n",
      "Iteration No: 50 ended. Search finished for the next optimal point.\n",
      "Time taken: 6.6340\n",
      "Function value obtained: 9.3199\n",
      "Current minimum: 9.2715\n",
      "minimisation iteration 2\n",
      "Iteration No: 1 started. Evaluating function at random point.\n",
      "Iteration No: 1 ended. Evaluation done at random point.\n",
      "Time taken: 3.3457\n",
      "Function value obtained: 9.3090\n",
      "Current minimum: 9.3090\n",
      "Iteration No: 2 started. Evaluating function at random point.\n",
      "Iteration No: 2 ended. Evaluation done at random point.\n",
      "Time taken: 2.9161\n",
      "Function value obtained: 9.3419\n",
      "Current minimum: 9.3090\n",
      "Iteration No: 3 started. Evaluating function at random point.\n",
      "Iteration No: 3 ended. Evaluation done at random point.\n",
      "Time taken: 2.6743\n",
      "Function value obtained: 9.3340\n",
      "Current minimum: 9.3090\n",
      "Iteration No: 4 started. Evaluating function at random point.\n",
      "Iteration No: 4 ended. Evaluation done at random point.\n",
      "Time taken: 4.2710\n",
      "Function value obtained: 9.3255\n",
      "Current minimum: 9.3090\n",
      "Iteration No: 5 started. Evaluating function at random point.\n",
      "Iteration No: 5 ended. Evaluation done at random point.\n",
      "Time taken: 5.5691\n",
      "Function value obtained: 9.2960\n",
      "Current minimum: 9.2960\n",
      "Iteration No: 6 started. Evaluating function at random point.\n",
      "Iteration No: 6 ended. Evaluation done at random point.\n",
      "Time taken: 5.5401\n",
      "Function value obtained: 9.3040\n",
      "Current minimum: 9.2960\n",
      "Iteration No: 7 started. Evaluating function at random point.\n",
      "Iteration No: 7 ended. Evaluation done at random point.\n",
      "Time taken: 2.7609\n",
      "Function value obtained: 9.3368\n",
      "Current minimum: 9.2960\n",
      "Iteration No: 8 started. Evaluating function at random point.\n",
      "Iteration No: 8 ended. Evaluation done at random point.\n",
      "Time taken: 4.3903\n",
      "Function value obtained: 9.3311\n",
      "Current minimum: 9.2960\n",
      "Iteration No: 9 started. Evaluating function at random point.\n",
      "Iteration No: 9 ended. Evaluation done at random point.\n",
      "Time taken: 4.9932\n",
      "Function value obtained: 9.2873\n",
      "Current minimum: 9.2873\n",
      "Iteration No: 10 started. Evaluating function at random point.\n",
      "Iteration No: 10 ended. Evaluation done at random point.\n",
      "Time taken: 2.7279\n",
      "Function value obtained: 9.3398\n",
      "Current minimum: 9.2873\n",
      "Iteration No: 11 started. Searching for the next optimal point.\n",
      "Iteration No: 11 ended. Search finished for the next optimal point.\n",
      "Time taken: 7.0811\n",
      "Function value obtained: 9.2915\n",
      "Current minimum: 9.2873\n",
      "Iteration No: 12 started. Searching for the next optimal point.\n"
     ]
    },
    {
     "name": "stderr",
     "output_type": "stream",
     "text": [
      "/home/tom/footbot/venv/lib/python3.6/site-packages/skopt/optimizer/optimizer.py:399: UserWarning: The objective has been evaluated at this point before.\n",
      "  warnings.warn(\"The objective has been evaluated \"\n"
     ]
    },
    {
     "name": "stdout",
     "output_type": "stream",
     "text": [
      "Iteration No: 12 ended. Search finished for the next optimal point.\n",
      "Time taken: 7.1545\n",
      "Function value obtained: 9.2899\n",
      "Current minimum: 9.2873\n",
      "Iteration No: 13 started. Searching for the next optimal point.\n"
     ]
    },
    {
     "name": "stderr",
     "output_type": "stream",
     "text": [
      "/home/tom/footbot/venv/lib/python3.6/site-packages/skopt/optimizer/optimizer.py:399: UserWarning: The objective has been evaluated at this point before.\n",
      "  warnings.warn(\"The objective has been evaluated \"\n"
     ]
    },
    {
     "name": "stdout",
     "output_type": "stream",
     "text": [
      "Iteration No: 13 ended. Search finished for the next optimal point.\n",
      "Time taken: 6.3397\n",
      "Function value obtained: 9.2887\n",
      "Current minimum: 9.2873\n",
      "Iteration No: 14 started. Searching for the next optimal point.\n"
     ]
    },
    {
     "name": "stderr",
     "output_type": "stream",
     "text": [
      "/home/tom/footbot/venv/lib/python3.6/site-packages/skopt/optimizer/optimizer.py:399: UserWarning: The objective has been evaluated at this point before.\n",
      "  warnings.warn(\"The objective has been evaluated \"\n"
     ]
    },
    {
     "name": "stdout",
     "output_type": "stream",
     "text": [
      "Iteration No: 14 ended. Search finished for the next optimal point.\n",
      "Time taken: 6.7979\n",
      "Function value obtained: 9.3001\n",
      "Current minimum: 9.2873\n",
      "Iteration No: 15 started. Searching for the next optimal point.\n"
     ]
    },
    {
     "name": "stderr",
     "output_type": "stream",
     "text": [
      "/home/tom/footbot/venv/lib/python3.6/site-packages/skopt/optimizer/optimizer.py:399: UserWarning: The objective has been evaluated at this point before.\n",
      "  warnings.warn(\"The objective has been evaluated \"\n"
     ]
    },
    {
     "name": "stdout",
     "output_type": "stream",
     "text": [
      "Iteration No: 15 ended. Search finished for the next optimal point.\n",
      "Time taken: 7.2417\n",
      "Function value obtained: 9.2984\n",
      "Current minimum: 9.2873\n",
      "Iteration No: 16 started. Searching for the next optimal point.\n",
      "Iteration No: 16 ended. Search finished for the next optimal point.\n",
      "Time taken: 6.7061\n",
      "Function value obtained: 9.3344\n",
      "Current minimum: 9.2873\n",
      "Iteration No: 17 started. Searching for the next optimal point.\n",
      "Iteration No: 17 ended. Search finished for the next optimal point.\n",
      "Time taken: 6.5036\n",
      "Function value obtained: 9.3001\n",
      "Current minimum: 9.2873\n",
      "Iteration No: 18 started. Searching for the next optimal point.\n",
      "Iteration No: 18 ended. Search finished for the next optimal point.\n",
      "Time taken: 7.1929\n",
      "Function value obtained: 9.3032\n",
      "Current minimum: 9.2873\n",
      "Iteration No: 19 started. Searching for the next optimal point.\n",
      "Iteration No: 19 ended. Search finished for the next optimal point.\n",
      "Time taken: 6.9249\n",
      "Function value obtained: 9.3118\n",
      "Current minimum: 9.2873\n",
      "Iteration No: 20 started. Searching for the next optimal point.\n",
      "Iteration No: 20 ended. Search finished for the next optimal point.\n",
      "Time taken: 7.5578\n",
      "Function value obtained: 9.3036\n",
      "Current minimum: 9.2873\n",
      "Iteration No: 21 started. Searching for the next optimal point.\n",
      "Iteration No: 21 ended. Search finished for the next optimal point.\n",
      "Time taken: 7.2906\n",
      "Function value obtained: 9.2968\n",
      "Current minimum: 9.2873\n",
      "Iteration No: 22 started. Searching for the next optimal point.\n",
      "Iteration No: 22 ended. Search finished for the next optimal point.\n",
      "Time taken: 7.6118\n",
      "Function value obtained: 9.2906\n",
      "Current minimum: 9.2873\n",
      "Iteration No: 23 started. Searching for the next optimal point.\n",
      "Iteration No: 23 ended. Search finished for the next optimal point.\n",
      "Time taken: 7.9933\n",
      "Function value obtained: 9.2996\n",
      "Current minimum: 9.2873\n",
      "Iteration No: 24 started. Searching for the next optimal point.\n",
      "Iteration No: 24 ended. Search finished for the next optimal point.\n",
      "Time taken: 2.6201\n",
      "Function value obtained: 9.4034\n",
      "Current minimum: 9.2873\n",
      "Iteration No: 25 started. Searching for the next optimal point.\n",
      "Iteration No: 25 ended. Search finished for the next optimal point.\n",
      "Time taken: 6.5147\n",
      "Function value obtained: 9.3470\n",
      "Current minimum: 9.2873\n",
      "Iteration No: 26 started. Searching for the next optimal point.\n",
      "Iteration No: 26 ended. Search finished for the next optimal point.\n",
      "Time taken: 5.6373\n",
      "Function value obtained: 9.3338\n",
      "Current minimum: 9.2873\n",
      "Iteration No: 27 started. Searching for the next optimal point.\n"
     ]
    },
    {
     "name": "stderr",
     "output_type": "stream",
     "text": [
      "/home/tom/footbot/venv/lib/python3.6/site-packages/skopt/optimizer/optimizer.py:399: UserWarning: The objective has been evaluated at this point before.\n",
      "  warnings.warn(\"The objective has been evaluated \"\n"
     ]
    },
    {
     "name": "stdout",
     "output_type": "stream",
     "text": [
      "Iteration No: 27 ended. Search finished for the next optimal point.\n",
      "Time taken: 7.8123\n",
      "Function value obtained: 9.3036\n",
      "Current minimum: 9.2873\n",
      "Iteration No: 28 started. Searching for the next optimal point.\n"
     ]
    },
    {
     "name": "stderr",
     "output_type": "stream",
     "text": [
      "/home/tom/footbot/venv/lib/python3.6/site-packages/skopt/optimizer/optimizer.py:399: UserWarning: The objective has been evaluated at this point before.\n",
      "  warnings.warn(\"The objective has been evaluated \"\n"
     ]
    },
    {
     "name": "stdout",
     "output_type": "stream",
     "text": [
      "Iteration No: 28 ended. Search finished for the next optimal point.\n",
      "Time taken: 7.8888\n",
      "Function value obtained: 9.3073\n",
      "Current minimum: 9.2873\n",
      "Iteration No: 29 started. Searching for the next optimal point.\n",
      "Iteration No: 29 ended. Search finished for the next optimal point.\n",
      "Time taken: 6.9759\n",
      "Function value obtained: 9.3328\n",
      "Current minimum: 9.2873\n",
      "Iteration No: 30 started. Searching for the next optimal point.\n",
      "Iteration No: 30 ended. Search finished for the next optimal point.\n",
      "Time taken: 3.5816\n",
      "Function value obtained: 9.3577\n",
      "Current minimum: 9.2873\n",
      "Iteration No: 31 started. Searching for the next optimal point.\n",
      "Iteration No: 31 ended. Search finished for the next optimal point.\n",
      "Time taken: 6.2220\n",
      "Function value obtained: 9.2949\n",
      "Current minimum: 9.2873\n",
      "Iteration No: 32 started. Searching for the next optimal point.\n",
      "Iteration No: 32 ended. Search finished for the next optimal point.\n",
      "Time taken: 6.1716\n",
      "Function value obtained: 9.3260\n",
      "Current minimum: 9.2873\n",
      "Iteration No: 33 started. Searching for the next optimal point.\n"
     ]
    },
    {
     "name": "stderr",
     "output_type": "stream",
     "text": [
      "/home/tom/footbot/venv/lib/python3.6/site-packages/skopt/optimizer/optimizer.py:399: UserWarning: The objective has been evaluated at this point before.\n",
      "  warnings.warn(\"The objective has been evaluated \"\n"
     ]
    },
    {
     "name": "stdout",
     "output_type": "stream",
     "text": [
      "Iteration No: 33 ended. Search finished for the next optimal point.\n",
      "Time taken: 7.5293\n",
      "Function value obtained: 9.2798\n",
      "Current minimum: 9.2798\n",
      "Iteration No: 34 started. Searching for the next optimal point.\n",
      "Iteration No: 34 ended. Search finished for the next optimal point.\n",
      "Time taken: 6.5445\n",
      "Function value obtained: 9.3302\n",
      "Current minimum: 9.2798\n",
      "Iteration No: 35 started. Searching for the next optimal point.\n"
     ]
    },
    {
     "name": "stderr",
     "output_type": "stream",
     "text": [
      "/home/tom/footbot/venv/lib/python3.6/site-packages/skopt/optimizer/optimizer.py:399: UserWarning: The objective has been evaluated at this point before.\n",
      "  warnings.warn(\"The objective has been evaluated \"\n"
     ]
    },
    {
     "name": "stdout",
     "output_type": "stream",
     "text": [
      "Iteration No: 35 ended. Search finished for the next optimal point.\n",
      "Time taken: 6.9969\n",
      "Function value obtained: 9.2836\n",
      "Current minimum: 9.2798\n",
      "Iteration No: 36 started. Searching for the next optimal point.\n"
     ]
    },
    {
     "name": "stderr",
     "output_type": "stream",
     "text": [
      "/home/tom/footbot/venv/lib/python3.6/site-packages/skopt/optimizer/optimizer.py:399: UserWarning: The objective has been evaluated at this point before.\n",
      "  warnings.warn(\"The objective has been evaluated \"\n"
     ]
    },
    {
     "name": "stdout",
     "output_type": "stream",
     "text": [
      "Iteration No: 36 ended. Search finished for the next optimal point.\n",
      "Time taken: 7.1327\n",
      "Function value obtained: 9.3084\n",
      "Current minimum: 9.2798\n",
      "Iteration No: 37 started. Searching for the next optimal point.\n"
     ]
    },
    {
     "name": "stderr",
     "output_type": "stream",
     "text": [
      "/home/tom/footbot/venv/lib/python3.6/site-packages/skopt/optimizer/optimizer.py:399: UserWarning: The objective has been evaluated at this point before.\n",
      "  warnings.warn(\"The objective has been evaluated \"\n"
     ]
    },
    {
     "name": "stdout",
     "output_type": "stream",
     "text": [
      "Iteration No: 37 ended. Search finished for the next optimal point.\n",
      "Time taken: 7.4553\n",
      "Function value obtained: 9.2821\n",
      "Current minimum: 9.2798\n",
      "Iteration No: 38 started. Searching for the next optimal point.\n",
      "Iteration No: 38 ended. Search finished for the next optimal point.\n",
      "Time taken: 6.2112\n",
      "Function value obtained: 9.3059\n",
      "Current minimum: 9.2798\n",
      "Iteration No: 39 started. Searching for the next optimal point.\n",
      "Iteration No: 39 ended. Search finished for the next optimal point.\n",
      "Time taken: 6.7073\n",
      "Function value obtained: 9.3032\n",
      "Current minimum: 9.2798\n",
      "Iteration No: 40 started. Searching for the next optimal point.\n"
     ]
    },
    {
     "name": "stderr",
     "output_type": "stream",
     "text": [
      "/home/tom/footbot/venv/lib/python3.6/site-packages/skopt/optimizer/optimizer.py:399: UserWarning: The objective has been evaluated at this point before.\n",
      "  warnings.warn(\"The objective has been evaluated \"\n"
     ]
    },
    {
     "name": "stdout",
     "output_type": "stream",
     "text": [
      "Iteration No: 40 ended. Search finished for the next optimal point.\n",
      "Time taken: 8.1845\n",
      "Function value obtained: 9.2954\n",
      "Current minimum: 9.2798\n",
      "Iteration No: 41 started. Searching for the next optimal point.\n"
     ]
    },
    {
     "name": "stderr",
     "output_type": "stream",
     "text": [
      "/home/tom/footbot/venv/lib/python3.6/site-packages/skopt/optimizer/optimizer.py:399: UserWarning: The objective has been evaluated at this point before.\n",
      "  warnings.warn(\"The objective has been evaluated \"\n"
     ]
    },
    {
     "name": "stdout",
     "output_type": "stream",
     "text": [
      "Iteration No: 41 ended. Search finished for the next optimal point.\n",
      "Time taken: 8.1121\n",
      "Function value obtained: 9.3066\n",
      "Current minimum: 9.2798\n",
      "Iteration No: 42 started. Searching for the next optimal point.\n",
      "Iteration No: 42 ended. Search finished for the next optimal point.\n",
      "Time taken: 6.6621\n",
      "Function value obtained: 9.3212\n",
      "Current minimum: 9.2798\n",
      "Iteration No: 43 started. Searching for the next optimal point.\n",
      "Iteration No: 43 ended. Search finished for the next optimal point.\n",
      "Time taken: 6.0818\n",
      "Function value obtained: 9.3130\n",
      "Current minimum: 9.2798\n",
      "Iteration No: 44 started. Searching for the next optimal point.\n",
      "Iteration No: 44 ended. Search finished for the next optimal point.\n",
      "Time taken: 7.1822\n",
      "Function value obtained: 9.3003\n",
      "Current minimum: 9.2798\n",
      "Iteration No: 45 started. Searching for the next optimal point.\n",
      "Iteration No: 45 ended. Search finished for the next optimal point.\n",
      "Time taken: 2.9501\n",
      "Function value obtained: 9.3490\n",
      "Current minimum: 9.2798\n",
      "Iteration No: 46 started. Searching for the next optimal point.\n"
     ]
    },
    {
     "name": "stderr",
     "output_type": "stream",
     "text": [
      "/home/tom/footbot/venv/lib/python3.6/site-packages/skopt/optimizer/optimizer.py:399: UserWarning: The objective has been evaluated at this point before.\n",
      "  warnings.warn(\"The objective has been evaluated \"\n"
     ]
    },
    {
     "name": "stdout",
     "output_type": "stream",
     "text": [
      "Iteration No: 46 ended. Search finished for the next optimal point.\n",
      "Time taken: 7.3107\n",
      "Function value obtained: 9.3059\n",
      "Current minimum: 9.2798\n",
      "Iteration No: 47 started. Searching for the next optimal point.\n"
     ]
    },
    {
     "name": "stderr",
     "output_type": "stream",
     "text": [
      "/home/tom/footbot/venv/lib/python3.6/site-packages/skopt/optimizer/optimizer.py:399: UserWarning: The objective has been evaluated at this point before.\n",
      "  warnings.warn(\"The objective has been evaluated \"\n"
     ]
    },
    {
     "name": "stdout",
     "output_type": "stream",
     "text": [
      "Iteration No: 47 ended. Search finished for the next optimal point.\n",
      "Time taken: 8.1207\n",
      "Function value obtained: 9.3069\n",
      "Current minimum: 9.2798\n",
      "Iteration No: 48 started. Searching for the next optimal point.\n",
      "Iteration No: 48 ended. Search finished for the next optimal point.\n",
      "Time taken: 7.0714\n",
      "Function value obtained: 9.3132\n",
      "Current minimum: 9.2798\n",
      "Iteration No: 49 started. Searching for the next optimal point.\n"
     ]
    },
    {
     "name": "stderr",
     "output_type": "stream",
     "text": [
      "/home/tom/footbot/venv/lib/python3.6/site-packages/skopt/optimizer/optimizer.py:399: UserWarning: The objective has been evaluated at this point before.\n",
      "  warnings.warn(\"The objective has been evaluated \"\n"
     ]
    },
    {
     "name": "stdout",
     "output_type": "stream",
     "text": [
      "Iteration No: 49 ended. Search finished for the next optimal point.\n",
      "Time taken: 8.3115\n",
      "Function value obtained: 9.3024\n",
      "Current minimum: 9.2798\n",
      "Iteration No: 50 started. Searching for the next optimal point.\n",
      "Iteration No: 50 ended. Search finished for the next optimal point.\n",
      "Time taken: 6.2969\n",
      "Function value obtained: 9.3149\n",
      "Current minimum: 9.2798\n",
      "minimisation iteration 3\n",
      "Iteration No: 1 started. Evaluating function at random point.\n",
      "Iteration No: 1 ended. Evaluation done at random point.\n",
      "Time taken: 2.5335\n",
      "Function value obtained: 9.3586\n",
      "Current minimum: 9.3586\n",
      "Iteration No: 2 started. Evaluating function at random point.\n",
      "Iteration No: 2 ended. Evaluation done at random point.\n",
      "Time taken: 4.5850\n",
      "Function value obtained: 9.3016\n",
      "Current minimum: 9.3016\n",
      "Iteration No: 3 started. Evaluating function at random point.\n",
      "Iteration No: 3 ended. Evaluation done at random point.\n",
      "Time taken: 3.2690\n",
      "Function value obtained: 9.3334\n",
      "Current minimum: 9.3016\n",
      "Iteration No: 4 started. Evaluating function at random point.\n",
      "Iteration No: 4 ended. Evaluation done at random point.\n",
      "Time taken: 4.8539\n",
      "Function value obtained: 9.3092\n",
      "Current minimum: 9.3016\n",
      "Iteration No: 5 started. Evaluating function at random point.\n",
      "Iteration No: 5 ended. Evaluation done at random point.\n",
      "Time taken: 6.4105\n",
      "Function value obtained: 9.2876\n",
      "Current minimum: 9.2876\n",
      "Iteration No: 6 started. Evaluating function at random point.\n",
      "Iteration No: 6 ended. Evaluation done at random point.\n",
      "Time taken: 2.0887\n",
      "Function value obtained: 9.3625\n",
      "Current minimum: 9.2876\n",
      "Iteration No: 7 started. Evaluating function at random point.\n",
      "Iteration No: 7 ended. Evaluation done at random point.\n",
      "Time taken: 5.3501\n",
      "Function value obtained: 9.3197\n",
      "Current minimum: 9.2876\n",
      "Iteration No: 8 started. Evaluating function at random point.\n",
      "Iteration No: 8 ended. Evaluation done at random point.\n",
      "Time taken: 3.4304\n",
      "Function value obtained: 9.3544\n",
      "Current minimum: 9.2876\n",
      "Iteration No: 9 started. Evaluating function at random point.\n",
      "Iteration No: 9 ended. Evaluation done at random point.\n",
      "Time taken: 3.1121\n",
      "Function value obtained: 9.3144\n",
      "Current minimum: 9.2876\n",
      "Iteration No: 10 started. Evaluating function at random point.\n",
      "Iteration No: 10 ended. Evaluation done at random point.\n",
      "Time taken: 2.2978\n",
      "Function value obtained: 9.3662\n",
      "Current minimum: 9.2876\n",
      "Iteration No: 11 started. Searching for the next optimal point.\n",
      "Iteration No: 11 ended. Search finished for the next optimal point.\n",
      "Time taken: 6.8559\n",
      "Function value obtained: 9.3001\n",
      "Current minimum: 9.2876\n",
      "Iteration No: 12 started. Searching for the next optimal point.\n"
     ]
    },
    {
     "name": "stderr",
     "output_type": "stream",
     "text": [
      "/home/tom/footbot/venv/lib/python3.6/site-packages/skopt/optimizer/optimizer.py:399: UserWarning: The objective has been evaluated at this point before.\n",
      "  warnings.warn(\"The objective has been evaluated \"\n"
     ]
    },
    {
     "name": "stdout",
     "output_type": "stream",
     "text": [
      "Iteration No: 12 ended. Search finished for the next optimal point.\n",
      "Time taken: 7.0687\n",
      "Function value obtained: 9.2854\n",
      "Current minimum: 9.2854\n",
      "Iteration No: 13 started. Searching for the next optimal point.\n"
     ]
    },
    {
     "name": "stderr",
     "output_type": "stream",
     "text": [
      "/home/tom/footbot/venv/lib/python3.6/site-packages/skopt/optimizer/optimizer.py:399: UserWarning: The objective has been evaluated at this point before.\n",
      "  warnings.warn(\"The objective has been evaluated \"\n"
     ]
    },
    {
     "name": "stdout",
     "output_type": "stream",
     "text": [
      "Iteration No: 13 ended. Search finished for the next optimal point.\n",
      "Time taken: 7.8420\n",
      "Function value obtained: 9.3095\n",
      "Current minimum: 9.2854\n",
      "Iteration No: 14 started. Searching for the next optimal point.\n",
      "Iteration No: 14 ended. Search finished for the next optimal point.\n",
      "Time taken: 7.2555\n",
      "Function value obtained: 9.2663\n",
      "Current minimum: 9.2663\n",
      "Iteration No: 15 started. Searching for the next optimal point.\n",
      "Iteration No: 15 ended. Search finished for the next optimal point.\n",
      "Time taken: 7.0224\n",
      "Function value obtained: 9.3099\n",
      "Current minimum: 9.2663\n",
      "Iteration No: 16 started. Searching for the next optimal point.\n"
     ]
    },
    {
     "name": "stderr",
     "output_type": "stream",
     "text": [
      "/home/tom/footbot/venv/lib/python3.6/site-packages/skopt/optimizer/optimizer.py:399: UserWarning: The objective has been evaluated at this point before.\n",
      "  warnings.warn(\"The objective has been evaluated \"\n"
     ]
    },
    {
     "name": "stdout",
     "output_type": "stream",
     "text": [
      "Iteration No: 16 ended. Search finished for the next optimal point.\n",
      "Time taken: 7.4476\n",
      "Function value obtained: 9.2858\n",
      "Current minimum: 9.2663\n",
      "Iteration No: 17 started. Searching for the next optimal point.\n"
     ]
    },
    {
     "name": "stderr",
     "output_type": "stream",
     "text": [
      "/home/tom/footbot/venv/lib/python3.6/site-packages/skopt/optimizer/optimizer.py:399: UserWarning: The objective has been evaluated at this point before.\n",
      "  warnings.warn(\"The objective has been evaluated \"\n"
     ]
    },
    {
     "name": "stdout",
     "output_type": "stream",
     "text": [
      "Iteration No: 17 ended. Search finished for the next optimal point.\n",
      "Time taken: 7.5760\n",
      "Function value obtained: 9.2794\n",
      "Current minimum: 9.2663\n",
      "Iteration No: 18 started. Searching for the next optimal point.\n"
     ]
    },
    {
     "name": "stderr",
     "output_type": "stream",
     "text": [
      "/home/tom/footbot/venv/lib/python3.6/site-packages/skopt/optimizer/optimizer.py:399: UserWarning: The objective has been evaluated at this point before.\n",
      "  warnings.warn(\"The objective has been evaluated \"\n"
     ]
    },
    {
     "name": "stdout",
     "output_type": "stream",
     "text": [
      "Iteration No: 18 ended. Search finished for the next optimal point.\n",
      "Time taken: 6.1976\n",
      "Function value obtained: 9.2986\n",
      "Current minimum: 9.2663\n",
      "Iteration No: 19 started. Searching for the next optimal point.\n",
      "Iteration No: 19 ended. Search finished for the next optimal point.\n",
      "Time taken: 5.3049\n",
      "Function value obtained: 9.3292\n",
      "Current minimum: 9.2663\n",
      "Iteration No: 20 started. Searching for the next optimal point.\n"
     ]
    },
    {
     "name": "stderr",
     "output_type": "stream",
     "text": [
      "/home/tom/footbot/venv/lib/python3.6/site-packages/skopt/optimizer/optimizer.py:399: UserWarning: The objective has been evaluated at this point before.\n",
      "  warnings.warn(\"The objective has been evaluated \"\n"
     ]
    },
    {
     "name": "stdout",
     "output_type": "stream",
     "text": [
      "Iteration No: 20 ended. Search finished for the next optimal point.\n",
      "Time taken: 7.1954\n",
      "Function value obtained: 9.3133\n",
      "Current minimum: 9.2663\n",
      "Iteration No: 21 started. Searching for the next optimal point.\n"
     ]
    },
    {
     "name": "stderr",
     "output_type": "stream",
     "text": [
      "/home/tom/footbot/venv/lib/python3.6/site-packages/skopt/optimizer/optimizer.py:399: UserWarning: The objective has been evaluated at this point before.\n",
      "  warnings.warn(\"The objective has been evaluated \"\n"
     ]
    },
    {
     "name": "stdout",
     "output_type": "stream",
     "text": [
      "Iteration No: 21 ended. Search finished for the next optimal point.\n",
      "Time taken: 7.6780\n",
      "Function value obtained: 9.2898\n",
      "Current minimum: 9.2663\n",
      "Iteration No: 22 started. Searching for the next optimal point.\n"
     ]
    },
    {
     "name": "stderr",
     "output_type": "stream",
     "text": [
      "/home/tom/footbot/venv/lib/python3.6/site-packages/skopt/optimizer/optimizer.py:399: UserWarning: The objective has been evaluated at this point before.\n",
      "  warnings.warn(\"The objective has been evaluated \"\n"
     ]
    },
    {
     "name": "stdout",
     "output_type": "stream",
     "text": [
      "Iteration No: 22 ended. Search finished for the next optimal point.\n",
      "Time taken: 7.3578\n",
      "Function value obtained: 9.3039\n",
      "Current minimum: 9.2663\n",
      "Iteration No: 23 started. Searching for the next optimal point.\n"
     ]
    },
    {
     "name": "stderr",
     "output_type": "stream",
     "text": [
      "/home/tom/footbot/venv/lib/python3.6/site-packages/skopt/optimizer/optimizer.py:399: UserWarning: The objective has been evaluated at this point before.\n",
      "  warnings.warn(\"The objective has been evaluated \"\n"
     ]
    },
    {
     "name": "stdout",
     "output_type": "stream",
     "text": [
      "Iteration No: 23 ended. Search finished for the next optimal point.\n",
      "Time taken: 7.9950\n",
      "Function value obtained: 9.3128\n",
      "Current minimum: 9.2663\n",
      "Iteration No: 24 started. Searching for the next optimal point.\n"
     ]
    },
    {
     "name": "stderr",
     "output_type": "stream",
     "text": [
      "/home/tom/footbot/venv/lib/python3.6/site-packages/skopt/optimizer/optimizer.py:399: UserWarning: The objective has been evaluated at this point before.\n",
      "  warnings.warn(\"The objective has been evaluated \"\n"
     ]
    },
    {
     "name": "stdout",
     "output_type": "stream",
     "text": [
      "Iteration No: 24 ended. Search finished for the next optimal point.\n",
      "Time taken: 8.0131\n",
      "Function value obtained: 9.3144\n",
      "Current minimum: 9.2663\n",
      "Iteration No: 25 started. Searching for the next optimal point.\n",
      "Iteration No: 25 ended. Search finished for the next optimal point.\n",
      "Time taken: 2.9659\n",
      "Function value obtained: 9.3414\n",
      "Current minimum: 9.2663\n",
      "Iteration No: 26 started. Searching for the next optimal point.\n"
     ]
    },
    {
     "name": "stderr",
     "output_type": "stream",
     "text": [
      "/home/tom/footbot/venv/lib/python3.6/site-packages/skopt/optimizer/optimizer.py:399: UserWarning: The objective has been evaluated at this point before.\n",
      "  warnings.warn(\"The objective has been evaluated \"\n"
     ]
    },
    {
     "name": "stdout",
     "output_type": "stream",
     "text": [
      "Iteration No: 26 ended. Search finished for the next optimal point.\n",
      "Time taken: 8.2121\n",
      "Function value obtained: 9.2836\n",
      "Current minimum: 9.2663\n",
      "Iteration No: 27 started. Searching for the next optimal point.\n",
      "Iteration No: 27 ended. Search finished for the next optimal point.\n",
      "Time taken: 6.6230\n",
      "Function value obtained: 9.3335\n",
      "Current minimum: 9.2663\n",
      "Iteration No: 28 started. Searching for the next optimal point.\n"
     ]
    },
    {
     "name": "stderr",
     "output_type": "stream",
     "text": [
      "/home/tom/footbot/venv/lib/python3.6/site-packages/skopt/optimizer/optimizer.py:399: UserWarning: The objective has been evaluated at this point before.\n",
      "  warnings.warn(\"The objective has been evaluated \"\n"
     ]
    },
    {
     "name": "stdout",
     "output_type": "stream",
     "text": [
      "Iteration No: 28 ended. Search finished for the next optimal point.\n",
      "Time taken: 7.0806\n",
      "Function value obtained: 9.3136\n",
      "Current minimum: 9.2663\n",
      "Iteration No: 29 started. Searching for the next optimal point.\n"
     ]
    },
    {
     "name": "stderr",
     "output_type": "stream",
     "text": [
      "/home/tom/footbot/venv/lib/python3.6/site-packages/skopt/optimizer/optimizer.py:399: UserWarning: The objective has been evaluated at this point before.\n",
      "  warnings.warn(\"The objective has been evaluated \"\n"
     ]
    },
    {
     "name": "stdout",
     "output_type": "stream",
     "text": [
      "Iteration No: 29 ended. Search finished for the next optimal point.\n",
      "Time taken: 5.9364\n",
      "Function value obtained: 9.3025\n",
      "Current minimum: 9.2663\n",
      "Iteration No: 30 started. Searching for the next optimal point.\n"
     ]
    },
    {
     "name": "stderr",
     "output_type": "stream",
     "text": [
      "/home/tom/footbot/venv/lib/python3.6/site-packages/skopt/optimizer/optimizer.py:399: UserWarning: The objective has been evaluated at this point before.\n",
      "  warnings.warn(\"The objective has been evaluated \"\n"
     ]
    },
    {
     "name": "stdout",
     "output_type": "stream",
     "text": [
      "Iteration No: 30 ended. Search finished for the next optimal point.\n",
      "Time taken: 6.2674\n",
      "Function value obtained: 9.3224\n",
      "Current minimum: 9.2663\n",
      "Iteration No: 31 started. Searching for the next optimal point.\n"
     ]
    },
    {
     "name": "stderr",
     "output_type": "stream",
     "text": [
      "/home/tom/footbot/venv/lib/python3.6/site-packages/skopt/optimizer/optimizer.py:399: UserWarning: The objective has been evaluated at this point before.\n",
      "  warnings.warn(\"The objective has been evaluated \"\n"
     ]
    },
    {
     "name": "stdout",
     "output_type": "stream",
     "text": [
      "Iteration No: 31 ended. Search finished for the next optimal point.\n",
      "Time taken: 5.9266\n",
      "Function value obtained: 9.2988\n",
      "Current minimum: 9.2663\n",
      "Iteration No: 32 started. Searching for the next optimal point.\n"
     ]
    },
    {
     "name": "stderr",
     "output_type": "stream",
     "text": [
      "/home/tom/footbot/venv/lib/python3.6/site-packages/skopt/optimizer/optimizer.py:399: UserWarning: The objective has been evaluated at this point before.\n",
      "  warnings.warn(\"The objective has been evaluated \"\n"
     ]
    },
    {
     "name": "stdout",
     "output_type": "stream",
     "text": [
      "Iteration No: 32 ended. Search finished for the next optimal point.\n",
      "Time taken: 5.9157\n",
      "Function value obtained: 9.2978\n",
      "Current minimum: 9.2663\n",
      "Iteration No: 33 started. Searching for the next optimal point.\n",
      "Iteration No: 33 ended. Search finished for the next optimal point.\n",
      "Time taken: 2.2832\n",
      "Function value obtained: 9.3553\n",
      "Current minimum: 9.2663\n",
      "Iteration No: 34 started. Searching for the next optimal point.\n"
     ]
    },
    {
     "name": "stderr",
     "output_type": "stream",
     "text": [
      "/home/tom/footbot/venv/lib/python3.6/site-packages/skopt/optimizer/optimizer.py:399: UserWarning: The objective has been evaluated at this point before.\n",
      "  warnings.warn(\"The objective has been evaluated \"\n"
     ]
    },
    {
     "name": "stdout",
     "output_type": "stream",
     "text": [
      "Iteration No: 34 ended. Search finished for the next optimal point.\n",
      "Time taken: 5.9812\n",
      "Function value obtained: 9.3023\n",
      "Current minimum: 9.2663\n",
      "Iteration No: 35 started. Searching for the next optimal point.\n",
      "Iteration No: 35 ended. Search finished for the next optimal point.\n",
      "Time taken: 4.5756\n",
      "Function value obtained: 9.3315\n",
      "Current minimum: 9.2663\n",
      "Iteration No: 36 started. Searching for the next optimal point.\n",
      "Iteration No: 36 ended. Search finished for the next optimal point.\n",
      "Time taken: 5.2476\n",
      "Function value obtained: 9.3261\n",
      "Current minimum: 9.2663\n",
      "Iteration No: 37 started. Searching for the next optimal point.\n",
      "Iteration No: 37 ended. Search finished for the next optimal point.\n",
      "Time taken: 4.8595\n",
      "Function value obtained: 9.3203\n",
      "Current minimum: 9.2663\n",
      "Iteration No: 38 started. Searching for the next optimal point.\n"
     ]
    },
    {
     "name": "stderr",
     "output_type": "stream",
     "text": [
      "/home/tom/footbot/venv/lib/python3.6/site-packages/skopt/optimizer/optimizer.py:399: UserWarning: The objective has been evaluated at this point before.\n",
      "  warnings.warn(\"The objective has been evaluated \"\n"
     ]
    },
    {
     "name": "stdout",
     "output_type": "stream",
     "text": [
      "Iteration No: 38 ended. Search finished for the next optimal point.\n",
      "Time taken: 6.0377\n",
      "Function value obtained: 9.3188\n",
      "Current minimum: 9.2663\n",
      "Iteration No: 39 started. Searching for the next optimal point.\n"
     ]
    },
    {
     "name": "stderr",
     "output_type": "stream",
     "text": [
      "/home/tom/footbot/venv/lib/python3.6/site-packages/skopt/optimizer/optimizer.py:399: UserWarning: The objective has been evaluated at this point before.\n",
      "  warnings.warn(\"The objective has been evaluated \"\n"
     ]
    },
    {
     "name": "stdout",
     "output_type": "stream",
     "text": [
      "Iteration No: 39 ended. Search finished for the next optimal point.\n",
      "Time taken: 6.1040\n",
      "Function value obtained: 9.2923\n",
      "Current minimum: 9.2663\n",
      "Iteration No: 40 started. Searching for the next optimal point.\n"
     ]
    },
    {
     "name": "stderr",
     "output_type": "stream",
     "text": [
      "/home/tom/footbot/venv/lib/python3.6/site-packages/skopt/optimizer/optimizer.py:399: UserWarning: The objective has been evaluated at this point before.\n",
      "  warnings.warn(\"The objective has been evaluated \"\n"
     ]
    },
    {
     "name": "stdout",
     "output_type": "stream",
     "text": [
      "Iteration No: 40 ended. Search finished for the next optimal point.\n",
      "Time taken: 6.1139\n",
      "Function value obtained: 9.2957\n",
      "Current minimum: 9.2663\n",
      "Iteration No: 41 started. Searching for the next optimal point.\n",
      "Iteration No: 41 ended. Search finished for the next optimal point.\n",
      "Time taken: 2.2456\n",
      "Function value obtained: 9.4051\n",
      "Current minimum: 9.2663\n",
      "Iteration No: 42 started. Searching for the next optimal point.\n",
      "Iteration No: 42 ended. Search finished for the next optimal point.\n",
      "Time taken: 4.4155\n",
      "Function value obtained: 9.2868\n",
      "Current minimum: 9.2663\n",
      "Iteration No: 43 started. Searching for the next optimal point.\n",
      "Iteration No: 43 ended. Search finished for the next optimal point.\n",
      "Time taken: 5.4797\n",
      "Function value obtained: 9.2830\n",
      "Current minimum: 9.2663\n",
      "Iteration No: 44 started. Searching for the next optimal point.\n",
      "Iteration No: 44 ended. Search finished for the next optimal point.\n",
      "Time taken: 4.5419\n",
      "Function value obtained: 9.3003\n",
      "Current minimum: 9.2663\n",
      "Iteration No: 45 started. Searching for the next optimal point.\n",
      "Iteration No: 45 ended. Search finished for the next optimal point.\n",
      "Time taken: 4.8229\n",
      "Function value obtained: 9.3149\n",
      "Current minimum: 9.2663\n",
      "Iteration No: 46 started. Searching for the next optimal point.\n",
      "Iteration No: 46 ended. Search finished for the next optimal point.\n",
      "Time taken: 5.5066\n",
      "Function value obtained: 9.2779\n",
      "Current minimum: 9.2663\n",
      "Iteration No: 47 started. Searching for the next optimal point.\n",
      "Iteration No: 47 ended. Search finished for the next optimal point.\n",
      "Time taken: 4.9010\n",
      "Function value obtained: 9.2986\n",
      "Current minimum: 9.2663\n",
      "Iteration No: 48 started. Searching for the next optimal point.\n",
      "Iteration No: 48 ended. Search finished for the next optimal point.\n",
      "Time taken: 5.1885\n",
      "Function value obtained: 9.2843\n",
      "Current minimum: 9.2663\n",
      "Iteration No: 49 started. Searching for the next optimal point.\n",
      "Iteration No: 49 ended. Search finished for the next optimal point.\n",
      "Time taken: 5.4148\n",
      "Function value obtained: 9.2834\n",
      "Current minimum: 9.2663\n",
      "Iteration No: 50 started. Searching for the next optimal point.\n",
      "Iteration No: 50 ended. Search finished for the next optimal point.\n",
      "Time taken: 5.4186\n",
      "Function value obtained: 9.2903\n",
      "Current minimum: 9.2663\n",
      "minimisation iteration 4\n",
      "Iteration No: 1 started. Evaluating function at random point.\n",
      "Iteration No: 1 ended. Evaluation done at random point.\n",
      "Time taken: 1.3798\n",
      "Function value obtained: 9.3824\n",
      "Current minimum: 9.3824\n",
      "Iteration No: 2 started. Evaluating function at random point.\n",
      "Iteration No: 2 ended. Evaluation done at random point.\n",
      "Time taken: 2.9475\n",
      "Function value obtained: 9.3068\n",
      "Current minimum: 9.3068\n",
      "Iteration No: 3 started. Evaluating function at random point.\n",
      "Iteration No: 3 ended. Evaluation done at random point.\n",
      "Time taken: 2.4693\n",
      "Function value obtained: 9.3373\n",
      "Current minimum: 9.3068\n",
      "Iteration No: 4 started. Evaluating function at random point.\n",
      "Iteration No: 4 ended. Evaluation done at random point.\n",
      "Time taken: 2.8988\n",
      "Function value obtained: 9.3137\n",
      "Current minimum: 9.3068\n",
      "Iteration No: 5 started. Evaluating function at random point.\n",
      "Iteration No: 5 ended. Evaluation done at random point.\n",
      "Time taken: 2.2365\n",
      "Function value obtained: 9.3354\n",
      "Current minimum: 9.3068\n",
      "Iteration No: 6 started. Evaluating function at random point.\n",
      "Iteration No: 6 ended. Evaluation done at random point.\n",
      "Time taken: 4.1159\n",
      "Function value obtained: 9.3102\n",
      "Current minimum: 9.3068\n",
      "Iteration No: 7 started. Evaluating function at random point.\n",
      "Iteration No: 7 ended. Evaluation done at random point.\n",
      "Time taken: 3.1120\n",
      "Function value obtained: 9.2890\n",
      "Current minimum: 9.2890\n",
      "Iteration No: 8 started. Evaluating function at random point.\n",
      "Iteration No: 8 ended. Evaluation done at random point.\n",
      "Time taken: 1.6027\n",
      "Function value obtained: 9.3640\n",
      "Current minimum: 9.2890\n",
      "Iteration No: 9 started. Evaluating function at random point.\n",
      "Iteration No: 9 ended. Evaluation done at random point.\n",
      "Time taken: 3.9488\n",
      "Function value obtained: 9.3050\n",
      "Current minimum: 9.2890\n",
      "Iteration No: 10 started. Evaluating function at random point.\n",
      "Iteration No: 10 ended. Evaluation done at random point.\n",
      "Time taken: 2.4421\n",
      "Function value obtained: 9.3698\n",
      "Current minimum: 9.2890\n",
      "Iteration No: 11 started. Searching for the next optimal point.\n",
      "Iteration No: 11 ended. Search finished for the next optimal point.\n",
      "Time taken: 3.4171\n",
      "Function value obtained: 9.3696\n",
      "Current minimum: 9.2890\n",
      "Iteration No: 12 started. Searching for the next optimal point.\n",
      "Iteration No: 12 ended. Search finished for the next optimal point.\n",
      "Time taken: 5.6817\n",
      "Function value obtained: 9.3037\n",
      "Current minimum: 9.2890\n",
      "Iteration No: 13 started. Searching for the next optimal point.\n",
      "Iteration No: 13 ended. Search finished for the next optimal point.\n",
      "Time taken: 4.5173\n",
      "Function value obtained: 9.3171\n",
      "Current minimum: 9.2890\n",
      "Iteration No: 14 started. Searching for the next optimal point.\n",
      "Iteration No: 14 ended. Search finished for the next optimal point.\n",
      "Time taken: 5.2861\n",
      "Function value obtained: 9.3243\n",
      "Current minimum: 9.2890\n",
      "Iteration No: 15 started. Searching for the next optimal point.\n",
      "Iteration No: 15 ended. Search finished for the next optimal point.\n",
      "Time taken: 2.2064\n",
      "Function value obtained: 9.3383\n",
      "Current minimum: 9.2890\n",
      "Iteration No: 16 started. Searching for the next optimal point.\n"
     ]
    },
    {
     "name": "stderr",
     "output_type": "stream",
     "text": [
      "/home/tom/footbot/venv/lib/python3.6/site-packages/skopt/optimizer/optimizer.py:399: UserWarning: The objective has been evaluated at this point before.\n",
      "  warnings.warn(\"The objective has been evaluated \"\n"
     ]
    },
    {
     "name": "stdout",
     "output_type": "stream",
     "text": [
      "Iteration No: 16 ended. Search finished for the next optimal point.\n",
      "Time taken: 5.7012\n",
      "Function value obtained: 9.2832\n",
      "Current minimum: 9.2832\n",
      "Iteration No: 17 started. Searching for the next optimal point.\n"
     ]
    },
    {
     "name": "stderr",
     "output_type": "stream",
     "text": [
      "/home/tom/footbot/venv/lib/python3.6/site-packages/skopt/optimizer/optimizer.py:399: UserWarning: The objective has been evaluated at this point before.\n",
      "  warnings.warn(\"The objective has been evaluated \"\n"
     ]
    },
    {
     "name": "stdout",
     "output_type": "stream",
     "text": [
      "Iteration No: 17 ended. Search finished for the next optimal point.\n",
      "Time taken: 5.6539\n",
      "Function value obtained: 9.2833\n",
      "Current minimum: 9.2832\n",
      "Iteration No: 18 started. Searching for the next optimal point.\n"
     ]
    },
    {
     "name": "stderr",
     "output_type": "stream",
     "text": [
      "/home/tom/footbot/venv/lib/python3.6/site-packages/skopt/optimizer/optimizer.py:399: UserWarning: The objective has been evaluated at this point before.\n",
      "  warnings.warn(\"The objective has been evaluated \"\n"
     ]
    },
    {
     "name": "stdout",
     "output_type": "stream",
     "text": [
      "Iteration No: 18 ended. Search finished for the next optimal point.\n",
      "Time taken: 5.6377\n",
      "Function value obtained: 9.2948\n",
      "Current minimum: 9.2832\n",
      "Iteration No: 19 started. Searching for the next optimal point.\n"
     ]
    },
    {
     "name": "stderr",
     "output_type": "stream",
     "text": [
      "/home/tom/footbot/venv/lib/python3.6/site-packages/skopt/optimizer/optimizer.py:399: UserWarning: The objective has been evaluated at this point before.\n",
      "  warnings.warn(\"The objective has been evaluated \"\n"
     ]
    },
    {
     "name": "stdout",
     "output_type": "stream",
     "text": [
      "Iteration No: 19 ended. Search finished for the next optimal point.\n",
      "Time taken: 5.8121\n",
      "Function value obtained: 9.3132\n",
      "Current minimum: 9.2832\n",
      "Iteration No: 20 started. Searching for the next optimal point.\n"
     ]
    },
    {
     "name": "stderr",
     "output_type": "stream",
     "text": [
      "/home/tom/footbot/venv/lib/python3.6/site-packages/skopt/optimizer/optimizer.py:399: UserWarning: The objective has been evaluated at this point before.\n",
      "  warnings.warn(\"The objective has been evaluated \"\n"
     ]
    },
    {
     "name": "stdout",
     "output_type": "stream",
     "text": [
      "Iteration No: 20 ended. Search finished for the next optimal point.\n",
      "Time taken: 5.6454\n",
      "Function value obtained: 9.3037\n",
      "Current minimum: 9.2832\n",
      "Iteration No: 21 started. Searching for the next optimal point.\n",
      "Iteration No: 21 ended. Search finished for the next optimal point.\n",
      "Time taken: 4.9059\n",
      "Function value obtained: 9.3085\n",
      "Current minimum: 9.2832\n",
      "Iteration No: 22 started. Searching for the next optimal point.\n",
      "Iteration No: 22 ended. Search finished for the next optimal point.\n",
      "Time taken: 4.6809\n",
      "Function value obtained: 9.3263\n",
      "Current minimum: 9.2832\n",
      "Iteration No: 23 started. Searching for the next optimal point.\n",
      "Iteration No: 23 ended. Search finished for the next optimal point.\n",
      "Time taken: 6.0418\n",
      "Function value obtained: 9.2912\n",
      "Current minimum: 9.2832\n",
      "Iteration No: 24 started. Searching for the next optimal point.\n"
     ]
    },
    {
     "name": "stderr",
     "output_type": "stream",
     "text": [
      "/home/tom/footbot/venv/lib/python3.6/site-packages/skopt/optimizer/optimizer.py:399: UserWarning: The objective has been evaluated at this point before.\n",
      "  warnings.warn(\"The objective has been evaluated \"\n"
     ]
    },
    {
     "name": "stdout",
     "output_type": "stream",
     "text": [
      "Iteration No: 24 ended. Search finished for the next optimal point.\n",
      "Time taken: 5.8755\n",
      "Function value obtained: 9.3054\n",
      "Current minimum: 9.2832\n",
      "Iteration No: 25 started. Searching for the next optimal point.\n"
     ]
    },
    {
     "name": "stderr",
     "output_type": "stream",
     "text": [
      "/home/tom/footbot/venv/lib/python3.6/site-packages/skopt/optimizer/optimizer.py:399: UserWarning: The objective has been evaluated at this point before.\n",
      "  warnings.warn(\"The objective has been evaluated \"\n"
     ]
    },
    {
     "name": "stdout",
     "output_type": "stream",
     "text": [
      "Iteration No: 25 ended. Search finished for the next optimal point.\n",
      "Time taken: 5.9421\n",
      "Function value obtained: 9.3145\n",
      "Current minimum: 9.2832\n",
      "Iteration No: 26 started. Searching for the next optimal point.\n",
      "Iteration No: 26 ended. Search finished for the next optimal point.\n",
      "Time taken: 4.5028\n",
      "Function value obtained: 9.3182\n",
      "Current minimum: 9.2832\n",
      "Iteration No: 27 started. Searching for the next optimal point.\n",
      "Iteration No: 27 ended. Search finished for the next optimal point.\n",
      "Time taken: 5.5909\n",
      "Function value obtained: 9.3271\n",
      "Current minimum: 9.2832\n",
      "Iteration No: 28 started. Searching for the next optimal point.\n",
      "Iteration No: 28 ended. Search finished for the next optimal point.\n",
      "Time taken: 2.2179\n",
      "Function value obtained: 9.3559\n",
      "Current minimum: 9.2832\n",
      "Iteration No: 29 started. Searching for the next optimal point.\n",
      "Iteration No: 29 ended. Search finished for the next optimal point.\n",
      "Time taken: 4.9386\n",
      "Function value obtained: 9.3235\n",
      "Current minimum: 9.2832\n",
      "Iteration No: 30 started. Searching for the next optimal point.\n",
      "Iteration No: 30 ended. Search finished for the next optimal point.\n",
      "Time taken: 4.8273\n",
      "Function value obtained: 9.3073\n",
      "Current minimum: 9.2832\n",
      "Iteration No: 31 started. Searching for the next optimal point.\n",
      "Iteration No: 31 ended. Search finished for the next optimal point.\n",
      "Time taken: 6.0462\n",
      "Function value obtained: 9.2942\n",
      "Current minimum: 9.2832\n",
      "Iteration No: 32 started. Searching for the next optimal point.\n"
     ]
    },
    {
     "name": "stderr",
     "output_type": "stream",
     "text": [
      "/home/tom/footbot/venv/lib/python3.6/site-packages/skopt/optimizer/optimizer.py:399: UserWarning: The objective has been evaluated at this point before.\n",
      "  warnings.warn(\"The objective has been evaluated \"\n"
     ]
    },
    {
     "name": "stdout",
     "output_type": "stream",
     "text": [
      "Iteration No: 32 ended. Search finished for the next optimal point.\n",
      "Time taken: 6.3040\n",
      "Function value obtained: 9.3002\n",
      "Current minimum: 9.2832\n",
      "Iteration No: 33 started. Searching for the next optimal point.\n"
     ]
    },
    {
     "name": "stderr",
     "output_type": "stream",
     "text": [
      "/home/tom/footbot/venv/lib/python3.6/site-packages/skopt/optimizer/optimizer.py:399: UserWarning: The objective has been evaluated at this point before.\n",
      "  warnings.warn(\"The objective has been evaluated \"\n"
     ]
    },
    {
     "name": "stdout",
     "output_type": "stream",
     "text": [
      "Iteration No: 33 ended. Search finished for the next optimal point.\n",
      "Time taken: 6.0059\n",
      "Function value obtained: 9.3374\n",
      "Current minimum: 9.2832\n",
      "Iteration No: 34 started. Searching for the next optimal point.\n",
      "Iteration No: 34 ended. Search finished for the next optimal point.\n",
      "Time taken: 4.7379\n",
      "Function value obtained: 9.2930\n",
      "Current minimum: 9.2832\n",
      "Iteration No: 35 started. Searching for the next optimal point.\n",
      "Iteration No: 35 ended. Search finished for the next optimal point.\n",
      "Time taken: 4.6484\n",
      "Function value obtained: 9.3085\n",
      "Current minimum: 9.2832\n",
      "Iteration No: 36 started. Searching for the next optimal point.\n",
      "Iteration No: 36 ended. Search finished for the next optimal point.\n",
      "Time taken: 5.4022\n",
      "Function value obtained: 9.3114\n",
      "Current minimum: 9.2832\n",
      "Iteration No: 37 started. Searching for the next optimal point.\n",
      "Iteration No: 37 ended. Search finished for the next optimal point.\n",
      "Time taken: 4.9555\n",
      "Function value obtained: 9.3270\n",
      "Current minimum: 9.2832\n",
      "Iteration No: 38 started. Searching for the next optimal point.\n",
      "Iteration No: 38 ended. Search finished for the next optimal point.\n",
      "Time taken: 4.4590\n",
      "Function value obtained: 9.3025\n",
      "Current minimum: 9.2832\n",
      "Iteration No: 39 started. Searching for the next optimal point.\n",
      "Iteration No: 39 ended. Search finished for the next optimal point.\n",
      "Time taken: 4.3974\n",
      "Function value obtained: 9.3190\n",
      "Current minimum: 9.2832\n",
      "Iteration No: 40 started. Searching for the next optimal point.\n",
      "Iteration No: 40 ended. Search finished for the next optimal point.\n",
      "Time taken: 5.7062\n",
      "Function value obtained: 9.2940\n",
      "Current minimum: 9.2832\n",
      "Iteration No: 41 started. Searching for the next optimal point.\n",
      "Iteration No: 41 ended. Search finished for the next optimal point.\n",
      "Time taken: 5.6339\n",
      "Function value obtained: 9.2932\n",
      "Current minimum: 9.2832\n",
      "Iteration No: 42 started. Searching for the next optimal point.\n"
     ]
    },
    {
     "name": "stderr",
     "output_type": "stream",
     "text": [
      "/home/tom/footbot/venv/lib/python3.6/site-packages/skopt/optimizer/optimizer.py:399: UserWarning: The objective has been evaluated at this point before.\n",
      "  warnings.warn(\"The objective has been evaluated \"\n"
     ]
    },
    {
     "name": "stdout",
     "output_type": "stream",
     "text": [
      "Iteration No: 42 ended. Search finished for the next optimal point.\n",
      "Time taken: 6.1543\n",
      "Function value obtained: 9.2987\n",
      "Current minimum: 9.2832\n",
      "Iteration No: 43 started. Searching for the next optimal point.\n",
      "Iteration No: 43 ended. Search finished for the next optimal point.\n",
      "Time taken: 5.8671\n",
      "Function value obtained: 9.2888\n",
      "Current minimum: 9.2832\n",
      "Iteration No: 44 started. Searching for the next optimal point.\n",
      "Iteration No: 44 ended. Search finished for the next optimal point.\n",
      "Time taken: 5.7377\n",
      "Function value obtained: 9.3079\n",
      "Current minimum: 9.2832\n",
      "Iteration No: 45 started. Searching for the next optimal point.\n",
      "Iteration No: 45 ended. Search finished for the next optimal point.\n",
      "Time taken: 5.8476\n",
      "Function value obtained: 9.3032\n",
      "Current minimum: 9.2832\n",
      "Iteration No: 46 started. Searching for the next optimal point.\n",
      "Iteration No: 46 ended. Search finished for the next optimal point.\n",
      "Time taken: 5.6621\n",
      "Function value obtained: 9.2872\n",
      "Current minimum: 9.2832\n",
      "Iteration No: 47 started. Searching for the next optimal point.\n",
      "Iteration No: 47 ended. Search finished for the next optimal point.\n",
      "Time taken: 5.5351\n",
      "Function value obtained: 9.3005\n",
      "Current minimum: 9.2832\n",
      "Iteration No: 48 started. Searching for the next optimal point.\n",
      "Iteration No: 48 ended. Search finished for the next optimal point.\n",
      "Time taken: 5.3531\n",
      "Function value obtained: 9.3169\n",
      "Current minimum: 9.2832\n",
      "Iteration No: 49 started. Searching for the next optimal point.\n",
      "Iteration No: 49 ended. Search finished for the next optimal point.\n",
      "Time taken: 5.5863\n",
      "Function value obtained: 9.2969\n",
      "Current minimum: 9.2832\n",
      "Iteration No: 50 started. Searching for the next optimal point.\n",
      "Iteration No: 50 ended. Search finished for the next optimal point.\n",
      "Time taken: 5.7897\n",
      "Function value obtained: 9.2843\n",
      "Current minimum: 9.2832\n",
      "minimisation iteration 5\n",
      "Iteration No: 1 started. Evaluating function at random point.\n",
      "Iteration No: 1 ended. Evaluation done at random point.\n",
      "Time taken: 3.1338\n",
      "Function value obtained: 9.3165\n",
      "Current minimum: 9.3165\n",
      "Iteration No: 2 started. Evaluating function at random point.\n",
      "Iteration No: 2 ended. Evaluation done at random point.\n",
      "Time taken: 2.3966\n",
      "Function value obtained: 9.3243\n",
      "Current minimum: 9.3165\n",
      "Iteration No: 3 started. Evaluating function at random point.\n",
      "Iteration No: 3 ended. Evaluation done at random point.\n",
      "Time taken: 2.8380\n",
      "Function value obtained: 9.3103\n",
      "Current minimum: 9.3103\n",
      "Iteration No: 4 started. Evaluating function at random point.\n",
      "Iteration No: 4 ended. Evaluation done at random point.\n",
      "Time taken: 3.6236\n",
      "Function value obtained: 9.3206\n",
      "Current minimum: 9.3103\n",
      "Iteration No: 5 started. Evaluating function at random point.\n",
      "Iteration No: 5 ended. Evaluation done at random point.\n",
      "Time taken: 3.4004\n",
      "Function value obtained: 9.3267\n",
      "Current minimum: 9.3103\n",
      "Iteration No: 6 started. Evaluating function at random point.\n",
      "Iteration No: 6 ended. Evaluation done at random point.\n",
      "Time taken: 3.9671\n",
      "Function value obtained: 9.2781\n",
      "Current minimum: 9.2781\n",
      "Iteration No: 7 started. Evaluating function at random point.\n",
      "Iteration No: 7 ended. Evaluation done at random point.\n",
      "Time taken: 4.3132\n",
      "Function value obtained: 9.2866\n",
      "Current minimum: 9.2781\n",
      "Iteration No: 8 started. Evaluating function at random point.\n",
      "Iteration No: 8 ended. Evaluation done at random point.\n",
      "Time taken: 3.6985\n",
      "Function value obtained: 9.2930\n",
      "Current minimum: 9.2781\n",
      "Iteration No: 9 started. Evaluating function at random point.\n",
      "Iteration No: 9 ended. Evaluation done at random point.\n",
      "Time taken: 4.7074\n",
      "Function value obtained: 9.3129\n",
      "Current minimum: 9.2781\n",
      "Iteration No: 10 started. Evaluating function at random point.\n",
      "Iteration No: 10 ended. Evaluation done at random point.\n",
      "Time taken: 3.9921\n",
      "Function value obtained: 9.3007\n",
      "Current minimum: 9.2781\n",
      "Iteration No: 11 started. Searching for the next optimal point.\n",
      "Iteration No: 11 ended. Search finished for the next optimal point.\n",
      "Time taken: 5.4820\n",
      "Function value obtained: 9.2906\n",
      "Current minimum: 9.2781\n",
      "Iteration No: 12 started. Searching for the next optimal point.\n",
      "Iteration No: 12 ended. Search finished for the next optimal point.\n",
      "Time taken: 4.5011\n",
      "Function value obtained: 9.3392\n",
      "Current minimum: 9.2781\n",
      "Iteration No: 13 started. Searching for the next optimal point.\n",
      "Iteration No: 13 ended. Search finished for the next optimal point.\n",
      "Time taken: 2.6046\n",
      "Function value obtained: 9.3253\n",
      "Current minimum: 9.2781\n",
      "Iteration No: 14 started. Searching for the next optimal point.\n",
      "Iteration No: 14 ended. Search finished for the next optimal point.\n",
      "Time taken: 5.2361\n",
      "Function value obtained: 9.3022\n",
      "Current minimum: 9.2781\n",
      "Iteration No: 15 started. Searching for the next optimal point.\n",
      "Iteration No: 15 ended. Search finished for the next optimal point.\n",
      "Time taken: 1.7442\n",
      "Function value obtained: 9.4015\n",
      "Current minimum: 9.2781\n",
      "Iteration No: 16 started. Searching for the next optimal point.\n",
      "Iteration No: 16 ended. Search finished for the next optimal point.\n",
      "Time taken: 5.1385\n",
      "Function value obtained: 9.2929\n",
      "Current minimum: 9.2781\n",
      "Iteration No: 17 started. Searching for the next optimal point.\n",
      "Iteration No: 17 ended. Search finished for the next optimal point.\n",
      "Time taken: 5.7046\n",
      "Function value obtained: 9.3268\n",
      "Current minimum: 9.2781\n",
      "Iteration No: 18 started. Searching for the next optimal point.\n",
      "Iteration No: 18 ended. Search finished for the next optimal point.\n",
      "Time taken: 5.4152\n",
      "Function value obtained: 9.2878\n",
      "Current minimum: 9.2781\n",
      "Iteration No: 19 started. Searching for the next optimal point.\n",
      "Iteration No: 19 ended. Search finished for the next optimal point.\n",
      "Time taken: 5.1973\n",
      "Function value obtained: 9.3039\n",
      "Current minimum: 9.2781\n",
      "Iteration No: 20 started. Searching for the next optimal point.\n",
      "Iteration No: 20 ended. Search finished for the next optimal point.\n",
      "Time taken: 4.3738\n",
      "Function value obtained: 9.2883\n",
      "Current minimum: 9.2781\n",
      "Iteration No: 21 started. Searching for the next optimal point.\n",
      "Iteration No: 21 ended. Search finished for the next optimal point.\n",
      "Time taken: 4.5078\n",
      "Function value obtained: 9.2929\n",
      "Current minimum: 9.2781\n",
      "Iteration No: 22 started. Searching for the next optimal point.\n",
      "Iteration No: 22 ended. Search finished for the next optimal point.\n",
      "Time taken: 2.2016\n",
      "Function value obtained: 9.3355\n",
      "Current minimum: 9.2781\n",
      "Iteration No: 23 started. Searching for the next optimal point.\n",
      "Iteration No: 23 ended. Search finished for the next optimal point.\n",
      "Time taken: 4.5839\n",
      "Function value obtained: 9.3444\n",
      "Current minimum: 9.2781\n",
      "Iteration No: 24 started. Searching for the next optimal point.\n",
      "Iteration No: 24 ended. Search finished for the next optimal point.\n",
      "Time taken: 5.6909\n",
      "Function value obtained: 9.3179\n",
      "Current minimum: 9.2781\n",
      "Iteration No: 25 started. Searching for the next optimal point.\n",
      "Iteration No: 25 ended. Search finished for the next optimal point.\n",
      "Time taken: 5.9472\n",
      "Function value obtained: 9.3159\n",
      "Current minimum: 9.2781\n",
      "Iteration No: 26 started. Searching for the next optimal point.\n",
      "Iteration No: 26 ended. Search finished for the next optimal point.\n",
      "Time taken: 5.3765\n",
      "Function value obtained: 9.3007\n",
      "Current minimum: 9.2781\n",
      "Iteration No: 27 started. Searching for the next optimal point.\n",
      "Iteration No: 27 ended. Search finished for the next optimal point.\n",
      "Time taken: 4.7966\n",
      "Function value obtained: 9.3278\n",
      "Current minimum: 9.2781\n",
      "Iteration No: 28 started. Searching for the next optimal point.\n",
      "Iteration No: 28 ended. Search finished for the next optimal point.\n",
      "Time taken: 5.2829\n",
      "Function value obtained: 9.3040\n",
      "Current minimum: 9.2781\n",
      "Iteration No: 29 started. Searching for the next optimal point.\n",
      "Iteration No: 29 ended. Search finished for the next optimal point.\n",
      "Time taken: 2.1999\n",
      "Function value obtained: 9.3598\n",
      "Current minimum: 9.2781\n",
      "Iteration No: 30 started. Searching for the next optimal point.\n",
      "Iteration No: 30 ended. Search finished for the next optimal point.\n",
      "Time taken: 4.8285\n",
      "Function value obtained: 9.2800\n",
      "Current minimum: 9.2781\n",
      "Iteration No: 31 started. Searching for the next optimal point.\n",
      "Iteration No: 31 ended. Search finished for the next optimal point.\n",
      "Time taken: 5.8149\n",
      "Function value obtained: 9.3000\n",
      "Current minimum: 9.2781\n",
      "Iteration No: 32 started. Searching for the next optimal point.\n",
      "Iteration No: 32 ended. Search finished for the next optimal point.\n",
      "Time taken: 5.2090\n",
      "Function value obtained: 9.2931\n",
      "Current minimum: 9.2781\n",
      "Iteration No: 33 started. Searching for the next optimal point.\n"
     ]
    },
    {
     "name": "stdout",
     "output_type": "stream",
     "text": [
      "Iteration No: 33 ended. Search finished for the next optimal point.\n",
      "Time taken: 4.9430\n",
      "Function value obtained: 9.3184\n",
      "Current minimum: 9.2781\n",
      "Iteration No: 34 started. Searching for the next optimal point.\n",
      "Iteration No: 34 ended. Search finished for the next optimal point.\n",
      "Time taken: 5.4586\n",
      "Function value obtained: 9.2882\n",
      "Current minimum: 9.2781\n",
      "Iteration No: 35 started. Searching for the next optimal point.\n",
      "Iteration No: 35 ended. Search finished for the next optimal point.\n",
      "Time taken: 5.7009\n",
      "Function value obtained: 9.2951\n",
      "Current minimum: 9.2781\n",
      "Iteration No: 36 started. Searching for the next optimal point.\n",
      "Iteration No: 36 ended. Search finished for the next optimal point.\n",
      "Time taken: 5.9862\n",
      "Function value obtained: 9.2935\n",
      "Current minimum: 9.2781\n",
      "Iteration No: 37 started. Searching for the next optimal point.\n",
      "Iteration No: 37 ended. Search finished for the next optimal point.\n",
      "Time taken: 6.0703\n",
      "Function value obtained: 9.3055\n",
      "Current minimum: 9.2781\n",
      "Iteration No: 38 started. Searching for the next optimal point.\n",
      "Iteration No: 38 ended. Search finished for the next optimal point.\n",
      "Time taken: 5.7149\n",
      "Function value obtained: 9.2931\n",
      "Current minimum: 9.2781\n",
      "Iteration No: 39 started. Searching for the next optimal point.\n",
      "Iteration No: 39 ended. Search finished for the next optimal point.\n",
      "Time taken: 5.7499\n",
      "Function value obtained: 9.2960\n",
      "Current minimum: 9.2781\n",
      "Iteration No: 40 started. Searching for the next optimal point.\n",
      "Iteration No: 40 ended. Search finished for the next optimal point.\n",
      "Time taken: 5.6727\n",
      "Function value obtained: 9.3008\n",
      "Current minimum: 9.2781\n",
      "Iteration No: 41 started. Searching for the next optimal point.\n",
      "Iteration No: 41 ended. Search finished for the next optimal point.\n",
      "Time taken: 5.6427\n",
      "Function value obtained: 9.2908\n",
      "Current minimum: 9.2781\n",
      "Iteration No: 42 started. Searching for the next optimal point.\n",
      "Iteration No: 42 ended. Search finished for the next optimal point.\n",
      "Time taken: 4.7579\n",
      "Function value obtained: 9.3062\n",
      "Current minimum: 9.2781\n",
      "Iteration No: 43 started. Searching for the next optimal point.\n",
      "Iteration No: 43 ended. Search finished for the next optimal point.\n",
      "Time taken: 5.3774\n",
      "Function value obtained: 9.3177\n",
      "Current minimum: 9.2781\n",
      "Iteration No: 44 started. Searching for the next optimal point.\n",
      "Iteration No: 44 ended. Search finished for the next optimal point.\n",
      "Time taken: 5.0391\n",
      "Function value obtained: 9.2889\n",
      "Current minimum: 9.2781\n",
      "Iteration No: 45 started. Searching for the next optimal point.\n",
      "Iteration No: 45 ended. Search finished for the next optimal point.\n",
      "Time taken: 2.6805\n",
      "Function value obtained: 9.3414\n",
      "Current minimum: 9.2781\n",
      "Iteration No: 46 started. Searching for the next optimal point.\n",
      "Iteration No: 46 ended. Search finished for the next optimal point.\n",
      "Time taken: 5.3424\n",
      "Function value obtained: 9.2781\n",
      "Current minimum: 9.2781\n",
      "Iteration No: 47 started. Searching for the next optimal point.\n",
      "Iteration No: 47 ended. Search finished for the next optimal point.\n",
      "Time taken: 5.0427\n",
      "Function value obtained: 9.3113\n",
      "Current minimum: 9.2781\n",
      "Iteration No: 48 started. Searching for the next optimal point.\n",
      "Iteration No: 48 ended. Search finished for the next optimal point.\n",
      "Time taken: 6.0366\n",
      "Function value obtained: 9.2891\n",
      "Current minimum: 9.2781\n",
      "Iteration No: 49 started. Searching for the next optimal point.\n",
      "Iteration No: 49 ended. Search finished for the next optimal point.\n",
      "Time taken: 5.2378\n",
      "Function value obtained: 9.3248\n",
      "Current minimum: 9.2781\n",
      "Iteration No: 50 started. Searching for the next optimal point.\n",
      "Iteration No: 50 ended. Search finished for the next optimal point.\n",
      "Time taken: 6.2462\n",
      "Function value obtained: 9.3105\n",
      "Current minimum: 9.2781\n"
     ]
    }
   ],
   "source": [
    "res_gp_arr = []\n",
    "for i in range(1, 6):\n",
    "    print('minimisation iteration', i)\n",
    "    res_gp = gp_minimize(objective, space, n_calls=50, verbose=2)\n",
    "    res_gp_arr.append(res_gp)"
   ]
  },
  {
   "cell_type": "code",
   "execution_count": 211,
   "metadata": {
    "ExecuteTime": {
     "end_time": "2019-08-08T09:20:34.356398Z",
     "start_time": "2019-08-08T09:20:34.349765Z"
    },
    "hidden": true
   },
   "outputs": [
    {
     "name": "stdout",
     "output_type": "stream",
     "text": [
      "9.27149997618996\n",
      "9.279758009793635\n",
      "9.266332451078696\n",
      "9.283215274979002\n",
      "9.27806556789407\n",
      "\n",
      "\n",
      "[0.01262656264898322, 0.8998231284641902]\n",
      "[0.01, 0.8999999999999999]\n",
      "[0.010098341657709797, 0.8940203818978807]\n",
      "[0.01, 0.8999999999999999]\n",
      "[0.01224978504566475, 0.7752500660458044]\n"
     ]
    }
   ],
   "source": [
    "# Selected features\n",
    "for i in res_gp_arr:\n",
    "    print(i.fun)\n",
    "print('\\n')\n",
    "for i in res_gp_arr:\n",
    "    print(i.x)"
   ]
  },
  {
   "cell_type": "code",
   "execution_count": 199,
   "metadata": {
    "ExecuteTime": {
     "end_time": "2019-08-07T18:12:11.416917Z",
     "start_time": "2019-08-07T18:12:11.408051Z"
    },
    "hidden": true
   },
   "outputs": [
    {
     "name": "stdout",
     "output_type": "stream",
     "text": [
      "9.288083753334693\n",
      "9.290159203857991\n",
      "9.28969683970323\n",
      "9.282714369381837\n",
      "9.290847382608792\n",
      "\n",
      "\n",
      "[0.01638857194747919, 0.8999999999999999, 500]\n",
      "[0.014366382905883747, 0.8909812006368516, 306]\n",
      "[0.016246896035586263, 0.8999999999999999, 500]\n",
      "[0.014640466909222959, 0.8999999999999999, 500]\n",
      "[0.01547277039413628, 0.8999999999999999, 300]\n"
     ]
    }
   ],
   "source": [
    "# Full features (no elements)\n",
    "for i in res_gp_arr:\n",
    "    print(i.fun)\n",
    "print('\\n')\n",
    "for i in res_gp_arr:\n",
    "    print(i.x)"
   ]
  },
  {
   "cell_type": "markdown",
   "metadata": {},
   "source": [
    "### Grid search"
   ]
  },
  {
   "cell_type": "markdown",
   "metadata": {
    "heading_collapsed": true
   },
   "source": [
    "#### Leaf size"
   ]
  },
  {
   "cell_type": "code",
   "execution_count": 429,
   "metadata": {
    "ExecuteTime": {
     "end_time": "2019-08-13T15:25:30.216111Z",
     "start_time": "2019-08-13T15:25:30.207736Z"
    },
    "hidden": true
   },
   "outputs": [],
   "source": [
    "gs_parameters_ls = {\n",
    "    'min_samples_leaf': [2**-12, 2**-11, 2**-10, 2**-9, 2**-8, 2**-7, 2**-6, 2**-5, 2**-4, 2**-3, 2**-2, 2**-1],\n",
    "    'max_features': [0.9],\n",
    "    'n_estimators': [100]\n",
    "}"
   ]
  },
  {
   "cell_type": "code",
   "execution_count": 430,
   "metadata": {
    "ExecuteTime": {
     "end_time": "2019-08-13T16:04:11.727194Z",
     "start_time": "2019-08-13T15:25:40.545375Z"
    },
    "hidden": true,
    "scrolled": true
   },
   "outputs": [
    {
     "name": "stdout",
     "output_type": "stream",
     "text": [
      "Grid search iteration 1\n",
      "Grid search iteration 2\n",
      "Grid search iteration 3\n",
      "Grid search iteration 4\n",
      "Grid search iteration 5\n",
      "Grid search iteration 6\n",
      "Grid search iteration 7\n",
      "Grid search iteration 8\n",
      "Grid search iteration 9\n",
      "Grid search iteration 10\n",
      "Grid search iteration 11\n",
      "Grid search iteration 12\n",
      "Grid search iteration 13\n",
      "Grid search iteration 14\n",
      "Grid search iteration 15\n",
      "Grid search iteration 16\n",
      "Grid search iteration 17\n",
      "Grid search iteration 18\n",
      "Grid search iteration 19\n",
      "Grid search iteration 20\n",
      "Grid search iteration 21\n",
      "Grid search iteration 22\n",
      "Grid search iteration 23\n",
      "Grid search iteration 24\n",
      "Grid search iteration 25\n",
      "Grid search iteration 26\n",
      "Grid search iteration 27\n",
      "Grid search iteration 28\n",
      "Grid search iteration 29\n",
      "Grid search iteration 30\n",
      "Grid search iteration 31\n",
      "Grid search iteration 32\n",
      "Grid search iteration 33\n",
      "Grid search iteration 34\n",
      "Grid search iteration 35\n",
      "Grid search iteration 36\n",
      "Grid search iteration 37\n",
      "Grid search iteration 38\n",
      "Grid search iteration 39\n",
      "Grid search iteration 40\n",
      "Grid search iteration 41\n",
      "Grid search iteration 42\n",
      "Grid search iteration 43\n",
      "Grid search iteration 44\n",
      "Grid search iteration 45\n",
      "Grid search iteration 46\n",
      "Grid search iteration 47\n",
      "Grid search iteration 48\n",
      "Grid search iteration 49\n",
      "Grid search iteration 50\n",
      "Grid search iteration 51\n",
      "Grid search iteration 52\n",
      "Grid search iteration 53\n",
      "Grid search iteration 54\n",
      "Grid search iteration 55\n",
      "Grid search iteration 56\n",
      "Grid search iteration 57\n",
      "Grid search iteration 58\n",
      "Grid search iteration 59\n",
      "Grid search iteration 60\n",
      "Grid search iteration 61\n",
      "Grid search iteration 62\n",
      "Grid search iteration 63\n",
      "Grid search iteration 64\n",
      "Grid search iteration 65\n",
      "Grid search iteration 66\n",
      "Grid search iteration 67\n",
      "Grid search iteration 68\n",
      "Grid search iteration 69\n",
      "Grid search iteration 70\n",
      "Grid search iteration 71\n",
      "Grid search iteration 72\n",
      "Grid search iteration 73\n",
      "Grid search iteration 74\n",
      "Grid search iteration 75\n",
      "Grid search iteration 76\n",
      "Grid search iteration 77\n",
      "Grid search iteration 78\n",
      "Grid search iteration 79\n",
      "Grid search iteration 80\n",
      "Grid search iteration 81\n",
      "Grid search iteration 82\n",
      "Grid search iteration 83\n",
      "Grid search iteration 84\n",
      "Grid search iteration 85\n",
      "Grid search iteration 86\n",
      "Grid search iteration 87\n",
      "Grid search iteration 88\n",
      "Grid search iteration 89\n",
      "Grid search iteration 90\n",
      "Grid search iteration 91\n",
      "Grid search iteration 92\n",
      "Grid search iteration 93\n",
      "Grid search iteration 94\n",
      "Grid search iteration 95\n",
      "Grid search iteration 96\n",
      "Grid search iteration 97\n",
      "Grid search iteration 98\n",
      "Grid search iteration 99\n",
      "Grid search iteration 100\n"
     ]
    }
   ],
   "source": [
    "gs_model_df_arr_ls = []\n",
    "for i in range(0, 100):\n",
    "    print('Grid search iteration', i + 1)\n",
    "    gs_model = GridSearchCV(\n",
    "        RandomForestRegressor(),\n",
    "        gs_parameters_ls,\n",
    "        scoring=['neg_mean_absolute_error', 'neg_mean_squared_error'],\n",
    "        refit=False,\n",
    "        cv=ps,\n",
    "        error_score=100, n_jobs=1)\n",
    "    gs_model.fit(X, y.ravel())\n",
    "\n",
    "    gs_model_df = pd.DataFrame(gs_model.cv_results_)[[\n",
    "        'param_min_samples_leaf',\n",
    "        'param_max_features',\n",
    "        'split0_test_neg_mean_absolute_error',\n",
    "        'split0_test_neg_mean_squared_error'\n",
    "    ]]\n",
    "\n",
    "    gs_model_df_arr_ls.append(gs_model_df)"
   ]
  },
  {
   "cell_type": "code",
   "execution_count": 431,
   "metadata": {
    "ExecuteTime": {
     "end_time": "2019-08-13T16:04:11.817476Z",
     "start_time": "2019-08-13T16:04:11.730747Z"
    },
    "hidden": true
   },
   "outputs": [
    {
     "data": {
      "text/html": [
       "<div>\n",
       "<style scoped>\n",
       "    .dataframe tbody tr th:only-of-type {\n",
       "        vertical-align: middle;\n",
       "    }\n",
       "\n",
       "    .dataframe tbody tr th {\n",
       "        vertical-align: top;\n",
       "    }\n",
       "\n",
       "    .dataframe thead th {\n",
       "        text-align: right;\n",
       "    }\n",
       "</style>\n",
       "<table border=\"1\" class=\"dataframe\">\n",
       "  <thead>\n",
       "    <tr style=\"text-align: right;\">\n",
       "      <th></th>\n",
       "      <th>param_min_samples_leaf_log</th>\n",
       "      <th>count</th>\n",
       "      <th>mean</th>\n",
       "      <th>std</th>\n",
       "      <th>min</th>\n",
       "      <th>25%</th>\n",
       "      <th>50%</th>\n",
       "      <th>75%</th>\n",
       "      <th>max</th>\n",
       "    </tr>\n",
       "  </thead>\n",
       "  <tbody>\n",
       "    <tr>\n",
       "      <th>0</th>\n",
       "      <td>-12.0</td>\n",
       "      <td>100.0</td>\n",
       "      <td>-9.553209</td>\n",
       "      <td>0.066275</td>\n",
       "      <td>-9.705617</td>\n",
       "      <td>-9.592843</td>\n",
       "      <td>-9.560342</td>\n",
       "      <td>-9.512224</td>\n",
       "      <td>-9.379110</td>\n",
       "    </tr>\n",
       "    <tr>\n",
       "      <th>1</th>\n",
       "      <td>-11.0</td>\n",
       "      <td>100.0</td>\n",
       "      <td>-9.514227</td>\n",
       "      <td>0.060901</td>\n",
       "      <td>-9.690311</td>\n",
       "      <td>-9.548364</td>\n",
       "      <td>-9.511919</td>\n",
       "      <td>-9.473063</td>\n",
       "      <td>-9.391059</td>\n",
       "    </tr>\n",
       "    <tr>\n",
       "      <th>2</th>\n",
       "      <td>-10.0</td>\n",
       "      <td>100.0</td>\n",
       "      <td>-9.481353</td>\n",
       "      <td>0.056388</td>\n",
       "      <td>-9.648740</td>\n",
       "      <td>-9.517612</td>\n",
       "      <td>-9.484827</td>\n",
       "      <td>-9.439163</td>\n",
       "      <td>-9.353995</td>\n",
       "    </tr>\n",
       "    <tr>\n",
       "      <th>3</th>\n",
       "      <td>-9.0</td>\n",
       "      <td>100.0</td>\n",
       "      <td>-9.420356</td>\n",
       "      <td>0.044956</td>\n",
       "      <td>-9.511106</td>\n",
       "      <td>-9.451382</td>\n",
       "      <td>-9.422335</td>\n",
       "      <td>-9.389136</td>\n",
       "      <td>-9.328345</td>\n",
       "    </tr>\n",
       "    <tr>\n",
       "      <th>4</th>\n",
       "      <td>-8.0</td>\n",
       "      <td>100.0</td>\n",
       "      <td>-9.405905</td>\n",
       "      <td>0.038949</td>\n",
       "      <td>-9.491607</td>\n",
       "      <td>-9.430632</td>\n",
       "      <td>-9.404877</td>\n",
       "      <td>-9.385034</td>\n",
       "      <td>-9.303287</td>\n",
       "    </tr>\n",
       "    <tr>\n",
       "      <th>5</th>\n",
       "      <td>-7.0</td>\n",
       "      <td>100.0</td>\n",
       "      <td>-9.361770</td>\n",
       "      <td>0.030153</td>\n",
       "      <td>-9.436508</td>\n",
       "      <td>-9.379441</td>\n",
       "      <td>-9.363322</td>\n",
       "      <td>-9.339059</td>\n",
       "      <td>-9.294191</td>\n",
       "    </tr>\n",
       "    <tr>\n",
       "      <th>6</th>\n",
       "      <td>-6.0</td>\n",
       "      <td>100.0</td>\n",
       "      <td>-9.317858</td>\n",
       "      <td>0.024299</td>\n",
       "      <td>-9.369632</td>\n",
       "      <td>-9.332749</td>\n",
       "      <td>-9.320936</td>\n",
       "      <td>-9.302194</td>\n",
       "      <td>-9.244962</td>\n",
       "    </tr>\n",
       "    <tr>\n",
       "      <th>7</th>\n",
       "      <td>-5.0</td>\n",
       "      <td>100.0</td>\n",
       "      <td>-9.380546</td>\n",
       "      <td>0.016793</td>\n",
       "      <td>-9.418080</td>\n",
       "      <td>-9.392042</td>\n",
       "      <td>-9.383009</td>\n",
       "      <td>-9.370657</td>\n",
       "      <td>-9.335423</td>\n",
       "    </tr>\n",
       "    <tr>\n",
       "      <th>8</th>\n",
       "      <td>-4.0</td>\n",
       "      <td>100.0</td>\n",
       "      <td>-9.423239</td>\n",
       "      <td>0.010698</td>\n",
       "      <td>-9.450474</td>\n",
       "      <td>-9.431115</td>\n",
       "      <td>-9.423327</td>\n",
       "      <td>-9.415428</td>\n",
       "      <td>-9.403180</td>\n",
       "    </tr>\n",
       "    <tr>\n",
       "      <th>9</th>\n",
       "      <td>-3.0</td>\n",
       "      <td>100.0</td>\n",
       "      <td>-9.582581</td>\n",
       "      <td>0.008123</td>\n",
       "      <td>-9.612738</td>\n",
       "      <td>-9.586378</td>\n",
       "      <td>-9.581186</td>\n",
       "      <td>-9.577478</td>\n",
       "      <td>-9.568422</td>\n",
       "    </tr>\n",
       "    <tr>\n",
       "      <th>10</th>\n",
       "      <td>-2.0</td>\n",
       "      <td>100.0</td>\n",
       "      <td>-9.939959</td>\n",
       "      <td>0.007040</td>\n",
       "      <td>-9.960384</td>\n",
       "      <td>-9.944091</td>\n",
       "      <td>-9.939330</td>\n",
       "      <td>-9.935830</td>\n",
       "      <td>-9.923936</td>\n",
       "    </tr>\n",
       "    <tr>\n",
       "      <th>11</th>\n",
       "      <td>-1.0</td>\n",
       "      <td>100.0</td>\n",
       "      <td>-10.409318</td>\n",
       "      <td>0.000604</td>\n",
       "      <td>-10.411379</td>\n",
       "      <td>-10.409736</td>\n",
       "      <td>-10.409189</td>\n",
       "      <td>-10.408870</td>\n",
       "      <td>-10.408200</td>\n",
       "    </tr>\n",
       "  </tbody>\n",
       "</table>\n",
       "</div>"
      ],
      "text/plain": [
       "    param_min_samples_leaf_log  count       mean       std        min  \\\n",
       "0                        -12.0  100.0  -9.553209  0.066275  -9.705617   \n",
       "1                        -11.0  100.0  -9.514227  0.060901  -9.690311   \n",
       "2                        -10.0  100.0  -9.481353  0.056388  -9.648740   \n",
       "3                         -9.0  100.0  -9.420356  0.044956  -9.511106   \n",
       "4                         -8.0  100.0  -9.405905  0.038949  -9.491607   \n",
       "5                         -7.0  100.0  -9.361770  0.030153  -9.436508   \n",
       "6                         -6.0  100.0  -9.317858  0.024299  -9.369632   \n",
       "7                         -5.0  100.0  -9.380546  0.016793  -9.418080   \n",
       "8                         -4.0  100.0  -9.423239  0.010698  -9.450474   \n",
       "9                         -3.0  100.0  -9.582581  0.008123  -9.612738   \n",
       "10                        -2.0  100.0  -9.939959  0.007040  -9.960384   \n",
       "11                        -1.0  100.0 -10.409318  0.000604 -10.411379   \n",
       "\n",
       "          25%        50%        75%        max  \n",
       "0   -9.592843  -9.560342  -9.512224  -9.379110  \n",
       "1   -9.548364  -9.511919  -9.473063  -9.391059  \n",
       "2   -9.517612  -9.484827  -9.439163  -9.353995  \n",
       "3   -9.451382  -9.422335  -9.389136  -9.328345  \n",
       "4   -9.430632  -9.404877  -9.385034  -9.303287  \n",
       "5   -9.379441  -9.363322  -9.339059  -9.294191  \n",
       "6   -9.332749  -9.320936  -9.302194  -9.244962  \n",
       "7   -9.392042  -9.383009  -9.370657  -9.335423  \n",
       "8   -9.431115  -9.423327  -9.415428  -9.403180  \n",
       "9   -9.586378  -9.581186  -9.577478  -9.568422  \n",
       "10  -9.944091  -9.939330  -9.935830  -9.923936  \n",
       "11 -10.409736 -10.409189 -10.408870 -10.408200  "
      ]
     },
     "execution_count": 431,
     "metadata": {},
     "output_type": "execute_result"
    }
   ],
   "source": [
    "gs_model_df_ls = pd.concat(gs_model_df_arr_ls)\n",
    "\n",
    "gs_model_df_ls['param_min_samples_leaf_log'] = \\\n",
    "gs_model_df_ls['param_min_samples_leaf'].apply(lambda x: math.log(x, 2))\n",
    "\n",
    "gs_model_df_ls_group = \\\n",
    "gs_model_df_ls.groupby('param_min_samples_leaf_log')['split0_test_neg_mean_squared_error'].describe()\n",
    "gs_model_df_ls_group.reset_index(inplace=True)\n",
    "gs_model_df_ls_group"
   ]
  },
  {
   "cell_type": "code",
   "execution_count": 443,
   "metadata": {
    "ExecuteTime": {
     "end_time": "2019-08-16T14:01:01.568919Z",
     "start_time": "2019-08-16T14:01:01.180088Z"
    },
    "hidden": true
   },
   "outputs": [
    {
     "data": {
      "image/png": "[encoded data removed]",
      "text/plain": [
       "<Figure size 720x576 with 1 Axes>"
      ]
     },
     "metadata": {
      "needs_background": "light"
     },
     "output_type": "display_data"
    }
   ],
   "source": [
    "plt.figure(figsize=(10, 8))\n",
    "plt.plot(\n",
    "    gs_model_df_ls_group['param_min_samples_leaf_log'],\n",
    "    -gs_model_df_ls_group['mean']\n",
    ")\n",
    "plt.errorbar(\n",
    "    gs_model_df_ls_group['param_min_samples_leaf_log'],\n",
    "    -gs_model_df_ls_group['mean'],\n",
    "    yerr=gs_model_df_ls_group['std'], fmt='o', c='grey')\n",
    "plt.title('Cross validation error against logarithm leaf size (base 2)')\n",
    "plt.ylabel('Cross validation error (MSE)')\n",
    "plt.xlabel('Log2(minimum leaf samples)')\n",
    "plt.grid()\n",
    "plt.show()"
   ]
  },
  {
   "cell_type": "markdown",
   "metadata": {
    "heading_collapsed": true
   },
   "source": [
    "#### Number of features"
   ]
  },
  {
   "cell_type": "code",
   "execution_count": 348,
   "metadata": {
    "ExecuteTime": {
     "end_time": "2019-08-12T12:01:46.415068Z",
     "start_time": "2019-08-12T12:01:46.411073Z"
    },
    "hidden": true
   },
   "outputs": [],
   "source": [
    "gs_parameters_nf = {\n",
    "    'min_samples_leaf': [0.0157],\n",
    "    'max_features': [0.1, 0.2, 0.3, 0.4, 0.5, 0.6, 0.7, 0.8, 0.9, 1.0],\n",
    "    'n_estimators': [100]\n",
    "}"
   ]
  },
  {
   "cell_type": "code",
   "execution_count": 350,
   "metadata": {
    "ExecuteTime": {
     "end_time": "2019-08-12T12:18:05.883656Z",
     "start_time": "2019-08-12T12:02:17.849969Z"
    },
    "hidden": true,
    "scrolled": true
   },
   "outputs": [
    {
     "name": "stdout",
     "output_type": "stream",
     "text": [
      "Grid search iteration 1\n",
      "Grid search iteration 2\n",
      "Grid search iteration 3\n",
      "Grid search iteration 4\n",
      "Grid search iteration 5\n",
      "Grid search iteration 6\n",
      "Grid search iteration 7\n",
      "Grid search iteration 8\n",
      "Grid search iteration 9\n",
      "Grid search iteration 10\n",
      "Grid search iteration 11\n",
      "Grid search iteration 12\n",
      "Grid search iteration 13\n",
      "Grid search iteration 14\n",
      "Grid search iteration 15\n",
      "Grid search iteration 16\n",
      "Grid search iteration 17\n",
      "Grid search iteration 18\n",
      "Grid search iteration 19\n",
      "Grid search iteration 20\n",
      "Grid search iteration 21\n",
      "Grid search iteration 22\n",
      "Grid search iteration 23\n",
      "Grid search iteration 24\n",
      "Grid search iteration 25\n",
      "Grid search iteration 26\n",
      "Grid search iteration 27\n",
      "Grid search iteration 28\n",
      "Grid search iteration 29\n",
      "Grid search iteration 30\n",
      "Grid search iteration 31\n",
      "Grid search iteration 32\n",
      "Grid search iteration 33\n",
      "Grid search iteration 34\n",
      "Grid search iteration 35\n",
      "Grid search iteration 36\n",
      "Grid search iteration 37\n",
      "Grid search iteration 38\n",
      "Grid search iteration 39\n",
      "Grid search iteration 40\n",
      "Grid search iteration 41\n",
      "Grid search iteration 42\n",
      "Grid search iteration 56\n",
      "Grid search iteration 57\n",
      "Grid search iteration 58\n",
      "Grid search iteration 59\n",
      "Grid search iteration 60\n",
      "Grid search iteration 61\n",
      "Grid search iteration 62\n",
      "Grid search iteration 63\n",
      "Grid search iteration 64\n",
      "Grid search iteration 65\n",
      "Grid search iteration 66\n",
      "Grid search iteration 67\n",
      "Grid search iteration 68\n",
      "Grid search iteration 69\n",
      "Grid search iteration 70\n",
      "Grid search iteration 71\n",
      "Grid search iteration 72\n",
      "Grid search iteration 73\n",
      "Grid search iteration 74\n",
      "Grid search iteration 75\n",
      "Grid search iteration 76\n",
      "Grid search iteration 77\n",
      "Grid search iteration 78\n",
      "Grid search iteration 79\n",
      "Grid search iteration 80\n",
      "Grid search iteration 81\n",
      "Grid search iteration 82\n",
      "Grid search iteration 83\n",
      "Grid search iteration 84\n",
      "Grid search iteration 85\n",
      "Grid search iteration 86\n",
      "Grid search iteration 87\n",
      "Grid search iteration 88\n",
      "Grid search iteration 89\n",
      "Grid search iteration 90\n",
      "Grid search iteration 91\n",
      "Grid search iteration 92\n",
      "Grid search iteration 93\n",
      "Grid search iteration 94\n",
      "Grid search iteration 95\n",
      "Grid search iteration 96\n",
      "Grid search iteration 97\n",
      "Grid search iteration 98\n",
      "Grid search iteration 99\n",
      "Grid search iteration 100\n"
     ]
    }
   ],
   "source": [
    "gs_model_df_arr_nf = []\n",
    "for i in range(0, 100):\n",
    "    print('Grid search iteration', i + 1)\n",
    "    gs_model = GridSearchCV(\n",
    "        RandomForestRegressor(),\n",
    "        gs_parameters_nf,\n",
    "        scoring=['neg_mean_absolute_error', 'neg_mean_squared_error'],\n",
    "        refit=False,\n",
    "        cv=ps,\n",
    "        error_score=100, n_jobs=1)\n",
    "    gs_model.fit(X, y.ravel())\n",
    "\n",
    "    gs_model_df = pd.DataFrame(gs_model.cv_results_)[[\n",
    "        'param_min_samples_leaf',\n",
    "        'param_max_features',\n",
    "        'split0_test_neg_mean_absolute_error',\n",
    "        'split0_test_neg_mean_squared_error'\n",
    "    ]]\n",
    "\n",
    "    gs_model_df_arr_nf.append(gs_model_df)"
   ]
  },
  {
   "cell_type": "code",
   "execution_count": 397,
   "metadata": {
    "ExecuteTime": {
     "end_time": "2019-08-12T16:32:45.264796Z",
     "start_time": "2019-08-12T16:32:45.192164Z"
    },
    "hidden": true
   },
   "outputs": [
    {
     "data": {
      "text/html": [
       "<div>\n",
       "<style scoped>\n",
       "    .dataframe tbody tr th:only-of-type {\n",
       "        vertical-align: middle;\n",
       "    }\n",
       "\n",
       "    .dataframe tbody tr th {\n",
       "        vertical-align: top;\n",
       "    }\n",
       "\n",
       "    .dataframe thead th {\n",
       "        text-align: right;\n",
       "    }\n",
       "</style>\n",
       "<table border=\"1\" class=\"dataframe\">\n",
       "  <thead>\n",
       "    <tr style=\"text-align: right;\">\n",
       "      <th></th>\n",
       "      <th>param_max_features</th>\n",
       "      <th>count</th>\n",
       "      <th>mean</th>\n",
       "      <th>std</th>\n",
       "      <th>min</th>\n",
       "      <th>25%</th>\n",
       "      <th>50%</th>\n",
       "      <th>75%</th>\n",
       "      <th>max</th>\n",
       "    </tr>\n",
       "  </thead>\n",
       "  <tbody>\n",
       "    <tr>\n",
       "      <th>0</th>\n",
       "      <td>0.1</td>\n",
       "      <td>100.0</td>\n",
       "      <td>-9.466365</td>\n",
       "      <td>0.017858</td>\n",
       "      <td>-9.510893</td>\n",
       "      <td>-9.478789</td>\n",
       "      <td>-9.465732</td>\n",
       "      <td>-9.455213</td>\n",
       "      <td>-9.419297</td>\n",
       "    </tr>\n",
       "    <tr>\n",
       "      <th>1</th>\n",
       "      <td>0.2</td>\n",
       "      <td>100.0</td>\n",
       "      <td>-9.404257</td>\n",
       "      <td>0.022405</td>\n",
       "      <td>-9.457757</td>\n",
       "      <td>-9.418177</td>\n",
       "      <td>-9.405373</td>\n",
       "      <td>-9.389471</td>\n",
       "      <td>-9.349303</td>\n",
       "    </tr>\n",
       "    <tr>\n",
       "      <th>2</th>\n",
       "      <td>0.3</td>\n",
       "      <td>100.0</td>\n",
       "      <td>-9.376567</td>\n",
       "      <td>0.020767</td>\n",
       "      <td>-9.416427</td>\n",
       "      <td>-9.390529</td>\n",
       "      <td>-9.379435</td>\n",
       "      <td>-9.361327</td>\n",
       "      <td>-9.318929</td>\n",
       "    </tr>\n",
       "    <tr>\n",
       "      <th>3</th>\n",
       "      <td>0.4</td>\n",
       "      <td>100.0</td>\n",
       "      <td>-9.359314</td>\n",
       "      <td>0.022606</td>\n",
       "      <td>-9.416668</td>\n",
       "      <td>-9.374004</td>\n",
       "      <td>-9.358601</td>\n",
       "      <td>-9.341632</td>\n",
       "      <td>-9.299494</td>\n",
       "    </tr>\n",
       "    <tr>\n",
       "      <th>4</th>\n",
       "      <td>0.5</td>\n",
       "      <td>100.0</td>\n",
       "      <td>-9.347841</td>\n",
       "      <td>0.025439</td>\n",
       "      <td>-9.416599</td>\n",
       "      <td>-9.362528</td>\n",
       "      <td>-9.345438</td>\n",
       "      <td>-9.331068</td>\n",
       "      <td>-9.277283</td>\n",
       "    </tr>\n",
       "    <tr>\n",
       "      <th>5</th>\n",
       "      <td>0.6</td>\n",
       "      <td>100.0</td>\n",
       "      <td>-9.342826</td>\n",
       "      <td>0.021770</td>\n",
       "      <td>-9.388213</td>\n",
       "      <td>-9.356773</td>\n",
       "      <td>-9.342836</td>\n",
       "      <td>-9.328706</td>\n",
       "      <td>-9.291317</td>\n",
       "    </tr>\n",
       "    <tr>\n",
       "      <th>6</th>\n",
       "      <td>0.7</td>\n",
       "      <td>100.0</td>\n",
       "      <td>-9.339122</td>\n",
       "      <td>0.023683</td>\n",
       "      <td>-9.398264</td>\n",
       "      <td>-9.356575</td>\n",
       "      <td>-9.339691</td>\n",
       "      <td>-9.322553</td>\n",
       "      <td>-9.279541</td>\n",
       "    </tr>\n",
       "    <tr>\n",
       "      <th>7</th>\n",
       "      <td>0.8</td>\n",
       "      <td>100.0</td>\n",
       "      <td>-9.331081</td>\n",
       "      <td>0.022429</td>\n",
       "      <td>-9.379821</td>\n",
       "      <td>-9.346467</td>\n",
       "      <td>-9.333672</td>\n",
       "      <td>-9.313621</td>\n",
       "      <td>-9.275745</td>\n",
       "    </tr>\n",
       "    <tr>\n",
       "      <th>8</th>\n",
       "      <td>0.9</td>\n",
       "      <td>100.0</td>\n",
       "      <td>-9.319237</td>\n",
       "      <td>0.024541</td>\n",
       "      <td>-9.373538</td>\n",
       "      <td>-9.335982</td>\n",
       "      <td>-9.317447</td>\n",
       "      <td>-9.300338</td>\n",
       "      <td>-9.276185</td>\n",
       "    </tr>\n",
       "    <tr>\n",
       "      <th>9</th>\n",
       "      <td>1.0</td>\n",
       "      <td>100.0</td>\n",
       "      <td>-9.318204</td>\n",
       "      <td>0.026873</td>\n",
       "      <td>-9.390360</td>\n",
       "      <td>-9.337078</td>\n",
       "      <td>-9.317399</td>\n",
       "      <td>-9.298283</td>\n",
       "      <td>-9.262168</td>\n",
       "    </tr>\n",
       "  </tbody>\n",
       "</table>\n",
       "</div>"
      ],
      "text/plain": [
       "   param_max_features  count      mean       std       min       25%  \\\n",
       "0                 0.1  100.0 -9.466365  0.017858 -9.510893 -9.478789   \n",
       "1                 0.2  100.0 -9.404257  0.022405 -9.457757 -9.418177   \n",
       "2                 0.3  100.0 -9.376567  0.020767 -9.416427 -9.390529   \n",
       "3                 0.4  100.0 -9.359314  0.022606 -9.416668 -9.374004   \n",
       "4                 0.5  100.0 -9.347841  0.025439 -9.416599 -9.362528   \n",
       "5                 0.6  100.0 -9.342826  0.021770 -9.388213 -9.356773   \n",
       "6                 0.7  100.0 -9.339122  0.023683 -9.398264 -9.356575   \n",
       "7                 0.8  100.0 -9.331081  0.022429 -9.379821 -9.346467   \n",
       "8                 0.9  100.0 -9.319237  0.024541 -9.373538 -9.335982   \n",
       "9                 1.0  100.0 -9.318204  0.026873 -9.390360 -9.337078   \n",
       "\n",
       "        50%       75%       max  \n",
       "0 -9.465732 -9.455213 -9.419297  \n",
       "1 -9.405373 -9.389471 -9.349303  \n",
       "2 -9.379435 -9.361327 -9.318929  \n",
       "3 -9.358601 -9.341632 -9.299494  \n",
       "4 -9.345438 -9.331068 -9.277283  \n",
       "5 -9.342836 -9.328706 -9.291317  \n",
       "6 -9.339691 -9.322553 -9.279541  \n",
       "7 -9.333672 -9.313621 -9.275745  \n",
       "8 -9.317447 -9.300338 -9.276185  \n",
       "9 -9.317399 -9.298283 -9.262168  "
      ]
     },
     "execution_count": 397,
     "metadata": {},
     "output_type": "execute_result"
    }
   ],
   "source": [
    "gs_model_df_nf = pd.concat(gs_model_df_arr_nf)\n",
    "\n",
    "gs_model_df_nf_group = \\\n",
    "gs_model_df_nf.groupby('param_max_features')['split0_test_neg_mean_squared_error'].describe()\n",
    "gs_model_df_nf_group.reset_index(inplace=True)\n",
    "gs_model_df_nf_group"
   ]
  },
  {
   "cell_type": "code",
   "execution_count": 444,
   "metadata": {
    "ExecuteTime": {
     "end_time": "2019-08-16T14:03:06.492973Z",
     "start_time": "2019-08-16T14:03:06.022368Z"
    },
    "hidden": true
   },
   "outputs": [
    {
     "data": {
      "image/png": "[encoded data removed]",
      "text/plain": [
       "<Figure size 720x576 with 1 Axes>"
      ]
     },
     "metadata": {
      "needs_background": "light"
     },
     "output_type": "display_data"
    }
   ],
   "source": [
    "plt.figure(figsize=(10, 8))\n",
    "plt.plot(\n",
    "    gs_model_df_nf_group['param_max_features'],\n",
    "    -gs_model_df_nf_group['mean']\n",
    ")\n",
    "plt.errorbar(\n",
    "    gs_model_df_nf_group['param_max_features'],\n",
    "    -gs_model_df_nf_group['mean'],\n",
    "    yerr=gs_model_df_nf_group['std'], fmt='o', color='grey')\n",
    "plt.title('Cross validation error against proportion of features sampled')\n",
    "plt.ylabel('Cross validation error (MSE)')\n",
    "plt.xlabel('Proportion of features sampled')\n",
    "plt.grid()\n",
    "plt.show()"
   ]
  },
  {
   "cell_type": "markdown",
   "metadata": {},
   "source": [
    "#### Number of trees"
   ]
  },
  {
   "cell_type": "code",
   "execution_count": 366,
   "metadata": {
    "ExecuteTime": {
     "end_time": "2019-08-12T14:24:31.533896Z",
     "start_time": "2019-08-12T14:24:31.530147Z"
    }
   },
   "outputs": [],
   "source": [
    "gs_parameters_nt = {\n",
    "    'min_samples_leaf': [0.0157],\n",
    "    'max_features': [0.9],\n",
    "    'n_estimators': [1, 2, 4, 8, 16, 32, 64, 128, 256, 512, 1024]\n",
    "}"
   ]
  },
  {
   "cell_type": "code",
   "execution_count": 367,
   "metadata": {
    "ExecuteTime": {
     "end_time": "2019-08-12T15:14:11.447758Z",
     "start_time": "2019-08-12T14:24:31.536430Z"
    },
    "scrolled": true
   },
   "outputs": [
    {
     "name": "stdout",
     "output_type": "stream",
     "text": [
      "Grid search iteration 1\n",
      "Grid search iteration 2\n",
      "Grid search iteration 3\n",
      "Grid search iteration 4\n",
      "Grid search iteration 5\n",
      "Grid search iteration 6\n",
      "Grid search iteration 7\n",
      "Grid search iteration 8\n",
      "Grid search iteration 9\n",
      "Grid search iteration 10\n",
      "Grid search iteration 11\n",
      "Grid search iteration 12\n",
      "Grid search iteration 13\n",
      "Grid search iteration 14\n",
      "Grid search iteration 15\n",
      "Grid search iteration 16\n",
      "Grid search iteration 17\n",
      "Grid search iteration 18\n",
      "Grid search iteration 19\n",
      "Grid search iteration 20\n",
      "Grid search iteration 21\n",
      "Grid search iteration 22\n",
      "Grid search iteration 23\n",
      "Grid search iteration 24\n",
      "Grid search iteration 25\n",
      "Grid search iteration 26\n",
      "Grid search iteration 27\n",
      "Grid search iteration 28\n",
      "Grid search iteration 29\n",
      "Grid search iteration 30\n",
      "Grid search iteration 31\n",
      "Grid search iteration 32\n",
      "Grid search iteration 33\n",
      "Grid search iteration 34\n",
      "Grid search iteration 35\n",
      "Grid search iteration 36\n",
      "Grid search iteration 37\n",
      "Grid search iteration 38\n",
      "Grid search iteration 39\n",
      "Grid search iteration 40\n",
      "Grid search iteration 41\n",
      "Grid search iteration 42\n",
      "Grid search iteration 43\n",
      "Grid search iteration 44\n",
      "Grid search iteration 45\n",
      "Grid search iteration 46\n",
      "Grid search iteration 47\n",
      "Grid search iteration 48\n",
      "Grid search iteration 49\n",
      "Grid search iteration 50\n",
      "Grid search iteration 51\n",
      "Grid search iteration 52\n",
      "Grid search iteration 53\n",
      "Grid search iteration 54\n",
      "Grid search iteration 55\n",
      "Grid search iteration 56\n",
      "Grid search iteration 57\n",
      "Grid search iteration 58\n",
      "Grid search iteration 59\n",
      "Grid search iteration 60\n",
      "Grid search iteration 61\n",
      "Grid search iteration 62\n",
      "Grid search iteration 63\n",
      "Grid search iteration 64\n",
      "Grid search iteration 65\n",
      "Grid search iteration 66\n",
      "Grid search iteration 67\n",
      "Grid search iteration 68\n",
      "Grid search iteration 69\n",
      "Grid search iteration 70\n",
      "Grid search iteration 71\n",
      "Grid search iteration 72\n",
      "Grid search iteration 73\n",
      "Grid search iteration 74\n",
      "Grid search iteration 75\n",
      "Grid search iteration 76\n",
      "Grid search iteration 77\n",
      "Grid search iteration 78\n",
      "Grid search iteration 79\n",
      "Grid search iteration 80\n",
      "Grid search iteration 81\n",
      "Grid search iteration 82\n",
      "Grid search iteration 83\n",
      "Grid search iteration 84\n",
      "Grid search iteration 85\n",
      "Grid search iteration 86\n",
      "Grid search iteration 87\n",
      "Grid search iteration 88\n",
      "Grid search iteration 89\n",
      "Grid search iteration 90\n",
      "Grid search iteration 91\n",
      "Grid search iteration 92\n",
      "Grid search iteration 93\n",
      "Grid search iteration 94\n",
      "Grid search iteration 95\n",
      "Grid search iteration 96\n",
      "Grid search iteration 97\n",
      "Grid search iteration 98\n",
      "Grid search iteration 99\n",
      "Grid search iteration 100\n"
     ]
    }
   ],
   "source": [
    "gs_model_df_arr_nt = []\n",
    "for i in range(0, 100):\n",
    "    print('Grid search iteration', i + 1)\n",
    "    gs_model = GridSearchCV(\n",
    "        RandomForestRegressor(),\n",
    "        gs_parameters_nt,\n",
    "        scoring=['neg_mean_absolute_error', 'neg_mean_squared_error'],\n",
    "        refit=False,\n",
    "        cv=ps,\n",
    "        error_score=100, n_jobs=1)\n",
    "    gs_model.fit(X, y.ravel())\n",
    "\n",
    "    gs_model_df = pd.DataFrame(gs_model.cv_results_)[[\n",
    "        'param_min_samples_leaf',\n",
    "        'param_max_features',\n",
    "        'param_n_estimators',\n",
    "        'split0_test_neg_mean_absolute_error',\n",
    "        'split0_test_neg_mean_squared_error'\n",
    "    ]]\n",
    "\n",
    "    gs_model_df_arr_nt.append(gs_model_df)"
   ]
  },
  {
   "cell_type": "code",
   "execution_count": 399,
   "metadata": {
    "ExecuteTime": {
     "end_time": "2019-08-12T16:36:43.822022Z",
     "start_time": "2019-08-12T16:36:43.743483Z"
    }
   },
   "outputs": [
    {
     "data": {
      "text/html": [
       "<div>\n",
       "<style scoped>\n",
       "    .dataframe tbody tr th:only-of-type {\n",
       "        vertical-align: middle;\n",
       "    }\n",
       "\n",
       "    .dataframe tbody tr th {\n",
       "        vertical-align: top;\n",
       "    }\n",
       "\n",
       "    .dataframe thead th {\n",
       "        text-align: right;\n",
       "    }\n",
       "</style>\n",
       "<table border=\"1\" class=\"dataframe\">\n",
       "  <thead>\n",
       "    <tr style=\"text-align: right;\">\n",
       "      <th></th>\n",
       "      <th>param_n_estimators_log</th>\n",
       "      <th>count</th>\n",
       "      <th>mean</th>\n",
       "      <th>std</th>\n",
       "      <th>min</th>\n",
       "      <th>25%</th>\n",
       "      <th>50%</th>\n",
       "      <th>75%</th>\n",
       "      <th>max</th>\n",
       "    </tr>\n",
       "  </thead>\n",
       "  <tbody>\n",
       "    <tr>\n",
       "      <th>0</th>\n",
       "      <td>0.0</td>\n",
       "      <td>100.0</td>\n",
       "      <td>-10.262920</td>\n",
       "      <td>0.285947</td>\n",
       "      <td>-10.970777</td>\n",
       "      <td>-10.441826</td>\n",
       "      <td>-10.253504</td>\n",
       "      <td>-10.068569</td>\n",
       "      <td>-9.642288</td>\n",
       "    </tr>\n",
       "    <tr>\n",
       "      <th>1</th>\n",
       "      <td>1.0</td>\n",
       "      <td>100.0</td>\n",
       "      <td>-9.781116</td>\n",
       "      <td>0.209132</td>\n",
       "      <td>-10.398329</td>\n",
       "      <td>-9.904058</td>\n",
       "      <td>-9.762032</td>\n",
       "      <td>-9.643346</td>\n",
       "      <td>-9.324754</td>\n",
       "    </tr>\n",
       "    <tr>\n",
       "      <th>2</th>\n",
       "      <td>2.0</td>\n",
       "      <td>100.0</td>\n",
       "      <td>-9.559155</td>\n",
       "      <td>0.137487</td>\n",
       "      <td>-9.927231</td>\n",
       "      <td>-9.646588</td>\n",
       "      <td>-9.565401</td>\n",
       "      <td>-9.449866</td>\n",
       "      <td>-9.244818</td>\n",
       "    </tr>\n",
       "    <tr>\n",
       "      <th>3</th>\n",
       "      <td>3.0</td>\n",
       "      <td>100.0</td>\n",
       "      <td>-9.425335</td>\n",
       "      <td>0.081486</td>\n",
       "      <td>-9.614534</td>\n",
       "      <td>-9.480274</td>\n",
       "      <td>-9.424977</td>\n",
       "      <td>-9.370031</td>\n",
       "      <td>-9.235884</td>\n",
       "    </tr>\n",
       "    <tr>\n",
       "      <th>4</th>\n",
       "      <td>4.0</td>\n",
       "      <td>100.0</td>\n",
       "      <td>-9.367001</td>\n",
       "      <td>0.052482</td>\n",
       "      <td>-9.479744</td>\n",
       "      <td>-9.404835</td>\n",
       "      <td>-9.366347</td>\n",
       "      <td>-9.332019</td>\n",
       "      <td>-9.222682</td>\n",
       "    </tr>\n",
       "    <tr>\n",
       "      <th>5</th>\n",
       "      <td>5.0</td>\n",
       "      <td>100.0</td>\n",
       "      <td>-9.344008</td>\n",
       "      <td>0.041116</td>\n",
       "      <td>-9.464649</td>\n",
       "      <td>-9.363683</td>\n",
       "      <td>-9.339513</td>\n",
       "      <td>-9.314139</td>\n",
       "      <td>-9.258091</td>\n",
       "    </tr>\n",
       "    <tr>\n",
       "      <th>6</th>\n",
       "      <td>6.0</td>\n",
       "      <td>100.0</td>\n",
       "      <td>-9.328501</td>\n",
       "      <td>0.030283</td>\n",
       "      <td>-9.415052</td>\n",
       "      <td>-9.343635</td>\n",
       "      <td>-9.328780</td>\n",
       "      <td>-9.309961</td>\n",
       "      <td>-9.259871</td>\n",
       "    </tr>\n",
       "    <tr>\n",
       "      <th>7</th>\n",
       "      <td>7.0</td>\n",
       "      <td>100.0</td>\n",
       "      <td>-9.321824</td>\n",
       "      <td>0.017944</td>\n",
       "      <td>-9.375722</td>\n",
       "      <td>-9.333468</td>\n",
       "      <td>-9.323647</td>\n",
       "      <td>-9.309035</td>\n",
       "      <td>-9.278080</td>\n",
       "    </tr>\n",
       "    <tr>\n",
       "      <th>8</th>\n",
       "      <td>8.0</td>\n",
       "      <td>100.0</td>\n",
       "      <td>-9.315813</td>\n",
       "      <td>0.015195</td>\n",
       "      <td>-9.350094</td>\n",
       "      <td>-9.328017</td>\n",
       "      <td>-9.315788</td>\n",
       "      <td>-9.306333</td>\n",
       "      <td>-9.269965</td>\n",
       "    </tr>\n",
       "    <tr>\n",
       "      <th>9</th>\n",
       "      <td>9.0</td>\n",
       "      <td>100.0</td>\n",
       "      <td>-9.313771</td>\n",
       "      <td>0.011706</td>\n",
       "      <td>-9.348584</td>\n",
       "      <td>-9.322312</td>\n",
       "      <td>-9.313726</td>\n",
       "      <td>-9.303589</td>\n",
       "      <td>-9.292319</td>\n",
       "    </tr>\n",
       "    <tr>\n",
       "      <th>10</th>\n",
       "      <td>10.0</td>\n",
       "      <td>100.0</td>\n",
       "      <td>-9.312603</td>\n",
       "      <td>0.007453</td>\n",
       "      <td>-9.332899</td>\n",
       "      <td>-9.316817</td>\n",
       "      <td>-9.312872</td>\n",
       "      <td>-9.307537</td>\n",
       "      <td>-9.295432</td>\n",
       "    </tr>\n",
       "  </tbody>\n",
       "</table>\n",
       "</div>"
      ],
      "text/plain": [
       "    param_n_estimators_log  count       mean       std        min        25%  \\\n",
       "0                      0.0  100.0 -10.262920  0.285947 -10.970777 -10.441826   \n",
       "1                      1.0  100.0  -9.781116  0.209132 -10.398329  -9.904058   \n",
       "2                      2.0  100.0  -9.559155  0.137487  -9.927231  -9.646588   \n",
       "3                      3.0  100.0  -9.425335  0.081486  -9.614534  -9.480274   \n",
       "4                      4.0  100.0  -9.367001  0.052482  -9.479744  -9.404835   \n",
       "5                      5.0  100.0  -9.344008  0.041116  -9.464649  -9.363683   \n",
       "6                      6.0  100.0  -9.328501  0.030283  -9.415052  -9.343635   \n",
       "7                      7.0  100.0  -9.321824  0.017944  -9.375722  -9.333468   \n",
       "8                      8.0  100.0  -9.315813  0.015195  -9.350094  -9.328017   \n",
       "9                      9.0  100.0  -9.313771  0.011706  -9.348584  -9.322312   \n",
       "10                    10.0  100.0  -9.312603  0.007453  -9.332899  -9.316817   \n",
       "\n",
       "          50%        75%       max  \n",
       "0  -10.253504 -10.068569 -9.642288  \n",
       "1   -9.762032  -9.643346 -9.324754  \n",
       "2   -9.565401  -9.449866 -9.244818  \n",
       "3   -9.424977  -9.370031 -9.235884  \n",
       "4   -9.366347  -9.332019 -9.222682  \n",
       "5   -9.339513  -9.314139 -9.258091  \n",
       "6   -9.328780  -9.309961 -9.259871  \n",
       "7   -9.323647  -9.309035 -9.278080  \n",
       "8   -9.315788  -9.306333 -9.269965  \n",
       "9   -9.313726  -9.303589 -9.292319  \n",
       "10  -9.312872  -9.307537 -9.295432  "
      ]
     },
     "execution_count": 399,
     "metadata": {},
     "output_type": "execute_result"
    }
   ],
   "source": [
    "gs_model_df_nt = pd.concat(gs_model_df_arr_nt)\n",
    "\n",
    "gs_model_df_nt['param_n_estimators_log'] = \\\n",
    "gs_model_df_nt['param_n_estimators'].apply(lambda x: math.log(x, 2))\n",
    "\n",
    "gs_model_df_nt_group = \\\n",
    "gs_model_df_nt.groupby('param_n_estimators_log')['split0_test_neg_mean_squared_error'].describe()\n",
    "gs_model_df_nt_group.reset_index(inplace=True)\n",
    "gs_model_df_nt_group"
   ]
  },
  {
   "cell_type": "code",
   "execution_count": 449,
   "metadata": {
    "ExecuteTime": {
     "end_time": "2019-08-16T14:06:23.060558Z",
     "start_time": "2019-08-16T14:06:22.692293Z"
    }
   },
   "outputs": [
    {
     "data": {
      "image/png": "[encoded data removed]",
      "text/plain": [
       "<Figure size 720x576 with 1 Axes>"
      ]
     },
     "metadata": {
      "needs_background": "light"
     },
     "output_type": "display_data"
    }
   ],
   "source": [
    "plt.figure(figsize=(10, 8))\n",
    "plt.plot(\n",
    "    gs_model_df_nt_group['param_n_estimators_log'],\n",
    "    -gs_model_df_nt_group['mean']\n",
    ")\n",
    "plt.errorbar(\n",
    "    gs_model_df_nt_group['param_n_estimators_log'],\n",
    "    -gs_model_df_nt_group['mean'],\n",
    "    yerr=gs_model_df_nt_group['std'], fmt='o', c='grey')\n",
    "plt.title('Cross validation error against number of trees')\n",
    "plt.ylabel('Cross validation error (MSE)')\n",
    "plt.xlabel('Number of trees')\n",
    "plt.ylim(9.2, 10.6)\n",
    "plt.grid()\n",
    "plt.show()"
   ]
  },
  {
   "cell_type": "markdown",
   "metadata": {},
   "source": [
    "# Evaluating model"
   ]
  },
  {
   "cell_type": "markdown",
   "metadata": {},
   "source": [
    "## Random forest"
   ]
  },
  {
   "cell_type": "code",
   "execution_count": 434,
   "metadata": {
    "ExecuteTime": {
     "end_time": "2019-08-16T11:05:10.928364Z",
     "start_time": "2019-08-16T10:53:20.692048Z"
    }
   },
   "outputs": [],
   "source": [
    "test_loss_arr = []\n",
    "for i in range(0, 100):\n",
    "    model = GradientBoostingRegressor(\n",
    "        criterion='mse',\n",
    "        min_samples_leaf=0.0175,\n",
    "        max_features=1.0,\n",
    "        learning_rate=0.02,\n",
    "        subsample=0.3,\n",
    "        n_estimators=200\n",
    "    )\n",
    "\n",
    "    model.fit(X_train, y_train.ravel())\n",
    "    \n",
    "    # get predictions for test set\n",
    "    y_pred = model.predict(X_test).flatten()\n",
    "\n",
    "    # calculate cross entropy loss for test set\n",
    "    test_loss = (\n",
    "        mean_absolute_error(y_test, y_pred),\n",
    "        mean_squared_error(y_test, y_pred),\n",
    "        r2_score(y_test, y_pred)\n",
    "    )\n",
    "    test_loss_arr.append(test_loss)"
   ]
  },
  {
   "cell_type": "code",
   "execution_count": 442,
   "metadata": {
    "ExecuteTime": {
     "end_time": "2019-08-16T11:22:13.979315Z",
     "start_time": "2019-08-16T11:22:13.952783Z"
    }
   },
   "outputs": [
    {
     "data": {
      "text/plain": [
       "([2.185488897712455, 9.312998931872741, 0.10510629583248025],\n",
       " [0.0020690617414785926, 0.011219919706621012, 0.0010781312851177473])"
      ]
     },
     "execution_count": 442,
     "metadata": {},
     "output_type": "execute_result"
    }
   ],
   "source": [
    "test_loss = \\\n",
    "[np.mean([i[j] for i in test_loss_arr]) for j in range(0, 3)]\n",
    "\n",
    "test_loss_std = \\\n",
    "[np.std([i[j] for i in test_loss_arr]) for j in range(0, 3)]\n",
    "\n",
    "\n",
    "test_loss, test_loss_std"
   ]
  },
  {
   "cell_type": "code",
   "execution_count": 436,
   "metadata": {
    "ExecuteTime": {
     "end_time": "2019-08-16T11:22:12.968372Z",
     "start_time": "2019-08-16T11:05:10.939845Z"
    }
   },
   "outputs": [],
   "source": [
    "test_loss_full_arr = []\n",
    "for i in range(0, 100):\n",
    "    model_full = RandomForestRegressor(\n",
    "        criterion='mse',\n",
    "        min_samples_leaf=0.0156,\n",
    "        max_features=0.9,\n",
    "        n_estimators=500\n",
    "    )\n",
    "\n",
    "    model_full.fit(X, y.ravel())\n",
    "    \n",
    "    # get predictions for test set\n",
    "    y_pred_full = model_full.predict(X).flatten()\n",
    "\n",
    "    # calculate cross entropy loss for test set\n",
    "    test_loss_full = (\n",
    "        mean_absolute_error(y, y_pred_full),\n",
    "        mean_squared_error(y, y_pred_full),\n",
    "        r2_score(y, y_pred_full)\n",
    "    )\n",
    "    test_loss_full_arr.append(test_loss_full)"
   ]
  },
  {
   "cell_type": "code",
   "execution_count": 437,
   "metadata": {
    "ExecuteTime": {
     "end_time": "2019-08-16T11:22:12.978225Z",
     "start_time": "2019-08-16T11:22:12.972123Z"
    }
   },
   "outputs": [
    {
     "data": {
      "text/plain": [
       "[2.0324275937117515, 7.784884412941644, 0.18640978895516627]"
      ]
     },
     "execution_count": 437,
     "metadata": {},
     "output_type": "execute_result"
    }
   ],
   "source": [
    "test_loss_full = \\\n",
    "[np.mean([i[j] for i in test_loss_full_arr]) for j in range(0, 3)]\n",
    "\n",
    "test_loss_full"
   ]
  },
  {
   "cell_type": "code",
   "execution_count": 438,
   "metadata": {
    "ExecuteTime": {
     "end_time": "2019-08-16T11:22:13.519945Z",
     "start_time": "2019-08-16T11:22:12.980556Z"
    }
   },
   "outputs": [
    {
     "data": {
      "image/png": "[encoded data removed]",
      "text/plain": [
       "<Figure size 720x576 with 1 Axes>"
      ]
     },
     "metadata": {
      "needs_background": "light"
     },
     "output_type": "display_data"
    }
   ],
   "source": [
    "plt.figure(figsize=(10, 8))\n",
    "plt.hist(pd.Series(y_pred), bins=range(-5,20), alpha=0.75, density=True, label='predicted')\n",
    "plt.hist(pd.Series(y_test.ravel()), bins=range(-5,20), alpha=0.75, density=True, label='observed')\n",
    "plt.legend()\n",
    "plt.show()"
   ]
  },
  {
   "cell_type": "code",
   "execution_count": 439,
   "metadata": {
    "ExecuteTime": {
     "end_time": "2019-08-16T11:22:13.857926Z",
     "start_time": "2019-08-16T11:22:13.522228Z"
    }
   },
   "outputs": [
    {
     "data": {
      "image/png": "[encoded data removed]",
      "text/plain": [
       "<Figure size 720x576 with 1 Axes>"
      ]
     },
     "metadata": {
      "needs_background": "light"
     },
     "output_type": "display_data"
    }
   ],
   "source": [
    "plt.figure(figsize=(10, 8))\n",
    "plt.scatter(pd.Series(y_test.ravel()), pd.Series(y_pred), alpha=0.1)\n",
    "plt.plot(np.linspace(-5, 25), np.linspace(-5, 25))\n",
    "plt.ylabel('Predicted total points')\n",
    "plt.xlabel('Observed total points')\n",
    "plt.ylim((-3, 12))\n",
    "plt.show()"
   ]
  },
  {
   "cell_type": "code",
   "execution_count": 451,
   "metadata": {
    "ExecuteTime": {
     "end_time": "2019-08-17T12:09:09.684183Z",
     "start_time": "2019-08-17T12:09:09.594500Z"
    }
   },
   "outputs": [
    {
     "data": {
      "text/plain": [
       "80"
      ]
     },
     "execution_count": 451,
     "metadata": {},
     "output_type": "execute_result"
    }
   ],
   "source": [
    "model.feature_importances_\n"
   ]
  },
  {
   "cell_type": "code",
   "execution_count": 458,
   "metadata": {
    "ExecuteTime": {
     "end_time": "2019-08-17T12:10:42.266977Z",
     "start_time": "2019-08-17T12:10:42.144369Z"
    }
   },
   "outputs": [
    {
     "data": {
      "text/html": [
       "<div>\n",
       "<style scoped>\n",
       "    .dataframe tbody tr th:only-of-type {\n",
       "        vertical-align: middle;\n",
       "    }\n",
       "\n",
       "    .dataframe tbody tr th {\n",
       "        vertical-align: top;\n",
       "    }\n",
       "\n",
       "    .dataframe thead th {\n",
       "        text-align: right;\n",
       "    }\n",
       "</style>\n",
       "<table border=\"1\" class=\"dataframe\">\n",
       "  <thead>\n",
       "    <tr style=\"text-align: right;\">\n",
       "      <th></th>\n",
       "      <th>feature</th>\n",
       "      <th>importance</th>\n",
       "    </tr>\n",
       "  </thead>\n",
       "  <tbody>\n",
       "    <tr>\n",
       "      <th>47</th>\n",
       "      <td>value</td>\n",
       "      <td>0.252259</td>\n",
       "    </tr>\n",
       "    <tr>\n",
       "      <th>77</th>\n",
       "      <td>rolling_avg_goals_scored_opposition_team</td>\n",
       "      <td>0.112414</td>\n",
       "    </tr>\n",
       "    <tr>\n",
       "      <th>79</th>\n",
       "      <td>expected_total_points_against_opposition_team_...</td>\n",
       "      <td>0.081379</td>\n",
       "    </tr>\n",
       "    <tr>\n",
       "      <th>75</th>\n",
       "      <td>rolling_avg_minutes_element_p3</td>\n",
       "      <td>0.070401</td>\n",
       "    </tr>\n",
       "    <tr>\n",
       "      <th>48</th>\n",
       "      <td>rolling_avg_total_points_element</td>\n",
       "      <td>0.045150</td>\n",
       "    </tr>\n",
       "    <tr>\n",
       "      <th>78</th>\n",
       "      <td>rolling_avg_goals_conceded_opposition_team</td>\n",
       "      <td>0.044288</td>\n",
       "    </tr>\n",
       "    <tr>\n",
       "      <th>66</th>\n",
       "      <td>rolling_avg_attempted_passes_element</td>\n",
       "      <td>0.032591</td>\n",
       "    </tr>\n",
       "    <tr>\n",
       "      <th>57</th>\n",
       "      <td>rolling_avg_clearances_blocks_interceptions_el...</td>\n",
       "      <td>0.032382</td>\n",
       "    </tr>\n",
       "    <tr>\n",
       "      <th>54</th>\n",
       "      <td>rolling_avg_key_passes_element</td>\n",
       "      <td>0.032235</td>\n",
       "    </tr>\n",
       "    <tr>\n",
       "      <th>59</th>\n",
       "      <td>rolling_avg_target_missed_element</td>\n",
       "      <td>0.029033</td>\n",
       "    </tr>\n",
       "    <tr>\n",
       "      <th>76</th>\n",
       "      <td>rolling_avg_total_points_element_p3</td>\n",
       "      <td>0.028354</td>\n",
       "    </tr>\n",
       "    <tr>\n",
       "      <th>56</th>\n",
       "      <td>rolling_avg_tackled_element</td>\n",
       "      <td>0.023933</td>\n",
       "    </tr>\n",
       "    <tr>\n",
       "      <th>52</th>\n",
       "      <td>rolling_avg_clean_sheets_element</td>\n",
       "      <td>0.021665</td>\n",
       "    </tr>\n",
       "    <tr>\n",
       "      <th>60</th>\n",
       "      <td>rolling_avg_fouls_element</td>\n",
       "      <td>0.021651</td>\n",
       "    </tr>\n",
       "    <tr>\n",
       "      <th>61</th>\n",
       "      <td>rolling_avg_tackles_element</td>\n",
       "      <td>0.021598</td>\n",
       "    </tr>\n",
       "    <tr>\n",
       "      <th>46</th>\n",
       "      <td>is_late</td>\n",
       "      <td>0.021286</td>\n",
       "    </tr>\n",
       "    <tr>\n",
       "      <th>64</th>\n",
       "      <td>rolling_avg_big_chances_missed_element</td>\n",
       "      <td>0.019412</td>\n",
       "    </tr>\n",
       "    <tr>\n",
       "      <th>51</th>\n",
       "      <td>rolling_avg_goals_scored_element</td>\n",
       "      <td>0.015828</td>\n",
       "    </tr>\n",
       "    <tr>\n",
       "      <th>65</th>\n",
       "      <td>rolling_avg_saves_element</td>\n",
       "      <td>0.014461</td>\n",
       "    </tr>\n",
       "    <tr>\n",
       "      <th>50</th>\n",
       "      <td>rolling_avg_bonus_element</td>\n",
       "      <td>0.013715</td>\n",
       "    </tr>\n",
       "    <tr>\n",
       "      <th>62</th>\n",
       "      <td>rolling_avg_open_play_crosses_element</td>\n",
       "      <td>0.010063</td>\n",
       "    </tr>\n",
       "    <tr>\n",
       "      <th>63</th>\n",
       "      <td>rolling_avg_offside_element</td>\n",
       "      <td>0.008219</td>\n",
       "    </tr>\n",
       "    <tr>\n",
       "      <th>74</th>\n",
       "      <td>rolling_avg_yellow_cards_element</td>\n",
       "      <td>0.007816</td>\n",
       "    </tr>\n",
       "    <tr>\n",
       "      <th>58</th>\n",
       "      <td>rolling_avg_big_chances_created_element</td>\n",
       "      <td>0.007628</td>\n",
       "    </tr>\n",
       "    <tr>\n",
       "      <th>53</th>\n",
       "      <td>rolling_avg_assists_element</td>\n",
       "      <td>0.006705</td>\n",
       "    </tr>\n",
       "    <tr>\n",
       "      <th>42</th>\n",
       "      <td>was_home</td>\n",
       "      <td>0.004322</td>\n",
       "    </tr>\n",
       "    <tr>\n",
       "      <th>25</th>\n",
       "      <td>C(opposition_team)[T.7]</td>\n",
       "      <td>0.003771</td>\n",
       "    </tr>\n",
       "    <tr>\n",
       "      <th>39</th>\n",
       "      <td>C(element_type)[T.2]</td>\n",
       "      <td>0.002872</td>\n",
       "    </tr>\n",
       "    <tr>\n",
       "      <th>40</th>\n",
       "      <td>C(element_type)[T.3]</td>\n",
       "      <td>0.002872</td>\n",
       "    </tr>\n",
       "    <tr>\n",
       "      <th>55</th>\n",
       "      <td>rolling_avg_winning_goals_element</td>\n",
       "      <td>0.002096</td>\n",
       "    </tr>\n",
       "    <tr>\n",
       "      <th>...</th>\n",
       "      <td>...</td>\n",
       "      <td>...</td>\n",
       "    </tr>\n",
       "    <tr>\n",
       "      <th>72</th>\n",
       "      <td>rolling_avg_penalties_saved_element</td>\n",
       "      <td>0.000000</td>\n",
       "    </tr>\n",
       "    <tr>\n",
       "      <th>73</th>\n",
       "      <td>rolling_avg_red_cards_element</td>\n",
       "      <td>0.000000</td>\n",
       "    </tr>\n",
       "    <tr>\n",
       "      <th>6</th>\n",
       "      <td>C(team)[T.7]</td>\n",
       "      <td>0.000000</td>\n",
       "    </tr>\n",
       "    <tr>\n",
       "      <th>5</th>\n",
       "      <td>C(team)[T.6]</td>\n",
       "      <td>0.000000</td>\n",
       "    </tr>\n",
       "    <tr>\n",
       "      <th>4</th>\n",
       "      <td>C(team)[T.5]</td>\n",
       "      <td>0.000000</td>\n",
       "    </tr>\n",
       "    <tr>\n",
       "      <th>3</th>\n",
       "      <td>C(team)[T.4]</td>\n",
       "      <td>0.000000</td>\n",
       "    </tr>\n",
       "    <tr>\n",
       "      <th>2</th>\n",
       "      <td>C(team)[T.3]</td>\n",
       "      <td>0.000000</td>\n",
       "    </tr>\n",
       "    <tr>\n",
       "      <th>67</th>\n",
       "      <td>rolling_avg_errors_leading_to_goal_element</td>\n",
       "      <td>0.000000</td>\n",
       "    </tr>\n",
       "    <tr>\n",
       "      <th>7</th>\n",
       "      <td>C(team)[T.8]</td>\n",
       "      <td>0.000000</td>\n",
       "    </tr>\n",
       "    <tr>\n",
       "      <th>8</th>\n",
       "      <td>C(team)[T.9]</td>\n",
       "      <td>0.000000</td>\n",
       "    </tr>\n",
       "    <tr>\n",
       "      <th>9</th>\n",
       "      <td>C(team)[T.10]</td>\n",
       "      <td>0.000000</td>\n",
       "    </tr>\n",
       "    <tr>\n",
       "      <th>10</th>\n",
       "      <td>C(team)[T.11]</td>\n",
       "      <td>0.000000</td>\n",
       "    </tr>\n",
       "    <tr>\n",
       "      <th>18</th>\n",
       "      <td>C(team)[T.19]</td>\n",
       "      <td>0.000000</td>\n",
       "    </tr>\n",
       "    <tr>\n",
       "      <th>12</th>\n",
       "      <td>C(team)[T.13]</td>\n",
       "      <td>0.000000</td>\n",
       "    </tr>\n",
       "    <tr>\n",
       "      <th>27</th>\n",
       "      <td>C(opposition_team)[T.9]</td>\n",
       "      <td>0.000000</td>\n",
       "    </tr>\n",
       "    <tr>\n",
       "      <th>32</th>\n",
       "      <td>C(opposition_team)[T.14]</td>\n",
       "      <td>0.000000</td>\n",
       "    </tr>\n",
       "    <tr>\n",
       "      <th>35</th>\n",
       "      <td>C(opposition_team)[T.17]</td>\n",
       "      <td>0.000000</td>\n",
       "    </tr>\n",
       "    <tr>\n",
       "      <th>37</th>\n",
       "      <td>C(opposition_team)[T.19]</td>\n",
       "      <td>0.000000</td>\n",
       "    </tr>\n",
       "    <tr>\n",
       "      <th>38</th>\n",
       "      <td>C(opposition_team)[T.20]</td>\n",
       "      <td>0.000000</td>\n",
       "    </tr>\n",
       "    <tr>\n",
       "      <th>1</th>\n",
       "      <td>C(team)[T.2]</td>\n",
       "      <td>0.000000</td>\n",
       "    </tr>\n",
       "    <tr>\n",
       "      <th>41</th>\n",
       "      <td>C(element_type)[T.4]</td>\n",
       "      <td>0.000000</td>\n",
       "    </tr>\n",
       "    <tr>\n",
       "      <th>26</th>\n",
       "      <td>C(opposition_team)[T.8]</td>\n",
       "      <td>0.000000</td>\n",
       "    </tr>\n",
       "    <tr>\n",
       "      <th>13</th>\n",
       "      <td>C(team)[T.14]</td>\n",
       "      <td>0.000000</td>\n",
       "    </tr>\n",
       "    <tr>\n",
       "      <th>24</th>\n",
       "      <td>C(opposition_team)[T.6]</td>\n",
       "      <td>0.000000</td>\n",
       "    </tr>\n",
       "    <tr>\n",
       "      <th>23</th>\n",
       "      <td>C(opposition_team)[T.5]</td>\n",
       "      <td>0.000000</td>\n",
       "    </tr>\n",
       "    <tr>\n",
       "      <th>30</th>\n",
       "      <td>C(opposition_team)[T.12]</td>\n",
       "      <td>0.000000</td>\n",
       "    </tr>\n",
       "    <tr>\n",
       "      <th>16</th>\n",
       "      <td>C(team)[T.17]</td>\n",
       "      <td>0.000000</td>\n",
       "    </tr>\n",
       "    <tr>\n",
       "      <th>15</th>\n",
       "      <td>C(team)[T.16]</td>\n",
       "      <td>0.000000</td>\n",
       "    </tr>\n",
       "    <tr>\n",
       "      <th>14</th>\n",
       "      <td>C(team)[T.15]</td>\n",
       "      <td>0.000000</td>\n",
       "    </tr>\n",
       "    <tr>\n",
       "      <th>0</th>\n",
       "      <td>Intercept</td>\n",
       "      <td>0.000000</td>\n",
       "    </tr>\n",
       "  </tbody>\n",
       "</table>\n",
       "<p>80 rows × 2 columns</p>\n",
       "</div>"
      ],
      "text/plain": [
       "                                              feature  importance\n",
       "47                                              value    0.252259\n",
       "77           rolling_avg_goals_scored_opposition_team    0.112414\n",
       "79  expected_total_points_against_opposition_team_...    0.081379\n",
       "75                     rolling_avg_minutes_element_p3    0.070401\n",
       "48                   rolling_avg_total_points_element    0.045150\n",
       "78         rolling_avg_goals_conceded_opposition_team    0.044288\n",
       "66               rolling_avg_attempted_passes_element    0.032591\n",
       "57  rolling_avg_clearances_blocks_interceptions_el...    0.032382\n",
       "54                     rolling_avg_key_passes_element    0.032235\n",
       "59                  rolling_avg_target_missed_element    0.029033\n",
       "76                rolling_avg_total_points_element_p3    0.028354\n",
       "56                        rolling_avg_tackled_element    0.023933\n",
       "52                   rolling_avg_clean_sheets_element    0.021665\n",
       "60                          rolling_avg_fouls_element    0.021651\n",
       "61                        rolling_avg_tackles_element    0.021598\n",
       "46                                            is_late    0.021286\n",
       "64             rolling_avg_big_chances_missed_element    0.019412\n",
       "51                   rolling_avg_goals_scored_element    0.015828\n",
       "65                          rolling_avg_saves_element    0.014461\n",
       "50                          rolling_avg_bonus_element    0.013715\n",
       "62              rolling_avg_open_play_crosses_element    0.010063\n",
       "63                        rolling_avg_offside_element    0.008219\n",
       "74                   rolling_avg_yellow_cards_element    0.007816\n",
       "58            rolling_avg_big_chances_created_element    0.007628\n",
       "53                        rolling_avg_assists_element    0.006705\n",
       "42                                           was_home    0.004322\n",
       "25                            C(opposition_team)[T.7]    0.003771\n",
       "39                               C(element_type)[T.2]    0.002872\n",
       "40                               C(element_type)[T.3]    0.002872\n",
       "55                  rolling_avg_winning_goals_element    0.002096\n",
       "..                                                ...         ...\n",
       "72                rolling_avg_penalties_saved_element    0.000000\n",
       "73                      rolling_avg_red_cards_element    0.000000\n",
       "6                                        C(team)[T.7]    0.000000\n",
       "5                                        C(team)[T.6]    0.000000\n",
       "4                                        C(team)[T.5]    0.000000\n",
       "3                                        C(team)[T.4]    0.000000\n",
       "2                                        C(team)[T.3]    0.000000\n",
       "67         rolling_avg_errors_leading_to_goal_element    0.000000\n",
       "7                                        C(team)[T.8]    0.000000\n",
       "8                                        C(team)[T.9]    0.000000\n",
       "9                                       C(team)[T.10]    0.000000\n",
       "10                                      C(team)[T.11]    0.000000\n",
       "18                                      C(team)[T.19]    0.000000\n",
       "12                                      C(team)[T.13]    0.000000\n",
       "27                            C(opposition_team)[T.9]    0.000000\n",
       "32                           C(opposition_team)[T.14]    0.000000\n",
       "35                           C(opposition_team)[T.17]    0.000000\n",
       "37                           C(opposition_team)[T.19]    0.000000\n",
       "38                           C(opposition_team)[T.20]    0.000000\n",
       "1                                        C(team)[T.2]    0.000000\n",
       "41                               C(element_type)[T.4]    0.000000\n",
       "26                            C(opposition_team)[T.8]    0.000000\n",
       "13                                      C(team)[T.14]    0.000000\n",
       "24                            C(opposition_team)[T.6]    0.000000\n",
       "23                            C(opposition_team)[T.5]    0.000000\n",
       "30                           C(opposition_team)[T.12]    0.000000\n",
       "16                                      C(team)[T.17]    0.000000\n",
       "15                                      C(team)[T.16]    0.000000\n",
       "14                                      C(team)[T.15]    0.000000\n",
       "0                                           Intercept    0.000000\n",
       "\n",
       "[80 rows x 2 columns]"
      ]
     },
     "execution_count": 458,
     "metadata": {},
     "output_type": "execute_result"
    }
   ],
   "source": [
    "pd.DataFrame(\n",
    "    list(zip(X.design_info.column_names, model.feature_importances_)),\n",
    "    columns=['feature', 'importance']).sort_values('importance', ascending=False)"
   ]
  },
  {
   "cell_type": "markdown",
   "metadata": {},
   "source": [
    "## Summary"
   ]
  },
  {
   "cell_type": "code",
   "execution_count": 440,
   "metadata": {
    "ExecuteTime": {
     "end_time": "2019-08-16T11:22:13.872871Z",
     "start_time": "2019-08-16T11:22:13.859995Z"
    }
   },
   "outputs": [
    {
     "data": {
      "text/html": [
       "<div>\n",
       "<style scoped>\n",
       "    .dataframe tbody tr th:only-of-type {\n",
       "        vertical-align: middle;\n",
       "    }\n",
       "\n",
       "    .dataframe tbody tr th {\n",
       "        vertical-align: top;\n",
       "    }\n",
       "\n",
       "    .dataframe thead th {\n",
       "        text-align: right;\n",
       "    }\n",
       "</style>\n",
       "<table border=\"1\" class=\"dataframe\">\n",
       "  <thead>\n",
       "    <tr style=\"text-align: right;\">\n",
       "      <th></th>\n",
       "      <th>model</th>\n",
       "      <th>MAE</th>\n",
       "      <th>MSE</th>\n",
       "      <th>r2</th>\n",
       "    </tr>\n",
       "  </thead>\n",
       "  <tbody>\n",
       "    <tr>\n",
       "      <th>0</th>\n",
       "      <td>Random Forest</td>\n",
       "      <td>2.185489</td>\n",
       "      <td>9.312999</td>\n",
       "      <td>0.105106</td>\n",
       "    </tr>\n",
       "  </tbody>\n",
       "</table>\n",
       "</div>"
      ],
      "text/plain": [
       "           model       MAE       MSE        r2\n",
       "0  Random Forest  2.185489  9.312999  0.105106"
      ]
     },
     "execution_count": 440,
     "metadata": {},
     "output_type": "execute_result"
    }
   ],
   "source": [
    "pd.DataFrame([\n",
    "    ('Random Forest', test_loss[0], test_loss[1], test_loss[2]),\n",
    "], columns=['model', 'MAE', 'MSE', 'r2'])"
   ]
  },
  {
   "cell_type": "code",
   "execution_count": 441,
   "metadata": {
    "ExecuteTime": {
     "end_time": "2019-08-16T11:22:13.950823Z",
     "start_time": "2019-08-16T11:22:13.874841Z"
    }
   },
   "outputs": [
    {
     "data": {
      "text/html": [
       "<div>\n",
       "<style scoped>\n",
       "    .dataframe tbody tr th:only-of-type {\n",
       "        vertical-align: middle;\n",
       "    }\n",
       "\n",
       "    .dataframe tbody tr th {\n",
       "        vertical-align: top;\n",
       "    }\n",
       "\n",
       "    .dataframe thead th {\n",
       "        text-align: right;\n",
       "    }\n",
       "</style>\n",
       "<table border=\"1\" class=\"dataframe\">\n",
       "  <thead>\n",
       "    <tr style=\"text-align: right;\">\n",
       "      <th></th>\n",
       "      <th>model</th>\n",
       "      <th>MAE</th>\n",
       "      <th>MSE</th>\n",
       "      <th>r2</th>\n",
       "    </tr>\n",
       "  </thead>\n",
       "  <tbody>\n",
       "    <tr>\n",
       "      <th>0</th>\n",
       "      <td>Random Forest</td>\n",
       "      <td>2.032428</td>\n",
       "      <td>7.784884</td>\n",
       "      <td>0.18641</td>\n",
       "    </tr>\n",
       "  </tbody>\n",
       "</table>\n",
       "</div>"
      ],
      "text/plain": [
       "           model       MAE       MSE       r2\n",
       "0  Random Forest  2.032428  7.784884  0.18641"
      ]
     },
     "execution_count": 441,
     "metadata": {},
     "output_type": "execute_result"
    }
   ],
   "source": [
    "pd.DataFrame([\n",
    "    ('Random Forest', test_loss_full[0], test_loss_full[1], test_loss_full[2]),\n",
    "], columns=['model', 'MAE', 'MSE', 'r2'])"
   ]
  },
  {
   "cell_type": "code",
   "execution_count": null,
   "metadata": {},
   "outputs": [],
   "source": []
  }
 ],
 "metadata": {
  "kernelspec": {
   "display_name": "Python 3",
   "language": "python",
   "name": "python3"
  },
  "language_info": {
   "codemirror_mode": {
    "name": "ipython",
    "version": 3
   },
   "file_extension": ".py",
   "mimetype": "text/x-python",
   "name": "python",
   "nbconvert_exporter": "python",
   "pygments_lexer": "ipython3",
   "version": "3.6.7"
  },
  "toc": {
   "nav_menu": {},
   "number_sections": true,
   "sideBar": true,
   "skip_h1_title": false,
   "title_cell": "Table of Contents",
   "title_sidebar": "Contents",
   "toc_cell": false,
   "toc_position": {},
   "toc_section_display": true,
   "toc_window_display": false
  }
 },
 "nbformat": 4,
 "nbformat_minor": 2
}
