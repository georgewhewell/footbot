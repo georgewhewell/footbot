{
 "cells": [
  {
   "cell_type": "markdown",
   "metadata": {},
   "source": [
    "# Set up"
   ]
  },
  {
   "cell_type": "code",
   "execution_count": 1,
   "metadata": {
    "ExecuteTime": {
     "end_time": "2019-07-10T07:19:45.479421Z",
     "start_time": "2019-07-10T07:19:45.473796Z"
    }
   },
   "outputs": [],
   "source": [
    "# update path with data dir\n",
    "import sys\n",
    "sys.path.append('../../data/')"
   ]
  },
  {
   "cell_type": "code",
   "execution_count": 2,
   "metadata": {
    "ExecuteTime": {
     "end_time": "2019-07-10T07:19:45.650003Z",
     "start_time": "2019-07-10T07:19:45.645515Z"
    }
   },
   "outputs": [],
   "source": [
    "import warnings\n",
    "# warnings.filterwarnings('ignore')"
   ]
  },
  {
   "cell_type": "code",
   "execution_count": 63,
   "metadata": {
    "ExecuteTime": {
     "end_time": "2019-07-10T10:54:19.446440Z",
     "start_time": "2019-07-10T10:54:19.205306Z"
    }
   },
   "outputs": [],
   "source": [
    "import player_data as player\n",
    "import pandas as pd\n",
    "import patsy\n",
    "import numpy as np\n",
    "import itertools\n",
    "from sklearn.svm import SVR\n",
    "from sklearn.model_selection import PredefinedSplit, GridSearchCV\n",
    "from sklearn.metrics import mean_absolute_error, mean_squared_error\n",
    "import matplotlib.pyplot as plt"
   ]
  },
  {
   "cell_type": "markdown",
   "metadata": {},
   "source": [
    "# Getting data"
   ]
  },
  {
   "cell_type": "code",
   "execution_count": 4,
   "metadata": {
    "ExecuteTime": {
     "end_time": "2019-07-10T07:19:47.168195Z",
     "start_time": "2019-07-10T07:19:47.164243Z"
    }
   },
   "outputs": [],
   "source": [
    "file_name = '../csvs/element_gameweek_2019-05-14.csv'"
   ]
  },
  {
   "cell_type": "code",
   "execution_count": 5,
   "metadata": {
    "ExecuteTime": {
     "end_time": "2019-07-10T07:19:47.755904Z",
     "start_time": "2019-07-10T07:19:47.534114Z"
    }
   },
   "outputs": [],
   "source": [
    "element_gameweek_df = pd.read_csv(file_name, index_col=0)"
   ]
  },
  {
   "cell_type": "code",
   "execution_count": 6,
   "metadata": {
    "ExecuteTime": {
     "end_time": "2019-07-10T07:19:47.838150Z",
     "start_time": "2019-07-10T07:19:47.833696Z"
    }
   },
   "outputs": [],
   "source": [
    "current_event = 20"
   ]
  },
  {
   "cell_type": "code",
   "execution_count": 7,
   "metadata": {
    "ExecuteTime": {
     "end_time": "2019-07-10T07:19:48.223543Z",
     "start_time": "2019-07-10T07:19:48.211784Z"
    }
   },
   "outputs": [],
   "source": [
    "element_gameweek_df =\\\n",
    "element_gameweek_df[\n",
    "    (element_gameweek_df['event'] <= current_event)\n",
    "]"
   ]
  },
  {
   "cell_type": "code",
   "execution_count": 8,
   "metadata": {
    "ExecuteTime": {
     "end_time": "2019-07-10T07:19:48.517630Z",
     "start_time": "2019-07-10T07:19:48.436728Z"
    }
   },
   "outputs": [],
   "source": [
    "player.add_home_categorical_variable(element_gameweek_df)"
   ]
  },
  {
   "cell_type": "code",
   "execution_count": 9,
   "metadata": {
    "ExecuteTime": {
     "end_time": "2019-07-10T07:19:48.707276Z",
     "start_time": "2019-07-10T07:19:48.643525Z"
    }
   },
   "outputs": [
    {
     "data": {
      "text/html": [
       "<div>\n",
       "<style scoped>\n",
       "    .dataframe tbody tr th:only-of-type {\n",
       "        vertical-align: middle;\n",
       "    }\n",
       "\n",
       "    .dataframe tbody tr th {\n",
       "        vertical-align: top;\n",
       "    }\n",
       "\n",
       "    .dataframe thead th {\n",
       "        text-align: right;\n",
       "    }\n",
       "</style>\n",
       "<table border=\"1\" class=\"dataframe\">\n",
       "  <thead>\n",
       "    <tr style=\"text-align: right;\">\n",
       "      <th></th>\n",
       "      <th>row_id</th>\n",
       "      <th>assists</th>\n",
       "      <th>attempted_passes</th>\n",
       "      <th>big_chances_created</th>\n",
       "      <th>big_chances_missed</th>\n",
       "      <th>bonus</th>\n",
       "      <th>bps</th>\n",
       "      <th>clean_sheets</th>\n",
       "      <th>clearances_blocks_interceptions</th>\n",
       "      <th>completed_passes</th>\n",
       "      <th>...</th>\n",
       "      <th>team_a</th>\n",
       "      <th>team_a_difficulty</th>\n",
       "      <th>team_h</th>\n",
       "      <th>team_h_difficulty</th>\n",
       "      <th>element_type</th>\n",
       "      <th>team</th>\n",
       "      <th>web_name</th>\n",
       "      <th>safe_web_name</th>\n",
       "      <th>own_team</th>\n",
       "      <th>opposition_team</th>\n",
       "    </tr>\n",
       "  </thead>\n",
       "  <tbody>\n",
       "    <tr>\n",
       "      <th>0</th>\n",
       "      <td>0</td>\n",
       "      <td>0</td>\n",
       "      <td>42</td>\n",
       "      <td>0</td>\n",
       "      <td>0</td>\n",
       "      <td>0</td>\n",
       "      <td>24</td>\n",
       "      <td>0</td>\n",
       "      <td>2</td>\n",
       "      <td>31</td>\n",
       "      <td>...</td>\n",
       "      <td>13</td>\n",
       "      <td>4</td>\n",
       "      <td>1</td>\n",
       "      <td>4</td>\n",
       "      <td>1</td>\n",
       "      <td>1</td>\n",
       "      <td>Cech</td>\n",
       "      <td>cech</td>\n",
       "      <td>1</td>\n",
       "      <td>13</td>\n",
       "    </tr>\n",
       "    <tr>\n",
       "      <th>1</th>\n",
       "      <td>1</td>\n",
       "      <td>0</td>\n",
       "      <td>35</td>\n",
       "      <td>0</td>\n",
       "      <td>0</td>\n",
       "      <td>0</td>\n",
       "      <td>26</td>\n",
       "      <td>0</td>\n",
       "      <td>1</td>\n",
       "      <td>25</td>\n",
       "      <td>...</td>\n",
       "      <td>1</td>\n",
       "      <td>4</td>\n",
       "      <td>6</td>\n",
       "      <td>4</td>\n",
       "      <td>1</td>\n",
       "      <td>1</td>\n",
       "      <td>Cech</td>\n",
       "      <td>cech</td>\n",
       "      <td>1</td>\n",
       "      <td>6</td>\n",
       "    </tr>\n",
       "    <tr>\n",
       "      <th>2</th>\n",
       "      <td>2</td>\n",
       "      <td>0</td>\n",
       "      <td>24</td>\n",
       "      <td>0</td>\n",
       "      <td>0</td>\n",
       "      <td>0</td>\n",
       "      <td>17</td>\n",
       "      <td>0</td>\n",
       "      <td>0</td>\n",
       "      <td>20</td>\n",
       "      <td>...</td>\n",
       "      <td>19</td>\n",
       "      <td>4</td>\n",
       "      <td>1</td>\n",
       "      <td>3</td>\n",
       "      <td>1</td>\n",
       "      <td>1</td>\n",
       "      <td>Cech</td>\n",
       "      <td>cech</td>\n",
       "      <td>1</td>\n",
       "      <td>19</td>\n",
       "    </tr>\n",
       "    <tr>\n",
       "      <th>3</th>\n",
       "      <td>3</td>\n",
       "      <td>0</td>\n",
       "      <td>38</td>\n",
       "      <td>0</td>\n",
       "      <td>0</td>\n",
       "      <td>0</td>\n",
       "      <td>8</td>\n",
       "      <td>0</td>\n",
       "      <td>0</td>\n",
       "      <td>24</td>\n",
       "      <td>...</td>\n",
       "      <td>1</td>\n",
       "      <td>2</td>\n",
       "      <td>5</td>\n",
       "      <td>4</td>\n",
       "      <td>1</td>\n",
       "      <td>1</td>\n",
       "      <td>Cech</td>\n",
       "      <td>cech</td>\n",
       "      <td>1</td>\n",
       "      <td>5</td>\n",
       "    </tr>\n",
       "    <tr>\n",
       "      <th>4</th>\n",
       "      <td>4</td>\n",
       "      <td>0</td>\n",
       "      <td>33</td>\n",
       "      <td>0</td>\n",
       "      <td>0</td>\n",
       "      <td>0</td>\n",
       "      <td>13</td>\n",
       "      <td>0</td>\n",
       "      <td>2</td>\n",
       "      <td>23</td>\n",
       "      <td>...</td>\n",
       "      <td>1</td>\n",
       "      <td>3</td>\n",
       "      <td>15</td>\n",
       "      <td>4</td>\n",
       "      <td>1</td>\n",
       "      <td>1</td>\n",
       "      <td>Cech</td>\n",
       "      <td>cech</td>\n",
       "      <td>1</td>\n",
       "      <td>15</td>\n",
       "    </tr>\n",
       "  </tbody>\n",
       "</table>\n",
       "<p>5 rows × 66 columns</p>\n",
       "</div>"
      ],
      "text/plain": [
       "   row_id  assists  attempted_passes  big_chances_created  big_chances_missed  \\\n",
       "0       0        0                42                    0                   0   \n",
       "1       1        0                35                    0                   0   \n",
       "2       2        0                24                    0                   0   \n",
       "3       3        0                38                    0                   0   \n",
       "4       4        0                33                    0                   0   \n",
       "\n",
       "   bonus  bps  clean_sheets  clearances_blocks_interceptions  \\\n",
       "0      0   24             0                                2   \n",
       "1      0   26             0                                1   \n",
       "2      0   17             0                                0   \n",
       "3      0    8             0                                0   \n",
       "4      0   13             0                                2   \n",
       "\n",
       "   completed_passes       ...         team_a  team_a_difficulty  team_h  \\\n",
       "0                31       ...             13                  4       1   \n",
       "1                25       ...              1                  4       6   \n",
       "2                20       ...             19                  4       1   \n",
       "3                24       ...              1                  2       5   \n",
       "4                23       ...              1                  3      15   \n",
       "\n",
       "   team_h_difficulty  element_type  team  web_name  safe_web_name  own_team  \\\n",
       "0                  4             1     1      Cech           cech         1   \n",
       "1                  4             1     1      Cech           cech         1   \n",
       "2                  3             1     1      Cech           cech         1   \n",
       "3                  4             1     1      Cech           cech         1   \n",
       "4                  4             1     1      Cech           cech         1   \n",
       "\n",
       "   opposition_team  \n",
       "0               13  \n",
       "1                6  \n",
       "2               19  \n",
       "3                5  \n",
       "4               15  \n",
       "\n",
       "[5 rows x 66 columns]"
      ]
     },
     "execution_count": 9,
     "metadata": {},
     "output_type": "execute_result"
    }
   ],
   "source": [
    "element_gameweek_df.head()"
   ]
  },
  {
   "cell_type": "code",
   "execution_count": 10,
   "metadata": {
    "ExecuteTime": {
     "end_time": "2019-07-10T07:19:48.860172Z",
     "start_time": "2019-07-10T07:19:48.853768Z"
    }
   },
   "outputs": [],
   "source": [
    "cols = [\n",
    "    'element',\n",
    "    'event',\n",
    "    'own_team',\n",
    "    'opposition_team',\n",
    "    'was_home',\n",
    "    'element_type',\n",
    "    'value',\n",
    "    'total_points',\n",
    "    'minutes'\n",
    "]\n",
    "\n",
    "rolling_cols = ['total_points']"
   ]
  },
  {
   "cell_type": "code",
   "execution_count": 11,
   "metadata": {
    "ExecuteTime": {
     "end_time": "2019-07-10T07:19:49.439295Z",
     "start_time": "2019-07-10T07:19:49.314126Z"
    }
   },
   "outputs": [
    {
     "data": {
      "text/html": [
       "<div>\n",
       "<style scoped>\n",
       "    .dataframe tbody tr th:only-of-type {\n",
       "        vertical-align: middle;\n",
       "    }\n",
       "\n",
       "    .dataframe tbody tr th {\n",
       "        vertical-align: top;\n",
       "    }\n",
       "\n",
       "    .dataframe thead th {\n",
       "        text-align: right;\n",
       "    }\n",
       "</style>\n",
       "<table border=\"1\" class=\"dataframe\">\n",
       "  <thead>\n",
       "    <tr style=\"text-align: right;\">\n",
       "      <th></th>\n",
       "      <th>element</th>\n",
       "      <th>event</th>\n",
       "      <th>own_team</th>\n",
       "      <th>opposition_team</th>\n",
       "      <th>was_home</th>\n",
       "      <th>element_type</th>\n",
       "      <th>value</th>\n",
       "      <th>total_points</th>\n",
       "      <th>minutes</th>\n",
       "      <th>element_fixture_rank</th>\n",
       "    </tr>\n",
       "  </thead>\n",
       "  <tbody>\n",
       "    <tr>\n",
       "      <th>0</th>\n",
       "      <td>1</td>\n",
       "      <td>1</td>\n",
       "      <td>1</td>\n",
       "      <td>13</td>\n",
       "      <td>1</td>\n",
       "      <td>1</td>\n",
       "      <td>50</td>\n",
       "      <td>3</td>\n",
       "      <td>90</td>\n",
       "      <td>1.0</td>\n",
       "    </tr>\n",
       "    <tr>\n",
       "      <th>1</th>\n",
       "      <td>1</td>\n",
       "      <td>2</td>\n",
       "      <td>1</td>\n",
       "      <td>6</td>\n",
       "      <td>0</td>\n",
       "      <td>1</td>\n",
       "      <td>50</td>\n",
       "      <td>3</td>\n",
       "      <td>90</td>\n",
       "      <td>2.0</td>\n",
       "    </tr>\n",
       "    <tr>\n",
       "      <th>2</th>\n",
       "      <td>1</td>\n",
       "      <td>3</td>\n",
       "      <td>1</td>\n",
       "      <td>19</td>\n",
       "      <td>1</td>\n",
       "      <td>1</td>\n",
       "      <td>50</td>\n",
       "      <td>3</td>\n",
       "      <td>90</td>\n",
       "      <td>3.0</td>\n",
       "    </tr>\n",
       "    <tr>\n",
       "      <th>3</th>\n",
       "      <td>1</td>\n",
       "      <td>4</td>\n",
       "      <td>1</td>\n",
       "      <td>5</td>\n",
       "      <td>0</td>\n",
       "      <td>1</td>\n",
       "      <td>50</td>\n",
       "      <td>1</td>\n",
       "      <td>90</td>\n",
       "      <td>4.0</td>\n",
       "    </tr>\n",
       "    <tr>\n",
       "      <th>4</th>\n",
       "      <td>1</td>\n",
       "      <td>5</td>\n",
       "      <td>1</td>\n",
       "      <td>15</td>\n",
       "      <td>0</td>\n",
       "      <td>1</td>\n",
       "      <td>50</td>\n",
       "      <td>2</td>\n",
       "      <td>90</td>\n",
       "      <td>5.0</td>\n",
       "    </tr>\n",
       "  </tbody>\n",
       "</table>\n",
       "</div>"
      ],
      "text/plain": [
       "   element  event  own_team  opposition_team  was_home  element_type  value  \\\n",
       "0        1      1         1               13         1             1     50   \n",
       "1        1      2         1                6         0             1     50   \n",
       "2        1      3         1               19         1             1     50   \n",
       "3        1      4         1                5         0             1     50   \n",
       "4        1      5         1               15         0             1     50   \n",
       "\n",
       "   total_points  minutes  element_fixture_rank  \n",
       "0             3       90                   1.0  \n",
       "1             3       90                   2.0  \n",
       "2             3       90                   3.0  \n",
       "3             1       90                   4.0  \n",
       "4             2       90                   5.0  "
      ]
     },
     "execution_count": 11,
     "metadata": {},
     "output_type": "execute_result"
    }
   ],
   "source": [
    "element_gameweek_df = element_gameweek_df[cols]\n",
    "element_gameweek_df['element_fixture_rank'] = element_gameweek_df.groupby('element')['event'].rank()\n",
    "element_gameweek_df.head()"
   ]
  },
  {
   "cell_type": "markdown",
   "metadata": {},
   "source": [
    "# Modelling data"
   ]
  },
  {
   "cell_type": "markdown",
   "metadata": {},
   "source": [
    "## Splitting data"
   ]
  },
  {
   "cell_type": "code",
   "execution_count": 12,
   "metadata": {
    "ExecuteTime": {
     "end_time": "2019-07-10T07:19:50.618177Z",
     "start_time": "2019-07-10T07:19:50.612721Z"
    }
   },
   "outputs": [],
   "source": [
    "last_train_event = 15"
   ]
  },
  {
   "cell_type": "code",
   "execution_count": 13,
   "metadata": {
    "ExecuteTime": {
     "end_time": "2019-07-10T07:19:50.845271Z",
     "start_time": "2019-07-10T07:19:50.834608Z"
    }
   },
   "outputs": [],
   "source": [
    "test_fold = [-1 if i <= last_train_event else 0 for i in element_gameweek_df['event']]\n",
    "ps = PredefinedSplit(test_fold)"
   ]
  },
  {
   "cell_type": "code",
   "execution_count": 14,
   "metadata": {
    "ExecuteTime": {
     "end_time": "2019-07-10T07:19:51.092355Z",
     "start_time": "2019-07-10T07:19:51.087789Z"
    }
   },
   "outputs": [],
   "source": [
    "formula = \\\n",
    "'total_points ~ C(element) + C(element_type) + C(own_team) + value + C(opposition_team) + was_home'"
   ]
  },
  {
   "cell_type": "code",
   "execution_count": 15,
   "metadata": {
    "ExecuteTime": {
     "end_time": "2019-07-10T07:19:51.902401Z",
     "start_time": "2019-07-10T07:19:51.294269Z"
    }
   },
   "outputs": [],
   "source": [
    "y, X = patsy.dmatrices(formula, element_gameweek_df, return_type='matrix')"
   ]
  },
  {
   "cell_type": "code",
   "execution_count": 16,
   "metadata": {
    "ExecuteTime": {
     "end_time": "2019-07-10T07:19:51.950008Z",
     "start_time": "2019-07-10T07:19:51.908888Z"
    }
   },
   "outputs": [],
   "source": [
    "for train_index, test_index in ps.split():\n",
    "    X_train, X_test = X[train_index], X[test_index]\n",
    "    y_train, y_test = y[train_index], y[test_index]"
   ]
  },
  {
   "cell_type": "markdown",
   "metadata": {},
   "source": [
    "## Scaling data"
   ]
  },
  {
   "cell_type": "markdown",
   "metadata": {},
   "source": [
    "## Tuning model"
   ]
  },
  {
   "cell_type": "code",
   "execution_count": 87,
   "metadata": {
    "ExecuteTime": {
     "end_time": "2019-07-10T11:04:46.809792Z",
     "start_time": "2019-07-10T11:04:46.801224Z"
    }
   },
   "outputs": [],
   "source": [
    "rbf_gamma = [0.075, 0.1, 0.125]\n",
    "rbf_C = [4.5, 5, 5.5]\n",
    "rbf_epsilon = [0.75, 1, 1.25]\n",
    "\n",
    "rbf_parameters = {\n",
    "    'gamma': rbf_gamma,\n",
    "    'C': rbf_C,\n",
    "    'epsilon': rbf_epsilon\n",
    "}"
   ]
  },
  {
   "cell_type": "code",
   "execution_count": 88,
   "metadata": {
    "ExecuteTime": {
     "end_time": "2019-07-10T11:22:50.648777Z",
     "start_time": "2019-07-10T11:04:47.736855Z"
    }
   },
   "outputs": [
    {
     "name": "stdout",
     "output_type": "stream",
     "text": [
      "Fitting 1 folds for each of 27 candidates, totalling 27 fits\n"
     ]
    },
    {
     "name": "stderr",
     "output_type": "stream",
     "text": [
      "[Parallel(n_jobs=1)]: Using backend SequentialBackend with 1 concurrent workers.\n",
      "[Parallel(n_jobs=1)]: Done  27 out of  27 | elapsed: 18.0min finished\n"
     ]
    },
    {
     "data": {
      "text/plain": [
       "GridSearchCV(cv=PredefinedSplit(test_fold=array([-1, -1, ...,  0,  0])),\n",
       "             error_score=100,\n",
       "             estimator=SVR(C=1.0, cache_size=200, coef0=0.0, degree=3,\n",
       "                           epsilon=0.1, gamma='auto_deprecated', kernel='rbf',\n",
       "                           max_iter=-1, shrinking=True, tol=0.001,\n",
       "                           verbose=False),\n",
       "             iid='warn', n_jobs=1,\n",
       "             param_grid={'C': [4.5, 5, 5.5], 'epsilon': [0.75, 1, 1.25],\n",
       "                         'gamma': [0.075, 0.1, 0.125]},\n",
       "             pre_dispatch='2*n_jobs', refit=False, return_train_score=False,\n",
       "             scoring=['neg_mean_absolute_error', 'neg_mean_squared_error'],\n",
       "             verbose=1)"
      ]
     },
     "execution_count": 88,
     "metadata": {},
     "output_type": "execute_result"
    }
   ],
   "source": [
    "gs_model_rbf = GridSearchCV(\n",
    "    SVR(kernel='rbf'),\n",
    "    rbf_parameters,\n",
    "    scoring=['neg_mean_absolute_error', 'neg_mean_squared_error'],\n",
    "    refit=False,\n",
    "    cv=ps,\n",
    "    error_score=100, n_jobs=1, verbose=1)\n",
    "gs_model_rbf.fit(X, y.ravel())"
   ]
  },
  {
   "cell_type": "code",
   "execution_count": 89,
   "metadata": {
    "ExecuteTime": {
     "end_time": "2019-07-10T11:22:50.679437Z",
     "start_time": "2019-07-10T11:22:50.651807Z"
    }
   },
   "outputs": [
    {
     "data": {
      "text/html": [
       "<div>\n",
       "<style scoped>\n",
       "    .dataframe tbody tr th:only-of-type {\n",
       "        vertical-align: middle;\n",
       "    }\n",
       "\n",
       "    .dataframe tbody tr th {\n",
       "        vertical-align: top;\n",
       "    }\n",
       "\n",
       "    .dataframe thead th {\n",
       "        text-align: right;\n",
       "    }\n",
       "</style>\n",
       "<table border=\"1\" class=\"dataframe\">\n",
       "  <thead>\n",
       "    <tr style=\"text-align: right;\">\n",
       "      <th></th>\n",
       "      <th>param_C</th>\n",
       "      <th>param_epsilon</th>\n",
       "      <th>param_gamma</th>\n",
       "      <th>split0_test_neg_mean_absolute_error</th>\n",
       "      <th>split0_test_neg_mean_squared_error</th>\n",
       "    </tr>\n",
       "  </thead>\n",
       "  <tbody>\n",
       "    <tr>\n",
       "      <th>0</th>\n",
       "      <td>4.5</td>\n",
       "      <td>0.75</td>\n",
       "      <td>0.075</td>\n",
       "      <td>-1.391895</td>\n",
       "      <td>-5.891085</td>\n",
       "    </tr>\n",
       "    <tr>\n",
       "      <th>1</th>\n",
       "      <td>4.5</td>\n",
       "      <td>0.75</td>\n",
       "      <td>0.1</td>\n",
       "      <td>-1.398726</td>\n",
       "      <td>-5.910031</td>\n",
       "    </tr>\n",
       "    <tr>\n",
       "      <th>2</th>\n",
       "      <td>4.5</td>\n",
       "      <td>0.75</td>\n",
       "      <td>0.125</td>\n",
       "      <td>-1.408045</td>\n",
       "      <td>-5.934183</td>\n",
       "    </tr>\n",
       "    <tr>\n",
       "      <th>3</th>\n",
       "      <td>4.5</td>\n",
       "      <td>1</td>\n",
       "      <td>0.075</td>\n",
       "      <td>-1.474941</td>\n",
       "      <td>-5.878072</td>\n",
       "    </tr>\n",
       "    <tr>\n",
       "      <th>4</th>\n",
       "      <td>4.5</td>\n",
       "      <td>1</td>\n",
       "      <td>0.1</td>\n",
       "      <td>-1.475760</td>\n",
       "      <td>-5.889931</td>\n",
       "    </tr>\n",
       "    <tr>\n",
       "      <th>5</th>\n",
       "      <td>4.5</td>\n",
       "      <td>1</td>\n",
       "      <td>0.125</td>\n",
       "      <td>-1.481240</td>\n",
       "      <td>-5.909532</td>\n",
       "    </tr>\n",
       "    <tr>\n",
       "      <th>6</th>\n",
       "      <td>4.5</td>\n",
       "      <td>1.25</td>\n",
       "      <td>0.075</td>\n",
       "      <td>-1.564373</td>\n",
       "      <td>-5.900805</td>\n",
       "    </tr>\n",
       "    <tr>\n",
       "      <th>7</th>\n",
       "      <td>4.5</td>\n",
       "      <td>1.25</td>\n",
       "      <td>0.1</td>\n",
       "      <td>-1.565384</td>\n",
       "      <td>-5.906666</td>\n",
       "    </tr>\n",
       "    <tr>\n",
       "      <th>8</th>\n",
       "      <td>4.5</td>\n",
       "      <td>1.25</td>\n",
       "      <td>0.125</td>\n",
       "      <td>-1.571780</td>\n",
       "      <td>-5.933970</td>\n",
       "    </tr>\n",
       "    <tr>\n",
       "      <th>9</th>\n",
       "      <td>5</td>\n",
       "      <td>0.75</td>\n",
       "      <td>0.075</td>\n",
       "      <td>-1.391906</td>\n",
       "      <td>-5.888238</td>\n",
       "    </tr>\n",
       "    <tr>\n",
       "      <th>10</th>\n",
       "      <td>5</td>\n",
       "      <td>0.75</td>\n",
       "      <td>0.1</td>\n",
       "      <td>-1.400542</td>\n",
       "      <td>-5.915044</td>\n",
       "    </tr>\n",
       "    <tr>\n",
       "      <th>11</th>\n",
       "      <td>5</td>\n",
       "      <td>0.75</td>\n",
       "      <td>0.125</td>\n",
       "      <td>-1.410677</td>\n",
       "      <td>-5.942407</td>\n",
       "    </tr>\n",
       "    <tr>\n",
       "      <th>12</th>\n",
       "      <td>5</td>\n",
       "      <td>1</td>\n",
       "      <td>0.075</td>\n",
       "      <td>-1.472604</td>\n",
       "      <td>-5.872859</td>\n",
       "    </tr>\n",
       "    <tr>\n",
       "      <th>13</th>\n",
       "      <td>5</td>\n",
       "      <td>1</td>\n",
       "      <td>0.1</td>\n",
       "      <td>-1.473743</td>\n",
       "      <td>-5.889723</td>\n",
       "    </tr>\n",
       "    <tr>\n",
       "      <th>14</th>\n",
       "      <td>5</td>\n",
       "      <td>1</td>\n",
       "      <td>0.125</td>\n",
       "      <td>-1.481431</td>\n",
       "      <td>-5.917121</td>\n",
       "    </tr>\n",
       "    <tr>\n",
       "      <th>15</th>\n",
       "      <td>5</td>\n",
       "      <td>1.25</td>\n",
       "      <td>0.075</td>\n",
       "      <td>-1.560561</td>\n",
       "      <td>-5.891000</td>\n",
       "    </tr>\n",
       "    <tr>\n",
       "      <th>16</th>\n",
       "      <td>5</td>\n",
       "      <td>1.25</td>\n",
       "      <td>0.1</td>\n",
       "      <td>-1.562460</td>\n",
       "      <td>-5.906162</td>\n",
       "    </tr>\n",
       "    <tr>\n",
       "      <th>17</th>\n",
       "      <td>5</td>\n",
       "      <td>1.25</td>\n",
       "      <td>0.125</td>\n",
       "      <td>-1.570566</td>\n",
       "      <td>-5.944905</td>\n",
       "    </tr>\n",
       "    <tr>\n",
       "      <th>18</th>\n",
       "      <td>5.5</td>\n",
       "      <td>0.75</td>\n",
       "      <td>0.075</td>\n",
       "      <td>-1.392577</td>\n",
       "      <td>-5.887812</td>\n",
       "    </tr>\n",
       "    <tr>\n",
       "      <th>19</th>\n",
       "      <td>5.5</td>\n",
       "      <td>0.75</td>\n",
       "      <td>0.1</td>\n",
       "      <td>-1.402483</td>\n",
       "      <td>-5.922319</td>\n",
       "    </tr>\n",
       "    <tr>\n",
       "      <th>20</th>\n",
       "      <td>5.5</td>\n",
       "      <td>0.75</td>\n",
       "      <td>0.125</td>\n",
       "      <td>-1.414193</td>\n",
       "      <td>-5.955029</td>\n",
       "    </tr>\n",
       "    <tr>\n",
       "      <th>21</th>\n",
       "      <td>5.5</td>\n",
       "      <td>1</td>\n",
       "      <td>0.075</td>\n",
       "      <td>-1.470193</td>\n",
       "      <td>-5.870800</td>\n",
       "    </tr>\n",
       "    <tr>\n",
       "      <th>22</th>\n",
       "      <td>5.5</td>\n",
       "      <td>1</td>\n",
       "      <td>0.1</td>\n",
       "      <td>-1.472231</td>\n",
       "      <td>-5.892408</td>\n",
       "    </tr>\n",
       "    <tr>\n",
       "      <th>23</th>\n",
       "      <td>5.5</td>\n",
       "      <td>1</td>\n",
       "      <td>0.125</td>\n",
       "      <td>-1.482935</td>\n",
       "      <td>-5.929637</td>\n",
       "    </tr>\n",
       "    <tr>\n",
       "      <th>24</th>\n",
       "      <td>5.5</td>\n",
       "      <td>1.25</td>\n",
       "      <td>0.075</td>\n",
       "      <td>-1.556911</td>\n",
       "      <td>-5.885008</td>\n",
       "    </tr>\n",
       "    <tr>\n",
       "      <th>25</th>\n",
       "      <td>5.5</td>\n",
       "      <td>1.25</td>\n",
       "      <td>0.1</td>\n",
       "      <td>-1.559571</td>\n",
       "      <td>-5.909609</td>\n",
       "    </tr>\n",
       "    <tr>\n",
       "      <th>26</th>\n",
       "      <td>5.5</td>\n",
       "      <td>1.25</td>\n",
       "      <td>0.125</td>\n",
       "      <td>-1.569051</td>\n",
       "      <td>-5.953578</td>\n",
       "    </tr>\n",
       "  </tbody>\n",
       "</table>\n",
       "</div>"
      ],
      "text/plain": [
       "   param_C param_epsilon param_gamma  split0_test_neg_mean_absolute_error  \\\n",
       "0      4.5          0.75       0.075                            -1.391895   \n",
       "1      4.5          0.75         0.1                            -1.398726   \n",
       "2      4.5          0.75       0.125                            -1.408045   \n",
       "3      4.5             1       0.075                            -1.474941   \n",
       "4      4.5             1         0.1                            -1.475760   \n",
       "5      4.5             1       0.125                            -1.481240   \n",
       "6      4.5          1.25       0.075                            -1.564373   \n",
       "7      4.5          1.25         0.1                            -1.565384   \n",
       "8      4.5          1.25       0.125                            -1.571780   \n",
       "9        5          0.75       0.075                            -1.391906   \n",
       "10       5          0.75         0.1                            -1.400542   \n",
       "11       5          0.75       0.125                            -1.410677   \n",
       "12       5             1       0.075                            -1.472604   \n",
       "13       5             1         0.1                            -1.473743   \n",
       "14       5             1       0.125                            -1.481431   \n",
       "15       5          1.25       0.075                            -1.560561   \n",
       "16       5          1.25         0.1                            -1.562460   \n",
       "17       5          1.25       0.125                            -1.570566   \n",
       "18     5.5          0.75       0.075                            -1.392577   \n",
       "19     5.5          0.75         0.1                            -1.402483   \n",
       "20     5.5          0.75       0.125                            -1.414193   \n",
       "21     5.5             1       0.075                            -1.470193   \n",
       "22     5.5             1         0.1                            -1.472231   \n",
       "23     5.5             1       0.125                            -1.482935   \n",
       "24     5.5          1.25       0.075                            -1.556911   \n",
       "25     5.5          1.25         0.1                            -1.559571   \n",
       "26     5.5          1.25       0.125                            -1.569051   \n",
       "\n",
       "    split0_test_neg_mean_squared_error  \n",
       "0                            -5.891085  \n",
       "1                            -5.910031  \n",
       "2                            -5.934183  \n",
       "3                            -5.878072  \n",
       "4                            -5.889931  \n",
       "5                            -5.909532  \n",
       "6                            -5.900805  \n",
       "7                            -5.906666  \n",
       "8                            -5.933970  \n",
       "9                            -5.888238  \n",
       "10                           -5.915044  \n",
       "11                           -5.942407  \n",
       "12                           -5.872859  \n",
       "13                           -5.889723  \n",
       "14                           -5.917121  \n",
       "15                           -5.891000  \n",
       "16                           -5.906162  \n",
       "17                           -5.944905  \n",
       "18                           -5.887812  \n",
       "19                           -5.922319  \n",
       "20                           -5.955029  \n",
       "21                           -5.870800  \n",
       "22                           -5.892408  \n",
       "23                           -5.929637  \n",
       "24                           -5.885008  \n",
       "25                           -5.909609  \n",
       "26                           -5.953578  "
      ]
     },
     "execution_count": 89,
     "metadata": {},
     "output_type": "execute_result"
    }
   ],
   "source": [
    "pd.DataFrame(gs_model_rbf.cv_results_)[[\n",
    "    'param_C','param_epsilon','param_gamma',\n",
    "    'split0_test_neg_mean_absolute_error',\n",
    "    'split0_test_neg_mean_squared_error'\n",
    "]]"
   ]
  },
  {
   "cell_type": "code",
   "execution_count": 90,
   "metadata": {
    "ExecuteTime": {
     "end_time": "2019-07-10T11:22:50.724968Z",
     "start_time": "2019-07-10T11:22:50.681453Z"
    }
   },
   "outputs": [],
   "source": [
    "linear_C = [10, 15, 20]\n",
    "linear_epsilon = [0.65, 0.75, 0.85]\n",
    "\n",
    "linear_parameters = {\n",
    "    'C': linear_C,\n",
    "    'epsilon': linear_epsilon\n",
    "}"
   ]
  },
  {
   "cell_type": "code",
   "execution_count": 91,
   "metadata": {
    "ExecuteTime": {
     "end_time": "2019-07-10T11:45:55.253131Z",
     "start_time": "2019-07-10T11:22:50.729118Z"
    }
   },
   "outputs": [
    {
     "name": "stderr",
     "output_type": "stream",
     "text": [
      "[Parallel(n_jobs=1)]: Using backend SequentialBackend with 1 concurrent workers.\n"
     ]
    },
    {
     "name": "stdout",
     "output_type": "stream",
     "text": [
      "Fitting 1 folds for each of 9 candidates, totalling 9 fits\n"
     ]
    },
    {
     "name": "stderr",
     "output_type": "stream",
     "text": [
      "[Parallel(n_jobs=1)]: Done   9 out of   9 | elapsed: 23.1min finished\n"
     ]
    },
    {
     "data": {
      "text/plain": [
       "GridSearchCV(cv=PredefinedSplit(test_fold=array([-1, -1, ...,  0,  0])),\n",
       "             error_score=100,\n",
       "             estimator=SVR(C=1.0, cache_size=200, coef0=0.0, degree=3,\n",
       "                           epsilon=0.1, gamma='auto_deprecated',\n",
       "                           kernel='linear', max_iter=-1, shrinking=True,\n",
       "                           tol=0.001, verbose=False),\n",
       "             iid='warn', n_jobs=1,\n",
       "             param_grid={'C': [10, 15, 20], 'epsilon': [0.65, 0.75, 0.85]},\n",
       "             pre_dispatch='2*n_jobs', refit=False, return_train_score=False,\n",
       "             scoring=['neg_mean_absolute_error', 'neg_mean_squared_error'],\n",
       "             verbose=1)"
      ]
     },
     "execution_count": 91,
     "metadata": {},
     "output_type": "execute_result"
    }
   ],
   "source": [
    "gs_model_linear = GridSearchCV(\n",
    "    SVR(kernel='linear'),\n",
    "    linear_parameters,\n",
    "    scoring=['neg_mean_absolute_error', 'neg_mean_squared_error'],\n",
    "    refit=False,\n",
    "    cv=ps,\n",
    "    error_score=100, n_jobs=1, verbose=1)\n",
    "gs_model_linear.fit(X, y.ravel())"
   ]
  },
  {
   "cell_type": "code",
   "execution_count": 92,
   "metadata": {
    "ExecuteTime": {
     "end_time": "2019-07-10T11:45:55.284840Z",
     "start_time": "2019-07-10T11:45:55.258034Z"
    }
   },
   "outputs": [
    {
     "data": {
      "text/html": [
       "<div>\n",
       "<style scoped>\n",
       "    .dataframe tbody tr th:only-of-type {\n",
       "        vertical-align: middle;\n",
       "    }\n",
       "\n",
       "    .dataframe tbody tr th {\n",
       "        vertical-align: top;\n",
       "    }\n",
       "\n",
       "    .dataframe thead th {\n",
       "        text-align: right;\n",
       "    }\n",
       "</style>\n",
       "<table border=\"1\" class=\"dataframe\">\n",
       "  <thead>\n",
       "    <tr style=\"text-align: right;\">\n",
       "      <th></th>\n",
       "      <th>param_C</th>\n",
       "      <th>param_epsilon</th>\n",
       "      <th>split0_test_neg_mean_absolute_error</th>\n",
       "      <th>split0_test_neg_mean_squared_error</th>\n",
       "    </tr>\n",
       "  </thead>\n",
       "  <tbody>\n",
       "    <tr>\n",
       "      <th>0</th>\n",
       "      <td>10</td>\n",
       "      <td>0.65</td>\n",
       "      <td>-1.421759</td>\n",
       "      <td>-5.974157</td>\n",
       "    </tr>\n",
       "    <tr>\n",
       "      <th>1</th>\n",
       "      <td>10</td>\n",
       "      <td>0.75</td>\n",
       "      <td>-1.443970</td>\n",
       "      <td>-5.969011</td>\n",
       "    </tr>\n",
       "    <tr>\n",
       "      <th>2</th>\n",
       "      <td>10</td>\n",
       "      <td>0.85</td>\n",
       "      <td>-1.474931</td>\n",
       "      <td>-5.953235</td>\n",
       "    </tr>\n",
       "    <tr>\n",
       "      <th>3</th>\n",
       "      <td>15</td>\n",
       "      <td>0.65</td>\n",
       "      <td>-1.421744</td>\n",
       "      <td>-5.974215</td>\n",
       "    </tr>\n",
       "    <tr>\n",
       "      <th>4</th>\n",
       "      <td>15</td>\n",
       "      <td>0.75</td>\n",
       "      <td>-1.443935</td>\n",
       "      <td>-5.969038</td>\n",
       "    </tr>\n",
       "    <tr>\n",
       "      <th>5</th>\n",
       "      <td>15</td>\n",
       "      <td>0.85</td>\n",
       "      <td>-1.456420</td>\n",
       "      <td>-5.925539</td>\n",
       "    </tr>\n",
       "    <tr>\n",
       "      <th>6</th>\n",
       "      <td>20</td>\n",
       "      <td>0.65</td>\n",
       "      <td>-1.421732</td>\n",
       "      <td>-5.974005</td>\n",
       "    </tr>\n",
       "    <tr>\n",
       "      <th>7</th>\n",
       "      <td>20</td>\n",
       "      <td>0.75</td>\n",
       "      <td>-1.443965</td>\n",
       "      <td>-5.968894</td>\n",
       "    </tr>\n",
       "    <tr>\n",
       "      <th>8</th>\n",
       "      <td>20</td>\n",
       "      <td>0.85</td>\n",
       "      <td>-1.459330</td>\n",
       "      <td>-5.928819</td>\n",
       "    </tr>\n",
       "  </tbody>\n",
       "</table>\n",
       "</div>"
      ],
      "text/plain": [
       "  param_C param_epsilon  split0_test_neg_mean_absolute_error  \\\n",
       "0      10          0.65                            -1.421759   \n",
       "1      10          0.75                            -1.443970   \n",
       "2      10          0.85                            -1.474931   \n",
       "3      15          0.65                            -1.421744   \n",
       "4      15          0.75                            -1.443935   \n",
       "5      15          0.85                            -1.456420   \n",
       "6      20          0.65                            -1.421732   \n",
       "7      20          0.75                            -1.443965   \n",
       "8      20          0.85                            -1.459330   \n",
       "\n",
       "   split0_test_neg_mean_squared_error  \n",
       "0                           -5.974157  \n",
       "1                           -5.969011  \n",
       "2                           -5.953235  \n",
       "3                           -5.974215  \n",
       "4                           -5.969038  \n",
       "5                           -5.925539  \n",
       "6                           -5.974005  \n",
       "7                           -5.968894  \n",
       "8                           -5.928819  "
      ]
     },
     "execution_count": 92,
     "metadata": {},
     "output_type": "execute_result"
    }
   ],
   "source": [
    "pd.DataFrame(gs_model_linear.cv_results_)[[\n",
    "    'param_C','param_epsilon',\n",
    "    'split0_test_neg_mean_absolute_error',\n",
    "    'split0_test_neg_mean_squared_error'\n",
    "]]"
   ]
  },
  {
   "cell_type": "markdown",
   "metadata": {},
   "source": [
    "## Evaluating model"
   ]
  },
  {
   "cell_type": "code",
   "execution_count": 48,
   "metadata": {
    "ExecuteTime": {
     "end_time": "2019-07-10T10:33:56.993388Z",
     "start_time": "2019-07-10T10:33:32.262009Z"
    }
   },
   "outputs": [
    {
     "data": {
      "text/plain": [
       "SVR(C=3, cache_size=200, coef0=0.0, degree=3, epsilon=1, gamma=0.1,\n",
       "    kernel='rbf', max_iter=-1, shrinking=True, tol=0.001, verbose=False)"
      ]
     },
     "execution_count": 48,
     "metadata": {},
     "output_type": "execute_result"
    }
   ],
   "source": [
    "model = SVR(kernel='rbf', gamma=0.1, C=3, epsilon=1)\n",
    "model.fit(X_train, y_train.ravel())"
   ]
  },
  {
   "cell_type": "code",
   "execution_count": 49,
   "metadata": {
    "ExecuteTime": {
     "end_time": "2019-07-10T10:34:05.767391Z",
     "start_time": "2019-07-10T10:33:57.000678Z"
    }
   },
   "outputs": [
    {
     "data": {
      "text/plain": [
       "(1.4825890141854317, 5.912900997992636)"
      ]
     },
     "execution_count": 49,
     "metadata": {},
     "output_type": "execute_result"
    }
   ],
   "source": [
    "# get predictions for test set\n",
    "y_pred = model.predict(X_test).flatten()\n",
    "\n",
    "# calculate cross entropy loss for test set\n",
    "test_loss = (mean_absolute_error(y_test, y_pred), mean_squared_error(y_test, y_pred))\n",
    "test_loss"
   ]
  },
  {
   "cell_type": "code",
   "execution_count": null,
   "metadata": {
    "ExecuteTime": {
     "end_time": "2019-07-10T10:39:30.705171Z",
     "start_time": "2019-07-10T10:37:48.091Z"
    }
   },
   "outputs": [],
   "source": [
    "pd.Series(y_pred).describe()"
   ]
  },
  {
   "cell_type": "code",
   "execution_count": 52,
   "metadata": {
    "ExecuteTime": {
     "end_time": "2019-07-10T10:38:52.574885Z",
     "start_time": "2019-07-10T10:38:07.371537Z"
    }
   },
   "outputs": [
    {
     "data": {
      "text/plain": [
       "SVR(C=3, cache_size=200, coef0=0.0, degree=3, epsilon=1, gamma=0.1,\n",
       "    kernel='rbf', max_iter=-1, shrinking=True, tol=0.001, verbose=False)"
      ]
     },
     "execution_count": 52,
     "metadata": {},
     "output_type": "execute_result"
    }
   ],
   "source": [
    "# refit model on all data\n",
    "model_full = SVR(kernel='rbf', gamma=0.1, C=3, epsilon=1)\n",
    "model_full.fit(X, y.ravel())"
   ]
  },
  {
   "cell_type": "code",
   "execution_count": 53,
   "metadata": {
    "ExecuteTime": {
     "end_time": "2019-07-10T10:39:30.612333Z",
     "start_time": "2019-07-10T10:38:52.577353Z"
    }
   },
   "outputs": [
    {
     "data": {
      "text/plain": [
       "(1.2799846400708326, 4.467479442439563)"
      ]
     },
     "execution_count": 53,
     "metadata": {},
     "output_type": "execute_result"
    }
   ],
   "source": [
    "# get predictions for whole set\n",
    "y_pred_full = model_full.predict(X).flatten()\n",
    "\n",
    "# calculate cross entropy loss for test set\n",
    "test_loss_full = (mean_absolute_error(y, y_pred_full), mean_squared_error(y, y_pred_full))\n",
    "test_loss_full"
   ]
  },
  {
   "cell_type": "code",
   "execution_count": 54,
   "metadata": {
    "ExecuteTime": {
     "end_time": "2019-07-10T10:39:30.626074Z",
     "start_time": "2019-07-10T10:39:30.615623Z"
    }
   },
   "outputs": [
    {
     "data": {
      "text/plain": [
       "count    10961.000000\n",
       "mean         1.387047\n",
       "std          0.914710\n",
       "min         -0.376974\n",
       "25%          0.835177\n",
       "50%          1.000184\n",
       "75%          1.795558\n",
       "max          9.343333\n",
       "dtype: float64"
      ]
     },
     "execution_count": 54,
     "metadata": {},
     "output_type": "execute_result"
    }
   ],
   "source": [
    "pd.Series(y_pred_full).describe()"
   ]
  },
  {
   "cell_type": "code",
   "execution_count": 66,
   "metadata": {
    "ExecuteTime": {
     "end_time": "2019-07-10T10:55:07.120268Z",
     "start_time": "2019-07-10T10:55:07.096253Z"
    }
   },
   "outputs": [
    {
     "data": {
      "text/plain": [
       "count    10961.000000\n",
       "mean         1.279985\n",
       "std          1.682075\n",
       "min          0.000023\n",
       "25%          0.583660\n",
       "50%          0.889226\n",
       "75%          1.000266\n",
       "max         18.335771\n",
       "dtype: float64"
      ]
     },
     "execution_count": 66,
     "metadata": {},
     "output_type": "execute_result"
    }
   ],
   "source": [
    "abs(pd.Series(y.ravel()) - pd.Series(y_pred_full)).describe()"
   ]
  },
  {
   "cell_type": "code",
   "execution_count": 72,
   "metadata": {
    "ExecuteTime": {
     "end_time": "2019-07-10T10:57:14.191811Z",
     "start_time": "2019-07-10T10:57:13.684567Z"
    }
   },
   "outputs": [
    {
     "data": {
      "image/png": "[encoded data removed]",
      "text/plain": [
       "<Figure size 720x576 with 1 Axes>"
      ]
     },
     "metadata": {
      "needs_background": "light"
     },
     "output_type": "display_data"
    }
   ],
   "source": [
    "plt.figure(figsize=(10, 8))\n",
    "plt.hist(pd.Series(y.ravel()) - pd.Series(y_pred_full), bins=25, alpha=0.75)\n",
    "plt.hist(pd.Series(y.ravel()), bins=25, alpha=0.75)\n",
    "plt.show()"
   ]
  },
  {
   "cell_type": "code",
   "execution_count": 86,
   "metadata": {
    "ExecuteTime": {
     "end_time": "2019-07-10T11:02:47.093237Z",
     "start_time": "2019-07-10T11:02:46.443679Z"
    }
   },
   "outputs": [
    {
     "data": {
      "image/png": "[encoded data removed]",
      "text/plain": [
       "<Figure size 720x576 with 1 Axes>"
      ]
     },
     "metadata": {
      "needs_background": "light"
     },
     "output_type": "display_data"
    }
   ],
   "source": [
    "plt.figure(figsize=(10, 8))\n",
    "plt.scatter(pd.Series(y.ravel()), pd.Series(y_pred_full))\n",
    "plt.plot(np.linspace(-5, 25), np.linspace(-5, 25))\n",
    "plt.ylabel('Predicted total points')\n",
    "plt.xlabel('Observed total points')\n",
    "plt.ylim((-2, 10))\n",
    "plt.show()"
   ]
  }
 ],
 "metadata": {
  "kernelspec": {
   "display_name": "Python 3",
   "language": "python",
   "name": "python3"
  },
  "language_info": {
   "codemirror_mode": {
    "name": "ipython",
    "version": 3
   },
   "file_extension": ".py",
   "mimetype": "text/x-python",
   "name": "python",
   "nbconvert_exporter": "python",
   "pygments_lexer": "ipython3",
   "version": "3.6.7"
  },
  "toc": {
   "nav_menu": {},
   "number_sections": true,
   "sideBar": true,
   "skip_h1_title": false,
   "title_cell": "Table of Contents",
   "title_sidebar": "Contents",
   "toc_cell": false,
   "toc_position": {},
   "toc_section_display": true,
   "toc_window_display": false
  }
 },
 "nbformat": 4,
 "nbformat_minor": 2
}
