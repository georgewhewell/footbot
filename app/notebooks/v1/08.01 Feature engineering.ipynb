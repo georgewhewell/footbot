{
 "cells": [
  {
   "cell_type": "markdown",
   "metadata": {},
   "source": [
    "# Set up"
   ]
  },
  {
   "cell_type": "code",
   "execution_count": 16,
   "metadata": {
    "ExecuteTime": {
     "end_time": "2019-07-11T09:59:17.542101Z",
     "start_time": "2019-07-11T09:59:17.536122Z"
    }
   },
   "outputs": [],
   "source": [
    "# update path with data dir\n",
    "import sys\n",
    "sys.path.append('../../data/')"
   ]
  },
  {
   "cell_type": "code",
   "execution_count": 17,
   "metadata": {
    "ExecuteTime": {
     "end_time": "2019-07-11T09:59:17.942508Z",
     "start_time": "2019-07-11T09:59:17.937702Z"
    }
   },
   "outputs": [],
   "source": [
    "import pandas as pd\n",
    "import pandas_profiling"
   ]
  },
  {
   "cell_type": "markdown",
   "metadata": {},
   "source": [
    "# Getting data"
   ]
  },
  {
   "cell_type": "code",
   "execution_count": 18,
   "metadata": {
    "ExecuteTime": {
     "end_time": "2019-07-11T09:59:18.673257Z",
     "start_time": "2019-07-11T09:59:18.668264Z"
    }
   },
   "outputs": [],
   "source": [
    "# qubit-datateam.footbot.element_gameweek_features_v03\n",
    "file_name = '../csvs/element_gameweek_features_v03.csv'"
   ]
  },
  {
   "cell_type": "code",
   "execution_count": 19,
   "metadata": {
    "ExecuteTime": {
     "end_time": "2019-07-11T09:59:19.544874Z",
     "start_time": "2019-07-11T09:59:19.214361Z"
    }
   },
   "outputs": [],
   "source": [
    "element_gameweek_df = pd.read_csv(file_name)"
   ]
  },
  {
   "cell_type": "code",
   "execution_count": 20,
   "metadata": {
    "ExecuteTime": {
     "end_time": "2019-07-11T09:59:20.513309Z",
     "start_time": "2019-07-11T09:59:20.455267Z"
    }
   },
   "outputs": [
    {
     "data": {
      "text/html": [
       "<div>\n",
       "<style scoped>\n",
       "    .dataframe tbody tr th:only-of-type {\n",
       "        vertical-align: middle;\n",
       "    }\n",
       "\n",
       "    .dataframe tbody tr th {\n",
       "        vertical-align: top;\n",
       "    }\n",
       "\n",
       "    .dataframe thead th {\n",
       "        text-align: right;\n",
       "    }\n",
       "</style>\n",
       "<table border=\"1\" class=\"dataframe\">\n",
       "  <thead>\n",
       "    <tr style=\"text-align: right;\">\n",
       "      <th></th>\n",
       "      <th>safe_web_name</th>\n",
       "      <th>element</th>\n",
       "      <th>event</th>\n",
       "      <th>fixture</th>\n",
       "      <th>team</th>\n",
       "      <th>opposition_team</th>\n",
       "      <th>was_home</th>\n",
       "      <th>element_type</th>\n",
       "      <th>value</th>\n",
       "      <th>is_sunday</th>\n",
       "      <th>...</th>\n",
       "      <th>rolling_var_total_points_against_opposition_team_element_type</th>\n",
       "      <th>rolling_avg_total_points_home</th>\n",
       "      <th>rolling_var_total_points_home</th>\n",
       "      <th>rolling_avg_total_points_against_opposition_ground_element_type</th>\n",
       "      <th>rolling_var_total_points_against_opposition_ground_element_type</th>\n",
       "      <th>total_points</th>\n",
       "      <th>expected_avg_total_points_against_opposition_team</th>\n",
       "      <th>expected_var_total_points_against_opposition_team</th>\n",
       "      <th>expected_avg_total_points_at_ground</th>\n",
       "      <th>expected_var_total_points_at_ground</th>\n",
       "    </tr>\n",
       "  </thead>\n",
       "  <tbody>\n",
       "    <tr>\n",
       "      <th>0</th>\n",
       "      <td>cech</td>\n",
       "      <td>1</td>\n",
       "      <td>1</td>\n",
       "      <td>1</td>\n",
       "      <td>1</td>\n",
       "      <td>13</td>\n",
       "      <td>1</td>\n",
       "      <td>1</td>\n",
       "      <td>50</td>\n",
       "      <td>1</td>\n",
       "      <td>...</td>\n",
       "      <td>NaN</td>\n",
       "      <td>NaN</td>\n",
       "      <td>NaN</td>\n",
       "      <td>NaN</td>\n",
       "      <td>NaN</td>\n",
       "      <td>3</td>\n",
       "      <td>NaN</td>\n",
       "      <td>NaN</td>\n",
       "      <td>NaN</td>\n",
       "      <td>NaN</td>\n",
       "    </tr>\n",
       "    <tr>\n",
       "      <th>1</th>\n",
       "      <td>cech</td>\n",
       "      <td>1</td>\n",
       "      <td>2</td>\n",
       "      <td>14</td>\n",
       "      <td>1</td>\n",
       "      <td>6</td>\n",
       "      <td>0</td>\n",
       "      <td>1</td>\n",
       "      <td>50</td>\n",
       "      <td>0</td>\n",
       "      <td>...</td>\n",
       "      <td>NaN</td>\n",
       "      <td>NaN</td>\n",
       "      <td>NaN</td>\n",
       "      <td>NaN</td>\n",
       "      <td>NaN</td>\n",
       "      <td>3</td>\n",
       "      <td>0.681818</td>\n",
       "      <td>NaN</td>\n",
       "      <td>NaN</td>\n",
       "      <td>NaN</td>\n",
       "    </tr>\n",
       "    <tr>\n",
       "      <th>2</th>\n",
       "      <td>cech</td>\n",
       "      <td>1</td>\n",
       "      <td>3</td>\n",
       "      <td>21</td>\n",
       "      <td>1</td>\n",
       "      <td>19</td>\n",
       "      <td>1</td>\n",
       "      <td>1</td>\n",
       "      <td>50</td>\n",
       "      <td>0</td>\n",
       "      <td>...</td>\n",
       "      <td>8.0</td>\n",
       "      <td>3.0</td>\n",
       "      <td>NaN</td>\n",
       "      <td>NaN</td>\n",
       "      <td>NaN</td>\n",
       "      <td>3</td>\n",
       "      <td>3.750000</td>\n",
       "      <td>0.000000</td>\n",
       "      <td>3.000000</td>\n",
       "      <td>NaN</td>\n",
       "    </tr>\n",
       "    <tr>\n",
       "      <th>3</th>\n",
       "      <td>cech</td>\n",
       "      <td>1</td>\n",
       "      <td>4</td>\n",
       "      <td>33</td>\n",
       "      <td>1</td>\n",
       "      <td>5</td>\n",
       "      <td>0</td>\n",
       "      <td>1</td>\n",
       "      <td>50</td>\n",
       "      <td>1</td>\n",
       "      <td>...</td>\n",
       "      <td>11.0</td>\n",
       "      <td>3.0</td>\n",
       "      <td>NaN</td>\n",
       "      <td>6.0</td>\n",
       "      <td>NaN</td>\n",
       "      <td>1</td>\n",
       "      <td>4.493304</td>\n",
       "      <td>0.000000</td>\n",
       "      <td>4.901786</td>\n",
       "      <td>NaN</td>\n",
       "    </tr>\n",
       "    <tr>\n",
       "      <th>4</th>\n",
       "      <td>cech</td>\n",
       "      <td>1</td>\n",
       "      <td>5</td>\n",
       "      <td>46</td>\n",
       "      <td>1</td>\n",
       "      <td>15</td>\n",
       "      <td>0</td>\n",
       "      <td>1</td>\n",
       "      <td>50</td>\n",
       "      <td>0</td>\n",
       "      <td>...</td>\n",
       "      <td>49.0</td>\n",
       "      <td>3.0</td>\n",
       "      <td>0.0</td>\n",
       "      <td>2.0</td>\n",
       "      <td>0.0</td>\n",
       "      <td>2</td>\n",
       "      <td>3.663651</td>\n",
       "      <td>5.929855</td>\n",
       "      <td>1.332237</td>\n",
       "      <td>0.0</td>\n",
       "    </tr>\n",
       "  </tbody>\n",
       "</table>\n",
       "<p>5 rows × 58 columns</p>\n",
       "</div>"
      ],
      "text/plain": [
       "  safe_web_name  element  event  fixture  team  opposition_team  was_home  \\\n",
       "0          cech        1      1        1     1               13         1   \n",
       "1          cech        1      2       14     1                6         0   \n",
       "2          cech        1      3       21     1               19         1   \n",
       "3          cech        1      4       33     1                5         0   \n",
       "4          cech        1      5       46     1               15         0   \n",
       "\n",
       "   element_type  value  is_sunday                 ...                   \\\n",
       "0             1     50          1                 ...                    \n",
       "1             1     50          0                 ...                    \n",
       "2             1     50          0                 ...                    \n",
       "3             1     50          1                 ...                    \n",
       "4             1     50          0                 ...                    \n",
       "\n",
       "   rolling_var_total_points_against_opposition_team_element_type  \\\n",
       "0                                                NaN               \n",
       "1                                                NaN               \n",
       "2                                                8.0               \n",
       "3                                               11.0               \n",
       "4                                               49.0               \n",
       "\n",
       "   rolling_avg_total_points_home  rolling_var_total_points_home  \\\n",
       "0                            NaN                            NaN   \n",
       "1                            NaN                            NaN   \n",
       "2                            3.0                            NaN   \n",
       "3                            3.0                            NaN   \n",
       "4                            3.0                            0.0   \n",
       "\n",
       "   rolling_avg_total_points_against_opposition_ground_element_type  \\\n",
       "0                                                NaN                 \n",
       "1                                                NaN                 \n",
       "2                                                NaN                 \n",
       "3                                                6.0                 \n",
       "4                                                2.0                 \n",
       "\n",
       "   rolling_var_total_points_against_opposition_ground_element_type  \\\n",
       "0                                                NaN                 \n",
       "1                                                NaN                 \n",
       "2                                                NaN                 \n",
       "3                                                NaN                 \n",
       "4                                                0.0                 \n",
       "\n",
       "   total_points  expected_avg_total_points_against_opposition_team  \\\n",
       "0             3                                                NaN   \n",
       "1             3                                           0.681818   \n",
       "2             3                                           3.750000   \n",
       "3             1                                           4.493304   \n",
       "4             2                                           3.663651   \n",
       "\n",
       "   expected_var_total_points_against_opposition_team  \\\n",
       "0                                                NaN   \n",
       "1                                                NaN   \n",
       "2                                           0.000000   \n",
       "3                                           0.000000   \n",
       "4                                           5.929855   \n",
       "\n",
       "   expected_avg_total_points_at_ground  expected_var_total_points_at_ground  \n",
       "0                                  NaN                                  NaN  \n",
       "1                                  NaN                                  NaN  \n",
       "2                             3.000000                                  NaN  \n",
       "3                             4.901786                                  NaN  \n",
       "4                             1.332237                                  0.0  \n",
       "\n",
       "[5 rows x 58 columns]"
      ]
     },
     "execution_count": 20,
     "metadata": {},
     "output_type": "execute_result"
    }
   ],
   "source": [
    "element_gameweek_df.head()"
   ]
  },
  {
   "cell_type": "code",
   "execution_count": 21,
   "metadata": {
    "ExecuteTime": {
     "end_time": "2019-07-11T09:59:22.374512Z",
     "start_time": "2019-07-11T09:59:22.272355Z"
    }
   },
   "outputs": [
    {
     "data": {
      "text/plain": [
       "total_points                                                       1.000000\n",
       "rolling_avg_minutes_element_p3                                     0.461777\n",
       "rolling_avg_total_points_element                                   0.454141\n",
       "expected_avg_total_points_against_opposition_team                  0.443384\n",
       "rolling_avg_minutes_element                                        0.437662\n",
       "rolling_avg_bps_element                                            0.437398\n",
       "expected_avg_total_points_at_ground                                0.407254\n",
       "rolling_max_total_points_element                                   0.391071\n",
       "rolling_avg_clean_sheets_element                                   0.369227\n",
       "rolling_avg_recoveries_element                                     0.364394\n",
       "rolling_avg_completed_passes_element                               0.349418\n",
       "rolling_var_total_points_element                                   0.348715\n",
       "rolling_avg_key_passes_element                                     0.346749\n",
       "expected_var_total_points_against_opposition_team                  0.337333\n",
       "rolling_avg_target_missed_element                                  0.325731\n",
       "rolling_avg_bonus_element                                          0.322871\n",
       "rolling_avg_tackled_element                                        0.321787\n",
       "rolling_avg_goals_conceded_element                                 0.314359\n",
       "value                                                              0.314079\n",
       "rolling_avg_dribbles_element                                       0.302146\n",
       "rolling_avg_goals_scored_element                                   0.290687\n",
       "rolling_avg_fouls_element                                          0.282760\n",
       "expected_var_total_points_at_ground                                0.276439\n",
       "rolling_avg_assists_element                                        0.268152\n",
       "rolling_avg_big_chances_created_element                            0.267718\n",
       "rolling_avg_big_chances_missed_element                             0.249129\n",
       "rolling_avg_tackles_element                                        0.248656\n",
       "rolling_avg_offside_element                                        0.235366\n",
       "rolling_avg_total_points_home                                      0.216211\n",
       "rolling_avg_winning_goals_element                                  0.212320\n",
       "rolling_avg_clearances_blocks_interceptions_element                0.208392\n",
       "rolling_avg_open_play_crosses_element                              0.202412\n",
       "rolling_var_total_points_home                                      0.152688\n",
       "rolling_avg_saves_element                                          0.112704\n",
       "rolling_avg_total_points_own_team                                  0.097331\n",
       "rolling_var_total_points_own_team                                  0.085379\n",
       "rolling_avg_total_points_against_opposition_team                   0.076210\n",
       "rolling_var_total_points_against_opposition_team                   0.070668\n",
       "rolling_avg_total_points_against_opposition_ground_element_type    0.049259\n",
       "rolling_avg_total_points_against_opposition_team_element_type      0.048963\n",
       "element_type                                                       0.047665\n",
       "was_home                                                           0.037973\n",
       "rolling_var_total_points_against_opposition_team_element_type      0.037217\n",
       "rolling_var_total_points_against_opposition_ground_element_type    0.024905\n",
       "team                                                               0.006718\n",
       "is_sunday                                                          0.003653\n",
       "is_early                                                           0.001547\n",
       "is_weekday                                                        -0.009352\n",
       "is_late                                                           -0.011894\n",
       "opposition_team                                                   -0.015782\n",
       "rolling_var_total_points_element_type                             -0.019487\n",
       "event                                                             -0.027998\n",
       "fixture                                                           -0.028127\n",
       "rolling_avg_total_points_element_type                             -0.035864\n",
       "rolling_var_total_points_opposition_team                          -0.071749\n",
       "element                                                           -0.073612\n",
       "rolling_avg_total_points_opposition_team                          -0.074170\n",
       "dtype: float64"
      ]
     },
     "execution_count": 21,
     "metadata": {},
     "output_type": "execute_result"
    }
   ],
   "source": [
    "element_gameweek_df.corrwith(element_gameweek_df['total_points']).sort_values(ascending=False)"
   ]
  },
  {
   "cell_type": "code",
   "execution_count": 22,
   "metadata": {
    "ExecuteTime": {
     "end_time": "2019-07-11T09:59:25.485969Z",
     "start_time": "2019-07-11T09:59:25.472649Z"
    }
   },
   "outputs": [],
   "source": [
    "frequent_element_gameweek_df = element_gameweek_df[element_gameweek_df['rolling_avg_minutes_element_p3'] >= 60]"
   ]
  },
  {
   "cell_type": "code",
   "execution_count": 23,
   "metadata": {
    "ExecuteTime": {
     "end_time": "2019-07-11T09:59:26.506115Z",
     "start_time": "2019-07-11T09:59:26.445297Z"
    }
   },
   "outputs": [
    {
     "data": {
      "text/plain": [
       "total_points                                                       1.000000\n",
       "value                                                              0.239904\n",
       "expected_avg_total_points_at_ground                                0.225683\n",
       "expected_avg_total_points_against_opposition_team                  0.223622\n",
       "rolling_avg_total_points_element                                   0.214707\n",
       "rolling_avg_total_points_home                                      0.185877\n",
       "rolling_max_total_points_element                                   0.176149\n",
       "expected_var_total_points_against_opposition_team                  0.167856\n",
       "rolling_avg_goals_scored_element                                   0.167319\n",
       "rolling_avg_bps_element                                            0.159208\n",
       "rolling_avg_big_chances_missed_element                             0.158263\n",
       "rolling_avg_bonus_element                                          0.152752\n",
       "rolling_avg_key_passes_element                                     0.151542\n",
       "expected_var_total_points_at_ground                                0.149382\n",
       "rolling_var_total_points_element                                   0.147963\n",
       "rolling_var_total_points_home                                      0.141104\n",
       "rolling_avg_total_points_own_team                                  0.134397\n",
       "rolling_avg_assists_element                                        0.133384\n",
       "rolling_avg_tackled_element                                        0.131423\n",
       "rolling_avg_total_points_against_opposition_ground_element_type    0.131361\n",
       "rolling_avg_big_chances_created_element                            0.130849\n",
       "rolling_avg_target_missed_element                                  0.130295\n",
       "rolling_avg_offside_element                                        0.129970\n",
       "rolling_avg_clean_sheets_element                                   0.124546\n",
       "rolling_avg_dribbles_element                                       0.121758\n",
       "rolling_avg_winning_goals_element                                  0.121625\n",
       "rolling_var_total_points_own_team                                  0.118203\n",
       "rolling_avg_minutes_element                                        0.116887\n",
       "rolling_avg_total_points_against_opposition_team                   0.116513\n",
       "rolling_avg_total_points_against_opposition_team_element_type      0.110014\n",
       "rolling_var_total_points_against_opposition_team                   0.108822\n",
       "rolling_avg_minutes_element_p3                                     0.096982\n",
       "rolling_var_total_points_against_opposition_team_element_type      0.068903\n",
       "was_home                                                           0.064385\n",
       "element_type                                                       0.061150\n",
       "rolling_var_total_points_against_opposition_ground_element_type    0.059362\n",
       "rolling_avg_saves_element                                          0.044099\n",
       "rolling_avg_completed_passes_element                               0.044065\n",
       "rolling_avg_total_points_element_type                              0.039953\n",
       "rolling_avg_open_play_crosses_element                              0.039865\n",
       "rolling_avg_recoveries_element                                     0.028199\n",
       "team                                                               0.019462\n",
       "rolling_avg_fouls_element                                          0.003787\n",
       "is_sunday                                                         -0.000460\n",
       "event                                                             -0.000952\n",
       "element                                                           -0.001225\n",
       "fixture                                                           -0.001424\n",
       "is_early                                                          -0.003379\n",
       "is_late                                                           -0.021344\n",
       "is_weekday                                                        -0.021611\n",
       "rolling_avg_tackles_element                                       -0.023574\n",
       "opposition_team                                                   -0.025214\n",
       "rolling_var_total_points_element_type                             -0.025900\n",
       "rolling_avg_goals_conceded_element                                -0.033806\n",
       "rolling_avg_clearances_blocks_interceptions_element               -0.086114\n",
       "rolling_var_total_points_opposition_team                          -0.110044\n",
       "rolling_avg_total_points_opposition_team                          -0.119178\n",
       "dtype: float64"
      ]
     },
     "execution_count": 23,
     "metadata": {},
     "output_type": "execute_result"
    }
   ],
   "source": [
    "frequent_element_gameweek_df.corrwith(frequent_element_gameweek_df['total_points']).sort_values(ascending=False)"
   ]
  },
  {
   "cell_type": "code",
   "execution_count": 24,
   "metadata": {
    "ExecuteTime": {
     "end_time": "2019-07-11T10:02:46.621351Z",
     "start_time": "2019-07-11T10:02:38.800049Z"
    }
   },
   "outputs": [],
   "source": [
    "pandas_profiling.ProfileReport(frequent_element_gameweek_df[\n",
    "    [i for i in frequent_element_gameweek_df.columns if i not in \n",
    "    [\n",
    "        'element',\n",
    "        'safe_web_name',\n",
    "        'index',\n",
    "        'event',\n",
    "        'fixture',\n",
    "        'team',\n",
    "        'opposition_team',\n",
    "        'rolling_avg_attempted_passes_element',\n",
    "        'rolling_var_total_points_against_opposition_team',\n",
    "        'rolling_var_total_points_own_team',\n",
    "        'rolling_var_total_points_opposition_team',\n",
    "        'rolling_avg_total_points_home',\n",
    "        'rolling_var_total_points_home',\n",
    "        'rolling_avg_total_points_against_opposition_ground_element_type',\n",
    "        'rolling_var_total_points_against_opposition_ground_element_type'\n",
    "        \n",
    "    ]]\n",
    "])"
   ]
  },
  {
   "cell_type": "code",
   "execution_count": null,
   "metadata": {},
   "outputs": [],
   "source": []
  }
 ],
 "metadata": {
  "kernelspec": {
   "display_name": "Python 3",
   "language": "python",
   "name": "python3"
  },
  "language_info": {
   "codemirror_mode": {
    "name": "ipython",
    "version": 3
   },
   "file_extension": ".py",
   "mimetype": "text/x-python",
   "name": "python",
   "nbconvert_exporter": "python",
   "pygments_lexer": "ipython3",
   "version": "3.6.7"
  },
  "toc": {
   "nav_menu": {},
   "number_sections": true,
   "sideBar": true,
   "skip_h1_title": false,
   "title_cell": "Table of Contents",
   "title_sidebar": "Contents",
   "toc_cell": false,
   "toc_position": {},
   "toc_section_display": true,
   "toc_window_display": false
  }
 },
 "nbformat": 4,
 "nbformat_minor": 2
}
