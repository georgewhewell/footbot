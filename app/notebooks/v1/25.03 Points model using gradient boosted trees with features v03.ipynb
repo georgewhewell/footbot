{
 "cells": [
  {
   "cell_type": "markdown",
   "metadata": {},
   "source": [
    "# Set up"
   ]
  },
  {
   "cell_type": "code",
   "execution_count": 1,
   "metadata": {
    "ExecuteTime": {
     "end_time": "2019-07-11T13:36:04.558525Z",
     "start_time": "2019-07-11T13:36:04.552840Z"
    }
   },
   "outputs": [],
   "source": [
    "# update path with data dir\n",
    "import sys\n",
    "sys.path.append('../../data/')"
   ]
  },
  {
   "cell_type": "code",
   "execution_count": 2,
   "metadata": {
    "ExecuteTime": {
     "end_time": "2019-07-11T13:36:04.913538Z",
     "start_time": "2019-07-11T13:36:04.909104Z"
    }
   },
   "outputs": [],
   "source": [
    "import warnings\n",
    "# warnings.filterwarnings('ignore')"
   ]
  },
  {
   "cell_type": "code",
   "execution_count": 48,
   "metadata": {
    "ExecuteTime": {
     "end_time": "2019-07-11T15:14:38.091088Z",
     "start_time": "2019-07-11T15:14:38.081165Z"
    }
   },
   "outputs": [],
   "source": [
    "import pandas as pd\n",
    "import patsy\n",
    "import numpy as np\n",
    "from sklearn.ensemble import GradientBoostingRegressor\n",
    "from sklearn.preprocessing import StandardScaler\n",
    "from sklearn.model_selection import PredefinedSplit, GridSearchCV, cross_val_score\n",
    "from skopt.space import Real, Integer\n",
    "from skopt.utils import use_named_args\n",
    "from skopt import gp_minimize\n",
    "from sklearn.metrics import mean_absolute_error, mean_squared_error\n",
    "import matplotlib.pyplot as plt"
   ]
  },
  {
   "cell_type": "markdown",
   "metadata": {},
   "source": [
    "# Getting data"
   ]
  },
  {
   "cell_type": "code",
   "execution_count": 4,
   "metadata": {
    "ExecuteTime": {
     "end_time": "2019-07-11T13:36:06.406828Z",
     "start_time": "2019-07-11T13:36:06.403902Z"
    }
   },
   "outputs": [],
   "source": [
    "file_name = '../csvs/element_gameweek_features_v03.csv'"
   ]
  },
  {
   "cell_type": "code",
   "execution_count": 5,
   "metadata": {
    "ExecuteTime": {
     "end_time": "2019-07-11T13:36:07.651232Z",
     "start_time": "2019-07-11T13:36:07.317355Z"
    }
   },
   "outputs": [],
   "source": [
    "element_gameweek_df = pd.read_csv(file_name)"
   ]
  },
  {
   "cell_type": "code",
   "execution_count": 6,
   "metadata": {
    "ExecuteTime": {
     "end_time": "2019-07-11T13:36:08.362787Z",
     "start_time": "2019-07-11T13:36:08.357173Z"
    }
   },
   "outputs": [],
   "source": [
    "current_event = 20"
   ]
  },
  {
   "cell_type": "code",
   "execution_count": 7,
   "metadata": {
    "ExecuteTime": {
     "end_time": "2019-07-11T13:36:09.185749Z",
     "start_time": "2019-07-11T13:36:09.172115Z"
    }
   },
   "outputs": [],
   "source": [
    "element_gameweek_df =\\\n",
    "element_gameweek_df[\n",
    "    (element_gameweek_df['event'] <= current_event)\n",
    "]"
   ]
  },
  {
   "cell_type": "code",
   "execution_count": 8,
   "metadata": {
    "ExecuteTime": {
     "end_time": "2019-07-11T13:36:09.722327Z",
     "start_time": "2019-07-11T13:36:09.651183Z"
    }
   },
   "outputs": [],
   "source": [
    "element_gameweek_df.fillna(0, inplace=True)"
   ]
  },
  {
   "cell_type": "code",
   "execution_count": 9,
   "metadata": {
    "ExecuteTime": {
     "end_time": "2019-07-11T13:36:10.429166Z",
     "start_time": "2019-07-11T13:36:10.370236Z"
    }
   },
   "outputs": [
    {
     "data": {
      "text/html": [
       "<div>\n",
       "<style scoped>\n",
       "    .dataframe tbody tr th:only-of-type {\n",
       "        vertical-align: middle;\n",
       "    }\n",
       "\n",
       "    .dataframe tbody tr th {\n",
       "        vertical-align: top;\n",
       "    }\n",
       "\n",
       "    .dataframe thead th {\n",
       "        text-align: right;\n",
       "    }\n",
       "</style>\n",
       "<table border=\"1\" class=\"dataframe\">\n",
       "  <thead>\n",
       "    <tr style=\"text-align: right;\">\n",
       "      <th></th>\n",
       "      <th>safe_web_name</th>\n",
       "      <th>element</th>\n",
       "      <th>event</th>\n",
       "      <th>fixture</th>\n",
       "      <th>team</th>\n",
       "      <th>opposition_team</th>\n",
       "      <th>was_home</th>\n",
       "      <th>element_type</th>\n",
       "      <th>value</th>\n",
       "      <th>is_sunday</th>\n",
       "      <th>...</th>\n",
       "      <th>rolling_var_total_points_against_opposition_team_element_type</th>\n",
       "      <th>rolling_avg_total_points_home</th>\n",
       "      <th>rolling_var_total_points_home</th>\n",
       "      <th>rolling_avg_total_points_against_opposition_ground_element_type</th>\n",
       "      <th>rolling_var_total_points_against_opposition_ground_element_type</th>\n",
       "      <th>total_points</th>\n",
       "      <th>expected_avg_total_points_against_opposition_team</th>\n",
       "      <th>expected_var_total_points_against_opposition_team</th>\n",
       "      <th>expected_avg_total_points_at_ground</th>\n",
       "      <th>expected_var_total_points_at_ground</th>\n",
       "    </tr>\n",
       "  </thead>\n",
       "  <tbody>\n",
       "    <tr>\n",
       "      <th>0</th>\n",
       "      <td>cech</td>\n",
       "      <td>1</td>\n",
       "      <td>1</td>\n",
       "      <td>1</td>\n",
       "      <td>1</td>\n",
       "      <td>13</td>\n",
       "      <td>1</td>\n",
       "      <td>1</td>\n",
       "      <td>50</td>\n",
       "      <td>1</td>\n",
       "      <td>...</td>\n",
       "      <td>0.0</td>\n",
       "      <td>0.0</td>\n",
       "      <td>0.0</td>\n",
       "      <td>0.0</td>\n",
       "      <td>0.0</td>\n",
       "      <td>3</td>\n",
       "      <td>0.000000</td>\n",
       "      <td>0.000000</td>\n",
       "      <td>0.000000</td>\n",
       "      <td>0.0</td>\n",
       "    </tr>\n",
       "    <tr>\n",
       "      <th>1</th>\n",
       "      <td>cech</td>\n",
       "      <td>1</td>\n",
       "      <td>2</td>\n",
       "      <td>14</td>\n",
       "      <td>1</td>\n",
       "      <td>6</td>\n",
       "      <td>0</td>\n",
       "      <td>1</td>\n",
       "      <td>50</td>\n",
       "      <td>0</td>\n",
       "      <td>...</td>\n",
       "      <td>0.0</td>\n",
       "      <td>0.0</td>\n",
       "      <td>0.0</td>\n",
       "      <td>0.0</td>\n",
       "      <td>0.0</td>\n",
       "      <td>3</td>\n",
       "      <td>0.681818</td>\n",
       "      <td>0.000000</td>\n",
       "      <td>0.000000</td>\n",
       "      <td>0.0</td>\n",
       "    </tr>\n",
       "    <tr>\n",
       "      <th>2</th>\n",
       "      <td>cech</td>\n",
       "      <td>1</td>\n",
       "      <td>3</td>\n",
       "      <td>21</td>\n",
       "      <td>1</td>\n",
       "      <td>19</td>\n",
       "      <td>1</td>\n",
       "      <td>1</td>\n",
       "      <td>50</td>\n",
       "      <td>0</td>\n",
       "      <td>...</td>\n",
       "      <td>8.0</td>\n",
       "      <td>3.0</td>\n",
       "      <td>0.0</td>\n",
       "      <td>0.0</td>\n",
       "      <td>0.0</td>\n",
       "      <td>3</td>\n",
       "      <td>3.750000</td>\n",
       "      <td>0.000000</td>\n",
       "      <td>3.000000</td>\n",
       "      <td>0.0</td>\n",
       "    </tr>\n",
       "    <tr>\n",
       "      <th>3</th>\n",
       "      <td>cech</td>\n",
       "      <td>1</td>\n",
       "      <td>4</td>\n",
       "      <td>33</td>\n",
       "      <td>1</td>\n",
       "      <td>5</td>\n",
       "      <td>0</td>\n",
       "      <td>1</td>\n",
       "      <td>50</td>\n",
       "      <td>1</td>\n",
       "      <td>...</td>\n",
       "      <td>11.0</td>\n",
       "      <td>3.0</td>\n",
       "      <td>0.0</td>\n",
       "      <td>6.0</td>\n",
       "      <td>0.0</td>\n",
       "      <td>1</td>\n",
       "      <td>4.493304</td>\n",
       "      <td>0.000000</td>\n",
       "      <td>4.901786</td>\n",
       "      <td>0.0</td>\n",
       "    </tr>\n",
       "    <tr>\n",
       "      <th>4</th>\n",
       "      <td>cech</td>\n",
       "      <td>1</td>\n",
       "      <td>5</td>\n",
       "      <td>46</td>\n",
       "      <td>1</td>\n",
       "      <td>15</td>\n",
       "      <td>0</td>\n",
       "      <td>1</td>\n",
       "      <td>50</td>\n",
       "      <td>0</td>\n",
       "      <td>...</td>\n",
       "      <td>49.0</td>\n",
       "      <td>3.0</td>\n",
       "      <td>0.0</td>\n",
       "      <td>2.0</td>\n",
       "      <td>0.0</td>\n",
       "      <td>2</td>\n",
       "      <td>3.663651</td>\n",
       "      <td>5.929855</td>\n",
       "      <td>1.332237</td>\n",
       "      <td>0.0</td>\n",
       "    </tr>\n",
       "  </tbody>\n",
       "</table>\n",
       "<p>5 rows × 58 columns</p>\n",
       "</div>"
      ],
      "text/plain": [
       "  safe_web_name  element  event  fixture  team  opposition_team  was_home  \\\n",
       "0          cech        1      1        1     1               13         1   \n",
       "1          cech        1      2       14     1                6         0   \n",
       "2          cech        1      3       21     1               19         1   \n",
       "3          cech        1      4       33     1                5         0   \n",
       "4          cech        1      5       46     1               15         0   \n",
       "\n",
       "   element_type  value  is_sunday                 ...                   \\\n",
       "0             1     50          1                 ...                    \n",
       "1             1     50          0                 ...                    \n",
       "2             1     50          0                 ...                    \n",
       "3             1     50          1                 ...                    \n",
       "4             1     50          0                 ...                    \n",
       "\n",
       "   rolling_var_total_points_against_opposition_team_element_type  \\\n",
       "0                                                0.0               \n",
       "1                                                0.0               \n",
       "2                                                8.0               \n",
       "3                                               11.0               \n",
       "4                                               49.0               \n",
       "\n",
       "   rolling_avg_total_points_home  rolling_var_total_points_home  \\\n",
       "0                            0.0                            0.0   \n",
       "1                            0.0                            0.0   \n",
       "2                            3.0                            0.0   \n",
       "3                            3.0                            0.0   \n",
       "4                            3.0                            0.0   \n",
       "\n",
       "   rolling_avg_total_points_against_opposition_ground_element_type  \\\n",
       "0                                                0.0                 \n",
       "1                                                0.0                 \n",
       "2                                                0.0                 \n",
       "3                                                6.0                 \n",
       "4                                                2.0                 \n",
       "\n",
       "   rolling_var_total_points_against_opposition_ground_element_type  \\\n",
       "0                                                0.0                 \n",
       "1                                                0.0                 \n",
       "2                                                0.0                 \n",
       "3                                                0.0                 \n",
       "4                                                0.0                 \n",
       "\n",
       "   total_points  expected_avg_total_points_against_opposition_team  \\\n",
       "0             3                                           0.000000   \n",
       "1             3                                           0.681818   \n",
       "2             3                                           3.750000   \n",
       "3             1                                           4.493304   \n",
       "4             2                                           3.663651   \n",
       "\n",
       "   expected_var_total_points_against_opposition_team  \\\n",
       "0                                           0.000000   \n",
       "1                                           0.000000   \n",
       "2                                           0.000000   \n",
       "3                                           0.000000   \n",
       "4                                           5.929855   \n",
       "\n",
       "   expected_avg_total_points_at_ground  expected_var_total_points_at_ground  \n",
       "0                             0.000000                                  0.0  \n",
       "1                             0.000000                                  0.0  \n",
       "2                             3.000000                                  0.0  \n",
       "3                             4.901786                                  0.0  \n",
       "4                             1.332237                                  0.0  \n",
       "\n",
       "[5 rows x 58 columns]"
      ]
     },
     "execution_count": 9,
     "metadata": {},
     "output_type": "execute_result"
    }
   ],
   "source": [
    "element_gameweek_df.head()"
   ]
  },
  {
   "cell_type": "code",
   "execution_count": 10,
   "metadata": {
    "ExecuteTime": {
     "end_time": "2019-07-11T13:36:11.867218Z",
     "start_time": "2019-07-11T13:36:11.857772Z"
    }
   },
   "outputs": [],
   "source": [
    "element_gameweek_df = element_gameweek_df[element_gameweek_df['rolling_avg_minutes_element_p3'] >= 60]"
   ]
  },
  {
   "cell_type": "markdown",
   "metadata": {},
   "source": [
    "# Modelling data"
   ]
  },
  {
   "cell_type": "markdown",
   "metadata": {},
   "source": [
    "## Splitting data"
   ]
  },
  {
   "cell_type": "code",
   "execution_count": 11,
   "metadata": {
    "ExecuteTime": {
     "end_time": "2019-07-11T13:36:14.996593Z",
     "start_time": "2019-07-11T13:36:14.991823Z"
    }
   },
   "outputs": [],
   "source": [
    "last_train_event = 15"
   ]
  },
  {
   "cell_type": "code",
   "execution_count": 12,
   "metadata": {
    "ExecuteTime": {
     "end_time": "2019-07-11T13:36:15.453521Z",
     "start_time": "2019-07-11T13:36:15.445192Z"
    }
   },
   "outputs": [],
   "source": [
    "test_fold = [-1 if i <= last_train_event else 0 for i in element_gameweek_df['event']]\n",
    "ps = PredefinedSplit(test_fold)"
   ]
  },
  {
   "cell_type": "code",
   "execution_count": 13,
   "metadata": {
    "ExecuteTime": {
     "end_time": "2019-07-11T13:36:16.017531Z",
     "start_time": "2019-07-11T13:36:16.008081Z"
    }
   },
   "outputs": [],
   "source": [
    "for train_index, test_index in ps.split():\n",
    "    element_gameweek_df_train, element_gameweek_df_test = \\\n",
    "    element_gameweek_df.copy().iloc[train_index], element_gameweek_df.copy().iloc[test_index]"
   ]
  },
  {
   "cell_type": "markdown",
   "metadata": {},
   "source": [
    "## Building model"
   ]
  },
  {
   "cell_type": "code",
   "execution_count": 14,
   "metadata": {
    "ExecuteTime": {
     "end_time": "2019-07-11T13:36:17.405028Z",
     "start_time": "2019-07-11T13:36:17.395710Z"
    }
   },
   "outputs": [],
   "source": [
    "formula = \\\n",
    "'total_points ~ C(element) + C(element_type) + C(team) + C(opposition_team) + ' + \\\n",
    "' + '.join([i for i in element_gameweek_df.columns if i not in\n",
    " [\n",
    "     'safe_web_name',\n",
    "     'element',\n",
    "     'event',\n",
    "     'fixture',\n",
    "     'team',\n",
    "     'opposition_team',\n",
    "     'element_type',\n",
    "     'rolling_avg_attempted_passes_element',\n",
    "     'rolling_var_total_points_against_opposition_team',\n",
    "     'rolling_var_total_points_own_team',\n",
    "     'rolling_var_total_points_opposition_team',\n",
    "     'rolling_var_total_points_element_type',\n",
    "     'rolling_var_total_points_against_opposition_team_element_type',\n",
    "     'expected_var_total_points_against_opposition_team',\n",
    "     'expected_var_total_points_at_ground',\n",
    "     'rolling_avg_total_points_home',\n",
    "     'rolling_var_total_points_home',\n",
    "     'rolling_avg_total_points_against_opposition_ground_element_type',\n",
    "     'rolling_var_total_points_against_opposition_ground_element_type',\n",
    "     'total_points'\n",
    " ]])"
   ]
  },
  {
   "cell_type": "code",
   "execution_count": 15,
   "metadata": {
    "ExecuteTime": {
     "end_time": "2019-07-11T13:36:22.417346Z",
     "start_time": "2019-07-11T13:36:22.410161Z"
    }
   },
   "outputs": [
    {
     "name": "stdout",
     "output_type": "stream",
     "text": [
      "total_points ~ C(element) + C(element_type) + C(team) + C(opposition_team) + was_home + value + is_sunday + is_weekday + is_late + is_early + rolling_avg_total_points_element + rolling_var_total_points_element + rolling_max_total_points_element + rolling_avg_minutes_element_p3 + rolling_avg_bps_element + rolling_avg_bonus_element + rolling_avg_goals_scored_element + rolling_avg_minutes_element + rolling_avg_clean_sheets_element + rolling_avg_completed_passes_element + rolling_avg_recoveries_element + rolling_avg_assists_element + rolling_avg_key_passes_element + rolling_avg_winning_goals_element + rolling_avg_tackled_element + rolling_avg_dribbles_element + rolling_avg_clearances_blocks_interceptions_element + rolling_avg_big_chances_created_element + rolling_avg_target_missed_element + rolling_avg_fouls_element + rolling_avg_tackles_element + rolling_avg_open_play_crosses_element + rolling_avg_offside_element + rolling_avg_big_chances_missed_element + rolling_avg_saves_element + rolling_avg_goals_conceded_element + rolling_avg_total_points_element_type + rolling_avg_total_points_own_team + rolling_avg_total_points_opposition_team + rolling_avg_total_points_against_opposition_team + rolling_avg_total_points_against_opposition_team_element_type + expected_avg_total_points_against_opposition_team + expected_avg_total_points_at_ground\n"
     ]
    }
   ],
   "source": [
    "print(formula)"
   ]
  },
  {
   "cell_type": "code",
   "execution_count": 16,
   "metadata": {
    "ExecuteTime": {
     "end_time": "2019-07-11T13:36:23.989158Z",
     "start_time": "2019-07-11T13:36:23.712789Z"
    }
   },
   "outputs": [],
   "source": [
    "y, X = patsy.dmatrices(formula, element_gameweek_df, return_type='matrix')"
   ]
  },
  {
   "cell_type": "code",
   "execution_count": 17,
   "metadata": {
    "ExecuteTime": {
     "end_time": "2019-07-11T13:36:25.363134Z",
     "start_time": "2019-07-11T13:36:25.346155Z"
    }
   },
   "outputs": [],
   "source": [
    "for train_index, test_index in ps.split():\n",
    "    X_train, X_test = X[train_index], X[test_index]\n",
    "    y_train, y_test = y[train_index], y[test_index]"
   ]
  },
  {
   "cell_type": "code",
   "execution_count": 44,
   "metadata": {
    "ExecuteTime": {
     "end_time": "2019-07-11T15:11:57.137437Z",
     "start_time": "2019-07-11T15:11:57.132111Z"
    }
   },
   "outputs": [],
   "source": [
    "n_features = X.shape[1]"
   ]
  },
  {
   "cell_type": "markdown",
   "metadata": {},
   "source": [
    "## Tuning model"
   ]
  },
  {
   "cell_type": "markdown",
   "metadata": {},
   "source": [
    "### GP tuner"
   ]
  },
  {
   "cell_type": "code",
   "execution_count": 67,
   "metadata": {
    "ExecuteTime": {
     "end_time": "2019-07-11T15:31:56.049660Z",
     "start_time": "2019-07-11T15:31:56.034500Z"
    }
   },
   "outputs": [],
   "source": [
    "space  = [Real(10**-5, 10**-1, \"log-uniform\", name='learning_rate'),\n",
    "          Integer(1, 100, name='n_estimators'),\n",
    "          Integer(1, n_features, name='max_features'),\n",
    "          Real(10**-2, 10**-1, \"log-uniform\", name='min_samples_leaf')]"
   ]
  },
  {
   "cell_type": "code",
   "execution_count": 68,
   "metadata": {
    "ExecuteTime": {
     "end_time": "2019-07-11T15:31:56.538327Z",
     "start_time": "2019-07-11T15:31:56.528656Z"
    }
   },
   "outputs": [],
   "source": [
    "gp_model = GradientBoostingRegressor(criterion='mse', random_state=0)\n",
    "\n",
    "@use_named_args(space)\n",
    "def objective(**params):\n",
    "    gp_model.set_params(**params)\n",
    "\n",
    "    return -np.mean(\n",
    "        cross_val_score(\n",
    "            gp_model,\n",
    "            X, y.ravel(),\n",
    "            cv=ps,\n",
    "            n_jobs=1,\n",
    "            scoring=\"neg_mean_squared_error\"))"
   ]
  },
  {
   "cell_type": "code",
   "execution_count": 69,
   "metadata": {
    "ExecuteTime": {
     "end_time": "2019-07-11T15:36:48.159164Z",
     "start_time": "2019-07-11T15:31:57.011010Z"
    }
   },
   "outputs": [],
   "source": [
    "res_gp = gp_minimize(objective, space, n_calls=100, random_state=0)"
   ]
  },
  {
   "cell_type": "code",
   "execution_count": 70,
   "metadata": {
    "ExecuteTime": {
     "end_time": "2019-07-11T15:36:48.168585Z",
     "start_time": "2019-07-11T15:36:48.162802Z"
    }
   },
   "outputs": [
    {
     "data": {
      "text/plain": [
       "9.395895199395422"
      ]
     },
     "execution_count": 70,
     "metadata": {},
     "output_type": "execute_result"
    }
   ],
   "source": [
    "res_gp.fun"
   ]
  },
  {
   "cell_type": "code",
   "execution_count": 71,
   "metadata": {
    "ExecuteTime": {
     "end_time": "2019-07-11T15:36:48.224224Z",
     "start_time": "2019-07-11T15:36:48.171663Z"
    }
   },
   "outputs": [
    {
     "data": {
      "text/plain": [
       "[0.038683941953767044, 69, 358, 0.03791748880599944]"
      ]
     },
     "execution_count": 71,
     "metadata": {},
     "output_type": "execute_result"
    }
   ],
   "source": [
    "res_gp.x"
   ]
  },
  {
   "cell_type": "markdown",
   "metadata": {},
   "source": [
    "### Grid search"
   ]
  },
  {
   "cell_type": "code",
   "execution_count": 72,
   "metadata": {
    "ExecuteTime": {
     "end_time": "2019-07-11T15:39:40.655487Z",
     "start_time": "2019-07-11T15:39:40.645554Z"
    }
   },
   "outputs": [],
   "source": [
    "n_estimators = [64, 69, 74]\n",
    "min_samples_leaf = [.028, 0.038, 0.048]\n",
    "learning_rate = [0.029, 0.039, 0.049]\n",
    "max_features = [348, 358, 368]\n",
    "\n",
    "parameters = {\n",
    "    'n_estimators': n_estimators,\n",
    "    'min_samples_leaf': min_samples_leaf,\n",
    "    'learning_rate': learning_rate,\n",
    "    'max_features': max_features\n",
    "}"
   ]
  },
  {
   "cell_type": "code",
   "execution_count": 73,
   "metadata": {
    "ExecuteTime": {
     "end_time": "2019-07-11T15:41:39.791320Z",
     "start_time": "2019-07-11T15:39:41.841127Z"
    }
   },
   "outputs": [
    {
     "name": "stdout",
     "output_type": "stream",
     "text": [
      "Fitting 1 folds for each of 81 candidates, totalling 81 fits\n",
      "[CV] learning_rate=0.029, max_features=348, min_samples_leaf=0.028, n_estimators=64 \n"
     ]
    },
    {
     "name": "stderr",
     "output_type": "stream",
     "text": [
      "[Parallel(n_jobs=1)]: Using backend SequentialBackend with 1 concurrent workers.\n"
     ]
    },
    {
     "name": "stdout",
     "output_type": "stream",
     "text": [
      "[CV]  learning_rate=0.029, max_features=348, min_samples_leaf=0.028, n_estimators=64, total=   1.6s\n",
      "[CV] learning_rate=0.029, max_features=348, min_samples_leaf=0.028, n_estimators=69 \n"
     ]
    },
    {
     "name": "stderr",
     "output_type": "stream",
     "text": [
      "[Parallel(n_jobs=1)]: Done   1 out of   1 | elapsed:    1.6s remaining:    0.0s\n"
     ]
    },
    {
     "name": "stdout",
     "output_type": "stream",
     "text": [
      "[CV]  learning_rate=0.029, max_features=348, min_samples_leaf=0.028, n_estimators=69, total=   1.5s\n",
      "[CV] learning_rate=0.029, max_features=348, min_samples_leaf=0.028, n_estimators=74 \n",
      "[CV]  learning_rate=0.029, max_features=348, min_samples_leaf=0.028, n_estimators=74, total=   1.6s\n",
      "[CV] learning_rate=0.029, max_features=348, min_samples_leaf=0.038, n_estimators=64 \n",
      "[CV]  learning_rate=0.029, max_features=348, min_samples_leaf=0.038, n_estimators=64, total=   1.4s\n",
      "[CV] learning_rate=0.029, max_features=348, min_samples_leaf=0.038, n_estimators=69 \n",
      "[CV]  learning_rate=0.029, max_features=348, min_samples_leaf=0.038, n_estimators=69, total=   1.5s\n",
      "[CV] learning_rate=0.029, max_features=348, min_samples_leaf=0.038, n_estimators=74 \n",
      "[CV]  learning_rate=0.029, max_features=348, min_samples_leaf=0.038, n_estimators=74, total=   1.6s\n",
      "[CV] learning_rate=0.029, max_features=348, min_samples_leaf=0.048, n_estimators=64 \n",
      "[CV]  learning_rate=0.029, max_features=348, min_samples_leaf=0.048, n_estimators=64, total=   1.3s\n",
      "[CV] learning_rate=0.029, max_features=348, min_samples_leaf=0.048, n_estimators=69 \n",
      "[CV]  learning_rate=0.029, max_features=348, min_samples_leaf=0.048, n_estimators=69, total=   1.4s\n",
      "[CV] learning_rate=0.029, max_features=348, min_samples_leaf=0.048, n_estimators=74 \n",
      "[CV]  learning_rate=0.029, max_features=348, min_samples_leaf=0.048, n_estimators=74, total=   1.5s\n",
      "[CV] learning_rate=0.029, max_features=358, min_samples_leaf=0.028, n_estimators=64 \n",
      "[CV]  learning_rate=0.029, max_features=358, min_samples_leaf=0.028, n_estimators=64, total=   1.4s\n",
      "[CV] learning_rate=0.029, max_features=358, min_samples_leaf=0.028, n_estimators=69 \n",
      "[CV]  learning_rate=0.029, max_features=358, min_samples_leaf=0.028, n_estimators=69, total=   1.5s\n",
      "[CV] learning_rate=0.029, max_features=358, min_samples_leaf=0.028, n_estimators=74 \n",
      "[CV]  learning_rate=0.029, max_features=358, min_samples_leaf=0.028, n_estimators=74, total=   1.6s\n",
      "[CV] learning_rate=0.029, max_features=358, min_samples_leaf=0.038, n_estimators=64 \n",
      "[CV]  learning_rate=0.029, max_features=358, min_samples_leaf=0.038, n_estimators=64, total=   1.4s\n",
      "[CV] learning_rate=0.029, max_features=358, min_samples_leaf=0.038, n_estimators=69 \n",
      "[CV]  learning_rate=0.029, max_features=358, min_samples_leaf=0.038, n_estimators=69, total=   1.5s\n",
      "[CV] learning_rate=0.029, max_features=358, min_samples_leaf=0.038, n_estimators=74 \n",
      "[CV]  learning_rate=0.029, max_features=358, min_samples_leaf=0.038, n_estimators=74, total=   1.6s\n",
      "[CV] learning_rate=0.029, max_features=358, min_samples_leaf=0.048, n_estimators=64 \n",
      "[CV]  learning_rate=0.029, max_features=358, min_samples_leaf=0.048, n_estimators=64, total=   1.3s\n",
      "[CV] learning_rate=0.029, max_features=358, min_samples_leaf=0.048, n_estimators=69 \n",
      "[CV]  learning_rate=0.029, max_features=358, min_samples_leaf=0.048, n_estimators=69, total=   1.4s\n",
      "[CV] learning_rate=0.029, max_features=358, min_samples_leaf=0.048, n_estimators=74 \n",
      "[CV]  learning_rate=0.029, max_features=358, min_samples_leaf=0.048, n_estimators=74, total=   1.5s\n",
      "[CV] learning_rate=0.029, max_features=368, min_samples_leaf=0.028, n_estimators=64 \n",
      "[CV]  learning_rate=0.029, max_features=368, min_samples_leaf=0.028, n_estimators=64, total=   1.4s\n",
      "[CV] learning_rate=0.029, max_features=368, min_samples_leaf=0.028, n_estimators=69 \n",
      "[CV]  learning_rate=0.029, max_features=368, min_samples_leaf=0.028, n_estimators=69, total=   1.5s\n",
      "[CV] learning_rate=0.029, max_features=368, min_samples_leaf=0.028, n_estimators=74 \n",
      "[CV]  learning_rate=0.029, max_features=368, min_samples_leaf=0.028, n_estimators=74, total=   1.6s\n",
      "[CV] learning_rate=0.029, max_features=368, min_samples_leaf=0.038, n_estimators=64 \n",
      "[CV]  learning_rate=0.029, max_features=368, min_samples_leaf=0.038, n_estimators=64, total=   1.4s\n",
      "[CV] learning_rate=0.029, max_features=368, min_samples_leaf=0.038, n_estimators=69 \n",
      "[CV]  learning_rate=0.029, max_features=368, min_samples_leaf=0.038, n_estimators=69, total=   1.5s\n",
      "[CV] learning_rate=0.029, max_features=368, min_samples_leaf=0.038, n_estimators=74 \n",
      "[CV]  learning_rate=0.029, max_features=368, min_samples_leaf=0.038, n_estimators=74, total=   1.6s\n",
      "[CV] learning_rate=0.029, max_features=368, min_samples_leaf=0.048, n_estimators=64 \n",
      "[CV]  learning_rate=0.029, max_features=368, min_samples_leaf=0.048, n_estimators=64, total=   1.4s\n",
      "[CV] learning_rate=0.029, max_features=368, min_samples_leaf=0.048, n_estimators=69 \n",
      "[CV]  learning_rate=0.029, max_features=368, min_samples_leaf=0.048, n_estimators=69, total=   1.5s\n",
      "[CV] learning_rate=0.029, max_features=368, min_samples_leaf=0.048, n_estimators=74 \n",
      "[CV]  learning_rate=0.029, max_features=368, min_samples_leaf=0.048, n_estimators=74, total=   1.6s\n",
      "[CV] learning_rate=0.039, max_features=348, min_samples_leaf=0.028, n_estimators=64 \n",
      "[CV]  learning_rate=0.039, max_features=348, min_samples_leaf=0.028, n_estimators=64, total=   1.4s\n",
      "[CV] learning_rate=0.039, max_features=348, min_samples_leaf=0.028, n_estimators=69 \n",
      "[CV]  learning_rate=0.039, max_features=348, min_samples_leaf=0.028, n_estimators=69, total=   1.5s\n",
      "[CV] learning_rate=0.039, max_features=348, min_samples_leaf=0.028, n_estimators=74 \n",
      "[CV]  learning_rate=0.039, max_features=348, min_samples_leaf=0.028, n_estimators=74, total=   1.6s\n",
      "[CV] learning_rate=0.039, max_features=348, min_samples_leaf=0.038, n_estimators=64 \n",
      "[CV]  learning_rate=0.039, max_features=348, min_samples_leaf=0.038, n_estimators=64, total=   1.3s\n",
      "[CV] learning_rate=0.039, max_features=348, min_samples_leaf=0.038, n_estimators=69 \n",
      "[CV]  learning_rate=0.039, max_features=348, min_samples_leaf=0.038, n_estimators=69, total=   1.4s\n",
      "[CV] learning_rate=0.039, max_features=348, min_samples_leaf=0.038, n_estimators=74 \n",
      "[CV]  learning_rate=0.039, max_features=348, min_samples_leaf=0.038, n_estimators=74, total=   1.5s\n",
      "[CV] learning_rate=0.039, max_features=348, min_samples_leaf=0.048, n_estimators=64 \n",
      "[CV]  learning_rate=0.039, max_features=348, min_samples_leaf=0.048, n_estimators=64, total=   1.3s\n",
      "[CV] learning_rate=0.039, max_features=348, min_samples_leaf=0.048, n_estimators=69 \n",
      "[CV]  learning_rate=0.039, max_features=348, min_samples_leaf=0.048, n_estimators=69, total=   1.4s\n",
      "[CV] learning_rate=0.039, max_features=348, min_samples_leaf=0.048, n_estimators=74 \n",
      "[CV]  learning_rate=0.039, max_features=348, min_samples_leaf=0.048, n_estimators=74, total=   1.8s\n",
      "[CV] learning_rate=0.039, max_features=358, min_samples_leaf=0.028, n_estimators=64 \n",
      "[CV]  learning_rate=0.039, max_features=358, min_samples_leaf=0.028, n_estimators=64, total=   1.4s\n",
      "[CV] learning_rate=0.039, max_features=358, min_samples_leaf=0.028, n_estimators=69 \n",
      "[CV]  learning_rate=0.039, max_features=358, min_samples_leaf=0.028, n_estimators=69, total=   1.5s\n",
      "[CV] learning_rate=0.039, max_features=358, min_samples_leaf=0.028, n_estimators=74 \n",
      "[CV]  learning_rate=0.039, max_features=358, min_samples_leaf=0.028, n_estimators=74, total=   1.6s\n",
      "[CV] learning_rate=0.039, max_features=358, min_samples_leaf=0.038, n_estimators=64 \n",
      "[CV]  learning_rate=0.039, max_features=358, min_samples_leaf=0.038, n_estimators=64, total=   1.4s\n",
      "[CV] learning_rate=0.039, max_features=358, min_samples_leaf=0.038, n_estimators=69 \n",
      "[CV]  learning_rate=0.039, max_features=358, min_samples_leaf=0.038, n_estimators=69, total=   1.4s\n",
      "[CV] learning_rate=0.039, max_features=358, min_samples_leaf=0.038, n_estimators=74 \n",
      "[CV]  learning_rate=0.039, max_features=358, min_samples_leaf=0.038, n_estimators=74, total=   1.5s\n",
      "[CV] learning_rate=0.039, max_features=358, min_samples_leaf=0.048, n_estimators=64 \n",
      "[CV]  learning_rate=0.039, max_features=358, min_samples_leaf=0.048, n_estimators=64, total=   1.3s\n",
      "[CV] learning_rate=0.039, max_features=358, min_samples_leaf=0.048, n_estimators=69 \n",
      "[CV]  learning_rate=0.039, max_features=358, min_samples_leaf=0.048, n_estimators=69, total=   1.4s\n",
      "[CV] learning_rate=0.039, max_features=358, min_samples_leaf=0.048, n_estimators=74 \n",
      "[CV]  learning_rate=0.039, max_features=358, min_samples_leaf=0.048, n_estimators=74, total=   1.5s\n",
      "[CV] learning_rate=0.039, max_features=368, min_samples_leaf=0.028, n_estimators=64 \n",
      "[CV]  learning_rate=0.039, max_features=368, min_samples_leaf=0.028, n_estimators=64, total=   1.4s\n",
      "[CV] learning_rate=0.039, max_features=368, min_samples_leaf=0.028, n_estimators=69 \n"
     ]
    },
    {
     "name": "stdout",
     "output_type": "stream",
     "text": [
      "[CV]  learning_rate=0.039, max_features=368, min_samples_leaf=0.028, n_estimators=69, total=   1.5s\n",
      "[CV] learning_rate=0.039, max_features=368, min_samples_leaf=0.028, n_estimators=74 \n",
      "[CV]  learning_rate=0.039, max_features=368, min_samples_leaf=0.028, n_estimators=74, total=   1.6s\n",
      "[CV] learning_rate=0.039, max_features=368, min_samples_leaf=0.038, n_estimators=64 \n",
      "[CV]  learning_rate=0.039, max_features=368, min_samples_leaf=0.038, n_estimators=64, total=   1.4s\n",
      "[CV] learning_rate=0.039, max_features=368, min_samples_leaf=0.038, n_estimators=69 \n",
      "[CV]  learning_rate=0.039, max_features=368, min_samples_leaf=0.038, n_estimators=69, total=   1.5s\n",
      "[CV] learning_rate=0.039, max_features=368, min_samples_leaf=0.038, n_estimators=74 \n",
      "[CV]  learning_rate=0.039, max_features=368, min_samples_leaf=0.038, n_estimators=74, total=   1.5s\n",
      "[CV] learning_rate=0.039, max_features=368, min_samples_leaf=0.048, n_estimators=64 \n",
      "[CV]  learning_rate=0.039, max_features=368, min_samples_leaf=0.048, n_estimators=64, total=   1.4s\n",
      "[CV] learning_rate=0.039, max_features=368, min_samples_leaf=0.048, n_estimators=69 \n",
      "[CV]  learning_rate=0.039, max_features=368, min_samples_leaf=0.048, n_estimators=69, total=   1.4s\n",
      "[CV] learning_rate=0.039, max_features=368, min_samples_leaf=0.048, n_estimators=74 \n",
      "[CV]  learning_rate=0.039, max_features=368, min_samples_leaf=0.048, n_estimators=74, total=   1.5s\n",
      "[CV] learning_rate=0.049, max_features=348, min_samples_leaf=0.028, n_estimators=64 \n",
      "[CV]  learning_rate=0.049, max_features=348, min_samples_leaf=0.028, n_estimators=64, total=   1.3s\n",
      "[CV] learning_rate=0.049, max_features=348, min_samples_leaf=0.028, n_estimators=69 \n",
      "[CV]  learning_rate=0.049, max_features=348, min_samples_leaf=0.028, n_estimators=69, total=   1.4s\n",
      "[CV] learning_rate=0.049, max_features=348, min_samples_leaf=0.028, n_estimators=74 \n",
      "[CV]  learning_rate=0.049, max_features=348, min_samples_leaf=0.028, n_estimators=74, total=   1.5s\n",
      "[CV] learning_rate=0.049, max_features=348, min_samples_leaf=0.038, n_estimators=64 \n",
      "[CV]  learning_rate=0.049, max_features=348, min_samples_leaf=0.038, n_estimators=64, total=   1.3s\n",
      "[CV] learning_rate=0.049, max_features=348, min_samples_leaf=0.038, n_estimators=69 \n",
      "[CV]  learning_rate=0.049, max_features=348, min_samples_leaf=0.038, n_estimators=69, total=   1.4s\n",
      "[CV] learning_rate=0.049, max_features=348, min_samples_leaf=0.038, n_estimators=74 \n",
      "[CV]  learning_rate=0.049, max_features=348, min_samples_leaf=0.038, n_estimators=74, total=   1.5s\n",
      "[CV] learning_rate=0.049, max_features=348, min_samples_leaf=0.048, n_estimators=64 \n",
      "[CV]  learning_rate=0.049, max_features=348, min_samples_leaf=0.048, n_estimators=64, total=   1.3s\n",
      "[CV] learning_rate=0.049, max_features=348, min_samples_leaf=0.048, n_estimators=69 \n",
      "[CV]  learning_rate=0.049, max_features=348, min_samples_leaf=0.048, n_estimators=69, total=   1.4s\n",
      "[CV] learning_rate=0.049, max_features=348, min_samples_leaf=0.048, n_estimators=74 \n",
      "[CV]  learning_rate=0.049, max_features=348, min_samples_leaf=0.048, n_estimators=74, total=   1.4s\n",
      "[CV] learning_rate=0.049, max_features=358, min_samples_leaf=0.028, n_estimators=64 \n",
      "[CV]  learning_rate=0.049, max_features=358, min_samples_leaf=0.028, n_estimators=64, total=   1.4s\n",
      "[CV] learning_rate=0.049, max_features=358, min_samples_leaf=0.028, n_estimators=69 \n",
      "[CV]  learning_rate=0.049, max_features=358, min_samples_leaf=0.028, n_estimators=69, total=   1.5s\n",
      "[CV] learning_rate=0.049, max_features=358, min_samples_leaf=0.028, n_estimators=74 \n",
      "[CV]  learning_rate=0.049, max_features=358, min_samples_leaf=0.028, n_estimators=74, total=   1.5s\n",
      "[CV] learning_rate=0.049, max_features=358, min_samples_leaf=0.038, n_estimators=64 \n",
      "[CV]  learning_rate=0.049, max_features=358, min_samples_leaf=0.038, n_estimators=64, total=   1.3s\n",
      "[CV] learning_rate=0.049, max_features=358, min_samples_leaf=0.038, n_estimators=69 \n",
      "[CV]  learning_rate=0.049, max_features=358, min_samples_leaf=0.038, n_estimators=69, total=   1.4s\n",
      "[CV] learning_rate=0.049, max_features=358, min_samples_leaf=0.038, n_estimators=74 \n",
      "[CV]  learning_rate=0.049, max_features=358, min_samples_leaf=0.038, n_estimators=74, total=   1.5s\n",
      "[CV] learning_rate=0.049, max_features=358, min_samples_leaf=0.048, n_estimators=64 \n",
      "[CV]  learning_rate=0.049, max_features=358, min_samples_leaf=0.048, n_estimators=64, total=   1.3s\n",
      "[CV] learning_rate=0.049, max_features=358, min_samples_leaf=0.048, n_estimators=69 \n",
      "[CV]  learning_rate=0.049, max_features=358, min_samples_leaf=0.048, n_estimators=69, total=   1.4s\n",
      "[CV] learning_rate=0.049, max_features=358, min_samples_leaf=0.048, n_estimators=74 \n",
      "[CV]  learning_rate=0.049, max_features=358, min_samples_leaf=0.048, n_estimators=74, total=   1.5s\n",
      "[CV] learning_rate=0.049, max_features=368, min_samples_leaf=0.028, n_estimators=64 \n",
      "[CV]  learning_rate=0.049, max_features=368, min_samples_leaf=0.028, n_estimators=64, total=   1.3s\n",
      "[CV] learning_rate=0.049, max_features=368, min_samples_leaf=0.028, n_estimators=69 \n",
      "[CV]  learning_rate=0.049, max_features=368, min_samples_leaf=0.028, n_estimators=69, total=   1.4s\n",
      "[CV] learning_rate=0.049, max_features=368, min_samples_leaf=0.028, n_estimators=74 \n",
      "[CV]  learning_rate=0.049, max_features=368, min_samples_leaf=0.028, n_estimators=74, total=   1.5s\n",
      "[CV] learning_rate=0.049, max_features=368, min_samples_leaf=0.038, n_estimators=64 \n",
      "[CV]  learning_rate=0.049, max_features=368, min_samples_leaf=0.038, n_estimators=64, total=   1.4s\n",
      "[CV] learning_rate=0.049, max_features=368, min_samples_leaf=0.038, n_estimators=69 \n",
      "[CV]  learning_rate=0.049, max_features=368, min_samples_leaf=0.038, n_estimators=69, total=   1.5s\n",
      "[CV] learning_rate=0.049, max_features=368, min_samples_leaf=0.038, n_estimators=74 \n",
      "[CV]  learning_rate=0.049, max_features=368, min_samples_leaf=0.038, n_estimators=74, total=   1.5s\n",
      "[CV] learning_rate=0.049, max_features=368, min_samples_leaf=0.048, n_estimators=64 \n",
      "[CV]  learning_rate=0.049, max_features=368, min_samples_leaf=0.048, n_estimators=64, total=   1.3s\n",
      "[CV] learning_rate=0.049, max_features=368, min_samples_leaf=0.048, n_estimators=69 \n",
      "[CV]  learning_rate=0.049, max_features=368, min_samples_leaf=0.048, n_estimators=69, total=   1.4s\n",
      "[CV] learning_rate=0.049, max_features=368, min_samples_leaf=0.048, n_estimators=74 \n",
      "[CV]  learning_rate=0.049, max_features=368, min_samples_leaf=0.048, n_estimators=74, total=   1.5s\n"
     ]
    },
    {
     "name": "stderr",
     "output_type": "stream",
     "text": [
      "[Parallel(n_jobs=1)]: Done  81 out of  81 | elapsed:  2.0min finished\n"
     ]
    },
    {
     "data": {
      "text/plain": [
       "GridSearchCV(cv=PredefinedSplit(test_fold=array([-1, -1, ...,  0,  0])),\n",
       "             error_score=100,\n",
       "             estimator=GradientBoostingRegressor(alpha=0.9, criterion='mse',\n",
       "                                                 init=None, learning_rate=0.1,\n",
       "                                                 loss='ls', max_depth=3,\n",
       "                                                 max_features=None,\n",
       "                                                 max_leaf_nodes=None,\n",
       "                                                 min_impurity_decrease=0.0,\n",
       "                                                 min_impurity_split=None,\n",
       "                                                 min_samples_leaf=1,\n",
       "                                                 min_samples_split=2,\n",
       "                                                 min_weight_fraction_leaf=0.0,...\n",
       "                                                 subsample=1.0, tol=0.0001,\n",
       "                                                 validation_fraction=0.1,\n",
       "                                                 verbose=0, warm_start=False),\n",
       "             iid='warn', n_jobs=1,\n",
       "             param_grid={'learning_rate': [0.029, 0.039, 0.049],\n",
       "                         'max_features': [348, 358, 368],\n",
       "                         'min_samples_leaf': [0.028, 0.038, 0.048],\n",
       "                         'n_estimators': [64, 69, 74]},\n",
       "             pre_dispatch='2*n_jobs', refit=False, return_train_score=False,\n",
       "             scoring=['neg_mean_absolute_error', 'neg_mean_squared_error'],\n",
       "             verbose=2)"
      ]
     },
     "execution_count": 73,
     "metadata": {},
     "output_type": "execute_result"
    }
   ],
   "source": [
    "gs_model = GridSearchCV(\n",
    "    GradientBoostingRegressor(criterion='mse', random_state=0),\n",
    "    parameters,\n",
    "    scoring=['neg_mean_absolute_error', 'neg_mean_squared_error'],\n",
    "    refit=False,\n",
    "    cv=ps,\n",
    "    error_score=100, n_jobs=1, verbose=2)\n",
    "gs_model.fit(X, y.ravel())"
   ]
  },
  {
   "cell_type": "code",
   "execution_count": 75,
   "metadata": {
    "ExecuteTime": {
     "end_time": "2019-07-11T15:41:39.910033Z",
     "start_time": "2019-07-11T15:41:39.854738Z"
    }
   },
   "outputs": [
    {
     "data": {
      "text/html": [
       "<div>\n",
       "<style scoped>\n",
       "    .dataframe tbody tr th:only-of-type {\n",
       "        vertical-align: middle;\n",
       "    }\n",
       "\n",
       "    .dataframe tbody tr th {\n",
       "        vertical-align: top;\n",
       "    }\n",
       "\n",
       "    .dataframe thead th {\n",
       "        text-align: right;\n",
       "    }\n",
       "</style>\n",
       "<table border=\"1\" class=\"dataframe\">\n",
       "  <thead>\n",
       "    <tr style=\"text-align: right;\">\n",
       "      <th></th>\n",
       "      <th>param_n_estimators</th>\n",
       "      <th>param_min_samples_leaf</th>\n",
       "      <th>param_learning_rate</th>\n",
       "      <th>param_max_features</th>\n",
       "      <th>split0_test_neg_mean_absolute_error</th>\n",
       "      <th>split0_test_neg_mean_squared_error</th>\n",
       "    </tr>\n",
       "  </thead>\n",
       "  <tbody>\n",
       "    <tr>\n",
       "      <th>0</th>\n",
       "      <td>64</td>\n",
       "      <td>0.028</td>\n",
       "      <td>0.029</td>\n",
       "      <td>348</td>\n",
       "      <td>-2.196979</td>\n",
       "      <td>-9.440739</td>\n",
       "    </tr>\n",
       "    <tr>\n",
       "      <th>1</th>\n",
       "      <td>69</td>\n",
       "      <td>0.028</td>\n",
       "      <td>0.029</td>\n",
       "      <td>348</td>\n",
       "      <td>-2.195393</td>\n",
       "      <td>-9.440306</td>\n",
       "    </tr>\n",
       "    <tr>\n",
       "      <th>2</th>\n",
       "      <td>74</td>\n",
       "      <td>0.028</td>\n",
       "      <td>0.029</td>\n",
       "      <td>348</td>\n",
       "      <td>-2.195763</td>\n",
       "      <td>-9.438275</td>\n",
       "    </tr>\n",
       "    <tr>\n",
       "      <th>3</th>\n",
       "      <td>64</td>\n",
       "      <td>0.038</td>\n",
       "      <td>0.029</td>\n",
       "      <td>348</td>\n",
       "      <td>-2.202228</td>\n",
       "      <td>-9.451630</td>\n",
       "    </tr>\n",
       "    <tr>\n",
       "      <th>4</th>\n",
       "      <td>69</td>\n",
       "      <td>0.038</td>\n",
       "      <td>0.029</td>\n",
       "      <td>348</td>\n",
       "      <td>-2.199899</td>\n",
       "      <td>-9.449654</td>\n",
       "    </tr>\n",
       "    <tr>\n",
       "      <th>5</th>\n",
       "      <td>74</td>\n",
       "      <td>0.038</td>\n",
       "      <td>0.029</td>\n",
       "      <td>348</td>\n",
       "      <td>-2.198757</td>\n",
       "      <td>-9.440924</td>\n",
       "    </tr>\n",
       "    <tr>\n",
       "      <th>6</th>\n",
       "      <td>64</td>\n",
       "      <td>0.048</td>\n",
       "      <td>0.029</td>\n",
       "      <td>348</td>\n",
       "      <td>-2.202961</td>\n",
       "      <td>-9.473933</td>\n",
       "    </tr>\n",
       "    <tr>\n",
       "      <th>7</th>\n",
       "      <td>69</td>\n",
       "      <td>0.048</td>\n",
       "      <td>0.029</td>\n",
       "      <td>348</td>\n",
       "      <td>-2.199384</td>\n",
       "      <td>-9.455482</td>\n",
       "    </tr>\n",
       "    <tr>\n",
       "      <th>8</th>\n",
       "      <td>74</td>\n",
       "      <td>0.048</td>\n",
       "      <td>0.029</td>\n",
       "      <td>348</td>\n",
       "      <td>-2.197725</td>\n",
       "      <td>-9.448188</td>\n",
       "    </tr>\n",
       "    <tr>\n",
       "      <th>9</th>\n",
       "      <td>64</td>\n",
       "      <td>0.028</td>\n",
       "      <td>0.029</td>\n",
       "      <td>358</td>\n",
       "      <td>-2.197357</td>\n",
       "      <td>-9.439963</td>\n",
       "    </tr>\n",
       "    <tr>\n",
       "      <th>10</th>\n",
       "      <td>69</td>\n",
       "      <td>0.028</td>\n",
       "      <td>0.029</td>\n",
       "      <td>358</td>\n",
       "      <td>-2.195545</td>\n",
       "      <td>-9.431168</td>\n",
       "    </tr>\n",
       "    <tr>\n",
       "      <th>11</th>\n",
       "      <td>74</td>\n",
       "      <td>0.028</td>\n",
       "      <td>0.029</td>\n",
       "      <td>358</td>\n",
       "      <td>-2.194050</td>\n",
       "      <td>-9.427612</td>\n",
       "    </tr>\n",
       "    <tr>\n",
       "      <th>12</th>\n",
       "      <td>64</td>\n",
       "      <td>0.038</td>\n",
       "      <td>0.029</td>\n",
       "      <td>358</td>\n",
       "      <td>-2.200540</td>\n",
       "      <td>-9.444893</td>\n",
       "    </tr>\n",
       "    <tr>\n",
       "      <th>13</th>\n",
       "      <td>69</td>\n",
       "      <td>0.038</td>\n",
       "      <td>0.029</td>\n",
       "      <td>358</td>\n",
       "      <td>-2.198561</td>\n",
       "      <td>-9.438603</td>\n",
       "    </tr>\n",
       "    <tr>\n",
       "      <th>14</th>\n",
       "      <td>74</td>\n",
       "      <td>0.038</td>\n",
       "      <td>0.029</td>\n",
       "      <td>358</td>\n",
       "      <td>-2.197049</td>\n",
       "      <td>-9.438819</td>\n",
       "    </tr>\n",
       "    <tr>\n",
       "      <th>15</th>\n",
       "      <td>64</td>\n",
       "      <td>0.048</td>\n",
       "      <td>0.029</td>\n",
       "      <td>358</td>\n",
       "      <td>-2.201914</td>\n",
       "      <td>-9.462274</td>\n",
       "    </tr>\n",
       "    <tr>\n",
       "      <th>16</th>\n",
       "      <td>69</td>\n",
       "      <td>0.048</td>\n",
       "      <td>0.029</td>\n",
       "      <td>358</td>\n",
       "      <td>-2.198732</td>\n",
       "      <td>-9.452429</td>\n",
       "    </tr>\n",
       "    <tr>\n",
       "      <th>17</th>\n",
       "      <td>74</td>\n",
       "      <td>0.048</td>\n",
       "      <td>0.029</td>\n",
       "      <td>358</td>\n",
       "      <td>-2.195452</td>\n",
       "      <td>-9.437850</td>\n",
       "    </tr>\n",
       "    <tr>\n",
       "      <th>18</th>\n",
       "      <td>64</td>\n",
       "      <td>0.028</td>\n",
       "      <td>0.029</td>\n",
       "      <td>368</td>\n",
       "      <td>-2.196523</td>\n",
       "      <td>-9.437354</td>\n",
       "    </tr>\n",
       "    <tr>\n",
       "      <th>19</th>\n",
       "      <td>69</td>\n",
       "      <td>0.028</td>\n",
       "      <td>0.029</td>\n",
       "      <td>368</td>\n",
       "      <td>-2.193438</td>\n",
       "      <td>-9.434111</td>\n",
       "    </tr>\n",
       "    <tr>\n",
       "      <th>20</th>\n",
       "      <td>74</td>\n",
       "      <td>0.028</td>\n",
       "      <td>0.029</td>\n",
       "      <td>368</td>\n",
       "      <td>-2.190437</td>\n",
       "      <td>-9.421162</td>\n",
       "    </tr>\n",
       "    <tr>\n",
       "      <th>21</th>\n",
       "      <td>64</td>\n",
       "      <td>0.038</td>\n",
       "      <td>0.029</td>\n",
       "      <td>368</td>\n",
       "      <td>-2.200006</td>\n",
       "      <td>-9.465014</td>\n",
       "    </tr>\n",
       "    <tr>\n",
       "      <th>22</th>\n",
       "      <td>69</td>\n",
       "      <td>0.038</td>\n",
       "      <td>0.029</td>\n",
       "      <td>368</td>\n",
       "      <td>-2.198933</td>\n",
       "      <td>-9.457622</td>\n",
       "    </tr>\n",
       "    <tr>\n",
       "      <th>23</th>\n",
       "      <td>74</td>\n",
       "      <td>0.038</td>\n",
       "      <td>0.029</td>\n",
       "      <td>368</td>\n",
       "      <td>-2.196239</td>\n",
       "      <td>-9.451884</td>\n",
       "    </tr>\n",
       "    <tr>\n",
       "      <th>24</th>\n",
       "      <td>64</td>\n",
       "      <td>0.048</td>\n",
       "      <td>0.029</td>\n",
       "      <td>368</td>\n",
       "      <td>-2.199073</td>\n",
       "      <td>-9.450735</td>\n",
       "    </tr>\n",
       "    <tr>\n",
       "      <th>25</th>\n",
       "      <td>69</td>\n",
       "      <td>0.048</td>\n",
       "      <td>0.029</td>\n",
       "      <td>368</td>\n",
       "      <td>-2.198040</td>\n",
       "      <td>-9.441086</td>\n",
       "    </tr>\n",
       "    <tr>\n",
       "      <th>26</th>\n",
       "      <td>74</td>\n",
       "      <td>0.048</td>\n",
       "      <td>0.029</td>\n",
       "      <td>368</td>\n",
       "      <td>-2.195600</td>\n",
       "      <td>-9.429482</td>\n",
       "    </tr>\n",
       "    <tr>\n",
       "      <th>27</th>\n",
       "      <td>64</td>\n",
       "      <td>0.028</td>\n",
       "      <td>0.039</td>\n",
       "      <td>348</td>\n",
       "      <td>-2.187695</td>\n",
       "      <td>-9.407788</td>\n",
       "    </tr>\n",
       "    <tr>\n",
       "      <th>28</th>\n",
       "      <td>69</td>\n",
       "      <td>0.028</td>\n",
       "      <td>0.039</td>\n",
       "      <td>348</td>\n",
       "      <td>-2.184122</td>\n",
       "      <td>-9.396476</td>\n",
       "    </tr>\n",
       "    <tr>\n",
       "      <th>29</th>\n",
       "      <td>74</td>\n",
       "      <td>0.028</td>\n",
       "      <td>0.039</td>\n",
       "      <td>348</td>\n",
       "      <td>-2.180211</td>\n",
       "      <td>-9.397732</td>\n",
       "    </tr>\n",
       "    <tr>\n",
       "      <th>...</th>\n",
       "      <td>...</td>\n",
       "      <td>...</td>\n",
       "      <td>...</td>\n",
       "      <td>...</td>\n",
       "      <td>...</td>\n",
       "      <td>...</td>\n",
       "    </tr>\n",
       "    <tr>\n",
       "      <th>51</th>\n",
       "      <td>64</td>\n",
       "      <td>0.048</td>\n",
       "      <td>0.039</td>\n",
       "      <td>368</td>\n",
       "      <td>-2.187692</td>\n",
       "      <td>-9.425439</td>\n",
       "    </tr>\n",
       "    <tr>\n",
       "      <th>52</th>\n",
       "      <td>69</td>\n",
       "      <td>0.048</td>\n",
       "      <td>0.039</td>\n",
       "      <td>368</td>\n",
       "      <td>-2.186848</td>\n",
       "      <td>-9.422616</td>\n",
       "    </tr>\n",
       "    <tr>\n",
       "      <th>53</th>\n",
       "      <td>74</td>\n",
       "      <td>0.048</td>\n",
       "      <td>0.039</td>\n",
       "      <td>368</td>\n",
       "      <td>-2.185377</td>\n",
       "      <td>-9.415541</td>\n",
       "    </tr>\n",
       "    <tr>\n",
       "      <th>54</th>\n",
       "      <td>64</td>\n",
       "      <td>0.028</td>\n",
       "      <td>0.049</td>\n",
       "      <td>348</td>\n",
       "      <td>-2.182408</td>\n",
       "      <td>-9.416132</td>\n",
       "    </tr>\n",
       "    <tr>\n",
       "      <th>55</th>\n",
       "      <td>69</td>\n",
       "      <td>0.028</td>\n",
       "      <td>0.049</td>\n",
       "      <td>348</td>\n",
       "      <td>-2.181243</td>\n",
       "      <td>-9.418336</td>\n",
       "    </tr>\n",
       "    <tr>\n",
       "      <th>56</th>\n",
       "      <td>74</td>\n",
       "      <td>0.028</td>\n",
       "      <td>0.049</td>\n",
       "      <td>348</td>\n",
       "      <td>-2.179461</td>\n",
       "      <td>-9.422386</td>\n",
       "    </tr>\n",
       "    <tr>\n",
       "      <th>57</th>\n",
       "      <td>64</td>\n",
       "      <td>0.038</td>\n",
       "      <td>0.049</td>\n",
       "      <td>348</td>\n",
       "      <td>-2.189795</td>\n",
       "      <td>-9.411142</td>\n",
       "    </tr>\n",
       "    <tr>\n",
       "      <th>58</th>\n",
       "      <td>69</td>\n",
       "      <td>0.038</td>\n",
       "      <td>0.049</td>\n",
       "      <td>348</td>\n",
       "      <td>-2.189015</td>\n",
       "      <td>-9.419137</td>\n",
       "    </tr>\n",
       "    <tr>\n",
       "      <th>59</th>\n",
       "      <td>74</td>\n",
       "      <td>0.038</td>\n",
       "      <td>0.049</td>\n",
       "      <td>348</td>\n",
       "      <td>-2.188743</td>\n",
       "      <td>-9.434520</td>\n",
       "    </tr>\n",
       "    <tr>\n",
       "      <th>60</th>\n",
       "      <td>64</td>\n",
       "      <td>0.048</td>\n",
       "      <td>0.049</td>\n",
       "      <td>348</td>\n",
       "      <td>-2.191852</td>\n",
       "      <td>-9.453072</td>\n",
       "    </tr>\n",
       "    <tr>\n",
       "      <th>61</th>\n",
       "      <td>69</td>\n",
       "      <td>0.048</td>\n",
       "      <td>0.049</td>\n",
       "      <td>348</td>\n",
       "      <td>-2.191201</td>\n",
       "      <td>-9.459167</td>\n",
       "    </tr>\n",
       "    <tr>\n",
       "      <th>62</th>\n",
       "      <td>74</td>\n",
       "      <td>0.048</td>\n",
       "      <td>0.049</td>\n",
       "      <td>348</td>\n",
       "      <td>-2.189560</td>\n",
       "      <td>-9.458684</td>\n",
       "    </tr>\n",
       "    <tr>\n",
       "      <th>63</th>\n",
       "      <td>64</td>\n",
       "      <td>0.028</td>\n",
       "      <td>0.049</td>\n",
       "      <td>358</td>\n",
       "      <td>-2.180108</td>\n",
       "      <td>-9.419698</td>\n",
       "    </tr>\n",
       "    <tr>\n",
       "      <th>64</th>\n",
       "      <td>69</td>\n",
       "      <td>0.028</td>\n",
       "      <td>0.049</td>\n",
       "      <td>358</td>\n",
       "      <td>-2.177854</td>\n",
       "      <td>-9.415416</td>\n",
       "    </tr>\n",
       "    <tr>\n",
       "      <th>65</th>\n",
       "      <td>74</td>\n",
       "      <td>0.028</td>\n",
       "      <td>0.049</td>\n",
       "      <td>358</td>\n",
       "      <td>-2.178193</td>\n",
       "      <td>-9.424099</td>\n",
       "    </tr>\n",
       "    <tr>\n",
       "      <th>66</th>\n",
       "      <td>64</td>\n",
       "      <td>0.038</td>\n",
       "      <td>0.049</td>\n",
       "      <td>358</td>\n",
       "      <td>-2.193136</td>\n",
       "      <td>-9.428298</td>\n",
       "    </tr>\n",
       "    <tr>\n",
       "      <th>67</th>\n",
       "      <td>69</td>\n",
       "      <td>0.038</td>\n",
       "      <td>0.049</td>\n",
       "      <td>358</td>\n",
       "      <td>-2.191661</td>\n",
       "      <td>-9.434468</td>\n",
       "    </tr>\n",
       "    <tr>\n",
       "      <th>68</th>\n",
       "      <td>74</td>\n",
       "      <td>0.038</td>\n",
       "      <td>0.049</td>\n",
       "      <td>358</td>\n",
       "      <td>-2.190453</td>\n",
       "      <td>-9.445817</td>\n",
       "    </tr>\n",
       "    <tr>\n",
       "      <th>69</th>\n",
       "      <td>64</td>\n",
       "      <td>0.048</td>\n",
       "      <td>0.049</td>\n",
       "      <td>358</td>\n",
       "      <td>-2.192795</td>\n",
       "      <td>-9.428439</td>\n",
       "    </tr>\n",
       "    <tr>\n",
       "      <th>70</th>\n",
       "      <td>69</td>\n",
       "      <td>0.048</td>\n",
       "      <td>0.049</td>\n",
       "      <td>358</td>\n",
       "      <td>-2.189626</td>\n",
       "      <td>-9.434476</td>\n",
       "    </tr>\n",
       "    <tr>\n",
       "      <th>71</th>\n",
       "      <td>74</td>\n",
       "      <td>0.048</td>\n",
       "      <td>0.049</td>\n",
       "      <td>358</td>\n",
       "      <td>-2.190166</td>\n",
       "      <td>-9.439467</td>\n",
       "    </tr>\n",
       "    <tr>\n",
       "      <th>72</th>\n",
       "      <td>64</td>\n",
       "      <td>0.028</td>\n",
       "      <td>0.049</td>\n",
       "      <td>368</td>\n",
       "      <td>-2.183085</td>\n",
       "      <td>-9.406690</td>\n",
       "    </tr>\n",
       "    <tr>\n",
       "      <th>73</th>\n",
       "      <td>69</td>\n",
       "      <td>0.028</td>\n",
       "      <td>0.049</td>\n",
       "      <td>368</td>\n",
       "      <td>-2.182423</td>\n",
       "      <td>-9.420014</td>\n",
       "    </tr>\n",
       "    <tr>\n",
       "      <th>74</th>\n",
       "      <td>74</td>\n",
       "      <td>0.028</td>\n",
       "      <td>0.049</td>\n",
       "      <td>368</td>\n",
       "      <td>-2.181189</td>\n",
       "      <td>-9.419622</td>\n",
       "    </tr>\n",
       "    <tr>\n",
       "      <th>75</th>\n",
       "      <td>64</td>\n",
       "      <td>0.038</td>\n",
       "      <td>0.049</td>\n",
       "      <td>368</td>\n",
       "      <td>-2.185251</td>\n",
       "      <td>-9.415029</td>\n",
       "    </tr>\n",
       "    <tr>\n",
       "      <th>76</th>\n",
       "      <td>69</td>\n",
       "      <td>0.038</td>\n",
       "      <td>0.049</td>\n",
       "      <td>368</td>\n",
       "      <td>-2.184689</td>\n",
       "      <td>-9.426947</td>\n",
       "    </tr>\n",
       "    <tr>\n",
       "      <th>77</th>\n",
       "      <td>74</td>\n",
       "      <td>0.038</td>\n",
       "      <td>0.049</td>\n",
       "      <td>368</td>\n",
       "      <td>-2.182805</td>\n",
       "      <td>-9.428190</td>\n",
       "    </tr>\n",
       "    <tr>\n",
       "      <th>78</th>\n",
       "      <td>64</td>\n",
       "      <td>0.048</td>\n",
       "      <td>0.049</td>\n",
       "      <td>368</td>\n",
       "      <td>-2.189293</td>\n",
       "      <td>-9.435349</td>\n",
       "    </tr>\n",
       "    <tr>\n",
       "      <th>79</th>\n",
       "      <td>69</td>\n",
       "      <td>0.048</td>\n",
       "      <td>0.049</td>\n",
       "      <td>368</td>\n",
       "      <td>-2.190668</td>\n",
       "      <td>-9.452101</td>\n",
       "    </tr>\n",
       "    <tr>\n",
       "      <th>80</th>\n",
       "      <td>74</td>\n",
       "      <td>0.048</td>\n",
       "      <td>0.049</td>\n",
       "      <td>368</td>\n",
       "      <td>-2.187058</td>\n",
       "      <td>-9.447448</td>\n",
       "    </tr>\n",
       "  </tbody>\n",
       "</table>\n",
       "<p>81 rows × 6 columns</p>\n",
       "</div>"
      ],
      "text/plain": [
       "   param_n_estimators param_min_samples_leaf param_learning_rate  \\\n",
       "0                  64                  0.028               0.029   \n",
       "1                  69                  0.028               0.029   \n",
       "2                  74                  0.028               0.029   \n",
       "3                  64                  0.038               0.029   \n",
       "4                  69                  0.038               0.029   \n",
       "5                  74                  0.038               0.029   \n",
       "6                  64                  0.048               0.029   \n",
       "7                  69                  0.048               0.029   \n",
       "8                  74                  0.048               0.029   \n",
       "9                  64                  0.028               0.029   \n",
       "10                 69                  0.028               0.029   \n",
       "11                 74                  0.028               0.029   \n",
       "12                 64                  0.038               0.029   \n",
       "13                 69                  0.038               0.029   \n",
       "14                 74                  0.038               0.029   \n",
       "15                 64                  0.048               0.029   \n",
       "16                 69                  0.048               0.029   \n",
       "17                 74                  0.048               0.029   \n",
       "18                 64                  0.028               0.029   \n",
       "19                 69                  0.028               0.029   \n",
       "20                 74                  0.028               0.029   \n",
       "21                 64                  0.038               0.029   \n",
       "22                 69                  0.038               0.029   \n",
       "23                 74                  0.038               0.029   \n",
       "24                 64                  0.048               0.029   \n",
       "25                 69                  0.048               0.029   \n",
       "26                 74                  0.048               0.029   \n",
       "27                 64                  0.028               0.039   \n",
       "28                 69                  0.028               0.039   \n",
       "29                 74                  0.028               0.039   \n",
       "..                ...                    ...                 ...   \n",
       "51                 64                  0.048               0.039   \n",
       "52                 69                  0.048               0.039   \n",
       "53                 74                  0.048               0.039   \n",
       "54                 64                  0.028               0.049   \n",
       "55                 69                  0.028               0.049   \n",
       "56                 74                  0.028               0.049   \n",
       "57                 64                  0.038               0.049   \n",
       "58                 69                  0.038               0.049   \n",
       "59                 74                  0.038               0.049   \n",
       "60                 64                  0.048               0.049   \n",
       "61                 69                  0.048               0.049   \n",
       "62                 74                  0.048               0.049   \n",
       "63                 64                  0.028               0.049   \n",
       "64                 69                  0.028               0.049   \n",
       "65                 74                  0.028               0.049   \n",
       "66                 64                  0.038               0.049   \n",
       "67                 69                  0.038               0.049   \n",
       "68                 74                  0.038               0.049   \n",
       "69                 64                  0.048               0.049   \n",
       "70                 69                  0.048               0.049   \n",
       "71                 74                  0.048               0.049   \n",
       "72                 64                  0.028               0.049   \n",
       "73                 69                  0.028               0.049   \n",
       "74                 74                  0.028               0.049   \n",
       "75                 64                  0.038               0.049   \n",
       "76                 69                  0.038               0.049   \n",
       "77                 74                  0.038               0.049   \n",
       "78                 64                  0.048               0.049   \n",
       "79                 69                  0.048               0.049   \n",
       "80                 74                  0.048               0.049   \n",
       "\n",
       "   param_max_features  split0_test_neg_mean_absolute_error  \\\n",
       "0                 348                            -2.196979   \n",
       "1                 348                            -2.195393   \n",
       "2                 348                            -2.195763   \n",
       "3                 348                            -2.202228   \n",
       "4                 348                            -2.199899   \n",
       "5                 348                            -2.198757   \n",
       "6                 348                            -2.202961   \n",
       "7                 348                            -2.199384   \n",
       "8                 348                            -2.197725   \n",
       "9                 358                            -2.197357   \n",
       "10                358                            -2.195545   \n",
       "11                358                            -2.194050   \n",
       "12                358                            -2.200540   \n",
       "13                358                            -2.198561   \n",
       "14                358                            -2.197049   \n",
       "15                358                            -2.201914   \n",
       "16                358                            -2.198732   \n",
       "17                358                            -2.195452   \n",
       "18                368                            -2.196523   \n",
       "19                368                            -2.193438   \n",
       "20                368                            -2.190437   \n",
       "21                368                            -2.200006   \n",
       "22                368                            -2.198933   \n",
       "23                368                            -2.196239   \n",
       "24                368                            -2.199073   \n",
       "25                368                            -2.198040   \n",
       "26                368                            -2.195600   \n",
       "27                348                            -2.187695   \n",
       "28                348                            -2.184122   \n",
       "29                348                            -2.180211   \n",
       "..                ...                                  ...   \n",
       "51                368                            -2.187692   \n",
       "52                368                            -2.186848   \n",
       "53                368                            -2.185377   \n",
       "54                348                            -2.182408   \n",
       "55                348                            -2.181243   \n",
       "56                348                            -2.179461   \n",
       "57                348                            -2.189795   \n",
       "58                348                            -2.189015   \n",
       "59                348                            -2.188743   \n",
       "60                348                            -2.191852   \n",
       "61                348                            -2.191201   \n",
       "62                348                            -2.189560   \n",
       "63                358                            -2.180108   \n",
       "64                358                            -2.177854   \n",
       "65                358                            -2.178193   \n",
       "66                358                            -2.193136   \n",
       "67                358                            -2.191661   \n",
       "68                358                            -2.190453   \n",
       "69                358                            -2.192795   \n",
       "70                358                            -2.189626   \n",
       "71                358                            -2.190166   \n",
       "72                368                            -2.183085   \n",
       "73                368                            -2.182423   \n",
       "74                368                            -2.181189   \n",
       "75                368                            -2.185251   \n",
       "76                368                            -2.184689   \n",
       "77                368                            -2.182805   \n",
       "78                368                            -2.189293   \n",
       "79                368                            -2.190668   \n",
       "80                368                            -2.187058   \n",
       "\n",
       "    split0_test_neg_mean_squared_error  \n",
       "0                            -9.440739  \n",
       "1                            -9.440306  \n",
       "2                            -9.438275  \n",
       "3                            -9.451630  \n",
       "4                            -9.449654  \n",
       "5                            -9.440924  \n",
       "6                            -9.473933  \n",
       "7                            -9.455482  \n",
       "8                            -9.448188  \n",
       "9                            -9.439963  \n",
       "10                           -9.431168  \n",
       "11                           -9.427612  \n",
       "12                           -9.444893  \n",
       "13                           -9.438603  \n",
       "14                           -9.438819  \n",
       "15                           -9.462274  \n",
       "16                           -9.452429  \n",
       "17                           -9.437850  \n",
       "18                           -9.437354  \n",
       "19                           -9.434111  \n",
       "20                           -9.421162  \n",
       "21                           -9.465014  \n",
       "22                           -9.457622  \n",
       "23                           -9.451884  \n",
       "24                           -9.450735  \n",
       "25                           -9.441086  \n",
       "26                           -9.429482  \n",
       "27                           -9.407788  \n",
       "28                           -9.396476  \n",
       "29                           -9.397732  \n",
       "..                                 ...  \n",
       "51                           -9.425439  \n",
       "52                           -9.422616  \n",
       "53                           -9.415541  \n",
       "54                           -9.416132  \n",
       "55                           -9.418336  \n",
       "56                           -9.422386  \n",
       "57                           -9.411142  \n",
       "58                           -9.419137  \n",
       "59                           -9.434520  \n",
       "60                           -9.453072  \n",
       "61                           -9.459167  \n",
       "62                           -9.458684  \n",
       "63                           -9.419698  \n",
       "64                           -9.415416  \n",
       "65                           -9.424099  \n",
       "66                           -9.428298  \n",
       "67                           -9.434468  \n",
       "68                           -9.445817  \n",
       "69                           -9.428439  \n",
       "70                           -9.434476  \n",
       "71                           -9.439467  \n",
       "72                           -9.406690  \n",
       "73                           -9.420014  \n",
       "74                           -9.419622  \n",
       "75                           -9.415029  \n",
       "76                           -9.426947  \n",
       "77                           -9.428190  \n",
       "78                           -9.435349  \n",
       "79                           -9.452101  \n",
       "80                           -9.447448  \n",
       "\n",
       "[81 rows x 6 columns]"
      ]
     },
     "execution_count": 75,
     "metadata": {},
     "output_type": "execute_result"
    }
   ],
   "source": [
    "gs_model_df = pd.DataFrame(gs_model.cv_results_)[[\n",
    "    'param_n_estimators','param_min_samples_leaf','param_learning_rate','param_max_features',\n",
    "    'split0_test_neg_mean_absolute_error',\n",
    "    'split0_test_neg_mean_squared_error'\n",
    "]]\n",
    "gs_model_df"
   ]
  },
  {
   "cell_type": "code",
   "execution_count": 76,
   "metadata": {
    "ExecuteTime": {
     "end_time": "2019-07-11T15:41:40.034069Z",
     "start_time": "2019-07-11T15:41:39.913812Z"
    }
   },
   "outputs": [
    {
     "data": {
      "text/html": [
       "<div>\n",
       "<style scoped>\n",
       "    .dataframe tbody tr th:only-of-type {\n",
       "        vertical-align: middle;\n",
       "    }\n",
       "\n",
       "    .dataframe tbody tr th {\n",
       "        vertical-align: top;\n",
       "    }\n",
       "\n",
       "    .dataframe thead th {\n",
       "        text-align: right;\n",
       "    }\n",
       "</style>\n",
       "<table border=\"1\" class=\"dataframe\">\n",
       "  <thead>\n",
       "    <tr style=\"text-align: right;\">\n",
       "      <th></th>\n",
       "      <th>param_n_estimators</th>\n",
       "      <th>param_min_samples_leaf</th>\n",
       "      <th>param_learning_rate</th>\n",
       "      <th>param_max_features</th>\n",
       "      <th>split0_test_neg_mean_absolute_error</th>\n",
       "      <th>split0_test_neg_mean_squared_error</th>\n",
       "    </tr>\n",
       "  </thead>\n",
       "  <tbody>\n",
       "    <tr>\n",
       "      <th>46</th>\n",
       "      <td>69</td>\n",
       "      <td>0.028</td>\n",
       "      <td>0.039</td>\n",
       "      <td>368</td>\n",
       "      <td>-2.180896</td>\n",
       "      <td>-9.379271</td>\n",
       "    </tr>\n",
       "  </tbody>\n",
       "</table>\n",
       "</div>"
      ],
      "text/plain": [
       "   param_n_estimators param_min_samples_leaf param_learning_rate  \\\n",
       "46                 69                  0.028               0.039   \n",
       "\n",
       "   param_max_features  split0_test_neg_mean_absolute_error  \\\n",
       "46                368                            -2.180896   \n",
       "\n",
       "    split0_test_neg_mean_squared_error  \n",
       "46                           -9.379271  "
      ]
     },
     "execution_count": 76,
     "metadata": {},
     "output_type": "execute_result"
    }
   ],
   "source": [
    "gs_model_df[\n",
    "    gs_model_df['split0_test_neg_mean_squared_error'] == \\\n",
    "    gs_model_df['split0_test_neg_mean_squared_error'].max()]\n"
   ]
  },
  {
   "cell_type": "markdown",
   "metadata": {},
   "source": [
    "# Evaluating model"
   ]
  },
  {
   "cell_type": "code",
   "execution_count": 77,
   "metadata": {
    "ExecuteTime": {
     "end_time": "2019-07-11T15:43:02.812074Z",
     "start_time": "2019-07-11T15:43:01.093993Z"
    }
   },
   "outputs": [
    {
     "data": {
      "text/plain": [
       "GradientBoostingRegressor(alpha=0.9, criterion='mse', init=None,\n",
       "                          learning_rate=0.039, loss='ls', max_depth=3,\n",
       "                          max_features=368, max_leaf_nodes=None,\n",
       "                          min_impurity_decrease=0.0, min_impurity_split=None,\n",
       "                          min_samples_leaf=0.028, min_samples_split=2,\n",
       "                          min_weight_fraction_leaf=0.0, n_estimators=69,\n",
       "                          n_iter_no_change=None, presort='auto', random_state=0,\n",
       "                          subsample=1.0, tol=0.0001, validation_fraction=0.1,\n",
       "                          verbose=0, warm_start=False)"
      ]
     },
     "execution_count": 77,
     "metadata": {},
     "output_type": "execute_result"
    }
   ],
   "source": [
    "model = GradientBoostingRegressor(\n",
    "    n_estimators=69, min_samples_leaf=0.028, learning_rate=0.039, max_features=368,\n",
    "    criterion='mse', random_state=0)\n",
    "model.fit(X_train, y_train.ravel())"
   ]
  },
  {
   "cell_type": "code",
   "execution_count": 78,
   "metadata": {
    "ExecuteTime": {
     "end_time": "2019-07-11T15:43:03.732071Z",
     "start_time": "2019-07-11T15:43:03.722619Z"
    }
   },
   "outputs": [
    {
     "data": {
      "text/plain": [
       "(2.1808961583839754, 9.379271371210882)"
      ]
     },
     "execution_count": 78,
     "metadata": {},
     "output_type": "execute_result"
    }
   ],
   "source": [
    "# get predictions for test set\n",
    "y_pred = model.predict(X_test).flatten()\n",
    "\n",
    "# calculate cross entropy loss for test set\n",
    "test_loss = (mean_absolute_error(y_test, y_pred), mean_squared_error(y_test, y_pred))\n",
    "test_loss"
   ]
  },
  {
   "cell_type": "code",
   "execution_count": 79,
   "metadata": {
    "ExecuteTime": {
     "end_time": "2019-07-11T15:43:07.698324Z",
     "start_time": "2019-07-11T15:43:07.672808Z"
    }
   },
   "outputs": [
    {
     "data": {
      "text/plain": [
       "count    948.000000\n",
       "mean       2.700595\n",
       "std        0.830098\n",
       "min        1.240172\n",
       "25%        2.089869\n",
       "50%        2.580462\n",
       "75%        3.144960\n",
       "max        6.185113\n",
       "dtype: float64"
      ]
     },
     "execution_count": 79,
     "metadata": {},
     "output_type": "execute_result"
    }
   ],
   "source": [
    "pd.Series(y_pred).describe()"
   ]
  },
  {
   "cell_type": "code",
   "execution_count": 81,
   "metadata": {
    "ExecuteTime": {
     "end_time": "2019-07-11T15:43:25.948485Z",
     "start_time": "2019-07-11T15:43:23.638597Z"
    }
   },
   "outputs": [
    {
     "data": {
      "text/plain": [
       "GradientBoostingRegressor(alpha=0.9, criterion='mse', init=None,\n",
       "                          learning_rate=0.039, loss='ls', max_depth=3,\n",
       "                          max_features=368, max_leaf_nodes=None,\n",
       "                          min_impurity_decrease=0.0, min_impurity_split=None,\n",
       "                          min_samples_leaf=0.028, min_samples_split=2,\n",
       "                          min_weight_fraction_leaf=0.0, n_estimators=69,\n",
       "                          n_iter_no_change=None, presort='auto', random_state=0,\n",
       "                          subsample=1.0, tol=0.0001, validation_fraction=0.1,\n",
       "                          verbose=0, warm_start=False)"
      ]
     },
     "execution_count": 81,
     "metadata": {},
     "output_type": "execute_result"
    }
   ],
   "source": [
    "# refit model on all data\n",
    "model_full = GradientBoostingRegressor(\n",
    "    n_estimators=69, min_samples_leaf=0.028, learning_rate=0.039, max_features=368,\n",
    "    criterion='mse', random_state=0)\n",
    "model_full.fit(X, y.ravel())"
   ]
  },
  {
   "cell_type": "code",
   "execution_count": 82,
   "metadata": {
    "ExecuteTime": {
     "end_time": "2019-07-11T15:43:25.968762Z",
     "start_time": "2019-07-11T15:43:25.951229Z"
    }
   },
   "outputs": [
    {
     "data": {
      "text/plain": [
       "(2.086574866604868, 8.154317776571567)"
      ]
     },
     "execution_count": 82,
     "metadata": {},
     "output_type": "execute_result"
    }
   ],
   "source": [
    "# get predictions for whole set\n",
    "y_pred_full = model_full.predict(X).flatten()\n",
    "\n",
    "# calculate cross entropy loss for test set\n",
    "test_loss_full = (mean_absolute_error(y, y_pred_full), mean_squared_error(y, y_pred_full))\n",
    "test_loss_full"
   ]
  },
  {
   "cell_type": "code",
   "execution_count": 83,
   "metadata": {
    "ExecuteTime": {
     "end_time": "2019-07-11T15:43:27.902595Z",
     "start_time": "2019-07-11T15:43:27.880185Z"
    }
   },
   "outputs": [
    {
     "data": {
      "text/plain": [
       "count    3644.000000\n",
       "mean        2.869374\n",
       "std         0.853316\n",
       "min         1.279665\n",
       "25%         2.227946\n",
       "50%         2.783808\n",
       "75%         3.323709\n",
       "max         6.691393\n",
       "dtype: float64"
      ]
     },
     "execution_count": 83,
     "metadata": {},
     "output_type": "execute_result"
    }
   ],
   "source": [
    "pd.Series(y_pred_full).describe()"
   ]
  },
  {
   "cell_type": "code",
   "execution_count": 84,
   "metadata": {
    "ExecuteTime": {
     "end_time": "2019-07-11T15:43:30.595110Z",
     "start_time": "2019-07-11T15:43:30.575503Z"
    }
   },
   "outputs": [
    {
     "data": {
      "text/plain": [
       "count    3644.000000\n",
       "mean        2.086575\n",
       "std         1.949761\n",
       "min         0.000806\n",
       "25%         0.816839\n",
       "50%         1.634461\n",
       "75%         2.696277\n",
       "max        14.739865\n",
       "dtype: float64"
      ]
     },
     "execution_count": 84,
     "metadata": {},
     "output_type": "execute_result"
    }
   ],
   "source": [
    "abs(pd.Series(y.ravel()) - pd.Series(y_pred_full)).describe()"
   ]
  },
  {
   "cell_type": "code",
   "execution_count": 85,
   "metadata": {
    "ExecuteTime": {
     "end_time": "2019-07-11T15:43:32.125942Z",
     "start_time": "2019-07-11T15:43:31.476577Z"
    }
   },
   "outputs": [
    {
     "data": {
      "image/png": "[encoded data removed]",
      "text/plain": [
       "<Figure size 720x576 with 1 Axes>"
      ]
     },
     "metadata": {
      "needs_background": "light"
     },
     "output_type": "display_data"
    }
   ],
   "source": [
    "plt.figure(figsize=(10, 8))\n",
    "plt.hist(pd.Series(y_pred_full), bins=25, alpha=0.75, density=True, label='predicted')\n",
    "plt.hist(pd.Series(y.ravel()), bins=25, alpha=0.75, density=True, label='observed')\n",
    "plt.legend()\n",
    "plt.show()"
   ]
  },
  {
   "cell_type": "code",
   "execution_count": 87,
   "metadata": {
    "ExecuteTime": {
     "end_time": "2019-07-11T15:44:04.218175Z",
     "start_time": "2019-07-11T15:44:03.719931Z"
    }
   },
   "outputs": [
    {
     "data": {
      "image/png": "[encoded data removed]",
      "text/plain": [
       "<Figure size 720x576 with 1 Axes>"
      ]
     },
     "metadata": {
      "needs_background": "light"
     },
     "output_type": "display_data"
    }
   ],
   "source": [
    "plt.figure(figsize=(10, 8))\n",
    "plt.scatter(pd.Series(y.ravel()), pd.Series(y_pred_full), alpha=0.25)\n",
    "plt.plot(np.linspace(-5, 25), np.linspace(-5, 25))\n",
    "plt.ylabel('Predicted total points')\n",
    "plt.xlabel('Observed total points')\n",
    "plt.ylim((0, 8))\n",
    "plt.show()"
   ]
  }
 ],
 "metadata": {
  "kernelspec": {
   "display_name": "Python 3",
   "language": "python",
   "name": "python3"
  },
  "language_info": {
   "codemirror_mode": {
    "name": "ipython",
    "version": 3
   },
   "file_extension": ".py",
   "mimetype": "text/x-python",
   "name": "python",
   "nbconvert_exporter": "python",
   "pygments_lexer": "ipython3",
   "version": "3.6.7"
  },
  "toc": {
   "nav_menu": {},
   "number_sections": true,
   "sideBar": true,
   "skip_h1_title": false,
   "title_cell": "Table of Contents",
   "title_sidebar": "Contents",
   "toc_cell": false,
   "toc_position": {},
   "toc_section_display": true,
   "toc_window_display": false
  }
 },
 "nbformat": 4,
 "nbformat_minor": 2
}
