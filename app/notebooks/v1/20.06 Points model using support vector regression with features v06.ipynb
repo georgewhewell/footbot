{
 "cells": [
  {
   "cell_type": "markdown",
   "metadata": {},
   "source": [
    "# Set up"
   ]
  },
  {
   "cell_type": "code",
   "execution_count": 1,
   "metadata": {
    "ExecuteTime": {
     "end_time": "2019-08-11T08:55:52.627270Z",
     "start_time": "2019-08-11T08:55:51.382271Z"
    }
   },
   "outputs": [
    {
     "name": "stderr",
     "output_type": "stream",
     "text": [
      "/home/tom/footbot/venv/lib/python3.6/site-packages/sklearn/externals/joblib/__init__.py:15: DeprecationWarning: sklearn.externals.joblib is deprecated in 0.21 and will be removed in 0.23. Please import this functionality directly from joblib, which can be installed with: pip install joblib. If this warning is raised when loading pickled models, you may need to re-serialize those models with scikit-learn 0.21+.\n",
      "  warnings.warn(msg, category=DeprecationWarning)\n"
     ]
    }
   ],
   "source": [
    "import pandas as pd\n",
    "import patsy\n",
    "import numpy as np\n",
    "from sklearn.svm import SVR\n",
    "from sklearn.preprocessing import StandardScaler\n",
    "from sklearn.model_selection import PredefinedSplit, GridSearchCV, cross_val_score\n",
    "from sklearn.decomposition import PCA\n",
    "from skopt.space import Real, Integer\n",
    "from skopt.utils import use_named_args\n",
    "from skopt import gp_minimize\n",
    "from sklearn.feature_selection import RFECV\n",
    "from sklearn.metrics import mean_absolute_error, mean_squared_error, r2_score\n",
    "import matplotlib.pyplot as plt"
   ]
  },
  {
   "cell_type": "code",
   "execution_count": 112,
   "metadata": {
    "ExecuteTime": {
     "end_time": "2019-08-17T15:17:15.390349Z",
     "start_time": "2019-08-17T15:17:15.384214Z"
    }
   },
   "outputs": [],
   "source": [
    "pd.set_option('max_colwidth', 100)"
   ]
  },
  {
   "cell_type": "markdown",
   "metadata": {
    "heading_collapsed": true
   },
   "source": [
    "# Getting data"
   ]
  },
  {
   "cell_type": "code",
   "execution_count": 2,
   "metadata": {
    "ExecuteTime": {
     "end_time": "2019-08-11T08:55:52.633957Z",
     "start_time": "2019-08-11T08:55:52.630563Z"
    },
    "hidden": true
   },
   "outputs": [],
   "source": [
    "file_name = '../csvs/element_gameweek_features_v06.csv'"
   ]
  },
  {
   "cell_type": "code",
   "execution_count": 3,
   "metadata": {
    "ExecuteTime": {
     "end_time": "2019-08-11T08:55:53.020023Z",
     "start_time": "2019-08-11T08:55:52.636243Z"
    },
    "hidden": true
   },
   "outputs": [],
   "source": [
    "element_gameweek_df = pd.read_csv(file_name)"
   ]
  },
  {
   "cell_type": "code",
   "execution_count": 4,
   "metadata": {
    "ExecuteTime": {
     "end_time": "2019-08-11T08:55:53.027295Z",
     "start_time": "2019-08-11T08:55:53.024113Z"
    },
    "hidden": true
   },
   "outputs": [],
   "source": [
    "current_event = 20"
   ]
  },
  {
   "cell_type": "code",
   "execution_count": 5,
   "metadata": {
    "ExecuteTime": {
     "end_time": "2019-08-11T08:55:53.053302Z",
     "start_time": "2019-08-11T08:55:53.030969Z"
    },
    "hidden": true
   },
   "outputs": [],
   "source": [
    "last_train_event = 15"
   ]
  },
  {
   "cell_type": "code",
   "execution_count": 6,
   "metadata": {
    "ExecuteTime": {
     "end_time": "2019-08-11T08:55:53.086108Z",
     "start_time": "2019-08-11T08:55:53.055643Z"
    },
    "hidden": true
   },
   "outputs": [],
   "source": [
    "element_gameweek_df =\\\n",
    "element_gameweek_df[\n",
    "    (element_gameweek_df['event'] <= current_event)\n",
    "]"
   ]
  },
  {
   "cell_type": "code",
   "execution_count": 7,
   "metadata": {
    "ExecuteTime": {
     "end_time": "2019-08-11T08:55:57.413717Z",
     "start_time": "2019-08-11T08:55:53.089407Z"
    },
    "hidden": true
   },
   "outputs": [],
   "source": [
    "element_gameweek_df.fillna(\n",
    "    element_gameweek_df[element_gameweek_df['event'] <= last_train_event].mean(),\n",
    "    inplace=True\n",
    ")"
   ]
  },
  {
   "cell_type": "code",
   "execution_count": 8,
   "metadata": {
    "ExecuteTime": {
     "end_time": "2019-08-11T08:55:57.428248Z",
     "start_time": "2019-08-11T08:55:57.418347Z"
    },
    "hidden": true
   },
   "outputs": [],
   "source": [
    "element_gameweek_df = element_gameweek_df[element_gameweek_df['rolling_avg_minutes_element_p3'] >= 60]"
   ]
  },
  {
   "cell_type": "markdown",
   "metadata": {
    "heading_collapsed": true
   },
   "source": [
    "# Modelling data"
   ]
  },
  {
   "cell_type": "markdown",
   "metadata": {
    "heading_collapsed": true,
    "hidden": true
   },
   "source": [
    "## Splitting data"
   ]
  },
  {
   "cell_type": "code",
   "execution_count": 9,
   "metadata": {
    "ExecuteTime": {
     "end_time": "2019-08-11T08:55:57.501435Z",
     "start_time": "2019-08-11T08:55:57.430890Z"
    },
    "hidden": true
   },
   "outputs": [],
   "source": [
    "test_fold = [-1 if i <= last_train_event else 0 for i in element_gameweek_df['event']]\n",
    "ps = PredefinedSplit(test_fold)"
   ]
  },
  {
   "cell_type": "code",
   "execution_count": 10,
   "metadata": {
    "ExecuteTime": {
     "end_time": "2019-08-11T08:55:57.535411Z",
     "start_time": "2019-08-11T08:55:57.503671Z"
    },
    "hidden": true
   },
   "outputs": [],
   "source": [
    "for train_index, test_index in ps.split():\n",
    "    element_gameweek_df_train, element_gameweek_df_test = \\\n",
    "    element_gameweek_df.copy().iloc[train_index], element_gameweek_df.copy().iloc[test_index]"
   ]
  },
  {
   "cell_type": "markdown",
   "metadata": {
    "heading_collapsed": true,
    "hidden": true
   },
   "source": [
    "## Scaling data"
   ]
  },
  {
   "cell_type": "code",
   "execution_count": 11,
   "metadata": {
    "ExecuteTime": {
     "end_time": "2019-08-11T08:55:57.562989Z",
     "start_time": "2019-08-11T08:55:57.537626Z"
    },
    "hidden": true
   },
   "outputs": [
    {
     "data": {
      "text/plain": [
       "['value',\n",
       " 'rolling_avg_total_points_element',\n",
       " 'rolling_max_total_points_element',\n",
       " 'rolling_avg_bps_element',\n",
       " 'rolling_avg_bonus_element',\n",
       " 'rolling_avg_goals_scored_element',\n",
       " 'rolling_avg_minutes_element',\n",
       " 'rolling_avg_clean_sheets_element',\n",
       " 'rolling_avg_completed_passes_element',\n",
       " 'rolling_avg_recoveries_element',\n",
       " 'rolling_avg_assists_element',\n",
       " 'rolling_avg_key_passes_element',\n",
       " 'rolling_avg_winning_goals_element',\n",
       " 'rolling_avg_tackled_element',\n",
       " 'rolling_avg_dribbles_element',\n",
       " 'rolling_avg_clearances_blocks_interceptions_element',\n",
       " 'rolling_avg_big_chances_created_element',\n",
       " 'rolling_avg_target_missed_element',\n",
       " 'rolling_avg_fouls_element',\n",
       " 'rolling_avg_tackles_element',\n",
       " 'rolling_avg_open_play_crosses_element',\n",
       " 'rolling_avg_offside_element',\n",
       " 'rolling_avg_big_chances_missed_element',\n",
       " 'rolling_avg_saves_element',\n",
       " 'rolling_avg_goals_conceded_element',\n",
       " 'rolling_avg_attempted_passes_element',\n",
       " 'rolling_avg_errors_leading_to_goal_element',\n",
       " 'rolling_avg_errors_leading_to_goal_attempt_element',\n",
       " 'rolling_avg_own_goals_element',\n",
       " 'rolling_avg_penalties_concededd_element',\n",
       " 'rolling_avg_penalties_missed_element',\n",
       " 'rolling_avg_penalties_saved_element',\n",
       " 'rolling_avg_red_cards_element',\n",
       " 'rolling_avg_yellow_cards_element',\n",
       " 'rolling_avg_minutes_element_p3',\n",
       " 'rolling_avg_total_points_element_p3',\n",
       " 'rolling_avg_total_points_own_team',\n",
       " 'rolling_avg_total_points_element_home',\n",
       " 'rolling_avg_total_points_element_away',\n",
       " 'expected_total_points_element_home_away',\n",
       " 'rolling_avg_total_points_opposition_team',\n",
       " 'rolling_avg_goals_scored_opposition_team',\n",
       " 'rolling_avg_goals_conceded_opposition_team',\n",
       " 'rolling_avg_total_points_element_type',\n",
       " 'rolling_avg_total_points_against_opposition_team',\n",
       " 'rolling_avg_total_points_against_opposition_team_element_type',\n",
       " 'expected_total_points_against_opposition_team',\n",
       " 'rolling_avg_total_points_against_opposition_team_element_type_home',\n",
       " 'rolling_avg_total_points_against_opposition_team_element_type_away',\n",
       " 'expected_total_points_against_opposition_team_home_away']"
      ]
     },
     "execution_count": 11,
     "metadata": {},
     "output_type": "execute_result"
    }
   ],
   "source": [
    "scaled_feature_cols = [\n",
    "    i for i in element_gameweek_df.columns if i not in [\n",
    "        'safe_web_name', 'element', 'event', 'fixture', 'team',\n",
    "        'opposition_team', 'element_type', 'was_home', 'is_sunday',\n",
    "        'is_weekday', 'is_late', 'is_early', 'has_high_points_ever_element',\n",
    "        'total_points', 'minutes', 'rolling_value_points'\n",
    "    ]\n",
    "]\n",
    "\n",
    "scaled_feature_cols"
   ]
  },
  {
   "cell_type": "code",
   "execution_count": 12,
   "metadata": {
    "ExecuteTime": {
     "end_time": "2019-08-11T08:55:57.916826Z",
     "start_time": "2019-08-11T08:55:57.565009Z"
    },
    "hidden": true
   },
   "outputs": [],
   "source": [
    "scaled_df_train = element_gameweek_df_train.copy()\n",
    "scaled_df_test = element_gameweek_df_test.copy()\n",
    "scaled_df = element_gameweek_df.copy()\n",
    "\n",
    "scaler = StandardScaler().fit(scaled_df_train[scaled_feature_cols].values)\n",
    "\n",
    "scaled_df_train = scaler.transform(scaled_df_train[scaled_feature_cols].values)\n",
    "scaled_df_test = scaler.transform(scaled_df_test[scaled_feature_cols].values)\n",
    "scaled_df = scaler.transform(scaled_df[scaled_feature_cols].values)\n",
    "\n",
    "element_gameweek_df_train[scaled_feature_cols] = scaled_df_train\n",
    "element_gameweek_df_test[scaled_feature_cols] = scaled_df_test\n",
    "element_gameweek_df[scaled_feature_cols] = scaled_df"
   ]
  },
  {
   "cell_type": "markdown",
   "metadata": {
    "heading_collapsed": true,
    "hidden": true
   },
   "source": [
    "## Building model"
   ]
  },
  {
   "cell_type": "code",
   "execution_count": 13,
   "metadata": {
    "ExecuteTime": {
     "end_time": "2019-08-11T08:55:57.932049Z",
     "start_time": "2019-08-11T08:55:57.920620Z"
    },
    "hidden": true
   },
   "outputs": [],
   "source": [
    "formula = \\\n",
    "'total_points ~ C(element_type) + C(team) + C(opposition_team) + ' + \\\n",
    "' + '.join([i for i in element_gameweek_df.columns if i not in\n",
    " [\n",
    "     'safe_web_name',\n",
    "     'element',\n",
    "     'event',\n",
    "     'fixture',\n",
    "     'team',\n",
    "     'opposition_team',\n",
    "     'element_type',\n",
    "     'minutes',\n",
    "     'rolling_value_points',\n",
    "     'total_points',\n",
    "     \n",
    "     'expected_total_points_against_opposition_team',\n",
    "     'rolling_avg_total_points_element_home',\n",
    "     'rolling_max_total_points_element',\n",
    "     'rolling_avg_bps_element',\n",
    "     'expected_total_points_element_home_away',\n",
    "     'rolling_avg_total_points_element_away',\n",
    "     'rolling_avg_total_points_own_team',\n",
    "     'rolling_avg_total_points_against_opposition_team',\n",
    "     'rolling_avg_minutes_element',\n",
    "     'rolling_avg_total_points_opposition_team',\n",
    "     'rolling_avg_dribbles_element',\n",
    "     'rolling_avg_total_points_against_opposition_team_element_type',\n",
    "     'rolling_avg_total_points_against_opposition_team_element_type_away',\n",
    "     'rolling_avg_total_points_against_opposition_team_element_type_home',\n",
    "     'rolling_avg_goals_conceded_element',\n",
    "     'rolling_avg_completed_passes_element',\n",
    "     'rolling_avg_total_points_element_type',\n",
    "     'rolling_avg_recoveries_element',\n",
    " ]])"
   ]
  },
  {
   "cell_type": "code",
   "execution_count": 14,
   "metadata": {
    "ExecuteTime": {
     "end_time": "2019-08-11T08:55:57.994026Z",
     "start_time": "2019-08-11T08:55:57.935984Z"
    },
    "hidden": true
   },
   "outputs": [
    {
     "name": "stdout",
     "output_type": "stream",
     "text": [
      "total_points ~ C(element_type) + C(team) + C(opposition_team) + was_home + is_sunday + is_weekday + is_early + is_late + value + rolling_avg_total_points_element + has_high_points_ever_element + rolling_avg_bonus_element + rolling_avg_goals_scored_element + rolling_avg_clean_sheets_element + rolling_avg_assists_element + rolling_avg_key_passes_element + rolling_avg_winning_goals_element + rolling_avg_tackled_element + rolling_avg_clearances_blocks_interceptions_element + rolling_avg_big_chances_created_element + rolling_avg_target_missed_element + rolling_avg_fouls_element + rolling_avg_tackles_element + rolling_avg_open_play_crosses_element + rolling_avg_offside_element + rolling_avg_big_chances_missed_element + rolling_avg_saves_element + rolling_avg_attempted_passes_element + rolling_avg_errors_leading_to_goal_element + rolling_avg_errors_leading_to_goal_attempt_element + rolling_avg_own_goals_element + rolling_avg_penalties_concededd_element + rolling_avg_penalties_missed_element + rolling_avg_penalties_saved_element + rolling_avg_red_cards_element + rolling_avg_yellow_cards_element + rolling_avg_minutes_element_p3 + rolling_avg_total_points_element_p3 + rolling_avg_goals_scored_opposition_team + rolling_avg_goals_conceded_opposition_team + expected_total_points_against_opposition_team_home_away\n"
     ]
    }
   ],
   "source": [
    "print(formula)"
   ]
  },
  {
   "cell_type": "code",
   "execution_count": 15,
   "metadata": {
    "ExecuteTime": {
     "end_time": "2019-08-11T08:55:58.278208Z",
     "start_time": "2019-08-11T08:55:57.998256Z"
    },
    "hidden": true
   },
   "outputs": [],
   "source": [
    "y, X = patsy.dmatrices(formula, element_gameweek_df, return_type='matrix')"
   ]
  },
  {
   "cell_type": "code",
   "execution_count": 16,
   "metadata": {
    "ExecuteTime": {
     "end_time": "2019-08-11T08:55:58.293207Z",
     "start_time": "2019-08-11T08:55:58.284125Z"
    },
    "hidden": true
   },
   "outputs": [],
   "source": [
    "for train_index, test_index in ps.split():\n",
    "    X_train, X_test = X[train_index], X[test_index]\n",
    "    y_train, y_test = y[train_index], y[test_index]"
   ]
  },
  {
   "cell_type": "markdown",
   "metadata": {
    "heading_collapsed": true,
    "hidden": true
   },
   "source": [
    "## Selecting features"
   ]
  },
  {
   "cell_type": "markdown",
   "metadata": {
    "heading_collapsed": true,
    "hidden": true
   },
   "source": [
    "### Linear kernel"
   ]
  },
  {
   "cell_type": "code",
   "execution_count": 17,
   "metadata": {
    "ExecuteTime": {
     "end_time": "2019-08-11T08:56:34.813163Z",
     "start_time": "2019-08-11T08:55:58.297129Z"
    },
    "hidden": true
   },
   "outputs": [
    {
     "name": "stdout",
     "output_type": "stream",
     "text": [
      "Fitting estimator with 80 features.\n",
      "Fitting estimator with 79 features.\n",
      "Fitting estimator with 78 features.\n",
      "Fitting estimator with 77 features.\n",
      "Fitting estimator with 76 features.\n",
      "Fitting estimator with 75 features.\n",
      "Fitting estimator with 74 features.\n",
      "Fitting estimator with 73 features.\n",
      "Fitting estimator with 72 features.\n",
      "Fitting estimator with 71 features.\n",
      "Fitting estimator with 70 features.\n",
      "Fitting estimator with 69 features.\n",
      "Fitting estimator with 68 features.\n",
      "Fitting estimator with 67 features.\n",
      "Fitting estimator with 66 features.\n",
      "Fitting estimator with 65 features.\n",
      "Fitting estimator with 64 features.\n",
      "Fitting estimator with 63 features.\n",
      "Fitting estimator with 62 features.\n",
      "Fitting estimator with 61 features.\n",
      "Fitting estimator with 60 features.\n",
      "Fitting estimator with 59 features.\n",
      "Fitting estimator with 58 features.\n",
      "Fitting estimator with 57 features.\n",
      "Fitting estimator with 56 features.\n",
      "Fitting estimator with 55 features.\n",
      "Fitting estimator with 54 features.\n",
      "Fitting estimator with 53 features.\n",
      "Fitting estimator with 52 features.\n",
      "Fitting estimator with 51 features.\n",
      "Fitting estimator with 50 features.\n",
      "Fitting estimator with 49 features.\n",
      "Fitting estimator with 48 features.\n",
      "Fitting estimator with 47 features.\n",
      "Fitting estimator with 46 features.\n",
      "Fitting estimator with 45 features.\n",
      "Fitting estimator with 44 features.\n",
      "Fitting estimator with 43 features.\n",
      "Fitting estimator with 42 features.\n",
      "Fitting estimator with 41 features.\n",
      "Fitting estimator with 40 features.\n",
      "Fitting estimator with 39 features.\n",
      "Fitting estimator with 38 features.\n",
      "Fitting estimator with 37 features.\n",
      "Fitting estimator with 36 features.\n",
      "Fitting estimator with 35 features.\n",
      "Fitting estimator with 34 features.\n",
      "Fitting estimator with 33 features.\n",
      "Fitting estimator with 32 features.\n",
      "Fitting estimator with 31 features.\n",
      "Fitting estimator with 30 features.\n",
      "Fitting estimator with 29 features.\n",
      "Fitting estimator with 28 features.\n",
      "Fitting estimator with 27 features.\n",
      "Fitting estimator with 26 features.\n",
      "Fitting estimator with 25 features.\n",
      "Fitting estimator with 24 features.\n",
      "Fitting estimator with 23 features.\n",
      "Fitting estimator with 22 features.\n",
      "Fitting estimator with 21 features.\n",
      "Fitting estimator with 20 features.\n",
      "Fitting estimator with 19 features.\n",
      "Fitting estimator with 18 features.\n",
      "Fitting estimator with 17 features.\n",
      "Fitting estimator with 16 features.\n",
      "Fitting estimator with 15 features.\n",
      "Fitting estimator with 14 features.\n",
      "Fitting estimator with 13 features.\n",
      "Fitting estimator with 12 features.\n",
      "Fitting estimator with 11 features.\n",
      "Fitting estimator with 10 features.\n",
      "Fitting estimator with 9 features.\n",
      "Fitting estimator with 8 features.\n",
      "Fitting estimator with 7 features.\n",
      "Fitting estimator with 6 features.\n",
      "Fitting estimator with 5 features.\n",
      "Fitting estimator with 4 features.\n",
      "Fitting estimator with 3 features.\n",
      "Fitting estimator with 2 features.\n"
     ]
    },
    {
     "data": {
      "text/plain": [
       "RFECV(cv=PredefinedSplit(test_fold=array([-1, -1, ...,  0,  0])),\n",
       "      estimator=SVR(C=0.0123, cache_size=200, coef0=0.0, degree=3, epsilon=1.96,\n",
       "                    gamma='auto_deprecated', kernel='linear', max_iter=-1,\n",
       "                    shrinking=True, tol=0.001, verbose=False),\n",
       "      min_features_to_select=1, n_jobs=1, scoring='neg_mean_squared_error',\n",
       "      step=1, verbose=1)"
      ]
     },
     "execution_count": 17,
     "metadata": {},
     "output_type": "execute_result"
    }
   ],
   "source": [
    "linear_estimator = SVR(kernel='linear', epsilon=1.96, C=0.0123)\n",
    "linear_selector = RFECV(linear_estimator, step=1,\n",
    "                 scoring='neg_mean_squared_error',\n",
    "                 cv=ps, n_jobs=1, verbose=1)\n",
    "\n",
    "linear_selector.fit(\n",
    "    X,\n",
    "    y.ravel()\n",
    ")"
   ]
  },
  {
   "cell_type": "code",
   "execution_count": 18,
   "metadata": {
    "ExecuteTime": {
     "end_time": "2019-08-11T08:56:34.823103Z",
     "start_time": "2019-08-11T08:56:34.818209Z"
    },
    "hidden": true
   },
   "outputs": [
    {
     "data": {
      "text/plain": [
       "80"
      ]
     },
     "execution_count": 18,
     "metadata": {},
     "output_type": "execute_result"
    }
   ],
   "source": [
    "sum(linear_selector.support_)"
   ]
  },
  {
   "cell_type": "code",
   "execution_count": 19,
   "metadata": {
    "ExecuteTime": {
     "end_time": "2019-08-11T08:56:34.891971Z",
     "start_time": "2019-08-11T08:56:34.826063Z"
    },
    "hidden": true
   },
   "outputs": [
    {
     "data": {
      "text/plain": [
       "array([ True,  True,  True,  True,  True,  True,  True,  True,  True,\n",
       "        True,  True,  True,  True,  True,  True,  True,  True,  True,\n",
       "        True,  True,  True,  True,  True,  True,  True,  True,  True,\n",
       "        True,  True,  True,  True,  True,  True,  True,  True,  True,\n",
       "        True,  True,  True,  True,  True,  True,  True,  True,  True,\n",
       "        True,  True,  True,  True,  True,  True,  True,  True,  True,\n",
       "        True,  True,  True,  True,  True,  True,  True,  True,  True,\n",
       "        True,  True,  True,  True,  True,  True,  True,  True,  True,\n",
       "        True,  True,  True,  True,  True,  True,  True,  True])"
      ]
     },
     "execution_count": 19,
     "metadata": {},
     "output_type": "execute_result"
    }
   ],
   "source": [
    "linear_selector.support_"
   ]
  },
  {
   "cell_type": "code",
   "execution_count": 20,
   "metadata": {
    "ExecuteTime": {
     "end_time": "2019-08-11T08:56:34.921447Z",
     "start_time": "2019-08-11T08:56:34.896175Z"
    },
    "hidden": true
   },
   "outputs": [],
   "source": [
    "ridge_features_index = [\n",
    "    False, False, False, False, False, False, False, False, False, False,\n",
    "    False, False, False, False, True, False, False, False, False, False, False,\n",
    "    False, False, False, False, False, False, False, False, False, True, False,\n",
    "    False, True, False, False, False, False, False, False, False, False, False,\n",
    "    False, False, False, False, True, False, False, False, False, False, False,\n",
    "    True, False, False, False, False, False, False, False, False, False, True,\n",
    "    True, False, False, False, False, False, False, False, False, False, True,\n",
    "    False, True, False, True\n",
    "]"
   ]
  },
  {
   "cell_type": "code",
   "execution_count": 21,
   "metadata": {
    "ExecuteTime": {
     "end_time": "2019-08-11T08:56:34.948910Z",
     "start_time": "2019-08-11T08:56:34.925544Z"
    },
    "hidden": true
   },
   "outputs": [],
   "source": [
    "# X_sel = X[:,linear_selector.support_]\n",
    "# X_train_sel = X_train[:,linear_selector.support_]\n",
    "# X_test_sel = X_test[:,linear_selector.support_]\n",
    "\n",
    "X_sel = X[:,ridge_features_index]\n",
    "X_train_sel = X_train[:,ridge_features_index]\n",
    "X_test_sel = X_test[:,ridge_features_index]"
   ]
  },
  {
   "cell_type": "markdown",
   "metadata": {
    "heading_collapsed": true,
    "hidden": true
   },
   "source": [
    "## Tuning model"
   ]
  },
  {
   "cell_type": "markdown",
   "metadata": {
    "heading_collapsed": true,
    "hidden": true
   },
   "source": [
    "### GP tuner"
   ]
  },
  {
   "cell_type": "markdown",
   "metadata": {
    "ExecuteTime": {
     "end_time": "2019-07-12T10:34:24.743351Z",
     "start_time": "2019-07-12T10:34:24.740370Z"
    },
    "heading_collapsed": true,
    "hidden": true
   },
   "source": [
    "#### Linear kernel regression"
   ]
  },
  {
   "cell_type": "code",
   "execution_count": 30,
   "metadata": {
    "ExecuteTime": {
     "end_time": "2019-08-11T09:10:26.842135Z",
     "start_time": "2019-08-11T09:10:26.831492Z"
    },
    "hidden": true
   },
   "outputs": [],
   "source": [
    "linear_space  = [\n",
    "    Real(1, 3, 'uniform', name='epsilon'),\n",
    "    Real(10**-2, 10**1, 'log-uniform', name='C'),\n",
    "]"
   ]
  },
  {
   "cell_type": "code",
   "execution_count": 31,
   "metadata": {
    "ExecuteTime": {
     "end_time": "2019-08-11T09:10:27.574928Z",
     "start_time": "2019-08-11T09:10:27.567975Z"
    },
    "hidden": true
   },
   "outputs": [],
   "source": [
    "linear_gp_model = SVR(kernel='linear')\n",
    "\n",
    "@use_named_args(linear_space)\n",
    "def linear_objective(**params):\n",
    "    linear_gp_model.set_params(**params)\n",
    "\n",
    "    return -np.mean(\n",
    "        cross_val_score(\n",
    "            linear_gp_model,\n",
    "#             X,\n",
    "            X_sel,\n",
    "            y.ravel(),\n",
    "            cv=ps,\n",
    "            n_jobs=1,\n",
    "            scoring=\"neg_mean_squared_error\"))"
   ]
  },
  {
   "cell_type": "code",
   "execution_count": 32,
   "metadata": {
    "ExecuteTime": {
     "end_time": "2019-08-11T09:11:27.292811Z",
     "start_time": "2019-08-11T09:10:29.338550Z"
    },
    "hidden": true
   },
   "outputs": [
    {
     "name": "stdout",
     "output_type": "stream",
     "text": [
      "minimisation iteration 1\n",
      "Iteration No: 1 started. Evaluating function at random point.\n",
      "Iteration No: 1 ended. Evaluation done at random point.\n",
      "Time taken: 0.3893\n",
      "Function value obtained: 9.3513\n",
      "Current minimum: 9.3513\n",
      "Iteration No: 2 started. Evaluating function at random point.\n",
      "Iteration No: 2 ended. Evaluation done at random point.\n",
      "Time taken: 1.0992\n",
      "Function value obtained: 9.4998\n",
      "Current minimum: 9.3513\n",
      "Iteration No: 3 started. Evaluating function at random point.\n",
      "Iteration No: 3 ended. Evaluation done at random point.\n",
      "Time taken: 0.3695\n",
      "Function value obtained: 9.7350\n",
      "Current minimum: 9.3513\n",
      "Iteration No: 4 started. Evaluating function at random point.\n",
      "Iteration No: 4 ended. Evaluation done at random point.\n",
      "Time taken: 0.3931\n",
      "Function value obtained: 9.2802\n",
      "Current minimum: 9.2802\n",
      "Iteration No: 5 started. Evaluating function at random point.\n",
      "Iteration No: 5 ended. Evaluation done at random point.\n",
      "Time taken: 0.1998\n",
      "Function value obtained: 9.5990\n",
      "Current minimum: 9.2802\n",
      "Iteration No: 6 started. Evaluating function at random point.\n",
      "Iteration No: 6 ended. Evaluation done at random point.\n",
      "Time taken: 0.2212\n",
      "Function value obtained: 9.6302\n",
      "Current minimum: 9.2802\n",
      "Iteration No: 7 started. Evaluating function at random point.\n",
      "Iteration No: 7 ended. Evaluation done at random point.\n",
      "Time taken: 0.3233\n",
      "Function value obtained: 9.2875\n",
      "Current minimum: 9.2802\n",
      "Iteration No: 8 started. Evaluating function at random point.\n",
      "Iteration No: 8 ended. Evaluation done at random point.\n",
      "Time taken: 0.4155\n",
      "Function value obtained: 9.7730\n",
      "Current minimum: 9.2802\n",
      "Iteration No: 9 started. Evaluating function at random point.\n",
      "Iteration No: 9 ended. Evaluation done at random point.\n",
      "Time taken: 0.7921\n",
      "Function value obtained: 9.3062\n",
      "Current minimum: 9.2802\n",
      "Iteration No: 10 started. Evaluating function at random point.\n",
      "Iteration No: 10 ended. Evaluation done at random point.\n",
      "Time taken: 1.1064\n",
      "Function value obtained: 9.5333\n",
      "Current minimum: 9.2802\n",
      "Iteration No: 11 started. Searching for the next optimal point.\n",
      "Iteration No: 11 ended. Search finished for the next optimal point.\n",
      "Time taken: 0.7524\n",
      "Function value obtained: 9.4405\n",
      "Current minimum: 9.2802\n",
      "Iteration No: 12 started. Searching for the next optimal point.\n",
      "Iteration No: 12 ended. Search finished for the next optimal point.\n",
      "Time taken: 1.6271\n",
      "Function value obtained: 9.2805\n",
      "Current minimum: 9.2802\n",
      "Iteration No: 13 started. Searching for the next optimal point.\n",
      "Iteration No: 13 ended. Search finished for the next optimal point.\n",
      "Time taken: 1.6826\n",
      "Function value obtained: 9.2701\n",
      "Current minimum: 9.2701\n",
      "Iteration No: 14 started. Searching for the next optimal point.\n",
      "Iteration No: 14 ended. Search finished for the next optimal point.\n",
      "Time taken: 1.7530\n",
      "Function value obtained: 9.2892\n",
      "Current minimum: 9.2701\n",
      "Iteration No: 15 started. Searching for the next optimal point.\n",
      "Iteration No: 15 ended. Search finished for the next optimal point.\n",
      "Time taken: 1.1641\n",
      "Function value obtained: 9.2695\n",
      "Current minimum: 9.2695\n",
      "Iteration No: 16 started. Searching for the next optimal point.\n",
      "Iteration No: 16 ended. Search finished for the next optimal point.\n",
      "Time taken: 1.6631\n",
      "Function value obtained: 9.2717\n",
      "Current minimum: 9.2695\n",
      "Iteration No: 17 started. Searching for the next optimal point.\n",
      "Iteration No: 17 ended. Search finished for the next optimal point.\n",
      "Time taken: 1.2615\n",
      "Function value obtained: 9.2687\n",
      "Current minimum: 9.2687\n",
      "Iteration No: 18 started. Searching for the next optimal point.\n",
      "Iteration No: 18 ended. Search finished for the next optimal point.\n",
      "Time taken: 1.3792\n",
      "Function value obtained: 9.2686\n",
      "Current minimum: 9.2686\n",
      "Iteration No: 19 started. Searching for the next optimal point.\n",
      "Iteration No: 19 ended. Search finished for the next optimal point.\n",
      "Time taken: 0.9585\n",
      "Function value obtained: 9.4656\n",
      "Current minimum: 9.2686\n",
      "Iteration No: 20 started. Searching for the next optimal point.\n",
      "Iteration No: 20 ended. Search finished for the next optimal point.\n",
      "Time taken: 0.9013\n",
      "Function value obtained: 9.2747\n",
      "Current minimum: 9.2686\n",
      "Iteration No: 21 started. Searching for the next optimal point.\n",
      "Iteration No: 21 ended. Search finished for the next optimal point.\n",
      "Time taken: 0.9051\n",
      "Function value obtained: 9.2694\n",
      "Current minimum: 9.2686\n",
      "Iteration No: 22 started. Searching for the next optimal point.\n",
      "Iteration No: 22 ended. Search finished for the next optimal point.\n",
      "Time taken: 1.0171\n",
      "Function value obtained: 9.2748\n",
      "Current minimum: 9.2686\n",
      "Iteration No: 23 started. Searching for the next optimal point.\n",
      "Iteration No: 23 ended. Search finished for the next optimal point.\n",
      "Time taken: 0.9121\n",
      "Function value obtained: 9.3110\n",
      "Current minimum: 9.2686\n",
      "Iteration No: 24 started. Searching for the next optimal point.\n",
      "Iteration No: 24 ended. Search finished for the next optimal point.\n",
      "Time taken: 1.2160\n",
      "Function value obtained: 9.2680\n",
      "Current minimum: 9.2680\n",
      "Iteration No: 25 started. Searching for the next optimal point.\n",
      "Iteration No: 25 ended. Search finished for the next optimal point.\n",
      "Time taken: 1.1248\n",
      "Function value obtained: 9.3043\n",
      "Current minimum: 9.2680\n",
      "Iteration No: 26 started. Searching for the next optimal point.\n",
      "Iteration No: 26 ended. Search finished for the next optimal point.\n",
      "Time taken: 1.1959\n",
      "Function value obtained: 9.2734\n",
      "Current minimum: 9.2680\n",
      "Iteration No: 27 started. Searching for the next optimal point.\n",
      "Iteration No: 27 ended. Search finished for the next optimal point.\n",
      "Time taken: 1.1408\n",
      "Function value obtained: 9.2708\n",
      "Current minimum: 9.2680\n",
      "Iteration No: 28 started. Searching for the next optimal point.\n",
      "Iteration No: 28 ended. Search finished for the next optimal point.\n",
      "Time taken: 1.5187\n",
      "Function value obtained: 9.2665\n",
      "Current minimum: 9.2665\n",
      "Iteration No: 29 started. Searching for the next optimal point.\n",
      "Iteration No: 29 ended. Search finished for the next optimal point.\n",
      "Time taken: 1.0004\n",
      "Function value obtained: 9.9450\n",
      "Current minimum: 9.2665\n",
      "Iteration No: 30 started. Searching for the next optimal point.\n",
      "Iteration No: 30 ended. Search finished for the next optimal point.\n",
      "Time taken: 1.4176\n",
      "Function value obtained: 9.2679\n",
      "Current minimum: 9.2665\n",
      "Iteration No: 31 started. Searching for the next optimal point.\n",
      "Iteration No: 31 ended. Search finished for the next optimal point.\n",
      "Time taken: 1.3901\n",
      "Function value obtained: 9.2677\n",
      "Current minimum: 9.2665\n",
      "Iteration No: 32 started. Searching for the next optimal point.\n",
      "Iteration No: 32 ended. Search finished for the next optimal point.\n",
      "Time taken: 1.2418\n",
      "Function value obtained: 9.2660\n",
      "Current minimum: 9.2660\n",
      "Iteration No: 33 started. Searching for the next optimal point.\n",
      "Iteration No: 33 ended. Search finished for the next optimal point.\n",
      "Time taken: 1.2718\n",
      "Function value obtained: 9.2661\n",
      "Current minimum: 9.2660\n",
      "Iteration No: 34 started. Searching for the next optimal point.\n",
      "Iteration No: 34 ended. Search finished for the next optimal point.\n",
      "Time taken: 1.3330\n",
      "Function value obtained: 9.2649\n",
      "Current minimum: 9.2649\n",
      "Iteration No: 35 started. Searching for the next optimal point.\n",
      "Iteration No: 35 ended. Search finished for the next optimal point.\n",
      "Time taken: 1.2780\n",
      "Function value obtained: 9.2650\n",
      "Current minimum: 9.2649\n",
      "Iteration No: 36 started. Searching for the next optimal point.\n",
      "Iteration No: 36 ended. Search finished for the next optimal point.\n",
      "Time taken: 1.3306\n",
      "Function value obtained: 9.2678\n",
      "Current minimum: 9.2649\n",
      "Iteration No: 37 started. Searching for the next optimal point.\n",
      "Iteration No: 37 ended. Search finished for the next optimal point.\n",
      "Time taken: 1.4157\n",
      "Function value obtained: 9.2661\n",
      "Current minimum: 9.2649\n",
      "Iteration No: 38 started. Searching for the next optimal point.\n",
      "Iteration No: 38 ended. Search finished for the next optimal point.\n",
      "Time taken: 1.3844\n",
      "Function value obtained: 9.2650\n",
      "Current minimum: 9.2649\n",
      "Iteration No: 39 started. Searching for the next optimal point.\n",
      "Iteration No: 39 ended. Search finished for the next optimal point.\n",
      "Time taken: 1.3097\n",
      "Function value obtained: 9.2678\n",
      "Current minimum: 9.2649\n",
      "Iteration No: 40 started. Searching for the next optimal point.\n",
      "Iteration No: 40 ended. Search finished for the next optimal point.\n",
      "Time taken: 1.4553\n",
      "Function value obtained: 9.2672\n",
      "Current minimum: 9.2649\n",
      "Iteration No: 41 started. Searching for the next optimal point.\n"
     ]
    },
    {
     "name": "stdout",
     "output_type": "stream",
     "text": [
      "Iteration No: 41 ended. Search finished for the next optimal point.\n",
      "Time taken: 1.4671\n",
      "Function value obtained: 9.2668\n",
      "Current minimum: 9.2649\n",
      "Iteration No: 42 started. Searching for the next optimal point.\n",
      "Iteration No: 42 ended. Search finished for the next optimal point.\n",
      "Time taken: 1.3982\n",
      "Function value obtained: 9.2673\n",
      "Current minimum: 9.2649\n",
      "Iteration No: 43 started. Searching for the next optimal point.\n",
      "Iteration No: 43 ended. Search finished for the next optimal point.\n",
      "Time taken: 1.4925\n",
      "Function value obtained: 9.2674\n",
      "Current minimum: 9.2649\n",
      "Iteration No: 44 started. Searching for the next optimal point.\n",
      "Iteration No: 44 ended. Search finished for the next optimal point.\n",
      "Time taken: 1.3504\n",
      "Function value obtained: 9.2651\n",
      "Current minimum: 9.2649\n",
      "Iteration No: 45 started. Searching for the next optimal point.\n",
      "Iteration No: 45 ended. Search finished for the next optimal point.\n",
      "Time taken: 1.4891\n",
      "Function value obtained: 9.2671\n",
      "Current minimum: 9.2649\n",
      "Iteration No: 46 started. Searching for the next optimal point.\n",
      "Iteration No: 46 ended. Search finished for the next optimal point.\n",
      "Time taken: 1.4442\n",
      "Function value obtained: 9.2652\n",
      "Current minimum: 9.2649\n",
      "Iteration No: 47 started. Searching for the next optimal point.\n",
      "Iteration No: 47 ended. Search finished for the next optimal point.\n",
      "Time taken: 1.3467\n",
      "Function value obtained: 9.2668\n",
      "Current minimum: 9.2649\n",
      "Iteration No: 48 started. Searching for the next optimal point.\n",
      "Iteration No: 48 ended. Search finished for the next optimal point.\n",
      "Time taken: 1.4767\n",
      "Function value obtained: 9.2653\n",
      "Current minimum: 9.2649\n",
      "Iteration No: 49 started. Searching for the next optimal point.\n",
      "Iteration No: 49 ended. Search finished for the next optimal point.\n",
      "Time taken: 1.5584\n",
      "Function value obtained: 9.2662\n",
      "Current minimum: 9.2649\n",
      "Iteration No: 50 started. Searching for the next optimal point.\n",
      "Iteration No: 50 ended. Search finished for the next optimal point.\n",
      "Time taken: 1.5316\n",
      "Function value obtained: 9.2686\n",
      "Current minimum: 9.2649\n"
     ]
    }
   ],
   "source": [
    "linear_res_gp_arr = []\n",
    "for i in range(1, 2):\n",
    "    print('minimisation iteration', i)\n",
    "    linear_res_gp = gp_minimize(linear_objective, linear_space, n_calls=50, verbose=2)\n",
    "    linear_res_gp_arr.append(linear_res_gp)"
   ]
  },
  {
   "cell_type": "code",
   "execution_count": 33,
   "metadata": {
    "ExecuteTime": {
     "end_time": "2019-08-11T09:11:27.303662Z",
     "start_time": "2019-08-11T09:11:27.297165Z"
    },
    "hidden": true
   },
   "outputs": [
    {
     "name": "stdout",
     "output_type": "stream",
     "text": [
      "9.26488716295751\n",
      "\n",
      "\n",
      "[1.9243289485475958, 3.049208154301481]\n"
     ]
    }
   ],
   "source": [
    "# Ridge features\n",
    "for i in linear_res_gp_arr:\n",
    "    print(i.fun)\n",
    "print('\\n')\n",
    "for i in linear_res_gp_arr:\n",
    "    print(i.x)"
   ]
  },
  {
   "cell_type": "code",
   "execution_count": 27,
   "metadata": {
    "ExecuteTime": {
     "end_time": "2019-08-10T12:27:03.811443Z",
     "start_time": "2019-08-10T12:27:03.806796Z"
    },
    "hidden": true
   },
   "outputs": [
    {
     "name": "stdout",
     "output_type": "stream",
     "text": [
      "9.510554470618557\n",
      "\n",
      "\n",
      "[1.9529406325926788, 0.008245170349672077]\n"
     ]
    }
   ],
   "source": [
    "# RFE features\n",
    "for i in linear_res_gp_arr:\n",
    "    print(i.fun)\n",
    "print('\\n')\n",
    "for i in linear_res_gp_arr:\n",
    "    print(i.x)"
   ]
  },
  {
   "cell_type": "code",
   "execution_count": 20,
   "metadata": {
    "ExecuteTime": {
     "end_time": "2019-08-10T10:15:30.209615Z",
     "start_time": "2019-08-10T10:15:30.204288Z"
    },
    "hidden": true
   },
   "outputs": [
    {
     "name": "stdout",
     "output_type": "stream",
     "text": [
      "9.506218758911025\n",
      "\n",
      "\n",
      "[1.9576678718709655, 0.012337795442371478]\n"
     ]
    }
   ],
   "source": [
    "# Full features\n",
    "for i in linear_res_gp_arr:\n",
    "    print(i.fun)\n",
    "print('\\n')\n",
    "for i in linear_res_gp_arr:\n",
    "    print(i.x)"
   ]
  },
  {
   "cell_type": "markdown",
   "metadata": {
    "ExecuteTime": {
     "end_time": "2019-07-12T10:34:24.743351Z",
     "start_time": "2019-07-12T10:34:24.740370Z"
    },
    "heading_collapsed": true,
    "hidden": true
   },
   "source": [
    "#### RBF kernel regression"
   ]
  },
  {
   "cell_type": "code",
   "execution_count": 46,
   "metadata": {
    "ExecuteTime": {
     "end_time": "2019-08-11T09:16:52.408239Z",
     "start_time": "2019-08-11T09:16:52.393605Z"
    },
    "hidden": true
   },
   "outputs": [],
   "source": [
    "rbf_space  = [\n",
    "    Real(1, 3, 'uniform', name='epsilon'),\n",
    "    Real(10**-2, 10**2, 'log-uniform', name='C'),\n",
    "    Real(10**-5, 10**-1, 'log-uniform', name='gamma'),\n",
    "]"
   ]
  },
  {
   "cell_type": "code",
   "execution_count": 47,
   "metadata": {
    "ExecuteTime": {
     "end_time": "2019-08-11T09:16:53.243257Z",
     "start_time": "2019-08-11T09:16:53.232359Z"
    },
    "hidden": true
   },
   "outputs": [],
   "source": [
    "rbf_gp_model = SVR(kernel='rbf')\n",
    "\n",
    "@use_named_args(rbf_space)\n",
    "def rbf_objective(**params):\n",
    "    rbf_gp_model.set_params(**params)\n",
    "\n",
    "    return -np.mean(\n",
    "        cross_val_score(\n",
    "            rbf_gp_model,\n",
    "#             X,\n",
    "            X_sel,\n",
    "            y.ravel(),\n",
    "            cv=ps,\n",
    "            n_jobs=1,\n",
    "            scoring=\"neg_mean_squared_error\"))"
   ]
  },
  {
   "cell_type": "code",
   "execution_count": 48,
   "metadata": {
    "ExecuteTime": {
     "end_time": "2019-08-11T09:17:52.650530Z",
     "start_time": "2019-08-11T09:16:54.734386Z"
    },
    "hidden": true
   },
   "outputs": [
    {
     "name": "stdout",
     "output_type": "stream",
     "text": [
      "minimisation iteration 1\n",
      "Iteration No: 1 started. Evaluating function at random point.\n",
      "Iteration No: 1 ended. Evaluation done at random point.\n",
      "Time taken: 0.3272\n",
      "Function value obtained: 9.8076\n",
      "Current minimum: 9.8076\n",
      "Iteration No: 2 started. Evaluating function at random point.\n",
      "Iteration No: 2 ended. Evaluation done at random point.\n",
      "Time taken: 0.4284\n",
      "Function value obtained: 9.4863\n",
      "Current minimum: 9.4863\n",
      "Iteration No: 3 started. Evaluating function at random point.\n",
      "Iteration No: 3 ended. Evaluation done at random point.\n",
      "Time taken: 0.4770\n",
      "Function value obtained: 9.3369\n",
      "Current minimum: 9.3369\n",
      "Iteration No: 4 started. Evaluating function at random point.\n",
      "Iteration No: 4 ended. Evaluation done at random point.\n",
      "Time taken: 0.4483\n",
      "Function value obtained: 11.0209\n",
      "Current minimum: 9.3369\n",
      "Iteration No: 5 started. Evaluating function at random point.\n",
      "Iteration No: 5 ended. Evaluation done at random point.\n",
      "Time taken: 0.4159\n",
      "Function value obtained: 10.4401\n",
      "Current minimum: 9.3369\n",
      "Iteration No: 6 started. Evaluating function at random point.\n",
      "Iteration No: 6 ended. Evaluation done at random point.\n",
      "Time taken: 0.2691\n",
      "Function value obtained: 10.0460\n",
      "Current minimum: 9.3369\n",
      "Iteration No: 7 started. Evaluating function at random point.\n",
      "Iteration No: 7 ended. Evaluation done at random point.\n",
      "Time taken: 0.3369\n",
      "Function value obtained: 10.6228\n",
      "Current minimum: 9.3369\n",
      "Iteration No: 8 started. Evaluating function at random point.\n",
      "Iteration No: 8 ended. Evaluation done at random point.\n",
      "Time taken: 0.3858\n",
      "Function value obtained: 10.1157\n",
      "Current minimum: 9.3369\n",
      "Iteration No: 9 started. Evaluating function at random point.\n",
      "Iteration No: 9 ended. Evaluation done at random point.\n",
      "Time taken: 0.3436\n",
      "Function value obtained: 10.3980\n",
      "Current minimum: 9.3369\n",
      "Iteration No: 10 started. Evaluating function at random point.\n",
      "Iteration No: 10 ended. Evaluation done at random point.\n",
      "Time taken: 0.8695\n",
      "Function value obtained: 9.8145\n",
      "Current minimum: 9.3369\n",
      "Iteration No: 11 started. Searching for the next optimal point.\n",
      "Iteration No: 11 ended. Search finished for the next optimal point.\n",
      "Time taken: 0.8859\n",
      "Function value obtained: 9.2902\n",
      "Current minimum: 9.2902\n",
      "Iteration No: 12 started. Searching for the next optimal point.\n",
      "Iteration No: 12 ended. Search finished for the next optimal point.\n",
      "Time taken: 1.4283\n",
      "Function value obtained: 10.3081\n",
      "Current minimum: 9.2902\n",
      "Iteration No: 13 started. Searching for the next optimal point.\n",
      "Iteration No: 13 ended. Search finished for the next optimal point.\n",
      "Time taken: 1.1159\n",
      "Function value obtained: 9.3410\n",
      "Current minimum: 9.2902\n",
      "Iteration No: 14 started. Searching for the next optimal point.\n",
      "Iteration No: 14 ended. Search finished for the next optimal point.\n",
      "Time taken: 1.0515\n",
      "Function value obtained: 9.2796\n",
      "Current minimum: 9.2796\n",
      "Iteration No: 15 started. Searching for the next optimal point.\n",
      "Iteration No: 15 ended. Search finished for the next optimal point.\n",
      "Time taken: 1.7164\n",
      "Function value obtained: 10.0178\n",
      "Current minimum: 9.2796\n",
      "Iteration No: 16 started. Searching for the next optimal point.\n",
      "Iteration No: 16 ended. Search finished for the next optimal point.\n",
      "Time taken: 1.0597\n",
      "Function value obtained: 9.3334\n",
      "Current minimum: 9.2796\n",
      "Iteration No: 17 started. Searching for the next optimal point.\n",
      "Iteration No: 17 ended. Search finished for the next optimal point.\n",
      "Time taken: 1.0557\n",
      "Function value obtained: 9.2923\n",
      "Current minimum: 9.2796\n",
      "Iteration No: 18 started. Searching for the next optimal point.\n",
      "Iteration No: 18 ended. Search finished for the next optimal point.\n",
      "Time taken: 1.2070\n",
      "Function value obtained: 9.2836\n",
      "Current minimum: 9.2796\n",
      "Iteration No: 19 started. Searching for the next optimal point.\n",
      "Iteration No: 19 ended. Search finished for the next optimal point.\n",
      "Time taken: 1.1769\n",
      "Function value obtained: 9.3046\n",
      "Current minimum: 9.2796\n",
      "Iteration No: 20 started. Searching for the next optimal point.\n",
      "Iteration No: 20 ended. Search finished for the next optimal point.\n",
      "Time taken: 1.2101\n",
      "Function value obtained: 9.2700\n",
      "Current minimum: 9.2700\n",
      "Iteration No: 21 started. Searching for the next optimal point.\n",
      "Iteration No: 21 ended. Search finished for the next optimal point.\n",
      "Time taken: 1.1328\n",
      "Function value obtained: 9.3115\n",
      "Current minimum: 9.2700\n",
      "Iteration No: 22 started. Searching for the next optimal point.\n",
      "Iteration No: 22 ended. Search finished for the next optimal point.\n",
      "Time taken: 1.1750\n",
      "Function value obtained: 9.2767\n",
      "Current minimum: 9.2700\n",
      "Iteration No: 23 started. Searching for the next optimal point.\n",
      "Iteration No: 23 ended. Search finished for the next optimal point.\n",
      "Time taken: 1.2326\n",
      "Function value obtained: 9.2808\n",
      "Current minimum: 9.2700\n",
      "Iteration No: 24 started. Searching for the next optimal point.\n",
      "Iteration No: 24 ended. Search finished for the next optimal point.\n",
      "Time taken: 1.2160\n",
      "Function value obtained: 9.3331\n",
      "Current minimum: 9.2700\n",
      "Iteration No: 25 started. Searching for the next optimal point.\n",
      "Iteration No: 25 ended. Search finished for the next optimal point.\n",
      "Time taken: 1.3010\n",
      "Function value obtained: 9.2926\n",
      "Current minimum: 9.2700\n",
      "Iteration No: 26 started. Searching for the next optimal point.\n",
      "Iteration No: 26 ended. Search finished for the next optimal point.\n",
      "Time taken: 1.2556\n",
      "Function value obtained: 9.3180\n",
      "Current minimum: 9.2700\n",
      "Iteration No: 27 started. Searching for the next optimal point.\n",
      "Iteration No: 27 ended. Search finished for the next optimal point.\n",
      "Time taken: 1.2378\n",
      "Function value obtained: 9.4834\n",
      "Current minimum: 9.2700\n",
      "Iteration No: 28 started. Searching for the next optimal point.\n",
      "Iteration No: 28 ended. Search finished for the next optimal point.\n",
      "Time taken: 1.2424\n",
      "Function value obtained: 9.2972\n",
      "Current minimum: 9.2700\n",
      "Iteration No: 29 started. Searching for the next optimal point.\n",
      "Iteration No: 29 ended. Search finished for the next optimal point.\n",
      "Time taken: 1.2997\n",
      "Function value obtained: 9.2775\n",
      "Current minimum: 9.2700\n",
      "Iteration No: 30 started. Searching for the next optimal point.\n",
      "Iteration No: 30 ended. Search finished for the next optimal point.\n",
      "Time taken: 1.2463\n",
      "Function value obtained: 9.3297\n",
      "Current minimum: 9.2700\n",
      "Iteration No: 31 started. Searching for the next optimal point.\n",
      "Iteration No: 31 ended. Search finished for the next optimal point.\n",
      "Time taken: 1.2989\n",
      "Function value obtained: 9.4286\n",
      "Current minimum: 9.2700\n",
      "Iteration No: 32 started. Searching for the next optimal point.\n",
      "Iteration No: 32 ended. Search finished for the next optimal point.\n",
      "Time taken: 1.3186\n",
      "Function value obtained: 9.2737\n",
      "Current minimum: 9.2700\n",
      "Iteration No: 33 started. Searching for the next optimal point.\n",
      "Iteration No: 33 ended. Search finished for the next optimal point.\n",
      "Time taken: 1.3120\n",
      "Function value obtained: 9.8181\n",
      "Current minimum: 9.2700\n",
      "Iteration No: 34 started. Searching for the next optimal point.\n",
      "Iteration No: 34 ended. Search finished for the next optimal point.\n",
      "Time taken: 1.2585\n",
      "Function value obtained: 9.3410\n",
      "Current minimum: 9.2700\n",
      "Iteration No: 35 started. Searching for the next optimal point.\n",
      "Iteration No: 35 ended. Search finished for the next optimal point.\n",
      "Time taken: 1.4808\n",
      "Function value obtained: 10.2171\n",
      "Current minimum: 9.2700\n",
      "Iteration No: 36 started. Searching for the next optimal point.\n",
      "Iteration No: 36 ended. Search finished for the next optimal point.\n",
      "Time taken: 1.3429\n",
      "Function value obtained: 9.2863\n",
      "Current minimum: 9.2700\n",
      "Iteration No: 37 started. Searching for the next optimal point.\n",
      "Iteration No: 37 ended. Search finished for the next optimal point.\n",
      "Time taken: 1.4141\n",
      "Function value obtained: 9.2765\n",
      "Current minimum: 9.2700\n",
      "Iteration No: 38 started. Searching for the next optimal point.\n",
      "Iteration No: 38 ended. Search finished for the next optimal point.\n",
      "Time taken: 1.5605\n",
      "Function value obtained: 9.3042\n",
      "Current minimum: 9.2700\n",
      "Iteration No: 39 started. Searching for the next optimal point.\n",
      "Iteration No: 39 ended. Search finished for the next optimal point.\n",
      "Time taken: 1.3348\n",
      "Function value obtained: 9.4147\n",
      "Current minimum: 9.2700\n",
      "Iteration No: 40 started. Searching for the next optimal point.\n",
      "Iteration No: 40 ended. Search finished for the next optimal point.\n",
      "Time taken: 1.7730\n",
      "Function value obtained: 9.6873\n",
      "Current minimum: 9.2700\n",
      "Iteration No: 41 started. Searching for the next optimal point.\n"
     ]
    },
    {
     "name": "stdout",
     "output_type": "stream",
     "text": [
      "Iteration No: 41 ended. Search finished for the next optimal point.\n",
      "Time taken: 1.5324\n",
      "Function value obtained: 9.2777\n",
      "Current minimum: 9.2700\n",
      "Iteration No: 42 started. Searching for the next optimal point.\n",
      "Iteration No: 42 ended. Search finished for the next optimal point.\n",
      "Time taken: 1.6151\n",
      "Function value obtained: 9.2974\n",
      "Current minimum: 9.2700\n",
      "Iteration No: 43 started. Searching for the next optimal point.\n",
      "Iteration No: 43 ended. Search finished for the next optimal point.\n",
      "Time taken: 1.4887\n",
      "Function value obtained: 9.2978\n",
      "Current minimum: 9.2700\n",
      "Iteration No: 44 started. Searching for the next optimal point.\n",
      "Iteration No: 44 ended. Search finished for the next optimal point.\n",
      "Time taken: 1.4514\n",
      "Function value obtained: 9.3305\n",
      "Current minimum: 9.2700\n",
      "Iteration No: 45 started. Searching for the next optimal point.\n",
      "Iteration No: 45 ended. Search finished for the next optimal point.\n",
      "Time taken: 1.5604\n",
      "Function value obtained: 9.7957\n",
      "Current minimum: 9.2700\n",
      "Iteration No: 46 started. Searching for the next optimal point.\n",
      "Iteration No: 46 ended. Search finished for the next optimal point.\n",
      "Time taken: 1.5948\n",
      "Function value obtained: 10.1622\n",
      "Current minimum: 9.2700\n",
      "Iteration No: 47 started. Searching for the next optimal point.\n",
      "Iteration No: 47 ended. Search finished for the next optimal point.\n",
      "Time taken: 1.4707\n",
      "Function value obtained: 9.2772\n",
      "Current minimum: 9.2700\n",
      "Iteration No: 48 started. Searching for the next optimal point.\n",
      "Iteration No: 48 ended. Search finished for the next optimal point.\n",
      "Time taken: 1.3975\n",
      "Function value obtained: 9.9416\n",
      "Current minimum: 9.2700\n",
      "Iteration No: 49 started. Searching for the next optimal point.\n",
      "Iteration No: 49 ended. Search finished for the next optimal point.\n",
      "Time taken: 1.5001\n",
      "Function value obtained: 9.7564\n",
      "Current minimum: 9.2700\n",
      "Iteration No: 50 started. Searching for the next optimal point.\n",
      "Iteration No: 50 ended. Search finished for the next optimal point.\n",
      "Time taken: 1.6124\n",
      "Function value obtained: 9.2910\n",
      "Current minimum: 9.2700\n"
     ]
    }
   ],
   "source": [
    "rbf_res_gp_arr = []\n",
    "for i in range(1, 2):\n",
    "    print('minimisation iteration', i)\n",
    "    rbf_res_gp = gp_minimize(rbf_objective, rbf_space, n_calls=50, verbose=2)\n",
    "    rbf_res_gp_arr.append(rbf_res_gp)"
   ]
  },
  {
   "cell_type": "code",
   "execution_count": 49,
   "metadata": {
    "ExecuteTime": {
     "end_time": "2019-08-11T09:17:52.658023Z",
     "start_time": "2019-08-11T09:17:52.653520Z"
    },
    "hidden": true
   },
   "outputs": [
    {
     "name": "stdout",
     "output_type": "stream",
     "text": [
      "9.27002242592813\n",
      "\n",
      "\n",
      "[1.953284419127078, 100.0, 0.0010276211823297006]\n"
     ]
    }
   ],
   "source": [
    "# Ridge features\n",
    "for i in rbf_res_gp_arr:\n",
    "    print(i.fun)\n",
    "print('\\n')\n",
    "for i in rbf_res_gp_arr:\n",
    "    print(i.x)"
   ]
  },
  {
   "cell_type": "code",
   "execution_count": 39,
   "metadata": {
    "ExecuteTime": {
     "end_time": "2019-08-10T12:32:50.600608Z",
     "start_time": "2019-08-10T12:32:50.596088Z"
    },
    "hidden": true
   },
   "outputs": [
    {
     "name": "stdout",
     "output_type": "stream",
     "text": [
      "9.49589123100063\n",
      "\n",
      "\n",
      "[1.9727942889469607, 2.1168020039526745, 0.0034209361272424968]\n"
     ]
    }
   ],
   "source": [
    "# RFE features\n",
    "for i in rbf_res_gp_arr:\n",
    "    print(i.fun)\n",
    "print('\\n')\n",
    "for i in rbf_res_gp_arr:\n",
    "    print(i.x)"
   ]
  },
  {
   "cell_type": "code",
   "execution_count": 42,
   "metadata": {
    "ExecuteTime": {
     "end_time": "2019-08-10T10:28:15.232249Z",
     "start_time": "2019-08-10T10:28:15.227809Z"
    },
    "hidden": true
   },
   "outputs": [
    {
     "name": "stdout",
     "output_type": "stream",
     "text": [
      "9.499430371447856\n",
      "\n",
      "\n",
      "[2.097559086102418, 1.1178155216840122, 0.016825846721740607]\n"
     ]
    }
   ],
   "source": [
    "# Full features (without elements)\n",
    "for i in rbf_res_gp_arr:\n",
    "    print(i.fun)\n",
    "print('\\n')\n",
    "for i in rbf_res_gp_arr:\n",
    "    print(i.x)"
   ]
  },
  {
   "cell_type": "markdown",
   "metadata": {
    "heading_collapsed": true,
    "hidden": true
   },
   "source": [
    "### Grid search"
   ]
  },
  {
   "cell_type": "markdown",
   "metadata": {
    "ExecuteTime": {
     "end_time": "2019-07-12T10:34:24.743351Z",
     "start_time": "2019-07-12T10:34:24.740370Z"
    },
    "heading_collapsed": true,
    "hidden": true
   },
   "source": [
    "#### Linear kernel regression"
   ]
  },
  {
   "cell_type": "code",
   "execution_count": 26,
   "metadata": {
    "ExecuteTime": {
     "end_time": "2019-08-11T09:04:27.666988Z",
     "start_time": "2019-08-11T09:04:27.659769Z"
    },
    "hidden": true
   },
   "outputs": [],
   "source": [
    "linear_epsilon = [2.0]\n",
    "linear_C = [0.5, 5, 50, 500, 5000]\n",
    "\n",
    "linear_parameters = {\n",
    "    'C': linear_C,\n",
    "    'epsilon': linear_epsilon\n",
    "}"
   ]
  },
  {
   "cell_type": "code",
   "execution_count": 27,
   "metadata": {
    "ExecuteTime": {
     "end_time": "2019-08-11T09:08:28.419175Z",
     "start_time": "2019-08-11T09:04:28.887064Z"
    },
    "hidden": true
   },
   "outputs": [
    {
     "name": "stdout",
     "output_type": "stream",
     "text": [
      "Fitting 1 folds for each of 5 candidates, totalling 5 fits\n"
     ]
    },
    {
     "name": "stderr",
     "output_type": "stream",
     "text": [
      "[Parallel(n_jobs=1)]: Using backend SequentialBackend with 1 concurrent workers.\n",
      "[Parallel(n_jobs=1)]: Done   5 out of   5 | elapsed:  4.0min finished\n"
     ]
    },
    {
     "data": {
      "text/plain": [
       "GridSearchCV(cv=PredefinedSplit(test_fold=array([-1, -1, ...,  0,  0])),\n",
       "             error_score=100,\n",
       "             estimator=SVR(C=1.0, cache_size=200, coef0=0.0, degree=3,\n",
       "                           epsilon=0.1, gamma='auto_deprecated',\n",
       "                           kernel='linear', max_iter=-1, shrinking=True,\n",
       "                           tol=0.001, verbose=False),\n",
       "             iid='warn', n_jobs=1,\n",
       "             param_grid={'C': [0.5, 5, 50, 500, 5000], 'epsilon': [2.0]},\n",
       "             pre_dispatch='2*n_jobs', refit=False, return_train_score=False,\n",
       "             scoring=['neg_mean_absolute_error', 'neg_mean_squared_error'],\n",
       "             verbose=1)"
      ]
     },
     "execution_count": 27,
     "metadata": {},
     "output_type": "execute_result"
    }
   ],
   "source": [
    "gs_model_linear = GridSearchCV(\n",
    "    SVR(kernel='linear'),\n",
    "    linear_parameters,\n",
    "    scoring=['neg_mean_absolute_error', 'neg_mean_squared_error'],\n",
    "    refit=False,\n",
    "    cv=ps,\n",
    "    error_score=100, n_jobs=1, verbose=1)\n",
    "gs_model_linear.fit(X_sel, y.ravel())"
   ]
  },
  {
   "cell_type": "code",
   "execution_count": 28,
   "metadata": {
    "ExecuteTime": {
     "end_time": "2019-08-11T09:08:28.438377Z",
     "start_time": "2019-08-11T09:08:28.422094Z"
    },
    "hidden": true
   },
   "outputs": [
    {
     "data": {
      "text/html": [
       "<div>\n",
       "<style scoped>\n",
       "    .dataframe tbody tr th:only-of-type {\n",
       "        vertical-align: middle;\n",
       "    }\n",
       "\n",
       "    .dataframe tbody tr th {\n",
       "        vertical-align: top;\n",
       "    }\n",
       "\n",
       "    .dataframe thead th {\n",
       "        text-align: right;\n",
       "    }\n",
       "</style>\n",
       "<table border=\"1\" class=\"dataframe\">\n",
       "  <thead>\n",
       "    <tr style=\"text-align: right;\">\n",
       "      <th></th>\n",
       "      <th>param_C</th>\n",
       "      <th>param_epsilon</th>\n",
       "      <th>split0_test_neg_mean_absolute_error</th>\n",
       "      <th>split0_test_neg_mean_squared_error</th>\n",
       "    </tr>\n",
       "  </thead>\n",
       "  <tbody>\n",
       "    <tr>\n",
       "      <th>0</th>\n",
       "      <td>0.5</td>\n",
       "      <td>2</td>\n",
       "      <td>-2.161457</td>\n",
       "      <td>-9.280048</td>\n",
       "    </tr>\n",
       "    <tr>\n",
       "      <th>1</th>\n",
       "      <td>5</td>\n",
       "      <td>2</td>\n",
       "      <td>-2.162295</td>\n",
       "      <td>-9.271469</td>\n",
       "    </tr>\n",
       "    <tr>\n",
       "      <th>2</th>\n",
       "      <td>50</td>\n",
       "      <td>2</td>\n",
       "      <td>-2.162783</td>\n",
       "      <td>-9.272073</td>\n",
       "    </tr>\n",
       "    <tr>\n",
       "      <th>3</th>\n",
       "      <td>500</td>\n",
       "      <td>2</td>\n",
       "      <td>-2.162962</td>\n",
       "      <td>-9.271801</td>\n",
       "    </tr>\n",
       "    <tr>\n",
       "      <th>4</th>\n",
       "      <td>5000</td>\n",
       "      <td>2</td>\n",
       "      <td>-2.164446</td>\n",
       "      <td>-9.271147</td>\n",
       "    </tr>\n",
       "  </tbody>\n",
       "</table>\n",
       "</div>"
      ],
      "text/plain": [
       "  param_C param_epsilon  split0_test_neg_mean_absolute_error  \\\n",
       "0     0.5             2                            -2.161457   \n",
       "1       5             2                            -2.162295   \n",
       "2      50             2                            -2.162783   \n",
       "3     500             2                            -2.162962   \n",
       "4    5000             2                            -2.164446   \n",
       "\n",
       "   split0_test_neg_mean_squared_error  \n",
       "0                           -9.280048  \n",
       "1                           -9.271469  \n",
       "2                           -9.272073  \n",
       "3                           -9.271801  \n",
       "4                           -9.271147  "
      ]
     },
     "execution_count": 28,
     "metadata": {},
     "output_type": "execute_result"
    }
   ],
   "source": [
    "gs_model_linear_df = pd.DataFrame(gs_model_linear.cv_results_)[[\n",
    "    'param_C','param_epsilon',\n",
    "    'split0_test_neg_mean_absolute_error',\n",
    "    'split0_test_neg_mean_squared_error'\n",
    "]]\n",
    "\n",
    "gs_model_linear_df"
   ]
  },
  {
   "cell_type": "code",
   "execution_count": 29,
   "metadata": {
    "ExecuteTime": {
     "end_time": "2019-08-11T09:08:28.503097Z",
     "start_time": "2019-08-11T09:08:28.440359Z"
    },
    "hidden": true
   },
   "outputs": [
    {
     "data": {
      "text/html": [
       "<div>\n",
       "<style scoped>\n",
       "    .dataframe tbody tr th:only-of-type {\n",
       "        vertical-align: middle;\n",
       "    }\n",
       "\n",
       "    .dataframe tbody tr th {\n",
       "        vertical-align: top;\n",
       "    }\n",
       "\n",
       "    .dataframe thead th {\n",
       "        text-align: right;\n",
       "    }\n",
       "</style>\n",
       "<table border=\"1\" class=\"dataframe\">\n",
       "  <thead>\n",
       "    <tr style=\"text-align: right;\">\n",
       "      <th></th>\n",
       "      <th>param_C</th>\n",
       "      <th>param_epsilon</th>\n",
       "      <th>split0_test_neg_mean_absolute_error</th>\n",
       "      <th>split0_test_neg_mean_squared_error</th>\n",
       "    </tr>\n",
       "  </thead>\n",
       "  <tbody>\n",
       "    <tr>\n",
       "      <th>4</th>\n",
       "      <td>5000</td>\n",
       "      <td>2</td>\n",
       "      <td>-2.164446</td>\n",
       "      <td>-9.271147</td>\n",
       "    </tr>\n",
       "  </tbody>\n",
       "</table>\n",
       "</div>"
      ],
      "text/plain": [
       "  param_C param_epsilon  split0_test_neg_mean_absolute_error  \\\n",
       "4    5000             2                            -2.164446   \n",
       "\n",
       "   split0_test_neg_mean_squared_error  \n",
       "4                           -9.271147  "
      ]
     },
     "execution_count": 29,
     "metadata": {},
     "output_type": "execute_result"
    }
   ],
   "source": [
    "gs_model_linear_df[\n",
    "    gs_model_linear_df['split0_test_neg_mean_squared_error'] == \\\n",
    "    gs_model_linear_df['split0_test_neg_mean_squared_error'].max()]"
   ]
  },
  {
   "cell_type": "markdown",
   "metadata": {
    "ExecuteTime": {
     "end_time": "2019-07-12T10:34:24.743351Z",
     "start_time": "2019-07-12T10:34:24.740370Z"
    },
    "heading_collapsed": true,
    "hidden": true
   },
   "source": [
    "#### RBF kernel regression"
   ]
  },
  {
   "cell_type": "code",
   "execution_count": 34,
   "metadata": {
    "ExecuteTime": {
     "end_time": "2019-08-11T09:11:27.360610Z",
     "start_time": "2019-08-11T09:11:27.305695Z"
    },
    "hidden": true
   },
   "outputs": [],
   "source": [
    "rbf_epsilon = [2]\n",
    "rbf_C = [0.5, 5, 50, 500, 5000]\n",
    "rbf_gamma = [0.01]\n",
    "\n",
    "rbf_parameters = {\n",
    "    'C': rbf_C,\n",
    "    'epsilon': rbf_epsilon,\n",
    "    'gamma': rbf_gamma\n",
    "}"
   ]
  },
  {
   "cell_type": "code",
   "execution_count": 35,
   "metadata": {
    "ExecuteTime": {
     "end_time": "2019-08-11T09:11:35.895929Z",
     "start_time": "2019-08-11T09:11:27.363506Z"
    },
    "hidden": true
   },
   "outputs": [
    {
     "name": "stdout",
     "output_type": "stream",
     "text": [
      "Fitting 1 folds for each of 5 candidates, totalling 5 fits\n"
     ]
    },
    {
     "name": "stderr",
     "output_type": "stream",
     "text": [
      "[Parallel(n_jobs=1)]: Using backend SequentialBackend with 1 concurrent workers.\n",
      "[Parallel(n_jobs=1)]: Done   5 out of   5 | elapsed:    8.5s finished\n"
     ]
    },
    {
     "data": {
      "text/plain": [
       "GridSearchCV(cv=PredefinedSplit(test_fold=array([-1, -1, ...,  0,  0])),\n",
       "             error_score=100,\n",
       "             estimator=SVR(C=1.0, cache_size=200, coef0=0.0, degree=3,\n",
       "                           epsilon=0.1, gamma='auto_deprecated', kernel='rbf',\n",
       "                           max_iter=-1, shrinking=True, tol=0.001,\n",
       "                           verbose=False),\n",
       "             iid='warn', n_jobs=1,\n",
       "             param_grid={'C': [0.5, 5, 50, 500, 5000], 'epsilon': [2],\n",
       "                         'gamma': [0.01]},\n",
       "             pre_dispatch='2*n_jobs', refit=False, return_train_score=False,\n",
       "             scoring=['neg_mean_absolute_error', 'neg_mean_squared_error'],\n",
       "             verbose=1)"
      ]
     },
     "execution_count": 35,
     "metadata": {},
     "output_type": "execute_result"
    }
   ],
   "source": [
    "gs_model_rbf = GridSearchCV(\n",
    "    SVR(kernel='rbf'),\n",
    "    rbf_parameters,\n",
    "    scoring=['neg_mean_absolute_error', 'neg_mean_squared_error'],\n",
    "    refit=False,\n",
    "    cv=ps,\n",
    "    error_score=100, n_jobs=1, verbose=1)\n",
    "gs_model_rbf.fit(X_sel, y.ravel())"
   ]
  },
  {
   "cell_type": "code",
   "execution_count": 36,
   "metadata": {
    "ExecuteTime": {
     "end_time": "2019-08-11T09:11:35.917715Z",
     "start_time": "2019-08-11T09:11:35.898617Z"
    },
    "hidden": true
   },
   "outputs": [
    {
     "data": {
      "text/html": [
       "<div>\n",
       "<style scoped>\n",
       "    .dataframe tbody tr th:only-of-type {\n",
       "        vertical-align: middle;\n",
       "    }\n",
       "\n",
       "    .dataframe tbody tr th {\n",
       "        vertical-align: top;\n",
       "    }\n",
       "\n",
       "    .dataframe thead th {\n",
       "        text-align: right;\n",
       "    }\n",
       "</style>\n",
       "<table border=\"1\" class=\"dataframe\">\n",
       "  <thead>\n",
       "    <tr style=\"text-align: right;\">\n",
       "      <th></th>\n",
       "      <th>param_C</th>\n",
       "      <th>param_epsilon</th>\n",
       "      <th>param_gamma</th>\n",
       "      <th>split0_test_neg_mean_absolute_error</th>\n",
       "      <th>split0_test_neg_mean_squared_error</th>\n",
       "    </tr>\n",
       "  </thead>\n",
       "  <tbody>\n",
       "    <tr>\n",
       "      <th>0</th>\n",
       "      <td>0.5</td>\n",
       "      <td>2</td>\n",
       "      <td>0.01</td>\n",
       "      <td>-2.200466</td>\n",
       "      <td>-9.443153</td>\n",
       "    </tr>\n",
       "    <tr>\n",
       "      <th>1</th>\n",
       "      <td>5</td>\n",
       "      <td>2</td>\n",
       "      <td>0.01</td>\n",
       "      <td>-2.196776</td>\n",
       "      <td>-9.322164</td>\n",
       "    </tr>\n",
       "    <tr>\n",
       "      <th>2</th>\n",
       "      <td>50</td>\n",
       "      <td>2</td>\n",
       "      <td>0.01</td>\n",
       "      <td>-2.195197</td>\n",
       "      <td>-9.296395</td>\n",
       "    </tr>\n",
       "    <tr>\n",
       "      <th>3</th>\n",
       "      <td>500</td>\n",
       "      <td>2</td>\n",
       "      <td>0.01</td>\n",
       "      <td>-2.199613</td>\n",
       "      <td>-9.395980</td>\n",
       "    </tr>\n",
       "    <tr>\n",
       "      <th>4</th>\n",
       "      <td>5000</td>\n",
       "      <td>2</td>\n",
       "      <td>0.01</td>\n",
       "      <td>-2.209978</td>\n",
       "      <td>-9.434526</td>\n",
       "    </tr>\n",
       "  </tbody>\n",
       "</table>\n",
       "</div>"
      ],
      "text/plain": [
       "  param_C param_epsilon param_gamma  split0_test_neg_mean_absolute_error  \\\n",
       "0     0.5             2        0.01                            -2.200466   \n",
       "1       5             2        0.01                            -2.196776   \n",
       "2      50             2        0.01                            -2.195197   \n",
       "3     500             2        0.01                            -2.199613   \n",
       "4    5000             2        0.01                            -2.209978   \n",
       "\n",
       "   split0_test_neg_mean_squared_error  \n",
       "0                           -9.443153  \n",
       "1                           -9.322164  \n",
       "2                           -9.296395  \n",
       "3                           -9.395980  \n",
       "4                           -9.434526  "
      ]
     },
     "execution_count": 36,
     "metadata": {},
     "output_type": "execute_result"
    }
   ],
   "source": [
    "gs_model_rbf_df = pd.DataFrame(gs_model_rbf.cv_results_)[[\n",
    "    'param_C','param_epsilon', 'param_gamma',\n",
    "    'split0_test_neg_mean_absolute_error',\n",
    "    'split0_test_neg_mean_squared_error'\n",
    "]]\n",
    "\n",
    "gs_model_rbf_df"
   ]
  },
  {
   "cell_type": "code",
   "execution_count": 37,
   "metadata": {
    "ExecuteTime": {
     "end_time": "2019-08-11T09:11:35.991668Z",
     "start_time": "2019-08-11T09:11:35.919656Z"
    },
    "hidden": true
   },
   "outputs": [
    {
     "data": {
      "text/html": [
       "<div>\n",
       "<style scoped>\n",
       "    .dataframe tbody tr th:only-of-type {\n",
       "        vertical-align: middle;\n",
       "    }\n",
       "\n",
       "    .dataframe tbody tr th {\n",
       "        vertical-align: top;\n",
       "    }\n",
       "\n",
       "    .dataframe thead th {\n",
       "        text-align: right;\n",
       "    }\n",
       "</style>\n",
       "<table border=\"1\" class=\"dataframe\">\n",
       "  <thead>\n",
       "    <tr style=\"text-align: right;\">\n",
       "      <th></th>\n",
       "      <th>param_C</th>\n",
       "      <th>param_epsilon</th>\n",
       "      <th>param_gamma</th>\n",
       "      <th>split0_test_neg_mean_absolute_error</th>\n",
       "      <th>split0_test_neg_mean_squared_error</th>\n",
       "    </tr>\n",
       "  </thead>\n",
       "  <tbody>\n",
       "    <tr>\n",
       "      <th>2</th>\n",
       "      <td>50</td>\n",
       "      <td>2</td>\n",
       "      <td>0.01</td>\n",
       "      <td>-2.195197</td>\n",
       "      <td>-9.296395</td>\n",
       "    </tr>\n",
       "  </tbody>\n",
       "</table>\n",
       "</div>"
      ],
      "text/plain": [
       "  param_C param_epsilon param_gamma  split0_test_neg_mean_absolute_error  \\\n",
       "2      50             2        0.01                            -2.195197   \n",
       "\n",
       "   split0_test_neg_mean_squared_error  \n",
       "2                           -9.296395  "
      ]
     },
     "execution_count": 37,
     "metadata": {},
     "output_type": "execute_result"
    }
   ],
   "source": [
    "gs_model_rbf_df[\n",
    "    gs_model_rbf_df['split0_test_neg_mean_squared_error'] == \\\n",
    "    gs_model_rbf_df['split0_test_neg_mean_squared_error'].max()]"
   ]
  },
  {
   "cell_type": "markdown",
   "metadata": {},
   "source": [
    "# Evaluating model"
   ]
  },
  {
   "cell_type": "markdown",
   "metadata": {},
   "source": [
    "## Linear kernel"
   ]
  },
  {
   "cell_type": "code",
   "execution_count": 65,
   "metadata": {
    "ExecuteTime": {
     "end_time": "2019-08-11T09:25:43.369106Z",
     "start_time": "2019-08-11T09:25:42.638350Z"
    }
   },
   "outputs": [
    {
     "data": {
      "text/plain": [
       "SVR(C=3.05, cache_size=200, coef0=0.0, degree=3, epsilon=1.92,\n",
       "    gamma='auto_deprecated', kernel='linear', max_iter=-1, shrinking=True,\n",
       "    tol=0.001, verbose=False)"
      ]
     },
     "execution_count": 65,
     "metadata": {},
     "output_type": "execute_result"
    }
   ],
   "source": [
    "linear_model = SVR(kernel='linear', epsilon=1.92, C=3.05)\n",
    "linear_model.fit(X_train_sel, y_train.ravel())"
   ]
  },
  {
   "cell_type": "code",
   "execution_count": 66,
   "metadata": {
    "ExecuteTime": {
     "end_time": "2019-08-11T09:25:43.404196Z",
     "start_time": "2019-08-11T09:25:43.372184Z"
    }
   },
   "outputs": [
    {
     "data": {
      "text/plain": [
       "(2.1408568349883583, 9.267972755566724, 0.10943289803588996)"
      ]
     },
     "execution_count": 66,
     "metadata": {},
     "output_type": "execute_result"
    }
   ],
   "source": [
    "# get predictions for test set\n",
    "linear_y_pred = linear_model.predict(X_test_sel).flatten()\n",
    "\n",
    "# calculate cross entropy loss for test set\n",
    "linear_test_loss = (\n",
    "    mean_absolute_error(y_test, linear_y_pred),\n",
    "    mean_squared_error(y_test, linear_y_pred),\n",
    "    r2_score(y_test, linear_y_pred)\n",
    ")\n",
    "linear_test_loss"
   ]
  },
  {
   "cell_type": "code",
   "execution_count": 67,
   "metadata": {
    "ExecuteTime": {
     "end_time": "2019-08-11T09:25:44.530885Z",
     "start_time": "2019-08-11T09:25:43.406511Z"
    }
   },
   "outputs": [
    {
     "data": {
      "text/plain": [
       "SVR(C=3.05, cache_size=200, coef0=0.0, degree=3, epsilon=1.92,\n",
       "    gamma='auto_deprecated', kernel='linear', max_iter=-1, shrinking=True,\n",
       "    tol=0.001, verbose=False)"
      ]
     },
     "execution_count": 67,
     "metadata": {},
     "output_type": "execute_result"
    }
   ],
   "source": [
    "# refit linear_model on all data\n",
    "linear_model_full = SVR(kernel='linear', epsilon=1.92, C=3.05)\n",
    "linear_model_full.fit(X_sel, y.ravel())"
   ]
  },
  {
   "cell_type": "code",
   "execution_count": 68,
   "metadata": {
    "ExecuteTime": {
     "end_time": "2019-08-11T09:25:44.680951Z",
     "start_time": "2019-08-11T09:25:44.536668Z"
    }
   },
   "outputs": [
    {
     "data": {
      "text/plain": [
       "(2.131834557203807, 8.609396772488065, 0.10024085579833242)"
      ]
     },
     "execution_count": 68,
     "metadata": {},
     "output_type": "execute_result"
    }
   ],
   "source": [
    "# get predictions for whole set\n",
    "linear_y_pred_full = linear_model_full.predict(X_sel).flatten()\n",
    "\n",
    "# calculate cross entropy loss for test set\n",
    "linear_test_loss_full = (\n",
    "    mean_absolute_error(y, linear_y_pred_full),\n",
    "    mean_squared_error(y, linear_y_pred_full),\n",
    "    r2_score(y, linear_y_pred_full)\n",
    ")\n",
    "linear_test_loss_full"
   ]
  },
  {
   "cell_type": "code",
   "execution_count": 69,
   "metadata": {
    "ExecuteTime": {
     "end_time": "2019-08-11T09:25:45.264374Z",
     "start_time": "2019-08-11T09:25:44.683944Z"
    }
   },
   "outputs": [
    {
     "data": {
      "image/png": "[encoded data removed]",
      "text/plain": [
       "<Figure size 720x576 with 1 Axes>"
      ]
     },
     "metadata": {
      "needs_background": "light"
     },
     "output_type": "display_data"
    }
   ],
   "source": [
    "plt.figure(figsize=(10, 8))\n",
    "plt.hist(pd.Series(linear_y_pred), bins=range(-5,20), alpha=0.75, density=True, label='predicted')\n",
    "plt.hist(pd.Series(y_test.ravel()), bins=range(-5,20), alpha=0.75, density=True, label='observed')\n",
    "plt.legend()\n",
    "plt.show()"
   ]
  },
  {
   "cell_type": "code",
   "execution_count": 81,
   "metadata": {
    "ExecuteTime": {
     "end_time": "2019-08-17T15:07:41.652902Z",
     "start_time": "2019-08-17T15:07:41.164019Z"
    }
   },
   "outputs": [
    {
     "data": {
      "image/png": "[encoded data removed]",
      "text/plain": [
       "<Figure size 720x576 with 1 Axes>"
      ]
     },
     "metadata": {
      "needs_background": "light"
     },
     "output_type": "display_data"
    }
   ],
   "source": [
    "plt.figure(figsize=(10, 8))\n",
    "plt.scatter(pd.Series(y_test.ravel()), pd.Series(linear_y_pred), alpha=0.1)\n",
    "plt.plot(np.linspace(-5, 25), np.linspace(-5, 25))\n",
    "plt.ylabel('Predicted total points')\n",
    "plt.xlabel('Observed total points')\n",
    "plt.title('Predicted against observed points for linear kernel with feature selection')\n",
    "plt.xlim(-5, 25)\n",
    "plt.ylim(0, 8)\n",
    "plt.grid()\n",
    "plt.show()"
   ]
  },
  {
   "cell_type": "markdown",
   "metadata": {},
   "source": [
    "### Model analysis"
   ]
  },
  {
   "cell_type": "code",
   "execution_count": 105,
   "metadata": {
    "ExecuteTime": {
     "end_time": "2019-08-17T15:12:45.543310Z",
     "start_time": "2019-08-17T15:12:45.532543Z"
    }
   },
   "outputs": [
    {
     "data": {
      "text/plain": [
       "[0.7505721638538407,\n",
       " 0.5054621933418844,\n",
       " -0.5200925825249731,\n",
       " 0.33430479074399067,\n",
       " 0.12107004613894645,\n",
       " 0.0839187277868696,\n",
       " 0.19162995283409856,\n",
       " 0.34396359376304986,\n",
       " -0.2573791806429355,\n",
       " 0.12568351420378576]"
      ]
     },
     "execution_count": 105,
     "metadata": {},
     "output_type": "execute_result"
    }
   ],
   "source": []
  },
  {
   "cell_type": "code",
   "execution_count": 113,
   "metadata": {
    "ExecuteTime": {
     "end_time": "2019-08-17T15:17:20.968625Z",
     "start_time": "2019-08-17T15:17:20.942227Z"
    }
   },
   "outputs": [
    {
     "data": {
      "text/html": [
       "<div>\n",
       "<style scoped>\n",
       "    .dataframe tbody tr th:only-of-type {\n",
       "        vertical-align: middle;\n",
       "    }\n",
       "\n",
       "    .dataframe tbody tr th {\n",
       "        vertical-align: top;\n",
       "    }\n",
       "\n",
       "    .dataframe thead th {\n",
       "        text-align: right;\n",
       "    }\n",
       "</style>\n",
       "<table border=\"1\" class=\"dataframe\">\n",
       "  <thead>\n",
       "    <tr style=\"text-align: right;\">\n",
       "      <th></th>\n",
       "      <th>feature</th>\n",
       "      <th>weight</th>\n",
       "    </tr>\n",
       "  </thead>\n",
       "  <tbody>\n",
       "    <tr>\n",
       "      <th>0</th>\n",
       "      <td>C(team)[T.12]</td>\n",
       "      <td>0.750572</td>\n",
       "    </tr>\n",
       "    <tr>\n",
       "      <th>1</th>\n",
       "      <td>C(opposition_team)[T.9]</td>\n",
       "      <td>0.505462</td>\n",
       "    </tr>\n",
       "    <tr>\n",
       "      <th>7</th>\n",
       "      <td>rolling_avg_minutes_element_p3</td>\n",
       "      <td>0.343964</td>\n",
       "    </tr>\n",
       "    <tr>\n",
       "      <th>3</th>\n",
       "      <td>value</td>\n",
       "      <td>0.334305</td>\n",
       "    </tr>\n",
       "    <tr>\n",
       "      <th>6</th>\n",
       "      <td>rolling_avg_saves_element</td>\n",
       "      <td>0.191630</td>\n",
       "    </tr>\n",
       "    <tr>\n",
       "      <th>9</th>\n",
       "      <td>expected_total_points_against_opposition_team_home_away</td>\n",
       "      <td>0.125684</td>\n",
       "    </tr>\n",
       "    <tr>\n",
       "      <th>4</th>\n",
       "      <td>rolling_avg_key_passes_element</td>\n",
       "      <td>0.121070</td>\n",
       "    </tr>\n",
       "    <tr>\n",
       "      <th>5</th>\n",
       "      <td>rolling_avg_big_chances_missed_element</td>\n",
       "      <td>0.083919</td>\n",
       "    </tr>\n",
       "    <tr>\n",
       "      <th>8</th>\n",
       "      <td>rolling_avg_goals_scored_opposition_team</td>\n",
       "      <td>-0.257379</td>\n",
       "    </tr>\n",
       "    <tr>\n",
       "      <th>2</th>\n",
       "      <td>C(opposition_team)[T.12]</td>\n",
       "      <td>-0.520093</td>\n",
       "    </tr>\n",
       "  </tbody>\n",
       "</table>\n",
       "</div>"
      ],
      "text/plain": [
       "                                                   feature    weight\n",
       "0                                            C(team)[T.12]  0.750572\n",
       "1                                  C(opposition_team)[T.9]  0.505462\n",
       "7                           rolling_avg_minutes_element_p3  0.343964\n",
       "3                                                    value  0.334305\n",
       "6                                rolling_avg_saves_element  0.191630\n",
       "9  expected_total_points_against_opposition_team_home_away  0.125684\n",
       "4                           rolling_avg_key_passes_element  0.121070\n",
       "5                   rolling_avg_big_chances_missed_element  0.083919\n",
       "8                 rolling_avg_goals_scored_opposition_team -0.257379\n",
       "2                                 C(opposition_team)[T.12] -0.520093"
      ]
     },
     "execution_count": 113,
     "metadata": {},
     "output_type": "execute_result"
    }
   ],
   "source": [
    "pd.DataFrame(list(zip(\n",
    "    list(np.array(X.design_info.column_names)[ridge_features_index]),\n",
    "    list(linear_model.coef_[0])\n",
    ")), columns=['feature', 'weight']).sort_values('weight', ascending=False)"
   ]
  },
  {
   "cell_type": "markdown",
   "metadata": {
    "heading_collapsed": true
   },
   "source": [
    "## RBF kernel"
   ]
  },
  {
   "cell_type": "code",
   "execution_count": 71,
   "metadata": {
    "ExecuteTime": {
     "end_time": "2019-08-11T09:25:46.012276Z",
     "start_time": "2019-08-11T09:25:45.652049Z"
    },
    "hidden": true
   },
   "outputs": [
    {
     "data": {
      "text/plain": [
       "SVR(C=100, cache_size=200, coef0=0.0, degree=3, epsilon=1.95, gamma=0.00103,\n",
       "    kernel='rbf', max_iter=-1, shrinking=True, tol=0.001, verbose=False)"
      ]
     },
     "execution_count": 71,
     "metadata": {},
     "output_type": "execute_result"
    }
   ],
   "source": [
    "rbf_model = SVR(kernel='rbf', epsilon=1.95, C=100, gamma=0.00103)\n",
    "rbf_model.fit(X_train_sel, y_train.ravel())"
   ]
  },
  {
   "cell_type": "code",
   "execution_count": 72,
   "metadata": {
    "ExecuteTime": {
     "end_time": "2019-08-11T09:25:46.069809Z",
     "start_time": "2019-08-11T09:25:46.014419Z"
    },
    "hidden": true
   },
   "outputs": [
    {
     "data": {
      "text/plain": [
       "(2.1639119305234766, 9.269219126410645, 0.10931313323945413)"
      ]
     },
     "execution_count": 72,
     "metadata": {},
     "output_type": "execute_result"
    }
   ],
   "source": [
    "# get predictions for test set\n",
    "rbf_y_pred = rbf_model.predict(X_test_sel).flatten()\n",
    "\n",
    "# calculate cross entropy loss for test set\n",
    "rbf_test_loss = (\n",
    "    mean_absolute_error(y_test, rbf_y_pred),\n",
    "    mean_squared_error(y_test, rbf_y_pred),\n",
    "    r2_score(y_test, rbf_y_pred)\n",
    ")\n",
    "rbf_test_loss"
   ]
  },
  {
   "cell_type": "code",
   "execution_count": 73,
   "metadata": {
    "ExecuteTime": {
     "end_time": "2019-08-11T09:25:46.678418Z",
     "start_time": "2019-08-11T09:25:46.071817Z"
    },
    "hidden": true
   },
   "outputs": [
    {
     "data": {
      "text/plain": [
       "SVR(C=100, cache_size=200, coef0=0.0, degree=3, epsilon=1.95, gamma=0.00103,\n",
       "    kernel='rbf', max_iter=-1, shrinking=True, tol=0.001, verbose=False)"
      ]
     },
     "execution_count": 73,
     "metadata": {},
     "output_type": "execute_result"
    }
   ],
   "source": [
    "# refit rbf_model on all data\n",
    "rbf_model_full = SVR(kernel='rbf', epsilon=1.95, C=100, gamma=0.00103)\n",
    "rbf_model_full.fit(X_sel, y.ravel())"
   ]
  },
  {
   "cell_type": "code",
   "execution_count": 74,
   "metadata": {
    "ExecuteTime": {
     "end_time": "2019-08-11T09:25:46.934832Z",
     "start_time": "2019-08-11T09:25:46.680592Z"
    },
    "hidden": true
   },
   "outputs": [
    {
     "data": {
      "text/plain": [
       "(2.139098287840825, 8.590755452294998, 0.10218904087412106)"
      ]
     },
     "execution_count": 74,
     "metadata": {},
     "output_type": "execute_result"
    }
   ],
   "source": [
    "# get predictions for whole set\n",
    "rbf_y_pred_full = rbf_model_full.predict(X_sel).flatten()\n",
    "\n",
    "# calculate cross entropy loss for test set\n",
    "rbf_test_loss_full = (\n",
    "    mean_absolute_error(y, rbf_y_pred_full),\n",
    "    mean_squared_error(y, rbf_y_pred_full),\n",
    "    r2_score(y, rbf_y_pred_full)\n",
    ")\n",
    "rbf_test_loss_full"
   ]
  },
  {
   "cell_type": "code",
   "execution_count": 75,
   "metadata": {
    "ExecuteTime": {
     "end_time": "2019-08-11T09:25:47.517551Z",
     "start_time": "2019-08-11T09:25:46.936790Z"
    },
    "hidden": true
   },
   "outputs": [
    {
     "data": {
      "image/png": "[encoded data removed]",
      "text/plain": [
       "<Figure size 720x576 with 1 Axes>"
      ]
     },
     "metadata": {
      "needs_background": "light"
     },
     "output_type": "display_data"
    }
   ],
   "source": [
    "plt.figure(figsize=(10, 8))\n",
    "plt.hist(pd.Series(rbf_y_pred), bins=range(-5,20), alpha=0.75, density=True, label='predicted')\n",
    "plt.hist(pd.Series(y_test.ravel()), bins=range(-5,20), alpha=0.75, density=True, label='observed')\n",
    "plt.legend()\n",
    "plt.show()"
   ]
  },
  {
   "cell_type": "code",
   "execution_count": 76,
   "metadata": {
    "ExecuteTime": {
     "end_time": "2019-08-11T09:25:47.841860Z",
     "start_time": "2019-08-11T09:25:47.519696Z"
    },
    "hidden": true
   },
   "outputs": [
    {
     "data": {
      "image/png": "[encoded data removed]",
      "text/plain": [
       "<Figure size 720x576 with 1 Axes>"
      ]
     },
     "metadata": {
      "needs_background": "light"
     },
     "output_type": "display_data"
    }
   ],
   "source": [
    "plt.figure(figsize=(10, 8))\n",
    "plt.scatter(pd.Series(y_test.ravel()), pd.Series(rbf_y_pred), alpha=0.1)\n",
    "plt.plot(np.linspace(-5, 25), np.linspace(-5, 25))\n",
    "plt.ylabel('Predicted total points')\n",
    "plt.xlabel('Observed total points')\n",
    "plt.ylim((-3, 12))\n",
    "plt.show()"
   ]
  },
  {
   "cell_type": "markdown",
   "metadata": {},
   "source": [
    "## Summary"
   ]
  },
  {
   "cell_type": "code",
   "execution_count": 77,
   "metadata": {
    "ExecuteTime": {
     "end_time": "2019-08-11T09:25:47.859249Z",
     "start_time": "2019-08-11T09:25:47.845207Z"
    }
   },
   "outputs": [
    {
     "data": {
      "text/html": [
       "<div>\n",
       "<style scoped>\n",
       "    .dataframe tbody tr th:only-of-type {\n",
       "        vertical-align: middle;\n",
       "    }\n",
       "\n",
       "    .dataframe tbody tr th {\n",
       "        vertical-align: top;\n",
       "    }\n",
       "\n",
       "    .dataframe thead th {\n",
       "        text-align: right;\n",
       "    }\n",
       "</style>\n",
       "<table border=\"1\" class=\"dataframe\">\n",
       "  <thead>\n",
       "    <tr style=\"text-align: right;\">\n",
       "      <th></th>\n",
       "      <th>model</th>\n",
       "      <th>MAE</th>\n",
       "      <th>MSE</th>\n",
       "      <th>r2</th>\n",
       "    </tr>\n",
       "  </thead>\n",
       "  <tbody>\n",
       "    <tr>\n",
       "      <th>0</th>\n",
       "      <td>Linear kernel</td>\n",
       "      <td>2.140857</td>\n",
       "      <td>9.267973</td>\n",
       "      <td>0.109433</td>\n",
       "    </tr>\n",
       "    <tr>\n",
       "      <th>1</th>\n",
       "      <td>RBF kernel</td>\n",
       "      <td>2.163912</td>\n",
       "      <td>9.269219</td>\n",
       "      <td>0.109313</td>\n",
       "    </tr>\n",
       "  </tbody>\n",
       "</table>\n",
       "</div>"
      ],
      "text/plain": [
       "           model       MAE       MSE        r2\n",
       "0  Linear kernel  2.140857  9.267973  0.109433\n",
       "1     RBF kernel  2.163912  9.269219  0.109313"
      ]
     },
     "execution_count": 77,
     "metadata": {},
     "output_type": "execute_result"
    }
   ],
   "source": [
    "pd.DataFrame([\n",
    "    ('Linear kernel', linear_test_loss[0], linear_test_loss[1], linear_test_loss[2]),\n",
    "    ('RBF kernel', rbf_test_loss[0], rbf_test_loss[1], rbf_test_loss[2]),\n",
    "], columns=['model', 'MAE', 'MSE', 'r2'])"
   ]
  },
  {
   "cell_type": "code",
   "execution_count": 78,
   "metadata": {
    "ExecuteTime": {
     "end_time": "2019-08-11T09:26:07.167232Z",
     "start_time": "2019-08-11T09:26:07.138826Z"
    }
   },
   "outputs": [
    {
     "data": {
      "text/html": [
       "<div>\n",
       "<style scoped>\n",
       "    .dataframe tbody tr th:only-of-type {\n",
       "        vertical-align: middle;\n",
       "    }\n",
       "\n",
       "    .dataframe tbody tr th {\n",
       "        vertical-align: top;\n",
       "    }\n",
       "\n",
       "    .dataframe thead th {\n",
       "        text-align: right;\n",
       "    }\n",
       "</style>\n",
       "<table border=\"1\" class=\"dataframe\">\n",
       "  <thead>\n",
       "    <tr style=\"text-align: right;\">\n",
       "      <th></th>\n",
       "      <th>model</th>\n",
       "      <th>MAE</th>\n",
       "      <th>MSE</th>\n",
       "      <th>r2</th>\n",
       "    </tr>\n",
       "  </thead>\n",
       "  <tbody>\n",
       "    <tr>\n",
       "      <th>0</th>\n",
       "      <td>Linear kernel</td>\n",
       "      <td>2.131835</td>\n",
       "      <td>8.609397</td>\n",
       "      <td>0.100241</td>\n",
       "    </tr>\n",
       "    <tr>\n",
       "      <th>1</th>\n",
       "      <td>RBF kernel</td>\n",
       "      <td>2.139098</td>\n",
       "      <td>8.590755</td>\n",
       "      <td>0.102189</td>\n",
       "    </tr>\n",
       "  </tbody>\n",
       "</table>\n",
       "</div>"
      ],
      "text/plain": [
       "           model       MAE       MSE        r2\n",
       "0  Linear kernel  2.131835  8.609397  0.100241\n",
       "1     RBF kernel  2.139098  8.590755  0.102189"
      ]
     },
     "execution_count": 78,
     "metadata": {},
     "output_type": "execute_result"
    }
   ],
   "source": [
    "pd.DataFrame([\n",
    "    ('Linear kernel', linear_test_loss_full[0], linear_test_loss_full[1], linear_test_loss_full[2]),\n",
    "    ('RBF kernel', rbf_test_loss_full[0], rbf_test_loss_full[1], rbf_test_loss_full[2]),\n",
    "], columns=['model', 'MAE', 'MSE', 'r2'])"
   ]
  }
 ],
 "metadata": {
  "kernelspec": {
   "display_name": "Python 3",
   "language": "python",
   "name": "python3"
  },
  "language_info": {
   "codemirror_mode": {
    "name": "ipython",
    "version": 3
   },
   "file_extension": ".py",
   "mimetype": "text/x-python",
   "name": "python",
   "nbconvert_exporter": "python",
   "pygments_lexer": "ipython3",
   "version": "3.6.7"
  },
  "toc": {
   "nav_menu": {},
   "number_sections": true,
   "sideBar": true,
   "skip_h1_title": false,
   "title_cell": "Table of Contents",
   "title_sidebar": "Contents",
   "toc_cell": false,
   "toc_position": {},
   "toc_section_display": true,
   "toc_window_display": false
  }
 },
 "nbformat": 4,
 "nbformat_minor": 2
}
