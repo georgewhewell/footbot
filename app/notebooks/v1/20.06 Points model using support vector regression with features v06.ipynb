{
 "cells": [
  {
   "cell_type": "markdown",
   "metadata": {
    "heading_collapsed": true
   },
   "source": [
    "# Set up"
   ]
  },
  {
   "cell_type": "code",
   "execution_count": 1,
   "metadata": {
    "ExecuteTime": {
     "end_time": "2019-08-02T13:59:15.968224Z",
     "start_time": "2019-08-02T13:59:14.779612Z"
    },
    "hidden": true
   },
   "outputs": [
    {
     "name": "stderr",
     "output_type": "stream",
     "text": [
      "/home/tom/footbot/venv/lib/python3.6/site-packages/sklearn/externals/joblib/__init__.py:15: DeprecationWarning: sklearn.externals.joblib is deprecated in 0.21 and will be removed in 0.23. Please import this functionality directly from joblib, which can be installed with: pip install joblib. If this warning is raised when loading pickled models, you may need to re-serialize those models with scikit-learn 0.21+.\n",
      "  warnings.warn(msg, category=DeprecationWarning)\n"
     ]
    }
   ],
   "source": [
    "import pandas as pd\n",
    "import patsy\n",
    "import numpy as np\n",
    "from sklearn.svm import SVR\n",
    "from sklearn.preprocessing import StandardScaler\n",
    "from sklearn.model_selection import PredefinedSplit, GridSearchCV, cross_val_score\n",
    "from sklearn.decomposition import PCA\n",
    "from skopt.space import Real, Integer\n",
    "from skopt.utils import use_named_args\n",
    "from skopt import gp_minimize\n",
    "from sklearn.feature_selection import RFECV\n",
    "from sklearn.metrics import mean_absolute_error, mean_squared_error, r2_score\n",
    "import matplotlib.pyplot as plt"
   ]
  },
  {
   "cell_type": "markdown",
   "metadata": {
    "heading_collapsed": true
   },
   "source": [
    "# Getting data"
   ]
  },
  {
   "cell_type": "code",
   "execution_count": 2,
   "metadata": {
    "ExecuteTime": {
     "end_time": "2019-08-02T13:59:17.499227Z",
     "start_time": "2019-08-02T13:59:17.495729Z"
    },
    "hidden": true
   },
   "outputs": [],
   "source": [
    "file_name = '../csvs/element_gameweek_features_v06.csv'"
   ]
  },
  {
   "cell_type": "code",
   "execution_count": 3,
   "metadata": {
    "ExecuteTime": {
     "end_time": "2019-08-02T13:59:18.257192Z",
     "start_time": "2019-08-02T13:59:17.974936Z"
    },
    "hidden": true
   },
   "outputs": [],
   "source": [
    "element_gameweek_df = pd.read_csv(file_name)"
   ]
  },
  {
   "cell_type": "code",
   "execution_count": 4,
   "metadata": {
    "ExecuteTime": {
     "end_time": "2019-08-02T13:59:18.531197Z",
     "start_time": "2019-08-02T13:59:18.527851Z"
    },
    "hidden": true
   },
   "outputs": [],
   "source": [
    "current_event = 20"
   ]
  },
  {
   "cell_type": "code",
   "execution_count": 5,
   "metadata": {
    "ExecuteTime": {
     "end_time": "2019-08-02T13:59:19.114008Z",
     "start_time": "2019-08-02T13:59:19.110773Z"
    },
    "hidden": true
   },
   "outputs": [],
   "source": [
    "last_train_event = 15"
   ]
  },
  {
   "cell_type": "code",
   "execution_count": 6,
   "metadata": {
    "ExecuteTime": {
     "end_time": "2019-08-02T13:59:20.111783Z",
     "start_time": "2019-08-02T13:59:20.102528Z"
    },
    "hidden": true
   },
   "outputs": [],
   "source": [
    "element_gameweek_df =\\\n",
    "element_gameweek_df[\n",
    "    (element_gameweek_df['event'] <= current_event)\n",
    "]"
   ]
  },
  {
   "cell_type": "code",
   "execution_count": 7,
   "metadata": {
    "ExecuteTime": {
     "end_time": "2019-08-02T13:59:24.287071Z",
     "start_time": "2019-08-02T13:59:20.566855Z"
    },
    "hidden": true
   },
   "outputs": [],
   "source": [
    "element_gameweek_df.fillna(\n",
    "    element_gameweek_df[element_gameweek_df['event'] <= last_train_event].mean(),\n",
    "    inplace=True\n",
    ")"
   ]
  },
  {
   "cell_type": "code",
   "execution_count": 8,
   "metadata": {
    "ExecuteTime": {
     "end_time": "2019-08-02T13:59:24.296907Z",
     "start_time": "2019-08-02T13:59:24.290145Z"
    },
    "hidden": true
   },
   "outputs": [],
   "source": [
    "element_gameweek_df = element_gameweek_df[element_gameweek_df['rolling_avg_minutes_element_p3'] >= 60]"
   ]
  },
  {
   "cell_type": "markdown",
   "metadata": {
    "heading_collapsed": true
   },
   "source": [
    "# Modelling data"
   ]
  },
  {
   "cell_type": "markdown",
   "metadata": {
    "heading_collapsed": true,
    "hidden": true
   },
   "source": [
    "## Splitting data"
   ]
  },
  {
   "cell_type": "code",
   "execution_count": 9,
   "metadata": {
    "ExecuteTime": {
     "end_time": "2019-08-02T13:59:28.858814Z",
     "start_time": "2019-08-02T13:59:28.849311Z"
    },
    "hidden": true
   },
   "outputs": [],
   "source": [
    "test_fold = [-1 if i <= last_train_event else 0 for i in element_gameweek_df['event']]\n",
    "ps = PredefinedSplit(test_fold)"
   ]
  },
  {
   "cell_type": "code",
   "execution_count": 10,
   "metadata": {
    "ExecuteTime": {
     "end_time": "2019-08-02T13:59:30.348621Z",
     "start_time": "2019-08-02T13:59:29.760273Z"
    },
    "hidden": true
   },
   "outputs": [],
   "source": [
    "for train_index, test_index in ps.split():\n",
    "    element_gameweek_df_train, element_gameweek_df_test = \\\n",
    "    element_gameweek_df.copy().iloc[train_index], element_gameweek_df.copy().iloc[test_index]"
   ]
  },
  {
   "cell_type": "markdown",
   "metadata": {
    "heading_collapsed": true,
    "hidden": true
   },
   "source": [
    "## Scaling data"
   ]
  },
  {
   "cell_type": "code",
   "execution_count": 11,
   "metadata": {
    "ExecuteTime": {
     "end_time": "2019-08-02T13:59:31.349135Z",
     "start_time": "2019-08-02T13:59:31.339540Z"
    },
    "hidden": true
   },
   "outputs": [
    {
     "data": {
      "text/plain": [
       "['value',\n",
       " 'rolling_avg_total_points_element',\n",
       " 'rolling_max_total_points_element',\n",
       " 'rolling_avg_bps_element',\n",
       " 'rolling_avg_bonus_element',\n",
       " 'rolling_avg_goals_scored_element',\n",
       " 'rolling_avg_minutes_element',\n",
       " 'rolling_avg_clean_sheets_element',\n",
       " 'rolling_avg_completed_passes_element',\n",
       " 'rolling_avg_recoveries_element',\n",
       " 'rolling_avg_assists_element',\n",
       " 'rolling_avg_key_passes_element',\n",
       " 'rolling_avg_winning_goals_element',\n",
       " 'rolling_avg_tackled_element',\n",
       " 'rolling_avg_dribbles_element',\n",
       " 'rolling_avg_clearances_blocks_interceptions_element',\n",
       " 'rolling_avg_big_chances_created_element',\n",
       " 'rolling_avg_target_missed_element',\n",
       " 'rolling_avg_fouls_element',\n",
       " 'rolling_avg_tackles_element',\n",
       " 'rolling_avg_open_play_crosses_element',\n",
       " 'rolling_avg_offside_element',\n",
       " 'rolling_avg_big_chances_missed_element',\n",
       " 'rolling_avg_saves_element',\n",
       " 'rolling_avg_goals_conceded_element',\n",
       " 'rolling_avg_attempted_passes_element',\n",
       " 'rolling_avg_errors_leading_to_goal_element',\n",
       " 'rolling_avg_errors_leading_to_goal_attempt_element',\n",
       " 'rolling_avg_own_goals_element',\n",
       " 'rolling_avg_penalties_concededd_element',\n",
       " 'rolling_avg_penalties_missed_element',\n",
       " 'rolling_avg_penalties_saved_element',\n",
       " 'rolling_avg_red_cards_element',\n",
       " 'rolling_avg_yellow_cards_element',\n",
       " 'rolling_avg_minutes_element_p3',\n",
       " 'rolling_avg_total_points_element_p3',\n",
       " 'rolling_avg_total_points_own_team',\n",
       " 'rolling_avg_total_points_element_home',\n",
       " 'rolling_avg_total_points_element_away',\n",
       " 'expected_total_points_element_home_away',\n",
       " 'rolling_avg_total_points_opposition_team',\n",
       " 'rolling_avg_goals_scored_opposition_team',\n",
       " 'rolling_avg_goals_conceded_opposition_team',\n",
       " 'rolling_avg_total_points_element_type',\n",
       " 'rolling_avg_total_points_against_opposition_team',\n",
       " 'rolling_avg_total_points_against_opposition_team_element_type',\n",
       " 'expected_total_points_against_opposition_team',\n",
       " 'rolling_avg_total_points_against_opposition_team_element_type_home',\n",
       " 'rolling_avg_total_points_against_opposition_team_element_type_away',\n",
       " 'expected_total_points_against_opposition_team_home_away']"
      ]
     },
     "execution_count": 11,
     "metadata": {},
     "output_type": "execute_result"
    }
   ],
   "source": [
    "scaled_feature_cols = [\n",
    "    i for i in element_gameweek_df.columns if i not in [\n",
    "        'safe_web_name', 'element', 'event', 'fixture', 'team',\n",
    "        'opposition_team', 'element_type', 'was_home', 'is_sunday',\n",
    "        'is_weekday', 'is_late', 'is_early', 'has_high_points_ever_element',\n",
    "        'total_points', 'minutes', 'rolling_value_points'\n",
    "    ]\n",
    "]\n",
    "\n",
    "scaled_feature_cols"
   ]
  },
  {
   "cell_type": "code",
   "execution_count": 12,
   "metadata": {
    "ExecuteTime": {
     "end_time": "2019-08-02T13:59:35.635432Z",
     "start_time": "2019-08-02T13:59:35.347664Z"
    },
    "hidden": true
   },
   "outputs": [],
   "source": [
    "scaled_df_train = element_gameweek_df_train.copy()\n",
    "scaled_df_test = element_gameweek_df_test.copy()\n",
    "scaled_df = element_gameweek_df.copy()\n",
    "\n",
    "scaler = StandardScaler().fit(scaled_df_train[scaled_feature_cols].values)\n",
    "\n",
    "scaled_df_train = scaler.transform(scaled_df_train[scaled_feature_cols].values)\n",
    "scaled_df_test = scaler.transform(scaled_df_test[scaled_feature_cols].values)\n",
    "scaled_df = scaler.transform(scaled_df[scaled_feature_cols].values)\n",
    "\n",
    "element_gameweek_df_train[scaled_feature_cols] = scaled_df_train\n",
    "element_gameweek_df_test[scaled_feature_cols] = scaled_df_test\n",
    "element_gameweek_df[scaled_feature_cols] = scaled_df"
   ]
  },
  {
   "cell_type": "markdown",
   "metadata": {
    "heading_collapsed": true,
    "hidden": true
   },
   "source": [
    "## Building model"
   ]
  },
  {
   "cell_type": "code",
   "execution_count": 13,
   "metadata": {
    "ExecuteTime": {
     "end_time": "2019-08-02T14:00:54.233840Z",
     "start_time": "2019-08-02T14:00:54.220296Z"
    },
    "hidden": true
   },
   "outputs": [],
   "source": [
    "formula = \\\n",
    "'total_points ~ C(element) + C(element_type) + C(team) + C(opposition_team) + ' + \\\n",
    "' + '.join([i for i in element_gameweek_df.columns if i not in\n",
    " [\n",
    "     'safe_web_name',\n",
    "     'element',\n",
    "     'event',\n",
    "     'fixture',\n",
    "     'team',\n",
    "     'opposition_team',\n",
    "     'element_type',\n",
    "     'minutes',\n",
    "     'rolling_value_points',\n",
    "     'total_points',\n",
    "     \n",
    "     'expected_total_points_against_opposition_team',\n",
    "     'rolling_avg_total_points_element_home',\n",
    "     'rolling_max_total_points_element',\n",
    "     'rolling_avg_bps_element',\n",
    "     'expected_total_points_element_home_away',\n",
    "     'rolling_avg_total_points_element_away',\n",
    "     'rolling_avg_total_points_own_team',\n",
    "     'rolling_avg_total_points_against_opposition_team',\n",
    "     'rolling_avg_minutes_element',\n",
    "     'rolling_avg_total_points_opposition_team',\n",
    "     'rolling_avg_dribbles_element',\n",
    "     'rolling_avg_total_points_against_opposition_team_element_type',\n",
    "     'rolling_avg_total_points_against_opposition_team_element_type_away',\n",
    "     'rolling_avg_total_points_against_opposition_team_element_type_home',\n",
    "     'rolling_avg_goals_conceded_element',\n",
    "     'rolling_avg_completed_passes_element',\n",
    "     'rolling_avg_total_points_element_type',\n",
    "     'rolling_avg_recoveries_element',\n",
    " ]])"
   ]
  },
  {
   "cell_type": "code",
   "execution_count": 14,
   "metadata": {
    "ExecuteTime": {
     "end_time": "2019-08-02T14:00:55.490319Z",
     "start_time": "2019-08-02T14:00:55.483446Z"
    },
    "hidden": true
   },
   "outputs": [
    {
     "name": "stdout",
     "output_type": "stream",
     "text": [
      "total_points ~ C(element) + C(element_type) + C(team) + C(opposition_team) + was_home + is_sunday + is_weekday + is_early + is_late + value + rolling_avg_total_points_element + has_high_points_ever_element + rolling_avg_bonus_element + rolling_avg_goals_scored_element + rolling_avg_clean_sheets_element + rolling_avg_assists_element + rolling_avg_key_passes_element + rolling_avg_winning_goals_element + rolling_avg_tackled_element + rolling_avg_clearances_blocks_interceptions_element + rolling_avg_big_chances_created_element + rolling_avg_target_missed_element + rolling_avg_fouls_element + rolling_avg_tackles_element + rolling_avg_open_play_crosses_element + rolling_avg_offside_element + rolling_avg_big_chances_missed_element + rolling_avg_saves_element + rolling_avg_attempted_passes_element + rolling_avg_errors_leading_to_goal_element + rolling_avg_errors_leading_to_goal_attempt_element + rolling_avg_own_goals_element + rolling_avg_penalties_concededd_element + rolling_avg_penalties_missed_element + rolling_avg_penalties_saved_element + rolling_avg_red_cards_element + rolling_avg_yellow_cards_element + rolling_avg_minutes_element_p3 + rolling_avg_total_points_element_p3 + rolling_avg_goals_scored_opposition_team + rolling_avg_goals_conceded_opposition_team + expected_total_points_against_opposition_team_home_away\n"
     ]
    }
   ],
   "source": [
    "print(formula)"
   ]
  },
  {
   "cell_type": "code",
   "execution_count": 15,
   "metadata": {
    "ExecuteTime": {
     "end_time": "2019-08-02T14:00:56.401588Z",
     "start_time": "2019-08-02T14:00:56.101588Z"
    },
    "hidden": true
   },
   "outputs": [],
   "source": [
    "y, X = patsy.dmatrices(formula, element_gameweek_df, return_type='matrix')"
   ]
  },
  {
   "cell_type": "code",
   "execution_count": 16,
   "metadata": {
    "ExecuteTime": {
     "end_time": "2019-08-02T14:00:56.755127Z",
     "start_time": "2019-08-02T14:00:56.737084Z"
    },
    "hidden": true
   },
   "outputs": [],
   "source": [
    "for train_index, test_index in ps.split():\n",
    "    X_train, X_test = X[train_index], X[test_index]\n",
    "    y_train, y_test = y[train_index], y[test_index]"
   ]
  },
  {
   "cell_type": "markdown",
   "metadata": {
    "heading_collapsed": true,
    "hidden": true
   },
   "source": [
    "## Principal components"
   ]
  },
  {
   "cell_type": "code",
   "execution_count": 17,
   "metadata": {
    "ExecuteTime": {
     "end_time": "2019-08-02T14:01:00.249330Z",
     "start_time": "2019-08-02T14:01:00.206251Z"
    },
    "hidden": true
   },
   "outputs": [
    {
     "data": {
      "text/plain": [
       "OrderedDict([('Intercept', 0),\n",
       "             ('C(element)[T.2]', 1),\n",
       "             ('C(element)[T.4]', 2),\n",
       "             ('C(element)[T.5]', 3),\n",
       "             ('C(element)[T.6]', 4),\n",
       "             ('C(element)[T.7]', 5),\n",
       "             ('C(element)[T.8]', 6),\n",
       "             ('C(element)[T.9]', 7),\n",
       "             ('C(element)[T.11]', 8),\n",
       "             ('C(element)[T.12]', 9),\n",
       "             ('C(element)[T.13]', 10),\n",
       "             ('C(element)[T.14]', 11),\n",
       "             ('C(element)[T.15]', 12),\n",
       "             ('C(element)[T.17]', 13),\n",
       "             ('C(element)[T.18]', 14),\n",
       "             ('C(element)[T.22]', 15),\n",
       "             ('C(element)[T.23]', 16),\n",
       "             ('C(element)[T.24]', 17),\n",
       "             ('C(element)[T.26]', 18),\n",
       "             ('C(element)[T.27]', 19),\n",
       "             ('C(element)[T.28]', 20),\n",
       "             ('C(element)[T.29]', 21),\n",
       "             ('C(element)[T.31]', 22),\n",
       "             ('C(element)[T.33]', 23),\n",
       "             ('C(element)[T.35]', 24),\n",
       "             ('C(element)[T.36]', 25),\n",
       "             ('C(element)[T.37]', 26),\n",
       "             ('C(element)[T.39]', 27),\n",
       "             ('C(element)[T.40]', 28),\n",
       "             ('C(element)[T.42]', 29),\n",
       "             ('C(element)[T.43]', 30),\n",
       "             ('C(element)[T.45]', 31),\n",
       "             ('C(element)[T.47]', 32),\n",
       "             ('C(element)[T.48]', 33),\n",
       "             ('C(element)[T.49]', 34),\n",
       "             ('C(element)[T.50]', 35),\n",
       "             ('C(element)[T.51]', 36),\n",
       "             ('C(element)[T.54]', 37),\n",
       "             ('C(element)[T.55]', 38),\n",
       "             ('C(element)[T.56]', 39),\n",
       "             ('C(element)[T.57]', 40),\n",
       "             ('C(element)[T.58]', 41),\n",
       "             ('C(element)[T.59]', 42),\n",
       "             ('C(element)[T.60]', 43),\n",
       "             ('C(element)[T.61]', 44),\n",
       "             ('C(element)[T.62]', 45),\n",
       "             ('C(element)[T.66]', 46),\n",
       "             ('C(element)[T.69]', 47),\n",
       "             ('C(element)[T.70]', 48),\n",
       "             ('C(element)[T.71]', 49),\n",
       "             ('C(element)[T.72]', 50),\n",
       "             ('C(element)[T.73]', 51),\n",
       "             ('C(element)[T.74]', 52),\n",
       "             ('C(element)[T.75]', 53),\n",
       "             ('C(element)[T.76]', 54),\n",
       "             ('C(element)[T.77]', 55),\n",
       "             ('C(element)[T.78]', 56),\n",
       "             ('C(element)[T.79]', 57),\n",
       "             ('C(element)[T.80]', 58),\n",
       "             ('C(element)[T.82]', 59),\n",
       "             ('C(element)[T.83]', 60),\n",
       "             ('C(element)[T.84]', 61),\n",
       "             ('C(element)[T.85]', 62),\n",
       "             ('C(element)[T.87]', 63),\n",
       "             ('C(element)[T.88]', 64),\n",
       "             ('C(element)[T.90]', 65),\n",
       "             ('C(element)[T.91]', 66),\n",
       "             ('C(element)[T.92]', 67),\n",
       "             ('C(element)[T.94]', 68),\n",
       "             ('C(element)[T.95]', 69),\n",
       "             ('C(element)[T.98]', 70),\n",
       "             ('C(element)[T.99]', 71),\n",
       "             ('C(element)[T.100]', 72),\n",
       "             ('C(element)[T.101]', 73),\n",
       "             ('C(element)[T.102]', 74),\n",
       "             ('C(element)[T.105]', 75),\n",
       "             ('C(element)[T.106]', 76),\n",
       "             ('C(element)[T.110]', 77),\n",
       "             ('C(element)[T.113]', 78),\n",
       "             ('C(element)[T.115]', 79),\n",
       "             ('C(element)[T.116]', 80),\n",
       "             ('C(element)[T.118]', 81),\n",
       "             ('C(element)[T.122]', 82),\n",
       "             ('C(element)[T.124]', 83),\n",
       "             ('C(element)[T.125]', 84),\n",
       "             ('C(element)[T.126]', 85),\n",
       "             ('C(element)[T.127]', 86),\n",
       "             ('C(element)[T.133]', 87),\n",
       "             ('C(element)[T.134]', 88),\n",
       "             ('C(element)[T.135]', 89),\n",
       "             ('C(element)[T.137]', 90),\n",
       "             ('C(element)[T.138]', 91),\n",
       "             ('C(element)[T.140]', 92),\n",
       "             ('C(element)[T.141]', 93),\n",
       "             ('C(element)[T.142]', 94),\n",
       "             ('C(element)[T.143]', 95),\n",
       "             ('C(element)[T.145]', 96),\n",
       "             ('C(element)[T.147]', 97),\n",
       "             ('C(element)[T.149]', 98),\n",
       "             ('C(element)[T.150]', 99),\n",
       "             ('C(element)[T.151]', 100),\n",
       "             ('C(element)[T.152]', 101),\n",
       "             ('C(element)[T.154]', 102),\n",
       "             ('C(element)[T.156]', 103),\n",
       "             ('C(element)[T.157]', 104),\n",
       "             ('C(element)[T.160]', 105),\n",
       "             ('C(element)[T.161]', 106),\n",
       "             ('C(element)[T.162]', 107),\n",
       "             ('C(element)[T.164]', 108),\n",
       "             ('C(element)[T.167]', 109),\n",
       "             ('C(element)[T.168]', 110),\n",
       "             ('C(element)[T.169]', 111),\n",
       "             ('C(element)[T.172]', 112),\n",
       "             ('C(element)[T.175]', 113),\n",
       "             ('C(element)[T.177]', 114),\n",
       "             ('C(element)[T.178]', 115),\n",
       "             ('C(element)[T.180]', 116),\n",
       "             ('C(element)[T.181]', 117),\n",
       "             ('C(element)[T.182]', 118),\n",
       "             ('C(element)[T.183]', 119),\n",
       "             ('C(element)[T.184]', 120),\n",
       "             ('C(element)[T.189]', 121),\n",
       "             ('C(element)[T.190]', 122),\n",
       "             ('C(element)[T.191]', 123),\n",
       "             ('C(element)[T.192]', 124),\n",
       "             ('C(element)[T.193]', 125),\n",
       "             ('C(element)[T.195]', 126),\n",
       "             ('C(element)[T.197]', 127),\n",
       "             ('C(element)[T.198]', 128),\n",
       "             ('C(element)[T.199]', 129),\n",
       "             ('C(element)[T.200]', 130),\n",
       "             ('C(element)[T.201]', 131),\n",
       "             ('C(element)[T.202]', 132),\n",
       "             ('C(element)[T.206]', 133),\n",
       "             ('C(element)[T.208]', 134),\n",
       "             ('C(element)[T.210]', 135),\n",
       "             ('C(element)[T.211]', 136),\n",
       "             ('C(element)[T.213]', 137),\n",
       "             ('C(element)[T.215]', 138),\n",
       "             ('C(element)[T.219]', 139),\n",
       "             ('C(element)[T.220]', 140),\n",
       "             ('C(element)[T.221]', 141),\n",
       "             ('C(element)[T.222]', 142),\n",
       "             ('C(element)[T.223]', 143),\n",
       "             ('C(element)[T.224]', 144),\n",
       "             ('C(element)[T.225]', 145),\n",
       "             ('C(element)[T.226]', 146),\n",
       "             ('C(element)[T.227]', 147),\n",
       "             ('C(element)[T.231]', 148),\n",
       "             ('C(element)[T.233]', 149),\n",
       "             ('C(element)[T.234]', 150),\n",
       "             ('C(element)[T.236]', 151),\n",
       "             ('C(element)[T.239]', 152),\n",
       "             ('C(element)[T.242]', 153),\n",
       "             ('C(element)[T.243]', 154),\n",
       "             ('C(element)[T.245]', 155),\n",
       "             ('C(element)[T.246]', 156),\n",
       "             ('C(element)[T.247]', 157),\n",
       "             ('C(element)[T.249]', 158),\n",
       "             ('C(element)[T.251]', 159),\n",
       "             ('C(element)[T.252]', 160),\n",
       "             ('C(element)[T.253]', 161),\n",
       "             ('C(element)[T.254]', 162),\n",
       "             ('C(element)[T.255]', 163),\n",
       "             ('C(element)[T.256]', 164),\n",
       "             ('C(element)[T.257]', 165),\n",
       "             ('C(element)[T.258]', 166),\n",
       "             ('C(element)[T.260]', 167),\n",
       "             ('C(element)[T.262]', 168),\n",
       "             ('C(element)[T.263]', 169),\n",
       "             ('C(element)[T.264]', 170),\n",
       "             ('C(element)[T.265]', 171),\n",
       "             ('C(element)[T.267]', 172),\n",
       "             ('C(element)[T.268]', 173),\n",
       "             ('C(element)[T.269]', 174),\n",
       "             ('C(element)[T.270]', 175),\n",
       "             ('C(element)[T.271]', 176),\n",
       "             ('C(element)[T.272]', 177),\n",
       "             ('C(element)[T.274]', 178),\n",
       "             ('C(element)[T.275]', 179),\n",
       "             ('C(element)[T.276]', 180),\n",
       "             ('C(element)[T.280]', 181),\n",
       "             ('C(element)[T.281]', 182),\n",
       "             ('C(element)[T.282]', 183),\n",
       "             ('C(element)[T.284]', 184),\n",
       "             ('C(element)[T.285]', 185),\n",
       "             ('C(element)[T.286]', 186),\n",
       "             ('C(element)[T.288]', 187),\n",
       "             ('C(element)[T.289]', 188),\n",
       "             ('C(element)[T.291]', 189),\n",
       "             ('C(element)[T.292]', 190),\n",
       "             ('C(element)[T.293]', 191),\n",
       "             ('C(element)[T.294]', 192),\n",
       "             ('C(element)[T.295]', 193),\n",
       "             ('C(element)[T.296]', 194),\n",
       "             ('C(element)[T.297]', 195),\n",
       "             ('C(element)[T.298]', 196),\n",
       "             ('C(element)[T.299]', 197),\n",
       "             ('C(element)[T.300]', 198),\n",
       "             ('C(element)[T.301]', 199),\n",
       "             ('C(element)[T.302]', 200),\n",
       "             ('C(element)[T.304]', 201),\n",
       "             ('C(element)[T.305]', 202),\n",
       "             ('C(element)[T.306]', 203),\n",
       "             ('C(element)[T.309]', 204),\n",
       "             ('C(element)[T.310]', 205),\n",
       "             ('C(element)[T.311]', 206),\n",
       "             ('C(element)[T.312]', 207),\n",
       "             ('C(element)[T.313]', 208),\n",
       "             ('C(element)[T.315]', 209),\n",
       "             ('C(element)[T.317]', 210),\n",
       "             ('C(element)[T.318]', 211),\n",
       "             ('C(element)[T.319]', 212),\n",
       "             ('C(element)[T.320]', 213),\n",
       "             ('C(element)[T.324]', 214),\n",
       "             ('C(element)[T.326]', 215),\n",
       "             ('C(element)[T.327]', 216),\n",
       "             ('C(element)[T.328]', 217),\n",
       "             ('C(element)[T.330]', 218),\n",
       "             ('C(element)[T.331]', 219),\n",
       "             ('C(element)[T.332]', 220),\n",
       "             ('C(element)[T.333]', 221),\n",
       "             ('C(element)[T.335]', 222),\n",
       "             ('C(element)[T.336]', 223),\n",
       "             ('C(element)[T.339]', 224),\n",
       "             ('C(element)[T.340]', 225),\n",
       "             ('C(element)[T.343]', 226),\n",
       "             ('C(element)[T.344]', 227),\n",
       "             ('C(element)[T.345]', 228),\n",
       "             ('C(element)[T.346]', 229),\n",
       "             ('C(element)[T.347]', 230),\n",
       "             ('C(element)[T.348]', 231),\n",
       "             ('C(element)[T.349]', 232),\n",
       "             ('C(element)[T.351]', 233),\n",
       "             ('C(element)[T.352]', 234),\n",
       "             ('C(element)[T.353]', 235),\n",
       "             ('C(element)[T.354]', 236),\n",
       "             ('C(element)[T.355]', 237),\n",
       "             ('C(element)[T.356]', 238),\n",
       "             ('C(element)[T.357]', 239),\n",
       "             ('C(element)[T.359]', 240),\n",
       "             ('C(element)[T.360]', 241),\n",
       "             ('C(element)[T.361]', 242),\n",
       "             ('C(element)[T.362]', 243),\n",
       "             ('C(element)[T.363]', 244),\n",
       "             ('C(element)[T.364]', 245),\n",
       "             ('C(element)[T.365]', 246),\n",
       "             ('C(element)[T.367]', 247),\n",
       "             ('C(element)[T.368]', 248),\n",
       "             ('C(element)[T.369]', 249),\n",
       "             ('C(element)[T.370]', 250),\n",
       "             ('C(element)[T.372]', 251),\n",
       "             ('C(element)[T.376]', 252),\n",
       "             ('C(element)[T.378]', 253),\n",
       "             ('C(element)[T.380]', 254),\n",
       "             ('C(element)[T.381]', 255),\n",
       "             ('C(element)[T.382]', 256),\n",
       "             ('C(element)[T.383]', 257),\n",
       "             ('C(element)[T.386]', 258),\n",
       "             ('C(element)[T.389]', 259),\n",
       "             ('C(element)[T.390]', 260),\n",
       "             ('C(element)[T.391]', 261),\n",
       "             ('C(element)[T.392]', 262),\n",
       "             ('C(element)[T.393]', 263),\n",
       "             ('C(element)[T.394]', 264),\n",
       "             ('C(element)[T.395]', 265),\n",
       "             ('C(element)[T.396]', 266),\n",
       "             ('C(element)[T.400]', 267),\n",
       "             ('C(element)[T.402]', 268),\n",
       "             ('C(element)[T.403]', 269),\n",
       "             ('C(element)[T.405]', 270),\n",
       "             ('C(element)[T.406]', 271),\n",
       "             ('C(element)[T.408]', 272),\n",
       "             ('C(element)[T.409]', 273),\n",
       "             ('C(element)[T.410]', 274),\n",
       "             ('C(element)[T.411]', 275),\n",
       "             ('C(element)[T.412]', 276),\n",
       "             ('C(element)[T.413]', 277),\n",
       "             ('C(element)[T.415]', 278),\n",
       "             ('C(element)[T.417]', 279),\n",
       "             ('C(element)[T.419]', 280),\n",
       "             ('C(element)[T.423]', 281),\n",
       "             ('C(element)[T.425]', 282),\n",
       "             ('C(element)[T.426]', 283),\n",
       "             ('C(element)[T.427]', 284),\n",
       "             ('C(element)[T.430]', 285),\n",
       "             ('C(element)[T.431]', 286),\n",
       "             ('C(element)[T.432]', 287),\n",
       "             ('C(element)[T.433]', 288),\n",
       "             ('C(element)[T.435]', 289),\n",
       "             ('C(element)[T.437]', 290),\n",
       "             ('C(element)[T.440]', 291),\n",
       "             ('C(element)[T.445]', 292),\n",
       "             ('C(element)[T.446]', 293),\n",
       "             ('C(element)[T.447]', 294),\n",
       "             ('C(element)[T.450]', 295),\n",
       "             ('C(element)[T.451]', 296),\n",
       "             ('C(element)[T.453]', 297),\n",
       "             ('C(element)[T.454]', 298),\n",
       "             ('C(element)[T.455]', 299),\n",
       "             ('C(element)[T.456]', 300),\n",
       "             ('C(element)[T.458]', 301),\n",
       "             ('C(element)[T.459]', 302),\n",
       "             ('C(element)[T.460]', 303),\n",
       "             ('C(element)[T.461]', 304),\n",
       "             ('C(element)[T.462]', 305),\n",
       "             ('C(element)[T.463]', 306),\n",
       "             ('C(element)[T.464]', 307),\n",
       "             ('C(element)[T.465]', 308),\n",
       "             ('C(element)[T.466]', 309),\n",
       "             ('C(element)[T.467]', 310),\n",
       "             ('C(element)[T.468]', 311),\n",
       "             ('C(element)[T.473]', 312),\n",
       "             ('C(element)[T.474]', 313),\n",
       "             ('C(element)[T.475]', 314),\n",
       "             ('C(element)[T.476]', 315),\n",
       "             ('C(element)[T.478]', 316),\n",
       "             ('C(element)[T.479]', 317),\n",
       "             ('C(element)[T.480]', 318),\n",
       "             ('C(element)[T.481]', 319),\n",
       "             ('C(element)[T.482]', 320),\n",
       "             ('C(element)[T.483]', 321),\n",
       "             ('C(element)[T.484]', 322),\n",
       "             ('C(element)[T.486]', 323),\n",
       "             ('C(element)[T.487]', 324),\n",
       "             ('C(element)[T.488]', 325),\n",
       "             ('C(element)[T.489]', 326),\n",
       "             ('C(element)[T.490]', 327),\n",
       "             ('C(element)[T.492]', 328),\n",
       "             ('C(element)[T.493]', 329),\n",
       "             ('C(element)[T.494]', 330),\n",
       "             ('C(element)[T.498]', 331),\n",
       "             ('C(element)[T.499]', 332),\n",
       "             ('C(element)[T.503]', 333),\n",
       "             ('C(element)[T.504]', 334),\n",
       "             ('C(element)[T.505]', 335),\n",
       "             ('C(element)[T.506]', 336),\n",
       "             ('C(element)[T.507]', 337),\n",
       "             ('C(element)[T.508]', 338),\n",
       "             ('C(element)[T.509]', 339),\n",
       "             ('C(element)[T.510]', 340),\n",
       "             ('C(element)[T.511]', 341),\n",
       "             ('C(element)[T.512]', 342),\n",
       "             ('C(element)[T.513]', 343),\n",
       "             ('C(element)[T.516]', 344),\n",
       "             ('C(element)[T.517]', 345),\n",
       "             ('C(element)[T.518]', 346),\n",
       "             ('C(element)[T.524]', 347),\n",
       "             ('C(element)[T.526]', 348),\n",
       "             ('C(element)[T.527]', 349),\n",
       "             ('C(element)[T.534]', 350),\n",
       "             ('C(element)[T.536]', 351),\n",
       "             ('C(element)[T.539]', 352),\n",
       "             ('C(element)[T.549]', 353),\n",
       "             ('C(element)[T.556]', 354),\n",
       "             ('C(element_type)[T.2]', 355),\n",
       "             ('C(element_type)[T.3]', 356),\n",
       "             ('C(element_type)[T.4]', 357),\n",
       "             ('C(team)[T.2]', 358),\n",
       "             ('C(team)[T.3]', 359),\n",
       "             ('C(team)[T.4]', 360),\n",
       "             ('C(team)[T.5]', 361),\n",
       "             ('C(team)[T.6]', 362),\n",
       "             ('C(team)[T.7]', 363),\n",
       "             ('C(team)[T.8]', 364),\n",
       "             ('C(team)[T.9]', 365),\n",
       "             ('C(team)[T.10]', 366),\n",
       "             ('C(team)[T.11]', 367),\n",
       "             ('C(team)[T.12]', 368),\n",
       "             ('C(team)[T.13]', 369),\n",
       "             ('C(team)[T.14]', 370),\n",
       "             ('C(team)[T.15]', 371),\n",
       "             ('C(team)[T.16]', 372),\n",
       "             ('C(team)[T.17]', 373),\n",
       "             ('C(team)[T.18]', 374),\n",
       "             ('C(team)[T.19]', 375),\n",
       "             ('C(team)[T.20]', 376),\n",
       "             ('C(opposition_team)[T.2]', 377),\n",
       "             ('C(opposition_team)[T.3]', 378),\n",
       "             ('C(opposition_team)[T.4]', 379),\n",
       "             ('C(opposition_team)[T.5]', 380),\n",
       "             ('C(opposition_team)[T.6]', 381),\n",
       "             ('C(opposition_team)[T.7]', 382),\n",
       "             ('C(opposition_team)[T.8]', 383),\n",
       "             ('C(opposition_team)[T.9]', 384),\n",
       "             ('C(opposition_team)[T.10]', 385),\n",
       "             ('C(opposition_team)[T.11]', 386),\n",
       "             ('C(opposition_team)[T.12]', 387),\n",
       "             ('C(opposition_team)[T.13]', 388),\n",
       "             ('C(opposition_team)[T.14]', 389),\n",
       "             ('C(opposition_team)[T.15]', 390),\n",
       "             ('C(opposition_team)[T.16]', 391),\n",
       "             ('C(opposition_team)[T.17]', 392),\n",
       "             ('C(opposition_team)[T.18]', 393),\n",
       "             ('C(opposition_team)[T.19]', 394),\n",
       "             ('C(opposition_team)[T.20]', 395),\n",
       "             ('was_home', 396),\n",
       "             ('is_sunday', 397),\n",
       "             ('is_weekday', 398),\n",
       "             ('is_early', 399),\n",
       "             ('is_late', 400),\n",
       "             ('value', 401),\n",
       "             ('rolling_avg_total_points_element', 402),\n",
       "             ('has_high_points_ever_element', 403),\n",
       "             ('rolling_avg_bonus_element', 404),\n",
       "             ('rolling_avg_goals_scored_element', 405),\n",
       "             ('rolling_avg_clean_sheets_element', 406),\n",
       "             ('rolling_avg_assists_element', 407),\n",
       "             ('rolling_avg_key_passes_element', 408),\n",
       "             ('rolling_avg_winning_goals_element', 409),\n",
       "             ('rolling_avg_tackled_element', 410),\n",
       "             ('rolling_avg_clearances_blocks_interceptions_element', 411),\n",
       "             ('rolling_avg_big_chances_created_element', 412),\n",
       "             ('rolling_avg_target_missed_element', 413),\n",
       "             ('rolling_avg_fouls_element', 414),\n",
       "             ('rolling_avg_tackles_element', 415),\n",
       "             ('rolling_avg_open_play_crosses_element', 416),\n",
       "             ('rolling_avg_offside_element', 417),\n",
       "             ('rolling_avg_big_chances_missed_element', 418),\n",
       "             ('rolling_avg_saves_element', 419),\n",
       "             ('rolling_avg_attempted_passes_element', 420),\n",
       "             ('rolling_avg_errors_leading_to_goal_element', 421),\n",
       "             ('rolling_avg_errors_leading_to_goal_attempt_element', 422),\n",
       "             ('rolling_avg_own_goals_element', 423),\n",
       "             ('rolling_avg_penalties_concededd_element', 424),\n",
       "             ('rolling_avg_penalties_missed_element', 425),\n",
       "             ('rolling_avg_penalties_saved_element', 426),\n",
       "             ('rolling_avg_red_cards_element', 427),\n",
       "             ('rolling_avg_yellow_cards_element', 428),\n",
       "             ('rolling_avg_minutes_element_p3', 429),\n",
       "             ('rolling_avg_total_points_element_p3', 430),\n",
       "             ('rolling_avg_goals_scored_opposition_team', 431),\n",
       "             ('rolling_avg_goals_conceded_opposition_team', 432),\n",
       "             ('expected_total_points_against_opposition_team_home_away', 433)])"
      ]
     },
     "execution_count": 17,
     "metadata": {},
     "output_type": "execute_result"
    }
   ],
   "source": [
    "X.design_info.column_name_indexes"
   ]
  },
  {
   "cell_type": "code",
   "execution_count": 18,
   "metadata": {
    "ExecuteTime": {
     "end_time": "2019-08-02T14:01:19.084004Z",
     "start_time": "2019-08-02T14:01:19.051447Z"
    },
    "hidden": true
   },
   "outputs": [
    {
     "data": {
      "text/plain": [
       "PCA(copy=True, iterated_power='auto', n_components=None, random_state=None,\n",
       "    svd_solver='auto', tol=0.0, whiten=False)"
      ]
     },
     "execution_count": 18,
     "metadata": {},
     "output_type": "execute_result"
    }
   ],
   "source": [
    "pca = PCA()\n",
    "pca.fit(X_train[:,401:])"
   ]
  },
  {
   "cell_type": "code",
   "execution_count": 19,
   "metadata": {
    "ExecuteTime": {
     "end_time": "2019-08-02T14:01:20.656561Z",
     "start_time": "2019-08-02T14:01:20.332339Z"
    },
    "hidden": true
   },
   "outputs": [
    {
     "data": {
      "image/png": "[encoded data removed]",
      "text/plain": [
       "<Figure size 576x576 with 1 Axes>"
      ]
     },
     "metadata": {
      "needs_background": "light"
     },
     "output_type": "display_data"
    }
   ],
   "source": [
    "plt.figure(figsize=(8, 8))\n",
    "plt.plot(pca.explained_variance_ratio_.round(2))\n",
    "plt.ylim(0, 0.3)\n",
    "plt.show()"
   ]
  },
  {
   "cell_type": "code",
   "execution_count": 20,
   "metadata": {
    "ExecuteTime": {
     "end_time": "2019-08-02T14:01:25.172814Z",
     "start_time": "2019-08-02T14:01:25.142226Z"
    },
    "hidden": true
   },
   "outputs": [
    {
     "data": {
      "text/plain": [
       "(2696, 434)"
      ]
     },
     "execution_count": 20,
     "metadata": {},
     "output_type": "execute_result"
    }
   ],
   "source": [
    "X_train_pca = np.concatenate((X_train[:,:401], pca.transform(X_train[:,401:])), axis=1)\n",
    "X_train_pca.shape"
   ]
  },
  {
   "cell_type": "code",
   "execution_count": 21,
   "metadata": {
    "ExecuteTime": {
     "end_time": "2019-08-02T14:01:26.072366Z",
     "start_time": "2019-08-02T14:01:26.051931Z"
    },
    "hidden": true
   },
   "outputs": [
    {
     "data": {
      "text/plain": [
       "(948, 434)"
      ]
     },
     "execution_count": 21,
     "metadata": {},
     "output_type": "execute_result"
    }
   ],
   "source": [
    "X_test_pca = np.concatenate((X_test[:,:401], pca.transform(X_test[:,401:])), axis=1)\n",
    "X_test_pca.shape"
   ]
  },
  {
   "cell_type": "code",
   "execution_count": 22,
   "metadata": {
    "ExecuteTime": {
     "end_time": "2019-08-02T14:01:26.875721Z",
     "start_time": "2019-08-02T14:01:26.847323Z"
    },
    "hidden": true
   },
   "outputs": [
    {
     "data": {
      "text/plain": [
       "(3644, 434)"
      ]
     },
     "execution_count": 22,
     "metadata": {},
     "output_type": "execute_result"
    }
   ],
   "source": [
    "X_pca = np.concatenate((X[:,:401], pca.transform(X[:,401:])), axis=1)\n",
    "X_pca.shape"
   ]
  },
  {
   "cell_type": "markdown",
   "metadata": {
    "heading_collapsed": true,
    "hidden": true
   },
   "source": [
    "## Selecting features"
   ]
  },
  {
   "cell_type": "markdown",
   "metadata": {
    "heading_collapsed": true,
    "hidden": true
   },
   "source": [
    "### Linear kernel"
   ]
  },
  {
   "cell_type": "code",
   "execution_count": 65,
   "metadata": {
    "ExecuteTime": {
     "end_time": "2019-08-02T16:13:34.823609Z",
     "start_time": "2019-08-02T15:56:00.478094Z"
    },
    "hidden": true
   },
   "outputs": [
    {
     "name": "stdout",
     "output_type": "stream",
     "text": [
      "Fitting estimator with 434 features.\n",
      "Fitting estimator with 433 features.\n",
      "Fitting estimator with 432 features.\n",
      "Fitting estimator with 431 features.\n",
      "Fitting estimator with 430 features.\n",
      "Fitting estimator with 429 features.\n",
      "Fitting estimator with 428 features.\n",
      "Fitting estimator with 427 features.\n",
      "Fitting estimator with 426 features.\n",
      "Fitting estimator with 425 features.\n",
      "Fitting estimator with 424 features.\n",
      "Fitting estimator with 423 features.\n",
      "Fitting estimator with 422 features.\n",
      "Fitting estimator with 421 features.\n",
      "Fitting estimator with 420 features.\n",
      "Fitting estimator with 419 features.\n",
      "Fitting estimator with 418 features.\n",
      "Fitting estimator with 417 features.\n",
      "Fitting estimator with 416 features.\n",
      "Fitting estimator with 415 features.\n",
      "Fitting estimator with 414 features.\n",
      "Fitting estimator with 413 features.\n",
      "Fitting estimator with 412 features.\n",
      "Fitting estimator with 411 features.\n",
      "Fitting estimator with 410 features.\n",
      "Fitting estimator with 409 features.\n",
      "Fitting estimator with 408 features.\n",
      "Fitting estimator with 407 features.\n",
      "Fitting estimator with 406 features.\n",
      "Fitting estimator with 405 features.\n",
      "Fitting estimator with 404 features.\n",
      "Fitting estimator with 403 features.\n",
      "Fitting estimator with 402 features.\n",
      "Fitting estimator with 401 features.\n",
      "Fitting estimator with 400 features.\n",
      "Fitting estimator with 399 features.\n",
      "Fitting estimator with 398 features.\n",
      "Fitting estimator with 397 features.\n",
      "Fitting estimator with 396 features.\n",
      "Fitting estimator with 395 features.\n",
      "Fitting estimator with 394 features.\n",
      "Fitting estimator with 393 features.\n",
      "Fitting estimator with 392 features.\n",
      "Fitting estimator with 391 features.\n",
      "Fitting estimator with 390 features.\n",
      "Fitting estimator with 389 features.\n",
      "Fitting estimator with 388 features.\n",
      "Fitting estimator with 387 features.\n",
      "Fitting estimator with 386 features.\n",
      "Fitting estimator with 385 features.\n",
      "Fitting estimator with 384 features.\n",
      "Fitting estimator with 383 features.\n",
      "Fitting estimator with 382 features.\n",
      "Fitting estimator with 381 features.\n",
      "Fitting estimator with 380 features.\n",
      "Fitting estimator with 379 features.\n",
      "Fitting estimator with 378 features.\n",
      "Fitting estimator with 377 features.\n",
      "Fitting estimator with 376 features.\n",
      "Fitting estimator with 375 features.\n",
      "Fitting estimator with 374 features.\n",
      "Fitting estimator with 373 features.\n",
      "Fitting estimator with 372 features.\n",
      "Fitting estimator with 371 features.\n",
      "Fitting estimator with 370 features.\n",
      "Fitting estimator with 369 features.\n",
      "Fitting estimator with 368 features.\n",
      "Fitting estimator with 367 features.\n",
      "Fitting estimator with 366 features.\n",
      "Fitting estimator with 365 features.\n",
      "Fitting estimator with 364 features.\n",
      "Fitting estimator with 363 features.\n",
      "Fitting estimator with 362 features.\n",
      "Fitting estimator with 361 features.\n",
      "Fitting estimator with 360 features.\n",
      "Fitting estimator with 359 features.\n",
      "Fitting estimator with 358 features.\n",
      "Fitting estimator with 357 features.\n",
      "Fitting estimator with 356 features.\n",
      "Fitting estimator with 355 features.\n",
      "Fitting estimator with 354 features.\n",
      "Fitting estimator with 353 features.\n",
      "Fitting estimator with 352 features.\n",
      "Fitting estimator with 351 features.\n",
      "Fitting estimator with 350 features.\n",
      "Fitting estimator with 349 features.\n",
      "Fitting estimator with 348 features.\n",
      "Fitting estimator with 347 features.\n",
      "Fitting estimator with 346 features.\n",
      "Fitting estimator with 345 features.\n",
      "Fitting estimator with 344 features.\n",
      "Fitting estimator with 343 features.\n",
      "Fitting estimator with 342 features.\n",
      "Fitting estimator with 341 features.\n",
      "Fitting estimator with 340 features.\n",
      "Fitting estimator with 339 features.\n",
      "Fitting estimator with 338 features.\n",
      "Fitting estimator with 337 features.\n",
      "Fitting estimator with 336 features.\n",
      "Fitting estimator with 335 features.\n",
      "Fitting estimator with 334 features.\n",
      "Fitting estimator with 333 features.\n",
      "Fitting estimator with 332 features.\n",
      "Fitting estimator with 331 features.\n",
      "Fitting estimator with 330 features.\n",
      "Fitting estimator with 329 features.\n",
      "Fitting estimator with 328 features.\n",
      "Fitting estimator with 327 features.\n",
      "Fitting estimator with 326 features.\n",
      "Fitting estimator with 325 features.\n",
      "Fitting estimator with 324 features.\n",
      "Fitting estimator with 323 features.\n",
      "Fitting estimator with 322 features.\n",
      "Fitting estimator with 321 features.\n",
      "Fitting estimator with 320 features.\n",
      "Fitting estimator with 319 features.\n",
      "Fitting estimator with 318 features.\n",
      "Fitting estimator with 317 features.\n",
      "Fitting estimator with 316 features.\n",
      "Fitting estimator with 315 features.\n",
      "Fitting estimator with 314 features.\n",
      "Fitting estimator with 313 features.\n",
      "Fitting estimator with 312 features.\n",
      "Fitting estimator with 311 features.\n",
      "Fitting estimator with 310 features.\n",
      "Fitting estimator with 309 features.\n",
      "Fitting estimator with 308 features.\n",
      "Fitting estimator with 307 features.\n",
      "Fitting estimator with 306 features.\n",
      "Fitting estimator with 305 features.\n",
      "Fitting estimator with 304 features.\n",
      "Fitting estimator with 303 features.\n",
      "Fitting estimator with 302 features.\n",
      "Fitting estimator with 301 features.\n",
      "Fitting estimator with 300 features.\n",
      "Fitting estimator with 299 features.\n",
      "Fitting estimator with 298 features.\n",
      "Fitting estimator with 297 features.\n",
      "Fitting estimator with 296 features.\n",
      "Fitting estimator with 295 features.\n",
      "Fitting estimator with 294 features.\n",
      "Fitting estimator with 293 features.\n",
      "Fitting estimator with 292 features.\n",
      "Fitting estimator with 291 features.\n",
      "Fitting estimator with 290 features.\n",
      "Fitting estimator with 289 features.\n",
      "Fitting estimator with 288 features.\n",
      "Fitting estimator with 287 features.\n",
      "Fitting estimator with 286 features.\n",
      "Fitting estimator with 285 features.\n",
      "Fitting estimator with 284 features.\n",
      "Fitting estimator with 283 features.\n",
      "Fitting estimator with 282 features.\n",
      "Fitting estimator with 281 features.\n",
      "Fitting estimator with 280 features.\n",
      "Fitting estimator with 279 features.\n",
      "Fitting estimator with 278 features.\n",
      "Fitting estimator with 277 features.\n",
      "Fitting estimator with 276 features.\n",
      "Fitting estimator with 275 features.\n",
      "Fitting estimator with 274 features.\n",
      "Fitting estimator with 273 features.\n",
      "Fitting estimator with 272 features.\n",
      "Fitting estimator with 271 features.\n",
      "Fitting estimator with 270 features.\n",
      "Fitting estimator with 269 features.\n",
      "Fitting estimator with 268 features.\n",
      "Fitting estimator with 267 features.\n",
      "Fitting estimator with 266 features.\n",
      "Fitting estimator with 265 features.\n",
      "Fitting estimator with 264 features.\n",
      "Fitting estimator with 263 features.\n",
      "Fitting estimator with 262 features.\n",
      "Fitting estimator with 261 features.\n",
      "Fitting estimator with 260 features.\n",
      "Fitting estimator with 259 features.\n",
      "Fitting estimator with 258 features.\n",
      "Fitting estimator with 257 features.\n",
      "Fitting estimator with 256 features.\n",
      "Fitting estimator with 255 features.\n",
      "Fitting estimator with 254 features.\n",
      "Fitting estimator with 253 features.\n",
      "Fitting estimator with 252 features.\n",
      "Fitting estimator with 251 features.\n",
      "Fitting estimator with 250 features.\n",
      "Fitting estimator with 249 features.\n",
      "Fitting estimator with 248 features.\n",
      "Fitting estimator with 247 features.\n",
      "Fitting estimator with 246 features.\n",
      "Fitting estimator with 245 features.\n",
      "Fitting estimator with 244 features.\n",
      "Fitting estimator with 243 features.\n",
      "Fitting estimator with 242 features.\n",
      "Fitting estimator with 241 features.\n",
      "Fitting estimator with 240 features.\n",
      "Fitting estimator with 239 features.\n",
      "Fitting estimator with 238 features.\n",
      "Fitting estimator with 237 features.\n",
      "Fitting estimator with 236 features.\n",
      "Fitting estimator with 235 features.\n",
      "Fitting estimator with 234 features.\n",
      "Fitting estimator with 233 features.\n",
      "Fitting estimator with 232 features.\n",
      "Fitting estimator with 231 features.\n",
      "Fitting estimator with 230 features.\n",
      "Fitting estimator with 229 features.\n",
      "Fitting estimator with 228 features.\n",
      "Fitting estimator with 227 features.\n",
      "Fitting estimator with 226 features.\n",
      "Fitting estimator with 225 features.\n",
      "Fitting estimator with 224 features.\n",
      "Fitting estimator with 223 features.\n",
      "Fitting estimator with 222 features.\n",
      "Fitting estimator with 221 features.\n",
      "Fitting estimator with 220 features.\n",
      "Fitting estimator with 219 features.\n",
      "Fitting estimator with 218 features.\n",
      "Fitting estimator with 217 features.\n",
      "Fitting estimator with 216 features.\n",
      "Fitting estimator with 215 features.\n",
      "Fitting estimator with 214 features.\n",
      "Fitting estimator with 213 features.\n"
     ]
    },
    {
     "name": "stdout",
     "output_type": "stream",
     "text": [
      "Fitting estimator with 212 features.\n",
      "Fitting estimator with 211 features.\n",
      "Fitting estimator with 210 features.\n",
      "Fitting estimator with 209 features.\n",
      "Fitting estimator with 208 features.\n",
      "Fitting estimator with 207 features.\n",
      "Fitting estimator with 206 features.\n",
      "Fitting estimator with 205 features.\n",
      "Fitting estimator with 204 features.\n",
      "Fitting estimator with 203 features.\n",
      "Fitting estimator with 202 features.\n",
      "Fitting estimator with 201 features.\n",
      "Fitting estimator with 200 features.\n",
      "Fitting estimator with 199 features.\n",
      "Fitting estimator with 198 features.\n",
      "Fitting estimator with 197 features.\n",
      "Fitting estimator with 196 features.\n",
      "Fitting estimator with 195 features.\n",
      "Fitting estimator with 194 features.\n",
      "Fitting estimator with 193 features.\n",
      "Fitting estimator with 192 features.\n",
      "Fitting estimator with 191 features.\n",
      "Fitting estimator with 190 features.\n",
      "Fitting estimator with 189 features.\n",
      "Fitting estimator with 188 features.\n",
      "Fitting estimator with 187 features.\n",
      "Fitting estimator with 186 features.\n",
      "Fitting estimator with 185 features.\n",
      "Fitting estimator with 184 features.\n",
      "Fitting estimator with 183 features.\n",
      "Fitting estimator with 182 features.\n",
      "Fitting estimator with 181 features.\n",
      "Fitting estimator with 180 features.\n",
      "Fitting estimator with 179 features.\n",
      "Fitting estimator with 178 features.\n",
      "Fitting estimator with 177 features.\n",
      "Fitting estimator with 176 features.\n",
      "Fitting estimator with 175 features.\n",
      "Fitting estimator with 174 features.\n",
      "Fitting estimator with 173 features.\n",
      "Fitting estimator with 172 features.\n",
      "Fitting estimator with 171 features.\n",
      "Fitting estimator with 170 features.\n",
      "Fitting estimator with 169 features.\n",
      "Fitting estimator with 168 features.\n",
      "Fitting estimator with 167 features.\n",
      "Fitting estimator with 166 features.\n",
      "Fitting estimator with 165 features.\n",
      "Fitting estimator with 164 features.\n",
      "Fitting estimator with 163 features.\n",
      "Fitting estimator with 162 features.\n",
      "Fitting estimator with 161 features.\n",
      "Fitting estimator with 160 features.\n",
      "Fitting estimator with 159 features.\n",
      "Fitting estimator with 158 features.\n",
      "Fitting estimator with 157 features.\n",
      "Fitting estimator with 156 features.\n",
      "Fitting estimator with 155 features.\n",
      "Fitting estimator with 154 features.\n",
      "Fitting estimator with 153 features.\n",
      "Fitting estimator with 152 features.\n",
      "Fitting estimator with 151 features.\n",
      "Fitting estimator with 150 features.\n",
      "Fitting estimator with 149 features.\n",
      "Fitting estimator with 148 features.\n",
      "Fitting estimator with 147 features.\n",
      "Fitting estimator with 146 features.\n",
      "Fitting estimator with 145 features.\n",
      "Fitting estimator with 144 features.\n",
      "Fitting estimator with 143 features.\n",
      "Fitting estimator with 142 features.\n",
      "Fitting estimator with 141 features.\n",
      "Fitting estimator with 140 features.\n",
      "Fitting estimator with 139 features.\n",
      "Fitting estimator with 138 features.\n",
      "Fitting estimator with 137 features.\n",
      "Fitting estimator with 136 features.\n",
      "Fitting estimator with 135 features.\n",
      "Fitting estimator with 134 features.\n",
      "Fitting estimator with 133 features.\n",
      "Fitting estimator with 132 features.\n",
      "Fitting estimator with 131 features.\n",
      "Fitting estimator with 130 features.\n",
      "Fitting estimator with 129 features.\n",
      "Fitting estimator with 128 features.\n",
      "Fitting estimator with 127 features.\n",
      "Fitting estimator with 126 features.\n",
      "Fitting estimator with 125 features.\n",
      "Fitting estimator with 124 features.\n",
      "Fitting estimator with 123 features.\n",
      "Fitting estimator with 122 features.\n",
      "Fitting estimator with 121 features.\n",
      "Fitting estimator with 120 features.\n",
      "Fitting estimator with 119 features.\n",
      "Fitting estimator with 118 features.\n",
      "Fitting estimator with 117 features.\n",
      "Fitting estimator with 116 features.\n",
      "Fitting estimator with 115 features.\n",
      "Fitting estimator with 114 features.\n",
      "Fitting estimator with 113 features.\n",
      "Fitting estimator with 112 features.\n",
      "Fitting estimator with 111 features.\n",
      "Fitting estimator with 110 features.\n",
      "Fitting estimator with 109 features.\n",
      "Fitting estimator with 108 features.\n",
      "Fitting estimator with 107 features.\n",
      "Fitting estimator with 106 features.\n",
      "Fitting estimator with 105 features.\n",
      "Fitting estimator with 104 features.\n",
      "Fitting estimator with 103 features.\n",
      "Fitting estimator with 102 features.\n",
      "Fitting estimator with 101 features.\n",
      "Fitting estimator with 100 features.\n",
      "Fitting estimator with 99 features.\n",
      "Fitting estimator with 98 features.\n",
      "Fitting estimator with 97 features.\n",
      "Fitting estimator with 96 features.\n",
      "Fitting estimator with 95 features.\n",
      "Fitting estimator with 94 features.\n",
      "Fitting estimator with 93 features.\n",
      "Fitting estimator with 92 features.\n",
      "Fitting estimator with 91 features.\n",
      "Fitting estimator with 90 features.\n",
      "Fitting estimator with 89 features.\n",
      "Fitting estimator with 88 features.\n",
      "Fitting estimator with 87 features.\n",
      "Fitting estimator with 86 features.\n",
      "Fitting estimator with 85 features.\n",
      "Fitting estimator with 84 features.\n",
      "Fitting estimator with 83 features.\n",
      "Fitting estimator with 82 features.\n",
      "Fitting estimator with 81 features.\n",
      "Fitting estimator with 80 features.\n",
      "Fitting estimator with 79 features.\n",
      "Fitting estimator with 78 features.\n",
      "Fitting estimator with 77 features.\n",
      "Fitting estimator with 76 features.\n",
      "Fitting estimator with 75 features.\n",
      "Fitting estimator with 74 features.\n",
      "Fitting estimator with 73 features.\n",
      "Fitting estimator with 72 features.\n",
      "Fitting estimator with 71 features.\n",
      "Fitting estimator with 70 features.\n",
      "Fitting estimator with 69 features.\n",
      "Fitting estimator with 68 features.\n",
      "Fitting estimator with 67 features.\n",
      "Fitting estimator with 66 features.\n",
      "Fitting estimator with 65 features.\n",
      "Fitting estimator with 64 features.\n",
      "Fitting estimator with 63 features.\n",
      "Fitting estimator with 62 features.\n",
      "Fitting estimator with 61 features.\n",
      "Fitting estimator with 60 features.\n",
      "Fitting estimator with 59 features.\n",
      "Fitting estimator with 58 features.\n",
      "Fitting estimator with 57 features.\n",
      "Fitting estimator with 56 features.\n",
      "Fitting estimator with 55 features.\n",
      "Fitting estimator with 54 features.\n",
      "Fitting estimator with 53 features.\n",
      "Fitting estimator with 52 features.\n",
      "Fitting estimator with 51 features.\n",
      "Fitting estimator with 50 features.\n",
      "Fitting estimator with 49 features.\n",
      "Fitting estimator with 48 features.\n",
      "Fitting estimator with 47 features.\n",
      "Fitting estimator with 46 features.\n",
      "Fitting estimator with 45 features.\n",
      "Fitting estimator with 44 features.\n",
      "Fitting estimator with 43 features.\n",
      "Fitting estimator with 42 features.\n",
      "Fitting estimator with 41 features.\n",
      "Fitting estimator with 40 features.\n",
      "Fitting estimator with 39 features.\n",
      "Fitting estimator with 38 features.\n",
      "Fitting estimator with 37 features.\n",
      "Fitting estimator with 36 features.\n",
      "Fitting estimator with 35 features.\n",
      "Fitting estimator with 34 features.\n",
      "Fitting estimator with 33 features.\n",
      "Fitting estimator with 32 features.\n",
      "Fitting estimator with 31 features.\n",
      "Fitting estimator with 30 features.\n",
      "Fitting estimator with 29 features.\n",
      "Fitting estimator with 28 features.\n",
      "Fitting estimator with 27 features.\n",
      "Fitting estimator with 26 features.\n",
      "Fitting estimator with 25 features.\n",
      "Fitting estimator with 24 features.\n",
      "Fitting estimator with 23 features.\n",
      "Fitting estimator with 22 features.\n",
      "Fitting estimator with 21 features.\n",
      "Fitting estimator with 20 features.\n",
      "Fitting estimator with 19 features.\n",
      "Fitting estimator with 18 features.\n",
      "Fitting estimator with 17 features.\n",
      "Fitting estimator with 16 features.\n",
      "Fitting estimator with 15 features.\n",
      "Fitting estimator with 14 features.\n",
      "Fitting estimator with 13 features.\n",
      "Fitting estimator with 12 features.\n",
      "Fitting estimator with 11 features.\n",
      "Fitting estimator with 10 features.\n",
      "Fitting estimator with 9 features.\n",
      "Fitting estimator with 8 features.\n",
      "Fitting estimator with 7 features.\n",
      "Fitting estimator with 6 features.\n",
      "Fitting estimator with 5 features.\n",
      "Fitting estimator with 4 features.\n",
      "Fitting estimator with 3 features.\n",
      "Fitting estimator with 2 features.\n",
      "Fitting estimator with 434 features.\n",
      "Fitting estimator with 433 features.\n",
      "Fitting estimator with 432 features.\n",
      "Fitting estimator with 431 features.\n",
      "Fitting estimator with 430 features.\n",
      "Fitting estimator with 429 features.\n",
      "Fitting estimator with 428 features.\n",
      "Fitting estimator with 427 features.\n",
      "Fitting estimator with 426 features.\n",
      "Fitting estimator with 425 features.\n",
      "Fitting estimator with 424 features.\n",
      "Fitting estimator with 423 features.\n",
      "Fitting estimator with 422 features.\n",
      "Fitting estimator with 421 features.\n"
     ]
    },
    {
     "name": "stdout",
     "output_type": "stream",
     "text": [
      "Fitting estimator with 420 features.\n",
      "Fitting estimator with 419 features.\n",
      "Fitting estimator with 418 features.\n",
      "Fitting estimator with 417 features.\n",
      "Fitting estimator with 416 features.\n",
      "Fitting estimator with 415 features.\n",
      "Fitting estimator with 414 features.\n",
      "Fitting estimator with 413 features.\n",
      "Fitting estimator with 412 features.\n",
      "Fitting estimator with 411 features.\n",
      "Fitting estimator with 410 features.\n",
      "Fitting estimator with 409 features.\n",
      "Fitting estimator with 408 features.\n",
      "Fitting estimator with 407 features.\n",
      "Fitting estimator with 406 features.\n",
      "Fitting estimator with 405 features.\n",
      "Fitting estimator with 404 features.\n",
      "Fitting estimator with 403 features.\n",
      "Fitting estimator with 402 features.\n",
      "Fitting estimator with 401 features.\n",
      "Fitting estimator with 400 features.\n",
      "Fitting estimator with 399 features.\n",
      "Fitting estimator with 398 features.\n",
      "Fitting estimator with 397 features.\n",
      "Fitting estimator with 396 features.\n",
      "Fitting estimator with 395 features.\n",
      "Fitting estimator with 394 features.\n",
      "Fitting estimator with 393 features.\n",
      "Fitting estimator with 392 features.\n",
      "Fitting estimator with 391 features.\n",
      "Fitting estimator with 390 features.\n",
      "Fitting estimator with 389 features.\n",
      "Fitting estimator with 388 features.\n",
      "Fitting estimator with 387 features.\n",
      "Fitting estimator with 386 features.\n",
      "Fitting estimator with 385 features.\n",
      "Fitting estimator with 384 features.\n",
      "Fitting estimator with 383 features.\n",
      "Fitting estimator with 382 features.\n",
      "Fitting estimator with 381 features.\n",
      "Fitting estimator with 380 features.\n",
      "Fitting estimator with 379 features.\n",
      "Fitting estimator with 378 features.\n",
      "Fitting estimator with 377 features.\n",
      "Fitting estimator with 376 features.\n",
      "Fitting estimator with 375 features.\n",
      "Fitting estimator with 374 features.\n",
      "Fitting estimator with 373 features.\n",
      "Fitting estimator with 372 features.\n",
      "Fitting estimator with 371 features.\n",
      "Fitting estimator with 370 features.\n",
      "Fitting estimator with 369 features.\n",
      "Fitting estimator with 368 features.\n",
      "Fitting estimator with 367 features.\n",
      "Fitting estimator with 366 features.\n",
      "Fitting estimator with 365 features.\n",
      "Fitting estimator with 364 features.\n",
      "Fitting estimator with 363 features.\n",
      "Fitting estimator with 362 features.\n",
      "Fitting estimator with 361 features.\n",
      "Fitting estimator with 360 features.\n",
      "Fitting estimator with 359 features.\n",
      "Fitting estimator with 358 features.\n",
      "Fitting estimator with 357 features.\n",
      "Fitting estimator with 356 features.\n",
      "Fitting estimator with 355 features.\n",
      "Fitting estimator with 354 features.\n",
      "Fitting estimator with 353 features.\n",
      "Fitting estimator with 352 features.\n",
      "Fitting estimator with 351 features.\n",
      "Fitting estimator with 350 features.\n",
      "Fitting estimator with 349 features.\n",
      "Fitting estimator with 348 features.\n",
      "Fitting estimator with 347 features.\n",
      "Fitting estimator with 346 features.\n",
      "Fitting estimator with 345 features.\n",
      "Fitting estimator with 344 features.\n",
      "Fitting estimator with 343 features.\n",
      "Fitting estimator with 342 features.\n",
      "Fitting estimator with 341 features.\n",
      "Fitting estimator with 340 features.\n",
      "Fitting estimator with 339 features.\n",
      "Fitting estimator with 338 features.\n",
      "Fitting estimator with 337 features.\n",
      "Fitting estimator with 336 features.\n",
      "Fitting estimator with 335 features.\n",
      "Fitting estimator with 334 features.\n",
      "Fitting estimator with 333 features.\n",
      "Fitting estimator with 332 features.\n",
      "Fitting estimator with 331 features.\n",
      "Fitting estimator with 330 features.\n",
      "Fitting estimator with 329 features.\n",
      "Fitting estimator with 328 features.\n",
      "Fitting estimator with 327 features.\n",
      "Fitting estimator with 326 features.\n",
      "Fitting estimator with 325 features.\n",
      "Fitting estimator with 324 features.\n",
      "Fitting estimator with 323 features.\n",
      "Fitting estimator with 322 features.\n",
      "Fitting estimator with 321 features.\n",
      "Fitting estimator with 320 features.\n",
      "Fitting estimator with 319 features.\n",
      "Fitting estimator with 318 features.\n",
      "Fitting estimator with 317 features.\n",
      "Fitting estimator with 316 features.\n",
      "Fitting estimator with 315 features.\n",
      "Fitting estimator with 314 features.\n",
      "Fitting estimator with 313 features.\n",
      "Fitting estimator with 312 features.\n",
      "Fitting estimator with 311 features.\n",
      "Fitting estimator with 310 features.\n",
      "Fitting estimator with 309 features.\n",
      "Fitting estimator with 308 features.\n",
      "Fitting estimator with 307 features.\n",
      "Fitting estimator with 306 features.\n",
      "Fitting estimator with 305 features.\n",
      "Fitting estimator with 304 features.\n",
      "Fitting estimator with 303 features.\n",
      "Fitting estimator with 302 features.\n",
      "Fitting estimator with 301 features.\n",
      "Fitting estimator with 300 features.\n",
      "Fitting estimator with 299 features.\n",
      "Fitting estimator with 298 features.\n",
      "Fitting estimator with 297 features.\n",
      "Fitting estimator with 296 features.\n",
      "Fitting estimator with 295 features.\n",
      "Fitting estimator with 294 features.\n",
      "Fitting estimator with 293 features.\n",
      "Fitting estimator with 292 features.\n",
      "Fitting estimator with 291 features.\n",
      "Fitting estimator with 290 features.\n",
      "Fitting estimator with 289 features.\n",
      "Fitting estimator with 288 features.\n",
      "Fitting estimator with 287 features.\n",
      "Fitting estimator with 286 features.\n",
      "Fitting estimator with 285 features.\n",
      "Fitting estimator with 284 features.\n",
      "Fitting estimator with 283 features.\n",
      "Fitting estimator with 282 features.\n",
      "Fitting estimator with 281 features.\n",
      "Fitting estimator with 280 features.\n",
      "Fitting estimator with 279 features.\n",
      "Fitting estimator with 278 features.\n",
      "Fitting estimator with 277 features.\n",
      "Fitting estimator with 276 features.\n",
      "Fitting estimator with 275 features.\n",
      "Fitting estimator with 274 features.\n",
      "Fitting estimator with 273 features.\n",
      "Fitting estimator with 272 features.\n",
      "Fitting estimator with 271 features.\n",
      "Fitting estimator with 270 features.\n"
     ]
    },
    {
     "data": {
      "text/plain": [
       "RFECV(cv=PredefinedSplit(test_fold=array([-1, -1, ...,  0,  0])),\n",
       "      estimator=SVR(C=0.009, cache_size=200, coef0=0.0, degree=3, epsilon=1.94,\n",
       "                    gamma='auto_deprecated', kernel='linear', max_iter=-1,\n",
       "                    shrinking=True, tol=0.001, verbose=False),\n",
       "      min_features_to_select=1, n_jobs=1, scoring='neg_mean_squared_error',\n",
       "      step=1, verbose=1)"
      ]
     },
     "execution_count": 65,
     "metadata": {},
     "output_type": "execute_result"
    }
   ],
   "source": [
    "linear_estimator = SVR(kernel='linear', epsilon=1.94, C=0.009)\n",
    "linear_selector = RFECV(linear_estimator, step=1,\n",
    "                 scoring='neg_mean_squared_error',\n",
    "                 cv=ps, n_jobs=1, verbose=1)\n",
    "linear_selector.fit(\n",
    "#     X,\n",
    "    X_pca,\n",
    "    y.ravel()\n",
    ")"
   ]
  },
  {
   "cell_type": "code",
   "execution_count": 66,
   "metadata": {
    "ExecuteTime": {
     "end_time": "2019-08-02T16:13:34.834817Z",
     "start_time": "2019-08-02T16:13:34.826505Z"
    },
    "hidden": true
   },
   "outputs": [
    {
     "data": {
      "text/plain": [
       "269"
      ]
     },
     "execution_count": 66,
     "metadata": {},
     "output_type": "execute_result"
    }
   ],
   "source": [
    "sum(linear_selector.support_)"
   ]
  },
  {
   "cell_type": "code",
   "execution_count": 67,
   "metadata": {
    "ExecuteTime": {
     "end_time": "2019-08-02T16:13:34.904121Z",
     "start_time": "2019-08-02T16:13:34.838820Z"
    },
    "hidden": true
   },
   "outputs": [],
   "source": [
    "# X_sel = X[:,linear_selector.support_]\n",
    "# X_train_sel = X_train[:,linear_selector.support_]\n",
    "# X_test_sel = X_test[:,linear_selector.support_]\n",
    "\n",
    "X_sel = X_pca[:,linear_selector.support_]\n",
    "X_train_sel = X_train_pca[:,linear_selector.support_]\n",
    "X_test_sel = X_test_pca[:,linear_selector.support_]"
   ]
  },
  {
   "cell_type": "markdown",
   "metadata": {
    "heading_collapsed": true,
    "hidden": true
   },
   "source": [
    "## Tuning model"
   ]
  },
  {
   "cell_type": "markdown",
   "metadata": {
    "heading_collapsed": true,
    "hidden": true
   },
   "source": [
    "### GP tuner"
   ]
  },
  {
   "cell_type": "markdown",
   "metadata": {
    "ExecuteTime": {
     "end_time": "2019-07-12T10:34:24.743351Z",
     "start_time": "2019-07-12T10:34:24.740370Z"
    },
    "heading_collapsed": true,
    "hidden": true
   },
   "source": [
    "#### Linear kernel regression"
   ]
  },
  {
   "cell_type": "code",
   "execution_count": 77,
   "metadata": {
    "ExecuteTime": {
     "end_time": "2019-08-02T16:45:59.953556Z",
     "start_time": "2019-08-02T16:45:59.885100Z"
    },
    "hidden": true
   },
   "outputs": [],
   "source": [
    "linear_space  = [\n",
    "    Real(1, 3, 'uniform', name='epsilon'),\n",
    "    Real(0.005, 0.03, 'uniform', name='C'),\n",
    "]"
   ]
  },
  {
   "cell_type": "code",
   "execution_count": 78,
   "metadata": {
    "ExecuteTime": {
     "end_time": "2019-08-02T16:45:59.984067Z",
     "start_time": "2019-08-02T16:45:59.956361Z"
    },
    "hidden": true
   },
   "outputs": [],
   "source": [
    "linear_gp_model = SVR(kernel='linear')\n",
    "\n",
    "@use_named_args(linear_space)\n",
    "def linear_objective(**params):\n",
    "    linear_gp_model.set_params(**params)\n",
    "\n",
    "    return -np.mean(\n",
    "        cross_val_score(\n",
    "            linear_gp_model,\n",
    "#             X,\n",
    "#             X_pca,\n",
    "            X_sel,\n",
    "            y.ravel(),\n",
    "            cv=ps,\n",
    "            n_jobs=1,\n",
    "            scoring=\"neg_mean_squared_error\"))"
   ]
  },
  {
   "cell_type": "code",
   "execution_count": 79,
   "metadata": {
    "ExecuteTime": {
     "end_time": "2019-08-02T16:58:42.075142Z",
     "start_time": "2019-08-02T16:45:59.986311Z"
    },
    "hidden": true
   },
   "outputs": [
    {
     "name": "stdout",
     "output_type": "stream",
     "text": [
      "minimisation iteration 1\n",
      "Iteration No: 1 started. Evaluating function at random point.\n",
      "Iteration No: 1 ended. Evaluation done at random point.\n",
      "Time taken: 1.3114\n",
      "Function value obtained: 9.5914\n",
      "Current minimum: 9.5914\n",
      "Iteration No: 2 started. Evaluating function at random point.\n",
      "Iteration No: 2 ended. Evaluation done at random point.\n",
      "Time taken: 1.5687\n",
      "Function value obtained: 9.5413\n",
      "Current minimum: 9.5413\n",
      "Iteration No: 3 started. Evaluating function at random point.\n",
      "Iteration No: 3 ended. Evaluation done at random point.\n",
      "Time taken: 1.8960\n",
      "Function value obtained: 9.9295\n",
      "Current minimum: 9.5413\n",
      "Iteration No: 4 started. Evaluating function at random point.\n",
      "Iteration No: 4 ended. Evaluation done at random point.\n",
      "Time taken: 1.6802\n",
      "Function value obtained: 9.5820\n",
      "Current minimum: 9.5413\n",
      "Iteration No: 5 started. Evaluating function at random point.\n",
      "Iteration No: 5 ended. Evaluation done at random point.\n",
      "Time taken: 1.9631\n",
      "Function value obtained: 10.0353\n",
      "Current minimum: 9.5413\n",
      "Iteration No: 6 started. Evaluating function at random point.\n",
      "Iteration No: 6 ended. Evaluation done at random point.\n",
      "Time taken: 1.4806\n",
      "Function value obtained: 9.5160\n",
      "Current minimum: 9.5160\n",
      "Iteration No: 7 started. Evaluating function at random point.\n",
      "Iteration No: 7 ended. Evaluation done at random point.\n",
      "Time taken: 1.3749\n",
      "Function value obtained: 9.5789\n",
      "Current minimum: 9.5160\n",
      "Iteration No: 8 started. Evaluating function at random point.\n",
      "Iteration No: 8 ended. Evaluation done at random point.\n",
      "Time taken: 1.2919\n",
      "Function value obtained: 9.6227\n",
      "Current minimum: 9.5160\n",
      "Iteration No: 9 started. Evaluating function at random point.\n",
      "Iteration No: 9 ended. Evaluation done at random point.\n",
      "Time taken: 1.2428\n",
      "Function value obtained: 9.6489\n",
      "Current minimum: 9.5160\n",
      "Iteration No: 10 started. Evaluating function at random point.\n",
      "Iteration No: 10 ended. Evaluation done at random point.\n",
      "Time taken: 1.5618\n",
      "Function value obtained: 9.7232\n",
      "Current minimum: 9.5160\n",
      "Iteration No: 11 started. Searching for the next optimal point.\n",
      "Iteration No: 11 ended. Search finished for the next optimal point.\n",
      "Time taken: 2.0133\n",
      "Function value obtained: 9.5199\n",
      "Current minimum: 9.5160\n",
      "Iteration No: 12 started. Searching for the next optimal point.\n",
      "Iteration No: 12 ended. Search finished for the next optimal point.\n",
      "Time taken: 1.9807\n",
      "Function value obtained: 9.5150\n",
      "Current minimum: 9.5150\n",
      "Iteration No: 13 started. Searching for the next optimal point.\n",
      "Iteration No: 13 ended. Search finished for the next optimal point.\n",
      "Time taken: 2.0817\n",
      "Function value obtained: 9.5339\n",
      "Current minimum: 9.5150\n",
      "Iteration No: 14 started. Searching for the next optimal point.\n",
      "Iteration No: 14 ended. Search finished for the next optimal point.\n",
      "Time taken: 1.9572\n",
      "Function value obtained: 9.5190\n",
      "Current minimum: 9.5150\n",
      "Iteration No: 15 started. Searching for the next optimal point.\n",
      "Iteration No: 15 ended. Search finished for the next optimal point.\n",
      "Time taken: 2.2881\n",
      "Function value obtained: 9.5235\n",
      "Current minimum: 9.5150\n",
      "Iteration No: 16 started. Searching for the next optimal point.\n",
      "Iteration No: 16 ended. Search finished for the next optimal point.\n",
      "Time taken: 1.9798\n",
      "Function value obtained: 9.4915\n",
      "Current minimum: 9.4915\n",
      "Iteration No: 17 started. Searching for the next optimal point.\n",
      "Iteration No: 17 ended. Search finished for the next optimal point.\n",
      "Time taken: 2.0788\n",
      "Function value obtained: 9.5101\n",
      "Current minimum: 9.4915\n",
      "Iteration No: 18 started. Searching for the next optimal point.\n",
      "Iteration No: 18 ended. Search finished for the next optimal point.\n",
      "Time taken: 2.0123\n",
      "Function value obtained: 9.4976\n",
      "Current minimum: 9.4915\n",
      "Iteration No: 19 started. Searching for the next optimal point.\n",
      "Iteration No: 19 ended. Search finished for the next optimal point.\n",
      "Time taken: 2.0320\n",
      "Function value obtained: 9.4940\n",
      "Current minimum: 9.4915\n",
      "Iteration No: 20 started. Searching for the next optimal point.\n",
      "Iteration No: 20 ended. Search finished for the next optimal point.\n",
      "Time taken: 1.3010\n",
      "Function value obtained: 9.9020\n",
      "Current minimum: 9.4915\n",
      "Iteration No: 21 started. Searching for the next optimal point.\n",
      "Iteration No: 21 ended. Search finished for the next optimal point.\n",
      "Time taken: 2.1877\n",
      "Function value obtained: 9.4971\n",
      "Current minimum: 9.4915\n",
      "Iteration No: 22 started. Searching for the next optimal point.\n",
      "Iteration No: 22 ended. Search finished for the next optimal point.\n",
      "Time taken: 2.1212\n",
      "Function value obtained: 9.6134\n",
      "Current minimum: 9.4915\n",
      "Iteration No: 23 started. Searching for the next optimal point.\n",
      "Iteration No: 23 ended. Search finished for the next optimal point.\n",
      "Time taken: 2.0200\n",
      "Function value obtained: 9.4985\n",
      "Current minimum: 9.4915\n",
      "Iteration No: 24 started. Searching for the next optimal point.\n",
      "Iteration No: 24 ended. Search finished for the next optimal point.\n",
      "Time taken: 1.6593\n",
      "Function value obtained: 9.9041\n",
      "Current minimum: 9.4915\n",
      "Iteration No: 25 started. Searching for the next optimal point.\n",
      "Iteration No: 25 ended. Search finished for the next optimal point.\n",
      "Time taken: 2.3271\n",
      "Function value obtained: 9.4940\n",
      "Current minimum: 9.4915\n",
      "Iteration No: 26 started. Searching for the next optimal point.\n",
      "Iteration No: 26 ended. Search finished for the next optimal point.\n",
      "Time taken: 2.0921\n",
      "Function value obtained: 9.5008\n",
      "Current minimum: 9.4915\n",
      "Iteration No: 27 started. Searching for the next optimal point.\n",
      "Iteration No: 27 ended. Search finished for the next optimal point.\n",
      "Time taken: 2.1401\n",
      "Function value obtained: 9.4926\n",
      "Current minimum: 9.4915\n",
      "Iteration No: 28 started. Searching for the next optimal point.\n",
      "Iteration No: 28 ended. Search finished for the next optimal point.\n",
      "Time taken: 2.2324\n",
      "Function value obtained: 9.5115\n",
      "Current minimum: 9.4915\n",
      "Iteration No: 29 started. Searching for the next optimal point.\n",
      "Iteration No: 29 ended. Search finished for the next optimal point.\n",
      "Time taken: 2.1581\n",
      "Function value obtained: 9.4888\n",
      "Current minimum: 9.4888\n",
      "Iteration No: 30 started. Searching for the next optimal point.\n",
      "Iteration No: 30 ended. Search finished for the next optimal point.\n",
      "Time taken: 2.1800\n",
      "Function value obtained: 9.4930\n",
      "Current minimum: 9.4888\n",
      "Iteration No: 31 started. Searching for the next optimal point.\n",
      "Iteration No: 31 ended. Search finished for the next optimal point.\n",
      "Time taken: 2.2569\n",
      "Function value obtained: 9.4913\n",
      "Current minimum: 9.4888\n",
      "Iteration No: 32 started. Searching for the next optimal point.\n",
      "Iteration No: 32 ended. Search finished for the next optimal point.\n",
      "Time taken: 2.3332\n",
      "Function value obtained: 9.4915\n",
      "Current minimum: 9.4888\n",
      "Iteration No: 33 started. Searching for the next optimal point.\n",
      "Iteration No: 33 ended. Search finished for the next optimal point.\n",
      "Time taken: 2.5553\n",
      "Function value obtained: 9.4914\n",
      "Current minimum: 9.4888\n",
      "Iteration No: 34 started. Searching for the next optimal point.\n",
      "Iteration No: 34 ended. Search finished for the next optimal point.\n",
      "Time taken: 2.3701\n",
      "Function value obtained: 9.4911\n",
      "Current minimum: 9.4888\n",
      "Iteration No: 35 started. Searching for the next optimal point.\n",
      "Iteration No: 35 ended. Search finished for the next optimal point.\n",
      "Time taken: 2.6138\n",
      "Function value obtained: 10.0714\n",
      "Current minimum: 9.4888\n",
      "Iteration No: 36 started. Searching for the next optimal point.\n",
      "Iteration No: 36 ended. Search finished for the next optimal point.\n",
      "Time taken: 2.2469\n",
      "Function value obtained: 9.4916\n",
      "Current minimum: 9.4888\n",
      "Iteration No: 37 started. Searching for the next optimal point.\n",
      "Iteration No: 37 ended. Search finished for the next optimal point.\n",
      "Time taken: 2.3011\n",
      "Function value obtained: 9.4913\n",
      "Current minimum: 9.4888\n",
      "Iteration No: 38 started. Searching for the next optimal point.\n",
      "Iteration No: 38 ended. Search finished for the next optimal point.\n",
      "Time taken: 2.3157\n",
      "Function value obtained: 9.4912\n",
      "Current minimum: 9.4888\n",
      "Iteration No: 39 started. Searching for the next optimal point.\n",
      "Iteration No: 39 ended. Search finished for the next optimal point.\n",
      "Time taken: 2.3715\n",
      "Function value obtained: 9.4911\n",
      "Current minimum: 9.4888\n",
      "Iteration No: 40 started. Searching for the next optimal point.\n",
      "Iteration No: 40 ended. Search finished for the next optimal point.\n",
      "Time taken: 2.2218\n",
      "Function value obtained: 9.4912\n",
      "Current minimum: 9.4888\n",
      "Iteration No: 41 started. Searching for the next optimal point.\n"
     ]
    },
    {
     "name": "stdout",
     "output_type": "stream",
     "text": [
      "Iteration No: 41 ended. Search finished for the next optimal point.\n",
      "Time taken: 2.4027\n",
      "Function value obtained: 9.4911\n",
      "Current minimum: 9.4888\n",
      "Iteration No: 42 started. Searching for the next optimal point.\n",
      "Iteration No: 42 ended. Search finished for the next optimal point.\n",
      "Time taken: 2.4259\n",
      "Function value obtained: 9.4912\n",
      "Current minimum: 9.4888\n",
      "Iteration No: 43 started. Searching for the next optimal point.\n",
      "Iteration No: 43 ended. Search finished for the next optimal point.\n",
      "Time taken: 2.5908\n",
      "Function value obtained: 9.4911\n",
      "Current minimum: 9.4888\n",
      "Iteration No: 44 started. Searching for the next optimal point.\n",
      "Iteration No: 44 ended. Search finished for the next optimal point.\n",
      "Time taken: 2.4026\n",
      "Function value obtained: 9.4911\n",
      "Current minimum: 9.4888\n",
      "Iteration No: 45 started. Searching for the next optimal point.\n",
      "Iteration No: 45 ended. Search finished for the next optimal point.\n",
      "Time taken: 2.4553\n",
      "Function value obtained: 9.4910\n",
      "Current minimum: 9.4888\n",
      "Iteration No: 46 started. Searching for the next optimal point.\n",
      "Iteration No: 46 ended. Search finished for the next optimal point.\n",
      "Time taken: 2.4940\n",
      "Function value obtained: 9.4910\n",
      "Current minimum: 9.4888\n",
      "Iteration No: 47 started. Searching for the next optimal point.\n",
      "Iteration No: 47 ended. Search finished for the next optimal point.\n",
      "Time taken: 2.3610\n",
      "Function value obtained: 9.4911\n",
      "Current minimum: 9.4888\n",
      "Iteration No: 48 started. Searching for the next optimal point.\n",
      "Iteration No: 48 ended. Search finished for the next optimal point.\n",
      "Time taken: 2.5305\n",
      "Function value obtained: 9.4911\n",
      "Current minimum: 9.4888\n",
      "Iteration No: 49 started. Searching for the next optimal point.\n",
      "Iteration No: 49 ended. Search finished for the next optimal point.\n",
      "Time taken: 2.5767\n",
      "Function value obtained: 9.4910\n",
      "Current minimum: 9.4888\n",
      "Iteration No: 50 started. Searching for the next optimal point.\n",
      "Iteration No: 50 ended. Search finished for the next optimal point.\n",
      "Time taken: 2.4601\n",
      "Function value obtained: 9.4910\n",
      "Current minimum: 9.4888\n",
      "Iteration No: 51 started. Searching for the next optimal point.\n",
      "Iteration No: 51 ended. Search finished for the next optimal point.\n",
      "Time taken: 2.4841\n",
      "Function value obtained: 9.4910\n",
      "Current minimum: 9.4888\n",
      "Iteration No: 52 started. Searching for the next optimal point.\n",
      "Iteration No: 52 ended. Search finished for the next optimal point.\n",
      "Time taken: 2.5207\n",
      "Function value obtained: 9.4910\n",
      "Current minimum: 9.4888\n",
      "Iteration No: 53 started. Searching for the next optimal point.\n",
      "Iteration No: 53 ended. Search finished for the next optimal point.\n",
      "Time taken: 2.6178\n",
      "Function value obtained: 9.4910\n",
      "Current minimum: 9.4888\n",
      "Iteration No: 54 started. Searching for the next optimal point.\n",
      "Iteration No: 54 ended. Search finished for the next optimal point.\n",
      "Time taken: 2.5409\n",
      "Function value obtained: 9.4909\n",
      "Current minimum: 9.4888\n",
      "Iteration No: 55 started. Searching for the next optimal point.\n",
      "Iteration No: 55 ended. Search finished for the next optimal point.\n",
      "Time taken: 2.5771\n",
      "Function value obtained: 9.4909\n",
      "Current minimum: 9.4888\n",
      "Iteration No: 56 started. Searching for the next optimal point.\n",
      "Iteration No: 56 ended. Search finished for the next optimal point.\n",
      "Time taken: 2.6795\n",
      "Function value obtained: 9.4909\n",
      "Current minimum: 9.4888\n",
      "Iteration No: 57 started. Searching for the next optimal point.\n",
      "Iteration No: 57 ended. Search finished for the next optimal point.\n",
      "Time taken: 2.5569\n",
      "Function value obtained: 9.5027\n",
      "Current minimum: 9.4888\n",
      "Iteration No: 58 started. Searching for the next optimal point.\n",
      "Iteration No: 58 ended. Search finished for the next optimal point.\n",
      "Time taken: 2.5644\n",
      "Function value obtained: 9.4892\n",
      "Current minimum: 9.4888\n",
      "Iteration No: 59 started. Searching for the next optimal point.\n",
      "Iteration No: 59 ended. Search finished for the next optimal point.\n",
      "Time taken: 2.7752\n",
      "Function value obtained: 9.4892\n",
      "Current minimum: 9.4888\n",
      "Iteration No: 60 started. Searching for the next optimal point.\n",
      "Iteration No: 60 ended. Search finished for the next optimal point.\n",
      "Time taken: 2.5988\n",
      "Function value obtained: 9.4893\n",
      "Current minimum: 9.4888\n",
      "Iteration No: 61 started. Searching for the next optimal point.\n",
      "Iteration No: 61 ended. Search finished for the next optimal point.\n",
      "Time taken: 2.6182\n",
      "Function value obtained: 9.4895\n",
      "Current minimum: 9.4888\n",
      "Iteration No: 62 started. Searching for the next optimal point.\n",
      "Iteration No: 62 ended. Search finished for the next optimal point.\n",
      "Time taken: 2.6191\n",
      "Function value obtained: 9.4897\n",
      "Current minimum: 9.4888\n",
      "Iteration No: 63 started. Searching for the next optimal point.\n",
      "Iteration No: 63 ended. Search finished for the next optimal point.\n",
      "Time taken: 2.5485\n",
      "Function value obtained: 9.4896\n",
      "Current minimum: 9.4888\n",
      "Iteration No: 64 started. Searching for the next optimal point.\n",
      "Iteration No: 64 ended. Search finished for the next optimal point.\n",
      "Time taken: 2.6482\n",
      "Function value obtained: 9.4897\n",
      "Current minimum: 9.4888\n",
      "Iteration No: 65 started. Searching for the next optimal point.\n",
      "Iteration No: 65 ended. Search finished for the next optimal point.\n",
      "Time taken: 2.6648\n",
      "Function value obtained: 9.4896\n",
      "Current minimum: 9.4888\n",
      "Iteration No: 66 started. Searching for the next optimal point.\n",
      "Iteration No: 66 ended. Search finished for the next optimal point.\n",
      "Time taken: 2.7666\n",
      "Function value obtained: 9.4896\n",
      "Current minimum: 9.4888\n",
      "Iteration No: 67 started. Searching for the next optimal point.\n",
      "Iteration No: 67 ended. Search finished for the next optimal point.\n",
      "Time taken: 2.7726\n",
      "Function value obtained: 9.4897\n",
      "Current minimum: 9.4888\n",
      "Iteration No: 68 started. Searching for the next optimal point.\n",
      "Iteration No: 68 ended. Search finished for the next optimal point.\n",
      "Time taken: 2.7288\n",
      "Function value obtained: 9.4898\n",
      "Current minimum: 9.4888\n",
      "Iteration No: 69 started. Searching for the next optimal point.\n",
      "Iteration No: 69 ended. Search finished for the next optimal point.\n",
      "Time taken: 2.9203\n",
      "Function value obtained: 9.4897\n",
      "Current minimum: 9.4888\n",
      "Iteration No: 70 started. Searching for the next optimal point.\n",
      "Iteration No: 70 ended. Search finished for the next optimal point.\n",
      "Time taken: 2.7477\n",
      "Function value obtained: 9.4897\n",
      "Current minimum: 9.4888\n",
      "Iteration No: 71 started. Searching for the next optimal point.\n",
      "Iteration No: 71 ended. Search finished for the next optimal point.\n",
      "Time taken: 2.8867\n",
      "Function value obtained: 9.4896\n",
      "Current minimum: 9.4888\n",
      "Iteration No: 72 started. Searching for the next optimal point.\n",
      "Iteration No: 72 ended. Search finished for the next optimal point.\n",
      "Time taken: 2.9488\n",
      "Function value obtained: 9.4896\n",
      "Current minimum: 9.4888\n",
      "Iteration No: 73 started. Searching for the next optimal point.\n",
      "Iteration No: 73 ended. Search finished for the next optimal point.\n",
      "Time taken: 2.8226\n",
      "Function value obtained: 9.4895\n",
      "Current minimum: 9.4888\n",
      "Iteration No: 74 started. Searching for the next optimal point.\n",
      "Iteration No: 74 ended. Search finished for the next optimal point.\n",
      "Time taken: 3.0107\n",
      "Function value obtained: 9.4894\n",
      "Current minimum: 9.4888\n",
      "Iteration No: 75 started. Searching for the next optimal point.\n",
      "Iteration No: 75 ended. Search finished for the next optimal point.\n",
      "Time taken: 2.8948\n",
      "Function value obtained: 9.4894\n",
      "Current minimum: 9.4888\n",
      "Iteration No: 76 started. Searching for the next optimal point.\n",
      "Iteration No: 76 ended. Search finished for the next optimal point.\n",
      "Time taken: 2.8340\n",
      "Function value obtained: 9.4892\n",
      "Current minimum: 9.4888\n",
      "Iteration No: 77 started. Searching for the next optimal point.\n",
      "Iteration No: 77 ended. Search finished for the next optimal point.\n",
      "Time taken: 2.8678\n",
      "Function value obtained: 9.4886\n",
      "Current minimum: 9.4886\n",
      "Iteration No: 78 started. Searching for the next optimal point.\n",
      "Iteration No: 78 ended. Search finished for the next optimal point.\n",
      "Time taken: 2.9088\n",
      "Function value obtained: 9.4886\n",
      "Current minimum: 9.4886\n",
      "Iteration No: 79 started. Searching for the next optimal point.\n",
      "Iteration No: 79 ended. Search finished for the next optimal point.\n",
      "Time taken: 2.8831\n",
      "Function value obtained: 9.4881\n",
      "Current minimum: 9.4881\n",
      "Iteration No: 80 started. Searching for the next optimal point.\n",
      "Iteration No: 80 ended. Search finished for the next optimal point.\n",
      "Time taken: 3.0002\n",
      "Function value obtained: 9.4874\n",
      "Current minimum: 9.4874\n",
      "Iteration No: 81 started. Searching for the next optimal point.\n"
     ]
    },
    {
     "name": "stdout",
     "output_type": "stream",
     "text": [
      "Iteration No: 81 ended. Search finished for the next optimal point.\n",
      "Time taken: 3.0173\n",
      "Function value obtained: 9.4879\n",
      "Current minimum: 9.4874\n",
      "Iteration No: 82 started. Searching for the next optimal point.\n",
      "Iteration No: 82 ended. Search finished for the next optimal point.\n",
      "Time taken: 2.9867\n",
      "Function value obtained: 9.4889\n",
      "Current minimum: 9.4874\n",
      "Iteration No: 83 started. Searching for the next optimal point.\n",
      "Iteration No: 83 ended. Search finished for the next optimal point.\n",
      "Time taken: 2.9850\n",
      "Function value obtained: 9.4893\n",
      "Current minimum: 9.4874\n",
      "Iteration No: 84 started. Searching for the next optimal point.\n",
      "Iteration No: 84 ended. Search finished for the next optimal point.\n",
      "Time taken: 3.0694\n",
      "Function value obtained: 9.4895\n",
      "Current minimum: 9.4874\n",
      "Iteration No: 85 started. Searching for the next optimal point.\n",
      "Iteration No: 85 ended. Search finished for the next optimal point.\n",
      "Time taken: 3.0568\n",
      "Function value obtained: 9.4896\n",
      "Current minimum: 9.4874\n",
      "Iteration No: 86 started. Searching for the next optimal point.\n",
      "Iteration No: 86 ended. Search finished for the next optimal point.\n",
      "Time taken: 3.0039\n",
      "Function value obtained: 9.4897\n",
      "Current minimum: 9.4874\n",
      "Iteration No: 87 started. Searching for the next optimal point.\n",
      "Iteration No: 87 ended. Search finished for the next optimal point.\n",
      "Time taken: 3.2945\n",
      "Function value obtained: 9.4896\n",
      "Current minimum: 9.4874\n",
      "Iteration No: 88 started. Searching for the next optimal point.\n",
      "Iteration No: 88 ended. Search finished for the next optimal point.\n",
      "Time taken: 2.9534\n",
      "Function value obtained: 9.4897\n",
      "Current minimum: 9.4874\n",
      "Iteration No: 89 started. Searching for the next optimal point.\n",
      "Iteration No: 89 ended. Search finished for the next optimal point.\n",
      "Time taken: 3.4320\n",
      "Function value obtained: 9.4897\n",
      "Current minimum: 9.4874\n",
      "Iteration No: 90 started. Searching for the next optimal point.\n",
      "Iteration No: 90 ended. Search finished for the next optimal point.\n",
      "Time taken: 3.2327\n",
      "Function value obtained: 9.4897\n",
      "Current minimum: 9.4874\n",
      "Iteration No: 91 started. Searching for the next optimal point.\n",
      "Iteration No: 91 ended. Search finished for the next optimal point.\n",
      "Time taken: 3.3861\n",
      "Function value obtained: 9.4897\n",
      "Current minimum: 9.4874\n",
      "Iteration No: 92 started. Searching for the next optimal point.\n",
      "Iteration No: 92 ended. Search finished for the next optimal point.\n",
      "Time taken: 3.5071\n",
      "Function value obtained: 9.4896\n",
      "Current minimum: 9.4874\n",
      "Iteration No: 93 started. Searching for the next optimal point.\n",
      "Iteration No: 93 ended. Search finished for the next optimal point.\n",
      "Time taken: 3.3307\n",
      "Function value obtained: 9.4897\n",
      "Current minimum: 9.4874\n",
      "Iteration No: 94 started. Searching for the next optimal point.\n",
      "Iteration No: 94 ended. Search finished for the next optimal point.\n",
      "Time taken: 3.2735\n",
      "Function value obtained: 9.4896\n",
      "Current minimum: 9.4874\n",
      "Iteration No: 95 started. Searching for the next optimal point.\n",
      "Iteration No: 95 ended. Search finished for the next optimal point.\n",
      "Time taken: 3.6357\n",
      "Function value obtained: 9.4897\n",
      "Current minimum: 9.4874\n",
      "Iteration No: 96 started. Searching for the next optimal point.\n",
      "Iteration No: 96 ended. Search finished for the next optimal point.\n",
      "Time taken: 3.3675\n",
      "Function value obtained: 9.4896\n",
      "Current minimum: 9.4874\n",
      "Iteration No: 97 started. Searching for the next optimal point.\n",
      "Iteration No: 97 ended. Search finished for the next optimal point.\n",
      "Time taken: 3.3461\n",
      "Function value obtained: 9.4895\n",
      "Current minimum: 9.4874\n",
      "Iteration No: 98 started. Searching for the next optimal point.\n",
      "Iteration No: 98 ended. Search finished for the next optimal point.\n",
      "Time taken: 3.4188\n",
      "Function value obtained: 9.4896\n",
      "Current minimum: 9.4874\n",
      "Iteration No: 99 started. Searching for the next optimal point.\n",
      "Iteration No: 99 ended. Search finished for the next optimal point.\n",
      "Time taken: 3.6080\n",
      "Function value obtained: 9.4896\n",
      "Current minimum: 9.4874\n",
      "Iteration No: 100 started. Searching for the next optimal point.\n",
      "Iteration No: 100 ended. Search finished for the next optimal point.\n",
      "Time taken: 3.6846\n",
      "Function value obtained: 9.4896\n",
      "Current minimum: 9.4874\n",
      "Iteration No: 101 started. Searching for the next optimal point.\n",
      "Iteration No: 101 ended. Search finished for the next optimal point.\n",
      "Time taken: 3.5733\n",
      "Function value obtained: 9.4895\n",
      "Current minimum: 9.4874\n",
      "Iteration No: 102 started. Searching for the next optimal point.\n",
      "Iteration No: 102 ended. Search finished for the next optimal point.\n",
      "Time taken: 3.8840\n",
      "Function value obtained: 9.4896\n",
      "Current minimum: 9.4874\n",
      "Iteration No: 103 started. Searching for the next optimal point.\n",
      "Iteration No: 103 ended. Search finished for the next optimal point.\n",
      "Time taken: 3.5867\n",
      "Function value obtained: 9.4894\n",
      "Current minimum: 9.4874\n",
      "Iteration No: 104 started. Searching for the next optimal point.\n",
      "Iteration No: 104 ended. Search finished for the next optimal point.\n",
      "Time taken: 3.5917\n",
      "Function value obtained: 9.4895\n",
      "Current minimum: 9.4874\n",
      "Iteration No: 105 started. Searching for the next optimal point.\n",
      "Iteration No: 105 ended. Search finished for the next optimal point.\n",
      "Time taken: 3.5851\n",
      "Function value obtained: 9.4892\n",
      "Current minimum: 9.4874\n",
      "Iteration No: 106 started. Searching for the next optimal point.\n",
      "Iteration No: 106 ended. Search finished for the next optimal point.\n",
      "Time taken: 3.7007\n",
      "Function value obtained: 9.4892\n",
      "Current minimum: 9.4874\n",
      "Iteration No: 107 started. Searching for the next optimal point.\n",
      "Iteration No: 107 ended. Search finished for the next optimal point.\n",
      "Time taken: 3.7533\n",
      "Function value obtained: 9.4892\n",
      "Current minimum: 9.4874\n",
      "Iteration No: 108 started. Searching for the next optimal point.\n",
      "Iteration No: 108 ended. Search finished for the next optimal point.\n",
      "Time taken: 3.9050\n",
      "Function value obtained: 9.4892\n",
      "Current minimum: 9.4874\n",
      "Iteration No: 109 started. Searching for the next optimal point.\n",
      "Iteration No: 109 ended. Search finished for the next optimal point.\n",
      "Time taken: 3.9721\n",
      "Function value obtained: 9.4898\n",
      "Current minimum: 9.4874\n",
      "Iteration No: 110 started. Searching for the next optimal point.\n",
      "Iteration No: 110 ended. Search finished for the next optimal point.\n",
      "Time taken: 3.8115\n",
      "Function value obtained: 9.4890\n",
      "Current minimum: 9.4874\n",
      "Iteration No: 111 started. Searching for the next optimal point.\n",
      "Iteration No: 111 ended. Search finished for the next optimal point.\n",
      "Time taken: 3.7267\n",
      "Function value obtained: 9.4891\n",
      "Current minimum: 9.4874\n",
      "Iteration No: 112 started. Searching for the next optimal point.\n",
      "Iteration No: 112 ended. Search finished for the next optimal point.\n",
      "Time taken: 3.7892\n",
      "Function value obtained: 9.4891\n",
      "Current minimum: 9.4874\n",
      "Iteration No: 113 started. Searching for the next optimal point.\n",
      "Iteration No: 113 ended. Search finished for the next optimal point.\n",
      "Time taken: 3.8166\n",
      "Function value obtained: 9.4893\n",
      "Current minimum: 9.4874\n",
      "Iteration No: 114 started. Searching for the next optimal point.\n",
      "Iteration No: 114 ended. Search finished for the next optimal point.\n",
      "Time taken: 3.8822\n",
      "Function value obtained: 9.4892\n",
      "Current minimum: 9.4874\n",
      "Iteration No: 115 started. Searching for the next optimal point.\n",
      "Iteration No: 115 ended. Search finished for the next optimal point.\n",
      "Time taken: 3.9975\n",
      "Function value obtained: 9.4893\n",
      "Current minimum: 9.4874\n",
      "Iteration No: 116 started. Searching for the next optimal point.\n",
      "Iteration No: 116 ended. Search finished for the next optimal point.\n",
      "Time taken: 3.8854\n",
      "Function value obtained: 9.4893\n",
      "Current minimum: 9.4874\n",
      "Iteration No: 117 started. Searching for the next optimal point.\n",
      "Iteration No: 117 ended. Search finished for the next optimal point.\n",
      "Time taken: 4.0280\n",
      "Function value obtained: 9.4894\n",
      "Current minimum: 9.4874\n",
      "Iteration No: 118 started. Searching for the next optimal point.\n",
      "Iteration No: 118 ended. Search finished for the next optimal point.\n",
      "Time taken: 3.9186\n",
      "Function value obtained: 9.4903\n",
      "Current minimum: 9.4874\n",
      "Iteration No: 119 started. Searching for the next optimal point.\n",
      "Iteration No: 119 ended. Search finished for the next optimal point.\n",
      "Time taken: 4.1029\n",
      "Function value obtained: 9.4890\n",
      "Current minimum: 9.4874\n",
      "Iteration No: 120 started. Searching for the next optimal point.\n",
      "Iteration No: 120 ended. Search finished for the next optimal point.\n",
      "Time taken: 4.0441\n",
      "Function value obtained: 9.4890\n",
      "Current minimum: 9.4874\n",
      "Iteration No: 121 started. Searching for the next optimal point.\n"
     ]
    },
    {
     "name": "stdout",
     "output_type": "stream",
     "text": [
      "Iteration No: 121 ended. Search finished for the next optimal point.\n",
      "Time taken: 4.0960\n",
      "Function value obtained: 9.4892\n",
      "Current minimum: 9.4874\n",
      "Iteration No: 122 started. Searching for the next optimal point.\n",
      "Iteration No: 122 ended. Search finished for the next optimal point.\n",
      "Time taken: 4.0315\n",
      "Function value obtained: 9.4892\n",
      "Current minimum: 9.4874\n",
      "Iteration No: 123 started. Searching for the next optimal point.\n",
      "Iteration No: 123 ended. Search finished for the next optimal point.\n",
      "Time taken: 4.3646\n",
      "Function value obtained: 9.4893\n",
      "Current minimum: 9.4874\n",
      "Iteration No: 124 started. Searching for the next optimal point.\n",
      "Iteration No: 124 ended. Search finished for the next optimal point.\n",
      "Time taken: 3.9973\n",
      "Function value obtained: 9.4893\n",
      "Current minimum: 9.4874\n",
      "Iteration No: 125 started. Searching for the next optimal point.\n",
      "Iteration No: 125 ended. Search finished for the next optimal point.\n",
      "Time taken: 4.2775\n",
      "Function value obtained: 9.4893\n",
      "Current minimum: 9.4874\n",
      "Iteration No: 126 started. Searching for the next optimal point.\n",
      "Iteration No: 126 ended. Search finished for the next optimal point.\n",
      "Time taken: 4.2659\n",
      "Function value obtained: 9.4894\n",
      "Current minimum: 9.4874\n",
      "Iteration No: 127 started. Searching for the next optimal point.\n",
      "Iteration No: 127 ended. Search finished for the next optimal point.\n",
      "Time taken: 4.2562\n",
      "Function value obtained: 9.4893\n",
      "Current minimum: 9.4874\n",
      "Iteration No: 128 started. Searching for the next optimal point.\n",
      "Iteration No: 128 ended. Search finished for the next optimal point.\n",
      "Time taken: 4.2640\n",
      "Function value obtained: 9.4893\n",
      "Current minimum: 9.4874\n",
      "Iteration No: 129 started. Searching for the next optimal point.\n",
      "Iteration No: 129 ended. Search finished for the next optimal point.\n",
      "Time taken: 4.4161\n",
      "Function value obtained: 9.4910\n",
      "Current minimum: 9.4874\n",
      "Iteration No: 130 started. Searching for the next optimal point.\n",
      "Iteration No: 130 ended. Search finished for the next optimal point.\n",
      "Time taken: 4.2192\n",
      "Function value obtained: 9.4892\n",
      "Current minimum: 9.4874\n",
      "Iteration No: 131 started. Searching for the next optimal point.\n",
      "Iteration No: 131 ended. Search finished for the next optimal point.\n",
      "Time taken: 4.3634\n",
      "Function value obtained: 9.4891\n",
      "Current minimum: 9.4874\n",
      "Iteration No: 132 started. Searching for the next optimal point.\n",
      "Iteration No: 132 ended. Search finished for the next optimal point.\n",
      "Time taken: 4.3645\n",
      "Function value obtained: 9.4893\n",
      "Current minimum: 9.4874\n",
      "Iteration No: 133 started. Searching for the next optimal point.\n",
      "Iteration No: 133 ended. Search finished for the next optimal point.\n",
      "Time taken: 4.5528\n",
      "Function value obtained: 9.4892\n",
      "Current minimum: 9.4874\n",
      "Iteration No: 134 started. Searching for the next optimal point.\n",
      "Iteration No: 134 ended. Search finished for the next optimal point.\n",
      "Time taken: 4.7640\n",
      "Function value obtained: 9.4892\n",
      "Current minimum: 9.4874\n",
      "Iteration No: 135 started. Searching for the next optimal point.\n",
      "Iteration No: 135 ended. Search finished for the next optimal point.\n",
      "Time taken: 4.4827\n",
      "Function value obtained: 9.4893\n",
      "Current minimum: 9.4874\n",
      "Iteration No: 136 started. Searching for the next optimal point.\n",
      "Iteration No: 136 ended. Search finished for the next optimal point.\n",
      "Time taken: 4.6704\n",
      "Function value obtained: 9.4893\n",
      "Current minimum: 9.4874\n",
      "Iteration No: 137 started. Searching for the next optimal point.\n",
      "Iteration No: 137 ended. Search finished for the next optimal point.\n",
      "Time taken: 4.6045\n",
      "Function value obtained: 9.4894\n",
      "Current minimum: 9.4874\n",
      "Iteration No: 138 started. Searching for the next optimal point.\n",
      "Iteration No: 138 ended. Search finished for the next optimal point.\n",
      "Time taken: 4.6536\n",
      "Function value obtained: 9.4893\n",
      "Current minimum: 9.4874\n",
      "Iteration No: 139 started. Searching for the next optimal point.\n",
      "Iteration No: 139 ended. Search finished for the next optimal point.\n",
      "Time taken: 4.7734\n",
      "Function value obtained: 9.4892\n",
      "Current minimum: 9.4874\n",
      "Iteration No: 140 started. Searching for the next optimal point.\n",
      "Iteration No: 140 ended. Search finished for the next optimal point.\n",
      "Time taken: 4.6528\n",
      "Function value obtained: 9.4894\n",
      "Current minimum: 9.4874\n",
      "Iteration No: 141 started. Searching for the next optimal point.\n",
      "Iteration No: 141 ended. Search finished for the next optimal point.\n",
      "Time taken: 4.9154\n",
      "Function value obtained: 9.4894\n",
      "Current minimum: 9.4874\n",
      "Iteration No: 142 started. Searching for the next optimal point.\n",
      "Iteration No: 142 ended. Search finished for the next optimal point.\n",
      "Time taken: 4.6988\n",
      "Function value obtained: 9.4913\n",
      "Current minimum: 9.4874\n",
      "Iteration No: 143 started. Searching for the next optimal point.\n",
      "Iteration No: 143 ended. Search finished for the next optimal point.\n",
      "Time taken: 4.8220\n",
      "Function value obtained: 9.4893\n",
      "Current minimum: 9.4874\n",
      "Iteration No: 144 started. Searching for the next optimal point.\n",
      "Iteration No: 144 ended. Search finished for the next optimal point.\n",
      "Time taken: 4.5882\n",
      "Function value obtained: 9.4892\n",
      "Current minimum: 9.4874\n",
      "Iteration No: 145 started. Searching for the next optimal point.\n",
      "Iteration No: 145 ended. Search finished for the next optimal point.\n",
      "Time taken: 4.9936\n",
      "Function value obtained: 9.4894\n",
      "Current minimum: 9.4874\n",
      "Iteration No: 146 started. Searching for the next optimal point.\n",
      "Iteration No: 146 ended. Search finished for the next optimal point.\n",
      "Time taken: 4.9505\n",
      "Function value obtained: 9.4893\n",
      "Current minimum: 9.4874\n",
      "Iteration No: 147 started. Searching for the next optimal point.\n",
      "Iteration No: 147 ended. Search finished for the next optimal point.\n",
      "Time taken: 4.8996\n",
      "Function value obtained: 9.4892\n",
      "Current minimum: 9.4874\n",
      "Iteration No: 148 started. Searching for the next optimal point.\n",
      "Iteration No: 148 ended. Search finished for the next optimal point.\n",
      "Time taken: 5.0080\n",
      "Function value obtained: 9.4893\n",
      "Current minimum: 9.4874\n",
      "Iteration No: 149 started. Searching for the next optimal point.\n",
      "Iteration No: 149 ended. Search finished for the next optimal point.\n",
      "Time taken: 5.3154\n",
      "Function value obtained: 9.4893\n",
      "Current minimum: 9.4874\n",
      "Iteration No: 150 started. Searching for the next optimal point.\n",
      "Iteration No: 150 ended. Search finished for the next optimal point.\n",
      "Time taken: 5.0772\n",
      "Function value obtained: 9.4893\n",
      "Current minimum: 9.4874\n",
      "Iteration No: 151 started. Searching for the next optimal point.\n",
      "Iteration No: 151 ended. Search finished for the next optimal point.\n",
      "Time taken: 4.9646\n",
      "Function value obtained: 9.4893\n",
      "Current minimum: 9.4874\n",
      "Iteration No: 152 started. Searching for the next optimal point.\n",
      "Iteration No: 152 ended. Search finished for the next optimal point.\n",
      "Time taken: 5.2116\n",
      "Function value obtained: 9.4893\n",
      "Current minimum: 9.4874\n",
      "Iteration No: 153 started. Searching for the next optimal point.\n",
      "Iteration No: 153 ended. Search finished for the next optimal point.\n",
      "Time taken: 5.1385\n",
      "Function value obtained: 9.4893\n",
      "Current minimum: 9.4874\n",
      "Iteration No: 154 started. Searching for the next optimal point.\n",
      "Iteration No: 154 ended. Search finished for the next optimal point.\n",
      "Time taken: 5.2864\n",
      "Function value obtained: 9.4894\n",
      "Current minimum: 9.4874\n",
      "Iteration No: 155 started. Searching for the next optimal point.\n",
      "Iteration No: 155 ended. Search finished for the next optimal point.\n",
      "Time taken: 5.2332\n",
      "Function value obtained: 9.4893\n",
      "Current minimum: 9.4874\n",
      "Iteration No: 156 started. Searching for the next optimal point.\n",
      "Iteration No: 156 ended. Search finished for the next optimal point.\n",
      "Time taken: 5.3009\n",
      "Function value obtained: 9.4913\n",
      "Current minimum: 9.4874\n",
      "Iteration No: 157 started. Searching for the next optimal point.\n",
      "Iteration No: 157 ended. Search finished for the next optimal point.\n",
      "Time taken: 5.2718\n",
      "Function value obtained: 9.4895\n",
      "Current minimum: 9.4874\n",
      "Iteration No: 158 started. Searching for the next optimal point.\n",
      "Iteration No: 158 ended. Search finished for the next optimal point.\n",
      "Time taken: 5.1623\n",
      "Function value obtained: 9.4895\n",
      "Current minimum: 9.4874\n",
      "Iteration No: 159 started. Searching for the next optimal point.\n",
      "Iteration No: 159 ended. Search finished for the next optimal point.\n",
      "Time taken: 5.4146\n",
      "Function value obtained: 9.4894\n",
      "Current minimum: 9.4874\n",
      "Iteration No: 160 started. Searching for the next optimal point.\n",
      "Iteration No: 160 ended. Search finished for the next optimal point.\n",
      "Time taken: 5.2925\n",
      "Function value obtained: 9.4895\n",
      "Current minimum: 9.4874\n",
      "Iteration No: 161 started. Searching for the next optimal point.\n"
     ]
    },
    {
     "name": "stdout",
     "output_type": "stream",
     "text": [
      "Iteration No: 161 ended. Search finished for the next optimal point.\n",
      "Time taken: 5.2988\n",
      "Function value obtained: 9.4895\n",
      "Current minimum: 9.4874\n",
      "Iteration No: 162 started. Searching for the next optimal point.\n",
      "Iteration No: 162 ended. Search finished for the next optimal point.\n",
      "Time taken: 5.3005\n",
      "Function value obtained: 9.4895\n",
      "Current minimum: 9.4874\n",
      "Iteration No: 163 started. Searching for the next optimal point.\n",
      "Iteration No: 163 ended. Search finished for the next optimal point.\n",
      "Time taken: 5.5042\n",
      "Function value obtained: 9.4895\n",
      "Current minimum: 9.4874\n",
      "Iteration No: 164 started. Searching for the next optimal point.\n",
      "Iteration No: 164 ended. Search finished for the next optimal point.\n",
      "Time taken: 5.3580\n",
      "Function value obtained: 9.4906\n",
      "Current minimum: 9.4874\n",
      "Iteration No: 165 started. Searching for the next optimal point.\n",
      "Iteration No: 165 ended. Search finished for the next optimal point.\n",
      "Time taken: 5.4131\n",
      "Function value obtained: 9.4898\n",
      "Current minimum: 9.4874\n",
      "Iteration No: 166 started. Searching for the next optimal point.\n",
      "Iteration No: 166 ended. Search finished for the next optimal point.\n",
      "Time taken: 5.4808\n",
      "Function value obtained: 9.4898\n",
      "Current minimum: 9.4874\n",
      "Iteration No: 167 started. Searching for the next optimal point.\n",
      "Iteration No: 167 ended. Search finished for the next optimal point.\n",
      "Time taken: 5.5450\n",
      "Function value obtained: 9.4903\n",
      "Current minimum: 9.4874\n",
      "Iteration No: 168 started. Searching for the next optimal point.\n",
      "Iteration No: 168 ended. Search finished for the next optimal point.\n",
      "Time taken: 5.5714\n",
      "Function value obtained: 9.4901\n",
      "Current minimum: 9.4874\n",
      "Iteration No: 169 started. Searching for the next optimal point.\n",
      "Iteration No: 169 ended. Search finished for the next optimal point.\n",
      "Time taken: 5.5955\n",
      "Function value obtained: 9.4901\n",
      "Current minimum: 9.4874\n",
      "Iteration No: 170 started. Searching for the next optimal point.\n",
      "Iteration No: 170 ended. Search finished for the next optimal point.\n",
      "Time taken: 5.7293\n",
      "Function value obtained: 9.4901\n",
      "Current minimum: 9.4874\n",
      "Iteration No: 171 started. Searching for the next optimal point.\n",
      "Iteration No: 171 ended. Search finished for the next optimal point.\n",
      "Time taken: 5.8137\n",
      "Function value obtained: 9.4902\n",
      "Current minimum: 9.4874\n",
      "Iteration No: 172 started. Searching for the next optimal point.\n",
      "Iteration No: 172 ended. Search finished for the next optimal point.\n",
      "Time taken: 5.7363\n",
      "Function value obtained: 9.4898\n",
      "Current minimum: 9.4874\n",
      "Iteration No: 173 started. Searching for the next optimal point.\n",
      "Iteration No: 173 ended. Search finished for the next optimal point.\n",
      "Time taken: 5.6707\n",
      "Function value obtained: 9.4898\n",
      "Current minimum: 9.4874\n",
      "Iteration No: 174 started. Searching for the next optimal point.\n",
      "Iteration No: 174 ended. Search finished for the next optimal point.\n",
      "Time taken: 5.9581\n",
      "Function value obtained: 9.4905\n",
      "Current minimum: 9.4874\n",
      "Iteration No: 175 started. Searching for the next optimal point.\n",
      "Iteration No: 175 ended. Search finished for the next optimal point.\n",
      "Time taken: 5.7571\n",
      "Function value obtained: 9.4898\n",
      "Current minimum: 9.4874\n",
      "Iteration No: 176 started. Searching for the next optimal point.\n",
      "Iteration No: 176 ended. Search finished for the next optimal point.\n",
      "Time taken: 5.8632\n",
      "Function value obtained: 9.4896\n",
      "Current minimum: 9.4874\n",
      "Iteration No: 177 started. Searching for the next optimal point.\n",
      "Iteration No: 177 ended. Search finished for the next optimal point.\n",
      "Time taken: 6.0464\n",
      "Function value obtained: 9.4897\n",
      "Current minimum: 9.4874\n",
      "Iteration No: 178 started. Searching for the next optimal point.\n",
      "Iteration No: 178 ended. Search finished for the next optimal point.\n",
      "Time taken: 5.9031\n",
      "Function value obtained: 9.4904\n",
      "Current minimum: 9.4874\n",
      "Iteration No: 179 started. Searching for the next optimal point.\n",
      "Iteration No: 179 ended. Search finished for the next optimal point.\n",
      "Time taken: 6.0440\n",
      "Function value obtained: 9.4894\n",
      "Current minimum: 9.4874\n",
      "Iteration No: 180 started. Searching for the next optimal point.\n",
      "Iteration No: 180 ended. Search finished for the next optimal point.\n",
      "Time taken: 5.9566\n",
      "Function value obtained: 9.4894\n",
      "Current minimum: 9.4874\n",
      "Iteration No: 181 started. Searching for the next optimal point.\n",
      "Iteration No: 181 ended. Search finished for the next optimal point.\n",
      "Time taken: 6.1850\n",
      "Function value obtained: 9.4895\n",
      "Current minimum: 9.4874\n",
      "Iteration No: 182 started. Searching for the next optimal point.\n",
      "Iteration No: 182 ended. Search finished for the next optimal point.\n",
      "Time taken: 6.0117\n",
      "Function value obtained: 9.4894\n",
      "Current minimum: 9.4874\n",
      "Iteration No: 183 started. Searching for the next optimal point.\n",
      "Iteration No: 183 ended. Search finished for the next optimal point.\n",
      "Time taken: 6.1560\n",
      "Function value obtained: 9.4893\n",
      "Current minimum: 9.4874\n",
      "Iteration No: 184 started. Searching for the next optimal point.\n",
      "Iteration No: 184 ended. Search finished for the next optimal point.\n",
      "Time taken: 5.9617\n",
      "Function value obtained: 9.4894\n",
      "Current minimum: 9.4874\n",
      "Iteration No: 185 started. Searching for the next optimal point.\n",
      "Iteration No: 185 ended. Search finished for the next optimal point.\n",
      "Time taken: 6.4033\n",
      "Function value obtained: 9.4893\n",
      "Current minimum: 9.4874\n",
      "Iteration No: 186 started. Searching for the next optimal point.\n",
      "Iteration No: 186 ended. Search finished for the next optimal point.\n",
      "Time taken: 6.4242\n",
      "Function value obtained: 9.4894\n",
      "Current minimum: 9.4874\n",
      "Iteration No: 187 started. Searching for the next optimal point.\n",
      "Iteration No: 187 ended. Search finished for the next optimal point.\n",
      "Time taken: 6.4964\n",
      "Function value obtained: 9.4900\n",
      "Current minimum: 9.4874\n",
      "Iteration No: 188 started. Searching for the next optimal point.\n",
      "Iteration No: 188 ended. Search finished for the next optimal point.\n",
      "Time taken: 6.4335\n",
      "Function value obtained: 9.4894\n",
      "Current minimum: 9.4874\n",
      "Iteration No: 189 started. Searching for the next optimal point.\n",
      "Iteration No: 189 ended. Search finished for the next optimal point.\n",
      "Time taken: 6.4686\n",
      "Function value obtained: 9.4893\n",
      "Current minimum: 9.4874\n",
      "Iteration No: 190 started. Searching for the next optimal point.\n",
      "Iteration No: 190 ended. Search finished for the next optimal point.\n",
      "Time taken: 6.4223\n",
      "Function value obtained: 9.4893\n",
      "Current minimum: 9.4874\n",
      "Iteration No: 191 started. Searching for the next optimal point.\n",
      "Iteration No: 191 ended. Search finished for the next optimal point.\n",
      "Time taken: 6.5563\n",
      "Function value obtained: 9.4893\n",
      "Current minimum: 9.4874\n",
      "Iteration No: 192 started. Searching for the next optimal point.\n",
      "Iteration No: 192 ended. Search finished for the next optimal point.\n",
      "Time taken: 6.4959\n",
      "Function value obtained: 9.4894\n",
      "Current minimum: 9.4874\n",
      "Iteration No: 193 started. Searching for the next optimal point.\n",
      "Iteration No: 193 ended. Search finished for the next optimal point.\n",
      "Time taken: 6.5711\n",
      "Function value obtained: 9.4894\n",
      "Current minimum: 9.4874\n",
      "Iteration No: 194 started. Searching for the next optimal point.\n",
      "Iteration No: 194 ended. Search finished for the next optimal point.\n",
      "Time taken: 6.6773\n",
      "Function value obtained: 9.4894\n",
      "Current minimum: 9.4874\n",
      "Iteration No: 195 started. Searching for the next optimal point.\n",
      "Iteration No: 195 ended. Search finished for the next optimal point.\n",
      "Time taken: 6.6955\n",
      "Function value obtained: 9.4896\n",
      "Current minimum: 9.4874\n",
      "Iteration No: 196 started. Searching for the next optimal point.\n",
      "Iteration No: 196 ended. Search finished for the next optimal point.\n",
      "Time taken: 6.7694\n",
      "Function value obtained: 9.4893\n",
      "Current minimum: 9.4874\n",
      "Iteration No: 197 started. Searching for the next optimal point.\n",
      "Iteration No: 197 ended. Search finished for the next optimal point.\n",
      "Time taken: 6.8442\n",
      "Function value obtained: 9.4894\n",
      "Current minimum: 9.4874\n",
      "Iteration No: 198 started. Searching for the next optimal point.\n",
      "Iteration No: 198 ended. Search finished for the next optimal point.\n",
      "Time taken: 6.9748\n",
      "Function value obtained: 9.4897\n",
      "Current minimum: 9.4874\n",
      "Iteration No: 199 started. Searching for the next optimal point.\n",
      "Iteration No: 199 ended. Search finished for the next optimal point.\n",
      "Time taken: 6.7968\n",
      "Function value obtained: 9.4893\n",
      "Current minimum: 9.4874\n",
      "Iteration No: 200 started. Searching for the next optimal point.\n",
      "Iteration No: 200 ended. Search finished for the next optimal point.\n",
      "Time taken: 6.7996\n",
      "Function value obtained: 9.4893\n",
      "Current minimum: 9.4874\n"
     ]
    }
   ],
   "source": [
    "linear_res_gp_arr = []\n",
    "for i in range(1, 2):\n",
    "    print('minimisation iteration', i)\n",
    "    linear_res_gp = gp_minimize(linear_objective, linear_space, n_calls=200, verbose=2)\n",
    "    linear_res_gp_arr.append(linear_res_gp)"
   ]
  },
  {
   "cell_type": "code",
   "execution_count": 80,
   "metadata": {
    "ExecuteTime": {
     "end_time": "2019-08-02T16:58:42.082125Z",
     "start_time": "2019-08-02T16:58:42.077618Z"
    },
    "hidden": true
   },
   "outputs": [
    {
     "name": "stdout",
     "output_type": "stream",
     "text": [
      "9.487424393564483\n",
      "\n",
      "\n",
      "[1.9342373044134793, 0.01171574141196055]\n"
     ]
    }
   ],
   "source": [
    "# Selected PCA (with elements)\n",
    "for i in linear_res_gp_arr:\n",
    "    print(i.fun)\n",
    "print('\\n')\n",
    "for i in linear_res_gp_arr:\n",
    "    print(i.x)"
   ]
  },
  {
   "cell_type": "code",
   "execution_count": 34,
   "metadata": {
    "ExecuteTime": {
     "end_time": "2019-08-02T14:25:07.560518Z",
     "start_time": "2019-08-02T14:25:07.550580Z"
    },
    "hidden": true
   },
   "outputs": [
    {
     "name": "stdout",
     "output_type": "stream",
     "text": [
      "9.504610683290739\n",
      "\n",
      "\n",
      "[1.9445943631656093, 0.009228107684449486]\n"
     ]
    }
   ],
   "source": [
    "# Full PCA (with elements)\n",
    "for i in linear_res_gp_arr:\n",
    "    print(i.fun)\n",
    "print('\\n')\n",
    "for i in linear_res_gp_arr:\n",
    "    print(i.x)"
   ]
  },
  {
   "cell_type": "code",
   "execution_count": 54,
   "metadata": {
    "ExecuteTime": {
     "end_time": "2019-08-02T15:21:53.489588Z",
     "start_time": "2019-08-02T15:21:53.480598Z"
    },
    "hidden": true
   },
   "outputs": [
    {
     "name": "stdout",
     "output_type": "stream",
     "text": [
      "9.508804983454286\n",
      "\n",
      "\n",
      "[1.9517947925053325, 0.011061175539736231]\n"
     ]
    }
   ],
   "source": [
    "# Full features (with elements)\n",
    "for i in linear_res_gp_arr:\n",
    "    print(i.fun)\n",
    "print('\\n')\n",
    "for i in linear_res_gp_arr:\n",
    "    print(i.x)"
   ]
  },
  {
   "cell_type": "code",
   "execution_count": 61,
   "metadata": {
    "ExecuteTime": {
     "end_time": "2019-08-02T15:44:10.746659Z",
     "start_time": "2019-08-02T15:44:10.739746Z"
    },
    "hidden": true
   },
   "outputs": [
    {
     "name": "stdout",
     "output_type": "stream",
     "text": [
      "9.494869643547798\n",
      "\n",
      "\n",
      "[1.93636130880968, 0.009944082816547729]\n"
     ]
    }
   ],
   "source": [
    "# Selected features (with elements)\n",
    "for i in linear_res_gp_arr:\n",
    "    print(i.fun)\n",
    "print('\\n')\n",
    "for i in linear_res_gp_arr:\n",
    "    print(i.x)"
   ]
  },
  {
   "cell_type": "markdown",
   "metadata": {
    "ExecuteTime": {
     "end_time": "2019-07-12T10:34:24.743351Z",
     "start_time": "2019-07-12T10:34:24.740370Z"
    },
    "heading_collapsed": true,
    "hidden": true
   },
   "source": [
    "#### RBF kernel regression"
   ]
  },
  {
   "cell_type": "code",
   "execution_count": 30,
   "metadata": {
    "ExecuteTime": {
     "end_time": "2019-08-02T14:06:33.955720Z",
     "start_time": "2019-08-02T14:06:33.934737Z"
    },
    "hidden": true
   },
   "outputs": [],
   "source": [
    "rbf_space  = [\n",
    "    Real(1, 3, 'uniform', name='epsilon'),\n",
    "    Real(0.1, 2, 'uniform', name='C'),\n",
    "    Real(0.01, 0.03,  'uniform', name='gamma'),\n",
    "]"
   ]
  },
  {
   "cell_type": "code",
   "execution_count": 74,
   "metadata": {
    "ExecuteTime": {
     "end_time": "2019-08-02T16:31:27.754690Z",
     "start_time": "2019-08-02T16:31:27.744068Z"
    },
    "hidden": true
   },
   "outputs": [],
   "source": [
    "rbf_gp_model = SVR(kernel='rbf')\n",
    "\n",
    "@use_named_args(rbf_space)\n",
    "def rbf_objective(**params):\n",
    "    rbf_gp_model.set_params(**params)\n",
    "\n",
    "    return -np.mean(\n",
    "        cross_val_score(\n",
    "            rbf_gp_model,\n",
    "#             X,\n",
    "#             X_pca,\n",
    "            X_sel,\n",
    "            y.ravel(),\n",
    "            cv=ps,\n",
    "            n_jobs=1,\n",
    "            scoring=\"neg_mean_squared_error\"))"
   ]
  },
  {
   "cell_type": "code",
   "execution_count": 75,
   "metadata": {
    "ExecuteTime": {
     "end_time": "2019-08-02T16:45:59.875806Z",
     "start_time": "2019-08-02T16:31:28.295807Z"
    },
    "hidden": true
   },
   "outputs": [
    {
     "name": "stdout",
     "output_type": "stream",
     "text": [
      "minimisation iteration 1\n",
      "Iteration No: 1 started. Evaluating function at random point.\n",
      "Iteration No: 1 ended. Evaluation done at random point.\n",
      "Time taken: 3.3163\n",
      "Function value obtained: 10.9608\n",
      "Current minimum: 10.9608\n",
      "Iteration No: 2 started. Evaluating function at random point.\n",
      "Iteration No: 2 ended. Evaluation done at random point.\n",
      "Time taken: 2.0754\n",
      "Function value obtained: 9.9892\n",
      "Current minimum: 9.9892\n",
      "Iteration No: 3 started. Evaluating function at random point.\n",
      "Iteration No: 3 ended. Evaluation done at random point.\n",
      "Time taken: 1.0434\n",
      "Function value obtained: 9.8706\n",
      "Current minimum: 9.8706\n",
      "Iteration No: 4 started. Evaluating function at random point.\n",
      "Iteration No: 4 ended. Evaluation done at random point.\n",
      "Time taken: 1.4452\n",
      "Function value obtained: 10.4028\n",
      "Current minimum: 9.8706\n",
      "Iteration No: 5 started. Evaluating function at random point.\n",
      "Iteration No: 5 ended. Evaluation done at random point.\n",
      "Time taken: 2.9440\n",
      "Function value obtained: 11.1897\n",
      "Current minimum: 9.8706\n",
      "Iteration No: 6 started. Evaluating function at random point.\n",
      "Iteration No: 6 ended. Evaluation done at random point.\n",
      "Time taken: 1.2559\n",
      "Function value obtained: 11.8334\n",
      "Current minimum: 9.8706\n",
      "Iteration No: 7 started. Evaluating function at random point.\n",
      "Iteration No: 7 ended. Evaluation done at random point.\n",
      "Time taken: 0.8490\n",
      "Function value obtained: 11.9647\n",
      "Current minimum: 9.8706\n",
      "Iteration No: 8 started. Evaluating function at random point.\n",
      "Iteration No: 8 ended. Evaluation done at random point.\n",
      "Time taken: 1.3647\n",
      "Function value obtained: 10.1363\n",
      "Current minimum: 9.8706\n",
      "Iteration No: 9 started. Evaluating function at random point.\n",
      "Iteration No: 9 ended. Evaluation done at random point.\n",
      "Time taken: 0.6505\n",
      "Function value obtained: 11.4339\n",
      "Current minimum: 9.8706\n",
      "Iteration No: 10 started. Evaluating function at random point.\n",
      "Iteration No: 10 ended. Evaluation done at random point.\n",
      "Time taken: 2.2910\n",
      "Function value obtained: 10.7128\n",
      "Current minimum: 9.8706\n",
      "Iteration No: 11 started. Searching for the next optimal point.\n",
      "Iteration No: 11 ended. Search finished for the next optimal point.\n",
      "Time taken: 2.4097\n",
      "Function value obtained: 10.0757\n",
      "Current minimum: 9.8706\n",
      "Iteration No: 12 started. Searching for the next optimal point.\n",
      "Iteration No: 12 ended. Search finished for the next optimal point.\n",
      "Time taken: 1.6876\n",
      "Function value obtained: 9.9207\n",
      "Current minimum: 9.8706\n",
      "Iteration No: 13 started. Searching for the next optimal point.\n",
      "Iteration No: 13 ended. Search finished for the next optimal point.\n",
      "Time taken: 3.9178\n",
      "Function value obtained: 9.9678\n",
      "Current minimum: 9.8706\n",
      "Iteration No: 14 started. Searching for the next optimal point.\n",
      "Iteration No: 14 ended. Search finished for the next optimal point.\n",
      "Time taken: 2.0006\n",
      "Function value obtained: 10.4493\n",
      "Current minimum: 9.8706\n",
      "Iteration No: 15 started. Searching for the next optimal point.\n",
      "Iteration No: 15 ended. Search finished for the next optimal point.\n",
      "Time taken: 2.9466\n",
      "Function value obtained: 10.5386\n",
      "Current minimum: 9.8706\n",
      "Iteration No: 16 started. Searching for the next optimal point.\n",
      "Iteration No: 16 ended. Search finished for the next optimal point.\n",
      "Time taken: 2.1555\n",
      "Function value obtained: 10.3640\n",
      "Current minimum: 9.8706\n",
      "Iteration No: 17 started. Searching for the next optimal point.\n",
      "Iteration No: 17 ended. Search finished for the next optimal point.\n",
      "Time taken: 2.1033\n",
      "Function value obtained: 9.9169\n",
      "Current minimum: 9.8706\n",
      "Iteration No: 18 started. Searching for the next optimal point.\n",
      "Iteration No: 18 ended. Search finished for the next optimal point.\n",
      "Time taken: 1.8390\n",
      "Function value obtained: 9.9161\n",
      "Current minimum: 9.8706\n",
      "Iteration No: 19 started. Searching for the next optimal point.\n",
      "Iteration No: 19 ended. Search finished for the next optimal point.\n",
      "Time taken: 1.8942\n",
      "Function value obtained: 9.8252\n",
      "Current minimum: 9.8252\n",
      "Iteration No: 20 started. Searching for the next optimal point.\n",
      "Iteration No: 20 ended. Search finished for the next optimal point.\n",
      "Time taken: 1.8603\n",
      "Function value obtained: 9.7718\n",
      "Current minimum: 9.7718\n",
      "Iteration No: 21 started. Searching for the next optimal point.\n",
      "Iteration No: 21 ended. Search finished for the next optimal point.\n",
      "Time taken: 1.9266\n",
      "Function value obtained: 9.7065\n",
      "Current minimum: 9.7065\n",
      "Iteration No: 22 started. Searching for the next optimal point.\n",
      "Iteration No: 22 ended. Search finished for the next optimal point.\n",
      "Time taken: 2.0312\n",
      "Function value obtained: 9.6672\n",
      "Current minimum: 9.6672\n",
      "Iteration No: 23 started. Searching for the next optimal point.\n",
      "Iteration No: 23 ended. Search finished for the next optimal point.\n",
      "Time taken: 3.2951\n",
      "Function value obtained: 9.7898\n",
      "Current minimum: 9.6672\n",
      "Iteration No: 24 started. Searching for the next optimal point.\n",
      "Iteration No: 24 ended. Search finished for the next optimal point.\n",
      "Time taken: 2.1221\n",
      "Function value obtained: 9.6426\n",
      "Current minimum: 9.6426\n",
      "Iteration No: 25 started. Searching for the next optimal point.\n",
      "Iteration No: 25 ended. Search finished for the next optimal point.\n",
      "Time taken: 5.1147\n",
      "Function value obtained: 9.8408\n",
      "Current minimum: 9.6426\n",
      "Iteration No: 26 started. Searching for the next optimal point.\n",
      "Iteration No: 26 ended. Search finished for the next optimal point.\n",
      "Time taken: 2.2428\n",
      "Function value obtained: 9.6030\n",
      "Current minimum: 9.6030\n",
      "Iteration No: 27 started. Searching for the next optimal point.\n",
      "Iteration No: 27 ended. Search finished for the next optimal point.\n",
      "Time taken: 2.1952\n",
      "Function value obtained: 9.5732\n",
      "Current minimum: 9.5732\n",
      "Iteration No: 28 started. Searching for the next optimal point.\n",
      "Iteration No: 28 ended. Search finished for the next optimal point.\n",
      "Time taken: 4.9873\n",
      "Function value obtained: 11.3013\n",
      "Current minimum: 9.5732\n",
      "Iteration No: 29 started. Searching for the next optimal point.\n",
      "Iteration No: 29 ended. Search finished for the next optimal point.\n",
      "Time taken: 2.5784\n",
      "Function value obtained: 9.5359\n",
      "Current minimum: 9.5359\n",
      "Iteration No: 30 started. Searching for the next optimal point.\n",
      "Iteration No: 30 ended. Search finished for the next optimal point.\n",
      "Time taken: 2.6067\n",
      "Function value obtained: 9.5017\n",
      "Current minimum: 9.5017\n",
      "Iteration No: 31 started. Searching for the next optimal point.\n",
      "Iteration No: 31 ended. Search finished for the next optimal point.\n",
      "Time taken: 2.8973\n",
      "Function value obtained: 9.4879\n",
      "Current minimum: 9.4879\n",
      "Iteration No: 32 started. Searching for the next optimal point.\n",
      "Iteration No: 32 ended. Search finished for the next optimal point.\n",
      "Time taken: 2.4952\n",
      "Function value obtained: 9.4879\n",
      "Current minimum: 9.4879\n",
      "Iteration No: 33 started. Searching for the next optimal point.\n",
      "Iteration No: 33 ended. Search finished for the next optimal point.\n",
      "Time taken: 2.4662\n",
      "Function value obtained: 9.5173\n",
      "Current minimum: 9.4879\n",
      "Iteration No: 34 started. Searching for the next optimal point.\n",
      "Iteration No: 34 ended. Search finished for the next optimal point.\n",
      "Time taken: 2.4082\n",
      "Function value obtained: 9.4870\n",
      "Current minimum: 9.4870\n",
      "Iteration No: 35 started. Searching for the next optimal point.\n",
      "Iteration No: 35 ended. Search finished for the next optimal point.\n",
      "Time taken: 5.6106\n",
      "Function value obtained: 11.0215\n",
      "Current minimum: 9.4870\n",
      "Iteration No: 36 started. Searching for the next optimal point.\n",
      "Iteration No: 36 ended. Search finished for the next optimal point.\n",
      "Time taken: 2.3583\n",
      "Function value obtained: 9.4860\n",
      "Current minimum: 9.4860\n",
      "Iteration No: 37 started. Searching for the next optimal point.\n",
      "Iteration No: 37 ended. Search finished for the next optimal point.\n",
      "Time taken: 2.6737\n",
      "Function value obtained: 9.6019\n",
      "Current minimum: 9.4860\n",
      "Iteration No: 38 started. Searching for the next optimal point.\n",
      "Iteration No: 38 ended. Search finished for the next optimal point.\n",
      "Time taken: 5.2083\n",
      "Function value obtained: 10.3901\n",
      "Current minimum: 9.4860\n",
      "Iteration No: 39 started. Searching for the next optimal point.\n",
      "Iteration No: 39 ended. Search finished for the next optimal point.\n",
      "Time taken: 2.5906\n",
      "Function value obtained: 9.5337\n",
      "Current minimum: 9.4860\n",
      "Iteration No: 40 started. Searching for the next optimal point.\n",
      "Iteration No: 40 ended. Search finished for the next optimal point.\n",
      "Time taken: 2.5463\n",
      "Function value obtained: 9.4886\n",
      "Current minimum: 9.4860\n",
      "Iteration No: 41 started. Searching for the next optimal point.\n"
     ]
    },
    {
     "name": "stdout",
     "output_type": "stream",
     "text": [
      "Iteration No: 41 ended. Search finished for the next optimal point.\n",
      "Time taken: 2.7183\n",
      "Function value obtained: 9.5655\n",
      "Current minimum: 9.4860\n",
      "Iteration No: 42 started. Searching for the next optimal point.\n",
      "Iteration No: 42 ended. Search finished for the next optimal point.\n",
      "Time taken: 2.6084\n",
      "Function value obtained: 9.5021\n",
      "Current minimum: 9.4860\n",
      "Iteration No: 43 started. Searching for the next optimal point.\n",
      "Iteration No: 43 ended. Search finished for the next optimal point.\n",
      "Time taken: 2.5751\n",
      "Function value obtained: 9.6153\n",
      "Current minimum: 9.4860\n",
      "Iteration No: 44 started. Searching for the next optimal point.\n",
      "Iteration No: 44 ended. Search finished for the next optimal point.\n",
      "Time taken: 1.3752\n",
      "Function value obtained: 15.0992\n",
      "Current minimum: 9.4860\n",
      "Iteration No: 45 started. Searching for the next optimal point.\n",
      "Iteration No: 45 ended. Search finished for the next optimal point.\n",
      "Time taken: 2.5187\n",
      "Function value obtained: 9.4974\n",
      "Current minimum: 9.4860\n",
      "Iteration No: 46 started. Searching for the next optimal point.\n",
      "Iteration No: 46 ended. Search finished for the next optimal point.\n",
      "Time taken: 2.6836\n",
      "Function value obtained: 9.4906\n",
      "Current minimum: 9.4860\n",
      "Iteration No: 47 started. Searching for the next optimal point.\n",
      "Iteration No: 47 ended. Search finished for the next optimal point.\n",
      "Time taken: 2.7605\n",
      "Function value obtained: 9.5695\n",
      "Current minimum: 9.4860\n",
      "Iteration No: 48 started. Searching for the next optimal point.\n",
      "Iteration No: 48 ended. Search finished for the next optimal point.\n",
      "Time taken: 3.1215\n",
      "Function value obtained: 9.4933\n",
      "Current minimum: 9.4860\n",
      "Iteration No: 49 started. Searching for the next optimal point.\n",
      "Iteration No: 49 ended. Search finished for the next optimal point.\n",
      "Time taken: 2.6791\n",
      "Function value obtained: 9.4857\n",
      "Current minimum: 9.4857\n",
      "Iteration No: 50 started. Searching for the next optimal point.\n",
      "Iteration No: 50 ended. Search finished for the next optimal point.\n",
      "Time taken: 3.4687\n",
      "Function value obtained: 10.3561\n",
      "Current minimum: 9.4857\n",
      "Iteration No: 51 started. Searching for the next optimal point.\n",
      "Iteration No: 51 ended. Search finished for the next optimal point.\n",
      "Time taken: 2.5986\n",
      "Function value obtained: 9.4958\n",
      "Current minimum: 9.4857\n",
      "Iteration No: 52 started. Searching for the next optimal point.\n",
      "Iteration No: 52 ended. Search finished for the next optimal point.\n",
      "Time taken: 2.5598\n",
      "Function value obtained: 10.3269\n",
      "Current minimum: 9.4857\n",
      "Iteration No: 53 started. Searching for the next optimal point.\n",
      "Iteration No: 53 ended. Search finished for the next optimal point.\n",
      "Time taken: 2.2204\n",
      "Function value obtained: 10.1052\n",
      "Current minimum: 9.4857\n",
      "Iteration No: 54 started. Searching for the next optimal point.\n",
      "Iteration No: 54 ended. Search finished for the next optimal point.\n",
      "Time taken: 3.2579\n",
      "Function value obtained: 9.5426\n",
      "Current minimum: 9.4857\n",
      "Iteration No: 55 started. Searching for the next optimal point.\n",
      "Iteration No: 55 ended. Search finished for the next optimal point.\n",
      "Time taken: 2.7700\n",
      "Function value obtained: 9.5067\n",
      "Current minimum: 9.4857\n",
      "Iteration No: 56 started. Searching for the next optimal point.\n",
      "Iteration No: 56 ended. Search finished for the next optimal point.\n",
      "Time taken: 3.0034\n",
      "Function value obtained: 9.5324\n",
      "Current minimum: 9.4857\n",
      "Iteration No: 57 started. Searching for the next optimal point.\n",
      "Iteration No: 57 ended. Search finished for the next optimal point.\n",
      "Time taken: 2.8269\n",
      "Function value obtained: 9.5519\n",
      "Current minimum: 9.4857\n",
      "Iteration No: 58 started. Searching for the next optimal point.\n",
      "Iteration No: 58 ended. Search finished for the next optimal point.\n",
      "Time taken: 3.3741\n",
      "Function value obtained: 10.0222\n",
      "Current minimum: 9.4857\n",
      "Iteration No: 59 started. Searching for the next optimal point.\n",
      "Iteration No: 59 ended. Search finished for the next optimal point.\n",
      "Time taken: 2.4742\n",
      "Function value obtained: 9.7626\n",
      "Current minimum: 9.4857\n",
      "Iteration No: 60 started. Searching for the next optimal point.\n",
      "Iteration No: 60 ended. Search finished for the next optimal point.\n",
      "Time taken: 2.7914\n",
      "Function value obtained: 9.4858\n",
      "Current minimum: 9.4857\n",
      "Iteration No: 61 started. Searching for the next optimal point.\n",
      "Iteration No: 61 ended. Search finished for the next optimal point.\n",
      "Time taken: 2.9523\n",
      "Function value obtained: 9.6276\n",
      "Current minimum: 9.4857\n",
      "Iteration No: 62 started. Searching for the next optimal point.\n",
      "Iteration No: 62 ended. Search finished for the next optimal point.\n",
      "Time taken: 2.9856\n",
      "Function value obtained: 9.5109\n",
      "Current minimum: 9.4857\n",
      "Iteration No: 63 started. Searching for the next optimal point.\n",
      "Iteration No: 63 ended. Search finished for the next optimal point.\n",
      "Time taken: 3.2275\n",
      "Function value obtained: 9.5698\n",
      "Current minimum: 9.4857\n",
      "Iteration No: 64 started. Searching for the next optimal point.\n",
      "Iteration No: 64 ended. Search finished for the next optimal point.\n",
      "Time taken: 2.9731\n",
      "Function value obtained: 9.5071\n",
      "Current minimum: 9.4857\n",
      "Iteration No: 65 started. Searching for the next optimal point.\n",
      "Iteration No: 65 ended. Search finished for the next optimal point.\n",
      "Time taken: 2.9548\n",
      "Function value obtained: 9.5224\n",
      "Current minimum: 9.4857\n",
      "Iteration No: 66 started. Searching for the next optimal point.\n",
      "Iteration No: 66 ended. Search finished for the next optimal point.\n",
      "Time taken: 2.9208\n",
      "Function value obtained: 9.6122\n",
      "Current minimum: 9.4857\n",
      "Iteration No: 67 started. Searching for the next optimal point.\n",
      "Iteration No: 67 ended. Search finished for the next optimal point.\n",
      "Time taken: 3.7276\n",
      "Function value obtained: 11.3326\n",
      "Current minimum: 9.4857\n",
      "Iteration No: 68 started. Searching for the next optimal point.\n",
      "Iteration No: 68 ended. Search finished for the next optimal point.\n",
      "Time taken: 5.3588\n",
      "Function value obtained: 9.8768\n",
      "Current minimum: 9.4857\n",
      "Iteration No: 69 started. Searching for the next optimal point.\n",
      "Iteration No: 69 ended. Search finished for the next optimal point.\n",
      "Time taken: 2.9647\n",
      "Function value obtained: 9.5113\n",
      "Current minimum: 9.4857\n",
      "Iteration No: 70 started. Searching for the next optimal point.\n",
      "Iteration No: 70 ended. Search finished for the next optimal point.\n",
      "Time taken: 3.5735\n",
      "Function value obtained: 9.8334\n",
      "Current minimum: 9.4857\n",
      "Iteration No: 71 started. Searching for the next optimal point.\n",
      "Iteration No: 71 ended. Search finished for the next optimal point.\n",
      "Time taken: 3.1820\n",
      "Function value obtained: 9.4791\n",
      "Current minimum: 9.4791\n",
      "Iteration No: 72 started. Searching for the next optimal point.\n",
      "Iteration No: 72 ended. Search finished for the next optimal point.\n",
      "Time taken: 3.2623\n",
      "Function value obtained: 9.5076\n",
      "Current minimum: 9.4791\n",
      "Iteration No: 73 started. Searching for the next optimal point.\n",
      "Iteration No: 73 ended. Search finished for the next optimal point.\n",
      "Time taken: 3.2646\n",
      "Function value obtained: 9.5003\n",
      "Current minimum: 9.4791\n",
      "Iteration No: 74 started. Searching for the next optimal point.\n",
      "Iteration No: 74 ended. Search finished for the next optimal point.\n",
      "Time taken: 3.3776\n",
      "Function value obtained: 9.5006\n",
      "Current minimum: 9.4791\n",
      "Iteration No: 75 started. Searching for the next optimal point.\n",
      "Iteration No: 75 ended. Search finished for the next optimal point.\n",
      "Time taken: 3.3295\n",
      "Function value obtained: 9.5009\n",
      "Current minimum: 9.4791\n",
      "Iteration No: 76 started. Searching for the next optimal point.\n",
      "Iteration No: 76 ended. Search finished for the next optimal point.\n",
      "Time taken: 3.4610\n",
      "Function value obtained: 9.5526\n",
      "Current minimum: 9.4791\n",
      "Iteration No: 77 started. Searching for the next optimal point.\n",
      "Iteration No: 77 ended. Search finished for the next optimal point.\n",
      "Time taken: 3.2173\n",
      "Function value obtained: 9.5285\n",
      "Current minimum: 9.4791\n",
      "Iteration No: 78 started. Searching for the next optimal point.\n",
      "Iteration No: 78 ended. Search finished for the next optimal point.\n",
      "Time taken: 4.0991\n",
      "Function value obtained: 9.8055\n",
      "Current minimum: 9.4791\n",
      "Iteration No: 79 started. Searching for the next optimal point.\n",
      "Iteration No: 79 ended. Search finished for the next optimal point.\n",
      "Time taken: 3.1536\n",
      "Function value obtained: 9.4675\n",
      "Current minimum: 9.4675\n",
      "Iteration No: 80 started. Searching for the next optimal point.\n",
      "Iteration No: 80 ended. Search finished for the next optimal point.\n",
      "Time taken: 3.1332\n",
      "Function value obtained: 9.4945\n",
      "Current minimum: 9.4675\n",
      "Iteration No: 81 started. Searching for the next optimal point.\n"
     ]
    },
    {
     "name": "stdout",
     "output_type": "stream",
     "text": [
      "Iteration No: 81 ended. Search finished for the next optimal point.\n",
      "Time taken: 3.6039\n",
      "Function value obtained: 9.7512\n",
      "Current minimum: 9.4675\n",
      "Iteration No: 82 started. Searching for the next optimal point.\n",
      "Iteration No: 82 ended. Search finished for the next optimal point.\n",
      "Time taken: 3.5317\n",
      "Function value obtained: 9.5004\n",
      "Current minimum: 9.4675\n",
      "Iteration No: 83 started. Searching for the next optimal point.\n",
      "Iteration No: 83 ended. Search finished for the next optimal point.\n",
      "Time taken: 5.4575\n",
      "Function value obtained: 10.8199\n",
      "Current minimum: 9.4675\n",
      "Iteration No: 84 started. Searching for the next optimal point.\n",
      "Iteration No: 84 ended. Search finished for the next optimal point.\n",
      "Time taken: 3.3278\n",
      "Function value obtained: 9.5648\n",
      "Current minimum: 9.4675\n",
      "Iteration No: 85 started. Searching for the next optimal point.\n",
      "Iteration No: 85 ended. Search finished for the next optimal point.\n",
      "Time taken: 3.7208\n",
      "Function value obtained: 9.5573\n",
      "Current minimum: 9.4675\n",
      "Iteration No: 86 started. Searching for the next optimal point.\n",
      "Iteration No: 86 ended. Search finished for the next optimal point.\n",
      "Time taken: 3.6035\n",
      "Function value obtained: 9.6373\n",
      "Current minimum: 9.4675\n",
      "Iteration No: 87 started. Searching for the next optimal point.\n",
      "Iteration No: 87 ended. Search finished for the next optimal point.\n",
      "Time taken: 3.5528\n",
      "Function value obtained: 9.5557\n",
      "Current minimum: 9.4675\n",
      "Iteration No: 88 started. Searching for the next optimal point.\n",
      "Iteration No: 88 ended. Search finished for the next optimal point.\n",
      "Time taken: 3.4361\n",
      "Function value obtained: 9.5709\n",
      "Current minimum: 9.4675\n",
      "Iteration No: 89 started. Searching for the next optimal point.\n",
      "Iteration No: 89 ended. Search finished for the next optimal point.\n",
      "Time taken: 3.5070\n",
      "Function value obtained: 9.5064\n",
      "Current minimum: 9.4675\n",
      "Iteration No: 90 started. Searching for the next optimal point.\n",
      "Iteration No: 90 ended. Search finished for the next optimal point.\n",
      "Time taken: 5.8705\n",
      "Function value obtained: 10.4137\n",
      "Current minimum: 9.4675\n",
      "Iteration No: 91 started. Searching for the next optimal point.\n",
      "Iteration No: 91 ended. Search finished for the next optimal point.\n",
      "Time taken: 3.8103\n",
      "Function value obtained: 9.6151\n",
      "Current minimum: 9.4675\n",
      "Iteration No: 92 started. Searching for the next optimal point.\n",
      "Iteration No: 92 ended. Search finished for the next optimal point.\n",
      "Time taken: 3.1691\n",
      "Function value obtained: 15.1597\n",
      "Current minimum: 9.4675\n",
      "Iteration No: 93 started. Searching for the next optimal point.\n",
      "Iteration No: 93 ended. Search finished for the next optimal point.\n",
      "Time taken: 3.8511\n",
      "Function value obtained: 9.5100\n",
      "Current minimum: 9.4675\n",
      "Iteration No: 94 started. Searching for the next optimal point.\n",
      "Iteration No: 94 ended. Search finished for the next optimal point.\n",
      "Time taken: 3.6624\n",
      "Function value obtained: 9.7420\n",
      "Current minimum: 9.4675\n",
      "Iteration No: 95 started. Searching for the next optimal point.\n",
      "Iteration No: 95 ended. Search finished for the next optimal point.\n",
      "Time taken: 3.8162\n",
      "Function value obtained: 9.5542\n",
      "Current minimum: 9.4675\n",
      "Iteration No: 96 started. Searching for the next optimal point.\n",
      "Iteration No: 96 ended. Search finished for the next optimal point.\n",
      "Time taken: 3.7832\n",
      "Function value obtained: 9.4630\n",
      "Current minimum: 9.4630\n",
      "Iteration No: 97 started. Searching for the next optimal point.\n",
      "Iteration No: 97 ended. Search finished for the next optimal point.\n",
      "Time taken: 3.9196\n",
      "Function value obtained: 9.6034\n",
      "Current minimum: 9.4630\n",
      "Iteration No: 98 started. Searching for the next optimal point.\n",
      "Iteration No: 98 ended. Search finished for the next optimal point.\n",
      "Time taken: 3.8875\n",
      "Function value obtained: 9.5586\n",
      "Current minimum: 9.4630\n",
      "Iteration No: 99 started. Searching for the next optimal point.\n",
      "Iteration No: 99 ended. Search finished for the next optimal point.\n",
      "Time taken: 4.7194\n",
      "Function value obtained: 10.4848\n",
      "Current minimum: 9.4630\n",
      "Iteration No: 100 started. Searching for the next optimal point.\n",
      "Iteration No: 100 ended. Search finished for the next optimal point.\n",
      "Time taken: 4.2239\n",
      "Function value obtained: 9.8178\n",
      "Current minimum: 9.4630\n",
      "Iteration No: 101 started. Searching for the next optimal point.\n",
      "Iteration No: 101 ended. Search finished for the next optimal point.\n",
      "Time taken: 3.7890\n",
      "Function value obtained: 9.5087\n",
      "Current minimum: 9.4630\n",
      "Iteration No: 102 started. Searching for the next optimal point.\n",
      "Iteration No: 102 ended. Search finished for the next optimal point.\n",
      "Time taken: 3.9097\n",
      "Function value obtained: 9.4963\n",
      "Current minimum: 9.4630\n",
      "Iteration No: 103 started. Searching for the next optimal point.\n",
      "Iteration No: 103 ended. Search finished for the next optimal point.\n",
      "Time taken: 4.1537\n",
      "Function value obtained: 9.5559\n",
      "Current minimum: 9.4630\n",
      "Iteration No: 104 started. Searching for the next optimal point.\n",
      "Iteration No: 104 ended. Search finished for the next optimal point.\n",
      "Time taken: 5.7784\n",
      "Function value obtained: 10.5811\n",
      "Current minimum: 9.4630\n",
      "Iteration No: 105 started. Searching for the next optimal point.\n",
      "Iteration No: 105 ended. Search finished for the next optimal point.\n",
      "Time taken: 3.8365\n",
      "Function value obtained: 9.5600\n",
      "Current minimum: 9.4630\n",
      "Iteration No: 106 started. Searching for the next optimal point.\n",
      "Iteration No: 106 ended. Search finished for the next optimal point.\n",
      "Time taken: 4.4886\n",
      "Function value obtained: 9.7175\n",
      "Current minimum: 9.4630\n",
      "Iteration No: 107 started. Searching for the next optimal point.\n",
      "Iteration No: 107 ended. Search finished for the next optimal point.\n",
      "Time taken: 5.3900\n",
      "Function value obtained: 11.2641\n",
      "Current minimum: 9.4630\n",
      "Iteration No: 108 started. Searching for the next optimal point.\n",
      "Iteration No: 108 ended. Search finished for the next optimal point.\n",
      "Time taken: 3.9125\n",
      "Function value obtained: 9.5720\n",
      "Current minimum: 9.4630\n",
      "Iteration No: 109 started. Searching for the next optimal point.\n",
      "Iteration No: 109 ended. Search finished for the next optimal point.\n",
      "Time taken: 4.0808\n",
      "Function value obtained: 9.6657\n",
      "Current minimum: 9.4630\n",
      "Iteration No: 110 started. Searching for the next optimal point.\n",
      "Iteration No: 110 ended. Search finished for the next optimal point.\n",
      "Time taken: 4.4205\n",
      "Function value obtained: 9.6239\n",
      "Current minimum: 9.4630\n",
      "Iteration No: 111 started. Searching for the next optimal point.\n",
      "Iteration No: 111 ended. Search finished for the next optimal point.\n",
      "Time taken: 5.6637\n",
      "Function value obtained: 10.9975\n",
      "Current minimum: 9.4630\n",
      "Iteration No: 112 started. Searching for the next optimal point.\n",
      "Iteration No: 112 ended. Search finished for the next optimal point.\n",
      "Time taken: 4.0910\n",
      "Function value obtained: 9.4787\n",
      "Current minimum: 9.4630\n",
      "Iteration No: 113 started. Searching for the next optimal point.\n",
      "Iteration No: 113 ended. Search finished for the next optimal point.\n",
      "Time taken: 7.7448\n",
      "Function value obtained: 11.4194\n",
      "Current minimum: 9.4630\n",
      "Iteration No: 114 started. Searching for the next optimal point.\n",
      "Iteration No: 114 ended. Search finished for the next optimal point.\n",
      "Time taken: 6.9012\n",
      "Function value obtained: 9.9797\n",
      "Current minimum: 9.4630\n",
      "Iteration No: 115 started. Searching for the next optimal point.\n",
      "Iteration No: 115 ended. Search finished for the next optimal point.\n",
      "Time taken: 6.3636\n",
      "Function value obtained: 10.0496\n",
      "Current minimum: 9.4630\n",
      "Iteration No: 116 started. Searching for the next optimal point.\n",
      "Iteration No: 116 ended. Search finished for the next optimal point.\n",
      "Time taken: 5.9251\n",
      "Function value obtained: 11.0078\n",
      "Current minimum: 9.4630\n",
      "Iteration No: 117 started. Searching for the next optimal point.\n",
      "Iteration No: 117 ended. Search finished for the next optimal point.\n",
      "Time taken: 4.5521\n",
      "Function value obtained: 9.5934\n",
      "Current minimum: 9.4630\n",
      "Iteration No: 118 started. Searching for the next optimal point.\n",
      "Iteration No: 118 ended. Search finished for the next optimal point.\n",
      "Time taken: 4.5240\n",
      "Function value obtained: 9.5418\n",
      "Current minimum: 9.4630\n",
      "Iteration No: 119 started. Searching for the next optimal point.\n",
      "Iteration No: 119 ended. Search finished for the next optimal point.\n",
      "Time taken: 4.6705\n",
      "Function value obtained: 9.8936\n",
      "Current minimum: 9.4630\n",
      "Iteration No: 120 started. Searching for the next optimal point.\n",
      "Iteration No: 120 ended. Search finished for the next optimal point.\n",
      "Time taken: 4.6180\n",
      "Function value obtained: 9.5653\n",
      "Current minimum: 9.4630\n",
      "Iteration No: 121 started. Searching for the next optimal point.\n"
     ]
    },
    {
     "name": "stdout",
     "output_type": "stream",
     "text": [
      "Iteration No: 121 ended. Search finished for the next optimal point.\n",
      "Time taken: 6.1998\n",
      "Function value obtained: 9.7891\n",
      "Current minimum: 9.4630\n",
      "Iteration No: 122 started. Searching for the next optimal point.\n",
      "Iteration No: 122 ended. Search finished for the next optimal point.\n",
      "Time taken: 7.4018\n",
      "Function value obtained: 10.3667\n",
      "Current minimum: 9.4630\n",
      "Iteration No: 123 started. Searching for the next optimal point.\n",
      "Iteration No: 123 ended. Search finished for the next optimal point.\n",
      "Time taken: 4.5529\n",
      "Function value obtained: 9.4841\n",
      "Current minimum: 9.4630\n",
      "Iteration No: 124 started. Searching for the next optimal point.\n",
      "Iteration No: 124 ended. Search finished for the next optimal point.\n",
      "Time taken: 4.6946\n",
      "Function value obtained: 9.5234\n",
      "Current minimum: 9.4630\n",
      "Iteration No: 125 started. Searching for the next optimal point.\n",
      "Iteration No: 125 ended. Search finished for the next optimal point.\n",
      "Time taken: 4.7939\n",
      "Function value obtained: 9.4963\n",
      "Current minimum: 9.4630\n",
      "Iteration No: 126 started. Searching for the next optimal point.\n",
      "Iteration No: 126 ended. Search finished for the next optimal point.\n",
      "Time taken: 5.0281\n",
      "Function value obtained: 11.9990\n",
      "Current minimum: 9.4630\n",
      "Iteration No: 127 started. Searching for the next optimal point.\n",
      "Iteration No: 127 ended. Search finished for the next optimal point.\n",
      "Time taken: 4.8312\n",
      "Function value obtained: 9.5441\n",
      "Current minimum: 9.4630\n",
      "Iteration No: 128 started. Searching for the next optimal point.\n",
      "Iteration No: 128 ended. Search finished for the next optimal point.\n",
      "Time taken: 4.7164\n",
      "Function value obtained: 9.5377\n",
      "Current minimum: 9.4630\n",
      "Iteration No: 129 started. Searching for the next optimal point.\n",
      "Iteration No: 129 ended. Search finished for the next optimal point.\n",
      "Time taken: 4.9094\n",
      "Function value obtained: 9.5194\n",
      "Current minimum: 9.4630\n",
      "Iteration No: 130 started. Searching for the next optimal point.\n",
      "Iteration No: 130 ended. Search finished for the next optimal point.\n",
      "Time taken: 4.6290\n",
      "Function value obtained: 10.5783\n",
      "Current minimum: 9.4630\n",
      "Iteration No: 131 started. Searching for the next optimal point.\n",
      "Iteration No: 131 ended. Search finished for the next optimal point.\n",
      "Time taken: 5.3110\n",
      "Function value obtained: 9.5028\n",
      "Current minimum: 9.4630\n",
      "Iteration No: 132 started. Searching for the next optimal point.\n",
      "Iteration No: 132 ended. Search finished for the next optimal point.\n",
      "Time taken: 4.0366\n",
      "Function value obtained: 15.0075\n",
      "Current minimum: 9.4630\n",
      "Iteration No: 133 started. Searching for the next optimal point.\n",
      "Iteration No: 133 ended. Search finished for the next optimal point.\n",
      "Time taken: 4.9645\n",
      "Function value obtained: 9.4692\n",
      "Current minimum: 9.4630\n",
      "Iteration No: 134 started. Searching for the next optimal point.\n",
      "Iteration No: 134 ended. Search finished for the next optimal point.\n",
      "Time taken: 5.2173\n",
      "Function value obtained: 9.4668\n",
      "Current minimum: 9.4630\n",
      "Iteration No: 135 started. Searching for the next optimal point.\n",
      "Iteration No: 135 ended. Search finished for the next optimal point.\n",
      "Time taken: 5.2681\n",
      "Function value obtained: 9.4667\n",
      "Current minimum: 9.4630\n",
      "Iteration No: 136 started. Searching for the next optimal point.\n",
      "Iteration No: 136 ended. Search finished for the next optimal point.\n",
      "Time taken: 5.0155\n",
      "Function value obtained: 9.4661\n",
      "Current minimum: 9.4630\n",
      "Iteration No: 137 started. Searching for the next optimal point.\n",
      "Iteration No: 137 ended. Search finished for the next optimal point.\n",
      "Time taken: 5.0240\n",
      "Function value obtained: 9.4662\n",
      "Current minimum: 9.4630\n",
      "Iteration No: 138 started. Searching for the next optimal point.\n",
      "Iteration No: 138 ended. Search finished for the next optimal point.\n",
      "Time taken: 4.8302\n",
      "Function value obtained: 9.4655\n",
      "Current minimum: 9.4630\n",
      "Iteration No: 139 started. Searching for the next optimal point.\n",
      "Iteration No: 139 ended. Search finished for the next optimal point.\n",
      "Time taken: 5.0765\n",
      "Function value obtained: 9.4671\n",
      "Current minimum: 9.4630\n",
      "Iteration No: 140 started. Searching for the next optimal point.\n",
      "Iteration No: 140 ended. Search finished for the next optimal point.\n",
      "Time taken: 5.0972\n",
      "Function value obtained: 9.4668\n",
      "Current minimum: 9.4630\n",
      "Iteration No: 141 started. Searching for the next optimal point.\n",
      "Iteration No: 141 ended. Search finished for the next optimal point.\n",
      "Time taken: 5.8483\n",
      "Function value obtained: 9.4660\n",
      "Current minimum: 9.4630\n",
      "Iteration No: 142 started. Searching for the next optimal point.\n",
      "Iteration No: 142 ended. Search finished for the next optimal point.\n",
      "Time taken: 5.0855\n",
      "Function value obtained: 9.4658\n",
      "Current minimum: 9.4630\n",
      "Iteration No: 143 started. Searching for the next optimal point.\n",
      "Iteration No: 143 ended. Search finished for the next optimal point.\n",
      "Time taken: 5.3852\n",
      "Function value obtained: 9.4658\n",
      "Current minimum: 9.4630\n",
      "Iteration No: 144 started. Searching for the next optimal point.\n",
      "Iteration No: 144 ended. Search finished for the next optimal point.\n",
      "Time taken: 5.0087\n",
      "Function value obtained: 9.4662\n",
      "Current minimum: 9.4630\n",
      "Iteration No: 145 started. Searching for the next optimal point.\n",
      "Iteration No: 145 ended. Search finished for the next optimal point.\n",
      "Time taken: 5.2287\n",
      "Function value obtained: 9.4659\n",
      "Current minimum: 9.4630\n",
      "Iteration No: 146 started. Searching for the next optimal point.\n",
      "Iteration No: 146 ended. Search finished for the next optimal point.\n",
      "Time taken: 5.1162\n",
      "Function value obtained: 9.4665\n",
      "Current minimum: 9.4630\n",
      "Iteration No: 147 started. Searching for the next optimal point.\n",
      "Iteration No: 147 ended. Search finished for the next optimal point.\n",
      "Time taken: 5.1785\n",
      "Function value obtained: 9.4659\n",
      "Current minimum: 9.4630\n",
      "Iteration No: 148 started. Searching for the next optimal point.\n",
      "Iteration No: 148 ended. Search finished for the next optimal point.\n",
      "Time taken: 5.0805\n",
      "Function value obtained: 9.4661\n",
      "Current minimum: 9.4630\n",
      "Iteration No: 149 started. Searching for the next optimal point.\n",
      "Iteration No: 149 ended. Search finished for the next optimal point.\n",
      "Time taken: 5.4800\n",
      "Function value obtained: 9.4654\n",
      "Current minimum: 9.4630\n",
      "Iteration No: 150 started. Searching for the next optimal point.\n",
      "Iteration No: 150 ended. Search finished for the next optimal point.\n",
      "Time taken: 5.1828\n",
      "Function value obtained: 9.4656\n",
      "Current minimum: 9.4630\n",
      "Iteration No: 151 started. Searching for the next optimal point.\n",
      "Iteration No: 151 ended. Search finished for the next optimal point.\n",
      "Time taken: 5.6393\n",
      "Function value obtained: 9.4654\n",
      "Current minimum: 9.4630\n",
      "Iteration No: 152 started. Searching for the next optimal point.\n",
      "Iteration No: 152 ended. Search finished for the next optimal point.\n",
      "Time taken: 5.3215\n",
      "Function value obtained: 9.4659\n",
      "Current minimum: 9.4630\n",
      "Iteration No: 153 started. Searching for the next optimal point.\n",
      "Iteration No: 153 ended. Search finished for the next optimal point.\n",
      "Time taken: 5.4610\n",
      "Function value obtained: 9.4642\n",
      "Current minimum: 9.4630\n",
      "Iteration No: 154 started. Searching for the next optimal point.\n",
      "Iteration No: 154 ended. Search finished for the next optimal point.\n",
      "Time taken: 5.3821\n",
      "Function value obtained: 9.4661\n",
      "Current minimum: 9.4630\n",
      "Iteration No: 155 started. Searching for the next optimal point.\n",
      "Iteration No: 155 ended. Search finished for the next optimal point.\n",
      "Time taken: 5.5846\n",
      "Function value obtained: 9.4649\n",
      "Current minimum: 9.4630\n",
      "Iteration No: 156 started. Searching for the next optimal point.\n",
      "Iteration No: 156 ended. Search finished for the next optimal point.\n",
      "Time taken: 5.4375\n",
      "Function value obtained: 9.4657\n",
      "Current minimum: 9.4630\n",
      "Iteration No: 157 started. Searching for the next optimal point.\n",
      "Iteration No: 157 ended. Search finished for the next optimal point.\n",
      "Time taken: 5.5168\n",
      "Function value obtained: 9.4641\n",
      "Current minimum: 9.4630\n",
      "Iteration No: 158 started. Searching for the next optimal point.\n",
      "Iteration No: 158 ended. Search finished for the next optimal point.\n",
      "Time taken: 5.5245\n",
      "Function value obtained: 9.4653\n",
      "Current minimum: 9.4630\n",
      "Iteration No: 159 started. Searching for the next optimal point.\n",
      "Iteration No: 159 ended. Search finished for the next optimal point.\n",
      "Time taken: 5.7905\n",
      "Function value obtained: 9.4638\n",
      "Current minimum: 9.4630\n",
      "Iteration No: 160 started. Searching for the next optimal point.\n",
      "Iteration No: 160 ended. Search finished for the next optimal point.\n",
      "Time taken: 5.6801\n",
      "Function value obtained: 9.4648\n",
      "Current minimum: 9.4630\n",
      "Iteration No: 161 started. Searching for the next optimal point.\n"
     ]
    },
    {
     "name": "stdout",
     "output_type": "stream",
     "text": [
      "Iteration No: 161 ended. Search finished for the next optimal point.\n",
      "Time taken: 5.8842\n",
      "Function value obtained: 9.4652\n",
      "Current minimum: 9.4630\n",
      "Iteration No: 162 started. Searching for the next optimal point.\n",
      "Iteration No: 162 ended. Search finished for the next optimal point.\n",
      "Time taken: 5.9676\n",
      "Function value obtained: 9.4653\n",
      "Current minimum: 9.4630\n",
      "Iteration No: 163 started. Searching for the next optimal point.\n",
      "Iteration No: 163 ended. Search finished for the next optimal point.\n",
      "Time taken: 5.8640\n",
      "Function value obtained: 9.4646\n",
      "Current minimum: 9.4630\n",
      "Iteration No: 164 started. Searching for the next optimal point.\n",
      "Iteration No: 164 ended. Search finished for the next optimal point.\n",
      "Time taken: 5.7550\n",
      "Function value obtained: 9.4653\n",
      "Current minimum: 9.4630\n",
      "Iteration No: 165 started. Searching for the next optimal point.\n",
      "Iteration No: 165 ended. Search finished for the next optimal point.\n",
      "Time taken: 5.8605\n",
      "Function value obtained: 9.4644\n",
      "Current minimum: 9.4630\n",
      "Iteration No: 166 started. Searching for the next optimal point.\n",
      "Iteration No: 166 ended. Search finished for the next optimal point.\n",
      "Time taken: 5.8618\n",
      "Function value obtained: 9.4647\n",
      "Current minimum: 9.4630\n",
      "Iteration No: 167 started. Searching for the next optimal point.\n",
      "Iteration No: 167 ended. Search finished for the next optimal point.\n",
      "Time taken: 5.9732\n",
      "Function value obtained: 9.4652\n",
      "Current minimum: 9.4630\n",
      "Iteration No: 168 started. Searching for the next optimal point.\n",
      "Iteration No: 168 ended. Search finished for the next optimal point.\n",
      "Time taken: 5.8974\n",
      "Function value obtained: 9.4640\n",
      "Current minimum: 9.4630\n",
      "Iteration No: 169 started. Searching for the next optimal point.\n",
      "Iteration No: 169 ended. Search finished for the next optimal point.\n",
      "Time taken: 6.0779\n",
      "Function value obtained: 9.4639\n",
      "Current minimum: 9.4630\n",
      "Iteration No: 170 started. Searching for the next optimal point.\n",
      "Iteration No: 170 ended. Search finished for the next optimal point.\n",
      "Time taken: 6.1749\n",
      "Function value obtained: 9.4641\n",
      "Current minimum: 9.4630\n",
      "Iteration No: 171 started. Searching for the next optimal point.\n",
      "Iteration No: 171 ended. Search finished for the next optimal point.\n",
      "Time taken: 6.0679\n",
      "Function value obtained: 9.4646\n",
      "Current minimum: 9.4630\n",
      "Iteration No: 172 started. Searching for the next optimal point.\n",
      "Iteration No: 172 ended. Search finished for the next optimal point.\n",
      "Time taken: 6.0850\n",
      "Function value obtained: 9.4649\n",
      "Current minimum: 9.4630\n",
      "Iteration No: 173 started. Searching for the next optimal point.\n",
      "Iteration No: 173 ended. Search finished for the next optimal point.\n",
      "Time taken: 6.1025\n",
      "Function value obtained: 9.4636\n",
      "Current minimum: 9.4630\n",
      "Iteration No: 174 started. Searching for the next optimal point.\n",
      "Iteration No: 174 ended. Search finished for the next optimal point.\n",
      "Time taken: 6.2089\n",
      "Function value obtained: 9.4651\n",
      "Current minimum: 9.4630\n",
      "Iteration No: 175 started. Searching for the next optimal point.\n",
      "Iteration No: 175 ended. Search finished for the next optimal point.\n",
      "Time taken: 6.4100\n",
      "Function value obtained: 9.4639\n",
      "Current minimum: 9.4630\n",
      "Iteration No: 176 started. Searching for the next optimal point.\n",
      "Iteration No: 176 ended. Search finished for the next optimal point.\n",
      "Time taken: 6.5258\n",
      "Function value obtained: 9.4639\n",
      "Current minimum: 9.4630\n",
      "Iteration No: 177 started. Searching for the next optimal point.\n",
      "Iteration No: 177 ended. Search finished for the next optimal point.\n",
      "Time taken: 6.3602\n",
      "Function value obtained: 9.4636\n",
      "Current minimum: 9.4630\n",
      "Iteration No: 178 started. Searching for the next optimal point.\n",
      "Iteration No: 178 ended. Search finished for the next optimal point.\n",
      "Time taken: 6.2251\n",
      "Function value obtained: 9.4639\n",
      "Current minimum: 9.4630\n",
      "Iteration No: 179 started. Searching for the next optimal point.\n",
      "Iteration No: 179 ended. Search finished for the next optimal point.\n",
      "Time taken: 6.4451\n",
      "Function value obtained: 9.4637\n",
      "Current minimum: 9.4630\n",
      "Iteration No: 180 started. Searching for the next optimal point.\n",
      "Iteration No: 180 ended. Search finished for the next optimal point.\n",
      "Time taken: 6.3367\n",
      "Function value obtained: 9.4637\n",
      "Current minimum: 9.4630\n",
      "Iteration No: 181 started. Searching for the next optimal point.\n",
      "Iteration No: 181 ended. Search finished for the next optimal point.\n",
      "Time taken: 6.5212\n",
      "Function value obtained: 9.4632\n",
      "Current minimum: 9.4630\n",
      "Iteration No: 182 started. Searching for the next optimal point.\n",
      "Iteration No: 182 ended. Search finished for the next optimal point.\n",
      "Time taken: 6.8514\n",
      "Function value obtained: 9.4637\n",
      "Current minimum: 9.4630\n",
      "Iteration No: 183 started. Searching for the next optimal point.\n",
      "Iteration No: 183 ended. Search finished for the next optimal point.\n",
      "Time taken: 6.5511\n",
      "Function value obtained: 9.4640\n",
      "Current minimum: 9.4630\n",
      "Iteration No: 184 started. Searching for the next optimal point.\n",
      "Iteration No: 184 ended. Search finished for the next optimal point.\n",
      "Time taken: 6.5588\n",
      "Function value obtained: 9.4634\n",
      "Current minimum: 9.4630\n",
      "Iteration No: 185 started. Searching for the next optimal point.\n",
      "Iteration No: 185 ended. Search finished for the next optimal point.\n",
      "Time taken: 7.2358\n",
      "Function value obtained: 9.4635\n",
      "Current minimum: 9.4630\n",
      "Iteration No: 186 started. Searching for the next optimal point.\n",
      "Iteration No: 186 ended. Search finished for the next optimal point.\n",
      "Time taken: 6.7271\n",
      "Function value obtained: 9.4631\n",
      "Current minimum: 9.4630\n",
      "Iteration No: 187 started. Searching for the next optimal point.\n",
      "Iteration No: 187 ended. Search finished for the next optimal point.\n",
      "Time taken: 6.8437\n",
      "Function value obtained: 9.4635\n",
      "Current minimum: 9.4630\n",
      "Iteration No: 188 started. Searching for the next optimal point.\n",
      "Iteration No: 188 ended. Search finished for the next optimal point.\n",
      "Time taken: 6.9387\n",
      "Function value obtained: 9.4643\n",
      "Current minimum: 9.4630\n",
      "Iteration No: 189 started. Searching for the next optimal point.\n",
      "Iteration No: 189 ended. Search finished for the next optimal point.\n",
      "Time taken: 6.9416\n",
      "Function value obtained: 9.4637\n",
      "Current minimum: 9.4630\n",
      "Iteration No: 190 started. Searching for the next optimal point.\n",
      "Iteration No: 190 ended. Search finished for the next optimal point.\n",
      "Time taken: 6.9334\n",
      "Function value obtained: 9.4644\n",
      "Current minimum: 9.4630\n",
      "Iteration No: 191 started. Searching for the next optimal point.\n",
      "Iteration No: 191 ended. Search finished for the next optimal point.\n",
      "Time taken: 7.0134\n",
      "Function value obtained: 9.4640\n",
      "Current minimum: 9.4630\n",
      "Iteration No: 192 started. Searching for the next optimal point.\n",
      "Iteration No: 192 ended. Search finished for the next optimal point.\n",
      "Time taken: 6.9014\n",
      "Function value obtained: 9.4644\n",
      "Current minimum: 9.4630\n",
      "Iteration No: 193 started. Searching for the next optimal point.\n",
      "Iteration No: 193 ended. Search finished for the next optimal point.\n",
      "Time taken: 7.1166\n",
      "Function value obtained: 9.4633\n",
      "Current minimum: 9.4630\n",
      "Iteration No: 194 started. Searching for the next optimal point.\n",
      "Iteration No: 194 ended. Search finished for the next optimal point.\n",
      "Time taken: 7.1477\n",
      "Function value obtained: 9.4639\n",
      "Current minimum: 9.4630\n",
      "Iteration No: 195 started. Searching for the next optimal point.\n",
      "Iteration No: 195 ended. Search finished for the next optimal point.\n",
      "Time taken: 7.1852\n",
      "Function value obtained: 9.4635\n",
      "Current minimum: 9.4630\n",
      "Iteration No: 196 started. Searching for the next optimal point.\n",
      "Iteration No: 196 ended. Search finished for the next optimal point.\n",
      "Time taken: 7.4149\n",
      "Function value obtained: 9.4644\n",
      "Current minimum: 9.4630\n",
      "Iteration No: 197 started. Searching for the next optimal point.\n",
      "Iteration No: 197 ended. Search finished for the next optimal point.\n",
      "Time taken: 7.4159\n",
      "Function value obtained: 9.4641\n",
      "Current minimum: 9.4630\n",
      "Iteration No: 198 started. Searching for the next optimal point.\n",
      "Iteration No: 198 ended. Search finished for the next optimal point.\n",
      "Time taken: 7.3502\n",
      "Function value obtained: 9.4642\n",
      "Current minimum: 9.4630\n",
      "Iteration No: 199 started. Searching for the next optimal point.\n",
      "Iteration No: 199 ended. Search finished for the next optimal point.\n",
      "Time taken: 7.8402\n",
      "Function value obtained: 9.4636\n",
      "Current minimum: 9.4630\n",
      "Iteration No: 200 started. Searching for the next optimal point.\n",
      "Iteration No: 200 ended. Search finished for the next optimal point.\n",
      "Time taken: 7.2212\n",
      "Function value obtained: 9.4647\n",
      "Current minimum: 9.4630\n"
     ]
    }
   ],
   "source": [
    "rbf_res_gp_arr = []\n",
    "for i in range(1, 2):\n",
    "    print('minimisation iteration', i)\n",
    "    rbf_res_gp = gp_minimize(rbf_objective, rbf_space, n_calls=200, verbose=2)\n",
    "    rbf_res_gp_arr.append(rbf_res_gp)"
   ]
  },
  {
   "cell_type": "code",
   "execution_count": 76,
   "metadata": {
    "ExecuteTime": {
     "end_time": "2019-08-02T16:45:59.883117Z",
     "start_time": "2019-08-02T16:45:59.878718Z"
    },
    "hidden": true
   },
   "outputs": [
    {
     "name": "stdout",
     "output_type": "stream",
     "text": [
      "9.462986924415606\n",
      "\n",
      "\n",
      "[2.083622187058813, 1.1286669441713073, 0.01650219986973197]\n"
     ]
    }
   ],
   "source": [
    "# Selected PCA (with elements)\n",
    "for i in rbf_res_gp_arr:\n",
    "    print(i.fun)\n",
    "print('\\n')\n",
    "for i in rbf_res_gp_arr:\n",
    "    print(i.x)"
   ]
  },
  {
   "cell_type": "code",
   "execution_count": 44,
   "metadata": {
    "ExecuteTime": {
     "end_time": "2019-08-02T14:49:22.924362Z",
     "start_time": "2019-08-02T14:49:22.919546Z"
    },
    "hidden": true
   },
   "outputs": [
    {
     "name": "stdout",
     "output_type": "stream",
     "text": [
      "9.485421989660821\n",
      "\n",
      "\n",
      "[1.9815766643176866, 2.0252813343301512, 0.00367659358750877]\n"
     ]
    }
   ],
   "source": [
    "# Full PCA (with elements)\n",
    "for i in rbf_res_gp_arr:\n",
    "    print(i.fun)\n",
    "print('\\n')\n",
    "for i in rbf_res_gp_arr:\n",
    "    print(i.x)"
   ]
  },
  {
   "cell_type": "code",
   "execution_count": 33,
   "metadata": {
    "ExecuteTime": {
     "end_time": "2019-08-02T14:09:51.629872Z",
     "start_time": "2019-08-02T14:09:51.625295Z"
    },
    "hidden": true
   },
   "outputs": [
    {
     "name": "stdout",
     "output_type": "stream",
     "text": [
      "9.492622766557847\n",
      "\n",
      "\n",
      "[2.0043406553750764, 2.433059473305185, 0.004186662041573401]\n"
     ]
    }
   ],
   "source": [
    "# Full features (with elements)\n",
    "for i in rbf_res_gp_arr:\n",
    "    print(i.fun)\n",
    "print('\\n')\n",
    "for i in rbf_res_gp_arr:\n",
    "    print(i.x)"
   ]
  },
  {
   "cell_type": "code",
   "execution_count": 64,
   "metadata": {
    "ExecuteTime": {
     "end_time": "2019-08-02T15:46:41.509490Z",
     "start_time": "2019-08-02T15:46:41.505081Z"
    },
    "hidden": true
   },
   "outputs": [
    {
     "name": "stdout",
     "output_type": "stream",
     "text": [
      "9.478263817314705\n",
      "\n",
      "\n",
      "[2.032050918923715, 1.52188440327102, 0.0063867018528761645]\n"
     ]
    }
   ],
   "source": [
    "# Selected features (with elements)\n",
    "for i in rbf_res_gp_arr:\n",
    "    print(i.fun)\n",
    "print('\\n')\n",
    "for i in rbf_res_gp_arr:\n",
    "    print(i.x)"
   ]
  },
  {
   "cell_type": "markdown",
   "metadata": {
    "heading_collapsed": true,
    "hidden": true
   },
   "source": [
    "### Grid search"
   ]
  },
  {
   "cell_type": "markdown",
   "metadata": {
    "ExecuteTime": {
     "end_time": "2019-07-12T10:34:24.743351Z",
     "start_time": "2019-07-12T10:34:24.740370Z"
    },
    "heading_collapsed": true,
    "hidden": true
   },
   "source": [
    "#### Linear kernel regression"
   ]
  },
  {
   "cell_type": "code",
   "execution_count": 103,
   "metadata": {
    "ExecuteTime": {
     "end_time": "2019-08-03T06:16:54.851603Z",
     "start_time": "2019-08-03T06:16:54.844286Z"
    },
    "hidden": true
   },
   "outputs": [],
   "source": [
    "linear_epsilon = [1.92, 1.93, 1.94]\n",
    "linear_C = [0.0116, 0.0117, 0.0118]\n",
    "\n",
    "linear_parameters = {\n",
    "    'C': linear_C,\n",
    "    'epsilon': linear_epsilon\n",
    "}"
   ]
  },
  {
   "cell_type": "code",
   "execution_count": 104,
   "metadata": {
    "ExecuteTime": {
     "end_time": "2019-08-03T06:17:13.657531Z",
     "start_time": "2019-08-03T06:16:55.346585Z"
    },
    "hidden": true
   },
   "outputs": [
    {
     "name": "stdout",
     "output_type": "stream",
     "text": [
      "Fitting 1 folds for each of 9 candidates, totalling 9 fits\n"
     ]
    },
    {
     "name": "stderr",
     "output_type": "stream",
     "text": [
      "[Parallel(n_jobs=1)]: Using backend SequentialBackend with 1 concurrent workers.\n",
      "[Parallel(n_jobs=1)]: Done   9 out of   9 | elapsed:   18.2s finished\n"
     ]
    },
    {
     "data": {
      "text/plain": [
       "GridSearchCV(cv=PredefinedSplit(test_fold=array([-1, -1, ...,  0,  0])),\n",
       "             error_score=100,\n",
       "             estimator=SVR(C=1.0, cache_size=200, coef0=0.0, degree=3,\n",
       "                           epsilon=0.1, gamma='auto_deprecated',\n",
       "                           kernel='linear', max_iter=-1, shrinking=True,\n",
       "                           tol=0.001, verbose=False),\n",
       "             iid='warn', n_jobs=1,\n",
       "             param_grid={'C': [0.0116, 0.0117, 0.0118],\n",
       "                         'epsilon': [1.92, 1.93, 1.94]},\n",
       "             pre_dispatch='2*n_jobs', refit=False, return_train_score=False,\n",
       "             scoring=['neg_mean_absolute_error', 'neg_mean_squared_error'],\n",
       "             verbose=1)"
      ]
     },
     "execution_count": 104,
     "metadata": {},
     "output_type": "execute_result"
    }
   ],
   "source": [
    "gs_model_linear = GridSearchCV(\n",
    "    SVR(kernel='linear'),\n",
    "    linear_parameters,\n",
    "    scoring=['neg_mean_absolute_error', 'neg_mean_squared_error'],\n",
    "    refit=False,\n",
    "    cv=ps,\n",
    "    error_score=100, n_jobs=1, verbose=1)\n",
    "gs_model_linear.fit(X_sel, y.ravel())"
   ]
  },
  {
   "cell_type": "code",
   "execution_count": 105,
   "metadata": {
    "ExecuteTime": {
     "end_time": "2019-08-03T06:17:13.676121Z",
     "start_time": "2019-08-03T06:17:13.660243Z"
    },
    "hidden": true
   },
   "outputs": [
    {
     "data": {
      "text/html": [
       "<div>\n",
       "<style scoped>\n",
       "    .dataframe tbody tr th:only-of-type {\n",
       "        vertical-align: middle;\n",
       "    }\n",
       "\n",
       "    .dataframe tbody tr th {\n",
       "        vertical-align: top;\n",
       "    }\n",
       "\n",
       "    .dataframe thead th {\n",
       "        text-align: right;\n",
       "    }\n",
       "</style>\n",
       "<table border=\"1\" class=\"dataframe\">\n",
       "  <thead>\n",
       "    <tr style=\"text-align: right;\">\n",
       "      <th></th>\n",
       "      <th>param_C</th>\n",
       "      <th>param_epsilon</th>\n",
       "      <th>split0_test_neg_mean_absolute_error</th>\n",
       "      <th>split0_test_neg_mean_squared_error</th>\n",
       "    </tr>\n",
       "  </thead>\n",
       "  <tbody>\n",
       "    <tr>\n",
       "      <th>0</th>\n",
       "      <td>0.0116</td>\n",
       "      <td>1.92</td>\n",
       "      <td>-2.192115</td>\n",
       "      <td>-9.493836</td>\n",
       "    </tr>\n",
       "    <tr>\n",
       "      <th>1</th>\n",
       "      <td>0.0116</td>\n",
       "      <td>1.93</td>\n",
       "      <td>-2.193911</td>\n",
       "      <td>-9.489001</td>\n",
       "    </tr>\n",
       "    <tr>\n",
       "      <th>2</th>\n",
       "      <td>0.0116</td>\n",
       "      <td>1.94</td>\n",
       "      <td>-2.195861</td>\n",
       "      <td>-9.489670</td>\n",
       "    </tr>\n",
       "    <tr>\n",
       "      <th>3</th>\n",
       "      <td>0.0117</td>\n",
       "      <td>1.92</td>\n",
       "      <td>-2.192101</td>\n",
       "      <td>-9.493505</td>\n",
       "    </tr>\n",
       "    <tr>\n",
       "      <th>4</th>\n",
       "      <td>0.0117</td>\n",
       "      <td>1.93</td>\n",
       "      <td>-2.193884</td>\n",
       "      <td>-9.488852</td>\n",
       "    </tr>\n",
       "    <tr>\n",
       "      <th>5</th>\n",
       "      <td>0.0117</td>\n",
       "      <td>1.94</td>\n",
       "      <td>-2.195930</td>\n",
       "      <td>-9.489770</td>\n",
       "    </tr>\n",
       "    <tr>\n",
       "      <th>6</th>\n",
       "      <td>0.0118</td>\n",
       "      <td>1.92</td>\n",
       "      <td>-2.192080</td>\n",
       "      <td>-9.493126</td>\n",
       "    </tr>\n",
       "    <tr>\n",
       "      <th>7</th>\n",
       "      <td>0.0118</td>\n",
       "      <td>1.93</td>\n",
       "      <td>-2.193921</td>\n",
       "      <td>-9.488831</td>\n",
       "    </tr>\n",
       "    <tr>\n",
       "      <th>8</th>\n",
       "      <td>0.0118</td>\n",
       "      <td>1.94</td>\n",
       "      <td>-2.195932</td>\n",
       "      <td>-9.489544</td>\n",
       "    </tr>\n",
       "  </tbody>\n",
       "</table>\n",
       "</div>"
      ],
      "text/plain": [
       "  param_C param_epsilon  split0_test_neg_mean_absolute_error  \\\n",
       "0  0.0116          1.92                            -2.192115   \n",
       "1  0.0116          1.93                            -2.193911   \n",
       "2  0.0116          1.94                            -2.195861   \n",
       "3  0.0117          1.92                            -2.192101   \n",
       "4  0.0117          1.93                            -2.193884   \n",
       "5  0.0117          1.94                            -2.195930   \n",
       "6  0.0118          1.92                            -2.192080   \n",
       "7  0.0118          1.93                            -2.193921   \n",
       "8  0.0118          1.94                            -2.195932   \n",
       "\n",
       "   split0_test_neg_mean_squared_error  \n",
       "0                           -9.493836  \n",
       "1                           -9.489001  \n",
       "2                           -9.489670  \n",
       "3                           -9.493505  \n",
       "4                           -9.488852  \n",
       "5                           -9.489770  \n",
       "6                           -9.493126  \n",
       "7                           -9.488831  \n",
       "8                           -9.489544  "
      ]
     },
     "execution_count": 105,
     "metadata": {},
     "output_type": "execute_result"
    }
   ],
   "source": [
    "gs_model_linear_df = pd.DataFrame(gs_model_linear.cv_results_)[[\n",
    "    'param_C','param_epsilon',\n",
    "    'split0_test_neg_mean_absolute_error',\n",
    "    'split0_test_neg_mean_squared_error'\n",
    "]]\n",
    "\n",
    "gs_model_linear_df"
   ]
  },
  {
   "cell_type": "code",
   "execution_count": 106,
   "metadata": {
    "ExecuteTime": {
     "end_time": "2019-08-03T06:17:13.738413Z",
     "start_time": "2019-08-03T06:17:13.678057Z"
    },
    "hidden": true
   },
   "outputs": [
    {
     "data": {
      "text/html": [
       "<div>\n",
       "<style scoped>\n",
       "    .dataframe tbody tr th:only-of-type {\n",
       "        vertical-align: middle;\n",
       "    }\n",
       "\n",
       "    .dataframe tbody tr th {\n",
       "        vertical-align: top;\n",
       "    }\n",
       "\n",
       "    .dataframe thead th {\n",
       "        text-align: right;\n",
       "    }\n",
       "</style>\n",
       "<table border=\"1\" class=\"dataframe\">\n",
       "  <thead>\n",
       "    <tr style=\"text-align: right;\">\n",
       "      <th></th>\n",
       "      <th>param_C</th>\n",
       "      <th>param_epsilon</th>\n",
       "      <th>split0_test_neg_mean_absolute_error</th>\n",
       "      <th>split0_test_neg_mean_squared_error</th>\n",
       "    </tr>\n",
       "  </thead>\n",
       "  <tbody>\n",
       "    <tr>\n",
       "      <th>7</th>\n",
       "      <td>0.0118</td>\n",
       "      <td>1.93</td>\n",
       "      <td>-2.193921</td>\n",
       "      <td>-9.488831</td>\n",
       "    </tr>\n",
       "  </tbody>\n",
       "</table>\n",
       "</div>"
      ],
      "text/plain": [
       "  param_C param_epsilon  split0_test_neg_mean_absolute_error  \\\n",
       "7  0.0118          1.93                            -2.193921   \n",
       "\n",
       "   split0_test_neg_mean_squared_error  \n",
       "7                           -9.488831  "
      ]
     },
     "execution_count": 106,
     "metadata": {},
     "output_type": "execute_result"
    }
   ],
   "source": [
    "gs_model_linear_df[\n",
    "    gs_model_linear_df['split0_test_neg_mean_squared_error'] == \\\n",
    "    gs_model_linear_df['split0_test_neg_mean_squared_error'].max()]"
   ]
  },
  {
   "cell_type": "markdown",
   "metadata": {
    "ExecuteTime": {
     "end_time": "2019-07-12T10:34:24.743351Z",
     "start_time": "2019-07-12T10:34:24.740370Z"
    },
    "heading_collapsed": true,
    "hidden": true
   },
   "source": [
    "#### RBF kernel regression"
   ]
  },
  {
   "cell_type": "code",
   "execution_count": 107,
   "metadata": {
    "ExecuteTime": {
     "end_time": "2019-08-03T06:20:11.986865Z",
     "start_time": "2019-08-03T06:20:11.976331Z"
    },
    "hidden": true
   },
   "outputs": [],
   "source": [
    "rbf_epsilon = [2.07, 2.08, 2.09]\n",
    "rbf_C = [1.12, 1.13, 1.14]\n",
    "rbf_gamma = [0.0164, 0.0165, 0.0166]\n",
    "\n",
    "rbf_parameters = {\n",
    "    'C': rbf_C,\n",
    "    'epsilon': rbf_epsilon,\n",
    "    'gamma': rbf_gamma\n",
    "}"
   ]
  },
  {
   "cell_type": "code",
   "execution_count": 108,
   "metadata": {
    "ExecuteTime": {
     "end_time": "2019-08-03T06:21:10.170364Z",
     "start_time": "2019-08-03T06:20:13.043304Z"
    },
    "hidden": true
   },
   "outputs": [
    {
     "name": "stdout",
     "output_type": "stream",
     "text": [
      "Fitting 1 folds for each of 27 candidates, totalling 27 fits\n"
     ]
    },
    {
     "name": "stderr",
     "output_type": "stream",
     "text": [
      "[Parallel(n_jobs=1)]: Using backend SequentialBackend with 1 concurrent workers.\n",
      "[Parallel(n_jobs=1)]: Done  27 out of  27 | elapsed:   57.1s finished\n"
     ]
    },
    {
     "data": {
      "text/plain": [
       "GridSearchCV(cv=PredefinedSplit(test_fold=array([-1, -1, ...,  0,  0])),\n",
       "             error_score=100,\n",
       "             estimator=SVR(C=1.0, cache_size=200, coef0=0.0, degree=3,\n",
       "                           epsilon=0.1, gamma='auto_deprecated', kernel='rbf',\n",
       "                           max_iter=-1, shrinking=True, tol=0.001,\n",
       "                           verbose=False),\n",
       "             iid='warn', n_jobs=1,\n",
       "             param_grid={'C': [1.12, 1.13, 1.14], 'epsilon': [2.07, 2.08, 2.09],\n",
       "                         'gamma': [0.0164, 0.0165, 0.0166]},\n",
       "             pre_dispatch='2*n_jobs', refit=False, return_train_score=False,\n",
       "             scoring=['neg_mean_absolute_error', 'neg_mean_squared_error'],\n",
       "             verbose=1)"
      ]
     },
     "execution_count": 108,
     "metadata": {},
     "output_type": "execute_result"
    }
   ],
   "source": [
    "gs_model_rbf = GridSearchCV(\n",
    "    SVR(kernel='rbf'),\n",
    "    rbf_parameters,\n",
    "    scoring=['neg_mean_absolute_error', 'neg_mean_squared_error'],\n",
    "    refit=False,\n",
    "    cv=ps,\n",
    "    error_score=100, n_jobs=1, verbose=1)\n",
    "gs_model_rbf.fit(X_sel, y.ravel())"
   ]
  },
  {
   "cell_type": "code",
   "execution_count": 109,
   "metadata": {
    "ExecuteTime": {
     "end_time": "2019-08-03T06:21:10.214929Z",
     "start_time": "2019-08-03T06:21:10.175370Z"
    },
    "hidden": true
   },
   "outputs": [
    {
     "data": {
      "text/html": [
       "<div>\n",
       "<style scoped>\n",
       "    .dataframe tbody tr th:only-of-type {\n",
       "        vertical-align: middle;\n",
       "    }\n",
       "\n",
       "    .dataframe tbody tr th {\n",
       "        vertical-align: top;\n",
       "    }\n",
       "\n",
       "    .dataframe thead th {\n",
       "        text-align: right;\n",
       "    }\n",
       "</style>\n",
       "<table border=\"1\" class=\"dataframe\">\n",
       "  <thead>\n",
       "    <tr style=\"text-align: right;\">\n",
       "      <th></th>\n",
       "      <th>param_C</th>\n",
       "      <th>param_epsilon</th>\n",
       "      <th>param_gamma</th>\n",
       "      <th>split0_test_neg_mean_absolute_error</th>\n",
       "      <th>split0_test_neg_mean_squared_error</th>\n",
       "    </tr>\n",
       "  </thead>\n",
       "  <tbody>\n",
       "    <tr>\n",
       "      <th>0</th>\n",
       "      <td>1.12</td>\n",
       "      <td>2.07</td>\n",
       "      <td>0.0164</td>\n",
       "      <td>-2.253828</td>\n",
       "      <td>-9.463162</td>\n",
       "    </tr>\n",
       "    <tr>\n",
       "      <th>1</th>\n",
       "      <td>1.12</td>\n",
       "      <td>2.07</td>\n",
       "      <td>0.0165</td>\n",
       "      <td>-2.253945</td>\n",
       "      <td>-9.463113</td>\n",
       "    </tr>\n",
       "    <tr>\n",
       "      <th>2</th>\n",
       "      <td>1.12</td>\n",
       "      <td>2.07</td>\n",
       "      <td>0.0166</td>\n",
       "      <td>-2.254050</td>\n",
       "      <td>-9.463136</td>\n",
       "    </tr>\n",
       "    <tr>\n",
       "      <th>3</th>\n",
       "      <td>1.12</td>\n",
       "      <td>2.08</td>\n",
       "      <td>0.0164</td>\n",
       "      <td>-2.255693</td>\n",
       "      <td>-9.462789</td>\n",
       "    </tr>\n",
       "    <tr>\n",
       "      <th>4</th>\n",
       "      <td>1.12</td>\n",
       "      <td>2.08</td>\n",
       "      <td>0.0165</td>\n",
       "      <td>-2.255843</td>\n",
       "      <td>-9.462950</td>\n",
       "    </tr>\n",
       "    <tr>\n",
       "      <th>5</th>\n",
       "      <td>1.12</td>\n",
       "      <td>2.08</td>\n",
       "      <td>0.0166</td>\n",
       "      <td>-2.255921</td>\n",
       "      <td>-9.463006</td>\n",
       "    </tr>\n",
       "    <tr>\n",
       "      <th>6</th>\n",
       "      <td>1.12</td>\n",
       "      <td>2.09</td>\n",
       "      <td>0.0164</td>\n",
       "      <td>-2.257686</td>\n",
       "      <td>-9.463292</td>\n",
       "    </tr>\n",
       "    <tr>\n",
       "      <th>7</th>\n",
       "      <td>1.12</td>\n",
       "      <td>2.09</td>\n",
       "      <td>0.0165</td>\n",
       "      <td>-2.257853</td>\n",
       "      <td>-9.463480</td>\n",
       "    </tr>\n",
       "    <tr>\n",
       "      <th>8</th>\n",
       "      <td>1.12</td>\n",
       "      <td>2.09</td>\n",
       "      <td>0.0166</td>\n",
       "      <td>-2.257978</td>\n",
       "      <td>-9.463501</td>\n",
       "    </tr>\n",
       "    <tr>\n",
       "      <th>9</th>\n",
       "      <td>1.13</td>\n",
       "      <td>2.07</td>\n",
       "      <td>0.0164</td>\n",
       "      <td>-2.253988</td>\n",
       "      <td>-9.462996</td>\n",
       "    </tr>\n",
       "    <tr>\n",
       "      <th>10</th>\n",
       "      <td>1.13</td>\n",
       "      <td>2.07</td>\n",
       "      <td>0.0165</td>\n",
       "      <td>-2.254105</td>\n",
       "      <td>-9.463043</td>\n",
       "    </tr>\n",
       "    <tr>\n",
       "      <th>11</th>\n",
       "      <td>1.13</td>\n",
       "      <td>2.07</td>\n",
       "      <td>0.0166</td>\n",
       "      <td>-2.254221</td>\n",
       "      <td>-9.463183</td>\n",
       "    </tr>\n",
       "    <tr>\n",
       "      <th>12</th>\n",
       "      <td>1.13</td>\n",
       "      <td>2.08</td>\n",
       "      <td>0.0164</td>\n",
       "      <td>-2.255888</td>\n",
       "      <td>-9.462806</td>\n",
       "    </tr>\n",
       "    <tr>\n",
       "      <th>13</th>\n",
       "      <td>1.13</td>\n",
       "      <td>2.08</td>\n",
       "      <td>0.0165</td>\n",
       "      <td>-2.255975</td>\n",
       "      <td>-9.462842</td>\n",
       "    </tr>\n",
       "    <tr>\n",
       "      <th>14</th>\n",
       "      <td>1.13</td>\n",
       "      <td>2.08</td>\n",
       "      <td>0.0166</td>\n",
       "      <td>-2.256136</td>\n",
       "      <td>-9.463103</td>\n",
       "    </tr>\n",
       "    <tr>\n",
       "      <th>15</th>\n",
       "      <td>1.13</td>\n",
       "      <td>2.09</td>\n",
       "      <td>0.0164</td>\n",
       "      <td>-2.257918</td>\n",
       "      <td>-9.463304</td>\n",
       "    </tr>\n",
       "    <tr>\n",
       "      <th>16</th>\n",
       "      <td>1.13</td>\n",
       "      <td>2.09</td>\n",
       "      <td>0.0165</td>\n",
       "      <td>-2.258066</td>\n",
       "      <td>-9.463384</td>\n",
       "    </tr>\n",
       "    <tr>\n",
       "      <th>17</th>\n",
       "      <td>1.13</td>\n",
       "      <td>2.09</td>\n",
       "      <td>0.0166</td>\n",
       "      <td>-2.258215</td>\n",
       "      <td>-9.463522</td>\n",
       "    </tr>\n",
       "    <tr>\n",
       "      <th>18</th>\n",
       "      <td>1.14</td>\n",
       "      <td>2.07</td>\n",
       "      <td>0.0164</td>\n",
       "      <td>-2.254146</td>\n",
       "      <td>-9.462942</td>\n",
       "    </tr>\n",
       "    <tr>\n",
       "      <th>19</th>\n",
       "      <td>1.14</td>\n",
       "      <td>2.07</td>\n",
       "      <td>0.0165</td>\n",
       "      <td>-2.254281</td>\n",
       "      <td>-9.463100</td>\n",
       "    </tr>\n",
       "    <tr>\n",
       "      <th>20</th>\n",
       "      <td>1.14</td>\n",
       "      <td>2.07</td>\n",
       "      <td>0.0166</td>\n",
       "      <td>-2.254357</td>\n",
       "      <td>-9.463204</td>\n",
       "    </tr>\n",
       "    <tr>\n",
       "      <th>21</th>\n",
       "      <td>1.14</td>\n",
       "      <td>2.08</td>\n",
       "      <td>0.0164</td>\n",
       "      <td>-2.256037</td>\n",
       "      <td>-9.462756</td>\n",
       "    </tr>\n",
       "    <tr>\n",
       "      <th>22</th>\n",
       "      <td>1.14</td>\n",
       "      <td>2.08</td>\n",
       "      <td>0.0165</td>\n",
       "      <td>-2.256196</td>\n",
       "      <td>-9.462964</td>\n",
       "    </tr>\n",
       "    <tr>\n",
       "      <th>23</th>\n",
       "      <td>1.14</td>\n",
       "      <td>2.08</td>\n",
       "      <td>0.0166</td>\n",
       "      <td>-2.256276</td>\n",
       "      <td>-9.463050</td>\n",
       "    </tr>\n",
       "    <tr>\n",
       "      <th>24</th>\n",
       "      <td>1.14</td>\n",
       "      <td>2.09</td>\n",
       "      <td>0.0164</td>\n",
       "      <td>-2.258136</td>\n",
       "      <td>-9.463303</td>\n",
       "    </tr>\n",
       "    <tr>\n",
       "      <th>25</th>\n",
       "      <td>1.14</td>\n",
       "      <td>2.09</td>\n",
       "      <td>0.0165</td>\n",
       "      <td>-2.258301</td>\n",
       "      <td>-9.463407</td>\n",
       "    </tr>\n",
       "    <tr>\n",
       "      <th>26</th>\n",
       "      <td>1.14</td>\n",
       "      <td>2.09</td>\n",
       "      <td>0.0166</td>\n",
       "      <td>-2.258470</td>\n",
       "      <td>-9.463530</td>\n",
       "    </tr>\n",
       "  </tbody>\n",
       "</table>\n",
       "</div>"
      ],
      "text/plain": [
       "   param_C param_epsilon param_gamma  split0_test_neg_mean_absolute_error  \\\n",
       "0     1.12          2.07      0.0164                            -2.253828   \n",
       "1     1.12          2.07      0.0165                            -2.253945   \n",
       "2     1.12          2.07      0.0166                            -2.254050   \n",
       "3     1.12          2.08      0.0164                            -2.255693   \n",
       "4     1.12          2.08      0.0165                            -2.255843   \n",
       "5     1.12          2.08      0.0166                            -2.255921   \n",
       "6     1.12          2.09      0.0164                            -2.257686   \n",
       "7     1.12          2.09      0.0165                            -2.257853   \n",
       "8     1.12          2.09      0.0166                            -2.257978   \n",
       "9     1.13          2.07      0.0164                            -2.253988   \n",
       "10    1.13          2.07      0.0165                            -2.254105   \n",
       "11    1.13          2.07      0.0166                            -2.254221   \n",
       "12    1.13          2.08      0.0164                            -2.255888   \n",
       "13    1.13          2.08      0.0165                            -2.255975   \n",
       "14    1.13          2.08      0.0166                            -2.256136   \n",
       "15    1.13          2.09      0.0164                            -2.257918   \n",
       "16    1.13          2.09      0.0165                            -2.258066   \n",
       "17    1.13          2.09      0.0166                            -2.258215   \n",
       "18    1.14          2.07      0.0164                            -2.254146   \n",
       "19    1.14          2.07      0.0165                            -2.254281   \n",
       "20    1.14          2.07      0.0166                            -2.254357   \n",
       "21    1.14          2.08      0.0164                            -2.256037   \n",
       "22    1.14          2.08      0.0165                            -2.256196   \n",
       "23    1.14          2.08      0.0166                            -2.256276   \n",
       "24    1.14          2.09      0.0164                            -2.258136   \n",
       "25    1.14          2.09      0.0165                            -2.258301   \n",
       "26    1.14          2.09      0.0166                            -2.258470   \n",
       "\n",
       "    split0_test_neg_mean_squared_error  \n",
       "0                            -9.463162  \n",
       "1                            -9.463113  \n",
       "2                            -9.463136  \n",
       "3                            -9.462789  \n",
       "4                            -9.462950  \n",
       "5                            -9.463006  \n",
       "6                            -9.463292  \n",
       "7                            -9.463480  \n",
       "8                            -9.463501  \n",
       "9                            -9.462996  \n",
       "10                           -9.463043  \n",
       "11                           -9.463183  \n",
       "12                           -9.462806  \n",
       "13                           -9.462842  \n",
       "14                           -9.463103  \n",
       "15                           -9.463304  \n",
       "16                           -9.463384  \n",
       "17                           -9.463522  \n",
       "18                           -9.462942  \n",
       "19                           -9.463100  \n",
       "20                           -9.463204  \n",
       "21                           -9.462756  \n",
       "22                           -9.462964  \n",
       "23                           -9.463050  \n",
       "24                           -9.463303  \n",
       "25                           -9.463407  \n",
       "26                           -9.463530  "
      ]
     },
     "execution_count": 109,
     "metadata": {},
     "output_type": "execute_result"
    }
   ],
   "source": [
    "gs_model_rbf_df = pd.DataFrame(gs_model_rbf.cv_results_)[[\n",
    "    'param_C','param_epsilon', 'param_gamma',\n",
    "    'split0_test_neg_mean_absolute_error',\n",
    "    'split0_test_neg_mean_squared_error'\n",
    "]]\n",
    "\n",
    "gs_model_rbf_df"
   ]
  },
  {
   "cell_type": "code",
   "execution_count": 110,
   "metadata": {
    "ExecuteTime": {
     "end_time": "2019-08-03T06:21:10.267813Z",
     "start_time": "2019-08-03T06:21:10.218226Z"
    },
    "hidden": true
   },
   "outputs": [
    {
     "data": {
      "text/html": [
       "<div>\n",
       "<style scoped>\n",
       "    .dataframe tbody tr th:only-of-type {\n",
       "        vertical-align: middle;\n",
       "    }\n",
       "\n",
       "    .dataframe tbody tr th {\n",
       "        vertical-align: top;\n",
       "    }\n",
       "\n",
       "    .dataframe thead th {\n",
       "        text-align: right;\n",
       "    }\n",
       "</style>\n",
       "<table border=\"1\" class=\"dataframe\">\n",
       "  <thead>\n",
       "    <tr style=\"text-align: right;\">\n",
       "      <th></th>\n",
       "      <th>param_C</th>\n",
       "      <th>param_epsilon</th>\n",
       "      <th>param_gamma</th>\n",
       "      <th>split0_test_neg_mean_absolute_error</th>\n",
       "      <th>split0_test_neg_mean_squared_error</th>\n",
       "    </tr>\n",
       "  </thead>\n",
       "  <tbody>\n",
       "    <tr>\n",
       "      <th>21</th>\n",
       "      <td>1.14</td>\n",
       "      <td>2.08</td>\n",
       "      <td>0.0164</td>\n",
       "      <td>-2.256037</td>\n",
       "      <td>-9.462756</td>\n",
       "    </tr>\n",
       "  </tbody>\n",
       "</table>\n",
       "</div>"
      ],
      "text/plain": [
       "   param_C param_epsilon param_gamma  split0_test_neg_mean_absolute_error  \\\n",
       "21    1.14          2.08      0.0164                            -2.256037   \n",
       "\n",
       "    split0_test_neg_mean_squared_error  \n",
       "21                           -9.462756  "
      ]
     },
     "execution_count": 110,
     "metadata": {},
     "output_type": "execute_result"
    }
   ],
   "source": [
    "gs_model_rbf_df[\n",
    "    gs_model_rbf_df['split0_test_neg_mean_squared_error'] == \\\n",
    "    gs_model_rbf_df['split0_test_neg_mean_squared_error'].max()]"
   ]
  },
  {
   "cell_type": "markdown",
   "metadata": {},
   "source": [
    "# Evaluating model"
   ]
  },
  {
   "cell_type": "markdown",
   "metadata": {
    "heading_collapsed": true
   },
   "source": [
    "## Linear kernel"
   ]
  },
  {
   "cell_type": "markdown",
   "metadata": {
    "heading_collapsed": true,
    "hidden": true
   },
   "source": [
    "### PC with feature selection"
   ]
  },
  {
   "cell_type": "code",
   "execution_count": 83,
   "metadata": {
    "ExecuteTime": {
     "end_time": "2019-08-03T06:03:44.084120Z",
     "start_time": "2019-08-03T06:03:42.541912Z"
    },
    "hidden": true
   },
   "outputs": [
    {
     "data": {
      "text/plain": [
       "SVR(C=0.0117, cache_size=200, coef0=0.0, degree=3, epsilon=1.93,\n",
       "    gamma='auto_deprecated', kernel='linear', max_iter=-1, shrinking=True,\n",
       "    tol=0.001, verbose=False)"
      ]
     },
     "execution_count": 83,
     "metadata": {},
     "output_type": "execute_result"
    }
   ],
   "source": [
    "linear_model = SVR(kernel='linear', epsilon=1.93, C=0.0117)\n",
    "linear_model.fit(X_train_sel, y_train.ravel())"
   ]
  },
  {
   "cell_type": "code",
   "execution_count": 84,
   "metadata": {
    "ExecuteTime": {
     "end_time": "2019-08-03T06:03:45.610212Z",
     "start_time": "2019-08-03T06:03:45.169277Z"
    },
    "hidden": true
   },
   "outputs": [
    {
     "data": {
      "text/plain": [
       "(2.1938838252493147, 9.488851816313849, 0.08820844796443605)"
      ]
     },
     "execution_count": 84,
     "metadata": {},
     "output_type": "execute_result"
    }
   ],
   "source": [
    "# get predictions for test set\n",
    "linear_y_pred = linear_model.predict(X_test_sel).flatten()\n",
    "\n",
    "# calculate cross entropy loss for test set\n",
    "linear_test_loss = (\n",
    "    mean_absolute_error(y_test, linear_y_pred),\n",
    "    mean_squared_error(y_test, linear_y_pred),\n",
    "    r2_score(y_test, linear_y_pred)\n",
    ")\n",
    "linear_test_loss"
   ]
  },
  {
   "cell_type": "code",
   "execution_count": 85,
   "metadata": {
    "ExecuteTime": {
     "end_time": "2019-08-03T06:03:56.240687Z",
     "start_time": "2019-08-03T06:03:53.524418Z"
    },
    "hidden": true
   },
   "outputs": [
    {
     "data": {
      "text/plain": [
       "SVR(C=0.0117, cache_size=200, coef0=0.0, degree=3, epsilon=1.93,\n",
       "    gamma='auto_deprecated', kernel='linear', max_iter=-1, shrinking=True,\n",
       "    tol=0.001, verbose=False)"
      ]
     },
     "execution_count": 85,
     "metadata": {},
     "output_type": "execute_result"
    }
   ],
   "source": [
    "# refit linear_model on all data\n",
    "linear_model_full = SVR(kernel='linear', epsilon=1.93, C=0.0117)\n",
    "linear_model_full.fit(X_sel, y.ravel())"
   ]
  },
  {
   "cell_type": "code",
   "execution_count": 86,
   "metadata": {
    "ExecuteTime": {
     "end_time": "2019-08-03T06:04:01.245000Z",
     "start_time": "2019-08-03T06:03:59.027207Z"
    },
    "hidden": true
   },
   "outputs": [
    {
     "data": {
      "text/plain": [
       "(2.123706722743322, 8.523414477043204, 0.10922677648596801)"
      ]
     },
     "execution_count": 86,
     "metadata": {},
     "output_type": "execute_result"
    }
   ],
   "source": [
    "# get predictions for whole set\n",
    "linear_y_pred_full = linear_model_full.predict(X_sel).flatten()\n",
    "\n",
    "# calculate cross entropy loss for test set\n",
    "linear_test_loss_full = (\n",
    "    mean_absolute_error(y, linear_y_pred_full),\n",
    "    mean_squared_error(y, linear_y_pred_full),\n",
    "    r2_score(y, linear_y_pred_full)\n",
    ")\n",
    "linear_test_loss_full"
   ]
  },
  {
   "cell_type": "code",
   "execution_count": 87,
   "metadata": {
    "ExecuteTime": {
     "end_time": "2019-08-03T06:04:03.623812Z",
     "start_time": "2019-08-03T06:04:03.059439Z"
    },
    "hidden": true
   },
   "outputs": [
    {
     "data": {
      "image/png": "[encoded data removed]",
      "text/plain": [
       "<Figure size 720x576 with 1 Axes>"
      ]
     },
     "metadata": {
      "needs_background": "light"
     },
     "output_type": "display_data"
    }
   ],
   "source": [
    "plt.figure(figsize=(10, 8))\n",
    "plt.hist(pd.Series(linear_y_pred), bins=range(-5,20), alpha=0.75, density=True, label='predicted')\n",
    "plt.hist(pd.Series(y_test.ravel()), bins=range(-5,20), alpha=0.75, density=True, label='observed')\n",
    "plt.legend()\n",
    "plt.show()"
   ]
  },
  {
   "cell_type": "code",
   "execution_count": 88,
   "metadata": {
    "ExecuteTime": {
     "end_time": "2019-08-03T06:04:07.176255Z",
     "start_time": "2019-08-03T06:04:06.766988Z"
    },
    "hidden": true
   },
   "outputs": [
    {
     "data": {
      "image/png": "[encoded data removed]",
      "text/plain": [
       "<Figure size 720x576 with 1 Axes>"
      ]
     },
     "metadata": {
      "needs_background": "light"
     },
     "output_type": "display_data"
    }
   ],
   "source": [
    "plt.figure(figsize=(10, 8))\n",
    "plt.scatter(pd.Series(y_test.ravel()), pd.Series(linear_y_pred), alpha=0.1)\n",
    "plt.plot(np.linspace(-5, 25), np.linspace(-5, 25))\n",
    "plt.ylabel('Predicted total points')\n",
    "plt.xlabel('Observed total points')\n",
    "plt.ylim((-3, 12))\n",
    "plt.show()"
   ]
  },
  {
   "cell_type": "markdown",
   "metadata": {
    "heading_collapsed": true,
    "hidden": true
   },
   "source": [
    "### All features"
   ]
  },
  {
   "cell_type": "code",
   "execution_count": 89,
   "metadata": {
    "ExecuteTime": {
     "end_time": "2019-08-03T06:07:16.150906Z",
     "start_time": "2019-08-03T06:07:14.082687Z"
    },
    "hidden": true
   },
   "outputs": [
    {
     "data": {
      "text/plain": [
       "SVR(C=0.0111, cache_size=200, coef0=0.0, degree=3, epsilon=1.95,\n",
       "    gamma='auto_deprecated', kernel='linear', max_iter=-1, shrinking=True,\n",
       "    tol=0.001, verbose=False)"
      ]
     },
     "execution_count": 89,
     "metadata": {},
     "output_type": "execute_result"
    }
   ],
   "source": [
    "linear_model_all = SVR(kernel='linear', epsilon=1.95, C=0.0111)\n",
    "linear_model_all.fit(X_train, y_train.ravel())"
   ]
  },
  {
   "cell_type": "code",
   "execution_count": 90,
   "metadata": {
    "ExecuteTime": {
     "end_time": "2019-08-03T06:07:17.355626Z",
     "start_time": "2019-08-03T06:07:16.787396Z"
    },
    "hidden": true
   },
   "outputs": [
    {
     "data": {
      "text/plain": [
       "(2.2044522880983513, 9.50839872730995, 0.08633016925804982)"
      ]
     },
     "execution_count": 90,
     "metadata": {},
     "output_type": "execute_result"
    }
   ],
   "source": [
    "# get predictions for test set\n",
    "linear_y_pred_all = linear_model_all.predict(X_test).flatten()\n",
    "\n",
    "# calculate cross entropy loss for test set\n",
    "linear_test_loss_all = (\n",
    "    mean_absolute_error(y_test, linear_y_pred_all),\n",
    "    mean_squared_error(y_test, linear_y_pred_all),\n",
    "    r2_score(y_test, linear_y_pred_all)\n",
    ")\n",
    "linear_test_loss_all"
   ]
  },
  {
   "cell_type": "code",
   "execution_count": 91,
   "metadata": {
    "ExecuteTime": {
     "end_time": "2019-08-03T06:07:22.474484Z",
     "start_time": "2019-08-03T06:07:18.917031Z"
    },
    "hidden": true
   },
   "outputs": [
    {
     "data": {
      "text/plain": [
       "SVR(C=0.0111, cache_size=200, coef0=0.0, degree=3, epsilon=1.95,\n",
       "    gamma='auto_deprecated', kernel='linear', max_iter=-1, shrinking=True,\n",
       "    tol=0.001, verbose=False)"
      ]
     },
     "execution_count": 91,
     "metadata": {},
     "output_type": "execute_result"
    }
   ],
   "source": [
    "# refit linear_model on all data\n",
    "linear_model_full_all = SVR(kernel='linear', epsilon=1.95, C=0.0111)\n",
    "linear_model_full_all.fit(X, y.ravel())"
   ]
  },
  {
   "cell_type": "code",
   "execution_count": 92,
   "metadata": {
    "ExecuteTime": {
     "end_time": "2019-08-03T06:07:26.535271Z",
     "start_time": "2019-08-03T06:07:23.272178Z"
    },
    "hidden": true
   },
   "outputs": [
    {
     "data": {
      "text/plain": [
       "(2.1296003985805667, 8.528213349110882, 0.10872525133399169)"
      ]
     },
     "execution_count": 92,
     "metadata": {},
     "output_type": "execute_result"
    }
   ],
   "source": [
    "# get predictions for whole set\n",
    "linear_y_pred_full_all = linear_model_full_all.predict(X).flatten()\n",
    "\n",
    "# calculate cross entropy loss for test set\n",
    "linear_test_loss_full_all = (\n",
    "    mean_absolute_error(y, linear_y_pred_full_all),\n",
    "    mean_squared_error(y, linear_y_pred_full_all),\n",
    "    r2_score(y, linear_y_pred_full_all)\n",
    ")\n",
    "linear_test_loss_full_all"
   ]
  },
  {
   "cell_type": "code",
   "execution_count": 93,
   "metadata": {
    "ExecuteTime": {
     "end_time": "2019-08-03T06:07:26.990607Z",
     "start_time": "2019-08-03T06:07:26.538092Z"
    },
    "hidden": true
   },
   "outputs": [
    {
     "data": {
      "image/png": "[encoded data removed]",
      "text/plain": [
       "<Figure size 720x576 with 1 Axes>"
      ]
     },
     "metadata": {
      "needs_background": "light"
     },
     "output_type": "display_data"
    }
   ],
   "source": [
    "plt.figure(figsize=(10, 8))\n",
    "plt.hist(pd.Series(linear_y_pred_all), bins=range(-5,20), alpha=0.75, density=True, label='predicted')\n",
    "plt.hist(pd.Series(y_test.ravel()), bins=range(-5,20), alpha=0.75, density=True, label='observed')\n",
    "plt.legend()\n",
    "plt.show()"
   ]
  },
  {
   "cell_type": "code",
   "execution_count": 94,
   "metadata": {
    "ExecuteTime": {
     "end_time": "2019-08-03T06:07:27.299626Z",
     "start_time": "2019-08-03T06:07:26.992641Z"
    },
    "hidden": true
   },
   "outputs": [
    {
     "data": {
      "image/png": "[encoded data removed]",
      "text/plain": [
       "<Figure size 720x576 with 1 Axes>"
      ]
     },
     "metadata": {
      "needs_background": "light"
     },
     "output_type": "display_data"
    }
   ],
   "source": [
    "plt.figure(figsize=(10, 8))\n",
    "plt.scatter(pd.Series(y_test.ravel()), pd.Series(linear_y_pred_all), alpha=0.1)\n",
    "plt.plot(np.linspace(-5, 25), np.linspace(-5, 25))\n",
    "plt.ylabel('Predicted total points')\n",
    "plt.xlabel('Observed total points')\n",
    "plt.ylim((-3, 12))\n",
    "plt.show()"
   ]
  },
  {
   "cell_type": "markdown",
   "metadata": {
    "heading_collapsed": true
   },
   "source": [
    "## RBF kernel"
   ]
  },
  {
   "cell_type": "markdown",
   "metadata": {
    "heading_collapsed": true,
    "hidden": true
   },
   "source": [
    "### PC with feature selection"
   ]
  },
  {
   "cell_type": "code",
   "execution_count": 117,
   "metadata": {
    "ExecuteTime": {
     "end_time": "2019-08-03T07:22:02.462168Z",
     "start_time": "2019-08-03T07:22:00.977740Z"
    },
    "hidden": true
   },
   "outputs": [
    {
     "data": {
      "text/plain": [
       "SVR(C=1.14, cache_size=200, coef0=0.0, degree=3, epsilon=2.08, gamma=0.0164,\n",
       "    kernel='rbf', max_iter=-1, shrinking=True, tol=0.001, verbose=False)"
      ]
     },
     "execution_count": 117,
     "metadata": {},
     "output_type": "execute_result"
    }
   ],
   "source": [
    "rbf_model = SVR(kernel='rbf', epsilon=2.08, C=1.14, gamma=0.0164)\n",
    "rbf_model.fit(X_train_sel, y_train.ravel())"
   ]
  },
  {
   "cell_type": "code",
   "execution_count": 118,
   "metadata": {
    "ExecuteTime": {
     "end_time": "2019-08-03T07:22:02.896718Z",
     "start_time": "2019-08-03T07:22:02.467197Z"
    },
    "hidden": true
   },
   "outputs": [
    {
     "data": {
      "text/plain": [
       "(2.2560366447915245, 9.46275615809887, 0.09071600116115863)"
      ]
     },
     "execution_count": 118,
     "metadata": {},
     "output_type": "execute_result"
    }
   ],
   "source": [
    "# get predictions for test set\n",
    "rbf_y_pred = rbf_model.predict(X_test_sel).flatten()\n",
    "\n",
    "# calculate cross entropy loss for test set\n",
    "rbf_test_loss = (\n",
    "    mean_absolute_error(y_test, rbf_y_pred),\n",
    "    mean_squared_error(y_test, rbf_y_pred),\n",
    "    r2_score(y_test, rbf_y_pred)\n",
    ")\n",
    "rbf_test_loss"
   ]
  },
  {
   "cell_type": "code",
   "execution_count": 119,
   "metadata": {
    "ExecuteTime": {
     "end_time": "2019-08-03T07:22:05.234434Z",
     "start_time": "2019-08-03T07:22:02.898752Z"
    },
    "hidden": true
   },
   "outputs": [
    {
     "data": {
      "text/plain": [
       "SVR(C=1.14, cache_size=200, coef0=0.0, degree=3, epsilon=2.08, gamma=0.0164,\n",
       "    kernel='rbf', max_iter=-1, shrinking=True, tol=0.001, verbose=False)"
      ]
     },
     "execution_count": 119,
     "metadata": {},
     "output_type": "execute_result"
    }
   ],
   "source": [
    "# refit rbf_model on all data\n",
    "rbf_model_full = SVR(kernel='rbf', epsilon=2.08, C=1.14, gamma=0.0164)\n",
    "rbf_model_full.fit(X_sel, y.ravel())"
   ]
  },
  {
   "cell_type": "code",
   "execution_count": 120,
   "metadata": {
    "ExecuteTime": {
     "end_time": "2019-08-03T07:22:07.262345Z",
     "start_time": "2019-08-03T07:22:05.237175Z"
    },
    "hidden": true
   },
   "outputs": [
    {
     "data": {
      "text/plain": [
       "(2.129405870788312, 8.048882021517402, 0.15881967217457293)"
      ]
     },
     "execution_count": 120,
     "metadata": {},
     "output_type": "execute_result"
    }
   ],
   "source": [
    "# get predictions for whole set\n",
    "rbf_y_pred_full = rbf_model_full.predict(X_sel).flatten()\n",
    "\n",
    "# calculate cross entropy loss for test set\n",
    "rbf_test_loss_full = (\n",
    "    mean_absolute_error(y, rbf_y_pred_full),\n",
    "    mean_squared_error(y, rbf_y_pred_full),\n",
    "    r2_score(y, rbf_y_pred_full)\n",
    ")\n",
    "rbf_test_loss_full"
   ]
  },
  {
   "cell_type": "code",
   "execution_count": 121,
   "metadata": {
    "ExecuteTime": {
     "end_time": "2019-08-03T07:22:07.767749Z",
     "start_time": "2019-08-03T07:22:07.264685Z"
    },
    "hidden": true
   },
   "outputs": [
    {
     "data": {
      "image/png": "[encoded data removed]",
      "text/plain": [
       "<Figure size 720x576 with 1 Axes>"
      ]
     },
     "metadata": {
      "needs_background": "light"
     },
     "output_type": "display_data"
    }
   ],
   "source": [
    "plt.figure(figsize=(10, 8))\n",
    "plt.hist(pd.Series(rbf_y_pred), bins=range(-5,20), alpha=0.75, density=True, label='predicted')\n",
    "plt.hist(pd.Series(y_test.ravel()), bins=range(-5,20), alpha=0.75, density=True, label='observed')\n",
    "plt.legend()\n",
    "plt.show()"
   ]
  },
  {
   "cell_type": "code",
   "execution_count": 122,
   "metadata": {
    "ExecuteTime": {
     "end_time": "2019-08-03T07:22:08.110864Z",
     "start_time": "2019-08-03T07:22:07.769921Z"
    },
    "hidden": true
   },
   "outputs": [
    {
     "data": {
      "image/png": "[encoded data removed]",
      "text/plain": [
       "<Figure size 720x576 with 1 Axes>"
      ]
     },
     "metadata": {
      "needs_background": "light"
     },
     "output_type": "display_data"
    }
   ],
   "source": [
    "plt.figure(figsize=(10, 8))\n",
    "plt.scatter(pd.Series(y_test.ravel()), pd.Series(rbf_y_pred), alpha=0.1)\n",
    "plt.plot(np.linspace(-5, 25), np.linspace(-5, 25))\n",
    "plt.ylabel('Predicted total points')\n",
    "plt.xlabel('Observed total points')\n",
    "plt.ylim((-3, 12))\n",
    "plt.show()"
   ]
  },
  {
   "cell_type": "markdown",
   "metadata": {
    "heading_collapsed": true,
    "hidden": true
   },
   "source": [
    "### All features"
   ]
  },
  {
   "cell_type": "code",
   "execution_count": 123,
   "metadata": {
    "ExecuteTime": {
     "end_time": "2019-08-03T07:22:56.260553Z",
     "start_time": "2019-08-03T07:22:54.143757Z"
    },
    "hidden": true
   },
   "outputs": [
    {
     "data": {
      "text/plain": [
       "SVR(C=2.43, cache_size=200, coef0=0.0, degree=3, epsilon=2.0, gamma=0.00419,\n",
       "    kernel='rbf', max_iter=-1, shrinking=True, tol=0.001, verbose=False)"
      ]
     },
     "execution_count": 123,
     "metadata": {},
     "output_type": "execute_result"
    }
   ],
   "source": [
    "rbf_model_all = SVR(kernel='rbf', epsilon=2.00, C=2.43, gamma=0.00419)\n",
    "rbf_model_all.fit(X_train, y_train.ravel())"
   ]
  },
  {
   "cell_type": "code",
   "execution_count": 124,
   "metadata": {
    "ExecuteTime": {
     "end_time": "2019-08-03T07:22:56.863537Z",
     "start_time": "2019-08-03T07:22:56.263296Z"
    },
    "hidden": true
   },
   "outputs": [
    {
     "data": {
      "text/plain": [
       "(2.22585136873826, 9.492514876436255, 0.08785646151350768)"
      ]
     },
     "execution_count": 124,
     "metadata": {},
     "output_type": "execute_result"
    }
   ],
   "source": [
    "# get predictions for test set\n",
    "rbf_y_pred_all = rbf_model_all.predict(X_test).flatten()\n",
    "\n",
    "# calculate cross entropy loss for test set\n",
    "rbf_test_loss_all = (\n",
    "    mean_absolute_error(y_test, rbf_y_pred_all),\n",
    "    mean_squared_error(y_test, rbf_y_pred_all),\n",
    "    r2_score(y_test, rbf_y_pred_all)\n",
    ")\n",
    "rbf_test_loss_all"
   ]
  },
  {
   "cell_type": "code",
   "execution_count": 125,
   "metadata": {
    "ExecuteTime": {
     "end_time": "2019-08-03T07:23:06.064858Z",
     "start_time": "2019-08-03T07:23:02.409100Z"
    },
    "hidden": true
   },
   "outputs": [
    {
     "data": {
      "text/plain": [
       "SVR(C=2.43, cache_size=200, coef0=0.0, degree=3, epsilon=2.0, gamma=0.00419,\n",
       "    kernel='rbf', max_iter=-1, shrinking=True, tol=0.001, verbose=False)"
      ]
     },
     "execution_count": 125,
     "metadata": {},
     "output_type": "execute_result"
    }
   ],
   "source": [
    "# refit rbf_model on all data\n",
    "rbf_model_full_all = SVR(kernel='rbf', epsilon=2.00, C=2.43, gamma=0.00419)\n",
    "rbf_model_full_all.fit(X, y.ravel())"
   ]
  },
  {
   "cell_type": "code",
   "execution_count": 126,
   "metadata": {
    "ExecuteTime": {
     "end_time": "2019-08-03T07:23:09.102274Z",
     "start_time": "2019-08-03T07:23:06.067752Z"
    },
    "hidden": true
   },
   "outputs": [
    {
     "data": {
      "text/plain": [
       "(2.1236381183400153, 8.29164477447774, 0.13344878817191697)"
      ]
     },
     "execution_count": 126,
     "metadata": {},
     "output_type": "execute_result"
    }
   ],
   "source": [
    "# get predictions for whole set\n",
    "rbf_y_pred_full_all = rbf_model_full_all.predict(X).flatten()\n",
    "\n",
    "# calculate cross entropy loss for test set\n",
    "rbf_test_loss_full_all = (\n",
    "    mean_absolute_error(y, rbf_y_pred_full_all),\n",
    "    mean_squared_error(y, rbf_y_pred_full_all),\n",
    "    r2_score(y, rbf_y_pred_full_all)\n",
    ")\n",
    "rbf_test_loss_full_all"
   ]
  },
  {
   "cell_type": "code",
   "execution_count": 127,
   "metadata": {
    "ExecuteTime": {
     "end_time": "2019-08-03T07:23:09.648359Z",
     "start_time": "2019-08-03T07:23:09.104658Z"
    },
    "hidden": true
   },
   "outputs": [
    {
     "data": {
      "image/png": "[encoded data removed]",
      "text/plain": [
       "<Figure size 720x576 with 1 Axes>"
      ]
     },
     "metadata": {
      "needs_background": "light"
     },
     "output_type": "display_data"
    }
   ],
   "source": [
    "plt.figure(figsize=(10, 8))\n",
    "plt.hist(pd.Series(rbf_y_pred_all), bins=range(-5,20), alpha=0.75, density=True, label='predicted')\n",
    "plt.hist(pd.Series(y_test.ravel()), bins=range(-5,20), alpha=0.75, density=True, label='observed')\n",
    "plt.legend()\n",
    "plt.show()"
   ]
  },
  {
   "cell_type": "code",
   "execution_count": 128,
   "metadata": {
    "ExecuteTime": {
     "end_time": "2019-08-03T07:23:09.989949Z",
     "start_time": "2019-08-03T07:23:09.651518Z"
    },
    "hidden": true
   },
   "outputs": [
    {
     "data": {
      "image/png": "[encoded data removed]",
      "text/plain": [
       "<Figure size 720x576 with 1 Axes>"
      ]
     },
     "metadata": {
      "needs_background": "light"
     },
     "output_type": "display_data"
    }
   ],
   "source": [
    "plt.figure(figsize=(10, 8))\n",
    "plt.scatter(pd.Series(y_test.ravel()), pd.Series(rbf_y_pred_all), alpha=0.1)\n",
    "plt.plot(np.linspace(-5, 25), np.linspace(-5, 25))\n",
    "plt.ylabel('Predicted total points')\n",
    "plt.xlabel('Observed total points')\n",
    "plt.ylim((-3, 12))\n",
    "plt.show()"
   ]
  },
  {
   "cell_type": "markdown",
   "metadata": {},
   "source": [
    "## Summary"
   ]
  },
  {
   "cell_type": "code",
   "execution_count": 129,
   "metadata": {
    "ExecuteTime": {
     "end_time": "2019-08-03T07:28:35.190788Z",
     "start_time": "2019-08-03T07:28:35.158795Z"
    }
   },
   "outputs": [
    {
     "data": {
      "text/html": [
       "<div>\n",
       "<style scoped>\n",
       "    .dataframe tbody tr th:only-of-type {\n",
       "        vertical-align: middle;\n",
       "    }\n",
       "\n",
       "    .dataframe tbody tr th {\n",
       "        vertical-align: top;\n",
       "    }\n",
       "\n",
       "    .dataframe thead th {\n",
       "        text-align: right;\n",
       "    }\n",
       "</style>\n",
       "<table border=\"1\" class=\"dataframe\">\n",
       "  <thead>\n",
       "    <tr style=\"text-align: right;\">\n",
       "      <th></th>\n",
       "      <th>model</th>\n",
       "      <th>MAE</th>\n",
       "      <th>MSE</th>\n",
       "      <th>r2</th>\n",
       "    </tr>\n",
       "  </thead>\n",
       "  <tbody>\n",
       "    <tr>\n",
       "      <th>0</th>\n",
       "      <td>Linear kernel (selected PC)</td>\n",
       "      <td>2.193884</td>\n",
       "      <td>9.488852</td>\n",
       "      <td>0.088208</td>\n",
       "    </tr>\n",
       "    <tr>\n",
       "      <th>1</th>\n",
       "      <td>Linear kernel (all)</td>\n",
       "      <td>2.204452</td>\n",
       "      <td>9.508399</td>\n",
       "      <td>0.086330</td>\n",
       "    </tr>\n",
       "    <tr>\n",
       "      <th>2</th>\n",
       "      <td>RBF kernel (selected PC)</td>\n",
       "      <td>2.256037</td>\n",
       "      <td>9.462756</td>\n",
       "      <td>0.090716</td>\n",
       "    </tr>\n",
       "    <tr>\n",
       "      <th>3</th>\n",
       "      <td>RBF kernel (all)</td>\n",
       "      <td>2.225851</td>\n",
       "      <td>9.492515</td>\n",
       "      <td>0.087856</td>\n",
       "    </tr>\n",
       "  </tbody>\n",
       "</table>\n",
       "</div>"
      ],
      "text/plain": [
       "                         model       MAE       MSE        r2\n",
       "0  Linear kernel (selected PC)  2.193884  9.488852  0.088208\n",
       "1          Linear kernel (all)  2.204452  9.508399  0.086330\n",
       "2     RBF kernel (selected PC)  2.256037  9.462756  0.090716\n",
       "3             RBF kernel (all)  2.225851  9.492515  0.087856"
      ]
     },
     "execution_count": 129,
     "metadata": {},
     "output_type": "execute_result"
    }
   ],
   "source": [
    "pd.DataFrame([\n",
    "    ('Linear kernel (selected PC)', linear_test_loss[0], linear_test_loss[1], linear_test_loss[2]),\n",
    "    ('Linear kernel (all)', linear_test_loss_all[0], linear_test_loss_all[1], linear_test_loss_all[2]),\n",
    "    ('RBF kernel (selected PC)', rbf_test_loss[0], rbf_test_loss[1], rbf_test_loss[2]),\n",
    "    ('RBF kernel (all)', rbf_test_loss_all[0], rbf_test_loss_all[1], rbf_test_loss_all[2]),\n",
    "], columns=['model', 'MAE', 'MSE', 'r2'])"
   ]
  },
  {
   "cell_type": "code",
   "execution_count": 130,
   "metadata": {
    "ExecuteTime": {
     "end_time": "2019-08-03T07:30:00.658543Z",
     "start_time": "2019-08-03T07:30:00.624985Z"
    }
   },
   "outputs": [
    {
     "data": {
      "text/html": [
       "<div>\n",
       "<style scoped>\n",
       "    .dataframe tbody tr th:only-of-type {\n",
       "        vertical-align: middle;\n",
       "    }\n",
       "\n",
       "    .dataframe tbody tr th {\n",
       "        vertical-align: top;\n",
       "    }\n",
       "\n",
       "    .dataframe thead th {\n",
       "        text-align: right;\n",
       "    }\n",
       "</style>\n",
       "<table border=\"1\" class=\"dataframe\">\n",
       "  <thead>\n",
       "    <tr style=\"text-align: right;\">\n",
       "      <th></th>\n",
       "      <th>model</th>\n",
       "      <th>MAE</th>\n",
       "      <th>MSE</th>\n",
       "      <th>r2</th>\n",
       "    </tr>\n",
       "  </thead>\n",
       "  <tbody>\n",
       "    <tr>\n",
       "      <th>0</th>\n",
       "      <td>Linear kernel (selected PC)</td>\n",
       "      <td>2.123707</td>\n",
       "      <td>8.523414</td>\n",
       "      <td>0.109227</td>\n",
       "    </tr>\n",
       "    <tr>\n",
       "      <th>1</th>\n",
       "      <td>Linear kernel (all)</td>\n",
       "      <td>2.129600</td>\n",
       "      <td>8.528213</td>\n",
       "      <td>0.108725</td>\n",
       "    </tr>\n",
       "    <tr>\n",
       "      <th>2</th>\n",
       "      <td>RBF kernel (selected PC)</td>\n",
       "      <td>2.129406</td>\n",
       "      <td>8.048882</td>\n",
       "      <td>0.158820</td>\n",
       "    </tr>\n",
       "    <tr>\n",
       "      <th>3</th>\n",
       "      <td>RBF kernel (all)</td>\n",
       "      <td>2.123638</td>\n",
       "      <td>8.291645</td>\n",
       "      <td>0.133449</td>\n",
       "    </tr>\n",
       "  </tbody>\n",
       "</table>\n",
       "</div>"
      ],
      "text/plain": [
       "                         model       MAE       MSE        r2\n",
       "0  Linear kernel (selected PC)  2.123707  8.523414  0.109227\n",
       "1          Linear kernel (all)  2.129600  8.528213  0.108725\n",
       "2     RBF kernel (selected PC)  2.129406  8.048882  0.158820\n",
       "3             RBF kernel (all)  2.123638  8.291645  0.133449"
      ]
     },
     "execution_count": 130,
     "metadata": {},
     "output_type": "execute_result"
    }
   ],
   "source": [
    "pd.DataFrame([\n",
    "    ('Linear kernel (selected PC)', linear_test_loss_full[0], linear_test_loss_full[1], linear_test_loss_full[2]),\n",
    "    ('Linear kernel (all)', linear_test_loss_full_all[0], linear_test_loss_full_all[1], linear_test_loss_full_all[2]),\n",
    "    ('RBF kernel (selected PC)', rbf_test_loss_full[0], rbf_test_loss_full[1], rbf_test_loss_full[2]),\n",
    "    ('RBF kernel (all)', rbf_test_loss_full_all[0], rbf_test_loss_full_all[1], rbf_test_loss_full_all[2]),\n",
    "], columns=['model', 'MAE', 'MSE', 'r2'])"
   ]
  },
  {
   "cell_type": "markdown",
   "metadata": {},
   "source": [
    "*Linear kernel*\n",
    " - modest improvement with PCA\n",
    " - modest improvement with RFE\n",
    " - best results for PCA with RFE\n",
    "\n",
    "*RBF kernel*\n",
    " - modest improvement with PCA\n",
    " - modest improvement with RFE\n",
    " - best results for PCA with RFE"
   ]
  }
 ],
 "metadata": {
  "kernelspec": {
   "display_name": "Python 3",
   "language": "python",
   "name": "python3"
  },
  "language_info": {
   "codemirror_mode": {
    "name": "ipython",
    "version": 3
   },
   "file_extension": ".py",
   "mimetype": "text/x-python",
   "name": "python",
   "nbconvert_exporter": "python",
   "pygments_lexer": "ipython3",
   "version": "3.6.7"
  },
  "toc": {
   "nav_menu": {},
   "number_sections": true,
   "sideBar": true,
   "skip_h1_title": false,
   "title_cell": "Table of Contents",
   "title_sidebar": "Contents",
   "toc_cell": false,
   "toc_position": {},
   "toc_section_display": true,
   "toc_window_display": false
  }
 },
 "nbformat": 4,
 "nbformat_minor": 2
}
