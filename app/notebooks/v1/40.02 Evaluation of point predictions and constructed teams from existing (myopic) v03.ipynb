{
 "cells": [
  {
   "cell_type": "markdown",
   "metadata": {
    "heading_collapsed": true
   },
   "source": [
    "# Set up"
   ]
  },
  {
   "cell_type": "code",
   "execution_count": 1,
   "metadata": {
    "ExecuteTime": {
     "end_time": "2019-07-20T05:50:59.324598Z",
     "start_time": "2019-07-20T05:50:59.321211Z"
    },
    "hidden": true
   },
   "outputs": [],
   "source": [
    "# update path with data dir\n",
    "import sys\n",
    "sys.path.append('../../optimiser/')"
   ]
  },
  {
   "cell_type": "code",
   "execution_count": 2,
   "metadata": {
    "ExecuteTime": {
     "end_time": "2019-07-20T05:51:00.571917Z",
     "start_time": "2019-07-20T05:50:59.330618Z"
    },
    "hidden": true
   },
   "outputs": [],
   "source": [
    "import pandas as pd\n",
    "import patsy\n",
    "import numpy as np\n",
    "from sklearn.linear_model import LinearRegression, Ridge, Lasso\n",
    "from sklearn.svm import SVR\n",
    "from sklearn.tree import DecisionTreeRegressor\n",
    "from sklearn.ensemble import RandomForestRegressor, GradientBoostingRegressor\n",
    "from sklearn.preprocessing import StandardScaler\n",
    "from sklearn.model_selection import PredefinedSplit\n",
    "from sklearn.metrics import mean_absolute_error, mean_squared_error, r2_score\n",
    "import matplotlib.pyplot as plt\n",
    "import optimiser"
   ]
  },
  {
   "cell_type": "code",
   "execution_count": 3,
   "metadata": {
    "ExecuteTime": {
     "end_time": "2019-07-20T05:51:00.583421Z",
     "start_time": "2019-07-20T05:51:00.578926Z"
    },
    "hidden": true
   },
   "outputs": [],
   "source": [
    "import warnings\n",
    "# warnings.filterwarnings('ignore')"
   ]
  },
  {
   "cell_type": "markdown",
   "metadata": {
    "heading_collapsed": true
   },
   "source": [
    "# Getting data"
   ]
  },
  {
   "cell_type": "code",
   "execution_count": 4,
   "metadata": {
    "ExecuteTime": {
     "end_time": "2019-07-20T05:51:00.650666Z",
     "start_time": "2019-07-20T05:51:00.586932Z"
    },
    "hidden": true
   },
   "outputs": [],
   "source": [
    "file_name = '../csvs/element_gameweek_features_v04.csv'"
   ]
  },
  {
   "cell_type": "code",
   "execution_count": 5,
   "metadata": {
    "ExecuteTime": {
     "end_time": "2019-07-20T05:51:01.032442Z",
     "start_time": "2019-07-20T05:51:00.654121Z"
    },
    "hidden": true
   },
   "outputs": [],
   "source": [
    "element_gameweek_df = pd.read_csv(file_name)"
   ]
  },
  {
   "cell_type": "code",
   "execution_count": 6,
   "metadata": {
    "ExecuteTime": {
     "end_time": "2019-07-20T05:51:01.047268Z",
     "start_time": "2019-07-20T05:51:01.037045Z"
    },
    "hidden": true
   },
   "outputs": [],
   "source": [
    "element_gameweek_df.fillna(3, inplace=True)"
   ]
  },
  {
   "cell_type": "code",
   "execution_count": 7,
   "metadata": {
    "ExecuteTime": {
     "end_time": "2019-07-20T05:51:01.106921Z",
     "start_time": "2019-07-20T05:51:01.049762Z"
    },
    "hidden": true
   },
   "outputs": [],
   "source": [
    "all_element_gameweek_df = element_gameweek_df.copy()\n",
    "element_gameweek_df = element_gameweek_df[element_gameweek_df['rolling_avg_minutes_element_p3'] >= 60]"
   ]
  },
  {
   "cell_type": "code",
   "execution_count": 8,
   "metadata": {
    "ExecuteTime": {
     "end_time": "2019-07-20T05:51:01.135630Z",
     "start_time": "2019-07-20T05:51:01.110683Z"
    },
    "hidden": true
   },
   "outputs": [],
   "source": [
    "all_element_gameweek_df['predicted_total_points'] = 0"
   ]
  },
  {
   "cell_type": "markdown",
   "metadata": {},
   "source": [
    "# Evaluating models"
   ]
  },
  {
   "cell_type": "markdown",
   "metadata": {
    "heading_collapsed": true
   },
   "source": [
    "## Helpers"
   ]
  },
  {
   "cell_type": "markdown",
   "metadata": {
    "heading_collapsed": true,
    "hidden": true
   },
   "source": [
    "### Modelling"
   ]
  },
  {
   "cell_type": "code",
   "execution_count": 9,
   "metadata": {
    "ExecuteTime": {
     "end_time": "2019-07-20T05:51:01.181510Z",
     "start_time": "2019-07-20T05:51:01.138042Z"
    },
    "hidden": true
   },
   "outputs": [],
   "source": [
    "formula = \\\n",
    "'total_points ~ C(element) + C(element_type) + C(team) + C(opposition_team) + ' + \\\n",
    "' + '.join([i for i in element_gameweek_df.columns if i not in\n",
    " [\n",
    "     'safe_web_name',\n",
    "     'element',\n",
    "     'event',\n",
    "     'fixture',\n",
    "     'team',\n",
    "     'opposition_team',\n",
    "     'element_type',\n",
    "     'rolling_avg_attempted_passes_element',\n",
    "     'rolling_var_total_points_against_opposition_team',\n",
    "     'rolling_var_total_points_own_team',\n",
    "     'rolling_var_total_points_opposition_team',\n",
    "     'rolling_var_total_points_element_type',\n",
    "     'rolling_var_total_points_against_opposition_team_element_type',\n",
    "     'expected_var_total_points_against_opposition_team',\n",
    "     'expected_var_total_points_at_ground',\n",
    "     'rolling_avg_total_points_home',\n",
    "     'rolling_var_total_points_home',\n",
    "     'rolling_avg_total_points_against_opposition_ground_element_type',\n",
    "     'rolling_var_total_points_against_opposition_ground_element_type',\n",
    "     'total_points',\n",
    "     'minutes'\n",
    " ]])"
   ]
  },
  {
   "cell_type": "code",
   "execution_count": 10,
   "metadata": {
    "ExecuteTime": {
     "end_time": "2019-07-20T05:51:01.231789Z",
     "start_time": "2019-07-20T05:51:01.184370Z"
    },
    "hidden": true
   },
   "outputs": [],
   "source": [
    "scaled_feature_cols = [\n",
    "    i for i in element_gameweek_df.columns if i not in [\n",
    "        'safe_web_name', 'element', 'event', 'fixture', 'team',\n",
    "        'opposition_team', 'element_type', 'was_home', 'is_sunday',\n",
    "        'is_weekday', 'is_late', 'is_early', 'total_points'\n",
    "    ]\n",
    "]"
   ]
  },
  {
   "cell_type": "markdown",
   "metadata": {
    "heading_collapsed": true,
    "hidden": true
   },
   "source": [
    "### Predicting points"
   ]
  },
  {
   "cell_type": "code",
   "execution_count": 11,
   "metadata": {
    "ExecuteTime": {
     "end_time": "2019-07-20T05:51:01.278696Z",
     "start_time": "2019-07-20T05:51:01.234412Z"
    },
    "hidden": true
   },
   "outputs": [],
   "source": [
    "def predict_test_set(df, model, features=False, standardise=True, start=21, end=38, verbose=0):\n",
    "    y_pred_arr = []\n",
    "    y_test_arr = []\n",
    "    event_df_test_arr = []\n",
    "\n",
    "    # for each event we want to predict\n",
    "    for e in range(start, end + 1):\n",
    "        if verbose > 0:\n",
    "            print('predicting event', e)\n",
    "        # filter weeks after test week\n",
    "        event_df = df.copy()\n",
    "        event_df = event_df[event_df['event'] <= e]\n",
    "        \n",
    "        # define train-test split\n",
    "        test_fold = [-1 if i <= e - 1 else 0 for i in event_df['event']]\n",
    "        ps = PredefinedSplit(test_fold)\n",
    "\n",
    "        # split df into train and test\n",
    "        for train_index, test_index in ps.split():\n",
    "            event_df_train, event_df_test = \\\n",
    "            event_df.copy().iloc[train_index], event_df.copy().iloc[test_index]\n",
    "        \n",
    "        # standardise appropriate variables if necessary\n",
    "        scaled_event_df = event_df.copy()\n",
    "        if standardise:\n",
    "            scale_train = event_df_train.copy()\n",
    "            scale_test = event_df_test.copy()\n",
    "            scale_df = event_df.copy()\n",
    "            scaled_event_df_train = event_df_train.copy()\n",
    "            scaled_event_df_test = event_df_test.copy()\n",
    "\n",
    "            scaler = StandardScaler().fit(scale_train[scaled_feature_cols].values)\n",
    "\n",
    "            scale_train = scaler.transform(scale_train[scaled_feature_cols].values)\n",
    "            scale_test = scaler.transform(scale_test[scaled_feature_cols].values)\n",
    "            scale_df = scaler.transform(scale_df[scaled_feature_cols].values)\n",
    "\n",
    "            scaled_event_df_train[scaled_feature_cols] = scale_train\n",
    "            scaled_event_df_test[scaled_feature_cols] = scale_test\n",
    "            scaled_event_df[scaled_feature_cols] = scale_df         \n",
    "\n",
    "        # get reponse vector and feature matrix\n",
    "        event_y, event_X = patsy.dmatrices(formula, scaled_event_df, return_type='matrix')\n",
    "        \n",
    "        # split response vector and feature matrix into train and test\n",
    "        for train_index, test_index in ps.split():\n",
    "            event_X_train, event_X_test = event_X[train_index], event_X[test_index]\n",
    "            event_y_train, event_y_test = event_y[train_index], event_y[test_index]\n",
    "        \n",
    "        # get size of total feature set\n",
    "        n_all_features = event_X.shape[1]\n",
    "        \n",
    "        # if only certain features selected, get their indices\n",
    "        if features:\n",
    "            features_index = np.zeros(n_all_features, dtype=bool)\n",
    "\n",
    "            for i in range(0, n_all_features):\n",
    "                j = event_X.design_info.column_names[i]\n",
    "                if j in features:\n",
    "                    features_index[i] = True\n",
    "        # otherwise take all features\n",
    "        else:\n",
    "            features_index = np.ones(n_all_features, dtype=bool)\n",
    "        \n",
    "        # throw away features that are not selected\n",
    "        event_X_train_sel = event_X_train[:,features_index]\n",
    "        event_X_test_sel = event_X_test[:,features_index]\n",
    "\n",
    "        # fit model on training data\n",
    "        model.fit(event_X_train_sel, event_y_train.ravel())\n",
    "        # predict test event\n",
    "        event_y_pred = model.predict(event_X_test_sel).flatten()\n",
    "        \n",
    "        # collect predictions and observations \n",
    "        y_pred_arr.append(event_y_pred)\n",
    "        y_test_arr.append(event_y_test)\n",
    "        \n",
    "        event_df_test['predicted_total_points'] = event_y_pred\n",
    "        event_df_test_arr.append(event_df_test)\n",
    "        \n",
    "    \n",
    "    return np.concatenate(y_pred_arr).ravel(), np.concatenate(y_test_arr).ravel(), pd.concat(event_df_test_arr)"
   ]
  },
  {
   "cell_type": "markdown",
   "metadata": {
    "heading_collapsed": true,
    "hidden": true
   },
   "source": [
    "### Constructing teams"
   ]
  },
  {
   "cell_type": "code",
   "execution_count": 12,
   "metadata": {
    "ExecuteTime": {
     "end_time": "2019-07-20T05:51:01.335822Z",
     "start_time": "2019-07-20T05:51:01.281003Z"
    },
    "hidden": true
   },
   "outputs": [],
   "source": [
    "def construct_event_teams_from_scratch(df,\n",
    "                                       optimise_key='predicted_total_points',\n",
    "                                       start=21,\n",
    "                                       end=38,\n",
    "                                       total_budget=1000,\n",
    "                                       verbose=0):\n",
    "    first_team_arr = []\n",
    "    bench_arr = []\n",
    "    team_total_points_arr = []\n",
    "    predicted_team_total_points_arr = []\n",
    "    team_df_arr = []\n",
    "\n",
    "    for e in range(start, end + 1):\n",
    "        if verbose > 0:\n",
    "            print('predicting event', e)\n",
    "        \n",
    "        event_players = df.copy()\n",
    "        event_players = event_players[event_players['event'] == e]\n",
    "\n",
    "        event_players_group = event_players.groupby('element')[optimise_key].sum()\n",
    "        event_players = event_players[['element', 'value', 'element_type', 'team']].drop_duplicates()\n",
    "\n",
    "        event_players = event_players.join(event_players_group, on='element')\n",
    "        \n",
    "        event_players = event_players.to_dict('records')\n",
    "\n",
    "        try:\n",
    "            event_first_team, event_bench = \\\n",
    "            optimiser.construct_optimal_team_from_scratch(\n",
    "                event_players,\n",
    "                optimise_key=optimise_key,\n",
    "                total_budget=total_budget)\n",
    "\n",
    "            first_team_arr.append(event_first_team)\n",
    "            bench_arr.append(event_bench)\n",
    "        except Exception as ex:\n",
    "            print(e, ex)\n",
    "            continue\n",
    "    \n",
    "        event_team_total_points, event_team_predicted_total_points, event_team_df = \\\n",
    "        optimiser.calculate_team_total_points(df[df['event'] == e], event_first_team, event_bench)\n",
    "\n",
    "        team_total_points_arr.append(event_team_total_points)\n",
    "        predicted_team_total_points_arr.append(event_team_predicted_total_points)\n",
    "        team_df_arr.append(event_team_df)\n",
    "    \n",
    "    return first_team_arr, bench_arr, team_total_points_arr, predicted_team_total_points_arr, team_df_arr"
   ]
  },
  {
   "cell_type": "code",
   "execution_count": 13,
   "metadata": {
    "ExecuteTime": {
     "end_time": "2019-07-20T05:51:01.388455Z",
     "start_time": "2019-07-20T05:51:01.338452Z"
    },
    "hidden": true
   },
   "outputs": [],
   "source": [
    "def construct_event_teams_from_existing(df,\n",
    "                                        optimise_key='predicted_total_points',\n",
    "                                        total_budget=1000,\n",
    "                                        start=21,\n",
    "                                        end=38,\n",
    "                                        transfer_penalty=4,\n",
    "                                        transfer_limit=11,\n",
    "                                        verbose=0):\n",
    "    first_team_arr = []\n",
    "    bench_arr = []\n",
    "    team_total_points_arr = []\n",
    "    predicted_team_total_points_arr = []\n",
    "    team_df_arr = []\n",
    "    transfers_arr = []\n",
    "    carried_over_transfers = 0\n",
    "\n",
    "    for e in range(start, end + 1):\n",
    "        if verbose > 0:\n",
    "            print('predicting event', e)\n",
    "        \n",
    "        event_players = df.copy()\n",
    "        event_players = event_players[event_players['event'] == e]\n",
    "        \n",
    "\n",
    "        present_elements = event_players['element'].drop_duplicates().values\n",
    "        \n",
    "        all_df = all_element_gameweek_df.copy()\n",
    "        all_df = all_df[all_df['event'] == e]\n",
    "        \n",
    "        event_players = pd.concat([event_players, all_df[~all_df['element'].isin(present_elements)]])\n",
    "        event_players_df = event_players.copy()\n",
    "\n",
    "        event_players_group = event_players.groupby('element')[optimise_key].sum()\n",
    "        event_players = event_players[['element', 'value', 'element_type', 'team']].drop_duplicates()\n",
    "\n",
    "        event_players = event_players.join(event_players_group, on='element')\n",
    "        \n",
    "        event_players = event_players.to_dict('records')\n",
    "        \n",
    "        if e == start:\n",
    "            try:\n",
    "                event_first_team, event_bench = \\\n",
    "                optimiser.construct_optimal_team_from_scratch(\n",
    "                    event_players,\n",
    "                    optimise_key=optimise_key,\n",
    "                    total_budget=total_budget\n",
    "                )\n",
    "\n",
    "                first_team_arr.append(event_first_team)\n",
    "                bench_arr.append(event_bench)\n",
    "                transfers_arr.append([])\n",
    "                \n",
    "                event_num_transfers = 1\n",
    "            except Exception as ex:\n",
    "                print(e, ex)\n",
    "                first_team_arr.append([])\n",
    "                bench_arr.append([])\n",
    "                transfers_arr.append([])\n",
    "                \n",
    "                event_num_transfers = 1\n",
    "        else:\n",
    "            try:\n",
    "                event_first_team, event_bench, event_transfers = \\\n",
    "                optimiser.construct_optimal_team_from_existing(\n",
    "                    event_players,\n",
    "                    event_first_team,\n",
    "                    event_bench,\n",
    "                    total_budget=total_budget,\n",
    "                    optimise_key=optimise_key,\n",
    "                    transfer_penalty=transfer_penalty,\n",
    "                    transfer_limit=transfer_limit\n",
    "                )\n",
    "\n",
    "                first_team_arr.append(event_first_team)\n",
    "                bench_arr.append(event_bench)\n",
    "                transfers_arr.append(event_transfers)\n",
    "                \n",
    "                event_num_transfers = len(event_transfers[0])\n",
    "            except Exception as ex:\n",
    "                print(e, ex)\n",
    "                first_team_arr.append([])\n",
    "                bench_arr.append([])\n",
    "                transfers_arr.append([])\n",
    "                \n",
    "                event_num_transfers = 0\n",
    "        \n",
    "        event_num_transfers = max(event_num_transfers - carried_over_transfers, 0)\n",
    "        \n",
    "        event_team_total_points, event_team_predicted_total_points, event_team_df = \\\n",
    "        optimiser.calculate_team_total_points(event_players_df,\n",
    "                                              event_first_team,\n",
    "                                              event_bench,\n",
    "                                              event_num_transfers,\n",
    "                                              carried_over_transfers)\n",
    "        \n",
    "        if event_num_transfers == 0 and carried_over_transfers == 0:\n",
    "            carried_over_transfers = 1\n",
    "        if event_num_transfers in (0, 1) and carried_over_transfers == 1:\n",
    "            carried_over_transfers = 1\n",
    "        if event_num_transfers == 1 and carried_over_transfers == 0:\n",
    "            carried_over_transfers = 0\n",
    "        if event_num_transfers > 1:\n",
    "            carried_over_transfers = 0\n",
    "\n",
    "\n",
    "        team_total_points_arr.append(event_team_total_points)\n",
    "        predicted_team_total_points_arr.append(event_team_predicted_total_points)\n",
    "        team_df_arr.append(event_team_df)\n",
    "    \n",
    "    return (\n",
    "        first_team_arr, bench_arr,\n",
    "        team_total_points_arr,\n",
    "        predicted_team_total_points_arr,\n",
    "        team_df_arr,\n",
    "        transfers_arr\n",
    "    )"
   ]
  },
  {
   "cell_type": "markdown",
   "metadata": {},
   "source": [
    "## Predicting points"
   ]
  },
  {
   "cell_type": "markdown",
   "metadata": {
    "heading_collapsed": true
   },
   "source": [
    "### Linear regression"
   ]
  },
  {
   "cell_type": "code",
   "execution_count": 14,
   "metadata": {
    "ExecuteTime": {
     "end_time": "2019-07-20T05:51:01.452918Z",
     "start_time": "2019-07-20T05:51:01.390752Z"
    },
    "hidden": true
   },
   "outputs": [],
   "source": [
    "lr_model = LinearRegression()"
   ]
  },
  {
   "cell_type": "code",
   "execution_count": 15,
   "metadata": {
    "ExecuteTime": {
     "end_time": "2019-07-20T05:51:01.499949Z",
     "start_time": "2019-07-20T05:51:01.455093Z"
    },
    "hidden": true
   },
   "outputs": [],
   "source": [
    "lr_features = [\n",
    "    'C(element)[T.183]',\n",
    "    'C(element)[T.189]',\n",
    "    'C(element)[T.511]',\n",
    "    'C(element)[T.512]'\n",
    "]"
   ]
  },
  {
   "cell_type": "code",
   "execution_count": 16,
   "metadata": {
    "ExecuteTime": {
     "end_time": "2019-07-20T05:51:10.636428Z",
     "start_time": "2019-07-20T05:51:01.502324Z"
    },
    "hidden": true
   },
   "outputs": [],
   "source": [
    "lr_y_pred, lr_y_test, lr_df_test = predict_test_set(\n",
    "    element_gameweek_df,\n",
    "    lr_model,\n",
    "    features=lr_features,\n",
    "    standardise=True\n",
    ")"
   ]
  },
  {
   "cell_type": "code",
   "execution_count": 17,
   "metadata": {
    "ExecuteTime": {
     "end_time": "2019-07-20T05:51:10.647672Z",
     "start_time": "2019-07-20T05:51:10.639039Z"
    },
    "hidden": true
   },
   "outputs": [
    {
     "data": {
      "text/plain": [
       "(2.3891621767560127, 10.275134773295774, -0.00025733139878769684)"
      ]
     },
     "execution_count": 17,
     "metadata": {},
     "output_type": "execute_result"
    }
   ],
   "source": [
    "lr_test_loss = (\n",
    "    mean_absolute_error(lr_y_test, lr_y_pred),\n",
    "    mean_squared_error(lr_y_test, lr_y_pred),\n",
    "    r2_score(lr_y_test, lr_y_pred)\n",
    ")\n",
    "lr_test_loss"
   ]
  },
  {
   "cell_type": "code",
   "execution_count": 18,
   "metadata": {
    "ExecuteTime": {
     "end_time": "2019-07-20T05:51:11.237965Z",
     "start_time": "2019-07-20T05:51:10.649668Z"
    },
    "hidden": true
   },
   "outputs": [
    {
     "data": {
      "image/png": "[encoded data removed]",
      "text/plain": [
       "<Figure size 720x576 with 1 Axes>"
      ]
     },
     "metadata": {
      "needs_background": "light"
     },
     "output_type": "display_data"
    }
   ],
   "source": [
    "plt.figure(figsize=(10, 8))\n",
    "plt.hist(pd.Series(lr_y_pred), bins=range(-5,20), alpha=0.75, density=True, label='predicted')\n",
    "plt.hist(pd.Series(lr_y_test), bins=range(-5,20), alpha=0.75, density=True, label='observed')\n",
    "plt.legend()\n",
    "plt.show()"
   ]
  },
  {
   "cell_type": "code",
   "execution_count": 19,
   "metadata": {
    "ExecuteTime": {
     "end_time": "2019-07-20T05:51:11.616412Z",
     "start_time": "2019-07-20T05:51:11.245860Z"
    },
    "hidden": true
   },
   "outputs": [
    {
     "data": {
      "image/png": "[encoded data removed]",
      "text/plain": [
       "<Figure size 720x576 with 1 Axes>"
      ]
     },
     "metadata": {
      "needs_background": "light"
     },
     "output_type": "display_data"
    }
   ],
   "source": [
    "plt.figure(figsize=(10, 8))\n",
    "plt.scatter(pd.Series(lr_y_test), pd.Series(lr_y_pred), alpha=0.1)\n",
    "plt.plot(np.linspace(-5, 25), np.linspace(-5, 25))\n",
    "plt.ylabel('Predicted total points')\n",
    "plt.xlabel('Observed total points')\n",
    "plt.ylim((-3, 12))\n",
    "plt.show()"
   ]
  },
  {
   "cell_type": "markdown",
   "metadata": {
    "heading_collapsed": true
   },
   "source": [
    "### Ridge regression (lush)"
   ]
  },
  {
   "cell_type": "code",
   "execution_count": 20,
   "metadata": {
    "ExecuteTime": {
     "end_time": "2019-07-20T05:51:11.626260Z",
     "start_time": "2019-07-20T05:51:11.623054Z"
    },
    "hidden": true
   },
   "outputs": [],
   "source": [
    "lush_ridge_model = Ridge(alpha=270)"
   ]
  },
  {
   "cell_type": "code",
   "execution_count": 21,
   "metadata": {
    "ExecuteTime": {
     "end_time": "2019-07-20T05:51:11.695646Z",
     "start_time": "2019-07-20T05:51:11.629002Z"
    },
    "hidden": true
   },
   "outputs": [],
   "source": [
    "lush_ridge_features = [\n",
    "    'C(element)[T.4]', 'C(element)[T.6]', 'C(element)[T.12]',\n",
    "    'C(element)[T.14]', 'C(element)[T.18]', 'C(element)[T.22]',\n",
    "    'C(element)[T.23]', 'C(element)[T.24]', 'C(element)[T.27]',\n",
    "    'C(element)[T.28]', 'C(element)[T.33]', 'C(element)[T.37]',\n",
    "    'C(element)[T.39]', 'C(element)[T.40]', 'C(element)[T.43]',\n",
    "    'C(element)[T.48]', 'C(element)[T.49]', 'C(element)[T.50]',\n",
    "    'C(element)[T.54]', 'C(element)[T.56]', 'C(element)[T.58]',\n",
    "    'C(element)[T.60]', 'C(element)[T.61]', 'C(element)[T.62]',\n",
    "    'C(element)[T.69]', 'C(element)[T.71]', 'C(element)[T.73]',\n",
    "    'C(element)[T.75]', 'C(element)[T.76]', 'C(element)[T.77]',\n",
    "    'C(element)[T.79]', 'C(element)[T.80]', 'C(element)[T.82]',\n",
    "    'C(element)[T.84]', 'C(element)[T.85]', 'C(element)[T.88]',\n",
    "    'C(element)[T.90]', 'C(element)[T.91]', 'C(element)[T.94]',\n",
    "    'C(element)[T.95]', 'C(element)[T.98]', 'C(element)[T.99]',\n",
    "    'C(element)[T.101]', 'C(element)[T.102]', 'C(element)[T.106]',\n",
    "    'C(element)[T.110]', 'C(element)[T.115]', 'C(element)[T.116]',\n",
    "    'C(element)[T.122]', 'C(element)[T.124]', 'C(element)[T.125]',\n",
    "    'C(element)[T.126]', 'C(element)[T.127]', 'C(element)[T.134]',\n",
    "    'C(element)[T.137]', 'C(element)[T.140]', 'C(element)[T.142]',\n",
    "    'C(element)[T.145]', 'C(element)[T.147]', 'C(element)[T.149]',\n",
    "    'C(element)[T.150]', 'C(element)[T.151]', 'C(element)[T.152]',\n",
    "    'C(element)[T.156]', 'C(element)[T.157]', 'C(element)[T.160]',\n",
    "    'C(element)[T.168]', 'C(element)[T.169]', 'C(element)[T.172]',\n",
    "    'C(element)[T.175]', 'C(element)[T.177]', 'C(element)[T.178]',\n",
    "    'C(element)[T.181]', 'C(element)[T.183]', 'C(element)[T.190]',\n",
    "    'C(element)[T.192]', 'C(element)[T.195]', 'C(element)[T.197]',\n",
    "    'C(element)[T.198]', 'C(element)[T.202]', 'C(element)[T.206]',\n",
    "    'C(element)[T.210]', 'C(element)[T.211]', 'C(element)[T.215]',\n",
    "    'C(element)[T.219]', 'C(element)[T.220]', 'C(element)[T.221]',\n",
    "    'C(element)[T.225]', 'C(element)[T.226]', 'C(element)[T.227]',\n",
    "    'C(element)[T.234]', 'C(element)[T.236]', 'C(element)[T.239]',\n",
    "    'C(element)[T.243]', 'C(element)[T.245]', 'C(element)[T.246]',\n",
    "    'C(element)[T.247]', 'C(element)[T.249]', 'C(element)[T.251]',\n",
    "    'C(element)[T.252]', 'C(element)[T.253]', 'C(element)[T.254]',\n",
    "    'C(element)[T.256]', 'C(element)[T.257]', 'C(element)[T.258]',\n",
    "    'C(element)[T.260]', 'C(element)[T.262]', 'C(element)[T.263]',\n",
    "    'C(element)[T.265]', 'C(element)[T.267]', 'C(element)[T.268]',\n",
    "    'C(element)[T.269]', 'C(element)[T.270]', 'C(element)[T.271]',\n",
    "    'C(element)[T.276]', 'C(element)[T.280]', 'C(element)[T.282]',\n",
    "    'C(element)[T.288]', 'C(element)[T.289]', 'C(element)[T.291]',\n",
    "    'C(element)[T.295]', 'C(element)[T.297]', 'C(element)[T.299]',\n",
    "    'C(element)[T.300]', 'C(element)[T.301]', 'C(element)[T.304]',\n",
    "    'C(element)[T.305]', 'C(element)[T.306]', 'C(element)[T.309]',\n",
    "    'C(element)[T.310]', 'C(element)[T.312]', 'C(element)[T.315]',\n",
    "    'C(element)[T.317]', 'C(element)[T.318]', 'C(element)[T.319]',\n",
    "    'C(element)[T.324]', 'C(element)[T.326]', 'C(element)[T.327]',\n",
    "    'C(element)[T.330]', 'C(element)[T.332]', 'C(element)[T.333]',\n",
    "    'C(element)[T.343]', 'C(element)[T.346]', 'C(element)[T.351]',\n",
    "    'C(element)[T.352]', 'C(element)[T.353]', 'C(element)[T.355]',\n",
    "    'C(element)[T.356]', 'C(element)[T.357]', 'C(element)[T.359]',\n",
    "    'C(element)[T.363]', 'C(element)[T.364]', 'C(element)[T.365]',\n",
    "    'C(element)[T.367]', 'C(element)[T.368]', 'C(element)[T.370]',\n",
    "    'C(element)[T.380]', 'C(element)[T.382]', 'C(element)[T.383]',\n",
    "    'C(element)[T.386]', 'C(element)[T.389]', 'C(element)[T.390]',\n",
    "    'C(element)[T.391]', 'C(element)[T.392]', 'C(element)[T.393]',\n",
    "    'C(element)[T.395]', 'C(element)[T.396]', 'C(element)[T.400]',\n",
    "    'C(element)[T.402]', 'C(element)[T.403]', 'C(element)[T.408]',\n",
    "    'C(element)[T.411]', 'C(element)[T.415]', 'C(element)[T.417]',\n",
    "    'C(element)[T.423]', 'C(element)[T.425]', 'C(element)[T.426]',\n",
    "    'C(element)[T.432]', 'C(element)[T.433]', 'C(element)[T.435]',\n",
    "    'C(element)[T.437]', 'C(element)[T.447]', 'C(element)[T.450]',\n",
    "    'C(element)[T.451]', 'C(element)[T.455]', 'C(element)[T.459]',\n",
    "    'C(element)[T.461]', 'C(element)[T.462]', 'C(element)[T.463]',\n",
    "    'C(element)[T.464]', 'C(element)[T.465]', 'C(element)[T.467]',\n",
    "    'C(element)[T.468]', 'C(element)[T.473]', 'C(element)[T.474]',\n",
    "    'C(element)[T.475]', 'C(element)[T.476]', 'C(element)[T.480]',\n",
    "    'C(element)[T.483]', 'C(element)[T.484]', 'C(element)[T.487]',\n",
    "    'C(element)[T.488]', 'C(element)[T.489]', 'C(element)[T.493]',\n",
    "    'C(element)[T.503]', 'C(element)[T.504]', 'C(element)[T.505]',\n",
    "    'C(element)[T.509]', 'C(element)[T.511]', 'C(element)[T.516]',\n",
    "    'C(element)[T.536]', 'C(element)[T.539]', 'C(element)[T.549]',\n",
    "    'C(element_type)[T.2]', 'C(element_type)[T.3]', 'C(element_type)[T.4]',\n",
    "    'C(team)[T.3]', 'C(team)[T.4]', 'C(team)[T.6]', 'C(team)[T.7]',\n",
    "    'C(team)[T.8]', 'C(team)[T.9]', 'C(team)[T.10]', 'C(team)[T.12]',\n",
    "    'C(team)[T.14]', 'C(team)[T.15]', 'C(team)[T.16]', 'C(team)[T.17]',\n",
    "    'C(team)[T.19]', 'C(team)[T.20]', 'C(opposition_team)[T.2]',\n",
    "    'C(opposition_team)[T.3]', 'C(opposition_team)[T.4]',\n",
    "    'C(opposition_team)[T.5]', 'C(opposition_team)[T.6]',\n",
    "    'C(opposition_team)[T.7]', 'C(opposition_team)[T.9]',\n",
    "    'C(opposition_team)[T.10]', 'C(opposition_team)[T.11]',\n",
    "    'C(opposition_team)[T.12]', 'C(opposition_team)[T.13]',\n",
    "    'C(opposition_team)[T.15]', 'C(opposition_team)[T.16]',\n",
    "    'C(opposition_team)[T.17]', 'C(opposition_team)[T.18]',\n",
    "    'C(opposition_team)[T.19]', 'was_home', 'value', 'is_sunday', 'is_weekday',\n",
    "    'is_late', 'is_early', 'rolling_var_total_points_element',\n",
    "    'rolling_max_total_points_element', 'rolling_avg_minutes_element_p3',\n",
    "    'rolling_avg_goals_scored_element', 'rolling_avg_minutes_element',\n",
    "    'rolling_avg_winning_goals_element',\n",
    "    'rolling_avg_clearances_blocks_interceptions_element',\n",
    "    'rolling_avg_big_chances_created_element', 'rolling_avg_offside_element',\n",
    "    'rolling_avg_big_chances_missed_element',\n",
    "    'rolling_avg_goals_conceded_element', 'rolling_avg_total_points_own_team',\n",
    "    'rolling_avg_total_points_opposition_team',\n",
    "    'rolling_avg_total_points_against_opposition_team'\n",
    "]"
   ]
  },
  {
   "cell_type": "code",
   "execution_count": 22,
   "metadata": {
    "ExecuteTime": {
     "end_time": "2019-07-20T05:51:24.295604Z",
     "start_time": "2019-07-20T05:51:11.697752Z"
    },
    "hidden": true
   },
   "outputs": [],
   "source": [
    "lush_ridge_y_pred, lush_ridge_y_test, lush_ridge_df_test = predict_test_set(\n",
    "    element_gameweek_df,\n",
    "    lush_ridge_model,\n",
    "    features=lush_ridge_features,\n",
    "    standardise=True\n",
    ")"
   ]
  },
  {
   "cell_type": "code",
   "execution_count": 23,
   "metadata": {
    "ExecuteTime": {
     "end_time": "2019-07-20T05:51:24.304401Z",
     "start_time": "2019-07-20T05:51:24.298029Z"
    },
    "hidden": true
   },
   "outputs": [
    {
     "data": {
      "text/plain": [
       "(2.259268449409939, 9.308153996546018, 0.09387570263005907)"
      ]
     },
     "execution_count": 23,
     "metadata": {},
     "output_type": "execute_result"
    }
   ],
   "source": [
    "lush_ridge_test_loss = (\n",
    "    mean_absolute_error(lush_ridge_y_test, lush_ridge_y_pred),\n",
    "    mean_squared_error(lush_ridge_y_test, lush_ridge_y_pred),\n",
    "    r2_score(lush_ridge_y_test, lush_ridge_y_pred)\n",
    ")\n",
    "lush_ridge_test_loss"
   ]
  },
  {
   "cell_type": "code",
   "execution_count": 24,
   "metadata": {
    "ExecuteTime": {
     "end_time": "2019-07-20T05:51:24.869096Z",
     "start_time": "2019-07-20T05:51:24.306529Z"
    },
    "hidden": true
   },
   "outputs": [
    {
     "data": {
      "image/png": "[encoded data removed]",
      "text/plain": [
       "<Figure size 720x576 with 1 Axes>"
      ]
     },
     "metadata": {
      "needs_background": "light"
     },
     "output_type": "display_data"
    }
   ],
   "source": [
    "plt.figure(figsize=(10, 8))\n",
    "plt.hist(pd.Series(lush_ridge_y_pred), bins=range(-5,20), alpha=0.75, density=True, label='predicted')\n",
    "plt.hist(pd.Series(lush_ridge_y_test), bins=range(-5,20), alpha=0.75, density=True, label='observed')\n",
    "plt.legend()\n",
    "plt.show()"
   ]
  },
  {
   "cell_type": "code",
   "execution_count": 25,
   "metadata": {
    "ExecuteTime": {
     "end_time": "2019-07-20T05:51:25.259030Z",
     "start_time": "2019-07-20T05:51:24.871553Z"
    },
    "hidden": true
   },
   "outputs": [
    {
     "data": {
      "image/png": "[encoded data removed]",
      "text/plain": [
       "<Figure size 720x576 with 1 Axes>"
      ]
     },
     "metadata": {
      "needs_background": "light"
     },
     "output_type": "display_data"
    }
   ],
   "source": [
    "plt.figure(figsize=(10, 8))\n",
    "plt.scatter(pd.Series(lush_ridge_y_test), pd.Series(lush_ridge_y_pred), alpha=0.1)\n",
    "plt.plot(np.linspace(-5, 25), np.linspace(-5, 25))\n",
    "plt.ylabel('Predicted total points')\n",
    "plt.xlabel('Observed total points')\n",
    "plt.ylim((-3, 12))\n",
    "plt.show()"
   ]
  },
  {
   "cell_type": "markdown",
   "metadata": {
    "heading_collapsed": true
   },
   "source": [
    "### Ridge regression (stark)"
   ]
  },
  {
   "cell_type": "code",
   "execution_count": 26,
   "metadata": {
    "ExecuteTime": {
     "end_time": "2019-07-20T05:51:25.264419Z",
     "start_time": "2019-07-20T05:51:25.261433Z"
    },
    "hidden": true
   },
   "outputs": [],
   "source": [
    "stark_ridge_model = Ridge(alpha=1e-8)"
   ]
  },
  {
   "cell_type": "code",
   "execution_count": 27,
   "metadata": {
    "ExecuteTime": {
     "end_time": "2019-07-20T05:51:25.346600Z",
     "start_time": "2019-07-20T05:51:25.266661Z"
    },
    "hidden": true
   },
   "outputs": [],
   "source": [
    "stark_ridge_features = [\n",
    "    'C(element)[T.40]', 'C(element)[T.43]', 'C(element)[T.49]',\n",
    "    'C(element)[T.69]', 'C(element)[T.91]', 'C(element)[T.115]',\n",
    "    'C(element)[T.116]', 'C(element)[T.122]', 'C(element)[T.134]',\n",
    "    'C(element)[T.172]', 'C(element)[T.221]', 'C(element)[T.234]',\n",
    "    'C(element)[T.245]', 'C(element)[T.246]', 'C(element)[T.247]',\n",
    "    'C(element)[T.262]', 'C(element)[T.295]', 'C(element)[T.301]',\n",
    "    'C(element)[T.306]', 'C(element)[T.333]', 'C(element)[T.356]',\n",
    "    'C(element)[T.364]', 'C(element)[T.365]', 'C(element)[T.391]',\n",
    "    'C(element)[T.411]', 'C(element)[T.423]', 'C(element)[T.425]',\n",
    "    'C(element)[T.437]', 'C(element)[T.462]', 'C(element)[T.465]',\n",
    "    'C(element)[T.484]', 'C(element_type)[T.2]', 'C(element_type)[T.3]',\n",
    "    'C(element_type)[T.4]', 'C(opposition_team)[T.9]',\n",
    "    'C(opposition_team)[T.12]', 'C(opposition_team)[T.13]', 'value'\n",
    "]"
   ]
  },
  {
   "cell_type": "code",
   "execution_count": 28,
   "metadata": {
    "ExecuteTime": {
     "end_time": "2019-07-20T05:51:34.872712Z",
     "start_time": "2019-07-20T05:51:25.350359Z"
    },
    "hidden": true
   },
   "outputs": [],
   "source": [
    "stark_ridge_y_pred, stark_ridge_y_test, stark_ridge_df_test = predict_test_set(\n",
    "    element_gameweek_df,\n",
    "    stark_ridge_model,\n",
    "    features=stark_ridge_features,\n",
    "    standardise=True\n",
    ")"
   ]
  },
  {
   "cell_type": "code",
   "execution_count": 29,
   "metadata": {
    "ExecuteTime": {
     "end_time": "2019-07-20T05:51:34.894710Z",
     "start_time": "2019-07-20T05:51:34.881532Z"
    },
    "hidden": true
   },
   "outputs": [
    {
     "data": {
      "text/plain": [
       "(2.2825443585935585, 9.594886878178908, 0.06596301113410075)"
      ]
     },
     "execution_count": 29,
     "metadata": {},
     "output_type": "execute_result"
    }
   ],
   "source": [
    "stark_ridge_test_loss = (\n",
    "    mean_absolute_error(stark_ridge_y_test, stark_ridge_y_pred),\n",
    "    mean_squared_error(stark_ridge_y_test, stark_ridge_y_pred),\n",
    "    r2_score(stark_ridge_y_test, stark_ridge_y_pred)\n",
    ")\n",
    "stark_ridge_test_loss"
   ]
  },
  {
   "cell_type": "code",
   "execution_count": 30,
   "metadata": {
    "ExecuteTime": {
     "end_time": "2019-07-20T05:51:35.459654Z",
     "start_time": "2019-07-20T05:51:34.896880Z"
    },
    "hidden": true
   },
   "outputs": [
    {
     "data": {
      "image/png": "[encoded data removed]",
      "text/plain": [
       "<Figure size 720x576 with 1 Axes>"
      ]
     },
     "metadata": {
      "needs_background": "light"
     },
     "output_type": "display_data"
    }
   ],
   "source": [
    "plt.figure(figsize=(10, 8))\n",
    "plt.hist(pd.Series(stark_ridge_y_pred), bins=range(-5,20), alpha=0.75, density=True, label='predicted')\n",
    "plt.hist(pd.Series(stark_ridge_y_test), bins=range(-5,20), alpha=0.75, density=True, label='observed')\n",
    "plt.legend()\n",
    "plt.show()"
   ]
  },
  {
   "cell_type": "code",
   "execution_count": 31,
   "metadata": {
    "ExecuteTime": {
     "end_time": "2019-07-20T05:51:35.853701Z",
     "start_time": "2019-07-20T05:51:35.462138Z"
    },
    "hidden": true
   },
   "outputs": [
    {
     "data": {
      "image/png": "[encoded data removed]",
      "text/plain": [
       "<Figure size 720x576 with 1 Axes>"
      ]
     },
     "metadata": {
      "needs_background": "light"
     },
     "output_type": "display_data"
    }
   ],
   "source": [
    "plt.figure(figsize=(10, 8))\n",
    "plt.scatter(pd.Series(stark_ridge_y_test), pd.Series(stark_ridge_y_pred), alpha=0.1)\n",
    "plt.plot(np.linspace(-5, 25), np.linspace(-5, 25))\n",
    "plt.ylabel('Predicted total points')\n",
    "plt.xlabel('Observed total points')\n",
    "plt.ylim((-3, 12))\n",
    "plt.show()"
   ]
  },
  {
   "cell_type": "markdown",
   "metadata": {
    "heading_collapsed": true
   },
   "source": [
    "### Lasso regression"
   ]
  },
  {
   "cell_type": "code",
   "execution_count": 32,
   "metadata": {
    "ExecuteTime": {
     "end_time": "2019-07-20T05:51:35.859937Z",
     "start_time": "2019-07-20T05:51:35.856605Z"
    },
    "hidden": true
   },
   "outputs": [],
   "source": [
    "lasso_model = Lasso(alpha=1e-8)"
   ]
  },
  {
   "cell_type": "code",
   "execution_count": 33,
   "metadata": {
    "ExecuteTime": {
     "end_time": "2019-07-20T05:51:35.933565Z",
     "start_time": "2019-07-20T05:51:35.862342Z"
    },
    "hidden": true
   },
   "outputs": [],
   "source": [
    "lasso_features = ['expected_avg_total_points_at_ground']"
   ]
  },
  {
   "cell_type": "code",
   "execution_count": 34,
   "metadata": {
    "ExecuteTime": {
     "end_time": "2019-07-20T05:51:44.549131Z",
     "start_time": "2019-07-20T05:51:35.935704Z"
    },
    "hidden": true
   },
   "outputs": [],
   "source": [
    "lasso_y_pred, lasso_y_test, lasso_df_test = predict_test_set(\n",
    "    element_gameweek_df,\n",
    "    lasso_model,\n",
    "    features=lasso_features,\n",
    "    standardise=True\n",
    ")"
   ]
  },
  {
   "cell_type": "code",
   "execution_count": 35,
   "metadata": {
    "ExecuteTime": {
     "end_time": "2019-07-20T05:51:44.557895Z",
     "start_time": "2019-07-20T05:51:44.551357Z"
    },
    "hidden": true
   },
   "outputs": [
    {
     "data": {
      "text/plain": [
       "(2.2973044429258143, 9.691293860592644, 0.056578045088887086)"
      ]
     },
     "execution_count": 35,
     "metadata": {},
     "output_type": "execute_result"
    }
   ],
   "source": [
    "lasso_test_loss = (\n",
    "    mean_absolute_error(lasso_y_test, lasso_y_pred),\n",
    "    mean_squared_error(lasso_y_test, lasso_y_pred),\n",
    "    r2_score(lasso_y_test, lasso_y_pred)\n",
    ")\n",
    "lasso_test_loss"
   ]
  },
  {
   "cell_type": "code",
   "execution_count": 36,
   "metadata": {
    "ExecuteTime": {
     "end_time": "2019-07-20T05:51:45.151706Z",
     "start_time": "2019-07-20T05:51:44.559931Z"
    },
    "hidden": true
   },
   "outputs": [
    {
     "data": {
      "image/png": "[encoded data removed]",
      "text/plain": [
       "<Figure size 720x576 with 1 Axes>"
      ]
     },
     "metadata": {
      "needs_background": "light"
     },
     "output_type": "display_data"
    }
   ],
   "source": [
    "plt.figure(figsize=(10, 8))\n",
    "plt.hist(pd.Series(lasso_y_pred), bins=range(-5,20), alpha=0.75, density=True, label='predicted')\n",
    "plt.hist(pd.Series(lasso_y_test), bins=range(-5,20), alpha=0.75, density=True, label='observed')\n",
    "plt.legend()\n",
    "plt.show()"
   ]
  },
  {
   "cell_type": "code",
   "execution_count": 37,
   "metadata": {
    "ExecuteTime": {
     "end_time": "2019-07-20T05:51:45.533607Z",
     "start_time": "2019-07-20T05:51:45.154071Z"
    },
    "hidden": true
   },
   "outputs": [
    {
     "data": {
      "image/png": "[encoded data removed]",
      "text/plain": [
       "<Figure size 720x576 with 1 Axes>"
      ]
     },
     "metadata": {
      "needs_background": "light"
     },
     "output_type": "display_data"
    }
   ],
   "source": [
    "plt.figure(figsize=(10, 8))\n",
    "plt.scatter(pd.Series(lasso_y_test), pd.Series(lasso_y_pred), alpha=0.1)\n",
    "plt.plot(np.linspace(-5, 25), np.linspace(-5, 25))\n",
    "plt.ylabel('Predicted total points')\n",
    "plt.xlabel('Observed total points')\n",
    "plt.ylim((-3, 12))\n",
    "plt.show()"
   ]
  },
  {
   "cell_type": "markdown",
   "metadata": {
    "heading_collapsed": true
   },
   "source": [
    "### Radial basis SVM regression"
   ]
  },
  {
   "cell_type": "code",
   "execution_count": 96,
   "metadata": {
    "ExecuteTime": {
     "end_time": "2019-07-23T16:05:19.068703Z",
     "start_time": "2019-07-23T16:05:19.062363Z"
    },
    "hidden": true
   },
   "outputs": [],
   "source": [
    "rbf_svr_model = SVR(kernel='rbf', gamma=0.012, C=1.5, epsilon=2.07)"
   ]
  },
  {
   "cell_type": "code",
   "execution_count": 97,
   "metadata": {
    "ExecuteTime": {
     "end_time": "2019-07-23T16:05:19.545290Z",
     "start_time": "2019-07-23T16:05:19.506439Z"
    },
    "hidden": true
   },
   "outputs": [],
   "source": [
    "rbf_svr_features = [\n",
    "    'C(element)[T.4]', 'C(element)[T.6]', 'C(element)[T.8]',\n",
    "    'C(element)[T.12]', 'C(element)[T.13]', 'C(element)[T.14]',\n",
    "    'C(element)[T.18]', 'C(element)[T.23]', 'C(element)[T.33]',\n",
    "    'C(element)[T.37]', 'C(element)[T.39]', 'C(element)[T.40]',\n",
    "    'C(element)[T.42]', 'C(element)[T.43]', 'C(element)[T.48]',\n",
    "    'C(element)[T.49]', 'C(element)[T.50]', 'C(element)[T.54]',\n",
    "    'C(element)[T.55]', 'C(element)[T.56]', 'C(element)[T.57]',\n",
    "    'C(element)[T.58]', 'C(element)[T.60]', 'C(element)[T.62]',\n",
    "    'C(element)[T.66]', 'C(element)[T.69]', 'C(element)[T.71]',\n",
    "    'C(element)[T.72]', 'C(element)[T.73]', 'C(element)[T.75]',\n",
    "    'C(element)[T.76]', 'C(element)[T.77]', 'C(element)[T.79]',\n",
    "    'C(element)[T.80]', 'C(element)[T.82]', 'C(element)[T.83]',\n",
    "    'C(element)[T.84]', 'C(element)[T.85]', 'C(element)[T.88]',\n",
    "    'C(element)[T.90]', 'C(element)[T.91]', 'C(element)[T.92]',\n",
    "    'C(element)[T.95]', 'C(element)[T.98]', 'C(element)[T.101]',\n",
    "    'C(element)[T.105]', 'C(element)[T.110]', 'C(element)[T.113]',\n",
    "    'C(element)[T.115]', 'C(element)[T.116]', 'C(element)[T.118]',\n",
    "    'C(element)[T.124]', 'C(element)[T.126]', 'C(element)[T.127]',\n",
    "    'C(element)[T.134]', 'C(element)[T.137]', 'C(element)[T.140]',\n",
    "    'C(element)[T.141]', 'C(element)[T.145]', 'C(element)[T.147]',\n",
    "    'C(element)[T.152]', 'C(element)[T.156]', 'C(element)[T.157]',\n",
    "    'C(element)[T.160]', 'C(element)[T.164]', 'C(element)[T.167]',\n",
    "    'C(element)[T.168]', 'C(element)[T.169]', 'C(element)[T.172]',\n",
    "    'C(element)[T.175]', 'C(element)[T.178]', 'C(element)[T.181]',\n",
    "    'C(element)[T.183]', 'C(element)[T.184]', 'C(element)[T.189]',\n",
    "    'C(element)[T.190]', 'C(element)[T.191]', 'C(element)[T.192]',\n",
    "    'C(element)[T.193]', 'C(element)[T.195]', 'C(element)[T.198]',\n",
    "    'C(element)[T.199]', 'C(element)[T.200]', 'C(element)[T.202]',\n",
    "    'C(element)[T.206]', 'C(element)[T.210]', 'C(element)[T.211]',\n",
    "    'C(element)[T.213]', 'C(element)[T.215]', 'C(element)[T.219]',\n",
    "    'C(element)[T.221]', 'C(element)[T.225]', 'C(element)[T.226]',\n",
    "    'C(element)[T.231]', 'C(element)[T.233]', 'C(element)[T.234]',\n",
    "    'C(element)[T.236]', 'C(element)[T.242]', 'C(element)[T.243]',\n",
    "    'C(element)[T.245]', 'C(element)[T.246]', 'C(element)[T.247]',\n",
    "    'C(element)[T.249]', 'C(element)[T.251]', 'C(element)[T.252]',\n",
    "    'C(element)[T.253]', 'C(element)[T.254]', 'C(element)[T.256]',\n",
    "    'C(element)[T.257]', 'C(element)[T.258]', 'C(element)[T.260]',\n",
    "    'C(element)[T.262]', 'C(element)[T.263]', 'C(element)[T.264]',\n",
    "    'C(element)[T.265]', 'C(element)[T.268]', 'C(element)[T.269]',\n",
    "    'C(element)[T.270]', 'C(element)[T.271]', 'C(element)[T.272]',\n",
    "    'C(element)[T.274]', 'C(element)[T.275]', 'C(element)[T.280]',\n",
    "    'C(element)[T.281]', 'C(element)[T.282]', 'C(element)[T.288]',\n",
    "    'C(element)[T.289]', 'C(element)[T.291]', 'C(element)[T.294]',\n",
    "    'C(element)[T.295]', 'C(element)[T.299]', 'C(element)[T.300]',\n",
    "    'C(element)[T.301]', 'C(element)[T.302]', 'C(element)[T.304]',\n",
    "    'C(element)[T.305]', 'C(element)[T.306]', 'C(element)[T.309]',\n",
    "    'C(element)[T.312]', 'C(element)[T.315]', 'C(element)[T.317]',\n",
    "    'C(element)[T.318]', 'C(element)[T.324]', 'C(element)[T.327]',\n",
    "    'C(element)[T.328]', 'C(element)[T.331]', 'C(element)[T.332]',\n",
    "    'C(element)[T.333]', 'C(element)[T.335]', 'C(element)[T.336]',\n",
    "    'C(element)[T.343]', 'C(element)[T.344]', 'C(element)[T.346]',\n",
    "    'C(element)[T.352]', 'C(element)[T.353]', 'C(element)[T.355]',\n",
    "    'C(element)[T.356]', 'C(element)[T.357]', 'C(element)[T.360]',\n",
    "    'C(element)[T.362]', 'C(element)[T.364]', 'C(element)[T.365]',\n",
    "    'C(element)[T.368]', 'C(element)[T.369]', 'C(element)[T.370]',\n",
    "    'C(element)[T.372]', 'C(element)[T.376]', 'C(element)[T.380]',\n",
    "    'C(element)[T.386]', 'C(element)[T.390]', 'C(element)[T.391]',\n",
    "    'C(element)[T.393]', 'C(element)[T.394]', 'C(element)[T.395]',\n",
    "    'C(element)[T.396]', 'C(element)[T.400]', 'C(element)[T.402]',\n",
    "    'C(element)[T.403]', 'C(element)[T.408]', 'C(element)[T.411]',\n",
    "    'C(element)[T.415]', 'C(element)[T.417]', 'C(element)[T.419]',\n",
    "    'C(element)[T.423]', 'C(element)[T.425]', 'C(element)[T.426]',\n",
    "    'C(element)[T.427]', 'C(element)[T.431]', 'C(element)[T.432]',\n",
    "    'C(element)[T.433]', 'C(element)[T.437]', 'C(element)[T.447]',\n",
    "    'C(element)[T.450]', 'C(element)[T.451]', 'C(element)[T.455]',\n",
    "    'C(element)[T.456]', 'C(element)[T.459]', 'C(element)[T.461]',\n",
    "    'C(element)[T.462]', 'C(element)[T.465]', 'C(element)[T.467]',\n",
    "    'C(element)[T.468]', 'C(element)[T.473]', 'C(element)[T.474]',\n",
    "    'C(element)[T.475]', 'C(element)[T.476]', 'C(element)[T.478]',\n",
    "    'C(element)[T.479]', 'C(element)[T.480]', 'C(element)[T.482]',\n",
    "    'C(element)[T.483]', 'C(element)[T.484]', 'C(element)[T.487]',\n",
    "    'C(element)[T.488]', 'C(element)[T.490]', 'C(element)[T.492]',\n",
    "    'C(element)[T.493]', 'C(element)[T.499]', 'C(element)[T.503]',\n",
    "    'C(element)[T.504]', 'C(element)[T.505]', 'C(element)[T.506]',\n",
    "    'C(element)[T.509]', 'C(element)[T.510]', 'C(element)[T.511]',\n",
    "    'C(element)[T.512]', 'C(element)[T.513]', 'C(element)[T.516]',\n",
    "    'C(element)[T.517]', 'C(element)[T.526]', 'C(element)[T.527]',\n",
    "    'C(element)[T.536]', 'C(element)[T.539]', 'C(element)[T.549]',\n",
    "    'C(element_type)[T.2]', 'C(element_type)[T.3]', 'C(element_type)[T.4]',\n",
    "    'C(team)[T.6]', 'C(team)[T.7]', 'C(team)[T.8]', 'C(team)[T.10]',\n",
    "    'C(team)[T.12]', 'C(team)[T.14]', 'C(team)[T.16]', 'C(team)[T.17]',\n",
    "    'C(team)[T.20]', 'C(opposition_team)[T.2]', 'C(opposition_team)[T.3]',\n",
    "    'C(opposition_team)[T.4]', 'C(opposition_team)[T.5]',\n",
    "    'C(opposition_team)[T.6]', 'C(opposition_team)[T.7]',\n",
    "    'C(opposition_team)[T.8]', 'C(opposition_team)[T.9]',\n",
    "    'C(opposition_team)[T.10]', 'C(opposition_team)[T.12]',\n",
    "    'C(opposition_team)[T.13]', 'C(opposition_team)[T.14]',\n",
    "    'C(opposition_team)[T.15]', 'C(opposition_team)[T.16]',\n",
    "    'C(opposition_team)[T.17]', 'C(opposition_team)[T.18]',\n",
    "    'C(opposition_team)[T.19]', 'C(opposition_team)[T.20]', 'value',\n",
    "    'is_sunday', 'is_weekday', 'rolling_avg_minutes_element_p3',\n",
    "    'rolling_avg_bps_element', 'rolling_avg_goals_scored_element',\n",
    "    'rolling_avg_completed_passes_element', 'rolling_avg_tackled_element',\n",
    "    'rolling_avg_dribbles_element', 'rolling_avg_offside_element',\n",
    "    'rolling_avg_total_points_against_opposition_team',\n",
    "    'expected_avg_total_points_against_opposition_team'\n",
    "]"
   ]
  },
  {
   "cell_type": "code",
   "execution_count": null,
   "metadata": {
    "ExecuteTime": {
     "start_time": "2019-07-23T16:05:20.029Z"
    },
    "hidden": true
   },
   "outputs": [],
   "source": [
    "rbf_svr_y_pred, rbf_svr_y_test, rbf_svr_df_test = predict_test_set(\n",
    "    element_gameweek_df,\n",
    "    rbf_svr_model,\n",
    "    features=rbf_svr_features,\n",
    "    standardise=True\n",
    ")"
   ]
  },
  {
   "cell_type": "code",
   "execution_count": null,
   "metadata": {
    "ExecuteTime": {
     "start_time": "2019-07-23T16:05:21.627Z"
    },
    "hidden": true
   },
   "outputs": [],
   "source": [
    "rbf_svr_test_loss = (\n",
    "    mean_absolute_error(rbf_svr_y_test, rbf_svr_y_pred),\n",
    "    mean_squared_error(rbf_svr_y_test, rbf_svr_y_pred),\n",
    "    r2_score(rbf_svr_y_test, rbf_svr_y_pred)\n",
    ")\n",
    "rbf_svr_test_loss"
   ]
  },
  {
   "cell_type": "code",
   "execution_count": 42,
   "metadata": {
    "ExecuteTime": {
     "end_time": "2019-07-20T05:53:57.411200Z",
     "start_time": "2019-07-20T05:53:56.827037Z"
    },
    "hidden": true
   },
   "outputs": [
    {
     "data": {
      "image/png": "[encoded data removed]",
      "text/plain": [
       "<Figure size 720x576 with 1 Axes>"
      ]
     },
     "metadata": {
      "needs_background": "light"
     },
     "output_type": "display_data"
    }
   ],
   "source": [
    "plt.figure(figsize=(10, 8))\n",
    "plt.hist(pd.Series(rbf_svr_y_pred), bins=range(-5,20), alpha=0.75, density=True, label='predicted')\n",
    "plt.hist(pd.Series(rbf_svr_y_test), bins=range(-5,20), alpha=0.75, density=True, label='observed')\n",
    "plt.legend()\n",
    "plt.show()"
   ]
  },
  {
   "cell_type": "code",
   "execution_count": 43,
   "metadata": {
    "ExecuteTime": {
     "end_time": "2019-07-20T05:53:57.803383Z",
     "start_time": "2019-07-20T05:53:57.413571Z"
    },
    "hidden": true
   },
   "outputs": [
    {
     "data": {
      "image/png": "[encoded data removed]",
      "text/plain": [
       "<Figure size 720x576 with 1 Axes>"
      ]
     },
     "metadata": {
      "needs_background": "light"
     },
     "output_type": "display_data"
    }
   ],
   "source": [
    "plt.figure(figsize=(10, 8))\n",
    "plt.scatter(pd.Series(rbf_svr_y_test), pd.Series(rbf_svr_y_pred), alpha=0.1)\n",
    "plt.plot(np.linspace(-5, 25), np.linspace(-5, 25))\n",
    "plt.ylabel('Predicted total points')\n",
    "plt.xlabel('Observed total points')\n",
    "plt.ylim((-3, 12))\n",
    "plt.show()"
   ]
  },
  {
   "cell_type": "markdown",
   "metadata": {
    "heading_collapsed": true
   },
   "source": [
    "### Linear SVM regression"
   ]
  },
  {
   "cell_type": "code",
   "execution_count": 44,
   "metadata": {
    "ExecuteTime": {
     "end_time": "2019-07-20T05:53:57.809061Z",
     "start_time": "2019-07-20T05:53:57.805741Z"
    },
    "hidden": true
   },
   "outputs": [],
   "source": [
    "linear_svr_model = SVR(kernel='linear', C=0.29, epsilon=2.16)"
   ]
  },
  {
   "cell_type": "code",
   "execution_count": 45,
   "metadata": {
    "ExecuteTime": {
     "end_time": "2019-07-20T05:53:57.885723Z",
     "start_time": "2019-07-20T05:53:57.811349Z"
    },
    "hidden": true
   },
   "outputs": [],
   "source": [
    "linear_svr_features = [\n",
    "    'C(element)[T.4]', 'C(element)[T.6]', 'C(element)[T.8]',\n",
    "    'C(element)[T.12]', 'C(element)[T.13]', 'C(element)[T.14]',\n",
    "    'C(element)[T.18]', 'C(element)[T.23]', 'C(element)[T.33]',\n",
    "    'C(element)[T.37]', 'C(element)[T.39]', 'C(element)[T.40]',\n",
    "    'C(element)[T.42]', 'C(element)[T.43]', 'C(element)[T.48]',\n",
    "    'C(element)[T.49]', 'C(element)[T.50]', 'C(element)[T.54]',\n",
    "    'C(element)[T.55]', 'C(element)[T.56]', 'C(element)[T.57]',\n",
    "    'C(element)[T.58]', 'C(element)[T.60]', 'C(element)[T.62]',\n",
    "    'C(element)[T.66]', 'C(element)[T.69]', 'C(element)[T.71]',\n",
    "    'C(element)[T.72]', 'C(element)[T.73]', 'C(element)[T.75]',\n",
    "    'C(element)[T.76]', 'C(element)[T.77]', 'C(element)[T.79]',\n",
    "    'C(element)[T.80]', 'C(element)[T.82]', 'C(element)[T.83]',\n",
    "    'C(element)[T.84]', 'C(element)[T.85]', 'C(element)[T.88]',\n",
    "    'C(element)[T.90]', 'C(element)[T.91]', 'C(element)[T.92]',\n",
    "    'C(element)[T.95]', 'C(element)[T.98]', 'C(element)[T.101]',\n",
    "    'C(element)[T.105]', 'C(element)[T.110]', 'C(element)[T.113]',\n",
    "    'C(element)[T.115]', 'C(element)[T.116]', 'C(element)[T.118]',\n",
    "    'C(element)[T.124]', 'C(element)[T.126]', 'C(element)[T.127]',\n",
    "    'C(element)[T.134]', 'C(element)[T.137]', 'C(element)[T.140]',\n",
    "    'C(element)[T.141]', 'C(element)[T.145]', 'C(element)[T.147]',\n",
    "    'C(element)[T.152]', 'C(element)[T.156]', 'C(element)[T.157]',\n",
    "    'C(element)[T.160]', 'C(element)[T.164]', 'C(element)[T.167]',\n",
    "    'C(element)[T.168]', 'C(element)[T.169]', 'C(element)[T.172]',\n",
    "    'C(element)[T.175]', 'C(element)[T.178]', 'C(element)[T.181]',\n",
    "    'C(element)[T.183]', 'C(element)[T.184]', 'C(element)[T.189]',\n",
    "    'C(element)[T.190]', 'C(element)[T.191]', 'C(element)[T.192]',\n",
    "    'C(element)[T.193]', 'C(element)[T.195]', 'C(element)[T.198]',\n",
    "    'C(element)[T.199]', 'C(element)[T.200]', 'C(element)[T.202]',\n",
    "    'C(element)[T.206]', 'C(element)[T.210]', 'C(element)[T.211]',\n",
    "    'C(element)[T.213]', 'C(element)[T.215]', 'C(element)[T.219]',\n",
    "    'C(element)[T.221]', 'C(element)[T.225]', 'C(element)[T.226]',\n",
    "    'C(element)[T.231]', 'C(element)[T.233]', 'C(element)[T.234]',\n",
    "    'C(element)[T.236]', 'C(element)[T.242]', 'C(element)[T.243]',\n",
    "    'C(element)[T.245]', 'C(element)[T.246]', 'C(element)[T.247]',\n",
    "    'C(element)[T.249]', 'C(element)[T.251]', 'C(element)[T.252]',\n",
    "    'C(element)[T.253]', 'C(element)[T.254]', 'C(element)[T.256]',\n",
    "    'C(element)[T.257]', 'C(element)[T.258]', 'C(element)[T.260]',\n",
    "    'C(element)[T.262]', 'C(element)[T.263]', 'C(element)[T.264]',\n",
    "    'C(element)[T.265]', 'C(element)[T.268]', 'C(element)[T.269]',\n",
    "    'C(element)[T.270]', 'C(element)[T.271]', 'C(element)[T.272]',\n",
    "    'C(element)[T.274]', 'C(element)[T.275]', 'C(element)[T.280]',\n",
    "    'C(element)[T.281]', 'C(element)[T.282]', 'C(element)[T.288]',\n",
    "    'C(element)[T.289]', 'C(element)[T.291]', 'C(element)[T.294]',\n",
    "    'C(element)[T.295]', 'C(element)[T.299]', 'C(element)[T.300]',\n",
    "    'C(element)[T.301]', 'C(element)[T.302]', 'C(element)[T.304]',\n",
    "    'C(element)[T.305]', 'C(element)[T.306]', 'C(element)[T.309]',\n",
    "    'C(element)[T.312]', 'C(element)[T.315]', 'C(element)[T.317]',\n",
    "    'C(element)[T.318]', 'C(element)[T.324]', 'C(element)[T.327]',\n",
    "    'C(element)[T.328]', 'C(element)[T.331]', 'C(element)[T.332]',\n",
    "    'C(element)[T.333]', 'C(element)[T.335]', 'C(element)[T.336]',\n",
    "    'C(element)[T.343]', 'C(element)[T.344]', 'C(element)[T.346]',\n",
    "    'C(element)[T.352]', 'C(element)[T.353]', 'C(element)[T.355]',\n",
    "    'C(element)[T.356]', 'C(element)[T.357]', 'C(element)[T.360]',\n",
    "    'C(element)[T.362]', 'C(element)[T.364]', 'C(element)[T.365]',\n",
    "    'C(element)[T.368]', 'C(element)[T.369]', 'C(element)[T.370]',\n",
    "    'C(element)[T.372]', 'C(element)[T.376]', 'C(element)[T.380]',\n",
    "    'C(element)[T.386]', 'C(element)[T.390]', 'C(element)[T.391]',\n",
    "    'C(element)[T.393]', 'C(element)[T.394]', 'C(element)[T.395]',\n",
    "    'C(element)[T.396]', 'C(element)[T.400]', 'C(element)[T.402]',\n",
    "    'C(element)[T.403]', 'C(element)[T.408]', 'C(element)[T.411]',\n",
    "    'C(element)[T.415]', 'C(element)[T.417]', 'C(element)[T.419]',\n",
    "    'C(element)[T.423]', 'C(element)[T.425]', 'C(element)[T.426]',\n",
    "    'C(element)[T.427]', 'C(element)[T.431]', 'C(element)[T.432]',\n",
    "    'C(element)[T.433]', 'C(element)[T.437]', 'C(element)[T.447]',\n",
    "    'C(element)[T.450]', 'C(element)[T.451]', 'C(element)[T.455]',\n",
    "    'C(element)[T.456]', 'C(element)[T.459]', 'C(element)[T.461]',\n",
    "    'C(element)[T.462]', 'C(element)[T.465]', 'C(element)[T.467]',\n",
    "    'C(element)[T.468]', 'C(element)[T.473]', 'C(element)[T.474]',\n",
    "    'C(element)[T.475]', 'C(element)[T.476]', 'C(element)[T.478]',\n",
    "    'C(element)[T.479]', 'C(element)[T.480]', 'C(element)[T.482]',\n",
    "    'C(element)[T.483]', 'C(element)[T.484]', 'C(element)[T.487]',\n",
    "    'C(element)[T.488]', 'C(element)[T.490]', 'C(element)[T.492]',\n",
    "    'C(element)[T.493]', 'C(element)[T.499]', 'C(element)[T.503]',\n",
    "    'C(element)[T.504]', 'C(element)[T.505]', 'C(element)[T.506]',\n",
    "    'C(element)[T.509]', 'C(element)[T.510]', 'C(element)[T.511]',\n",
    "    'C(element)[T.512]', 'C(element)[T.513]', 'C(element)[T.516]',\n",
    "    'C(element)[T.517]', 'C(element)[T.526]', 'C(element)[T.527]',\n",
    "    'C(element)[T.536]', 'C(element)[T.539]', 'C(element)[T.549]',\n",
    "    'C(element_type)[T.2]', 'C(element_type)[T.3]', 'C(element_type)[T.4]',\n",
    "    'C(team)[T.6]', 'C(team)[T.7]', 'C(team)[T.8]', 'C(team)[T.10]',\n",
    "    'C(team)[T.12]', 'C(team)[T.14]', 'C(team)[T.16]', 'C(team)[T.17]',\n",
    "    'C(team)[T.20]', 'C(opposition_team)[T.2]', 'C(opposition_team)[T.3]',\n",
    "    'C(opposition_team)[T.4]', 'C(opposition_team)[T.5]',\n",
    "    'C(opposition_team)[T.6]', 'C(opposition_team)[T.7]',\n",
    "    'C(opposition_team)[T.8]', 'C(opposition_team)[T.9]',\n",
    "    'C(opposition_team)[T.10]', 'C(opposition_team)[T.12]',\n",
    "    'C(opposition_team)[T.13]', 'C(opposition_team)[T.14]',\n",
    "    'C(opposition_team)[T.15]', 'C(opposition_team)[T.16]',\n",
    "    'C(opposition_team)[T.17]', 'C(opposition_team)[T.18]',\n",
    "    'C(opposition_team)[T.19]', 'C(opposition_team)[T.20]', 'value',\n",
    "    'is_sunday', 'is_weekday', 'rolling_avg_minutes_element_p3',\n",
    "    'rolling_avg_bps_element', 'rolling_avg_goals_scored_element',\n",
    "    'rolling_avg_completed_passes_element', 'rolling_avg_tackled_element',\n",
    "    'rolling_avg_dribbles_element', 'rolling_avg_offside_element',\n",
    "    'rolling_avg_total_points_against_opposition_team',\n",
    "    'expected_avg_total_points_against_opposition_team'\n",
    "]"
   ]
  },
  {
   "cell_type": "code",
   "execution_count": 46,
   "metadata": {
    "ExecuteTime": {
     "end_time": "2019-07-20T05:55:52.066574Z",
     "start_time": "2019-07-20T05:53:57.887848Z"
    },
    "hidden": true
   },
   "outputs": [],
   "source": [
    "linear_svr_y_pred, linear_svr_y_test, linear_svr_df_test = predict_test_set(\n",
    "    element_gameweek_df,\n",
    "    linear_svr_model,\n",
    "    features=linear_svr_features,\n",
    "    standardise=True\n",
    ")"
   ]
  },
  {
   "cell_type": "code",
   "execution_count": 47,
   "metadata": {
    "ExecuteTime": {
     "end_time": "2019-07-20T05:55:52.078603Z",
     "start_time": "2019-07-20T05:55:52.069408Z"
    },
    "hidden": true
   },
   "outputs": [
    {
     "data": {
      "text/plain": [
       "(2.3153025196965364, 9.458455594839448, 0.07924423755140331)"
      ]
     },
     "execution_count": 47,
     "metadata": {},
     "output_type": "execute_result"
    }
   ],
   "source": [
    "linear_svr_test_loss = (\n",
    "    mean_absolute_error(linear_svr_y_test, linear_svr_y_pred),\n",
    "    mean_squared_error(linear_svr_y_test, linear_svr_y_pred),\n",
    "    r2_score(linear_svr_y_test, linear_svr_y_pred)\n",
    ")\n",
    "linear_svr_test_loss"
   ]
  },
  {
   "cell_type": "code",
   "execution_count": 48,
   "metadata": {
    "ExecuteTime": {
     "end_time": "2019-07-20T05:55:52.936108Z",
     "start_time": "2019-07-20T05:55:52.081451Z"
    },
    "hidden": true
   },
   "outputs": [
    {
     "data": {
      "image/png": "[encoded data removed]",
      "text/plain": [
       "<Figure size 720x576 with 1 Axes>"
      ]
     },
     "metadata": {
      "needs_background": "light"
     },
     "output_type": "display_data"
    }
   ],
   "source": [
    "plt.figure(figsize=(10, 8))\n",
    "plt.hist(pd.Series(linear_svr_y_pred), bins=range(-5,20), alpha=0.75, density=True, label='predicted')\n",
    "plt.hist(pd.Series(linear_svr_y_test), bins=range(-5,20), alpha=0.75, density=True, label='observed')\n",
    "plt.legend()\n",
    "plt.show()"
   ]
  },
  {
   "cell_type": "code",
   "execution_count": 49,
   "metadata": {
    "ExecuteTime": {
     "end_time": "2019-07-20T05:55:53.333293Z",
     "start_time": "2019-07-20T05:55:52.939549Z"
    },
    "hidden": true
   },
   "outputs": [
    {
     "data": {
      "image/png": "[encoded data removed]",
      "text/plain": [
       "<Figure size 720x576 with 1 Axes>"
      ]
     },
     "metadata": {
      "needs_background": "light"
     },
     "output_type": "display_data"
    }
   ],
   "source": [
    "plt.figure(figsize=(10, 8))\n",
    "plt.scatter(pd.Series(linear_svr_y_test), pd.Series(linear_svr_y_pred), alpha=0.1)\n",
    "plt.plot(np.linspace(-5, 25), np.linspace(-5, 25))\n",
    "plt.ylabel('Predicted total points')\n",
    "plt.xlabel('Observed total points')\n",
    "plt.ylim((-3, 12))\n",
    "plt.show()"
   ]
  },
  {
   "cell_type": "markdown",
   "metadata": {
    "heading_collapsed": true
   },
   "source": [
    "### Decision tree (lush)"
   ]
  },
  {
   "cell_type": "code",
   "execution_count": 50,
   "metadata": {
    "ExecuteTime": {
     "end_time": "2019-07-20T05:57:16.716909Z",
     "start_time": "2019-07-20T05:55:53.336028Z"
    },
    "hidden": true
   },
   "outputs": [
    {
     "name": "stdout",
     "output_type": "stream",
     "text": [
      "(2.2877320755615815, 9.656992490866656, 0.0599171931684442)\n",
      "(0.004906376581918389, 0.04503979089129736, 0.004384505122090818)\n"
     ]
    }
   ],
   "source": [
    "lush_tree_test_loss_arr = []\n",
    "lush_tree_y_pred_arr = []\n",
    "lush_tree_y_test_arr = []\n",
    "lush_tree_df_test_arr = []\n",
    "\n",
    "for i in range(0, 11):\n",
    "    lush_tree_model = DecisionTreeRegressor(\n",
    "        min_samples_leaf=0.065,\n",
    "        max_features=0.45,\n",
    "        random_state=i\n",
    "    )\n",
    "    \n",
    "    lush_tree_y_pred, lush_tree_y_test, lush_tree_df_test = predict_test_set(\n",
    "        element_gameweek_df,\n",
    "        lush_tree_model,\n",
    "        standardise=False)\n",
    "    \n",
    "    lush_tree_test_loss = (\n",
    "        mean_absolute_error(lush_tree_y_test, lush_tree_y_pred),\n",
    "        mean_squared_error(lush_tree_y_test, lush_tree_y_pred),\n",
    "        r2_score(lush_tree_y_test, lush_tree_y_pred))\n",
    "    \n",
    "    lush_tree_test_loss_arr.append(lush_tree_test_loss)\n",
    "    lush_tree_y_pred_arr.append(lush_tree_y_pred)\n",
    "    lush_tree_y_test_arr.append(lush_tree_y_test)\n",
    "    lush_tree_df_test_arr.append(lush_tree_df_test)\n",
    "\n",
    "lush_tree_test_loss_mean = (\n",
    "    np.mean([i[0] for i in lush_tree_test_loss_arr]),\n",
    "    np.mean([i[1] for i in lush_tree_test_loss_arr]),\n",
    "    np.mean([i[2] for i in lush_tree_test_loss_arr])\n",
    ")\n",
    "\n",
    "lush_tree_test_loss_std = (\n",
    "    np.std([i[0] for i in lush_tree_test_loss_arr]),\n",
    "    np.std([i[1] for i in lush_tree_test_loss_arr]),\n",
    "    np.std([i[2] for i in lush_tree_test_loss_arr])\n",
    ")\n",
    "    \n",
    "print(lush_tree_test_loss_mean)\n",
    "print(lush_tree_test_loss_std)"
   ]
  },
  {
   "cell_type": "code",
   "execution_count": 51,
   "metadata": {
    "ExecuteTime": {
     "end_time": "2019-07-20T05:57:17.248913Z",
     "start_time": "2019-07-20T05:57:16.719410Z"
    },
    "hidden": true
   },
   "outputs": [
    {
     "data": {
      "image/png": "[encoded data removed]",
      "text/plain": [
       "<Figure size 720x576 with 1 Axes>"
      ]
     },
     "metadata": {
      "needs_background": "light"
     },
     "output_type": "display_data"
    }
   ],
   "source": [
    "plt.figure(figsize=(10, 8))\n",
    "plt.hist(pd.Series(lush_tree_y_pred_arr[0]), bins=range(-5,20), alpha=0.75, density=True, label='predicted')\n",
    "plt.hist(pd.Series(lush_tree_y_test_arr[0]), bins=range(-5,20), alpha=0.75, density=True, label='observed')\n",
    "plt.legend()\n",
    "plt.show()"
   ]
  },
  {
   "cell_type": "code",
   "execution_count": 52,
   "metadata": {
    "ExecuteTime": {
     "end_time": "2019-07-20T05:57:17.648040Z",
     "start_time": "2019-07-20T05:57:17.251395Z"
    },
    "hidden": true
   },
   "outputs": [
    {
     "data": {
      "image/png": "[encoded data removed]",
      "text/plain": [
       "<Figure size 720x576 with 1 Axes>"
      ]
     },
     "metadata": {
      "needs_background": "light"
     },
     "output_type": "display_data"
    }
   ],
   "source": [
    "plt.figure(figsize=(10, 8))\n",
    "plt.scatter(pd.Series(lush_tree_y_test_arr[0]), pd.Series(lush_tree_y_pred_arr[0]), alpha=0.1)\n",
    "plt.plot(np.linspace(-5, 25), np.linspace(-5, 25))\n",
    "plt.ylabel('Predicted total points')\n",
    "plt.xlabel('Observed total points')\n",
    "plt.ylim((-3, 12))\n",
    "plt.show()"
   ]
  },
  {
   "cell_type": "markdown",
   "metadata": {
    "heading_collapsed": true
   },
   "source": [
    "### Decision tree (stark)"
   ]
  },
  {
   "cell_type": "code",
   "execution_count": 53,
   "metadata": {
    "ExecuteTime": {
     "end_time": "2019-07-20T05:57:17.653406Z",
     "start_time": "2019-07-20T05:57:17.650662Z"
    },
    "hidden": true
   },
   "outputs": [],
   "source": [
    "stark_tree_features = ['value', 'expected_avg_total_points_against_opposition_team']"
   ]
  },
  {
   "cell_type": "code",
   "execution_count": 54,
   "metadata": {
    "ExecuteTime": {
     "end_time": "2019-07-20T05:58:33.169833Z",
     "start_time": "2019-07-20T05:57:17.655740Z"
    },
    "hidden": true
   },
   "outputs": [
    {
     "name": "stdout",
     "output_type": "stream",
     "text": [
      "(2.2829757917832736, 9.656592170342476, 0.05995616331803899)\n",
      "(4.440892098500626e-16, 1.7763568394002505e-15, 0.0)\n"
     ]
    }
   ],
   "source": [
    "stark_tree_test_loss_arr = []\n",
    "stark_tree_y_pred_arr = []\n",
    "stark_tree_y_test_arr = []\n",
    "stark_tree_df_test_arr = []\n",
    "\n",
    "for i in range(0, 11):\n",
    "    stark_tree_model = DecisionTreeRegressor(\n",
    "        min_samples_leaf=0.027,\n",
    "        random_state=i\n",
    "    )\n",
    "    \n",
    "    stark_tree_y_pred, stark_tree_y_test, stark_tree_df_test = predict_test_set(\n",
    "        element_gameweek_df,\n",
    "        stark_tree_model,\n",
    "        features=stark_tree_features,\n",
    "        standardise=False)\n",
    "    \n",
    "    stark_tree_test_loss = (\n",
    "        mean_absolute_error(stark_tree_y_test, stark_tree_y_pred),\n",
    "        mean_squared_error(stark_tree_y_test, stark_tree_y_pred),\n",
    "        r2_score(stark_tree_y_test, stark_tree_y_pred))\n",
    "    \n",
    "    stark_tree_test_loss_arr.append(stark_tree_test_loss)\n",
    "    stark_tree_y_pred_arr.append(stark_tree_y_pred)\n",
    "    stark_tree_y_test_arr.append(stark_tree_y_test)\n",
    "    stark_tree_df_test_arr.append(stark_tree_df_test)\n",
    "\n",
    "stark_tree_test_loss_mean = (\n",
    "    np.mean([i[0] for i in stark_tree_test_loss_arr]),\n",
    "    np.mean([i[1] for i in stark_tree_test_loss_arr]),\n",
    "    np.mean([i[2] for i in stark_tree_test_loss_arr])\n",
    ")\n",
    "\n",
    "stark_tree_test_loss_std = (\n",
    "    np.std([i[0] for i in stark_tree_test_loss_arr]),\n",
    "    np.std([i[1] for i in stark_tree_test_loss_arr]),\n",
    "    np.std([i[2] for i in stark_tree_test_loss_arr])\n",
    ")\n",
    "    \n",
    "print(stark_tree_test_loss_mean)\n",
    "print(stark_tree_test_loss_std)"
   ]
  },
  {
   "cell_type": "code",
   "execution_count": 55,
   "metadata": {
    "ExecuteTime": {
     "end_time": "2019-07-20T05:58:33.694206Z",
     "start_time": "2019-07-20T05:58:33.172107Z"
    },
    "hidden": true
   },
   "outputs": [
    {
     "data": {
      "image/png": "[encoded data removed]",
      "text/plain": [
       "<Figure size 720x576 with 1 Axes>"
      ]
     },
     "metadata": {
      "needs_background": "light"
     },
     "output_type": "display_data"
    }
   ],
   "source": [
    "plt.figure(figsize=(10, 8))\n",
    "plt.hist(pd.Series(stark_tree_y_pred_arr[0]), bins=range(-5,20), alpha=0.75, density=True, label='predicted')\n",
    "plt.hist(pd.Series(stark_tree_y_test_arr[0]), bins=range(-5,20), alpha=0.75, density=True, label='observed')\n",
    "plt.legend()\n",
    "plt.show()"
   ]
  },
  {
   "cell_type": "code",
   "execution_count": 56,
   "metadata": {
    "ExecuteTime": {
     "end_time": "2019-07-20T05:58:34.231122Z",
     "start_time": "2019-07-20T05:58:33.702036Z"
    },
    "hidden": true
   },
   "outputs": [
    {
     "data": {
      "image/png": "[encoded data removed]",
      "text/plain": [
       "<Figure size 720x576 with 1 Axes>"
      ]
     },
     "metadata": {
      "needs_background": "light"
     },
     "output_type": "display_data"
    }
   ],
   "source": [
    "plt.figure(figsize=(10, 8))\n",
    "plt.scatter(pd.Series(stark_tree_y_test_arr[0]), pd.Series(stark_tree_y_pred_arr[0]), alpha=0.1)\n",
    "plt.plot(np.linspace(-5, 25), np.linspace(-5, 25))\n",
    "plt.ylabel('Predicted total points')\n",
    "plt.xlabel('Observed total points')\n",
    "plt.ylim((-3, 12))\n",
    "plt.show()"
   ]
  },
  {
   "cell_type": "markdown",
   "metadata": {
    "heading_collapsed": true
   },
   "source": [
    "### Random forest (lush)"
   ]
  },
  {
   "cell_type": "code",
   "execution_count": 57,
   "metadata": {
    "ExecuteTime": {
     "end_time": "2019-07-20T06:25:17.418420Z",
     "start_time": "2019-07-20T05:58:34.235687Z"
    },
    "hidden": true
   },
   "outputs": [
    {
     "name": "stdout",
     "output_type": "stream",
     "text": [
      "(2.2493522771022296, 9.41746515753065, 0.08323454875801888)\n",
      "(0.0013054211876599995, 0.005485919481248648, 0.0005340398254282426)\n"
     ]
    }
   ],
   "source": [
    "lush_forest_test_loss_arr = []\n",
    "lush_forest_y_pred_arr = []\n",
    "lush_forest_y_test_arr = []\n",
    "lush_forest_df_test_arr = []\n",
    "\n",
    "for i in range(0, 11):\n",
    "    lush_forest_model = RandomForestRegressor(\n",
    "        n_estimators=120,\n",
    "        min_samples_leaf=0.015,\n",
    "        max_features=0.84,\n",
    "        random_state=i)\n",
    "    \n",
    "    lush_forest_y_pred, lush_forest_y_test, lush_forest_df_test = predict_test_set(\n",
    "        element_gameweek_df,\n",
    "        lush_forest_model,\n",
    "        standardise=False)\n",
    "    \n",
    "    lush_forest_test_loss = (\n",
    "        mean_absolute_error(lush_forest_y_test, lush_forest_y_pred),\n",
    "        mean_squared_error(lush_forest_y_test, lush_forest_y_pred),\n",
    "        r2_score(lush_forest_y_test, lush_forest_y_pred))\n",
    "    \n",
    "    lush_forest_test_loss_arr.append(lush_forest_test_loss)\n",
    "    lush_forest_y_pred_arr.append(lush_forest_y_pred)\n",
    "    lush_forest_y_test_arr.append(lush_forest_y_test)\n",
    "    lush_forest_df_test_arr.append(lush_forest_df_test)\n",
    "\n",
    "lush_forest_test_loss_mean = (\n",
    "    np.mean([i[0] for i in lush_forest_test_loss_arr]),\n",
    "    np.mean([i[1] for i in lush_forest_test_loss_arr]),\n",
    "    np.mean([i[2] for i in lush_forest_test_loss_arr])\n",
    ")\n",
    "\n",
    "lush_forest_test_loss_std = (\n",
    "    np.std([i[0] for i in lush_forest_test_loss_arr]),\n",
    "    np.std([i[1] for i in lush_forest_test_loss_arr]),\n",
    "    np.std([i[2] for i in lush_forest_test_loss_arr])\n",
    ")\n",
    "    \n",
    "print(lush_forest_test_loss_mean)\n",
    "print(lush_forest_test_loss_std)"
   ]
  },
  {
   "cell_type": "code",
   "execution_count": 58,
   "metadata": {
    "ExecuteTime": {
     "end_time": "2019-07-20T06:25:17.916720Z",
     "start_time": "2019-07-20T06:25:17.420835Z"
    },
    "hidden": true
   },
   "outputs": [
    {
     "data": {
      "image/png": "[encoded data removed]",
      "text/plain": [
       "<Figure size 720x576 with 1 Axes>"
      ]
     },
     "metadata": {
      "needs_background": "light"
     },
     "output_type": "display_data"
    }
   ],
   "source": [
    "plt.figure(figsize=(10, 8))\n",
    "plt.hist(pd.Series(lush_forest_y_pred_arr[0]), bins=range(-5,20), alpha=0.75, density=True, label='predicted')\n",
    "plt.hist(pd.Series(lush_forest_y_test_arr[0]), bins=range(-5,20), alpha=0.75, density=True, label='observed')\n",
    "plt.legend()\n",
    "plt.show()"
   ]
  },
  {
   "cell_type": "code",
   "execution_count": 59,
   "metadata": {
    "ExecuteTime": {
     "end_time": "2019-07-20T06:25:18.305303Z",
     "start_time": "2019-07-20T06:25:17.918940Z"
    },
    "hidden": true
   },
   "outputs": [
    {
     "data": {
      "image/png": "[encoded data removed]",
      "text/plain": [
       "<Figure size 720x576 with 1 Axes>"
      ]
     },
     "metadata": {
      "needs_background": "light"
     },
     "output_type": "display_data"
    }
   ],
   "source": [
    "plt.figure(figsize=(10, 8))\n",
    "plt.scatter(pd.Series(lush_forest_y_test_arr[0]), pd.Series(lush_forest_y_pred_arr[0]), alpha=0.1)\n",
    "plt.plot(np.linspace(-5, 25), np.linspace(-5, 25))\n",
    "plt.ylabel('Predicted total points')\n",
    "plt.xlabel('Observed total points')\n",
    "plt.ylim((-3, 12))\n",
    "plt.show()"
   ]
  },
  {
   "cell_type": "markdown",
   "metadata": {
    "heading_collapsed": true
   },
   "source": [
    "### Random forest (stark)"
   ]
  },
  {
   "cell_type": "code",
   "execution_count": 60,
   "metadata": {
    "ExecuteTime": {
     "end_time": "2019-07-20T06:25:18.312764Z",
     "start_time": "2019-07-20T06:25:18.307802Z"
    },
    "hidden": true
   },
   "outputs": [],
   "source": [
    "stark_forest_features = [\n",
    "    'value', 'is_late', 'rolling_avg_total_points_element',\n",
    "    'rolling_var_total_points_element', 'rolling_avg_minutes_element_p3',\n",
    "    'rolling_avg_bps_element', 'rolling_avg_bonus_element',\n",
    "    'rolling_avg_goals_scored_element', 'rolling_avg_minutes_element',\n",
    "    'rolling_avg_clean_sheets_element', 'rolling_avg_completed_passes_element',\n",
    "    'rolling_avg_recoveries_element', 'rolling_avg_key_passes_element',\n",
    "    'rolling_avg_tackled_element', 'rolling_avg_dribbles_element',\n",
    "    'rolling_avg_clearances_blocks_interceptions_element',\n",
    "    'rolling_avg_target_missed_element', 'rolling_avg_fouls_element',\n",
    "    'rolling_avg_tackles_element', 'rolling_avg_big_chances_missed_element',\n",
    "    'rolling_avg_goals_conceded_element',\n",
    "    'rolling_avg_total_points_element_type',\n",
    "    'rolling_avg_total_points_own_team',\n",
    "    'rolling_avg_total_points_opposition_team',\n",
    "    'rolling_avg_total_points_against_opposition_team',\n",
    "    'rolling_avg_total_points_against_opposition_team_element_type',\n",
    "    'expected_avg_total_points_against_opposition_team',\n",
    "    'expected_avg_total_points_at_ground'\n",
    "]"
   ]
  },
  {
   "cell_type": "code",
   "execution_count": 61,
   "metadata": {
    "ExecuteTime": {
     "end_time": "2019-07-20T06:38:17.589033Z",
     "start_time": "2019-07-20T06:25:18.314983Z"
    },
    "hidden": true
   },
   "outputs": [
    {
     "name": "stdout",
     "output_type": "stream",
     "text": [
      "(2.2499486050760966, 9.421637530014817, 0.08282837927618786)\n",
      "(0.0014273062285331216, 0.007622851394337685, 0.0007420645238801297)\n"
     ]
    }
   ],
   "source": [
    "stark_forest_test_loss_arr = []\n",
    "stark_forest_y_pred_arr = []\n",
    "stark_forest_y_test_arr = []\n",
    "stark_forest_df_test_arr = []\n",
    "\n",
    "for i in range(0, 11):\n",
    "    stark_forest_model = RandomForestRegressor(\n",
    "        n_estimators=120,\n",
    "        min_samples_leaf=0.0135,\n",
    "        max_features=0.73,\n",
    "        random_state=i)\n",
    "    \n",
    "    stark_forest_y_pred, stark_forest_y_test, stark_forest_df_test = predict_test_set(\n",
    "        element_gameweek_df,\n",
    "        stark_forest_model,\n",
    "        features=stark_forest_features,\n",
    "        standardise=False)\n",
    "    \n",
    "    stark_forest_test_loss = (\n",
    "        mean_absolute_error(stark_forest_y_test, stark_forest_y_pred),\n",
    "        mean_squared_error(stark_forest_y_test, stark_forest_y_pred),\n",
    "        r2_score(stark_forest_y_test, stark_forest_y_pred))\n",
    "    \n",
    "    stark_forest_test_loss_arr.append(stark_forest_test_loss)\n",
    "    stark_forest_y_pred_arr.append(stark_forest_y_pred)\n",
    "    stark_forest_y_test_arr.append(stark_forest_y_test)\n",
    "    stark_forest_df_test_arr.append(stark_forest_df_test)\n",
    "\n",
    "stark_forest_test_loss_mean = (\n",
    "    np.mean([i[0] for i in stark_forest_test_loss_arr]),\n",
    "    np.mean([i[1] for i in stark_forest_test_loss_arr]),\n",
    "    np.mean([i[2] for i in stark_forest_test_loss_arr])\n",
    ")\n",
    "\n",
    "stark_forest_test_loss_std = (\n",
    "    np.std([i[0] for i in stark_forest_test_loss_arr]),\n",
    "    np.std([i[1] for i in stark_forest_test_loss_arr]),\n",
    "    np.std([i[2] for i in stark_forest_test_loss_arr])\n",
    ")\n",
    "    \n",
    "print(stark_forest_test_loss_mean)\n",
    "print(stark_forest_test_loss_std)"
   ]
  },
  {
   "cell_type": "code",
   "execution_count": 62,
   "metadata": {
    "ExecuteTime": {
     "end_time": "2019-07-20T06:38:18.065280Z",
     "start_time": "2019-07-20T06:38:17.591287Z"
    },
    "hidden": true
   },
   "outputs": [
    {
     "data": {
      "image/png": "[encoded data removed]",
      "text/plain": [
       "<Figure size 720x576 with 1 Axes>"
      ]
     },
     "metadata": {
      "needs_background": "light"
     },
     "output_type": "display_data"
    }
   ],
   "source": [
    "plt.figure(figsize=(10, 8))\n",
    "plt.hist(pd.Series(stark_forest_y_pred_arr[0]), bins=range(-5,20), alpha=0.75, density=True, label='predicted')\n",
    "plt.hist(pd.Series(stark_forest_y_test_arr[0]), bins=range(-5,20), alpha=0.75, density=True, label='observed')\n",
    "plt.legend()\n",
    "plt.show()"
   ]
  },
  {
   "cell_type": "code",
   "execution_count": 63,
   "metadata": {
    "ExecuteTime": {
     "end_time": "2019-07-20T06:38:18.422217Z",
     "start_time": "2019-07-20T06:38:18.067450Z"
    },
    "hidden": true
   },
   "outputs": [
    {
     "data": {
      "image/png": "[encoded data removed]",
      "text/plain": [
       "<Figure size 720x576 with 1 Axes>"
      ]
     },
     "metadata": {
      "needs_background": "light"
     },
     "output_type": "display_data"
    }
   ],
   "source": [
    "plt.figure(figsize=(10, 8))\n",
    "plt.scatter(pd.Series(stark_forest_y_test_arr[0]), pd.Series(stark_forest_y_pred_arr[0]), alpha=0.1)\n",
    "plt.plot(np.linspace(-5, 25), np.linspace(-5, 25))\n",
    "plt.ylabel('Predicted total points')\n",
    "plt.xlabel('Observed total points')\n",
    "plt.ylim((-3, 12))\n",
    "plt.show()"
   ]
  },
  {
   "cell_type": "markdown",
   "metadata": {
    "heading_collapsed": true
   },
   "source": [
    "### Gradient boosted trees (lush)"
   ]
  },
  {
   "cell_type": "code",
   "execution_count": 64,
   "metadata": {
    "ExecuteTime": {
     "end_time": "2019-07-20T06:54:05.285989Z",
     "start_time": "2019-07-20T06:38:18.424443Z"
    },
    "hidden": true
   },
   "outputs": [
    {
     "name": "stdout",
     "output_type": "stream",
     "text": [
      "(2.2516297347563405, 9.396850249345256, 0.08524135582220882)\n",
      "(0.0015397383438278073, 0.007553625033223461, 0.0007353255197932244)\n"
     ]
    }
   ],
   "source": [
    "lush_boost_test_loss_arr = []\n",
    "lush_boost_y_pred_arr = []\n",
    "lush_boost_y_test_arr = []\n",
    "lush_boost_df_test_arr = []\n",
    "\n",
    "for i in range(0, 11):\n",
    "    lush_boost_model = GradientBoostingRegressor(\n",
    "        n_estimators=120,\n",
    "        max_features=0.61,\n",
    "        min_samples_leaf=0.015,\n",
    "        learning_rate=0.035,\n",
    "        criterion='mse',\n",
    "        random_state=i)\n",
    "    \n",
    "    lush_boost_y_pred, lush_boost_y_test, lush_boost_df_test = predict_test_set(\n",
    "        element_gameweek_df,\n",
    "        lush_boost_model,\n",
    "        standardise=False)\n",
    "    \n",
    "    lush_boost_test_loss = (\n",
    "        mean_absolute_error(lush_boost_y_test, lush_boost_y_pred),\n",
    "        mean_squared_error(lush_boost_y_test, lush_boost_y_pred),\n",
    "        r2_score(lush_boost_y_test, lush_boost_y_pred))\n",
    "    \n",
    "    lush_boost_test_loss_arr.append(lush_boost_test_loss)\n",
    "    lush_boost_y_pred_arr.append(lush_boost_y_pred)\n",
    "    lush_boost_y_test_arr.append(lush_boost_y_test)\n",
    "    lush_boost_df_test_arr.append(lush_boost_df_test)\n",
    "\n",
    "lush_boost_test_loss_mean = (\n",
    "    np.mean([i[0] for i in lush_boost_test_loss_arr]),\n",
    "    np.mean([i[1] for i in lush_boost_test_loss_arr]),\n",
    "    np.mean([i[2] for i in lush_boost_test_loss_arr])\n",
    ")\n",
    "\n",
    "lush_boost_test_loss_std = (\n",
    "    np.std([i[0] for i in lush_boost_test_loss_arr]),\n",
    "    np.std([i[1] for i in lush_boost_test_loss_arr]),\n",
    "    np.std([i[2] for i in lush_boost_test_loss_arr])\n",
    ")\n",
    "    \n",
    "print(lush_boost_test_loss_mean)\n",
    "print(lush_boost_test_loss_std)"
   ]
  },
  {
   "cell_type": "code",
   "execution_count": 65,
   "metadata": {
    "ExecuteTime": {
     "end_time": "2019-07-20T06:54:05.754102Z",
     "start_time": "2019-07-20T06:54:05.288196Z"
    },
    "hidden": true
   },
   "outputs": [
    {
     "data": {
      "image/png": "[encoded data removed]",
      "text/plain": [
       "<Figure size 720x576 with 1 Axes>"
      ]
     },
     "metadata": {
      "needs_background": "light"
     },
     "output_type": "display_data"
    }
   ],
   "source": [
    "plt.figure(figsize=(10, 8))\n",
    "plt.hist(pd.Series(lush_boost_y_pred_arr[0]), bins=range(-5,20), alpha=0.75, density=True, label='predicted')\n",
    "plt.hist(pd.Series(lush_boost_y_test_arr[0]), bins=range(-5,20), alpha=0.75, density=True, label='observed')\n",
    "plt.legend()\n",
    "plt.show()"
   ]
  },
  {
   "cell_type": "code",
   "execution_count": 66,
   "metadata": {
    "ExecuteTime": {
     "end_time": "2019-07-20T06:54:06.121338Z",
     "start_time": "2019-07-20T06:54:05.756263Z"
    },
    "hidden": true
   },
   "outputs": [
    {
     "data": {
      "image/png": "[encoded data removed]",
      "text/plain": [
       "<Figure size 720x576 with 1 Axes>"
      ]
     },
     "metadata": {
      "needs_background": "light"
     },
     "output_type": "display_data"
    }
   ],
   "source": [
    "plt.figure(figsize=(10, 8))\n",
    "plt.scatter(pd.Series(lush_boost_y_test_arr[0]), pd.Series(lush_boost_y_pred_arr[0]), alpha=0.1)\n",
    "plt.plot(np.linspace(-5, 25), np.linspace(-5, 25))\n",
    "plt.ylabel('Predicted total points')\n",
    "plt.xlabel('Observed total points')\n",
    "plt.ylim((-3, 12))\n",
    "plt.show()"
   ]
  },
  {
   "cell_type": "markdown",
   "metadata": {
    "heading_collapsed": true
   },
   "source": [
    "### Gradient boosted trees (stark)"
   ]
  },
  {
   "cell_type": "code",
   "execution_count": 67,
   "metadata": {
    "ExecuteTime": {
     "end_time": "2019-07-20T06:54:06.127159Z",
     "start_time": "2019-07-20T06:54:06.123477Z"
    },
    "hidden": true
   },
   "outputs": [],
   "source": [
    "stark_boost_features = [\n",
    "    'value', 'rolling_avg_minutes_element_p3', 'rolling_avg_minutes_element',\n",
    "    'rolling_avg_key_passes_element',\n",
    "    'rolling_avg_clearances_blocks_interceptions_element',\n",
    "    'rolling_avg_big_chances_missed_element',\n",
    "    'rolling_avg_total_points_own_team',\n",
    "    'rolling_avg_total_points_opposition_team',\n",
    "    'rolling_avg_total_points_against_opposition_team',\n",
    "    'rolling_avg_total_points_against_opposition_team_element_type',\n",
    "    'expected_avg_total_points_against_opposition_team',\n",
    "    'expected_avg_total_points_at_ground'\n",
    "]"
   ]
  },
  {
   "cell_type": "code",
   "execution_count": 68,
   "metadata": {
    "ExecuteTime": {
     "end_time": "2019-07-20T06:56:30.396318Z",
     "start_time": "2019-07-20T06:54:06.129383Z"
    },
    "hidden": true
   },
   "outputs": [
    {
     "name": "stdout",
     "output_type": "stream",
     "text": [
      "(2.2516206166705124, 9.42251897263653, 0.08274257315646016)\n",
      "(0.0009990995927601262, 0.007921661806543688, 0.000771152931195623)\n"
     ]
    }
   ],
   "source": [
    "stark_boost_test_loss_arr = []\n",
    "stark_boost_y_pred_arr = []\n",
    "stark_boost_y_test_arr = []\n",
    "stark_boost_df_test_arr = []\n",
    "\n",
    "for i in range(0, 11):\n",
    "    stark_boost_model = GradientBoostingRegressor(\n",
    "        n_estimators=120,\n",
    "        max_features=0.8,\n",
    "        min_samples_leaf=0.02,\n",
    "        learning_rate=0.05,\n",
    "        criterion='mse',\n",
    "        random_state=i)\n",
    "    \n",
    "    stark_boost_y_pred, stark_boost_y_test, stark_boost_df_test = predict_test_set(\n",
    "        element_gameweek_df,\n",
    "        stark_boost_model,\n",
    "        features=stark_boost_features,\n",
    "        standardise=False)\n",
    "    \n",
    "    stark_boost_test_loss = (\n",
    "        mean_absolute_error(stark_boost_y_test, stark_boost_y_pred),\n",
    "        mean_squared_error(stark_boost_y_test, stark_boost_y_pred),\n",
    "        r2_score(stark_boost_y_test, stark_boost_y_pred))\n",
    "    \n",
    "    stark_boost_test_loss_arr.append(stark_boost_test_loss)\n",
    "    stark_boost_y_pred_arr.append(stark_boost_y_pred)\n",
    "    stark_boost_y_test_arr.append(stark_boost_y_test)\n",
    "    stark_boost_df_test_arr.append(stark_boost_df_test)\n",
    "\n",
    "stark_boost_test_loss_mean = (\n",
    "    np.mean([i[0] for i in stark_boost_test_loss_arr]),\n",
    "    np.mean([i[1] for i in stark_boost_test_loss_arr]),\n",
    "    np.mean([i[2] for i in stark_boost_test_loss_arr])\n",
    ")\n",
    "\n",
    "stark_boost_test_loss_std = (\n",
    "    np.std([i[0] for i in stark_boost_test_loss_arr]),\n",
    "    np.std([i[1] for i in stark_boost_test_loss_arr]),\n",
    "    np.std([i[2] for i in stark_boost_test_loss_arr])\n",
    ")\n",
    "    \n",
    "print(stark_boost_test_loss_mean)\n",
    "print(stark_boost_test_loss_std)"
   ]
  },
  {
   "cell_type": "code",
   "execution_count": 69,
   "metadata": {
    "ExecuteTime": {
     "end_time": "2019-07-20T06:56:30.865773Z",
     "start_time": "2019-07-20T06:56:30.398630Z"
    },
    "hidden": true
   },
   "outputs": [
    {
     "data": {
      "image/png": "[encoded data removed]",
      "text/plain": [
       "<Figure size 720x576 with 1 Axes>"
      ]
     },
     "metadata": {
      "needs_background": "light"
     },
     "output_type": "display_data"
    }
   ],
   "source": [
    "plt.figure(figsize=(10, 8))\n",
    "plt.hist(pd.Series(stark_boost_y_pred_arr[0]), bins=range(-5,20), alpha=0.75, density=True, label='predicted')\n",
    "plt.hist(pd.Series(stark_boost_y_test_arr[0]), bins=range(-5,20), alpha=0.75, density=True, label='observed')\n",
    "plt.legend()\n",
    "plt.show()"
   ]
  },
  {
   "cell_type": "code",
   "execution_count": 70,
   "metadata": {
    "ExecuteTime": {
     "end_time": "2019-07-20T06:56:31.241926Z",
     "start_time": "2019-07-20T06:56:30.868114Z"
    },
    "hidden": true
   },
   "outputs": [
    {
     "data": {
      "image/png": "[encoded data removed]",
      "text/plain": [
       "<Figure size 720x576 with 1 Axes>"
      ]
     },
     "metadata": {
      "needs_background": "light"
     },
     "output_type": "display_data"
    }
   ],
   "source": [
    "plt.figure(figsize=(10, 8))\n",
    "plt.scatter(pd.Series(stark_boost_y_test_arr[0]), pd.Series(stark_boost_y_pred_arr[0]), alpha=0.1)\n",
    "plt.plot(np.linspace(-5, 25), np.linspace(-5, 25))\n",
    "plt.ylabel('Predicted total points')\n",
    "plt.xlabel('Observed total points')\n",
    "plt.ylim((-3, 12))\n",
    "plt.show()"
   ]
  },
  {
   "cell_type": "markdown",
   "metadata": {},
   "source": [
    "## Constructing teams"
   ]
  },
  {
   "cell_type": "markdown",
   "metadata": {
    "heading_collapsed": true
   },
   "source": [
    "### Linear regression"
   ]
  },
  {
   "cell_type": "code",
   "execution_count": 71,
   "metadata": {
    "ExecuteTime": {
     "end_time": "2019-07-20T06:56:34.255214Z",
     "start_time": "2019-07-20T06:56:31.244347Z"
    },
    "hidden": true
   },
   "outputs": [
    {
     "name": "stdout",
     "output_type": "stream",
     "text": [
      "predicting event 21\n",
      "predicting event 22\n",
      "predicting event 23\n",
      "predicting event 24\n",
      "predicting event 25\n",
      "predicting event 26\n",
      "predicting event 27\n",
      "predicting event 28\n",
      "predicting event 29\n",
      "predicting event 30\n",
      "predicting event 31\n",
      "predicting event 32\n",
      "predicting event 33\n",
      "predicting event 34\n",
      "predicting event 35\n",
      "predicting event 36\n",
      "predicting event 37\n",
      "predicting event 38\n"
     ]
    }
   ],
   "source": [
    "(\n",
    "    lr_first_team_arr,\n",
    "    lr_bench_arr,\n",
    "    lr_total_points_arr,\n",
    "    lr_predicted_total_points_arr,\n",
    "    lr_team_df_arr,\n",
    "    lr_transfers_arr\n",
    ") = \\\n",
    "construct_event_teams_from_existing(lr_df_test, verbose=1)"
   ]
  },
  {
   "cell_type": "code",
   "execution_count": 72,
   "metadata": {
    "ExecuteTime": {
     "end_time": "2019-07-20T06:56:34.261745Z",
     "start_time": "2019-07-20T06:56:34.257421Z"
    },
    "hidden": true
   },
   "outputs": [
    {
     "data": {
      "text/plain": [
       "686"
      ]
     },
     "execution_count": 72,
     "metadata": {},
     "output_type": "execute_result"
    }
   ],
   "source": [
    "lr_teams_total_points = sum(lr_total_points_arr)\n",
    "lr_teams_total_points"
   ]
  },
  {
   "cell_type": "markdown",
   "metadata": {},
   "source": [
    "### Ridge regression (lush)"
   ]
  },
  {
   "cell_type": "code",
   "execution_count": 73,
   "metadata": {
    "ExecuteTime": {
     "end_time": "2019-07-20T06:56:37.687808Z",
     "start_time": "2019-07-20T06:56:34.263554Z"
    }
   },
   "outputs": [
    {
     "name": "stdout",
     "output_type": "stream",
     "text": [
      "predicting event 21\n",
      "predicting event 22\n",
      "predicting event 23\n",
      "predicting event 24\n",
      "predicting event 25\n",
      "predicting event 26\n",
      "predicting event 27\n",
      "predicting event 28\n",
      "predicting event 29\n",
      "predicting event 30\n",
      "predicting event 31\n",
      "predicting event 32\n",
      "predicting event 33\n",
      "predicting event 34\n",
      "predicting event 35\n",
      "predicting event 36\n",
      "predicting event 37\n",
      "predicting event 38\n"
     ]
    }
   ],
   "source": [
    "(\n",
    "    lush_ridge_first_team_arr,\n",
    "    lush_ridge_bench_arr,\n",
    "    lush_ridge_total_points_arr,\n",
    "    lush_ridge_predicted_total_points_arr,\n",
    "    lush_ridge_team_df_arr,\n",
    "    lush_ridge_transfers_arr\n",
    ") = \\\n",
    "construct_event_teams_from_existing(lush_ridge_df_test, verbose=1)"
   ]
  },
  {
   "cell_type": "code",
   "execution_count": 74,
   "metadata": {
    "ExecuteTime": {
     "end_time": "2019-07-20T06:56:37.696239Z",
     "start_time": "2019-07-20T06:56:37.690952Z"
    }
   },
   "outputs": [
    {
     "data": {
      "text/plain": [
       "995"
      ]
     },
     "execution_count": 74,
     "metadata": {},
     "output_type": "execute_result"
    }
   ],
   "source": [
    "lush_ridge_teams_total_points = sum(lush_ridge_total_points_arr)\n",
    "lush_ridge_teams_total_points"
   ]
  },
  {
   "cell_type": "code",
   "execution_count": 95,
   "metadata": {
    "ExecuteTime": {
     "end_time": "2019-07-20T13:50:50.084890Z",
     "start_time": "2019-07-20T13:50:50.072382Z"
    }
   },
   "outputs": [
    {
     "data": {
      "text/plain": [
       "[48, 62, 51, 36, 90, 76, 25, 56, 31, 24, 7, 81, 50, 69, 65, 112, 58, 54]"
      ]
     },
     "execution_count": 95,
     "metadata": {},
     "output_type": "execute_result"
    }
   ],
   "source": [
    "lush_ridge_total_points_arr"
   ]
  },
  {
   "cell_type": "code",
   "execution_count": 94,
   "metadata": {
    "ExecuteTime": {
     "end_time": "2019-07-20T13:48:36.101838Z",
     "start_time": "2019-07-20T13:48:36.086923Z"
    }
   },
   "outputs": [
    {
     "data": {
      "text/plain": [
       "[[],\n",
       " [set(), set()],\n",
       " [set(), set()],\n",
       " [{8.0}, {425.0}],\n",
       " [{172.0, 270.0, 280.0}, {17.0, 23.0, 253.0}],\n",
       " [set(), set()],\n",
       " [{247.0, 253.0, 257.0, 364.0, 367.0, 425.0, 465.0, 482.0},\n",
       "  {115.0, 116.0, 122.0, 172.0, 270.0, 280.0, 391.0, 484.0}],\n",
       " [{343.0}, {465.0}],\n",
       " [{306.0}, {257.0}],\n",
       " [{220.0}, {8.0}],\n",
       " [{40.0, 122.0, 234.0, 251.0, 400.0, 465.0, 579.0},\n",
       "  {302.0, 306.0, 343.0, 364.0, 367.0, 425.0, 454.0}],\n",
       " [{113.0, 142.0, 270.0, 271.0, 276.0}, {234.0, 251.0, 253.0, 465.0, 482.0}],\n",
       " [{43.0, 172.0, 234.0, 251.0, 253.0}, {220.0, 270.0, 271.0, 276.0, 579.0}],\n",
       " [{49.0}, {234.0}],\n",
       " [{270.0}, {122.0}],\n",
       " [set(), set()],\n",
       " [{430.0}, {49.0}],\n",
       " [{330.0}, {142.0}]]"
      ]
     },
     "execution_count": 94,
     "metadata": {},
     "output_type": "execute_result"
    }
   ],
   "source": [
    "lush_ridge_transfers_arr"
   ]
  },
  {
   "cell_type": "code",
   "execution_count": 100,
   "metadata": {
    "ExecuteTime": {
     "end_time": "2019-07-25T16:41:32.861957Z",
     "start_time": "2019-07-25T16:41:32.828195Z"
    }
   },
   "outputs": [
    {
     "data": {
      "text/html": [
       "<div>\n",
       "<style scoped>\n",
       "    .dataframe tbody tr th:only-of-type {\n",
       "        vertical-align: middle;\n",
       "    }\n",
       "\n",
       "    .dataframe tbody tr th {\n",
       "        vertical-align: top;\n",
       "    }\n",
       "\n",
       "    .dataframe thead th {\n",
       "        text-align: right;\n",
       "    }\n",
       "</style>\n",
       "<table border=\"1\" class=\"dataframe\">\n",
       "  <thead>\n",
       "    <tr style=\"text-align: right;\">\n",
       "      <th></th>\n",
       "      <th>safe_web_name</th>\n",
       "      <th>element</th>\n",
       "      <th>value</th>\n",
       "      <th>element_type</th>\n",
       "      <th>is_first_team</th>\n",
       "      <th>predicted_total_points</th>\n",
       "      <th>total_points</th>\n",
       "      <th>minutes</th>\n",
       "      <th>is_captain</th>\n",
       "    </tr>\n",
       "  </thead>\n",
       "  <tbody>\n",
       "    <tr>\n",
       "      <th>9613</th>\n",
       "      <td>salah</td>\n",
       "      <td>253</td>\n",
       "      <td>132</td>\n",
       "      <td>3</td>\n",
       "      <td>1</td>\n",
       "      <td>7.076982</td>\n",
       "      <td>3</td>\n",
       "      <td>90</td>\n",
       "      <td>1</td>\n",
       "    </tr>\n",
       "    <tr>\n",
       "      <th>10259</th>\n",
       "      <td>sterling</td>\n",
       "      <td>270</td>\n",
       "      <td>117</td>\n",
       "      <td>3</td>\n",
       "      <td>1</td>\n",
       "      <td>5.968216</td>\n",
       "      <td>5</td>\n",
       "      <td>90</td>\n",
       "      <td>0</td>\n",
       "    </tr>\n",
       "    <tr>\n",
       "      <th>9537</th>\n",
       "      <td>mane</td>\n",
       "      <td>251</td>\n",
       "      <td>103</td>\n",
       "      <td>3</td>\n",
       "      <td>1</td>\n",
       "      <td>5.756733</td>\n",
       "      <td>15</td>\n",
       "      <td>90</td>\n",
       "      <td>0</td>\n",
       "    </tr>\n",
       "    <tr>\n",
       "      <th>9385</th>\n",
       "      <td>robertson</td>\n",
       "      <td>247</td>\n",
       "      <td>67</td>\n",
       "      <td>2</td>\n",
       "      <td>1</td>\n",
       "      <td>4.811505</td>\n",
       "      <td>6</td>\n",
       "      <td>83</td>\n",
       "      <td>0</td>\n",
       "    </tr>\n",
       "    <tr>\n",
       "      <th>1633</th>\n",
       "      <td>wilson</td>\n",
       "      <td>43</td>\n",
       "      <td>69</td>\n",
       "      <td>4</td>\n",
       "      <td>1</td>\n",
       "      <td>4.480270</td>\n",
       "      <td>2</td>\n",
       "      <td>90</td>\n",
       "      <td>0</td>\n",
       "    </tr>\n",
       "    <tr>\n",
       "      <th>6535</th>\n",
       "      <td>sigurdsson</td>\n",
       "      <td>172</td>\n",
       "      <td>74</td>\n",
       "      <td>3</td>\n",
       "      <td>1</td>\n",
       "      <td>4.073800</td>\n",
       "      <td>5</td>\n",
       "      <td>90</td>\n",
       "      <td>0</td>\n",
       "    </tr>\n",
       "    <tr>\n",
       "      <th>1519</th>\n",
       "      <td>fraser</td>\n",
       "      <td>40</td>\n",
       "      <td>64</td>\n",
       "      <td>3</td>\n",
       "      <td>1</td>\n",
       "      <td>3.959262</td>\n",
       "      <td>2</td>\n",
       "      <td>90</td>\n",
       "      <td>0</td>\n",
       "    </tr>\n",
       "    <tr>\n",
       "      <th>4293</th>\n",
       "      <td>azpilicueta</td>\n",
       "      <td>113</td>\n",
       "      <td>64</td>\n",
       "      <td>2</td>\n",
       "      <td>1</td>\n",
       "      <td>3.557674</td>\n",
       "      <td>6</td>\n",
       "      <td>90</td>\n",
       "      <td>0</td>\n",
       "    </tr>\n",
       "    <tr>\n",
       "      <th>12539</th>\n",
       "      <td>bertrand</td>\n",
       "      <td>330</td>\n",
       "      <td>48</td>\n",
       "      <td>2</td>\n",
       "      <td>1</td>\n",
       "      <td>3.427767</td>\n",
       "      <td>2</td>\n",
       "      <td>90</td>\n",
       "      <td>0</td>\n",
       "    </tr>\n",
       "    <tr>\n",
       "      <th>15199</th>\n",
       "      <td>fabianski</td>\n",
       "      <td>400</td>\n",
       "      <td>47</td>\n",
       "      <td>1</td>\n",
       "      <td>1</td>\n",
       "      <td>3.245143</td>\n",
       "      <td>4</td>\n",
       "      <td>90</td>\n",
       "      <td>0</td>\n",
       "    </tr>\n",
       "    <tr>\n",
       "      <th>16339</th>\n",
       "      <td>coady</td>\n",
       "      <td>430</td>\n",
       "      <td>45</td>\n",
       "      <td>2</td>\n",
       "      <td>1</td>\n",
       "      <td>2.050350</td>\n",
       "      <td>1</td>\n",
       "      <td>90</td>\n",
       "      <td>0</td>\n",
       "    </tr>\n",
       "    <tr>\n",
       "      <th>1215</th>\n",
       "      <td>simpson</td>\n",
       "      <td>32</td>\n",
       "      <td>39</td>\n",
       "      <td>2</td>\n",
       "      <td>0</td>\n",
       "      <td>1.769347</td>\n",
       "      <td>-2</td>\n",
       "      <td>69</td>\n",
       "      <td>0</td>\n",
       "    </tr>\n",
       "    <tr>\n",
       "      <th>4141</th>\n",
       "      <td>madine</td>\n",
       "      <td>109</td>\n",
       "      <td>44</td>\n",
       "      <td>4</td>\n",
       "      <td>0</td>\n",
       "      <td>0.000000</td>\n",
       "      <td>0</td>\n",
       "      <td>0</td>\n",
       "      <td>0</td>\n",
       "    </tr>\n",
       "    <tr>\n",
       "      <th>5167</th>\n",
       "      <td>speroni</td>\n",
       "      <td>136</td>\n",
       "      <td>39</td>\n",
       "      <td>1</td>\n",
       "      <td>0</td>\n",
       "      <td>0.000000</td>\n",
       "      <td>0</td>\n",
       "      <td>0</td>\n",
       "      <td>0</td>\n",
       "    </tr>\n",
       "    <tr>\n",
       "      <th>7941</th>\n",
       "      <td>quaner</td>\n",
       "      <td>209</td>\n",
       "      <td>43</td>\n",
       "      <td>4</td>\n",
       "      <td>0</td>\n",
       "      <td>0.000000</td>\n",
       "      <td>0</td>\n",
       "      <td>0</td>\n",
       "      <td>0</td>\n",
       "    </tr>\n",
       "  </tbody>\n",
       "</table>\n",
       "</div>"
      ],
      "text/plain": [
       "      safe_web_name  element  value  element_type  is_first_team  \\\n",
       "9613          salah      253    132             3              1   \n",
       "10259      sterling      270    117             3              1   \n",
       "9537           mane      251    103             3              1   \n",
       "9385      robertson      247     67             2              1   \n",
       "1633         wilson       43     69             4              1   \n",
       "6535     sigurdsson      172     74             3              1   \n",
       "1519         fraser       40     64             3              1   \n",
       "4293    azpilicueta      113     64             2              1   \n",
       "12539      bertrand      330     48             2              1   \n",
       "15199     fabianski      400     47             1              1   \n",
       "16339         coady      430     45             2              1   \n",
       "1215        simpson       32     39             2              0   \n",
       "4141         madine      109     44             4              0   \n",
       "5167        speroni      136     39             1              0   \n",
       "7941         quaner      209     43             4              0   \n",
       "\n",
       "       predicted_total_points  total_points  minutes  is_captain  \n",
       "9613                 7.076982             3       90           1  \n",
       "10259                5.968216             5       90           0  \n",
       "9537                 5.756733            15       90           0  \n",
       "9385                 4.811505             6       83           0  \n",
       "1633                 4.480270             2       90           0  \n",
       "6535                 4.073800             5       90           0  \n",
       "1519                 3.959262             2       90           0  \n",
       "4293                 3.557674             6       90           0  \n",
       "12539                3.427767             2       90           0  \n",
       "15199                3.245143             4       90           0  \n",
       "16339                2.050350             1       90           0  \n",
       "1215                 1.769347            -2       69           0  \n",
       "4141                 0.000000             0        0           0  \n",
       "5167                 0.000000             0        0           0  \n",
       "7941                 0.000000             0        0           0  "
      ]
     },
     "execution_count": 100,
     "metadata": {},
     "output_type": "execute_result"
    }
   ],
   "source": [
    "lush_ridge_team_df_arr[-1]"
   ]
  },
  {
   "cell_type": "markdown",
   "metadata": {
    "heading_collapsed": true
   },
   "source": [
    "### Ridge regression (stark)"
   ]
  },
  {
   "cell_type": "code",
   "execution_count": 75,
   "metadata": {
    "ExecuteTime": {
     "end_time": "2019-07-20T06:56:40.756689Z",
     "start_time": "2019-07-20T06:56:37.699037Z"
    },
    "hidden": true
   },
   "outputs": [
    {
     "name": "stdout",
     "output_type": "stream",
     "text": [
      "predicting event 21\n",
      "predicting event 22\n",
      "predicting event 23\n",
      "predicting event 24\n",
      "predicting event 25\n",
      "predicting event 26\n",
      "predicting event 27\n",
      "predicting event 28\n",
      "predicting event 29\n",
      "predicting event 30\n",
      "predicting event 31\n",
      "predicting event 32\n",
      "predicting event 33\n",
      "predicting event 34\n",
      "predicting event 35\n",
      "predicting event 36\n",
      "predicting event 37\n",
      "predicting event 38\n"
     ]
    }
   ],
   "source": [
    "(\n",
    "    stark_ridge_first_team_arr,\n",
    "    stark_ridge_bench_arr,\n",
    "    stark_ridge_total_points_arr,\n",
    "    stark_ridge_predicted_total_points_arr,\n",
    "    stark_ridge_team_df_arr,\n",
    "    stark_ridge_transfers_arr\n",
    ") = \\\n",
    "construct_event_teams_from_existing(stark_ridge_df_test, verbose=1)"
   ]
  },
  {
   "cell_type": "code",
   "execution_count": 76,
   "metadata": {
    "ExecuteTime": {
     "end_time": "2019-07-20T06:56:40.763324Z",
     "start_time": "2019-07-20T06:56:40.758939Z"
    },
    "hidden": true
   },
   "outputs": [
    {
     "data": {
      "text/plain": [
       "986"
      ]
     },
     "execution_count": 76,
     "metadata": {},
     "output_type": "execute_result"
    }
   ],
   "source": [
    "stark_ridge_teams_total_points = sum(stark_ridge_total_points_arr)\n",
    "stark_ridge_teams_total_points"
   ]
  },
  {
   "cell_type": "markdown",
   "metadata": {
    "heading_collapsed": true
   },
   "source": [
    "### Lasso regression"
   ]
  },
  {
   "cell_type": "code",
   "execution_count": 77,
   "metadata": {
    "ExecuteTime": {
     "end_time": "2019-07-20T06:56:43.834801Z",
     "start_time": "2019-07-20T06:56:40.765191Z"
    },
    "hidden": true
   },
   "outputs": [
    {
     "name": "stdout",
     "output_type": "stream",
     "text": [
      "predicting event 21\n",
      "predicting event 22\n",
      "predicting event 23\n",
      "predicting event 24\n",
      "predicting event 25\n",
      "predicting event 26\n",
      "predicting event 27\n",
      "predicting event 28\n",
      "predicting event 29\n",
      "predicting event 30\n",
      "predicting event 31\n",
      "predicting event 32\n",
      "predicting event 33\n",
      "predicting event 34\n",
      "predicting event 35\n",
      "predicting event 36\n",
      "predicting event 37\n",
      "predicting event 38\n"
     ]
    }
   ],
   "source": [
    "(\n",
    "    lasso_first_team_arr,\n",
    "    lasso_bench_arr,\n",
    "    lasso_total_points_arr,\n",
    "    lasso_predicted_total_points_arr,\n",
    "    lasso_team_df_arr,\n",
    "    lasso_transfers_arr\n",
    ") = \\\n",
    "construct_event_teams_from_existing(lasso_df_test, verbose=1)"
   ]
  },
  {
   "cell_type": "code",
   "execution_count": 78,
   "metadata": {
    "ExecuteTime": {
     "end_time": "2019-07-20T06:56:43.840905Z",
     "start_time": "2019-07-20T06:56:43.837031Z"
    },
    "hidden": true
   },
   "outputs": [
    {
     "data": {
      "text/plain": [
       "948"
      ]
     },
     "execution_count": 78,
     "metadata": {},
     "output_type": "execute_result"
    }
   ],
   "source": [
    "lasso_teams_total_points = sum(lasso_total_points_arr)\n",
    "lasso_teams_total_points"
   ]
  },
  {
   "cell_type": "markdown",
   "metadata": {
    "heading_collapsed": true
   },
   "source": [
    "### Radial basis SVM regression"
   ]
  },
  {
   "cell_type": "code",
   "execution_count": 79,
   "metadata": {
    "ExecuteTime": {
     "end_time": "2019-07-20T06:56:46.932767Z",
     "start_time": "2019-07-20T06:56:43.842939Z"
    },
    "hidden": true
   },
   "outputs": [
    {
     "name": "stdout",
     "output_type": "stream",
     "text": [
      "predicting event 21\n",
      "predicting event 22\n",
      "predicting event 23\n",
      "predicting event 24\n",
      "predicting event 25\n",
      "predicting event 26\n",
      "predicting event 27\n",
      "predicting event 28\n",
      "predicting event 29\n",
      "predicting event 30\n",
      "predicting event 31\n",
      "predicting event 32\n",
      "predicting event 33\n",
      "predicting event 34\n",
      "predicting event 35\n",
      "predicting event 36\n",
      "predicting event 37\n",
      "predicting event 38\n"
     ]
    }
   ],
   "source": [
    "(\n",
    "    rbf_svr_first_team_arr,\n",
    "    rbf_svr_bench_arr,\n",
    "    rbf_svr_total_points_arr,\n",
    "    rbf_svr_predicted_total_points_arr,\n",
    "    rbf_svr_team_df_arr,\n",
    "    rbf_svr_transfers_arr\n",
    ") = \\\n",
    "construct_event_teams_from_existing(rbf_svr_df_test, verbose=1)"
   ]
  },
  {
   "cell_type": "code",
   "execution_count": 80,
   "metadata": {
    "ExecuteTime": {
     "end_time": "2019-07-20T06:56:46.939048Z",
     "start_time": "2019-07-20T06:56:46.935073Z"
    },
    "hidden": true
   },
   "outputs": [
    {
     "data": {
      "text/plain": [
       "968"
      ]
     },
     "execution_count": 80,
     "metadata": {},
     "output_type": "execute_result"
    }
   ],
   "source": [
    "rbf_svr_teams_total_points = sum(rbf_svr_total_points_arr)\n",
    "rbf_svr_teams_total_points"
   ]
  },
  {
   "cell_type": "markdown",
   "metadata": {
    "heading_collapsed": true
   },
   "source": [
    "### Linear basis SVM regression"
   ]
  },
  {
   "cell_type": "code",
   "execution_count": 81,
   "metadata": {
    "ExecuteTime": {
     "end_time": "2019-07-20T06:56:50.765369Z",
     "start_time": "2019-07-20T06:56:46.941086Z"
    },
    "hidden": true
   },
   "outputs": [
    {
     "name": "stdout",
     "output_type": "stream",
     "text": [
      "predicting event 21\n",
      "predicting event 22\n",
      "predicting event 23\n",
      "predicting event 24\n",
      "predicting event 25\n",
      "predicting event 26\n",
      "predicting event 27\n",
      "predicting event 28\n",
      "predicting event 29\n",
      "predicting event 30\n",
      "predicting event 31\n",
      "predicting event 32\n",
      "predicting event 33\n",
      "predicting event 34\n",
      "predicting event 35\n",
      "predicting event 36\n",
      "predicting event 37\n",
      "predicting event 38\n"
     ]
    }
   ],
   "source": [
    "(\n",
    "    linear_svr_first_team_arr,\n",
    "    linear_svr_bench_arr,\n",
    "    linear_svr_total_points_arr,\n",
    "    linear_svr_predicted_total_points_arr,\n",
    "    linear_svr_team_df_arr,\n",
    "    linear_svr_transfers_arr\n",
    ") = \\\n",
    "construct_event_teams_from_existing(linear_svr_df_test, verbose=1)"
   ]
  },
  {
   "cell_type": "code",
   "execution_count": 82,
   "metadata": {
    "ExecuteTime": {
     "end_time": "2019-07-20T06:56:50.773125Z",
     "start_time": "2019-07-20T06:56:50.768276Z"
    },
    "hidden": true
   },
   "outputs": [
    {
     "data": {
      "text/plain": [
       "976"
      ]
     },
     "execution_count": 82,
     "metadata": {},
     "output_type": "execute_result"
    }
   ],
   "source": [
    "linear_svr_teams_total_points = sum(linear_svr_total_points_arr)\n",
    "linear_svr_teams_total_points"
   ]
  },
  {
   "cell_type": "markdown",
   "metadata": {
    "heading_collapsed": true
   },
   "source": [
    "### Decision tree (lush)"
   ]
  },
  {
   "cell_type": "code",
   "execution_count": 83,
   "metadata": {
    "ExecuteTime": {
     "end_time": "2019-07-20T06:57:23.927296Z",
     "start_time": "2019-07-20T06:56:50.775600Z"
    },
    "hidden": true
   },
   "outputs": [
    {
     "name": "stdout",
     "output_type": "stream",
     "text": [
      "925.4545454545455\n",
      "42.99336869874371\n"
     ]
    }
   ],
   "source": [
    "lush_tree_teams_total_points_arr = []\n",
    "\n",
    "for i in range(0, len(lush_tree_df_test_arr)):\n",
    "    (\n",
    "        lush_tree_first_team_arr,\n",
    "        lush_tree_bench_arr,\n",
    "        lush_tree_total_points_arr,\n",
    "        lush_tree_predicted_total_points_arr,\n",
    "        lush_tree_team_df_arr,\n",
    "        lush_tree_transfers_arr\n",
    "    ) = \\\n",
    "    construct_event_teams_from_existing(lush_tree_df_test_arr[i], verbose=0)\n",
    "    \n",
    "    lush_tree_teams_total_points = sum(lush_tree_total_points_arr)\n",
    "    lush_tree_teams_total_points_arr.append(lush_tree_teams_total_points)\n",
    "\n",
    "lush_tree_teams_total_points_mean = np.mean(lush_tree_teams_total_points_arr) \n",
    "lush_tree_teams_total_points_std = np.std(lush_tree_teams_total_points_arr)\n",
    "    \n",
    "print(lush_tree_teams_total_points_mean)\n",
    "print(lush_tree_teams_total_points_std)"
   ]
  },
  {
   "cell_type": "markdown",
   "metadata": {
    "heading_collapsed": true
   },
   "source": [
    "### Decision tree (stark)"
   ]
  },
  {
   "cell_type": "code",
   "execution_count": 84,
   "metadata": {
    "ExecuteTime": {
     "end_time": "2019-07-20T06:58:00.462390Z",
     "start_time": "2019-07-20T06:57:23.929592Z"
    },
    "hidden": true
   },
   "outputs": [
    {
     "name": "stdout",
     "output_type": "stream",
     "text": [
      "960.0\n",
      "0.0\n"
     ]
    }
   ],
   "source": [
    "stark_tree_teams_total_points_arr = []\n",
    "\n",
    "for i in range(0, len(stark_tree_df_test_arr)):\n",
    "    (\n",
    "        stark_tree_first_team_arr,\n",
    "        stark_tree_bench_arr,\n",
    "        stark_tree_total_points_arr,\n",
    "        stark_tree_predicted_total_points_arr,\n",
    "        stark_tree_team_df_arr,\n",
    "        stark_tree_transfers_arr\n",
    "    ) = \\\n",
    "    construct_event_teams_from_existing(stark_tree_df_test_arr[i], verbose=0)\n",
    "    \n",
    "    stark_tree_teams_total_points = sum(stark_tree_total_points_arr)\n",
    "    stark_tree_teams_total_points_arr.append(stark_tree_teams_total_points)\n",
    "\n",
    "stark_tree_teams_total_points_mean = np.mean(stark_tree_teams_total_points_arr) \n",
    "stark_tree_teams_total_points_std = np.std(stark_tree_teams_total_points_arr)\n",
    "    \n",
    "print(stark_tree_teams_total_points_mean)\n",
    "print(stark_tree_teams_total_points_std)"
   ]
  },
  {
   "cell_type": "markdown",
   "metadata": {
    "heading_collapsed": true
   },
   "source": [
    "### Random forest (lush)"
   ]
  },
  {
   "cell_type": "code",
   "execution_count": 85,
   "metadata": {
    "ExecuteTime": {
     "end_time": "2019-07-20T06:58:40.740456Z",
     "start_time": "2019-07-20T06:58:00.469954Z"
    },
    "hidden": true
   },
   "outputs": [
    {
     "name": "stdout",
     "output_type": "stream",
     "text": [
      "889.8181818181819\n",
      "29.743809690018413\n"
     ]
    }
   ],
   "source": [
    "lush_forest_teams_total_points_arr = []\n",
    "\n",
    "for i in range(0, len(lush_forest_df_test_arr)):\n",
    "    (\n",
    "        lush_forest_first_team_arr,\n",
    "        lush_forest_bench_arr,\n",
    "        lush_forest_total_points_arr,\n",
    "        lush_forest_predicted_total_points_arr,\n",
    "        lush_forest_team_df_arr,\n",
    "        lush_forest_transfers_arr\n",
    "    ) = \\\n",
    "    construct_event_teams_from_existing(lush_forest_df_test_arr[i], verbose=0)\n",
    "    \n",
    "    lush_forest_teams_total_points = sum(lush_forest_total_points_arr)\n",
    "    lush_forest_teams_total_points_arr.append(lush_forest_teams_total_points)\n",
    "\n",
    "lush_forest_teams_total_points_mean = np.mean(lush_forest_teams_total_points_arr) \n",
    "lush_forest_teams_total_points_std = np.std(lush_forest_teams_total_points_arr)\n",
    "    \n",
    "print(lush_forest_teams_total_points_mean)\n",
    "print(lush_forest_teams_total_points_std)"
   ]
  },
  {
   "cell_type": "markdown",
   "metadata": {
    "heading_collapsed": true
   },
   "source": [
    "### Random forest (stark)"
   ]
  },
  {
   "cell_type": "code",
   "execution_count": 86,
   "metadata": {
    "ExecuteTime": {
     "end_time": "2019-07-20T06:59:20.974590Z",
     "start_time": "2019-07-20T06:58:40.743522Z"
    },
    "hidden": true
   },
   "outputs": [
    {
     "name": "stdout",
     "output_type": "stream",
     "text": [
      "905.8181818181819\n",
      "42.26930582439263\n"
     ]
    }
   ],
   "source": [
    "stark_forest_teams_total_points_arr = []\n",
    "\n",
    "for i in range(0, len(stark_forest_df_test_arr)):\n",
    "    (\n",
    "        stark_forest_first_team_arr,\n",
    "        stark_forest_bench_arr,\n",
    "        stark_forest_total_points_arr,\n",
    "        stark_forest_predicted_total_points_arr,\n",
    "        stark_forest_team_df_arr,\n",
    "        stark_forest_transfers_arr\n",
    "    ) = \\\n",
    "    construct_event_teams_from_existing(stark_forest_df_test_arr[i], verbose=0)\n",
    "    \n",
    "    stark_forest_teams_total_points = sum(stark_forest_total_points_arr)\n",
    "    stark_forest_teams_total_points_arr.append(stark_forest_teams_total_points)\n",
    "\n",
    "stark_forest_teams_total_points_mean = np.mean(stark_forest_teams_total_points_arr) \n",
    "stark_forest_teams_total_points_std = np.std(stark_forest_teams_total_points_arr)\n",
    "    \n",
    "print(stark_forest_teams_total_points_mean)\n",
    "print(stark_forest_teams_total_points_std)"
   ]
  },
  {
   "cell_type": "markdown",
   "metadata": {
    "heading_collapsed": true
   },
   "source": [
    "### Gradient boosted trees (lush)"
   ]
  },
  {
   "cell_type": "code",
   "execution_count": 87,
   "metadata": {
    "ExecuteTime": {
     "end_time": "2019-07-20T06:59:58.316434Z",
     "start_time": "2019-07-20T06:59:20.977895Z"
    },
    "hidden": true
   },
   "outputs": [
    {
     "name": "stdout",
     "output_type": "stream",
     "text": [
      "916.0909090909091\n",
      "36.82255866240532\n"
     ]
    }
   ],
   "source": [
    "lush_boost_teams_total_points_arr = []\n",
    "\n",
    "for i in range(0, len(lush_boost_df_test_arr)):\n",
    "    (\n",
    "        lush_boost_first_team_arr,\n",
    "        lush_boost_bench_arr,\n",
    "        lush_boost_total_points_arr,\n",
    "        lush_boost_predicted_total_points_arr,\n",
    "        lush_boost_team_df_arr,\n",
    "        lush_boost_transfers_arr\n",
    "    ) = \\\n",
    "    construct_event_teams_from_existing(lush_boost_df_test_arr[i], verbose=0)\n",
    "    \n",
    "    lush_boost_teams_total_points = sum(lush_boost_total_points_arr)\n",
    "    lush_boost_teams_total_points_arr.append(lush_boost_teams_total_points)\n",
    "\n",
    "lush_boost_teams_total_points_mean = np.mean(lush_boost_teams_total_points_arr) \n",
    "lush_boost_teams_total_points_std = np.std(lush_boost_teams_total_points_arr)\n",
    "    \n",
    "print(lush_boost_teams_total_points_mean)\n",
    "print(lush_boost_teams_total_points_std)"
   ]
  },
  {
   "cell_type": "markdown",
   "metadata": {
    "heading_collapsed": true
   },
   "source": [
    "### Gradient boosted trees (stark)"
   ]
  },
  {
   "cell_type": "code",
   "execution_count": 88,
   "metadata": {
    "ExecuteTime": {
     "end_time": "2019-07-20T07:00:36.909481Z",
     "start_time": "2019-07-20T06:59:58.319162Z"
    },
    "hidden": true
   },
   "outputs": [
    {
     "name": "stdout",
     "output_type": "stream",
     "text": [
      "887.1818181818181\n",
      "27.412068283938478\n"
     ]
    }
   ],
   "source": [
    "stark_boost_teams_total_points_arr = []\n",
    "\n",
    "for i in range(0, len(stark_boost_df_test_arr)):\n",
    "    (\n",
    "        stark_boost_first_team_arr,\n",
    "        stark_boost_bench_arr,\n",
    "        stark_boost_total_points_arr,\n",
    "        stark_boost_predicted_total_points_arr,\n",
    "        stark_boost_team_df_arr,\n",
    "        stark_boost_transfers_arr\n",
    "    ) = \\\n",
    "    construct_event_teams_from_existing(stark_boost_df_test_arr[i], verbose=0)\n",
    "    \n",
    "    stark_boost_teams_total_points = sum(stark_boost_total_points_arr)\n",
    "    stark_boost_teams_total_points_arr.append(stark_boost_teams_total_points)\n",
    "\n",
    "stark_boost_teams_total_points_mean = np.mean(stark_boost_teams_total_points_arr) \n",
    "stark_boost_teams_total_points_std = np.std(stark_boost_teams_total_points_arr)\n",
    "    \n",
    "print(stark_boost_teams_total_points_mean)\n",
    "print(stark_boost_teams_total_points_std)"
   ]
  },
  {
   "cell_type": "markdown",
   "metadata": {
    "heading_collapsed": true
   },
   "source": [
    "### Random benchmark"
   ]
  },
  {
   "cell_type": "code",
   "execution_count": 89,
   "metadata": {
    "ExecuteTime": {
     "end_time": "2019-07-20T07:00:36.924781Z",
     "start_time": "2019-07-20T07:00:36.921349Z"
    },
    "hidden": true
   },
   "outputs": [],
   "source": [
    "random_benchmark_df_test = stark_boost_df_test.copy()"
   ]
  },
  {
   "cell_type": "code",
   "execution_count": 90,
   "metadata": {
    "ExecuteTime": {
     "end_time": "2019-07-20T07:00:36.978723Z",
     "start_time": "2019-07-20T07:00:36.927129Z"
    },
    "hidden": true
   },
   "outputs": [],
   "source": [
    "random_benchmark_df_test['predicted_total_points'] = \\\n",
    "np.random.random(len(stark_boost_df_test['predicted_total_points'])) * 7"
   ]
  },
  {
   "cell_type": "code",
   "execution_count": 91,
   "metadata": {
    "ExecuteTime": {
     "end_time": "2019-07-20T07:01:15.780466Z",
     "start_time": "2019-07-20T07:00:36.980896Z"
    },
    "hidden": true
   },
   "outputs": [
    {
     "name": "stdout",
     "output_type": "stream",
     "text": [
      "376.0\n",
      "0.0\n"
     ]
    }
   ],
   "source": [
    "random_benchmark_teams_total_points_arr = []\n",
    "\n",
    "for i in range(0, 11):\n",
    "    (\n",
    "        random_benchmark_first_team_arr,\n",
    "        random_benchmark_bench_arr,\n",
    "        random_benchmark_total_points_arr,\n",
    "        random_benchmark_predicted_total_points_arr,\n",
    "        random_benchmark_team_df_arr,\n",
    "        random_benchmark_transfers_arr\n",
    "    ) = \\\n",
    "    construct_event_teams_from_existing(random_benchmark_df_test, verbose=0)\n",
    "    \n",
    "    random_benchmark_teams_total_points = sum(random_benchmark_total_points_arr)\n",
    "    random_benchmark_teams_total_points_arr.append(random_benchmark_teams_total_points)\n",
    "\n",
    "random_benchmark_teams_total_points_mean = np.mean(random_benchmark_teams_total_points_arr) \n",
    "random_benchmark_teams_total_points_std = np.std(random_benchmark_teams_total_points_arr)\n",
    "    \n",
    "print(random_benchmark_teams_total_points_mean)\n",
    "print(random_benchmark_teams_total_points_std)"
   ]
  },
  {
   "cell_type": "markdown",
   "metadata": {
    "heading_collapsed": true
   },
   "source": [
    "## Summary"
   ]
  },
  {
   "cell_type": "code",
   "execution_count": 92,
   "metadata": {
    "ExecuteTime": {
     "end_time": "2019-07-20T07:01:15.805807Z",
     "start_time": "2019-07-20T07:01:15.782824Z"
    },
    "hidden": true
   },
   "outputs": [
    {
     "data": {
      "text/html": [
       "<div>\n",
       "<style scoped>\n",
       "    .dataframe tbody tr th:only-of-type {\n",
       "        vertical-align: middle;\n",
       "    }\n",
       "\n",
       "    .dataframe tbody tr th {\n",
       "        vertical-align: top;\n",
       "    }\n",
       "\n",
       "    .dataframe thead th {\n",
       "        text-align: right;\n",
       "    }\n",
       "</style>\n",
       "<table border=\"1\" class=\"dataframe\">\n",
       "  <thead>\n",
       "    <tr style=\"text-align: right;\">\n",
       "      <th></th>\n",
       "      <th>model</th>\n",
       "      <th>MAE</th>\n",
       "      <th>MSE</th>\n",
       "      <th>r2</th>\n",
       "    </tr>\n",
       "  </thead>\n",
       "  <tbody>\n",
       "    <tr>\n",
       "      <th>0</th>\n",
       "      <td>Linear regression</td>\n",
       "      <td>2.389162</td>\n",
       "      <td>10.275135</td>\n",
       "      <td>-0.000257</td>\n",
       "    </tr>\n",
       "    <tr>\n",
       "      <th>1</th>\n",
       "      <td>Ridge regression (lush)</td>\n",
       "      <td>2.259268</td>\n",
       "      <td>9.308154</td>\n",
       "      <td>0.093876</td>\n",
       "    </tr>\n",
       "    <tr>\n",
       "      <th>2</th>\n",
       "      <td>Ridge regression (stark)</td>\n",
       "      <td>2.282544</td>\n",
       "      <td>9.594887</td>\n",
       "      <td>0.065963</td>\n",
       "    </tr>\n",
       "    <tr>\n",
       "      <th>3</th>\n",
       "      <td>Lasso regression</td>\n",
       "      <td>2.297304</td>\n",
       "      <td>9.691294</td>\n",
       "      <td>0.056578</td>\n",
       "    </tr>\n",
       "    <tr>\n",
       "      <th>4</th>\n",
       "      <td>Radius basis SVM regression</td>\n",
       "      <td>2.280704</td>\n",
       "      <td>9.431990</td>\n",
       "      <td>0.081821</td>\n",
       "    </tr>\n",
       "    <tr>\n",
       "      <th>5</th>\n",
       "      <td>Linear basis SVM regression</td>\n",
       "      <td>2.315303</td>\n",
       "      <td>9.458456</td>\n",
       "      <td>0.079244</td>\n",
       "    </tr>\n",
       "    <tr>\n",
       "      <th>6</th>\n",
       "      <td>Decision tree (lush)</td>\n",
       "      <td>2.287732</td>\n",
       "      <td>9.656992</td>\n",
       "      <td>0.059917</td>\n",
       "    </tr>\n",
       "    <tr>\n",
       "      <th>7</th>\n",
       "      <td>Decision tree (stark)</td>\n",
       "      <td>2.282976</td>\n",
       "      <td>9.656592</td>\n",
       "      <td>0.059956</td>\n",
       "    </tr>\n",
       "    <tr>\n",
       "      <th>8</th>\n",
       "      <td>Random forest (lush)</td>\n",
       "      <td>2.249352</td>\n",
       "      <td>9.417465</td>\n",
       "      <td>0.083235</td>\n",
       "    </tr>\n",
       "    <tr>\n",
       "      <th>9</th>\n",
       "      <td>Random forest (stark)</td>\n",
       "      <td>2.249949</td>\n",
       "      <td>9.421638</td>\n",
       "      <td>0.082828</td>\n",
       "    </tr>\n",
       "    <tr>\n",
       "      <th>10</th>\n",
       "      <td>Gradient boosted trees (lush)</td>\n",
       "      <td>2.251630</td>\n",
       "      <td>9.396850</td>\n",
       "      <td>0.085241</td>\n",
       "    </tr>\n",
       "    <tr>\n",
       "      <th>11</th>\n",
       "      <td>Gradient boosted trees (stark)</td>\n",
       "      <td>2.251621</td>\n",
       "      <td>9.422519</td>\n",
       "      <td>0.082743</td>\n",
       "    </tr>\n",
       "  </tbody>\n",
       "</table>\n",
       "</div>"
      ],
      "text/plain": [
       "                             model       MAE        MSE        r2\n",
       "0                Linear regression  2.389162  10.275135 -0.000257\n",
       "1          Ridge regression (lush)  2.259268   9.308154  0.093876\n",
       "2         Ridge regression (stark)  2.282544   9.594887  0.065963\n",
       "3                 Lasso regression  2.297304   9.691294  0.056578\n",
       "4      Radius basis SVM regression  2.280704   9.431990  0.081821\n",
       "5      Linear basis SVM regression  2.315303   9.458456  0.079244\n",
       "6             Decision tree (lush)  2.287732   9.656992  0.059917\n",
       "7            Decision tree (stark)  2.282976   9.656592  0.059956\n",
       "8             Random forest (lush)  2.249352   9.417465  0.083235\n",
       "9            Random forest (stark)  2.249949   9.421638  0.082828\n",
       "10   Gradient boosted trees (lush)  2.251630   9.396850  0.085241\n",
       "11  Gradient boosted trees (stark)  2.251621   9.422519  0.082743"
      ]
     },
     "execution_count": 92,
     "metadata": {},
     "output_type": "execute_result"
    }
   ],
   "source": [
    "pd.DataFrame([\n",
    "    ('Linear regression', lr_test_loss[0], lr_test_loss[1], lr_test_loss[2]),\n",
    "    ('Ridge regression (lush)', lush_ridge_test_loss[0], lush_ridge_test_loss[1], lush_ridge_test_loss[2]),\n",
    "    ('Ridge regression (stark)', stark_ridge_test_loss[0], stark_ridge_test_loss[1], stark_ridge_test_loss[2]),\n",
    "    ('Lasso regression', lasso_test_loss[0], lasso_test_loss[1], lasso_test_loss[2]),\n",
    "    ('Radius basis SVM regression', rbf_svr_test_loss[0], rbf_svr_test_loss[1], rbf_svr_test_loss[2]),\n",
    "    ('Linear basis SVM regression', linear_svr_test_loss[0], linear_svr_test_loss[1], linear_svr_test_loss[2]),\n",
    "    ('Decision tree (lush)', lush_tree_test_loss_mean[0], lush_tree_test_loss_mean[1], lush_tree_test_loss_mean[2]),\n",
    "    ('Decision tree (stark)', stark_tree_test_loss_mean[0], stark_tree_test_loss_mean[1], stark_tree_test_loss_mean[2]),\n",
    "    ('Random forest (lush)', lush_forest_test_loss_mean[0], lush_forest_test_loss_mean[1], lush_forest_test_loss_mean[2]),\n",
    "    ('Random forest (stark)', stark_forest_test_loss_mean[0], stark_forest_test_loss_mean[1], stark_forest_test_loss_mean[2]),\n",
    "    ('Gradient boosted trees (lush)', lush_boost_test_loss_mean[0], lush_boost_test_loss_mean[1], lush_boost_test_loss_mean[2]),\n",
    "    ('Gradient boosted trees (stark)', stark_boost_test_loss_mean[0], stark_boost_test_loss_mean[1], stark_boost_test_loss_mean[2]),\n",
    "], columns=['model', 'MAE', 'MSE', 'r2'])"
   ]
  },
  {
   "cell_type": "code",
   "execution_count": 93,
   "metadata": {
    "ExecuteTime": {
     "end_time": "2019-07-20T07:01:15.867132Z",
     "start_time": "2019-07-20T07:01:15.807843Z"
    },
    "hidden": true
   },
   "outputs": [
    {
     "data": {
      "text/html": [
       "<div>\n",
       "<style scoped>\n",
       "    .dataframe tbody tr th:only-of-type {\n",
       "        vertical-align: middle;\n",
       "    }\n",
       "\n",
       "    .dataframe tbody tr th {\n",
       "        vertical-align: top;\n",
       "    }\n",
       "\n",
       "    .dataframe thead th {\n",
       "        text-align: right;\n",
       "    }\n",
       "</style>\n",
       "<table border=\"1\" class=\"dataframe\">\n",
       "  <thead>\n",
       "    <tr style=\"text-align: right;\">\n",
       "      <th></th>\n",
       "      <th>model</th>\n",
       "      <th>teams total points</th>\n",
       "    </tr>\n",
       "  </thead>\n",
       "  <tbody>\n",
       "    <tr>\n",
       "      <th>0</th>\n",
       "      <td>Random benchmark</td>\n",
       "      <td>376.0</td>\n",
       "    </tr>\n",
       "    <tr>\n",
       "      <th>1</th>\n",
       "      <td>Linear regression</td>\n",
       "      <td>686.0</td>\n",
       "    </tr>\n",
       "    <tr>\n",
       "      <th>2</th>\n",
       "      <td>Ridge regression (lush)</td>\n",
       "      <td>995.0</td>\n",
       "    </tr>\n",
       "    <tr>\n",
       "      <th>3</th>\n",
       "      <td>Ridge regression (stark)</td>\n",
       "      <td>986.0</td>\n",
       "    </tr>\n",
       "    <tr>\n",
       "      <th>4</th>\n",
       "      <td>Lasso regression</td>\n",
       "      <td>948.0</td>\n",
       "    </tr>\n",
       "    <tr>\n",
       "      <th>5</th>\n",
       "      <td>Radius basis SVM regression</td>\n",
       "      <td>976.0</td>\n",
       "    </tr>\n",
       "    <tr>\n",
       "      <th>6</th>\n",
       "      <td>Linear basis SVM regression</td>\n",
       "      <td>968.0</td>\n",
       "    </tr>\n",
       "    <tr>\n",
       "      <th>7</th>\n",
       "      <td>Decision tree (lush)</td>\n",
       "      <td>925.5</td>\n",
       "    </tr>\n",
       "    <tr>\n",
       "      <th>8</th>\n",
       "      <td>Decision tree (stark)</td>\n",
       "      <td>960.0</td>\n",
       "    </tr>\n",
       "    <tr>\n",
       "      <th>9</th>\n",
       "      <td>Random forest (lush)</td>\n",
       "      <td>889.8</td>\n",
       "    </tr>\n",
       "    <tr>\n",
       "      <th>10</th>\n",
       "      <td>Random forest (stark)</td>\n",
       "      <td>905.8</td>\n",
       "    </tr>\n",
       "    <tr>\n",
       "      <th>11</th>\n",
       "      <td>Gradient boosted trees (lush)</td>\n",
       "      <td>916.1</td>\n",
       "    </tr>\n",
       "    <tr>\n",
       "      <th>12</th>\n",
       "      <td>Gradient boosted trees (stark)</td>\n",
       "      <td>887.2</td>\n",
       "    </tr>\n",
       "  </tbody>\n",
       "</table>\n",
       "</div>"
      ],
      "text/plain": [
       "                             model  teams total points\n",
       "0                 Random benchmark               376.0\n",
       "1                Linear regression               686.0\n",
       "2          Ridge regression (lush)               995.0\n",
       "3         Ridge regression (stark)               986.0\n",
       "4                 Lasso regression               948.0\n",
       "5      Radius basis SVM regression               976.0\n",
       "6      Linear basis SVM regression               968.0\n",
       "7             Decision tree (lush)               925.5\n",
       "8            Decision tree (stark)               960.0\n",
       "9             Random forest (lush)               889.8\n",
       "10           Random forest (stark)               905.8\n",
       "11   Gradient boosted trees (lush)               916.1\n",
       "12  Gradient boosted trees (stark)               887.2"
      ]
     },
     "execution_count": 93,
     "metadata": {},
     "output_type": "execute_result"
    }
   ],
   "source": [
    "pd.DataFrame([\n",
    "    ('Random benchmark', random_benchmark_teams_total_points),\n",
    "    ('Linear regression', lr_teams_total_points),\n",
    "    ('Ridge regression (lush)', lush_ridge_teams_total_points),\n",
    "    ('Ridge regression (stark)', stark_ridge_teams_total_points),\n",
    "    ('Lasso regression', lasso_teams_total_points),\n",
    "    ('Radius basis SVM regression', linear_svr_teams_total_points),\n",
    "    ('Linear basis SVM regression', rbf_svr_teams_total_points),\n",
    "    ('Decision tree (lush)', lush_tree_teams_total_points_mean),\n",
    "    ('Decision tree (stark)', stark_tree_teams_total_points_mean),\n",
    "    ('Random forest (lush)', lush_forest_teams_total_points_mean),\n",
    "    ('Random forest (stark)', stark_forest_teams_total_points_mean),\n",
    "    ('Gradient boosted trees (lush)', lush_boost_teams_total_points_mean),\n",
    "    ('Gradient boosted trees (stark)', stark_boost_teams_total_points_mean),\n",
    "], columns=['model', 'teams total points']).round(1)"
   ]
  },
  {
   "cell_type": "code",
   "execution_count": null,
   "metadata": {
    "hidden": true
   },
   "outputs": [],
   "source": []
  }
 ],
 "metadata": {
  "kernelspec": {
   "display_name": "Python 3",
   "language": "python",
   "name": "python3"
  },
  "language_info": {
   "codemirror_mode": {
    "name": "ipython",
    "version": 3
   },
   "file_extension": ".py",
   "mimetype": "text/x-python",
   "name": "python",
   "nbconvert_exporter": "python",
   "pygments_lexer": "ipython3",
   "version": "3.6.7"
  },
  "toc": {
   "nav_menu": {},
   "number_sections": true,
   "sideBar": true,
   "skip_h1_title": false,
   "title_cell": "Table of Contents",
   "title_sidebar": "Contents",
   "toc_cell": false,
   "toc_position": {},
   "toc_section_display": true,
   "toc_window_display": false
  }
 },
 "nbformat": 4,
 "nbformat_minor": 2
}
