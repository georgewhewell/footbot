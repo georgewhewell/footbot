{
 "cells": [
  {
   "cell_type": "markdown",
   "metadata": {},
   "source": [
    "# Set up"
   ]
  },
  {
   "cell_type": "code",
   "execution_count": 176,
   "metadata": {
    "ExecuteTime": {
     "end_time": "2019-07-11T07:05:20.054344Z",
     "start_time": "2019-07-11T07:05:20.048525Z"
    }
   },
   "outputs": [],
   "source": [
    "# update path with data dir\n",
    "import sys\n",
    "sys.path.append('../../data/')"
   ]
  },
  {
   "cell_type": "code",
   "execution_count": 177,
   "metadata": {
    "ExecuteTime": {
     "end_time": "2019-07-11T07:05:20.224587Z",
     "start_time": "2019-07-11T07:05:20.220262Z"
    }
   },
   "outputs": [],
   "source": [
    "import warnings\n",
    "# warnings.filterwarnings('ignore')"
   ]
  },
  {
   "cell_type": "code",
   "execution_count": 178,
   "metadata": {
    "ExecuteTime": {
     "end_time": "2019-07-11T07:05:20.382453Z",
     "start_time": "2019-07-11T07:05:20.372925Z"
    }
   },
   "outputs": [],
   "source": [
    "import pandas as pd\n",
    "import patsy\n",
    "import numpy as np\n",
    "import itertools\n",
    "from sklearn.svm import SVR\n",
    "from sklearn.preprocessing import StandardScaler\n",
    "from sklearn.model_selection import PredefinedSplit, GridSearchCV\n",
    "from sklearn.feature_selection import RFECV\n",
    "from sklearn.metrics import mean_absolute_error, mean_squared_error\n",
    "import matplotlib.pyplot as plt"
   ]
  },
  {
   "cell_type": "markdown",
   "metadata": {},
   "source": [
    "# Getting data"
   ]
  },
  {
   "cell_type": "code",
   "execution_count": 179,
   "metadata": {
    "ExecuteTime": {
     "end_time": "2019-07-11T07:05:20.698681Z",
     "start_time": "2019-07-11T07:05:20.693757Z"
    }
   },
   "outputs": [],
   "source": [
    "file_name = '../csvs/element_gameweek_features_v02.csv'"
   ]
  },
  {
   "cell_type": "code",
   "execution_count": 180,
   "metadata": {
    "ExecuteTime": {
     "end_time": "2019-07-11T07:05:21.148270Z",
     "start_time": "2019-07-11T07:05:20.849130Z"
    }
   },
   "outputs": [],
   "source": [
    "element_gameweek_df = pd.read_csv(file_name)"
   ]
  },
  {
   "cell_type": "code",
   "execution_count": 181,
   "metadata": {
    "ExecuteTime": {
     "end_time": "2019-07-11T07:05:21.154286Z",
     "start_time": "2019-07-11T07:05:21.151405Z"
    }
   },
   "outputs": [],
   "source": [
    "current_event = 20"
   ]
  },
  {
   "cell_type": "code",
   "execution_count": 182,
   "metadata": {
    "ExecuteTime": {
     "end_time": "2019-07-11T07:05:21.286145Z",
     "start_time": "2019-07-11T07:05:21.197251Z"
    }
   },
   "outputs": [],
   "source": [
    "element_gameweek_df =\\\n",
    "element_gameweek_df[\n",
    "    (element_gameweek_df['event'] <= current_event)\n",
    "]"
   ]
  },
  {
   "cell_type": "code",
   "execution_count": 183,
   "metadata": {
    "ExecuteTime": {
     "end_time": "2019-07-11T07:05:21.660101Z",
     "start_time": "2019-07-11T07:05:21.384840Z"
    }
   },
   "outputs": [],
   "source": [
    "element_gameweek_df.fillna(0, inplace=True)"
   ]
  },
  {
   "cell_type": "code",
   "execution_count": 184,
   "metadata": {
    "ExecuteTime": {
     "end_time": "2019-07-11T07:05:21.695331Z",
     "start_time": "2019-07-11T07:05:21.663078Z"
    }
   },
   "outputs": [
    {
     "data": {
      "text/html": [
       "<div>\n",
       "<style scoped>\n",
       "    .dataframe tbody tr th:only-of-type {\n",
       "        vertical-align: middle;\n",
       "    }\n",
       "\n",
       "    .dataframe tbody tr th {\n",
       "        vertical-align: top;\n",
       "    }\n",
       "\n",
       "    .dataframe thead th {\n",
       "        text-align: right;\n",
       "    }\n",
       "</style>\n",
       "<table border=\"1\" class=\"dataframe\">\n",
       "  <thead>\n",
       "    <tr style=\"text-align: right;\">\n",
       "      <th></th>\n",
       "      <th>safe_web_name</th>\n",
       "      <th>element</th>\n",
       "      <th>event</th>\n",
       "      <th>fixture</th>\n",
       "      <th>team</th>\n",
       "      <th>opposition_team</th>\n",
       "      <th>was_home</th>\n",
       "      <th>element_type</th>\n",
       "      <th>value</th>\n",
       "      <th>is_sunday</th>\n",
       "      <th>...</th>\n",
       "      <th>rolling_avg_total_points_opposition_team</th>\n",
       "      <th>rolling_var_total_points_opposition_team</th>\n",
       "      <th>rolling_avg_total_points_against_opposition_team</th>\n",
       "      <th>rolling_var_total_points_against_opposition_team</th>\n",
       "      <th>rolling_avg_total_points_against_opposition_team_element_type</th>\n",
       "      <th>rolling_var_total_points_against_opposition_team_element_type</th>\n",
       "      <th>rolling_avg_total_points_home</th>\n",
       "      <th>avg_total_points_at_ground</th>\n",
       "      <th>var_total_points_at_ground</th>\n",
       "      <th>total_points</th>\n",
       "    </tr>\n",
       "  </thead>\n",
       "  <tbody>\n",
       "    <tr>\n",
       "      <th>0</th>\n",
       "      <td>cech</td>\n",
       "      <td>1</td>\n",
       "      <td>1</td>\n",
       "      <td>1</td>\n",
       "      <td>1</td>\n",
       "      <td>13</td>\n",
       "      <td>1</td>\n",
       "      <td>1</td>\n",
       "      <td>50</td>\n",
       "      <td>1</td>\n",
       "      <td>...</td>\n",
       "      <td>0.000000</td>\n",
       "      <td>0.000000</td>\n",
       "      <td>0.000000</td>\n",
       "      <td>0.000000</td>\n",
       "      <td>0.0</td>\n",
       "      <td>0.0</td>\n",
       "      <td>0.0</td>\n",
       "      <td>0.000000</td>\n",
       "      <td>0.0</td>\n",
       "      <td>3</td>\n",
       "    </tr>\n",
       "    <tr>\n",
       "      <th>1</th>\n",
       "      <td>cech</td>\n",
       "      <td>1</td>\n",
       "      <td>2</td>\n",
       "      <td>14</td>\n",
       "      <td>1</td>\n",
       "      <td>6</td>\n",
       "      <td>0</td>\n",
       "      <td>1</td>\n",
       "      <td>50</td>\n",
       "      <td>0</td>\n",
       "      <td>...</td>\n",
       "      <td>5.714286</td>\n",
       "      <td>10.373626</td>\n",
       "      <td>1.153846</td>\n",
       "      <td>0.474359</td>\n",
       "      <td>1.0</td>\n",
       "      <td>0.0</td>\n",
       "      <td>0.0</td>\n",
       "      <td>0.000000</td>\n",
       "      <td>0.0</td>\n",
       "      <td>3</td>\n",
       "    </tr>\n",
       "    <tr>\n",
       "      <th>2</th>\n",
       "      <td>cech</td>\n",
       "      <td>1</td>\n",
       "      <td>3</td>\n",
       "      <td>21</td>\n",
       "      <td>1</td>\n",
       "      <td>19</td>\n",
       "      <td>1</td>\n",
       "      <td>1</td>\n",
       "      <td>50</td>\n",
       "      <td>0</td>\n",
       "      <td>...</td>\n",
       "      <td>1.392857</td>\n",
       "      <td>2.914021</td>\n",
       "      <td>4.666667</td>\n",
       "      <td>15.615385</td>\n",
       "      <td>5.0</td>\n",
       "      <td>8.0</td>\n",
       "      <td>3.0</td>\n",
       "      <td>3.000000</td>\n",
       "      <td>0.0</td>\n",
       "      <td>3</td>\n",
       "    </tr>\n",
       "    <tr>\n",
       "      <th>3</th>\n",
       "      <td>cech</td>\n",
       "      <td>1</td>\n",
       "      <td>4</td>\n",
       "      <td>33</td>\n",
       "      <td>1</td>\n",
       "      <td>5</td>\n",
       "      <td>0</td>\n",
       "      <td>1</td>\n",
       "      <td>50</td>\n",
       "      <td>1</td>\n",
       "      <td>...</td>\n",
       "      <td>3.166667</td>\n",
       "      <td>8.873984</td>\n",
       "      <td>3.785714</td>\n",
       "      <td>8.562718</td>\n",
       "      <td>5.5</td>\n",
       "      <td>11.0</td>\n",
       "      <td>3.0</td>\n",
       "      <td>4.901786</td>\n",
       "      <td>0.0</td>\n",
       "      <td>1</td>\n",
       "    </tr>\n",
       "    <tr>\n",
       "      <th>4</th>\n",
       "      <td>cech</td>\n",
       "      <td>1</td>\n",
       "      <td>5</td>\n",
       "      <td>46</td>\n",
       "      <td>1</td>\n",
       "      <td>15</td>\n",
       "      <td>0</td>\n",
       "      <td>1</td>\n",
       "      <td>50</td>\n",
       "      <td>0</td>\n",
       "      <td>...</td>\n",
       "      <td>2.125000</td>\n",
       "      <td>3.893182</td>\n",
       "      <td>3.446429</td>\n",
       "      <td>10.906169</td>\n",
       "      <td>5.5</td>\n",
       "      <td>49.0</td>\n",
       "      <td>3.0</td>\n",
       "      <td>1.332237</td>\n",
       "      <td>0.0</td>\n",
       "      <td>2</td>\n",
       "    </tr>\n",
       "  </tbody>\n",
       "</table>\n",
       "<p>5 rows × 54 columns</p>\n",
       "</div>"
      ],
      "text/plain": [
       "  safe_web_name  element  event  fixture  team  opposition_team  was_home  \\\n",
       "0          cech        1      1        1     1               13         1   \n",
       "1          cech        1      2       14     1                6         0   \n",
       "2          cech        1      3       21     1               19         1   \n",
       "3          cech        1      4       33     1                5         0   \n",
       "4          cech        1      5       46     1               15         0   \n",
       "\n",
       "   element_type  value  is_sunday      ...       \\\n",
       "0             1     50          1      ...        \n",
       "1             1     50          0      ...        \n",
       "2             1     50          0      ...        \n",
       "3             1     50          1      ...        \n",
       "4             1     50          0      ...        \n",
       "\n",
       "   rolling_avg_total_points_opposition_team  \\\n",
       "0                                  0.000000   \n",
       "1                                  5.714286   \n",
       "2                                  1.392857   \n",
       "3                                  3.166667   \n",
       "4                                  2.125000   \n",
       "\n",
       "   rolling_var_total_points_opposition_team  \\\n",
       "0                                  0.000000   \n",
       "1                                 10.373626   \n",
       "2                                  2.914021   \n",
       "3                                  8.873984   \n",
       "4                                  3.893182   \n",
       "\n",
       "   rolling_avg_total_points_against_opposition_team  \\\n",
       "0                                          0.000000   \n",
       "1                                          1.153846   \n",
       "2                                          4.666667   \n",
       "3                                          3.785714   \n",
       "4                                          3.446429   \n",
       "\n",
       "   rolling_var_total_points_against_opposition_team  \\\n",
       "0                                          0.000000   \n",
       "1                                          0.474359   \n",
       "2                                         15.615385   \n",
       "3                                          8.562718   \n",
       "4                                         10.906169   \n",
       "\n",
       "   rolling_avg_total_points_against_opposition_team_element_type  \\\n",
       "0                                                0.0               \n",
       "1                                                1.0               \n",
       "2                                                5.0               \n",
       "3                                                5.5               \n",
       "4                                                5.5               \n",
       "\n",
       "   rolling_var_total_points_against_opposition_team_element_type  \\\n",
       "0                                                0.0               \n",
       "1                                                0.0               \n",
       "2                                                8.0               \n",
       "3                                               11.0               \n",
       "4                                               49.0               \n",
       "\n",
       "   rolling_avg_total_points_home  avg_total_points_at_ground  \\\n",
       "0                            0.0                    0.000000   \n",
       "1                            0.0                    0.000000   \n",
       "2                            3.0                    3.000000   \n",
       "3                            3.0                    4.901786   \n",
       "4                            3.0                    1.332237   \n",
       "\n",
       "   var_total_points_at_ground  total_points  \n",
       "0                         0.0             3  \n",
       "1                         0.0             3  \n",
       "2                         0.0             3  \n",
       "3                         0.0             1  \n",
       "4                         0.0             2  \n",
       "\n",
       "[5 rows x 54 columns]"
      ]
     },
     "execution_count": 184,
     "metadata": {},
     "output_type": "execute_result"
    }
   ],
   "source": [
    "element_gameweek_df.head()"
   ]
  },
  {
   "cell_type": "code",
   "execution_count": 185,
   "metadata": {
    "ExecuteTime": {
     "end_time": "2019-07-11T07:05:21.827719Z",
     "start_time": "2019-07-11T07:05:21.747605Z"
    }
   },
   "outputs": [],
   "source": [
    "element_gameweek_df = element_gameweek_df[element_gameweek_df['rolling_avg_minutes_element_p3'] >= 60]"
   ]
  },
  {
   "cell_type": "markdown",
   "metadata": {},
   "source": [
    "# Modelling data"
   ]
  },
  {
   "cell_type": "markdown",
   "metadata": {},
   "source": [
    "## Splitting data"
   ]
  },
  {
   "cell_type": "code",
   "execution_count": 186,
   "metadata": {
    "ExecuteTime": {
     "end_time": "2019-07-11T07:05:22.394143Z",
     "start_time": "2019-07-11T07:05:22.388962Z"
    }
   },
   "outputs": [],
   "source": [
    "last_train_event = 15"
   ]
  },
  {
   "cell_type": "code",
   "execution_count": 187,
   "metadata": {
    "ExecuteTime": {
     "end_time": "2019-07-11T07:05:22.586230Z",
     "start_time": "2019-07-11T07:05:22.577294Z"
    }
   },
   "outputs": [],
   "source": [
    "test_fold = [-1 if i <= last_train_event else 0 for i in element_gameweek_df['event']]\n",
    "ps = PredefinedSplit(test_fold)"
   ]
  },
  {
   "cell_type": "code",
   "execution_count": 188,
   "metadata": {
    "ExecuteTime": {
     "end_time": "2019-07-11T07:05:22.773581Z",
     "start_time": "2019-07-11T07:05:22.763377Z"
    }
   },
   "outputs": [],
   "source": [
    "for train_index, test_index in ps.split():\n",
    "    element_gameweek_df_train, element_gameweek_df_test = \\\n",
    "    element_gameweek_df.iloc[train_index], element_gameweek_df.iloc[test_index]"
   ]
  },
  {
   "cell_type": "markdown",
   "metadata": {},
   "source": [
    "## Scaling data"
   ]
  },
  {
   "cell_type": "code",
   "execution_count": 189,
   "metadata": {
    "ExecuteTime": {
     "end_time": "2019-07-11T07:05:23.183660Z",
     "start_time": "2019-07-11T07:05:23.171235Z"
    }
   },
   "outputs": [
    {
     "data": {
      "text/plain": [
       "['value',\n",
       " 'rolling_avg_total_points_element',\n",
       " 'rolling_var_total_points_element',\n",
       " 'rolling_max_total_points_element',\n",
       " 'rolling_avg_minutes_element_p3',\n",
       " 'rolling_avg_bps_element',\n",
       " 'rolling_avg_bonus_element',\n",
       " 'rolling_avg_goals_scored_element',\n",
       " 'rolling_avg_minutes_element',\n",
       " 'rolling_avg_clean_sheets_element',\n",
       " 'rolling_avg_attempted_passes_element',\n",
       " 'rolling_avg_completed_passes_element',\n",
       " 'rolling_avg_recoveries_element',\n",
       " 'rolling_avg_assists_element',\n",
       " 'rolling_avg_key_passes_element',\n",
       " 'rolling_avg_winning_goals_element',\n",
       " 'rolling_avg_tackled_element',\n",
       " 'rolling_avg_dribbles_element',\n",
       " 'rolling_avg_clearances_blocks_interceptions_element',\n",
       " 'rolling_avg_big_chances_created_element',\n",
       " 'rolling_avg_target_missed_element',\n",
       " 'rolling_avg_fouls_element',\n",
       " 'rolling_avg_tackles_element',\n",
       " 'rolling_avg_open_play_crosses_element',\n",
       " 'rolling_avg_offside_element',\n",
       " 'rolling_avg_big_chances_missed_element',\n",
       " 'rolling_avg_saves_element',\n",
       " 'rolling_avg_goals_conceded_element',\n",
       " 'rolling_avg_total_points_element_type',\n",
       " 'rolling_var_total_points_element_type',\n",
       " 'rolling_avg_total_points_own_team',\n",
       " 'rolling_var_total_points_own_team',\n",
       " 'rolling_avg_total_points_opposition_team',\n",
       " 'rolling_var_total_points_opposition_team',\n",
       " 'rolling_avg_total_points_against_opposition_team',\n",
       " 'rolling_var_total_points_against_opposition_team',\n",
       " 'rolling_avg_total_points_against_opposition_team_element_type',\n",
       " 'rolling_var_total_points_against_opposition_team_element_type',\n",
       " 'rolling_avg_total_points_home',\n",
       " 'avg_total_points_at_ground',\n",
       " 'var_total_points_at_ground']"
      ]
     },
     "execution_count": 189,
     "metadata": {},
     "output_type": "execute_result"
    }
   ],
   "source": [
    "scaled_feature_cols = [\n",
    "    i for i in element_gameweek_df.columns if i not in [\n",
    "        'safe_web_name', 'element', 'event', 'fixture', 'team',\n",
    "        'opposition_team', 'element_type', 'was_home', 'is_sunday',\n",
    "        'is_weekday', 'is_late', 'is_early', 'total_points'\n",
    "    ]\n",
    "]\n",
    "\n",
    "scaled_feature_cols"
   ]
  },
  {
   "cell_type": "code",
   "execution_count": 190,
   "metadata": {
    "ExecuteTime": {
     "end_time": "2019-07-11T07:05:30.129939Z",
     "start_time": "2019-07-11T07:05:23.905731Z"
    }
   },
   "outputs": [
    {
     "name": "stderr",
     "output_type": "stream",
     "text": [
      "/home/tom/footbot/venv/lib/python3.6/site-packages/ipykernel_launcher.py:11: SettingWithCopyWarning: \n",
      "A value is trying to be set on a copy of a slice from a DataFrame.\n",
      "Try using .loc[row_indexer,col_indexer] = value instead\n",
      "\n",
      "See the caveats in the documentation: http://pandas.pydata.org/pandas-docs/stable/indexing.html#indexing-view-versus-copy\n",
      "  # This is added back by InteractiveShellApp.init_path()\n",
      "/home/tom/footbot/venv/lib/python3.6/site-packages/pandas/core/indexing.py:543: SettingWithCopyWarning: \n",
      "A value is trying to be set on a copy of a slice from a DataFrame.\n",
      "Try using .loc[row_indexer,col_indexer] = value instead\n",
      "\n",
      "See the caveats in the documentation: http://pandas.pydata.org/pandas-docs/stable/indexing.html#indexing-view-versus-copy\n",
      "  self.obj[item] = s\n",
      "/home/tom/footbot/venv/lib/python3.6/site-packages/ipykernel_launcher.py:12: SettingWithCopyWarning: \n",
      "A value is trying to be set on a copy of a slice from a DataFrame.\n",
      "Try using .loc[row_indexer,col_indexer] = value instead\n",
      "\n",
      "See the caveats in the documentation: http://pandas.pydata.org/pandas-docs/stable/indexing.html#indexing-view-versus-copy\n",
      "  if sys.path[0] == '':\n"
     ]
    }
   ],
   "source": [
    "scaled_df_train = element_gameweek_df_train.copy()\n",
    "scaled_df_test = element_gameweek_df_test.copy()\n",
    "scaled_df = element_gameweek_df.copy()\n",
    "\n",
    "scaler = StandardScaler().fit(scaled_df_train[scaled_feature_cols].values)\n",
    "\n",
    "scaled_df_train = scaler.transform(scaled_df_train[scaled_feature_cols].values)\n",
    "scaled_df_test = scaler.transform(scaled_df_test[scaled_feature_cols].values)\n",
    "scaled_df = scaler.transform(scaled_df[scaled_feature_cols].values)\n",
    "\n",
    "element_gameweek_df_train[scaled_feature_cols] = scaled_df_train\n",
    "element_gameweek_df_test[scaled_feature_cols] = scaled_df_test\n",
    "element_gameweek_df[scaled_feature_cols] = scaled_df"
   ]
  },
  {
   "cell_type": "code",
   "execution_count": 191,
   "metadata": {
    "ExecuteTime": {
     "end_time": "2019-07-11T07:05:30.160806Z",
     "start_time": "2019-07-11T07:05:30.132682Z"
    }
   },
   "outputs": [
    {
     "data": {
      "text/html": [
       "<div>\n",
       "<style scoped>\n",
       "    .dataframe tbody tr th:only-of-type {\n",
       "        vertical-align: middle;\n",
       "    }\n",
       "\n",
       "    .dataframe tbody tr th {\n",
       "        vertical-align: top;\n",
       "    }\n",
       "\n",
       "    .dataframe thead th {\n",
       "        text-align: right;\n",
       "    }\n",
       "</style>\n",
       "<table border=\"1\" class=\"dataframe\">\n",
       "  <thead>\n",
       "    <tr style=\"text-align: right;\">\n",
       "      <th></th>\n",
       "      <th>safe_web_name</th>\n",
       "      <th>element</th>\n",
       "      <th>event</th>\n",
       "      <th>fixture</th>\n",
       "      <th>team</th>\n",
       "      <th>opposition_team</th>\n",
       "      <th>was_home</th>\n",
       "      <th>element_type</th>\n",
       "      <th>value</th>\n",
       "      <th>is_sunday</th>\n",
       "      <th>...</th>\n",
       "      <th>rolling_avg_total_points_opposition_team</th>\n",
       "      <th>rolling_var_total_points_opposition_team</th>\n",
       "      <th>rolling_avg_total_points_against_opposition_team</th>\n",
       "      <th>rolling_var_total_points_against_opposition_team</th>\n",
       "      <th>rolling_avg_total_points_against_opposition_team_element_type</th>\n",
       "      <th>rolling_var_total_points_against_opposition_team_element_type</th>\n",
       "      <th>rolling_avg_total_points_home</th>\n",
       "      <th>avg_total_points_at_ground</th>\n",
       "      <th>var_total_points_at_ground</th>\n",
       "      <th>total_points</th>\n",
       "    </tr>\n",
       "  </thead>\n",
       "  <tbody>\n",
       "    <tr>\n",
       "      <th>1</th>\n",
       "      <td>cech</td>\n",
       "      <td>1</td>\n",
       "      <td>2</td>\n",
       "      <td>14</td>\n",
       "      <td>1</td>\n",
       "      <td>6</td>\n",
       "      <td>0</td>\n",
       "      <td>1</td>\n",
       "      <td>-0.363966</td>\n",
       "      <td>0</td>\n",
       "      <td>...</td>\n",
       "      <td>3.141730</td>\n",
       "      <td>0.565297</td>\n",
       "      <td>-1.997465</td>\n",
       "      <td>-2.129883</td>\n",
       "      <td>-1.614392</td>\n",
       "      <td>-1.346934</td>\n",
       "      <td>-1.259965</td>\n",
       "      <td>-1.241969</td>\n",
       "      <td>-0.594088</td>\n",
       "      <td>3</td>\n",
       "    </tr>\n",
       "    <tr>\n",
       "      <th>2</th>\n",
       "      <td>cech</td>\n",
       "      <td>1</td>\n",
       "      <td>3</td>\n",
       "      <td>21</td>\n",
       "      <td>1</td>\n",
       "      <td>19</td>\n",
       "      <td>1</td>\n",
       "      <td>1</td>\n",
       "      <td>-0.363966</td>\n",
       "      <td>0</td>\n",
       "      <td>...</td>\n",
       "      <td>-1.805706</td>\n",
       "      <td>-1.614084</td>\n",
       "      <td>1.861369</td>\n",
       "      <td>1.946461</td>\n",
       "      <td>1.561519</td>\n",
       "      <td>-0.039872</td>\n",
       "      <td>-0.050375</td>\n",
       "      <td>0.002013</td>\n",
       "      <td>-0.594088</td>\n",
       "      <td>3</td>\n",
       "    </tr>\n",
       "    <tr>\n",
       "      <th>3</th>\n",
       "      <td>cech</td>\n",
       "      <td>1</td>\n",
       "      <td>4</td>\n",
       "      <td>33</td>\n",
       "      <td>1</td>\n",
       "      <td>5</td>\n",
       "      <td>0</td>\n",
       "      <td>1</td>\n",
       "      <td>-0.363966</td>\n",
       "      <td>1</td>\n",
       "      <td>...</td>\n",
       "      <td>0.225060</td>\n",
       "      <td>0.127165</td>\n",
       "      <td>0.893643</td>\n",
       "      <td>0.047706</td>\n",
       "      <td>1.958508</td>\n",
       "      <td>0.450276</td>\n",
       "      <td>-0.050375</td>\n",
       "      <td>0.790608</td>\n",
       "      <td>-0.594088</td>\n",
       "      <td>1</td>\n",
       "    </tr>\n",
       "    <tr>\n",
       "      <th>4</th>\n",
       "      <td>cech</td>\n",
       "      <td>1</td>\n",
       "      <td>5</td>\n",
       "      <td>46</td>\n",
       "      <td>1</td>\n",
       "      <td>15</td>\n",
       "      <td>0</td>\n",
       "      <td>1</td>\n",
       "      <td>-0.363966</td>\n",
       "      <td>0</td>\n",
       "      <td>...</td>\n",
       "      <td>-0.967504</td>\n",
       "      <td>-1.328015</td>\n",
       "      <td>0.520938</td>\n",
       "      <td>0.678622</td>\n",
       "      <td>1.958508</td>\n",
       "      <td>6.658818</td>\n",
       "      <td>-0.050375</td>\n",
       "      <td>-0.689543</td>\n",
       "      <td>-0.594088</td>\n",
       "      <td>2</td>\n",
       "    </tr>\n",
       "    <tr>\n",
       "      <th>5</th>\n",
       "      <td>cech</td>\n",
       "      <td>1</td>\n",
       "      <td>6</td>\n",
       "      <td>51</td>\n",
       "      <td>1</td>\n",
       "      <td>8</td>\n",
       "      <td>1</td>\n",
       "      <td>1</td>\n",
       "      <td>-0.363966</td>\n",
       "      <td>1</td>\n",
       "      <td>...</td>\n",
       "      <td>-0.603602</td>\n",
       "      <td>-0.012704</td>\n",
       "      <td>-0.440250</td>\n",
       "      <td>0.189402</td>\n",
       "      <td>-0.820415</td>\n",
       "      <td>-1.265243</td>\n",
       "      <td>-0.050375</td>\n",
       "      <td>0.002013</td>\n",
       "      <td>-0.594088</td>\n",
       "      <td>11</td>\n",
       "    </tr>\n",
       "  </tbody>\n",
       "</table>\n",
       "<p>5 rows × 54 columns</p>\n",
       "</div>"
      ],
      "text/plain": [
       "  safe_web_name  element  event  fixture  team  opposition_team  was_home  \\\n",
       "1          cech        1      2       14     1                6         0   \n",
       "2          cech        1      3       21     1               19         1   \n",
       "3          cech        1      4       33     1                5         0   \n",
       "4          cech        1      5       46     1               15         0   \n",
       "5          cech        1      6       51     1                8         1   \n",
       "\n",
       "   element_type     value  is_sunday      ...       \\\n",
       "1             1 -0.363966          0      ...        \n",
       "2             1 -0.363966          0      ...        \n",
       "3             1 -0.363966          1      ...        \n",
       "4             1 -0.363966          0      ...        \n",
       "5             1 -0.363966          1      ...        \n",
       "\n",
       "   rolling_avg_total_points_opposition_team  \\\n",
       "1                                  3.141730   \n",
       "2                                 -1.805706   \n",
       "3                                  0.225060   \n",
       "4                                 -0.967504   \n",
       "5                                 -0.603602   \n",
       "\n",
       "   rolling_var_total_points_opposition_team  \\\n",
       "1                                  0.565297   \n",
       "2                                 -1.614084   \n",
       "3                                  0.127165   \n",
       "4                                 -1.328015   \n",
       "5                                 -0.012704   \n",
       "\n",
       "   rolling_avg_total_points_against_opposition_team  \\\n",
       "1                                         -1.997465   \n",
       "2                                          1.861369   \n",
       "3                                          0.893643   \n",
       "4                                          0.520938   \n",
       "5                                         -0.440250   \n",
       "\n",
       "   rolling_var_total_points_against_opposition_team  \\\n",
       "1                                         -2.129883   \n",
       "2                                          1.946461   \n",
       "3                                          0.047706   \n",
       "4                                          0.678622   \n",
       "5                                          0.189402   \n",
       "\n",
       "   rolling_avg_total_points_against_opposition_team_element_type  \\\n",
       "1                                          -1.614392               \n",
       "2                                           1.561519               \n",
       "3                                           1.958508               \n",
       "4                                           1.958508               \n",
       "5                                          -0.820415               \n",
       "\n",
       "   rolling_var_total_points_against_opposition_team_element_type  \\\n",
       "1                                          -1.346934               \n",
       "2                                          -0.039872               \n",
       "3                                           0.450276               \n",
       "4                                           6.658818               \n",
       "5                                          -1.265243               \n",
       "\n",
       "   rolling_avg_total_points_home  avg_total_points_at_ground  \\\n",
       "1                      -1.259965                   -1.241969   \n",
       "2                      -0.050375                    0.002013   \n",
       "3                      -0.050375                    0.790608   \n",
       "4                      -0.050375                   -0.689543   \n",
       "5                      -0.050375                    0.002013   \n",
       "\n",
       "   var_total_points_at_ground  total_points  \n",
       "1                   -0.594088             3  \n",
       "2                   -0.594088             3  \n",
       "3                   -0.594088             1  \n",
       "4                   -0.594088             2  \n",
       "5                   -0.594088            11  \n",
       "\n",
       "[5 rows x 54 columns]"
      ]
     },
     "execution_count": 191,
     "metadata": {},
     "output_type": "execute_result"
    }
   ],
   "source": [
    "element_gameweek_df.head()"
   ]
  },
  {
   "cell_type": "markdown",
   "metadata": {},
   "source": [
    "## Building model"
   ]
  },
  {
   "cell_type": "code",
   "execution_count": 192,
   "metadata": {
    "ExecuteTime": {
     "end_time": "2019-07-11T07:05:30.205914Z",
     "start_time": "2019-07-11T07:05:30.162858Z"
    }
   },
   "outputs": [],
   "source": [
    "formula = \\\n",
    "'total_points ~ C(element) + C(element_type) + C(team) + C(opposition_team) + ' + \\\n",
    "' + '.join([i for i in element_gameweek_df.columns if i not in\n",
    " [\n",
    "     'safe_web_name', 'element', 'event', 'fixture', 'team',\n",
    "     'opposition_team', 'element_type',\n",
    "     'rolling_avg_attempted_passes_element', 'rolling_var_total_points_against_opposition_team',\n",
    "     'rolling_var_total_points_own_team', 'rolling_var_total_points_opposition_team',\n",
    "     'rolling_var_total_points_element_type', 'rolling_var_total_points_against_opposition_team_element_type',\n",
    "     'var_total_points_at_ground',\n",
    "     'total_points'\n",
    " ]])"
   ]
  },
  {
   "cell_type": "code",
   "execution_count": 193,
   "metadata": {
    "ExecuteTime": {
     "end_time": "2019-07-11T07:05:30.236978Z",
     "start_time": "2019-07-11T07:05:30.210647Z"
    }
   },
   "outputs": [
    {
     "name": "stdout",
     "output_type": "stream",
     "text": [
      "total_points ~ C(element) + C(element_type) + C(team) + C(opposition_team) + was_home + value + is_sunday + is_weekday + is_late + is_early + rolling_avg_total_points_element + rolling_var_total_points_element + rolling_max_total_points_element + rolling_avg_minutes_element_p3 + rolling_avg_bps_element + rolling_avg_bonus_element + rolling_avg_goals_scored_element + rolling_avg_minutes_element + rolling_avg_clean_sheets_element + rolling_avg_completed_passes_element + rolling_avg_recoveries_element + rolling_avg_assists_element + rolling_avg_key_passes_element + rolling_avg_winning_goals_element + rolling_avg_tackled_element + rolling_avg_dribbles_element + rolling_avg_clearances_blocks_interceptions_element + rolling_avg_big_chances_created_element + rolling_avg_target_missed_element + rolling_avg_fouls_element + rolling_avg_tackles_element + rolling_avg_open_play_crosses_element + rolling_avg_offside_element + rolling_avg_big_chances_missed_element + rolling_avg_saves_element + rolling_avg_goals_conceded_element + rolling_avg_total_points_element_type + rolling_avg_total_points_own_team + rolling_avg_total_points_opposition_team + rolling_avg_total_points_against_opposition_team + rolling_avg_total_points_against_opposition_team_element_type + rolling_avg_total_points_home + avg_total_points_at_ground\n"
     ]
    }
   ],
   "source": [
    "print(formula)"
   ]
  },
  {
   "cell_type": "code",
   "execution_count": 194,
   "metadata": {
    "ExecuteTime": {
     "end_time": "2019-07-11T07:05:30.587196Z",
     "start_time": "2019-07-11T07:05:30.241899Z"
    }
   },
   "outputs": [],
   "source": [
    "y, X = patsy.dmatrices(formula, element_gameweek_df, return_type='matrix')"
   ]
  },
  {
   "cell_type": "code",
   "execution_count": 195,
   "metadata": {
    "ExecuteTime": {
     "end_time": "2019-07-11T07:05:30.600360Z",
     "start_time": "2019-07-11T07:05:30.589958Z"
    }
   },
   "outputs": [],
   "source": [
    "for train_index, test_index in ps.split():\n",
    "    X_train, X_test = X[train_index], X[test_index]\n",
    "    y_train, y_test = y[train_index], y[test_index]"
   ]
  },
  {
   "cell_type": "markdown",
   "metadata": {},
   "source": [
    "## Selecting features"
   ]
  },
  {
   "cell_type": "code",
   "execution_count": 196,
   "metadata": {
    "ExecuteTime": {
     "end_time": "2019-07-11T07:38:28.964367Z",
     "start_time": "2019-07-11T07:05:36.556660Z"
    }
   },
   "outputs": [
    {
     "name": "stdout",
     "output_type": "stream",
     "text": [
      "Fitting estimator with 435 features.\n",
      "Fitting estimator with 434 features.\n",
      "Fitting estimator with 433 features.\n",
      "Fitting estimator with 432 features.\n",
      "Fitting estimator with 431 features.\n",
      "Fitting estimator with 430 features.\n",
      "Fitting estimator with 429 features.\n",
      "Fitting estimator with 428 features.\n",
      "Fitting estimator with 427 features.\n",
      "Fitting estimator with 426 features.\n",
      "Fitting estimator with 425 features.\n",
      "Fitting estimator with 424 features.\n",
      "Fitting estimator with 423 features.\n",
      "Fitting estimator with 422 features.\n",
      "Fitting estimator with 421 features.\n",
      "Fitting estimator with 420 features.\n",
      "Fitting estimator with 419 features.\n",
      "Fitting estimator with 418 features.\n",
      "Fitting estimator with 417 features.\n",
      "Fitting estimator with 416 features.\n",
      "Fitting estimator with 415 features.\n",
      "Fitting estimator with 414 features.\n",
      "Fitting estimator with 413 features.\n",
      "Fitting estimator with 412 features.\n",
      "Fitting estimator with 411 features.\n",
      "Fitting estimator with 410 features.\n",
      "Fitting estimator with 409 features.\n",
      "Fitting estimator with 408 features.\n",
      "Fitting estimator with 407 features.\n",
      "Fitting estimator with 406 features.\n",
      "Fitting estimator with 405 features.\n",
      "Fitting estimator with 404 features.\n",
      "Fitting estimator with 403 features.\n",
      "Fitting estimator with 402 features.\n",
      "Fitting estimator with 401 features.\n",
      "Fitting estimator with 400 features.\n",
      "Fitting estimator with 399 features.\n",
      "Fitting estimator with 398 features.\n",
      "Fitting estimator with 397 features.\n",
      "Fitting estimator with 396 features.\n",
      "Fitting estimator with 395 features.\n",
      "Fitting estimator with 394 features.\n",
      "Fitting estimator with 393 features.\n",
      "Fitting estimator with 392 features.\n",
      "Fitting estimator with 391 features.\n",
      "Fitting estimator with 390 features.\n",
      "Fitting estimator with 389 features.\n",
      "Fitting estimator with 388 features.\n",
      "Fitting estimator with 387 features.\n",
      "Fitting estimator with 386 features.\n",
      "Fitting estimator with 385 features.\n",
      "Fitting estimator with 384 features.\n",
      "Fitting estimator with 383 features.\n",
      "Fitting estimator with 382 features.\n",
      "Fitting estimator with 381 features.\n",
      "Fitting estimator with 380 features.\n",
      "Fitting estimator with 379 features.\n",
      "Fitting estimator with 378 features.\n",
      "Fitting estimator with 377 features.\n",
      "Fitting estimator with 376 features.\n",
      "Fitting estimator with 375 features.\n",
      "Fitting estimator with 374 features.\n",
      "Fitting estimator with 373 features.\n",
      "Fitting estimator with 372 features.\n",
      "Fitting estimator with 371 features.\n",
      "Fitting estimator with 370 features.\n",
      "Fitting estimator with 369 features.\n",
      "Fitting estimator with 368 features.\n",
      "Fitting estimator with 367 features.\n",
      "Fitting estimator with 366 features.\n",
      "Fitting estimator with 365 features.\n",
      "Fitting estimator with 364 features.\n",
      "Fitting estimator with 363 features.\n",
      "Fitting estimator with 362 features.\n",
      "Fitting estimator with 361 features.\n",
      "Fitting estimator with 360 features.\n",
      "Fitting estimator with 359 features.\n",
      "Fitting estimator with 358 features.\n",
      "Fitting estimator with 357 features.\n",
      "Fitting estimator with 356 features.\n",
      "Fitting estimator with 355 features.\n",
      "Fitting estimator with 354 features.\n",
      "Fitting estimator with 353 features.\n",
      "Fitting estimator with 352 features.\n",
      "Fitting estimator with 351 features.\n",
      "Fitting estimator with 350 features.\n",
      "Fitting estimator with 349 features.\n",
      "Fitting estimator with 348 features.\n",
      "Fitting estimator with 347 features.\n",
      "Fitting estimator with 346 features.\n",
      "Fitting estimator with 345 features.\n",
      "Fitting estimator with 344 features.\n",
      "Fitting estimator with 343 features.\n",
      "Fitting estimator with 342 features.\n",
      "Fitting estimator with 341 features.\n",
      "Fitting estimator with 340 features.\n",
      "Fitting estimator with 339 features.\n",
      "Fitting estimator with 338 features.\n",
      "Fitting estimator with 337 features.\n",
      "Fitting estimator with 336 features.\n",
      "Fitting estimator with 335 features.\n",
      "Fitting estimator with 334 features.\n",
      "Fitting estimator with 333 features.\n",
      "Fitting estimator with 332 features.\n",
      "Fitting estimator with 331 features.\n",
      "Fitting estimator with 330 features.\n",
      "Fitting estimator with 329 features.\n",
      "Fitting estimator with 328 features.\n",
      "Fitting estimator with 327 features.\n",
      "Fitting estimator with 326 features.\n",
      "Fitting estimator with 325 features.\n",
      "Fitting estimator with 324 features.\n",
      "Fitting estimator with 323 features.\n",
      "Fitting estimator with 322 features.\n",
      "Fitting estimator with 321 features.\n",
      "Fitting estimator with 320 features.\n",
      "Fitting estimator with 319 features.\n",
      "Fitting estimator with 318 features.\n",
      "Fitting estimator with 317 features.\n",
      "Fitting estimator with 316 features.\n",
      "Fitting estimator with 315 features.\n",
      "Fitting estimator with 314 features.\n",
      "Fitting estimator with 313 features.\n",
      "Fitting estimator with 312 features.\n",
      "Fitting estimator with 311 features.\n",
      "Fitting estimator with 310 features.\n",
      "Fitting estimator with 309 features.\n",
      "Fitting estimator with 308 features.\n",
      "Fitting estimator with 307 features.\n",
      "Fitting estimator with 306 features.\n",
      "Fitting estimator with 305 features.\n",
      "Fitting estimator with 304 features.\n",
      "Fitting estimator with 303 features.\n",
      "Fitting estimator with 302 features.\n",
      "Fitting estimator with 301 features.\n",
      "Fitting estimator with 300 features.\n",
      "Fitting estimator with 299 features.\n",
      "Fitting estimator with 298 features.\n",
      "Fitting estimator with 297 features.\n",
      "Fitting estimator with 296 features.\n",
      "Fitting estimator with 295 features.\n",
      "Fitting estimator with 294 features.\n",
      "Fitting estimator with 293 features.\n",
      "Fitting estimator with 292 features.\n",
      "Fitting estimator with 291 features.\n",
      "Fitting estimator with 290 features.\n",
      "Fitting estimator with 289 features.\n",
      "Fitting estimator with 288 features.\n",
      "Fitting estimator with 287 features.\n",
      "Fitting estimator with 286 features.\n",
      "Fitting estimator with 285 features.\n",
      "Fitting estimator with 284 features.\n",
      "Fitting estimator with 283 features.\n",
      "Fitting estimator with 282 features.\n",
      "Fitting estimator with 281 features.\n",
      "Fitting estimator with 280 features.\n",
      "Fitting estimator with 279 features.\n",
      "Fitting estimator with 278 features.\n",
      "Fitting estimator with 277 features.\n",
      "Fitting estimator with 276 features.\n",
      "Fitting estimator with 275 features.\n",
      "Fitting estimator with 274 features.\n",
      "Fitting estimator with 273 features.\n",
      "Fitting estimator with 272 features.\n",
      "Fitting estimator with 271 features.\n",
      "Fitting estimator with 270 features.\n",
      "Fitting estimator with 269 features.\n",
      "Fitting estimator with 268 features.\n",
      "Fitting estimator with 267 features.\n",
      "Fitting estimator with 266 features.\n",
      "Fitting estimator with 265 features.\n",
      "Fitting estimator with 264 features.\n",
      "Fitting estimator with 263 features.\n",
      "Fitting estimator with 262 features.\n",
      "Fitting estimator with 261 features.\n",
      "Fitting estimator with 260 features.\n",
      "Fitting estimator with 259 features.\n",
      "Fitting estimator with 258 features.\n",
      "Fitting estimator with 257 features.\n",
      "Fitting estimator with 256 features.\n",
      "Fitting estimator with 255 features.\n",
      "Fitting estimator with 254 features.\n",
      "Fitting estimator with 253 features.\n",
      "Fitting estimator with 252 features.\n",
      "Fitting estimator with 251 features.\n",
      "Fitting estimator with 250 features.\n",
      "Fitting estimator with 249 features.\n",
      "Fitting estimator with 248 features.\n",
      "Fitting estimator with 247 features.\n",
      "Fitting estimator with 246 features.\n",
      "Fitting estimator with 245 features.\n",
      "Fitting estimator with 244 features.\n",
      "Fitting estimator with 243 features.\n",
      "Fitting estimator with 242 features.\n",
      "Fitting estimator with 241 features.\n",
      "Fitting estimator with 240 features.\n",
      "Fitting estimator with 239 features.\n",
      "Fitting estimator with 238 features.\n",
      "Fitting estimator with 237 features.\n",
      "Fitting estimator with 236 features.\n",
      "Fitting estimator with 235 features.\n",
      "Fitting estimator with 234 features.\n",
      "Fitting estimator with 233 features.\n",
      "Fitting estimator with 232 features.\n",
      "Fitting estimator with 231 features.\n",
      "Fitting estimator with 230 features.\n",
      "Fitting estimator with 229 features.\n",
      "Fitting estimator with 228 features.\n",
      "Fitting estimator with 227 features.\n",
      "Fitting estimator with 226 features.\n",
      "Fitting estimator with 225 features.\n",
      "Fitting estimator with 224 features.\n",
      "Fitting estimator with 223 features.\n",
      "Fitting estimator with 222 features.\n",
      "Fitting estimator with 221 features.\n",
      "Fitting estimator with 220 features.\n",
      "Fitting estimator with 219 features.\n",
      "Fitting estimator with 218 features.\n",
      "Fitting estimator with 217 features.\n",
      "Fitting estimator with 216 features.\n",
      "Fitting estimator with 215 features.\n",
      "Fitting estimator with 214 features.\n"
     ]
    },
    {
     "name": "stdout",
     "output_type": "stream",
     "text": [
      "Fitting estimator with 213 features.\n",
      "Fitting estimator with 212 features.\n",
      "Fitting estimator with 211 features.\n",
      "Fitting estimator with 210 features.\n",
      "Fitting estimator with 209 features.\n",
      "Fitting estimator with 208 features.\n",
      "Fitting estimator with 207 features.\n",
      "Fitting estimator with 206 features.\n",
      "Fitting estimator with 205 features.\n",
      "Fitting estimator with 204 features.\n",
      "Fitting estimator with 203 features.\n",
      "Fitting estimator with 202 features.\n",
      "Fitting estimator with 201 features.\n",
      "Fitting estimator with 200 features.\n",
      "Fitting estimator with 199 features.\n",
      "Fitting estimator with 198 features.\n",
      "Fitting estimator with 197 features.\n",
      "Fitting estimator with 196 features.\n",
      "Fitting estimator with 195 features.\n",
      "Fitting estimator with 194 features.\n",
      "Fitting estimator with 193 features.\n",
      "Fitting estimator with 192 features.\n",
      "Fitting estimator with 191 features.\n",
      "Fitting estimator with 190 features.\n",
      "Fitting estimator with 189 features.\n",
      "Fitting estimator with 188 features.\n",
      "Fitting estimator with 187 features.\n",
      "Fitting estimator with 186 features.\n",
      "Fitting estimator with 185 features.\n",
      "Fitting estimator with 184 features.\n",
      "Fitting estimator with 183 features.\n",
      "Fitting estimator with 182 features.\n",
      "Fitting estimator with 181 features.\n",
      "Fitting estimator with 180 features.\n",
      "Fitting estimator with 179 features.\n",
      "Fitting estimator with 178 features.\n",
      "Fitting estimator with 177 features.\n",
      "Fitting estimator with 176 features.\n",
      "Fitting estimator with 175 features.\n",
      "Fitting estimator with 174 features.\n",
      "Fitting estimator with 173 features.\n",
      "Fitting estimator with 172 features.\n",
      "Fitting estimator with 171 features.\n",
      "Fitting estimator with 170 features.\n",
      "Fitting estimator with 169 features.\n",
      "Fitting estimator with 168 features.\n",
      "Fitting estimator with 167 features.\n",
      "Fitting estimator with 166 features.\n",
      "Fitting estimator with 165 features.\n",
      "Fitting estimator with 164 features.\n",
      "Fitting estimator with 163 features.\n",
      "Fitting estimator with 162 features.\n",
      "Fitting estimator with 161 features.\n",
      "Fitting estimator with 160 features.\n",
      "Fitting estimator with 159 features.\n",
      "Fitting estimator with 158 features.\n",
      "Fitting estimator with 157 features.\n",
      "Fitting estimator with 156 features.\n",
      "Fitting estimator with 155 features.\n",
      "Fitting estimator with 154 features.\n",
      "Fitting estimator with 153 features.\n",
      "Fitting estimator with 152 features.\n",
      "Fitting estimator with 151 features.\n",
      "Fitting estimator with 150 features.\n",
      "Fitting estimator with 149 features.\n",
      "Fitting estimator with 148 features.\n",
      "Fitting estimator with 147 features.\n",
      "Fitting estimator with 146 features.\n",
      "Fitting estimator with 145 features.\n",
      "Fitting estimator with 144 features.\n",
      "Fitting estimator with 143 features.\n",
      "Fitting estimator with 142 features.\n",
      "Fitting estimator with 141 features.\n",
      "Fitting estimator with 140 features.\n",
      "Fitting estimator with 139 features.\n",
      "Fitting estimator with 138 features.\n",
      "Fitting estimator with 137 features.\n",
      "Fitting estimator with 136 features.\n",
      "Fitting estimator with 135 features.\n",
      "Fitting estimator with 134 features.\n",
      "Fitting estimator with 133 features.\n",
      "Fitting estimator with 132 features.\n",
      "Fitting estimator with 131 features.\n",
      "Fitting estimator with 130 features.\n",
      "Fitting estimator with 129 features.\n",
      "Fitting estimator with 128 features.\n",
      "Fitting estimator with 127 features.\n",
      "Fitting estimator with 126 features.\n",
      "Fitting estimator with 125 features.\n",
      "Fitting estimator with 124 features.\n",
      "Fitting estimator with 123 features.\n",
      "Fitting estimator with 122 features.\n",
      "Fitting estimator with 121 features.\n",
      "Fitting estimator with 120 features.\n",
      "Fitting estimator with 119 features.\n",
      "Fitting estimator with 118 features.\n",
      "Fitting estimator with 117 features.\n",
      "Fitting estimator with 116 features.\n",
      "Fitting estimator with 115 features.\n",
      "Fitting estimator with 114 features.\n",
      "Fitting estimator with 113 features.\n",
      "Fitting estimator with 112 features.\n",
      "Fitting estimator with 111 features.\n",
      "Fitting estimator with 110 features.\n",
      "Fitting estimator with 109 features.\n",
      "Fitting estimator with 108 features.\n",
      "Fitting estimator with 107 features.\n",
      "Fitting estimator with 106 features.\n",
      "Fitting estimator with 105 features.\n",
      "Fitting estimator with 104 features.\n",
      "Fitting estimator with 103 features.\n",
      "Fitting estimator with 102 features.\n",
      "Fitting estimator with 101 features.\n",
      "Fitting estimator with 100 features.\n",
      "Fitting estimator with 99 features.\n",
      "Fitting estimator with 98 features.\n",
      "Fitting estimator with 97 features.\n",
      "Fitting estimator with 96 features.\n",
      "Fitting estimator with 95 features.\n",
      "Fitting estimator with 94 features.\n",
      "Fitting estimator with 93 features.\n",
      "Fitting estimator with 92 features.\n",
      "Fitting estimator with 91 features.\n",
      "Fitting estimator with 90 features.\n",
      "Fitting estimator with 89 features.\n",
      "Fitting estimator with 88 features.\n",
      "Fitting estimator with 87 features.\n",
      "Fitting estimator with 86 features.\n",
      "Fitting estimator with 85 features.\n",
      "Fitting estimator with 84 features.\n",
      "Fitting estimator with 83 features.\n",
      "Fitting estimator with 82 features.\n",
      "Fitting estimator with 81 features.\n",
      "Fitting estimator with 80 features.\n",
      "Fitting estimator with 79 features.\n",
      "Fitting estimator with 78 features.\n",
      "Fitting estimator with 77 features.\n",
      "Fitting estimator with 76 features.\n",
      "Fitting estimator with 75 features.\n",
      "Fitting estimator with 74 features.\n",
      "Fitting estimator with 73 features.\n",
      "Fitting estimator with 72 features.\n",
      "Fitting estimator with 71 features.\n",
      "Fitting estimator with 70 features.\n",
      "Fitting estimator with 69 features.\n",
      "Fitting estimator with 68 features.\n",
      "Fitting estimator with 67 features.\n",
      "Fitting estimator with 66 features.\n",
      "Fitting estimator with 65 features.\n",
      "Fitting estimator with 64 features.\n",
      "Fitting estimator with 63 features.\n",
      "Fitting estimator with 62 features.\n",
      "Fitting estimator with 61 features.\n",
      "Fitting estimator with 60 features.\n",
      "Fitting estimator with 59 features.\n",
      "Fitting estimator with 58 features.\n",
      "Fitting estimator with 57 features.\n",
      "Fitting estimator with 56 features.\n",
      "Fitting estimator with 55 features.\n",
      "Fitting estimator with 54 features.\n",
      "Fitting estimator with 53 features.\n",
      "Fitting estimator with 52 features.\n",
      "Fitting estimator with 51 features.\n",
      "Fitting estimator with 50 features.\n",
      "Fitting estimator with 49 features.\n",
      "Fitting estimator with 48 features.\n",
      "Fitting estimator with 47 features.\n",
      "Fitting estimator with 46 features.\n",
      "Fitting estimator with 45 features.\n",
      "Fitting estimator with 44 features.\n",
      "Fitting estimator with 43 features.\n",
      "Fitting estimator with 42 features.\n",
      "Fitting estimator with 41 features.\n",
      "Fitting estimator with 40 features.\n",
      "Fitting estimator with 39 features.\n",
      "Fitting estimator with 38 features.\n",
      "Fitting estimator with 37 features.\n",
      "Fitting estimator with 36 features.\n",
      "Fitting estimator with 35 features.\n",
      "Fitting estimator with 34 features.\n",
      "Fitting estimator with 33 features.\n",
      "Fitting estimator with 32 features.\n",
      "Fitting estimator with 31 features.\n",
      "Fitting estimator with 30 features.\n",
      "Fitting estimator with 29 features.\n",
      "Fitting estimator with 28 features.\n",
      "Fitting estimator with 27 features.\n",
      "Fitting estimator with 26 features.\n",
      "Fitting estimator with 25 features.\n",
      "Fitting estimator with 24 features.\n",
      "Fitting estimator with 23 features.\n",
      "Fitting estimator with 22 features.\n",
      "Fitting estimator with 21 features.\n",
      "Fitting estimator with 20 features.\n",
      "Fitting estimator with 19 features.\n",
      "Fitting estimator with 18 features.\n",
      "Fitting estimator with 17 features.\n",
      "Fitting estimator with 16 features.\n",
      "Fitting estimator with 15 features.\n",
      "Fitting estimator with 14 features.\n",
      "Fitting estimator with 13 features.\n",
      "Fitting estimator with 12 features.\n",
      "Fitting estimator with 11 features.\n",
      "Fitting estimator with 10 features.\n",
      "Fitting estimator with 9 features.\n",
      "Fitting estimator with 8 features.\n",
      "Fitting estimator with 7 features.\n",
      "Fitting estimator with 6 features.\n",
      "Fitting estimator with 5 features.\n",
      "Fitting estimator with 4 features.\n",
      "Fitting estimator with 3 features.\n",
      "Fitting estimator with 2 features.\n",
      "Fitting estimator with 435 features.\n",
      "Fitting estimator with 434 features.\n",
      "Fitting estimator with 433 features.\n",
      "Fitting estimator with 432 features.\n",
      "Fitting estimator with 431 features.\n",
      "Fitting estimator with 430 features.\n",
      "Fitting estimator with 429 features.\n",
      "Fitting estimator with 428 features.\n",
      "Fitting estimator with 427 features.\n",
      "Fitting estimator with 426 features.\n",
      "Fitting estimator with 425 features.\n",
      "Fitting estimator with 424 features.\n",
      "Fitting estimator with 423 features.\n"
     ]
    },
    {
     "name": "stdout",
     "output_type": "stream",
     "text": [
      "Fitting estimator with 422 features.\n",
      "Fitting estimator with 421 features.\n",
      "Fitting estimator with 420 features.\n",
      "Fitting estimator with 419 features.\n",
      "Fitting estimator with 418 features.\n",
      "Fitting estimator with 417 features.\n",
      "Fitting estimator with 416 features.\n",
      "Fitting estimator with 415 features.\n",
      "Fitting estimator with 414 features.\n",
      "Fitting estimator with 413 features.\n",
      "Fitting estimator with 412 features.\n",
      "Fitting estimator with 411 features.\n",
      "Fitting estimator with 410 features.\n",
      "Fitting estimator with 409 features.\n",
      "Fitting estimator with 408 features.\n",
      "Fitting estimator with 407 features.\n",
      "Fitting estimator with 406 features.\n",
      "Fitting estimator with 405 features.\n",
      "Fitting estimator with 404 features.\n",
      "Fitting estimator with 403 features.\n",
      "Fitting estimator with 402 features.\n",
      "Fitting estimator with 401 features.\n",
      "Fitting estimator with 400 features.\n",
      "Fitting estimator with 399 features.\n",
      "Fitting estimator with 398 features.\n",
      "Fitting estimator with 397 features.\n",
      "Fitting estimator with 396 features.\n",
      "Fitting estimator with 395 features.\n",
      "Fitting estimator with 394 features.\n",
      "Fitting estimator with 393 features.\n",
      "Fitting estimator with 392 features.\n",
      "Fitting estimator with 391 features.\n",
      "Fitting estimator with 390 features.\n",
      "Fitting estimator with 389 features.\n",
      "Fitting estimator with 388 features.\n",
      "Fitting estimator with 387 features.\n",
      "Fitting estimator with 386 features.\n",
      "Fitting estimator with 385 features.\n",
      "Fitting estimator with 384 features.\n",
      "Fitting estimator with 383 features.\n",
      "Fitting estimator with 382 features.\n",
      "Fitting estimator with 381 features.\n",
      "Fitting estimator with 380 features.\n",
      "Fitting estimator with 379 features.\n",
      "Fitting estimator with 378 features.\n",
      "Fitting estimator with 377 features.\n",
      "Fitting estimator with 376 features.\n",
      "Fitting estimator with 375 features.\n",
      "Fitting estimator with 374 features.\n",
      "Fitting estimator with 373 features.\n",
      "Fitting estimator with 372 features.\n",
      "Fitting estimator with 371 features.\n",
      "Fitting estimator with 370 features.\n",
      "Fitting estimator with 369 features.\n",
      "Fitting estimator with 368 features.\n",
      "Fitting estimator with 367 features.\n",
      "Fitting estimator with 366 features.\n",
      "Fitting estimator with 365 features.\n",
      "Fitting estimator with 364 features.\n",
      "Fitting estimator with 363 features.\n",
      "Fitting estimator with 362 features.\n",
      "Fitting estimator with 361 features.\n",
      "Fitting estimator with 360 features.\n",
      "Fitting estimator with 359 features.\n",
      "Fitting estimator with 358 features.\n",
      "Fitting estimator with 357 features.\n",
      "Fitting estimator with 356 features.\n",
      "Fitting estimator with 355 features.\n",
      "Fitting estimator with 354 features.\n",
      "Fitting estimator with 353 features.\n",
      "Fitting estimator with 352 features.\n",
      "Fitting estimator with 351 features.\n",
      "Fitting estimator with 350 features.\n",
      "Fitting estimator with 349 features.\n",
      "Fitting estimator with 348 features.\n",
      "Fitting estimator with 347 features.\n",
      "Fitting estimator with 346 features.\n",
      "Fitting estimator with 345 features.\n",
      "Fitting estimator with 344 features.\n",
      "Fitting estimator with 343 features.\n",
      "Fitting estimator with 342 features.\n",
      "Fitting estimator with 341 features.\n",
      "Fitting estimator with 340 features.\n",
      "Fitting estimator with 339 features.\n",
      "Fitting estimator with 338 features.\n",
      "Fitting estimator with 337 features.\n",
      "Fitting estimator with 336 features.\n",
      "Fitting estimator with 335 features.\n",
      "Fitting estimator with 334 features.\n",
      "Fitting estimator with 333 features.\n",
      "Fitting estimator with 332 features.\n",
      "Fitting estimator with 331 features.\n",
      "Fitting estimator with 330 features.\n",
      "Fitting estimator with 329 features.\n",
      "Fitting estimator with 328 features.\n",
      "Fitting estimator with 327 features.\n",
      "Fitting estimator with 326 features.\n",
      "Fitting estimator with 325 features.\n",
      "Fitting estimator with 324 features.\n",
      "Fitting estimator with 323 features.\n",
      "Fitting estimator with 322 features.\n",
      "Fitting estimator with 321 features.\n",
      "Fitting estimator with 320 features.\n",
      "Fitting estimator with 319 features.\n",
      "Fitting estimator with 318 features.\n",
      "Fitting estimator with 317 features.\n",
      "Fitting estimator with 316 features.\n",
      "Fitting estimator with 315 features.\n",
      "Fitting estimator with 314 features.\n",
      "Fitting estimator with 313 features.\n",
      "Fitting estimator with 312 features.\n",
      "Fitting estimator with 311 features.\n",
      "Fitting estimator with 310 features.\n",
      "Fitting estimator with 309 features.\n",
      "Fitting estimator with 308 features.\n",
      "Fitting estimator with 307 features.\n",
      "Fitting estimator with 306 features.\n",
      "Fitting estimator with 305 features.\n",
      "Fitting estimator with 304 features.\n",
      "Fitting estimator with 303 features.\n",
      "Fitting estimator with 302 features.\n",
      "Fitting estimator with 301 features.\n",
      "Fitting estimator with 300 features.\n",
      "Fitting estimator with 299 features.\n",
      "Fitting estimator with 298 features.\n",
      "Fitting estimator with 297 features.\n",
      "Fitting estimator with 296 features.\n",
      "Fitting estimator with 295 features.\n",
      "Fitting estimator with 294 features.\n",
      "Fitting estimator with 293 features.\n",
      "Fitting estimator with 292 features.\n",
      "Fitting estimator with 291 features.\n",
      "Fitting estimator with 290 features.\n",
      "Fitting estimator with 289 features.\n",
      "Fitting estimator with 288 features.\n",
      "Fitting estimator with 287 features.\n",
      "Fitting estimator with 286 features.\n",
      "Fitting estimator with 285 features.\n",
      "Fitting estimator with 284 features.\n",
      "Fitting estimator with 283 features.\n",
      "Fitting estimator with 282 features.\n",
      "Fitting estimator with 281 features.\n",
      "Fitting estimator with 280 features.\n",
      "Fitting estimator with 279 features.\n",
      "Fitting estimator with 278 features.\n"
     ]
    }
   ],
   "source": [
    "estimator = SVR(kernel=\"linear\", C=1, epsilon=1)\n",
    "selector = RFECV(estimator, step=1,\n",
    "                 scoring='neg_mean_squared_error',\n",
    "                 cv=ps, n_jobs=1, verbose=1)\n",
    "selector = selector.fit(X, y.ravel())"
   ]
  },
  {
   "cell_type": "code",
   "execution_count": 199,
   "metadata": {
    "ExecuteTime": {
     "end_time": "2019-07-11T07:48:54.357906Z",
     "start_time": "2019-07-11T07:48:54.035848Z"
    }
   },
   "outputs": [
    {
     "data": {
      "text/plain": [
       "2                                       C(element)[T.4]\n",
       "4                                       C(element)[T.6]\n",
       "6                                       C(element)[T.8]\n",
       "7                                       C(element)[T.9]\n",
       "9                                      C(element)[T.12]\n",
       "10                                     C(element)[T.13]\n",
       "11                                     C(element)[T.14]\n",
       "14                                     C(element)[T.18]\n",
       "16                                     C(element)[T.23]\n",
       "19                                     C(element)[T.27]\n",
       "20                                     C(element)[T.28]\n",
       "23                                     C(element)[T.33]\n",
       "26                                     C(element)[T.37]\n",
       "27                                     C(element)[T.39]\n",
       "28                                     C(element)[T.40]\n",
       "29                                     C(element)[T.42]\n",
       "30                                     C(element)[T.43]\n",
       "33                                     C(element)[T.48]\n",
       "34                                     C(element)[T.49]\n",
       "35                                     C(element)[T.50]\n",
       "37                                     C(element)[T.54]\n",
       "38                                     C(element)[T.55]\n",
       "40                                     C(element)[T.57]\n",
       "41                                     C(element)[T.58]\n",
       "44                                     C(element)[T.61]\n",
       "45                                     C(element)[T.62]\n",
       "46                                     C(element)[T.66]\n",
       "47                                     C(element)[T.69]\n",
       "49                                     C(element)[T.71]\n",
       "50                                     C(element)[T.72]\n",
       "                             ...                       \n",
       "379                             C(opposition_team)[T.4]\n",
       "380                             C(opposition_team)[T.5]\n",
       "381                             C(opposition_team)[T.6]\n",
       "382                             C(opposition_team)[T.7]\n",
       "383                             C(opposition_team)[T.8]\n",
       "384                             C(opposition_team)[T.9]\n",
       "385                            C(opposition_team)[T.10]\n",
       "387                            C(opposition_team)[T.12]\n",
       "388                            C(opposition_team)[T.13]\n",
       "389                            C(opposition_team)[T.14]\n",
       "390                            C(opposition_team)[T.15]\n",
       "391                            C(opposition_team)[T.16]\n",
       "392                            C(opposition_team)[T.17]\n",
       "393                            C(opposition_team)[T.18]\n",
       "394                            C(opposition_team)[T.19]\n",
       "395                            C(opposition_team)[T.20]\n",
       "396                                            was_home\n",
       "397                                               value\n",
       "399                                          is_weekday\n",
       "400                                             is_late\n",
       "401                                            is_early\n",
       "402                    rolling_avg_total_points_element\n",
       "405                      rolling_avg_minutes_element_p3\n",
       "406                             rolling_avg_bps_element\n",
       "408                    rolling_avg_goals_scored_element\n",
       "411                rolling_avg_completed_passes_element\n",
       "416                         rolling_avg_tackled_element\n",
       "417                        rolling_avg_dribbles_element\n",
       "424                         rolling_avg_offside_element\n",
       "431    rolling_avg_total_points_against_opposition_team\n",
       "Length: 277, dtype: object"
      ]
     },
     "execution_count": 199,
     "metadata": {},
     "output_type": "execute_result"
    }
   ],
   "source": [
    "features = patsy.dmatrices(formula, element_gameweek_df, return_type='dataframe')[1].columns\n",
    "selected_features = pd.Series(features)[selector.support_]\n",
    "selected_features"
   ]
  },
  {
   "cell_type": "code",
   "execution_count": 200,
   "metadata": {
    "ExecuteTime": {
     "end_time": "2019-07-11T07:49:08.801689Z",
     "start_time": "2019-07-11T07:49:08.772022Z"
    }
   },
   "outputs": [],
   "source": [
    "X_sel = X[:,selector.support_]\n",
    "X_train_sel = X_train[:,selector.support_]\n",
    "X_test_sel = X_test[:,selector.support_]"
   ]
  },
  {
   "cell_type": "markdown",
   "metadata": {},
   "source": [
    "## Tuning model"
   ]
  },
  {
   "cell_type": "code",
   "execution_count": 264,
   "metadata": {
    "ExecuteTime": {
     "end_time": "2019-07-11T08:42:39.078579Z",
     "start_time": "2019-07-11T08:42:39.070118Z"
    }
   },
   "outputs": [],
   "source": [
    "rbf_gamma = [0.01275, 0.013, 0.01325]\n",
    "rbf_C = [6.80, 6.85, 6.90]\n",
    "rbf_epsilon = [1.95, 2, 2.05]\n",
    "\n",
    "rbf_parameters = {\n",
    "    'gamma': rbf_gamma,\n",
    "    'C': rbf_C,\n",
    "    'epsilon': rbf_epsilon\n",
    "}"
   ]
  },
  {
   "cell_type": "code",
   "execution_count": 265,
   "metadata": {
    "ExecuteTime": {
     "end_time": "2019-07-11T08:43:36.723922Z",
     "start_time": "2019-07-11T08:42:39.597346Z"
    }
   },
   "outputs": [
    {
     "name": "stdout",
     "output_type": "stream",
     "text": [
      "Fitting 1 folds for each of 27 candidates, totalling 27 fits\n"
     ]
    },
    {
     "name": "stderr",
     "output_type": "stream",
     "text": [
      "[Parallel(n_jobs=1)]: Using backend SequentialBackend with 1 concurrent workers.\n",
      "[Parallel(n_jobs=1)]: Done  27 out of  27 | elapsed:   57.1s finished\n"
     ]
    },
    {
     "data": {
      "text/plain": [
       "GridSearchCV(cv=PredefinedSplit(test_fold=array([-1, -1, ...,  0,  0])),\n",
       "             error_score=100,\n",
       "             estimator=SVR(C=1.0, cache_size=200, coef0=0.0, degree=3,\n",
       "                           epsilon=0.1, gamma='auto_deprecated', kernel='rbf',\n",
       "                           max_iter=-1, shrinking=True, tol=0.001,\n",
       "                           verbose=False),\n",
       "             iid='warn', n_jobs=1,\n",
       "             param_grid={'C': [6.8, 6.85, 6.9], 'epsilon': [1.95, 2, 2.05],\n",
       "                         'gamma': [0.01275, 0.013, 0.01325]},\n",
       "             pre_dispatch='2*n_jobs', refit=False, return_train_score=False,\n",
       "             scoring=['neg_mean_absolute_error', 'neg_mean_squared_error'],\n",
       "             verbose=1)"
      ]
     },
     "execution_count": 265,
     "metadata": {},
     "output_type": "execute_result"
    }
   ],
   "source": [
    "gs_model_rbf = GridSearchCV(\n",
    "    SVR(kernel='rbf'),\n",
    "    rbf_parameters,\n",
    "    scoring=['neg_mean_absolute_error', 'neg_mean_squared_error'],\n",
    "    refit=False,\n",
    "    cv=ps,\n",
    "    error_score=100, n_jobs=1, verbose=1)\n",
    "gs_model_rbf.fit(X_sel, y.ravel())"
   ]
  },
  {
   "cell_type": "code",
   "execution_count": 266,
   "metadata": {
    "ExecuteTime": {
     "end_time": "2019-07-11T08:43:36.744640Z",
     "start_time": "2019-07-11T08:43:36.726668Z"
    }
   },
   "outputs": [
    {
     "data": {
      "text/html": [
       "<div>\n",
       "<style scoped>\n",
       "    .dataframe tbody tr th:only-of-type {\n",
       "        vertical-align: middle;\n",
       "    }\n",
       "\n",
       "    .dataframe tbody tr th {\n",
       "        vertical-align: top;\n",
       "    }\n",
       "\n",
       "    .dataframe thead th {\n",
       "        text-align: right;\n",
       "    }\n",
       "</style>\n",
       "<table border=\"1\" class=\"dataframe\">\n",
       "  <thead>\n",
       "    <tr style=\"text-align: right;\">\n",
       "      <th></th>\n",
       "      <th>param_C</th>\n",
       "      <th>param_epsilon</th>\n",
       "      <th>param_gamma</th>\n",
       "      <th>split0_test_neg_mean_absolute_error</th>\n",
       "      <th>split0_test_neg_mean_squared_error</th>\n",
       "    </tr>\n",
       "  </thead>\n",
       "  <tbody>\n",
       "    <tr>\n",
       "      <th>13</th>\n",
       "      <td>6.85</td>\n",
       "      <td>2</td>\n",
       "      <td>0.013</td>\n",
       "      <td>-2.259001</td>\n",
       "      <td>-9.488008</td>\n",
       "    </tr>\n",
       "  </tbody>\n",
       "</table>\n",
       "</div>"
      ],
      "text/plain": [
       "   param_C param_epsilon param_gamma  split0_test_neg_mean_absolute_error  \\\n",
       "13    6.85             2       0.013                            -2.259001   \n",
       "\n",
       "    split0_test_neg_mean_squared_error  \n",
       "13                           -9.488008  "
      ]
     },
     "execution_count": 266,
     "metadata": {},
     "output_type": "execute_result"
    }
   ],
   "source": [
    "gs_model_rbf_df = pd.DataFrame(gs_model_rbf.cv_results_)[[\n",
    "    'param_C','param_epsilon','param_gamma',\n",
    "    'split0_test_neg_mean_absolute_error',\n",
    "    'split0_test_neg_mean_squared_error'\n",
    "]]\n",
    "\n",
    "gs_model_rbf_df[\n",
    "    gs_model_rbf_df['split0_test_neg_mean_squared_error'] == \\\n",
    "    gs_model_rbf_df['split0_test_neg_mean_squared_error'].max()]\n"
   ]
  },
  {
   "cell_type": "code",
   "execution_count": 283,
   "metadata": {
    "ExecuteTime": {
     "end_time": "2019-07-11T08:46:23.714018Z",
     "start_time": "2019-07-11T08:46:23.707525Z"
    }
   },
   "outputs": [],
   "source": [
    "linear_C = [1.6, 1.625, 1.65]\n",
    "linear_epsilon = [1.725, 1.75, 1.775]\n",
    "\n",
    "linear_parameters = {\n",
    "    'C': linear_C,\n",
    "    'epsilon': linear_epsilon\n",
    "}"
   ]
  },
  {
   "cell_type": "code",
   "execution_count": 284,
   "metadata": {
    "ExecuteTime": {
     "end_time": "2019-07-11T08:46:49.348481Z",
     "start_time": "2019-07-11T08:46:24.039956Z"
    }
   },
   "outputs": [
    {
     "name": "stdout",
     "output_type": "stream",
     "text": [
      "Fitting 1 folds for each of 9 candidates, totalling 9 fits\n"
     ]
    },
    {
     "name": "stderr",
     "output_type": "stream",
     "text": [
      "[Parallel(n_jobs=1)]: Using backend SequentialBackend with 1 concurrent workers.\n",
      "[Parallel(n_jobs=1)]: Done   9 out of   9 | elapsed:   25.3s finished\n"
     ]
    },
    {
     "data": {
      "text/plain": [
       "GridSearchCV(cv=PredefinedSplit(test_fold=array([-1, -1, ...,  0,  0])),\n",
       "             error_score=100,\n",
       "             estimator=SVR(C=1.0, cache_size=200, coef0=0.0, degree=3,\n",
       "                           epsilon=0.1, gamma='auto_deprecated',\n",
       "                           kernel='linear', max_iter=-1, shrinking=True,\n",
       "                           tol=0.001, verbose=False),\n",
       "             iid='warn', n_jobs=1,\n",
       "             param_grid={'C': [1.6, 1.625, 1.65],\n",
       "                         'epsilon': [1.725, 1.75, 1.775]},\n",
       "             pre_dispatch='2*n_jobs', refit=False, return_train_score=False,\n",
       "             scoring=['neg_mean_absolute_error', 'neg_mean_squared_error'],\n",
       "             verbose=1)"
      ]
     },
     "execution_count": 284,
     "metadata": {},
     "output_type": "execute_result"
    }
   ],
   "source": [
    "gs_model_linear = GridSearchCV(\n",
    "    SVR(kernel='linear'),\n",
    "    linear_parameters,\n",
    "    scoring=['neg_mean_absolute_error', 'neg_mean_squared_error'],\n",
    "    refit=False,\n",
    "    cv=ps,\n",
    "    error_score=100, n_jobs=1, verbose=1)\n",
    "gs_model_linear.fit(X_sel, y.ravel())"
   ]
  },
  {
   "cell_type": "code",
   "execution_count": 285,
   "metadata": {
    "ExecuteTime": {
     "end_time": "2019-07-11T08:46:49.381334Z",
     "start_time": "2019-07-11T08:46:49.351292Z"
    }
   },
   "outputs": [
    {
     "data": {
      "text/html": [
       "<div>\n",
       "<style scoped>\n",
       "    .dataframe tbody tr th:only-of-type {\n",
       "        vertical-align: middle;\n",
       "    }\n",
       "\n",
       "    .dataframe tbody tr th {\n",
       "        vertical-align: top;\n",
       "    }\n",
       "\n",
       "    .dataframe thead th {\n",
       "        text-align: right;\n",
       "    }\n",
       "</style>\n",
       "<table border=\"1\" class=\"dataframe\">\n",
       "  <thead>\n",
       "    <tr style=\"text-align: right;\">\n",
       "      <th></th>\n",
       "      <th>param_C</th>\n",
       "      <th>param_epsilon</th>\n",
       "      <th>split0_test_neg_mean_absolute_error</th>\n",
       "      <th>split0_test_neg_mean_squared_error</th>\n",
       "    </tr>\n",
       "  </thead>\n",
       "  <tbody>\n",
       "    <tr>\n",
       "      <th>4</th>\n",
       "      <td>1.625</td>\n",
       "      <td>1.75</td>\n",
       "      <td>-2.202931</td>\n",
       "      <td>-9.565783</td>\n",
       "    </tr>\n",
       "  </tbody>\n",
       "</table>\n",
       "</div>"
      ],
      "text/plain": [
       "  param_C param_epsilon  split0_test_neg_mean_absolute_error  \\\n",
       "4   1.625          1.75                            -2.202931   \n",
       "\n",
       "   split0_test_neg_mean_squared_error  \n",
       "4                           -9.565783  "
      ]
     },
     "execution_count": 285,
     "metadata": {},
     "output_type": "execute_result"
    }
   ],
   "source": [
    "gs_model_linear_df = pd.DataFrame(gs_model_linear.cv_results_)[[\n",
    "    'param_C','param_epsilon',\n",
    "    'split0_test_neg_mean_absolute_error',\n",
    "    'split0_test_neg_mean_squared_error'\n",
    "]]\n",
    "\n",
    "gs_model_linear_df[\n",
    "    gs_model_linear_df['split0_test_neg_mean_squared_error'] == \\\n",
    "    gs_model_linear_df['split0_test_neg_mean_squared_error'].max()]"
   ]
  },
  {
   "cell_type": "markdown",
   "metadata": {},
   "source": [
    "# Evaluating model"
   ]
  },
  {
   "cell_type": "code",
   "execution_count": 270,
   "metadata": {
    "ExecuteTime": {
     "end_time": "2019-07-11T08:44:25.156190Z",
     "start_time": "2019-07-11T08:44:23.642217Z"
    }
   },
   "outputs": [
    {
     "data": {
      "text/plain": [
       "SVR(C=6.85, cache_size=200, coef0=0.0, degree=3, epsilon=2.0, gamma=0.013,\n",
       "    kernel='rbf', max_iter=-1, shrinking=True, tol=0.001, verbose=False)"
      ]
     },
     "execution_count": 270,
     "metadata": {},
     "output_type": "execute_result"
    }
   ],
   "source": [
    "model = SVR(kernel='rbf', gamma=0.013, C=6.85, epsilon=2.0)\n",
    "model.fit(X_train_sel, y_train.ravel())"
   ]
  },
  {
   "cell_type": "code",
   "execution_count": 271,
   "metadata": {
    "ExecuteTime": {
     "end_time": "2019-07-11T08:44:25.544610Z",
     "start_time": "2019-07-11T08:44:25.159242Z"
    }
   },
   "outputs": [
    {
     "data": {
      "text/plain": [
       "(2.259000518861667, 9.48800791290286)"
      ]
     },
     "execution_count": 271,
     "metadata": {},
     "output_type": "execute_result"
    }
   ],
   "source": [
    "# get predictions for test set\n",
    "y_pred = model.predict(X_test_sel).flatten()\n",
    "\n",
    "# calculate cross entropy loss for test set\n",
    "test_loss = (mean_absolute_error(y_test, y_pred), mean_squared_error(y_test, y_pred))\n",
    "test_loss"
   ]
  },
  {
   "cell_type": "code",
   "execution_count": 272,
   "metadata": {
    "ExecuteTime": {
     "end_time": "2019-07-11T08:44:28.112725Z",
     "start_time": "2019-07-11T08:44:28.095879Z"
    }
   },
   "outputs": [
    {
     "data": {
      "text/plain": [
       "count    948.000000\n",
       "mean       2.889086\n",
       "std        0.843341\n",
       "min        1.021920\n",
       "25%        2.270869\n",
       "50%        2.860818\n",
       "75%        3.444546\n",
       "max        5.589426\n",
       "dtype: float64"
      ]
     },
     "execution_count": 272,
     "metadata": {},
     "output_type": "execute_result"
    }
   ],
   "source": [
    "pd.Series(y_pred).describe()"
   ]
  },
  {
   "cell_type": "code",
   "execution_count": 273,
   "metadata": {
    "ExecuteTime": {
     "end_time": "2019-07-11T08:44:32.595735Z",
     "start_time": "2019-07-11T08:44:29.553228Z"
    }
   },
   "outputs": [
    {
     "data": {
      "text/plain": [
       "SVR(C=2.5, cache_size=200, coef0=0.0, degree=3, epsilon=1.5, gamma=0.05,\n",
       "    kernel='rbf', max_iter=-1, shrinking=True, tol=0.001, verbose=False)"
      ]
     },
     "execution_count": 273,
     "metadata": {},
     "output_type": "execute_result"
    }
   ],
   "source": [
    "# refit model on all data\n",
    "model_full = SVR(kernel='rbf', gamma=0.05, C=2.5, epsilon=1.5)\n",
    "model_full.fit(X_sel, y.ravel())"
   ]
  },
  {
   "cell_type": "code",
   "execution_count": 274,
   "metadata": {
    "ExecuteTime": {
     "end_time": "2019-07-11T08:44:36.603465Z",
     "start_time": "2019-07-11T08:44:33.996047Z"
    }
   },
   "outputs": [
    {
     "data": {
      "text/plain": [
       "(1.8719902534375135, 7.299103431907756)"
      ]
     },
     "execution_count": 274,
     "metadata": {},
     "output_type": "execute_result"
    }
   ],
   "source": [
    "# get predictions for whole set\n",
    "y_pred_full = model_full.predict(X_sel).flatten()\n",
    "\n",
    "# calculate cross entropy loss for test set\n",
    "test_loss_full = (mean_absolute_error(y, y_pred_full), mean_squared_error(y, y_pred_full))\n",
    "test_loss_full"
   ]
  },
  {
   "cell_type": "code",
   "execution_count": 275,
   "metadata": {
    "ExecuteTime": {
     "end_time": "2019-07-11T08:44:40.944361Z",
     "start_time": "2019-07-11T08:44:40.926022Z"
    }
   },
   "outputs": [
    {
     "data": {
      "text/plain": [
       "count    3644.000000\n",
       "mean        2.641043\n",
       "std         1.001333\n",
       "min         0.101995\n",
       "25%         1.871014\n",
       "50%         2.525510\n",
       "75%         3.343224\n",
       "max         7.077776\n",
       "dtype: float64"
      ]
     },
     "execution_count": 275,
     "metadata": {},
     "output_type": "execute_result"
    }
   ],
   "source": [
    "pd.Series(y_pred_full).describe()"
   ]
  },
  {
   "cell_type": "code",
   "execution_count": 276,
   "metadata": {
    "ExecuteTime": {
     "end_time": "2019-07-11T08:44:41.831568Z",
     "start_time": "2019-07-11T08:44:41.812505Z"
    }
   },
   "outputs": [
    {
     "data": {
      "text/plain": [
       "count    3644.000000\n",
       "mean        1.871990\n",
       "std         1.948281\n",
       "min         0.000144\n",
       "25%         0.688436\n",
       "50%         1.474404\n",
       "75%         2.177315\n",
       "max        15.914270\n",
       "dtype: float64"
      ]
     },
     "execution_count": 276,
     "metadata": {},
     "output_type": "execute_result"
    }
   ],
   "source": [
    "abs(pd.Series(y.ravel()) - pd.Series(y_pred_full)).describe()"
   ]
  },
  {
   "cell_type": "code",
   "execution_count": 277,
   "metadata": {
    "ExecuteTime": {
     "end_time": "2019-07-11T08:44:43.317823Z",
     "start_time": "2019-07-11T08:44:42.689008Z"
    }
   },
   "outputs": [
    {
     "data": {
      "image/png": "[encoded data removed]",
      "text/plain": [
       "<Figure size 720x576 with 1 Axes>"
      ]
     },
     "metadata": {
      "needs_background": "light"
     },
     "output_type": "display_data"
    }
   ],
   "source": [
    "plt.figure(figsize=(10, 8))\n",
    "plt.hist(pd.Series(y_pred_full), bins=25, alpha=0.75, density=True, label='predicted')\n",
    "plt.hist(pd.Series(y.ravel()), bins=25, alpha=0.75, density=True, label='observed')\n",
    "plt.legend()\n",
    "plt.show()"
   ]
  },
  {
   "cell_type": "code",
   "execution_count": 278,
   "metadata": {
    "ExecuteTime": {
     "end_time": "2019-07-11T08:44:43.971375Z",
     "start_time": "2019-07-11T08:44:43.536314Z"
    }
   },
   "outputs": [
    {
     "data": {
      "image/png": "[encoded data removed]",
      "text/plain": [
       "<Figure size 720x576 with 1 Axes>"
      ]
     },
     "metadata": {
      "needs_background": "light"
     },
     "output_type": "display_data"
    }
   ],
   "source": [
    "plt.figure(figsize=(10, 8))\n",
    "plt.scatter(pd.Series(y.ravel()), pd.Series(y_pred_full))\n",
    "plt.plot(np.linspace(-5, 25), np.linspace(-5, 25))\n",
    "plt.ylabel('Predicted total points')\n",
    "plt.xlabel('Observed total points')\n",
    "plt.ylim((-2, 10))\n",
    "plt.show()"
   ]
  }
 ],
 "metadata": {
  "kernelspec": {
   "display_name": "Python 3",
   "language": "python",
   "name": "python3"
  },
  "language_info": {
   "codemirror_mode": {
    "name": "ipython",
    "version": 3
   },
   "file_extension": ".py",
   "mimetype": "text/x-python",
   "name": "python",
   "nbconvert_exporter": "python",
   "pygments_lexer": "ipython3",
   "version": "3.6.7"
  },
  "toc": {
   "nav_menu": {},
   "number_sections": true,
   "sideBar": true,
   "skip_h1_title": false,
   "title_cell": "Table of Contents",
   "title_sidebar": "Contents",
   "toc_cell": false,
   "toc_position": {},
   "toc_section_display": true,
   "toc_window_display": false
  }
 },
 "nbformat": 4,
 "nbformat_minor": 2
}
