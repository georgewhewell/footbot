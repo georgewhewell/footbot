{
 "cells": [
  {
   "cell_type": "markdown",
   "metadata": {
    "heading_collapsed": true
   },
   "source": [
    "# Set up"
   ]
  },
  {
   "cell_type": "code",
   "execution_count": 1,
   "metadata": {
    "ExecuteTime": {
     "end_time": "2019-07-12T07:58:25.799454Z",
     "start_time": "2019-07-12T07:58:25.793677Z"
    },
    "hidden": true
   },
   "outputs": [],
   "source": [
    "# update path with data dir\n",
    "import sys\n",
    "sys.path.append('../../data/')"
   ]
  },
  {
   "cell_type": "code",
   "execution_count": 2,
   "metadata": {
    "ExecuteTime": {
     "end_time": "2019-07-12T07:58:26.677833Z",
     "start_time": "2019-07-12T07:58:26.673323Z"
    },
    "hidden": true
   },
   "outputs": [],
   "source": [
    "import warnings\n",
    "# warnings.filterwarnings('ignore')"
   ]
  },
  {
   "cell_type": "code",
   "execution_count": 50,
   "metadata": {
    "ExecuteTime": {
     "end_time": "2019-07-14T08:36:19.053698Z",
     "start_time": "2019-07-14T08:36:19.036790Z"
    },
    "hidden": true
   },
   "outputs": [],
   "source": [
    "import pandas as pd\n",
    "import patsy\n",
    "import numpy as np\n",
    "from sklearn.tree import DecisionTreeRegressor, plot_tree\n",
    "from sklearn.preprocessing import StandardScaler\n",
    "from sklearn.model_selection import PredefinedSplit, GridSearchCV, cross_val_score\n",
    "from sklearn.feature_selection import RFECV\n",
    "from skopt.space import Real, Integer\n",
    "from skopt.utils import use_named_args\n",
    "from skopt import gp_minimize\n",
    "from sklearn.metrics import mean_absolute_error, mean_squared_error, r2_score\n",
    "import matplotlib.pyplot as plt"
   ]
  },
  {
   "cell_type": "markdown",
   "metadata": {
    "heading_collapsed": true
   },
   "source": [
    "# Getting data"
   ]
  },
  {
   "cell_type": "code",
   "execution_count": 2,
   "metadata": {
    "ExecuteTime": {
     "end_time": "2019-07-14T07:40:59.756426Z",
     "start_time": "2019-07-14T07:40:59.751026Z"
    },
    "hidden": true
   },
   "outputs": [],
   "source": [
    "file_name = '../csvs/element_gameweek_features_v03.csv'"
   ]
  },
  {
   "cell_type": "code",
   "execution_count": 3,
   "metadata": {
    "ExecuteTime": {
     "end_time": "2019-07-14T07:41:00.396706Z",
     "start_time": "2019-07-14T07:41:00.065185Z"
    },
    "hidden": true
   },
   "outputs": [],
   "source": [
    "element_gameweek_df = pd.read_csv(file_name)"
   ]
  },
  {
   "cell_type": "code",
   "execution_count": 4,
   "metadata": {
    "ExecuteTime": {
     "end_time": "2019-07-14T07:41:00.403402Z",
     "start_time": "2019-07-14T07:41:00.400022Z"
    },
    "hidden": true
   },
   "outputs": [],
   "source": [
    "current_event = 20"
   ]
  },
  {
   "cell_type": "code",
   "execution_count": 5,
   "metadata": {
    "ExecuteTime": {
     "end_time": "2019-07-14T07:41:00.542407Z",
     "start_time": "2019-07-14T07:41:00.530851Z"
    },
    "hidden": true
   },
   "outputs": [],
   "source": [
    "element_gameweek_df =\\\n",
    "element_gameweek_df[\n",
    "    (element_gameweek_df['event'] <= current_event)\n",
    "]"
   ]
  },
  {
   "cell_type": "code",
   "execution_count": 6,
   "metadata": {
    "ExecuteTime": {
     "end_time": "2019-07-14T07:41:01.256766Z",
     "start_time": "2019-07-14T07:41:01.168591Z"
    },
    "hidden": true
   },
   "outputs": [],
   "source": [
    "element_gameweek_df.fillna(3, inplace=True)"
   ]
  },
  {
   "cell_type": "code",
   "execution_count": 7,
   "metadata": {
    "ExecuteTime": {
     "end_time": "2019-07-14T07:41:01.722979Z",
     "start_time": "2019-07-14T07:41:01.667724Z"
    },
    "hidden": true
   },
   "outputs": [
    {
     "data": {
      "text/html": [
       "<div>\n",
       "<style scoped>\n",
       "    .dataframe tbody tr th:only-of-type {\n",
       "        vertical-align: middle;\n",
       "    }\n",
       "\n",
       "    .dataframe tbody tr th {\n",
       "        vertical-align: top;\n",
       "    }\n",
       "\n",
       "    .dataframe thead th {\n",
       "        text-align: right;\n",
       "    }\n",
       "</style>\n",
       "<table border=\"1\" class=\"dataframe\">\n",
       "  <thead>\n",
       "    <tr style=\"text-align: right;\">\n",
       "      <th></th>\n",
       "      <th>safe_web_name</th>\n",
       "      <th>element</th>\n",
       "      <th>event</th>\n",
       "      <th>fixture</th>\n",
       "      <th>team</th>\n",
       "      <th>opposition_team</th>\n",
       "      <th>was_home</th>\n",
       "      <th>element_type</th>\n",
       "      <th>value</th>\n",
       "      <th>is_sunday</th>\n",
       "      <th>...</th>\n",
       "      <th>rolling_var_total_points_against_opposition_team_element_type</th>\n",
       "      <th>rolling_avg_total_points_home</th>\n",
       "      <th>rolling_var_total_points_home</th>\n",
       "      <th>rolling_avg_total_points_against_opposition_ground_element_type</th>\n",
       "      <th>rolling_var_total_points_against_opposition_ground_element_type</th>\n",
       "      <th>total_points</th>\n",
       "      <th>expected_avg_total_points_against_opposition_team</th>\n",
       "      <th>expected_var_total_points_against_opposition_team</th>\n",
       "      <th>expected_avg_total_points_at_ground</th>\n",
       "      <th>expected_var_total_points_at_ground</th>\n",
       "    </tr>\n",
       "  </thead>\n",
       "  <tbody>\n",
       "    <tr>\n",
       "      <th>0</th>\n",
       "      <td>cech</td>\n",
       "      <td>1</td>\n",
       "      <td>1</td>\n",
       "      <td>1</td>\n",
       "      <td>1</td>\n",
       "      <td>13</td>\n",
       "      <td>1</td>\n",
       "      <td>1</td>\n",
       "      <td>50</td>\n",
       "      <td>1</td>\n",
       "      <td>...</td>\n",
       "      <td>3.0</td>\n",
       "      <td>3.0</td>\n",
       "      <td>3.0</td>\n",
       "      <td>3.0</td>\n",
       "      <td>3.0</td>\n",
       "      <td>3</td>\n",
       "      <td>3.000000</td>\n",
       "      <td>3.000000</td>\n",
       "      <td>3.000000</td>\n",
       "      <td>3.0</td>\n",
       "    </tr>\n",
       "    <tr>\n",
       "      <th>1</th>\n",
       "      <td>cech</td>\n",
       "      <td>1</td>\n",
       "      <td>2</td>\n",
       "      <td>14</td>\n",
       "      <td>1</td>\n",
       "      <td>6</td>\n",
       "      <td>0</td>\n",
       "      <td>1</td>\n",
       "      <td>50</td>\n",
       "      <td>0</td>\n",
       "      <td>...</td>\n",
       "      <td>3.0</td>\n",
       "      <td>3.0</td>\n",
       "      <td>3.0</td>\n",
       "      <td>3.0</td>\n",
       "      <td>3.0</td>\n",
       "      <td>3</td>\n",
       "      <td>0.681818</td>\n",
       "      <td>3.000000</td>\n",
       "      <td>3.000000</td>\n",
       "      <td>3.0</td>\n",
       "    </tr>\n",
       "    <tr>\n",
       "      <th>2</th>\n",
       "      <td>cech</td>\n",
       "      <td>1</td>\n",
       "      <td>3</td>\n",
       "      <td>21</td>\n",
       "      <td>1</td>\n",
       "      <td>19</td>\n",
       "      <td>1</td>\n",
       "      <td>1</td>\n",
       "      <td>50</td>\n",
       "      <td>0</td>\n",
       "      <td>...</td>\n",
       "      <td>8.0</td>\n",
       "      <td>3.0</td>\n",
       "      <td>3.0</td>\n",
       "      <td>3.0</td>\n",
       "      <td>3.0</td>\n",
       "      <td>3</td>\n",
       "      <td>3.750000</td>\n",
       "      <td>0.000000</td>\n",
       "      <td>3.000000</td>\n",
       "      <td>3.0</td>\n",
       "    </tr>\n",
       "    <tr>\n",
       "      <th>3</th>\n",
       "      <td>cech</td>\n",
       "      <td>1</td>\n",
       "      <td>4</td>\n",
       "      <td>33</td>\n",
       "      <td>1</td>\n",
       "      <td>5</td>\n",
       "      <td>0</td>\n",
       "      <td>1</td>\n",
       "      <td>50</td>\n",
       "      <td>1</td>\n",
       "      <td>...</td>\n",
       "      <td>11.0</td>\n",
       "      <td>3.0</td>\n",
       "      <td>3.0</td>\n",
       "      <td>6.0</td>\n",
       "      <td>3.0</td>\n",
       "      <td>1</td>\n",
       "      <td>4.493304</td>\n",
       "      <td>0.000000</td>\n",
       "      <td>4.901786</td>\n",
       "      <td>3.0</td>\n",
       "    </tr>\n",
       "    <tr>\n",
       "      <th>4</th>\n",
       "      <td>cech</td>\n",
       "      <td>1</td>\n",
       "      <td>5</td>\n",
       "      <td>46</td>\n",
       "      <td>1</td>\n",
       "      <td>15</td>\n",
       "      <td>0</td>\n",
       "      <td>1</td>\n",
       "      <td>50</td>\n",
       "      <td>0</td>\n",
       "      <td>...</td>\n",
       "      <td>49.0</td>\n",
       "      <td>3.0</td>\n",
       "      <td>0.0</td>\n",
       "      <td>2.0</td>\n",
       "      <td>0.0</td>\n",
       "      <td>2</td>\n",
       "      <td>3.663651</td>\n",
       "      <td>5.929855</td>\n",
       "      <td>1.332237</td>\n",
       "      <td>0.0</td>\n",
       "    </tr>\n",
       "  </tbody>\n",
       "</table>\n",
       "<p>5 rows × 58 columns</p>\n",
       "</div>"
      ],
      "text/plain": [
       "  safe_web_name  element  event  fixture  team  opposition_team  was_home  \\\n",
       "0          cech        1      1        1     1               13         1   \n",
       "1          cech        1      2       14     1                6         0   \n",
       "2          cech        1      3       21     1               19         1   \n",
       "3          cech        1      4       33     1                5         0   \n",
       "4          cech        1      5       46     1               15         0   \n",
       "\n",
       "   element_type  value  is_sunday                 ...                   \\\n",
       "0             1     50          1                 ...                    \n",
       "1             1     50          0                 ...                    \n",
       "2             1     50          0                 ...                    \n",
       "3             1     50          1                 ...                    \n",
       "4             1     50          0                 ...                    \n",
       "\n",
       "   rolling_var_total_points_against_opposition_team_element_type  \\\n",
       "0                                                3.0               \n",
       "1                                                3.0               \n",
       "2                                                8.0               \n",
       "3                                               11.0               \n",
       "4                                               49.0               \n",
       "\n",
       "   rolling_avg_total_points_home  rolling_var_total_points_home  \\\n",
       "0                            3.0                            3.0   \n",
       "1                            3.0                            3.0   \n",
       "2                            3.0                            3.0   \n",
       "3                            3.0                            3.0   \n",
       "4                            3.0                            0.0   \n",
       "\n",
       "   rolling_avg_total_points_against_opposition_ground_element_type  \\\n",
       "0                                                3.0                 \n",
       "1                                                3.0                 \n",
       "2                                                3.0                 \n",
       "3                                                6.0                 \n",
       "4                                                2.0                 \n",
       "\n",
       "   rolling_var_total_points_against_opposition_ground_element_type  \\\n",
       "0                                                3.0                 \n",
       "1                                                3.0                 \n",
       "2                                                3.0                 \n",
       "3                                                3.0                 \n",
       "4                                                0.0                 \n",
       "\n",
       "   total_points  expected_avg_total_points_against_opposition_team  \\\n",
       "0             3                                           3.000000   \n",
       "1             3                                           0.681818   \n",
       "2             3                                           3.750000   \n",
       "3             1                                           4.493304   \n",
       "4             2                                           3.663651   \n",
       "\n",
       "   expected_var_total_points_against_opposition_team  \\\n",
       "0                                           3.000000   \n",
       "1                                           3.000000   \n",
       "2                                           0.000000   \n",
       "3                                           0.000000   \n",
       "4                                           5.929855   \n",
       "\n",
       "   expected_avg_total_points_at_ground  expected_var_total_points_at_ground  \n",
       "0                             3.000000                                  3.0  \n",
       "1                             3.000000                                  3.0  \n",
       "2                             3.000000                                  3.0  \n",
       "3                             4.901786                                  3.0  \n",
       "4                             1.332237                                  0.0  \n",
       "\n",
       "[5 rows x 58 columns]"
      ]
     },
     "execution_count": 7,
     "metadata": {},
     "output_type": "execute_result"
    }
   ],
   "source": [
    "element_gameweek_df.head()"
   ]
  },
  {
   "cell_type": "code",
   "execution_count": 8,
   "metadata": {
    "ExecuteTime": {
     "end_time": "2019-07-14T07:41:02.583225Z",
     "start_time": "2019-07-14T07:41:02.571732Z"
    },
    "hidden": true
   },
   "outputs": [],
   "source": [
    "element_gameweek_df = element_gameweek_df[element_gameweek_df['rolling_avg_minutes_element_p3'] >= 60]"
   ]
  },
  {
   "cell_type": "markdown",
   "metadata": {
    "heading_collapsed": true
   },
   "source": [
    "# Modelling data"
   ]
  },
  {
   "cell_type": "markdown",
   "metadata": {
    "heading_collapsed": true,
    "hidden": true
   },
   "source": [
    "## Splitting data"
   ]
  },
  {
   "cell_type": "code",
   "execution_count": 9,
   "metadata": {
    "ExecuteTime": {
     "end_time": "2019-07-14T07:41:06.598155Z",
     "start_time": "2019-07-14T07:41:06.592434Z"
    },
    "hidden": true
   },
   "outputs": [],
   "source": [
    "last_train_event = 15"
   ]
  },
  {
   "cell_type": "code",
   "execution_count": 10,
   "metadata": {
    "ExecuteTime": {
     "end_time": "2019-07-14T07:41:06.998829Z",
     "start_time": "2019-07-14T07:41:06.991750Z"
    },
    "hidden": true
   },
   "outputs": [],
   "source": [
    "test_fold = [-1 if i <= last_train_event else 0 for i in element_gameweek_df['event']]\n",
    "ps = PredefinedSplit(test_fold)"
   ]
  },
  {
   "cell_type": "code",
   "execution_count": 11,
   "metadata": {
    "ExecuteTime": {
     "end_time": "2019-07-14T07:41:07.367458Z",
     "start_time": "2019-07-14T07:41:07.356560Z"
    },
    "hidden": true
   },
   "outputs": [],
   "source": [
    "for train_index, test_index in ps.split():\n",
    "    element_gameweek_df_train, element_gameweek_df_test = \\\n",
    "    element_gameweek_df.copy().iloc[train_index], element_gameweek_df.copy().iloc[test_index]"
   ]
  },
  {
   "cell_type": "markdown",
   "metadata": {
    "heading_collapsed": true,
    "hidden": true
   },
   "source": [
    "## Building model"
   ]
  },
  {
   "cell_type": "code",
   "execution_count": 12,
   "metadata": {
    "ExecuteTime": {
     "end_time": "2019-07-14T07:41:23.119489Z",
     "start_time": "2019-07-14T07:41:23.108840Z"
    },
    "hidden": true
   },
   "outputs": [],
   "source": [
    "formula = \\\n",
    "'total_points ~ C(element) + C(element_type) + C(team) + C(opposition_team) + ' + \\\n",
    "' + '.join([i for i in element_gameweek_df.columns if i not in\n",
    " [\n",
    "     'safe_web_name',\n",
    "     'element',\n",
    "     'event',\n",
    "     'fixture',\n",
    "     'team',\n",
    "     'opposition_team',\n",
    "     'element_type',\n",
    "     'rolling_avg_attempted_passes_element',\n",
    "     'rolling_var_total_points_against_opposition_team',\n",
    "     'rolling_var_total_points_own_team',\n",
    "     'rolling_var_total_points_opposition_team',\n",
    "     'rolling_var_total_points_element_type',\n",
    "     'rolling_var_total_points_against_opposition_team_element_type',\n",
    "     'expected_var_total_points_against_opposition_team',\n",
    "     'expected_var_total_points_at_ground',\n",
    "     'rolling_avg_total_points_home',\n",
    "     'rolling_var_total_points_home',\n",
    "     'rolling_avg_total_points_against_opposition_ground_element_type',\n",
    "     'rolling_var_total_points_against_opposition_ground_element_type',\n",
    "     'total_points'\n",
    " ]])"
   ]
  },
  {
   "cell_type": "code",
   "execution_count": 13,
   "metadata": {
    "ExecuteTime": {
     "end_time": "2019-07-14T07:41:27.003317Z",
     "start_time": "2019-07-14T07:41:26.996016Z"
    },
    "hidden": true
   },
   "outputs": [
    {
     "name": "stdout",
     "output_type": "stream",
     "text": [
      "total_points ~ C(element) + C(element_type) + C(team) + C(opposition_team) + was_home + value + is_sunday + is_weekday + is_late + is_early + rolling_avg_total_points_element + rolling_var_total_points_element + rolling_max_total_points_element + rolling_avg_minutes_element_p3 + rolling_avg_bps_element + rolling_avg_bonus_element + rolling_avg_goals_scored_element + rolling_avg_minutes_element + rolling_avg_clean_sheets_element + rolling_avg_completed_passes_element + rolling_avg_recoveries_element + rolling_avg_assists_element + rolling_avg_key_passes_element + rolling_avg_winning_goals_element + rolling_avg_tackled_element + rolling_avg_dribbles_element + rolling_avg_clearances_blocks_interceptions_element + rolling_avg_big_chances_created_element + rolling_avg_target_missed_element + rolling_avg_fouls_element + rolling_avg_tackles_element + rolling_avg_open_play_crosses_element + rolling_avg_offside_element + rolling_avg_big_chances_missed_element + rolling_avg_saves_element + rolling_avg_goals_conceded_element + rolling_avg_total_points_element_type + rolling_avg_total_points_own_team + rolling_avg_total_points_opposition_team + rolling_avg_total_points_against_opposition_team + rolling_avg_total_points_against_opposition_team_element_type + expected_avg_total_points_against_opposition_team + expected_avg_total_points_at_ground\n"
     ]
    }
   ],
   "source": [
    "print(formula)"
   ]
  },
  {
   "cell_type": "code",
   "execution_count": 14,
   "metadata": {
    "ExecuteTime": {
     "end_time": "2019-07-14T07:41:29.332669Z",
     "start_time": "2019-07-14T07:41:29.059132Z"
    },
    "hidden": true
   },
   "outputs": [],
   "source": [
    "y, X = patsy.dmatrices(formula, element_gameweek_df, return_type='matrix')"
   ]
  },
  {
   "cell_type": "code",
   "execution_count": 15,
   "metadata": {
    "ExecuteTime": {
     "end_time": "2019-07-14T07:41:30.274767Z",
     "start_time": "2019-07-14T07:41:30.256946Z"
    },
    "hidden": true
   },
   "outputs": [],
   "source": [
    "for train_index, test_index in ps.split():\n",
    "    X_train, X_test = X[train_index], X[test_index]\n",
    "    y_train, y_test = y[train_index], y[test_index]"
   ]
  },
  {
   "cell_type": "code",
   "execution_count": 16,
   "metadata": {
    "ExecuteTime": {
     "end_time": "2019-07-14T07:41:30.778333Z",
     "start_time": "2019-07-14T07:41:30.772975Z"
    },
    "hidden": true
   },
   "outputs": [],
   "source": [
    "n_features = X.shape[1]"
   ]
  },
  {
   "cell_type": "markdown",
   "metadata": {
    "heading_collapsed": true,
    "hidden": true
   },
   "source": [
    "## Selecting features"
   ]
  },
  {
   "cell_type": "code",
   "execution_count": 51,
   "metadata": {
    "ExecuteTime": {
     "end_time": "2019-07-14T08:36:55.661301Z",
     "start_time": "2019-07-14T08:36:31.981982Z"
    },
    "hidden": true
   },
   "outputs": [
    {
     "name": "stdout",
     "output_type": "stream",
     "text": [
      "Fitting estimator with 435 features.\n",
      "Fitting estimator with 434 features.\n",
      "Fitting estimator with 433 features.\n",
      "Fitting estimator with 432 features.\n",
      "Fitting estimator with 431 features.\n",
      "Fitting estimator with 430 features.\n",
      "Fitting estimator with 429 features.\n",
      "Fitting estimator with 428 features.\n",
      "Fitting estimator with 427 features.\n",
      "Fitting estimator with 426 features.\n",
      "Fitting estimator with 425 features.\n",
      "Fitting estimator with 424 features.\n",
      "Fitting estimator with 423 features.\n",
      "Fitting estimator with 422 features.\n",
      "Fitting estimator with 421 features.\n",
      "Fitting estimator with 420 features.\n",
      "Fitting estimator with 419 features.\n",
      "Fitting estimator with 418 features.\n",
      "Fitting estimator with 417 features.\n",
      "Fitting estimator with 416 features.\n",
      "Fitting estimator with 415 features.\n",
      "Fitting estimator with 414 features.\n",
      "Fitting estimator with 413 features.\n",
      "Fitting estimator with 412 features.\n",
      "Fitting estimator with 411 features.\n",
      "Fitting estimator with 410 features.\n",
      "Fitting estimator with 409 features.\n",
      "Fitting estimator with 408 features.\n",
      "Fitting estimator with 407 features.\n",
      "Fitting estimator with 406 features.\n",
      "Fitting estimator with 405 features.\n",
      "Fitting estimator with 404 features.\n",
      "Fitting estimator with 403 features.\n",
      "Fitting estimator with 402 features.\n",
      "Fitting estimator with 401 features.\n",
      "Fitting estimator with 400 features.\n",
      "Fitting estimator with 399 features.\n",
      "Fitting estimator with 398 features.\n",
      "Fitting estimator with 397 features.\n",
      "Fitting estimator with 396 features.\n",
      "Fitting estimator with 395 features.\n",
      "Fitting estimator with 394 features.\n",
      "Fitting estimator with 393 features.\n",
      "Fitting estimator with 392 features.\n",
      "Fitting estimator with 391 features.\n",
      "Fitting estimator with 390 features.\n",
      "Fitting estimator with 389 features.\n",
      "Fitting estimator with 388 features.\n",
      "Fitting estimator with 387 features.\n",
      "Fitting estimator with 386 features.\n",
      "Fitting estimator with 385 features.\n",
      "Fitting estimator with 384 features.\n",
      "Fitting estimator with 383 features.\n",
      "Fitting estimator with 382 features.\n",
      "Fitting estimator with 381 features.\n",
      "Fitting estimator with 380 features.\n",
      "Fitting estimator with 379 features.\n",
      "Fitting estimator with 378 features.\n",
      "Fitting estimator with 377 features.\n",
      "Fitting estimator with 376 features.\n",
      "Fitting estimator with 375 features.\n",
      "Fitting estimator with 374 features.\n",
      "Fitting estimator with 373 features.\n",
      "Fitting estimator with 372 features.\n",
      "Fitting estimator with 371 features.\n",
      "Fitting estimator with 370 features.\n",
      "Fitting estimator with 369 features.\n",
      "Fitting estimator with 368 features.\n",
      "Fitting estimator with 367 features.\n",
      "Fitting estimator with 366 features.\n",
      "Fitting estimator with 365 features.\n",
      "Fitting estimator with 364 features.\n",
      "Fitting estimator with 363 features.\n",
      "Fitting estimator with 362 features.\n",
      "Fitting estimator with 361 features.\n",
      "Fitting estimator with 360 features.\n",
      "Fitting estimator with 359 features.\n",
      "Fitting estimator with 358 features.\n",
      "Fitting estimator with 357 features.\n",
      "Fitting estimator with 356 features.\n",
      "Fitting estimator with 355 features.\n",
      "Fitting estimator with 354 features.\n",
      "Fitting estimator with 353 features.\n",
      "Fitting estimator with 352 features.\n",
      "Fitting estimator with 351 features.\n",
      "Fitting estimator with 350 features.\n",
      "Fitting estimator with 349 features.\n",
      "Fitting estimator with 348 features.\n",
      "Fitting estimator with 347 features.\n",
      "Fitting estimator with 346 features.\n",
      "Fitting estimator with 345 features.\n",
      "Fitting estimator with 344 features.\n",
      "Fitting estimator with 343 features.\n",
      "Fitting estimator with 342 features.\n",
      "Fitting estimator with 341 features.\n",
      "Fitting estimator with 340 features.\n",
      "Fitting estimator with 339 features.\n",
      "Fitting estimator with 338 features.\n",
      "Fitting estimator with 337 features.\n",
      "Fitting estimator with 336 features.\n",
      "Fitting estimator with 335 features.\n",
      "Fitting estimator with 334 features.\n",
      "Fitting estimator with 333 features.\n",
      "Fitting estimator with 332 features.\n",
      "Fitting estimator with 331 features.\n",
      "Fitting estimator with 330 features.\n",
      "Fitting estimator with 329 features.\n",
      "Fitting estimator with 328 features.\n",
      "Fitting estimator with 327 features.\n",
      "Fitting estimator with 326 features.\n",
      "Fitting estimator with 325 features.\n",
      "Fitting estimator with 324 features.\n",
      "Fitting estimator with 323 features.\n",
      "Fitting estimator with 322 features.\n",
      "Fitting estimator with 321 features.\n",
      "Fitting estimator with 320 features.\n",
      "Fitting estimator with 319 features.\n",
      "Fitting estimator with 318 features.\n",
      "Fitting estimator with 317 features.\n",
      "Fitting estimator with 316 features.\n",
      "Fitting estimator with 315 features.\n",
      "Fitting estimator with 314 features.\n",
      "Fitting estimator with 313 features.\n",
      "Fitting estimator with 312 features.\n",
      "Fitting estimator with 311 features.\n",
      "Fitting estimator with 310 features.\n",
      "Fitting estimator with 309 features.\n",
      "Fitting estimator with 308 features.\n",
      "Fitting estimator with 307 features.\n",
      "Fitting estimator with 306 features.\n",
      "Fitting estimator with 305 features.\n",
      "Fitting estimator with 304 features.\n",
      "Fitting estimator with 303 features.\n",
      "Fitting estimator with 302 features.\n",
      "Fitting estimator with 301 features.\n",
      "Fitting estimator with 300 features.\n",
      "Fitting estimator with 299 features.\n",
      "Fitting estimator with 298 features.\n",
      "Fitting estimator with 297 features.\n",
      "Fitting estimator with 296 features.\n",
      "Fitting estimator with 295 features.\n",
      "Fitting estimator with 294 features.\n",
      "Fitting estimator with 293 features.\n",
      "Fitting estimator with 292 features.\n",
      "Fitting estimator with 291 features.\n",
      "Fitting estimator with 290 features.\n",
      "Fitting estimator with 289 features.\n",
      "Fitting estimator with 288 features.\n",
      "Fitting estimator with 287 features.\n",
      "Fitting estimator with 286 features.\n",
      "Fitting estimator with 285 features.\n",
      "Fitting estimator with 284 features.\n",
      "Fitting estimator with 283 features.\n",
      "Fitting estimator with 282 features.\n",
      "Fitting estimator with 281 features.\n",
      "Fitting estimator with 280 features.\n",
      "Fitting estimator with 279 features.\n",
      "Fitting estimator with 278 features.\n",
      "Fitting estimator with 277 features.\n",
      "Fitting estimator with 276 features.\n",
      "Fitting estimator with 275 features.\n",
      "Fitting estimator with 274 features.\n",
      "Fitting estimator with 273 features.\n",
      "Fitting estimator with 272 features.\n",
      "Fitting estimator with 271 features.\n",
      "Fitting estimator with 270 features.\n",
      "Fitting estimator with 269 features.\n",
      "Fitting estimator with 268 features.\n",
      "Fitting estimator with 267 features.\n",
      "Fitting estimator with 266 features.\n",
      "Fitting estimator with 265 features.\n",
      "Fitting estimator with 264 features.\n",
      "Fitting estimator with 263 features.\n",
      "Fitting estimator with 262 features.\n",
      "Fitting estimator with 261 features.\n",
      "Fitting estimator with 260 features.\n",
      "Fitting estimator with 259 features.\n",
      "Fitting estimator with 258 features.\n",
      "Fitting estimator with 257 features.\n",
      "Fitting estimator with 256 features.\n",
      "Fitting estimator with 255 features.\n",
      "Fitting estimator with 254 features.\n",
      "Fitting estimator with 253 features.\n",
      "Fitting estimator with 252 features.\n",
      "Fitting estimator with 251 features.\n",
      "Fitting estimator with 250 features.\n",
      "Fitting estimator with 249 features.\n",
      "Fitting estimator with 248 features.\n",
      "Fitting estimator with 247 features.\n",
      "Fitting estimator with 246 features.\n",
      "Fitting estimator with 245 features.\n",
      "Fitting estimator with 244 features.\n",
      "Fitting estimator with 243 features.\n",
      "Fitting estimator with 242 features.\n",
      "Fitting estimator with 241 features.\n",
      "Fitting estimator with 240 features.\n",
      "Fitting estimator with 239 features.\n",
      "Fitting estimator with 238 features.\n",
      "Fitting estimator with 237 features.\n",
      "Fitting estimator with 236 features.\n",
      "Fitting estimator with 235 features.\n",
      "Fitting estimator with 234 features.\n",
      "Fitting estimator with 233 features.\n",
      "Fitting estimator with 232 features.\n",
      "Fitting estimator with 231 features.\n",
      "Fitting estimator with 230 features.\n",
      "Fitting estimator with 229 features.\n",
      "Fitting estimator with 228 features.\n",
      "Fitting estimator with 227 features.\n",
      "Fitting estimator with 226 features.\n",
      "Fitting estimator with 225 features.\n",
      "Fitting estimator with 224 features.\n",
      "Fitting estimator with 223 features.\n",
      "Fitting estimator with 222 features.\n",
      "Fitting estimator with 221 features.\n",
      "Fitting estimator with 220 features.\n",
      "Fitting estimator with 219 features.\n",
      "Fitting estimator with 218 features.\n",
      "Fitting estimator with 217 features.\n",
      "Fitting estimator with 216 features.\n",
      "Fitting estimator with 215 features.\n",
      "Fitting estimator with 214 features.\n",
      "Fitting estimator with 213 features.\n"
     ]
    },
    {
     "name": "stdout",
     "output_type": "stream",
     "text": [
      "Fitting estimator with 212 features.\n",
      "Fitting estimator with 211 features.\n",
      "Fitting estimator with 210 features.\n",
      "Fitting estimator with 209 features.\n",
      "Fitting estimator with 208 features.\n",
      "Fitting estimator with 207 features.\n",
      "Fitting estimator with 206 features.\n",
      "Fitting estimator with 205 features.\n",
      "Fitting estimator with 204 features.\n",
      "Fitting estimator with 203 features.\n",
      "Fitting estimator with 202 features.\n",
      "Fitting estimator with 201 features.\n",
      "Fitting estimator with 200 features.\n",
      "Fitting estimator with 199 features.\n",
      "Fitting estimator with 198 features.\n",
      "Fitting estimator with 197 features.\n",
      "Fitting estimator with 196 features.\n",
      "Fitting estimator with 195 features.\n",
      "Fitting estimator with 194 features.\n",
      "Fitting estimator with 193 features.\n",
      "Fitting estimator with 192 features.\n",
      "Fitting estimator with 191 features.\n",
      "Fitting estimator with 190 features.\n",
      "Fitting estimator with 189 features.\n",
      "Fitting estimator with 188 features.\n",
      "Fitting estimator with 187 features.\n",
      "Fitting estimator with 186 features.\n",
      "Fitting estimator with 185 features.\n",
      "Fitting estimator with 184 features.\n",
      "Fitting estimator with 183 features.\n",
      "Fitting estimator with 182 features.\n",
      "Fitting estimator with 181 features.\n",
      "Fitting estimator with 180 features.\n",
      "Fitting estimator with 179 features.\n",
      "Fitting estimator with 178 features.\n",
      "Fitting estimator with 177 features.\n",
      "Fitting estimator with 176 features.\n",
      "Fitting estimator with 175 features.\n",
      "Fitting estimator with 174 features.\n",
      "Fitting estimator with 173 features.\n",
      "Fitting estimator with 172 features.\n",
      "Fitting estimator with 171 features.\n",
      "Fitting estimator with 170 features.\n",
      "Fitting estimator with 169 features.\n",
      "Fitting estimator with 168 features.\n",
      "Fitting estimator with 167 features.\n",
      "Fitting estimator with 166 features.\n",
      "Fitting estimator with 165 features.\n",
      "Fitting estimator with 164 features.\n",
      "Fitting estimator with 163 features.\n",
      "Fitting estimator with 162 features.\n",
      "Fitting estimator with 161 features.\n",
      "Fitting estimator with 160 features.\n",
      "Fitting estimator with 159 features.\n",
      "Fitting estimator with 158 features.\n",
      "Fitting estimator with 157 features.\n",
      "Fitting estimator with 156 features.\n",
      "Fitting estimator with 155 features.\n",
      "Fitting estimator with 154 features.\n",
      "Fitting estimator with 153 features.\n",
      "Fitting estimator with 152 features.\n",
      "Fitting estimator with 151 features.\n",
      "Fitting estimator with 150 features.\n",
      "Fitting estimator with 149 features.\n",
      "Fitting estimator with 148 features.\n",
      "Fitting estimator with 147 features.\n",
      "Fitting estimator with 146 features.\n",
      "Fitting estimator with 145 features.\n",
      "Fitting estimator with 144 features.\n",
      "Fitting estimator with 143 features.\n",
      "Fitting estimator with 142 features.\n",
      "Fitting estimator with 141 features.\n",
      "Fitting estimator with 140 features.\n",
      "Fitting estimator with 139 features.\n",
      "Fitting estimator with 138 features.\n",
      "Fitting estimator with 137 features.\n",
      "Fitting estimator with 136 features.\n",
      "Fitting estimator with 135 features.\n",
      "Fitting estimator with 134 features.\n",
      "Fitting estimator with 133 features.\n",
      "Fitting estimator with 132 features.\n",
      "Fitting estimator with 131 features.\n",
      "Fitting estimator with 130 features.\n",
      "Fitting estimator with 129 features.\n",
      "Fitting estimator with 128 features.\n",
      "Fitting estimator with 127 features.\n",
      "Fitting estimator with 126 features.\n",
      "Fitting estimator with 125 features.\n",
      "Fitting estimator with 124 features.\n",
      "Fitting estimator with 123 features.\n",
      "Fitting estimator with 122 features.\n",
      "Fitting estimator with 121 features.\n",
      "Fitting estimator with 120 features.\n",
      "Fitting estimator with 119 features.\n",
      "Fitting estimator with 118 features.\n",
      "Fitting estimator with 117 features.\n",
      "Fitting estimator with 116 features.\n",
      "Fitting estimator with 115 features.\n",
      "Fitting estimator with 114 features.\n",
      "Fitting estimator with 113 features.\n",
      "Fitting estimator with 112 features.\n",
      "Fitting estimator with 111 features.\n",
      "Fitting estimator with 110 features.\n",
      "Fitting estimator with 109 features.\n",
      "Fitting estimator with 108 features.\n",
      "Fitting estimator with 107 features.\n",
      "Fitting estimator with 106 features.\n",
      "Fitting estimator with 105 features.\n",
      "Fitting estimator with 104 features.\n",
      "Fitting estimator with 103 features.\n",
      "Fitting estimator with 102 features.\n",
      "Fitting estimator with 101 features.\n",
      "Fitting estimator with 100 features.\n",
      "Fitting estimator with 99 features.\n",
      "Fitting estimator with 98 features.\n",
      "Fitting estimator with 97 features.\n",
      "Fitting estimator with 96 features.\n",
      "Fitting estimator with 95 features.\n",
      "Fitting estimator with 94 features.\n",
      "Fitting estimator with 93 features.\n",
      "Fitting estimator with 92 features.\n",
      "Fitting estimator with 91 features.\n",
      "Fitting estimator with 90 features.\n",
      "Fitting estimator with 89 features.\n",
      "Fitting estimator with 88 features.\n",
      "Fitting estimator with 87 features.\n",
      "Fitting estimator with 86 features.\n",
      "Fitting estimator with 85 features.\n",
      "Fitting estimator with 84 features.\n",
      "Fitting estimator with 83 features.\n",
      "Fitting estimator with 82 features.\n",
      "Fitting estimator with 81 features.\n",
      "Fitting estimator with 80 features.\n",
      "Fitting estimator with 79 features.\n",
      "Fitting estimator with 78 features.\n",
      "Fitting estimator with 77 features.\n",
      "Fitting estimator with 76 features.\n",
      "Fitting estimator with 75 features.\n",
      "Fitting estimator with 74 features.\n",
      "Fitting estimator with 73 features.\n",
      "Fitting estimator with 72 features.\n",
      "Fitting estimator with 71 features.\n",
      "Fitting estimator with 70 features.\n",
      "Fitting estimator with 69 features.\n",
      "Fitting estimator with 68 features.\n",
      "Fitting estimator with 67 features.\n",
      "Fitting estimator with 66 features.\n",
      "Fitting estimator with 65 features.\n",
      "Fitting estimator with 64 features.\n",
      "Fitting estimator with 63 features.\n",
      "Fitting estimator with 62 features.\n",
      "Fitting estimator with 61 features.\n",
      "Fitting estimator with 60 features.\n",
      "Fitting estimator with 59 features.\n",
      "Fitting estimator with 58 features.\n",
      "Fitting estimator with 57 features.\n",
      "Fitting estimator with 56 features.\n",
      "Fitting estimator with 55 features.\n",
      "Fitting estimator with 54 features.\n",
      "Fitting estimator with 53 features.\n",
      "Fitting estimator with 52 features.\n",
      "Fitting estimator with 51 features.\n",
      "Fitting estimator with 50 features.\n",
      "Fitting estimator with 49 features.\n",
      "Fitting estimator with 48 features.\n",
      "Fitting estimator with 47 features.\n",
      "Fitting estimator with 46 features.\n",
      "Fitting estimator with 45 features.\n",
      "Fitting estimator with 44 features.\n",
      "Fitting estimator with 43 features.\n",
      "Fitting estimator with 42 features.\n",
      "Fitting estimator with 41 features.\n",
      "Fitting estimator with 40 features.\n",
      "Fitting estimator with 39 features.\n",
      "Fitting estimator with 38 features.\n",
      "Fitting estimator with 37 features.\n",
      "Fitting estimator with 36 features.\n",
      "Fitting estimator with 35 features.\n",
      "Fitting estimator with 34 features.\n",
      "Fitting estimator with 33 features.\n",
      "Fitting estimator with 32 features.\n",
      "Fitting estimator with 31 features.\n",
      "Fitting estimator with 30 features.\n",
      "Fitting estimator with 29 features.\n",
      "Fitting estimator with 28 features.\n",
      "Fitting estimator with 27 features.\n",
      "Fitting estimator with 26 features.\n",
      "Fitting estimator with 25 features.\n",
      "Fitting estimator with 24 features.\n",
      "Fitting estimator with 23 features.\n",
      "Fitting estimator with 22 features.\n",
      "Fitting estimator with 21 features.\n",
      "Fitting estimator with 20 features.\n",
      "Fitting estimator with 19 features.\n",
      "Fitting estimator with 18 features.\n",
      "Fitting estimator with 17 features.\n",
      "Fitting estimator with 16 features.\n",
      "Fitting estimator with 15 features.\n",
      "Fitting estimator with 14 features.\n",
      "Fitting estimator with 13 features.\n",
      "Fitting estimator with 12 features.\n",
      "Fitting estimator with 11 features.\n",
      "Fitting estimator with 10 features.\n",
      "Fitting estimator with 9 features.\n",
      "Fitting estimator with 8 features.\n",
      "Fitting estimator with 7 features.\n",
      "Fitting estimator with 6 features.\n",
      "Fitting estimator with 5 features.\n",
      "Fitting estimator with 4 features.\n",
      "Fitting estimator with 3 features.\n",
      "Fitting estimator with 2 features.\n",
      "Fitting estimator with 435 features.\n",
      "Fitting estimator with 434 features.\n",
      "Fitting estimator with 433 features.\n",
      "Fitting estimator with 432 features.\n",
      "Fitting estimator with 431 features.\n",
      "Fitting estimator with 430 features.\n",
      "Fitting estimator with 429 features.\n",
      "Fitting estimator with 428 features.\n",
      "Fitting estimator with 427 features.\n",
      "Fitting estimator with 426 features.\n",
      "Fitting estimator with 425 features.\n",
      "Fitting estimator with 424 features.\n",
      "Fitting estimator with 423 features.\n",
      "Fitting estimator with 422 features.\n"
     ]
    },
    {
     "name": "stdout",
     "output_type": "stream",
     "text": [
      "Fitting estimator with 421 features.\n",
      "Fitting estimator with 420 features.\n",
      "Fitting estimator with 419 features.\n",
      "Fitting estimator with 418 features.\n",
      "Fitting estimator with 417 features.\n",
      "Fitting estimator with 416 features.\n",
      "Fitting estimator with 415 features.\n",
      "Fitting estimator with 414 features.\n",
      "Fitting estimator with 413 features.\n",
      "Fitting estimator with 412 features.\n",
      "Fitting estimator with 411 features.\n",
      "Fitting estimator with 410 features.\n",
      "Fitting estimator with 409 features.\n",
      "Fitting estimator with 408 features.\n",
      "Fitting estimator with 407 features.\n",
      "Fitting estimator with 406 features.\n",
      "Fitting estimator with 405 features.\n",
      "Fitting estimator with 404 features.\n",
      "Fitting estimator with 403 features.\n",
      "Fitting estimator with 402 features.\n",
      "Fitting estimator with 401 features.\n",
      "Fitting estimator with 400 features.\n",
      "Fitting estimator with 399 features.\n",
      "Fitting estimator with 398 features.\n",
      "Fitting estimator with 397 features.\n",
      "Fitting estimator with 396 features.\n",
      "Fitting estimator with 395 features.\n",
      "Fitting estimator with 394 features.\n",
      "Fitting estimator with 393 features.\n",
      "Fitting estimator with 392 features.\n",
      "Fitting estimator with 391 features.\n",
      "Fitting estimator with 390 features.\n",
      "Fitting estimator with 389 features.\n",
      "Fitting estimator with 388 features.\n",
      "Fitting estimator with 387 features.\n",
      "Fitting estimator with 386 features.\n",
      "Fitting estimator with 385 features.\n",
      "Fitting estimator with 384 features.\n",
      "Fitting estimator with 383 features.\n",
      "Fitting estimator with 382 features.\n",
      "Fitting estimator with 381 features.\n",
      "Fitting estimator with 380 features.\n",
      "Fitting estimator with 379 features.\n",
      "Fitting estimator with 378 features.\n",
      "Fitting estimator with 377 features.\n",
      "Fitting estimator with 376 features.\n",
      "Fitting estimator with 375 features.\n",
      "Fitting estimator with 374 features.\n",
      "Fitting estimator with 373 features.\n",
      "Fitting estimator with 372 features.\n",
      "Fitting estimator with 371 features.\n",
      "Fitting estimator with 370 features.\n",
      "Fitting estimator with 369 features.\n",
      "Fitting estimator with 368 features.\n",
      "Fitting estimator with 367 features.\n",
      "Fitting estimator with 366 features.\n",
      "Fitting estimator with 365 features.\n",
      "Fitting estimator with 364 features.\n",
      "Fitting estimator with 363 features.\n",
      "Fitting estimator with 362 features.\n",
      "Fitting estimator with 361 features.\n",
      "Fitting estimator with 360 features.\n",
      "Fitting estimator with 359 features.\n",
      "Fitting estimator with 358 features.\n",
      "Fitting estimator with 357 features.\n",
      "Fitting estimator with 356 features.\n",
      "Fitting estimator with 355 features.\n",
      "Fitting estimator with 354 features.\n",
      "Fitting estimator with 353 features.\n",
      "Fitting estimator with 352 features.\n",
      "Fitting estimator with 351 features.\n",
      "Fitting estimator with 350 features.\n",
      "Fitting estimator with 349 features.\n",
      "Fitting estimator with 348 features.\n",
      "Fitting estimator with 347 features.\n",
      "Fitting estimator with 346 features.\n",
      "Fitting estimator with 345 features.\n",
      "Fitting estimator with 344 features.\n",
      "Fitting estimator with 343 features.\n",
      "Fitting estimator with 342 features.\n",
      "Fitting estimator with 341 features.\n",
      "Fitting estimator with 340 features.\n",
      "Fitting estimator with 339 features.\n",
      "Fitting estimator with 338 features.\n",
      "Fitting estimator with 337 features.\n",
      "Fitting estimator with 336 features.\n",
      "Fitting estimator with 335 features.\n",
      "Fitting estimator with 334 features.\n",
      "Fitting estimator with 333 features.\n",
      "Fitting estimator with 332 features.\n",
      "Fitting estimator with 331 features.\n",
      "Fitting estimator with 330 features.\n",
      "Fitting estimator with 329 features.\n",
      "Fitting estimator with 328 features.\n",
      "Fitting estimator with 327 features.\n",
      "Fitting estimator with 326 features.\n",
      "Fitting estimator with 325 features.\n",
      "Fitting estimator with 324 features.\n",
      "Fitting estimator with 323 features.\n",
      "Fitting estimator with 322 features.\n",
      "Fitting estimator with 321 features.\n",
      "Fitting estimator with 320 features.\n",
      "Fitting estimator with 319 features.\n",
      "Fitting estimator with 318 features.\n",
      "Fitting estimator with 317 features.\n",
      "Fitting estimator with 316 features.\n",
      "Fitting estimator with 315 features.\n",
      "Fitting estimator with 314 features.\n",
      "Fitting estimator with 313 features.\n",
      "Fitting estimator with 312 features.\n",
      "Fitting estimator with 311 features.\n",
      "Fitting estimator with 310 features.\n",
      "Fitting estimator with 309 features.\n",
      "Fitting estimator with 308 features.\n",
      "Fitting estimator with 307 features.\n",
      "Fitting estimator with 306 features.\n",
      "Fitting estimator with 305 features.\n",
      "Fitting estimator with 304 features.\n",
      "Fitting estimator with 303 features.\n",
      "Fitting estimator with 302 features.\n",
      "Fitting estimator with 301 features.\n",
      "Fitting estimator with 300 features.\n",
      "Fitting estimator with 299 features.\n",
      "Fitting estimator with 298 features.\n",
      "Fitting estimator with 297 features.\n",
      "Fitting estimator with 296 features.\n",
      "Fitting estimator with 295 features.\n",
      "Fitting estimator with 294 features.\n",
      "Fitting estimator with 293 features.\n",
      "Fitting estimator with 292 features.\n",
      "Fitting estimator with 291 features.\n",
      "Fitting estimator with 290 features.\n",
      "Fitting estimator with 289 features.\n",
      "Fitting estimator with 288 features.\n",
      "Fitting estimator with 287 features.\n",
      "Fitting estimator with 286 features.\n",
      "Fitting estimator with 285 features.\n",
      "Fitting estimator with 284 features.\n",
      "Fitting estimator with 283 features.\n",
      "Fitting estimator with 282 features.\n",
      "Fitting estimator with 281 features.\n",
      "Fitting estimator with 280 features.\n",
      "Fitting estimator with 279 features.\n",
      "Fitting estimator with 278 features.\n",
      "Fitting estimator with 277 features.\n",
      "Fitting estimator with 276 features.\n",
      "Fitting estimator with 275 features.\n",
      "Fitting estimator with 274 features.\n",
      "Fitting estimator with 273 features.\n",
      "Fitting estimator with 272 features.\n",
      "Fitting estimator with 271 features.\n",
      "Fitting estimator with 270 features.\n",
      "Fitting estimator with 269 features.\n",
      "Fitting estimator with 268 features.\n",
      "Fitting estimator with 267 features.\n",
      "Fitting estimator with 266 features.\n",
      "Fitting estimator with 265 features.\n",
      "Fitting estimator with 264 features.\n",
      "Fitting estimator with 263 features.\n",
      "Fitting estimator with 262 features.\n",
      "Fitting estimator with 261 features.\n",
      "Fitting estimator with 260 features.\n",
      "Fitting estimator with 259 features.\n",
      "Fitting estimator with 258 features.\n",
      "Fitting estimator with 257 features.\n",
      "Fitting estimator with 256 features.\n",
      "Fitting estimator with 255 features.\n",
      "Fitting estimator with 254 features.\n",
      "Fitting estimator with 253 features.\n",
      "Fitting estimator with 252 features.\n",
      "Fitting estimator with 251 features.\n",
      "Fitting estimator with 250 features.\n",
      "Fitting estimator with 249 features.\n",
      "Fitting estimator with 248 features.\n",
      "Fitting estimator with 247 features.\n",
      "Fitting estimator with 246 features.\n",
      "Fitting estimator with 245 features.\n",
      "Fitting estimator with 244 features.\n",
      "Fitting estimator with 243 features.\n",
      "Fitting estimator with 242 features.\n",
      "Fitting estimator with 241 features.\n",
      "Fitting estimator with 240 features.\n",
      "Fitting estimator with 239 features.\n",
      "Fitting estimator with 238 features.\n",
      "Fitting estimator with 237 features.\n",
      "Fitting estimator with 236 features.\n",
      "Fitting estimator with 235 features.\n",
      "Fitting estimator with 234 features.\n",
      "Fitting estimator with 233 features.\n",
      "Fitting estimator with 232 features.\n",
      "Fitting estimator with 231 features.\n",
      "Fitting estimator with 230 features.\n",
      "Fitting estimator with 229 features.\n",
      "Fitting estimator with 228 features.\n",
      "Fitting estimator with 227 features.\n",
      "Fitting estimator with 226 features.\n",
      "Fitting estimator with 225 features.\n",
      "Fitting estimator with 224 features.\n",
      "Fitting estimator with 223 features.\n",
      "Fitting estimator with 222 features.\n",
      "Fitting estimator with 221 features.\n",
      "Fitting estimator with 220 features.\n",
      "Fitting estimator with 219 features.\n",
      "Fitting estimator with 218 features.\n",
      "Fitting estimator with 217 features.\n",
      "Fitting estimator with 216 features.\n",
      "Fitting estimator with 215 features.\n",
      "Fitting estimator with 214 features.\n",
      "Fitting estimator with 213 features.\n",
      "Fitting estimator with 212 features.\n",
      "Fitting estimator with 211 features.\n",
      "Fitting estimator with 210 features.\n",
      "Fitting estimator with 209 features.\n",
      "Fitting estimator with 208 features.\n",
      "Fitting estimator with 207 features.\n",
      "Fitting estimator with 206 features.\n",
      "Fitting estimator with 205 features.\n",
      "Fitting estimator with 204 features.\n",
      "Fitting estimator with 203 features.\n",
      "Fitting estimator with 202 features.\n",
      "Fitting estimator with 201 features.\n",
      "Fitting estimator with 200 features.\n",
      "Fitting estimator with 199 features.\n",
      "Fitting estimator with 198 features.\n",
      "Fitting estimator with 197 features.\n",
      "Fitting estimator with 196 features.\n",
      "Fitting estimator with 195 features.\n"
     ]
    },
    {
     "name": "stdout",
     "output_type": "stream",
     "text": [
      "Fitting estimator with 194 features.\n",
      "Fitting estimator with 193 features.\n",
      "Fitting estimator with 192 features.\n",
      "Fitting estimator with 191 features.\n",
      "Fitting estimator with 190 features.\n",
      "Fitting estimator with 189 features.\n",
      "Fitting estimator with 188 features.\n",
      "Fitting estimator with 187 features.\n",
      "Fitting estimator with 186 features.\n",
      "Fitting estimator with 185 features.\n",
      "Fitting estimator with 184 features.\n",
      "Fitting estimator with 183 features.\n",
      "Fitting estimator with 182 features.\n",
      "Fitting estimator with 181 features.\n",
      "Fitting estimator with 180 features.\n",
      "Fitting estimator with 179 features.\n",
      "Fitting estimator with 178 features.\n",
      "Fitting estimator with 177 features.\n",
      "Fitting estimator with 176 features.\n",
      "Fitting estimator with 175 features.\n",
      "Fitting estimator with 174 features.\n",
      "Fitting estimator with 173 features.\n",
      "Fitting estimator with 172 features.\n",
      "Fitting estimator with 171 features.\n",
      "Fitting estimator with 170 features.\n",
      "Fitting estimator with 169 features.\n",
      "Fitting estimator with 168 features.\n",
      "Fitting estimator with 167 features.\n",
      "Fitting estimator with 166 features.\n",
      "Fitting estimator with 165 features.\n",
      "Fitting estimator with 164 features.\n",
      "Fitting estimator with 163 features.\n",
      "Fitting estimator with 162 features.\n",
      "Fitting estimator with 161 features.\n",
      "Fitting estimator with 160 features.\n",
      "Fitting estimator with 159 features.\n",
      "Fitting estimator with 158 features.\n",
      "Fitting estimator with 157 features.\n",
      "Fitting estimator with 156 features.\n",
      "Fitting estimator with 155 features.\n",
      "Fitting estimator with 154 features.\n",
      "Fitting estimator with 153 features.\n",
      "Fitting estimator with 152 features.\n",
      "Fitting estimator with 151 features.\n",
      "Fitting estimator with 150 features.\n",
      "Fitting estimator with 149 features.\n",
      "Fitting estimator with 148 features.\n",
      "Fitting estimator with 147 features.\n",
      "Fitting estimator with 146 features.\n",
      "Fitting estimator with 145 features.\n",
      "Fitting estimator with 144 features.\n",
      "Fitting estimator with 143 features.\n",
      "Fitting estimator with 142 features.\n",
      "Fitting estimator with 141 features.\n",
      "Fitting estimator with 140 features.\n",
      "Fitting estimator with 139 features.\n",
      "Fitting estimator with 138 features.\n",
      "Fitting estimator with 137 features.\n",
      "Fitting estimator with 136 features.\n",
      "Fitting estimator with 135 features.\n",
      "Fitting estimator with 134 features.\n",
      "Fitting estimator with 133 features.\n",
      "Fitting estimator with 132 features.\n",
      "Fitting estimator with 131 features.\n",
      "Fitting estimator with 130 features.\n",
      "Fitting estimator with 129 features.\n",
      "Fitting estimator with 128 features.\n",
      "Fitting estimator with 127 features.\n",
      "Fitting estimator with 126 features.\n",
      "Fitting estimator with 125 features.\n",
      "Fitting estimator with 124 features.\n",
      "Fitting estimator with 123 features.\n",
      "Fitting estimator with 122 features.\n",
      "Fitting estimator with 121 features.\n",
      "Fitting estimator with 120 features.\n",
      "Fitting estimator with 119 features.\n",
      "Fitting estimator with 118 features.\n",
      "Fitting estimator with 117 features.\n",
      "Fitting estimator with 116 features.\n",
      "Fitting estimator with 115 features.\n",
      "Fitting estimator with 114 features.\n",
      "Fitting estimator with 113 features.\n",
      "Fitting estimator with 112 features.\n",
      "Fitting estimator with 111 features.\n",
      "Fitting estimator with 110 features.\n",
      "Fitting estimator with 109 features.\n",
      "Fitting estimator with 108 features.\n",
      "Fitting estimator with 107 features.\n",
      "Fitting estimator with 106 features.\n",
      "Fitting estimator with 105 features.\n",
      "Fitting estimator with 104 features.\n",
      "Fitting estimator with 103 features.\n",
      "Fitting estimator with 102 features.\n",
      "Fitting estimator with 101 features.\n",
      "Fitting estimator with 100 features.\n",
      "Fitting estimator with 99 features.\n",
      "Fitting estimator with 98 features.\n",
      "Fitting estimator with 97 features.\n",
      "Fitting estimator with 96 features.\n",
      "Fitting estimator with 95 features.\n",
      "Fitting estimator with 94 features.\n",
      "Fitting estimator with 93 features.\n",
      "Fitting estimator with 92 features.\n",
      "Fitting estimator with 91 features.\n",
      "Fitting estimator with 90 features.\n",
      "Fitting estimator with 89 features.\n",
      "Fitting estimator with 88 features.\n",
      "Fitting estimator with 87 features.\n",
      "Fitting estimator with 86 features.\n",
      "Fitting estimator with 85 features.\n",
      "Fitting estimator with 84 features.\n",
      "Fitting estimator with 83 features.\n",
      "Fitting estimator with 82 features.\n",
      "Fitting estimator with 81 features.\n",
      "Fitting estimator with 80 features.\n",
      "Fitting estimator with 79 features.\n",
      "Fitting estimator with 78 features.\n",
      "Fitting estimator with 77 features.\n",
      "Fitting estimator with 76 features.\n",
      "Fitting estimator with 75 features.\n",
      "Fitting estimator with 74 features.\n",
      "Fitting estimator with 73 features.\n",
      "Fitting estimator with 72 features.\n",
      "Fitting estimator with 71 features.\n",
      "Fitting estimator with 70 features.\n",
      "Fitting estimator with 69 features.\n",
      "Fitting estimator with 68 features.\n",
      "Fitting estimator with 67 features.\n",
      "Fitting estimator with 66 features.\n",
      "Fitting estimator with 65 features.\n",
      "Fitting estimator with 64 features.\n",
      "Fitting estimator with 63 features.\n",
      "Fitting estimator with 62 features.\n",
      "Fitting estimator with 61 features.\n",
      "Fitting estimator with 60 features.\n",
      "Fitting estimator with 59 features.\n",
      "Fitting estimator with 58 features.\n",
      "Fitting estimator with 57 features.\n",
      "Fitting estimator with 56 features.\n",
      "Fitting estimator with 55 features.\n",
      "Fitting estimator with 54 features.\n",
      "Fitting estimator with 53 features.\n",
      "Fitting estimator with 52 features.\n",
      "Fitting estimator with 51 features.\n",
      "Fitting estimator with 50 features.\n",
      "Fitting estimator with 49 features.\n",
      "Fitting estimator with 48 features.\n",
      "Fitting estimator with 47 features.\n",
      "Fitting estimator with 46 features.\n",
      "Fitting estimator with 45 features.\n",
      "Fitting estimator with 44 features.\n",
      "Fitting estimator with 43 features.\n",
      "Fitting estimator with 42 features.\n",
      "Fitting estimator with 41 features.\n",
      "Fitting estimator with 40 features.\n",
      "Fitting estimator with 39 features.\n",
      "Fitting estimator with 38 features.\n",
      "Fitting estimator with 37 features.\n",
      "Fitting estimator with 36 features.\n",
      "Fitting estimator with 35 features.\n",
      "Fitting estimator with 34 features.\n",
      "Fitting estimator with 33 features.\n",
      "Fitting estimator with 32 features.\n",
      "Fitting estimator with 31 features.\n",
      "Fitting estimator with 30 features.\n",
      "Fitting estimator with 29 features.\n",
      "Fitting estimator with 28 features.\n",
      "Fitting estimator with 27 features.\n",
      "Fitting estimator with 26 features.\n",
      "Fitting estimator with 25 features.\n",
      "Fitting estimator with 24 features.\n",
      "Fitting estimator with 23 features.\n",
      "Fitting estimator with 22 features.\n",
      "Fitting estimator with 21 features.\n",
      "Fitting estimator with 20 features.\n",
      "Fitting estimator with 19 features.\n",
      "Fitting estimator with 18 features.\n",
      "Fitting estimator with 17 features.\n",
      "Fitting estimator with 16 features.\n",
      "Fitting estimator with 15 features.\n",
      "Fitting estimator with 14 features.\n",
      "Fitting estimator with 13 features.\n",
      "Fitting estimator with 12 features.\n",
      "Fitting estimator with 11 features.\n",
      "Fitting estimator with 10 features.\n",
      "Fitting estimator with 9 features.\n",
      "Fitting estimator with 8 features.\n",
      "Fitting estimator with 7 features.\n",
      "Fitting estimator with 6 features.\n",
      "Fitting estimator with 5 features.\n",
      "Fitting estimator with 4 features.\n",
      "Fitting estimator with 3 features.\n"
     ]
    },
    {
     "data": {
      "text/plain": [
       "RFECV(cv=PredefinedSplit(test_fold=array([-1, -1, ...,  0,  0])),\n",
       "      estimator=DecisionTreeRegressor(criterion='mse', max_depth=None,\n",
       "                                      max_features=None, max_leaf_nodes=None,\n",
       "                                      min_impurity_decrease=0.0,\n",
       "                                      min_impurity_split=None,\n",
       "                                      min_samples_leaf=0.15,\n",
       "                                      min_samples_split=2,\n",
       "                                      min_weight_fraction_leaf=0.0,\n",
       "                                      presort=False, random_state=None,\n",
       "                                      splitter='best'),\n",
       "      min_features_to_select=1, n_jobs=1, scoring='neg_mean_squared_error',\n",
       "      step=1, verbose=1)"
      ]
     },
     "execution_count": 51,
     "metadata": {},
     "output_type": "execute_result"
    }
   ],
   "source": [
    "estimator = DecisionTreeRegressor(min_samples_leaf=0.15)\n",
    "selector = RFECV(estimator, step=1,\n",
    "                 scoring='neg_mean_squared_error',\n",
    "                 cv=ps, n_jobs=1, verbose=1)\n",
    "selector.fit(X, y.ravel())"
   ]
  },
  {
   "cell_type": "code",
   "execution_count": 52,
   "metadata": {
    "ExecuteTime": {
     "end_time": "2019-07-14T08:36:55.961686Z",
     "start_time": "2019-07-14T08:36:55.664431Z"
    },
    "hidden": true
   },
   "outputs": [
    {
     "data": {
      "text/plain": [
       "['value', 'expected_avg_total_points_against_opposition_team']"
      ]
     },
     "execution_count": 52,
     "metadata": {},
     "output_type": "execute_result"
    }
   ],
   "source": [
    "features = patsy.dmatrices(formula, element_gameweek_df, return_type='dataframe')[1].columns\n",
    "selected_features = pd.Series(features)[selector.support_]\n",
    "list(selected_features)"
   ]
  },
  {
   "cell_type": "code",
   "execution_count": 67,
   "metadata": {
    "ExecuteTime": {
     "end_time": "2019-07-14T08:45:32.933454Z",
     "start_time": "2019-07-14T08:45:32.924497Z"
    },
    "hidden": true
   },
   "outputs": [],
   "source": [
    "stark_X_sel = X[:,selector.support_]\n",
    "stark_X_train_sel = X_train[:,selector.support_]\n",
    "stark_X_test_sel = X_test[:,selector.support_]"
   ]
  },
  {
   "cell_type": "code",
   "execution_count": 68,
   "metadata": {
    "ExecuteTime": {
     "end_time": "2019-07-14T08:45:34.358269Z",
     "start_time": "2019-07-14T08:45:34.352291Z"
    },
    "hidden": true
   },
   "outputs": [],
   "source": [
    "lush_X_sel = X\n",
    "lush_X_train_sel = X_train\n",
    "lush_X_test_sel = X_test"
   ]
  },
  {
   "cell_type": "markdown",
   "metadata": {
    "heading_collapsed": true,
    "hidden": true
   },
   "source": [
    "## Tuning model"
   ]
  },
  {
   "cell_type": "markdown",
   "metadata": {
    "heading_collapsed": true,
    "hidden": true
   },
   "source": [
    "### GP tuner"
   ]
  },
  {
   "cell_type": "markdown",
   "metadata": {
    "ExecuteTime": {
     "end_time": "2019-07-14T08:44:23.630158Z",
     "start_time": "2019-07-14T08:44:23.624714Z"
    },
    "hidden": true
   },
   "source": [
    "#### Decision tree (lush)"
   ]
  },
  {
   "cell_type": "code",
   "execution_count": 158,
   "metadata": {
    "ExecuteTime": {
     "end_time": "2019-07-14T09:33:04.806943Z",
     "start_time": "2019-07-14T09:33:04.797103Z"
    },
    "hidden": true
   },
   "outputs": [],
   "source": [
    "lush_space = [\n",
    "    Real(0.01, 0.06, 'uniform', name='min_samples_leaf'),\n",
    "    Real(0.6, 0.7, 'uniform', name='max_features'),\n",
    "]"
   ]
  },
  {
   "cell_type": "code",
   "execution_count": 159,
   "metadata": {
    "ExecuteTime": {
     "end_time": "2019-07-14T09:33:05.091140Z",
     "start_time": "2019-07-14T09:33:05.082273Z"
    },
    "hidden": true
   },
   "outputs": [],
   "source": [
    "lush_gp_model = DecisionTreeRegressor()\n",
    "\n",
    "@use_named_args(lush_space)\n",
    "def lush_objective(**params):\n",
    "    lush_gp_model.set_params(**params)\n",
    "\n",
    "    return -np.mean(\n",
    "        cross_val_score(\n",
    "            lush_gp_model,\n",
    "            lush_X_sel, y.ravel(),\n",
    "            cv=ps,\n",
    "            n_jobs=1,\n",
    "            scoring=\"neg_mean_squared_error\"))"
   ]
  },
  {
   "cell_type": "code",
   "execution_count": 160,
   "metadata": {
    "ExecuteTime": {
     "end_time": "2019-07-14T09:34:19.894585Z",
     "start_time": "2019-07-14T09:33:05.288014Z"
    },
    "hidden": true
   },
   "outputs": [
    {
     "name": "stdout",
     "output_type": "stream",
     "text": [
      "minimisation iteration 1\n",
      "Iteration No: 1 started. Evaluating function at random point.\n",
      "Iteration No: 1 ended. Evaluation done at random point.\n",
      "Time taken: 0.0709\n",
      "Function value obtained: 10.0575\n",
      "Current minimum: 10.0575\n",
      "Iteration No: 2 started. Evaluating function at random point.\n",
      "Iteration No: 2 ended. Evaluation done at random point.\n",
      "Time taken: 0.0525\n",
      "Function value obtained: 10.2140\n",
      "Current minimum: 10.0575\n",
      "Iteration No: 3 started. Evaluating function at random point.\n",
      "Iteration No: 3 ended. Evaluation done at random point.\n",
      "Time taken: 0.0613\n",
      "Function value obtained: 9.9483\n",
      "Current minimum: 9.9483\n",
      "Iteration No: 4 started. Evaluating function at random point.\n",
      "Iteration No: 4 ended. Evaluation done at random point.\n",
      "Time taken: 0.0468\n",
      "Function value obtained: 9.6869\n",
      "Current minimum: 9.6869\n",
      "Iteration No: 5 started. Evaluating function at random point.\n",
      "Iteration No: 5 ended. Evaluation done at random point.\n",
      "Time taken: 0.0489\n",
      "Function value obtained: 9.8742\n",
      "Current minimum: 9.6869\n",
      "Iteration No: 6 started. Evaluating function at random point.\n",
      "Iteration No: 6 ended. Evaluation done at random point.\n",
      "Time taken: 0.0486\n",
      "Function value obtained: 9.6533\n",
      "Current minimum: 9.6533\n",
      "Iteration No: 7 started. Evaluating function at random point.\n",
      "Iteration No: 7 ended. Evaluation done at random point.\n",
      "Time taken: 0.0495\n",
      "Function value obtained: 9.9626\n",
      "Current minimum: 9.6533\n",
      "Iteration No: 8 started. Evaluating function at random point.\n",
      "Iteration No: 8 ended. Evaluation done at random point.\n",
      "Time taken: 0.0477\n",
      "Function value obtained: 9.8356\n",
      "Current minimum: 9.6533\n",
      "Iteration No: 9 started. Evaluating function at random point.\n",
      "Iteration No: 9 ended. Evaluation done at random point.\n",
      "Time taken: 0.0518\n",
      "Function value obtained: 10.0269\n",
      "Current minimum: 9.6533\n",
      "Iteration No: 10 started. Evaluating function at random point.\n",
      "Iteration No: 10 ended. Evaluation done at random point.\n",
      "Time taken: 0.6664\n",
      "Function value obtained: 9.8141\n",
      "Current minimum: 9.6533\n",
      "Iteration No: 11 started. Searching for the next optimal point.\n",
      "Iteration No: 11 ended. Search finished for the next optimal point.\n",
      "Time taken: 0.6233\n",
      "Function value obtained: 9.7334\n",
      "Current minimum: 9.6533\n",
      "Iteration No: 12 started. Searching for the next optimal point.\n",
      "Iteration No: 12 ended. Search finished for the next optimal point.\n",
      "Time taken: 0.7060\n",
      "Function value obtained: 9.8326\n",
      "Current minimum: 9.6533\n",
      "Iteration No: 13 started. Searching for the next optimal point.\n",
      "Iteration No: 13 ended. Search finished for the next optimal point.\n",
      "Time taken: 0.9590\n",
      "Function value obtained: 9.7471\n",
      "Current minimum: 9.6533\n",
      "Iteration No: 14 started. Searching for the next optimal point.\n",
      "Iteration No: 14 ended. Search finished for the next optimal point.\n",
      "Time taken: 0.8566\n",
      "Function value obtained: 9.8219\n",
      "Current minimum: 9.6533\n",
      "Iteration No: 15 started. Searching for the next optimal point.\n",
      "Iteration No: 15 ended. Search finished for the next optimal point.\n",
      "Time taken: 0.6206\n",
      "Function value obtained: 9.7722\n",
      "Current minimum: 9.6533\n",
      "Iteration No: 16 started. Searching for the next optimal point.\n",
      "Iteration No: 16 ended. Search finished for the next optimal point.\n",
      "Time taken: 0.7674\n",
      "Function value obtained: 9.8480\n",
      "Current minimum: 9.6533\n",
      "Iteration No: 17 started. Searching for the next optimal point.\n",
      "Iteration No: 17 ended. Search finished for the next optimal point.\n",
      "Time taken: 0.7274\n",
      "Function value obtained: 9.6964\n",
      "Current minimum: 9.6533\n",
      "Iteration No: 18 started. Searching for the next optimal point.\n",
      "Iteration No: 18 ended. Search finished for the next optimal point.\n",
      "Time taken: 0.6905\n",
      "Function value obtained: 9.6995\n",
      "Current minimum: 9.6533\n",
      "Iteration No: 19 started. Searching for the next optimal point.\n",
      "Iteration No: 19 ended. Search finished for the next optimal point.\n",
      "Time taken: 0.9401\n",
      "Function value obtained: 9.7516\n",
      "Current minimum: 9.6533\n",
      "Iteration No: 20 started. Searching for the next optimal point.\n",
      "Iteration No: 20 ended. Search finished for the next optimal point.\n",
      "Time taken: 0.9081\n",
      "Function value obtained: 9.6448\n",
      "Current minimum: 9.6448\n",
      "Iteration No: 21 started. Searching for the next optimal point.\n",
      "Iteration No: 21 ended. Search finished for the next optimal point.\n",
      "Time taken: 0.6594\n",
      "Function value obtained: 9.7999\n",
      "Current minimum: 9.6448\n",
      "Iteration No: 22 started. Searching for the next optimal point.\n",
      "Iteration No: 22 ended. Search finished for the next optimal point.\n",
      "Time taken: 0.8027\n",
      "Function value obtained: 9.8945\n",
      "Current minimum: 9.6448\n",
      "Iteration No: 23 started. Searching for the next optimal point.\n",
      "Iteration No: 23 ended. Search finished for the next optimal point.\n",
      "Time taken: 0.7530\n",
      "Function value obtained: 9.9908\n",
      "Current minimum: 9.6448\n",
      "Iteration No: 24 started. Searching for the next optimal point.\n",
      "Iteration No: 24 ended. Search finished for the next optimal point.\n",
      "Time taken: 0.6907\n",
      "Function value obtained: 10.9284\n",
      "Current minimum: 9.6448\n",
      "Iteration No: 25 started. Searching for the next optimal point.\n",
      "Iteration No: 25 ended. Search finished for the next optimal point.\n",
      "Time taken: 0.6783\n",
      "Function value obtained: 9.7602\n",
      "Current minimum: 9.6448\n",
      "Iteration No: 26 started. Searching for the next optimal point.\n",
      "Iteration No: 26 ended. Search finished for the next optimal point.\n",
      "Time taken: 0.7158\n",
      "Function value obtained: 9.8124\n",
      "Current minimum: 9.6448\n",
      "Iteration No: 27 started. Searching for the next optimal point.\n",
      "Iteration No: 27 ended. Search finished for the next optimal point.\n",
      "Time taken: 0.8399\n",
      "Function value obtained: 9.9840\n",
      "Current minimum: 9.6448\n",
      "Iteration No: 28 started. Searching for the next optimal point.\n",
      "Iteration No: 28 ended. Search finished for the next optimal point.\n",
      "Time taken: 0.7667\n",
      "Function value obtained: 9.8193\n",
      "Current minimum: 9.6448\n",
      "Iteration No: 29 started. Searching for the next optimal point.\n",
      "Iteration No: 29 ended. Search finished for the next optimal point.\n",
      "Time taken: 0.7742\n",
      "Function value obtained: 9.8165\n",
      "Current minimum: 9.6448\n",
      "Iteration No: 30 started. Searching for the next optimal point.\n",
      "Iteration No: 30 ended. Search finished for the next optimal point.\n",
      "Time taken: 0.7984\n",
      "Function value obtained: 9.8086\n",
      "Current minimum: 9.6448\n",
      "minimisation iteration 2\n",
      "Iteration No: 1 started. Evaluating function at random point.\n",
      "Iteration No: 1 ended. Evaluation done at random point.\n",
      "Time taken: 0.0393\n",
      "Function value obtained: 9.8051\n",
      "Current minimum: 9.8051\n",
      "Iteration No: 2 started. Evaluating function at random point.\n",
      "Iteration No: 2 ended. Evaluation done at random point.\n",
      "Time taken: 0.0493\n",
      "Function value obtained: 10.2509\n",
      "Current minimum: 9.8051\n",
      "Iteration No: 3 started. Evaluating function at random point.\n",
      "Iteration No: 3 ended. Evaluation done at random point.\n",
      "Time taken: 0.0457\n",
      "Function value obtained: 10.0512\n",
      "Current minimum: 9.8051\n",
      "Iteration No: 4 started. Evaluating function at random point.\n",
      "Iteration No: 4 ended. Evaluation done at random point.\n",
      "Time taken: 0.0374\n",
      "Function value obtained: 9.9412\n",
      "Current minimum: 9.8051\n",
      "Iteration No: 5 started. Evaluating function at random point.\n",
      "Iteration No: 5 ended. Evaluation done at random point.\n",
      "Time taken: 0.0362\n",
      "Function value obtained: 9.7200\n",
      "Current minimum: 9.7200\n",
      "Iteration No: 6 started. Evaluating function at random point.\n",
      "Iteration No: 6 ended. Evaluation done at random point.\n",
      "Time taken: 0.0356\n",
      "Function value obtained: 9.8553\n",
      "Current minimum: 9.7200\n",
      "Iteration No: 7 started. Evaluating function at random point.\n",
      "Iteration No: 7 ended. Evaluation done at random point.\n",
      "Time taken: 0.0428\n",
      "Function value obtained: 9.9250\n",
      "Current minimum: 9.7200\n",
      "Iteration No: 8 started. Evaluating function at random point.\n",
      "Iteration No: 8 ended. Evaluation done at random point.\n",
      "Time taken: 0.0506\n",
      "Function value obtained: 10.3677\n",
      "Current minimum: 9.7200\n",
      "Iteration No: 9 started. Evaluating function at random point.\n",
      "Iteration No: 9 ended. Evaluation done at random point.\n",
      "Time taken: 0.0443\n",
      "Function value obtained: 9.8405\n",
      "Current minimum: 9.7200\n",
      "Iteration No: 10 started. Evaluating function at random point.\n",
      "Iteration No: 10 ended. Evaluation done at random point.\n",
      "Time taken: 0.6273\n",
      "Function value obtained: 10.1202\n",
      "Current minimum: 9.7200\n",
      "Iteration No: 11 started. Searching for the next optimal point.\n",
      "Iteration No: 11 ended. Search finished for the next optimal point.\n",
      "Time taken: 0.5237\n",
      "Function value obtained: 9.7680\n",
      "Current minimum: 9.7200\n",
      "Iteration No: 12 started. Searching for the next optimal point.\n"
     ]
    },
    {
     "name": "stdout",
     "output_type": "stream",
     "text": [
      "Iteration No: 12 ended. Search finished for the next optimal point.\n",
      "Time taken: 0.5718\n",
      "Function value obtained: 10.0288\n",
      "Current minimum: 9.7200\n",
      "Iteration No: 13 started. Searching for the next optimal point.\n",
      "Iteration No: 13 ended. Search finished for the next optimal point.\n",
      "Time taken: 0.6562\n",
      "Function value obtained: 9.6680\n",
      "Current minimum: 9.6680\n",
      "Iteration No: 14 started. Searching for the next optimal point.\n",
      "Iteration No: 14 ended. Search finished for the next optimal point.\n",
      "Time taken: 0.5438\n",
      "Function value obtained: 9.8137\n",
      "Current minimum: 9.6680\n",
      "Iteration No: 15 started. Searching for the next optimal point.\n",
      "Iteration No: 15 ended. Search finished for the next optimal point.\n",
      "Time taken: 0.5497\n",
      "Function value obtained: 10.1437\n",
      "Current minimum: 9.6680\n",
      "Iteration No: 16 started. Searching for the next optimal point.\n",
      "Iteration No: 16 ended. Search finished for the next optimal point.\n",
      "Time taken: 0.6419\n",
      "Function value obtained: 9.7308\n",
      "Current minimum: 9.6680\n",
      "Iteration No: 17 started. Searching for the next optimal point.\n",
      "Iteration No: 17 ended. Search finished for the next optimal point.\n",
      "Time taken: 0.5500\n",
      "Function value obtained: 9.8092\n",
      "Current minimum: 9.6680\n",
      "Iteration No: 18 started. Searching for the next optimal point.\n",
      "Iteration No: 18 ended. Search finished for the next optimal point.\n",
      "Time taken: 0.5370\n",
      "Function value obtained: 9.8827\n",
      "Current minimum: 9.6680\n",
      "Iteration No: 19 started. Searching for the next optimal point.\n",
      "Iteration No: 19 ended. Search finished for the next optimal point.\n",
      "Time taken: 0.5689\n",
      "Function value obtained: 9.8786\n",
      "Current minimum: 9.6680\n",
      "Iteration No: 20 started. Searching for the next optimal point.\n",
      "Iteration No: 20 ended. Search finished for the next optimal point.\n",
      "Time taken: 0.6660\n",
      "Function value obtained: 9.7090\n",
      "Current minimum: 9.6680\n",
      "Iteration No: 21 started. Searching for the next optimal point.\n",
      "Iteration No: 21 ended. Search finished for the next optimal point.\n",
      "Time taken: 0.7114\n",
      "Function value obtained: 9.9519\n",
      "Current minimum: 9.6680\n",
      "Iteration No: 22 started. Searching for the next optimal point.\n",
      "Iteration No: 22 ended. Search finished for the next optimal point.\n",
      "Time taken: 0.6557\n",
      "Function value obtained: 9.6487\n",
      "Current minimum: 9.6487\n",
      "Iteration No: 23 started. Searching for the next optimal point.\n",
      "Iteration No: 23 ended. Search finished for the next optimal point.\n",
      "Time taken: 0.7208\n",
      "Function value obtained: 10.7790\n",
      "Current minimum: 9.6487\n",
      "Iteration No: 24 started. Searching for the next optimal point.\n",
      "Iteration No: 24 ended. Search finished for the next optimal point.\n",
      "Time taken: 0.7472\n",
      "Function value obtained: 9.8788\n",
      "Current minimum: 9.6487\n",
      "Iteration No: 25 started. Searching for the next optimal point.\n",
      "Iteration No: 25 ended. Search finished for the next optimal point.\n",
      "Time taken: 0.8682\n",
      "Function value obtained: 9.7477\n",
      "Current minimum: 9.6487\n",
      "Iteration No: 26 started. Searching for the next optimal point.\n",
      "Iteration No: 26 ended. Search finished for the next optimal point.\n",
      "Time taken: 1.0949\n",
      "Function value obtained: 9.6621\n",
      "Current minimum: 9.6487\n",
      "Iteration No: 27 started. Searching for the next optimal point.\n",
      "Iteration No: 27 ended. Search finished for the next optimal point.\n",
      "Time taken: 0.8427\n",
      "Function value obtained: 9.7107\n",
      "Current minimum: 9.6487\n",
      "Iteration No: 28 started. Searching for the next optimal point.\n",
      "Iteration No: 28 ended. Search finished for the next optimal point.\n",
      "Time taken: 0.8455\n",
      "Function value obtained: 10.0405\n",
      "Current minimum: 9.6487\n",
      "Iteration No: 29 started. Searching for the next optimal point.\n",
      "Iteration No: 29 ended. Search finished for the next optimal point.\n",
      "Time taken: 0.8085\n",
      "Function value obtained: 9.6097\n",
      "Current minimum: 9.6097\n",
      "Iteration No: 30 started. Searching for the next optimal point.\n",
      "Iteration No: 30 ended. Search finished for the next optimal point.\n",
      "Time taken: 0.9054\n",
      "Function value obtained: 9.6155\n",
      "Current minimum: 9.6097\n",
      "minimisation iteration 3\n",
      "Iteration No: 1 started. Evaluating function at random point.\n",
      "Iteration No: 1 ended. Evaluation done at random point.\n",
      "Time taken: 0.0578\n",
      "Function value obtained: 9.7080\n",
      "Current minimum: 9.7080\n",
      "Iteration No: 2 started. Evaluating function at random point.\n",
      "Iteration No: 2 ended. Evaluation done at random point.\n",
      "Time taken: 0.0392\n",
      "Function value obtained: 10.2113\n",
      "Current minimum: 9.7080\n",
      "Iteration No: 3 started. Evaluating function at random point.\n",
      "Iteration No: 3 ended. Evaluation done at random point.\n",
      "Time taken: 0.0372\n",
      "Function value obtained: 9.8761\n",
      "Current minimum: 9.7080\n",
      "Iteration No: 4 started. Evaluating function at random point.\n",
      "Iteration No: 4 ended. Evaluation done at random point.\n",
      "Time taken: 0.0362\n",
      "Function value obtained: 10.0334\n",
      "Current minimum: 9.7080\n",
      "Iteration No: 5 started. Evaluating function at random point.\n",
      "Iteration No: 5 ended. Evaluation done at random point.\n",
      "Time taken: 0.0409\n",
      "Function value obtained: 9.8214\n",
      "Current minimum: 9.7080\n",
      "Iteration No: 6 started. Evaluating function at random point.\n",
      "Iteration No: 6 ended. Evaluation done at random point.\n",
      "Time taken: 0.0428\n",
      "Function value obtained: 9.8181\n",
      "Current minimum: 9.7080\n",
      "Iteration No: 7 started. Evaluating function at random point.\n",
      "Iteration No: 7 ended. Evaluation done at random point.\n",
      "Time taken: 0.0383\n",
      "Function value obtained: 9.8983\n",
      "Current minimum: 9.7080\n",
      "Iteration No: 8 started. Evaluating function at random point.\n",
      "Iteration No: 8 ended. Evaluation done at random point.\n",
      "Time taken: 0.0473\n",
      "Function value obtained: 9.5221\n",
      "Current minimum: 9.5221\n",
      "Iteration No: 9 started. Evaluating function at random point.\n",
      "Iteration No: 9 ended. Evaluation done at random point.\n",
      "Time taken: 0.0412\n",
      "Function value obtained: 9.8752\n",
      "Current minimum: 9.5221\n",
      "Iteration No: 10 started. Evaluating function at random point.\n",
      "Iteration No: 10 ended. Evaluation done at random point.\n",
      "Time taken: 0.5558\n",
      "Function value obtained: 9.9718\n",
      "Current minimum: 9.5221\n",
      "Iteration No: 11 started. Searching for the next optimal point.\n",
      "Iteration No: 11 ended. Search finished for the next optimal point.\n",
      "Time taken: 0.7147\n",
      "Function value obtained: 10.1511\n",
      "Current minimum: 9.5221\n",
      "Iteration No: 12 started. Searching for the next optimal point.\n",
      "Iteration No: 12 ended. Search finished for the next optimal point.\n",
      "Time taken: 0.5826\n",
      "Function value obtained: 9.9674\n",
      "Current minimum: 9.5221\n",
      "Iteration No: 13 started. Searching for the next optimal point.\n",
      "Iteration No: 13 ended. Search finished for the next optimal point.\n",
      "Time taken: 0.5622\n",
      "Function value obtained: 9.7847\n",
      "Current minimum: 9.5221\n",
      "Iteration No: 14 started. Searching for the next optimal point.\n",
      "Iteration No: 14 ended. Search finished for the next optimal point.\n",
      "Time taken: 0.6873\n",
      "Function value obtained: 9.8706\n",
      "Current minimum: 9.5221\n",
      "Iteration No: 15 started. Searching for the next optimal point.\n",
      "Iteration No: 15 ended. Search finished for the next optimal point.\n",
      "Time taken: 0.6470\n",
      "Function value obtained: 9.8777\n",
      "Current minimum: 9.5221\n",
      "Iteration No: 16 started. Searching for the next optimal point.\n",
      "Iteration No: 16 ended. Search finished for the next optimal point.\n",
      "Time taken: 0.6850\n",
      "Function value obtained: 10.0389\n",
      "Current minimum: 9.5221\n",
      "Iteration No: 17 started. Searching for the next optimal point.\n",
      "Iteration No: 17 ended. Search finished for the next optimal point.\n",
      "Time taken: 0.7531\n",
      "Function value obtained: 9.9867\n",
      "Current minimum: 9.5221\n",
      "Iteration No: 18 started. Searching for the next optimal point.\n",
      "Iteration No: 18 ended. Search finished for the next optimal point.\n",
      "Time taken: 0.6336\n",
      "Function value obtained: 9.8832\n",
      "Current minimum: 9.5221\n",
      "Iteration No: 19 started. Searching for the next optimal point.\n",
      "Iteration No: 19 ended. Search finished for the next optimal point.\n",
      "Time taken: 0.5899\n",
      "Function value obtained: 9.9488\n",
      "Current minimum: 9.5221\n",
      "Iteration No: 20 started. Searching for the next optimal point.\n",
      "Iteration No: 20 ended. Search finished for the next optimal point.\n",
      "Time taken: 0.6888\n",
      "Function value obtained: 10.5617\n",
      "Current minimum: 9.5221\n",
      "Iteration No: 21 started. Searching for the next optimal point.\n",
      "Iteration No: 21 ended. Search finished for the next optimal point.\n",
      "Time taken: 0.6455\n",
      "Function value obtained: 9.8552\n",
      "Current minimum: 9.5221\n",
      "Iteration No: 22 started. Searching for the next optimal point.\n",
      "Iteration No: 22 ended. Search finished for the next optimal point.\n",
      "Time taken: 0.6314\n",
      "Function value obtained: 9.9887\n",
      "Current minimum: 9.5221\n",
      "Iteration No: 23 started. Searching for the next optimal point.\n"
     ]
    },
    {
     "name": "stdout",
     "output_type": "stream",
     "text": [
      "Iteration No: 23 ended. Search finished for the next optimal point.\n",
      "Time taken: 0.7832\n",
      "Function value obtained: 9.7363\n",
      "Current minimum: 9.5221\n",
      "Iteration No: 24 started. Searching for the next optimal point.\n",
      "Iteration No: 24 ended. Search finished for the next optimal point.\n",
      "Time taken: 0.7340\n",
      "Function value obtained: 9.8693\n",
      "Current minimum: 9.5221\n",
      "Iteration No: 25 started. Searching for the next optimal point.\n",
      "Iteration No: 25 ended. Search finished for the next optimal point.\n",
      "Time taken: 0.8218\n",
      "Function value obtained: 9.9154\n",
      "Current minimum: 9.5221\n",
      "Iteration No: 26 started. Searching for the next optimal point.\n",
      "Iteration No: 26 ended. Search finished for the next optimal point.\n",
      "Time taken: 0.7381\n",
      "Function value obtained: 9.8168\n",
      "Current minimum: 9.5221\n",
      "Iteration No: 27 started. Searching for the next optimal point.\n",
      "Iteration No: 27 ended. Search finished for the next optimal point.\n",
      "Time taken: 0.7516\n",
      "Function value obtained: 10.3906\n",
      "Current minimum: 9.5221\n",
      "Iteration No: 28 started. Searching for the next optimal point.\n",
      "Iteration No: 28 ended. Search finished for the next optimal point.\n",
      "Time taken: 0.7823\n",
      "Function value obtained: 9.7102\n",
      "Current minimum: 9.5221\n",
      "Iteration No: 29 started. Searching for the next optimal point.\n",
      "Iteration No: 29 ended. Search finished for the next optimal point.\n",
      "Time taken: 0.7240\n",
      "Function value obtained: 9.8313\n",
      "Current minimum: 9.5221\n",
      "Iteration No: 30 started. Searching for the next optimal point.\n",
      "Iteration No: 30 ended. Search finished for the next optimal point.\n",
      "Time taken: 0.7356\n",
      "Function value obtained: 9.8160\n",
      "Current minimum: 9.5221\n",
      "minimisation iteration 4\n",
      "Iteration No: 1 started. Evaluating function at random point.\n",
      "Iteration No: 1 ended. Evaluation done at random point.\n",
      "Time taken: 0.0530\n",
      "Function value obtained: 9.7828\n",
      "Current minimum: 9.7828\n",
      "Iteration No: 2 started. Evaluating function at random point.\n",
      "Iteration No: 2 ended. Evaluation done at random point.\n",
      "Time taken: 0.0423\n",
      "Function value obtained: 9.7249\n",
      "Current minimum: 9.7249\n",
      "Iteration No: 3 started. Evaluating function at random point.\n",
      "Iteration No: 3 ended. Evaluation done at random point.\n",
      "Time taken: 0.0404\n",
      "Function value obtained: 9.7204\n",
      "Current minimum: 9.7204\n",
      "Iteration No: 4 started. Evaluating function at random point.\n",
      "Iteration No: 4 ended. Evaluation done at random point.\n",
      "Time taken: 0.0449\n",
      "Function value obtained: 10.2322\n",
      "Current minimum: 9.7204\n",
      "Iteration No: 5 started. Evaluating function at random point.\n",
      "Iteration No: 5 ended. Evaluation done at random point.\n",
      "Time taken: 0.0393\n",
      "Function value obtained: 9.8452\n",
      "Current minimum: 9.7204\n",
      "Iteration No: 6 started. Evaluating function at random point.\n",
      "Iteration No: 6 ended. Evaluation done at random point.\n",
      "Time taken: 0.0362\n",
      "Function value obtained: 9.8090\n",
      "Current minimum: 9.7204\n",
      "Iteration No: 7 started. Evaluating function at random point.\n",
      "Iteration No: 7 ended. Evaluation done at random point.\n",
      "Time taken: 0.0389\n",
      "Function value obtained: 9.8014\n",
      "Current minimum: 9.7204\n",
      "Iteration No: 8 started. Evaluating function at random point.\n",
      "Iteration No: 8 ended. Evaluation done at random point.\n",
      "Time taken: 0.0379\n",
      "Function value obtained: 9.9452\n",
      "Current minimum: 9.7204\n",
      "Iteration No: 9 started. Evaluating function at random point.\n",
      "Iteration No: 9 ended. Evaluation done at random point.\n",
      "Time taken: 0.0365\n",
      "Function value obtained: 9.7601\n",
      "Current minimum: 9.7204\n",
      "Iteration No: 10 started. Evaluating function at random point.\n",
      "Iteration No: 10 ended. Evaluation done at random point.\n",
      "Time taken: 0.3472\n",
      "Function value obtained: 9.5737\n",
      "Current minimum: 9.5737\n",
      "Iteration No: 11 started. Searching for the next optimal point.\n",
      "Iteration No: 11 ended. Search finished for the next optimal point.\n",
      "Time taken: 0.5299\n",
      "Function value obtained: 10.3247\n",
      "Current minimum: 9.5737\n",
      "Iteration No: 12 started. Searching for the next optimal point.\n",
      "Iteration No: 12 ended. Search finished for the next optimal point.\n",
      "Time taken: 0.6087\n",
      "Function value obtained: 10.1528\n",
      "Current minimum: 9.5737\n",
      "Iteration No: 13 started. Searching for the next optimal point.\n",
      "Iteration No: 13 ended. Search finished for the next optimal point.\n",
      "Time taken: 0.7878\n",
      "Function value obtained: 9.6325\n",
      "Current minimum: 9.5737\n",
      "Iteration No: 14 started. Searching for the next optimal point.\n",
      "Iteration No: 14 ended. Search finished for the next optimal point.\n",
      "Time taken: 0.5204\n",
      "Function value obtained: 9.6586\n",
      "Current minimum: 9.5737\n",
      "Iteration No: 15 started. Searching for the next optimal point.\n",
      "Iteration No: 15 ended. Search finished for the next optimal point.\n",
      "Time taken: 0.5092\n",
      "Function value obtained: 9.8156\n",
      "Current minimum: 9.5737\n",
      "Iteration No: 16 started. Searching for the next optimal point.\n",
      "Iteration No: 16 ended. Search finished for the next optimal point.\n",
      "Time taken: 0.5273\n",
      "Function value obtained: 9.8236\n",
      "Current minimum: 9.5737\n",
      "Iteration No: 17 started. Searching for the next optimal point.\n",
      "Iteration No: 17 ended. Search finished for the next optimal point.\n",
      "Time taken: 0.6379\n",
      "Function value obtained: 9.8087\n",
      "Current minimum: 9.5737\n",
      "Iteration No: 18 started. Searching for the next optimal point.\n",
      "Iteration No: 18 ended. Search finished for the next optimal point.\n",
      "Time taken: 0.7550\n",
      "Function value obtained: 9.7817\n",
      "Current minimum: 9.5737\n",
      "Iteration No: 19 started. Searching for the next optimal point.\n",
      "Iteration No: 19 ended. Search finished for the next optimal point.\n",
      "Time taken: 0.7228\n",
      "Function value obtained: 10.0499\n",
      "Current minimum: 9.5737\n",
      "Iteration No: 20 started. Searching for the next optimal point.\n",
      "Iteration No: 20 ended. Search finished for the next optimal point.\n",
      "Time taken: 0.8512\n",
      "Function value obtained: 10.0130\n",
      "Current minimum: 9.5737\n",
      "Iteration No: 21 started. Searching for the next optimal point.\n",
      "Iteration No: 21 ended. Search finished for the next optimal point.\n",
      "Time taken: 0.5381\n",
      "Function value obtained: 10.0239\n",
      "Current minimum: 9.5737\n",
      "Iteration No: 22 started. Searching for the next optimal point.\n",
      "Iteration No: 22 ended. Search finished for the next optimal point.\n",
      "Time taken: 0.6452\n",
      "Function value obtained: 10.4896\n",
      "Current minimum: 9.5737\n",
      "Iteration No: 23 started. Searching for the next optimal point.\n",
      "Iteration No: 23 ended. Search finished for the next optimal point.\n",
      "Time taken: 0.6218\n",
      "Function value obtained: 9.7013\n",
      "Current minimum: 9.5737\n",
      "Iteration No: 24 started. Searching for the next optimal point.\n",
      "Iteration No: 24 ended. Search finished for the next optimal point.\n",
      "Time taken: 0.8167\n",
      "Function value obtained: 9.7183\n",
      "Current minimum: 9.5737\n",
      "Iteration No: 25 started. Searching for the next optimal point.\n"
     ]
    },
    {
     "name": "stderr",
     "output_type": "stream",
     "text": [
      "/home/tom/footbot/venv/lib/python3.6/site-packages/skopt/optimizer/optimizer.py:399: UserWarning: The objective has been evaluated at this point before.\n",
      "  warnings.warn(\"The objective has been evaluated \"\n"
     ]
    },
    {
     "name": "stdout",
     "output_type": "stream",
     "text": [
      "Iteration No: 25 ended. Search finished for the next optimal point.\n",
      "Time taken: 0.7501\n",
      "Function value obtained: 9.6920\n",
      "Current minimum: 9.5737\n",
      "Iteration No: 26 started. Searching for the next optimal point.\n"
     ]
    },
    {
     "name": "stderr",
     "output_type": "stream",
     "text": [
      "/home/tom/footbot/venv/lib/python3.6/site-packages/skopt/optimizer/optimizer.py:399: UserWarning: The objective has been evaluated at this point before.\n",
      "  warnings.warn(\"The objective has been evaluated \"\n"
     ]
    },
    {
     "name": "stdout",
     "output_type": "stream",
     "text": [
      "Iteration No: 26 ended. Search finished for the next optimal point.\n",
      "Time taken: 0.7912\n",
      "Function value obtained: 9.8034\n",
      "Current minimum: 9.5737\n",
      "Iteration No: 27 started. Searching for the next optimal point.\n"
     ]
    },
    {
     "name": "stderr",
     "output_type": "stream",
     "text": [
      "/home/tom/footbot/venv/lib/python3.6/site-packages/skopt/optimizer/optimizer.py:399: UserWarning: The objective has been evaluated at this point before.\n",
      "  warnings.warn(\"The objective has been evaluated \"\n"
     ]
    },
    {
     "name": "stdout",
     "output_type": "stream",
     "text": [
      "Iteration No: 27 ended. Search finished for the next optimal point.\n",
      "Time taken: 0.7529\n",
      "Function value obtained: 9.8041\n",
      "Current minimum: 9.5737\n",
      "Iteration No: 28 started. Searching for the next optimal point.\n",
      "Iteration No: 28 ended. Search finished for the next optimal point.\n",
      "Time taken: 0.7079\n",
      "Function value obtained: 9.7752\n",
      "Current minimum: 9.5737\n",
      "Iteration No: 29 started. Searching for the next optimal point.\n",
      "Iteration No: 29 ended. Search finished for the next optimal point.\n",
      "Time taken: 0.7935\n",
      "Function value obtained: 9.9337\n",
      "Current minimum: 9.5737\n",
      "Iteration No: 30 started. Searching for the next optimal point.\n",
      "Iteration No: 30 ended. Search finished for the next optimal point.\n",
      "Time taken: 0.7479\n",
      "Function value obtained: 9.8101\n",
      "Current minimum: 9.5737\n",
      "minimisation iteration 5\n",
      "Iteration No: 1 started. Evaluating function at random point.\n",
      "Iteration No: 1 ended. Evaluation done at random point.\n",
      "Time taken: 0.0526\n",
      "Function value obtained: 9.7851\n",
      "Current minimum: 9.7851\n",
      "Iteration No: 2 started. Evaluating function at random point.\n",
      "Iteration No: 2 ended. Evaluation done at random point.\n",
      "Time taken: 0.0388\n",
      "Function value obtained: 9.7322\n",
      "Current minimum: 9.7322\n",
      "Iteration No: 3 started. Evaluating function at random point.\n",
      "Iteration No: 3 ended. Evaluation done at random point.\n",
      "Time taken: 0.0464\n",
      "Function value obtained: 10.1810\n",
      "Current minimum: 9.7322\n",
      "Iteration No: 4 started. Evaluating function at random point.\n",
      "Iteration No: 4 ended. Evaluation done at random point.\n",
      "Time taken: 0.0342\n",
      "Function value obtained: 9.8475\n",
      "Current minimum: 9.7322\n",
      "Iteration No: 5 started. Evaluating function at random point.\n",
      "Iteration No: 5 ended. Evaluation done at random point.\n",
      "Time taken: 0.0402\n",
      "Function value obtained: 9.7598\n",
      "Current minimum: 9.7322\n",
      "Iteration No: 6 started. Evaluating function at random point.\n",
      "Iteration No: 6 ended. Evaluation done at random point.\n",
      "Time taken: 0.0360\n",
      "Function value obtained: 9.5039\n",
      "Current minimum: 9.5039\n",
      "Iteration No: 7 started. Evaluating function at random point.\n",
      "Iteration No: 7 ended. Evaluation done at random point.\n",
      "Time taken: 0.0443\n",
      "Function value obtained: 9.8165\n",
      "Current minimum: 9.5039\n",
      "Iteration No: 8 started. Evaluating function at random point.\n",
      "Iteration No: 8 ended. Evaluation done at random point.\n",
      "Time taken: 0.0375\n",
      "Function value obtained: 9.9424\n",
      "Current minimum: 9.5039\n",
      "Iteration No: 9 started. Evaluating function at random point.\n",
      "Iteration No: 9 ended. Evaluation done at random point.\n",
      "Time taken: 0.0537\n",
      "Function value obtained: 10.6407\n",
      "Current minimum: 9.5039\n",
      "Iteration No: 10 started. Evaluating function at random point.\n",
      "Iteration No: 10 ended. Evaluation done at random point.\n",
      "Time taken: 0.5193\n",
      "Function value obtained: 10.0831\n",
      "Current minimum: 9.5039\n",
      "Iteration No: 11 started. Searching for the next optimal point.\n",
      "Iteration No: 11 ended. Search finished for the next optimal point.\n",
      "Time taken: 0.4240\n",
      "Function value obtained: 9.9920\n",
      "Current minimum: 9.5039\n",
      "Iteration No: 12 started. Searching for the next optimal point.\n",
      "Iteration No: 12 ended. Search finished for the next optimal point.\n",
      "Time taken: 0.4273\n",
      "Function value obtained: 9.5823\n",
      "Current minimum: 9.5039\n",
      "Iteration No: 13 started. Searching for the next optimal point.\n"
     ]
    },
    {
     "name": "stderr",
     "output_type": "stream",
     "text": [
      "/home/tom/footbot/venv/lib/python3.6/site-packages/skopt/optimizer/optimizer.py:399: UserWarning: The objective has been evaluated at this point before.\n",
      "  warnings.warn(\"The objective has been evaluated \"\n"
     ]
    },
    {
     "name": "stdout",
     "output_type": "stream",
     "text": [
      "Iteration No: 13 ended. Search finished for the next optimal point.\n",
      "Time taken: 0.6885\n",
      "Function value obtained: 9.7767\n",
      "Current minimum: 9.5039\n",
      "Iteration No: 14 started. Searching for the next optimal point.\n",
      "Iteration No: 14 ended. Search finished for the next optimal point.\n",
      "Time taken: 0.5261\n",
      "Function value obtained: 9.9055\n",
      "Current minimum: 9.5039\n",
      "Iteration No: 15 started. Searching for the next optimal point.\n",
      "Iteration No: 15 ended. Search finished for the next optimal point.\n",
      "Time taken: 0.4870\n",
      "Function value obtained: 9.9202\n",
      "Current minimum: 9.5039\n",
      "Iteration No: 16 started. Searching for the next optimal point.\n"
     ]
    },
    {
     "name": "stderr",
     "output_type": "stream",
     "text": [
      "/home/tom/footbot/venv/lib/python3.6/site-packages/skopt/optimizer/optimizer.py:399: UserWarning: The objective has been evaluated at this point before.\n",
      "  warnings.warn(\"The objective has been evaluated \"\n"
     ]
    },
    {
     "name": "stdout",
     "output_type": "stream",
     "text": [
      "Iteration No: 16 ended. Search finished for the next optimal point.\n",
      "Time taken: 0.5441\n",
      "Function value obtained: 9.7013\n",
      "Current minimum: 9.5039\n",
      "Iteration No: 17 started. Searching for the next optimal point.\n",
      "Iteration No: 17 ended. Search finished for the next optimal point.\n",
      "Time taken: 0.5811\n",
      "Function value obtained: 9.9817\n",
      "Current minimum: 9.5039\n",
      "Iteration No: 18 started. Searching for the next optimal point.\n"
     ]
    },
    {
     "name": "stderr",
     "output_type": "stream",
     "text": [
      "/home/tom/footbot/venv/lib/python3.6/site-packages/skopt/optimizer/optimizer.py:399: UserWarning: The objective has been evaluated at this point before.\n",
      "  warnings.warn(\"The objective has been evaluated \"\n"
     ]
    },
    {
     "name": "stdout",
     "output_type": "stream",
     "text": [
      "Iteration No: 18 ended. Search finished for the next optimal point.\n",
      "Time taken: 0.5107\n",
      "Function value obtained: 9.7552\n",
      "Current minimum: 9.5039\n",
      "Iteration No: 19 started. Searching for the next optimal point.\n"
     ]
    },
    {
     "name": "stderr",
     "output_type": "stream",
     "text": [
      "/home/tom/footbot/venv/lib/python3.6/site-packages/skopt/optimizer/optimizer.py:399: UserWarning: The objective has been evaluated at this point before.\n",
      "  warnings.warn(\"The objective has been evaluated \"\n"
     ]
    },
    {
     "name": "stdout",
     "output_type": "stream",
     "text": [
      "Iteration No: 19 ended. Search finished for the next optimal point.\n",
      "Time taken: 0.7707\n",
      "Function value obtained: 9.7353\n",
      "Current minimum: 9.5039\n",
      "Iteration No: 20 started. Searching for the next optimal point.\n",
      "Iteration No: 20 ended. Search finished for the next optimal point.\n",
      "Time taken: 0.7735\n",
      "Function value obtained: 9.6217\n",
      "Current minimum: 9.5039\n",
      "Iteration No: 21 started. Searching for the next optimal point.\n",
      "Iteration No: 21 ended. Search finished for the next optimal point.\n",
      "Time taken: 0.7948\n",
      "Function value obtained: 9.9204\n",
      "Current minimum: 9.5039\n",
      "Iteration No: 22 started. Searching for the next optimal point.\n",
      "Iteration No: 22 ended. Search finished for the next optimal point.\n",
      "Time taken: 0.6543\n",
      "Function value obtained: 10.0400\n",
      "Current minimum: 9.5039\n",
      "Iteration No: 23 started. Searching for the next optimal point.\n",
      "Iteration No: 23 ended. Search finished for the next optimal point.\n",
      "Time taken: 0.7738\n",
      "Function value obtained: 9.6606\n",
      "Current minimum: 9.5039\n",
      "Iteration No: 24 started. Searching for the next optimal point.\n",
      "Iteration No: 24 ended. Search finished for the next optimal point.\n",
      "Time taken: 0.6793\n",
      "Function value obtained: 9.7868\n",
      "Current minimum: 9.5039\n",
      "Iteration No: 25 started. Searching for the next optimal point.\n",
      "Iteration No: 25 ended. Search finished for the next optimal point.\n",
      "Time taken: 0.6983\n",
      "Function value obtained: 9.7883\n",
      "Current minimum: 9.5039\n",
      "Iteration No: 26 started. Searching for the next optimal point.\n",
      "Iteration No: 26 ended. Search finished for the next optimal point.\n",
      "Time taken: 0.5922\n",
      "Function value obtained: 10.3722\n",
      "Current minimum: 9.5039\n",
      "Iteration No: 27 started. Searching for the next optimal point.\n",
      "Iteration No: 27 ended. Search finished for the next optimal point.\n",
      "Time taken: 0.6516\n",
      "Function value obtained: 10.0053\n",
      "Current minimum: 9.5039\n",
      "Iteration No: 28 started. Searching for the next optimal point.\n",
      "Iteration No: 28 ended. Search finished for the next optimal point.\n",
      "Time taken: 0.8207\n",
      "Function value obtained: 9.6288\n",
      "Current minimum: 9.5039\n",
      "Iteration No: 29 started. Searching for the next optimal point.\n",
      "Iteration No: 29 ended. Search finished for the next optimal point.\n",
      "Time taken: 0.7523\n",
      "Function value obtained: 9.8987\n",
      "Current minimum: 9.5039\n",
      "Iteration No: 30 started. Searching for the next optimal point.\n",
      "Iteration No: 30 ended. Search finished for the next optimal point.\n",
      "Time taken: 0.7711\n",
      "Function value obtained: 9.9160\n",
      "Current minimum: 9.5039\n"
     ]
    }
   ],
   "source": [
    "lush_res_gp_arr = []\n",
    "for i in range(1, 6):\n",
    "    print('minimisation iteration', i)\n",
    "    lush_res_gp = gp_minimize(lush_objective, lush_space, n_calls=30, verbose=2)\n",
    "    lush_res_gp_arr.append(lush_res_gp)"
   ]
  },
  {
   "cell_type": "code",
   "execution_count": 161,
   "metadata": {
    "ExecuteTime": {
     "end_time": "2019-07-14T09:34:19.901938Z",
     "start_time": "2019-07-14T09:34:19.897272Z"
    },
    "hidden": true
   },
   "outputs": [
    {
     "name": "stdout",
     "output_type": "stream",
     "text": [
      "9.644829214574136\n",
      "9.609732903940193\n",
      "9.522096409787585\n",
      "9.573744114030662\n",
      "9.503924103418074\n",
      "\n",
      "\n",
      "[0.05651389583819214, 0.6]\n",
      "[0.04391291351012633, 0.7]\n",
      "[0.022192119008698195, 0.6446727271693776]\n",
      "[0.030678283035736796, 0.6919249978263097]\n",
      "[0.04953003036061004, 0.6316218159150546]\n"
     ]
    }
   ],
   "source": [
    "for i in lush_res_gp_arr:\n",
    "    print(i.fun)\n",
    "print('\\n')\n",
    "for i in lush_res_gp_arr:\n",
    "    print(i.x)"
   ]
  },
  {
   "cell_type": "markdown",
   "metadata": {
    "ExecuteTime": {
     "end_time": "2019-07-14T08:44:23.630158Z",
     "start_time": "2019-07-14T08:44:23.624714Z"
    },
    "heading_collapsed": true,
    "hidden": true
   },
   "source": [
    "#### Decision tree (stark)"
   ]
  },
  {
   "cell_type": "code",
   "execution_count": 83,
   "metadata": {
    "ExecuteTime": {
     "end_time": "2019-07-14T08:50:59.012039Z",
     "start_time": "2019-07-14T08:50:58.977812Z"
    },
    "hidden": true
   },
   "outputs": [],
   "source": [
    "stark_space = [\n",
    "    Real(0.01, 0.05, 'uniform', name='min_samples_leaf')\n",
    "]"
   ]
  },
  {
   "cell_type": "code",
   "execution_count": 84,
   "metadata": {
    "ExecuteTime": {
     "end_time": "2019-07-14T08:50:59.047614Z",
     "start_time": "2019-07-14T08:50:59.018394Z"
    },
    "hidden": true
   },
   "outputs": [],
   "source": [
    "stark_gp_model = DecisionTreeRegressor()\n",
    "\n",
    "@use_named_args(stark_space)\n",
    "def stark_objective(**params):\n",
    "    stark_gp_model.set_params(**params)\n",
    "\n",
    "    return -np.mean(\n",
    "        cross_val_score(\n",
    "            stark_gp_model,\n",
    "            stark_X_sel, y.ravel(),\n",
    "            cv=ps,\n",
    "            n_jobs=1,\n",
    "            scoring=\"neg_mean_squared_error\"))"
   ]
  },
  {
   "cell_type": "code",
   "execution_count": 85,
   "metadata": {
    "ExecuteTime": {
     "end_time": "2019-07-14T08:51:54.927923Z",
     "start_time": "2019-07-14T08:50:59.049856Z"
    },
    "hidden": true
   },
   "outputs": [
    {
     "name": "stdout",
     "output_type": "stream",
     "text": [
      "minimisation iteration 1\n",
      "Iteration No: 1 started. Evaluating function at random point.\n",
      "Iteration No: 1 ended. Evaluation done at random point.\n",
      "Time taken: 0.0066\n",
      "Function value obtained: 9.6837\n",
      "Current minimum: 9.6837\n",
      "Iteration No: 2 started. Evaluating function at random point.\n",
      "Iteration No: 2 ended. Evaluation done at random point.\n",
      "Time taken: 0.0060\n",
      "Function value obtained: 9.9418\n",
      "Current minimum: 9.6837\n",
      "Iteration No: 3 started. Evaluating function at random point.\n",
      "Iteration No: 3 ended. Evaluation done at random point.\n",
      "Time taken: 0.0061\n",
      "Function value obtained: 10.0254\n",
      "Current minimum: 9.6837\n",
      "Iteration No: 4 started. Evaluating function at random point.\n",
      "Iteration No: 4 ended. Evaluation done at random point.\n",
      "Time taken: 0.0049\n",
      "Function value obtained: 9.7032\n",
      "Current minimum: 9.6837\n",
      "Iteration No: 5 started. Evaluating function at random point.\n",
      "Iteration No: 5 ended. Evaluation done at random point.\n",
      "Time taken: 0.0052\n",
      "Function value obtained: 9.6457\n",
      "Current minimum: 9.6457\n",
      "Iteration No: 6 started. Evaluating function at random point.\n",
      "Iteration No: 6 ended. Evaluation done at random point.\n",
      "Time taken: 0.0053\n",
      "Function value obtained: 9.5621\n",
      "Current minimum: 9.5621\n",
      "Iteration No: 7 started. Evaluating function at random point.\n",
      "Iteration No: 7 ended. Evaluation done at random point.\n",
      "Time taken: 0.0051\n",
      "Function value obtained: 9.7044\n",
      "Current minimum: 9.5621\n",
      "Iteration No: 8 started. Evaluating function at random point.\n",
      "Iteration No: 8 ended. Evaluation done at random point.\n",
      "Time taken: 0.0051\n",
      "Function value obtained: 9.6046\n",
      "Current minimum: 9.5621\n",
      "Iteration No: 9 started. Evaluating function at random point.\n",
      "Iteration No: 9 ended. Evaluation done at random point.\n",
      "Time taken: 0.0048\n",
      "Function value obtained: 9.6519\n",
      "Current minimum: 9.5621\n",
      "Iteration No: 10 started. Evaluating function at random point.\n",
      "Iteration No: 10 ended. Evaluation done at random point.\n",
      "Time taken: 0.3263\n",
      "Function value obtained: 9.8171\n",
      "Current minimum: 9.5621\n",
      "Iteration No: 11 started. Searching for the next optimal point.\n",
      "Iteration No: 11 ended. Search finished for the next optimal point.\n",
      "Time taken: 0.3294\n",
      "Function value obtained: 9.6334\n",
      "Current minimum: 9.5621\n",
      "Iteration No: 12 started. Searching for the next optimal point.\n",
      "Iteration No: 12 ended. Search finished for the next optimal point.\n",
      "Time taken: 0.3501\n",
      "Function value obtained: 9.7163\n",
      "Current minimum: 9.5621\n",
      "Iteration No: 13 started. Searching for the next optimal point.\n",
      "Iteration No: 13 ended. Search finished for the next optimal point.\n",
      "Time taken: 0.3720\n",
      "Function value obtained: 9.5802\n",
      "Current minimum: 9.5621\n",
      "Iteration No: 14 started. Searching for the next optimal point.\n",
      "Iteration No: 14 ended. Search finished for the next optimal point.\n",
      "Time taken: 0.4449\n",
      "Function value obtained: 9.5802\n",
      "Current minimum: 9.5621\n",
      "Iteration No: 15 started. Searching for the next optimal point.\n",
      "Iteration No: 15 ended. Search finished for the next optimal point.\n",
      "Time taken: 0.4623\n",
      "Function value obtained: 9.5641\n",
      "Current minimum: 9.5621\n",
      "Iteration No: 16 started. Searching for the next optimal point.\n",
      "Iteration No: 16 ended. Search finished for the next optimal point.\n",
      "Time taken: 0.5972\n",
      "Function value obtained: 9.5641\n",
      "Current minimum: 9.5621\n",
      "Iteration No: 17 started. Searching for the next optimal point.\n",
      "Iteration No: 17 ended. Search finished for the next optimal point.\n",
      "Time taken: 0.5402\n",
      "Function value obtained: 9.5899\n",
      "Current minimum: 9.5621\n",
      "Iteration No: 18 started. Searching for the next optimal point.\n",
      "Iteration No: 18 ended. Search finished for the next optimal point.\n",
      "Time taken: 0.5842\n",
      "Function value obtained: 9.5706\n",
      "Current minimum: 9.5621\n",
      "Iteration No: 19 started. Searching for the next optimal point.\n",
      "Iteration No: 19 ended. Search finished for the next optimal point.\n",
      "Time taken: 0.4943\n",
      "Function value obtained: 9.5802\n",
      "Current minimum: 9.5621\n",
      "Iteration No: 20 started. Searching for the next optimal point.\n",
      "Iteration No: 20 ended. Search finished for the next optimal point.\n",
      "Time taken: 0.4559\n",
      "Function value obtained: 9.5616\n",
      "Current minimum: 9.5616\n",
      "Iteration No: 21 started. Searching for the next optimal point.\n",
      "Iteration No: 21 ended. Search finished for the next optimal point.\n",
      "Time taken: 0.5303\n",
      "Function value obtained: 9.5706\n",
      "Current minimum: 9.5616\n",
      "Iteration No: 22 started. Searching for the next optimal point.\n",
      "Iteration No: 22 ended. Search finished for the next optimal point.\n",
      "Time taken: 0.4772\n",
      "Function value obtained: 9.5616\n",
      "Current minimum: 9.5616\n",
      "Iteration No: 23 started. Searching for the next optimal point.\n",
      "Iteration No: 23 ended. Search finished for the next optimal point.\n",
      "Time taken: 0.4807\n",
      "Function value obtained: 9.5616\n",
      "Current minimum: 9.5616\n",
      "Iteration No: 24 started. Searching for the next optimal point.\n",
      "Iteration No: 24 ended. Search finished for the next optimal point.\n",
      "Time taken: 0.5288\n",
      "Function value obtained: 9.5690\n",
      "Current minimum: 9.5616\n",
      "Iteration No: 25 started. Searching for the next optimal point.\n",
      "Iteration No: 25 ended. Search finished for the next optimal point.\n",
      "Time taken: 0.4851\n",
      "Function value obtained: 9.5536\n",
      "Current minimum: 9.5536\n",
      "Iteration No: 26 started. Searching for the next optimal point.\n",
      "Iteration No: 26 ended. Search finished for the next optimal point.\n",
      "Time taken: 0.5439\n",
      "Function value obtained: 9.5690\n",
      "Current minimum: 9.5536\n",
      "Iteration No: 27 started. Searching for the next optimal point.\n",
      "Iteration No: 27 ended. Search finished for the next optimal point.\n",
      "Time taken: 0.4997\n",
      "Function value obtained: 9.5690\n",
      "Current minimum: 9.5536\n",
      "Iteration No: 28 started. Searching for the next optimal point.\n",
      "Iteration No: 28 ended. Search finished for the next optimal point.\n",
      "Time taken: 0.6132\n",
      "Function value obtained: 9.5690\n",
      "Current minimum: 9.5536\n",
      "Iteration No: 29 started. Searching for the next optimal point.\n",
      "Iteration No: 29 ended. Search finished for the next optimal point.\n",
      "Time taken: 0.5320\n",
      "Function value obtained: 9.6251\n",
      "Current minimum: 9.5536\n",
      "Iteration No: 30 started. Searching for the next optimal point.\n",
      "Iteration No: 30 ended. Search finished for the next optimal point.\n",
      "Time taken: 0.5481\n",
      "Function value obtained: 9.5690\n",
      "Current minimum: 9.5536\n",
      "minimisation iteration 2\n",
      "Iteration No: 1 started. Evaluating function at random point.\n",
      "Iteration No: 1 ended. Evaluation done at random point.\n",
      "Time taken: 0.0061\n",
      "Function value obtained: 9.6657\n",
      "Current minimum: 9.6657\n",
      "Iteration No: 2 started. Evaluating function at random point.\n",
      "Iteration No: 2 ended. Evaluation done at random point.\n",
      "Time taken: 0.0068\n",
      "Function value obtained: 9.8171\n",
      "Current minimum: 9.6657\n",
      "Iteration No: 3 started. Evaluating function at random point.\n",
      "Iteration No: 3 ended. Evaluation done at random point.\n",
      "Time taken: 0.0064\n",
      "Function value obtained: 9.6334\n",
      "Current minimum: 9.6334\n",
      "Iteration No: 4 started. Evaluating function at random point.\n",
      "Iteration No: 4 ended. Evaluation done at random point.\n",
      "Time taken: 0.0062\n",
      "Function value obtained: 9.5879\n",
      "Current minimum: 9.5879\n",
      "Iteration No: 5 started. Evaluating function at random point.\n",
      "Iteration No: 5 ended. Evaluation done at random point.\n",
      "Time taken: 0.0056\n",
      "Function value obtained: 9.7163\n",
      "Current minimum: 9.5879\n",
      "Iteration No: 6 started. Evaluating function at random point.\n",
      "Iteration No: 6 ended. Evaluation done at random point.\n",
      "Time taken: 0.0056\n",
      "Function value obtained: 9.6447\n",
      "Current minimum: 9.5879\n",
      "Iteration No: 7 started. Evaluating function at random point.\n",
      "Iteration No: 7 ended. Evaluation done at random point.\n",
      "Time taken: 0.0064\n",
      "Function value obtained: 9.6160\n",
      "Current minimum: 9.5879\n",
      "Iteration No: 8 started. Evaluating function at random point.\n",
      "Iteration No: 8 ended. Evaluation done at random point.\n",
      "Time taken: 0.0060\n",
      "Function value obtained: 9.6457\n",
      "Current minimum: 9.5879\n",
      "Iteration No: 9 started. Evaluating function at random point.\n",
      "Iteration No: 9 ended. Evaluation done at random point.\n",
      "Time taken: 0.0067\n",
      "Function value obtained: 9.7264\n",
      "Current minimum: 9.5879\n",
      "Iteration No: 10 started. Evaluating function at random point.\n",
      "Iteration No: 10 ended. Evaluation done at random point.\n",
      "Time taken: 0.3775\n",
      "Function value obtained: 9.7255\n",
      "Current minimum: 9.5879\n",
      "Iteration No: 11 started. Searching for the next optimal point.\n",
      "Iteration No: 11 ended. Search finished for the next optimal point.\n",
      "Time taken: 0.4023\n",
      "Function value obtained: 9.5690\n",
      "Current minimum: 9.5690\n",
      "Iteration No: 12 started. Searching for the next optimal point.\n"
     ]
    },
    {
     "name": "stdout",
     "output_type": "stream",
     "text": [
      "Iteration No: 12 ended. Search finished for the next optimal point.\n",
      "Time taken: 0.4022\n",
      "Function value obtained: 9.5616\n",
      "Current minimum: 9.5616\n",
      "Iteration No: 13 started. Searching for the next optimal point.\n",
      "Iteration No: 13 ended. Search finished for the next optimal point.\n",
      "Time taken: 0.3793\n",
      "Function value obtained: 9.5616\n",
      "Current minimum: 9.5616\n",
      "Iteration No: 14 started. Searching for the next optimal point.\n",
      "Iteration No: 14 ended. Search finished for the next optimal point.\n",
      "Time taken: 0.3596\n",
      "Function value obtained: 9.6120\n",
      "Current minimum: 9.5616\n",
      "Iteration No: 15 started. Searching for the next optimal point.\n",
      "Iteration No: 15 ended. Search finished for the next optimal point.\n",
      "Time taken: 0.4221\n",
      "Function value obtained: 9.6519\n",
      "Current minimum: 9.5616\n",
      "Iteration No: 16 started. Searching for the next optimal point.\n",
      "Iteration No: 16 ended. Search finished for the next optimal point.\n",
      "Time taken: 0.4563\n",
      "Function value obtained: 9.5802\n",
      "Current minimum: 9.5616\n",
      "Iteration No: 17 started. Searching for the next optimal point.\n",
      "Iteration No: 17 ended. Search finished for the next optimal point.\n",
      "Time taken: 0.4528\n",
      "Function value obtained: 9.6882\n",
      "Current minimum: 9.5616\n",
      "Iteration No: 18 started. Searching for the next optimal point.\n",
      "Iteration No: 18 ended. Search finished for the next optimal point.\n",
      "Time taken: 0.4233\n",
      "Function value obtained: 9.5536\n",
      "Current minimum: 9.5536\n",
      "Iteration No: 19 started. Searching for the next optimal point.\n",
      "Iteration No: 19 ended. Search finished for the next optimal point.\n",
      "Time taken: 0.5349\n",
      "Function value obtained: 10.0896\n",
      "Current minimum: 9.5536\n",
      "Iteration No: 20 started. Searching for the next optimal point.\n",
      "Iteration No: 20 ended. Search finished for the next optimal point.\n",
      "Time taken: 0.6130\n",
      "Function value obtained: 9.5802\n",
      "Current minimum: 9.5536\n",
      "Iteration No: 21 started. Searching for the next optimal point.\n",
      "Iteration No: 21 ended. Search finished for the next optimal point.\n",
      "Time taken: 0.5782\n",
      "Function value obtained: 9.6840\n",
      "Current minimum: 9.5536\n",
      "Iteration No: 22 started. Searching for the next optimal point.\n",
      "Iteration No: 22 ended. Search finished for the next optimal point.\n",
      "Time taken: 0.6355\n",
      "Function value obtained: 9.7044\n",
      "Current minimum: 9.5536\n",
      "Iteration No: 23 started. Searching for the next optimal point.\n",
      "Iteration No: 23 ended. Search finished for the next optimal point.\n",
      "Time taken: 0.6693\n",
      "Function value obtained: 9.5802\n",
      "Current minimum: 9.5536\n",
      "Iteration No: 24 started. Searching for the next optimal point.\n",
      "Iteration No: 24 ended. Search finished for the next optimal point.\n",
      "Time taken: 0.6522\n",
      "Function value obtained: 9.6385\n",
      "Current minimum: 9.5536\n",
      "Iteration No: 25 started. Searching for the next optimal point.\n",
      "Iteration No: 25 ended. Search finished for the next optimal point.\n",
      "Time taken: 0.6040\n",
      "Function value obtained: 9.5536\n",
      "Current minimum: 9.5536\n",
      "Iteration No: 26 started. Searching for the next optimal point.\n",
      "Iteration No: 26 ended. Search finished for the next optimal point.\n",
      "Time taken: 0.7033\n",
      "Function value obtained: 9.5536\n",
      "Current minimum: 9.5536\n",
      "Iteration No: 27 started. Searching for the next optimal point.\n",
      "Iteration No: 27 ended. Search finished for the next optimal point.\n",
      "Time taken: 0.6313\n",
      "Function value obtained: 9.5536\n",
      "Current minimum: 9.5536\n",
      "Iteration No: 28 started. Searching for the next optimal point.\n",
      "Iteration No: 28 ended. Search finished for the next optimal point.\n",
      "Time taken: 0.7052\n",
      "Function value obtained: 9.5984\n",
      "Current minimum: 9.5536\n",
      "Iteration No: 29 started. Searching for the next optimal point.\n",
      "Iteration No: 29 ended. Search finished for the next optimal point.\n",
      "Time taken: 0.5475\n",
      "Function value obtained: 9.6555\n",
      "Current minimum: 9.5536\n",
      "Iteration No: 30 started. Searching for the next optimal point.\n",
      "Iteration No: 30 ended. Search finished for the next optimal point.\n",
      "Time taken: 0.5308\n",
      "Function value obtained: 9.6113\n",
      "Current minimum: 9.5536\n",
      "minimisation iteration 3\n",
      "Iteration No: 1 started. Evaluating function at random point.\n",
      "Iteration No: 1 ended. Evaluation done at random point.\n",
      "Time taken: 0.0068\n",
      "Function value obtained: 9.5621\n",
      "Current minimum: 9.5621\n",
      "Iteration No: 2 started. Evaluating function at random point.\n",
      "Iteration No: 2 ended. Evaluation done at random point.\n",
      "Time taken: 0.0062\n",
      "Function value obtained: 9.5690\n",
      "Current minimum: 9.5621\n",
      "Iteration No: 3 started. Evaluating function at random point.\n",
      "Iteration No: 3 ended. Evaluation done at random point.\n",
      "Time taken: 0.0063\n",
      "Function value obtained: 9.5879\n",
      "Current minimum: 9.5621\n",
      "Iteration No: 4 started. Evaluating function at random point.\n",
      "Iteration No: 4 ended. Evaluation done at random point.\n",
      "Time taken: 0.0069\n",
      "Function value obtained: 9.8171\n",
      "Current minimum: 9.5621\n",
      "Iteration No: 5 started. Evaluating function at random point.\n",
      "Iteration No: 5 ended. Evaluation done at random point.\n",
      "Time taken: 0.0061\n",
      "Function value obtained: 9.6046\n",
      "Current minimum: 9.5621\n",
      "Iteration No: 6 started. Evaluating function at random point.\n",
      "Iteration No: 6 ended. Evaluation done at random point.\n",
      "Time taken: 0.0058\n",
      "Function value obtained: 9.7032\n",
      "Current minimum: 9.5621\n",
      "Iteration No: 7 started. Evaluating function at random point.\n",
      "Iteration No: 7 ended. Evaluation done at random point.\n",
      "Time taken: 0.0072\n",
      "Function value obtained: 9.9751\n",
      "Current minimum: 9.5621\n",
      "Iteration No: 8 started. Evaluating function at random point.\n",
      "Iteration No: 8 ended. Evaluation done at random point.\n",
      "Time taken: 0.0058\n",
      "Function value obtained: 9.6882\n",
      "Current minimum: 9.5621\n",
      "Iteration No: 9 started. Evaluating function at random point.\n",
      "Iteration No: 9 ended. Evaluation done at random point.\n",
      "Time taken: 0.0054\n",
      "Function value obtained: 9.7163\n",
      "Current minimum: 9.5621\n",
      "Iteration No: 10 started. Evaluating function at random point.\n",
      "Iteration No: 10 ended. Evaluation done at random point.\n",
      "Time taken: 0.4791\n",
      "Function value obtained: 9.6837\n",
      "Current minimum: 9.5621\n",
      "Iteration No: 11 started. Searching for the next optimal point.\n",
      "Iteration No: 11 ended. Search finished for the next optimal point.\n",
      "Time taken: 0.4431\n",
      "Function value obtained: 9.6385\n",
      "Current minimum: 9.5621\n",
      "Iteration No: 12 started. Searching for the next optimal point.\n",
      "Iteration No: 12 ended. Search finished for the next optimal point.\n",
      "Time taken: 0.4252\n",
      "Function value obtained: 9.6519\n",
      "Current minimum: 9.5621\n",
      "Iteration No: 13 started. Searching for the next optimal point.\n",
      "Iteration No: 13 ended. Search finished for the next optimal point.\n",
      "Time taken: 0.3694\n",
      "Function value obtained: 9.5802\n",
      "Current minimum: 9.5621\n",
      "Iteration No: 14 started. Searching for the next optimal point.\n",
      "Iteration No: 14 ended. Search finished for the next optimal point.\n",
      "Time taken: 0.4615\n",
      "Function value obtained: 9.5879\n",
      "Current minimum: 9.5621\n",
      "Iteration No: 15 started. Searching for the next optimal point.\n",
      "Iteration No: 15 ended. Search finished for the next optimal point.\n",
      "Time taken: 0.3881\n",
      "Function value obtained: 9.5706\n",
      "Current minimum: 9.5621\n",
      "Iteration No: 16 started. Searching for the next optimal point.\n",
      "Iteration No: 16 ended. Search finished for the next optimal point.\n",
      "Time taken: 0.4468\n",
      "Function value obtained: 9.5802\n",
      "Current minimum: 9.5621\n",
      "Iteration No: 17 started. Searching for the next optimal point.\n",
      "Iteration No: 17 ended. Search finished for the next optimal point.\n",
      "Time taken: 0.4601\n",
      "Function value obtained: 9.6334\n",
      "Current minimum: 9.5621\n",
      "Iteration No: 18 started. Searching for the next optimal point.\n",
      "Iteration No: 18 ended. Search finished for the next optimal point.\n",
      "Time taken: 0.5885\n",
      "Function value obtained: 9.5802\n",
      "Current minimum: 9.5621\n",
      "Iteration No: 19 started. Searching for the next optimal point.\n",
      "Iteration No: 19 ended. Search finished for the next optimal point.\n",
      "Time taken: 0.4282\n",
      "Function value obtained: 9.6435\n",
      "Current minimum: 9.5621\n",
      "Iteration No: 20 started. Searching for the next optimal point.\n",
      "Iteration No: 20 ended. Search finished for the next optimal point.\n",
      "Time taken: 0.4939\n",
      "Function value obtained: 9.5706\n",
      "Current minimum: 9.5621\n",
      "Iteration No: 21 started. Searching for the next optimal point.\n",
      "Iteration No: 21 ended. Search finished for the next optimal point.\n",
      "Time taken: 0.4126\n",
      "Function value obtained: 9.5536\n",
      "Current minimum: 9.5536\n",
      "Iteration No: 22 started. Searching for the next optimal point.\n",
      "Iteration No: 22 ended. Search finished for the next optimal point.\n",
      "Time taken: 0.5147\n",
      "Function value obtained: 9.5536\n",
      "Current minimum: 9.5536\n",
      "Iteration No: 23 started. Searching for the next optimal point.\n"
     ]
    },
    {
     "name": "stdout",
     "output_type": "stream",
     "text": [
      "Iteration No: 23 ended. Search finished for the next optimal point.\n",
      "Time taken: 0.4694\n",
      "Function value obtained: 9.5536\n",
      "Current minimum: 9.5536\n",
      "Iteration No: 24 started. Searching for the next optimal point.\n",
      "Iteration No: 24 ended. Search finished for the next optimal point.\n",
      "Time taken: 0.5996\n",
      "Function value obtained: 9.5536\n",
      "Current minimum: 9.5536\n",
      "Iteration No: 25 started. Searching for the next optimal point.\n",
      "Iteration No: 25 ended. Search finished for the next optimal point.\n",
      "Time taken: 0.5548\n",
      "Function value obtained: 9.5616\n",
      "Current minimum: 9.5536\n",
      "Iteration No: 26 started. Searching for the next optimal point.\n",
      "Iteration No: 26 ended. Search finished for the next optimal point.\n",
      "Time taken: 0.6993\n",
      "Function value obtained: 9.5536\n",
      "Current minimum: 9.5536\n",
      "Iteration No: 27 started. Searching for the next optimal point.\n",
      "Iteration No: 27 ended. Search finished for the next optimal point.\n",
      "Time taken: 0.6905\n",
      "Function value obtained: 9.7345\n",
      "Current minimum: 9.5536\n",
      "Iteration No: 28 started. Searching for the next optimal point.\n",
      "Iteration No: 28 ended. Search finished for the next optimal point.\n",
      "Time taken: 0.7193\n",
      "Function value obtained: 9.5536\n",
      "Current minimum: 9.5536\n",
      "Iteration No: 29 started. Searching for the next optimal point.\n",
      "Iteration No: 29 ended. Search finished for the next optimal point.\n",
      "Time taken: 0.6790\n",
      "Function value obtained: 9.6680\n",
      "Current minimum: 9.5536\n",
      "Iteration No: 30 started. Searching for the next optimal point.\n",
      "Iteration No: 30 ended. Search finished for the next optimal point.\n",
      "Time taken: 0.6210\n",
      "Function value obtained: 9.5536\n",
      "Current minimum: 9.5536\n",
      "minimisation iteration 4\n",
      "Iteration No: 1 started. Evaluating function at random point.\n",
      "Iteration No: 1 ended. Evaluation done at random point.\n",
      "Time taken: 0.0065\n",
      "Function value obtained: 9.5536\n",
      "Current minimum: 9.5536\n",
      "Iteration No: 2 started. Evaluating function at random point.\n",
      "Iteration No: 2 ended. Evaluation done at random point.\n",
      "Time taken: 0.0073\n",
      "Function value obtained: 10.0091\n",
      "Current minimum: 9.5536\n",
      "Iteration No: 3 started. Evaluating function at random point.\n",
      "Iteration No: 3 ended. Evaluation done at random point.\n",
      "Time taken: 0.0058\n",
      "Function value obtained: 9.6840\n",
      "Current minimum: 9.5536\n",
      "Iteration No: 4 started. Evaluating function at random point.\n",
      "Iteration No: 4 ended. Evaluation done at random point.\n",
      "Time taken: 0.0068\n",
      "Function value obtained: 9.7255\n",
      "Current minimum: 9.5536\n",
      "Iteration No: 5 started. Evaluating function at random point.\n",
      "Iteration No: 5 ended. Evaluation done at random point.\n",
      "Time taken: 0.0057\n",
      "Function value obtained: 9.6840\n",
      "Current minimum: 9.5536\n",
      "Iteration No: 6 started. Evaluating function at random point.\n",
      "Iteration No: 6 ended. Evaluation done at random point.\n",
      "Time taken: 0.0070\n",
      "Function value obtained: 10.0335\n",
      "Current minimum: 9.5536\n",
      "Iteration No: 7 started. Evaluating function at random point.\n",
      "Iteration No: 7 ended. Evaluation done at random point.\n",
      "Time taken: 0.0055\n",
      "Function value obtained: 9.6504\n",
      "Current minimum: 9.5536\n",
      "Iteration No: 8 started. Evaluating function at random point.\n",
      "Iteration No: 8 ended. Evaluation done at random point.\n",
      "Time taken: 0.0054\n",
      "Function value obtained: 9.6221\n",
      "Current minimum: 9.5536\n",
      "Iteration No: 9 started. Evaluating function at random point.\n",
      "Iteration No: 9 ended. Evaluation done at random point.\n",
      "Time taken: 0.0052\n",
      "Function value obtained: 9.6113\n",
      "Current minimum: 9.5536\n",
      "Iteration No: 10 started. Evaluating function at random point.\n",
      "Iteration No: 10 ended. Evaluation done at random point.\n",
      "Time taken: 0.4102\n",
      "Function value obtained: 9.7287\n",
      "Current minimum: 9.5536\n",
      "Iteration No: 11 started. Searching for the next optimal point.\n",
      "Iteration No: 11 ended. Search finished for the next optimal point.\n",
      "Time taken: 0.4918\n",
      "Function value obtained: 9.5536\n",
      "Current minimum: 9.5536\n",
      "Iteration No: 12 started. Searching for the next optimal point.\n",
      "Iteration No: 12 ended. Search finished for the next optimal point.\n",
      "Time taken: 0.5800\n",
      "Function value obtained: 9.5802\n",
      "Current minimum: 9.5536\n",
      "Iteration No: 13 started. Searching for the next optimal point.\n",
      "Iteration No: 13 ended. Search finished for the next optimal point.\n",
      "Time taken: 0.4699\n",
      "Function value obtained: 9.5616\n",
      "Current minimum: 9.5536\n",
      "Iteration No: 14 started. Searching for the next optimal point.\n",
      "Iteration No: 14 ended. Search finished for the next optimal point.\n",
      "Time taken: 0.4536\n",
      "Function value obtained: 9.5690\n",
      "Current minimum: 9.5536\n",
      "Iteration No: 15 started. Searching for the next optimal point.\n",
      "Iteration No: 15 ended. Search finished for the next optimal point.\n",
      "Time taken: 0.4639\n",
      "Function value obtained: 9.5879\n",
      "Current minimum: 9.5536\n",
      "Iteration No: 16 started. Searching for the next optimal point.\n",
      "Iteration No: 16 ended. Search finished for the next optimal point.\n",
      "Time taken: 0.5746\n",
      "Function value obtained: 9.7163\n",
      "Current minimum: 9.5536\n",
      "Iteration No: 17 started. Searching for the next optimal point.\n",
      "Iteration No: 17 ended. Search finished for the next optimal point.\n",
      "Time taken: 0.7078\n",
      "Function value obtained: 9.7032\n",
      "Current minimum: 9.5536\n",
      "Iteration No: 18 started. Searching for the next optimal point.\n",
      "Iteration No: 18 ended. Search finished for the next optimal point.\n",
      "Time taken: 0.6527\n",
      "Function value obtained: 9.6519\n",
      "Current minimum: 9.5536\n",
      "Iteration No: 19 started. Searching for the next optimal point.\n",
      "Iteration No: 19 ended. Search finished for the next optimal point.\n",
      "Time taken: 0.6789\n",
      "Function value obtained: 9.6457\n",
      "Current minimum: 9.5536\n",
      "Iteration No: 20 started. Searching for the next optimal point.\n",
      "Iteration No: 20 ended. Search finished for the next optimal point.\n",
      "Time taken: 0.6763\n",
      "Function value obtained: 9.6441\n",
      "Current minimum: 9.5536\n",
      "Iteration No: 21 started. Searching for the next optimal point.\n",
      "Iteration No: 21 ended. Search finished for the next optimal point.\n",
      "Time taken: 0.6906\n",
      "Function value obtained: 9.6657\n",
      "Current minimum: 9.5536\n",
      "Iteration No: 22 started. Searching for the next optimal point.\n",
      "Iteration No: 22 ended. Search finished for the next optimal point.\n",
      "Time taken: 0.8534\n",
      "Function value obtained: 9.6827\n",
      "Current minimum: 9.5536\n",
      "Iteration No: 23 started. Searching for the next optimal point.\n",
      "Iteration No: 23 ended. Search finished for the next optimal point.\n",
      "Time taken: 0.7655\n",
      "Function value obtained: 9.6215\n",
      "Current minimum: 9.5536\n",
      "Iteration No: 24 started. Searching for the next optimal point.\n",
      "Iteration No: 24 ended. Search finished for the next optimal point.\n",
      "Time taken: 0.7068\n",
      "Function value obtained: 9.5690\n",
      "Current minimum: 9.5536\n",
      "Iteration No: 25 started. Searching for the next optimal point.\n",
      "Iteration No: 25 ended. Search finished for the next optimal point.\n",
      "Time taken: 0.6816\n",
      "Function value obtained: 9.5641\n",
      "Current minimum: 9.5536\n",
      "Iteration No: 26 started. Searching for the next optimal point.\n",
      "Iteration No: 26 ended. Search finished for the next optimal point.\n",
      "Time taken: 0.8098\n",
      "Function value obtained: 9.5641\n",
      "Current minimum: 9.5536\n",
      "Iteration No: 27 started. Searching for the next optimal point.\n",
      "Iteration No: 27 ended. Search finished for the next optimal point.\n",
      "Time taken: 0.6102\n",
      "Function value obtained: 9.5706\n",
      "Current minimum: 9.5536\n",
      "Iteration No: 28 started. Searching for the next optimal point.\n",
      "Iteration No: 28 ended. Search finished for the next optimal point.\n",
      "Time taken: 0.6881\n",
      "Function value obtained: 9.6354\n",
      "Current minimum: 9.5536\n",
      "Iteration No: 29 started. Searching for the next optimal point.\n",
      "Iteration No: 29 ended. Search finished for the next optimal point.\n",
      "Time taken: 0.5660\n",
      "Function value obtained: 9.5984\n",
      "Current minimum: 9.5536\n",
      "Iteration No: 30 started. Searching for the next optimal point.\n",
      "Iteration No: 30 ended. Search finished for the next optimal point.\n",
      "Time taken: 0.5816\n",
      "Function value obtained: 9.5928\n",
      "Current minimum: 9.5536\n",
      "minimisation iteration 5\n",
      "Iteration No: 1 started. Evaluating function at random point.\n",
      "Iteration No: 1 ended. Evaluation done at random point.\n",
      "Time taken: 0.0060\n",
      "Function value obtained: 9.6441\n",
      "Current minimum: 9.6441\n",
      "Iteration No: 2 started. Evaluating function at random point.\n",
      "Iteration No: 2 ended. Evaluation done at random point.\n",
      "Time taken: 0.0057\n",
      "Function value obtained: 9.6832\n",
      "Current minimum: 9.6441\n",
      "Iteration No: 3 started. Evaluating function at random point.\n",
      "Iteration No: 3 ended. Evaluation done at random point.\n",
      "Time taken: 0.0063\n",
      "Function value obtained: 9.6221\n",
      "Current minimum: 9.6221\n",
      "Iteration No: 4 started. Evaluating function at random point.\n",
      "Iteration No: 4 ended. Evaluation done at random point.\n",
      "Time taken: 0.0066\n",
      "Function value obtained: 9.7264\n",
      "Current minimum: 9.6221\n",
      "Iteration No: 5 started. Evaluating function at random point.\n",
      "Iteration No: 5 ended. Evaluation done at random point.\n",
      "Time taken: 0.0057\n",
      "Function value obtained: 9.6519\n",
      "Current minimum: 9.6221\n",
      "Iteration No: 6 started. Evaluating function at random point.\n",
      "Iteration No: 6 ended. Evaluation done at random point.\n",
      "Time taken: 0.0065\n",
      "Function value obtained: 9.6385\n",
      "Current minimum: 9.6221\n",
      "Iteration No: 7 started. Evaluating function at random point.\n",
      "Iteration No: 7 ended. Evaluation done at random point.\n",
      "Time taken: 0.0040\n",
      "Function value obtained: 9.6441\n",
      "Current minimum: 9.6221\n",
      "Iteration No: 8 started. Evaluating function at random point.\n",
      "Iteration No: 8 ended. Evaluation done at random point.\n",
      "Time taken: 0.0050\n",
      "Function value obtained: 9.7284\n",
      "Current minimum: 9.6221\n",
      "Iteration No: 9 started. Evaluating function at random point.\n",
      "Iteration No: 9 ended. Evaluation done at random point.\n",
      "Time taken: 0.0052\n",
      "Function value obtained: 9.5690\n",
      "Current minimum: 9.5690\n",
      "Iteration No: 10 started. Evaluating function at random point.\n"
     ]
    },
    {
     "name": "stdout",
     "output_type": "stream",
     "text": [
      "Iteration No: 10 ended. Evaluation done at random point.\n",
      "Time taken: 0.3605\n",
      "Function value obtained: 9.6519\n",
      "Current minimum: 9.5690\n",
      "Iteration No: 11 started. Searching for the next optimal point.\n",
      "Iteration No: 11 ended. Search finished for the next optimal point.\n",
      "Time taken: 0.3163\n",
      "Function value obtained: 9.6215\n",
      "Current minimum: 9.5690\n",
      "Iteration No: 12 started. Searching for the next optimal point.\n",
      "Iteration No: 12 ended. Search finished for the next optimal point.\n",
      "Time taken: 0.3705\n",
      "Function value obtained: 9.7163\n",
      "Current minimum: 9.5690\n",
      "Iteration No: 13 started. Searching for the next optimal point.\n",
      "Iteration No: 13 ended. Search finished for the next optimal point.\n",
      "Time taken: 0.5496\n",
      "Function value obtained: 10.0896\n",
      "Current minimum: 9.5690\n",
      "Iteration No: 14 started. Searching for the next optimal point.\n",
      "Iteration No: 14 ended. Search finished for the next optimal point.\n",
      "Time taken: 0.5311\n",
      "Function value obtained: 9.5621\n",
      "Current minimum: 9.5621\n",
      "Iteration No: 15 started. Searching for the next optimal point.\n",
      "Iteration No: 15 ended. Search finished for the next optimal point.\n",
      "Time taken: 0.5159\n",
      "Function value obtained: 9.5984\n",
      "Current minimum: 9.5621\n",
      "Iteration No: 16 started. Searching for the next optimal point.\n",
      "Iteration No: 16 ended. Search finished for the next optimal point.\n",
      "Time taken: 0.5155\n",
      "Function value obtained: 9.5616\n",
      "Current minimum: 9.5616\n",
      "Iteration No: 17 started. Searching for the next optimal point.\n",
      "Iteration No: 17 ended. Search finished for the next optimal point.\n",
      "Time taken: 0.5613\n",
      "Function value obtained: 9.5616\n",
      "Current minimum: 9.5616\n",
      "Iteration No: 18 started. Searching for the next optimal point.\n",
      "Iteration No: 18 ended. Search finished for the next optimal point.\n",
      "Time taken: 0.5697\n",
      "Function value obtained: 9.5616\n",
      "Current minimum: 9.5616\n",
      "Iteration No: 19 started. Searching for the next optimal point.\n",
      "Iteration No: 19 ended. Search finished for the next optimal point.\n",
      "Time taken: 0.4017\n",
      "Function value obtained: 9.5536\n",
      "Current minimum: 9.5536\n",
      "Iteration No: 20 started. Searching for the next optimal point.\n",
      "Iteration No: 20 ended. Search finished for the next optimal point.\n",
      "Time taken: 0.4810\n",
      "Function value obtained: 9.6113\n",
      "Current minimum: 9.5536\n",
      "Iteration No: 21 started. Searching for the next optimal point.\n",
      "Iteration No: 21 ended. Search finished for the next optimal point.\n",
      "Time taken: 0.3978\n",
      "Function value obtained: 9.5802\n",
      "Current minimum: 9.5536\n",
      "Iteration No: 22 started. Searching for the next optimal point.\n",
      "Iteration No: 22 ended. Search finished for the next optimal point.\n",
      "Time taken: 0.4860\n",
      "Function value obtained: 9.5984\n",
      "Current minimum: 9.5536\n",
      "Iteration No: 23 started. Searching for the next optimal point.\n",
      "Iteration No: 23 ended. Search finished for the next optimal point.\n",
      "Time taken: 0.5246\n",
      "Function value obtained: 9.5706\n",
      "Current minimum: 9.5536\n",
      "Iteration No: 24 started. Searching for the next optimal point.\n",
      "Iteration No: 24 ended. Search finished for the next optimal point.\n",
      "Time taken: 0.4425\n",
      "Function value obtained: 9.5536\n",
      "Current minimum: 9.5536\n",
      "Iteration No: 25 started. Searching for the next optimal point.\n",
      "Iteration No: 25 ended. Search finished for the next optimal point.\n",
      "Time taken: 0.4529\n",
      "Function value obtained: 9.5690\n",
      "Current minimum: 9.5536\n",
      "Iteration No: 26 started. Searching for the next optimal point.\n",
      "Iteration No: 26 ended. Search finished for the next optimal point.\n",
      "Time taken: 0.4857\n",
      "Function value obtained: 9.6457\n",
      "Current minimum: 9.5536\n",
      "Iteration No: 27 started. Searching for the next optimal point.\n",
      "Iteration No: 27 ended. Search finished for the next optimal point.\n",
      "Time taken: 0.4867\n",
      "Function value obtained: 9.6113\n",
      "Current minimum: 9.5536\n",
      "Iteration No: 28 started. Searching for the next optimal point.\n",
      "Iteration No: 28 ended. Search finished for the next optimal point.\n",
      "Time taken: 0.4818\n",
      "Function value obtained: 9.5899\n",
      "Current minimum: 9.5536\n",
      "Iteration No: 29 started. Searching for the next optimal point.\n",
      "Iteration No: 29 ended. Search finished for the next optimal point.\n",
      "Time taken: 0.5956\n",
      "Function value obtained: 9.5621\n",
      "Current minimum: 9.5536\n",
      "Iteration No: 30 started. Searching for the next optimal point.\n",
      "Iteration No: 30 ended. Search finished for the next optimal point.\n",
      "Time taken: 0.5111\n",
      "Function value obtained: 9.5706\n",
      "Current minimum: 9.5536\n"
     ]
    }
   ],
   "source": [
    "stark_res_gp_arr = []\n",
    "for i in range(1, 6):\n",
    "    print('minimisation iteration', i)\n",
    "    stark_res_gp = gp_minimize(stark_objective, stark_space, n_calls=30, verbose=2)\n",
    "    stark_res_gp_arr.append(stark_res_gp)"
   ]
  },
  {
   "cell_type": "code",
   "execution_count": 86,
   "metadata": {
    "ExecuteTime": {
     "end_time": "2019-07-14T08:51:54.949325Z",
     "start_time": "2019-07-14T08:51:54.936103Z"
    },
    "hidden": true
   },
   "outputs": [
    {
     "name": "stdout",
     "output_type": "stream",
     "text": [
      "9.553582115135343\n",
      "9.553582115135343\n",
      "9.553582115135343\n",
      "9.553582115135343\n",
      "9.553582115135343\n",
      "\n",
      "\n",
      "[0.02758972847250904]\n",
      "[0.02776540372720525]\n",
      "[0.027452157878565198]\n",
      "[0.02775740029288641]\n",
      "[0.02751394576785486]\n"
     ]
    }
   ],
   "source": [
    "for i in stark_res_gp_arr:\n",
    "    print(i.fun)\n",
    "print('\\n')\n",
    "for i in stark_res_gp_arr:\n",
    "    print(i.x)"
   ]
  },
  {
   "cell_type": "markdown",
   "metadata": {
    "hidden": true
   },
   "source": [
    "### Grid search"
   ]
  },
  {
   "cell_type": "markdown",
   "metadata": {
    "hidden": true
   },
   "source": [
    "#### Decision tree (lush)"
   ]
  },
  {
   "cell_type": "code",
   "execution_count": 208,
   "metadata": {
    "ExecuteTime": {
     "end_time": "2019-07-14T09:42:55.046615Z",
     "start_time": "2019-07-14T09:42:55.040163Z"
    },
    "hidden": true
   },
   "outputs": [],
   "source": [
    "min_samples_leaf_lush = [0.064, 0.065, 0.066]\n",
    "max_features_lush = [0.44, 0.45, 0.46]\n",
    "\n",
    "parameters_lush = {\n",
    "    'min_samples_leaf': min_samples_leaf_lush,\n",
    "    'max_features': max_features_lush\n",
    "}"
   ]
  },
  {
   "cell_type": "code",
   "execution_count": 209,
   "metadata": {
    "ExecuteTime": {
     "end_time": "2019-07-14T09:42:55.812800Z",
     "start_time": "2019-07-14T09:42:55.471696Z"
    },
    "hidden": true
   },
   "outputs": [
    {
     "name": "stdout",
     "output_type": "stream",
     "text": [
      "Fitting 1 folds for each of 9 candidates, totalling 9 fits\n",
      "[CV] max_features=0.44, min_samples_leaf=0.064 .......................\n",
      "[CV] ........ max_features=0.44, min_samples_leaf=0.064, total=   0.0s\n",
      "[CV] max_features=0.44, min_samples_leaf=0.065 .......................\n",
      "[CV] ........ max_features=0.44, min_samples_leaf=0.065, total=   0.0s\n",
      "[CV] max_features=0.44, min_samples_leaf=0.066 .......................\n",
      "[CV] ........ max_features=0.44, min_samples_leaf=0.066, total=   0.0s\n",
      "[CV] max_features=0.45, min_samples_leaf=0.064 .......................\n",
      "[CV] ........ max_features=0.45, min_samples_leaf=0.064, total=   0.0s\n",
      "[CV] max_features=0.45, min_samples_leaf=0.065 .......................\n",
      "[CV] ........ max_features=0.45, min_samples_leaf=0.065, total=   0.0s\n",
      "[CV] max_features=0.45, min_samples_leaf=0.066 .......................\n"
     ]
    },
    {
     "name": "stderr",
     "output_type": "stream",
     "text": [
      "[Parallel(n_jobs=1)]: Using backend SequentialBackend with 1 concurrent workers.\n",
      "[Parallel(n_jobs=1)]: Done   1 out of   1 | elapsed:    0.0s remaining:    0.0s\n"
     ]
    },
    {
     "name": "stdout",
     "output_type": "stream",
     "text": [
      "[CV] ........ max_features=0.45, min_samples_leaf=0.066, total=   0.0s\n",
      "[CV] max_features=0.46, min_samples_leaf=0.064 .......................\n",
      "[CV] ........ max_features=0.46, min_samples_leaf=0.064, total=   0.0s\n",
      "[CV] max_features=0.46, min_samples_leaf=0.065 .......................\n",
      "[CV] ........ max_features=0.46, min_samples_leaf=0.065, total=   0.0s\n",
      "[CV] max_features=0.46, min_samples_leaf=0.066 .......................\n",
      "[CV] ........ max_features=0.46, min_samples_leaf=0.066, total=   0.0s\n"
     ]
    },
    {
     "name": "stderr",
     "output_type": "stream",
     "text": [
      "[Parallel(n_jobs=1)]: Done   9 out of   9 | elapsed:    0.3s finished\n"
     ]
    },
    {
     "data": {
      "text/plain": [
       "GridSearchCV(cv=PredefinedSplit(test_fold=array([-1, -1, ...,  0,  0])),\n",
       "             error_score=100,\n",
       "             estimator=DecisionTreeRegressor(criterion='mse', max_depth=None,\n",
       "                                             max_features=None,\n",
       "                                             max_leaf_nodes=None,\n",
       "                                             min_impurity_decrease=0.0,\n",
       "                                             min_impurity_split=None,\n",
       "                                             min_samples_leaf=1,\n",
       "                                             min_samples_split=2,\n",
       "                                             min_weight_fraction_leaf=0.0,\n",
       "                                             presort=False, random_state=0,\n",
       "                                             splitter='best'),\n",
       "             iid='warn', n_jobs=1,\n",
       "             param_grid={'max_features': [0.44, 0.45, 0.46],\n",
       "                         'min_samples_leaf': [0.064, 0.065, 0.066]},\n",
       "             pre_dispatch='2*n_jobs', refit=False, return_train_score=False,\n",
       "             scoring=['neg_mean_absolute_error', 'neg_mean_squared_error'],\n",
       "             verbose=2)"
      ]
     },
     "execution_count": 209,
     "metadata": {},
     "output_type": "execute_result"
    }
   ],
   "source": [
    "gs_model_lush = GridSearchCV(\n",
    "    DecisionTreeRegressor(random_state=0),\n",
    "    parameters_lush,\n",
    "    scoring=['neg_mean_absolute_error', 'neg_mean_squared_error'],\n",
    "    refit=False,\n",
    "    cv=ps,\n",
    "    error_score=100, n_jobs=1, verbose=2)\n",
    "gs_model_lush.fit(lush_X_sel, y.ravel())"
   ]
  },
  {
   "cell_type": "code",
   "execution_count": 210,
   "metadata": {
    "ExecuteTime": {
     "end_time": "2019-07-14T09:42:55.941616Z",
     "start_time": "2019-07-14T09:42:55.919416Z"
    },
    "hidden": true
   },
   "outputs": [
    {
     "data": {
      "text/html": [
       "<div>\n",
       "<style scoped>\n",
       "    .dataframe tbody tr th:only-of-type {\n",
       "        vertical-align: middle;\n",
       "    }\n",
       "\n",
       "    .dataframe tbody tr th {\n",
       "        vertical-align: top;\n",
       "    }\n",
       "\n",
       "    .dataframe thead th {\n",
       "        text-align: right;\n",
       "    }\n",
       "</style>\n",
       "<table border=\"1\" class=\"dataframe\">\n",
       "  <thead>\n",
       "    <tr style=\"text-align: right;\">\n",
       "      <th></th>\n",
       "      <th>param_min_samples_leaf</th>\n",
       "      <th>param_max_features</th>\n",
       "      <th>split0_test_neg_mean_absolute_error</th>\n",
       "      <th>split0_test_neg_mean_squared_error</th>\n",
       "    </tr>\n",
       "  </thead>\n",
       "  <tbody>\n",
       "    <tr>\n",
       "      <th>0</th>\n",
       "      <td>0.064</td>\n",
       "      <td>0.44</td>\n",
       "      <td>-2.262601</td>\n",
       "      <td>-9.934812</td>\n",
       "    </tr>\n",
       "    <tr>\n",
       "      <th>1</th>\n",
       "      <td>0.065</td>\n",
       "      <td>0.44</td>\n",
       "      <td>-2.235896</td>\n",
       "      <td>-9.812995</td>\n",
       "    </tr>\n",
       "    <tr>\n",
       "      <th>2</th>\n",
       "      <td>0.066</td>\n",
       "      <td>0.44</td>\n",
       "      <td>-2.264309</td>\n",
       "      <td>-9.928947</td>\n",
       "    </tr>\n",
       "    <tr>\n",
       "      <th>3</th>\n",
       "      <td>0.064</td>\n",
       "      <td>0.45</td>\n",
       "      <td>-2.181027</td>\n",
       "      <td>-9.554404</td>\n",
       "    </tr>\n",
       "    <tr>\n",
       "      <th>4</th>\n",
       "      <td>0.065</td>\n",
       "      <td>0.45</td>\n",
       "      <td>-2.181027</td>\n",
       "      <td>-9.554404</td>\n",
       "    </tr>\n",
       "    <tr>\n",
       "      <th>5</th>\n",
       "      <td>0.066</td>\n",
       "      <td>0.45</td>\n",
       "      <td>-2.181027</td>\n",
       "      <td>-9.554404</td>\n",
       "    </tr>\n",
       "    <tr>\n",
       "      <th>6</th>\n",
       "      <td>0.064</td>\n",
       "      <td>0.46</td>\n",
       "      <td>-2.184141</td>\n",
       "      <td>-9.612168</td>\n",
       "    </tr>\n",
       "    <tr>\n",
       "      <th>7</th>\n",
       "      <td>0.065</td>\n",
       "      <td>0.46</td>\n",
       "      <td>-2.184141</td>\n",
       "      <td>-9.612168</td>\n",
       "    </tr>\n",
       "    <tr>\n",
       "      <th>8</th>\n",
       "      <td>0.066</td>\n",
       "      <td>0.46</td>\n",
       "      <td>-2.184141</td>\n",
       "      <td>-9.612168</td>\n",
       "    </tr>\n",
       "  </tbody>\n",
       "</table>\n",
       "</div>"
      ],
      "text/plain": [
       "  param_min_samples_leaf param_max_features  \\\n",
       "0                  0.064               0.44   \n",
       "1                  0.065               0.44   \n",
       "2                  0.066               0.44   \n",
       "3                  0.064               0.45   \n",
       "4                  0.065               0.45   \n",
       "5                  0.066               0.45   \n",
       "6                  0.064               0.46   \n",
       "7                  0.065               0.46   \n",
       "8                  0.066               0.46   \n",
       "\n",
       "   split0_test_neg_mean_absolute_error  split0_test_neg_mean_squared_error  \n",
       "0                            -2.262601                           -9.934812  \n",
       "1                            -2.235896                           -9.812995  \n",
       "2                            -2.264309                           -9.928947  \n",
       "3                            -2.181027                           -9.554404  \n",
       "4                            -2.181027                           -9.554404  \n",
       "5                            -2.181027                           -9.554404  \n",
       "6                            -2.184141                           -9.612168  \n",
       "7                            -2.184141                           -9.612168  \n",
       "8                            -2.184141                           -9.612168  "
      ]
     },
     "execution_count": 210,
     "metadata": {},
     "output_type": "execute_result"
    }
   ],
   "source": [
    "gs_model_df_lush = pd.DataFrame(gs_model_lush.cv_results_)[[\n",
    "    'param_min_samples_leaf', 'param_max_features',\n",
    "    'split0_test_neg_mean_absolute_error',\n",
    "    'split0_test_neg_mean_squared_error'\n",
    "]]\n",
    "\n",
    "gs_model_df_lush"
   ]
  },
  {
   "cell_type": "code",
   "execution_count": 211,
   "metadata": {
    "ExecuteTime": {
     "end_time": "2019-07-14T09:42:56.595149Z",
     "start_time": "2019-07-14T09:42:56.573666Z"
    },
    "hidden": true
   },
   "outputs": [
    {
     "data": {
      "text/html": [
       "<div>\n",
       "<style scoped>\n",
       "    .dataframe tbody tr th:only-of-type {\n",
       "        vertical-align: middle;\n",
       "    }\n",
       "\n",
       "    .dataframe tbody tr th {\n",
       "        vertical-align: top;\n",
       "    }\n",
       "\n",
       "    .dataframe thead th {\n",
       "        text-align: right;\n",
       "    }\n",
       "</style>\n",
       "<table border=\"1\" class=\"dataframe\">\n",
       "  <thead>\n",
       "    <tr style=\"text-align: right;\">\n",
       "      <th></th>\n",
       "      <th>param_min_samples_leaf</th>\n",
       "      <th>param_max_features</th>\n",
       "      <th>split0_test_neg_mean_absolute_error</th>\n",
       "      <th>split0_test_neg_mean_squared_error</th>\n",
       "    </tr>\n",
       "  </thead>\n",
       "  <tbody>\n",
       "    <tr>\n",
       "      <th>3</th>\n",
       "      <td>0.064</td>\n",
       "      <td>0.45</td>\n",
       "      <td>-2.181027</td>\n",
       "      <td>-9.554404</td>\n",
       "    </tr>\n",
       "    <tr>\n",
       "      <th>4</th>\n",
       "      <td>0.065</td>\n",
       "      <td>0.45</td>\n",
       "      <td>-2.181027</td>\n",
       "      <td>-9.554404</td>\n",
       "    </tr>\n",
       "    <tr>\n",
       "      <th>5</th>\n",
       "      <td>0.066</td>\n",
       "      <td>0.45</td>\n",
       "      <td>-2.181027</td>\n",
       "      <td>-9.554404</td>\n",
       "    </tr>\n",
       "  </tbody>\n",
       "</table>\n",
       "</div>"
      ],
      "text/plain": [
       "  param_min_samples_leaf param_max_features  \\\n",
       "3                  0.064               0.45   \n",
       "4                  0.065               0.45   \n",
       "5                  0.066               0.45   \n",
       "\n",
       "   split0_test_neg_mean_absolute_error  split0_test_neg_mean_squared_error  \n",
       "3                            -2.181027                           -9.554404  \n",
       "4                            -2.181027                           -9.554404  \n",
       "5                            -2.181027                           -9.554404  "
      ]
     },
     "execution_count": 211,
     "metadata": {},
     "output_type": "execute_result"
    }
   ],
   "source": [
    "gs_model_df_lush[\n",
    "    gs_model_df_lush['split0_test_neg_mean_squared_error'] == \\\n",
    "    gs_model_df_lush['split0_test_neg_mean_squared_error'].max()]"
   ]
  },
  {
   "cell_type": "markdown",
   "metadata": {
    "heading_collapsed": true,
    "hidden": true
   },
   "source": [
    "#### Decision tree (stark)"
   ]
  },
  {
   "cell_type": "code",
   "execution_count": 104,
   "metadata": {
    "ExecuteTime": {
     "end_time": "2019-07-14T08:56:59.828480Z",
     "start_time": "2019-07-14T08:56:59.822212Z"
    },
    "hidden": true
   },
   "outputs": [],
   "source": [
    "min_samples_leaf_stark = [0.026, 0.027, 0.028]\n",
    "\n",
    "parameters_stark = {\n",
    "    'min_samples_leaf': min_samples_leaf_stark\n",
    "}"
   ]
  },
  {
   "cell_type": "code",
   "execution_count": 105,
   "metadata": {
    "ExecuteTime": {
     "end_time": "2019-07-14T08:57:00.325153Z",
     "start_time": "2019-07-14T08:57:00.273370Z"
    },
    "hidden": true
   },
   "outputs": [
    {
     "name": "stdout",
     "output_type": "stream",
     "text": [
      "Fitting 1 folds for each of 3 candidates, totalling 3 fits\n",
      "[CV] min_samples_leaf=0.026 ..........................................\n",
      "[CV] ........................... min_samples_leaf=0.026, total=   0.0s\n",
      "[CV] min_samples_leaf=0.027 ..........................................\n",
      "[CV] ........................... min_samples_leaf=0.027, total=   0.0s\n",
      "[CV] min_samples_leaf=0.028 ..........................................\n",
      "[CV] ........................... min_samples_leaf=0.028, total=   0.0s\n"
     ]
    },
    {
     "name": "stderr",
     "output_type": "stream",
     "text": [
      "[Parallel(n_jobs=1)]: Using backend SequentialBackend with 1 concurrent workers.\n",
      "[Parallel(n_jobs=1)]: Done   1 out of   1 | elapsed:    0.0s remaining:    0.0s\n",
      "[Parallel(n_jobs=1)]: Done   3 out of   3 | elapsed:    0.0s finished\n"
     ]
    },
    {
     "data": {
      "text/plain": [
       "GridSearchCV(cv=PredefinedSplit(test_fold=array([-1, -1, ...,  0,  0])),\n",
       "             error_score=100,\n",
       "             estimator=DecisionTreeRegressor(criterion='mse', max_depth=None,\n",
       "                                             max_features=None,\n",
       "                                             max_leaf_nodes=None,\n",
       "                                             min_impurity_decrease=0.0,\n",
       "                                             min_impurity_split=None,\n",
       "                                             min_samples_leaf=1,\n",
       "                                             min_samples_split=2,\n",
       "                                             min_weight_fraction_leaf=0.0,\n",
       "                                             presort=False, random_state=None,\n",
       "                                             splitter='best'),\n",
       "             iid='warn', n_jobs=1,\n",
       "             param_grid={'min_samples_leaf': [0.026, 0.027, 0.028]},\n",
       "             pre_dispatch='2*n_jobs', refit=False, return_train_score=False,\n",
       "             scoring=['neg_mean_absolute_error', 'neg_mean_squared_error'],\n",
       "             verbose=2)"
      ]
     },
     "execution_count": 105,
     "metadata": {},
     "output_type": "execute_result"
    }
   ],
   "source": [
    "gs_model_stark = GridSearchCV(\n",
    "    DecisionTreeRegressor(),\n",
    "    parameters_stark,\n",
    "    scoring=['neg_mean_absolute_error', 'neg_mean_squared_error'],\n",
    "    refit=False,\n",
    "    cv=ps,\n",
    "    error_score=100, n_jobs=1, verbose=2)\n",
    "gs_model_stark.fit(stark_X_sel, y.ravel())"
   ]
  },
  {
   "cell_type": "code",
   "execution_count": 106,
   "metadata": {
    "ExecuteTime": {
     "end_time": "2019-07-14T08:57:00.825466Z",
     "start_time": "2019-07-14T08:57:00.801920Z"
    },
    "hidden": true
   },
   "outputs": [
    {
     "data": {
      "text/html": [
       "<div>\n",
       "<style scoped>\n",
       "    .dataframe tbody tr th:only-of-type {\n",
       "        vertical-align: middle;\n",
       "    }\n",
       "\n",
       "    .dataframe tbody tr th {\n",
       "        vertical-align: top;\n",
       "    }\n",
       "\n",
       "    .dataframe thead th {\n",
       "        text-align: right;\n",
       "    }\n",
       "</style>\n",
       "<table border=\"1\" class=\"dataframe\">\n",
       "  <thead>\n",
       "    <tr style=\"text-align: right;\">\n",
       "      <th></th>\n",
       "      <th>param_min_samples_leaf</th>\n",
       "      <th>split0_test_neg_mean_absolute_error</th>\n",
       "      <th>split0_test_neg_mean_squared_error</th>\n",
       "    </tr>\n",
       "  </thead>\n",
       "  <tbody>\n",
       "    <tr>\n",
       "      <th>0</th>\n",
       "      <td>0.026</td>\n",
       "      <td>-2.223950</td>\n",
       "      <td>-9.580231</td>\n",
       "    </tr>\n",
       "    <tr>\n",
       "      <th>1</th>\n",
       "      <td>0.027</td>\n",
       "      <td>-2.221858</td>\n",
       "      <td>-9.568991</td>\n",
       "    </tr>\n",
       "    <tr>\n",
       "      <th>2</th>\n",
       "      <td>0.028</td>\n",
       "      <td>-2.226590</td>\n",
       "      <td>-9.611255</td>\n",
       "    </tr>\n",
       "  </tbody>\n",
       "</table>\n",
       "</div>"
      ],
      "text/plain": [
       "  param_min_samples_leaf  split0_test_neg_mean_absolute_error  \\\n",
       "0                  0.026                            -2.223950   \n",
       "1                  0.027                            -2.221858   \n",
       "2                  0.028                            -2.226590   \n",
       "\n",
       "   split0_test_neg_mean_squared_error  \n",
       "0                           -9.580231  \n",
       "1                           -9.568991  \n",
       "2                           -9.611255  "
      ]
     },
     "execution_count": 106,
     "metadata": {},
     "output_type": "execute_result"
    }
   ],
   "source": [
    "gs_model_df_stark = pd.DataFrame(gs_model_stark.cv_results_)[[\n",
    "    'param_min_samples_leaf',\n",
    "    'split0_test_neg_mean_absolute_error',\n",
    "    'split0_test_neg_mean_squared_error'\n",
    "]]\n",
    "\n",
    "gs_model_df_stark"
   ]
  },
  {
   "cell_type": "code",
   "execution_count": 103,
   "metadata": {
    "ExecuteTime": {
     "end_time": "2019-07-14T08:56:38.866560Z",
     "start_time": "2019-07-14T08:56:38.843489Z"
    },
    "hidden": true
   },
   "outputs": [
    {
     "data": {
      "text/html": [
       "<div>\n",
       "<style scoped>\n",
       "    .dataframe tbody tr th:only-of-type {\n",
       "        vertical-align: middle;\n",
       "    }\n",
       "\n",
       "    .dataframe tbody tr th {\n",
       "        vertical-align: top;\n",
       "    }\n",
       "\n",
       "    .dataframe thead th {\n",
       "        text-align: right;\n",
       "    }\n",
       "</style>\n",
       "<table border=\"1\" class=\"dataframe\">\n",
       "  <thead>\n",
       "    <tr style=\"text-align: right;\">\n",
       "      <th></th>\n",
       "      <th>param_min_samples_leaf</th>\n",
       "      <th>split0_test_neg_mean_absolute_error</th>\n",
       "      <th>split0_test_neg_mean_squared_error</th>\n",
       "    </tr>\n",
       "  </thead>\n",
       "  <tbody>\n",
       "    <tr>\n",
       "      <th>2</th>\n",
       "      <td>0.027</td>\n",
       "      <td>-2.221858</td>\n",
       "      <td>-9.568991</td>\n",
       "    </tr>\n",
       "  </tbody>\n",
       "</table>\n",
       "</div>"
      ],
      "text/plain": [
       "  param_min_samples_leaf  split0_test_neg_mean_absolute_error  \\\n",
       "2                  0.027                            -2.221858   \n",
       "\n",
       "   split0_test_neg_mean_squared_error  \n",
       "2                           -9.568991  "
      ]
     },
     "execution_count": 103,
     "metadata": {},
     "output_type": "execute_result"
    }
   ],
   "source": [
    "gs_model_df_stark[\n",
    "    gs_model_df_stark['split0_test_neg_mean_squared_error'] == \\\n",
    "    gs_model_df_stark['split0_test_neg_mean_squared_error'].max()]"
   ]
  },
  {
   "cell_type": "markdown",
   "metadata": {},
   "source": [
    "# Evaluating model"
   ]
  },
  {
   "cell_type": "markdown",
   "metadata": {
    "heading_collapsed": true
   },
   "source": [
    "## Decision tree (lush)"
   ]
  },
  {
   "cell_type": "code",
   "execution_count": 212,
   "metadata": {
    "ExecuteTime": {
     "end_time": "2019-07-14T09:43:33.738033Z",
     "start_time": "2019-07-14T09:43:33.697624Z"
    },
    "hidden": true
   },
   "outputs": [
    {
     "data": {
      "text/plain": [
       "DecisionTreeRegressor(criterion='mse', max_depth=None, max_features=0.45,\n",
       "                      max_leaf_nodes=None, min_impurity_decrease=0.0,\n",
       "                      min_impurity_split=None, min_samples_leaf=0.065,\n",
       "                      min_samples_split=2, min_weight_fraction_leaf=0.0,\n",
       "                      presort=False, random_state=0, splitter='best')"
      ]
     },
     "execution_count": 212,
     "metadata": {},
     "output_type": "execute_result"
    }
   ],
   "source": [
    "lush_model = DecisionTreeRegressor(random_state=0, min_samples_leaf=0.065, max_features=0.45)\n",
    "lush_model.fit(lush_X_train_sel, y_train.ravel())"
   ]
  },
  {
   "cell_type": "code",
   "execution_count": 213,
   "metadata": {
    "ExecuteTime": {
     "end_time": "2019-07-14T09:43:34.371121Z",
     "start_time": "2019-07-14T09:43:34.354931Z"
    },
    "hidden": true
   },
   "outputs": [
    {
     "data": {
      "text/plain": [
       "(2.1810268776697757, 9.554404344574284, 0.0819094517697988)"
      ]
     },
     "execution_count": 213,
     "metadata": {},
     "output_type": "execute_result"
    }
   ],
   "source": [
    "# get predictions for test set\n",
    "lush_y_pred = lush_model.predict(lush_X_test_sel).flatten()\n",
    "\n",
    "# calculate cross entropy loss for test set\n",
    "lush_test_loss = (\n",
    "    mean_absolute_error(y_test, lush_y_pred),\n",
    "    mean_squared_error(y_test, lush_y_pred),\n",
    "    r2_score(y_test, lush_y_pred)\n",
    ")\n",
    "lush_test_loss"
   ]
  },
  {
   "cell_type": "code",
   "execution_count": 214,
   "metadata": {
    "ExecuteTime": {
     "end_time": "2019-07-14T09:43:34.932407Z",
     "start_time": "2019-07-14T09:43:34.916279Z"
    },
    "hidden": true
   },
   "outputs": [
    {
     "data": {
      "text/plain": [
       "count    948.000000\n",
       "mean       2.695557\n",
       "std        0.943546\n",
       "min        1.276923\n",
       "25%        2.118421\n",
       "50%        2.463415\n",
       "75%        3.171123\n",
       "max        4.800905\n",
       "dtype: float64"
      ]
     },
     "execution_count": 214,
     "metadata": {},
     "output_type": "execute_result"
    }
   ],
   "source": [
    "pd.Series(lush_y_pred).describe()"
   ]
  },
  {
   "cell_type": "code",
   "execution_count": 215,
   "metadata": {
    "ExecuteTime": {
     "end_time": "2019-07-14T09:43:37.404831Z",
     "start_time": "2019-07-14T09:43:37.256352Z"
    },
    "hidden": true
   },
   "outputs": [
    {
     "data": {
      "text/plain": [
       "DecisionTreeRegressor(criterion='mse', max_depth=None, max_features=None,\n",
       "                      max_leaf_nodes=None, min_impurity_decrease=0.0,\n",
       "                      min_impurity_split=None, min_samples_leaf=0.027,\n",
       "                      min_samples_split=2, min_weight_fraction_leaf=0.0,\n",
       "                      presort=False, random_state=0, splitter='best')"
      ]
     },
     "execution_count": 215,
     "metadata": {},
     "output_type": "execute_result"
    }
   ],
   "source": [
    "# refit model on all data\n",
    "lush_model_full = DecisionTreeRegressor(random_state=0, min_samples_leaf=0.027)\n",
    "lush_model_full.fit(lush_X_sel, y.ravel())"
   ]
  },
  {
   "cell_type": "code",
   "execution_count": 216,
   "metadata": {
    "ExecuteTime": {
     "end_time": "2019-07-14T09:43:37.955196Z",
     "start_time": "2019-07-14T09:43:37.942150Z"
    },
    "hidden": true
   },
   "outputs": [
    {
     "data": {
      "text/plain": [
       "(2.057949736688443, 8.132607674416846, 0.1500695908632712)"
      ]
     },
     "execution_count": 216,
     "metadata": {},
     "output_type": "execute_result"
    }
   ],
   "source": [
    "# get predictions for whole set\n",
    "lush_y_pred_full = lush_model_full.predict(lush_X_sel).flatten()\n",
    "\n",
    "# calculate cross entropy loss for test set\n",
    "lush_test_loss_full = (\n",
    "    mean_absolute_error(y, lush_y_pred_full),\n",
    "    mean_squared_error(y, lush_y_pred_full),\n",
    "    r2_score(y, lush_y_pred_full)\n",
    ")\n",
    "lush_test_loss_full"
   ]
  },
  {
   "cell_type": "code",
   "execution_count": 217,
   "metadata": {
    "ExecuteTime": {
     "end_time": "2019-07-14T09:43:38.683554Z",
     "start_time": "2019-07-14T09:43:38.666353Z"
    },
    "hidden": true
   },
   "outputs": [
    {
     "data": {
      "text/plain": [
       "count    3644.000000\n",
       "mean        2.869374\n",
       "std         1.198476\n",
       "min         0.876190\n",
       "25%         2.103659\n",
       "50%         2.652439\n",
       "75%         3.640845\n",
       "max         6.134615\n",
       "dtype: float64"
      ]
     },
     "execution_count": 217,
     "metadata": {},
     "output_type": "execute_result"
    }
   ],
   "source": [
    "pd.Series(lush_y_pred_full).describe()"
   ]
  },
  {
   "cell_type": "code",
   "execution_count": 218,
   "metadata": {
    "ExecuteTime": {
     "end_time": "2019-07-14T09:43:39.367205Z",
     "start_time": "2019-07-14T09:43:39.349676Z"
    },
    "hidden": true
   },
   "outputs": [
    {
     "data": {
      "text/plain": [
       "count    3644.000000\n",
       "mean        2.057950\n",
       "std         1.974467\n",
       "min         0.000000\n",
       "25%         0.666667\n",
       "50%         1.534653\n",
       "75%         2.666667\n",
       "max        14.865385\n",
       "dtype: float64"
      ]
     },
     "execution_count": 218,
     "metadata": {},
     "output_type": "execute_result"
    }
   ],
   "source": [
    "abs(pd.Series(y.ravel()) - pd.Series(lush_y_pred_full)).describe()"
   ]
  },
  {
   "cell_type": "code",
   "execution_count": 219,
   "metadata": {
    "ExecuteTime": {
     "end_time": "2019-07-14T09:43:40.579585Z",
     "start_time": "2019-07-14T09:43:39.914469Z"
    },
    "hidden": true
   },
   "outputs": [
    {
     "data": {
      "image/png": "[encoded data removed]",
      "text/plain": [
       "<Figure size 720x576 with 1 Axes>"
      ]
     },
     "metadata": {
      "needs_background": "light"
     },
     "output_type": "display_data"
    }
   ],
   "source": [
    "plt.figure(figsize=(10, 8))\n",
    "plt.hist(pd.Series(lush_y_pred_full), bins=range(-5,20), alpha=0.75, density=True, label='predicted')\n",
    "plt.hist(pd.Series(y.ravel()), bins=range(-5,20), alpha=0.75, density=True, label='observed')\n",
    "plt.legend()\n",
    "plt.show()"
   ]
  },
  {
   "cell_type": "code",
   "execution_count": 225,
   "metadata": {
    "ExecuteTime": {
     "end_time": "2019-07-14T09:46:34.926013Z",
     "start_time": "2019-07-14T09:46:34.471328Z"
    },
    "hidden": true
   },
   "outputs": [
    {
     "data": {
      "image/png": "[encoded data removed]",
      "text/plain": [
       "<Figure size 720x576 with 1 Axes>"
      ]
     },
     "metadata": {
      "needs_background": "light"
     },
     "output_type": "display_data"
    }
   ],
   "source": [
    "plt.figure(figsize=(10, 8))\n",
    "plt.scatter(pd.Series(y.ravel()), pd.Series(lush_y_pred_full), alpha=0.1)\n",
    "plt.plot(np.linspace(-5, 25), np.linspace(-5, 25))\n",
    "plt.ylabel('Predicted total points')\n",
    "plt.xlabel('Observed total points')\n",
    "plt.ylim((0, 7))\n",
    "plt.show()"
   ]
  },
  {
   "cell_type": "code",
   "execution_count": 257,
   "metadata": {
    "ExecuteTime": {
     "end_time": "2019-07-14T12:09:26.262894Z",
     "start_time": "2019-07-14T12:09:22.299022Z"
    },
    "hidden": true
   },
   "outputs": [
    {
     "data": {
      "image/png": "[encoded data removed]",
      "text/plain": [
       "<Figure size 1800x1800 with 1 Axes>"
      ]
     },
     "metadata": {
      "needs_background": "light"
     },
     "output_type": "display_data"
    }
   ],
   "source": [
    "plt.figure(figsize=(25, 25))\n",
    "plot_tree(\n",
    "    lush_model_full,\n",
    "    impurity=False,\n",
    "    fontsize=12,\n",
    "    rounded=True,\n",
    "    feature_names=lush_X_sel.design_info.column_names)\n",
    "plt.show()"
   ]
  },
  {
   "cell_type": "markdown",
   "metadata": {
    "heading_collapsed": true
   },
   "source": [
    "## Decision tree (stark)"
   ]
  },
  {
   "cell_type": "code",
   "execution_count": 119,
   "metadata": {
    "ExecuteTime": {
     "end_time": "2019-07-14T09:03:11.764966Z",
     "start_time": "2019-07-14T09:03:11.746181Z"
    },
    "hidden": true
   },
   "outputs": [
    {
     "data": {
      "text/plain": [
       "DecisionTreeRegressor(criterion='mse', max_depth=None, max_features=None,\n",
       "                      max_leaf_nodes=None, min_impurity_decrease=0.0,\n",
       "                      min_impurity_split=None, min_samples_leaf=0.027,\n",
       "                      min_samples_split=2, min_weight_fraction_leaf=0.0,\n",
       "                      presort=False, random_state=0, splitter='best')"
      ]
     },
     "execution_count": 119,
     "metadata": {},
     "output_type": "execute_result"
    }
   ],
   "source": [
    "stark_model = DecisionTreeRegressor(random_state=0, min_samples_leaf=0.027)\n",
    "stark_model.fit(stark_X_train_sel, y_train.ravel())"
   ]
  },
  {
   "cell_type": "code",
   "execution_count": 120,
   "metadata": {
    "ExecuteTime": {
     "end_time": "2019-07-14T09:03:12.523435Z",
     "start_time": "2019-07-14T09:03:12.510102Z"
    },
    "hidden": true
   },
   "outputs": [
    {
     "data": {
      "text/plain": [
       "(2.2218580634004352, 9.568990731856482, 0.08050783385478799)"
      ]
     },
     "execution_count": 120,
     "metadata": {},
     "output_type": "execute_result"
    }
   ],
   "source": [
    "# get predictions for test set\n",
    "stark_y_pred = stark_model.predict(stark_X_test_sel).flatten()\n",
    "\n",
    "# calculate cross entropy loss for test set\n",
    "stark_test_loss = (\n",
    "    mean_absolute_error(y_test, stark_y_pred),\n",
    "    mean_squared_error(y_test, stark_y_pred),\n",
    "    r2_score(y_test, stark_y_pred)\n",
    ")\n",
    "stark_test_loss"
   ]
  },
  {
   "cell_type": "code",
   "execution_count": 121,
   "metadata": {
    "ExecuteTime": {
     "end_time": "2019-07-14T09:03:13.848084Z",
     "start_time": "2019-07-14T09:03:13.831026Z"
    },
    "hidden": true
   },
   "outputs": [
    {
     "data": {
      "text/plain": [
       "count    948.000000\n",
       "mean       2.772266\n",
       "std        0.988079\n",
       "min        1.337931\n",
       "25%        2.161905\n",
       "50%        2.496403\n",
       "75%        3.317460\n",
       "max        5.883117\n",
       "dtype: float64"
      ]
     },
     "execution_count": 121,
     "metadata": {},
     "output_type": "execute_result"
    }
   ],
   "source": [
    "pd.Series(stark_y_pred).describe()"
   ]
  },
  {
   "cell_type": "code",
   "execution_count": 122,
   "metadata": {
    "ExecuteTime": {
     "end_time": "2019-07-14T09:03:23.133384Z",
     "start_time": "2019-07-14T09:03:23.116485Z"
    },
    "hidden": true
   },
   "outputs": [
    {
     "data": {
      "text/plain": [
       "DecisionTreeRegressor(criterion='mse', max_depth=None, max_features=None,\n",
       "                      max_leaf_nodes=None, min_impurity_decrease=0.0,\n",
       "                      min_impurity_split=None, min_samples_leaf=0.027,\n",
       "                      min_samples_split=2, min_weight_fraction_leaf=0.0,\n",
       "                      presort=False, random_state=0, splitter='best')"
      ]
     },
     "execution_count": 122,
     "metadata": {},
     "output_type": "execute_result"
    }
   ],
   "source": [
    "# refit model on all data\n",
    "stark_model_full = DecisionTreeRegressor(random_state=0, min_samples_leaf=0.027)\n",
    "stark_model_full.fit(stark_X_sel, y.ravel())"
   ]
  },
  {
   "cell_type": "code",
   "execution_count": 123,
   "metadata": {
    "ExecuteTime": {
     "end_time": "2019-07-14T09:03:38.658903Z",
     "start_time": "2019-07-14T09:03:38.644572Z"
    },
    "hidden": true
   },
   "outputs": [
    {
     "data": {
      "text/plain": [
       "(2.142122107138868, 8.57277375064659, 0.10406828989864769)"
      ]
     },
     "execution_count": 123,
     "metadata": {},
     "output_type": "execute_result"
    }
   ],
   "source": [
    "# get predictions for whole set\n",
    "stark_y_pred_full = stark_model_full.predict(stark_X_sel).flatten()\n",
    "\n",
    "# calculate cross entropy loss for test set\n",
    "stark_test_loss_full = (\n",
    "    mean_absolute_error(y, stark_y_pred_full),\n",
    "    mean_squared_error(y, stark_y_pred_full),\n",
    "    r2_score(y, stark_y_pred_full)\n",
    ")\n",
    "stark_test_loss_full"
   ]
  },
  {
   "cell_type": "code",
   "execution_count": 124,
   "metadata": {
    "ExecuteTime": {
     "end_time": "2019-07-14T09:03:42.096823Z",
     "start_time": "2019-07-14T09:03:42.078114Z"
    },
    "hidden": true
   },
   "outputs": [
    {
     "data": {
      "text/plain": [
       "count    3644.000000\n",
       "mean        2.869374\n",
       "std         0.998026\n",
       "min         1.313131\n",
       "25%         2.205357\n",
       "50%         2.683761\n",
       "75%         3.187135\n",
       "max         6.134615\n",
       "dtype: float64"
      ]
     },
     "execution_count": 124,
     "metadata": {},
     "output_type": "execute_result"
    }
   ],
   "source": [
    "pd.Series(stark_y_pred_full).describe()"
   ]
  },
  {
   "cell_type": "code",
   "execution_count": 125,
   "metadata": {
    "ExecuteTime": {
     "end_time": "2019-07-14T09:03:49.234276Z",
     "start_time": "2019-07-14T09:03:49.213345Z"
    },
    "hidden": true
   },
   "outputs": [
    {
     "data": {
      "text/plain": [
       "count    3644.000000\n",
       "mean        2.142122\n",
       "std         1.996292\n",
       "min         0.016260\n",
       "25%         0.736364\n",
       "50%         1.683761\n",
       "75%         2.852941\n",
       "max        15.137615\n",
       "dtype: float64"
      ]
     },
     "execution_count": 125,
     "metadata": {},
     "output_type": "execute_result"
    }
   ],
   "source": [
    "abs(pd.Series(y.ravel()) - pd.Series(stark_y_pred_full)).describe()"
   ]
  },
  {
   "cell_type": "code",
   "execution_count": 126,
   "metadata": {
    "ExecuteTime": {
     "end_time": "2019-07-14T09:03:55.204130Z",
     "start_time": "2019-07-14T09:03:54.555056Z"
    },
    "hidden": true
   },
   "outputs": [
    {
     "data": {
      "image/png": "[encoded data removed]",
      "text/plain": [
       "<Figure size 720x576 with 1 Axes>"
      ]
     },
     "metadata": {
      "needs_background": "light"
     },
     "output_type": "display_data"
    }
   ],
   "source": [
    "plt.figure(figsize=(10, 8))\n",
    "plt.hist(pd.Series(stark_y_pred_full), bins=range(-5,20), alpha=0.75, density=True, label='predicted')\n",
    "plt.hist(pd.Series(y.ravel()), bins=range(-5,20), alpha=0.75, density=True, label='observed')\n",
    "plt.legend()\n",
    "plt.show()"
   ]
  },
  {
   "cell_type": "code",
   "execution_count": 127,
   "metadata": {
    "ExecuteTime": {
     "end_time": "2019-07-14T09:04:10.169208Z",
     "start_time": "2019-07-14T09:04:09.672746Z"
    },
    "hidden": true
   },
   "outputs": [
    {
     "data": {
      "image/png": "[encoded data removed]",
      "text/plain": [
       "<Figure size 720x576 with 1 Axes>"
      ]
     },
     "metadata": {
      "needs_background": "light"
     },
     "output_type": "display_data"
    }
   ],
   "source": [
    "plt.figure(figsize=(10, 8))\n",
    "plt.scatter(pd.Series(y.ravel()), pd.Series(stark_y_pred_full), alpha=0.1)\n",
    "plt.plot(np.linspace(-5, 25), np.linspace(-5, 25))\n",
    "plt.ylabel('Predicted total points')\n",
    "plt.xlabel('Observed total points')\n",
    "plt.ylim((0, 7))\n",
    "plt.show()"
   ]
  },
  {
   "cell_type": "code",
   "execution_count": 265,
   "metadata": {
    "ExecuteTime": {
     "end_time": "2019-07-14T12:12:21.814569Z",
     "start_time": "2019-07-14T12:12:17.710717Z"
    },
    "hidden": true
   },
   "outputs": [
    {
     "data": {
      "image/png": "[encoded data removed]",
      "text/plain": [
       "<Figure size 1800x1800 with 1 Axes>"
      ]
     },
     "metadata": {
      "needs_background": "light"
     },
     "output_type": "display_data"
    }
   ],
   "source": [
    "plt.figure(figsize=(25, 25))\n",
    "plot_tree(\n",
    "    stark_model_full,\n",
    "    impurity=False,\n",
    "    fontsize=12,\n",
    "    rounded=True,\n",
    "    feature_names=selected_features.values)\n",
    "plt.show()"
   ]
  },
  {
   "cell_type": "markdown",
   "metadata": {},
   "source": [
    "## Summary"
   ]
  },
  {
   "cell_type": "code",
   "execution_count": 221,
   "metadata": {
    "ExecuteTime": {
     "end_time": "2019-07-14T09:44:42.721921Z",
     "start_time": "2019-07-14T09:44:42.694592Z"
    }
   },
   "outputs": [
    {
     "data": {
      "text/html": [
       "<div>\n",
       "<style scoped>\n",
       "    .dataframe tbody tr th:only-of-type {\n",
       "        vertical-align: middle;\n",
       "    }\n",
       "\n",
       "    .dataframe tbody tr th {\n",
       "        vertical-align: top;\n",
       "    }\n",
       "\n",
       "    .dataframe thead th {\n",
       "        text-align: right;\n",
       "    }\n",
       "</style>\n",
       "<table border=\"1\" class=\"dataframe\">\n",
       "  <thead>\n",
       "    <tr style=\"text-align: right;\">\n",
       "      <th></th>\n",
       "      <th>model</th>\n",
       "      <th>MAE</th>\n",
       "      <th>MSE</th>\n",
       "      <th>r2</th>\n",
       "    </tr>\n",
       "  </thead>\n",
       "  <tbody>\n",
       "    <tr>\n",
       "      <th>0</th>\n",
       "      <td>Decision tree (lush)</td>\n",
       "      <td>2.181027</td>\n",
       "      <td>9.554404</td>\n",
       "      <td>0.081909</td>\n",
       "    </tr>\n",
       "    <tr>\n",
       "      <th>1</th>\n",
       "      <td>Decision tree (stark)</td>\n",
       "      <td>2.221858</td>\n",
       "      <td>9.568991</td>\n",
       "      <td>0.080508</td>\n",
       "    </tr>\n",
       "  </tbody>\n",
       "</table>\n",
       "</div>"
      ],
      "text/plain": [
       "                   model       MAE       MSE        r2\n",
       "0   Decision tree (lush)  2.181027  9.554404  0.081909\n",
       "1  Decision tree (stark)  2.221858  9.568991  0.080508"
      ]
     },
     "execution_count": 221,
     "metadata": {},
     "output_type": "execute_result"
    }
   ],
   "source": [
    "pd.DataFrame([\n",
    "    ('Decision tree (lush)', lush_test_loss[0], lush_test_loss[1], lush_test_loss[2]),\n",
    "    ('Decision tree (stark)', stark_test_loss[0], stark_test_loss[1], stark_test_loss[2]),\n",
    "], columns=['model', 'MAE', 'MSE', 'r2'])"
   ]
  },
  {
   "cell_type": "code",
   "execution_count": 223,
   "metadata": {
    "ExecuteTime": {
     "end_time": "2019-07-14T09:45:25.123495Z",
     "start_time": "2019-07-14T09:45:25.098750Z"
    }
   },
   "outputs": [
    {
     "data": {
      "text/html": [
       "<div>\n",
       "<style scoped>\n",
       "    .dataframe tbody tr th:only-of-type {\n",
       "        vertical-align: middle;\n",
       "    }\n",
       "\n",
       "    .dataframe tbody tr th {\n",
       "        vertical-align: top;\n",
       "    }\n",
       "\n",
       "    .dataframe thead th {\n",
       "        text-align: right;\n",
       "    }\n",
       "</style>\n",
       "<table border=\"1\" class=\"dataframe\">\n",
       "  <thead>\n",
       "    <tr style=\"text-align: right;\">\n",
       "      <th></th>\n",
       "      <th>model</th>\n",
       "      <th>MAE</th>\n",
       "      <th>MSE</th>\n",
       "      <th>r2</th>\n",
       "    </tr>\n",
       "  </thead>\n",
       "  <tbody>\n",
       "    <tr>\n",
       "      <th>0</th>\n",
       "      <td>Decision tree (lush)</td>\n",
       "      <td>2.057950</td>\n",
       "      <td>8.132608</td>\n",
       "      <td>0.150070</td>\n",
       "    </tr>\n",
       "    <tr>\n",
       "      <th>1</th>\n",
       "      <td>Decision tree (stark)</td>\n",
       "      <td>2.142122</td>\n",
       "      <td>8.572774</td>\n",
       "      <td>0.104068</td>\n",
       "    </tr>\n",
       "  </tbody>\n",
       "</table>\n",
       "</div>"
      ],
      "text/plain": [
       "                   model       MAE       MSE        r2\n",
       "0   Decision tree (lush)  2.057950  8.132608  0.150070\n",
       "1  Decision tree (stark)  2.142122  8.572774  0.104068"
      ]
     },
     "execution_count": 223,
     "metadata": {},
     "output_type": "execute_result"
    }
   ],
   "source": [
    "pd.DataFrame([\n",
    "    ('Decision tree (lush)', lush_test_loss_full[0], lush_test_loss_full[1], lush_test_loss_full[2]),\n",
    "    ('Decision tree (stark)', stark_test_loss_full[0], stark_test_loss_full[1], stark_test_loss_full[2]),\n",
    "], columns=['model', 'MAE', 'MSE', 'r2'])"
   ]
  }
 ],
 "metadata": {
  "kernelspec": {
   "display_name": "Python 3",
   "language": "python",
   "name": "python3"
  },
  "language_info": {
   "codemirror_mode": {
    "name": "ipython",
    "version": 3
   },
   "file_extension": ".py",
   "mimetype": "text/x-python",
   "name": "python",
   "nbconvert_exporter": "python",
   "pygments_lexer": "ipython3",
   "version": "3.6.7"
  },
  "toc": {
   "nav_menu": {},
   "number_sections": true,
   "sideBar": true,
   "skip_h1_title": false,
   "title_cell": "Table of Contents",
   "title_sidebar": "Contents",
   "toc_cell": false,
   "toc_position": {},
   "toc_section_display": true,
   "toc_window_display": false
  }
 },
 "nbformat": 4,
 "nbformat_minor": 2
}
