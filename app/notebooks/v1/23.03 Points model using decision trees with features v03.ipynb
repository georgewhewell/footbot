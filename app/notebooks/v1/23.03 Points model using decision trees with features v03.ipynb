{
 "cells": [
  {
   "cell_type": "markdown",
   "metadata": {},
   "source": [
    "# Set up"
   ]
  },
  {
   "cell_type": "code",
   "execution_count": 1,
   "metadata": {
    "ExecuteTime": {
     "end_time": "2019-07-11T10:14:41.996273Z",
     "start_time": "2019-07-11T10:14:41.990610Z"
    }
   },
   "outputs": [],
   "source": [
    "# update path with data dir\n",
    "import sys\n",
    "sys.path.append('../../data/')"
   ]
  },
  {
   "cell_type": "code",
   "execution_count": 2,
   "metadata": {
    "ExecuteTime": {
     "end_time": "2019-07-11T10:14:50.563581Z",
     "start_time": "2019-07-11T10:14:50.558749Z"
    }
   },
   "outputs": [],
   "source": [
    "import warnings\n",
    "# warnings.filterwarnings('ignore')"
   ]
  },
  {
   "cell_type": "code",
   "execution_count": 3,
   "metadata": {
    "ExecuteTime": {
     "end_time": "2019-07-11T10:15:32.718160Z",
     "start_time": "2019-07-11T10:15:31.638726Z"
    }
   },
   "outputs": [],
   "source": [
    "import pandas as pd\n",
    "import patsy\n",
    "import numpy as np\n",
    "import itertools\n",
    "from sklearn.tree import DecisionTreeRegressor, plot_tree\n",
    "from sklearn.preprocessing import StandardScaler\n",
    "from sklearn.model_selection import PredefinedSplit, GridSearchCV\n",
    "from sklearn.feature_selection import RFECV\n",
    "from sklearn.metrics import mean_absolute_error, mean_squared_error\n",
    "import matplotlib.pyplot as plt"
   ]
  },
  {
   "cell_type": "markdown",
   "metadata": {},
   "source": [
    "# Getting data"
   ]
  },
  {
   "cell_type": "code",
   "execution_count": 4,
   "metadata": {
    "ExecuteTime": {
     "end_time": "2019-07-11T10:15:37.873808Z",
     "start_time": "2019-07-11T10:15:37.867731Z"
    }
   },
   "outputs": [],
   "source": [
    "file_name = '../csvs/element_gameweek_features_v03.csv'"
   ]
  },
  {
   "cell_type": "code",
   "execution_count": 5,
   "metadata": {
    "ExecuteTime": {
     "end_time": "2019-07-11T10:15:39.097980Z",
     "start_time": "2019-07-11T10:15:38.765281Z"
    }
   },
   "outputs": [],
   "source": [
    "element_gameweek_df = pd.read_csv(file_name)"
   ]
  },
  {
   "cell_type": "code",
   "execution_count": 6,
   "metadata": {
    "ExecuteTime": {
     "end_time": "2019-07-11T10:15:39.276014Z",
     "start_time": "2019-07-11T10:15:39.270456Z"
    }
   },
   "outputs": [],
   "source": [
    "current_event = 20"
   ]
  },
  {
   "cell_type": "code",
   "execution_count": 7,
   "metadata": {
    "ExecuteTime": {
     "end_time": "2019-07-11T10:15:40.149078Z",
     "start_time": "2019-07-11T10:15:40.135313Z"
    }
   },
   "outputs": [],
   "source": [
    "element_gameweek_df =\\\n",
    "element_gameweek_df[\n",
    "    (element_gameweek_df['event'] <= current_event)\n",
    "]"
   ]
  },
  {
   "cell_type": "code",
   "execution_count": 8,
   "metadata": {
    "ExecuteTime": {
     "end_time": "2019-07-11T10:15:42.357569Z",
     "start_time": "2019-07-11T10:15:42.263991Z"
    }
   },
   "outputs": [],
   "source": [
    "element_gameweek_df.fillna(0, inplace=True)"
   ]
  },
  {
   "cell_type": "code",
   "execution_count": 9,
   "metadata": {
    "ExecuteTime": {
     "end_time": "2019-07-11T10:15:43.045976Z",
     "start_time": "2019-07-11T10:15:42.993207Z"
    }
   },
   "outputs": [
    {
     "data": {
      "text/html": [
       "<div>\n",
       "<style scoped>\n",
       "    .dataframe tbody tr th:only-of-type {\n",
       "        vertical-align: middle;\n",
       "    }\n",
       "\n",
       "    .dataframe tbody tr th {\n",
       "        vertical-align: top;\n",
       "    }\n",
       "\n",
       "    .dataframe thead th {\n",
       "        text-align: right;\n",
       "    }\n",
       "</style>\n",
       "<table border=\"1\" class=\"dataframe\">\n",
       "  <thead>\n",
       "    <tr style=\"text-align: right;\">\n",
       "      <th></th>\n",
       "      <th>safe_web_name</th>\n",
       "      <th>element</th>\n",
       "      <th>event</th>\n",
       "      <th>fixture</th>\n",
       "      <th>team</th>\n",
       "      <th>opposition_team</th>\n",
       "      <th>was_home</th>\n",
       "      <th>element_type</th>\n",
       "      <th>value</th>\n",
       "      <th>is_sunday</th>\n",
       "      <th>...</th>\n",
       "      <th>rolling_var_total_points_against_opposition_team_element_type</th>\n",
       "      <th>rolling_avg_total_points_home</th>\n",
       "      <th>rolling_var_total_points_home</th>\n",
       "      <th>rolling_avg_total_points_against_opposition_ground_element_type</th>\n",
       "      <th>rolling_var_total_points_against_opposition_ground_element_type</th>\n",
       "      <th>total_points</th>\n",
       "      <th>expected_avg_total_points_against_opposition_team</th>\n",
       "      <th>expected_var_total_points_against_opposition_team</th>\n",
       "      <th>expected_avg_total_points_at_ground</th>\n",
       "      <th>expected_var_total_points_at_ground</th>\n",
       "    </tr>\n",
       "  </thead>\n",
       "  <tbody>\n",
       "    <tr>\n",
       "      <th>0</th>\n",
       "      <td>cech</td>\n",
       "      <td>1</td>\n",
       "      <td>1</td>\n",
       "      <td>1</td>\n",
       "      <td>1</td>\n",
       "      <td>13</td>\n",
       "      <td>1</td>\n",
       "      <td>1</td>\n",
       "      <td>50</td>\n",
       "      <td>1</td>\n",
       "      <td>...</td>\n",
       "      <td>0.0</td>\n",
       "      <td>0.0</td>\n",
       "      <td>0.0</td>\n",
       "      <td>0.0</td>\n",
       "      <td>0.0</td>\n",
       "      <td>3</td>\n",
       "      <td>0.000000</td>\n",
       "      <td>0.000000</td>\n",
       "      <td>0.000000</td>\n",
       "      <td>0.0</td>\n",
       "    </tr>\n",
       "    <tr>\n",
       "      <th>1</th>\n",
       "      <td>cech</td>\n",
       "      <td>1</td>\n",
       "      <td>2</td>\n",
       "      <td>14</td>\n",
       "      <td>1</td>\n",
       "      <td>6</td>\n",
       "      <td>0</td>\n",
       "      <td>1</td>\n",
       "      <td>50</td>\n",
       "      <td>0</td>\n",
       "      <td>...</td>\n",
       "      <td>0.0</td>\n",
       "      <td>0.0</td>\n",
       "      <td>0.0</td>\n",
       "      <td>0.0</td>\n",
       "      <td>0.0</td>\n",
       "      <td>3</td>\n",
       "      <td>0.681818</td>\n",
       "      <td>0.000000</td>\n",
       "      <td>0.000000</td>\n",
       "      <td>0.0</td>\n",
       "    </tr>\n",
       "    <tr>\n",
       "      <th>2</th>\n",
       "      <td>cech</td>\n",
       "      <td>1</td>\n",
       "      <td>3</td>\n",
       "      <td>21</td>\n",
       "      <td>1</td>\n",
       "      <td>19</td>\n",
       "      <td>1</td>\n",
       "      <td>1</td>\n",
       "      <td>50</td>\n",
       "      <td>0</td>\n",
       "      <td>...</td>\n",
       "      <td>8.0</td>\n",
       "      <td>3.0</td>\n",
       "      <td>0.0</td>\n",
       "      <td>0.0</td>\n",
       "      <td>0.0</td>\n",
       "      <td>3</td>\n",
       "      <td>3.750000</td>\n",
       "      <td>0.000000</td>\n",
       "      <td>3.000000</td>\n",
       "      <td>0.0</td>\n",
       "    </tr>\n",
       "    <tr>\n",
       "      <th>3</th>\n",
       "      <td>cech</td>\n",
       "      <td>1</td>\n",
       "      <td>4</td>\n",
       "      <td>33</td>\n",
       "      <td>1</td>\n",
       "      <td>5</td>\n",
       "      <td>0</td>\n",
       "      <td>1</td>\n",
       "      <td>50</td>\n",
       "      <td>1</td>\n",
       "      <td>...</td>\n",
       "      <td>11.0</td>\n",
       "      <td>3.0</td>\n",
       "      <td>0.0</td>\n",
       "      <td>6.0</td>\n",
       "      <td>0.0</td>\n",
       "      <td>1</td>\n",
       "      <td>4.493304</td>\n",
       "      <td>0.000000</td>\n",
       "      <td>4.901786</td>\n",
       "      <td>0.0</td>\n",
       "    </tr>\n",
       "    <tr>\n",
       "      <th>4</th>\n",
       "      <td>cech</td>\n",
       "      <td>1</td>\n",
       "      <td>5</td>\n",
       "      <td>46</td>\n",
       "      <td>1</td>\n",
       "      <td>15</td>\n",
       "      <td>0</td>\n",
       "      <td>1</td>\n",
       "      <td>50</td>\n",
       "      <td>0</td>\n",
       "      <td>...</td>\n",
       "      <td>49.0</td>\n",
       "      <td>3.0</td>\n",
       "      <td>0.0</td>\n",
       "      <td>2.0</td>\n",
       "      <td>0.0</td>\n",
       "      <td>2</td>\n",
       "      <td>3.663651</td>\n",
       "      <td>5.929855</td>\n",
       "      <td>1.332237</td>\n",
       "      <td>0.0</td>\n",
       "    </tr>\n",
       "  </tbody>\n",
       "</table>\n",
       "<p>5 rows × 58 columns</p>\n",
       "</div>"
      ],
      "text/plain": [
       "  safe_web_name  element  event  fixture  team  opposition_team  was_home  \\\n",
       "0          cech        1      1        1     1               13         1   \n",
       "1          cech        1      2       14     1                6         0   \n",
       "2          cech        1      3       21     1               19         1   \n",
       "3          cech        1      4       33     1                5         0   \n",
       "4          cech        1      5       46     1               15         0   \n",
       "\n",
       "   element_type  value  is_sunday                 ...                   \\\n",
       "0             1     50          1                 ...                    \n",
       "1             1     50          0                 ...                    \n",
       "2             1     50          0                 ...                    \n",
       "3             1     50          1                 ...                    \n",
       "4             1     50          0                 ...                    \n",
       "\n",
       "   rolling_var_total_points_against_opposition_team_element_type  \\\n",
       "0                                                0.0               \n",
       "1                                                0.0               \n",
       "2                                                8.0               \n",
       "3                                               11.0               \n",
       "4                                               49.0               \n",
       "\n",
       "   rolling_avg_total_points_home  rolling_var_total_points_home  \\\n",
       "0                            0.0                            0.0   \n",
       "1                            0.0                            0.0   \n",
       "2                            3.0                            0.0   \n",
       "3                            3.0                            0.0   \n",
       "4                            3.0                            0.0   \n",
       "\n",
       "   rolling_avg_total_points_against_opposition_ground_element_type  \\\n",
       "0                                                0.0                 \n",
       "1                                                0.0                 \n",
       "2                                                0.0                 \n",
       "3                                                6.0                 \n",
       "4                                                2.0                 \n",
       "\n",
       "   rolling_var_total_points_against_opposition_ground_element_type  \\\n",
       "0                                                0.0                 \n",
       "1                                                0.0                 \n",
       "2                                                0.0                 \n",
       "3                                                0.0                 \n",
       "4                                                0.0                 \n",
       "\n",
       "   total_points  expected_avg_total_points_against_opposition_team  \\\n",
       "0             3                                           0.000000   \n",
       "1             3                                           0.681818   \n",
       "2             3                                           3.750000   \n",
       "3             1                                           4.493304   \n",
       "4             2                                           3.663651   \n",
       "\n",
       "   expected_var_total_points_against_opposition_team  \\\n",
       "0                                           0.000000   \n",
       "1                                           0.000000   \n",
       "2                                           0.000000   \n",
       "3                                           0.000000   \n",
       "4                                           5.929855   \n",
       "\n",
       "   expected_avg_total_points_at_ground  expected_var_total_points_at_ground  \n",
       "0                             0.000000                                  0.0  \n",
       "1                             0.000000                                  0.0  \n",
       "2                             3.000000                                  0.0  \n",
       "3                             4.901786                                  0.0  \n",
       "4                             1.332237                                  0.0  \n",
       "\n",
       "[5 rows x 58 columns]"
      ]
     },
     "execution_count": 9,
     "metadata": {},
     "output_type": "execute_result"
    }
   ],
   "source": [
    "element_gameweek_df.head()"
   ]
  },
  {
   "cell_type": "code",
   "execution_count": 10,
   "metadata": {
    "ExecuteTime": {
     "end_time": "2019-07-11T10:15:48.876173Z",
     "start_time": "2019-07-11T10:15:48.865788Z"
    }
   },
   "outputs": [],
   "source": [
    "element_gameweek_df = element_gameweek_df[element_gameweek_df['rolling_avg_minutes_element_p3'] >= 60]"
   ]
  },
  {
   "cell_type": "markdown",
   "metadata": {},
   "source": [
    "# Modelling data"
   ]
  },
  {
   "cell_type": "markdown",
   "metadata": {},
   "source": [
    "## Splitting data"
   ]
  },
  {
   "cell_type": "code",
   "execution_count": 11,
   "metadata": {
    "ExecuteTime": {
     "end_time": "2019-07-11T10:15:55.714983Z",
     "start_time": "2019-07-11T10:15:55.709661Z"
    }
   },
   "outputs": [],
   "source": [
    "last_train_event = 15"
   ]
  },
  {
   "cell_type": "code",
   "execution_count": 12,
   "metadata": {
    "ExecuteTime": {
     "end_time": "2019-07-11T10:15:56.508981Z",
     "start_time": "2019-07-11T10:15:56.499380Z"
    }
   },
   "outputs": [],
   "source": [
    "test_fold = [-1 if i <= last_train_event else 0 for i in element_gameweek_df['event']]\n",
    "ps = PredefinedSplit(test_fold)"
   ]
  },
  {
   "cell_type": "code",
   "execution_count": 13,
   "metadata": {
    "ExecuteTime": {
     "end_time": "2019-07-11T10:15:58.915833Z",
     "start_time": "2019-07-11T10:15:58.904710Z"
    }
   },
   "outputs": [],
   "source": [
    "for train_index, test_index in ps.split():\n",
    "    element_gameweek_df_train, element_gameweek_df_test = \\\n",
    "    element_gameweek_df.iloc[train_index], element_gameweek_df.iloc[test_index]"
   ]
  },
  {
   "cell_type": "markdown",
   "metadata": {},
   "source": [
    "## Building model"
   ]
  },
  {
   "cell_type": "code",
   "execution_count": 14,
   "metadata": {
    "ExecuteTime": {
     "end_time": "2019-07-11T10:19:37.693963Z",
     "start_time": "2019-07-11T10:19:37.682800Z"
    }
   },
   "outputs": [],
   "source": [
    "formula = \\\n",
    "'total_points ~ C(element) + C(element_type) + C(team) + C(opposition_team) + ' + \\\n",
    "' + '.join([i for i in element_gameweek_df.columns if i not in\n",
    " [\n",
    "     'safe_web_name',\n",
    "     'element',\n",
    "     'event',\n",
    "     'fixture',\n",
    "     'team',\n",
    "     'opposition_team',\n",
    "     'element_type',\n",
    "     'rolling_avg_attempted_passes_element',\n",
    "     'rolling_var_total_points_against_opposition_team',\n",
    "     'rolling_var_total_points_own_team',\n",
    "     'rolling_var_total_points_opposition_team',\n",
    "     'rolling_var_total_points_element_type',\n",
    "     'rolling_var_total_points_against_opposition_team_element_type',\n",
    "     'expected_var_total_points_against_opposition_team',\n",
    "     'expected_var_total_points_at_ground',\n",
    "     'rolling_avg_total_points_home',\n",
    "     'rolling_var_total_points_home',\n",
    "     'rolling_avg_total_points_against_opposition_ground_element_type',\n",
    "     'rolling_var_total_points_against_opposition_ground_element_type',\n",
    "     'total_points'\n",
    " ]])"
   ]
  },
  {
   "cell_type": "code",
   "execution_count": 15,
   "metadata": {
    "ExecuteTime": {
     "end_time": "2019-07-11T10:19:38.666836Z",
     "start_time": "2019-07-11T10:19:38.659824Z"
    }
   },
   "outputs": [
    {
     "name": "stdout",
     "output_type": "stream",
     "text": [
      "total_points ~ C(element) + C(element_type) + C(team) + C(opposition_team) + was_home + value + is_sunday + is_weekday + is_late + is_early + rolling_avg_total_points_element + rolling_var_total_points_element + rolling_max_total_points_element + rolling_avg_minutes_element_p3 + rolling_avg_bps_element + rolling_avg_bonus_element + rolling_avg_goals_scored_element + rolling_avg_minutes_element + rolling_avg_clean_sheets_element + rolling_avg_completed_passes_element + rolling_avg_recoveries_element + rolling_avg_assists_element + rolling_avg_key_passes_element + rolling_avg_winning_goals_element + rolling_avg_tackled_element + rolling_avg_dribbles_element + rolling_avg_clearances_blocks_interceptions_element + rolling_avg_big_chances_created_element + rolling_avg_target_missed_element + rolling_avg_fouls_element + rolling_avg_tackles_element + rolling_avg_open_play_crosses_element + rolling_avg_offside_element + rolling_avg_big_chances_missed_element + rolling_avg_saves_element + rolling_avg_goals_conceded_element + rolling_avg_total_points_element_type + rolling_avg_total_points_own_team + rolling_avg_total_points_opposition_team + rolling_avg_total_points_against_opposition_team + rolling_avg_total_points_against_opposition_team_element_type + expected_avg_total_points_against_opposition_team + expected_avg_total_points_at_ground\n"
     ]
    }
   ],
   "source": [
    "print(formula)"
   ]
  },
  {
   "cell_type": "code",
   "execution_count": 16,
   "metadata": {
    "ExecuteTime": {
     "end_time": "2019-07-11T10:20:34.038368Z",
     "start_time": "2019-07-11T10:20:33.744975Z"
    }
   },
   "outputs": [],
   "source": [
    "y, X = patsy.dmatrices(formula, element_gameweek_df, return_type='matrix')"
   ]
  },
  {
   "cell_type": "code",
   "execution_count": 17,
   "metadata": {
    "ExecuteTime": {
     "end_time": "2019-07-11T10:20:35.023459Z",
     "start_time": "2019-07-11T10:20:35.006248Z"
    }
   },
   "outputs": [],
   "source": [
    "for train_index, test_index in ps.split():\n",
    "    X_train, X_test = X[train_index], X[test_index]\n",
    "    y_train, y_test = y[train_index], y[test_index]"
   ]
  },
  {
   "cell_type": "markdown",
   "metadata": {},
   "source": [
    "## Tuning model"
   ]
  },
  {
   "cell_type": "code",
   "execution_count": 54,
   "metadata": {
    "ExecuteTime": {
     "end_time": "2019-07-11T10:41:54.605896Z",
     "start_time": "2019-07-11T10:41:54.595959Z"
    }
   },
   "outputs": [],
   "source": [
    "max_depth = [10, 20, 50, 100]\n",
    "min_samples_split = [0.05, 0.1, 0.2]\n",
    "min_samples_leaf = [0.17, 0.175, 0.18]\n",
    "\n",
    "parameters = {\n",
    "    'max_depth': max_depth,\n",
    "    'min_samples_split': min_samples_split,\n",
    "    'min_samples_leaf': min_samples_leaf\n",
    "}"
   ]
  },
  {
   "cell_type": "code",
   "execution_count": 55,
   "metadata": {
    "ExecuteTime": {
     "end_time": "2019-07-11T10:41:56.398523Z",
     "start_time": "2019-07-11T10:41:55.046881Z"
    }
   },
   "outputs": [
    {
     "name": "stdout",
     "output_type": "stream",
     "text": [
      "Fitting 1 folds for each of 36 candidates, totalling 36 fits\n"
     ]
    },
    {
     "name": "stderr",
     "output_type": "stream",
     "text": [
      "[Parallel(n_jobs=1)]: Using backend SequentialBackend with 1 concurrent workers.\n",
      "[Parallel(n_jobs=1)]: Done  36 out of  36 | elapsed:    1.3s finished\n"
     ]
    },
    {
     "data": {
      "text/plain": [
       "GridSearchCV(cv=PredefinedSplit(test_fold=array([-1, -1, ...,  0,  0])),\n",
       "             error_score=100,\n",
       "             estimator=DecisionTreeRegressor(criterion='mse', max_depth=None,\n",
       "                                             max_features=None,\n",
       "                                             max_leaf_nodes=None,\n",
       "                                             min_impurity_decrease=0.0,\n",
       "                                             min_impurity_split=None,\n",
       "                                             min_samples_leaf=1,\n",
       "                                             min_samples_split=2,\n",
       "                                             min_weight_fraction_leaf=0.0,\n",
       "                                             presort=False, random_state=0,\n",
       "                                             splitter='best'),\n",
       "             iid='warn', n_jobs=1,\n",
       "             param_grid={'max_depth': [10, 20, 50, 100],\n",
       "                         'min_samples_leaf': [0.17, 0.175, 0.18],\n",
       "                         'min_samples_split': [0.05, 0.1, 0.2]},\n",
       "             pre_dispatch='2*n_jobs', refit=False, return_train_score=False,\n",
       "             scoring=['neg_mean_absolute_error', 'neg_mean_squared_error'],\n",
       "             verbose=1)"
      ]
     },
     "execution_count": 55,
     "metadata": {},
     "output_type": "execute_result"
    }
   ],
   "source": [
    "gs_model = GridSearchCV(\n",
    "    DecisionTreeRegressor(random_state=0),\n",
    "    parameters,\n",
    "    scoring=['neg_mean_absolute_error', 'neg_mean_squared_error'],\n",
    "    refit=False,\n",
    "    cv=ps,\n",
    "    error_score=100, n_jobs=1, verbose=1)\n",
    "gs_model.fit(X, y.ravel())"
   ]
  },
  {
   "cell_type": "code",
   "execution_count": 56,
   "metadata": {
    "ExecuteTime": {
     "end_time": "2019-07-11T10:41:56.448337Z",
     "start_time": "2019-07-11T10:41:56.403972Z"
    }
   },
   "outputs": [
    {
     "data": {
      "text/html": [
       "<div>\n",
       "<style scoped>\n",
       "    .dataframe tbody tr th:only-of-type {\n",
       "        vertical-align: middle;\n",
       "    }\n",
       "\n",
       "    .dataframe tbody tr th {\n",
       "        vertical-align: top;\n",
       "    }\n",
       "\n",
       "    .dataframe thead th {\n",
       "        text-align: right;\n",
       "    }\n",
       "</style>\n",
       "<table border=\"1\" class=\"dataframe\">\n",
       "  <thead>\n",
       "    <tr style=\"text-align: right;\">\n",
       "      <th></th>\n",
       "      <th>param_max_depth</th>\n",
       "      <th>param_min_samples_split</th>\n",
       "      <th>param_min_samples_leaf</th>\n",
       "      <th>split0_test_neg_mean_absolute_error</th>\n",
       "      <th>split0_test_neg_mean_squared_error</th>\n",
       "    </tr>\n",
       "  </thead>\n",
       "  <tbody>\n",
       "    <tr>\n",
       "      <th>0</th>\n",
       "      <td>10</td>\n",
       "      <td>0.05</td>\n",
       "      <td>0.17</td>\n",
       "      <td>-2.271255</td>\n",
       "      <td>-9.761824</td>\n",
       "    </tr>\n",
       "    <tr>\n",
       "      <th>1</th>\n",
       "      <td>10</td>\n",
       "      <td>0.1</td>\n",
       "      <td>0.17</td>\n",
       "      <td>-2.271255</td>\n",
       "      <td>-9.761824</td>\n",
       "    </tr>\n",
       "    <tr>\n",
       "      <th>2</th>\n",
       "      <td>10</td>\n",
       "      <td>0.2</td>\n",
       "      <td>0.17</td>\n",
       "      <td>-2.271255</td>\n",
       "      <td>-9.761824</td>\n",
       "    </tr>\n",
       "    <tr>\n",
       "      <th>3</th>\n",
       "      <td>10</td>\n",
       "      <td>0.05</td>\n",
       "      <td>0.175</td>\n",
       "      <td>-2.265929</td>\n",
       "      <td>-9.744751</td>\n",
       "    </tr>\n",
       "    <tr>\n",
       "      <th>4</th>\n",
       "      <td>10</td>\n",
       "      <td>0.1</td>\n",
       "      <td>0.175</td>\n",
       "      <td>-2.265929</td>\n",
       "      <td>-9.744751</td>\n",
       "    </tr>\n",
       "    <tr>\n",
       "      <th>5</th>\n",
       "      <td>10</td>\n",
       "      <td>0.2</td>\n",
       "      <td>0.175</td>\n",
       "      <td>-2.265929</td>\n",
       "      <td>-9.744751</td>\n",
       "    </tr>\n",
       "    <tr>\n",
       "      <th>6</th>\n",
       "      <td>10</td>\n",
       "      <td>0.05</td>\n",
       "      <td>0.18</td>\n",
       "      <td>-2.265929</td>\n",
       "      <td>-9.744751</td>\n",
       "    </tr>\n",
       "    <tr>\n",
       "      <th>7</th>\n",
       "      <td>10</td>\n",
       "      <td>0.1</td>\n",
       "      <td>0.18</td>\n",
       "      <td>-2.265929</td>\n",
       "      <td>-9.744751</td>\n",
       "    </tr>\n",
       "    <tr>\n",
       "      <th>8</th>\n",
       "      <td>10</td>\n",
       "      <td>0.2</td>\n",
       "      <td>0.18</td>\n",
       "      <td>-2.265929</td>\n",
       "      <td>-9.744751</td>\n",
       "    </tr>\n",
       "    <tr>\n",
       "      <th>9</th>\n",
       "      <td>20</td>\n",
       "      <td>0.05</td>\n",
       "      <td>0.17</td>\n",
       "      <td>-2.271255</td>\n",
       "      <td>-9.761824</td>\n",
       "    </tr>\n",
       "    <tr>\n",
       "      <th>10</th>\n",
       "      <td>20</td>\n",
       "      <td>0.1</td>\n",
       "      <td>0.17</td>\n",
       "      <td>-2.271255</td>\n",
       "      <td>-9.761824</td>\n",
       "    </tr>\n",
       "    <tr>\n",
       "      <th>11</th>\n",
       "      <td>20</td>\n",
       "      <td>0.2</td>\n",
       "      <td>0.17</td>\n",
       "      <td>-2.271255</td>\n",
       "      <td>-9.761824</td>\n",
       "    </tr>\n",
       "    <tr>\n",
       "      <th>12</th>\n",
       "      <td>20</td>\n",
       "      <td>0.05</td>\n",
       "      <td>0.175</td>\n",
       "      <td>-2.265929</td>\n",
       "      <td>-9.744751</td>\n",
       "    </tr>\n",
       "    <tr>\n",
       "      <th>13</th>\n",
       "      <td>20</td>\n",
       "      <td>0.1</td>\n",
       "      <td>0.175</td>\n",
       "      <td>-2.265929</td>\n",
       "      <td>-9.744751</td>\n",
       "    </tr>\n",
       "    <tr>\n",
       "      <th>14</th>\n",
       "      <td>20</td>\n",
       "      <td>0.2</td>\n",
       "      <td>0.175</td>\n",
       "      <td>-2.265929</td>\n",
       "      <td>-9.744751</td>\n",
       "    </tr>\n",
       "    <tr>\n",
       "      <th>15</th>\n",
       "      <td>20</td>\n",
       "      <td>0.05</td>\n",
       "      <td>0.18</td>\n",
       "      <td>-2.265929</td>\n",
       "      <td>-9.744751</td>\n",
       "    </tr>\n",
       "    <tr>\n",
       "      <th>16</th>\n",
       "      <td>20</td>\n",
       "      <td>0.1</td>\n",
       "      <td>0.18</td>\n",
       "      <td>-2.265929</td>\n",
       "      <td>-9.744751</td>\n",
       "    </tr>\n",
       "    <tr>\n",
       "      <th>17</th>\n",
       "      <td>20</td>\n",
       "      <td>0.2</td>\n",
       "      <td>0.18</td>\n",
       "      <td>-2.265929</td>\n",
       "      <td>-9.744751</td>\n",
       "    </tr>\n",
       "    <tr>\n",
       "      <th>18</th>\n",
       "      <td>50</td>\n",
       "      <td>0.05</td>\n",
       "      <td>0.17</td>\n",
       "      <td>-2.271255</td>\n",
       "      <td>-9.761824</td>\n",
       "    </tr>\n",
       "    <tr>\n",
       "      <th>19</th>\n",
       "      <td>50</td>\n",
       "      <td>0.1</td>\n",
       "      <td>0.17</td>\n",
       "      <td>-2.271255</td>\n",
       "      <td>-9.761824</td>\n",
       "    </tr>\n",
       "    <tr>\n",
       "      <th>20</th>\n",
       "      <td>50</td>\n",
       "      <td>0.2</td>\n",
       "      <td>0.17</td>\n",
       "      <td>-2.271255</td>\n",
       "      <td>-9.761824</td>\n",
       "    </tr>\n",
       "    <tr>\n",
       "      <th>21</th>\n",
       "      <td>50</td>\n",
       "      <td>0.05</td>\n",
       "      <td>0.175</td>\n",
       "      <td>-2.265929</td>\n",
       "      <td>-9.744751</td>\n",
       "    </tr>\n",
       "    <tr>\n",
       "      <th>22</th>\n",
       "      <td>50</td>\n",
       "      <td>0.1</td>\n",
       "      <td>0.175</td>\n",
       "      <td>-2.265929</td>\n",
       "      <td>-9.744751</td>\n",
       "    </tr>\n",
       "    <tr>\n",
       "      <th>23</th>\n",
       "      <td>50</td>\n",
       "      <td>0.2</td>\n",
       "      <td>0.175</td>\n",
       "      <td>-2.265929</td>\n",
       "      <td>-9.744751</td>\n",
       "    </tr>\n",
       "    <tr>\n",
       "      <th>24</th>\n",
       "      <td>50</td>\n",
       "      <td>0.05</td>\n",
       "      <td>0.18</td>\n",
       "      <td>-2.265929</td>\n",
       "      <td>-9.744751</td>\n",
       "    </tr>\n",
       "    <tr>\n",
       "      <th>25</th>\n",
       "      <td>50</td>\n",
       "      <td>0.1</td>\n",
       "      <td>0.18</td>\n",
       "      <td>-2.265929</td>\n",
       "      <td>-9.744751</td>\n",
       "    </tr>\n",
       "    <tr>\n",
       "      <th>26</th>\n",
       "      <td>50</td>\n",
       "      <td>0.2</td>\n",
       "      <td>0.18</td>\n",
       "      <td>-2.265929</td>\n",
       "      <td>-9.744751</td>\n",
       "    </tr>\n",
       "    <tr>\n",
       "      <th>27</th>\n",
       "      <td>100</td>\n",
       "      <td>0.05</td>\n",
       "      <td>0.17</td>\n",
       "      <td>-2.271255</td>\n",
       "      <td>-9.761824</td>\n",
       "    </tr>\n",
       "    <tr>\n",
       "      <th>28</th>\n",
       "      <td>100</td>\n",
       "      <td>0.1</td>\n",
       "      <td>0.17</td>\n",
       "      <td>-2.271255</td>\n",
       "      <td>-9.761824</td>\n",
       "    </tr>\n",
       "    <tr>\n",
       "      <th>29</th>\n",
       "      <td>100</td>\n",
       "      <td>0.2</td>\n",
       "      <td>0.17</td>\n",
       "      <td>-2.271255</td>\n",
       "      <td>-9.761824</td>\n",
       "    </tr>\n",
       "    <tr>\n",
       "      <th>30</th>\n",
       "      <td>100</td>\n",
       "      <td>0.05</td>\n",
       "      <td>0.175</td>\n",
       "      <td>-2.265929</td>\n",
       "      <td>-9.744751</td>\n",
       "    </tr>\n",
       "    <tr>\n",
       "      <th>31</th>\n",
       "      <td>100</td>\n",
       "      <td>0.1</td>\n",
       "      <td>0.175</td>\n",
       "      <td>-2.265929</td>\n",
       "      <td>-9.744751</td>\n",
       "    </tr>\n",
       "    <tr>\n",
       "      <th>32</th>\n",
       "      <td>100</td>\n",
       "      <td>0.2</td>\n",
       "      <td>0.175</td>\n",
       "      <td>-2.265929</td>\n",
       "      <td>-9.744751</td>\n",
       "    </tr>\n",
       "    <tr>\n",
       "      <th>33</th>\n",
       "      <td>100</td>\n",
       "      <td>0.05</td>\n",
       "      <td>0.18</td>\n",
       "      <td>-2.265929</td>\n",
       "      <td>-9.744751</td>\n",
       "    </tr>\n",
       "    <tr>\n",
       "      <th>34</th>\n",
       "      <td>100</td>\n",
       "      <td>0.1</td>\n",
       "      <td>0.18</td>\n",
       "      <td>-2.265929</td>\n",
       "      <td>-9.744751</td>\n",
       "    </tr>\n",
       "    <tr>\n",
       "      <th>35</th>\n",
       "      <td>100</td>\n",
       "      <td>0.2</td>\n",
       "      <td>0.18</td>\n",
       "      <td>-2.265929</td>\n",
       "      <td>-9.744751</td>\n",
       "    </tr>\n",
       "  </tbody>\n",
       "</table>\n",
       "</div>"
      ],
      "text/plain": [
       "   param_max_depth param_min_samples_split param_min_samples_leaf  \\\n",
       "0               10                    0.05                   0.17   \n",
       "1               10                     0.1                   0.17   \n",
       "2               10                     0.2                   0.17   \n",
       "3               10                    0.05                  0.175   \n",
       "4               10                     0.1                  0.175   \n",
       "5               10                     0.2                  0.175   \n",
       "6               10                    0.05                   0.18   \n",
       "7               10                     0.1                   0.18   \n",
       "8               10                     0.2                   0.18   \n",
       "9               20                    0.05                   0.17   \n",
       "10              20                     0.1                   0.17   \n",
       "11              20                     0.2                   0.17   \n",
       "12              20                    0.05                  0.175   \n",
       "13              20                     0.1                  0.175   \n",
       "14              20                     0.2                  0.175   \n",
       "15              20                    0.05                   0.18   \n",
       "16              20                     0.1                   0.18   \n",
       "17              20                     0.2                   0.18   \n",
       "18              50                    0.05                   0.17   \n",
       "19              50                     0.1                   0.17   \n",
       "20              50                     0.2                   0.17   \n",
       "21              50                    0.05                  0.175   \n",
       "22              50                     0.1                  0.175   \n",
       "23              50                     0.2                  0.175   \n",
       "24              50                    0.05                   0.18   \n",
       "25              50                     0.1                   0.18   \n",
       "26              50                     0.2                   0.18   \n",
       "27             100                    0.05                   0.17   \n",
       "28             100                     0.1                   0.17   \n",
       "29             100                     0.2                   0.17   \n",
       "30             100                    0.05                  0.175   \n",
       "31             100                     0.1                  0.175   \n",
       "32             100                     0.2                  0.175   \n",
       "33             100                    0.05                   0.18   \n",
       "34             100                     0.1                   0.18   \n",
       "35             100                     0.2                   0.18   \n",
       "\n",
       "    split0_test_neg_mean_absolute_error  split0_test_neg_mean_squared_error  \n",
       "0                             -2.271255                           -9.761824  \n",
       "1                             -2.271255                           -9.761824  \n",
       "2                             -2.271255                           -9.761824  \n",
       "3                             -2.265929                           -9.744751  \n",
       "4                             -2.265929                           -9.744751  \n",
       "5                             -2.265929                           -9.744751  \n",
       "6                             -2.265929                           -9.744751  \n",
       "7                             -2.265929                           -9.744751  \n",
       "8                             -2.265929                           -9.744751  \n",
       "9                             -2.271255                           -9.761824  \n",
       "10                            -2.271255                           -9.761824  \n",
       "11                            -2.271255                           -9.761824  \n",
       "12                            -2.265929                           -9.744751  \n",
       "13                            -2.265929                           -9.744751  \n",
       "14                            -2.265929                           -9.744751  \n",
       "15                            -2.265929                           -9.744751  \n",
       "16                            -2.265929                           -9.744751  \n",
       "17                            -2.265929                           -9.744751  \n",
       "18                            -2.271255                           -9.761824  \n",
       "19                            -2.271255                           -9.761824  \n",
       "20                            -2.271255                           -9.761824  \n",
       "21                            -2.265929                           -9.744751  \n",
       "22                            -2.265929                           -9.744751  \n",
       "23                            -2.265929                           -9.744751  \n",
       "24                            -2.265929                           -9.744751  \n",
       "25                            -2.265929                           -9.744751  \n",
       "26                            -2.265929                           -9.744751  \n",
       "27                            -2.271255                           -9.761824  \n",
       "28                            -2.271255                           -9.761824  \n",
       "29                            -2.271255                           -9.761824  \n",
       "30                            -2.265929                           -9.744751  \n",
       "31                            -2.265929                           -9.744751  \n",
       "32                            -2.265929                           -9.744751  \n",
       "33                            -2.265929                           -9.744751  \n",
       "34                            -2.265929                           -9.744751  \n",
       "35                            -2.265929                           -9.744751  "
      ]
     },
     "execution_count": 56,
     "metadata": {},
     "output_type": "execute_result"
    }
   ],
   "source": [
    "gs_model_df = pd.DataFrame(gs_model.cv_results_)[[\n",
    "    'param_max_depth','param_min_samples_split','param_min_samples_leaf',\n",
    "    'split0_test_neg_mean_absolute_error',\n",
    "    'split0_test_neg_mean_squared_error'\n",
    "]]\n",
    "gs_model_df"
   ]
  },
  {
   "cell_type": "code",
   "execution_count": 57,
   "metadata": {
    "ExecuteTime": {
     "end_time": "2019-07-11T10:41:57.400126Z",
     "start_time": "2019-07-11T10:41:57.367847Z"
    }
   },
   "outputs": [
    {
     "data": {
      "text/html": [
       "<div>\n",
       "<style scoped>\n",
       "    .dataframe tbody tr th:only-of-type {\n",
       "        vertical-align: middle;\n",
       "    }\n",
       "\n",
       "    .dataframe tbody tr th {\n",
       "        vertical-align: top;\n",
       "    }\n",
       "\n",
       "    .dataframe thead th {\n",
       "        text-align: right;\n",
       "    }\n",
       "</style>\n",
       "<table border=\"1\" class=\"dataframe\">\n",
       "  <thead>\n",
       "    <tr style=\"text-align: right;\">\n",
       "      <th></th>\n",
       "      <th>param_max_depth</th>\n",
       "      <th>param_min_samples_split</th>\n",
       "      <th>param_min_samples_leaf</th>\n",
       "      <th>split0_test_neg_mean_absolute_error</th>\n",
       "      <th>split0_test_neg_mean_squared_error</th>\n",
       "    </tr>\n",
       "  </thead>\n",
       "  <tbody>\n",
       "    <tr>\n",
       "      <th>3</th>\n",
       "      <td>10</td>\n",
       "      <td>0.05</td>\n",
       "      <td>0.175</td>\n",
       "      <td>-2.265929</td>\n",
       "      <td>-9.744751</td>\n",
       "    </tr>\n",
       "    <tr>\n",
       "      <th>4</th>\n",
       "      <td>10</td>\n",
       "      <td>0.1</td>\n",
       "      <td>0.175</td>\n",
       "      <td>-2.265929</td>\n",
       "      <td>-9.744751</td>\n",
       "    </tr>\n",
       "    <tr>\n",
       "      <th>5</th>\n",
       "      <td>10</td>\n",
       "      <td>0.2</td>\n",
       "      <td>0.175</td>\n",
       "      <td>-2.265929</td>\n",
       "      <td>-9.744751</td>\n",
       "    </tr>\n",
       "    <tr>\n",
       "      <th>6</th>\n",
       "      <td>10</td>\n",
       "      <td>0.05</td>\n",
       "      <td>0.18</td>\n",
       "      <td>-2.265929</td>\n",
       "      <td>-9.744751</td>\n",
       "    </tr>\n",
       "    <tr>\n",
       "      <th>7</th>\n",
       "      <td>10</td>\n",
       "      <td>0.1</td>\n",
       "      <td>0.18</td>\n",
       "      <td>-2.265929</td>\n",
       "      <td>-9.744751</td>\n",
       "    </tr>\n",
       "    <tr>\n",
       "      <th>8</th>\n",
       "      <td>10</td>\n",
       "      <td>0.2</td>\n",
       "      <td>0.18</td>\n",
       "      <td>-2.265929</td>\n",
       "      <td>-9.744751</td>\n",
       "    </tr>\n",
       "    <tr>\n",
       "      <th>12</th>\n",
       "      <td>20</td>\n",
       "      <td>0.05</td>\n",
       "      <td>0.175</td>\n",
       "      <td>-2.265929</td>\n",
       "      <td>-9.744751</td>\n",
       "    </tr>\n",
       "    <tr>\n",
       "      <th>13</th>\n",
       "      <td>20</td>\n",
       "      <td>0.1</td>\n",
       "      <td>0.175</td>\n",
       "      <td>-2.265929</td>\n",
       "      <td>-9.744751</td>\n",
       "    </tr>\n",
       "    <tr>\n",
       "      <th>14</th>\n",
       "      <td>20</td>\n",
       "      <td>0.2</td>\n",
       "      <td>0.175</td>\n",
       "      <td>-2.265929</td>\n",
       "      <td>-9.744751</td>\n",
       "    </tr>\n",
       "    <tr>\n",
       "      <th>15</th>\n",
       "      <td>20</td>\n",
       "      <td>0.05</td>\n",
       "      <td>0.18</td>\n",
       "      <td>-2.265929</td>\n",
       "      <td>-9.744751</td>\n",
       "    </tr>\n",
       "    <tr>\n",
       "      <th>16</th>\n",
       "      <td>20</td>\n",
       "      <td>0.1</td>\n",
       "      <td>0.18</td>\n",
       "      <td>-2.265929</td>\n",
       "      <td>-9.744751</td>\n",
       "    </tr>\n",
       "    <tr>\n",
       "      <th>17</th>\n",
       "      <td>20</td>\n",
       "      <td>0.2</td>\n",
       "      <td>0.18</td>\n",
       "      <td>-2.265929</td>\n",
       "      <td>-9.744751</td>\n",
       "    </tr>\n",
       "    <tr>\n",
       "      <th>21</th>\n",
       "      <td>50</td>\n",
       "      <td>0.05</td>\n",
       "      <td>0.175</td>\n",
       "      <td>-2.265929</td>\n",
       "      <td>-9.744751</td>\n",
       "    </tr>\n",
       "    <tr>\n",
       "      <th>22</th>\n",
       "      <td>50</td>\n",
       "      <td>0.1</td>\n",
       "      <td>0.175</td>\n",
       "      <td>-2.265929</td>\n",
       "      <td>-9.744751</td>\n",
       "    </tr>\n",
       "    <tr>\n",
       "      <th>23</th>\n",
       "      <td>50</td>\n",
       "      <td>0.2</td>\n",
       "      <td>0.175</td>\n",
       "      <td>-2.265929</td>\n",
       "      <td>-9.744751</td>\n",
       "    </tr>\n",
       "    <tr>\n",
       "      <th>24</th>\n",
       "      <td>50</td>\n",
       "      <td>0.05</td>\n",
       "      <td>0.18</td>\n",
       "      <td>-2.265929</td>\n",
       "      <td>-9.744751</td>\n",
       "    </tr>\n",
       "    <tr>\n",
       "      <th>25</th>\n",
       "      <td>50</td>\n",
       "      <td>0.1</td>\n",
       "      <td>0.18</td>\n",
       "      <td>-2.265929</td>\n",
       "      <td>-9.744751</td>\n",
       "    </tr>\n",
       "    <tr>\n",
       "      <th>26</th>\n",
       "      <td>50</td>\n",
       "      <td>0.2</td>\n",
       "      <td>0.18</td>\n",
       "      <td>-2.265929</td>\n",
       "      <td>-9.744751</td>\n",
       "    </tr>\n",
       "    <tr>\n",
       "      <th>30</th>\n",
       "      <td>100</td>\n",
       "      <td>0.05</td>\n",
       "      <td>0.175</td>\n",
       "      <td>-2.265929</td>\n",
       "      <td>-9.744751</td>\n",
       "    </tr>\n",
       "    <tr>\n",
       "      <th>31</th>\n",
       "      <td>100</td>\n",
       "      <td>0.1</td>\n",
       "      <td>0.175</td>\n",
       "      <td>-2.265929</td>\n",
       "      <td>-9.744751</td>\n",
       "    </tr>\n",
       "    <tr>\n",
       "      <th>32</th>\n",
       "      <td>100</td>\n",
       "      <td>0.2</td>\n",
       "      <td>0.175</td>\n",
       "      <td>-2.265929</td>\n",
       "      <td>-9.744751</td>\n",
       "    </tr>\n",
       "    <tr>\n",
       "      <th>33</th>\n",
       "      <td>100</td>\n",
       "      <td>0.05</td>\n",
       "      <td>0.18</td>\n",
       "      <td>-2.265929</td>\n",
       "      <td>-9.744751</td>\n",
       "    </tr>\n",
       "    <tr>\n",
       "      <th>34</th>\n",
       "      <td>100</td>\n",
       "      <td>0.1</td>\n",
       "      <td>0.18</td>\n",
       "      <td>-2.265929</td>\n",
       "      <td>-9.744751</td>\n",
       "    </tr>\n",
       "    <tr>\n",
       "      <th>35</th>\n",
       "      <td>100</td>\n",
       "      <td>0.2</td>\n",
       "      <td>0.18</td>\n",
       "      <td>-2.265929</td>\n",
       "      <td>-9.744751</td>\n",
       "    </tr>\n",
       "  </tbody>\n",
       "</table>\n",
       "</div>"
      ],
      "text/plain": [
       "   param_max_depth param_min_samples_split param_min_samples_leaf  \\\n",
       "3               10                    0.05                  0.175   \n",
       "4               10                     0.1                  0.175   \n",
       "5               10                     0.2                  0.175   \n",
       "6               10                    0.05                   0.18   \n",
       "7               10                     0.1                   0.18   \n",
       "8               10                     0.2                   0.18   \n",
       "12              20                    0.05                  0.175   \n",
       "13              20                     0.1                  0.175   \n",
       "14              20                     0.2                  0.175   \n",
       "15              20                    0.05                   0.18   \n",
       "16              20                     0.1                   0.18   \n",
       "17              20                     0.2                   0.18   \n",
       "21              50                    0.05                  0.175   \n",
       "22              50                     0.1                  0.175   \n",
       "23              50                     0.2                  0.175   \n",
       "24              50                    0.05                   0.18   \n",
       "25              50                     0.1                   0.18   \n",
       "26              50                     0.2                   0.18   \n",
       "30             100                    0.05                  0.175   \n",
       "31             100                     0.1                  0.175   \n",
       "32             100                     0.2                  0.175   \n",
       "33             100                    0.05                   0.18   \n",
       "34             100                     0.1                   0.18   \n",
       "35             100                     0.2                   0.18   \n",
       "\n",
       "    split0_test_neg_mean_absolute_error  split0_test_neg_mean_squared_error  \n",
       "3                             -2.265929                           -9.744751  \n",
       "4                             -2.265929                           -9.744751  \n",
       "5                             -2.265929                           -9.744751  \n",
       "6                             -2.265929                           -9.744751  \n",
       "7                             -2.265929                           -9.744751  \n",
       "8                             -2.265929                           -9.744751  \n",
       "12                            -2.265929                           -9.744751  \n",
       "13                            -2.265929                           -9.744751  \n",
       "14                            -2.265929                           -9.744751  \n",
       "15                            -2.265929                           -9.744751  \n",
       "16                            -2.265929                           -9.744751  \n",
       "17                            -2.265929                           -9.744751  \n",
       "21                            -2.265929                           -9.744751  \n",
       "22                            -2.265929                           -9.744751  \n",
       "23                            -2.265929                           -9.744751  \n",
       "24                            -2.265929                           -9.744751  \n",
       "25                            -2.265929                           -9.744751  \n",
       "26                            -2.265929                           -9.744751  \n",
       "30                            -2.265929                           -9.744751  \n",
       "31                            -2.265929                           -9.744751  \n",
       "32                            -2.265929                           -9.744751  \n",
       "33                            -2.265929                           -9.744751  \n",
       "34                            -2.265929                           -9.744751  \n",
       "35                            -2.265929                           -9.744751  "
      ]
     },
     "execution_count": 57,
     "metadata": {},
     "output_type": "execute_result"
    }
   ],
   "source": [
    "gs_model_df[\n",
    "    gs_model_df['split0_test_neg_mean_squared_error'] == \\\n",
    "    gs_model_df['split0_test_neg_mean_squared_error'].max()]\n"
   ]
  },
  {
   "cell_type": "markdown",
   "metadata": {},
   "source": [
    "# Evaluating model"
   ]
  },
  {
   "cell_type": "code",
   "execution_count": 58,
   "metadata": {
    "ExecuteTime": {
     "end_time": "2019-07-11T10:42:30.234438Z",
     "start_time": "2019-07-11T10:42:30.176196Z"
    }
   },
   "outputs": [
    {
     "data": {
      "text/plain": [
       "DecisionTreeRegressor(criterion='mse', max_depth=None, max_features=None,\n",
       "                      max_leaf_nodes=None, min_impurity_decrease=0.0,\n",
       "                      min_impurity_split=None, min_samples_leaf=0.175,\n",
       "                      min_samples_split=2, min_weight_fraction_leaf=0.0,\n",
       "                      presort=False, random_state=0, splitter='best')"
      ]
     },
     "execution_count": 58,
     "metadata": {},
     "output_type": "execute_result"
    }
   ],
   "source": [
    "model = DecisionTreeRegressor(min_samples_leaf=0.175, random_state=0)\n",
    "model.fit(X_train, y_train.ravel())"
   ]
  },
  {
   "cell_type": "code",
   "execution_count": 59,
   "metadata": {
    "ExecuteTime": {
     "end_time": "2019-07-11T10:42:32.116638Z",
     "start_time": "2019-07-11T10:42:32.097242Z"
    }
   },
   "outputs": [
    {
     "data": {
      "text/plain": [
       "(2.2659293371713867, 9.744751207292195)"
      ]
     },
     "execution_count": 59,
     "metadata": {},
     "output_type": "execute_result"
    }
   ],
   "source": [
    "# get predictions for test set\n",
    "y_pred = model.predict(X_test).flatten()\n",
    "\n",
    "# calculate cross entropy loss for test set\n",
    "test_loss = (mean_absolute_error(y_test, y_pred), mean_squared_error(y_test, y_pred))\n",
    "test_loss"
   ]
  },
  {
   "cell_type": "code",
   "execution_count": 60,
   "metadata": {
    "ExecuteTime": {
     "end_time": "2019-07-11T10:42:32.794895Z",
     "start_time": "2019-07-11T10:42:32.779879Z"
    }
   },
   "outputs": [
    {
     "data": {
      "text/plain": [
       "count    948.000000\n",
       "mean       2.807154\n",
       "std        0.784677\n",
       "min        1.798077\n",
       "25%        2.427828\n",
       "50%        2.427828\n",
       "75%        3.162459\n",
       "max        4.207661\n",
       "dtype: float64"
      ]
     },
     "execution_count": 60,
     "metadata": {},
     "output_type": "execute_result"
    }
   ],
   "source": [
    "pd.Series(y_pred).describe()"
   ]
  },
  {
   "cell_type": "code",
   "execution_count": 61,
   "metadata": {
    "ExecuteTime": {
     "end_time": "2019-07-11T10:42:36.068599Z",
     "start_time": "2019-07-11T10:42:35.851384Z"
    }
   },
   "outputs": [
    {
     "data": {
      "text/plain": [
       "DecisionTreeRegressor(criterion='mse', max_depth=None, max_features=None,\n",
       "                      max_leaf_nodes=None, min_impurity_decrease=0.0,\n",
       "                      min_impurity_split=None, min_samples_leaf=5,\n",
       "                      min_samples_split=2, min_weight_fraction_leaf=0.0,\n",
       "                      presort=False, random_state=0, splitter='best')"
      ]
     },
     "execution_count": 61,
     "metadata": {},
     "output_type": "execute_result"
    }
   ],
   "source": [
    "# refit model on all data\n",
    "model_full =DecisionTreeRegressor(min_samples_leaf=5, random_state=0)\n",
    "model_full.fit(X, y.ravel())"
   ]
  },
  {
   "cell_type": "code",
   "execution_count": 62,
   "metadata": {
    "ExecuteTime": {
     "end_time": "2019-07-11T10:42:38.776067Z",
     "start_time": "2019-07-11T10:42:38.755854Z"
    }
   },
   "outputs": [
    {
     "data": {
      "text/plain": [
       "(1.1717565731012494, 3.3932234767306118)"
      ]
     },
     "execution_count": 62,
     "metadata": {},
     "output_type": "execute_result"
    }
   ],
   "source": [
    "# get predictions for whole set\n",
    "y_pred_full = model_full.predict(X).flatten()\n",
    "\n",
    "# calculate cross entropy loss for test set\n",
    "test_loss_full = (mean_absolute_error(y, y_pred_full), mean_squared_error(y, y_pred_full))\n",
    "test_loss_full"
   ]
  },
  {
   "cell_type": "code",
   "execution_count": 63,
   "metadata": {
    "ExecuteTime": {
     "end_time": "2019-07-11T10:42:45.169320Z",
     "start_time": "2019-07-11T10:42:45.150689Z"
    }
   },
   "outputs": [
    {
     "data": {
      "text/plain": [
       "count    3644.000000\n",
       "mean        2.869374\n",
       "std         2.485363\n",
       "min        -1.400000\n",
       "25%         1.125000\n",
       "50%         2.000000\n",
       "75%         4.000000\n",
       "max        14.000000\n",
       "dtype: float64"
      ]
     },
     "execution_count": 63,
     "metadata": {},
     "output_type": "execute_result"
    }
   ],
   "source": [
    "pd.Series(y_pred_full).describe()"
   ]
  },
  {
   "cell_type": "code",
   "execution_count": 64,
   "metadata": {
    "ExecuteTime": {
     "end_time": "2019-07-11T10:42:45.238097Z",
     "start_time": "2019-07-11T10:42:45.174016Z"
    }
   },
   "outputs": [
    {
     "data": {
      "text/plain": [
       "count    3644.000000\n",
       "mean        1.171757\n",
       "std         1.421536\n",
       "min         0.000000\n",
       "25%         0.250000\n",
       "50%         0.625000\n",
       "75%         1.500000\n",
       "max        10.571429\n",
       "dtype: float64"
      ]
     },
     "execution_count": 64,
     "metadata": {},
     "output_type": "execute_result"
    }
   ],
   "source": [
    "abs(pd.Series(y.ravel()) - pd.Series(y_pred_full)).describe()"
   ]
  },
  {
   "cell_type": "code",
   "execution_count": 65,
   "metadata": {
    "ExecuteTime": {
     "end_time": "2019-07-11T10:43:40.043664Z",
     "start_time": "2019-07-11T10:42:45.242055Z"
    }
   },
   "outputs": [
    {
     "data": {
      "image/png": "[encoded data removed]",
      "text/plain": [
       "<Figure size 432x288 with 1 Axes>"
      ]
     },
     "metadata": {
      "needs_background": "light"
     },
     "output_type": "display_data"
    }
   ],
   "source": [
    "plot_tree(model_full)\n",
    "plt.show()"
   ]
  },
  {
   "cell_type": "code",
   "execution_count": 66,
   "metadata": {
    "ExecuteTime": {
     "end_time": "2019-07-11T10:43:40.778634Z",
     "start_time": "2019-07-11T10:43:40.046638Z"
    }
   },
   "outputs": [
    {
     "data": {
      "image/png": "[encoded data removed]",
      "text/plain": [
       "<Figure size 720x576 with 1 Axes>"
      ]
     },
     "metadata": {
      "needs_background": "light"
     },
     "output_type": "display_data"
    }
   ],
   "source": [
    "plt.figure(figsize=(10, 8))\n",
    "plt.hist(pd.Series(y_pred_full), bins=25, alpha=0.75, density=True, label='predicted')\n",
    "plt.hist(pd.Series(y.ravel()), bins=25, alpha=0.75, density=True, label='observed')\n",
    "plt.legend()\n",
    "plt.show()"
   ]
  },
  {
   "cell_type": "code",
   "execution_count": 70,
   "metadata": {
    "ExecuteTime": {
     "end_time": "2019-07-11T14:49:41.609933Z",
     "start_time": "2019-07-11T14:49:41.109226Z"
    }
   },
   "outputs": [
    {
     "data": {
      "image/png": "[encoded data removed]",
      "text/plain": [
       "<Figure size 720x576 with 1 Axes>"
      ]
     },
     "metadata": {
      "needs_background": "light"
     },
     "output_type": "display_data"
    }
   ],
   "source": [
    "plt.figure(figsize=(10, 8))\n",
    "plt.scatter(pd.Series(y.ravel()), pd.Series(y_pred_full), alpha=0.25)\n",
    "plt.plot(np.linspace(-5, 25), np.linspace(-5, 25))\n",
    "plt.ylabel('Predicted total points')\n",
    "plt.xlabel('Observed total points')\n",
    "plt.ylim((-2, 10))\n",
    "plt.show()"
   ]
  },
  {
   "cell_type": "code",
   "execution_count": null,
   "metadata": {},
   "outputs": [],
   "source": []
  }
 ],
 "metadata": {
  "kernelspec": {
   "display_name": "Python 3",
   "language": "python",
   "name": "python3"
  },
  "language_info": {
   "codemirror_mode": {
    "name": "ipython",
    "version": 3
   },
   "file_extension": ".py",
   "mimetype": "text/x-python",
   "name": "python",
   "nbconvert_exporter": "python",
   "pygments_lexer": "ipython3",
   "version": "3.6.7"
  },
  "toc": {
   "nav_menu": {},
   "number_sections": true,
   "sideBar": true,
   "skip_h1_title": false,
   "title_cell": "Table of Contents",
   "title_sidebar": "Contents",
   "toc_cell": false,
   "toc_position": {},
   "toc_section_display": true,
   "toc_window_display": false
  }
 },
 "nbformat": 4,
 "nbformat_minor": 2
}
