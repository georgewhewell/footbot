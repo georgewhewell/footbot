{
 "cells": [
  {
   "cell_type": "markdown",
   "metadata": {},
   "source": [
    "# Set up"
   ]
  },
  {
   "cell_type": "code",
   "execution_count": 1,
   "metadata": {
    "ExecuteTime": {
     "end_time": "2019-03-23T16:16:57.160675Z",
     "start_time": "2019-03-23T16:16:57.154120Z"
    }
   },
   "outputs": [],
   "source": [
    "# update path with data dir\n",
    "import sys\n",
    "sys.path.append('../data/')\n",
    "sys.path.append('../modelling/')"
   ]
  },
  {
   "cell_type": "code",
   "execution_count": 2,
   "metadata": {
    "ExecuteTime": {
     "end_time": "2019-03-23T16:16:58.781978Z",
     "start_time": "2019-03-23T16:16:57.472835Z"
    }
   },
   "outputs": [
    {
     "name": "stderr",
     "output_type": "stream",
     "text": [
      "/home/tom/footbot/venv/lib/python3.6/site-packages/statsmodels/compat/pandas.py:56: FutureWarning: The pandas.core.datetools module is deprecated and will be removed in a future version. Please use the pandas.tseries module instead.\n",
      "  from pandas.core import datetools\n"
     ]
    }
   ],
   "source": [
    "import player_data as player\n",
    "import goodness_fit\n",
    "import pandas as pd\n",
    "from datetime import datetime\n",
    "import statsmodels.api as sm\n",
    "import matplotlib.pyplot as plt\n",
    "import numpy as np\n",
    "import patsy"
   ]
  },
  {
   "cell_type": "markdown",
   "metadata": {},
   "source": [
    "# Get data"
   ]
  },
  {
   "cell_type": "code",
   "execution_count": 34,
   "metadata": {
    "ExecuteTime": {
     "end_time": "2019-03-23T16:22:12.530716Z",
     "start_time": "2019-03-23T16:22:12.524657Z"
    }
   },
   "outputs": [],
   "source": [
    "file_name = 'csvs/element_gameweek_' + datetime.today().strftime('%Y-%m-%d') + '.csv'"
   ]
  },
  {
   "cell_type": "code",
   "execution_count": 35,
   "metadata": {
    "ExecuteTime": {
     "end_time": "2019-03-23T16:22:12.836356Z",
     "start_time": "2019-03-23T16:22:12.663500Z"
    }
   },
   "outputs": [],
   "source": [
    "try:\n",
    "    element_gameweek_df = pd.read_csv(file_name)\n",
    "except:\n",
    "    element_gameweek_df = player.get_element_gameweek_df()\n",
    "    element_gameweek_df.to_csv(file_name)"
   ]
  },
  {
   "cell_type": "code",
   "execution_count": 36,
   "metadata": {
    "ExecuteTime": {
     "end_time": "2019-03-23T16:22:12.844328Z",
     "start_time": "2019-03-23T16:22:12.840596Z"
    }
   },
   "outputs": [],
   "source": [
    "current_event = 30\n",
    "element_types = [1, 2, 3]\n",
    "threshold_minutes = 1"
   ]
  },
  {
   "cell_type": "code",
   "execution_count": 37,
   "metadata": {
    "ExecuteTime": {
     "end_time": "2019-03-23T16:22:13.038822Z",
     "start_time": "2019-03-23T16:22:13.022648Z"
    }
   },
   "outputs": [],
   "source": [
    "element_gameweek_df =\\\n",
    "element_gameweek_df[\n",
    "    (element_gameweek_df['event'] <= current_event)\n",
    "    & (element_gameweek_df['element_type'].isin(element_types))\n",
    "    & (element_gameweek_df['minutes'] >= threshold_minutes)\n",
    "]"
   ]
  },
  {
   "cell_type": "code",
   "execution_count": 38,
   "metadata": {
    "ExecuteTime": {
     "end_time": "2019-03-23T16:22:13.377902Z",
     "start_time": "2019-03-23T16:22:13.233638Z"
    }
   },
   "outputs": [],
   "source": [
    "element_gameweek_df['clean_sheets_no_time'] =\\\n",
    "element_gameweek_df['goals_conceded'].apply(lambda x: 1 if x == 0 else 0)"
   ]
  },
  {
   "cell_type": "markdown",
   "metadata": {},
   "source": [
    "# Models"
   ]
  },
  {
   "cell_type": "markdown",
   "metadata": {},
   "source": [
    "## Bernoulli teams model"
   ]
  },
  {
   "cell_type": "markdown",
   "metadata": {},
   "source": [
    "### Preparing data"
   ]
  },
  {
   "cell_type": "code",
   "execution_count": 39,
   "metadata": {
    "ExecuteTime": {
     "end_time": "2019-03-23T16:22:34.435157Z",
     "start_time": "2019-03-23T16:22:34.424764Z"
    }
   },
   "outputs": [],
   "source": [
    "btm_df = element_gameweek_df.copy()"
   ]
  },
  {
   "cell_type": "code",
   "execution_count": 40,
   "metadata": {
    "ExecuteTime": {
     "end_time": "2019-03-23T16:22:35.106795Z",
     "start_time": "2019-03-23T16:22:34.903731Z"
    }
   },
   "outputs": [],
   "source": [
    "btm_formula = 'clean_sheets_no_time ~ C(opposition_team) + C(own_team)'\n",
    "\n",
    "btm_response_df, btm_explanatory_df = patsy.dmatrices(btm_formula, btm_df, return_type='dataframe')"
   ]
  },
  {
   "cell_type": "markdown",
   "metadata": {},
   "source": [
    "### Fitting model"
   ]
  },
  {
   "cell_type": "code",
   "execution_count": 41,
   "metadata": {
    "ExecuteTime": {
     "end_time": "2019-03-23T16:22:36.135237Z",
     "start_time": "2019-03-23T16:22:35.964516Z"
    }
   },
   "outputs": [],
   "source": [
    "btm_results = sm.GLM(\n",
    "    btm_response_df,\n",
    "    btm_explanatory_df,\n",
    "    family=sm.families.Binomial(),\n",
    "    missing='drop'\n",
    ").fit()"
   ]
  },
  {
   "cell_type": "code",
   "execution_count": 42,
   "metadata": {
    "ExecuteTime": {
     "end_time": "2019-03-23T16:22:36.478669Z",
     "start_time": "2019-03-23T16:22:36.423199Z"
    }
   },
   "outputs": [
    {
     "name": "stdout",
     "output_type": "stream",
     "text": [
      "                  Generalized Linear Model Regression Results                   \n",
      "================================================================================\n",
      "Dep. Variable:     clean_sheets_no_time   No. Observations:                 6985\n",
      "Model:                              GLM   Df Residuals:                     6946\n",
      "Model Family:                  Binomial   Df Model:                           38\n",
      "Link Function:                    logit   Scale:                             1.0\n",
      "Method:                            IRLS   Log-Likelihood:                -4144.3\n",
      "Date:                  Sat, 23 Mar 2019   Deviance:                       8288.7\n",
      "Time:                          16:22:36   Pearson chi2:                 6.98e+03\n",
      "No. Iterations:                       4                                         \n",
      "============================================================================================\n",
      "                               coef    std err          z      P>|z|      [0.025      0.975]\n",
      "--------------------------------------------------------------------------------------------\n",
      "Intercept                   -1.9273      0.192    -10.038      0.000      -2.304      -1.551\n",
      "C(opposition_team)[T.2]      1.3089      0.186      7.043      0.000       0.945       1.673\n",
      "C(opposition_team)[T.3]      1.0659      0.191      5.585      0.000       0.692       1.440\n",
      "C(opposition_team)[T.4]      1.3891      0.187      7.439      0.000       1.023       1.755\n",
      "C(opposition_team)[T.5]      1.8204      0.185      9.828      0.000       1.457       2.183\n",
      "C(opposition_team)[T.6]      0.9505      0.191      4.964      0.000       0.575       1.326\n",
      "C(opposition_team)[T.7]      1.2682      0.187      6.779      0.000       0.902       1.635\n",
      "C(opposition_team)[T.8]      1.0477      0.188      5.559      0.000       0.678       1.417\n",
      "C(opposition_team)[T.9]      1.7368      0.185      9.389      0.000       1.374       2.099\n",
      "C(opposition_team)[T.10]     2.2580      0.187     12.084      0.000       1.892       2.624\n",
      "C(opposition_team)[T.11]     0.7130      0.192      3.708      0.000       0.336       1.090\n",
      "C(opposition_team)[T.12]     0.3763      0.202      1.867      0.062      -0.019       0.771\n",
      "C(opposition_team)[T.13]     0.0622      0.208      0.299      0.765      -0.345       0.470\n",
      "C(opposition_team)[T.14]     0.3653      0.201      1.817      0.069      -0.029       0.759\n",
      "C(opposition_team)[T.15]     1.5598      0.185      8.442      0.000       1.198       1.922\n",
      "C(opposition_team)[T.16]     1.3045      0.186      7.006      0.000       0.940       1.669\n",
      "C(opposition_team)[T.17]     0.4716      0.199      2.373      0.018       0.082       0.861\n",
      "C(opposition_team)[T.18]     1.0521      0.188      5.607      0.000       0.684       1.420\n",
      "C(opposition_team)[T.19]     1.6454      0.186      8.850      0.000       1.281       2.010\n",
      "C(opposition_team)[T.20]     1.1202      0.188      5.973      0.000       0.753       1.488\n",
      "C(own_team)[T.2]             0.1851      0.169      1.094      0.274      -0.147       0.517\n",
      "C(own_team)[T.3]            -0.2066      0.174     -1.186      0.236      -0.548       0.135\n",
      "C(own_team)[T.4]            -0.4089      0.181     -2.256      0.024      -0.764      -0.054\n",
      "C(own_team)[T.5]             0.1015      0.165      0.614      0.539      -0.223       0.426\n",
      "C(own_team)[T.6]             0.8355      0.162      5.148      0.000       0.517       1.154\n",
      "C(own_team)[T.7]             0.2551      0.168      1.514      0.130      -0.075       0.585\n",
      "C(own_team)[T.8]             0.1858      0.164      1.130      0.259      -0.137       0.508\n",
      "C(own_team)[T.9]            -0.8263      0.189     -4.382      0.000      -1.196      -0.457\n",
      "C(own_team)[T.10]           -0.2393      0.174     -1.378      0.168      -0.580       0.101\n",
      "C(own_team)[T.11]           -0.0208      0.169     -0.123      0.902      -0.352       0.310\n",
      "C(own_team)[T.12]            1.4247      0.164      8.661      0.000       1.102       1.747\n",
      "C(own_team)[T.13]            1.0464      0.162      6.475      0.000       0.730       1.363\n",
      "C(own_team)[T.14]            0.1532      0.165      0.930      0.352      -0.170       0.476\n",
      "C(own_team)[T.15]            0.3580      0.168      2.136      0.033       0.029       0.687\n",
      "C(own_team)[T.16]           -0.1065      0.174     -0.612      0.541      -0.448       0.235\n",
      "C(own_team)[T.17]            0.6222      0.161      3.866      0.000       0.307       0.938\n",
      "C(own_team)[T.18]            0.1771      0.168      1.055      0.292      -0.152       0.506\n",
      "C(own_team)[T.19]           -0.1293      0.170     -0.759      0.448      -0.463       0.205\n",
      "C(own_team)[T.20]            0.1445      0.163      0.887      0.375      -0.175       0.464\n",
      "============================================================================================\n"
     ]
    }
   ],
   "source": [
    "print(btm_results.summary())"
   ]
  },
  {
   "cell_type": "markdown",
   "metadata": {},
   "source": [
    "### Model fit"
   ]
  },
  {
   "cell_type": "code",
   "execution_count": 43,
   "metadata": {
    "ExecuteTime": {
     "end_time": "2019-03-23T16:22:37.319823Z",
     "start_time": "2019-03-23T16:22:37.313407Z"
    }
   },
   "outputs": [
    {
     "data": {
      "text/plain": [
       "8366.689508217783"
      ]
     },
     "execution_count": 43,
     "metadata": {},
     "output_type": "execute_result"
    }
   ],
   "source": [
    "btm_results.aic"
   ]
  },
  {
   "cell_type": "code",
   "execution_count": 44,
   "metadata": {
    "ExecuteTime": {
     "end_time": "2019-03-23T16:22:37.669857Z",
     "start_time": "2019-03-23T16:22:37.663722Z"
    }
   },
   "outputs": [
    {
     "data": {
      "text/plain": [
       "-53193.970298948334"
      ]
     },
     "execution_count": 44,
     "metadata": {},
     "output_type": "execute_result"
    }
   ],
   "source": [
    "btm_results.bic"
   ]
  },
  {
   "cell_type": "code",
   "execution_count": 45,
   "metadata": {
    "ExecuteTime": {
     "end_time": "2019-03-23T16:22:38.111364Z",
     "start_time": "2019-03-23T16:22:38.102710Z"
    }
   },
   "outputs": [
    {
     "data": {
      "text/plain": [
       "(False, 0.39744704345583903)"
      ]
     },
     "execution_count": 45,
     "metadata": {},
     "output_type": "execute_result"
    }
   ],
   "source": [
    "btm_pearson_results = goodness_fit.pearson_chi_squared_test(btm_results)\n",
    "btm_pearson_results"
   ]
  },
  {
   "cell_type": "code",
   "execution_count": 46,
   "metadata": {
    "ExecuteTime": {
     "end_time": "2019-03-23T16:22:38.618668Z",
     "start_time": "2019-03-23T16:22:38.603790Z"
    }
   },
   "outputs": [
    {
     "data": {
      "text/plain": [
       "count    6985.000000\n",
       "mean       -0.083157\n",
       "std         1.086230\n",
       "min        -1.790021\n",
       "25%        -0.920625\n",
       "50%        -0.647534\n",
       "75%         1.144107\n",
       "max         2.348161\n",
       "dtype: float64"
      ]
     },
     "execution_count": 46,
     "metadata": {},
     "output_type": "execute_result"
    }
   ],
   "source": [
    "btm_results.resid_deviance.describe()"
   ]
  },
  {
   "cell_type": "code",
   "execution_count": 47,
   "metadata": {
    "ExecuteTime": {
     "end_time": "2019-03-23T16:22:39.599710Z",
     "start_time": "2019-03-23T16:22:39.268702Z"
    }
   },
   "outputs": [
    {
     "data": {
      "image/png": "[encoded data removed]",
      "text/plain": [
       "<Figure size 432x288 with 1 Axes>"
      ]
     },
     "metadata": {
      "needs_background": "light"
     },
     "output_type": "display_data"
    }
   ],
   "source": [
    "plt.figure()\n",
    "plt.hist(btm_results.resid_deviance)\n",
    "plt.show()"
   ]
  },
  {
   "cell_type": "markdown",
   "metadata": {},
   "source": [
    "## Bernoulli teams minutes model"
   ]
  },
  {
   "cell_type": "markdown",
   "metadata": {},
   "source": [
    "### Preparing data"
   ]
  },
  {
   "cell_type": "code",
   "execution_count": 110,
   "metadata": {
    "ExecuteTime": {
     "end_time": "2019-03-23T16:28:43.223980Z",
     "start_time": "2019-03-23T16:28:43.215304Z"
    }
   },
   "outputs": [],
   "source": [
    "btmm_df = element_gameweek_df.copy()"
   ]
  },
  {
   "cell_type": "code",
   "execution_count": 129,
   "metadata": {
    "ExecuteTime": {
     "end_time": "2019-03-23T16:29:35.012562Z",
     "start_time": "2019-03-23T16:29:34.825249Z"
    }
   },
   "outputs": [],
   "source": [
    "btmm_formula = 'clean_sheets_no_time ~ minutes + C(opposition_team) + C(own_team)'\n",
    "\n",
    "btmm_response_df, btmm_explanatory_df = patsy.dmatrices(btmm_formula, btmm_df, return_type='dataframe')"
   ]
  },
  {
   "cell_type": "markdown",
   "metadata": {},
   "source": [
    "### Fitting model"
   ]
  },
  {
   "cell_type": "code",
   "execution_count": 130,
   "metadata": {
    "ExecuteTime": {
     "end_time": "2019-03-23T16:29:36.145051Z",
     "start_time": "2019-03-23T16:29:35.953748Z"
    }
   },
   "outputs": [],
   "source": [
    "btmm_results = sm.GLM(\n",
    "    btmm_response_df,\n",
    "    btmm_explanatory_df,\n",
    "    family=sm.families.Binomial(),\n",
    "    missing='drop'\n",
    ").fit()"
   ]
  },
  {
   "cell_type": "code",
   "execution_count": 131,
   "metadata": {
    "ExecuteTime": {
     "end_time": "2019-03-23T16:29:36.212335Z",
     "start_time": "2019-03-23T16:29:36.156226Z"
    }
   },
   "outputs": [
    {
     "name": "stdout",
     "output_type": "stream",
     "text": [
      "                  Generalized Linear Model Regression Results                   \n",
      "================================================================================\n",
      "Dep. Variable:     clean_sheets_no_time   No. Observations:                 6985\n",
      "Model:                              GLM   Df Residuals:                     6945\n",
      "Model Family:                  Binomial   Df Model:                           39\n",
      "Link Function:                    logit   Scale:                             1.0\n",
      "Method:                            IRLS   Log-Likelihood:                -3741.1\n",
      "Date:                  Sat, 23 Mar 2019   Deviance:                       7482.2\n",
      "Time:                          16:29:36   Pearson chi2:                 6.83e+03\n",
      "No. Iterations:                       5                                         \n",
      "============================================================================================\n",
      "                               coef    std err          z      P>|z|      [0.025      0.975]\n",
      "--------------------------------------------------------------------------------------------\n",
      "Intercept                   -0.0436      0.215     -0.203      0.839      -0.465       0.378\n",
      "C(opposition_team)[T.2]      1.4271      0.199      7.165      0.000       1.037       1.817\n",
      "C(opposition_team)[T.3]      1.1963      0.204      5.873      0.000       0.797       1.596\n",
      "C(opposition_team)[T.4]      1.5426      0.200      7.725      0.000       1.151       1.934\n",
      "C(opposition_team)[T.5]      2.0264      0.198     10.251      0.000       1.639       2.414\n",
      "C(opposition_team)[T.6]      1.0667      0.205      5.194      0.000       0.664       1.469\n",
      "C(opposition_team)[T.7]      1.3839      0.201      6.900      0.000       0.991       1.777\n",
      "C(opposition_team)[T.8]      1.1325      0.202      5.611      0.000       0.737       1.528\n",
      "C(opposition_team)[T.9]      1.9365      0.198      9.778      0.000       1.548       2.325\n",
      "C(opposition_team)[T.10]     2.4519      0.199     12.309      0.000       2.061       2.842\n",
      "C(opposition_team)[T.11]     0.7531      0.206      3.652      0.000       0.349       1.157\n",
      "C(opposition_team)[T.12]     0.3594      0.216      1.662      0.097      -0.065       0.783\n",
      "C(opposition_team)[T.13]    -0.0112      0.222     -0.051      0.960      -0.446       0.423\n",
      "C(opposition_team)[T.14]     0.3755      0.215      1.744      0.081      -0.047       0.798\n",
      "C(opposition_team)[T.15]     1.7124      0.198      8.663      0.000       1.325       2.100\n",
      "C(opposition_team)[T.16]     1.4229      0.200      7.127      0.000       1.032       1.814\n",
      "C(opposition_team)[T.17]     0.4886      0.212      2.303      0.021       0.073       0.904\n",
      "C(opposition_team)[T.18]     1.1367      0.201      5.658      0.000       0.743       1.531\n",
      "C(opposition_team)[T.19]     1.8232      0.199      9.183      0.000       1.434       2.212\n",
      "C(opposition_team)[T.20]     1.2175      0.201      6.069      0.000       0.824       1.611\n",
      "C(own_team)[T.2]             0.2912      0.181      1.611      0.107      -0.063       0.646\n",
      "C(own_team)[T.3]            -0.0900      0.186     -0.485      0.628      -0.454       0.274\n",
      "C(own_team)[T.4]            -0.1881      0.192     -0.979      0.328      -0.565       0.189\n",
      "C(own_team)[T.5]             0.1967      0.177      1.112      0.266      -0.150       0.544\n",
      "C(own_team)[T.6]             0.9922      0.173      5.739      0.000       0.653       1.331\n",
      "C(own_team)[T.7]             0.4618      0.180      2.572      0.010       0.110       0.814\n",
      "C(own_team)[T.8]             0.3247      0.176      1.848      0.065      -0.020       0.669\n",
      "C(own_team)[T.9]            -0.9551      0.201     -4.749      0.000      -1.349      -0.561\n",
      "C(own_team)[T.10]           -0.2057      0.186     -1.107      0.268      -0.570       0.158\n",
      "C(own_team)[T.11]            0.1060      0.180      0.589      0.556      -0.247       0.459\n",
      "C(own_team)[T.12]            1.6727      0.175      9.564      0.000       1.330       2.015\n",
      "C(own_team)[T.13]            1.2345      0.173      7.155      0.000       0.896       1.573\n",
      "C(own_team)[T.14]            0.1558      0.177      0.880      0.379      -0.191       0.503\n",
      "C(own_team)[T.15]            0.4955      0.179      2.764      0.006       0.144       0.847\n",
      "C(own_team)[T.16]            0.0715      0.185      0.386      0.699      -0.291       0.435\n",
      "C(own_team)[T.17]            0.7385      0.172      4.289      0.000       0.401       1.076\n",
      "C(own_team)[T.18]            0.3156      0.180      1.756      0.079      -0.037       0.668\n",
      "C(own_team)[T.19]           -0.0929      0.182     -0.510      0.610      -0.450       0.264\n",
      "C(own_team)[T.20]            0.1339      0.175      0.765      0.444      -0.209       0.477\n",
      "minutes                     -0.0286      0.001    -26.352      0.000      -0.031      -0.026\n",
      "============================================================================================\n"
     ]
    }
   ],
   "source": [
    "print(btmm_results.summary())"
   ]
  },
  {
   "cell_type": "markdown",
   "metadata": {},
   "source": [
    "### Model fit"
   ]
  },
  {
   "cell_type": "code",
   "execution_count": 132,
   "metadata": {
    "ExecuteTime": {
     "end_time": "2019-03-23T16:29:36.485648Z",
     "start_time": "2019-03-23T16:29:36.479157Z"
    }
   },
   "outputs": [
    {
     "data": {
      "text/plain": [
       "7562.236546868067"
      ]
     },
     "execution_count": 132,
     "metadata": {},
     "output_type": "execute_result"
    }
   ],
   "source": [
    "btmm_results.aic"
   ]
  },
  {
   "cell_type": "code",
   "execution_count": 133,
   "metadata": {
    "ExecuteTime": {
     "end_time": "2019-03-23T16:29:36.684197Z",
     "start_time": "2019-03-23T16:29:36.678276Z"
    }
   },
   "outputs": [
    {
     "data": {
      "text/plain": [
       "-53991.57174002635"
      ]
     },
     "execution_count": 133,
     "metadata": {},
     "output_type": "execute_result"
    }
   ],
   "source": [
    "btmm_results.bic"
   ]
  },
  {
   "cell_type": "code",
   "execution_count": 134,
   "metadata": {
    "ExecuteTime": {
     "end_time": "2019-03-23T16:29:36.883347Z",
     "start_time": "2019-03-23T16:29:36.874132Z"
    }
   },
   "outputs": [
    {
     "data": {
      "text/plain": [
       "(False, 0.8451566253656166)"
      ]
     },
     "execution_count": 134,
     "metadata": {},
     "output_type": "execute_result"
    }
   ],
   "source": [
    "btmm_pearson_results = goodness_fit.pearson_chi_squared_test(btmm_results)\n",
    "btmm_pearson_results"
   ]
  },
  {
   "cell_type": "code",
   "execution_count": 135,
   "metadata": {
    "ExecuteTime": {
     "end_time": "2019-03-23T16:29:37.075767Z",
     "start_time": "2019-03-23T16:29:37.064096Z"
    }
   },
   "outputs": [
    {
     "data": {
      "text/plain": [
       "count    6985.000000\n",
       "mean       -0.079988\n",
       "std         1.031960\n",
       "min        -2.512010\n",
       "25%        -0.823552\n",
       "50%        -0.519472\n",
       "75%         0.954085\n",
       "max         2.356799\n",
       "dtype: float64"
      ]
     },
     "execution_count": 135,
     "metadata": {},
     "output_type": "execute_result"
    }
   ],
   "source": [
    "btmm_results.resid_deviance.describe()"
   ]
  },
  {
   "cell_type": "code",
   "execution_count": 136,
   "metadata": {
    "ExecuteTime": {
     "end_time": "2019-03-23T16:29:37.582223Z",
     "start_time": "2019-03-23T16:29:37.293301Z"
    }
   },
   "outputs": [
    {
     "data": {
      "image/png": "[encoded data removed]",
      "text/plain": [
       "<Figure size 432x288 with 1 Axes>"
      ]
     },
     "metadata": {
      "needs_background": "light"
     },
     "output_type": "display_data"
    }
   ],
   "source": [
    "plt.figure()\n",
    "plt.hist(btmm_results.resid_deviance)\n",
    "plt.show()"
   ]
  },
  {
   "cell_type": "markdown",
   "metadata": {},
   "source": [
    "# Model comparison"
   ]
  },
  {
   "cell_type": "code",
   "execution_count": 137,
   "metadata": {
    "ExecuteTime": {
     "end_time": "2019-03-23T16:29:38.281818Z",
     "start_time": "2019-03-23T16:29:38.274262Z"
    }
   },
   "outputs": [
    {
     "data": {
      "text/plain": [
       "{'Bernoulli teams': 8366.689508217783,\n",
       " 'Bernoulli teams minutes': 7562.236546868067}"
      ]
     },
     "execution_count": 137,
     "metadata": {},
     "output_type": "execute_result"
    }
   ],
   "source": [
    "{\n",
    "    'Bernoulli teams': btm_results.aic,\n",
    "    'Bernoulli teams minutes': btmm_results.aic,\n",
    "}"
   ]
  },
  {
   "cell_type": "markdown",
   "metadata": {},
   "source": [
    "AIC prefers..."
   ]
  },
  {
   "cell_type": "code",
   "execution_count": 138,
   "metadata": {
    "ExecuteTime": {
     "end_time": "2019-03-23T16:29:38.923469Z",
     "start_time": "2019-03-23T16:29:38.914391Z"
    }
   },
   "outputs": [
    {
     "data": {
      "text/plain": [
       "{'Bernoulli teams': -53193.970298948334,\n",
       " 'Bernoulli teams minutes': -53991.57174002635}"
      ]
     },
     "execution_count": 138,
     "metadata": {},
     "output_type": "execute_result"
    }
   ],
   "source": [
    "{\n",
    "    'Bernoulli teams': btm_results.bic,\n",
    "    'Bernoulli teams minutes': btmm_results.bic,\n",
    "}"
   ]
  },
  {
   "cell_type": "markdown",
   "metadata": {},
   "source": [
    "BIC prefers..."
   ]
  },
  {
   "cell_type": "code",
   "execution_count": 139,
   "metadata": {
    "ExecuteTime": {
     "end_time": "2019-03-23T16:29:41.383230Z",
     "start_time": "2019-03-23T16:29:41.374874Z"
    }
   },
   "outputs": [
    {
     "data": {
      "text/plain": [
       "{'Bernoulli teams': (False, 0.39744704345583903),\n",
       " 'Bernoulli teams minutes': (False, 0.8451566253656166)}"
      ]
     },
     "execution_count": 139,
     "metadata": {},
     "output_type": "execute_result"
    }
   ],
   "source": [
    "{\n",
    "    'Bernoulli teams': btm_pearson_results,\n",
    "    'Bernoulli teams minutes': btmm_pearson_results,\n",
    "}"
   ]
  },
  {
   "cell_type": "markdown",
   "metadata": {},
   "source": [
    "... fit"
   ]
  },
  {
   "cell_type": "code",
   "execution_count": null,
   "metadata": {},
   "outputs": [],
   "source": []
  }
 ],
 "metadata": {
  "kernelspec": {
   "display_name": "Python 3",
   "language": "python",
   "name": "python3"
  },
  "language_info": {
   "codemirror_mode": {
    "name": "ipython",
    "version": 3
   },
   "file_extension": ".py",
   "mimetype": "text/x-python",
   "name": "python",
   "nbconvert_exporter": "python",
   "pygments_lexer": "ipython3",
   "version": "3.6.7"
  },
  "toc": {
   "nav_menu": {},
   "number_sections": true,
   "sideBar": true,
   "skip_h1_title": false,
   "title_cell": "Table of Contents",
   "title_sidebar": "Contents",
   "toc_cell": false,
   "toc_position": {},
   "toc_section_display": true,
   "toc_window_display": false
  }
 },
 "nbformat": 4,
 "nbformat_minor": 2
}
