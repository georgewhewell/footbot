{
 "cells": [
  {
   "cell_type": "markdown",
   "metadata": {
    "heading_collapsed": true
   },
   "source": [
    "# Set up"
   ]
  },
  {
   "cell_type": "code",
   "execution_count": 1,
   "metadata": {
    "ExecuteTime": {
     "end_time": "2019-04-08T15:16:36.335641Z",
     "start_time": "2019-04-08T15:16:36.332247Z"
    },
    "hidden": true
   },
   "outputs": [],
   "source": [
    "# update path with data dir\n",
    "import sys\n",
    "sys.path.append('../data/')\n",
    "sys.path.append('../modelling/')"
   ]
  },
  {
   "cell_type": "code",
   "execution_count": 2,
   "metadata": {
    "ExecuteTime": {
     "end_time": "2019-04-08T15:16:37.618520Z",
     "start_time": "2019-04-08T15:16:36.338306Z"
    },
    "hidden": true
   },
   "outputs": [
    {
     "name": "stderr",
     "output_type": "stream",
     "text": [
      "/home/tom/footbot/venv/lib/python3.6/site-packages/statsmodels/compat/pandas.py:56: FutureWarning: The pandas.core.datetools module is deprecated and will be removed in a future version. Please use the pandas.tseries module instead.\n",
      "  from pandas.core import datetools\n"
     ]
    }
   ],
   "source": [
    "import player_data as player\n",
    "import goodness_fit\n",
    "import pandas as pd\n",
    "from datetime import datetime\n",
    "import statsmodels.api as sm\n",
    "import matplotlib.pyplot as plt\n",
    "import numpy as np"
   ]
  },
  {
   "cell_type": "markdown",
   "metadata": {
    "heading_collapsed": true
   },
   "source": [
    "# Get data"
   ]
  },
  {
   "cell_type": "code",
   "execution_count": 3,
   "metadata": {
    "ExecuteTime": {
     "end_time": "2019-04-08T15:16:37.625153Z",
     "start_time": "2019-04-08T15:16:37.621762Z"
    },
    "hidden": true
   },
   "outputs": [],
   "source": [
    "file_name = 'csvs/element_gameweek_' + datetime.today().strftime('%Y-%m-%d') + '.csv'"
   ]
  },
  {
   "cell_type": "code",
   "execution_count": 4,
   "metadata": {
    "ExecuteTime": {
     "end_time": "2019-04-08T15:16:37.839729Z",
     "start_time": "2019-04-08T15:16:37.628079Z"
    },
    "hidden": true
   },
   "outputs": [],
   "source": [
    "try:\n",
    "    element_gameweek_df = pd.read_csv(file_name)\n",
    "except:\n",
    "    element_gameweek_df = player.get_element_gameweek_df()\n",
    "    element_gameweek_df.to_csv(file_name)"
   ]
  },
  {
   "cell_type": "code",
   "execution_count": 5,
   "metadata": {
    "ExecuteTime": {
     "end_time": "2019-04-08T15:16:37.846563Z",
     "start_time": "2019-04-08T15:16:37.842878Z"
    },
    "hidden": true
   },
   "outputs": [],
   "source": [
    "current_event = 32\n",
    "element_types = [2, 3, 4]\n",
    "threshold_minutes = 1"
   ]
  },
  {
   "cell_type": "code",
   "execution_count": 6,
   "metadata": {
    "ExecuteTime": {
     "end_time": "2019-04-08T15:16:37.884566Z",
     "start_time": "2019-04-08T15:16:37.848858Z"
    },
    "hidden": true
   },
   "outputs": [],
   "source": [
    "element_gameweek_df =\\\n",
    "element_gameweek_df[\n",
    "    (element_gameweek_df['event'] <= current_event)\n",
    "    & (element_gameweek_df['element_type'].isin(element_types))\n",
    "    & (element_gameweek_df['minutes'] >= threshold_minutes)\n",
    "]"
   ]
  },
  {
   "cell_type": "code",
   "execution_count": 7,
   "metadata": {
    "ExecuteTime": {
     "end_time": "2019-04-08T15:16:38.004852Z",
     "start_time": "2019-04-08T15:16:37.887223Z"
    },
    "hidden": true
   },
   "outputs": [],
   "source": [
    "player.add_home_categorical_variable(element_gameweek_df)"
   ]
  },
  {
   "cell_type": "code",
   "execution_count": 8,
   "metadata": {
    "ExecuteTime": {
     "end_time": "2019-04-08T15:16:38.038129Z",
     "start_time": "2019-04-08T15:16:38.007464Z"
    },
    "hidden": true
   },
   "outputs": [],
   "source": [
    "element_gameweek_df['row_id'] = element_gameweek_df['row_id'].rank()"
   ]
  },
  {
   "cell_type": "code",
   "execution_count": 9,
   "metadata": {
    "ExecuteTime": {
     "end_time": "2019-04-08T15:16:38.068795Z",
     "start_time": "2019-04-08T15:16:38.043035Z"
    },
    "hidden": true
   },
   "outputs": [],
   "source": [
    "element_gameweek_df['element_fixture_rank'] = element_gameweek_df.groupby('element')['row_id'].rank()"
   ]
  },
  {
   "cell_type": "code",
   "execution_count": 10,
   "metadata": {
    "ExecuteTime": {
     "end_time": "2019-04-08T15:16:38.170176Z",
     "start_time": "2019-04-08T15:16:38.073809Z"
    },
    "hidden": true
   },
   "outputs": [
    {
     "data": {
      "text/html": [
       "<div>\n",
       "<style scoped>\n",
       "    .dataframe tbody tr th:only-of-type {\n",
       "        vertical-align: middle;\n",
       "    }\n",
       "\n",
       "    .dataframe tbody tr th {\n",
       "        vertical-align: top;\n",
       "    }\n",
       "\n",
       "    .dataframe thead th {\n",
       "        text-align: right;\n",
       "    }\n",
       "</style>\n",
       "<table border=\"1\" class=\"dataframe\">\n",
       "  <thead>\n",
       "    <tr style=\"text-align: right;\">\n",
       "      <th></th>\n",
       "      <th>row_id</th>\n",
       "      <th>assists</th>\n",
       "      <th>attempted_passes</th>\n",
       "      <th>big_chances_created</th>\n",
       "      <th>big_chances_missed</th>\n",
       "      <th>bonus</th>\n",
       "      <th>bps</th>\n",
       "      <th>clean_sheets</th>\n",
       "      <th>clearances_blocks_interceptions</th>\n",
       "      <th>completed_passes</th>\n",
       "      <th>...</th>\n",
       "      <th>team_a_difficulty</th>\n",
       "      <th>team_h</th>\n",
       "      <th>team_h_difficulty</th>\n",
       "      <th>element_type</th>\n",
       "      <th>team</th>\n",
       "      <th>web_name</th>\n",
       "      <th>safe_web_name</th>\n",
       "      <th>own_team</th>\n",
       "      <th>opposition_team</th>\n",
       "      <th>element_fixture_rank</th>\n",
       "    </tr>\n",
       "  </thead>\n",
       "  <tbody>\n",
       "    <tr>\n",
       "      <th>80</th>\n",
       "      <td>1.0</td>\n",
       "      <td>0</td>\n",
       "      <td>92</td>\n",
       "      <td>0</td>\n",
       "      <td>0</td>\n",
       "      <td>0</td>\n",
       "      <td>11</td>\n",
       "      <td>0</td>\n",
       "      <td>6</td>\n",
       "      <td>85</td>\n",
       "      <td>...</td>\n",
       "      <td>2</td>\n",
       "      <td>16</td>\n",
       "      <td>4</td>\n",
       "      <td>2</td>\n",
       "      <td>1</td>\n",
       "      <td>Koscielny</td>\n",
       "      <td>koscielny</td>\n",
       "      <td>1</td>\n",
       "      <td>16</td>\n",
       "      <td>1.0</td>\n",
       "    </tr>\n",
       "    <tr>\n",
       "      <th>82</th>\n",
       "      <td>2.0</td>\n",
       "      <td>0</td>\n",
       "      <td>74</td>\n",
       "      <td>0</td>\n",
       "      <td>0</td>\n",
       "      <td>0</td>\n",
       "      <td>17</td>\n",
       "      <td>0</td>\n",
       "      <td>4</td>\n",
       "      <td>70</td>\n",
       "      <td>...</td>\n",
       "      <td>2</td>\n",
       "      <td>3</td>\n",
       "      <td>4</td>\n",
       "      <td>2</td>\n",
       "      <td>1</td>\n",
       "      <td>Koscielny</td>\n",
       "      <td>koscielny</td>\n",
       "      <td>1</td>\n",
       "      <td>3</td>\n",
       "      <td>2.0</td>\n",
       "    </tr>\n",
       "    <tr>\n",
       "      <th>83</th>\n",
       "      <td>3.0</td>\n",
       "      <td>0</td>\n",
       "      <td>38</td>\n",
       "      <td>0</td>\n",
       "      <td>0</td>\n",
       "      <td>0</td>\n",
       "      <td>10</td>\n",
       "      <td>0</td>\n",
       "      <td>2</td>\n",
       "      <td>36</td>\n",
       "      <td>...</td>\n",
       "      <td>5</td>\n",
       "      <td>12</td>\n",
       "      <td>4</td>\n",
       "      <td>2</td>\n",
       "      <td>1</td>\n",
       "      <td>Koscielny</td>\n",
       "      <td>koscielny</td>\n",
       "      <td>1</td>\n",
       "      <td>12</td>\n",
       "      <td>3.0</td>\n",
       "    </tr>\n",
       "    <tr>\n",
       "      <th>84</th>\n",
       "      <td>4.0</td>\n",
       "      <td>0</td>\n",
       "      <td>64</td>\n",
       "      <td>0</td>\n",
       "      <td>0</td>\n",
       "      <td>0</td>\n",
       "      <td>19</td>\n",
       "      <td>0</td>\n",
       "      <td>10</td>\n",
       "      <td>57</td>\n",
       "      <td>...</td>\n",
       "      <td>4</td>\n",
       "      <td>1</td>\n",
       "      <td>2</td>\n",
       "      <td>2</td>\n",
       "      <td>1</td>\n",
       "      <td>Koscielny</td>\n",
       "      <td>koscielny</td>\n",
       "      <td>1</td>\n",
       "      <td>9</td>\n",
       "      <td>4.0</td>\n",
       "    </tr>\n",
       "    <tr>\n",
       "      <th>85</th>\n",
       "      <td>5.0</td>\n",
       "      <td>0</td>\n",
       "      <td>89</td>\n",
       "      <td>0</td>\n",
       "      <td>0</td>\n",
       "      <td>0</td>\n",
       "      <td>17</td>\n",
       "      <td>0</td>\n",
       "      <td>2</td>\n",
       "      <td>87</td>\n",
       "      <td>...</td>\n",
       "      <td>3</td>\n",
       "      <td>19</td>\n",
       "      <td>4</td>\n",
       "      <td>2</td>\n",
       "      <td>1</td>\n",
       "      <td>Koscielny</td>\n",
       "      <td>koscielny</td>\n",
       "      <td>1</td>\n",
       "      <td>19</td>\n",
       "      <td>5.0</td>\n",
       "    </tr>\n",
       "    <tr>\n",
       "      <th>86</th>\n",
       "      <td>6.0</td>\n",
       "      <td>0</td>\n",
       "      <td>32</td>\n",
       "      <td>0</td>\n",
       "      <td>1</td>\n",
       "      <td>3</td>\n",
       "      <td>41</td>\n",
       "      <td>1</td>\n",
       "      <td>17</td>\n",
       "      <td>27</td>\n",
       "      <td>...</td>\n",
       "      <td>4</td>\n",
       "      <td>1</td>\n",
       "      <td>4</td>\n",
       "      <td>2</td>\n",
       "      <td>1</td>\n",
       "      <td>Koscielny</td>\n",
       "      <td>koscielny</td>\n",
       "      <td>1</td>\n",
       "      <td>6</td>\n",
       "      <td>6.0</td>\n",
       "    </tr>\n",
       "    <tr>\n",
       "      <th>88</th>\n",
       "      <td>7.0</td>\n",
       "      <td>0</td>\n",
       "      <td>36</td>\n",
       "      <td>0</td>\n",
       "      <td>0</td>\n",
       "      <td>0</td>\n",
       "      <td>26</td>\n",
       "      <td>0</td>\n",
       "      <td>10</td>\n",
       "      <td>32</td>\n",
       "      <td>...</td>\n",
       "      <td>5</td>\n",
       "      <td>13</td>\n",
       "      <td>4</td>\n",
       "      <td>2</td>\n",
       "      <td>1</td>\n",
       "      <td>Koscielny</td>\n",
       "      <td>koscielny</td>\n",
       "      <td>1</td>\n",
       "      <td>13</td>\n",
       "      <td>7.0</td>\n",
       "    </tr>\n",
       "    <tr>\n",
       "      <th>89</th>\n",
       "      <td>8.0</td>\n",
       "      <td>0</td>\n",
       "      <td>41</td>\n",
       "      <td>0</td>\n",
       "      <td>0</td>\n",
       "      <td>1</td>\n",
       "      <td>25</td>\n",
       "      <td>0</td>\n",
       "      <td>14</td>\n",
       "      <td>37</td>\n",
       "      <td>...</td>\n",
       "      <td>2</td>\n",
       "      <td>10</td>\n",
       "      <td>4</td>\n",
       "      <td>2</td>\n",
       "      <td>1</td>\n",
       "      <td>Koscielny</td>\n",
       "      <td>koscielny</td>\n",
       "      <td>1</td>\n",
       "      <td>10</td>\n",
       "      <td>8.0</td>\n",
       "    </tr>\n",
       "    <tr>\n",
       "      <th>90</th>\n",
       "      <td>9.0</td>\n",
       "      <td>0</td>\n",
       "      <td>17</td>\n",
       "      <td>0</td>\n",
       "      <td>0</td>\n",
       "      <td>0</td>\n",
       "      <td>3</td>\n",
       "      <td>0</td>\n",
       "      <td>2</td>\n",
       "      <td>15</td>\n",
       "      <td>...</td>\n",
       "      <td>4</td>\n",
       "      <td>1</td>\n",
       "      <td>2</td>\n",
       "      <td>2</td>\n",
       "      <td>1</td>\n",
       "      <td>Koscielny</td>\n",
       "      <td>koscielny</td>\n",
       "      <td>1</td>\n",
       "      <td>16</td>\n",
       "      <td>9.0</td>\n",
       "    </tr>\n",
       "    <tr>\n",
       "      <th>91</th>\n",
       "      <td>10.0</td>\n",
       "      <td>0</td>\n",
       "      <td>69</td>\n",
       "      <td>0</td>\n",
       "      <td>0</td>\n",
       "      <td>1</td>\n",
       "      <td>30</td>\n",
       "      <td>0</td>\n",
       "      <td>8</td>\n",
       "      <td>65</td>\n",
       "      <td>...</td>\n",
       "      <td>4</td>\n",
       "      <td>1</td>\n",
       "      <td>2</td>\n",
       "      <td>2</td>\n",
       "      <td>1</td>\n",
       "      <td>Koscielny</td>\n",
       "      <td>koscielny</td>\n",
       "      <td>1</td>\n",
       "      <td>2</td>\n",
       "      <td>10.0</td>\n",
       "    </tr>\n",
       "    <tr>\n",
       "      <th>92</th>\n",
       "      <td>11.0</td>\n",
       "      <td>0</td>\n",
       "      <td>23</td>\n",
       "      <td>0</td>\n",
       "      <td>0</td>\n",
       "      <td>0</td>\n",
       "      <td>11</td>\n",
       "      <td>0</td>\n",
       "      <td>9</td>\n",
       "      <td>15</td>\n",
       "      <td>...</td>\n",
       "      <td>4</td>\n",
       "      <td>17</td>\n",
       "      <td>4</td>\n",
       "      <td>2</td>\n",
       "      <td>1</td>\n",
       "      <td>Koscielny</td>\n",
       "      <td>koscielny</td>\n",
       "      <td>1</td>\n",
       "      <td>17</td>\n",
       "      <td>11.0</td>\n",
       "    </tr>\n",
       "    <tr>\n",
       "      <th>93</th>\n",
       "      <td>12.0</td>\n",
       "      <td>0</td>\n",
       "      <td>39</td>\n",
       "      <td>0</td>\n",
       "      <td>0</td>\n",
       "      <td>0</td>\n",
       "      <td>24</td>\n",
       "      <td>1</td>\n",
       "      <td>4</td>\n",
       "      <td>32</td>\n",
       "      <td>...</td>\n",
       "      <td>4</td>\n",
       "      <td>1</td>\n",
       "      <td>4</td>\n",
       "      <td>2</td>\n",
       "      <td>1</td>\n",
       "      <td>Koscielny</td>\n",
       "      <td>koscielny</td>\n",
       "      <td>1</td>\n",
       "      <td>14</td>\n",
       "      <td>12.0</td>\n",
       "    </tr>\n",
       "    <tr>\n",
       "      <th>96</th>\n",
       "      <td>13.0</td>\n",
       "      <td>0</td>\n",
       "      <td>29</td>\n",
       "      <td>0</td>\n",
       "      <td>0</td>\n",
       "      <td>0</td>\n",
       "      <td>17</td>\n",
       "      <td>0</td>\n",
       "      <td>9</td>\n",
       "      <td>22</td>\n",
       "      <td>...</td>\n",
       "      <td>4</td>\n",
       "      <td>1</td>\n",
       "      <td>4</td>\n",
       "      <td>2</td>\n",
       "      <td>1</td>\n",
       "      <td>Bellerín</td>\n",
       "      <td>bellerin</td>\n",
       "      <td>1</td>\n",
       "      <td>13</td>\n",
       "      <td>1.0</td>\n",
       "    </tr>\n",
       "    <tr>\n",
       "      <th>97</th>\n",
       "      <td>14.0</td>\n",
       "      <td>0</td>\n",
       "      <td>46</td>\n",
       "      <td>1</td>\n",
       "      <td>0</td>\n",
       "      <td>0</td>\n",
       "      <td>16</td>\n",
       "      <td>0</td>\n",
       "      <td>5</td>\n",
       "      <td>36</td>\n",
       "      <td>...</td>\n",
       "      <td>4</td>\n",
       "      <td>6</td>\n",
       "      <td>4</td>\n",
       "      <td>2</td>\n",
       "      <td>1</td>\n",
       "      <td>Bellerín</td>\n",
       "      <td>bellerin</td>\n",
       "      <td>1</td>\n",
       "      <td>6</td>\n",
       "      <td>2.0</td>\n",
       "    </tr>\n",
       "    <tr>\n",
       "      <th>98</th>\n",
       "      <td>15.0</td>\n",
       "      <td>1</td>\n",
       "      <td>49</td>\n",
       "      <td>1</td>\n",
       "      <td>0</td>\n",
       "      <td>0</td>\n",
       "      <td>25</td>\n",
       "      <td>0</td>\n",
       "      <td>6</td>\n",
       "      <td>40</td>\n",
       "      <td>...</td>\n",
       "      <td>4</td>\n",
       "      <td>1</td>\n",
       "      <td>3</td>\n",
       "      <td>2</td>\n",
       "      <td>1</td>\n",
       "      <td>Bellerín</td>\n",
       "      <td>bellerin</td>\n",
       "      <td>1</td>\n",
       "      <td>19</td>\n",
       "      <td>3.0</td>\n",
       "    </tr>\n",
       "    <tr>\n",
       "      <th>99</th>\n",
       "      <td>16.0</td>\n",
       "      <td>0</td>\n",
       "      <td>46</td>\n",
       "      <td>0</td>\n",
       "      <td>0</td>\n",
       "      <td>0</td>\n",
       "      <td>5</td>\n",
       "      <td>0</td>\n",
       "      <td>2</td>\n",
       "      <td>40</td>\n",
       "      <td>...</td>\n",
       "      <td>2</td>\n",
       "      <td>5</td>\n",
       "      <td>4</td>\n",
       "      <td>2</td>\n",
       "      <td>1</td>\n",
       "      <td>Bellerín</td>\n",
       "      <td>bellerin</td>\n",
       "      <td>1</td>\n",
       "      <td>5</td>\n",
       "      <td>4.0</td>\n",
       "    </tr>\n",
       "    <tr>\n",
       "      <th>100</th>\n",
       "      <td>17.0</td>\n",
       "      <td>0</td>\n",
       "      <td>43</td>\n",
       "      <td>0</td>\n",
       "      <td>0</td>\n",
       "      <td>0</td>\n",
       "      <td>12</td>\n",
       "      <td>0</td>\n",
       "      <td>3</td>\n",
       "      <td>36</td>\n",
       "      <td>...</td>\n",
       "      <td>3</td>\n",
       "      <td>15</td>\n",
       "      <td>4</td>\n",
       "      <td>2</td>\n",
       "      <td>1</td>\n",
       "      <td>Bellerín</td>\n",
       "      <td>bellerin</td>\n",
       "      <td>1</td>\n",
       "      <td>15</td>\n",
       "      <td>5.0</td>\n",
       "    </tr>\n",
       "    <tr>\n",
       "      <th>101</th>\n",
       "      <td>18.0</td>\n",
       "      <td>0</td>\n",
       "      <td>36</td>\n",
       "      <td>0</td>\n",
       "      <td>0</td>\n",
       "      <td>0</td>\n",
       "      <td>28</td>\n",
       "      <td>1</td>\n",
       "      <td>4</td>\n",
       "      <td>35</td>\n",
       "      <td>...</td>\n",
       "      <td>4</td>\n",
       "      <td>1</td>\n",
       "      <td>2</td>\n",
       "      <td>2</td>\n",
       "      <td>1</td>\n",
       "      <td>Bellerín</td>\n",
       "      <td>bellerin</td>\n",
       "      <td>1</td>\n",
       "      <td>8</td>\n",
       "      <td>6.0</td>\n",
       "    </tr>\n",
       "    <tr>\n",
       "      <th>102</th>\n",
       "      <td>19.0</td>\n",
       "      <td>0</td>\n",
       "      <td>41</td>\n",
       "      <td>0</td>\n",
       "      <td>0</td>\n",
       "      <td>2</td>\n",
       "      <td>28</td>\n",
       "      <td>1</td>\n",
       "      <td>4</td>\n",
       "      <td>38</td>\n",
       "      <td>...</td>\n",
       "      <td>4</td>\n",
       "      <td>1</td>\n",
       "      <td>3</td>\n",
       "      <td>2</td>\n",
       "      <td>1</td>\n",
       "      <td>Bellerín</td>\n",
       "      <td>bellerin</td>\n",
       "      <td>1</td>\n",
       "      <td>18</td>\n",
       "      <td>7.0</td>\n",
       "    </tr>\n",
       "    <tr>\n",
       "      <th>103</th>\n",
       "      <td>20.0</td>\n",
       "      <td>1</td>\n",
       "      <td>32</td>\n",
       "      <td>0</td>\n",
       "      <td>0</td>\n",
       "      <td>0</td>\n",
       "      <td>25</td>\n",
       "      <td>0</td>\n",
       "      <td>3</td>\n",
       "      <td>26</td>\n",
       "      <td>...</td>\n",
       "      <td>2</td>\n",
       "      <td>9</td>\n",
       "      <td>4</td>\n",
       "      <td>2</td>\n",
       "      <td>1</td>\n",
       "      <td>Bellerín</td>\n",
       "      <td>bellerin</td>\n",
       "      <td>1</td>\n",
       "      <td>9</td>\n",
       "      <td>8.0</td>\n",
       "    </tr>\n",
       "    <tr>\n",
       "      <th>104</th>\n",
       "      <td>21.0</td>\n",
       "      <td>2</td>\n",
       "      <td>67</td>\n",
       "      <td>1</td>\n",
       "      <td>0</td>\n",
       "      <td>1</td>\n",
       "      <td>27</td>\n",
       "      <td>0</td>\n",
       "      <td>1</td>\n",
       "      <td>56</td>\n",
       "      <td>...</td>\n",
       "      <td>4</td>\n",
       "      <td>1</td>\n",
       "      <td>3</td>\n",
       "      <td>2</td>\n",
       "      <td>1</td>\n",
       "      <td>Bellerín</td>\n",
       "      <td>bellerin</td>\n",
       "      <td>1</td>\n",
       "      <td>11</td>\n",
       "      <td>9.0</td>\n",
       "    </tr>\n",
       "    <tr>\n",
       "      <th>105</th>\n",
       "      <td>22.0</td>\n",
       "      <td>0</td>\n",
       "      <td>40</td>\n",
       "      <td>0</td>\n",
       "      <td>0</td>\n",
       "      <td>0</td>\n",
       "      <td>11</td>\n",
       "      <td>0</td>\n",
       "      <td>2</td>\n",
       "      <td>33</td>\n",
       "      <td>...</td>\n",
       "      <td>2</td>\n",
       "      <td>7</td>\n",
       "      <td>4</td>\n",
       "      <td>2</td>\n",
       "      <td>1</td>\n",
       "      <td>Bellerín</td>\n",
       "      <td>bellerin</td>\n",
       "      <td>1</td>\n",
       "      <td>7</td>\n",
       "      <td>10.0</td>\n",
       "    </tr>\n",
       "    <tr>\n",
       "      <th>106</th>\n",
       "      <td>23.0</td>\n",
       "      <td>0</td>\n",
       "      <td>51</td>\n",
       "      <td>0</td>\n",
       "      <td>0</td>\n",
       "      <td>0</td>\n",
       "      <td>11</td>\n",
       "      <td>0</td>\n",
       "      <td>2</td>\n",
       "      <td>40</td>\n",
       "      <td>...</td>\n",
       "      <td>4</td>\n",
       "      <td>1</td>\n",
       "      <td>4</td>\n",
       "      <td>2</td>\n",
       "      <td>1</td>\n",
       "      <td>Bellerín</td>\n",
       "      <td>bellerin</td>\n",
       "      <td>1</td>\n",
       "      <td>12</td>\n",
       "      <td>11.0</td>\n",
       "    </tr>\n",
       "    <tr>\n",
       "      <th>107</th>\n",
       "      <td>24.0</td>\n",
       "      <td>0</td>\n",
       "      <td>51</td>\n",
       "      <td>1</td>\n",
       "      <td>0</td>\n",
       "      <td>0</td>\n",
       "      <td>5</td>\n",
       "      <td>0</td>\n",
       "      <td>0</td>\n",
       "      <td>45</td>\n",
       "      <td>...</td>\n",
       "      <td>4</td>\n",
       "      <td>1</td>\n",
       "      <td>3</td>\n",
       "      <td>2</td>\n",
       "      <td>1</td>\n",
       "      <td>Bellerín</td>\n",
       "      <td>bellerin</td>\n",
       "      <td>1</td>\n",
       "      <td>20</td>\n",
       "      <td>12.0</td>\n",
       "    </tr>\n",
       "    <tr>\n",
       "      <th>108</th>\n",
       "      <td>25.0</td>\n",
       "      <td>0</td>\n",
       "      <td>48</td>\n",
       "      <td>0</td>\n",
       "      <td>0</td>\n",
       "      <td>0</td>\n",
       "      <td>12</td>\n",
       "      <td>0</td>\n",
       "      <td>0</td>\n",
       "      <td>45</td>\n",
       "      <td>...</td>\n",
       "      <td>3</td>\n",
       "      <td>2</td>\n",
       "      <td>4</td>\n",
       "      <td>2</td>\n",
       "      <td>1</td>\n",
       "      <td>Bellerín</td>\n",
       "      <td>bellerin</td>\n",
       "      <td>1</td>\n",
       "      <td>2</td>\n",
       "      <td>13.0</td>\n",
       "    </tr>\n",
       "    <tr>\n",
       "      <th>109</th>\n",
       "      <td>26.0</td>\n",
       "      <td>0</td>\n",
       "      <td>54</td>\n",
       "      <td>0</td>\n",
       "      <td>0</td>\n",
       "      <td>0</td>\n",
       "      <td>13</td>\n",
       "      <td>0</td>\n",
       "      <td>2</td>\n",
       "      <td>48</td>\n",
       "      <td>...</td>\n",
       "      <td>4</td>\n",
       "      <td>1</td>\n",
       "      <td>4</td>\n",
       "      <td>2</td>\n",
       "      <td>1</td>\n",
       "      <td>Bellerín</td>\n",
       "      <td>bellerin</td>\n",
       "      <td>1</td>\n",
       "      <td>17</td>\n",
       "      <td>14.0</td>\n",
       "    </tr>\n",
       "    <tr>\n",
       "      <th>110</th>\n",
       "      <td>27.0</td>\n",
       "      <td>0</td>\n",
       "      <td>34</td>\n",
       "      <td>0</td>\n",
       "      <td>0</td>\n",
       "      <td>0</td>\n",
       "      <td>2</td>\n",
       "      <td>0</td>\n",
       "      <td>1</td>\n",
       "      <td>26</td>\n",
       "      <td>...</td>\n",
       "      <td>4</td>\n",
       "      <td>14</td>\n",
       "      <td>4</td>\n",
       "      <td>2</td>\n",
       "      <td>1</td>\n",
       "      <td>Bellerín</td>\n",
       "      <td>bellerin</td>\n",
       "      <td>1</td>\n",
       "      <td>14</td>\n",
       "      <td>15.0</td>\n",
       "    </tr>\n",
       "    <tr>\n",
       "      <th>111</th>\n",
       "      <td>28.0</td>\n",
       "      <td>0</td>\n",
       "      <td>46</td>\n",
       "      <td>0</td>\n",
       "      <td>0</td>\n",
       "      <td>0</td>\n",
       "      <td>21</td>\n",
       "      <td>1</td>\n",
       "      <td>1</td>\n",
       "      <td>35</td>\n",
       "      <td>...</td>\n",
       "      <td>4</td>\n",
       "      <td>1</td>\n",
       "      <td>2</td>\n",
       "      <td>2</td>\n",
       "      <td>1</td>\n",
       "      <td>Bellerín</td>\n",
       "      <td>bellerin</td>\n",
       "      <td>1</td>\n",
       "      <td>10</td>\n",
       "      <td>16.0</td>\n",
       "    </tr>\n",
       "    <tr>\n",
       "      <th>112</th>\n",
       "      <td>29.0</td>\n",
       "      <td>0</td>\n",
       "      <td>19</td>\n",
       "      <td>0</td>\n",
       "      <td>0</td>\n",
       "      <td>0</td>\n",
       "      <td>3</td>\n",
       "      <td>0</td>\n",
       "      <td>2</td>\n",
       "      <td>16</td>\n",
       "      <td>...</td>\n",
       "      <td>2</td>\n",
       "      <td>16</td>\n",
       "      <td>4</td>\n",
       "      <td>2</td>\n",
       "      <td>1</td>\n",
       "      <td>Bellerín</td>\n",
       "      <td>bellerin</td>\n",
       "      <td>1</td>\n",
       "      <td>16</td>\n",
       "      <td>17.0</td>\n",
       "    </tr>\n",
       "    <tr>\n",
       "      <th>117</th>\n",
       "      <td>30.0</td>\n",
       "      <td>0</td>\n",
       "      <td>13</td>\n",
       "      <td>0</td>\n",
       "      <td>0</td>\n",
       "      <td>0</td>\n",
       "      <td>4</td>\n",
       "      <td>0</td>\n",
       "      <td>1</td>\n",
       "      <td>10</td>\n",
       "      <td>...</td>\n",
       "      <td>3</td>\n",
       "      <td>19</td>\n",
       "      <td>4</td>\n",
       "      <td>2</td>\n",
       "      <td>1</td>\n",
       "      <td>Bellerín</td>\n",
       "      <td>bellerin</td>\n",
       "      <td>1</td>\n",
       "      <td>19</td>\n",
       "      <td>18.0</td>\n",
       "    </tr>\n",
       "    <tr>\n",
       "      <th>...</th>\n",
       "      <td>...</td>\n",
       "      <td>...</td>\n",
       "      <td>...</td>\n",
       "      <td>...</td>\n",
       "      <td>...</td>\n",
       "      <td>...</td>\n",
       "      <td>...</td>\n",
       "      <td>...</td>\n",
       "      <td>...</td>\n",
       "      <td>...</td>\n",
       "      <td>...</td>\n",
       "      <td>...</td>\n",
       "      <td>...</td>\n",
       "      <td>...</td>\n",
       "      <td>...</td>\n",
       "      <td>...</td>\n",
       "      <td>...</td>\n",
       "      <td>...</td>\n",
       "      <td>...</td>\n",
       "      <td>...</td>\n",
       "      <td>...</td>\n",
       "    </tr>\n",
       "    <tr>\n",
       "      <th>18276</th>\n",
       "      <td>8132.0</td>\n",
       "      <td>0</td>\n",
       "      <td>14</td>\n",
       "      <td>0</td>\n",
       "      <td>0</td>\n",
       "      <td>0</td>\n",
       "      <td>7</td>\n",
       "      <td>0</td>\n",
       "      <td>0</td>\n",
       "      <td>12</td>\n",
       "      <td>...</td>\n",
       "      <td>2</td>\n",
       "      <td>3</td>\n",
       "      <td>3</td>\n",
       "      <td>3</td>\n",
       "      <td>20</td>\n",
       "      <td>Traoré</td>\n",
       "      <td>traore</td>\n",
       "      <td>20</td>\n",
       "      <td>3</td>\n",
       "      <td>9.0</td>\n",
       "    </tr>\n",
       "    <tr>\n",
       "      <th>18277</th>\n",
       "      <td>8133.0</td>\n",
       "      <td>0</td>\n",
       "      <td>1</td>\n",
       "      <td>0</td>\n",
       "      <td>0</td>\n",
       "      <td>0</td>\n",
       "      <td>3</td>\n",
       "      <td>0</td>\n",
       "      <td>1</td>\n",
       "      <td>1</td>\n",
       "      <td>...</td>\n",
       "      <td>3</td>\n",
       "      <td>20</td>\n",
       "      <td>4</td>\n",
       "      <td>3</td>\n",
       "      <td>20</td>\n",
       "      <td>Traoré</td>\n",
       "      <td>traore</td>\n",
       "      <td>20</td>\n",
       "      <td>17</td>\n",
       "      <td>10.0</td>\n",
       "    </tr>\n",
       "    <tr>\n",
       "      <th>18278</th>\n",
       "      <td>8134.0</td>\n",
       "      <td>0</td>\n",
       "      <td>5</td>\n",
       "      <td>0</td>\n",
       "      <td>1</td>\n",
       "      <td>0</td>\n",
       "      <td>2</td>\n",
       "      <td>0</td>\n",
       "      <td>0</td>\n",
       "      <td>4</td>\n",
       "      <td>...</td>\n",
       "      <td>4</td>\n",
       "      <td>1</td>\n",
       "      <td>3</td>\n",
       "      <td>3</td>\n",
       "      <td>20</td>\n",
       "      <td>Traoré</td>\n",
       "      <td>traore</td>\n",
       "      <td>20</td>\n",
       "      <td>1</td>\n",
       "      <td>11.0</td>\n",
       "    </tr>\n",
       "    <tr>\n",
       "      <th>18279</th>\n",
       "      <td>8135.0</td>\n",
       "      <td>0</td>\n",
       "      <td>11</td>\n",
       "      <td>0</td>\n",
       "      <td>0</td>\n",
       "      <td>0</td>\n",
       "      <td>4</td>\n",
       "      <td>0</td>\n",
       "      <td>0</td>\n",
       "      <td>9</td>\n",
       "      <td>...</td>\n",
       "      <td>3</td>\n",
       "      <td>20</td>\n",
       "      <td>2</td>\n",
       "      <td>3</td>\n",
       "      <td>20</td>\n",
       "      <td>Traoré</td>\n",
       "      <td>traore</td>\n",
       "      <td>20</td>\n",
       "      <td>10</td>\n",
       "      <td>12.0</td>\n",
       "    </tr>\n",
       "    <tr>\n",
       "      <th>18280</th>\n",
       "      <td>8136.0</td>\n",
       "      <td>0</td>\n",
       "      <td>20</td>\n",
       "      <td>0</td>\n",
       "      <td>0</td>\n",
       "      <td>0</td>\n",
       "      <td>2</td>\n",
       "      <td>0</td>\n",
       "      <td>1</td>\n",
       "      <td>17</td>\n",
       "      <td>...</td>\n",
       "      <td>2</td>\n",
       "      <td>5</td>\n",
       "      <td>3</td>\n",
       "      <td>3</td>\n",
       "      <td>20</td>\n",
       "      <td>Traoré</td>\n",
       "      <td>traore</td>\n",
       "      <td>20</td>\n",
       "      <td>5</td>\n",
       "      <td>13.0</td>\n",
       "    </tr>\n",
       "    <tr>\n",
       "      <th>18282</th>\n",
       "      <td>8137.0</td>\n",
       "      <td>0</td>\n",
       "      <td>11</td>\n",
       "      <td>0</td>\n",
       "      <td>0</td>\n",
       "      <td>0</td>\n",
       "      <td>3</td>\n",
       "      <td>0</td>\n",
       "      <td>0</td>\n",
       "      <td>8</td>\n",
       "      <td>...</td>\n",
       "      <td>3</td>\n",
       "      <td>15</td>\n",
       "      <td>3</td>\n",
       "      <td>3</td>\n",
       "      <td>20</td>\n",
       "      <td>Traoré</td>\n",
       "      <td>traore</td>\n",
       "      <td>20</td>\n",
       "      <td>15</td>\n",
       "      <td>14.0</td>\n",
       "    </tr>\n",
       "    <tr>\n",
       "      <th>18284</th>\n",
       "      <td>8138.0</td>\n",
       "      <td>0</td>\n",
       "      <td>14</td>\n",
       "      <td>0</td>\n",
       "      <td>0</td>\n",
       "      <td>0</td>\n",
       "      <td>3</td>\n",
       "      <td>0</td>\n",
       "      <td>0</td>\n",
       "      <td>10</td>\n",
       "      <td>...</td>\n",
       "      <td>3</td>\n",
       "      <td>20</td>\n",
       "      <td>4</td>\n",
       "      <td>3</td>\n",
       "      <td>20</td>\n",
       "      <td>Traoré</td>\n",
       "      <td>traore</td>\n",
       "      <td>20</td>\n",
       "      <td>12</td>\n",
       "      <td>15.0</td>\n",
       "    </tr>\n",
       "    <tr>\n",
       "      <th>18285</th>\n",
       "      <td>8139.0</td>\n",
       "      <td>0</td>\n",
       "      <td>6</td>\n",
       "      <td>0</td>\n",
       "      <td>0</td>\n",
       "      <td>0</td>\n",
       "      <td>2</td>\n",
       "      <td>0</td>\n",
       "      <td>0</td>\n",
       "      <td>6</td>\n",
       "      <td>...</td>\n",
       "      <td>2</td>\n",
       "      <td>9</td>\n",
       "      <td>3</td>\n",
       "      <td>3</td>\n",
       "      <td>20</td>\n",
       "      <td>Traoré</td>\n",
       "      <td>traore</td>\n",
       "      <td>20</td>\n",
       "      <td>9</td>\n",
       "      <td>16.0</td>\n",
       "    </tr>\n",
       "    <tr>\n",
       "      <th>18286</th>\n",
       "      <td>8140.0</td>\n",
       "      <td>0</td>\n",
       "      <td>15</td>\n",
       "      <td>0</td>\n",
       "      <td>0</td>\n",
       "      <td>0</td>\n",
       "      <td>9</td>\n",
       "      <td>0</td>\n",
       "      <td>1</td>\n",
       "      <td>11</td>\n",
       "      <td>...</td>\n",
       "      <td>4</td>\n",
       "      <td>17</td>\n",
       "      <td>3</td>\n",
       "      <td>3</td>\n",
       "      <td>20</td>\n",
       "      <td>Traoré</td>\n",
       "      <td>traore</td>\n",
       "      <td>20</td>\n",
       "      <td>17</td>\n",
       "      <td>17.0</td>\n",
       "    </tr>\n",
       "    <tr>\n",
       "      <th>18287</th>\n",
       "      <td>8141.0</td>\n",
       "      <td>0</td>\n",
       "      <td>2</td>\n",
       "      <td>0</td>\n",
       "      <td>0</td>\n",
       "      <td>0</td>\n",
       "      <td>1</td>\n",
       "      <td>0</td>\n",
       "      <td>0</td>\n",
       "      <td>1</td>\n",
       "      <td>...</td>\n",
       "      <td>3</td>\n",
       "      <td>20</td>\n",
       "      <td>2</td>\n",
       "      <td>3</td>\n",
       "      <td>20</td>\n",
       "      <td>Traoré</td>\n",
       "      <td>traore</td>\n",
       "      <td>20</td>\n",
       "      <td>7</td>\n",
       "      <td>18.0</td>\n",
       "    </tr>\n",
       "    <tr>\n",
       "      <th>18288</th>\n",
       "      <td>8142.0</td>\n",
       "      <td>0</td>\n",
       "      <td>11</td>\n",
       "      <td>0</td>\n",
       "      <td>0</td>\n",
       "      <td>0</td>\n",
       "      <td>11</td>\n",
       "      <td>0</td>\n",
       "      <td>0</td>\n",
       "      <td>9</td>\n",
       "      <td>...</td>\n",
       "      <td>5</td>\n",
       "      <td>13</td>\n",
       "      <td>3</td>\n",
       "      <td>3</td>\n",
       "      <td>20</td>\n",
       "      <td>Traoré</td>\n",
       "      <td>traore</td>\n",
       "      <td>20</td>\n",
       "      <td>13</td>\n",
       "      <td>19.0</td>\n",
       "    </tr>\n",
       "    <tr>\n",
       "      <th>18291</th>\n",
       "      <td>8143.0</td>\n",
       "      <td>0</td>\n",
       "      <td>0</td>\n",
       "      <td>0</td>\n",
       "      <td>0</td>\n",
       "      <td>0</td>\n",
       "      <td>1</td>\n",
       "      <td>0</td>\n",
       "      <td>1</td>\n",
       "      <td>0</td>\n",
       "      <td>...</td>\n",
       "      <td>3</td>\n",
       "      <td>8</td>\n",
       "      <td>3</td>\n",
       "      <td>3</td>\n",
       "      <td>20</td>\n",
       "      <td>Traoré</td>\n",
       "      <td>traore</td>\n",
       "      <td>20</td>\n",
       "      <td>8</td>\n",
       "      <td>20.0</td>\n",
       "    </tr>\n",
       "    <tr>\n",
       "      <th>18292</th>\n",
       "      <td>8144.0</td>\n",
       "      <td>1</td>\n",
       "      <td>7</td>\n",
       "      <td>1</td>\n",
       "      <td>0</td>\n",
       "      <td>0</td>\n",
       "      <td>17</td>\n",
       "      <td>0</td>\n",
       "      <td>0</td>\n",
       "      <td>6</td>\n",
       "      <td>...</td>\n",
       "      <td>3</td>\n",
       "      <td>20</td>\n",
       "      <td>2</td>\n",
       "      <td>3</td>\n",
       "      <td>20</td>\n",
       "      <td>Traoré</td>\n",
       "      <td>traore</td>\n",
       "      <td>20</td>\n",
       "      <td>15</td>\n",
       "      <td>21.0</td>\n",
       "    </tr>\n",
       "    <tr>\n",
       "      <th>18293</th>\n",
       "      <td>8145.0</td>\n",
       "      <td>0</td>\n",
       "      <td>4</td>\n",
       "      <td>0</td>\n",
       "      <td>0</td>\n",
       "      <td>0</td>\n",
       "      <td>6</td>\n",
       "      <td>0</td>\n",
       "      <td>0</td>\n",
       "      <td>3</td>\n",
       "      <td>...</td>\n",
       "      <td>3</td>\n",
       "      <td>2</td>\n",
       "      <td>3</td>\n",
       "      <td>3</td>\n",
       "      <td>20</td>\n",
       "      <td>Traoré</td>\n",
       "      <td>traore</td>\n",
       "      <td>20</td>\n",
       "      <td>2</td>\n",
       "      <td>22.0</td>\n",
       "    </tr>\n",
       "    <tr>\n",
       "      <th>18295</th>\n",
       "      <td>8146.0</td>\n",
       "      <td>0</td>\n",
       "      <td>33</td>\n",
       "      <td>0</td>\n",
       "      <td>0</td>\n",
       "      <td>0</td>\n",
       "      <td>13</td>\n",
       "      <td>1</td>\n",
       "      <td>2</td>\n",
       "      <td>19</td>\n",
       "      <td>...</td>\n",
       "      <td>3</td>\n",
       "      <td>20</td>\n",
       "      <td>2</td>\n",
       "      <td>3</td>\n",
       "      <td>20</td>\n",
       "      <td>Traoré</td>\n",
       "      <td>traore</td>\n",
       "      <td>20</td>\n",
       "      <td>5</td>\n",
       "      <td>23.0</td>\n",
       "    </tr>\n",
       "    <tr>\n",
       "      <th>18296</th>\n",
       "      <td>8147.0</td>\n",
       "      <td>0</td>\n",
       "      <td>0</td>\n",
       "      <td>0</td>\n",
       "      <td>0</td>\n",
       "      <td>0</td>\n",
       "      <td>2</td>\n",
       "      <td>0</td>\n",
       "      <td>0</td>\n",
       "      <td>0</td>\n",
       "      <td>...</td>\n",
       "      <td>4</td>\n",
       "      <td>6</td>\n",
       "      <td>3</td>\n",
       "      <td>3</td>\n",
       "      <td>20</td>\n",
       "      <td>Traoré</td>\n",
       "      <td>traore</td>\n",
       "      <td>20</td>\n",
       "      <td>6</td>\n",
       "      <td>24.0</td>\n",
       "    </tr>\n",
       "    <tr>\n",
       "      <th>18297</th>\n",
       "      <td>8148.0</td>\n",
       "      <td>0</td>\n",
       "      <td>38</td>\n",
       "      <td>0</td>\n",
       "      <td>0</td>\n",
       "      <td>0</td>\n",
       "      <td>14</td>\n",
       "      <td>0</td>\n",
       "      <td>0</td>\n",
       "      <td>23</td>\n",
       "      <td>...</td>\n",
       "      <td>3</td>\n",
       "      <td>4</td>\n",
       "      <td>3</td>\n",
       "      <td>3</td>\n",
       "      <td>20</td>\n",
       "      <td>Traoré</td>\n",
       "      <td>traore</td>\n",
       "      <td>20</td>\n",
       "      <td>4</td>\n",
       "      <td>25.0</td>\n",
       "    </tr>\n",
       "    <tr>\n",
       "      <th>18313</th>\n",
       "      <td>8149.0</td>\n",
       "      <td>0</td>\n",
       "      <td>3</td>\n",
       "      <td>0</td>\n",
       "      <td>0</td>\n",
       "      <td>0</td>\n",
       "      <td>3</td>\n",
       "      <td>0</td>\n",
       "      <td>1</td>\n",
       "      <td>3</td>\n",
       "      <td>...</td>\n",
       "      <td>3</td>\n",
       "      <td>20</td>\n",
       "      <td>4</td>\n",
       "      <td>3</td>\n",
       "      <td>20</td>\n",
       "      <td>Dendoncker</td>\n",
       "      <td>dendoncker</td>\n",
       "      <td>20</td>\n",
       "      <td>6</td>\n",
       "      <td>1.0</td>\n",
       "    </tr>\n",
       "    <tr>\n",
       "      <th>18318</th>\n",
       "      <td>8150.0</td>\n",
       "      <td>0</td>\n",
       "      <td>23</td>\n",
       "      <td>0</td>\n",
       "      <td>0</td>\n",
       "      <td>0</td>\n",
       "      <td>5</td>\n",
       "      <td>0</td>\n",
       "      <td>1</td>\n",
       "      <td>18</td>\n",
       "      <td>...</td>\n",
       "      <td>4</td>\n",
       "      <td>17</td>\n",
       "      <td>3</td>\n",
       "      <td>3</td>\n",
       "      <td>20</td>\n",
       "      <td>Dendoncker</td>\n",
       "      <td>dendoncker</td>\n",
       "      <td>20</td>\n",
       "      <td>17</td>\n",
       "      <td>2.0</td>\n",
       "    </tr>\n",
       "    <tr>\n",
       "      <th>18320</th>\n",
       "      <td>8151.0</td>\n",
       "      <td>0</td>\n",
       "      <td>29</td>\n",
       "      <td>0</td>\n",
       "      <td>0</td>\n",
       "      <td>0</td>\n",
       "      <td>9</td>\n",
       "      <td>0</td>\n",
       "      <td>6</td>\n",
       "      <td>26</td>\n",
       "      <td>...</td>\n",
       "      <td>5</td>\n",
       "      <td>13</td>\n",
       "      <td>3</td>\n",
       "      <td>3</td>\n",
       "      <td>20</td>\n",
       "      <td>Dendoncker</td>\n",
       "      <td>dendoncker</td>\n",
       "      <td>20</td>\n",
       "      <td>13</td>\n",
       "      <td>3.0</td>\n",
       "    </tr>\n",
       "    <tr>\n",
       "      <th>18321</th>\n",
       "      <td>8152.0</td>\n",
       "      <td>0</td>\n",
       "      <td>30</td>\n",
       "      <td>0</td>\n",
       "      <td>0</td>\n",
       "      <td>0</td>\n",
       "      <td>9</td>\n",
       "      <td>0</td>\n",
       "      <td>7</td>\n",
       "      <td>21</td>\n",
       "      <td>...</td>\n",
       "      <td>3</td>\n",
       "      <td>20</td>\n",
       "      <td>3</td>\n",
       "      <td>3</td>\n",
       "      <td>20</td>\n",
       "      <td>Dendoncker</td>\n",
       "      <td>dendoncker</td>\n",
       "      <td>20</td>\n",
       "      <td>11</td>\n",
       "      <td>4.0</td>\n",
       "    </tr>\n",
       "    <tr>\n",
       "      <th>18322</th>\n",
       "      <td>8153.0</td>\n",
       "      <td>0</td>\n",
       "      <td>30</td>\n",
       "      <td>0</td>\n",
       "      <td>1</td>\n",
       "      <td>0</td>\n",
       "      <td>13</td>\n",
       "      <td>1</td>\n",
       "      <td>3</td>\n",
       "      <td>27</td>\n",
       "      <td>...</td>\n",
       "      <td>3</td>\n",
       "      <td>20</td>\n",
       "      <td>3</td>\n",
       "      <td>3</td>\n",
       "      <td>20</td>\n",
       "      <td>Dendoncker</td>\n",
       "      <td>dendoncker</td>\n",
       "      <td>20</td>\n",
       "      <td>19</td>\n",
       "      <td>5.0</td>\n",
       "    </tr>\n",
       "    <tr>\n",
       "      <th>18323</th>\n",
       "      <td>8154.0</td>\n",
       "      <td>0</td>\n",
       "      <td>28</td>\n",
       "      <td>0</td>\n",
       "      <td>1</td>\n",
       "      <td>1</td>\n",
       "      <td>27</td>\n",
       "      <td>0</td>\n",
       "      <td>5</td>\n",
       "      <td>20</td>\n",
       "      <td>...</td>\n",
       "      <td>3</td>\n",
       "      <td>8</td>\n",
       "      <td>3</td>\n",
       "      <td>3</td>\n",
       "      <td>20</td>\n",
       "      <td>Dendoncker</td>\n",
       "      <td>dendoncker</td>\n",
       "      <td>20</td>\n",
       "      <td>8</td>\n",
       "      <td>6.0</td>\n",
       "    </tr>\n",
       "    <tr>\n",
       "      <th>18324</th>\n",
       "      <td>8155.0</td>\n",
       "      <td>0</td>\n",
       "      <td>37</td>\n",
       "      <td>0</td>\n",
       "      <td>0</td>\n",
       "      <td>0</td>\n",
       "      <td>12</td>\n",
       "      <td>0</td>\n",
       "      <td>2</td>\n",
       "      <td>29</td>\n",
       "      <td>...</td>\n",
       "      <td>3</td>\n",
       "      <td>20</td>\n",
       "      <td>2</td>\n",
       "      <td>3</td>\n",
       "      <td>20</td>\n",
       "      <td>Dendoncker</td>\n",
       "      <td>dendoncker</td>\n",
       "      <td>20</td>\n",
       "      <td>15</td>\n",
       "      <td>7.0</td>\n",
       "    </tr>\n",
       "    <tr>\n",
       "      <th>18325</th>\n",
       "      <td>8156.0</td>\n",
       "      <td>0</td>\n",
       "      <td>35</td>\n",
       "      <td>0</td>\n",
       "      <td>0</td>\n",
       "      <td>0</td>\n",
       "      <td>9</td>\n",
       "      <td>0</td>\n",
       "      <td>0</td>\n",
       "      <td>29</td>\n",
       "      <td>...</td>\n",
       "      <td>3</td>\n",
       "      <td>2</td>\n",
       "      <td>3</td>\n",
       "      <td>3</td>\n",
       "      <td>20</td>\n",
       "      <td>Dendoncker</td>\n",
       "      <td>dendoncker</td>\n",
       "      <td>20</td>\n",
       "      <td>2</td>\n",
       "      <td>8.0</td>\n",
       "    </tr>\n",
       "    <tr>\n",
       "      <th>18326</th>\n",
       "      <td>8157.0</td>\n",
       "      <td>0</td>\n",
       "      <td>47</td>\n",
       "      <td>0</td>\n",
       "      <td>0</td>\n",
       "      <td>0</td>\n",
       "      <td>13</td>\n",
       "      <td>0</td>\n",
       "      <td>1</td>\n",
       "      <td>41</td>\n",
       "      <td>...</td>\n",
       "      <td>2</td>\n",
       "      <td>10</td>\n",
       "      <td>3</td>\n",
       "      <td>3</td>\n",
       "      <td>20</td>\n",
       "      <td>Dendoncker</td>\n",
       "      <td>dendoncker</td>\n",
       "      <td>20</td>\n",
       "      <td>10</td>\n",
       "      <td>9.0</td>\n",
       "    </tr>\n",
       "    <tr>\n",
       "      <th>18327</th>\n",
       "      <td>8158.0</td>\n",
       "      <td>0</td>\n",
       "      <td>36</td>\n",
       "      <td>0</td>\n",
       "      <td>2</td>\n",
       "      <td>0</td>\n",
       "      <td>7</td>\n",
       "      <td>1</td>\n",
       "      <td>4</td>\n",
       "      <td>30</td>\n",
       "      <td>...</td>\n",
       "      <td>3</td>\n",
       "      <td>20</td>\n",
       "      <td>2</td>\n",
       "      <td>3</td>\n",
       "      <td>20</td>\n",
       "      <td>Dendoncker</td>\n",
       "      <td>dendoncker</td>\n",
       "      <td>20</td>\n",
       "      <td>5</td>\n",
       "      <td>10.0</td>\n",
       "    </tr>\n",
       "    <tr>\n",
       "      <th>18328</th>\n",
       "      <td>8159.0</td>\n",
       "      <td>0</td>\n",
       "      <td>26</td>\n",
       "      <td>0</td>\n",
       "      <td>0</td>\n",
       "      <td>0</td>\n",
       "      <td>11</td>\n",
       "      <td>0</td>\n",
       "      <td>9</td>\n",
       "      <td>17</td>\n",
       "      <td>...</td>\n",
       "      <td>4</td>\n",
       "      <td>6</td>\n",
       "      <td>3</td>\n",
       "      <td>3</td>\n",
       "      <td>20</td>\n",
       "      <td>Dendoncker</td>\n",
       "      <td>dendoncker</td>\n",
       "      <td>20</td>\n",
       "      <td>6</td>\n",
       "      <td>11.0</td>\n",
       "    </tr>\n",
       "    <tr>\n",
       "      <th>18329</th>\n",
       "      <td>8160.0</td>\n",
       "      <td>0</td>\n",
       "      <td>34</td>\n",
       "      <td>0</td>\n",
       "      <td>0</td>\n",
       "      <td>0</td>\n",
       "      <td>6</td>\n",
       "      <td>0</td>\n",
       "      <td>0</td>\n",
       "      <td>27</td>\n",
       "      <td>...</td>\n",
       "      <td>3</td>\n",
       "      <td>4</td>\n",
       "      <td>3</td>\n",
       "      <td>3</td>\n",
       "      <td>20</td>\n",
       "      <td>Dendoncker</td>\n",
       "      <td>dendoncker</td>\n",
       "      <td>20</td>\n",
       "      <td>4</td>\n",
       "      <td>12.0</td>\n",
       "    </tr>\n",
       "    <tr>\n",
       "      <th>18330</th>\n",
       "      <td>8161.0</td>\n",
       "      <td>0</td>\n",
       "      <td>48</td>\n",
       "      <td>0</td>\n",
       "      <td>1</td>\n",
       "      <td>0</td>\n",
       "      <td>10</td>\n",
       "      <td>0</td>\n",
       "      <td>5</td>\n",
       "      <td>43</td>\n",
       "      <td>...</td>\n",
       "      <td>3</td>\n",
       "      <td>20</td>\n",
       "      <td>4</td>\n",
       "      <td>3</td>\n",
       "      <td>20</td>\n",
       "      <td>Dendoncker</td>\n",
       "      <td>dendoncker</td>\n",
       "      <td>20</td>\n",
       "      <td>14</td>\n",
       "      <td>13.0</td>\n",
       "    </tr>\n",
       "  </tbody>\n",
       "</table>\n",
       "<p>8161 rows × 67 columns</p>\n",
       "</div>"
      ],
      "text/plain": [
       "       row_id  assists  attempted_passes  big_chances_created  \\\n",
       "80        1.0        0                92                    0   \n",
       "82        2.0        0                74                    0   \n",
       "83        3.0        0                38                    0   \n",
       "84        4.0        0                64                    0   \n",
       "85        5.0        0                89                    0   \n",
       "86        6.0        0                32                    0   \n",
       "88        7.0        0                36                    0   \n",
       "89        8.0        0                41                    0   \n",
       "90        9.0        0                17                    0   \n",
       "91       10.0        0                69                    0   \n",
       "92       11.0        0                23                    0   \n",
       "93       12.0        0                39                    0   \n",
       "96       13.0        0                29                    0   \n",
       "97       14.0        0                46                    1   \n",
       "98       15.0        1                49                    1   \n",
       "99       16.0        0                46                    0   \n",
       "100      17.0        0                43                    0   \n",
       "101      18.0        0                36                    0   \n",
       "102      19.0        0                41                    0   \n",
       "103      20.0        1                32                    0   \n",
       "104      21.0        2                67                    1   \n",
       "105      22.0        0                40                    0   \n",
       "106      23.0        0                51                    0   \n",
       "107      24.0        0                51                    1   \n",
       "108      25.0        0                48                    0   \n",
       "109      26.0        0                54                    0   \n",
       "110      27.0        0                34                    0   \n",
       "111      28.0        0                46                    0   \n",
       "112      29.0        0                19                    0   \n",
       "117      30.0        0                13                    0   \n",
       "...       ...      ...               ...                  ...   \n",
       "18276  8132.0        0                14                    0   \n",
       "18277  8133.0        0                 1                    0   \n",
       "18278  8134.0        0                 5                    0   \n",
       "18279  8135.0        0                11                    0   \n",
       "18280  8136.0        0                20                    0   \n",
       "18282  8137.0        0                11                    0   \n",
       "18284  8138.0        0                14                    0   \n",
       "18285  8139.0        0                 6                    0   \n",
       "18286  8140.0        0                15                    0   \n",
       "18287  8141.0        0                 2                    0   \n",
       "18288  8142.0        0                11                    0   \n",
       "18291  8143.0        0                 0                    0   \n",
       "18292  8144.0        1                 7                    1   \n",
       "18293  8145.0        0                 4                    0   \n",
       "18295  8146.0        0                33                    0   \n",
       "18296  8147.0        0                 0                    0   \n",
       "18297  8148.0        0                38                    0   \n",
       "18313  8149.0        0                 3                    0   \n",
       "18318  8150.0        0                23                    0   \n",
       "18320  8151.0        0                29                    0   \n",
       "18321  8152.0        0                30                    0   \n",
       "18322  8153.0        0                30                    0   \n",
       "18323  8154.0        0                28                    0   \n",
       "18324  8155.0        0                37                    0   \n",
       "18325  8156.0        0                35                    0   \n",
       "18326  8157.0        0                47                    0   \n",
       "18327  8158.0        0                36                    0   \n",
       "18328  8159.0        0                26                    0   \n",
       "18329  8160.0        0                34                    0   \n",
       "18330  8161.0        0                48                    0   \n",
       "\n",
       "       big_chances_missed  bonus  bps  clean_sheets  \\\n",
       "80                      0      0   11             0   \n",
       "82                      0      0   17             0   \n",
       "83                      0      0   10             0   \n",
       "84                      0      0   19             0   \n",
       "85                      0      0   17             0   \n",
       "86                      1      3   41             1   \n",
       "88                      0      0   26             0   \n",
       "89                      0      1   25             0   \n",
       "90                      0      0    3             0   \n",
       "91                      0      1   30             0   \n",
       "92                      0      0   11             0   \n",
       "93                      0      0   24             1   \n",
       "96                      0      0   17             0   \n",
       "97                      0      0   16             0   \n",
       "98                      0      0   25             0   \n",
       "99                      0      0    5             0   \n",
       "100                     0      0   12             0   \n",
       "101                     0      0   28             1   \n",
       "102                     0      2   28             1   \n",
       "103                     0      0   25             0   \n",
       "104                     0      1   27             0   \n",
       "105                     0      0   11             0   \n",
       "106                     0      0   11             0   \n",
       "107                     0      0    5             0   \n",
       "108                     0      0   12             0   \n",
       "109                     0      0   13             0   \n",
       "110                     0      0    2             0   \n",
       "111                     0      0   21             1   \n",
       "112                     0      0    3             0   \n",
       "117                     0      0    4             0   \n",
       "...                   ...    ...  ...           ...   \n",
       "18276                   0      0    7             0   \n",
       "18277                   0      0    3             0   \n",
       "18278                   1      0    2             0   \n",
       "18279                   0      0    4             0   \n",
       "18280                   0      0    2             0   \n",
       "18282                   0      0    3             0   \n",
       "18284                   0      0    3             0   \n",
       "18285                   0      0    2             0   \n",
       "18286                   0      0    9             0   \n",
       "18287                   0      0    1             0   \n",
       "18288                   0      0   11             0   \n",
       "18291                   0      0    1             0   \n",
       "18292                   0      0   17             0   \n",
       "18293                   0      0    6             0   \n",
       "18295                   0      0   13             1   \n",
       "18296                   0      0    2             0   \n",
       "18297                   0      0   14             0   \n",
       "18313                   0      0    3             0   \n",
       "18318                   0      0    5             0   \n",
       "18320                   0      0    9             0   \n",
       "18321                   0      0    9             0   \n",
       "18322                   1      0   13             1   \n",
       "18323                   1      1   27             0   \n",
       "18324                   0      0   12             0   \n",
       "18325                   0      0    9             0   \n",
       "18326                   0      0   13             0   \n",
       "18327                   2      0    7             1   \n",
       "18328                   0      0   11             0   \n",
       "18329                   0      0    6             0   \n",
       "18330                   1      0   10             0   \n",
       "\n",
       "       clearances_blocks_interceptions  completed_passes  \\\n",
       "80                                   6                85   \n",
       "82                                   4                70   \n",
       "83                                   2                36   \n",
       "84                                  10                57   \n",
       "85                                   2                87   \n",
       "86                                  17                27   \n",
       "88                                  10                32   \n",
       "89                                  14                37   \n",
       "90                                   2                15   \n",
       "91                                   8                65   \n",
       "92                                   9                15   \n",
       "93                                   4                32   \n",
       "96                                   9                22   \n",
       "97                                   5                36   \n",
       "98                                   6                40   \n",
       "99                                   2                40   \n",
       "100                                  3                36   \n",
       "101                                  4                35   \n",
       "102                                  4                38   \n",
       "103                                  3                26   \n",
       "104                                  1                56   \n",
       "105                                  2                33   \n",
       "106                                  2                40   \n",
       "107                                  0                45   \n",
       "108                                  0                45   \n",
       "109                                  2                48   \n",
       "110                                  1                26   \n",
       "111                                  1                35   \n",
       "112                                  2                16   \n",
       "117                                  1                10   \n",
       "...                                ...               ...   \n",
       "18276                                0                12   \n",
       "18277                                1                 1   \n",
       "18278                                0                 4   \n",
       "18279                                0                 9   \n",
       "18280                                1                17   \n",
       "18282                                0                 8   \n",
       "18284                                0                10   \n",
       "18285                                0                 6   \n",
       "18286                                1                11   \n",
       "18287                                0                 1   \n",
       "18288                                0                 9   \n",
       "18291                                1                 0   \n",
       "18292                                0                 6   \n",
       "18293                                0                 3   \n",
       "18295                                2                19   \n",
       "18296                                0                 0   \n",
       "18297                                0                23   \n",
       "18313                                1                 3   \n",
       "18318                                1                18   \n",
       "18320                                6                26   \n",
       "18321                                7                21   \n",
       "18322                                3                27   \n",
       "18323                                5                20   \n",
       "18324                                2                29   \n",
       "18325                                0                29   \n",
       "18326                                1                41   \n",
       "18327                                4                30   \n",
       "18328                                9                17   \n",
       "18329                                0                27   \n",
       "18330                                5                43   \n",
       "\n",
       "               ...           team_a_difficulty  team_h  team_h_difficulty  \\\n",
       "80             ...                           2      16                  4   \n",
       "82             ...                           2       3                  4   \n",
       "83             ...                           5      12                  4   \n",
       "84             ...                           4       1                  2   \n",
       "85             ...                           3      19                  4   \n",
       "86             ...                           4       1                  4   \n",
       "88             ...                           5      13                  4   \n",
       "89             ...                           2      10                  4   \n",
       "90             ...                           4       1                  2   \n",
       "91             ...                           4       1                  2   \n",
       "92             ...                           4      17                  4   \n",
       "93             ...                           4       1                  4   \n",
       "96             ...                           4       1                  4   \n",
       "97             ...                           4       6                  4   \n",
       "98             ...                           4       1                  3   \n",
       "99             ...                           2       5                  4   \n",
       "100            ...                           3      15                  4   \n",
       "101            ...                           4       1                  2   \n",
       "102            ...                           4       1                  3   \n",
       "103            ...                           2       9                  4   \n",
       "104            ...                           4       1                  3   \n",
       "105            ...                           2       7                  4   \n",
       "106            ...                           4       1                  4   \n",
       "107            ...                           4       1                  3   \n",
       "108            ...                           3       2                  4   \n",
       "109            ...                           4       1                  4   \n",
       "110            ...                           4      14                  4   \n",
       "111            ...                           4       1                  2   \n",
       "112            ...                           2      16                  4   \n",
       "117            ...                           3      19                  4   \n",
       "...            ...                         ...     ...                ...   \n",
       "18276          ...                           2       3                  3   \n",
       "18277          ...                           3      20                  4   \n",
       "18278          ...                           4       1                  3   \n",
       "18279          ...                           3      20                  2   \n",
       "18280          ...                           2       5                  3   \n",
       "18282          ...                           3      15                  3   \n",
       "18284          ...                           3      20                  4   \n",
       "18285          ...                           2       9                  3   \n",
       "18286          ...                           4      17                  3   \n",
       "18287          ...                           3      20                  2   \n",
       "18288          ...                           5      13                  3   \n",
       "18291          ...                           3       8                  3   \n",
       "18292          ...                           3      20                  2   \n",
       "18293          ...                           3       2                  3   \n",
       "18295          ...                           3      20                  2   \n",
       "18296          ...                           4       6                  3   \n",
       "18297          ...                           3       4                  3   \n",
       "18313          ...                           3      20                  4   \n",
       "18318          ...                           4      17                  3   \n",
       "18320          ...                           5      13                  3   \n",
       "18321          ...                           3      20                  3   \n",
       "18322          ...                           3      20                  3   \n",
       "18323          ...                           3       8                  3   \n",
       "18324          ...                           3      20                  2   \n",
       "18325          ...                           3       2                  3   \n",
       "18326          ...                           2      10                  3   \n",
       "18327          ...                           3      20                  2   \n",
       "18328          ...                           4       6                  3   \n",
       "18329          ...                           3       4                  3   \n",
       "18330          ...                           3      20                  4   \n",
       "\n",
       "       element_type  team    web_name  safe_web_name  own_team  \\\n",
       "80                2     1   Koscielny      koscielny         1   \n",
       "82                2     1   Koscielny      koscielny         1   \n",
       "83                2     1   Koscielny      koscielny         1   \n",
       "84                2     1   Koscielny      koscielny         1   \n",
       "85                2     1   Koscielny      koscielny         1   \n",
       "86                2     1   Koscielny      koscielny         1   \n",
       "88                2     1   Koscielny      koscielny         1   \n",
       "89                2     1   Koscielny      koscielny         1   \n",
       "90                2     1   Koscielny      koscielny         1   \n",
       "91                2     1   Koscielny      koscielny         1   \n",
       "92                2     1   Koscielny      koscielny         1   \n",
       "93                2     1   Koscielny      koscielny         1   \n",
       "96                2     1    Bellerín       bellerin         1   \n",
       "97                2     1    Bellerín       bellerin         1   \n",
       "98                2     1    Bellerín       bellerin         1   \n",
       "99                2     1    Bellerín       bellerin         1   \n",
       "100               2     1    Bellerín       bellerin         1   \n",
       "101               2     1    Bellerín       bellerin         1   \n",
       "102               2     1    Bellerín       bellerin         1   \n",
       "103               2     1    Bellerín       bellerin         1   \n",
       "104               2     1    Bellerín       bellerin         1   \n",
       "105               2     1    Bellerín       bellerin         1   \n",
       "106               2     1    Bellerín       bellerin         1   \n",
       "107               2     1    Bellerín       bellerin         1   \n",
       "108               2     1    Bellerín       bellerin         1   \n",
       "109               2     1    Bellerín       bellerin         1   \n",
       "110               2     1    Bellerín       bellerin         1   \n",
       "111               2     1    Bellerín       bellerin         1   \n",
       "112               2     1    Bellerín       bellerin         1   \n",
       "117               2     1    Bellerín       bellerin         1   \n",
       "...             ...   ...         ...            ...       ...   \n",
       "18276             3    20      Traoré         traore        20   \n",
       "18277             3    20      Traoré         traore        20   \n",
       "18278             3    20      Traoré         traore        20   \n",
       "18279             3    20      Traoré         traore        20   \n",
       "18280             3    20      Traoré         traore        20   \n",
       "18282             3    20      Traoré         traore        20   \n",
       "18284             3    20      Traoré         traore        20   \n",
       "18285             3    20      Traoré         traore        20   \n",
       "18286             3    20      Traoré         traore        20   \n",
       "18287             3    20      Traoré         traore        20   \n",
       "18288             3    20      Traoré         traore        20   \n",
       "18291             3    20      Traoré         traore        20   \n",
       "18292             3    20      Traoré         traore        20   \n",
       "18293             3    20      Traoré         traore        20   \n",
       "18295             3    20      Traoré         traore        20   \n",
       "18296             3    20      Traoré         traore        20   \n",
       "18297             3    20      Traoré         traore        20   \n",
       "18313             3    20  Dendoncker     dendoncker        20   \n",
       "18318             3    20  Dendoncker     dendoncker        20   \n",
       "18320             3    20  Dendoncker     dendoncker        20   \n",
       "18321             3    20  Dendoncker     dendoncker        20   \n",
       "18322             3    20  Dendoncker     dendoncker        20   \n",
       "18323             3    20  Dendoncker     dendoncker        20   \n",
       "18324             3    20  Dendoncker     dendoncker        20   \n",
       "18325             3    20  Dendoncker     dendoncker        20   \n",
       "18326             3    20  Dendoncker     dendoncker        20   \n",
       "18327             3    20  Dendoncker     dendoncker        20   \n",
       "18328             3    20  Dendoncker     dendoncker        20   \n",
       "18329             3    20  Dendoncker     dendoncker        20   \n",
       "18330             3    20  Dendoncker     dendoncker        20   \n",
       "\n",
       "       opposition_team  element_fixture_rank  \n",
       "80                  16                   1.0  \n",
       "82                   3                   2.0  \n",
       "83                  12                   3.0  \n",
       "84                   9                   4.0  \n",
       "85                  19                   5.0  \n",
       "86                   6                   6.0  \n",
       "88                  13                   7.0  \n",
       "89                  10                   8.0  \n",
       "90                  16                   9.0  \n",
       "91                   2                  10.0  \n",
       "92                  17                  11.0  \n",
       "93                  14                  12.0  \n",
       "96                  13                   1.0  \n",
       "97                   6                   2.0  \n",
       "98                  19                   3.0  \n",
       "99                   5                   4.0  \n",
       "100                 15                   5.0  \n",
       "101                  8                   6.0  \n",
       "102                 18                   7.0  \n",
       "103                  9                   8.0  \n",
       "104                 11                   9.0  \n",
       "105                  7                  10.0  \n",
       "106                 12                  11.0  \n",
       "107                 20                  12.0  \n",
       "108                  2                  13.0  \n",
       "109                 17                  14.0  \n",
       "110                 14                  15.0  \n",
       "111                 10                  16.0  \n",
       "112                 16                  17.0  \n",
       "117                 19                  18.0  \n",
       "...                ...                   ...  \n",
       "18276                3                   9.0  \n",
       "18277               17                  10.0  \n",
       "18278                1                  11.0  \n",
       "18279               10                  12.0  \n",
       "18280                5                  13.0  \n",
       "18282               15                  14.0  \n",
       "18284               12                  15.0  \n",
       "18285                9                  16.0  \n",
       "18286               17                  17.0  \n",
       "18287                7                  18.0  \n",
       "18288               13                  19.0  \n",
       "18291                8                  20.0  \n",
       "18292               15                  21.0  \n",
       "18293                2                  22.0  \n",
       "18295                5                  23.0  \n",
       "18296                6                  24.0  \n",
       "18297                4                  25.0  \n",
       "18313                6                   1.0  \n",
       "18318               17                   2.0  \n",
       "18320               13                   3.0  \n",
       "18321               11                   4.0  \n",
       "18322               19                   5.0  \n",
       "18323                8                   6.0  \n",
       "18324               15                   7.0  \n",
       "18325                2                   8.0  \n",
       "18326               10                   9.0  \n",
       "18327                5                  10.0  \n",
       "18328                6                  11.0  \n",
       "18329                4                  12.0  \n",
       "18330               14                  13.0  \n",
       "\n",
       "[8161 rows x 67 columns]"
      ]
     },
     "execution_count": 10,
     "metadata": {},
     "output_type": "execute_result"
    }
   ],
   "source": [
    "element_gameweek_df"
   ]
  },
  {
   "cell_type": "code",
   "execution_count": 11,
   "metadata": {
    "ExecuteTime": {
     "end_time": "2019-04-08T15:16:38.924918Z",
     "start_time": "2019-04-08T15:16:38.172664Z"
    },
    "hidden": true
   },
   "outputs": [],
   "source": [
    "rolling_df = \\\n",
    "element_gameweek_df.copy().groupby('element', as_index=True)[['minutes', 'goals_scored', 'assists']]\\\n",
    ".rolling(38, min_periods=1).sum().reset_index()[['element', 'minutes', 'goals_scored', 'assists']]"
   ]
  },
  {
   "cell_type": "code",
   "execution_count": 12,
   "metadata": {
    "ExecuteTime": {
     "end_time": "2019-04-08T15:16:38.990493Z",
     "start_time": "2019-04-08T15:16:38.927198Z"
    },
    "hidden": true
   },
   "outputs": [],
   "source": [
    "rolling_df['element_fixture_rank'] = rolling_df.groupby('element')['minutes'].rank()"
   ]
  },
  {
   "cell_type": "code",
   "execution_count": 13,
   "metadata": {
    "ExecuteTime": {
     "end_time": "2019-04-08T15:16:39.005446Z",
     "start_time": "2019-04-08T15:16:38.992840Z"
    },
    "hidden": true
   },
   "outputs": [
    {
     "data": {
      "text/html": [
       "<div>\n",
       "<style scoped>\n",
       "    .dataframe tbody tr th:only-of-type {\n",
       "        vertical-align: middle;\n",
       "    }\n",
       "\n",
       "    .dataframe tbody tr th {\n",
       "        vertical-align: top;\n",
       "    }\n",
       "\n",
       "    .dataframe thead th {\n",
       "        text-align: right;\n",
       "    }\n",
       "</style>\n",
       "<table border=\"1\" class=\"dataframe\">\n",
       "  <thead>\n",
       "    <tr style=\"text-align: right;\">\n",
       "      <th></th>\n",
       "      <th>element</th>\n",
       "      <th>minutes</th>\n",
       "      <th>goals_scored</th>\n",
       "      <th>assists</th>\n",
       "      <th>element_fixture_rank</th>\n",
       "    </tr>\n",
       "  </thead>\n",
       "  <tbody>\n",
       "    <tr>\n",
       "      <th>0</th>\n",
       "      <td>3</td>\n",
       "      <td>90.0</td>\n",
       "      <td>0.0</td>\n",
       "      <td>0.0</td>\n",
       "      <td>1.0</td>\n",
       "    </tr>\n",
       "    <tr>\n",
       "      <th>1</th>\n",
       "      <td>3</td>\n",
       "      <td>159.0</td>\n",
       "      <td>0.0</td>\n",
       "      <td>0.0</td>\n",
       "      <td>2.0</td>\n",
       "    </tr>\n",
       "    <tr>\n",
       "      <th>2</th>\n",
       "      <td>3</td>\n",
       "      <td>204.0</td>\n",
       "      <td>0.0</td>\n",
       "      <td>0.0</td>\n",
       "      <td>3.0</td>\n",
       "    </tr>\n",
       "    <tr>\n",
       "      <th>3</th>\n",
       "      <td>3</td>\n",
       "      <td>294.0</td>\n",
       "      <td>0.0</td>\n",
       "      <td>0.0</td>\n",
       "      <td>4.0</td>\n",
       "    </tr>\n",
       "    <tr>\n",
       "      <th>4</th>\n",
       "      <td>3</td>\n",
       "      <td>384.0</td>\n",
       "      <td>0.0</td>\n",
       "      <td>0.0</td>\n",
       "      <td>5.0</td>\n",
       "    </tr>\n",
       "  </tbody>\n",
       "</table>\n",
       "</div>"
      ],
      "text/plain": [
       "   element  minutes  goals_scored  assists  element_fixture_rank\n",
       "0        3     90.0           0.0      0.0                   1.0\n",
       "1        3    159.0           0.0      0.0                   2.0\n",
       "2        3    204.0           0.0      0.0                   3.0\n",
       "3        3    294.0           0.0      0.0                   4.0\n",
       "4        3    384.0           0.0      0.0                   5.0"
      ]
     },
     "execution_count": 13,
     "metadata": {},
     "output_type": "execute_result"
    }
   ],
   "source": [
    "rolling_df.head()"
   ]
  },
  {
   "cell_type": "code",
   "execution_count": 14,
   "metadata": {
    "ExecuteTime": {
     "end_time": "2019-04-08T15:16:39.039155Z",
     "start_time": "2019-04-08T15:16:39.007279Z"
    },
    "hidden": true
   },
   "outputs": [],
   "source": [
    "rolling_df['element_fixture_rank'] = rolling_df['element_fixture_rank'] + 1"
   ]
  },
  {
   "cell_type": "code",
   "execution_count": 15,
   "metadata": {
    "ExecuteTime": {
     "end_time": "2019-04-08T15:16:39.086261Z",
     "start_time": "2019-04-08T15:16:39.041313Z"
    },
    "hidden": true
   },
   "outputs": [],
   "source": [
    "element_gameweek_df =\\\n",
    "element_gameweek_df.join(\n",
    "    rolling_df.set_index(['element', 'element_fixture_rank']),\n",
    "    on=['element', 'element_fixture_rank'],\n",
    "    rsuffix='_rolling')"
   ]
  },
  {
   "cell_type": "code",
   "execution_count": 16,
   "metadata": {
    "ExecuteTime": {
     "end_time": "2019-04-08T15:16:39.101681Z",
     "start_time": "2019-04-08T15:16:39.088455Z"
    },
    "hidden": true
   },
   "outputs": [],
   "source": [
    "element_gameweek_df['goals_scored_per_minute_rolling'] = \\\n",
    "element_gameweek_df['goals_scored_rolling'] / element_gameweek_df['minutes_rolling']\n",
    "\n",
    "element_gameweek_df['assists_per_minute_rolling'] = \\\n",
    "element_gameweek_df['assists_rolling'] / element_gameweek_df['minutes_rolling']\n",
    "\n",
    "element_gameweek_df['minutes_per_fixture_rolling'] = \\\n",
    "element_gameweek_df['minutes_rolling'] / element_gameweek_df['element_fixture_rank']"
   ]
  },
  {
   "cell_type": "code",
   "execution_count": 17,
   "metadata": {
    "ExecuteTime": {
     "end_time": "2019-04-08T15:16:39.176393Z",
     "start_time": "2019-04-08T15:16:39.105681Z"
    },
    "hidden": true
   },
   "outputs": [
    {
     "data": {
      "text/html": [
       "<div>\n",
       "<style scoped>\n",
       "    .dataframe tbody tr th:only-of-type {\n",
       "        vertical-align: middle;\n",
       "    }\n",
       "\n",
       "    .dataframe tbody tr th {\n",
       "        vertical-align: top;\n",
       "    }\n",
       "\n",
       "    .dataframe thead th {\n",
       "        text-align: right;\n",
       "    }\n",
       "</style>\n",
       "<table border=\"1\" class=\"dataframe\">\n",
       "  <thead>\n",
       "    <tr style=\"text-align: right;\">\n",
       "      <th></th>\n",
       "      <th>row_id</th>\n",
       "      <th>assists</th>\n",
       "      <th>attempted_passes</th>\n",
       "      <th>big_chances_created</th>\n",
       "      <th>big_chances_missed</th>\n",
       "      <th>bonus</th>\n",
       "      <th>bps</th>\n",
       "      <th>clean_sheets</th>\n",
       "      <th>clearances_blocks_interceptions</th>\n",
       "      <th>completed_passes</th>\n",
       "      <th>...</th>\n",
       "      <th>safe_web_name</th>\n",
       "      <th>own_team</th>\n",
       "      <th>opposition_team</th>\n",
       "      <th>element_fixture_rank</th>\n",
       "      <th>minutes_rolling</th>\n",
       "      <th>goals_scored_rolling</th>\n",
       "      <th>assists_rolling</th>\n",
       "      <th>goals_scored_per_minute_rolling</th>\n",
       "      <th>assists_per_minute_rolling</th>\n",
       "      <th>minutes_per_fixture_rolling</th>\n",
       "    </tr>\n",
       "  </thead>\n",
       "  <tbody>\n",
       "    <tr>\n",
       "      <th>80</th>\n",
       "      <td>1.0</td>\n",
       "      <td>0</td>\n",
       "      <td>92</td>\n",
       "      <td>0</td>\n",
       "      <td>0</td>\n",
       "      <td>0</td>\n",
       "      <td>11</td>\n",
       "      <td>0</td>\n",
       "      <td>6</td>\n",
       "      <td>85</td>\n",
       "      <td>...</td>\n",
       "      <td>koscielny</td>\n",
       "      <td>1</td>\n",
       "      <td>16</td>\n",
       "      <td>1.0</td>\n",
       "      <td>NaN</td>\n",
       "      <td>NaN</td>\n",
       "      <td>NaN</td>\n",
       "      <td>NaN</td>\n",
       "      <td>NaN</td>\n",
       "      <td>NaN</td>\n",
       "    </tr>\n",
       "    <tr>\n",
       "      <th>82</th>\n",
       "      <td>2.0</td>\n",
       "      <td>0</td>\n",
       "      <td>74</td>\n",
       "      <td>0</td>\n",
       "      <td>0</td>\n",
       "      <td>0</td>\n",
       "      <td>17</td>\n",
       "      <td>0</td>\n",
       "      <td>4</td>\n",
       "      <td>70</td>\n",
       "      <td>...</td>\n",
       "      <td>koscielny</td>\n",
       "      <td>1</td>\n",
       "      <td>3</td>\n",
       "      <td>2.0</td>\n",
       "      <td>90.0</td>\n",
       "      <td>0.0</td>\n",
       "      <td>0.0</td>\n",
       "      <td>0.0</td>\n",
       "      <td>0.0</td>\n",
       "      <td>45.0</td>\n",
       "    </tr>\n",
       "    <tr>\n",
       "      <th>83</th>\n",
       "      <td>3.0</td>\n",
       "      <td>0</td>\n",
       "      <td>38</td>\n",
       "      <td>0</td>\n",
       "      <td>0</td>\n",
       "      <td>0</td>\n",
       "      <td>10</td>\n",
       "      <td>0</td>\n",
       "      <td>2</td>\n",
       "      <td>36</td>\n",
       "      <td>...</td>\n",
       "      <td>koscielny</td>\n",
       "      <td>1</td>\n",
       "      <td>12</td>\n",
       "      <td>3.0</td>\n",
       "      <td>159.0</td>\n",
       "      <td>0.0</td>\n",
       "      <td>0.0</td>\n",
       "      <td>0.0</td>\n",
       "      <td>0.0</td>\n",
       "      <td>53.0</td>\n",
       "    </tr>\n",
       "    <tr>\n",
       "      <th>84</th>\n",
       "      <td>4.0</td>\n",
       "      <td>0</td>\n",
       "      <td>64</td>\n",
       "      <td>0</td>\n",
       "      <td>0</td>\n",
       "      <td>0</td>\n",
       "      <td>19</td>\n",
       "      <td>0</td>\n",
       "      <td>10</td>\n",
       "      <td>57</td>\n",
       "      <td>...</td>\n",
       "      <td>koscielny</td>\n",
       "      <td>1</td>\n",
       "      <td>9</td>\n",
       "      <td>4.0</td>\n",
       "      <td>204.0</td>\n",
       "      <td>0.0</td>\n",
       "      <td>0.0</td>\n",
       "      <td>0.0</td>\n",
       "      <td>0.0</td>\n",
       "      <td>51.0</td>\n",
       "    </tr>\n",
       "    <tr>\n",
       "      <th>85</th>\n",
       "      <td>5.0</td>\n",
       "      <td>0</td>\n",
       "      <td>89</td>\n",
       "      <td>0</td>\n",
       "      <td>0</td>\n",
       "      <td>0</td>\n",
       "      <td>17</td>\n",
       "      <td>0</td>\n",
       "      <td>2</td>\n",
       "      <td>87</td>\n",
       "      <td>...</td>\n",
       "      <td>koscielny</td>\n",
       "      <td>1</td>\n",
       "      <td>19</td>\n",
       "      <td>5.0</td>\n",
       "      <td>294.0</td>\n",
       "      <td>0.0</td>\n",
       "      <td>0.0</td>\n",
       "      <td>0.0</td>\n",
       "      <td>0.0</td>\n",
       "      <td>58.8</td>\n",
       "    </tr>\n",
       "  </tbody>\n",
       "</table>\n",
       "<p>5 rows × 73 columns</p>\n",
       "</div>"
      ],
      "text/plain": [
       "    row_id  assists  attempted_passes  big_chances_created  \\\n",
       "80     1.0        0                92                    0   \n",
       "82     2.0        0                74                    0   \n",
       "83     3.0        0                38                    0   \n",
       "84     4.0        0                64                    0   \n",
       "85     5.0        0                89                    0   \n",
       "\n",
       "    big_chances_missed  bonus  bps  clean_sheets  \\\n",
       "80                   0      0   11             0   \n",
       "82                   0      0   17             0   \n",
       "83                   0      0   10             0   \n",
       "84                   0      0   19             0   \n",
       "85                   0      0   17             0   \n",
       "\n",
       "    clearances_blocks_interceptions  completed_passes  \\\n",
       "80                                6                85   \n",
       "82                                4                70   \n",
       "83                                2                36   \n",
       "84                               10                57   \n",
       "85                                2                87   \n",
       "\n",
       "               ...               safe_web_name  own_team  opposition_team  \\\n",
       "80             ...                   koscielny         1               16   \n",
       "82             ...                   koscielny         1                3   \n",
       "83             ...                   koscielny         1               12   \n",
       "84             ...                   koscielny         1                9   \n",
       "85             ...                   koscielny         1               19   \n",
       "\n",
       "    element_fixture_rank  minutes_rolling  goals_scored_rolling  \\\n",
       "80                   1.0              NaN                   NaN   \n",
       "82                   2.0             90.0                   0.0   \n",
       "83                   3.0            159.0                   0.0   \n",
       "84                   4.0            204.0                   0.0   \n",
       "85                   5.0            294.0                   0.0   \n",
       "\n",
       "    assists_rolling  goals_scored_per_minute_rolling  \\\n",
       "80              NaN                              NaN   \n",
       "82              0.0                              0.0   \n",
       "83              0.0                              0.0   \n",
       "84              0.0                              0.0   \n",
       "85              0.0                              0.0   \n",
       "\n",
       "    assists_per_minute_rolling  minutes_per_fixture_rolling  \n",
       "80                         NaN                          NaN  \n",
       "82                         0.0                         45.0  \n",
       "83                         0.0                         53.0  \n",
       "84                         0.0                         51.0  \n",
       "85                         0.0                         58.8  \n",
       "\n",
       "[5 rows x 73 columns]"
      ]
     },
     "execution_count": 17,
     "metadata": {},
     "output_type": "execute_result"
    }
   ],
   "source": [
    "element_gameweek_df.head()"
   ]
  },
  {
   "cell_type": "markdown",
   "metadata": {
    "heading_collapsed": true
   },
   "source": [
    "# Models"
   ]
  },
  {
   "cell_type": "markdown",
   "metadata": {
    "heading_collapsed": true,
    "hidden": true
   },
   "source": [
    "## Simple Poisson model"
   ]
  },
  {
   "cell_type": "markdown",
   "metadata": {
    "heading_collapsed": true,
    "hidden": true
   },
   "source": [
    "### Preparing data"
   ]
  },
  {
   "cell_type": "code",
   "execution_count": 18,
   "metadata": {
    "ExecuteTime": {
     "end_time": "2019-04-08T15:16:39.191227Z",
     "start_time": "2019-04-08T15:16:39.179053Z"
    },
    "hidden": true
   },
   "outputs": [],
   "source": [
    "spm_df = element_gameweek_df.copy()"
   ]
  },
  {
   "cell_type": "code",
   "execution_count": 19,
   "metadata": {
    "ExecuteTime": {
     "end_time": "2019-04-08T15:16:39.214101Z",
     "start_time": "2019-04-08T15:16:39.194367Z"
    },
    "hidden": true
   },
   "outputs": [],
   "source": [
    "spm_redundant_columns = [\n",
    "    'row_id', 'assists', 'attempted_passes', 'big_chances_created',\n",
    "    'big_chances_missed', 'bonus', 'bps', 'clean_sheets',\n",
    "    'clearances_blocks_interceptions', 'completed_passes', 'creativity',\n",
    "    'dribbles', 'ea_index', 'element', 'errors_leading_to_goal',\n",
    "    'errors_leading_to_goal_attempt', 'fixture', 'fouls', 'goals_conceded',\n",
    "    'ict_index', 'id', 'influence', 'key_passes', 'kickoff_time',\n",
    "    'kickoff_time_formatted', 'loaned_in', 'loaned_out', 'minutes', 'offside',\n",
    "    'open_play_crosses', 'opponent_team', 'own_goals', 'penalties_conceded',\n",
    "    'penalties_missed', 'penalties_saved', 'recoveries', 'red_cards', 'round',\n",
    "    'saves', 'selected', 'tackled', 'tackles', 'target_missed', 'team_a_score',\n",
    "    'team_h_score', 'threat', 'total_points', 'transfers_balance',\n",
    "    'transfers_in', 'transfers_out', 'value', 'winning_goals',\n",
    "    'yellow_cards', 'event', 'team_a', 'team_a_difficulty', 'team_h',\n",
    "    'team_h_difficulty', 'element_type', 'team', 'web_name', 'safe_web_name',\n",
    "    'own_team', 'opposition_team', 'was_home', 'element_fixture_rank',\n",
    "    'minutes_rolling', 'goals_scored_rolling', 'assists_rolling',\n",
    "    'goals_scored_per_minute_rolling', 'assists_per_minute_rolling', 'minutes_per_fixture_rolling'\n",
    "]"
   ]
  },
  {
   "cell_type": "code",
   "execution_count": 20,
   "metadata": {
    "ExecuteTime": {
     "end_time": "2019-04-08T15:16:39.246556Z",
     "start_time": "2019-04-08T15:16:39.216721Z"
    },
    "hidden": true
   },
   "outputs": [],
   "source": [
    "spm_df = player.remove_redundant_columns(spm_df, spm_redundant_columns)"
   ]
  },
  {
   "cell_type": "code",
   "execution_count": 21,
   "metadata": {
    "ExecuteTime": {
     "end_time": "2019-04-08T15:16:39.285794Z",
     "start_time": "2019-04-08T15:16:39.249837Z"
    },
    "hidden": true
   },
   "outputs": [],
   "source": [
    "spm_response_df, spm_explanatory_df = player.get_response_explanatory_dfs(spm_df, 'goals_scored')"
   ]
  },
  {
   "cell_type": "code",
   "execution_count": 22,
   "metadata": {
    "ExecuteTime": {
     "end_time": "2019-04-08T15:16:39.315350Z",
     "start_time": "2019-04-08T15:16:39.289847Z"
    },
    "hidden": true
   },
   "outputs": [
    {
     "data": {
      "text/plain": [
       "Index(['const'], dtype='object')"
      ]
     },
     "execution_count": 22,
     "metadata": {},
     "output_type": "execute_result"
    }
   ],
   "source": [
    "spm_explanatory_df.columns"
   ]
  },
  {
   "cell_type": "code",
   "execution_count": 23,
   "metadata": {
    "ExecuteTime": {
     "end_time": "2019-04-08T15:16:39.352533Z",
     "start_time": "2019-04-08T15:16:39.319619Z"
    },
    "hidden": true
   },
   "outputs": [
    {
     "data": {
      "text/plain": [
       "80    0\n",
       "82    0\n",
       "83    0\n",
       "84    0\n",
       "85    0\n",
       "Name: goals_scored, dtype: int64"
      ]
     },
     "execution_count": 23,
     "metadata": {},
     "output_type": "execute_result"
    }
   ],
   "source": [
    "spm_response_df.head()"
   ]
  },
  {
   "cell_type": "markdown",
   "metadata": {
    "heading_collapsed": true,
    "hidden": true
   },
   "source": [
    "### Fitting model"
   ]
  },
  {
   "cell_type": "code",
   "execution_count": 24,
   "metadata": {
    "ExecuteTime": {
     "end_time": "2019-04-08T15:16:39.403432Z",
     "start_time": "2019-04-08T15:16:39.356088Z"
    },
    "hidden": true
   },
   "outputs": [],
   "source": [
    "spm_results = sm.GLM(\n",
    "    spm_response_df,\n",
    "    spm_explanatory_df,\n",
    "    family=sm.families.Poisson(),\n",
    "    missing='drop'\n",
    ").fit()"
   ]
  },
  {
   "cell_type": "code",
   "execution_count": 25,
   "metadata": {
    "ExecuteTime": {
     "end_time": "2019-04-08T15:16:39.421052Z",
     "start_time": "2019-04-08T15:16:39.406358Z"
    },
    "hidden": true
   },
   "outputs": [
    {
     "name": "stdout",
     "output_type": "stream",
     "text": [
      "                 Generalized Linear Model Regression Results                  \n",
      "==============================================================================\n",
      "Dep. Variable:           goals_scored   No. Observations:                 8161\n",
      "Model:                            GLM   Df Residuals:                     8160\n",
      "Model Family:                 Poisson   Df Model:                            0\n",
      "Link Function:                    log   Scale:                             1.0\n",
      "Method:                          IRLS   Log-Likelihood:                -2893.8\n",
      "Date:                Mon, 08 Apr 2019   Deviance:                       4175.4\n",
      "Time:                        15:16:39   Pearson chi2:                 9.23e+03\n",
      "No. Iterations:                     6                                         \n",
      "==============================================================================\n",
      "                 coef    std err          z      P>|z|      [0.025      0.975]\n",
      "------------------------------------------------------------------------------\n",
      "const         -2.2352      0.034    -66.042      0.000      -2.302      -2.169\n",
      "==============================================================================\n"
     ]
    }
   ],
   "source": [
    "print(spm_results.summary())"
   ]
  },
  {
   "cell_type": "markdown",
   "metadata": {
    "heading_collapsed": true,
    "hidden": true
   },
   "source": [
    "### Model fit"
   ]
  },
  {
   "cell_type": "code",
   "execution_count": 26,
   "metadata": {
    "ExecuteTime": {
     "end_time": "2019-04-08T15:16:39.440360Z",
     "start_time": "2019-04-08T15:16:39.423724Z"
    },
    "hidden": true
   },
   "outputs": [
    {
     "data": {
      "text/plain": [
       "5789.631849369688"
      ]
     },
     "execution_count": 26,
     "metadata": {},
     "output_type": "execute_result"
    }
   ],
   "source": [
    "spm_results.aic"
   ]
  },
  {
   "cell_type": "code",
   "execution_count": 27,
   "metadata": {
    "ExecuteTime": {
     "end_time": "2019-04-08T15:16:39.473005Z",
     "start_time": "2019-04-08T15:16:39.444400Z"
    },
    "hidden": true
   },
   "outputs": [
    {
     "data": {
      "text/plain": [
       "-69322.66552575112"
      ]
     },
     "execution_count": 27,
     "metadata": {},
     "output_type": "execute_result"
    }
   ],
   "source": [
    "spm_results.bic"
   ]
  },
  {
   "cell_type": "code",
   "execution_count": 28,
   "metadata": {
    "ExecuteTime": {
     "end_time": "2019-04-08T15:16:39.508356Z",
     "start_time": "2019-04-08T15:16:39.476977Z"
    },
    "hidden": true
   },
   "outputs": [
    {
     "data": {
      "text/plain": [
       "(True, 3.3306690738754696e-16)"
      ]
     },
     "execution_count": 28,
     "metadata": {},
     "output_type": "execute_result"
    }
   ],
   "source": [
    "spm_pearson_results = goodness_fit.pearson_chi_squared_test(spm_results)\n",
    "spm_pearson_results"
   ]
  },
  {
   "cell_type": "code",
   "execution_count": 29,
   "metadata": {
    "ExecuteTime": {
     "end_time": "2019-04-08T15:16:39.553656Z",
     "start_time": "2019-04-08T15:16:39.511847Z"
    },
    "hidden": true
   },
   "outputs": [
    {
     "data": {
      "text/plain": [
       "count    8161.000000\n",
       "mean       -0.248799\n",
       "std         0.670663\n",
       "min        -0.462541\n",
       "25%        -0.462541\n",
       "50%        -0.462541\n",
       "75%        -0.462541\n",
       "max         3.770509\n",
       "dtype: float64"
      ]
     },
     "execution_count": 29,
     "metadata": {},
     "output_type": "execute_result"
    }
   ],
   "source": [
    "spm_results.resid_deviance.describe()"
   ]
  },
  {
   "cell_type": "code",
   "execution_count": 30,
   "metadata": {
    "ExecuteTime": {
     "end_time": "2019-04-08T15:16:39.875750Z",
     "start_time": "2019-04-08T15:16:39.557303Z"
    },
    "hidden": true
   },
   "outputs": [
    {
     "data": {
      "image/png": "[encoded data removed]",
      "text/plain": [
       "<Figure size 432x288 with 1 Axes>"
      ]
     },
     "metadata": {
      "needs_background": "light"
     },
     "output_type": "display_data"
    }
   ],
   "source": [
    "plt.figure()\n",
    "plt.hist(spm_results.resid_deviance)\n",
    "plt.show()"
   ]
  },
  {
   "cell_type": "markdown",
   "metadata": {
    "heading_collapsed": true,
    "hidden": true
   },
   "source": [
    "## Simple Poisson minutes model"
   ]
  },
  {
   "cell_type": "markdown",
   "metadata": {
    "heading_collapsed": true,
    "hidden": true
   },
   "source": [
    "### Preparing data"
   ]
  },
  {
   "cell_type": "code",
   "execution_count": 31,
   "metadata": {
    "ExecuteTime": {
     "end_time": "2019-04-08T15:16:39.884337Z",
     "start_time": "2019-04-08T15:16:39.878183Z"
    },
    "hidden": true
   },
   "outputs": [],
   "source": [
    "spmm_df = element_gameweek_df.copy()"
   ]
  },
  {
   "cell_type": "code",
   "execution_count": 32,
   "metadata": {
    "ExecuteTime": {
     "end_time": "2019-04-08T15:16:39.911835Z",
     "start_time": "2019-04-08T15:16:39.886887Z"
    },
    "hidden": true
   },
   "outputs": [],
   "source": [
    "spmm_redundant_columns = [\n",
    "    'row_id', 'assists', 'attempted_passes', 'big_chances_created',\n",
    "    'big_chances_missed', 'bonus', 'bps', 'clean_sheets',\n",
    "    'clearances_blocks_interceptions', 'completed_passes', 'creativity',\n",
    "    'dribbles', 'ea_index', 'element', 'errors_leading_to_goal',\n",
    "    'errors_leading_to_goal_attempt', 'fixture', 'fouls', 'goals_conceded',\n",
    "    'ict_index', 'id', 'influence', 'key_passes', 'kickoff_time',\n",
    "    'kickoff_time_formatted', 'loaned_in', 'loaned_out', 'offside',\n",
    "    'open_play_crosses', 'opponent_team', 'own_goals', 'penalties_conceded',\n",
    "    'penalties_missed', 'penalties_saved', 'recoveries', 'red_cards', 'round',\n",
    "    'saves', 'selected', 'tackled', 'tackles', 'target_missed', 'team_a_score',\n",
    "    'team_h_score', 'threat', 'total_points', 'transfers_balance',\n",
    "    'transfers_in', 'transfers_out', 'value', 'winning_goals',\n",
    "    'yellow_cards', 'event', 'team_a', 'team_a_difficulty', 'team_h',\n",
    "    'team_h_difficulty', 'element_type', 'team', 'web_name', 'safe_web_name',\n",
    "    'own_team', 'opposition_team', 'was_home', 'minutes', 'element_fixture_rank',\n",
    "    'minutes_rolling', 'goals_scored_rolling', 'assists_rolling',\n",
    "    'goals_scored_per_minute_rolling', 'assists_per_minute_rolling', 'minutes_per_fixture_rolling'\n",
    "]"
   ]
  },
  {
   "cell_type": "code",
   "execution_count": 33,
   "metadata": {
    "ExecuteTime": {
     "end_time": "2019-04-08T15:16:39.939265Z",
     "start_time": "2019-04-08T15:16:39.914277Z"
    },
    "hidden": true
   },
   "outputs": [],
   "source": [
    "spmm_df['log_minutes'] = np.log(spmm_df['minutes'])"
   ]
  },
  {
   "cell_type": "code",
   "execution_count": 34,
   "metadata": {
    "ExecuteTime": {
     "end_time": "2019-04-08T15:16:39.965131Z",
     "start_time": "2019-04-08T15:16:39.942359Z"
    },
    "hidden": true
   },
   "outputs": [],
   "source": [
    "spmm_df = player.remove_redundant_columns(spmm_df, spmm_redundant_columns)"
   ]
  },
  {
   "cell_type": "code",
   "execution_count": 35,
   "metadata": {
    "ExecuteTime": {
     "end_time": "2019-04-08T15:16:40.001488Z",
     "start_time": "2019-04-08T15:16:39.968048Z"
    },
    "hidden": true
   },
   "outputs": [],
   "source": [
    "spmm_response_df, spmm_explanatory_df = player.get_response_explanatory_dfs(spmm_df, 'goals_scored')"
   ]
  },
  {
   "cell_type": "code",
   "execution_count": 36,
   "metadata": {
    "ExecuteTime": {
     "end_time": "2019-04-08T15:16:40.031516Z",
     "start_time": "2019-04-08T15:16:40.005279Z"
    },
    "hidden": true
   },
   "outputs": [
    {
     "data": {
      "text/plain": [
       "Index(['const', 'log_minutes'], dtype='object')"
      ]
     },
     "execution_count": 36,
     "metadata": {},
     "output_type": "execute_result"
    }
   ],
   "source": [
    "spmm_explanatory_df.columns"
   ]
  },
  {
   "cell_type": "markdown",
   "metadata": {
    "heading_collapsed": true,
    "hidden": true
   },
   "source": [
    "### Fitting model"
   ]
  },
  {
   "cell_type": "code",
   "execution_count": 37,
   "metadata": {
    "ExecuteTime": {
     "end_time": "2019-04-08T15:16:40.093760Z",
     "start_time": "2019-04-08T15:16:40.035061Z"
    },
    "hidden": true
   },
   "outputs": [],
   "source": [
    "spmm_results = sm.GLM(\n",
    "    spmm_response_df,\n",
    "    spmm_explanatory_df,\n",
    "    family=sm.families.Poisson(),\n",
    "    missing='drop'\n",
    ").fit()"
   ]
  },
  {
   "cell_type": "code",
   "execution_count": 38,
   "metadata": {
    "ExecuteTime": {
     "end_time": "2019-04-08T15:16:40.121001Z",
     "start_time": "2019-04-08T15:16:40.097299Z"
    },
    "hidden": true
   },
   "outputs": [
    {
     "name": "stdout",
     "output_type": "stream",
     "text": [
      "                 Generalized Linear Model Regression Results                  \n",
      "==============================================================================\n",
      "Dep. Variable:           goals_scored   No. Observations:                 8161\n",
      "Model:                            GLM   Df Residuals:                     8159\n",
      "Model Family:                 Poisson   Df Model:                            1\n",
      "Link Function:                    log   Scale:                             1.0\n",
      "Method:                          IRLS   Log-Likelihood:                -2835.0\n",
      "Date:                Mon, 08 Apr 2019   Deviance:                       4057.8\n",
      "Time:                        15:16:40   Pearson chi2:                 9.09e+03\n",
      "No. Iterations:                     6                                         \n",
      "===============================================================================\n",
      "                  coef    std err          z      P>|z|      [0.025      0.975]\n",
      "-------------------------------------------------------------------------------\n",
      "const          -4.7064      0.292    -16.110      0.000      -5.279      -4.134\n",
      "log_minutes     0.5904      0.067      8.749      0.000       0.458       0.723\n",
      "===============================================================================\n"
     ]
    }
   ],
   "source": [
    "print(spmm_results.summary())"
   ]
  },
  {
   "cell_type": "markdown",
   "metadata": {
    "heading_collapsed": true,
    "hidden": true
   },
   "source": [
    "### Model fit"
   ]
  },
  {
   "cell_type": "code",
   "execution_count": 39,
   "metadata": {
    "ExecuteTime": {
     "end_time": "2019-04-08T15:16:40.149718Z",
     "start_time": "2019-04-08T15:16:40.143516Z"
    },
    "hidden": true
   },
   "outputs": [
    {
     "data": {
      "text/plain": [
       "5673.99409973864"
      ]
     },
     "execution_count": 39,
     "metadata": {},
     "output_type": "execute_result"
    }
   ],
   "source": [
    "spmm_results.aic"
   ]
  },
  {
   "cell_type": "code",
   "execution_count": 40,
   "metadata": {
    "ExecuteTime": {
     "end_time": "2019-04-08T15:16:40.181747Z",
     "start_time": "2019-04-08T15:16:40.162840Z"
    },
    "hidden": true
   },
   "outputs": [
    {
     "data": {
      "text/plain": [
       "-69431.2961533927"
      ]
     },
     "execution_count": 40,
     "metadata": {},
     "output_type": "execute_result"
    }
   ],
   "source": [
    "spmm_results.bic"
   ]
  },
  {
   "cell_type": "code",
   "execution_count": 41,
   "metadata": {
    "ExecuteTime": {
     "end_time": "2019-04-08T15:16:40.211726Z",
     "start_time": "2019-04-08T15:16:40.184644Z"
    },
    "hidden": true
   },
   "outputs": [
    {
     "data": {
      "text/plain": [
       "(True, 1.177502539917441e-12)"
      ]
     },
     "execution_count": 41,
     "metadata": {},
     "output_type": "execute_result"
    }
   ],
   "source": [
    "spmm_pearson_results = goodness_fit.pearson_chi_squared_test(spmm_results)\n",
    "spmm_pearson_results"
   ]
  },
  {
   "cell_type": "code",
   "execution_count": 42,
   "metadata": {
    "ExecuteTime": {
     "end_time": "2019-04-08T15:16:40.244721Z",
     "start_time": "2019-04-08T15:16:40.214553Z"
    },
    "hidden": true
   },
   "outputs": [
    {
     "data": {
      "text/plain": [
       "count    8161.000000\n",
       "mean       -0.241518\n",
       "std         0.662528\n",
       "min        -0.507525\n",
       "25%        -0.507525\n",
       "50%        -0.507525\n",
       "75%        -0.347720\n",
       "max         3.782517\n",
       "dtype: float64"
      ]
     },
     "execution_count": 42,
     "metadata": {},
     "output_type": "execute_result"
    }
   ],
   "source": [
    "spmm_results.resid_deviance.describe()"
   ]
  },
  {
   "cell_type": "code",
   "execution_count": 43,
   "metadata": {
    "ExecuteTime": {
     "end_time": "2019-04-08T15:16:40.537534Z",
     "start_time": "2019-04-08T15:16:40.247063Z"
    },
    "hidden": true
   },
   "outputs": [
    {
     "data": {
      "image/png": "[encoded data removed]",
      "text/plain": [
       "<Figure size 432x288 with 1 Axes>"
      ]
     },
     "metadata": {
      "needs_background": "light"
     },
     "output_type": "display_data"
    }
   ],
   "source": [
    "plt.figure()\n",
    "plt.hist(spmm_results.resid_deviance)\n",
    "plt.show()"
   ]
  },
  {
   "cell_type": "markdown",
   "metadata": {
    "heading_collapsed": true,
    "hidden": true
   },
   "source": [
    "## Simple Poisson exposure model"
   ]
  },
  {
   "cell_type": "markdown",
   "metadata": {
    "hidden": true
   },
   "source": [
    "### Preparing data"
   ]
  },
  {
   "cell_type": "code",
   "execution_count": 44,
   "metadata": {
    "ExecuteTime": {
     "end_time": "2019-04-08T15:16:40.545717Z",
     "start_time": "2019-04-08T15:16:40.540762Z"
    },
    "hidden": true
   },
   "outputs": [],
   "source": [
    "epmm_df = element_gameweek_df.copy()"
   ]
  },
  {
   "cell_type": "code",
   "execution_count": 45,
   "metadata": {
    "ExecuteTime": {
     "end_time": "2019-04-08T15:16:40.571062Z",
     "start_time": "2019-04-08T15:16:40.548160Z"
    },
    "hidden": true
   },
   "outputs": [],
   "source": [
    "epmm_redundant_columns = [\n",
    "    'row_id', 'assists', 'attempted_passes', 'big_chances_created',\n",
    "    'big_chances_missed', 'bonus', 'bps', 'clean_sheets',\n",
    "    'clearances_blocks_interceptions', 'completed_passes', 'creativity',\n",
    "    'dribbles', 'ea_index', 'element', 'errors_leading_to_goal',\n",
    "    'errors_leading_to_goal_attempt', 'fixture', 'fouls', 'goals_conceded',\n",
    "    'ict_index', 'id', 'influence', 'key_passes', 'kickoff_time',\n",
    "    'kickoff_time_formatted', 'loaned_in', 'loaned_out', 'offside',\n",
    "    'open_play_crosses', 'opponent_team', 'own_goals', 'penalties_conceded',\n",
    "    'penalties_missed', 'penalties_saved', 'recoveries', 'red_cards', 'round',\n",
    "    'saves', 'selected', 'tackled', 'tackles', 'target_missed', 'team_a_score',\n",
    "    'team_h_score', 'threat', 'total_points', 'transfers_balance',\n",
    "    'transfers_in', 'transfers_out', 'value', 'winning_goals',\n",
    "    'yellow_cards', 'event', 'team_a', 'team_a_difficulty', 'team_h',\n",
    "    'team_h_difficulty', 'element_type', 'team', 'web_name', 'safe_web_name',\n",
    "    'own_team', 'opposition_team', 'was_home', 'minutes', 'element_fixture_rank',\n",
    "    'minutes_rolling', 'goals_scored_rolling', 'assists_rolling',\n",
    "    'goals_scored_per_minute_rolling', 'assists_per_minute_rolling', 'minutes_per_fixture_rolling'\n",
    "]"
   ]
  },
  {
   "cell_type": "code",
   "execution_count": 46,
   "metadata": {
    "ExecuteTime": {
     "end_time": "2019-04-08T15:16:40.604388Z",
     "start_time": "2019-04-08T15:16:40.573507Z"
    },
    "hidden": true
   },
   "outputs": [],
   "source": [
    "epmm_exposure = epmm_df['minutes']"
   ]
  },
  {
   "cell_type": "code",
   "execution_count": 47,
   "metadata": {
    "ExecuteTime": {
     "end_time": "2019-04-08T15:16:40.632075Z",
     "start_time": "2019-04-08T15:16:40.606632Z"
    },
    "hidden": true
   },
   "outputs": [],
   "source": [
    "epmm_df = player.remove_redundant_columns(epmm_df, epmm_redundant_columns)"
   ]
  },
  {
   "cell_type": "code",
   "execution_count": 48,
   "metadata": {
    "ExecuteTime": {
     "end_time": "2019-04-08T15:16:40.665818Z",
     "start_time": "2019-04-08T15:16:40.634499Z"
    },
    "hidden": true
   },
   "outputs": [],
   "source": [
    "epmm_response_df, epmm_explanatory_df = player.get_response_explanatory_dfs(epmm_df, 'goals_scored')"
   ]
  },
  {
   "cell_type": "code",
   "execution_count": 49,
   "metadata": {
    "ExecuteTime": {
     "end_time": "2019-04-08T15:16:40.706479Z",
     "start_time": "2019-04-08T15:16:40.668159Z"
    },
    "hidden": true
   },
   "outputs": [
    {
     "data": {
      "text/plain": [
       "Index(['const'], dtype='object')"
      ]
     },
     "execution_count": 49,
     "metadata": {},
     "output_type": "execute_result"
    }
   ],
   "source": [
    "epmm_explanatory_df.columns"
   ]
  },
  {
   "cell_type": "markdown",
   "metadata": {
    "heading_collapsed": true,
    "hidden": true
   },
   "source": [
    "### Fitting model"
   ]
  },
  {
   "cell_type": "code",
   "execution_count": 50,
   "metadata": {
    "ExecuteTime": {
     "end_time": "2019-04-08T15:16:40.759543Z",
     "start_time": "2019-04-08T15:16:40.708963Z"
    },
    "hidden": true
   },
   "outputs": [],
   "source": [
    "epmm_results = sm.GLM(\n",
    "    epmm_response_df,\n",
    "    epmm_explanatory_df,\n",
    "    family=sm.families.Poisson(),\n",
    "    missing='drop',\n",
    "    exposure=epmm_exposure\n",
    ").fit()"
   ]
  },
  {
   "cell_type": "code",
   "execution_count": 51,
   "metadata": {
    "ExecuteTime": {
     "end_time": "2019-04-08T15:16:40.772974Z",
     "start_time": "2019-04-08T15:16:40.762479Z"
    },
    "hidden": true
   },
   "outputs": [
    {
     "name": "stdout",
     "output_type": "stream",
     "text": [
      "                 Generalized Linear Model Regression Results                  \n",
      "==============================================================================\n",
      "Dep. Variable:           goals_scored   No. Observations:                 8161\n",
      "Model:                            GLM   Df Residuals:                     8160\n",
      "Model Family:                 Poisson   Df Model:                            0\n",
      "Link Function:                    log   Scale:                             1.0\n",
      "Method:                          IRLS   Log-Likelihood:                -2849.7\n",
      "Date:                Mon, 08 Apr 2019   Deviance:                       4087.1\n",
      "Time:                        15:16:40   Pearson chi2:                 1.16e+04\n",
      "No. Iterations:                     6                                         \n",
      "==============================================================================\n",
      "                 coef    std err          z      P>|z|      [0.025      0.975]\n",
      "------------------------------------------------------------------------------\n",
      "const         -6.4841      0.034   -191.584      0.000      -6.550      -6.418\n",
      "==============================================================================\n"
     ]
    }
   ],
   "source": [
    "print(epmm_results.summary())"
   ]
  },
  {
   "cell_type": "markdown",
   "metadata": {
    "heading_collapsed": true,
    "hidden": true
   },
   "source": [
    "### Model fit"
   ]
  },
  {
   "cell_type": "code",
   "execution_count": 52,
   "metadata": {
    "ExecuteTime": {
     "end_time": "2019-04-08T15:16:40.797324Z",
     "start_time": "2019-04-08T15:16:40.775275Z"
    },
    "hidden": true
   },
   "outputs": [
    {
     "data": {
      "text/plain": [
       "5701.314817635959"
      ]
     },
     "execution_count": 52,
     "metadata": {},
     "output_type": "execute_result"
    }
   ],
   "source": [
    "epmm_results.aic"
   ]
  },
  {
   "cell_type": "code",
   "execution_count": 53,
   "metadata": {
    "ExecuteTime": {
     "end_time": "2019-04-08T15:16:40.835584Z",
     "start_time": "2019-04-08T15:16:40.799578Z"
    },
    "hidden": true
   },
   "outputs": [
    {
     "data": {
      "text/plain": [
       "-69410.98255748485"
      ]
     },
     "execution_count": 53,
     "metadata": {},
     "output_type": "execute_result"
    }
   ],
   "source": [
    "epmm_results.bic"
   ]
  },
  {
   "cell_type": "code",
   "execution_count": 54,
   "metadata": {
    "ExecuteTime": {
     "end_time": "2019-04-08T15:16:40.887503Z",
     "start_time": "2019-04-08T15:16:40.838006Z"
    },
    "hidden": true
   },
   "outputs": [
    {
     "data": {
      "text/plain": [
       "(True, 0.0)"
      ]
     },
     "execution_count": 54,
     "metadata": {},
     "output_type": "execute_result"
    }
   ],
   "source": [
    "epmm_pearson_results = goodness_fit.pearson_chi_squared_test(epmm_results)\n",
    "epmm_pearson_results"
   ]
  },
  {
   "cell_type": "code",
   "execution_count": 55,
   "metadata": {
    "ExecuteTime": {
     "end_time": "2019-04-08T15:16:40.924625Z",
     "start_time": "2019-04-08T15:16:40.889751Z"
    },
    "hidden": true
   },
   "outputs": [
    {
     "data": {
      "text/plain": [
       "count    8161.000000\n",
       "mean       -0.231700\n",
       "std         0.668717\n",
       "min        -0.524352\n",
       "25%        -0.524352\n",
       "50%        -0.524352\n",
       "75%        -0.276358\n",
       "max         3.839107\n",
       "dtype: float64"
      ]
     },
     "execution_count": 55,
     "metadata": {},
     "output_type": "execute_result"
    }
   ],
   "source": [
    "epmm_results.resid_deviance.describe()"
   ]
  },
  {
   "cell_type": "code",
   "execution_count": 56,
   "metadata": {
    "ExecuteTime": {
     "end_time": "2019-04-08T15:16:41.223754Z",
     "start_time": "2019-04-08T15:16:40.926990Z"
    },
    "hidden": true
   },
   "outputs": [
    {
     "data": {
      "image/png": "[encoded data removed]",
      "text/plain": [
       "<Figure size 432x288 with 1 Axes>"
      ]
     },
     "metadata": {
      "needs_background": "light"
     },
     "output_type": "display_data"
    }
   ],
   "source": [
    "plt.figure()\n",
    "plt.hist(epmm_results.resid_deviance)\n",
    "plt.show()"
   ]
  },
  {
   "cell_type": "markdown",
   "metadata": {
    "heading_collapsed": true,
    "hidden": true
   },
   "source": [
    "## Simple Poisson teams model"
   ]
  },
  {
   "cell_type": "markdown",
   "metadata": {
    "hidden": true
   },
   "source": [
    "### Preparing data"
   ]
  },
  {
   "cell_type": "code",
   "execution_count": 57,
   "metadata": {
    "ExecuteTime": {
     "end_time": "2019-04-08T15:16:41.233945Z",
     "start_time": "2019-04-08T15:16:41.226949Z"
    },
    "hidden": true
   },
   "outputs": [],
   "source": [
    "sptm_df = element_gameweek_df.copy()"
   ]
  },
  {
   "cell_type": "code",
   "execution_count": 58,
   "metadata": {
    "ExecuteTime": {
     "end_time": "2019-04-08T15:16:41.278059Z",
     "start_time": "2019-04-08T15:16:41.236905Z"
    },
    "hidden": true
   },
   "outputs": [],
   "source": [
    "sptm_df = player.add_categorical_variables(sptm_df, 'element_type')\n",
    "sptm_df = player.add_categorical_variables(sptm_df, 'opposition_team')\n",
    "sptm_df = player.add_categorical_variables(sptm_df, 'own_team')"
   ]
  },
  {
   "cell_type": "code",
   "execution_count": 59,
   "metadata": {
    "ExecuteTime": {
     "end_time": "2019-04-08T15:16:41.296994Z",
     "start_time": "2019-04-08T15:16:41.280739Z"
    },
    "hidden": true
   },
   "outputs": [],
   "source": [
    "sptm_redundant_columns = [\n",
    "    'row_id', 'assists', 'attempted_passes', 'big_chances_created',\n",
    "    'big_chances_missed', 'bonus', 'bps', 'clean_sheets',\n",
    "    'clearances_blocks_interceptions', 'completed_passes', 'creativity',\n",
    "    'dribbles', 'ea_index', 'element', 'errors_leading_to_goal',\n",
    "    'errors_leading_to_goal_attempt', 'fixture', 'fouls', 'goals_conceded',\n",
    "    'ict_index', 'id', 'influence', 'key_passes', 'kickoff_time',\n",
    "    'kickoff_time_formatted', 'loaned_in', 'loaned_out', 'minutes', 'offside',\n",
    "    'open_play_crosses', 'opponent_team', 'own_goals', 'penalties_conceded',\n",
    "    'penalties_missed', 'penalties_saved', 'recoveries', 'red_cards', 'round',\n",
    "    'saves', 'selected', 'tackled', 'tackles', 'target_missed', 'team_a_score',\n",
    "    'team_h_score', 'threat', 'total_points', 'transfers_balance',\n",
    "    'transfers_in', 'transfers_out', 'value', 'winning_goals',\n",
    "    'yellow_cards', 'event', 'team_a', 'team_a_difficulty', 'team_h',\n",
    "    'team_h_difficulty', 'element_type', 'team', 'web_name', 'safe_web_name',\n",
    "    'own_team', 'opposition_team', 'element_fixture_rank',\n",
    "    'minutes_rolling', 'goals_scored_rolling', 'assists_rolling',\n",
    "    'goals_scored_per_minute_rolling', 'assists_per_minute_rolling', 'minutes_per_fixture_rolling'\n",
    "]"
   ]
  },
  {
   "cell_type": "code",
   "execution_count": 60,
   "metadata": {
    "ExecuteTime": {
     "end_time": "2019-04-08T15:16:41.352620Z",
     "start_time": "2019-04-08T15:16:41.299392Z"
    },
    "hidden": true
   },
   "outputs": [],
   "source": [
    "sptm_df = player.remove_redundant_columns(sptm_df, sptm_redundant_columns)"
   ]
  },
  {
   "cell_type": "code",
   "execution_count": 61,
   "metadata": {
    "ExecuteTime": {
     "end_time": "2019-04-08T15:16:41.403429Z",
     "start_time": "2019-04-08T15:16:41.355529Z"
    },
    "hidden": true
   },
   "outputs": [],
   "source": [
    "sptm_response_df, sptm_explanatory_df = player.get_response_explanatory_dfs(sptm_df, 'goals_scored')"
   ]
  },
  {
   "cell_type": "code",
   "execution_count": 62,
   "metadata": {
    "ExecuteTime": {
     "end_time": "2019-04-08T15:16:41.410741Z",
     "start_time": "2019-04-08T15:16:41.405845Z"
    },
    "hidden": true
   },
   "outputs": [
    {
     "data": {
      "text/plain": [
       "Index(['const', 'was_home', 'element_type_3', 'element_type_4',\n",
       "       'opposition_team_2', 'opposition_team_3', 'opposition_team_4',\n",
       "       'opposition_team_5', 'opposition_team_6', 'opposition_team_7',\n",
       "       'opposition_team_8', 'opposition_team_9', 'opposition_team_10',\n",
       "       'opposition_team_11', 'opposition_team_12', 'opposition_team_13',\n",
       "       'opposition_team_14', 'opposition_team_15', 'opposition_team_16',\n",
       "       'opposition_team_17', 'opposition_team_18', 'opposition_team_19',\n",
       "       'opposition_team_20', 'own_team_2', 'own_team_3', 'own_team_4',\n",
       "       'own_team_5', 'own_team_6', 'own_team_7', 'own_team_8', 'own_team_9',\n",
       "       'own_team_10', 'own_team_11', 'own_team_12', 'own_team_13',\n",
       "       'own_team_14', 'own_team_15', 'own_team_16', 'own_team_17',\n",
       "       'own_team_18', 'own_team_19', 'own_team_20'],\n",
       "      dtype='object')"
      ]
     },
     "execution_count": 62,
     "metadata": {},
     "output_type": "execute_result"
    }
   ],
   "source": [
    "sptm_explanatory_df.columns"
   ]
  },
  {
   "cell_type": "code",
   "execution_count": 63,
   "metadata": {
    "ExecuteTime": {
     "end_time": "2019-04-08T15:16:41.449105Z",
     "start_time": "2019-04-08T15:16:41.412996Z"
    },
    "hidden": true
   },
   "outputs": [
    {
     "data": {
      "text/plain": [
       "80    0\n",
       "82    0\n",
       "83    0\n",
       "84    0\n",
       "85    0\n",
       "Name: goals_scored, dtype: int64"
      ]
     },
     "execution_count": 63,
     "metadata": {},
     "output_type": "execute_result"
    }
   ],
   "source": [
    "sptm_response_df.head()"
   ]
  },
  {
   "cell_type": "markdown",
   "metadata": {
    "heading_collapsed": true,
    "hidden": true
   },
   "source": [
    "### Fitting model"
   ]
  },
  {
   "cell_type": "code",
   "execution_count": 64,
   "metadata": {
    "ExecuteTime": {
     "end_time": "2019-04-08T15:16:41.726923Z",
     "start_time": "2019-04-08T15:16:41.451395Z"
    },
    "hidden": true
   },
   "outputs": [],
   "source": [
    "sptm_results = sm.GLM(\n",
    "    sptm_response_df,\n",
    "    sptm_explanatory_df,\n",
    "    family=sm.families.Poisson(),\n",
    "    missing='drop'\n",
    ").fit()"
   ]
  },
  {
   "cell_type": "code",
   "execution_count": 65,
   "metadata": {
    "ExecuteTime": {
     "end_time": "2019-04-08T15:16:41.794757Z",
     "start_time": "2019-04-08T15:16:41.736612Z"
    },
    "hidden": true
   },
   "outputs": [
    {
     "name": "stdout",
     "output_type": "stream",
     "text": [
      "                 Generalized Linear Model Regression Results                  \n",
      "==============================================================================\n",
      "Dep. Variable:           goals_scored   No. Observations:                 8161\n",
      "Model:                            GLM   Df Residuals:                     8119\n",
      "Model Family:                 Poisson   Df Model:                           41\n",
      "Link Function:                    log   Scale:                             1.0\n",
      "Method:                          IRLS   Log-Likelihood:                -2643.5\n",
      "Date:                Mon, 08 Apr 2019   Deviance:                       3674.8\n",
      "Time:                        15:16:41   Pearson chi2:                 8.95e+03\n",
      "No. Iterations:                     6                                         \n",
      "======================================================================================\n",
      "                         coef    std err          z      P>|z|      [0.025      0.975]\n",
      "--------------------------------------------------------------------------------------\n",
      "const                 -3.1530      0.232    -13.580      0.000      -3.608      -2.698\n",
      "was_home               0.2372      0.068      3.468      0.001       0.103       0.371\n",
      "element_type_3         1.0092      0.103      9.760      0.000       0.807       1.212\n",
      "element_type_4         1.7786      0.108     16.429      0.000       1.566       1.991\n",
      "opposition_team_2      0.3368      0.213      1.583      0.113      -0.080       0.754\n",
      "opposition_team_3      0.2229      0.222      1.006      0.314      -0.211       0.657\n",
      "opposition_team_4      0.3939      0.212      1.860      0.063      -0.021       0.809\n",
      "opposition_team_5      0.4757      0.209      2.271      0.023       0.065       0.886\n",
      "opposition_team_6     -0.0716      0.239     -0.300      0.764      -0.539       0.396\n",
      "opposition_team_7      0.1175      0.225      0.522      0.601      -0.323       0.558\n",
      "opposition_team_8      0.0567      0.229      0.248      0.804      -0.392       0.505\n",
      "opposition_team_9      0.5828      0.203      2.874      0.004       0.185       0.980\n",
      "opposition_team_10     0.4199      0.211      1.987      0.047       0.006       0.834\n",
      "opposition_team_11     0.1194      0.225      0.530      0.596      -0.322       0.561\n",
      "opposition_team_12    -0.7121      0.283     -2.515      0.012      -1.267      -0.157\n",
      "opposition_team_13    -0.5211      0.274     -1.901      0.057      -1.058       0.016\n",
      "opposition_team_14     0.0584      0.229      0.255      0.799      -0.391       0.508\n",
      "opposition_team_15     0.0206      0.228      0.091      0.928      -0.425       0.467\n",
      "opposition_team_16     0.2084      0.221      0.944      0.345      -0.224       0.641\n",
      "opposition_team_17    -0.1887      0.245     -0.772      0.440      -0.668       0.291\n",
      "opposition_team_18     0.1540      0.224      0.688      0.491      -0.285       0.593\n",
      "opposition_team_19     0.2179      0.221      0.986      0.324      -0.215       0.651\n",
      "opposition_team_20    -0.0649      0.236     -0.275      0.784      -0.528       0.398\n",
      "own_team_2            -0.3385      0.200     -1.691      0.091      -0.731       0.054\n",
      "own_team_3            -0.6188      0.219     -2.826      0.005      -1.048      -0.190\n",
      "own_team_4            -0.6235      0.215     -2.903      0.004      -1.044      -0.203\n",
      "own_team_5            -0.7004      0.229     -3.056      0.002      -1.150      -0.251\n",
      "own_team_6            -0.1052      0.189     -0.557      0.578      -0.475       0.265\n",
      "own_team_7            -0.5099      0.211     -2.418      0.016      -0.923      -0.097\n",
      "own_team_8            -0.2687      0.197     -1.363      0.173      -0.655       0.118\n",
      "own_team_9            -0.6730      0.227     -2.969      0.003      -1.117      -0.229\n",
      "own_team_10           -1.3134      0.282     -4.664      0.000      -1.865      -0.762\n",
      "own_team_11           -0.4886      0.206     -2.375      0.018      -0.892      -0.085\n",
      "own_team_12            0.1169      0.177      0.661      0.509      -0.230       0.464\n",
      "own_team_13            0.2586      0.171      1.510      0.131      -0.077       0.594\n",
      "own_team_14            0.0484      0.182      0.265      0.791      -0.309       0.406\n",
      "own_team_15           -0.7410      0.224     -3.311      0.001      -1.180      -0.302\n",
      "own_team_16           -0.5677      0.215     -2.639      0.008      -0.989      -0.146\n",
      "own_team_17            0.0728      0.184      0.396      0.692      -0.287       0.433\n",
      "own_team_18           -0.2815      0.196     -1.436      0.151      -0.666       0.103\n",
      "own_team_19           -0.4483      0.204     -2.193      0.028      -0.849      -0.048\n",
      "own_team_20           -0.2979      0.206     -1.447      0.148      -0.701       0.106\n",
      "======================================================================================\n"
     ]
    }
   ],
   "source": [
    "print(sptm_results.summary())"
   ]
  },
  {
   "cell_type": "markdown",
   "metadata": {
    "heading_collapsed": true,
    "hidden": true
   },
   "source": [
    "### Model fit"
   ]
  },
  {
   "cell_type": "code",
   "execution_count": 66,
   "metadata": {
    "ExecuteTime": {
     "end_time": "2019-04-08T15:16:41.814132Z",
     "start_time": "2019-04-08T15:16:41.802982Z"
    },
    "hidden": true
   },
   "outputs": [
    {
     "data": {
      "text/plain": [
       "5370.946789851232"
      ]
     },
     "execution_count": 66,
     "metadata": {},
     "output_type": "execute_result"
    }
   ],
   "source": [
    "sptm_results.aic"
   ]
  },
  {
   "cell_type": "code",
   "execution_count": 67,
   "metadata": {
    "ExecuteTime": {
     "end_time": "2019-04-08T15:16:41.844610Z",
     "start_time": "2019-04-08T15:16:41.817305Z"
    },
    "hidden": true
   },
   "outputs": [
    {
     "data": {
      "text/plain": [
       "-69454.05858370135"
      ]
     },
     "execution_count": 67,
     "metadata": {},
     "output_type": "execute_result"
    }
   ],
   "source": [
    "sptm_results.bic"
   ]
  },
  {
   "cell_type": "code",
   "execution_count": 68,
   "metadata": {
    "ExecuteTime": {
     "end_time": "2019-04-08T15:16:41.870636Z",
     "start_time": "2019-04-08T15:16:41.853282Z"
    },
    "hidden": true
   },
   "outputs": [
    {
     "data": {
      "text/plain": [
       "(True, 1.0546985507176032e-10)"
      ]
     },
     "execution_count": 68,
     "metadata": {},
     "output_type": "execute_result"
    }
   ],
   "source": [
    "sptm_pearson_results = goodness_fit.pearson_chi_squared_test(sptm_results)\n",
    "sptm_pearson_results"
   ]
  },
  {
   "cell_type": "code",
   "execution_count": 69,
   "metadata": {
    "ExecuteTime": {
     "end_time": "2019-04-08T15:16:41.895548Z",
     "start_time": "2019-04-08T15:16:41.873026Z"
    },
    "hidden": true
   },
   "outputs": [
    {
     "data": {
      "text/plain": [
       "count    8161.000000\n",
       "mean       -0.223506\n",
       "std         0.632754\n",
       "min        -1.219853\n",
       "25%        -0.505318\n",
       "50%        -0.369162\n",
       "75%        -0.255569\n",
       "max         3.653811\n",
       "dtype: float64"
      ]
     },
     "execution_count": 69,
     "metadata": {},
     "output_type": "execute_result"
    }
   ],
   "source": [
    "sptm_results.resid_deviance.describe()"
   ]
  },
  {
   "cell_type": "code",
   "execution_count": 70,
   "metadata": {
    "ExecuteTime": {
     "end_time": "2019-04-08T15:16:42.162705Z",
     "start_time": "2019-04-08T15:16:41.897895Z"
    },
    "hidden": true
   },
   "outputs": [
    {
     "data": {
      "image/png": "[encoded data removed]",
      "text/plain": [
       "<Figure size 432x288 with 1 Axes>"
      ]
     },
     "metadata": {
      "needs_background": "light"
     },
     "output_type": "display_data"
    }
   ],
   "source": [
    "plt.figure()\n",
    "plt.hist(sptm_results.resid_deviance)\n",
    "plt.show()"
   ]
  },
  {
   "cell_type": "markdown",
   "metadata": {
    "heading_collapsed": true,
    "hidden": true
   },
   "source": [
    "## Simple Poisson teams minutes model"
   ]
  },
  {
   "cell_type": "markdown",
   "metadata": {
    "hidden": true
   },
   "source": [
    "### Preparing data"
   ]
  },
  {
   "cell_type": "code",
   "execution_count": 71,
   "metadata": {
    "ExecuteTime": {
     "end_time": "2019-04-08T15:16:42.170872Z",
     "start_time": "2019-04-08T15:16:42.165241Z"
    },
    "hidden": true
   },
   "outputs": [],
   "source": [
    "sptmm_df = element_gameweek_df.copy()"
   ]
  },
  {
   "cell_type": "code",
   "execution_count": 72,
   "metadata": {
    "ExecuteTime": {
     "end_time": "2019-04-08T15:16:42.213584Z",
     "start_time": "2019-04-08T15:16:42.173366Z"
    },
    "hidden": true
   },
   "outputs": [],
   "source": [
    "sptmm_df = player.add_categorical_variables(sptmm_df, 'element_type')\n",
    "sptmm_df = player.add_categorical_variables(sptmm_df, 'opposition_team')\n",
    "sptmm_df = player.add_categorical_variables(sptmm_df, 'own_team')"
   ]
  },
  {
   "cell_type": "code",
   "execution_count": 73,
   "metadata": {
    "ExecuteTime": {
     "end_time": "2019-04-08T15:16:42.223997Z",
     "start_time": "2019-04-08T15:16:42.216105Z"
    },
    "hidden": true
   },
   "outputs": [],
   "source": [
    "sptmm_redundant_columns = [\n",
    "    'row_id', 'assists', 'attempted_passes', 'big_chances_created',\n",
    "    'big_chances_missed', 'bonus', 'bps', 'clean_sheets',\n",
    "    'clearances_blocks_interceptions', 'completed_passes', 'creativity',\n",
    "    'dribbles', 'ea_index', 'element', 'errors_leading_to_goal',\n",
    "    'errors_leading_to_goal_attempt', 'fixture', 'fouls', 'goals_conceded',\n",
    "    'ict_index', 'id', 'influence', 'key_passes', 'kickoff_time',\n",
    "    'kickoff_time_formatted', 'loaned_in', 'loaned_out', 'offside',\n",
    "    'open_play_crosses', 'opponent_team', 'own_goals', 'penalties_conceded',\n",
    "    'penalties_missed', 'penalties_saved', 'recoveries', 'red_cards', 'round',\n",
    "    'saves', 'selected', 'tackled', 'tackles', 'target_missed', 'team_a_score',\n",
    "    'team_h_score', 'threat', 'total_points', 'transfers_balance',\n",
    "    'transfers_in', 'transfers_out', 'value', 'winning_goals',\n",
    "    'yellow_cards', 'event', 'team_a', 'team_a_difficulty', 'team_h',\n",
    "    'team_h_difficulty', 'element_type', 'team', 'web_name', 'safe_web_name',\n",
    "    'own_team', 'opposition_team', 'minutes', 'element_fixture_rank',\n",
    "    'minutes_rolling', 'goals_scored_rolling', 'assists_rolling',\n",
    "    'goals_scored_per_minute_rolling', 'assists_per_minute_rolling', 'minutes_per_fixture_rolling'\n",
    "]"
   ]
  },
  {
   "cell_type": "code",
   "execution_count": 74,
   "metadata": {
    "ExecuteTime": {
     "end_time": "2019-04-08T15:16:42.248285Z",
     "start_time": "2019-04-08T15:16:42.226194Z"
    },
    "hidden": true
   },
   "outputs": [],
   "source": [
    "sptmm_df['log_minutes'] = np.log(sptmm_df['minutes'])"
   ]
  },
  {
   "cell_type": "code",
   "execution_count": 75,
   "metadata": {
    "ExecuteTime": {
     "end_time": "2019-04-08T15:16:42.314262Z",
     "start_time": "2019-04-08T15:16:42.250341Z"
    },
    "hidden": true
   },
   "outputs": [],
   "source": [
    "sptmm_df = player.remove_redundant_columns(sptmm_df, sptmm_redundant_columns)"
   ]
  },
  {
   "cell_type": "code",
   "execution_count": 76,
   "metadata": {
    "ExecuteTime": {
     "end_time": "2019-04-08T15:16:42.392007Z",
     "start_time": "2019-04-08T15:16:42.316560Z"
    },
    "hidden": true
   },
   "outputs": [],
   "source": [
    "sptmm_response_df, sptmm_explanatory_df = player.get_response_explanatory_dfs(sptmm_df, 'goals_scored')"
   ]
  },
  {
   "cell_type": "code",
   "execution_count": 77,
   "metadata": {
    "ExecuteTime": {
     "end_time": "2019-04-08T15:16:42.497251Z",
     "start_time": "2019-04-08T15:16:42.394132Z"
    },
    "hidden": true
   },
   "outputs": [
    {
     "data": {
      "text/plain": [
       "Index(['const', 'was_home', 'element_type_3', 'element_type_4',\n",
       "       'opposition_team_2', 'opposition_team_3', 'opposition_team_4',\n",
       "       'opposition_team_5', 'opposition_team_6', 'opposition_team_7',\n",
       "       'opposition_team_8', 'opposition_team_9', 'opposition_team_10',\n",
       "       'opposition_team_11', 'opposition_team_12', 'opposition_team_13',\n",
       "       'opposition_team_14', 'opposition_team_15', 'opposition_team_16',\n",
       "       'opposition_team_17', 'opposition_team_18', 'opposition_team_19',\n",
       "       'opposition_team_20', 'own_team_2', 'own_team_3', 'own_team_4',\n",
       "       'own_team_5', 'own_team_6', 'own_team_7', 'own_team_8', 'own_team_9',\n",
       "       'own_team_10', 'own_team_11', 'own_team_12', 'own_team_13',\n",
       "       'own_team_14', 'own_team_15', 'own_team_16', 'own_team_17',\n",
       "       'own_team_18', 'own_team_19', 'own_team_20', 'log_minutes'],\n",
       "      dtype='object')"
      ]
     },
     "execution_count": 77,
     "metadata": {},
     "output_type": "execute_result"
    }
   ],
   "source": [
    "sptmm_explanatory_df.columns"
   ]
  },
  {
   "cell_type": "markdown",
   "metadata": {
    "heading_collapsed": true,
    "hidden": true
   },
   "source": [
    "### Fitting model"
   ]
  },
  {
   "cell_type": "code",
   "execution_count": 78,
   "metadata": {
    "ExecuteTime": {
     "end_time": "2019-04-08T15:16:42.745765Z",
     "start_time": "2019-04-08T15:16:42.499503Z"
    },
    "hidden": true
   },
   "outputs": [],
   "source": [
    "sptmm_results = sm.GLM(\n",
    "    sptmm_response_df,\n",
    "    sptmm_explanatory_df,\n",
    "    family=sm.families.Poisson(),\n",
    "    missing='drop'\n",
    ").fit()"
   ]
  },
  {
   "cell_type": "code",
   "execution_count": 79,
   "metadata": {
    "ExecuteTime": {
     "end_time": "2019-04-08T15:16:42.805483Z",
     "start_time": "2019-04-08T15:16:42.753800Z"
    },
    "hidden": true
   },
   "outputs": [
    {
     "name": "stdout",
     "output_type": "stream",
     "text": [
      "                 Generalized Linear Model Regression Results                  \n",
      "==============================================================================\n",
      "Dep. Variable:           goals_scored   No. Observations:                 8161\n",
      "Model:                            GLM   Df Residuals:                     8118\n",
      "Model Family:                 Poisson   Df Model:                           42\n",
      "Link Function:                    log   Scale:                             1.0\n",
      "Method:                          IRLS   Log-Likelihood:                -2522.1\n",
      "Date:                Mon, 08 Apr 2019   Deviance:                       3432.0\n",
      "Time:                        15:16:42   Pearson chi2:                 1.01e+04\n",
      "No. Iterations:                     6                                         \n",
      "======================================================================================\n",
      "                         coef    std err          z      P>|z|      [0.025      0.975]\n",
      "--------------------------------------------------------------------------------------\n",
      "const                 -7.0834      0.409    -17.332      0.000      -7.884      -6.282\n",
      "was_home               0.2261      0.068      3.305      0.001       0.092       0.360\n",
      "element_type_3         1.2039      0.104     11.583      0.000       1.000       1.408\n",
      "element_type_4         2.1263      0.110     19.392      0.000       1.911       2.341\n",
      "opposition_team_2      0.3615      0.213      1.700      0.089      -0.055       0.778\n",
      "opposition_team_3      0.2256      0.222      1.018      0.308      -0.209       0.660\n",
      "opposition_team_4      0.4030      0.212      1.903      0.057      -0.012       0.818\n",
      "opposition_team_5      0.4575      0.209      2.185      0.029       0.047       0.868\n",
      "opposition_team_6     -0.0537      0.239     -0.225      0.822      -0.521       0.414\n",
      "opposition_team_7      0.1219      0.225      0.542      0.588      -0.319       0.563\n",
      "opposition_team_8      0.0606      0.229      0.265      0.791      -0.388       0.509\n",
      "opposition_team_9      0.5792      0.203      2.857      0.004       0.182       0.977\n",
      "opposition_team_10     0.3998      0.211      1.891      0.059      -0.014       0.814\n",
      "opposition_team_11     0.1324      0.225      0.588      0.556      -0.309       0.573\n",
      "opposition_team_12    -0.6993      0.283     -2.470      0.014      -1.254      -0.144\n",
      "opposition_team_13    -0.5220      0.274     -1.904      0.057      -1.059       0.015\n",
      "opposition_team_14     0.0700      0.229      0.305      0.760      -0.379       0.519\n",
      "opposition_team_15     0.0245      0.228      0.108      0.914      -0.422       0.471\n",
      "opposition_team_16     0.1969      0.221      0.892      0.372      -0.236       0.629\n",
      "opposition_team_17    -0.1617      0.245     -0.661      0.508      -0.641       0.318\n",
      "opposition_team_18     0.1275      0.224      0.570      0.569      -0.311       0.566\n",
      "opposition_team_19     0.2213      0.221      1.002      0.316      -0.212       0.654\n",
      "opposition_team_20    -0.0889      0.236     -0.376      0.707      -0.552       0.374\n",
      "own_team_2            -0.3365      0.200     -1.681      0.093      -0.729       0.056\n",
      "own_team_3            -0.5823      0.219     -2.659      0.008      -1.012      -0.153\n",
      "own_team_4            -0.6131      0.215     -2.856      0.004      -1.034      -0.192\n",
      "own_team_5            -0.6337      0.229     -2.762      0.006      -1.083      -0.184\n",
      "own_team_6            -0.0435      0.189     -0.230      0.818      -0.414       0.327\n",
      "own_team_7            -0.5195      0.211     -2.464      0.014      -0.933      -0.106\n",
      "own_team_8            -0.1698      0.197     -0.860      0.390      -0.557       0.217\n",
      "own_team_9            -0.6861      0.227     -3.027      0.002      -1.130      -0.242\n",
      "own_team_10           -1.2684      0.282     -4.505      0.000      -1.820      -0.716\n",
      "own_team_11           -0.4017      0.206     -1.953      0.051      -0.805       0.001\n",
      "own_team_12            0.1590      0.177      0.898      0.369      -0.188       0.506\n",
      "own_team_13            0.2805      0.171      1.637      0.102      -0.055       0.616\n",
      "own_team_14            0.0501      0.182      0.275      0.784      -0.307       0.408\n",
      "own_team_15           -0.7744      0.224     -3.461      0.001      -1.213      -0.336\n",
      "own_team_16           -0.4915      0.215     -2.286      0.022      -0.913      -0.070\n",
      "own_team_17            0.0836      0.184      0.455      0.649      -0.277       0.444\n",
      "own_team_18           -0.2660      0.196     -1.357      0.175      -0.650       0.118\n",
      "own_team_19           -0.3819      0.205     -1.867      0.062      -0.783       0.019\n",
      "own_team_20           -0.2616      0.206     -1.271      0.204      -0.665       0.142\n",
      "log_minutes            0.8891      0.076     11.737      0.000       0.741       1.038\n",
      "======================================================================================\n"
     ]
    }
   ],
   "source": [
    "print(sptmm_results.summary())"
   ]
  },
  {
   "cell_type": "markdown",
   "metadata": {
    "heading_collapsed": true,
    "hidden": true
   },
   "source": [
    "### Model fit"
   ]
  },
  {
   "cell_type": "code",
   "execution_count": 80,
   "metadata": {
    "ExecuteTime": {
     "end_time": "2019-04-08T15:16:42.822101Z",
     "start_time": "2019-04-08T15:16:42.812693Z"
    },
    "hidden": true
   },
   "outputs": [
    {
     "data": {
      "text/plain": [
       "5130.165637069073"
      ]
     },
     "execution_count": 80,
     "metadata": {},
     "output_type": "execute_result"
    }
   ],
   "source": [
    "sptmm_results.aic"
   ]
  },
  {
   "cell_type": "code",
   "execution_count": 81,
   "metadata": {
    "ExecuteTime": {
     "end_time": "2019-04-08T15:16:42.851879Z",
     "start_time": "2019-04-08T15:16:42.825155Z"
    },
    "hidden": true
   },
   "outputs": [
    {
     "data": {
      "text/plain": [
       "-69687.83261449402"
      ]
     },
     "execution_count": 81,
     "metadata": {},
     "output_type": "execute_result"
    }
   ],
   "source": [
    "sptmm_results.bic"
   ]
  },
  {
   "cell_type": "code",
   "execution_count": 82,
   "metadata": {
    "ExecuteTime": {
     "end_time": "2019-04-08T15:16:42.873915Z",
     "start_time": "2019-04-08T15:16:42.854567Z"
    },
    "hidden": true
   },
   "outputs": [
    {
     "data": {
      "text/plain": [
       "(True, 0.0)"
      ]
     },
     "execution_count": 82,
     "metadata": {},
     "output_type": "execute_result"
    }
   ],
   "source": [
    "sptmm_pearson_results = goodness_fit.pearson_chi_squared_test(sptmm_results)\n",
    "sptmm_pearson_results"
   ]
  },
  {
   "cell_type": "code",
   "execution_count": 83,
   "metadata": {
    "ExecuteTime": {
     "end_time": "2019-04-08T15:16:42.901822Z",
     "start_time": "2019-04-08T15:16:42.876377Z"
    },
    "hidden": true
   },
   "outputs": [
    {
     "data": {
      "text/plain": [
       "count    8161.000000\n",
       "mean       -0.211179\n",
       "std         0.613176\n",
       "min        -1.419982\n",
       "25%        -0.481967\n",
       "50%        -0.328398\n",
       "75%        -0.226089\n",
       "max         3.535034\n",
       "dtype: float64"
      ]
     },
     "execution_count": 83,
     "metadata": {},
     "output_type": "execute_result"
    }
   ],
   "source": [
    "sptmm_results.resid_deviance.describe()"
   ]
  },
  {
   "cell_type": "code",
   "execution_count": 84,
   "metadata": {
    "ExecuteTime": {
     "end_time": "2019-04-08T15:16:43.186756Z",
     "start_time": "2019-04-08T15:16:42.903804Z"
    },
    "hidden": true
   },
   "outputs": [
    {
     "data": {
      "image/png": "[encoded data removed]",
      "text/plain": [
       "<Figure size 432x288 with 1 Axes>"
      ]
     },
     "metadata": {
      "needs_background": "light"
     },
     "output_type": "display_data"
    }
   ],
   "source": [
    "plt.figure()\n",
    "plt.hist(sptmm_results.resid_deviance)\n",
    "plt.show()"
   ]
  },
  {
   "cell_type": "markdown",
   "metadata": {
    "heading_collapsed": true,
    "hidden": true
   },
   "source": [
    "## Simple Poisson teams exposure model"
   ]
  },
  {
   "cell_type": "markdown",
   "metadata": {
    "hidden": true
   },
   "source": [
    "### Preparing data"
   ]
  },
  {
   "cell_type": "code",
   "execution_count": 85,
   "metadata": {
    "ExecuteTime": {
     "end_time": "2019-04-08T15:16:43.193132Z",
     "start_time": "2019-04-08T15:16:43.188853Z"
    },
    "hidden": true
   },
   "outputs": [],
   "source": [
    "eptmm_df = element_gameweek_df.copy()"
   ]
  },
  {
   "cell_type": "code",
   "execution_count": 86,
   "metadata": {
    "ExecuteTime": {
     "end_time": "2019-04-08T15:16:43.228385Z",
     "start_time": "2019-04-08T15:16:43.195128Z"
    },
    "hidden": true
   },
   "outputs": [],
   "source": [
    "eptmm_df = player.add_categorical_variables(eptmm_df, 'element_type')\n",
    "eptmm_df = player.add_categorical_variables(eptmm_df, 'opposition_team')\n",
    "eptmm_df = player.add_categorical_variables(eptmm_df, 'own_team')"
   ]
  },
  {
   "cell_type": "code",
   "execution_count": 87,
   "metadata": {
    "ExecuteTime": {
     "end_time": "2019-04-08T15:16:43.237914Z",
     "start_time": "2019-04-08T15:16:43.230633Z"
    },
    "hidden": true
   },
   "outputs": [],
   "source": [
    "eptmm_redundant_columns = [\n",
    "    'row_id', 'assists', 'attempted_passes', 'big_chances_created',\n",
    "    'big_chances_missed', 'bonus', 'bps', 'clean_sheets',\n",
    "    'clearances_blocks_interceptions', 'completed_passes', 'creativity',\n",
    "    'dribbles', 'ea_index', 'element', 'errors_leading_to_goal',\n",
    "    'errors_leading_to_goal_attempt', 'fixture', 'fouls', 'goals_conceded',\n",
    "    'ict_index', 'id', 'influence', 'key_passes', 'kickoff_time',\n",
    "    'kickoff_time_formatted', 'loaned_in', 'loaned_out', 'offside',\n",
    "    'open_play_crosses', 'opponent_team', 'own_goals', 'penalties_conceded',\n",
    "    'penalties_missed', 'penalties_saved', 'recoveries', 'red_cards', 'round',\n",
    "    'saves', 'selected', 'tackled', 'tackles', 'target_missed', 'team_a_score',\n",
    "    'team_h_score', 'threat', 'total_points', 'transfers_balance',\n",
    "    'transfers_in', 'transfers_out', 'value', 'winning_goals',\n",
    "    'yellow_cards', 'event', 'team_a', 'team_a_difficulty', 'team_h',\n",
    "    'team_h_difficulty', 'element_type', 'team', 'web_name', 'safe_web_name',\n",
    "    'own_team', 'opposition_team', 'minutes', 'element_fixture_rank',\n",
    "    'minutes_rolling', 'goals_scored_rolling', 'assists_rolling',\n",
    "    'goals_scored_per_minute_rolling', 'assists_per_minute_rolling', 'minutes_per_fixture_rolling'\n",
    "]"
   ]
  },
  {
   "cell_type": "code",
   "execution_count": 88,
   "metadata": {
    "ExecuteTime": {
     "end_time": "2019-04-08T15:16:43.262280Z",
     "start_time": "2019-04-08T15:16:43.240056Z"
    },
    "hidden": true
   },
   "outputs": [],
   "source": [
    "eptmm_exposure = eptmm_df['minutes']"
   ]
  },
  {
   "cell_type": "code",
   "execution_count": 89,
   "metadata": {
    "ExecuteTime": {
     "end_time": "2019-04-08T15:16:43.294416Z",
     "start_time": "2019-04-08T15:16:43.264350Z"
    },
    "hidden": true
   },
   "outputs": [],
   "source": [
    "eptmm_df = player.remove_redundant_columns(eptmm_df, eptmm_redundant_columns)"
   ]
  },
  {
   "cell_type": "code",
   "execution_count": 90,
   "metadata": {
    "ExecuteTime": {
     "end_time": "2019-04-08T15:16:43.331133Z",
     "start_time": "2019-04-08T15:16:43.296812Z"
    },
    "hidden": true
   },
   "outputs": [],
   "source": [
    "eptmm_response_df, eptmm_explanatory_df = player.get_response_explanatory_dfs(eptmm_df, 'goals_scored')"
   ]
  },
  {
   "cell_type": "code",
   "execution_count": 91,
   "metadata": {
    "ExecuteTime": {
     "end_time": "2019-04-08T15:16:43.339402Z",
     "start_time": "2019-04-08T15:16:43.333291Z"
    },
    "hidden": true
   },
   "outputs": [
    {
     "data": {
      "text/plain": [
       "Index(['const', 'was_home', 'element_type_3', 'element_type_4',\n",
       "       'opposition_team_2', 'opposition_team_3', 'opposition_team_4',\n",
       "       'opposition_team_5', 'opposition_team_6', 'opposition_team_7',\n",
       "       'opposition_team_8', 'opposition_team_9', 'opposition_team_10',\n",
       "       'opposition_team_11', 'opposition_team_12', 'opposition_team_13',\n",
       "       'opposition_team_14', 'opposition_team_15', 'opposition_team_16',\n",
       "       'opposition_team_17', 'opposition_team_18', 'opposition_team_19',\n",
       "       'opposition_team_20', 'own_team_2', 'own_team_3', 'own_team_4',\n",
       "       'own_team_5', 'own_team_6', 'own_team_7', 'own_team_8', 'own_team_9',\n",
       "       'own_team_10', 'own_team_11', 'own_team_12', 'own_team_13',\n",
       "       'own_team_14', 'own_team_15', 'own_team_16', 'own_team_17',\n",
       "       'own_team_18', 'own_team_19', 'own_team_20'],\n",
       "      dtype='object')"
      ]
     },
     "execution_count": 91,
     "metadata": {},
     "output_type": "execute_result"
    }
   ],
   "source": [
    "eptmm_explanatory_df.columns"
   ]
  },
  {
   "cell_type": "markdown",
   "metadata": {
    "heading_collapsed": true,
    "hidden": true
   },
   "source": [
    "### Fitting model"
   ]
  },
  {
   "cell_type": "code",
   "execution_count": 92,
   "metadata": {
    "ExecuteTime": {
     "end_time": "2019-04-08T15:16:43.578786Z",
     "start_time": "2019-04-08T15:16:43.341368Z"
    },
    "hidden": true
   },
   "outputs": [],
   "source": [
    "eptmm_results = sm.GLM(\n",
    "    eptmm_response_df,\n",
    "    eptmm_explanatory_df,\n",
    "    family=sm.families.Poisson(),\n",
    "    missing='drop',\n",
    "    exposure=eptmm_exposure\n",
    ").fit()"
   ]
  },
  {
   "cell_type": "code",
   "execution_count": 93,
   "metadata": {
    "ExecuteTime": {
     "end_time": "2019-04-08T15:16:43.632947Z",
     "start_time": "2019-04-08T15:16:43.582269Z"
    },
    "hidden": true
   },
   "outputs": [
    {
     "name": "stdout",
     "output_type": "stream",
     "text": [
      "                 Generalized Linear Model Regression Results                  \n",
      "==============================================================================\n",
      "Dep. Variable:           goals_scored   No. Observations:                 8161\n",
      "Model:                            GLM   Df Residuals:                     8119\n",
      "Model Family:                 Poisson   Df Model:                           41\n",
      "Link Function:                    log   Scale:                             1.0\n",
      "Method:                          IRLS   Log-Likelihood:                -2523.1\n",
      "Date:                Mon, 08 Apr 2019   Deviance:                       3434.0\n",
      "Time:                        15:16:43   Pearson chi2:                 1.15e+04\n",
      "No. Iterations:                     6                                         \n",
      "======================================================================================\n",
      "                         coef    std err          z      P>|z|      [0.025      0.975]\n",
      "--------------------------------------------------------------------------------------\n",
      "const                 -7.5760      0.232    -32.632      0.000      -8.031      -7.121\n",
      "was_home               0.2253      0.068      3.293      0.001       0.091       0.359\n",
      "element_type_3         1.2184      0.103     11.782      0.000       1.016       1.421\n",
      "element_type_4         2.1507      0.108     19.869      0.000       1.939       2.363\n",
      "opposition_team_2      0.3609      0.213      1.696      0.090      -0.056       0.778\n",
      "opposition_team_3      0.2243      0.222      1.012      0.311      -0.210       0.658\n",
      "opposition_team_4      0.4040      0.212      1.907      0.056      -0.011       0.819\n",
      "opposition_team_5      0.4554      0.209      2.174      0.030       0.045       0.866\n",
      "opposition_team_6     -0.0532      0.239     -0.223      0.824      -0.521       0.414\n",
      "opposition_team_7      0.1203      0.225      0.535      0.593      -0.320       0.561\n",
      "opposition_team_8      0.0601      0.229      0.263      0.793      -0.388       0.508\n",
      "opposition_team_9      0.5782      0.203      2.852      0.004       0.181       0.976\n",
      "opposition_team_10     0.3982      0.211      1.884      0.060      -0.016       0.812\n",
      "opposition_team_11     0.1331      0.225      0.591      0.554      -0.308       0.574\n",
      "opposition_team_12    -0.6993      0.283     -2.470      0.014      -1.254      -0.144\n",
      "opposition_team_13    -0.5215      0.274     -1.903      0.057      -1.059       0.016\n",
      "opposition_team_14     0.0690      0.229      0.301      0.763      -0.380       0.518\n",
      "opposition_team_15     0.0254      0.228      0.112      0.911      -0.421       0.471\n",
      "opposition_team_16     0.1956      0.221      0.886      0.375      -0.237       0.628\n",
      "opposition_team_17    -0.1598      0.245     -0.653      0.514      -0.639       0.320\n",
      "opposition_team_18     0.1256      0.224      0.561      0.575      -0.313       0.564\n",
      "opposition_team_19     0.2205      0.221      0.998      0.318      -0.212       0.653\n",
      "opposition_team_20    -0.0906      0.236     -0.384      0.701      -0.554       0.372\n",
      "own_team_2            -0.3433      0.200     -1.716      0.086      -0.735       0.049\n",
      "own_team_3            -0.5813      0.219     -2.654      0.008      -1.011      -0.152\n",
      "own_team_4            -0.6146      0.215     -2.863      0.004      -1.035      -0.194\n",
      "own_team_5            -0.6322      0.229     -2.756      0.006      -1.082      -0.183\n",
      "own_team_6            -0.0386      0.189     -0.204      0.838      -0.409       0.332\n",
      "own_team_7            -0.5255      0.211     -2.493      0.013      -0.939      -0.112\n",
      "own_team_8            -0.1666      0.197     -0.844      0.399      -0.553       0.220\n",
      "own_team_9            -0.6877      0.227     -3.034      0.002      -1.132      -0.244\n",
      "own_team_10           -1.2660      0.282     -4.496      0.000      -1.818      -0.714\n",
      "own_team_11           -0.3989      0.206     -1.939      0.052      -0.802       0.004\n",
      "own_team_12            0.1570      0.177      0.887      0.375      -0.190       0.504\n",
      "own_team_13            0.2807      0.171      1.638      0.101      -0.055       0.617\n",
      "own_team_14            0.0482      0.182      0.264      0.791      -0.309       0.406\n",
      "own_team_15           -0.7797      0.224     -3.485      0.000      -1.218      -0.341\n",
      "own_team_16           -0.4863      0.215     -2.262      0.024      -0.908      -0.065\n",
      "own_team_17            0.0780      0.184      0.425      0.671      -0.282       0.438\n",
      "own_team_18           -0.2680      0.196     -1.367      0.172      -0.652       0.116\n",
      "own_team_19           -0.3729      0.204     -1.824      0.068      -0.774       0.028\n",
      "own_team_20           -0.2613      0.206     -1.270      0.204      -0.665       0.142\n",
      "======================================================================================\n"
     ]
    }
   ],
   "source": [
    "print(eptmm_results.summary())"
   ]
  },
  {
   "cell_type": "markdown",
   "metadata": {
    "heading_collapsed": true,
    "hidden": true
   },
   "source": [
    "### Model fit"
   ]
  },
  {
   "cell_type": "code",
   "execution_count": 94,
   "metadata": {
    "ExecuteTime": {
     "end_time": "2019-04-08T15:16:43.650265Z",
     "start_time": "2019-04-08T15:16:43.640162Z"
    },
    "hidden": true
   },
   "outputs": [
    {
     "data": {
      "text/plain": [
       "5130.192616669883"
      ]
     },
     "execution_count": 94,
     "metadata": {},
     "output_type": "execute_result"
    }
   ],
   "source": [
    "eptmm_results.aic"
   ]
  },
  {
   "cell_type": "code",
   "execution_count": 95,
   "metadata": {
    "ExecuteTime": {
     "end_time": "2019-04-08T15:16:43.675494Z",
     "start_time": "2019-04-08T15:16:43.657458Z"
    },
    "hidden": true
   },
   "outputs": [
    {
     "data": {
      "text/plain": [
       "-69694.81275688269"
      ]
     },
     "execution_count": 95,
     "metadata": {},
     "output_type": "execute_result"
    }
   ],
   "source": [
    "eptmm_results.bic"
   ]
  },
  {
   "cell_type": "code",
   "execution_count": 96,
   "metadata": {
    "ExecuteTime": {
     "end_time": "2019-04-08T15:16:43.713210Z",
     "start_time": "2019-04-08T15:16:43.682667Z"
    },
    "hidden": true
   },
   "outputs": [
    {
     "data": {
      "text/plain": [
       "(True, 0.0)"
      ]
     },
     "execution_count": 96,
     "metadata": {},
     "output_type": "execute_result"
    }
   ],
   "source": [
    "eptmm_pearson_results = goodness_fit.pearson_chi_squared_test(eptmm_results)\n",
    "eptmm_pearson_results"
   ]
  },
  {
   "cell_type": "code",
   "execution_count": 97,
   "metadata": {
    "ExecuteTime": {
     "end_time": "2019-04-08T15:16:43.735769Z",
     "start_time": "2019-04-08T15:16:43.715176Z"
    },
    "hidden": true
   },
   "outputs": [
    {
     "data": {
      "text/plain": [
       "count    8161.000000\n",
       "mean       -0.208521\n",
       "std         0.614287\n",
       "min        -1.439796\n",
       "25%        -0.481759\n",
       "50%        -0.322687\n",
       "75%        -0.219356\n",
       "max         3.673583\n",
       "dtype: float64"
      ]
     },
     "execution_count": 97,
     "metadata": {},
     "output_type": "execute_result"
    }
   ],
   "source": [
    "eptmm_results.resid_deviance.describe()"
   ]
  },
  {
   "cell_type": "code",
   "execution_count": 98,
   "metadata": {
    "ExecuteTime": {
     "end_time": "2019-04-08T15:16:43.960667Z",
     "start_time": "2019-04-08T15:16:43.737778Z"
    },
    "hidden": true
   },
   "outputs": [
    {
     "data": {
      "image/png": "[encoded data removed]",
      "text/plain": [
       "<Figure size 432x288 with 1 Axes>"
      ]
     },
     "metadata": {
      "needs_background": "light"
     },
     "output_type": "display_data"
    }
   ],
   "source": [
    "plt.figure()\n",
    "plt.hist(eptmm_results.resid_deviance)\n",
    "plt.show()"
   ]
  },
  {
   "cell_type": "markdown",
   "metadata": {
    "hidden": true
   },
   "source": [
    "## Simple Poisson teams form exposure model"
   ]
  },
  {
   "cell_type": "markdown",
   "metadata": {
    "hidden": true
   },
   "source": [
    "### Preparing data"
   ]
  },
  {
   "cell_type": "code",
   "execution_count": 179,
   "metadata": {
    "ExecuteTime": {
     "end_time": "2019-04-08T15:20:57.421064Z",
     "start_time": "2019-04-08T15:20:57.414376Z"
    },
    "hidden": true
   },
   "outputs": [],
   "source": [
    "eptmmf_df = element_gameweek_df.copy()"
   ]
  },
  {
   "cell_type": "code",
   "execution_count": 180,
   "metadata": {
    "ExecuteTime": {
     "end_time": "2019-04-08T15:20:57.642046Z",
     "start_time": "2019-04-08T15:20:57.618830Z"
    },
    "hidden": true
   },
   "outputs": [],
   "source": [
    "eptmmf_df = player.add_categorical_variables(eptmmf_df, 'element_type')\n",
    "eptmmf_df = player.add_categorical_variables(eptmmf_df, 'opposition_team')\n",
    "eptmmf_df = player.add_categorical_variables(eptmmf_df, 'own_team')"
   ]
  },
  {
   "cell_type": "code",
   "execution_count": 181,
   "metadata": {
    "ExecuteTime": {
     "end_time": "2019-04-08T15:20:57.802716Z",
     "start_time": "2019-04-08T15:20:57.794426Z"
    },
    "hidden": true
   },
   "outputs": [],
   "source": [
    "eptmmf_redundant_columns = [\n",
    "    'row_id', 'assists', 'attempted_passes', 'big_chances_created',\n",
    "    'big_chances_missed', 'bonus', 'bps', 'clean_sheets',\n",
    "    'clearances_blocks_interceptions', 'completed_passes', 'creativity',\n",
    "    'dribbles', 'ea_index', 'element', 'errors_leading_to_goal',\n",
    "    'errors_leading_to_goal_attempt', 'fixture', 'fouls', 'goals_conceded',\n",
    "    'ict_index', 'id', 'influence', 'key_passes', 'kickoff_time',\n",
    "    'kickoff_time_formatted', 'loaned_in', 'loaned_out', 'offside',\n",
    "    'open_play_crosses', 'opponent_team', 'own_goals', 'penalties_conceded',\n",
    "    'penalties_missed', 'penalties_saved', 'recoveries', 'red_cards', 'round',\n",
    "    'saves', 'selected', 'tackled', 'tackles', 'target_missed', 'team_a_score',\n",
    "    'team_h_score', 'threat', 'total_points', 'transfers_balance',\n",
    "    'transfers_in', 'transfers_out', 'value', 'winning_goals',\n",
    "    'yellow_cards', 'event', 'team_a', 'team_a_difficulty', 'team_h',\n",
    "    'team_h_difficulty', 'element_type', 'team', 'web_name', 'safe_web_name',\n",
    "    'own_team', 'opposition_team', 'minutes', 'element_fixture_rank',\n",
    "    'minutes_rolling', 'goals_scored_rolling', 'assists_rolling',\n",
    "]"
   ]
  },
  {
   "cell_type": "code",
   "execution_count": 182,
   "metadata": {
    "ExecuteTime": {
     "end_time": "2019-04-08T15:20:57.974231Z",
     "start_time": "2019-04-08T15:20:57.968555Z"
    },
    "hidden": true
   },
   "outputs": [],
   "source": [
    "eptmmf_exposure = eptmmf_df['minutes']"
   ]
  },
  {
   "cell_type": "code",
   "execution_count": 183,
   "metadata": {
    "ExecuteTime": {
     "end_time": "2019-04-08T15:20:58.199537Z",
     "start_time": "2019-04-08T15:20:58.187355Z"
    },
    "hidden": true
   },
   "outputs": [],
   "source": [
    "eptmmf_df = player.remove_redundant_columns(eptmmf_df, eptmmf_redundant_columns)"
   ]
  },
  {
   "cell_type": "code",
   "execution_count": 184,
   "metadata": {
    "ExecuteTime": {
     "end_time": "2019-04-08T15:20:58.411831Z",
     "start_time": "2019-04-08T15:20:58.388265Z"
    },
    "hidden": true
   },
   "outputs": [],
   "source": [
    "eptmmf_response_df, eptmmf_explanatory_df = player.get_response_explanatory_dfs(eptmmf_df, 'goals_scored')"
   ]
  },
  {
   "cell_type": "code",
   "execution_count": 185,
   "metadata": {
    "ExecuteTime": {
     "end_time": "2019-04-08T15:20:58.589674Z",
     "start_time": "2019-04-08T15:20:58.583842Z"
    },
    "hidden": true
   },
   "outputs": [
    {
     "data": {
      "text/plain": [
       "Index(['const', 'was_home', 'goals_scored_per_minute_rolling',\n",
       "       'assists_per_minute_rolling', 'minutes_per_fixture_rolling',\n",
       "       'element_type_3', 'element_type_4', 'opposition_team_2',\n",
       "       'opposition_team_3', 'opposition_team_4', 'opposition_team_5',\n",
       "       'opposition_team_6', 'opposition_team_7', 'opposition_team_8',\n",
       "       'opposition_team_9', 'opposition_team_10', 'opposition_team_11',\n",
       "       'opposition_team_12', 'opposition_team_13', 'opposition_team_14',\n",
       "       'opposition_team_15', 'opposition_team_16', 'opposition_team_17',\n",
       "       'opposition_team_18', 'opposition_team_19', 'opposition_team_20',\n",
       "       'own_team_2', 'own_team_3', 'own_team_4', 'own_team_5', 'own_team_6',\n",
       "       'own_team_7', 'own_team_8', 'own_team_9', 'own_team_10', 'own_team_11',\n",
       "       'own_team_12', 'own_team_13', 'own_team_14', 'own_team_15',\n",
       "       'own_team_16', 'own_team_17', 'own_team_18', 'own_team_19',\n",
       "       'own_team_20'],\n",
       "      dtype='object')"
      ]
     },
     "execution_count": 185,
     "metadata": {},
     "output_type": "execute_result"
    }
   ],
   "source": [
    "eptmmf_explanatory_df.columns"
   ]
  },
  {
   "cell_type": "markdown",
   "metadata": {
    "hidden": true
   },
   "source": [
    "### Fitting model"
   ]
  },
  {
   "cell_type": "code",
   "execution_count": 186,
   "metadata": {
    "ExecuteTime": {
     "end_time": "2019-04-08T15:20:59.497944Z",
     "start_time": "2019-04-08T15:20:59.080780Z"
    },
    "hidden": true
   },
   "outputs": [],
   "source": [
    "eptmmf_results = sm.GLM(\n",
    "    eptmmf_response_df,\n",
    "    eptmmf_explanatory_df,\n",
    "    family=sm.families.Poisson(),\n",
    "    missing='drop',\n",
    "    exposure=eptmmf_exposure\n",
    ").fit()"
   ]
  },
  {
   "cell_type": "code",
   "execution_count": 187,
   "metadata": {
    "ExecuteTime": {
     "end_time": "2019-04-08T15:20:59.575655Z",
     "start_time": "2019-04-08T15:20:59.521873Z"
    },
    "hidden": true
   },
   "outputs": [
    {
     "name": "stdout",
     "output_type": "stream",
     "text": [
      "                 Generalized Linear Model Regression Results                  \n",
      "==============================================================================\n",
      "Dep. Variable:           goals_scored   No. Observations:                 7702\n",
      "Model:                            GLM   Df Residuals:                     7657\n",
      "Model Family:                 Poisson   Df Model:                           44\n",
      "Link Function:                    log   Scale:                             1.0\n",
      "Method:                          IRLS   Log-Likelihood:                -2406.4\n",
      "Date:                Mon, 08 Apr 2019   Deviance:                       3262.5\n",
      "Time:                        15:20:59   Pearson chi2:                 1.11e+04\n",
      "No. Iterations:                    10                                         \n",
      "===================================================================================================\n",
      "                                      coef    std err          z      P>|z|      [0.025      0.975]\n",
      "---------------------------------------------------------------------------------------------------\n",
      "const                              -7.9220      0.279    -28.443      0.000      -8.468      -7.376\n",
      "was_home                            0.2237      0.070      3.201      0.001       0.087       0.361\n",
      "goals_scored_per_minute_rolling     8.5415      3.661      2.333      0.020       1.367      15.716\n",
      "assists_per_minute_rolling         23.7915      5.788      4.111      0.000      12.447      35.136\n",
      "minutes_per_fixture_rolling         0.0040      0.002      2.059      0.040       0.000       0.008\n",
      "element_type_3                      1.2202      0.108     11.333      0.000       1.009       1.431\n",
      "element_type_4                      2.1405      0.116     18.470      0.000       1.913       2.368\n",
      "opposition_team_2                   0.3970      0.217      1.833      0.067      -0.027       0.821\n",
      "opposition_team_3                   0.2234      0.227      0.983      0.326      -0.222       0.669\n",
      "opposition_team_4                   0.4349      0.216      2.013      0.044       0.012       0.858\n",
      "opposition_team_5                   0.4848      0.215      2.258      0.024       0.064       0.906\n",
      "opposition_team_6                  -0.0503      0.244     -0.206      0.837      -0.528       0.427\n",
      "opposition_team_7                   0.1396      0.228      0.611      0.541      -0.308       0.587\n",
      "opposition_team_8                  -0.0019      0.238     -0.008      0.994      -0.468       0.465\n",
      "opposition_team_9                   0.5720      0.208      2.748      0.006       0.164       0.980\n",
      "opposition_team_10                  0.3823      0.218      1.752      0.080      -0.045       0.810\n",
      "opposition_team_11                  0.1324      0.231      0.573      0.567      -0.320       0.585\n",
      "opposition_team_12                 -0.6843      0.286     -2.393      0.017      -1.245      -0.124\n",
      "opposition_team_13                 -0.4936      0.281     -1.757      0.079      -1.044       0.057\n",
      "opposition_team_14                  0.0748      0.234      0.320      0.749      -0.384       0.533\n",
      "opposition_team_15                  0.0206      0.234      0.088      0.930      -0.438       0.479\n",
      "opposition_team_16                  0.2079      0.225      0.923      0.356      -0.234       0.649\n",
      "opposition_team_17                 -0.1512      0.250     -0.605      0.545      -0.641       0.339\n",
      "opposition_team_18                  0.1488      0.227      0.655      0.513      -0.297       0.594\n",
      "opposition_team_19                  0.1309      0.231      0.566      0.572      -0.323       0.585\n",
      "opposition_team_20                 -0.1092      0.243     -0.449      0.653      -0.586       0.368\n",
      "own_team_2                         -0.3224      0.205     -1.572      0.116      -0.724       0.080\n",
      "own_team_3                         -0.4716      0.221     -2.136      0.033      -0.904      -0.039\n",
      "own_team_4                         -0.5283      0.219     -2.417      0.016      -0.957      -0.100\n",
      "own_team_5                         -0.4833      0.232     -2.087      0.037      -0.937      -0.029\n",
      "own_team_6                         -0.0395      0.194     -0.204      0.839      -0.419       0.340\n",
      "own_team_7                         -0.5455      0.218     -2.505      0.012      -0.972      -0.119\n",
      "own_team_8                         -0.1382      0.202     -0.685      0.493      -0.534       0.257\n",
      "own_team_9                         -0.6055      0.228     -2.653      0.008      -1.053      -0.158\n",
      "own_team_10                        -1.1966      0.291     -4.117      0.000      -1.766      -0.627\n",
      "own_team_11                        -0.3531      0.209     -1.691      0.091      -0.762       0.056\n",
      "own_team_12                         0.0919      0.184      0.501      0.617      -0.268       0.452\n",
      "own_team_13                         0.2637      0.174      1.511      0.131      -0.078       0.606\n",
      "own_team_14                         0.0886      0.185      0.478      0.633      -0.275       0.452\n",
      "own_team_15                        -0.7156      0.228     -3.137      0.002      -1.163      -0.269\n",
      "own_team_16                        -0.3354      0.217     -1.545      0.122      -0.761       0.090\n",
      "own_team_17                         0.0689      0.188      0.367      0.714      -0.299       0.437\n",
      "own_team_18                        -0.2339      0.200     -1.167      0.243      -0.626       0.159\n",
      "own_team_19                        -0.2887      0.206     -1.400      0.162      -0.693       0.116\n",
      "own_team_20                        -0.2918      0.213     -1.372      0.170      -0.709       0.125\n",
      "===================================================================================================\n"
     ]
    }
   ],
   "source": [
    "print(eptmmf_results.summary())"
   ]
  },
  {
   "cell_type": "markdown",
   "metadata": {
    "hidden": true
   },
   "source": [
    "### Model fit"
   ]
  },
  {
   "cell_type": "code",
   "execution_count": 188,
   "metadata": {
    "ExecuteTime": {
     "end_time": "2019-04-08T15:21:00.630176Z",
     "start_time": "2019-04-08T15:21:00.622627Z"
    },
    "hidden": true
   },
   "outputs": [
    {
     "data": {
      "text/plain": [
       "4902.8002682250535"
      ]
     },
     "execution_count": 188,
     "metadata": {},
     "output_type": "execute_result"
    }
   ],
   "source": [
    "eptmmf_results.aic"
   ]
  },
  {
   "cell_type": "code",
   "execution_count": 189,
   "metadata": {
    "ExecuteTime": {
     "end_time": "2019-04-08T15:21:01.306955Z",
     "start_time": "2019-04-08T15:21:01.301263Z"
    },
    "hidden": true
   },
   "outputs": [
    {
     "data": {
      "text/plain": [
       "-65261.83535807837"
      ]
     },
     "execution_count": 189,
     "metadata": {},
     "output_type": "execute_result"
    }
   ],
   "source": [
    "eptmmf_results.bic"
   ]
  },
  {
   "cell_type": "code",
   "execution_count": 190,
   "metadata": {
    "ExecuteTime": {
     "end_time": "2019-04-08T15:21:01.643297Z",
     "start_time": "2019-04-08T15:21:01.634000Z"
    },
    "hidden": true
   },
   "outputs": [
    {
     "data": {
      "text/plain": [
       "(True, 0.0)"
      ]
     },
     "execution_count": 190,
     "metadata": {},
     "output_type": "execute_result"
    }
   ],
   "source": [
    "eptmmf_pearson_results = goodness_fit.pearson_chi_squared_test(eptmmf_results)\n",
    "eptmmf_pearson_results"
   ]
  },
  {
   "cell_type": "code",
   "execution_count": 191,
   "metadata": {
    "ExecuteTime": {
     "end_time": "2019-04-08T15:21:02.034549Z",
     "start_time": "2019-04-08T15:21:02.017782Z"
    },
    "hidden": true
   },
   "outputs": [
    {
     "data": {
      "text/plain": [
       "count    7702.000000\n",
       "mean       -0.208833\n",
       "std         0.616461\n",
       "min        -1.743620\n",
       "25%        -0.483023\n",
       "50%        -0.323288\n",
       "75%        -0.220497\n",
       "max         3.678239\n",
       "dtype: float64"
      ]
     },
     "execution_count": 191,
     "metadata": {},
     "output_type": "execute_result"
    }
   ],
   "source": [
    "eptmmf_results.resid_deviance.describe()"
   ]
  },
  {
   "cell_type": "code",
   "execution_count": 192,
   "metadata": {
    "ExecuteTime": {
     "end_time": "2019-04-08T15:21:03.069364Z",
     "start_time": "2019-04-08T15:21:02.751307Z"
    },
    "hidden": true
   },
   "outputs": [
    {
     "data": {
      "image/png": "[encoded data removed]",
      "text/plain": [
       "<Figure size 432x288 with 1 Axes>"
      ]
     },
     "metadata": {
      "needs_background": "light"
     },
     "output_type": "display_data"
    }
   ],
   "source": [
    "plt.figure()\n",
    "plt.hist(eptmmf_results.resid_deviance)\n",
    "plt.show()"
   ]
  },
  {
   "cell_type": "markdown",
   "metadata": {
    "heading_collapsed": true,
    "hidden": true
   },
   "source": [
    "## Simple Poisson player model"
   ]
  },
  {
   "cell_type": "markdown",
   "metadata": {
    "hidden": true
   },
   "source": [
    "### Preparing data"
   ]
  },
  {
   "cell_type": "code",
   "execution_count": 113,
   "metadata": {
    "ExecuteTime": {
     "end_time": "2019-04-08T15:16:44.833250Z",
     "start_time": "2019-04-08T15:16:44.827619Z"
    },
    "hidden": true
   },
   "outputs": [],
   "source": [
    "sppm_df = element_gameweek_df.copy()"
   ]
  },
  {
   "cell_type": "code",
   "execution_count": 114,
   "metadata": {
    "ExecuteTime": {
     "end_time": "2019-04-08T15:16:44.882418Z",
     "start_time": "2019-04-08T15:16:44.836028Z"
    },
    "hidden": true
   },
   "outputs": [],
   "source": [
    "sppm_df = player.add_categorical_variables(sppm_df, 'opposition_team')\n",
    "sppm_df = player.add_categorical_variables(sppm_df, 'element')"
   ]
  },
  {
   "cell_type": "code",
   "execution_count": 115,
   "metadata": {
    "ExecuteTime": {
     "end_time": "2019-04-08T15:16:44.891760Z",
     "start_time": "2019-04-08T15:16:44.884794Z"
    },
    "hidden": true
   },
   "outputs": [],
   "source": [
    "sppm_redundant_columns = [\n",
    "    'row_id', 'assists', 'attempted_passes', 'big_chances_created',\n",
    "    'big_chances_missed', 'bonus', 'bps', 'clean_sheets',\n",
    "    'clearances_blocks_interceptions', 'completed_passes', 'creativity',\n",
    "    'dribbles', 'ea_index', 'element', 'errors_leading_to_goal',\n",
    "    'errors_leading_to_goal_attempt', 'fixture', 'fouls', 'goals_conceded',\n",
    "    'ict_index', 'id', 'influence', 'key_passes', 'kickoff_time',\n",
    "    'kickoff_time_formatted', 'loaned_in', 'loaned_out', 'minutes', 'offside',\n",
    "    'open_play_crosses', 'opponent_team', 'own_goals', 'penalties_conceded',\n",
    "    'penalties_missed', 'penalties_saved', 'recoveries', 'red_cards', 'round',\n",
    "    'saves', 'selected', 'tackled', 'tackles', 'target_missed', 'team_a_score',\n",
    "    'team_h_score', 'threat', 'total_points', 'transfers_balance',\n",
    "    'transfers_in', 'transfers_out', 'value', 'winning_goals',\n",
    "    'yellow_cards', 'event', 'team_a', 'team_a_difficulty', 'team_h',\n",
    "    'team_h_difficulty', 'element_type', 'team', 'web_name', 'safe_web_name',\n",
    "    'own_team', 'opposition_team', 'element_fixture_rank',\n",
    "    'minutes_rolling', 'goals_scored_rolling', 'assists_rolling',\n",
    "    'goals_scored_per_minute_rolling', 'assists_per_minute_rolling', 'minutes_per_fixture_rolling'\n",
    "]"
   ]
  },
  {
   "cell_type": "code",
   "execution_count": 116,
   "metadata": {
    "ExecuteTime": {
     "end_time": "2019-04-08T15:16:44.936918Z",
     "start_time": "2019-04-08T15:16:44.893742Z"
    },
    "hidden": true
   },
   "outputs": [],
   "source": [
    "sppm_df = player.remove_redundant_columns(sppm_df, sppm_redundant_columns)"
   ]
  },
  {
   "cell_type": "code",
   "execution_count": 117,
   "metadata": {
    "ExecuteTime": {
     "end_time": "2019-04-08T15:16:45.125077Z",
     "start_time": "2019-04-08T15:16:44.939282Z"
    },
    "hidden": true
   },
   "outputs": [],
   "source": [
    "sppm_response_df, sppm_explanatory_df = player.get_response_explanatory_dfs(sppm_df, 'goals_scored')"
   ]
  },
  {
   "cell_type": "code",
   "execution_count": 118,
   "metadata": {
    "ExecuteTime": {
     "end_time": "2019-04-08T15:16:45.132038Z",
     "start_time": "2019-04-08T15:16:45.127432Z"
    },
    "hidden": true
   },
   "outputs": [
    {
     "data": {
      "text/plain": [
       "Index(['const', 'was_home', 'opposition_team_2', 'opposition_team_3',\n",
       "       'opposition_team_4', 'opposition_team_5', 'opposition_team_6',\n",
       "       'opposition_team_7', 'opposition_team_8', 'opposition_team_9',\n",
       "       ...\n",
       "       'element_592', 'element_593', 'element_594', 'element_599',\n",
       "       'element_601', 'element_602', 'element_603', 'element_605',\n",
       "       'element_607', 'element_608'],\n",
       "      dtype='object', length=479)"
      ]
     },
     "execution_count": 118,
     "metadata": {},
     "output_type": "execute_result"
    }
   ],
   "source": [
    "sppm_explanatory_df.columns"
   ]
  },
  {
   "cell_type": "markdown",
   "metadata": {
    "heading_collapsed": true,
    "hidden": true
   },
   "source": [
    "### Fitting model"
   ]
  },
  {
   "cell_type": "code",
   "execution_count": 119,
   "metadata": {
    "ExecuteTime": {
     "end_time": "2019-04-08T15:17:01.281590Z",
     "start_time": "2019-04-08T15:16:45.134062Z"
    },
    "hidden": true
   },
   "outputs": [],
   "source": [
    "sppm_results = sm.GLM(\n",
    "    sppm_response_df,\n",
    "    sppm_explanatory_df,\n",
    "    family=sm.families.Poisson(),\n",
    "    missing='drop'\n",
    ").fit()"
   ]
  },
  {
   "cell_type": "code",
   "execution_count": 120,
   "metadata": {
    "ExecuteTime": {
     "end_time": "2019-04-08T15:17:01.563924Z",
     "start_time": "2019-04-08T15:17:01.293030Z"
    },
    "hidden": true
   },
   "outputs": [
    {
     "name": "stdout",
     "output_type": "stream",
     "text": [
      "                 Generalized Linear Model Regression Results                  \n",
      "==============================================================================\n",
      "Dep. Variable:           goals_scored   No. Observations:                 8161\n",
      "Model:                            GLM   Df Residuals:                     7682\n",
      "Model Family:                 Poisson   Df Model:                          478\n",
      "Link Function:                    log   Scale:                             1.0\n",
      "Method:                          IRLS   Log-Likelihood:                -2241.5\n",
      "Date:                Mon, 08 Apr 2019   Deviance:                       2870.8\n",
      "Time:                        15:17:01   Pearson chi2:                 5.55e+03\n",
      "No. Iterations:                    25                                         \n",
      "======================================================================================\n",
      "                         coef    std err          z      P>|z|      [0.025      0.975]\n",
      "--------------------------------------------------------------------------------------\n",
      "const                 -1.6154      0.604     -2.676      0.007      -2.798      -0.432\n",
      "was_home               0.2474      0.069      3.598      0.000       0.113       0.382\n",
      "opposition_team_2      0.2993      0.214      1.400      0.162      -0.120       0.718\n",
      "opposition_team_3      0.1711      0.223      0.768      0.442      -0.265       0.608\n",
      "opposition_team_4      0.4307      0.213      2.020      0.043       0.013       0.849\n",
      "opposition_team_5      0.4830      0.211      2.292      0.022       0.070       0.896\n",
      "opposition_team_6     -0.1111      0.239     -0.464      0.643      -0.581       0.358\n",
      "opposition_team_7      0.0950      0.226      0.421      0.674      -0.347       0.537\n",
      "opposition_team_8     -0.0058      0.231     -0.025      0.980      -0.459       0.447\n",
      "opposition_team_9      0.5945      0.204      2.912      0.004       0.194       0.995\n",
      "opposition_team_10     0.4313      0.213      2.028      0.043       0.014       0.848\n",
      "opposition_team_11     0.1131      0.226      0.500      0.617      -0.330       0.556\n",
      "opposition_team_12    -0.7191      0.284     -2.530      0.011      -1.276      -0.162\n",
      "opposition_team_13    -0.5411      0.275     -1.965      0.049      -1.081      -0.001\n",
      "opposition_team_14     0.0208      0.230      0.090      0.928      -0.431       0.472\n",
      "opposition_team_15     0.0040      0.229      0.018      0.986      -0.444       0.452\n",
      "opposition_team_16     0.1857      0.222      0.836      0.403      -0.249       0.621\n",
      "opposition_team_17    -0.2147      0.246     -0.874      0.382      -0.696       0.266\n",
      "opposition_team_18     0.1292      0.225      0.574      0.566      -0.312       0.570\n",
      "opposition_team_19     0.2147      0.222      0.967      0.334      -0.221       0.650\n",
      "opposition_team_20    -0.1184      0.237     -0.499      0.618      -0.584       0.347\n",
      "element_4            -26.5038   1.59e+05     -0.000      1.000   -3.12e+05    3.12e+05\n",
      "element_5             -1.5677      1.155     -1.357      0.175      -3.832       0.697\n",
      "element_6            -26.4921    2.2e+05     -0.000      1.000   -4.31e+05    4.31e+05\n",
      "element_7             -1.1555      0.914     -1.265      0.206      -2.946       0.635\n",
      "element_8            -26.5576   1.57e+05     -0.000      1.000   -3.08e+05    3.08e+05\n",
      "element_9             -1.1642      0.914     -1.274      0.203      -2.955       0.627\n",
      "element_10           -25.7718   7.04e+05  -3.66e-05      1.000   -1.38e+06    1.38e+06\n",
      "element_11           -26.4986   1.97e+05     -0.000      1.000   -3.87e+05    3.87e+05\n",
      "element_12           -26.5400    1.5e+05     -0.000      1.000   -2.95e+05    2.95e+05\n",
      "element_13            -0.1928      0.765     -0.252      0.801      -1.692       1.307\n",
      "element_14            -0.4664      0.765     -0.610      0.542      -1.965       1.032\n",
      "element_15            -0.9001      0.817     -1.102      0.271      -2.501       0.701\n",
      "element_16           -26.7592   3.11e+05  -8.61e-05      1.000   -6.09e+05    6.09e+05\n",
      "element_17            -0.4720      0.764     -0.618      0.537      -1.970       1.026\n",
      "element_18             0.2150      0.708      0.304      0.761      -1.172       1.602\n",
      "element_20            -1.0541      1.155     -0.913      0.362      -3.318       1.210\n",
      "element_21            -0.7340      1.156     -0.635      0.526      -3.000       1.532\n",
      "element_22             0.5132      0.641      0.800      0.423      -0.744       1.770\n",
      "element_23             0.7864      0.627      1.254      0.210      -0.442       2.015\n",
      "element_26           -26.5377   1.67e+05     -0.000      1.000   -3.28e+05    3.28e+05\n",
      "element_27            -1.8706      1.155     -1.619      0.105      -4.135       0.394\n",
      "element_28            -1.6419      1.156     -1.421      0.155      -3.907       0.623\n",
      "element_29            -1.6777      1.156     -1.452      0.147      -3.942       0.587\n",
      "element_30           -26.2734   3.06e+05  -8.59e-05      1.000      -6e+05       6e+05\n",
      "element_31            -0.9619      0.818     -1.177      0.239      -2.564       0.640\n",
      "element_32           -26.0192   7.04e+05   -3.7e-05      1.000   -1.38e+06    1.38e+06\n",
      "element_33           -26.5468   1.41e+05     -0.000      1.000   -2.77e+05    2.77e+05\n",
      "element_35           -26.4027   1.62e+05     -0.000      1.000   -3.18e+05    3.18e+05\n",
      "element_36            -1.6180      1.155     -1.401      0.161      -3.882       0.646\n",
      "element_37           -26.5320   1.51e+05     -0.000      1.000   -2.96e+05    2.96e+05\n",
      "element_38           -26.4162   1.69e+05     -0.000      1.000    -3.3e+05     3.3e+05\n",
      "element_39           -26.5438   1.92e+05     -0.000      1.000   -3.77e+05    3.77e+05\n",
      "element_40            -0.2687      0.708     -0.379      0.704      -1.657       1.120\n",
      "element_42            -0.1030      0.708     -0.145      0.884      -1.491       1.285\n",
      "element_43             0.5561      0.653      0.852      0.394      -0.723       1.835\n",
      "element_44            -1.6011      1.156     -1.385      0.166      -3.867       0.664\n",
      "element_45             0.4477      0.653      0.686      0.493      -0.832       1.727\n",
      "element_46           -26.7636   3.48e+05   -7.7e-05      1.000   -6.81e+05    6.81e+05\n",
      "element_48            -1.3387      0.914     -1.465      0.143      -3.129       0.452\n",
      "element_49            -0.3616      0.731     -0.494      0.621      -1.795       1.072\n",
      "element_50           -26.5153   2.32e+05     -0.000      1.000   -4.55e+05    4.55e+05\n",
      "element_51           -26.4746    1.5e+05     -0.000      1.000   -2.94e+05    2.94e+05\n",
      "element_54            -0.6928      1.156     -0.599      0.549      -2.959       1.573\n",
      "element_55            -1.2067      0.914     -1.321      0.187      -2.997       0.584\n",
      "element_56            -1.8115      1.155     -1.568      0.117      -4.076       0.453\n",
      "element_57            -1.1482      1.156     -0.993      0.321      -3.414       1.117\n",
      "element_58            -2.0266      1.155     -1.754      0.079      -4.291       0.238\n",
      "element_59            -0.9288      0.914     -1.016      0.310      -2.720       0.863\n",
      "element_60            -1.9508      1.155     -1.689      0.091      -4.215       0.313\n",
      "element_61           -26.5517   2.09e+05     -0.000      1.000    -4.1e+05     4.1e+05\n",
      "element_62             0.3210      0.652      0.492      0.623      -0.958       1.599\n",
      "element_65            -1.0736      0.914     -1.175      0.240      -2.864       0.717\n",
      "element_66            -0.4041      0.818     -0.494      0.621      -2.007       1.199\n",
      "element_69           -26.5779   1.79e+05     -0.000      1.000   -3.51e+05    3.51e+05\n",
      "element_70           -26.5142   1.22e+05     -0.000      1.000    -2.4e+05     2.4e+05\n",
      "element_71           -26.6956   4.03e+05  -6.63e-05      1.000    -7.9e+05     7.9e+05\n",
      "element_72            -0.8975      0.817     -1.098      0.272      -2.499       0.704\n",
      "element_73           -26.4379   2.84e+05  -9.29e-05      1.000   -5.58e+05    5.58e+05\n",
      "element_74           -26.5142   1.22e+05     -0.000      1.000    -2.4e+05     2.4e+05\n",
      "element_75           -26.4647   1.58e+05     -0.000      1.000    -3.1e+05     3.1e+05\n",
      "element_76            -0.7354      0.817     -0.900      0.368      -2.337       0.866\n",
      "element_77           -26.3662   2.84e+05  -9.28e-05      1.000   -5.57e+05    5.57e+05\n",
      "element_78            -1.8594      1.155     -1.610      0.108      -4.124       0.405\n",
      "element_79           -26.4767   1.86e+05     -0.000      1.000   -3.65e+05    3.65e+05\n",
      "element_80            -1.9686      1.155     -1.704      0.088      -4.232       0.295\n",
      "element_82            -2.0555      1.155     -1.779      0.075      -4.320       0.209\n",
      "element_83            -1.3936      1.155     -1.206      0.228      -3.658       0.871\n",
      "element_84            -0.5470      0.817     -0.669      0.503      -2.149       1.055\n",
      "element_85             0.1515      0.667      0.227      0.820      -1.157       1.460\n",
      "element_87            -0.1406      0.691     -0.204      0.839      -1.495       1.213\n",
      "element_90           -26.5025    1.3e+05     -0.000      1.000   -2.56e+05    2.56e+05\n",
      "element_91            -0.5826      0.765     -0.762      0.446      -2.081       0.916\n",
      "element_92           -26.5031   1.22e+05     -0.000      1.000    -2.4e+05     2.4e+05\n",
      "element_94           -26.5067   1.41e+05     -0.000      1.000   -2.76e+05    2.76e+05\n",
      "element_95           -26.4301   1.86e+05     -0.000      1.000   -3.64e+05    3.64e+05\n",
      "element_96           -26.4847   3.85e+05  -6.87e-05      1.000   -7.55e+05    7.55e+05\n",
      "element_98           -26.5026   1.36e+05     -0.000      1.000   -2.67e+05    2.67e+05\n",
      "element_99            -0.7253      0.817     -0.887      0.375      -2.328       0.877\n",
      "element_100           -1.2503      1.156     -1.082      0.279      -3.515       1.015\n",
      "element_101           -0.5603      0.765     -0.733      0.464      -2.059       0.938\n",
      "element_102           -1.7080      1.155     -1.479      0.139      -3.972       0.556\n",
      "element_104          -26.4719   4.55e+05  -5.82e-05      1.000   -8.91e+05    8.91e+05\n",
      "element_105           -0.9718      1.156     -0.840      0.401      -3.238       1.294\n",
      "element_106           -0.7438      0.817     -0.910      0.363      -2.346       0.858\n",
      "element_107           -1.2361      1.156     -1.070      0.285      -3.501       1.029\n",
      "element_109          -26.6085    3.1e+05  -8.59e-05      1.000   -6.07e+05    6.07e+05\n",
      "element_110           -0.2894      0.765     -0.378      0.705      -1.789       1.210\n",
      "element_113           -2.1149      1.155     -1.831      0.067      -4.379       0.149\n",
      "element_114          -26.5276   7.04e+05  -3.77e-05      1.000   -1.38e+06    1.38e+06\n",
      "element_115           -1.9646      1.155     -1.700      0.089      -4.229       0.300\n",
      "element_116           -1.3548      0.914     -1.483      0.138      -3.145       0.436\n",
      "element_117          -26.3413   4.85e+05  -5.43e-05      1.000   -9.51e+05    9.51e+05\n",
      "element_118           -2.0274      1.155     -1.755      0.079      -4.292       0.237\n",
      "element_119          -26.7254   3.48e+05  -7.69e-05      1.000   -6.81e+05    6.81e+05\n",
      "element_120          -26.9679   4.01e+05  -6.72e-05      1.000   -7.87e+05    7.87e+05\n",
      "element_121          -26.4888   2.61e+05     -0.000      1.000   -5.12e+05    5.12e+05\n",
      "element_122            0.5618      0.637      0.882      0.378      -0.687       1.811\n",
      "element_123          -26.6029   2.86e+05   -9.3e-05      1.000   -5.61e+05    5.61e+05\n",
      "element_124           -0.9181      0.817     -1.123      0.261      -2.520       0.684\n",
      "element_125            0.1775      0.678      0.262      0.794      -1.152       1.507\n",
      "element_126           -0.9766      0.817     -1.195      0.232      -2.578       0.625\n",
      "element_127           -0.6965      0.818     -0.852      0.394      -2.299       0.906\n",
      "element_131          -26.5493   2.63e+05     -0.000      1.000   -5.16e+05    5.16e+05\n",
      "element_132            0.0082      0.731      0.011      0.991      -1.425       1.441\n",
      "element_133           -1.0686      0.914     -1.169      0.242      -2.860       0.722\n",
      "element_134            0.1897      0.731      0.259      0.795      -1.243       1.623\n",
      "element_138           -1.9624      1.155     -1.699      0.089      -4.227       0.302\n",
      "element_139          -26.6854   3.13e+05  -8.54e-05      1.000   -6.13e+05    6.13e+05\n",
      "element_140          -26.5253   2.63e+05     -0.000      1.000   -5.16e+05    5.16e+05\n",
      "element_141           -0.5808      0.764     -0.760      0.447      -2.079       0.917\n",
      "element_142           -1.4170      0.913     -1.551      0.121      -3.207       0.373\n",
      "element_143          -26.5107   1.33e+05     -0.000      1.000    -2.6e+05     2.6e+05\n",
      "element_145          -26.5367   1.28e+05     -0.000      1.000    -2.5e+05     2.5e+05\n",
      "element_146          -26.4979   2.09e+05     -0.000      1.000   -4.09e+05    4.09e+05\n",
      "element_147           -1.4170      0.913     -1.551      0.121      -3.207       0.373\n",
      "element_148          -27.1548   7.04e+05  -3.86e-05      1.000   -1.38e+06    1.38e+06\n",
      "element_149           -0.7239      0.764     -0.947      0.344      -2.222       0.774\n",
      "element_150            0.1924      0.659      0.292      0.770      -1.099       1.484\n",
      "element_151            0.1348      0.678      0.199      0.842      -1.194       1.464\n",
      "element_152          -26.6564   1.99e+05     -0.000      1.000    -3.9e+05     3.9e+05\n",
      "element_153          -26.5606      2e+05     -0.000      1.000   -3.93e+05    3.93e+05\n",
      "element_156          -26.6400   2.85e+05  -9.33e-05      1.000    -5.6e+05     5.6e+05\n",
      "element_157           -1.8017      1.155     -1.560      0.119      -4.066       0.463\n",
      "element_158          -26.4036   3.99e+05  -6.62e-05      1.000   -7.82e+05    7.82e+05\n",
      "element_160          -26.6806   3.12e+05  -8.55e-05      1.000   -6.12e+05    6.12e+05\n",
      "element_161          -26.5422   2.19e+05     -0.000      1.000   -4.29e+05    4.29e+05\n",
      "element_162           -1.9677      1.155     -1.703      0.089      -4.232       0.296\n",
      "element_164           -0.9570      0.817     -1.171      0.242      -2.559       0.645\n",
      "element_167          -26.5940   2.18e+05     -0.000      1.000   -4.27e+05    4.26e+05\n",
      "element_168          -26.5234   1.33e+05     -0.000      1.000   -2.61e+05    2.61e+05\n",
      "element_169          -26.5315   1.78e+05     -0.000      1.000   -3.49e+05    3.49e+05\n",
      "element_170          -26.5400   1.72e+05     -0.000      1.000   -3.37e+05    3.37e+05\n",
      "element_172            0.3909      0.646      0.605      0.545      -0.876       1.658\n",
      "element_175           -0.2269      0.708     -0.321      0.749      -1.614       1.160\n",
      "element_176          -26.5209   1.85e+05     -0.000      1.000   -3.63e+05    3.63e+05\n",
      "element_177           -1.0630      0.914     -1.163      0.245      -2.854       0.728\n",
      "element_180          -26.5249   1.49e+05     -0.000      1.000   -2.91e+05    2.91e+05\n",
      "element_181          -26.5240   1.31e+05     -0.000      1.000   -2.57e+05    2.57e+05\n",
      "element_182          -26.4869   1.33e+05     -0.000      1.000   -2.61e+05    2.61e+05\n",
      "element_183          -26.5347   1.79e+05     -0.000      1.000   -3.51e+05    3.51e+05\n",
      "element_184           -1.2936      0.914     -1.416      0.157      -3.084       0.497\n",
      "element_185          -26.4483   1.98e+05     -0.000      1.000   -3.89e+05    3.89e+05\n",
      "element_186           -0.9364      1.156     -0.810      0.418      -3.202       1.329\n",
      "element_187          -26.3362   2.81e+05  -9.38e-05      1.000   -5.51e+05    5.51e+05\n",
      "element_189           -0.1083      0.818     -0.132      0.895      -1.711       1.494\n",
      "element_192           -2.0717      1.155     -1.793      0.073      -4.336       0.193\n",
      "element_193          -26.4996   1.41e+05     -0.000      1.000   -2.76e+05    2.76e+05\n",
      "element_194          -26.3171    2.2e+05     -0.000      1.000   -4.32e+05    4.32e+05\n",
      "element_195           -0.7943      0.818     -0.972      0.331      -2.397       0.808\n",
      "element_197          -26.5640   1.44e+05     -0.000      1.000   -2.82e+05    2.82e+05\n",
      "element_198           -1.8966      1.155     -1.642      0.101      -4.161       0.368\n",
      "element_199           -1.1120      0.914     -1.217      0.224      -2.903       0.679\n",
      "element_200          -26.6420   3.11e+05  -8.58e-05      1.000   -6.09e+05    6.09e+05\n",
      "element_201          -26.5641   1.44e+05     -0.000      1.000   -2.83e+05    2.83e+05\n",
      "element_202           -1.2685      0.914     -1.388      0.165      -3.059       0.522\n",
      "element_204          -26.4242    3.5e+05  -7.54e-05      1.000   -6.87e+05    6.87e+05\n",
      "element_205          -26.2312   4.86e+05   -5.4e-05      1.000   -9.53e+05    9.53e+05\n",
      "element_206           -1.8851      1.155     -1.632      0.103      -4.149       0.379\n",
      "element_207          -26.3681   3.47e+05  -7.61e-05      1.000   -6.79e+05    6.79e+05\n",
      "element_208           -1.3225      1.156     -1.144      0.252      -3.587       0.942\n",
      "element_209          -26.5512   4.95e+05  -5.36e-05      1.000   -9.71e+05    9.71e+05\n",
      "element_210          -26.5625   1.44e+05     -0.000      1.000   -2.82e+05    2.82e+05\n",
      "element_211           -1.2188      0.914     -1.334      0.182      -3.010       0.572\n",
      "element_212          -26.5371   1.68e+05     -0.000      1.000    -3.3e+05     3.3e+05\n",
      "element_215           -0.5101      0.817     -0.624      0.533      -2.112       1.092\n",
      "element_216          -26.6059   4.05e+05  -6.57e-05      1.000   -7.94e+05    7.94e+05\n",
      "element_217          -26.4626   3.08e+05  -8.59e-05      1.000   -6.04e+05    6.04e+05\n",
      "element_219          -26.5386   1.26e+05     -0.000      1.000   -2.47e+05    2.46e+05\n",
      "element_220           -0.7691      0.817     -0.941      0.347      -2.371       0.833\n",
      "element_221           -1.2854      0.914     -1.407      0.160      -3.076       0.506\n",
      "element_222           -1.6754      1.156     -1.450      0.147      -3.940       0.590\n",
      "element_223           -0.1734      0.708     -0.245      0.807      -1.561       1.215\n",
      "element_224           -1.0262      0.914     -1.123      0.261      -2.817       0.765\n",
      "element_225           -0.6482      0.765     -0.848      0.397      -2.147       0.850\n",
      "element_226          -26.4683   2.31e+05     -0.000      1.000   -4.53e+05    4.53e+05\n",
      "element_227           -1.4231      0.914     -1.558      0.119      -3.214       0.367\n",
      "element_228          -26.5825   2.46e+05     -0.000      1.000   -4.82e+05    4.82e+05\n",
      "element_230          -26.2057   3.09e+05  -8.48e-05      1.000   -6.05e+05    6.05e+05\n",
      "element_231          -26.3842   4.96e+05  -5.32e-05      1.000   -9.73e+05    9.73e+05\n",
      "element_232          -26.9074   7.04e+05  -3.82e-05      1.000   -1.38e+06    1.38e+06\n",
      "element_233           -0.2508      0.708     -0.354      0.723      -1.638       1.137\n",
      "element_234            0.5674      0.642      0.884      0.377      -0.690       1.825\n",
      "element_235          -26.5497   1.57e+05     -0.000      1.000   -3.08e+05    3.08e+05\n",
      "element_236           -1.8807      1.155     -1.628      0.104      -4.145       0.384\n",
      "element_239           -0.8592      1.156     -0.743      0.457      -3.125       1.407\n",
      "element_240          -26.8973   4.96e+05  -5.43e-05      1.000   -9.72e+05    9.72e+05\n",
      "element_241          -26.4859   1.86e+05     -0.000      1.000   -3.65e+05    3.65e+05\n",
      "element_242          -26.5418   1.91e+05     -0.000      1.000   -3.75e+05    3.75e+05\n",
      "element_243           -1.5673      1.156     -1.356      0.175      -3.832       0.698\n",
      "element_245           -1.8265      1.156     -1.581      0.114      -4.091       0.438\n",
      "element_246           -1.0279      0.817     -1.258      0.209      -2.630       0.574\n",
      "element_247          -26.5328   1.26e+05     -0.000      1.000   -2.48e+05    2.48e+05\n",
      "element_249          -26.5211   1.36e+05     -0.000      1.000   -2.66e+05    2.66e+05\n",
      "element_250          -26.6480   1.93e+05     -0.000      1.000   -3.79e+05    3.79e+05\n",
      "element_251            0.7824      0.627      1.247      0.212      -0.447       2.012\n",
      "element_252           -1.3289      0.914     -1.455      0.146      -3.119       0.462\n",
      "element_253            0.7067      0.627      1.126      0.260      -0.523       1.936\n",
      "element_254           -0.5137      0.765     -0.672      0.502      -2.012       0.985\n",
      "element_255           -1.8290      1.156     -1.583      0.113      -4.094       0.436\n",
      "element_256          -26.5866   1.51e+05     -0.000      1.000   -2.97e+05    2.97e+05\n",
      "element_257            0.3935      0.647      0.609      0.543      -0.874       1.661\n",
      "element_258            0.3653      0.692      0.528      0.598      -0.991       1.722\n",
      "element_259          -26.4543   2.82e+05  -9.39e-05      1.000   -5.52e+05    5.52e+05\n",
      "element_262          -26.4896   1.54e+05     -0.000      1.000   -3.02e+05    3.02e+05\n",
      "element_263          -26.5567      2e+05     -0.000      1.000   -3.92e+05    3.92e+05\n",
      "element_264          -26.6427   1.73e+05     -0.000      1.000    -3.4e+05     3.4e+05\n",
      "element_265           -1.9214      1.155     -1.663      0.096      -4.186       0.343\n",
      "element_266           -0.8712      1.156     -0.754      0.451      -3.136       1.394\n",
      "element_267          -26.4860   2.29e+05     -0.000      1.000   -4.48e+05    4.48e+05\n",
      "element_268           -1.3380      0.914     -1.464      0.143      -3.129       0.453\n",
      "element_269          -26.6495   2.09e+05     -0.000      1.000    -4.1e+05     4.1e+05\n",
      "element_270            0.7517      0.633      1.187      0.235      -0.490       1.993\n",
      "element_271           -0.1583      0.708     -0.224      0.823      -1.546       1.229\n",
      "element_272           -1.9629      1.155     -1.699      0.089      -4.227       0.301\n",
      "element_273           -0.7597      0.914     -0.831      0.406      -2.552       1.032\n",
      "element_274           -0.2755      0.732     -0.377      0.706      -1.709       1.158\n",
      "element_275            0.2557      0.668      0.383      0.702      -1.053       1.565\n",
      "element_276           -0.2671      0.708     -0.377      0.706      -1.655       1.120\n",
      "element_277          -26.7365    2.1e+05     -0.000      1.000   -4.11e+05    4.11e+05\n",
      "element_279          -26.7265   2.32e+05     -0.000      1.000   -4.55e+05    4.55e+05\n",
      "element_280            0.9868      0.622      1.586      0.113      -0.233       2.206\n",
      "element_281           -0.1012      0.708     -0.143      0.886      -1.489       1.287\n",
      "element_284           -1.5997      1.156     -1.384      0.166      -3.865       0.665\n",
      "element_285          -26.6571   1.85e+05     -0.000      1.000   -3.62e+05    3.62e+05\n",
      "element_286           -1.8751      1.155     -1.623      0.105      -4.140       0.389\n",
      "element_287          -26.8001   3.99e+05  -6.71e-05      1.000   -7.82e+05    7.82e+05\n",
      "element_288          -26.4580   3.13e+05  -8.46e-05      1.000   -6.13e+05    6.13e+05\n",
      "element_289          -26.4751   3.08e+05  -8.59e-05      1.000   -6.04e+05    6.04e+05\n",
      "element_291          -26.5300   2.09e+05     -0.000      1.000   -4.09e+05    4.09e+05\n",
      "element_292           -1.8377      1.156     -1.590      0.112      -4.102       0.427\n",
      "element_293           -1.1483      0.914     -1.257      0.209      -2.939       0.642\n",
      "element_294          -26.5434   1.98e+05     -0.000      1.000   -3.88e+05    3.88e+05\n",
      "element_295           -1.4279      1.156     -1.235      0.217      -3.693       0.838\n",
      "element_296           -1.8825      1.155     -1.629      0.103      -4.147       0.382\n",
      "element_297           -0.9087      0.914     -0.994      0.320      -2.700       0.883\n",
      "element_298          -26.4503   1.85e+05     -0.000      1.000   -3.63e+05    3.63e+05\n",
      "element_299           -0.9351      0.914     -1.024      0.306      -2.726       0.855\n",
      "element_300           -0.4209      0.765     -0.550      0.582      -1.920       1.078\n",
      "element_301            0.6066      0.660      0.919      0.358      -0.687       1.900\n",
      "element_302            0.3872      0.653      0.593      0.553      -0.892       1.666\n",
      "element_303           -1.1187      1.156     -0.968      0.333      -3.383       1.146\n",
      "element_304           -1.3341      1.155     -1.155      0.248      -3.599       0.930\n",
      "element_305            0.3641      0.659      0.552      0.581      -0.928       1.657\n",
      "element_306            0.5576      0.647      0.862      0.389      -0.710       1.825\n",
      "element_310           -1.9406      1.155     -1.680      0.093      -4.205       0.324\n",
      "element_311            0.0796      0.818      0.097      0.922      -1.524       1.683\n",
      "element_312          -26.5016   1.33e+05     -0.000      1.000    -2.6e+05     2.6e+05\n",
      "element_313          -26.5485   1.54e+05     -0.000      1.000   -3.03e+05    3.03e+05\n",
      "element_314          -26.5234   2.07e+05     -0.000      1.000   -4.06e+05    4.06e+05\n",
      "element_315          -26.6013   1.84e+05     -0.000      1.000   -3.61e+05    3.61e+05\n",
      "element_317           -1.3757      0.914     -1.506      0.132      -3.166       0.415\n",
      "element_318          -26.5736   1.94e+05     -0.000      1.000   -3.81e+05    3.81e+05\n",
      "element_319          -26.5359   1.36e+05     -0.000      1.000   -2.66e+05    2.66e+05\n",
      "element_320          -26.5173   1.47e+05     -0.000      1.000   -2.88e+05    2.88e+05\n",
      "element_321          -26.3209    2.3e+05     -0.000      1.000    -4.5e+05     4.5e+05\n",
      "element_323           -1.5976      1.156     -1.382      0.167      -3.863       0.668\n",
      "element_324          -26.5724   1.91e+05     -0.000      1.000   -3.75e+05    3.75e+05\n",
      "element_326           -0.3041      0.708     -0.429      0.668      -1.692       1.084\n",
      "element_327           -0.7082      0.914     -0.775      0.439      -2.500       1.084\n",
      "element_330           -1.4689      1.156     -1.271      0.204      -3.734       0.796\n",
      "element_331          -26.5653   1.91e+05     -0.000      1.000   -3.75e+05    3.75e+05\n",
      "element_332           -1.4493      1.156     -1.254      0.210      -3.714       0.816\n",
      "element_333           -1.5069      1.156     -1.304      0.192      -3.773       0.759\n",
      "element_335          -26.5249   1.62e+05     -0.000      1.000   -3.18e+05    3.18e+05\n",
      "element_336          -26.4780   1.91e+05     -0.000      1.000   -3.74e+05    3.74e+05\n",
      "element_337          -26.4832   4.02e+05  -6.59e-05      1.000   -7.88e+05    7.88e+05\n",
      "element_338            0.2339      0.709      0.330      0.741      -1.156       1.623\n",
      "element_339           -1.8144      1.156     -1.570      0.116      -4.080       0.451\n",
      "element_340           -0.4126      0.765     -0.539      0.590      -1.912       1.087\n",
      "element_342          -26.4165   4.97e+05  -5.31e-05      1.000   -9.75e+05    9.75e+05\n",
      "element_343           -0.9695      0.818     -1.186      0.236      -2.572       0.633\n",
      "element_344          -26.5102   1.63e+05     -0.000      1.000   -3.19e+05    3.19e+05\n",
      "element_345           -0.6735      0.818     -0.824      0.410      -2.276       0.929\n",
      "element_346          -26.5363   1.78e+05     -0.000      1.000   -3.49e+05    3.49e+05\n",
      "element_347           -1.5529      1.156     -1.344      0.179      -3.818       0.712\n",
      "element_348           -1.0485      0.914     -1.147      0.251      -2.840       0.743\n",
      "element_349           -1.1670      1.156     -1.010      0.313      -3.432       1.098\n",
      "element_353          -26.5466   1.28e+05     -0.000      1.000   -2.51e+05    2.51e+05\n",
      "element_354          -26.5721   1.51e+05     -0.000      1.000   -2.95e+05    2.95e+05\n",
      "element_355           -1.5697      1.156     -1.358      0.174      -3.835       0.695\n",
      "element_356          -26.4820    1.5e+05     -0.000      1.000   -2.95e+05    2.95e+05\n",
      "element_357           -1.8662      1.155     -1.615      0.106      -4.131       0.398\n",
      "element_358          -26.6205    3.5e+05   -7.6e-05      1.000   -6.87e+05    6.87e+05\n",
      "element_359           -1.5857      1.156     -1.372      0.170      -3.851       0.679\n",
      "element_360          -26.4631   2.48e+05     -0.000      1.000   -4.85e+05    4.85e+05\n",
      "element_361           -0.7296      0.913     -0.799      0.424      -2.520       1.061\n",
      "element_362          -26.4280   2.18e+05     -0.000      1.000   -4.27e+05    4.27e+05\n",
      "element_363           -0.1708      0.765     -0.223      0.823      -1.671       1.329\n",
      "element_364           -0.1912      0.708     -0.270      0.787      -1.579       1.197\n",
      "element_365           -0.0046      0.731     -0.006      0.995      -1.438       1.429\n",
      "element_366          -26.5816   2.62e+05     -0.000      1.000   -5.13e+05    5.13e+05\n",
      "element_367            0.6046      0.647      0.934      0.350      -0.664       1.873\n",
      "element_368           -1.9145      1.155     -1.657      0.098      -4.179       0.350\n",
      "element_369          -26.5268   1.36e+05     -0.000      1.000   -2.67e+05    2.67e+05\n",
      "element_370            0.0755      0.691      0.109      0.913      -1.279       1.430\n",
      "element_371           -1.4001      1.156     -1.211      0.226      -3.665       0.865\n",
      "element_372            0.8858      0.627      1.412      0.158      -0.344       2.116\n",
      "element_376           -0.9185      0.817     -1.124      0.261      -2.520       0.684\n",
      "element_377          -26.1945   7.04e+05  -3.72e-05      1.000   -1.38e+06    1.38e+06\n",
      "element_378           -0.8006      0.818     -0.979      0.327      -2.403       0.802\n",
      "element_379          -26.4100   3.91e+05  -6.76e-05      1.000   -7.66e+05    7.66e+05\n",
      "element_380          -26.5792   1.67e+05     -0.000      1.000   -3.28e+05    3.28e+05\n",
      "element_381          -26.5190   1.72e+05     -0.000      1.000   -3.37e+05    3.37e+05\n",
      "element_382          -26.5059   1.47e+05     -0.000      1.000   -2.88e+05    2.88e+05\n",
      "element_383           -1.7945      1.155     -1.553      0.120      -4.059       0.470\n",
      "element_385          -26.3130   7.04e+05  -3.74e-05      1.000   -1.38e+06    1.38e+06\n",
      "element_386          -26.3462   2.17e+05     -0.000      1.000   -4.25e+05    4.25e+05\n",
      "element_387          -26.3581   2.65e+05  -9.94e-05      1.000    -5.2e+05    5.19e+05\n",
      "element_388           -1.1010      1.156     -0.952      0.341      -3.367       1.165\n",
      "element_389           -1.9619      1.155     -1.698      0.089      -4.226       0.303\n",
      "element_390           -0.3816      0.731     -0.522      0.602      -1.815       1.052\n",
      "element_391           -0.2240      0.708     -0.316      0.752      -1.612       1.164\n",
      "element_392           -1.1816      0.914     -1.293      0.196      -2.972       0.609\n",
      "element_393            0.4821      0.646      0.746      0.456      -0.785       1.749\n",
      "element_394            0.1216      0.691      0.176      0.860      -1.233       1.476\n",
      "element_395           -0.1366      0.731     -0.187      0.852      -1.570       1.297\n",
      "element_396            0.2035      0.668      0.305      0.761      -1.105       1.512\n",
      "element_397          -26.7025   4.87e+05  -5.48e-05      1.000   -9.55e+05    9.55e+05\n",
      "element_402          -26.5814   1.59e+05     -0.000      1.000   -3.12e+05    3.12e+05\n",
      "element_403           -1.6950      1.156     -1.467      0.142      -3.960       0.570\n",
      "element_405          -26.5691   1.44e+05     -0.000      1.000   -2.83e+05    2.83e+05\n",
      "element_406           -1.3250      0.914     -1.450      0.147      -3.116       0.466\n",
      "element_408          -26.4008   2.15e+05     -0.000      1.000   -4.21e+05    4.21e+05\n",
      "element_409           -2.0608      1.155     -1.784      0.074      -4.325       0.204\n",
      "element_410          -26.4514   1.63e+05     -0.000      1.000   -3.19e+05    3.19e+05\n",
      "element_411           -0.7964      0.817     -0.974      0.330      -2.399       0.806\n",
      "element_412          -26.5411   1.36e+05     -0.000      1.000   -2.66e+05    2.66e+05\n",
      "element_413          -26.4662   1.55e+05     -0.000      1.000   -3.04e+05    3.04e+05\n",
      "element_414          -26.6650   2.79e+05  -9.56e-05      1.000   -5.47e+05    5.47e+05\n",
      "element_415           -0.5897      0.765     -0.771      0.441      -2.089       0.909\n",
      "element_417            0.1270      0.692      0.184      0.854      -1.229       1.483\n",
      "element_418          -26.5446   1.99e+05     -0.000      1.000    -3.9e+05     3.9e+05\n",
      "element_419            0.1289      0.692      0.186      0.852      -1.227       1.485\n",
      "element_423           -0.9334      0.817     -1.142      0.253      -2.535       0.669\n",
      "element_425           -1.0092      0.817     -1.235      0.217      -2.611       0.593\n",
      "element_426           -0.8368      0.914     -0.915      0.360      -2.628       0.955\n",
      "element_427           -2.0048      1.155     -1.735      0.083      -4.269       0.260\n",
      "element_430          -26.5369   1.22e+05     -0.000      1.000    -2.4e+05     2.4e+05\n",
      "element_431          -26.5990   1.85e+05     -0.000      1.000   -3.62e+05    3.62e+05\n",
      "element_432           -0.0142      0.691     -0.021      0.984      -1.369       1.341\n",
      "element_433           -0.8796      0.817     -1.076      0.282      -2.482       0.723\n",
      "element_434           -0.6574      0.817     -0.804      0.421      -2.259       0.945\n",
      "element_435           -1.8360      1.155     -1.589      0.112      -4.101       0.429\n",
      "element_437            0.3771      0.647      0.583      0.560      -0.890       1.644\n",
      "element_438          -26.5852   2.64e+05     -0.000      1.000   -5.16e+05    5.16e+05\n",
      "element_440          -26.5778    1.8e+05     -0.000      1.000   -3.53e+05    3.53e+05\n",
      "element_441            0.1829      1.158      0.158      0.875      -2.087       2.452\n",
      "element_443          -26.9074   7.04e+05  -3.82e-05      1.000   -1.38e+06    1.38e+06\n",
      "element_444          -26.3568   3.04e+05  -8.66e-05      1.000   -5.96e+05    5.96e+05\n",
      "element_446           -1.4325      1.156     -1.239      0.215      -3.698       0.833\n",
      "element_447          -26.3360   3.08e+05  -8.56e-05      1.000   -6.03e+05    6.03e+05\n",
      "element_448          -26.5447    1.5e+05     -0.000      1.000   -2.95e+05    2.94e+05\n",
      "element_450           -1.3262      0.913     -1.452      0.146      -3.116       0.464\n",
      "element_451          -26.5420   1.35e+05     -0.000      1.000   -2.64e+05    2.64e+05\n",
      "element_453            0.0039      0.914      0.004      0.997      -1.788       1.796\n",
      "element_455          -26.5388   1.51e+05     -0.000      1.000   -2.96e+05    2.96e+05\n",
      "element_456           -2.0029      1.155     -1.733      0.083      -4.267       0.262\n",
      "element_458           -1.7756      1.155     -1.537      0.124      -4.040       0.489\n",
      "element_459           -1.4002      0.914     -1.533      0.125      -3.191       0.390\n",
      "element_460          -26.4244   1.44e+05     -0.000      1.000   -2.82e+05    2.82e+05\n",
      "element_461          -26.5462   1.45e+05     -0.000      1.000   -2.84e+05    2.84e+05\n",
      "element_462            0.0705      0.708      0.100      0.921      -1.318       1.459\n",
      "element_463          -26.5777   1.51e+05     -0.000      1.000   -2.95e+05    2.95e+05\n",
      "element_464           -1.4328      1.155     -1.240      0.215      -3.697       0.832\n",
      "element_465           -0.0049      0.678     -0.007      0.994      -1.334       1.324\n",
      "element_466          -26.5423   1.44e+05     -0.000      1.000   -2.82e+05    2.82e+05\n",
      "element_467          -26.5000   2.62e+05     -0.000      1.000   -5.14e+05    5.14e+05\n",
      "element_471          -26.3700   2.08e+05     -0.000      1.000   -4.07e+05    4.07e+05\n",
      "element_472           -0.7282      0.914     -0.797      0.426      -2.519       1.063\n",
      "element_473          -26.2391   2.09e+05     -0.000      1.000   -4.09e+05    4.09e+05\n",
      "element_475           -2.1078      1.155     -1.824      0.068      -4.372       0.157\n",
      "element_476          -26.4901   1.77e+05     -0.000      1.000   -3.46e+05    3.46e+05\n",
      "element_478            0.0182      0.708      0.026      0.980      -1.370       1.407\n",
      "element_479          -26.4874   1.85e+05     -0.000      1.000   -3.62e+05    3.62e+05\n",
      "element_480            0.2385      0.659      0.362      0.718      -1.054       1.531\n",
      "element_481           -1.0576      1.156     -0.915      0.360      -3.323       1.208\n",
      "element_482           -0.5336      0.818     -0.652      0.514      -2.136       1.069\n",
      "element_483           -1.8985      1.155     -1.643      0.100      -4.163       0.366\n",
      "element_484           -0.8915      0.817     -1.091      0.275      -2.494       0.710\n",
      "element_486           -1.8401      1.155     -1.593      0.111      -4.104       0.424\n",
      "element_487          -26.4704   1.91e+05     -0.000      1.000   -3.74e+05    3.74e+05\n",
      "element_488           -1.2155      1.156     -1.052      0.293      -3.481       1.050\n",
      "element_489           -1.3398      0.914     -1.466      0.143      -3.131       0.451\n",
      "element_491            1.3738      1.167      1.177      0.239      -0.914       3.662\n",
      "element_492           -1.6548      1.155     -1.432      0.152      -3.919       0.610\n",
      "element_493            0.2854      0.668      0.427      0.669      -1.023       1.594\n",
      "element_494           -1.7991      1.155     -1.557      0.119      -4.064       0.466\n",
      "element_495           -0.9727      1.156     -0.842      0.400      -3.238       1.293\n",
      "element_497          -26.9074   7.04e+05  -3.82e-05      1.000   -1.38e+06    1.38e+06\n",
      "element_499          -26.5305   1.31e+05     -0.000      1.000   -2.56e+05    2.56e+05\n",
      "element_500           -1.8309      1.155     -1.585      0.113      -4.096       0.434\n",
      "element_502           -0.5126      0.914     -0.561      0.575      -2.304       1.279\n",
      "element_503          -26.5416   1.47e+05     -0.000      1.000   -2.88e+05    2.88e+05\n",
      "element_504           -0.2801      0.731     -0.383      0.702      -1.713       1.153\n",
      "element_505           -1.4673      1.155     -1.270      0.204      -3.732       0.797\n",
      "element_506           -1.0863      1.156     -0.940      0.347      -3.352       1.180\n",
      "element_507           -1.9482      1.155     -1.686      0.092      -4.213       0.316\n",
      "element_508           -1.7537      1.155     -1.518      0.129      -4.018       0.511\n",
      "element_510          -26.4852   1.45e+05     -0.000      1.000   -2.84e+05    2.84e+05\n",
      "element_511          -26.4544   2.08e+05     -0.000      1.000   -4.08e+05    4.08e+05\n",
      "element_512          -26.3921   1.67e+05     -0.000      1.000   -3.28e+05    3.28e+05\n",
      "element_513           -1.6384      1.156     -1.418      0.156      -3.904       0.627\n",
      "element_514          -26.5741   1.67e+05     -0.000      1.000   -3.27e+05    3.27e+05\n",
      "element_515          -26.8809   3.13e+05  -8.58e-05      1.000   -6.14e+05    6.14e+05\n",
      "element_516          -26.4684   1.73e+05     -0.000      1.000    -3.4e+05     3.4e+05\n",
      "element_517           -0.8161      1.156     -0.706      0.480      -3.083       1.451\n",
      "element_518          -26.4764   3.12e+05   -8.5e-05      1.000   -6.11e+05    6.11e+05\n",
      "element_519           -1.1905      1.156     -1.030      0.303      -3.456       1.075\n",
      "element_521          -26.3299   4.06e+05  -6.48e-05      1.000   -7.96e+05    7.96e+05\n",
      "element_522           -0.4466      1.157     -0.386      0.699      -2.714       1.821\n",
      "element_523          -26.3170   7.04e+05  -3.74e-05      1.000   -1.38e+06    1.38e+06\n",
      "element_524           -1.8306      1.155     -1.585      0.113      -4.095       0.434\n",
      "element_526           -1.1964      0.914     -1.310      0.190      -2.987       0.594\n",
      "element_527          -26.5478    1.3e+05     -0.000      1.000   -2.55e+05    2.55e+05\n",
      "element_531           -0.7897      1.156     -0.683      0.495      -3.056       1.476\n",
      "element_534           -0.2523      0.817     -0.309      0.758      -1.854       1.350\n",
      "element_535           -1.0639      1.155     -0.921      0.357      -3.328       1.201\n",
      "element_539          -26.5871   1.79e+05     -0.000      1.000    -3.5e+05     3.5e+05\n",
      "element_540          -26.7320   2.85e+05  -9.39e-05      1.000   -5.58e+05    5.58e+05\n",
      "element_543           -0.2780      0.914     -0.304      0.761      -2.070       1.514\n",
      "element_544          -26.1383   4.95e+05  -5.28e-05      1.000   -9.71e+05    9.71e+05\n",
      "element_549           -0.5754      1.156     -0.498      0.619      -2.841       1.690\n",
      "element_550           -0.4256      1.156     -0.368      0.713      -2.692       1.841\n",
      "element_552          -26.5965   4.98e+05  -5.35e-05      1.000   -9.75e+05    9.75e+05\n",
      "element_556           -0.8249      0.914     -0.903      0.367      -2.616       0.967\n",
      "element_557          -26.6554   7.04e+05  -3.79e-05      1.000   -1.38e+06    1.38e+06\n",
      "element_560          -26.7437   7.04e+05   -3.8e-05      1.000   -1.38e+06    1.38e+06\n",
      "element_562          -26.5604   7.04e+05  -3.77e-05      1.000   -1.38e+06    1.38e+06\n",
      "element_563          -27.1548   7.04e+05  -3.86e-05      1.000   -1.38e+06    1.38e+06\n",
      "element_565          -26.0192   7.04e+05   -3.7e-05      1.000   -1.38e+06    1.38e+06\n",
      "element_566          -26.7443   7.04e+05   -3.8e-05      1.000   -1.38e+06    1.38e+06\n",
      "element_568          -26.9917   7.04e+05  -3.84e-05      1.000   -1.38e+06    1.38e+06\n",
      "element_569          -26.5746   3.08e+05  -8.64e-05      1.000   -6.03e+05    6.03e+05\n",
      "element_570          -26.6117   4.05e+05  -6.57e-05      1.000   -7.94e+05    7.94e+05\n",
      "element_571          -26.6329   2.19e+05     -0.000      1.000    -4.3e+05     4.3e+05\n",
      "element_573          -26.6386    4.9e+05  -5.44e-05      1.000    -9.6e+05     9.6e+05\n",
      "element_574          -26.5812   3.46e+05  -7.68e-05      1.000   -6.79e+05    6.79e+05\n",
      "element_575            0.2145      0.818      0.262      0.793      -1.388       1.817\n",
      "element_579            0.3626      0.818      0.443      0.658      -1.241       1.966\n",
      "element_580          -26.3374   2.45e+05     -0.000      1.000    -4.8e+05     4.8e+05\n",
      "element_581          -26.9501   4.96e+05  -5.43e-05      1.000   -9.73e+05    9.73e+05\n",
      "element_585            0.1607      0.915      0.176      0.861      -1.632       1.954\n",
      "element_586          -26.5217   3.44e+05  -7.71e-05      1.000   -6.74e+05    6.74e+05\n",
      "element_587          -26.6134   2.63e+05     -0.000      1.000   -5.15e+05    5.15e+05\n",
      "element_588          -26.0983   7.04e+05  -3.71e-05      1.000   -1.38e+06    1.38e+06\n",
      "element_589          -26.5436   2.82e+05  -9.41e-05      1.000   -5.53e+05    5.53e+05\n",
      "element_590          -26.4300   3.08e+05  -8.59e-05      1.000   -6.03e+05    6.03e+05\n",
      "element_591           -0.7321      1.156     -0.633      0.527      -2.998       1.534\n",
      "element_592           -0.1906      0.914     -0.209      0.835      -1.982       1.601\n",
      "element_593          -26.4706   3.51e+05  -7.54e-05      1.000   -6.88e+05    6.88e+05\n",
      "element_594          -26.5276   7.04e+05  -3.77e-05      1.000   -1.38e+06    1.38e+06\n",
      "element_599          -26.3130   7.04e+05  -3.74e-05      1.000   -1.38e+06    1.38e+06\n",
      "element_601          -26.4419   7.04e+05  -3.76e-05      1.000   -1.38e+06    1.38e+06\n",
      "element_602          -26.4080   7.04e+05  -3.75e-05      1.000   -1.38e+06    1.38e+06\n",
      "element_603          -26.7460   7.04e+05   -3.8e-05      1.000   -1.38e+06    1.38e+06\n",
      "element_605          -25.7718   7.04e+05  -3.66e-05      1.000   -1.38e+06    1.38e+06\n",
      "element_607          -26.7029   4.97e+05  -5.38e-05      1.000   -9.73e+05    9.73e+05\n",
      "element_608          -26.3130   7.04e+05  -3.74e-05      1.000   -1.38e+06    1.38e+06\n",
      "======================================================================================\n"
     ]
    }
   ],
   "source": [
    "print(sppm_results.summary())"
   ]
  },
  {
   "cell_type": "markdown",
   "metadata": {
    "heading_collapsed": true,
    "hidden": true
   },
   "source": [
    "### Model fit"
   ]
  },
  {
   "cell_type": "code",
   "execution_count": 121,
   "metadata": {
    "ExecuteTime": {
     "end_time": "2019-04-08T15:17:01.570296Z",
     "start_time": "2019-04-08T15:17:01.566099Z"
    },
    "hidden": true
   },
   "outputs": [
    {
     "data": {
      "text/plain": [
       "5440.939998106251"
      ]
     },
     "execution_count": 121,
     "metadata": {},
     "output_type": "execute_result"
    }
   ],
   "source": [
    "sppm_results.aic"
   ]
  },
  {
   "cell_type": "code",
   "execution_count": 122,
   "metadata": {
    "ExecuteTime": {
     "end_time": "2019-04-08T15:17:01.628715Z",
     "start_time": "2019-04-08T15:17:01.572245Z"
    },
    "hidden": true
   },
   "outputs": [
    {
     "data": {
      "text/plain": [
       "-66321.95306604827"
      ]
     },
     "execution_count": 122,
     "metadata": {},
     "output_type": "execute_result"
    }
   ],
   "source": [
    "sppm_results.bic"
   ]
  },
  {
   "cell_type": "code",
   "execution_count": 123,
   "metadata": {
    "ExecuteTime": {
     "end_time": "2019-04-08T15:17:01.662754Z",
     "start_time": "2019-04-08T15:17:01.630660Z"
    },
    "hidden": true
   },
   "outputs": [
    {
     "data": {
      "text/plain": [
       "(False, 1.0)"
      ]
     },
     "execution_count": 123,
     "metadata": {},
     "output_type": "execute_result"
    }
   ],
   "source": [
    "sppm_pearson_results = goodness_fit.pearson_chi_squared_test(sppm_results)\n",
    "sppm_pearson_results"
   ]
  },
  {
   "cell_type": "code",
   "execution_count": 124,
   "metadata": {
    "ExecuteTime": {
     "end_time": "2019-04-08T15:17:01.699256Z",
     "start_time": "2019-04-08T15:17:01.664720Z"
    },
    "hidden": true
   },
   "outputs": [
    {
     "name": "stderr",
     "output_type": "stream",
     "text": [
      "/home/tom/footbot/venv/lib/python3.6/site-packages/statsmodels/genmod/families/family.py:340: RuntimeWarning: invalid value encountered in sqrt\n",
      "  np.sqrt(2 * (endog * np.log(endog_mu) - (endog - mu))) / scale)\n"
     ]
    },
    {
     "data": {
      "text/plain": [
       "count    8160.000000\n",
       "mean       -0.156868\n",
       "std         0.572050\n",
       "min        -1.573389\n",
       "25%        -0.460430\n",
       "50%        -0.276559\n",
       "75%        -0.000001\n",
       "max         3.205020\n",
       "dtype: float64"
      ]
     },
     "execution_count": 124,
     "metadata": {},
     "output_type": "execute_result"
    }
   ],
   "source": [
    "sppm_results.resid_deviance.describe()"
   ]
  },
  {
   "cell_type": "code",
   "execution_count": 125,
   "metadata": {
    "ExecuteTime": {
     "end_time": "2019-04-08T15:17:01.944286Z",
     "start_time": "2019-04-08T15:17:01.701234Z"
    },
    "hidden": true
   },
   "outputs": [
    {
     "name": "stderr",
     "output_type": "stream",
     "text": [
      "/home/tom/footbot/venv/lib/python3.6/site-packages/numpy/lib/histograms.py:754: RuntimeWarning: invalid value encountered in greater_equal\n",
      "  keep = (tmp_a >= first_edge)\n",
      "/home/tom/footbot/venv/lib/python3.6/site-packages/numpy/lib/histograms.py:755: RuntimeWarning: invalid value encountered in less_equal\n",
      "  keep &= (tmp_a <= last_edge)\n"
     ]
    },
    {
     "data": {
      "image/png": "[encoded data removed]",
      "text/plain": [
       "<Figure size 432x288 with 1 Axes>"
      ]
     },
     "metadata": {
      "needs_background": "light"
     },
     "output_type": "display_data"
    }
   ],
   "source": [
    "plt.figure()\n",
    "plt.hist(sppm_results.resid_deviance)\n",
    "plt.show()"
   ]
  },
  {
   "cell_type": "markdown",
   "metadata": {
    "heading_collapsed": true,
    "hidden": true
   },
   "source": [
    "## Simple Poisson player minutes model"
   ]
  },
  {
   "cell_type": "markdown",
   "metadata": {
    "hidden": true
   },
   "source": [
    "### Preparing data"
   ]
  },
  {
   "cell_type": "code",
   "execution_count": 126,
   "metadata": {
    "ExecuteTime": {
     "end_time": "2019-04-08T15:17:01.951093Z",
     "start_time": "2019-04-08T15:17:01.946384Z"
    },
    "hidden": true
   },
   "outputs": [],
   "source": [
    "sppmm_df = element_gameweek_df.copy()"
   ]
  },
  {
   "cell_type": "code",
   "execution_count": 127,
   "metadata": {
    "ExecuteTime": {
     "end_time": "2019-04-08T15:17:02.035778Z",
     "start_time": "2019-04-08T15:17:01.953131Z"
    },
    "hidden": true
   },
   "outputs": [],
   "source": [
    "sppmm_df = player.add_categorical_variables(sppmm_df, 'opposition_team')\n",
    "sppmm_df = player.add_categorical_variables(sppmm_df, 'element')"
   ]
  },
  {
   "cell_type": "code",
   "execution_count": 128,
   "metadata": {
    "ExecuteTime": {
     "end_time": "2019-04-08T15:17:02.045173Z",
     "start_time": "2019-04-08T15:17:02.038119Z"
    },
    "hidden": true
   },
   "outputs": [],
   "source": [
    "sppmm_redundant_columns = [\n",
    "    'row_id', 'assists', 'attempted_passes', 'big_chances_created',\n",
    "    'big_chances_missed', 'bonus', 'bps', 'clean_sheets',\n",
    "    'clearances_blocks_interceptions', 'completed_passes', 'creativity',\n",
    "    'dribbles', 'ea_index', 'element', 'errors_leading_to_goal',\n",
    "    'errors_leading_to_goal_attempt', 'fixture', 'fouls', 'goals_conceded',\n",
    "    'ict_index', 'id', 'influence', 'key_passes', 'kickoff_time',\n",
    "    'kickoff_time_formatted', 'loaned_in', 'loaned_out', 'offside',\n",
    "    'open_play_crosses', 'opponent_team', 'own_goals', 'penalties_conceded',\n",
    "    'penalties_missed', 'penalties_saved', 'recoveries', 'red_cards', 'round',\n",
    "    'saves', 'selected', 'tackled', 'tackles', 'target_missed', 'team_a_score',\n",
    "    'team_h_score', 'threat', 'total_points', 'transfers_balance',\n",
    "    'transfers_in', 'transfers_out', 'value', 'winning_goals',\n",
    "    'yellow_cards', 'event', 'team_a', 'team_a_difficulty', 'team_h',\n",
    "    'team_h_difficulty', 'element_type', 'team', 'web_name', 'safe_web_name',\n",
    "    'own_team', 'opposition_team', 'minutes', 'element_fixture_rank',\n",
    "    'minutes_rolling', 'goals_scored_rolling', 'assists_rolling',\n",
    "    'goals_scored_per_minute_rolling', 'assists_per_minute_rolling', 'minutes_per_fixture_rolling'\n",
    "]"
   ]
  },
  {
   "cell_type": "code",
   "execution_count": 129,
   "metadata": {
    "ExecuteTime": {
     "end_time": "2019-04-08T15:17:02.079128Z",
     "start_time": "2019-04-08T15:17:02.047247Z"
    },
    "hidden": true
   },
   "outputs": [],
   "source": [
    "sppmm_df['log_minutes'] = np.log(sppmm_df['minutes'])"
   ]
  },
  {
   "cell_type": "code",
   "execution_count": 130,
   "metadata": {
    "ExecuteTime": {
     "end_time": "2019-04-08T15:17:02.112776Z",
     "start_time": "2019-04-08T15:17:02.081879Z"
    },
    "hidden": true
   },
   "outputs": [],
   "source": [
    "sppmm_df = player.remove_redundant_columns(sppmm_df, sppmm_redundant_columns)"
   ]
  },
  {
   "cell_type": "code",
   "execution_count": 131,
   "metadata": {
    "ExecuteTime": {
     "end_time": "2019-04-08T15:17:02.297690Z",
     "start_time": "2019-04-08T15:17:02.115095Z"
    },
    "hidden": true
   },
   "outputs": [],
   "source": [
    "sppmm_response_df, sppmm_explanatory_df = player.get_response_explanatory_dfs(sppmm_df, 'goals_scored')"
   ]
  },
  {
   "cell_type": "code",
   "execution_count": 132,
   "metadata": {
    "ExecuteTime": {
     "end_time": "2019-04-08T15:17:02.304963Z",
     "start_time": "2019-04-08T15:17:02.300038Z"
    },
    "hidden": true
   },
   "outputs": [
    {
     "data": {
      "text/plain": [
       "Index(['const', 'was_home', 'opposition_team_2', 'opposition_team_3',\n",
       "       'opposition_team_4', 'opposition_team_5', 'opposition_team_6',\n",
       "       'opposition_team_7', 'opposition_team_8', 'opposition_team_9',\n",
       "       ...\n",
       "       'element_593', 'element_594', 'element_599', 'element_601',\n",
       "       'element_602', 'element_603', 'element_605', 'element_607',\n",
       "       'element_608', 'log_minutes'],\n",
       "      dtype='object', length=480)"
      ]
     },
     "execution_count": 132,
     "metadata": {},
     "output_type": "execute_result"
    }
   ],
   "source": [
    "sppmm_explanatory_df.columns"
   ]
  },
  {
   "cell_type": "markdown",
   "metadata": {
    "heading_collapsed": true,
    "hidden": true
   },
   "source": [
    "### Fitting model"
   ]
  },
  {
   "cell_type": "code",
   "execution_count": 133,
   "metadata": {
    "ExecuteTime": {
     "end_time": "2019-04-08T15:17:17.822983Z",
     "start_time": "2019-04-08T15:17:02.306961Z"
    },
    "hidden": true
   },
   "outputs": [],
   "source": [
    "sppmm_results = sm.GLM(\n",
    "    sppmm_response_df,\n",
    "    sppmm_explanatory_df,\n",
    "    family=sm.families.Poisson(),\n",
    "    missing='drop'\n",
    ").fit()"
   ]
  },
  {
   "cell_type": "code",
   "execution_count": 134,
   "metadata": {
    "ExecuteTime": {
     "end_time": "2019-04-08T15:17:18.164117Z",
     "start_time": "2019-04-08T15:17:17.831768Z"
    },
    "hidden": true
   },
   "outputs": [
    {
     "name": "stdout",
     "output_type": "stream",
     "text": [
      "                 Generalized Linear Model Regression Results                  \n",
      "==============================================================================\n",
      "Dep. Variable:           goals_scored   No. Observations:                 8161\n",
      "Model:                            GLM   Df Residuals:                     7681\n",
      "Model Family:                 Poisson   Df Model:                          479\n",
      "Link Function:                    log   Scale:                             1.0\n",
      "Method:                          IRLS   Log-Likelihood:                -2190.2\n",
      "Date:                Mon, 08 Apr 2019   Deviance:                       2768.3\n",
      "Time:                        15:17:17   Pearson chi2:                 6.06e+03\n",
      "No. Iterations:                    25                                         \n",
      "======================================================================================\n",
      "                         coef    std err          z      P>|z|      [0.025      0.975]\n",
      "--------------------------------------------------------------------------------------\n",
      "const                 -4.7734      0.709     -6.736      0.000      -6.162      -3.385\n",
      "was_home               0.2219      0.069      3.219      0.001       0.087       0.357\n",
      "opposition_team_2      0.3338      0.214      1.558      0.119      -0.086       0.754\n",
      "opposition_team_3      0.1723      0.223      0.772      0.440      -0.265       0.610\n",
      "opposition_team_4      0.4252      0.214      1.989      0.047       0.006       0.844\n",
      "opposition_team_5      0.4474      0.211      2.119      0.034       0.033       0.861\n",
      "opposition_team_6     -0.1071      0.240     -0.447      0.655      -0.577       0.363\n",
      "opposition_team_7      0.0838      0.226      0.370      0.711      -0.360       0.527\n",
      "opposition_team_8      0.0011      0.232      0.005      0.996      -0.453       0.455\n",
      "opposition_team_9      0.5735      0.204      2.806      0.005       0.173       0.974\n",
      "opposition_team_10     0.4225      0.213      1.983      0.047       0.005       0.840\n",
      "opposition_team_11     0.1160      0.227      0.512      0.609      -0.328       0.560\n",
      "opposition_team_12    -0.7123      0.284     -2.505      0.012      -1.270      -0.155\n",
      "opposition_team_13    -0.5240      0.276     -1.901      0.057      -1.064       0.016\n",
      "opposition_team_14     0.0179      0.231      0.078      0.938      -0.434       0.470\n",
      "opposition_team_15     0.0181      0.229      0.079      0.937      -0.431       0.467\n",
      "opposition_team_16     0.1848      0.223      0.831      0.406      -0.251       0.621\n",
      "opposition_team_17    -0.2047      0.246     -0.833      0.405      -0.687       0.277\n",
      "opposition_team_18     0.1117      0.226      0.495      0.621      -0.331       0.554\n",
      "opposition_team_19     0.2042      0.223      0.917      0.359      -0.232       0.641\n",
      "opposition_team_20    -0.1074      0.238     -0.451      0.652      -0.574       0.359\n",
      "element_4            -26.4854   1.58e+05     -0.000      1.000    -3.1e+05     3.1e+05\n",
      "element_5             -1.5479      1.155     -1.340      0.180      -3.812       0.717\n",
      "element_6            -26.4793   2.19e+05     -0.000      1.000   -4.28e+05    4.28e+05\n",
      "element_7             -1.1630      0.914     -1.273      0.203      -2.954       0.628\n",
      "element_8            -26.5957   1.57e+05     -0.000      1.000   -3.08e+05    3.08e+05\n",
      "element_9             -1.1395      0.914     -1.247      0.212      -2.930       0.651\n",
      "element_10           -24.3640   7.04e+05  -3.46e-05      1.000   -1.38e+06    1.38e+06\n",
      "element_11           -26.2968   1.99e+05     -0.000      1.000    -3.9e+05     3.9e+05\n",
      "element_12           -26.5944    1.5e+05     -0.000      1.000   -2.94e+05    2.94e+05\n",
      "element_13            -0.0903      0.766     -0.118      0.906      -1.591       1.410\n",
      "element_14             0.0087      0.766      0.011      0.991      -1.492       1.510\n",
      "element_15            -0.6035      0.817     -0.738      0.460      -2.205       0.998\n",
      "element_16           -26.1264   3.02e+05  -8.65e-05      1.000   -5.92e+05    5.92e+05\n",
      "element_17            -0.5212      0.764     -0.682      0.495      -2.019       0.977\n",
      "element_18             0.4589      0.708      0.648      0.517      -0.928       1.846\n",
      "element_20            -0.8960      1.156     -0.775      0.438      -3.161       1.369\n",
      "element_21             0.3282      1.161      0.283      0.777      -1.947       2.604\n",
      "element_22             0.6303      0.642      0.982      0.326      -0.627       1.888\n",
      "element_23             0.8662      0.627      1.382      0.167      -0.363       2.095\n",
      "element_26           -26.3895   1.66e+05     -0.000      1.000   -3.25e+05    3.25e+05\n",
      "element_27            -1.9437      1.155     -1.682      0.093      -4.208       0.321\n",
      "element_28            -1.5612      1.156     -1.351      0.177      -3.826       0.704\n",
      "element_29            -1.6757      1.155     -1.450      0.147      -3.940       0.589\n",
      "element_30           -24.9900   2.94e+05  -8.51e-05      1.000   -5.75e+05    5.75e+05\n",
      "element_31            -1.0355      0.818     -1.267      0.205      -2.638       0.567\n",
      "element_32           -26.0377   7.04e+05   -3.7e-05      1.000   -1.38e+06    1.38e+06\n",
      "element_33           -26.4797   1.38e+05     -0.000      1.000    -2.7e+05     2.7e+05\n",
      "element_35           -26.2901   1.57e+05     -0.000      1.000   -3.07e+05    3.07e+05\n",
      "element_36            -1.1366      1.156     -0.983      0.326      -3.403       1.129\n",
      "element_37           -26.3099   1.48e+05     -0.000      1.000    -2.9e+05     2.9e+05\n",
      "element_38           -25.6222   1.59e+05     -0.000      1.000   -3.11e+05    3.11e+05\n",
      "element_39           -26.0195   1.74e+05     -0.000      1.000    -3.4e+05     3.4e+05\n",
      "element_40            -0.2781      0.708     -0.393      0.695      -1.666       1.110\n",
      "element_42            -0.0344      0.708     -0.049      0.961      -1.423       1.354\n",
      "element_43             0.5316      0.653      0.815      0.415      -0.747       1.811\n",
      "element_44            -0.0884      1.164     -0.076      0.939      -2.369       2.192\n",
      "element_45             0.4086      0.653      0.626      0.531      -0.871       1.688\n",
      "element_46           -24.5352   3.35e+05  -7.32e-05      1.000   -6.57e+05    6.57e+05\n",
      "element_48            -1.3862      0.914     -1.517      0.129      -3.177       0.404\n",
      "element_49            -0.4129      0.731     -0.565      0.572      -1.846       1.020\n",
      "element_50           -26.4785   2.29e+05     -0.000      1.000    -4.5e+05    4.49e+05\n",
      "element_51           -26.4472   1.49e+05     -0.000      1.000   -2.91e+05    2.91e+05\n",
      "element_54            -0.5832      1.156     -0.504      0.614      -2.849       1.683\n",
      "element_55            -0.9848      0.914     -1.078      0.281      -2.776       0.806\n",
      "element_56            -1.7914      1.155     -1.551      0.121      -4.056       0.473\n",
      "element_57            -0.7424      1.156     -0.642      0.521      -3.009       1.524\n",
      "element_58            -1.9216      1.155     -1.663      0.096      -4.186       0.343\n",
      "element_59            -0.8452      0.914     -0.925      0.355      -2.637       0.946\n",
      "element_60            -2.0069      1.155     -1.737      0.082      -4.271       0.257\n",
      "element_61           -26.1049   1.98e+05     -0.000      1.000   -3.88e+05    3.88e+05\n",
      "element_62             0.4903      0.652      0.751      0.452      -0.789       1.769\n",
      "element_65            -0.5281      0.915     -0.578      0.564      -2.321       1.264\n",
      "element_66             0.2027      0.820      0.247      0.805      -1.404       1.810\n",
      "element_69           -26.5223   1.75e+05     -0.000      1.000   -3.43e+05    3.43e+05\n",
      "element_70           -26.5926   1.22e+05     -0.000      1.000    -2.4e+05     2.4e+05\n",
      "element_71           -26.6362   4.05e+05  -6.58e-05      1.000   -7.93e+05    7.93e+05\n",
      "element_72            -0.9478      0.817     -1.160      0.246      -2.549       0.653\n",
      "element_73           -26.4762   2.86e+05  -9.27e-05      1.000    -5.6e+05     5.6e+05\n",
      "element_74           -26.4993    1.2e+05     -0.000      1.000   -2.36e+05    2.36e+05\n",
      "element_75           -26.5215   1.58e+05     -0.000      1.000   -3.11e+05    3.11e+05\n",
      "element_76            -0.5597      0.817     -0.685      0.493      -2.162       1.042\n",
      "element_77           -26.3138   2.83e+05  -9.29e-05      1.000   -5.55e+05    5.55e+05\n",
      "element_78            -1.6054      1.155     -1.389      0.165      -3.870       0.659\n",
      "element_79           -25.9049   1.82e+05     -0.000      1.000   -3.57e+05    3.57e+05\n",
      "element_80            -1.9809      1.155     -1.715      0.086      -4.245       0.283\n",
      "element_82            -2.1280      1.155     -1.842      0.065      -4.392       0.136\n",
      "element_83            -1.3598      1.155     -1.177      0.239      -3.624       0.904\n",
      "element_84            -0.0595      0.818     -0.073      0.942      -1.663       1.544\n",
      "element_85             0.4082      0.668      0.611      0.541      -0.901       1.717\n",
      "element_87             0.0388      0.691      0.056      0.955      -1.316       1.393\n",
      "element_90           -26.5738   1.31e+05     -0.000      1.000   -2.56e+05    2.56e+05\n",
      "element_91            -0.6530      0.765     -0.854      0.393      -2.152       0.846\n",
      "element_92           -26.5721   1.22e+05     -0.000      1.000   -2.39e+05    2.39e+05\n",
      "element_94           -26.5652   1.41e+05     -0.000      1.000   -2.76e+05    2.76e+05\n",
      "element_95           -26.2165   1.77e+05     -0.000      1.000   -3.46e+05    3.46e+05\n",
      "element_96           -25.6902   4.02e+05  -6.39e-05      1.000   -7.88e+05    7.88e+05\n",
      "element_98           -26.2594   1.32e+05     -0.000      1.000   -2.58e+05    2.58e+05\n",
      "element_99            -0.5569      0.818     -0.681      0.496      -2.159       1.046\n",
      "element_100           -0.6872      1.157     -0.594      0.552      -2.954       1.580\n",
      "element_101           -0.4837      0.765     -0.633      0.527      -1.982       1.015\n",
      "element_102           -1.7128      1.155     -1.483      0.138      -3.977       0.551\n",
      "element_104          -24.7151    4.9e+05  -5.05e-05      1.000    -9.6e+05     9.6e+05\n",
      "element_105           -0.1439      1.158     -0.124      0.901      -2.414       2.127\n",
      "element_106           -0.5623      0.817     -0.688      0.492      -2.164       1.040\n",
      "element_107           -0.6568      1.157     -0.568      0.570      -2.925       1.611\n",
      "element_109          -24.6076   2.93e+05  -8.39e-05      1.000   -5.75e+05    5.75e+05\n",
      "element_110            0.0319      0.765      0.042      0.967      -1.468       1.532\n",
      "element_113           -2.1876      1.155     -1.894      0.058      -4.452       0.077\n",
      "element_114          -25.5595   7.04e+05  -3.63e-05      1.000   -1.38e+06    1.38e+06\n",
      "element_115           -2.0321      1.155     -1.759      0.079      -4.297       0.232\n",
      "element_116           -1.4325      0.914     -1.568      0.117      -3.223       0.358\n",
      "element_117          -24.9532   4.95e+05  -5.04e-05      1.000    -9.7e+05     9.7e+05\n",
      "element_118           -2.1008      1.155     -1.818      0.069      -4.365       0.164\n",
      "element_119          -26.7994   3.48e+05   -7.7e-05      1.000   -6.82e+05    6.82e+05\n",
      "element_120          -25.4969   4.01e+05  -6.35e-05      1.000   -7.87e+05    7.87e+05\n",
      "element_121          -26.0540   2.35e+05     -0.000      1.000   -4.61e+05    4.61e+05\n",
      "element_122            0.6029      0.637      0.946      0.344      -0.646       1.852\n",
      "element_123          -25.6709   2.83e+05  -9.08e-05      1.000   -5.54e+05    5.54e+05\n",
      "element_124           -0.7232      0.817     -0.885      0.376      -2.325       0.879\n",
      "element_125            0.4384      0.679      0.646      0.518      -0.892       1.769\n",
      "element_126           -1.0498      0.817     -1.285      0.199      -2.651       0.552\n",
      "element_127           -0.3182      0.818     -0.389      0.697      -1.922       1.286\n",
      "element_131          -25.7032   2.53e+05     -0.000      1.000   -4.96e+05    4.96e+05\n",
      "element_132            0.7689      0.736      1.045      0.296      -0.673       2.211\n",
      "element_133           -0.4388      0.915     -0.479      0.632      -2.233       1.355\n",
      "element_134            0.4390      0.732      0.600      0.549      -0.995       1.873\n",
      "element_138           -2.0323      1.155     -1.759      0.079      -4.296       0.232\n",
      "element_139          -26.1289   2.67e+05  -9.77e-05      1.000   -5.24e+05    5.24e+05\n",
      "element_140          -26.5052    2.6e+05     -0.000      1.000   -5.09e+05    5.09e+05\n",
      "element_141           -0.2625      0.765     -0.343      0.731      -1.761       1.236\n",
      "element_142           -1.4819      0.913     -1.622      0.105      -3.272       0.308\n",
      "element_143          -26.5859   1.33e+05     -0.000      1.000    -2.6e+05     2.6e+05\n",
      "element_145          -26.6119   1.28e+05     -0.000      1.000   -2.51e+05    2.51e+05\n",
      "element_146          -25.4197   1.79e+05     -0.000      1.000    -3.5e+05     3.5e+05\n",
      "element_147           -1.3826      0.913     -1.514      0.130      -3.173       0.408\n",
      "element_148          -23.9503   7.04e+05   -3.4e-05      1.000   -1.38e+06    1.38e+06\n",
      "element_149           -0.7320      0.764     -0.958      0.338      -2.230       0.766\n",
      "element_150            0.1162      0.659      0.176      0.860      -1.176       1.408\n",
      "element_151            0.0621      0.678      0.092      0.927      -1.267       1.391\n",
      "element_152          -26.0296   1.87e+05     -0.000      1.000   -3.67e+05    3.67e+05\n",
      "element_153          -25.1970   1.99e+05     -0.000      1.000    -3.9e+05     3.9e+05\n",
      "element_156          -26.3623   2.83e+05  -9.33e-05      1.000   -5.54e+05    5.54e+05\n",
      "element_157           -1.8690      1.155     -1.618      0.106      -4.133       0.395\n",
      "element_158          -25.9662   3.73e+05  -6.96e-05      1.000   -7.31e+05    7.31e+05\n",
      "element_160          -26.6923   3.09e+05  -8.64e-05      1.000   -6.06e+05    6.06e+05\n",
      "element_161          -26.4852   2.17e+05     -0.000      1.000   -4.25e+05    4.25e+05\n",
      "element_162           -2.0470      1.155     -1.772      0.076      -4.311       0.217\n",
      "element_164           -0.7417      0.817     -0.907      0.364      -2.344       0.860\n",
      "element_167          -25.8888   1.99e+05     -0.000      1.000    -3.9e+05     3.9e+05\n",
      "element_168          -26.5528   1.33e+05     -0.000      1.000    -2.6e+05     2.6e+05\n",
      "element_169          -26.2211   1.66e+05     -0.000      1.000   -3.26e+05    3.26e+05\n",
      "element_170          -25.7827   1.67e+05     -0.000      1.000   -3.27e+05    3.27e+05\n",
      "element_172            0.3779      0.646      0.585      0.559      -0.889       1.645\n",
      "element_175            0.3010      0.709      0.425      0.671      -1.088       1.690\n",
      "element_176          -26.0652   1.78e+05     -0.000      1.000   -3.48e+05    3.48e+05\n",
      "element_177           -0.5662      0.915     -0.619      0.536      -2.359       1.227\n",
      "element_180          -26.4344   1.47e+05     -0.000      1.000   -2.88e+05    2.87e+05\n",
      "element_181          -26.5871   1.31e+05     -0.000      1.000   -2.57e+05    2.57e+05\n",
      "element_182          -26.3177   1.32e+05     -0.000      1.000   -2.58e+05    2.58e+05\n",
      "element_183          -26.0893   1.65e+05     -0.000      1.000   -3.24e+05    3.24e+05\n",
      "element_184           -1.0288      0.914     -1.126      0.260      -2.820       0.762\n",
      "element_185          -25.6656   1.89e+05     -0.000      1.000   -3.71e+05    3.71e+05\n",
      "element_186           -0.1105      1.159     -0.095      0.924      -2.382       2.161\n",
      "element_187          -25.1048    2.8e+05  -8.96e-05      1.000   -5.49e+05    5.49e+05\n",
      "element_189            0.2110      0.818      0.258      0.797      -1.393       1.815\n",
      "element_192           -2.1233      1.155     -1.838      0.066      -4.388       0.141\n",
      "element_193          -26.3643    1.4e+05     -0.000      1.000   -2.74e+05    2.74e+05\n",
      "element_194          -26.1925   2.18e+05     -0.000      1.000   -4.28e+05    4.28e+05\n",
      "element_195           -0.8649      0.818     -1.058      0.290      -2.467       0.738\n",
      "element_197          -26.4651   1.41e+05     -0.000      1.000   -2.76e+05    2.76e+05\n",
      "element_198           -1.9210      1.155     -1.663      0.096      -4.185       0.343\n",
      "element_199           -1.1138      0.914     -1.219      0.223      -2.905       0.677\n",
      "element_200          -26.6323   3.11e+05  -8.56e-05      1.000    -6.1e+05     6.1e+05\n",
      "element_201          -26.5623   1.44e+05     -0.000      1.000   -2.82e+05    2.82e+05\n",
      "element_202           -1.2711      0.914     -1.391      0.164      -3.062       0.520\n",
      "element_204          -25.1817   3.17e+05  -7.95e-05      1.000   -6.21e+05    6.21e+05\n",
      "element_205          -24.9246   4.85e+05  -5.14e-05      1.000    -9.5e+05     9.5e+05\n",
      "element_206           -1.7853      1.155     -1.545      0.122      -4.050       0.479\n",
      "element_207          -25.2775   3.32e+05  -7.61e-05      1.000   -6.51e+05    6.51e+05\n",
      "element_208           -1.0967      1.156     -0.949      0.343      -3.362       1.169\n",
      "element_209          -25.3765   4.95e+05  -5.13e-05      1.000    -9.7e+05    9.69e+05\n",
      "element_210          -25.8632   1.35e+05     -0.000      1.000   -2.66e+05    2.66e+05\n",
      "element_211           -1.0109      0.914     -1.106      0.269      -2.802       0.781\n",
      "element_212          -26.2180   1.64e+05     -0.000      1.000   -3.21e+05    3.21e+05\n",
      "element_215           -0.5680      0.817     -0.695      0.487      -2.170       1.034\n",
      "element_216          -26.4063   4.02e+05  -6.58e-05      1.000   -7.87e+05    7.87e+05\n",
      "element_217          -26.0704   2.96e+05  -8.81e-05      1.000    -5.8e+05     5.8e+05\n",
      "element_219          -26.6175   1.26e+05     -0.000      1.000   -2.47e+05    2.47e+05\n",
      "element_220           -0.7583      0.817     -0.928      0.353      -2.360       0.843\n",
      "element_221           -1.3569      0.914     -1.485      0.138      -3.148       0.434\n",
      "element_222           -1.6729      1.156     -1.448      0.148      -3.938       0.592\n",
      "element_223            0.3223      0.709      0.454      0.650      -1.068       1.713\n",
      "element_224           -0.7561      0.914     -0.827      0.408      -2.548       1.036\n",
      "element_225           -0.3983      0.765     -0.521      0.603      -1.897       1.101\n",
      "element_226          -26.3214   2.21e+05     -0.000      1.000   -4.34e+05    4.34e+05\n",
      "element_227           -1.4914      0.914     -1.633      0.103      -3.282       0.299\n",
      "element_228          -25.5980    2.3e+05     -0.000      1.000   -4.51e+05    4.51e+05\n",
      "element_230          -26.0472   2.97e+05  -8.77e-05      1.000   -5.82e+05    5.82e+05\n",
      "element_231          -25.7173   4.71e+05  -5.46e-05      1.000   -9.23e+05    9.22e+05\n",
      "element_232          -26.6114   7.04e+05  -3.78e-05      1.000   -1.38e+06    1.38e+06\n",
      "element_233           -0.2223      0.708     -0.314      0.753      -1.610       1.165\n",
      "element_234            0.5911      0.642      0.921      0.357      -0.667       1.849\n",
      "element_235          -24.8903   1.45e+05     -0.000      1.000   -2.85e+05    2.85e+05\n",
      "element_236           -1.2055      1.156     -1.043      0.297      -3.472       1.061\n",
      "element_239           -0.8449      1.156     -0.731      0.465      -3.111       1.422\n",
      "element_240          -26.8446   4.94e+05  -5.44e-05      1.000   -9.67e+05    9.67e+05\n",
      "element_241          -26.2097   1.76e+05     -0.000      1.000   -3.45e+05    3.45e+05\n",
      "element_242          -26.5034   1.91e+05     -0.000      1.000   -3.74e+05    3.74e+05\n",
      "element_243           -1.3959      1.156     -1.208      0.227      -3.661       0.869\n",
      "element_245           -1.8431      1.156     -1.595      0.111      -4.108       0.422\n",
      "element_246           -1.0941      0.817     -1.339      0.181      -2.696       0.508\n",
      "element_247          -26.6076   1.26e+05     -0.000      1.000   -2.48e+05    2.48e+05\n",
      "element_249          -26.1531   1.33e+05     -0.000      1.000   -2.62e+05    2.61e+05\n",
      "element_250          -25.8743   1.76e+05     -0.000      1.000   -3.45e+05    3.45e+05\n",
      "element_251            0.7547      0.627      1.203      0.229      -0.475       1.984\n",
      "element_252           -1.3144      0.914     -1.439      0.150      -3.105       0.476\n",
      "element_253            0.6700      0.627      1.068      0.285      -0.559       1.899\n",
      "element_254           -0.2953      0.765     -0.386      0.699      -1.794       1.204\n",
      "element_255           -1.7392      1.155     -1.505      0.132      -4.004       0.526\n",
      "element_256          -26.0227   1.41e+05     -0.000      1.000   -2.77e+05    2.77e+05\n",
      "element_257            0.4553      0.647      0.704      0.481      -0.812       1.722\n",
      "element_258            0.5091      0.692      0.736      0.462      -0.847       1.866\n",
      "element_259          -25.8940   2.74e+05  -9.44e-05      1.000   -5.38e+05    5.38e+05\n",
      "element_262          -26.4826   1.54e+05     -0.000      1.000   -3.02e+05    3.02e+05\n",
      "element_263          -26.1456   1.79e+05     -0.000      1.000   -3.51e+05    3.51e+05\n",
      "element_264          -26.5058   1.64e+05     -0.000      1.000   -3.21e+05     3.2e+05\n",
      "element_265           -1.9382      1.155     -1.678      0.093      -4.203       0.326\n",
      "element_266           -0.9438      1.156     -0.817      0.414      -3.209       1.321\n",
      "element_267          -26.5649   2.29e+05     -0.000      1.000   -4.49e+05    4.49e+05\n",
      "element_268           -1.3835      0.914     -1.514      0.130      -3.174       0.407\n",
      "element_269          -26.3821   2.05e+05     -0.000      1.000   -4.02e+05    4.02e+05\n",
      "element_270            0.7706      0.633      1.217      0.224      -0.471       2.012\n",
      "element_271           -0.0674      0.708     -0.095      0.924      -1.455       1.320\n",
      "element_272           -1.9714      1.155     -1.706      0.088      -4.236       0.293\n",
      "element_273           -0.4467      0.914     -0.488      0.625      -2.239       1.346\n",
      "element_274           -0.0906      0.732     -0.124      0.901      -1.525       1.343\n",
      "element_275            0.4488      0.668      0.672      0.502      -0.861       1.758\n",
      "element_276           -0.2353      0.708     -0.332      0.740      -1.623       1.152\n",
      "element_277          -25.2900   1.84e+05     -0.000      1.000   -3.61e+05    3.61e+05\n",
      "element_279          -26.6474   2.32e+05     -0.000      1.000   -4.55e+05    4.55e+05\n",
      "element_280            1.0794      0.622      1.735      0.083      -0.140       2.299\n",
      "element_281            0.4376      0.710      0.616      0.538      -0.954       1.829\n",
      "element_284           -1.6522      1.156     -1.430      0.153      -3.917       0.613\n",
      "element_285          -26.4175   1.73e+05     -0.000      1.000   -3.39e+05    3.39e+05\n",
      "element_286           -1.9524      1.155     -1.690      0.091      -4.217       0.312\n",
      "element_287          -26.1306   3.92e+05  -6.67e-05      1.000   -7.68e+05    7.68e+05\n",
      "element_288          -26.5440   3.13e+05  -8.49e-05      1.000   -6.13e+05    6.13e+05\n",
      "element_289          -26.0644   2.78e+05  -9.38e-05      1.000   -5.44e+05    5.44e+05\n",
      "element_291          -25.8419   1.87e+05     -0.000      1.000   -3.67e+05    3.67e+05\n",
      "element_292           -1.8918      1.156     -1.637      0.102      -4.157       0.373\n",
      "element_293           -1.1895      0.914     -1.302      0.193      -2.980       0.601\n",
      "element_294          -26.2889    1.9e+05     -0.000      1.000   -3.71e+05    3.71e+05\n",
      "element_295           -1.0001      1.157     -0.865      0.387      -3.267       1.267\n",
      "element_296           -1.9491      1.155     -1.687      0.092      -4.214       0.315\n",
      "element_297           -0.6969      0.914     -0.762      0.446      -2.489       1.095\n",
      "element_298          -25.9803   1.78e+05     -0.000      1.000   -3.49e+05    3.49e+05\n",
      "element_299           -0.7457      0.914     -0.816      0.414      -2.536       1.045\n",
      "element_300           -0.1497      0.765     -0.196      0.845      -1.650       1.350\n",
      "element_301            0.8033      0.660      1.217      0.224      -0.490       2.097\n",
      "element_302            0.3539      0.653      0.542      0.588      -0.925       1.633\n",
      "element_303           -0.6394      1.156     -0.553      0.580      -2.906       1.627\n",
      "element_304           -0.9867      1.156     -0.853      0.393      -3.253       1.279\n",
      "element_305            0.4908      0.660      0.744      0.457      -0.802       1.783\n",
      "element_306            0.7314      0.647      1.131      0.258      -0.537       1.999\n",
      "element_310           -1.9452      1.155     -1.684      0.092      -4.210       0.319\n",
      "element_311            0.1444      0.818      0.176      0.860      -1.460       1.748\n",
      "element_312          -26.5256   1.32e+05     -0.000      1.000   -2.59e+05    2.59e+05\n",
      "element_313          -26.3861    1.5e+05     -0.000      1.000   -2.93e+05    2.93e+05\n",
      "element_314          -26.6042   2.08e+05     -0.000      1.000   -4.07e+05    4.07e+05\n",
      "element_315          -25.9969   1.61e+05     -0.000      1.000   -3.16e+05    3.16e+05\n",
      "element_317           -1.3468      0.914     -1.474      0.140      -3.137       0.444\n",
      "element_318          -26.2028   1.86e+05     -0.000      1.000   -3.65e+05    3.65e+05\n",
      "element_319          -26.4540   1.33e+05     -0.000      1.000   -2.61e+05    2.61e+05\n",
      "element_320          -26.0952   1.42e+05     -0.000      1.000   -2.78e+05    2.78e+05\n",
      "element_321          -25.5709   2.17e+05     -0.000      1.000   -4.25e+05    4.25e+05\n",
      "element_323           -1.4344      1.156     -1.241      0.215      -3.699       0.831\n",
      "element_324          -26.4431   1.87e+05     -0.000      1.000   -3.66e+05    3.66e+05\n",
      "element_326           -0.2809      0.708     -0.397      0.692      -1.669       1.107\n",
      "element_327            0.0231      0.916      0.025      0.980      -1.773       1.819\n",
      "element_330           -1.5440      1.156     -1.336      0.181      -3.809       0.721\n",
      "element_331          -26.6325   1.92e+05     -0.000      1.000   -3.76e+05    3.76e+05\n",
      "element_332           -1.4571      1.156     -1.261      0.207      -3.722       0.808\n",
      "element_333           -1.3933      1.156     -1.205      0.228      -3.659       0.873\n",
      "element_335          -26.5502   1.61e+05     -0.000      1.000   -3.15e+05    3.15e+05\n",
      "element_336          -26.5613   1.91e+05     -0.000      1.000   -3.75e+05    3.75e+05\n",
      "element_337          -25.1464   3.62e+05  -6.95e-05      1.000   -7.09e+05    7.09e+05\n",
      "element_338            0.3709      0.709      0.523      0.601      -1.018       1.760\n",
      "element_339           -1.7344      1.156     -1.501      0.133      -4.000       0.531\n",
      "element_340           -0.4772      0.765     -0.624      0.533      -1.976       1.022\n",
      "element_342          -24.9554   4.18e+05  -5.96e-05      1.000    -8.2e+05     8.2e+05\n",
      "element_343           -1.0246      0.817     -1.253      0.210      -2.627       0.578\n",
      "element_344          -26.5005   1.62e+05     -0.000      1.000   -3.17e+05    3.17e+05\n",
      "element_345           -0.3441      0.818     -0.421      0.674      -1.947       1.259\n",
      "element_346          -25.9718   1.71e+05     -0.000      1.000   -3.36e+05    3.35e+05\n",
      "element_347           -1.0703      1.157     -0.925      0.355      -3.338       1.197\n",
      "element_348           -0.5699      0.915     -0.623      0.533      -2.363       1.223\n",
      "element_349           -0.5764      1.157     -0.498      0.618      -2.844       1.691\n",
      "element_353          -26.5896   1.28e+05     -0.000      1.000   -2.51e+05    2.51e+05\n",
      "element_354          -26.3427    1.4e+05     -0.000      1.000   -2.75e+05    2.75e+05\n",
      "element_355           -1.6132      1.156     -1.396      0.163      -3.878       0.652\n",
      "element_356          -26.2007   1.42e+05     -0.000      1.000   -2.79e+05    2.79e+05\n",
      "element_357           -1.8808      1.155     -1.628      0.104      -4.145       0.384\n",
      "element_358          -25.9533   3.09e+05   -8.4e-05      1.000   -6.05e+05    6.05e+05\n",
      "element_359           -1.6033      1.156     -1.387      0.165      -3.868       0.662\n",
      "element_360          -26.3178   2.43e+05     -0.000      1.000   -4.77e+05    4.77e+05\n",
      "element_361           -0.6386      0.913     -0.699      0.484      -2.429       1.152\n",
      "element_362          -25.9727   2.13e+05     -0.000      1.000   -4.18e+05    4.18e+05\n",
      "element_363            0.2756      0.766      0.360      0.719      -1.226       1.777\n",
      "element_364           -0.1401      0.708     -0.198      0.843      -1.528       1.248\n",
      "element_365            0.0841      0.732      0.115      0.909      -1.350       1.518\n",
      "element_366          -25.5248   2.39e+05     -0.000      1.000   -4.68e+05    4.68e+05\n",
      "element_367            0.7439      0.647      1.149      0.250      -0.525       2.013\n",
      "element_368           -1.6618      1.156     -1.438      0.150      -3.927       0.603\n",
      "element_369          -26.4411   1.33e+05     -0.000      1.000    -2.6e+05     2.6e+05\n",
      "element_370            0.2923      0.691      0.423      0.672      -1.062       1.647\n",
      "element_371           -0.5165      1.158     -0.446      0.656      -2.786       1.753\n",
      "element_372            0.8405      0.627      1.340      0.180      -0.389       2.070\n",
      "element_376           -0.9812      0.817     -1.200      0.230      -2.583       0.621\n",
      "element_377          -24.9013   7.04e+05  -3.54e-05      1.000   -1.38e+06    1.38e+06\n",
      "element_378           -0.8474      0.817     -1.037      0.300      -2.450       0.755\n",
      "element_379          -25.9911      4e+05  -6.49e-05      1.000   -7.85e+05    7.85e+05\n",
      "element_380          -26.4503   1.64e+05     -0.000      1.000   -3.21e+05    3.21e+05\n",
      "element_381          -26.5309   1.72e+05     -0.000      1.000   -3.38e+05    3.38e+05\n",
      "element_382          -26.2597   1.35e+05     -0.000      1.000   -2.65e+05    2.65e+05\n",
      "element_383           -1.6324      1.155     -1.413      0.158      -3.896       0.632\n",
      "element_385          -26.3485   7.04e+05  -3.74e-05      1.000   -1.38e+06    1.38e+06\n",
      "element_386          -26.0469   2.02e+05     -0.000      1.000   -3.97e+05    3.97e+05\n",
      "element_387          -25.2108   2.39e+05     -0.000      1.000   -4.68e+05    4.68e+05\n",
      "element_388           -0.3811      1.157     -0.329      0.742      -2.649       1.887\n",
      "element_389           -2.0307      1.155     -1.758      0.079      -4.295       0.234\n",
      "element_390           -0.4312      0.731     -0.590      0.555      -1.864       1.002\n",
      "element_391           -0.2452      0.708     -0.346      0.729      -1.633       1.143\n",
      "element_392           -1.1158      0.914     -1.221      0.222      -2.907       0.675\n",
      "element_393            0.5144      0.646      0.796      0.426      -0.753       1.782\n",
      "element_394            0.2581      0.691      0.373      0.709      -1.097       1.613\n",
      "element_395            0.3570      0.733      0.487      0.626      -1.079       1.793\n",
      "element_396            0.1893      0.668      0.283      0.777      -1.120       1.498\n",
      "element_397          -25.2193   4.93e+05  -5.12e-05      1.000   -9.66e+05    9.66e+05\n",
      "element_402          -26.5425   1.57e+05     -0.000      1.000   -3.07e+05    3.07e+05\n",
      "element_403           -1.6450      1.156     -1.424      0.155      -3.910       0.620\n",
      "element_405          -26.5327   1.42e+05     -0.000      1.000   -2.78e+05    2.78e+05\n",
      "element_406           -1.3951      0.914     -1.527      0.127      -3.186       0.396\n",
      "element_408          -26.2986   2.17e+05     -0.000      1.000   -4.24e+05    4.24e+05\n",
      "element_409           -2.1365      1.155     -1.849      0.064      -4.401       0.128\n",
      "element_410          -26.2240    1.5e+05     -0.000      1.000   -2.95e+05    2.95e+05\n",
      "element_411           -0.6957      0.818     -0.851      0.395      -2.298       0.907\n",
      "element_412          -26.2051   1.31e+05     -0.000      1.000   -2.57e+05    2.56e+05\n",
      "element_413          -25.9722    1.5e+05     -0.000      1.000   -2.93e+05    2.93e+05\n",
      "element_414          -26.4150   2.77e+05  -9.52e-05      1.000   -5.44e+05    5.44e+05\n",
      "element_415           -0.3298      0.765     -0.431      0.666      -1.829       1.170\n",
      "element_417            0.2861      0.692      0.413      0.679      -1.070       1.642\n",
      "element_418          -25.9181   1.97e+05     -0.000      1.000   -3.86e+05    3.86e+05\n",
      "element_419            0.4371      0.693      0.631      0.528      -0.920       1.794\n",
      "element_423           -1.0018      0.817     -1.226      0.220      -2.604       0.600\n",
      "element_425           -1.0071      0.817     -1.232      0.218      -2.609       0.595\n",
      "element_426           -0.5732      0.914     -0.627      0.531      -2.365       1.219\n",
      "element_427           -2.0828      1.155     -1.803      0.071      -4.347       0.181\n",
      "element_430          -26.6163   1.22e+05     -0.000      1.000    -2.4e+05     2.4e+05\n",
      "element_431          -25.9636   1.65e+05     -0.000      1.000   -3.24e+05    3.24e+05\n",
      "element_432            0.1458      0.692      0.211      0.833      -1.210       1.501\n",
      "element_433           -0.9212      0.817     -1.127      0.260      -2.523       0.681\n",
      "element_434            0.1406      0.821      0.171      0.864      -1.468       1.749\n",
      "element_435           -1.5282      1.156     -1.322      0.186      -3.793       0.737\n",
      "element_437            0.3772      0.646      0.583      0.560      -0.890       1.644\n",
      "element_438          -25.2930    2.5e+05     -0.000      1.000   -4.89e+05    4.89e+05\n",
      "element_440          -26.5345   1.76e+05     -0.000      1.000   -3.46e+05    3.46e+05\n",
      "element_441            0.2276      1.158      0.196      0.844      -2.043       2.498\n",
      "element_443          -23.7285   7.04e+05  -3.37e-05      1.000   -1.38e+06    1.38e+06\n",
      "element_444          -24.8060   2.67e+05  -9.28e-05      1.000   -5.24e+05    5.24e+05\n",
      "element_446           -0.9299      1.157     -0.804      0.421      -3.197       1.337\n",
      "element_447          -26.0777    2.9e+05  -8.98e-05      1.000   -5.69e+05    5.69e+05\n",
      "element_448          -25.5289   1.37e+05     -0.000      1.000   -2.69e+05    2.69e+05\n",
      "element_450           -1.2108      0.913     -1.326      0.185      -3.001       0.579\n",
      "element_451          -26.3560   1.31e+05     -0.000      1.000   -2.57e+05    2.57e+05\n",
      "element_453            0.3514      0.915      0.384      0.701      -1.442       2.145\n",
      "element_455          -26.5694   1.51e+05     -0.000      1.000   -2.97e+05    2.97e+05\n",
      "element_456           -1.9204      1.155     -1.662      0.096      -4.185       0.344\n",
      "element_458           -1.4641      1.155     -1.267      0.205      -3.729       0.800\n",
      "element_459           -1.4240      0.913     -1.559      0.119      -3.214       0.366\n",
      "element_460          -26.3060   1.41e+05     -0.000      1.000   -2.76e+05    2.76e+05\n",
      "element_461          -26.4171   1.43e+05     -0.000      1.000    -2.8e+05     2.8e+05\n",
      "element_462            0.4485      0.709      0.633      0.527      -0.941       1.838\n",
      "element_463          -26.6354   1.51e+05     -0.000      1.000   -2.96e+05    2.96e+05\n",
      "element_464           -1.4784      1.155     -1.280      0.201      -3.743       0.786\n",
      "element_465           -0.0345      0.678     -0.051      0.959      -1.364       1.295\n",
      "element_466          -26.2162    1.4e+05     -0.000      1.000   -2.75e+05    2.75e+05\n",
      "element_467          -26.5770   2.62e+05     -0.000      1.000   -5.14e+05    5.14e+05\n",
      "element_471          -25.8829   1.93e+05     -0.000      1.000   -3.79e+05    3.79e+05\n",
      "element_472            0.3953      0.918      0.431      0.667      -1.403       2.194\n",
      "element_473          -25.8054   1.98e+05     -0.000      1.000   -3.88e+05    3.88e+05\n",
      "element_475           -2.0751      1.155     -1.796      0.072      -4.339       0.189\n",
      "element_476          -26.0376    1.7e+05     -0.000      1.000   -3.34e+05    3.34e+05\n",
      "element_478            0.1318      0.708      0.186      0.852      -1.257       1.520\n",
      "element_479          -26.4377   1.82e+05     -0.000      1.000   -3.56e+05    3.56e+05\n",
      "element_480            0.1717      0.659      0.260      0.795      -1.121       1.464\n",
      "element_481           -0.4544      1.157     -0.393      0.695      -2.723       1.814\n",
      "element_482           -0.5446      0.818     -0.666      0.505      -2.147       1.058\n",
      "element_483           -1.9211      1.155     -1.663      0.096      -4.185       0.343\n",
      "element_484           -0.9039      0.817     -1.106      0.269      -2.506       0.698\n",
      "element_486           -1.4085      1.156     -1.219      0.223      -3.674       0.857\n",
      "element_487          -26.4259   1.92e+05     -0.000      1.000   -3.76e+05    3.76e+05\n",
      "element_488           -0.4766      1.157     -0.412      0.681      -2.745       1.792\n",
      "element_489           -1.1948      0.914     -1.307      0.191      -2.986       0.597\n",
      "element_491            1.5676      1.168      1.343      0.179      -0.721       3.856\n",
      "element_492           -1.0327      1.157     -0.893      0.372      -3.300       1.235\n",
      "element_493            0.2952      0.668      0.442      0.658      -1.014       1.604\n",
      "element_494           -1.8087      1.155     -1.565      0.117      -4.073       0.456\n",
      "element_495           -0.0769      1.158     -0.066      0.947      -2.346       2.192\n",
      "element_497          -24.7304   7.04e+05  -3.51e-05      1.000   -1.38e+06    1.38e+06\n",
      "element_499          -26.1236   1.26e+05     -0.000      1.000   -2.48e+05    2.48e+05\n",
      "element_500           -1.1626      1.157     -1.005      0.315      -3.431       1.105\n",
      "element_502            0.0853      0.917      0.093      0.926      -1.711       1.882\n",
      "element_503          -26.6177   1.47e+05     -0.000      1.000   -2.88e+05    2.88e+05\n",
      "element_504           -0.2789      0.731     -0.381      0.703      -1.712       1.154\n",
      "element_505           -1.2651      1.155     -1.095      0.274      -3.530       1.000\n",
      "element_506           -0.8381      1.157     -0.725      0.469      -3.105       1.429\n",
      "element_507           -1.6414      1.156     -1.420      0.155      -3.906       0.624\n",
      "element_508           -1.6776      1.155     -1.452      0.147      -3.942       0.587\n",
      "element_510          -26.4732   1.45e+05     -0.000      1.000   -2.83e+05    2.83e+05\n",
      "element_511          -26.2384   2.01e+05     -0.000      1.000   -3.94e+05    3.94e+05\n",
      "element_512          -26.1081   1.67e+05     -0.000      1.000   -3.28e+05    3.27e+05\n",
      "element_513           -1.2672      1.156     -1.096      0.273      -3.534       0.999\n",
      "element_514          -25.7737   1.59e+05     -0.000      1.000   -3.12e+05    3.12e+05\n",
      "element_515          -26.2862   2.78e+05  -9.46e-05      1.000   -5.45e+05    5.45e+05\n",
      "element_516          -26.4990   1.73e+05     -0.000      1.000   -3.39e+05    3.39e+05\n",
      "element_517           -0.2512      1.158     -0.217      0.828      -2.521       2.019\n",
      "element_518          -25.7595   2.93e+05  -8.79e-05      1.000   -5.75e+05    5.75e+05\n",
      "element_519           -1.1482      1.156     -0.994      0.320      -3.413       1.117\n",
      "element_521          -25.4608   3.93e+05  -6.48e-05      1.000   -7.71e+05    7.71e+05\n",
      "element_522           -0.2063      1.156     -0.178      0.858      -2.473       2.060\n",
      "element_523          -23.6740   7.04e+05  -3.36e-05      1.000   -1.38e+06    1.38e+06\n",
      "element_524           -1.1368      1.157     -0.983      0.326      -3.404       1.130\n",
      "element_526           -1.1560      0.914     -1.265      0.206      -2.947       0.635\n",
      "element_527          -26.3834   1.29e+05     -0.000      1.000   -2.52e+05    2.52e+05\n",
      "element_531           -0.7728      1.156     -0.668      0.504      -3.039       1.493\n",
      "element_534           -0.2045      0.817     -0.250      0.802      -1.807       1.397\n",
      "element_535           -0.2277      1.158     -0.197      0.844      -2.498       2.042\n",
      "element_539          -25.7663   1.69e+05     -0.000      1.000   -3.31e+05    3.31e+05\n",
      "element_540          -25.8088    2.6e+05  -9.91e-05      1.000   -5.11e+05     5.1e+05\n",
      "element_543            0.5840      0.918      0.636      0.525      -1.215       2.383\n",
      "element_544          -24.6022   4.69e+05  -5.25e-05      1.000   -9.19e+05    9.19e+05\n",
      "element_549           -0.6413      1.156     -0.555      0.579      -2.907       1.624\n",
      "element_550            0.6133      1.160      0.529      0.597      -1.661       2.888\n",
      "element_552          -23.9906   4.85e+05  -4.95e-05      1.000    -9.5e+05     9.5e+05\n",
      "element_556           -0.7406      0.914     -0.810      0.418      -2.532       1.051\n",
      "element_557          -23.4606   7.04e+05  -3.33e-05      1.000   -1.38e+06    1.38e+06\n",
      "element_560          -25.6278   7.04e+05  -3.64e-05      1.000   -1.38e+06    1.38e+06\n",
      "element_562          -23.3769   7.04e+05  -3.32e-05      1.000   -1.38e+06    1.38e+06\n",
      "element_563          -25.3567   7.04e+05   -3.6e-05      1.000   -1.38e+06    1.38e+06\n",
      "element_565          -26.1049   7.04e+05  -3.71e-05      1.000   -1.38e+06    1.38e+06\n",
      "element_566          -24.0784   7.04e+05  -3.42e-05      1.000   -1.38e+06    1.38e+06\n",
      "element_568          -25.3873   7.04e+05  -3.61e-05      1.000   -1.38e+06    1.38e+06\n",
      "element_569          -26.1739   3.08e+05  -8.49e-05      1.000   -6.04e+05    6.04e+05\n",
      "element_570          -25.8154   3.69e+05     -7e-05      1.000   -7.23e+05    7.23e+05\n",
      "element_571          -26.5878   2.18e+05     -0.000      1.000   -4.28e+05    4.28e+05\n",
      "element_573          -25.4560   4.87e+05  -5.22e-05      1.000   -9.55e+05    9.55e+05\n",
      "element_574          -24.6014   3.12e+05  -7.88e-05      1.000   -6.12e+05    6.12e+05\n",
      "element_575            0.2224      0.818      0.272      0.786      -1.380       1.825\n",
      "element_579            0.3561      0.818      0.435      0.663      -1.247       1.959\n",
      "element_580          -26.0115   2.19e+05     -0.000      1.000    -4.3e+05     4.3e+05\n",
      "element_581          -26.6574   4.92e+05  -5.42e-05      1.000   -9.65e+05    9.65e+05\n",
      "element_585            0.4722      0.915      0.516      0.606      -1.322       2.266\n",
      "element_586          -25.3538   3.45e+05  -7.35e-05      1.000   -6.76e+05    6.76e+05\n",
      "element_587          -26.5411   2.58e+05     -0.000      1.000   -5.05e+05    5.05e+05\n",
      "element_588          -23.9521   7.04e+05   -3.4e-05      1.000   -1.38e+06    1.38e+06\n",
      "element_589          -25.8542   2.63e+05  -9.83e-05      1.000   -5.16e+05    5.16e+05\n",
      "element_590          -25.1822   3.05e+05  -8.24e-05      1.000   -5.99e+05    5.99e+05\n",
      "element_591           -0.7161      1.156     -0.619      0.536      -2.982       1.549\n",
      "element_592            0.0657      0.914      0.072      0.943      -1.727       1.858\n",
      "element_593          -26.5575   3.51e+05  -7.57e-05      1.000   -6.88e+05    6.88e+05\n",
      "element_594          -26.1103   7.04e+05  -3.71e-05      1.000   -1.38e+06    1.38e+06\n",
      "element_599          -24.8191   7.04e+05  -3.53e-05      1.000   -1.38e+06    1.38e+06\n",
      "element_601          -26.0206   7.04e+05   -3.7e-05      1.000   -1.38e+06    1.38e+06\n",
      "element_602          -23.2387   7.04e+05   -3.3e-05      1.000   -1.38e+06    1.38e+06\n",
      "element_603          -23.5617   7.04e+05  -3.35e-05      1.000   -1.38e+06    1.38e+06\n",
      "element_605          -25.6137   7.04e+05  -3.64e-05      1.000   -1.38e+06    1.38e+06\n",
      "element_607          -25.9527   4.91e+05  -5.28e-05      1.000   -9.63e+05    9.63e+05\n",
      "element_608          -24.8191   7.04e+05  -3.53e-05      1.000   -1.38e+06    1.38e+06\n",
      "log_minutes            0.7227      0.084      8.574      0.000       0.558       0.888\n",
      "======================================================================================\n"
     ]
    }
   ],
   "source": [
    "print(sppmm_results.summary())"
   ]
  },
  {
   "cell_type": "markdown",
   "metadata": {
    "heading_collapsed": true,
    "hidden": true
   },
   "source": [
    "### Model fit"
   ]
  },
  {
   "cell_type": "code",
   "execution_count": 135,
   "metadata": {
    "ExecuteTime": {
     "end_time": "2019-04-08T15:17:18.170464Z",
     "start_time": "2019-04-08T15:17:18.166373Z"
    },
    "hidden": true
   },
   "outputs": [
    {
     "data": {
      "text/plain": [
       "5340.434027748107"
      ]
     },
     "execution_count": 135,
     "metadata": {},
     "output_type": "execute_result"
    }
   ],
   "source": [
    "sppmm_results.aic"
   ]
  },
  {
   "cell_type": "code",
   "execution_count": 136,
   "metadata": {
    "ExecuteTime": {
     "end_time": "2019-04-08T15:17:18.201586Z",
     "start_time": "2019-04-08T15:17:18.172444Z"
    },
    "hidden": true
   },
   "outputs": [
    {
     "data": {
      "text/plain": [
       "-66415.45191441693"
      ]
     },
     "execution_count": 136,
     "metadata": {},
     "output_type": "execute_result"
    }
   ],
   "source": [
    "sppmm_results.bic"
   ]
  },
  {
   "cell_type": "code",
   "execution_count": 137,
   "metadata": {
    "ExecuteTime": {
     "end_time": "2019-04-08T15:17:18.228244Z",
     "start_time": "2019-04-08T15:17:18.203554Z"
    },
    "hidden": true
   },
   "outputs": [
    {
     "data": {
      "text/plain": [
       "(False, 1.0)"
      ]
     },
     "execution_count": 137,
     "metadata": {},
     "output_type": "execute_result"
    }
   ],
   "source": [
    "sppmm_pearson_results = goodness_fit.pearson_chi_squared_test(sppmm_results)\n",
    "sppmm_pearson_results"
   ]
  },
  {
   "cell_type": "code",
   "execution_count": 138,
   "metadata": {
    "ExecuteTime": {
     "end_time": "2019-04-08T15:17:18.259200Z",
     "start_time": "2019-04-08T15:17:18.230457Z"
    },
    "hidden": true
   },
   "outputs": [
    {
     "data": {
      "text/plain": [
       "count    8160.000000\n",
       "mean       -0.152287\n",
       "std         0.562222\n",
       "min        -1.434722\n",
       "25%        -0.444309\n",
       "50%        -0.258004\n",
       "75%        -0.000001\n",
       "max         3.231651\n",
       "dtype: float64"
      ]
     },
     "execution_count": 138,
     "metadata": {},
     "output_type": "execute_result"
    }
   ],
   "source": [
    "sppmm_results.resid_deviance.describe()"
   ]
  },
  {
   "cell_type": "code",
   "execution_count": 139,
   "metadata": {
    "ExecuteTime": {
     "end_time": "2019-04-08T15:17:18.536757Z",
     "start_time": "2019-04-08T15:17:18.261865Z"
    },
    "hidden": true
   },
   "outputs": [
    {
     "data": {
      "image/png": "[encoded data removed]",
      "text/plain": [
       "<Figure size 432x288 with 1 Axes>"
      ]
     },
     "metadata": {
      "needs_background": "light"
     },
     "output_type": "display_data"
    }
   ],
   "source": [
    "plt.figure()\n",
    "plt.hist(sppmm_results.resid_deviance, bins=20)\n",
    "plt.show()"
   ]
  },
  {
   "cell_type": "markdown",
   "metadata": {
    "heading_collapsed": true,
    "hidden": true
   },
   "source": [
    "## Simple Poisson player exposure model"
   ]
  },
  {
   "cell_type": "markdown",
   "metadata": {
    "hidden": true
   },
   "source": [
    "### Preparing data"
   ]
  },
  {
   "cell_type": "code",
   "execution_count": 140,
   "metadata": {
    "ExecuteTime": {
     "end_time": "2019-04-08T15:17:18.544488Z",
     "start_time": "2019-04-08T15:17:18.538857Z"
    },
    "hidden": true
   },
   "outputs": [],
   "source": [
    "eppmm_df = element_gameweek_df.copy()"
   ]
  },
  {
   "cell_type": "code",
   "execution_count": 141,
   "metadata": {
    "ExecuteTime": {
     "end_time": "2019-04-08T15:17:18.622992Z",
     "start_time": "2019-04-08T15:17:18.546535Z"
    },
    "hidden": true
   },
   "outputs": [],
   "source": [
    "eppmm_df = player.add_categorical_variables(eppmm_df, 'opposition_team')\n",
    "eppmm_df = player.add_categorical_variables(eppmm_df, 'element')"
   ]
  },
  {
   "cell_type": "code",
   "execution_count": 142,
   "metadata": {
    "ExecuteTime": {
     "end_time": "2019-04-08T15:17:18.632754Z",
     "start_time": "2019-04-08T15:17:18.625728Z"
    },
    "hidden": true
   },
   "outputs": [],
   "source": [
    "eppmm_redundant_columns = [\n",
    "    'row_id', 'assists', 'attempted_passes', 'big_chances_created',\n",
    "    'big_chances_missed', 'bonus', 'bps', 'clean_sheets',\n",
    "    'clearances_blocks_interceptions', 'completed_passes', 'creativity',\n",
    "    'dribbles', 'ea_index', 'element', 'errors_leading_to_goal',\n",
    "    'errors_leading_to_goal_attempt', 'fixture', 'fouls', 'goals_conceded',\n",
    "    'ict_index', 'id', 'influence', 'key_passes', 'kickoff_time',\n",
    "    'kickoff_time_formatted', 'loaned_in', 'loaned_out', 'offside',\n",
    "    'open_play_crosses', 'opponent_team', 'own_goals', 'penalties_conceded',\n",
    "    'penalties_missed', 'penalties_saved', 'recoveries', 'red_cards', 'round',\n",
    "    'saves', 'selected', 'tackled', 'tackles', 'target_missed', 'team_a_score',\n",
    "    'team_h_score', 'threat', 'total_points', 'transfers_balance',\n",
    "    'transfers_in', 'transfers_out', 'value', 'winning_goals',\n",
    "    'yellow_cards', 'event', 'team_a', 'team_a_difficulty', 'team_h',\n",
    "    'team_h_difficulty', 'element_type', 'team', 'web_name', 'safe_web_name',\n",
    "    'own_team', 'opposition_team', 'minutes', 'element_fixture_rank',\n",
    "    'minutes_rolling', 'goals_scored_rolling', 'assists_rolling',\n",
    "    'goals_scored_per_minute_rolling', 'assists_per_minute_rolling', 'minutes_per_fixture_rolling'\n",
    "]"
   ]
  },
  {
   "cell_type": "code",
   "execution_count": 143,
   "metadata": {
    "ExecuteTime": {
     "end_time": "2019-04-08T15:17:18.659564Z",
     "start_time": "2019-04-08T15:17:18.634740Z"
    },
    "hidden": true
   },
   "outputs": [],
   "source": [
    "eppmm_exposure = eppmm_df['minutes']"
   ]
  },
  {
   "cell_type": "code",
   "execution_count": 144,
   "metadata": {
    "ExecuteTime": {
     "end_time": "2019-04-08T15:17:18.702375Z",
     "start_time": "2019-04-08T15:17:18.661740Z"
    },
    "hidden": true
   },
   "outputs": [],
   "source": [
    "eppmm_df = player.remove_redundant_columns(eppmm_df, eppmm_redundant_columns)"
   ]
  },
  {
   "cell_type": "code",
   "execution_count": 145,
   "metadata": {
    "ExecuteTime": {
     "end_time": "2019-04-08T15:17:18.886935Z",
     "start_time": "2019-04-08T15:17:18.704948Z"
    },
    "hidden": true
   },
   "outputs": [],
   "source": [
    "eppmm_response_df, eppmm_explanatory_df = player.get_response_explanatory_dfs(eppmm_df, 'goals_scored')"
   ]
  },
  {
   "cell_type": "code",
   "execution_count": 146,
   "metadata": {
    "ExecuteTime": {
     "end_time": "2019-04-08T15:17:18.897020Z",
     "start_time": "2019-04-08T15:17:18.889652Z"
    },
    "hidden": true
   },
   "outputs": [
    {
     "data": {
      "text/plain": [
       "Index(['const', 'was_home', 'opposition_team_2', 'opposition_team_3',\n",
       "       'opposition_team_4', 'opposition_team_5', 'opposition_team_6',\n",
       "       'opposition_team_7', 'opposition_team_8', 'opposition_team_9',\n",
       "       ...\n",
       "       'element_592', 'element_593', 'element_594', 'element_599',\n",
       "       'element_601', 'element_602', 'element_603', 'element_605',\n",
       "       'element_607', 'element_608'],\n",
       "      dtype='object', length=479)"
      ]
     },
     "execution_count": 146,
     "metadata": {},
     "output_type": "execute_result"
    }
   ],
   "source": [
    "eppmm_explanatory_df.columns"
   ]
  },
  {
   "cell_type": "markdown",
   "metadata": {
    "heading_collapsed": true,
    "hidden": true
   },
   "source": [
    "### Fitting model"
   ]
  },
  {
   "cell_type": "code",
   "execution_count": 147,
   "metadata": {
    "ExecuteTime": {
     "end_time": "2019-04-08T15:17:35.153769Z",
     "start_time": "2019-04-08T15:17:18.900752Z"
    },
    "hidden": true
   },
   "outputs": [],
   "source": [
    "eppmm_results = sm.GLM(\n",
    "    eppmm_response_df,\n",
    "    eppmm_explanatory_df,\n",
    "    family=sm.families.Poisson(),\n",
    "    missing='drop',\n",
    "    exposure=eppmm_exposure\n",
    ").fit()"
   ]
  },
  {
   "cell_type": "code",
   "execution_count": 148,
   "metadata": {
    "ExecuteTime": {
     "end_time": "2019-04-08T15:17:35.431135Z",
     "start_time": "2019-04-08T15:17:35.157584Z"
    },
    "hidden": true
   },
   "outputs": [
    {
     "name": "stdout",
     "output_type": "stream",
     "text": [
      "                 Generalized Linear Model Regression Results                  \n",
      "==============================================================================\n",
      "Dep. Variable:           goals_scored   No. Observations:                 8161\n",
      "Model:                            GLM   Df Residuals:                     7682\n",
      "Model Family:                 Poisson   Df Model:                          478\n",
      "Link Function:                    log   Scale:                             1.0\n",
      "Method:                          IRLS   Log-Likelihood:                -2195.1\n",
      "Date:                Mon, 08 Apr 2019   Deviance:                       2778.0\n",
      "Time:                        15:17:35   Pearson chi2:                 7.91e+03\n",
      "No. Iterations:                    25                                         \n",
      "======================================================================================\n",
      "                         coef    std err          z      P>|z|      [0.025      0.975]\n",
      "--------------------------------------------------------------------------------------\n",
      "const                 -5.9973      0.604     -9.936      0.000      -7.180      -4.814\n",
      "was_home               0.2175      0.069      3.152      0.002       0.082       0.353\n",
      "opposition_team_2      0.3401      0.215      1.585      0.113      -0.080       0.761\n",
      "opposition_team_3      0.1712      0.224      0.765      0.444      -0.267       0.610\n",
      "opposition_team_4      0.4212      0.214      1.967      0.049       0.001       0.841\n",
      "opposition_team_5      0.4393      0.212      2.077      0.038       0.025       0.854\n",
      "opposition_team_6     -0.1044      0.240     -0.435      0.664      -0.575       0.366\n",
      "opposition_team_7      0.0789      0.227      0.348      0.728      -0.365       0.523\n",
      "opposition_team_8      0.0028      0.232      0.012      0.990      -0.452       0.457\n",
      "opposition_team_9      0.5700      0.205      2.784      0.005       0.169       0.971\n",
      "opposition_team_10     0.4202      0.213      1.970      0.049       0.002       0.838\n",
      "opposition_team_11     0.1171      0.227      0.516      0.606      -0.328       0.562\n",
      "opposition_team_12    -0.7106      0.285     -2.497      0.013      -1.268      -0.153\n",
      "opposition_team_13    -0.5169      0.276     -1.874      0.061      -1.058       0.024\n",
      "opposition_team_14     0.0174      0.231      0.075      0.940      -0.436       0.471\n",
      "opposition_team_15     0.0195      0.229      0.085      0.932      -0.430       0.469\n",
      "opposition_team_16     0.1840      0.223      0.825      0.409      -0.253       0.621\n",
      "opposition_team_17    -0.2020      0.246     -0.821      0.412      -0.684       0.280\n",
      "opposition_team_18     0.1093      0.226      0.484      0.629      -0.334       0.552\n",
      "opposition_team_19     0.2031      0.223      0.911      0.363      -0.234       0.640\n",
      "opposition_team_20    -0.1053      0.239     -0.442      0.659      -0.573       0.362\n",
      "element_4            -26.4485   1.55e+05     -0.000      1.000   -3.04e+05    3.04e+05\n",
      "element_5             -1.5472      1.155     -1.339      0.181      -3.812       0.717\n",
      "element_6            -26.4471   2.15e+05     -0.000      1.000   -4.21e+05    4.21e+05\n",
      "element_7             -1.1630      0.914     -1.273      0.203      -2.954       0.628\n",
      "element_8            -26.5983   1.57e+05     -0.000      1.000   -3.07e+05    3.07e+05\n",
      "element_9             -1.1444      0.914     -1.252      0.210      -2.935       0.647\n",
      "element_10           -23.8120   7.04e+05  -3.38e-05      1.000   -1.38e+06    1.38e+06\n",
      "element_11           -26.2185      2e+05     -0.000      1.000   -3.92e+05    3.92e+05\n",
      "element_12           -26.6011   1.49e+05     -0.000      1.000   -2.93e+05    2.93e+05\n",
      "element_13            -0.0614      0.766     -0.080      0.936      -1.562       1.439\n",
      "element_14             0.1322      0.765      0.173      0.863      -1.367       1.631\n",
      "element_15            -0.5163      0.817     -0.632      0.527      -2.117       1.085\n",
      "element_16           -25.8127   2.86e+05  -9.02e-05      1.000   -5.61e+05    5.61e+05\n",
      "element_17            -0.5337      0.764     -0.698      0.485      -2.032       0.964\n",
      "element_18             0.5039      0.707      0.712      0.476      -0.883       1.890\n",
      "element_20            -0.8640      1.156     -0.748      0.455      -3.129       1.401\n",
      "element_21             0.6502      1.157      0.562      0.574      -1.617       2.917\n",
      "element_22             0.6642      0.642      1.035      0.301      -0.593       1.922\n",
      "element_23             0.8863      0.627      1.414      0.157      -0.342       2.115\n",
      "element_26           -26.2778   1.59e+05     -0.000      1.000   -3.11e+05    3.11e+05\n",
      "element_27            -1.9637      1.155     -1.700      0.089      -4.228       0.301\n",
      "element_28            -1.5639      1.156     -1.353      0.176      -3.829       0.701\n",
      "element_29            -1.6736      1.155     -1.448      0.147      -3.938       0.591\n",
      "element_30           -24.2195   2.22e+05     -0.000      1.000   -4.34e+05    4.34e+05\n",
      "element_31            -1.0553      0.817     -1.291      0.197      -2.658       0.547\n",
      "element_32           -26.0384   7.04e+05   -3.7e-05      1.000   -1.38e+06    1.38e+06\n",
      "element_33           -26.3798   1.31e+05     -0.000      1.000   -2.56e+05    2.56e+05\n",
      "element_35           -26.1343   1.44e+05     -0.000      1.000   -2.83e+05    2.82e+05\n",
      "element_36            -1.0279      1.156     -0.889      0.374      -3.293       1.237\n",
      "element_37           -26.1336   1.38e+05     -0.000      1.000    -2.7e+05    2.69e+05\n",
      "element_38           -25.1067   1.32e+05     -0.000      1.000   -2.59e+05    2.59e+05\n",
      "element_39           -25.5434    1.4e+05     -0.000      1.000   -2.74e+05    2.74e+05\n",
      "element_40            -0.2810      0.708     -0.397      0.692      -1.669       1.107\n",
      "element_42            -0.0059      0.708     -0.008      0.993      -1.394       1.382\n",
      "element_43             0.5272      0.653      0.808      0.419      -0.752       1.806\n",
      "element_44             0.2889      1.157      0.250      0.803      -1.979       2.557\n",
      "element_45             0.3981      0.653      0.610      0.542      -0.882       1.678\n",
      "element_46           -23.4672   2.76e+05  -8.49e-05      1.000   -5.42e+05    5.42e+05\n",
      "element_48            -1.4007      0.914     -1.533      0.125      -3.191       0.390\n",
      "element_49            -0.4284      0.731     -0.586      0.558      -1.862       1.005\n",
      "element_50           -26.4231   2.24e+05     -0.000      1.000   -4.38e+05    4.38e+05\n",
      "element_51           -26.3970   1.45e+05     -0.000      1.000   -2.83e+05    2.83e+05\n",
      "element_54            -0.5632      1.156     -0.487      0.626      -2.829       1.703\n",
      "element_55            -0.9333      0.913     -1.022      0.307      -2.724       0.857\n",
      "element_56            -1.7941      1.155     -1.553      0.120      -4.058       0.470\n",
      "element_57            -0.7156      1.156     -0.619      0.536      -2.982       1.551\n",
      "element_58            -1.8934      1.155     -1.639      0.101      -4.158       0.371\n",
      "element_59            -0.8162      0.914     -0.893      0.372      -2.607       0.975\n",
      "element_60            -2.0206      1.155     -1.749      0.080      -4.285       0.244\n",
      "element_61           -25.7759   1.74e+05     -0.000      1.000   -3.41e+05    3.41e+05\n",
      "element_62             0.5269      0.652      0.808      0.419      -0.752       1.806\n",
      "element_65            -0.4345      0.914     -0.475      0.635      -2.226       1.357\n",
      "element_66             0.3744      0.818      0.458      0.647      -1.229       1.978\n",
      "element_69           -26.4297   1.67e+05     -0.000      1.000   -3.27e+05    3.27e+05\n",
      "element_70           -26.6140   1.22e+05     -0.000      1.000    -2.4e+05     2.4e+05\n",
      "element_71           -26.6113   4.06e+05  -6.56e-05      1.000   -7.95e+05    7.95e+05\n",
      "element_72            -0.9633      0.817     -1.179      0.238      -2.565       0.638\n",
      "element_73           -26.4810   2.86e+05  -9.27e-05      1.000    -5.6e+05     5.6e+05\n",
      "element_74           -26.4416   1.16e+05     -0.000      1.000   -2.28e+05    2.28e+05\n",
      "element_75           -26.5331   1.58e+05     -0.000      1.000    -3.1e+05     3.1e+05\n",
      "element_76            -0.5296      0.817     -0.648      0.517      -2.132       1.072\n",
      "element_77           -26.2743   2.81e+05  -9.36e-05      1.000    -5.5e+05     5.5e+05\n",
      "element_78            -1.5637      1.155     -1.353      0.176      -3.828       0.701\n",
      "element_79           -25.5745   1.65e+05     -0.000      1.000   -3.23e+05    3.23e+05\n",
      "element_80            -1.9897      1.155     -1.723      0.085      -4.254       0.274\n",
      "element_82            -2.1472      1.155     -1.859      0.063      -4.411       0.117\n",
      "element_83            -1.3557      1.155     -1.174      0.241      -3.620       0.908\n",
      "element_84             0.0370      0.818      0.045      0.964      -1.565       1.639\n",
      "element_85             0.4591      0.668      0.688      0.492      -0.849       1.768\n",
      "element_87             0.0833      0.691      0.121      0.904      -1.271       1.438\n",
      "element_90           -26.5924   1.31e+05     -0.000      1.000   -2.56e+05    2.56e+05\n",
      "element_91            -0.6715      0.765     -0.878      0.380      -2.170       0.827\n",
      "element_92           -26.5857   1.22e+05     -0.000      1.000   -2.39e+05    2.39e+05\n",
      "element_94           -26.5768   1.41e+05     -0.000      1.000   -2.76e+05    2.76e+05\n",
      "element_95           -25.9801   1.57e+05     -0.000      1.000   -3.09e+05    3.09e+05\n",
      "element_96           -25.4029   4.03e+05   -6.3e-05      1.000   -7.91e+05     7.9e+05\n",
      "element_98           -26.0455    1.2e+05     -0.000      1.000   -2.35e+05    2.35e+05\n",
      "element_99            -0.5169      0.817     -0.632      0.527      -2.119       1.085\n",
      "element_100           -0.5386      1.156     -0.466      0.641      -2.804       1.727\n",
      "element_101           -0.4768      0.765     -0.624      0.533      -1.975       1.022\n",
      "element_102           -1.7211      1.155     -1.490      0.136      -3.985       0.543\n",
      "element_104          -24.0593   4.93e+05  -4.88e-05      1.000   -9.66e+05    9.65e+05\n",
      "element_105            0.0634      1.157      0.055      0.956      -2.203       2.330\n",
      "element_106           -0.5127      0.817     -0.627      0.530      -2.114       1.089\n",
      "element_107           -0.5219      1.156     -0.451      0.652      -2.788       1.745\n",
      "element_109          -23.6639   2.54e+05  -9.33e-05      1.000   -4.97e+05    4.97e+05\n",
      "element_110            0.0973      0.765      0.127      0.899      -1.402       1.597\n",
      "element_113           -2.2064      1.155     -1.910      0.056      -4.471       0.058\n",
      "element_114          -25.1787   7.04e+05  -3.58e-05      1.000   -1.38e+06    1.38e+06\n",
      "element_115           -2.0492      1.155     -1.774      0.076      -4.314       0.215\n",
      "element_116           -1.4531      0.914     -1.590      0.112      -3.244       0.338\n",
      "element_117          -24.4096   4.95e+05  -4.93e-05      1.000   -9.71e+05    9.71e+05\n",
      "element_118           -2.1198      1.155     -1.835      0.067      -4.384       0.145\n",
      "element_119          -26.8201   3.48e+05  -7.71e-05      1.000   -6.82e+05    6.82e+05\n",
      "element_120          -24.9116   3.93e+05  -6.33e-05      1.000   -7.71e+05    7.71e+05\n",
      "element_121          -25.6186   1.91e+05     -0.000      1.000   -3.74e+05    3.74e+05\n",
      "element_122            0.6112      0.637      0.959      0.337      -0.638       1.860\n",
      "element_123          -25.2101   2.57e+05  -9.81e-05      1.000   -5.04e+05    5.04e+05\n",
      "element_124           -0.6707      0.817     -0.821      0.412      -2.273       0.931\n",
      "element_125            0.5107      0.679      0.753      0.452      -0.819       1.841\n",
      "element_126           -1.0685      0.817     -1.308      0.191      -2.670       0.533\n",
      "element_127           -0.2220      0.818     -0.271      0.786      -1.825       1.381\n",
      "element_131          -25.2441   2.23e+05     -0.000      1.000   -4.37e+05    4.37e+05\n",
      "element_132            1.0018      0.732      1.369      0.171      -0.433       2.437\n",
      "element_133           -0.2803      0.914     -0.307      0.759      -2.071       1.511\n",
      "element_134            0.5065      0.732      0.692      0.489      -0.927       1.940\n",
      "element_138           -2.0506      1.155     -1.775      0.076      -4.315       0.213\n",
      "element_139          -25.5279   1.99e+05     -0.000      1.000    -3.9e+05     3.9e+05\n",
      "element_140          -26.4599   2.53e+05     -0.000      1.000   -4.96e+05    4.96e+05\n",
      "element_141           -0.2137      0.764     -0.280      0.780      -1.712       1.284\n",
      "element_142           -1.4988      0.913     -1.641      0.101      -3.289       0.291\n",
      "element_143          -26.6071   1.33e+05     -0.000      1.000    -2.6e+05     2.6e+05\n",
      "element_145          -26.6326   1.28e+05     -0.000      1.000   -2.51e+05    2.51e+05\n",
      "element_146          -24.5164   1.19e+05     -0.000      1.000   -2.33e+05    2.33e+05\n",
      "element_147           -1.3695      0.913     -1.499      0.134      -3.160       0.421\n",
      "element_148          -22.7185   7.04e+05  -3.23e-05      1.000   -1.38e+06    1.38e+06\n",
      "element_149           -0.7384      0.764     -0.966      0.334      -2.237       0.760\n",
      "element_150            0.0956      0.659      0.145      0.885      -1.196       1.387\n",
      "element_151            0.0434      0.678      0.064      0.949      -1.285       1.372\n",
      "element_152          -25.6061    1.6e+05     -0.000      1.000   -3.14e+05    3.14e+05\n",
      "element_153          -24.6082   1.87e+05     -0.000      1.000   -3.66e+05    3.66e+05\n",
      "element_156          -26.1793   2.66e+05  -9.85e-05      1.000   -5.21e+05    5.21e+05\n",
      "element_157           -1.8860      1.155     -1.633      0.103      -4.150       0.378\n",
      "element_158          -25.6515    3.3e+05  -7.76e-05      1.000   -6.48e+05    6.47e+05\n",
      "element_160          -26.6656   3.04e+05  -8.78e-05      1.000   -5.96e+05    5.96e+05\n",
      "element_161          -26.4234   2.11e+05     -0.000      1.000   -4.13e+05    4.13e+05\n",
      "element_162           -2.0680      1.155     -1.790      0.073      -4.332       0.196\n",
      "element_164           -0.6981      0.817     -0.854      0.393      -2.300       0.904\n",
      "element_167          -25.3229   1.56e+05     -0.000      1.000   -3.06e+05    3.06e+05\n",
      "element_168          -26.5424   1.31e+05     -0.000      1.000   -2.57e+05    2.57e+05\n",
      "element_169          -25.9124   1.43e+05     -0.000      1.000   -2.81e+05    2.81e+05\n",
      "element_170          -25.3671   1.49e+05     -0.000      1.000   -2.92e+05    2.92e+05\n",
      "element_172            0.3754      0.646      0.581      0.561      -0.891       1.642\n",
      "element_175            0.3867      0.708      0.546      0.585      -1.001       1.775\n",
      "element_176          -25.7301   1.56e+05     -0.000      1.000   -3.05e+05    3.05e+05\n",
      "element_177           -0.4491      0.914     -0.491      0.623      -2.241       1.342\n",
      "element_180          -26.3442   1.41e+05     -0.000      1.000   -2.76e+05    2.76e+05\n",
      "element_181          -26.5989   1.31e+05     -0.000      1.000   -2.56e+05    2.56e+05\n",
      "element_182          -26.2013   1.27e+05     -0.000      1.000   -2.48e+05    2.48e+05\n",
      "element_183          -25.6965    1.4e+05     -0.000      1.000   -2.74e+05    2.73e+05\n",
      "element_184           -0.9853      0.914     -1.078      0.281      -2.776       0.806\n",
      "element_185          -25.2142   1.66e+05     -0.000      1.000   -3.26e+05    3.26e+05\n",
      "element_186            0.1086      1.157      0.094      0.925      -2.159       2.376\n",
      "element_187          -24.6128   2.76e+05   -8.9e-05      1.000   -5.42e+05    5.42e+05\n",
      "element_189            0.3002      0.818      0.367      0.714      -1.303       1.903\n",
      "element_192           -2.1370      1.155     -1.850      0.064      -4.401       0.127\n",
      "element_193          -26.2688   1.35e+05     -0.000      1.000   -2.65e+05    2.65e+05\n",
      "element_194          -26.0884   2.09e+05     -0.000      1.000   -4.11e+05    4.11e+05\n",
      "element_195           -0.8833      0.818     -1.080      0.280      -2.486       0.719\n",
      "element_197          -26.3558   1.34e+05     -0.000      1.000   -2.62e+05    2.62e+05\n",
      "element_198           -1.9263      1.155     -1.667      0.095      -4.191       0.338\n",
      "element_199           -1.1171      0.914     -1.222      0.222      -2.908       0.674\n",
      "element_200          -26.6208   3.11e+05  -8.56e-05      1.000    -6.1e+05     6.1e+05\n",
      "element_201          -26.5409   1.42e+05     -0.000      1.000   -2.79e+05    2.79e+05\n",
      "element_202           -1.2712      0.914     -1.391      0.164      -3.062       0.520\n",
      "element_204          -24.3714   2.39e+05     -0.000      1.000   -4.68e+05    4.68e+05\n",
      "element_205          -24.2528   4.03e+05  -6.01e-05      1.000    -7.9e+05     7.9e+05\n",
      "element_206           -1.7576      1.155     -1.522      0.128      -4.022       0.507\n",
      "element_207          -24.7522   3.06e+05  -8.08e-05      1.000   -6.01e+05    6.01e+05\n",
      "element_208           -1.0632      1.156     -0.920      0.358      -3.329       1.202\n",
      "element_209          -24.8593    4.7e+05  -5.29e-05      1.000   -9.21e+05    9.21e+05\n",
      "element_210          -25.3583   1.11e+05     -0.000      1.000   -2.18e+05    2.18e+05\n",
      "element_211           -0.9602      0.914     -1.051      0.293      -2.751       0.831\n",
      "element_212          -25.9950   1.51e+05     -0.000      1.000   -2.97e+05    2.97e+05\n",
      "element_215           -0.5809      0.817     -0.711      0.477      -2.183       1.021\n",
      "element_216          -26.2675   3.83e+05  -6.86e-05      1.000   -7.51e+05    7.51e+05\n",
      "element_217          -25.7872   2.67e+05  -9.67e-05      1.000   -5.23e+05    5.22e+05\n",
      "element_219          -26.6396   1.26e+05     -0.000      1.000   -2.47e+05    2.47e+05\n",
      "element_220           -0.7663      0.817     -0.938      0.348      -2.368       0.835\n",
      "element_221           -1.3751      0.914     -1.505      0.132      -3.166       0.416\n",
      "element_222           -1.6782      1.156     -1.452      0.146      -3.943       0.587\n",
      "element_223            0.4223      0.709      0.596      0.551      -0.967       1.811\n",
      "element_224           -0.6828      0.914     -0.747      0.455      -2.474       1.108\n",
      "element_225           -0.3333      0.765     -0.436      0.663      -1.832       1.165\n",
      "element_226          -26.1572   2.05e+05     -0.000      1.000   -4.01e+05    4.01e+05\n",
      "element_227           -1.5092      0.914     -1.652      0.099      -3.300       0.281\n",
      "element_228          -24.9790   1.87e+05     -0.000      1.000   -3.66e+05    3.66e+05\n",
      "element_230          -25.8908   2.78e+05  -9.32e-05      1.000   -5.44e+05    5.44e+05\n",
      "element_231          -25.2295   3.87e+05  -6.51e-05      1.000   -7.59e+05    7.59e+05\n",
      "element_232          -26.4900   7.04e+05  -3.76e-05      1.000   -1.38e+06    1.38e+06\n",
      "element_233           -0.2114      0.708     -0.299      0.765      -1.599       1.176\n",
      "element_234            0.5998      0.642      0.935      0.350      -0.658       1.858\n",
      "element_235          -24.0378   1.19e+05     -0.000      1.000   -2.33e+05    2.33e+05\n",
      "element_236           -1.0553      1.155     -0.914      0.361      -3.319       1.209\n",
      "element_239           -0.8624      1.156     -0.746      0.456      -3.129       1.404\n",
      "element_240          -26.8110    4.9e+05  -5.47e-05      1.000   -9.61e+05    9.61e+05\n",
      "element_241          -25.9264   1.54e+05     -0.000      1.000   -3.01e+05    3.01e+05\n",
      "element_242          -26.4567   1.87e+05     -0.000      1.000   -3.66e+05    3.66e+05\n",
      "element_243           -1.4085      1.156     -1.219      0.223      -3.673       0.856\n",
      "element_245           -1.8517      1.156     -1.602      0.109      -4.117       0.413\n",
      "element_246           -1.1115      0.817     -1.360      0.174      -2.713       0.490\n",
      "element_247          -26.6258   1.26e+05     -0.000      1.000   -2.48e+05    2.48e+05\n",
      "element_249          -25.9180   1.23e+05     -0.000      1.000   -2.41e+05    2.41e+05\n",
      "element_250          -25.3344   1.44e+05     -0.000      1.000   -2.83e+05    2.83e+05\n",
      "element_251            0.7483      0.627      1.193      0.233      -0.481       1.978\n",
      "element_252           -1.3076      0.914     -1.431      0.152      -3.098       0.483\n",
      "element_253            0.6604      0.627      1.053      0.292      -0.569       1.890\n",
      "element_254           -0.2512      0.765     -0.329      0.743      -1.750       1.247\n",
      "element_255           -1.7301      1.156     -1.497      0.134      -3.995       0.535\n",
      "element_256          -25.5741   1.17e+05     -0.000      1.000   -2.29e+05    2.29e+05\n",
      "element_257            0.4718      0.646      0.730      0.466      -0.795       1.739\n",
      "element_258            0.5586      0.692      0.807      0.420      -0.798       1.915\n",
      "element_259          -25.5831   2.54e+05     -0.000      1.000   -4.97e+05    4.97e+05\n",
      "element_262          -26.4548   1.52e+05     -0.000      1.000   -2.97e+05    2.97e+05\n",
      "element_263          -25.7106   1.45e+05     -0.000      1.000   -2.84e+05    2.84e+05\n",
      "element_264          -26.3164   1.48e+05     -0.000      1.000    -2.9e+05     2.9e+05\n",
      "element_265           -1.9518      1.155     -1.689      0.091      -4.216       0.313\n",
      "element_266           -0.9625      1.156     -0.833      0.405      -3.228       1.303\n",
      "element_267          -26.5868   2.29e+05     -0.000      1.000   -4.49e+05    4.49e+05\n",
      "element_268           -1.4025      0.914     -1.535      0.125      -3.193       0.388\n",
      "element_269          -26.1892   1.91e+05     -0.000      1.000   -3.73e+05    3.73e+05\n",
      "element_270            0.7766      0.633      1.226      0.220      -0.465       2.018\n",
      "element_271           -0.0470      0.708     -0.066      0.947      -1.434       1.340\n",
      "element_272           -1.9758      1.155     -1.710      0.087      -4.240       0.289\n",
      "element_273           -0.3679      0.914     -0.402      0.687      -2.159       1.424\n",
      "element_274           -0.0567      0.732     -0.077      0.938      -1.490       1.377\n",
      "element_275            0.4868      0.668      0.729      0.466      -0.822       1.796\n",
      "element_276           -0.2296      0.708     -0.324      0.746      -1.617       1.158\n",
      "element_277          -24.3753   1.33e+05     -0.000      1.000   -2.61e+05    2.61e+05\n",
      "element_279          -26.5795   2.26e+05     -0.000      1.000   -4.42e+05    4.42e+05\n",
      "element_280            1.1131      0.622      1.789      0.074      -0.106       2.333\n",
      "element_281            0.5608      0.709      0.791      0.429      -0.829       1.950\n",
      "element_284           -1.6653      1.156     -1.441      0.150      -3.930       0.600\n",
      "element_285          -26.1552   1.52e+05     -0.000      1.000   -2.98e+05    2.98e+05\n",
      "element_286           -1.9719      1.155     -1.707      0.088      -4.236       0.293\n",
      "element_287          -25.8107   3.68e+05  -7.01e-05      1.000   -7.22e+05    7.22e+05\n",
      "element_288          -26.5653   3.13e+05  -8.49e-05      1.000   -6.13e+05    6.13e+05\n",
      "element_289          -25.6192   2.21e+05     -0.000      1.000   -4.34e+05    4.34e+05\n",
      "element_291          -25.2174    1.4e+05     -0.000      1.000   -2.75e+05    2.75e+05\n",
      "element_292           -1.9056      1.156     -1.649      0.099      -4.170       0.359\n",
      "element_293           -1.2005      0.914     -1.314      0.189      -2.991       0.590\n",
      "element_294          -26.0823   1.74e+05     -0.000      1.000   -3.42e+05    3.42e+05\n",
      "element_295           -0.8738      1.156     -0.756      0.450      -3.140       1.392\n",
      "element_296           -1.9657      1.155     -1.701      0.089      -4.230       0.299\n",
      "element_297           -0.6412      0.914     -0.701      0.483      -2.433       1.150\n",
      "element_298          -25.6430   1.56e+05     -0.000      1.000   -3.06e+05    3.06e+05\n",
      "element_299           -0.7055      0.914     -0.772      0.440      -2.496       1.085\n",
      "element_300           -0.0971      0.765     -0.127      0.899      -1.597       1.402\n",
      "element_301            0.8540      0.660      1.294      0.196      -0.439       2.147\n",
      "element_302            0.3445      0.653      0.528      0.598      -0.935       1.624\n",
      "element_303           -0.5705      1.156     -0.493      0.622      -2.837       1.696\n",
      "element_304           -0.9073      1.156     -0.785      0.432      -3.173       1.358\n",
      "element_305            0.5240      0.659      0.795      0.427      -0.768       1.817\n",
      "element_306            0.7637      0.647      1.181      0.238      -0.504       2.032\n",
      "element_310           -1.9562      1.155     -1.693      0.090      -4.221       0.308\n",
      "element_311            0.1508      0.818      0.184      0.854      -1.453       1.755\n",
      "element_312          -26.5193   1.32e+05     -0.000      1.000   -2.58e+05    2.58e+05\n",
      "element_313          -26.2116   1.37e+05     -0.000      1.000   -2.69e+05    2.69e+05\n",
      "element_314          -26.6265   2.08e+05     -0.000      1.000   -4.07e+05    4.07e+05\n",
      "element_315          -25.4165   1.23e+05     -0.000      1.000   -2.41e+05    2.41e+05\n",
      "element_317           -1.3382      0.914     -1.465      0.143      -3.129       0.452\n",
      "element_318          -25.9289   1.67e+05     -0.000      1.000   -3.27e+05    3.27e+05\n",
      "element_319          -26.3479   1.26e+05     -0.000      1.000   -2.47e+05    2.47e+05\n",
      "element_320          -25.8026   1.27e+05     -0.000      1.000   -2.48e+05    2.48e+05\n",
      "element_321          -25.1284   1.91e+05     -0.000      1.000   -3.74e+05    3.73e+05\n",
      "element_323           -1.4156      1.156     -1.225      0.221      -3.680       0.849\n",
      "element_324          -26.3168   1.77e+05     -0.000      1.000   -3.46e+05    3.46e+05\n",
      "element_326           -0.2727      0.708     -0.385      0.700      -1.660       1.115\n",
      "element_327            0.1669      0.915      0.182      0.855      -1.627       1.961\n",
      "element_330           -1.5642      1.156     -1.354      0.176      -3.829       0.701\n",
      "element_331          -26.6533   1.92e+05     -0.000      1.000   -3.77e+05    3.76e+05\n",
      "element_332           -1.4577      1.156     -1.262      0.207      -3.722       0.807\n",
      "element_333           -1.3824      1.156     -1.196      0.232      -3.649       0.884\n",
      "element_335          -26.5362   1.59e+05     -0.000      1.000   -3.11e+05    3.11e+05\n",
      "element_336          -26.5839   1.91e+05     -0.000      1.000   -3.75e+05    3.75e+05\n",
      "element_337          -24.1259   2.31e+05     -0.000      1.000   -4.52e+05    4.52e+05\n",
      "element_338            0.3843      0.709      0.542      0.588      -1.005       1.773\n",
      "element_339           -1.7239      1.156     -1.492      0.136      -3.989       0.541\n",
      "element_340           -0.4938      0.765     -0.646      0.518      -1.993       1.005\n",
      "element_342          -23.8579   2.69e+05  -8.86e-05      1.000   -5.28e+05    5.28e+05\n",
      "element_343           -1.0383      0.817     -1.270      0.204      -2.640       0.564\n",
      "element_344          -26.4664   1.59e+05     -0.000      1.000   -3.11e+05    3.11e+05\n",
      "element_345           -0.2705      0.818     -0.331      0.741      -1.873       1.332\n",
      "element_346          -25.6039   1.51e+05     -0.000      1.000   -2.96e+05    2.96e+05\n",
      "element_347           -0.9301      1.156     -0.805      0.421      -3.196       1.336\n",
      "element_348           -0.4418      0.914     -0.483      0.629      -2.233       1.350\n",
      "element_349           -0.4273      1.156     -0.370      0.712      -2.693       1.838\n",
      "element_353          -26.5884   1.27e+05     -0.000      1.000   -2.49e+05    2.49e+05\n",
      "element_354          -26.0796   1.23e+05     -0.000      1.000   -2.41e+05    2.41e+05\n",
      "element_355           -1.6236      1.156     -1.405      0.160      -3.889       0.642\n",
      "element_356          -25.9144   1.24e+05     -0.000      1.000   -2.42e+05    2.42e+05\n",
      "element_357           -1.8885      1.155     -1.635      0.102      -4.153       0.376\n",
      "element_358          -25.3083   2.27e+05     -0.000      1.000   -4.45e+05    4.45e+05\n",
      "element_359           -1.6109      1.156     -1.394      0.163      -3.876       0.654\n",
      "element_360          -26.1999   2.33e+05     -0.000      1.000   -4.56e+05    4.56e+05\n",
      "element_361           -0.6363      0.913     -0.697      0.486      -2.427       1.154\n",
      "element_362          -25.6935   1.96e+05     -0.000      1.000   -3.84e+05    3.83e+05\n",
      "element_363            0.3905      0.765      0.510      0.610      -1.109       1.890\n",
      "element_364           -0.1398      0.708     -0.197      0.844      -1.528       1.248\n",
      "element_365            0.0990      0.732      0.135      0.892      -1.335       1.533\n",
      "element_366          -24.7848   1.79e+05     -0.000      1.000   -3.52e+05    3.51e+05\n",
      "element_367            0.7747      0.647      1.197      0.231      -0.494       2.043\n",
      "element_368           -1.6402      1.156     -1.419      0.156      -3.905       0.625\n",
      "element_369          -26.3276   1.25e+05     -0.000      1.000   -2.46e+05    2.46e+05\n",
      "element_370            0.3324      0.691      0.481      0.630      -1.022       1.687\n",
      "element_371           -0.3448      1.157     -0.298      0.766      -2.612       1.922\n",
      "element_372            0.8271      0.627      1.318      0.187      -0.403       2.057\n",
      "element_376           -0.9993      0.817     -1.223      0.221      -2.601       0.603\n",
      "element_377          -24.3906   7.04e+05  -3.47e-05      1.000   -1.38e+06    1.38e+06\n",
      "element_378           -0.8633      0.817     -1.056      0.291      -2.465       0.739\n",
      "element_379          -25.7689   3.74e+05  -6.89e-05      1.000   -7.33e+05    7.33e+05\n",
      "element_380          -26.3225   1.54e+05     -0.000      1.000   -3.02e+05    3.02e+05\n",
      "element_381          -26.5281   1.72e+05     -0.000      1.000   -3.38e+05    3.38e+05\n",
      "element_382          -25.9533   1.16e+05     -0.000      1.000   -2.27e+05    2.27e+05\n",
      "element_383           -1.6162      1.155     -1.399      0.162      -3.880       0.648\n",
      "element_385          -26.3498   7.04e+05  -3.74e-05      1.000   -1.38e+06    1.38e+06\n",
      "element_386          -25.7223   1.72e+05     -0.000      1.000   -3.37e+05    3.37e+05\n",
      "element_387          -24.4235   1.75e+05     -0.000      1.000   -3.42e+05    3.42e+05\n",
      "element_388           -0.2523      1.157     -0.218      0.827      -2.519       2.015\n",
      "element_389           -2.0476      1.155     -1.772      0.076      -4.312       0.217\n",
      "element_390           -0.4441      0.731     -0.607      0.544      -1.877       0.989\n",
      "element_391           -0.2480      0.708     -0.350      0.726      -1.636       1.140\n",
      "element_392           -1.0956      0.914     -1.199      0.230      -2.886       0.695\n",
      "element_393            0.5238      0.647      0.810      0.418      -0.743       1.791\n",
      "element_394            0.3012      0.691      0.436      0.663      -1.054       1.656\n",
      "element_395            0.4905      0.731      0.671      0.502      -0.943       1.924\n",
      "element_396            0.1859      0.668      0.278      0.781      -1.123       1.495\n",
      "element_397          -24.6554   4.97e+05  -4.96e-05      1.000   -9.73e+05    9.73e+05\n",
      "element_402          -26.4783   1.52e+05     -0.000      1.000   -2.97e+05    2.97e+05\n",
      "element_403           -1.6533      1.156     -1.431      0.152      -3.918       0.611\n",
      "element_405          -26.4636   1.37e+05     -0.000      1.000   -2.68e+05    2.68e+05\n",
      "element_406           -1.4137      0.914     -1.547      0.122      -3.205       0.377\n",
      "element_408          -26.2340   2.12e+05     -0.000      1.000   -4.16e+05    4.16e+05\n",
      "element_409           -2.1566      1.155     -1.866      0.062      -4.421       0.108\n",
      "element_410          -25.9423   1.31e+05     -0.000      1.000   -2.56e+05    2.56e+05\n",
      "element_411           -0.6635      0.818     -0.812      0.417      -2.266       0.939\n",
      "element_412          -25.9277   1.16e+05     -0.000      1.000   -2.27e+05    2.27e+05\n",
      "element_413          -25.6508   1.34e+05     -0.000      1.000   -2.63e+05    2.63e+05\n",
      "element_414          -26.2592   2.63e+05  -9.98e-05      1.000   -5.16e+05    5.16e+05\n",
      "element_415           -0.2715      0.765     -0.355      0.723      -1.771       1.228\n",
      "element_417            0.3338      0.692      0.483      0.629      -1.022       1.690\n",
      "element_418          -25.6144   1.88e+05     -0.000      1.000   -3.68e+05    3.68e+05\n",
      "element_419            0.5394      0.692      0.780      0.436      -0.817       1.895\n",
      "element_423           -1.0207      0.817     -1.249      0.212      -2.623       0.581\n",
      "element_425           -1.0085      0.817     -1.234      0.217      -2.610       0.593\n",
      "element_426           -0.5387      0.914     -0.589      0.556      -2.331       1.254\n",
      "element_427           -2.1036      1.155     -1.821      0.069      -4.368       0.161\n",
      "element_430          -26.6375   1.22e+05     -0.000      1.000    -2.4e+05     2.4e+05\n",
      "element_431          -25.4052   1.29e+05     -0.000      1.000   -2.52e+05    2.52e+05\n",
      "element_432            0.1932      0.691      0.279      0.780      -1.162       1.548\n",
      "element_433           -0.9344      0.817     -1.143      0.253      -2.536       0.668\n",
      "element_434            0.3535      0.818      0.432      0.666      -1.250       1.957\n",
      "element_435           -1.4366      1.155     -1.243      0.214      -3.701       0.828\n",
      "element_437            0.3795      0.646      0.587      0.557      -0.887       1.646\n",
      "element_438          -24.6023   2.12e+05     -0.000      1.000   -4.16e+05    4.16e+05\n",
      "element_440          -26.4566   1.69e+05     -0.000      1.000   -3.32e+05    3.31e+05\n",
      "element_441            0.2224      1.158      0.192      0.848      -2.048       2.493\n",
      "element_443          -22.5010   7.04e+05   -3.2e-05      1.000   -1.38e+06    1.38e+06\n",
      "element_444          -23.8849   2.05e+05     -0.000      1.000   -4.03e+05    4.03e+05\n",
      "element_446           -0.8023      1.156     -0.694      0.488      -3.068       1.463\n",
      "element_447          -25.8015   2.54e+05     -0.000      1.000   -4.99e+05    4.99e+05\n",
      "element_448          -24.8724    1.1e+05     -0.000      1.000   -2.15e+05    2.15e+05\n",
      "element_450           -1.1810      0.913     -1.293      0.196      -2.971       0.609\n",
      "element_451          -26.1956   1.22e+05     -0.000      1.000    -2.4e+05     2.4e+05\n",
      "element_453            0.4559      0.915      0.498      0.618      -1.337       2.248\n",
      "element_455          -26.5721   1.51e+05     -0.000      1.000   -2.96e+05    2.96e+05\n",
      "element_456           -1.8955      1.155     -1.641      0.101      -4.160       0.369\n",
      "element_458           -1.4076      1.155     -1.218      0.223      -3.672       0.857\n",
      "element_459           -1.4260      0.913     -1.561      0.119      -3.216       0.364\n",
      "element_460          -26.1932   1.34e+05     -0.000      1.000   -2.63e+05    2.63e+05\n",
      "element_461          -26.3055   1.37e+05     -0.000      1.000   -2.68e+05    2.68e+05\n",
      "element_462            0.5434      0.708      0.767      0.443      -0.845       1.932\n",
      "element_463          -26.6509   1.51e+05     -0.000      1.000   -2.96e+05    2.96e+05\n",
      "element_464           -1.4917      1.155     -1.291      0.197      -3.756       0.773\n",
      "element_465           -0.0396      0.678     -0.058      0.953      -1.369       1.289\n",
      "element_466          -25.9898   1.29e+05     -0.000      1.000   -2.53e+05    2.53e+05\n",
      "element_467          -26.5970   2.62e+05     -0.000      1.000   -5.14e+05    5.14e+05\n",
      "element_471          -25.5182   1.68e+05     -0.000      1.000    -3.3e+05     3.3e+05\n",
      "element_472            0.5874      0.915      0.642      0.521      -1.207       2.382\n",
      "element_473          -25.4835   1.76e+05     -0.000      1.000   -3.45e+05    3.45e+05\n",
      "element_475           -2.0682      1.155     -1.790      0.073      -4.332       0.196\n",
      "element_476          -25.7394   1.54e+05     -0.000      1.000   -3.01e+05    3.01e+05\n",
      "element_478            0.1603      0.708      0.226      0.821      -1.228       1.549\n",
      "element_479          -26.3708   1.76e+05     -0.000      1.000   -3.44e+05    3.44e+05\n",
      "element_480            0.1543      0.659      0.234      0.815      -1.138       1.447\n",
      "element_481           -0.3196      1.157     -0.276      0.782      -2.587       1.948\n",
      "element_482           -0.5460      0.818     -0.668      0.504      -2.149       1.057\n",
      "element_483           -1.9288      1.155     -1.670      0.095      -4.193       0.336\n",
      "element_484           -0.9158      0.817     -1.120      0.263      -2.518       0.686\n",
      "element_486           -1.3028      1.155     -1.128      0.260      -3.567       0.962\n",
      "element_487          -26.3945    1.9e+05     -0.000      1.000   -3.73e+05    3.73e+05\n",
      "element_488           -0.2872      1.156     -0.248      0.804      -2.553       1.978\n",
      "element_489           -1.1652      0.914     -1.275      0.202      -2.957       0.626\n",
      "element_491            1.6499      1.167      1.413      0.158      -0.638       3.938\n",
      "element_492           -0.8539      1.156     -0.739      0.460      -3.119       1.411\n",
      "element_493            0.2984      0.668      0.447      0.655      -1.010       1.607\n",
      "element_494           -1.8126      1.155     -1.569      0.117      -4.077       0.452\n",
      "element_495            0.0891      1.157      0.077      0.939      -2.178       2.356\n",
      "element_497          -23.8873   7.04e+05  -3.39e-05      1.000   -1.38e+06    1.38e+06\n",
      "element_499          -25.8532   1.16e+05     -0.000      1.000   -2.26e+05    2.26e+05\n",
      "element_500           -0.9818      1.156     -0.849      0.396      -3.247       1.284\n",
      "element_502            0.2937      0.914      0.321      0.748      -1.498       2.086\n",
      "element_503          -26.6396   1.47e+05     -0.000      1.000   -2.88e+05    2.88e+05\n",
      "element_504           -0.2804      0.731     -0.383      0.701      -1.714       1.153\n",
      "element_505           -1.2318      1.155     -1.066      0.286      -3.496       1.033\n",
      "element_506           -0.8312      1.157     -0.719      0.472      -3.098       1.436\n",
      "element_507           -1.5706      1.155     -1.359      0.174      -3.835       0.694\n",
      "element_508           -1.6646      1.155     -1.441      0.150      -3.929       0.600\n",
      "element_510          -26.4445   1.43e+05     -0.000      1.000   -2.79e+05    2.79e+05\n",
      "element_511          -26.0511   1.86e+05     -0.000      1.000   -3.64e+05    3.64e+05\n",
      "element_512          -25.9431   1.59e+05     -0.000      1.000   -3.11e+05    3.11e+05\n",
      "element_513           -1.1692      1.156     -1.011      0.312      -3.435       1.096\n",
      "element_514          -25.2984   1.38e+05     -0.000      1.000    -2.7e+05     2.7e+05\n",
      "element_515          -25.7294   2.14e+05     -0.000      1.000   -4.19e+05    4.19e+05\n",
      "element_516          -26.4890   1.71e+05     -0.000      1.000   -3.35e+05    3.35e+05\n",
      "element_517           -0.1152      1.158     -0.099      0.921      -2.384       2.154\n",
      "element_518          -25.2830   2.44e+05     -0.000      1.000   -4.78e+05    4.78e+05\n",
      "element_519           -1.1403      1.156     -0.987      0.324      -3.405       1.124\n",
      "element_521          -25.0242   3.55e+05  -7.04e-05      1.000   -6.97e+05    6.97e+05\n",
      "element_522           -0.2012      1.156     -0.174      0.862      -2.468       2.065\n",
      "element_523          -22.6436   7.04e+05  -3.22e-05      1.000   -1.38e+06    1.38e+06\n",
      "element_524           -1.0071      1.156     -0.871      0.384      -3.272       1.258\n",
      "element_526           -1.1734      0.914     -1.284      0.199      -2.964       0.617\n",
      "element_527          -26.2489   1.22e+05     -0.000      1.000   -2.38e+05    2.38e+05\n",
      "element_531           -0.7698      1.156     -0.666      0.506      -3.036       1.496\n",
      "element_534           -0.1873      0.817     -0.229      0.819      -1.789       1.415\n",
      "element_535           -0.0388      1.157     -0.034      0.973      -2.306       2.229\n",
      "element_539          -25.2606   1.44e+05     -0.000      1.000   -2.82e+05    2.82e+05\n",
      "element_540          -25.1865   2.08e+05     -0.000      1.000   -4.07e+05    4.07e+05\n",
      "element_543            0.7648      0.916      0.835      0.404      -1.031       2.561\n",
      "element_544          -23.7628    3.8e+05  -6.25e-05      1.000   -7.45e+05    7.45e+05\n",
      "element_549           -0.6557      1.156     -0.567      0.571      -2.921       1.610\n",
      "element_550            0.8964      1.157      0.775      0.439      -1.372       3.165\n",
      "element_552          -22.8952   4.48e+05  -5.11e-05      1.000   -8.79e+05    8.79e+05\n",
      "element_556           -0.7209      0.914     -0.789      0.430      -2.512       1.070\n",
      "element_557          -22.2273   7.04e+05  -3.16e-05      1.000   -1.38e+06    1.38e+06\n",
      "element_560          -25.1855   7.04e+05  -3.58e-05      1.000   -1.38e+06    1.38e+06\n",
      "element_562          -22.1485   7.04e+05  -3.15e-05      1.000   -1.38e+06    1.38e+06\n",
      "element_563          -24.6644   7.04e+05   -3.5e-05      1.000   -1.38e+06    1.38e+06\n",
      "element_565          -26.1314   7.04e+05  -3.71e-05      1.000   -1.38e+06    1.38e+06\n",
      "element_566          -23.0444   7.04e+05  -3.27e-05      1.000   -1.38e+06    1.38e+06\n",
      "element_568          -24.7660   7.04e+05  -3.52e-05      1.000   -1.38e+06    1.38e+06\n",
      "element_569          -25.9928   3.03e+05  -8.58e-05      1.000   -5.94e+05    5.94e+05\n",
      "element_570          -25.2214   2.87e+05  -8.77e-05      1.000   -5.63e+05    5.63e+05\n",
      "element_571          -26.5506   2.16e+05     -0.000      1.000   -4.24e+05    4.24e+05\n",
      "element_573          -24.9878   4.85e+05  -5.15e-05      1.000   -9.51e+05     9.5e+05\n",
      "element_574          -23.5378    2.4e+05  -9.81e-05      1.000    -4.7e+05     4.7e+05\n",
      "element_575            0.2315      0.818      0.283      0.777      -1.371       1.834\n",
      "element_579            0.3612      0.818      0.442      0.659      -1.242       1.964\n",
      "element_580          -25.6271    1.8e+05     -0.000      1.000   -3.53e+05    3.53e+05\n",
      "element_581          -26.4697   4.64e+05   -5.7e-05      1.000    -9.1e+05     9.1e+05\n",
      "element_585            0.5389      0.915      0.589      0.556      -1.255       2.333\n",
      "element_586          -24.8865   3.42e+05  -7.28e-05      1.000    -6.7e+05     6.7e+05\n",
      "element_587          -26.4507   2.47e+05     -0.000      1.000   -4.85e+05    4.85e+05\n",
      "element_588          -23.1153   7.04e+05  -3.28e-05      1.000   -1.38e+06    1.38e+06\n",
      "element_589          -25.3706   2.18e+05     -0.000      1.000   -4.27e+05    4.27e+05\n",
      "element_590          -24.6753      3e+05  -8.23e-05      1.000   -5.87e+05    5.87e+05\n",
      "element_591           -0.7031      1.156     -0.608      0.543      -2.969       1.562\n",
      "element_592            0.1175      0.914      0.128      0.898      -1.675       1.910\n",
      "element_593          -26.5803   3.51e+05  -7.58e-05      1.000   -6.88e+05    6.88e+05\n",
      "element_594          -25.9408   7.04e+05  -3.69e-05      1.000   -1.38e+06    1.38e+06\n",
      "element_599          -24.2336   7.04e+05  -3.44e-05      1.000   -1.38e+06    1.38e+06\n",
      "element_601          -25.8498   7.04e+05  -3.67e-05      1.000   -1.38e+06    1.38e+06\n",
      "element_602          -22.0098   7.04e+05  -3.13e-05      1.000   -1.38e+06    1.38e+06\n",
      "element_603          -22.3325   7.04e+05  -3.17e-05      1.000   -1.38e+06    1.38e+06\n",
      "element_605          -25.5413   7.04e+05  -3.63e-05      1.000   -1.38e+06    1.38e+06\n",
      "element_607          -25.5925   4.61e+05  -5.55e-05      1.000   -9.04e+05    9.04e+05\n",
      "element_608          -24.2336   7.04e+05  -3.44e-05      1.000   -1.38e+06    1.38e+06\n",
      "======================================================================================\n"
     ]
    }
   ],
   "source": [
    "print(eppmm_results.summary())"
   ]
  },
  {
   "cell_type": "markdown",
   "metadata": {
    "heading_collapsed": true,
    "hidden": true
   },
   "source": [
    "### Model fit"
   ]
  },
  {
   "cell_type": "code",
   "execution_count": 149,
   "metadata": {
    "ExecuteTime": {
     "end_time": "2019-04-08T15:17:35.438229Z",
     "start_time": "2019-04-08T15:17:35.433467Z"
    },
    "hidden": true
   },
   "outputs": [
    {
     "data": {
      "text/plain": [
       "5348.141962792908"
      ]
     },
     "execution_count": 149,
     "metadata": {},
     "output_type": "execute_result"
    }
   ],
   "source": [
    "eppmm_results.aic"
   ]
  },
  {
   "cell_type": "code",
   "execution_count": 150,
   "metadata": {
    "ExecuteTime": {
     "end_time": "2019-04-08T15:17:35.601924Z",
     "start_time": "2019-04-08T15:17:35.440479Z"
    },
    "hidden": true
   },
   "outputs": [
    {
     "data": {
      "text/plain": [
       "-66414.75110136162"
      ]
     },
     "execution_count": 150,
     "metadata": {},
     "output_type": "execute_result"
    }
   ],
   "source": [
    "eppmm_results.bic"
   ]
  },
  {
   "cell_type": "code",
   "execution_count": 151,
   "metadata": {
    "ExecuteTime": {
     "end_time": "2019-04-08T15:17:35.641492Z",
     "start_time": "2019-04-08T15:17:35.603949Z"
    },
    "hidden": true
   },
   "outputs": [
    {
     "data": {
      "text/plain": [
       "(True, 0.034988645970658094)"
      ]
     },
     "execution_count": 151,
     "metadata": {},
     "output_type": "execute_result"
    }
   ],
   "source": [
    "eppmm_pearson_results = goodness_fit.pearson_chi_squared_test(eppmm_results)\n",
    "eppmm_pearson_results"
   ]
  },
  {
   "cell_type": "code",
   "execution_count": 152,
   "metadata": {
    "ExecuteTime": {
     "end_time": "2019-04-08T15:17:35.677038Z",
     "start_time": "2019-04-08T15:17:35.645352Z"
    },
    "hidden": true
   },
   "outputs": [
    {
     "data": {
      "text/plain": [
       "count    8160.000000\n",
       "mean       -0.148268\n",
       "std         0.564351\n",
       "min        -1.441568\n",
       "25%        -0.437792\n",
       "50%        -0.248244\n",
       "75%        -0.000001\n",
       "max         3.591296\n",
       "dtype: float64"
      ]
     },
     "execution_count": 152,
     "metadata": {},
     "output_type": "execute_result"
    }
   ],
   "source": [
    "eppmm_results.resid_deviance.describe()"
   ]
  },
  {
   "cell_type": "code",
   "execution_count": 153,
   "metadata": {
    "ExecuteTime": {
     "end_time": "2019-04-08T15:17:35.940021Z",
     "start_time": "2019-04-08T15:17:35.679131Z"
    },
    "hidden": true
   },
   "outputs": [
    {
     "data": {
      "image/png": "[encoded data removed]",
      "text/plain": [
       "<Figure size 432x288 with 1 Axes>"
      ]
     },
     "metadata": {
      "needs_background": "light"
     },
     "output_type": "display_data"
    }
   ],
   "source": [
    "plt.figure()\n",
    "plt.hist(eppmm_results.resid_deviance, bins=20)\n",
    "plt.show()"
   ]
  },
  {
   "cell_type": "markdown",
   "metadata": {},
   "source": [
    "# Model comparison"
   ]
  },
  {
   "cell_type": "code",
   "execution_count": 193,
   "metadata": {
    "ExecuteTime": {
     "end_time": "2019-04-08T15:21:14.157856Z",
     "start_time": "2019-04-08T15:21:14.144514Z"
    }
   },
   "outputs": [
    {
     "data": {
      "text/plain": [
       "{'Simple Poisson': 5789.631849369688,\n",
       " 'Poisson teams': 5370.946789851232,\n",
       " 'Poisson players': 5440.939998106251,\n",
       " 'Simple Poisson minutes': 5673.99409973864,\n",
       " 'Simple Poisson exposure': 5701.314817635959,\n",
       " 'Poisson teams minutes': 5130.165637069073,\n",
       " 'Poisson teams exposure': 5130.192616669883,\n",
       " 'Poisson teams exposure form': 4902.8002682250535,\n",
       " 'Poisson players minutes': 5340.434027748107,\n",
       " 'Poisson players exposure': 5348.141962792908}"
      ]
     },
     "execution_count": 193,
     "metadata": {},
     "output_type": "execute_result"
    }
   ],
   "source": [
    "aic = {\n",
    "    'Simple Poisson': spm_results.aic,\n",
    "    'Poisson teams': sptm_results.aic,\n",
    "    'Poisson players': sppm_results.aic,\n",
    "    \n",
    "    'Simple Poisson minutes': spmm_results.aic,\n",
    "    'Simple Poisson exposure': epmm_results.aic,\n",
    "    'Poisson teams minutes': sptmm_results.aic,\n",
    "    'Poisson teams exposure': eptmm_results.aic,\n",
    "    'Poisson teams exposure form': eptmmf_results.aic,\n",
    "    'Poisson players minutes': sppmm_results.aic,\n",
    "    'Poisson players exposure': eppmm_results.aic,\n",
    "    }\n",
    "aic"
   ]
  },
  {
   "cell_type": "code",
   "execution_count": 194,
   "metadata": {
    "ExecuteTime": {
     "end_time": "2019-04-08T15:21:14.671551Z",
     "start_time": "2019-04-08T15:21:14.655965Z"
    }
   },
   "outputs": [
    {
     "data": {
      "text/plain": [
       "{'Simple Poisson': -69322.66552575112,\n",
       " 'Poisson teams': -69454.05858370135,\n",
       " 'Poisson players': -66321.95306604827,\n",
       " 'Simple Poisson minutes': -69431.2961533927,\n",
       " 'Simple Poisson exposure': -69410.98255748485,\n",
       " 'Poisson teams minutes': -69687.83261449402,\n",
       " 'Poisson teams exposure': -69694.81275688269,\n",
       " 'Poisson teams exposure form': -65261.83535807837,\n",
       " 'Poisson players minutes': -66415.45191441693,\n",
       " 'Poisson players exposure': -66414.75110136162}"
      ]
     },
     "execution_count": 194,
     "metadata": {},
     "output_type": "execute_result"
    }
   ],
   "source": [
    "bic = {\n",
    "    'Simple Poisson': spm_results.bic,\n",
    "    'Poisson teams': sptm_results.bic,\n",
    "    'Poisson players': sppm_results.bic,\n",
    "    \n",
    "    'Simple Poisson minutes': spmm_results.bic,\n",
    "    'Simple Poisson exposure': epmm_results.bic,\n",
    "    'Poisson teams minutes': sptmm_results.bic,\n",
    "    'Poisson teams exposure': eptmm_results.bic,\n",
    "    'Poisson teams exposure form': eptmmf_results.bic,\n",
    "    'Poisson players minutes': sppmm_results.bic,\n",
    "    'Poisson players exposure': eppmm_results.bic,\n",
    "    }\n",
    "bic"
   ]
  },
  {
   "cell_type": "code",
   "execution_count": 196,
   "metadata": {
    "ExecuteTime": {
     "end_time": "2019-04-08T15:21:36.543994Z",
     "start_time": "2019-04-08T15:21:36.521062Z"
    }
   },
   "outputs": [
    {
     "data": {
      "text/html": [
       "<div>\n",
       "<style scoped>\n",
       "    .dataframe tbody tr th:only-of-type {\n",
       "        vertical-align: middle;\n",
       "    }\n",
       "\n",
       "    .dataframe tbody tr th {\n",
       "        vertical-align: top;\n",
       "    }\n",
       "\n",
       "    .dataframe thead th {\n",
       "        text-align: right;\n",
       "    }\n",
       "</style>\n",
       "<table border=\"1\" class=\"dataframe\">\n",
       "  <thead>\n",
       "    <tr style=\"text-align: right;\">\n",
       "      <th></th>\n",
       "      <th>AIC</th>\n",
       "      <th>BIC</th>\n",
       "    </tr>\n",
       "  </thead>\n",
       "  <tbody>\n",
       "    <tr>\n",
       "      <th>Poisson players</th>\n",
       "      <td>5440</td>\n",
       "      <td>-66321</td>\n",
       "    </tr>\n",
       "    <tr>\n",
       "      <th>Poisson players exposure</th>\n",
       "      <td>5348</td>\n",
       "      <td>-66414</td>\n",
       "    </tr>\n",
       "    <tr>\n",
       "      <th>Poisson players minutes</th>\n",
       "      <td>5340</td>\n",
       "      <td>-66415</td>\n",
       "    </tr>\n",
       "    <tr>\n",
       "      <th>Poisson teams</th>\n",
       "      <td>5370</td>\n",
       "      <td>-69454</td>\n",
       "    </tr>\n",
       "    <tr>\n",
       "      <th>Poisson teams exposure</th>\n",
       "      <td>5130</td>\n",
       "      <td>-69694</td>\n",
       "    </tr>\n",
       "    <tr>\n",
       "      <th>Poisson teams exposure form</th>\n",
       "      <td>4902</td>\n",
       "      <td>-65261</td>\n",
       "    </tr>\n",
       "    <tr>\n",
       "      <th>Poisson teams minutes</th>\n",
       "      <td>5130</td>\n",
       "      <td>-69687</td>\n",
       "    </tr>\n",
       "    <tr>\n",
       "      <th>Simple Poisson</th>\n",
       "      <td>5789</td>\n",
       "      <td>-69322</td>\n",
       "    </tr>\n",
       "    <tr>\n",
       "      <th>Simple Poisson exposure</th>\n",
       "      <td>5701</td>\n",
       "      <td>-69410</td>\n",
       "    </tr>\n",
       "    <tr>\n",
       "      <th>Simple Poisson minutes</th>\n",
       "      <td>5673</td>\n",
       "      <td>-69431</td>\n",
       "    </tr>\n",
       "  </tbody>\n",
       "</table>\n",
       "</div>"
      ],
      "text/plain": [
       "                              AIC    BIC\n",
       "Poisson players              5440 -66321\n",
       "Poisson players exposure     5348 -66414\n",
       "Poisson players minutes      5340 -66415\n",
       "Poisson teams                5370 -69454\n",
       "Poisson teams exposure       5130 -69694\n",
       "Poisson teams exposure form  4902 -65261\n",
       "Poisson teams minutes        5130 -69687\n",
       "Simple Poisson               5789 -69322\n",
       "Simple Poisson exposure      5701 -69410\n",
       "Simple Poisson minutes       5673 -69431"
      ]
     },
     "execution_count": 196,
     "metadata": {},
     "output_type": "execute_result"
    }
   ],
   "source": [
    "comp_df = pd.DataFrame([\n",
    "    aic,\n",
    "    bic\n",
    "]).T\n",
    "comp_df.columns = [\n",
    "    'AIC',\n",
    "    'BIC'\n",
    "]\n",
    "comp_df.astype('int64')"
   ]
  },
  {
   "cell_type": "code",
   "execution_count": null,
   "metadata": {},
   "outputs": [],
   "source": []
  }
 ],
 "metadata": {
  "kernelspec": {
   "display_name": "Python 3",
   "language": "python",
   "name": "python3"
  },
  "language_info": {
   "codemirror_mode": {
    "name": "ipython",
    "version": 3
   },
   "file_extension": ".py",
   "mimetype": "text/x-python",
   "name": "python",
   "nbconvert_exporter": "python",
   "pygments_lexer": "ipython3",
   "version": "3.6.7"
  },
  "toc": {
   "nav_menu": {},
   "number_sections": true,
   "sideBar": true,
   "skip_h1_title": false,
   "title_cell": "Table of Contents",
   "title_sidebar": "Contents",
   "toc_cell": false,
   "toc_position": {},
   "toc_section_display": true,
   "toc_window_display": false
  }
 },
 "nbformat": 4,
 "nbformat_minor": 2
}
