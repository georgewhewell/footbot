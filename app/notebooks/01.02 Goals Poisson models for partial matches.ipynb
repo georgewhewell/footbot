{
 "cells": [
  {
   "cell_type": "markdown",
   "metadata": {
    "heading_collapsed": true
   },
   "source": [
    "# Set up"
   ]
  },
  {
   "cell_type": "code",
   "execution_count": 1,
   "metadata": {
    "ExecuteTime": {
     "end_time": "2019-03-02T17:20:02.959502Z",
     "start_time": "2019-03-02T17:20:02.956500Z"
    },
    "hidden": true
   },
   "outputs": [],
   "source": [
    "# update path with data dir\n",
    "import sys\n",
    "sys.path.append('../data/')\n",
    "sys.path.append('../modelling/')"
   ]
  },
  {
   "cell_type": "code",
   "execution_count": 2,
   "metadata": {
    "ExecuteTime": {
     "end_time": "2019-03-02T17:20:04.115562Z",
     "start_time": "2019-03-02T17:20:02.961858Z"
    },
    "hidden": true
   },
   "outputs": [
    {
     "name": "stderr",
     "output_type": "stream",
     "text": [
      "/home/tom/footbot/venv/lib/python3.6/site-packages/statsmodels/compat/pandas.py:56: FutureWarning: The pandas.core.datetools module is deprecated and will be removed in a future version. Please use the pandas.tseries module instead.\n",
      "  from pandas.core import datetools\n"
     ]
    }
   ],
   "source": [
    "import player_data as player\n",
    "import goodness_fit\n",
    "import pandas as pd\n",
    "from datetime import datetime\n",
    "import statsmodels.api as sm\n",
    "import matplotlib.pyplot as plt\n",
    "import numpy as np"
   ]
  },
  {
   "cell_type": "markdown",
   "metadata": {
    "heading_collapsed": true
   },
   "source": [
    "# Get data"
   ]
  },
  {
   "cell_type": "code",
   "execution_count": 3,
   "metadata": {
    "ExecuteTime": {
     "end_time": "2019-03-02T17:20:04.120666Z",
     "start_time": "2019-03-02T17:20:04.117643Z"
    },
    "hidden": true
   },
   "outputs": [],
   "source": [
    "file_name = 'csvs/element_gameweek_' + datetime.today().strftime('%Y-%m-%d') + '.csv'"
   ]
  },
  {
   "cell_type": "code",
   "execution_count": 4,
   "metadata": {
    "ExecuteTime": {
     "end_time": "2019-03-02T17:20:04.317896Z",
     "start_time": "2019-03-02T17:20:04.123429Z"
    },
    "hidden": true
   },
   "outputs": [],
   "source": [
    "try:\n",
    "    element_gameweek_df = pd.read_csv(file_name)\n",
    "except:\n",
    "    element_gameweek_df = player.get_element_gameweek_df()\n",
    "    element_gameweek_df.to_csv(file_name)"
   ]
  },
  {
   "cell_type": "code",
   "execution_count": 5,
   "metadata": {
    "ExecuteTime": {
     "end_time": "2019-03-02T17:20:04.323816Z",
     "start_time": "2019-03-02T17:20:04.320886Z"
    },
    "hidden": true
   },
   "outputs": [],
   "source": [
    "current_event = 26\n",
    "element_types = [2, 3, 4]\n",
    "threshold_minutes = 1"
   ]
  },
  {
   "cell_type": "code",
   "execution_count": 6,
   "metadata": {
    "ExecuteTime": {
     "end_time": "2019-03-02T17:20:04.362247Z",
     "start_time": "2019-03-02T17:20:04.325790Z"
    },
    "hidden": true
   },
   "outputs": [],
   "source": [
    "element_gameweek_df =\\\n",
    "element_gameweek_df[\n",
    "    (element_gameweek_df['event'] <= current_event)\n",
    "    & (element_gameweek_df['element_type'].isin(element_types))\n",
    "    & (element_gameweek_df['minutes'] >= threshold_minutes)\n",
    "]"
   ]
  },
  {
   "cell_type": "code",
   "execution_count": 7,
   "metadata": {
    "ExecuteTime": {
     "end_time": "2019-03-02T17:20:04.584010Z",
     "start_time": "2019-03-02T17:20:04.364830Z"
    },
    "hidden": true
   },
   "outputs": [],
   "source": [
    "player.add_home_categorical_variable(element_gameweek_df)"
   ]
  },
  {
   "cell_type": "markdown",
   "metadata": {
    "heading_collapsed": true
   },
   "source": [
    "# Models"
   ]
  },
  {
   "cell_type": "markdown",
   "metadata": {
    "heading_collapsed": true,
    "hidden": true
   },
   "source": [
    "## Simple Poisson model"
   ]
  },
  {
   "cell_type": "markdown",
   "metadata": {
    "hidden": true
   },
   "source": [
    "### Preparing data"
   ]
  },
  {
   "cell_type": "code",
   "execution_count": 8,
   "metadata": {
    "ExecuteTime": {
     "end_time": "2019-03-02T17:20:04.617429Z",
     "start_time": "2019-03-02T17:20:04.586789Z"
    },
    "hidden": true
   },
   "outputs": [],
   "source": [
    "spm_df = element_gameweek_df.copy()"
   ]
  },
  {
   "cell_type": "code",
   "execution_count": 9,
   "metadata": {
    "ExecuteTime": {
     "end_time": "2019-03-02T17:20:04.632666Z",
     "start_time": "2019-03-02T17:20:04.620078Z"
    },
    "hidden": true
   },
   "outputs": [],
   "source": [
    "spm_redundant_columns = [\n",
    "    'row_id', 'assists', 'attempted_passes', 'big_chances_created',\n",
    "    'big_chances_missed', 'bonus', 'bps', 'clean_sheets',\n",
    "    'clearances_blocks_interceptions', 'completed_passes', 'creativity',\n",
    "    'dribbles', 'ea_index', 'element', 'errors_leading_to_goal',\n",
    "    'errors_leading_to_goal_attempt', 'fixture', 'fouls', 'goals_conceded',\n",
    "    'ict_index', 'id', 'influence', 'key_passes', 'kickoff_time',\n",
    "    'kickoff_time_formatted', 'loaned_in', 'loaned_out', 'minutes', 'offside',\n",
    "    'open_play_crosses', 'opponent_team', 'own_goals', 'penalties_conceded',\n",
    "    'penalties_missed', 'penalties_saved', 'recoveries', 'red_cards', 'round',\n",
    "    'saves', 'selected', 'tackled', 'tackles', 'target_missed', 'team_a_score',\n",
    "    'team_h_score', 'threat', 'total_points', 'transfers_balance',\n",
    "    'transfers_in', 'transfers_out', 'value', 'winning_goals',\n",
    "    'yellow_cards', 'event', 'team_a', 'team_a_difficulty', 'team_h',\n",
    "    'team_h_difficulty', 'element_type', 'team', 'web_name', 'safe_web_name',\n",
    "    'own_team', 'opposition_team', 'was_home'\n",
    "]"
   ]
  },
  {
   "cell_type": "code",
   "execution_count": 10,
   "metadata": {
    "ExecuteTime": {
     "end_time": "2019-03-02T17:20:04.658864Z",
     "start_time": "2019-03-02T17:20:04.634916Z"
    },
    "hidden": true
   },
   "outputs": [],
   "source": [
    "spm_df = player.remove_redundant_columns(spm_df, spm_redundant_columns)"
   ]
  },
  {
   "cell_type": "code",
   "execution_count": 11,
   "metadata": {
    "ExecuteTime": {
     "end_time": "2019-03-02T17:20:04.690253Z",
     "start_time": "2019-03-02T17:20:04.661229Z"
    },
    "hidden": true
   },
   "outputs": [],
   "source": [
    "spm_response_df, spm_explanatory_df = player.get_response_explanatory_dfs(spm_df, 'goals_scored')"
   ]
  },
  {
   "cell_type": "code",
   "execution_count": 12,
   "metadata": {
    "ExecuteTime": {
     "end_time": "2019-03-02T17:20:04.715787Z",
     "start_time": "2019-03-02T17:20:04.693599Z"
    },
    "hidden": true
   },
   "outputs": [
    {
     "data": {
      "text/plain": [
       "Index(['const'], dtype='object')"
      ]
     },
     "execution_count": 12,
     "metadata": {},
     "output_type": "execute_result"
    }
   ],
   "source": [
    "spm_explanatory_df.columns"
   ]
  },
  {
   "cell_type": "code",
   "execution_count": 13,
   "metadata": {
    "ExecuteTime": {
     "end_time": "2019-03-02T17:20:04.746099Z",
     "start_time": "2019-03-02T17:20:04.719903Z"
    },
    "hidden": true
   },
   "outputs": [
    {
     "data": {
      "text/plain": [
       "74    0\n",
       "76    0\n",
       "77    0\n",
       "78    0\n",
       "79    0\n",
       "Name: goals_scored, dtype: int64"
      ]
     },
     "execution_count": 13,
     "metadata": {},
     "output_type": "execute_result"
    }
   ],
   "source": [
    "spm_response_df.head()"
   ]
  },
  {
   "cell_type": "markdown",
   "metadata": {
    "hidden": true
   },
   "source": [
    "### Fitting model"
   ]
  },
  {
   "cell_type": "code",
   "execution_count": 14,
   "metadata": {
    "ExecuteTime": {
     "end_time": "2019-03-02T17:20:04.788111Z",
     "start_time": "2019-03-02T17:20:04.755750Z"
    },
    "hidden": true
   },
   "outputs": [],
   "source": [
    "spm_results = sm.GLM(\n",
    "    spm_response_df,\n",
    "    spm_explanatory_df,\n",
    "    family=sm.families.Poisson(),\n",
    "    missing='drop'\n",
    ").fit()"
   ]
  },
  {
   "cell_type": "code",
   "execution_count": 15,
   "metadata": {
    "ExecuteTime": {
     "end_time": "2019-03-02T17:20:04.814765Z",
     "start_time": "2019-03-02T17:20:04.797837Z"
    },
    "hidden": true
   },
   "outputs": [
    {
     "name": "stdout",
     "output_type": "stream",
     "text": [
      "                 Generalized Linear Model Regression Results                  \n",
      "==============================================================================\n",
      "Dep. Variable:           goals_scored   No. Observations:                 6675\n",
      "Model:                            GLM   Df Residuals:                     6674\n",
      "Model Family:                 Poisson   Df Model:                            0\n",
      "Link Function:                    log   Scale:                             1.0\n",
      "Method:                          IRLS   Log-Likelihood:                -2363.9\n",
      "Date:                Sat, 02 Mar 2019   Deviance:                       3410.3\n",
      "Time:                        17:20:04   Pearson chi2:                 7.53e+03\n",
      "No. Iterations:                     6                                         \n",
      "==============================================================================\n",
      "                 coef    std err          z      P>|z|      [0.025      0.975]\n",
      "------------------------------------------------------------------------------\n",
      "const         -2.2366      0.037    -59.723      0.000      -2.310      -2.163\n",
      "==============================================================================\n"
     ]
    }
   ],
   "source": [
    "print(spm_results.summary())"
   ]
  },
  {
   "cell_type": "markdown",
   "metadata": {
    "hidden": true
   },
   "source": [
    "### Model fit"
   ]
  },
  {
   "cell_type": "code",
   "execution_count": 16,
   "metadata": {
    "ExecuteTime": {
     "end_time": "2019-03-02T17:20:04.827082Z",
     "start_time": "2019-03-02T17:20:04.817848Z"
    },
    "hidden": true
   },
   "outputs": [
    {
     "data": {
      "text/plain": [
       "4729.87418494977"
      ]
     },
     "execution_count": 16,
     "metadata": {},
     "output_type": "execute_result"
    }
   ],
   "source": [
    "spm_results.aic"
   ]
  },
  {
   "cell_type": "code",
   "execution_count": 17,
   "metadata": {
    "ExecuteTime": {
     "end_time": "2019-03-02T17:20:04.852149Z",
     "start_time": "2019-03-02T17:20:04.830104Z"
    },
    "hidden": true
   },
   "outputs": [
    {
     "data": {
      "text/plain": [
       "-55361.806988078446"
      ]
     },
     "execution_count": 17,
     "metadata": {},
     "output_type": "execute_result"
    }
   ],
   "source": [
    "spm_results.bic"
   ]
  },
  {
   "cell_type": "code",
   "execution_count": 18,
   "metadata": {
    "ExecuteTime": {
     "end_time": "2019-03-02T17:20:04.879120Z",
     "start_time": "2019-03-02T17:20:04.854913Z"
    },
    "hidden": true
   },
   "outputs": [
    {
     "data": {
      "text/plain": [
       "(True, 4.0900616227190767e-13)"
      ]
     },
     "execution_count": 18,
     "metadata": {},
     "output_type": "execute_result"
    }
   ],
   "source": [
    "spm_pearson_results = goodness_fit.pearson_chi_squared_test(spm_results)\n",
    "spm_pearson_results"
   ]
  },
  {
   "cell_type": "code",
   "execution_count": 19,
   "metadata": {
    "ExecuteTime": {
     "end_time": "2019-03-02T17:20:04.914782Z",
     "start_time": "2019-03-02T17:20:04.882490Z"
    },
    "hidden": true
   },
   "outputs": [
    {
     "data": {
      "text/plain": [
       "count    6675.000000\n",
       "mean       -0.248634\n",
       "std         0.670186\n",
       "min        -0.462204\n",
       "25%        -0.462204\n",
       "50%        -0.462204\n",
       "75%        -0.462204\n",
       "max         3.771626\n",
       "dtype: float64"
      ]
     },
     "execution_count": 19,
     "metadata": {},
     "output_type": "execute_result"
    }
   ],
   "source": [
    "spm_results.resid_deviance.describe()"
   ]
  },
  {
   "cell_type": "code",
   "execution_count": 20,
   "metadata": {
    "ExecuteTime": {
     "end_time": "2019-03-02T17:20:05.248626Z",
     "start_time": "2019-03-02T17:20:04.918267Z"
    },
    "hidden": true
   },
   "outputs": [
    {
     "data": {
      "image/png": "[encoded data removed]",
      "text/plain": [
       "<Figure size 432x288 with 1 Axes>"
      ]
     },
     "metadata": {
      "needs_background": "light"
     },
     "output_type": "display_data"
    }
   ],
   "source": [
    "plt.figure()\n",
    "plt.hist(spm_results.resid_deviance)\n",
    "plt.show()"
   ]
  },
  {
   "cell_type": "markdown",
   "metadata": {
    "heading_collapsed": true,
    "hidden": true
   },
   "source": [
    "## Simple Poisson minutes model"
   ]
  },
  {
   "cell_type": "markdown",
   "metadata": {
    "hidden": true
   },
   "source": [
    "### Preparing data"
   ]
  },
  {
   "cell_type": "code",
   "execution_count": 21,
   "metadata": {
    "ExecuteTime": {
     "end_time": "2019-03-02T17:20:05.255212Z",
     "start_time": "2019-03-02T17:20:05.250968Z"
    },
    "hidden": true
   },
   "outputs": [],
   "source": [
    "spmm_df = element_gameweek_df.copy()"
   ]
  },
  {
   "cell_type": "code",
   "execution_count": 22,
   "metadata": {
    "ExecuteTime": {
     "end_time": "2019-03-02T17:20:05.275007Z",
     "start_time": "2019-03-02T17:20:05.257507Z"
    },
    "hidden": true
   },
   "outputs": [],
   "source": [
    "spmm_redundant_columns = [\n",
    "    'row_id', 'assists', 'attempted_passes', 'big_chances_created',\n",
    "    'big_chances_missed', 'bonus', 'bps', 'clean_sheets',\n",
    "    'clearances_blocks_interceptions', 'completed_passes', 'creativity',\n",
    "    'dribbles', 'ea_index', 'element', 'errors_leading_to_goal',\n",
    "    'errors_leading_to_goal_attempt', 'fixture', 'fouls', 'goals_conceded',\n",
    "    'ict_index', 'id', 'influence', 'key_passes', 'kickoff_time',\n",
    "    'kickoff_time_formatted', 'loaned_in', 'loaned_out', 'offside',\n",
    "    'open_play_crosses', 'opponent_team', 'own_goals', 'penalties_conceded',\n",
    "    'penalties_missed', 'penalties_saved', 'recoveries', 'red_cards', 'round',\n",
    "    'saves', 'selected', 'tackled', 'tackles', 'target_missed', 'team_a_score',\n",
    "    'team_h_score', 'threat', 'total_points', 'transfers_balance',\n",
    "    'transfers_in', 'transfers_out', 'value', 'winning_goals',\n",
    "    'yellow_cards', 'event', 'team_a', 'team_a_difficulty', 'team_h',\n",
    "    'team_h_difficulty', 'element_type', 'team', 'web_name', 'safe_web_name',\n",
    "    'own_team', 'opposition_team', 'was_home', 'minutes'\n",
    "]"
   ]
  },
  {
   "cell_type": "code",
   "execution_count": 23,
   "metadata": {
    "ExecuteTime": {
     "end_time": "2019-03-02T17:20:06.760725Z",
     "start_time": "2019-03-02T17:20:06.737003Z"
    },
    "hidden": true
   },
   "outputs": [],
   "source": [
    "spmm_df['log_minutes'] = np.log(spmm_df['minutes'])"
   ]
  },
  {
   "cell_type": "code",
   "execution_count": 24,
   "metadata": {
    "ExecuteTime": {
     "end_time": "2019-03-02T17:20:05.327457Z",
     "start_time": "2019-03-02T17:20:05.303391Z"
    },
    "hidden": true
   },
   "outputs": [],
   "source": [
    "spmm_df = player.remove_redundant_columns(spmm_df, spmm_redundant_columns)"
   ]
  },
  {
   "cell_type": "code",
   "execution_count": 25,
   "metadata": {
    "ExecuteTime": {
     "end_time": "2019-03-02T17:20:05.364079Z",
     "start_time": "2019-03-02T17:20:05.330676Z"
    },
    "hidden": true
   },
   "outputs": [],
   "source": [
    "spmm_response_df, spmm_explanatory_df = player.get_response_explanatory_dfs(spmm_df, 'goals_scored')"
   ]
  },
  {
   "cell_type": "code",
   "execution_count": 26,
   "metadata": {
    "ExecuteTime": {
     "end_time": "2019-03-02T17:20:05.385508Z",
     "start_time": "2019-03-02T17:20:05.366873Z"
    },
    "hidden": true
   },
   "outputs": [
    {
     "data": {
      "text/plain": [
       "Index(['const', 'log_minutes'], dtype='object')"
      ]
     },
     "execution_count": 26,
     "metadata": {},
     "output_type": "execute_result"
    }
   ],
   "source": [
    "spmm_explanatory_df.columns"
   ]
  },
  {
   "cell_type": "markdown",
   "metadata": {
    "hidden": true
   },
   "source": [
    "### Fitting model"
   ]
  },
  {
   "cell_type": "code",
   "execution_count": 27,
   "metadata": {
    "ExecuteTime": {
     "end_time": "2019-03-02T17:20:05.435452Z",
     "start_time": "2019-03-02T17:20:05.387882Z"
    },
    "hidden": true
   },
   "outputs": [],
   "source": [
    "spmm_results = sm.GLM(\n",
    "    spmm_response_df,\n",
    "    spmm_explanatory_df,\n",
    "    family=sm.families.Poisson(),\n",
    "    missing='drop'\n",
    ").fit()"
   ]
  },
  {
   "cell_type": "code",
   "execution_count": 28,
   "metadata": {
    "ExecuteTime": {
     "end_time": "2019-03-02T17:20:05.449630Z",
     "start_time": "2019-03-02T17:20:05.437820Z"
    },
    "hidden": true
   },
   "outputs": [
    {
     "name": "stdout",
     "output_type": "stream",
     "text": [
      "                 Generalized Linear Model Regression Results                  \n",
      "==============================================================================\n",
      "Dep. Variable:           goals_scored   No. Observations:                 6675\n",
      "Model:                            GLM   Df Residuals:                     6673\n",
      "Model Family:                 Poisson   Df Model:                            1\n",
      "Link Function:                    log   Scale:                             1.0\n",
      "Method:                          IRLS   Log-Likelihood:                -2321.7\n",
      "Date:                Sat, 02 Mar 2019   Deviance:                       3325.8\n",
      "Time:                        17:20:05   Pearson chi2:                 7.42e+03\n",
      "No. Iterations:                     6                                         \n",
      "===============================================================================\n",
      "                  coef    std err          z      P>|z|      [0.025      0.975]\n",
      "-------------------------------------------------------------------------------\n",
      "const          -4.4698      0.306    -14.596      0.000      -5.070      -3.870\n",
      "log_minutes     0.5349      0.071      7.542      0.000       0.396       0.674\n",
      "===============================================================================\n"
     ]
    }
   ],
   "source": [
    "print(spmm_results.summary())"
   ]
  },
  {
   "cell_type": "markdown",
   "metadata": {
    "hidden": true
   },
   "source": [
    "### Model fit"
   ]
  },
  {
   "cell_type": "code",
   "execution_count": 29,
   "metadata": {
    "ExecuteTime": {
     "end_time": "2019-03-02T17:20:05.469714Z",
     "start_time": "2019-03-02T17:20:05.452592Z"
    },
    "hidden": true
   },
   "outputs": [
    {
     "data": {
      "text/plain": [
       "4647.41549945014"
      ]
     },
     "execution_count": 29,
     "metadata": {},
     "output_type": "execute_result"
    }
   ],
   "source": [
    "spmm_results.aic"
   ]
  },
  {
   "cell_type": "code",
   "execution_count": 30,
   "metadata": {
    "ExecuteTime": {
     "end_time": "2019-03-02T17:20:05.494607Z",
     "start_time": "2019-03-02T17:20:05.472510Z"
    },
    "hidden": true
   },
   "outputs": [
    {
     "data": {
      "text/plain": [
       "-55437.4595490948"
      ]
     },
     "execution_count": 30,
     "metadata": {},
     "output_type": "execute_result"
    }
   ],
   "source": [
    "spmm_results.bic"
   ]
  },
  {
   "cell_type": "code",
   "execution_count": 31,
   "metadata": {
    "ExecuteTime": {
     "end_time": "2019-03-02T17:20:05.520654Z",
     "start_time": "2019-03-02T17:20:05.497418Z"
    },
    "hidden": true
   },
   "outputs": [
    {
     "data": {
      "text/plain": [
       "(True, 1.6869827756949007e-10)"
      ]
     },
     "execution_count": 31,
     "metadata": {},
     "output_type": "execute_result"
    }
   ],
   "source": [
    "spmm_pearson_results = goodness_fit.pearson_chi_squared_test(spmm_results)\n",
    "spmm_pearson_results"
   ]
  },
  {
   "cell_type": "code",
   "execution_count": 32,
   "metadata": {
    "ExecuteTime": {
     "end_time": "2019-03-02T17:20:05.552969Z",
     "start_time": "2019-03-02T17:20:05.523825Z"
    },
    "hidden": true
   },
   "outputs": [
    {
     "data": {
      "text/plain": [
       "count    6675.000000\n",
       "mean       -0.242323\n",
       "std         0.663019\n",
       "min        -0.504217\n",
       "25%        -0.504217\n",
       "50%        -0.504217\n",
       "75%        -0.357952\n",
       "max         3.778046\n",
       "dtype: float64"
      ]
     },
     "execution_count": 32,
     "metadata": {},
     "output_type": "execute_result"
    }
   ],
   "source": [
    "spmm_results.resid_deviance.describe()"
   ]
  },
  {
   "cell_type": "code",
   "execution_count": 33,
   "metadata": {
    "ExecuteTime": {
     "end_time": "2019-03-02T17:20:05.823604Z",
     "start_time": "2019-03-02T17:20:05.556130Z"
    },
    "hidden": true
   },
   "outputs": [
    {
     "data": {
      "image/png": "[encoded data removed]",
      "text/plain": [
       "<Figure size 432x288 with 1 Axes>"
      ]
     },
     "metadata": {
      "needs_background": "light"
     },
     "output_type": "display_data"
    }
   ],
   "source": [
    "plt.figure()\n",
    "plt.hist(spmm_results.resid_deviance)\n",
    "plt.show()"
   ]
  },
  {
   "cell_type": "markdown",
   "metadata": {
    "heading_collapsed": true,
    "hidden": true
   },
   "source": [
    "## Simple Poisson teams model"
   ]
  },
  {
   "cell_type": "markdown",
   "metadata": {
    "heading_collapsed": true,
    "hidden": true
   },
   "source": [
    "### Preparing data"
   ]
  },
  {
   "cell_type": "code",
   "execution_count": 34,
   "metadata": {
    "ExecuteTime": {
     "end_time": "2019-03-02T17:20:05.831120Z",
     "start_time": "2019-03-02T17:20:05.825916Z"
    },
    "hidden": true
   },
   "outputs": [],
   "source": [
    "sptm_df = element_gameweek_df.copy()"
   ]
  },
  {
   "cell_type": "code",
   "execution_count": 35,
   "metadata": {
    "ExecuteTime": {
     "end_time": "2019-03-02T17:20:05.868426Z",
     "start_time": "2019-03-02T17:20:05.833458Z"
    },
    "hidden": true
   },
   "outputs": [],
   "source": [
    "sptm_df = player.add_categorical_variables(sptm_df, 'element_type')\n",
    "sptm_df = player.add_categorical_variables(sptm_df, 'opposition_team')\n",
    "sptm_df = player.add_categorical_variables(sptm_df, 'own_team')"
   ]
  },
  {
   "cell_type": "code",
   "execution_count": 36,
   "metadata": {
    "ExecuteTime": {
     "end_time": "2019-03-02T17:20:05.893061Z",
     "start_time": "2019-03-02T17:20:05.871364Z"
    },
    "hidden": true
   },
   "outputs": [],
   "source": [
    "sptm_redundant_columns = [\n",
    "    'row_id', 'assists', 'attempted_passes', 'big_chances_created',\n",
    "    'big_chances_missed', 'bonus', 'bps', 'clean_sheets',\n",
    "    'clearances_blocks_interceptions', 'completed_passes', 'creativity',\n",
    "    'dribbles', 'ea_index', 'element', 'errors_leading_to_goal',\n",
    "    'errors_leading_to_goal_attempt', 'fixture', 'fouls', 'goals_conceded',\n",
    "    'ict_index', 'id', 'influence', 'key_passes', 'kickoff_time',\n",
    "    'kickoff_time_formatted', 'loaned_in', 'loaned_out', 'minutes', 'offside',\n",
    "    'open_play_crosses', 'opponent_team', 'own_goals', 'penalties_conceded',\n",
    "    'penalties_missed', 'penalties_saved', 'recoveries', 'red_cards', 'round',\n",
    "    'saves', 'selected', 'tackled', 'tackles', 'target_missed', 'team_a_score',\n",
    "    'team_h_score', 'threat', 'total_points', 'transfers_balance',\n",
    "    'transfers_in', 'transfers_out', 'value', 'winning_goals',\n",
    "    'yellow_cards', 'event', 'team_a', 'team_a_difficulty', 'team_h',\n",
    "    'team_h_difficulty', 'element_type', 'team', 'web_name', 'safe_web_name',\n",
    "    'own_team', 'opposition_team'\n",
    "]"
   ]
  },
  {
   "cell_type": "code",
   "execution_count": 37,
   "metadata": {
    "ExecuteTime": {
     "end_time": "2019-03-02T17:20:05.924084Z",
     "start_time": "2019-03-02T17:20:05.895646Z"
    },
    "hidden": true
   },
   "outputs": [],
   "source": [
    "sptm_df = player.remove_redundant_columns(sptm_df, sptm_redundant_columns)"
   ]
  },
  {
   "cell_type": "code",
   "execution_count": 38,
   "metadata": {
    "ExecuteTime": {
     "end_time": "2019-03-02T17:20:05.970902Z",
     "start_time": "2019-03-02T17:20:05.926698Z"
    },
    "hidden": true
   },
   "outputs": [],
   "source": [
    "sptm_response_df, sptm_explanatory_df = player.get_response_explanatory_dfs(sptm_df, 'goals_scored')"
   ]
  },
  {
   "cell_type": "code",
   "execution_count": 39,
   "metadata": {
    "ExecuteTime": {
     "end_time": "2019-03-02T17:20:05.978841Z",
     "start_time": "2019-03-02T17:20:05.973377Z"
    },
    "hidden": true
   },
   "outputs": [
    {
     "data": {
      "text/plain": [
       "Index(['const', 'was_home', 'element_type_3', 'element_type_4',\n",
       "       'opposition_team_2', 'opposition_team_3', 'opposition_team_4',\n",
       "       'opposition_team_5', 'opposition_team_6', 'opposition_team_7',\n",
       "       'opposition_team_8', 'opposition_team_9', 'opposition_team_10',\n",
       "       'opposition_team_11', 'opposition_team_12', 'opposition_team_13',\n",
       "       'opposition_team_14', 'opposition_team_15', 'opposition_team_16',\n",
       "       'opposition_team_17', 'opposition_team_18', 'opposition_team_19',\n",
       "       'opposition_team_20', 'own_team_2', 'own_team_3', 'own_team_4',\n",
       "       'own_team_5', 'own_team_6', 'own_team_7', 'own_team_8', 'own_team_9',\n",
       "       'own_team_10', 'own_team_11', 'own_team_12', 'own_team_13',\n",
       "       'own_team_14', 'own_team_15', 'own_team_16', 'own_team_17',\n",
       "       'own_team_18', 'own_team_19', 'own_team_20'],\n",
       "      dtype='object')"
      ]
     },
     "execution_count": 39,
     "metadata": {},
     "output_type": "execute_result"
    }
   ],
   "source": [
    "sptm_explanatory_df.columns"
   ]
  },
  {
   "cell_type": "code",
   "execution_count": 40,
   "metadata": {
    "ExecuteTime": {
     "end_time": "2019-03-02T17:20:06.006330Z",
     "start_time": "2019-03-02T17:20:05.981210Z"
    },
    "hidden": true
   },
   "outputs": [
    {
     "data": {
      "text/plain": [
       "74    0\n",
       "76    0\n",
       "77    0\n",
       "78    0\n",
       "79    0\n",
       "Name: goals_scored, dtype: int64"
      ]
     },
     "execution_count": 40,
     "metadata": {},
     "output_type": "execute_result"
    }
   ],
   "source": [
    "sptm_response_df.head()"
   ]
  },
  {
   "cell_type": "markdown",
   "metadata": {
    "heading_collapsed": true,
    "hidden": true
   },
   "source": [
    "### Fitting model"
   ]
  },
  {
   "cell_type": "code",
   "execution_count": 41,
   "metadata": {
    "ExecuteTime": {
     "end_time": "2019-03-02T17:20:06.246195Z",
     "start_time": "2019-03-02T17:20:06.009275Z"
    },
    "hidden": true
   },
   "outputs": [],
   "source": [
    "sptm_results = sm.GLM(\n",
    "    sptm_response_df,\n",
    "    sptm_explanatory_df,\n",
    "    family=sm.families.Poisson(),\n",
    "    missing='drop'\n",
    ").fit()"
   ]
  },
  {
   "cell_type": "code",
   "execution_count": 42,
   "metadata": {
    "ExecuteTime": {
     "end_time": "2019-03-02T17:20:06.301721Z",
     "start_time": "2019-03-02T17:20:06.250077Z"
    },
    "hidden": true
   },
   "outputs": [
    {
     "name": "stdout",
     "output_type": "stream",
     "text": [
      "                 Generalized Linear Model Regression Results                  \n",
      "==============================================================================\n",
      "Dep. Variable:           goals_scored   No. Observations:                 6675\n",
      "Model:                            GLM   Df Residuals:                     6633\n",
      "Model Family:                 Poisson   Df Model:                           41\n",
      "Link Function:                    log   Scale:                             1.0\n",
      "Method:                          IRLS   Log-Likelihood:                -2161.4\n",
      "Date:                Sat, 02 Mar 2019   Deviance:                       3005.2\n",
      "Time:                        17:20:06   Pearson chi2:                 7.42e+03\n",
      "No. Iterations:                     6                                         \n",
      "======================================================================================\n",
      "                         coef    std err          z      P>|z|      [0.025      0.975]\n",
      "--------------------------------------------------------------------------------------\n",
      "const                 -3.0213      0.248    -12.170      0.000      -3.508      -2.535\n",
      "was_home               0.1759      0.076      2.330      0.020       0.028       0.324\n",
      "element_type_3         0.9949      0.113      8.769      0.000       0.773       1.217\n",
      "element_type_4         1.7478      0.119     14.630      0.000       1.514       1.982\n",
      "opposition_team_2      0.2086      0.226      0.922      0.356      -0.235       0.652\n",
      "opposition_team_3      0.1013      0.234      0.433      0.665      -0.357       0.559\n",
      "opposition_team_4      0.2849      0.225      1.264      0.206      -0.157       0.727\n",
      "opposition_team_5      0.3309      0.225      1.469      0.142      -0.111       0.772\n",
      "opposition_team_6     -0.1475      0.253     -0.584      0.559      -0.643       0.348\n",
      "opposition_team_7     -0.0362      0.242     -0.150      0.881      -0.510       0.437\n",
      "opposition_team_8      0.0413      0.237      0.174      0.862      -0.423       0.506\n",
      "opposition_team_9      0.4593      0.218      2.106      0.035       0.032       0.887\n",
      "opposition_team_10     0.2855      0.224      1.273      0.203      -0.154       0.725\n",
      "opposition_team_11    -0.0582      0.242     -0.240      0.810      -0.533       0.416\n",
      "opposition_team_12    -0.8300      0.310     -2.679      0.007      -1.437      -0.223\n",
      "opposition_team_13    -0.5346      0.282     -1.897      0.058      -1.087       0.018\n",
      "opposition_team_14     0.0055      0.244      0.022      0.982      -0.473       0.484\n",
      "opposition_team_15    -0.1382      0.244     -0.568      0.570      -0.616       0.339\n",
      "opposition_team_16     0.1565      0.231      0.677      0.498      -0.296       0.609\n",
      "opposition_team_17    -0.3026      0.266     -1.137      0.256      -0.824       0.219\n",
      "opposition_team_18    -0.0450      0.248     -0.181      0.856      -0.532       0.442\n",
      "opposition_team_19     0.0635      0.236      0.269      0.788      -0.399       0.526\n",
      "opposition_team_20    -0.1420      0.250     -0.568      0.570      -0.632       0.348\n",
      "own_team_2            -0.2700      0.219     -1.234      0.217      -0.699       0.159\n",
      "own_team_3            -0.5466      0.238     -2.298      0.022      -1.013      -0.080\n",
      "own_team_4            -0.6402      0.241     -2.659      0.008      -1.112      -0.168\n",
      "own_team_5            -0.6274      0.251     -2.498      0.013      -1.120      -0.135\n",
      "own_team_6            -0.0446      0.210     -0.213      0.832      -0.456       0.366\n",
      "own_team_7            -0.5663      0.244     -2.325      0.020      -1.044      -0.089\n",
      "own_team_8            -0.3068      0.221     -1.389      0.165      -0.740       0.126\n",
      "own_team_9            -0.6503      0.251     -2.590      0.010      -1.142      -0.158\n",
      "own_team_10           -1.3646      0.323     -4.226      0.000      -1.997      -0.732\n",
      "own_team_11           -0.5416      0.238     -2.276      0.023      -1.008      -0.075\n",
      "own_team_12            0.1885      0.197      0.959      0.338      -0.197       0.574\n",
      "own_team_13            0.3766      0.188      2.002      0.045       0.008       0.745\n",
      "own_team_14            0.0953      0.201      0.475      0.635      -0.298       0.489\n",
      "own_team_15           -0.8222      0.262     -3.141      0.002      -1.335      -0.309\n",
      "own_team_16           -0.6054      0.241     -2.515      0.012      -1.077      -0.134\n",
      "own_team_17            0.1859      0.199      0.932      0.351      -0.205       0.577\n",
      "own_team_18           -0.3880      0.227     -1.712      0.087      -0.832       0.056\n",
      "own_team_19           -0.4443      0.231     -1.920      0.055      -0.898       0.009\n",
      "own_team_20           -0.1755      0.225     -0.781      0.435      -0.616       0.265\n",
      "======================================================================================\n"
     ]
    }
   ],
   "source": [
    "print(sptm_results.summary())"
   ]
  },
  {
   "cell_type": "markdown",
   "metadata": {
    "hidden": true
   },
   "source": [
    "### Model fit"
   ]
  },
  {
   "cell_type": "code",
   "execution_count": 43,
   "metadata": {
    "ExecuteTime": {
     "end_time": "2019-03-02T17:20:06.311080Z",
     "start_time": "2019-03-02T17:20:06.304761Z"
    },
    "hidden": true
   },
   "outputs": [
    {
     "data": {
      "text/plain": [
       "4406.853354863553"
      ]
     },
     "execution_count": 43,
     "metadata": {},
     "output_type": "execute_result"
    }
   ],
   "source": [
    "sptm_results.aic"
   ]
  },
  {
   "cell_type": "code",
   "execution_count": 44,
   "metadata": {
    "ExecuteTime": {
     "end_time": "2019-03-02T17:20:06.339748Z",
     "start_time": "2019-03-02T17:20:06.313844Z"
    },
    "hidden": true
   },
   "outputs": [
    {
     "data": {
      "text/plain": [
       "-55405.77671435065"
      ]
     },
     "execution_count": 44,
     "metadata": {},
     "output_type": "execute_result"
    }
   ],
   "source": [
    "sptm_results.bic"
   ]
  },
  {
   "cell_type": "code",
   "execution_count": 45,
   "metadata": {
    "ExecuteTime": {
     "end_time": "2019-03-02T17:20:06.376630Z",
     "start_time": "2019-03-02T17:20:06.347060Z"
    },
    "hidden": true
   },
   "outputs": [
    {
     "data": {
      "text/plain": [
       "(True, 2.277722455090725e-11)"
      ]
     },
     "execution_count": 45,
     "metadata": {},
     "output_type": "execute_result"
    }
   ],
   "source": [
    "sptm_pearson_results = goodness_fit.pearson_chi_squared_test(sptm_results)\n",
    "sptm_pearson_results"
   ]
  },
  {
   "cell_type": "code",
   "execution_count": 46,
   "metadata": {
    "ExecuteTime": {
     "end_time": "2019-03-02T17:20:06.399678Z",
     "start_time": "2019-03-02T17:20:06.381500Z"
    },
    "hidden": true
   },
   "outputs": [
    {
     "data": {
      "text/plain": [
       "count    6675.000000\n",
       "mean       -0.223586\n",
       "std         0.632687\n",
       "min        -1.240809\n",
       "25%        -0.502521\n",
       "50%        -0.371939\n",
       "75%        -0.254570\n",
       "max         3.653135\n",
       "dtype: float64"
      ]
     },
     "execution_count": 46,
     "metadata": {},
     "output_type": "execute_result"
    }
   ],
   "source": [
    "sptm_results.resid_deviance.describe()"
   ]
  },
  {
   "cell_type": "code",
   "execution_count": 47,
   "metadata": {
    "ExecuteTime": {
     "end_time": "2019-03-02T17:20:06.669525Z",
     "start_time": "2019-03-02T17:20:06.401692Z"
    },
    "hidden": true
   },
   "outputs": [
    {
     "data": {
      "image/png": "[encoded data removed]",
      "text/plain": [
       "<Figure size 432x288 with 1 Axes>"
      ]
     },
     "metadata": {
      "needs_background": "light"
     },
     "output_type": "display_data"
    }
   ],
   "source": [
    "plt.figure()\n",
    "plt.hist(sptm_results.resid_deviance)\n",
    "plt.show()"
   ]
  },
  {
   "cell_type": "markdown",
   "metadata": {
    "heading_collapsed": true,
    "hidden": true
   },
   "source": [
    "## Simple Poisson teams minutes model"
   ]
  },
  {
   "cell_type": "markdown",
   "metadata": {
    "hidden": true
   },
   "source": [
    "### Preparing data"
   ]
  },
  {
   "cell_type": "code",
   "execution_count": 48,
   "metadata": {
    "ExecuteTime": {
     "end_time": "2019-03-02T17:20:06.675915Z",
     "start_time": "2019-03-02T17:20:06.671645Z"
    },
    "hidden": true
   },
   "outputs": [],
   "source": [
    "sptmm_df = element_gameweek_df.copy()"
   ]
  },
  {
   "cell_type": "code",
   "execution_count": 49,
   "metadata": {
    "ExecuteTime": {
     "end_time": "2019-03-02T17:20:06.714394Z",
     "start_time": "2019-03-02T17:20:06.677908Z"
    },
    "hidden": true
   },
   "outputs": [],
   "source": [
    "sptmm_df = player.add_categorical_variables(sptmm_df, 'element_type')\n",
    "sptmm_df = player.add_categorical_variables(sptmm_df, 'opposition_team')\n",
    "sptmm_df = player.add_categorical_variables(sptmm_df, 'own_team')"
   ]
  },
  {
   "cell_type": "code",
   "execution_count": 50,
   "metadata": {
    "ExecuteTime": {
     "end_time": "2019-03-02T17:20:06.735023Z",
     "start_time": "2019-03-02T17:20:06.716632Z"
    },
    "hidden": true
   },
   "outputs": [],
   "source": [
    "sptmm_redundant_columns = [\n",
    "    'row_id', 'assists', 'attempted_passes', 'big_chances_created',\n",
    "    'big_chances_missed', 'bonus', 'bps', 'clean_sheets',\n",
    "    'clearances_blocks_interceptions', 'completed_passes', 'creativity',\n",
    "    'dribbles', 'ea_index', 'element', 'errors_leading_to_goal',\n",
    "    'errors_leading_to_goal_attempt', 'fixture', 'fouls', 'goals_conceded',\n",
    "    'ict_index', 'id', 'influence', 'key_passes', 'kickoff_time',\n",
    "    'kickoff_time_formatted', 'loaned_in', 'loaned_out', 'offside',\n",
    "    'open_play_crosses', 'opponent_team', 'own_goals', 'penalties_conceded',\n",
    "    'penalties_missed', 'penalties_saved', 'recoveries', 'red_cards', 'round',\n",
    "    'saves', 'selected', 'tackled', 'tackles', 'target_missed', 'team_a_score',\n",
    "    'team_h_score', 'threat', 'total_points', 'transfers_balance',\n",
    "    'transfers_in', 'transfers_out', 'value', 'winning_goals',\n",
    "    'yellow_cards', 'event', 'team_a', 'team_a_difficulty', 'team_h',\n",
    "    'team_h_difficulty', 'element_type', 'team', 'web_name', 'safe_web_name',\n",
    "    'own_team', 'opposition_team', 'minutes'\n",
    "]"
   ]
  },
  {
   "cell_type": "code",
   "execution_count": 51,
   "metadata": {
    "ExecuteTime": {
     "end_time": "2019-03-02T17:20:06.760725Z",
     "start_time": "2019-03-02T17:20:06.737003Z"
    },
    "hidden": true
   },
   "outputs": [],
   "source": [
    "sptmm_df['log_minutes'] = np.log(sptmm_df['minutes'])"
   ]
  },
  {
   "cell_type": "code",
   "execution_count": 52,
   "metadata": {
    "ExecuteTime": {
     "end_time": "2019-03-02T17:20:06.789600Z",
     "start_time": "2019-03-02T17:20:06.762811Z"
    },
    "hidden": true
   },
   "outputs": [],
   "source": [
    "sptmm_df = player.remove_redundant_columns(sptmm_df, sptmm_redundant_columns)"
   ]
  },
  {
   "cell_type": "code",
   "execution_count": 53,
   "metadata": {
    "ExecuteTime": {
     "end_time": "2019-03-02T17:20:06.850592Z",
     "start_time": "2019-03-02T17:20:06.791925Z"
    },
    "hidden": true
   },
   "outputs": [],
   "source": [
    "sptmm_response_df, sptmm_explanatory_df = player.get_response_explanatory_dfs(sptmm_df, 'goals_scored')"
   ]
  },
  {
   "cell_type": "code",
   "execution_count": 54,
   "metadata": {
    "ExecuteTime": {
     "end_time": "2019-03-02T17:20:06.857517Z",
     "start_time": "2019-03-02T17:20:06.852753Z"
    },
    "hidden": true
   },
   "outputs": [
    {
     "data": {
      "text/plain": [
       "Index(['const', 'was_home', 'element_type_3', 'element_type_4',\n",
       "       'opposition_team_2', 'opposition_team_3', 'opposition_team_4',\n",
       "       'opposition_team_5', 'opposition_team_6', 'opposition_team_7',\n",
       "       'opposition_team_8', 'opposition_team_9', 'opposition_team_10',\n",
       "       'opposition_team_11', 'opposition_team_12', 'opposition_team_13',\n",
       "       'opposition_team_14', 'opposition_team_15', 'opposition_team_16',\n",
       "       'opposition_team_17', 'opposition_team_18', 'opposition_team_19',\n",
       "       'opposition_team_20', 'own_team_2', 'own_team_3', 'own_team_4',\n",
       "       'own_team_5', 'own_team_6', 'own_team_7', 'own_team_8', 'own_team_9',\n",
       "       'own_team_10', 'own_team_11', 'own_team_12', 'own_team_13',\n",
       "       'own_team_14', 'own_team_15', 'own_team_16', 'own_team_17',\n",
       "       'own_team_18', 'own_team_19', 'own_team_20', 'log_minutes'],\n",
       "      dtype='object')"
      ]
     },
     "execution_count": 54,
     "metadata": {},
     "output_type": "execute_result"
    }
   ],
   "source": [
    "sptmm_explanatory_df.columns"
   ]
  },
  {
   "cell_type": "markdown",
   "metadata": {
    "hidden": true
   },
   "source": [
    "### Fitting model"
   ]
  },
  {
   "cell_type": "code",
   "execution_count": 55,
   "metadata": {
    "ExecuteTime": {
     "end_time": "2019-03-02T17:20:07.166100Z",
     "start_time": "2019-03-02T17:20:06.859394Z"
    },
    "hidden": true
   },
   "outputs": [],
   "source": [
    "sptmm_results = sm.GLM(\n",
    "    sptmm_response_df,\n",
    "    sptmm_explanatory_df,\n",
    "    family=sm.families.Poisson(),\n",
    "    missing='drop'\n",
    ").fit()"
   ]
  },
  {
   "cell_type": "code",
   "execution_count": 56,
   "metadata": {
    "ExecuteTime": {
     "end_time": "2019-03-02T17:20:07.218368Z",
     "start_time": "2019-03-02T17:20:07.169640Z"
    },
    "hidden": true
   },
   "outputs": [
    {
     "name": "stdout",
     "output_type": "stream",
     "text": [
      "                 Generalized Linear Model Regression Results                  \n",
      "==============================================================================\n",
      "Dep. Variable:           goals_scored   No. Observations:                 6675\n",
      "Model:                            GLM   Df Residuals:                     6632\n",
      "Model Family:                 Poisson   Df Model:                           42\n",
      "Link Function:                    log   Scale:                             1.0\n",
      "Method:                          IRLS   Log-Likelihood:                -2073.0\n",
      "Date:                Sat, 02 Mar 2019   Deviance:                       2828.5\n",
      "Time:                        17:20:07   Pearson chi2:                 8.04e+03\n",
      "No. Iterations:                     6                                         \n",
      "======================================================================================\n",
      "                         coef    std err          z      P>|z|      [0.025      0.975]\n",
      "--------------------------------------------------------------------------------------\n",
      "const                 -6.6315      0.433    -15.312      0.000      -7.480      -5.783\n",
      "was_home               0.1689      0.076      2.235      0.025       0.021       0.317\n",
      "element_type_3         1.1736      0.114     10.291      0.000       0.950       1.397\n",
      "element_type_4         2.0717      0.121     17.107      0.000       1.834       2.309\n",
      "opposition_team_2      0.2325      0.226      1.028      0.304      -0.211       0.676\n",
      "opposition_team_3      0.1088      0.234      0.465      0.642      -0.349       0.567\n",
      "opposition_team_4      0.2866      0.225      1.271      0.204      -0.155       0.728\n",
      "opposition_team_5      0.3233      0.225      1.435      0.151      -0.118       0.765\n",
      "opposition_team_6     -0.1268      0.253     -0.502      0.616      -0.622       0.368\n",
      "opposition_team_7     -0.0372      0.242     -0.154      0.878      -0.511       0.436\n",
      "opposition_team_8      0.0463      0.237      0.195      0.845      -0.418       0.511\n",
      "opposition_team_9      0.4523      0.218      2.073      0.038       0.025       0.880\n",
      "opposition_team_10     0.2534      0.224      1.130      0.259      -0.186       0.693\n",
      "opposition_team_11    -0.0501      0.242     -0.207      0.836      -0.524       0.424\n",
      "opposition_team_12    -0.8218      0.310     -2.653      0.008      -1.429      -0.215\n",
      "opposition_team_13    -0.5368      0.282     -1.905      0.057      -1.089       0.015\n",
      "opposition_team_14     0.0087      0.244      0.036      0.972      -0.470       0.487\n",
      "opposition_team_15    -0.1309      0.244     -0.538      0.591      -0.608       0.346\n",
      "opposition_team_16     0.1434      0.231      0.621      0.535      -0.309       0.596\n",
      "opposition_team_17    -0.2737      0.266     -1.028      0.304      -0.796       0.248\n",
      "opposition_team_18    -0.0846      0.248     -0.341      0.733      -0.571       0.402\n",
      "opposition_team_19     0.0733      0.236      0.310      0.756      -0.389       0.536\n",
      "opposition_team_20    -0.1551      0.250     -0.621      0.535      -0.645       0.335\n",
      "own_team_2            -0.2467      0.219     -1.128      0.259      -0.675       0.182\n",
      "own_team_3            -0.5056      0.238     -2.125      0.034      -0.972      -0.039\n",
      "own_team_4            -0.6181      0.241     -2.568      0.010      -1.090      -0.146\n",
      "own_team_5            -0.5478      0.252     -2.178      0.029      -1.041      -0.055\n",
      "own_team_6             0.0260      0.210      0.124      0.902      -0.386       0.438\n",
      "own_team_7            -0.5729      0.243     -2.353      0.019      -1.050      -0.096\n",
      "own_team_8            -0.1945      0.221     -0.879      0.380      -0.628       0.239\n",
      "own_team_9            -0.6605      0.251     -2.631      0.009      -1.153      -0.169\n",
      "own_team_10           -1.3101      0.323     -4.057      0.000      -1.943      -0.677\n",
      "own_team_11           -0.4597      0.238     -1.931      0.053      -0.926       0.007\n",
      "own_team_12            0.2256      0.197      1.146      0.252      -0.160       0.611\n",
      "own_team_13            0.4116      0.188      2.186      0.029       0.043       0.781\n",
      "own_team_14            0.1093      0.201      0.545      0.586      -0.284       0.503\n",
      "own_team_15           -0.8488      0.262     -3.243      0.001      -1.362      -0.336\n",
      "own_team_16           -0.5233      0.241     -2.174      0.030      -0.995      -0.052\n",
      "own_team_17            0.2034      0.200      1.019      0.308      -0.188       0.595\n",
      "own_team_18           -0.3695      0.227     -1.629      0.103      -0.814       0.075\n",
      "own_team_19           -0.3785      0.231     -1.635      0.102      -0.832       0.075\n",
      "own_team_20           -0.1240      0.225     -0.552      0.581      -0.564       0.316\n",
      "log_minutes            0.8161      0.080     10.237      0.000       0.660       0.972\n",
      "======================================================================================\n"
     ]
    }
   ],
   "source": [
    "print(sptmm_results.summary())"
   ]
  },
  {
   "cell_type": "markdown",
   "metadata": {
    "hidden": true
   },
   "source": [
    "### Model fit"
   ]
  },
  {
   "cell_type": "code",
   "execution_count": 57,
   "metadata": {
    "ExecuteTime": {
     "end_time": "2019-03-02T17:20:07.240091Z",
     "start_time": "2019-03-02T17:20:07.225584Z"
    },
    "hidden": true
   },
   "outputs": [
    {
     "data": {
      "text/plain": [
       "4232.064430637609"
      ]
     },
     "execution_count": 57,
     "metadata": {},
     "output_type": "execute_result"
    }
   ],
   "source": [
    "sptmm_results.aic"
   ]
  },
  {
   "cell_type": "code",
   "execution_count": 58,
   "metadata": {
    "ExecuteTime": {
     "end_time": "2019-03-02T17:20:07.263686Z",
     "start_time": "2019-03-02T17:20:07.247178Z"
    },
    "hidden": true
   },
   "outputs": [
    {
     "data": {
      "text/plain": [
       "-55573.759514093326"
      ]
     },
     "execution_count": 58,
     "metadata": {},
     "output_type": "execute_result"
    }
   ],
   "source": [
    "sptmm_results.bic"
   ]
  },
  {
   "cell_type": "code",
   "execution_count": 59,
   "metadata": {
    "ExecuteTime": {
     "end_time": "2019-03-02T17:20:07.290729Z",
     "start_time": "2019-03-02T17:20:07.271254Z"
    },
    "hidden": true
   },
   "outputs": [
    {
     "data": {
      "text/plain": [
       "(True, 0.0)"
      ]
     },
     "execution_count": 59,
     "metadata": {},
     "output_type": "execute_result"
    }
   ],
   "source": [
    "sptmm_pearson_results = goodness_fit.pearson_chi_squared_test(sptmm_results)\n",
    "sptmm_pearson_results"
   ]
  },
  {
   "cell_type": "code",
   "execution_count": 60,
   "metadata": {
    "ExecuteTime": {
     "end_time": "2019-03-02T17:20:07.338584Z",
     "start_time": "2019-03-02T17:20:07.299114Z"
    },
    "hidden": true
   },
   "outputs": [
    {
     "data": {
      "text/plain": [
       "count    6675.000000\n",
       "mean       -0.212693\n",
       "std         0.615270\n",
       "min        -1.385815\n",
       "25%        -0.481830\n",
       "50%        -0.334110\n",
       "75%        -0.231489\n",
       "max         3.479623\n",
       "dtype: float64"
      ]
     },
     "execution_count": 60,
     "metadata": {},
     "output_type": "execute_result"
    }
   ],
   "source": [
    "sptmm_results.resid_deviance.describe()"
   ]
  },
  {
   "cell_type": "code",
   "execution_count": 61,
   "metadata": {
    "ExecuteTime": {
     "end_time": "2019-03-02T17:20:07.653033Z",
     "start_time": "2019-03-02T17:20:07.341023Z"
    },
    "hidden": true
   },
   "outputs": [
    {
     "data": {
      "image/png": "[encoded data removed]",
      "text/plain": [
       "<Figure size 432x288 with 1 Axes>"
      ]
     },
     "metadata": {
      "needs_background": "light"
     },
     "output_type": "display_data"
    }
   ],
   "source": [
    "plt.figure()\n",
    "plt.hist(sptmm_results.resid_deviance)\n",
    "plt.show()"
   ]
  },
  {
   "cell_type": "markdown",
   "metadata": {
    "heading_collapsed": true,
    "hidden": true
   },
   "source": [
    "## Simple Poisson player model"
   ]
  },
  {
   "cell_type": "markdown",
   "metadata": {
    "hidden": true
   },
   "source": [
    "### Preparing data"
   ]
  },
  {
   "cell_type": "code",
   "execution_count": 149,
   "metadata": {
    "ExecuteTime": {
     "end_time": "2019-03-15T16:59:14.883930Z",
     "start_time": "2019-03-15T16:59:14.872495Z"
    },
    "hidden": true
   },
   "outputs": [],
   "source": [
    "sppm_df = element_gameweek_df.copy()"
   ]
  },
  {
   "cell_type": "code",
   "execution_count": 150,
   "metadata": {
    "ExecuteTime": {
     "end_time": "2019-03-15T16:59:15.391928Z",
     "start_time": "2019-03-15T16:59:15.348770Z"
    },
    "hidden": true
   },
   "outputs": [],
   "source": [
    "sppm_df = player.add_categorical_variables(sppm_df, 'opposition_team')\n",
    "sppm_df = player.add_categorical_variables(sppm_df, 'element')"
   ]
  },
  {
   "cell_type": "code",
   "execution_count": 151,
   "metadata": {
    "ExecuteTime": {
     "end_time": "2019-03-15T16:59:16.765191Z",
     "start_time": "2019-03-15T16:59:16.751771Z"
    },
    "hidden": true
   },
   "outputs": [],
   "source": [
    "sppm_redundant_columns = [\n",
    "    'row_id', 'assists', 'attempted_passes', 'big_chances_created',\n",
    "    'big_chances_missed', 'bonus', 'bps', 'clean_sheets',\n",
    "    'clearances_blocks_interceptions', 'completed_passes', 'creativity',\n",
    "    'dribbles', 'ea_index', 'element', 'errors_leading_to_goal',\n",
    "    'errors_leading_to_goal_attempt', 'fixture', 'fouls', 'goals_conceded',\n",
    "    'ict_index', 'id', 'influence', 'key_passes', 'kickoff_time',\n",
    "    'kickoff_time_formatted', 'loaned_in', 'loaned_out', 'minutes', 'offside',\n",
    "    'open_play_crosses', 'opponent_team', 'own_goals', 'penalties_conceded',\n",
    "    'penalties_missed', 'penalties_saved', 'recoveries', 'red_cards', 'round',\n",
    "    'saves', 'selected', 'tackled', 'tackles', 'target_missed', 'team_a_score',\n",
    "    'team_h_score', 'threat', 'total_points', 'transfers_balance',\n",
    "    'transfers_in', 'transfers_out', 'value', 'winning_goals',\n",
    "    'yellow_cards', 'event', 'team_a', 'team_a_difficulty', 'team_h',\n",
    "    'team_h_difficulty', 'element_type', 'team', 'web_name', 'safe_web_name',\n",
    "    'own_team', 'opposition_team', 'was_home'\n",
    "]"
   ]
  },
  {
   "cell_type": "code",
   "execution_count": 152,
   "metadata": {
    "ExecuteTime": {
     "end_time": "2019-03-15T16:59:17.821041Z",
     "start_time": "2019-03-15T16:59:17.799690Z"
    },
    "hidden": true
   },
   "outputs": [],
   "source": [
    "sppm_df = player.remove_redundant_columns(sppm_df, sppm_redundant_columns)"
   ]
  },
  {
   "cell_type": "code",
   "execution_count": 153,
   "metadata": {
    "ExecuteTime": {
     "end_time": "2019-03-15T16:59:19.243908Z",
     "start_time": "2019-03-15T16:59:18.948826Z"
    },
    "hidden": true
   },
   "outputs": [],
   "source": [
    "sppm_response_df, sppm_explanatory_df = player.get_response_explanatory_dfs(sppm_df, 'goals_scored')"
   ]
  },
  {
   "cell_type": "code",
   "execution_count": 154,
   "metadata": {
    "ExecuteTime": {
     "end_time": "2019-03-15T16:59:19.547797Z",
     "start_time": "2019-03-15T16:59:19.538770Z"
    },
    "hidden": true
   },
   "outputs": [
    {
     "data": {
      "text/plain": [
       "Index(['const', 'opposition_team_2', 'opposition_team_3', 'opposition_team_4',\n",
       "       'opposition_team_5', 'opposition_team_6', 'opposition_team_7',\n",
       "       'opposition_team_8', 'opposition_team_9', 'opposition_team_10',\n",
       "       ...\n",
       "       'element_580', 'element_581', 'element_585', 'element_586',\n",
       "       'element_587', 'element_588', 'element_589', 'element_590',\n",
       "       'element_591', 'element_592'],\n",
       "      dtype='object', length=466)"
      ]
     },
     "execution_count": 154,
     "metadata": {},
     "output_type": "execute_result"
    }
   ],
   "source": [
    "sppm_explanatory_df.columns"
   ]
  },
  {
   "cell_type": "markdown",
   "metadata": {
    "hidden": true
   },
   "source": [
    "### Fitting model"
   ]
  },
  {
   "cell_type": "code",
   "execution_count": 156,
   "metadata": {
    "ExecuteTime": {
     "end_time": "2019-03-15T16:59:40.649022Z",
     "start_time": "2019-03-15T16:59:26.993531Z"
    },
    "hidden": true
   },
   "outputs": [],
   "source": [
    "sppm_results = sm.GLM(\n",
    "    sppm_response_df,\n",
    "    sppm_explanatory_df,\n",
    "    family=sm.families.Poisson(),\n",
    "    missing='drop'\n",
    ").fit()"
   ]
  },
  {
   "cell_type": "code",
   "execution_count": 157,
   "metadata": {
    "ExecuteTime": {
     "end_time": "2019-03-15T16:59:40.919839Z",
     "start_time": "2019-03-15T16:59:40.658916Z"
    },
    "hidden": true
   },
   "outputs": [
    {
     "name": "stdout",
     "output_type": "stream",
     "text": [
      "                 Generalized Linear Model Regression Results                  \n",
      "==============================================================================\n",
      "Dep. Variable:           goals_scored   No. Observations:                 6675\n",
      "Model:                            GLM   Df Residuals:                     6209\n",
      "Model Family:                 Poisson   Df Model:                          465\n",
      "Link Function:                    log   Scale:                             1.0\n",
      "Method:                          IRLS   Log-Likelihood:                -1812.0\n",
      "Date:                Fri, 15 Mar 2019   Deviance:                       2306.5\n",
      "Time:                        16:59:40   Pearson chi2:                 4.23e+03\n",
      "No. Iterations:                    25                                         \n",
      "======================================================================================\n",
      "                         coef    std err          z      P>|z|      [0.025      0.975]\n",
      "--------------------------------------------------------------------------------------\n",
      "const                 -1.4208      0.730     -1.946      0.052      -2.852       0.010\n",
      "opposition_team_2      0.2051      0.228      0.901      0.368      -0.241       0.651\n",
      "opposition_team_3      0.0678      0.235      0.288      0.773      -0.393       0.528\n",
      "opposition_team_4      0.3622      0.227      1.595      0.111      -0.083       0.807\n",
      "opposition_team_5      0.3610      0.226      1.594      0.111      -0.083       0.805\n",
      "opposition_team_6     -0.1667      0.254     -0.657      0.511      -0.664       0.331\n",
      "opposition_team_7     -0.0233      0.242     -0.096      0.923      -0.498       0.452\n",
      "opposition_team_8      0.0020      0.240      0.008      0.993      -0.468       0.472\n",
      "opposition_team_9      0.5442      0.220      2.474      0.013       0.113       0.975\n",
      "opposition_team_10     0.3048      0.226      1.349      0.177      -0.138       0.748\n",
      "opposition_team_11    -0.0163      0.243     -0.067      0.946      -0.493       0.460\n",
      "opposition_team_12    -0.7970      0.311     -2.564      0.010      -1.406      -0.188\n",
      "opposition_team_13    -0.5788      0.284     -2.038      0.042      -1.135      -0.022\n",
      "opposition_team_14     0.0146      0.245      0.060      0.952      -0.466       0.495\n",
      "opposition_team_15    -0.1393      0.244     -0.570      0.569      -0.619       0.340\n",
      "opposition_team_16     0.1679      0.232      0.723      0.469      -0.287       0.623\n",
      "opposition_team_17    -0.2902      0.267     -1.086      0.277      -0.814       0.233\n",
      "opposition_team_18    -0.0371      0.250     -0.149      0.882      -0.526       0.452\n",
      "opposition_team_19     0.0868      0.237      0.366      0.714      -0.378       0.552\n",
      "opposition_team_20    -0.2001      0.251     -0.796      0.426      -0.693       0.293\n",
      "element_4            -26.4881   1.59e+05     -0.000      1.000   -3.12e+05    3.12e+05\n",
      "element_5             -1.3043      1.226     -1.064      0.287      -3.707       1.098\n",
      "element_6            -26.4662   2.19e+05     -0.000      1.000   -4.29e+05    4.29e+05\n",
      "element_7             -1.0077      1.001     -1.007      0.314      -2.970       0.954\n",
      "element_8            -26.4973   1.77e+05     -0.000      1.000   -3.48e+05    3.48e+05\n",
      "element_9             -1.5484      1.226     -1.263      0.207      -3.951       0.855\n",
      "element_10           -25.9302   7.04e+05  -3.68e-05      1.000   -1.38e+06    1.38e+06\n",
      "element_11           -26.4692   2.08e+05     -0.000      1.000   -4.07e+05    4.07e+05\n",
      "element_12           -26.5170   1.73e+05     -0.000      1.000   -3.38e+05    3.38e+05\n",
      "element_13            -0.1219      0.915     -0.133      0.894      -1.916       1.672\n",
      "element_14            -0.9720      1.001     -0.971      0.332      -2.934       0.990\n",
      "element_15            -0.6733      0.914     -0.737      0.461      -2.464       1.117\n",
      "element_16           -26.7211   3.48e+05  -7.69e-05      1.000   -6.81e+05    6.81e+05\n",
      "element_17            -0.6097      0.914     -0.667      0.505      -2.400       1.181\n",
      "element_18             0.0557      0.867      0.064      0.949      -1.644       1.755\n",
      "element_20            -0.8531      1.225     -0.696      0.486      -3.254       1.548\n",
      "element_21            -0.7206      1.227     -0.588      0.557      -3.125       1.683\n",
      "element_22             0.4656      0.776      0.600      0.548      -1.054       1.986\n",
      "element_23             0.8760      0.754      1.162      0.245      -0.602       2.354\n",
      "element_26           -26.5161   1.68e+05     -0.000      1.000   -3.29e+05    3.29e+05\n",
      "element_27            -1.8500      1.226     -1.509      0.131      -4.252       0.552\n",
      "element_28            -1.3543      1.226     -1.105      0.269      -3.756       1.048\n",
      "element_29            -1.4888      1.226     -1.214      0.225      -3.892       0.914\n",
      "element_30           -26.2875   3.08e+05  -8.55e-05      1.000   -6.03e+05    6.03e+05\n",
      "element_31            -0.7514      0.914     -0.822      0.411      -2.543       1.040\n",
      "element_33           -26.5273   1.52e+05     -0.000      1.000   -2.98e+05    2.98e+05\n",
      "element_35           -26.4214   1.78e+05     -0.000      1.000   -3.49e+05    3.49e+05\n",
      "element_36            -1.5575      1.226     -1.271      0.204      -3.960       0.845\n",
      "element_37           -26.5296   1.64e+05     -0.000      1.000   -3.21e+05    3.21e+05\n",
      "element_38           -26.4493   1.93e+05     -0.000      1.000   -3.79e+05    3.79e+05\n",
      "element_39           -26.5297   1.93e+05     -0.000      1.000   -3.79e+05    3.79e+05\n",
      "element_40            -0.2406      0.838     -0.287      0.774      -1.883       1.402\n",
      "element_42             0.0866      0.818      0.106      0.916      -1.517       1.690\n",
      "element_43             0.6256      0.776      0.806      0.420      -0.896       2.147\n",
      "element_44           -26.4280   1.68e+05     -0.000      1.000   -3.29e+05    3.29e+05\n",
      "element_45             0.3768      0.792      0.476      0.634      -1.176       1.930\n",
      "element_46           -26.8011   3.49e+05  -7.69e-05      1.000   -6.83e+05    6.83e+05\n",
      "element_48            -1.1410      1.001     -1.139      0.254      -3.104       0.822\n",
      "element_49            -0.1419      0.838     -0.169      0.866      -1.785       1.501\n",
      "element_50           -26.5572   2.47e+05     -0.000      1.000   -4.84e+05    4.84e+05\n",
      "element_51           -26.5050   1.58e+05     -0.000      1.000    -3.1e+05     3.1e+05\n",
      "element_54            -0.6966      1.227     -0.568      0.570      -3.101       1.708\n",
      "element_55            -1.6741      1.226     -1.366      0.172      -4.077       0.729\n",
      "element_56            -1.5853      1.226     -1.293      0.196      -3.988       0.818\n",
      "element_57            -1.0080      1.227     -0.822      0.411      -3.412       1.396\n",
      "element_58            -1.8886      1.226     -1.541      0.123      -4.291       0.514\n",
      "element_59            -0.8647      1.002     -0.863      0.388      -2.828       1.098\n",
      "element_60           -26.5240   1.47e+05     -0.000      1.000   -2.88e+05    2.88e+05\n",
      "element_61           -26.4984   2.32e+05     -0.000      1.000   -4.55e+05    4.55e+05\n",
      "element_62             0.4140      0.776      0.533      0.594      -1.107       1.935\n",
      "element_65            -0.9218      1.001     -0.921      0.357      -2.884       1.041\n",
      "element_66            -0.6900      1.002     -0.689      0.491      -2.653       1.273\n",
      "element_69           -26.5854    1.8e+05     -0.000      1.000   -3.52e+05    3.52e+05\n",
      "element_70           -26.5463   1.36e+05     -0.000      1.000   -2.67e+05    2.67e+05\n",
      "element_71           -26.7354   4.01e+05  -6.67e-05      1.000   -7.86e+05    7.86e+05\n",
      "element_72            -0.6951      0.914     -0.761      0.447      -2.486       1.096\n",
      "element_73           -26.4977   2.86e+05  -9.28e-05      1.000    -5.6e+05     5.6e+05\n",
      "element_74           -26.5463   1.36e+05     -0.000      1.000   -2.67e+05    2.67e+05\n",
      "element_75           -26.5196   1.93e+05     -0.000      1.000   -3.78e+05    3.78e+05\n",
      "element_76            -0.8983      1.001     -0.898      0.369      -2.860       1.063\n",
      "element_77           -26.3724   2.85e+05  -9.26e-05      1.000   -5.59e+05    5.58e+05\n",
      "element_78            -1.6895      1.226     -1.379      0.168      -4.092       0.712\n",
      "element_79           -26.4418    2.2e+05     -0.000      1.000   -4.31e+05    4.31e+05\n",
      "element_80           -26.5582   1.45e+05     -0.000      1.000   -2.84e+05    2.84e+05\n",
      "element_82            -1.8613      1.225     -1.519      0.129      -4.263       0.540\n",
      "element_83            -1.3809      1.226     -1.127      0.260      -3.783       1.021\n",
      "element_84            -0.5282      0.914     -0.578      0.563      -2.319       1.263\n",
      "element_85             0.0976      0.803      0.122      0.903      -1.476       1.671\n",
      "element_87            -0.1097      0.817     -0.134      0.893      -1.712       1.492\n",
      "element_90           -26.4996   1.48e+05     -0.000      1.000    -2.9e+05     2.9e+05\n",
      "element_91            -0.7437      0.914     -0.813      0.416      -2.536       1.048\n",
      "element_92           -26.5106   1.36e+05     -0.000      1.000   -2.67e+05    2.67e+05\n",
      "element_94           -26.5421   1.64e+05     -0.000      1.000   -3.21e+05    3.21e+05\n",
      "element_95           -26.5010   2.21e+05     -0.000      1.000   -4.33e+05    4.33e+05\n",
      "element_96           -26.4761   3.92e+05  -6.76e-05      1.000   -7.67e+05    7.67e+05\n",
      "element_98           -26.5190   1.52e+05     -0.000      1.000   -2.99e+05    2.99e+05\n",
      "element_99            -0.8814      1.002     -0.880      0.379      -2.845       1.082\n",
      "element_100           -0.9462      1.226     -0.772      0.440      -3.350       1.458\n",
      "element_101           -0.3773      0.867     -0.435      0.664      -2.077       1.323\n",
      "element_102           -1.4570      1.226     -1.189      0.235      -3.859       0.945\n",
      "element_104          -26.4630   4.67e+05  -5.67e-05      1.000   -9.15e+05    9.15e+05\n",
      "element_105           -0.8849      1.227     -0.721      0.471      -3.289       1.519\n",
      "element_106           -0.4926      0.915     -0.539      0.590      -2.285       1.300\n",
      "element_107           -0.8917      1.227     -0.727      0.467      -3.296       1.513\n",
      "element_109          -26.5832   3.12e+05  -8.53e-05      1.000   -6.11e+05    6.11e+05\n",
      "element_110           -0.1689      0.868     -0.195      0.846      -1.870       1.532\n",
      "element_113          -26.5226   1.36e+05     -0.000      1.000   -2.67e+05    2.67e+05\n",
      "element_114          -26.5958   7.04e+05  -3.78e-05      1.000   -1.38e+06    1.38e+06\n",
      "element_115           -1.8318      1.226     -1.494      0.135      -4.234       0.571\n",
      "element_116           -1.1544      1.001     -1.153      0.249      -3.117       0.808\n",
      "element_117          -26.3283   4.79e+05   -5.5e-05      1.000   -9.38e+05    9.38e+05\n",
      "element_118           -1.8268      1.226     -1.490      0.136      -4.229       0.576\n",
      "element_119          -26.5838   4.96e+05  -5.36e-05      1.000   -9.72e+05    9.72e+05\n",
      "element_120          -26.9632   4.97e+05  -5.42e-05      1.000   -9.75e+05    9.75e+05\n",
      "element_121          -26.4130   3.48e+05   -7.6e-05      1.000   -6.81e+05    6.81e+05\n",
      "element_122            0.6612      0.765      0.864      0.388      -0.839       2.161\n",
      "element_123          -26.5612   2.86e+05   -9.3e-05      1.000    -5.6e+05     5.6e+05\n",
      "element_124           -0.6915      0.915     -0.756      0.450      -2.484       1.101\n",
      "element_125            0.2744      0.804      0.341      0.733      -1.301       1.850\n",
      "element_126           -0.7796      0.914     -0.853      0.394      -2.571       1.012\n",
      "element_127           -0.5301      0.914     -0.580      0.562      -2.322       1.262\n",
      "element_131          -26.5461    3.5e+05  -7.57e-05      1.000   -6.87e+05    6.87e+05\n",
      "element_132           -0.0836      0.914     -0.091      0.927      -1.876       1.708\n",
      "element_133           -1.5591      1.226     -1.272      0.204      -3.962       0.844\n",
      "element_134            0.1936      0.838      0.231      0.817      -1.450       1.837\n",
      "element_138           -1.6987      1.225     -1.386      0.166      -4.101       0.703\n",
      "element_139          -26.6769   7.04e+05  -3.79e-05      1.000   -1.38e+06    1.38e+06\n",
      "element_140          -26.4926   3.13e+05  -8.45e-05      1.000   -6.14e+05    6.14e+05\n",
      "element_141           -0.3167      0.867     -0.365      0.715      -2.016       1.382\n",
      "element_142           -1.8697      1.225     -1.526      0.127      -4.271       0.532\n",
      "element_143          -26.5054   1.36e+05     -0.000      1.000   -2.66e+05    2.66e+05\n",
      "element_145          -26.5071   1.38e+05     -0.000      1.000   -2.71e+05    2.71e+05\n",
      "element_146          -26.4830   2.31e+05     -0.000      1.000   -4.52e+05    4.52e+05\n",
      "element_147           -1.1766      1.001     -1.176      0.240      -3.138       0.785\n",
      "element_148          -27.0532   7.04e+05  -3.84e-05      1.000   -1.38e+06    1.38e+06\n",
      "element_149           -0.4834      0.867     -0.558      0.577      -2.183       1.216\n",
      "element_150            0.0762      0.803      0.095      0.924      -1.497       1.650\n",
      "element_151           -0.0707      0.838     -0.084      0.933      -1.713       1.571\n",
      "element_152          -26.6005   2.59e+05     -0.000      1.000   -5.08e+05    5.08e+05\n",
      "element_153          -26.5143      2e+05     -0.000      1.000   -3.92e+05    3.92e+05\n",
      "element_156          -26.6215   2.87e+05  -9.29e-05      1.000   -5.62e+05    5.62e+05\n",
      "element_157           -1.6051      1.226     -1.309      0.190      -4.008       0.798\n",
      "element_158          -26.3110   4.94e+05  -5.32e-05      1.000   -9.69e+05    9.69e+05\n",
      "element_160          -26.6312   3.14e+05  -8.48e-05      1.000   -6.16e+05    6.16e+05\n",
      "element_161          -26.5343   2.32e+05     -0.000      1.000   -4.54e+05    4.54e+05\n",
      "element_162           -1.7820      1.226     -1.454      0.146      -4.185       0.620\n",
      "element_164           -0.7601      0.914     -0.831      0.406      -2.552       1.032\n",
      "element_167          -26.6100   2.63e+05     -0.000      1.000   -5.16e+05    5.16e+05\n",
      "element_168          -26.5304   1.48e+05     -0.000      1.000    -2.9e+05     2.9e+05\n",
      "element_169          -26.5429   1.92e+05     -0.000      1.000   -3.76e+05    3.76e+05\n",
      "element_170          -26.4708   1.86e+05     -0.000      1.000   -3.64e+05    3.64e+05\n",
      "element_172            0.2887      0.783      0.369      0.712      -1.246       1.824\n",
      "element_175           -0.4381      0.867     -0.505      0.613      -2.138       1.262\n",
      "element_176          -26.5873   2.34e+05     -0.000      1.000   -4.59e+05    4.59e+05\n",
      "element_177           -0.9427      1.001     -0.941      0.346      -2.905       1.020\n",
      "element_180          -26.5599   1.75e+05     -0.000      1.000   -3.43e+05    3.43e+05\n",
      "element_181          -26.5217   1.42e+05     -0.000      1.000   -2.78e+05    2.78e+05\n",
      "element_182          -26.5293   1.56e+05     -0.000      1.000   -3.05e+05    3.05e+05\n",
      "element_183          -26.5658    2.2e+05     -0.000      1.000   -4.31e+05    4.31e+05\n",
      "element_184           -1.0515      1.002     -1.050      0.294      -3.015       0.912\n",
      "element_185          -26.4508      2e+05     -0.000      1.000   -3.92e+05    3.92e+05\n",
      "element_186          -26.4662   2.46e+05     -0.000      1.000   -4.83e+05    4.83e+05\n",
      "element_187          -26.5062   3.46e+05  -7.65e-05      1.000   -6.79e+05    6.79e+05\n",
      "element_189           -0.0544      0.915     -0.059      0.953      -1.848       1.739\n",
      "element_192           -1.8899      1.226     -1.542      0.123      -4.293       0.513\n",
      "element_193          -26.4892   1.54e+05     -0.000      1.000   -3.02e+05    3.02e+05\n",
      "element_194          -26.3107   2.64e+05  -9.98e-05      1.000   -5.17e+05    5.17e+05\n",
      "element_195           -0.6841      0.915     -0.748      0.454      -2.477       1.108\n",
      "element_197          -26.5658   1.51e+05     -0.000      1.000   -2.96e+05    2.96e+05\n",
      "element_198           -1.7199      1.226     -1.403      0.161      -4.122       0.683\n",
      "element_199           -0.8104      1.002     -0.809      0.419      -2.774       1.153\n",
      "element_200          -26.6468   3.12e+05  -8.53e-05      1.000   -6.12e+05    6.12e+05\n",
      "element_201          -26.5610   1.58e+05     -0.000      1.000    -3.1e+05     3.1e+05\n",
      "element_202           -1.0575      1.001     -1.056      0.291      -3.020       0.905\n",
      "element_204          -26.4661   4.06e+05  -6.53e-05      1.000   -7.95e+05    7.95e+05\n",
      "element_205          -26.3499   4.86e+05  -5.42e-05      1.000   -9.53e+05    9.53e+05\n",
      "element_206           -1.6697      1.226     -1.362      0.173      -4.072       0.733\n",
      "element_207          -26.3851   3.48e+05  -7.59e-05      1.000   -6.82e+05    6.82e+05\n",
      "element_208          -26.4978   2.32e+05     -0.000      1.000   -4.54e+05    4.54e+05\n",
      "element_209          -26.6023   4.98e+05  -5.34e-05      1.000   -9.76e+05    9.76e+05\n",
      "element_210          -26.5606   1.48e+05     -0.000      1.000   -2.89e+05    2.89e+05\n",
      "element_211           -1.6848      1.226     -1.374      0.169      -4.087       0.718\n",
      "element_212          -26.5727      2e+05     -0.000      1.000   -3.93e+05    3.93e+05\n",
      "element_215           -1.4419      1.226     -1.176      0.239      -3.845       0.961\n",
      "element_216          -26.4857   7.04e+05  -3.76e-05      1.000   -1.38e+06    1.38e+06\n",
      "element_217          -26.5626   3.07e+05  -8.64e-05      1.000   -6.02e+05    6.02e+05\n",
      "element_219          -26.4923   1.38e+05     -0.000      1.000   -2.71e+05    2.71e+05\n",
      "element_220           -0.5002      0.915     -0.547      0.584      -2.293       1.293\n",
      "element_221           -0.9886      1.002     -0.987      0.324      -2.952       0.975\n",
      "element_222          -26.4866   1.86e+05     -0.000      1.000   -3.64e+05    3.64e+05\n",
      "element_223           -0.0628      0.838     -0.075      0.940      -1.705       1.580\n",
      "element_224           -1.0141      1.001     -1.013      0.311      -2.976       0.948\n",
      "element_225           -0.6399      0.914     -0.700      0.484      -2.432       1.152\n",
      "element_226          -26.4615   2.32e+05     -0.000      1.000   -4.55e+05    4.55e+05\n",
      "element_227           -1.1604      1.001     -1.159      0.247      -3.123       0.802\n",
      "element_228          -26.5926   2.46e+05     -0.000      1.000   -4.82e+05    4.82e+05\n",
      "element_230          -26.2661    3.1e+05  -8.47e-05      1.000   -6.08e+05    6.08e+05\n",
      "element_231          -26.4199   4.97e+05  -5.31e-05      1.000   -9.75e+05    9.75e+05\n",
      "element_232          -27.0532   7.04e+05  -3.84e-05      1.000   -1.38e+06    1.38e+06\n",
      "element_233           -0.1473      0.838     -0.176      0.861      -1.790       1.495\n",
      "element_234            0.3947      0.793      0.498      0.619      -1.159       1.948\n",
      "element_235          -26.4796   1.72e+05     -0.000      1.000   -3.37e+05    3.37e+05\n",
      "element_236           -1.6813      1.226     -1.372      0.170      -4.084       0.721\n",
      "element_239           -0.7285      1.227     -0.594      0.553      -3.133       1.676\n",
      "element_240          -26.8702   4.98e+05   -5.4e-05      1.000   -9.76e+05    9.76e+05\n",
      "element_241          -26.5044   2.47e+05     -0.000      1.000   -4.85e+05    4.85e+05\n",
      "element_242          -26.5537   1.93e+05     -0.000      1.000   -3.78e+05    3.78e+05\n",
      "element_243           -1.1358      1.227     -0.926      0.355      -3.540       1.269\n",
      "element_245           -1.5334      1.226     -1.251      0.211      -3.936       0.869\n",
      "element_246           -1.8830      1.226     -1.536      0.124      -4.285       0.519\n",
      "element_247          -26.5038   1.42e+05     -0.000      1.000   -2.79e+05    2.79e+05\n",
      "element_249          -26.5071   1.52e+05     -0.000      1.000   -2.98e+05    2.98e+05\n",
      "element_250          -26.5939   2.34e+05     -0.000      1.000   -4.59e+05    4.58e+05\n",
      "element_251            0.7102      0.766      0.928      0.354      -0.790       2.211\n",
      "element_252           -1.0521      1.001     -1.051      0.293      -3.014       0.910\n",
      "element_253            0.9502      0.749      1.268      0.205      -0.518       2.419\n",
      "element_254           -0.5872      0.914     -0.642      0.521      -2.379       1.204\n",
      "element_255           -1.4872      1.226     -1.213      0.225      -3.890       0.916\n",
      "element_256          -26.5412    1.6e+05     -0.000      1.000   -3.13e+05    3.13e+05\n",
      "element_257            0.3142      0.783      0.401      0.688      -1.221       1.850\n",
      "element_258            0.4508      0.804      0.561      0.575      -1.125       2.027\n",
      "element_259          -26.3525   4.74e+05  -5.56e-05      1.000    -9.3e+05     9.3e+05\n",
      "element_262          -26.4360   1.63e+05     -0.000      1.000    -3.2e+05     3.2e+05\n",
      "element_263          -26.4768   2.31e+05     -0.000      1.000   -4.53e+05    4.52e+05\n",
      "element_264          -26.5806      2e+05     -0.000      1.000   -3.92e+05    3.92e+05\n",
      "element_265           -1.7024      1.226     -1.389      0.165      -4.105       0.700\n",
      "element_266           -0.5093      1.227     -0.415      0.678      -2.913       1.895\n",
      "element_267          -26.4637   2.31e+05     -0.000      1.000   -4.53e+05    4.53e+05\n",
      "element_268           -1.2083      1.001     -1.207      0.227      -3.171       0.754\n",
      "element_269          -26.6405    2.1e+05     -0.000      1.000   -4.12e+05    4.12e+05\n",
      "element_270            0.7290      0.765      0.953      0.341      -0.771       2.229\n",
      "element_271            0.0637      0.818      0.078      0.938      -1.539       1.666\n",
      "element_272           -1.8281      1.226     -1.492      0.136      -4.230       0.574\n",
      "element_273           -1.0675      1.227     -0.870      0.384      -3.472       1.337\n",
      "element_274           -0.0449      0.839     -0.054      0.957      -1.688       1.599\n",
      "element_275            0.3114      0.792      0.393      0.694      -1.241       1.864\n",
      "element_276           -0.2519      0.838     -0.301      0.764      -1.895       1.391\n",
      "element_277          -26.6571   2.47e+05     -0.000      1.000   -4.84e+05    4.84e+05\n",
      "element_279          -26.5745    3.5e+05   -7.6e-05      1.000   -6.86e+05    6.86e+05\n",
      "element_280            1.0892      0.749      1.454      0.146      -0.379       2.557\n",
      "element_281            0.1538      0.818      0.188      0.851      -1.450       1.757\n",
      "element_284           -1.2864      1.226     -1.049      0.294      -3.689       1.117\n",
      "element_285          -26.6716   2.01e+05     -0.000      1.000   -3.93e+05    3.93e+05\n",
      "element_286           -1.6527      1.226     -1.348      0.178      -4.056       0.750\n",
      "element_287          -26.7918   4.92e+05  -5.45e-05      1.000   -9.64e+05    9.63e+05\n",
      "element_288          -26.4525   3.11e+05   -8.5e-05      1.000    -6.1e+05     6.1e+05\n",
      "element_289          -26.3737   3.11e+05  -8.48e-05      1.000   -6.09e+05    6.09e+05\n",
      "element_291          -26.5420   2.19e+05     -0.000      1.000   -4.29e+05    4.29e+05\n",
      "element_292           -1.6380      1.226     -1.336      0.182      -4.041       0.765\n",
      "element_293           -1.5860      1.226     -1.294      0.196      -3.988       0.816\n",
      "element_294          -26.6045   2.43e+05     -0.000      1.000   -4.76e+05    4.76e+05\n",
      "element_295           -1.2496      1.227     -1.019      0.308      -3.654       1.155\n",
      "element_296           -1.7952      1.226     -1.465      0.143      -4.198       0.607\n",
      "element_297           -0.7807      1.001     -0.780      0.435      -2.743       1.181\n",
      "element_298          -26.4492   1.85e+05     -0.000      1.000   -3.63e+05    3.63e+05\n",
      "element_299           -0.8612      1.001     -0.860      0.390      -2.823       1.101\n",
      "element_300           -0.2969      0.868     -0.342      0.732      -1.998       1.404\n",
      "element_301            0.6164      0.783      0.787      0.431      -0.919       2.152\n",
      "element_302            0.5971      0.771      0.775      0.438      -0.913       2.108\n",
      "element_303          -26.6287   2.45e+05     -0.000      1.000   -4.81e+05    4.81e+05\n",
      "element_304           -1.0176      1.226     -0.830      0.406      -3.420       1.385\n",
      "element_305            0.4590      0.783      0.586      0.558      -1.077       1.994\n",
      "element_306            0.3313      0.792      0.418      0.676      -1.222       1.884\n",
      "element_310           -1.7355      1.226     -1.416      0.157      -4.138       0.667\n",
      "element_311            0.0982      0.915      0.107      0.915      -1.696       1.892\n",
      "element_312          -26.4626   1.48e+05     -0.000      1.000    -2.9e+05     2.9e+05\n",
      "element_313          -26.5084   1.79e+05     -0.000      1.000    -3.5e+05     3.5e+05\n",
      "element_314          -26.3467   3.09e+05  -8.52e-05      1.000   -6.06e+05    6.06e+05\n",
      "element_315          -26.5666      2e+05     -0.000      1.000   -3.93e+05    3.93e+05\n",
      "element_317           -1.7865      1.226     -1.457      0.145      -4.189       0.616\n",
      "element_318          -26.5379   2.11e+05     -0.000      1.000   -4.14e+05    4.14e+05\n",
      "element_319          -26.5112   1.48e+05     -0.000      1.000    -2.9e+05     2.9e+05\n",
      "element_320          -26.4859   1.59e+05     -0.000      1.000   -3.12e+05    3.12e+05\n",
      "element_321          -26.3756   2.31e+05     -0.000      1.000   -4.53e+05    4.53e+05\n",
      "element_323           -1.1664      1.227     -0.951      0.342      -3.571       1.238\n",
      "element_324          -26.5817   2.09e+05     -0.000      1.000    -4.1e+05     4.1e+05\n",
      "element_326           -0.7319      0.914     -0.800      0.423      -2.524       1.060\n",
      "element_327           -0.4838      1.002     -0.483      0.629      -2.448       1.480\n",
      "element_330           -1.1162      1.227     -0.910      0.363      -3.520       1.288\n",
      "element_331          -26.5457   2.32e+05     -0.000      1.000   -4.54e+05    4.54e+05\n",
      "element_332           -1.4428      1.226     -1.177      0.239      -3.846       0.961\n",
      "element_333           -1.4060      1.227     -1.146      0.252      -3.810       0.998\n",
      "element_335          -26.5024   1.92e+05     -0.000      1.000   -3.76e+05    3.76e+05\n",
      "element_336          -26.4653   1.92e+05     -0.000      1.000   -3.76e+05    3.76e+05\n",
      "element_337          -26.4440   4.05e+05  -6.53e-05      1.000   -7.94e+05    7.94e+05\n",
      "element_338           -0.1117      0.916     -0.122      0.903      -1.907       1.683\n",
      "element_339          -26.4998   1.59e+05     -0.000      1.000   -3.12e+05    3.12e+05\n",
      "element_340           -0.4329      0.915     -0.473      0.636      -2.226       1.360\n",
      "element_343           -0.7696      0.915     -0.841      0.400      -2.562       1.023\n",
      "element_344          -26.4933   1.63e+05     -0.000      1.000   -3.19e+05    3.19e+05\n",
      "element_345           -0.5278      0.915     -0.577      0.564      -2.321       1.265\n",
      "element_346          -26.5100   1.85e+05     -0.000      1.000   -3.63e+05    3.63e+05\n",
      "element_347           -1.3730      1.226     -1.120      0.263      -3.777       1.031\n",
      "element_348           -0.8307      1.002     -0.829      0.407      -2.795       1.133\n",
      "element_349           -1.1560      1.226     -0.943      0.346      -3.560       1.248\n",
      "element_353          -26.5568   1.42e+05     -0.000      1.000   -2.78e+05    2.78e+05\n",
      "element_354          -26.6113   1.79e+05     -0.000      1.000   -3.51e+05    3.51e+05\n",
      "element_355           -1.2864      1.226     -1.049      0.294      -3.690       1.117\n",
      "element_356          -26.5308   1.69e+05     -0.000      1.000   -3.31e+05    3.31e+05\n",
      "element_357           -1.7099      1.226     -1.395      0.163      -4.113       0.693\n",
      "element_358          -26.5686   4.06e+05  -6.55e-05      1.000   -7.96e+05    7.96e+05\n",
      "element_359           -1.3894      1.226     -1.133      0.257      -3.793       1.014\n",
      "element_360          -26.4533   2.65e+05  -9.96e-05      1.000    -5.2e+05     5.2e+05\n",
      "element_361           -0.6697      1.001     -0.669      0.503      -2.631       1.292\n",
      "element_362          -26.4597   2.18e+05     -0.000      1.000   -4.28e+05    4.28e+05\n",
      "element_363            0.0356      0.867      0.041      0.967      -1.665       1.736\n",
      "element_364           -0.1499      0.838     -0.179      0.858      -1.793       1.493\n",
      "element_365            0.1059      0.838      0.126      0.899      -1.537       1.749\n",
      "element_366          -26.5048   3.08e+05   -8.6e-05      1.000   -6.04e+05    6.04e+05\n",
      "element_367            0.7865      0.771      1.020      0.308      -0.725       2.298\n",
      "element_368           -1.7755      1.226     -1.448      0.148      -4.178       0.627\n",
      "element_369          -26.5333   1.56e+05     -0.000      1.000   -3.06e+05    3.06e+05\n",
      "element_370            0.1300      0.818      0.159      0.874      -1.474       1.734\n",
      "element_371           -1.0395      1.227     -0.847      0.397      -3.444       1.365\n",
      "element_372            0.9124      0.758      1.204      0.229      -0.573       2.397\n",
      "element_376           -0.7266      0.914     -0.795      0.427      -2.519       1.065\n",
      "element_377          -26.3089   7.04e+05  -3.74e-05      1.000   -1.38e+06    1.38e+06\n",
      "element_378           -0.6792      0.915     -0.743      0.458      -2.472       1.114\n",
      "element_379          -26.8712   7.04e+05  -3.82e-05      1.000   -1.38e+06    1.38e+06\n",
      "element_380          -26.6004   1.79e+05     -0.000      1.000   -3.51e+05    3.51e+05\n",
      "element_381          -26.5478    2.2e+05     -0.000      1.000   -4.31e+05    4.31e+05\n",
      "element_382          -26.4810   1.64e+05     -0.000      1.000   -3.22e+05    3.22e+05\n",
      "element_383          -26.5603   1.55e+05     -0.000      1.000   -3.04e+05    3.04e+05\n",
      "element_385          -26.5090   7.04e+05  -3.76e-05      1.000   -1.38e+06    1.38e+06\n",
      "element_386          -26.3894   2.83e+05  -9.32e-05      1.000   -5.55e+05    5.55e+05\n",
      "element_387          -26.3983   2.64e+05  -9.98e-05      1.000   -5.18e+05    5.18e+05\n",
      "element_388           -0.7749      1.227     -0.632      0.528      -3.180       1.630\n",
      "element_389           -1.7123      1.226     -1.397      0.163      -4.115       0.691\n",
      "element_390           -0.6532      0.914     -0.714      0.475      -2.445       1.139\n",
      "element_391           -0.0084      0.818     -0.010      0.992      -1.612       1.595\n",
      "element_392           -1.6386      1.226     -1.337      0.181      -4.042       0.764\n",
      "element_393            0.4858      0.776      0.626      0.531      -1.036       2.007\n",
      "element_394           -0.4332      0.915     -0.474      0.636      -2.226       1.359\n",
      "element_395           -0.0547      0.867     -0.063      0.950      -1.755       1.646\n",
      "element_396           -0.1511      0.839     -0.180      0.857      -1.795       1.492\n",
      "element_397          -26.6311   4.93e+05   -5.4e-05      1.000   -9.67e+05    9.66e+05\n",
      "element_402          -26.4849   1.85e+05     -0.000      1.000   -3.63e+05    3.63e+05\n",
      "element_403          -26.5172   1.85e+05     -0.000      1.000   -3.62e+05    3.62e+05\n",
      "element_405          -26.5319    1.6e+05     -0.000      1.000   -3.13e+05    3.13e+05\n",
      "element_406           -1.7405      1.226     -1.420      0.156      -4.143       0.662\n",
      "element_408          -26.2885   2.81e+05  -9.37e-05      1.000    -5.5e+05     5.5e+05\n",
      "element_409          -26.5204   1.42e+05     -0.000      1.000   -2.78e+05    2.78e+05\n",
      "element_410          -26.4469   1.68e+05     -0.000      1.000   -3.29e+05    3.29e+05\n",
      "element_411           -1.6461      1.226     -1.343      0.179      -4.049       0.757\n",
      "element_412          -26.5317   1.52e+05     -0.000      1.000   -2.97e+05    2.97e+05\n",
      "element_413          -26.4888   1.68e+05     -0.000      1.000    -3.3e+05     3.3e+05\n",
      "element_415           -0.6407      0.914     -0.701      0.484      -2.433       1.151\n",
      "element_417            0.4602      0.804      0.572      0.567      -1.117       2.037\n",
      "element_418          -26.5848   2.09e+05     -0.000      1.000   -4.09e+05    4.09e+05\n",
      "element_419           -0.0846      0.868     -0.097      0.922      -1.787       1.617\n",
      "element_423           -0.6626      0.914     -0.725      0.469      -2.455       1.129\n",
      "element_425           -0.7452      0.914     -0.815      0.415      -2.537       1.047\n",
      "element_426           -0.4631      1.002     -0.462      0.644      -2.427       1.500\n",
      "element_427           -1.7875      1.226     -1.458      0.145      -4.190       0.615\n",
      "element_430          -26.4872   1.36e+05     -0.000      1.000   -2.67e+05    2.67e+05\n",
      "element_431          -26.4986   1.99e+05     -0.000      1.000    -3.9e+05     3.9e+05\n",
      "element_432           -0.0389      0.838     -0.046      0.963      -1.682       1.604\n",
      "element_433           -0.6419      0.915     -0.702      0.483      -2.435       1.151\n",
      "element_434           -0.2940      0.914     -0.322      0.748      -2.086       1.498\n",
      "element_435           -1.7184      1.226     -1.402      0.161      -4.121       0.684\n",
      "element_437            0.3534      0.783      0.451      0.652      -1.182       1.889\n",
      "element_438          -26.5634   2.64e+05     -0.000      1.000   -5.17e+05    5.17e+05\n",
      "element_440          -26.5605   2.11e+05     -0.000      1.000   -4.13e+05    4.13e+05\n",
      "element_441          -26.1326   4.91e+05  -5.33e-05      1.000   -9.62e+05    9.62e+05\n",
      "element_443          -27.0532   7.04e+05  -3.84e-05      1.000   -1.38e+06    1.38e+06\n",
      "element_444          -26.3690   3.08e+05  -8.57e-05      1.000   -6.03e+05    6.03e+05\n",
      "element_446           -1.3916      1.226     -1.135      0.256      -3.795       1.012\n",
      "element_447          -26.3404    3.1e+05   -8.5e-05      1.000   -6.07e+05    6.07e+05\n",
      "element_448          -26.5001   1.63e+05     -0.000      1.000    -3.2e+05     3.2e+05\n",
      "element_450           -1.1900      1.001     -1.189      0.234      -3.151       0.771\n",
      "element_451          -26.5469   1.44e+05     -0.000      1.000   -2.82e+05    2.82e+05\n",
      "element_453            0.0125      1.003      0.012      0.990      -1.953       1.978\n",
      "element_455          -26.5509    1.6e+05     -0.000      1.000   -3.13e+05    3.13e+05\n",
      "element_456           -1.8615      1.226     -1.518      0.129      -4.264       0.541\n",
      "element_458           -1.5929      1.226     -1.299      0.194      -3.995       0.810\n",
      "element_459           -1.8475      1.226     -1.507      0.132      -4.250       0.555\n",
      "element_460          -26.4597   1.56e+05     -0.000      1.000   -3.05e+05    3.05e+05\n",
      "element_461          -26.5585   1.64e+05     -0.000      1.000   -3.21e+05    3.21e+05\n",
      "element_462            0.1300      0.818      0.159      0.874      -1.473       1.733\n",
      "element_463          -26.5580   1.69e+05     -0.000      1.000   -3.31e+05    3.31e+05\n",
      "element_464           -1.4153      1.226     -1.154      0.248      -3.818       0.987\n",
      "element_465            0.2176      0.792      0.275      0.784      -1.336       1.771\n",
      "element_466          -26.5306   1.63e+05     -0.000      1.000   -3.19e+05    3.19e+05\n",
      "element_467          -26.4558   2.63e+05     -0.000      1.000   -5.15e+05    5.15e+05\n",
      "element_471          -26.3485   2.09e+05     -0.000      1.000    -4.1e+05     4.1e+05\n",
      "element_472           -0.4300      1.002     -0.429      0.668      -2.393       1.533\n",
      "element_473          -26.2915   2.43e+05     -0.000      1.000   -4.77e+05    4.77e+05\n",
      "element_475           -1.8438      1.226     -1.504      0.133      -4.246       0.559\n",
      "element_476          -26.4507   2.08e+05     -0.000      1.000   -4.07e+05    4.07e+05\n",
      "element_478            0.1002      0.819      0.122      0.903      -1.504       1.705\n",
      "element_479          -26.5245   1.91e+05     -0.000      1.000   -3.75e+05    3.75e+05\n",
      "element_480            0.4411      0.777      0.568      0.570      -1.081       1.963\n",
      "element_481          -26.5990   2.63e+05     -0.000      1.000   -5.16e+05    5.16e+05\n",
      "element_482           -0.6065      1.002     -0.606      0.545      -2.570       1.357\n",
      "element_483           -1.6548      1.226     -1.350      0.177      -4.058       0.748\n",
      "element_484           -0.6870      0.914     -0.752      0.452      -2.478       1.104\n",
      "element_486           -1.5654      1.226     -1.277      0.202      -3.968       0.837\n",
      "element_487          -26.4523   1.93e+05     -0.000      1.000   -3.77e+05    3.77e+05\n",
      "element_488           -1.0376      1.227     -0.846      0.398      -3.442       1.366\n",
      "element_489           -1.1475      1.002     -1.146      0.252      -3.111       0.816\n",
      "element_491            1.4189      1.238      1.146      0.252      -1.007       3.845\n",
      "element_492           -1.4047      1.226     -1.145      0.252      -3.808       0.999\n",
      "element_493            0.2009      0.818      0.246      0.806      -1.403       1.805\n",
      "element_494           -1.5939      1.226     -1.300      0.193      -3.996       0.808\n",
      "element_495           -0.7067      1.227     -0.576      0.565      -3.111       1.698\n",
      "element_497          -27.0532   7.04e+05  -3.84e-05      1.000   -1.38e+06    1.38e+06\n",
      "element_499          -26.4866   1.45e+05     -0.000      1.000   -2.84e+05    2.84e+05\n",
      "element_500           -1.6247      1.226     -1.325      0.185      -4.027       0.778\n",
      "element_502           -0.2661      1.002     -0.266      0.791      -2.230       1.698\n",
      "element_503          -26.5091   1.62e+05     -0.000      1.000   -3.18e+05    3.18e+05\n",
      "element_504           -0.6263      0.914     -0.685      0.493      -2.418       1.165\n",
      "element_505           -1.4029      1.226     -1.145      0.252      -3.805       0.999\n",
      "element_506           -0.8748      1.227     -0.713      0.476      -3.279       1.529\n",
      "element_507          -26.5099   1.45e+05     -0.000      1.000   -2.83e+05    2.83e+05\n",
      "element_508           -1.4989      1.226     -1.223      0.221      -3.902       0.904\n",
      "element_510          -26.5276   1.75e+05     -0.000      1.000   -3.43e+05    3.42e+05\n",
      "element_511          -26.5758   2.33e+05     -0.000      1.000   -4.56e+05    4.56e+05\n",
      "element_512          -26.4589   2.09e+05     -0.000      1.000   -4.09e+05    4.09e+05\n",
      "element_513           -1.4754      1.226     -1.203      0.229      -3.879       0.928\n",
      "element_514          -26.5395   1.68e+05     -0.000      1.000   -3.28e+05    3.28e+05\n",
      "element_515          -26.7744   3.12e+05  -8.58e-05      1.000   -6.11e+05    6.11e+05\n",
      "element_516          -26.4558   1.79e+05     -0.000      1.000   -3.52e+05    3.52e+05\n",
      "element_517           -0.3343      1.227     -0.272      0.785      -2.739       2.071\n",
      "element_518          -26.4746   3.13e+05  -8.46e-05      1.000   -6.13e+05    6.13e+05\n",
      "element_519           -0.3877      1.227     -0.316      0.752      -2.793       2.017\n",
      "element_521          -26.4196   4.05e+05  -6.52e-05      1.000   -7.94e+05    7.94e+05\n",
      "element_522            1.0993      1.233      0.891      0.373      -1.318       3.517\n",
      "element_523          -26.3697   7.04e+05  -3.74e-05      1.000   -1.38e+06    1.38e+06\n",
      "element_524           -1.7604      1.226     -1.436      0.151      -4.163       0.642\n",
      "element_526           -1.7617      1.226     -1.437      0.151      -4.164       0.641\n",
      "element_527          -26.4977   1.44e+05     -0.000      1.000   -2.83e+05    2.83e+05\n",
      "element_531          -26.2514   2.81e+05  -9.35e-05      1.000   -5.51e+05     5.5e+05\n",
      "element_534           -0.9227      1.226     -0.753      0.452      -3.325       1.480\n",
      "element_535           -1.0692      1.226     -0.872      0.383      -3.472       1.333\n",
      "element_539          -26.6266   1.93e+05     -0.000      1.000   -3.77e+05    3.77e+05\n",
      "element_540          -26.6877   2.86e+05  -9.34e-05      1.000    -5.6e+05     5.6e+05\n",
      "element_543           -0.3417      1.227     -0.278      0.781      -2.747       2.064\n",
      "element_544          -26.2546   4.95e+05   -5.3e-05      1.000   -9.71e+05    9.71e+05\n",
      "element_549           -0.3797      1.227     -0.309      0.757      -2.785       2.026\n",
      "element_550           -0.3052      1.227     -0.249      0.803      -2.709       2.099\n",
      "element_552          -26.7141   7.04e+05  -3.79e-05      1.000   -1.38e+06    1.38e+06\n",
      "element_556          -26.5750   2.01e+05     -0.000      1.000   -3.94e+05    3.94e+05\n",
      "element_557          -26.4857   7.04e+05  -3.76e-05      1.000   -1.38e+06    1.38e+06\n",
      "element_560          -26.8712   7.04e+05  -3.82e-05      1.000   -1.38e+06    1.38e+06\n",
      "element_562          -26.5090   7.04e+05  -3.76e-05      1.000   -1.38e+06    1.38e+06\n",
      "element_563          -27.0532   7.04e+05  -3.84e-05      1.000   -1.38e+06    1.38e+06\n",
      "element_565          -25.9302   7.04e+05  -3.68e-05      1.000   -1.38e+06    1.38e+06\n",
      "element_566          -26.8138   7.04e+05  -3.81e-05      1.000   -1.38e+06    1.38e+06\n",
      "element_568          -26.8138   7.04e+05  -3.81e-05      1.000   -1.38e+06    1.38e+06\n",
      "element_569          -26.6120   4.97e+05  -5.36e-05      1.000   -9.74e+05    9.74e+05\n",
      "element_570          -26.6207   4.04e+05  -6.59e-05      1.000   -7.92e+05    7.92e+05\n",
      "element_571          -26.4381    3.5e+05  -7.55e-05      1.000   -6.87e+05    6.87e+05\n",
      "element_573          -26.8138   7.04e+05  -3.81e-05      1.000   -1.38e+06    1.38e+06\n",
      "element_574          -26.6884   4.95e+05  -5.39e-05      1.000   -9.71e+05    9.71e+05\n",
      "element_575          -26.4535   3.51e+05  -7.54e-05      1.000   -6.88e+05    6.88e+05\n",
      "element_579            0.9683      1.004      0.964      0.335      -1.000       2.937\n",
      "element_580          -26.0578   4.93e+05  -5.28e-05      1.000   -9.67e+05    9.67e+05\n",
      "element_581          -26.8700   7.04e+05  -3.82e-05      1.000   -1.38e+06    1.38e+06\n",
      "element_585          -26.4220   4.96e+05  -5.32e-05      1.000   -9.73e+05    9.73e+05\n",
      "element_586          -26.4151   4.85e+05  -5.44e-05      1.000   -9.51e+05    9.51e+05\n",
      "element_587          -26.3089   7.04e+05  -3.74e-05      1.000   -1.38e+06    1.38e+06\n",
      "element_588          -26.2188   7.04e+05  -3.72e-05      1.000   -1.38e+06    1.38e+06\n",
      "element_589          -26.6942   4.98e+05  -5.36e-05      1.000   -9.75e+05    9.75e+05\n",
      "element_590          -26.6769   7.04e+05  -3.79e-05      1.000   -1.38e+06    1.38e+06\n",
      "element_591          -26.2188   7.04e+05  -3.72e-05      1.000   -1.38e+06    1.38e+06\n",
      "element_592          -26.8380   4.95e+05  -5.42e-05      1.000    -9.7e+05     9.7e+05\n",
      "======================================================================================\n"
     ]
    }
   ],
   "source": [
    "print(sppm_results.summary())"
   ]
  },
  {
   "cell_type": "markdown",
   "metadata": {
    "hidden": true
   },
   "source": [
    "### Model fit"
   ]
  },
  {
   "cell_type": "code",
   "execution_count": 158,
   "metadata": {
    "ExecuteTime": {
     "end_time": "2019-03-15T16:59:46.441546Z",
     "start_time": "2019-03-15T16:59:46.433097Z"
    },
    "hidden": true
   },
   "outputs": [
    {
     "data": {
      "text/plain": [
       "4556.068368039614"
      ]
     },
     "execution_count": 158,
     "metadata": {},
     "output_type": "execute_result"
    }
   ],
   "source": [
    "sppm_results.aic"
   ]
  },
  {
   "cell_type": "code",
   "execution_count": 159,
   "metadata": {
    "ExecuteTime": {
     "end_time": "2019-03-15T16:59:49.716647Z",
     "start_time": "2019-03-15T16:59:49.708770Z"
    },
    "hidden": true
   },
   "outputs": [
    {
     "data": {
      "text/plain": [
       "-52370.764920268775"
      ]
     },
     "execution_count": 159,
     "metadata": {},
     "output_type": "execute_result"
    }
   ],
   "source": [
    "sppm_results.bic"
   ]
  },
  {
   "cell_type": "code",
   "execution_count": 160,
   "metadata": {
    "ExecuteTime": {
     "end_time": "2019-03-15T16:59:51.013010Z",
     "start_time": "2019-03-15T16:59:51.003565Z"
    },
    "hidden": true
   },
   "outputs": [
    {
     "data": {
      "text/plain": [
       "(False, 1.0)"
      ]
     },
     "execution_count": 160,
     "metadata": {},
     "output_type": "execute_result"
    }
   ],
   "source": [
    "sppm_pearson_results = goodness_fit.pearson_chi_squared_test(sppm_results)\n",
    "sppm_pearson_results"
   ]
  },
  {
   "cell_type": "code",
   "execution_count": 161,
   "metadata": {
    "ExecuteTime": {
     "end_time": "2019-03-15T16:59:54.378479Z",
     "start_time": "2019-03-15T16:59:54.360155Z"
    },
    "hidden": true
   },
   "outputs": [
    {
     "data": {
      "text/plain": [
       "count    6674.000000\n",
       "mean       -0.150816\n",
       "std         0.568236\n",
       "min        -1.572823\n",
       "25%        -0.472201\n",
       "50%        -0.276712\n",
       "75%        -0.000001\n",
       "max         3.147251\n",
       "dtype: float64"
      ]
     },
     "execution_count": 161,
     "metadata": {},
     "output_type": "execute_result"
    }
   ],
   "source": [
    "sppm_results.resid_deviance.describe()"
   ]
  },
  {
   "cell_type": "code",
   "execution_count": 162,
   "metadata": {
    "ExecuteTime": {
     "end_time": "2019-03-15T16:59:57.014246Z",
     "start_time": "2019-03-15T16:59:56.670035Z"
    },
    "hidden": true
   },
   "outputs": [
    {
     "data": {
      "image/png": "[encoded data removed]",
      "text/plain": [
       "<Figure size 432x288 with 1 Axes>"
      ]
     },
     "metadata": {
      "needs_background": "light"
     },
     "output_type": "display_data"
    }
   ],
   "source": [
    "plt.figure()\n",
    "plt.hist(sppm_results.resid_deviance)\n",
    "plt.show()"
   ]
  },
  {
   "cell_type": "markdown",
   "metadata": {
    "heading_collapsed": true,
    "hidden": true
   },
   "source": [
    "## Simple Poisson player minutes model"
   ]
  },
  {
   "cell_type": "markdown",
   "metadata": {
    "hidden": true
   },
   "source": [
    "### Preparing data"
   ]
  },
  {
   "cell_type": "code",
   "execution_count": 231,
   "metadata": {
    "ExecuteTime": {
     "end_time": "2019-03-16T11:00:34.834095Z",
     "start_time": "2019-03-16T11:00:34.825556Z"
    },
    "hidden": true
   },
   "outputs": [],
   "source": [
    "sppmm_df = element_gameweek_df.copy()"
   ]
  },
  {
   "cell_type": "code",
   "execution_count": 232,
   "metadata": {
    "ExecuteTime": {
     "end_time": "2019-03-16T11:00:35.213348Z",
     "start_time": "2019-03-16T11:00:35.169764Z"
    },
    "hidden": true
   },
   "outputs": [],
   "source": [
    "sppmm_df = player.add_categorical_variables(sppmm_df, 'opposition_team')\n",
    "sppmm_df = player.add_categorical_variables(sppmm_df, 'element')"
   ]
  },
  {
   "cell_type": "code",
   "execution_count": 233,
   "metadata": {
    "ExecuteTime": {
     "end_time": "2019-03-16T11:00:35.462370Z",
     "start_time": "2019-03-16T11:00:35.448898Z"
    },
    "hidden": true
   },
   "outputs": [],
   "source": [
    "sppmm_redundant_columns = [\n",
    "    'row_id', 'assists', 'attempted_passes', 'big_chances_created',\n",
    "    'big_chances_missed', 'bonus', 'bps', 'clean_sheets',\n",
    "    'clearances_blocks_interceptions', 'completed_passes', 'creativity',\n",
    "    'dribbles', 'ea_index', 'element', 'errors_leading_to_goal',\n",
    "    'errors_leading_to_goal_attempt', 'fixture', 'fouls', 'goals_conceded',\n",
    "    'ict_index', 'id', 'influence', 'key_passes', 'kickoff_time',\n",
    "    'kickoff_time_formatted', 'loaned_in', 'loaned_out', 'offside',\n",
    "    'open_play_crosses', 'opponent_team', 'own_goals', 'penalties_conceded',\n",
    "    'penalties_missed', 'penalties_saved', 'recoveries', 'red_cards', 'round',\n",
    "    'saves', 'selected', 'tackled', 'tackles', 'target_missed', 'team_a_score',\n",
    "    'team_h_score', 'threat', 'total_points', 'transfers_balance',\n",
    "    'transfers_in', 'transfers_out', 'value', 'winning_goals',\n",
    "    'yellow_cards', 'event', 'team_a', 'team_a_difficulty', 'team_h',\n",
    "    'team_h_difficulty', 'element_type', 'team', 'web_name', 'safe_web_name',\n",
    "    'own_team', 'opposition_team', 'was_home', 'minutes'\n",
    "]"
   ]
  },
  {
   "cell_type": "code",
   "execution_count": 234,
   "metadata": {
    "ExecuteTime": {
     "end_time": "2019-03-16T11:00:35.804552Z",
     "start_time": "2019-03-16T11:00:35.796384Z"
    },
    "hidden": true
   },
   "outputs": [],
   "source": [
    "sppmm_df['log_minutes'] = np.log(sppmm_df['minutes'])"
   ]
  },
  {
   "cell_type": "code",
   "execution_count": 235,
   "metadata": {
    "ExecuteTime": {
     "end_time": "2019-03-16T11:00:36.116651Z",
     "start_time": "2019-03-16T11:00:36.097154Z"
    },
    "hidden": true
   },
   "outputs": [],
   "source": [
    "sppmm_df = player.remove_redundant_columns(sppmm_df, sppmm_redundant_columns)"
   ]
  },
  {
   "cell_type": "code",
   "execution_count": 236,
   "metadata": {
    "ExecuteTime": {
     "end_time": "2019-03-16T11:00:36.480370Z",
     "start_time": "2019-03-16T11:00:36.269650Z"
    },
    "hidden": true
   },
   "outputs": [],
   "source": [
    "sppmm_response_df, sppmm_explanatory_df = player.get_response_explanatory_dfs(sppmm_df, 'goals_scored')"
   ]
  },
  {
   "cell_type": "code",
   "execution_count": 237,
   "metadata": {
    "ExecuteTime": {
     "end_time": "2019-03-16T11:00:36.495286Z",
     "start_time": "2019-03-16T11:00:36.488009Z"
    },
    "hidden": true
   },
   "outputs": [
    {
     "data": {
      "text/plain": [
       "Index(['const', 'opposition_team_2', 'opposition_team_3', 'opposition_team_4',\n",
       "       'opposition_team_5', 'opposition_team_6', 'opposition_team_7',\n",
       "       'opposition_team_8', 'opposition_team_9', 'opposition_team_10',\n",
       "       ...\n",
       "       'element_581', 'element_585', 'element_586', 'element_587',\n",
       "       'element_588', 'element_589', 'element_590', 'element_591',\n",
       "       'element_592', 'log_minutes'],\n",
       "      dtype='object', length=467)"
      ]
     },
     "execution_count": 237,
     "metadata": {},
     "output_type": "execute_result"
    }
   ],
   "source": [
    "sppmm_explanatory_df.columns"
   ]
  },
  {
   "cell_type": "markdown",
   "metadata": {
    "hidden": true
   },
   "source": [
    "### Fitting model"
   ]
  },
  {
   "cell_type": "code",
   "execution_count": 238,
   "metadata": {
    "ExecuteTime": {
     "end_time": "2019-03-16T11:00:50.795674Z",
     "start_time": "2019-03-16T11:00:36.922442Z"
    },
    "hidden": true
   },
   "outputs": [],
   "source": [
    "sppmm_results = sm.GLM(\n",
    "    sppmm_response_df,\n",
    "    sppmm_explanatory_df,\n",
    "    family=sm.families.Poisson(),\n",
    "    missing='drop'\n",
    ").fit()"
   ]
  },
  {
   "cell_type": "code",
   "execution_count": 239,
   "metadata": {
    "ExecuteTime": {
     "end_time": "2019-03-16T11:00:51.098612Z",
     "start_time": "2019-03-16T11:00:50.799276Z"
    },
    "hidden": true
   },
   "outputs": [
    {
     "name": "stdout",
     "output_type": "stream",
     "text": [
      "                 Generalized Linear Model Regression Results                  \n",
      "==============================================================================\n",
      "Dep. Variable:           goals_scored   No. Observations:                 6675\n",
      "Model:                            GLM   Df Residuals:                     6208\n",
      "Model Family:                 Poisson   Df Model:                          466\n",
      "Link Function:                    log   Scale:                             1.0\n",
      "Method:                          IRLS   Log-Likelihood:                -1776.8\n",
      "Date:                Sat, 16 Mar 2019   Deviance:                       2235.9\n",
      "Time:                        11:00:50   Pearson chi2:                 4.49e+03\n",
      "No. Iterations:                    25                                         \n",
      "======================================================================================\n",
      "                         coef    std err          z      P>|z|      [0.025      0.975]\n",
      "--------------------------------------------------------------------------------------\n",
      "const                 -4.2436      0.828     -5.124      0.000      -5.867      -2.620\n",
      "opposition_team_2      0.2345      0.228      1.028      0.304      -0.213       0.682\n",
      "opposition_team_3      0.0884      0.235      0.376      0.707      -0.373       0.550\n",
      "opposition_team_4      0.3463      0.228      1.516      0.130      -0.101       0.794\n",
      "opposition_team_5      0.3284      0.227      1.447      0.148      -0.116       0.773\n",
      "opposition_team_6     -0.1548      0.254     -0.609      0.542      -0.653       0.343\n",
      "opposition_team_7     -0.0285      0.243     -0.117      0.907      -0.505       0.448\n",
      "opposition_team_8      0.0050      0.240      0.021      0.983      -0.466       0.476\n",
      "opposition_team_9      0.4825      0.220      2.188      0.029       0.050       0.915\n",
      "opposition_team_10     0.2844      0.226      1.256      0.209      -0.159       0.728\n",
      "opposition_team_11    -0.0173      0.243     -0.071      0.943      -0.495       0.460\n",
      "opposition_team_12    -0.7950      0.311     -2.555      0.011      -1.405      -0.185\n",
      "opposition_team_13    -0.5950      0.288     -2.069      0.038      -1.159      -0.031\n",
      "opposition_team_14     0.0167      0.246      0.068      0.946      -0.465       0.498\n",
      "opposition_team_15    -0.1301      0.245     -0.531      0.595      -0.610       0.350\n",
      "opposition_team_16     0.1633      0.233      0.702      0.483      -0.293       0.619\n",
      "opposition_team_17    -0.2911      0.268     -1.088      0.277      -0.815       0.233\n",
      "opposition_team_18    -0.0668      0.250     -0.267      0.789      -0.557       0.423\n",
      "opposition_team_19     0.0782      0.238      0.329      0.742      -0.388       0.545\n",
      "opposition_team_20    -0.1747      0.251     -0.695      0.487      -0.668       0.318\n",
      "element_4            -26.4457   1.59e+05     -0.000      1.000   -3.11e+05    3.11e+05\n",
      "element_5             -1.2433      1.226     -1.014      0.310      -3.646       1.159\n",
      "element_6            -26.4271   2.18e+05     -0.000      1.000   -4.28e+05    4.28e+05\n",
      "element_7             -0.9834      1.001     -0.982      0.326      -2.946       0.979\n",
      "element_8            -26.5212   1.77e+05     -0.000      1.000   -3.47e+05    3.47e+05\n",
      "element_9             -1.4695      1.226     -1.199      0.231      -3.873       0.934\n",
      "element_10           -24.6254   7.04e+05   -3.5e-05      1.000   -1.38e+06    1.38e+06\n",
      "element_11           -26.2829   2.09e+05     -0.000      1.000    -4.1e+05     4.1e+05\n",
      "element_12           -26.5349   1.72e+05     -0.000      1.000   -3.38e+05    3.38e+05\n",
      "element_13            -0.0301      0.916     -0.033      0.974      -1.825       1.764\n",
      "element_14            -0.4340      1.003     -0.433      0.665      -2.400       1.532\n",
      "element_15            -0.4131      0.914     -0.452      0.651      -2.205       1.378\n",
      "element_16           -26.1836    3.4e+05  -7.71e-05      1.000   -6.66e+05    6.66e+05\n",
      "element_17            -0.6252      0.914     -0.684      0.494      -2.416       1.166\n",
      "element_18             0.3058      0.867      0.353      0.724      -1.393       2.005\n",
      "element_20            -0.6067      1.226     -0.495      0.621      -3.009       1.795\n",
      "element_21             0.2385      1.232      0.194      0.846      -2.176       2.653\n",
      "element_22             0.5971      0.776      0.770      0.442      -0.924       2.118\n",
      "element_23             0.9188      0.754      1.219      0.223      -0.559       2.397\n",
      "element_26           -26.3614   1.67e+05     -0.000      1.000   -3.27e+05    3.27e+05\n",
      "element_27            -1.8965      1.226     -1.547      0.122      -4.299       0.506\n",
      "element_28            -1.2616      1.226     -1.029      0.303      -3.664       1.141\n",
      "element_29            -1.4819      1.226     -1.209      0.227      -3.885       0.921\n",
      "element_30           -25.1262   2.91e+05  -8.64e-05      1.000    -5.7e+05     5.7e+05\n",
      "element_31            -0.7953      0.914     -0.870      0.384      -2.587       0.997\n",
      "element_33           -26.4330   1.48e+05     -0.000      1.000   -2.91e+05    2.91e+05\n",
      "element_35           -26.2616   1.71e+05     -0.000      1.000   -3.36e+05    3.36e+05\n",
      "element_36            -1.1172      1.227     -0.910      0.363      -3.522       1.288\n",
      "element_37           -26.2591   1.61e+05     -0.000      1.000   -3.16e+05    3.15e+05\n",
      "element_38           -25.6022   1.83e+05     -0.000      1.000    -3.6e+05     3.6e+05\n",
      "element_39           -26.0283   1.78e+05     -0.000      1.000   -3.49e+05    3.49e+05\n",
      "element_40            -0.2149      0.838     -0.256      0.798      -1.858       1.428\n",
      "element_42             0.1745      0.818      0.213      0.831      -1.429       1.778\n",
      "element_43             0.6364      0.776      0.820      0.412      -0.885       2.158\n",
      "element_44           -24.9432   1.62e+05     -0.000      1.000   -3.18e+05    3.17e+05\n",
      "element_45             0.3660      0.792      0.462      0.644      -1.187       1.919\n",
      "element_46           -24.7816   3.34e+05  -7.41e-05      1.000   -6.55e+05    6.55e+05\n",
      "element_48            -1.1522      1.001     -1.151      0.250      -3.115       0.810\n",
      "element_49            -0.1607      0.838     -0.192      0.848      -1.804       1.482\n",
      "element_50           -26.4839   2.44e+05     -0.000      1.000   -4.79e+05    4.79e+05\n",
      "element_51           -26.4387   1.57e+05     -0.000      1.000   -3.08e+05    3.08e+05\n",
      "element_54            -0.5757      1.227     -0.469      0.639      -2.981       1.830\n",
      "element_55            -1.3753      1.226     -1.122      0.262      -3.779       1.028\n",
      "element_56            -1.5121      1.226     -1.233      0.217      -3.915       0.891\n",
      "element_57            -0.6804      1.227     -0.554      0.579      -3.085       1.725\n",
      "element_58            -1.8209      1.226     -1.486      0.137      -4.223       0.582\n",
      "element_59            -0.7753      1.002     -0.774      0.439      -2.739       1.188\n",
      "element_60           -26.5566   1.47e+05     -0.000      1.000   -2.89e+05    2.89e+05\n",
      "element_61           -26.2462   2.23e+05     -0.000      1.000   -4.37e+05    4.37e+05\n",
      "element_62             0.6164      0.777      0.794      0.427      -0.906       2.138\n",
      "element_65            -0.4783      1.002     -0.477      0.633      -2.443       1.486\n",
      "element_66            -0.0984      1.004     -0.098      0.922      -2.066       1.870\n",
      "element_69           -26.5047   1.77e+05     -0.000      1.000   -3.47e+05    3.47e+05\n",
      "element_70           -26.5935   1.36e+05     -0.000      1.000   -2.67e+05    2.67e+05\n",
      "element_71           -26.6424   4.02e+05  -6.62e-05      1.000   -7.88e+05    7.88e+05\n",
      "element_72            -0.7086      0.914     -0.776      0.438      -2.499       1.082\n",
      "element_73           -26.5052   2.87e+05  -9.25e-05      1.000   -5.62e+05    5.62e+05\n",
      "element_74           -26.4891   1.34e+05     -0.000      1.000   -2.63e+05    2.63e+05\n",
      "element_75           -26.5416   1.93e+05     -0.000      1.000   -3.78e+05    3.78e+05\n",
      "element_76            -0.7688      1.001     -0.768      0.442      -2.730       1.193\n",
      "element_77           -26.2998   2.84e+05  -9.25e-05      1.000   -5.57e+05    5.57e+05\n",
      "element_78            -1.4081      1.226     -1.149      0.251      -3.811       0.995\n",
      "element_79           -26.0494   2.19e+05     -0.000      1.000   -4.29e+05    4.29e+05\n",
      "element_80           -26.4933   1.42e+05     -0.000      1.000   -2.78e+05    2.78e+05\n",
      "element_82            -1.9031      1.225     -1.553      0.120      -4.305       0.499\n",
      "element_83            -1.3285      1.226     -1.084      0.278      -3.731       1.074\n",
      "element_84            -0.0481      0.915     -0.053      0.958      -1.842       1.746\n",
      "element_85             0.4283      0.803      0.533      0.594      -1.146       2.003\n",
      "element_87             0.1159      0.818      0.142      0.887      -1.487       1.719\n",
      "element_90           -26.5424   1.48e+05     -0.000      1.000    -2.9e+05     2.9e+05\n",
      "element_91            -0.7966      0.914     -0.871      0.384      -2.589       0.995\n",
      "element_92           -26.5635   1.36e+05     -0.000      1.000   -2.67e+05    2.67e+05\n",
      "element_94           -26.5786   1.64e+05     -0.000      1.000   -3.21e+05    3.21e+05\n",
      "element_95           -26.1831   2.07e+05     -0.000      1.000   -4.06e+05    4.06e+05\n",
      "element_96           -25.7429   4.03e+05  -6.39e-05      1.000    -7.9e+05     7.9e+05\n",
      "element_98           -26.3219   1.47e+05     -0.000      1.000   -2.89e+05    2.89e+05\n",
      "element_99            -0.7036      1.002     -0.702      0.483      -2.667       1.260\n",
      "element_100           -0.4631      1.228     -0.377      0.706      -2.869       1.943\n",
      "element_101           -0.3507      0.867     -0.404      0.686      -2.051       1.350\n",
      "element_102           -1.4159      1.226     -1.155      0.248      -3.818       0.987\n",
      "element_104          -24.8758   4.93e+05  -5.04e-05      1.000   -9.67e+05    9.67e+05\n",
      "element_105           -0.1489      1.229     -0.121      0.904      -2.558       2.260\n",
      "element_106           -0.2957      0.915     -0.323      0.747      -2.089       1.497\n",
      "element_107           -0.2931      1.228     -0.239      0.811      -2.701       2.115\n",
      "element_109          -24.7890   2.99e+05  -8.29e-05      1.000   -5.86e+05    5.86e+05\n",
      "element_110            0.1635      0.869      0.188      0.851      -1.539       1.866\n",
      "element_113          -26.5727   1.36e+05     -0.000      1.000   -2.67e+05    2.67e+05\n",
      "element_114          -25.7124   7.04e+05  -3.65e-05      1.000   -1.38e+06    1.38e+06\n",
      "element_115           -1.8714      1.226     -1.527      0.127      -4.274       0.531\n",
      "element_116           -1.2035      1.001     -1.202      0.229      -3.166       0.759\n",
      "element_117          -25.0655   4.91e+05  -5.11e-05      1.000   -9.61e+05    9.61e+05\n",
      "element_118           -1.8708      1.226     -1.526      0.127      -4.274       0.532\n",
      "element_119          -26.6387   4.96e+05  -5.37e-05      1.000   -9.72e+05    9.72e+05\n",
      "element_120          -25.4797   4.92e+05  -5.18e-05      1.000   -9.64e+05    9.64e+05\n",
      "element_121          -25.5445   3.14e+05  -8.12e-05      1.000   -6.16e+05    6.16e+05\n",
      "element_122            0.7038      0.765      0.919      0.358      -0.796       2.204\n",
      "element_123          -25.7254   2.81e+05  -9.15e-05      1.000   -5.51e+05    5.51e+05\n",
      "element_124           -0.5385      0.915     -0.589      0.556      -2.331       1.254\n",
      "element_125            0.5386      0.804      0.670      0.503      -1.038       2.115\n",
      "element_126           -0.8237      0.914     -0.901      0.368      -2.616       0.968\n",
      "element_127           -0.0950      0.916     -0.104      0.917      -1.890       1.700\n",
      "element_131          -25.4856   3.46e+05  -7.36e-05      1.000   -6.78e+05    6.78e+05\n",
      "element_132            0.6218      0.918      0.677      0.498      -1.178       2.422\n",
      "element_133           -0.9636      1.228     -0.785      0.433      -3.370       1.443\n",
      "element_134            0.4472      0.839      0.533      0.594      -1.197       2.092\n",
      "element_138           -1.7374      1.226     -1.418      0.156      -4.139       0.665\n",
      "element_139          -23.8496   7.04e+05  -3.39e-05      1.000   -1.38e+06    1.38e+06\n",
      "element_140          -26.4288   3.08e+05  -8.57e-05      1.000   -6.05e+05    6.05e+05\n",
      "element_141            0.1644      0.868      0.189      0.850      -1.537       1.865\n",
      "element_142           -1.9048      1.225     -1.554      0.120      -4.307       0.497\n",
      "element_143          -26.5534   1.36e+05     -0.000      1.000   -2.66e+05    2.66e+05\n",
      "element_145          -26.5523   1.38e+05     -0.000      1.000   -2.71e+05    2.71e+05\n",
      "element_146          -25.4544   1.97e+05     -0.000      1.000   -3.86e+05    3.86e+05\n",
      "element_147           -1.1676      1.001     -1.167      0.243      -3.129       0.794\n",
      "element_148          -24.1687   7.04e+05  -3.43e-05      1.000   -1.38e+06    1.38e+06\n",
      "element_149           -0.5189      0.867     -0.598      0.550      -2.218       1.180\n",
      "element_150            0.0297      0.803      0.037      0.970      -1.544       1.603\n",
      "element_151           -0.1181      0.838     -0.141      0.888      -1.760       1.524\n",
      "element_152          -26.3839   2.53e+05     -0.000      1.000   -4.96e+05    4.96e+05\n",
      "element_153          -25.2818   1.99e+05     -0.000      1.000   -3.91e+05    3.91e+05\n",
      "element_156          -26.3632   2.82e+05  -9.36e-05      1.000   -5.52e+05    5.52e+05\n",
      "element_157           -1.6492      1.226     -1.345      0.179      -4.052       0.754\n",
      "element_158          -25.5308   4.84e+05  -5.27e-05      1.000   -9.49e+05    9.49e+05\n",
      "element_160          -26.6262   3.12e+05  -8.53e-05      1.000   -6.12e+05    6.12e+05\n",
      "element_161          -26.4423    2.3e+05     -0.000      1.000   -4.52e+05    4.52e+05\n",
      "element_162           -1.8335      1.226     -1.496      0.135      -4.236       0.569\n",
      "element_164           -0.6143      0.914     -0.672      0.502      -2.406       1.178\n",
      "element_167          -25.7653   2.39e+05     -0.000      1.000   -4.68e+05    4.68e+05\n",
      "element_168          -26.5262   1.48e+05     -0.000      1.000    -2.9e+05     2.9e+05\n",
      "element_169          -26.3919   1.87e+05     -0.000      1.000   -3.67e+05    3.67e+05\n",
      "element_170          -25.8734   1.81e+05     -0.000      1.000   -3.55e+05    3.55e+05\n",
      "element_172            0.3051      0.783      0.390      0.697      -1.230       1.840\n",
      "element_175            0.2337      0.869      0.269      0.788      -1.470       1.937\n",
      "element_176          -25.9300   2.22e+05     -0.000      1.000   -4.36e+05    4.36e+05\n",
      "element_177           -0.5147      1.002     -0.513      0.608      -2.480       1.450\n",
      "element_180          -26.4202   1.71e+05     -0.000      1.000   -3.36e+05    3.36e+05\n",
      "element_181          -26.5585   1.42e+05     -0.000      1.000   -2.78e+05    2.78e+05\n",
      "element_182          -26.3085   1.54e+05     -0.000      1.000   -3.01e+05    3.01e+05\n",
      "element_183          -26.2929   2.14e+05     -0.000      1.000   -4.19e+05    4.19e+05\n",
      "element_184           -0.7997      1.002     -0.798      0.425      -2.763       1.164\n",
      "element_185          -25.7339   1.92e+05     -0.000      1.000   -3.77e+05    3.77e+05\n",
      "element_186          -25.3638   2.35e+05     -0.000      1.000   -4.61e+05    4.61e+05\n",
      "element_187          -25.3796   3.48e+05  -7.29e-05      1.000   -6.82e+05    6.82e+05\n",
      "element_189            0.2646      0.916      0.289      0.773      -1.530       2.059\n",
      "element_192           -1.9099      1.226     -1.558      0.119      -4.313       0.493\n",
      "element_193          -26.3327   1.53e+05     -0.000      1.000      -3e+05       3e+05\n",
      "element_194          -26.2190   2.63e+05  -9.97e-05      1.000   -5.16e+05    5.16e+05\n",
      "element_195           -0.7240      0.915     -0.792      0.429      -2.517       1.069\n",
      "element_197          -26.4816   1.49e+05     -0.000      1.000   -2.92e+05    2.92e+05\n",
      "element_198           -1.7152      1.226     -1.399      0.162      -4.118       0.687\n",
      "element_199           -0.8230      1.002     -0.822      0.411      -2.786       1.140\n",
      "element_200          -26.6178   3.13e+05  -8.49e-05      1.000   -6.14e+05    6.14e+05\n",
      "element_201          -26.5465   1.58e+05     -0.000      1.000    -3.1e+05     3.1e+05\n",
      "element_202           -1.0818      1.001     -1.080      0.280      -3.044       0.881\n",
      "element_204          -25.4199   3.61e+05  -7.03e-05      1.000   -7.08e+05    7.08e+05\n",
      "element_205          -25.1414    4.9e+05  -5.13e-05      1.000    -9.6e+05     9.6e+05\n",
      "element_206           -1.5248      1.226     -1.244      0.214      -3.928       0.878\n",
      "element_207          -25.3721   3.38e+05   -7.5e-05      1.000   -6.63e+05    6.63e+05\n",
      "element_208          -26.0737   2.24e+05     -0.000      1.000   -4.39e+05    4.39e+05\n",
      "element_209          -25.5588   4.91e+05   -5.2e-05      1.000   -9.63e+05    9.63e+05\n",
      "element_210          -25.8798   1.39e+05     -0.000      1.000   -2.73e+05    2.73e+05\n",
      "element_211           -1.4846      1.226     -1.211      0.226      -3.888       0.918\n",
      "element_212          -26.3566      2e+05     -0.000      1.000   -3.91e+05    3.91e+05\n",
      "element_215           -1.4668      1.226     -1.197      0.231      -3.869       0.936\n",
      "element_216          -26.5368   7.04e+05  -3.77e-05      1.000   -1.38e+06    1.38e+06\n",
      "element_217          -26.1797   2.95e+05  -8.87e-05      1.000   -5.79e+05    5.79e+05\n",
      "element_219          -26.5433   1.39e+05     -0.000      1.000   -2.72e+05    2.72e+05\n",
      "element_220           -0.5018      0.915     -0.549      0.583      -2.295       1.291\n",
      "element_221           -1.0342      1.002     -1.032      0.302      -2.998       0.930\n",
      "element_222          -26.3950   1.84e+05     -0.000      1.000   -3.61e+05     3.6e+05\n",
      "element_223            0.4433      0.840      0.528      0.598      -1.203       2.089\n",
      "element_224           -0.7474      1.002     -0.746      0.456      -2.710       1.216\n",
      "element_225           -0.4000      0.915     -0.437      0.662      -2.194       1.394\n",
      "element_226          -26.3150   2.23e+05     -0.000      1.000   -4.37e+05    4.37e+05\n",
      "element_227           -1.1997      1.001     -1.198      0.231      -3.162       0.763\n",
      "element_228          -25.6598   2.35e+05     -0.000      1.000   -4.61e+05    4.61e+05\n",
      "element_230          -26.1015   2.99e+05  -8.73e-05      1.000   -5.86e+05    5.86e+05\n",
      "element_231          -25.8491   4.66e+05  -5.54e-05      1.000   -9.14e+05    9.14e+05\n",
      "element_232          -26.7209   7.04e+05  -3.79e-05      1.000   -1.38e+06    1.38e+06\n",
      "element_233           -0.0785      0.838     -0.094      0.925      -1.721       1.564\n",
      "element_234            0.4643      0.793      0.586      0.558      -1.090       2.018\n",
      "element_235          -25.0301   1.62e+05     -0.000      1.000   -3.18e+05    3.18e+05\n",
      "element_236           -1.1846      1.227     -0.966      0.334      -3.589       1.220\n",
      "element_239           -0.7745      1.227     -0.631      0.528      -3.179       1.630\n",
      "element_240          -26.7971   4.98e+05  -5.39e-05      1.000   -9.75e+05    9.75e+05\n",
      "element_241          -26.0725   2.28e+05     -0.000      1.000   -4.47e+05    4.47e+05\n",
      "element_242          -26.4941   1.93e+05     -0.000      1.000   -3.77e+05    3.77e+05\n",
      "element_243           -0.7665      1.227     -0.625      0.532      -3.172       1.639\n",
      "element_245           -1.5194      1.226     -1.239      0.215      -3.922       0.883\n",
      "element_246           -1.9227      1.226     -1.569      0.117      -4.325       0.480\n",
      "element_247          -26.5520   1.42e+05     -0.000      1.000   -2.79e+05    2.79e+05\n",
      "element_249          -26.1614   1.49e+05     -0.000      1.000   -2.92e+05    2.92e+05\n",
      "element_250          -25.8358   2.19e+05     -0.000      1.000   -4.29e+05    4.29e+05\n",
      "element_251            0.7099      0.766      0.927      0.354      -0.791       2.210\n",
      "element_252           -1.0188      1.001     -1.017      0.309      -2.981       0.944\n",
      "element_253            0.9467      0.749      1.264      0.206      -0.522       2.415\n",
      "element_254           -0.4019      0.915     -0.439      0.660      -2.194       1.391\n",
      "element_255           -1.3624      1.226     -1.111      0.267      -3.766       1.041\n",
      "element_256          -26.0869   1.51e+05     -0.000      1.000   -2.95e+05    2.95e+05\n",
      "element_257            0.3782      0.784      0.483      0.629      -1.157       1.914\n",
      "element_258            0.5960      0.804      0.741      0.459      -0.980       2.172\n",
      "element_259          -25.9869   4.61e+05  -5.64e-05      1.000   -9.03e+05    9.03e+05\n",
      "element_262          -26.4222   1.64e+05     -0.000      1.000   -3.21e+05    3.21e+05\n",
      "element_263          -25.9911   2.05e+05     -0.000      1.000   -4.02e+05    4.02e+05\n",
      "element_264          -26.3696   1.87e+05     -0.000      1.000   -3.66e+05    3.66e+05\n",
      "element_265           -1.6892      1.226     -1.378      0.168      -4.092       0.713\n",
      "element_266           -0.5630      1.227     -0.459      0.646      -2.967       1.841\n",
      "element_267          -26.5187   2.31e+05     -0.000      1.000   -4.53e+05    4.53e+05\n",
      "element_268           -1.2267      1.001     -1.225      0.220      -3.189       0.736\n",
      "element_269          -26.3793   2.06e+05     -0.000      1.000   -4.05e+05    4.05e+05\n",
      "element_270            0.7480      0.765      0.977      0.328      -0.752       2.248\n",
      "element_271            0.1975      0.818      0.241      0.809      -1.406       1.800\n",
      "element_272           -1.8499      1.226     -1.509      0.131      -4.252       0.552\n",
      "element_273           -0.6216      1.228     -0.506      0.613      -3.028       1.785\n",
      "element_274            0.2042      0.839      0.243      0.808      -1.440       1.849\n",
      "element_275            0.5196      0.792      0.656      0.512      -1.033       2.072\n",
      "element_276           -0.2083      0.838     -0.249      0.804      -1.851       1.435\n",
      "element_277          -25.2353   2.32e+05     -0.000      1.000   -4.55e+05    4.55e+05\n",
      "element_279          -26.5641   3.51e+05  -7.57e-05      1.000   -6.87e+05    6.87e+05\n",
      "element_280            1.1925      0.749      1.592      0.111      -0.276       2.661\n",
      "element_281            0.6772      0.820      0.826      0.409      -0.930       2.285\n",
      "element_284           -1.3010      1.226     -1.061      0.289      -3.704       1.102\n",
      "element_285          -26.4347   1.89e+05     -0.000      1.000   -3.71e+05    3.71e+05\n",
      "element_286           -1.6965      1.226     -1.384      0.166      -4.100       0.707\n",
      "element_287          -26.3972   4.97e+05  -5.31e-05      1.000   -9.75e+05    9.75e+05\n",
      "element_288          -26.5050   3.11e+05  -8.51e-05      1.000    -6.1e+05     6.1e+05\n",
      "element_289          -25.9942   2.84e+05  -9.14e-05      1.000   -5.57e+05    5.57e+05\n",
      "element_291          -25.9122   2.01e+05     -0.000      1.000   -3.95e+05    3.95e+05\n",
      "element_292           -1.6630      1.226     -1.356      0.175      -4.067       0.740\n",
      "element_293           -1.6073      1.226     -1.311      0.190      -4.010       0.795\n",
      "element_294          -26.3017   2.31e+05     -0.000      1.000   -4.53e+05    4.53e+05\n",
      "element_295           -0.7970      1.228     -0.649      0.516      -3.205       1.611\n",
      "element_296           -1.8326      1.226     -1.495      0.135      -4.235       0.570\n",
      "element_297           -0.5667      1.002     -0.566      0.572      -2.530       1.396\n",
      "element_298          -26.0116   1.79e+05     -0.000      1.000    -3.5e+05     3.5e+05\n",
      "element_299           -0.6691      1.001     -0.668      0.504      -2.632       1.294\n",
      "element_300           -0.0254      0.868     -0.029      0.977      -1.727       1.676\n",
      "element_301            0.7956      0.784      1.015      0.310      -0.741       2.332\n",
      "element_302            0.5973      0.771      0.775      0.438      -0.913       2.108\n",
      "element_303          -25.7050   2.25e+05     -0.000      1.000   -4.41e+05    4.41e+05\n",
      "element_304           -0.6615      1.227     -0.539      0.590      -3.066       1.743\n",
      "element_305            0.6113      0.784      0.780      0.435      -0.924       2.147\n",
      "element_306            0.5513      0.792      0.696      0.487      -1.002       2.104\n",
      "element_310           -1.7108      1.226     -1.395      0.163      -4.114       0.692\n",
      "element_311            0.1689      0.915      0.185      0.854      -1.625       1.963\n",
      "element_312          -26.4726   1.48e+05     -0.000      1.000   -2.89e+05    2.89e+05\n",
      "element_313          -26.4131   1.74e+05     -0.000      1.000   -3.41e+05    3.41e+05\n",
      "element_314          -26.3997    3.1e+05  -8.53e-05      1.000   -6.07e+05    6.07e+05\n",
      "element_315          -25.8962   1.77e+05     -0.000      1.000   -3.47e+05    3.47e+05\n",
      "element_317           -1.7330      1.226     -1.414      0.157      -4.136       0.670\n",
      "element_318          -26.3378   2.07e+05     -0.000      1.000   -4.05e+05    4.05e+05\n",
      "element_319          -26.4780   1.46e+05     -0.000      1.000   -2.87e+05    2.87e+05\n",
      "element_320          -26.1914   1.56e+05     -0.000      1.000   -3.05e+05    3.05e+05\n",
      "element_321          -25.6737   2.21e+05     -0.000      1.000   -4.33e+05    4.33e+05\n",
      "element_323           -0.8524      1.227     -0.695      0.487      -3.257       1.553\n",
      "element_324          -26.4768   2.06e+05     -0.000      1.000   -4.04e+05    4.04e+05\n",
      "element_326           -0.6752      0.914     -0.738      0.460      -2.467       1.117\n",
      "element_327            0.0663      1.004      0.066      0.947      -1.901       2.034\n",
      "element_330           -1.1717      1.227     -0.955      0.339      -3.576       1.232\n",
      "element_331          -26.5804   2.32e+05     -0.000      1.000   -4.55e+05    4.55e+05\n",
      "element_332           -1.4299      1.226     -1.166      0.244      -3.833       0.973\n",
      "element_333           -1.3080      1.227     -1.066      0.286      -3.713       1.097\n",
      "element_335          -26.4875    1.9e+05     -0.000      1.000   -3.72e+05    3.72e+05\n",
      "element_336          -26.5168   1.92e+05     -0.000      1.000   -3.76e+05    3.76e+05\n",
      "element_337          -25.2400   3.63e+05  -6.94e-05      1.000   -7.12e+05    7.12e+05\n",
      "element_338            0.1046      0.916      0.114      0.909      -1.691       1.900\n",
      "element_339          -26.2924   1.52e+05     -0.000      1.000   -2.99e+05    2.99e+05\n",
      "element_340           -0.4695      0.915     -0.513      0.608      -2.262       1.323\n",
      "element_343           -0.7962      0.915     -0.870      0.384      -2.589       0.996\n",
      "element_344          -26.4598   1.62e+05     -0.000      1.000   -3.18e+05    3.18e+05\n",
      "element_345           -0.2185      0.915     -0.239      0.811      -2.012       1.575\n",
      "element_346          -25.9939   1.79e+05     -0.000      1.000   -3.51e+05    3.51e+05\n",
      "element_347           -0.9638      1.227     -0.785      0.432      -3.369       1.442\n",
      "element_348           -0.3229      1.003     -0.322      0.748      -2.290       1.644\n",
      "element_349           -0.5867      1.228     -0.478      0.633      -2.993       1.820\n",
      "element_353          -26.5669   1.41e+05     -0.000      1.000   -2.77e+05    2.77e+05\n",
      "element_354          -26.3731   1.68e+05     -0.000      1.000    -3.3e+05     3.3e+05\n",
      "element_355           -1.2844      1.227     -1.047      0.295      -3.688       1.120\n",
      "element_356          -26.3150   1.63e+05     -0.000      1.000    -3.2e+05     3.2e+05\n",
      "element_357           -1.6922      1.226     -1.380      0.167      -4.095       0.710\n",
      "element_358          -25.6725   3.54e+05  -7.25e-05      1.000   -6.94e+05    6.94e+05\n",
      "element_359           -1.3640      1.226     -1.112      0.266      -3.767       1.040\n",
      "element_360          -26.2654   2.63e+05     -0.000      1.000   -5.15e+05    5.15e+05\n",
      "element_361           -0.5479      1.001     -0.547      0.584      -2.509       1.414\n",
      "element_362          -26.0283   2.15e+05     -0.000      1.000   -4.21e+05    4.21e+05\n",
      "element_363            0.4109      0.869      0.473      0.636      -1.292       2.113\n",
      "element_364           -0.0435      0.839     -0.052      0.959      -1.687       1.600\n",
      "element_365            0.2309      0.839      0.275      0.783      -1.413       1.875\n",
      "element_366          -25.6372   2.87e+05  -8.92e-05      1.000   -5.63e+05    5.63e+05\n",
      "element_367            0.9330      0.771      1.209      0.226      -0.579       2.445\n",
      "element_368           -1.5048      1.226     -1.227      0.220      -3.908       0.899\n",
      "element_369          -26.3917   1.52e+05     -0.000      1.000   -2.98e+05    2.98e+05\n",
      "element_370            0.2687      0.818      0.328      0.743      -1.335       1.872\n",
      "element_371           -0.2628      1.229     -0.214      0.831      -2.671       2.146\n",
      "element_372            0.9017      0.758      1.190      0.234      -0.583       2.387\n",
      "element_376           -0.7775      0.914     -0.850      0.395      -2.570       1.015\n",
      "element_377          -25.1527   7.04e+05  -3.57e-05      1.000   -1.38e+06    1.38e+06\n",
      "element_378           -0.7038      0.915     -0.769      0.442      -2.497       1.089\n",
      "element_379          -25.6736   7.04e+05  -3.65e-05      1.000   -1.38e+06    1.38e+06\n",
      "element_380          -26.4461   1.75e+05     -0.000      1.000   -3.42e+05    3.42e+05\n",
      "element_381          -26.5846    2.2e+05     -0.000      1.000   -4.31e+05    4.31e+05\n",
      "element_382          -26.1726   1.51e+05     -0.000      1.000   -2.96e+05    2.96e+05\n",
      "element_383          -26.2985    1.5e+05     -0.000      1.000   -2.94e+05    2.94e+05\n",
      "element_385          -26.5135   7.04e+05  -3.76e-05      1.000   -1.38e+06    1.38e+06\n",
      "element_386          -25.8610   2.59e+05  -9.98e-05      1.000   -5.08e+05    5.08e+05\n",
      "element_387          -25.3482    2.4e+05     -0.000      1.000   -4.71e+05    4.71e+05\n",
      "element_388           -0.2283      1.228     -0.186      0.853      -2.636       2.179\n",
      "element_389           -1.7672      1.226     -1.441      0.150      -4.170       0.636\n",
      "element_390           -0.6749      0.914     -0.738      0.460      -2.467       1.117\n",
      "element_391           -0.0328      0.818     -0.040      0.968      -1.637       1.571\n",
      "element_392           -1.5211      1.226     -1.241      0.215      -3.924       0.882\n",
      "element_393            0.5330      0.776      0.687      0.492      -0.989       2.055\n",
      "element_394           -0.3129      0.915     -0.342      0.732      -2.106       1.480\n",
      "element_395            0.3312      0.869      0.381      0.703      -1.372       2.035\n",
      "element_396           -0.1454      0.839     -0.173      0.862      -1.789       1.498\n",
      "element_397          -25.3087   4.96e+05   -5.1e-05      1.000   -9.73e+05    9.73e+05\n",
      "element_402          -26.4315   1.83e+05     -0.000      1.000   -3.58e+05    3.58e+05\n",
      "element_403          -26.3250   1.78e+05     -0.000      1.000   -3.49e+05    3.49e+05\n",
      "element_405          -26.5129   1.58e+05     -0.000      1.000    -3.1e+05     3.1e+05\n",
      "element_406           -1.7836      1.226     -1.455      0.146      -4.186       0.619\n",
      "element_408          -26.1495   2.82e+05  -9.28e-05      1.000   -5.52e+05    5.52e+05\n",
      "element_409          -26.5723   1.42e+05     -0.000      1.000   -2.78e+05    2.78e+05\n",
      "element_410          -26.2165   1.56e+05     -0.000      1.000   -3.06e+05    3.06e+05\n",
      "element_411           -1.5331      1.226     -1.250      0.211      -3.937       0.871\n",
      "element_412          -26.2942   1.48e+05     -0.000      1.000   -2.91e+05    2.91e+05\n",
      "element_413          -26.0393   1.63e+05     -0.000      1.000   -3.19e+05    3.19e+05\n",
      "element_415           -0.3850      0.915     -0.421      0.674      -2.178       1.408\n",
      "element_417            0.5378      0.805      0.668      0.504      -1.039       2.115\n",
      "element_418          -25.9555   2.05e+05     -0.000      1.000   -4.02e+05    4.02e+05\n",
      "element_419            0.2586      0.869      0.297      0.766      -1.446       1.963\n",
      "element_423           -0.6966      0.914     -0.762      0.446      -2.489       1.096\n",
      "element_425           -0.7550      0.914     -0.826      0.409      -2.547       1.037\n",
      "element_426           -0.2045      1.002     -0.204      0.838      -2.168       1.759\n",
      "element_427           -1.8380      1.226     -1.499      0.134      -4.241       0.565\n",
      "element_430          -26.5364   1.36e+05     -0.000      1.000   -2.67e+05    2.67e+05\n",
      "element_431          -25.7822   1.82e+05     -0.000      1.000   -3.57e+05    3.57e+05\n",
      "element_432            0.1408      0.839      0.168      0.867      -1.503       1.785\n",
      "element_433           -0.6520      0.915     -0.713      0.476      -2.445       1.141\n",
      "element_434            0.4387      0.918      0.478      0.633      -1.361       2.238\n",
      "element_435           -1.4713      1.226     -1.200      0.230      -3.875       0.932\n",
      "element_437            0.3653      0.783      0.466      0.641      -1.170       1.901\n",
      "element_438          -25.3921   2.52e+05     -0.000      1.000   -4.95e+05    4.94e+05\n",
      "element_440          -26.5373   2.09e+05     -0.000      1.000   -4.09e+05    4.09e+05\n",
      "element_441          -25.7103   4.48e+05  -5.74e-05      1.000   -8.77e+05    8.77e+05\n",
      "element_443          -24.1687   7.04e+05  -3.43e-05      1.000   -1.38e+06    1.38e+06\n",
      "element_444          -24.9358   2.83e+05  -8.81e-05      1.000   -5.55e+05    5.55e+05\n",
      "element_446           -0.9303      1.227     -0.758      0.448      -3.336       1.475\n",
      "element_447          -26.0862   2.95e+05  -8.83e-05      1.000   -5.79e+05    5.79e+05\n",
      "element_448          -25.5163   1.53e+05     -0.000      1.000      -3e+05       3e+05\n",
      "element_450           -1.0474      1.001     -1.046      0.295      -3.009       0.914\n",
      "element_451          -26.3347   1.41e+05     -0.000      1.000   -2.76e+05    2.76e+05\n",
      "element_453            0.3344      1.003      0.333      0.739      -1.632       2.301\n",
      "element_455          -26.5613    1.6e+05     -0.000      1.000   -3.13e+05    3.13e+05\n",
      "element_456           -1.8155      1.226     -1.481      0.139      -4.219       0.588\n",
      "element_458           -1.3656      1.226     -1.114      0.265      -3.769       1.037\n",
      "element_459           -1.8679      1.226     -1.524      0.128      -4.270       0.535\n",
      "element_460          -26.3460   1.53e+05     -0.000      1.000   -3.01e+05    3.01e+05\n",
      "element_461          -26.3656   1.61e+05     -0.000      1.000   -3.16e+05    3.15e+05\n",
      "element_462            0.4803      0.819      0.586      0.558      -1.125       2.085\n",
      "element_463          -26.5926   1.69e+05     -0.000      1.000   -3.31e+05    3.31e+05\n",
      "element_464           -1.4397      1.226     -1.174      0.240      -3.842       0.963\n",
      "element_465            0.1882      0.793      0.237      0.812      -1.365       1.742\n",
      "element_466          -26.1336   1.59e+05     -0.000      1.000   -3.11e+05    3.11e+05\n",
      "element_467          -26.5099   2.63e+05     -0.000      1.000   -5.15e+05    5.14e+05\n",
      "element_471          -25.8970   1.96e+05     -0.000      1.000   -3.83e+05    3.83e+05\n",
      "element_472            0.5169      1.006      0.514      0.607      -1.454       2.488\n",
      "element_473          -26.0498   2.35e+05     -0.000      1.000   -4.61e+05    4.61e+05\n",
      "element_475           -1.8096      1.226     -1.476      0.140      -4.212       0.593\n",
      "element_476          -25.8655   2.01e+05     -0.000      1.000   -3.93e+05    3.93e+05\n",
      "element_478            0.1805      0.819      0.221      0.825      -1.424       1.785\n",
      "element_479          -26.4400   1.89e+05     -0.000      1.000    -3.7e+05     3.7e+05\n",
      "element_480            0.4033      0.777      0.519      0.604      -1.119       1.925\n",
      "element_481          -25.8023   2.48e+05     -0.000      1.000   -4.86e+05    4.86e+05\n",
      "element_482           -0.5932      1.001     -0.592      0.554      -2.556       1.370\n",
      "element_483           -1.6741      1.226     -1.365      0.172      -4.077       0.729\n",
      "element_484           -0.6564      0.914     -0.718      0.473      -2.448       1.135\n",
      "element_486           -1.1961      1.226     -0.975      0.329      -3.600       1.208\n",
      "element_487          -26.3980   1.93e+05     -0.000      1.000   -3.78e+05    3.78e+05\n",
      "element_488           -0.4472      1.228     -0.364      0.716      -2.854       1.960\n",
      "element_489           -0.9389      1.002     -0.937      0.349      -2.903       1.025\n",
      "element_491            1.5979      1.238      1.291      0.197      -0.829       4.025\n",
      "element_492           -0.9068      1.228     -0.738      0.460      -3.314       1.500\n",
      "element_493            0.2673      0.818      0.327      0.744      -1.337       1.871\n",
      "element_494           -1.5719      1.226     -1.282      0.200      -3.974       0.831\n",
      "element_495           -0.0635      1.229     -0.052      0.959      -2.472       2.345\n",
      "element_497          -25.0557   7.04e+05  -3.56e-05      1.000   -1.38e+06    1.38e+06\n",
      "element_499          -26.1228   1.41e+05     -0.000      1.000   -2.77e+05    2.77e+05\n",
      "element_500           -0.9524      1.228     -0.776      0.438      -3.359       1.454\n",
      "element_502            0.2494      1.004      0.248      0.804      -1.719       2.218\n",
      "element_503          -26.5522   1.62e+05     -0.000      1.000   -3.18e+05    3.18e+05\n",
      "element_504           -0.5981      0.914     -0.654      0.513      -2.390       1.194\n",
      "element_505           -1.2127      1.226     -0.989      0.323      -3.616       1.190\n",
      "element_506           -0.6486      1.227     -0.529      0.597      -3.053       1.756\n",
      "element_507          -26.1295   1.41e+05     -0.000      1.000   -2.76e+05    2.76e+05\n",
      "element_508           -1.4706      1.226     -1.199      0.230      -3.874       0.932\n",
      "element_510          -26.4692   1.74e+05     -0.000      1.000   -3.41e+05     3.4e+05\n",
      "element_511          -26.3044   2.26e+05     -0.000      1.000   -4.42e+05    4.42e+05\n",
      "element_512          -26.1289   2.07e+05     -0.000      1.000   -4.05e+05    4.05e+05\n",
      "element_513           -1.1900      1.227     -0.970      0.332      -3.595       1.215\n",
      "element_514          -25.8012   1.61e+05     -0.000      1.000   -3.16e+05    3.16e+05\n",
      "element_515          -26.2259   2.82e+05  -9.31e-05      1.000   -5.52e+05    5.52e+05\n",
      "element_516          -26.4597   1.79e+05     -0.000      1.000    -3.5e+05     3.5e+05\n",
      "element_517           -0.0081      1.228     -0.007      0.995      -2.416       2.400\n",
      "element_518          -25.8223   2.95e+05  -8.76e-05      1.000   -5.78e+05    5.78e+05\n",
      "element_519           -0.2783      1.227     -0.227      0.821      -2.684       2.127\n",
      "element_521          -25.6386    3.9e+05  -6.58e-05      1.000   -7.64e+05    7.64e+05\n",
      "element_522            1.8775      1.242      1.512      0.131      -0.557       4.312\n",
      "element_523          -23.9996   7.04e+05  -3.41e-05      1.000   -1.38e+06    1.38e+06\n",
      "element_524           -1.0963      1.227     -0.893      0.372      -3.502       1.309\n",
      "element_526           -1.6816      1.226     -1.372      0.170      -4.084       0.721\n",
      "element_527          -26.5154   1.44e+05     -0.000      1.000   -2.83e+05    2.83e+05\n",
      "element_531          -26.1823   2.73e+05  -9.59e-05      1.000   -5.35e+05    5.35e+05\n",
      "element_534           -0.8535      1.226     -0.696      0.486      -3.256       1.549\n",
      "element_535           -0.2914      1.229     -0.237      0.813      -2.700       2.118\n",
      "element_539          -25.8821   1.84e+05     -0.000      1.000    -3.6e+05     3.6e+05\n",
      "element_540          -25.8169   2.68e+05  -9.64e-05      1.000   -5.25e+05    5.25e+05\n",
      "element_543            0.7363      1.234      0.597      0.551      -1.682       3.154\n",
      "element_544          -24.8510   4.76e+05  -5.22e-05      1.000   -9.33e+05    9.33e+05\n",
      "element_549           -0.4454      1.227     -0.363      0.717      -2.851       1.960\n",
      "element_550            0.6670      1.232      0.541      0.588      -1.748       3.082\n",
      "element_552          -23.9207   7.04e+05   -3.4e-05      1.000   -1.38e+06    1.38e+06\n",
      "element_556          -26.3832   1.99e+05     -0.000      1.000    -3.9e+05     3.9e+05\n",
      "element_557          -23.6577   7.04e+05  -3.36e-05      1.000   -1.38e+06    1.38e+06\n",
      "element_560          -25.8452   7.04e+05  -3.67e-05      1.000   -1.38e+06    1.38e+06\n",
      "element_562          -23.6862   7.04e+05  -3.36e-05      1.000   -1.38e+06    1.38e+06\n",
      "element_563          -25.4137   7.04e+05  -3.61e-05      1.000   -1.38e+06    1.38e+06\n",
      "element_565          -25.9703   7.04e+05  -3.69e-05      1.000   -1.38e+06    1.38e+06\n",
      "element_566          -24.4141   7.04e+05  -3.47e-05      1.000   -1.38e+06    1.38e+06\n",
      "element_568          -25.3764   7.04e+05   -3.6e-05      1.000   -1.38e+06    1.38e+06\n",
      "element_569          -26.4959   4.96e+05  -5.34e-05      1.000   -9.73e+05    9.73e+05\n",
      "element_570          -25.8936   3.67e+05  -7.06e-05      1.000   -7.19e+05    7.19e+05\n",
      "element_571          -26.3429   3.51e+05  -7.52e-05      1.000   -6.87e+05    6.87e+05\n",
      "element_573          -25.7834   7.04e+05  -3.66e-05      1.000   -1.38e+06    1.38e+06\n",
      "element_574          -24.6090   4.64e+05  -5.31e-05      1.000   -9.09e+05    9.09e+05\n",
      "element_575          -26.4114   3.49e+05  -7.57e-05      1.000   -6.84e+05    6.84e+05\n",
      "element_579            0.9940      1.004      0.990      0.322      -0.974       2.962\n",
      "element_580          -23.9854   4.86e+05  -4.93e-05      1.000   -9.53e+05    9.53e+05\n",
      "element_581          -26.1908   7.04e+05  -3.72e-05      1.000   -1.38e+06    1.38e+06\n",
      "element_585          -25.2646   4.94e+05  -5.11e-05      1.000   -9.69e+05    9.69e+05\n",
      "element_586          -25.4062   4.93e+05  -5.16e-05      1.000   -9.66e+05    9.66e+05\n",
      "element_587          -25.3609   7.04e+05   -3.6e-05      1.000   -1.38e+06    1.38e+06\n",
      "element_588          -24.2821   7.04e+05  -3.45e-05      1.000   -1.38e+06    1.38e+06\n",
      "element_589          -25.4960   4.83e+05  -5.28e-05      1.000   -9.46e+05    9.46e+05\n",
      "element_590          -25.5381   7.04e+05  -3.63e-05      1.000   -1.38e+06    1.38e+06\n",
      "element_591          -26.2742   7.04e+05  -3.73e-05      1.000   -1.38e+06    1.38e+06\n",
      "element_592          -25.7330   4.95e+05   -5.2e-05      1.000   -9.71e+05    9.71e+05\n",
      "log_minutes            0.6398      0.088      7.247      0.000       0.467       0.813\n",
      "======================================================================================\n"
     ]
    }
   ],
   "source": [
    "print(sppmm_results.summary())"
   ]
  },
  {
   "cell_type": "markdown",
   "metadata": {
    "hidden": true
   },
   "source": [
    "### Model fit"
   ]
  },
  {
   "cell_type": "code",
   "execution_count": 240,
   "metadata": {
    "ExecuteTime": {
     "end_time": "2019-03-16T11:00:51.105375Z",
     "start_time": "2019-03-16T11:00:51.100777Z"
    },
    "hidden": true
   },
   "outputs": [
    {
     "data": {
      "text/plain": [
       "4487.51782495201"
      ]
     },
     "execution_count": 240,
     "metadata": {},
     "output_type": "execute_result"
    }
   ],
   "source": [
    "sppmm_results.aic"
   ]
  },
  {
   "cell_type": "code",
   "execution_count": 241,
   "metadata": {
    "ExecuteTime": {
     "end_time": "2019-03-16T11:00:51.118971Z",
     "start_time": "2019-03-16T11:00:51.108329Z"
    },
    "hidden": true
   },
   "outputs": [
    {
     "data": {
      "text/plain": [
       "-52432.509338873104"
      ]
     },
     "execution_count": 241,
     "metadata": {},
     "output_type": "execute_result"
    }
   ],
   "source": [
    "sppmm_results.bic"
   ]
  },
  {
   "cell_type": "code",
   "execution_count": 242,
   "metadata": {
    "ExecuteTime": {
     "end_time": "2019-03-16T11:00:51.136323Z",
     "start_time": "2019-03-16T11:00:51.121291Z"
    },
    "hidden": true
   },
   "outputs": [
    {
     "data": {
      "text/plain": [
       "(False, 1.0)"
      ]
     },
     "execution_count": 242,
     "metadata": {},
     "output_type": "execute_result"
    }
   ],
   "source": [
    "sppmm_pearson_results = goodness_fit.pearson_chi_squared_test(sppmm_results)\n",
    "sppmm_pearson_results"
   ]
  },
  {
   "cell_type": "code",
   "execution_count": 243,
   "metadata": {
    "ExecuteTime": {
     "end_time": "2019-03-16T11:00:51.163115Z",
     "start_time": "2019-03-16T11:00:51.138182Z"
    },
    "hidden": true
   },
   "outputs": [
    {
     "data": {
      "text/plain": [
       "count    6674.000000\n",
       "mean       -0.147186\n",
       "std         0.559823\n",
       "min        -1.495930\n",
       "25%        -0.455300\n",
       "50%        -0.259715\n",
       "75%        -0.000001\n",
       "max         3.053995\n",
       "dtype: float64"
      ]
     },
     "execution_count": 243,
     "metadata": {},
     "output_type": "execute_result"
    }
   ],
   "source": [
    "sppmm_results.resid_deviance.describe()"
   ]
  },
  {
   "cell_type": "code",
   "execution_count": 260,
   "metadata": {
    "ExecuteTime": {
     "end_time": "2019-03-16T11:02:47.764369Z",
     "start_time": "2019-03-16T11:02:47.447046Z"
    },
    "hidden": true
   },
   "outputs": [
    {
     "data": {
      "image/png": "[encoded data removed]",
      "text/plain": [
       "<Figure size 432x288 with 1 Axes>"
      ]
     },
     "metadata": {
      "needs_background": "light"
     },
     "output_type": "display_data"
    }
   ],
   "source": [
    "plt.figure()\n",
    "plt.hist(sppmm_results.resid_deviance, bins=20)\n",
    "plt.show()"
   ]
  },
  {
   "cell_type": "markdown",
   "metadata": {
    "heading_collapsed": true,
    "hidden": true
   },
   "source": [
    "## Simple Poisson player exposure model"
   ]
  },
  {
   "cell_type": "markdown",
   "metadata": {
    "heading_collapsed": true,
    "hidden": true
   },
   "source": [
    "### Preparing data"
   ]
  },
  {
   "cell_type": "code",
   "execution_count": 245,
   "metadata": {
    "ExecuteTime": {
     "end_time": "2019-03-16T11:00:51.411369Z",
     "start_time": "2019-03-16T11:00:51.407313Z"
    },
    "hidden": true
   },
   "outputs": [],
   "source": [
    "eppmm_df = element_gameweek_df.copy()"
   ]
  },
  {
   "cell_type": "code",
   "execution_count": 246,
   "metadata": {
    "ExecuteTime": {
     "end_time": "2019-03-16T11:00:51.484496Z",
     "start_time": "2019-03-16T11:00:51.413331Z"
    },
    "hidden": true
   },
   "outputs": [],
   "source": [
    "eppmm_df = player.add_categorical_variables(eppmm_df, 'opposition_team')\n",
    "eppmm_df = player.add_categorical_variables(eppmm_df, 'element')"
   ]
  },
  {
   "cell_type": "code",
   "execution_count": 247,
   "metadata": {
    "ExecuteTime": {
     "end_time": "2019-03-16T11:00:51.493493Z",
     "start_time": "2019-03-16T11:00:51.486858Z"
    },
    "hidden": true
   },
   "outputs": [],
   "source": [
    "eppmm_redundant_columns = [\n",
    "    'row_id', 'assists', 'attempted_passes', 'big_chances_created',\n",
    "    'big_chances_missed', 'bonus', 'bps', 'clean_sheets',\n",
    "    'clearances_blocks_interceptions', 'completed_passes', 'creativity',\n",
    "    'dribbles', 'ea_index', 'element', 'errors_leading_to_goal',\n",
    "    'errors_leading_to_goal_attempt', 'fixture', 'fouls', 'goals_conceded',\n",
    "    'ict_index', 'id', 'influence', 'key_passes', 'kickoff_time',\n",
    "    'kickoff_time_formatted', 'loaned_in', 'loaned_out', 'offside',\n",
    "    'open_play_crosses', 'opponent_team', 'own_goals', 'penalties_conceded',\n",
    "    'penalties_missed', 'penalties_saved', 'recoveries', 'red_cards', 'round',\n",
    "    'saves', 'selected', 'tackled', 'tackles', 'target_missed', 'team_a_score',\n",
    "    'team_h_score', 'threat', 'total_points', 'transfers_balance',\n",
    "    'transfers_in', 'transfers_out', 'value', 'winning_goals',\n",
    "    'yellow_cards', 'event', 'team_a', 'team_a_difficulty', 'team_h',\n",
    "    'team_h_difficulty', 'element_type', 'team', 'web_name', 'safe_web_name',\n",
    "    'own_team', 'opposition_team', 'was_home', 'minutes'\n",
    "]"
   ]
  },
  {
   "cell_type": "code",
   "execution_count": 248,
   "metadata": {
    "ExecuteTime": {
     "end_time": "2019-03-16T11:00:57.236384Z",
     "start_time": "2019-03-16T11:00:57.230221Z"
    },
    "hidden": true
   },
   "outputs": [],
   "source": [
    "eppmm_exposure = eppmm_df['minutes']"
   ]
  },
  {
   "cell_type": "code",
   "execution_count": 249,
   "metadata": {
    "ExecuteTime": {
     "end_time": "2019-03-16T11:00:57.947495Z",
     "start_time": "2019-03-16T11:00:57.927102Z"
    },
    "hidden": true
   },
   "outputs": [],
   "source": [
    "eppmm_df = player.remove_redundant_columns(eppmm_df, eppmm_redundant_columns)"
   ]
  },
  {
   "cell_type": "code",
   "execution_count": 250,
   "metadata": {
    "ExecuteTime": {
     "end_time": "2019-03-16T11:00:58.611475Z",
     "start_time": "2019-03-16T11:00:58.324329Z"
    },
    "hidden": true
   },
   "outputs": [],
   "source": [
    "eppmm_response_df, eppmm_explanatory_df = player.get_response_explanatory_dfs(eppmm_df, 'goals_scored')"
   ]
  },
  {
   "cell_type": "code",
   "execution_count": 251,
   "metadata": {
    "ExecuteTime": {
     "end_time": "2019-03-16T11:00:58.833590Z",
     "start_time": "2019-03-16T11:00:58.825650Z"
    },
    "hidden": true
   },
   "outputs": [
    {
     "data": {
      "text/plain": [
       "Index(['const', 'opposition_team_2', 'opposition_team_3', 'opposition_team_4',\n",
       "       'opposition_team_5', 'opposition_team_6', 'opposition_team_7',\n",
       "       'opposition_team_8', 'opposition_team_9', 'opposition_team_10',\n",
       "       ...\n",
       "       'element_580', 'element_581', 'element_585', 'element_586',\n",
       "       'element_587', 'element_588', 'element_589', 'element_590',\n",
       "       'element_591', 'element_592'],\n",
       "      dtype='object', length=466)"
      ]
     },
     "execution_count": 251,
     "metadata": {},
     "output_type": "execute_result"
    }
   ],
   "source": [
    "eppmm_explanatory_df.columns"
   ]
  },
  {
   "cell_type": "markdown",
   "metadata": {
    "heading_collapsed": true,
    "hidden": true
   },
   "source": [
    "### Fitting model"
   ]
  },
  {
   "cell_type": "code",
   "execution_count": 252,
   "metadata": {
    "ExecuteTime": {
     "end_time": "2019-03-16T11:01:19.495057Z",
     "start_time": "2019-03-16T11:01:05.858327Z"
    },
    "hidden": true
   },
   "outputs": [],
   "source": [
    "eppmm_results = sm.GLM(\n",
    "    eppmm_response_df,\n",
    "    eppmm_explanatory_df,\n",
    "    family=sm.families.Poisson(),\n",
    "    missing='drop',\n",
    "    exposure=eppmm_exposure\n",
    ").fit()"
   ]
  },
  {
   "cell_type": "code",
   "execution_count": 253,
   "metadata": {
    "ExecuteTime": {
     "end_time": "2019-03-16T11:01:19.759819Z",
     "start_time": "2019-03-16T11:01:19.499001Z"
    },
    "hidden": true
   },
   "outputs": [
    {
     "name": "stdout",
     "output_type": "stream",
     "text": [
      "                 Generalized Linear Model Regression Results                  \n",
      "==============================================================================\n",
      "Dep. Variable:           goals_scored   No. Observations:                 6675\n",
      "Model:                            GLM   Df Residuals:                     6209\n",
      "Model Family:                 Poisson   Df Model:                          465\n",
      "Link Function:                    log   Scale:                             1.0\n",
      "Method:                          IRLS   Log-Likelihood:                -1784.0\n",
      "Date:                Sat, 16 Mar 2019   Deviance:                       2250.3\n",
      "Time:                        11:01:19   Pearson chi2:                 6.24e+03\n",
      "No. Iterations:                    25                                         \n",
      "======================================================================================\n",
      "                         coef    std err          z      P>|z|      [0.025      0.975]\n",
      "--------------------------------------------------------------------------------------\n",
      "const                 -5.8402      0.730     -7.998      0.000      -7.271      -4.409\n",
      "opposition_team_2      0.2430      0.229      1.063      0.288      -0.205       0.691\n",
      "opposition_team_3      0.0989      0.236      0.419      0.675      -0.363       0.561\n",
      "opposition_team_4      0.3382      0.229      1.474      0.140      -0.111       0.788\n",
      "opposition_team_5      0.3180      0.227      1.398      0.162      -0.128       0.764\n",
      "opposition_team_6     -0.1483      0.254     -0.583      0.560      -0.647       0.350\n",
      "opposition_team_7     -0.0316      0.243     -0.130      0.897      -0.509       0.446\n",
      "opposition_team_8      0.0036      0.241      0.015      0.988      -0.469       0.476\n",
      "opposition_team_9      0.4622      0.221      2.092      0.036       0.029       0.895\n",
      "opposition_team_10     0.2703      0.227      1.191      0.234      -0.174       0.715\n",
      "opposition_team_11    -0.0182      0.244     -0.074      0.941      -0.496       0.460\n",
      "opposition_team_12    -0.7944      0.311     -2.551      0.011      -1.405      -0.184\n",
      "opposition_team_13    -0.5907      0.288     -2.048      0.041      -1.156      -0.025\n",
      "opposition_team_14     0.0146      0.246      0.059      0.953      -0.468       0.497\n",
      "opposition_team_15    -0.1295      0.246     -0.528      0.598      -0.611       0.352\n",
      "opposition_team_16     0.1615      0.233      0.693      0.488      -0.295       0.619\n",
      "opposition_team_17    -0.2940      0.268     -1.097      0.273      -0.819       0.231\n",
      "opposition_team_18    -0.0758      0.250     -0.303      0.762      -0.567       0.415\n",
      "opposition_team_19     0.0762      0.238      0.320      0.749      -0.391       0.543\n",
      "opposition_team_20    -0.1707      0.252     -0.677      0.498      -0.665       0.323\n",
      "element_4            -26.3994   1.56e+05     -0.000      1.000   -3.05e+05    3.05e+05\n",
      "element_5             -1.2274      1.226     -1.001      0.317      -3.630       1.175\n",
      "element_6            -26.3847   2.15e+05     -0.000      1.000   -4.21e+05    4.21e+05\n",
      "element_7             -0.9726      1.001     -0.971      0.331      -2.935       0.990\n",
      "element_8            -26.5217   1.76e+05     -0.000      1.000   -3.45e+05    3.45e+05\n",
      "element_9             -1.4608      1.226     -1.191      0.234      -3.864       0.942\n",
      "element_10           -23.8968   7.04e+05  -3.39e-05      1.000   -1.38e+06    1.38e+06\n",
      "element_11           -26.1771   2.09e+05     -0.000      1.000   -4.09e+05    4.09e+05\n",
      "element_12           -26.5316   1.71e+05     -0.000      1.000   -3.35e+05    3.35e+05\n",
      "element_13             0.0087      0.916      0.010      0.992      -1.786       1.803\n",
      "element_14            -0.2251      1.002     -0.225      0.822      -2.188       1.738\n",
      "element_15            -0.3010      0.914     -0.330      0.742      -2.092       1.490\n",
      "element_16           -25.8174   3.22e+05  -8.03e-05      1.000   -6.31e+05     6.3e+05\n",
      "element_17            -0.6319      0.914     -0.692      0.489      -2.423       1.159\n",
      "element_18             0.3750      0.867      0.433      0.665      -1.324       2.074\n",
      "element_20            -0.5239      1.226     -0.427      0.669      -2.926       1.878\n",
      "element_21             0.6610      1.227      0.539      0.590      -1.744       3.066\n",
      "element_22             0.6505      0.776      0.838      0.402      -0.870       2.171\n",
      "element_23             0.9335      0.754      1.238      0.216      -0.544       2.411\n",
      "element_26           -26.2289   1.59e+05     -0.000      1.000   -3.12e+05    3.12e+05\n",
      "element_27            -1.9169      1.226     -1.564      0.118      -4.319       0.486\n",
      "element_28            -1.2669      1.226     -1.034      0.301      -3.670       1.136\n",
      "element_29            -1.4804      1.226     -1.207      0.227      -3.883       0.923\n",
      "element_30           -24.2152   2.13e+05     -0.000      1.000   -4.17e+05    4.17e+05\n",
      "element_31            -0.8143      0.914     -0.891      0.373      -2.606       0.978\n",
      "element_33           -26.3032   1.39e+05     -0.000      1.000   -2.73e+05    2.73e+05\n",
      "element_35           -26.0471   1.54e+05     -0.000      1.000   -3.01e+05    3.01e+05\n",
      "element_36            -0.9762      1.227     -0.796      0.426      -3.380       1.428\n",
      "element_37           -26.0213   1.47e+05     -0.000      1.000   -2.89e+05    2.89e+05\n",
      "element_38           -24.9264    1.5e+05     -0.000      1.000   -2.94e+05    2.94e+05\n",
      "element_39           -25.4947   1.41e+05     -0.000      1.000   -2.77e+05    2.77e+05\n",
      "element_40            -0.2072      0.838     -0.247      0.805      -1.850       1.436\n",
      "element_42             0.2210      0.818      0.270      0.787      -1.383       1.825\n",
      "element_43             0.6425      0.776      0.828      0.408      -0.879       2.164\n",
      "element_44           -23.9318   1.35e+05     -0.000      1.000   -2.64e+05    2.64e+05\n",
      "element_45             0.3588      0.792      0.453      0.651      -1.194       1.912\n",
      "element_46           -23.4441   2.68e+05  -8.76e-05      1.000   -5.25e+05    5.25e+05\n",
      "element_48            -1.1608      1.001     -1.159      0.246      -3.123       0.802\n",
      "element_49            -0.1719      0.838     -0.205      0.838      -1.815       1.471\n",
      "element_50           -26.4004   2.36e+05     -0.000      1.000   -4.63e+05    4.63e+05\n",
      "element_51           -26.3682   1.52e+05     -0.000      1.000   -2.98e+05    2.98e+05\n",
      "element_54            -0.5453      1.227     -0.444      0.657      -2.951       1.860\n",
      "element_55            -1.2710      1.226     -1.037      0.300      -3.674       1.132\n",
      "element_56            -1.5001      1.226     -1.224      0.221      -3.903       0.903\n",
      "element_57            -0.6492      1.227     -0.529      0.597      -3.054       1.756\n",
      "element_58            -1.7925      1.226     -1.462      0.144      -4.195       0.610\n",
      "element_59            -0.7348      1.002     -0.734      0.463      -2.698       1.228\n",
      "element_60           -26.5707   1.48e+05     -0.000      1.000   -2.89e+05    2.89e+05\n",
      "element_61           -25.9960   2.03e+05     -0.000      1.000   -3.97e+05    3.97e+05\n",
      "element_62             0.6793      0.776      0.875      0.382      -0.842       2.201\n",
      "element_65            -0.3661      1.002     -0.365      0.715      -2.330       1.598\n",
      "element_66             0.1388      1.002      0.138      0.890      -1.826       2.103\n",
      "element_69           -26.3997   1.68e+05     -0.000      1.000    -3.3e+05     3.3e+05\n",
      "element_70           -26.6139   1.36e+05     -0.000      1.000   -2.67e+05    2.67e+05\n",
      "element_71           -26.5960   4.03e+05   -6.6e-05      1.000    -7.9e+05     7.9e+05\n",
      "element_72            -0.7192      0.914     -0.787      0.431      -2.510       1.071\n",
      "element_73           -26.5037   2.87e+05  -9.24e-05      1.000   -5.62e+05    5.62e+05\n",
      "element_74           -26.4009   1.28e+05     -0.000      1.000   -2.51e+05    2.51e+05\n",
      "element_75           -26.5455   1.93e+05     -0.000      1.000   -3.77e+05    3.77e+05\n",
      "element_76            -0.7328      1.001     -0.732      0.464      -2.694       1.229\n",
      "element_77           -26.2457   2.82e+05  -9.31e-05      1.000   -5.53e+05    5.53e+05\n",
      "element_78            -1.3439      1.226     -1.096      0.273      -3.747       1.059\n",
      "element_79           -25.7582   2.02e+05     -0.000      1.000   -3.95e+05    3.95e+05\n",
      "element_80           -26.3964   1.35e+05     -0.000      1.000   -2.65e+05    2.65e+05\n",
      "element_82            -1.9209      1.225     -1.567      0.117      -4.323       0.481\n",
      "element_83            -1.3143      1.226     -1.072      0.284      -3.717       1.088\n",
      "element_84             0.0952      0.915      0.104      0.917      -1.697       1.888\n",
      "element_85             0.5317      0.803      0.662      0.508      -1.042       2.105\n",
      "element_87             0.1957      0.818      0.239      0.811      -1.407       1.798\n",
      "element_90           -26.5575   1.48e+05     -0.000      1.000    -2.9e+05     2.9e+05\n",
      "element_91            -0.8183      0.914     -0.895      0.371      -2.610       0.974\n",
      "element_92           -26.5844   1.36e+05     -0.000      1.000   -2.67e+05    2.67e+05\n",
      "element_94           -26.5878   1.63e+05     -0.000      1.000    -3.2e+05     3.2e+05\n",
      "element_95           -25.8026   1.74e+05     -0.000      1.000   -3.41e+05    3.41e+05\n",
      "element_96           -25.3471   3.99e+05  -6.36e-05      1.000   -7.82e+05    7.82e+05\n",
      "element_98           -26.0947   1.33e+05     -0.000      1.000   -2.61e+05    2.61e+05\n",
      "element_99            -0.6424      1.002     -0.641      0.521      -2.606       1.321\n",
      "element_100           -0.2638      1.227     -0.215      0.830      -2.668       2.140\n",
      "element_101           -0.3476      0.868     -0.401      0.689      -2.048       1.353\n",
      "element_102           -1.4150      1.226     -1.154      0.248      -3.818       0.988\n",
      "element_104          -24.0011   4.89e+05  -4.91e-05      1.000   -9.58e+05    9.58e+05\n",
      "element_105            0.1133      1.227      0.092      0.926      -2.292       2.518\n",
      "element_106           -0.2195      0.915     -0.240      0.810      -2.012       1.573\n",
      "element_107           -0.0614      1.227     -0.050      0.960      -2.467       2.344\n",
      "element_109          -23.6286   2.57e+05  -9.21e-05      1.000   -5.03e+05    5.03e+05\n",
      "element_110            0.2649      0.868      0.305      0.760      -1.437       1.967\n",
      "element_113          -26.5923   1.36e+05     -0.000      1.000   -2.67e+05    2.67e+05\n",
      "element_114          -25.2104   7.04e+05  -3.58e-05      1.000   -1.38e+06    1.38e+06\n",
      "element_115           -1.8874      1.226     -1.540      0.124      -4.290       0.515\n",
      "element_116           -1.2244      1.001     -1.223      0.221      -3.187       0.738\n",
      "element_117          -24.3581   4.96e+05  -4.91e-05      1.000   -9.72e+05    9.72e+05\n",
      "element_118           -1.8891      1.226     -1.541      0.123      -4.292       0.514\n",
      "element_119          -26.6564   4.96e+05  -5.37e-05      1.000   -9.73e+05    9.73e+05\n",
      "element_120          -24.6170   4.77e+05  -5.16e-05      1.000   -9.35e+05    9.35e+05\n",
      "element_121          -24.7273   2.25e+05     -0.000      1.000   -4.42e+05    4.42e+05\n",
      "element_122            0.7113      0.765      0.929      0.353      -0.789       2.212\n",
      "element_123          -25.1422   2.49e+05     -0.000      1.000   -4.88e+05    4.88e+05\n",
      "element_124           -0.4680      0.914     -0.512      0.609      -2.260       1.324\n",
      "element_125            0.6462      0.804      0.804      0.422      -0.930       2.222\n",
      "element_126           -0.8416      0.914     -0.921      0.357      -2.634       0.950\n",
      "element_127            0.0703      0.915      0.077      0.939      -1.723       1.863\n",
      "element_131          -24.8170    3.2e+05  -7.75e-05      1.000   -6.28e+05    6.28e+05\n",
      "element_132            0.9360      0.915      1.023      0.306      -0.858       2.729\n",
      "element_133           -0.7321      1.226     -0.597      0.550      -3.135       1.671\n",
      "element_134            0.5465      0.839      0.651      0.515      -1.098       2.191\n",
      "element_138           -1.7541      1.226     -1.431      0.152      -4.156       0.648\n",
      "element_139          -22.2512   7.04e+05  -3.16e-05      1.000   -1.38e+06    1.38e+06\n",
      "element_140          -26.3497   2.97e+05  -8.86e-05      1.000   -5.83e+05    5.83e+05\n",
      "element_141            0.2960      0.867      0.341      0.733      -1.403       1.995\n",
      "element_142           -1.9202      1.225     -1.567      0.117      -4.322       0.482\n",
      "element_143          -26.5748   1.36e+05     -0.000      1.000   -2.66e+05    2.66e+05\n",
      "element_145          -26.5706   1.38e+05     -0.000      1.000   -2.71e+05    2.71e+05\n",
      "element_146          -24.3265   1.17e+05     -0.000      1.000   -2.29e+05    2.29e+05\n",
      "element_147           -1.1590      1.001     -1.158      0.247      -3.121       0.803\n",
      "element_148          -22.5518   7.04e+05   -3.2e-05      1.000   -1.38e+06    1.38e+06\n",
      "element_149           -0.5335      0.867     -0.615      0.538      -2.233       1.166\n",
      "element_150            0.0093      0.803      0.012      0.991      -1.564       1.583\n",
      "element_151           -0.1383      0.838     -0.165      0.869      -1.781       1.504\n",
      "element_152          -26.2043   2.39e+05     -0.000      1.000   -4.68e+05    4.68e+05\n",
      "element_153          -24.5355   1.86e+05     -0.000      1.000   -3.64e+05    3.64e+05\n",
      "element_156          -26.1315   2.61e+05     -0.000      1.000   -5.11e+05    5.11e+05\n",
      "element_157           -1.6661      1.226     -1.359      0.174      -4.069       0.737\n",
      "element_158          -25.0164   4.54e+05  -5.51e-05      1.000    -8.9e+05    8.89e+05\n",
      "element_160          -26.5953   3.07e+05  -8.65e-05      1.000   -6.02e+05    6.02e+05\n",
      "element_161          -26.3574   2.23e+05     -0.000      1.000   -4.37e+05    4.37e+05\n",
      "element_162           -1.8558      1.226     -1.514      0.130      -4.258       0.547\n",
      "element_164           -0.5614      0.914     -0.614      0.539      -2.353       1.230\n",
      "element_167          -24.9384    1.7e+05     -0.000      1.000   -3.33e+05    3.33e+05\n",
      "element_168          -26.5040   1.46e+05     -0.000      1.000   -2.86e+05    2.86e+05\n",
      "element_169          -26.2203   1.74e+05     -0.000      1.000    -3.4e+05     3.4e+05\n",
      "element_170          -25.4428   1.64e+05     -0.000      1.000   -3.21e+05    3.21e+05\n",
      "element_172            0.3108      0.783      0.397      0.692      -1.224       1.846\n",
      "element_175            0.4216      0.867      0.486      0.627      -1.278       2.122\n",
      "element_176          -25.3653   1.83e+05     -0.000      1.000   -3.58e+05    3.58e+05\n",
      "element_177           -0.3573      1.002     -0.357      0.721      -2.320       1.606\n",
      "element_180          -26.2692   1.61e+05     -0.000      1.000   -3.16e+05    3.16e+05\n",
      "element_181          -26.5664   1.41e+05     -0.000      1.000   -2.77e+05    2.77e+05\n",
      "element_182          -26.1295   1.46e+05     -0.000      1.000   -2.86e+05    2.86e+05\n",
      "element_183          -26.0307   1.94e+05     -0.000      1.000    -3.8e+05     3.8e+05\n",
      "element_184           -0.7442      1.002     -0.743      0.458      -2.708       1.220\n",
      "element_185          -25.1976   1.67e+05     -0.000      1.000   -3.28e+05    3.28e+05\n",
      "element_186          -24.5667   1.95e+05     -0.000      1.000   -3.82e+05    3.82e+05\n",
      "element_187          -24.7445    3.5e+05  -7.08e-05      1.000   -6.85e+05    6.85e+05\n",
      "element_189            0.3971      0.915      0.434      0.664      -1.397       2.191\n",
      "element_192           -1.9204      1.226     -1.567      0.117      -4.323       0.482\n",
      "element_193          -26.2029   1.47e+05     -0.000      1.000   -2.87e+05    2.87e+05\n",
      "element_194          -26.1413   2.57e+05     -0.000      1.000   -5.04e+05    5.04e+05\n",
      "element_195           -0.7416      0.915     -0.811      0.418      -2.534       1.051\n",
      "element_197          -26.3815   1.42e+05     -0.000      1.000   -2.79e+05    2.79e+05\n",
      "element_198           -1.7137      1.226     -1.398      0.162      -4.116       0.689\n",
      "element_199           -0.8296      1.002     -0.828      0.408      -2.793       1.134\n",
      "element_200          -26.5989   3.14e+05  -8.48e-05      1.000   -6.15e+05    6.15e+05\n",
      "element_201          -26.5265   1.57e+05     -0.000      1.000   -3.08e+05    3.08e+05\n",
      "element_202           -1.0915      1.001     -1.090      0.276      -3.054       0.871\n",
      "element_204          -24.3936   2.43e+05     -0.000      1.000   -4.76e+05    4.76e+05\n",
      "element_205          -24.3492   4.06e+05  -5.99e-05      1.000   -7.97e+05    7.97e+05\n",
      "element_206           -1.4718      1.226     -1.201      0.230      -3.874       0.931\n",
      "element_207          -24.7203   3.14e+05  -7.88e-05      1.000   -6.15e+05    6.15e+05\n",
      "element_208          -25.6576   1.88e+05     -0.000      1.000   -3.68e+05    3.68e+05\n",
      "element_209          -24.8883   4.57e+05  -5.45e-05      1.000   -8.96e+05    8.96e+05\n",
      "element_210          -25.2689   1.11e+05     -0.000      1.000   -2.18e+05    2.18e+05\n",
      "element_211           -1.4141      1.226     -1.153      0.249      -3.817       0.989\n",
      "element_212          -26.2034   1.93e+05     -0.000      1.000   -3.78e+05    3.78e+05\n",
      "element_215           -1.4762      1.226     -1.204      0.229      -3.879       0.926\n",
      "element_216          -26.5579   7.04e+05  -3.77e-05      1.000   -1.38e+06    1.38e+06\n",
      "element_217          -25.8377   2.62e+05  -9.86e-05      1.000   -5.14e+05    5.14e+05\n",
      "element_219          -26.5652   1.39e+05     -0.000      1.000   -2.72e+05    2.72e+05\n",
      "element_220           -0.5065      0.915     -0.554      0.580      -2.299       1.286\n",
      "element_221           -1.0524      1.002     -1.050      0.294      -3.016       0.912\n",
      "element_222          -26.2928   1.76e+05     -0.000      1.000   -3.45e+05    3.45e+05\n",
      "element_223            0.6023      0.839      0.718      0.473      -1.042       2.246\n",
      "element_224           -0.6432      1.001     -0.642      0.521      -2.606       1.319\n",
      "element_225           -0.3080      0.915     -0.337      0.736      -2.101       1.486\n",
      "element_226          -26.1270   2.05e+05     -0.000      1.000   -4.01e+05    4.01e+05\n",
      "element_227           -1.2158      1.001     -1.214      0.225      -3.179       0.747\n",
      "element_228          -24.9378   1.91e+05     -0.000      1.000   -3.75e+05    3.75e+05\n",
      "element_230          -25.9145   2.77e+05  -9.37e-05      1.000   -5.42e+05    5.42e+05\n",
      "element_231          -25.2764   3.72e+05   -6.8e-05      1.000   -7.29e+05    7.29e+05\n",
      "element_232          -26.5408   7.04e+05  -3.77e-05      1.000   -1.38e+06    1.38e+06\n",
      "element_233           -0.0485      0.838     -0.058      0.954      -1.691       1.594\n",
      "element_234            0.4943      0.793      0.623      0.533      -1.060       2.048\n",
      "element_235          -24.0329    1.3e+05     -0.000      1.000   -2.55e+05    2.55e+05\n",
      "element_236           -1.0034      1.226     -0.819      0.413      -3.406       1.399\n",
      "element_239           -0.7945      1.227     -0.648      0.517      -3.199       1.610\n",
      "element_240          -26.7527   4.96e+05  -5.39e-05      1.000   -9.73e+05    9.73e+05\n",
      "element_241          -25.5537   1.79e+05     -0.000      1.000    -3.5e+05     3.5e+05\n",
      "element_242          -26.4373   1.88e+05     -0.000      1.000   -3.69e+05    3.69e+05\n",
      "element_243           -0.7651      1.227     -0.623      0.533      -3.171       1.640\n",
      "element_245           -1.5229      1.226     -1.242      0.214      -3.926       0.880\n",
      "element_246           -1.9398      1.226     -1.582      0.114      -4.342       0.463\n",
      "element_247          -26.5694   1.42e+05     -0.000      1.000   -2.78e+05    2.78e+05\n",
      "element_249          -25.8778   1.36e+05     -0.000      1.000   -2.66e+05    2.66e+05\n",
      "element_250          -25.2105    1.8e+05     -0.000      1.000   -3.54e+05    3.54e+05\n",
      "element_251            0.7082      0.766      0.925      0.355      -0.792       2.209\n",
      "element_252           -1.0069      1.001     -1.005      0.315      -2.970       0.956\n",
      "element_253            0.9427      0.749      1.258      0.208      -0.526       2.411\n",
      "element_254           -0.3524      0.915     -0.385      0.700      -2.145       1.440\n",
      "element_255           -1.3377      1.226     -1.091      0.275      -3.741       1.066\n",
      "element_256          -25.6306   1.25e+05     -0.000      1.000   -2.45e+05    2.45e+05\n",
      "element_257            0.3989      0.784      0.509      0.611      -1.137       1.935\n",
      "element_258            0.6637      0.804      0.825      0.409      -0.912       2.240\n",
      "element_259          -25.7293   4.39e+05  -5.86e-05      1.000   -8.61e+05    8.61e+05\n",
      "element_262          -26.3929   1.61e+05     -0.000      1.000   -3.16e+05    3.16e+05\n",
      "element_263          -25.3809   1.53e+05     -0.000      1.000      -3e+05       3e+05\n",
      "element_264          -26.0826   1.62e+05     -0.000      1.000   -3.18e+05    3.18e+05\n",
      "element_265           -1.7035      1.226     -1.390      0.165      -4.106       0.699\n",
      "element_266           -0.5821      1.227     -0.475      0.635      -2.987       1.822\n",
      "element_267          -26.5402   2.31e+05     -0.000      1.000   -4.53e+05    4.53e+05\n",
      "element_268           -1.2462      1.001     -1.245      0.213      -3.208       0.716\n",
      "element_269          -26.1511    1.9e+05     -0.000      1.000   -3.73e+05    3.73e+05\n",
      "element_270            0.7544      0.765      0.986      0.324      -0.746       2.255\n",
      "element_271            0.2447      0.818      0.299      0.765      -1.358       1.848\n",
      "element_272           -1.8566      1.226     -1.515      0.130      -4.259       0.546\n",
      "element_273           -0.4560      1.227     -0.372      0.710      -2.861       1.949\n",
      "element_274            0.2804      0.839      0.334      0.738      -1.364       1.925\n",
      "element_275            0.5751      0.792      0.726      0.468      -0.977       2.128\n",
      "element_276           -0.1966      0.838     -0.235      0.815      -1.840       1.446\n",
      "element_277          -24.2515   1.96e+05     -0.000      1.000   -3.83e+05    3.83e+05\n",
      "element_279          -26.5544   3.51e+05  -7.57e-05      1.000   -6.88e+05    6.87e+05\n",
      "element_280            1.2438      0.749      1.660      0.097      -0.225       2.712\n",
      "element_281            0.8659      0.819      1.058      0.290      -0.739       2.471\n",
      "element_284           -1.3081      1.226     -1.067      0.286      -3.711       1.095\n",
      "element_285          -26.1361   1.64e+05     -0.000      1.000   -3.21e+05    3.21e+05\n",
      "element_286           -1.7142      1.226     -1.398      0.162      -4.117       0.689\n",
      "element_287          -26.1830   4.94e+05   -5.3e-05      1.000   -9.68e+05    9.68e+05\n",
      "element_288          -26.5258   3.12e+05  -8.52e-05      1.000   -6.11e+05    6.11e+05\n",
      "element_289          -25.5119   2.22e+05     -0.000      1.000   -4.36e+05    4.36e+05\n",
      "element_291          -25.2305   1.47e+05     -0.000      1.000   -2.88e+05    2.88e+05\n",
      "element_292           -1.6743      1.226     -1.365      0.172      -4.078       0.729\n",
      "element_293           -1.6192      1.226     -1.321      0.187      -4.022       0.783\n",
      "element_294          -26.0025   2.05e+05     -0.000      1.000   -4.02e+05    4.02e+05\n",
      "element_295           -0.6115      1.228     -0.498      0.618      -3.018       1.795\n",
      "element_296           -1.8485      1.226     -1.508      0.132      -4.251       0.554\n",
      "element_297           -0.4865      1.001     -0.486      0.627      -2.449       1.476\n",
      "element_298          -25.6193   1.54e+05     -0.000      1.000   -3.03e+05    3.03e+05\n",
      "element_299           -0.6135      1.001     -0.613      0.540      -2.576       1.349\n",
      "element_300            0.0474      0.868      0.055      0.957      -1.654       1.749\n",
      "element_301            0.8609      0.784      1.098      0.272      -0.676       2.397\n",
      "element_302            0.5942      0.771      0.771      0.441      -0.917       2.105\n",
      "element_303          -24.8897   1.66e+05     -0.000      1.000   -3.25e+05    3.25e+05\n",
      "element_304           -0.5331      1.227     -0.435      0.664      -2.937       1.871\n",
      "element_305            0.6724      0.783      0.858      0.391      -0.863       2.208\n",
      "element_306            0.6156      0.792      0.777      0.437      -0.937       2.168\n",
      "element_310           -1.7179      1.226     -1.401      0.161      -4.121       0.685\n",
      "element_311            0.1830      0.915      0.200      0.842      -1.611       1.977\n",
      "element_312          -26.4652   1.47e+05     -0.000      1.000   -2.87e+05    2.87e+05\n",
      "element_313          -26.2636    1.6e+05     -0.000      1.000   -3.14e+05    3.14e+05\n",
      "element_314          -26.4246    3.1e+05  -8.53e-05      1.000   -6.07e+05    6.07e+05\n",
      "element_315          -25.1508   1.27e+05     -0.000      1.000    -2.5e+05     2.5e+05\n",
      "element_317           -1.7166      1.226     -1.400      0.161      -4.120       0.686\n",
      "element_318          -26.1518   1.92e+05     -0.000      1.000   -3.77e+05    3.77e+05\n",
      "element_319          -26.4103   1.41e+05     -0.000      1.000   -2.76e+05    2.76e+05\n",
      "element_320          -25.9352   1.42e+05     -0.000      1.000   -2.78e+05    2.78e+05\n",
      "element_321          -25.1440   1.93e+05     -0.000      1.000   -3.77e+05    3.77e+05\n",
      "element_323           -0.7893      1.227     -0.643      0.520      -3.194       1.616\n",
      "element_324          -26.3642   1.97e+05     -0.000      1.000   -3.86e+05    3.86e+05\n",
      "element_326           -0.6527      0.914     -0.714      0.475      -2.445       1.140\n",
      "element_327            0.2383      1.003      0.238      0.812      -1.728       2.205\n",
      "element_330           -1.1955      1.227     -0.975      0.330      -3.600       1.209\n",
      "element_331          -26.5972   2.32e+05     -0.000      1.000   -4.55e+05    4.55e+05\n",
      "element_332           -1.4253      1.226     -1.162      0.245      -3.829       0.978\n",
      "element_333           -1.2998      1.227     -1.059      0.290      -3.705       1.106\n",
      "element_335          -26.4509   1.86e+05     -0.000      1.000   -3.64e+05    3.64e+05\n",
      "element_336          -26.5387   1.92e+05     -0.000      1.000   -3.76e+05    3.76e+05\n",
      "element_337          -24.0642   2.19e+05     -0.000      1.000   -4.29e+05    4.29e+05\n",
      "element_338            0.1497      0.916      0.163      0.870      -1.646       1.945\n",
      "element_339          -26.0541   1.37e+05     -0.000      1.000   -2.69e+05    2.69e+05\n",
      "element_340           -0.4848      0.915     -0.530      0.596      -2.278       1.308\n",
      "element_343           -0.8069      0.915     -0.882      0.378      -2.600       0.986\n",
      "element_344          -26.4156   1.59e+05     -0.000      1.000   -3.12e+05    3.12e+05\n",
      "element_345           -0.1243      0.915     -0.136      0.892      -1.917       1.668\n",
      "element_346          -25.5661   1.56e+05     -0.000      1.000   -3.05e+05    3.05e+05\n",
      "element_347           -0.7966      1.227     -0.649      0.516      -3.201       1.608\n",
      "element_348           -0.1416      1.002     -0.141      0.888      -2.106       1.823\n",
      "element_349           -0.3716      1.226     -0.303      0.762      -2.775       2.032\n",
      "element_353          -26.5540   1.39e+05     -0.000      1.000   -2.73e+05    2.73e+05\n",
      "element_354          -26.0678   1.45e+05     -0.000      1.000   -2.84e+05    2.84e+05\n",
      "element_355           -1.2843      1.227     -1.047      0.295      -3.689       1.120\n",
      "element_356          -26.0635   1.45e+05     -0.000      1.000   -2.83e+05    2.83e+05\n",
      "element_357           -1.6922      1.226     -1.380      0.167      -4.095       0.710\n",
      "element_358          -24.7123   2.31e+05     -0.000      1.000   -4.52e+05    4.52e+05\n",
      "element_359           -1.3621      1.226     -1.111      0.267      -3.766       1.041\n",
      "element_360          -26.1103    2.5e+05     -0.000      1.000    -4.9e+05     4.9e+05\n",
      "element_361           -0.5347      1.001     -0.534      0.593      -2.496       1.427\n",
      "element_362          -25.6925   1.95e+05     -0.000      1.000   -3.82e+05    3.82e+05\n",
      "element_363            0.5492      0.868      0.633      0.527      -1.152       2.250\n",
      "element_364           -0.0272      0.839     -0.032      0.974      -1.671       1.617\n",
      "element_365            0.2641      0.839      0.315      0.753      -1.381       1.909\n",
      "element_366          -24.8834   2.21e+05     -0.000      1.000   -4.33e+05    4.33e+05\n",
      "element_367            0.9814      0.771      1.272      0.203      -0.530       2.493\n",
      "element_368           -1.4740      1.226     -1.202      0.229      -3.877       0.930\n",
      "element_369          -26.2182    1.4e+05     -0.000      1.000   -2.74e+05    2.74e+05\n",
      "element_370            0.3160      0.818      0.386      0.699      -1.287       1.919\n",
      "element_371           -0.0769      1.228     -0.063      0.950      -2.483       2.329\n",
      "element_372            0.8928      0.758      1.178      0.239      -0.592       2.378\n",
      "element_376           -0.7984      0.914     -0.873      0.383      -2.591       0.994\n",
      "element_377          -24.4839   7.04e+05  -3.48e-05      1.000   -1.38e+06    1.38e+06\n",
      "element_378           -0.7199      0.915     -0.787      0.431      -2.513       1.073\n",
      "element_379          -24.9927   7.04e+05  -3.55e-05      1.000   -1.38e+06    1.38e+06\n",
      "element_380          -26.2741   1.61e+05     -0.000      1.000   -3.16e+05    3.16e+05\n",
      "element_381          -26.5999    2.2e+05     -0.000      1.000   -4.32e+05    4.31e+05\n",
      "element_382          -25.7588   1.23e+05     -0.000      1.000   -2.41e+05    2.41e+05\n",
      "element_383          -26.0222   1.33e+05     -0.000      1.000    -2.6e+05     2.6e+05\n",
      "element_385          -26.5085   7.04e+05  -3.76e-05      1.000   -1.38e+06    1.38e+06\n",
      "element_386          -25.2615   1.96e+05     -0.000      1.000   -3.83e+05    3.83e+05\n",
      "element_387          -24.4435   1.71e+05     -0.000      1.000   -3.35e+05    3.35e+05\n",
      "element_388           -0.0680      1.228     -0.055      0.956      -2.475       2.339\n",
      "element_389           -1.7895      1.226     -1.459      0.144      -4.193       0.614\n",
      "element_390           -0.6841      0.914     -0.748      0.454      -2.476       1.108\n",
      "element_391           -0.0410      0.818     -0.050      0.960      -1.645       1.563\n",
      "element_392           -1.4726      1.226     -1.201      0.230      -3.876       0.931\n",
      "element_393            0.5486      0.776      0.707      0.480      -0.973       2.070\n",
      "element_394           -0.2618      0.915     -0.286      0.775      -2.054       1.531\n",
      "element_395            0.4897      0.868      0.564      0.573      -1.212       2.191\n",
      "element_396           -0.1442      0.839     -0.172      0.864      -1.788       1.500\n",
      "element_397          -24.5652   4.98e+05  -4.93e-05      1.000   -9.76e+05    9.76e+05\n",
      "element_402          -26.3525   1.76e+05     -0.000      1.000   -3.45e+05    3.45e+05\n",
      "element_403          -26.0735   1.57e+05     -0.000      1.000   -3.08e+05    3.08e+05\n",
      "element_405          -26.4569   1.53e+05     -0.000      1.000   -2.99e+05    2.99e+05\n",
      "element_406           -1.8021      1.226     -1.470      0.142      -4.205       0.601\n",
      "element_408          -26.0308    2.7e+05  -9.64e-05      1.000   -5.29e+05    5.29e+05\n",
      "element_409          -26.5940   1.42e+05     -0.000      1.000   -2.78e+05    2.78e+05\n",
      "element_410          -25.8954   1.33e+05     -0.000      1.000   -2.61e+05    2.61e+05\n",
      "element_411           -1.4879      1.226     -1.213      0.225      -3.892       0.916\n",
      "element_412          -26.0561   1.35e+05     -0.000      1.000   -2.64e+05    2.64e+05\n",
      "element_413          -25.6645   1.44e+05     -0.000      1.000   -2.83e+05    2.83e+05\n",
      "element_415           -0.3071      0.915     -0.336      0.737      -2.100       1.486\n",
      "element_417            0.5737      0.805      0.713      0.476      -1.003       2.151\n",
      "element_418          -25.5351   1.93e+05     -0.000      1.000   -3.78e+05    3.78e+05\n",
      "element_419            0.4186      0.869      0.482      0.630      -1.284       2.121\n",
      "element_423           -0.7139      0.914     -0.781      0.435      -2.506       1.078\n",
      "element_425           -0.7629      0.914     -0.834      0.404      -2.555       1.029\n",
      "element_426           -0.1328      1.002     -0.133      0.895      -2.096       1.830\n",
      "element_427           -1.8597      1.226     -1.517      0.129      -4.262       0.543\n",
      "element_430          -26.5569   1.36e+05     -0.000      1.000   -2.67e+05    2.67e+05\n",
      "element_431          -25.0726   1.35e+05     -0.000      1.000   -2.65e+05    2.65e+05\n",
      "element_432            0.2110      0.839      0.252      0.801      -1.433       1.855\n",
      "element_433           -0.6613      0.915     -0.723      0.470      -2.454       1.131\n",
      "element_434            0.6980      0.916      0.762      0.446      -1.097       2.493\n",
      "element_435           -1.3606      1.226     -1.110      0.267      -3.764       1.042\n",
      "element_437            0.3716      0.783      0.474      0.635      -1.164       1.907\n",
      "element_438          -24.5585   2.12e+05     -0.000      1.000   -4.16e+05    4.16e+05\n",
      "element_440          -26.4891   2.04e+05     -0.000      1.000   -3.99e+05    3.99e+05\n",
      "element_441          -25.2374   3.61e+05  -6.98e-05      1.000   -7.08e+05    7.08e+05\n",
      "element_443          -22.5518   7.04e+05   -3.2e-05      1.000   -1.38e+06    1.38e+06\n",
      "element_444          -23.8625   2.17e+05     -0.000      1.000   -4.25e+05    4.25e+05\n",
      "element_446           -0.7643      1.227     -0.623      0.533      -3.168       1.640\n",
      "element_447          -25.7815   2.56e+05     -0.000      1.000   -5.02e+05    5.02e+05\n",
      "element_448          -24.7248    1.2e+05     -0.000      1.000   -2.35e+05    2.35e+05\n",
      "element_450           -0.9947      1.001     -0.994      0.320      -2.956       0.967\n",
      "element_451          -26.1348    1.3e+05     -0.000      1.000   -2.55e+05    2.55e+05\n",
      "element_453            0.4723      1.003      0.471      0.638      -1.493       2.438\n",
      "element_455          -26.5568   1.59e+05     -0.000      1.000   -3.12e+05    3.12e+05\n",
      "element_456           -1.7939      1.226     -1.463      0.143      -4.197       0.609\n",
      "element_458           -1.3120      1.226     -1.070      0.285      -3.715       1.091\n",
      "element_459           -1.8743      1.226     -1.529      0.126      -4.277       0.528\n",
      "element_460          -26.2302   1.47e+05     -0.000      1.000   -2.88e+05    2.88e+05\n",
      "element_461          -26.1945   1.52e+05     -0.000      1.000   -2.98e+05    2.98e+05\n",
      "element_462            0.6089      0.818      0.744      0.457      -0.995       2.213\n",
      "element_463          -26.6054   1.69e+05     -0.000      1.000   -3.31e+05    3.31e+05\n",
      "element_464           -1.4522      1.226     -1.185      0.236      -3.855       0.951\n",
      "element_465            0.1776      0.793      0.224      0.823      -1.376       1.731\n",
      "element_466          -25.8025   1.42e+05     -0.000      1.000   -2.79e+05    2.79e+05\n",
      "element_467          -26.5315   2.62e+05     -0.000      1.000   -5.14e+05    5.14e+05\n",
      "element_471          -25.4704   1.68e+05     -0.000      1.000   -3.29e+05    3.29e+05\n",
      "element_472            0.7560      1.004      0.753      0.451      -1.211       2.723\n",
      "element_473          -25.8171   2.17e+05     -0.000      1.000   -4.25e+05    4.25e+05\n",
      "element_475           -1.8009      1.226     -1.469      0.142      -4.203       0.602\n",
      "element_476          -25.4067   1.75e+05     -0.000      1.000   -3.43e+05    3.43e+05\n",
      "element_478            0.2131      0.819      0.260      0.795      -1.391       1.818\n",
      "element_479          -26.3497   1.82e+05     -0.000      1.000   -3.56e+05    3.56e+05\n",
      "element_480            0.3878      0.777      0.499      0.618      -1.134       1.910\n",
      "element_481          -25.1357   1.98e+05     -0.000      1.000   -3.89e+05    3.89e+05\n",
      "element_482           -0.5876      1.001     -0.587      0.557      -2.550       1.375\n",
      "element_483           -1.6816      1.226     -1.372      0.170      -4.085       0.721\n",
      "element_484           -0.6629      0.914     -0.725      0.468      -2.455       1.129\n",
      "element_486           -1.0767      1.226     -0.878      0.380      -3.480       1.326\n",
      "element_487          -26.3514   1.91e+05     -0.000      1.000   -3.74e+05    3.74e+05\n",
      "element_488           -0.2328      1.227     -0.190      0.849      -2.637       2.172\n",
      "element_489           -0.8718      1.002     -0.870      0.384      -2.835       1.092\n",
      "element_491            1.7094      1.238      1.381      0.167      -0.717       4.136\n",
      "element_492           -0.6809      1.227     -0.555      0.579      -3.085       1.723\n",
      "element_493            0.2932      0.818      0.358      0.720      -1.311       1.897\n",
      "element_494           -1.5685      1.226     -1.280      0.201      -3.971       0.834\n",
      "element_495            0.1309      1.228      0.107      0.915      -2.276       2.537\n",
      "element_497          -23.9381   7.04e+05   -3.4e-05      1.000   -1.38e+06    1.38e+06\n",
      "element_499          -25.8172   1.29e+05     -0.000      1.000   -2.53e+05    2.53e+05\n",
      "element_500           -0.6732      1.226     -0.549      0.583      -3.076       1.729\n",
      "element_502            0.5050      1.002      0.504      0.614      -1.459       2.469\n",
      "element_503          -26.5721   1.62e+05     -0.000      1.000   -3.18e+05    3.18e+05\n",
      "element_504           -0.5946      0.914     -0.650      0.515      -2.386       1.197\n",
      "element_505           -1.1635      1.226     -0.949      0.343      -3.566       1.239\n",
      "element_506           -0.6422      1.227     -0.523      0.601      -3.047       1.762\n",
      "element_507          -25.8063   1.26e+05     -0.000      1.000   -2.48e+05    2.48e+05\n",
      "element_508           -1.4532      1.226     -1.185      0.236      -3.856       0.950\n",
      "element_510          -26.4036    1.7e+05     -0.000      1.000   -3.33e+05    3.32e+05\n",
      "element_511          -26.0476   2.05e+05     -0.000      1.000   -4.02e+05    4.02e+05\n",
      "element_512          -25.8710   1.91e+05     -0.000      1.000   -3.75e+05    3.75e+05\n",
      "element_513           -1.0716      1.227     -0.874      0.382      -3.476       1.333\n",
      "element_514          -25.2351   1.38e+05     -0.000      1.000    -2.7e+05     2.7e+05\n",
      "element_515          -25.6041   2.11e+05     -0.000      1.000   -4.14e+05    4.14e+05\n",
      "element_516          -26.4426   1.77e+05     -0.000      1.000   -3.47e+05    3.46e+05\n",
      "element_517            0.0991      1.229      0.081      0.936      -2.309       2.507\n",
      "element_518          -25.2583   2.39e+05     -0.000      1.000   -4.69e+05    4.69e+05\n",
      "element_519           -0.2537      1.227     -0.207      0.836      -2.659       2.152\n",
      "element_521          -25.0909   3.45e+05  -7.28e-05      1.000   -6.76e+05    6.76e+05\n",
      "element_522            1.9143      1.244      1.539      0.124      -0.524       4.353\n",
      "element_523          -22.6533   7.04e+05  -3.22e-05      1.000   -1.38e+06    1.38e+06\n",
      "element_524           -0.9181      1.226     -0.749      0.454      -3.322       1.485\n",
      "element_526           -1.6961      1.226     -1.384      0.166      -4.098       0.706\n",
      "element_527          -26.5169   1.44e+05     -0.000      1.000   -2.82e+05    2.82e+05\n",
      "element_531          -26.0715   2.57e+05     -0.000      1.000   -5.04e+05    5.04e+05\n",
      "element_534           -0.8235      1.226     -0.672      0.502      -3.226       1.579\n",
      "element_535           -0.0312      1.227     -0.025      0.980      -2.437       2.374\n",
      "element_539          -25.2867   1.53e+05     -0.000      1.000   -3.01e+05    3.01e+05\n",
      "element_540          -25.1040   2.13e+05     -0.000      1.000   -4.17e+05    4.17e+05\n",
      "element_543            1.0670      1.232      0.866      0.386      -1.347       3.481\n",
      "element_544          -23.8343   3.81e+05  -6.26e-05      1.000   -7.46e+05    7.46e+05\n",
      "element_549           -0.4719      1.227     -0.385      0.701      -2.877       1.933\n",
      "element_550            1.0418      1.229      0.847      0.397      -1.368       3.451\n",
      "element_552          -22.3326   7.04e+05  -3.17e-05      1.000   -1.38e+06    1.38e+06\n",
      "element_556          -26.2252    1.9e+05     -0.000      1.000   -3.72e+05    3.72e+05\n",
      "element_557          -22.0581   7.04e+05  -3.13e-05      1.000   -1.38e+06    1.38e+06\n",
      "element_560          -25.2610   7.04e+05  -3.59e-05      1.000   -1.38e+06    1.38e+06\n",
      "element_562          -22.0896   7.04e+05  -3.14e-05      1.000   -1.38e+06    1.38e+06\n",
      "element_563          -24.4977   7.04e+05  -3.48e-05      1.000   -1.38e+06    1.38e+06\n",
      "element_565          -25.9987   7.04e+05  -3.69e-05      1.000   -1.38e+06    1.38e+06\n",
      "element_566          -23.0531   7.04e+05  -3.27e-05      1.000   -1.38e+06    1.38e+06\n",
      "element_568          -24.5571   7.04e+05  -3.49e-05      1.000   -1.38e+06    1.38e+06\n",
      "element_569          -26.4165   4.96e+05  -5.33e-05      1.000   -9.71e+05    9.71e+05\n",
      "element_570          -25.2006   2.76e+05  -9.12e-05      1.000   -5.42e+05    5.42e+05\n",
      "element_571          -26.2638   3.46e+05   -7.6e-05      1.000   -6.78e+05    6.77e+05\n",
      "element_573          -25.1931   7.04e+05  -3.58e-05      1.000   -1.38e+06    1.38e+06\n",
      "element_574          -23.2601   3.88e+05  -5.99e-05      1.000   -7.61e+05    7.61e+05\n",
      "element_575          -26.3672   3.45e+05  -7.65e-05      1.000   -6.75e+05    6.75e+05\n",
      "element_579            1.0143      1.004      1.010      0.312      -0.954       2.982\n",
      "element_580          -22.6618   4.04e+05  -5.61e-05      1.000   -7.92e+05    7.92e+05\n",
      "element_581          -25.8088   7.04e+05  -3.66e-05      1.000   -1.38e+06    1.38e+06\n",
      "element_585          -24.5561   4.67e+05  -5.26e-05      1.000   -9.15e+05    9.15e+05\n",
      "element_586          -24.8471   4.97e+05     -5e-05      1.000   -9.74e+05    9.74e+05\n",
      "element_587          -24.8093   7.04e+05  -3.52e-05      1.000   -1.38e+06    1.38e+06\n",
      "element_588          -23.1819   7.04e+05  -3.29e-05      1.000   -1.38e+06    1.38e+06\n",
      "element_589          -24.7079   4.23e+05  -5.84e-05      1.000   -8.29e+05    8.29e+05\n",
      "element_590          -24.8902   7.04e+05  -3.53e-05      1.000   -1.38e+06    1.38e+06\n",
      "element_591          -26.2954   7.04e+05  -3.73e-05      1.000   -1.38e+06    1.38e+06\n",
      "element_592          -25.0539   4.62e+05  -5.43e-05      1.000   -9.05e+05    9.05e+05\n",
      "======================================================================================\n"
     ]
    }
   ],
   "source": [
    "print(eppmm_results.summary())"
   ]
  },
  {
   "cell_type": "markdown",
   "metadata": {
    "heading_collapsed": true,
    "hidden": true
   },
   "source": [
    "### Model fit"
   ]
  },
  {
   "cell_type": "code",
   "execution_count": 254,
   "metadata": {
    "ExecuteTime": {
     "end_time": "2019-03-16T11:01:19.766657Z",
     "start_time": "2019-03-16T11:01:19.761907Z"
    },
    "hidden": true
   },
   "outputs": [
    {
     "data": {
      "text/plain": [
       "4499.947675626076"
      ]
     },
     "execution_count": 254,
     "metadata": {},
     "output_type": "execute_result"
    }
   ],
   "source": [
    "eppmm_results.aic"
   ]
  },
  {
   "cell_type": "code",
   "execution_count": 255,
   "metadata": {
    "ExecuteTime": {
     "end_time": "2019-03-16T11:01:19.795215Z",
     "start_time": "2019-03-16T11:01:19.769551Z"
    },
    "hidden": true
   },
   "outputs": [
    {
     "data": {
      "text/plain": [
       "-52426.88561268231"
      ]
     },
     "execution_count": 255,
     "metadata": {},
     "output_type": "execute_result"
    }
   ],
   "source": [
    "eppmm_results.bic"
   ]
  },
  {
   "cell_type": "code",
   "execution_count": 256,
   "metadata": {
    "ExecuteTime": {
     "end_time": "2019-03-16T11:01:19.821046Z",
     "start_time": "2019-03-16T11:01:19.797343Z"
    },
    "hidden": true
   },
   "outputs": [
    {
     "data": {
      "text/plain": [
       "(False, 0.3802389271705421)"
      ]
     },
     "execution_count": 256,
     "metadata": {},
     "output_type": "execute_result"
    }
   ],
   "source": [
    "eppmm_pearson_results = goodness_fit.pearson_chi_squared_test(eppmm_results)\n",
    "eppmm_pearson_results"
   ]
  },
  {
   "cell_type": "code",
   "execution_count": 257,
   "metadata": {
    "ExecuteTime": {
     "end_time": "2019-03-16T11:01:19.851224Z",
     "start_time": "2019-03-16T11:01:19.822948Z"
    },
    "hidden": true
   },
   "outputs": [
    {
     "data": {
      "text/plain": [
       "count    6674.000000\n",
       "mean       -0.142087\n",
       "std         0.563062\n",
       "min        -1.542519\n",
       "25%        -0.446494\n",
       "50%        -0.232078\n",
       "75%        -0.000001\n",
       "max         3.537252\n",
       "dtype: float64"
      ]
     },
     "execution_count": 257,
     "metadata": {},
     "output_type": "execute_result"
    }
   ],
   "source": [
    "eppmm_results.resid_deviance.describe()"
   ]
  },
  {
   "cell_type": "code",
   "execution_count": 266,
   "metadata": {
    "ExecuteTime": {
     "end_time": "2019-03-16T11:07:35.997576Z",
     "start_time": "2019-03-16T11:07:35.666395Z"
    },
    "hidden": true
   },
   "outputs": [
    {
     "name": "stderr",
     "output_type": "stream",
     "text": [
      "/home/tom/footbot/venv/lib/python3.6/site-packages/numpy/lib/histograms.py:754: RuntimeWarning: invalid value encountered in greater_equal\n",
      "  keep = (tmp_a >= first_edge)\n",
      "/home/tom/footbot/venv/lib/python3.6/site-packages/numpy/lib/histograms.py:755: RuntimeWarning: invalid value encountered in less_equal\n",
      "  keep &= (tmp_a <= last_edge)\n"
     ]
    },
    {
     "data": {
      "image/png": "[encoded data removed]",
      "text/plain": [
       "<Figure size 432x288 with 1 Axes>"
      ]
     },
     "metadata": {
      "needs_background": "light"
     },
     "output_type": "display_data"
    }
   ],
   "source": [
    "plt.figure()\n",
    "plt.hist(eppmm_results.resid_deviance, bins=20)\n",
    "plt.show()"
   ]
  },
  {
   "cell_type": "markdown",
   "metadata": {
    "heading_collapsed": true,
    "hidden": true
   },
   "source": [
    "## Simple Gaussian model"
   ]
  },
  {
   "cell_type": "markdown",
   "metadata": {
    "hidden": true
   },
   "source": [
    "### Preparing data"
   ]
  },
  {
   "cell_type": "code",
   "execution_count": 105,
   "metadata": {
    "ExecuteTime": {
     "end_time": "2019-03-02T17:20:52.545873Z",
     "start_time": "2019-03-02T17:20:52.540918Z"
    },
    "hidden": true
   },
   "outputs": [],
   "source": [
    "sgm_df = element_gameweek_df.copy()"
   ]
  },
  {
   "cell_type": "code",
   "execution_count": 106,
   "metadata": {
    "ExecuteTime": {
     "end_time": "2019-03-02T17:20:52.573519Z",
     "start_time": "2019-03-02T17:20:52.549049Z"
    },
    "hidden": true
   },
   "outputs": [],
   "source": [
    "sgm_redundant_columns = [\n",
    "    'row_id', 'assists', 'attempted_passes', 'big_chances_created',\n",
    "    'big_chances_missed', 'bonus', 'bps', 'clean_sheets',\n",
    "    'clearances_blocks_interceptions', 'completed_passes', 'creativity',\n",
    "    'dribbles', 'ea_index', 'element', 'errors_leading_to_goal',\n",
    "    'errors_leading_to_goal_attempt', 'fixture', 'fouls', 'goals_conceded',\n",
    "    'ict_index', 'id', 'influence', 'key_passes', 'kickoff_time',\n",
    "    'kickoff_time_formatted', 'loaned_in', 'loaned_out', 'minutes', 'offside',\n",
    "    'open_play_crosses', 'opponent_team', 'own_goals', 'penalties_conceded',\n",
    "    'penalties_missed', 'penalties_saved', 'recoveries', 'red_cards', 'round',\n",
    "    'saves', 'selected', 'tackled', 'tackles', 'target_missed', 'team_a_score',\n",
    "    'team_h_score', 'threat', 'total_points', 'transfers_balance',\n",
    "    'transfers_in', 'transfers_out', 'value', 'winning_goals',\n",
    "    'yellow_cards', 'event', 'team_a', 'team_a_difficulty', 'team_h',\n",
    "    'team_h_difficulty', 'element_type', 'team', 'web_name', 'safe_web_name',\n",
    "    'own_team', 'opposition_team'\n",
    "]"
   ]
  },
  {
   "cell_type": "code",
   "execution_count": 107,
   "metadata": {
    "ExecuteTime": {
     "end_time": "2019-03-02T17:20:52.599440Z",
     "start_time": "2019-03-02T17:20:52.575532Z"
    },
    "hidden": true
   },
   "outputs": [],
   "source": [
    "sgm_df = player.remove_redundant_columns(sgm_df, sgm_redundant_columns)"
   ]
  },
  {
   "cell_type": "code",
   "execution_count": 108,
   "metadata": {
    "ExecuteTime": {
     "end_time": "2019-03-02T17:20:52.629262Z",
     "start_time": "2019-03-02T17:20:52.601486Z"
    },
    "hidden": true
   },
   "outputs": [],
   "source": [
    "sgm_response_df, sgm_explanatory_df = player.get_response_explanatory_dfs(sgm_df, 'goals_scored')"
   ]
  },
  {
   "cell_type": "markdown",
   "metadata": {
    "heading_collapsed": true,
    "hidden": true
   },
   "source": [
    "### Fitting model"
   ]
  },
  {
   "cell_type": "code",
   "execution_count": 109,
   "metadata": {
    "ExecuteTime": {
     "end_time": "2019-03-02T17:20:52.666363Z",
     "start_time": "2019-03-02T17:20:52.632367Z"
    },
    "hidden": true
   },
   "outputs": [],
   "source": [
    "sgm_results = sm.GLM(\n",
    "    sgm_response_df,\n",
    "    sgm_explanatory_df,\n",
    "    family=sm.families.Gaussian(),\n",
    "    missing='drop'\n",
    ").fit()"
   ]
  },
  {
   "cell_type": "code",
   "execution_count": 110,
   "metadata": {
    "ExecuteTime": {
     "end_time": "2019-03-02T17:20:52.702139Z",
     "start_time": "2019-03-02T17:20:52.668998Z"
    },
    "hidden": true
   },
   "outputs": [
    {
     "name": "stdout",
     "output_type": "stream",
     "text": [
      "                  Generalized Linear Model Regression Results                  \n",
      "===============================================================================\n",
      "Dep. Variable:           goals_scored   No. Observations:                  6675\n",
      "Model:                            GLM   Df Residuals:                      6673\n",
      "Model Family:                Gaussian   Df Model:                             1\n",
      "Link Function:               identity   Scale:              0.12050484015820637\n",
      "Method:                          IRLS   Log-Likelihood:                 -2408.0\n",
      "Date:                Sat, 02 Mar 2019   Deviance:                        804.13\n",
      "Time:                        17:20:52   Pearson chi2:                      804.\n",
      "No. Iterations:                     2                                          \n",
      "==============================================================================\n",
      "                 coef    std err          z      P>|z|      [0.025      0.975]\n",
      "------------------------------------------------------------------------------\n",
      "const          0.0965      0.006     16.057      0.000       0.085       0.108\n",
      "was_home       0.0206      0.008      2.429      0.015       0.004       0.037\n",
      "==============================================================================\n"
     ]
    }
   ],
   "source": [
    "print(sgm_results.summary())"
   ]
  },
  {
   "cell_type": "markdown",
   "metadata": {
    "heading_collapsed": true,
    "hidden": true
   },
   "source": [
    "### Model fit"
   ]
  },
  {
   "cell_type": "code",
   "execution_count": 111,
   "metadata": {
    "ExecuteTime": {
     "end_time": "2019-03-02T17:20:52.717782Z",
     "start_time": "2019-03-02T17:20:52.706653Z"
    },
    "hidden": true
   },
   "outputs": [
    {
     "data": {
      "text/plain": [
       "4820.092843466686"
      ]
     },
     "execution_count": 111,
     "metadata": {},
     "output_type": "execute_result"
    }
   ],
   "source": [
    "sgm_results.aic"
   ]
  },
  {
   "cell_type": "code",
   "execution_count": 112,
   "metadata": {
    "ExecuteTime": {
     "end_time": "2019-03-02T17:20:52.742775Z",
     "start_time": "2019-03-02T17:20:52.725203Z"
    },
    "hidden": true
   },
   "outputs": [
    {
     "data": {
      "text/plain": [
       "-57959.13987847465"
      ]
     },
     "execution_count": 112,
     "metadata": {},
     "output_type": "execute_result"
    }
   ],
   "source": [
    "sgm_results.bic"
   ]
  },
  {
   "cell_type": "code",
   "execution_count": 113,
   "metadata": {
    "ExecuteTime": {
     "end_time": "2019-03-02T17:20:52.766547Z",
     "start_time": "2019-03-02T17:20:52.750248Z"
    },
    "hidden": true
   },
   "outputs": [
    {
     "data": {
      "text/plain": [
       "(False, 1.0)"
      ]
     },
     "execution_count": 113,
     "metadata": {},
     "output_type": "execute_result"
    }
   ],
   "source": [
    "sgm_pearson_results = goodness_fit.pearson_chi_squared_test(sgm_results)\n",
    "sgm_pearson_results"
   ]
  },
  {
   "cell_type": "code",
   "execution_count": 114,
   "metadata": {
    "ExecuteTime": {
     "end_time": "2019-03-02T17:20:52.799710Z",
     "start_time": "2019-03-02T17:20:52.769741Z"
    },
    "hidden": true
   },
   "outputs": [
    {
     "data": {
      "text/plain": [
       "count    6.675000e+03\n",
       "mean     4.257934e-17\n",
       "std      3.471121e-01\n",
       "min     -1.171360e-01\n",
       "25%     -1.171360e-01\n",
       "50%     -9.649386e-02\n",
       "75%     -9.649386e-02\n",
       "max      2.903506e+00\n",
       "dtype: float64"
      ]
     },
     "execution_count": 114,
     "metadata": {},
     "output_type": "execute_result"
    }
   ],
   "source": [
    "sgm_results.resid_deviance.describe()"
   ]
  },
  {
   "cell_type": "code",
   "execution_count": 115,
   "metadata": {
    "ExecuteTime": {
     "end_time": "2019-03-02T17:20:53.048729Z",
     "start_time": "2019-03-02T17:20:52.806969Z"
    },
    "hidden": true
   },
   "outputs": [
    {
     "data": {
      "image/png": "[encoded data removed]",
      "text/plain": [
       "<Figure size 432x288 with 1 Axes>"
      ]
     },
     "metadata": {
      "needs_background": "light"
     },
     "output_type": "display_data"
    }
   ],
   "source": [
    "plt.figure()\n",
    "plt.hist(sgm_results.resid_deviance)\n",
    "plt.show()"
   ]
  },
  {
   "cell_type": "markdown",
   "metadata": {
    "heading_collapsed": true,
    "hidden": true
   },
   "source": [
    "## Simple Gaussian teams model"
   ]
  },
  {
   "cell_type": "markdown",
   "metadata": {
    "heading_collapsed": true,
    "hidden": true
   },
   "source": [
    "### Preparing data"
   ]
  },
  {
   "cell_type": "code",
   "execution_count": 116,
   "metadata": {
    "ExecuteTime": {
     "end_time": "2019-03-02T17:20:53.056187Z",
     "start_time": "2019-03-02T17:20:53.052231Z"
    },
    "hidden": true
   },
   "outputs": [],
   "source": [
    "sgtm_df = element_gameweek_df.copy()"
   ]
  },
  {
   "cell_type": "code",
   "execution_count": 117,
   "metadata": {
    "ExecuteTime": {
     "end_time": "2019-03-02T17:20:53.120452Z",
     "start_time": "2019-03-02T17:20:53.058320Z"
    },
    "hidden": true
   },
   "outputs": [],
   "source": [
    "sgtm_df = player.add_categorical_variables(sgtm_df, 'element_type')\n",
    "sgtm_df = player.add_categorical_variables(sgtm_df, 'opposition_team')\n",
    "sgtm_df = player.add_categorical_variables(sgtm_df, 'own_team')"
   ]
  },
  {
   "cell_type": "code",
   "execution_count": 118,
   "metadata": {
    "ExecuteTime": {
     "end_time": "2019-03-02T17:20:53.132833Z",
     "start_time": "2019-03-02T17:20:53.122638Z"
    },
    "hidden": true
   },
   "outputs": [],
   "source": [
    "sgtm_redundant_columns = [\n",
    "    'row_id', 'assists', 'attempted_passes', 'big_chances_created',\n",
    "    'big_chances_missed', 'bonus', 'bps', 'clean_sheets',\n",
    "    'clearances_blocks_interceptions', 'completed_passes', 'creativity',\n",
    "    'dribbles', 'ea_index', 'element', 'errors_leading_to_goal',\n",
    "    'errors_leading_to_goal_attempt', 'fixture', 'fouls', 'goals_conceded',\n",
    "    'ict_index', 'id', 'influence', 'key_passes', 'kickoff_time',\n",
    "    'kickoff_time_formatted', 'loaned_in', 'loaned_out', 'minutes', 'offside',\n",
    "    'open_play_crosses', 'opponent_team', 'own_goals', 'penalties_conceded',\n",
    "    'penalties_missed', 'penalties_saved', 'recoveries', 'red_cards', 'round',\n",
    "    'saves', 'selected', 'tackled', 'tackles', 'target_missed', 'team_a_score',\n",
    "    'team_h_score', 'threat', 'total_points', 'transfers_balance',\n",
    "    'transfers_in', 'transfers_out', 'value', 'winning_goals',\n",
    "    'yellow_cards', 'event', 'team_a', 'team_a_difficulty', 'team_h',\n",
    "    'team_h_difficulty', 'element_type', 'team', 'web_name', 'safe_web_name',\n",
    "    'own_team', 'opposition_team'\n",
    "]"
   ]
  },
  {
   "cell_type": "code",
   "execution_count": 119,
   "metadata": {
    "ExecuteTime": {
     "end_time": "2019-03-02T17:20:53.164379Z",
     "start_time": "2019-03-02T17:20:53.134790Z"
    },
    "hidden": true
   },
   "outputs": [],
   "source": [
    "sgtm_df = player.remove_redundant_columns(sgtm_df, sgtm_redundant_columns)"
   ]
  },
  {
   "cell_type": "code",
   "execution_count": 120,
   "metadata": {
    "ExecuteTime": {
     "end_time": "2019-03-02T17:20:53.209748Z",
     "start_time": "2019-03-02T17:20:53.166590Z"
    },
    "hidden": true
   },
   "outputs": [],
   "source": [
    "sgtm_response_df, sgtm_explanatory_df = player.get_response_explanatory_dfs(sgtm_df, 'goals_scored')"
   ]
  },
  {
   "cell_type": "code",
   "execution_count": 121,
   "metadata": {
    "ExecuteTime": {
     "end_time": "2019-03-02T17:20:53.218897Z",
     "start_time": "2019-03-02T17:20:53.211816Z"
    },
    "hidden": true
   },
   "outputs": [
    {
     "data": {
      "text/plain": [
       "Index(['const', 'was_home', 'element_type_3', 'element_type_4',\n",
       "       'opposition_team_2', 'opposition_team_3', 'opposition_team_4',\n",
       "       'opposition_team_5', 'opposition_team_6', 'opposition_team_7',\n",
       "       'opposition_team_8', 'opposition_team_9', 'opposition_team_10',\n",
       "       'opposition_team_11', 'opposition_team_12', 'opposition_team_13',\n",
       "       'opposition_team_14', 'opposition_team_15', 'opposition_team_16',\n",
       "       'opposition_team_17', 'opposition_team_18', 'opposition_team_19',\n",
       "       'opposition_team_20', 'own_team_2', 'own_team_3', 'own_team_4',\n",
       "       'own_team_5', 'own_team_6', 'own_team_7', 'own_team_8', 'own_team_9',\n",
       "       'own_team_10', 'own_team_11', 'own_team_12', 'own_team_13',\n",
       "       'own_team_14', 'own_team_15', 'own_team_16', 'own_team_17',\n",
       "       'own_team_18', 'own_team_19', 'own_team_20'],\n",
       "      dtype='object')"
      ]
     },
     "execution_count": 121,
     "metadata": {},
     "output_type": "execute_result"
    }
   ],
   "source": [
    "sgtm_explanatory_df.columns"
   ]
  },
  {
   "cell_type": "code",
   "execution_count": 122,
   "metadata": {
    "ExecuteTime": {
     "end_time": "2019-03-02T17:20:53.248865Z",
     "start_time": "2019-03-02T17:20:53.220934Z"
    },
    "hidden": true
   },
   "outputs": [
    {
     "data": {
      "text/plain": [
       "74    0\n",
       "76    0\n",
       "77    0\n",
       "78    0\n",
       "79    0\n",
       "Name: goals_scored, dtype: int64"
      ]
     },
     "execution_count": 122,
     "metadata": {},
     "output_type": "execute_result"
    }
   ],
   "source": [
    "sgtm_response_df.head()"
   ]
  },
  {
   "cell_type": "markdown",
   "metadata": {
    "heading_collapsed": true,
    "hidden": true
   },
   "source": [
    "### Fitting model"
   ]
  },
  {
   "cell_type": "code",
   "execution_count": 123,
   "metadata": {
    "ExecuteTime": {
     "end_time": "2019-03-02T17:20:53.350717Z",
     "start_time": "2019-03-02T17:20:53.250858Z"
    },
    "hidden": true
   },
   "outputs": [],
   "source": [
    "sgtm_results = sm.GLM(\n",
    "    sgtm_response_df,\n",
    "    sgtm_explanatory_df,\n",
    "    family=sm.families.Gaussian(),\n",
    "    missing='drop'\n",
    ").fit()"
   ]
  },
  {
   "cell_type": "code",
   "execution_count": 124,
   "metadata": {
    "ExecuteTime": {
     "end_time": "2019-03-02T17:20:53.491742Z",
     "start_time": "2019-03-02T17:20:53.353809Z"
    },
    "hidden": true
   },
   "outputs": [
    {
     "name": "stdout",
     "output_type": "stream",
     "text": [
      "                  Generalized Linear Model Regression Results                  \n",
      "===============================================================================\n",
      "Dep. Variable:           goals_scored   No. Observations:                  6675\n",
      "Model:                            GLM   Df Residuals:                      6633\n",
      "Model Family:                Gaussian   Df Model:                            41\n",
      "Link Function:               identity   Scale:              0.11474764593641974\n",
      "Method:                          IRLS   Log-Likelihood:                 -2224.6\n",
      "Date:                Sat, 02 Mar 2019   Deviance:                        761.12\n",
      "Time:                        17:20:53   Pearson chi2:                      761.\n",
      "No. Iterations:                     2                                          \n",
      "======================================================================================\n",
      "                         coef    std err          z      P>|z|      [0.025      0.975]\n",
      "--------------------------------------------------------------------------------------\n",
      "const                  0.0652      0.028      2.365      0.018       0.011       0.119\n",
      "was_home               0.0193      0.008      2.327      0.020       0.003       0.036\n",
      "element_type_3         0.0703      0.009      7.653      0.000       0.052       0.088\n",
      "element_type_4         0.1883      0.012     15.215      0.000       0.164       0.213\n",
      "opposition_team_2      0.0265      0.026      1.006      0.314      -0.025       0.078\n",
      "opposition_team_3      0.0122      0.026      0.463      0.644      -0.040       0.064\n",
      "opposition_team_4      0.0355      0.026      1.348      0.178      -0.016       0.087\n",
      "opposition_team_5      0.0400      0.027      1.507      0.132      -0.012       0.092\n",
      "opposition_team_6     -0.0134      0.026     -0.507      0.612      -0.065       0.038\n",
      "opposition_team_7     -0.0031      0.026     -0.116      0.907      -0.055       0.049\n",
      "opposition_team_8      0.0063      0.026      0.242      0.809      -0.045       0.058\n",
      "opposition_team_9      0.0621      0.026      2.345      0.019       0.010       0.114\n",
      "opposition_team_10     0.0351      0.026      1.333      0.183      -0.017       0.087\n",
      "opposition_team_11    -0.0061      0.026     -0.233      0.816      -0.058       0.046\n",
      "opposition_team_12    -0.0577      0.026     -2.186      0.029      -0.109      -0.006\n",
      "opposition_team_13    -0.0401      0.026     -1.532      0.125      -0.091       0.011\n",
      "opposition_team_14     0.0007      0.026      0.025      0.980      -0.051       0.052\n",
      "opposition_team_15    -0.0140      0.026     -0.533      0.594      -0.066       0.038\n",
      "opposition_team_16     0.0175      0.026      0.664      0.507      -0.034       0.069\n",
      "opposition_team_17    -0.0252      0.026     -0.958      0.338      -0.077       0.026\n",
      "opposition_team_18    -0.0054      0.027     -0.202      0.840      -0.057       0.047\n",
      "opposition_team_19     0.0072      0.026      0.273      0.785      -0.045       0.059\n",
      "opposition_team_20    -0.0129      0.026     -0.486      0.627      -0.065       0.039\n",
      "own_team_2            -0.0332      0.026     -1.266      0.206      -0.085       0.018\n",
      "own_team_3            -0.0616      0.026     -2.335      0.020      -0.113      -0.010\n",
      "own_team_4            -0.0710      0.027     -2.677      0.007      -0.123      -0.019\n",
      "own_team_5            -0.0654      0.026     -2.483      0.013      -0.117      -0.014\n",
      "own_team_6            -0.0083      0.026     -0.317      0.751      -0.060       0.043\n",
      "own_team_7            -0.0619      0.027     -2.333      0.020      -0.114      -0.010\n",
      "own_team_8            -0.0377      0.026     -1.450      0.147      -0.089       0.013\n",
      "own_team_9            -0.0671      0.026     -2.548      0.011      -0.119      -0.015\n",
      "own_team_10           -0.1060      0.026     -4.026      0.000      -0.158      -0.054\n",
      "own_team_11           -0.0604      0.026     -2.299      0.021      -0.112      -0.009\n",
      "own_team_12            0.0286      0.026      1.086      0.277      -0.023       0.080\n",
      "own_team_13            0.0621      0.026      2.383      0.017       0.011       0.113\n",
      "own_team_14            0.0125      0.026      0.475      0.635      -0.039       0.064\n",
      "own_team_15           -0.0815      0.026     -3.084      0.002      -0.133      -0.030\n",
      "own_team_16           -0.0659      0.026     -2.511      0.012      -0.117      -0.014\n",
      "own_team_17            0.0236      0.026      0.897      0.369      -0.028       0.075\n",
      "own_team_18           -0.0471      0.026     -1.785      0.074      -0.099       0.005\n",
      "own_team_19           -0.0516      0.026     -1.965      0.049      -0.103      -0.000\n",
      "own_team_20           -0.0255      0.026     -0.972      0.331      -0.077       0.026\n",
      "======================================================================================\n"
     ]
    }
   ],
   "source": [
    "print(sgtm_results.summary())"
   ]
  },
  {
   "cell_type": "markdown",
   "metadata": {
    "heading_collapsed": true,
    "hidden": true
   },
   "source": [
    "### Model fit"
   ]
  },
  {
   "cell_type": "code",
   "execution_count": 125,
   "metadata": {
    "ExecuteTime": {
     "end_time": "2019-03-02T17:20:53.498045Z",
     "start_time": "2019-03-02T17:20:53.493941Z"
    },
    "hidden": true
   },
   "outputs": [
    {
     "data": {
      "text/plain": [
       "4533.188593892439"
      ]
     },
     "execution_count": 125,
     "metadata": {},
     "output_type": "execute_result"
    }
   ],
   "source": [
    "sgtm_results.aic"
   ]
  },
  {
   "cell_type": "code",
   "execution_count": 126,
   "metadata": {
    "ExecuteTime": {
     "end_time": "2019-03-02T17:20:53.648983Z",
     "start_time": "2019-03-02T17:20:53.500041Z"
    },
    "hidden": true
   },
   "outputs": [
    {
     "data": {
      "text/plain": [
       "-57649.90256202335"
      ]
     },
     "execution_count": 126,
     "metadata": {},
     "output_type": "execute_result"
    }
   ],
   "source": [
    "sgtm_results.bic"
   ]
  },
  {
   "cell_type": "code",
   "execution_count": 127,
   "metadata": {
    "ExecuteTime": {
     "end_time": "2019-03-02T17:20:53.682730Z",
     "start_time": "2019-03-02T17:20:53.650970Z"
    },
    "hidden": true
   },
   "outputs": [
    {
     "data": {
      "text/plain": [
       "(False, 1.0)"
      ]
     },
     "execution_count": 127,
     "metadata": {},
     "output_type": "execute_result"
    }
   ],
   "source": [
    "sgtm_pearson_results = goodness_fit.pearson_chi_squared_test(sgtm_results)\n",
    "sgtm_pearson_results"
   ]
  },
  {
   "cell_type": "code",
   "execution_count": 128,
   "metadata": {
    "ExecuteTime": {
     "end_time": "2019-03-02T17:20:53.720216Z",
     "start_time": "2019-03-02T17:20:53.684605Z"
    },
    "hidden": true
   },
   "outputs": [
    {
     "data": {
      "text/plain": [
       "count    6.675000e+03\n",
       "mean     1.072201e-15\n",
       "std      3.377021e-01\n",
       "min     -3.970383e-01\n",
       "25%     -1.446570e-01\n",
       "50%     -8.413399e-02\n",
       "75%     -2.335948e-02\n",
       "max      2.876859e+00\n",
       "dtype: float64"
      ]
     },
     "execution_count": 128,
     "metadata": {},
     "output_type": "execute_result"
    }
   ],
   "source": [
    "sgtm_results.resid_deviance.describe()"
   ]
  },
  {
   "cell_type": "code",
   "execution_count": 129,
   "metadata": {
    "ExecuteTime": {
     "end_time": "2019-03-02T17:20:54.056735Z",
     "start_time": "2019-03-02T17:20:53.722255Z"
    },
    "hidden": true
   },
   "outputs": [
    {
     "data": {
      "image/png": "[encoded data removed]",
      "text/plain": [
       "<Figure size 432x288 with 1 Axes>"
      ]
     },
     "metadata": {
      "needs_background": "light"
     },
     "output_type": "display_data"
    }
   ],
   "source": [
    "plt.figure()\n",
    "plt.hist(sgtm_results.resid_deviance)\n",
    "plt.show()"
   ]
  },
  {
   "cell_type": "markdown",
   "metadata": {
    "heading_collapsed": true,
    "hidden": true
   },
   "source": [
    "## Simple Gaussian player model"
   ]
  },
  {
   "cell_type": "markdown",
   "metadata": {
    "hidden": true
   },
   "source": [
    "### Preparing data"
   ]
  },
  {
   "cell_type": "code",
   "execution_count": 214,
   "metadata": {
    "ExecuteTime": {
     "end_time": "2019-03-15T17:03:33.011656Z",
     "start_time": "2019-03-15T17:03:33.006141Z"
    },
    "hidden": true
   },
   "outputs": [],
   "source": [
    "sgpm_df = element_gameweek_df.copy()"
   ]
  },
  {
   "cell_type": "code",
   "execution_count": 215,
   "metadata": {
    "ExecuteTime": {
     "end_time": "2019-03-15T17:03:33.211419Z",
     "start_time": "2019-03-15T17:03:33.184077Z"
    },
    "hidden": true
   },
   "outputs": [],
   "source": [
    "sgpm_df = player.add_categorical_variables(sgpm_df, 'opposition_team')\n",
    "sgpm_df = player.add_categorical_variables(sgpm_df, 'element')"
   ]
  },
  {
   "cell_type": "code",
   "execution_count": 216,
   "metadata": {
    "ExecuteTime": {
     "end_time": "2019-03-15T17:03:33.433095Z",
     "start_time": "2019-03-15T17:03:33.425129Z"
    },
    "hidden": true
   },
   "outputs": [],
   "source": [
    "sgpm_redundant_columns = [\n",
    "    'row_id', 'assists', 'attempted_passes', 'big_chances_created',\n",
    "    'big_chances_missed', 'bonus', 'bps', 'clean_sheets',\n",
    "    'clearances_blocks_interceptions', 'completed_passes', 'creativity',\n",
    "    'dribbles', 'ea_index', 'element', 'errors_leading_to_goal',\n",
    "    'errors_leading_to_goal_attempt', 'fixture', 'fouls', 'goals_conceded',\n",
    "    'ict_index', 'id', 'influence', 'key_passes', 'kickoff_time',\n",
    "    'kickoff_time_formatted', 'loaned_in', 'loaned_out', 'minutes', 'offside',\n",
    "    'open_play_crosses', 'opponent_team', 'own_goals', 'penalties_conceded',\n",
    "    'penalties_missed', 'penalties_saved', 'recoveries', 'red_cards', 'round',\n",
    "    'saves', 'selected', 'tackled', 'tackles', 'target_missed', 'team_a_score',\n",
    "    'team_h_score', 'threat', 'total_points', 'transfers_balance',\n",
    "    'transfers_in', 'transfers_out', 'value', 'winning_goals',\n",
    "    'yellow_cards', 'event', 'team_a', 'team_a_difficulty', 'team_h',\n",
    "    'team_h_difficulty', 'element_type', 'team', 'web_name', 'safe_web_name',\n",
    "    'own_team', 'opposition_team', 'was_home'\n",
    "]"
   ]
  },
  {
   "cell_type": "code",
   "execution_count": 217,
   "metadata": {
    "ExecuteTime": {
     "end_time": "2019-03-15T17:03:33.909204Z",
     "start_time": "2019-03-15T17:03:33.891053Z"
    },
    "hidden": true
   },
   "outputs": [],
   "source": [
    "sgpm_df = player.remove_redundant_columns(sgpm_df, sgpm_redundant_columns)"
   ]
  },
  {
   "cell_type": "code",
   "execution_count": 218,
   "metadata": {
    "ExecuteTime": {
     "end_time": "2019-03-15T17:03:34.508523Z",
     "start_time": "2019-03-15T17:03:34.208755Z"
    },
    "hidden": true
   },
   "outputs": [],
   "source": [
    "sgpm_response_df, sgpm_explanatory_df = player.get_response_explanatory_dfs(sgpm_df, 'goals_scored')"
   ]
  },
  {
   "cell_type": "code",
   "execution_count": 219,
   "metadata": {
    "ExecuteTime": {
     "end_time": "2019-03-15T17:03:34.522206Z",
     "start_time": "2019-03-15T17:03:34.513476Z"
    },
    "hidden": true
   },
   "outputs": [
    {
     "data": {
      "text/plain": [
       "Index(['const', 'opposition_team_2', 'opposition_team_3', 'opposition_team_4',\n",
       "       'opposition_team_5', 'opposition_team_6', 'opposition_team_7',\n",
       "       'opposition_team_8', 'opposition_team_9', 'opposition_team_10',\n",
       "       ...\n",
       "       'element_580', 'element_581', 'element_585', 'element_586',\n",
       "       'element_587', 'element_588', 'element_589', 'element_590',\n",
       "       'element_591', 'element_592'],\n",
       "      dtype='object', length=466)"
      ]
     },
     "execution_count": 219,
     "metadata": {},
     "output_type": "execute_result"
    }
   ],
   "source": [
    "sgpm_explanatory_df.columns"
   ]
  },
  {
   "cell_type": "markdown",
   "metadata": {
    "hidden": true
   },
   "source": [
    "### Fitting model"
   ]
  },
  {
   "cell_type": "code",
   "execution_count": 221,
   "metadata": {
    "ExecuteTime": {
     "end_time": "2019-03-15T17:03:43.390747Z",
     "start_time": "2019-03-15T17:03:41.446756Z"
    },
    "hidden": true
   },
   "outputs": [],
   "source": [
    "sgpm_results = sm.GLM(\n",
    "    sgpm_response_df,\n",
    "    sgpm_explanatory_df,\n",
    "    family=sm.families.Gaussian(),\n",
    "    missing='drop'\n",
    ").fit()"
   ]
  },
  {
   "cell_type": "code",
   "execution_count": 222,
   "metadata": {
    "ExecuteTime": {
     "end_time": "2019-03-15T17:03:43.653271Z",
     "start_time": "2019-03-15T17:03:43.394659Z"
    },
    "hidden": true
   },
   "outputs": [
    {
     "name": "stdout",
     "output_type": "stream",
     "text": [
      "                  Generalized Linear Model Regression Results                  \n",
      "===============================================================================\n",
      "Dep. Variable:           goals_scored   No. Observations:                  6675\n",
      "Model:                            GLM   Df Residuals:                      6209\n",
      "Model Family:                Gaussian   Df Model:                           465\n",
      "Link Function:               identity   Scale:              0.10832371859463473\n",
      "Method:                          IRLS   Log-Likelihood:                 -1811.9\n",
      "Date:                Fri, 15 Mar 2019   Deviance:                        672.58\n",
      "Time:                        17:03:43   Pearson chi2:                      673.\n",
      "No. Iterations:                     2                                          \n",
      "======================================================================================\n",
      "                         coef    std err          z      P>|z|      [0.025      0.975]\n",
      "--------------------------------------------------------------------------------------\n",
      "const                  0.2462      0.118      2.087      0.037       0.015       0.477\n",
      "opposition_team_2      0.0253      0.026      0.976      0.329      -0.026       0.076\n",
      "opposition_team_3      0.0077      0.026      0.295      0.768      -0.043       0.059\n",
      "opposition_team_4      0.0432      0.026      1.659      0.097      -0.008       0.094\n",
      "opposition_team_5      0.0448      0.026      1.709      0.087      -0.007       0.096\n",
      "opposition_team_6     -0.0163      0.026     -0.624      0.533      -0.067       0.035\n",
      "opposition_team_7     -0.0024      0.026     -0.092      0.927      -0.053       0.048\n",
      "opposition_team_8      0.0003      0.026      0.011      0.991      -0.050       0.051\n",
      "opposition_team_9      0.0725      0.026      2.762      0.006       0.021       0.124\n",
      "opposition_team_10     0.0376      0.026      1.446      0.148      -0.013       0.089\n",
      "opposition_team_11    -0.0015      0.026     -0.057      0.954      -0.052       0.049\n",
      "opposition_team_12    -0.0552      0.026     -2.124      0.034      -0.106      -0.004\n",
      "opposition_team_13    -0.0458      0.026     -1.768      0.077      -0.097       0.005\n",
      "opposition_team_14     0.0014      0.026      0.053      0.957      -0.050       0.052\n",
      "opposition_team_15    -0.0152      0.026     -0.584      0.559      -0.066       0.036\n",
      "opposition_team_16     0.0197      0.026      0.755      0.450      -0.031       0.071\n",
      "opposition_team_17    -0.0240      0.026     -0.922      0.356      -0.075       0.027\n",
      "opposition_team_18    -0.0031      0.026     -0.118      0.906      -0.054       0.048\n",
      "opposition_team_19     0.0101      0.026      0.388      0.698      -0.041       0.061\n",
      "opposition_team_20    -0.0203      0.026     -0.775      0.438      -0.071       0.031\n",
      "element_4             -0.2474      0.139     -1.782      0.075      -0.519       0.025\n",
      "element_5             -0.1870      0.148     -1.264      0.206      -0.477       0.103\n",
      "element_6             -0.2455      0.156     -1.571      0.116      -0.552       0.061\n",
      "element_7             -0.1586      0.136     -1.166      0.243      -0.425       0.108\n",
      "element_8             -0.2504      0.144     -1.737      0.082      -0.533       0.032\n",
      "element_9             -0.1963      0.139     -1.414      0.157      -0.468       0.076\n",
      "element_10            -0.2004      0.350     -0.573      0.566      -0.885       0.485\n",
      "element_11            -0.2466      0.153     -1.611      0.107      -0.547       0.053\n",
      "element_12            -0.2512      0.143     -1.762      0.078      -0.531       0.028\n",
      "element_13            -0.0320      0.146     -0.219      0.827      -0.318       0.254\n",
      "element_14            -0.1548      0.136     -1.138      0.255      -0.421       0.112\n",
      "element_15            -0.1220      0.135     -0.903      0.367      -0.387       0.143\n",
      "element_16            -0.2736      0.202     -1.356      0.175      -0.669       0.122\n",
      "element_17            -0.1139      0.136     -0.838      0.402      -0.380       0.153\n",
      "element_18             0.0157      0.144      0.109      0.913      -0.267       0.298\n",
      "element_20            -0.1433      0.160     -0.896      0.370      -0.457       0.170\n",
      "element_21            -0.1277      0.165     -0.775      0.438      -0.451       0.195\n",
      "element_22             0.1497      0.134      1.119      0.263      -0.112       0.412\n",
      "element_23             0.3502      0.134      2.618      0.009       0.088       0.612\n",
      "element_26            -0.2505      0.141     -1.775      0.076      -0.527       0.026\n",
      "element_27            -0.2091      0.133     -1.570      0.116      -0.470       0.052\n",
      "element_28            -0.1840      0.143     -1.290      0.197      -0.464       0.095\n",
      "element_29            -0.1955      0.141     -1.384      0.166      -0.472       0.081\n",
      "element_30            -0.2298      0.188     -1.224      0.221      -0.598       0.138\n",
      "element_31            -0.1322      0.133     -0.993      0.321      -0.393       0.129\n",
      "element_33            -0.2504      0.137     -1.830      0.067      -0.519       0.018\n",
      "element_35            -0.2418      0.144     -1.677      0.094      -0.524       0.041\n",
      "element_36            -0.1972      0.139     -1.421      0.155      -0.469       0.075\n",
      "element_37            -0.2513      0.140     -1.795      0.073      -0.526       0.023\n",
      "element_38            -0.2423      0.148     -1.637      0.102      -0.532       0.048\n",
      "element_39            -0.2506      0.148     -1.693      0.090      -0.541       0.039\n",
      "element_40            -0.0553      0.133     -0.415      0.678      -0.316       0.206\n",
      "element_42             0.0228      0.136      0.167      0.867      -0.244       0.289\n",
      "element_43             0.2244      0.137      1.640      0.101      -0.044       0.493\n",
      "element_44            -0.2418      0.141     -1.712      0.087      -0.519       0.035\n",
      "element_45             0.1026      0.135      0.759      0.448      -0.162       0.368\n",
      "element_46            -0.2826      0.202     -1.400      0.161      -0.678       0.113\n",
      "element_48            -0.1710      0.134     -1.272      0.203      -0.435       0.093\n",
      "element_49            -0.0327      0.135     -0.242      0.809      -0.298       0.232\n",
      "element_50            -0.2526      0.165     -1.533      0.125      -0.576       0.070\n",
      "element_51            -0.2504      0.139     -1.804      0.071      -0.523       0.022\n",
      "element_54            -0.1254      0.165     -0.761      0.446      -0.448       0.197\n",
      "element_55            -0.2039      0.137     -1.490      0.136      -0.472       0.064\n",
      "element_56            -0.1999      0.139     -1.440      0.150      -0.472       0.072\n",
      "element_57            -0.1574      0.150     -1.046      0.295      -0.452       0.137\n",
      "element_58            -0.2132      0.133     -1.601      0.109      -0.474       0.048\n",
      "element_59            -0.1446      0.140     -1.033      0.302      -0.419       0.130\n",
      "element_60            -0.2522      0.136     -1.854      0.064      -0.519       0.014\n",
      "element_61            -0.2471      0.160     -1.543      0.123      -0.561       0.067\n",
      "element_62             0.1330      0.133      0.999      0.318      -0.128       0.394\n",
      "element_65            -0.1504      0.138     -1.091      0.275      -0.420       0.120\n",
      "element_66            -0.1234      0.144     -0.855      0.392      -0.406       0.159\n",
      "element_69            -0.2571      0.144     -1.783      0.075      -0.540       0.025\n",
      "element_70            -0.2532      0.133     -1.902      0.057      -0.514       0.008\n",
      "element_71            -0.2759      0.223     -1.237      0.216      -0.713       0.161\n",
      "element_72            -0.1245      0.135     -0.921      0.357      -0.389       0.140\n",
      "element_73            -0.2465      0.178     -1.385      0.166      -0.595       0.102\n",
      "element_74            -0.2532      0.133     -1.902      0.057      -0.514       0.008\n",
      "element_75            -0.2505      0.148     -1.692      0.091      -0.541       0.040\n",
      "element_76            -0.1484      0.139     -1.070      0.285      -0.420       0.124\n",
      "element_77            -0.2344      0.178     -1.317      0.188      -0.583       0.114\n",
      "element_78            -0.2056      0.137     -1.502      0.133      -0.474       0.063\n",
      "element_79            -0.2423      0.156     -1.551      0.121      -0.548       0.064\n",
      "element_80            -0.2549      0.135     -1.886      0.059      -0.520       0.010\n",
      "element_82            -0.2131      0.134     -1.593      0.111      -0.475       0.049\n",
      "element_83            -0.1869      0.143     -1.311      0.190      -0.466       0.093\n",
      "element_84            -0.1017      0.138     -0.739      0.460      -0.372       0.168\n",
      "element_85             0.0283      0.134      0.212      0.832      -0.234       0.290\n",
      "element_87            -0.0224      0.133     -0.168      0.866      -0.283       0.239\n",
      "element_90            -0.2483      0.136     -1.826      0.068      -0.515       0.018\n",
      "element_91            -0.1311      0.134     -0.980      0.327      -0.393       0.131\n",
      "element_92            -0.2491      0.133     -1.871      0.061      -0.510       0.012\n",
      "element_94            -0.2526      0.140     -1.805      0.071      -0.527       0.022\n",
      "element_95            -0.2472      0.156     -1.582      0.114      -0.554       0.059\n",
      "element_96            -0.2497      0.223     -1.120      0.263      -0.687       0.187\n",
      "element_98            -0.2493      0.137     -1.821      0.069      -0.518       0.019\n",
      "element_99            -0.1464      0.137     -1.069      0.285      -0.415       0.122\n",
      "element_100           -0.1535      0.156     -0.982      0.326      -0.460       0.153\n",
      "element_101           -0.0777      0.135     -0.575      0.566      -0.343       0.187\n",
      "element_102           -0.1925      0.141     -1.363      0.173      -0.469       0.084\n",
      "element_104           -0.2548      0.260     -0.978      0.328      -0.765       0.256\n",
      "element_105           -0.1466      0.156     -0.938      0.348      -0.453       0.160\n",
      "element_106           -0.0981      0.138     -0.712      0.477      -0.368       0.172\n",
      "element_107           -0.1473      0.156     -0.943      0.346      -0.454       0.159\n",
      "element_109           -0.2564      0.188     -1.365      0.172      -0.625       0.112\n",
      "element_110           -0.0444      0.138     -0.322      0.747      -0.315       0.226\n",
      "element_113           -0.2506      0.133     -1.882      0.060      -0.512       0.010\n",
      "element_114           -0.2563      0.350     -0.733      0.463      -0.941       0.429\n",
      "element_115           -0.2098      0.134     -1.568      0.117      -0.472       0.052\n",
      "element_116           -0.1716      0.134     -1.282      0.200      -0.434       0.091\n",
      "element_117           -0.2374      0.260     -0.912      0.362      -0.748       0.273\n",
      "element_118           -0.2093      0.134     -1.564      0.118      -0.472       0.053\n",
      "element_119           -0.2549      0.261     -0.978      0.328      -0.766       0.256\n",
      "element_120           -0.3049      0.261     -1.170      0.242      -0.816       0.206\n",
      "element_121           -0.2397      0.202     -1.188      0.235      -0.635       0.156\n",
      "element_122            0.2309      0.134      1.726      0.084      -0.031       0.493\n",
      "element_123           -0.2527      0.178     -1.420      0.156      -0.602       0.096\n",
      "element_124           -0.1249      0.134     -0.928      0.353      -0.388       0.139\n",
      "element_125            0.0821      0.137      0.600      0.549      -0.186       0.350\n",
      "element_126           -0.1352      0.133     -1.015      0.310      -0.396       0.126\n",
      "element_127           -0.1040      0.137     -0.760      0.447      -0.372       0.164\n",
      "element_131           -0.2511      0.202     -1.244      0.213      -0.647       0.144\n",
      "element_132           -0.0092      0.150     -0.061      0.951      -0.304       0.285\n",
      "element_133           -0.1973      0.139     -1.421      0.155      -0.469       0.075\n",
      "element_134            0.0594      0.143      0.416      0.677      -0.220       0.339\n",
      "element_138           -0.2036      0.136     -1.498      0.134      -0.470       0.063\n",
      "element_139           -0.2659      0.350     -0.761      0.447      -0.951       0.419\n",
      "element_140           -0.2465      0.188     -1.312      0.189      -0.615       0.122\n",
      "element_141           -0.0680      0.136     -0.500      0.617      -0.334       0.198\n",
      "element_142           -0.2112      0.133     -1.586      0.113      -0.472       0.050\n",
      "element_143           -0.2496      0.133     -1.875      0.061      -0.511       0.011\n",
      "element_145           -0.2499      0.134     -1.868      0.062      -0.512       0.012\n",
      "element_146           -0.2468      0.160     -1.541      0.123      -0.561       0.067\n",
      "element_147           -0.1727      0.133     -1.297      0.195      -0.434       0.088\n",
      "element_148           -0.3187      0.350     -0.912      0.362      -1.004       0.366\n",
      "element_149           -0.0958      0.133     -0.719      0.472      -0.357       0.165\n",
      "element_150            0.0196      0.133      0.147      0.883      -0.241       0.281\n",
      "element_151           -0.0199      0.136     -0.147      0.883      -0.286       0.247\n",
      "element_152           -0.2624      0.171     -1.539      0.124      -0.597       0.072\n",
      "element_153           -0.2503      0.150     -1.665      0.096      -0.545       0.044\n",
      "element_156           -0.2595      0.178     -1.458      0.145      -0.608       0.089\n",
      "element_157           -0.1996      0.138     -1.448      0.147      -0.470       0.070\n",
      "element_158           -0.2280      0.261     -0.875      0.382      -0.739       0.283\n",
      "element_160           -0.2607      0.188     -1.388      0.165      -0.629       0.107\n",
      "element_161           -0.2516      0.160     -1.571      0.116      -0.565       0.062\n",
      "element_162           -0.2073      0.134     -1.541      0.123      -0.471       0.056\n",
      "element_164           -0.1332      0.133     -1.000      0.317      -0.394       0.128\n",
      "element_167           -0.2597      0.170     -1.523      0.128      -0.594       0.074\n",
      "element_168           -0.2514      0.136     -1.848      0.065      -0.518       0.015\n",
      "element_169           -0.2536      0.148     -1.713      0.087      -0.544       0.037\n",
      "element_170           -0.2454      0.146     -1.681      0.093      -0.531       0.041\n",
      "element_172            0.0835      0.133      0.630      0.529      -0.176       0.343\n",
      "element_175           -0.0892      0.134     -0.666      0.505      -0.351       0.173\n",
      "element_176           -0.2556      0.160     -1.597      0.110      -0.569       0.058\n",
      "element_177           -0.1528      0.138     -1.109      0.268      -0.423       0.117\n",
      "element_180           -0.2530      0.143     -1.773      0.076      -0.533       0.027\n",
      "element_181           -0.2502      0.134     -1.861      0.063      -0.514       0.013\n",
      "element_182           -0.2507      0.138     -1.819      0.069      -0.521       0.019\n",
      "element_183           -0.2549      0.156     -1.631      0.103      -0.561       0.051\n",
      "element_184           -0.1626      0.135     -1.203      0.229      -0.428       0.102\n",
      "element_185           -0.2440      0.150     -1.623      0.105      -0.539       0.051\n",
      "element_186           -0.2440      0.165     -1.481      0.139      -0.567       0.079\n",
      "element_187           -0.2495      0.202     -1.237      0.216      -0.645       0.146\n",
      "element_189           -0.0166      0.148     -0.112      0.911      -0.307       0.274\n",
      "element_192           -0.2131      0.133     -1.600      0.110      -0.474       0.048\n",
      "element_193           -0.2481      0.138     -1.801      0.072      -0.518       0.022\n",
      "element_194           -0.2290      0.171     -1.343      0.179      -0.563       0.105\n",
      "element_195           -0.1220      0.136     -0.897      0.370      -0.389       0.145\n",
      "element_197           -0.2561      0.137     -1.871      0.061      -0.524       0.012\n",
      "element_198           -0.2058      0.136     -1.513      0.130      -0.472       0.061\n",
      "element_199           -0.1387      0.140     -0.991      0.322      -0.413       0.136\n",
      "element_200           -0.2631      0.188     -1.400      0.162      -0.631       0.105\n",
      "element_201           -0.2559      0.139     -1.843      0.065      -0.528       0.016\n",
      "element_202           -0.1637      0.136     -1.204      0.229      -0.430       0.103\n",
      "element_204           -0.2420      0.223     -1.085      0.278      -0.679       0.195\n",
      "element_205           -0.2360      0.261     -0.906      0.365      -0.747       0.275\n",
      "element_206           -0.2032      0.137     -1.485      0.138      -0.471       0.065\n",
      "element_207           -0.2365      0.202     -1.172      0.241      -0.632       0.159\n",
      "element_208           -0.2476      0.160     -1.546      0.122      -0.561       0.066\n",
      "element_209           -0.2567      0.261     -0.985      0.324      -0.767       0.254\n",
      "element_210           -0.2554      0.136     -1.878      0.060      -0.522       0.011\n",
      "element_211           -0.2049      0.137     -1.497      0.134      -0.473       0.063\n",
      "element_212           -0.2559      0.150     -1.702      0.089      -0.551       0.039\n",
      "element_215           -0.1905      0.141     -1.349      0.177      -0.467       0.086\n",
      "element_216           -0.2438      0.350     -0.697      0.486      -0.929       0.441\n",
      "element_217           -0.2565      0.188     -1.366      0.172      -0.625       0.112\n",
      "element_219           -0.2482      0.134     -1.855      0.064      -0.510       0.014\n",
      "element_220           -0.1010      0.137     -0.738      0.461      -0.369       0.167\n",
      "element_221           -0.1561      0.135     -1.154      0.248      -0.421       0.109\n",
      "element_222           -0.2472      0.146     -1.692      0.091      -0.533       0.039\n",
      "element_223           -0.0133      0.137     -0.097      0.923      -0.282       0.255\n",
      "element_224           -0.1593      0.136     -1.172      0.241      -0.426       0.107\n",
      "element_225           -0.1185      0.135     -0.876      0.381      -0.383       0.147\n",
      "element_226           -0.2438      0.160     -1.523      0.128      -0.558       0.070\n",
      "element_227           -0.1711      0.133     -1.285      0.199      -0.432       0.090\n",
      "element_228           -0.2580      0.165     -1.566      0.117      -0.581       0.065\n",
      "element_230           -0.2267      0.188     -1.208      0.227      -0.595       0.141\n",
      "element_231           -0.2368      0.261     -0.909      0.364      -0.748       0.274\n",
      "element_232           -0.3187      0.350     -0.912      0.362      -1.004       0.366\n",
      "element_233           -0.0380      0.134     -0.283      0.777      -0.302       0.226\n",
      "element_234            0.1159      0.136      0.852      0.394      -0.151       0.382\n",
      "element_235           -0.2481      0.143     -1.740      0.082      -0.528       0.031\n",
      "element_236           -0.2020      0.136     -1.486      0.137      -0.469       0.065\n",
      "element_239           -0.1300      0.160     -0.812      0.417      -0.444       0.184\n",
      "element_240           -0.2902      0.261     -1.114      0.265      -0.801       0.221\n",
      "element_241           -0.2468      0.165     -1.498      0.134      -0.570       0.076\n",
      "element_242           -0.2540      0.148     -1.717      0.086      -0.544       0.036\n",
      "element_243           -0.1711      0.150     -1.138      0.255      -0.466       0.124\n",
      "element_245           -0.1975      0.140     -1.411      0.158      -0.472       0.077\n",
      "element_246           -0.2127      0.133     -1.597      0.110      -0.474       0.048\n",
      "element_247           -0.2479      0.134     -1.843      0.065      -0.511       0.016\n",
      "element_249           -0.2485      0.137     -1.816      0.069      -0.517       0.020\n",
      "element_250           -0.2564      0.160     -1.601      0.109      -0.570       0.058\n",
      "element_251            0.2518      0.134      1.873      0.061      -0.012       0.515\n",
      "element_252           -0.1626      0.135     -1.203      0.229      -0.428       0.102\n",
      "element_253            0.4027      0.133      3.024      0.002       0.142       0.664\n",
      "element_254           -0.1101      0.137     -0.805      0.421      -0.378       0.158\n",
      "element_255           -0.1954      0.141     -1.384      0.166      -0.472       0.081\n",
      "element_256           -0.2520      0.139     -1.815      0.070      -0.524       0.020\n",
      "element_257            0.0950      0.133      0.714      0.476      -0.166       0.356\n",
      "element_258            0.1402      0.140      1.001      0.317      -0.134       0.415\n",
      "element_259           -0.2410      0.261     -0.925      0.355      -0.752       0.270\n",
      "element_262           -0.2419      0.140     -1.728      0.084      -0.516       0.032\n",
      "element_263           -0.2465      0.160     -1.540      0.124      -0.560       0.067\n",
      "element_264           -0.2577      0.150     -1.714      0.087      -0.552       0.037\n",
      "element_265           -0.2015      0.135     -1.490      0.136      -0.466       0.064\n",
      "element_266           -0.1020      0.170     -0.598      0.550      -0.436       0.232\n",
      "element_267           -0.2448      0.160     -1.529      0.126      -0.559       0.069\n",
      "element_268           -0.1749      0.133     -1.319      0.187      -0.435       0.085\n",
      "element_269           -0.2632      0.153     -1.720      0.085      -0.563       0.037\n",
      "element_270            0.2539      0.134      1.888      0.059      -0.010       0.517\n",
      "element_271            0.0132      0.135      0.098      0.922      -0.252       0.278\n",
      "element_272           -0.2094      0.134     -1.565      0.118      -0.472       0.053\n",
      "element_273           -0.1630      0.150     -1.084      0.279      -0.458       0.132\n",
      "element_274           -0.0112      0.137     -0.082      0.935      -0.279       0.257\n",
      "element_275            0.0959      0.135      0.710      0.478      -0.169       0.361\n",
      "element_276           -0.0564      0.133     -0.424      0.672      -0.317       0.205\n",
      "element_277           -0.2647      0.165     -1.608      0.108      -0.587       0.058\n",
      "element_279           -0.2553      0.202     -1.266      0.206      -0.651       0.140\n",
      "element_280            0.4899      0.135      3.624      0.000       0.225       0.755\n",
      "element_281            0.0381      0.137      0.279      0.781      -0.230       0.306\n",
      "element_284           -0.1817      0.146     -1.245      0.213      -0.468       0.104\n",
      "element_285           -0.2678      0.150     -1.781      0.075      -0.562       0.027\n",
      "element_286           -0.2045      0.138     -1.484      0.138      -0.475       0.066\n",
      "element_287           -0.2825      0.261     -1.084      0.278      -0.793       0.228\n",
      "element_288           -0.2424      0.188     -1.290      0.197      -0.611       0.126\n",
      "element_289           -0.2359      0.188     -1.256      0.209      -0.604       0.132\n",
      "element_291           -0.2534      0.156     -1.621      0.105      -0.560       0.053\n",
      "element_292           -0.2003      0.137     -1.463      0.143      -0.469       0.068\n",
      "element_293           -0.2005      0.139     -1.444      0.149      -0.473       0.072\n",
      "element_294           -0.2626      0.165     -1.595      0.111      -0.585       0.060\n",
      "element_295           -0.1776      0.146     -1.216      0.224      -0.464       0.109\n",
      "element_296           -0.2114      0.135     -1.564      0.118      -0.476       0.054\n",
      "element_297           -0.1348      0.141     -0.954      0.340      -0.411       0.142\n",
      "element_298           -0.2432      0.146     -1.666      0.096      -0.529       0.043\n",
      "element_299           -0.1444      0.140     -1.032      0.302      -0.419       0.130\n",
      "element_300           -0.0622      0.137     -0.454      0.649      -0.330       0.206\n",
      "element_301            0.2031      0.138      1.474      0.141      -0.067       0.473\n",
      "element_302            0.2227      0.135      1.647      0.100      -0.042       0.488\n",
      "element_303           -0.2626      0.165     -1.594      0.111      -0.585       0.060\n",
      "element_304           -0.1615      0.156     -1.033      0.301      -0.468       0.145\n",
      "element_305            0.1556      0.136      1.144      0.253      -0.111       0.422\n",
      "element_306            0.0982      0.135      0.726      0.468      -0.167       0.363\n",
      "element_310           -0.2024      0.134     -1.505      0.132      -0.466       0.061\n",
      "element_311            0.0241      0.153      0.157      0.875      -0.276       0.324\n",
      "element_312           -0.2448      0.136     -1.800      0.072      -0.511       0.022\n",
      "element_313           -0.2502      0.144     -1.735      0.083      -0.533       0.032\n",
      "element_314           -0.2339      0.188     -1.245      0.213      -0.602       0.134\n",
      "element_315           -0.2552      0.150     -1.697      0.090      -0.550       0.040\n",
      "element_317           -0.2077      0.134     -1.545      0.122      -0.471       0.056\n",
      "element_318           -0.2509      0.153     -1.638      0.101      -0.551       0.049\n",
      "element_319           -0.2495      0.136     -1.835      0.067      -0.516       0.017\n",
      "element_320           -0.2467      0.139     -1.777      0.076      -0.519       0.025\n",
      "element_321           -0.2364      0.160     -1.477      0.140      -0.550       0.077\n",
      "element_323           -0.1718      0.148     -1.160      0.246      -0.462       0.118\n",
      "element_324           -0.2574      0.153     -1.682      0.093      -0.557       0.042\n",
      "element_326           -0.1297      0.134     -0.969      0.333      -0.392       0.133\n",
      "element_327           -0.0992      0.146     -0.680      0.497      -0.385       0.187\n",
      "element_330           -0.1663      0.148     -1.124      0.261      -0.456       0.124\n",
      "element_331           -0.2531      0.160     -1.581      0.114      -0.567       0.061\n",
      "element_332           -0.1878      0.140     -1.342      0.180      -0.462       0.087\n",
      "element_333           -0.1893      0.143     -1.327      0.185      -0.469       0.090\n",
      "element_335           -0.2496      0.148     -1.686      0.092      -0.540       0.041\n",
      "element_336           -0.2454      0.148     -1.658      0.097      -0.535       0.045\n",
      "element_337           -0.2412      0.223     -1.081      0.280      -0.679       0.196\n",
      "element_338           -0.0310      0.146     -0.212      0.832      -0.317       0.255\n",
      "element_339           -0.2485      0.139     -1.790      0.074      -0.521       0.024\n",
      "element_340           -0.0893      0.139     -0.643      0.520      -0.361       0.183\n",
      "element_343           -0.1340      0.133     -1.006      0.314      -0.395       0.127\n",
      "element_344           -0.2483      0.140     -1.774      0.076      -0.523       0.026\n",
      "element_345           -0.1017      0.138     -0.738      0.461      -0.372       0.168\n",
      "element_346           -0.2495      0.146     -1.709      0.087      -0.536       0.037\n",
      "element_347           -0.1834      0.141     -1.298      0.194      -0.460       0.093\n",
      "element_348           -0.1407      0.140     -1.005      0.315      -0.415       0.134\n",
      "element_349           -0.1726      0.150     -1.148      0.251      -0.467       0.122\n",
      "element_353           -0.2544      0.134     -1.892      0.059      -0.518       0.009\n",
      "element_354           -0.2608      0.144     -1.808      0.071      -0.544       0.022\n",
      "element_355           -0.1818      0.146     -1.245      0.213      -0.468       0.104\n",
      "element_356           -0.2506      0.141     -1.774      0.076      -0.527       0.026\n",
      "element_357           -0.2076      0.137     -1.517      0.129      -0.476       0.061\n",
      "element_358           -0.2537      0.223     -1.136      0.256      -0.691       0.184\n",
      "element_359           -0.1901      0.144     -1.318      0.188      -0.473       0.093\n",
      "element_360           -0.2409      0.171     -1.412      0.158      -0.575       0.093\n",
      "element_361           -0.1207      0.144     -0.837      0.402      -0.403       0.162\n",
      "element_362           -0.2452      0.156     -1.570      0.116      -0.551       0.061\n",
      "element_363            0.0142      0.144      0.098      0.922      -0.268       0.297\n",
      "element_364           -0.0332      0.135     -0.246      0.806      -0.298       0.232\n",
      "element_365            0.0386      0.141      0.273      0.785      -0.238       0.315\n",
      "element_366           -0.2509      0.188     -1.336      0.182      -0.619       0.117\n",
      "element_367            0.3001      0.138      2.177      0.029       0.030       0.570\n",
      "element_368           -0.2091      0.135     -1.546      0.122      -0.474       0.056\n",
      "element_369           -0.2505      0.138     -1.817      0.069      -0.521       0.020\n",
      "element_370            0.0357      0.137      0.261      0.794      -0.233       0.304\n",
      "element_371           -0.1637      0.156     -1.047      0.295      -0.470       0.143\n",
      "element_372            0.3843      0.136      2.826      0.005       0.118       0.651\n",
      "element_376           -0.1292      0.134     -0.965      0.334      -0.391       0.133\n",
      "element_377           -0.2260      0.350     -0.646      0.518      -0.911       0.459\n",
      "element_378           -0.1225      0.135     -0.906      0.365      -0.388       0.143\n",
      "element_379           -0.2894      0.350     -0.828      0.408      -0.975       0.396\n",
      "element_380           -0.2594      0.144     -1.799      0.072      -0.542       0.023\n",
      "element_381           -0.2529      0.156     -1.618      0.106      -0.559       0.053\n",
      "element_382           -0.2460      0.140     -1.757      0.079      -0.520       0.028\n",
      "element_383           -0.2549      0.138     -1.850      0.064      -0.525       0.015\n",
      "element_385           -0.2462      0.350     -0.704      0.481      -0.931       0.439\n",
      "element_386           -0.2372      0.178     -1.333      0.183      -0.586       0.112\n",
      "element_387           -0.2368      0.171     -1.388      0.165      -0.571       0.098\n",
      "element_388           -0.1343      0.165     -0.815      0.415      -0.457       0.189\n",
      "element_389           -0.2052      0.136     -1.509      0.131      -0.472       0.061\n",
      "element_390           -0.1197      0.135     -0.885      0.376      -0.385       0.145\n",
      "element_391           -0.0008      0.134     -0.006      0.996      -0.264       0.263\n",
      "element_392           -0.2003      0.137     -1.463      0.143      -0.469       0.068\n",
      "element_393            0.1518      0.134      1.134      0.257      -0.110       0.414\n",
      "element_394           -0.0893      0.139     -0.643      0.520      -0.361       0.183\n",
      "element_395           -0.0139      0.141     -0.099      0.921      -0.291       0.263\n",
      "element_396           -0.0338      0.135     -0.250      0.803      -0.299       0.231\n",
      "element_397           -0.2611      0.261     -1.002      0.316      -0.772       0.250\n",
      "element_402           -0.2471      0.146     -1.692      0.091      -0.533       0.039\n",
      "element_403           -0.2513      0.146     -1.721      0.085      -0.538       0.035\n",
      "element_405           -0.2510      0.139     -1.807      0.071      -0.523       0.021\n",
      "element_406           -0.2054      0.135     -1.519      0.129      -0.470       0.060\n",
      "element_408           -0.2303      0.178     -1.294      0.196      -0.579       0.119\n",
      "element_409           -0.2503      0.134     -1.861      0.063      -0.514       0.013\n",
      "element_410           -0.2437      0.141     -1.725      0.084      -0.520       0.033\n",
      "element_411           -0.2011      0.137     -1.469      0.142      -0.469       0.067\n",
      "element_412           -0.2515      0.137     -1.838      0.066      -0.520       0.017\n",
      "element_413           -0.2469      0.141     -1.749      0.080      -0.524       0.030\n",
      "element_415           -0.1184      0.135     -0.875      0.381      -0.383       0.147\n",
      "element_417            0.1411      0.140      1.008      0.314      -0.133       0.416\n",
      "element_418           -0.2582      0.153     -1.687      0.092      -0.558       0.042\n",
      "element_419           -0.0242      0.140     -0.173      0.863      -0.299       0.250\n",
      "element_423           -0.1217      0.134     -0.905      0.365      -0.385       0.142\n",
      "element_425           -0.1316      0.133     -0.988      0.323      -0.393       0.129\n",
      "element_426           -0.0936      0.148     -0.632      0.527      -0.384       0.197\n",
      "element_427           -0.2053      0.134     -1.534      0.125      -0.468       0.057\n",
      "element_430           -0.2470      0.133     -1.855      0.064      -0.508       0.014\n",
      "element_431           -0.2494      0.150     -1.659      0.097      -0.544       0.045\n",
      "element_432           -0.0107      0.137     -0.078      0.938      -0.279       0.258\n",
      "element_433           -0.1197      0.135     -0.890      0.373      -0.383       0.144\n",
      "element_434           -0.0634      0.143     -0.445      0.657      -0.343       0.216\n",
      "element_435           -0.2059      0.136     -1.514      0.130      -0.472       0.061\n",
      "element_437            0.0991      0.133      0.744      0.457      -0.162       0.360\n",
      "element_438           -0.2541      0.170     -1.491      0.136      -0.588       0.080\n",
      "element_440           -0.2533      0.153     -1.655      0.098      -0.553       0.047\n",
      "element_441           -0.2170      0.261     -0.833      0.405      -0.728       0.294\n",
      "element_443           -0.3187      0.350     -0.912      0.362      -1.004       0.366\n",
      "element_444           -0.2369      0.188     -1.261      0.207      -0.605       0.131\n",
      "element_446           -0.1942      0.146     -1.330      0.184      -0.480       0.092\n",
      "element_447           -0.2331      0.188     -1.241      0.215      -0.601       0.135\n",
      "element_448           -0.2490      0.140     -1.779      0.075      -0.523       0.025\n",
      "element_450           -0.1742      0.133     -1.308      0.191      -0.435       0.087\n",
      "element_451           -0.2542      0.135     -1.881      0.060      -0.519       0.011\n",
      "element_453           -0.0150      0.160     -0.094      0.925      -0.329       0.299\n",
      "element_455           -0.2537      0.139     -1.827      0.068      -0.526       0.018\n",
      "element_456           -0.2104      0.133     -1.580      0.114      -0.471       0.051\n",
      "element_458           -0.1983      0.138     -1.439      0.150      -0.468       0.072\n",
      "element_459           -0.2116      0.134     -1.581      0.114      -0.474       0.051\n",
      "element_460           -0.2437      0.138     -1.769      0.077      -0.514       0.026\n",
      "element_461           -0.2545      0.140     -1.818      0.069      -0.529       0.020\n",
      "element_462            0.0444      0.138      0.322      0.747      -0.226       0.315\n",
      "element_463           -0.2541      0.141     -1.798      0.072      -0.531       0.023\n",
      "element_464           -0.1876      0.141     -1.329      0.184      -0.464       0.089\n",
      "element_465            0.0589      0.133      0.442      0.658      -0.202       0.320\n",
      "element_466           -0.2524      0.140     -1.803      0.071      -0.527       0.022\n",
      "element_467           -0.2435      0.171     -1.428      0.153      -0.578       0.091\n",
      "element_471           -0.2337      0.153     -1.526      0.127      -0.534       0.066\n",
      "element_472           -0.0903      0.148     -0.610      0.542      -0.380       0.200\n",
      "element_473           -0.2302      0.165     -1.397      0.162      -0.553       0.093\n",
      "element_475           -0.2086      0.133     -1.566      0.117      -0.470       0.052\n",
      "element_476           -0.2446      0.153     -1.598      0.110      -0.545       0.055\n",
      "element_478            0.0241      0.136      0.177      0.859      -0.242       0.291\n",
      "element_479           -0.2522      0.148     -1.703      0.088      -0.542       0.038\n",
      "element_480            0.1357      0.133      1.019      0.308      -0.125       0.397\n",
      "element_481           -0.2581      0.171     -1.513      0.130      -0.592       0.076\n",
      "element_482           -0.1121      0.146     -0.768      0.442      -0.398       0.174\n",
      "element_483           -0.1994      0.136     -1.466      0.143      -0.466       0.067\n",
      "element_484           -0.1243      0.134     -0.924      0.355      -0.388       0.139\n",
      "element_486           -0.1953      0.138     -1.418      0.156      -0.465       0.075\n",
      "element_487           -0.2434      0.148     -1.645      0.100      -0.533       0.047\n",
      "element_488           -0.1606      0.150     -1.068      0.286      -0.455       0.134\n",
      "element_489           -0.1707      0.134     -1.276      0.202      -0.433       0.092\n",
      "element_491            0.7535      0.350      2.155      0.031       0.068       1.439\n",
      "element_492           -0.1898      0.143     -1.331      0.183      -0.469       0.090\n",
      "element_493            0.0521      0.138      0.378      0.705      -0.218       0.322\n",
      "element_494           -0.1983      0.138     -1.439      0.150      -0.468       0.072\n",
      "element_495           -0.1267      0.165     -0.769      0.442      -0.450       0.196\n",
      "element_497           -0.3187      0.350     -0.912      0.362      -1.004       0.366\n",
      "element_499           -0.2468      0.135     -1.825      0.068      -0.512       0.018\n",
      "element_500           -0.1987      0.137     -1.452      0.146      -0.467       0.070\n",
      "element_502           -0.0546      0.156     -0.349      0.727      -0.361       0.252\n",
      "element_503           -0.2512      0.140     -1.795      0.073      -0.525       0.023\n",
      "element_504           -0.1169      0.135     -0.865      0.387      -0.382       0.148\n",
      "element_505           -0.1865      0.141     -1.321      0.187      -0.463       0.090\n",
      "element_506           -0.1455      0.156     -0.931      0.352      -0.452       0.161\n",
      "element_507           -0.2498      0.135     -1.847      0.065      -0.515       0.015\n",
      "element_508           -0.1912      0.139     -1.377      0.168      -0.463       0.081\n",
      "element_510           -0.2497      0.143     -1.749      0.080      -0.529       0.030\n",
      "element_511           -0.2556      0.160     -1.596      0.110      -0.569       0.058\n",
      "element_512           -0.2451      0.153     -1.601      0.109      -0.545       0.055\n",
      "element_513           -0.1941      0.141     -1.374      0.169      -0.471       0.083\n",
      "element_514           -0.2534      0.141     -1.794      0.073      -0.530       0.023\n",
      "element_515           -0.2797      0.188     -1.489      0.136      -0.648       0.088\n",
      "element_516           -0.2436      0.144     -1.690      0.091      -0.526       0.039\n",
      "element_517           -0.0755      0.178     -0.424      0.671      -0.424       0.273\n",
      "element_518           -0.2440      0.188     -1.299      0.194      -0.612       0.124\n",
      "element_519           -0.0902      0.170     -0.529      0.597      -0.424       0.244\n",
      "element_521           -0.2387      0.223     -1.070      0.285      -0.676       0.199\n",
      "element_522            0.2868      0.261      1.101      0.271      -0.224       0.797\n",
      "element_523           -0.2311      0.350     -0.661      0.509      -0.916       0.454\n",
      "element_524           -0.2076      0.135     -1.535      0.125      -0.473       0.057\n",
      "element_526           -0.2079      0.135     -1.538      0.124      -0.473       0.057\n",
      "element_527           -0.2488      0.135     -1.840      0.066      -0.514       0.016\n",
      "element_531           -0.2268      0.178     -1.275      0.202      -0.575       0.122\n",
      "element_534           -0.1515      0.160     -0.947      0.344      -0.465       0.162\n",
      "element_535           -0.1636      0.150     -1.088      0.277      -0.458       0.131\n",
      "element_539           -0.2624      0.148     -1.773      0.076      -0.553       0.028\n",
      "element_540           -0.2682      0.178     -1.507      0.132      -0.617       0.081\n",
      "element_543           -0.0635      0.188     -0.338      0.735      -0.432       0.305\n",
      "element_544           -0.2241      0.261     -0.860      0.390      -0.735       0.287\n",
      "element_549           -0.0806      0.178     -0.453      0.651      -0.429       0.268\n",
      "element_550           -0.0587      0.188     -0.313      0.754      -0.427       0.309\n",
      "element_552           -0.2715      0.350     -0.777      0.437      -0.957       0.414\n",
      "element_556           -0.2559      0.150     -1.702      0.089      -0.551       0.039\n",
      "element_557           -0.2438      0.350     -0.697      0.486      -0.929       0.441\n",
      "element_560           -0.2894      0.350     -0.828      0.408      -0.975       0.396\n",
      "element_562           -0.2462      0.350     -0.704      0.481      -0.931       0.439\n",
      "element_563           -0.3187      0.350     -0.912      0.362      -1.004       0.366\n",
      "element_565           -0.2004      0.350     -0.573      0.566      -0.885       0.485\n",
      "element_566           -0.2838      0.350     -0.812      0.417      -0.969       0.401\n",
      "element_568           -0.2838      0.350     -0.812      0.417      -0.969       0.401\n",
      "element_569           -0.2589      0.261     -0.993      0.321      -0.770       0.252\n",
      "element_570           -0.2593      0.223     -1.162      0.245      -0.697       0.178\n",
      "element_571           -0.2404      0.202     -1.191      0.234      -0.636       0.155\n",
      "element_573           -0.2838      0.350     -0.812      0.417      -0.969       0.401\n",
      "element_574           -0.2679      0.261     -1.028      0.304      -0.779       0.243\n",
      "element_575           -0.2419      0.202     -1.199      0.231      -0.637       0.154\n",
      "element_579            0.4147      0.223      1.859      0.063      -0.022       0.852\n",
      "element_580           -0.2105      0.260     -0.808      0.419      -0.721       0.300\n",
      "element_581           -0.2911      0.350     -0.832      0.405      -0.976       0.394\n",
      "element_585           -0.2381      0.261     -0.914      0.361      -0.749       0.273\n",
      "element_586           -0.2421      0.260     -0.930      0.353      -0.753       0.268\n",
      "element_587           -0.2260      0.350     -0.646      0.518      -0.911       0.459\n",
      "element_588           -0.2222      0.350     -0.636      0.525      -0.908       0.463\n",
      "element_589           -0.2687      0.261     -1.031      0.302      -0.779       0.242\n",
      "element_590           -0.2659      0.350     -0.761      0.447      -0.951       0.419\n",
      "element_591           -0.2222      0.350     -0.636      0.525      -0.908       0.463\n",
      "element_592           -0.2875      0.260     -1.104      0.270      -0.798       0.223\n",
      "======================================================================================\n"
     ]
    }
   ],
   "source": [
    "print(sgpm_results.summary())"
   ]
  },
  {
   "cell_type": "markdown",
   "metadata": {
    "hidden": true
   },
   "source": [
    "### Model fit"
   ]
  },
  {
   "cell_type": "code",
   "execution_count": 223,
   "metadata": {
    "ExecuteTime": {
     "end_time": "2019-03-15T17:03:43.659554Z",
     "start_time": "2019-03-15T17:03:43.655431Z"
    },
    "hidden": true
   },
   "outputs": [
    {
     "data": {
      "text/plain": [
       "4555.701130198417"
      ]
     },
     "execution_count": 223,
     "metadata": {},
     "output_type": "execute_result"
    }
   ],
   "source": [
    "sgpm_results.aic"
   ]
  },
  {
   "cell_type": "code",
   "execution_count": 224,
   "metadata": {
    "ExecuteTime": {
     "end_time": "2019-03-15T17:03:43.687157Z",
     "start_time": "2019-03-15T17:03:43.662166Z"
    },
    "hidden": true
   },
   "outputs": [
    {
     "data": {
      "text/plain": [
       "-54004.64494785972"
      ]
     },
     "execution_count": 224,
     "metadata": {},
     "output_type": "execute_result"
    }
   ],
   "source": [
    "sgpm_results.bic"
   ]
  },
  {
   "cell_type": "code",
   "execution_count": 225,
   "metadata": {
    "ExecuteTime": {
     "end_time": "2019-03-15T17:03:43.713392Z",
     "start_time": "2019-03-15T17:03:43.689295Z"
    },
    "hidden": true
   },
   "outputs": [
    {
     "data": {
      "text/plain": [
       "(False, 1.0)"
      ]
     },
     "execution_count": 225,
     "metadata": {},
     "output_type": "execute_result"
    }
   ],
   "source": [
    "sgpm_pearson_results = goodness_fit.pearson_chi_squared_test(sgpm_results)\n",
    "sgpm_pearson_results"
   ]
  },
  {
   "cell_type": "code",
   "execution_count": 226,
   "metadata": {
    "ExecuteTime": {
     "end_time": "2019-03-15T17:03:43.742569Z",
     "start_time": "2019-03-15T17:03:43.715378Z"
    },
    "hidden": true
   },
   "outputs": [
    {
     "data": {
      "text/plain": [
       "count    6.675000e+03\n",
       "mean     2.652892e-17\n",
       "std      3.174531e-01\n",
       "min     -8.086204e-01\n",
       "25%     -1.189562e-01\n",
       "50%     -4.058364e-02\n",
       "75%      5.806103e-03\n",
       "max      2.765964e+00\n",
       "dtype: float64"
      ]
     },
     "execution_count": 226,
     "metadata": {},
     "output_type": "execute_result"
    }
   ],
   "source": [
    "sgpm_results.resid_deviance.describe()"
   ]
  },
  {
   "cell_type": "code",
   "execution_count": 227,
   "metadata": {
    "ExecuteTime": {
     "end_time": "2019-03-15T17:03:44.763652Z",
     "start_time": "2019-03-15T17:03:44.477888Z"
    },
    "hidden": true
   },
   "outputs": [
    {
     "data": {
      "image/png": "[encoded data removed]",
      "text/plain": [
       "<Figure size 432x288 with 1 Axes>"
      ]
     },
     "metadata": {
      "needs_background": "light"
     },
     "output_type": "display_data"
    }
   ],
   "source": [
    "plt.figure()\n",
    "plt.hist(sgpm_results.resid_deviance)\n",
    "plt.show()"
   ]
  },
  {
   "cell_type": "markdown",
   "metadata": {
    "heading_collapsed": true
   },
   "source": [
    "# Model comparison"
   ]
  },
  {
   "cell_type": "code",
   "execution_count": 228,
   "metadata": {
    "ExecuteTime": {
     "end_time": "2019-03-15T17:03:51.505755Z",
     "start_time": "2019-03-15T17:03:51.496707Z"
    },
    "hidden": true
   },
   "outputs": [
    {
     "data": {
      "text/plain": [
       "{'simple Poisson': 4729.87418494977,\n",
       " 'simple Poisson teams': 4406.853354863553,\n",
       " 'simple Poisson players': 4556.068368039614,\n",
       " 'simple Poisson minutes': 4647.41549945014,\n",
       " 'simple Poisson teams minutes': 4232.064430637609,\n",
       " 'simple Poisson players minutes': 4487.51782495201,\n",
       " 'simple Poisson players exposure': 4499.947675626076,\n",
       " 'simple Gaussian': 4820.092843466686,\n",
       " 'simple Gaussian teams': 4533.188593892439,\n",
       " 'simple Gaussian players': 4555.701130198417}"
      ]
     },
     "execution_count": 228,
     "metadata": {},
     "output_type": "execute_result"
    }
   ],
   "source": [
    "{\n",
    "    'simple Poisson': spm_results.aic,\n",
    "    'simple Poisson teams': sptm_results.aic,\n",
    "    'simple Poisson players': sppm_results.aic,\n",
    "    'simple Poisson minutes': spmm_results.aic,\n",
    "    'simple Poisson teams minutes': sptmm_results.aic,\n",
    "    'simple Poisson players minutes': sppmm_results.aic,\n",
    "    'simple Poisson players exposure': eppmm_results.aic,\n",
    "    'simple Gaussian': sgm_results.aic,\n",
    "    'simple Gaussian teams': sgtm_results.aic,\n",
    "    'simple Gaussian players': sgpm_results.aic\n",
    "}"
   ]
  },
  {
   "cell_type": "markdown",
   "metadata": {
    "hidden": true
   },
   "source": [
    "AIC prefers simple Poisson teams minutes"
   ]
  },
  {
   "cell_type": "code",
   "execution_count": 229,
   "metadata": {
    "ExecuteTime": {
     "end_time": "2019-03-15T17:03:51.929651Z",
     "start_time": "2019-03-15T17:03:51.916822Z"
    },
    "hidden": true
   },
   "outputs": [
    {
     "data": {
      "text/plain": [
       "{'simple Poisson': -55361.806988078446,\n",
       " 'simple Poisson teams': -55405.77671435065,\n",
       " 'simple Poisson players': -52370.764920268775,\n",
       " 'simple Poisson minutes': -55437.4595490948,\n",
       " 'simple Poisson teams minutes': -55573.759514093326,\n",
       " 'simple Poisson players minutes': -52432.509338873104,\n",
       " 'simple Poisson players exposure': -52426.88561268231,\n",
       " 'simple Gaussian': -57959.13987847465,\n",
       " 'simple Gaussian teams': -57649.90256202335,\n",
       " 'simple Gaussian players': -54004.64494785972}"
      ]
     },
     "execution_count": 229,
     "metadata": {},
     "output_type": "execute_result"
    }
   ],
   "source": [
    "{\n",
    "    'simple Poisson': spm_results.bic,\n",
    "    'simple Poisson teams': sptm_results.bic,\n",
    "    'simple Poisson players': sppm_results.bic,\n",
    "    'simple Poisson minutes': spmm_results.bic,\n",
    "    'simple Poisson teams minutes': sptmm_results.bic,\n",
    "    'simple Poisson players minutes': sppmm_results.bic,\n",
    "    'simple Poisson players exposure': eppmm_results.bic,    \n",
    "    'simple Gaussian': sgm_results.bic,\n",
    "    'simple Gaussian teams': sgtm_results.bic,\n",
    "    'simple Gaussian players': sgpm_results.bic\n",
    "}"
   ]
  },
  {
   "cell_type": "markdown",
   "metadata": {
    "hidden": true
   },
   "source": [
    "BIC prefers simple Gaussian model, followed by simple Gaussian teams"
   ]
  },
  {
   "cell_type": "code",
   "execution_count": 230,
   "metadata": {
    "ExecuteTime": {
     "end_time": "2019-03-15T17:03:53.017148Z",
     "start_time": "2019-03-15T17:03:53.004154Z"
    },
    "hidden": true
   },
   "outputs": [
    {
     "data": {
      "text/plain": [
       "{'simple Poisson': (True, 4.0900616227190767e-13),\n",
       " 'simple Poisson teams': (True, 2.277722455090725e-11),\n",
       " 'simple Poisson players': (False, 1.0),\n",
       " 'simple Poisson minutes': (True, 1.6869827756949007e-10),\n",
       " 'simple Poisson teams minutes': (True, 0.0),\n",
       " 'simple Poisson players minutes': (False, 1.0),\n",
       " 'simple Poisson players exposure': (False, 0.3802389271705421),\n",
       " 'simple Gaussian': (False, 1.0),\n",
       " 'simple Gaussian teams': (False, 1.0),\n",
       " 'simple Gaussian players': (False, 1.0)}"
      ]
     },
     "execution_count": 230,
     "metadata": {},
     "output_type": "execute_result"
    }
   ],
   "source": [
    "{\n",
    "    'simple Poisson': spm_pearson_results,\n",
    "    'simple Poisson teams': sptm_pearson_results,\n",
    "    'simple Poisson players': sppm_pearson_results,\n",
    "    'simple Poisson minutes': spmm_pearson_results,\n",
    "    'simple Poisson teams minutes': sptmm_pearson_results,\n",
    "    'simple Poisson players minutes': sppmm_pearson_results,\n",
    "    'simple Poisson players exposure': eppmm_pearson_results,\n",
    "    'simple Gaussian': sgm_pearson_results,\n",
    "    'simple Gaussian teams': sgtm_pearson_results,\n",
    "    'simple Gaussian players': sgpm_pearson_results\n",
    "}"
   ]
  },
  {
   "cell_type": "markdown",
   "metadata": {
    "hidden": true
   },
   "source": [
    "simple Poisson players, simple Poisson players minutes and simple Poisson players exposure fit. Gaussian models fit"
   ]
  },
  {
   "cell_type": "code",
   "execution_count": null,
   "metadata": {
    "hidden": true
   },
   "outputs": [],
   "source": []
  }
 ],
 "metadata": {
  "kernelspec": {
   "display_name": "Python 3",
   "language": "python",
   "name": "python3"
  },
  "language_info": {
   "codemirror_mode": {
    "name": "ipython",
    "version": 3
   },
   "file_extension": ".py",
   "mimetype": "text/x-python",
   "name": "python",
   "nbconvert_exporter": "python",
   "pygments_lexer": "ipython3",
   "version": "3.6.7"
  },
  "toc": {
   "nav_menu": {},
   "number_sections": true,
   "sideBar": true,
   "skip_h1_title": false,
   "title_cell": "Table of Contents",
   "title_sidebar": "Contents",
   "toc_cell": false,
   "toc_position": {},
   "toc_section_display": true,
   "toc_window_display": false
  }
 },
 "nbformat": 4,
 "nbformat_minor": 2
}
