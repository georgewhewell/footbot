{
 "cells": [
  {
   "cell_type": "markdown",
   "metadata": {},
   "source": [
    "# Set up"
   ]
  },
  {
   "cell_type": "code",
   "execution_count": 4,
   "metadata": {
    "ExecuteTime": {
     "end_time": "2019-04-14T09:30:05.646408Z",
     "start_time": "2019-04-14T09:30:05.640976Z"
    }
   },
   "outputs": [],
   "source": [
    "# update path with data dir\n",
    "import sys\n",
    "sys.path.append('../data/')\n",
    "sys.path.append('../modelling/')"
   ]
  },
  {
   "cell_type": "code",
   "execution_count": 5,
   "metadata": {
    "ExecuteTime": {
     "end_time": "2019-04-14T09:30:09.267425Z",
     "start_time": "2019-04-14T09:30:06.978985Z"
    }
   },
   "outputs": [
    {
     "name": "stderr",
     "output_type": "stream",
     "text": [
      "/home/tom/footbot/venv/lib/python3.6/site-packages/statsmodels/compat/pandas.py:56: FutureWarning: The pandas.core.datetools module is deprecated and will be removed in a future version. Please use the pandas.tseries module instead.\n",
      "  from pandas.core import datetools\n"
     ]
    }
   ],
   "source": [
    "import player_data as player\n",
    "from neural_nets import goals\n",
    "import pandas as pd\n",
    "from datetime import datetime\n",
    "import numpy as np\n",
    "import patsy"
   ]
  },
  {
   "cell_type": "markdown",
   "metadata": {},
   "source": [
    "# Getting data"
   ]
  },
  {
   "cell_type": "code",
   "execution_count": 6,
   "metadata": {
    "ExecuteTime": {
     "end_time": "2019-04-14T09:30:11.391196Z",
     "start_time": "2019-04-14T09:30:11.384468Z"
    }
   },
   "outputs": [],
   "source": [
    "file_name = 'csvs/element_gameweek_' + datetime.today().strftime('%Y-%m-%d') + '.csv'"
   ]
  },
  {
   "cell_type": "code",
   "execution_count": 7,
   "metadata": {
    "ExecuteTime": {
     "end_time": "2019-04-14T09:30:12.250484Z",
     "start_time": "2019-04-14T09:30:12.064781Z"
    }
   },
   "outputs": [],
   "source": [
    "try:\n",
    "    element_gameweek_df = pd.read_csv(file_name)\n",
    "except:\n",
    "    element_gameweek_df = player.get_element_gameweek_df()\n",
    "    element_gameweek_df.to_csv(file_name)"
   ]
  },
  {
   "cell_type": "code",
   "execution_count": 8,
   "metadata": {
    "ExecuteTime": {
     "end_time": "2019-04-14T09:30:12.597249Z",
     "start_time": "2019-04-14T09:30:12.590938Z"
    }
   },
   "outputs": [],
   "source": [
    "current_event = 33\n",
    "element_types = [1, 2, 3, 4]\n",
    "threshold_minutes = 1"
   ]
  },
  {
   "cell_type": "code",
   "execution_count": 9,
   "metadata": {
    "ExecuteTime": {
     "end_time": "2019-04-14T09:30:13.754238Z",
     "start_time": "2019-04-14T09:30:13.731790Z"
    }
   },
   "outputs": [],
   "source": [
    "element_gameweek_df =\\\n",
    "element_gameweek_df[\n",
    "    (element_gameweek_df['event'] <= current_event)\n",
    "    & (element_gameweek_df['element_type'].isin(element_types))\n",
    "    & (element_gameweek_df['minutes'] >= threshold_minutes)\n",
    "]"
   ]
  },
  {
   "cell_type": "markdown",
   "metadata": {},
   "source": [
    "# Modelling"
   ]
  },
  {
   "cell_type": "markdown",
   "metadata": {},
   "source": [
    "## Goals"
   ]
  },
  {
   "cell_type": "code",
   "execution_count": 10,
   "metadata": {
    "ExecuteTime": {
     "end_time": "2019-04-14T09:30:30.203549Z",
     "start_time": "2019-04-14T09:30:30.197775Z"
    }
   },
   "outputs": [],
   "source": [
    "goals_formula = 'goals_scored ~ was_home + C(element) + C(opposition_team)'"
   ]
  },
  {
   "cell_type": "code",
   "execution_count": 11,
   "metadata": {
    "ExecuteTime": {
     "end_time": "2019-04-14T09:30:32.040723Z",
     "start_time": "2019-04-14T09:30:31.734462Z"
    }
   },
   "outputs": [],
   "source": [
    "goals_response, goals_explanatory =\\\n",
    "patsy.dmatrices(goals_formula, element_gameweek_df, return_type='dataframe')"
   ]
  },
  {
   "cell_type": "code",
   "execution_count": 12,
   "metadata": {
    "ExecuteTime": {
     "end_time": "2019-04-14T09:31:12.351022Z",
     "start_time": "2019-04-14T09:30:46.292019Z"
    }
   },
   "outputs": [
    {
     "name": "stdout",
     "output_type": "stream",
     "text": [
      "WARNING:tensorflow:From /home/tom/footbot/venv/lib/python3.6/site-packages/tensorflow/python/ops/resource_variable_ops.py:435: colocate_with (from tensorflow.python.framework.ops) is deprecated and will be removed in a future version.\n",
      "Instructions for updating:\n",
      "Colocations handled automatically by placer.\n",
      "WARNING:tensorflow:From /home/tom/footbot/venv/lib/python3.6/site-packages/tensorflow/python/ops/math_ops.py:3066: to_int32 (from tensorflow.python.ops.math_ops) is deprecated and will be removed in a future version.\n",
      "Instructions for updating:\n",
      "Use tf.cast instead.\n",
      "Epoch 1/20\n",
      "8967/8967 [==============================] - 2s 176us/sample - loss: 0.1116\n",
      "Epoch 2/20\n",
      "8967/8967 [==============================] - 1s 140us/sample - loss: 0.0993\n",
      "Epoch 3/20\n",
      "8967/8967 [==============================] - 1s 142us/sample - loss: 0.0993\n",
      "Epoch 4/20\n",
      "8967/8967 [==============================] - 1s 138us/sample - loss: 0.0992\n",
      "Epoch 5/20\n",
      "8967/8967 [==============================] - 1s 139us/sample - loss: 0.0992\n",
      "Epoch 6/20\n",
      "8967/8967 [==============================] - 1s 139us/sample - loss: 0.0992\n",
      "Epoch 7/20\n",
      "8967/8967 [==============================] - 1s 142us/sample - loss: 0.0991\n",
      "Epoch 8/20\n",
      "8967/8967 [==============================] - 1s 139us/sample - loss: 0.0990\n",
      "Epoch 9/20\n",
      "8967/8967 [==============================] - 1s 139us/sample - loss: 0.0990\n",
      "Epoch 10/20\n",
      "8967/8967 [==============================] - 1s 138us/sample - loss: 0.0989\n",
      "Epoch 11/20\n",
      "8967/8967 [==============================] - 1s 141us/sample - loss: 0.0987\n",
      "Epoch 12/20\n",
      "8967/8967 [==============================] - 1s 138us/sample - loss: 0.0985\n",
      "Epoch 13/20\n",
      "8967/8967 [==============================] - 1s 141us/sample - loss: 0.0983\n",
      "Epoch 14/20\n",
      "8967/8967 [==============================] - 1s 138us/sample - loss: 0.0980\n",
      "Epoch 15/20\n",
      "8967/8967 [==============================] - 1s 140us/sample - loss: 0.0976\n",
      "Epoch 16/20\n",
      "8967/8967 [==============================] - 1s 143us/sample - loss: 0.0973\n",
      "Epoch 17/20\n",
      "8967/8967 [==============================] - 1s 138us/sample - loss: 0.0969\n",
      "Epoch 18/20\n",
      "8967/8967 [==============================] - 1s 141us/sample - loss: 0.0966\n",
      "Epoch 19/20\n",
      "8967/8967 [==============================] - 1s 159us/sample - loss: 0.0962\n",
      "Epoch 20/20\n",
      "8967/8967 [==============================] - 1s 120us/sample - loss: 0.0958\n"
     ]
    }
   ],
   "source": [
    "goals_model = goals.train_model(goals_explanatory, goals_response)"
   ]
  },
  {
   "cell_type": "markdown",
   "metadata": {},
   "source": [
    "# Predicting points"
   ]
  },
  {
   "cell_type": "code",
   "execution_count": 13,
   "metadata": {
    "ExecuteTime": {
     "end_time": "2019-04-14T09:31:21.218479Z",
     "start_time": "2019-04-14T09:31:20.662870Z"
    }
   },
   "outputs": [],
   "source": [
    "gameweek_fixtures_df = player.get_gameweek_fixtures_df(35, threshold_minutes, element_gameweek_df)"
   ]
  },
  {
   "cell_type": "code",
   "execution_count": 14,
   "metadata": {
    "ExecuteTime": {
     "end_time": "2019-04-14T09:31:22.397796Z",
     "start_time": "2019-04-14T09:31:22.307475Z"
    }
   },
   "outputs": [],
   "source": [
    "gameweek_fixtures_explanatory_df = player.get_gameweek_fixtures_explanatory_df(gameweek_fixtures_df)"
   ]
  },
  {
   "cell_type": "markdown",
   "metadata": {},
   "source": [
    "## Goals"
   ]
  },
  {
   "cell_type": "code",
   "execution_count": 15,
   "metadata": {
    "ExecuteTime": {
     "end_time": "2019-04-14T09:31:25.142399Z",
     "start_time": "2019-04-14T09:31:25.072411Z"
    }
   },
   "outputs": [],
   "source": [
    "predicted_goals = goals.predict(gameweek_fixtures_explanatory_df, goals_model)"
   ]
  },
  {
   "cell_type": "code",
   "execution_count": 18,
   "metadata": {
    "ExecuteTime": {
     "end_time": "2019-04-14T09:32:10.748675Z",
     "start_time": "2019-04-14T09:32:10.607657Z"
    }
   },
   "outputs": [],
   "source": [
    "gameweek_fixtures_df['predicted_goals_scored'] = predicted_goals"
   ]
  },
  {
   "cell_type": "code",
   "execution_count": 20,
   "metadata": {
    "ExecuteTime": {
     "end_time": "2019-04-14T09:32:31.347528Z",
     "start_time": "2019-04-14T09:32:31.325649Z"
    }
   },
   "outputs": [
    {
     "data": {
      "text/plain": [
       "count    691.000000\n",
       "mean       0.005985\n",
       "std        0.045803\n",
       "min       -0.002461\n",
       "25%        0.000050\n",
       "50%        0.000050\n",
       "75%        0.000050\n",
       "max        1.035761\n",
       "Name: predicted_goals_scored, dtype: float64"
      ]
     },
     "execution_count": 20,
     "metadata": {},
     "output_type": "execute_result"
    }
   ],
   "source": [
    "gameweek_fixtures_df['predicted_goals_scored'].describe()"
   ]
  },
  {
   "cell_type": "code",
   "execution_count": 21,
   "metadata": {
    "ExecuteTime": {
     "end_time": "2019-04-14T09:33:16.020775Z",
     "start_time": "2019-04-14T09:33:15.997778Z"
    }
   },
   "outputs": [
    {
     "data": {
      "text/html": [
       "<div>\n",
       "<style scoped>\n",
       "    .dataframe tbody tr th:only-of-type {\n",
       "        vertical-align: middle;\n",
       "    }\n",
       "\n",
       "    .dataframe tbody tr th {\n",
       "        vertical-align: top;\n",
       "    }\n",
       "\n",
       "    .dataframe thead th {\n",
       "        text-align: right;\n",
       "    }\n",
       "</style>\n",
       "<table border=\"1\" class=\"dataframe\">\n",
       "  <thead>\n",
       "    <tr style=\"text-align: right;\">\n",
       "      <th></th>\n",
       "      <th>own_team</th>\n",
       "      <th>opposition_team</th>\n",
       "      <th>element</th>\n",
       "      <th>was_home</th>\n",
       "      <th>element_type</th>\n",
       "      <th>predicted_goals_scored</th>\n",
       "    </tr>\n",
       "  </thead>\n",
       "  <tbody>\n",
       "    <tr>\n",
       "      <th>338</th>\n",
       "      <td>18</td>\n",
       "      <td>10</td>\n",
       "      <td>376</td>\n",
       "      <td>0</td>\n",
       "      <td>2</td>\n",
       "      <td>1.035761</td>\n",
       "    </tr>\n",
       "  </tbody>\n",
       "</table>\n",
       "</div>"
      ],
      "text/plain": [
       "     own_team  opposition_team  element  was_home  element_type  \\\n",
       "338        18               10      376         0             2   \n",
       "\n",
       "     predicted_goals_scored  \n",
       "338                1.035761  "
      ]
     },
     "execution_count": 21,
     "metadata": {},
     "output_type": "execute_result"
    }
   ],
   "source": [
    "gameweek_fixtures_df[gameweek_fixtures_df['predicted_goals_scored'] > 0.5]"
   ]
  },
  {
   "cell_type": "code",
   "execution_count": null,
   "metadata": {},
   "outputs": [],
   "source": []
  }
 ],
 "metadata": {
  "kernelspec": {
   "display_name": "Python 3",
   "language": "python",
   "name": "python3"
  },
  "language_info": {
   "codemirror_mode": {
    "name": "ipython",
    "version": 3
   },
   "file_extension": ".py",
   "mimetype": "text/x-python",
   "name": "python",
   "nbconvert_exporter": "python",
   "pygments_lexer": "ipython3",
   "version": "3.6.7"
  },
  "toc": {
   "nav_menu": {},
   "number_sections": true,
   "sideBar": true,
   "skip_h1_title": false,
   "title_cell": "Table of Contents",
   "title_sidebar": "Contents",
   "toc_cell": false,
   "toc_position": {},
   "toc_section_display": true,
   "toc_window_display": false
  }
 },
 "nbformat": 4,
 "nbformat_minor": 2
}
