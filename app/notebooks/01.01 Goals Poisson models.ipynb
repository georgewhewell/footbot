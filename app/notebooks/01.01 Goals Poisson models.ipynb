{
 "cells": [
  {
   "cell_type": "markdown",
   "metadata": {
    "heading_collapsed": true
   },
   "source": [
    "# Set up"
   ]
  },
  {
   "cell_type": "code",
   "execution_count": 1,
   "metadata": {
    "ExecuteTime": {
     "end_time": "2019-02-23T16:28:04.965472Z",
     "start_time": "2019-02-23T16:28:04.959386Z"
    },
    "hidden": true
   },
   "outputs": [],
   "source": [
    "# update path with data dir\n",
    "import sys\n",
    "sys.path.append('../data/')\n",
    "sys.path.append('../modelling/')"
   ]
  },
  {
   "cell_type": "code",
   "execution_count": 2,
   "metadata": {
    "ExecuteTime": {
     "end_time": "2019-02-23T16:28:06.254628Z",
     "start_time": "2019-02-23T16:28:04.969975Z"
    },
    "hidden": true
   },
   "outputs": [
    {
     "name": "stderr",
     "output_type": "stream",
     "text": [
      "/home/tom/footbot/venv/lib/python3.6/site-packages/statsmodels/compat/pandas.py:56: FutureWarning: The pandas.core.datetools module is deprecated and will be removed in a future version. Please use the pandas.tseries module instead.\n",
      "  from pandas.core import datetools\n"
     ]
    }
   ],
   "source": [
    "import player_data as player\n",
    "import goodness_fit\n",
    "import pandas as pd\n",
    "from datetime import datetime\n",
    "import statsmodels.api as sm\n",
    "import matplotlib.pyplot as plt"
   ]
  },
  {
   "cell_type": "markdown",
   "metadata": {
    "heading_collapsed": true
   },
   "source": [
    "# Get data"
   ]
  },
  {
   "cell_type": "code",
   "execution_count": 3,
   "metadata": {
    "ExecuteTime": {
     "end_time": "2019-02-23T16:28:06.262812Z",
     "start_time": "2019-02-23T16:28:06.258451Z"
    },
    "hidden": true
   },
   "outputs": [],
   "source": [
    "file_name = 'csvs/element_gameweek_' + datetime.today().strftime('%Y-%m-%d') + '.csv'"
   ]
  },
  {
   "cell_type": "code",
   "execution_count": 4,
   "metadata": {
    "ExecuteTime": {
     "end_time": "2019-02-23T16:28:06.417854Z",
     "start_time": "2019-02-23T16:28:06.266938Z"
    },
    "hidden": true
   },
   "outputs": [],
   "source": [
    "try:\n",
    "    element_gameweek_df = pd.read_csv(file_name)\n",
    "except:\n",
    "    element_gameweek_df = player.get_element_gameweek_df()\n",
    "    element_gameweek_df.to_csv(file_name)"
   ]
  },
  {
   "cell_type": "code",
   "execution_count": 5,
   "metadata": {
    "ExecuteTime": {
     "end_time": "2019-02-23T16:28:06.423454Z",
     "start_time": "2019-02-23T16:28:06.420340Z"
    },
    "hidden": true
   },
   "outputs": [],
   "source": [
    "current_event = 26\n",
    "element_types = [2, 3, 4]\n",
    "threshold_minutes = 85"
   ]
  },
  {
   "cell_type": "code",
   "execution_count": 6,
   "metadata": {
    "ExecuteTime": {
     "end_time": "2019-02-23T16:28:06.610365Z",
     "start_time": "2019-02-23T16:28:06.425434Z"
    },
    "hidden": true
   },
   "outputs": [],
   "source": [
    "element_gameweek_df =\\\n",
    "element_gameweek_df[\n",
    "    (element_gameweek_df['event'] <= current_event)\n",
    "    & (element_gameweek_df['element_type'].isin(element_types))\n",
    "    & (element_gameweek_df['minutes'] >= threshold_minutes)\n",
    "]"
   ]
  },
  {
   "cell_type": "code",
   "execution_count": 7,
   "metadata": {
    "ExecuteTime": {
     "end_time": "2019-02-23T16:28:06.708584Z",
     "start_time": "2019-02-23T16:28:06.614216Z"
    },
    "hidden": true
   },
   "outputs": [],
   "source": [
    "player.add_home_categorical_variable(element_gameweek_df)"
   ]
  },
  {
   "cell_type": "markdown",
   "metadata": {},
   "source": [
    "# Models"
   ]
  },
  {
   "cell_type": "markdown",
   "metadata": {
    "heading_collapsed": true
   },
   "source": [
    "## Simple Poisson model"
   ]
  },
  {
   "cell_type": "markdown",
   "metadata": {
    "heading_collapsed": true,
    "hidden": true
   },
   "source": [
    "### Preparing data"
   ]
  },
  {
   "cell_type": "code",
   "execution_count": 8,
   "metadata": {
    "ExecuteTime": {
     "end_time": "2019-02-23T16:28:06.739110Z",
     "start_time": "2019-02-23T16:28:06.711554Z"
    },
    "hidden": true
   },
   "outputs": [],
   "source": [
    "spm_df = element_gameweek_df.copy()"
   ]
  },
  {
   "cell_type": "code",
   "execution_count": 9,
   "metadata": {
    "ExecuteTime": {
     "end_time": "2019-02-23T16:28:06.761581Z",
     "start_time": "2019-02-23T16:28:06.744609Z"
    },
    "hidden": true
   },
   "outputs": [],
   "source": [
    "spm_redundant_columns = [\n",
    "    'row_id', 'assists', 'attempted_passes', 'big_chances_created',\n",
    "    'big_chances_missed', 'bonus', 'bps', 'clean_sheets',\n",
    "    'clearances_blocks_interceptions', 'completed_passes', 'creativity',\n",
    "    'dribbles', 'ea_index', 'element', 'errors_leading_to_goal',\n",
    "    'errors_leading_to_goal_attempt', 'fixture', 'fouls', 'goals_conceded',\n",
    "    'ict_index', 'id', 'influence', 'key_passes', 'kickoff_time',\n",
    "    'kickoff_time_formatted', 'loaned_in', 'loaned_out', 'minutes', 'offside',\n",
    "    'open_play_crosses', 'opponent_team', 'own_goals', 'penalties_conceded',\n",
    "    'penalties_missed', 'penalties_saved', 'recoveries', 'red_cards', 'round',\n",
    "    'saves', 'selected', 'tackled', 'tackles', 'target_missed', 'team_a_score',\n",
    "    'team_h_score', 'threat', 'total_points', 'transfers_balance',\n",
    "    'transfers_in', 'transfers_out', 'value', 'winning_goals',\n",
    "    'yellow_cards', 'event', 'team_a', 'team_a_difficulty', 'team_h',\n",
    "    'team_h_difficulty', 'element_type', 'team', 'web_name', 'safe_web_name',\n",
    "    'own_team', 'opposition_team', 'was_home'\n",
    "]"
   ]
  },
  {
   "cell_type": "code",
   "execution_count": 10,
   "metadata": {
    "ExecuteTime": {
     "end_time": "2019-02-23T16:28:06.791526Z",
     "start_time": "2019-02-23T16:28:06.765577Z"
    },
    "hidden": true
   },
   "outputs": [],
   "source": [
    "spm_df = player.remove_redundant_columns(spm_df, spm_redundant_columns)"
   ]
  },
  {
   "cell_type": "code",
   "execution_count": 11,
   "metadata": {
    "ExecuteTime": {
     "end_time": "2019-02-23T16:28:06.827074Z",
     "start_time": "2019-02-23T16:28:06.793570Z"
    },
    "hidden": true
   },
   "outputs": [],
   "source": [
    "spm_response_df, spm_explanatory_df = player.get_response_explanatory_dfs(spm_df, 'goals_scored')"
   ]
  },
  {
   "cell_type": "code",
   "execution_count": 12,
   "metadata": {
    "ExecuteTime": {
     "end_time": "2019-02-23T16:28:06.857117Z",
     "start_time": "2019-02-23T16:28:06.830939Z"
    },
    "hidden": true
   },
   "outputs": [
    {
     "data": {
      "text/plain": [
       "Index(['const'], dtype='object')"
      ]
     },
     "execution_count": 12,
     "metadata": {},
     "output_type": "execute_result"
    }
   ],
   "source": [
    "spm_explanatory_df.columns"
   ]
  },
  {
   "cell_type": "code",
   "execution_count": 13,
   "metadata": {
    "ExecuteTime": {
     "end_time": "2019-02-23T16:28:06.884602Z",
     "start_time": "2019-02-23T16:28:06.859420Z"
    },
    "hidden": true
   },
   "outputs": [
    {
     "data": {
      "text/plain": [
       "70    0\n",
       "74    0\n",
       "75    0\n",
       "76    1\n",
       "78    1\n",
       "Name: goals_scored, dtype: int64"
      ]
     },
     "execution_count": 13,
     "metadata": {},
     "output_type": "execute_result"
    }
   ],
   "source": [
    "spm_response_df.head()"
   ]
  },
  {
   "cell_type": "markdown",
   "metadata": {
    "heading_collapsed": true,
    "hidden": true
   },
   "source": [
    "### Fitting model"
   ]
  },
  {
   "cell_type": "code",
   "execution_count": 14,
   "metadata": {
    "ExecuteTime": {
     "end_time": "2019-02-23T16:28:06.922205Z",
     "start_time": "2019-02-23T16:28:06.886569Z"
    },
    "hidden": true
   },
   "outputs": [],
   "source": [
    "spm_results = sm.GLM(\n",
    "    spm_response_df,\n",
    "    spm_explanatory_df,\n",
    "    family=sm.families.Poisson(),\n",
    "    missing='drop'\n",
    ").fit()"
   ]
  },
  {
   "cell_type": "code",
   "execution_count": 15,
   "metadata": {
    "ExecuteTime": {
     "end_time": "2019-02-23T16:28:06.942976Z",
     "start_time": "2019-02-23T16:28:06.924270Z"
    },
    "hidden": true
   },
   "outputs": [
    {
     "name": "stdout",
     "output_type": "stream",
     "text": [
      "                 Generalized Linear Model Regression Results                  \n",
      "==============================================================================\n",
      "Dep. Variable:           goals_scored   No. Observations:                 3952\n",
      "Model:                            GLM   Df Residuals:                     3951\n",
      "Model Family:                 Poisson   Df Model:                            0\n",
      "Link Function:                    log   Scale:                             1.0\n",
      "Method:                          IRLS   Log-Likelihood:                -1538.3\n",
      "Date:                Sat, 23 Feb 2019   Deviance:                       2182.8\n",
      "Time:                        16:28:06   Pearson chi2:                 4.38e+03\n",
      "No. Iterations:                     6                                         \n",
      "==============================================================================\n",
      "                 coef    std err          z      P>|z|      [0.025      0.975]\n",
      "------------------------------------------------------------------------------\n",
      "const         -2.0999      0.045    -46.198      0.000      -2.189      -2.011\n",
      "==============================================================================\n"
     ]
    }
   ],
   "source": [
    "print(spm_results.summary())"
   ]
  },
  {
   "cell_type": "markdown",
   "metadata": {
    "heading_collapsed": true,
    "hidden": true
   },
   "source": [
    "### Model fit"
   ]
  },
  {
   "cell_type": "code",
   "execution_count": 16,
   "metadata": {
    "ExecuteTime": {
     "end_time": "2019-02-23T16:28:06.962920Z",
     "start_time": "2019-02-23T16:28:06.945032Z"
    },
    "hidden": true
   },
   "outputs": [
    {
     "data": {
      "text/plain": [
       "3078.601995070294"
      ]
     },
     "execution_count": 16,
     "metadata": {},
     "output_type": "execute_result"
    }
   ],
   "source": [
    "spm_results.aic"
   ]
  },
  {
   "cell_type": "code",
   "execution_count": 17,
   "metadata": {
    "ExecuteTime": {
     "end_time": "2019-02-23T16:28:06.992122Z",
     "start_time": "2019-02-23T16:28:06.964976Z"
    },
    "hidden": true
   },
   "outputs": [
    {
     "data": {
      "text/plain": [
       "-30539.309065162925"
      ]
     },
     "execution_count": 17,
     "metadata": {},
     "output_type": "execute_result"
    }
   ],
   "source": [
    "spm_results.bic"
   ]
  },
  {
   "cell_type": "code",
   "execution_count": 18,
   "metadata": {
    "ExecuteTime": {
     "end_time": "2019-02-23T16:28:07.022506Z",
     "start_time": "2019-02-23T16:28:06.994099Z"
    },
    "hidden": true
   },
   "outputs": [
    {
     "data": {
      "text/plain": [
       "(True, 0.999998669966386)"
      ]
     },
     "execution_count": 18,
     "metadata": {},
     "output_type": "execute_result"
    }
   ],
   "source": [
    "spm_pearson_results = goodness_fit.pearson_chi_squared_test(spm_results)\n",
    "spm_pearson_results"
   ]
  },
  {
   "cell_type": "code",
   "execution_count": 19,
   "metadata": {
    "ExecuteTime": {
     "end_time": "2019-02-23T16:28:07.060266Z",
     "start_time": "2019-02-23T16:28:07.024470Z"
    },
    "hidden": true
   },
   "outputs": [
    {
     "data": {
      "text/plain": [
       "count    3952.000000\n",
       "mean       -0.255029\n",
       "std         0.698145\n",
       "min        -0.494913\n",
       "25%        -0.494913\n",
       "50%        -0.494913\n",
       "75%        -0.494913\n",
       "max         3.665510\n",
       "dtype: float64"
      ]
     },
     "execution_count": 19,
     "metadata": {},
     "output_type": "execute_result"
    }
   ],
   "source": [
    "spm_results.resid_deviance.describe()"
   ]
  },
  {
   "cell_type": "code",
   "execution_count": 20,
   "metadata": {
    "ExecuteTime": {
     "end_time": "2019-02-23T16:28:07.324048Z",
     "start_time": "2019-02-23T16:28:07.062444Z"
    },
    "hidden": true
   },
   "outputs": [
    {
     "data": {
      "image/png": "[encoded data removed]",
      "text/plain": [
       "<Figure size 432x288 with 1 Axes>"
      ]
     },
     "metadata": {
      "needs_background": "light"
     },
     "output_type": "display_data"
    }
   ],
   "source": [
    "plt.figure()\n",
    "plt.hist(spm_results.resid_deviance)\n",
    "plt.show()"
   ]
  },
  {
   "cell_type": "markdown",
   "metadata": {
    "heading_collapsed": true
   },
   "source": [
    "## Simple Poisson teams model"
   ]
  },
  {
   "cell_type": "markdown",
   "metadata": {
    "heading_collapsed": true,
    "hidden": true
   },
   "source": [
    "### Preparing data"
   ]
  },
  {
   "cell_type": "code",
   "execution_count": 21,
   "metadata": {
    "ExecuteTime": {
     "end_time": "2019-02-23T16:28:07.329739Z",
     "start_time": "2019-02-23T16:28:07.326219Z"
    },
    "hidden": true
   },
   "outputs": [],
   "source": [
    "sptm_df = element_gameweek_df.copy()"
   ]
  },
  {
   "cell_type": "code",
   "execution_count": 22,
   "metadata": {
    "ExecuteTime": {
     "end_time": "2019-02-23T16:28:07.394015Z",
     "start_time": "2019-02-23T16:28:07.331800Z"
    },
    "hidden": true
   },
   "outputs": [],
   "source": [
    "sptm_df = player.add_categorical_variables(sptm_df, 'element_type')\n",
    "sptm_df = player.add_categorical_variables(sptm_df, 'opposition_team')\n",
    "sptm_df = player.add_categorical_variables(sptm_df, 'own_team')"
   ]
  },
  {
   "cell_type": "code",
   "execution_count": 23,
   "metadata": {
    "ExecuteTime": {
     "end_time": "2019-02-23T16:28:07.410128Z",
     "start_time": "2019-02-23T16:28:07.397376Z"
    },
    "hidden": true
   },
   "outputs": [],
   "source": [
    "sptm_redundant_columns = [\n",
    "    'row_id', 'assists', 'attempted_passes', 'big_chances_created',\n",
    "    'big_chances_missed', 'bonus', 'bps', 'clean_sheets',\n",
    "    'clearances_blocks_interceptions', 'completed_passes', 'creativity',\n",
    "    'dribbles', 'ea_index', 'element', 'errors_leading_to_goal',\n",
    "    'errors_leading_to_goal_attempt', 'fixture', 'fouls', 'goals_conceded',\n",
    "    'ict_index', 'id', 'influence', 'key_passes', 'kickoff_time',\n",
    "    'kickoff_time_formatted', 'loaned_in', 'loaned_out', 'minutes', 'offside',\n",
    "    'open_play_crosses', 'opponent_team', 'own_goals', 'penalties_conceded',\n",
    "    'penalties_missed', 'penalties_saved', 'recoveries', 'red_cards', 'round',\n",
    "    'saves', 'selected', 'tackled', 'tackles', 'target_missed', 'team_a_score',\n",
    "    'team_h_score', 'threat', 'total_points', 'transfers_balance',\n",
    "    'transfers_in', 'transfers_out', 'value', 'winning_goals',\n",
    "    'yellow_cards', 'event', 'team_a', 'team_a_difficulty', 'team_h',\n",
    "    'team_h_difficulty', 'element_type', 'team', 'web_name', 'safe_web_name',\n",
    "    'own_team', 'opposition_team'\n",
    "]"
   ]
  },
  {
   "cell_type": "code",
   "execution_count": 24,
   "metadata": {
    "ExecuteTime": {
     "end_time": "2019-02-23T16:28:07.438155Z",
     "start_time": "2019-02-23T16:28:07.412266Z"
    },
    "hidden": true
   },
   "outputs": [],
   "source": [
    "sptm_df = player.remove_redundant_columns(sptm_df, sptm_redundant_columns)"
   ]
  },
  {
   "cell_type": "code",
   "execution_count": 25,
   "metadata": {
    "ExecuteTime": {
     "end_time": "2019-02-23T16:28:07.475442Z",
     "start_time": "2019-02-23T16:28:07.440248Z"
    },
    "hidden": true
   },
   "outputs": [],
   "source": [
    "sptm_response_df, sptm_explanatory_df = player.get_response_explanatory_dfs(sptm_df, 'goals_scored')"
   ]
  },
  {
   "cell_type": "code",
   "execution_count": 26,
   "metadata": {
    "ExecuteTime": {
     "end_time": "2019-02-23T16:28:07.488237Z",
     "start_time": "2019-02-23T16:28:07.477613Z"
    },
    "hidden": true
   },
   "outputs": [
    {
     "data": {
      "text/plain": [
       "Index(['const', 'was_home', 'element_type_3', 'element_type_4',\n",
       "       'opposition_team_2', 'opposition_team_3', 'opposition_team_4',\n",
       "       'opposition_team_5', 'opposition_team_6', 'opposition_team_7',\n",
       "       'opposition_team_8', 'opposition_team_9', 'opposition_team_10',\n",
       "       'opposition_team_11', 'opposition_team_12', 'opposition_team_13',\n",
       "       'opposition_team_14', 'opposition_team_15', 'opposition_team_16',\n",
       "       'opposition_team_17', 'opposition_team_18', 'opposition_team_19',\n",
       "       'opposition_team_20', 'own_team_2', 'own_team_3', 'own_team_4',\n",
       "       'own_team_5', 'own_team_6', 'own_team_7', 'own_team_8', 'own_team_9',\n",
       "       'own_team_10', 'own_team_11', 'own_team_12', 'own_team_13',\n",
       "       'own_team_14', 'own_team_15', 'own_team_16', 'own_team_17',\n",
       "       'own_team_18', 'own_team_19', 'own_team_20'],\n",
       "      dtype='object')"
      ]
     },
     "execution_count": 26,
     "metadata": {},
     "output_type": "execute_result"
    }
   ],
   "source": [
    "sptm_explanatory_df.columns"
   ]
  },
  {
   "cell_type": "code",
   "execution_count": 27,
   "metadata": {
    "ExecuteTime": {
     "end_time": "2019-02-23T16:28:07.520625Z",
     "start_time": "2019-02-23T16:28:07.490687Z"
    },
    "hidden": true
   },
   "outputs": [
    {
     "data": {
      "text/plain": [
       "70    0\n",
       "74    0\n",
       "75    0\n",
       "76    1\n",
       "78    1\n",
       "Name: goals_scored, dtype: int64"
      ]
     },
     "execution_count": 27,
     "metadata": {},
     "output_type": "execute_result"
    }
   ],
   "source": [
    "sptm_response_df.head()"
   ]
  },
  {
   "cell_type": "markdown",
   "metadata": {
    "heading_collapsed": true,
    "hidden": true
   },
   "source": [
    "### Fitting model"
   ]
  },
  {
   "cell_type": "code",
   "execution_count": 28,
   "metadata": {
    "ExecuteTime": {
     "end_time": "2019-02-23T16:28:07.678697Z",
     "start_time": "2019-02-23T16:28:07.522675Z"
    },
    "hidden": true
   },
   "outputs": [],
   "source": [
    "sptm_results = sm.GLM(\n",
    "    sptm_response_df,\n",
    "    sptm_explanatory_df,\n",
    "    family=sm.families.Poisson(),\n",
    "    missing='drop'\n",
    ").fit()"
   ]
  },
  {
   "cell_type": "code",
   "execution_count": 29,
   "metadata": {
    "ExecuteTime": {
     "end_time": "2019-02-23T16:28:07.729176Z",
     "start_time": "2019-02-23T16:28:07.682081Z"
    },
    "hidden": true
   },
   "outputs": [
    {
     "name": "stdout",
     "output_type": "stream",
     "text": [
      "                 Generalized Linear Model Regression Results                  \n",
      "==============================================================================\n",
      "Dep. Variable:           goals_scored   No. Observations:                 3952\n",
      "Model:                            GLM   Df Residuals:                     3910\n",
      "Model Family:                 Poisson   Df Model:                           41\n",
      "Link Function:                    log   Scale:                             1.0\n",
      "Method:                          IRLS   Log-Likelihood:                -1355.2\n",
      "Date:                Sat, 23 Feb 2019   Deviance:                       1816.6\n",
      "Time:                        16:28:07   Pearson chi2:                 4.20e+03\n",
      "No. Iterations:                     6                                         \n",
      "======================================================================================\n",
      "                         coef    std err          z      P>|z|      [0.025      0.975]\n",
      "--------------------------------------------------------------------------------------\n",
      "const                 -3.3049      0.326    -10.140      0.000      -3.944      -2.666\n",
      "was_home               0.1561      0.092      1.696      0.090      -0.024       0.336\n",
      "element_type_3         1.2045      0.122      9.850      0.000       0.965       1.444\n",
      "element_type_4         2.1561      0.136     15.874      0.000       1.890       2.422\n",
      "opposition_team_2      0.5268      0.306      1.720      0.085      -0.074       1.127\n",
      "opposition_team_3      0.5537      0.302      1.835      0.067      -0.038       1.145\n",
      "opposition_team_4      0.6231      0.302      2.065      0.039       0.032       1.214\n",
      "opposition_team_5      0.6253      0.301      2.074      0.038       0.035       1.216\n",
      "opposition_team_6     -0.0669      0.356     -0.188      0.851      -0.765       0.631\n",
      "opposition_team_7      0.0879      0.331      0.266      0.790      -0.561       0.737\n",
      "opposition_team_8      0.2406      0.322      0.748      0.455      -0.390       0.871\n",
      "opposition_team_9      0.6203      0.299      2.073      0.038       0.034       1.207\n",
      "opposition_team_10     0.4605      0.304      1.516      0.130      -0.135       1.056\n",
      "opposition_team_11     0.3421      0.316      1.083      0.279      -0.277       0.961\n",
      "opposition_team_12    -0.3431      0.379     -0.906      0.365      -1.085       0.399\n",
      "opposition_team_13    -0.0173      0.345     -0.050      0.960      -0.694       0.659\n",
      "opposition_team_14     0.0753      0.336      0.224      0.822      -0.582       0.733\n",
      "opposition_team_15     0.2653      0.318      0.834      0.404      -0.358       0.889\n",
      "opposition_team_16     0.5870      0.300      1.959      0.050      -0.000       1.174\n",
      "opposition_team_17     0.0046      0.350      0.013      0.989      -0.681       0.690\n",
      "opposition_team_18     0.2831      0.316      0.895      0.371      -0.337       0.903\n",
      "opposition_team_19     0.2367      0.319      0.741      0.459      -0.389       0.863\n",
      "opposition_team_20     0.2415      0.322      0.751      0.453      -0.389       0.872\n",
      "own_team_2            -0.2916      0.273     -1.068      0.285      -0.827       0.243\n",
      "own_team_3            -0.1757      0.278     -0.633      0.527      -0.720       0.368\n",
      "own_team_4            -0.3970      0.285     -1.395      0.163      -0.955       0.161\n",
      "own_team_5            -0.3712      0.306     -1.214      0.225      -0.970       0.228\n",
      "own_team_6             0.0697      0.272      0.256      0.798      -0.463       0.603\n",
      "own_team_7            -0.3969      0.280     -1.418      0.156      -0.945       0.152\n",
      "own_team_8             0.0699      0.262      0.267      0.789      -0.443       0.583\n",
      "own_team_9            -0.5214      0.299     -1.746      0.081      -1.106       0.064\n",
      "own_team_10           -1.0111      0.365     -2.771      0.006      -1.726      -0.296\n",
      "own_team_11           -0.4081      0.303     -1.345      0.179      -1.003       0.187\n",
      "own_team_12            0.3129      0.241      1.297      0.195      -0.160       0.786\n",
      "own_team_13            0.3812      0.243      1.568      0.117      -0.095       0.858\n",
      "own_team_14            0.0884      0.254      0.348      0.728      -0.410       0.587\n",
      "own_team_15           -0.9309      0.331     -2.809      0.005      -1.580      -0.281\n",
      "own_team_16           -0.5339      0.324     -1.648      0.099      -1.169       0.101\n",
      "own_team_17            0.1857      0.243      0.763      0.446      -0.291       0.663\n",
      "own_team_18           -0.2612      0.274     -0.952      0.341      -0.799       0.277\n",
      "own_team_19           -0.1424      0.290     -0.491      0.623      -0.710       0.426\n",
      "own_team_20            0.0214      0.271      0.079      0.937      -0.510       0.552\n",
      "======================================================================================\n"
     ]
    }
   ],
   "source": [
    "print(sptm_results.summary())"
   ]
  },
  {
   "cell_type": "markdown",
   "metadata": {
    "hidden": true
   },
   "source": [
    "### Model fit"
   ]
  },
  {
   "cell_type": "code",
   "execution_count": 30,
   "metadata": {
    "ExecuteTime": {
     "end_time": "2019-02-23T16:30:26.644712Z",
     "start_time": "2019-02-23T16:30:26.636583Z"
    },
    "hidden": true
   },
   "outputs": [
    {
     "data": {
      "text/plain": [
       "2794.445104832433"
      ]
     },
     "execution_count": 30,
     "metadata": {},
     "output_type": "execute_result"
    }
   ],
   "source": [
    "sptm_results.aic"
   ]
  },
  {
   "cell_type": "code",
   "execution_count": 31,
   "metadata": {
    "ExecuteTime": {
     "end_time": "2019-02-23T16:30:26.773889Z",
     "start_time": "2019-02-23T16:30:26.765979Z"
    },
    "hidden": true
   },
   "outputs": [
    {
     "data": {
      "text/plain": [
       "-30565.90489598721"
      ]
     },
     "execution_count": 31,
     "metadata": {},
     "output_type": "execute_result"
    }
   ],
   "source": [
    "sptm_results.bic"
   ]
  },
  {
   "cell_type": "code",
   "execution_count": 32,
   "metadata": {
    "ExecuteTime": {
     "end_time": "2019-02-23T16:30:26.994054Z",
     "start_time": "2019-02-23T16:30:26.984369Z"
    },
    "hidden": true
   },
   "outputs": [
    {
     "data": {
      "text/plain": [
       "(True, 0.9992772742615613)"
      ]
     },
     "execution_count": 32,
     "metadata": {},
     "output_type": "execute_result"
    }
   ],
   "source": [
    "sptm_pearson_results = goodness_fit.pearson_chi_squared_test(sptm_results)\n",
    "sptm_pearson_results"
   ]
  },
  {
   "cell_type": "code",
   "execution_count": 33,
   "metadata": {
    "ExecuteTime": {
     "end_time": "2019-02-23T16:30:27.106533Z",
     "start_time": "2019-02-23T16:30:27.088796Z"
    },
    "hidden": true
   },
   "outputs": [
    {
     "data": {
      "text/plain": [
       "count    3952.000000\n",
       "mean       -0.221619\n",
       "std         0.640829\n",
       "min        -1.372722\n",
       "25%        -0.515232\n",
       "50%        -0.344069\n",
       "75%        -0.253320\n",
       "max         3.557189\n",
       "dtype: float64"
      ]
     },
     "execution_count": 33,
     "metadata": {},
     "output_type": "execute_result"
    }
   ],
   "source": [
    "sptm_results.resid_deviance.describe()"
   ]
  },
  {
   "cell_type": "code",
   "execution_count": 34,
   "metadata": {
    "ExecuteTime": {
     "end_time": "2019-02-23T16:30:27.654278Z",
     "start_time": "2019-02-23T16:30:27.308488Z"
    },
    "hidden": true
   },
   "outputs": [
    {
     "data": {
      "image/png": "[encoded data removed]",
      "text/plain": [
       "<Figure size 432x288 with 1 Axes>"
      ]
     },
     "metadata": {
      "needs_background": "light"
     },
     "output_type": "display_data"
    }
   ],
   "source": [
    "plt.figure()\n",
    "plt.hist(sptm_results.resid_deviance)\n",
    "plt.show()"
   ]
  },
  {
   "cell_type": "markdown",
   "metadata": {
    "heading_collapsed": true
   },
   "source": [
    "## Simple Poisson player model"
   ]
  },
  {
   "cell_type": "markdown",
   "metadata": {
    "hidden": true
   },
   "source": [
    "### Preparing data"
   ]
  },
  {
   "cell_type": "code",
   "execution_count": 35,
   "metadata": {
    "ExecuteTime": {
     "end_time": "2019-02-23T16:28:08.139921Z",
     "start_time": "2019-02-23T16:28:08.133643Z"
    },
    "hidden": true
   },
   "outputs": [],
   "source": [
    "sppm_df = element_gameweek_df.copy()"
   ]
  },
  {
   "cell_type": "code",
   "execution_count": 36,
   "metadata": {
    "ExecuteTime": {
     "end_time": "2019-02-23T16:28:08.184961Z",
     "start_time": "2019-02-23T16:28:08.141936Z"
    },
    "hidden": true
   },
   "outputs": [],
   "source": [
    "sppm_df = player.add_categorical_variables(sppm_df, 'element_type')\n",
    "sppm_df = player.add_categorical_variables(sppm_df, 'opposition_team')\n",
    "sppm_df = player.add_categorical_variables(sppm_df, 'element')"
   ]
  },
  {
   "cell_type": "code",
   "execution_count": 37,
   "metadata": {
    "ExecuteTime": {
     "end_time": "2019-02-23T16:28:08.194610Z",
     "start_time": "2019-02-23T16:28:08.187104Z"
    },
    "hidden": true
   },
   "outputs": [],
   "source": [
    "sppm_redundant_columns = [\n",
    "    'row_id', 'assists', 'attempted_passes', 'big_chances_created',\n",
    "    'big_chances_missed', 'bonus', 'bps', 'clean_sheets',\n",
    "    'clearances_blocks_interceptions', 'completed_passes', 'creativity',\n",
    "    'dribbles', 'ea_index', 'element', 'errors_leading_to_goal',\n",
    "    'errors_leading_to_goal_attempt', 'fixture', 'fouls', 'goals_conceded',\n",
    "    'ict_index', 'id', 'influence', 'key_passes', 'kickoff_time',\n",
    "    'kickoff_time_formatted', 'loaned_in', 'loaned_out', 'minutes', 'offside',\n",
    "    'open_play_crosses', 'opponent_team', 'own_goals', 'penalties_conceded',\n",
    "    'penalties_missed', 'penalties_saved', 'recoveries', 'red_cards', 'round',\n",
    "    'saves', 'selected', 'tackled', 'tackles', 'target_missed', 'team_a_score',\n",
    "    'team_h_score', 'threat', 'total_points', 'transfers_balance',\n",
    "    'transfers_in', 'transfers_out', 'value', 'winning_goals',\n",
    "    'yellow_cards', 'event', 'team_a', 'team_a_difficulty', 'team_h',\n",
    "    'team_h_difficulty', 'element_type', 'team', 'web_name', 'safe_web_name',\n",
    "    'own_team', 'opposition_team', 'was_home'\n",
    "]"
   ]
  },
  {
   "cell_type": "code",
   "execution_count": 38,
   "metadata": {
    "ExecuteTime": {
     "end_time": "2019-02-23T16:28:08.224090Z",
     "start_time": "2019-02-23T16:28:08.196625Z"
    },
    "hidden": true
   },
   "outputs": [],
   "source": [
    "sppm_df = player.remove_redundant_columns(sppm_df, sppm_redundant_columns)"
   ]
  },
  {
   "cell_type": "code",
   "execution_count": 39,
   "metadata": {
    "ExecuteTime": {
     "end_time": "2019-02-23T16:28:08.387854Z",
     "start_time": "2019-02-23T16:28:08.231120Z"
    },
    "hidden": true
   },
   "outputs": [],
   "source": [
    "sppm_response_df, sppm_explanatory_df = player.get_response_explanatory_dfs(sppm_df, 'goals_scored')"
   ]
  },
  {
   "cell_type": "code",
   "execution_count": 40,
   "metadata": {
    "ExecuteTime": {
     "end_time": "2019-02-23T16:28:08.394635Z",
     "start_time": "2019-02-23T16:28:08.390169Z"
    },
    "hidden": true
   },
   "outputs": [
    {
     "data": {
      "text/plain": [
       "Index(['const', 'element_type_3', 'element_type_4', 'opposition_team_2',\n",
       "       'opposition_team_3', 'opposition_team_4', 'opposition_team_5',\n",
       "       'opposition_team_6', 'opposition_team_7', 'opposition_team_8',\n",
       "       ...\n",
       "       'element_535', 'element_539', 'element_549', 'element_556',\n",
       "       'element_565', 'element_570', 'element_571', 'element_575',\n",
       "       'element_579', 'element_591'],\n",
       "      dtype='object', length=391)"
      ]
     },
     "execution_count": 40,
     "metadata": {},
     "output_type": "execute_result"
    }
   ],
   "source": [
    "sppm_explanatory_df.columns"
   ]
  },
  {
   "cell_type": "code",
   "execution_count": 41,
   "metadata": {
    "ExecuteTime": {
     "end_time": "2019-02-23T16:28:08.421574Z",
     "start_time": "2019-02-23T16:28:08.396674Z"
    },
    "hidden": true
   },
   "outputs": [
    {
     "data": {
      "text/plain": [
       "70    0\n",
       "74    0\n",
       "75    0\n",
       "76    1\n",
       "78    1\n",
       "Name: goals_scored, dtype: int64"
      ]
     },
     "execution_count": 41,
     "metadata": {},
     "output_type": "execute_result"
    }
   ],
   "source": [
    "sppm_response_df.head()"
   ]
  },
  {
   "cell_type": "markdown",
   "metadata": {
    "hidden": true
   },
   "source": [
    "### Fitting model"
   ]
  },
  {
   "cell_type": "code",
   "execution_count": 42,
   "metadata": {
    "ExecuteTime": {
     "end_time": "2019-02-23T16:28:16.424826Z",
     "start_time": "2019-02-23T16:28:08.423719Z"
    },
    "hidden": true
   },
   "outputs": [],
   "source": [
    "sppm_results = sm.GLM(\n",
    "    sppm_response_df,\n",
    "    sppm_explanatory_df,\n",
    "    family=sm.families.Poisson(),\n",
    "    missing='drop'\n",
    ").fit()"
   ]
  },
  {
   "cell_type": "code",
   "execution_count": 43,
   "metadata": {
    "ExecuteTime": {
     "end_time": "2019-02-23T16:28:16.658886Z",
     "start_time": "2019-02-23T16:28:16.428319Z"
    },
    "hidden": true
   },
   "outputs": [
    {
     "name": "stdout",
     "output_type": "stream",
     "text": [
      "                 Generalized Linear Model Regression Results                  \n",
      "==============================================================================\n",
      "Dep. Variable:           goals_scored   No. Observations:                 3952\n",
      "Model:                            GLM   Df Residuals:                     3563\n",
      "Model Family:                 Poisson   Df Model:                          388\n",
      "Link Function:                    log   Scale:                             1.0\n",
      "Method:                          IRLS   Log-Likelihood:                -1111.7\n",
      "Date:                Sat, 23 Feb 2019   Deviance:                       1329.6\n",
      "Time:                        16:28:16   Pearson chi2:                 2.21e+03\n",
      "No. Iterations:                    25                                         \n",
      "======================================================================================\n",
      "                         coef    std err          z      P>|z|      [0.025      0.975]\n",
      "--------------------------------------------------------------------------------------\n",
      "const                 -1.3364      0.754     -1.771      0.076      -2.815       0.142\n",
      "element_type_3       -12.7628   2.08e+04     -0.001      1.000   -4.08e+04    4.07e+04\n",
      "element_type_4        -6.8679   3.54e+04     -0.000      1.000   -6.93e+04    6.93e+04\n",
      "opposition_team_2      0.3977      0.313      1.271      0.204      -0.215       1.011\n",
      "opposition_team_3      0.5407      0.308      1.757      0.079      -0.063       1.144\n",
      "opposition_team_4      0.5738      0.312      1.838      0.066      -0.038       1.186\n",
      "opposition_team_5      0.4722      0.309      1.529      0.126      -0.133       1.078\n",
      "opposition_team_6     -0.1006      0.362     -0.278      0.781      -0.809       0.608\n",
      "opposition_team_7      0.0161      0.337      0.048      0.962      -0.643       0.676\n",
      "opposition_team_8      0.1732      0.329      0.526      0.599      -0.472       0.818\n",
      "opposition_team_9      0.4260      0.308      1.382      0.167      -0.178       1.030\n",
      "opposition_team_10     0.4309      0.313      1.376      0.169      -0.183       1.045\n",
      "opposition_team_11     0.2703      0.323      0.837      0.403      -0.363       0.903\n",
      "opposition_team_12    -0.3974      0.385     -1.031      0.303      -1.153       0.358\n",
      "opposition_team_13    -0.1974      0.359     -0.550      0.582      -0.901       0.506\n",
      "opposition_team_14    -0.0306      0.345     -0.089      0.929      -0.707       0.646\n",
      "opposition_team_15     0.0943      0.331      0.285      0.776      -0.555       0.743\n",
      "opposition_team_16     0.5278      0.307      1.718      0.086      -0.074       1.130\n",
      "opposition_team_17    -0.1067      0.358     -0.298      0.766      -0.808       0.594\n",
      "opposition_team_18     0.1425      0.324      0.439      0.661      -0.493       0.778\n",
      "opposition_team_19     0.1140      0.326      0.349      0.727      -0.525       0.753\n",
      "opposition_team_20     0.1634      0.333      0.491      0.623      -0.488       0.815\n",
      "element_4            -26.5877   1.68e+05     -0.000      1.000   -3.29e+05    3.29e+05\n",
      "element_5             -1.3210      1.226     -1.077      0.281      -3.725       1.083\n",
      "element_6            -26.5786    2.3e+05     -0.000      1.000   -4.51e+05    4.51e+05\n",
      "element_7             -0.9252      1.003     -0.922      0.356      -2.891       1.041\n",
      "element_8            -26.7486   1.96e+05     -0.000      1.000   -3.84e+05    3.84e+05\n",
      "element_9             -1.6061      1.227     -1.308      0.191      -4.012       0.800\n",
      "element_11           -26.4827   3.72e+05  -7.12e-05      1.000   -7.29e+05    7.29e+05\n",
      "element_12           -26.6171   1.67e+05     -0.000      1.000   -3.28e+05    3.28e+05\n",
      "element_13            12.8889   2.08e+04      0.001      1.000   -4.07e+04    4.08e+04\n",
      "element_14           -13.7783   3.71e+05  -3.72e-05      1.000   -7.27e+05    7.26e+05\n",
      "element_15            12.3662   2.08e+04      0.001      1.000   -4.07e+04    4.08e+04\n",
      "element_17            12.0159   2.08e+04      0.001      1.000   -4.07e+04    4.08e+04\n",
      "element_18            13.1749   2.08e+04      0.001      0.999   -4.07e+04    4.08e+04\n",
      "element_20            12.3914   2.08e+04      0.001      1.000   -4.07e+04    4.08e+04\n",
      "element_22             7.1532   3.54e+04      0.000      1.000   -6.93e+04    6.93e+04\n",
      "element_23             7.3778   3.54e+04      0.000      1.000   -6.93e+04    6.93e+04\n",
      "element_26           -26.5958   1.88e+05     -0.000      1.000   -3.68e+05    3.68e+05\n",
      "element_27            -2.0913      1.227     -1.704      0.088      -4.496       0.313\n",
      "element_28           -26.6462   1.88e+05     -0.000      1.000   -3.69e+05    3.69e+05\n",
      "element_29            -1.4292      1.227     -1.165      0.244      -3.835       0.976\n",
      "element_30           -26.2592   6.58e+05  -3.99e-05      1.000   -1.29e+06    1.29e+06\n",
      "element_31            -1.3661      1.003     -1.363      0.173      -3.331       0.599\n",
      "element_33           -13.9288   1.74e+05     -8e-05      1.000   -3.41e+05    3.41e+05\n",
      "element_35           -13.8027   1.86e+05  -7.42e-05      1.000   -3.65e+05    3.65e+05\n",
      "element_36           -13.6693   2.93e+05  -4.67e-05      1.000   -5.74e+05    5.74e+05\n",
      "element_37           -13.7810   2.05e+05  -6.71e-05      1.000   -4.03e+05    4.03e+05\n",
      "element_38           -13.6632   6.54e+05  -2.09e-05      1.000   -1.28e+06    1.28e+06\n",
      "element_39           -13.8865   2.91e+05  -4.78e-05      1.000    -5.7e+05     5.7e+05\n",
      "element_40            12.3798   2.08e+04      0.001      1.000   -4.07e+04    4.08e+04\n",
      "element_42            12.9608   2.08e+04      0.001      1.000   -4.07e+04    4.08e+04\n",
      "element_43             7.2684   3.54e+04      0.000      1.000   -6.93e+04    6.93e+04\n",
      "element_45             7.0227   3.54e+04      0.000      1.000   -6.93e+04    6.93e+04\n",
      "element_48            -1.2753      1.002     -1.272      0.203      -3.240       0.689\n",
      "element_49            -0.3195      0.840     -0.380      0.704      -1.966       1.327\n",
      "element_50           -26.7166   2.92e+05  -9.14e-05      1.000   -5.73e+05    5.73e+05\n",
      "element_51           -26.5934   1.62e+05     -0.000      1.000   -3.18e+05    3.18e+05\n",
      "element_54           -26.5609   2.87e+05  -9.26e-05      1.000   -5.62e+05    5.62e+05\n",
      "element_55            12.0922   2.08e+04      0.001      1.000   -4.07e+04    4.08e+04\n",
      "element_56            11.1735   2.08e+04      0.001      1.000   -4.07e+04    4.08e+04\n",
      "element_57            12.1347   2.08e+04      0.001      1.000   -4.07e+04    4.08e+04\n",
      "element_58            11.2406   2.08e+04      0.001      1.000   -4.07e+04    4.08e+04\n",
      "element_59            12.1574   2.08e+04      0.001      1.000   -4.07e+04    4.08e+04\n",
      "element_60           -13.8309   1.45e+05  -9.51e-05      1.000   -2.85e+05    2.85e+05\n",
      "element_61           -14.0873   3.78e+05  -3.73e-05      1.000   -7.41e+05     7.4e+05\n",
      "element_62             7.6920   3.54e+04      0.000      1.000   -6.93e+04    6.93e+04\n",
      "element_65             7.0884   3.54e+04      0.000      1.000   -6.93e+04    6.93e+04\n",
      "element_69           -26.6765   1.81e+05     -0.000      1.000   -3.55e+05    3.55e+05\n",
      "element_70           -26.6644   1.28e+05     -0.000      1.000    -2.5e+05     2.5e+05\n",
      "element_71           -26.9844   6.58e+05   -4.1e-05      1.000   -1.29e+06    1.29e+06\n",
      "element_72            -0.8829      0.915     -0.965      0.335      -2.676       0.910\n",
      "element_73           -26.5086   2.93e+05  -9.06e-05      1.000   -5.73e+05    5.73e+05\n",
      "element_74           -26.6420   1.36e+05     -0.000      1.000   -2.66e+05    2.66e+05\n",
      "element_75           -26.6472   1.96e+05     -0.000      1.000   -3.84e+05    3.84e+05\n",
      "element_76            12.0292   2.08e+04      0.001      1.000   -4.07e+04    4.08e+04\n",
      "element_77           -13.6946    4.6e+05  -2.98e-05      1.000   -9.02e+05    9.02e+05\n",
      "element_78            11.8231   2.08e+04      0.001      1.000   -4.07e+04    4.08e+04\n",
      "element_79           -13.8240   3.72e+05  -3.71e-05      1.000    -7.3e+05     7.3e+05\n",
      "element_80           -13.9406    1.5e+05  -9.29e-05      1.000   -2.94e+05    2.94e+05\n",
      "element_82            10.6780   2.08e+04      0.001      1.000   -4.07e+04    4.08e+04\n",
      "element_83            11.4275   2.08e+04      0.001      1.000   -4.07e+04    4.08e+04\n",
      "element_84             7.8582   3.54e+04      0.000      1.000   -6.93e+04    6.93e+04\n",
      "element_85             7.2005   3.54e+04      0.000      1.000   -6.93e+04    6.93e+04\n",
      "element_87             7.3159   3.54e+04      0.000      1.000   -6.93e+04    6.93e+04\n",
      "element_90           -26.6116   1.42e+05     -0.000      1.000   -2.78e+05    2.78e+05\n",
      "element_91            -1.0082      0.916     -1.101      0.271      -2.803       0.787\n",
      "element_92           -26.6453   1.28e+05     -0.000      1.000    -2.5e+05     2.5e+05\n",
      "element_94           -26.6513   1.58e+05     -0.000      1.000   -3.09e+05    3.09e+05\n",
      "element_95           -26.7044   2.67e+05     -0.000      1.000   -5.23e+05    5.23e+05\n",
      "element_98           -13.8547   1.81e+05  -7.65e-05      1.000   -3.55e+05    3.55e+05\n",
      "element_99            12.4849   2.08e+04      0.001      1.000   -4.07e+04    4.08e+04\n",
      "element_101           12.3845   2.08e+04      0.001      1.000   -4.07e+04    4.08e+04\n",
      "element_102           11.4288   2.08e+04      0.001      1.000   -4.07e+04    4.08e+04\n",
      "element_106           12.4540   2.08e+04      0.001      1.000   -4.07e+04    4.08e+04\n",
      "element_107          -19.6830   6.45e+05  -3.05e-05      1.000   -1.26e+06    1.26e+06\n",
      "element_110            7.3090   3.54e+04      0.000      1.000   -6.93e+04    6.93e+04\n",
      "element_113          -26.6569   1.28e+05     -0.000      1.000    -2.5e+05     2.5e+05\n",
      "element_115           -2.0168      1.227     -1.644      0.100      -4.422       0.388\n",
      "element_116           -1.4127      1.003     -1.409      0.159      -3.378       0.552\n",
      "element_118           -2.0573      1.227     -1.676      0.094      -4.463       0.348\n",
      "element_119          -26.7600   4.64e+05  -5.76e-05      1.000    -9.1e+05     9.1e+05\n",
      "element_121          -26.8543   6.58e+05  -4.08e-05      1.000   -1.29e+06    1.29e+06\n",
      "element_122           12.7889   2.08e+04      0.001      1.000   -4.07e+04    4.08e+04\n",
      "element_123          -13.8571   6.54e+05  -2.12e-05      1.000   -1.28e+06    1.28e+06\n",
      "element_124           12.6637   2.08e+04      0.001      1.000   -4.07e+04    4.08e+04\n",
      "element_125           13.4612   2.08e+04      0.001      0.999   -4.07e+04    4.08e+04\n",
      "element_126           11.8061   2.08e+04      0.001      1.000   -4.07e+04    4.08e+04\n",
      "element_127           12.6337   2.08e+04      0.001      1.000   -4.07e+04    4.08e+04\n",
      "element_132           13.9359   2.08e+04      0.001      0.999   -4.07e+04    4.08e+04\n",
      "element_133          -20.0610   6.45e+05  -3.11e-05      1.000   -1.26e+06    1.26e+06\n",
      "element_134            7.2039   3.54e+04      0.000      1.000   -6.93e+04    6.93e+04\n",
      "element_138           -1.9116      1.227     -1.559      0.119      -4.316       0.492\n",
      "element_140          -26.7231   3.27e+05  -8.17e-05      1.000   -6.41e+05    6.41e+05\n",
      "element_141            0.6117      0.918      0.667      0.505      -1.187       2.410\n",
      "element_142           -2.0910      1.226     -1.705      0.088      -4.495       0.313\n",
      "element_143          -26.6353   1.27e+05     -0.000      1.000    -2.5e+05    2.49e+05\n",
      "element_145          -26.6587   1.33e+05     -0.000      1.000    -2.6e+05     2.6e+05\n",
      "element_146          -13.8649   3.75e+05  -3.69e-05      1.000   -7.36e+05    7.35e+05\n",
      "element_147          -13.9011   1.68e+05  -8.27e-05      1.000    -3.3e+05     3.3e+05\n",
      "element_149           12.0994   2.08e+04      0.001      1.000   -4.07e+04    4.08e+04\n",
      "element_150           12.5820   2.08e+04      0.001      1.000   -4.07e+04    4.08e+04\n",
      "element_151            6.5373   3.54e+04      0.000      1.000   -6.93e+04    6.93e+04\n",
      "element_152          -20.1166   6.45e+05  -3.12e-05      1.000   -1.26e+06    1.26e+06\n",
      "element_156          -26.8270   3.79e+05  -7.08e-05      1.000   -7.43e+05    7.43e+05\n",
      "element_157           -1.8478      1.227     -1.506      0.132      -4.253       0.558\n",
      "element_160          -26.8302   3.28e+05  -8.18e-05      1.000   -6.43e+05    6.43e+05\n",
      "element_161          -26.6091   2.47e+05     -0.000      1.000   -4.84e+05    4.84e+05\n",
      "element_162           -2.0857      1.227     -1.700      0.089      -4.491       0.319\n",
      "element_164           12.3936   2.08e+04      0.001      1.000   -4.07e+04    4.08e+04\n",
      "element_167          -13.9972   4.62e+05  -3.03e-05      1.000   -9.06e+05    9.06e+05\n",
      "element_168          -13.9275    1.5e+05  -9.29e-05      1.000   -2.94e+05    2.94e+05\n",
      "element_169          -13.8934   2.17e+05  -6.39e-05      1.000   -4.26e+05    4.26e+05\n",
      "element_170          -14.1580   4.63e+05  -3.06e-05      1.000   -9.07e+05    9.07e+05\n",
      "element_172           12.9897   2.08e+04      0.001      1.000   -4.07e+04    4.08e+04\n",
      "element_175            7.0241   3.54e+04      0.000      1.000   -6.93e+04    6.93e+04\n",
      "element_177          -19.8323   3.72e+05  -5.34e-05      1.000   -7.28e+05    7.28e+05\n",
      "element_180          -26.6552   1.96e+05     -0.000      1.000   -3.85e+05    3.84e+05\n",
      "element_181          -26.6613   1.35e+05     -0.000      1.000   -2.65e+05    2.65e+05\n",
      "element_182          -13.9234   2.46e+05  -5.65e-05      1.000   -4.83e+05    4.83e+05\n",
      "element_183          -13.9941   2.89e+05  -4.84e-05      1.000   -5.67e+05    5.67e+05\n",
      "element_184           11.3046   2.08e+04      0.001      1.000   -4.07e+04    4.08e+04\n",
      "element_185          -13.4964   6.54e+05  -2.06e-05      1.000   -1.28e+06    1.28e+06\n",
      "element_189            6.6319   3.54e+04      0.000      1.000   -6.93e+04    6.93e+04\n",
      "element_192           -2.0409      1.227     -1.663      0.096      -4.446       0.364\n",
      "element_193          -26.5471    1.8e+05     -0.000      1.000   -3.53e+05    3.53e+05\n",
      "element_194          -26.3856   2.92e+05  -9.03e-05      1.000   -5.72e+05    5.72e+05\n",
      "element_195           -0.8691      0.917     -0.948      0.343      -2.666       0.927\n",
      "element_197          -26.6998   1.68e+05     -0.000      1.000    -3.3e+05     3.3e+05\n",
      "element_198          -26.6431   1.58e+05     -0.000      1.000   -3.09e+05    3.09e+05\n",
      "element_199           11.8615   2.08e+04      0.001      1.000   -4.07e+04    4.08e+04\n",
      "element_200          -14.0010   3.77e+05  -3.71e-05      1.000   -7.39e+05    7.39e+05\n",
      "element_201          -13.8816   1.73e+05  -8.02e-05      1.000   -3.39e+05    3.39e+05\n",
      "element_202           11.6253   2.08e+04      0.001      1.000   -4.07e+04    4.08e+04\n",
      "element_206          -13.8662   2.16e+05  -6.43e-05      1.000   -4.23e+05    4.23e+05\n",
      "element_208          -13.7328   3.26e+05  -4.21e-05      1.000    -6.4e+05    6.39e+05\n",
      "element_210          -19.6400   2.62e+05  -7.49e-05      1.000   -5.14e+05    5.14e+05\n",
      "element_211            5.7473   3.54e+04      0.000      1.000   -6.93e+04    6.93e+04\n",
      "element_212          -19.7872   3.17e+05  -6.24e-05      1.000   -6.21e+05    6.21e+05\n",
      "element_215           -1.5936      1.227     -1.299      0.194      -3.998       0.811\n",
      "element_216          -26.4727   6.58e+05  -4.02e-05      1.000   -1.29e+06    1.29e+06\n",
      "element_217          -26.6298   6.58e+05  -4.05e-05      1.000   -1.29e+06    1.29e+06\n",
      "element_219          -26.6308    1.3e+05     -0.000      1.000   -2.54e+05    2.54e+05\n",
      "element_220           -0.6432      0.916     -0.702      0.483      -2.438       1.152\n",
      "element_221           -1.2433      1.004     -1.239      0.216      -3.211       0.724\n",
      "element_222          -26.5939   2.05e+05     -0.000      1.000   -4.01e+05    4.01e+05\n",
      "element_223           13.6940   2.08e+04      0.001      0.999   -4.07e+04    4.08e+04\n",
      "element_224           11.7441   2.08e+04      0.001      1.000   -4.07e+04    4.08e+04\n",
      "element_225           13.2361   2.08e+04      0.001      0.999   -4.07e+04    4.08e+04\n",
      "element_226          -13.9249   2.66e+05  -5.23e-05      1.000   -5.22e+05    5.22e+05\n",
      "element_227           11.3959   2.08e+04      0.001      1.000   -4.07e+04    4.08e+04\n",
      "element_228          -13.8078   6.54e+05  -2.11e-05      1.000   -1.28e+06    1.28e+06\n",
      "element_230          -13.7247   4.59e+05  -2.99e-05      1.000      -9e+05       9e+05\n",
      "element_233           12.8570   2.08e+04      0.001      1.000   -4.07e+04    4.08e+04\n",
      "element_234            6.2133   3.54e+04      0.000      1.000   -6.93e+04    6.93e+04\n",
      "element_236          -19.7603   3.72e+05  -5.32e-05      1.000   -7.28e+05    7.28e+05\n",
      "element_239           -0.9843      1.228     -0.801      0.423      -3.392       1.423\n",
      "element_240          -26.9288   6.58e+05  -4.09e-05      1.000   -1.29e+06    1.29e+06\n",
      "element_241          -26.5834   2.91e+05  -9.13e-05      1.000   -5.71e+05    5.71e+05\n",
      "element_242          -26.6099   1.97e+05     -0.000      1.000   -3.85e+05    3.85e+05\n",
      "element_243           -0.9555      1.229     -0.777      0.437      -3.364       1.453\n",
      "element_245           -1.6481      1.227     -1.343      0.179      -4.054       0.757\n",
      "element_246           -2.0907      1.227     -1.703      0.088      -4.496       0.315\n",
      "element_247          -26.6455   1.39e+05     -0.000      1.000   -2.73e+05    2.73e+05\n",
      "element_249          -13.9098   2.16e+05  -6.43e-05      1.000   -4.24e+05    4.24e+05\n",
      "element_251           13.0853   2.08e+04      0.001      0.999   -4.07e+04    4.08e+04\n",
      "element_252           11.1526   2.08e+04      0.001      1.000   -4.07e+04    4.08e+04\n",
      "element_253           13.6254   2.08e+04      0.001      0.999   -4.07e+04    4.08e+04\n",
      "element_254           12.0832   2.08e+04      0.001      1.000   -4.07e+04    4.08e+04\n",
      "element_255          -13.9249   1.89e+05  -7.38e-05      1.000    -3.7e+05     3.7e+05\n",
      "element_256          -13.9390    2.9e+05   -4.8e-05      1.000   -5.69e+05    5.69e+05\n",
      "element_257            7.3567   3.54e+04      0.000      1.000   -6.93e+04    6.93e+04\n",
      "element_258            6.5206   3.54e+04      0.000      1.000   -6.93e+04    6.93e+04\n",
      "element_262          -26.5101   1.62e+05     -0.000      1.000   -3.18e+05    3.18e+05\n",
      "element_263          -26.7334   2.88e+05  -9.27e-05      1.000   -5.65e+05    5.65e+05\n",
      "element_264          -26.7673   2.18e+05     -0.000      1.000   -4.28e+05    4.28e+05\n",
      "element_265           -1.8686      1.227     -1.523      0.128      -4.274       0.537\n",
      "element_266           -0.7282      1.228     -0.593      0.553      -3.135       1.679\n",
      "element_267          -26.6078   2.16e+05     -0.000      1.000   -4.23e+05    4.23e+05\n",
      "element_268           -1.4356      1.002     -1.432      0.152      -3.400       0.529\n",
      "element_269          -26.6314   2.66e+05     -0.000      1.000   -5.21e+05    5.21e+05\n",
      "element_270           13.2628   2.08e+04      0.001      0.999   -4.07e+04    4.08e+04\n",
      "element_271           12.8345   2.08e+04      0.001      1.000   -4.07e+04    4.08e+04\n",
      "element_272           10.8777   2.08e+04      0.001      1.000   -4.07e+04    4.08e+04\n",
      "element_273          -13.9194    4.6e+05  -3.03e-05      1.000   -9.01e+05    9.01e+05\n",
      "element_274           12.9899   2.08e+04      0.001      1.000   -4.07e+04    4.08e+04\n",
      "element_275           13.4525   2.08e+04      0.001      0.999   -4.07e+04    4.08e+04\n",
      "element_276           12.0191   2.08e+04      0.001      1.000   -4.07e+04    4.08e+04\n",
      "element_279          -14.0272   3.72e+05  -3.77e-05      1.000    -7.3e+05     7.3e+05\n",
      "element_280            7.1522   3.54e+04      0.000      1.000   -6.93e+04    6.93e+04\n",
      "element_281            7.7143   3.54e+04      0.000      1.000   -6.93e+04    6.93e+04\n",
      "element_284           -1.3832      1.227     -1.127      0.260      -3.789       1.023\n",
      "element_285          -26.8366   2.17e+05     -0.000      1.000   -4.26e+05    4.26e+05\n",
      "element_286           -1.8722      1.228     -1.525      0.127      -4.278       0.534\n",
      "element_288          -26.6266    2.9e+05  -9.19e-05      1.000   -5.68e+05    5.68e+05\n",
      "element_289          -26.4318   3.25e+05  -8.14e-05      1.000   -6.37e+05    6.37e+05\n",
      "element_291          -26.6089    2.9e+05  -9.19e-05      1.000   -5.67e+05    5.67e+05\n",
      "element_292           -1.8685      1.228     -1.521      0.128      -4.276       0.539\n",
      "element_293           -1.8077      1.227     -1.473      0.141      -4.213       0.598\n",
      "element_294          -26.8162   3.27e+05  -8.19e-05      1.000   -6.42e+05    6.42e+05\n",
      "element_295          -13.9641   6.54e+05  -2.13e-05      1.000   -1.28e+06    1.28e+06\n",
      "element_296           10.7519   2.08e+04      0.001      1.000   -4.07e+04    4.08e+04\n",
      "element_297           12.2832   2.08e+04      0.001      1.000   -4.07e+04    4.08e+04\n",
      "element_298          -13.9266   2.65e+05  -5.26e-05      1.000   -5.19e+05    5.19e+05\n",
      "element_299           12.4078   2.08e+04      0.001      1.000   -4.07e+04    4.08e+04\n",
      "element_300           12.8696   2.08e+04      0.001      1.000   -4.07e+04    4.08e+04\n",
      "element_301           13.7322   2.08e+04      0.001      0.999   -4.07e+04    4.08e+04\n",
      "element_302           12.9789   2.08e+04      0.001      1.000   -4.07e+04    4.08e+04\n",
      "element_303          -14.0273   4.61e+05  -3.04e-05      1.000   -9.03e+05    9.03e+05\n",
      "element_304          -13.9151   3.75e+05  -3.71e-05      1.000   -7.35e+05    7.35e+05\n",
      "element_305            7.1396   3.54e+04      0.000      1.000   -6.93e+04    6.93e+04\n",
      "element_306            7.2055   3.54e+04      0.000      1.000   -6.93e+04    6.93e+04\n",
      "element_310           -1.8010      1.228     -1.467      0.142      -4.207       0.605\n",
      "element_311           -0.2842      1.004     -0.283      0.777      -2.253       1.684\n",
      "element_312          -26.6014   1.45e+05     -0.000      1.000   -2.85e+05    2.85e+05\n",
      "element_313          -26.6050   1.74e+05     -0.000      1.000   -3.41e+05     3.4e+05\n",
      "element_314          -26.5079    2.9e+05  -9.13e-05      1.000   -5.69e+05    5.69e+05\n",
      "element_315          -26.6334   3.27e+05  -8.14e-05      1.000   -6.42e+05    6.42e+05\n",
      "element_317           11.2750   2.08e+04      0.001      1.000   -4.07e+04    4.08e+04\n",
      "element_318          -13.9481   2.46e+05  -5.68e-05      1.000   -4.81e+05    4.81e+05\n",
      "element_319          -13.8487   1.54e+05  -9.02e-05      1.000   -3.01e+05    3.01e+05\n",
      "element_320          -13.8440   2.17e+05  -6.39e-05      1.000   -4.25e+05    4.25e+05\n",
      "element_323           12.0140   2.08e+04      0.001      1.000   -4.07e+04    4.08e+04\n",
      "element_324          -13.8939   2.29e+05  -6.06e-05      1.000    -4.5e+05     4.5e+05\n",
      "element_326            6.0255   3.54e+04      0.000      1.000   -6.93e+04    6.93e+04\n",
      "element_327          -19.6891   3.18e+05  -6.19e-05      1.000   -6.24e+05    6.24e+05\n",
      "element_330           -1.4316      1.228     -1.165      0.244      -3.839       0.976\n",
      "element_331          -26.5451    2.3e+05     -0.000      1.000   -4.52e+05    4.52e+05\n",
      "element_332           -1.4880      1.228     -1.212      0.225      -3.894       0.918\n",
      "element_333           -1.4334      1.229     -1.166      0.244      -3.843       0.976\n",
      "element_335          -26.6654   1.96e+05     -0.000      1.000   -3.84e+05    3.84e+05\n",
      "element_336          -26.6267    1.8e+05     -0.000      1.000   -3.53e+05    3.52e+05\n",
      "element_337          -13.5871   6.54e+05  -2.08e-05      1.000   -1.28e+06    1.28e+06\n",
      "element_338           12.9447   2.08e+04      0.001      1.000   -4.07e+04    4.08e+04\n",
      "element_339          -13.9462   2.05e+05   -6.8e-05      1.000   -4.02e+05    4.02e+05\n",
      "element_340           11.8331   2.08e+04      0.001      1.000   -4.07e+04    4.08e+04\n",
      "element_343           11.8318   2.08e+04      0.001      1.000   -4.07e+04    4.08e+04\n",
      "element_344          -13.8523   1.68e+05  -8.25e-05      1.000   -3.29e+05    3.29e+05\n",
      "element_345           12.3768   2.08e+04      0.001      1.000   -4.07e+04    4.08e+04\n",
      "element_346          -13.8233    4.6e+05  -3.01e-05      1.000   -9.01e+05    9.01e+05\n",
      "element_347          -19.6397   4.54e+05  -4.33e-05      1.000    -8.9e+05     8.9e+05\n",
      "element_349            7.2170   3.54e+04      0.000      1.000   -6.93e+04    6.93e+04\n",
      "element_353          -26.6767   1.39e+05     -0.000      1.000   -2.72e+05    2.72e+05\n",
      "element_354          -26.8147   1.96e+05     -0.000      1.000   -3.84e+05    3.84e+05\n",
      "element_355           -1.2560      1.229     -1.022      0.307      -3.665       1.153\n",
      "element_356          -26.5951   1.81e+05     -0.000      1.000   -3.54e+05    3.54e+05\n",
      "element_357           -1.8284      1.227     -1.490      0.136      -4.233       0.576\n",
      "element_358          -26.8543   6.58e+05  -4.08e-05      1.000   -1.29e+06    1.29e+06\n",
      "element_359           -1.4608      1.228     -1.190      0.234      -3.867       0.946\n",
      "element_360          -26.4524   3.79e+05  -6.98e-05      1.000   -7.42e+05    7.42e+05\n",
      "element_361           12.2306   2.08e+04      0.001      1.000   -4.07e+04    4.08e+04\n",
      "element_362          -13.9251   3.75e+05  -3.71e-05      1.000   -7.35e+05    7.35e+05\n",
      "element_363           13.4069   2.08e+04      0.001      0.999   -4.07e+04    4.08e+04\n",
      "element_364           12.2492   2.08e+04      0.001      1.000   -4.07e+04    4.08e+04\n",
      "element_365           12.6512   2.08e+04      0.001      1.000   -4.07e+04    4.08e+04\n",
      "element_366          -13.7099   6.54e+05   -2.1e-05      1.000   -1.28e+06    1.28e+06\n",
      "element_367           13.5461   2.08e+04      0.001      0.999   -4.07e+04    4.08e+04\n",
      "element_368           11.2394   2.08e+04      0.001      1.000   -4.07e+04    4.08e+04\n",
      "element_369          -13.8605   1.74e+05  -7.96e-05      1.000   -3.41e+05    3.41e+05\n",
      "element_370           13.1752   2.08e+04      0.001      0.999   -4.07e+04    4.08e+04\n",
      "element_371            7.2170   3.54e+04      0.000      1.000   -6.93e+04    6.93e+04\n",
      "element_372            7.5611   3.54e+04      0.000      1.000   -6.93e+04    6.93e+04\n",
      "element_376           -0.9459      0.917     -1.032      0.302      -2.743       0.851\n",
      "element_378           -0.8702      0.917     -0.949      0.343      -2.667       0.927\n",
      "element_380          -26.6815   1.87e+05     -0.000      1.000   -3.67e+05    3.67e+05\n",
      "element_381          -26.7069   2.17e+05     -0.000      1.000   -4.25e+05    4.25e+05\n",
      "element_382          -26.6792    1.8e+05     -0.000      1.000   -3.53e+05    3.53e+05\n",
      "element_383          -26.6353   1.74e+05     -0.000      1.000   -3.41e+05    3.41e+05\n",
      "element_386          -26.5380   3.72e+05  -7.13e-05      1.000   -7.29e+05    7.29e+05\n",
      "element_387          -14.2216   6.54e+05  -2.17e-05      1.000   -1.28e+06    1.28e+06\n",
      "element_388          -14.2442   4.61e+05  -3.09e-05      1.000   -9.04e+05    9.04e+05\n",
      "element_389           10.7886   2.08e+04      0.001      1.000   -4.07e+04    4.08e+04\n",
      "element_390           11.5446   2.08e+04      0.001      1.000   -4.07e+04    4.08e+04\n",
      "element_391           12.6598   2.08e+04      0.001      1.000   -4.07e+04    4.08e+04\n",
      "element_392          -13.8234   2.17e+05  -6.36e-05      1.000   -4.26e+05    4.26e+05\n",
      "element_393           13.1225   2.08e+04      0.001      0.999   -4.07e+04    4.08e+04\n",
      "element_394           12.5102   2.08e+04      0.001      1.000   -4.07e+04    4.08e+04\n",
      "element_395            8.2350   3.54e+04      0.000      1.000   -6.93e+04    6.93e+04\n",
      "element_396            6.6702   3.54e+04      0.000      1.000   -6.93e+04    6.93e+04\n",
      "element_402          -26.7172   1.95e+05     -0.000      1.000   -3.82e+05    3.82e+05\n",
      "element_403          -26.6836   1.95e+05     -0.000      1.000   -3.82e+05    3.82e+05\n",
      "element_405          -26.6588   1.58e+05     -0.000      1.000   -3.09e+05    3.09e+05\n",
      "element_406           -1.9982      1.227     -1.628      0.104      -4.404       0.407\n",
      "element_408          -26.2989   3.24e+05  -8.12e-05      1.000   -6.35e+05    6.35e+05\n",
      "element_409          -26.6617   1.33e+05     -0.000      1.000    -2.6e+05     2.6e+05\n",
      "element_410          -13.8615    1.8e+05  -7.68e-05      1.000   -3.54e+05    3.54e+05\n",
      "element_411           12.0132   2.08e+04      0.001      1.000   -4.07e+04    4.08e+04\n",
      "element_412          -13.8617   1.96e+05  -7.08e-05      1.000   -3.84e+05    3.84e+05\n",
      "element_413          -13.7831    2.9e+05  -4.75e-05      1.000   -5.69e+05    5.69e+05\n",
      "element_415           12.3893   2.08e+04      0.001      1.000   -4.07e+04    4.08e+04\n",
      "element_417            7.1807   3.54e+04      0.000      1.000   -6.93e+04    6.93e+04\n",
      "element_419            8.8032   3.54e+04      0.000      1.000   -6.93e+04    6.93e+04\n",
      "element_423           -0.8866      0.916     -0.968      0.333      -2.682       0.909\n",
      "element_425           -0.8263      0.916     -0.903      0.367      -2.621       0.968\n",
      "element_426            0.0636      1.004      0.063      0.950      -1.904       2.031\n",
      "element_427           -2.0430      1.227     -1.665      0.096      -4.448       0.362\n",
      "element_430          -26.6094   1.28e+05     -0.000      1.000    -2.5e+05     2.5e+05\n",
      "element_431          -26.5976   3.75e+05  -7.09e-05      1.000   -7.35e+05    7.35e+05\n",
      "element_432           13.2787   2.08e+04      0.001      0.999   -4.07e+04    4.08e+04\n",
      "element_433           11.5221   2.08e+04      0.001      1.000   -4.07e+04    4.08e+04\n",
      "element_435          -14.0424    4.6e+05  -3.05e-05      1.000   -9.01e+05    9.01e+05\n",
      "element_437            7.0835   3.54e+04      0.000      1.000   -6.93e+04    6.93e+04\n",
      "element_440          -26.6668   2.17e+05     -0.000      1.000   -4.25e+05    4.25e+05\n",
      "element_441          -26.5991   6.58e+05  -4.04e-05      1.000   -1.29e+06    1.29e+06\n",
      "element_447          -13.7156   3.72e+05  -3.68e-05      1.000    -7.3e+05     7.3e+05\n",
      "element_450           11.8548   2.08e+04      0.001      1.000   -4.07e+04    4.08e+04\n",
      "element_451          -13.9149   1.74e+05  -8.02e-05      1.000    -3.4e+05     3.4e+05\n",
      "element_453          -13.5932   6.54e+05  -2.08e-05      1.000   -1.28e+06    1.28e+06\n",
      "element_455          -26.6548   1.62e+05     -0.000      1.000   -3.17e+05    3.17e+05\n",
      "element_456           11.2176   2.08e+04      0.001      1.000   -4.07e+04    4.08e+04\n",
      "element_458          -14.0181   2.17e+05  -6.47e-05      1.000   -4.25e+05    4.25e+05\n",
      "element_459           10.9035   2.08e+04      0.001      1.000   -4.07e+04    4.08e+04\n",
      "element_460          -26.5999   1.87e+05     -0.000      1.000   -3.66e+05    3.66e+05\n",
      "element_461          -26.6899   1.95e+05     -0.000      1.000   -3.83e+05    3.83e+05\n",
      "element_462           13.1037   2.08e+04      0.001      0.999   -4.07e+04    4.08e+04\n",
      "element_463          -26.6667   1.67e+05     -0.000      1.000   -3.28e+05    3.28e+05\n",
      "element_464           -1.6137      1.227     -1.315      0.189      -4.019       0.792\n",
      "element_465           12.7574   2.08e+04      0.001      1.000   -4.07e+04    4.08e+04\n",
      "element_466          -13.9313   2.65e+05  -5.27e-05      1.000   -5.19e+05    5.19e+05\n",
      "element_467          -26.6458   2.45e+05     -0.000      1.000   -4.81e+05    4.81e+05\n",
      "element_471          -13.7822   4.62e+05  -2.98e-05      1.000   -9.06e+05    9.06e+05\n",
      "element_472          -20.0876   4.56e+05  -4.41e-05      1.000   -8.93e+05    8.93e+05\n",
      "element_473          -26.4914   3.75e+05  -7.06e-05      1.000   -7.35e+05    7.35e+05\n",
      "element_475          -13.9117   1.58e+05  -8.78e-05      1.000    -3.1e+05     3.1e+05\n",
      "element_476          -13.8293   3.76e+05  -3.67e-05      1.000   -7.38e+05    7.38e+05\n",
      "element_478           12.9771   2.08e+04      0.001      1.000   -4.07e+04    4.08e+04\n",
      "element_479          -26.6677   2.06e+05     -0.000      1.000   -4.03e+05    4.03e+05\n",
      "element_480            7.0699   3.54e+04      0.000      1.000   -6.93e+04    6.93e+04\n",
      "element_481          -13.9641   6.54e+05  -2.13e-05      1.000   -1.28e+06    1.28e+06\n",
      "element_482           -0.5464      1.003     -0.545      0.586      -2.512       1.420\n",
      "element_483           -1.5937      1.228     -1.298      0.194      -4.000       0.813\n",
      "element_484           -0.8145      0.916     -0.889      0.374      -2.610       0.981\n",
      "element_486          -13.9431   2.89e+05  -4.82e-05      1.000   -5.67e+05    5.67e+05\n",
      "element_487          -26.5681   2.05e+05     -0.000      1.000   -4.02e+05    4.02e+05\n",
      "element_488          -19.1914   6.45e+05  -2.97e-05      1.000   -1.26e+06    1.26e+06\n",
      "element_489           12.1746   2.08e+04      0.001      1.000   -4.07e+04    4.08e+04\n",
      "element_492           13.2044   2.08e+04      0.001      0.999   -4.07e+04    4.08e+04\n",
      "element_493            6.9517   3.54e+04      0.000      1.000   -6.93e+04    6.93e+04\n",
      "element_494          -13.8667   1.63e+05  -8.52e-05      1.000   -3.19e+05    3.19e+05\n",
      "element_503          -26.5831   1.53e+05     -0.000      1.000      -3e+05       3e+05\n",
      "element_504           12.1936   2.08e+04      0.001      1.000   -4.07e+04    4.08e+04\n",
      "element_505            6.5347   3.54e+04      0.000      1.000   -6.93e+04    6.93e+04\n",
      "element_506           -0.7465      1.229     -0.607      0.544      -3.156       1.663\n",
      "element_507          -13.8121    3.7e+05  -3.73e-05      1.000   -7.26e+05    7.26e+05\n",
      "element_508           11.5232   2.08e+04      0.001      1.000   -4.07e+04    4.08e+04\n",
      "element_510          -26.5526   2.18e+05     -0.000      1.000   -4.28e+05    4.27e+05\n",
      "element_511          -26.7716    2.9e+05  -9.22e-05      1.000   -5.69e+05    5.69e+05\n",
      "element_512          -13.8692   3.75e+05  -3.69e-05      1.000   -7.36e+05    7.36e+05\n",
      "element_513          -19.8138   3.67e+05   -5.4e-05      1.000   -7.19e+05    7.19e+05\n",
      "element_514          -13.9173   4.54e+05  -3.06e-05      1.000    -8.9e+05     8.9e+05\n",
      "element_515          -26.9038   4.65e+05  -5.79e-05      1.000   -9.11e+05     9.1e+05\n",
      "element_516          -26.6060    1.8e+05     -0.000      1.000   -3.53e+05    3.53e+05\n",
      "element_517           13.0723   2.08e+04      0.001      0.999   -4.07e+04    4.08e+04\n",
      "element_518          -13.7704   4.61e+05  -2.99e-05      1.000   -9.03e+05    9.03e+05\n",
      "element_519           12.6084   2.08e+04      0.001      1.000   -4.07e+04    4.08e+04\n",
      "element_522            1.5338      1.249      1.228      0.219      -0.914       3.981\n",
      "element_524          -19.8873   3.71e+05  -5.36e-05      1.000   -7.27e+05    7.27e+05\n",
      "element_526           -1.9100      1.227     -1.557      0.120      -4.315       0.495\n",
      "element_527          -13.8768   1.49e+05   -9.3e-05      1.000   -2.93e+05    2.93e+05\n",
      "element_531          -13.7451   2.89e+05  -4.75e-05      1.000   -5.67e+05    5.67e+05\n",
      "element_534           12.3905   2.08e+04      0.001      1.000   -4.07e+04    4.08e+04\n",
      "element_535          -13.9893   4.59e+05  -3.05e-05      1.000   -8.99e+05    8.99e+05\n",
      "element_539          -14.2675   6.54e+05  -2.18e-05      1.000   -1.28e+06    1.28e+06\n",
      "element_549           -0.6489      1.229     -0.528      0.597      -3.057       1.759\n",
      "element_556          -26.4853   2.93e+05  -9.04e-05      1.000   -5.74e+05    5.74e+05\n",
      "element_565          -26.2592   6.58e+05  -3.99e-05      1.000   -1.29e+06    1.29e+06\n",
      "element_570          -14.2675   6.54e+05  -2.18e-05      1.000   -1.28e+06    1.28e+06\n",
      "element_571          -13.6257   4.63e+05  -2.94e-05      1.000   -9.07e+05    9.07e+05\n",
      "element_575          -13.9893   4.59e+05  -3.05e-05      1.000   -8.99e+05    8.99e+05\n",
      "element_579            8.0390   3.54e+04      0.000      1.000   -6.93e+04    6.93e+04\n",
      "element_591          -13.5871   6.54e+05  -2.08e-05      1.000   -1.28e+06    1.28e+06\n",
      "======================================================================================\n"
     ]
    }
   ],
   "source": [
    "print(sppm_results.summary())"
   ]
  },
  {
   "cell_type": "markdown",
   "metadata": {
    "hidden": true
   },
   "source": [
    "### Model fit"
   ]
  },
  {
   "cell_type": "code",
   "execution_count": 44,
   "metadata": {
    "ExecuteTime": {
     "end_time": "2019-02-23T16:30:26.644712Z",
     "start_time": "2019-02-23T16:30:26.636583Z"
    },
    "hidden": true
   },
   "outputs": [
    {
     "data": {
      "text/plain": [
       "3001.380666659371"
      ]
     },
     "execution_count": 44,
     "metadata": {},
     "output_type": "execute_result"
    }
   ],
   "source": [
    "sppm_results.aic"
   ]
  },
  {
   "cell_type": "code",
   "execution_count": 45,
   "metadata": {
    "ExecuteTime": {
     "end_time": "2019-02-23T16:30:26.773889Z",
     "start_time": "2019-02-23T16:30:26.765979Z"
    },
    "hidden": true
   },
   "outputs": [
    {
     "data": {
      "text/plain": [
       "-28179.12329473316"
      ]
     },
     "execution_count": 45,
     "metadata": {},
     "output_type": "execute_result"
    }
   ],
   "source": [
    "sppm_results.bic"
   ]
  },
  {
   "cell_type": "code",
   "execution_count": 46,
   "metadata": {
    "ExecuteTime": {
     "end_time": "2019-02-23T16:30:26.994054Z",
     "start_time": "2019-02-23T16:30:26.984369Z"
    },
    "hidden": true
   },
   "outputs": [
    {
     "data": {
      "text/plain": [
       "(False, 4.6434294256207625e-78)"
      ]
     },
     "execution_count": 46,
     "metadata": {},
     "output_type": "execute_result"
    }
   ],
   "source": [
    "sppm_pearson_results = goodness_fit.pearson_chi_squared_test(sppm_results)\n",
    "sppm_pearson_results"
   ]
  },
  {
   "cell_type": "code",
   "execution_count": 47,
   "metadata": {
    "ExecuteTime": {
     "end_time": "2019-02-23T16:30:27.106533Z",
     "start_time": "2019-02-23T16:30:27.088796Z"
    },
    "hidden": true
   },
   "outputs": [
    {
     "name": "stderr",
     "output_type": "stream",
     "text": [
      "/home/tom/footbot/venv/lib/python3.6/site-packages/statsmodels/genmod/families/family.py:340: RuntimeWarning: invalid value encountered in sqrt\n",
      "  np.sqrt(2 * (endog * np.log(endog_mu) - (endog - mu))) / scale)\n"
     ]
    },
    {
     "data": {
      "text/plain": [
       "count    3948.000000\n",
       "mean       -0.139688\n",
       "std         0.563326\n",
       "min        -1.458262\n",
       "25%        -0.459142\n",
       "50%        -0.213228\n",
       "75%        -0.000001\n",
       "max         2.705821\n",
       "dtype: float64"
      ]
     },
     "execution_count": 47,
     "metadata": {},
     "output_type": "execute_result"
    }
   ],
   "source": [
    "sppm_results.resid_deviance.describe()"
   ]
  },
  {
   "cell_type": "code",
   "execution_count": 48,
   "metadata": {
    "ExecuteTime": {
     "end_time": "2019-02-23T16:30:27.654278Z",
     "start_time": "2019-02-23T16:30:27.308488Z"
    },
    "hidden": true
   },
   "outputs": [
    {
     "name": "stderr",
     "output_type": "stream",
     "text": [
      "/home/tom/footbot/venv/lib/python3.6/site-packages/numpy/lib/histograms.py:754: RuntimeWarning: invalid value encountered in greater_equal\n",
      "  keep = (tmp_a >= first_edge)\n",
      "/home/tom/footbot/venv/lib/python3.6/site-packages/numpy/lib/histograms.py:755: RuntimeWarning: invalid value encountered in less_equal\n",
      "  keep &= (tmp_a <= last_edge)\n"
     ]
    },
    {
     "data": {
      "image/png": "[encoded data removed]",
      "text/plain": [
       "<Figure size 432x288 with 1 Axes>"
      ]
     },
     "metadata": {
      "needs_background": "light"
     },
     "output_type": "display_data"
    }
   ],
   "source": [
    "plt.figure()\n",
    "plt.hist(sppm_results.resid_deviance)\n",
    "plt.show()"
   ]
  },
  {
   "cell_type": "markdown",
   "metadata": {
    "heading_collapsed": true
   },
   "source": [
    "## Simple Poisson player model with team-home interactions"
   ]
  },
  {
   "cell_type": "markdown",
   "metadata": {
    "hidden": true
   },
   "source": [
    "### Preparing data"
   ]
  },
  {
   "cell_type": "code",
   "execution_count": 54,
   "metadata": {
    "ExecuteTime": {
     "end_time": "2019-02-23T16:29:46.902076Z",
     "start_time": "2019-02-23T16:29:46.893746Z"
    },
    "hidden": true
   },
   "outputs": [],
   "source": [
    "sphm_df = element_gameweek_df.copy()"
   ]
  },
  {
   "cell_type": "code",
   "execution_count": 55,
   "metadata": {
    "ExecuteTime": {
     "end_time": "2019-02-23T16:29:47.289788Z",
     "start_time": "2019-02-23T16:29:47.254716Z"
    },
    "hidden": true
   },
   "outputs": [],
   "source": [
    "sphm_df = player.add_categorical_variables(sphm_df, 'element_type')\n",
    "sphm_df = player.add_categorical_variables(sphm_df, 'opposition_team')\n",
    "sphm_df = player.add_categorical_variables(sphm_df, 'element')"
   ]
  },
  {
   "cell_type": "code",
   "execution_count": 56,
   "metadata": {
    "ExecuteTime": {
     "end_time": "2019-02-23T16:29:47.683056Z",
     "start_time": "2019-02-23T16:29:47.669120Z"
    },
    "hidden": true
   },
   "outputs": [],
   "source": [
    "sphm_df = player.add_interaction_terms(sphm_df, 'opposition_team', 'was_home')"
   ]
  },
  {
   "cell_type": "code",
   "execution_count": 57,
   "metadata": {
    "ExecuteTime": {
     "end_time": "2019-02-23T16:29:48.481059Z",
     "start_time": "2019-02-23T16:29:48.468138Z"
    },
    "hidden": true
   },
   "outputs": [],
   "source": [
    "sphm_redundant_columns = [\n",
    "    'row_id', 'assists', 'attempted_passes', 'big_chances_created',\n",
    "    'big_chances_missed', 'bonus', 'bps', 'clean_sheets',\n",
    "    'clearances_blocks_interceptions', 'completed_passes', 'creativity',\n",
    "    'dribbles', 'ea_index', 'element', 'errors_leading_to_goal',\n",
    "    'errors_leading_to_goal_attempt', 'fixture', 'fouls', 'goals_conceded',\n",
    "    'ict_index', 'id', 'influence', 'key_passes', 'kickoff_time',\n",
    "    'kickoff_time_formatted', 'loaned_in', 'loaned_out', 'minutes', 'offside',\n",
    "    'open_play_crosses', 'opponent_team', 'own_goals', 'penalties_conceded',\n",
    "    'penalties_missed', 'penalties_saved', 'recoveries', 'red_cards', 'round',\n",
    "    'saves', 'selected', 'tackled', 'tackles', 'target_missed', 'team_a_score',\n",
    "    'team_h_score', 'threat', 'total_points', 'transfers_balance',\n",
    "    'transfers_in', 'transfers_out', 'value', 'winning_goals',\n",
    "    'yellow_cards', 'event', 'team_a', 'team_a_difficulty', 'team_h',\n",
    "    'team_h_difficulty', 'element_type', 'team', 'web_name', 'safe_web_name',\n",
    "    'own_team', 'opposition_team'\n",
    "]"
   ]
  },
  {
   "cell_type": "code",
   "execution_count": 58,
   "metadata": {
    "ExecuteTime": {
     "end_time": "2019-02-23T16:29:51.736657Z",
     "start_time": "2019-02-23T16:29:51.719933Z"
    },
    "hidden": true
   },
   "outputs": [],
   "source": [
    "sphm_df = player.remove_redundant_columns(sphm_df, sphm_redundant_columns)"
   ]
  },
  {
   "cell_type": "code",
   "execution_count": 59,
   "metadata": {
    "ExecuteTime": {
     "end_time": "2019-02-23T16:29:53.731998Z",
     "start_time": "2019-02-23T16:29:53.523724Z"
    },
    "hidden": true
   },
   "outputs": [],
   "source": [
    "sphm_response_df, sphm_explanatory_df = player.get_response_explanatory_dfs(sphm_df, 'goals_scored')"
   ]
  },
  {
   "cell_type": "code",
   "execution_count": 60,
   "metadata": {
    "ExecuteTime": {
     "end_time": "2019-02-23T16:29:54.765085Z",
     "start_time": "2019-02-23T16:29:54.757697Z"
    },
    "hidden": true
   },
   "outputs": [
    {
     "data": {
      "text/plain": [
       "Index(['const', 'was_home', 'element_type_3', 'element_type_4',\n",
       "       'opposition_team_2', 'opposition_team_3', 'opposition_team_4',\n",
       "       'opposition_team_5', 'opposition_team_6', 'opposition_team_7',\n",
       "       ...\n",
       "       'opposition_team_was_home_11', 'opposition_team_was_home_12',\n",
       "       'opposition_team_was_home_13', 'opposition_team_was_home_14',\n",
       "       'opposition_team_was_home_15', 'opposition_team_was_home_16',\n",
       "       'opposition_team_was_home_17', 'opposition_team_was_home_18',\n",
       "       'opposition_team_was_home_19', 'opposition_team_was_home_20'],\n",
       "      dtype='object', length=411)"
      ]
     },
     "execution_count": 60,
     "metadata": {},
     "output_type": "execute_result"
    }
   ],
   "source": [
    "sphm_explanatory_df.columns"
   ]
  },
  {
   "cell_type": "code",
   "execution_count": 61,
   "metadata": {
    "ExecuteTime": {
     "end_time": "2019-02-23T16:29:58.091549Z",
     "start_time": "2019-02-23T16:29:58.081389Z"
    },
    "hidden": true
   },
   "outputs": [
    {
     "data": {
      "text/plain": [
       "70    0\n",
       "74    0\n",
       "75    0\n",
       "76    1\n",
       "78    1\n",
       "Name: goals_scored, dtype: int64"
      ]
     },
     "execution_count": 61,
     "metadata": {},
     "output_type": "execute_result"
    }
   ],
   "source": [
    "sphm_response_df.head()"
   ]
  },
  {
   "cell_type": "markdown",
   "metadata": {
    "hidden": true
   },
   "source": [
    "### Fitting model"
   ]
  },
  {
   "cell_type": "code",
   "execution_count": 62,
   "metadata": {
    "ExecuteTime": {
     "end_time": "2019-02-23T16:30:09.123309Z",
     "start_time": "2019-02-23T16:29:59.855068Z"
    },
    "hidden": true
   },
   "outputs": [],
   "source": [
    "sphm_results = sm.GLM(\n",
    "    sphm_response_df,\n",
    "    sphm_explanatory_df,\n",
    "    family=sm.families.Poisson(),\n",
    "    missing='drop'\n",
    ").fit()"
   ]
  },
  {
   "cell_type": "code",
   "execution_count": 63,
   "metadata": {
    "ExecuteTime": {
     "end_time": "2019-02-23T16:30:09.370170Z",
     "start_time": "2019-02-23T16:30:09.133883Z"
    },
    "hidden": true
   },
   "outputs": [
    {
     "name": "stdout",
     "output_type": "stream",
     "text": [
      "                 Generalized Linear Model Regression Results                  \n",
      "==============================================================================\n",
      "Dep. Variable:           goals_scored   No. Observations:                 3952\n",
      "Model:                            GLM   Df Residuals:                     3543\n",
      "Model Family:                 Poisson   Df Model:                          408\n",
      "Link Function:                    log   Scale:                             1.0\n",
      "Method:                          IRLS   Log-Likelihood:                -1102.2\n",
      "Date:                Sat, 23 Feb 2019   Deviance:                       1310.6\n",
      "Time:                        16:30:09   Pearson chi2:                 2.18e+03\n",
      "No. Iterations:                    25                                         \n",
      "===============================================================================================\n",
      "                                  coef    std err          z      P>|z|      [0.025      0.975]\n",
      "-----------------------------------------------------------------------------------------------\n",
      "const                          -1.8312      0.847     -2.161      0.031      -3.492      -0.170\n",
      "was_home                        0.7244      0.543      1.333      0.182      -0.340       1.789\n",
      "element_type_3                -12.7099   2.07e+04     -0.001      1.000   -4.06e+04    4.06e+04\n",
      "element_type_4                 -6.8197   3.52e+04     -0.000      1.000    -6.9e+04     6.9e+04\n",
      "opposition_team_2               0.6341      0.558      1.136      0.256      -0.459       1.728\n",
      "opposition_team_3               0.5551      0.546      1.016      0.310      -0.516       1.626\n",
      "opposition_team_4               1.1029      0.534      2.064      0.039       0.056       2.150\n",
      "opposition_team_5               0.9073      0.525      1.728      0.084      -0.122       1.936\n",
      "opposition_team_6              -0.3587      0.679     -0.528      0.597      -1.689       0.972\n",
      "opposition_team_7               0.3249      0.577      0.563      0.573      -0.806       1.456\n",
      "opposition_team_8               0.6313      0.548      1.151      0.250      -0.443       1.706\n",
      "opposition_team_9               0.8332      0.537      1.553      0.120      -0.219       1.885\n",
      "opposition_team_10              0.7627      0.522      1.460      0.144      -0.261       1.787\n",
      "opposition_team_11              0.5011      0.565      0.886      0.375      -0.607       1.609\n",
      "opposition_team_12             -0.0665      0.643     -0.103      0.918      -1.327       1.194\n",
      "opposition_team_13              0.2653      0.583      0.455      0.649      -0.877       1.408\n",
      "opposition_team_14              0.4057      0.579      0.700      0.484      -0.730       1.541\n",
      "opposition_team_15              0.6066      0.547      1.108      0.268      -0.466       1.680\n",
      "opposition_team_16              1.0230      0.523      1.954      0.051      -0.003       2.049\n",
      "opposition_team_17              0.1377      0.594      0.232      0.817      -1.026       1.301\n",
      "opposition_team_18              0.6538      0.526      1.242      0.214      -0.378       1.685\n",
      "opposition_team_19              0.4721      0.547      0.863      0.388      -0.600       1.545\n",
      "opposition_team_20              1.0307      0.523      1.972      0.049       0.006       2.055\n",
      "element_4                     -26.4699   1.65e+05     -0.000      1.000   -3.24e+05    3.24e+05\n",
      "element_5                      -1.2327      1.230     -1.002      0.316      -3.644       1.179\n",
      "element_6                     -26.4230   2.27e+05     -0.000      1.000   -4.45e+05    4.45e+05\n",
      "element_7                      -0.8018      1.009     -0.795      0.427      -2.779       1.176\n",
      "element_8                     -26.6776   1.96e+05     -0.000      1.000   -3.84e+05    3.84e+05\n",
      "element_9                      -1.5615      1.233     -1.266      0.205      -3.978       0.855\n",
      "element_11                    -26.2331   3.77e+05  -6.95e-05      1.000    -7.4e+05     7.4e+05\n",
      "element_12                    -26.5268   1.66e+05     -0.000      1.000   -3.26e+05    3.26e+05\n",
      "element_13                     12.9028   2.07e+04      0.001      1.000   -4.06e+04    4.06e+04\n",
      "element_14                    -13.7846   3.71e+05  -3.72e-05      1.000   -7.27e+05    7.26e+05\n",
      "element_15                     12.4102   2.07e+04      0.001      1.000   -4.06e+04    4.06e+04\n",
      "element_17                     12.0321   2.07e+04      0.001      1.000   -4.06e+04    4.06e+04\n",
      "element_18                     13.2561   2.07e+04      0.001      0.999   -4.06e+04    4.06e+04\n",
      "element_20                     12.4506   2.07e+04      0.001      1.000   -4.06e+04    4.06e+04\n",
      "element_22                      7.2075   3.52e+04      0.000      1.000    -6.9e+04     6.9e+04\n",
      "element_23                      7.4321   3.52e+04      0.000      1.000    -6.9e+04     6.9e+04\n",
      "element_26                    -26.5743   1.84e+05     -0.000      1.000   -3.61e+05    3.61e+05\n",
      "element_27                     -2.1062      1.231     -1.712      0.087      -4.518       0.306\n",
      "element_28                    -26.6476   1.85e+05     -0.000      1.000   -3.62e+05    3.62e+05\n",
      "element_29                     -1.4224      1.231     -1.155      0.248      -3.835       0.991\n",
      "element_30                    -26.2272   6.58e+05  -3.99e-05      1.000   -1.29e+06    1.29e+06\n",
      "element_31                     -1.3834      1.007     -1.374      0.170      -3.357       0.591\n",
      "element_33                    -13.9262   1.74e+05  -8.01e-05      1.000   -3.41e+05    3.41e+05\n",
      "element_35                    -13.8847   1.83e+05  -7.58e-05      1.000   -3.59e+05    3.59e+05\n",
      "element_36                    -13.7087   2.91e+05  -4.71e-05      1.000   -5.71e+05    5.71e+05\n",
      "element_37                    -13.7630   2.02e+05   -6.8e-05      1.000   -3.97e+05    3.97e+05\n",
      "element_38                    -13.6577   6.54e+05  -2.09e-05      1.000   -1.28e+06    1.28e+06\n",
      "element_39                    -13.9329   2.89e+05  -4.82e-05      1.000   -5.66e+05    5.66e+05\n",
      "element_40                     12.3087   2.07e+04      0.001      1.000   -4.06e+04    4.06e+04\n",
      "element_42                     12.8779   2.07e+04      0.001      1.000   -4.06e+04    4.06e+04\n",
      "element_43                      7.2172   3.52e+04      0.000      1.000    -6.9e+04     6.9e+04\n",
      "element_45                      6.9220   3.52e+04      0.000      1.000    -6.9e+04     6.9e+04\n",
      "element_48                     -1.2432      1.005     -1.237      0.216      -3.213       0.726\n",
      "element_49                     -0.2681      0.843     -0.318      0.751      -1.921       1.385\n",
      "element_50                    -26.6108   2.86e+05   -9.3e-05      1.000   -5.61e+05    5.61e+05\n",
      "element_51                    -26.5148   1.61e+05     -0.000      1.000   -3.16e+05    3.16e+05\n",
      "element_54                    -26.6274   2.88e+05  -9.23e-05      1.000   -5.65e+05    5.65e+05\n",
      "element_55                     12.0311   2.07e+04      0.001      1.000   -4.06e+04    4.06e+04\n",
      "element_56                     11.1553   2.07e+04      0.001      1.000   -4.06e+04    4.06e+04\n",
      "element_57                     12.1580   2.07e+04      0.001      1.000   -4.06e+04    4.06e+04\n",
      "element_58                     11.2038   2.07e+04      0.001      1.000   -4.06e+04    4.06e+04\n",
      "element_59                     12.1621   2.07e+04      0.001      1.000   -4.06e+04    4.06e+04\n",
      "element_60                    -13.8607   1.45e+05  -9.56e-05      1.000   -2.84e+05    2.84e+05\n",
      "element_61                    -14.0791   3.75e+05  -3.76e-05      1.000   -7.35e+05    7.35e+05\n",
      "element_62                      7.7009   3.52e+04      0.000      1.000    -6.9e+04     6.9e+04\n",
      "element_65                      7.0647   3.52e+04      0.000      1.000    -6.9e+04     6.9e+04\n",
      "element_69                    -26.6379    1.8e+05     -0.000      1.000   -3.53e+05    3.53e+05\n",
      "element_70                    -26.6030   1.26e+05     -0.000      1.000   -2.47e+05    2.47e+05\n",
      "element_71                    -26.9848   6.58e+05   -4.1e-05      1.000   -1.29e+06    1.29e+06\n",
      "element_72                     -0.8647      0.918     -0.942      0.346      -2.665       0.935\n",
      "element_73                    -26.2502   2.92e+05     -9e-05      1.000   -5.72e+05    5.72e+05\n",
      "element_74                    -26.5838   1.34e+05     -0.000      1.000   -2.63e+05    2.63e+05\n",
      "element_75                    -26.6035   1.92e+05     -0.000      1.000   -3.77e+05    3.77e+05\n",
      "element_76                     11.9479   2.07e+04      0.001      1.000   -4.06e+04    4.06e+04\n",
      "element_77                    -13.8936   4.61e+05  -3.01e-05      1.000   -9.04e+05    9.04e+05\n",
      "element_78                     11.9323   2.07e+04      0.001      1.000   -4.06e+04    4.06e+04\n",
      "element_79                    -14.0105   3.61e+05  -3.88e-05      1.000   -7.08e+05    7.08e+05\n",
      "element_80                    -13.8980   1.48e+05  -9.37e-05      1.000   -2.91e+05    2.91e+05\n",
      "element_82                     10.6752   2.07e+04      0.001      1.000   -4.06e+04    4.06e+04\n",
      "element_83                     11.3942   2.07e+04      0.001      1.000   -4.06e+04    4.06e+04\n",
      "element_84                      7.8240   3.52e+04      0.000      1.000    -6.9e+04     6.9e+04\n",
      "element_85                      7.2648   3.52e+04      0.000      1.000    -6.9e+04     6.9e+04\n",
      "element_87                      7.3401   3.52e+04      0.000      1.000    -6.9e+04     6.9e+04\n",
      "element_90                    -26.4863   1.41e+05     -0.000      1.000   -2.75e+05    2.75e+05\n",
      "element_91                     -0.9332      0.920     -1.015      0.310      -2.736       0.870\n",
      "element_92                    -26.5437   1.26e+05     -0.000      1.000   -2.47e+05    2.47e+05\n",
      "element_94                    -26.5369   1.56e+05     -0.000      1.000   -3.05e+05    3.05e+05\n",
      "element_95                    -26.5782   2.64e+05     -0.000      1.000   -5.18e+05    5.18e+05\n",
      "element_98                    -13.7392   1.79e+05  -7.69e-05      1.000    -3.5e+05     3.5e+05\n",
      "element_99                     12.5621   2.07e+04      0.001      1.000   -4.06e+04    4.06e+04\n",
      "element_101                    12.3697   2.07e+04      0.001      1.000   -4.06e+04    4.06e+04\n",
      "element_102                    11.4196   2.07e+04      0.001      1.000   -4.06e+04    4.06e+04\n",
      "element_106                    12.5403   2.07e+04      0.001      1.000   -4.06e+04    4.06e+04\n",
      "element_107                   -19.6119   6.45e+05  -3.04e-05      1.000   -1.26e+06    1.26e+06\n",
      "element_110                     7.2955   3.52e+04      0.000      1.000    -6.9e+04     6.9e+04\n",
      "element_113                   -26.5920   1.26e+05     -0.000      1.000   -2.48e+05    2.47e+05\n",
      "element_115                    -1.9828      1.230     -1.612      0.107      -4.394       0.429\n",
      "element_116                    -1.3499      1.006     -1.342      0.180      -3.322       0.622\n",
      "element_118                    -2.0097      1.230     -1.634      0.102      -4.420       0.401\n",
      "element_119                   -26.9821   4.64e+05  -5.82e-05      1.000   -9.09e+05    9.09e+05\n",
      "element_121                   -26.5959   6.58e+05  -4.04e-05      1.000   -1.29e+06    1.29e+06\n",
      "element_122                    12.7792   2.07e+04      0.001      1.000   -4.06e+04    4.06e+04\n",
      "element_123                   -14.2827   6.54e+05  -2.18e-05      1.000   -1.28e+06    1.28e+06\n",
      "element_124                    12.6956   2.07e+04      0.001      1.000   -4.06e+04    4.06e+04\n",
      "element_125                    13.3490   2.07e+04      0.001      0.999   -4.06e+04    4.06e+04\n",
      "element_126                    11.8249   2.07e+04      0.001      1.000   -4.06e+04    4.06e+04\n",
      "element_127                    12.5700   2.07e+04      0.001      1.000   -4.06e+04    4.06e+04\n",
      "element_132                    13.5103   2.07e+04      0.001      0.999   -4.06e+04    4.06e+04\n",
      "element_133                   -20.0610   6.45e+05  -3.11e-05      1.000   -1.26e+06    1.26e+06\n",
      "element_134                     7.2326   3.52e+04      0.000      1.000    -6.9e+04     6.9e+04\n",
      "element_138                    -1.8243      1.229     -1.485      0.138      -4.232       0.584\n",
      "element_140                   -26.7088   3.24e+05  -8.23e-05      1.000   -6.36e+05    6.36e+05\n",
      "element_141                     0.6458      0.925      0.698      0.485      -1.167       2.459\n",
      "element_142                    -2.0286      1.229     -1.650      0.099      -4.438       0.381\n",
      "element_143                   -26.5494   1.26e+05     -0.000      1.000   -2.47e+05    2.47e+05\n",
      "element_145                   -26.5657   1.31e+05     -0.000      1.000   -2.57e+05    2.57e+05\n",
      "element_146                   -13.8544   3.74e+05  -3.71e-05      1.000   -7.32e+05    7.32e+05\n",
      "element_147                   -13.9495   1.67e+05  -8.37e-05      1.000   -3.27e+05    3.27e+05\n",
      "element_149                    12.1113   2.07e+04      0.001      1.000   -4.06e+04    4.06e+04\n",
      "element_150                    12.5940   2.07e+04      0.001      1.000   -4.06e+04    4.06e+04\n",
      "element_151                     6.5693   3.52e+04      0.000      1.000    -6.9e+04     6.9e+04\n",
      "element_152                   -20.0563   6.45e+05  -3.11e-05      1.000   -1.26e+06    1.26e+06\n",
      "element_156                   -26.8176   3.76e+05  -7.12e-05      1.000   -7.38e+05    7.38e+05\n",
      "element_157                    -1.8116      1.231     -1.472      0.141      -4.224       0.601\n",
      "element_160                   -26.7706   3.27e+05  -8.18e-05      1.000   -6.42e+05    6.42e+05\n",
      "element_161                   -26.4955   2.43e+05     -0.000      1.000   -4.76e+05    4.75e+05\n",
      "element_162                    -2.0129      1.230     -1.637      0.102      -4.424       0.398\n",
      "element_164                    12.4292   2.07e+04      0.001      1.000   -4.06e+04    4.06e+04\n",
      "element_167                   -14.2723   4.61e+05  -3.09e-05      1.000   -9.04e+05    9.04e+05\n",
      "element_168                   -13.8830   1.47e+05  -9.45e-05      1.000   -2.88e+05    2.88e+05\n",
      "element_169                   -13.7964   2.15e+05  -6.42e-05      1.000   -4.21e+05    4.21e+05\n",
      "element_170                   -14.2412   4.63e+05  -3.08e-05      1.000   -9.07e+05    9.07e+05\n",
      "element_172                    13.0048   2.07e+04      0.001      0.999   -4.06e+04    4.06e+04\n",
      "element_175                     6.9179   3.52e+04      0.000      1.000    -6.9e+04     6.9e+04\n",
      "element_177                   -19.7299   3.65e+05  -5.41e-05      1.000   -7.15e+05    7.15e+05\n",
      "element_180                   -26.5762   1.94e+05     -0.000      1.000    -3.8e+05     3.8e+05\n",
      "element_181                   -26.5631   1.33e+05     -0.000      1.000   -2.61e+05    2.61e+05\n",
      "element_182                   -13.8724   2.44e+05  -5.69e-05      1.000   -4.78e+05    4.78e+05\n",
      "element_183                   -13.8811   2.86e+05  -4.86e-05      1.000    -5.6e+05     5.6e+05\n",
      "element_184                    11.3117   2.07e+04      0.001      1.000   -4.06e+04    4.06e+04\n",
      "element_185                   -13.5173   6.54e+05  -2.07e-05      1.000   -1.28e+06    1.28e+06\n",
      "element_189                     6.5709   3.52e+04      0.000      1.000    -6.9e+04     6.9e+04\n",
      "element_192                    -2.0263      1.230     -1.647      0.100      -4.438       0.385\n",
      "element_193                   -26.4407   1.78e+05     -0.000      1.000   -3.49e+05    3.49e+05\n",
      "element_194                   -26.3639   2.82e+05  -9.36e-05      1.000   -5.52e+05    5.52e+05\n",
      "element_195                    -0.8494      0.921     -0.922      0.356      -2.654       0.956\n",
      "element_197                   -26.7028   1.67e+05     -0.000      1.000   -3.27e+05    3.26e+05\n",
      "element_198                   -26.6006   1.55e+05     -0.000      1.000   -3.04e+05    3.03e+05\n",
      "element_199                    11.8140   2.07e+04      0.001      1.000   -4.06e+04    4.06e+04\n",
      "element_200                   -13.9355   3.75e+05  -3.72e-05      1.000   -7.35e+05    7.35e+05\n",
      "element_201                   -13.9727   1.73e+05  -8.07e-05      1.000    -3.4e+05     3.4e+05\n",
      "element_202                    11.5509   2.07e+04      0.001      1.000   -4.06e+04    4.06e+04\n",
      "element_206                   -13.8456   2.12e+05  -6.53e-05      1.000   -4.16e+05    4.16e+05\n",
      "element_208                   -13.6465    3.2e+05  -4.27e-05      1.000   -6.27e+05    6.27e+05\n",
      "element_210                   -19.5189   2.62e+05  -7.45e-05      1.000   -5.13e+05    5.13e+05\n",
      "element_211                     5.6560   3.52e+04      0.000      1.000    -6.9e+04     6.9e+04\n",
      "element_212                   -19.6246   3.11e+05  -6.31e-05      1.000    -6.1e+05     6.1e+05\n",
      "element_215                    -1.5121      1.232     -1.228      0.220      -3.926       0.902\n",
      "element_216                   -26.2868   6.58e+05     -4e-05      1.000   -1.29e+06    1.29e+06\n",
      "element_217                   -26.5931   6.58e+05  -4.04e-05      1.000   -1.29e+06    1.29e+06\n",
      "element_219                   -26.5045   1.28e+05     -0.000      1.000   -2.51e+05    2.51e+05\n",
      "element_220                    -0.5200      0.922     -0.564      0.573      -2.327       1.287\n",
      "element_221                    -1.1318      1.008     -1.123      0.261      -3.107       0.844\n",
      "element_222                   -26.3933   2.02e+05     -0.000      1.000   -3.97e+05    3.97e+05\n",
      "element_223                    13.7545   2.07e+04      0.001      0.999   -4.06e+04    4.06e+04\n",
      "element_224                    11.8796   2.07e+04      0.001      1.000   -4.06e+04    4.06e+04\n",
      "element_225                    13.0615   2.07e+04      0.001      0.999   -4.06e+04    4.06e+04\n",
      "element_226                   -13.9236   2.63e+05  -5.29e-05      1.000   -5.16e+05    5.16e+05\n",
      "element_227                    11.4285   2.07e+04      0.001      1.000   -4.06e+04    4.06e+04\n",
      "element_228                   -13.8954   6.54e+05  -2.12e-05      1.000   -1.28e+06    1.28e+06\n",
      "element_230                   -13.4239   4.44e+05  -3.02e-05      1.000   -8.71e+05    8.71e+05\n",
      "element_233                    12.8965   2.07e+04      0.001      1.000   -4.06e+04    4.06e+04\n",
      "element_234                     6.2087   3.52e+04      0.000      1.000    -6.9e+04     6.9e+04\n",
      "element_236                   -19.7585   3.71e+05  -5.33e-05      1.000   -7.27e+05    7.27e+05\n",
      "element_239                    -1.0102      1.232     -0.820      0.412      -3.425       1.405\n",
      "element_240                   -26.8807   6.58e+05  -4.09e-05      1.000   -1.29e+06    1.29e+06\n",
      "element_241                   -26.6415   2.92e+05  -9.12e-05      1.000   -5.73e+05    5.72e+05\n",
      "element_242                   -26.4518   1.92e+05     -0.000      1.000   -3.76e+05    3.76e+05\n",
      "element_243                    -0.9231      1.234     -0.748      0.454      -3.342       1.495\n",
      "element_245                    -1.5484      1.232     -1.257      0.209      -3.962       0.865\n",
      "element_246                    -2.0363      1.230     -1.655      0.098      -4.448       0.375\n",
      "element_247                   -26.5325   1.36e+05     -0.000      1.000   -2.67e+05    2.67e+05\n",
      "element_249                   -13.9031   2.12e+05  -6.55e-05      1.000   -4.16e+05    4.16e+05\n",
      "element_251                    13.1291   2.07e+04      0.001      0.999   -4.06e+04    4.06e+04\n",
      "element_252                    11.2156   2.07e+04      0.001      1.000   -4.06e+04    4.06e+04\n",
      "element_253                    13.6108   2.07e+04      0.001      0.999   -4.06e+04    4.06e+04\n",
      "element_254                    12.0679   2.07e+04      0.001      1.000   -4.06e+04    4.06e+04\n",
      "element_255                   -13.8981   1.86e+05  -7.46e-05      1.000   -3.65e+05    3.65e+05\n",
      "element_256                   -13.9727    2.9e+05  -4.82e-05      1.000   -5.68e+05    5.68e+05\n",
      "element_257                     7.3690   3.52e+04      0.000      1.000    -6.9e+04     6.9e+04\n",
      "element_258                     6.3221   3.52e+04      0.000      1.000    -6.9e+04     6.9e+04\n",
      "element_262                   -26.3865   1.61e+05     -0.000      1.000   -3.15e+05    3.15e+05\n",
      "element_263                   -26.7884   2.86e+05  -9.37e-05      1.000   -5.61e+05     5.6e+05\n",
      "element_264                   -26.7739   2.17e+05     -0.000      1.000   -4.25e+05    4.25e+05\n",
      "element_265                    -1.8328      1.230     -1.490      0.136      -4.243       0.578\n",
      "element_266                    -0.5918      1.232     -0.481      0.631      -3.006       1.822\n",
      "element_267                   -26.5229   2.12e+05     -0.000      1.000   -4.16e+05    4.16e+05\n",
      "element_268                    -1.4002      1.006     -1.392      0.164      -3.371       0.571\n",
      "element_269                   -26.4532   2.63e+05     -0.000      1.000   -5.16e+05    5.16e+05\n",
      "element_270                    13.2727   2.07e+04      0.001      0.999   -4.06e+04    4.06e+04\n",
      "element_271                    12.7388   2.07e+04      0.001      1.000   -4.06e+04    4.06e+04\n",
      "element_272                    10.8571   2.07e+04      0.001      1.000   -4.06e+04    4.06e+04\n",
      "element_273                   -13.9944   4.62e+05  -3.03e-05      1.000   -9.06e+05    9.06e+05\n",
      "element_274                    12.9292   2.07e+04      0.001      1.000   -4.06e+04    4.06e+04\n",
      "element_275                    13.4588   2.07e+04      0.001      0.999   -4.06e+04    4.06e+04\n",
      "element_276                    11.9933   2.07e+04      0.001      1.000   -4.06e+04    4.06e+04\n",
      "element_279                   -14.2714   3.71e+05  -3.85e-05      1.000   -7.26e+05    7.26e+05\n",
      "element_280                     7.1345   3.52e+04      0.000      1.000    -6.9e+04     6.9e+04\n",
      "element_281                     7.6301   3.52e+04      0.000      1.000    -6.9e+04     6.9e+04\n",
      "element_284                    -1.2900      1.232     -1.047      0.295      -3.705       1.125\n",
      "element_285                   -26.8190   2.15e+05     -0.000      1.000   -4.22e+05    4.22e+05\n",
      "element_286                    -1.7550      1.232     -1.425      0.154      -4.169       0.659\n",
      "element_288                   -26.5576   2.88e+05  -9.21e-05      1.000   -5.65e+05    5.65e+05\n",
      "element_289                   -26.4757   3.19e+05   -8.3e-05      1.000   -6.25e+05    6.25e+05\n",
      "element_291                   -26.4562   2.85e+05  -9.29e-05      1.000   -5.58e+05    5.58e+05\n",
      "element_292                    -1.7843      1.232     -1.448      0.148      -4.199       0.631\n",
      "element_293                    -1.7136      1.230     -1.393      0.164      -4.124       0.697\n",
      "element_294                   -26.8988   3.25e+05  -8.27e-05      1.000   -6.37e+05    6.37e+05\n",
      "element_295                   -14.1084   6.54e+05  -2.16e-05      1.000   -1.28e+06    1.28e+06\n",
      "element_296                    10.7370   2.07e+04      0.001      1.000   -4.06e+04    4.06e+04\n",
      "element_297                    12.2726   2.07e+04      0.001      1.000   -4.06e+04    4.06e+04\n",
      "element_298                   -13.8653   2.62e+05   -5.3e-05      1.000   -5.13e+05    5.13e+05\n",
      "element_299                    12.3417   2.07e+04      0.001      1.000   -4.06e+04    4.06e+04\n",
      "element_300                    12.8178   2.07e+04      0.001      1.000   -4.06e+04    4.06e+04\n",
      "element_301                    13.7628   2.07e+04      0.001      0.999   -4.06e+04    4.06e+04\n",
      "element_302                    13.0125   2.07e+04      0.001      0.999   -4.06e+04    4.06e+04\n",
      "element_303                   -14.0247    4.6e+05  -3.05e-05      1.000   -9.02e+05    9.01e+05\n",
      "element_304                   -13.8087   3.76e+05  -3.68e-05      1.000   -7.36e+05    7.36e+05\n",
      "element_305                     7.0415   3.52e+04      0.000      1.000    -6.9e+04     6.9e+04\n",
      "element_306                     7.2878   3.52e+04      0.000      1.000    -6.9e+04     6.9e+04\n",
      "element_310                    -1.8505      1.230     -1.504      0.133      -4.262       0.561\n",
      "element_311                    -0.2211      1.009     -0.219      0.827      -2.198       1.756\n",
      "element_312                   -26.5267   1.43e+05     -0.000      1.000    -2.8e+05     2.8e+05\n",
      "element_313                   -26.6392   1.73e+05     -0.000      1.000   -3.38e+05    3.38e+05\n",
      "element_314                   -26.3899   2.81e+05  -9.41e-05      1.000    -5.5e+05     5.5e+05\n",
      "element_315                   -26.5647   3.26e+05  -8.14e-05      1.000   -6.39e+05    6.39e+05\n",
      "element_317                    11.2257   2.07e+04      0.001      1.000   -4.06e+04    4.06e+04\n",
      "element_318                   -14.0203   2.42e+05  -5.79e-05      1.000   -4.74e+05    4.74e+05\n",
      "element_319                   -13.8826   1.52e+05  -9.14e-05      1.000   -2.98e+05    2.98e+05\n",
      "element_320                   -13.7242   2.13e+05  -6.45e-05      1.000   -4.17e+05    4.17e+05\n",
      "element_323                    11.9798   2.07e+04      0.001      1.000   -4.06e+04    4.06e+04\n",
      "element_324                   -13.9275   2.28e+05  -6.11e-05      1.000   -4.47e+05    4.47e+05\n",
      "element_326                     5.9656   3.52e+04      0.000      1.000    -6.9e+04     6.9e+04\n",
      "element_327                   -19.7634   3.16e+05  -6.25e-05      1.000   -6.19e+05    6.19e+05\n",
      "element_330                    -1.4539      1.231     -1.181      0.238      -3.867       0.960\n",
      "element_331                   -26.4616   2.28e+05     -0.000      1.000   -4.47e+05    4.47e+05\n",
      "element_332                    -1.4754      1.231     -1.198      0.231      -3.889       0.938\n",
      "element_333                    -1.3462      1.233     -1.092      0.275      -3.763       1.070\n",
      "element_335                   -26.5830   1.94e+05     -0.000      1.000   -3.81e+05    3.81e+05\n",
      "element_336                   -26.6182   1.77e+05     -0.000      1.000   -3.48e+05    3.48e+05\n",
      "element_337                   -13.3898   6.54e+05  -2.05e-05      1.000   -1.28e+06    1.28e+06\n",
      "element_338                    13.0069   2.07e+04      0.001      0.999   -4.06e+04    4.06e+04\n",
      "element_339                   -13.9086   2.03e+05  -6.85e-05      1.000   -3.98e+05    3.98e+05\n",
      "element_340                    11.7744   2.07e+04      0.001      1.000   -4.06e+04    4.06e+04\n",
      "element_343                    11.8135   2.07e+04      0.001      1.000   -4.06e+04    4.06e+04\n",
      "element_344                   -13.9107   1.66e+05  -8.39e-05      1.000   -3.25e+05    3.25e+05\n",
      "element_345                    12.3818   2.07e+04      0.001      1.000   -4.06e+04    4.06e+04\n",
      "element_346                   -13.7019   4.61e+05  -2.97e-05      1.000   -9.04e+05    9.04e+05\n",
      "element_347                   -19.6645   4.39e+05  -4.48e-05      1.000    -8.6e+05     8.6e+05\n",
      "element_349                     7.2895   3.52e+04      0.000      1.000    -6.9e+04     6.9e+04\n",
      "element_353                   -26.5804   1.38e+05     -0.000      1.000    -2.7e+05     2.7e+05\n",
      "element_354                   -26.6962   1.94e+05     -0.000      1.000    -3.8e+05     3.8e+05\n",
      "element_355                    -1.1643      1.233     -0.945      0.345      -3.580       1.251\n",
      "element_356                   -26.5444   1.79e+05     -0.000      1.000   -3.52e+05    3.52e+05\n",
      "element_357                    -1.7451      1.231     -1.418      0.156      -4.157       0.667\n",
      "element_358                   -26.9169   6.58e+05  -4.09e-05      1.000   -1.29e+06    1.29e+06\n",
      "element_359                    -1.3660      1.232     -1.109      0.267      -3.780       1.048\n",
      "element_360                   -26.4586   3.75e+05  -7.06e-05      1.000   -7.35e+05    7.35e+05\n",
      "element_361                    12.3058   2.07e+04      0.001      1.000   -4.06e+04    4.06e+04\n",
      "element_362                   -13.7825   3.76e+05  -3.67e-05      1.000   -7.36e+05    7.36e+05\n",
      "element_363                    13.1355   2.07e+04      0.001      0.999   -4.06e+04    4.06e+04\n",
      "element_364                    12.2901   2.07e+04      0.001      1.000   -4.06e+04    4.06e+04\n",
      "element_365                    12.6445   2.07e+04      0.001      1.000   -4.06e+04    4.06e+04\n",
      "element_366                   -13.5770   6.54e+05  -2.08e-05      1.000   -1.28e+06    1.28e+06\n",
      "element_367                    13.6064   2.07e+04      0.001      0.999   -4.06e+04    4.06e+04\n",
      "element_368                    11.2514   2.07e+04      0.001      1.000   -4.06e+04    4.06e+04\n",
      "element_369                   -13.8315   1.71e+05  -8.07e-05      1.000   -3.36e+05    3.36e+05\n",
      "element_370                    13.1645   2.07e+04      0.001      0.999   -4.06e+04    4.06e+04\n",
      "element_371                     7.2895   3.52e+04      0.000      1.000    -6.9e+04     6.9e+04\n",
      "element_372                     7.5934   3.52e+04      0.000      1.000    -6.9e+04     6.9e+04\n",
      "element_376                    -0.9174      0.920     -0.997      0.319      -2.721       0.886\n",
      "element_378                    -0.8168      0.920     -0.888      0.375      -2.620       0.987\n",
      "element_380                   -26.6426   1.86e+05     -0.000      1.000   -3.64e+05    3.64e+05\n",
      "element_381                   -26.6418   2.13e+05     -0.000      1.000   -4.18e+05    4.18e+05\n",
      "element_382                   -26.5751   1.78e+05     -0.000      1.000   -3.49e+05    3.49e+05\n",
      "element_383                   -26.6345   1.73e+05     -0.000      1.000   -3.39e+05    3.39e+05\n",
      "element_386                   -26.6839   3.64e+05  -7.33e-05      1.000   -7.13e+05    7.13e+05\n",
      "element_387                   -14.2750   6.54e+05  -2.18e-05      1.000   -1.28e+06    1.28e+06\n",
      "element_388                   -13.9556   4.48e+05  -3.12e-05      1.000   -8.77e+05    8.77e+05\n",
      "element_389                    10.7618   2.07e+04      0.001      1.000   -4.06e+04    4.06e+04\n",
      "element_390                    11.4667   2.07e+04      0.001      1.000   -4.06e+04    4.06e+04\n",
      "element_391                    12.6049   2.07e+04      0.001      1.000   -4.06e+04    4.06e+04\n",
      "element_392                   -13.7919   2.13e+05  -6.47e-05      1.000   -4.18e+05    4.18e+05\n",
      "element_393                    13.1620   2.07e+04      0.001      0.999   -4.06e+04    4.06e+04\n",
      "element_394                    12.5711   2.07e+04      0.001      1.000   -4.06e+04    4.06e+04\n",
      "element_395                     8.2310   3.52e+04      0.000      1.000    -6.9e+04     6.9e+04\n",
      "element_396                     6.6693   3.52e+04      0.000      1.000    -6.9e+04     6.9e+04\n",
      "element_402                   -26.6613   1.93e+05     -0.000      1.000   -3.79e+05    3.79e+05\n",
      "element_403                   -26.7205   1.93e+05     -0.000      1.000   -3.79e+05    3.78e+05\n",
      "element_405                   -26.6478   1.56e+05     -0.000      1.000   -3.07e+05    3.07e+05\n",
      "element_406                    -1.9852      1.230     -1.614      0.107      -4.396       0.426\n",
      "element_408                   -25.9678   3.28e+05  -7.91e-05      1.000   -6.43e+05    6.43e+05\n",
      "element_409                   -26.5945   1.31e+05     -0.000      1.000   -2.57e+05    2.57e+05\n",
      "element_410                   -13.8430   1.79e+05  -7.75e-05      1.000    -3.5e+05     3.5e+05\n",
      "element_411                    11.9620   2.07e+04      0.001      1.000   -4.06e+04    4.06e+04\n",
      "element_412                   -13.8528   1.93e+05  -7.16e-05      1.000   -3.79e+05    3.79e+05\n",
      "element_413                   -13.8924    2.9e+05  -4.79e-05      1.000   -5.69e+05    5.69e+05\n",
      "element_415                    12.3471   2.07e+04      0.001      1.000   -4.06e+04    4.06e+04\n",
      "element_417                     7.2243   3.52e+04      0.000      1.000    -6.9e+04     6.9e+04\n",
      "element_419                     8.7373   3.52e+04      0.000      1.000    -6.9e+04     6.9e+04\n",
      "element_423                    -0.8110      0.921     -0.880      0.379      -2.617       0.995\n",
      "element_425                    -0.7712      0.921     -0.838      0.402      -2.576       1.033\n",
      "element_426                     0.0067      1.011      0.007      0.995      -1.975       1.988\n",
      "element_427                    -1.9803      1.231     -1.609      0.108      -4.392       0.432\n",
      "element_430                   -26.5286   1.26e+05     -0.000      1.000   -2.48e+05    2.48e+05\n",
      "element_431                   -26.7667   3.76e+05  -7.12e-05      1.000   -7.37e+05    7.37e+05\n",
      "element_432                    13.2319   2.07e+04      0.001      0.999   -4.06e+04    4.06e+04\n",
      "element_433                    11.5571   2.07e+04      0.001      1.000   -4.06e+04    4.06e+04\n",
      "element_435                   -13.7631   4.62e+05  -2.98e-05      1.000   -9.06e+05    9.06e+05\n",
      "element_437                     7.0696   3.52e+04      0.000      1.000    -6.9e+04     6.9e+04\n",
      "element_440                   -26.6921   2.16e+05     -0.000      1.000   -4.24e+05    4.24e+05\n",
      "element_441                   -26.6156   6.58e+05  -4.05e-05      1.000   -1.29e+06    1.29e+06\n",
      "element_447                   -13.6063   3.67e+05  -3.71e-05      1.000    -7.2e+05     7.2e+05\n",
      "element_450                    11.8643   2.07e+04      0.001      1.000   -4.06e+04    4.06e+04\n",
      "element_451                   -13.8614   1.72e+05  -8.06e-05      1.000   -3.37e+05    3.37e+05\n",
      "element_453                   -14.0504   6.54e+05  -2.15e-05      1.000   -1.28e+06    1.28e+06\n",
      "element_455                   -26.5353   1.59e+05     -0.000      1.000   -3.12e+05    3.12e+05\n",
      "element_456                    11.2364   2.07e+04      0.001      1.000   -4.06e+04    4.06e+04\n",
      "element_458                   -14.0658   2.15e+05  -6.55e-05      1.000   -4.21e+05    4.21e+05\n",
      "element_459                    10.9471   2.07e+04      0.001      1.000   -4.06e+04    4.06e+04\n",
      "element_460                   -26.5504   1.83e+05     -0.000      1.000   -3.59e+05    3.59e+05\n",
      "element_461                   -26.6905   1.93e+05     -0.000      1.000   -3.78e+05    3.78e+05\n",
      "element_462                    13.0572   2.07e+04      0.001      0.999   -4.06e+04    4.06e+04\n",
      "element_463                   -26.6284   1.65e+05     -0.000      1.000   -3.23e+05    3.23e+05\n",
      "element_464                    -1.5049      1.231     -1.222      0.222      -3.918       0.908\n",
      "element_465                    12.7637   2.07e+04      0.001      1.000   -4.06e+04    4.06e+04\n",
      "element_466                   -13.8860   2.63e+05  -5.28e-05      1.000   -5.16e+05    5.16e+05\n",
      "element_467                   -26.6341   2.44e+05     -0.000      1.000   -4.78e+05    4.78e+05\n",
      "element_471                   -13.9147    4.6e+05  -3.02e-05      1.000   -9.02e+05    9.02e+05\n",
      "element_472                   -20.0764   4.54e+05  -4.42e-05      1.000    -8.9e+05     8.9e+05\n",
      "element_473                   -26.2518   3.56e+05  -7.37e-05      1.000   -6.98e+05    6.98e+05\n",
      "element_475                   -13.8548   1.57e+05   -8.8e-05      1.000   -3.09e+05    3.09e+05\n",
      "element_476                   -13.6667   3.72e+05  -3.67e-05      1.000    -7.3e+05     7.3e+05\n",
      "element_478                    13.0154   2.07e+04      0.001      0.999   -4.06e+04    4.06e+04\n",
      "element_479                   -26.6111   2.05e+05     -0.000      1.000   -4.01e+05    4.01e+05\n",
      "element_480                     7.0919   3.52e+04      0.000      1.000    -6.9e+04     6.9e+04\n",
      "element_481                   -14.1084   6.54e+05  -2.16e-05      1.000   -1.28e+06    1.28e+06\n",
      "element_482                    -0.5529      1.009     -0.548      0.584      -2.530       1.424\n",
      "element_483                    -1.5173      1.232     -1.232      0.218      -3.931       0.897\n",
      "element_484                    -0.7572      0.920     -0.823      0.411      -2.561       1.047\n",
      "element_486                   -13.8146   2.82e+05   -4.9e-05      1.000   -5.53e+05    5.53e+05\n",
      "element_487                   -26.3525   2.02e+05     -0.000      1.000   -3.95e+05    3.95e+05\n",
      "element_488                   -19.0757   6.45e+05  -2.96e-05      1.000   -1.26e+06    1.26e+06\n",
      "element_489                    12.1956   2.07e+04      0.001      1.000   -4.06e+04    4.06e+04\n",
      "element_492                    13.2268   2.07e+04      0.001      0.999   -4.06e+04    4.06e+04\n",
      "element_493                     6.9752   3.52e+04      0.000      1.000    -6.9e+04     6.9e+04\n",
      "element_494                   -13.9054    1.6e+05   -8.7e-05      1.000   -3.13e+05    3.13e+05\n",
      "element_503                   -26.5572   1.53e+05     -0.000      1.000   -2.99e+05    2.99e+05\n",
      "element_504                    12.2215   2.07e+04      0.001      1.000   -4.06e+04    4.06e+04\n",
      "element_505                     6.4074   3.52e+04      0.000      1.000    -6.9e+04     6.9e+04\n",
      "element_506                    -0.6248      1.236     -0.506      0.613      -3.047       1.797\n",
      "element_507                   -13.6834   3.74e+05  -3.66e-05      1.000   -7.32e+05    7.32e+05\n",
      "element_508                    11.5703   2.07e+04      0.001      1.000   -4.06e+04    4.06e+04\n",
      "element_510                   -26.4343   2.15e+05     -0.000      1.000   -4.22e+05    4.22e+05\n",
      "element_511                   -26.5683   2.86e+05  -9.28e-05      1.000   -5.61e+05    5.61e+05\n",
      "element_512                   -13.7677   3.73e+05  -3.69e-05      1.000    -7.3e+05     7.3e+05\n",
      "element_513                   -19.7464   3.67e+05  -5.39e-05      1.000   -7.18e+05    7.18e+05\n",
      "element_514                   -13.8906   4.59e+05  -3.03e-05      1.000   -8.99e+05    8.99e+05\n",
      "element_515                   -26.8377   4.65e+05  -5.77e-05      1.000   -9.11e+05    9.11e+05\n",
      "element_516                   -26.6402   1.78e+05     -0.000      1.000   -3.49e+05    3.49e+05\n",
      "element_517                    13.0625   2.07e+04      0.001      0.999   -4.06e+04    4.06e+04\n",
      "element_518                   -13.2322   4.62e+05  -2.86e-05      1.000   -9.06e+05    9.06e+05\n",
      "element_519                    12.5340   2.07e+04      0.001      1.000   -4.06e+04    4.06e+04\n",
      "element_522                     1.5659      1.273      1.230      0.219      -0.929       4.061\n",
      "element_524                   -19.8223    3.7e+05  -5.35e-05      1.000   -7.26e+05    7.26e+05\n",
      "element_526                    -1.8596      1.230     -1.512      0.131      -4.270       0.551\n",
      "element_527                   -13.7770   1.47e+05  -9.37e-05      1.000   -2.88e+05    2.88e+05\n",
      "element_531                   -13.6800    2.8e+05  -4.89e-05      1.000   -5.48e+05    5.48e+05\n",
      "element_534                    12.4621   2.07e+04      0.001      1.000   -4.06e+04    4.06e+04\n",
      "element_535                   -14.1182    4.5e+05  -3.14e-05      1.000   -8.81e+05    8.81e+05\n",
      "element_539                   -14.2002   6.54e+05  -2.17e-05      1.000   -1.28e+06    1.28e+06\n",
      "element_549                    -0.6947      1.234     -0.563      0.573      -3.113       1.723\n",
      "element_556                   -26.3986   2.88e+05  -9.15e-05      1.000   -5.65e+05    5.65e+05\n",
      "element_565                   -26.2045   6.58e+05  -3.98e-05      1.000   -1.29e+06    1.29e+06\n",
      "element_570                   -14.3549   6.54e+05  -2.19e-05      1.000   -1.28e+06    1.28e+06\n",
      "element_571                   -13.5285    4.6e+05  -2.94e-05      1.000   -9.02e+05    9.02e+05\n",
      "element_575                   -14.1182    4.5e+05  -3.14e-05      1.000   -8.81e+05    8.81e+05\n",
      "element_579                     7.9366   3.52e+04      0.000      1.000    -6.9e+04     6.9e+04\n",
      "element_591                   -13.3897   6.54e+05  -2.05e-05      1.000   -1.28e+06    1.28e+06\n",
      "opposition_team_was_home_2     -0.4034      0.679     -0.594      0.553      -1.735       0.928\n",
      "opposition_team_was_home_3      0.0165      0.662      0.025      0.980      -1.281       1.314\n",
      "opposition_team_was_home_4     -0.8791      0.665     -1.322      0.186      -2.183       0.424\n",
      "opposition_team_was_home_5     -0.7129      0.657     -1.085      0.278      -2.001       0.575\n",
      "opposition_team_was_home_6      0.4327      0.809      0.535      0.593      -1.152       2.017\n",
      "opposition_team_was_home_7     -0.4836      0.717     -0.674      0.500      -1.889       0.922\n",
      "opposition_team_was_home_8     -0.7347      0.694     -1.058      0.290      -2.095       0.626\n",
      "opposition_team_was_home_9     -0.6705      0.655     -1.024      0.306      -1.954       0.613\n",
      "opposition_team_was_home_10    -0.4641      0.671     -0.692      0.489      -1.779       0.851\n",
      "opposition_team_was_home_11    -0.3691      0.692     -0.533      0.594      -1.725       0.987\n",
      "opposition_team_was_home_12    -0.5261      0.811     -0.649      0.517      -2.116       1.063\n",
      "opposition_team_was_home_13    -0.7470      0.751     -0.995      0.320      -2.218       0.724\n",
      "opposition_team_was_home_14    -0.7102      0.728     -0.975      0.329      -2.137       0.717\n",
      "opposition_team_was_home_15    -0.8613      0.699     -1.232      0.218      -2.232       0.509\n",
      "opposition_team_was_home_16    -0.8332      0.657     -1.268      0.205      -2.121       0.455\n",
      "opposition_team_was_home_17    -0.3331      0.751     -0.443      0.658      -1.806       1.140\n",
      "opposition_team_was_home_18    -0.9077      0.691     -1.314      0.189      -2.262       0.446\n",
      "opposition_team_was_home_19    -0.5530      0.690     -0.802      0.423      -1.905       0.799\n",
      "opposition_team_was_home_20    -1.7914      0.732     -2.446      0.014      -3.227      -0.356\n",
      "===============================================================================================\n"
     ]
    }
   ],
   "source": [
    "print(sphm_results.summary())"
   ]
  },
  {
   "cell_type": "markdown",
   "metadata": {
    "hidden": true
   },
   "source": [
    "### Model fit"
   ]
  },
  {
   "cell_type": "code",
   "execution_count": 64,
   "metadata": {
    "ExecuteTime": {
     "end_time": "2019-02-23T16:30:09.376572Z",
     "start_time": "2019-02-23T16:30:09.372379Z"
    },
    "hidden": true
   },
   "outputs": [
    {
     "data": {
      "text/plain": [
       "3022.465689149022"
      ]
     },
     "execution_count": 64,
     "metadata": {},
     "output_type": "execute_result"
    }
   ],
   "source": [
    "sphm_results.aic"
   ]
  },
  {
   "cell_type": "code",
   "execution_count": 65,
   "metadata": {
    "ExecuteTime": {
     "end_time": "2019-02-23T16:30:09.455154Z",
     "start_time": "2019-02-23T16:30:09.379336Z"
    },
    "hidden": true
   },
   "outputs": [
    {
     "data": {
      "text/plain": [
       "-28032.398731066154"
      ]
     },
     "execution_count": 65,
     "metadata": {},
     "output_type": "execute_result"
    }
   ],
   "source": [
    "sphm_results.bic"
   ]
  },
  {
   "cell_type": "code",
   "execution_count": 66,
   "metadata": {
    "ExecuteTime": {
     "end_time": "2019-02-23T16:30:09.480676Z",
     "start_time": "2019-02-23T16:30:09.457415Z"
    },
    "hidden": true
   },
   "outputs": [
    {
     "data": {
      "text/plain": [
       "(False, 1.1346605574959228e-79)"
      ]
     },
     "execution_count": 66,
     "metadata": {},
     "output_type": "execute_result"
    }
   ],
   "source": [
    "sphm_pearson_results = goodness_fit.pearson_chi_squared_test(sphm_results)\n",
    "sphm_pearson_results"
   ]
  },
  {
   "cell_type": "code",
   "execution_count": 67,
   "metadata": {
    "ExecuteTime": {
     "end_time": "2019-02-23T16:30:09.515550Z",
     "start_time": "2019-02-23T16:30:09.482654Z"
    },
    "hidden": true
   },
   "outputs": [
    {
     "name": "stderr",
     "output_type": "stream",
     "text": [
      "/home/tom/footbot/venv/lib/python3.6/site-packages/statsmodels/genmod/families/family.py:340: RuntimeWarning: invalid value encountered in sqrt\n",
      "  np.sqrt(2 * (endog * np.log(endog_mu) - (endog - mu))) / scale)\n"
     ]
    },
    {
     "data": {
      "text/plain": [
       "count    3949.000000\n",
       "mean       -0.138309\n",
       "std         0.559324\n",
       "min        -1.424218\n",
       "25%        -0.453218\n",
       "50%        -0.189237\n",
       "75%        -0.000001\n",
       "max         2.434043\n",
       "dtype: float64"
      ]
     },
     "execution_count": 67,
     "metadata": {},
     "output_type": "execute_result"
    }
   ],
   "source": [
    "sphm_results.resid_deviance.describe()"
   ]
  },
  {
   "cell_type": "code",
   "execution_count": 68,
   "metadata": {
    "ExecuteTime": {
     "end_time": "2019-02-23T16:30:09.818156Z",
     "start_time": "2019-02-23T16:30:09.517454Z"
    },
    "hidden": true
   },
   "outputs": [
    {
     "name": "stderr",
     "output_type": "stream",
     "text": [
      "/home/tom/footbot/venv/lib/python3.6/site-packages/numpy/lib/histograms.py:754: RuntimeWarning: invalid value encountered in greater_equal\n",
      "  keep = (tmp_a >= first_edge)\n",
      "/home/tom/footbot/venv/lib/python3.6/site-packages/numpy/lib/histograms.py:755: RuntimeWarning: invalid value encountered in less_equal\n",
      "  keep &= (tmp_a <= last_edge)\n"
     ]
    },
    {
     "data": {
      "image/png": "[encoded data removed]",
      "text/plain": [
       "<Figure size 432x288 with 1 Axes>"
      ]
     },
     "metadata": {
      "needs_background": "light"
     },
     "output_type": "display_data"
    }
   ],
   "source": [
    "plt.figure()\n",
    "plt.hist(sphm_results.resid_deviance)\n",
    "plt.show()"
   ]
  },
  {
   "cell_type": "markdown",
   "metadata": {
    "heading_collapsed": true
   },
   "source": [
    "## Simple Gaussian model"
   ]
  },
  {
   "cell_type": "markdown",
   "metadata": {
    "hidden": true
   },
   "source": [
    "### Preparing data"
   ]
  },
  {
   "cell_type": "code",
   "execution_count": 71,
   "metadata": {
    "ExecuteTime": {
     "end_time": "2019-02-23T16:30:25.350981Z",
     "start_time": "2019-02-23T16:30:25.343725Z"
    },
    "hidden": true
   },
   "outputs": [],
   "source": [
    "sgm_df = element_gameweek_df.copy()"
   ]
  },
  {
   "cell_type": "code",
   "execution_count": 72,
   "metadata": {
    "ExecuteTime": {
     "end_time": "2019-02-23T16:30:25.569658Z",
     "start_time": "2019-02-23T16:30:25.556907Z"
    },
    "hidden": true
   },
   "outputs": [],
   "source": [
    "sgm_redundant_columns = [\n",
    "    'row_id', 'assists', 'attempted_passes', 'big_chances_created',\n",
    "    'big_chances_missed', 'bonus', 'bps', 'clean_sheets',\n",
    "    'clearances_blocks_interceptions', 'completed_passes', 'creativity',\n",
    "    'dribbles', 'ea_index', 'element', 'errors_leading_to_goal',\n",
    "    'errors_leading_to_goal_attempt', 'fixture', 'fouls', 'goals_conceded',\n",
    "    'ict_index', 'id', 'influence', 'key_passes', 'kickoff_time',\n",
    "    'kickoff_time_formatted', 'loaned_in', 'loaned_out', 'minutes', 'offside',\n",
    "    'open_play_crosses', 'opponent_team', 'own_goals', 'penalties_conceded',\n",
    "    'penalties_missed', 'penalties_saved', 'recoveries', 'red_cards', 'round',\n",
    "    'saves', 'selected', 'tackled', 'tackles', 'target_missed', 'team_a_score',\n",
    "    'team_h_score', 'threat', 'total_points', 'transfers_balance',\n",
    "    'transfers_in', 'transfers_out', 'value', 'winning_goals',\n",
    "    'yellow_cards', 'event', 'team_a', 'team_a_difficulty', 'team_h',\n",
    "    'team_h_difficulty', 'element_type', 'team', 'web_name', 'safe_web_name',\n",
    "    'own_team', 'opposition_team'\n",
    "]"
   ]
  },
  {
   "cell_type": "code",
   "execution_count": 73,
   "metadata": {
    "ExecuteTime": {
     "end_time": "2019-02-23T16:30:25.646436Z",
     "start_time": "2019-02-23T16:30:25.587532Z"
    },
    "hidden": true
   },
   "outputs": [],
   "source": [
    "sgm_df = player.remove_redundant_columns(sgm_df, sgm_redundant_columns)"
   ]
  },
  {
   "cell_type": "code",
   "execution_count": 74,
   "metadata": {
    "ExecuteTime": {
     "end_time": "2019-02-23T16:30:26.018981Z",
     "start_time": "2019-02-23T16:30:26.006277Z"
    },
    "hidden": true
   },
   "outputs": [],
   "source": [
    "sgm_response_df, sgm_explanatory_df = player.get_response_explanatory_dfs(sgm_df, 'goals_scored')"
   ]
  },
  {
   "cell_type": "markdown",
   "metadata": {
    "hidden": true
   },
   "source": [
    "### Fitting model"
   ]
  },
  {
   "cell_type": "code",
   "execution_count": 75,
   "metadata": {
    "ExecuteTime": {
     "end_time": "2019-02-23T16:30:26.282636Z",
     "start_time": "2019-02-23T16:30:26.268218Z"
    },
    "hidden": true
   },
   "outputs": [],
   "source": [
    "sgm_results = sm.GLM(\n",
    "    sgm_response_df,\n",
    "    sgm_explanatory_df,\n",
    "    family=sm.families.Gaussian(),\n",
    "    missing='drop'\n",
    ").fit()"
   ]
  },
  {
   "cell_type": "code",
   "execution_count": 76,
   "metadata": {
    "ExecuteTime": {
     "end_time": "2019-02-23T16:30:26.379554Z",
     "start_time": "2019-02-23T16:30:26.366568Z"
    },
    "hidden": true
   },
   "outputs": [
    {
     "name": "stdout",
     "output_type": "stream",
     "text": [
      "                  Generalized Linear Model Regression Results                  \n",
      "===============================================================================\n",
      "Dep. Variable:           goals_scored   No. Observations:                  3952\n",
      "Model:                            GLM   Df Residuals:                      3950\n",
      "Model Family:                Gaussian   Df Model:                             1\n",
      "Link Function:               identity   Scale:              0.13573081294926206\n",
      "Method:                          IRLS   Log-Likelihood:                 -1660.4\n",
      "Date:                Sat, 23 Feb 2019   Deviance:                        536.14\n",
      "Time:                        16:30:26   Pearson chi2:                      536.\n",
      "No. Iterations:                     2                                          \n",
      "==============================================================================\n",
      "                 coef    std err          z      P>|z|      [0.025      0.975]\n",
      "------------------------------------------------------------------------------\n",
      "const          0.1103      0.008     13.342      0.000       0.094       0.127\n",
      "was_home       0.0244      0.012      2.081      0.037       0.001       0.047\n",
      "==============================================================================\n"
     ]
    }
   ],
   "source": [
    "print(sgm_results.summary())"
   ]
  },
  {
   "cell_type": "markdown",
   "metadata": {
    "hidden": true
   },
   "source": [
    "### Model fit"
   ]
  },
  {
   "cell_type": "code",
   "execution_count": 77,
   "metadata": {
    "ExecuteTime": {
     "end_time": "2019-02-23T16:30:26.644712Z",
     "start_time": "2019-02-23T16:30:26.636583Z"
    },
    "hidden": true
   },
   "outputs": [
    {
     "data": {
      "text/plain": [
       "3324.8228955001177"
      ]
     },
     "execution_count": 77,
     "metadata": {},
     "output_type": "execute_result"
    }
   ],
   "source": [
    "sgm_results.aic"
   ]
  },
  {
   "cell_type": "code",
   "execution_count": 78,
   "metadata": {
    "ExecuteTime": {
     "end_time": "2019-02-23T16:30:26.773889Z",
     "start_time": "2019-02-23T16:30:26.765979Z"
    },
    "hidden": true
   },
   "outputs": [
    {
     "data": {
      "text/plain": [
       "-32177.67267137806"
      ]
     },
     "execution_count": 78,
     "metadata": {},
     "output_type": "execute_result"
    }
   ],
   "source": [
    "sgm_results.bic"
   ]
  },
  {
   "cell_type": "code",
   "execution_count": 79,
   "metadata": {
    "ExecuteTime": {
     "end_time": "2019-02-23T16:30:26.994054Z",
     "start_time": "2019-02-23T16:30:26.984369Z"
    },
    "hidden": true
   },
   "outputs": [
    {
     "data": {
      "text/plain": [
       "(False, 0.0)"
      ]
     },
     "execution_count": 79,
     "metadata": {},
     "output_type": "execute_result"
    }
   ],
   "source": [
    "goodness_fit.pearson_chi_squared_test(sgm_results)"
   ]
  },
  {
   "cell_type": "code",
   "execution_count": 80,
   "metadata": {
    "ExecuteTime": {
     "end_time": "2019-02-23T16:30:27.106533Z",
     "start_time": "2019-02-23T16:30:27.088796Z"
    },
    "hidden": true
   },
   "outputs": [
    {
     "data": {
      "text/plain": [
       "count    3.952000e+03\n",
       "mean     1.078759e-16\n",
       "std      3.683700e-01\n",
       "min     -1.347229e-01\n",
       "25%     -1.347229e-01\n",
       "50%     -1.103275e-01\n",
       "75%     -1.103275e-01\n",
       "max      2.889673e+00\n",
       "dtype: float64"
      ]
     },
     "execution_count": 80,
     "metadata": {},
     "output_type": "execute_result"
    }
   ],
   "source": [
    "sgm_results.resid_deviance.describe()"
   ]
  },
  {
   "cell_type": "code",
   "execution_count": 81,
   "metadata": {
    "ExecuteTime": {
     "end_time": "2019-02-23T16:30:27.654278Z",
     "start_time": "2019-02-23T16:30:27.308488Z"
    },
    "hidden": true
   },
   "outputs": [
    {
     "data": {
      "image/png": "[encoded data removed]",
      "text/plain": [
       "<Figure size 432x288 with 1 Axes>"
      ]
     },
     "metadata": {
      "needs_background": "light"
     },
     "output_type": "display_data"
    }
   ],
   "source": [
    "plt.figure()\n",
    "plt.hist(sgm_results.resid_deviance)\n",
    "plt.show()"
   ]
  },
  {
   "cell_type": "markdown",
   "metadata": {},
   "source": [
    "# Model comparison"
   ]
  },
  {
   "cell_type": "code",
   "execution_count": 85,
   "metadata": {
    "ExecuteTime": {
     "end_time": "2019-02-23T16:31:23.192134Z",
     "start_time": "2019-02-23T16:31:23.182633Z"
    }
   },
   "outputs": [
    {
     "data": {
      "text/plain": [
       "(3078.601995070294,\n",
       " 2794.445104832433,\n",
       " 3001.380666659371,\n",
       " 3022.465689149022,\n",
       " 3324.8228955001177)"
      ]
     },
     "execution_count": 85,
     "metadata": {},
     "output_type": "execute_result"
    }
   ],
   "source": [
    "spm_results.aic, sptm_results.aic, sppm_results.aic, sphm_results.aic, sgm_results.aic"
   ]
  },
  {
   "cell_type": "code",
   "execution_count": 86,
   "metadata": {
    "ExecuteTime": {
     "end_time": "2019-02-23T16:31:26.135202Z",
     "start_time": "2019-02-23T16:31:26.125641Z"
    }
   },
   "outputs": [
    {
     "data": {
      "text/plain": [
       "(-30539.309065162925,\n",
       " -30565.90489598721,\n",
       " -28179.12329473316,\n",
       " -28032.398731066154,\n",
       " -32177.67267137806)"
      ]
     },
     "execution_count": 86,
     "metadata": {},
     "output_type": "execute_result"
    }
   ],
   "source": [
    "spm_results.bic, sptm_results.bic, sppm_results.bic, sphm_results.bic, sgm_results.bic"
   ]
  },
  {
   "cell_type": "code",
   "execution_count": 87,
   "metadata": {
    "ExecuteTime": {
     "end_time": "2019-02-23T16:32:14.297154Z",
     "start_time": "2019-02-23T16:32:14.287955Z"
    }
   },
   "outputs": [
    {
     "data": {
      "text/plain": [
       "((True, 0.999998669966386),\n",
       " (True, 0.9992772742615613),\n",
       " (False, 4.6434294256207625e-78),\n",
       " (False, 1.1346605574959228e-79))"
      ]
     },
     "execution_count": 87,
     "metadata": {},
     "output_type": "execute_result"
    }
   ],
   "source": [
    "spm_pearson_results, sptm_pearson_results, sppm_pearson_results, sphm_pearson_results"
   ]
  }
 ],
 "metadata": {
  "kernelspec": {
   "display_name": "Python 3",
   "language": "python",
   "name": "python3"
  },
  "language_info": {
   "codemirror_mode": {
    "name": "ipython",
    "version": 3
   },
   "file_extension": ".py",
   "mimetype": "text/x-python",
   "name": "python",
   "nbconvert_exporter": "python",
   "pygments_lexer": "ipython3",
   "version": "3.6.7"
  },
  "toc": {
   "nav_menu": {},
   "number_sections": true,
   "sideBar": true,
   "skip_h1_title": false,
   "title_cell": "Table of Contents",
   "title_sidebar": "Contents",
   "toc_cell": false,
   "toc_position": {},
   "toc_section_display": true,
   "toc_window_display": false
  }
 },
 "nbformat": 4,
 "nbformat_minor": 2
}
