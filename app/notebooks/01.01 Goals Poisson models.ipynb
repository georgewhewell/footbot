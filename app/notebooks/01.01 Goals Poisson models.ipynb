{
 "cells": [
  {
   "cell_type": "markdown",
   "metadata": {},
   "source": [
    "# Set up"
   ]
  },
  {
   "cell_type": "code",
   "execution_count": 1,
   "metadata": {
    "ExecuteTime": {
     "end_time": "2019-02-23T13:06:47.416747Z",
     "start_time": "2019-02-23T13:06:47.411204Z"
    }
   },
   "outputs": [],
   "source": [
    "# update path with data dir\n",
    "import sys\n",
    "sys.path.append('../data/')"
   ]
  },
  {
   "cell_type": "code",
   "execution_count": 2,
   "metadata": {
    "ExecuteTime": {
     "end_time": "2019-02-23T13:06:49.381055Z",
     "start_time": "2019-02-23T13:06:48.312131Z"
    }
   },
   "outputs": [
    {
     "name": "stderr",
     "output_type": "stream",
     "text": [
      "/home/tom/footbot/venv/lib/python3.6/site-packages/statsmodels/compat/pandas.py:56: FutureWarning: The pandas.core.datetools module is deprecated and will be removed in a future version. Please use the pandas.tseries module instead.\n",
      "  from pandas.core import datetools\n"
     ]
    }
   ],
   "source": [
    "import player_data as player\n",
    "import pandas as pd\n",
    "from datetime import datetime\n",
    "import statsmodels.api as sm"
   ]
  },
  {
   "cell_type": "markdown",
   "metadata": {},
   "source": [
    "# Get data"
   ]
  },
  {
   "cell_type": "code",
   "execution_count": 3,
   "metadata": {
    "ExecuteTime": {
     "end_time": "2019-02-23T13:06:55.300726Z",
     "start_time": "2019-02-23T13:06:55.293602Z"
    }
   },
   "outputs": [],
   "source": [
    "file_name = 'csvs/element_gameweek_' + datetime.today().strftime('%Y-%m-%d') + '.csv'"
   ]
  },
  {
   "cell_type": "code",
   "execution_count": 4,
   "metadata": {
    "ExecuteTime": {
     "end_time": "2019-02-23T13:07:51.127042Z",
     "start_time": "2019-02-23T13:06:56.021551Z"
    }
   },
   "outputs": [],
   "source": [
    "try:\n",
    "    element_gameweek_df = pd.read_csv(file_name)\n",
    "except:\n",
    "    element_gameweek_df = player.get_element_gameweek_df()\n",
    "    element_gameweek_df.to_csv(file_name)"
   ]
  },
  {
   "cell_type": "code",
   "execution_count": 5,
   "metadata": {
    "ExecuteTime": {
     "end_time": "2019-02-23T13:07:51.140346Z",
     "start_time": "2019-02-23T13:07:51.133899Z"
    }
   },
   "outputs": [],
   "source": [
    "current_event = 26\n",
    "element_types = [2, 3, 4]\n",
    "threshold_minutes = 85"
   ]
  },
  {
   "cell_type": "code",
   "execution_count": 6,
   "metadata": {
    "ExecuteTime": {
     "end_time": "2019-02-23T13:07:51.238284Z",
     "start_time": "2019-02-23T13:07:51.144115Z"
    }
   },
   "outputs": [],
   "source": [
    "element_gameweek_df =\\\n",
    "element_gameweek_df[\n",
    "    (element_gameweek_df['event'] <= current_event)\n",
    "    & (element_gameweek_df['element_type'].isin(element_types))\n",
    "    & (element_gameweek_df['minutes'] >= threshold_minutes)\n",
    "]"
   ]
  },
  {
   "cell_type": "code",
   "execution_count": 7,
   "metadata": {
    "ExecuteTime": {
     "end_time": "2019-02-23T13:08:02.777574Z",
     "start_time": "2019-02-23T13:08:02.689944Z"
    }
   },
   "outputs": [],
   "source": [
    "player.add_home_categorical_variable(element_gameweek_df)"
   ]
  },
  {
   "cell_type": "markdown",
   "metadata": {},
   "source": [
    "# Models"
   ]
  },
  {
   "cell_type": "markdown",
   "metadata": {},
   "source": [
    "## Simple Poisson teams model"
   ]
  },
  {
   "cell_type": "markdown",
   "metadata": {},
   "source": [
    "### Preparing data"
   ]
  },
  {
   "cell_type": "code",
   "execution_count": 31,
   "metadata": {
    "ExecuteTime": {
     "end_time": "2019-02-23T13:14:18.361212Z",
     "start_time": "2019-02-23T13:14:18.354481Z"
    }
   },
   "outputs": [],
   "source": [
    "spm_df = element_gameweek_df.copy()"
   ]
  },
  {
   "cell_type": "code",
   "execution_count": 32,
   "metadata": {
    "ExecuteTime": {
     "end_time": "2019-02-23T13:14:18.949594Z",
     "start_time": "2019-02-23T13:14:18.936719Z"
    }
   },
   "outputs": [],
   "source": [
    "spm_redundant_columns = [\n",
    "    'row_id', 'assists', 'attempted_passes', 'big_chances_created',\n",
    "    'big_chances_missed', 'bonus', 'bps', 'clean_sheets',\n",
    "    'clearances_blocks_interceptions', 'completed_passes', 'creativity',\n",
    "    'dribbles', 'ea_index', 'element', 'errors_leading_to_goal',\n",
    "    'errors_leading_to_goal_attempt', 'fixture', 'fouls', 'goals_conceded',\n",
    "    'ict_index', 'id', 'influence', 'key_passes', 'kickoff_time',\n",
    "    'kickoff_time_formatted', 'loaned_in', 'loaned_out', 'minutes', 'offside',\n",
    "    'open_play_crosses', 'opponent_team', 'own_goals', 'penalties_conceded',\n",
    "    'penalties_missed', 'penalties_saved', 'recoveries', 'red_cards', 'round',\n",
    "    'saves', 'selected', 'tackled', 'tackles', 'target_missed', 'team_a_score',\n",
    "    'team_h_score', 'threat', 'total_points', 'transfers_balance',\n",
    "    'transfers_in', 'transfers_out', 'value', 'winning_goals',\n",
    "    'yellow_cards', 'event', 'team_a', 'team_a_difficulty', 'team_h',\n",
    "    'team_h_difficulty', 'element_type', 'team', 'web_name', 'safe_web_name',\n",
    "    'own_team', 'opposition_team', 'was_home'\n",
    "]"
   ]
  },
  {
   "cell_type": "code",
   "execution_count": 33,
   "metadata": {
    "ExecuteTime": {
     "end_time": "2019-02-23T13:14:19.801188Z",
     "start_time": "2019-02-23T13:14:19.793254Z"
    }
   },
   "outputs": [],
   "source": [
    "spm_df = player.remove_redundant_columns(spm_df, spm_redundant_columns)"
   ]
  },
  {
   "cell_type": "code",
   "execution_count": 34,
   "metadata": {
    "ExecuteTime": {
     "end_time": "2019-02-23T13:14:22.725798Z",
     "start_time": "2019-02-23T13:14:22.712758Z"
    }
   },
   "outputs": [],
   "source": [
    "spm_response_df, spm_explanatory_df = player.get_response_explanatory_dfs(spm_df, 'goals_scored')"
   ]
  },
  {
   "cell_type": "code",
   "execution_count": 35,
   "metadata": {
    "ExecuteTime": {
     "end_time": "2019-02-23T13:14:24.152073Z",
     "start_time": "2019-02-23T13:14:24.144172Z"
    }
   },
   "outputs": [
    {
     "data": {
      "text/plain": [
       "Index(['const'], dtype='object')"
      ]
     },
     "execution_count": 35,
     "metadata": {},
     "output_type": "execute_result"
    }
   ],
   "source": [
    "spm_explanatory_df.columns"
   ]
  },
  {
   "cell_type": "code",
   "execution_count": 36,
   "metadata": {
    "ExecuteTime": {
     "end_time": "2019-02-23T13:14:26.013784Z",
     "start_time": "2019-02-23T13:14:26.004281Z"
    }
   },
   "outputs": [
    {
     "data": {
      "text/plain": [
       "row_id\n",
       "70    0\n",
       "74    0\n",
       "75    0\n",
       "76    1\n",
       "78    1\n",
       "Name: goals_scored, dtype: int64"
      ]
     },
     "execution_count": 36,
     "metadata": {},
     "output_type": "execute_result"
    }
   ],
   "source": [
    "spm_response_df.head()"
   ]
  },
  {
   "cell_type": "markdown",
   "metadata": {},
   "source": [
    "### Fitting model"
   ]
  },
  {
   "cell_type": "code",
   "execution_count": 37,
   "metadata": {
    "ExecuteTime": {
     "end_time": "2019-02-23T13:14:28.930456Z",
     "start_time": "2019-02-23T13:14:28.904976Z"
    }
   },
   "outputs": [],
   "source": [
    "spm_results = sm.GLM(\n",
    "    spm_response_df,\n",
    "    spm_explanatory_df,\n",
    "    family=sm.families.Poisson(),\n",
    "    missing='drop'\n",
    ").fit()"
   ]
  },
  {
   "cell_type": "code",
   "execution_count": 38,
   "metadata": {
    "ExecuteTime": {
     "end_time": "2019-02-23T13:14:30.248207Z",
     "start_time": "2019-02-23T13:14:30.233843Z"
    }
   },
   "outputs": [
    {
     "name": "stdout",
     "output_type": "stream",
     "text": [
      "                 Generalized Linear Model Regression Results                  \n",
      "==============================================================================\n",
      "Dep. Variable:           goals_scored   No. Observations:                 3952\n",
      "Model:                            GLM   Df Residuals:                     3951\n",
      "Model Family:                 Poisson   Df Model:                            0\n",
      "Link Function:                    log   Scale:                             1.0\n",
      "Method:                          IRLS   Log-Likelihood:                -1538.3\n",
      "Date:                Sat, 23 Feb 2019   Deviance:                       2182.8\n",
      "Time:                        13:14:30   Pearson chi2:                 4.38e+03\n",
      "No. Iterations:                     6                                         \n",
      "==============================================================================\n",
      "                 coef    std err          z      P>|z|      [0.025      0.975]\n",
      "------------------------------------------------------------------------------\n",
      "const         -2.0999      0.045    -46.198      0.000      -2.189      -2.011\n",
      "==============================================================================\n"
     ]
    }
   ],
   "source": [
    "print(spm_results.summary())"
   ]
  },
  {
   "cell_type": "code",
   "execution_count": 39,
   "metadata": {
    "ExecuteTime": {
     "end_time": "2019-02-23T13:14:44.260872Z",
     "start_time": "2019-02-23T13:14:44.247621Z"
    }
   },
   "outputs": [
    {
     "data": {
      "text/plain": [
       "const    0.0\n",
       "dtype: float64"
      ]
     },
     "execution_count": 39,
     "metadata": {},
     "output_type": "execute_result"
    }
   ],
   "source": [
    "pd.Series(spm_results.pvalues)[spm_results.pvalues < 0.2]"
   ]
  },
  {
   "cell_type": "markdown",
   "metadata": {
    "heading_collapsed": true
   },
   "source": [
    "## Simple Poisson teams model"
   ]
  },
  {
   "cell_type": "markdown",
   "metadata": {
    "hidden": true
   },
   "source": [
    "### Preparing data"
   ]
  },
  {
   "cell_type": "code",
   "execution_count": 15,
   "metadata": {
    "ExecuteTime": {
     "end_time": "2019-02-23T13:08:36.008975Z",
     "start_time": "2019-02-23T13:08:36.000890Z"
    },
    "hidden": true
   },
   "outputs": [],
   "source": [
    "sptm_df = element_gameweek_df.copy()"
   ]
  },
  {
   "cell_type": "code",
   "execution_count": 16,
   "metadata": {
    "ExecuteTime": {
     "end_time": "2019-02-23T13:08:36.558344Z",
     "start_time": "2019-02-23T13:08:36.523752Z"
    },
    "hidden": true
   },
   "outputs": [],
   "source": [
    "sptm_df = player.add_categorical_variables(sptm_df, 'element_type')\n",
    "sptm_df = player.add_categorical_variables(sptm_df, 'opposition_team')\n",
    "sptm_df = player.add_categorical_variables(sptm_df, 'own_team')"
   ]
  },
  {
   "cell_type": "code",
   "execution_count": 17,
   "metadata": {
    "ExecuteTime": {
     "end_time": "2019-02-23T13:08:37.322574Z",
     "start_time": "2019-02-23T13:08:37.309760Z"
    },
    "hidden": true
   },
   "outputs": [],
   "source": [
    "sptm_redundant_columns = [\n",
    "    'row_id', 'assists', 'attempted_passes', 'big_chances_created',\n",
    "    'big_chances_missed', 'bonus', 'bps', 'clean_sheets',\n",
    "    'clearances_blocks_interceptions', 'completed_passes', 'creativity',\n",
    "    'dribbles', 'ea_index', 'element', 'errors_leading_to_goal',\n",
    "    'errors_leading_to_goal_attempt', 'fixture', 'fouls', 'goals_conceded',\n",
    "    'ict_index', 'id', 'influence', 'key_passes', 'kickoff_time',\n",
    "    'kickoff_time_formatted', 'loaned_in', 'loaned_out', 'minutes', 'offside',\n",
    "    'open_play_crosses', 'opponent_team', 'own_goals', 'penalties_conceded',\n",
    "    'penalties_missed', 'penalties_saved', 'recoveries', 'red_cards', 'round',\n",
    "    'saves', 'selected', 'tackled', 'tackles', 'target_missed', 'team_a_score',\n",
    "    'team_h_score', 'threat', 'total_points', 'transfers_balance',\n",
    "    'transfers_in', 'transfers_out', 'value', 'winning_goals',\n",
    "    'yellow_cards', 'event', 'team_a', 'team_a_difficulty', 'team_h',\n",
    "    'team_h_difficulty', 'element_type', 'team', 'web_name', 'safe_web_name',\n",
    "    'own_team', 'opposition_team'\n",
    "]"
   ]
  },
  {
   "cell_type": "code",
   "execution_count": 18,
   "metadata": {
    "ExecuteTime": {
     "end_time": "2019-02-23T13:08:37.904606Z",
     "start_time": "2019-02-23T13:08:37.892054Z"
    },
    "hidden": true
   },
   "outputs": [],
   "source": [
    "sptm_df = player.remove_redundant_columns(sptm_df, sptm_redundant_columns)"
   ]
  },
  {
   "cell_type": "code",
   "execution_count": 19,
   "metadata": {
    "ExecuteTime": {
     "end_time": "2019-02-23T13:08:38.477550Z",
     "start_time": "2019-02-23T13:08:38.441442Z"
    },
    "hidden": true
   },
   "outputs": [],
   "source": [
    "sptm_response_df, sptm_explanatory_df = player.get_response_explanatory_dfs(sptm_df, 'goals_scored')"
   ]
  },
  {
   "cell_type": "code",
   "execution_count": 20,
   "metadata": {
    "ExecuteTime": {
     "end_time": "2019-02-23T13:08:39.298917Z",
     "start_time": "2019-02-23T13:08:39.289912Z"
    },
    "hidden": true
   },
   "outputs": [
    {
     "data": {
      "text/plain": [
       "Index(['const', 'was_home', 'element_type_3', 'element_type_4',\n",
       "       'opposition_team_2', 'opposition_team_3', 'opposition_team_4',\n",
       "       'opposition_team_5', 'opposition_team_6', 'opposition_team_7',\n",
       "       'opposition_team_8', 'opposition_team_9', 'opposition_team_10',\n",
       "       'opposition_team_11', 'opposition_team_12', 'opposition_team_13',\n",
       "       'opposition_team_14', 'opposition_team_15', 'opposition_team_16',\n",
       "       'opposition_team_17', 'opposition_team_18', 'opposition_team_19',\n",
       "       'opposition_team_20', 'own_team_2', 'own_team_3', 'own_team_4',\n",
       "       'own_team_5', 'own_team_6', 'own_team_7', 'own_team_8', 'own_team_9',\n",
       "       'own_team_10', 'own_team_11', 'own_team_12', 'own_team_13',\n",
       "       'own_team_14', 'own_team_15', 'own_team_16', 'own_team_17',\n",
       "       'own_team_18', 'own_team_19', 'own_team_20'],\n",
       "      dtype='object')"
      ]
     },
     "execution_count": 20,
     "metadata": {},
     "output_type": "execute_result"
    }
   ],
   "source": [
    "sptm_explanatory_df.columns"
   ]
  },
  {
   "cell_type": "code",
   "execution_count": 21,
   "metadata": {
    "ExecuteTime": {
     "end_time": "2019-02-23T13:08:40.534459Z",
     "start_time": "2019-02-23T13:08:40.523750Z"
    },
    "hidden": true
   },
   "outputs": [
    {
     "data": {
      "text/plain": [
       "row_id\n",
       "70    0\n",
       "74    0\n",
       "75    0\n",
       "76    1\n",
       "78    1\n",
       "Name: goals_scored, dtype: int64"
      ]
     },
     "execution_count": 21,
     "metadata": {},
     "output_type": "execute_result"
    }
   ],
   "source": [
    "sptm_response_df.head()"
   ]
  },
  {
   "cell_type": "markdown",
   "metadata": {
    "hidden": true
   },
   "source": [
    "### Fitting model"
   ]
  },
  {
   "cell_type": "code",
   "execution_count": 22,
   "metadata": {
    "ExecuteTime": {
     "end_time": "2019-02-23T13:08:51.831213Z",
     "start_time": "2019-02-23T13:08:51.668020Z"
    },
    "hidden": true
   },
   "outputs": [],
   "source": [
    "sptm_results = sm.GLM(\n",
    "    sptm_response_df,\n",
    "    sptm_explanatory_df,\n",
    "    family=sm.families.Poisson(),\n",
    "    missing='drop'\n",
    ").fit()"
   ]
  },
  {
   "cell_type": "code",
   "execution_count": 23,
   "metadata": {
    "ExecuteTime": {
     "end_time": "2019-02-23T13:08:53.180989Z",
     "start_time": "2019-02-23T13:08:53.107362Z"
    },
    "hidden": true
   },
   "outputs": [
    {
     "name": "stdout",
     "output_type": "stream",
     "text": [
      "                 Generalized Linear Model Regression Results                  \n",
      "==============================================================================\n",
      "Dep. Variable:           goals_scored   No. Observations:                 3952\n",
      "Model:                            GLM   Df Residuals:                     3910\n",
      "Model Family:                 Poisson   Df Model:                           41\n",
      "Link Function:                    log   Scale:                             1.0\n",
      "Method:                          IRLS   Log-Likelihood:                -1355.2\n",
      "Date:                Sat, 23 Feb 2019   Deviance:                       1816.6\n",
      "Time:                        13:08:53   Pearson chi2:                 4.20e+03\n",
      "No. Iterations:                     6                                         \n",
      "======================================================================================\n",
      "                         coef    std err          z      P>|z|      [0.025      0.975]\n",
      "--------------------------------------------------------------------------------------\n",
      "const                 -3.3049      0.326    -10.140      0.000      -3.944      -2.666\n",
      "was_home               0.1561      0.092      1.696      0.090      -0.024       0.336\n",
      "element_type_3         1.2045      0.122      9.850      0.000       0.965       1.444\n",
      "element_type_4         2.1561      0.136     15.874      0.000       1.890       2.422\n",
      "opposition_team_2      0.5268      0.306      1.720      0.085      -0.074       1.127\n",
      "opposition_team_3      0.5537      0.302      1.835      0.067      -0.038       1.145\n",
      "opposition_team_4      0.6231      0.302      2.065      0.039       0.032       1.214\n",
      "opposition_team_5      0.6253      0.301      2.074      0.038       0.035       1.216\n",
      "opposition_team_6     -0.0669      0.356     -0.188      0.851      -0.765       0.631\n",
      "opposition_team_7      0.0879      0.331      0.266      0.790      -0.561       0.737\n",
      "opposition_team_8      0.2406      0.322      0.748      0.455      -0.390       0.871\n",
      "opposition_team_9      0.6203      0.299      2.073      0.038       0.034       1.207\n",
      "opposition_team_10     0.4605      0.304      1.516      0.130      -0.135       1.056\n",
      "opposition_team_11     0.3421      0.316      1.083      0.279      -0.277       0.961\n",
      "opposition_team_12    -0.3431      0.379     -0.906      0.365      -1.085       0.399\n",
      "opposition_team_13    -0.0173      0.345     -0.050      0.960      -0.694       0.659\n",
      "opposition_team_14     0.0753      0.336      0.224      0.822      -0.582       0.733\n",
      "opposition_team_15     0.2653      0.318      0.834      0.404      -0.358       0.889\n",
      "opposition_team_16     0.5870      0.300      1.959      0.050      -0.000       1.174\n",
      "opposition_team_17     0.0046      0.350      0.013      0.989      -0.681       0.690\n",
      "opposition_team_18     0.2831      0.316      0.895      0.371      -0.337       0.903\n",
      "opposition_team_19     0.2367      0.319      0.741      0.459      -0.389       0.863\n",
      "opposition_team_20     0.2415      0.322      0.751      0.453      -0.389       0.872\n",
      "own_team_2            -0.2916      0.273     -1.068      0.285      -0.827       0.243\n",
      "own_team_3            -0.1757      0.278     -0.633      0.527      -0.720       0.368\n",
      "own_team_4            -0.3970      0.285     -1.395      0.163      -0.955       0.161\n",
      "own_team_5            -0.3712      0.306     -1.214      0.225      -0.970       0.228\n",
      "own_team_6             0.0697      0.272      0.256      0.798      -0.463       0.603\n",
      "own_team_7            -0.3969      0.280     -1.418      0.156      -0.945       0.152\n",
      "own_team_8             0.0699      0.262      0.267      0.789      -0.443       0.583\n",
      "own_team_9            -0.5214      0.299     -1.746      0.081      -1.106       0.064\n",
      "own_team_10           -1.0111      0.365     -2.771      0.006      -1.726      -0.296\n",
      "own_team_11           -0.4081      0.303     -1.345      0.179      -1.003       0.187\n",
      "own_team_12            0.3129      0.241      1.297      0.195      -0.160       0.786\n",
      "own_team_13            0.3812      0.243      1.568      0.117      -0.095       0.858\n",
      "own_team_14            0.0884      0.254      0.348      0.728      -0.410       0.587\n",
      "own_team_15           -0.9309      0.331     -2.809      0.005      -1.580      -0.281\n",
      "own_team_16           -0.5339      0.324     -1.648      0.099      -1.169       0.101\n",
      "own_team_17            0.1857      0.243      0.763      0.446      -0.291       0.663\n",
      "own_team_18           -0.2612      0.274     -0.952      0.341      -0.799       0.277\n",
      "own_team_19           -0.1424      0.290     -0.491      0.623      -0.710       0.426\n",
      "own_team_20            0.0214      0.271      0.079      0.937      -0.510       0.552\n",
      "======================================================================================\n"
     ]
    }
   ],
   "source": [
    "print(sptm_results.summary())"
   ]
  },
  {
   "cell_type": "code",
   "execution_count": 25,
   "metadata": {
    "ExecuteTime": {
     "end_time": "2019-02-23T13:09:39.945501Z",
     "start_time": "2019-02-23T13:09:39.930806Z"
    },
    "hidden": true
   },
   "outputs": [
    {
     "data": {
      "text/plain": [
       "const                 3.671265e-24\n",
       "was_home              8.982414e-02\n",
       "element_type_3        6.882327e-23\n",
       "element_type_4        9.561406e-57\n",
       "opposition_team_2     8.549882e-02\n",
       "opposition_team_3     6.654039e-02\n",
       "opposition_team_4     3.888057e-02\n",
       "opposition_team_5     3.803621e-02\n",
       "opposition_team_9     3.814878e-02\n",
       "opposition_team_10    1.296185e-01\n",
       "opposition_team_16    5.009482e-02\n",
       "own_team_4            1.631534e-01\n",
       "own_team_7            1.560780e-01\n",
       "own_team_9            8.073039e-02\n",
       "own_team_10           5.585457e-03\n",
       "own_team_11           1.785552e-01\n",
       "own_team_12           1.945707e-01\n",
       "own_team_13           1.168910e-01\n",
       "own_team_15           4.964303e-03\n",
       "own_team_16           9.939768e-02\n",
       "dtype: float64"
      ]
     },
     "execution_count": 25,
     "metadata": {},
     "output_type": "execute_result"
    }
   ],
   "source": [
    "pd.Series(sptm_results.pvalues)[sptm_results.pvalues < 0.2]"
   ]
  },
  {
   "cell_type": "markdown",
   "metadata": {
    "heading_collapsed": true
   },
   "source": [
    "## Simple Poisson player model"
   ]
  },
  {
   "cell_type": "code",
   "execution_count": null,
   "metadata": {
    "ExecuteTime": {
     "end_time": "2019-02-22T17:14:36.603265Z",
     "start_time": "2019-02-22T17:14:36.582328Z"
    },
    "hidden": true
   },
   "outputs": [],
   "source": [
    "element_appearences = element_gameweek_df.groupby('element').size()"
   ]
  },
  {
   "cell_type": "code",
   "execution_count": null,
   "metadata": {
    "ExecuteTime": {
     "end_time": "2019-02-22T17:14:36.637440Z",
     "start_time": "2019-02-22T17:14:36.606290Z"
    },
    "hidden": true
   },
   "outputs": [],
   "source": [
    "element_several_appearences = list(element_appearences[element_appearences > 1].index)"
   ]
  },
  {
   "cell_type": "code",
   "execution_count": null,
   "metadata": {
    "ExecuteTime": {
     "end_time": "2019-02-22T17:14:36.669736Z",
     "start_time": "2019-02-22T17:14:36.640442Z"
    },
    "hidden": true
   },
   "outputs": [],
   "source": [
    "element_gameweek_df = element_gameweek_df[element_gameweek_df['element'].isin(element_several_appearences)]"
   ]
  },
  {
   "cell_type": "markdown",
   "metadata": {
    "hidden": true
   },
   "source": [
    "### Preparing data"
   ]
  },
  {
   "cell_type": "code",
   "execution_count": 40,
   "metadata": {
    "ExecuteTime": {
     "end_time": "2019-02-23T13:15:56.586722Z",
     "start_time": "2019-02-23T13:15:56.579847Z"
    },
    "hidden": true
   },
   "outputs": [],
   "source": [
    "sppm_df = element_gameweek_df.copy()"
   ]
  },
  {
   "cell_type": "code",
   "execution_count": 41,
   "metadata": {
    "ExecuteTime": {
     "end_time": "2019-02-23T13:15:57.196044Z",
     "start_time": "2019-02-23T13:15:57.158672Z"
    },
    "hidden": true
   },
   "outputs": [],
   "source": [
    "sppm_df = player.add_categorical_variables(sppm_df, 'element_type')\n",
    "sppm_df = player.add_categorical_variables(sppm_df, 'opposition_team')\n",
    "sppm_df = player.add_categorical_variables(sppm_df, 'element')"
   ]
  },
  {
   "cell_type": "code",
   "execution_count": 42,
   "metadata": {
    "ExecuteTime": {
     "end_time": "2019-02-23T13:15:57.762249Z",
     "start_time": "2019-02-23T13:15:57.749521Z"
    },
    "hidden": true
   },
   "outputs": [],
   "source": [
    "sppm_redundant_columns = [\n",
    "    'row_id', 'assists', 'attempted_passes', 'big_chances_created',\n",
    "    'big_chances_missed', 'bonus', 'bps', 'clean_sheets',\n",
    "    'clearances_blocks_interceptions', 'completed_passes', 'creativity',\n",
    "    'dribbles', 'ea_index', 'element', 'errors_leading_to_goal',\n",
    "    'errors_leading_to_goal_attempt', 'fixture', 'fouls', 'goals_conceded',\n",
    "    'ict_index', 'id', 'influence', 'key_passes', 'kickoff_time',\n",
    "    'kickoff_time_formatted', 'loaned_in', 'loaned_out', 'minutes', 'offside',\n",
    "    'open_play_crosses', 'opponent_team', 'own_goals', 'penalties_conceded',\n",
    "    'penalties_missed', 'penalties_saved', 'recoveries', 'red_cards', 'round',\n",
    "    'saves', 'selected', 'tackled', 'tackles', 'target_missed', 'team_a_score',\n",
    "    'team_h_score', 'threat', 'total_points', 'transfers_balance',\n",
    "    'transfers_in', 'transfers_out', 'value', 'winning_goals',\n",
    "    'yellow_cards', 'event', 'team_a', 'team_a_difficulty', 'team_h',\n",
    "    'team_h_difficulty', 'element_type', 'team', 'web_name', 'safe_web_name',\n",
    "    'own_team', 'opposition_team'\n",
    "]"
   ]
  },
  {
   "cell_type": "code",
   "execution_count": 43,
   "metadata": {
    "ExecuteTime": {
     "end_time": "2019-02-23T13:15:58.454139Z",
     "start_time": "2019-02-23T13:15:58.438594Z"
    },
    "hidden": true
   },
   "outputs": [],
   "source": [
    "sppm_df = player.remove_redundant_columns(sppm_df, sppm_redundant_columns)"
   ]
  },
  {
   "cell_type": "code",
   "execution_count": 44,
   "metadata": {
    "ExecuteTime": {
     "end_time": "2019-02-23T13:15:59.125097Z",
     "start_time": "2019-02-23T13:15:58.951497Z"
    },
    "hidden": true
   },
   "outputs": [],
   "source": [
    "sppm_response_df, sppm_explanatory_df = player.get_response_explanatory_dfs(sppm_df, 'goals_scored')"
   ]
  },
  {
   "cell_type": "code",
   "execution_count": 45,
   "metadata": {
    "ExecuteTime": {
     "end_time": "2019-02-23T13:15:59.776422Z",
     "start_time": "2019-02-23T13:15:59.767455Z"
    },
    "hidden": true
   },
   "outputs": [
    {
     "data": {
      "text/plain": [
       "Index(['const', 'was_home', 'element_type_3', 'element_type_4',\n",
       "       'opposition_team_2', 'opposition_team_3', 'opposition_team_4',\n",
       "       'opposition_team_5', 'opposition_team_6', 'opposition_team_7',\n",
       "       ...\n",
       "       'element_535', 'element_539', 'element_549', 'element_556',\n",
       "       'element_565', 'element_570', 'element_571', 'element_575',\n",
       "       'element_579', 'element_591'],\n",
       "      dtype='object', length=392)"
      ]
     },
     "execution_count": 45,
     "metadata": {},
     "output_type": "execute_result"
    }
   ],
   "source": [
    "sppm_explanatory_df.columns"
   ]
  },
  {
   "cell_type": "code",
   "execution_count": 46,
   "metadata": {
    "ExecuteTime": {
     "end_time": "2019-02-23T13:16:01.488331Z",
     "start_time": "2019-02-23T13:16:01.478254Z"
    },
    "hidden": true
   },
   "outputs": [
    {
     "data": {
      "text/plain": [
       "row_id\n",
       "70    0\n",
       "74    0\n",
       "75    0\n",
       "76    1\n",
       "78    1\n",
       "Name: goals_scored, dtype: int64"
      ]
     },
     "execution_count": 46,
     "metadata": {},
     "output_type": "execute_result"
    }
   ],
   "source": [
    "sppm_response_df.head()"
   ]
  },
  {
   "cell_type": "markdown",
   "metadata": {
    "hidden": true
   },
   "source": [
    "### Fitting model"
   ]
  },
  {
   "cell_type": "code",
   "execution_count": 47,
   "metadata": {
    "ExecuteTime": {
     "end_time": "2019-02-23T13:16:11.723820Z",
     "start_time": "2019-02-23T13:16:03.898493Z"
    },
    "hidden": true
   },
   "outputs": [],
   "source": [
    "sppm_results = sm.GLM(\n",
    "    sppm_response_df,\n",
    "    sppm_explanatory_df,\n",
    "    family=sm.families.Poisson(),\n",
    "    missing='drop'\n",
    ").fit()"
   ]
  },
  {
   "cell_type": "code",
   "execution_count": 48,
   "metadata": {
    "ExecuteTime": {
     "end_time": "2019-02-23T13:16:11.970541Z",
     "start_time": "2019-02-23T13:16:11.732293Z"
    },
    "hidden": true
   },
   "outputs": [
    {
     "name": "stdout",
     "output_type": "stream",
     "text": [
      "                 Generalized Linear Model Regression Results                  \n",
      "==============================================================================\n",
      "Dep. Variable:           goals_scored   No. Observations:                 3952\n",
      "Model:                            GLM   Df Residuals:                     3562\n",
      "Model Family:                 Poisson   Df Model:                          389\n",
      "Link Function:                    log   Scale:                             1.0\n",
      "Method:                          IRLS   Log-Likelihood:                -1110.8\n",
      "Date:                Sat, 23 Feb 2019   Deviance:                       1327.9\n",
      "Time:                        13:16:11   Pearson chi2:                 2.20e+03\n",
      "No. Iterations:                    25                                         \n",
      "======================================================================================\n",
      "                         coef    std err          z      P>|z|      [0.025      0.975]\n",
      "--------------------------------------------------------------------------------------\n",
      "const                 -1.3799      0.755     -1.827      0.068      -2.860       0.101\n",
      "was_home               0.1231      0.095      1.298      0.194      -0.063       0.309\n",
      "element_type_3       -12.7802   2.08e+04     -0.001      1.000   -4.07e+04    4.07e+04\n",
      "element_type_4        -6.8953   3.54e+04     -0.000      1.000   -6.93e+04    6.93e+04\n",
      "opposition_team_2      0.3922      0.313      1.253      0.210      -0.221       1.006\n",
      "opposition_team_3      0.5445      0.308      1.769      0.077      -0.059       1.148\n",
      "opposition_team_4      0.5648      0.312      1.808      0.071      -0.048       1.177\n",
      "opposition_team_5      0.4736      0.309      1.533      0.125      -0.132       1.079\n",
      "opposition_team_6     -0.0970      0.362     -0.268      0.789      -0.806       0.612\n",
      "opposition_team_7      0.0165      0.337      0.049      0.961      -0.644       0.677\n",
      "opposition_team_8      0.1765      0.329      0.536      0.592      -0.469       0.822\n",
      "opposition_team_9      0.4185      0.308      1.358      0.175      -0.186       1.023\n",
      "opposition_team_10     0.4468      0.314      1.424      0.155      -0.168       1.062\n",
      "opposition_team_11     0.2716      0.323      0.840      0.401      -0.362       0.905\n",
      "opposition_team_12    -0.3989      0.386     -1.035      0.301      -1.155       0.357\n",
      "opposition_team_13    -0.1916      0.359     -0.534      0.593      -0.895       0.512\n",
      "opposition_team_14    -0.0332      0.345     -0.096      0.923      -0.710       0.643\n",
      "opposition_team_15     0.0932      0.331      0.281      0.779      -0.556       0.743\n",
      "opposition_team_16     0.5251      0.307      1.708      0.088      -0.077       1.128\n",
      "opposition_team_17    -0.1002      0.358     -0.280      0.780      -0.802       0.602\n",
      "opposition_team_18     0.1544      0.325      0.475      0.635      -0.482       0.791\n",
      "opposition_team_19     0.1169      0.327      0.358      0.720      -0.523       0.757\n",
      "opposition_team_20     0.1646      0.333      0.495      0.621      -0.487       0.817\n",
      "element_4            -26.6165   1.68e+05     -0.000      1.000   -3.29e+05    3.29e+05\n",
      "element_5             -1.3260      1.227     -1.081      0.280      -3.730       1.078\n",
      "element_6            -26.6081    2.3e+05     -0.000      1.000   -4.51e+05    4.51e+05\n",
      "element_7             -0.9437      1.003     -0.941      0.347      -2.910       1.022\n",
      "element_8            -26.7736   1.96e+05     -0.000      1.000   -3.84e+05    3.83e+05\n",
      "element_9             -1.6484      1.228     -1.342      0.179      -4.055       0.758\n",
      "element_11           -26.4424   3.72e+05  -7.11e-05      1.000   -7.29e+05    7.29e+05\n",
      "element_12           -26.6304   1.67e+05     -0.000      1.000   -3.27e+05    3.27e+05\n",
      "element_13            12.8452   2.08e+04      0.001      1.000   -4.07e+04    4.07e+04\n",
      "element_14           -13.7592    3.7e+05  -3.72e-05      1.000   -7.26e+05    7.26e+05\n",
      "element_15            12.3921   2.08e+04      0.001      1.000   -4.07e+04    4.07e+04\n",
      "element_17            12.0065   2.08e+04      0.001      1.000   -4.07e+04    4.07e+04\n",
      "element_18            13.2042   2.08e+04      0.001      0.999   -4.07e+04    4.07e+04\n",
      "element_20            12.3780   2.08e+04      0.001      1.000   -4.07e+04    4.07e+04\n",
      "element_22             7.1571   3.54e+04      0.000      1.000   -6.93e+04    6.93e+04\n",
      "element_23             7.3843   3.54e+04      0.000      1.000   -6.93e+04    6.93e+04\n",
      "element_26           -26.6269   1.87e+05     -0.000      1.000   -3.67e+05    3.67e+05\n",
      "element_27            -2.1152      1.227     -1.724      0.085      -4.520       0.290\n",
      "element_28           -26.6713   1.88e+05     -0.000      1.000   -3.68e+05    3.68e+05\n",
      "element_29            -1.4554      1.227     -1.186      0.236      -3.861       0.950\n",
      "element_30           -26.2215   6.58e+05  -3.99e-05      1.000   -1.29e+06    1.29e+06\n",
      "element_31            -1.3922      1.003     -1.388      0.165      -3.358       0.573\n",
      "element_33           -13.9410   1.74e+05  -8.01e-05      1.000   -3.41e+05    3.41e+05\n",
      "element_35           -13.7868   1.86e+05  -7.41e-05      1.000   -3.65e+05    3.65e+05\n",
      "element_36           -13.6881   2.92e+05  -4.68e-05      1.000   -5.73e+05    5.73e+05\n",
      "element_37           -13.7976   2.05e+05  -6.74e-05      1.000   -4.01e+05    4.01e+05\n",
      "element_38           -13.5997   6.54e+05  -2.08e-05      1.000   -1.28e+06    1.28e+06\n",
      "element_39           -13.9078   2.89e+05  -4.81e-05      1.000   -5.67e+05    5.67e+05\n",
      "element_40            12.3802   2.08e+04      0.001      1.000   -4.07e+04    4.07e+04\n",
      "element_42            12.9550   2.08e+04      0.001      1.000   -4.07e+04    4.07e+04\n",
      "element_43             7.2522   3.54e+04      0.000      1.000   -6.93e+04    6.93e+04\n",
      "element_45             7.0259   3.54e+04      0.000      1.000   -6.93e+04    6.93e+04\n",
      "element_48            -1.2921      1.003     -1.289      0.197      -3.257       0.673\n",
      "element_49            -0.3393      0.840     -0.404      0.686      -1.986       1.307\n",
      "element_50           -26.7444   2.93e+05  -9.14e-05      1.000   -5.73e+05    5.73e+05\n",
      "element_51           -26.6096   1.62e+05     -0.000      1.000   -3.17e+05    3.17e+05\n",
      "element_54           -26.5632   2.88e+05  -9.23e-05      1.000   -5.64e+05    5.64e+05\n",
      "element_55            12.0994   2.08e+04      0.001      1.000   -4.07e+04    4.07e+04\n",
      "element_56            11.1728   2.08e+04      0.001      1.000   -4.07e+04    4.07e+04\n",
      "element_57            12.1296   2.08e+04      0.001      1.000   -4.07e+04    4.07e+04\n",
      "element_58            11.2367   2.08e+04      0.001      1.000   -4.07e+04    4.07e+04\n",
      "element_59            12.1344   2.08e+04      0.001      1.000   -4.07e+04    4.07e+04\n",
      "element_60           -13.8309   1.46e+05   -9.5e-05      1.000   -2.85e+05    2.85e+05\n",
      "element_61           -14.0701   3.78e+05  -3.72e-05      1.000    -7.4e+05     7.4e+05\n",
      "element_62             7.6901   3.54e+04      0.000      1.000   -6.93e+04    6.93e+04\n",
      "element_65             7.0736   3.54e+04      0.000      1.000   -6.93e+04    6.93e+04\n",
      "element_69           -26.6932   1.81e+05     -0.000      1.000   -3.55e+05    3.55e+05\n",
      "element_70           -26.6814   1.28e+05     -0.000      1.000    -2.5e+05     2.5e+05\n",
      "element_71           -26.9383   6.58e+05   -4.1e-05      1.000   -1.29e+06    1.29e+06\n",
      "element_72            -0.9062      0.915     -0.990      0.322      -2.700       0.887\n",
      "element_73           -26.4937   2.93e+05  -9.05e-05      1.000   -5.74e+05    5.74e+05\n",
      "element_74           -26.6622   1.36e+05     -0.000      1.000   -2.66e+05    2.66e+05\n",
      "element_75           -26.6739   1.96e+05     -0.000      1.000   -3.84e+05    3.84e+05\n",
      "element_76            12.0305   2.08e+04      0.001      1.000   -4.07e+04    4.07e+04\n",
      "element_77           -13.7006   4.62e+05  -2.97e-05      1.000   -9.05e+05    9.05e+05\n",
      "element_78            11.8637   2.08e+04      0.001      1.000   -4.07e+04    4.07e+04\n",
      "element_79           -13.8546   3.71e+05  -3.73e-05      1.000   -7.28e+05    7.28e+05\n",
      "element_80           -13.9398    1.5e+05  -9.29e-05      1.000   -2.94e+05    2.94e+05\n",
      "element_82            10.6779   2.08e+04      0.001      1.000   -4.07e+04    4.07e+04\n",
      "element_83            11.4316   2.08e+04      0.001      1.000   -4.07e+04    4.07e+04\n",
      "element_84             7.8444   3.54e+04      0.000      1.000   -6.93e+04    6.93e+04\n",
      "element_85             7.2042   3.54e+04      0.000      1.000   -6.93e+04    6.93e+04\n",
      "element_87             7.3262   3.54e+04      0.000      1.000   -6.93e+04    6.93e+04\n",
      "element_90           -26.6342   1.41e+05     -0.000      1.000   -2.77e+05    2.77e+05\n",
      "element_91            -1.0315      0.916     -1.126      0.260      -2.827       0.764\n",
      "element_92           -26.6646   1.27e+05     -0.000      1.000   -2.49e+05    2.49e+05\n",
      "element_94           -26.6602   1.57e+05     -0.000      1.000   -3.08e+05    3.08e+05\n",
      "element_95           -26.6791   2.66e+05     -0.000      1.000   -5.22e+05    5.22e+05\n",
      "element_98           -13.8384   1.81e+05  -7.65e-05      1.000   -3.55e+05    3.54e+05\n",
      "element_99            12.4950   2.08e+04      0.001      1.000   -4.07e+04    4.07e+04\n",
      "element_101           12.3651   2.08e+04      0.001      1.000   -4.07e+04    4.07e+04\n",
      "element_102           11.4018   2.08e+04      0.001      1.000   -4.07e+04    4.07e+04\n",
      "element_106           12.4460   2.08e+04      0.001      1.000   -4.07e+04    4.07e+04\n",
      "element_107          -19.7343   6.45e+05  -3.06e-05      1.000   -1.26e+06    1.26e+06\n",
      "element_110            7.3000   3.54e+04      0.000      1.000   -6.93e+04    6.93e+04\n",
      "element_113          -26.6763   1.28e+05     -0.000      1.000    -2.5e+05     2.5e+05\n",
      "element_115           -2.0391      1.227     -1.661      0.097      -4.445       0.366\n",
      "element_116           -1.4351      1.003     -1.431      0.152      -3.400       0.530\n",
      "element_118           -2.0755      1.227     -1.691      0.091      -4.481       0.330\n",
      "element_119          -26.7942   4.64e+05  -5.78e-05      1.000   -9.09e+05    9.08e+05\n",
      "element_121          -26.8054   6.58e+05  -4.08e-05      1.000   -1.29e+06    1.29e+06\n",
      "element_122           12.7884   2.08e+04      0.001      1.000   -4.07e+04    4.07e+04\n",
      "element_123          -13.7976   6.54e+05  -2.11e-05      1.000   -1.28e+06    1.28e+06\n",
      "element_124           12.6804   2.08e+04      0.001      1.000   -4.07e+04    4.07e+04\n",
      "element_125           13.3997   2.08e+04      0.001      0.999   -4.07e+04    4.07e+04\n",
      "element_126           11.8051   2.08e+04      0.001      1.000   -4.07e+04    4.07e+04\n",
      "element_127           12.6464   2.08e+04      0.001      1.000   -4.07e+04    4.07e+04\n",
      "element_132           13.9955   2.08e+04      0.001      0.999   -4.07e+04    4.07e+04\n",
      "element_133          -20.1147   6.45e+05  -3.12e-05      1.000   -1.26e+06    1.26e+06\n",
      "element_134            7.1808   3.54e+04      0.000      1.000   -6.93e+04    6.93e+04\n",
      "element_138           -1.9226      1.227     -1.567      0.117      -4.327       0.481\n",
      "element_140          -26.7744   3.26e+05  -8.21e-05      1.000   -6.39e+05    6.39e+05\n",
      "element_141            0.6023      0.917      0.657      0.511      -1.196       2.401\n",
      "element_142           -2.1140      1.227     -1.723      0.085      -4.518       0.290\n",
      "element_143          -26.6537   1.27e+05     -0.000      1.000   -2.49e+05    2.49e+05\n",
      "element_145          -26.6770   1.32e+05     -0.000      1.000    -2.6e+05     2.6e+05\n",
      "element_146          -13.8844   3.77e+05  -3.69e-05      1.000   -7.38e+05    7.38e+05\n",
      "element_147          -13.8995   1.68e+05  -8.27e-05      1.000   -3.29e+05    3.29e+05\n",
      "element_149           12.1006   2.08e+04      0.001      1.000   -4.07e+04    4.07e+04\n",
      "element_150           12.5785   2.08e+04      0.001      1.000   -4.07e+04    4.07e+04\n",
      "element_151            6.5559   3.54e+04      0.000      1.000   -6.93e+04    6.93e+04\n",
      "element_152          -20.1662   6.45e+05  -3.13e-05      1.000   -1.26e+06    1.26e+06\n",
      "element_156          -26.8275   3.78e+05  -7.09e-05      1.000   -7.42e+05    7.42e+05\n",
      "element_157           -1.8704      1.227     -1.524      0.128      -4.276       0.535\n",
      "element_160          -26.8817   3.28e+05   -8.2e-05      1.000   -6.43e+05    6.42e+05\n",
      "element_161          -26.6375   2.47e+05     -0.000      1.000   -4.84e+05    4.84e+05\n",
      "element_162           -2.1033      1.227     -1.714      0.087      -4.509       0.302\n",
      "element_164           12.4078   2.08e+04      0.001      1.000   -4.07e+04    4.07e+04\n",
      "element_167          -14.0140   4.61e+05  -3.04e-05      1.000   -9.04e+05    9.04e+05\n",
      "element_168          -13.9321    1.5e+05  -9.32e-05      1.000   -2.93e+05    2.93e+05\n",
      "element_169          -13.9030   2.17e+05   -6.4e-05      1.000   -4.26e+05    4.26e+05\n",
      "element_170          -14.1520   4.63e+05  -3.06e-05      1.000   -9.07e+05    9.07e+05\n",
      "element_172           12.9787   2.08e+04      0.001      1.000   -4.07e+04    4.07e+04\n",
      "element_175            6.9796   3.54e+04      0.000      1.000   -6.93e+04    6.93e+04\n",
      "element_177          -19.8509    3.7e+05  -5.37e-05      1.000   -7.25e+05    7.25e+05\n",
      "element_180          -26.6674   1.96e+05     -0.000      1.000   -3.84e+05    3.84e+05\n",
      "element_181          -26.6780   1.35e+05     -0.000      1.000   -2.65e+05    2.64e+05\n",
      "element_182          -13.9392   2.46e+05  -5.67e-05      1.000   -4.82e+05    4.82e+05\n",
      "element_183          -13.9819   2.89e+05  -4.84e-05      1.000   -5.66e+05    5.66e+05\n",
      "element_184           11.3035   2.08e+04      0.001      1.000   -4.07e+04    4.07e+04\n",
      "element_185          -13.4413   6.54e+05  -2.05e-05      1.000   -1.28e+06    1.28e+06\n",
      "element_189            6.6010   3.54e+04      0.000      1.000   -6.93e+04    6.93e+04\n",
      "element_192           -2.0597      1.227     -1.679      0.093      -4.465       0.345\n",
      "element_193          -26.5502    1.8e+05     -0.000      1.000   -3.53e+05    3.53e+05\n",
      "element_194          -26.3923   2.92e+05  -9.05e-05      1.000   -5.72e+05    5.72e+05\n",
      "element_195           -0.8954      0.917     -0.977      0.329      -2.692       0.901\n",
      "element_197          -26.7321   1.68e+05     -0.000      1.000    -3.3e+05     3.3e+05\n",
      "element_198          -26.6738   1.57e+05     -0.000      1.000   -3.08e+05    3.08e+05\n",
      "element_199           11.8629   2.08e+04      0.001      1.000   -4.07e+04    4.07e+04\n",
      "element_200          -13.9866   3.76e+05  -3.72e-05      1.000   -7.37e+05    7.37e+05\n",
      "element_201          -13.8880   1.74e+05     -8e-05      1.000    -3.4e+05     3.4e+05\n",
      "element_202           11.6162   2.08e+04      0.001      1.000   -4.07e+04    4.07e+04\n",
      "element_206          -13.8468   2.16e+05  -6.41e-05      1.000   -4.23e+05    4.23e+05\n",
      "element_208          -13.7636   3.25e+05  -4.23e-05      1.000   -6.37e+05    6.37e+05\n",
      "element_210          -19.6299   2.63e+05  -7.45e-05      1.000   -5.16e+05    5.16e+05\n",
      "element_211            5.7354   3.54e+04      0.000      1.000   -6.93e+04    6.93e+04\n",
      "element_212          -19.7722   3.16e+05  -6.26e-05      1.000   -6.19e+05    6.19e+05\n",
      "element_215           -1.5980      1.227     -1.302      0.193      -4.003       0.807\n",
      "element_216          -26.4297   6.58e+05  -4.02e-05      1.000   -1.29e+06    1.29e+06\n",
      "element_217          -26.5897   6.58e+05  -4.04e-05      1.000   -1.29e+06    1.29e+06\n",
      "element_219          -26.6459    1.3e+05     -0.000      1.000   -2.54e+05    2.54e+05\n",
      "element_220           -0.6642      0.916     -0.725      0.468      -2.460       1.131\n",
      "element_221           -1.2580      1.004     -1.253      0.210      -3.226       0.710\n",
      "element_222          -26.6131   2.04e+05     -0.000      1.000      -4e+05       4e+05\n",
      "element_223           13.7043   2.08e+04      0.001      0.999   -4.07e+04    4.07e+04\n",
      "element_224           11.7650   2.08e+04      0.001      1.000   -4.07e+04    4.07e+04\n",
      "element_225           13.2722   2.08e+04      0.001      0.999   -4.07e+04    4.07e+04\n",
      "element_226          -13.9272   2.66e+05  -5.24e-05      1.000   -5.21e+05    5.21e+05\n",
      "element_227           11.3937   2.08e+04      0.001      1.000   -4.07e+04    4.07e+04\n",
      "element_228          -13.8729   6.54e+05  -2.12e-05      1.000   -1.28e+06    1.28e+06\n",
      "element_230          -13.6655   4.59e+05  -2.98e-05      1.000      -9e+05       9e+05\n",
      "element_233           12.8386   2.08e+04      0.001      1.000   -4.07e+04    4.07e+04\n",
      "element_234            6.2138   3.54e+04      0.000      1.000   -6.93e+04    6.93e+04\n",
      "element_236          -19.6856   3.72e+05   -5.3e-05      1.000   -7.28e+05    7.28e+05\n",
      "element_239           -1.0136      1.229     -0.825      0.409      -3.422       1.395\n",
      "element_240          -27.0099   6.58e+05  -4.11e-05      1.000   -1.29e+06    1.29e+06\n",
      "element_241          -26.6141   2.92e+05  -9.11e-05      1.000   -5.73e+05    5.73e+05\n",
      "element_242          -26.6265   1.96e+05     -0.000      1.000   -3.84e+05    3.84e+05\n",
      "element_243           -0.9794      1.229     -0.797      0.426      -3.389       1.430\n",
      "element_245           -1.6763      1.228     -1.366      0.172      -4.082       0.730\n",
      "element_246           -2.1098      1.227     -1.719      0.086      -4.516       0.296\n",
      "element_247          -26.6609   1.39e+05     -0.000      1.000   -2.72e+05    2.72e+05\n",
      "element_249          -13.9184   2.17e+05  -6.42e-05      1.000   -4.25e+05    4.25e+05\n",
      "element_251           13.0777   2.08e+04      0.001      0.999   -4.07e+04    4.07e+04\n",
      "element_252           11.1527   2.08e+04      0.001      1.000   -4.07e+04    4.07e+04\n",
      "element_253           13.6137   2.08e+04      0.001      0.999   -4.07e+04    4.07e+04\n",
      "element_254           12.0989   2.08e+04      0.001      1.000   -4.07e+04    4.07e+04\n",
      "element_255          -13.9352   1.89e+05  -7.38e-05      1.000    -3.7e+05     3.7e+05\n",
      "element_256          -13.9266    2.9e+05   -4.8e-05      1.000   -5.69e+05    5.69e+05\n",
      "element_257            7.3542   3.54e+04      0.000      1.000   -6.93e+04    6.93e+04\n",
      "element_258            6.5190   3.54e+04      0.000      1.000   -6.93e+04    6.93e+04\n",
      "element_262          -26.5297   1.62e+05     -0.000      1.000   -3.17e+05    3.17e+05\n",
      "element_263          -26.7641   2.88e+05  -9.28e-05      1.000   -5.65e+05    5.65e+05\n",
      "element_264          -26.7955   2.18e+05     -0.000      1.000   -4.28e+05    4.28e+05\n",
      "element_265           -1.8904      1.227     -1.540      0.123      -4.296       0.515\n",
      "element_266           -0.7403      1.228     -0.603      0.547      -3.148       1.667\n",
      "element_267          -26.6377   2.15e+05     -0.000      1.000   -4.21e+05    4.21e+05\n",
      "element_268           -1.4635      1.003     -1.459      0.144      -3.429       0.502\n",
      "element_269          -26.6117   2.66e+05     -0.000      1.000   -5.21e+05    5.21e+05\n",
      "element_270           13.2571   2.08e+04      0.001      0.999   -4.07e+04    4.07e+04\n",
      "element_271           12.8387   2.08e+04      0.001      1.000   -4.07e+04    4.07e+04\n",
      "element_272           10.8664   2.08e+04      0.001      1.000   -4.07e+04    4.07e+04\n",
      "element_273          -13.9247   4.61e+05  -3.02e-05      1.000   -9.04e+05    9.04e+05\n",
      "element_274           12.9727   2.08e+04      0.001      1.000   -4.07e+04    4.07e+04\n",
      "element_275           13.4380   2.08e+04      0.001      0.999   -4.07e+04    4.07e+04\n",
      "element_276           12.0004   2.08e+04      0.001      1.000   -4.07e+04    4.07e+04\n",
      "element_279          -14.0484   3.73e+05  -3.77e-05      1.000   -7.31e+05    7.31e+05\n",
      "element_280            7.1694   3.54e+04      0.000      1.000   -6.93e+04    6.93e+04\n",
      "element_281            7.6810   3.54e+04      0.000      1.000   -6.93e+04    6.93e+04\n",
      "element_284           -1.3934      1.228     -1.135      0.256      -3.799       1.013\n",
      "element_285          -26.8483   2.17e+05     -0.000      1.000   -4.25e+05    4.25e+05\n",
      "element_286           -1.8830      1.228     -1.534      0.125      -4.289       0.523\n",
      "element_288          -26.6294    2.9e+05  -9.18e-05      1.000   -5.69e+05    5.69e+05\n",
      "element_289          -26.4824   3.23e+05  -8.19e-05      1.000   -6.34e+05    6.34e+05\n",
      "element_291          -26.6135   2.89e+05   -9.2e-05      1.000   -5.67e+05    5.67e+05\n",
      "element_292           -1.8841      1.228     -1.534      0.125      -4.292       0.523\n",
      "element_293           -1.8182      1.227     -1.481      0.139      -4.224       0.588\n",
      "element_294          -26.8616   3.27e+05   -8.2e-05      1.000   -6.42e+05    6.42e+05\n",
      "element_295          -14.0277   6.54e+05  -2.14e-05      1.000   -1.28e+06    1.28e+06\n",
      "element_296           10.7577   2.08e+04      0.001      1.000   -4.07e+04    4.07e+04\n",
      "element_297           12.2562   2.08e+04      0.001      1.000   -4.07e+04    4.07e+04\n",
      "element_298          -13.8845   2.65e+05  -5.25e-05      1.000   -5.19e+05    5.19e+05\n",
      "element_299           12.4188   2.08e+04      0.001      1.000   -4.07e+04    4.07e+04\n",
      "element_300           12.8540   2.08e+04      0.001      1.000   -4.07e+04    4.07e+04\n",
      "element_301           13.7346   2.08e+04      0.001      0.999   -4.07e+04    4.07e+04\n",
      "element_302           12.9823   2.08e+04      0.001      1.000   -4.07e+04    4.07e+04\n",
      "element_303          -13.9661   4.61e+05  -3.03e-05      1.000   -9.03e+05    9.03e+05\n",
      "element_304          -13.9349   3.76e+05   -3.7e-05      1.000   -7.37e+05    7.37e+05\n",
      "element_305            7.1212   3.54e+04      0.000      1.000   -6.93e+04    6.93e+04\n",
      "element_306            7.2320   3.54e+04      0.000      1.000   -6.93e+04    6.93e+04\n",
      "element_310           -1.8234      1.228     -1.485      0.137      -4.230       0.583\n",
      "element_311           -0.2975      1.004     -0.296      0.767      -2.266       1.671\n",
      "element_312          -26.6092   1.45e+05     -0.000      1.000   -2.84e+05    2.84e+05\n",
      "element_313          -26.6349   1.74e+05     -0.000      1.000    -3.4e+05     3.4e+05\n",
      "element_314          -26.5160   2.89e+05  -9.18e-05      1.000   -5.66e+05    5.66e+05\n",
      "element_315          -26.6252   3.27e+05  -8.14e-05      1.000   -6.41e+05    6.41e+05\n",
      "element_317           11.2725   2.08e+04      0.001      1.000   -4.07e+04    4.07e+04\n",
      "element_318          -13.9402   2.45e+05  -5.69e-05      1.000   -4.81e+05    4.81e+05\n",
      "element_319          -13.8526   1.53e+05  -9.03e-05      1.000   -3.01e+05    3.01e+05\n",
      "element_320          -13.8518   2.16e+05  -6.41e-05      1.000   -4.24e+05    4.24e+05\n",
      "element_323           12.0040   2.08e+04      0.001      1.000   -4.07e+04    4.07e+04\n",
      "element_324          -13.9105    2.3e+05  -6.06e-05      1.000    -4.5e+05     4.5e+05\n",
      "element_326            6.0279   3.54e+04      0.000      1.000   -6.93e+04    6.93e+04\n",
      "element_327          -19.6783   3.18e+05   -6.2e-05      1.000   -6.22e+05    6.22e+05\n",
      "element_330           -1.4646      1.229     -1.192      0.233      -3.873       0.944\n",
      "element_331          -26.5653   2.31e+05     -0.000      1.000   -4.52e+05    4.52e+05\n",
      "element_332           -1.5001      1.228     -1.222      0.222      -3.906       0.906\n",
      "element_333           -1.4562      1.229     -1.185      0.236      -3.866       0.953\n",
      "element_335          -26.6894   1.96e+05     -0.000      1.000   -3.85e+05    3.85e+05\n",
      "element_336          -26.6427   1.79e+05     -0.000      1.000   -3.52e+05    3.52e+05\n",
      "element_337          -13.5328   6.54e+05  -2.07e-05      1.000   -1.28e+06    1.28e+06\n",
      "element_338           12.9430   2.08e+04      0.001      1.000   -4.07e+04    4.07e+04\n",
      "element_339          -13.9595   2.05e+05  -6.81e-05      1.000   -4.02e+05    4.02e+05\n",
      "element_340           11.8352   2.08e+04      0.001      1.000   -4.07e+04    4.07e+04\n",
      "element_343           11.8311   2.08e+04      0.001      1.000   -4.07e+04    4.07e+04\n",
      "element_344          -13.8598   1.68e+05  -8.27e-05      1.000   -3.29e+05    3.29e+05\n",
      "element_345           12.3667   2.08e+04      0.001      1.000   -4.07e+04    4.07e+04\n",
      "element_346          -13.8134   4.61e+05     -3e-05      1.000   -9.04e+05    9.04e+05\n",
      "element_347          -19.6391   4.52e+05  -4.35e-05      1.000   -8.85e+05    8.85e+05\n",
      "element_349            7.2315   3.54e+04      0.000      1.000   -6.93e+04    6.93e+04\n",
      "element_353          -26.7005   1.39e+05     -0.000      1.000   -2.72e+05    2.72e+05\n",
      "element_354          -26.8485   1.96e+05     -0.000      1.000   -3.85e+05    3.85e+05\n",
      "element_355           -1.2652      1.229     -1.029      0.303      -3.674       1.144\n",
      "element_356          -26.6083    1.8e+05     -0.000      1.000   -3.53e+05    3.53e+05\n",
      "element_357           -1.8532      1.227     -1.510      0.131      -4.258       0.552\n",
      "element_358          -26.9285   6.58e+05  -4.09e-05      1.000   -1.29e+06    1.29e+06\n",
      "element_359           -1.4765      1.228     -1.202      0.229      -3.883       0.930\n",
      "element_360          -26.4521   3.79e+05  -6.97e-05      1.000   -7.44e+05    7.44e+05\n",
      "element_361           12.2474   2.08e+04      0.001      1.000   -4.07e+04    4.07e+04\n",
      "element_362          -13.8692   3.75e+05   -3.7e-05      1.000   -7.35e+05    7.35e+05\n",
      "element_363           13.4121   2.08e+04      0.001      0.999   -4.07e+04    4.07e+04\n",
      "element_364           12.2505   2.08e+04      0.001      1.000   -4.07e+04    4.07e+04\n",
      "element_365           12.6622   2.08e+04      0.001      1.000   -4.07e+04    4.07e+04\n",
      "element_366          -13.6494   6.54e+05  -2.09e-05      1.000   -1.28e+06    1.28e+06\n",
      "element_367           13.4989   2.08e+04      0.001      0.999   -4.07e+04    4.07e+04\n",
      "element_368           11.2308   2.08e+04      0.001      1.000   -4.07e+04    4.07e+04\n",
      "element_369          -13.8603   1.74e+05  -7.97e-05      1.000   -3.41e+05    3.41e+05\n",
      "element_370           13.1678   2.08e+04      0.001      0.999   -4.07e+04    4.07e+04\n",
      "element_371            7.2315   3.54e+04      0.000      1.000   -6.93e+04    6.93e+04\n",
      "element_372            7.5735   3.54e+04      0.000      1.000   -6.93e+04    6.93e+04\n",
      "element_376           -0.9561      0.917     -1.043      0.297      -2.753       0.841\n",
      "element_378           -0.8796      0.917     -0.959      0.337      -2.677       0.918\n",
      "element_380          -26.7089   1.87e+05     -0.000      1.000   -3.67e+05    3.67e+05\n",
      "element_381          -26.7321   2.17e+05     -0.000      1.000   -4.26e+05    4.26e+05\n",
      "element_382          -26.6835    1.8e+05     -0.000      1.000   -3.53e+05    3.53e+05\n",
      "element_383          -26.6454   1.74e+05     -0.000      1.000   -3.41e+05    3.41e+05\n",
      "element_386          -26.5863   3.73e+05  -7.14e-05      1.000    -7.3e+05     7.3e+05\n",
      "element_387          -14.1581   6.54e+05  -2.16e-05      1.000   -1.28e+06    1.28e+06\n",
      "element_388          -14.2369   4.59e+05   -3.1e-05      1.000      -9e+05       9e+05\n",
      "element_389           10.7880   2.08e+04      0.001      1.000   -4.07e+04    4.07e+04\n",
      "element_390           11.5414   2.08e+04      0.001      1.000   -4.07e+04    4.07e+04\n",
      "element_391           12.6551   2.08e+04      0.001      1.000   -4.07e+04    4.07e+04\n",
      "element_392          -13.8350   2.17e+05  -6.37e-05      1.000   -4.26e+05    4.26e+05\n",
      "element_393           13.1089   2.08e+04      0.001      0.999   -4.07e+04    4.07e+04\n",
      "element_394           12.5154   2.08e+04      0.001      1.000   -4.07e+04    4.07e+04\n",
      "element_395            8.1852   3.54e+04      0.000      1.000   -6.93e+04    6.93e+04\n",
      "element_396            6.6790   3.54e+04      0.000      1.000   -6.93e+04    6.93e+04\n",
      "element_402          -26.7382   1.95e+05     -0.000      1.000   -3.83e+05    3.83e+05\n",
      "element_403          -26.6955   1.95e+05     -0.000      1.000   -3.82e+05    3.82e+05\n",
      "element_405          -26.6872   1.58e+05     -0.000      1.000    -3.1e+05     3.1e+05\n",
      "element_406           -2.0122      1.227     -1.639      0.101      -4.418       0.394\n",
      "element_408          -26.3132   3.23e+05  -8.16e-05      1.000   -6.32e+05    6.32e+05\n",
      "element_409          -26.6788   1.33e+05     -0.000      1.000    -2.6e+05     2.6e+05\n",
      "element_410          -13.8590    1.8e+05  -7.68e-05      1.000   -3.54e+05    3.54e+05\n",
      "element_411           12.0040   2.08e+04      0.001      1.000   -4.07e+04    4.07e+04\n",
      "element_412          -13.8601   1.95e+05  -7.09e-05      1.000   -3.83e+05    3.83e+05\n",
      "element_413          -13.7916   2.91e+05  -4.74e-05      1.000   -5.71e+05    5.71e+05\n",
      "element_415           12.4015   2.08e+04      0.001      1.000   -4.07e+04    4.07e+04\n",
      "element_417            7.1608   3.54e+04      0.000      1.000   -6.93e+04    6.93e+04\n",
      "element_419            8.8751   3.54e+04      0.000      1.000   -6.93e+04    6.93e+04\n",
      "element_423           -0.9097      0.916     -0.993      0.321      -2.705       0.886\n",
      "element_425           -0.8478      0.916     -0.926      0.355      -2.643       0.947\n",
      "element_426            0.0362      1.004      0.036      0.971      -1.932       2.004\n",
      "element_427           -2.0729      1.227     -1.689      0.091      -4.478       0.332\n",
      "element_430          -26.6339   1.27e+05     -0.000      1.000    -2.5e+05     2.5e+05\n",
      "element_431          -26.6421   3.74e+05  -7.13e-05      1.000   -7.33e+05    7.33e+05\n",
      "element_432           13.2474   2.08e+04      0.001      0.999   -4.07e+04    4.07e+04\n",
      "element_433           11.5103   2.08e+04      0.001      1.000   -4.07e+04    4.07e+04\n",
      "element_435          -14.0485   4.62e+05  -3.04e-05      1.000   -9.05e+05    9.05e+05\n",
      "element_437            7.0772   3.54e+04      0.000      1.000   -6.93e+04    6.93e+04\n",
      "element_440          -26.6917   2.17e+05     -0.000      1.000   -4.26e+05    4.26e+05\n",
      "element_441          -26.5676   6.58e+05  -4.04e-05      1.000   -1.29e+06    1.29e+06\n",
      "element_447          -13.6976    3.7e+05   -3.7e-05      1.000   -7.25e+05    7.25e+05\n",
      "element_450           11.8429   2.08e+04      0.001      1.000   -4.07e+04    4.07e+04\n",
      "element_451          -13.9084   1.73e+05  -8.04e-05      1.000   -3.39e+05    3.39e+05\n",
      "element_453          -13.6590   6.54e+05  -2.09e-05      1.000   -1.28e+06    1.28e+06\n",
      "element_455          -26.6665   1.61e+05     -0.000      1.000   -3.16e+05    3.16e+05\n",
      "element_456           11.2205   2.08e+04      0.001      1.000   -4.07e+04    4.07e+04\n",
      "element_458          -14.0147   2.17e+05  -6.46e-05      1.000   -4.25e+05    4.25e+05\n",
      "element_459           10.9069   2.08e+04      0.001      1.000   -4.07e+04    4.07e+04\n",
      "element_460          -26.6317   1.86e+05     -0.000      1.000   -3.65e+05    3.65e+05\n",
      "element_461          -26.6802   1.96e+05     -0.000      1.000   -3.84e+05    3.84e+05\n",
      "element_462           13.1137   2.08e+04      0.001      0.999   -4.07e+04    4.07e+04\n",
      "element_463          -26.6820   1.67e+05     -0.000      1.000   -3.27e+05    3.27e+05\n",
      "element_464           -1.6310      1.227     -1.329      0.184      -4.037       0.775\n",
      "element_465           12.7635   2.08e+04      0.001      1.000   -4.07e+04    4.07e+04\n",
      "element_466          -13.9159   2.65e+05  -5.24e-05      1.000    -5.2e+05     5.2e+05\n",
      "element_467          -26.6922   2.45e+05     -0.000      1.000   -4.81e+05    4.81e+05\n",
      "element_471          -13.8457   4.62e+05     -3e-05      1.000   -9.06e+05    9.06e+05\n",
      "element_472          -20.0203   4.56e+05  -4.39e-05      1.000   -8.93e+05    8.93e+05\n",
      "element_473          -26.4860   3.72e+05  -7.12e-05      1.000   -7.29e+05    7.29e+05\n",
      "element_475          -13.9162   1.58e+05  -8.79e-05      1.000    -3.1e+05     3.1e+05\n",
      "element_476          -13.8046   3.75e+05  -3.68e-05      1.000   -7.35e+05    7.35e+05\n",
      "element_478           12.9795   2.08e+04      0.001      1.000   -4.07e+04    4.07e+04\n",
      "element_479          -26.6722   2.06e+05     -0.000      1.000   -4.05e+05    4.05e+05\n",
      "element_480            7.0701   3.54e+04      0.000      1.000   -6.93e+04    6.93e+04\n",
      "element_481          -14.0277   6.54e+05  -2.14e-05      1.000   -1.28e+06    1.28e+06\n",
      "element_482           -0.5670      1.003     -0.565      0.572      -2.533       1.399\n",
      "element_483           -1.6203      1.228     -1.319      0.187      -4.028       0.787\n",
      "element_484           -0.8396      0.917     -0.916      0.360      -2.636       0.957\n",
      "element_486          -13.9301   2.88e+05  -4.84e-05      1.000   -5.64e+05    5.64e+05\n",
      "element_487          -26.5737   2.04e+05     -0.000      1.000      -4e+05       4e+05\n",
      "element_488          -19.1191   6.45e+05  -2.96e-05      1.000   -1.26e+06    1.26e+06\n",
      "element_489           12.1832   2.08e+04      0.001      1.000   -4.07e+04    4.07e+04\n",
      "element_492           13.1491   2.08e+04      0.001      0.999   -4.07e+04    4.07e+04\n",
      "element_493            6.9323   3.54e+04      0.000      1.000   -6.93e+04    6.93e+04\n",
      "element_494          -13.8784   1.63e+05  -8.53e-05      1.000   -3.19e+05    3.19e+05\n",
      "element_503          -26.6067   1.53e+05     -0.000      1.000      -3e+05       3e+05\n",
      "element_504           12.1793   2.08e+04      0.001      1.000   -4.07e+04    4.07e+04\n",
      "element_505            6.5784   3.54e+04      0.000      1.000   -6.93e+04    6.93e+04\n",
      "element_506           -0.7650      1.229     -0.622      0.534      -3.174       1.644\n",
      "element_507          -13.7573    3.7e+05  -3.72e-05      1.000   -7.25e+05    7.25e+05\n",
      "element_508           11.5020   2.08e+04      0.001      1.000   -4.07e+04    4.07e+04\n",
      "element_510          -26.5656   2.17e+05     -0.000      1.000   -4.26e+05    4.26e+05\n",
      "element_511          -26.8026    2.9e+05  -9.25e-05      1.000   -5.68e+05    5.68e+05\n",
      "element_512          -13.8173   3.75e+05  -3.68e-05      1.000   -7.36e+05    7.36e+05\n",
      "element_513          -19.8663   3.67e+05  -5.41e-05      1.000   -7.19e+05    7.19e+05\n",
      "element_514          -13.9768   4.55e+05  -3.07e-05      1.000   -8.91e+05    8.91e+05\n",
      "element_515          -26.9168   4.63e+05  -5.81e-05      1.000   -9.08e+05    9.08e+05\n",
      "element_516          -26.6223    1.8e+05     -0.000      1.000   -3.52e+05    3.52e+05\n",
      "element_517           13.0585   2.08e+04      0.001      0.999   -4.07e+04    4.07e+04\n",
      "element_518          -13.7668   4.58e+05     -3e-05      1.000   -8.98e+05    8.98e+05\n",
      "element_519           12.5970   2.08e+04      0.001      1.000   -4.07e+04    4.07e+04\n",
      "element_522            1.5715      1.249      1.258      0.208      -0.877       4.020\n",
      "element_524          -19.8575   3.72e+05  -5.34e-05      1.000    -7.3e+05    7.29e+05\n",
      "element_526           -1.9364      1.227     -1.578      0.115      -4.341       0.469\n",
      "element_527          -13.8672   1.49e+05  -9.31e-05      1.000   -2.92e+05    2.92e+05\n",
      "element_531          -13.7358   2.88e+05  -4.77e-05      1.000   -5.65e+05    5.65e+05\n",
      "element_534           12.3884   2.08e+04      0.001      1.000   -4.07e+04    4.07e+04\n",
      "element_535          -13.9983   4.56e+05  -3.07e-05      1.000   -8.94e+05    8.94e+05\n",
      "element_539          -14.3208   6.54e+05  -2.19e-05      1.000   -1.28e+06    1.28e+06\n",
      "element_549           -0.6753      1.229     -0.550      0.583      -3.084       1.733\n",
      "element_556          -26.5398   2.92e+05  -9.08e-05      1.000   -5.73e+05    5.73e+05\n",
      "element_565          -26.3446   6.58e+05  -4.01e-05      1.000   -1.29e+06    1.29e+06\n",
      "element_570          -14.1977   6.54e+05  -2.17e-05      1.000   -1.28e+06    1.28e+06\n",
      "element_571          -13.6297   4.62e+05  -2.95e-05      1.000   -9.06e+05    9.06e+05\n",
      "element_575          -13.9983   4.56e+05  -3.07e-05      1.000   -8.94e+05    8.94e+05\n",
      "element_579            8.0152   3.54e+04      0.000      1.000   -6.93e+04    6.93e+04\n",
      "element_591          -13.5328   6.54e+05  -2.07e-05      1.000   -1.28e+06    1.28e+06\n",
      "======================================================================================\n"
     ]
    }
   ],
   "source": [
    "print(sppm_results.summary())"
   ]
  },
  {
   "cell_type": "code",
   "execution_count": 49,
   "metadata": {
    "ExecuteTime": {
     "end_time": "2019-02-23T13:16:11.982936Z",
     "start_time": "2019-02-23T13:16:11.972891Z"
    },
    "hidden": true
   },
   "outputs": [
    {
     "data": {
      "text/plain": [
       "const                 0.067716\n",
       "was_home              0.194132\n",
       "opposition_team_3     0.076961\n",
       "opposition_team_4     0.070622\n",
       "opposition_team_5     0.125236\n",
       "opposition_team_9     0.174585\n",
       "opposition_team_10    0.154554\n",
       "opposition_team_16    0.087555\n",
       "element_9             0.179440\n",
       "element_27            0.084745\n",
       "element_31            0.165023\n",
       "element_48            0.197462\n",
       "element_115           0.096619\n",
       "element_116           0.152386\n",
       "element_118           0.090819\n",
       "element_138           0.117012\n",
       "element_142           0.084809\n",
       "element_157           0.127573\n",
       "element_162           0.086557\n",
       "element_192           0.093207\n",
       "element_215           0.192808\n",
       "element_245           0.172051\n",
       "element_246           0.085634\n",
       "element_265           0.123467\n",
       "element_268           0.144444\n",
       "element_286           0.125115\n",
       "element_292           0.125072\n",
       "element_293           0.138536\n",
       "element_310           0.137491\n",
       "element_357           0.130991\n",
       "element_406           0.101152\n",
       "element_427           0.091189\n",
       "element_464           0.183930\n",
       "element_483           0.187093\n",
       "element_526           0.114566\n",
       "dtype: float64"
      ]
     },
     "execution_count": 49,
     "metadata": {},
     "output_type": "execute_result"
    }
   ],
   "source": [
    "pd.Series(sppm_results.pvalues)[sppm_results.pvalues < 0.2]"
   ]
  },
  {
   "cell_type": "markdown",
   "metadata": {},
   "source": [
    "## Simple Gaussian model"
   ]
  },
  {
   "cell_type": "markdown",
   "metadata": {},
   "source": [
    "### Preparing data"
   ]
  },
  {
   "cell_type": "code",
   "execution_count": null,
   "metadata": {
    "ExecuteTime": {
     "end_time": "2019-02-22T16:42:56.125666Z",
     "start_time": "2019-02-22T16:42:43.946Z"
    }
   },
   "outputs": [],
   "source": [
    "sgmt_df = element_gameweek_df.copy()"
   ]
  },
  {
   "cell_type": "code",
   "execution_count": null,
   "metadata": {
    "ExecuteTime": {
     "end_time": "2019-02-22T16:42:56.126900Z",
     "start_time": "2019-02-22T16:42:43.950Z"
    }
   },
   "outputs": [],
   "source": [
    "sgmt_redundant_columns = [\n",
    "    'row_id', 'assists', 'attempted_passes', 'big_chances_created',\n",
    "    'big_chances_missed', 'bonus', 'bps', 'clean_sheets',\n",
    "    'clearances_blocks_interceptions', 'completed_passes', 'creativity',\n",
    "    'dribbles', 'ea_index', 'element', 'errors_leading_to_goal',\n",
    "    'errors_leading_to_goal_attempt', 'fixture', 'fouls', 'goals_conceded',\n",
    "    'ict_index', 'id', 'influence', 'key_passes', 'kickoff_time',\n",
    "    'kickoff_time_formatted', 'loaned_in', 'loaned_out', 'minutes', 'offside',\n",
    "    'open_play_crosses', 'opponent_team', 'own_goals', 'penalties_conceded',\n",
    "    'penalties_missed', 'penalties_saved', 'recoveries', 'red_cards', 'round',\n",
    "    'saves', 'selected', 'tackled', 'tackles', 'target_missed', 'team_a_score',\n",
    "    'team_h_score', 'threat', 'total_points', 'transfers_balance',\n",
    "    'transfers_in', 'transfers_out', 'value', 'winning_goals',\n",
    "    'yellow_cards', 'event', 'team_a', 'team_a_difficulty', 'team_h',\n",
    "    'team_h_difficulty', 'element_type', 'team', 'web_name', 'safe_web_name',\n",
    "    'own_team', 'opposition_team'\n",
    "]"
   ]
  },
  {
   "cell_type": "code",
   "execution_count": null,
   "metadata": {
    "ExecuteTime": {
     "end_time": "2019-02-22T16:42:56.128306Z",
     "start_time": "2019-02-22T16:42:43.953Z"
    }
   },
   "outputs": [],
   "source": [
    "sgmt_df = player.remove_redundant_columns(sgmt_df, sgmt_redundant_columns)"
   ]
  },
  {
   "cell_type": "code",
   "execution_count": null,
   "metadata": {
    "ExecuteTime": {
     "end_time": "2019-02-22T16:42:56.129572Z",
     "start_time": "2019-02-22T16:42:43.956Z"
    }
   },
   "outputs": [],
   "source": [
    "sgmt_response_df, sgmt_explanatory_df = player.get_response_explanatory_dfs(sgmt_df, 'goals_scored')"
   ]
  },
  {
   "cell_type": "markdown",
   "metadata": {},
   "source": [
    "### Fitting model"
   ]
  },
  {
   "cell_type": "code",
   "execution_count": null,
   "metadata": {
    "ExecuteTime": {
     "end_time": "2019-02-22T16:42:56.130738Z",
     "start_time": "2019-02-22T16:42:43.958Z"
    }
   },
   "outputs": [],
   "source": [
    "sgmt_results = sm.GLM(\n",
    "    sgmt_response_df,\n",
    "    sgmt_explanatory_df,\n",
    "    family=sm.families.Gaussian(),\n",
    "    missing='drop'\n",
    ").fit()"
   ]
  },
  {
   "cell_type": "code",
   "execution_count": null,
   "metadata": {
    "ExecuteTime": {
     "end_time": "2019-02-22T16:42:56.131957Z",
     "start_time": "2019-02-22T16:42:43.961Z"
    }
   },
   "outputs": [],
   "source": [
    "print(sgmt_results.summary())"
   ]
  },
  {
   "cell_type": "code",
   "execution_count": null,
   "metadata": {
    "ExecuteTime": {
     "end_time": "2019-02-22T16:42:56.133175Z",
     "start_time": "2019-02-22T16:42:43.964Z"
    }
   },
   "outputs": [],
   "source": [
    "sgmt_results.pvalues[sgmt_results.pvalues < 0.1]"
   ]
  },
  {
   "cell_type": "code",
   "execution_count": null,
   "metadata": {},
   "outputs": [],
   "source": []
  }
 ],
 "metadata": {
  "kernelspec": {
   "display_name": "Python 3",
   "language": "python",
   "name": "python3"
  },
  "language_info": {
   "codemirror_mode": {
    "name": "ipython",
    "version": 3
   },
   "file_extension": ".py",
   "mimetype": "text/x-python",
   "name": "python",
   "nbconvert_exporter": "python",
   "pygments_lexer": "ipython3",
   "version": "3.6.7"
  },
  "toc": {
   "nav_menu": {},
   "number_sections": true,
   "sideBar": true,
   "skip_h1_title": false,
   "title_cell": "Table of Contents",
   "title_sidebar": "Contents",
   "toc_cell": false,
   "toc_position": {},
   "toc_section_display": true,
   "toc_window_display": false
  }
 },
 "nbformat": 4,
 "nbformat_minor": 2
}
