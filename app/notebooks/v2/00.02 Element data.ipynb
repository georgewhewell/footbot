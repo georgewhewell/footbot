{
 "cells": [
  {
   "cell_type": "markdown",
   "metadata": {
    "ExecuteTime": {
     "end_time": "2019-09-07T14:13:58.207757Z",
     "start_time": "2019-09-07T14:13:58.202638Z"
    }
   },
   "source": [
    "# Set up"
   ]
  },
  {
   "cell_type": "code",
   "execution_count": 15,
   "metadata": {
    "ExecuteTime": {
     "end_time": "2019-09-08T03:19:26.818462Z",
     "start_time": "2019-09-08T03:19:26.812574Z"
    }
   },
   "outputs": [],
   "source": [
    "import pandas as pd\n",
    "import json\n",
    "import matplotlib.pyplot as plt\n",
    "import numpy as np\n",
    "import requests\n",
    "import datetime"
   ]
  },
  {
   "cell_type": "code",
   "execution_count": 13,
   "metadata": {
    "ExecuteTime": {
     "end_time": "2019-09-08T03:16:23.288905Z",
     "start_time": "2019-09-08T03:16:23.285241Z"
    }
   },
   "outputs": [],
   "source": [
    "pd.set_option('display.max_rows', 50)\n",
    "pd.set_option('display.max_columns', 500)"
   ]
  },
  {
   "cell_type": "markdown",
   "metadata": {},
   "source": [
    "# Getting data"
   ]
  },
  {
   "cell_type": "code",
   "execution_count": 3,
   "metadata": {
    "ExecuteTime": {
     "end_time": "2019-09-08T03:10:19.023149Z",
     "start_time": "2019-09-08T03:10:18.949862Z"
    }
   },
   "outputs": [
    {
     "data": {
      "text/plain": [
       "4"
      ]
     },
     "execution_count": 3,
     "metadata": {},
     "output_type": "execute_result"
    }
   ],
   "source": [
    "bootstrap_request = requests.get('https://fantasy.premierleague.com/api/bootstrap-static/')\n",
    "bootstrap_data = bootstrap_request.json()\n",
    "\n",
    "current_event = [i for i in bootstrap_data['events'] if i['is_current']][0]['id']\n",
    "current_event"
   ]
  },
  {
   "cell_type": "code",
   "execution_count": 17,
   "metadata": {
    "ExecuteTime": {
     "end_time": "2019-09-08T03:20:12.919028Z",
     "start_time": "2019-09-08T03:20:12.915032Z"
    }
   },
   "outputs": [],
   "source": [
    "current_datetime = str(datetime.datetime.now())"
   ]
  },
  {
   "cell_type": "code",
   "execution_count": 19,
   "metadata": {
    "ExecuteTime": {
     "end_time": "2019-09-08T03:21:26.489384Z",
     "start_time": "2019-09-08T03:21:26.459432Z"
    },
    "scrolled": false
   },
   "outputs": [],
   "source": [
    "element_df = pd.DataFrame(bootstrap_data['elements'])\n",
    "\n",
    "element_df['element'] = element_df['id']\n",
    "element_df['current_event'] = current_event\n",
    "element_df['datetime'] = current_datetime\n",
    "\n",
    "element_df = element_df[[\n",
    "    'element', 'current_event', 'datetime', 'web_name', 'assists', 'bonus', 'bps',\n",
    "    'chance_of_playing_next_round', 'chance_of_playing_this_round',\n",
    "    'clean_sheets', 'code', 'cost_change_event', 'cost_change_event_fall',\n",
    "    'cost_change_start', 'cost_change_start_fall', 'creativity',\n",
    "    'dreamteam_count', 'element_type', 'ep_next', 'ep_this', 'event_points',\n",
    "    'first_name', 'form', 'goals_conceded', 'goals_scored', 'ict_index',\n",
    "    'in_dreamteam', 'influence', 'minutes', 'news', 'news_added', 'now_cost',\n",
    "    'own_goals', 'penalties_missed', 'penalties_saved', 'photo',\n",
    "    'points_per_game', 'red_cards', 'saves', 'second_name',\n",
    "    'selected_by_percent', 'special', 'squad_number', 'status', 'team',\n",
    "    'team_code', 'threat', 'total_points', 'transfers_in',\n",
    "    'transfers_in_event', 'transfers_out', 'transfers_out_event', 'value_form',\n",
    "    'value_season', 'yellow_cards'\n",
    "]]"
   ]
  },
  {
   "cell_type": "code",
   "execution_count": null,
   "metadata": {},
   "outputs": [],
   "source": []
  }
 ],
 "metadata": {
  "kernelspec": {
   "display_name": "Python 3",
   "language": "python",
   "name": "python3"
  },
  "language_info": {
   "codemirror_mode": {
    "name": "ipython",
    "version": 3
   },
   "file_extension": ".py",
   "mimetype": "text/x-python",
   "name": "python",
   "nbconvert_exporter": "python",
   "pygments_lexer": "ipython3",
   "version": "3.6.7"
  },
  "toc": {
   "nav_menu": {},
   "number_sections": true,
   "sideBar": true,
   "skip_h1_title": false,
   "title_cell": "Table of Contents",
   "title_sidebar": "Contents",
   "toc_cell": false,
   "toc_position": {},
   "toc_section_display": true,
   "toc_window_display": false
  }
 },
 "nbformat": 4,
 "nbformat_minor": 2
}
