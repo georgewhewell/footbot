{
 "cells": [
  {
   "cell_type": "markdown",
   "metadata": {
    "heading_collapsed": true
   },
   "source": [
    "# Set up"
   ]
  },
  {
   "cell_type": "code",
   "execution_count": 1,
   "metadata": {
    "ExecuteTime": {
     "end_time": "2019-03-16T16:02:23.625730Z",
     "start_time": "2019-03-16T16:02:23.619470Z"
    },
    "hidden": true
   },
   "outputs": [],
   "source": [
    "# update path with data dir\n",
    "import sys\n",
    "sys.path.append('../data/')\n",
    "sys.path.append('../modelling/')"
   ]
  },
  {
   "cell_type": "code",
   "execution_count": 2,
   "metadata": {
    "ExecuteTime": {
     "end_time": "2019-03-16T16:02:24.896946Z",
     "start_time": "2019-03-16T16:02:23.630327Z"
    },
    "hidden": true
   },
   "outputs": [
    {
     "name": "stderr",
     "output_type": "stream",
     "text": [
      "/home/tom/footbot/venv/lib/python3.6/site-packages/statsmodels/compat/pandas.py:56: FutureWarning: The pandas.core.datetools module is deprecated and will be removed in a future version. Please use the pandas.tseries module instead.\n",
      "  from pandas.core import datetools\n"
     ]
    }
   ],
   "source": [
    "import player_data as player\n",
    "import goodness_fit\n",
    "import pandas as pd\n",
    "from datetime import datetime\n",
    "import statsmodels.api as sm\n",
    "import matplotlib.pyplot as plt\n",
    "import numpy as np"
   ]
  },
  {
   "cell_type": "markdown",
   "metadata": {
    "heading_collapsed": true
   },
   "source": [
    "# Get data"
   ]
  },
  {
   "cell_type": "code",
   "execution_count": 3,
   "metadata": {
    "ExecuteTime": {
     "end_time": "2019-03-16T16:02:24.903708Z",
     "start_time": "2019-03-16T16:02:24.899635Z"
    },
    "hidden": true
   },
   "outputs": [],
   "source": [
    "file_name = 'csvs/element_gameweek_' + datetime.today().strftime('%Y-%m-%d') + '.csv'"
   ]
  },
  {
   "cell_type": "code",
   "execution_count": 4,
   "metadata": {
    "ExecuteTime": {
     "end_time": "2019-03-16T16:02:25.082176Z",
     "start_time": "2019-03-16T16:02:24.907234Z"
    },
    "hidden": true
   },
   "outputs": [],
   "source": [
    "try:\n",
    "    element_gameweek_df = pd.read_csv(file_name)\n",
    "except:\n",
    "    element_gameweek_df = player.get_element_gameweek_df()\n",
    "    element_gameweek_df.to_csv(file_name)"
   ]
  },
  {
   "cell_type": "code",
   "execution_count": 5,
   "metadata": {
    "ExecuteTime": {
     "end_time": "2019-03-16T16:02:25.088541Z",
     "start_time": "2019-03-16T16:02:25.084855Z"
    },
    "hidden": true
   },
   "outputs": [],
   "source": [
    "current_event = 26\n",
    "element_types = [2, 3, 4]\n",
    "threshold_minutes = 1"
   ]
  },
  {
   "cell_type": "code",
   "execution_count": 6,
   "metadata": {
    "ExecuteTime": {
     "end_time": "2019-03-16T16:02:25.233962Z",
     "start_time": "2019-03-16T16:02:25.091358Z"
    },
    "hidden": true
   },
   "outputs": [],
   "source": [
    "element_gameweek_df =\\\n",
    "element_gameweek_df[\n",
    "    (element_gameweek_df['event'] <= current_event)\n",
    "    & (element_gameweek_df['element_type'].isin(element_types))\n",
    "    & (element_gameweek_df['minutes'] >= threshold_minutes)\n",
    "]"
   ]
  },
  {
   "cell_type": "code",
   "execution_count": 7,
   "metadata": {
    "ExecuteTime": {
     "end_time": "2019-03-16T16:02:25.336568Z",
     "start_time": "2019-03-16T16:02:25.237608Z"
    },
    "hidden": true
   },
   "outputs": [],
   "source": [
    "player.add_home_categorical_variable(element_gameweek_df)"
   ]
  },
  {
   "cell_type": "markdown",
   "metadata": {},
   "source": [
    "# Models"
   ]
  },
  {
   "cell_type": "markdown",
   "metadata": {
    "heading_collapsed": true
   },
   "source": [
    "## Simple Poisson model"
   ]
  },
  {
   "cell_type": "markdown",
   "metadata": {
    "hidden": true
   },
   "source": [
    "### Preparing data"
   ]
  },
  {
   "cell_type": "code",
   "execution_count": 17,
   "metadata": {
    "ExecuteTime": {
     "end_time": "2019-03-16T16:03:10.433068Z",
     "start_time": "2019-03-16T16:03:10.419948Z"
    },
    "hidden": true
   },
   "outputs": [],
   "source": [
    "spm_df = element_gameweek_df.copy()"
   ]
  },
  {
   "cell_type": "code",
   "execution_count": 18,
   "metadata": {
    "ExecuteTime": {
     "end_time": "2019-03-16T16:03:10.489750Z",
     "start_time": "2019-03-16T16:03:10.438368Z"
    },
    "hidden": true
   },
   "outputs": [],
   "source": [
    "spm_redundant_columns = [\n",
    "    'row_id', 'goals_scored', 'attempted_passes', 'big_chances_created',\n",
    "    'big_chances_missed', 'bonus', 'bps', 'clean_sheets',\n",
    "    'clearances_blocks_interceptions', 'completed_passes', 'creativity',\n",
    "    'dribbles', 'ea_index', 'element', 'errors_leading_to_goal',\n",
    "    'errors_leading_to_goal_attempt', 'fixture', 'fouls', 'goals_conceded',\n",
    "    'ict_index', 'id', 'influence', 'key_passes', 'kickoff_time',\n",
    "    'kickoff_time_formatted', 'loaned_in', 'loaned_out', 'minutes', 'offside',\n",
    "    'open_play_crosses', 'opponent_team', 'own_goals', 'penalties_conceded',\n",
    "    'penalties_missed', 'penalties_saved', 'recoveries', 'red_cards', 'round',\n",
    "    'saves', 'selected', 'tackled', 'tackles', 'target_missed', 'team_a_score',\n",
    "    'team_h_score', 'threat', 'total_points', 'transfers_balance',\n",
    "    'transfers_in', 'transfers_out', 'value', 'winning_goals',\n",
    "    'yellow_cards', 'event', 'team_a', 'team_a_difficulty', 'team_h',\n",
    "    'team_h_difficulty', 'element_type', 'team', 'web_name', 'safe_web_name',\n",
    "    'own_team', 'opposition_team', 'was_home'\n",
    "]"
   ]
  },
  {
   "cell_type": "code",
   "execution_count": 19,
   "metadata": {
    "ExecuteTime": {
     "end_time": "2019-03-16T16:03:10.519582Z",
     "start_time": "2019-03-16T16:03:10.494004Z"
    },
    "hidden": true
   },
   "outputs": [],
   "source": [
    "spm_df = player.remove_redundant_columns(spm_df, spm_redundant_columns)"
   ]
  },
  {
   "cell_type": "code",
   "execution_count": 20,
   "metadata": {
    "ExecuteTime": {
     "end_time": "2019-03-16T16:03:10.558490Z",
     "start_time": "2019-03-16T16:03:10.525363Z"
    },
    "hidden": true
   },
   "outputs": [],
   "source": [
    "spm_response_df, spm_explanatory_df = player.get_response_explanatory_dfs(spm_df, 'assists')"
   ]
  },
  {
   "cell_type": "code",
   "execution_count": 21,
   "metadata": {
    "ExecuteTime": {
     "end_time": "2019-03-16T16:03:10.592036Z",
     "start_time": "2019-03-16T16:03:10.564438Z"
    },
    "hidden": true
   },
   "outputs": [
    {
     "data": {
      "text/plain": [
       "Index(['const'], dtype='object')"
      ]
     },
     "execution_count": 21,
     "metadata": {},
     "output_type": "execute_result"
    }
   ],
   "source": [
    "spm_explanatory_df.columns"
   ]
  },
  {
   "cell_type": "code",
   "execution_count": 22,
   "metadata": {
    "ExecuteTime": {
     "end_time": "2019-03-16T16:03:10.625845Z",
     "start_time": "2019-03-16T16:03:10.595401Z"
    },
    "hidden": true
   },
   "outputs": [
    {
     "data": {
      "text/plain": [
       "76    0\n",
       "78    0\n",
       "79    0\n",
       "80    0\n",
       "81    0\n",
       "Name: assists, dtype: int64"
      ]
     },
     "execution_count": 22,
     "metadata": {},
     "output_type": "execute_result"
    }
   ],
   "source": [
    "spm_response_df.head()"
   ]
  },
  {
   "cell_type": "markdown",
   "metadata": {
    "hidden": true
   },
   "source": [
    "### Fitting model"
   ]
  },
  {
   "cell_type": "code",
   "execution_count": 23,
   "metadata": {
    "ExecuteTime": {
     "end_time": "2019-03-16T16:03:10.681065Z",
     "start_time": "2019-03-16T16:03:10.628915Z"
    },
    "hidden": true
   },
   "outputs": [],
   "source": [
    "spm_results = sm.GLM(\n",
    "    spm_response_df,\n",
    "    spm_explanatory_df,\n",
    "    family=sm.families.Poisson(),\n",
    "    missing='drop'\n",
    ").fit()"
   ]
  },
  {
   "cell_type": "code",
   "execution_count": 24,
   "metadata": {
    "ExecuteTime": {
     "end_time": "2019-03-16T16:03:10.700629Z",
     "start_time": "2019-03-16T16:03:10.684964Z"
    },
    "hidden": true
   },
   "outputs": [
    {
     "name": "stdout",
     "output_type": "stream",
     "text": [
      "                 Generalized Linear Model Regression Results                  \n",
      "==============================================================================\n",
      "Dep. Variable:                assists   No. Observations:                 6675\n",
      "Model:                            GLM   Df Residuals:                     6674\n",
      "Model Family:                 Poisson   Df Model:                            0\n",
      "Link Function:                    log   Scale:                             1.0\n",
      "Method:                          IRLS   Log-Likelihood:                -2175.1\n",
      "Date:                Sat, 16 Mar 2019   Deviance:                       3144.7\n",
      "Time:                        16:03:10   Pearson chi2:                 7.16e+03\n",
      "No. Iterations:                     6                                         \n",
      "==============================================================================\n",
      "                 coef    std err          z      P>|z|      [0.025      0.975]\n",
      "------------------------------------------------------------------------------\n",
      "const         -2.3462      0.040    -59.309      0.000      -2.424      -2.269\n",
      "==============================================================================\n"
     ]
    }
   ],
   "source": [
    "print(spm_results.summary())"
   ]
  },
  {
   "cell_type": "markdown",
   "metadata": {
    "hidden": true
   },
   "source": [
    "### Model fit"
   ]
  },
  {
   "cell_type": "code",
   "execution_count": 25,
   "metadata": {
    "ExecuteTime": {
     "end_time": "2019-03-16T16:03:10.718175Z",
     "start_time": "2019-03-16T16:03:10.703909Z"
    },
    "hidden": true
   },
   "outputs": [
    {
     "data": {
      "text/plain": [
       "4352.178364133257"
      ]
     },
     "execution_count": 25,
     "metadata": {},
     "output_type": "execute_result"
    }
   ],
   "source": [
    "spm_results.aic"
   ]
  },
  {
   "cell_type": "code",
   "execution_count": 26,
   "metadata": {
    "ExecuteTime": {
     "end_time": "2019-03-16T16:03:10.749060Z",
     "start_time": "2019-03-16T16:03:10.721010Z"
    },
    "hidden": true
   },
   "outputs": [
    {
     "data": {
      "text/plain": [
       "-55627.337998279516"
      ]
     },
     "execution_count": 26,
     "metadata": {},
     "output_type": "execute_result"
    }
   ],
   "source": [
    "spm_results.bic"
   ]
  },
  {
   "cell_type": "code",
   "execution_count": 27,
   "metadata": {
    "ExecuteTime": {
     "end_time": "2019-03-16T16:03:10.778757Z",
     "start_time": "2019-03-16T16:03:10.752750Z"
    },
    "hidden": true
   },
   "outputs": [
    {
     "data": {
      "text/plain": [
       "(True, 1.671410863912648e-05)"
      ]
     },
     "execution_count": 27,
     "metadata": {},
     "output_type": "execute_result"
    }
   ],
   "source": [
    "spm_pearson_results = goodness_fit.pearson_chi_squared_test(spm_results)\n",
    "spm_pearson_results"
   ]
  },
  {
   "cell_type": "code",
   "execution_count": 28,
   "metadata": {
    "ExecuteTime": {
     "end_time": "2019-03-16T16:03:10.817060Z",
     "start_time": "2019-03-16T16:03:10.782275Z"
    },
    "hidden": true
   },
   "outputs": [
    {
     "data": {
      "text/plain": [
       "count    6675.000000\n",
       "mean       -0.240530\n",
       "std         0.642907\n",
       "min        -0.437562\n",
       "25%        -0.437562\n",
       "50%        -0.437562\n",
       "75%        -0.437562\n",
       "max         3.854926\n",
       "dtype: float64"
      ]
     },
     "execution_count": 28,
     "metadata": {},
     "output_type": "execute_result"
    }
   ],
   "source": [
    "spm_results.resid_deviance.describe()"
   ]
  },
  {
   "cell_type": "code",
   "execution_count": 29,
   "metadata": {
    "ExecuteTime": {
     "end_time": "2019-03-16T16:03:11.144363Z",
     "start_time": "2019-03-16T16:03:10.819428Z"
    },
    "hidden": true
   },
   "outputs": [
    {
     "data": {
      "image/png": "[encoded data removed]",
      "text/plain": [
       "<Figure size 432x288 with 1 Axes>"
      ]
     },
     "metadata": {
      "needs_background": "light"
     },
     "output_type": "display_data"
    }
   ],
   "source": [
    "plt.figure()\n",
    "plt.hist(spm_results.resid_deviance)\n",
    "plt.show()"
   ]
  },
  {
   "cell_type": "markdown",
   "metadata": {
    "heading_collapsed": true
   },
   "source": [
    "## Simple Poisson minutes model"
   ]
  },
  {
   "cell_type": "markdown",
   "metadata": {
    "hidden": true
   },
   "source": [
    "### Preparing data"
   ]
  },
  {
   "cell_type": "code",
   "execution_count": 30,
   "metadata": {
    "ExecuteTime": {
     "end_time": "2019-03-16T16:03:11.152644Z",
     "start_time": "2019-03-16T16:03:11.146977Z"
    },
    "hidden": true
   },
   "outputs": [],
   "source": [
    "spmm_df = element_gameweek_df.copy()"
   ]
  },
  {
   "cell_type": "code",
   "execution_count": 31,
   "metadata": {
    "ExecuteTime": {
     "end_time": "2019-03-16T16:03:11.188707Z",
     "start_time": "2019-03-16T16:03:11.154945Z"
    },
    "hidden": true
   },
   "outputs": [],
   "source": [
    "spmm_redundant_columns = [\n",
    "    'row_id', 'goals_scored', 'attempted_passes', 'big_chances_created',\n",
    "    'big_chances_missed', 'bonus', 'bps', 'clean_sheets',\n",
    "    'clearances_blocks_interceptions', 'completed_passes', 'creativity',\n",
    "    'dribbles', 'ea_index', 'element', 'errors_leading_to_goal',\n",
    "    'errors_leading_to_goal_attempt', 'fixture', 'fouls', 'goals_conceded',\n",
    "    'ict_index', 'id', 'influence', 'key_passes', 'kickoff_time',\n",
    "    'kickoff_time_formatted', 'loaned_in', 'loaned_out', 'offside',\n",
    "    'open_play_crosses', 'opponent_team', 'own_goals', 'penalties_conceded',\n",
    "    'penalties_missed', 'penalties_saved', 'recoveries', 'red_cards', 'round',\n",
    "    'saves', 'selected', 'tackled', 'tackles', 'target_missed', 'team_a_score',\n",
    "    'team_h_score', 'threat', 'total_points', 'transfers_balance',\n",
    "    'transfers_in', 'transfers_out', 'value', 'winning_goals',\n",
    "    'yellow_cards', 'event', 'team_a', 'team_a_difficulty', 'team_h',\n",
    "    'team_h_difficulty', 'element_type', 'team', 'web_name', 'safe_web_name',\n",
    "    'own_team', 'opposition_team', 'was_home', 'minutes'\n",
    "]"
   ]
  },
  {
   "cell_type": "code",
   "execution_count": 32,
   "metadata": {
    "ExecuteTime": {
     "end_time": "2019-03-16T16:03:11.217777Z",
     "start_time": "2019-03-16T16:03:11.191034Z"
    },
    "hidden": true
   },
   "outputs": [],
   "source": [
    "spmm_df['log_minutes'] = np.log(spmm_df['minutes'])"
   ]
  },
  {
   "cell_type": "code",
   "execution_count": 33,
   "metadata": {
    "ExecuteTime": {
     "end_time": "2019-03-16T16:03:11.250507Z",
     "start_time": "2019-03-16T16:03:11.220120Z"
    },
    "hidden": true
   },
   "outputs": [],
   "source": [
    "spmm_df = player.remove_redundant_columns(spmm_df, spmm_redundant_columns)"
   ]
  },
  {
   "cell_type": "code",
   "execution_count": 34,
   "metadata": {
    "ExecuteTime": {
     "end_time": "2019-03-16T16:03:11.278863Z",
     "start_time": "2019-03-16T16:03:11.258204Z"
    },
    "hidden": true
   },
   "outputs": [],
   "source": [
    "spmm_response_df, spmm_explanatory_df = player.get_response_explanatory_dfs(spmm_df, 'assists')"
   ]
  },
  {
   "cell_type": "code",
   "execution_count": 35,
   "metadata": {
    "ExecuteTime": {
     "end_time": "2019-03-16T16:03:11.307693Z",
     "start_time": "2019-03-16T16:03:11.285523Z"
    },
    "hidden": true
   },
   "outputs": [
    {
     "data": {
      "text/plain": [
       "Index(['const', 'log_minutes'], dtype='object')"
      ]
     },
     "execution_count": 35,
     "metadata": {},
     "output_type": "execute_result"
    }
   ],
   "source": [
    "spmm_explanatory_df.columns"
   ]
  },
  {
   "cell_type": "markdown",
   "metadata": {
    "hidden": true
   },
   "source": [
    "### Fitting model"
   ]
  },
  {
   "cell_type": "code",
   "execution_count": 36,
   "metadata": {
    "ExecuteTime": {
     "end_time": "2019-03-16T16:03:11.366795Z",
     "start_time": "2019-03-16T16:03:11.309922Z"
    },
    "hidden": true
   },
   "outputs": [],
   "source": [
    "spmm_results = sm.GLM(\n",
    "    spmm_response_df,\n",
    "    spmm_explanatory_df,\n",
    "    family=sm.families.Poisson(),\n",
    "    missing='drop'\n",
    ").fit()"
   ]
  },
  {
   "cell_type": "code",
   "execution_count": 37,
   "metadata": {
    "ExecuteTime": {
     "end_time": "2019-03-16T16:03:11.393171Z",
     "start_time": "2019-03-16T16:03:11.369726Z"
    },
    "hidden": true
   },
   "outputs": [
    {
     "name": "stdout",
     "output_type": "stream",
     "text": [
      "                 Generalized Linear Model Regression Results                  \n",
      "==============================================================================\n",
      "Dep. Variable:                assists   No. Observations:                 6675\n",
      "Model:                            GLM   Df Residuals:                     6673\n",
      "Model Family:                 Poisson   Df Model:                            1\n",
      "Link Function:                    log   Scale:                             1.0\n",
      "Method:                          IRLS   Log-Likelihood:                -2137.7\n",
      "Date:                Sat, 16 Mar 2019   Deviance:                       3069.9\n",
      "Time:                        16:03:11   Pearson chi2:                 6.98e+03\n",
      "No. Iterations:                     6                                         \n",
      "===============================================================================\n",
      "                  coef    std err          z      P>|z|      [0.025      0.975]\n",
      "-------------------------------------------------------------------------------\n",
      "const          -4.5608      0.322    -14.161      0.000      -5.192      -3.930\n",
      "log_minutes     0.5306      0.075      7.112      0.000       0.384       0.677\n",
      "===============================================================================\n"
     ]
    }
   ],
   "source": [
    "print(spmm_results.summary())"
   ]
  },
  {
   "cell_type": "markdown",
   "metadata": {
    "hidden": true
   },
   "source": [
    "### Model fit"
   ]
  },
  {
   "cell_type": "code",
   "execution_count": 38,
   "metadata": {
    "ExecuteTime": {
     "end_time": "2019-03-16T16:03:11.403133Z",
     "start_time": "2019-03-16T16:03:11.396730Z"
    },
    "hidden": true
   },
   "outputs": [
    {
     "data": {
      "text/plain": [
       "4279.310891747676"
      ]
     },
     "execution_count": 38,
     "metadata": {},
     "output_type": "execute_result"
    }
   ],
   "source": [
    "spmm_results.aic"
   ]
  },
  {
   "cell_type": "code",
   "execution_count": 39,
   "metadata": {
    "ExecuteTime": {
     "end_time": "2019-03-16T16:03:11.436811Z",
     "start_time": "2019-03-16T16:03:11.406516Z"
    },
    "hidden": true
   },
   "outputs": [
    {
     "data": {
      "text/plain": [
       "-55693.399346181825"
      ]
     },
     "execution_count": 39,
     "metadata": {},
     "output_type": "execute_result"
    }
   ],
   "source": [
    "spmm_results.bic"
   ]
  },
  {
   "cell_type": "code",
   "execution_count": 40,
   "metadata": {
    "ExecuteTime": {
     "end_time": "2019-03-16T16:03:11.464931Z",
     "start_time": "2019-03-16T16:03:11.445263Z"
    },
    "hidden": true
   },
   "outputs": [
    {
     "data": {
      "text/plain": [
       "(True, 0.004605590251514968)"
      ]
     },
     "execution_count": 40,
     "metadata": {},
     "output_type": "execute_result"
    }
   ],
   "source": [
    "spmm_pearson_results = goodness_fit.pearson_chi_squared_test(spmm_results)\n",
    "spmm_pearson_results"
   ]
  },
  {
   "cell_type": "code",
   "execution_count": 41,
   "metadata": {
    "ExecuteTime": {
     "end_time": "2019-03-16T16:03:11.501307Z",
     "start_time": "2019-03-16T16:03:11.469121Z"
    },
    "hidden": true
   },
   "outputs": [
    {
     "data": {
      "text/plain": [
       "count    6675.000000\n",
       "mean       -0.234544\n",
       "std         0.636361\n",
       "min        -0.477113\n",
       "25%        -0.477113\n",
       "50%        -0.477113\n",
       "75%        -0.346657\n",
       "max         3.722663\n",
       "dtype: float64"
      ]
     },
     "execution_count": 41,
     "metadata": {},
     "output_type": "execute_result"
    }
   ],
   "source": [
    "spmm_results.resid_deviance.describe()"
   ]
  },
  {
   "cell_type": "code",
   "execution_count": 42,
   "metadata": {
    "ExecuteTime": {
     "end_time": "2019-03-16T16:03:11.769643Z",
     "start_time": "2019-03-16T16:03:11.503692Z"
    },
    "hidden": true
   },
   "outputs": [
    {
     "data": {
      "image/png": "[encoded data removed]",
      "text/plain": [
       "<Figure size 432x288 with 1 Axes>"
      ]
     },
     "metadata": {
      "needs_background": "light"
     },
     "output_type": "display_data"
    }
   ],
   "source": [
    "plt.figure()\n",
    "plt.hist(spmm_results.resid_deviance)\n",
    "plt.show()"
   ]
  },
  {
   "cell_type": "markdown",
   "metadata": {
    "heading_collapsed": true
   },
   "source": [
    "## Simple Poisson teams model"
   ]
  },
  {
   "cell_type": "markdown",
   "metadata": {
    "heading_collapsed": true,
    "hidden": true
   },
   "source": [
    "### Preparing data"
   ]
  },
  {
   "cell_type": "code",
   "execution_count": 43,
   "metadata": {
    "ExecuteTime": {
     "end_time": "2019-03-16T16:03:11.777325Z",
     "start_time": "2019-03-16T16:03:11.772080Z"
    },
    "hidden": true
   },
   "outputs": [],
   "source": [
    "sptm_df = element_gameweek_df.copy()"
   ]
  },
  {
   "cell_type": "code",
   "execution_count": 44,
   "metadata": {
    "ExecuteTime": {
     "end_time": "2019-03-16T16:03:11.839625Z",
     "start_time": "2019-03-16T16:03:11.779462Z"
    },
    "hidden": true
   },
   "outputs": [],
   "source": [
    "sptm_df = player.add_categorical_variables(sptm_df, 'element_type')\n",
    "sptm_df = player.add_categorical_variables(sptm_df, 'opposition_team')\n",
    "sptm_df = player.add_categorical_variables(sptm_df, 'own_team')"
   ]
  },
  {
   "cell_type": "code",
   "execution_count": 45,
   "metadata": {
    "ExecuteTime": {
     "end_time": "2019-03-16T16:03:11.851378Z",
     "start_time": "2019-03-16T16:03:11.842760Z"
    },
    "hidden": true
   },
   "outputs": [],
   "source": [
    "sptm_redundant_columns = [\n",
    "    'row_id', 'goals_scored', 'attempted_passes', 'big_chances_created',\n",
    "    'big_chances_missed', 'bonus', 'bps', 'clean_sheets',\n",
    "    'clearances_blocks_interceptions', 'completed_passes', 'creativity',\n",
    "    'dribbles', 'ea_index', 'element', 'errors_leading_to_goal',\n",
    "    'errors_leading_to_goal_attempt', 'fixture', 'fouls', 'goals_conceded',\n",
    "    'ict_index', 'id', 'influence', 'key_passes', 'kickoff_time',\n",
    "    'kickoff_time_formatted', 'loaned_in', 'loaned_out', 'minutes', 'offside',\n",
    "    'open_play_crosses', 'opponent_team', 'own_goals', 'penalties_conceded',\n",
    "    'penalties_missed', 'penalties_saved', 'recoveries', 'red_cards', 'round',\n",
    "    'saves', 'selected', 'tackled', 'tackles', 'target_missed', 'team_a_score',\n",
    "    'team_h_score', 'threat', 'total_points', 'transfers_balance',\n",
    "    'transfers_in', 'transfers_out', 'value', 'winning_goals',\n",
    "    'yellow_cards', 'event', 'team_a', 'team_a_difficulty', 'team_h',\n",
    "    'team_h_difficulty', 'element_type', 'team', 'web_name', 'safe_web_name',\n",
    "    'own_team', 'opposition_team'\n",
    "]"
   ]
  },
  {
   "cell_type": "code",
   "execution_count": 46,
   "metadata": {
    "ExecuteTime": {
     "end_time": "2019-03-16T16:03:11.887510Z",
     "start_time": "2019-03-16T16:03:11.853414Z"
    },
    "hidden": true
   },
   "outputs": [],
   "source": [
    "sptm_df = player.remove_redundant_columns(sptm_df, sptm_redundant_columns)"
   ]
  },
  {
   "cell_type": "code",
   "execution_count": 47,
   "metadata": {
    "ExecuteTime": {
     "end_time": "2019-03-16T16:03:11.928885Z",
     "start_time": "2019-03-16T16:03:11.890390Z"
    },
    "hidden": true
   },
   "outputs": [],
   "source": [
    "sptm_response_df, sptm_explanatory_df = player.get_response_explanatory_dfs(sptm_df, 'assists')"
   ]
  },
  {
   "cell_type": "code",
   "execution_count": 48,
   "metadata": {
    "ExecuteTime": {
     "end_time": "2019-03-16T16:03:11.942138Z",
     "start_time": "2019-03-16T16:03:11.931078Z"
    },
    "hidden": true
   },
   "outputs": [
    {
     "data": {
      "text/plain": [
       "Index(['const', 'was_home', 'element_type_3', 'element_type_4',\n",
       "       'opposition_team_2', 'opposition_team_3', 'opposition_team_4',\n",
       "       'opposition_team_5', 'opposition_team_6', 'opposition_team_7',\n",
       "       'opposition_team_8', 'opposition_team_9', 'opposition_team_10',\n",
       "       'opposition_team_11', 'opposition_team_12', 'opposition_team_13',\n",
       "       'opposition_team_14', 'opposition_team_15', 'opposition_team_16',\n",
       "       'opposition_team_17', 'opposition_team_18', 'opposition_team_19',\n",
       "       'opposition_team_20', 'own_team_2', 'own_team_3', 'own_team_4',\n",
       "       'own_team_5', 'own_team_6', 'own_team_7', 'own_team_8', 'own_team_9',\n",
       "       'own_team_10', 'own_team_11', 'own_team_12', 'own_team_13',\n",
       "       'own_team_14', 'own_team_15', 'own_team_16', 'own_team_17',\n",
       "       'own_team_18', 'own_team_19', 'own_team_20'],\n",
       "      dtype='object')"
      ]
     },
     "execution_count": 48,
     "metadata": {},
     "output_type": "execute_result"
    }
   ],
   "source": [
    "sptm_explanatory_df.columns"
   ]
  },
  {
   "cell_type": "code",
   "execution_count": 49,
   "metadata": {
    "ExecuteTime": {
     "end_time": "2019-03-16T16:03:11.969023Z",
     "start_time": "2019-03-16T16:03:11.944116Z"
    },
    "hidden": true
   },
   "outputs": [
    {
     "data": {
      "text/plain": [
       "76    0\n",
       "78    0\n",
       "79    0\n",
       "80    0\n",
       "81    0\n",
       "Name: assists, dtype: int64"
      ]
     },
     "execution_count": 49,
     "metadata": {},
     "output_type": "execute_result"
    }
   ],
   "source": [
    "sptm_response_df.head()"
   ]
  },
  {
   "cell_type": "markdown",
   "metadata": {
    "heading_collapsed": true,
    "hidden": true
   },
   "source": [
    "### Fitting model"
   ]
  },
  {
   "cell_type": "code",
   "execution_count": 50,
   "metadata": {
    "ExecuteTime": {
     "end_time": "2019-03-16T16:03:12.168867Z",
     "start_time": "2019-03-16T16:03:11.970966Z"
    },
    "hidden": true
   },
   "outputs": [],
   "source": [
    "sptm_results = sm.GLM(\n",
    "    sptm_response_df,\n",
    "    sptm_explanatory_df,\n",
    "    family=sm.families.Poisson(),\n",
    "    missing='drop'\n",
    ").fit()"
   ]
  },
  {
   "cell_type": "code",
   "execution_count": 51,
   "metadata": {
    "ExecuteTime": {
     "end_time": "2019-03-16T16:03:12.219532Z",
     "start_time": "2019-03-16T16:03:12.172315Z"
    },
    "hidden": true
   },
   "outputs": [
    {
     "name": "stdout",
     "output_type": "stream",
     "text": [
      "                 Generalized Linear Model Regression Results                  \n",
      "==============================================================================\n",
      "Dep. Variable:                assists   No. Observations:                 6675\n",
      "Model:                            GLM   Df Residuals:                     6633\n",
      "Model Family:                 Poisson   Df Model:                           41\n",
      "Link Function:                    log   Scale:                             1.0\n",
      "Method:                          IRLS   Log-Likelihood:                -2078.0\n",
      "Date:                Sat, 16 Mar 2019   Deviance:                       2950.6\n",
      "Time:                        16:03:12   Pearson chi2:                 6.87e+03\n",
      "No. Iterations:                     6                                         \n",
      "======================================================================================\n",
      "                         coef    std err          z      P>|z|      [0.025      0.975]\n",
      "--------------------------------------------------------------------------------------\n",
      "const                 -2.3836      0.247     -9.647      0.000      -2.868      -1.899\n",
      "was_home               0.1503      0.080      1.886      0.059      -0.006       0.306\n",
      "element_type_3         0.5422      0.097      5.581      0.000       0.352       0.733\n",
      "element_type_4         0.6738      0.120      5.625      0.000       0.439       0.909\n",
      "opposition_team_2      0.2316      0.239      0.969      0.332      -0.237       0.700\n",
      "opposition_team_3     -0.0887      0.259     -0.342      0.732      -0.597       0.420\n",
      "opposition_team_4      0.3273      0.238      1.375      0.169      -0.139       0.794\n",
      "opposition_team_5      0.2922      0.239      1.223      0.221      -0.176       0.760\n",
      "opposition_team_6     -0.2623      0.274     -0.959      0.338      -0.798       0.274\n",
      "opposition_team_7     -0.0949      0.259     -0.366      0.714      -0.603       0.413\n",
      "opposition_team_8      0.0211      0.251      0.084      0.933      -0.472       0.514\n",
      "opposition_team_9      0.4234      0.232      1.828      0.067      -0.030       0.877\n",
      "opposition_team_10     0.2618      0.237      1.105      0.269      -0.202       0.726\n",
      "opposition_team_11    -0.1064      0.260     -0.410      0.682      -0.615       0.403\n",
      "opposition_team_12    -0.8283      0.323     -2.561      0.010      -1.462      -0.194\n",
      "opposition_team_13    -0.7396      0.316     -2.340      0.019      -1.359      -0.120\n",
      "opposition_team_14    -0.0154      0.258     -0.060      0.952      -0.520       0.489\n",
      "opposition_team_15    -0.0993      0.255     -0.389      0.697      -0.599       0.401\n",
      "opposition_team_16     0.2284      0.239      0.956      0.339      -0.240       0.697\n",
      "opposition_team_17    -0.2615      0.277     -0.946      0.344      -0.804       0.281\n",
      "opposition_team_18    -0.0709      0.262     -0.270      0.787      -0.585       0.443\n",
      "opposition_team_19     0.0871      0.249      0.350      0.726      -0.400       0.574\n",
      "opposition_team_20    -0.0600      0.257     -0.233      0.815      -0.564       0.444\n",
      "own_team_2            -0.4008      0.224     -1.786      0.074      -0.841       0.039\n",
      "own_team_3            -0.8782      0.260     -3.375      0.001      -1.388      -0.368\n",
      "own_team_4            -0.6161      0.239     -2.575      0.010      -1.085      -0.147\n",
      "own_team_5            -0.9737      0.271     -3.598      0.000      -1.504      -0.443\n",
      "own_team_6            -0.1815      0.209     -0.868      0.385      -0.591       0.228\n",
      "own_team_7            -0.6837      0.249     -2.751      0.006      -1.171      -0.197\n",
      "own_team_8            -0.5976      0.234     -2.554      0.011      -1.056      -0.139\n",
      "own_team_9            -0.8466      0.261     -3.241      0.001      -1.359      -0.335\n",
      "own_team_10           -1.3317      0.312     -4.272      0.000      -1.943      -0.721\n",
      "own_team_11           -0.5928      0.236     -2.507      0.012      -1.056      -0.129\n",
      "own_team_12           -0.1255      0.206     -0.608      0.543      -0.530       0.279\n",
      "own_team_13            0.1848      0.190      0.975      0.330      -0.187       0.556\n",
      "own_team_14           -0.1864      0.209     -0.893      0.372      -0.595       0.223\n",
      "own_team_15           -0.8270      0.260     -3.177      0.001      -1.337      -0.317\n",
      "own_team_16           -1.0656      0.281     -3.791      0.000      -1.617      -0.515\n",
      "own_team_17           -0.0260      0.201     -0.129      0.897      -0.421       0.369\n",
      "own_team_18           -0.5126      0.232     -2.212      0.027      -0.967      -0.058\n",
      "own_team_19           -0.5916      0.237     -2.494      0.013      -1.057      -0.127\n",
      "own_team_20           -0.3492      0.225     -1.552      0.121      -0.790       0.092\n",
      "======================================================================================\n"
     ]
    }
   ],
   "source": [
    "print(sptm_results.summary())"
   ]
  },
  {
   "cell_type": "markdown",
   "metadata": {
    "hidden": true
   },
   "source": [
    "### Model fit"
   ]
  },
  {
   "cell_type": "code",
   "execution_count": 52,
   "metadata": {
    "ExecuteTime": {
     "end_time": "2019-03-16T16:03:12.254854Z",
     "start_time": "2019-03-16T16:03:12.222537Z"
    },
    "hidden": true
   },
   "outputs": [
    {
     "data": {
      "text/plain": [
       "4240.051792760612"
      ]
     },
     "execution_count": 52,
     "metadata": {},
     "output_type": "execute_result"
    }
   ],
   "source": [
    "sptm_results.aic"
   ]
  },
  {
   "cell_type": "code",
   "execution_count": 53,
   "metadata": {
    "ExecuteTime": {
     "end_time": "2019-03-16T16:03:12.282635Z",
     "start_time": "2019-03-16T16:03:12.262221Z"
    },
    "hidden": true
   },
   "outputs": [
    {
     "data": {
      "text/plain": [
       "-55460.41346583815"
      ]
     },
     "execution_count": 53,
     "metadata": {},
     "output_type": "execute_result"
    }
   ],
   "source": [
    "sptm_results.bic"
   ]
  },
  {
   "cell_type": "code",
   "execution_count": 54,
   "metadata": {
    "ExecuteTime": {
     "end_time": "2019-03-16T16:03:12.310448Z",
     "start_time": "2019-03-16T16:03:12.289962Z"
    },
    "hidden": true
   },
   "outputs": [
    {
     "data": {
      "text/plain": [
       "(True, 0.022029767090219976)"
      ]
     },
     "execution_count": 54,
     "metadata": {},
     "output_type": "execute_result"
    }
   ],
   "source": [
    "sptm_pearson_results = goodness_fit.pearson_chi_squared_test(sptm_results)\n",
    "sptm_pearson_results"
   ]
  },
  {
   "cell_type": "code",
   "execution_count": 55,
   "metadata": {
    "ExecuteTime": {
     "end_time": "2019-03-16T16:03:12.346400Z",
     "start_time": "2019-03-16T16:03:12.312517Z"
    },
    "hidden": true
   },
   "outputs": [
    {
     "data": {
      "text/plain": [
       "count    6675.000000\n",
       "mean       -0.227671\n",
       "std         0.624710\n",
       "min        -0.878901\n",
       "25%        -0.479601\n",
       "50%        -0.392214\n",
       "75%        -0.303197\n",
       "max         3.608517\n",
       "dtype: float64"
      ]
     },
     "execution_count": 55,
     "metadata": {},
     "output_type": "execute_result"
    }
   ],
   "source": [
    "sptm_results.resid_deviance.describe()"
   ]
  },
  {
   "cell_type": "code",
   "execution_count": 56,
   "metadata": {
    "ExecuteTime": {
     "end_time": "2019-03-16T16:03:12.590145Z",
     "start_time": "2019-03-16T16:03:12.348408Z"
    },
    "hidden": true
   },
   "outputs": [
    {
     "data": {
      "image/png": "[encoded data removed]",
      "text/plain": [
       "<Figure size 432x288 with 1 Axes>"
      ]
     },
     "metadata": {
      "needs_background": "light"
     },
     "output_type": "display_data"
    }
   ],
   "source": [
    "plt.figure()\n",
    "plt.hist(sptm_results.resid_deviance)\n",
    "plt.show()"
   ]
  },
  {
   "cell_type": "markdown",
   "metadata": {
    "heading_collapsed": true
   },
   "source": [
    "## Simple Poisson teams minutes model"
   ]
  },
  {
   "cell_type": "markdown",
   "metadata": {
    "hidden": true
   },
   "source": [
    "### Preparing data"
   ]
  },
  {
   "cell_type": "code",
   "execution_count": 57,
   "metadata": {
    "ExecuteTime": {
     "end_time": "2019-03-16T16:03:12.595994Z",
     "start_time": "2019-03-16T16:03:12.592157Z"
    },
    "hidden": true
   },
   "outputs": [],
   "source": [
    "sptmm_df = element_gameweek_df.copy()"
   ]
  },
  {
   "cell_type": "code",
   "execution_count": 58,
   "metadata": {
    "ExecuteTime": {
     "end_time": "2019-03-16T16:03:12.641211Z",
     "start_time": "2019-03-16T16:03:12.598043Z"
    },
    "hidden": true
   },
   "outputs": [],
   "source": [
    "sptmm_df = player.add_categorical_variables(sptmm_df, 'element_type')\n",
    "sptmm_df = player.add_categorical_variables(sptmm_df, 'opposition_team')\n",
    "sptmm_df = player.add_categorical_variables(sptmm_df, 'own_team')"
   ]
  },
  {
   "cell_type": "code",
   "execution_count": 59,
   "metadata": {
    "ExecuteTime": {
     "end_time": "2019-03-16T16:03:12.653408Z",
     "start_time": "2019-03-16T16:03:12.643831Z"
    },
    "hidden": true
   },
   "outputs": [],
   "source": [
    "sptmm_redundant_columns = [\n",
    "    'row_id', 'goals_scored', 'attempted_passes', 'big_chances_created',\n",
    "    'big_chances_missed', 'bonus', 'bps', 'clean_sheets',\n",
    "    'clearances_blocks_interceptions', 'completed_passes', 'creativity',\n",
    "    'dribbles', 'ea_index', 'element', 'errors_leading_to_goal',\n",
    "    'errors_leading_to_goal_attempt', 'fixture', 'fouls', 'goals_conceded',\n",
    "    'ict_index', 'id', 'influence', 'key_passes', 'kickoff_time',\n",
    "    'kickoff_time_formatted', 'loaned_in', 'loaned_out', 'offside',\n",
    "    'open_play_crosses', 'opponent_team', 'own_goals', 'penalties_conceded',\n",
    "    'penalties_missed', 'penalties_saved', 'recoveries', 'red_cards', 'round',\n",
    "    'saves', 'selected', 'tackled', 'tackles', 'target_missed', 'team_a_score',\n",
    "    'team_h_score', 'threat', 'total_points', 'transfers_balance',\n",
    "    'transfers_in', 'transfers_out', 'value', 'winning_goals',\n",
    "    'yellow_cards', 'event', 'team_a', 'team_a_difficulty', 'team_h',\n",
    "    'team_h_difficulty', 'element_type', 'team', 'web_name', 'safe_web_name',\n",
    "    'own_team', 'opposition_team', 'minutes'\n",
    "]"
   ]
  },
  {
   "cell_type": "code",
   "execution_count": 60,
   "metadata": {
    "ExecuteTime": {
     "end_time": "2019-03-16T16:03:12.684746Z",
     "start_time": "2019-03-16T16:03:12.655769Z"
    },
    "hidden": true
   },
   "outputs": [],
   "source": [
    "sptmm_df['log_minutes'] = np.log(sptmm_df['minutes'])"
   ]
  },
  {
   "cell_type": "code",
   "execution_count": 61,
   "metadata": {
    "ExecuteTime": {
     "end_time": "2019-03-16T16:03:12.716387Z",
     "start_time": "2019-03-16T16:03:12.686787Z"
    },
    "hidden": true
   },
   "outputs": [],
   "source": [
    "sptmm_df = player.remove_redundant_columns(sptmm_df, sptmm_redundant_columns)"
   ]
  },
  {
   "cell_type": "code",
   "execution_count": 62,
   "metadata": {
    "ExecuteTime": {
     "end_time": "2019-03-16T16:03:12.758520Z",
     "start_time": "2019-03-16T16:03:12.718755Z"
    },
    "hidden": true
   },
   "outputs": [],
   "source": [
    "sptmm_response_df, sptmm_explanatory_df = player.get_response_explanatory_dfs(sptmm_df, 'assists')"
   ]
  },
  {
   "cell_type": "code",
   "execution_count": 63,
   "metadata": {
    "ExecuteTime": {
     "end_time": "2019-03-16T16:03:12.771907Z",
     "start_time": "2019-03-16T16:03:12.760751Z"
    },
    "hidden": true
   },
   "outputs": [
    {
     "data": {
      "text/plain": [
       "Index(['const', 'was_home', 'element_type_3', 'element_type_4',\n",
       "       'opposition_team_2', 'opposition_team_3', 'opposition_team_4',\n",
       "       'opposition_team_5', 'opposition_team_6', 'opposition_team_7',\n",
       "       'opposition_team_8', 'opposition_team_9', 'opposition_team_10',\n",
       "       'opposition_team_11', 'opposition_team_12', 'opposition_team_13',\n",
       "       'opposition_team_14', 'opposition_team_15', 'opposition_team_16',\n",
       "       'opposition_team_17', 'opposition_team_18', 'opposition_team_19',\n",
       "       'opposition_team_20', 'own_team_2', 'own_team_3', 'own_team_4',\n",
       "       'own_team_5', 'own_team_6', 'own_team_7', 'own_team_8', 'own_team_9',\n",
       "       'own_team_10', 'own_team_11', 'own_team_12', 'own_team_13',\n",
       "       'own_team_14', 'own_team_15', 'own_team_16', 'own_team_17',\n",
       "       'own_team_18', 'own_team_19', 'own_team_20', 'log_minutes'],\n",
       "      dtype='object')"
      ]
     },
     "execution_count": 63,
     "metadata": {},
     "output_type": "execute_result"
    }
   ],
   "source": [
    "sptmm_explanatory_df.columns"
   ]
  },
  {
   "cell_type": "markdown",
   "metadata": {
    "hidden": true
   },
   "source": [
    "### Fitting model"
   ]
  },
  {
   "cell_type": "code",
   "execution_count": 64,
   "metadata": {
    "ExecuteTime": {
     "end_time": "2019-03-16T16:03:13.023229Z",
     "start_time": "2019-03-16T16:03:12.773830Z"
    },
    "hidden": true
   },
   "outputs": [],
   "source": [
    "sptmm_results = sm.GLM(\n",
    "    sptmm_response_df,\n",
    "    sptmm_explanatory_df,\n",
    "    family=sm.families.Poisson(),\n",
    "    missing='drop'\n",
    ").fit()"
   ]
  },
  {
   "cell_type": "code",
   "execution_count": 65,
   "metadata": {
    "ExecuteTime": {
     "end_time": "2019-03-16T16:03:13.076427Z",
     "start_time": "2019-03-16T16:03:13.027317Z"
    },
    "hidden": true
   },
   "outputs": [
    {
     "name": "stdout",
     "output_type": "stream",
     "text": [
      "                 Generalized Linear Model Regression Results                  \n",
      "==============================================================================\n",
      "Dep. Variable:                assists   No. Observations:                 6675\n",
      "Model:                            GLM   Df Residuals:                     6632\n",
      "Model Family:                 Poisson   Df Model:                           42\n",
      "Link Function:                    log   Scale:                             1.0\n",
      "Method:                          IRLS   Log-Likelihood:                -2022.7\n",
      "Date:                Sat, 16 Mar 2019   Deviance:                       2840.0\n",
      "Time:                        16:03:13   Pearson chi2:                 6.70e+03\n",
      "No. Iterations:                     6                                         \n",
      "======================================================================================\n",
      "                         coef    std err          z      P>|z|      [0.025      0.975]\n",
      "--------------------------------------------------------------------------------------\n",
      "const                 -5.3505      0.434    -12.333      0.000      -6.201      -4.500\n",
      "was_home               0.1460      0.080      1.832      0.067      -0.010       0.302\n",
      "element_type_3         0.6994      0.098      7.133      0.000       0.507       0.892\n",
      "element_type_4         0.9550      0.122      7.837      0.000       0.716       1.194\n",
      "opposition_team_2      0.2504      0.239      1.048      0.295      -0.218       0.719\n",
      "opposition_team_3     -0.0871      0.259     -0.336      0.737      -0.595       0.421\n",
      "opposition_team_4      0.3275      0.238      1.376      0.169      -0.139       0.794\n",
      "opposition_team_5      0.2874      0.239      1.203      0.229      -0.181       0.755\n",
      "opposition_team_6     -0.2492      0.274     -0.911      0.362      -0.785       0.287\n",
      "opposition_team_7     -0.0855      0.259     -0.330      0.741      -0.593       0.422\n",
      "opposition_team_8      0.0292      0.251      0.116      0.907      -0.463       0.522\n",
      "opposition_team_9      0.4339      0.232      1.873      0.061      -0.020       0.888\n",
      "opposition_team_10     0.2623      0.237      1.107      0.268      -0.202       0.726\n",
      "opposition_team_11    -0.1019      0.260     -0.392      0.695      -0.611       0.407\n",
      "opposition_team_12    -0.8194      0.323     -2.534      0.011      -1.453      -0.186\n",
      "opposition_team_13    -0.7356      0.316     -2.328      0.020      -1.355      -0.116\n",
      "opposition_team_14    -0.0073      0.258     -0.028      0.977      -0.512       0.498\n",
      "opposition_team_15    -0.0912      0.255     -0.358      0.721      -0.591       0.409\n",
      "opposition_team_16     0.2314      0.239      0.969      0.333      -0.237       0.700\n",
      "opposition_team_17    -0.2434      0.277     -0.880      0.379      -0.785       0.299\n",
      "opposition_team_18    -0.0891      0.262     -0.340      0.734      -0.603       0.425\n",
      "opposition_team_19     0.0919      0.249      0.370      0.712      -0.395       0.579\n",
      "opposition_team_20    -0.0602      0.257     -0.234      0.815      -0.564       0.444\n",
      "own_team_2            -0.3893      0.224     -1.735      0.083      -0.829       0.051\n",
      "own_team_3            -0.8772      0.260     -3.371      0.001      -1.387      -0.367\n",
      "own_team_4            -0.6386      0.239     -2.671      0.008      -1.107      -0.170\n",
      "own_team_5            -0.9473      0.271     -3.498      0.000      -1.478      -0.417\n",
      "own_team_6            -0.1559      0.209     -0.745      0.456      -0.566       0.254\n",
      "own_team_7            -0.7045      0.248     -2.836      0.005      -1.191      -0.218\n",
      "own_team_8            -0.5598      0.234     -2.390      0.017      -1.019      -0.101\n",
      "own_team_9            -0.8400      0.261     -3.216      0.001      -1.352      -0.328\n",
      "own_team_10           -1.3120      0.312     -4.209      0.000      -1.923      -0.701\n",
      "own_team_11           -0.5681      0.236     -2.402      0.016      -1.032      -0.105\n",
      "own_team_12           -0.1139      0.207     -0.551      0.581      -0.519       0.291\n",
      "own_team_13            0.1973      0.190      1.040      0.298      -0.174       0.569\n",
      "own_team_14           -0.1743      0.209     -0.835      0.404      -0.583       0.235\n",
      "own_team_15           -0.8511      0.260     -3.270      0.001      -1.361      -0.341\n",
      "own_team_16           -1.0414      0.281     -3.706      0.000      -1.592      -0.491\n",
      "own_team_17           -0.0100      0.202     -0.050      0.960      -0.405       0.385\n",
      "own_team_18           -0.5152      0.232     -2.223      0.026      -0.970      -0.061\n",
      "own_team_19           -0.5660      0.237     -2.385      0.017      -1.031      -0.101\n",
      "own_team_20           -0.3039      0.225     -1.350      0.177      -0.745       0.137\n",
      "log_minutes            0.6755      0.081      8.382      0.000       0.518       0.833\n",
      "======================================================================================\n"
     ]
    }
   ],
   "source": [
    "print(sptmm_results.summary())"
   ]
  },
  {
   "cell_type": "markdown",
   "metadata": {
    "hidden": true
   },
   "source": [
    "### Model fit"
   ]
  },
  {
   "cell_type": "code",
   "execution_count": 66,
   "metadata": {
    "ExecuteTime": {
     "end_time": "2019-03-16T16:03:13.085430Z",
     "start_time": "2019-03-16T16:03:13.079499Z"
    },
    "hidden": true
   },
   "outputs": [
    {
     "data": {
      "text/plain": [
       "4131.430362795217"
      ]
     },
     "execution_count": 66,
     "metadata": {},
     "output_type": "execute_result"
    }
   ],
   "source": [
    "sptmm_results.aic"
   ]
  },
  {
   "cell_type": "code",
   "execution_count": 67,
   "metadata": {
    "ExecuteTime": {
     "end_time": "2019-03-16T16:03:13.117485Z",
     "start_time": "2019-03-16T16:03:13.088459Z"
    },
    "hidden": true
   },
   "outputs": [
    {
     "data": {
      "text/plain": [
       "-55562.22877132028"
      ]
     },
     "execution_count": 67,
     "metadata": {},
     "output_type": "execute_result"
    }
   ],
   "source": [
    "sptmm_results.bic"
   ]
  },
  {
   "cell_type": "code",
   "execution_count": 68,
   "metadata": {
    "ExecuteTime": {
     "end_time": "2019-03-16T16:03:13.143127Z",
     "start_time": "2019-03-16T16:03:13.124857Z"
    },
    "hidden": true
   },
   "outputs": [
    {
     "data": {
      "text/plain": [
       "(False, 0.28194871722764203)"
      ]
     },
     "execution_count": 68,
     "metadata": {},
     "output_type": "execute_result"
    }
   ],
   "source": [
    "sptmm_pearson_results = goodness_fit.pearson_chi_squared_test(sptmm_results)\n",
    "sptmm_pearson_results"
   ]
  },
  {
   "cell_type": "code",
   "execution_count": 69,
   "metadata": {
    "ExecuteTime": {
     "end_time": "2019-03-16T16:03:13.190792Z",
     "start_time": "2019-03-16T16:03:13.150582Z"
    },
    "hidden": true
   },
   "outputs": [
    {
     "data": {
      "text/plain": [
       "count    6675.000000\n",
       "mean       -0.219586\n",
       "std         0.614252\n",
       "min        -0.971712\n",
       "25%        -0.476253\n",
       "50%        -0.371393\n",
       "75%        -0.269480\n",
       "max         3.525835\n",
       "dtype: float64"
      ]
     },
     "execution_count": 69,
     "metadata": {},
     "output_type": "execute_result"
    }
   ],
   "source": [
    "sptmm_results.resid_deviance.describe()"
   ]
  },
  {
   "cell_type": "code",
   "execution_count": 70,
   "metadata": {
    "ExecuteTime": {
     "end_time": "2019-03-16T16:03:13.453994Z",
     "start_time": "2019-03-16T16:03:13.192885Z"
    },
    "hidden": true
   },
   "outputs": [
    {
     "data": {
      "image/png": "[encoded data removed]",
      "text/plain": [
       "<Figure size 432x288 with 1 Axes>"
      ]
     },
     "metadata": {
      "needs_background": "light"
     },
     "output_type": "display_data"
    }
   ],
   "source": [
    "plt.figure()\n",
    "plt.hist(sptmm_results.resid_deviance)\n",
    "plt.show()"
   ]
  },
  {
   "cell_type": "markdown",
   "metadata": {
    "heading_collapsed": true
   },
   "source": [
    "## Simple Poisson player model"
   ]
  },
  {
   "cell_type": "markdown",
   "metadata": {
    "hidden": true
   },
   "source": [
    "### Preparing data"
   ]
  },
  {
   "cell_type": "code",
   "execution_count": 71,
   "metadata": {
    "ExecuteTime": {
     "end_time": "2019-03-16T16:03:13.460179Z",
     "start_time": "2019-03-16T16:03:13.456179Z"
    },
    "hidden": true
   },
   "outputs": [],
   "source": [
    "sppm_df = element_gameweek_df.copy()"
   ]
  },
  {
   "cell_type": "code",
   "execution_count": 72,
   "metadata": {
    "ExecuteTime": {
     "end_time": "2019-03-16T16:03:13.518773Z",
     "start_time": "2019-03-16T16:03:13.462262Z"
    },
    "hidden": true
   },
   "outputs": [],
   "source": [
    "sppm_df = player.add_categorical_variables(sppm_df, 'opposition_team')\n",
    "sppm_df = player.add_categorical_variables(sppm_df, 'element')"
   ]
  },
  {
   "cell_type": "code",
   "execution_count": 73,
   "metadata": {
    "ExecuteTime": {
     "end_time": "2019-03-16T16:03:13.532111Z",
     "start_time": "2019-03-16T16:03:13.522067Z"
    },
    "hidden": true
   },
   "outputs": [],
   "source": [
    "sppm_redundant_columns = [\n",
    "    'row_id', 'goals_scored', 'attempted_passes', 'big_chances_created',\n",
    "    'big_chances_missed', 'bonus', 'bps', 'clean_sheets',\n",
    "    'clearances_blocks_interceptions', 'completed_passes', 'creativity',\n",
    "    'dribbles', 'ea_index', 'element', 'errors_leading_to_goal',\n",
    "    'errors_leading_to_goal_attempt', 'fixture', 'fouls', 'goals_conceded',\n",
    "    'ict_index', 'id', 'influence', 'key_passes', 'kickoff_time',\n",
    "    'kickoff_time_formatted', 'loaned_in', 'loaned_out', 'minutes', 'offside',\n",
    "    'open_play_crosses', 'opponent_team', 'own_goals', 'penalties_conceded',\n",
    "    'penalties_missed', 'penalties_saved', 'recoveries', 'red_cards', 'round',\n",
    "    'saves', 'selected', 'tackled', 'tackles', 'target_missed', 'team_a_score',\n",
    "    'team_h_score', 'threat', 'total_points', 'transfers_balance',\n",
    "    'transfers_in', 'transfers_out', 'value', 'winning_goals',\n",
    "    'yellow_cards', 'event', 'team_a', 'team_a_difficulty', 'team_h',\n",
    "    'team_h_difficulty', 'element_type', 'team', 'web_name', 'safe_web_name',\n",
    "    'own_team', 'opposition_team', 'was_home'\n",
    "]"
   ]
  },
  {
   "cell_type": "code",
   "execution_count": 74,
   "metadata": {
    "ExecuteTime": {
     "end_time": "2019-03-16T16:03:13.574377Z",
     "start_time": "2019-03-16T16:03:13.535386Z"
    },
    "hidden": true
   },
   "outputs": [],
   "source": [
    "sppm_df = player.remove_redundant_columns(sppm_df, sppm_redundant_columns)"
   ]
  },
  {
   "cell_type": "code",
   "execution_count": 75,
   "metadata": {
    "ExecuteTime": {
     "end_time": "2019-03-16T16:03:13.802834Z",
     "start_time": "2019-03-16T16:03:13.576950Z"
    },
    "hidden": true
   },
   "outputs": [],
   "source": [
    "sppm_response_df, sppm_explanatory_df = player.get_response_explanatory_dfs(sppm_df, 'assists')"
   ]
  },
  {
   "cell_type": "code",
   "execution_count": 76,
   "metadata": {
    "ExecuteTime": {
     "end_time": "2019-03-16T16:03:13.810105Z",
     "start_time": "2019-03-16T16:03:13.805006Z"
    },
    "hidden": true
   },
   "outputs": [
    {
     "data": {
      "text/plain": [
       "Index(['const', 'opposition_team_2', 'opposition_team_3', 'opposition_team_4',\n",
       "       'opposition_team_5', 'opposition_team_6', 'opposition_team_7',\n",
       "       'opposition_team_8', 'opposition_team_9', 'opposition_team_10',\n",
       "       ...\n",
       "       'element_580', 'element_581', 'element_585', 'element_586',\n",
       "       'element_587', 'element_588', 'element_589', 'element_590',\n",
       "       'element_591', 'element_592'],\n",
       "      dtype='object', length=466)"
      ]
     },
     "execution_count": 76,
     "metadata": {},
     "output_type": "execute_result"
    }
   ],
   "source": [
    "sppm_explanatory_df.columns"
   ]
  },
  {
   "cell_type": "markdown",
   "metadata": {
    "hidden": true
   },
   "source": [
    "### Fitting model"
   ]
  },
  {
   "cell_type": "code",
   "execution_count": 77,
   "metadata": {
    "ExecuteTime": {
     "end_time": "2019-03-16T16:03:27.667686Z",
     "start_time": "2019-03-16T16:03:13.812299Z"
    },
    "hidden": true
   },
   "outputs": [],
   "source": [
    "sppm_results = sm.GLM(\n",
    "    sppm_response_df,\n",
    "    sppm_explanatory_df,\n",
    "    family=sm.families.Poisson(),\n",
    "    missing='drop'\n",
    ").fit()"
   ]
  },
  {
   "cell_type": "code",
   "execution_count": 78,
   "metadata": {
    "ExecuteTime": {
     "end_time": "2019-03-16T16:03:27.937178Z",
     "start_time": "2019-03-16T16:03:27.676896Z"
    },
    "hidden": true
   },
   "outputs": [
    {
     "name": "stdout",
     "output_type": "stream",
     "text": [
      "                 Generalized Linear Model Regression Results                  \n",
      "==============================================================================\n",
      "Dep. Variable:                assists   No. Observations:                 6675\n",
      "Model:                            GLM   Df Residuals:                     6209\n",
      "Model Family:                 Poisson   Df Model:                          465\n",
      "Link Function:                    log   Scale:                             1.0\n",
      "Method:                          IRLS   Log-Likelihood:                -1744.0\n",
      "Date:                Sat, 16 Mar 2019   Deviance:                       2282.6\n",
      "Time:                        16:03:27   Pearson chi2:                 4.15e+03\n",
      "No. Iterations:                    25                                         \n",
      "======================================================================================\n",
      "                         coef    std err          z      P>|z|      [0.025      0.975]\n",
      "--------------------------------------------------------------------------------------\n",
      "const                -27.9494   2.53e+05     -0.000      1.000   -4.96e+05    4.96e+05\n",
      "opposition_team_2      0.2395      0.242      0.991      0.322      -0.234       0.713\n",
      "opposition_team_3     -0.1323      0.262     -0.505      0.614      -0.646       0.381\n",
      "opposition_team_4      0.3752      0.241      1.559      0.119      -0.096       0.847\n",
      "opposition_team_5      0.3174      0.241      1.317      0.188      -0.155       0.790\n",
      "opposition_team_6     -0.2409      0.276     -0.872      0.383      -0.782       0.300\n",
      "opposition_team_7     -0.1002      0.261     -0.383      0.701      -0.612       0.412\n",
      "opposition_team_8      0.0557      0.254      0.220      0.826      -0.441       0.553\n",
      "opposition_team_9      0.4826      0.236      2.049      0.040       0.021       0.944\n",
      "opposition_team_10     0.3002      0.239      1.256      0.209      -0.168       0.769\n",
      "opposition_team_11    -0.1336      0.264     -0.506      0.613      -0.650       0.383\n",
      "opposition_team_12    -0.8204      0.325     -2.526      0.012      -1.457      -0.184\n",
      "opposition_team_13    -0.7073      0.318     -2.227      0.026      -1.330      -0.085\n",
      "opposition_team_14    -0.0701      0.260     -0.270      0.788      -0.580       0.440\n",
      "opposition_team_15    -0.0841      0.257     -0.328      0.743      -0.587       0.419\n",
      "opposition_team_16     0.2179      0.243      0.899      0.369      -0.257       0.693\n",
      "opposition_team_17    -0.2677      0.279     -0.960      0.337      -0.814       0.279\n",
      "opposition_team_18    -0.0582      0.265     -0.220      0.826      -0.577       0.460\n",
      "opposition_team_19     0.0939      0.251      0.374      0.709      -0.398       0.586\n",
      "opposition_team_20    -0.0571      0.260     -0.220      0.826      -0.566       0.452\n",
      "element_4             26.6196   2.53e+05      0.000      1.000   -4.96e+05    4.96e+05\n",
      "element_5             26.3357   2.53e+05      0.000      1.000   -4.96e+05    4.96e+05\n",
      "element_6             -0.0201   3.42e+05  -5.88e-08      1.000    -6.7e+05     6.7e+05\n",
      "element_7             -0.0344   2.96e+05  -1.16e-07      1.000    -5.8e+05     5.8e+05\n",
      "element_8             27.0201   2.53e+05      0.000      1.000   -4.96e+05    4.96e+05\n",
      "element_9             -0.0472   3.03e+05  -1.55e-07      1.000   -5.94e+05    5.94e+05\n",
      "element_10             0.6173   7.86e+05   7.86e-07      1.000   -1.54e+06    1.54e+06\n",
      "element_11             0.0324   3.33e+05   9.74e-08      1.000   -6.53e+05    6.53e+05\n",
      "element_12            25.8500   2.53e+05      0.000      1.000   -4.96e+05    4.96e+05\n",
      "element_13            26.0262   2.53e+05      0.000      1.000   -4.96e+05    4.96e+05\n",
      "element_14            26.6913   2.53e+05      0.000      1.000   -4.96e+05    4.96e+05\n",
      "element_15            26.3923   2.53e+05      0.000      1.000   -4.96e+05    4.96e+05\n",
      "element_16            -0.2744   4.45e+05  -6.17e-07      1.000   -8.72e+05    8.72e+05\n",
      "element_17            25.5352   2.53e+05      0.000      1.000   -4.96e+05    4.96e+05\n",
      "element_18            25.2110   2.53e+05   9.97e-05      1.000   -4.96e+05    4.96e+05\n",
      "element_20            25.7126   2.53e+05      0.000      1.000   -4.96e+05    4.96e+05\n",
      "element_21            25.8262   2.53e+05      0.000      1.000   -4.96e+05    4.96e+05\n",
      "element_22            26.8004   2.53e+05      0.000      1.000   -4.96e+05    4.96e+05\n",
      "element_23            26.5159   2.53e+05      0.000      1.000   -4.96e+05    4.96e+05\n",
      "element_26            25.8048   2.53e+05      0.000      1.000   -4.96e+05    4.96e+05\n",
      "element_27            24.7025   2.53e+05   9.77e-05      1.000   -4.96e+05    4.96e+05\n",
      "element_28            -0.0246   3.11e+05  -7.91e-08      1.000    -6.1e+05     6.1e+05\n",
      "element_29            -0.1064   3.09e+05  -3.45e-07      1.000   -6.05e+05    6.05e+05\n",
      "element_30             0.1633   4.09e+05   3.99e-07      1.000   -8.01e+05    8.01e+05\n",
      "element_31            -0.0338    2.9e+05  -1.17e-07      1.000   -5.69e+05    5.69e+05\n",
      "element_33            -0.0854   2.99e+05  -2.86e-07      1.000   -5.86e+05    5.86e+05\n",
      "element_35             0.0433   3.14e+05   1.38e-07      1.000   -6.16e+05    6.16e+05\n",
      "element_36            26.0952   2.53e+05      0.000      1.000   -4.96e+05    4.96e+05\n",
      "element_37            25.0342   2.53e+05    9.9e-05      1.000   -4.96e+05    4.96e+05\n",
      "element_38            25.4404   2.53e+05      0.000      1.000   -4.96e+05    4.96e+05\n",
      "element_39            -0.0729   3.24e+05  -2.25e-07      1.000   -6.35e+05    6.35e+05\n",
      "element_40            26.8997   2.53e+05      0.000      1.000   -4.96e+05    4.96e+05\n",
      "element_42            26.2371   2.53e+05      0.000      1.000   -4.96e+05    4.96e+05\n",
      "element_43            26.9556   2.53e+05      0.000      1.000   -4.96e+05    4.96e+05\n",
      "element_44             0.0286   3.08e+05   9.27e-08      1.000   -6.04e+05    6.04e+05\n",
      "element_45            25.9462   2.53e+05      0.000      1.000   -4.96e+05    4.96e+05\n",
      "element_46            -0.3541   4.45e+05  -7.95e-07      1.000   -8.73e+05    8.73e+05\n",
      "element_48            -0.1081   2.93e+05  -3.69e-07      1.000   -5.75e+05    5.75e+05\n",
      "element_49            25.4852   2.53e+05      0.000      1.000   -4.96e+05    4.96e+05\n",
      "element_50            25.7926   2.53e+05      0.000      1.000   -4.96e+05    4.96e+05\n",
      "element_51            -0.0605   3.02e+05     -2e-07      1.000   -5.92e+05    5.92e+05\n",
      "element_54            -0.0565    3.6e+05  -1.57e-07      1.000   -7.06e+05    7.06e+05\n",
      "element_55            26.4837   2.53e+05      0.000      1.000   -4.96e+05    4.96e+05\n",
      "element_56            -0.0889   3.02e+05  -2.94e-07      1.000   -5.93e+05    5.93e+05\n",
      "element_57            25.5351   2.53e+05      0.000      1.000   -4.96e+05    4.96e+05\n",
      "element_58            26.2622   2.53e+05      0.000      1.000   -4.96e+05    4.96e+05\n",
      "element_59            25.6915   2.53e+05      0.000      1.000   -4.96e+05    4.96e+05\n",
      "element_60            24.8259   2.53e+05   9.82e-05      1.000   -4.96e+05    4.96e+05\n",
      "element_61            26.4435   2.53e+05      0.000      1.000   -4.96e+05    4.96e+05\n",
      "element_62            -0.0770    2.9e+05  -2.66e-07      1.000   -5.69e+05    5.69e+05\n",
      "element_65            -0.0494      3e+05  -1.65e-07      1.000   -5.88e+05    5.88e+05\n",
      "element_66            -0.1249   3.15e+05  -3.96e-07      1.000   -6.18e+05    6.18e+05\n",
      "element_69            -0.1378   3.16e+05  -4.37e-07      1.000   -6.18e+05    6.18e+05\n",
      "element_70            25.3482   2.53e+05      0.000      1.000   -4.96e+05    4.96e+05\n",
      "element_71            -0.2994   4.93e+05  -6.07e-07      1.000   -9.66e+05    9.66e+05\n",
      "element_72            24.7606   2.53e+05   9.79e-05      1.000   -4.96e+05    4.96e+05\n",
      "element_73            26.1850   2.53e+05      0.000      1.000   -4.96e+05    4.96e+05\n",
      "element_74            -0.0874   2.91e+05  -3.01e-07      1.000   -5.69e+05    5.69e+05\n",
      "element_75            -0.0523   3.24e+05  -1.61e-07      1.000   -6.35e+05    6.35e+05\n",
      "element_76            26.5680   2.53e+05      0.000      1.000   -4.96e+05    4.96e+05\n",
      "element_77             0.1018   3.92e+05   2.59e-07      1.000   -7.69e+05    7.69e+05\n",
      "element_78            25.5663   2.53e+05      0.000      1.000   -4.96e+05    4.96e+05\n",
      "element_79            25.7238   2.53e+05      0.000      1.000   -4.96e+05    4.96e+05\n",
      "element_80            26.5524   2.53e+05      0.000      1.000   -4.96e+05    4.96e+05\n",
      "element_82            25.3899   2.53e+05      0.000      1.000   -4.96e+05    4.96e+05\n",
      "element_83            25.1736   2.53e+05   9.96e-05      1.000   -4.96e+05    4.96e+05\n",
      "element_84            -0.0800   3.01e+05  -2.66e-07      1.000   -5.89e+05    5.89e+05\n",
      "element_85            25.8060   2.53e+05      0.000      1.000   -4.96e+05    4.96e+05\n",
      "element_87            -0.0874   2.91e+05  -3.01e-07      1.000   -5.69e+05    5.69e+05\n",
      "element_90            26.2462   2.53e+05      0.000      1.000   -4.96e+05    4.96e+05\n",
      "element_91            24.6949   2.53e+05   9.77e-05      1.000   -4.96e+05    4.96e+05\n",
      "element_92            24.6760   2.53e+05   9.76e-05      1.000   -4.96e+05    4.96e+05\n",
      "element_94            25.0049   2.53e+05   9.89e-05      1.000   -4.96e+05    4.96e+05\n",
      "element_95            -0.0459   3.43e+05  -1.34e-07      1.000   -6.73e+05    6.73e+05\n",
      "element_96             0.0634   4.77e+05   1.33e-07      1.000   -9.35e+05    9.35e+05\n",
      "element_98            -0.0928   2.99e+05   -3.1e-07      1.000   -5.87e+05    5.87e+05\n",
      "element_99            24.9672   2.53e+05   9.87e-05      1.000   -4.96e+05    4.96e+05\n",
      "element_100           -0.1567   3.44e+05  -4.55e-07      1.000   -6.74e+05    6.74e+05\n",
      "element_101           25.4644   2.53e+05      0.000      1.000   -4.96e+05    4.96e+05\n",
      "element_102           25.0906   2.53e+05   9.92e-05      1.000   -4.96e+05    4.96e+05\n",
      "element_104            0.0585   5.44e+05   1.08e-07      1.000   -1.07e+06    1.07e+06\n",
      "element_105           -0.0443   3.42e+05   -1.3e-07      1.000    -6.7e+05     6.7e+05\n",
      "element_106           -0.0513   3.01e+05   -1.7e-07      1.000   -5.89e+05    5.89e+05\n",
      "element_107           25.6364   2.53e+05      0.000      1.000   -4.96e+05    4.96e+05\n",
      "element_109           -0.1304   4.13e+05  -3.16e-07      1.000    -8.1e+05     8.1e+05\n",
      "element_110           26.0898   2.53e+05      0.000      1.000   -4.96e+05    4.96e+05\n",
      "element_113           25.7617   2.53e+05      0.000      1.000   -4.96e+05    4.96e+05\n",
      "element_114           -0.1839   7.86e+05  -2.34e-07      1.000   -1.54e+06    1.54e+06\n",
      "element_115           26.6576   2.53e+05      0.000      1.000   -4.96e+05    4.96e+05\n",
      "element_116           25.3922   2.53e+05      0.000      1.000   -4.96e+05    4.96e+05\n",
      "element_117            0.1333   5.58e+05   2.39e-07      1.000   -1.09e+06    1.09e+06\n",
      "element_118           24.7149   2.53e+05   9.77e-05      1.000   -4.96e+05    4.96e+05\n",
      "element_119           -0.2109    5.8e+05  -3.64e-07      1.000   -1.14e+06    1.14e+06\n",
      "element_120           -0.4871   5.82e+05  -8.37e-07      1.000   -1.14e+06    1.14e+06\n",
      "element_121            0.0541   4.43e+05   1.22e-07      1.000   -8.69e+05    8.69e+05\n",
      "element_122           27.0216   2.53e+05      0.000      1.000   -4.96e+05    4.96e+05\n",
      "element_123           -0.1441   3.93e+05  -3.67e-07      1.000   -7.69e+05    7.69e+05\n",
      "element_124           26.3548   2.53e+05      0.000      1.000   -4.96e+05    4.96e+05\n",
      "element_125           24.8717   2.53e+05   9.84e-05      1.000   -4.96e+05    4.96e+05\n",
      "element_126           26.0493   2.53e+05      0.000      1.000   -4.96e+05    4.96e+05\n",
      "element_127           26.3025   2.53e+05      0.000      1.000   -4.96e+05    4.96e+05\n",
      "element_131           -0.1297   4.48e+05   -2.9e-07      1.000   -8.78e+05    8.78e+05\n",
      "element_132           -0.1278   3.28e+05   -3.9e-07      1.000   -6.42e+05    6.42e+05\n",
      "element_133           26.3703   2.53e+05      0.000      1.000   -4.96e+05    4.96e+05\n",
      "element_134           -0.1216   3.12e+05   -3.9e-07      1.000   -6.11e+05    6.11e+05\n",
      "element_138           24.8421   2.53e+05   9.82e-05      1.000   -4.96e+05    4.96e+05\n",
      "element_139           -0.3079   7.86e+05  -3.92e-07      1.000   -1.54e+06    1.54e+06\n",
      "element_140           -0.0616   4.16e+05  -1.48e-07      1.000   -8.16e+05    8.16e+05\n",
      "element_141           -0.0466   2.96e+05  -1.57e-07      1.000    -5.8e+05     5.8e+05\n",
      "element_142           25.3646   2.53e+05      0.000      1.000   -4.96e+05    4.96e+05\n",
      "element_143           -0.0596    2.9e+05  -2.05e-07      1.000   -5.69e+05    5.69e+05\n",
      "element_145           24.7077   2.53e+05   9.77e-05      1.000   -4.96e+05    4.96e+05\n",
      "element_146           -0.0144   3.49e+05  -4.11e-08      1.000   -6.84e+05    6.84e+05\n",
      "element_147           25.7701   2.53e+05      0.000      1.000   -4.96e+05    4.96e+05\n",
      "element_148           -0.5726   7.86e+05  -7.29e-07      1.000   -1.54e+06    1.54e+06\n",
      "element_149           25.7701   2.53e+05      0.000      1.000   -4.96e+05    4.96e+05\n",
      "element_150           24.6715   2.53e+05   9.76e-05      1.000   -4.96e+05    4.96e+05\n",
      "element_151           26.4670   2.53e+05      0.000      1.000   -4.96e+05    4.96e+05\n",
      "element_152           -0.1448   3.71e+05   -3.9e-07      1.000   -7.28e+05    7.28e+05\n",
      "element_153           -0.0690   3.28e+05   -2.1e-07      1.000   -6.44e+05    6.44e+05\n",
      "element_156           -0.2471   3.94e+05  -6.28e-07      1.000   -7.72e+05    7.72e+05\n",
      "element_157           -0.0695   3.01e+05  -2.31e-07      1.000    -5.9e+05     5.9e+05\n",
      "element_158            0.0573   5.83e+05   9.82e-08      1.000   -1.14e+06    1.14e+06\n",
      "element_160           -0.2492   4.17e+05  -5.98e-07      1.000   -8.17e+05    8.17e+05\n",
      "element_161           25.7302   2.53e+05      0.000      1.000   -4.96e+05    4.96e+05\n",
      "element_162           25.4678   2.53e+05      0.000      1.000   -4.96e+05    4.96e+05\n",
      "element_164           25.7923   2.53e+05      0.000      1.000   -4.96e+05    4.96e+05\n",
      "element_167           25.8829   2.53e+05      0.000      1.000   -4.96e+05    4.96e+05\n",
      "element_168           -0.0676   2.97e+05  -2.28e-07      1.000   -5.82e+05    5.82e+05\n",
      "element_169           -0.0914   3.23e+05  -2.83e-07      1.000   -6.32e+05    6.32e+05\n",
      "element_170           26.0342   2.53e+05      0.000      1.000   -4.96e+05    4.96e+05\n",
      "element_172           25.7415   2.53e+05      0.000      1.000   -4.96e+05    4.96e+05\n",
      "element_175           25.4249   2.53e+05      0.000      1.000   -4.96e+05    4.96e+05\n",
      "element_176           -0.1786   3.53e+05  -5.06e-07      1.000   -6.92e+05    6.92e+05\n",
      "element_177           25.9992   2.53e+05      0.000      1.000   -4.96e+05    4.96e+05\n",
      "element_180           -0.1159   3.13e+05   -3.7e-07      1.000   -6.13e+05    6.13e+05\n",
      "element_181           24.7571   2.53e+05   9.79e-05      1.000   -4.96e+05    4.96e+05\n",
      "element_182           24.9260   2.53e+05   9.86e-05      1.000   -4.96e+05    4.96e+05\n",
      "element_183           -0.1086   3.42e+05  -3.17e-07      1.000   -6.71e+05    6.71e+05\n",
      "element_184           26.4194   2.53e+05      0.000      1.000   -4.96e+05    4.96e+05\n",
      "element_185            0.0164   3.29e+05   4.98e-08      1.000   -6.44e+05    6.44e+05\n",
      "element_186           -0.0227   3.62e+05  -6.27e-08      1.000   -7.09e+05    7.09e+05\n",
      "element_187           -0.0690   4.43e+05  -1.56e-07      1.000   -8.68e+05    8.68e+05\n",
      "element_189           -0.0834   3.25e+05  -2.56e-07      1.000   -6.38e+05    6.38e+05\n",
      "element_192           24.6616   2.53e+05   9.75e-05      1.000   -4.96e+05    4.96e+05\n",
      "element_193           25.6495   2.53e+05      0.000      1.000   -4.96e+05    4.96e+05\n",
      "element_194            0.1599   3.76e+05   4.26e-07      1.000   -7.36e+05    7.36e+05\n",
      "element_195           24.7685   2.53e+05    9.8e-05      1.000   -4.96e+05    4.96e+05\n",
      "element_197           -0.1143   2.98e+05  -3.83e-07      1.000   -5.84e+05    5.84e+05\n",
      "element_198           -0.0694   2.97e+05  -2.34e-07      1.000   -5.81e+05    5.81e+05\n",
      "element_199           -0.0647   3.06e+05  -2.12e-07      1.000   -5.99e+05    5.99e+05\n",
      "element_200           -0.1873   4.14e+05  -4.52e-07      1.000   -8.12e+05    8.12e+05\n",
      "element_201           24.9293   2.53e+05   9.86e-05      1.000   -4.96e+05    4.96e+05\n",
      "element_202           -0.0912   2.96e+05  -3.08e-07      1.000   -5.81e+05    5.81e+05\n",
      "element_204           -0.0271   4.98e+05  -5.43e-08      1.000   -9.76e+05    9.76e+05\n",
      "element_205            0.1162   5.65e+05   2.06e-07      1.000   -1.11e+06    1.11e+06\n",
      "element_206           -0.0454   2.98e+05  -1.53e-07      1.000   -5.84e+05    5.84e+05\n",
      "element_207            0.0501   4.43e+05   1.13e-07      1.000   -8.69e+05    8.69e+05\n",
      "element_208           -0.0544   3.51e+05  -1.55e-07      1.000   -6.87e+05    6.87e+05\n",
      "element_209           -0.1713   5.83e+05  -2.94e-07      1.000   -1.14e+06    1.14e+06\n",
      "element_210           24.8002   2.53e+05   9.81e-05      1.000   -4.96e+05    4.96e+05\n",
      "element_211           26.2575   2.53e+05      0.000      1.000   -4.96e+05    4.96e+05\n",
      "element_212           -0.1100   3.29e+05  -3.35e-07      1.000   -6.44e+05    6.44e+05\n",
      "element_215           -0.0562   3.08e+05  -1.82e-07      1.000   -6.04e+05    6.04e+05\n",
      "element_216            0.0102   7.86e+05   1.29e-08      1.000   -1.54e+06    1.54e+06\n",
      "element_217           -0.1104   4.08e+05   -2.7e-07      1.000   -8.01e+05    8.01e+05\n",
      "element_219           25.8162   2.53e+05      0.000      1.000   -4.96e+05    4.96e+05\n",
      "element_220           24.9255   2.53e+05   9.86e-05      1.000   -4.96e+05    4.96e+05\n",
      "element_221           26.6428   2.53e+05      0.000      1.000   -4.96e+05    4.96e+05\n",
      "element_222           -0.0597   3.19e+05  -1.87e-07      1.000   -6.26e+05    6.26e+05\n",
      "element_223           25.5679   2.53e+05      0.000      1.000   -4.96e+05    4.96e+05\n",
      "element_224           25.5221   2.53e+05      0.000      1.000   -4.96e+05    4.96e+05\n",
      "element_225           24.8029   2.53e+05   9.81e-05      1.000   -4.96e+05    4.96e+05\n",
      "element_226           -0.0582   3.52e+05  -1.66e-07      1.000   -6.89e+05    6.89e+05\n",
      "element_227           -0.0530    2.9e+05  -1.83e-07      1.000   -5.69e+05    5.69e+05\n",
      "element_228           -0.1200   3.62e+05  -3.32e-07      1.000   -7.09e+05    7.09e+05\n",
      "element_230            0.1828   4.11e+05   4.45e-07      1.000   -8.05e+05    8.05e+05\n",
      "element_231           -0.0230   5.83e+05  -3.95e-08      1.000   -1.14e+06    1.14e+06\n",
      "element_232           -0.5726   7.86e+05  -7.29e-07      1.000   -1.54e+06    1.54e+06\n",
      "element_233           26.1694   2.53e+05      0.000      1.000   -4.96e+05    4.96e+05\n",
      "element_234           25.9496   2.53e+05      0.000      1.000   -4.96e+05    4.96e+05\n",
      "element_235           25.1884   2.53e+05   9.96e-05      1.000   -4.96e+05    4.96e+05\n",
      "element_236           26.4649   2.53e+05      0.000      1.000   -4.96e+05    4.96e+05\n",
      "element_239           25.8153   2.53e+05      0.000      1.000   -4.96e+05    4.96e+05\n",
      "element_240           -0.4339   5.83e+05  -7.44e-07      1.000   -1.14e+06    1.14e+06\n",
      "element_241           -0.0903   3.64e+05  -2.48e-07      1.000   -7.13e+05    7.13e+05\n",
      "element_242           -0.0831   3.23e+05  -2.57e-07      1.000   -6.34e+05    6.34e+05\n",
      "element_243           -0.1155    3.3e+05   -3.5e-07      1.000   -6.47e+05    6.47e+05\n",
      "element_245           26.1271   2.53e+05      0.000      1.000   -4.96e+05    4.96e+05\n",
      "element_246           25.7736   2.53e+05      0.000      1.000   -4.96e+05    4.96e+05\n",
      "element_247           26.7341   2.53e+05      0.000      1.000   -4.96e+05    4.96e+05\n",
      "element_249           -0.0322   2.99e+05  -1.08e-07      1.000   -5.86e+05    5.86e+05\n",
      "element_250           25.6750   2.53e+05      0.000      1.000   -4.96e+05    4.96e+05\n",
      "element_251           25.4804   2.53e+05      0.000      1.000   -4.96e+05    4.96e+05\n",
      "element_252           24.8153   2.53e+05   9.81e-05      1.000   -4.96e+05    4.96e+05\n",
      "element_253           26.7544   2.53e+05      0.000      1.000   -4.96e+05    4.96e+05\n",
      "element_254           26.4842   2.53e+05      0.000      1.000   -4.96e+05    4.96e+05\n",
      "element_255           25.7561   2.53e+05      0.000      1.000   -4.96e+05    4.96e+05\n",
      "element_256           24.9868   2.53e+05   9.88e-05      1.000   -4.96e+05    4.96e+05\n",
      "element_257           26.4668   2.53e+05      0.000      1.000   -4.96e+05    4.96e+05\n",
      "element_258           25.0492   2.53e+05   9.91e-05      1.000   -4.96e+05    4.96e+05\n",
      "element_259            0.1302   5.56e+05   2.34e-07      1.000   -1.09e+06    1.09e+06\n",
      "element_262           -0.0002   3.06e+05  -8.11e-10      1.000   -5.99e+05    5.99e+05\n",
      "element_263           -0.0760    3.5e+05  -2.17e-07      1.000   -6.86e+05    6.86e+05\n",
      "element_264           -0.1298   3.29e+05  -3.94e-07      1.000   -6.45e+05    6.45e+05\n",
      "element_265           24.8294   2.53e+05   9.82e-05      1.000   -4.96e+05    4.96e+05\n",
      "element_266           -0.0559   3.74e+05  -1.49e-07      1.000   -7.33e+05    7.33e+05\n",
      "element_267           27.5383   2.53e+05      0.000      1.000   -4.96e+05    4.96e+05\n",
      "element_268           24.6317   2.53e+05   9.74e-05      1.000   -4.96e+05    4.96e+05\n",
      "element_269           25.4218   2.53e+05      0.000      1.000   -4.96e+05    4.96e+05\n",
      "element_270           27.3426   2.53e+05      0.000      1.000   -4.96e+05    4.96e+05\n",
      "element_271           26.1889   2.53e+05      0.000      1.000   -4.96e+05    4.96e+05\n",
      "element_272           25.7969   2.53e+05      0.000      1.000   -4.96e+05    4.96e+05\n",
      "element_273           25.4549   2.53e+05      0.000      1.000   -4.96e+05    4.96e+05\n",
      "element_274           25.5711   2.53e+05      0.000      1.000   -4.96e+05    4.96e+05\n",
      "element_275           27.1640   2.53e+05      0.000      1.000   -4.96e+05    4.96e+05\n",
      "element_276           26.4640   2.53e+05      0.000      1.000   -4.96e+05    4.96e+05\n",
      "element_277           -0.1952   3.62e+05  -5.39e-07      1.000    -7.1e+05     7.1e+05\n",
      "element_279           27.6186   2.53e+05      0.000      1.000   -4.96e+05    4.96e+05\n",
      "element_280           26.8701   2.53e+05      0.000      1.000   -4.96e+05    4.96e+05\n",
      "element_281           25.5800   2.53e+05      0.000      1.000   -4.96e+05    4.96e+05\n",
      "element_284           -0.1009   3.19e+05  -3.17e-07      1.000   -6.25e+05    6.25e+05\n",
      "element_285           25.3008   2.53e+05      0.000      1.000   -4.96e+05    4.96e+05\n",
      "element_286           25.5785   2.53e+05      0.000      1.000   -4.96e+05    4.96e+05\n",
      "element_287           -0.3148   5.73e+05  -5.49e-07      1.000   -1.12e+06    1.12e+06\n",
      "element_288           -0.0610   4.13e+05  -1.48e-07      1.000    -8.1e+05     8.1e+05\n",
      "element_289            0.1347   4.15e+05   3.25e-07      1.000   -8.12e+05    8.12e+05\n",
      "element_291           -0.0615   3.41e+05   -1.8e-07      1.000   -6.68e+05    6.68e+05\n",
      "element_292           -0.0364   2.99e+05  -1.22e-07      1.000   -5.85e+05    5.85e+05\n",
      "element_293           26.0715   2.53e+05      0.000      1.000   -4.96e+05    4.96e+05\n",
      "element_294           25.7616   2.53e+05      0.000      1.000   -4.96e+05    4.96e+05\n",
      "element_295           26.9037   2.53e+05      0.000      1.000   -4.96e+05    4.96e+05\n",
      "element_296           -0.1012   2.95e+05  -3.43e-07      1.000   -5.77e+05    5.77e+05\n",
      "element_297           26.1854   2.53e+05      0.000      1.000   -4.96e+05    4.96e+05\n",
      "element_298           26.0523   2.53e+05      0.000      1.000   -4.96e+05    4.96e+05\n",
      "element_299           26.0940   2.53e+05      0.000      1.000   -4.96e+05    4.96e+05\n",
      "element_300           25.9615   2.53e+05      0.000      1.000   -4.96e+05    4.96e+05\n",
      "element_301           26.0685   2.53e+05      0.000      1.000   -4.96e+05    4.96e+05\n",
      "element_302           26.9420   2.53e+05      0.000      1.000   -4.96e+05    4.96e+05\n",
      "element_303           -0.1739   3.61e+05  -4.82e-07      1.000   -7.07e+05    7.07e+05\n",
      "element_304           -0.1750   3.43e+05   -5.1e-07      1.000   -6.72e+05    6.72e+05\n",
      "element_305           26.7631   2.53e+05      0.000      1.000   -4.96e+05    4.96e+05\n",
      "element_306           24.8050   2.53e+05   9.81e-05      1.000   -4.96e+05    4.96e+05\n",
      "element_310           24.8163   2.53e+05   9.81e-05      1.000   -4.96e+05    4.96e+05\n",
      "element_311           -0.0530   3.35e+05  -1.58e-07      1.000   -6.56e+05    6.56e+05\n",
      "element_312           24.9021   2.53e+05   9.85e-05      1.000   -4.96e+05    4.96e+05\n",
      "element_313           -0.0367   3.15e+05  -1.16e-07      1.000   -6.17e+05    6.17e+05\n",
      "element_314            0.0939   4.12e+05   2.28e-07      1.000   -8.07e+05    8.07e+05\n",
      "element_315           25.3961   2.53e+05      0.000      1.000   -4.96e+05    4.96e+05\n",
      "element_317           26.1527   2.53e+05      0.000      1.000   -4.96e+05    4.96e+05\n",
      "element_318           25.5617   2.53e+05      0.000      1.000   -4.96e+05    4.96e+05\n",
      "element_319           -0.0606   2.97e+05  -2.04e-07      1.000   -5.82e+05    5.82e+05\n",
      "element_320           -0.0391   3.03e+05  -1.29e-07      1.000   -5.94e+05    5.94e+05\n",
      "element_321           25.9026   2.53e+05      0.000      1.000   -4.96e+05    4.96e+05\n",
      "element_323           26.0678   2.53e+05      0.000      1.000   -4.96e+05    4.96e+05\n",
      "element_324           25.4428   2.53e+05      0.000      1.000   -4.96e+05    4.96e+05\n",
      "element_326           24.7214   2.53e+05   9.78e-05      1.000   -4.96e+05    4.96e+05\n",
      "element_327            0.0286   3.19e+05   8.98e-08      1.000   -6.25e+05    6.25e+05\n",
      "element_330            0.0091   3.23e+05   2.81e-08      1.000   -6.34e+05    6.34e+05\n",
      "element_331           -0.0867   3.51e+05  -2.47e-07      1.000   -6.88e+05    6.88e+05\n",
      "element_332           25.8092   2.53e+05      0.000      1.000   -4.96e+05    4.96e+05\n",
      "element_333           -0.0742   3.11e+05  -2.38e-07      1.000    -6.1e+05     6.1e+05\n",
      "element_335           25.3850   2.53e+05      0.000      1.000   -4.96e+05    4.96e+05\n",
      "element_336           -0.0008   3.23e+05  -2.37e-09      1.000   -6.33e+05    6.33e+05\n",
      "element_337           27.0041   2.53e+05      0.000      1.000   -4.96e+05    4.96e+05\n",
      "element_338            0.0021   3.19e+05   6.72e-09      1.000   -6.25e+05    6.25e+05\n",
      "element_339           -0.0416   3.03e+05  -1.37e-07      1.000   -5.94e+05    5.94e+05\n",
      "element_340           25.0368   2.53e+05    9.9e-05      1.000   -4.96e+05    4.96e+05\n",
      "element_343           25.3825   2.53e+05      0.000      1.000   -4.96e+05    4.96e+05\n",
      "element_344           25.7615   2.53e+05      0.000      1.000   -4.96e+05    4.96e+05\n",
      "element_345           -0.0756      3e+05  -2.52e-07      1.000   -5.89e+05    5.89e+05\n",
      "element_346           -0.0337   3.18e+05  -1.06e-07      1.000   -6.24e+05    6.24e+05\n",
      "element_347           25.8850   2.53e+05      0.000      1.000   -4.96e+05    4.96e+05\n",
      "element_348           25.0168   2.53e+05   9.89e-05      1.000   -4.96e+05    4.96e+05\n",
      "element_349           -0.1307   3.29e+05  -3.97e-07      1.000   -6.45e+05    6.45e+05\n",
      "element_353           -0.0978   2.93e+05  -3.34e-07      1.000   -5.75e+05    5.75e+05\n",
      "element_354           26.2376   2.53e+05      0.000      1.000   -4.96e+05    4.96e+05\n",
      "element_355           -0.0621   3.19e+05  -1.95e-07      1.000   -6.25e+05    6.25e+05\n",
      "element_356           -0.0875   3.09e+05  -2.83e-07      1.000   -6.05e+05    6.05e+05\n",
      "element_357           26.4524   2.53e+05      0.000      1.000   -4.96e+05    4.96e+05\n",
      "element_358           27.9425   2.53e+05      0.000      1.000   -4.96e+05    4.96e+05\n",
      "element_359           25.8406   2.53e+05      0.000      1.000   -4.96e+05    4.96e+05\n",
      "element_360           26.7924   2.53e+05      0.000      1.000   -4.96e+05    4.96e+05\n",
      "element_361           -0.0673   3.14e+05  -2.14e-07      1.000   -6.16e+05    6.16e+05\n",
      "element_362            0.0098   3.41e+05   2.87e-08      1.000   -6.68e+05    6.68e+05\n",
      "element_363           25.9040   2.53e+05      0.000      1.000   -4.96e+05    4.96e+05\n",
      "element_364           26.9869   2.53e+05      0.000      1.000   -4.96e+05    4.96e+05\n",
      "element_365           25.7534   2.53e+05      0.000      1.000   -4.96e+05    4.96e+05\n",
      "element_366           -0.0179    4.1e+05  -4.36e-08      1.000   -8.04e+05    8.04e+05\n",
      "element_367           26.8756   2.53e+05      0.000      1.000   -4.96e+05    4.96e+05\n",
      "element_368           -0.0892   2.95e+05  -3.02e-07      1.000   -5.78e+05    5.78e+05\n",
      "element_369           25.6095   2.53e+05      0.000      1.000   -4.96e+05    4.96e+05\n",
      "element_370           25.5696   2.53e+05      0.000      1.000   -4.96e+05    4.96e+05\n",
      "element_371           26.6116   2.53e+05      0.000      1.000   -4.96e+05    4.96e+05\n",
      "element_372           26.6129   2.53e+05      0.000      1.000   -4.96e+05    4.96e+05\n",
      "element_376           -0.0586   2.92e+05  -2.01e-07      1.000   -5.72e+05    5.72e+05\n",
      "element_377           -0.0329   7.86e+05  -4.19e-08      1.000   -1.54e+06    1.54e+06\n",
      "element_378           26.7206   2.53e+05      0.000      1.000   -4.96e+05    4.96e+05\n",
      "element_379           -0.4653   7.86e+05  -5.92e-07      1.000   -1.54e+06    1.54e+06\n",
      "element_380           -0.1350   3.15e+05  -4.29e-07      1.000   -6.17e+05    6.17e+05\n",
      "element_381           25.6298   2.53e+05      0.000      1.000   -4.96e+05    4.96e+05\n",
      "element_382           -0.0584   3.06e+05  -1.91e-07      1.000      -6e+05       6e+05\n",
      "element_383           24.8876   2.53e+05   9.84e-05      1.000   -4.96e+05    4.96e+05\n",
      "element_385           -0.0900   7.86e+05  -1.15e-07      1.000   -1.54e+06    1.54e+06\n",
      "element_386           26.2462   2.53e+05      0.000      1.000   -4.96e+05    4.96e+05\n",
      "element_387            0.0239   3.75e+05   6.37e-08      1.000   -7.36e+05    7.36e+05\n",
      "element_388           -0.1575   3.62e+05  -4.35e-07      1.000    -7.1e+05     7.1e+05\n",
      "element_389           25.5296   2.53e+05      0.000      1.000   -4.96e+05    4.96e+05\n",
      "element_390           26.3994   2.53e+05      0.000      1.000   -4.96e+05    4.96e+05\n",
      "element_391           26.1280   2.53e+05      0.000      1.000   -4.96e+05    4.96e+05\n",
      "element_392           25.6036   2.53e+05      0.000      1.000   -4.96e+05    4.96e+05\n",
      "element_393           25.4301   2.53e+05      0.000      1.000   -4.96e+05    4.96e+05\n",
      "element_394           26.0983   2.53e+05      0.000      1.000   -4.96e+05    4.96e+05\n",
      "element_395           -0.0428   3.08e+05  -1.39e-07      1.000   -6.04e+05    6.04e+05\n",
      "element_396           25.4881   2.53e+05      0.000      1.000   -4.96e+05    4.96e+05\n",
      "element_397           -0.2031   5.78e+05  -3.51e-07      1.000   -1.13e+06    1.13e+06\n",
      "element_402           -0.0356   3.18e+05  -1.12e-07      1.000   -6.24e+05    6.24e+05\n",
      "element_403           -0.0697   3.18e+05  -2.19e-07      1.000   -6.24e+05    6.24e+05\n",
      "element_405           24.9921   2.53e+05   9.88e-05      1.000   -4.96e+05    4.96e+05\n",
      "element_406           -0.0335   2.95e+05  -1.14e-07      1.000   -5.77e+05    5.77e+05\n",
      "element_408            0.1370   3.88e+05   3.53e-07      1.000   -7.61e+05    7.61e+05\n",
      "element_409           -0.0646   2.93e+05   -2.2e-07      1.000   -5.75e+05    5.75e+05\n",
      "element_410           25.1693   2.53e+05   9.95e-05      1.000   -4.96e+05    4.96e+05\n",
      "element_411           26.0083   2.53e+05      0.000      1.000   -4.96e+05    4.96e+05\n",
      "element_412           25.5549   2.53e+05      0.000      1.000   -4.96e+05    4.96e+05\n",
      "element_413           25.1311   2.53e+05   9.94e-05      1.000   -4.96e+05    4.96e+05\n",
      "element_415           26.4213   2.53e+05      0.000      1.000   -4.96e+05    4.96e+05\n",
      "element_417           26.1544   2.53e+05      0.000      1.000   -4.96e+05    4.96e+05\n",
      "element_418           -0.1328   3.34e+05  -3.97e-07      1.000   -6.55e+05    6.55e+05\n",
      "element_419           26.1623   2.53e+05      0.000      1.000   -4.96e+05    4.96e+05\n",
      "element_423           -0.0249   2.93e+05   -8.5e-08      1.000   -5.75e+05    5.75e+05\n",
      "element_425           26.3195   2.53e+05      0.000      1.000   -4.96e+05    4.96e+05\n",
      "element_426           -0.0136   3.23e+05   -4.2e-08      1.000   -6.33e+05    6.33e+05\n",
      "element_427           -0.0128   2.92e+05  -4.38e-08      1.000   -5.72e+05    5.72e+05\n",
      "element_430           -0.0281    2.9e+05  -9.68e-08      1.000   -5.69e+05    5.69e+05\n",
      "element_431           -0.0376   3.28e+05  -1.15e-07      1.000   -6.43e+05    6.43e+05\n",
      "element_432           26.5133   2.53e+05      0.000      1.000   -4.96e+05    4.96e+05\n",
      "element_433           25.5022   2.53e+05      0.000      1.000   -4.96e+05    4.96e+05\n",
      "element_434           25.1606   2.53e+05   9.95e-05      1.000   -4.96e+05    4.96e+05\n",
      "element_435           25.5241   2.53e+05      0.000      1.000   -4.96e+05    4.96e+05\n",
      "element_437           26.6559   2.53e+05      0.000      1.000   -4.96e+05    4.96e+05\n",
      "element_438           25.9518   2.53e+05      0.000      1.000   -4.96e+05    4.96e+05\n",
      "element_440           25.4932   2.53e+05      0.000      1.000   -4.96e+05    4.96e+05\n",
      "element_441            0.3371    5.7e+05   5.91e-07      1.000   -1.12e+06    1.12e+06\n",
      "element_443           -0.5726   7.86e+05  -7.29e-07      1.000   -1.54e+06    1.54e+06\n",
      "element_444           26.4230   2.53e+05      0.000      1.000   -4.96e+05    4.96e+05\n",
      "element_446           25.8646   2.53e+05      0.000      1.000   -4.96e+05    4.96e+05\n",
      "element_447           26.4288   2.53e+05      0.000      1.000   -4.96e+05    4.96e+05\n",
      "element_448           25.0600   2.53e+05   9.91e-05      1.000   -4.96e+05    4.96e+05\n",
      "element_450           25.7704   2.53e+05      0.000      1.000   -4.96e+05    4.96e+05\n",
      "element_451           -0.0780   2.94e+05  -2.65e-07      1.000   -5.77e+05    5.77e+05\n",
      "element_453           25.8609   2.53e+05      0.000      1.000   -4.96e+05    4.96e+05\n",
      "element_455           24.9726   2.53e+05   9.88e-05      1.000   -4.96e+05    4.96e+05\n",
      "element_456           25.7894   2.53e+05      0.000      1.000   -4.96e+05    4.96e+05\n",
      "element_458           24.9649   2.53e+05   9.87e-05      1.000   -4.96e+05    4.96e+05\n",
      "element_459           -0.0774   2.92e+05  -2.65e-07      1.000   -5.72e+05    5.72e+05\n",
      "element_460           -0.0115   3.01e+05  -3.82e-08      1.000    -5.9e+05     5.9e+05\n",
      "element_461           24.9908   2.53e+05   9.88e-05      1.000   -4.96e+05    4.96e+05\n",
      "element_462           26.2830   2.53e+05      0.000      1.000   -4.96e+05    4.96e+05\n",
      "element_463           -0.0919   3.09e+05  -2.98e-07      1.000   -6.05e+05    6.05e+05\n",
      "element_464           -0.0197   3.08e+05  -6.39e-08      1.000   -6.04e+05    6.04e+05\n",
      "element_465           26.0721   2.53e+05      0.000      1.000   -4.96e+05    4.96e+05\n",
      "element_466           -0.0952   3.05e+05  -3.12e-07      1.000   -5.98e+05    5.98e+05\n",
      "element_467            0.0402   3.73e+05   1.08e-07      1.000   -7.31e+05    7.31e+05\n",
      "element_471           25.7230   2.53e+05      0.000      1.000   -4.96e+05    4.96e+05\n",
      "element_472            0.0079   3.23e+05   2.44e-08      1.000   -6.34e+05    6.34e+05\n",
      "element_473            0.1609   3.59e+05   4.48e-07      1.000   -7.03e+05    7.03e+05\n",
      "element_475           26.6559   2.53e+05      0.000      1.000   -4.96e+05    4.96e+05\n",
      "element_476           -0.0227   3.33e+05  -6.82e-08      1.000   -6.53e+05    6.53e+05\n",
      "element_478           -0.0548   2.97e+05  -1.85e-07      1.000   -5.82e+05    5.82e+05\n",
      "element_479           26.4574   2.53e+05      0.000      1.000   -4.96e+05    4.96e+05\n",
      "element_480           25.7894   2.53e+05      0.000      1.000   -4.96e+05    4.96e+05\n",
      "element_481           -0.1359   3.75e+05  -3.63e-07      1.000   -7.34e+05    7.34e+05\n",
      "element_482           25.2391   2.53e+05   9.98e-05      1.000   -4.96e+05    4.96e+05\n",
      "element_483           24.9007   2.53e+05   9.85e-05      1.000   -4.96e+05    4.96e+05\n",
      "element_484           25.8771   2.53e+05      0.000      1.000   -4.96e+05    4.96e+05\n",
      "element_486           26.0847   2.53e+05      0.000      1.000   -4.96e+05    4.96e+05\n",
      "element_487            0.0072   3.24e+05   2.21e-08      1.000   -6.35e+05    6.35e+05\n",
      "element_488            0.0183    3.3e+05   5.55e-08      1.000   -6.46e+05    6.46e+05\n",
      "element_489           25.8035   2.53e+05      0.000      1.000   -4.96e+05    4.96e+05\n",
      "element_491           -0.1457   7.86e+05  -1.85e-07      1.000   -1.54e+06    1.54e+06\n",
      "element_492           -0.1112   3.12e+05  -3.56e-07      1.000   -6.12e+05    6.12e+05\n",
      "element_493           26.0438   2.53e+05      0.000      1.000   -4.96e+05    4.96e+05\n",
      "element_494           24.9552   2.53e+05   9.87e-05      1.000   -4.96e+05    4.96e+05\n",
      "element_495           -0.1001   3.61e+05  -2.77e-07      1.000   -7.08e+05    7.08e+05\n",
      "element_497           27.4668   2.53e+05      0.000      1.000   -4.96e+05    4.96e+05\n",
      "element_499           25.5204   2.53e+05      0.000      1.000   -4.96e+05    4.96e+05\n",
      "element_500           24.9324   2.53e+05   9.86e-05      1.000   -4.96e+05    4.96e+05\n",
      "element_502           -0.0745   3.42e+05  -2.18e-07      1.000    -6.7e+05     6.7e+05\n",
      "element_503           25.0383   2.53e+05    9.9e-05      1.000   -4.96e+05    4.96e+05\n",
      "element_504           25.9187   2.53e+05      0.000      1.000   -4.96e+05    4.96e+05\n",
      "element_505           25.1238   2.53e+05   9.94e-05      1.000   -4.96e+05    4.96e+05\n",
      "element_506            0.0290   3.41e+05   8.53e-08      1.000   -6.68e+05    6.68e+05\n",
      "element_507           26.2087   2.53e+05      0.000      1.000   -4.96e+05    4.96e+05\n",
      "element_508           25.0654   2.53e+05   9.91e-05      1.000   -4.96e+05    4.96e+05\n",
      "element_510           25.1621   2.53e+05   9.95e-05      1.000   -4.96e+05    4.96e+05\n",
      "element_511           -0.1317   3.52e+05  -3.74e-07      1.000    -6.9e+05     6.9e+05\n",
      "element_512            0.0028   3.34e+05   8.34e-09      1.000   -6.55e+05    6.55e+05\n",
      "element_513           26.4896   2.53e+05      0.000      1.000   -4.96e+05    4.96e+05\n",
      "element_514           25.0579   2.53e+05   9.91e-05      1.000   -4.96e+05    4.96e+05\n",
      "element_515           -0.3312   4.15e+05  -7.98e-07      1.000   -8.14e+05    8.14e+05\n",
      "element_516           25.9761   2.53e+05      0.000      1.000   -4.96e+05    4.96e+05\n",
      "element_517            0.0358   3.91e+05   9.17e-08      1.000   -7.66e+05    7.66e+05\n",
      "element_518           -0.0914   4.17e+05  -2.19e-07      1.000   -8.16e+05    8.16e+05\n",
      "element_519            0.0899   3.76e+05   2.39e-07      1.000   -7.36e+05    7.36e+05\n",
      "element_521            0.0267   4.96e+05   5.39e-08      1.000   -9.73e+05    9.73e+05\n",
      "element_522            0.2751   5.75e+05   4.78e-07      1.000   -1.13e+06    1.13e+06\n",
      "element_523           -0.0059   7.86e+05  -7.55e-09      1.000   -1.54e+06    1.54e+06\n",
      "element_524           -0.0783   2.95e+05  -2.66e-07      1.000   -5.78e+05    5.78e+05\n",
      "element_526           25.4910   2.53e+05      0.000      1.000   -4.96e+05    4.96e+05\n",
      "element_527           24.7952   2.53e+05   9.81e-05      1.000   -4.96e+05    4.96e+05\n",
      "element_531           26.3803   2.53e+05      0.000      1.000   -4.96e+05    4.96e+05\n",
      "element_534           26.3346   2.53e+05      0.000      1.000   -4.96e+05    4.96e+05\n",
      "element_535           25.4849   2.53e+05      0.000      1.000   -4.96e+05    4.96e+05\n",
      "element_539           25.2627   2.53e+05   9.99e-05      1.000   -4.96e+05    4.96e+05\n",
      "element_540           -0.2631   3.93e+05   -6.7e-07      1.000    -7.7e+05     7.7e+05\n",
      "element_543           26.1988   2.53e+05      0.000      1.000   -4.96e+05    4.96e+05\n",
      "element_544            0.0715   5.83e+05   1.23e-07      1.000   -1.14e+06    1.14e+06\n",
      "element_549           -0.1043   3.94e+05  -2.65e-07      1.000   -7.72e+05    7.72e+05\n",
      "element_550           26.2743   2.53e+05      0.000      1.000   -4.96e+05    4.96e+05\n",
      "element_552           -0.3295   7.86e+05  -4.19e-07      1.000   -1.54e+06    1.54e+06\n",
      "element_556           -0.1086   3.29e+05   -3.3e-07      1.000   -6.45e+05    6.45e+05\n",
      "element_557            0.0102   7.86e+05   1.29e-08      1.000   -1.54e+06    1.54e+06\n",
      "element_560           -0.4653   7.86e+05  -5.92e-07      1.000   -1.54e+06    1.54e+06\n",
      "element_562           -0.0900   7.86e+05  -1.15e-07      1.000   -1.54e+06    1.54e+06\n",
      "element_563           -0.5726   7.86e+05  -7.29e-07      1.000   -1.54e+06    1.54e+06\n",
      "element_565            0.6173   7.86e+05   7.86e-07      1.000   -1.54e+06    1.54e+06\n",
      "element_566           -0.3902   7.86e+05  -4.97e-07      1.000   -1.54e+06    1.54e+06\n",
      "element_568           -0.3902   7.86e+05  -4.97e-07      1.000   -1.54e+06    1.54e+06\n",
      "element_569           27.1293   2.53e+05      0.000      1.000   -4.96e+05    4.96e+05\n",
      "element_570           -0.1266   4.91e+05  -2.58e-07      1.000   -9.63e+05    9.63e+05\n",
      "element_571           26.5921   2.53e+05      0.000      1.000   -4.96e+05    4.96e+05\n",
      "element_573           -0.3902   7.86e+05  -4.97e-07      1.000   -1.54e+06    1.54e+06\n",
      "element_574           -0.1797   5.77e+05  -3.11e-07      1.000   -1.13e+06    1.13e+06\n",
      "element_575           27.3960   2.53e+05      0.000      1.000   -4.96e+05    4.96e+05\n",
      "element_579           -0.0545   4.85e+05  -1.12e-07      1.000   -9.51e+05    9.51e+05\n",
      "element_580            0.4259   5.77e+05   7.38e-07      1.000   -1.13e+06    1.13e+06\n",
      "element_581           -0.4074   7.86e+05  -5.18e-07      1.000   -1.54e+06    1.54e+06\n",
      "element_585            0.0270   5.83e+05   4.64e-08      1.000   -1.14e+06    1.14e+06\n",
      "element_586            0.0884   5.61e+05   1.57e-07      1.000    -1.1e+06     1.1e+06\n",
      "element_587           -0.0329   7.86e+05  -4.19e-08      1.000   -1.54e+06    1.54e+06\n",
      "element_588            0.1776   7.86e+05   2.26e-07      1.000   -1.54e+06    1.54e+06\n",
      "element_589           -0.3180   5.83e+05  -5.45e-07      1.000   -1.14e+06    1.14e+06\n",
      "element_590           27.7314   2.53e+05      0.000      1.000   -4.96e+05    4.96e+05\n",
      "element_591            0.1776   7.86e+05   2.26e-07      1.000   -1.54e+06    1.54e+06\n",
      "element_592           26.9492   2.53e+05      0.000      1.000   -4.96e+05    4.96e+05\n",
      "======================================================================================\n"
     ]
    }
   ],
   "source": [
    "print(sppm_results.summary())"
   ]
  },
  {
   "cell_type": "markdown",
   "metadata": {
    "hidden": true
   },
   "source": [
    "### Model fit"
   ]
  },
  {
   "cell_type": "code",
   "execution_count": 79,
   "metadata": {
    "ExecuteTime": {
     "end_time": "2019-03-16T16:03:27.943899Z",
     "start_time": "2019-03-16T16:03:27.939400Z"
    },
    "hidden": true
   },
   "outputs": [
    {
     "data": {
      "text/plain": [
       "4420.032929799021"
      ]
     },
     "execution_count": 79,
     "metadata": {},
     "output_type": "execute_result"
    }
   ],
   "source": [
    "sppm_results.aic"
   ]
  },
  {
   "cell_type": "code",
   "execution_count": 80,
   "metadata": {
    "ExecuteTime": {
     "end_time": "2019-03-16T16:03:28.092568Z",
     "start_time": "2019-03-16T16:03:27.945867Z"
    },
    "hidden": true
   },
   "outputs": [
    {
     "data": {
      "text/plain": [
       "-52394.63554789392"
      ]
     },
     "execution_count": 80,
     "metadata": {},
     "output_type": "execute_result"
    }
   ],
   "source": [
    "sppm_results.bic"
   ]
  },
  {
   "cell_type": "code",
   "execution_count": 81,
   "metadata": {
    "ExecuteTime": {
     "end_time": "2019-03-16T16:03:28.118492Z",
     "start_time": "2019-03-16T16:03:28.094543Z"
    },
    "hidden": true
   },
   "outputs": [
    {
     "data": {
      "text/plain": [
       "(False, 1.0)"
      ]
     },
     "execution_count": 81,
     "metadata": {},
     "output_type": "execute_result"
    }
   ],
   "source": [
    "sppm_pearson_results = goodness_fit.pearson_chi_squared_test(sppm_results)\n",
    "sppm_pearson_results"
   ]
  },
  {
   "cell_type": "code",
   "execution_count": 82,
   "metadata": {
    "ExecuteTime": {
     "end_time": "2019-03-16T16:03:28.150167Z",
     "start_time": "2019-03-16T16:03:28.120481Z"
    },
    "hidden": true
   },
   "outputs": [
    {
     "name": "stderr",
     "output_type": "stream",
     "text": [
      "/home/tom/footbot/venv/lib/python3.6/site-packages/statsmodels/genmod/families/family.py:340: RuntimeWarning: invalid value encountered in sqrt\n",
      "  np.sqrt(2 * (endog * np.log(endog_mu) - (endog - mu))) / scale)\n"
     ]
    },
    {
     "data": {
      "text/plain": [
       "count    6673.000000\n",
       "mean       -0.154552\n",
       "std         0.564115\n",
       "min        -1.351113\n",
       "25%        -0.478867\n",
       "50%        -0.295247\n",
       "75%        -0.000001\n",
       "max         3.006860\n",
       "dtype: float64"
      ]
     },
     "execution_count": 82,
     "metadata": {},
     "output_type": "execute_result"
    }
   ],
   "source": [
    "sppm_results.resid_deviance.describe()"
   ]
  },
  {
   "cell_type": "code",
   "execution_count": 83,
   "metadata": {
    "ExecuteTime": {
     "end_time": "2019-03-16T16:03:28.394129Z",
     "start_time": "2019-03-16T16:03:28.152130Z"
    },
    "hidden": true
   },
   "outputs": [
    {
     "name": "stderr",
     "output_type": "stream",
     "text": [
      "/home/tom/footbot/venv/lib/python3.6/site-packages/numpy/lib/histograms.py:754: RuntimeWarning: invalid value encountered in greater_equal\n",
      "  keep = (tmp_a >= first_edge)\n",
      "/home/tom/footbot/venv/lib/python3.6/site-packages/numpy/lib/histograms.py:755: RuntimeWarning: invalid value encountered in less_equal\n",
      "  keep &= (tmp_a <= last_edge)\n"
     ]
    },
    {
     "data": {
      "image/png": "[encoded data removed]",
      "text/plain": [
       "<Figure size 432x288 with 1 Axes>"
      ]
     },
     "metadata": {
      "needs_background": "light"
     },
     "output_type": "display_data"
    }
   ],
   "source": [
    "plt.figure()\n",
    "plt.hist(sppm_results.resid_deviance)\n",
    "plt.show()"
   ]
  },
  {
   "cell_type": "markdown",
   "metadata": {
    "heading_collapsed": true
   },
   "source": [
    "## Simple Poisson player minutes model"
   ]
  },
  {
   "cell_type": "markdown",
   "metadata": {
    "heading_collapsed": true,
    "hidden": true
   },
   "source": [
    "### Preparing data"
   ]
  },
  {
   "cell_type": "code",
   "execution_count": 84,
   "metadata": {
    "ExecuteTime": {
     "end_time": "2019-03-16T16:03:28.401684Z",
     "start_time": "2019-03-16T16:03:28.396268Z"
    },
    "hidden": true
   },
   "outputs": [],
   "source": [
    "sppmm_df = element_gameweek_df.copy()"
   ]
  },
  {
   "cell_type": "code",
   "execution_count": 85,
   "metadata": {
    "ExecuteTime": {
     "end_time": "2019-03-16T16:03:28.494474Z",
     "start_time": "2019-03-16T16:03:28.403784Z"
    },
    "hidden": true
   },
   "outputs": [],
   "source": [
    "sppmm_df = player.add_categorical_variables(sppmm_df, 'opposition_team')\n",
    "sppmm_df = player.add_categorical_variables(sppmm_df, 'element')"
   ]
  },
  {
   "cell_type": "code",
   "execution_count": 86,
   "metadata": {
    "ExecuteTime": {
     "end_time": "2019-03-16T16:03:28.509309Z",
     "start_time": "2019-03-16T16:03:28.498379Z"
    },
    "hidden": true
   },
   "outputs": [],
   "source": [
    "sppmm_redundant_columns = [\n",
    "    'row_id', 'goals_scored', 'attempted_passes', 'big_chances_created',\n",
    "    'big_chances_missed', 'bonus', 'bps', 'clean_sheets',\n",
    "    'clearances_blocks_interceptions', 'completed_passes', 'creativity',\n",
    "    'dribbles', 'ea_index', 'element', 'errors_leading_to_goal',\n",
    "    'errors_leading_to_goal_attempt', 'fixture', 'fouls', 'goals_conceded',\n",
    "    'ict_index', 'id', 'influence', 'key_passes', 'kickoff_time',\n",
    "    'kickoff_time_formatted', 'loaned_in', 'loaned_out', 'offside',\n",
    "    'open_play_crosses', 'opponent_team', 'own_goals', 'penalties_conceded',\n",
    "    'penalties_missed', 'penalties_saved', 'recoveries', 'red_cards', 'round',\n",
    "    'saves', 'selected', 'tackled', 'tackles', 'target_missed', 'team_a_score',\n",
    "    'team_h_score', 'threat', 'total_points', 'transfers_balance',\n",
    "    'transfers_in', 'transfers_out', 'value', 'winning_goals',\n",
    "    'yellow_cards', 'event', 'team_a', 'team_a_difficulty', 'team_h',\n",
    "    'team_h_difficulty', 'element_type', 'team', 'web_name', 'safe_web_name',\n",
    "    'own_team', 'opposition_team', 'was_home', 'minutes'\n",
    "]"
   ]
  },
  {
   "cell_type": "code",
   "execution_count": 87,
   "metadata": {
    "ExecuteTime": {
     "end_time": "2019-03-16T16:03:28.535062Z",
     "start_time": "2019-03-16T16:03:28.511777Z"
    },
    "hidden": true
   },
   "outputs": [],
   "source": [
    "sppmm_df['log_minutes'] = np.log(sppmm_df['minutes'])"
   ]
  },
  {
   "cell_type": "code",
   "execution_count": 88,
   "metadata": {
    "ExecuteTime": {
     "end_time": "2019-03-16T16:03:28.569571Z",
     "start_time": "2019-03-16T16:03:28.537797Z"
    },
    "hidden": true
   },
   "outputs": [],
   "source": [
    "sppmm_df = player.remove_redundant_columns(sppmm_df, sppmm_redundant_columns)"
   ]
  },
  {
   "cell_type": "code",
   "execution_count": 89,
   "metadata": {
    "ExecuteTime": {
     "end_time": "2019-03-16T16:03:28.730852Z",
     "start_time": "2019-03-16T16:03:28.572391Z"
    },
    "hidden": true
   },
   "outputs": [],
   "source": [
    "sppmm_response_df, sppmm_explanatory_df = player.get_response_explanatory_dfs(sppmm_df, 'assists')"
   ]
  },
  {
   "cell_type": "code",
   "execution_count": 90,
   "metadata": {
    "ExecuteTime": {
     "end_time": "2019-03-16T16:03:28.738219Z",
     "start_time": "2019-03-16T16:03:28.733237Z"
    },
    "hidden": true
   },
   "outputs": [
    {
     "data": {
      "text/plain": [
       "Index(['const', 'opposition_team_2', 'opposition_team_3', 'opposition_team_4',\n",
       "       'opposition_team_5', 'opposition_team_6', 'opposition_team_7',\n",
       "       'opposition_team_8', 'opposition_team_9', 'opposition_team_10',\n",
       "       ...\n",
       "       'element_581', 'element_585', 'element_586', 'element_587',\n",
       "       'element_588', 'element_589', 'element_590', 'element_591',\n",
       "       'element_592', 'log_minutes'],\n",
       "      dtype='object', length=467)"
      ]
     },
     "execution_count": 90,
     "metadata": {},
     "output_type": "execute_result"
    }
   ],
   "source": [
    "sppmm_explanatory_df.columns"
   ]
  },
  {
   "cell_type": "markdown",
   "metadata": {
    "heading_collapsed": true,
    "hidden": true
   },
   "source": [
    "### Fitting model"
   ]
  },
  {
   "cell_type": "code",
   "execution_count": 91,
   "metadata": {
    "ExecuteTime": {
     "end_time": "2019-03-16T16:03:43.088025Z",
     "start_time": "2019-03-16T16:03:28.740283Z"
    },
    "hidden": true
   },
   "outputs": [],
   "source": [
    "sppmm_results = sm.GLM(\n",
    "    sppmm_response_df,\n",
    "    sppmm_explanatory_df,\n",
    "    family=sm.families.Poisson(),\n",
    "    missing='drop'\n",
    ").fit()"
   ]
  },
  {
   "cell_type": "code",
   "execution_count": 92,
   "metadata": {
    "ExecuteTime": {
     "end_time": "2019-03-16T16:03:43.362694Z",
     "start_time": "2019-03-16T16:03:43.092063Z"
    },
    "hidden": true
   },
   "outputs": [
    {
     "name": "stdout",
     "output_type": "stream",
     "text": [
      "                 Generalized Linear Model Regression Results                  \n",
      "==============================================================================\n",
      "Dep. Variable:                assists   No. Observations:                 6675\n",
      "Model:                            GLM   Df Residuals:                     6208\n",
      "Model Family:                 Poisson   Df Model:                          466\n",
      "Link Function:                    log   Scale:                             1.0\n",
      "Method:                          IRLS   Log-Likelihood:                -1708.0\n",
      "Date:                Sat, 16 Mar 2019   Deviance:                       2210.6\n",
      "Time:                        16:03:43   Pearson chi2:                 4.07e+03\n",
      "No. Iterations:                    25                                         \n",
      "======================================================================================\n",
      "                         coef    std err          z      P>|z|      [0.025      0.975]\n",
      "--------------------------------------------------------------------------------------\n",
      "const                -30.9479   2.49e+05     -0.000      1.000   -4.89e+05    4.89e+05\n",
      "opposition_team_2      0.2053      0.244      0.841      0.400      -0.273       0.684\n",
      "opposition_team_3     -0.1259      0.263     -0.479      0.632      -0.641       0.389\n",
      "opposition_team_4      0.3727      0.242      1.538      0.124      -0.102       0.848\n",
      "opposition_team_5      0.2720      0.242      1.123      0.262      -0.203       0.747\n",
      "opposition_team_6     -0.2593      0.277     -0.937      0.349      -0.801       0.283\n",
      "opposition_team_7     -0.0868      0.262     -0.332      0.740      -0.600       0.426\n",
      "opposition_team_8      0.0589      0.254      0.231      0.817      -0.440       0.558\n",
      "opposition_team_9      0.4368      0.236      1.848      0.065      -0.026       0.900\n",
      "opposition_team_10     0.2866      0.240      1.194      0.232      -0.184       0.757\n",
      "opposition_team_11    -0.1232      0.263     -0.469      0.639      -0.638       0.392\n",
      "opposition_team_12    -0.8128      0.325     -2.499      0.012      -1.450      -0.175\n",
      "opposition_team_13    -0.6953      0.318     -2.185      0.029      -1.319      -0.072\n",
      "opposition_team_14    -0.0567      0.261     -0.217      0.828      -0.568       0.455\n",
      "opposition_team_15    -0.0824      0.258     -0.320      0.749      -0.587       0.422\n",
      "opposition_team_16     0.2140      0.243      0.880      0.379      -0.263       0.691\n",
      "opposition_team_17    -0.3024      0.281     -1.074      0.283      -0.854       0.249\n",
      "opposition_team_18    -0.0981      0.265     -0.370      0.712      -0.618       0.422\n",
      "opposition_team_19     0.0675      0.253      0.267      0.789      -0.428       0.563\n",
      "opposition_team_20    -0.0322      0.261     -0.124      0.902      -0.543       0.479\n",
      "element_4             26.6399   2.49e+05      0.000      1.000   -4.89e+05    4.89e+05\n",
      "element_5             26.3768   2.49e+05      0.000      1.000   -4.89e+05    4.89e+05\n",
      "element_6              0.0003   3.39e+05   9.88e-10      1.000   -6.64e+05    6.64e+05\n",
      "element_7             -0.0270   2.93e+05  -9.21e-08      1.000   -5.74e+05    5.74e+05\n",
      "element_8             26.9699   2.49e+05      0.000      1.000   -4.89e+05    4.89e+05\n",
      "element_9              0.0439   2.99e+05   1.47e-07      1.000   -5.85e+05    5.85e+05\n",
      "element_10             1.9609   7.85e+05    2.5e-06      1.000   -1.54e+06    1.54e+06\n",
      "element_11             0.2000   3.32e+05   6.03e-07      1.000    -6.5e+05     6.5e+05\n",
      "element_12            25.8126   2.49e+05      0.000      1.000   -4.89e+05    4.89e+05\n",
      "element_13            26.0978   2.49e+05      0.000      1.000   -4.89e+05    4.89e+05\n",
      "element_14            27.2336   2.49e+05      0.000      1.000   -4.89e+05    4.89e+05\n",
      "element_15            26.6498   2.49e+05      0.000      1.000   -4.89e+05    4.89e+05\n",
      "element_16             0.2819   4.34e+05    6.5e-07      1.000    -8.5e+05     8.5e+05\n",
      "element_17            25.4968   2.49e+05      0.000      1.000   -4.89e+05    4.89e+05\n",
      "element_18            25.4572   2.49e+05      0.000      1.000   -4.89e+05    4.89e+05\n",
      "element_20            25.9318   2.49e+05      0.000      1.000   -4.89e+05    4.89e+05\n",
      "element_21            26.8261   2.49e+05      0.000      1.000   -4.89e+05    4.89e+05\n",
      "element_22            26.9109   2.49e+05      0.000      1.000   -4.89e+05    4.89e+05\n",
      "element_23            26.5384   2.49e+05      0.000      1.000   -4.89e+05    4.89e+05\n",
      "element_26            25.9270   2.49e+05      0.000      1.000   -4.89e+05    4.89e+05\n",
      "element_27            24.6301   2.49e+05   9.88e-05      1.000   -4.89e+05    4.89e+05\n",
      "element_28             0.2066      3e+05   6.88e-07      1.000   -5.89e+05    5.89e+05\n",
      "element_29            -0.1074   3.05e+05  -3.52e-07      1.000   -5.98e+05    5.98e+05\n",
      "element_30             1.3325   3.93e+05   3.39e-06      1.000   -7.71e+05    7.71e+05\n",
      "element_31            -0.1038   2.87e+05  -3.61e-07      1.000   -5.63e+05    5.63e+05\n",
      "element_33            -0.0010   2.93e+05  -3.58e-09      1.000   -5.75e+05    5.75e+05\n",
      "element_35             0.1991   3.06e+05    6.5e-07      1.000      -6e+05       6e+05\n",
      "element_36            26.5343   2.49e+05      0.000      1.000   -4.89e+05    4.89e+05\n",
      "element_37            25.2611   2.49e+05      0.000      1.000   -4.89e+05    4.89e+05\n",
      "element_38            26.1829   2.49e+05      0.000      1.000   -4.89e+05    4.89e+05\n",
      "element_39             0.4651   3.09e+05   1.51e-06      1.000   -6.05e+05    6.05e+05\n",
      "element_40            26.8976   2.49e+05      0.000      1.000   -4.89e+05    4.89e+05\n",
      "element_42            26.3063   2.49e+05      0.000      1.000   -4.89e+05    4.89e+05\n",
      "element_43            26.9468   2.49e+05      0.000      1.000   -4.89e+05    4.89e+05\n",
      "element_44             1.6022   3.01e+05   5.33e-06      1.000   -5.89e+05    5.89e+05\n",
      "element_45            25.9130   2.49e+05      0.000      1.000   -4.89e+05    4.89e+05\n",
      "element_46             1.7578   4.26e+05   4.13e-06      1.000   -8.35e+05    8.35e+05\n",
      "element_48            -0.1365    2.9e+05  -4.71e-07      1.000   -5.68e+05    5.68e+05\n",
      "element_49            25.4359   2.49e+05      0.000      1.000   -4.89e+05    4.89e+05\n",
      "element_50            25.8158   2.49e+05      0.000      1.000   -4.89e+05    4.89e+05\n",
      "element_51            -0.0065   2.98e+05  -2.18e-08      1.000   -5.85e+05    5.85e+05\n",
      "element_54             0.0702   3.56e+05   1.97e-07      1.000   -6.98e+05    6.98e+05\n",
      "element_55            26.7803   2.49e+05      0.000      1.000   -4.89e+05    4.89e+05\n",
      "element_56            -0.0199   2.99e+05  -6.65e-08      1.000   -5.85e+05    5.85e+05\n",
      "element_57            25.8350   2.49e+05      0.000      1.000   -4.89e+05    4.89e+05\n",
      "element_58            26.3078   2.49e+05      0.000      1.000   -4.89e+05    4.89e+05\n",
      "element_59            25.7589   2.49e+05      0.000      1.000   -4.89e+05    4.89e+05\n",
      "element_60            24.7693   2.49e+05   9.93e-05      1.000   -4.89e+05    4.89e+05\n",
      "element_61            26.5927   2.49e+05      0.000      1.000   -4.89e+05    4.89e+05\n",
      "element_62             0.1711   2.85e+05      6e-07      1.000   -5.59e+05    5.59e+05\n",
      "element_65             0.5800   2.89e+05   2.01e-06      1.000   -5.66e+05    5.66e+05\n",
      "element_66             0.5685   3.07e+05   1.85e-06      1.000   -6.02e+05    6.02e+05\n",
      "element_69            -0.0646    3.1e+05  -2.08e-07      1.000   -6.09e+05    6.09e+05\n",
      "element_70            25.2776   2.49e+05      0.000      1.000   -4.89e+05    4.89e+05\n",
      "element_71            -0.2336   4.92e+05  -4.75e-07      1.000   -9.64e+05    9.64e+05\n",
      "element_72            24.7245   2.49e+05   9.91e-05      1.000   -4.89e+05    4.89e+05\n",
      "element_73            26.1621   2.49e+05      0.000      1.000   -4.89e+05    4.89e+05\n",
      "element_74            -0.0421   2.86e+05  -1.47e-07      1.000   -5.61e+05    5.61e+05\n",
      "element_75            -0.0984   3.21e+05  -3.06e-07      1.000    -6.3e+05     6.3e+05\n",
      "element_76            26.6815   2.49e+05      0.000      1.000   -4.89e+05    4.89e+05\n",
      "element_77             0.1592   3.89e+05   4.09e-07      1.000   -7.62e+05    7.62e+05\n",
      "element_78            25.8314   2.49e+05      0.000      1.000   -4.89e+05    4.89e+05\n",
      "element_79            26.1208   2.49e+05      0.000      1.000   -4.89e+05    4.89e+05\n",
      "element_80            26.5612   2.49e+05      0.000      1.000   -4.89e+05    4.89e+05\n",
      "element_82            25.3229   2.49e+05      0.000      1.000   -4.89e+05    4.89e+05\n",
      "element_83            25.1986   2.49e+05      0.000      1.000   -4.89e+05    4.89e+05\n",
      "element_84             0.5539   2.91e+05    1.9e-06      1.000   -5.71e+05    5.71e+05\n",
      "element_85            26.1311   2.49e+05      0.000      1.000   -4.89e+05    4.89e+05\n",
      "element_87             0.1963   2.85e+05   6.88e-07      1.000   -5.59e+05    5.59e+05\n",
      "element_90            26.1778   2.49e+05      0.000      1.000   -4.89e+05    4.89e+05\n",
      "element_91            24.6204   2.49e+05   9.87e-05      1.000   -4.89e+05    4.89e+05\n",
      "element_92            24.6011   2.49e+05   9.86e-05      1.000   -4.89e+05    4.89e+05\n",
      "element_94            24.9480   2.49e+05      0.000      1.000   -4.89e+05    4.89e+05\n",
      "element_95             0.2912   3.28e+05   8.88e-07      1.000   -6.43e+05    6.43e+05\n",
      "element_96             0.8056   4.89e+05   1.65e-06      1.000   -9.59e+05    9.59e+05\n",
      "element_98             0.1075   2.93e+05   3.67e-07      1.000   -5.74e+05    5.74e+05\n",
      "element_99            25.1356   2.49e+05      0.000      1.000   -4.89e+05    4.89e+05\n",
      "element_100            0.4185   3.35e+05   1.25e-06      1.000   -6.57e+05    6.57e+05\n",
      "element_101           25.4741   2.49e+05      0.000      1.000   -4.89e+05    4.89e+05\n",
      "element_102           25.1088   2.49e+05      0.000      1.000   -4.89e+05    4.89e+05\n",
      "element_104            1.6796   5.73e+05   2.93e-06      1.000   -1.12e+06    1.12e+06\n",
      "element_105            0.8895   3.28e+05   2.71e-06      1.000   -6.42e+05    6.42e+05\n",
      "element_106            0.2096   2.95e+05   7.11e-07      1.000   -5.78e+05    5.78e+05\n",
      "element_107           26.2346   2.49e+05      0.000      1.000   -4.89e+05    4.89e+05\n",
      "element_109            1.8074   3.96e+05   4.57e-06      1.000   -7.76e+05    7.76e+05\n",
      "element_110           26.4232   2.49e+05      0.000      1.000   -4.89e+05    4.89e+05\n",
      "element_113           25.6870   2.49e+05      0.000      1.000   -4.89e+05    4.89e+05\n",
      "element_114            0.7551   7.85e+05   9.62e-07      1.000   -1.54e+06    1.54e+06\n",
      "element_115           26.5909   2.49e+05      0.000      1.000   -4.89e+05    4.89e+05\n",
      "element_116           25.3188   2.49e+05      0.000      1.000   -4.89e+05    4.89e+05\n",
      "element_117            1.4462    5.7e+05   2.54e-06      1.000   -1.12e+06    1.12e+06\n",
      "element_118           24.6475   2.49e+05   9.88e-05      1.000   -4.89e+05    4.89e+05\n",
      "element_119           -0.2987   5.78e+05  -5.16e-07      1.000   -1.13e+06    1.13e+06\n",
      "element_120            1.0785   5.73e+05   1.88e-06      1.000   -1.12e+06    1.12e+06\n",
      "element_121            0.9708   4.08e+05   2.38e-06      1.000      -8e+05       8e+05\n",
      "element_122           27.0450   2.49e+05      0.000      1.000   -4.89e+05    4.89e+05\n",
      "element_123            0.6832   3.85e+05   1.77e-06      1.000   -7.55e+05    7.55e+05\n",
      "element_124           26.4994   2.49e+05      0.000      1.000   -4.89e+05    4.89e+05\n",
      "element_125           25.1400   2.49e+05      0.000      1.000   -4.89e+05    4.89e+05\n",
      "element_126           25.9819   2.49e+05      0.000      1.000   -4.89e+05    4.89e+05\n",
      "element_127           26.7281   2.49e+05      0.000      1.000   -4.89e+05    4.89e+05\n",
      "element_131            1.0065   4.39e+05   2.29e-06      1.000    -8.6e+05     8.6e+05\n",
      "element_132            0.6442   3.21e+05   2.01e-06      1.000   -6.28e+05    6.28e+05\n",
      "element_133           26.9786   2.49e+05      0.000      1.000   -4.89e+05    4.89e+05\n",
      "element_134            0.1603   3.07e+05   5.22e-07      1.000   -6.01e+05    6.01e+05\n",
      "element_138           24.7801   2.49e+05   9.94e-05      1.000   -4.89e+05    4.89e+05\n",
      "element_139            2.6945   7.85e+05   3.43e-06      1.000   -1.54e+06    1.54e+06\n",
      "element_140           -0.0026   4.09e+05  -6.46e-09      1.000   -8.01e+05    8.01e+05\n",
      "element_141            0.5845   2.87e+05   2.04e-06      1.000   -5.63e+05    5.63e+05\n",
      "element_142           25.3064   2.49e+05      0.000      1.000   -4.89e+05    4.89e+05\n",
      "element_143           -0.1299   2.87e+05  -4.52e-07      1.000   -5.63e+05    5.63e+05\n",
      "element_145           24.6386   2.49e+05   9.88e-05      1.000   -4.89e+05    4.89e+05\n",
      "element_146            1.1135   3.16e+05   3.52e-06      1.000    -6.2e+05     6.2e+05\n",
      "element_147           25.7593   2.49e+05      0.000      1.000   -4.89e+05    4.89e+05\n",
      "element_148            2.4717   7.85e+05   3.15e-06      1.000   -1.54e+06    1.54e+06\n",
      "element_149           25.7120   2.49e+05      0.000      1.000   -4.89e+05    4.89e+05\n",
      "element_150           24.6011   2.49e+05   9.86e-05      1.000   -4.89e+05    4.89e+05\n",
      "element_151           26.3975   2.49e+05      0.000      1.000   -4.89e+05    4.89e+05\n",
      "element_152            0.0646   3.63e+05   1.78e-07      1.000   -7.11e+05    7.11e+05\n",
      "element_153            1.2281   3.26e+05   3.77e-06      1.000   -6.39e+05    6.39e+05\n",
      "element_156            0.0048   3.87e+05   1.24e-08      1.000   -7.59e+05    7.59e+05\n",
      "element_157           -0.1253   2.98e+05  -4.21e-07      1.000   -5.84e+05    5.84e+05\n",
      "element_158            0.8463   5.69e+05   1.49e-06      1.000   -1.12e+06    1.12e+06\n",
      "element_160           -0.2420   4.12e+05  -5.87e-07      1.000   -8.08e+05    8.08e+05\n",
      "element_161           25.7929   2.49e+05      0.000      1.000   -4.89e+05    4.89e+05\n",
      "element_162           25.3937   2.49e+05      0.000      1.000   -4.89e+05    4.89e+05\n",
      "element_164           25.9321   2.49e+05      0.000      1.000   -4.89e+05    4.89e+05\n",
      "element_167           26.4924   2.49e+05      0.000      1.000   -4.89e+05    4.89e+05\n",
      "element_168           -0.0825   2.94e+05  -2.81e-07      1.000   -5.76e+05    5.76e+05\n",
      "element_169            0.0532   3.16e+05   1.69e-07      1.000   -6.19e+05    6.19e+05\n",
      "element_170           26.5840   2.49e+05      0.000      1.000   -4.89e+05    4.89e+05\n",
      "element_172           25.7365   2.49e+05      0.000      1.000   -4.89e+05    4.89e+05\n",
      "element_175           26.0984   2.49e+05      0.000      1.000   -4.89e+05    4.89e+05\n",
      "element_176            0.5178    3.4e+05   1.52e-06      1.000   -6.66e+05    6.66e+05\n",
      "element_177           26.4083   2.49e+05      0.000      1.000   -4.89e+05    4.89e+05\n",
      "element_180            0.0183   3.07e+05   5.95e-08      1.000   -6.01e+05    6.01e+05\n",
      "element_181           24.6936   2.49e+05    9.9e-05      1.000   -4.89e+05    4.89e+05\n",
      "element_182           25.1103   2.49e+05      0.000      1.000   -4.89e+05    4.89e+05\n",
      "element_183            0.1876   3.34e+05   5.61e-07      1.000   -6.55e+05    6.55e+05\n",
      "element_184           26.6544   2.49e+05      0.000      1.000   -4.89e+05    4.89e+05\n",
      "element_185            0.7873   3.19e+05   2.47e-06      1.000   -6.25e+05    6.25e+05\n",
      "element_186            1.1758   3.48e+05   3.38e-06      1.000   -6.82e+05    6.82e+05\n",
      "element_187            1.1226   4.43e+05   2.54e-06      1.000   -8.68e+05    8.68e+05\n",
      "element_189            0.2867    3.2e+05   8.96e-07      1.000   -6.27e+05    6.27e+05\n",
      "element_192           24.6186   2.49e+05   9.87e-05      1.000   -4.89e+05    4.89e+05\n",
      "element_193           25.7748   2.49e+05      0.000      1.000   -4.89e+05    4.89e+05\n",
      "element_194            0.2232   3.72e+05      6e-07      1.000   -7.29e+05    7.29e+05\n",
      "element_195           24.7037   2.49e+05    9.9e-05      1.000   -4.89e+05    4.89e+05\n",
      "element_197           -0.0415   2.94e+05  -1.41e-07      1.000   -5.76e+05    5.76e+05\n",
      "element_198           -0.0701   2.93e+05  -2.39e-07      1.000   -5.74e+05    5.74e+05\n",
      "element_199           -0.0901   3.03e+05  -2.98e-07      1.000   -5.93e+05    5.93e+05\n",
      "element_200           -0.1863   4.13e+05  -4.51e-07      1.000    -8.1e+05     8.1e+05\n",
      "element_201           24.9212   2.49e+05   9.99e-05      1.000   -4.89e+05    4.89e+05\n",
      "element_202           -0.1341   2.93e+05  -4.57e-07      1.000   -5.75e+05    5.75e+05\n",
      "element_204            1.1443   4.42e+05   2.59e-06      1.000   -8.66e+05    8.66e+05\n",
      "element_205            1.4012   5.73e+05   2.44e-06      1.000   -1.12e+06    1.12e+06\n",
      "element_206            0.1392   2.92e+05   4.76e-07      1.000   -5.73e+05    5.73e+05\n",
      "element_207            1.1392   4.29e+05   2.65e-06      1.000   -8.42e+05    8.42e+05\n",
      "element_208            0.3573   3.41e+05   1.05e-06      1.000   -6.69e+05    6.69e+05\n",
      "element_209            0.9357   5.75e+05   1.63e-06      1.000   -1.13e+06    1.13e+06\n",
      "element_210           25.3756   2.49e+05      0.000      1.000   -4.89e+05    4.89e+05\n",
      "element_211           26.4343   2.49e+05      0.000      1.000   -4.89e+05    4.89e+05\n",
      "element_212            0.0928   3.26e+05   2.85e-07      1.000   -6.38e+05    6.38e+05\n",
      "element_215           -0.1029   3.05e+05  -3.37e-07      1.000   -5.98e+05    5.98e+05\n",
      "element_216           -0.0877   7.85e+05  -1.12e-07      1.000   -1.54e+06    1.54e+06\n",
      "element_217            0.2738   3.92e+05   6.99e-07      1.000   -7.68e+05    7.68e+05\n",
      "element_219           25.7436   2.49e+05      0.000      1.000   -4.89e+05    4.89e+05\n",
      "element_220           24.9040   2.49e+05   9.98e-05      1.000   -4.89e+05    4.89e+05\n",
      "element_221           26.5758   2.49e+05      0.000      1.000   -4.89e+05    4.89e+05\n",
      "element_222            0.0307   3.15e+05   9.74e-08      1.000   -6.17e+05    6.17e+05\n",
      "element_223           26.0692   2.49e+05      0.000      1.000   -4.89e+05    4.89e+05\n",
      "element_224           25.7969   2.49e+05      0.000      1.000   -4.89e+05    4.89e+05\n",
      "element_225           25.0312   2.49e+05      0.000      1.000   -4.89e+05    4.89e+05\n",
      "element_226            0.0972    3.4e+05   2.86e-07      1.000   -6.67e+05    6.67e+05\n",
      "element_227           -0.1161   2.87e+05  -4.04e-07      1.000   -5.63e+05    5.63e+05\n",
      "element_228            0.8588    3.5e+05   2.46e-06      1.000   -6.85e+05    6.85e+05\n",
      "element_230            0.3540   3.96e+05   8.94e-07      1.000   -7.77e+05    7.77e+05\n",
      "element_231            0.6573    5.4e+05   1.22e-06      1.000   -1.06e+06    1.06e+06\n",
      "element_232           -0.2613   7.85e+05  -3.33e-07      1.000   -1.54e+06    1.54e+06\n",
      "element_233           26.2209   2.49e+05      0.000      1.000   -4.89e+05    4.89e+05\n",
      "element_234           25.9977   2.49e+05      0.000      1.000   -4.89e+05    4.89e+05\n",
      "element_235           26.6095   2.49e+05      0.000      1.000   -4.89e+05    4.89e+05\n",
      "element_236           26.9645   2.49e+05      0.000      1.000   -4.89e+05    4.89e+05\n",
      "element_239           25.7386   2.49e+05      0.000      1.000   -4.89e+05    4.89e+05\n",
      "element_240           -0.3817   5.82e+05  -6.56e-07      1.000   -1.14e+06    1.14e+06\n",
      "element_241            0.4190   3.42e+05   1.23e-06      1.000    -6.7e+05     6.7e+05\n",
      "element_242           -0.0421   3.21e+05  -1.31e-07      1.000   -6.29e+05    6.29e+05\n",
      "element_243            0.7633   2.98e+05   2.56e-06      1.000   -5.83e+05    5.83e+05\n",
      "element_245           26.1238   2.49e+05      0.000      1.000   -4.89e+05    4.89e+05\n",
      "element_246           25.7136   2.49e+05      0.000      1.000   -4.89e+05    4.89e+05\n",
      "element_247           26.6639   2.49e+05      0.000      1.000   -4.89e+05    4.89e+05\n",
      "element_249            0.3110   2.94e+05   1.06e-06      1.000   -5.76e+05    5.76e+05\n",
      "element_250           26.3065   2.49e+05      0.000      1.000   -4.89e+05    4.89e+05\n",
      "element_251           25.4629   2.49e+05      0.000      1.000   -4.89e+05    4.89e+05\n",
      "element_252           24.8412   2.49e+05   9.96e-05      1.000   -4.89e+05    4.89e+05\n",
      "element_253           26.7330   2.49e+05      0.000      1.000   -4.89e+05    4.89e+05\n",
      "element_254           26.6535   2.49e+05      0.000      1.000   -4.89e+05    4.89e+05\n",
      "element_255           25.8674   2.49e+05      0.000      1.000   -4.89e+05    4.89e+05\n",
      "element_256           25.3095   2.49e+05      0.000      1.000   -4.89e+05    4.89e+05\n",
      "element_257           26.5201   2.49e+05      0.000      1.000   -4.89e+05    4.89e+05\n",
      "element_258           25.1842   2.49e+05      0.000      1.000   -4.89e+05    4.89e+05\n",
      "element_259            0.5246   5.36e+05   9.78e-07      1.000   -1.05e+06    1.05e+06\n",
      "element_262           -0.0100   3.03e+05  -3.29e-08      1.000   -5.94e+05    5.94e+05\n",
      "element_263            0.4627   3.24e+05   1.43e-06      1.000   -6.35e+05    6.35e+05\n",
      "element_264            0.0978   3.16e+05    3.1e-07      1.000   -6.18e+05    6.18e+05\n",
      "element_265           24.8215   2.49e+05   9.95e-05      1.000   -4.89e+05    4.89e+05\n",
      "element_266           -0.1282   3.72e+05  -3.45e-07      1.000   -7.28e+05    7.28e+05\n",
      "element_267           27.4551   2.49e+05      0.000      1.000   -4.89e+05    4.89e+05\n",
      "element_268           24.5888   2.49e+05   9.86e-05      1.000   -4.89e+05    4.89e+05\n",
      "element_269           25.6467   2.49e+05      0.000      1.000   -4.89e+05    4.89e+05\n",
      "element_270           27.3458   2.49e+05      0.000      1.000   -4.89e+05    4.89e+05\n",
      "element_271           26.3037   2.49e+05      0.000      1.000   -4.89e+05    4.89e+05\n",
      "element_272           25.7538   2.49e+05      0.000      1.000   -4.89e+05    4.89e+05\n",
      "element_273           25.9115   2.49e+05      0.000      1.000   -4.89e+05    4.89e+05\n",
      "element_274           25.8124   2.49e+05      0.000      1.000   -4.89e+05    4.89e+05\n",
      "element_275           27.3649   2.49e+05      0.000      1.000   -4.89e+05    4.89e+05\n",
      "element_276           26.4920   2.49e+05      0.000      1.000   -4.89e+05    4.89e+05\n",
      "element_277            1.3082   3.45e+05   3.79e-06      1.000   -6.77e+05    6.77e+05\n",
      "element_279           27.6427   2.49e+05      0.000      1.000   -4.89e+05    4.89e+05\n",
      "element_280           26.9545   2.49e+05      0.000      1.000   -4.89e+05    4.89e+05\n",
      "element_281           26.1095   2.49e+05      0.000      1.000   -4.89e+05    4.89e+05\n",
      "element_284           -0.1456   3.16e+05   -4.6e-07      1.000    -6.2e+05     6.2e+05\n",
      "element_285           25.3979   2.49e+05      0.000      1.000   -4.89e+05    4.89e+05\n",
      "element_286           25.5162   2.49e+05      0.000      1.000   -4.89e+05    4.89e+05\n",
      "element_287            0.0525   5.79e+05   9.06e-08      1.000   -1.14e+06    1.14e+06\n",
      "element_288           -0.1387   4.11e+05  -3.37e-07      1.000   -8.06e+05    8.06e+05\n",
      "element_289            0.5054   3.84e+05   1.32e-06      1.000   -7.53e+05    7.53e+05\n",
      "element_291            0.5828   3.27e+05   1.78e-06      1.000    -6.4e+05     6.4e+05\n",
      "element_292           -0.0684   2.95e+05  -2.32e-07      1.000   -5.79e+05    5.79e+05\n",
      "element_293           26.0346   2.49e+05      0.000      1.000   -4.89e+05    4.89e+05\n",
      "element_294           25.9616   2.49e+05      0.000      1.000   -4.89e+05    4.89e+05\n",
      "element_295           27.3581   2.49e+05      0.000      1.000   -4.89e+05    4.89e+05\n",
      "element_296           -0.1570   2.92e+05  -5.38e-07      1.000   -5.71e+05    5.71e+05\n",
      "element_297           26.3813   2.49e+05      0.000      1.000   -4.89e+05    4.89e+05\n",
      "element_298           26.3869   2.49e+05      0.000      1.000   -4.89e+05    4.89e+05\n",
      "element_299           26.2846   2.49e+05      0.000      1.000   -4.89e+05    4.89e+05\n",
      "element_300           26.2359   2.49e+05      0.000      1.000   -4.89e+05    4.89e+05\n",
      "element_301           26.2495   2.49e+05      0.000      1.000   -4.89e+05    4.89e+05\n",
      "element_302           26.9254   2.49e+05      0.000      1.000   -4.89e+05    4.89e+05\n",
      "element_303            0.7827   3.39e+05   2.31e-06      1.000   -6.65e+05    6.65e+05\n",
      "element_304            0.1838    3.4e+05    5.4e-07      1.000   -6.67e+05    6.67e+05\n",
      "element_305           26.9066   2.49e+05      0.000      1.000   -4.89e+05    4.89e+05\n",
      "element_306           25.0049   2.49e+05      0.000      1.000   -4.89e+05    4.89e+05\n",
      "element_310           24.8208   2.49e+05   9.95e-05      1.000   -4.89e+05    4.89e+05\n",
      "element_311            0.0312    3.3e+05   9.46e-08      1.000   -6.47e+05    6.47e+05\n",
      "element_312           24.8643   2.49e+05   9.97e-05      1.000   -4.89e+05    4.89e+05\n",
      "element_313            0.0533   3.08e+05   1.73e-07      1.000   -6.04e+05    6.04e+05\n",
      "element_314            0.0271   4.09e+05   6.61e-08      1.000   -8.03e+05    8.03e+05\n",
      "element_315           25.8003   2.49e+05      0.000      1.000   -4.89e+05    4.89e+05\n",
      "element_317           26.1899   2.49e+05      0.000      1.000   -4.89e+05    4.89e+05\n",
      "element_318           25.7091   2.49e+05      0.000      1.000   -4.89e+05    4.89e+05\n",
      "element_319           -0.0328   2.92e+05  -1.12e-07      1.000   -5.73e+05    5.73e+05\n",
      "element_320            0.2659   2.97e+05   8.95e-07      1.000   -5.82e+05    5.82e+05\n",
      "element_321           26.5153   2.49e+05      0.000      1.000   -4.89e+05    4.89e+05\n",
      "element_323           26.3813   2.49e+05      0.000      1.000   -4.89e+05    4.89e+05\n",
      "element_324           25.5053   2.49e+05      0.000      1.000   -4.89e+05    4.89e+05\n",
      "element_326           24.7604   2.49e+05   9.93e-05      1.000   -4.89e+05    4.89e+05\n",
      "element_327            0.7089    3.1e+05   2.29e-06      1.000   -6.07e+05    6.07e+05\n",
      "element_330           -0.0685   3.21e+05  -2.13e-07      1.000   -6.29e+05    6.29e+05\n",
      "element_331           -0.1393   3.49e+05  -3.99e-07      1.000   -6.84e+05    6.84e+05\n",
      "element_332           25.8030   2.49e+05      0.000      1.000   -4.89e+05    4.89e+05\n",
      "element_333            0.1000   3.03e+05    3.3e-07      1.000   -5.94e+05    5.94e+05\n",
      "element_335           25.3534   2.49e+05      0.000      1.000   -4.89e+05    4.89e+05\n",
      "element_336           -0.0770    3.2e+05  -2.41e-07      1.000   -6.27e+05    6.27e+05\n",
      "element_337           27.9479   2.49e+05      0.000      1.000   -4.89e+05    4.89e+05\n",
      "element_338            0.2660   3.12e+05   8.52e-07      1.000   -6.12e+05    6.12e+05\n",
      "element_339            0.1747   2.95e+05   5.93e-07      1.000   -5.78e+05    5.78e+05\n",
      "element_340           24.9757   2.49e+05      0.000      1.000   -4.89e+05    4.89e+05\n",
      "element_343           25.3312   2.49e+05      0.000      1.000   -4.89e+05    4.89e+05\n",
      "element_344           25.7649   2.49e+05      0.000      1.000   -4.89e+05    4.89e+05\n",
      "element_345            0.3855   2.91e+05   1.32e-06      1.000   -5.71e+05    5.71e+05\n",
      "element_346            0.4946   3.11e+05   1.59e-06      1.000    -6.1e+05     6.1e+05\n",
      "element_347           26.3136   2.49e+05      0.000      1.000   -4.89e+05    4.89e+05\n",
      "element_348           25.5215   2.49e+05      0.000      1.000   -4.89e+05    4.89e+05\n",
      "element_349            0.5322   3.22e+05   1.65e-06      1.000   -6.31e+05    6.31e+05\n",
      "element_353           -0.1284    2.9e+05  -4.43e-07      1.000   -5.68e+05    5.68e+05\n",
      "element_354           26.3365   2.49e+05      0.000      1.000   -4.89e+05    4.89e+05\n",
      "element_355           -0.0885   3.16e+05   -2.8e-07      1.000    -6.2e+05     6.2e+05\n",
      "element_356            0.1235   3.02e+05   4.09e-07      1.000   -5.91e+05    5.91e+05\n",
      "element_357           26.4403   2.49e+05      0.000      1.000   -4.89e+05    4.89e+05\n",
      "element_358           28.5478   2.49e+05      0.000      1.000   -4.89e+05    4.89e+05\n",
      "element_359           25.8453   2.49e+05      0.000      1.000   -4.89e+05    4.89e+05\n",
      "element_360           26.9374   2.49e+05      0.000      1.000   -4.89e+05    4.89e+05\n",
      "element_361            0.1241   3.07e+05   4.05e-07      1.000   -6.01e+05    6.01e+05\n",
      "element_362            0.4786   3.35e+05   1.43e-06      1.000   -6.56e+05    6.56e+05\n",
      "element_363           26.2553   2.49e+05      0.000      1.000   -4.89e+05    4.89e+05\n",
      "element_364           27.0756   2.49e+05      0.000      1.000   -4.89e+05    4.89e+05\n",
      "element_365           25.8529   2.49e+05      0.000      1.000   -4.89e+05    4.89e+05\n",
      "element_366            0.8989   3.85e+05   2.33e-06      1.000   -7.55e+05    7.55e+05\n",
      "element_367           27.0113   2.49e+05      0.000      1.000   -4.89e+05    4.89e+05\n",
      "element_368            0.3537   2.85e+05   1.24e-06      1.000   -5.58e+05    5.58e+05\n",
      "element_369           25.6802   2.49e+05      0.000      1.000   -4.89e+05    4.89e+05\n",
      "element_370           25.7004   2.49e+05      0.000      1.000   -4.89e+05    4.89e+05\n",
      "element_371           27.4099   2.49e+05      0.000      1.000   -4.89e+05    4.89e+05\n",
      "element_372           26.5757   2.49e+05      0.000      1.000   -4.89e+05    4.89e+05\n",
      "element_376           -0.1310   2.89e+05  -4.53e-07      1.000   -5.66e+05    5.66e+05\n",
      "element_377            1.1834   7.85e+05   1.51e-06      1.000   -1.54e+06    1.54e+06\n",
      "element_378           26.6785   2.49e+05      0.000      1.000   -4.89e+05    4.89e+05\n",
      "element_379            0.7784   7.85e+05   9.92e-07      1.000   -1.54e+06    1.54e+06\n",
      "element_380            0.0136   3.09e+05    4.4e-08      1.000   -6.05e+05    6.05e+05\n",
      "element_381           25.5680   2.49e+05      0.000      1.000   -4.89e+05    4.89e+05\n",
      "element_382            0.2800   2.94e+05   9.52e-07      1.000   -5.77e+05    5.77e+05\n",
      "element_383           25.0599   2.49e+05      0.000      1.000   -4.89e+05    4.89e+05\n",
      "element_385           -0.1191   7.85e+05  -1.52e-07      1.000   -1.54e+06    1.54e+06\n",
      "element_386           26.5401   2.49e+05      0.000      1.000   -4.89e+05    4.89e+05\n",
      "element_387            1.1338   3.51e+05   3.23e-06      1.000   -6.87e+05    6.87e+05\n",
      "element_388            0.5351   3.49e+05   1.53e-06      1.000   -6.84e+05    6.84e+05\n",
      "element_389           25.4538   2.49e+05      0.000      1.000   -4.89e+05    4.89e+05\n",
      "element_390           26.3583   2.49e+05      0.000      1.000   -4.89e+05    4.89e+05\n",
      "element_391           26.0825   2.49e+05      0.000      1.000   -4.89e+05    4.89e+05\n",
      "element_392           25.7090   2.49e+05      0.000      1.000   -4.89e+05    4.89e+05\n",
      "element_393           25.4626   2.49e+05      0.000      1.000   -4.89e+05    4.89e+05\n",
      "element_394           26.2093   2.49e+05      0.000      1.000   -4.89e+05    4.89e+05\n",
      "element_395            0.4423   3.01e+05   1.47e-06      1.000   -5.89e+05    5.89e+05\n",
      "element_396           25.4778   2.49e+05      0.000      1.000   -4.89e+05    4.89e+05\n",
      "element_397            1.1899    5.8e+05   2.05e-06      1.000   -1.14e+06    1.14e+06\n",
      "element_402            0.0045   3.13e+05   1.43e-08      1.000   -6.14e+05    6.14e+05\n",
      "element_403            0.1242    3.1e+05      4e-07      1.000   -6.08e+05    6.08e+05\n",
      "element_405           24.9680   2.49e+05      0.000      1.000   -4.89e+05    4.89e+05\n",
      "element_406           -0.0949   2.91e+05  -3.26e-07      1.000   -5.71e+05    5.71e+05\n",
      "element_408            0.2371   3.88e+05   6.11e-07      1.000   -7.61e+05    7.61e+05\n",
      "element_409           -0.1431    2.9e+05  -4.93e-07      1.000   -5.69e+05    5.69e+05\n",
      "element_410           25.2455   2.49e+05      0.000      1.000   -4.89e+05    4.89e+05\n",
      "element_411           26.1093   2.49e+05      0.000      1.000   -4.89e+05    4.89e+05\n",
      "element_412           25.7393   2.49e+05      0.000      1.000   -4.89e+05    4.89e+05\n",
      "element_413           25.5120   2.49e+05      0.000      1.000   -4.89e+05    4.89e+05\n",
      "element_415           26.6571   2.49e+05      0.000      1.000   -4.89e+05    4.89e+05\n",
      "element_417           26.2154   2.49e+05      0.000      1.000   -4.89e+05    4.89e+05\n",
      "element_418            0.5263   3.29e+05    1.6e-06      1.000   -6.44e+05    6.44e+05\n",
      "element_419           26.5182   2.49e+05      0.000      1.000   -4.89e+05    4.89e+05\n",
      "element_423           -0.0631   2.89e+05  -2.18e-07      1.000   -5.67e+05    5.67e+05\n",
      "element_425           26.2848   2.49e+05      0.000      1.000   -4.89e+05    4.89e+05\n",
      "element_426            0.3289   3.15e+05   1.04e-06      1.000   -6.17e+05    6.17e+05\n",
      "element_427           -0.0876   2.89e+05  -3.03e-07      1.000   -5.66e+05    5.66e+05\n",
      "element_430           -0.1012   2.87e+05  -3.52e-07      1.000   -5.63e+05    5.63e+05\n",
      "element_431            0.7396   3.11e+05   2.38e-06      1.000   -6.09e+05    6.09e+05\n",
      "element_432           26.6771   2.49e+05      0.000      1.000   -4.89e+05    4.89e+05\n",
      "element_433           25.4704   2.49e+05      0.000      1.000   -4.89e+05    4.89e+05\n",
      "element_434           25.9116   2.49e+05      0.000      1.000   -4.89e+05    4.89e+05\n",
      "element_435           25.7690   2.49e+05      0.000      1.000   -4.89e+05    4.89e+05\n",
      "element_437           26.6463   2.49e+05      0.000      1.000   -4.89e+05    4.89e+05\n",
      "element_438           27.0825   2.49e+05      0.000      1.000   -4.89e+05    4.89e+05\n",
      "element_440           25.4834   2.49e+05      0.000      1.000   -4.89e+05    4.89e+05\n",
      "element_441            0.8267   5.13e+05   1.61e-06      1.000   -1.01e+06    1.01e+06\n",
      "element_443            2.4717   7.85e+05   3.15e-06      1.000   -1.54e+06    1.54e+06\n",
      "element_444           27.7958   2.49e+05      0.000      1.000   -4.89e+05    4.89e+05\n",
      "element_446           26.3265   2.49e+05      0.000      1.000   -4.89e+05    4.89e+05\n",
      "element_447           26.5959   2.49e+05      0.000      1.000   -4.89e+05    4.89e+05\n",
      "element_448           25.9426   2.49e+05      0.000      1.000   -4.89e+05    4.89e+05\n",
      "element_450           25.8994   2.49e+05      0.000      1.000   -4.89e+05    4.89e+05\n",
      "element_451            0.1408   2.89e+05   4.87e-07      1.000   -5.66e+05    5.66e+05\n",
      "element_453           26.2038   2.49e+05      0.000      1.000   -4.89e+05    4.89e+05\n",
      "element_455           24.9440   2.49e+05      0.000      1.000   -4.89e+05    4.89e+05\n",
      "element_456           25.8188   2.49e+05      0.000      1.000   -4.89e+05    4.89e+05\n",
      "element_458           25.1844   2.49e+05      0.000      1.000   -4.89e+05    4.89e+05\n",
      "element_459           -0.1200   2.89e+05  -4.16e-07      1.000   -5.66e+05    5.66e+05\n",
      "element_460            0.0892   2.97e+05   3.01e-07      1.000   -5.81e+05    5.81e+05\n",
      "element_461           25.1470   2.49e+05      0.000      1.000   -4.89e+05    4.89e+05\n",
      "element_462           26.6233   2.49e+05      0.000      1.000   -4.89e+05    4.89e+05\n",
      "element_463           -0.1549   3.06e+05  -5.06e-07      1.000      -6e+05       6e+05\n",
      "element_464           -0.0618   3.05e+05  -2.03e-07      1.000   -5.98e+05    5.98e+05\n",
      "element_465           26.0197   2.49e+05      0.000      1.000   -4.89e+05    4.89e+05\n",
      "element_466            0.3179   2.99e+05   1.06e-06      1.000   -5.86e+05    5.86e+05\n",
      "element_467           -0.0448   3.71e+05  -1.21e-07      1.000   -7.27e+05    7.27e+05\n",
      "element_471           26.0238   2.49e+05      0.000      1.000   -4.89e+05    4.89e+05\n",
      "element_472            1.2893   3.02e+05   4.27e-06      1.000   -5.91e+05    5.91e+05\n",
      "element_473            0.4133    3.5e+05   1.18e-06      1.000   -6.85e+05    6.85e+05\n",
      "element_475           26.6728   2.49e+05      0.000      1.000   -4.89e+05    4.89e+05\n",
      "element_476            0.5635   3.25e+05   1.74e-06      1.000   -6.36e+05    6.36e+05\n",
      "element_478            0.0676   2.92e+05   2.32e-07      1.000   -5.71e+05    5.71e+05\n",
      "element_479           26.4867   2.49e+05      0.000      1.000   -4.89e+05    4.89e+05\n",
      "element_480           25.7275   2.49e+05      0.000      1.000   -4.89e+05    4.89e+05\n",
      "element_481            0.7194   3.58e+05   2.01e-06      1.000   -7.02e+05    7.02e+05\n",
      "element_482           25.2324   2.49e+05      0.000      1.000   -4.89e+05    4.89e+05\n",
      "element_483           24.8577   2.49e+05   9.97e-05      1.000   -4.89e+05    4.89e+05\n",
      "element_484           25.8939   2.49e+05      0.000      1.000   -4.89e+05    4.89e+05\n",
      "element_486           26.4679   2.49e+05      0.000      1.000   -4.89e+05    4.89e+05\n",
      "element_487            0.0384   3.22e+05   1.19e-07      1.000   -6.31e+05    6.31e+05\n",
      "element_488            0.7130   3.21e+05   2.22e-06      1.000   -6.29e+05    6.29e+05\n",
      "element_489           25.9965   2.49e+05      0.000      1.000   -4.89e+05    4.89e+05\n",
      "element_491            0.0219   7.85e+05    2.8e-08      1.000   -1.54e+06    1.54e+06\n",
      "element_492            0.4428   3.07e+05   1.44e-06      1.000   -6.02e+05    6.02e+05\n",
      "element_493           26.0957   2.49e+05      0.000      1.000   -4.89e+05    4.89e+05\n",
      "element_494           24.9528   2.49e+05      0.000      1.000   -4.89e+05    4.89e+05\n",
      "element_495            0.8072   3.38e+05   2.39e-06      1.000   -6.62e+05    6.62e+05\n",
      "element_497           29.5613   2.49e+05      0.000      1.000   -4.89e+05    4.89e+05\n",
      "element_499           25.8372   2.49e+05      0.000      1.000   -4.89e+05    4.89e+05\n",
      "element_500           25.6252   2.49e+05      0.000      1.000   -4.89e+05    4.89e+05\n",
      "element_502            0.5048   3.35e+05   1.51e-06      1.000   -6.57e+05    6.57e+05\n",
      "element_503           24.9708   2.49e+05      0.000      1.000   -4.89e+05    4.89e+05\n",
      "element_504           25.9262   2.49e+05      0.000      1.000   -4.89e+05    4.89e+05\n",
      "element_505           25.2888   2.49e+05      0.000      1.000   -4.89e+05    4.89e+05\n",
      "element_506            0.4518   3.22e+05    1.4e-06      1.000   -6.32e+05    6.32e+05\n",
      "element_507           26.5393   2.49e+05      0.000      1.000   -4.89e+05    4.89e+05\n",
      "element_508           25.0768   2.49e+05      0.000      1.000   -4.89e+05    4.89e+05\n",
      "element_510           25.1801   2.49e+05      0.000      1.000   -4.89e+05    4.89e+05\n",
      "element_511            0.1542   3.43e+05   4.49e-07      1.000   -6.73e+05    6.73e+05\n",
      "element_512            0.3391    3.3e+05   1.03e-06      1.000   -6.46e+05    6.46e+05\n",
      "element_513           26.7580   2.49e+05      0.000      1.000   -4.89e+05    4.89e+05\n",
      "element_514           25.7349   2.49e+05      0.000      1.000   -4.89e+05    4.89e+05\n",
      "element_515            0.2643   3.83e+05   6.91e-07      1.000    -7.5e+05     7.5e+05\n",
      "element_516           25.9495   2.49e+05      0.000      1.000   -4.89e+05    4.89e+05\n",
      "element_517            0.4582   3.74e+05   1.22e-06      1.000   -7.34e+05    7.34e+05\n",
      "element_518            0.5695   3.97e+05   1.44e-06      1.000   -7.77e+05    7.77e+05\n",
      "element_519            0.2485   3.66e+05   6.78e-07      1.000   -7.18e+05    7.18e+05\n",
      "element_521            0.8437   4.77e+05   1.77e-06      1.000   -9.34e+05    9.34e+05\n",
      "element_522            1.4356   5.16e+05   2.78e-06      1.000   -1.01e+06    1.01e+06\n",
      "element_523            2.5160   7.85e+05   3.21e-06      1.000   -1.54e+06    1.54e+06\n",
      "element_524            0.7510   2.85e+05   2.63e-06      1.000   -5.59e+05    5.59e+05\n",
      "element_526           25.5492   2.49e+05      0.000      1.000   -4.89e+05    4.89e+05\n",
      "element_527           24.7578   2.49e+05   9.93e-05      1.000   -4.89e+05    4.89e+05\n",
      "element_531           26.3760   2.49e+05      0.000      1.000   -4.89e+05    4.89e+05\n",
      "element_534           26.3880   2.49e+05      0.000      1.000   -4.89e+05    4.89e+05\n",
      "element_535           26.3017   2.49e+05      0.000      1.000   -4.89e+05    4.89e+05\n",
      "element_539           25.9093   2.49e+05      0.000      1.000   -4.89e+05    4.89e+05\n",
      "element_540            0.6719   3.73e+05    1.8e-06      1.000   -7.32e+05    7.32e+05\n",
      "element_543           27.2767   2.49e+05      0.000      1.000   -4.89e+05    4.89e+05\n",
      "element_544            1.6383   5.53e+05   2.96e-06      1.000   -1.08e+06    1.08e+06\n",
      "element_549           -0.1852   3.92e+05  -4.73e-07      1.000   -7.68e+05    7.68e+05\n",
      "element_550           27.2692   2.49e+05      0.000      1.000   -4.89e+05    4.89e+05\n",
      "element_552            2.7032   7.85e+05   3.45e-06      1.000   -1.54e+06    1.54e+06\n",
      "element_556            0.0756   3.25e+05   2.33e-07      1.000   -6.36e+05    6.36e+05\n",
      "element_557            2.9953   7.85e+05   3.82e-06      1.000   -1.54e+06    1.54e+06\n",
      "element_560            0.5946   7.85e+05   7.58e-07      1.000   -1.54e+06    1.54e+06\n",
      "element_562            2.9085   7.85e+05   3.71e-06      1.000   -1.54e+06    1.54e+06\n",
      "element_563            1.1385   7.85e+05   1.45e-06      1.000   -1.54e+06    1.54e+06\n",
      "element_565            0.5207   7.85e+05   6.64e-07      1.000   -1.54e+06    1.54e+06\n",
      "element_566            2.1470   7.85e+05   2.74e-06      1.000   -1.54e+06    1.54e+06\n",
      "element_568            1.1164   7.85e+05   1.42e-06      1.000   -1.54e+06    1.54e+06\n",
      "element_569           27.2637   2.49e+05      0.000      1.000   -4.89e+05    4.89e+05\n",
      "element_570            0.6493    4.4e+05   1.47e-06      1.000   -8.63e+05    8.63e+05\n",
      "element_571           26.6806   2.49e+05      0.000      1.000   -4.89e+05    4.89e+05\n",
      "element_573            0.6807   7.85e+05   8.68e-07      1.000   -1.54e+06    1.54e+06\n",
      "element_574            2.0690    5.3e+05    3.9e-06      1.000   -1.04e+06    1.04e+06\n",
      "element_575           27.4138   2.49e+05      0.000      1.000   -4.89e+05    4.89e+05\n",
      "element_579           -0.0370   4.84e+05  -7.64e-08      1.000   -9.49e+05    9.49e+05\n",
      "element_580            2.5895   5.68e+05   4.56e-06      1.000   -1.11e+06    1.11e+06\n",
      "element_581            0.3062   7.85e+05    3.9e-07      1.000   -1.54e+06    1.54e+06\n",
      "element_585            1.2807   5.77e+05   2.22e-06      1.000   -1.13e+06    1.13e+06\n",
      "element_586            1.1275    5.7e+05   1.98e-06      1.000   -1.12e+06    1.12e+06\n",
      "element_587            0.9604   7.85e+05   1.22e-06      1.000   -1.54e+06    1.54e+06\n",
      "element_588            2.2611   7.85e+05   2.88e-06      1.000   -1.54e+06    1.54e+06\n",
      "element_589            0.9711   5.59e+05   1.74e-06      1.000    -1.1e+06     1.1e+06\n",
      "element_590           28.9258   2.49e+05      0.000      1.000   -4.89e+05    4.89e+05\n",
      "element_591            0.1278   7.85e+05   1.63e-07      1.000   -1.54e+06    1.54e+06\n",
      "element_592           28.0896   2.49e+05      0.000      1.000   -4.89e+05    4.89e+05\n",
      "log_minutes            0.6851      0.095      7.214      0.000       0.499       0.871\n",
      "======================================================================================\n"
     ]
    }
   ],
   "source": [
    "print(sppmm_results.summary())"
   ]
  },
  {
   "cell_type": "markdown",
   "metadata": {
    "hidden": true
   },
   "source": [
    "### Model fit"
   ]
  },
  {
   "cell_type": "code",
   "execution_count": 93,
   "metadata": {
    "ExecuteTime": {
     "end_time": "2019-03-16T16:03:43.369283Z",
     "start_time": "2019-03-16T16:03:43.364895Z"
    },
    "hidden": true
   },
   "outputs": [
    {
     "data": {
      "text/plain": [
       "4349.995664516023"
      ]
     },
     "execution_count": 93,
     "metadata": {},
     "output_type": "execute_result"
    }
   ],
   "source": [
    "sppmm_results.aic"
   ]
  },
  {
   "cell_type": "code",
   "execution_count": 94,
   "metadata": {
    "ExecuteTime": {
     "end_time": "2019-03-16T16:03:43.411907Z",
     "start_time": "2019-03-16T16:03:43.371253Z"
    },
    "hidden": true
   },
   "outputs": [
    {
     "data": {
      "text/plain": [
       "-52457.866688693655"
      ]
     },
     "execution_count": 94,
     "metadata": {},
     "output_type": "execute_result"
    }
   ],
   "source": [
    "sppmm_results.bic"
   ]
  },
  {
   "cell_type": "code",
   "execution_count": 95,
   "metadata": {
    "ExecuteTime": {
     "end_time": "2019-03-16T16:03:43.440220Z",
     "start_time": "2019-03-16T16:03:43.414481Z"
    },
    "hidden": true
   },
   "outputs": [
    {
     "data": {
      "text/plain": [
       "(False, 1.0)"
      ]
     },
     "execution_count": 95,
     "metadata": {},
     "output_type": "execute_result"
    }
   ],
   "source": [
    "sppmm_pearson_results = goodness_fit.pearson_chi_squared_test(sppmm_results)\n",
    "sppmm_pearson_results"
   ]
  },
  {
   "cell_type": "code",
   "execution_count": 96,
   "metadata": {
    "ExecuteTime": {
     "end_time": "2019-03-16T16:03:43.595442Z",
     "start_time": "2019-03-16T16:03:43.442776Z"
    },
    "hidden": true
   },
   "outputs": [
    {
     "data": {
      "text/plain": [
       "count    6673.000000\n",
       "mean       -0.150638\n",
       "std         0.555538\n",
       "min        -1.401454\n",
       "25%        -0.472166\n",
       "50%        -0.272765\n",
       "75%        -0.000001\n",
       "max         2.989446\n",
       "dtype: float64"
      ]
     },
     "execution_count": 96,
     "metadata": {},
     "output_type": "execute_result"
    }
   ],
   "source": [
    "sppmm_results.resid_deviance.describe()"
   ]
  },
  {
   "cell_type": "code",
   "execution_count": 97,
   "metadata": {
    "ExecuteTime": {
     "end_time": "2019-03-16T16:03:44.101356Z",
     "start_time": "2019-03-16T16:03:43.599590Z"
    },
    "hidden": true
   },
   "outputs": [
    {
     "data": {
      "image/png": "[encoded data removed]",
      "text/plain": [
       "<Figure size 432x288 with 1 Axes>"
      ]
     },
     "metadata": {
      "needs_background": "light"
     },
     "output_type": "display_data"
    }
   ],
   "source": [
    "plt.figure()\n",
    "plt.hist(sppmm_results.resid_deviance, bins=20)\n",
    "plt.show()"
   ]
  },
  {
   "cell_type": "markdown",
   "metadata": {
    "heading_collapsed": true
   },
   "source": [
    "## Simple Poisson player exposure model"
   ]
  },
  {
   "cell_type": "markdown",
   "metadata": {
    "heading_collapsed": true,
    "hidden": true
   },
   "source": [
    "### Preparing data"
   ]
  },
  {
   "cell_type": "code",
   "execution_count": 98,
   "metadata": {
    "ExecuteTime": {
     "end_time": "2019-03-16T16:03:44.108681Z",
     "start_time": "2019-03-16T16:03:44.103421Z"
    },
    "hidden": true
   },
   "outputs": [],
   "source": [
    "eppmm_df = element_gameweek_df.copy()"
   ]
  },
  {
   "cell_type": "code",
   "execution_count": 99,
   "metadata": {
    "ExecuteTime": {
     "end_time": "2019-03-16T16:03:44.149042Z",
     "start_time": "2019-03-16T16:03:44.110717Z"
    },
    "hidden": true
   },
   "outputs": [],
   "source": [
    "eppmm_df = player.add_categorical_variables(eppmm_df, 'opposition_team')\n",
    "eppmm_df = player.add_categorical_variables(eppmm_df, 'element')"
   ]
  },
  {
   "cell_type": "code",
   "execution_count": 100,
   "metadata": {
    "ExecuteTime": {
     "end_time": "2019-03-16T16:03:44.171923Z",
     "start_time": "2019-03-16T16:03:44.165318Z"
    },
    "hidden": true
   },
   "outputs": [],
   "source": [
    "eppmm_redundant_columns = [\n",
    "    'row_id', 'goals_scored', 'attempted_passes', 'big_chances_created',\n",
    "    'big_chances_missed', 'bonus', 'bps', 'clean_sheets',\n",
    "    'clearances_blocks_interceptions', 'completed_passes', 'creativity',\n",
    "    'dribbles', 'ea_index', 'element', 'errors_leading_to_goal',\n",
    "    'errors_leading_to_goal_attempt', 'fixture', 'fouls', 'goals_conceded',\n",
    "    'ict_index', 'id', 'influence', 'key_passes', 'kickoff_time',\n",
    "    'kickoff_time_formatted', 'loaned_in', 'loaned_out', 'offside',\n",
    "    'open_play_crosses', 'opponent_team', 'own_goals', 'penalties_conceded',\n",
    "    'penalties_missed', 'penalties_saved', 'recoveries', 'red_cards', 'round',\n",
    "    'saves', 'selected', 'tackled', 'tackles', 'target_missed', 'team_a_score',\n",
    "    'team_h_score', 'threat', 'total_points', 'transfers_balance',\n",
    "    'transfers_in', 'transfers_out', 'value', 'winning_goals',\n",
    "    'yellow_cards', 'event', 'team_a', 'team_a_difficulty', 'team_h',\n",
    "    'team_h_difficulty', 'element_type', 'team', 'web_name', 'safe_web_name',\n",
    "    'own_team', 'opposition_team', 'was_home', 'minutes'\n",
    "]"
   ]
  },
  {
   "cell_type": "code",
   "execution_count": 101,
   "metadata": {
    "ExecuteTime": {
     "end_time": "2019-03-16T16:03:44.196872Z",
     "start_time": "2019-03-16T16:03:44.174099Z"
    },
    "hidden": true
   },
   "outputs": [],
   "source": [
    "eppmm_exposure = eppmm_df['minutes']"
   ]
  },
  {
   "cell_type": "code",
   "execution_count": 102,
   "metadata": {
    "ExecuteTime": {
     "end_time": "2019-03-16T16:03:44.229413Z",
     "start_time": "2019-03-16T16:03:44.198984Z"
    },
    "hidden": true
   },
   "outputs": [],
   "source": [
    "eppmm_df = player.remove_redundant_columns(eppmm_df, eppmm_redundant_columns)"
   ]
  },
  {
   "cell_type": "code",
   "execution_count": 103,
   "metadata": {
    "ExecuteTime": {
     "end_time": "2019-03-16T16:03:44.452195Z",
     "start_time": "2019-03-16T16:03:44.231693Z"
    },
    "hidden": true
   },
   "outputs": [],
   "source": [
    "eppmm_response_df, eppmm_explanatory_df = player.get_response_explanatory_dfs(eppmm_df, 'assists')"
   ]
  },
  {
   "cell_type": "code",
   "execution_count": 104,
   "metadata": {
    "ExecuteTime": {
     "end_time": "2019-03-16T16:03:44.459715Z",
     "start_time": "2019-03-16T16:03:44.454415Z"
    },
    "hidden": true
   },
   "outputs": [
    {
     "data": {
      "text/plain": [
       "Index(['const', 'opposition_team_2', 'opposition_team_3', 'opposition_team_4',\n",
       "       'opposition_team_5', 'opposition_team_6', 'opposition_team_7',\n",
       "       'opposition_team_8', 'opposition_team_9', 'opposition_team_10',\n",
       "       ...\n",
       "       'element_580', 'element_581', 'element_585', 'element_586',\n",
       "       'element_587', 'element_588', 'element_589', 'element_590',\n",
       "       'element_591', 'element_592'],\n",
       "      dtype='object', length=466)"
      ]
     },
     "execution_count": 104,
     "metadata": {},
     "output_type": "execute_result"
    }
   ],
   "source": [
    "eppmm_explanatory_df.columns"
   ]
  },
  {
   "cell_type": "markdown",
   "metadata": {
    "heading_collapsed": true,
    "hidden": true
   },
   "source": [
    "### Fitting model"
   ]
  },
  {
   "cell_type": "code",
   "execution_count": 105,
   "metadata": {
    "ExecuteTime": {
     "end_time": "2019-03-16T16:03:58.244495Z",
     "start_time": "2019-03-16T16:03:44.463231Z"
    },
    "hidden": true
   },
   "outputs": [],
   "source": [
    "eppmm_results = sm.GLM(\n",
    "    eppmm_response_df,\n",
    "    eppmm_explanatory_df,\n",
    "    family=sm.families.Poisson(),\n",
    "    missing='drop',\n",
    "    exposure=eppmm_exposure\n",
    ").fit()"
   ]
  },
  {
   "cell_type": "code",
   "execution_count": 106,
   "metadata": {
    "ExecuteTime": {
     "end_time": "2019-03-16T16:03:58.575684Z",
     "start_time": "2019-03-16T16:03:58.248124Z"
    },
    "hidden": true
   },
   "outputs": [
    {
     "name": "stdout",
     "output_type": "stream",
     "text": [
      "                 Generalized Linear Model Regression Results                  \n",
      "==============================================================================\n",
      "Dep. Variable:                assists   No. Observations:                 6675\n",
      "Model:                            GLM   Df Residuals:                     6209\n",
      "Model Family:                 Poisson   Df Model:                          465\n",
      "Link Function:                    log   Scale:                             1.0\n",
      "Method:                          IRLS   Log-Likelihood:                -1712.8\n",
      "Date:                Sat, 16 Mar 2019   Deviance:                       2220.2\n",
      "Time:                        16:03:58   Pearson chi2:                 4.47e+03\n",
      "No. Iterations:                    25                                         \n",
      "======================================================================================\n",
      "                         coef    std err          z      P>|z|      [0.025      0.975]\n",
      "--------------------------------------------------------------------------------------\n",
      "const                -32.3097   2.45e+05     -0.000      1.000    -4.8e+05     4.8e+05\n",
      "opposition_team_2      0.1956      0.245      0.798      0.425      -0.285       0.676\n",
      "opposition_team_3     -0.1235      0.263     -0.469      0.639      -0.640       0.393\n",
      "opposition_team_4      0.3713      0.243      1.527      0.127      -0.105       0.848\n",
      "opposition_team_5      0.2600      0.243      1.070      0.284      -0.216       0.736\n",
      "opposition_team_6     -0.2634      0.277     -0.951      0.342      -0.806       0.279\n",
      "opposition_team_7     -0.0837      0.262     -0.319      0.750      -0.598       0.430\n",
      "opposition_team_8      0.0598      0.255      0.235      0.815      -0.440       0.559\n",
      "opposition_team_9      0.4220      0.237      1.783      0.075      -0.042       0.886\n",
      "opposition_team_10     0.2818      0.241      1.172      0.241      -0.190       0.753\n",
      "opposition_team_11    -0.1235      0.263     -0.469      0.639      -0.639       0.392\n",
      "opposition_team_12    -0.8127      0.326     -2.496      0.013      -1.451      -0.175\n",
      "opposition_team_13    -0.6895      0.318     -2.165      0.030      -1.314      -0.065\n",
      "opposition_team_14    -0.0568      0.262     -0.217      0.828      -0.570       0.456\n",
      "opposition_team_15    -0.0834      0.258     -0.323      0.747      -0.589       0.422\n",
      "opposition_team_16     0.2118      0.244      0.869      0.385      -0.266       0.689\n",
      "opposition_team_17    -0.3060      0.282     -1.083      0.279      -0.860       0.248\n",
      "opposition_team_18    -0.1103      0.266     -0.415      0.678      -0.631       0.411\n",
      "opposition_team_19     0.0595      0.253      0.235      0.814      -0.437       0.556\n",
      "opposition_team_20    -0.0221      0.261     -0.085      0.932      -0.534       0.490\n",
      "element_4             26.6165   2.45e+05      0.000      1.000    -4.8e+05     4.8e+05\n",
      "element_5             26.3573   2.45e+05      0.000      1.000    -4.8e+05     4.8e+05\n",
      "element_6              0.0039   3.33e+05   1.16e-08      1.000   -6.54e+05    6.54e+05\n",
      "element_7             -0.0369   2.89e+05  -1.28e-07      1.000   -5.66e+05    5.66e+05\n",
      "element_8             26.9275   2.45e+05      0.000      1.000    -4.8e+05     4.8e+05\n",
      "element_9              0.1194    2.9e+05   4.11e-07      1.000   -5.69e+05    5.69e+05\n",
      "element_10             2.5619   7.83e+05   3.27e-06      1.000   -1.54e+06    1.54e+06\n",
      "element_11             0.2550   3.29e+05   7.76e-07      1.000   -6.44e+05    6.44e+05\n",
      "element_12            25.7718   2.45e+05      0.000      1.000    -4.8e+05     4.8e+05\n",
      "element_13            26.0959   2.45e+05      0.000      1.000    -4.8e+05     4.8e+05\n",
      "element_14            27.3780   2.45e+05      0.000      1.000    -4.8e+05     4.8e+05\n",
      "element_15            26.7144   2.45e+05      0.000      1.000    -4.8e+05     4.8e+05\n",
      "element_16             0.5691   4.17e+05   1.37e-06      1.000   -8.17e+05    8.17e+05\n",
      "element_17            25.4574   2.45e+05      0.000      1.000    -4.8e+05     4.8e+05\n",
      "element_18            25.4858   2.45e+05      0.000      1.000    -4.8e+05     4.8e+05\n",
      "element_20            25.9618   2.45e+05      0.000      1.000    -4.8e+05     4.8e+05\n",
      "element_21            27.1598   2.45e+05      0.000      1.000    -4.8e+05     4.8e+05\n",
      "element_22            26.9213   2.45e+05      0.000      1.000    -4.8e+05     4.8e+05\n",
      "element_23            26.5182   2.45e+05      0.000      1.000    -4.8e+05     4.8e+05\n",
      "element_26            25.9269   2.45e+05      0.000      1.000    -4.8e+05     4.8e+05\n",
      "element_27            24.5789   2.45e+05      0.000      1.000    -4.8e+05     4.8e+05\n",
      "element_28             0.4468   2.85e+05   1.57e-06      1.000   -5.59e+05    5.59e+05\n",
      "element_29            -0.1139      3e+05  -3.79e-07      1.000   -5.89e+05    5.89e+05\n",
      "element_30             2.0741   3.38e+05   6.13e-06      1.000   -6.63e+05    6.63e+05\n",
      "element_31            -0.1538   2.84e+05  -5.42e-07      1.000   -5.56e+05    5.56e+05\n",
      "element_33             0.0822   2.85e+05   2.88e-07      1.000   -5.59e+05    5.59e+05\n",
      "element_35             0.3573   2.93e+05   1.22e-06      1.000   -5.75e+05    5.75e+05\n",
      "element_36            26.6233   2.45e+05      0.000      1.000    -4.8e+05     4.8e+05\n",
      "element_37            25.2812   2.45e+05      0.000      1.000    -4.8e+05     4.8e+05\n",
      "element_38            26.3772   2.45e+05      0.000      1.000    -4.8e+05     4.8e+05\n",
      "element_39             0.9216   2.85e+05   3.23e-06      1.000   -5.59e+05    5.59e+05\n",
      "element_40            26.8688   2.45e+05      0.000      1.000    -4.8e+05     4.8e+05\n",
      "element_42            26.3133   2.45e+05      0.000      1.000    -4.8e+05     4.8e+05\n",
      "element_43            26.9197   2.45e+05      0.000      1.000    -4.8e+05     4.8e+05\n",
      "element_44             2.4659   2.83e+05   8.72e-06      1.000   -5.54e+05    5.54e+05\n",
      "element_45            25.8732   2.45e+05      0.000      1.000    -4.8e+05     4.8e+05\n",
      "element_46             2.8819   3.75e+05   7.69e-06      1.000   -7.35e+05    7.35e+05\n",
      "element_48            -0.1568   2.85e+05   -5.5e-07      1.000   -5.59e+05    5.59e+05\n",
      "element_49            25.3910   2.45e+05      0.000      1.000    -4.8e+05     4.8e+05\n",
      "element_50            25.7947   2.45e+05      0.000      1.000    -4.8e+05     4.8e+05\n",
      "element_51             0.0294   2.92e+05   1.01e-07      1.000   -5.72e+05    5.72e+05\n",
      "element_54             0.1473   3.46e+05   4.26e-07      1.000   -6.77e+05    6.77e+05\n",
      "element_55            26.8379   2.45e+05      0.000      1.000    -4.8e+05     4.8e+05\n",
      "element_56             0.0290   2.92e+05   9.96e-08      1.000   -5.72e+05    5.72e+05\n",
      "element_57            25.8250   2.45e+05      0.000      1.000    -4.8e+05     4.8e+05\n",
      "element_58            26.2983   2.45e+05      0.000      1.000    -4.8e+05     4.8e+05\n",
      "element_59            25.7597   2.45e+05      0.000      1.000    -4.8e+05     4.8e+05\n",
      "element_60            24.7247   2.45e+05      0.000      1.000    -4.8e+05     4.8e+05\n",
      "element_61            26.6057   2.45e+05      0.000      1.000    -4.8e+05     4.8e+05\n",
      "element_62             0.3366   2.77e+05   1.22e-06      1.000   -5.42e+05    5.42e+05\n",
      "element_65             1.0620   2.72e+05    3.9e-06      1.000   -5.33e+05    5.33e+05\n",
      "element_66             0.9784   2.92e+05   3.35e-06      1.000   -5.72e+05    5.72e+05\n",
      "element_69            -0.0059   3.02e+05  -1.96e-08      1.000   -5.92e+05    5.92e+05\n",
      "element_70            25.2270   2.45e+05      0.000      1.000    -4.8e+05     4.8e+05\n",
      "element_71            -0.2284    4.9e+05  -4.66e-07      1.000   -9.61e+05    9.61e+05\n",
      "element_72            24.6821   2.45e+05      0.000      1.000    -4.8e+05     4.8e+05\n",
      "element_73            26.1295   2.45e+05      0.000      1.000    -4.8e+05     4.8e+05\n",
      "element_74             0.0027    2.8e+05   9.76e-09      1.000   -5.48e+05    5.48e+05\n",
      "element_75            -0.1371   3.18e+05  -4.31e-07      1.000   -6.23e+05    6.23e+05\n",
      "element_76            26.6792   2.45e+05      0.000      1.000    -4.8e+05     4.8e+05\n",
      "element_77             0.1807   3.84e+05   4.71e-07      1.000   -7.52e+05    7.52e+05\n",
      "element_78            25.8522   2.45e+05      0.000      1.000    -4.8e+05     4.8e+05\n",
      "element_79            26.2054   2.45e+05      0.000      1.000    -4.8e+05     4.8e+05\n",
      "element_80            26.5283   2.45e+05      0.000      1.000    -4.8e+05     4.8e+05\n",
      "element_82            25.2740   2.45e+05      0.000      1.000    -4.8e+05     4.8e+05\n",
      "element_83            25.1751   2.45e+05      0.000      1.000    -4.8e+05     4.8e+05\n",
      "element_84             1.0069   2.75e+05   3.66e-06      1.000   -5.39e+05    5.39e+05\n",
      "element_85            26.1858   2.45e+05      0.000      1.000    -4.8e+05     4.8e+05\n",
      "element_87             0.3774   2.77e+05   1.36e-06      1.000   -5.43e+05    5.43e+05\n",
      "element_90            26.1286   2.45e+05      0.000      1.000    -4.8e+05     4.8e+05\n",
      "element_91            24.5686   2.45e+05      0.000      1.000    -4.8e+05     4.8e+05\n",
      "element_92            24.5492   2.45e+05      0.000      1.000    -4.8e+05     4.8e+05\n",
      "element_94            24.9024   2.45e+05      0.000      1.000    -4.8e+05     4.8e+05\n",
      "element_95             0.5912   3.06e+05   1.93e-06      1.000   -5.99e+05    5.99e+05\n",
      "element_96             1.0982   4.88e+05   2.25e-06      1.000   -9.57e+05    9.57e+05\n",
      "element_98             0.2721   2.82e+05   9.63e-07      1.000   -5.54e+05    5.54e+05\n",
      "element_99            25.1538   2.45e+05      0.000      1.000    -4.8e+05     4.8e+05\n",
      "element_100            0.7530   3.18e+05   2.36e-06      1.000   -6.24e+05    6.24e+05\n",
      "element_101           25.4430   2.45e+05      0.000      1.000    -4.8e+05     4.8e+05\n",
      "element_102           25.0766   2.45e+05      0.000      1.000    -4.8e+05     4.8e+05\n",
      "element_104            2.3572   5.79e+05   4.07e-06      1.000   -1.13e+06    1.13e+06\n",
      "element_105            1.4881   3.01e+05   4.95e-06      1.000   -5.89e+05    5.89e+05\n",
      "element_106            0.3793   2.86e+05   1.33e-06      1.000    -5.6e+05     5.6e+05\n",
      "element_107           26.3927   2.45e+05      0.000      1.000    -4.8e+05     4.8e+05\n",
      "element_109            2.8224    3.6e+05   7.84e-06      1.000   -7.06e+05    7.06e+05\n",
      "element_110           26.4799   2.45e+05      0.000      1.000    -4.8e+05     4.8e+05\n",
      "element_113           25.6352   2.45e+05      0.000      1.000    -4.8e+05     4.8e+05\n",
      "element_114            1.1663   7.83e+05   1.49e-06      1.000   -1.54e+06    1.54e+06\n",
      "element_115           26.5425   2.45e+05      0.000      1.000    -4.8e+05     4.8e+05\n",
      "element_116           25.2675   2.45e+05      0.000      1.000    -4.8e+05     4.8e+05\n",
      "element_117            2.0079   5.77e+05   3.48e-06      1.000   -1.13e+06    1.13e+06\n",
      "element_118           24.5985   2.45e+05      0.000      1.000    -4.8e+05     4.8e+05\n",
      "element_119           -0.3561   5.77e+05  -6.17e-07      1.000   -1.13e+06    1.13e+06\n",
      "element_120            1.8079   5.56e+05   3.25e-06      1.000   -1.09e+06    1.09e+06\n",
      "element_121            1.6437   3.45e+05   4.76e-06      1.000   -6.76e+05    6.76e+05\n",
      "element_122           27.0185   2.45e+05      0.000      1.000    -4.8e+05     4.8e+05\n",
      "element_123            1.1279   3.61e+05   3.13e-06      1.000   -7.07e+05    7.07e+05\n",
      "element_124           26.5271   2.45e+05      0.000      1.000    -4.8e+05     4.8e+05\n",
      "element_125           25.2020   2.45e+05      0.000      1.000    -4.8e+05     4.8e+05\n",
      "element_126           25.9332   2.45e+05      0.000      1.000    -4.8e+05     4.8e+05\n",
      "element_127           26.8302   2.45e+05      0.000      1.000    -4.8e+05     4.8e+05\n",
      "element_131            1.5771   4.15e+05    3.8e-06      1.000   -8.13e+05    8.13e+05\n",
      "element_132            1.0629   3.06e+05   3.48e-06      1.000   -5.99e+05    5.99e+05\n",
      "element_133           27.1462   2.45e+05      0.000      1.000    -4.8e+05     4.8e+05\n",
      "element_134            0.3241   2.97e+05   1.09e-06      1.000   -5.83e+05    5.83e+05\n",
      "element_138           24.7323   2.45e+05      0.000      1.000    -4.8e+05     4.8e+05\n",
      "element_139            4.0586   7.83e+05   5.18e-06      1.000   -1.54e+06    1.54e+06\n",
      "element_140            0.0392   3.97e+05   9.86e-08      1.000   -7.79e+05    7.79e+05\n",
      "element_141            1.0453   2.72e+05   3.85e-06      1.000   -5.33e+05    5.33e+05\n",
      "element_142           25.2600   2.45e+05      0.000      1.000    -4.8e+05     4.8e+05\n",
      "element_143           -0.1805   2.83e+05  -6.37e-07      1.000   -5.55e+05    5.55e+05\n",
      "element_145           24.5886   2.45e+05      0.000      1.000    -4.8e+05     4.8e+05\n",
      "element_146            2.1081   2.73e+05   7.72e-06      1.000   -5.35e+05    5.35e+05\n",
      "element_147           25.7338   2.45e+05      0.000      1.000    -4.8e+05     4.8e+05\n",
      "element_148            3.8483   7.83e+05   4.91e-06      1.000   -1.54e+06    1.54e+06\n",
      "element_149           25.6665   2.45e+05      0.000      1.000    -4.8e+05     4.8e+05\n",
      "element_150           24.5504   2.45e+05      0.000      1.000    -4.8e+05     4.8e+05\n",
      "element_151           26.3474   2.45e+05      0.000      1.000    -4.8e+05     4.8e+05\n",
      "element_152            0.1976   3.49e+05   5.66e-07      1.000   -6.85e+05    6.85e+05\n",
      "element_153            1.8526   3.15e+05   5.88e-06      1.000   -6.17e+05    6.17e+05\n",
      "element_156            0.1553   3.72e+05   4.18e-07      1.000   -7.29e+05    7.29e+05\n",
      "element_157           -0.1638   2.94e+05  -5.58e-07      1.000   -5.76e+05    5.76e+05\n",
      "element_158            1.2437   5.42e+05    2.3e-06      1.000   -1.06e+06    1.06e+06\n",
      "element_160           -0.2417   4.06e+05  -5.95e-07      1.000   -7.96e+05    7.96e+05\n",
      "element_161           25.7789   2.45e+05      0.000      1.000    -4.8e+05     4.8e+05\n",
      "element_162           25.3418   2.45e+05      0.000      1.000    -4.8e+05     4.8e+05\n",
      "element_164           25.9463   2.45e+05      0.000      1.000    -4.8e+05     4.8e+05\n",
      "element_167           26.5698   2.45e+05      0.000      1.000    -4.8e+05     4.8e+05\n",
      "element_168           -0.0961   2.89e+05  -3.32e-07      1.000   -5.67e+05    5.67e+05\n",
      "element_169            0.1761   3.04e+05   5.78e-07      1.000   -5.97e+05    5.97e+05\n",
      "element_170           26.7419   2.45e+05      0.000      1.000    -4.8e+05     4.8e+05\n",
      "element_172           25.7081   2.45e+05      0.000      1.000    -4.8e+05     4.8e+05\n",
      "element_175           26.2227   2.45e+05      0.000      1.000    -4.8e+05     4.8e+05\n",
      "element_176            0.9755   3.13e+05   3.12e-06      1.000   -6.13e+05    6.13e+05\n",
      "element_177           26.5025   2.45e+05      0.000      1.000    -4.8e+05     4.8e+05\n",
      "element_180            0.1213   2.97e+05   4.08e-07      1.000   -5.83e+05    5.83e+05\n",
      "element_181           24.6453   2.45e+05      0.000      1.000    -4.8e+05     4.8e+05\n",
      "element_182           25.1410   2.45e+05      0.000      1.000    -4.8e+05     4.8e+05\n",
      "element_183            0.3863   3.19e+05   1.21e-06      1.000   -6.26e+05    6.26e+05\n",
      "element_184           26.6661   2.45e+05      0.000      1.000    -4.8e+05     4.8e+05\n",
      "element_185            1.2418   3.01e+05   4.13e-06      1.000    -5.9e+05     5.9e+05\n",
      "element_186            1.8737   3.18e+05   5.89e-06      1.000   -6.24e+05    6.24e+05\n",
      "element_187            1.6434   4.42e+05   3.72e-06      1.000   -8.66e+05    8.66e+05\n",
      "element_189            0.4955   3.09e+05    1.6e-06      1.000   -6.06e+05    6.06e+05\n",
      "element_192           24.5769   2.45e+05      0.000      1.000    -4.8e+05     4.8e+05\n",
      "element_193           25.7799   2.45e+05      0.000      1.000    -4.8e+05     4.8e+05\n",
      "element_194            0.2520   3.65e+05    6.9e-07      1.000   -7.16e+05    7.16e+05\n",
      "element_195           24.6553   2.45e+05      0.000      1.000    -4.8e+05     4.8e+05\n",
      "element_197            0.0169   2.87e+05    5.9e-08      1.000   -5.63e+05    5.63e+05\n",
      "element_198           -0.0742   2.88e+05  -2.58e-07      1.000   -5.65e+05    5.65e+05\n",
      "element_199           -0.1127   2.98e+05  -3.78e-07      1.000   -5.85e+05    5.85e+05\n",
      "element_200           -0.2058   4.11e+05  -5.01e-07      1.000   -8.06e+05    8.06e+05\n",
      "element_201           24.8939   2.45e+05      0.000      1.000    -4.8e+05     4.8e+05\n",
      "element_202           -0.1685   2.89e+05  -5.83e-07      1.000   -5.67e+05    5.67e+05\n",
      "element_204            2.0315   3.52e+05   5.77e-06      1.000    -6.9e+05     6.9e+05\n",
      "element_205            2.0778   4.99e+05   4.16e-06      1.000   -9.78e+05    9.78e+05\n",
      "element_206            0.2646   2.84e+05   9.31e-07      1.000   -5.57e+05    5.57e+05\n",
      "element_207            1.6973   4.06e+05   4.18e-06      1.000   -7.95e+05    7.95e+05\n",
      "element_208            0.6876   3.16e+05   2.17e-06      1.000    -6.2e+05     6.2e+05\n",
      "element_209            1.4916   5.45e+05   2.74e-06      1.000   -1.07e+06    1.07e+06\n",
      "element_210           25.4785   2.45e+05      0.000      1.000    -4.8e+05     4.8e+05\n",
      "element_211           26.4573   2.45e+05      0.000      1.000    -4.8e+05     4.8e+05\n",
      "element_212            0.1931   3.18e+05   6.07e-07      1.000   -6.24e+05    6.24e+05\n",
      "element_215           -0.1410   3.02e+05  -4.68e-07      1.000   -5.91e+05    5.91e+05\n",
      "element_216           -0.1457   7.83e+05  -1.86e-07      1.000   -1.54e+06    1.54e+06\n",
      "element_217            0.5403   3.65e+05   1.48e-06      1.000   -7.15e+05    7.15e+05\n",
      "element_219           25.6920   2.45e+05      0.000      1.000    -4.8e+05     4.8e+05\n",
      "element_220           24.8664   2.45e+05      0.000      1.000    -4.8e+05     4.8e+05\n",
      "element_221           26.5268   2.45e+05      0.000      1.000    -4.8e+05     4.8e+05\n",
      "element_222            0.0949   3.06e+05    3.1e-07      1.000   -6.01e+05    6.01e+05\n",
      "element_223           26.1666   2.45e+05      0.000      1.000    -4.8e+05     4.8e+05\n",
      "element_224           25.8592   2.45e+05      0.000      1.000    -4.8e+05     4.8e+05\n",
      "element_225           25.0743   2.45e+05      0.000      1.000    -4.8e+05     4.8e+05\n",
      "element_226            0.2398   3.25e+05   7.38e-07      1.000   -6.37e+05    6.37e+05\n",
      "element_227           -0.1619   2.83e+05  -5.71e-07      1.000   -5.55e+05    5.55e+05\n",
      "element_228            1.4442    3.2e+05   4.52e-06      1.000   -6.26e+05    6.26e+05\n",
      "element_230            0.4961   3.76e+05   1.32e-06      1.000   -7.38e+05    7.38e+05\n",
      "element_231            1.1623   4.59e+05   2.53e-06      1.000   -8.99e+05    8.99e+05\n",
      "element_232           -0.1407   7.83e+05   -1.8e-07      1.000   -1.54e+06    1.54e+06\n",
      "element_233           26.2131   2.45e+05      0.000      1.000    -4.8e+05     4.8e+05\n",
      "element_234           25.9878   2.45e+05      0.000      1.000    -4.8e+05     4.8e+05\n",
      "element_235           27.0848   2.45e+05      0.000      1.000    -4.8e+05     4.8e+05\n",
      "element_236           27.0841   2.45e+05      0.000      1.000    -4.8e+05     4.8e+05\n",
      "element_239           25.6859   2.45e+05      0.000      1.000    -4.8e+05     4.8e+05\n",
      "element_240           -0.3760   5.79e+05  -6.49e-07      1.000   -1.13e+06    1.13e+06\n",
      "element_241            0.8587   3.08e+05   2.78e-06      1.000   -6.04e+05    6.04e+05\n",
      "element_242           -0.0243   3.15e+05   -7.7e-08      1.000   -6.17e+05    6.17e+05\n",
      "element_243            1.6416   2.66e+05   6.18e-06      1.000   -5.21e+05    5.21e+05\n",
      "element_245           26.0882   2.45e+05      0.000      1.000    -4.8e+05     4.8e+05\n",
      "element_246           25.6668   2.45e+05      0.000      1.000    -4.8e+05     4.8e+05\n",
      "element_247           26.6141   2.45e+05      0.000      1.000    -4.8e+05     4.8e+05\n",
      "element_249            0.5248   2.84e+05   1.85e-06      1.000   -5.56e+05    5.56e+05\n",
      "element_250           26.4791   2.45e+05      0.000      1.000    -4.8e+05     4.8e+05\n",
      "element_251           25.4293   2.45e+05      0.000      1.000    -4.8e+05     4.8e+05\n",
      "element_252           24.8226   2.45e+05      0.000      1.000    -4.8e+05     4.8e+05\n",
      "element_253           26.6977   2.45e+05      0.000      1.000    -4.8e+05     4.8e+05\n",
      "element_254           26.6622   2.45e+05      0.000      1.000    -4.8e+05     4.8e+05\n",
      "element_255           25.8563   2.45e+05      0.000      1.000    -4.8e+05     4.8e+05\n",
      "element_256           25.3483   2.45e+05      0.000      1.000    -4.8e+05     4.8e+05\n",
      "element_257           26.5078   2.45e+05      0.000      1.000    -4.8e+05     4.8e+05\n",
      "element_258           25.2100   2.45e+05      0.000      1.000    -4.8e+05     4.8e+05\n",
      "element_259            0.7393   5.13e+05   1.44e-06      1.000   -1.01e+06    1.01e+06\n",
      "element_262           -0.0198   2.98e+05  -6.66e-08      1.000   -5.84e+05    5.84e+05\n",
      "element_263            0.9734   2.92e+05   3.33e-06      1.000   -5.73e+05    5.73e+05\n",
      "element_264            0.3241   2.98e+05   1.09e-06      1.000   -5.85e+05    5.85e+05\n",
      "element_265           24.7750   2.45e+05      0.000      1.000    -4.8e+05     4.8e+05\n",
      "element_266           -0.1773   3.69e+05  -4.81e-07      1.000   -7.23e+05    7.23e+05\n",
      "element_267           27.4007   2.45e+05      0.000      1.000    -4.8e+05     4.8e+05\n",
      "element_268           24.5377   2.45e+05      0.000      1.000    -4.8e+05     4.8e+05\n",
      "element_269           25.6728   2.45e+05      0.000      1.000    -4.8e+05     4.8e+05\n",
      "element_270           27.3191   2.45e+05      0.000      1.000    -4.8e+05     4.8e+05\n",
      "element_271           26.3087   2.45e+05      0.000      1.000    -4.8e+05     4.8e+05\n",
      "element_272           25.7144   2.45e+05      0.000      1.000    -4.8e+05     4.8e+05\n",
      "element_273           26.0216   2.45e+05      0.000      1.000    -4.8e+05     4.8e+05\n",
      "element_274           25.8434   2.45e+05      0.000      1.000    -4.8e+05     4.8e+05\n",
      "element_275           27.3798   2.45e+05      0.000      1.000    -4.8e+05     4.8e+05\n",
      "element_276           26.4696   2.45e+05      0.000      1.000    -4.8e+05     4.8e+05\n",
      "element_277            2.1392   3.19e+05    6.7e-06      1.000   -6.26e+05    6.26e+05\n",
      "element_279           27.6264   2.45e+05      0.000      1.000    -4.8e+05     4.8e+05\n",
      "element_280           26.9632   2.45e+05      0.000      1.000    -4.8e+05     4.8e+05\n",
      "element_281           26.2358   2.45e+05      0.000      1.000    -4.8e+05     4.8e+05\n",
      "element_284           -0.1881   3.13e+05  -6.01e-07      1.000   -6.14e+05    6.14e+05\n",
      "element_285           25.3691   2.45e+05      0.000      1.000    -4.8e+05     4.8e+05\n",
      "element_286           25.4686   2.45e+05      0.000      1.000    -4.8e+05     4.8e+05\n",
      "element_287            0.1837   5.79e+05   3.17e-07      1.000   -1.13e+06    1.13e+06\n",
      "element_288           -0.1938   4.09e+05  -4.74e-07      1.000   -8.02e+05    8.02e+05\n",
      "element_289            0.8921    3.4e+05   2.63e-06      1.000   -6.66e+05    6.66e+05\n",
      "element_291            1.1374   2.93e+05   3.88e-06      1.000   -5.75e+05    5.75e+05\n",
      "element_292           -0.0935   2.91e+05  -3.21e-07      1.000    -5.7e+05     5.7e+05\n",
      "element_293           25.9937   2.45e+05      0.000      1.000    -4.8e+05     4.8e+05\n",
      "element_294           25.9812   2.45e+05      0.000      1.000    -4.8e+05     4.8e+05\n",
      "element_295           27.4867   2.45e+05      0.000      1.000    -4.8e+05     4.8e+05\n",
      "element_296           -0.1995   2.88e+05  -6.93e-07      1.000   -5.64e+05    5.64e+05\n",
      "element_297           26.4140   2.45e+05      0.000      1.000    -4.8e+05     4.8e+05\n",
      "element_298           26.4305   2.45e+05      0.000      1.000    -4.8e+05     4.8e+05\n",
      "element_299           26.3011   2.45e+05      0.000      1.000    -4.8e+05     4.8e+05\n",
      "element_300           26.2650   2.45e+05      0.000      1.000    -4.8e+05     4.8e+05\n",
      "element_301           26.2771   2.45e+05      0.000      1.000    -4.8e+05     4.8e+05\n",
      "element_302           26.8903   2.45e+05      0.000      1.000    -4.8e+05     4.8e+05\n",
      "element_303            1.4586   3.01e+05   4.84e-06      1.000    -5.9e+05     5.9e+05\n",
      "element_304            0.3664   3.29e+05   1.11e-06      1.000   -6.46e+05    6.46e+05\n",
      "element_305           26.9264   2.45e+05      0.000      1.000    -4.8e+05     4.8e+05\n",
      "element_306           25.0241   2.45e+05      0.000      1.000    -4.8e+05     4.8e+05\n",
      "element_310           24.7822   2.45e+05      0.000      1.000    -4.8e+05     4.8e+05\n",
      "element_311            0.0873   3.21e+05   2.72e-07      1.000    -6.3e+05     6.3e+05\n",
      "element_312           24.8239   2.45e+05      0.000      1.000    -4.8e+05     4.8e+05\n",
      "element_313            0.1515   2.98e+05   5.09e-07      1.000   -5.83e+05    5.83e+05\n",
      "element_314           -0.0245   4.07e+05  -6.04e-08      1.000   -7.97e+05    7.97e+05\n",
      "element_315           25.8369   2.45e+05      0.000      1.000    -4.8e+05     4.8e+05\n",
      "element_317           26.1711   2.45e+05      0.000      1.000    -4.8e+05     4.8e+05\n",
      "element_318           25.7140   2.45e+05      0.000      1.000    -4.8e+05     4.8e+05\n",
      "element_319           -0.0032   2.86e+05  -1.13e-08      1.000   -5.61e+05    5.61e+05\n",
      "element_320            0.4707   2.86e+05   1.65e-06      1.000   -5.61e+05    5.61e+05\n",
      "element_321           26.6977   2.45e+05      0.000      1.000    -4.8e+05     4.8e+05\n",
      "element_323           26.4017   2.45e+05      0.000      1.000    -4.8e+05     4.8e+05\n",
      "element_324           25.4887   2.45e+05      0.000      1.000    -4.8e+05     4.8e+05\n",
      "element_326           24.7460   2.45e+05      0.000      1.000    -4.8e+05     4.8e+05\n",
      "element_327            1.1597    2.9e+05      4e-06      1.000   -5.68e+05    5.68e+05\n",
      "element_330           -0.1216   3.17e+05  -3.83e-07      1.000   -6.22e+05    6.22e+05\n",
      "element_331           -0.1829   3.46e+05  -5.29e-07      1.000   -6.77e+05    6.77e+05\n",
      "element_332           25.7748   2.45e+05      0.000      1.000    -4.8e+05     4.8e+05\n",
      "element_333            0.2587   2.91e+05   8.89e-07      1.000   -5.71e+05    5.71e+05\n",
      "element_335           25.3148   2.45e+05      0.000      1.000    -4.8e+05     4.8e+05\n",
      "element_336           -0.1291   3.17e+05  -4.08e-07      1.000   -6.21e+05    6.21e+05\n",
      "element_337           28.0258   2.45e+05      0.000      1.000    -4.8e+05     4.8e+05\n",
      "element_338            0.4576   2.99e+05   1.53e-06      1.000   -5.85e+05    5.85e+05\n",
      "element_339            0.3614   2.83e+05   1.28e-06      1.000   -5.55e+05    5.55e+05\n",
      "element_340           24.9289   2.45e+05      0.000      1.000    -4.8e+05     4.8e+05\n",
      "element_343           25.2883   2.45e+05      0.000      1.000    -4.8e+05     4.8e+05\n",
      "element_344           25.7351   2.45e+05      0.000      1.000    -4.8e+05     4.8e+05\n",
      "element_345            0.7306   2.77e+05   2.64e-06      1.000   -5.43e+05    5.43e+05\n",
      "element_346            0.8233   2.96e+05   2.78e-06      1.000    -5.8e+05     5.8e+05\n",
      "element_347           26.4304   2.45e+05      0.000      1.000    -4.8e+05     4.8e+05\n",
      "element_348           25.6415   2.45e+05      0.000      1.000    -4.8e+05     4.8e+05\n",
      "element_349            0.9215   3.05e+05   3.02e-06      1.000   -5.97e+05    5.97e+05\n",
      "element_353           -0.1469   2.85e+05  -5.15e-07      1.000   -5.59e+05    5.59e+05\n",
      "element_354           26.3094   2.45e+05      0.000      1.000    -4.8e+05     4.8e+05\n",
      "element_355           -0.1148   3.12e+05  -3.68e-07      1.000   -6.12e+05    6.12e+05\n",
      "element_356            0.3163   2.88e+05    1.1e-06      1.000   -5.65e+05    5.65e+05\n",
      "element_357           26.4046   2.45e+05      0.000      1.000    -4.8e+05     4.8e+05\n",
      "element_358           28.6058   2.45e+05      0.000      1.000    -4.8e+05     4.8e+05\n",
      "element_359           25.8130   2.45e+05      0.000      1.000    -4.8e+05     4.8e+05\n",
      "element_360           26.9526   2.45e+05      0.000      1.000    -4.8e+05     4.8e+05\n",
      "element_361            0.2915   2.94e+05   9.92e-07      1.000   -5.76e+05    5.76e+05\n",
      "element_362            0.7507   3.19e+05   2.35e-06      1.000   -6.26e+05    6.26e+05\n",
      "element_363           26.3325   2.45e+05      0.000      1.000    -4.8e+05     4.8e+05\n",
      "element_364           27.0571   2.45e+05      0.000      1.000    -4.8e+05     4.8e+05\n",
      "element_365           25.8464   2.45e+05      0.000      1.000    -4.8e+05     4.8e+05\n",
      "element_366            1.5409   3.36e+05   4.59e-06      1.000   -6.58e+05    6.58e+05\n",
      "element_367           27.0200   2.45e+05      0.000      1.000    -4.8e+05     4.8e+05\n",
      "element_368            0.7570   2.69e+05   2.81e-06      1.000   -5.28e+05    5.28e+05\n",
      "element_369           25.6533   2.45e+05      0.000      1.000    -4.8e+05     4.8e+05\n",
      "element_370           25.7097   2.45e+05      0.000      1.000    -4.8e+05     4.8e+05\n",
      "element_371           27.5354   2.45e+05      0.000      1.000    -4.8e+05     4.8e+05\n",
      "element_372           26.5335   2.45e+05      0.000      1.000    -4.8e+05     4.8e+05\n",
      "element_376           -0.1823   2.85e+05  -6.39e-07      1.000   -5.59e+05    5.59e+05\n",
      "element_377            1.7275   7.83e+05   2.21e-06      1.000   -1.54e+06    1.54e+06\n",
      "element_378           26.6325   2.45e+05      0.000      1.000    -4.8e+05     4.8e+05\n",
      "element_379            1.3341   7.83e+05    1.7e-06      1.000   -1.54e+06    1.54e+06\n",
      "element_380            0.1342   2.98e+05   4.51e-07      1.000   -5.84e+05    5.84e+05\n",
      "element_381           25.5212   2.45e+05      0.000      1.000    -4.8e+05     4.8e+05\n",
      "element_382            0.6188   2.77e+05   2.23e-06      1.000   -5.43e+05    5.43e+05\n",
      "element_383           25.0505   2.45e+05      0.000      1.000    -4.8e+05     4.8e+05\n",
      "element_385           -0.1485   7.83e+05   -1.9e-07      1.000   -1.54e+06    1.54e+06\n",
      "element_386           26.5269   2.45e+05      0.000      1.000    -4.8e+05     4.8e+05\n",
      "element_387            1.9229   3.04e+05   6.33e-06      1.000   -5.95e+05    5.95e+05\n",
      "element_388            0.9962   3.19e+05   3.12e-06      1.000   -6.26e+05    6.26e+05\n",
      "element_389           25.4014   2.45e+05      0.000      1.000    -4.8e+05     4.8e+05\n",
      "element_390           26.3172   2.45e+05      0.000      1.000    -4.8e+05     4.8e+05\n",
      "element_391           26.0418   2.45e+05      0.000      1.000    -4.8e+05     4.8e+05\n",
      "element_392           25.7168   2.45e+05      0.000      1.000    -4.8e+05     4.8e+05\n",
      "element_393           25.4442   2.45e+05      0.000      1.000    -4.8e+05     4.8e+05\n",
      "element_394           26.2203   2.45e+05      0.000      1.000    -4.8e+05     4.8e+05\n",
      "element_395            0.7490   2.88e+05    2.6e-06      1.000   -5.65e+05    5.65e+05\n",
      "element_396           25.4472   2.45e+05      0.000      1.000    -4.8e+05     4.8e+05\n",
      "element_397            1.8015    5.8e+05   3.11e-06      1.000   -1.14e+06    1.14e+06\n",
      "element_402            0.0445   3.06e+05   1.45e-07      1.000   -5.99e+05    5.99e+05\n",
      "element_403            0.3162   2.96e+05   1.07e-06      1.000   -5.79e+05    5.79e+05\n",
      "element_405           24.9247   2.45e+05      0.000      1.000    -4.8e+05     4.8e+05\n",
      "element_406           -0.1348   2.87e+05  -4.69e-07      1.000   -5.63e+05    5.63e+05\n",
      "element_408            0.2881   3.79e+05   7.61e-07      1.000   -7.42e+05    7.42e+05\n",
      "element_409           -0.1965   2.87e+05  -6.85e-07      1.000   -5.62e+05    5.62e+05\n",
      "element_410           25.2121   2.45e+05      0.000      1.000    -4.8e+05     4.8e+05\n",
      "element_411           26.1155   2.45e+05      0.000      1.000    -4.8e+05     4.8e+05\n",
      "element_412           25.7400   2.45e+05      0.000      1.000    -4.8e+05     4.8e+05\n",
      "element_413           25.5959   2.45e+05      0.000      1.000    -4.8e+05     4.8e+05\n",
      "element_415           26.6863   2.45e+05      0.000      1.000    -4.8e+05     4.8e+05\n",
      "element_417           26.2129   2.45e+05      0.000      1.000    -4.8e+05     4.8e+05\n",
      "element_418            0.8545   3.19e+05   2.68e-06      1.000   -6.25e+05    6.25e+05\n",
      "element_419           26.6265   2.45e+05      0.000      1.000    -4.8e+05     4.8e+05\n",
      "element_423           -0.0819   2.85e+05  -2.88e-07      1.000   -5.58e+05    5.58e+05\n",
      "element_425           26.2442   2.45e+05      0.000      1.000    -4.8e+05     4.8e+05\n",
      "element_426            0.5752      3e+05   1.92e-06      1.000   -5.87e+05    5.87e+05\n",
      "element_427           -0.1386   2.85e+05  -4.86e-07      1.000   -5.59e+05    5.59e+05\n",
      "element_430           -0.1518   2.84e+05  -5.35e-07      1.000   -5.56e+05    5.56e+05\n",
      "element_431            1.3524   2.83e+05   4.79e-06      1.000   -5.54e+05    5.54e+05\n",
      "element_432           26.7028   2.45e+05      0.000      1.000    -4.8e+05     4.8e+05\n",
      "element_433           25.4294   2.45e+05      0.000      1.000    -4.8e+05     4.8e+05\n",
      "element_434           26.0985   2.45e+05      0.000      1.000    -4.8e+05     4.8e+05\n",
      "element_435           25.8327   2.45e+05      0.000      1.000    -4.8e+05     4.8e+05\n",
      "element_437           26.6181   2.45e+05      0.000      1.000    -4.8e+05     4.8e+05\n",
      "element_438           27.4765   2.45e+05      0.000      1.000    -4.8e+05     4.8e+05\n",
      "element_440           25.4496   2.45e+05      0.000      1.000    -4.8e+05     4.8e+05\n",
      "element_441            1.2457    4.4e+05   2.83e-06      1.000   -8.62e+05    8.62e+05\n",
      "element_443            3.8483   7.83e+05   4.91e-06      1.000   -1.54e+06    1.54e+06\n",
      "element_444           28.2464   2.45e+05      0.000      1.000    -4.8e+05     4.8e+05\n",
      "element_446           26.4403   2.45e+05      0.000      1.000    -4.8e+05     4.8e+05\n",
      "element_447           26.5875   2.45e+05      0.000      1.000    -4.8e+05     4.8e+05\n",
      "element_448           26.1758   2.45e+05      0.000      1.000    -4.8e+05     4.8e+05\n",
      "element_450           25.9115   2.45e+05      0.000      1.000    -4.8e+05     4.8e+05\n",
      "element_451            0.2973    2.8e+05   1.06e-06      1.000   -5.48e+05    5.48e+05\n",
      "element_453           26.2957   2.45e+05      0.000      1.000    -4.8e+05     4.8e+05\n",
      "element_455           24.9085   2.45e+05      0.000      1.000    -4.8e+05     4.8e+05\n",
      "element_456           25.8044   2.45e+05      0.000      1.000    -4.8e+05     4.8e+05\n",
      "element_458           25.1968   2.45e+05      0.000      1.000    -4.8e+05     4.8e+05\n",
      "element_459           -0.1562   2.85e+05  -5.48e-07      1.000   -5.59e+05    5.59e+05\n",
      "element_460            0.1567    2.9e+05   5.41e-07      1.000   -5.68e+05    5.68e+05\n",
      "element_461           25.1647   2.45e+05      0.000      1.000    -4.8e+05     4.8e+05\n",
      "element_462           26.6972   2.45e+05      0.000      1.000    -4.8e+05     4.8e+05\n",
      "element_463           -0.2012   3.02e+05  -6.65e-07      1.000   -5.93e+05    5.93e+05\n",
      "element_464           -0.0900   3.01e+05     -3e-07      1.000   -5.89e+05    5.89e+05\n",
      "element_465           25.9768   2.45e+05      0.000      1.000    -4.8e+05     4.8e+05\n",
      "element_466            0.5777   2.87e+05   2.01e-06      1.000   -5.63e+05    5.63e+05\n",
      "element_467           -0.0988   3.68e+05  -2.69e-07      1.000   -7.21e+05    7.21e+05\n",
      "element_471           26.0897   2.45e+05      0.000      1.000    -4.8e+05     4.8e+05\n",
      "element_472            2.2474    2.7e+05   8.32e-06      1.000   -5.29e+05    5.29e+05\n",
      "element_473            0.5865   3.35e+05   1.75e-06      1.000   -6.56e+05    6.56e+05\n",
      "element_475           26.6479   2.45e+05      0.000      1.000    -4.8e+05     4.8e+05\n",
      "element_476            0.9176   3.07e+05   2.99e-06      1.000   -6.01e+05    6.01e+05\n",
      "element_478            0.1564   2.84e+05    5.5e-07      1.000   -5.57e+05    5.57e+05\n",
      "element_479           26.4626   2.45e+05      0.000      1.000    -4.8e+05     4.8e+05\n",
      "element_480           25.6800   2.45e+05      0.000      1.000    -4.8e+05     4.8e+05\n",
      "element_481            1.2760   3.23e+05   3.95e-06      1.000   -6.33e+05    6.33e+05\n",
      "element_482           25.2032   2.45e+05      0.000      1.000    -4.8e+05     4.8e+05\n",
      "element_483           24.8179   2.45e+05      0.000      1.000    -4.8e+05     4.8e+05\n",
      "element_484           25.8565   2.45e+05      0.000      1.000    -4.8e+05     4.8e+05\n",
      "element_486           26.5435   2.45e+05      0.000      1.000    -4.8e+05     4.8e+05\n",
      "element_487            0.0379   3.18e+05   1.19e-07      1.000   -6.22e+05    6.22e+05\n",
      "element_488            1.1383   3.02e+05   3.77e-06      1.000   -5.92e+05    5.92e+05\n",
      "element_489           26.0186   2.45e+05      0.000      1.000    -4.8e+05     4.8e+05\n",
      "element_491            0.0834   7.83e+05   1.07e-07      1.000   -1.54e+06    1.54e+06\n",
      "element_492            0.7398   2.97e+05   2.49e-06      1.000   -5.82e+05    5.82e+05\n",
      "element_493           26.0851   2.45e+05      0.000      1.000    -4.8e+05     4.8e+05\n",
      "element_494           24.9210   2.45e+05      0.000      1.000    -4.8e+05     4.8e+05\n",
      "element_495            1.4720   3.01e+05   4.88e-06      1.000   -5.91e+05    5.91e+05\n",
      "element_497           30.5014   2.45e+05      0.000      1.000    -4.8e+05     4.8e+05\n",
      "element_499           25.9134   2.45e+05      0.000      1.000    -4.8e+05     4.8e+05\n",
      "element_500           25.8356   2.45e+05      0.000      1.000    -4.8e+05     4.8e+05\n",
      "element_502            0.8062   3.23e+05   2.49e-06      1.000   -6.34e+05    6.34e+05\n",
      "element_503           24.9212   2.45e+05      0.000      1.000    -4.8e+05     4.8e+05\n",
      "element_504           25.8952   2.45e+05      0.000      1.000    -4.8e+05     4.8e+05\n",
      "element_505           25.2954   2.45e+05      0.000      1.000    -4.8e+05     4.8e+05\n",
      "element_506            0.8524   2.95e+05   2.89e-06      1.000   -5.79e+05    5.79e+05\n",
      "element_507           26.6002   2.45e+05      0.000      1.000    -4.8e+05     4.8e+05\n",
      "element_508           25.0596   2.45e+05      0.000      1.000    -4.8e+05     4.8e+05\n",
      "element_510           25.1585   2.45e+05      0.000      1.000    -4.8e+05     4.8e+05\n",
      "element_511            0.3486   3.27e+05   1.06e-06      1.000   -6.42e+05    6.42e+05\n",
      "element_512            0.5429   3.16e+05   1.72e-06      1.000    -6.2e+05     6.2e+05\n",
      "element_513           26.8230   2.45e+05      0.000      1.000    -4.8e+05     4.8e+05\n",
      "element_514           25.9128   2.45e+05      0.000      1.000    -4.8e+05     4.8e+05\n",
      "element_515            0.7965   3.32e+05    2.4e-06      1.000    -6.5e+05     6.5e+05\n",
      "element_516           25.9139   2.45e+05      0.000      1.000    -4.8e+05     4.8e+05\n",
      "element_517            0.7525   3.48e+05   2.16e-06      1.000   -6.82e+05    6.82e+05\n",
      "element_518            1.0330   3.53e+05   2.92e-06      1.000   -6.92e+05    6.92e+05\n",
      "element_519            0.3720   3.51e+05   1.06e-06      1.000   -6.87e+05    6.87e+05\n",
      "element_521            1.3000   4.37e+05   2.98e-06      1.000   -8.56e+05    8.56e+05\n",
      "element_522            2.4036   3.71e+05   6.48e-06      1.000   -7.27e+05    7.27e+05\n",
      "element_523            3.6606   7.83e+05   4.67e-06      1.000   -1.54e+06    1.54e+06\n",
      "element_524            1.3446   2.68e+05   5.01e-06      1.000   -5.26e+05    5.26e+05\n",
      "element_526           25.5021   2.45e+05      0.000      1.000    -4.8e+05     4.8e+05\n",
      "element_527           24.7193   2.45e+05      0.000      1.000    -4.8e+05     4.8e+05\n",
      "element_531           26.3362   2.45e+05      0.000      1.000    -4.8e+05     4.8e+05\n",
      "element_534           26.3828   2.45e+05      0.000      1.000    -4.8e+05     4.8e+05\n",
      "element_535           26.5011   2.45e+05      0.000      1.000    -4.8e+05     4.8e+05\n",
      "element_539           26.0724   2.45e+05      0.000      1.000    -4.8e+05     4.8e+05\n",
      "element_540            1.2704   3.33e+05   3.81e-06      1.000   -6.53e+05    6.53e+05\n",
      "element_543           27.5135   2.45e+05      0.000      1.000    -4.8e+05     4.8e+05\n",
      "element_544            2.5269    4.7e+05   5.37e-06      1.000   -9.22e+05    9.22e+05\n",
      "element_549           -0.2396   3.89e+05  -6.16e-07      1.000   -7.63e+05    7.63e+05\n",
      "element_550           27.5578   2.45e+05      0.000      1.000    -4.8e+05     4.8e+05\n",
      "element_552            4.0747   7.83e+05    5.2e-06      1.000   -1.54e+06    1.54e+06\n",
      "element_556            0.1864   3.15e+05   5.91e-07      1.000   -6.18e+05    6.18e+05\n",
      "element_557            4.3541   7.83e+05   5.56e-06      1.000   -1.54e+06    1.54e+06\n",
      "element_560            1.0658   7.83e+05   1.36e-06      1.000   -1.54e+06    1.54e+06\n",
      "element_562            4.2704   7.83e+05   5.45e-06      1.000   -1.54e+06    1.54e+06\n",
      "element_563            1.9024   7.83e+05   2.43e-06      1.000   -1.54e+06    1.54e+06\n",
      "element_565            0.4600   7.83e+05   5.87e-07      1.000   -1.54e+06    1.54e+06\n",
      "element_566            3.2954   7.83e+05   4.21e-06      1.000   -1.54e+06    1.54e+06\n",
      "element_568            1.7913   7.83e+05   2.29e-06      1.000   -1.54e+06    1.54e+06\n",
      "element_569           27.3055   2.45e+05      0.000      1.000    -4.8e+05     4.8e+05\n",
      "element_570            1.2668   3.68e+05   3.44e-06      1.000   -7.21e+05    7.21e+05\n",
      "element_571           26.6925   2.45e+05      0.000      1.000    -4.8e+05     4.8e+05\n",
      "element_573            1.1553   7.83e+05   1.48e-06      1.000   -1.54e+06    1.54e+06\n",
      "element_574            3.2743   4.59e+05   7.14e-06      1.000   -8.99e+05    8.99e+05\n",
      "element_575           27.4003   2.45e+05      0.000      1.000    -4.8e+05     4.8e+05\n",
      "element_579           -0.0475   4.81e+05  -9.87e-08      1.000   -9.43e+05    9.43e+05\n",
      "element_580            3.6985   4.98e+05   7.42e-06      1.000   -9.77e+05    9.77e+05\n",
      "element_581            0.6092   7.83e+05   7.78e-07      1.000   -1.54e+06    1.54e+06\n",
      "element_585            1.8835   5.51e+05   3.42e-06      1.000   -1.08e+06    1.08e+06\n",
      "element_586            1.5637   5.75e+05   2.72e-06      1.000   -1.13e+06    1.13e+06\n",
      "element_587            1.4021   7.83e+05   1.79e-06      1.000   -1.54e+06    1.54e+06\n",
      "element_588            3.1900   7.83e+05   4.07e-06      1.000   -1.54e+06    1.54e+06\n",
      "element_589            1.6708   4.99e+05   3.35e-06      1.000   -9.78e+05    9.78e+05\n",
      "element_590           29.4589   2.45e+05      0.000      1.000    -4.8e+05     4.8e+05\n",
      "element_591            0.0765   7.83e+05   9.77e-08      1.000   -1.54e+06    1.54e+06\n",
      "element_592           28.5246   2.45e+05      0.000      1.000    -4.8e+05     4.8e+05\n",
      "======================================================================================\n"
     ]
    }
   ],
   "source": [
    "print(eppmm_results.summary())"
   ]
  },
  {
   "cell_type": "markdown",
   "metadata": {
    "heading_collapsed": true,
    "hidden": true
   },
   "source": [
    "### Model fit"
   ]
  },
  {
   "cell_type": "code",
   "execution_count": 107,
   "metadata": {
    "ExecuteTime": {
     "end_time": "2019-03-16T16:03:58.581860Z",
     "start_time": "2019-03-16T16:03:58.577878Z"
    },
    "hidden": true
   },
   "outputs": [
    {
     "data": {
      "text/plain": [
       "4357.6681333468905"
      ]
     },
     "execution_count": 107,
     "metadata": {},
     "output_type": "execute_result"
    }
   ],
   "source": [
    "eppmm_results.aic"
   ]
  },
  {
   "cell_type": "code",
   "execution_count": 108,
   "metadata": {
    "ExecuteTime": {
     "end_time": "2019-03-16T16:03:58.609610Z",
     "start_time": "2019-03-16T16:03:58.583832Z"
    },
    "hidden": true
   },
   "outputs": [
    {
     "data": {
      "text/plain": [
       "-52457.00034434606"
      ]
     },
     "execution_count": 108,
     "metadata": {},
     "output_type": "execute_result"
    }
   ],
   "source": [
    "eppmm_results.bic"
   ]
  },
  {
   "cell_type": "code",
   "execution_count": 109,
   "metadata": {
    "ExecuteTime": {
     "end_time": "2019-03-16T16:03:58.635358Z",
     "start_time": "2019-03-16T16:03:58.611651Z"
    },
    "hidden": true
   },
   "outputs": [
    {
     "data": {
      "text/plain": [
       "(False, 1.0)"
      ]
     },
     "execution_count": 109,
     "metadata": {},
     "output_type": "execute_result"
    }
   ],
   "source": [
    "eppmm_pearson_results = goodness_fit.pearson_chi_squared_test(eppmm_results)\n",
    "eppmm_pearson_results"
   ]
  },
  {
   "cell_type": "code",
   "execution_count": 110,
   "metadata": {
    "ExecuteTime": {
     "end_time": "2019-03-16T16:03:58.664113Z",
     "start_time": "2019-03-16T16:03:58.637339Z"
    },
    "hidden": true
   },
   "outputs": [
    {
     "data": {
      "text/plain": [
       "count    6673.000000\n",
       "mean       -0.146392\n",
       "std         0.557973\n",
       "min        -1.522447\n",
       "25%        -0.467557\n",
       "50%        -0.258218\n",
       "75%        -0.000001\n",
       "max         2.983596\n",
       "dtype: float64"
      ]
     },
     "execution_count": 110,
     "metadata": {},
     "output_type": "execute_result"
    }
   ],
   "source": [
    "eppmm_results.resid_deviance.describe()"
   ]
  },
  {
   "cell_type": "code",
   "execution_count": 111,
   "metadata": {
    "ExecuteTime": {
     "end_time": "2019-03-16T16:03:58.935165Z",
     "start_time": "2019-03-16T16:03:58.666064Z"
    },
    "hidden": true
   },
   "outputs": [
    {
     "data": {
      "image/png": "[encoded data removed]",
      "text/plain": [
       "<Figure size 432x288 with 1 Axes>"
      ]
     },
     "metadata": {
      "needs_background": "light"
     },
     "output_type": "display_data"
    }
   ],
   "source": [
    "plt.figure()\n",
    "plt.hist(eppmm_results.resid_deviance, bins=20)\n",
    "plt.show()"
   ]
  },
  {
   "cell_type": "markdown",
   "metadata": {
    "heading_collapsed": true
   },
   "source": [
    "## Simple Gaussian model"
   ]
  },
  {
   "cell_type": "markdown",
   "metadata": {
    "hidden": true
   },
   "source": [
    "### Preparing data"
   ]
  },
  {
   "cell_type": "code",
   "execution_count": 112,
   "metadata": {
    "ExecuteTime": {
     "end_time": "2019-03-16T16:03:58.943539Z",
     "start_time": "2019-03-16T16:03:58.937241Z"
    },
    "hidden": true
   },
   "outputs": [],
   "source": [
    "sgm_df = element_gameweek_df.copy()"
   ]
  },
  {
   "cell_type": "code",
   "execution_count": 113,
   "metadata": {
    "ExecuteTime": {
     "end_time": "2019-03-16T16:03:58.983272Z",
     "start_time": "2019-03-16T16:03:58.945556Z"
    },
    "hidden": true
   },
   "outputs": [],
   "source": [
    "sgm_redundant_columns = [\n",
    "    'row_id', 'goals_scored', 'attempted_passes', 'big_chances_created',\n",
    "    'big_chances_missed', 'bonus', 'bps', 'clean_sheets',\n",
    "    'clearances_blocks_interceptions', 'completed_passes', 'creativity',\n",
    "    'dribbles', 'ea_index', 'element', 'errors_leading_to_goal',\n",
    "    'errors_leading_to_goal_attempt', 'fixture', 'fouls', 'goals_conceded',\n",
    "    'ict_index', 'id', 'influence', 'key_passes', 'kickoff_time',\n",
    "    'kickoff_time_formatted', 'loaned_in', 'loaned_out', 'minutes', 'offside',\n",
    "    'open_play_crosses', 'opponent_team', 'own_goals', 'penalties_conceded',\n",
    "    'penalties_missed', 'penalties_saved', 'recoveries', 'red_cards', 'round',\n",
    "    'saves', 'selected', 'tackled', 'tackles', 'target_missed', 'team_a_score',\n",
    "    'team_h_score', 'threat', 'total_points', 'transfers_balance',\n",
    "    'transfers_in', 'transfers_out', 'value', 'winning_goals',\n",
    "    'yellow_cards', 'event', 'team_a', 'team_a_difficulty', 'team_h',\n",
    "    'team_h_difficulty', 'element_type', 'team', 'web_name', 'safe_web_name',\n",
    "    'own_team', 'opposition_team'\n",
    "]"
   ]
  },
  {
   "cell_type": "code",
   "execution_count": 114,
   "metadata": {
    "ExecuteTime": {
     "end_time": "2019-03-16T16:03:59.009227Z",
     "start_time": "2019-03-16T16:03:58.985296Z"
    },
    "hidden": true
   },
   "outputs": [],
   "source": [
    "sgm_df = player.remove_redundant_columns(sgm_df, sgm_redundant_columns)"
   ]
  },
  {
   "cell_type": "code",
   "execution_count": 115,
   "metadata": {
    "ExecuteTime": {
     "end_time": "2019-03-16T16:03:59.036837Z",
     "start_time": "2019-03-16T16:03:59.011193Z"
    },
    "hidden": true
   },
   "outputs": [],
   "source": [
    "sgm_response_df, sgm_explanatory_df = player.get_response_explanatory_dfs(sgm_df, 'assists')"
   ]
  },
  {
   "cell_type": "markdown",
   "metadata": {
    "heading_collapsed": true,
    "hidden": true
   },
   "source": [
    "### Fitting model"
   ]
  },
  {
   "cell_type": "code",
   "execution_count": 116,
   "metadata": {
    "ExecuteTime": {
     "end_time": "2019-03-16T16:03:59.067721Z",
     "start_time": "2019-03-16T16:03:59.038813Z"
    },
    "hidden": true
   },
   "outputs": [],
   "source": [
    "sgm_results = sm.GLM(\n",
    "    sgm_response_df,\n",
    "    sgm_explanatory_df,\n",
    "    family=sm.families.Gaussian(),\n",
    "    missing='drop'\n",
    ").fit()"
   ]
  },
  {
   "cell_type": "code",
   "execution_count": 117,
   "metadata": {
    "ExecuteTime": {
     "end_time": "2019-03-16T16:03:59.096389Z",
     "start_time": "2019-03-16T16:03:59.072110Z"
    },
    "hidden": true
   },
   "outputs": [
    {
     "name": "stdout",
     "output_type": "stream",
     "text": [
      "                  Generalized Linear Model Regression Results                  \n",
      "===============================================================================\n",
      "Dep. Variable:                assists   No. Observations:                  6675\n",
      "Model:                            GLM   Df Residuals:                      6673\n",
      "Model Family:                Gaussian   Df Model:                             1\n",
      "Link Function:               identity   Scale:              0.10271843445966616\n",
      "Method:                          IRLS   Log-Likelihood:                 -1875.1\n",
      "Date:                Sat, 16 Mar 2019   Deviance:                        685.44\n",
      "Time:                        16:03:59   Pearson chi2:                      685.\n",
      "No. Iterations:                     2                                          \n",
      "==============================================================================\n",
      "                 coef    std err          z      P>|z|      [0.025      0.975]\n",
      "------------------------------------------------------------------------------\n",
      "const          0.0881      0.006     15.880      0.000       0.077       0.099\n",
      "was_home       0.0153      0.008      1.944      0.052      -0.000       0.031\n",
      "==============================================================================\n"
     ]
    }
   ],
   "source": [
    "print(sgm_results.summary())"
   ]
  },
  {
   "cell_type": "markdown",
   "metadata": {
    "heading_collapsed": true,
    "hidden": true
   },
   "source": [
    "### Model fit"
   ]
  },
  {
   "cell_type": "code",
   "execution_count": 118,
   "metadata": {
    "ExecuteTime": {
     "end_time": "2019-03-16T16:03:59.111334Z",
     "start_time": "2019-03-16T16:03:59.100877Z"
    },
    "hidden": true
   },
   "outputs": [
    {
     "data": {
      "text/plain": [
       "3754.1065545383826"
      ]
     },
     "execution_count": 118,
     "metadata": {},
     "output_type": "execute_result"
    }
   ],
   "source": [
    "sgm_results.aic"
   ]
  },
  {
   "cell_type": "code",
   "execution_count": 119,
   "metadata": {
    "ExecuteTime": {
     "end_time": "2019-03-16T16:03:59.136670Z",
     "start_time": "2019-03-16T16:03:59.114552Z"
    },
    "hidden": true
   },
   "outputs": [
    {
     "data": {
      "text/plain": [
       "-58077.82856370101"
      ]
     },
     "execution_count": 119,
     "metadata": {},
     "output_type": "execute_result"
    }
   ],
   "source": [
    "sgm_results.bic"
   ]
  },
  {
   "cell_type": "code",
   "execution_count": 120,
   "metadata": {
    "ExecuteTime": {
     "end_time": "2019-03-16T16:03:59.163567Z",
     "start_time": "2019-03-16T16:03:59.139314Z"
    },
    "hidden": true
   },
   "outputs": [
    {
     "data": {
      "text/plain": [
       "(False, 1.0)"
      ]
     },
     "execution_count": 120,
     "metadata": {},
     "output_type": "execute_result"
    }
   ],
   "source": [
    "sgm_pearson_results = goodness_fit.pearson_chi_squared_test(sgm_results)\n",
    "sgm_pearson_results"
   ]
  },
  {
   "cell_type": "code",
   "execution_count": 121,
   "metadata": {
    "ExecuteTime": {
     "end_time": "2019-03-16T16:03:59.194490Z",
     "start_time": "2019-03-16T16:03:59.166042Z"
    },
    "hidden": true
   },
   "outputs": [
    {
     "data": {
      "text/plain": [
       "count    6.675000e+03\n",
       "mean     3.619244e-17\n",
       "std      3.204732e-01\n",
       "min     -1.033553e-01\n",
       "25%     -1.033553e-01\n",
       "50%     -8.810309e-02\n",
       "75%     -8.810309e-02\n",
       "max      2.911897e+00\n",
       "dtype: float64"
      ]
     },
     "execution_count": 121,
     "metadata": {},
     "output_type": "execute_result"
    }
   ],
   "source": [
    "sgm_results.resid_deviance.describe()"
   ]
  },
  {
   "cell_type": "code",
   "execution_count": 122,
   "metadata": {
    "ExecuteTime": {
     "end_time": "2019-03-16T16:03:59.458980Z",
     "start_time": "2019-03-16T16:03:59.197513Z"
    },
    "hidden": true
   },
   "outputs": [
    {
     "data": {
      "image/png": "[encoded data removed]",
      "text/plain": [
       "<Figure size 432x288 with 1 Axes>"
      ]
     },
     "metadata": {
      "needs_background": "light"
     },
     "output_type": "display_data"
    }
   ],
   "source": [
    "plt.figure()\n",
    "plt.hist(sgm_results.resid_deviance)\n",
    "plt.show()"
   ]
  },
  {
   "cell_type": "markdown",
   "metadata": {
    "heading_collapsed": true
   },
   "source": [
    "## Simple Gaussian teams model"
   ]
  },
  {
   "cell_type": "markdown",
   "metadata": {
    "heading_collapsed": true,
    "hidden": true
   },
   "source": [
    "### Preparing data"
   ]
  },
  {
   "cell_type": "code",
   "execution_count": 123,
   "metadata": {
    "ExecuteTime": {
     "end_time": "2019-03-16T16:03:59.465352Z",
     "start_time": "2019-03-16T16:03:59.461091Z"
    },
    "hidden": true
   },
   "outputs": [],
   "source": [
    "sgtm_df = element_gameweek_df.copy()"
   ]
  },
  {
   "cell_type": "code",
   "execution_count": 124,
   "metadata": {
    "ExecuteTime": {
     "end_time": "2019-03-16T16:03:59.505652Z",
     "start_time": "2019-03-16T16:03:59.467446Z"
    },
    "hidden": true
   },
   "outputs": [],
   "source": [
    "sgtm_df = player.add_categorical_variables(sgtm_df, 'element_type')\n",
    "sgtm_df = player.add_categorical_variables(sgtm_df, 'opposition_team')\n",
    "sgtm_df = player.add_categorical_variables(sgtm_df, 'own_team')"
   ]
  },
  {
   "cell_type": "code",
   "execution_count": 125,
   "metadata": {
    "ExecuteTime": {
     "end_time": "2019-03-16T16:03:59.517514Z",
     "start_time": "2019-03-16T16:03:59.507865Z"
    },
    "hidden": true
   },
   "outputs": [],
   "source": [
    "sgtm_redundant_columns = [\n",
    "    'row_id', 'goals_scored', 'attempted_passes', 'big_chances_created',\n",
    "    'big_chances_missed', 'bonus', 'bps', 'clean_sheets',\n",
    "    'clearances_blocks_interceptions', 'completed_passes', 'creativity',\n",
    "    'dribbles', 'ea_index', 'element', 'errors_leading_to_goal',\n",
    "    'errors_leading_to_goal_attempt', 'fixture', 'fouls', 'goals_conceded',\n",
    "    'ict_index', 'id', 'influence', 'key_passes', 'kickoff_time',\n",
    "    'kickoff_time_formatted', 'loaned_in', 'loaned_out', 'minutes', 'offside',\n",
    "    'open_play_crosses', 'opponent_team', 'own_goals', 'penalties_conceded',\n",
    "    'penalties_missed', 'penalties_saved', 'recoveries', 'red_cards', 'round',\n",
    "    'saves', 'selected', 'tackled', 'tackles', 'target_missed', 'team_a_score',\n",
    "    'team_h_score', 'threat', 'total_points', 'transfers_balance',\n",
    "    'transfers_in', 'transfers_out', 'value', 'winning_goals',\n",
    "    'yellow_cards', 'event', 'team_a', 'team_a_difficulty', 'team_h',\n",
    "    'team_h_difficulty', 'element_type', 'team', 'web_name', 'safe_web_name',\n",
    "    'own_team', 'opposition_team'\n",
    "]"
   ]
  },
  {
   "cell_type": "code",
   "execution_count": 126,
   "metadata": {
    "ExecuteTime": {
     "end_time": "2019-03-16T16:03:59.546964Z",
     "start_time": "2019-03-16T16:03:59.519642Z"
    },
    "hidden": true
   },
   "outputs": [],
   "source": [
    "sgtm_df = player.remove_redundant_columns(sgtm_df, sgtm_redundant_columns)"
   ]
  },
  {
   "cell_type": "code",
   "execution_count": 127,
   "metadata": {
    "ExecuteTime": {
     "end_time": "2019-03-16T16:03:59.584888Z",
     "start_time": "2019-03-16T16:03:59.549032Z"
    },
    "hidden": true
   },
   "outputs": [],
   "source": [
    "sgtm_response_df, sgtm_explanatory_df = player.get_response_explanatory_dfs(sgtm_df, 'assists')"
   ]
  },
  {
   "cell_type": "code",
   "execution_count": 128,
   "metadata": {
    "ExecuteTime": {
     "end_time": "2019-03-16T16:03:59.594603Z",
     "start_time": "2019-03-16T16:03:59.587131Z"
    },
    "hidden": true
   },
   "outputs": [
    {
     "data": {
      "text/plain": [
       "Index(['const', 'was_home', 'element_type_3', 'element_type_4',\n",
       "       'opposition_team_2', 'opposition_team_3', 'opposition_team_4',\n",
       "       'opposition_team_5', 'opposition_team_6', 'opposition_team_7',\n",
       "       'opposition_team_8', 'opposition_team_9', 'opposition_team_10',\n",
       "       'opposition_team_11', 'opposition_team_12', 'opposition_team_13',\n",
       "       'opposition_team_14', 'opposition_team_15', 'opposition_team_16',\n",
       "       'opposition_team_17', 'opposition_team_18', 'opposition_team_19',\n",
       "       'opposition_team_20', 'own_team_2', 'own_team_3', 'own_team_4',\n",
       "       'own_team_5', 'own_team_6', 'own_team_7', 'own_team_8', 'own_team_9',\n",
       "       'own_team_10', 'own_team_11', 'own_team_12', 'own_team_13',\n",
       "       'own_team_14', 'own_team_15', 'own_team_16', 'own_team_17',\n",
       "       'own_team_18', 'own_team_19', 'own_team_20'],\n",
       "      dtype='object')"
      ]
     },
     "execution_count": 128,
     "metadata": {},
     "output_type": "execute_result"
    }
   ],
   "source": [
    "sgtm_explanatory_df.columns"
   ]
  },
  {
   "cell_type": "code",
   "execution_count": 129,
   "metadata": {
    "ExecuteTime": {
     "end_time": "2019-03-16T16:03:59.619475Z",
     "start_time": "2019-03-16T16:03:59.596584Z"
    },
    "hidden": true
   },
   "outputs": [
    {
     "data": {
      "text/plain": [
       "76    0\n",
       "78    0\n",
       "79    0\n",
       "80    0\n",
       "81    0\n",
       "Name: assists, dtype: int64"
      ]
     },
     "execution_count": 129,
     "metadata": {},
     "output_type": "execute_result"
    }
   ],
   "source": [
    "sgtm_response_df.head()"
   ]
  },
  {
   "cell_type": "markdown",
   "metadata": {
    "heading_collapsed": true,
    "hidden": true
   },
   "source": [
    "### Fitting model"
   ]
  },
  {
   "cell_type": "code",
   "execution_count": 130,
   "metadata": {
    "ExecuteTime": {
     "end_time": "2019-03-16T16:03:59.727822Z",
     "start_time": "2019-03-16T16:03:59.621432Z"
    },
    "hidden": true
   },
   "outputs": [],
   "source": [
    "sgtm_results = sm.GLM(\n",
    "    sgtm_response_df,\n",
    "    sgtm_explanatory_df,\n",
    "    family=sm.families.Gaussian(),\n",
    "    missing='drop'\n",
    ").fit()"
   ]
  },
  {
   "cell_type": "code",
   "execution_count": 131,
   "metadata": {
    "ExecuteTime": {
     "end_time": "2019-03-16T16:03:59.768741Z",
     "start_time": "2019-03-16T16:03:59.731767Z"
    },
    "hidden": true
   },
   "outputs": [
    {
     "name": "stdout",
     "output_type": "stream",
     "text": [
      "                  Generalized Linear Model Regression Results                  \n",
      "===============================================================================\n",
      "Dep. Variable:                assists   No. Observations:                  6675\n",
      "Model:                            GLM   Df Residuals:                      6633\n",
      "Model Family:                Gaussian   Df Model:                            41\n",
      "Link Function:               identity   Scale:              0.10062820843655543\n",
      "Method:                          IRLS   Log-Likelihood:                 -1786.4\n",
      "Date:                Sat, 16 Mar 2019   Deviance:                        667.47\n",
      "Time:                        16:03:59   Pearson chi2:                      667.\n",
      "No. Iterations:                     2                                          \n",
      "======================================================================================\n",
      "                         coef    std err          z      P>|z|      [0.025      0.975]\n",
      "--------------------------------------------------------------------------------------\n",
      "const                  0.1106      0.026      4.284      0.000       0.060       0.161\n",
      "was_home               0.0148      0.008      1.905      0.057      -0.000       0.030\n",
      "element_type_3         0.0460      0.009      5.349      0.000       0.029       0.063\n",
      "element_type_4         0.0594      0.012      5.126      0.000       0.037       0.082\n",
      "opposition_team_2      0.0260      0.025      1.057      0.291      -0.022       0.074\n",
      "opposition_team_3     -0.0082      0.025     -0.330      0.741      -0.057       0.040\n",
      "opposition_team_4      0.0359      0.025      1.454      0.146      -0.012       0.084\n",
      "opposition_team_5      0.0323      0.025      1.300      0.193      -0.016       0.081\n",
      "opposition_team_6     -0.0212      0.025     -0.854      0.393      -0.070       0.027\n",
      "opposition_team_7     -0.0083      0.025     -0.335      0.738      -0.057       0.040\n",
      "opposition_team_8      0.0031      0.025      0.126      0.900      -0.045       0.051\n",
      "opposition_team_9      0.0518      0.025      2.090      0.037       0.003       0.100\n",
      "opposition_team_10     0.0299      0.025      1.212      0.225      -0.018       0.078\n",
      "opposition_team_11    -0.0097      0.025     -0.392      0.695      -0.058       0.039\n",
      "opposition_team_12    -0.0535      0.025     -2.165      0.030      -0.102      -0.005\n",
      "opposition_team_13    -0.0473      0.025     -1.928      0.054      -0.095       0.001\n",
      "opposition_team_14    -0.0011      0.025     -0.046      0.963      -0.050       0.047\n",
      "opposition_team_15    -0.0097      0.025     -0.393      0.694      -0.058       0.039\n",
      "opposition_team_16     0.0251      0.025      1.017      0.309      -0.023       0.073\n",
      "opposition_team_17    -0.0208      0.025     -0.845      0.398      -0.069       0.027\n",
      "opposition_team_18    -0.0069      0.025     -0.280      0.780      -0.056       0.042\n",
      "opposition_team_19     0.0084      0.025      0.337      0.736      -0.040       0.057\n",
      "opposition_team_20    -0.0052      0.025     -0.208      0.835      -0.054       0.043\n",
      "own_team_2            -0.0495      0.025     -2.015      0.044      -0.098      -0.001\n",
      "own_team_3            -0.0892      0.025     -3.611      0.000      -0.138      -0.041\n",
      "own_team_4            -0.0698      0.025     -2.813      0.005      -0.118      -0.021\n",
      "own_team_5            -0.0939      0.025     -3.802      0.000      -0.142      -0.045\n",
      "own_team_6            -0.0248      0.025     -1.007      0.314      -0.073       0.023\n",
      "own_team_7            -0.0742      0.025     -2.986      0.003      -0.123      -0.025\n",
      "own_team_8            -0.0677      0.024     -2.781      0.005      -0.115      -0.020\n",
      "own_team_9            -0.0849      0.025     -3.442      0.001      -0.133      -0.037\n",
      "own_team_10           -0.1104      0.025     -4.476      0.000      -0.159      -0.062\n",
      "own_team_11           -0.0676      0.025     -2.748      0.006      -0.116      -0.019\n",
      "own_team_12           -0.0171      0.025     -0.693      0.488      -0.065       0.031\n",
      "own_team_13            0.0323      0.024      1.323      0.186      -0.016       0.080\n",
      "own_team_14           -0.0250      0.025     -1.018      0.308      -0.073       0.023\n",
      "own_team_15           -0.0842      0.025     -3.401      0.001      -0.133      -0.036\n",
      "own_team_16           -0.0979      0.025     -3.982      0.000      -0.146      -0.050\n",
      "own_team_17           -0.0038      0.025     -0.155      0.877      -0.052       0.045\n",
      "own_team_18           -0.0610      0.025     -2.468      0.014      -0.109      -0.013\n",
      "own_team_19           -0.0675      0.025     -2.746      0.006      -0.116      -0.019\n",
      "own_team_20           -0.0453      0.025     -1.842      0.066      -0.093       0.003\n",
      "======================================================================================\n"
     ]
    }
   ],
   "source": [
    "print(sgtm_results.summary())"
   ]
  },
  {
   "cell_type": "markdown",
   "metadata": {
    "hidden": true
   },
   "source": [
    "### Model fit"
   ]
  },
  {
   "cell_type": "code",
   "execution_count": 132,
   "metadata": {
    "ExecuteTime": {
     "end_time": "2019-03-16T16:03:59.780842Z",
     "start_time": "2019-03-16T16:03:59.771297Z"
    },
    "hidden": true
   },
   "outputs": [
    {
     "data": {
      "text/plain": [
       "3656.7429799400124"
      ]
     },
     "execution_count": 132,
     "metadata": {},
     "output_type": "execute_result"
    }
   ],
   "source": [
    "sgtm_results.aic"
   ]
  },
  {
   "cell_type": "code",
   "execution_count": 133,
   "metadata": {
    "ExecuteTime": {
     "end_time": "2019-03-16T16:03:59.804649Z",
     "start_time": "2019-03-16T16:03:59.783892Z"
    },
    "hidden": true
   },
   "outputs": [
    {
     "data": {
      "text/plain": [
       "-57743.55679095995"
      ]
     },
     "execution_count": 133,
     "metadata": {},
     "output_type": "execute_result"
    }
   ],
   "source": [
    "sgtm_results.bic"
   ]
  },
  {
   "cell_type": "code",
   "execution_count": 134,
   "metadata": {
    "ExecuteTime": {
     "end_time": "2019-03-16T16:03:59.830476Z",
     "start_time": "2019-03-16T16:03:59.807480Z"
    },
    "hidden": true
   },
   "outputs": [
    {
     "data": {
      "text/plain": [
       "(False, 1.0)"
      ]
     },
     "execution_count": 134,
     "metadata": {},
     "output_type": "execute_result"
    }
   ],
   "source": [
    "sgtm_pearson_results = goodness_fit.pearson_chi_squared_test(sgtm_results)\n",
    "sgtm_pearson_results"
   ]
  },
  {
   "cell_type": "code",
   "execution_count": 135,
   "metadata": {
    "ExecuteTime": {
     "end_time": "2019-03-16T16:03:59.863435Z",
     "start_time": "2019-03-16T16:03:59.833676Z"
    },
    "hidden": true
   },
   "outputs": [
    {
     "data": {
      "text/plain": [
       "count    6.675000e+03\n",
       "mean     7.781374e-16\n",
       "std      3.162436e-01\n",
       "min     -2.689460e-01\n",
       "25%     -1.225854e-01\n",
       "50%     -8.550588e-02\n",
       "75%     -4.255650e-02\n",
       "max      2.852379e+00\n",
       "dtype: float64"
      ]
     },
     "execution_count": 135,
     "metadata": {},
     "output_type": "execute_result"
    }
   ],
   "source": [
    "sgtm_results.resid_deviance.describe()"
   ]
  },
  {
   "cell_type": "code",
   "execution_count": 136,
   "metadata": {
    "ExecuteTime": {
     "end_time": "2019-03-16T16:04:00.107129Z",
     "start_time": "2019-03-16T16:03:59.865833Z"
    },
    "hidden": true
   },
   "outputs": [
    {
     "data": {
      "image/png": "[encoded data removed]",
      "text/plain": [
       "<Figure size 432x288 with 1 Axes>"
      ]
     },
     "metadata": {
      "needs_background": "light"
     },
     "output_type": "display_data"
    }
   ],
   "source": [
    "plt.figure()\n",
    "plt.hist(sgtm_results.resid_deviance)\n",
    "plt.show()"
   ]
  },
  {
   "cell_type": "markdown",
   "metadata": {
    "heading_collapsed": true
   },
   "source": [
    "## Simple Gaussian teams minutes model"
   ]
  },
  {
   "cell_type": "markdown",
   "metadata": {
    "hidden": true
   },
   "source": [
    "### Preparing data"
   ]
  },
  {
   "cell_type": "code",
   "execution_count": 153,
   "metadata": {
    "ExecuteTime": {
     "end_time": "2019-03-16T16:33:52.269900Z",
     "start_time": "2019-03-16T16:33:52.260827Z"
    },
    "hidden": true
   },
   "outputs": [],
   "source": [
    "sgtmm_df = element_gameweek_df.copy()"
   ]
  },
  {
   "cell_type": "code",
   "execution_count": 154,
   "metadata": {
    "ExecuteTime": {
     "end_time": "2019-03-16T16:33:52.467619Z",
     "start_time": "2019-03-16T16:33:52.439121Z"
    },
    "hidden": true
   },
   "outputs": [],
   "source": [
    "sgtmm_df = player.add_categorical_variables(sgtmm_df, 'element_type')\n",
    "sgtmm_df = player.add_categorical_variables(sgtmm_df, 'opposition_team')\n",
    "sgtmm_df = player.add_categorical_variables(sgtmm_df, 'own_team')"
   ]
  },
  {
   "cell_type": "code",
   "execution_count": 155,
   "metadata": {
    "ExecuteTime": {
     "end_time": "2019-03-16T16:33:52.633431Z",
     "start_time": "2019-03-16T16:33:52.620931Z"
    },
    "hidden": true
   },
   "outputs": [],
   "source": [
    "sgtmm_redundant_columns = [\n",
    "    'row_id', 'goals_scored', 'attempted_passes', 'big_chances_created',\n",
    "    'big_chances_missed', 'bonus', 'bps', 'clean_sheets',\n",
    "    'clearances_blocks_interceptions', 'completed_passes', 'creativity',\n",
    "    'dribbles', 'ea_index', 'element', 'errors_leading_to_goal',\n",
    "    'errors_leading_to_goal_attempt', 'fixture', 'fouls', 'goals_conceded',\n",
    "    'ict_index', 'id', 'influence', 'key_passes', 'kickoff_time',\n",
    "    'kickoff_time_formatted', 'loaned_in', 'loaned_out', 'offside',\n",
    "    'open_play_crosses', 'opponent_team', 'own_goals', 'penalties_conceded',\n",
    "    'penalties_missed', 'penalties_saved', 'recoveries', 'red_cards', 'round',\n",
    "    'saves', 'selected', 'tackled', 'tackles', 'target_missed', 'team_a_score',\n",
    "    'team_h_score', 'threat', 'total_points', 'transfers_balance',\n",
    "    'transfers_in', 'transfers_out', 'value', 'winning_goals',\n",
    "    'yellow_cards', 'event', 'team_a', 'team_a_difficulty', 'team_h',\n",
    "    'team_h_difficulty', 'element_type', 'team', 'web_name', 'safe_web_name',\n",
    "    'own_team', 'opposition_team', 'minutes'\n",
    "]"
   ]
  },
  {
   "cell_type": "code",
   "execution_count": 156,
   "metadata": {
    "ExecuteTime": {
     "end_time": "2019-03-16T16:33:52.838213Z",
     "start_time": "2019-03-16T16:33:52.829922Z"
    },
    "hidden": true
   },
   "outputs": [],
   "source": [
    "sgtmm_df['log_minutes'] = np.log(sgtmm_df['minutes'])"
   ]
  },
  {
   "cell_type": "code",
   "execution_count": 157,
   "metadata": {
    "ExecuteTime": {
     "end_time": "2019-03-16T16:33:53.023084Z",
     "start_time": "2019-03-16T16:33:53.009313Z"
    },
    "hidden": true
   },
   "outputs": [],
   "source": [
    "sgtmm_df = player.remove_redundant_columns(sgtmm_df, sgtmm_redundant_columns)"
   ]
  },
  {
   "cell_type": "code",
   "execution_count": 158,
   "metadata": {
    "ExecuteTime": {
     "end_time": "2019-03-16T16:33:53.395449Z",
     "start_time": "2019-03-16T16:33:53.369721Z"
    },
    "hidden": true
   },
   "outputs": [],
   "source": [
    "sgtmm_response_df, sgtmm_explanatory_df = player.get_response_explanatory_dfs(sgtmm_df, 'assists')"
   ]
  },
  {
   "cell_type": "code",
   "execution_count": 159,
   "metadata": {
    "ExecuteTime": {
     "end_time": "2019-03-16T16:33:53.538494Z",
     "start_time": "2019-03-16T16:33:53.529315Z"
    },
    "hidden": true
   },
   "outputs": [
    {
     "data": {
      "text/plain": [
       "Index(['const', 'was_home', 'element_type_3', 'element_type_4',\n",
       "       'opposition_team_2', 'opposition_team_3', 'opposition_team_4',\n",
       "       'opposition_team_5', 'opposition_team_6', 'opposition_team_7',\n",
       "       'opposition_team_8', 'opposition_team_9', 'opposition_team_10',\n",
       "       'opposition_team_11', 'opposition_team_12', 'opposition_team_13',\n",
       "       'opposition_team_14', 'opposition_team_15', 'opposition_team_16',\n",
       "       'opposition_team_17', 'opposition_team_18', 'opposition_team_19',\n",
       "       'opposition_team_20', 'own_team_2', 'own_team_3', 'own_team_4',\n",
       "       'own_team_5', 'own_team_6', 'own_team_7', 'own_team_8', 'own_team_9',\n",
       "       'own_team_10', 'own_team_11', 'own_team_12', 'own_team_13',\n",
       "       'own_team_14', 'own_team_15', 'own_team_16', 'own_team_17',\n",
       "       'own_team_18', 'own_team_19', 'own_team_20', 'log_minutes'],\n",
       "      dtype='object')"
      ]
     },
     "execution_count": 159,
     "metadata": {},
     "output_type": "execute_result"
    }
   ],
   "source": [
    "sgtmm_explanatory_df.columns"
   ]
  },
  {
   "cell_type": "markdown",
   "metadata": {
    "hidden": true
   },
   "source": [
    "### Fitting model"
   ]
  },
  {
   "cell_type": "code",
   "execution_count": 160,
   "metadata": {
    "ExecuteTime": {
     "end_time": "2019-03-16T16:33:54.450576Z",
     "start_time": "2019-03-16T16:33:54.338228Z"
    },
    "hidden": true
   },
   "outputs": [],
   "source": [
    "sgtmm_results = sm.GLM(\n",
    "    sgtmm_response_df,\n",
    "    sgtmm_explanatory_df,\n",
    "    family=sm.families.Gaussian(),\n",
    "    missing='drop'\n",
    ").fit()"
   ]
  },
  {
   "cell_type": "code",
   "execution_count": 161,
   "metadata": {
    "ExecuteTime": {
     "end_time": "2019-03-16T16:33:54.870896Z",
     "start_time": "2019-03-16T16:33:54.808006Z"
    },
    "hidden": true
   },
   "outputs": [
    {
     "name": "stdout",
     "output_type": "stream",
     "text": [
      "                  Generalized Linear Model Regression Results                  \n",
      "===============================================================================\n",
      "Dep. Variable:                assists   No. Observations:                  6675\n",
      "Model:                            GLM   Df Residuals:                      6632\n",
      "Model Family:                Gaussian   Df Model:                            42\n",
      "Link Function:               identity   Scale:              0.09942574571267358\n",
      "Method:                          IRLS   Log-Likelihood:                 -1745.7\n",
      "Date:                Sat, 16 Mar 2019   Deviance:                        659.39\n",
      "Time:                        16:33:54   Pearson chi2:                      659.\n",
      "No. Iterations:                     2                                          \n",
      "======================================================================================\n",
      "                         coef    std err          z      P>|z|      [0.025      0.975]\n",
      "--------------------------------------------------------------------------------------\n",
      "const                 -0.0579      0.032     -1.823      0.068      -0.120       0.004\n",
      "was_home               0.0141      0.008      1.823      0.068      -0.001       0.029\n",
      "element_type_3         0.0580      0.009      6.698      0.000       0.041       0.075\n",
      "element_type_4         0.0840      0.012      7.097      0.000       0.061       0.107\n",
      "opposition_team_2      0.0288      0.024      1.177      0.239      -0.019       0.077\n",
      "opposition_team_3     -0.0077      0.025     -0.315      0.753      -0.056       0.041\n",
      "opposition_team_4      0.0369      0.025      1.506      0.132      -0.011       0.085\n",
      "opposition_team_5      0.0324      0.025      1.311      0.190      -0.016       0.081\n",
      "opposition_team_6     -0.0201      0.025     -0.816      0.414      -0.068       0.028\n",
      "opposition_team_7     -0.0061      0.024     -0.251      0.802      -0.054       0.042\n",
      "opposition_team_8      0.0047      0.024      0.191      0.848      -0.043       0.052\n",
      "opposition_team_9      0.0542      0.025      2.197      0.028       0.006       0.103\n",
      "opposition_team_10     0.0317      0.025      1.291      0.197      -0.016       0.080\n",
      "opposition_team_11    -0.0079      0.025     -0.322      0.747      -0.056       0.040\n",
      "opposition_team_12    -0.0517      0.025     -2.102      0.036      -0.100      -0.003\n",
      "opposition_team_13    -0.0475      0.024     -1.948      0.051      -0.095       0.000\n",
      "opposition_team_14     0.0010      0.025      0.040      0.968      -0.047       0.049\n",
      "opposition_team_15    -0.0095      0.025     -0.386      0.699      -0.058       0.039\n",
      "opposition_team_16     0.0260      0.025      1.061      0.289      -0.022       0.074\n",
      "opposition_team_17    -0.0185      0.025     -0.754      0.451      -0.067       0.030\n",
      "opposition_team_18    -0.0074      0.025     -0.301      0.764      -0.056       0.041\n",
      "opposition_team_19     0.0101      0.025      0.410      0.682      -0.038       0.058\n",
      "opposition_team_20    -0.0042      0.025     -0.172      0.863      -0.052       0.044\n",
      "own_team_2            -0.0446      0.024     -1.826      0.068      -0.092       0.003\n",
      "own_team_3            -0.0886      0.025     -3.610      0.000      -0.137      -0.041\n",
      "own_team_4            -0.0710      0.025     -2.877      0.004      -0.119      -0.023\n",
      "own_team_5            -0.0903      0.025     -3.680      0.000      -0.138      -0.042\n",
      "own_team_6            -0.0230      0.024     -0.940      0.347      -0.071       0.025\n",
      "own_team_7            -0.0714      0.025     -2.889      0.004      -0.120      -0.023\n",
      "own_team_8            -0.0629      0.024     -2.598      0.009      -0.110      -0.015\n",
      "own_team_9            -0.0833      0.025     -3.398      0.001      -0.131      -0.035\n",
      "own_team_10           -0.1073      0.025     -4.380      0.000      -0.155      -0.059\n",
      "own_team_11           -0.0652      0.024     -2.666      0.008      -0.113      -0.017\n",
      "own_team_12           -0.0123      0.025     -0.500      0.617      -0.060       0.036\n",
      "own_team_13            0.0358      0.024      1.476      0.140      -0.012       0.083\n",
      "own_team_14           -0.0215      0.024     -0.878      0.380      -0.069       0.026\n",
      "own_team_15           -0.0831      0.025     -3.378      0.001      -0.131      -0.035\n",
      "own_team_16           -0.0954      0.024     -3.901      0.000      -0.143      -0.047\n",
      "own_team_17            0.0016      0.025      0.065      0.948      -0.046       0.050\n",
      "own_team_18           -0.0575      0.025     -2.343      0.019      -0.106      -0.009\n",
      "own_team_19           -0.0659      0.024     -2.694      0.007      -0.114      -0.018\n",
      "own_team_20           -0.0398      0.024     -1.629      0.103      -0.088       0.008\n",
      "log_minutes            0.0386      0.004      9.012      0.000       0.030       0.047\n",
      "======================================================================================\n"
     ]
    }
   ],
   "source": [
    "print(sgtmm_results.summary())"
   ]
  },
  {
   "cell_type": "markdown",
   "metadata": {
    "hidden": true
   },
   "source": [
    "### Model fit"
   ]
  },
  {
   "cell_type": "code",
   "execution_count": 162,
   "metadata": {
    "ExecuteTime": {
     "end_time": "2019-03-16T16:33:55.521389Z",
     "start_time": "2019-03-16T16:33:55.514423Z"
    },
    "hidden": true
   },
   "outputs": [
    {
     "data": {
      "text/plain": [
       "3577.492866053828"
      ]
     },
     "execution_count": 162,
     "metadata": {},
     "output_type": "execute_result"
    }
   ],
   "source": [
    "sgtmm_results.aic"
   ]
  },
  {
   "cell_type": "code",
   "execution_count": 163,
   "metadata": {
    "ExecuteTime": {
     "end_time": "2019-03-16T16:33:55.897018Z",
     "start_time": "2019-03-16T16:33:55.891527Z"
    },
    "hidden": true
   },
   "outputs": [
    {
     "data": {
      "text/plain": [
       "-57742.826027469906"
      ]
     },
     "execution_count": 163,
     "metadata": {},
     "output_type": "execute_result"
    }
   ],
   "source": [
    "sgtmm_results.bic"
   ]
  },
  {
   "cell_type": "code",
   "execution_count": 164,
   "metadata": {
    "ExecuteTime": {
     "end_time": "2019-03-16T16:33:56.137090Z",
     "start_time": "2019-03-16T16:33:56.129276Z"
    },
    "hidden": true
   },
   "outputs": [
    {
     "data": {
      "text/plain": [
       "(False, 1.0)"
      ]
     },
     "execution_count": 164,
     "metadata": {},
     "output_type": "execute_result"
    }
   ],
   "source": [
    "sgtmm_pearson_results = goodness_fit.pearson_chi_squared_test(sgtmm_results)\n",
    "sgtmm_pearson_results"
   ]
  },
  {
   "cell_type": "code",
   "execution_count": 165,
   "metadata": {
    "ExecuteTime": {
     "end_time": "2019-03-16T16:33:56.563813Z",
     "start_time": "2019-03-16T16:33:56.552471Z"
    },
    "hidden": true
   },
   "outputs": [
    {
     "data": {
      "text/plain": [
       "count    6.675000e+03\n",
       "mean    -2.232288e-15\n",
       "std      3.143248e-01\n",
       "min     -2.816265e-01\n",
       "25%     -1.285957e-01\n",
       "50%     -8.526928e-02\n",
       "75%     -3.741746e-02\n",
       "max      2.839478e+00\n",
       "dtype: float64"
      ]
     },
     "execution_count": 165,
     "metadata": {},
     "output_type": "execute_result"
    }
   ],
   "source": [
    "sgtmm_results.resid_deviance.describe()"
   ]
  },
  {
   "cell_type": "code",
   "execution_count": 166,
   "metadata": {
    "ExecuteTime": {
     "end_time": "2019-03-16T16:33:57.079881Z",
     "start_time": "2019-03-16T16:33:56.769385Z"
    },
    "hidden": true
   },
   "outputs": [
    {
     "data": {
      "image/png": "[encoded data removed]",
      "text/plain": [
       "<Figure size 432x288 with 1 Axes>"
      ]
     },
     "metadata": {
      "needs_background": "light"
     },
     "output_type": "display_data"
    }
   ],
   "source": [
    "plt.figure()\n",
    "plt.hist(sgtmm_results.resid_deviance)\n",
    "plt.show()"
   ]
  },
  {
   "cell_type": "markdown",
   "metadata": {
    "heading_collapsed": true
   },
   "source": [
    "## Simple Gaussian player model"
   ]
  },
  {
   "cell_type": "markdown",
   "metadata": {
    "hidden": true
   },
   "source": [
    "### Preparing data"
   ]
  },
  {
   "cell_type": "code",
   "execution_count": 137,
   "metadata": {
    "ExecuteTime": {
     "end_time": "2019-03-16T16:04:00.115096Z",
     "start_time": "2019-03-16T16:04:00.109649Z"
    },
    "hidden": true
   },
   "outputs": [],
   "source": [
    "sgpm_df = element_gameweek_df.copy()"
   ]
  },
  {
   "cell_type": "code",
   "execution_count": 138,
   "metadata": {
    "ExecuteTime": {
     "end_time": "2019-03-16T16:04:00.163592Z",
     "start_time": "2019-03-16T16:04:00.117569Z"
    },
    "hidden": true
   },
   "outputs": [],
   "source": [
    "sgpm_df = player.add_categorical_variables(sgpm_df, 'opposition_team')\n",
    "sgpm_df = player.add_categorical_variables(sgpm_df, 'element')"
   ]
  },
  {
   "cell_type": "code",
   "execution_count": 139,
   "metadata": {
    "ExecuteTime": {
     "end_time": "2019-03-16T16:04:00.179400Z",
     "start_time": "2019-03-16T16:04:00.168124Z"
    },
    "hidden": true
   },
   "outputs": [],
   "source": [
    "sgpm_redundant_columns = [\n",
    "    'row_id', 'goals_scored', 'attempted_passes', 'big_chances_created',\n",
    "    'big_chances_missed', 'bonus', 'bps', 'clean_sheets',\n",
    "    'clearances_blocks_interceptions', 'completed_passes', 'creativity',\n",
    "    'dribbles', 'ea_index', 'element', 'errors_leading_to_goal',\n",
    "    'errors_leading_to_goal_attempt', 'fixture', 'fouls', 'goals_conceded',\n",
    "    'ict_index', 'id', 'influence', 'key_passes', 'kickoff_time',\n",
    "    'kickoff_time_formatted', 'loaned_in', 'loaned_out', 'minutes', 'offside',\n",
    "    'open_play_crosses', 'opponent_team', 'own_goals', 'penalties_conceded',\n",
    "    'penalties_missed', 'penalties_saved', 'recoveries', 'red_cards', 'round',\n",
    "    'saves', 'selected', 'tackled', 'tackles', 'target_missed', 'team_a_score',\n",
    "    'team_h_score', 'threat', 'total_points', 'transfers_balance',\n",
    "    'transfers_in', 'transfers_out', 'value', 'winning_goals',\n",
    "    'yellow_cards', 'event', 'team_a', 'team_a_difficulty', 'team_h',\n",
    "    'team_h_difficulty', 'element_type', 'team', 'web_name', 'safe_web_name',\n",
    "    'own_team', 'opposition_team', 'was_home'\n",
    "]"
   ]
  },
  {
   "cell_type": "code",
   "execution_count": 140,
   "metadata": {
    "ExecuteTime": {
     "end_time": "2019-03-16T16:04:00.214783Z",
     "start_time": "2019-03-16T16:04:00.181906Z"
    },
    "hidden": true
   },
   "outputs": [],
   "source": [
    "sgpm_df = player.remove_redundant_columns(sgpm_df, sgpm_redundant_columns)"
   ]
  },
  {
   "cell_type": "code",
   "execution_count": 141,
   "metadata": {
    "ExecuteTime": {
     "end_time": "2019-03-16T16:04:00.489301Z",
     "start_time": "2019-03-16T16:04:00.217615Z"
    },
    "hidden": true
   },
   "outputs": [],
   "source": [
    "sgpm_response_df, sgpm_explanatory_df = player.get_response_explanatory_dfs(sgpm_df, 'assists')"
   ]
  },
  {
   "cell_type": "code",
   "execution_count": 142,
   "metadata": {
    "ExecuteTime": {
     "end_time": "2019-03-16T16:04:00.502413Z",
     "start_time": "2019-03-16T16:04:00.493672Z"
    },
    "hidden": true
   },
   "outputs": [
    {
     "data": {
      "text/plain": [
       "Index(['const', 'opposition_team_2', 'opposition_team_3', 'opposition_team_4',\n",
       "       'opposition_team_5', 'opposition_team_6', 'opposition_team_7',\n",
       "       'opposition_team_8', 'opposition_team_9', 'opposition_team_10',\n",
       "       ...\n",
       "       'element_580', 'element_581', 'element_585', 'element_586',\n",
       "       'element_587', 'element_588', 'element_589', 'element_590',\n",
       "       'element_591', 'element_592'],\n",
       "      dtype='object', length=466)"
      ]
     },
     "execution_count": 142,
     "metadata": {},
     "output_type": "execute_result"
    }
   ],
   "source": [
    "sgpm_explanatory_df.columns"
   ]
  },
  {
   "cell_type": "markdown",
   "metadata": {
    "hidden": true
   },
   "source": [
    "### Fitting model"
   ]
  },
  {
   "cell_type": "code",
   "execution_count": 143,
   "metadata": {
    "ExecuteTime": {
     "end_time": "2019-03-16T16:04:02.379468Z",
     "start_time": "2019-03-16T16:04:00.506270Z"
    },
    "hidden": true
   },
   "outputs": [],
   "source": [
    "sgpm_results = sm.GLM(\n",
    "    sgpm_response_df,\n",
    "    sgpm_explanatory_df,\n",
    "    family=sm.families.Gaussian(),\n",
    "    missing='drop'\n",
    ").fit()"
   ]
  },
  {
   "cell_type": "code",
   "execution_count": 144,
   "metadata": {
    "ExecuteTime": {
     "end_time": "2019-03-16T16:04:02.669312Z",
     "start_time": "2019-03-16T16:04:02.382691Z"
    },
    "hidden": true
   },
   "outputs": [
    {
     "name": "stdout",
     "output_type": "stream",
     "text": [
      "                  Generalized Linear Model Regression Results                  \n",
      "===============================================================================\n",
      "Dep. Variable:                assists   No. Observations:                  6675\n",
      "Model:                            GLM   Df Residuals:                      6209\n",
      "Model Family:                Gaussian   Df Model:                           465\n",
      "Link Function:               identity   Scale:              0.09679049661411573\n",
      "Method:                          IRLS   Log-Likelihood:                 -1436.1\n",
      "Date:                Sat, 16 Mar 2019   Deviance:                        600.97\n",
      "Time:                        16:04:02   Pearson chi2:                      601.\n",
      "No. Iterations:                     2                                          \n",
      "======================================================================================\n",
      "                         coef    std err          z      P>|z|      [0.025      0.975]\n",
      "--------------------------------------------------------------------------------------\n",
      "const                  0.0010      0.112      0.009      0.993      -0.218       0.220\n",
      "opposition_team_2      0.0263      0.025      1.072      0.284      -0.022       0.074\n",
      "opposition_team_3     -0.0128      0.025     -0.518      0.605      -0.061       0.036\n",
      "opposition_team_4      0.0400      0.025      1.626      0.104      -0.008       0.088\n",
      "opposition_team_5      0.0356      0.025      1.436      0.151      -0.013       0.084\n",
      "opposition_team_6     -0.0200      0.025     -0.810      0.418      -0.068       0.028\n",
      "opposition_team_7     -0.0090      0.025     -0.368      0.713      -0.057       0.039\n",
      "opposition_team_8      0.0052      0.024      0.214      0.830      -0.043       0.053\n",
      "opposition_team_9      0.0568      0.025      2.291      0.022       0.008       0.105\n",
      "opposition_team_10     0.0337      0.025      1.368      0.171      -0.015       0.082\n",
      "opposition_team_11    -0.0127      0.025     -0.515      0.607      -0.061       0.036\n",
      "opposition_team_12    -0.0537      0.025     -2.183      0.029      -0.102      -0.005\n",
      "opposition_team_13    -0.0455      0.024     -1.860      0.063      -0.093       0.002\n",
      "opposition_team_14    -0.0064      0.025     -0.260      0.795      -0.055       0.042\n",
      "opposition_team_15    -0.0083      0.025     -0.337      0.736      -0.056       0.040\n",
      "opposition_team_16     0.0239      0.025      0.972      0.331      -0.024       0.072\n",
      "opposition_team_17    -0.0208      0.025     -0.847      0.397      -0.069       0.027\n",
      "opposition_team_18    -0.0052      0.025     -0.210      0.834      -0.054       0.043\n",
      "opposition_team_19     0.0093      0.025      0.378      0.706      -0.039       0.058\n",
      "opposition_team_20    -0.0054      0.025     -0.219      0.827      -0.054       0.043\n",
      "element_4              0.2625      0.131      2.001      0.045       0.005       0.520\n",
      "element_5              0.2147      0.140      1.535      0.125      -0.059       0.489\n",
      "element_6              0.0015      0.148      0.010      0.992      -0.288       0.291\n",
      "element_7             -0.0018      0.129     -0.014      0.989      -0.254       0.250\n",
      "element_8              0.3978      0.136      2.919      0.004       0.131       0.665\n",
      "element_9             -0.0003      0.131     -0.002      0.998      -0.258       0.257\n",
      "element_10             0.0445      0.330      0.135      0.893      -0.603       0.692\n",
      "element_11             0.0037      0.145      0.026      0.979      -0.280       0.287\n",
      "element_12             0.1222      0.135      0.906      0.365      -0.142       0.386\n",
      "element_13             0.1441      0.138      1.044      0.296      -0.126       0.415\n",
      "element_14             0.2755      0.129      2.144      0.032       0.024       0.527\n",
      "element_15             0.2135      0.128      1.671      0.095      -0.037       0.464\n",
      "element_16            -0.0234      0.191     -0.122      0.903      -0.397       0.350\n",
      "element_17             0.0885      0.129      0.689      0.491      -0.163       0.340\n",
      "element_18             0.0625      0.136      0.459      0.646      -0.205       0.330\n",
      "element_20             0.1065      0.151      0.705      0.481      -0.190       0.403\n",
      "element_21             0.1201      0.156      0.771      0.440      -0.185       0.425\n",
      "element_22             0.3181      0.126      2.516      0.012       0.070       0.566\n",
      "element_23             0.2384      0.126      1.886      0.059      -0.009       0.486\n",
      "element_26             0.1163      0.133      0.872      0.383      -0.145       0.378\n",
      "element_27             0.0386      0.126      0.307      0.759      -0.208       0.285\n",
      "element_28             0.0007      0.135      0.005      0.996      -0.263       0.265\n",
      "element_29            -0.0061      0.134     -0.046      0.964      -0.268       0.256\n",
      "element_30             0.0144      0.178      0.081      0.935      -0.333       0.362\n",
      "element_31             0.0001      0.126      0.001      0.999      -0.247       0.247\n",
      "element_33            -0.0039      0.129     -0.030      0.976      -0.257       0.250\n",
      "element_35             0.0059      0.136      0.043      0.965      -0.261       0.273\n",
      "element_36             0.1561      0.131      1.190      0.234      -0.101       0.413\n",
      "element_37             0.0523      0.132      0.395      0.693      -0.207       0.312\n",
      "element_38             0.0811      0.140      0.580      0.562      -0.193       0.355\n",
      "element_39            -0.0027      0.140     -0.019      0.985      -0.277       0.271\n",
      "element_40             0.3463      0.126      2.751      0.006       0.100       0.593\n",
      "element_42             0.1802      0.129      1.402      0.161      -0.072       0.432\n",
      "element_43             0.3772      0.129      2.916      0.004       0.124       0.631\n",
      "element_44             0.0055      0.134      0.041      0.967      -0.256       0.267\n",
      "element_45             0.1326      0.128      1.037      0.300      -0.118       0.383\n",
      "element_46            -0.0321      0.191     -0.168      0.866      -0.406       0.342\n",
      "element_48            -0.0070      0.127     -0.055      0.956      -0.256       0.242\n",
      "element_49             0.0840      0.128      0.657      0.511      -0.166       0.335\n",
      "element_50             0.1169      0.156      0.751      0.453      -0.188       0.422\n",
      "element_51            -0.0038      0.131     -0.029      0.977      -0.261       0.253\n",
      "element_54            -0.0024      0.156     -0.015      0.988      -0.308       0.303\n",
      "element_55             0.2344      0.129      1.812      0.070      -0.019       0.488\n",
      "element_56            -0.0059      0.131     -0.045      0.964      -0.263       0.251\n",
      "element_57             0.0886      0.142      0.623      0.533      -0.190       0.367\n",
      "element_58             0.1878      0.126      1.492      0.136      -0.059       0.435\n",
      "element_59             0.1048      0.132      0.792      0.429      -0.155       0.364\n",
      "element_60             0.0416      0.129      0.323      0.746      -0.210       0.294\n",
      "element_61             0.2209      0.151      1.460      0.144      -0.076       0.517\n",
      "element_62            -0.0045      0.126     -0.036      0.972      -0.251       0.242\n",
      "element_65            -0.0028      0.130     -0.021      0.983      -0.258       0.252\n",
      "element_66            -0.0080      0.136     -0.059      0.953      -0.275       0.259\n",
      "element_69            -0.0093      0.136     -0.068      0.946      -0.276       0.258\n",
      "element_70             0.0724      0.126      0.575      0.565      -0.174       0.319\n",
      "element_71            -0.0262      0.211     -0.124      0.901      -0.439       0.387\n",
      "element_72             0.0372      0.128      0.291      0.771      -0.213       0.288\n",
      "element_73             0.1682      0.168      0.999      0.318      -0.162       0.498\n",
      "element_74            -0.0045      0.126     -0.036      0.971      -0.251       0.242\n",
      "element_75            -0.0010      0.140     -0.007      0.994      -0.275       0.273\n",
      "element_76             0.2575      0.131      1.963      0.050       0.000       0.515\n",
      "element_77             0.0133      0.168      0.079      0.937      -0.316       0.343\n",
      "element_78             0.0912      0.129      0.705      0.481      -0.162       0.345\n",
      "element_79             0.1060      0.148      0.718      0.473      -0.183       0.395\n",
      "element_80             0.2546      0.128      1.993      0.046       0.004       0.505\n",
      "element_82             0.0757      0.126      0.599      0.549      -0.172       0.324\n",
      "element_83             0.0611      0.135      0.453      0.650      -0.203       0.325\n",
      "element_84            -0.0045      0.130     -0.035      0.972      -0.260       0.251\n",
      "element_85             0.1168      0.126      0.924      0.356      -0.131       0.365\n",
      "element_87            -0.0045      0.126     -0.036      0.971      -0.251       0.242\n",
      "element_90             0.1810      0.129      1.408      0.159      -0.071       0.433\n",
      "element_91             0.0356      0.126      0.282      0.778      -0.212       0.284\n",
      "element_92             0.0360      0.126      0.286      0.775      -0.211       0.283\n",
      "element_94             0.0492      0.132      0.372      0.710      -0.210       0.309\n",
      "element_95             0.0007      0.148      0.005      0.996      -0.289       0.290\n",
      "element_96             0.0019      0.211      0.009      0.993      -0.411       0.415\n",
      "element_98            -0.0041      0.129     -0.032      0.975      -0.258       0.249\n",
      "element_99             0.0522      0.129      0.403      0.687      -0.201       0.306\n",
      "element_100           -0.0095      0.148     -0.064      0.949      -0.299       0.280\n",
      "element_101            0.0819      0.128      0.641      0.522      -0.169       0.332\n",
      "element_102            0.0554      0.133      0.415      0.678      -0.206       0.317\n",
      "element_104           -0.0026      0.246     -0.011      0.992      -0.485       0.480\n",
      "element_105           -0.0008      0.148     -0.006      0.996      -0.290       0.289\n",
      "element_106           -0.0015      0.130     -0.011      0.991      -0.257       0.254\n",
      "element_107            0.0980      0.148      0.663      0.507      -0.192       0.388\n",
      "element_109           -0.0078      0.178     -0.044      0.965      -0.356       0.340\n",
      "element_110            0.1524      0.130      1.170      0.242      -0.103       0.408\n",
      "element_113            0.1116      0.126      0.886      0.375      -0.135       0.358\n",
      "element_114           -0.0103      0.330     -0.031      0.975      -0.658       0.637\n",
      "element_115            0.2771      0.126      2.191      0.028       0.029       0.525\n",
      "element_116            0.0759      0.126      0.600      0.549      -0.172       0.324\n",
      "element_117            0.0090      0.246      0.037      0.971      -0.474       0.492\n",
      "element_118            0.0374      0.126      0.296      0.767      -0.210       0.285\n",
      "element_119           -0.0151      0.246     -0.061      0.951      -0.498       0.468\n",
      "element_120           -0.0473      0.246     -0.192      0.848      -0.530       0.435\n",
      "element_121            0.0073      0.191      0.038      0.969      -0.367       0.381\n",
      "element_122            0.3977      0.126      3.144      0.002       0.150       0.646\n",
      "element_123           -0.0080      0.168     -0.048      0.962      -0.338       0.322\n",
      "element_124            0.2048      0.127      1.611      0.107      -0.044       0.454\n",
      "element_125            0.0434      0.129      0.335      0.738      -0.210       0.297\n",
      "element_126            0.1500      0.126      1.192      0.233      -0.097       0.397\n",
      "element_127            0.1904      0.129      1.471      0.141      -0.063       0.444\n",
      "element_131           -0.0061      0.191     -0.032      0.975      -0.380       0.368\n",
      "element_132           -0.0109      0.142     -0.077      0.939      -0.289       0.268\n",
      "element_133            0.2076      0.131      1.582      0.114      -0.050       0.465\n",
      "element_134           -0.0077      0.135     -0.057      0.955      -0.272       0.257\n",
      "element_138            0.0430      0.129      0.335      0.738      -0.209       0.295\n",
      "element_139           -0.0249      0.330     -0.075      0.940      -0.672       0.623\n",
      "element_140         5.744e-05      0.178      0.000      1.000      -0.348       0.348\n",
      "element_141           -0.0021      0.129     -0.016      0.987      -0.254       0.250\n",
      "element_142            0.0741      0.126      0.589      0.556      -0.173       0.321\n",
      "element_143           -0.0028      0.126     -0.022      0.982      -0.249       0.244\n",
      "element_145            0.0369      0.126      0.292      0.770      -0.211       0.285\n",
      "element_146            0.0005      0.151      0.003      0.998      -0.296       0.297\n",
      "element_147            0.1126      0.126      0.895      0.371      -0.134       0.359\n",
      "element_148           -0.0579      0.330     -0.175      0.861      -0.705       0.590\n",
      "element_149            0.1126      0.126      0.895      0.371      -0.134       0.359\n",
      "element_150            0.0357      0.126      0.283      0.777      -0.211       0.282\n",
      "element_151            0.2263      0.129      1.761      0.078      -0.026       0.478\n",
      "element_152           -0.0129      0.161     -0.080      0.936      -0.329       0.303\n",
      "element_153           -0.0034      0.142     -0.024      0.981      -0.282       0.275\n",
      "element_156           -0.0188      0.168     -0.112      0.911      -0.349       0.311\n",
      "element_157           -0.0029      0.130     -0.023      0.982      -0.258       0.252\n",
      "element_158            0.0117      0.246      0.047      0.962      -0.471       0.494\n",
      "element_160           -0.0186      0.178     -0.105      0.917      -0.366       0.329\n",
      "element_161            0.1080      0.151      0.714      0.475      -0.189       0.405\n",
      "element_162            0.0826      0.127      0.650      0.516      -0.167       0.332\n",
      "element_164            0.1146      0.126      0.910      0.363      -0.132       0.361\n",
      "element_167            0.1297      0.161      0.805      0.421      -0.186       0.446\n",
      "element_168           -0.0025      0.129     -0.020      0.984      -0.254       0.249\n",
      "element_169           -0.0071      0.140     -0.051      0.959      -0.281       0.267\n",
      "element_170            0.1445      0.138      1.047      0.295      -0.126       0.415\n",
      "element_172            0.1090      0.125      0.870      0.384      -0.137       0.355\n",
      "element_175            0.0791      0.126      0.625      0.532      -0.169       0.327\n",
      "element_176           -0.0111      0.151     -0.073      0.942      -0.308       0.285\n",
      "element_177            0.1436      0.130      1.103      0.270      -0.112       0.399\n",
      "element_180           -0.0053      0.135     -0.039      0.969      -0.270       0.259\n",
      "element_181            0.0394      0.127      0.310      0.756      -0.210       0.289\n",
      "element_182            0.0466      0.130      0.358      0.721      -0.209       0.302\n",
      "element_183           -0.0068      0.148     -0.046      0.963      -0.296       0.283\n",
      "element_184            0.2161      0.128      1.690      0.091      -0.034       0.467\n",
      "element_185            0.0043      0.142      0.031      0.976      -0.274       0.283\n",
      "element_186            0.0019      0.156      0.012      0.990      -0.303       0.307\n",
      "element_187           -0.0032      0.191     -0.017      0.987      -0.377       0.371\n",
      "element_189           -0.0018      0.140     -0.013      0.990      -0.276       0.272\n",
      "element_192            0.0348      0.126      0.276      0.783      -0.212       0.281\n",
      "element_193            0.0995      0.130      0.764      0.445      -0.156       0.355\n",
      "element_194            0.0174      0.161      0.108      0.914      -0.299       0.333\n",
      "element_195            0.0360      0.129      0.280      0.780      -0.216       0.288\n",
      "element_197           -0.0083      0.129     -0.064      0.949      -0.262       0.245\n",
      "element_198           -0.0034      0.129     -0.027      0.979      -0.255       0.249\n",
      "element_199           -0.0021      0.132     -0.016      0.987      -0.261       0.257\n",
      "element_200           -0.0129      0.178     -0.072      0.942      -0.361       0.335\n",
      "element_201            0.0445      0.131      0.339      0.734      -0.213       0.302\n",
      "element_202           -0.0060      0.129     -0.047      0.963      -0.258       0.246\n",
      "element_204            0.0050      0.211      0.024      0.981      -0.408       0.418\n",
      "element_205            0.0086      0.246      0.035      0.972      -0.474       0.491\n",
      "element_206           -0.0026      0.129     -0.020      0.984      -0.256       0.251\n",
      "element_207            0.0072      0.191      0.037      0.970      -0.367       0.381\n",
      "element_208           -0.0018      0.151     -0.012      0.990      -0.298       0.295\n",
      "element_209           -0.0098      0.246     -0.040      0.968      -0.492       0.473\n",
      "element_210            0.0391      0.129      0.304      0.761      -0.213       0.291\n",
      "element_211            0.1864      0.129      1.441      0.150      -0.067       0.440\n",
      "element_212           -0.0071      0.142     -0.050      0.960      -0.286       0.271\n",
      "element_215           -0.0025      0.133     -0.019      0.985      -0.264       0.259\n",
      "element_216            0.0080      0.330      0.024      0.981      -0.640       0.656\n",
      "element_217           -0.0104      0.178     -0.058      0.953      -0.358       0.338\n",
      "element_219            0.1177      0.126      0.931      0.352      -0.130       0.366\n",
      "element_220            0.0483      0.129      0.373      0.709      -0.205       0.302\n",
      "element_221            0.2632      0.128      2.059      0.040       0.013       0.514\n",
      "element_222           -0.0018      0.138     -0.013      0.990      -0.272       0.269\n",
      "element_223            0.0915      0.129      0.707      0.479      -0.162       0.345\n",
      "element_224            0.0871      0.129      0.678      0.498      -0.165       0.339\n",
      "element_225            0.0413      0.128      0.324      0.746      -0.209       0.292\n",
      "element_226           -0.0008      0.151     -0.006      0.996      -0.297       0.296\n",
      "element_227           -0.0019      0.126     -0.015      0.988      -0.249       0.245\n",
      "element_228           -0.0071      0.156     -0.045      0.964      -0.312       0.298\n",
      "element_230            0.0170      0.177      0.096      0.924      -0.331       0.365\n",
      "element_231            0.0049      0.246      0.020      0.984      -0.478       0.488\n",
      "element_232           -0.0579      0.330     -0.175      0.861      -0.705       0.590\n",
      "element_233            0.1666      0.127      1.311      0.190      -0.083       0.416\n",
      "element_234            0.1346      0.129      1.047      0.295      -0.117       0.387\n",
      "element_235            0.0626      0.135      0.464      0.642      -0.202       0.327\n",
      "element_236            0.2261      0.129      1.759      0.079      -0.026       0.478\n",
      "element_239            0.1153      0.151      0.762      0.446      -0.181       0.412\n",
      "element_240           -0.0389      0.246     -0.158      0.875      -0.522       0.444\n",
      "element_241           -0.0023      0.156     -0.015      0.988      -0.308       0.303\n",
      "element_242           -0.0047      0.140     -0.034      0.973      -0.279       0.269\n",
      "element_243           -0.0054      0.142     -0.038      0.970      -0.284       0.273\n",
      "element_245            0.1628      0.132      1.231      0.218      -0.096       0.422\n",
      "element_246            0.1128      0.126      0.896      0.370      -0.134       0.360\n",
      "element_247            0.2921      0.127      2.298      0.022       0.043       0.541\n",
      "element_249            0.0007      0.129      0.005      0.996      -0.253       0.254\n",
      "element_250            0.1024      0.151      0.677      0.499      -0.194       0.399\n",
      "element_251            0.0837      0.127      0.658      0.510      -0.165       0.333\n",
      "element_252            0.0424      0.128      0.332      0.740      -0.208       0.293\n",
      "element_253            0.3051      0.126      2.424      0.015       0.058       0.552\n",
      "element_254            0.2341      0.129      1.810      0.070      -0.019       0.488\n",
      "element_255            0.1114      0.134      0.835      0.404      -0.150       0.373\n",
      "element_256            0.0500      0.131      0.381      0.703      -0.207       0.307\n",
      "element_257            0.2282      0.126      1.813      0.070      -0.019       0.475\n",
      "element_258            0.0539      0.132      0.407      0.684      -0.206       0.313\n",
      "element_259            0.0080      0.246      0.032      0.974      -0.475       0.491\n",
      "element_262            0.0037      0.132      0.028      0.978      -0.256       0.263\n",
      "element_263           -0.0042      0.151     -0.027      0.978      -0.301       0.292\n",
      "element_264           -0.0086      0.142     -0.061      0.951      -0.287       0.270\n",
      "element_265            0.0440      0.128      0.344      0.731      -0.207       0.294\n",
      "element_266           -0.0016      0.161     -0.010      0.992      -0.317       0.314\n",
      "element_267            0.6653      0.151      4.396      0.000       0.369       0.962\n",
      "element_268            0.0341      0.125      0.272      0.786      -0.212       0.280\n",
      "element_269            0.0768      0.145      0.531      0.596      -0.207       0.360\n",
      "element_270            0.5413      0.127      4.259      0.000       0.292       0.790\n",
      "element_271            0.1720      0.128      1.346      0.178      -0.078       0.422\n",
      "element_272            0.1160      0.126      0.917      0.359      -0.132       0.364\n",
      "element_273            0.0816      0.142      0.574      0.566      -0.197       0.360\n",
      "element_274            0.0918      0.129      0.709      0.478      -0.162       0.345\n",
      "element_275            0.4728      0.128      3.700      0.000       0.222       0.723\n",
      "element_276            0.2281      0.126      1.812      0.070      -0.019       0.475\n",
      "element_277           -0.0140      0.156     -0.090      0.929      -0.319       0.291\n",
      "element_279            0.7446      0.191      3.905      0.000       0.371       1.118\n",
      "element_280            0.3448      0.128      2.698      0.007       0.094       0.595\n",
      "element_281            0.0927      0.129      0.717      0.474      -0.161       0.346\n",
      "element_284           -0.0068      0.138     -0.049      0.961      -0.277       0.264\n",
      "element_285            0.0658      0.142      0.463      0.643      -0.213       0.344\n",
      "element_286            0.0925      0.130      0.710      0.478      -0.163       0.348\n",
      "element_287           -0.0294      0.246     -0.120      0.905      -0.512       0.453\n",
      "element_288           -0.0011      0.178     -0.006      0.995      -0.349       0.347\n",
      "element_289            0.0166      0.178      0.093      0.926      -0.331       0.365\n",
      "element_291           -0.0028      0.148     -0.019      0.985      -0.292       0.287\n",
      "element_292         7.247e-05      0.129      0.001      1.000      -0.254       0.254\n",
      "element_293            0.1539      0.131      1.173      0.241      -0.103       0.411\n",
      "element_294            0.1135      0.156      0.729      0.466      -0.192       0.419\n",
      "element_295            0.3550      0.138      2.571      0.010       0.084       0.626\n",
      "element_296           -0.0070      0.128     -0.055      0.956      -0.257       0.244\n",
      "element_297            0.1731      0.133      1.297      0.195      -0.088       0.435\n",
      "element_298            0.1464      0.138      1.061      0.289      -0.124       0.417\n",
      "element_299            0.1595      0.132      1.206      0.228      -0.100       0.419\n",
      "element_300            0.1380      0.129      1.066      0.286      -0.116       0.392\n",
      "element_301            0.1505      0.130      1.156      0.248      -0.105       0.406\n",
      "element_302            0.3838      0.128      3.002      0.003       0.133       0.634\n",
      "element_303           -0.0135      0.156     -0.087      0.931      -0.319       0.292\n",
      "element_304           -0.0126      0.148     -0.085      0.932      -0.302       0.277\n",
      "element_305            0.3135      0.129      2.439      0.015       0.062       0.565\n",
      "element_306            0.0420      0.128      0.329      0.743      -0.209       0.292\n",
      "element_310            0.0447      0.127      0.352      0.725      -0.204       0.294\n",
      "element_311           -0.0020      0.145     -0.014      0.989      -0.286       0.282\n",
      "element_312            0.0482      0.129      0.375      0.708      -0.204       0.300\n",
      "element_313           -0.0009      0.136     -0.006      0.995      -0.268       0.266\n",
      "element_314            0.0102      0.178      0.057      0.954      -0.338       0.358\n",
      "element_315            0.0756      0.142      0.532      0.595      -0.203       0.354\n",
      "element_317            0.1651      0.127      1.299      0.194      -0.084       0.414\n",
      "element_318            0.0908      0.145      0.627      0.531      -0.193       0.374\n",
      "element_319           -0.0020      0.129     -0.016      0.987      -0.254       0.250\n",
      "element_320           -0.0004      0.131     -0.003      0.998      -0.258       0.257\n",
      "element_321            0.1231      0.151      0.814      0.416      -0.173       0.420\n",
      "element_323            0.1517      0.140      1.084      0.278      -0.123       0.426\n",
      "element_324            0.0791      0.145      0.547      0.585      -0.204       0.363\n",
      "element_326            0.0380      0.126      0.300      0.764      -0.210       0.286\n",
      "element_327            0.0058      0.138      0.042      0.966      -0.265       0.276\n",
      "element_330            0.0040      0.140      0.029      0.977      -0.270       0.278\n",
      "element_331           -0.0041      0.151     -0.027      0.979      -0.301       0.292\n",
      "element_332            0.1156      0.132      0.873      0.382      -0.144       0.375\n",
      "element_333           -0.0044      0.135     -0.032      0.974      -0.269       0.260\n",
      "element_335            0.0760      0.140      0.543      0.587      -0.198       0.350\n",
      "element_336            0.0024      0.140      0.017      0.986      -0.272       0.277\n",
      "element_337            0.3456      0.211      1.639      0.101      -0.068       0.759\n",
      "element_338            0.0031      0.138      0.023      0.982      -0.267       0.274\n",
      "element_339           -0.0007      0.131     -0.005      0.996      -0.258       0.257\n",
      "element_340            0.0544      0.131      0.414      0.679      -0.203       0.312\n",
      "element_343            0.0759      0.126      0.603      0.547      -0.171       0.323\n",
      "element_344            0.1111      0.132      0.840      0.401      -0.148       0.370\n",
      "element_345           -0.0041      0.130     -0.031      0.975      -0.259       0.251\n",
      "element_346           -0.0010      0.138     -0.007      0.994      -0.271       0.270\n",
      "element_347            0.1236      0.134      0.926      0.355      -0.138       0.385\n",
      "element_348            0.0507      0.132      0.383      0.701      -0.209       0.310\n",
      "element_349           -0.0081      0.142     -0.057      0.954      -0.287       0.270\n",
      "element_353           -0.0058      0.127     -0.046      0.964      -0.255       0.243\n",
      "element_354            0.1891      0.136      1.387      0.165      -0.078       0.456\n",
      "element_355           -0.0022      0.138     -0.016      0.988      -0.273       0.268\n",
      "element_356           -0.0039      0.134     -0.029      0.977      -0.266       0.258\n",
      "element_357            0.2313      0.129      1.788      0.074      -0.022       0.485\n",
      "element_358            0.9987      0.211      4.730      0.000       0.585       1.412\n",
      "element_359            0.1232      0.136      0.903      0.366      -0.144       0.390\n",
      "element_360            0.2935      0.161      1.820      0.069      -0.023       0.609\n",
      "element_361           -0.0043      0.136     -0.031      0.975      -0.271       0.263\n",
      "element_362            0.0027      0.148      0.018      0.985      -0.287       0.292\n",
      "element_363            0.1298      0.136      0.952      0.341      -0.137       0.397\n",
      "element_364            0.3883      0.128      3.038      0.002       0.138       0.639\n",
      "element_365            0.1115      0.134      0.835      0.404      -0.150       0.373\n",
      "element_366            0.0002      0.178      0.001      0.999      -0.348       0.348\n",
      "element_367            0.3469      0.130      2.663      0.008       0.092       0.602\n",
      "element_368           -0.0048      0.128     -0.038      0.970      -0.255       0.246\n",
      "element_369            0.0954      0.130      0.732      0.464      -0.160       0.351\n",
      "element_370            0.0917      0.129      0.709      0.479      -0.162       0.345\n",
      "element_371            0.2859      0.148      1.935      0.053      -0.004       0.576\n",
      "element_372            0.2683      0.129      2.087      0.037       0.016       0.520\n",
      "element_376           -0.0017      0.126     -0.013      0.989      -0.250       0.246\n",
      "element_377            0.0044      0.331      0.013      0.989      -0.643       0.652\n",
      "element_378            0.2997      0.128      2.345      0.019       0.049       0.550\n",
      "element_379           -0.0411      0.330     -0.124      0.901      -0.689       0.607\n",
      "element_380           -0.0099      0.136     -0.072      0.942      -0.277       0.257\n",
      "element_381            0.0978      0.148      0.662      0.508      -0.192       0.387\n",
      "element_382           -0.0009      0.132     -0.007      0.994      -0.260       0.258\n",
      "element_383            0.0428      0.130      0.329      0.742      -0.212       0.298\n",
      "element_385           -0.0010      0.331     -0.003      0.998      -0.649       0.647\n",
      "element_386            0.1738      0.168      1.033      0.301      -0.156       0.504\n",
      "element_387            0.0065      0.161      0.040      0.968      -0.309       0.323\n",
      "element_388           -0.0103      0.156     -0.066      0.947      -0.316       0.295\n",
      "element_389            0.0882      0.129      0.686      0.493      -0.164       0.340\n",
      "element_390            0.2142      0.128      1.676      0.094      -0.036       0.465\n",
      "element_391            0.1630      0.127      1.282      0.200      -0.086       0.412\n",
      "element_392            0.0948      0.129      0.733      0.464      -0.159       0.348\n",
      "element_393            0.0796      0.126      0.629      0.529      -0.168       0.327\n",
      "element_394            0.1564      0.131      1.192      0.233      -0.101       0.414\n",
      "element_395           -0.0009      0.133     -0.007      0.994      -0.263       0.261\n",
      "element_396            0.0843      0.128      0.660      0.509      -0.166       0.335\n",
      "element_397           -0.0147      0.246     -0.060      0.952      -0.498       0.468\n",
      "element_402           -0.0007      0.138     -0.005      0.996      -0.271       0.270\n",
      "element_403           -0.0039      0.138     -0.028      0.978      -0.274       0.267\n",
      "element_405            0.0505      0.131      0.385      0.700      -0.207       0.308\n",
      "element_406           -0.0004      0.128     -0.003      0.997      -0.251       0.250\n",
      "element_408            0.0137      0.168      0.081      0.935      -0.316       0.343\n",
      "element_409           -0.0025      0.127     -0.019      0.984      -0.252       0.247\n",
      "element_410            0.0628      0.133      0.470      0.638      -0.199       0.324\n",
      "element_411            0.1426      0.129      1.102      0.271      -0.111       0.396\n",
      "element_412            0.0902      0.129      0.697      0.486      -0.163       0.344\n",
      "element_413            0.0595      0.133      0.446      0.656      -0.202       0.321\n",
      "element_415            0.2164      0.128      1.693      0.090      -0.034       0.467\n",
      "element_417            0.1656      0.132      1.251      0.211      -0.094       0.425\n",
      "element_418           -0.0098      0.145     -0.068      0.946      -0.293       0.274\n",
      "element_419            0.1662      0.132      1.256      0.209      -0.093       0.426\n",
      "element_423            0.0007      0.127      0.006      0.996      -0.248       0.250\n",
      "element_425            0.1930      0.126      1.533      0.125      -0.054       0.440\n",
      "element_426            0.0014      0.140      0.010      0.992      -0.273       0.276\n",
      "element_427            0.0022      0.126      0.017      0.986      -0.246       0.250\n",
      "element_430            0.0007      0.126      0.006      0.996      -0.246       0.247\n",
      "element_431           -0.0014      0.142     -0.010      0.992      -0.280       0.277\n",
      "element_432            0.2370      0.129      1.832      0.067      -0.017       0.491\n",
      "element_433            0.0857      0.127      0.674      0.500      -0.163       0.335\n",
      "element_434            0.0598      0.135      0.444      0.657      -0.204       0.324\n",
      "element_435            0.0873      0.129      0.679      0.497      -0.165       0.339\n",
      "element_437            0.2699      0.126      2.144      0.032       0.023       0.517\n",
      "element_438            0.1372      0.161      0.851      0.395      -0.179       0.453\n",
      "element_440            0.0845      0.145      0.584      0.559      -0.199       0.368\n",
      "element_441            0.0284      0.246      0.115      0.908      -0.454       0.511\n",
      "element_443           -0.0579      0.330     -0.175      0.861      -0.705       0.590\n",
      "element_444            0.2066      0.178      1.164      0.245      -0.141       0.555\n",
      "element_446            0.1284      0.138      0.930      0.352      -0.142       0.399\n",
      "element_447            0.2072      0.178      1.167      0.243      -0.141       0.555\n",
      "element_448            0.0547      0.132      0.413      0.679      -0.205       0.314\n",
      "element_450            0.1125      0.126      0.894      0.371      -0.134       0.359\n",
      "element_451           -0.0054      0.128     -0.042      0.966      -0.256       0.245\n",
      "element_453            0.1198      0.151      0.792      0.429      -0.177       0.416\n",
      "element_455            0.0487      0.131      0.371      0.711      -0.209       0.306\n",
      "element_456            0.1144      0.126      0.909      0.364      -0.132       0.361\n",
      "element_458            0.0499      0.130      0.383      0.702      -0.205       0.305\n",
      "element_459           -0.0041      0.126     -0.033      0.974      -0.252       0.244\n",
      "element_460            0.0029      0.130      0.022      0.982      -0.252       0.258\n",
      "element_461            0.0483      0.132      0.365      0.715      -0.211       0.308\n",
      "element_462            0.1936      0.130      1.486      0.137      -0.062       0.449\n",
      "element_463           -0.0044      0.134     -0.033      0.974      -0.266       0.257\n",
      "element_464            0.0012      0.133      0.009      0.993      -0.260       0.263\n",
      "element_465            0.1525      0.126      1.212      0.226      -0.094       0.399\n",
      "element_466           -0.0065      0.132     -0.049      0.961      -0.266       0.253\n",
      "element_467            0.0065      0.161      0.040      0.968      -0.309       0.322\n",
      "element_471            0.1044      0.145      0.722      0.470      -0.179       0.388\n",
      "element_472            0.0036      0.140      0.026      0.980      -0.271       0.278\n",
      "element_473            0.0155      0.156      0.100      0.920      -0.290       0.321\n",
      "element_475            0.2699      0.126      2.144      0.032       0.023       0.517\n",
      "element_476           -0.0007      0.145     -0.005      0.996      -0.284       0.283\n",
      "element_478           -0.0013      0.129     -0.010      0.992      -0.253       0.251\n",
      "element_479            0.2274      0.140      1.625      0.104      -0.047       0.502\n",
      "element_480            0.1144      0.126      0.909      0.364      -0.132       0.361\n",
      "element_481           -0.0083      0.161     -0.052      0.959      -0.324       0.308\n",
      "element_482            0.0634      0.138      0.459      0.646      -0.207       0.334\n",
      "element_483            0.0483      0.129      0.376      0.707      -0.204       0.300\n",
      "element_484            0.1247      0.127      0.981      0.327      -0.124       0.374\n",
      "element_486            0.1521      0.130      1.168      0.243      -0.103       0.407\n",
      "element_487            0.0042      0.140      0.030      0.976      -0.270       0.278\n",
      "element_488            0.0063      0.142      0.044      0.965      -0.272       0.285\n",
      "element_489            0.1169      0.127      0.924      0.356      -0.131       0.365\n",
      "element_491           -0.0063      0.330     -0.019      0.985      -0.654       0.641\n",
      "element_492           -0.0064      0.135     -0.047      0.962      -0.271       0.258\n",
      "element_493            0.1479      0.130      1.135      0.256      -0.107       0.403\n",
      "element_494            0.0494      0.130      0.379      0.704      -0.206       0.305\n",
      "element_495           -0.0059      0.156     -0.038      0.970      -0.311       0.299\n",
      "element_497            0.9421      0.330      2.852      0.004       0.295       1.590\n",
      "element_499            0.0870      0.128      0.681      0.496      -0.163       0.338\n",
      "element_500            0.0491      0.129      0.380      0.704      -0.204       0.303\n",
      "element_502           -0.0036      0.148     -0.024      0.981      -0.293       0.286\n",
      "element_503            0.0527      0.132      0.398      0.691      -0.207       0.312\n",
      "element_504            0.1301      0.128      1.018      0.309      -0.120       0.381\n",
      "element_505            0.0584      0.133      0.437      0.662      -0.203       0.320\n",
      "element_506            0.0046      0.148      0.031      0.975      -0.285       0.294\n",
      "element_507            0.1737      0.128      1.359      0.174      -0.077       0.424\n",
      "element_508            0.0571      0.131      0.435      0.664      -0.200       0.314\n",
      "element_510            0.0604      0.135      0.448      0.654      -0.204       0.325\n",
      "element_511           -0.0074      0.151     -0.049      0.961      -0.304       0.289\n",
      "element_512            0.0025      0.145      0.018      0.986      -0.281       0.286\n",
      "element_513            0.2334      0.134      1.748      0.080      -0.028       0.495\n",
      "element_514            0.0523      0.134      0.392      0.695      -0.209       0.314\n",
      "element_515           -0.0283      0.178     -0.160      0.873      -0.376       0.320\n",
      "element_516            0.1362      0.136      0.999      0.318      -0.131       0.403\n",
      "element_517            0.0066      0.168      0.039      0.969      -0.323       0.336\n",
      "element_518           -0.0022      0.178     -0.013      0.990      -0.350       0.346\n",
      "element_519            0.0122      0.161      0.076      0.940      -0.304       0.328\n",
      "element_521            0.0080      0.211      0.038      0.970      -0.405       0.422\n",
      "element_522            0.0244      0.246      0.099      0.921      -0.458       0.507\n",
      "element_523            0.0072      0.330      0.022      0.983      -0.641       0.655\n",
      "element_524           -0.0042      0.128     -0.033      0.974      -0.255       0.246\n",
      "element_526            0.0844      0.128      0.661      0.509      -0.166       0.335\n",
      "element_527            0.0407      0.128      0.318      0.750      -0.210       0.291\n",
      "element_531            0.1839      0.168      1.094      0.274      -0.146       0.514\n",
      "element_534            0.2103      0.151      1.390      0.165      -0.086       0.507\n",
      "element_535            0.0844      0.142      0.594      0.552      -0.194       0.363\n",
      "element_539            0.0638      0.140      0.456      0.648      -0.210       0.338\n",
      "element_540           -0.0208      0.168     -0.123      0.902      -0.351       0.309\n",
      "element_543            0.1854      0.178      1.044      0.297      -0.163       0.533\n",
      "element_544            0.0121      0.246      0.049      0.961      -0.471       0.495\n",
      "element_549           -0.0037      0.168     -0.022      0.983      -0.333       0.326\n",
      "element_550            0.1923      0.178      1.083      0.279      -0.156       0.540\n",
      "element_552           -0.0273      0.330     -0.083      0.934      -0.675       0.620\n",
      "element_556           -0.0065      0.142     -0.046      0.963      -0.285       0.272\n",
      "element_557            0.0080      0.330      0.024      0.981      -0.640       0.656\n",
      "element_560           -0.0411      0.330     -0.124      0.901      -0.689       0.607\n",
      "element_562           -0.0010      0.331     -0.003      0.998      -0.649       0.647\n",
      "element_563           -0.0579      0.330     -0.175      0.861      -0.705       0.590\n",
      "element_565            0.0445      0.330      0.135      0.893      -0.603       0.692\n",
      "element_566           -0.0347      0.330     -0.105      0.916      -0.682       0.613\n",
      "element_568           -0.0347      0.330     -0.105      0.916      -0.682       0.613\n",
      "element_569            0.4858      0.246      1.972      0.049       0.003       0.969\n",
      "element_570           -0.0071      0.211     -0.034      0.973      -0.421       0.406\n",
      "element_571            0.2511      0.191      1.317      0.188      -0.123       0.625\n",
      "element_573           -0.0347      0.330     -0.105      0.916      -0.682       0.613\n",
      "element_574           -0.0125      0.246     -0.051      0.959      -0.495       0.470\n",
      "element_575            0.5112      0.191      2.680      0.007       0.137       0.885\n",
      "element_579           -0.0058      0.211     -0.028      0.978      -0.419       0.407\n",
      "element_580            0.0358      0.246      0.145      0.884      -0.447       0.518\n",
      "element_581           -0.0367      0.331     -0.111      0.912      -0.684       0.611\n",
      "element_585            0.0090      0.246      0.036      0.971      -0.474       0.492\n",
      "element_586            0.0049      0.246      0.020      0.984      -0.478       0.487\n",
      "element_587            0.0044      0.331      0.013      0.989      -0.643       0.652\n",
      "element_588            0.0198      0.330      0.060      0.952      -0.628       0.668\n",
      "element_589           -0.0261      0.246     -0.106      0.916      -0.509       0.457\n",
      "element_590            0.9751      0.330      2.951      0.003       0.328       1.623\n",
      "element_591            0.0198      0.330      0.060      0.952      -0.628       0.668\n",
      "element_592            0.4659      0.246      1.892      0.058      -0.017       0.948\n",
      "======================================================================================\n"
     ]
    }
   ],
   "source": [
    "print(sgpm_results.summary())"
   ]
  },
  {
   "cell_type": "markdown",
   "metadata": {
    "hidden": true
   },
   "source": [
    "### Model fit"
   ]
  },
  {
   "cell_type": "code",
   "execution_count": 145,
   "metadata": {
    "ExecuteTime": {
     "end_time": "2019-03-16T16:04:02.675502Z",
     "start_time": "2019-03-16T16:04:02.671522Z"
    },
    "hidden": true
   },
   "outputs": [
    {
     "data": {
      "text/plain": [
       "3804.2608404968996"
      ]
     },
     "execution_count": 145,
     "metadata": {},
     "output_type": "execute_result"
    }
   ],
   "source": [
    "sgpm_results.aic"
   ]
  },
  {
   "cell_type": "code",
   "execution_count": 146,
   "metadata": {
    "ExecuteTime": {
     "end_time": "2019-03-16T16:04:02.704888Z",
     "start_time": "2019-03-16T16:04:02.677482Z"
    },
    "hidden": true
   },
   "outputs": [
    {
     "data": {
      "text/plain": [
       "-54076.254723136764"
      ]
     },
     "execution_count": 146,
     "metadata": {},
     "output_type": "execute_result"
    }
   ],
   "source": [
    "sgpm_results.bic"
   ]
  },
  {
   "cell_type": "code",
   "execution_count": 147,
   "metadata": {
    "ExecuteTime": {
     "end_time": "2019-03-16T16:04:02.730593Z",
     "start_time": "2019-03-16T16:04:02.706920Z"
    },
    "hidden": true
   },
   "outputs": [
    {
     "data": {
      "text/plain": [
       "(False, 1.0)"
      ]
     },
     "execution_count": 147,
     "metadata": {},
     "output_type": "execute_result"
    }
   ],
   "source": [
    "sgpm_pearson_results = goodness_fit.pearson_chi_squared_test(sgpm_results)\n",
    "sgpm_pearson_results"
   ]
  },
  {
   "cell_type": "code",
   "execution_count": 148,
   "metadata": {
    "ExecuteTime": {
     "end_time": "2019-03-16T16:04:02.760842Z",
     "start_time": "2019-03-16T16:04:02.733442Z"
    },
    "hidden": true
   },
   "outputs": [
    {
     "data": {
      "text/plain": [
       "count    6.675000e+03\n",
       "mean     8.813591e-17\n",
       "std      3.000780e-01\n",
       "min     -9.870271e-01\n",
       "25%     -1.217896e-01\n",
       "50%     -4.503206e-02\n",
       "75%      6.270069e-03\n",
       "max      2.579526e+00\n",
       "dtype: float64"
      ]
     },
     "execution_count": 148,
     "metadata": {},
     "output_type": "execute_result"
    }
   ],
   "source": [
    "sgpm_results.resid_deviance.describe()"
   ]
  },
  {
   "cell_type": "code",
   "execution_count": 149,
   "metadata": {
    "ExecuteTime": {
     "end_time": "2019-03-16T16:04:03.026759Z",
     "start_time": "2019-03-16T16:04:02.762827Z"
    },
    "hidden": true
   },
   "outputs": [
    {
     "data": {
      "image/png": "[encoded data removed]",
      "text/plain": [
       "<Figure size 432x288 with 1 Axes>"
      ]
     },
     "metadata": {
      "needs_background": "light"
     },
     "output_type": "display_data"
    }
   ],
   "source": [
    "plt.figure()\n",
    "plt.hist(sgpm_results.resid_deviance)\n",
    "plt.show()"
   ]
  },
  {
   "cell_type": "markdown",
   "metadata": {},
   "source": [
    "# Model comparison"
   ]
  },
  {
   "cell_type": "code",
   "execution_count": 167,
   "metadata": {
    "ExecuteTime": {
     "end_time": "2019-03-16T16:34:39.123934Z",
     "start_time": "2019-03-16T16:34:39.109598Z"
    }
   },
   "outputs": [
    {
     "data": {
      "text/plain": [
       "{'simple Poisson': 4352.178364133257,\n",
       " 'simple Poisson teams': 4240.051792760612,\n",
       " 'simple Poisson players': 4420.032929799021,\n",
       " 'simple Poisson minutes': 4279.310891747676,\n",
       " 'simple Poisson teams minutes': 4131.430362795217,\n",
       " 'simple Poisson players minutes': 4349.995664516023,\n",
       " 'simple Poisson players exposure': 4357.6681333468905,\n",
       " 'simple Gaussian': 3754.1065545383826,\n",
       " 'simple Gaussian teams': 3656.7429799400124,\n",
       " 'simple Gaussian teams minutes': 3577.492866053828,\n",
       " 'simple Gaussian players': 3804.2608404968996}"
      ]
     },
     "execution_count": 167,
     "metadata": {},
     "output_type": "execute_result"
    }
   ],
   "source": [
    "{\n",
    "    'simple Poisson': spm_results.aic,\n",
    "    'simple Poisson teams': sptm_results.aic,\n",
    "    'simple Poisson players': sppm_results.aic,\n",
    "    'simple Poisson minutes': spmm_results.aic,\n",
    "    'simple Poisson teams minutes': sptmm_results.aic,\n",
    "    'simple Poisson players minutes': sppmm_results.aic,\n",
    "    'simple Poisson players exposure': eppmm_results.aic,\n",
    "    'simple Gaussian': sgm_results.aic,\n",
    "    'simple Gaussian teams': sgtm_results.aic,\n",
    "    'simple Gaussian teams minutes': sgtmm_results.aic,\n",
    "    'simple Gaussian players': sgpm_results.aic\n",
    "}"
   ]
  },
  {
   "cell_type": "markdown",
   "metadata": {},
   "source": [
    "AIC prefers Gaussian models, particularly simple Gaussian teams minutes"
   ]
  },
  {
   "cell_type": "code",
   "execution_count": 168,
   "metadata": {
    "ExecuteTime": {
     "end_time": "2019-03-16T16:35:01.795699Z",
     "start_time": "2019-03-16T16:35:01.781387Z"
    }
   },
   "outputs": [
    {
     "data": {
      "text/plain": [
       "{'simple Poisson': -55627.337998279516,\n",
       " 'simple Poisson teams': -55460.41346583815,\n",
       " 'simple Poisson players': -52394.63554789392,\n",
       " 'simple Poisson minutes': -55693.399346181825,\n",
       " 'simple Poisson teams minutes': -55562.22877132028,\n",
       " 'simple Poisson players minutes': -52457.866688693655,\n",
       " 'simple Poisson players exposure': -52457.00034434606,\n",
       " 'simple Gaussian': -58077.82856370101,\n",
       " 'simple Gaussian teams': -57743.55679095995,\n",
       " 'simple Gaussian teams minutes': -57742.826027469906,\n",
       " 'simple Gaussian players': -54076.254723136764}"
      ]
     },
     "execution_count": 168,
     "metadata": {},
     "output_type": "execute_result"
    }
   ],
   "source": [
    "{\n",
    "    'simple Poisson': spm_results.bic,\n",
    "    'simple Poisson teams': sptm_results.bic,\n",
    "    'simple Poisson players': sppm_results.bic,\n",
    "    'simple Poisson minutes': spmm_results.bic,\n",
    "    'simple Poisson teams minutes': sptmm_results.bic,\n",
    "    'simple Poisson players minutes': sppmm_results.bic,\n",
    "    'simple Poisson players exposure': eppmm_results.bic,    \n",
    "    'simple Gaussian': sgm_results.bic,\n",
    "    'simple Gaussian teams': sgtm_results.bic,\n",
    "    'simple Gaussian teams minutes': sgtmm_results.bic,\n",
    "    'simple Gaussian players': sgpm_results.bic\n",
    "}"
   ]
  },
  {
   "cell_type": "markdown",
   "metadata": {},
   "source": [
    "BIC prefers Gaussian models, particularly simple Gaussian"
   ]
  },
  {
   "cell_type": "code",
   "execution_count": 169,
   "metadata": {
    "ExecuteTime": {
     "end_time": "2019-03-16T16:35:24.594368Z",
     "start_time": "2019-03-16T16:35:24.580702Z"
    }
   },
   "outputs": [
    {
     "data": {
      "text/plain": [
       "{'simple Poisson': (True, 1.671410863912648e-05),\n",
       " 'simple Poisson teams': (True, 0.022029767090219976),\n",
       " 'simple Poisson players': (False, 1.0),\n",
       " 'simple Poisson minutes': (True, 0.004605590251514968),\n",
       " 'simple Poisson teams minutes': (False, 0.28194871722764203),\n",
       " 'simple Poisson players minutes': (False, 1.0),\n",
       " 'simple Poisson players exposure': (False, 1.0),\n",
       " 'simple Gaussian': (False, 1.0),\n",
       " 'simple Gaussian teams': (False, 1.0),\n",
       " 'simple Gaussian teams minutes': (False, 1.0),\n",
       " 'simple Gaussian players': (False, 1.0)}"
      ]
     },
     "execution_count": 169,
     "metadata": {},
     "output_type": "execute_result"
    }
   ],
   "source": [
    "{\n",
    "    'simple Poisson': spm_pearson_results,\n",
    "    'simple Poisson teams': sptm_pearson_results,\n",
    "    'simple Poisson players': sppm_pearson_results,\n",
    "    'simple Poisson minutes': spmm_pearson_results,\n",
    "    'simple Poisson teams minutes': sptmm_pearson_results,\n",
    "    'simple Poisson players minutes': sppmm_pearson_results,\n",
    "    'simple Poisson players exposure': eppmm_pearson_results,\n",
    "    'simple Gaussian': sgm_pearson_results,\n",
    "    'simple Gaussian teams': sgtm_pearson_results,\n",
    "    'simple Gaussian teams minutes': sgtmm_pearson_results,\n",
    "    'simple Gaussian players': sgpm_pearson_results\n",
    "}"
   ]
  },
  {
   "cell_type": "markdown",
   "metadata": {},
   "source": [
    "Gaussian models fit. Poisson minutes and player models fit."
   ]
  },
  {
   "cell_type": "code",
   "execution_count": null,
   "metadata": {},
   "outputs": [],
   "source": []
  }
 ],
 "metadata": {
  "kernelspec": {
   "display_name": "Python 3",
   "language": "python",
   "name": "python3"
  },
  "language_info": {
   "codemirror_mode": {
    "name": "ipython",
    "version": 3
   },
   "file_extension": ".py",
   "mimetype": "text/x-python",
   "name": "python",
   "nbconvert_exporter": "python",
   "pygments_lexer": "ipython3",
   "version": "3.6.7"
  },
  "toc": {
   "nav_menu": {},
   "number_sections": true,
   "sideBar": true,
   "skip_h1_title": false,
   "title_cell": "Table of Contents",
   "title_sidebar": "Contents",
   "toc_cell": false,
   "toc_position": {},
   "toc_section_display": true,
   "toc_window_display": false
  }
 },
 "nbformat": 4,
 "nbformat_minor": 2
}
